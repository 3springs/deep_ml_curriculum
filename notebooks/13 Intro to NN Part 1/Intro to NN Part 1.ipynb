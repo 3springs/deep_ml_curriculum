{
 "cells": [
  {
   "cell_type": "code",
   "execution_count": 2,
   "metadata": {
    "ExecuteTime": {
     "end_time": "2020-08-03T13:12:55.192890Z",
     "start_time": "2020-08-03T13:12:55.190010Z"
    }
   },
   "outputs": [],
   "source": [
    "from IPython.display import HTML"
   ]
  },
  {
   "cell_type": "markdown",
   "metadata": {},
   "source": [
    "# Introduction\n",
    "\n",
    "In this notebook, we will learn about unsupervised methods for clustering and dimensionality reduction.\n",
    "\n",
    "## Table of Content\n",
    "\n",
    "- [1. Deep Nueral Networks](#1)\n",
    "    - [1.1 Backpropagation](#1-1)\n",
    "    - [1.2 Important Concepts](#1-2)\n",
    "- [2. Nueral networks in Scikit-learn](#2)\n",
    "- [3. Introduction to Pytorch](#3)\n",
    "    - [3.1 Tensors](#3-1)\n",
    "    - [3.2 Operations](#3-2)\n",
    "    - [3.3 Converting Numpy arrays and Tensors](#3-3)"
   ]
  },
  {
   "cell_type": "markdown",
   "metadata": {},
   "source": [
    "<a name=\"1\"></a>\n",
    "# 1. Deep Neural Networks\n",
    "\n",
    "Artificial neural networks (ANNs), usually simply called neural networks (NNs), are computing systems vaguely inspired by the biological neural networks that constitute animal brains.\n",
    "\n",
    "An ANN is based on a collection of connected units or nodes called artificial neurons, which loosely model the neurons in a biological brain. Each connection, like the synapses in a biological brain, can transmit a signal to other neurons. An artificial neuron that receives a signal then processes it and can signal neurons connected to it. The \"signal\" at a connection is a real number, and the output of each neuron is computed by some non-linear function of the sum of its inputs. The connections are called edges. Neurons and edges typically have a weight that adjusts as learning proceeds. The weight increases or decreases the strength of the signal at a connection. Neurons may have a threshold such that a signal is sent only if the aggregate signal crosses that threshold. Typically, neurons are aggregated into layers. Different layers may perform different transformations on their inputs. Signals travel from the first layer (the input layer), to the last layer (the output layer), possibly after traversing the layers multiple times.\n",
    "\n",
    "In the example below, we can observe a neural network with 3 inputs and 2 outputs. The layers in the middle are called hidden layers. The term 'Deep' from Deep Learning is given for the number of hidden layers in a neural net.\n",
    "\n",
    "<img src='https://upload.wikimedia.org/wikipedia/commons/thumb/4/46/Colored_neural_network.svg/1920px-Colored_neural_network.svg.png' width=300 heigh=300/>\n",
    "\n",
    "Example of a simple neural network with two input units (each with a single input) and one output unit (with two inputs).\n",
    "\n",
    "<img src='https://upload.wikimedia.org/wikipedia/commons/4/42/A_simple_neural_network_with_two_input_units_and_one_output_unit.png' width=300 heigh=300/>\n",
    "\n",
    "\n",
    "\n",
    "\n",
    "The advantages of DNNs are:\n",
    "\n",
    "- Capability to learn non-linear models.\n",
    "\n",
    "- Capability to learn models in real-time (on-line learning) using partial_fit.\n",
    "\n",
    "Some disadvantages of DNNs include:\n",
    "\n",
    "- DNNs with hidden layers have a non-convex loss function where there exists more than one local minimum. Therefore different random weight initializations can lead to different validation accuracy.\n",
    "\n",
    "- DNNs requires tuning a number of hyperparameters such as the number of hidden neurons, layers, and iterations.\n",
    "\n",
    "- DNNs are sensitive to feature scaling.\n",
    "\n",
    "In the upcoming notebooks, we will learn how to overcome and deal with some of those problems.\n",
    "\n",
    "Source: [Scikit-learn](https://scikit-learn.org/stable/modules/neural_networks_supervised.html#mlp-tips), [Wikipedia](https://en.wikipedia.org/wiki/Artificial_neural_network)\n",
    "\n",
    "<a name=\"1-1\"></a>\n",
    "## 1.1 Backpropagation\n",
    "\n",
    "\n",
    "> In machine learning, backpropagation, is a widely used algorithm in training feedforward neural networks for supervised learning. Generalizations of backpropagation exist for other artificial neural networks (ANNs)... In fitting a neural network, backpropagation computes the gradient of the loss function with respect to the weights of the network for a single input–output example, and does so efficiently, unlike a naive direct computation of the gradient with respect to each weight individually. This efficiency makes it feasible to use gradient methods for training multilayer networks, updating weights to minimize loss; gradient descent, or variants such as stochastic gradient descent, are commonly used. <b>\n",
    "The backpropagation algorithm works by computing the gradient of the loss function with respect to each weight by the chain rule, computing the gradient one layer at a time, iterating backward from the last layer to avoid redundant calculations of intermediate terms in the chain rule.<b/>\n",
    "    \n",
    "<a name=\"1-2\"></a>    \n",
    "## 1.2 Important Concepts\n",
    "    \n",
    "**Optimizers:** are algorithms that updates the neural network parameters such as the weights to reduce the losses. Popular optimizers are : \n",
    "    \n",
    "- `Gradient Descent`: Gradient descent is a first-order iterative optimization algorithm for finding a local minimum of a differentiable function. To find a local minimum of a function using gradient descent, we take steps proportional to the negative of the gradient of the function at the current point.\n",
    "\n",
    "- `Stochastic Gradient Descent`: Stochastic gradient descent is an iterative method for optimizing an objective function with suitable smoothness properties. It can be regarded as a stochastic approximation of gradient descent optimization, since it replaces the actual gradient by an estimate thereof.\n",
    "    \n",
    "- `Adam`: an algorithm for first-order gradient-based optimization of stochastic objective functions, based on adaptive estimates of lower-order moments.\n",
    "Source: [Paper](https://arxiv.org/pdf/1412.6980.pdf)\n",
    "    \n",
    "The methods mentioned before are iterative processes that take steps to advance towards a solution. The step size at each iteration towards the minimum of loss is the **learning rate**.\n",
    "    \n",
    "    \n",
    "**Activation Functions:** Activation functions are important to add non-linearity into the models. This will allow the model to represent more complex data.\n",
    "    \n",
    "Source: [Activation Functions](https://en.wikipedia.org/wiki/Activation_function)\n",
    "    \n",
    "**Regularization** is the process of adding information in order to prevent overfitting.\n",
    "    \n",
    "Source: [Wikipedia](https://en.wikipedia.org/wiki/Regularization_(mathematics)#:~:text=In%20mathematics%2C%20statistics%2C%20finance%20%2C,problem%20or%20to%20prevent%20overfitting.)\n",
    "    \n",
    "    \n",
    "    \n",
    "<div class=\"alert alert-success\" style=\"font-size:100%\">\n",
    "<b>Exercise 1</b>: <br>\n",
    "In the next example, you will be able to use the tensorflow playground to test some of the concepts of neural networks.\n",
    "    \n",
    "1. Read the concepts below\n",
    "2. Explore in the iterative playground how changing some hyperparameters will affect the prediction, the number of epochs and the test loss in the output.\n",
    "    - Test different values for `learning rate` and different `activations`.\n",
    "    - Add different number of neurons for the hidden layers and compare results.\n",
    "3. Add 6 hidden layers and perform same tests from step 2. \n",
    "4. Use the `Spiral` data, and for every hidden layer (6 in total) add 8 neurons. Compare results of the test loss with and without regularization `L1` and `L2`.\n",
    "4. Add some noise and perform and repeat steps 2 to 4.\n",
    "    \n",
    "\n",
    "</div>\n"
   ]
  },
  {
   "cell_type": "code",
   "execution_count": 13,
   "metadata": {
    "ExecuteTime": {
     "end_time": "2020-08-03T13:26:38.043769Z",
     "start_time": "2020-08-03T13:26:38.039981Z"
    }
   },
   "outputs": [
    {
     "data": {
      "text/html": [
       "<iframe src=\"https://playground.tensorflow.org\" width=\"1000\" height=\"800\"></iframe>"
      ],
      "text/plain": [
       "<IPython.core.display.HTML object>"
      ]
     },
     "execution_count": 13,
     "metadata": {},
     "output_type": "execute_result"
    }
   ],
   "source": [
    "HTML('<iframe src=\"https://playground.tensorflow.org\" width=\"1000\" height=\"800\"></iframe>')"
   ]
  },
  {
   "cell_type": "markdown",
   "metadata": {},
   "source": [
    "<a name=\"2\"></a>\n",
    "# 2. Neural Networks in Scikit-learn\n",
    "Source: [MLP](https://scikit-learn.org/stable/modules/neural_networks_supervised.html)\n",
    "\n",
    "> Multi-layer Perceptron (MLP) is a supervised learning algorithm that learns a function $f(\\cdot): R^m \\rightarrow R^o$ by training on a dataset, where $m$ is the number of dimensions for input and $o$ is the number of dimensions for output. Given a set of features $X = {x_1, x_2, ..., x_m}$ and a target $y$, it can learn a non-linear function approximator for either classification or regression. It is different from logistic regression, in that between the input and the output layer, there can be one or more non-linear layers, called hidden layers.\n",
    "\n",
    "\n",
    "Let's try a classiffication problem with an MLP model. But first let's import the dataset.\n",
    "For this example, we will be using the digits dataset which contains handwritten digits."
   ]
  },
  {
   "cell_type": "code",
   "execution_count": 1,
   "metadata": {
    "ExecuteTime": {
     "end_time": "2020-08-04T10:44:45.091396Z",
     "start_time": "2020-08-04T10:44:44.187809Z"
    }
   },
   "outputs": [],
   "source": [
    "# Let's import some libraries\n",
    "from sklearn.neural_network import MLPClassifier\n",
    "from sklearn.preprocessing import MinMaxScaler\n",
    "from sklearn.model_selection import train_test_split\n",
    "from sklearn import datasets\n",
    "import matplotlib.pyplot as plt"
   ]
  },
  {
   "cell_type": "code",
   "execution_count": 2,
   "metadata": {
    "ExecuteTime": {
     "end_time": "2020-08-04T10:44:48.290360Z",
     "start_time": "2020-08-04T10:44:48.080679Z"
    }
   },
   "outputs": [
    {
     "name": "stdout",
     "output_type": "stream",
     "text": [
      "Target: 0\n"
     ]
    },
    {
     "data": {
      "image/png": "[encoded data removed]",
      "text/plain": [
       "<Figure size 216x216 with 1 Axes>"
      ]
     },
     "metadata": {
      "needs_background": "light"
     },
     "output_type": "display_data"
    }
   ],
   "source": [
    "# Load the digits dataset\n",
    "digits = datasets.load_digits()\n",
    "# Let's first see one of the images\n",
    "plt.figure(1, figsize=(3, 3))\n",
    "print(f'Target: {digits.target[0]}')\n",
    "plt.imshow(digits.images[0],cmap=plt.cm.gray_r)\n",
    "plt.show()"
   ]
  },
  {
   "cell_type": "code",
   "execution_count": 3,
   "metadata": {
    "ExecuteTime": {
     "end_time": "2020-08-04T10:44:48.889654Z",
     "start_time": "2020-08-04T10:44:48.884427Z"
    }
   },
   "outputs": [
    {
     "name": "stdout",
     "output_type": "stream",
     "text": [
      "[[ 0.  0.  5. 13.  9.  1.  0.  0.]\n",
      " [ 0.  0. 13. 15. 10. 15.  5.  0.]\n",
      " [ 0.  3. 15.  2.  0. 11.  8.  0.]\n",
      " [ 0.  4. 12.  0.  0.  8.  8.  0.]\n",
      " [ 0.  5.  8.  0.  0.  9.  8.  0.]\n",
      " [ 0.  4. 11.  0.  1. 12.  7.  0.]\n",
      " [ 0.  2. 14.  5. 10. 12.  0.  0.]\n",
      " [ 0.  0.  6. 13. 10.  0.  0.  0.]]\n",
      "No. Images: 1797\n",
      "Shape: (8, 8)\n",
      "Max value: 15.0\n",
      "Min value: 0.0\n"
     ]
    }
   ],
   "source": [
    "print(digits.images[0])\n",
    "print('No. Images:', len(digits.images))\n",
    "print('Shape:',digits.images[0].shape)\n",
    "print('Max value:',digits.images[0].max())\n",
    "print('Min value:',digits.images[0].min())"
   ]
  },
  {
   "cell_type": "markdown",
   "metadata": {},
   "source": [
    "In this dataset, we have a total of 1797 images of 8x8 pixels. The values ranges between 0 and 15. As mentioned before, one of the problems with NNs is that they are very sensitive to feature scaling. To solve this problem, we will scale the images in the range [0,1]"
   ]
  },
  {
   "cell_type": "code",
   "execution_count": 4,
   "metadata": {
    "ExecuteTime": {
     "end_time": "2020-08-04T10:44:51.540128Z",
     "start_time": "2020-08-04T10:44:51.535703Z"
    }
   },
   "outputs": [
    {
     "data": {
      "text/plain": [
       "(1797, 8, 8)"
      ]
     },
     "execution_count": 4,
     "metadata": {},
     "output_type": "execute_result"
    }
   ],
   "source": [
    "digits.images.shape"
   ]
  },
  {
   "cell_type": "markdown",
   "metadata": {},
   "source": [
    "We will use MinMaxScaler with a range of [0,1]."
   ]
  },
  {
   "cell_type": "code",
   "execution_count": 5,
   "metadata": {
    "ExecuteTime": {
     "end_time": "2020-08-04T10:44:53.312306Z",
     "start_time": "2020-08-04T10:44:53.203878Z"
    }
   },
   "outputs": [],
   "source": [
    "scaler = MinMaxScaler((0,1))\n",
    "scaler.fit(digits.images[0])\n",
    "images = [scaler.transform(image) for image in digits.images]"
   ]
  },
  {
   "cell_type": "markdown",
   "metadata": {},
   "source": [
    "Now let's check the max and min of an image to test it worked."
   ]
  },
  {
   "cell_type": "code",
   "execution_count": 6,
   "metadata": {
    "ExecuteTime": {
     "end_time": "2020-08-04T10:44:56.850868Z",
     "start_time": "2020-08-04T10:44:56.846979Z"
    }
   },
   "outputs": [
    {
     "name": "stdout",
     "output_type": "stream",
     "text": [
      "1.0\n",
      "0.0\n"
     ]
    }
   ],
   "source": [
    "print(images[0].max())\n",
    "print(images[0].min())"
   ]
  },
  {
   "cell_type": "markdown",
   "metadata": {},
   "source": [
    "Now let's separate features from the target and split them between train and test data."
   ]
  },
  {
   "cell_type": "code",
   "execution_count": 60,
   "metadata": {
    "ExecuteTime": {
     "end_time": "2020-08-04T04:03:06.086360Z",
     "start_time": "2020-08-04T04:03:06.081504Z"
    }
   },
   "outputs": [],
   "source": [
    "X = np.array(images)\n",
    "y = digits.target"
   ]
  },
  {
   "cell_type": "code",
   "execution_count": 71,
   "metadata": {
    "ExecuteTime": {
     "end_time": "2020-08-04T04:14:40.201110Z",
     "start_time": "2020-08-04T04:14:40.197852Z"
    }
   },
   "outputs": [
    {
     "name": "stdout",
     "output_type": "stream",
     "text": [
      "(1797, 8, 8)\n"
     ]
    }
   ],
   "source": [
    "print(X.shape)"
   ]
  },
  {
   "cell_type": "markdown",
   "metadata": {},
   "source": [
    "Currently `X` has 3 dimensions. However, `MLPClassifier` only accepts arrays with 1 or 2 dimensions. We will need to reshape `X` to have only 2 dimensions."
   ]
  },
  {
   "cell_type": "code",
   "execution_count": 74,
   "metadata": {
    "ExecuteTime": {
     "end_time": "2020-08-04T04:27:14.677367Z",
     "start_time": "2020-08-04T04:27:14.672404Z"
    }
   },
   "outputs": [
    {
     "data": {
      "text/plain": [
       "(1797, 64)"
      ]
     },
     "execution_count": 74,
     "metadata": {},
     "output_type": "execute_result"
    }
   ],
   "source": [
    "# Let's flatten one dimension\n",
    "X = np.resize(X, (X.shape[0], 8*8))\n",
    "X.shape"
   ]
  },
  {
   "cell_type": "code",
   "execution_count": 75,
   "metadata": {
    "ExecuteTime": {
     "end_time": "2020-08-04T04:27:16.636780Z",
     "start_time": "2020-08-04T04:27:16.632554Z"
    }
   },
   "outputs": [],
   "source": [
    "X_train, X_test, y_train, y_test = train_test_split(X, y, test_size=0.3, random_state=2020)"
   ]
  },
  {
   "cell_type": "markdown",
   "metadata": {
    "ExecuteTime": {
     "end_time": "2020-08-04T04:06:12.314139Z",
     "start_time": "2020-08-04T04:06:12.309659Z"
    }
   },
   "source": [
    "Now let's pick some hyperparameters before the training."
   ]
  },
  {
   "cell_type": "code",
   "execution_count": 84,
   "metadata": {
    "ExecuteTime": {
     "end_time": "2020-08-04T04:32:08.959617Z",
     "start_time": "2020-08-04T04:32:08.955729Z"
    }
   },
   "outputs": [],
   "source": [
    "# Learning rate is by default 0.001, we will use the default value\n",
    "def train(X_train, y_train, hidden_layers, activation):\n",
    "    clf = MLPClassifier(hidden_layer_sizes=hidden_layers,\n",
    "                    activation=activation,\n",
    "                    solver=solver,\n",
    "                    random_state=2020, \n",
    "                    max_iter=100).fit(X_train, y_train)\n",
    "    return clf"
   ]
  },
  {
   "cell_type": "code",
   "execution_count": 89,
   "metadata": {
    "ExecuteTime": {
     "end_time": "2020-08-04T04:36:03.851171Z",
     "start_time": "2020-08-04T04:36:03.596069Z"
    }
   },
   "outputs": [
    {
     "name": "stderr",
     "output_type": "stream",
     "text": [
      "/usr/local/lib/python3.6/site-packages/sklearn/neural_network/_multilayer_perceptron.py:571: ConvergenceWarning: Stochastic Optimizer: Maximum iterations (100) reached and the optimization hasn't converged yet.\n",
      "  % self.max_iter, ConvergenceWarning)\n"
     ]
    },
    {
     "data": {
      "text/plain": [
       "0.2833333333333333"
      ]
     },
     "execution_count": 89,
     "metadata": {},
     "output_type": "execute_result"
    }
   ],
   "source": [
    "hidden_layers = 2\n",
    "activation = 'relu' # ReLU\n",
    "solver = 'sgd' # Stochastic Gradient Descent\n",
    "\n",
    "# Let's train the model using our custom hyperparameters\n",
    "clf = train(X_train, y_train, hidden_layers, activation)\n",
    "# Let's evaluate the accuracy of the model using the test data\n",
    "clf.score(X_test, y_test)"
   ]
  },
  {
   "cell_type": "markdown",
   "metadata": {},
   "source": [
    "We got an accuracy of 28.3%, which is not really great. Let's try again and train a model changing the number of hidden layers to 10."
   ]
  },
  {
   "cell_type": "code",
   "execution_count": 93,
   "metadata": {
    "ExecuteTime": {
     "end_time": "2020-08-04T04:36:18.413552Z",
     "start_time": "2020-08-04T04:36:18.136416Z"
    }
   },
   "outputs": [
    {
     "name": "stderr",
     "output_type": "stream",
     "text": [
      "/usr/local/lib/python3.6/site-packages/sklearn/neural_network/_multilayer_perceptron.py:571: ConvergenceWarning: Stochastic Optimizer: Maximum iterations (100) reached and the optimization hasn't converged yet.\n",
      "  % self.max_iter, ConvergenceWarning)\n"
     ]
    },
    {
     "data": {
      "text/plain": [
       "0.7148148148148148"
      ]
     },
     "execution_count": 93,
     "metadata": {},
     "output_type": "execute_result"
    }
   ],
   "source": [
    "hidden_layers = 10\n",
    "\n",
    "# Let's train the model using our custom hyperparameters\n",
    "clf = train(X_train, y_train, hidden_layers, activation)\n",
    "# Let's evaluate the accuracy of the model using the test data\n",
    "clf.score(X_test, y_test)"
   ]
  },
  {
   "cell_type": "markdown",
   "metadata": {
    "ExecuteTime": {
     "end_time": "2020-08-04T04:37:17.737936Z",
     "start_time": "2020-08-04T04:37:17.733227Z"
    }
   },
   "source": [
    "With 10 hidden layers our model's accuracy improved significantly from 28.3% to 71.48%. Much better than before !\n",
    "\n",
    "The more hidden layers a Neural Networks has, it is say that the model is \"Deeper\". Usually deeper models achieve better accuracy, however they are also more prompt to overfitting and regularization techniques are needed to avoid that. The interest of researchers to create models with more layers is what helped created the term \"Deep Learning\"."
   ]
  },
  {
   "cell_type": "markdown",
   "metadata": {
    "ExecuteTime": {
     "end_time": "2020-08-04T04:39:18.918375Z",
     "start_time": "2020-08-04T04:39:18.913922Z"
    }
   },
   "source": [
    "<div class=\"alert alert-success\" style=\"font-size:100%\">\n",
    "<b>Exercise 2</b>: <br>\n",
    "Create a function to test all possible combinations of the hyperparameters below and compare the accuracy to select the best hyperparameters. The process of selecting the best hyperparameters is also called hyperparameter optimisation. We will talk more about it in the coming lessons.\n",
    "\n",
    "`Hidden Layers`: 2,4,6,8,10 <br/>\n",
    "`Activation`: identity, logistic, tanh, relu <br/>\n",
    "`Solver`: lbfgs, sgd, adam <br/>\n",
    "</div>\n"
   ]
  },
  {
   "cell_type": "markdown",
   "metadata": {},
   "source": [
    "Now we will build the same model using Pytorch ! "
   ]
  },
  {
   "cell_type": "markdown",
   "metadata": {},
   "source": [
    "<a name=\"3\"></a>\n",
    "# 3. Introduction to Pytorch\n",
    "\n",
    "PyTorch is an open source machine learning library based on the Torch library, used for applications such as computer vision and natural language processing, primarily developed by Facebook's AI Research lab (FAIR).\n",
    "\n",
    "A number of pieces of Deep Learning software are built on top of PyTorch, including `Tesla Autopilot`, `Uber's Pyro`, `HuggingFace's Transformers`, `PyTorch Lightning`, and `Catalyst`.\n",
    "\n",
    "\n",
    "According to the [Pytorch's official website](https://pytorch.org/tutorials/beginner/blitz/tensor_tutorial.html#sphx-glr-beginner-blitz-tensor-tutorial-py) Pytorch is:\n",
    "\n",
    "> It’s a Python-based scientific computing package targeted at two sets of audiences:\n",
    "- A replacement for NumPy to use the power of GPUs\n",
    "- A deep learning research platform that provides maximum flexibility and speed\n",
    "\n",
    "\n",
    "We will refer to the equivalent of Numpy arrays as tensors when using Pytorch.\n",
    "\n",
    "Source: [Pytorch](https://pytorch.org/tutorials/beginner/blitz/tensor_tutorial.html#sphx-glr-beginner-blitz-tensor-tutorial-py)"
   ]
  },
  {
   "cell_type": "markdown",
   "metadata": {},
   "source": [
    "<a name=\"3-1\"></a>\n",
    "## 3.1 Tensors"
   ]
  },
  {
   "cell_type": "code",
   "execution_count": 1,
   "metadata": {
    "ExecuteTime": {
     "end_time": "2020-08-04T05:09:23.144577Z",
     "start_time": "2020-08-04T05:09:22.916906Z"
    }
   },
   "outputs": [
    {
     "name": "stdout",
     "output_type": "stream",
     "text": [
      "tensor([[0.8945, 0.3264, 0.0615],\n",
      "        [0.9903, 0.3813, 0.8465],\n",
      "        [0.8480, 0.8963, 0.4754],\n",
      "        [0.8428, 0.5518, 0.7661],\n",
      "        [0.3207, 0.1341, 0.2581]])\n"
     ]
    }
   ],
   "source": [
    "# Let's import pytorch library\n",
    "import torch\n",
    "# Let's create a random tensor with size [5,3]\n",
    "x = torch.rand(5, 3)\n",
    "print(x)"
   ]
  },
  {
   "cell_type": "markdown",
   "metadata": {},
   "source": [
    "Construct a tensor directly from data:"
   ]
  },
  {
   "cell_type": "code",
   "execution_count": 2,
   "metadata": {
    "ExecuteTime": {
     "end_time": "2020-08-04T05:20:20.202623Z",
     "start_time": "2020-08-04T05:20:20.198227Z"
    }
   },
   "outputs": [
    {
     "name": "stdout",
     "output_type": "stream",
     "text": [
      "tensor([5.5000, 3.0000])\n"
     ]
    }
   ],
   "source": [
    "x = torch.tensor([5.5, 3])\n",
    "print(x)"
   ]
  },
  {
   "cell_type": "markdown",
   "metadata": {},
   "source": [
    "Now let's creste a random tensor with the same size as the last one."
   ]
  },
  {
   "cell_type": "code",
   "execution_count": 4,
   "metadata": {
    "ExecuteTime": {
     "end_time": "2020-08-04T05:21:42.555520Z",
     "start_time": "2020-08-04T05:21:42.551259Z"
    }
   },
   "outputs": [
    {
     "name": "stdout",
     "output_type": "stream",
     "text": [
      "tensor([-0.0011,  0.3041])\n"
     ]
    }
   ],
   "source": [
    "x = torch.randn_like(x, dtype=torch.float)    # override dtype!\n",
    "print(x)                                      # result has the same size"
   ]
  },
  {
   "cell_type": "code",
   "execution_count": 5,
   "metadata": {
    "ExecuteTime": {
     "end_time": "2020-08-04T05:21:55.126994Z",
     "start_time": "2020-08-04T05:21:55.123648Z"
    }
   },
   "outputs": [
    {
     "name": "stdout",
     "output_type": "stream",
     "text": [
      "torch.Size([2])\n"
     ]
    }
   ],
   "source": [
    "print(x.size())"
   ]
  },
  {
   "cell_type": "markdown",
   "metadata": {
    "ExecuteTime": {
     "end_time": "2020-08-04T05:22:25.816358Z",
     "start_time": "2020-08-04T05:22:25.813680Z"
    }
   },
   "source": [
    "<a name=\"3-2\"></a>\n",
    "## 3.2 Operations"
   ]
  },
  {
   "cell_type": "markdown",
   "metadata": {},
   "source": [
    "Let's take look at the addition operation"
   ]
  },
  {
   "cell_type": "code",
   "execution_count": 9,
   "metadata": {
    "ExecuteTime": {
     "end_time": "2020-08-04T05:28:58.013813Z",
     "start_time": "2020-08-04T05:28:58.008847Z"
    }
   },
   "outputs": [
    {
     "name": "stdout",
     "output_type": "stream",
     "text": [
      "tensor([-0.0011,  0.3041]) tensor([0.5751, 0.1367])\n"
     ]
    }
   ],
   "source": [
    "x2 = torch.rand(2)\n",
    "print(x, x2)"
   ]
  },
  {
   "cell_type": "code",
   "execution_count": 10,
   "metadata": {
    "ExecuteTime": {
     "end_time": "2020-08-04T05:29:02.871326Z",
     "start_time": "2020-08-04T05:29:02.866472Z"
    }
   },
   "outputs": [
    {
     "data": {
      "text/plain": [
       "tensor([0.5740, 0.4408])"
      ]
     },
     "execution_count": 10,
     "metadata": {},
     "output_type": "execute_result"
    }
   ],
   "source": [
    "x2 + x"
   ]
  },
  {
   "cell_type": "markdown",
   "metadata": {},
   "source": [
    "you can use a different syntax for addition:"
   ]
  },
  {
   "cell_type": "code",
   "execution_count": 11,
   "metadata": {
    "ExecuteTime": {
     "end_time": "2020-08-04T05:29:45.371978Z",
     "start_time": "2020-08-04T05:29:45.367689Z"
    }
   },
   "outputs": [
    {
     "name": "stdout",
     "output_type": "stream",
     "text": [
      "tensor([0.5740, 0.4408])\n"
     ]
    }
   ],
   "source": [
    "print(torch.add(x, x2))"
   ]
  },
  {
   "cell_type": "code",
   "execution_count": 12,
   "metadata": {
    "ExecuteTime": {
     "end_time": "2020-08-04T05:30:41.032859Z",
     "start_time": "2020-08-04T05:30:41.027050Z"
    }
   },
   "outputs": [
    {
     "name": "stdout",
     "output_type": "stream",
     "text": [
      "tensor([-0.0006,  0.0416])\n",
      "tensor([-0.5762,  0.1674])\n",
      "tensor([-1.8706e-03,  2.2241e+00])\n"
     ]
    }
   ],
   "source": [
    "print(x * x2)\n",
    "print(x - x2)\n",
    "print(x / x2)"
   ]
  },
  {
   "cell_type": "markdown",
   "metadata": {},
   "source": [
    "<a name=\"3-3\"></a>\n",
    "## 3.3 Converting Numpy Arrays and Tensors"
   ]
  },
  {
   "cell_type": "markdown",
   "metadata": {},
   "source": [
    "First let's convert a Pytorch tensor to a numpy array"
   ]
  },
  {
   "cell_type": "code",
   "execution_count": 20,
   "metadata": {
    "ExecuteTime": {
     "end_time": "2020-08-04T05:34:27.187171Z",
     "start_time": "2020-08-04T05:34:27.182677Z"
    }
   },
   "outputs": [
    {
     "name": "stdout",
     "output_type": "stream",
     "text": [
      "tensor([1., 1., 1., 1., 1.])\n",
      "<class 'torch.Tensor'>\n"
     ]
    }
   ],
   "source": [
    "a = torch.ones(5)\n",
    "print(a)\n",
    "print(type(a))"
   ]
  },
  {
   "cell_type": "code",
   "execution_count": 21,
   "metadata": {
    "ExecuteTime": {
     "end_time": "2020-08-04T05:34:27.902938Z",
     "start_time": "2020-08-04T05:34:27.898876Z"
    }
   },
   "outputs": [
    {
     "name": "stdout",
     "output_type": "stream",
     "text": [
      "[1. 1. 1. 1. 1.]\n",
      "<class 'numpy.ndarray'>\n"
     ]
    }
   ],
   "source": [
    "b = a.numpy()\n",
    "print(b)\n",
    "print(type(b))"
   ]
  },
  {
   "cell_type": "markdown",
   "metadata": {},
   "source": [
    "See how the numpy array changed in value."
   ]
  },
  {
   "cell_type": "code",
   "execution_count": 23,
   "metadata": {
    "ExecuteTime": {
     "end_time": "2020-08-04T05:34:33.784293Z",
     "start_time": "2020-08-04T05:34:33.779014Z"
    }
   },
   "outputs": [
    {
     "name": "stdout",
     "output_type": "stream",
     "text": [
      "tensor([3., 3., 3., 3., 3.])\n",
      "[3. 3. 3. 3. 3.]\n"
     ]
    }
   ],
   "source": [
    "a.add_(1) # In-place adding\n",
    "print(a)\n",
    "print(b)"
   ]
  },
  {
   "cell_type": "markdown",
   "metadata": {
    "ExecuteTime": {
     "end_time": "2020-08-04T05:35:16.877532Z",
     "start_time": "2020-08-04T05:35:16.873727Z"
    }
   },
   "source": [
    "Now let's try to convert a numpy array to a tensor"
   ]
  },
  {
   "cell_type": "code",
   "execution_count": 25,
   "metadata": {
    "ExecuteTime": {
     "end_time": "2020-08-04T05:38:01.742337Z",
     "start_time": "2020-08-04T05:38:01.736323Z"
    }
   },
   "outputs": [
    {
     "name": "stdout",
     "output_type": "stream",
     "text": [
      "[2. 2. 2. 2. 2.]\n",
      "tensor([2., 2., 2., 2., 2.], dtype=torch.float64)\n"
     ]
    }
   ],
   "source": [
    "import numpy as np\n",
    "a = np.ones(5)\n",
    "b = torch.from_numpy(a)\n",
    "np.add(a, 1, out=a)\n",
    "print(a)\n",
    "print(b)"
   ]
  },
  {
   "cell_type": "markdown",
   "metadata": {},
   "source": [
    "So far we have learnt the basics about Neural Networks and how to implement one NN for classification using Scikit-learn.\n",
    "We also introduced Pytorch and some basic operations with tensors. In the next lesson, we will dive deeper into the some important and concep"
   ]
  },
  {
   "cell_type": "markdown",
   "metadata": {},
   "source": [
    "# References and further reading\n",
    "\n",
    "[Artificial Neural Networks](https://en.wikipedia.org/wiki/Artificial_neural_network)\n",
    "\n",
    "[Pytorch](https://pytorch.org/)\n",
    "\n",
    "[NN Playground](https://playground.tensorflow.org/)\n",
    "\n",
    "[Multi-layered perceptron](https://scikit-learn.org/stable/modules/neural_networks_supervised.html)"
   ]
  },
  {
   "cell_type": "code",
   "execution_count": null,
   "metadata": {},
   "outputs": [],
   "source": []
  }
 ],
 "metadata": {
  "kernelspec": {
   "display_name": "Python 3",
   "language": "python",
   "name": "python3"
  },
  "language_info": {
   "codemirror_mode": {
    "name": "ipython",
    "version": 3
   },
   "file_extension": ".py",
   "mimetype": "text/x-python",
   "name": "python",
   "nbconvert_exporter": "python",
   "pygments_lexer": "ipython3",
   "version": "3.6.5"
  },
  "varInspector": {
   "cols": {
    "lenName": 16,
    "lenType": 16,
    "lenVar": 40
   },
   "kernels_config": {
    "python": {
     "delete_cmd_postfix": "",
     "delete_cmd_prefix": "del ",
     "library": "var_list.py",
     "varRefreshCmd": "print(var_dic_list())"
    },
    "r": {
     "delete_cmd_postfix": ") ",
     "delete_cmd_prefix": "rm(",
     "library": "var_list.r",
     "varRefreshCmd": "cat(var_dic_list()) "
    }
   },
   "types_to_exclude": [
    "module",
    "function",
    "builtin_function_or_method",
    "instance",
    "_Feature"
   ],
   "window_display": false
  }
 },
 "nbformat": 4,
 "nbformat_minor": 4
}
