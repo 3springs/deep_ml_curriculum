{
 "cells": [
  {
   "cell_type": "markdown",
   "metadata": {},
   "source": [
    "# Tabular Data and embeddings\n",
    "\n",
    "When we talk about tabular data we mean any data that can be put in a table or dataframe. \n",
    "\n",
    "The table will have rows and columns. Each row shows an instance of data (aka a data point) and each column is a feature of the data. Usually at least one of the columns would be the target value. If the target is a continuous variable, then the problem is a regression, and if it is a discrete variable or categorical variable the problem is a classification.\n",
    "\n",
    "A neural network is very well suited for this type of problems, whether it is a classification or a regression problem. \n"
   ]
  },
  {
   "cell_type": "code",
   "execution_count": 1,
   "metadata": {
    "ExecuteTime": {
     "end_time": "2020-10-04T07:26:44.290400Z",
     "start_time": "2020-10-04T07:26:42.453599Z"
    }
   },
   "outputs": [],
   "source": [
    "import numpy as np\n",
    "import pandas as pd\n",
    "import matplotlib.pyplot as plt\n",
    "import torch\n",
    "from tqdm.auto import tqdm\n",
    "from torch import nn, optim\n",
    "from sklearn import metrics, preprocessing, model_selection"
   ]
  },
  {
   "cell_type": "markdown",
   "metadata": {},
   "source": [
    "\n",
    "<h2>Different views of the data</h2>\n",
    "\n",
    "There are different ways of thinking about the data. \n",
    "\n",
    "<details><summary>View: Data/Table</summary>   \n",
    "    This is the raw data, annotated with named from domain exports\n",
    "    <table border=\"1\" class=\"dataframe\">\n",
    "        <thead>\n",
    "        <tr style=\"text-align: right;\">\n",
    "            <th></th>\n",
    "            <th></th>\n",
    "            <th>LITHOLOGY_GEOLINK</th>\n",
    "            <th>CALI</th>\n",
    "            <th>RHOB</th>\n",
    "            <th>GR</th>\n",
    "            <th>DTC</th>\n",
    "            <th>RDEP</th>\n",
    "            <th>RMED</th>\n",
    "        </tr>\n",
    "        <tr>\n",
    "            <th>Well</th>\n",
    "            <th>DEPT</th>\n",
    "            <th></th>\n",
    "            <th></th>\n",
    "            <th></th>\n",
    "            <th></th>\n",
    "            <th></th>\n",
    "            <th></th>\n",
    "            <th></th>\n",
    "        </tr>\n",
    "        </thead>\n",
    "        <tbody>\n",
    "        <tr>\n",
    "            <th rowspan=\"5\" valign=\"top\">15_9-12</th>\n",
    "            <th>2215.917725</th>\n",
    "            <td>Shaly Silt</td>\n",
    "            <td>14.438001</td>\n",
    "            <td>2.363000</td>\n",
    "            <td>60.285748</td>\n",
    "            <td>134.253601</td>\n",
    "            <td>0.737006</td>\n",
    "            <td>0.785088</td>\n",
    "        </tr>\n",
    "        <tr>\n",
    "            <th>2217.441650</th>\n",
    "            <td>Shaly Silt</td>\n",
    "            <td>13.289000</td>\n",
    "            <td>2.205000</td>\n",
    "            <td>74.750000</td>\n",
    "            <td>136.056320</td>\n",
    "            <td>0.546000</td>\n",
    "            <td>0.629000</td>\n",
    "        </tr>\n",
    "        <tr>\n",
    "            <th>2218.965820</th>\n",
    "            <td>Silt</td>\n",
    "            <td>13.563000</td>\n",
    "            <td>2.367000</td>\n",
    "            <td>52.008564</td>\n",
    "            <td>85.576859</td>\n",
    "            <td>0.719976</td>\n",
    "            <td>0.955128</td>\n",
    "        </tr>\n",
    "        <tr>\n",
    "            <th>2220.489746</th>\n",
    "            <td>Shaly Silt</td>\n",
    "            <td>14.367000</td>\n",
    "            <td>2.094000</td>\n",
    "            <td>62.634117</td>\n",
    "            <td>121.813324</td>\n",
    "            <td>0.544992</td>\n",
    "            <td>0.866769</td>\n",
    "        </tr>\n",
    "        <tr>\n",
    "            <th>2222.013672</th>\n",
    "            <td>Silt</td>\n",
    "            <td>12.890999</td>\n",
    "            <td>2.031000</td>\n",
    "            <td>63.438000</td>\n",
    "            <td>120.762360</td>\n",
    "            <td>0.501000</td>\n",
    "            <td>0.629000</td>\n",
    "        </tr>\n",
    "        <tr>\n",
    "            <th>...</th>\n",
    "            <th>...</th>\n",
    "            <td>...</td>\n",
    "            <td>...</td>\n",
    "            <td>...</td>\n",
    "            <td>...</td>\n",
    "            <td>...</td>\n",
    "            <td>...</td>\n",
    "            <td>...</td>\n",
    "        </tr>\n",
    "        <tr>\n",
    "            <th rowspan=\"5\" valign=\"top\">7_3-1</th>\n",
    "            <th>4562.447754</th>\n",
    "            <td>Silt</td>\n",
    "            <td>8.529000</td>\n",
    "            <td>2.640844</td>\n",
    "            <td>46.014000</td>\n",
    "            <td>63.905121</td>\n",
    "            <td>6.474000</td>\n",
    "            <td>6.497000</td>\n",
    "        </tr>\n",
    "        <tr>\n",
    "            <th>4563.971680</th>\n",
    "            <td>Shaly Silt</td>\n",
    "            <td>8.519000</td>\n",
    "            <td>2.686344</td>\n",
    "            <td>56.035999</td>\n",
    "            <td>64.224541</td>\n",
    "            <td>6.472000</td>\n",
    "            <td>6.826000</td>\n",
    "        </tr>\n",
    "        <tr>\n",
    "            <th>4565.495606</th>\n",
    "            <td>Silt</td>\n",
    "            <td>8.531000</td>\n",
    "            <td>2.647463</td>\n",
    "            <td>48.896000</td>\n",
    "            <td>63.928082</td>\n",
    "            <td>6.576000</td>\n",
    "            <td>6.703000</td>\n",
    "        </tr>\n",
    "        <tr>\n",
    "            <th>4567.019531</th>\n",
    "            <td>Cross Bedded Sst</td>\n",
    "            <td>8.558000</td>\n",
    "            <td>2.603112</td>\n",
    "            <td>48.154999</td>\n",
    "            <td>63.587570</td>\n",
    "            <td>6.640000</td>\n",
    "            <td>6.840055</td>\n",
    "        </tr>\n",
    "        <tr>\n",
    "            <th>4568.543457</th>\n",
    "            <td>Cross Bedded Sst</td>\n",
    "            <td>8.554000</td>\n",
    "            <td>2.672047</td>\n",
    "            <td>48.098000</td>\n",
    "            <td>63.973488</td>\n",
    "            <td>7.064000</td>\n",
    "            <td>7.165359</td>\n",
    "        </tr>\n",
    "        </tbody>\n",
    "    </table>\n",
    "    <p>119227 rows × 7 columns</p>\n",
    " \n",
    "</details>\n",
    "\n",
    "<details>\n",
    "    <summary>View: Programming</summary>\n",
    "    The data can be thought of in terms of data types. You can see this by going `df.info()`\n",
    "    <table border=\"1\" class=\"dataframe\">\n",
    "        <thead>\n",
    "            <tr style=\"text-align: center; color:red\">\n",
    "                <th></th>\n",
    "                <th></th>\n",
    "                <th>pd.Categorical</th>\n",
    "                <th colspan=\"6\">np.Float32</th>\n",
    "            </tr>\n",
    "            <tr style=\"text-align: center;\">\n",
    "            <th style=\"color: red;\" colspan=\"2\">pd.MultiIndex([str, float])</th>\n",
    "            <th></th>\n",
    "            <th>CALI</th>\n",
    "            <th>RHOB</th>\n",
    "            <th>GR</th>\n",
    "            <th>DTC</th>\n",
    "            <th>RDEP</th>\n",
    "            <th>RMED</th>\n",
    "            </tr>\n",
    "            <tr>\n",
    "            <th>Well</th>\n",
    "            <th>DEPT</th>\n",
    "            <th></th>\n",
    "            <th></th>\n",
    "            <th></th>\n",
    "            <th></th>\n",
    "            <th></th>\n",
    "            <th></th>\n",
    "            <th></th>\n",
    "            </tr>\n",
    "        </thead>\n",
    "        <tbody>\n",
    "            <tr>\n",
    "            <th rowspan=\"5\" valign=\"top\">15_9-12</th>\n",
    "            <th>2215.917725</th>\n",
    "            <td>Shaly Silt</td>\n",
    "            <td>14.438001</td>\n",
    "            <td>2.363000</td>\n",
    "            <td>60.285748</td>\n",
    "            <td>134.253601</td>\n",
    "            <td>0.737006</td>\n",
    "            <td>0.785088</td>\n",
    "            </tr>\n",
    "            <tr>\n",
    "            <th>2217.441650</th>\n",
    "            <td>Shaly Silt</td>\n",
    "            <td>13.289000</td>\n",
    "            <td>2.205000</td>\n",
    "            <td>74.750000</td>\n",
    "            <td>136.056320</td>\n",
    "            <td>0.546000</td>\n",
    "            <td>0.629000</td>\n",
    "            </tr>\n",
    "            <tr>\n",
    "            <th>2218.965820</th>\n",
    "            <td>Silt</td>\n",
    "            <td>13.563000</td>\n",
    "            <td>2.367000</td>\n",
    "            <td>52.008564</td>\n",
    "            <td>85.576859</td>\n",
    "            <td>0.719976</td>\n",
    "            <td>0.955128</td>\n",
    "            </tr>\n",
    "            <tr>\n",
    "            <th>2220.489746</th>\n",
    "            <td>Shaly Silt</td>\n",
    "            <td>14.367000</td>\n",
    "            <td>2.094000</td>\n",
    "            <td>62.634117</td>\n",
    "            <td>121.813324</td>\n",
    "            <td>0.544992</td>\n",
    "            <td>0.866769</td>\n",
    "            </tr>\n",
    "            <tr>\n",
    "            <th>2222.013672</th>\n",
    "            <td>Silt</td>\n",
    "            <td>12.890999</td>\n",
    "            <td>2.031000</td>\n",
    "            <td>63.438000</td>\n",
    "            <td>120.762360</td>\n",
    "            <td>0.501000</td>\n",
    "            <td>0.629000</td>\n",
    "            </tr>\n",
    "            <tr>\n",
    "            <th>...</th>\n",
    "            <th>...</th>\n",
    "            <td>...</td>\n",
    "            <td>...</td>\n",
    "            <td>...</td>\n",
    "            <td>...</td>\n",
    "            <td>...</td>\n",
    "            <td>...</td>\n",
    "            <td>...</td>\n",
    "            </tr>\n",
    "            <tr>\n",
    "            <th rowspan=\"5\" valign=\"top\">7_3-1</th>\n",
    "            <th>4562.447754</th>\n",
    "            <td>Silt</td>\n",
    "            <td>8.529000</td>\n",
    "            <td>2.640844</td>\n",
    "            <td>46.014000</td>\n",
    "            <td>63.905121</td>\n",
    "            <td>6.474000</td>\n",
    "            <td>6.497000</td>\n",
    "            </tr>\n",
    "            <tr>\n",
    "            <th>4563.971680</th>\n",
    "            <td>Shaly Silt</td>\n",
    "            <td>8.519000</td>\n",
    "            <td>2.686344</td>\n",
    "            <td>56.035999</td>\n",
    "            <td>64.224541</td>\n",
    "            <td>6.472000</td>\n",
    "            <td>6.826000</td>\n",
    "            </tr>\n",
    "            <tr>\n",
    "            <th>4565.495606</th>\n",
    "            <td>Silt</td>\n",
    "            <td>8.531000</td>\n",
    "            <td>2.647463</td>\n",
    "            <td>48.896000</td>\n",
    "            <td>63.928082</td>\n",
    "            <td>6.576000</td>\n",
    "            <td>6.703000</td>\n",
    "            </tr>\n",
    "            <tr>\n",
    "            <th>4567.019531</th>\n",
    "            <td>Cross Bedded Sst</td>\n",
    "            <td>8.558000</td>\n",
    "            <td>2.603112</td>\n",
    "            <td>48.154999</td>\n",
    "            <td>63.587570</td>\n",
    "            <td>6.640000</td>\n",
    "            <td>6.840055</td>\n",
    "            </tr>\n",
    "            <tr>\n",
    "            <th>4568.543457</th>\n",
    "            <td>Cross Bedded Sst</td>\n",
    "            <td>8.554000</td>\n",
    "            <td>2.672047</td>\n",
    "            <td>48.098000</td>\n",
    "            <td>63.973488</td>\n",
    "            <td>7.064000</td>\n",
    "            <td>7.165359</td>\n",
    "            </tr>\n",
    "        </tbody>\n",
    "        </table>\n",
    "    <p>119227 rows × 7 columns</p>\n",
    "    </div>\n",
    "</details>\n",
    "\n",
    "<details>\n",
    "    <summary>View: Data Science</summary>\n",
    "    If Data Science and Machine learning we often think in terms of Inputs and Outputs (or Labels or Targets). We also consider if the class if continuous or categorical. This leads to very powerful solutions, but we have ignored some of the domain details like geology, relative location, etc.\n",
    "    <div>\n",
    "    <table border=\"1\" class=\"dataframe\">\n",
    "        <thead>\n",
    "        <tr style=\"text-align: center; color: red\">\n",
    "            <th></th>\n",
    "            <th></th>\n",
    "            <th>Outputs: Categorical</th>\n",
    "            <th colspan=\"6\">Input: Continuous</th>\n",
    "            </tr>\n",
    "        <tr style=\"text-align: center;\">\n",
    "            <th style=\"color: red;\" colspan=\"2\">Conditional Variables</th>\n",
    "            <th></th>\n",
    "            <th>CALI</th>\n",
    "            <th>RHOB</th>\n",
    "            <th>GR</th>\n",
    "            <th>DTC</th>\n",
    "            <th>RDEP</th>\n",
    "            <th>RMED</th>\n",
    "        </tr>\n",
    "        <tr>\n",
    "            <th>Well</th>\n",
    "            <th>DEPT</th>\n",
    "            <th></th>\n",
    "            <th></th>\n",
    "            <th></th>\n",
    "            <th></th>\n",
    "            <th></th>\n",
    "            <th></th>\n",
    "            <th></th>\n",
    "        </tr>\n",
    "        </thead>\n",
    "        <tbody>\n",
    "        <tr>\n",
    "            <th rowspan=\"5\" valign=\"top\">15_9-12</th>\n",
    "            <th>2215.917725</th>\n",
    "            <td>Shaly Silt</td>\n",
    "            <td>14.438001</td>\n",
    "            <td>2.363000</td>\n",
    "            <td>60.285748</td>\n",
    "            <td>134.253601</td>\n",
    "            <td>0.737006</td>\n",
    "            <td>0.785088</td>\n",
    "        </tr>\n",
    "        <tr>\n",
    "            <th>2217.441650</th>\n",
    "            <td>Shaly Silt</td>\n",
    "            <td>13.289000</td>\n",
    "            <td>2.205000</td>\n",
    "            <td>74.750000</td>\n",
    "            <td>136.056320</td>\n",
    "            <td>0.546000</td>\n",
    "            <td>0.629000</td>\n",
    "        </tr>\n",
    "        <tr>\n",
    "            <th>2218.965820</th>\n",
    "            <td>Silt</td>\n",
    "            <td>13.563000</td>\n",
    "            <td>2.367000</td>\n",
    "            <td>52.008564</td>\n",
    "            <td>85.576859</td>\n",
    "            <td>0.719976</td>\n",
    "            <td>0.955128</td>\n",
    "        </tr>\n",
    "        <tr>\n",
    "            <th>2220.489746</th>\n",
    "            <td>Shaly Silt</td>\n",
    "            <td>14.367000</td>\n",
    "            <td>2.094000</td>\n",
    "            <td>62.634117</td>\n",
    "            <td>121.813324</td>\n",
    "            <td>0.544992</td>\n",
    "            <td>0.866769</td>\n",
    "        </tr>\n",
    "        <tr>\n",
    "            <th>2222.013672</th>\n",
    "            <td>Silt</td>\n",
    "            <td>12.890999</td>\n",
    "            <td>2.031000</td>\n",
    "            <td>63.438000</td>\n",
    "            <td>120.762360</td>\n",
    "            <td>0.501000</td>\n",
    "            <td>0.629000</td>\n",
    "        </tr>\n",
    "        <tr>\n",
    "            <th>...</th>\n",
    "            <th>...</th>\n",
    "            <td>...</td>\n",
    "            <td>...</td>\n",
    "            <td>...</td>\n",
    "            <td>...</td>\n",
    "            <td>...</td>\n",
    "            <td>...</td>\n",
    "            <td>...</td>\n",
    "        </tr>\n",
    "        <tr>\n",
    "            <th rowspan=\"5\" valign=\"top\">7_3-1</th>\n",
    "            <th>4562.447754</th>\n",
    "            <td>Silt</td>\n",
    "            <td>8.529000</td>\n",
    "            <td>2.640844</td>\n",
    "            <td>46.014000</td>\n",
    "            <td>63.905121</td>\n",
    "            <td>6.474000</td>\n",
    "            <td>6.497000</td>\n",
    "        </tr>\n",
    "        <tr>\n",
    "            <th>4563.971680</th>\n",
    "            <td>Shaly Silt</td>\n",
    "            <td>8.519000</td>\n",
    "            <td>2.686344</td>\n",
    "            <td>56.035999</td>\n",
    "            <td>64.224541</td>\n",
    "            <td>6.472000</td>\n",
    "            <td>6.826000</td>\n",
    "        </tr>\n",
    "        <tr>\n",
    "            <th>4565.495606</th>\n",
    "            <td>Silt</td>\n",
    "            <td>8.531000</td>\n",
    "            <td>2.647463</td>\n",
    "            <td>48.896000</td>\n",
    "            <td>63.928082</td>\n",
    "            <td>6.576000</td>\n",
    "            <td>6.703000</td>\n",
    "        </tr>\n",
    "        <tr>\n",
    "            <th>4567.019531</th>\n",
    "            <td>Cross Bedded Sst</td>\n",
    "            <td>8.558000</td>\n",
    "            <td>2.603112</td>\n",
    "            <td>48.154999</td>\n",
    "            <td>63.587570</td>\n",
    "            <td>6.640000</td>\n",
    "            <td>6.840055</td>\n",
    "        </tr>\n",
    "        <tr>\n",
    "            <th>4568.543457</th>\n",
    "            <td>Cross Bedded Sst</td>\n",
    "            <td>8.554000</td>\n",
    "            <td>2.672047</td>\n",
    "            <td>48.098000</td>\n",
    "            <td>63.973488</td>\n",
    "            <td>7.064000</td>\n",
    "            <td>7.165359</td>\n",
    "        </tr>\n",
    "        </tbody>\n",
    "    </table>\n",
    "    <p>119227 rows × 7 columns</p>\n",
    "    </div>\n",
    "</details>\n"
   ]
  },
  {
   "cell_type": "markdown",
   "metadata": {},
   "source": [
    "# Classification\n",
    "Let's start we a classification problem. In this case we will be using well log data to determine the lithology.\n",
    "\n",
    "<details>\n",
    "<summary><b>→ About the Geolink dataset </b></summary>\n",
    "\n",
    "This is a well dataset of Well's Petroleum wells drilled on the Norwegian continental shelf. It was released by the Norweigen Government, cleaned by Geolink, and loaded by LukasMosser. The full dataset has 221 wells, over 150 lithologies, with around 500 MB of data.\n",
    "\n",
    "\n",
    "You don't need to understand the data fully for this course, but here's a brief overview\n",
    "\n",
    "- Well - The well name\n",
    "- DEPT - Depth below the ground in meters\n",
    "- LITHOLOGY_GEOLINK - This is the facies or lithology, which means rock type. This is a label, made by multiple human experts by looking at the context, the well, maps of the area, and often picture of rock samples extracted from the well.\n",
    "- [Well logs](https://en.wikipedia.org/wiki/Well_logging): These are specialised measurements by instruments lowered down the well hole\n",
    "    - CALI - [Caliper log](https://en.wikipedia.org/wiki/Caliper_log), this measures the size of the well bore\n",
    "    - GR - [Gamma Ray](https://en.wikipedia.org/wiki/Gamma_ray_logging): Measure passive amount of high energy electromagnetic radiation naturally emitted from the rock\n",
    "    - RHOB - [Bulk Density](https://en.wikipedia.org/wiki/Density_logging): Measured active amount high energy electromagnetic radiation. This has a transmitting source of gamma rays\n",
    "    - DTC - [Compressional wave](https://en.wikipedia.org/wiki/Longitudinal_wave) travel time: This measure the how long a compressional wave takes to travel through the formationation\n",
    "    - RDEP - [Resistivity](https://en.wikipedia.org/wiki/Resistivity_logging) Deep: Electrical resistivity through the rock with a deep penetration\n",
    "    - RMED - Resistivity Medium: Electrical resistivity through the rock with a nedium penetration\n",
    "    - *Many other well logs were removed as they were not present in all wells*\n",
    "    \n",
    "Interpreting lithology from well logs is a very hard problem for machine learning because:\n",
    "\n",
    "- It's usually done by expert humans (Petrophysicists) with years to decades of experience, not an random human\n",
    "- it takes into account context in the form of prior knowledge, geology, nearby wells, rock samples, and many more. Many of these are forms of information the machine doesn't have access to\n",
    "- The data is unbalanced with important rocks like sandstone sometimes appearing as very this layers\n",
    "\n",
    "\n",
    "<table>\n",
    "    <tr>\n",
    "        <td>\n",
    "<img width=\"480\" src=\"../../reports/figures/30-4_1.png\"/>\n",
    "        </td>\n",
    "        <td>\n",
    "<img width=\"320\" src=\"../../data/processed/geolink_norge_dataset/location of geolink wells.png\"/>\n",
    "        </td>\n",
    "    </tr>\n",
    "</table>\n",
    "\n",
    "\n",
    "### Data Disclaimer\n",
    "\n",
    "All the data serving as an input to these notebooks was generously donated by GEOLINK  \n",
    "and is CC-by-SA 4.0 \n",
    "\n",
    "If you use this data please reference the dataset properly to give them credit for their contribution.\n",
    "\n",
    "**Note:** download data from https://drive.google.com/drive/folders/1EgDN57LDuvlZAwr5-eHWB5CTJ7K9HpDP\n",
    "\n",
    "Credit to this repo: https://github.com/LukasMosser/geolink_dataset\n",
    "\n",
    "### Data Preparation\n",
    "\n",
    "The geolink dataset we will use in this notebook has been preprocessed. You can find the process of preparation of this dataset in [Data Preparation](../z00_Data_prep/00-mc-prep_geolink_norge_dataset.ipynb)\n",
    "\n",
    "</details>"
   ]
  },
  {
   "cell_type": "code",
   "execution_count": 2,
   "metadata": {
    "ExecuteTime": {
     "end_time": "2020-10-04T07:26:47.126633Z",
     "start_time": "2020-10-04T07:26:44.292513Z"
    }
   },
   "outputs": [
    {
     "data": {
      "text/html": [
       "<div>\n",
       "<style scoped>\n",
       "    .dataframe tbody tr th:only-of-type {\n",
       "        vertical-align: middle;\n",
       "    }\n",
       "\n",
       "    .dataframe tbody tr th {\n",
       "        vertical-align: top;\n",
       "    }\n",
       "\n",
       "    .dataframe thead th {\n",
       "        text-align: right;\n",
       "    }\n",
       "</style>\n",
       "<table border=\"1\" class=\"dataframe\">\n",
       "  <thead>\n",
       "    <tr style=\"text-align: right;\">\n",
       "      <th></th>\n",
       "      <th></th>\n",
       "      <th>LITHOLOGY_GEOLINK</th>\n",
       "      <th>CALI</th>\n",
       "      <th>RHOB</th>\n",
       "      <th>GR</th>\n",
       "      <th>DTC</th>\n",
       "      <th>RDEP</th>\n",
       "      <th>RMED</th>\n",
       "      <th>Depths</th>\n",
       "      <th>Wells</th>\n",
       "    </tr>\n",
       "    <tr>\n",
       "      <th>Well</th>\n",
       "      <th>DEPT</th>\n",
       "      <th></th>\n",
       "      <th></th>\n",
       "      <th></th>\n",
       "      <th></th>\n",
       "      <th></th>\n",
       "      <th></th>\n",
       "      <th></th>\n",
       "      <th></th>\n",
       "      <th></th>\n",
       "    </tr>\n",
       "  </thead>\n",
       "  <tbody>\n",
       "    <tr>\n",
       "      <th rowspan=\"5\" valign=\"top\">15_9-12</th>\n",
       "      <th>2215.917725</th>\n",
       "      <td>Shaly Silt</td>\n",
       "      <td>14.438001</td>\n",
       "      <td>2.363000</td>\n",
       "      <td>60.285748</td>\n",
       "      <td>134.253601</td>\n",
       "      <td>0.737006</td>\n",
       "      <td>0.785088</td>\n",
       "      <td>2215.917725</td>\n",
       "      <td>15_9-12</td>\n",
       "    </tr>\n",
       "    <tr>\n",
       "      <th>2217.441650</th>\n",
       "      <td>Shaly Silt</td>\n",
       "      <td>13.289000</td>\n",
       "      <td>2.205000</td>\n",
       "      <td>74.750000</td>\n",
       "      <td>136.056320</td>\n",
       "      <td>0.546000</td>\n",
       "      <td>0.629000</td>\n",
       "      <td>2217.441650</td>\n",
       "      <td>15_9-12</td>\n",
       "    </tr>\n",
       "    <tr>\n",
       "      <th>2218.965820</th>\n",
       "      <td>Silt</td>\n",
       "      <td>13.563000</td>\n",
       "      <td>2.367000</td>\n",
       "      <td>52.008564</td>\n",
       "      <td>85.576859</td>\n",
       "      <td>0.719976</td>\n",
       "      <td>0.955128</td>\n",
       "      <td>2218.965820</td>\n",
       "      <td>15_9-12</td>\n",
       "    </tr>\n",
       "    <tr>\n",
       "      <th>2220.489746</th>\n",
       "      <td>Shaly Silt</td>\n",
       "      <td>14.367000</td>\n",
       "      <td>2.094000</td>\n",
       "      <td>62.634117</td>\n",
       "      <td>121.813324</td>\n",
       "      <td>0.544992</td>\n",
       "      <td>0.866769</td>\n",
       "      <td>2220.489746</td>\n",
       "      <td>15_9-12</td>\n",
       "    </tr>\n",
       "    <tr>\n",
       "      <th>2222.013672</th>\n",
       "      <td>Silt</td>\n",
       "      <td>12.890999</td>\n",
       "      <td>2.031000</td>\n",
       "      <td>63.438000</td>\n",
       "      <td>120.762360</td>\n",
       "      <td>0.501000</td>\n",
       "      <td>0.629000</td>\n",
       "      <td>2222.013672</td>\n",
       "      <td>15_9-12</td>\n",
       "    </tr>\n",
       "    <tr>\n",
       "      <th>...</th>\n",
       "      <th>...</th>\n",
       "      <td>...</td>\n",
       "      <td>...</td>\n",
       "      <td>...</td>\n",
       "      <td>...</td>\n",
       "      <td>...</td>\n",
       "      <td>...</td>\n",
       "      <td>...</td>\n",
       "      <td>...</td>\n",
       "      <td>...</td>\n",
       "    </tr>\n",
       "    <tr>\n",
       "      <th rowspan=\"5\" valign=\"top\">7_3-1</th>\n",
       "      <th>4562.447754</th>\n",
       "      <td>Silt</td>\n",
       "      <td>8.529000</td>\n",
       "      <td>2.640844</td>\n",
       "      <td>46.014000</td>\n",
       "      <td>63.905121</td>\n",
       "      <td>6.474000</td>\n",
       "      <td>6.497000</td>\n",
       "      <td>4562.447754</td>\n",
       "      <td>7_3-1</td>\n",
       "    </tr>\n",
       "    <tr>\n",
       "      <th>4563.971680</th>\n",
       "      <td>Shaly Silt</td>\n",
       "      <td>8.519000</td>\n",
       "      <td>2.686344</td>\n",
       "      <td>56.035999</td>\n",
       "      <td>64.224541</td>\n",
       "      <td>6.472000</td>\n",
       "      <td>6.826000</td>\n",
       "      <td>4563.971680</td>\n",
       "      <td>7_3-1</td>\n",
       "    </tr>\n",
       "    <tr>\n",
       "      <th>4565.495606</th>\n",
       "      <td>Silt</td>\n",
       "      <td>8.531000</td>\n",
       "      <td>2.647463</td>\n",
       "      <td>48.896000</td>\n",
       "      <td>63.928082</td>\n",
       "      <td>6.576000</td>\n",
       "      <td>6.703000</td>\n",
       "      <td>4565.495606</td>\n",
       "      <td>7_3-1</td>\n",
       "    </tr>\n",
       "    <tr>\n",
       "      <th>4567.019531</th>\n",
       "      <td>Cross Bedded Sst</td>\n",
       "      <td>8.558000</td>\n",
       "      <td>2.603112</td>\n",
       "      <td>48.154999</td>\n",
       "      <td>63.587570</td>\n",
       "      <td>6.640000</td>\n",
       "      <td>6.840055</td>\n",
       "      <td>4567.019531</td>\n",
       "      <td>7_3-1</td>\n",
       "    </tr>\n",
       "    <tr>\n",
       "      <th>4568.543457</th>\n",
       "      <td>Cross Bedded Sst</td>\n",
       "      <td>8.554000</td>\n",
       "      <td>2.672047</td>\n",
       "      <td>48.098000</td>\n",
       "      <td>63.973488</td>\n",
       "      <td>7.064000</td>\n",
       "      <td>7.165359</td>\n",
       "      <td>4568.543457</td>\n",
       "      <td>7_3-1</td>\n",
       "    </tr>\n",
       "  </tbody>\n",
       "</table>\n",
       "<p>119227 rows × 9 columns</p>\n",
       "</div>"
      ],
      "text/plain": [
       "                    LITHOLOGY_GEOLINK       CALI      RHOB         GR  \\\n",
       "Well    DEPT                                                            \n",
       "15_9-12 2215.917725        Shaly Silt  14.438001  2.363000  60.285748   \n",
       "        2217.441650        Shaly Silt  13.289000  2.205000  74.750000   \n",
       "        2218.965820              Silt  13.563000  2.367000  52.008564   \n",
       "        2220.489746        Shaly Silt  14.367000  2.094000  62.634117   \n",
       "        2222.013672              Silt  12.890999  2.031000  63.438000   \n",
       "...                               ...        ...       ...        ...   \n",
       "7_3-1   4562.447754              Silt   8.529000  2.640844  46.014000   \n",
       "        4563.971680        Shaly Silt   8.519000  2.686344  56.035999   \n",
       "        4565.495606              Silt   8.531000  2.647463  48.896000   \n",
       "        4567.019531  Cross Bedded Sst   8.558000  2.603112  48.154999   \n",
       "        4568.543457  Cross Bedded Sst   8.554000  2.672047  48.098000   \n",
       "\n",
       "                            DTC      RDEP      RMED       Depths    Wells  \n",
       "Well    DEPT                                                               \n",
       "15_9-12 2215.917725  134.253601  0.737006  0.785088  2215.917725  15_9-12  \n",
       "        2217.441650  136.056320  0.546000  0.629000  2217.441650  15_9-12  \n",
       "        2218.965820   85.576859  0.719976  0.955128  2218.965820  15_9-12  \n",
       "        2220.489746  121.813324  0.544992  0.866769  2220.489746  15_9-12  \n",
       "        2222.013672  120.762360  0.501000  0.629000  2222.013672  15_9-12  \n",
       "...                         ...       ...       ...          ...      ...  \n",
       "7_3-1   4562.447754   63.905121  6.474000  6.497000  4562.447754    7_3-1  \n",
       "        4563.971680   64.224541  6.472000  6.826000  4563.971680    7_3-1  \n",
       "        4565.495606   63.928082  6.576000  6.703000  4565.495606    7_3-1  \n",
       "        4567.019531   63.587570  6.640000  6.840055  4567.019531    7_3-1  \n",
       "        4568.543457   63.973488  7.064000  7.165359  4568.543457    7_3-1  \n",
       "\n",
       "[119227 rows x 9 columns]"
      ]
     },
     "execution_count": 2,
     "metadata": {},
     "output_type": "execute_result"
    }
   ],
   "source": [
    "df = pd.read_parquet(\n",
    "    \"../../data/processed/geolink_norge_dataset/geolink_norge_well_logs_train.parquet\"\n",
    ").set_index([\"Well\", \"DEPT\"])\n",
    "# Add depth as a feature column\n",
    "df['Depths'] = df.index.get_level_values(1)\n",
    "df['Wells'] = df.index.get_level_values(0)\n",
    "df.iloc[::10]"
   ]
  },
  {
   "cell_type": "markdown",
   "metadata": {},
   "source": [
    "We need to create a training and test set."
   ]
  },
  {
   "cell_type": "code",
   "execution_count": 3,
   "metadata": {
    "ExecuteTime": {
     "end_time": "2020-10-04T07:26:47.401264Z",
     "start_time": "2020-10-04T07:26:47.129504Z"
    }
   },
   "outputs": [],
   "source": [
    "df_train, df_test = model_selection.train_test_split(df, shuffle=True, random_state=2020)"
   ]
  },
  {
   "cell_type": "markdown",
   "metadata": {},
   "source": [
    "We can specify how many wells are used for training and how many for test. we are splitting training and test set based on the wells since there is correlation between datapoints in each well which will result in higher accuracy. But this high accuracy is deceiving and not real. As soon as we start testing the model on a new well the accuracy will drop. Splitting data based on wells avoid this issue.\n",
    "\n",
    "However for the purposes of a demo, especially embedding by well we will split randomly. You can see another approach to splitting in the RNN notebook."
   ]
  },
  {
   "cell_type": "code",
   "execution_count": 4,
   "metadata": {
    "ExecuteTime": {
     "end_time": "2020-10-04T07:26:47.407170Z",
     "start_time": "2020-10-04T07:26:47.403990Z"
    }
   },
   "outputs": [],
   "source": [
    "# np.random.seed(12)\n",
    "# n_wells = 40\n",
    "# selected_wells = np.random.choice(wells, n_wells * 2, replace=False)\n",
    "# training_wells = selected_wells[:n_wells]\n",
    "# test_wells = selected_wells[n_wells:]\n",
    "# df_test = df[test_wells]\n",
    "# df_train = df[training_wells]"
   ]
  },
  {
   "cell_type": "markdown",
   "metadata": {},
   "source": [
    "We need to process the input and target data. The input data needs to be normalised with a standard scaler, and the output data needs to be converted from text to numbers. To convert text to numbers we use `LabelEncoder` from Scikit Learn. <br>\n"
   ]
  },
  {
   "cell_type": "code",
   "execution_count": 5,
   "metadata": {
    "ExecuteTime": {
     "end_time": "2020-10-04T07:26:47.478234Z",
     "start_time": "2020-10-04T07:26:47.410203Z"
    }
   },
   "outputs": [
    {
     "data": {
      "text/plain": [
       "LabelEncoder()"
      ]
     },
     "execution_count": 5,
     "metadata": {},
     "output_type": "execute_result"
    }
   ],
   "source": [
    "from sklearn.preprocessing import StandardScaler, LabelEncoder\n",
    "\n",
    "scaler = StandardScaler()\n",
    "encoder = LabelEncoder()\n",
    "encoder.fit(df[\"LITHOLOGY_GEOLINK\"])"
   ]
  },
  {
   "cell_type": "markdown",
   "metadata": {},
   "source": [
    "We also need to decide which columns from the data we are going to use as feature."
   ]
  },
  {
   "cell_type": "code",
   "execution_count": 6,
   "metadata": {
    "ExecuteTime": {
     "end_time": "2020-10-04T07:26:47.482848Z",
     "start_time": "2020-10-04T07:26:47.480036Z"
    }
   },
   "outputs": [],
   "source": [
    "feat_cols = [\"CALI\", \"RHOB\", \"GR\", \"DTC\", \"RDEP\", \"RMED\", \"Depths\"]"
   ]
  },
  {
   "cell_type": "markdown",
   "metadata": {},
   "source": [
    "`LabelEncoder` converts each type to a value. It is like creating a list of types and instead of using the names we use the their index in the list. "
   ]
  },
  {
   "cell_type": "code",
   "execution_count": 7,
   "metadata": {
    "ExecuteTime": {
     "end_time": "2020-10-04T07:26:47.493471Z",
     "start_time": "2020-10-04T07:26:47.484826Z"
    }
   },
   "outputs": [
    {
     "data": {
      "text/plain": [
       "array([17])"
      ]
     },
     "execution_count": 7,
     "metadata": {},
     "output_type": "execute_result"
    }
   ],
   "source": [
    "encoder.transform([\"Shaly Silt\"])"
   ]
  },
  {
   "cell_type": "markdown",
   "metadata": {},
   "source": [
    "Let's check the types at various depths:"
   ]
  },
  {
   "cell_type": "code",
   "execution_count": 8,
   "metadata": {
    "ExecuteTime": {
     "end_time": "2020-10-04T07:26:48.476873Z",
     "start_time": "2020-10-04T07:26:47.497311Z"
    }
   },
   "outputs": [
    {
     "data": {
      "image/png": "[encoded data removed]",
      "text/plain": [
       "<Figure size 576x864 with 6 Axes>"
      ]
     },
     "metadata": {
      "needs_background": "light"
     },
     "output_type": "display_data"
    }
   ],
   "source": [
    "# Plot a well\n",
    "from deep_ml_curriculum.visualization.well_log import plot_facies, plot_well\n",
    "well_name=\"30_4-1\"\n",
    "logs = df.xs(well_name).copy()\n",
    "logs['DEPT'] = logs.index.get_level_values(0)\n",
    "facies = logs['LITHOLOGY_GEOLINK'].astype('category').values\n",
    "plot_well(well_name, \n",
    "          logs, \n",
    "          facies)\n",
    "plt.show()"
   ]
  },
  {
   "cell_type": "markdown",
   "metadata": {},
   "source": [
    "Apply transformation to training and test set."
   ]
  },
  {
   "cell_type": "code",
   "execution_count": 9,
   "metadata": {
    "ExecuteTime": {
     "end_time": "2020-10-04T07:26:48.929627Z",
     "start_time": "2020-10-04T07:26:48.480804Z"
    }
   },
   "outputs": [],
   "source": [
    "x_train = scaler.fit_transform(df_train[feat_cols].values)\n",
    "y_train = encoder.transform(df_train[\"LITHOLOGY_GEOLINK\"])\n",
    "x_test = scaler.transform(df_test[feat_cols].values)\n",
    "y_test = encoder.transform(df_test[\"LITHOLOGY_GEOLINK\"])"
   ]
  },
  {
   "cell_type": "markdown",
   "metadata": {},
   "source": [
    "The output of a classification model is a value for each type. The type with the highest value is the one the model thinks is most likely to be associated with the input data. Therefore, the output size of the model should be the number of types.<br>\n",
    "Input size will be the number of features (columns) in the data."
   ]
  },
  {
   "cell_type": "code",
   "execution_count": 10,
   "metadata": {
    "ExecuteTime": {
     "end_time": "2020-10-04T07:26:48.946274Z",
     "start_time": "2020-10-04T07:26:48.932002Z"
    }
   },
   "outputs": [],
   "source": [
    "input_size = len(feat_cols)\n",
    "output_size = len(df[\"LITHOLOGY_GEOLINK\"].unique())"
   ]
  },
  {
   "cell_type": "markdown",
   "metadata": {},
   "source": [
    "Before we start with neural networks, let's see how would a random forest classifier would perform on this data."
   ]
  },
  {
   "cell_type": "code",
   "execution_count": 11,
   "metadata": {
    "ExecuteTime": {
     "end_time": "2020-10-04T07:26:49.118421Z",
     "start_time": "2020-10-04T07:26:48.948477Z"
    }
   },
   "outputs": [],
   "source": [
    "from sklearn.ensemble import RandomForestClassifier"
   ]
  },
  {
   "cell_type": "code",
   "execution_count": 12,
   "metadata": {
    "ExecuteTime": {
     "end_time": "2020-10-04T07:26:49.124641Z",
     "start_time": "2020-10-04T07:26:49.120959Z"
    }
   },
   "outputs": [],
   "source": [
    "rf = RandomForestClassifier(\n",
    "    200, max_depth=5, max_features=\"sqrt\", n_jobs=-1, random_state=14\n",
    ")"
   ]
  },
  {
   "cell_type": "code",
   "execution_count": 13,
   "metadata": {
    "ExecuteTime": {
     "end_time": "2020-10-04T07:27:45.851990Z",
     "start_time": "2020-10-04T07:26:49.126557Z"
    }
   },
   "outputs": [
    {
     "name": "stdout",
     "output_type": "stream",
     "text": [
      "CPU times: user 6min 44s, sys: 2.48 s, total: 6min 46s\n",
      "Wall time: 56.7 s\n"
     ]
    },
    {
     "data": {
      "text/plain": [
       "RandomForestClassifier(max_depth=5, max_features='sqrt', n_estimators=200,\n",
       "                       n_jobs=-1, random_state=14)"
      ]
     },
     "execution_count": 13,
     "metadata": {},
     "output_type": "execute_result"
    }
   ],
   "source": [
    "%%time\n",
    "rf.fit(x_train,y_train)"
   ]
  },
  {
   "cell_type": "code",
   "execution_count": 14,
   "metadata": {
    "ExecuteTime": {
     "end_time": "2020-10-04T07:27:58.063351Z",
     "start_time": "2020-10-04T07:27:45.854582Z"
    }
   },
   "outputs": [
    {
     "data": {
      "text/plain": [
       "0.45340365309365566"
      ]
     },
     "execution_count": 14,
     "metadata": {},
     "output_type": "execute_result"
    }
   ],
   "source": [
    "preds = rf.predict(x_train)\n",
    "metrics.accuracy_score(y_train, preds)"
   ]
  },
  {
   "cell_type": "code",
   "execution_count": 15,
   "metadata": {
    "ExecuteTime": {
     "end_time": "2020-10-04T07:28:02.289681Z",
     "start_time": "2020-10-04T07:27:58.065678Z"
    }
   },
   "outputs": [
    {
     "data": {
      "text/plain": [
       "0.45276245688903205"
      ]
     },
     "execution_count": 15,
     "metadata": {},
     "output_type": "execute_result"
    }
   ],
   "source": [
    "preds = rf.predict(x_test)\n",
    "metrics.accuracy_score(y_test, preds)"
   ]
  },
  {
   "cell_type": "markdown",
   "metadata": {},
   "source": [
    "So a random forest is giving us an accuracy of about 35%. Let's see if a neural network can beat that. "
   ]
  },
  {
   "cell_type": "markdown",
   "metadata": {
    "ExecuteTime": {
     "end_time": "2020-10-02T04:24:30.706300Z",
     "start_time": "2020-10-02T04:24:30.691342Z"
    }
   },
   "source": [
    "<div class=\"alert alert-success\">\n",
    "  <h3>Exercise</h3>\n",
    "\n",
    "  Try different parameters to get a better test accuracy\n",
    "\n",
    "```python\n",
    "# What are the parameters again?\n",
    "help(RandomForestClassifier)\n",
    "    \n",
    "# Init\n",
    "rf = RandomForestClassifier(\n",
    "    200, max_depth=5, max_features=\"sqrt\", n_jobs=-1, random_state=14\n",
    ")\n",
    "# Train\n",
    "rf.fit(x_train,y_train)\n",
    "preds = rf.predict(x_train)\n",
    "print('train acc', metrics.accuracy_score(y_train, preds))\n",
    "    \n",
    "# Test\n",
    "preds = rf.predict(x_test)\n",
    "print('test acc', metrics.accuracy_score(y_test, preds))\n",
    "```\n",
    "\n",
    "  <details>\n",
    "  <summary><b>→ Hints</b></summary>\n",
    "\n",
    "  * Copy the last 3 cells, then try a depth of 8\n",
    "\n",
    "  </details>\n",
    "\n",
    "  <br/>\n",
    "  <br/>\n",
    "  <details>\n",
    "  <summary>\n",
    "    <b>→ Solution</b>\n",
    "  </summary>\n",
    "\n",
    "```python\n",
    "rf = RandomForestClassifier(\n",
    "    300, max_depth=6, max_features=\"sqrt\", n_jobs=-1, random_state=14\n",
    ")\n",
    "rf.fit(x_train,y_train)\n",
    "preds = rf.predict(x_train)\n",
    "print('train acc', metrics.accuracy_score(y_train, preds))\n",
    "preds = rf.predict(x_test)\n",
    "print('test acc', metrics.accuracy_score(y_test, preds))\n",
    "# train acc 0.5516290973521016\n",
    "# test acc 0.37365357193460574\n",
    "```\n",
    "\n",
    "  </details>\n",
    "\n",
    "  </div>"
   ]
  },
  {
   "cell_type": "markdown",
   "metadata": {},
   "source": [
    "## Linear Layer\n",
    "A linear layer (sometimes called a fully-connected layer) is a simple matrix multiplication. Let's say we have an input data with $n$ features and we are trying to predict $m$ outputs. In this case the input of size $n$ is multiplied by a $n\\times m$ matrix (called weight) and is summed with a $m\\times 1$ matrix (called bias). The result of this operation would be an output of size $m$.\n",
    "$$ \\left( \\begin{array}{cc}\n",
    "x_1 & x_2 & ... & x_n \\\\\n",
    "\\end{array} \\right)\n",
    "%\n",
    "\\left( \\begin{array}{cc}\n",
    "w_{1,1} & w_{1,2} & ... & w_{1,m} \\\\\n",
    "w_{2,1} & w_{2,2} & ... & w_{2,m} \\\\\n",
    " & \\vdots\\\\\n",
    "w_{n,1} & w_{n,2} & ... & w_{n,m}\n",
    "\\end{array} \\right)\n",
    "+\n",
    "\\left( \\begin{array}{cc}\n",
    "b_1 \\\\\n",
    "b_2 \\\\\n",
    "\\vdots\\\\\n",
    "b_m\n",
    "\\end{array} \\right)\n",
    "=\n",
    "\\left( \\begin{array}{cc}\n",
    "y_1 \\\\\n",
    "y_2 \\\\\n",
    "\\vdots\\\\\n",
    "y_m\n",
    "\\end{array} \\right)\n",
    "$$\n",
    "\n",
    "Every time we perform this operation, it is called a linear layer. However, a simple linear layer is not enough to model complex relationship. Therefore, the output of the layers are passed through a non-linear function called _activation function_. <br>\n",
    "There are many activation functions, but one of the most common ones is Rectified Linear Unit (ReLU). ReLU simply keeps the input value if it is positive and replaces it with zero if it is negative. Mathematically you can also write it as:<br>\n",
    "$$ReLU(x) = max(0,x)$$\n"
   ]
  },
  {
   "cell_type": "markdown",
   "metadata": {},
   "source": [
    "For the start, we create a network that has two linear layers separated by a ReLU activation function. It will takes $n$ inputs and turns it into $h$ values. After passing it through the activation function we turn it into $m$ values as output. You can see the details of the model below:"
   ]
  },
  {
   "cell_type": "code",
   "execution_count": 16,
   "metadata": {
    "ExecuteTime": {
     "end_time": "2020-10-04T07:28:02.297573Z",
     "start_time": "2020-10-04T07:28:02.291917Z"
    }
   },
   "outputs": [],
   "source": [
    "class SimpleLinear(nn.Module):\n",
    "    def __init__(self, input_size, output_size, hidden_size):\n",
    "        super(SimpleLinear, self).__init__()\n",
    "        self.input_layer = nn.Linear(input_size, hidden_size)\n",
    "        self.activation = nn.ReLU()\n",
    "        self.output_layer = nn.Linear(hidden_size, output_size)\n",
    "\n",
    "    def forward(self, x):\n",
    "        x = self.input_layer(x)\n",
    "        x = self.activation(x)\n",
    "        x = self.output_layer(x)\n",
    "        return x"
   ]
  },
  {
   "cell_type": "markdown",
   "metadata": {},
   "source": [
    "Make sure we are using GPU if we have access to one."
   ]
  },
  {
   "cell_type": "code",
   "execution_count": 17,
   "metadata": {
    "ExecuteTime": {
     "end_time": "2020-10-04T07:28:02.367645Z",
     "start_time": "2020-10-04T07:28:02.299541Z"
    }
   },
   "outputs": [
    {
     "data": {
      "text/plain": [
       "'cuda'"
      ]
     },
     "execution_count": 17,
     "metadata": {},
     "output_type": "execute_result"
    }
   ],
   "source": [
    "# CUDA means we are using a nvidia GPU\n",
    "device = \"cuda\" if torch.cuda.is_available() else \"cpu\"\n",
    "device"
   ]
  },
  {
   "cell_type": "code",
   "execution_count": 18,
   "metadata": {
    "ExecuteTime": {
     "end_time": "2020-10-04T07:28:05.159560Z",
     "start_time": "2020-10-04T07:28:02.369669Z"
    }
   },
   "outputs": [],
   "source": [
    "x_train = torch.Tensor(x_train).to(device)\n",
    "y_train = torch.LongTensor(y_train).to(device)\n",
    "x_test = torch.Tensor(x_test).to(device)\n",
    "y_test = torch.LongTensor(y_test).to(device)"
   ]
  },
  {
   "cell_type": "code",
   "execution_count": 19,
   "metadata": {
    "ExecuteTime": {
     "end_time": "2020-10-04T07:28:05.166114Z",
     "start_time": "2020-10-04T07:28:05.161290Z"
    }
   },
   "outputs": [
    {
     "data": {
      "text/plain": [
       "894201"
      ]
     },
     "execution_count": 19,
     "metadata": {},
     "output_type": "execute_result"
    }
   ],
   "source": [
    "len(x_train)"
   ]
  },
  {
   "cell_type": "markdown",
   "metadata": {},
   "source": [
    "We create an instance of the model. We are using 7 features, and trying to predict a value for each class in the data. Let's choose a hidden size of 100."
   ]
  },
  {
   "cell_type": "code",
   "execution_count": 20,
   "metadata": {
    "ExecuteTime": {
     "end_time": "2020-10-04T07:28:05.176135Z",
     "start_time": "2020-10-04T07:28:05.168082Z"
    }
   },
   "outputs": [],
   "source": [
    "model = SimpleLinear(7, output_size, 100)"
   ]
  },
  {
   "cell_type": "markdown",
   "metadata": {},
   "source": [
    "Use `ADAM` optimiser and Cross Entropy as loss function."
   ]
  },
  {
   "cell_type": "code",
   "execution_count": 21,
   "metadata": {
    "ExecuteTime": {
     "end_time": "2020-10-04T07:28:05.181652Z",
     "start_time": "2020-10-04T07:28:05.178194Z"
    }
   },
   "outputs": [],
   "source": [
    "optimizer = optim.Adam(model.parameters(), lr=0.001, weight_decay=1e-3)\n",
    "loss_func = nn.CrossEntropyLoss()"
   ]
  },
  {
   "cell_type": "markdown",
   "metadata": {},
   "source": [
    "Define a training loop and train the model."
   ]
  },
  {
   "cell_type": "code",
   "execution_count": 22,
   "metadata": {
    "ExecuteTime": {
     "end_time": "2020-10-04T07:28:05.190984Z",
     "start_time": "2020-10-04T07:28:05.183553Z"
    }
   },
   "outputs": [],
   "source": [
    "def train_model(model, epochs=10, bs=256):\n",
    "    for epoch in tqdm(range(epochs), unit='epoch'):\n",
    "        training_loss = []\n",
    "        for i in tqdm(range(0, len(x_train), bs), leave=False):\n",
    "            model.train()\n",
    "            optimizer.zero_grad()\n",
    "            preds = model(x_train[i : i + bs, :])\n",
    "            loss = loss_func(preds, y_train[i : i + bs])\n",
    "            loss.backward()\n",
    "            optimizer.step()\n",
    "            training_loss.append(loss.item())\n",
    "            if i % 1000 == 0:\n",
    "                print('Loss: {:.3f}'.format(loss.item()), end=\"\\r\", flush=True)\n",
    "        preds = model(x_test)\n",
    "        loss = loss_func(preds, y_test)\n",
    "        print('Epoch#{} Test Loss = {:.3f}'.format(epoch + 1, loss.item()))"
   ]
  },
  {
   "cell_type": "code",
   "execution_count": 23,
   "metadata": {
    "ExecuteTime": {
     "end_time": "2020-10-04T07:30:18.428899Z",
     "start_time": "2020-10-04T07:28:05.195921Z"
    }
   },
   "outputs": [
    {
     "data": {
      "application/vnd.jupyter.widget-view+json": {
       "model_id": "bcf5c915735446e19cf7d831fb18f437",
       "version_major": 2,
       "version_minor": 0
      },
      "text/plain": [
       "HBox(children=(FloatProgress(value=0.0, max=10.0), HTML(value='')))"
      ]
     },
     "metadata": {},
     "output_type": "display_data"
    },
    {
     "data": {
      "application/vnd.jupyter.widget-view+json": {
       "model_id": "",
       "version_major": 2,
       "version_minor": 0
      },
      "text/plain": [
       "HBox(children=(FloatProgress(value=0.0, max=3493.0), HTML(value='')))"
      ]
     },
     "metadata": {},
     "output_type": "display_data"
    },
    {
     "name": "stdout",
     "output_type": "stream",
     "text": [
      "Epoch#1 Test Loss = 1.494\n"
     ]
    },
    {
     "data": {
      "application/vnd.jupyter.widget-view+json": {
       "model_id": "",
       "version_major": 2,
       "version_minor": 0
      },
      "text/plain": [
       "HBox(children=(FloatProgress(value=0.0, max=3493.0), HTML(value='')))"
      ]
     },
     "metadata": {},
     "output_type": "display_data"
    },
    {
     "name": "stdout",
     "output_type": "stream",
     "text": [
      "Epoch#2 Test Loss = 1.458\n"
     ]
    },
    {
     "data": {
      "application/vnd.jupyter.widget-view+json": {
       "model_id": "",
       "version_major": 2,
       "version_minor": 0
      },
      "text/plain": [
       "HBox(children=(FloatProgress(value=0.0, max=3493.0), HTML(value='')))"
      ]
     },
     "metadata": {},
     "output_type": "display_data"
    },
    {
     "name": "stdout",
     "output_type": "stream",
     "text": [
      "Epoch#3 Test Loss = 1.441\n"
     ]
    },
    {
     "data": {
      "application/vnd.jupyter.widget-view+json": {
       "model_id": "",
       "version_major": 2,
       "version_minor": 0
      },
      "text/plain": [
       "HBox(children=(FloatProgress(value=0.0, max=3493.0), HTML(value='')))"
      ]
     },
     "metadata": {},
     "output_type": "display_data"
    },
    {
     "name": "stdout",
     "output_type": "stream",
     "text": [
      "Epoch#4 Test Loss = 1.430\n"
     ]
    },
    {
     "data": {
      "application/vnd.jupyter.widget-view+json": {
       "model_id": "",
       "version_major": 2,
       "version_minor": 0
      },
      "text/plain": [
       "HBox(children=(FloatProgress(value=0.0, max=3493.0), HTML(value='')))"
      ]
     },
     "metadata": {},
     "output_type": "display_data"
    },
    {
     "name": "stdout",
     "output_type": "stream",
     "text": [
      "Epoch#5 Test Loss = 1.424\n"
     ]
    },
    {
     "data": {
      "application/vnd.jupyter.widget-view+json": {
       "model_id": "",
       "version_major": 2,
       "version_minor": 0
      },
      "text/plain": [
       "HBox(children=(FloatProgress(value=0.0, max=3493.0), HTML(value='')))"
      ]
     },
     "metadata": {},
     "output_type": "display_data"
    },
    {
     "name": "stdout",
     "output_type": "stream",
     "text": [
      "Epoch#6 Test Loss = 1.419\n"
     ]
    },
    {
     "data": {
      "application/vnd.jupyter.widget-view+json": {
       "model_id": "",
       "version_major": 2,
       "version_minor": 0
      },
      "text/plain": [
       "HBox(children=(FloatProgress(value=0.0, max=3493.0), HTML(value='')))"
      ]
     },
     "metadata": {},
     "output_type": "display_data"
    },
    {
     "name": "stdout",
     "output_type": "stream",
     "text": [
      "Epoch#7 Test Loss = 1.416\n"
     ]
    },
    {
     "data": {
      "application/vnd.jupyter.widget-view+json": {
       "model_id": "",
       "version_major": 2,
       "version_minor": 0
      },
      "text/plain": [
       "HBox(children=(FloatProgress(value=0.0, max=3493.0), HTML(value='')))"
      ]
     },
     "metadata": {},
     "output_type": "display_data"
    },
    {
     "name": "stdout",
     "output_type": "stream",
     "text": [
      "Epoch#8 Test Loss = 1.414\n"
     ]
    },
    {
     "data": {
      "application/vnd.jupyter.widget-view+json": {
       "model_id": "",
       "version_major": 2,
       "version_minor": 0
      },
      "text/plain": [
       "HBox(children=(FloatProgress(value=0.0, max=3493.0), HTML(value='')))"
      ]
     },
     "metadata": {},
     "output_type": "display_data"
    },
    {
     "name": "stdout",
     "output_type": "stream",
     "text": [
      "Epoch#9 Test Loss = 1.412\n"
     ]
    },
    {
     "data": {
      "application/vnd.jupyter.widget-view+json": {
       "model_id": "",
       "version_major": 2,
       "version_minor": 0
      },
      "text/plain": [
       "HBox(children=(FloatProgress(value=0.0, max=3493.0), HTML(value='')))"
      ]
     },
     "metadata": {},
     "output_type": "display_data"
    },
    {
     "name": "stdout",
     "output_type": "stream",
     "text": [
      "Epoch#10 Test Loss = 1.410\n",
      "\n"
     ]
    }
   ],
   "source": [
    "model.to(device)\n",
    "train_model(model)"
   ]
  },
  {
   "cell_type": "markdown",
   "metadata": {},
   "source": [
    "Understanding how good a model is based on loss value can be difficult. Let's check the accuracy of the model on training and test set so we can compare it to the random forest classifier we created earlier."
   ]
  },
  {
   "cell_type": "code",
   "execution_count": 24,
   "metadata": {
    "ExecuteTime": {
     "end_time": "2020-10-04T07:30:18.438406Z",
     "start_time": "2020-10-04T07:30:18.432292Z"
    }
   },
   "outputs": [],
   "source": [
    "def accuracy(model, x, y):\n",
    "    m = model.to(\"cpu\")\n",
    "    m.eval()\n",
    "    preds = m(x.to(\"cpu\")).argmax(-1)\n",
    "    preds = preds.detach().numpy()\n",
    "    return metrics.accuracy_score(y.to(\"cpu\").numpy(), preds)"
   ]
  },
  {
   "cell_type": "code",
   "execution_count": 25,
   "metadata": {
    "ExecuteTime": {
     "end_time": "2020-10-04T07:30:19.022072Z",
     "start_time": "2020-10-04T07:30:18.440931Z"
    }
   },
   "outputs": [
    {
     "data": {
      "text/plain": [
       "0.48928261095659703"
      ]
     },
     "execution_count": 25,
     "metadata": {},
     "output_type": "execute_result"
    }
   ],
   "source": [
    "accuracy(model, x_train, y_train)"
   ]
  },
  {
   "cell_type": "code",
   "execution_count": 26,
   "metadata": {
    "ExecuteTime": {
     "end_time": "2020-10-04T07:30:19.222419Z",
     "start_time": "2020-10-04T07:30:19.023767Z"
    }
   },
   "outputs": [
    {
     "data": {
      "text/plain": [
       "0.4890327039467504"
      ]
     },
     "execution_count": 26,
     "metadata": {},
     "output_type": "execute_result"
    }
   ],
   "source": [
    "accuracy(model, x_test, y_test)"
   ]
  },
  {
   "cell_type": "markdown",
   "metadata": {},
   "source": [
    "The accuracy is lower than the random forest. Note that our judgement will be based on accuracy on the test set. This shows how good the model is on the data it hasn't seen before. "
   ]
  },
  {
   "cell_type": "markdown",
   "metadata": {
    "ExecuteTime": {
     "end_time": "2020-10-02T04:29:57.672459Z",
     "start_time": "2020-10-02T04:29:57.659700Z"
    }
   },
   "source": [
    "<div class=\"alert alert-success\">\n",
    "  <h3>Exercise</h3>\n",
    "\n",
    "  Can you modify it so it has two layers? Copy and fix the below code\n",
    "\n",
    "```python\n",
    "class MultiLinear(nn.Module):\n",
    "    def __init__(self, input_size, output_size, hidden_size):\n",
    "        super(SimpleLinear, self).__init__()\n",
    "        self.input_layer = nn.Linear(input_size, hidden_size)\n",
    "        self.hidden_layer = # ADD ANOTHER LAYER HERE\n",
    "        self.activation = nn.ReLU()\n",
    "        self.output_layer = nn.Linear(hidden_size, output_size)\n",
    "\n",
    "    def forward(self, x):\n",
    "        x = self.input_layer(x)\n",
    "        x = self.?? # USE THE LAYER HERE\n",
    "        x = self.activation(x)\n",
    "        x = self.output_layer(x)\n",
    "        return x\n",
    "    \n",
    "# Lets test it (this should run without errors) \n",
    "model = MultiLinear(7, output_size, 100)   \n",
    "preds = model(x_train[i : i + bs, :])\n",
    "```\n",
    "      \n",
    "\n",
    "  <details>\n",
    "  <summary><b>→ Hints</b></summary>\n",
    "\n",
    "  * the new layer takes in x with `hidden_size` features, and return x with `hidden_size` features. So `nn.Linear(hidden_size, hidden_size)`\n",
    "  * `x = self.hidden_layer(x)`\n",
    "\n",
    "  </details>\n",
    "\n",
    "  <br/>\n",
    "  <br/>\n",
    "  <details>\n",
    "  <summary>\n",
    "    <b>→ Solution</b>\n",
    "  </summary>\n",
    "\n",
    "```python\n",
    "class MultiLinear(nn.Module):\n",
    "    def __init__(self, input_size, output_size, hidden_size):\n",
    "        super(MultiLinear, self).__init__()\n",
    "        self.input_layer = nn.Linear(input_size, hidden_size)\n",
    "        self.hidden_layer = nn.Linear(hidden_size, hidden_size) # ADD ANOTHER LAYER HERE hidden_size->hidden_size\n",
    "        self.activation = nn.ReLU()\n",
    "        self.output_layer = nn.Linear(hidden_size, output_size)\n",
    "\n",
    "    def forward(self, x):\n",
    "        x = self.input_layer(x)\n",
    "        x = self.hidden_layer(x) # USE THE LAYER HERE\n",
    "        x = self.activation(x)\n",
    "        x = self.output_layer(x)\n",
    "        return x\n",
    "\n",
    "# Lets test it (this should run without errors)\n",
    "i=10\n",
    "bs=4\n",
    "model = MultiLinear(7, output_size, 100)   \n",
    "preds = model(x_train[i : i + bs, :])\n",
    "  ```\n",
    "\n",
    "  </details>\n",
    "\n",
    "  </div>"
   ]
  },
  {
   "cell_type": "code",
   "execution_count": null,
   "metadata": {
    "ExecuteTime": {
     "end_time": "2020-10-02T04:32:34.762733Z",
     "start_time": "2020-10-02T04:32:34.751874Z"
    }
   },
   "outputs": [],
   "source": []
  },
  {
   "cell_type": "markdown",
   "metadata": {},
   "source": [
    "# Encoding"
   ]
  },
  {
   "cell_type": "markdown",
   "metadata": {},
   "source": [
    "In this example now we face an interesting problem. We have categorical values as input. Note that neural networks are a series of mathematical operations; therefore cannot deal with non-numerical variables.\n",
    "\n",
    "But actually we converted the classes into values using a label encoder, so we should be alright? The problem with using the encoder output is that they are indices not values. They don't have mathematical significance. When index of one type is 4 and the other is 2, it doesn't mean some characteristics of the first type has twice the value of the second. We need a better way of dealing with categorical values. \n",
    "\n",
    "One common method is One Hot Encoding. One hot encoding adds a column to features for each type. The value of one of the columns will be one depending on the type.\n",
    "\n",
    "\n",
    "Let's understand this through an example. Let's say the data has feature that only has three types __A__, __B__, and __C__. By one hot encoding we replace the column with three columns. Each column will contain either one or zero. \n",
    "- The first column would be one if the type is __A__ otherwise zero.\n",
    "- The second column would be one if the type is __B__ otherwise zero.\n",
    "- The third column would be one if the type is __C__ otherwise zero.\n",
    "\n",
    "Therefore, if the type was A, the value for the one hot encoded columns would be 1, 0, and , 0.\n",
    "\n",
    "\n",
    "This method has some drawbacks. One issue is that you treat all the categories as unrelated, but what if they are related?"
   ]
  },
  {
   "cell_type": "markdown",
   "metadata": {},
   "source": [
    "## Feature Embedding\n",
    "\n",
    "The flexibility of neural networks allows us to use a technique much better that one hot encoding. This method is called feature embedding. In this method we create a table which assigns a number of features to each class. Then, when the data is passed through the network, instead of the categorical variables their features from the embedding table will be used. What is intersting about this method is that we do not know the values in the table when we start the training process. They will be learned during the training. "
   ]
  },
  {
   "cell_type": "code",
   "execution_count": null,
   "metadata": {
    "ExecuteTime": {
     "end_time": "2020-10-04T05:40:34.267985Z",
     "start_time": "2020-10-04T05:40:32.858738Z"
    }
   },
   "outputs": [],
   "source": []
  },
  {
   "cell_type": "code",
   "execution_count": 27,
   "metadata": {
    "ExecuteTime": {
     "end_time": "2020-10-04T07:30:19.287414Z",
     "start_time": "2020-10-04T07:30:19.225728Z"
    }
   },
   "outputs": [
    {
     "data": {
      "text/plain": [
       "LabelEncoder()"
      ]
     },
     "execution_count": 27,
     "metadata": {},
     "output_type": "execute_result"
    }
   ],
   "source": [
    "from sklearn.preprocessing import StandardScaler, LabelEncoder\n",
    "well_encoder = LabelEncoder()\n",
    "well_encoder.fit(df['Wells'])"
   ]
  },
  {
   "cell_type": "code",
   "execution_count": 28,
   "metadata": {
    "ExecuteTime": {
     "end_time": "2020-10-04T07:30:19.300175Z",
     "start_time": "2020-10-04T07:30:19.296956Z"
    }
   },
   "outputs": [],
   "source": [
    "# We will just give it depth, so it has to really rely on the embedding, and learn a prior for each well\n",
    "feat_cols = [\"Depths\"] # \"CALI\", \"GR\", \"RHOB\", \"DTC\", \"RDEP\", \"RMED\", \"Depths\"]"
   ]
  },
  {
   "cell_type": "markdown",
   "metadata": {},
   "source": [
    "Since we have one categorical variable, and the rest are numerical, we can separate the inputs into a categorical inputs and numerical inputs."
   ]
  },
  {
   "cell_type": "code",
   "execution_count": 29,
   "metadata": {
    "ExecuteTime": {
     "end_time": "2020-10-04T07:30:19.738940Z",
     "start_time": "2020-10-04T07:30:19.310031Z"
    }
   },
   "outputs": [],
   "source": [
    "xnum_train = scaler.fit_transform(df_train[feat_cols].values)\n",
    "xcat_train = well_encoder.transform(df_train['Wells'])\n",
    "y_train = encoder.transform(df_train[\"LITHOLOGY_GEOLINK\"])\n",
    "\n",
    "xnum_test = scaler.transform(df_test[feat_cols].values)\n",
    "xcat_test = well_encoder.transform(df_test['Wells'])\n",
    "y_test = encoder.transform(df_test[\"LITHOLOGY_GEOLINK\"])"
   ]
  },
  {
   "cell_type": "code",
   "execution_count": 30,
   "metadata": {
    "ExecuteTime": {
     "end_time": "2020-10-04T07:30:19.757312Z",
     "start_time": "2020-10-04T07:30:19.741194Z"
    }
   },
   "outputs": [],
   "source": [
    "xnum_train = torch.Tensor(xnum_train).to(device)\n",
    "xcat_train = torch.LongTensor(xcat_train).to(device)\n",
    "y_train = torch.LongTensor(y_train).to(device)\n",
    "\n",
    "xnum_test = torch.Tensor(xnum_test).to(device)\n",
    "xcat_test = torch.LongTensor(xcat_test).to(device)\n",
    "y_test = torch.LongTensor(y_test).to(device)"
   ]
  },
  {
   "cell_type": "markdown",
   "metadata": {},
   "source": [
    "The we need to create a new model with embedding tables for categorical variables. We need to specify how many types there are in our categorical columns (num_classes), and how many values will be used to represent each type (emb_vec_size). Then, in the model we create a stacked linear layers with dropout (as defined before) using the right number of inputs (numerical inputs + embedding features)."
   ]
  },
  {
   "cell_type": "code",
   "execution_count": 31,
   "metadata": {
    "ExecuteTime": {
     "end_time": "2020-10-04T07:30:19.772092Z",
     "start_time": "2020-10-04T07:30:19.759646Z"
    }
   },
   "outputs": [
    {
     "name": "stdout",
     "output_type": "stream",
     "text": [
      "Help on class Embedding in module torch.nn.modules.sparse:\n",
      "\n",
      "class Embedding(torch.nn.modules.module.Module)\n",
      " |  Embedding(num_embeddings: int, embedding_dim: int, padding_idx: Union[int, NoneType] = None, max_norm: Union[float, NoneType] = None, norm_type: float = 2.0, scale_grad_by_freq: bool = False, sparse: bool = False, _weight: Union[torch.Tensor, NoneType] = None) -> None\n",
      " |  \n",
      " |  A simple lookup table that stores embeddings of a fixed dictionary and size.\n",
      " |  \n",
      " |  This module is often used to store word embeddings and retrieve them using indices.\n",
      " |  The input to the module is a list of indices, and the output is the corresponding\n",
      " |  word embeddings.\n",
      " |  \n",
      " |  Args:\n",
      " |      num_embeddings (int): size of the dictionary of embeddings\n",
      " |      embedding_dim (int): the size of each embedding vector\n",
      " |      padding_idx (int, optional): If given, pads the output with the embedding vector at :attr:`padding_idx`\n",
      " |                                       (initialized to zeros) whenever it encounters the index.\n",
      " |      max_norm (float, optional): If given, each embedding vector with norm larger than :attr:`max_norm`\n",
      " |                                  is renormalized to have norm :attr:`max_norm`.\n",
      " |      norm_type (float, optional): The p of the p-norm to compute for the :attr:`max_norm` option. Default ``2``.\n",
      " |      scale_grad_by_freq (boolean, optional): If given, this will scale gradients by the inverse of frequency of\n",
      " |                                              the words in the mini-batch. Default ``False``.\n",
      " |      sparse (bool, optional): If ``True``, gradient w.r.t. :attr:`weight` matrix will be a sparse tensor.\n",
      " |                               See Notes for more details regarding sparse gradients.\n",
      " |  \n",
      " |  Attributes:\n",
      " |      weight (Tensor): the learnable weights of the module of shape (num_embeddings, embedding_dim)\n",
      " |                       initialized from :math:`\\mathcal{N}(0, 1)`\n",
      " |  \n",
      " |  Shape:\n",
      " |      - Input: :math:`(*)`, LongTensor of arbitrary shape containing the indices to extract\n",
      " |      - Output: :math:`(*, H)`, where `*` is the input shape and :math:`H=\\text{embedding\\_dim}`\n",
      " |  \n",
      " |  .. note::\n",
      " |      Keep in mind that only a limited number of optimizers support\n",
      " |      sparse gradients: currently it's :class:`optim.SGD` (`CUDA` and `CPU`),\n",
      " |      :class:`optim.SparseAdam` (`CUDA` and `CPU`) and :class:`optim.Adagrad` (`CPU`)\n",
      " |  \n",
      " |  .. note::\n",
      " |      With :attr:`padding_idx` set, the embedding vector at\n",
      " |      :attr:`padding_idx` is initialized to all zeros. However, note that this\n",
      " |      vector can be modified afterwards, e.g., using a customized\n",
      " |      initialization method, and thus changing the vector used to pad the\n",
      " |      output. The gradient for this vector from :class:`~torch.nn.Embedding`\n",
      " |      is always zero.\n",
      " |  \n",
      " |  Examples::\n",
      " |  \n",
      " |      >>> # an Embedding module containing 10 tensors of size 3\n",
      " |      >>> embedding = nn.Embedding(10, 3)\n",
      " |      >>> # a batch of 2 samples of 4 indices each\n",
      " |      >>> input = torch.LongTensor([[1,2,4,5],[4,3,2,9]])\n",
      " |      >>> embedding(input)\n",
      " |      tensor([[[-0.0251, -1.6902,  0.7172],\n",
      " |               [-0.6431,  0.0748,  0.6969],\n",
      " |               [ 1.4970,  1.3448, -0.9685],\n",
      " |               [-0.3677, -2.7265, -0.1685]],\n",
      " |  \n",
      " |              [[ 1.4970,  1.3448, -0.9685],\n",
      " |               [ 0.4362, -0.4004,  0.9400],\n",
      " |               [-0.6431,  0.0748,  0.6969],\n",
      " |               [ 0.9124, -2.3616,  1.1151]]])\n",
      " |  \n",
      " |  \n",
      " |      >>> # example with padding_idx\n",
      " |      >>> embedding = nn.Embedding(10, 3, padding_idx=0)\n",
      " |      >>> input = torch.LongTensor([[0,2,0,5]])\n",
      " |      >>> embedding(input)\n",
      " |      tensor([[[ 0.0000,  0.0000,  0.0000],\n",
      " |               [ 0.1535, -2.0309,  0.9315],\n",
      " |               [ 0.0000,  0.0000,  0.0000],\n",
      " |               [-0.1655,  0.9897,  0.0635]]])\n",
      " |  \n",
      " |  Method resolution order:\n",
      " |      Embedding\n",
      " |      torch.nn.modules.module.Module\n",
      " |      builtins.object\n",
      " |  \n",
      " |  Methods defined here:\n",
      " |  \n",
      " |  __init__(self, num_embeddings: int, embedding_dim: int, padding_idx: Union[int, NoneType] = None, max_norm: Union[float, NoneType] = None, norm_type: float = 2.0, scale_grad_by_freq: bool = False, sparse: bool = False, _weight: Union[torch.Tensor, NoneType] = None) -> None\n",
      " |      Initializes internal Module state, shared by both nn.Module and ScriptModule.\n",
      " |  \n",
      " |  extra_repr(self) -> str\n",
      " |      Set the extra representation of the module\n",
      " |      \n",
      " |      To print customized extra information, you should reimplement\n",
      " |      this method in your own modules. Both single-line and multi-line\n",
      " |      strings are acceptable.\n",
      " |  \n",
      " |  forward(self, input: torch.Tensor) -> torch.Tensor\n",
      " |  \n",
      " |  reset_parameters(self) -> None\n",
      " |  \n",
      " |  ----------------------------------------------------------------------\n",
      " |  Class methods defined here:\n",
      " |  \n",
      " |  from_pretrained(embeddings, freeze=True, padding_idx=None, max_norm=None, norm_type=2.0, scale_grad_by_freq=False, sparse=False) from builtins.type\n",
      " |      Creates Embedding instance from given 2-dimensional FloatTensor.\n",
      " |      \n",
      " |      Args:\n",
      " |          embeddings (Tensor): FloatTensor containing weights for the Embedding.\n",
      " |              First dimension is being passed to Embedding as ``num_embeddings``, second as ``embedding_dim``.\n",
      " |          freeze (boolean, optional): If ``True``, the tensor does not get updated in the learning process.\n",
      " |              Equivalent to ``embedding.weight.requires_grad = False``. Default: ``True``\n",
      " |          padding_idx (int, optional): See module initialization documentation.\n",
      " |          max_norm (float, optional): See module initialization documentation.\n",
      " |          norm_type (float, optional): See module initialization documentation. Default ``2``.\n",
      " |          scale_grad_by_freq (boolean, optional): See module initialization documentation. Default ``False``.\n",
      " |          sparse (bool, optional): See module initialization documentation.\n",
      " |      \n",
      " |      Examples::\n",
      " |      \n",
      " |          >>> # FloatTensor containing pretrained weights\n",
      " |          >>> weight = torch.FloatTensor([[1, 2.3, 3], [4, 5.1, 6.3]])\n",
      " |          >>> embedding = nn.Embedding.from_pretrained(weight)\n",
      " |          >>> # Get embeddings for index 1\n",
      " |          >>> input = torch.LongTensor([1])\n",
      " |          >>> embedding(input)\n",
      " |          tensor([[ 4.0000,  5.1000,  6.3000]])\n",
      " |  \n",
      " |  ----------------------------------------------------------------------\n",
      " |  Data and other attributes defined here:\n",
      " |  \n",
      " |  __annotations__ = {'embedding_dim': <class 'int'>, 'max_norm': <class ...\n",
      " |  \n",
      " |  __constants__ = ['num_embeddings', 'embedding_dim', 'padding_idx', 'ma...\n",
      " |  \n",
      " |  ----------------------------------------------------------------------\n",
      " |  Methods inherited from torch.nn.modules.module.Module:\n",
      " |  \n",
      " |  __call__ = _call_impl(self, *input, **kwargs)\n",
      " |  \n",
      " |  __delattr__(self, name)\n",
      " |      Implement delattr(self, name).\n",
      " |  \n",
      " |  __dir__(self)\n",
      " |      Default dir() implementation.\n",
      " |  \n",
      " |  __getattr__(self, name: str) -> Union[torch.Tensor, ForwardRef('Module')]\n",
      " |  \n",
      " |  __repr__(self)\n",
      " |      Return repr(self).\n",
      " |  \n",
      " |  __setattr__(self, name: str, value: Union[torch.Tensor, ForwardRef('Module')]) -> None\n",
      " |      Implement setattr(self, name, value).\n",
      " |  \n",
      " |  __setstate__(self, state)\n",
      " |  \n",
      " |  add_module(self, name: str, module: 'Module') -> None\n",
      " |      Adds a child module to the current module.\n",
      " |      \n",
      " |      The module can be accessed as an attribute using the given name.\n",
      " |      \n",
      " |      Args:\n",
      " |          name (string): name of the child module. The child module can be\n",
      " |              accessed from this module using the given name\n",
      " |          module (Module): child module to be added to the module.\n",
      " |  \n",
      " |  apply(self: ~T, fn: Callable[[ForwardRef('Module')], NoneType]) -> ~T\n",
      " |      Applies ``fn`` recursively to every submodule (as returned by ``.children()``)\n",
      " |      as well as self. Typical use includes initializing the parameters of a model\n",
      " |      (see also :ref:`nn-init-doc`).\n",
      " |      \n",
      " |      Args:\n",
      " |          fn (:class:`Module` -> None): function to be applied to each submodule\n",
      " |      \n",
      " |      Returns:\n",
      " |          Module: self\n",
      " |      \n",
      " |      Example::\n",
      " |      \n",
      " |          >>> @torch.no_grad()\n",
      " |          >>> def init_weights(m):\n",
      " |          >>>     print(m)\n",
      " |          >>>     if type(m) == nn.Linear:\n",
      " |          >>>         m.weight.fill_(1.0)\n",
      " |          >>>         print(m.weight)\n",
      " |          >>> net = nn.Sequential(nn.Linear(2, 2), nn.Linear(2, 2))\n",
      " |          >>> net.apply(init_weights)\n",
      " |          Linear(in_features=2, out_features=2, bias=True)\n",
      " |          Parameter containing:\n",
      " |          tensor([[ 1.,  1.],\n",
      " |                  [ 1.,  1.]])\n",
      " |          Linear(in_features=2, out_features=2, bias=True)\n",
      " |          Parameter containing:\n",
      " |          tensor([[ 1.,  1.],\n",
      " |                  [ 1.,  1.]])\n",
      " |          Sequential(\n",
      " |            (0): Linear(in_features=2, out_features=2, bias=True)\n",
      " |            (1): Linear(in_features=2, out_features=2, bias=True)\n",
      " |          )\n",
      " |          Sequential(\n",
      " |            (0): Linear(in_features=2, out_features=2, bias=True)\n",
      " |            (1): Linear(in_features=2, out_features=2, bias=True)\n",
      " |          )\n",
      " |  \n",
      " |  bfloat16(self: ~T) -> ~T\n",
      " |      Casts all floating point parameters and buffers to ``bfloat16`` datatype.\n",
      " |      \n",
      " |      Returns:\n",
      " |          Module: self\n",
      " |  \n",
      " |  buffers(self, recurse: bool = True) -> Iterator[torch.Tensor]\n",
      " |      Returns an iterator over module buffers.\n",
      " |      \n",
      " |      Args:\n",
      " |          recurse (bool): if True, then yields buffers of this module\n",
      " |              and all submodules. Otherwise, yields only buffers that\n",
      " |              are direct members of this module.\n",
      " |      \n",
      " |      Yields:\n",
      " |          torch.Tensor: module buffer\n",
      " |      \n",
      " |      Example::\n",
      " |      \n",
      " |          >>> for buf in model.buffers():\n",
      " |          >>>     print(type(buf), buf.size())\n",
      " |          <class 'torch.Tensor'> (20L,)\n",
      " |          <class 'torch.Tensor'> (20L, 1L, 5L, 5L)\n",
      " |  \n",
      " |  children(self) -> Iterator[ForwardRef('Module')]\n",
      " |      Returns an iterator over immediate children modules.\n",
      " |      \n",
      " |      Yields:\n",
      " |          Module: a child module\n",
      " |  \n",
      " |  cpu(self: ~T) -> ~T\n",
      " |      Moves all model parameters and buffers to the CPU.\n",
      " |      \n",
      " |      Returns:\n",
      " |          Module: self\n",
      " |  \n",
      " |  cuda(self: ~T, device: Union[int, torch.device, NoneType] = None) -> ~T\n",
      " |      Moves all model parameters and buffers to the GPU.\n",
      " |      \n",
      " |      This also makes associated parameters and buffers different objects. So\n",
      " |      it should be called before constructing optimizer if the module will\n",
      " |      live on GPU while being optimized.\n",
      " |      \n",
      " |      Arguments:\n",
      " |          device (int, optional): if specified, all parameters will be\n",
      " |              copied to that device\n",
      " |      \n",
      " |      Returns:\n",
      " |          Module: self\n",
      " |  \n",
      " |  double(self: ~T) -> ~T\n",
      " |      Casts all floating point parameters and buffers to ``double`` datatype.\n",
      " |      \n",
      " |      Returns:\n",
      " |          Module: self\n",
      " |  \n",
      " |  eval(self: ~T) -> ~T\n",
      " |      Sets the module in evaluation mode.\n",
      " |      \n",
      " |      This has any effect only on certain modules. See documentations of\n",
      " |      particular modules for details of their behaviors in training/evaluation\n",
      " |      mode, if they are affected, e.g. :class:`Dropout`, :class:`BatchNorm`,\n",
      " |      etc.\n",
      " |      \n",
      " |      This is equivalent with :meth:`self.train(False) <torch.nn.Module.train>`.\n",
      " |      \n",
      " |      Returns:\n",
      " |          Module: self\n",
      " |  \n",
      " |  float(self: ~T) -> ~T\n",
      " |      Casts all floating point parameters and buffers to float datatype.\n",
      " |      \n",
      " |      Returns:\n",
      " |          Module: self\n",
      " |  \n",
      " |  half(self: ~T) -> ~T\n",
      " |      Casts all floating point parameters and buffers to ``half`` datatype.\n",
      " |      \n",
      " |      Returns:\n",
      " |          Module: self\n",
      " |  \n",
      " |  load_state_dict(self, state_dict: Dict[str, torch.Tensor], strict: bool = True)\n",
      " |      Copies parameters and buffers from :attr:`state_dict` into\n",
      " |      this module and its descendants. If :attr:`strict` is ``True``, then\n",
      " |      the keys of :attr:`state_dict` must exactly match the keys returned\n",
      " |      by this module's :meth:`~torch.nn.Module.state_dict` function.\n",
      " |      \n",
      " |      Arguments:\n",
      " |          state_dict (dict): a dict containing parameters and\n",
      " |              persistent buffers.\n",
      " |          strict (bool, optional): whether to strictly enforce that the keys\n",
      " |              in :attr:`state_dict` match the keys returned by this module's\n",
      " |              :meth:`~torch.nn.Module.state_dict` function. Default: ``True``\n",
      " |      \n",
      " |      Returns:\n",
      " |          ``NamedTuple`` with ``missing_keys`` and ``unexpected_keys`` fields:\n",
      " |              * **missing_keys** is a list of str containing the missing keys\n",
      " |              * **unexpected_keys** is a list of str containing the unexpected keys\n",
      " |  \n",
      " |  modules(self) -> Iterator[ForwardRef('Module')]\n",
      " |      Returns an iterator over all modules in the network.\n",
      " |      \n",
      " |      Yields:\n",
      " |          Module: a module in the network\n",
      " |      \n",
      " |      Note:\n",
      " |          Duplicate modules are returned only once. In the following\n",
      " |          example, ``l`` will be returned only once.\n",
      " |      \n",
      " |      Example::\n",
      " |      \n",
      " |          >>> l = nn.Linear(2, 2)\n",
      " |          >>> net = nn.Sequential(l, l)\n",
      " |          >>> for idx, m in enumerate(net.modules()):\n",
      " |                  print(idx, '->', m)\n",
      " |      \n",
      " |          0 -> Sequential(\n",
      " |            (0): Linear(in_features=2, out_features=2, bias=True)\n",
      " |            (1): Linear(in_features=2, out_features=2, bias=True)\n",
      " |          )\n",
      " |          1 -> Linear(in_features=2, out_features=2, bias=True)\n",
      " |  \n",
      " |  named_buffers(self, prefix: str = '', recurse: bool = True) -> Iterator[Tuple[str, torch.Tensor]]\n",
      " |      Returns an iterator over module buffers, yielding both the\n",
      " |      name of the buffer as well as the buffer itself.\n",
      " |      \n",
      " |      Args:\n",
      " |          prefix (str): prefix to prepend to all buffer names.\n",
      " |          recurse (bool): if True, then yields buffers of this module\n",
      " |              and all submodules. Otherwise, yields only buffers that\n",
      " |              are direct members of this module.\n",
      " |      \n",
      " |      Yields:\n",
      " |          (string, torch.Tensor): Tuple containing the name and buffer\n",
      " |      \n",
      " |      Example::\n",
      " |      \n",
      " |          >>> for name, buf in self.named_buffers():\n",
      " |          >>>    if name in ['running_var']:\n",
      " |          >>>        print(buf.size())\n",
      " |  \n",
      " |  named_children(self) -> Iterator[Tuple[str, ForwardRef('Module')]]\n",
      " |      Returns an iterator over immediate children modules, yielding both\n",
      " |      the name of the module as well as the module itself.\n",
      " |      \n",
      " |      Yields:\n",
      " |          (string, Module): Tuple containing a name and child module\n",
      " |      \n",
      " |      Example::\n",
      " |      \n",
      " |          >>> for name, module in model.named_children():\n",
      " |          >>>     if name in ['conv4', 'conv5']:\n",
      " |          >>>         print(module)\n",
      " |  \n",
      " |  named_modules(self, memo: Union[Set[ForwardRef('Module')], NoneType] = None, prefix: str = '')\n",
      " |      Returns an iterator over all modules in the network, yielding\n",
      " |      both the name of the module as well as the module itself.\n",
      " |      \n",
      " |      Yields:\n",
      " |          (string, Module): Tuple of name and module\n",
      " |      \n",
      " |      Note:\n",
      " |          Duplicate modules are returned only once. In the following\n",
      " |          example, ``l`` will be returned only once.\n",
      " |      \n",
      " |      Example::\n",
      " |      \n",
      " |          >>> l = nn.Linear(2, 2)\n",
      " |          >>> net = nn.Sequential(l, l)\n",
      " |          >>> for idx, m in enumerate(net.named_modules()):\n",
      " |                  print(idx, '->', m)\n",
      " |      \n",
      " |          0 -> ('', Sequential(\n",
      " |            (0): Linear(in_features=2, out_features=2, bias=True)\n",
      " |            (1): Linear(in_features=2, out_features=2, bias=True)\n",
      " |          ))\n",
      " |          1 -> ('0', Linear(in_features=2, out_features=2, bias=True))\n",
      " |  \n",
      " |  named_parameters(self, prefix: str = '', recurse: bool = True) -> Iterator[Tuple[str, torch.Tensor]]\n",
      " |      Returns an iterator over module parameters, yielding both the\n",
      " |      name of the parameter as well as the parameter itself.\n",
      " |      \n",
      " |      Args:\n",
      " |          prefix (str): prefix to prepend to all parameter names.\n",
      " |          recurse (bool): if True, then yields parameters of this module\n",
      " |              and all submodules. Otherwise, yields only parameters that\n",
      " |              are direct members of this module.\n",
      " |      \n",
      " |      Yields:\n",
      " |          (string, Parameter): Tuple containing the name and parameter\n",
      " |      \n",
      " |      Example::\n",
      " |      \n",
      " |          >>> for name, param in self.named_parameters():\n",
      " |          >>>    if name in ['bias']:\n",
      " |          >>>        print(param.size())\n",
      " |  \n",
      " |  parameters(self, recurse: bool = True) -> Iterator[torch.nn.parameter.Parameter]\n",
      " |      Returns an iterator over module parameters.\n",
      " |      \n",
      " |      This is typically passed to an optimizer.\n",
      " |      \n",
      " |      Args:\n",
      " |          recurse (bool): if True, then yields parameters of this module\n",
      " |              and all submodules. Otherwise, yields only parameters that\n",
      " |              are direct members of this module.\n",
      " |      \n",
      " |      Yields:\n",
      " |          Parameter: module parameter\n",
      " |      \n",
      " |      Example::\n",
      " |      \n",
      " |          >>> for param in model.parameters():\n",
      " |          >>>     print(type(param), param.size())\n",
      " |          <class 'torch.Tensor'> (20L,)\n",
      " |          <class 'torch.Tensor'> (20L, 1L, 5L, 5L)\n",
      " |  \n",
      " |  register_backward_hook(self, hook: Callable[[ForwardRef('Module'), Union[Tuple[torch.Tensor, ...], torch.Tensor], Union[Tuple[torch.Tensor, ...], torch.Tensor]], Union[NoneType, torch.Tensor]]) -> torch.utils.hooks.RemovableHandle\n",
      " |      Registers a backward hook on the module.\n",
      " |      \n",
      " |      .. warning ::\n",
      " |      \n",
      " |          The current implementation will not have the presented behavior\n",
      " |          for complex :class:`Module` that perform many operations.\n",
      " |          In some failure cases, :attr:`grad_input` and :attr:`grad_output` will only\n",
      " |          contain the gradients for a subset of the inputs and outputs.\n",
      " |          For such :class:`Module`, you should use :func:`torch.Tensor.register_hook`\n",
      " |          directly on a specific input or output to get the required gradients.\n",
      " |      \n",
      " |      The hook will be called every time the gradients with respect to module\n",
      " |      inputs are computed. The hook should have the following signature::\n",
      " |      \n",
      " |          hook(module, grad_input, grad_output) -> Tensor or None\n",
      " |      \n",
      " |      The :attr:`grad_input` and :attr:`grad_output` may be tuples if the\n",
      " |      module has multiple inputs or outputs. The hook should not modify its\n",
      " |      arguments, but it can optionally return a new gradient with respect to\n",
      " |      input that will be used in place of :attr:`grad_input` in subsequent\n",
      " |      computations. :attr:`grad_input` will only correspond to the inputs given\n",
      " |      as positional arguments.\n",
      " |      \n",
      " |      Returns:\n",
      " |          :class:`torch.utils.hooks.RemovableHandle`:\n",
      " |              a handle that can be used to remove the added hook by calling\n",
      " |              ``handle.remove()``\n",
      " |  \n",
      " |  register_buffer(self, name: str, tensor: torch.Tensor, persistent: bool = True) -> None\n",
      " |      Adds a buffer to the module.\n",
      " |      \n",
      " |      This is typically used to register a buffer that should not to be\n",
      " |      considered a model parameter. For example, BatchNorm's ``running_mean``\n",
      " |      is not a parameter, but is part of the module's state. Buffers, by\n",
      " |      default, are persistent and will be saved alongside parameters. This\n",
      " |      behavior can be changed by setting :attr:`persistent` to ``False``. The\n",
      " |      only difference between a persistent buffer and a non-persistent buffer\n",
      " |      is that the latter will not be a part of this module's\n",
      " |      :attr:`state_dict`.\n",
      " |      \n",
      " |      Buffers can be accessed as attributes using given names.\n",
      " |      \n",
      " |      Args:\n",
      " |          name (string): name of the buffer. The buffer can be accessed\n",
      " |              from this module using the given name\n",
      " |          tensor (Tensor): buffer to be registered.\n",
      " |          persistent (bool): whether the buffer is part of this module's\n",
      " |              :attr:`state_dict`.\n",
      " |      \n",
      " |      Example::\n",
      " |      \n",
      " |          >>> self.register_buffer('running_mean', torch.zeros(num_features))\n",
      " |  \n",
      " |  register_forward_hook(self, hook: Callable[..., NoneType]) -> torch.utils.hooks.RemovableHandle\n",
      " |      Registers a forward hook on the module.\n",
      " |      \n",
      " |      The hook will be called every time after :func:`forward` has computed an output.\n",
      " |      It should have the following signature::\n",
      " |      \n",
      " |          hook(module, input, output) -> None or modified output\n",
      " |      \n",
      " |      The input contains only the positional arguments given to the module.\n",
      " |      Keyword arguments won't be passed to the hooks and only to the ``forward``.\n",
      " |      The hook can modify the output. It can modify the input inplace but\n",
      " |      it will not have effect on forward since this is called after\n",
      " |      :func:`forward` is called.\n",
      " |      \n",
      " |      Returns:\n",
      " |          :class:`torch.utils.hooks.RemovableHandle`:\n",
      " |              a handle that can be used to remove the added hook by calling\n",
      " |              ``handle.remove()``\n",
      " |  \n",
      " |  register_forward_pre_hook(self, hook: Callable[..., NoneType]) -> torch.utils.hooks.RemovableHandle\n",
      " |      Registers a forward pre-hook on the module.\n",
      " |      \n",
      " |      The hook will be called every time before :func:`forward` is invoked.\n",
      " |      It should have the following signature::\n",
      " |      \n",
      " |          hook(module, input) -> None or modified input\n",
      " |      \n",
      " |      The input contains only the positional arguments given to the module.\n",
      " |      Keyword arguments won't be passed to the hooks and only to the ``forward``.\n",
      " |      The hook can modify the input. User can either return a tuple or a\n",
      " |      single modified value in the hook. We will wrap the value into a tuple\n",
      " |      if a single value is returned(unless that value is already a tuple).\n",
      " |      \n",
      " |      Returns:\n",
      " |          :class:`torch.utils.hooks.RemovableHandle`:\n",
      " |              a handle that can be used to remove the added hook by calling\n",
      " |              ``handle.remove()``\n",
      " |  \n",
      " |  register_parameter(self, name: str, param: torch.nn.parameter.Parameter) -> None\n",
      " |      Adds a parameter to the module.\n",
      " |      \n",
      " |      The parameter can be accessed as an attribute using given name.\n",
      " |      \n",
      " |      Args:\n",
      " |          name (string): name of the parameter. The parameter can be accessed\n",
      " |              from this module using the given name\n",
      " |          param (Parameter): parameter to be added to the module.\n",
      " |  \n",
      " |  requires_grad_(self: ~T, requires_grad: bool = True) -> ~T\n",
      " |      Change if autograd should record operations on parameters in this\n",
      " |      module.\n",
      " |      \n",
      " |      This method sets the parameters' :attr:`requires_grad` attributes\n",
      " |      in-place.\n",
      " |      \n",
      " |      This method is helpful for freezing part of the module for finetuning\n",
      " |      or training parts of a model individually (e.g., GAN training).\n",
      " |      \n",
      " |      Args:\n",
      " |          requires_grad (bool): whether autograd should record operations on\n",
      " |                                parameters in this module. Default: ``True``.\n",
      " |      \n",
      " |      Returns:\n",
      " |          Module: self\n",
      " |  \n",
      " |  share_memory(self: ~T) -> ~T\n",
      " |  \n",
      " |  state_dict(self, destination=None, prefix='', keep_vars=False)\n",
      " |      Returns a dictionary containing a whole state of the module.\n",
      " |      \n",
      " |      Both parameters and persistent buffers (e.g. running averages) are\n",
      " |      included. Keys are corresponding parameter and buffer names.\n",
      " |      \n",
      " |      Returns:\n",
      " |          dict:\n",
      " |              a dictionary containing a whole state of the module\n",
      " |      \n",
      " |      Example::\n",
      " |      \n",
      " |          >>> module.state_dict().keys()\n",
      " |          ['bias', 'weight']\n",
      " |  \n",
      " |  to(self, *args, **kwargs)\n",
      " |      Moves and/or casts the parameters and buffers.\n",
      " |      \n",
      " |      This can be called as\n",
      " |      \n",
      " |      .. function:: to(device=None, dtype=None, non_blocking=False)\n",
      " |      \n",
      " |      .. function:: to(dtype, non_blocking=False)\n",
      " |      \n",
      " |      .. function:: to(tensor, non_blocking=False)\n",
      " |      \n",
      " |      .. function:: to(memory_format=torch.channels_last)\n",
      " |      \n",
      " |      Its signature is similar to :meth:`torch.Tensor.to`, but only accepts\n",
      " |      floating point desired :attr:`dtype` s. In addition, this method will\n",
      " |      only cast the floating point parameters and buffers to :attr:`dtype`\n",
      " |      (if given). The integral parameters and buffers will be moved\n",
      " |      :attr:`device`, if that is given, but with dtypes unchanged. When\n",
      " |      :attr:`non_blocking` is set, it tries to convert/move asynchronously\n",
      " |      with respect to the host if possible, e.g., moving CPU Tensors with\n",
      " |      pinned memory to CUDA devices.\n",
      " |      \n",
      " |      See below for examples.\n",
      " |      \n",
      " |      .. note::\n",
      " |          This method modifies the module in-place.\n",
      " |      \n",
      " |      Args:\n",
      " |          device (:class:`torch.device`): the desired device of the parameters\n",
      " |              and buffers in this module\n",
      " |          dtype (:class:`torch.dtype`): the desired floating point type of\n",
      " |              the floating point parameters and buffers in this module\n",
      " |          tensor (torch.Tensor): Tensor whose dtype and device are the desired\n",
      " |              dtype and device for all parameters and buffers in this module\n",
      " |          memory_format (:class:`torch.memory_format`): the desired memory\n",
      " |              format for 4D parameters and buffers in this module (keyword\n",
      " |              only argument)\n",
      " |      \n",
      " |      Returns:\n",
      " |          Module: self\n",
      " |      \n",
      " |      Example::\n",
      " |      \n",
      " |          >>> linear = nn.Linear(2, 2)\n",
      " |          >>> linear.weight\n",
      " |          Parameter containing:\n",
      " |          tensor([[ 0.1913, -0.3420],\n",
      " |                  [-0.5113, -0.2325]])\n",
      " |          >>> linear.to(torch.double)\n",
      " |          Linear(in_features=2, out_features=2, bias=True)\n",
      " |          >>> linear.weight\n",
      " |          Parameter containing:\n",
      " |          tensor([[ 0.1913, -0.3420],\n",
      " |                  [-0.5113, -0.2325]], dtype=torch.float64)\n",
      " |          >>> gpu1 = torch.device(\"cuda:1\")\n",
      " |          >>> linear.to(gpu1, dtype=torch.half, non_blocking=True)\n",
      " |          Linear(in_features=2, out_features=2, bias=True)\n",
      " |          >>> linear.weight\n",
      " |          Parameter containing:\n",
      " |          tensor([[ 0.1914, -0.3420],\n",
      " |                  [-0.5112, -0.2324]], dtype=torch.float16, device='cuda:1')\n",
      " |          >>> cpu = torch.device(\"cpu\")\n",
      " |          >>> linear.to(cpu)\n",
      " |          Linear(in_features=2, out_features=2, bias=True)\n",
      " |          >>> linear.weight\n",
      " |          Parameter containing:\n",
      " |          tensor([[ 0.1914, -0.3420],\n",
      " |                  [-0.5112, -0.2324]], dtype=torch.float16)\n",
      " |  \n",
      " |  train(self: ~T, mode: bool = True) -> ~T\n",
      " |      Sets the module in training mode.\n",
      " |      \n",
      " |      This has any effect only on certain modules. See documentations of\n",
      " |      particular modules for details of their behaviors in training/evaluation\n",
      " |      mode, if they are affected, e.g. :class:`Dropout`, :class:`BatchNorm`,\n",
      " |      etc.\n",
      " |      \n",
      " |      Args:\n",
      " |          mode (bool): whether to set training mode (``True``) or evaluation\n",
      " |                       mode (``False``). Default: ``True``.\n",
      " |      \n",
      " |      Returns:\n",
      " |          Module: self\n",
      " |  \n",
      " |  type(self: ~T, dst_type: Union[torch.dtype, str]) -> ~T\n",
      " |      Casts all parameters and buffers to :attr:`dst_type`.\n",
      " |      \n",
      " |      Arguments:\n",
      " |          dst_type (type or string): the desired type\n",
      " |      \n",
      " |      Returns:\n",
      " |          Module: self\n",
      " |  \n",
      " |  zero_grad(self) -> None\n",
      " |      Sets gradients of all model parameters to zero.\n",
      " |  \n",
      " |  ----------------------------------------------------------------------\n",
      " |  Data descriptors inherited from torch.nn.modules.module.Module:\n",
      " |  \n",
      " |  __dict__\n",
      " |      dictionary for instance variables (if defined)\n",
      " |  \n",
      " |  __weakref__\n",
      " |      list of weak references to the object (if defined)\n",
      " |  \n",
      " |  ----------------------------------------------------------------------\n",
      " |  Data and other attributes inherited from torch.nn.modules.module.Module:\n",
      " |  \n",
      " |  T_destination = ~T_destination\n",
      " |  \n",
      " |  dump_patches = False\n",
      "\n"
     ]
    }
   ],
   "source": [
    "help(nn.Embedding)"
   ]
  },
  {
   "cell_type": "code",
   "execution_count": 32,
   "metadata": {
    "ExecuteTime": {
     "end_time": "2020-10-04T07:30:19.779957Z",
     "start_time": "2020-10-04T07:30:19.774220Z"
    }
   },
   "outputs": [],
   "source": [
    "class FeatureEmbed(nn.Module):\n",
    "    def __init__(self, hidden_size, num_classes, emb_vec_size, output_size):\n",
    "        super(FeatureEmbed, self).__init__()\n",
    "        self.emb = nn.Embedding(num_classes, emb_vec_size)\n",
    "        self.net = SimpleLinear(\n",
    "            input_size=len(feat_cols) + emb_vec_size,\n",
    "            output_size=output_size,\n",
    "            hidden_size=hidden_size\n",
    "        )\n",
    "\n",
    "    def forward(self, xnum, xcat):\n",
    "        x1 = self.emb(xcat)\n",
    "        x_in = torch.cat((x1, xnum), dim=1)\n",
    "        return self.net(x_in)"
   ]
  },
  {
   "cell_type": "markdown",
   "metadata": {},
   "source": [
    "Now, we can create an instance of the model."
   ]
  },
  {
   "cell_type": "code",
   "execution_count": 33,
   "metadata": {
    "ExecuteTime": {
     "end_time": "2020-10-04T07:30:19.786985Z",
     "start_time": "2020-10-04T07:30:19.781640Z"
    }
   },
   "outputs": [],
   "source": [
    "num_classes=len(well_encoder.classes_)\n",
    "model = FeatureEmbed(\n",
    "    hidden_size=6,\n",
    "    num_classes=num_classes,\n",
    "    emb_vec_size=2,\n",
    "    output_size=len(encoder.classes_)\n",
    ").to(device)"
   ]
  },
  {
   "cell_type": "markdown",
   "metadata": {},
   "source": [
    "Use Mean Square Error as loss function."
   ]
  },
  {
   "cell_type": "code",
   "execution_count": 34,
   "metadata": {
    "ExecuteTime": {
     "end_time": "2020-10-04T07:30:19.792175Z",
     "start_time": "2020-10-04T07:30:19.788915Z"
    }
   },
   "outputs": [],
   "source": [
    "loss_func = nn.CrossEntropyLoss()\n",
    "optimizer = optim.Adam(model.parameters(), lr=0.001, weight_decay=0.001)"
   ]
  },
  {
   "cell_type": "markdown",
   "metadata": {},
   "source": [
    "And define a training loop. The training loop is slightly different, since we have a numerical input and a categorical input."
   ]
  },
  {
   "cell_type": "code",
   "execution_count": 35,
   "metadata": {
    "ExecuteTime": {
     "end_time": "2020-10-04T07:30:19.803801Z",
     "start_time": "2020-10-04T07:30:19.794010Z"
    }
   },
   "outputs": [],
   "source": [
    "def train_emb_model(model, epochs=10, bs=256):\n",
    "    for epoch in tqdm(range(epochs), unit='epoch'):\n",
    "        training_loss = []\n",
    "        for i in tqdm(range(0, len(x_train), bs), leave=False, desc='train'):\n",
    "            model.train()\n",
    "            optimizer.zero_grad()\n",
    "            preds = model(xnum_train[i : i + bs, :], xcat_train[i : i + bs])\n",
    "            loss = loss_func(preds, y_train[i : i + bs])\n",
    "            loss.backward()\n",
    "            optimizer.step()\n",
    "            training_loss.append(loss.item())\n",
    "            if i % 1000 == 0:\n",
    "                print('Loss: {:.3f}'.format(np.mean(training_loss)), end=\"\\r\", flush=True)\n",
    "                \n",
    "        test_loss = []\n",
    "        for i in tqdm(range(0, len(xnum_test), bs), leave=False, desc='test'):\n",
    "            model.eval()\n",
    "            preds = model(xnum_test[i : i + bs, :], xcat_test[i : i + bs])\n",
    "            loss = loss_func(preds, y_test[i : i + bs])\n",
    "            if torch.isfinite(loss):\n",
    "                test_loss.append(loss.item())\n",
    "        test_loss = np.mean(test_loss)\n",
    "        print('Epoch#{}, Test Loss = {:.3f}, Train Loss = {:.3f}'.format(epoch + 1, np.mean(training_loss), test_loss))"
   ]
  },
  {
   "cell_type": "code",
   "execution_count": 36,
   "metadata": {
    "ExecuteTime": {
     "end_time": "2020-10-04T07:33:10.515249Z",
     "start_time": "2020-10-04T07:30:19.805899Z"
    }
   },
   "outputs": [
    {
     "data": {
      "application/vnd.jupyter.widget-view+json": {
       "model_id": "396390f80a0440b29e8a2b096b097583",
       "version_major": 2,
       "version_minor": 0
      },
      "text/plain": [
       "HBox(children=(FloatProgress(value=0.0, max=10.0), HTML(value='')))"
      ]
     },
     "metadata": {},
     "output_type": "display_data"
    },
    {
     "data": {
      "application/vnd.jupyter.widget-view+json": {
       "model_id": "",
       "version_major": 2,
       "version_minor": 0
      },
      "text/plain": [
       "HBox(children=(FloatProgress(value=0.0, description='train', max=3493.0, style=ProgressStyle(description_width…"
      ]
     },
     "metadata": {},
     "output_type": "display_data"
    },
    {
     "name": "stdout",
     "output_type": "stream",
     "text": [
      "Loss: 2.122\r"
     ]
    },
    {
     "data": {
      "application/vnd.jupyter.widget-view+json": {
       "model_id": "",
       "version_major": 2,
       "version_minor": 0
      },
      "text/plain": [
       "HBox(children=(FloatProgress(value=0.0, description='test', max=1165.0, style=ProgressStyle(description_width=…"
      ]
     },
     "metadata": {},
     "output_type": "display_data"
    },
    {
     "name": "stdout",
     "output_type": "stream",
     "text": [
      "Epoch#1, Test Loss = 2.115, Train Loss = 1.915\n"
     ]
    },
    {
     "data": {
      "application/vnd.jupyter.widget-view+json": {
       "model_id": "",
       "version_major": 2,
       "version_minor": 0
      },
      "text/plain": [
       "HBox(children=(FloatProgress(value=0.0, description='train', max=3493.0, style=ProgressStyle(description_width…"
      ]
     },
     "metadata": {},
     "output_type": "display_data"
    },
    {
     "name": "stdout",
     "output_type": "stream",
     "text": [
      "Loss: 1.856\r"
     ]
    },
    {
     "data": {
      "application/vnd.jupyter.widget-view+json": {
       "model_id": "",
       "version_major": 2,
       "version_minor": 0
      },
      "text/plain": [
       "HBox(children=(FloatProgress(value=0.0, description='test', max=1165.0, style=ProgressStyle(description_width=…"
      ]
     },
     "metadata": {},
     "output_type": "display_data"
    },
    {
     "name": "stdout",
     "output_type": "stream",
     "text": [
      "Epoch#2, Test Loss = 1.855, Train Loss = 1.824\n"
     ]
    },
    {
     "data": {
      "application/vnd.jupyter.widget-view+json": {
       "model_id": "",
       "version_major": 2,
       "version_minor": 0
      },
      "text/plain": [
       "HBox(children=(FloatProgress(value=0.0, description='train', max=3493.0, style=ProgressStyle(description_width…"
      ]
     },
     "metadata": {},
     "output_type": "display_data"
    },
    {
     "name": "stdout",
     "output_type": "stream",
     "text": [
      "Loss: 1.810\r"
     ]
    },
    {
     "data": {
      "application/vnd.jupyter.widget-view+json": {
       "model_id": "",
       "version_major": 2,
       "version_minor": 0
      },
      "text/plain": [
       "HBox(children=(FloatProgress(value=0.0, description='test', max=1165.0, style=ProgressStyle(description_width=…"
      ]
     },
     "metadata": {},
     "output_type": "display_data"
    },
    {
     "name": "stdout",
     "output_type": "stream",
     "text": [
      "Epoch#3, Test Loss = 1.810, Train Loss = 1.800\n"
     ]
    },
    {
     "data": {
      "application/vnd.jupyter.widget-view+json": {
       "model_id": "",
       "version_major": 2,
       "version_minor": 0
      },
      "text/plain": [
       "HBox(children=(FloatProgress(value=0.0, description='train', max=3493.0, style=ProgressStyle(description_width…"
      ]
     },
     "metadata": {},
     "output_type": "display_data"
    },
    {
     "name": "stdout",
     "output_type": "stream",
     "text": [
      "Loss: 1.792\r"
     ]
    },
    {
     "data": {
      "application/vnd.jupyter.widget-view+json": {
       "model_id": "",
       "version_major": 2,
       "version_minor": 0
      },
      "text/plain": [
       "HBox(children=(FloatProgress(value=0.0, description='test', max=1165.0, style=ProgressStyle(description_width=…"
      ]
     },
     "metadata": {},
     "output_type": "display_data"
    },
    {
     "name": "stdout",
     "output_type": "stream",
     "text": [
      "Epoch#4, Test Loss = 1.792, Train Loss = 1.788\n"
     ]
    },
    {
     "data": {
      "application/vnd.jupyter.widget-view+json": {
       "model_id": "",
       "version_major": 2,
       "version_minor": 0
      },
      "text/plain": [
       "HBox(children=(FloatProgress(value=0.0, description='train', max=3493.0, style=ProgressStyle(description_width…"
      ]
     },
     "metadata": {},
     "output_type": "display_data"
    },
    {
     "name": "stdout",
     "output_type": "stream",
     "text": [
      "Loss: 1.783\r"
     ]
    },
    {
     "data": {
      "application/vnd.jupyter.widget-view+json": {
       "model_id": "",
       "version_major": 2,
       "version_minor": 0
      },
      "text/plain": [
       "HBox(children=(FloatProgress(value=0.0, description='test', max=1165.0, style=ProgressStyle(description_width=…"
      ]
     },
     "metadata": {},
     "output_type": "display_data"
    },
    {
     "name": "stdout",
     "output_type": "stream",
     "text": [
      "Epoch#5, Test Loss = 1.783, Train Loss = 1.781\n"
     ]
    },
    {
     "data": {
      "application/vnd.jupyter.widget-view+json": {
       "model_id": "",
       "version_major": 2,
       "version_minor": 0
      },
      "text/plain": [
       "HBox(children=(FloatProgress(value=0.0, description='train', max=3493.0, style=ProgressStyle(description_width…"
      ]
     },
     "metadata": {},
     "output_type": "display_data"
    },
    {
     "name": "stdout",
     "output_type": "stream",
     "text": [
      "Loss: 1.778\r"
     ]
    },
    {
     "data": {
      "application/vnd.jupyter.widget-view+json": {
       "model_id": "",
       "version_major": 2,
       "version_minor": 0
      },
      "text/plain": [
       "HBox(children=(FloatProgress(value=0.0, description='test', max=1165.0, style=ProgressStyle(description_width=…"
      ]
     },
     "metadata": {},
     "output_type": "display_data"
    },
    {
     "name": "stdout",
     "output_type": "stream",
     "text": [
      "Epoch#6, Test Loss = 1.778, Train Loss = 1.777\n"
     ]
    },
    {
     "data": {
      "application/vnd.jupyter.widget-view+json": {
       "model_id": "",
       "version_major": 2,
       "version_minor": 0
      },
      "text/plain": [
       "HBox(children=(FloatProgress(value=0.0, description='train', max=3493.0, style=ProgressStyle(description_width…"
      ]
     },
     "metadata": {},
     "output_type": "display_data"
    },
    {
     "name": "stdout",
     "output_type": "stream",
     "text": [
      "Loss: 1.763\r"
     ]
    },
    {
     "data": {
      "application/vnd.jupyter.widget-view+json": {
       "model_id": "",
       "version_major": 2,
       "version_minor": 0
      },
      "text/plain": [
       "HBox(children=(FloatProgress(value=0.0, description='test', max=1165.0, style=ProgressStyle(description_width=…"
      ]
     },
     "metadata": {},
     "output_type": "display_data"
    },
    {
     "name": "stdout",
     "output_type": "stream",
     "text": [
      "Epoch#7, Test Loss = 1.763, Train Loss = 1.757\n"
     ]
    },
    {
     "data": {
      "application/vnd.jupyter.widget-view+json": {
       "model_id": "",
       "version_major": 2,
       "version_minor": 0
      },
      "text/plain": [
       "HBox(children=(FloatProgress(value=0.0, description='train', max=3493.0, style=ProgressStyle(description_width…"
      ]
     },
     "metadata": {},
     "output_type": "display_data"
    },
    {
     "name": "stdout",
     "output_type": "stream",
     "text": [
      "Loss: 1.754\r"
     ]
    },
    {
     "data": {
      "application/vnd.jupyter.widget-view+json": {
       "model_id": "",
       "version_major": 2,
       "version_minor": 0
      },
      "text/plain": [
       "HBox(children=(FloatProgress(value=0.0, description='test', max=1165.0, style=ProgressStyle(description_width=…"
      ]
     },
     "metadata": {},
     "output_type": "display_data"
    },
    {
     "name": "stdout",
     "output_type": "stream",
     "text": [
      "Epoch#8, Test Loss = 1.754, Train Loss = 1.753\n"
     ]
    },
    {
     "data": {
      "application/vnd.jupyter.widget-view+json": {
       "model_id": "",
       "version_major": 2,
       "version_minor": 0
      },
      "text/plain": [
       "HBox(children=(FloatProgress(value=0.0, description='train', max=3493.0, style=ProgressStyle(description_width…"
      ]
     },
     "metadata": {},
     "output_type": "display_data"
    },
    {
     "name": "stdout",
     "output_type": "stream",
     "text": [
      "Loss: 1.749\r"
     ]
    },
    {
     "data": {
      "application/vnd.jupyter.widget-view+json": {
       "model_id": "",
       "version_major": 2,
       "version_minor": 0
      },
      "text/plain": [
       "HBox(children=(FloatProgress(value=0.0, description='test', max=1165.0, style=ProgressStyle(description_width=…"
      ]
     },
     "metadata": {},
     "output_type": "display_data"
    },
    {
     "name": "stdout",
     "output_type": "stream",
     "text": [
      "Epoch#9, Test Loss = 1.749, Train Loss = 1.746\n"
     ]
    },
    {
     "data": {
      "application/vnd.jupyter.widget-view+json": {
       "model_id": "",
       "version_major": 2,
       "version_minor": 0
      },
      "text/plain": [
       "HBox(children=(FloatProgress(value=0.0, description='train', max=3493.0, style=ProgressStyle(description_width…"
      ]
     },
     "metadata": {},
     "output_type": "display_data"
    },
    {
     "name": "stdout",
     "output_type": "stream",
     "text": [
      "Loss: 1.744\r"
     ]
    },
    {
     "data": {
      "application/vnd.jupyter.widget-view+json": {
       "model_id": "",
       "version_major": 2,
       "version_minor": 0
      },
      "text/plain": [
       "HBox(children=(FloatProgress(value=0.0, description='test', max=1165.0, style=ProgressStyle(description_width=…"
      ]
     },
     "metadata": {},
     "output_type": "display_data"
    },
    {
     "name": "stdout",
     "output_type": "stream",
     "text": [
      "Epoch#10, Test Loss = 1.744, Train Loss = 1.742\n",
      "\n"
     ]
    }
   ],
   "source": [
    "train_emb_model(model, epochs=10, bs=256)"
   ]
  },
  {
   "cell_type": "markdown",
   "metadata": {},
   "source": [
    "We can use accuracy as metric."
   ]
  },
  {
   "cell_type": "code",
   "execution_count": 37,
   "metadata": {
    "ExecuteTime": {
     "end_time": "2020-10-04T07:33:10.522061Z",
     "start_time": "2020-10-04T07:33:10.517286Z"
    }
   },
   "outputs": [],
   "source": [
    "def accuracy2(model, xnum, xcat, y):\n",
    "    m = model.to(\"cpu\")\n",
    "    m.eval()\n",
    "    preds = m(xnum.to(\"cpu\"), xcat.to(\"cpu\")).argmax(-1)\n",
    "    preds = preds.detach().numpy()\n",
    "    return metrics.accuracy_score(y.to(\"cpu\").numpy(), preds)"
   ]
  },
  {
   "cell_type": "code",
   "execution_count": 38,
   "metadata": {
    "ExecuteTime": {
     "end_time": "2020-10-04T07:33:10.799856Z",
     "start_time": "2020-10-04T07:33:10.523928Z"
    }
   },
   "outputs": [
    {
     "data": {
      "text/plain": [
       "0.38909931883323773"
      ]
     },
     "execution_count": 38,
     "metadata": {},
     "output_type": "execute_result"
    }
   ],
   "source": [
    "accuracy2(model, xnum_train, xcat_train, y_train)"
   ]
  },
  {
   "cell_type": "code",
   "execution_count": 39,
   "metadata": {
    "ExecuteTime": {
     "end_time": "2020-10-04T07:33:10.888458Z",
     "start_time": "2020-10-04T07:33:10.801892Z"
    }
   },
   "outputs": [
    {
     "data": {
      "text/plain": [
       "0.3899378665271012"
      ]
     },
     "execution_count": 39,
     "metadata": {},
     "output_type": "execute_result"
    }
   ],
   "source": [
    "accuracy2(model, xnum_test, xcat_test, y_test)"
   ]
  },
  {
   "cell_type": "markdown",
   "metadata": {},
   "source": [
    "The model is trained, which means we should be able to have a look at embedding table and see the values in there."
   ]
  },
  {
   "cell_type": "code",
   "execution_count": 40,
   "metadata": {
    "ExecuteTime": {
     "end_time": "2020-10-04T07:33:10.893153Z",
     "start_time": "2020-10-04T07:33:10.890348Z"
    }
   },
   "outputs": [],
   "source": [
    "embed = model.emb.weight.detach().numpy()"
   ]
  },
  {
   "cell_type": "code",
   "execution_count": 41,
   "metadata": {
    "ExecuteTime": {
     "end_time": "2020-10-04T07:33:11.290951Z",
     "start_time": "2020-10-04T07:33:10.895031Z"
    }
   },
   "outputs": [
    {
     "data": {
      "text/plain": [
       "Text(0, 0.5, 'embedding dimension B')"
      ]
     },
     "execution_count": 41,
     "metadata": {},
     "output_type": "execute_result"
    },
    {
     "data": {
      "image/png": "[encoded data removed]",
      "text/plain": [
       "<Figure size 576x576 with 1 Axes>"
      ]
     },
     "metadata": {
      "needs_background": "light"
     },
     "output_type": "display_data"
    }
   ],
   "source": [
    "x_emb = embed[:, 0]\n",
    "y_emb = embed[:, 1]\n",
    "well_names_emb = well_encoder.inverse_transform(range(len(x_emb)))\n",
    "\n",
    "plt.figure(figsize=(8, 8))\n",
    "plt.scatter(x_emb, y_emb, c=range(len(x_emb)), cmap='brg')\n",
    "\n",
    "# Labels for every Nth\n",
    "for i in range(0, num_classes, 5):\n",
    "    plt.text(x_emb[i]+0.03, y_emb[i]+0.03, well_names_emb[i], color='k', ha='left', va='bottom')\n",
    "    \n",
    "plt.title('Embedded well \"position\"')\n",
    "plt.xlabel('embedding dimension A')\n",
    "plt.ylabel('embedding dimension B')"
   ]
  },
  {
   "cell_type": "markdown",
   "metadata": {
    "ExecuteTime": {
     "end_time": "2020-10-04T07:23:22.277873Z",
     "start_time": "2020-10-04T07:23:22.271159Z"
    }
   },
   "source": [
    "Lets compare the embedding position to real well positions"
   ]
  },
  {
   "cell_type": "code",
   "execution_count": 42,
   "metadata": {
    "ExecuteTime": {
     "end_time": "2020-10-04T07:33:12.743400Z",
     "start_time": "2020-10-04T07:33:11.293316Z"
    }
   },
   "outputs": [
    {
     "data": {
      "text/plain": [
       "Text(0, 0.5, 'y')"
      ]
     },
     "execution_count": 42,
     "metadata": {},
     "output_type": "execute_result"
    },
    {
     "data": {
      "image/png": "[encoded data removed]",
      "text/plain": [
       "<Figure size 1152x864 with 2 Axes>"
      ]
     },
     "metadata": {
      "needs_background": "light"
     },
     "output_type": "display_data"
    }
   ],
   "source": [
    "import geopandas as gpd\n",
    "from pathlib import Path\n",
    "interim_locations = Path(\"../../data/processed/geolink_norge_dataset/\")\n",
    "df_well_tops = gpd.read_file(interim_locations / \"norge_well_tops.gpkg\")[['wlbWellboreName_geolink', 'geometry']].sort_values('wlbWellboreName_geolink')\n",
    "\n",
    "plt.subplots(1, 2, figsize=(16, 12))\n",
    "\n",
    "plt.subplot(121)\n",
    "plt.scatter(x_emb, y_emb, c=range(len(x_emb)), cmap='brg')\n",
    "\n",
    "# Labels for every Nth\n",
    "named_wells = []\n",
    "for i in range(0, num_classes, 10):\n",
    "    named_wells.append(well_names_emb[i])\n",
    "    plt.text(x_emb[i]+0.03, y_emb[i]+0.03, well_names_emb[i], color='k', ha='left', va='bottom')\n",
    "    \n",
    "plt.title('Embedded well \"position\"')\n",
    "plt.xlabel('embedding dimension A')\n",
    "plt.ylabel('embedding dimension B')\n",
    "\n",
    "plt.subplot(122)\n",
    "x = df_well_tops['x'] = df_well_tops.geometry.x\n",
    "y = df_well_tops['y'] = -df_well_tops.geometry.y\n",
    "well_names = df_well_tops.wlbWellboreName_geolink\n",
    "\n",
    "plt.scatter(x, y, c=range(len(x)), cmap='brg')\n",
    "\n",
    "# Labels for every Nth\n",
    "for i in range(0, num_classes):\n",
    "    if well_names[i] in named_wells:\n",
    "        plt.text(x[i]+0.03, y[i]+0.03, well_names[i], color='k', ha='left', va='bottom')\n",
    "\n",
    "plt.title('Real well position')\n",
    "plt.xlabel('x')\n",
    "plt.ylabel('y')"
   ]
  },
  {
   "cell_type": "markdown",
   "metadata": {},
   "source": [
    "The plot above shows the two values we used for each type. If the model is trained well, we should be able to see types with closer characteristics should be placed closer to each other in the plot above. \n",
    "\n",
    "In this case we should see wells with similar names and colors clustered. Above we see that the colors form very rough clusters, but are not as good as the real life embeddings.\n",
    "\n",
    "This is another interesting feature of embedding tables. It allows us to not only to convert categorical variables to numericals, but also we can see the behaviour of each class and compare them together.\n",
    "\n",
    "Why not just x and y as out embeddings? Of course we could but this example helped illustrate learned embeddings.\n"
   ]
  },
  {
   "cell_type": "markdown",
   "metadata": {},
   "source": [
    "\n",
    "<div class=\"alert alert-success\">\n",
    "  <h3>Exercise</h3>\n",
    "\n",
    "  Try increasing the number of embedding features to $5$ and see how it would affect $R^2$ value.\n",
    "    \n",
    "\n",
    "  <br/>\n",
    "  <br/>\n",
    "  <details>\n",
    "  <summary>\n",
    "    <b>→ Solution</b>\n",
    "  </summary>\n",
    "\n",
    "```Python\n",
    "vec_size = 5\n",
    "dropout = 0.3\n",
    "model = FeatureEmbed(\n",
    "    hidden_sizes=64,\n",
    "    num_classes=num_classes,\n",
    "    emb_vec_size=vec_size\n",
    ").to(device)\n",
    "optimizer = optim.Adam(model.parameters(), lr=0.001, weight_decay=0.001)\n",
    "train_emb_model(model, epochs=10, bs=256)\n",
    "Rsquare(model, xnum_test, xcat_test, y_test)\n",
    "```\n",
    "\n",
    "\n",
    "  </details>\n",
    "\n",
    "  </div>\n"
   ]
  },
  {
   "cell_type": "code",
   "execution_count": 43,
   "metadata": {
    "ExecuteTime": {
     "end_time": "2020-10-04T07:33:12.748260Z",
     "start_time": "2020-10-04T07:33:12.745546Z"
    }
   },
   "outputs": [],
   "source": [
    "# Code Here"
   ]
  },
  {
   "cell_type": "markdown",
   "metadata": {},
   "source": [
    "# Further Reading\n",
    "- [Why One-Hot Encode Data in Machine Learning?](https://machinelearningmastery.com/why-one-hot-encode-data-in-machine-learning/)\n",
    "- [Neural Network Embeddings Explained](https://towardsdatascience.com/neural-network-embeddings-explained-4d028e6f0526)"
   ]
  },
  {
   "cell_type": "code",
   "execution_count": null,
   "metadata": {},
   "outputs": [],
   "source": []
  },
  {
   "cell_type": "code",
   "execution_count": null,
   "metadata": {},
   "outputs": [],
   "source": []
  }
 ],
 "metadata": {
  "jupytext": {
   "encoding": "# -*- coding: utf-8 -*-",
   "formats": "ipynb,py"
  },
  "kernelspec": {
   "display_name": "deep_ml_curriculum",
   "language": "python",
   "name": "deep_ml_curriculum"
  },
  "language_info": {
   "codemirror_mode": {
    "name": "ipython",
    "version": 3
   },
   "file_extension": ".py",
   "mimetype": "text/x-python",
   "name": "python",
   "nbconvert_exporter": "python",
   "pygments_lexer": "ipython3",
   "version": "3.7.9"
  },
  "toc": {
   "base_numbering": 1,
   "nav_menu": {},
   "number_sections": true,
   "sideBar": true,
   "skip_h1_title": false,
   "title_cell": "Table of Contents",
   "title_sidebar": "Contents",
   "toc_cell": false,
   "toc_position": {
    "height": "calc(100% - 180px)",
    "left": "10px",
    "top": "150px",
    "width": "349.091px"
   },
   "toc_section_display": true,
   "toc_window_display": true
  }
 },
 "nbformat": 4,
 "nbformat_minor": 4
}
