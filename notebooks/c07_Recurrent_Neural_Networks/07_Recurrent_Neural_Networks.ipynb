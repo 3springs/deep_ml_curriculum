{
 "cells": [
  {
   "cell_type": "markdown",
   "metadata": {
    "colab_type": "text",
    "id": "iALm8shtXMVK"
   },
   "source": [
    "# Recurrent Neural Networks: LSTM's\n",
    "\n",
    "All the models we have discussed so far were looking at the inputs as isolated instances. In image classification we determine the category of and image, in semantic segmentation we produce a semantic map from the input. But there are many cases were datapoints are not isolated instances and have connection to each other. *Sequential data* are the type of data where each instance is related to the instances came before. \n",
    "\n",
    "A good example for this type of data is time series data. At each point in time to the value of the time series depends on the value of the prior points. Another example is depth data, like well logs.\n",
    "\n",
    "Recurrent Neural Networks (RNN) are a class of networks which deal with sequential data. There are many variants of Recurrent Neural Networks, including:\n",
    "\n",
    "- Simple Recurrect Neural Networks (Simple RNN - or often just called RNN)\n",
    "- Long Short-Term Memory (LSTM)\n",
    "- Gated Recurrent Unit (GRU)\n",
    "\n",
    "In this notebook we will discuss LSTM; however, the general logic behind all these methods are the same. They only differ in the way they handel information internally. "
   ]
  },
  {
   "cell_type": "markdown",
   "metadata": {
    "ExecuteTime": {
     "end_time": "2020-10-05T01:56:58.434163Z",
     "start_time": "2020-10-05T01:54:05.428Z"
    }
   },
   "source": [
    "## A minute of Theory\n",
    "\n",
    "This is a hand on course, not theory so we will look at a high level view of one type of RNN, the LSTM. But to dive into them for a moment lets look at the type of data we operate on\n",
    "\n"
   ]
  },
  {
   "cell_type": "markdown",
   "metadata": {},
   "source": [
    "The figure below is from d2l.ai and shows how an RNN can operate on a text sequence to predict the next charector.\n",
    "\n",
    "![](images/rnn-train.svg)\n",
    "\n"
   ]
  },
  {
   "cell_type": "markdown",
   "metadata": {
    "ExecuteTime": {
     "end_time": "2020-10-05T02:02:23.588495Z",
     "start_time": "2020-10-05T02:02:23.566945Z"
    }
   },
   "source": [
    "How does the model itself work? Let look at an excerp from the open source machine learning book [d2l.ai](d2l.ai):\n",
    "\n",
    "![](images/rnn.svg)\n",
    "\n",
    "> The figure below illustrates the computational logic of an RNN at three adjacent time steps. At any time step `t`, the computation of the hidden state can be treated as: \n",
    "\n",
    "> i) concatenating the input `Xt` at the current time step `t` and the hidden state `Ht−1` at the previous time step  `t−1` ; \n",
    "\n",
    "> ii) feeding the concatenation result into a fully-connected layer with the activation function `ϕ`. \n",
    "\n",
    "> The output of such a fully-connected layer is the hidden state  `Ht`  of the current time step  t . In this case, the model parameters are the concatenation of  `Wxh`  and  `Whh` , and a bias of  `bh`. The hidden state of the current time step  `t` , `Ht` , will participate in computing the hidden state  `Ht+1`  of the next time step  t+1 . What is more,  `Ht`  will also be fed into the fully-connected output layer to compute the output  `Ot`  of the current time step  `t` ."
   ]
  },
  {
   "cell_type": "markdown",
   "metadata": {},
   "source": [
    "# Hands on example with well logs\n",
    "\n",
    "You can read more [here](http://d2l.ai/chapter_recurrent-neural-networks/rnn.html), but lets dive into a hand on example first and it will begin to make more sense. We will be focusing on\n",
    "\n",
    "- How do RNN's represent data\n",
    "- How do we implement them in pytorch\n",
    "- What are the key parameters and example values\n",
    "- Where might you use them"
   ]
  },
  {
   "cell_type": "code",
   "execution_count": 1,
   "metadata": {
    "ExecuteTime": {
     "end_time": "2020-10-05T02:06:43.259164Z",
     "start_time": "2020-10-05T02:06:41.404427Z"
    }
   },
   "outputs": [],
   "source": [
    "import torch\n",
    "from torch import nn, optim\n",
    "from torch import functional as F\n",
    "from torch.autograd import Variable\n",
    "import torch\n",
    "import torch.utils.data\n",
    "\n",
    "import numpy as np\n",
    "import matplotlib.pyplot as plt\n",
    "from tqdm.auto import tqdm\n",
    "import xarray as xr"
   ]
  },
  {
   "cell_type": "markdown",
   "metadata": {},
   "source": [
    "# Parameters"
   ]
  },
  {
   "cell_type": "code",
   "execution_count": 2,
   "metadata": {
    "ExecuteTime": {
     "end_time": "2020-10-05T02:06:43.295133Z",
     "start_time": "2020-10-05T02:06:43.261678Z"
    }
   },
   "outputs": [
    {
     "name": "stdout",
     "output_type": "stream",
     "text": [
      "context length of 60.0 m or 400 intervals\n",
      "model can see human labels up to 15.0m above. Or 100 intervals\n"
     ]
    }
   ],
   "source": [
    "# Params # CHANGE ME\n",
    "device = \"cuda\" if torch.cuda.is_available() else \"cpu\"\n",
    "shift_length = 100\n",
    "seq_length = 400\n",
    "max_lithologies = 12\n",
    "max_wells = 20\n",
    "\n",
    "\n",
    "print(f'context length of {0.15*seq_length} m or {seq_length} intervals')\n",
    "print(f'model can see human labels up to {shift_length*0.15}m above. Or {shift_length} intervals')"
   ]
  },
  {
   "cell_type": "markdown",
   "metadata": {
    "ExecuteTime": {
     "end_time": "2020-09-27T01:33:08.720455Z",
     "start_time": "2020-09-27T01:33:08.715754Z"
    }
   },
   "source": [
    "# Models"
   ]
  },
  {
   "cell_type": "markdown",
   "metadata": {},
   "source": [
    "## Low level\n",
    "\n",
    "[LSTMCell docs](https://pytorch.org/docs/stable/generated/torch.nn.LSTMCell.html)\n",
    "\n",
    "Lets look at a low level implementation, and compare it to the figure we previously saw\n",
    "\n",
    "![](images/rnn.svg)"
   ]
  },
  {
   "cell_type": "code",
   "execution_count": 3,
   "metadata": {
    "ExecuteTime": {
     "end_time": "2020-10-05T02:06:43.313145Z",
     "start_time": "2020-10-05T02:06:43.297981Z"
    }
   },
   "outputs": [
    {
     "data": {
      "text/plain": [
       "torch.Size([6, 3, 20])"
      ]
     },
     "execution_count": 3,
     "metadata": {},
     "output_type": "execute_result"
    }
   ],
   "source": [
    "# We can use the low level LSTM Cell\n",
    "rnn = nn.LSTMCell(input_size=10, hidden_size=20)\n",
    "\n",
    "# Input [Sequence Length=6, BatchSize=3, input_size=10]\n",
    "input = torch.randn(6, 3, 10)\n",
    "\n",
    "# Initial states (Batch size, Hidden Size)\n",
    "hx = torch.randn(3, 20) # Initial hidden\n",
    "cx = torch.randn(3, 20) # Initial cell\n",
    "\n",
    "output = []\n",
    "# we manually call it on each part of the sequence\n",
    "for i in range(6):\n",
    "    # We manually handle states\n",
    "    hx, cx = rnn(input[i], (hx, cx))\n",
    "    output.append(hx)\n",
    "    \n",
    "# Seqence, Batch, Hidden size\n",
    "output = torch.stack(output)\n",
    "output.shape"
   ]
  },
  {
   "cell_type": "code",
   "execution_count": 4,
   "metadata": {
    "ExecuteTime": {
     "end_time": "2020-10-05T02:06:43.328193Z",
     "start_time": "2020-10-05T02:06:43.315484Z"
    }
   },
   "outputs": [
    {
     "name": "stdout",
     "output_type": "stream",
     "text": [
      "Help on class LSTMCell in module torch.nn.modules.rnn:\n",
      "\n",
      "class LSTMCell(RNNCellBase)\n",
      " |  LSTMCell(input_size: int, hidden_size: int, bias: bool = True) -> None\n",
      " |  \n",
      " |  A long short-term memory (LSTM) cell.\n",
      " |  \n",
      " |  .. math::\n",
      " |  \n",
      " |      \\begin{array}{ll}\n",
      " |      i = \\sigma(W_{ii} x + b_{ii} + W_{hi} h + b_{hi}) \\\\\n",
      " |      f = \\sigma(W_{if} x + b_{if} + W_{hf} h + b_{hf}) \\\\\n",
      " |      g = \\tanh(W_{ig} x + b_{ig} + W_{hg} h + b_{hg}) \\\\\n",
      " |      o = \\sigma(W_{io} x + b_{io} + W_{ho} h + b_{ho}) \\\\\n",
      " |      c' = f * c + i * g \\\\\n",
      " |      h' = o * \\tanh(c') \\\\\n",
      " |      \\end{array}\n",
      " |  \n",
      " |  where :math:`\\sigma` is the sigmoid function, and :math:`*` is the Hadamard product.\n",
      " |  \n",
      " |  Args:\n",
      " |      input_size: The number of expected features in the input `x`\n",
      " |      hidden_size: The number of features in the hidden state `h`\n",
      " |      bias: If ``False``, then the layer does not use bias weights `b_ih` and\n",
      " |          `b_hh`. Default: ``True``\n",
      " |  \n",
      " |  Inputs: input, (h_0, c_0)\n",
      " |      - **input** of shape `(batch, input_size)`: tensor containing input features\n",
      " |      - **h_0** of shape `(batch, hidden_size)`: tensor containing the initial hidden\n",
      " |        state for each element in the batch.\n",
      " |      - **c_0** of shape `(batch, hidden_size)`: tensor containing the initial cell state\n",
      " |        for each element in the batch.\n",
      " |  \n",
      " |        If `(h_0, c_0)` is not provided, both **h_0** and **c_0** default to zero.\n",
      " |  \n",
      " |  Outputs: (h_1, c_1)\n",
      " |      - **h_1** of shape `(batch, hidden_size)`: tensor containing the next hidden state\n",
      " |        for each element in the batch\n",
      " |      - **c_1** of shape `(batch, hidden_size)`: tensor containing the next cell state\n",
      " |        for each element in the batch\n",
      " |  \n",
      " |  Attributes:\n",
      " |      weight_ih: the learnable input-hidden weights, of shape\n",
      " |          `(4*hidden_size, input_size)`\n",
      " |      weight_hh: the learnable hidden-hidden weights, of shape\n",
      " |          `(4*hidden_size, hidden_size)`\n",
      " |      bias_ih: the learnable input-hidden bias, of shape `(4*hidden_size)`\n",
      " |      bias_hh: the learnable hidden-hidden bias, of shape `(4*hidden_size)`\n",
      " |  \n",
      " |  .. note::\n",
      " |      All the weights and biases are initialized from :math:`\\mathcal{U}(-\\sqrt{k}, \\sqrt{k})`\n",
      " |      where :math:`k = \\frac{1}{\\text{hidden\\_size}}`\n",
      " |  \n",
      " |  Examples::\n",
      " |  \n",
      " |      >>> rnn = nn.LSTMCell(10, 20)\n",
      " |      >>> input = torch.randn(6, 3, 10)\n",
      " |      >>> hx = torch.randn(3, 20)\n",
      " |      >>> cx = torch.randn(3, 20)\n",
      " |      >>> output = []\n",
      " |      >>> for i in range(6):\n",
      " |              hx, cx = rnn(input[i], (hx, cx))\n",
      " |              output.append(hx)\n",
      " |  \n",
      " |  Method resolution order:\n",
      " |      LSTMCell\n",
      " |      RNNCellBase\n",
      " |      torch.nn.modules.module.Module\n",
      " |      builtins.object\n",
      " |  \n",
      " |  Methods defined here:\n",
      " |  \n",
      " |  __init__(self, input_size: int, hidden_size: int, bias: bool = True) -> None\n",
      " |      Initializes internal Module state, shared by both nn.Module and ScriptModule.\n",
      " |  \n",
      " |  forward(self, input: torch.Tensor, hx: Union[Tuple[torch.Tensor, torch.Tensor], NoneType] = None) -> Tuple[torch.Tensor, torch.Tensor]\n",
      " |  \n",
      " |  ----------------------------------------------------------------------\n",
      " |  Methods inherited from RNNCellBase:\n",
      " |  \n",
      " |  check_forward_hidden(self, input: torch.Tensor, hx: torch.Tensor, hidden_label: str = '') -> None\n",
      " |  \n",
      " |  check_forward_input(self, input: torch.Tensor) -> None\n",
      " |  \n",
      " |  extra_repr(self) -> str\n",
      " |      Set the extra representation of the module\n",
      " |      \n",
      " |      To print customized extra information, you should reimplement\n",
      " |      this method in your own modules. Both single-line and multi-line\n",
      " |      strings are acceptable.\n",
      " |  \n",
      " |  reset_parameters(self) -> None\n",
      " |  \n",
      " |  ----------------------------------------------------------------------\n",
      " |  Data and other attributes inherited from RNNCellBase:\n",
      " |  \n",
      " |  __annotations__ = {'bias': <class 'bool'>, 'hidden_size': <class 'int'...\n",
      " |  \n",
      " |  __constants__ = ['input_size', 'hidden_size', 'bias']\n",
      " |  \n",
      " |  ----------------------------------------------------------------------\n",
      " |  Methods inherited from torch.nn.modules.module.Module:\n",
      " |  \n",
      " |  __call__ = _call_impl(self, *input, **kwargs)\n",
      " |  \n",
      " |  __delattr__(self, name)\n",
      " |      Implement delattr(self, name).\n",
      " |  \n",
      " |  __dir__(self)\n",
      " |      Default dir() implementation.\n",
      " |  \n",
      " |  __getattr__(self, name: str) -> Union[torch.Tensor, ForwardRef('Module')]\n",
      " |  \n",
      " |  __repr__(self)\n",
      " |      Return repr(self).\n",
      " |  \n",
      " |  __setattr__(self, name: str, value: Union[torch.Tensor, ForwardRef('Module')]) -> None\n",
      " |      Implement setattr(self, name, value).\n",
      " |  \n",
      " |  __setstate__(self, state)\n",
      " |  \n",
      " |  add_module(self, name: str, module: 'Module') -> None\n",
      " |      Adds a child module to the current module.\n",
      " |      \n",
      " |      The module can be accessed as an attribute using the given name.\n",
      " |      \n",
      " |      Args:\n",
      " |          name (string): name of the child module. The child module can be\n",
      " |              accessed from this module using the given name\n",
      " |          module (Module): child module to be added to the module.\n",
      " |  \n",
      " |  apply(self: ~T, fn: Callable[[ForwardRef('Module')], NoneType]) -> ~T\n",
      " |      Applies ``fn`` recursively to every submodule (as returned by ``.children()``)\n",
      " |      as well as self. Typical use includes initializing the parameters of a model\n",
      " |      (see also :ref:`nn-init-doc`).\n",
      " |      \n",
      " |      Args:\n",
      " |          fn (:class:`Module` -> None): function to be applied to each submodule\n",
      " |      \n",
      " |      Returns:\n",
      " |          Module: self\n",
      " |      \n",
      " |      Example::\n",
      " |      \n",
      " |          >>> @torch.no_grad()\n",
      " |          >>> def init_weights(m):\n",
      " |          >>>     print(m)\n",
      " |          >>>     if type(m) == nn.Linear:\n",
      " |          >>>         m.weight.fill_(1.0)\n",
      " |          >>>         print(m.weight)\n",
      " |          >>> net = nn.Sequential(nn.Linear(2, 2), nn.Linear(2, 2))\n",
      " |          >>> net.apply(init_weights)\n",
      " |          Linear(in_features=2, out_features=2, bias=True)\n",
      " |          Parameter containing:\n",
      " |          tensor([[ 1.,  1.],\n",
      " |                  [ 1.,  1.]])\n",
      " |          Linear(in_features=2, out_features=2, bias=True)\n",
      " |          Parameter containing:\n",
      " |          tensor([[ 1.,  1.],\n",
      " |                  [ 1.,  1.]])\n",
      " |          Sequential(\n",
      " |            (0): Linear(in_features=2, out_features=2, bias=True)\n",
      " |            (1): Linear(in_features=2, out_features=2, bias=True)\n",
      " |          )\n",
      " |          Sequential(\n",
      " |            (0): Linear(in_features=2, out_features=2, bias=True)\n",
      " |            (1): Linear(in_features=2, out_features=2, bias=True)\n",
      " |          )\n",
      " |  \n",
      " |  bfloat16(self: ~T) -> ~T\n",
      " |      Casts all floating point parameters and buffers to ``bfloat16`` datatype.\n",
      " |      \n",
      " |      Returns:\n",
      " |          Module: self\n",
      " |  \n",
      " |  buffers(self, recurse: bool = True) -> Iterator[torch.Tensor]\n",
      " |      Returns an iterator over module buffers.\n",
      " |      \n",
      " |      Args:\n",
      " |          recurse (bool): if True, then yields buffers of this module\n",
      " |              and all submodules. Otherwise, yields only buffers that\n",
      " |              are direct members of this module.\n",
      " |      \n",
      " |      Yields:\n",
      " |          torch.Tensor: module buffer\n",
      " |      \n",
      " |      Example::\n",
      " |      \n",
      " |          >>> for buf in model.buffers():\n",
      " |          >>>     print(type(buf), buf.size())\n",
      " |          <class 'torch.Tensor'> (20L,)\n",
      " |          <class 'torch.Tensor'> (20L, 1L, 5L, 5L)\n",
      " |  \n",
      " |  children(self) -> Iterator[ForwardRef('Module')]\n",
      " |      Returns an iterator over immediate children modules.\n",
      " |      \n",
      " |      Yields:\n",
      " |          Module: a child module\n",
      " |  \n",
      " |  cpu(self: ~T) -> ~T\n",
      " |      Moves all model parameters and buffers to the CPU.\n",
      " |      \n",
      " |      Returns:\n",
      " |          Module: self\n",
      " |  \n",
      " |  cuda(self: ~T, device: Union[int, torch.device, NoneType] = None) -> ~T\n",
      " |      Moves all model parameters and buffers to the GPU.\n",
      " |      \n",
      " |      This also makes associated parameters and buffers different objects. So\n",
      " |      it should be called before constructing optimizer if the module will\n",
      " |      live on GPU while being optimized.\n",
      " |      \n",
      " |      Arguments:\n",
      " |          device (int, optional): if specified, all parameters will be\n",
      " |              copied to that device\n",
      " |      \n",
      " |      Returns:\n",
      " |          Module: self\n",
      " |  \n",
      " |  double(self: ~T) -> ~T\n",
      " |      Casts all floating point parameters and buffers to ``double`` datatype.\n",
      " |      \n",
      " |      Returns:\n",
      " |          Module: self\n",
      " |  \n",
      " |  eval(self: ~T) -> ~T\n",
      " |      Sets the module in evaluation mode.\n",
      " |      \n",
      " |      This has any effect only on certain modules. See documentations of\n",
      " |      particular modules for details of their behaviors in training/evaluation\n",
      " |      mode, if they are affected, e.g. :class:`Dropout`, :class:`BatchNorm`,\n",
      " |      etc.\n",
      " |      \n",
      " |      This is equivalent with :meth:`self.train(False) <torch.nn.Module.train>`.\n",
      " |      \n",
      " |      Returns:\n",
      " |          Module: self\n",
      " |  \n",
      " |  float(self: ~T) -> ~T\n",
      " |      Casts all floating point parameters and buffers to float datatype.\n",
      " |      \n",
      " |      Returns:\n",
      " |          Module: self\n",
      " |  \n",
      " |  half(self: ~T) -> ~T\n",
      " |      Casts all floating point parameters and buffers to ``half`` datatype.\n",
      " |      \n",
      " |      Returns:\n",
      " |          Module: self\n",
      " |  \n",
      " |  load_state_dict(self, state_dict: Dict[str, torch.Tensor], strict: bool = True)\n",
      " |      Copies parameters and buffers from :attr:`state_dict` into\n",
      " |      this module and its descendants. If :attr:`strict` is ``True``, then\n",
      " |      the keys of :attr:`state_dict` must exactly match the keys returned\n",
      " |      by this module's :meth:`~torch.nn.Module.state_dict` function.\n",
      " |      \n",
      " |      Arguments:\n",
      " |          state_dict (dict): a dict containing parameters and\n",
      " |              persistent buffers.\n",
      " |          strict (bool, optional): whether to strictly enforce that the keys\n",
      " |              in :attr:`state_dict` match the keys returned by this module's\n",
      " |              :meth:`~torch.nn.Module.state_dict` function. Default: ``True``\n",
      " |      \n",
      " |      Returns:\n",
      " |          ``NamedTuple`` with ``missing_keys`` and ``unexpected_keys`` fields:\n",
      " |              * **missing_keys** is a list of str containing the missing keys\n",
      " |              * **unexpected_keys** is a list of str containing the unexpected keys\n",
      " |  \n",
      " |  modules(self) -> Iterator[ForwardRef('Module')]\n",
      " |      Returns an iterator over all modules in the network.\n",
      " |      \n",
      " |      Yields:\n",
      " |          Module: a module in the network\n",
      " |      \n",
      " |      Note:\n",
      " |          Duplicate modules are returned only once. In the following\n",
      " |          example, ``l`` will be returned only once.\n",
      " |      \n",
      " |      Example::\n",
      " |      \n",
      " |          >>> l = nn.Linear(2, 2)\n",
      " |          >>> net = nn.Sequential(l, l)\n",
      " |          >>> for idx, m in enumerate(net.modules()):\n",
      " |                  print(idx, '->', m)\n",
      " |      \n",
      " |          0 -> Sequential(\n",
      " |            (0): Linear(in_features=2, out_features=2, bias=True)\n",
      " |            (1): Linear(in_features=2, out_features=2, bias=True)\n",
      " |          )\n",
      " |          1 -> Linear(in_features=2, out_features=2, bias=True)\n",
      " |  \n",
      " |  named_buffers(self, prefix: str = '', recurse: bool = True) -> Iterator[Tuple[str, torch.Tensor]]\n",
      " |      Returns an iterator over module buffers, yielding both the\n",
      " |      name of the buffer as well as the buffer itself.\n",
      " |      \n",
      " |      Args:\n",
      " |          prefix (str): prefix to prepend to all buffer names.\n",
      " |          recurse (bool): if True, then yields buffers of this module\n",
      " |              and all submodules. Otherwise, yields only buffers that\n",
      " |              are direct members of this module.\n",
      " |      \n",
      " |      Yields:\n",
      " |          (string, torch.Tensor): Tuple containing the name and buffer\n",
      " |      \n",
      " |      Example::\n",
      " |      \n",
      " |          >>> for name, buf in self.named_buffers():\n",
      " |          >>>    if name in ['running_var']:\n",
      " |          >>>        print(buf.size())\n",
      " |  \n",
      " |  named_children(self) -> Iterator[Tuple[str, ForwardRef('Module')]]\n",
      " |      Returns an iterator over immediate children modules, yielding both\n",
      " |      the name of the module as well as the module itself.\n",
      " |      \n",
      " |      Yields:\n",
      " |          (string, Module): Tuple containing a name and child module\n",
      " |      \n",
      " |      Example::\n",
      " |      \n",
      " |          >>> for name, module in model.named_children():\n",
      " |          >>>     if name in ['conv4', 'conv5']:\n",
      " |          >>>         print(module)\n",
      " |  \n",
      " |  named_modules(self, memo: Union[Set[ForwardRef('Module')], NoneType] = None, prefix: str = '')\n",
      " |      Returns an iterator over all modules in the network, yielding\n",
      " |      both the name of the module as well as the module itself.\n",
      " |      \n",
      " |      Yields:\n",
      " |          (string, Module): Tuple of name and module\n",
      " |      \n",
      " |      Note:\n",
      " |          Duplicate modules are returned only once. In the following\n",
      " |          example, ``l`` will be returned only once.\n",
      " |      \n",
      " |      Example::\n",
      " |      \n",
      " |          >>> l = nn.Linear(2, 2)\n",
      " |          >>> net = nn.Sequential(l, l)\n",
      " |          >>> for idx, m in enumerate(net.named_modules()):\n",
      " |                  print(idx, '->', m)\n",
      " |      \n",
      " |          0 -> ('', Sequential(\n",
      " |            (0): Linear(in_features=2, out_features=2, bias=True)\n",
      " |            (1): Linear(in_features=2, out_features=2, bias=True)\n",
      " |          ))\n",
      " |          1 -> ('0', Linear(in_features=2, out_features=2, bias=True))\n",
      " |  \n",
      " |  named_parameters(self, prefix: str = '', recurse: bool = True) -> Iterator[Tuple[str, torch.Tensor]]\n",
      " |      Returns an iterator over module parameters, yielding both the\n",
      " |      name of the parameter as well as the parameter itself.\n",
      " |      \n",
      " |      Args:\n",
      " |          prefix (str): prefix to prepend to all parameter names.\n",
      " |          recurse (bool): if True, then yields parameters of this module\n",
      " |              and all submodules. Otherwise, yields only parameters that\n",
      " |              are direct members of this module.\n",
      " |      \n",
      " |      Yields:\n",
      " |          (string, Parameter): Tuple containing the name and parameter\n",
      " |      \n",
      " |      Example::\n",
      " |      \n",
      " |          >>> for name, param in self.named_parameters():\n",
      " |          >>>    if name in ['bias']:\n",
      " |          >>>        print(param.size())\n",
      " |  \n",
      " |  parameters(self, recurse: bool = True) -> Iterator[torch.nn.parameter.Parameter]\n",
      " |      Returns an iterator over module parameters.\n",
      " |      \n",
      " |      This is typically passed to an optimizer.\n",
      " |      \n",
      " |      Args:\n",
      " |          recurse (bool): if True, then yields parameters of this module\n",
      " |              and all submodules. Otherwise, yields only parameters that\n",
      " |              are direct members of this module.\n",
      " |      \n",
      " |      Yields:\n",
      " |          Parameter: module parameter\n",
      " |      \n",
      " |      Example::\n",
      " |      \n",
      " |          >>> for param in model.parameters():\n",
      " |          >>>     print(type(param), param.size())\n",
      " |          <class 'torch.Tensor'> (20L,)\n",
      " |          <class 'torch.Tensor'> (20L, 1L, 5L, 5L)\n",
      " |  \n",
      " |  register_backward_hook(self, hook: Callable[[ForwardRef('Module'), Union[Tuple[torch.Tensor, ...], torch.Tensor], Union[Tuple[torch.Tensor, ...], torch.Tensor]], Union[NoneType, torch.Tensor]]) -> torch.utils.hooks.RemovableHandle\n",
      " |      Registers a backward hook on the module.\n",
      " |      \n",
      " |      .. warning ::\n",
      " |      \n",
      " |          The current implementation will not have the presented behavior\n",
      " |          for complex :class:`Module` that perform many operations.\n",
      " |          In some failure cases, :attr:`grad_input` and :attr:`grad_output` will only\n",
      " |          contain the gradients for a subset of the inputs and outputs.\n",
      " |          For such :class:`Module`, you should use :func:`torch.Tensor.register_hook`\n",
      " |          directly on a specific input or output to get the required gradients.\n",
      " |      \n",
      " |      The hook will be called every time the gradients with respect to module\n",
      " |      inputs are computed. The hook should have the following signature::\n",
      " |      \n",
      " |          hook(module, grad_input, grad_output) -> Tensor or None\n",
      " |      \n",
      " |      The :attr:`grad_input` and :attr:`grad_output` may be tuples if the\n",
      " |      module has multiple inputs or outputs. The hook should not modify its\n",
      " |      arguments, but it can optionally return a new gradient with respect to\n",
      " |      input that will be used in place of :attr:`grad_input` in subsequent\n",
      " |      computations. :attr:`grad_input` will only correspond to the inputs given\n",
      " |      as positional arguments.\n",
      " |      \n",
      " |      Returns:\n",
      " |          :class:`torch.utils.hooks.RemovableHandle`:\n",
      " |              a handle that can be used to remove the added hook by calling\n",
      " |              ``handle.remove()``\n",
      " |  \n",
      " |  register_buffer(self, name: str, tensor: torch.Tensor, persistent: bool = True) -> None\n",
      " |      Adds a buffer to the module.\n",
      " |      \n",
      " |      This is typically used to register a buffer that should not to be\n",
      " |      considered a model parameter. For example, BatchNorm's ``running_mean``\n",
      " |      is not a parameter, but is part of the module's state. Buffers, by\n",
      " |      default, are persistent and will be saved alongside parameters. This\n",
      " |      behavior can be changed by setting :attr:`persistent` to ``False``. The\n",
      " |      only difference between a persistent buffer and a non-persistent buffer\n",
      " |      is that the latter will not be a part of this module's\n",
      " |      :attr:`state_dict`.\n",
      " |      \n",
      " |      Buffers can be accessed as attributes using given names.\n",
      " |      \n",
      " |      Args:\n",
      " |          name (string): name of the buffer. The buffer can be accessed\n",
      " |              from this module using the given name\n",
      " |          tensor (Tensor): buffer to be registered.\n",
      " |          persistent (bool): whether the buffer is part of this module's\n",
      " |              :attr:`state_dict`.\n",
      " |      \n",
      " |      Example::\n",
      " |      \n",
      " |          >>> self.register_buffer('running_mean', torch.zeros(num_features))\n",
      " |  \n",
      " |  register_forward_hook(self, hook: Callable[..., NoneType]) -> torch.utils.hooks.RemovableHandle\n",
      " |      Registers a forward hook on the module.\n",
      " |      \n",
      " |      The hook will be called every time after :func:`forward` has computed an output.\n",
      " |      It should have the following signature::\n",
      " |      \n",
      " |          hook(module, input, output) -> None or modified output\n",
      " |      \n",
      " |      The input contains only the positional arguments given to the module.\n",
      " |      Keyword arguments won't be passed to the hooks and only to the ``forward``.\n",
      " |      The hook can modify the output. It can modify the input inplace but\n",
      " |      it will not have effect on forward since this is called after\n",
      " |      :func:`forward` is called.\n",
      " |      \n",
      " |      Returns:\n",
      " |          :class:`torch.utils.hooks.RemovableHandle`:\n",
      " |              a handle that can be used to remove the added hook by calling\n",
      " |              ``handle.remove()``\n",
      " |  \n",
      " |  register_forward_pre_hook(self, hook: Callable[..., NoneType]) -> torch.utils.hooks.RemovableHandle\n",
      " |      Registers a forward pre-hook on the module.\n",
      " |      \n",
      " |      The hook will be called every time before :func:`forward` is invoked.\n",
      " |      It should have the following signature::\n",
      " |      \n",
      " |          hook(module, input) -> None or modified input\n",
      " |      \n",
      " |      The input contains only the positional arguments given to the module.\n",
      " |      Keyword arguments won't be passed to the hooks and only to the ``forward``.\n",
      " |      The hook can modify the input. User can either return a tuple or a\n",
      " |      single modified value in the hook. We will wrap the value into a tuple\n",
      " |      if a single value is returned(unless that value is already a tuple).\n",
      " |      \n",
      " |      Returns:\n",
      " |          :class:`torch.utils.hooks.RemovableHandle`:\n",
      " |              a handle that can be used to remove the added hook by calling\n",
      " |              ``handle.remove()``\n",
      " |  \n",
      " |  register_parameter(self, name: str, param: torch.nn.parameter.Parameter) -> None\n",
      " |      Adds a parameter to the module.\n",
      " |      \n",
      " |      The parameter can be accessed as an attribute using given name.\n",
      " |      \n",
      " |      Args:\n",
      " |          name (string): name of the parameter. The parameter can be accessed\n",
      " |              from this module using the given name\n",
      " |          param (Parameter): parameter to be added to the module.\n",
      " |  \n",
      " |  requires_grad_(self: ~T, requires_grad: bool = True) -> ~T\n",
      " |      Change if autograd should record operations on parameters in this\n",
      " |      module.\n",
      " |      \n",
      " |      This method sets the parameters' :attr:`requires_grad` attributes\n",
      " |      in-place.\n",
      " |      \n",
      " |      This method is helpful for freezing part of the module for finetuning\n",
      " |      or training parts of a model individually (e.g., GAN training).\n",
      " |      \n",
      " |      Args:\n",
      " |          requires_grad (bool): whether autograd should record operations on\n",
      " |                                parameters in this module. Default: ``True``.\n",
      " |      \n",
      " |      Returns:\n",
      " |          Module: self\n",
      " |  \n",
      " |  share_memory(self: ~T) -> ~T\n",
      " |  \n",
      " |  state_dict(self, destination=None, prefix='', keep_vars=False)\n",
      " |      Returns a dictionary containing a whole state of the module.\n",
      " |      \n",
      " |      Both parameters and persistent buffers (e.g. running averages) are\n",
      " |      included. Keys are corresponding parameter and buffer names.\n",
      " |      \n",
      " |      Returns:\n",
      " |          dict:\n",
      " |              a dictionary containing a whole state of the module\n",
      " |      \n",
      " |      Example::\n",
      " |      \n",
      " |          >>> module.state_dict().keys()\n",
      " |          ['bias', 'weight']\n",
      " |  \n",
      " |  to(self, *args, **kwargs)\n",
      " |      Moves and/or casts the parameters and buffers.\n",
      " |      \n",
      " |      This can be called as\n",
      " |      \n",
      " |      .. function:: to(device=None, dtype=None, non_blocking=False)\n",
      " |      \n",
      " |      .. function:: to(dtype, non_blocking=False)\n",
      " |      \n",
      " |      .. function:: to(tensor, non_blocking=False)\n",
      " |      \n",
      " |      .. function:: to(memory_format=torch.channels_last)\n",
      " |      \n",
      " |      Its signature is similar to :meth:`torch.Tensor.to`, but only accepts\n",
      " |      floating point desired :attr:`dtype` s. In addition, this method will\n",
      " |      only cast the floating point parameters and buffers to :attr:`dtype`\n",
      " |      (if given). The integral parameters and buffers will be moved\n",
      " |      :attr:`device`, if that is given, but with dtypes unchanged. When\n",
      " |      :attr:`non_blocking` is set, it tries to convert/move asynchronously\n",
      " |      with respect to the host if possible, e.g., moving CPU Tensors with\n",
      " |      pinned memory to CUDA devices.\n",
      " |      \n",
      " |      See below for examples.\n",
      " |      \n",
      " |      .. note::\n",
      " |          This method modifies the module in-place.\n",
      " |      \n",
      " |      Args:\n",
      " |          device (:class:`torch.device`): the desired device of the parameters\n",
      " |              and buffers in this module\n",
      " |          dtype (:class:`torch.dtype`): the desired floating point type of\n",
      " |              the floating point parameters and buffers in this module\n",
      " |          tensor (torch.Tensor): Tensor whose dtype and device are the desired\n",
      " |              dtype and device for all parameters and buffers in this module\n",
      " |          memory_format (:class:`torch.memory_format`): the desired memory\n",
      " |              format for 4D parameters and buffers in this module (keyword\n",
      " |              only argument)\n",
      " |      \n",
      " |      Returns:\n",
      " |          Module: self\n",
      " |      \n",
      " |      Example::\n",
      " |      \n",
      " |          >>> linear = nn.Linear(2, 2)\n",
      " |          >>> linear.weight\n",
      " |          Parameter containing:\n",
      " |          tensor([[ 0.1913, -0.3420],\n",
      " |                  [-0.5113, -0.2325]])\n",
      " |          >>> linear.to(torch.double)\n",
      " |          Linear(in_features=2, out_features=2, bias=True)\n",
      " |          >>> linear.weight\n",
      " |          Parameter containing:\n",
      " |          tensor([[ 0.1913, -0.3420],\n",
      " |                  [-0.5113, -0.2325]], dtype=torch.float64)\n",
      " |          >>> gpu1 = torch.device(\"cuda:1\")\n",
      " |          >>> linear.to(gpu1, dtype=torch.half, non_blocking=True)\n",
      " |          Linear(in_features=2, out_features=2, bias=True)\n",
      " |          >>> linear.weight\n",
      " |          Parameter containing:\n",
      " |          tensor([[ 0.1914, -0.3420],\n",
      " |                  [-0.5112, -0.2324]], dtype=torch.float16, device='cuda:1')\n",
      " |          >>> cpu = torch.device(\"cpu\")\n",
      " |          >>> linear.to(cpu)\n",
      " |          Linear(in_features=2, out_features=2, bias=True)\n",
      " |          >>> linear.weight\n",
      " |          Parameter containing:\n",
      " |          tensor([[ 0.1914, -0.3420],\n",
      " |                  [-0.5112, -0.2324]], dtype=torch.float16)\n",
      " |  \n",
      " |  train(self: ~T, mode: bool = True) -> ~T\n",
      " |      Sets the module in training mode.\n",
      " |      \n",
      " |      This has any effect only on certain modules. See documentations of\n",
      " |      particular modules for details of their behaviors in training/evaluation\n",
      " |      mode, if they are affected, e.g. :class:`Dropout`, :class:`BatchNorm`,\n",
      " |      etc.\n",
      " |      \n",
      " |      Args:\n",
      " |          mode (bool): whether to set training mode (``True``) or evaluation\n",
      " |                       mode (``False``). Default: ``True``.\n",
      " |      \n",
      " |      Returns:\n",
      " |          Module: self\n",
      " |  \n",
      " |  type(self: ~T, dst_type: Union[torch.dtype, str]) -> ~T\n",
      " |      Casts all parameters and buffers to :attr:`dst_type`.\n",
      " |      \n",
      " |      Arguments:\n",
      " |          dst_type (type or string): the desired type\n",
      " |      \n",
      " |      Returns:\n",
      " |          Module: self\n",
      " |  \n",
      " |  zero_grad(self) -> None\n",
      " |      Sets gradients of all model parameters to zero.\n",
      " |  \n",
      " |  ----------------------------------------------------------------------\n",
      " |  Data descriptors inherited from torch.nn.modules.module.Module:\n",
      " |  \n",
      " |  __dict__\n",
      " |      dictionary for instance variables (if defined)\n",
      " |  \n",
      " |  __weakref__\n",
      " |      list of weak references to the object (if defined)\n",
      " |  \n",
      " |  ----------------------------------------------------------------------\n",
      " |  Data and other attributes inherited from torch.nn.modules.module.Module:\n",
      " |  \n",
      " |  T_destination = ~T_destination\n",
      " |  \n",
      " |  dump_patches = False\n",
      "\n"
     ]
    }
   ],
   "source": [
    "# As always you can read more about an LSTMCell in the help or docs\n",
    "help(nn.LSTMCell)"
   ]
  },
  {
   "cell_type": "markdown",
   "metadata": {},
   "source": [
    "## High level\n",
    "\n",
    "Or we can use the high level API that handles it for you\n",
    "\n",
    "[LSTMdocs](https://pytorch.org/docs/stable/generated/torch.nn.LSTM.html)"
   ]
  },
  {
   "cell_type": "code",
   "execution_count": 5,
   "metadata": {
    "ExecuteTime": {
     "end_time": "2020-10-05T02:06:43.342833Z",
     "start_time": "2020-10-05T02:06:43.330261Z"
    }
   },
   "outputs": [
    {
     "name": "stdout",
     "output_type": "stream",
     "text": [
      "Help on class LSTM in module torch.nn.modules.rnn:\n",
      "\n",
      "class LSTM(RNNBase)\n",
      " |  LSTM(*args, **kwargs)\n",
      " |  \n",
      " |  Applies a multi-layer long short-term memory (LSTM) RNN to an input\n",
      " |  sequence.\n",
      " |  \n",
      " |  \n",
      " |  For each element in the input sequence, each layer computes the following\n",
      " |  function:\n",
      " |  \n",
      " |  .. math::\n",
      " |      \\begin{array}{ll} \\\\\n",
      " |          i_t = \\sigma(W_{ii} x_t + b_{ii} + W_{hi} h_{t-1} + b_{hi}) \\\\\n",
      " |          f_t = \\sigma(W_{if} x_t + b_{if} + W_{hf} h_{t-1} + b_{hf}) \\\\\n",
      " |          g_t = \\tanh(W_{ig} x_t + b_{ig} + W_{hg} h_{t-1} + b_{hg}) \\\\\n",
      " |          o_t = \\sigma(W_{io} x_t + b_{io} + W_{ho} h_{t-1} + b_{ho}) \\\\\n",
      " |          c_t = f_t \\odot c_{t-1} + i_t \\odot g_t \\\\\n",
      " |          h_t = o_t \\odot \\tanh(c_t) \\\\\n",
      " |      \\end{array}\n",
      " |  \n",
      " |  where :math:`h_t` is the hidden state at time `t`, :math:`c_t` is the cell\n",
      " |  state at time `t`, :math:`x_t` is the input at time `t`, :math:`h_{t-1}`\n",
      " |  is the hidden state of the layer at time `t-1` or the initial hidden\n",
      " |  state at time `0`, and :math:`i_t`, :math:`f_t`, :math:`g_t`,\n",
      " |  :math:`o_t` are the input, forget, cell, and output gates, respectively.\n",
      " |  :math:`\\sigma` is the sigmoid function, and :math:`\\odot` is the Hadamard product.\n",
      " |  \n",
      " |  In a multilayer LSTM, the input :math:`x^{(l)}_t` of the :math:`l` -th layer\n",
      " |  (:math:`l >= 2`) is the hidden state :math:`h^{(l-1)}_t` of the previous layer multiplied by\n",
      " |  dropout :math:`\\delta^{(l-1)}_t` where each :math:`\\delta^{(l-1)}_t` is a Bernoulli random\n",
      " |  variable which is :math:`0` with probability :attr:`dropout`.\n",
      " |  \n",
      " |  Args:\n",
      " |      input_size: The number of expected features in the input `x`\n",
      " |      hidden_size: The number of features in the hidden state `h`\n",
      " |      num_layers: Number of recurrent layers. E.g., setting ``num_layers=2``\n",
      " |          would mean stacking two LSTMs together to form a `stacked LSTM`,\n",
      " |          with the second LSTM taking in outputs of the first LSTM and\n",
      " |          computing the final results. Default: 1\n",
      " |      bias: If ``False``, then the layer does not use bias weights `b_ih` and `b_hh`.\n",
      " |          Default: ``True``\n",
      " |      batch_first: If ``True``, then the input and output tensors are provided\n",
      " |          as (batch, seq, feature). Default: ``False``\n",
      " |      dropout: If non-zero, introduces a `Dropout` layer on the outputs of each\n",
      " |          LSTM layer except the last layer, with dropout probability equal to\n",
      " |          :attr:`dropout`. Default: 0\n",
      " |      bidirectional: If ``True``, becomes a bidirectional LSTM. Default: ``False``\n",
      " |  \n",
      " |  Inputs: input, (h_0, c_0)\n",
      " |      - **input** of shape `(seq_len, batch, input_size)`: tensor containing the features\n",
      " |        of the input sequence.\n",
      " |        The input can also be a packed variable length sequence.\n",
      " |        See :func:`torch.nn.utils.rnn.pack_padded_sequence` or\n",
      " |        :func:`torch.nn.utils.rnn.pack_sequence` for details.\n",
      " |      - **h_0** of shape `(num_layers * num_directions, batch, hidden_size)`: tensor\n",
      " |        containing the initial hidden state for each element in the batch.\n",
      " |        If the LSTM is bidirectional, num_directions should be 2, else it should be 1.\n",
      " |      - **c_0** of shape `(num_layers * num_directions, batch, hidden_size)`: tensor\n",
      " |        containing the initial cell state for each element in the batch.\n",
      " |  \n",
      " |        If `(h_0, c_0)` is not provided, both **h_0** and **c_0** default to zero.\n",
      " |  \n",
      " |  \n",
      " |  Outputs: output, (h_n, c_n)\n",
      " |      - **output** of shape `(seq_len, batch, num_directions * hidden_size)`: tensor\n",
      " |        containing the output features `(h_t)` from the last layer of the LSTM,\n",
      " |        for each `t`. If a :class:`torch.nn.utils.rnn.PackedSequence` has been\n",
      " |        given as the input, the output will also be a packed sequence.\n",
      " |  \n",
      " |        For the unpacked case, the directions can be separated\n",
      " |        using ``output.view(seq_len, batch, num_directions, hidden_size)``,\n",
      " |        with forward and backward being direction `0` and `1` respectively.\n",
      " |        Similarly, the directions can be separated in the packed case.\n",
      " |      - **h_n** of shape `(num_layers * num_directions, batch, hidden_size)`: tensor\n",
      " |        containing the hidden state for `t = seq_len`.\n",
      " |  \n",
      " |        Like *output*, the layers can be separated using\n",
      " |        ``h_n.view(num_layers, num_directions, batch, hidden_size)`` and similarly for *c_n*.\n",
      " |      - **c_n** of shape `(num_layers * num_directions, batch, hidden_size)`: tensor\n",
      " |        containing the cell state for `t = seq_len`.\n",
      " |  \n",
      " |  Attributes:\n",
      " |      weight_ih_l[k] : the learnable input-hidden weights of the :math:`\\text{k}^{th}` layer\n",
      " |          `(W_ii|W_if|W_ig|W_io)`, of shape `(4*hidden_size, input_size)` for `k = 0`.\n",
      " |          Otherwise, the shape is `(4*hidden_size, num_directions * hidden_size)`\n",
      " |      weight_hh_l[k] : the learnable hidden-hidden weights of the :math:`\\text{k}^{th}` layer\n",
      " |          `(W_hi|W_hf|W_hg|W_ho)`, of shape `(4*hidden_size, hidden_size)`\n",
      " |      bias_ih_l[k] : the learnable input-hidden bias of the :math:`\\text{k}^{th}` layer\n",
      " |          `(b_ii|b_if|b_ig|b_io)`, of shape `(4*hidden_size)`\n",
      " |      bias_hh_l[k] : the learnable hidden-hidden bias of the :math:`\\text{k}^{th}` layer\n",
      " |          `(b_hi|b_hf|b_hg|b_ho)`, of shape `(4*hidden_size)`\n",
      " |  \n",
      " |  .. note::\n",
      " |      All the weights and biases are initialized from :math:`\\mathcal{U}(-\\sqrt{k}, \\sqrt{k})`\n",
      " |      where :math:`k = \\frac{1}{\\text{hidden\\_size}}`\n",
      " |  \n",
      " |  .. include:: ../cudnn_persistent_rnn.rst\n",
      " |  \n",
      " |  Examples::\n",
      " |  \n",
      " |      >>> rnn = nn.LSTM(10, 20, 2)\n",
      " |      >>> input = torch.randn(5, 3, 10)\n",
      " |      >>> h0 = torch.randn(2, 3, 20)\n",
      " |      >>> c0 = torch.randn(2, 3, 20)\n",
      " |      >>> output, (hn, cn) = rnn(input, (h0, c0))\n",
      " |  \n",
      " |  Method resolution order:\n",
      " |      LSTM\n",
      " |      RNNBase\n",
      " |      torch.nn.modules.module.Module\n",
      " |      builtins.object\n",
      " |  \n",
      " |  Methods defined here:\n",
      " |  \n",
      " |  __init__(self, *args, **kwargs)\n",
      " |      Initializes internal Module state, shared by both nn.Module and ScriptModule.\n",
      " |  \n",
      " |  check_forward_args(self, input: torch.Tensor, hidden: Tuple[torch.Tensor, torch.Tensor], batch_sizes: Union[torch.Tensor, NoneType])\n",
      " |  \n",
      " |  forward(self, input, hx=None)\n",
      " |  \n",
      " |  permute_hidden(self, hx: Tuple[torch.Tensor, torch.Tensor], permutation: Union[torch.Tensor, NoneType]) -> Tuple[torch.Tensor, torch.Tensor]\n",
      " |  \n",
      " |  ----------------------------------------------------------------------\n",
      " |  Methods inherited from RNNBase:\n",
      " |  \n",
      " |  __setattr__(self, attr, value)\n",
      " |      Implement setattr(self, name, value).\n",
      " |  \n",
      " |  __setstate__(self, d)\n",
      " |  \n",
      " |  check_hidden_size(self, hx: torch.Tensor, expected_hidden_size: Tuple[int, int, int], msg: str = 'Expected hidden size {}, got {}') -> None\n",
      " |  \n",
      " |  check_input(self, input: torch.Tensor, batch_sizes: Union[torch.Tensor, NoneType]) -> None\n",
      " |  \n",
      " |  extra_repr(self) -> str\n",
      " |      Set the extra representation of the module\n",
      " |      \n",
      " |      To print customized extra information, you should reimplement\n",
      " |      this method in your own modules. Both single-line and multi-line\n",
      " |      strings are acceptable.\n",
      " |  \n",
      " |  flatten_parameters(self) -> None\n",
      " |      Resets parameter data pointer so that they can use faster code paths.\n",
      " |      \n",
      " |      Right now, this works only if the module is on the GPU and cuDNN is enabled.\n",
      " |      Otherwise, it's a no-op.\n",
      " |  \n",
      " |  get_expected_hidden_size(self, input: torch.Tensor, batch_sizes: Union[torch.Tensor, NoneType]) -> Tuple[int, int, int]\n",
      " |  \n",
      " |  reset_parameters(self) -> None\n",
      " |  \n",
      " |  ----------------------------------------------------------------------\n",
      " |  Data descriptors inherited from RNNBase:\n",
      " |  \n",
      " |  all_weights\n",
      " |  \n",
      " |  ----------------------------------------------------------------------\n",
      " |  Data and other attributes inherited from RNNBase:\n",
      " |  \n",
      " |  __annotations__ = {'batch_first': <class 'bool'>, 'bias': <class 'bool...\n",
      " |  \n",
      " |  __constants__ = ['mode', 'input_size', 'hidden_size', 'num_layers', 'b...\n",
      " |  \n",
      " |  ----------------------------------------------------------------------\n",
      " |  Methods inherited from torch.nn.modules.module.Module:\n",
      " |  \n",
      " |  __call__ = _call_impl(self, *input, **kwargs)\n",
      " |  \n",
      " |  __delattr__(self, name)\n",
      " |      Implement delattr(self, name).\n",
      " |  \n",
      " |  __dir__(self)\n",
      " |      Default dir() implementation.\n",
      " |  \n",
      " |  __getattr__(self, name: str) -> Union[torch.Tensor, ForwardRef('Module')]\n",
      " |  \n",
      " |  __repr__(self)\n",
      " |      Return repr(self).\n",
      " |  \n",
      " |  add_module(self, name: str, module: 'Module') -> None\n",
      " |      Adds a child module to the current module.\n",
      " |      \n",
      " |      The module can be accessed as an attribute using the given name.\n",
      " |      \n",
      " |      Args:\n",
      " |          name (string): name of the child module. The child module can be\n",
      " |              accessed from this module using the given name\n",
      " |          module (Module): child module to be added to the module.\n",
      " |  \n",
      " |  apply(self: ~T, fn: Callable[[ForwardRef('Module')], NoneType]) -> ~T\n",
      " |      Applies ``fn`` recursively to every submodule (as returned by ``.children()``)\n",
      " |      as well as self. Typical use includes initializing the parameters of a model\n",
      " |      (see also :ref:`nn-init-doc`).\n",
      " |      \n",
      " |      Args:\n",
      " |          fn (:class:`Module` -> None): function to be applied to each submodule\n",
      " |      \n",
      " |      Returns:\n",
      " |          Module: self\n",
      " |      \n",
      " |      Example::\n",
      " |      \n",
      " |          >>> @torch.no_grad()\n",
      " |          >>> def init_weights(m):\n",
      " |          >>>     print(m)\n",
      " |          >>>     if type(m) == nn.Linear:\n",
      " |          >>>         m.weight.fill_(1.0)\n",
      " |          >>>         print(m.weight)\n",
      " |          >>> net = nn.Sequential(nn.Linear(2, 2), nn.Linear(2, 2))\n",
      " |          >>> net.apply(init_weights)\n",
      " |          Linear(in_features=2, out_features=2, bias=True)\n",
      " |          Parameter containing:\n",
      " |          tensor([[ 1.,  1.],\n",
      " |                  [ 1.,  1.]])\n",
      " |          Linear(in_features=2, out_features=2, bias=True)\n",
      " |          Parameter containing:\n",
      " |          tensor([[ 1.,  1.],\n",
      " |                  [ 1.,  1.]])\n",
      " |          Sequential(\n",
      " |            (0): Linear(in_features=2, out_features=2, bias=True)\n",
      " |            (1): Linear(in_features=2, out_features=2, bias=True)\n",
      " |          )\n",
      " |          Sequential(\n",
      " |            (0): Linear(in_features=2, out_features=2, bias=True)\n",
      " |            (1): Linear(in_features=2, out_features=2, bias=True)\n",
      " |          )\n",
      " |  \n",
      " |  bfloat16(self: ~T) -> ~T\n",
      " |      Casts all floating point parameters and buffers to ``bfloat16`` datatype.\n",
      " |      \n",
      " |      Returns:\n",
      " |          Module: self\n",
      " |  \n",
      " |  buffers(self, recurse: bool = True) -> Iterator[torch.Tensor]\n",
      " |      Returns an iterator over module buffers.\n",
      " |      \n",
      " |      Args:\n",
      " |          recurse (bool): if True, then yields buffers of this module\n",
      " |              and all submodules. Otherwise, yields only buffers that\n",
      " |              are direct members of this module.\n",
      " |      \n",
      " |      Yields:\n",
      " |          torch.Tensor: module buffer\n",
      " |      \n",
      " |      Example::\n",
      " |      \n",
      " |          >>> for buf in model.buffers():\n",
      " |          >>>     print(type(buf), buf.size())\n",
      " |          <class 'torch.Tensor'> (20L,)\n",
      " |          <class 'torch.Tensor'> (20L, 1L, 5L, 5L)\n",
      " |  \n",
      " |  children(self) -> Iterator[ForwardRef('Module')]\n",
      " |      Returns an iterator over immediate children modules.\n",
      " |      \n",
      " |      Yields:\n",
      " |          Module: a child module\n",
      " |  \n",
      " |  cpu(self: ~T) -> ~T\n",
      " |      Moves all model parameters and buffers to the CPU.\n",
      " |      \n",
      " |      Returns:\n",
      " |          Module: self\n",
      " |  \n",
      " |  cuda(self: ~T, device: Union[int, torch.device, NoneType] = None) -> ~T\n",
      " |      Moves all model parameters and buffers to the GPU.\n",
      " |      \n",
      " |      This also makes associated parameters and buffers different objects. So\n",
      " |      it should be called before constructing optimizer if the module will\n",
      " |      live on GPU while being optimized.\n",
      " |      \n",
      " |      Arguments:\n",
      " |          device (int, optional): if specified, all parameters will be\n",
      " |              copied to that device\n",
      " |      \n",
      " |      Returns:\n",
      " |          Module: self\n",
      " |  \n",
      " |  double(self: ~T) -> ~T\n",
      " |      Casts all floating point parameters and buffers to ``double`` datatype.\n",
      " |      \n",
      " |      Returns:\n",
      " |          Module: self\n",
      " |  \n",
      " |  eval(self: ~T) -> ~T\n",
      " |      Sets the module in evaluation mode.\n",
      " |      \n",
      " |      This has any effect only on certain modules. See documentations of\n",
      " |      particular modules for details of their behaviors in training/evaluation\n",
      " |      mode, if they are affected, e.g. :class:`Dropout`, :class:`BatchNorm`,\n",
      " |      etc.\n",
      " |      \n",
      " |      This is equivalent with :meth:`self.train(False) <torch.nn.Module.train>`.\n",
      " |      \n",
      " |      Returns:\n",
      " |          Module: self\n",
      " |  \n",
      " |  float(self: ~T) -> ~T\n",
      " |      Casts all floating point parameters and buffers to float datatype.\n",
      " |      \n",
      " |      Returns:\n",
      " |          Module: self\n",
      " |  \n",
      " |  half(self: ~T) -> ~T\n",
      " |      Casts all floating point parameters and buffers to ``half`` datatype.\n",
      " |      \n",
      " |      Returns:\n",
      " |          Module: self\n",
      " |  \n",
      " |  load_state_dict(self, state_dict: Dict[str, torch.Tensor], strict: bool = True)\n",
      " |      Copies parameters and buffers from :attr:`state_dict` into\n",
      " |      this module and its descendants. If :attr:`strict` is ``True``, then\n",
      " |      the keys of :attr:`state_dict` must exactly match the keys returned\n",
      " |      by this module's :meth:`~torch.nn.Module.state_dict` function.\n",
      " |      \n",
      " |      Arguments:\n",
      " |          state_dict (dict): a dict containing parameters and\n",
      " |              persistent buffers.\n",
      " |          strict (bool, optional): whether to strictly enforce that the keys\n",
      " |              in :attr:`state_dict` match the keys returned by this module's\n",
      " |              :meth:`~torch.nn.Module.state_dict` function. Default: ``True``\n",
      " |      \n",
      " |      Returns:\n",
      " |          ``NamedTuple`` with ``missing_keys`` and ``unexpected_keys`` fields:\n",
      " |              * **missing_keys** is a list of str containing the missing keys\n",
      " |              * **unexpected_keys** is a list of str containing the unexpected keys\n",
      " |  \n",
      " |  modules(self) -> Iterator[ForwardRef('Module')]\n",
      " |      Returns an iterator over all modules in the network.\n",
      " |      \n",
      " |      Yields:\n",
      " |          Module: a module in the network\n",
      " |      \n",
      " |      Note:\n",
      " |          Duplicate modules are returned only once. In the following\n",
      " |          example, ``l`` will be returned only once.\n",
      " |      \n",
      " |      Example::\n",
      " |      \n",
      " |          >>> l = nn.Linear(2, 2)\n",
      " |          >>> net = nn.Sequential(l, l)\n",
      " |          >>> for idx, m in enumerate(net.modules()):\n",
      " |                  print(idx, '->', m)\n",
      " |      \n",
      " |          0 -> Sequential(\n",
      " |            (0): Linear(in_features=2, out_features=2, bias=True)\n",
      " |            (1): Linear(in_features=2, out_features=2, bias=True)\n",
      " |          )\n",
      " |          1 -> Linear(in_features=2, out_features=2, bias=True)\n",
      " |  \n",
      " |  named_buffers(self, prefix: str = '', recurse: bool = True) -> Iterator[Tuple[str, torch.Tensor]]\n",
      " |      Returns an iterator over module buffers, yielding both the\n",
      " |      name of the buffer as well as the buffer itself.\n",
      " |      \n",
      " |      Args:\n",
      " |          prefix (str): prefix to prepend to all buffer names.\n",
      " |          recurse (bool): if True, then yields buffers of this module\n",
      " |              and all submodules. Otherwise, yields only buffers that\n",
      " |              are direct members of this module.\n",
      " |      \n",
      " |      Yields:\n",
      " |          (string, torch.Tensor): Tuple containing the name and buffer\n",
      " |      \n",
      " |      Example::\n",
      " |      \n",
      " |          >>> for name, buf in self.named_buffers():\n",
      " |          >>>    if name in ['running_var']:\n",
      " |          >>>        print(buf.size())\n",
      " |  \n",
      " |  named_children(self) -> Iterator[Tuple[str, ForwardRef('Module')]]\n",
      " |      Returns an iterator over immediate children modules, yielding both\n",
      " |      the name of the module as well as the module itself.\n",
      " |      \n",
      " |      Yields:\n",
      " |          (string, Module): Tuple containing a name and child module\n",
      " |      \n",
      " |      Example::\n",
      " |      \n",
      " |          >>> for name, module in model.named_children():\n",
      " |          >>>     if name in ['conv4', 'conv5']:\n",
      " |          >>>         print(module)\n",
      " |  \n",
      " |  named_modules(self, memo: Union[Set[ForwardRef('Module')], NoneType] = None, prefix: str = '')\n",
      " |      Returns an iterator over all modules in the network, yielding\n",
      " |      both the name of the module as well as the module itself.\n",
      " |      \n",
      " |      Yields:\n",
      " |          (string, Module): Tuple of name and module\n",
      " |      \n",
      " |      Note:\n",
      " |          Duplicate modules are returned only once. In the following\n",
      " |          example, ``l`` will be returned only once.\n",
      " |      \n",
      " |      Example::\n",
      " |      \n",
      " |          >>> l = nn.Linear(2, 2)\n",
      " |          >>> net = nn.Sequential(l, l)\n",
      " |          >>> for idx, m in enumerate(net.named_modules()):\n",
      " |                  print(idx, '->', m)\n",
      " |      \n",
      " |          0 -> ('', Sequential(\n",
      " |            (0): Linear(in_features=2, out_features=2, bias=True)\n",
      " |            (1): Linear(in_features=2, out_features=2, bias=True)\n",
      " |          ))\n",
      " |          1 -> ('0', Linear(in_features=2, out_features=2, bias=True))\n",
      " |  \n",
      " |  named_parameters(self, prefix: str = '', recurse: bool = True) -> Iterator[Tuple[str, torch.Tensor]]\n",
      " |      Returns an iterator over module parameters, yielding both the\n",
      " |      name of the parameter as well as the parameter itself.\n",
      " |      \n",
      " |      Args:\n",
      " |          prefix (str): prefix to prepend to all parameter names.\n",
      " |          recurse (bool): if True, then yields parameters of this module\n",
      " |              and all submodules. Otherwise, yields only parameters that\n",
      " |              are direct members of this module.\n",
      " |      \n",
      " |      Yields:\n",
      " |          (string, Parameter): Tuple containing the name and parameter\n",
      " |      \n",
      " |      Example::\n",
      " |      \n",
      " |          >>> for name, param in self.named_parameters():\n",
      " |          >>>    if name in ['bias']:\n",
      " |          >>>        print(param.size())\n",
      " |  \n",
      " |  parameters(self, recurse: bool = True) -> Iterator[torch.nn.parameter.Parameter]\n",
      " |      Returns an iterator over module parameters.\n",
      " |      \n",
      " |      This is typically passed to an optimizer.\n",
      " |      \n",
      " |      Args:\n",
      " |          recurse (bool): if True, then yields parameters of this module\n",
      " |              and all submodules. Otherwise, yields only parameters that\n",
      " |              are direct members of this module.\n",
      " |      \n",
      " |      Yields:\n",
      " |          Parameter: module parameter\n",
      " |      \n",
      " |      Example::\n",
      " |      \n",
      " |          >>> for param in model.parameters():\n",
      " |          >>>     print(type(param), param.size())\n",
      " |          <class 'torch.Tensor'> (20L,)\n",
      " |          <class 'torch.Tensor'> (20L, 1L, 5L, 5L)\n",
      " |  \n",
      " |  register_backward_hook(self, hook: Callable[[ForwardRef('Module'), Union[Tuple[torch.Tensor, ...], torch.Tensor], Union[Tuple[torch.Tensor, ...], torch.Tensor]], Union[NoneType, torch.Tensor]]) -> torch.utils.hooks.RemovableHandle\n",
      " |      Registers a backward hook on the module.\n",
      " |      \n",
      " |      .. warning ::\n",
      " |      \n",
      " |          The current implementation will not have the presented behavior\n",
      " |          for complex :class:`Module` that perform many operations.\n",
      " |          In some failure cases, :attr:`grad_input` and :attr:`grad_output` will only\n",
      " |          contain the gradients for a subset of the inputs and outputs.\n",
      " |          For such :class:`Module`, you should use :func:`torch.Tensor.register_hook`\n",
      " |          directly on a specific input or output to get the required gradients.\n",
      " |      \n",
      " |      The hook will be called every time the gradients with respect to module\n",
      " |      inputs are computed. The hook should have the following signature::\n",
      " |      \n",
      " |          hook(module, grad_input, grad_output) -> Tensor or None\n",
      " |      \n",
      " |      The :attr:`grad_input` and :attr:`grad_output` may be tuples if the\n",
      " |      module has multiple inputs or outputs. The hook should not modify its\n",
      " |      arguments, but it can optionally return a new gradient with respect to\n",
      " |      input that will be used in place of :attr:`grad_input` in subsequent\n",
      " |      computations. :attr:`grad_input` will only correspond to the inputs given\n",
      " |      as positional arguments.\n",
      " |      \n",
      " |      Returns:\n",
      " |          :class:`torch.utils.hooks.RemovableHandle`:\n",
      " |              a handle that can be used to remove the added hook by calling\n",
      " |              ``handle.remove()``\n",
      " |  \n",
      " |  register_buffer(self, name: str, tensor: torch.Tensor, persistent: bool = True) -> None\n",
      " |      Adds a buffer to the module.\n",
      " |      \n",
      " |      This is typically used to register a buffer that should not to be\n",
      " |      considered a model parameter. For example, BatchNorm's ``running_mean``\n",
      " |      is not a parameter, but is part of the module's state. Buffers, by\n",
      " |      default, are persistent and will be saved alongside parameters. This\n",
      " |      behavior can be changed by setting :attr:`persistent` to ``False``. The\n",
      " |      only difference between a persistent buffer and a non-persistent buffer\n",
      " |      is that the latter will not be a part of this module's\n",
      " |      :attr:`state_dict`.\n",
      " |      \n",
      " |      Buffers can be accessed as attributes using given names.\n",
      " |      \n",
      " |      Args:\n",
      " |          name (string): name of the buffer. The buffer can be accessed\n",
      " |              from this module using the given name\n",
      " |          tensor (Tensor): buffer to be registered.\n",
      " |          persistent (bool): whether the buffer is part of this module's\n",
      " |              :attr:`state_dict`.\n",
      " |      \n",
      " |      Example::\n",
      " |      \n",
      " |          >>> self.register_buffer('running_mean', torch.zeros(num_features))\n",
      " |  \n",
      " |  register_forward_hook(self, hook: Callable[..., NoneType]) -> torch.utils.hooks.RemovableHandle\n",
      " |      Registers a forward hook on the module.\n",
      " |      \n",
      " |      The hook will be called every time after :func:`forward` has computed an output.\n",
      " |      It should have the following signature::\n",
      " |      \n",
      " |          hook(module, input, output) -> None or modified output\n",
      " |      \n",
      " |      The input contains only the positional arguments given to the module.\n",
      " |      Keyword arguments won't be passed to the hooks and only to the ``forward``.\n",
      " |      The hook can modify the output. It can modify the input inplace but\n",
      " |      it will not have effect on forward since this is called after\n",
      " |      :func:`forward` is called.\n",
      " |      \n",
      " |      Returns:\n",
      " |          :class:`torch.utils.hooks.RemovableHandle`:\n",
      " |              a handle that can be used to remove the added hook by calling\n",
      " |              ``handle.remove()``\n",
      " |  \n",
      " |  register_forward_pre_hook(self, hook: Callable[..., NoneType]) -> torch.utils.hooks.RemovableHandle\n",
      " |      Registers a forward pre-hook on the module.\n",
      " |      \n",
      " |      The hook will be called every time before :func:`forward` is invoked.\n",
      " |      It should have the following signature::\n",
      " |      \n",
      " |          hook(module, input) -> None or modified input\n",
      " |      \n",
      " |      The input contains only the positional arguments given to the module.\n",
      " |      Keyword arguments won't be passed to the hooks and only to the ``forward``.\n",
      " |      The hook can modify the input. User can either return a tuple or a\n",
      " |      single modified value in the hook. We will wrap the value into a tuple\n",
      " |      if a single value is returned(unless that value is already a tuple).\n",
      " |      \n",
      " |      Returns:\n",
      " |          :class:`torch.utils.hooks.RemovableHandle`:\n",
      " |              a handle that can be used to remove the added hook by calling\n",
      " |              ``handle.remove()``\n",
      " |  \n",
      " |  register_parameter(self, name: str, param: torch.nn.parameter.Parameter) -> None\n",
      " |      Adds a parameter to the module.\n",
      " |      \n",
      " |      The parameter can be accessed as an attribute using given name.\n",
      " |      \n",
      " |      Args:\n",
      " |          name (string): name of the parameter. The parameter can be accessed\n",
      " |              from this module using the given name\n",
      " |          param (Parameter): parameter to be added to the module.\n",
      " |  \n",
      " |  requires_grad_(self: ~T, requires_grad: bool = True) -> ~T\n",
      " |      Change if autograd should record operations on parameters in this\n",
      " |      module.\n",
      " |      \n",
      " |      This method sets the parameters' :attr:`requires_grad` attributes\n",
      " |      in-place.\n",
      " |      \n",
      " |      This method is helpful for freezing part of the module for finetuning\n",
      " |      or training parts of a model individually (e.g., GAN training).\n",
      " |      \n",
      " |      Args:\n",
      " |          requires_grad (bool): whether autograd should record operations on\n",
      " |                                parameters in this module. Default: ``True``.\n",
      " |      \n",
      " |      Returns:\n",
      " |          Module: self\n",
      " |  \n",
      " |  share_memory(self: ~T) -> ~T\n",
      " |  \n",
      " |  state_dict(self, destination=None, prefix='', keep_vars=False)\n",
      " |      Returns a dictionary containing a whole state of the module.\n",
      " |      \n",
      " |      Both parameters and persistent buffers (e.g. running averages) are\n",
      " |      included. Keys are corresponding parameter and buffer names.\n",
      " |      \n",
      " |      Returns:\n",
      " |          dict:\n",
      " |              a dictionary containing a whole state of the module\n",
      " |      \n",
      " |      Example::\n",
      " |      \n",
      " |          >>> module.state_dict().keys()\n",
      " |          ['bias', 'weight']\n",
      " |  \n",
      " |  to(self, *args, **kwargs)\n",
      " |      Moves and/or casts the parameters and buffers.\n",
      " |      \n",
      " |      This can be called as\n",
      " |      \n",
      " |      .. function:: to(device=None, dtype=None, non_blocking=False)\n",
      " |      \n",
      " |      .. function:: to(dtype, non_blocking=False)\n",
      " |      \n",
      " |      .. function:: to(tensor, non_blocking=False)\n",
      " |      \n",
      " |      .. function:: to(memory_format=torch.channels_last)\n",
      " |      \n",
      " |      Its signature is similar to :meth:`torch.Tensor.to`, but only accepts\n",
      " |      floating point desired :attr:`dtype` s. In addition, this method will\n",
      " |      only cast the floating point parameters and buffers to :attr:`dtype`\n",
      " |      (if given). The integral parameters and buffers will be moved\n",
      " |      :attr:`device`, if that is given, but with dtypes unchanged. When\n",
      " |      :attr:`non_blocking` is set, it tries to convert/move asynchronously\n",
      " |      with respect to the host if possible, e.g., moving CPU Tensors with\n",
      " |      pinned memory to CUDA devices.\n",
      " |      \n",
      " |      See below for examples.\n",
      " |      \n",
      " |      .. note::\n",
      " |          This method modifies the module in-place.\n",
      " |      \n",
      " |      Args:\n",
      " |          device (:class:`torch.device`): the desired device of the parameters\n",
      " |              and buffers in this module\n",
      " |          dtype (:class:`torch.dtype`): the desired floating point type of\n",
      " |              the floating point parameters and buffers in this module\n",
      " |          tensor (torch.Tensor): Tensor whose dtype and device are the desired\n",
      " |              dtype and device for all parameters and buffers in this module\n",
      " |          memory_format (:class:`torch.memory_format`): the desired memory\n",
      " |              format for 4D parameters and buffers in this module (keyword\n",
      " |              only argument)\n",
      " |      \n",
      " |      Returns:\n",
      " |          Module: self\n",
      " |      \n",
      " |      Example::\n",
      " |      \n",
      " |          >>> linear = nn.Linear(2, 2)\n",
      " |          >>> linear.weight\n",
      " |          Parameter containing:\n",
      " |          tensor([[ 0.1913, -0.3420],\n",
      " |                  [-0.5113, -0.2325]])\n",
      " |          >>> linear.to(torch.double)\n",
      " |          Linear(in_features=2, out_features=2, bias=True)\n",
      " |          >>> linear.weight\n",
      " |          Parameter containing:\n",
      " |          tensor([[ 0.1913, -0.3420],\n",
      " |                  [-0.5113, -0.2325]], dtype=torch.float64)\n",
      " |          >>> gpu1 = torch.device(\"cuda:1\")\n",
      " |          >>> linear.to(gpu1, dtype=torch.half, non_blocking=True)\n",
      " |          Linear(in_features=2, out_features=2, bias=True)\n",
      " |          >>> linear.weight\n",
      " |          Parameter containing:\n",
      " |          tensor([[ 0.1914, -0.3420],\n",
      " |                  [-0.5112, -0.2324]], dtype=torch.float16, device='cuda:1')\n",
      " |          >>> cpu = torch.device(\"cpu\")\n",
      " |          >>> linear.to(cpu)\n",
      " |          Linear(in_features=2, out_features=2, bias=True)\n",
      " |          >>> linear.weight\n",
      " |          Parameter containing:\n",
      " |          tensor([[ 0.1914, -0.3420],\n",
      " |                  [-0.5112, -0.2324]], dtype=torch.float16)\n",
      " |  \n",
      " |  train(self: ~T, mode: bool = True) -> ~T\n",
      " |      Sets the module in training mode.\n",
      " |      \n",
      " |      This has any effect only on certain modules. See documentations of\n",
      " |      particular modules for details of their behaviors in training/evaluation\n",
      " |      mode, if they are affected, e.g. :class:`Dropout`, :class:`BatchNorm`,\n",
      " |      etc.\n",
      " |      \n",
      " |      Args:\n",
      " |          mode (bool): whether to set training mode (``True``) or evaluation\n",
      " |                       mode (``False``). Default: ``True``.\n",
      " |      \n",
      " |      Returns:\n",
      " |          Module: self\n",
      " |  \n",
      " |  type(self: ~T, dst_type: Union[torch.dtype, str]) -> ~T\n",
      " |      Casts all parameters and buffers to :attr:`dst_type`.\n",
      " |      \n",
      " |      Arguments:\n",
      " |          dst_type (type or string): the desired type\n",
      " |      \n",
      " |      Returns:\n",
      " |          Module: self\n",
      " |  \n",
      " |  zero_grad(self) -> None\n",
      " |      Sets gradients of all model parameters to zero.\n",
      " |  \n",
      " |  ----------------------------------------------------------------------\n",
      " |  Data descriptors inherited from torch.nn.modules.module.Module:\n",
      " |  \n",
      " |  __dict__\n",
      " |      dictionary for instance variables (if defined)\n",
      " |  \n",
      " |  __weakref__\n",
      " |      list of weak references to the object (if defined)\n",
      " |  \n",
      " |  ----------------------------------------------------------------------\n",
      " |  Data and other attributes inherited from torch.nn.modules.module.Module:\n",
      " |  \n",
      " |  T_destination = ~T_destination\n",
      " |  \n",
      " |  dump_patches = False\n",
      "\n"
     ]
    }
   ],
   "source": [
    "help(nn.LSTM)"
   ]
  },
  {
   "cell_type": "code",
   "execution_count": 6,
   "metadata": {
    "ExecuteTime": {
     "end_time": "2020-10-05T02:06:43.352822Z",
     "start_time": "2020-10-05T02:06:43.344843Z"
    }
   },
   "outputs": [],
   "source": [
    "\n",
    "class LSTM(nn.Module):\n",
    "    def __init__(self, input_size, hidden_size, num_layers, output_size=1):\n",
    "        super(LSTM, self).__init__()\n",
    "        # Params\n",
    "        self.num_layers = num_layers\n",
    "        self.input_size = input_size\n",
    "        self.hidden_size = hidden_size\n",
    "        self.seq_length = seq_length\n",
    "        \n",
    "        # High level LSTM library, nn.LSTMCell is a lower level one\n",
    "        self.lstm = nn.LSTM(\n",
    "            input_size=input_size,\n",
    "            hidden_size=hidden_size,\n",
    "            num_layers=num_layers,\n",
    "            batch_first=True,\n",
    "        )\n",
    "        \n",
    "        # Final layer\n",
    "        self.linear = nn.Linear(hidden_size, output_size)\n",
    "\n",
    "    def forward(self, x):\n",
    "        seq_len = x.shape[1]\n",
    "        \n",
    "        output, (_, _) = self.lstm(x)\n",
    "        rnn = nn.LSTMCell(10, 20)\n",
    "        h = output.view(-1, seq_len, self.hidden_size)[:, -1]\n",
    "        \n",
    "        return self.linear(h)"
   ]
  },
  {
   "cell_type": "markdown",
   "metadata": {
    "colab_type": "text",
    "id": "vaL6j3pkCen3"
   },
   "source": [
    "## Classification\n",
    "\n",
    "In this scenario we are drilling downwards, and while well logs are reported instantly, there is a lag in facies of around 15 meter (see diagram), while they are interpreated by a petrophysicist. The problem is we would like to know the facies as soon as possible in order decide if, how, and where to drill.\n",
    "\n",
    "Lets apply machine learning. There are many ways to set up this problem, and geology is especially hard due to the important of context and the amount of undigitized information (much of it is in the brain of old and grizzled geologists).\n",
    "\n",
    "In this scenario we will apply an RNN. \n",
    "- It will travel down the well\n",
    "- Input are \n",
    "    - the last 200 meters of well logs \n",
    "    - and the geologist facies interpreation up to 15 meters ago\n",
    "- The label is the facies at the point in the well\n",
    "\n",
    "\n",
    "You may ask: \"Isn't it cheating? Because it knows the human labels from 15 meters above?\" \n",
    "\n",
    "We measure this and it gives a ~60% accuracy. So this is the naive baseline that we have to beat.\n",
    "\n",
    "<img src=\"images/diagram.png\" width=\"600\"/>\n",
    "\n"
   ]
  },
  {
   "cell_type": "markdown",
   "metadata": {
    "colab_type": "text",
    "id": "kzlqXAj4EIBN"
   },
   "source": [
    "In this example we are going to look at well logs which are sequential data as well."
   ]
  },
  {
   "cell_type": "code",
   "execution_count": 7,
   "metadata": {
    "ExecuteTime": {
     "end_time": "2020-10-05T02:06:48.716865Z",
     "start_time": "2020-10-05T02:06:43.354670Z"
    },
    "colab": {
     "base_uri": "https://localhost:8080/",
     "height": 255
    },
    "colab_type": "code",
    "id": "uNl846nE-jjq",
    "outputId": "de7b4197-6a3f-4e88-e07e-2463adba90d0"
   },
   "outputs": [
    {
     "data": {
      "text/html": [
       "<div>\n",
       "<style scoped>\n",
       "    .dataframe tbody tr th:only-of-type {\n",
       "        vertical-align: middle;\n",
       "    }\n",
       "\n",
       "    .dataframe tbody tr th {\n",
       "        vertical-align: top;\n",
       "    }\n",
       "\n",
       "    .dataframe thead th {\n",
       "        text-align: right;\n",
       "    }\n",
       "</style>\n",
       "<table border=\"1\" class=\"dataframe\">\n",
       "  <thead>\n",
       "    <tr style=\"text-align: right;\">\n",
       "      <th></th>\n",
       "      <th></th>\n",
       "      <th>CALI</th>\n",
       "      <th>DTC</th>\n",
       "      <th>Depth</th>\n",
       "      <th>GR</th>\n",
       "      <th>LITHOLOGY_GEOLINK</th>\n",
       "      <th>RDEP</th>\n",
       "      <th>RHOB</th>\n",
       "      <th>RMED</th>\n",
       "      <th>split</th>\n",
       "      <th>wlbCompletionDate</th>\n",
       "      <th>wlbCompletionYear</th>\n",
       "      <th>wlbKellyBushElevation</th>\n",
       "      <th>wlbTotalDepth</th>\n",
       "      <th>xc</th>\n",
       "      <th>yc</th>\n",
       "      <th>Well</th>\n",
       "      <th>DEPT</th>\n",
       "    </tr>\n",
       "    <tr>\n",
       "      <th>Well</th>\n",
       "      <th>DEPT</th>\n",
       "      <th></th>\n",
       "      <th></th>\n",
       "      <th></th>\n",
       "      <th></th>\n",
       "      <th></th>\n",
       "      <th></th>\n",
       "      <th></th>\n",
       "      <th></th>\n",
       "      <th></th>\n",
       "      <th></th>\n",
       "      <th></th>\n",
       "      <th></th>\n",
       "      <th></th>\n",
       "      <th></th>\n",
       "      <th></th>\n",
       "      <th></th>\n",
       "      <th></th>\n",
       "    </tr>\n",
       "  </thead>\n",
       "  <tbody>\n",
       "    <tr>\n",
       "      <th rowspan=\"5\" valign=\"top\">30_11-3</th>\n",
       "      <th>2118.60</th>\n",
       "      <td>12.435000</td>\n",
       "      <td>109.432205</td>\n",
       "      <td>2118.744629</td>\n",
       "      <td>62.438549</td>\n",
       "      <td>Silt</td>\n",
       "      <td>1.321802</td>\n",
       "      <td>2.305019</td>\n",
       "      <td>1.439</td>\n",
       "      <td>train</td>\n",
       "      <td>1983-03-14T00:00:00</td>\n",
       "      <td>1983.0</td>\n",
       "      <td>25.0</td>\n",
       "      <td>4662.0</td>\n",
       "      <td>2.537631</td>\n",
       "      <td>60.044053</td>\n",
       "      <td>30_11-3</td>\n",
       "      <td>2118.60</td>\n",
       "    </tr>\n",
       "    <tr>\n",
       "      <th>2118.75</th>\n",
       "      <td>12.435000</td>\n",
       "      <td>109.432205</td>\n",
       "      <td>2118.744629</td>\n",
       "      <td>62.438549</td>\n",
       "      <td>Silt</td>\n",
       "      <td>1.321802</td>\n",
       "      <td>2.305019</td>\n",
       "      <td>1.439</td>\n",
       "      <td>train</td>\n",
       "      <td>1983-03-14T00:00:00</td>\n",
       "      <td>1983.0</td>\n",
       "      <td>25.0</td>\n",
       "      <td>4662.0</td>\n",
       "      <td>2.537631</td>\n",
       "      <td>60.044053</td>\n",
       "      <td>30_11-3</td>\n",
       "      <td>2118.75</td>\n",
       "    </tr>\n",
       "    <tr>\n",
       "      <th>2118.90</th>\n",
       "      <td>12.584001</td>\n",
       "      <td>102.456642</td>\n",
       "      <td>2118.896973</td>\n",
       "      <td>61.501503</td>\n",
       "      <td>Silt</td>\n",
       "      <td>1.478748</td>\n",
       "      <td>2.317000</td>\n",
       "      <td>1.439</td>\n",
       "      <td>train</td>\n",
       "      <td>1983-03-14T00:00:00</td>\n",
       "      <td>1983.0</td>\n",
       "      <td>25.0</td>\n",
       "      <td>4662.0</td>\n",
       "      <td>2.537631</td>\n",
       "      <td>60.044053</td>\n",
       "      <td>30_11-3</td>\n",
       "      <td>2118.90</td>\n",
       "    </tr>\n",
       "    <tr>\n",
       "      <th>2119.05</th>\n",
       "      <td>12.606000</td>\n",
       "      <td>95.108009</td>\n",
       "      <td>2119.049561</td>\n",
       "      <td>61.000000</td>\n",
       "      <td>Silt</td>\n",
       "      <td>1.553000</td>\n",
       "      <td>2.327976</td>\n",
       "      <td>1.534</td>\n",
       "      <td>train</td>\n",
       "      <td>1983-03-14T00:00:00</td>\n",
       "      <td>1983.0</td>\n",
       "      <td>25.0</td>\n",
       "      <td>4662.0</td>\n",
       "      <td>2.537631</td>\n",
       "      <td>60.044053</td>\n",
       "      <td>30_11-3</td>\n",
       "      <td>2119.05</td>\n",
       "    </tr>\n",
       "    <tr>\n",
       "      <th>2119.20</th>\n",
       "      <td>12.391000</td>\n",
       "      <td>99.642990</td>\n",
       "      <td>2119.201904</td>\n",
       "      <td>61.905998</td>\n",
       "      <td>Silt</td>\n",
       "      <td>1.512000</td>\n",
       "      <td>2.312981</td>\n",
       "      <td>1.777</td>\n",
       "      <td>train</td>\n",
       "      <td>1983-03-14T00:00:00</td>\n",
       "      <td>1983.0</td>\n",
       "      <td>25.0</td>\n",
       "      <td>4662.0</td>\n",
       "      <td>2.537631</td>\n",
       "      <td>60.044053</td>\n",
       "      <td>30_11-3</td>\n",
       "      <td>2119.20</td>\n",
       "    </tr>\n",
       "    <tr>\n",
       "      <th>...</th>\n",
       "      <th>...</th>\n",
       "      <td>...</td>\n",
       "      <td>...</td>\n",
       "      <td>...</td>\n",
       "      <td>...</td>\n",
       "      <td>...</td>\n",
       "      <td>...</td>\n",
       "      <td>...</td>\n",
       "      <td>...</td>\n",
       "      <td>...</td>\n",
       "      <td>...</td>\n",
       "      <td>...</td>\n",
       "      <td>...</td>\n",
       "      <td>...</td>\n",
       "      <td>...</td>\n",
       "      <td>...</td>\n",
       "      <td>...</td>\n",
       "      <td>...</td>\n",
       "    </tr>\n",
       "    <tr>\n",
       "      <th rowspan=\"5\" valign=\"top\">30_7-7</th>\n",
       "      <th>5022.15</th>\n",
       "      <td>5.961000</td>\n",
       "      <td>81.231377</td>\n",
       "      <td>5022.173828</td>\n",
       "      <td>59.574780</td>\n",
       "      <td>Silt</td>\n",
       "      <td>2.438013</td>\n",
       "      <td>2.455000</td>\n",
       "      <td>2.889</td>\n",
       "      <td>train</td>\n",
       "      <td>1979-01-07T00:00:00</td>\n",
       "      <td>1979.0</td>\n",
       "      <td>25.0</td>\n",
       "      <td>5127.0</td>\n",
       "      <td>2.268694</td>\n",
       "      <td>60.272028</td>\n",
       "      <td>30_7-7</td>\n",
       "      <td>5022.15</td>\n",
       "    </tr>\n",
       "    <tr>\n",
       "      <th>5022.30</th>\n",
       "      <td>5.941000</td>\n",
       "      <td>81.126503</td>\n",
       "      <td>5022.326660</td>\n",
       "      <td>60.271767</td>\n",
       "      <td>Silt</td>\n",
       "      <td>2.438000</td>\n",
       "      <td>2.463000</td>\n",
       "      <td>2.818</td>\n",
       "      <td>train</td>\n",
       "      <td>1979-01-07T00:00:00</td>\n",
       "      <td>1979.0</td>\n",
       "      <td>25.0</td>\n",
       "      <td>5127.0</td>\n",
       "      <td>2.268694</td>\n",
       "      <td>60.272028</td>\n",
       "      <td>30_7-7</td>\n",
       "      <td>5022.30</td>\n",
       "    </tr>\n",
       "    <tr>\n",
       "      <th>5022.45</th>\n",
       "      <td>5.887000</td>\n",
       "      <td>80.289490</td>\n",
       "      <td>5022.479004</td>\n",
       "      <td>59.796532</td>\n",
       "      <td>Silt</td>\n",
       "      <td>2.461923</td>\n",
       "      <td>2.455000</td>\n",
       "      <td>2.796</td>\n",
       "      <td>train</td>\n",
       "      <td>1979-01-07T00:00:00</td>\n",
       "      <td>1979.0</td>\n",
       "      <td>25.0</td>\n",
       "      <td>5127.0</td>\n",
       "      <td>2.268694</td>\n",
       "      <td>60.272028</td>\n",
       "      <td>30_7-7</td>\n",
       "      <td>5022.45</td>\n",
       "    </tr>\n",
       "    <tr>\n",
       "      <th>5022.60</th>\n",
       "      <td>5.902000</td>\n",
       "      <td>78.824585</td>\n",
       "      <td>5022.631348</td>\n",
       "      <td>55.645344</td>\n",
       "      <td>Silt</td>\n",
       "      <td>2.503865</td>\n",
       "      <td>2.465000</td>\n",
       "      <td>2.774</td>\n",
       "      <td>train</td>\n",
       "      <td>1979-01-07T00:00:00</td>\n",
       "      <td>1979.0</td>\n",
       "      <td>25.0</td>\n",
       "      <td>5127.0</td>\n",
       "      <td>2.268694</td>\n",
       "      <td>60.272028</td>\n",
       "      <td>30_7-7</td>\n",
       "      <td>5022.60</td>\n",
       "    </tr>\n",
       "    <tr>\n",
       "      <th>5022.75</th>\n",
       "      <td>5.902000</td>\n",
       "      <td>78.824585</td>\n",
       "      <td>5022.631348</td>\n",
       "      <td>55.645344</td>\n",
       "      <td>Silt</td>\n",
       "      <td>2.503865</td>\n",
       "      <td>2.465000</td>\n",
       "      <td>2.774</td>\n",
       "      <td>train</td>\n",
       "      <td>1979-01-07T00:00:00</td>\n",
       "      <td>1979.0</td>\n",
       "      <td>25.0</td>\n",
       "      <td>5127.0</td>\n",
       "      <td>2.268694</td>\n",
       "      <td>60.272028</td>\n",
       "      <td>30_7-7</td>\n",
       "      <td>5022.75</td>\n",
       "    </tr>\n",
       "  </tbody>\n",
       "</table>\n",
       "<p>165944 rows × 17 columns</p>\n",
       "</div>"
      ],
      "text/plain": [
       "                      CALI         DTC        Depth         GR  \\\n",
       "Well    DEPT                                                     \n",
       "30_11-3 2118.60  12.435000  109.432205  2118.744629  62.438549   \n",
       "        2118.75  12.435000  109.432205  2118.744629  62.438549   \n",
       "        2118.90  12.584001  102.456642  2118.896973  61.501503   \n",
       "        2119.05  12.606000   95.108009  2119.049561  61.000000   \n",
       "        2119.20  12.391000   99.642990  2119.201904  61.905998   \n",
       "...                    ...         ...          ...        ...   \n",
       "30_7-7  5022.15   5.961000   81.231377  5022.173828  59.574780   \n",
       "        5022.30   5.941000   81.126503  5022.326660  60.271767   \n",
       "        5022.45   5.887000   80.289490  5022.479004  59.796532   \n",
       "        5022.60   5.902000   78.824585  5022.631348  55.645344   \n",
       "        5022.75   5.902000   78.824585  5022.631348  55.645344   \n",
       "\n",
       "                LITHOLOGY_GEOLINK      RDEP      RHOB   RMED  split  \\\n",
       "Well    DEPT                                                          \n",
       "30_11-3 2118.60              Silt  1.321802  2.305019  1.439  train   \n",
       "        2118.75              Silt  1.321802  2.305019  1.439  train   \n",
       "        2118.90              Silt  1.478748  2.317000  1.439  train   \n",
       "        2119.05              Silt  1.553000  2.327976  1.534  train   \n",
       "        2119.20              Silt  1.512000  2.312981  1.777  train   \n",
       "...                           ...       ...       ...    ...    ...   \n",
       "30_7-7  5022.15              Silt  2.438013  2.455000  2.889  train   \n",
       "        5022.30              Silt  2.438000  2.463000  2.818  train   \n",
       "        5022.45              Silt  2.461923  2.455000  2.796  train   \n",
       "        5022.60              Silt  2.503865  2.465000  2.774  train   \n",
       "        5022.75              Silt  2.503865  2.465000  2.774  train   \n",
       "\n",
       "                   wlbCompletionDate  wlbCompletionYear  \\\n",
       "Well    DEPT                                              \n",
       "30_11-3 2118.60  1983-03-14T00:00:00             1983.0   \n",
       "        2118.75  1983-03-14T00:00:00             1983.0   \n",
       "        2118.90  1983-03-14T00:00:00             1983.0   \n",
       "        2119.05  1983-03-14T00:00:00             1983.0   \n",
       "        2119.20  1983-03-14T00:00:00             1983.0   \n",
       "...                              ...                ...   \n",
       "30_7-7  5022.15  1979-01-07T00:00:00             1979.0   \n",
       "        5022.30  1979-01-07T00:00:00             1979.0   \n",
       "        5022.45  1979-01-07T00:00:00             1979.0   \n",
       "        5022.60  1979-01-07T00:00:00             1979.0   \n",
       "        5022.75  1979-01-07T00:00:00             1979.0   \n",
       "\n",
       "                 wlbKellyBushElevation  wlbTotalDepth        xc         yc  \\\n",
       "Well    DEPT                                                                 \n",
       "30_11-3 2118.60                   25.0         4662.0  2.537631  60.044053   \n",
       "        2118.75                   25.0         4662.0  2.537631  60.044053   \n",
       "        2118.90                   25.0         4662.0  2.537631  60.044053   \n",
       "        2119.05                   25.0         4662.0  2.537631  60.044053   \n",
       "        2119.20                   25.0         4662.0  2.537631  60.044053   \n",
       "...                                ...            ...       ...        ...   \n",
       "30_7-7  5022.15                   25.0         5127.0  2.268694  60.272028   \n",
       "        5022.30                   25.0         5127.0  2.268694  60.272028   \n",
       "        5022.45                   25.0         5127.0  2.268694  60.272028   \n",
       "        5022.60                   25.0         5127.0  2.268694  60.272028   \n",
       "        5022.75                   25.0         5127.0  2.268694  60.272028   \n",
       "\n",
       "                    Well     DEPT  \n",
       "Well    DEPT                       \n",
       "30_11-3 2118.60  30_11-3  2118.60  \n",
       "        2118.75  30_11-3  2118.75  \n",
       "        2118.90  30_11-3  2118.90  \n",
       "        2119.05  30_11-3  2119.05  \n",
       "        2119.20  30_11-3  2119.20  \n",
       "...                  ...      ...  \n",
       "30_7-7  5022.15   30_7-7  5022.15  \n",
       "        5022.30   30_7-7  5022.30  \n",
       "        5022.45   30_7-7  5022.45  \n",
       "        5022.60   30_7-7  5022.60  \n",
       "        5022.75   30_7-7  5022.75  \n",
       "\n",
       "[165944 rows x 17 columns]"
      ]
     },
     "execution_count": 7,
     "metadata": {},
     "output_type": "execute_result"
    }
   ],
   "source": [
    "\n",
    "\n",
    "import pandas as pd\n",
    "import xarray as xr\n",
    "xf = xr.open_zarr(\"../../data/processed/geolink_norge_dataset/geolink_norge_well_logs.zarr\")\n",
    "\n",
    "# We will use just the 30* wells\n",
    "xf = xf.where(xf['Well'].str.startswith('30')).dropna(dim='Well', how='all')\n",
    "\n",
    "df = xf.to_dataframe().swaplevel()\n",
    "df['LITHOLOGY_GEOLINK'] = df['LITHOLOGY_GEOLINK'].astype('category')\n",
    "df['Well'] = df.index.get_level_values(0).astype('category')\n",
    "df['DEPT'] = df.index.get_level_values(1)\n",
    "\n",
    "# Keep these cols\n",
    "feature_cols = ['CALI', 'DTC', 'GR', 'RDEP', 'RHOB',\n",
    "       'RMED', 'xc', 'yc', 'DEPT']\n",
    "df = df.dropna(how='any', subset=feature_cols+['LITHOLOGY_GEOLINK'])\n",
    "df = df.sort_index()\n",
    "df"
   ]
  },
  {
   "cell_type": "code",
   "execution_count": null,
   "metadata": {
    "ExecuteTime": {
     "end_time": "2020-09-27T01:33:08.708474Z",
     "start_time": "2020-09-27T01:33:08.703347Z"
    }
   },
   "outputs": [],
   "source": []
  },
  {
   "cell_type": "markdown",
   "metadata": {
    "ExecuteTime": {
     "end_time": "2020-09-21T12:29:04.975385Z",
     "start_time": "2020-09-21T12:29:04.783670Z"
    }
   },
   "source": [
    "\n",
    "  <div class=\"alert alert-success\">\n",
    "  <h2>Exercise</h2>\n",
    "\n",
    "  Discussion: Are there better ways we should set this up?\n",
    "    \n",
    "  What are the benefits?\n",
    "    \n",
    "  What information are we missing?\n",
    "      \n",
    "\n",
    "  <details>\n",
    "  <summary><b>→ Hints</b></summary>\n",
    "\n",
    "  There is no right answer except experimentation, but on creating this demo we found:\n",
    "      \n",
    "  * Generalising to a new well is hard, and it's important to have a similar distribution in test and train. So we took the top of some wells, and the bottom of others as training. \n",
    "  * Seeing the previous labels is important, as this encodes how the particular geologist interprets facies in this well. Which can often have some subjectivity\n",
    "  * Long context help a lot, but also slow it down. We're using the last 200 meters, but seeing the whole well helps\n",
    "  * Using all wells, instead of just the 30* wells will help it learn to generalise\n",
    "  * Using all logs may help\n",
    "  * We could do infilling instead\n",
    "  * We could make it bi-directional\n",
    "  * We could make it a sequence to sequence model, instead of sequence to 1\n",
    "  * Transformer may do better\n",
    "  * We could normalise the logs per window or well\n",
    "  * Many more\n",
    "\n",
    "  </details>\n",
    "\n",
    "  </div>"
   ]
  },
  {
   "cell_type": "markdown",
   "metadata": {
    "ExecuteTime": {
     "end_time": "2020-09-27T01:33:08.700926Z",
     "start_time": "2020-09-27T01:33:08.695492Z"
    }
   },
   "source": [
    "## Data processing"
   ]
  },
  {
   "cell_type": "code",
   "execution_count": 8,
   "metadata": {
    "ExecuteTime": {
     "end_time": "2020-10-05T02:06:48.731007Z",
     "start_time": "2020-10-05T02:06:48.719916Z"
    }
   },
   "outputs": [
    {
     "data": {
      "text/plain": [
       "30_4-1      23291\n",
       "30_7-7      18949\n",
       "30_2-1      15674\n",
       "30_11-3     13021\n",
       "30_6-11     12994\n",
       "30_3-2 R    11046\n",
       "30_6-8      10965\n",
       "30_6-5      10882\n",
       "30_3-3      10209\n",
       "30_3-4 R     8715\n",
       "30_6-23      8233\n",
       "30_6-14      7080\n",
       "30_4-2       7039\n",
       "30_3-5 S     4207\n",
       "30_6-22      3639\n",
       "Name: Well, dtype: int64"
      ]
     },
     "execution_count": 8,
     "metadata": {},
     "output_type": "execute_result"
    }
   ],
   "source": [
    "# We  will stick to a group of long wells 29, 30, 31, 35 are valid groups\n",
    "# df=df[df['Well'].str.startswith('30')]\n",
    "counts = df['Well'].value_counts()\n",
    "counts[counts>0]"
   ]
  },
  {
   "cell_type": "code",
   "execution_count": null,
   "metadata": {
    "ExecuteTime": {
     "end_time": "2020-09-19T05:06:21.803115Z",
     "start_time": "2020-09-19T05:06:21.799047Z"
    }
   },
   "outputs": [],
   "source": []
  },
  {
   "cell_type": "code",
   "execution_count": 9,
   "metadata": {
    "ExecuteTime": {
     "end_time": "2020-10-05T02:06:48.757712Z",
     "start_time": "2020-10-05T02:06:48.734562Z"
    }
   },
   "outputs": [
    {
     "name": "stdout",
     "output_type": "stream",
     "text": [
      "Shaly Silt                41607\n",
      "Marlstone                 40738\n",
      "Silt                      36834\n",
      "Argillaceous Limestone    12329\n",
      "Cross Bedded Sst          10106\n",
      "Silty Shale                7366\n",
      "Silty Sand                 5522\n",
      "Cinerite                   3721\n",
      "Limestone                  3708\n",
      "Sandstone                  1702\n",
      "Calcareous Cement          1381\n",
      "Coal                        930\n",
      "                              0\n",
      "Name: LITHOLOGY_GEOLINK, dtype: int64\n",
      "removed_labels CategoricalIndex([''], categories=['', 'Argillaceous Limestone', 'Calcareous Cement', 'Cinerite', 'Coal', 'Cross Bedded Sst', 'Limestone', 'Marlstone', ...], ordered=False, dtype='category')\n"
     ]
    },
    {
     "data": {
      "text/plain": [
       "Shaly Silt                41607\n",
       "Marlstone                 40738\n",
       "Silt                      36834\n",
       "Argillaceous Limestone    12329\n",
       "Cross Bedded Sst          10106\n",
       "Silty Shale                7366\n",
       "Silty Sand                 5522\n",
       "Cinerite                   3721\n",
       "Limestone                  3708\n",
       "Sandstone                  1702\n",
       "Calcareous Cement          1381\n",
       "Coal                        930\n",
       "rare                          0\n",
       "Name: LITHOLOGY_GEOLINK, dtype: int64"
      ]
     },
     "execution_count": 9,
     "metadata": {},
     "output_type": "execute_result"
    }
   ],
   "source": [
    "# Let take the top N lithologies, replacing the rest with \"rare\"\n",
    "# print(len(df))\n",
    "removed_labels = df[\"LITHOLOGY_GEOLINK\"].value_counts()[max_lithologies:].index\n",
    "print(df['LITHOLOGY_GEOLINK'].value_counts())\n",
    "print('removed_labels', removed_labels)\n",
    "l = df[\"LITHOLOGY_GEOLINK\"].values.remove_categories(removed_labels)\n",
    "df['LITHOLOGY_GEOLINK']  = l.add_categories('rare').fillna('rare')\n",
    "df['LITHOLOGY_GEOLINK'].value_counts()"
   ]
  },
  {
   "cell_type": "code",
   "execution_count": 10,
   "metadata": {
    "ExecuteTime": {
     "end_time": "2020-10-05T02:06:48.773500Z",
     "start_time": "2020-10-05T02:06:48.760340Z"
    }
   },
   "outputs": [
    {
     "data": {
      "text/plain": [
       "[], Categories (12, object): ['Argillaceous Limestone', 'Calcareous Cement', 'Cinerite', 'Coal', ..., 'Shaly Silt', 'Silt', 'Silty Sand', 'Silty Shale']"
      ]
     },
     "execution_count": 10,
     "metadata": {},
     "output_type": "execute_result"
    }
   ],
   "source": [
    "# Lets keep the top 12 lithologies, and rename the rest as \"rare\"  (if any)\n",
    "removed_labels = list(df[\"LITHOLOGY_GEOLINK\"].value_counts()[12:].keys())\n",
    "i = df[\"LITHOLOGY_GEOLINK\"].values.remove_categories(removed_labels)\n",
    "i[i.isna()]"
   ]
  },
  {
   "cell_type": "code",
   "execution_count": 11,
   "metadata": {
    "ExecuteTime": {
     "end_time": "2020-10-05T02:06:48.800028Z",
     "start_time": "2020-10-05T02:06:48.776039Z"
    }
   },
   "outputs": [
    {
     "data": {
      "text/plain": [
       "Index(['Coal', 'Calcareous Cement', 'Sandstone', 'Limestone', 'Cinerite',\n",
       "       'Silty Sand', 'Silty Shale', 'Cross Bedded Sst',\n",
       "       'Argillaceous Limestone', 'Silt', 'Marlstone', 'Shaly Silt'],\n",
       "      dtype='object')"
      ]
     },
     "execution_count": 11,
     "metadata": {},
     "output_type": "execute_result"
    }
   ],
   "source": [
    "# Remove unused categories, and order\n",
    "df['LITHOLOGY_GEOLINK'] = df['LITHOLOGY_GEOLINK'].values.remove_unused_categories()\n",
    "\n",
    "# sort categories (leads to nicer histograms)\n",
    "i = df['LITHOLOGY_GEOLINK'].values\n",
    "litho_sorted = i.value_counts().sort_values(ascending=True).index\n",
    "df['LITHOLOGY_GEOLINK'] = i.reorder_categories(list(litho_sorted), ordered=True)\n",
    "\n",
    "df['LITHOLOGY_GEOLINK'].values.categories"
   ]
  },
  {
   "cell_type": "code",
   "execution_count": 12,
   "metadata": {
    "ExecuteTime": {
     "end_time": "2020-10-05T02:06:49.123117Z",
     "start_time": "2020-10-05T02:06:48.802520Z"
    }
   },
   "outputs": [
    {
     "data": {
      "text/plain": [
       "Shaly Silt                41607\n",
       "Marlstone                 40738\n",
       "Silt                      36834\n",
       "Argillaceous Limestone    12329\n",
       "Cross Bedded Sst          10106\n",
       "Silty Shale                7366\n",
       "Silty Sand                 5522\n",
       "Cinerite                   3721\n",
       "Limestone                  3708\n",
       "Sandstone                  1702\n",
       "Calcareous Cement          1381\n",
       "Coal                        930\n",
       "Name: LITHOLOGY_GEOLINK, dtype: int64"
      ]
     },
     "execution_count": 12,
     "metadata": {},
     "output_type": "execute_result"
    },
    {
     "data": {
      "image/png": "[encoded data removed]",
      "text/plain": [
       "<Figure size 432x288 with 1 Axes>"
      ]
     },
     "metadata": {
      "needs_background": "light"
     },
     "output_type": "display_data"
    }
   ],
   "source": [
    "df['LITHOLOGY_GEOLINK'].value_counts().plot.bar()\n",
    "df['LITHOLOGY_GEOLINK'].value_counts()"
   ]
  },
  {
   "cell_type": "code",
   "execution_count": 13,
   "metadata": {
    "ExecuteTime": {
     "end_time": "2020-10-05T02:06:49.142922Z",
     "start_time": "2020-10-05T02:06:49.124803Z"
    }
   },
   "outputs": [
    {
     "data": {
      "text/html": [
       "<div>\n",
       "<style scoped>\n",
       "    .dataframe tbody tr th:only-of-type {\n",
       "        vertical-align: middle;\n",
       "    }\n",
       "\n",
       "    .dataframe tbody tr th {\n",
       "        vertical-align: top;\n",
       "    }\n",
       "\n",
       "    .dataframe thead th {\n",
       "        text-align: right;\n",
       "    }\n",
       "</style>\n",
       "<table border=\"1\" class=\"dataframe\">\n",
       "  <thead>\n",
       "    <tr style=\"text-align: right;\">\n",
       "      <th></th>\n",
       "      <th></th>\n",
       "      <th>Well_int</th>\n",
       "    </tr>\n",
       "    <tr>\n",
       "      <th>Well</th>\n",
       "      <th>DEPT</th>\n",
       "      <th></th>\n",
       "    </tr>\n",
       "  </thead>\n",
       "  <tbody>\n",
       "    <tr>\n",
       "      <th rowspan=\"5\" valign=\"top\">30_11-3</th>\n",
       "      <th>2118.60</th>\n",
       "      <td>0</td>\n",
       "    </tr>\n",
       "    <tr>\n",
       "      <th>2118.75</th>\n",
       "      <td>0</td>\n",
       "    </tr>\n",
       "    <tr>\n",
       "      <th>2118.90</th>\n",
       "      <td>0</td>\n",
       "    </tr>\n",
       "    <tr>\n",
       "      <th>2119.05</th>\n",
       "      <td>0</td>\n",
       "    </tr>\n",
       "    <tr>\n",
       "      <th>2119.20</th>\n",
       "      <td>0</td>\n",
       "    </tr>\n",
       "    <tr>\n",
       "      <th>...</th>\n",
       "      <th>...</th>\n",
       "      <td>...</td>\n",
       "    </tr>\n",
       "    <tr>\n",
       "      <th rowspan=\"5\" valign=\"top\">30_7-7</th>\n",
       "      <th>5022.15</th>\n",
       "      <td>14</td>\n",
       "    </tr>\n",
       "    <tr>\n",
       "      <th>5022.30</th>\n",
       "      <td>14</td>\n",
       "    </tr>\n",
       "    <tr>\n",
       "      <th>5022.45</th>\n",
       "      <td>14</td>\n",
       "    </tr>\n",
       "    <tr>\n",
       "      <th>5022.60</th>\n",
       "      <td>14</td>\n",
       "    </tr>\n",
       "    <tr>\n",
       "      <th>5022.75</th>\n",
       "      <td>14</td>\n",
       "    </tr>\n",
       "  </tbody>\n",
       "</table>\n",
       "<p>165944 rows × 1 columns</p>\n",
       "</div>"
      ],
      "text/plain": [
       "                 Well_int\n",
       "Well    DEPT             \n",
       "30_11-3 2118.60         0\n",
       "        2118.75         0\n",
       "        2118.90         0\n",
       "        2119.05         0\n",
       "        2119.20         0\n",
       "...                   ...\n",
       "30_7-7  5022.15        14\n",
       "        5022.30        14\n",
       "        5022.45        14\n",
       "        5022.60        14\n",
       "        5022.75        14\n",
       "\n",
       "[165944 rows x 1 columns]"
      ]
     },
     "execution_count": 13,
     "metadata": {},
     "output_type": "execute_result"
    }
   ],
   "source": [
    "# Gvie each well an number, since the model needs numbers\n",
    "well_index = df['Well'].values\n",
    "well_int = well_index.rename_categories(range(len(well_index.categories))).astype(int)\n",
    "df['Well_int']= well_int\n",
    "df[['Well_int']]"
   ]
  },
  {
   "cell_type": "code",
   "execution_count": 14,
   "metadata": {
    "ExecuteTime": {
     "end_time": "2020-10-05T02:06:49.165404Z",
     "start_time": "2020-10-05T02:06:49.144612Z"
    }
   },
   "outputs": [],
   "source": [
    "# Select the N longest well logs\n",
    "wells = sorted(df['Well'].unique())\n",
    "n_wells = min(len(wells), max_wells)\n",
    "selected_wells = wells[:n_wells]\n",
    "df = df.loc[selected_wells]\n",
    "# df"
   ]
  },
  {
   "cell_type": "code",
   "execution_count": 15,
   "metadata": {
    "ExecuteTime": {
     "end_time": "2020-10-05T02:06:49.425519Z",
     "start_time": "2020-10-05T02:06:49.167220Z"
    }
   },
   "outputs": [
    {
     "data": {
      "text/plain": [
       "1"
      ]
     },
     "execution_count": 15,
     "metadata": {},
     "output_type": "execute_result"
    },
    {
     "data": {
      "image/png": "[encoded data removed]",
      "text/plain": [
       "<Figure size 432x288 with 1 Axes>"
      ]
     },
     "metadata": {
      "needs_background": "light"
     },
     "output_type": "display_data"
    }
   ],
   "source": [
    "# Get a list of wells, ordered by frequency\n",
    "well_counts = df['Well'].value_counts()\n",
    "well_counts = well_counts[well_counts>0]\n",
    "wells = list(well_counts.index)\n",
    "well_counts.plot.bar()\n",
    "1\n",
    "# well_counts"
   ]
  },
  {
   "cell_type": "code",
   "execution_count": 16,
   "metadata": {
    "ExecuteTime": {
     "end_time": "2020-10-05T02:06:49.452860Z",
     "start_time": "2020-10-05T02:06:49.427269Z"
    }
   },
   "outputs": [
    {
     "data": {
      "text/html": [
       "<div>\n",
       "<style scoped>\n",
       "    .dataframe tbody tr th:only-of-type {\n",
       "        vertical-align: middle;\n",
       "    }\n",
       "\n",
       "    .dataframe tbody tr th {\n",
       "        vertical-align: top;\n",
       "    }\n",
       "\n",
       "    .dataframe thead th {\n",
       "        text-align: right;\n",
       "    }\n",
       "</style>\n",
       "<table border=\"1\" class=\"dataframe\">\n",
       "  <thead>\n",
       "    <tr style=\"text-align: right;\">\n",
       "      <th></th>\n",
       "      <th></th>\n",
       "      <th>LITHOLOGY_GEOLINK</th>\n",
       "      <th>LITH_ABV</th>\n",
       "    </tr>\n",
       "    <tr>\n",
       "      <th>Well</th>\n",
       "      <th>DEPT</th>\n",
       "      <th></th>\n",
       "      <th></th>\n",
       "    </tr>\n",
       "  </thead>\n",
       "  <tbody>\n",
       "    <tr>\n",
       "      <th rowspan=\"5\" valign=\"top\">30_11-3</th>\n",
       "      <th>2118.60</th>\n",
       "      <td>Silt</td>\n",
       "      <td>Shaly Silt</td>\n",
       "    </tr>\n",
       "    <tr>\n",
       "      <th>2118.75</th>\n",
       "      <td>Silt</td>\n",
       "      <td>Shaly Silt</td>\n",
       "    </tr>\n",
       "    <tr>\n",
       "      <th>2118.90</th>\n",
       "      <td>Silt</td>\n",
       "      <td>Shaly Silt</td>\n",
       "    </tr>\n",
       "    <tr>\n",
       "      <th>2119.05</th>\n",
       "      <td>Silt</td>\n",
       "      <td>Shaly Silt</td>\n",
       "    </tr>\n",
       "    <tr>\n",
       "      <th>2119.20</th>\n",
       "      <td>Silt</td>\n",
       "      <td>Shaly Silt</td>\n",
       "    </tr>\n",
       "    <tr>\n",
       "      <th>...</th>\n",
       "      <th>...</th>\n",
       "      <td>...</td>\n",
       "      <td>...</td>\n",
       "    </tr>\n",
       "    <tr>\n",
       "      <th rowspan=\"5\" valign=\"top\">30_7-7</th>\n",
       "      <th>5022.15</th>\n",
       "      <td>Silt</td>\n",
       "      <td>Silt</td>\n",
       "    </tr>\n",
       "    <tr>\n",
       "      <th>5022.30</th>\n",
       "      <td>Silt</td>\n",
       "      <td>Silt</td>\n",
       "    </tr>\n",
       "    <tr>\n",
       "      <th>5022.45</th>\n",
       "      <td>Silt</td>\n",
       "      <td>Silt</td>\n",
       "    </tr>\n",
       "    <tr>\n",
       "      <th>5022.60</th>\n",
       "      <td>Silt</td>\n",
       "      <td>Cross Bedded Sst</td>\n",
       "    </tr>\n",
       "    <tr>\n",
       "      <th>5022.75</th>\n",
       "      <td>Silt</td>\n",
       "      <td>Cross Bedded Sst</td>\n",
       "    </tr>\n",
       "  </tbody>\n",
       "</table>\n",
       "<p>165944 rows × 2 columns</p>\n",
       "</div>"
      ],
      "text/plain": [
       "                LITHOLOGY_GEOLINK          LITH_ABV\n",
       "Well    DEPT                                       \n",
       "30_11-3 2118.60              Silt        Shaly Silt\n",
       "        2118.75              Silt        Shaly Silt\n",
       "        2118.90              Silt        Shaly Silt\n",
       "        2119.05              Silt        Shaly Silt\n",
       "        2119.20              Silt        Shaly Silt\n",
       "...                           ...               ...\n",
       "30_7-7  5022.15              Silt              Silt\n",
       "        5022.30              Silt              Silt\n",
       "        5022.45              Silt              Silt\n",
       "        5022.60              Silt  Cross Bedded Sst\n",
       "        5022.75              Silt  Cross Bedded Sst\n",
       "\n",
       "[165944 rows x 2 columns]"
      ]
     },
     "execution_count": 16,
     "metadata": {},
     "output_type": "execute_result"
    }
   ],
   "source": [
    "# We want to see the facies N intervals above\n",
    "df['LITH_ABV'] = df[\"LITHOLOGY_GEOLINK\"].shift(shift_length).fillna('Shaly Silt')\n",
    "df['LITH_ABV_INT'] = df['LITH_ABV'].values.codes\n",
    "df[['LITHOLOGY_GEOLINK', 'LITH_ABV']]"
   ]
  },
  {
   "cell_type": "markdown",
   "metadata": {
    "ExecuteTime": {
     "end_time": "2020-09-21T12:36:30.117841Z",
     "start_time": "2020-09-21T12:36:30.112925Z"
    }
   },
   "source": [
    "### Split data\n",
    "\n",
    "There are many ways to split the data, the best way would be to split by well, but this is too hard and leads to poor results.\n",
    "\n",
    "We could split randomly but this is too easy, since seeing the lithology at 1000 m gives you 90% of the answer at 1010 m.\n",
    "\n",
    "Lets split the wells by depth, this way the model gets some idea about each well, but can't peek ahead. We will take the top of the well as training for even numbered wells, and vice versa. There is a graph below showing the outcome.\n"
   ]
  },
  {
   "cell_type": "code",
   "execution_count": 17,
   "metadata": {
    "ExecuteTime": {
     "end_time": "2020-10-05T02:06:49.852983Z",
     "start_time": "2020-10-05T02:06:49.454454Z"
    },
    "scrolled": true
   },
   "outputs": [
    {
     "name": "stdout",
     "output_type": "stream",
     "text": [
      "train (83611, 21) test (82324, 21)\n",
      "Train 50%, test 50%\n"
     ]
    }
   ],
   "source": [
    "\n",
    "from functools import partial\n",
    "\n",
    "def get_depth_thresh(x, even_bottom=True):\n",
    "    \"\"\"\n",
    "    On even number well codes take the bottom of the well for trainin\n",
    "    \"\"\"\n",
    "    if len(x)==0: return x\n",
    "    \n",
    "    # if the well code is even take the top \n",
    "    code_is_even = (x['Well'].values.codes[0]%2)==0\n",
    "    if code_is_even:\n",
    "        even_bottom = not even_bottom\n",
    "    \n",
    "    d = x['DEPT']\n",
    "    thresh = np.round(d.mean())\n",
    "    x['thresh'] = thresh\n",
    "    if even_bottom:\n",
    "        return x[d>thresh]\n",
    "    else:\n",
    "        return x[d<thresh]\n",
    "\n",
    "\n",
    "df_test = df.groupby(level=0).apply(partial(get_depth_thresh, even_bottom=False))\n",
    "df_train = df.groupby(level=0).apply(partial(get_depth_thresh, even_bottom=True))\n",
    "print('train', df_train.shape, 'test', df_test.shape)\n",
    "print(f'Train {len(df_train)/len(df):.0%}, test {len(df_test)/len(df):.0%}')"
   ]
  },
  {
   "cell_type": "code",
   "execution_count": 18,
   "metadata": {
    "ExecuteTime": {
     "end_time": "2020-10-05T02:06:50.022175Z",
     "start_time": "2020-10-05T02:06:49.854464Z"
    }
   },
   "outputs": [
    {
     "name": "stdout",
     "output_type": "stream",
     "text": [
      "train (82972, 20) test (82972, 20)\n",
      "Train 50%, test 50%\n"
     ]
    }
   ],
   "source": [
    "train = []\n",
    "test = []\n",
    "for i, well in enumerate(selected_wells):\n",
    "    df_well = df.loc[well]\n",
    "    df_well.name = well\n",
    "    i_halfway = int(len(df_well)*0.5)\n",
    "    df_top = df_well.iloc[:i_halfway]\n",
    "    df_bottom = df_well.iloc[i_halfway:]\n",
    "    is_even = i%2==0\n",
    "    if is_even==0:\n",
    "        train.append(df_top)\n",
    "        test.append(df_bottom)\n",
    "    else:\n",
    "        train.append(df_bottom)\n",
    "        test.append(df_top)\n",
    "        \n",
    "df_test = pd.concat(test).set_index(['Well', 'DEPT'], drop=False)\n",
    "df_train = pd.concat(train).set_index(['Well', 'DEPT'], drop=False)\n",
    "print('train', df_train.shape, 'test', df_test.shape)\n",
    "print(f'Train {len(df_train)/len(df):.0%}, test {len(df_test)/len(df):.0%}')"
   ]
  },
  {
   "cell_type": "code",
   "execution_count": 19,
   "metadata": {
    "ExecuteTime": {
     "end_time": "2020-10-05T02:06:50.481162Z",
     "start_time": "2020-10-05T02:06:50.023866Z"
    }
   },
   "outputs": [
    {
     "data": {
      "image/png": "[encoded data removed]",
      "text/plain": [
       "<Figure size 432x288 with 1 Axes>"
      ]
     },
     "metadata": {
      "needs_background": "light"
     },
     "output_type": "display_data"
    }
   ],
   "source": [
    "# Plot the data split\n",
    "well_split = []\n",
    "for i, well in enumerate(selected_wells):\n",
    "    df_well = df.loc[well]\n",
    "    i_halfway = int(len(df_well)*0.5)\n",
    "    is_even = i%2==0\n",
    "    well_split.append(dict(\n",
    "        well=well,\n",
    "        top=df_well.Depth.min(),\n",
    "        half=df_well.Depth.iloc[i_halfway],\n",
    "        bottom=df_well.Depth.max(),\n",
    "        train_top=is_even,\n",
    "    ))\n",
    "    \n",
    "df_well_split = pd.DataFrame(well_split)\n",
    "\n",
    "well_top = df_well_split[df_well_split.train_top]\n",
    "well_bottom = df_well_split[~df_well_split.train_top]\n",
    "\n",
    "# Do the ones where train is at top\n",
    "plt.bar(\n",
    "    x=well_top.well,\n",
    "    height=well_top.bottom,\n",
    "    color=\"green\",\n",
    "    label=\"test\"\n",
    ")\n",
    "plt.bar(\n",
    "    x=well_top.well,\n",
    "    height=well_top.half,\n",
    "    color=\"blue\",\n",
    "    label=\"train\"\n",
    ")\n",
    "plt.bar(\n",
    "    x=well_top.well,\n",
    "    height=well_top.top,\n",
    "    color=\"white\",\n",
    ")\n",
    "\n",
    "\n",
    "# Others\n",
    "plt.bar(\n",
    "    x=well_bottom.well,\n",
    "    height=well_bottom.bottom,\n",
    "    color=\"blue\",\n",
    ")\n",
    "plt.bar(\n",
    "    x=well_bottom.well,\n",
    "    height=well_bottom.half,\n",
    "    color=\"green\",\n",
    ")\n",
    "plt.bar(\n",
    "    x=well_bottom.well,\n",
    "    height=well_bottom.top,\n",
    "    color=\"white\",\n",
    ")\n",
    "plt.gca().invert_yaxis()\n",
    "\n",
    "plt.legend()\n",
    "plt.title('data split')\n",
    "plt.xticks(rotation=90)\n",
    "plt.show()"
   ]
  },
  {
   "cell_type": "code",
   "execution_count": 20,
   "metadata": {
    "ExecuteTime": {
     "end_time": "2020-10-05T02:06:50.730199Z",
     "start_time": "2020-10-05T02:06:50.483123Z"
    }
   },
   "outputs": [],
   "source": [
    "# Double check there is not overlap\n",
    "a=set(df_train.index)\n",
    "b=set(df_test.index)\n",
    "assert len(a.intersection(b))==0"
   ]
  },
  {
   "cell_type": "markdown",
   "metadata": {},
   "source": []
  },
  {
   "cell_type": "markdown",
   "metadata": {
    "ExecuteTime": {
     "end_time": "2020-09-19T01:52:24.643324Z",
     "start_time": "2020-09-19T01:52:24.637474Z"
    }
   },
   "source": [
    "### Scale"
   ]
  },
  {
   "cell_type": "markdown",
   "metadata": {},
   "source": [
    "We need to process the input and target data. The input data needs to be normalised with a standard scaler, and the output data needs to be converted from text to numbers. To convert text to numbers we use `LabelEncoder` from Scikit Learn."
   ]
  },
  {
   "cell_type": "code",
   "execution_count": 21,
   "metadata": {
    "ExecuteTime": {
     "end_time": "2020-10-05T02:06:51.127406Z",
     "start_time": "2020-10-05T02:06:50.732050Z"
    },
    "scrolled": true
   },
   "outputs": [
    {
     "name": "stdout",
     "output_type": "stream",
     "text": [
      "Index(['Coal', 'Calcareous Cement', 'Sandstone', 'Limestone', 'Cinerite',\n",
      "       'Silty Sand', 'Silty Shale', 'Cross Bedded Sst',\n",
      "       'Argillaceous Limestone', 'Silt', 'Marlstone', 'Shaly Silt'],\n",
      "      dtype='object')\n"
     ]
    },
    {
     "data": {
      "text/plain": [
       "StandardScaler()"
      ]
     },
     "execution_count": 21,
     "metadata": {},
     "output_type": "execute_result"
    }
   ],
   "source": [
    "from sklearn.preprocessing import StandardScaler, LabelEncoder\n",
    "\n",
    "scaler = StandardScaler()\n",
    "\n",
    "# Make a encoder, that order by frequency\n",
    "encoder = LabelEncoder()\n",
    "\n",
    "# Instead of fitting, use the same codes as the pandas.Category\n",
    "encoder.classes_ = df[\"LITHOLOGY_GEOLINK\"].values.categories\n",
    "print(encoder.classes_)\n",
    "feat_cols = feature_cols = ['CALI', 'DTC', 'GR', 'RDEP', 'RHOB', 'RMED', 'xc', 'yc', 'DEPT', \"LITH_ABV_INT\"]\n",
    "scaler.fit(df[feat_cols].values)"
   ]
  },
  {
   "cell_type": "markdown",
   "metadata": {},
   "source": [
    "`LabelEncoder` converts each type to a value."
   ]
  },
  {
   "cell_type": "code",
   "execution_count": 22,
   "metadata": {
    "ExecuteTime": {
     "end_time": "2020-10-05T02:06:51.133294Z",
     "start_time": "2020-10-05T02:06:51.129049Z"
    }
   },
   "outputs": [
    {
     "data": {
      "text/plain": [
       "array([5])"
      ]
     },
     "execution_count": 22,
     "metadata": {},
     "output_type": "execute_result"
    }
   ],
   "source": [
    "encoder.transform([\"Shaly Silt\"])"
   ]
  },
  {
   "cell_type": "markdown",
   "metadata": {
    "ExecuteTime": {
     "end_time": "2020-09-21T13:15:40.525819Z",
     "start_time": "2020-09-21T13:15:40.521470Z"
    }
   },
   "source": [
    "### To pytorch sequences"
   ]
  },
  {
   "cell_type": "markdown",
   "metadata": {
    "ExecuteTime": {
     "end_time": "2020-10-05T00:18:44.902602Z",
     "start_time": "2020-10-05T00:18:44.895402Z"
    }
   },
   "source": [
    "We will be using depth and other measurements to determine the lithology. We dealt with the same problem in the tablular data. But in tabular data we only look at the measurements at each depth to find the class, while here we can look at the variations in the measurements as well."
   ]
  },
  {
   "cell_type": "code",
   "execution_count": 23,
   "metadata": {
    "ExecuteTime": {
     "end_time": "2020-10-05T02:06:51.144360Z",
     "start_time": "2020-10-05T02:06:51.137896Z"
    }
   },
   "outputs": [],
   "source": [
    "\n",
    "def get_sequences(df, seq_length = 10):\n",
    "    \"\"\"Take moving sequences of a dataframe\"\"\"\n",
    "    \n",
    "\n",
    "    x = []\n",
    "    y = []\n",
    "    features = scaler.transform(df.loc[:, feat_cols].values)\n",
    "    targets = encoder.transform(df.loc[:, \"LITHOLOGY_GEOLINK\"])\n",
    "\n",
    "    # Add prev labels, as one hot, to inputs\n",
    "    one_hot_targets = np.eye(len(encoder.classes_))[targets]\n",
    "    prev_one_host_targets = np.roll(one_hot_targets, shift=shift_length)\n",
    "    features = np.concatenate([features, prev_one_host_targets], 1)\n",
    "\n",
    "    for i in range(len(targets) - seq_length):\n",
    "        xi = features[i : i + seq_length, :]\n",
    "        yi = targets[i + seq_length - 1]\n",
    "        x.append(xi)\n",
    "        y.append(yi)\n",
    "    return x, y"
   ]
  },
  {
   "cell_type": "code",
   "execution_count": 24,
   "metadata": {
    "ExecuteTime": {
     "end_time": "2020-10-05T02:06:51.154369Z",
     "start_time": "2020-10-05T02:06:51.146639Z"
    }
   },
   "outputs": [],
   "source": [
    "def to_numpy(x):\n",
    "    if isinstance(x, torch.Tensor):\n",
    "        x = x.cpu().detach().numpy()\n",
    "    return x"
   ]
  },
  {
   "cell_type": "code",
   "execution_count": 25,
   "metadata": {
    "ExecuteTime": {
     "end_time": "2020-10-05T02:06:51.435006Z",
     "start_time": "2020-10-05T02:06:51.156114Z"
    }
   },
   "outputs": [
    {
     "name": "stdout",
     "output_type": "stream",
     "text": [
      "(400, 22) ()\n"
     ]
    },
    {
     "data": {
      "text/plain": [
       "(array([[-0.02499888,  0.42871696, -0.07652671, ...,  0.        ,\n",
       "          0.        ,  0.        ],\n",
       "        [-0.02499888,  0.42871696, -0.07652671, ...,  0.        ,\n",
       "          0.        ,  0.        ],\n",
       "        [ 0.01682694,  0.07395274, -0.10962604, ...,  0.        ,\n",
       "          0.        ,  0.        ],\n",
       "        ...,\n",
       "        [ 0.02945864, -1.00597892, -0.42426624, ...,  0.        ,\n",
       "          0.        ,  0.        ],\n",
       "        [ 0.02216017, -1.31547127, -0.42426624, ...,  0.        ,\n",
       "          0.        ,  0.        ],\n",
       "        [ 0.01542336, -2.31119823, -0.47057116, ...,  0.        ,\n",
       "          0.        ,  0.        ]]),\n",
       " 4)"
      ]
     },
     "execution_count": 25,
     "metadata": {},
     "output_type": "execute_result"
    }
   ],
   "source": [
    "x_train, y_train = get_sequences(df_train, seq_length=seq_length)\n",
    "x_test, y_test = get_sequences(df_test, seq_length=seq_length)\n",
    "\n",
    "# What's the shape or one row of data? \n",
    "print(x_test[0].shape, y_test[0].shape)\n",
    "x_test[0], y_test[0]"
   ]
  },
  {
   "cell_type": "markdown",
   "metadata": {},
   "source": [
    "The output of a classification model is a value for each type. The type with the highest value is the one the model thinks is most likely to be associated with the input data. Therefore, the output size of the model should be the number of types."
   ]
  },
  {
   "cell_type": "code",
   "execution_count": 26,
   "metadata": {
    "ExecuteTime": {
     "end_time": "2020-10-05T02:06:51.441094Z",
     "start_time": "2020-10-05T02:06:51.436785Z"
    }
   },
   "outputs": [],
   "source": [
    "output_size = len(df[\"LITHOLOGY_GEOLINK\"].unique())"
   ]
  },
  {
   "cell_type": "markdown",
   "metadata": {},
   "source": [
    "### Distribution"
   ]
  },
  {
   "cell_type": "markdown",
   "metadata": {},
   "source": [
    "It is important that we make sure the training and test set have close distribution. For instance, if there is a certain type in test data that doesn't exist in training data, the model will not be able to predict it."
   ]
  },
  {
   "cell_type": "code",
   "execution_count": 27,
   "metadata": {
    "ExecuteTime": {
     "end_time": "2020-10-05T02:06:52.981571Z",
     "start_time": "2020-10-05T02:06:51.442710Z"
    }
   },
   "outputs": [
    {
     "data": {
      "image/png": "[encoded data removed]",
      "text/plain": [
       "<Figure size 432x288 with 1 Axes>"
      ]
     },
     "metadata": {
      "needs_background": "light"
     },
     "output_type": "display_data"
    }
   ],
   "source": [
    "def show_distribution(y, label):\n",
    "    y = to_numpy(y)\n",
    "    plt.hist(y, output_size * 2, alpha=0.5, label=label)\n",
    "    plt.xticks(ticks=range(len(encoder.classes_)), labels=encoder.classes_, rotation=90)\n",
    "\n",
    "show_distribution(y_train, 'train')\n",
    "show_distribution(y_test, 'test')\n",
    "plt.legend()\n",
    "plt.show()"
   ]
  },
  {
   "cell_type": "markdown",
   "metadata": {},
   "source": [
    "## Baseline accuracy\n",
    "\n",
    "When you experiment with a machine learning problem it's important to use a baseline, to check if the model is actually doing any work. Sometimes you can use humans, or a prior work, but in novel problems we look at a naive answer, then aim to do better.\n",
    "\n",
    "Below we investigate several methods of naive estimation and try to beat the best.\n",
    "\n",
    "[more](https://scikit-learn.org/stable/modules/generated/sklearn.dummy.DummyClassifier.html)"
   ]
  },
  {
   "cell_type": "code",
   "execution_count": 28,
   "metadata": {
    "ExecuteTime": {
     "end_time": "2020-10-05T02:06:53.116159Z",
     "start_time": "2020-10-05T02:06:52.983230Z"
    }
   },
   "outputs": [
    {
     "name": "stdout",
     "output_type": "stream",
     "text": [
      "baseline accuracy=21.15% for most_frequent\n",
      "baseline accuracy=8.26% for uniform\n"
     ]
    }
   ],
   "source": [
    "from sklearn.dummy import DummyClassifier\n",
    "from sklearn.metrics import accuracy_score, f1_score\n",
    "score_fn=accuracy_score\n",
    "\n",
    "true = np.array(y_test)\n",
    "for strategy in [\"most_frequent\", \"uniform\"]:\n",
    "    dummy_clf = DummyClassifier(strategy=strategy)\n",
    "    dummy_clf.fit(x_train, y_train)\n",
    "    score = dummy_clf.score(x_test, y_test)\n",
    "    print(f\"baseline accuracy={score:2.2%} for {strategy}\")"
   ]
  },
  {
   "cell_type": "code",
   "execution_count": 29,
   "metadata": {
    "ExecuteTime": {
     "end_time": "2020-10-05T02:06:53.129920Z",
     "start_time": "2020-10-05T02:06:53.118229Z"
    }
   },
   "outputs": [
    {
     "name": "stdout",
     "output_type": "stream",
     "text": [
      "baseline accuracy 62.14% for prev 100 facies values or 15.0m above\n"
     ]
    }
   ],
   "source": [
    "# Prev litho Baseline, this is like a model that says \"the same as the last lithology\"\n",
    "pred_baseline = np.roll(true, shift=shift_length)\n",
    "score_prev_base=score_fn(true, pred_baseline)\n",
    "print(f'baseline accuracy {score_prev_base:2.2%} for prev {shift_length} facies values or {shift_length*0.15}m above')"
   ]
  },
  {
   "cell_type": "markdown",
   "metadata": {},
   "source": [
    "OK so which baseline do we use? The highest is the one we need to beat"
   ]
  },
  {
   "cell_type": "markdown",
   "metadata": {
    "ExecuteTime": {
     "end_time": "2020-09-21T14:59:48.884309Z",
     "start_time": "2020-09-21T14:59:48.546101Z"
    }
   },
   "source": [
    "## Train\n",
    "\n",
    "Note that this can be simplified with libraries like pytorch lightning or fast-ai, but they are not yet approved at many companies. So we do it manually, this also helps you see the details of the training loop."
   ]
  },
  {
   "cell_type": "code",
   "execution_count": 30,
   "metadata": {
    "ExecuteTime": {
     "end_time": "2020-10-05T02:06:53.139354Z",
     "start_time": "2020-10-05T02:06:53.132293Z"
    }
   },
   "outputs": [],
   "source": [
    "class NumpyDataset(torch.utils.data.Dataset):\n",
    "    \"\"\"Dataset wrapping arrays.\n",
    "    Each sample will be retrieved by indexing array along the first dimension.\n",
    "    Arguments:\n",
    "        *arrays (numpy.array): arrays that have the same size of the first dimension.\n",
    "    \"\"\"\n",
    "\n",
    "    def __init__(self, *arrays):\n",
    "        self.arrays = arrays\n",
    "\n",
    "    def __getitem__(self, index):\n",
    "        return tuple(array[index] for array in self.arrays)\n",
    "\n",
    "    def __len__(self):\n",
    "        return len(self.arrays[0])"
   ]
  },
  {
   "cell_type": "code",
   "execution_count": 31,
   "metadata": {
    "ExecuteTime": {
     "end_time": "2020-10-05T02:06:53.176927Z",
     "start_time": "2020-10-05T02:06:53.141680Z"
    }
   },
   "outputs": [],
   "source": [
    "def train_epoch(x_train, y_train, model, bs=128, max_epoch_iters=128*128):\n",
    "    model.train()\n",
    "\n",
    "    training_loss = []\n",
    "    training_accuracy = []\n",
    "\n",
    "    dset_train = NumpyDataset(x_train, y_train)\n",
    "    train_set_samplers=np.random.choice(list(range(len(dset_train))), max_epoch_iters)\n",
    "    load_train = torch.utils.data.dataloader.DataLoader(\n",
    "        dset_train, \n",
    "        batch_size=bs, pin_memory=True,# shuffle=True,\n",
    "        sampler=train_set_samplers\n",
    "    )\n",
    "\n",
    "    for x, y in tqdm(load_train, leave=False, desc='train'):\n",
    "        x = x.float().to(device)\n",
    "        y = y.long().to(device)\n",
    "\n",
    "        optimizer.zero_grad()\n",
    "        preds = model(x)\n",
    "        loss = loss_func(preds, y)\n",
    "        loss.backward()\n",
    "        optimizer.step()\n",
    "\n",
    "        training_loss.append(loss.item())\n",
    "        accuracy = score_fn(\n",
    "            to_numpy(y), to_numpy(preds).argmax(-1)\n",
    "        )\n",
    "        training_accuracy.append(accuracy)\n",
    "\n",
    "    return [np.mean(training_loss), np.mean(training_accuracy)]\n",
    "\n",
    "def test_epoch(x_test, y_test, model, bs=512, max_epoch_iters=128*128):\n",
    "    model.eval()\n",
    "    preds = []\n",
    "    true = []\n",
    "\n",
    "    test_loss = []\n",
    "\n",
    "    dset_test = NumpyDataset(x_test[:max_epoch_iters//4], y_test[:max_epoch_iters//4])\n",
    "    load_test = torch.utils.data.dataloader.DataLoader(dset_test, batch_size=bs, pin_memory=True)\n",
    "    for x, y in tqdm(load_test, leave=False, desc='test'):\n",
    "        x = x.float().to(device)\n",
    "        y = y.long().to(device)\n",
    "        \n",
    "        pred = model(x)\n",
    "        loss = loss_func(pred, y)\n",
    "\n",
    "        preds.append(to_numpy(pred))\n",
    "        true.append(to_numpy(y))\n",
    "        test_loss.append(loss.item())\n",
    "\n",
    "    preds = np.concatenate(preds, 0).argmax(axis=-1)\n",
    "    true = np.concatenate(true, 0)\n",
    "    test_accuracy = score_fn(true, preds)\n",
    "    return preds, true, np.mean(test_loss), test_accuracy\n",
    "\n",
    "def training_loop(x_train, y_train, x_test, y_test, mode, epochs=1, bs=128, max_epoch_iters=128*128):\n",
    "    all_losses = []\n",
    "    all_accuracys = []\n",
    "    try:\n",
    "        _, _, test_loss, test_acc = test_epoch(x_test, y_test, model, max_epoch_iters=max_epoch_iters)\n",
    "        print(\n",
    "                f\"Start: Test Loss = {test_loss:.2f}, accuracy = {test_acc:.3f}\"\n",
    "            )\n",
    "        for epoch in tqdm(range(epochs), desc='epochs'):\n",
    "            loss, acc = train_epoch(x_train, y_train, model, bs=bs, max_epoch_iters=max_epoch_iters)\n",
    "            print(f\"Epoch {epoch+1}/{epochs}: Training Loss = {loss:.2f}, accuracy = {acc:.3f}\")\n",
    "            \n",
    "            _, _, test_loss, test_acc = test_epoch(x_test, y_test, model, max_epoch_iters=max_epoch_iters)\n",
    "            print(\n",
    "                f\"Epoch {epoch+1}/{epochs}: Test Loss = {test_loss:.2f}, accuracy = {test_acc:.3f}\"\n",
    "            )\n",
    "            print(\"-\" * 50)\n",
    "        \n",
    "            all_losses.append([loss, test_loss])\n",
    "            all_accuracys.append([acc, test_acc])\n",
    "            \n",
    "    except KeyboardInterrupt:\n",
    "        # This lets you stop manually. and still get the results\n",
    "        pass\n",
    "\n",
    "    # Visualising the results\n",
    "    all_losses = np.array(all_losses)\n",
    "    plt.plot(all_losses[:, 0], label=\"Training\")\n",
    "    plt.plot(all_losses[:, 1], label=\"Test\")\n",
    "    plt.title(\"Loss\")\n",
    "    plt.legend()\n",
    "    \n",
    "    plt.figure()\n",
    "    all_accuracys = np.array(all_accuracys)\n",
    "    plt.plot(all_accuracys[:, 0], label=\"Training\")\n",
    "    plt.plot(all_accuracys[:, 1], label=\"Test\")\n",
    "    plt.title(\"accuracy\")\n",
    "    plt.legend()\n",
    "    \n",
    "    return all_losses, all_accuracys"
   ]
  },
  {
   "cell_type": "code",
   "execution_count": null,
   "metadata": {
    "ExecuteTime": {
     "end_time": "2020-09-21T15:04:40.893852Z",
     "start_time": "2020-09-21T15:04:40.888277Z"
    }
   },
   "outputs": [],
   "source": []
  },
  {
   "cell_type": "code",
   "execution_count": 32,
   "metadata": {
    "ExecuteTime": {
     "end_time": "2020-10-05T02:06:56.356433Z",
     "start_time": "2020-10-05T02:06:53.179725Z"
    }
   },
   "outputs": [
    {
     "data": {
      "text/plain": [
       "LSTM(\n",
       "  (lstm): LSTM(22, 64, num_layers=3, batch_first=True)\n",
       "  (linear): Linear(in_features=64, out_features=12, bias=True)\n",
       ")"
      ]
     },
     "execution_count": 32,
     "metadata": {},
     "output_type": "execute_result"
    }
   ],
   "source": [
    "# Init the model\n",
    "model = LSTM(\n",
    "    input_size=x_train[0].shape[-1],\n",
    "    hidden_size=64, # CHANGE ME\n",
    "    num_layers=3, # CHANGE ME\n",
    "    output_size=output_size,\n",
    ")\n",
    "model = model.to(device)\n",
    "model"
   ]
  },
  {
   "cell_type": "code",
   "execution_count": 33,
   "metadata": {
    "ExecuteTime": {
     "end_time": "2020-10-05T02:06:56.364253Z",
     "start_time": "2020-10-05T02:06:56.359264Z"
    }
   },
   "outputs": [],
   "source": [
    "# Init the optimiser, and loss function\n",
    "optimizer = optim.Adam(model.parameters(), lr=0.001) # CHANGE ME\n",
    "loss_func = torch.nn.CrossEntropyLoss().to(device)"
   ]
  },
  {
   "cell_type": "markdown",
   "metadata": {},
   "source": [
    "Let's train for 10 epochs"
   ]
  },
  {
   "cell_type": "code",
   "execution_count": 34,
   "metadata": {
    "ExecuteTime": {
     "end_time": "2020-10-05T02:09:05.353230Z",
     "start_time": "2020-10-05T02:06:56.366625Z"
    },
    "scrolled": true
   },
   "outputs": [
    {
     "data": {
      "application/vnd.jupyter.widget-view+json": {
       "model_id": "",
       "version_major": 2,
       "version_minor": 0
      },
      "text/plain": [
       "HBox(children=(FloatProgress(value=0.0, description='test', max=8.0, style=ProgressStyle(description_width='in…"
      ]
     },
     "metadata": {},
     "output_type": "display_data"
    },
    {
     "name": "stdout",
     "output_type": "stream",
     "text": [
      "Start: Test Loss = 2.54, accuracy = 0.027\n"
     ]
    },
    {
     "data": {
      "application/vnd.jupyter.widget-view+json": {
       "model_id": "3a000644b4104af78ef1033396ae9c6e",
       "version_major": 2,
       "version_minor": 0
      },
      "text/plain": [
       "HBox(children=(FloatProgress(value=0.0, description='epochs', max=10.0, style=ProgressStyle(description_width=…"
      ]
     },
     "metadata": {},
     "output_type": "display_data"
    },
    {
     "data": {
      "application/vnd.jupyter.widget-view+json": {
       "model_id": "",
       "version_major": 2,
       "version_minor": 0
      },
      "text/plain": [
       "HBox(children=(FloatProgress(value=0.0, description='train', max=128.0, style=ProgressStyle(description_width=…"
      ]
     },
     "metadata": {},
     "output_type": "display_data"
    },
    {
     "name": "stdout",
     "output_type": "stream",
     "text": [
      "Epoch 1/10: Training Loss = 1.42, accuracy = 0.500\n"
     ]
    },
    {
     "data": {
      "application/vnd.jupyter.widget-view+json": {
       "model_id": "",
       "version_major": 2,
       "version_minor": 0
      },
      "text/plain": [
       "HBox(children=(FloatProgress(value=0.0, description='test', max=8.0, style=ProgressStyle(description_width='in…"
      ]
     },
     "metadata": {},
     "output_type": "display_data"
    },
    {
     "name": "stdout",
     "output_type": "stream",
     "text": [
      "Epoch 1/10: Test Loss = 1.24, accuracy = 0.562\n",
      "--------------------------------------------------\n"
     ]
    },
    {
     "data": {
      "application/vnd.jupyter.widget-view+json": {
       "model_id": "",
       "version_major": 2,
       "version_minor": 0
      },
      "text/plain": [
       "HBox(children=(FloatProgress(value=0.0, description='train', max=128.0, style=ProgressStyle(description_width=…"
      ]
     },
     "metadata": {},
     "output_type": "display_data"
    },
    {
     "name": "stdout",
     "output_type": "stream",
     "text": [
      "Epoch 2/10: Training Loss = 0.80, accuracy = 0.701\n"
     ]
    },
    {
     "data": {
      "application/vnd.jupyter.widget-view+json": {
       "model_id": "",
       "version_major": 2,
       "version_minor": 0
      },
      "text/plain": [
       "HBox(children=(FloatProgress(value=0.0, description='test', max=8.0, style=ProgressStyle(description_width='in…"
      ]
     },
     "metadata": {},
     "output_type": "display_data"
    },
    {
     "name": "stdout",
     "output_type": "stream",
     "text": [
      "Epoch 2/10: Test Loss = 0.85, accuracy = 0.715\n",
      "--------------------------------------------------\n"
     ]
    },
    {
     "data": {
      "application/vnd.jupyter.widget-view+json": {
       "model_id": "",
       "version_major": 2,
       "version_minor": 0
      },
      "text/plain": [
       "HBox(children=(FloatProgress(value=0.0, description='train', max=128.0, style=ProgressStyle(description_width=…"
      ]
     },
     "metadata": {},
     "output_type": "display_data"
    },
    {
     "name": "stdout",
     "output_type": "stream",
     "text": [
      "Epoch 3/10: Training Loss = 0.65, accuracy = 0.756\n"
     ]
    },
    {
     "data": {
      "application/vnd.jupyter.widget-view+json": {
       "model_id": "",
       "version_major": 2,
       "version_minor": 0
      },
      "text/plain": [
       "HBox(children=(FloatProgress(value=0.0, description='test', max=8.0, style=ProgressStyle(description_width='in…"
      ]
     },
     "metadata": {},
     "output_type": "display_data"
    },
    {
     "name": "stdout",
     "output_type": "stream",
     "text": [
      "Epoch 3/10: Test Loss = 0.73, accuracy = 0.729\n",
      "--------------------------------------------------\n"
     ]
    },
    {
     "data": {
      "application/vnd.jupyter.widget-view+json": {
       "model_id": "",
       "version_major": 2,
       "version_minor": 0
      },
      "text/plain": [
       "HBox(children=(FloatProgress(value=0.0, description='train', max=128.0, style=ProgressStyle(description_width=…"
      ]
     },
     "metadata": {},
     "output_type": "display_data"
    },
    {
     "name": "stdout",
     "output_type": "stream",
     "text": [
      "Epoch 4/10: Training Loss = 0.59, accuracy = 0.774\n"
     ]
    },
    {
     "data": {
      "application/vnd.jupyter.widget-view+json": {
       "model_id": "",
       "version_major": 2,
       "version_minor": 0
      },
      "text/plain": [
       "HBox(children=(FloatProgress(value=0.0, description='test', max=8.0, style=ProgressStyle(description_width='in…"
      ]
     },
     "metadata": {},
     "output_type": "display_data"
    },
    {
     "name": "stdout",
     "output_type": "stream",
     "text": [
      "Epoch 4/10: Test Loss = 0.77, accuracy = 0.719\n",
      "--------------------------------------------------\n"
     ]
    },
    {
     "data": {
      "application/vnd.jupyter.widget-view+json": {
       "model_id": "",
       "version_major": 2,
       "version_minor": 0
      },
      "text/plain": [
       "HBox(children=(FloatProgress(value=0.0, description='train', max=128.0, style=ProgressStyle(description_width=…"
      ]
     },
     "metadata": {},
     "output_type": "display_data"
    },
    {
     "name": "stdout",
     "output_type": "stream",
     "text": [
      "Epoch 5/10: Training Loss = 0.55, accuracy = 0.790\n"
     ]
    },
    {
     "data": {
      "application/vnd.jupyter.widget-view+json": {
       "model_id": "",
       "version_major": 2,
       "version_minor": 0
      },
      "text/plain": [
       "HBox(children=(FloatProgress(value=0.0, description='test', max=8.0, style=ProgressStyle(description_width='in…"
      ]
     },
     "metadata": {},
     "output_type": "display_data"
    },
    {
     "name": "stdout",
     "output_type": "stream",
     "text": [
      "Epoch 5/10: Test Loss = 0.68, accuracy = 0.759\n",
      "--------------------------------------------------\n"
     ]
    },
    {
     "data": {
      "application/vnd.jupyter.widget-view+json": {
       "model_id": "",
       "version_major": 2,
       "version_minor": 0
      },
      "text/plain": [
       "HBox(children=(FloatProgress(value=0.0, description='train', max=128.0, style=ProgressStyle(description_width=…"
      ]
     },
     "metadata": {},
     "output_type": "display_data"
    },
    {
     "name": "stdout",
     "output_type": "stream",
     "text": [
      "Epoch 6/10: Training Loss = 0.53, accuracy = 0.799\n"
     ]
    },
    {
     "data": {
      "application/vnd.jupyter.widget-view+json": {
       "model_id": "",
       "version_major": 2,
       "version_minor": 0
      },
      "text/plain": [
       "HBox(children=(FloatProgress(value=0.0, description='test', max=8.0, style=ProgressStyle(description_width='in…"
      ]
     },
     "metadata": {},
     "output_type": "display_data"
    },
    {
     "name": "stdout",
     "output_type": "stream",
     "text": [
      "Epoch 6/10: Test Loss = 0.76, accuracy = 0.736\n",
      "--------------------------------------------------\n"
     ]
    },
    {
     "data": {
      "application/vnd.jupyter.widget-view+json": {
       "model_id": "",
       "version_major": 2,
       "version_minor": 0
      },
      "text/plain": [
       "HBox(children=(FloatProgress(value=0.0, description='train', max=128.0, style=ProgressStyle(description_width=…"
      ]
     },
     "metadata": {},
     "output_type": "display_data"
    },
    {
     "name": "stdout",
     "output_type": "stream",
     "text": [
      "Epoch 7/10: Training Loss = 0.50, accuracy = 0.811\n"
     ]
    },
    {
     "data": {
      "application/vnd.jupyter.widget-view+json": {
       "model_id": "",
       "version_major": 2,
       "version_minor": 0
      },
      "text/plain": [
       "HBox(children=(FloatProgress(value=0.0, description='test', max=8.0, style=ProgressStyle(description_width='in…"
      ]
     },
     "metadata": {},
     "output_type": "display_data"
    },
    {
     "name": "stdout",
     "output_type": "stream",
     "text": [
      "Epoch 7/10: Test Loss = 0.68, accuracy = 0.768\n",
      "--------------------------------------------------\n"
     ]
    },
    {
     "data": {
      "application/vnd.jupyter.widget-view+json": {
       "model_id": "",
       "version_major": 2,
       "version_minor": 0
      },
      "text/plain": [
       "HBox(children=(FloatProgress(value=0.0, description='train', max=128.0, style=ProgressStyle(description_width=…"
      ]
     },
     "metadata": {},
     "output_type": "display_data"
    },
    {
     "name": "stdout",
     "output_type": "stream",
     "text": [
      "Epoch 8/10: Training Loss = 0.48, accuracy = 0.814\n"
     ]
    },
    {
     "data": {
      "application/vnd.jupyter.widget-view+json": {
       "model_id": "",
       "version_major": 2,
       "version_minor": 0
      },
      "text/plain": [
       "HBox(children=(FloatProgress(value=0.0, description='test', max=8.0, style=ProgressStyle(description_width='in…"
      ]
     },
     "metadata": {},
     "output_type": "display_data"
    },
    {
     "name": "stdout",
     "output_type": "stream",
     "text": [
      "Epoch 8/10: Test Loss = 0.77, accuracy = 0.743\n",
      "--------------------------------------------------\n"
     ]
    },
    {
     "data": {
      "application/vnd.jupyter.widget-view+json": {
       "model_id": "",
       "version_major": 2,
       "version_minor": 0
      },
      "text/plain": [
       "HBox(children=(FloatProgress(value=0.0, description='train', max=128.0, style=ProgressStyle(description_width=…"
      ]
     },
     "metadata": {},
     "output_type": "display_data"
    },
    {
     "name": "stdout",
     "output_type": "stream",
     "text": [
      "Epoch 9/10: Training Loss = 0.47, accuracy = 0.821\n"
     ]
    },
    {
     "data": {
      "application/vnd.jupyter.widget-view+json": {
       "model_id": "",
       "version_major": 2,
       "version_minor": 0
      },
      "text/plain": [
       "HBox(children=(FloatProgress(value=0.0, description='test', max=8.0, style=ProgressStyle(description_width='in…"
      ]
     },
     "metadata": {},
     "output_type": "display_data"
    },
    {
     "name": "stdout",
     "output_type": "stream",
     "text": [
      "Epoch 9/10: Test Loss = 0.82, accuracy = 0.743\n",
      "--------------------------------------------------\n"
     ]
    },
    {
     "data": {
      "application/vnd.jupyter.widget-view+json": {
       "model_id": "",
       "version_major": 2,
       "version_minor": 0
      },
      "text/plain": [
       "HBox(children=(FloatProgress(value=0.0, description='train', max=128.0, style=ProgressStyle(description_width=…"
      ]
     },
     "metadata": {},
     "output_type": "display_data"
    },
    {
     "name": "stdout",
     "output_type": "stream",
     "text": [
      "Epoch 10/10: Training Loss = 0.45, accuracy = 0.827\n"
     ]
    },
    {
     "data": {
      "application/vnd.jupyter.widget-view+json": {
       "model_id": "",
       "version_major": 2,
       "version_minor": 0
      },
      "text/plain": [
       "HBox(children=(FloatProgress(value=0.0, description='test', max=8.0, style=ProgressStyle(description_width='in…"
      ]
     },
     "metadata": {},
     "output_type": "display_data"
    },
    {
     "name": "stdout",
     "output_type": "stream",
     "text": [
      "Epoch 10/10: Test Loss = 0.80, accuracy = 0.733\n",
      "--------------------------------------------------\n",
      "\n"
     ]
    },
    {
     "data": {
      "text/plain": [
       "(array([[1.42233151, 1.23768711],\n",
       "        [0.80344153, 0.84728466],\n",
       "        [0.6458668 , 0.7306818 ],\n",
       "        [0.59103914, 0.76639457],\n",
       "        [0.54790995, 0.67865193],\n",
       "        [0.52630855, 0.76381357],\n",
       "        [0.49613744, 0.67793894],\n",
       "        [0.47901786, 0.77014153],\n",
       "        [0.46598246, 0.81594548],\n",
       "        [0.45170409, 0.79835429]]),\n",
       " array([[0.49963379, 0.56225586],\n",
       "        [0.70129395, 0.71459961],\n",
       "        [0.75634766, 0.72875977],\n",
       "        [0.77410889, 0.71875   ],\n",
       "        [0.79016113, 0.75878906],\n",
       "        [0.79864502, 0.73632812],\n",
       "        [0.81085205, 0.76806641],\n",
       "        [0.81439209, 0.74316406],\n",
       "        [0.82104492, 0.74316406],\n",
       "        [0.8270874 , 0.73291016]]))"
      ]
     },
     "execution_count": 34,
     "metadata": {},
     "output_type": "execute_result"
    },
    {
     "data": {
      "image/png": "[encoded data removed]",
      "text/plain": [
       "<Figure size 432x288 with 1 Axes>"
      ]
     },
     "metadata": {
      "needs_background": "light"
     },
     "output_type": "display_data"
    },
    {
     "data": {
      "image/png": "[encoded data removed]",
      "text/plain": [
       "<Figure size 432x288 with 1 Axes>"
      ]
     },
     "metadata": {
      "needs_background": "light"
     },
     "output_type": "display_data"
    }
   ],
   "source": [
    "training_loop(x_train, y_train, x_test, y_test, model, epochs=10, bs=128)"
   ]
  },
  {
   "cell_type": "markdown",
   "metadata": {},
   "source": [
    "Did it overfit?"
   ]
  },
  {
   "cell_type": "markdown",
   "metadata": {},
   "source": [
    "## Test"
   ]
  },
  {
   "cell_type": "code",
   "execution_count": 35,
   "metadata": {
    "ExecuteTime": {
     "end_time": "2020-10-05T02:09:06.000187Z",
     "start_time": "2020-10-05T02:09:05.355012Z"
    },
    "scrolled": true
   },
   "outputs": [
    {
     "data": {
      "application/vnd.jupyter.widget-view+json": {
       "model_id": "",
       "version_major": 2,
       "version_minor": 0
      },
      "text/plain": [
       "HBox(children=(FloatProgress(value=0.0, description='test', max=8.0, style=ProgressStyle(description_width='in…"
      ]
     },
     "metadata": {},
     "output_type": "display_data"
    },
    {
     "data": {
      "text/plain": [
       "0.73291015625"
      ]
     },
     "execution_count": 35,
     "metadata": {},
     "output_type": "execute_result"
    }
   ],
   "source": [
    "preds, true, loss, acc = test_epoch(x_test, y_test, model)\n",
    "acc"
   ]
  },
  {
   "cell_type": "code",
   "execution_count": null,
   "metadata": {
    "ExecuteTime": {
     "end_time": "2020-10-05T01:40:55.581670Z",
     "start_time": "2020-10-05T01:40:55.554871Z"
    }
   },
   "outputs": [],
   "source": []
  },
  {
   "cell_type": "markdown",
   "metadata": {},
   "source": [
    "### Reports"
   ]
  },
  {
   "cell_type": "markdown",
   "metadata": {
    "ExecuteTime": {
     "end_time": "2020-10-05T00:02:17.716826Z",
     "start_time": "2020-10-05T00:02:17.707884Z"
    }
   },
   "source": [
    "This beats the baseline, so the model is doing better than the naive answer of \"the same again\". But lets break it down by lithology"
   ]
  },
  {
   "cell_type": "code",
   "execution_count": 36,
   "metadata": {
    "ExecuteTime": {
     "end_time": "2020-10-05T02:09:06.008717Z",
     "start_time": "2020-10-05T02:09:06.002447Z"
    }
   },
   "outputs": [],
   "source": [
    "import pandas as pd\n",
    "import sklearn.metrics\n",
    "import numpy as np\n",
    "\n",
    "def classification_report(*args, **kwargs):\n",
    "    out_df = pd.DataFrame(sklearn.metrics.classification_report(*args, **kwargs, output_dict=True)).T\n",
    "    # Order cols\n",
    "    out_df[[\"precision\",\"recall\",\"f1-score\",\"support\"]]  \n",
    "    # Round\n",
    "    out_df[[\"precision\",\"recall\",\"f1-score\"]]= out_df[[\"precision\",\"recall\",\"f1-score\"]].apply(lambda x: round(x,2))\n",
    "    out_df[[\"support\"]]= out_df[[\"support\"]].apply(lambda x: x.astype(np.int))\n",
    "    return out_df"
   ]
  },
  {
   "cell_type": "code",
   "execution_count": 37,
   "metadata": {
    "ExecuteTime": {
     "end_time": "2020-10-05T02:09:06.017770Z",
     "start_time": "2020-10-05T02:09:06.011094Z"
    }
   },
   "outputs": [],
   "source": [
    "# pred_baseline = np.roll(true, shift=shift_length)\n",
    "# df_report = classification_report(true, pred_baseline, labels=range(len(encoder.classes_)), target_names=encoder.classes_)\n",
    "# df_report[df_report.support>0]"
   ]
  },
  {
   "cell_type": "code",
   "execution_count": 38,
   "metadata": {
    "ExecuteTime": {
     "end_time": "2020-10-05T02:09:06.055168Z",
     "start_time": "2020-10-05T02:09:06.020330Z"
    },
    "scrolled": false
   },
   "outputs": [
    {
     "name": "stderr",
     "output_type": "stream",
     "text": [
      "/home/wassname/anaconda/envs/deep_ml_curriculum/lib/python3.7/site-packages/sklearn/metrics/_classification.py:1221: UndefinedMetricWarning: Precision and F-score are ill-defined and being set to 0.0 in labels with no predicted samples. Use `zero_division` parameter to control this behavior.\n",
      "  _warn_prf(average, modifier, msg_start, len(result))\n",
      "/home/wassname/anaconda/envs/deep_ml_curriculum/lib/python3.7/site-packages/sklearn/metrics/_classification.py:1221: UndefinedMetricWarning: Recall and F-score are ill-defined and being set to 0.0 in labels with no true samples. Use `zero_division` parameter to control this behavior.\n",
      "  _warn_prf(average, modifier, msg_start, len(result))\n"
     ]
    },
    {
     "data": {
      "text/html": [
       "<div>\n",
       "<style scoped>\n",
       "    .dataframe tbody tr th:only-of-type {\n",
       "        vertical-align: middle;\n",
       "    }\n",
       "\n",
       "    .dataframe tbody tr th {\n",
       "        vertical-align: top;\n",
       "    }\n",
       "\n",
       "    .dataframe thead th {\n",
       "        text-align: right;\n",
       "    }\n",
       "</style>\n",
       "<table border=\"1\" class=\"dataframe\">\n",
       "  <thead>\n",
       "    <tr style=\"text-align: right;\">\n",
       "      <th></th>\n",
       "      <th>precision</th>\n",
       "      <th>recall</th>\n",
       "      <th>f1-score</th>\n",
       "      <th>support</th>\n",
       "    </tr>\n",
       "  </thead>\n",
       "  <tbody>\n",
       "    <tr>\n",
       "      <th>Calcareous Cement</th>\n",
       "      <td>0.00</td>\n",
       "      <td>0.00</td>\n",
       "      <td>0.00</td>\n",
       "      <td>3</td>\n",
       "    </tr>\n",
       "    <tr>\n",
       "      <th>Limestone</th>\n",
       "      <td>0.95</td>\n",
       "      <td>0.87</td>\n",
       "      <td>0.91</td>\n",
       "      <td>599</td>\n",
       "    </tr>\n",
       "    <tr>\n",
       "      <th>Cinerite</th>\n",
       "      <td>0.00</td>\n",
       "      <td>0.00</td>\n",
       "      <td>0.00</td>\n",
       "      <td>109</td>\n",
       "    </tr>\n",
       "    <tr>\n",
       "      <th>Silty Sand</th>\n",
       "      <td>0.97</td>\n",
       "      <td>0.21</td>\n",
       "      <td>0.35</td>\n",
       "      <td>616</td>\n",
       "    </tr>\n",
       "    <tr>\n",
       "      <th>Argillaceous Limestone</th>\n",
       "      <td>0.50</td>\n",
       "      <td>0.44</td>\n",
       "      <td>0.47</td>\n",
       "      <td>236</td>\n",
       "    </tr>\n",
       "    <tr>\n",
       "      <th>Silt</th>\n",
       "      <td>0.70</td>\n",
       "      <td>0.95</td>\n",
       "      <td>0.81</td>\n",
       "      <td>1838</td>\n",
       "    </tr>\n",
       "    <tr>\n",
       "      <th>Marlstone</th>\n",
       "      <td>0.80</td>\n",
       "      <td>0.93</td>\n",
       "      <td>0.86</td>\n",
       "      <td>445</td>\n",
       "    </tr>\n",
       "    <tr>\n",
       "      <th>Shaly Silt</th>\n",
       "      <td>0.48</td>\n",
       "      <td>0.36</td>\n",
       "      <td>0.41</td>\n",
       "      <td>250</td>\n",
       "    </tr>\n",
       "    <tr>\n",
       "      <th>micro avg</th>\n",
       "      <td>0.73</td>\n",
       "      <td>0.73</td>\n",
       "      <td>0.73</td>\n",
       "      <td>4096</td>\n",
       "    </tr>\n",
       "    <tr>\n",
       "      <th>macro avg</th>\n",
       "      <td>0.37</td>\n",
       "      <td>0.31</td>\n",
       "      <td>0.32</td>\n",
       "      <td>4096</td>\n",
       "    </tr>\n",
       "    <tr>\n",
       "      <th>weighted avg</th>\n",
       "      <td>0.75</td>\n",
       "      <td>0.73</td>\n",
       "      <td>0.69</td>\n",
       "      <td>4096</td>\n",
       "    </tr>\n",
       "  </tbody>\n",
       "</table>\n",
       "</div>"
      ],
      "text/plain": [
       "                        precision  recall  f1-score  support\n",
       "Calcareous Cement            0.00    0.00      0.00        3\n",
       "Limestone                    0.95    0.87      0.91      599\n",
       "Cinerite                     0.00    0.00      0.00      109\n",
       "Silty Sand                   0.97    0.21      0.35      616\n",
       "Argillaceous Limestone       0.50    0.44      0.47      236\n",
       "Silt                         0.70    0.95      0.81     1838\n",
       "Marlstone                    0.80    0.93      0.86      445\n",
       "Shaly Silt                   0.48    0.36      0.41      250\n",
       "micro avg                    0.73    0.73      0.73     4096\n",
       "macro avg                    0.37    0.31      0.32     4096\n",
       "weighted avg                 0.75    0.73      0.69     4096"
      ]
     },
     "execution_count": 38,
     "metadata": {},
     "output_type": "execute_result"
    }
   ],
   "source": [
    "df_report = classification_report(true, preds, labels=range(len(encoder.classes_)), target_names=encoder.classes_)\n",
    "df_report[df_report.support>0]"
   ]
  },
  {
   "cell_type": "code",
   "execution_count": null,
   "metadata": {
    "ExecuteTime": {
     "end_time": "2020-09-19T05:30:37.732915Z",
     "start_time": "2020-09-19T05:30:37.711802Z"
    }
   },
   "outputs": [],
   "source": []
  },
  {
   "cell_type": "code",
   "execution_count": 39,
   "metadata": {
    "ExecuteTime": {
     "end_time": "2020-10-05T02:09:07.804218Z",
     "start_time": "2020-10-05T02:09:06.057432Z"
    },
    "scrolled": false
   },
   "outputs": [
    {
     "data": {
      "image/png": "[encoded data removed]",
      "text/plain": [
       "<Figure size 720x720 with 2 Axes>"
      ]
     },
     "metadata": {
      "needs_background": "light"
     },
     "output_type": "display_data"
    }
   ],
   "source": [
    "cm = sklearn.metrics.confusion_matrix(true, preds, labels=range(len(encoder.classes_)))\n",
    "\n",
    "plt.figure(figsize=(10, 10))\n",
    "plt.title('Confusion Matrix')\n",
    "ax=plt.gca()\n",
    "disp = sklearn.metrics.ConfusionMatrixDisplay(confusion_matrix=cm,\n",
    "                              display_labels=encoder.classes_)\n",
    "disp.plot(ax=ax, xticks_rotation=90)\n",
    "plt.show()"
   ]
  },
  {
   "cell_type": "markdown",
   "metadata": {},
   "source": [
    "## Plot results"
   ]
  },
  {
   "cell_type": "markdown",
   "metadata": {},
   "source": [
    "Let's have a look at model's predictions."
   ]
  },
  {
   "cell_type": "code",
   "execution_count": 40,
   "metadata": {
    "ExecuteTime": {
     "end_time": "2020-10-05T02:09:09.953804Z",
     "start_time": "2020-10-05T02:09:07.806143Z"
    }
   },
   "outputs": [
    {
     "data": {
      "image/png": "[encoded data removed]",
      "text/plain": [
       "<Figure size 576x864 with 7 Axes>"
      ]
     },
     "metadata": {
      "needs_background": "light"
     },
     "output_type": "display_data"
    },
    {
     "data": {
      "text/html": [
       "<div>\n",
       "<style scoped>\n",
       "    .dataframe tbody tr th:only-of-type {\n",
       "        vertical-align: middle;\n",
       "    }\n",
       "\n",
       "    .dataframe tbody tr th {\n",
       "        vertical-align: top;\n",
       "    }\n",
       "\n",
       "    .dataframe thead th {\n",
       "        text-align: right;\n",
       "    }\n",
       "</style>\n",
       "<table border=\"1\" class=\"dataframe\">\n",
       "  <thead>\n",
       "    <tr style=\"text-align: right;\">\n",
       "      <th></th>\n",
       "      <th>LITHOLOGY_GEOLINK</th>\n",
       "      <th>pred</th>\n",
       "    </tr>\n",
       "    <tr>\n",
       "      <th>DEPT</th>\n",
       "      <th></th>\n",
       "      <th></th>\n",
       "    </tr>\n",
       "  </thead>\n",
       "  <tbody>\n",
       "    <tr>\n",
       "      <th>1909.65</th>\n",
       "      <td>Shaly Silt</td>\n",
       "      <td>Shaly Silt</td>\n",
       "    </tr>\n",
       "    <tr>\n",
       "      <th>1909.80</th>\n",
       "      <td>Silt</td>\n",
       "      <td>Shaly Silt</td>\n",
       "    </tr>\n",
       "    <tr>\n",
       "      <th>1909.95</th>\n",
       "      <td>Silt</td>\n",
       "      <td>Shaly Silt</td>\n",
       "    </tr>\n",
       "    <tr>\n",
       "      <th>1910.10</th>\n",
       "      <td>Silt</td>\n",
       "      <td>Silt</td>\n",
       "    </tr>\n",
       "    <tr>\n",
       "      <th>1910.25</th>\n",
       "      <td>Silt</td>\n",
       "      <td>Silt</td>\n",
       "    </tr>\n",
       "    <tr>\n",
       "      <th>...</th>\n",
       "      <td>...</td>\n",
       "      <td>...</td>\n",
       "    </tr>\n",
       "    <tr>\n",
       "      <th>5438.40</th>\n",
       "      <td>Cross Bedded Sst</td>\n",
       "      <td>Silt</td>\n",
       "    </tr>\n",
       "    <tr>\n",
       "      <th>5438.55</th>\n",
       "      <td>Cross Bedded Sst</td>\n",
       "      <td>Silt</td>\n",
       "    </tr>\n",
       "    <tr>\n",
       "      <th>5438.70</th>\n",
       "      <td>Cross Bedded Sst</td>\n",
       "      <td>Silt</td>\n",
       "    </tr>\n",
       "    <tr>\n",
       "      <th>5438.85</th>\n",
       "      <td>Cross Bedded Sst</td>\n",
       "      <td>Silt</td>\n",
       "    </tr>\n",
       "    <tr>\n",
       "      <th>5439.00</th>\n",
       "      <td>Cross Bedded Sst</td>\n",
       "      <td>Silt</td>\n",
       "    </tr>\n",
       "  </tbody>\n",
       "</table>\n",
       "<p>23281 rows × 2 columns</p>\n",
       "</div>"
      ],
      "text/plain": [
       "        LITHOLOGY_GEOLINK        pred\n",
       "DEPT                                 \n",
       "1909.65        Shaly Silt  Shaly Silt\n",
       "1909.80              Silt  Shaly Silt\n",
       "1909.95              Silt  Shaly Silt\n",
       "1910.10              Silt        Silt\n",
       "1910.25              Silt        Silt\n",
       "...                   ...         ...\n",
       "5438.40  Cross Bedded Sst        Silt\n",
       "5438.55  Cross Bedded Sst        Silt\n",
       "5438.70  Cross Bedded Sst        Silt\n",
       "5438.85  Cross Bedded Sst        Silt\n",
       "5439.00  Cross Bedded Sst        Silt\n",
       "\n",
       "[23281 rows x 2 columns]"
      ]
     },
     "execution_count": 40,
     "metadata": {},
     "output_type": "execute_result"
    }
   ],
   "source": [
    "from deep_ml_curriculum.visualization.well_log import plot_well_pred\n",
    "\n",
    "def plot_well(df, model, depth_min=0, depth_max=18000, well_name=\"30_4-1\", device=device):\n",
    "    logs = df.loc[well_name].sort_index()\n",
    "    x_test, y_test = get_sequences(logs)\n",
    "    x_test = torch.Tensor(x_test)\n",
    "    preds = to_numpy(model(x_test.to(device)).argmax(axis=-1))\n",
    "    acc = score_fn(y_test, preds)\n",
    "    df_log_results = logs.iloc[10:].copy()\n",
    "    df_log_results['pred'] = pd.Categorical(encoder.inverse_transform(preds), categories=df_log_results.LITHOLOGY_GEOLINK.values.categories)\n",
    "    \n",
    "    # Lets zoom in on an interesting interval a:b\n",
    "    plot_well_pred(f'{well_name} acc={acc:2.2f}', df_log_results.loc[depth_min:depth_max],\n",
    "                   facies_true=df_log_results.loc[depth_min:depth_max].LITHOLOGY_GEOLINK.values, \n",
    "                   facies_pred=df_log_results.loc[depth_min:depth_max].pred.values)\n",
    "    plt.show()\n",
    "    return df_log_results[['LITHOLOGY_GEOLINK', 'pred']]\n",
    "    \n",
    "plot_well(df, model)"
   ]
  },
  {
   "cell_type": "code",
   "execution_count": 41,
   "metadata": {
    "ExecuteTime": {
     "end_time": "2020-10-05T02:09:09.961508Z",
     "start_time": "2020-10-05T02:09:09.956860Z"
    }
   },
   "outputs": [
    {
     "name": "stdout",
     "output_type": "stream",
     "text": [
      "15 wells. 12 lithologies\n",
      "context length of 60.0 m or 400 intervals\n",
      "model can see human labels up to 15.0m above. Or 100 intervals\n",
      "baseline accuracy 62.14% for prev 100 facies values\n"
     ]
    }
   ],
   "source": [
    "print(f'{n_wells} wells. {max_lithologies} lithologies')\n",
    "print(f'context length of {0.15*seq_length} m or {seq_length} intervals')\n",
    "print(f'model can see human labels up to {shift_length*0.15}m above. Or {shift_length} intervals')\n",
    "print(f'baseline accuracy {score_prev_base:2.2%} for prev {shift_length} facies values')"
   ]
  },
  {
   "cell_type": "code",
   "execution_count": 42,
   "metadata": {
    "ExecuteTime": {
     "end_time": "2020-10-05T02:09:11.945287Z",
     "start_time": "2020-10-05T02:09:09.964554Z"
    }
   },
   "outputs": [
    {
     "data": {
      "image/png": "[encoded data removed]",
      "text/plain": [
       "<Figure size 576x864 with 7 Axes>"
      ]
     },
     "metadata": {
      "needs_background": "light"
     },
     "output_type": "display_data"
    },
    {
     "data": {
      "text/html": [
       "<div>\n",
       "<style scoped>\n",
       "    .dataframe tbody tr th:only-of-type {\n",
       "        vertical-align: middle;\n",
       "    }\n",
       "\n",
       "    .dataframe tbody tr th {\n",
       "        vertical-align: top;\n",
       "    }\n",
       "\n",
       "    .dataframe thead th {\n",
       "        text-align: right;\n",
       "    }\n",
       "</style>\n",
       "<table border=\"1\" class=\"dataframe\">\n",
       "  <thead>\n",
       "    <tr style=\"text-align: right;\">\n",
       "      <th></th>\n",
       "      <th>LITHOLOGY_GEOLINK</th>\n",
       "      <th>pred</th>\n",
       "    </tr>\n",
       "    <tr>\n",
       "      <th>DEPT</th>\n",
       "      <th></th>\n",
       "      <th></th>\n",
       "    </tr>\n",
       "  </thead>\n",
       "  <tbody>\n",
       "    <tr>\n",
       "      <th>1909.65</th>\n",
       "      <td>Shaly Silt</td>\n",
       "      <td>Shaly Silt</td>\n",
       "    </tr>\n",
       "    <tr>\n",
       "      <th>1909.80</th>\n",
       "      <td>Silt</td>\n",
       "      <td>Shaly Silt</td>\n",
       "    </tr>\n",
       "    <tr>\n",
       "      <th>1909.95</th>\n",
       "      <td>Silt</td>\n",
       "      <td>Shaly Silt</td>\n",
       "    </tr>\n",
       "    <tr>\n",
       "      <th>1910.10</th>\n",
       "      <td>Silt</td>\n",
       "      <td>Silt</td>\n",
       "    </tr>\n",
       "    <tr>\n",
       "      <th>1910.25</th>\n",
       "      <td>Silt</td>\n",
       "      <td>Silt</td>\n",
       "    </tr>\n",
       "    <tr>\n",
       "      <th>...</th>\n",
       "      <td>...</td>\n",
       "      <td>...</td>\n",
       "    </tr>\n",
       "    <tr>\n",
       "      <th>5438.40</th>\n",
       "      <td>Cross Bedded Sst</td>\n",
       "      <td>Silt</td>\n",
       "    </tr>\n",
       "    <tr>\n",
       "      <th>5438.55</th>\n",
       "      <td>Cross Bedded Sst</td>\n",
       "      <td>Silt</td>\n",
       "    </tr>\n",
       "    <tr>\n",
       "      <th>5438.70</th>\n",
       "      <td>Cross Bedded Sst</td>\n",
       "      <td>Silt</td>\n",
       "    </tr>\n",
       "    <tr>\n",
       "      <th>5438.85</th>\n",
       "      <td>Cross Bedded Sst</td>\n",
       "      <td>Silt</td>\n",
       "    </tr>\n",
       "    <tr>\n",
       "      <th>5439.00</th>\n",
       "      <td>Cross Bedded Sst</td>\n",
       "      <td>Silt</td>\n",
       "    </tr>\n",
       "  </tbody>\n",
       "</table>\n",
       "<p>23281 rows × 2 columns</p>\n",
       "</div>"
      ],
      "text/plain": [
       "        LITHOLOGY_GEOLINK        pred\n",
       "DEPT                                 \n",
       "1909.65        Shaly Silt  Shaly Silt\n",
       "1909.80              Silt  Shaly Silt\n",
       "1909.95              Silt  Shaly Silt\n",
       "1910.10              Silt        Silt\n",
       "1910.25              Silt        Silt\n",
       "...                   ...         ...\n",
       "5438.40  Cross Bedded Sst        Silt\n",
       "5438.55  Cross Bedded Sst        Silt\n",
       "5438.70  Cross Bedded Sst        Silt\n",
       "5438.85  Cross Bedded Sst        Silt\n",
       "5439.00  Cross Bedded Sst        Silt\n",
       "\n",
       "[23281 rows x 2 columns]"
      ]
     },
     "execution_count": 42,
     "metadata": {},
     "output_type": "execute_result"
    }
   ],
   "source": [
    "plot_well(df, model, depth_min=5000, depth_max=6000)"
   ]
  },
  {
   "cell_type": "markdown",
   "metadata": {},
   "source": [
    "The model requires hyper parameter tuning and possibly training over 100s of epochs to reach the best results. However, in this example due to large size of dataset and the model we stopped after `10` epochs. \n",
    "\n",
    "There are number ways we can improve it:\n",
    "\n",
    "- Training for longer. Instead of stopping after 10 `epochs` go for longer. (might overfit)\n",
    "- Increase or decrease the `hidden_size`. (might overfit)\n",
    "- Increase the size of the sequences `seq_length` so the model get to look further in the history. (might underfit)\n",
    "- Increase the learning rate or decrease batch size `bs` (might overfit)\n",
    "- (advanced) Increase the size of training data by adding data from more wells to training. `max_wells` (might underfit)\n",
    "\n",
    "#### Exercise 2\n",
    "\n",
    "Try one of the options above to improve the model. (hint search for \"# CHANGE ME\",  change values, then rerun notebook)"
   ]
  },
  {
   "cell_type": "markdown",
   "metadata": {},
   "source": [
    "<div class=\"alert alert-success\">\n",
    "  <h2>Exercise</h2>\n",
    "\n",
    "  Try one of the options above to improve the model. \n",
    "    \n",
    "  To help we've collected and summarised all the code below, so you can change and run the cells below\n",
    "    \n",
    "    \n",
    "  ```python\n",
    "# Params\n",
    "seq_length = 1000  # CHANGE ME\n",
    "\n",
    "# Prepare data\n",
    "x_train, y_train = get_sequences(df_train, seq_length=seq_length)\n",
    "x_test, y_test = get_sequences(df_test, seq_length=seq_length)\n",
    "\n",
    "# Init the model\n",
    "model = LSTM(\n",
    "    input_size=x_train[0].shape[-1],\n",
    "    hidden_size=64, # CHANGE ME\n",
    "    num_layers=3, # CHANGE ME\n",
    "    output_size=output_size,\n",
    ").to(device)\n",
    "\n",
    "# Init the optimiser, and loss function\n",
    "optimizer = optim.Adam(model.parameters(), lr=0.001) # CHANGE ME\n",
    "loss_func = torch.nn.CrossEntropyLoss().to(device)\n",
    "\n",
    "# Train\n",
    "training_loop(x_train, y_train, x_test, y_test, model, epochs=10, bs=128) # Change me\n",
    "\n",
    "# Measure baseline\n",
    "pred_baseline = np.roll(np.array(y_test), shift=shift_length)\n",
    "score_prev_base=score_fn(y_test, pred_baseline)\n",
    "print(f'baseline accuracy {score_prev_base:2.2%} for prev {shift_length} facies values')\n",
    "print(f'{n_wells} wells. {max_lithologies} lithologies')\n",
    "print(f'context length of {0.15*seq_length} m or {seq_length} intervals')\n",
    "print(f'model can see human labels up to {shift_length*0.15}m above. Or {shift_length} intervals')\n",
    "print(f'baseline accuracy {score_prev_base:2.2%} for prev {shift_length} facies values')\n",
    "\n",
    "# Test\n",
    "preds, true, loss, acc = test_epoch(x_test, y_test, model)\n",
    "print('acc', acc)\n",
    "\n",
    "df_report = classification_report(true, preds, labels=range(len(encoder.classes_)), target_names=encoder.classes_)\n",
    "display(df_report[df_report.support>0])\n",
    "\n",
    "plot_well(df, model)\n",
    "1\n",
    "  ```\n",
    "\n",
    "  <details>\n",
    "  <summary><b>→ Hints</b></summary>\n",
    "      \n",
    "  - The model is close to over fitting to just increasing epochs, or hidden size likely wont help\n",
    "\n",
    "  - To change a value\n",
    "      - Hint search for \"# CHANGE ME\" below\n",
    "      - Change values\n",
    "      - then run the cells\n",
    "      - wait, some values will take longer\n",
    "\n",
    "  </details>\n",
    "\n",
    "  <br/>\n",
    "  <br/>\n",
    "  <details>\n",
    "  <summary>\n",
    "    <b>→ Solution</b>\n",
    "  </summary>\n",
    "\n",
    "  ```python\n",
    "  # this helps a lot\n",
    "  seq_length = 1000 \n",
    "  ```\n",
    "\n",
    "  </details>\n",
    "\n",
    "  </div>"
   ]
  },
  {
   "cell_type": "code",
   "execution_count": 48,
   "metadata": {
    "ExecuteTime": {
     "end_time": "2020-10-05T02:14:49.338171Z",
     "start_time": "2020-10-05T02:14:49.308293Z"
    }
   },
   "outputs": [],
   "source": []
  },
  {
   "cell_type": "code",
   "execution_count": null,
   "metadata": {
    "ExecuteTime": {
     "end_time": "2020-10-05T02:14:03.721704Z",
     "start_time": "2020-10-05T02:06:41.622Z"
    }
   },
   "outputs": [],
   "source": []
  },
  {
   "cell_type": "markdown",
   "metadata": {},
   "source": [
    "## Further Reading\n",
    "- [Introduction to RNN](http://slazebni.cs.illinois.edu/spring17/lec02_rnn.pdf)\n",
    "- [A friendly introduction to Recurrent Neural Networks](https://www.youtube.com/watch?v=UNmqTiOnRfg)\n",
    "- [Recurrent Neural Networks (RNN) and Long Short-Term Memory (LSTM)](https://www.youtube.com/watch?v=WCUNPb-5EYI&t=97s)\n",
    "- [Introduction to LSTM](https://medium.com/x8-the-ai-community/a-7-minute-introduction-to-lstm-5e1480e6f52a)\n",
    "- [LSTM and GRU](https://towardsdatascience.com/illustrated-guide-to-lstms-and-gru-s-a-step-by-step-explanation-44e9eb85bf21)\n",
    "- [Time Series Prediction with LSTM](https://stackabuse.com/time-series-prediction-using-lstm-with-pytorch-in-python/)\n",
    "- [Building RNN from scratch](https://medium.com/dair-ai/building-rnns-is-fun-with-pytorch-and-google-colab-3903ea9a3a79)\n"
   ]
  }
 ],
 "metadata": {
  "colab": {
   "collapsed_sections": [],
   "name": "Recurrent Neural Networks.ipynb",
   "provenance": [],
   "toc_visible": true
  },
  "kernelspec": {
   "display_name": "deep_ml_curriculum",
   "language": "python",
   "name": "deep_ml_curriculum"
  },
  "language_info": {
   "codemirror_mode": {
    "name": "ipython",
    "version": 3
   },
   "file_extension": ".py",
   "mimetype": "text/x-python",
   "name": "python",
   "nbconvert_exporter": "python",
   "pygments_lexer": "ipython3",
   "version": "3.7.9"
  },
  "toc": {
   "base_numbering": 1,
   "nav_menu": {},
   "number_sections": true,
   "sideBar": true,
   "skip_h1_title": false,
   "title_cell": "Table of Contents",
   "title_sidebar": "Contents",
   "toc_cell": false,
   "toc_position": {
    "height": "calc(100% - 180px)",
    "left": "10px",
    "top": "150px",
    "width": "384px"
   },
   "toc_section_display": true,
   "toc_window_display": true
  },
  "widgets": {
   "application/vnd.jupyter.widget-state+json": {
    "0de1f271c85a490db7b212f29a2e98db": {
     "model_module": "@jupyter-widgets/base",
     "model_name": "LayoutModel",
     "state": {
      "_model_module": "@jupyter-widgets/base",
      "_model_module_version": "1.2.0",
      "_model_name": "LayoutModel",
      "_view_count": null,
      "_view_module": "@jupyter-widgets/base",
      "_view_module_version": "1.2.0",
      "_view_name": "LayoutView",
      "align_content": null,
      "align_items": null,
      "align_self": null,
      "border": null,
      "bottom": null,
      "display": null,
      "flex": null,
      "flex_flow": null,
      "grid_area": null,
      "grid_auto_columns": null,
      "grid_auto_flow": null,
      "grid_auto_rows": null,
      "grid_column": null,
      "grid_gap": null,
      "grid_row": null,
      "grid_template_areas": null,
      "grid_template_columns": null,
      "grid_template_rows": null,
      "height": null,
      "justify_content": null,
      "justify_items": null,
      "left": null,
      "margin": null,
      "max_height": null,
      "max_width": null,
      "min_height": null,
      "min_width": null,
      "object_fit": null,
      "object_position": null,
      "order": null,
      "overflow": null,
      "overflow_x": null,
      "overflow_y": null,
      "padding": null,
      "right": null,
      "top": null,
      "visibility": null,
      "width": null
     }
    },
    "1bb877b53ce64c5c89a0e0fddf99510f": {
     "model_module": "@jupyter-widgets/controls",
     "model_name": "FloatProgressModel",
     "state": {
      "_dom_classes": [],
      "_model_module": "@jupyter-widgets/controls",
      "_model_module_version": "1.5.0",
      "_model_name": "FloatProgressModel",
      "_view_count": null,
      "_view_module": "@jupyter-widgets/controls",
      "_view_module_version": "1.5.0",
      "_view_name": "ProgressView",
      "bar_style": "success",
      "description": "100%",
      "description_tooltip": null,
      "layout": "IPY_MODEL_8f31d4f3e4f343c2b45596c7a8acd798",
      "max": 100,
      "min": 0,
      "orientation": "horizontal",
      "style": "IPY_MODEL_9113c8e51cb44ccba8f7d76dcaf1f2b3",
      "value": 100
     }
    },
    "2249f632765e44fb873c5b52e38952b3": {
     "model_module": "@jupyter-widgets/controls",
     "model_name": "HBoxModel",
     "state": {
      "_dom_classes": [],
      "_model_module": "@jupyter-widgets/controls",
      "_model_module_version": "1.5.0",
      "_model_name": "HBoxModel",
      "_view_count": null,
      "_view_module": "@jupyter-widgets/controls",
      "_view_module_version": "1.5.0",
      "_view_name": "HBoxView",
      "box_style": "",
      "children": [
       "IPY_MODEL_2c444039590c49d7b0ba75e37b9396a2",
       "IPY_MODEL_779b8d08fe4d424296bd06322a8c055b"
      ],
      "layout": "IPY_MODEL_ea24cf68548440d6bb27527e1e8b231a"
     }
    },
    "239a06e64dee49a0bc6a64ae48782dfa": {
     "model_module": "@jupyter-widgets/base",
     "model_name": "LayoutModel",
     "state": {
      "_model_module": "@jupyter-widgets/base",
      "_model_module_version": "1.2.0",
      "_model_name": "LayoutModel",
      "_view_count": null,
      "_view_module": "@jupyter-widgets/base",
      "_view_module_version": "1.2.0",
      "_view_name": "LayoutView",
      "align_content": null,
      "align_items": null,
      "align_self": null,
      "border": null,
      "bottom": null,
      "display": null,
      "flex": null,
      "flex_flow": null,
      "grid_area": null,
      "grid_auto_columns": null,
      "grid_auto_flow": null,
      "grid_auto_rows": null,
      "grid_column": null,
      "grid_gap": null,
      "grid_row": null,
      "grid_template_areas": null,
      "grid_template_columns": null,
      "grid_template_rows": null,
      "height": null,
      "justify_content": null,
      "justify_items": null,
      "left": null,
      "margin": null,
      "max_height": null,
      "max_width": null,
      "min_height": null,
      "min_width": null,
      "object_fit": null,
      "object_position": null,
      "order": null,
      "overflow": null,
      "overflow_x": null,
      "overflow_y": null,
      "padding": null,
      "right": null,
      "top": null,
      "visibility": null,
      "width": null
     }
    },
    "2708bb5b48024a0a97470b123004e914": {
     "model_module": "@jupyter-widgets/controls",
     "model_name": "ProgressStyleModel",
     "state": {
      "_model_module": "@jupyter-widgets/controls",
      "_model_module_version": "1.5.0",
      "_model_name": "ProgressStyleModel",
      "_view_count": null,
      "_view_module": "@jupyter-widgets/base",
      "_view_module_version": "1.2.0",
      "_view_name": "StyleView",
      "bar_color": null,
      "description_width": "initial"
     }
    },
    "2c444039590c49d7b0ba75e37b9396a2": {
     "model_module": "@jupyter-widgets/controls",
     "model_name": "FloatProgressModel",
     "state": {
      "_dom_classes": [],
      "_model_module": "@jupyter-widgets/controls",
      "_model_module_version": "1.5.0",
      "_model_name": "FloatProgressModel",
      "_view_count": null,
      "_view_module": "@jupyter-widgets/controls",
      "_view_module_version": "1.5.0",
      "_view_name": "ProgressView",
      "bar_style": "success",
      "description": "100%",
      "description_tooltip": null,
      "layout": "IPY_MODEL_239a06e64dee49a0bc6a64ae48782dfa",
      "max": 500,
      "min": 0,
      "orientation": "horizontal",
      "style": "IPY_MODEL_2708bb5b48024a0a97470b123004e914",
      "value": 500
     }
    },
    "2e9111de005e458faa5dadf8f4757ce0": {
     "model_module": "@jupyter-widgets/base",
     "model_name": "LayoutModel",
     "state": {
      "_model_module": "@jupyter-widgets/base",
      "_model_module_version": "1.2.0",
      "_model_name": "LayoutModel",
      "_view_count": null,
      "_view_module": "@jupyter-widgets/base",
      "_view_module_version": "1.2.0",
      "_view_name": "LayoutView",
      "align_content": null,
      "align_items": null,
      "align_self": null,
      "border": null,
      "bottom": null,
      "display": null,
      "flex": null,
      "flex_flow": null,
      "grid_area": null,
      "grid_auto_columns": null,
      "grid_auto_flow": null,
      "grid_auto_rows": null,
      "grid_column": null,
      "grid_gap": null,
      "grid_row": null,
      "grid_template_areas": null,
      "grid_template_columns": null,
      "grid_template_rows": null,
      "height": null,
      "justify_content": null,
      "justify_items": null,
      "left": null,
      "margin": null,
      "max_height": null,
      "max_width": null,
      "min_height": null,
      "min_width": null,
      "object_fit": null,
      "object_position": null,
      "order": null,
      "overflow": null,
      "overflow_x": null,
      "overflow_y": null,
      "padding": null,
      "right": null,
      "top": null,
      "visibility": null,
      "width": null
     }
    },
    "3c46c1b220494ef4830e6c1f6c75f2d3": {
     "model_module": "@jupyter-widgets/base",
     "model_name": "LayoutModel",
     "state": {
      "_model_module": "@jupyter-widgets/base",
      "_model_module_version": "1.2.0",
      "_model_name": "LayoutModel",
      "_view_count": null,
      "_view_module": "@jupyter-widgets/base",
      "_view_module_version": "1.2.0",
      "_view_name": "LayoutView",
      "align_content": null,
      "align_items": null,
      "align_self": null,
      "border": null,
      "bottom": null,
      "display": null,
      "flex": null,
      "flex_flow": null,
      "grid_area": null,
      "grid_auto_columns": null,
      "grid_auto_flow": null,
      "grid_auto_rows": null,
      "grid_column": null,
      "grid_gap": null,
      "grid_row": null,
      "grid_template_areas": null,
      "grid_template_columns": null,
      "grid_template_rows": null,
      "height": null,
      "justify_content": null,
      "justify_items": null,
      "left": null,
      "margin": null,
      "max_height": null,
      "max_width": null,
      "min_height": null,
      "min_width": null,
      "object_fit": null,
      "object_position": null,
      "order": null,
      "overflow": null,
      "overflow_x": null,
      "overflow_y": null,
      "padding": null,
      "right": null,
      "top": null,
      "visibility": null,
      "width": null
     }
    },
    "4e2682af756042e5808bb471c318a154": {
     "model_module": "@jupyter-widgets/base",
     "model_name": "LayoutModel",
     "state": {
      "_model_module": "@jupyter-widgets/base",
      "_model_module_version": "1.2.0",
      "_model_name": "LayoutModel",
      "_view_count": null,
      "_view_module": "@jupyter-widgets/base",
      "_view_module_version": "1.2.0",
      "_view_name": "LayoutView",
      "align_content": null,
      "align_items": null,
      "align_self": null,
      "border": null,
      "bottom": null,
      "display": null,
      "flex": null,
      "flex_flow": null,
      "grid_area": null,
      "grid_auto_columns": null,
      "grid_auto_flow": null,
      "grid_auto_rows": null,
      "grid_column": null,
      "grid_gap": null,
      "grid_row": null,
      "grid_template_areas": null,
      "grid_template_columns": null,
      "grid_template_rows": null,
      "height": null,
      "justify_content": null,
      "justify_items": null,
      "left": null,
      "margin": null,
      "max_height": null,
      "max_width": null,
      "min_height": null,
      "min_width": null,
      "object_fit": null,
      "object_position": null,
      "order": null,
      "overflow": null,
      "overflow_x": null,
      "overflow_y": null,
      "padding": null,
      "right": null,
      "top": null,
      "visibility": null,
      "width": null
     }
    },
    "70ccc0ca7efc48599f9514c6201b2073": {
     "model_module": "@jupyter-widgets/controls",
     "model_name": "DescriptionStyleModel",
     "state": {
      "_model_module": "@jupyter-widgets/controls",
      "_model_module_version": "1.5.0",
      "_model_name": "DescriptionStyleModel",
      "_view_count": null,
      "_view_module": "@jupyter-widgets/base",
      "_view_module_version": "1.2.0",
      "_view_name": "StyleView",
      "description_width": ""
     }
    },
    "779b8d08fe4d424296bd06322a8c055b": {
     "model_module": "@jupyter-widgets/controls",
     "model_name": "HTMLModel",
     "state": {
      "_dom_classes": [],
      "_model_module": "@jupyter-widgets/controls",
      "_model_module_version": "1.5.0",
      "_model_name": "HTMLModel",
      "_view_count": null,
      "_view_module": "@jupyter-widgets/controls",
      "_view_module_version": "1.5.0",
      "_view_name": "HTMLView",
      "description": "",
      "description_tooltip": null,
      "layout": "IPY_MODEL_0de1f271c85a490db7b212f29a2e98db",
      "placeholder": "​",
      "style": "IPY_MODEL_ec7d5619230044ab8149273a33c7d1db",
      "value": " 500/500 [00:13&lt;00:00, 38.17it/s]"
     }
    },
    "8f31d4f3e4f343c2b45596c7a8acd798": {
     "model_module": "@jupyter-widgets/base",
     "model_name": "LayoutModel",
     "state": {
      "_model_module": "@jupyter-widgets/base",
      "_model_module_version": "1.2.0",
      "_model_name": "LayoutModel",
      "_view_count": null,
      "_view_module": "@jupyter-widgets/base",
      "_view_module_version": "1.2.0",
      "_view_name": "LayoutView",
      "align_content": null,
      "align_items": null,
      "align_self": null,
      "border": null,
      "bottom": null,
      "display": null,
      "flex": null,
      "flex_flow": null,
      "grid_area": null,
      "grid_auto_columns": null,
      "grid_auto_flow": null,
      "grid_auto_rows": null,
      "grid_column": null,
      "grid_gap": null,
      "grid_row": null,
      "grid_template_areas": null,
      "grid_template_columns": null,
      "grid_template_rows": null,
      "height": null,
      "justify_content": null,
      "justify_items": null,
      "left": null,
      "margin": null,
      "max_height": null,
      "max_width": null,
      "min_height": null,
      "min_width": null,
      "object_fit": null,
      "object_position": null,
      "order": null,
      "overflow": null,
      "overflow_x": null,
      "overflow_y": null,
      "padding": null,
      "right": null,
      "top": null,
      "visibility": null,
      "width": null
     }
    },
    "9113c8e51cb44ccba8f7d76dcaf1f2b3": {
     "model_module": "@jupyter-widgets/controls",
     "model_name": "ProgressStyleModel",
     "state": {
      "_model_module": "@jupyter-widgets/controls",
      "_model_module_version": "1.5.0",
      "_model_name": "ProgressStyleModel",
      "_view_count": null,
      "_view_module": "@jupyter-widgets/base",
      "_view_module_version": "1.2.0",
      "_view_name": "StyleView",
      "bar_color": null,
      "description_width": "initial"
     }
    },
    "967cb446a5ee4a5a9f592104126b6aeb": {
     "model_module": "@jupyter-widgets/controls",
     "model_name": "HTMLModel",
     "state": {
      "_dom_classes": [],
      "_model_module": "@jupyter-widgets/controls",
      "_model_module_version": "1.5.0",
      "_model_name": "HTMLModel",
      "_view_count": null,
      "_view_module": "@jupyter-widgets/controls",
      "_view_module_version": "1.5.0",
      "_view_name": "HTMLView",
      "description": "",
      "description_tooltip": null,
      "layout": "IPY_MODEL_3c46c1b220494ef4830e6c1f6c75f2d3",
      "placeholder": "​",
      "style": "IPY_MODEL_996b5d7e77e14820ac4694ce102f3d2d",
      "value": " 100/100 [06:03&lt;00:00,  3.64s/it]"
     }
    },
    "996b5d7e77e14820ac4694ce102f3d2d": {
     "model_module": "@jupyter-widgets/controls",
     "model_name": "DescriptionStyleModel",
     "state": {
      "_model_module": "@jupyter-widgets/controls",
      "_model_module_version": "1.5.0",
      "_model_name": "DescriptionStyleModel",
      "_view_count": null,
      "_view_module": "@jupyter-widgets/base",
      "_view_module_version": "1.2.0",
      "_view_name": "StyleView",
      "description_width": ""
     }
    },
    "a37da43322f54d0cb3a587c85f87f146": {
     "model_module": "@jupyter-widgets/controls",
     "model_name": "HBoxModel",
     "state": {
      "_dom_classes": [],
      "_model_module": "@jupyter-widgets/controls",
      "_model_module_version": "1.5.0",
      "_model_name": "HBoxModel",
      "_view_count": null,
      "_view_module": "@jupyter-widgets/controls",
      "_view_module_version": "1.5.0",
      "_view_name": "HBoxView",
      "box_style": "",
      "children": [
       "IPY_MODEL_1bb877b53ce64c5c89a0e0fddf99510f",
       "IPY_MODEL_967cb446a5ee4a5a9f592104126b6aeb"
      ],
      "layout": "IPY_MODEL_2e9111de005e458faa5dadf8f4757ce0"
     }
    },
    "a41a857b0bcf4d16b95599f019f125bf": {
     "model_module": "@jupyter-widgets/controls",
     "model_name": "ProgressStyleModel",
     "state": {
      "_model_module": "@jupyter-widgets/controls",
      "_model_module_version": "1.5.0",
      "_model_name": "ProgressStyleModel",
      "_view_count": null,
      "_view_module": "@jupyter-widgets/base",
      "_view_module_version": "1.2.0",
      "_view_name": "StyleView",
      "bar_color": null,
      "description_width": "initial"
     }
    },
    "bf8163e5e5d640dc94e74413ce3137b5": {
     "model_module": "@jupyter-widgets/controls",
     "model_name": "FloatProgressModel",
     "state": {
      "_dom_classes": [],
      "_model_module": "@jupyter-widgets/controls",
      "_model_module_version": "1.5.0",
      "_model_name": "FloatProgressModel",
      "_view_count": null,
      "_view_module": "@jupyter-widgets/controls",
      "_view_module_version": "1.5.0",
      "_view_name": "ProgressView",
      "bar_style": "success",
      "description": "100%",
      "description_tooltip": null,
      "layout": "IPY_MODEL_4e2682af756042e5808bb471c318a154",
      "max": 500,
      "min": 0,
      "orientation": "horizontal",
      "style": "IPY_MODEL_a41a857b0bcf4d16b95599f019f125bf",
      "value": 500
     }
    },
    "c1048481b4694b12ab408fcb1ddb8b31": {
     "model_module": "@jupyter-widgets/controls",
     "model_name": "HBoxModel",
     "state": {
      "_dom_classes": [],
      "_model_module": "@jupyter-widgets/controls",
      "_model_module_version": "1.5.0",
      "_model_name": "HBoxModel",
      "_view_count": null,
      "_view_module": "@jupyter-widgets/controls",
      "_view_module_version": "1.5.0",
      "_view_name": "HBoxView",
      "box_style": "",
      "children": [
       "IPY_MODEL_bf8163e5e5d640dc94e74413ce3137b5",
       "IPY_MODEL_d6d149b77d024d8a81f0df42ee176200"
      ],
      "layout": "IPY_MODEL_c17715512f7c44ca9a1126844f832a41"
     }
    },
    "c17715512f7c44ca9a1126844f832a41": {
     "model_module": "@jupyter-widgets/base",
     "model_name": "LayoutModel",
     "state": {
      "_model_module": "@jupyter-widgets/base",
      "_model_module_version": "1.2.0",
      "_model_name": "LayoutModel",
      "_view_count": null,
      "_view_module": "@jupyter-widgets/base",
      "_view_module_version": "1.2.0",
      "_view_name": "LayoutView",
      "align_content": null,
      "align_items": null,
      "align_self": null,
      "border": null,
      "bottom": null,
      "display": null,
      "flex": null,
      "flex_flow": null,
      "grid_area": null,
      "grid_auto_columns": null,
      "grid_auto_flow": null,
      "grid_auto_rows": null,
      "grid_column": null,
      "grid_gap": null,
      "grid_row": null,
      "grid_template_areas": null,
      "grid_template_columns": null,
      "grid_template_rows": null,
      "height": null,
      "justify_content": null,
      "justify_items": null,
      "left": null,
      "margin": null,
      "max_height": null,
      "max_width": null,
      "min_height": null,
      "min_width": null,
      "object_fit": null,
      "object_position": null,
      "order": null,
      "overflow": null,
      "overflow_x": null,
      "overflow_y": null,
      "padding": null,
      "right": null,
      "top": null,
      "visibility": null,
      "width": null
     }
    },
    "d6d149b77d024d8a81f0df42ee176200": {
     "model_module": "@jupyter-widgets/controls",
     "model_name": "HTMLModel",
     "state": {
      "_dom_classes": [],
      "_model_module": "@jupyter-widgets/controls",
      "_model_module_version": "1.5.0",
      "_model_name": "HTMLModel",
      "_view_count": null,
      "_view_module": "@jupyter-widgets/controls",
      "_view_module_version": "1.5.0",
      "_view_name": "HTMLView",
      "description": "",
      "description_tooltip": null,
      "layout": "IPY_MODEL_f3806fac15e545f597473d41d3708200",
      "placeholder": "​",
      "style": "IPY_MODEL_70ccc0ca7efc48599f9514c6201b2073",
      "value": " 500/500 [00:08&lt;00:00, 56.35it/s]"
     }
    },
    "ea24cf68548440d6bb27527e1e8b231a": {
     "model_module": "@jupyter-widgets/base",
     "model_name": "LayoutModel",
     "state": {
      "_model_module": "@jupyter-widgets/base",
      "_model_module_version": "1.2.0",
      "_model_name": "LayoutModel",
      "_view_count": null,
      "_view_module": "@jupyter-widgets/base",
      "_view_module_version": "1.2.0",
      "_view_name": "LayoutView",
      "align_content": null,
      "align_items": null,
      "align_self": null,
      "border": null,
      "bottom": null,
      "display": null,
      "flex": null,
      "flex_flow": null,
      "grid_area": null,
      "grid_auto_columns": null,
      "grid_auto_flow": null,
      "grid_auto_rows": null,
      "grid_column": null,
      "grid_gap": null,
      "grid_row": null,
      "grid_template_areas": null,
      "grid_template_columns": null,
      "grid_template_rows": null,
      "height": null,
      "justify_content": null,
      "justify_items": null,
      "left": null,
      "margin": null,
      "max_height": null,
      "max_width": null,
      "min_height": null,
      "min_width": null,
      "object_fit": null,
      "object_position": null,
      "order": null,
      "overflow": null,
      "overflow_x": null,
      "overflow_y": null,
      "padding": null,
      "right": null,
      "top": null,
      "visibility": null,
      "width": null
     }
    },
    "ec7d5619230044ab8149273a33c7d1db": {
     "model_module": "@jupyter-widgets/controls",
     "model_name": "DescriptionStyleModel",
     "state": {
      "_model_module": "@jupyter-widgets/controls",
      "_model_module_version": "1.5.0",
      "_model_name": "DescriptionStyleModel",
      "_view_count": null,
      "_view_module": "@jupyter-widgets/base",
      "_view_module_version": "1.2.0",
      "_view_name": "StyleView",
      "description_width": ""
     }
    },
    "f3806fac15e545f597473d41d3708200": {
     "model_module": "@jupyter-widgets/base",
     "model_name": "LayoutModel",
     "state": {
      "_model_module": "@jupyter-widgets/base",
      "_model_module_version": "1.2.0",
      "_model_name": "LayoutModel",
      "_view_count": null,
      "_view_module": "@jupyter-widgets/base",
      "_view_module_version": "1.2.0",
      "_view_name": "LayoutView",
      "align_content": null,
      "align_items": null,
      "align_self": null,
      "border": null,
      "bottom": null,
      "display": null,
      "flex": null,
      "flex_flow": null,
      "grid_area": null,
      "grid_auto_columns": null,
      "grid_auto_flow": null,
      "grid_auto_rows": null,
      "grid_column": null,
      "grid_gap": null,
      "grid_row": null,
      "grid_template_areas": null,
      "grid_template_columns": null,
      "grid_template_rows": null,
      "height": null,
      "justify_content": null,
      "justify_items": null,
      "left": null,
      "margin": null,
      "max_height": null,
      "max_width": null,
      "min_height": null,
      "min_width": null,
      "object_fit": null,
      "object_position": null,
      "order": null,
      "overflow": null,
      "overflow_x": null,
      "overflow_y": null,
      "padding": null,
      "right": null,
      "top": null,
      "visibility": null,
      "width": null
     }
    }
   }
  }
 },
 "nbformat": 4,
 "nbformat_minor": 1
}
