{
 "cells": [
  {
   "cell_type": "markdown",
   "metadata": {
    "colab_type": "text",
    "id": "iALm8shtXMVK"
   },
   "source": [
    "# Recurrent Neural Networks\n",
    "\n",
    "All the models we have discussed so far were looking at the inputs as isolated instances. In image classification we determine the category of and image, in semantic segmentation we produce a semantic map from the input. But there are many cases were datapoints are not isolated instances and have connection to each other. Sequential data are the type of data where each instance is related to the instances came before. A good example for this type of data is time series data. At each point in time to the value of the time series depends on the value of the prior points. Recurrent Neural Networks (RNN) are a class of networks which deal with sequential data. There are many variants of Recurrent Neural Networks, including:\n",
    "\n",
    "- Simple Recurrect Neural Networks (Simple RNN - or often just called RNN)\n",
    "- Long Short-Term Memory (LSTM)\n",
    "- Gated Recurrent Unit (GRU)\n",
    "\n",
    "In this notebook we will discuss LSTM; however, the general logic behind all these methods are the same. They only differ in the way they handel information internally. \n",
    "<img src='./images/RNN.png'>\n",
    "<div style=\"font-size:70%\">Recurrent Neural Networks Architecture - Credit to <a href='https://journals.plos.org/plosone/article?id=10.1371/journal.pone.0180944'>Bao et al.</a></div>\n",
    "At each step a set of values are stored as state of the model ($s$). The state is updated at each step and based on the value of the state the output of the model is calculated by passing state through the output layer ($V$). Also, the model takes an input $x_t$ and passes it through an input layer ($U$), The output of this layer is combined with the state of previous step and creates the new state ($s_t$). What is important here is that the input and output layers are the same for all the sequences of data. What makes the output different at each step are the input values and state of the model. <br>\n",
    "Various architectures handel updating the state value differently and this is the main difference between Simple RNN, LSTM, and GRU. "
   ]
  },
  {
   "cell_type": "markdown",
   "metadata": {},
   "source": [
    "## Single Variate Time Series\n",
    " Recurrent Neural Networks can be quite useful for time series forecasting due to their ability to understand sequential nature of data. For the start we can see how an LSTM can forcast a time series with only one variable."
   ]
  },
  {
   "cell_type": "markdown",
   "metadata": {},
   "source": [
    "### Predicting Sine Function\n",
    "In the first example we will use an LSTM model to predict the value of sine function. Since the sine function is easy to calculate we can easily evaluate the performance of the model. "
   ]
  },
  {
   "cell_type": "code",
   "execution_count": null,
   "metadata": {
    "colab": {},
    "colab_type": "code",
    "id": "eXmrb7haVf1f"
   },
   "outputs": [],
   "source": [
    "import torch\n",
    "from torch import nn, optim\n",
    "from torch import functional as F\n",
    "from torch.autograd import Variable\n",
    "import numpy as np\n",
    "import matplotlib.pyplot as plt\n",
    "from tqdm.auto import tqdm"
   ]
  },
  {
   "cell_type": "markdown",
   "metadata": {},
   "source": [
    "Let's create some data for training:"
   ]
  },
  {
   "cell_type": "code",
   "execution_count": null,
   "metadata": {
    "colab": {},
    "colab_type": "code",
    "id": "HRbaIjQaVxRF"
   },
   "outputs": [],
   "source": [
    "t = np.linspace(0, 100, 1000)\n",
    "sine = np.sin(t)"
   ]
  },
  {
   "cell_type": "code",
   "execution_count": null,
   "metadata": {
    "colab": {
     "base_uri": "https://localhost:8080/",
     "height": 282
    },
    "colab_type": "code",
    "id": "TkCUDqPfWF17",
    "outputId": "6a0fb3c3-4bfd-4245-bf31-4ca70b914330"
   },
   "outputs": [],
   "source": [
    "plt.plot(t, sine)"
   ]
  },
  {
   "cell_type": "markdown",
   "metadata": {
    "colab_type": "text",
    "id": "kSFDSn41i84G"
   },
   "source": [
    "#### Creating the model\n",
    "In an LSTM the model takes one data point at the time and produces an output. This output is also called the hidden state. We can use the hidden state to calculate the next value in the sequence. The hidden state helps the model to remember what happened before and not just look at each point as an isolated instance. <br>\n",
    "Pytorch LSTM component can needs a few inputs:\n",
    "- __input_size:__ The size of the input data. In this example since we are dealing with a single variate data we pass in one value at a time, therefore, the input size is one.\n",
    "- __hidden_size:__ This represents how many values should be stored as the hidden state in the model. Larger values allows model to understand more complex patterns in the data.\n",
    "- __num_layers:__ This value refers to the number of layers in the LSTM block. Similar to what we saw in tabular data, having multiple layers allows the model to work with more complex patterns.\n",
    "\n",
    "When we are creating our model we add a linear layer as well which will be our output layer. The output layer converts the hidden state to output value. Depending on what we want the output to be we can choose the size of output as well. In this example, we are trying to find the next value in the series, therefore, the model only returns a single value.\n",
    "\n",
    "TODO, Mike add fig\n",
    "TODO Make a coherent story\n",
    "- there are multiple ways to frame a timeseries prediction problem\n",
    "    - windowed - fixed content length\n",
    "    - recursive - promises to let the network decide on context length\n",
    "- couldn't get recursive timeseries prediction to work with just a linear layer. The problem is exploding and vanishing gradients.\n",
    "    - LSTM gives it ability to forget and remember\n",
    "- LSTM's have got SOTA result on many datasets. they are quite robust, and win a lot of competitions."
   ]
  },
  {
   "cell_type": "code",
   "execution_count": null,
   "metadata": {
    "colab": {},
    "colab_type": "code",
    "id": "z3ZJWs-CWJTo"
   },
   "outputs": [],
   "source": [
    "# TODO use just seq(LSTM, linear)\n",
    "\n",
    "class LSTM(nn.Module):\n",
    "    def __init__(self, input_size, hidden_size, num_layers, output_size=1):\n",
    "        super(LSTM, self).__init__()\n",
    "        self.num_layers = num_layers\n",
    "        self.input_size = input_size\n",
    "        self.hidden_size = hidden_size\n",
    "        self.seq_length = seq_length\n",
    "        self.lstm = nn.LSTM(\n",
    "            input_size=input_size,\n",
    "            hidden_size=hidden_size,\n",
    "            num_layers=num_layers,\n",
    "            batch_first=True,\n",
    "        )\n",
    "        self.linear = nn.Linear(hidden_size, output_size)\n",
    "\n",
    "    def forward(self, x):\n",
    "        device = next(iter(self.parameters())).device\n",
    "        h_0 = Variable(torch.zeros(self.num_layers, x.size(0), self.hidden_size)).to(device)\n",
    "        c_0 = Variable(torch.zeros(self.num_layers, x.size(0), self.hidden_size)).to(device)\n",
    "        output, (h_n, c_n) = self.lstm(x, (h_0, c_0))\n",
    "        h_n = h_n.view(-1, self.num_layers, self.hidden_size)[:, -1]\n",
    "        out = self.linear(h_n)\n",
    "        return out"
   ]
  },
  {
   "cell_type": "code",
   "execution_count": null,
   "metadata": {},
   "outputs": [],
   "source": [
    "# lstm = nn.LSTM(\n",
    "#             input_size=3,\n",
    "#             hidden_size=44,\n",
    "#             num_layers=2,\n",
    "#             batch_first=True,\n",
    "# )\n",
    "# lstm?"
   ]
  },
  {
   "cell_type": "markdown",
   "metadata": {},
   "source": [
    "### Preparing Data\n",
    "The data for an LSTM model is a bit different from what we have seen so far. Since this model is supposed to look at a few data points to predict the next one, data needs to be broken down to smaller sections. At each step we pass a few data points into the model and the model will forecast the next. The longer this sequence of input is the better the model will be, however, this also means we require larger memory and longer training time.<br>\n",
    "The function below will create the inputs and targets for the model.\n"
   ]
  },
  {
   "cell_type": "code",
   "execution_count": null,
   "metadata": {},
   "outputs": [],
   "source": [
    "def create_seq_data(series, seq_length):\n",
    "    sequence = []\n",
    "    target = []\n",
    "    for i in range(len(series) - 1 - seq_length):\n",
    "        sequence.append(series[i : i + seq_length])\n",
    "        target.append(series[i + 1])\n",
    "    return np.array(sequence), np.array(target)"
   ]
  },
  {
   "cell_type": "markdown",
   "metadata": {
    "colab_type": "text",
    "id": "QlDuDJZ2m4-a"
   },
   "source": [
    "Let's split the data into a training and test set. Note that here `x` contains sets of 5 consecutive numbers and `y` contains the respective number that comes after each serie."
   ]
  },
  {
   "cell_type": "code",
   "execution_count": null,
   "metadata": {
    "colab": {},
    "colab_type": "code",
    "id": "7Nun30E1mlme"
   },
   "outputs": [],
   "source": [
    "seq_length = 5\n",
    "x, y = create_seq_data(sine, seq_length)\n",
    "\n",
    "xtrain = x[:600, :]\n",
    "ytrain = y[:600]\n",
    "\n",
    "xtest = x[600:, :]\n",
    "ytest = y[600:]"
   ]
  },
  {
   "cell_type": "markdown",
   "metadata": {
    "colab_type": "text",
    "id": "LyIDJnNzoajf"
   },
   "source": [
    "Let's print xtrain to better understand what it contains."
   ]
  },
  {
   "cell_type": "code",
   "execution_count": null,
   "metadata": {
    "colab": {
     "base_uri": "https://localhost:8080/",
     "height": 136
    },
    "colab_type": "code",
    "id": "D_6Bp622ms4q",
    "outputId": "e2463f15-d627-4a58-c63f-3b2ca647f27d"
   },
   "outputs": [],
   "source": [
    "print(xtrain)"
   ]
  },
  {
   "cell_type": "markdown",
   "metadata": {},
   "source": [
    "Now we can create an instance of the model with input size of one (single variate series), one layer LSTM with hidden state size of 50."
   ]
  },
  {
   "cell_type": "code",
   "execution_count": null,
   "metadata": {
    "colab": {},
    "colab_type": "code",
    "id": "jkGyTt5hZwg6"
   },
   "outputs": [],
   "source": [
    "model = LSTM(input_size=1, hidden_size=50, num_layers=1)"
   ]
  },
  {
   "cell_type": "markdown",
   "metadata": {},
   "source": [
    "Also we need to choose the optimiser, and loss function. Let's use mean square error loss and ADAM optimiser."
   ]
  },
  {
   "cell_type": "code",
   "execution_count": null,
   "metadata": {},
   "outputs": [],
   "source": [
    "loss_func = torch.nn.MSELoss(reduction=\"mean\")\n",
    "optimizer = torch.optim.Adam(model.parameters(), lr=0.001)"
   ]
  },
  {
   "cell_type": "markdown",
   "metadata": {},
   "source": [
    "#### Training the model\n",
    "Now that all the components are ready we can train the model."
   ]
  },
  {
   "cell_type": "code",
   "execution_count": null,
   "metadata": {
    "colab": {
     "base_uri": "https://localhost:8080/",
     "height": 236,
     "referenced_widgets": [
      "2249f632765e44fb873c5b52e38952b3",
      "ea24cf68548440d6bb27527e1e8b231a",
      "2c444039590c49d7b0ba75e37b9396a2",
      "779b8d08fe4d424296bd06322a8c055b",
      "2708bb5b48024a0a97470b123004e914",
      "239a06e64dee49a0bc6a64ae48782dfa",
      "ec7d5619230044ab8149273a33c7d1db",
      "0de1f271c85a490db7b212f29a2e98db"
     ]
    },
    "colab_type": "code",
    "id": "Au3Ww4gjaJvd",
    "outputId": "f9c973f3-d710-4965-afa4-91bc07b52ad2"
   },
   "outputs": [],
   "source": [
    "epochs = 500\n",
    "model.train()\n",
    "for epoch in tqdm(range(epochs)):\n",
    "    input_values = torch.Tensor(xtrain).unsqueeze(-1)\n",
    "    optimizer.zero_grad()\n",
    "    preds = model(input_values)\n",
    "    loss = loss_func(preds, torch.Tensor(ytrain).unsqueeze(-1))\n",
    "    loss.backward()\n",
    "    optimizer.step()\n",
    "    if epoch % 50 == 0:\n",
    "        print('#{} Loss = {:.5f}'.format(epoch, loss.item()))"
   ]
  },
  {
   "cell_type": "markdown",
   "metadata": {},
   "source": [
    "Note that when using `xtrain` and `ytrain` we first converted them to tensors, then used `unsqueeze(-1)`. `unsqueeze(-1)` adds a dimension to the end of the tensor. Why did we do that? The reason is to specify that the model is dealing with only one value."
   ]
  },
  {
   "cell_type": "code",
   "execution_count": null,
   "metadata": {},
   "outputs": [],
   "source": [
    "print(\"Normal shape:\")\n",
    "print(torch.Tensor(xtrain).shape)\n",
    "print(\"\\nUnsqueezed(-1) shape\")\n",
    "print(torch.Tensor(xtrain).unsqueeze(-1).shape)"
   ]
  },
  {
   "cell_type": "markdown",
   "metadata": {},
   "source": [
    "Prior to unsqueezing the shape is the number of datapoints by the length of sequences. But after unsqueezing we have `1` as the last dimension which specifies that we are passing in one value. When we unsqueeze `y` we are specifying that the output is one value."
   ]
  },
  {
   "cell_type": "markdown",
   "metadata": {},
   "source": [
    "#### Forecasting\n",
    "Now let's look at the results and see how good the model is at forecasting."
   ]
  },
  {
   "cell_type": "code",
   "execution_count": null,
   "metadata": {
    "colab": {},
    "colab_type": "code",
    "id": "RnlPIriDznd-"
   },
   "outputs": [],
   "source": [
    "model_input = torch.Tensor(xtest).unsqueeze(-1)\n",
    "pred_test = model(model_input)"
   ]
  },
  {
   "cell_type": "code",
   "execution_count": null,
   "metadata": {
    "colab": {
     "base_uri": "https://localhost:8080/",
     "height": 333
    },
    "colab_type": "code",
    "id": "RM-J4ZxZ0EJX",
    "outputId": "4fc5a147-3343-4f0f-a96f-02f4f8bfd6c5"
   },
   "outputs": [],
   "source": [
    "plt.figure(figsize=(15, 5))\n",
    "plt.plot(to_numpy(pred_test), \"x\", label=\"Predictions\")\n",
    "plt.plot(ytest, label=\"Target\")\n",
    "plt.legend()"
   ]
  },
  {
   "cell_type": "code",
   "execution_count": null,
   "metadata": {
    "colab": {},
    "colab_type": "code",
    "id": "R2Nz6vSbqYDE",
    "lines_to_next_cell": 2
   },
   "outputs": [],
   "source": []
  },
  {
   "cell_type": "markdown",
   "metadata": {
    "colab_type": "text",
    "id": "ZZMPJEkXq35V"
   },
   "source": [
    "### Predicting Customers\n",
    "Let's start working with a real time series data with seasonality and trend. Unlike traditional techniques we don't need to tell the model about the trend and seasonality. LSTM will be able to recognise the patterns on its own."
   ]
  },
  {
   "cell_type": "markdown",
   "metadata": {},
   "source": [
    "#### Preparing Data"
   ]
  },
  {
   "cell_type": "code",
   "execution_count": null,
   "metadata": {
    "colab": {},
    "colab_type": "code",
    "id": "0-GS6-GLrBGT"
   },
   "outputs": [],
   "source": [
    "import pandas as pd"
   ]
  },
  {
   "cell_type": "code",
   "execution_count": null,
   "metadata": {
    "colab": {},
    "colab_type": "code",
    "id": "nWUjnJrOrVsr"
   },
   "outputs": [],
   "source": [
    "df = pd.read_csv(\"../../data/processed/Customers.csv\")"
   ]
  },
  {
   "cell_type": "code",
   "execution_count": null,
   "metadata": {
    "colab": {
     "base_uri": "https://localhost:8080/",
     "height": 282
    },
    "colab_type": "code",
    "id": "h8wQjjWtr1xk",
    "outputId": "a4605e4e-1d61-448b-9d4e-7ed5c3c7b9c8"
   },
   "outputs": [],
   "source": [
    "df[\"Customers\"].plot()"
   ]
  },
  {
   "cell_type": "markdown",
   "metadata": {},
   "source": [
    "To prepare the data for the model it is highly recommended to normalise the data. There are different ways to do that. You can use standard scaling or min-max scaling, etc. The advantage of normalisation is that the model doesn't need to deal with extremely large or extremely small values, which makes it more likely the model is able to forecast based on the pattern. Here, we will use `MinMaxScaler` from Scikit Learn package."
   ]
  },
  {
   "cell_type": "code",
   "execution_count": null,
   "metadata": {
    "colab": {
     "base_uri": "https://localhost:8080/",
     "height": 34
    },
    "colab_type": "code",
    "id": "Mh85UumUrZiL",
    "outputId": "afbd5dae-8497-473c-8c09-16d3b3b2ef28"
   },
   "outputs": [],
   "source": [
    "from sklearn.preprocessing import MinMaxScaler\n",
    "\n",
    "scaler = MinMaxScaler()\n",
    "data = scaler.fit_transform(df[[\"Customers\"]])"
   ]
  },
  {
   "cell_type": "markdown",
   "metadata": {},
   "source": [
    "Now we need to decide how many values to use for predicting. Here we are going to use 12, since we know data is monthly and has annual seasonality. Therefore seeing the past 12 months allows the model the see a full perioid. We can also choose larger or smaller values and see how it would affect the results."
   ]
  },
  {
   "cell_type": "code",
   "execution_count": null,
   "metadata": {},
   "outputs": [],
   "source": [
    "seq_length = 12\n",
    "x, y = create_seq_data(data, seq_length)\n",
    "x.shape, y.shape"
   ]
  },
  {
   "cell_type": "markdown",
   "metadata": {},
   "source": [
    "Note that the shape of `x` and `y` are now suitable for the model and we won't need to unsqueeze them anymore."
   ]
  },
  {
   "cell_type": "code",
   "execution_count": null,
   "metadata": {
    "colab": {},
    "colab_type": "code",
    "id": "4cluCEgXsCJI"
   },
   "outputs": [],
   "source": [
    "xtrain = x[:100, :, :]\n",
    "ytrain = y[:100, :]\n",
    "xtest = x[100:, :, :]\n",
    "ytest = y[100:, :]"
   ]
  },
  {
   "cell_type": "markdown",
   "metadata": {},
   "source": [
    "#### Training model\n",
    "We are going to use the same class as the last example so we only need to create a new instance of the same model."
   ]
  },
  {
   "cell_type": "code",
   "execution_count": null,
   "metadata": {
    "colab": {},
    "colab_type": "code",
    "id": "mSTzk6EKsRcY"
   },
   "outputs": [],
   "source": [
    "model = LSTM(1, 50, 1)\n",
    "loss_func = torch.nn.MSELoss(reduction=\"mean\")  # mean-squared error for regression\n",
    "optimizer = torch.optim.Adam(model.parameters(), lr=0.01)"
   ]
  },
  {
   "cell_type": "code",
   "execution_count": null,
   "metadata": {
    "colab": {},
    "colab_type": "code",
    "id": "g_7_hUjKslvF"
   },
   "outputs": [],
   "source": [
    "def train_model(model, x, y, epochs=1):\n",
    "    model.train()\n",
    "    for epoch in tqdm(range(epochs)):\n",
    "        input_values = torch.Tensor(x)\n",
    "        optimizer.zero_grad()\n",
    "        preds = model(input_values)\n",
    "        loss = loss_func(preds, torch.Tensor(y))\n",
    "        loss.backward()\n",
    "        optimizer.step()\n",
    "        if (epoch + 1) % 50 == 0:\n",
    "            print('#{} Loss = {:.5f}'.format(epoch + 1, loss.item()))"
   ]
  },
  {
   "cell_type": "code",
   "execution_count": null,
   "metadata": {
    "colab": {
     "base_uri": "https://localhost:8080/",
     "height": 236,
     "referenced_widgets": [
      "c1048481b4694b12ab408fcb1ddb8b31",
      "c17715512f7c44ca9a1126844f832a41",
      "bf8163e5e5d640dc94e74413ce3137b5",
      "d6d149b77d024d8a81f0df42ee176200",
      "a41a857b0bcf4d16b95599f019f125bf",
      "4e2682af756042e5808bb471c318a154",
      "70ccc0ca7efc48599f9514c6201b2073",
      "f3806fac15e545f597473d41d3708200"
     ]
    },
    "colab_type": "code",
    "id": "_RqKioH6s-36",
    "outputId": "f9458fd4-aabd-4ae0-b368-61c4c4db9b93"
   },
   "outputs": [],
   "source": [
    "train_model(model, xtrain, ytrain, 500)"
   ]
  },
  {
   "cell_type": "markdown",
   "metadata": {},
   "source": [
    "#### Results\n",
    "Let's check out how model performs when forecasting."
   ]
  },
  {
   "cell_type": "code",
   "execution_count": null,
   "metadata": {
    "colab": {},
    "colab_type": "code",
    "id": "KCXG6wFltXoU"
   },
   "outputs": [],
   "source": [
    "def test_model(model, x, y):\n",
    "    model.eval()\n",
    "    model_input = torch.Tensor(x)\n",
    "    pred_test = model(model_input)\n",
    "    plt.figure(figsize=(15, 5))\n",
    "    plt.plot(tp_numpy(pred_test), \":x\", label=\"Predictions\")\n",
    "    plt.plot(y, label=\"Target\")\n",
    "    plt.legend()"
   ]
  },
  {
   "cell_type": "code",
   "execution_count": null,
   "metadata": {
    "colab": {
     "base_uri": "https://localhost:8080/",
     "height": 320
    },
    "colab_type": "code",
    "id": "iZWmTwALwZ7K",
    "outputId": "c4858e54-450e-4191-e2c5-8abccf06d915"
   },
   "outputs": [],
   "source": [
    "test_model(model, xtrain, ytrain)"
   ]
  },
  {
   "cell_type": "code",
   "execution_count": null,
   "metadata": {
    "colab": {
     "base_uri": "https://localhost:8080/",
     "height": 323
    },
    "colab_type": "code",
    "id": "XsRc9J3otmov",
    "outputId": "d0c53dc0-3001-4934-e23d-fdee3018cbe4"
   },
   "outputs": [],
   "source": [
    "test_model(model, xtest, ytest)"
   ]
  },
  {
   "cell_type": "markdown",
   "metadata": {},
   "source": [
    "The predictions are not too bad but can certainly be improved. In most cases the model seems to underestimate the values. There are a number of techniques we can use to improve the results. One would be removing the trend from the data. By removing the trend the remaining values will be oscillating around zero and the pattern is much easier for the model to predict.<br>\n",
    "Another way to improve the model is by changing the size of the model. This can be very effective as it allows the model to handle more complex patterns."
   ]
  },
  {
   "cell_type": "markdown",
   "metadata": {},
   "source": [
    "#### Exercise 1\n",
    "As an exercise try to improve the performance of the model:\n",
    "1. Increase the sequence length from 12 to 18\n",
    "2. Increase the hidden size of the model from 50 to 100"
   ]
  },
  {
   "cell_type": "code",
   "execution_count": null,
   "metadata": {},
   "outputs": [],
   "source": [
    "# Code Here"
   ]
  },
  {
   "cell_type": "markdown",
   "metadata": {},
   "source": [
    "## Multivariate Time Series\n",
    "Now that we know how to train a model using LSTM let's start working on more difficult problems. In multivariate time series, as the name suggests, we have to deal with multiple values at a time. We need to find out how these values affect each other and forecast the next step. There are many variations to this problem. In this example we will try to forecast the value of a set of variables in the next time step. The goal is to forecast Temperature, Pressure, Relative Humidity, Wind Speed, and Dew Point, using their previous and current values."
   ]
  },
  {
   "cell_type": "markdown",
   "metadata": {},
   "source": [
    "#### Preparing Data"
   ]
  },
  {
   "cell_type": "code",
   "execution_count": null,
   "metadata": {
    "colab": {},
    "colab_type": "code",
    "id": "PJ_GLXwSu0-e"
   },
   "outputs": [],
   "source": [
    "import pandas as pd"
   ]
  },
  {
   "cell_type": "code",
   "execution_count": null,
   "metadata": {
    "colab": {},
    "colab_type": "code",
    "id": "MWNgM4Keytv7"
   },
   "outputs": [],
   "source": [
    "df = pd.read_csv(\"../../data/processed/Generated/energy_weather.csv\")"
   ]
  },
  {
   "cell_type": "code",
   "execution_count": null,
   "metadata": {
    "colab": {
     "base_uri": "https://localhost:8080/",
     "height": 394
    },
    "colab_type": "code",
    "id": "qKWe4Yug0ImY",
    "outputId": "d5624f3d-a335-4709-be65-5556ebb4ee09"
   },
   "outputs": [],
   "source": [
    "df.head()"
   ]
  },
  {
   "cell_type": "markdown",
   "metadata": {},
   "source": [
    "Select the columns we need."
   ]
  },
  {
   "cell_type": "code",
   "execution_count": null,
   "metadata": {
    "colab": {},
    "colab_type": "code",
    "id": "ijMk3dbS0J4c"
   },
   "outputs": [],
   "source": [
    "data = df[[\"T_out\", \"P_mbar\", \"RelH_out\", \"Windspeed\", \"Tdew\"]]"
   ]
  },
  {
   "cell_type": "markdown",
   "metadata": {},
   "source": [
    "This time we will use standard scaling to normalise the data."
   ]
  },
  {
   "cell_type": "code",
   "execution_count": null,
   "metadata": {
    "colab": {},
    "colab_type": "code",
    "id": "KZUjEnoZ1KHF"
   },
   "outputs": [],
   "source": [
    "from sklearn.preprocessing import StandardScaler\n",
    "\n",
    "scaler = StandardScaler()\n",
    "\n",
    "normalised = scaler.fit_transform(data)"
   ]
  },
  {
   "cell_type": "code",
   "execution_count": null,
   "metadata": {
    "colab": {
     "base_uri": "https://localhost:8080/",
     "height": 265
    },
    "colab_type": "code",
    "id": "YkHiIp3y2Pmc",
    "outputId": "2f029d17-b849-4530-bdfb-06f73742a305"
   },
   "outputs": [],
   "source": [
    "plt.plot(normalised, alpha=0.5)"
   ]
  },
  {
   "cell_type": "markdown",
   "metadata": {},
   "source": [
    "Similar to single variate time series, we need to create data in a form that each instance of data has the values for the past few time steps."
   ]
  },
  {
   "cell_type": "code",
   "execution_count": null,
   "metadata": {
    "colab": {},
    "colab_type": "code",
    "id": "UVSyCBig2Y8I"
   },
   "outputs": [],
   "source": [
    "def create_multi_seq_data(series, seq_length):\n",
    "    sequence = []\n",
    "    target = []\n",
    "    for i in range(len(series) - 1 - seq_length):\n",
    "        sequence.append(series[i : i + seq_length, :])\n",
    "        target.append(series[i + 1, :])\n",
    "    return np.array(sequence), np.array(target)"
   ]
  },
  {
   "cell_type": "markdown",
   "metadata": {},
   "source": [
    "Let's use 2 hours history for prediction. Therefore, the sequence length would be 12 (data points are recorded every 10 minutes)."
   ]
  },
  {
   "cell_type": "code",
   "execution_count": null,
   "metadata": {
    "colab": {},
    "colab_type": "code",
    "id": "c7ruQg-p2tOf"
   },
   "outputs": [],
   "source": [
    "seq_length = 12\n",
    "x, y = create_multi_seq_data(normalised, seq_length)\n",
    "\n",
    "# We take 90% of data for training and the rest for testing\n",
    "cutoff = int(len(x) * 0.9)\n",
    "\n",
    "xtrain = x[:cutoff, :, :]\n",
    "ytrain = y[:cutoff, :]\n",
    "\n",
    "xtest = x[cutoff:, :, :]\n",
    "ytest = y[cutoff:, :]"
   ]
  },
  {
   "cell_type": "markdown",
   "metadata": {
    "colab": {},
    "colab_type": "code",
    "id": "Ow4rkOgH296J"
   },
   "source": [
    "#### Training model\n",
    "We can still use the same class of model. We only need to set the size of input and output."
   ]
  },
  {
   "cell_type": "code",
   "execution_count": null,
   "metadata": {
    "colab": {},
    "colab_type": "code",
    "id": "4Yf3ORgo5P5V"
   },
   "outputs": [],
   "source": [
    "model = LSTM(5, 100, 1, 5)\n",
    "loss_func = torch.nn.MSELoss(reduction=\"mean\")  # mean-squared error for regression\n",
    "optimizer = torch.optim.Adam(model.parameters(), lr=0.01)"
   ]
  },
  {
   "cell_type": "code",
   "execution_count": null,
   "metadata": {
    "colab": {},
    "colab_type": "code",
    "id": "udJEFkEL5wuL"
   },
   "outputs": [],
   "source": [
    "def train_model(model, x, y, epochs=1):\n",
    "    model.train()\n",
    "    for epoch in tqdm(range(epochs)):\n",
    "        input_values = torch.Tensor(x)\n",
    "        optimizer.zero_grad()\n",
    "        preds = model(input_values)\n",
    "        loss = loss_func(preds, torch.Tensor(y))\n",
    "        loss.backward()\n",
    "        optimizer.step()\n",
    "        if (epoch + 1) % 20 == 0:\n",
    "            print('#{} Loss = {:.5f}'.format(epoch + 1, loss.item()), end=\"\\r\", flush=True)"
   ]
  },
  {
   "cell_type": "code",
   "execution_count": null,
   "metadata": {
    "colab": {
     "base_uri": "https://localhost:8080/",
     "height": 1000,
     "referenced_widgets": [
      "a37da43322f54d0cb3a587c85f87f146",
      "2e9111de005e458faa5dadf8f4757ce0",
      "1bb877b53ce64c5c89a0e0fddf99510f",
      "967cb446a5ee4a5a9f592104126b6aeb",
      "9113c8e51cb44ccba8f7d76dcaf1f2b3",
      "8f31d4f3e4f343c2b45596c7a8acd798",
      "996b5d7e77e14820ac4694ce102f3d2d",
      "3c46c1b220494ef4830e6c1f6c75f2d3"
     ]
    },
    "colab_type": "code",
    "id": "oSOPC4SX6KKF",
    "outputId": "a6ea4543-74d7-40ce-abaa-d217ae3b70c6"
   },
   "outputs": [],
   "source": [
    "train_model(model, xtrain, ytrain, 100)"
   ]
  },
  {
   "cell_type": "markdown",
   "metadata": {},
   "source": [
    "Note that in the examples so far we didn't print the loss value for the test set. Generally, it is recommended to uses loss value of test set to check if the model is overfitting or not."
   ]
  },
  {
   "cell_type": "markdown",
   "metadata": {},
   "source": [
    "#### Results\n",
    "If the loss is low enough we can print the results and see how the model is doing in terms of forecasting."
   ]
  },
  {
   "cell_type": "code",
   "execution_count": null,
   "metadata": {
    "colab": {},
    "colab_type": "code",
    "id": "tC2aNxOB7iRy"
   },
   "outputs": [],
   "source": [
    "def test_model(model, x, y, plot_results=False):\n",
    "    model.eval()\n",
    "    model_input = torch.Tensor(x)\n",
    "    pred_test = to_numpy(model(model_input))\n",
    "    mse = ((pred_test - y) ** 2).mean()\n",
    "    print('MSE = {:.5f}'.format(mse))\n",
    "    if plot_results:\n",
    "        plt.figure(figsize=(15, 5))\n",
    "        plt.plot(pred_test, \":x\", label=\"Predictions\")\n",
    "        plt.plot(y, label=\"Target\")\n",
    "        plt.legend()\n",
    "    return pred_test"
   ]
  },
  {
   "cell_type": "code",
   "execution_count": null,
   "metadata": {
    "colab": {
     "base_uri": "https://localhost:8080/",
     "height": 337
    },
    "colab_type": "code",
    "id": "hGV437-s80Pt",
    "outputId": "35c3989d-1265-4d6d-ea5b-c1a4dec541f8"
   },
   "outputs": [],
   "source": [
    "preds = test_model(model, xtest, ytest, True)"
   ]
  },
  {
   "cell_type": "code",
   "execution_count": null,
   "metadata": {
    "colab": {
     "base_uri": "https://localhost:8080/",
     "height": 1000
    },
    "colab_type": "code",
    "id": "faZk8mPp90pf",
    "outputId": "0c0e3cfb-9ec6-43b2-da82-459b5c16cec9"
   },
   "outputs": [],
   "source": [
    "for i in range(5):\n",
    "    plt.figure(figsize=(15, 4))\n",
    "    plt.plot(ytest[:, i], label=\"Target\")\n",
    "    plt.plot(preds[:, i], label=\"Prediction\")\n",
    "    plt.legend()"
   ]
  },
  {
   "cell_type": "markdown",
   "metadata": {
    "colab_type": "text",
    "id": "vaL6j3pkCen3"
   },
   "source": [
    "## Classification\n",
    "So far we tried single and multivariate time series using LSTM. But LSTMs are very flexible and useful for wide range of problems. For instance, we can have multi input and single output, or use a series to predict an entire different series. We can also use LSTM for classification of time series. What makes LSTM (or other types of Recurrecnt Neural Networks) interesting is that they are not just useful for time series. They can be used for any data that has sequence of values. For instance, they can be used for text prediction. If we map every word to a number then you can turn a text into a series of numbers then LSTM can be used for predicting the next word.\n"
   ]
  },
  {
   "cell_type": "markdown",
   "metadata": {
    "colab_type": "text",
    "id": "kzlqXAj4EIBN"
   },
   "source": [
    "In this example we are going to look at well logs which are sequential data as well."
   ]
  },
  {
   "cell_type": "code",
   "execution_count": null,
   "metadata": {
    "colab": {
     "base_uri": "https://localhost:8080/",
     "height": 255
    },
    "colab_type": "code",
    "id": "uNl846nE-jjq",
    "outputId": "de7b4197-6a3f-4e88-e07e-2463adba90d0"
   },
   "outputs": [],
   "source": [
    "import pandas as pd\n",
    "\n",
    "df = pd.read_parquet(\n",
    "    \"../../data/processed/geolink_norge_dataset/geolink_norge_well_logs_train.parquet\"\n",
    ").set_index([\"Well\", \"DEPT\"])\n",
    "df['Well'] = df.index.get_level_values(0)\n",
    "df['DEPT'] = df.index.get_level_values(1)\n",
    "df.head()"
   ]
  },
  {
   "cell_type": "code",
   "execution_count": null,
   "metadata": {},
   "outputs": [],
   "source": [
    "# We  will stick to a gorup of long wells\n",
    "df=df[df['Well'].str.startswith('35')]"
   ]
  },
  {
   "cell_type": "code",
   "execution_count": null,
   "metadata": {},
   "outputs": [],
   "source": [
    "df['LITHOLOGY_GEOLINK']"
   ]
  },
  {
   "cell_type": "code",
   "execution_count": null,
   "metadata": {},
   "outputs": [],
   "source": [
    "# Remove unused categories\n",
    "df['LITHOLOGY_GEOLINK'] = df['LITHOLOGY_GEOLINK'].values.remove_unused_categories()\n",
    "\n",
    "# sort categories (leads to nicer histograms)\n",
    "i = df['LITHOLOGY_GEOLINK'].values\n",
    "litho_sorted = i.value_counts().sort_values(ascending=True).index\n",
    "df['LITHOLOGY_GEOLINK'] = i.reorder_categories(litho_sorted, ordered=True)\n",
    "\n",
    "df['LITHOLOGY_GEOLINK'] "
   ]
  },
  {
   "cell_type": "code",
   "execution_count": null,
   "metadata": {},
   "outputs": [],
   "source": [
    "# Add a well int, so the model will know what well we use\n",
    "well_index = df.index.get_level_values(0)\n",
    "well_int = well_index.rename_categories(range(len(well_index.categories))).astype(int)\n",
    "df['Well_int']= well_int\n",
    "df[['Well_int']]"
   ]
  },
  {
   "cell_type": "code",
   "execution_count": null,
   "metadata": {
    "colab": {
     "base_uri": "https://localhost:8080/",
     "height": 343
    },
    "colab_type": "code",
    "id": "v4wy8aXrFkoK",
    "outputId": "7fa90839-9af9-4d7f-e427-e1b214740312"
   },
   "outputs": [],
   "source": [
    "# Get a list of wells, ordered by frequency\n",
    "well_counts = df['Well'].value_counts()\n",
    "wells = list(well_counts.index)\n",
    "well_counts"
   ]
  },
  {
   "cell_type": "code",
   "execution_count": null,
   "metadata": {},
   "outputs": [],
   "source": [
    "# Select the N longest well logs\n",
    "n_wells = 10\n",
    "selected_wells = wells[:n_wells]\n",
    "df = df.loc[selected_wells]\n",
    "df"
   ]
  },
  {
   "cell_type": "code",
   "execution_count": null,
   "metadata": {},
   "outputs": [],
   "source": [
    "df['LITH_ABV'] = df[\"LITHOLOGY_GEOLINK\"].shift().fillna('Shaly Silt')\n",
    "df['LITH_ABV_INT'] = df['LITH_ABV'].values.codes\n",
    "df[['LITHOLOGY_GEOLINK', 'LITH_ABV']]"
   ]
  },
  {
   "cell_type": "code",
   "execution_count": null,
   "metadata": {},
   "outputs": [],
   "source": []
  },
  {
   "cell_type": "code",
   "execution_count": null,
   "metadata": {},
   "outputs": [],
   "source": [
    "# # We will train on measurements above Xkm depth, and test on deeper ones\n",
    "# d = df['DEPT']\n",
    "# test_depth = d.mean() + d.std()/2\n",
    "# print(test_depth)\n",
    "# df_train = df[df['DEPT']<test_depth]\n",
    "# df_test = df[df['DEPT']>test_depth]\n",
    "# df_train.shape, df_test.shape"
   ]
  },
  {
   "cell_type": "code",
   "execution_count": null,
   "metadata": {},
   "outputs": [],
   "source": [
    "# We will train on measurements above Xkm depth, and test on deeper ones\n",
    "# d = df['DEPT']\n",
    "# m = d.groupby(level=0).mean().dropna()\n",
    "# s = d.groupby(level=0).std().dropna()\n",
    "# test_depth = m+s/2\n",
    "# test_depth\n",
    "\n",
    "def get_test(x):\n",
    "    d = x['DEPT']\n",
    "    thresh = np.round(d.mean() + d.std() / 2)\n",
    "    x['thresh'] = thresh\n",
    "    return x[d>thresh]\n",
    "\n",
    "def get_train(x):\n",
    "    d = x['DEPT']\n",
    "    thresh = np.round(d.mean() + d.std() / 2)\n",
    "    x['thresh'] = thresh\n",
    "    return x[d<=thresh]\n",
    "\n",
    "df_test = df.groupby(level=0).apply(get_test)\n",
    "df_train = df.groupby(level=0).apply(get_train)\n",
    "print('train', df_train.shape, 'test', df_test.shape)\n",
    "print('Train {:.0%}, test {:.0%}'.format(len(df_train) / len(df), len(df_test) / len(df)))"
   ]
  },
  {
   "cell_type": "markdown",
   "metadata": {},
   "source": [
    "We will be using depth and other measurements to determine the lithology. We dealt with the same problem in the tablular data. But in tabular data we only look at the measurements at each depth to find the class, while here we can look at the variations in the measurements as well."
   ]
  },
  {
   "cell_type": "markdown",
   "metadata": {},
   "source": [
    "And add depth as a feature column:"
   ]
  },
  {
   "cell_type": "markdown",
   "metadata": {},
   "source": [
    "As usual we need to create a training and test set. here we will only use `15` wells for training and `15` for testing as using the entire dataset means we need to spend much longer time for training."
   ]
  },
  {
   "cell_type": "code",
   "execution_count": null,
   "metadata": {},
   "outputs": [],
   "source": []
  },
  {
   "cell_type": "markdown",
   "metadata": {},
   "source": [
    "We need to process the input and target data. The input data needs to be normalised with a standard scaler, and the output data needs to be converted from text to numbers. To convert text to numbers we use `LabelEncoder` from Scikit Learn."
   ]
  },
  {
   "cell_type": "code",
   "execution_count": null,
   "metadata": {},
   "outputs": [],
   "source": []
  },
  {
   "cell_type": "code",
   "execution_count": null,
   "metadata": {
    "lines_to_next_cell": 0
   },
   "outputs": [],
   "source": [
    "# # df['LITH_ID'] = encoder.transform(df.loc[:, \"LITHOLOGY_GEOLINK\"])\n",
    "# # df['LITH_ID'] = encoder.transform(df.loc[:, \"LITHOLOGY_GEOLINK\"])\n",
    "# df['LITH_ABV'] = df[\"LITHOLOGY_GEOLINK\"].shift().fillna('Shaly Silt')\n",
    "# df['LITH_ABV_INT'] = df['LITH_ABV'].values.codes\n",
    "# df[['LITHOLOGY_GEOLINK', 'LITH_ABV']]"
   ]
  },
  {
   "cell_type": "code",
   "execution_count": null,
   "metadata": {
    "lines_to_next_cell": 2
   },
   "outputs": [],
   "source": []
  },
  {
   "cell_type": "code",
   "execution_count": null,
   "metadata": {},
   "outputs": [],
   "source": [
    "from sklearn.preprocessing import StandardScaler, LabelEncoder\n",
    "\n",
    "scaler = StandardScaler()\n",
    "\n",
    "# Make a encoder, that order by frequency\n",
    "encoder = LabelEncoder()\n",
    "\n",
    "# TODO need to embed prev val..., one hot, then append\n",
    "encoder.classes_ = df[\"LITHOLOGY_GEOLINK\"].values.categories # np.array(counts.index.values)\n",
    "print(encoder.classes_)\n",
    "feat_cols = [\"CALI\", \"RHOB\", \"GR\", \"DTC\", \"RDEP\", \"RMED\", \"DEPT\", \"Well_int\", \"LITH_ABV_INT\"]\n",
    "scaler.fit(df[feat_cols].values)"
   ]
  },
  {
   "cell_type": "markdown",
   "metadata": {},
   "source": [
    "`LabelEncoder` converts each type to a value."
   ]
  },
  {
   "cell_type": "code",
   "execution_count": null,
   "metadata": {},
   "outputs": [],
   "source": [
    "encoder.transform([\"Shaly Silt\"])"
   ]
  },
  {
   "cell_type": "markdown",
   "metadata": {},
   "source": [
    "Now we can check the types at various depths:"
   ]
  },
  {
   "cell_type": "code",
   "execution_count": null,
   "metadata": {},
   "outputs": [],
   "source": [
    "# TODO nice plot, vertical, facies colors\n",
    "plt.figure(figsize=(16, 5))\n",
    "idx = 0\n",
    "x = df.loc[wells[idx], \"DEPT\"]\n",
    "y = encoder.transform(df.loc[wells[idx], \"LITHOLOGY_GEOLINK\"])\n",
    "plt.plot(x, y)"
   ]
  },
  {
   "cell_type": "markdown",
   "metadata": {},
   "source": [
    "The output of a classification model is a value for each type. The type with the highest value is the one the model thinks is most likely to be associated with the input data. Therefore, the output size of the model should be the number of types."
   ]
  },
  {
   "cell_type": "code",
   "execution_count": null,
   "metadata": {},
   "outputs": [],
   "source": [
    "output_size = len(df[\"LITHOLOGY_GEOLINK\"].unique())"
   ]
  },
  {
   "cell_type": "markdown",
   "metadata": {},
   "source": [
    "Let's create training and test set, similar to what we had in multivariate time series. The only difference is here for each sequence of values we want the model to predict a value for each type."
   ]
  },
  {
   "cell_type": "code",
   "execution_count": null,
   "metadata": {},
   "outputs": [],
   "source": []
  },
  {
   "cell_type": "code",
   "execution_count": null,
   "metadata": {},
   "outputs": [],
   "source": [
    "seq_length = 100\n",
    "\n",
    "x_train = []\n",
    "y_train = []\n",
    "features = scaler.transform(df_train.loc[:, feat_cols].values)\n",
    "targets = encoder.transform(df_train.loc[:, \"LITHOLOGY_GEOLINK\"])\n",
    "for i in range(len(targets) - seq_length):\n",
    "    xi = features[i : i + seq_length, :]\n",
    "    yi = targets[i + seq_length - 1]\n",
    "    x_train.append(xi)\n",
    "    y_train.append(yi)\n",
    "\n",
    "x_test = []\n",
    "y_test = []\n",
    "features = scaler.transform(df_test.loc[:, feat_cols].values)\n",
    "targets = encoder.transform(df_test.loc[:, \"LITHOLOGY_GEOLINK\"])\n",
    "for i in range(len(targets) - seq_length):\n",
    "    xi = features[i : i + seq_length, :]\n",
    "    yi = targets[i + seq_length - 1]\n",
    "    x_test.append(xi)\n",
    "    y_test.append(yi)"
   ]
  },
  {
   "cell_type": "code",
   "execution_count": null,
   "metadata": {},
   "outputs": [],
   "source": [
    "# x_test.mean(), x_test.std()"
   ]
  },
  {
   "cell_type": "markdown",
   "metadata": {},
   "source": [
    "It is important that we make sure the training and test set have close distribution. For instance, if there is a certain type in test data that doesn't exist in training data, the model will not be able to predict it."
   ]
  },
  {
   "cell_type": "code",
   "execution_count": null,
   "metadata": {},
   "outputs": [],
   "source": [
    "def to_numpy(x):\n",
    "    if isinstance(x, torch.Tensor):\n",
    "        x = x.cpu().detach().numpy()\n",
    "    return x\n",
    "\n",
    "def show_distribution(y):\n",
    "    y = to_numpy(y)\n",
    "    plt.hist(y, output_size * 2)\n",
    "    plt.xticks(ticks=range(len(encoder.classes_)), labels=encoder.classes_, rotation=90)"
   ]
  },
  {
   "cell_type": "code",
   "execution_count": null,
   "metadata": {},
   "outputs": [],
   "source": [
    "show_distribution(y_train)"
   ]
  },
  {
   "cell_type": "code",
   "execution_count": null,
   "metadata": {},
   "outputs": [],
   "source": [
    "show_distribution(y_test)"
   ]
  },
  {
   "cell_type": "code",
   "execution_count": null,
   "metadata": {},
   "outputs": [],
   "source": []
  },
  {
   "cell_type": "code",
   "execution_count": null,
   "metadata": {},
   "outputs": [],
   "source": [
    "device = \"cuda\" if torch.cuda.is_available() else \"cpu\"\n",
    "x_train = torch.Tensor(x_train).to(device)\n",
    "y_train = torch.LongTensor(y_train).to(device)\n",
    "x_test = torch.Tensor(x_test).to(device)\n",
    "y_test = torch.LongTensor(y_test).to(device)\n",
    "x_train.shape, y_train.shape, x_test.shape, device"
   ]
  },
  {
   "cell_type": "markdown",
   "metadata": {},
   "source": [
    "We can still use the same class for the model. Here the input size is the number of features we are using to predict the type, and output size is the number of types. "
   ]
  },
  {
   "cell_type": "code",
   "execution_count": null,
   "metadata": {},
   "outputs": [],
   "source": [
    "model = LSTM(\n",
    "    input_size=len(feat_cols),\n",
    "    hidden_size=16,\n",
    "    num_layers=3,\n",
    "    output_size=output_size,\n",
    ")\n",
    "model = model.to(device)\n",
    "model"
   ]
  },
  {
   "cell_type": "code",
   "execution_count": null,
   "metadata": {},
   "outputs": [],
   "source": []
  },
  {
   "cell_type": "code",
   "execution_count": null,
   "metadata": {},
   "outputs": [],
   "source": [
    "unique, counts = np.unique(to_numpy(y_train), return_counts=True)\n",
    "weight = torch.from_numpy(1/(counts+1e3))\n",
    "weight = None"
   ]
  },
  {
   "cell_type": "code",
   "execution_count": null,
   "metadata": {},
   "outputs": [],
   "source": [
    "optimizer = optim.Adam(model.parameters(), lr=0.001)\n",
    "torch.nn.CrossEntropyLoss(weight=weight)\n",
    "loss_func = torch.nn.CrossEntropyLoss()"
   ]
  },
  {
   "cell_type": "code",
   "execution_count": null,
   "metadata": {},
   "outputs": [],
   "source": [
    "from sklearn.metrics import accuracy_score, f1_score"
   ]
  },
  {
   "cell_type": "code",
   "execution_count": null,
   "metadata": {},
   "outputs": [],
   "source": [
    "def training_loop(epochs=1, bs=128):\n",
    "    pbar1 = tqdm(total=epochs)\n",
    "    pbar2 = tqdm(total=len(x_train) // bs)\n",
    "    all_losses = []\n",
    "    all_f1s = []\n",
    "    try:\n",
    "        for epoch in range(epochs):\n",
    "            model.train()\n",
    "            training_loss = []\n",
    "            training_f1 = []\n",
    "            pbar2.reset(len(x_train) // bs)\n",
    "            for i in range(0, len(x_train), bs):\n",
    "                optimizer.zero_grad()\n",
    "                preds = model(x_train[i : i + bs, ...])\n",
    "                loss = loss_func(preds, y_train[i : i + bs])\n",
    "                loss.backward()\n",
    "                optimizer.step()\n",
    "                training_loss.append(loss.item())\n",
    "                f1 = f1_score(\n",
    "                    to_numpy(y_train[i : i + bs]), to_numpy(preds).argmax(-1), average='weighted'\n",
    "                )\n",
    "                training_f1.append(f1)\n",
    "                pbar2.update(1)\n",
    "#                 print(\n",
    "#                     f\"Epoch {epoch+1}/{epochs}: Loss = {loss.item():.2f}, f1 = {f1:.3f}\",\n",
    "#                     end=\"\\r\",\n",
    "#                     flush=True,\n",
    "#                 )\n",
    "\n",
    "            print(\n",
    "                'Epoch {}/{}: Training Loss = {:.2f}, f1 = {:.3f}'.format(epoch + 1, epochs, np.mean(training_loss), np.mean(f1))\n",
    "            )\n",
    "\n",
    "            model.eval()\n",
    "            test_loss = []\n",
    "            test_f1 = []\n",
    "            pbar2.reset(len(x_test) // bs)\n",
    "            for i in range(0, len(x_test), bs):\n",
    "                preds = model(x_test[i : i + bs, ...])\n",
    "                loss = loss_func(preds, y_test[i : i + bs])\n",
    "                test_loss.append(loss.item())\n",
    "                f1 = f1_score(\n",
    "                    to_numpy(y_test[i : i + bs]), to_numpy(preds.argmax(-1)), average='weighted'\n",
    "                )\n",
    "                test_f1.append(f1)\n",
    "                pbar2.update(1)\n",
    "            print(\n",
    "                'Epoch {}/{}: Test Loss = {:.2f}, f1 = {:.3f}'.format(epoch + 1, epochs, np.mean(test_loss), np.mean(test_f1))\n",
    "            )\n",
    "            print(\"-\" * 50)\n",
    "            all_losses.append([np.mean(training_loss), np.mean(test_loss)])\n",
    "            all_f1s.append([np.mean(training_f1), np.mean(test_f1)])\n",
    "            pbar1.update(1)\n",
    "    except KeyboardInterrupt:\n",
    "        pass\n",
    "\n",
    "    # Visualising the results\n",
    "    all_losses = np.array(all_losses)\n",
    "    plt.plot(all_losses[:, 0], label=\"Training\")\n",
    "    plt.plot(all_losses[:, 1], label=\"Test\")\n",
    "    plt.title(\"Loss\")\n",
    "    plt.legend()\n",
    "    plt.figure()\n",
    "    all_f1s = np.array(all_f1s)\n",
    "    plt.plot(all_f1s[:, 0], label=\"Training\")\n",
    "    plt.plot(all_f1s[:, 1], label=\"Test\")\n",
    "    plt.title(\"f1\")\n",
    "    plt.legend()"
   ]
  },
  {
   "cell_type": "code",
   "execution_count": null,
   "metadata": {},
   "outputs": [],
   "source": []
  },
  {
   "cell_type": "markdown",
   "metadata": {},
   "source": [
    "Let's train for 10 epochs"
   ]
  },
  {
   "cell_type": "code",
   "execution_count": null,
   "metadata": {},
   "outputs": [],
   "source": [
    "training_loop(30, 1024)"
   ]
  },
  {
   "cell_type": "code",
   "execution_count": null,
   "metadata": {},
   "outputs": [],
   "source": [
    "preds = to_numpy(model(x_test).argmax(axis=-1))\n",
    "true = to_numpy(y_test)"
   ]
  },
  {
   "cell_type": "code",
   "execution_count": null,
   "metadata": {},
   "outputs": [],
   "source": [
    "# Baseline\n",
    "f1_score(true[1:],\n",
    "    true[:-1:], average='weighted')"
   ]
  },
  {
   "cell_type": "code",
   "execution_count": null,
   "metadata": {},
   "outputs": [],
   "source": [
    "# ours\n",
    "f1_score(true,\n",
    "    preds, average='weighted')"
   ]
  },
  {
   "cell_type": "code",
   "execution_count": null,
   "metadata": {},
   "outputs": [],
   "source": [
    "plt.hist(preds, bins=output_size * 2)\n",
    "plt.title(\"Model Predictions\")\n",
    "plt.xticks(np.arange(output_size))\n",
    "plt.figure()\n",
    "plt.hist(true, bins=output_size * 2)\n",
    "plt.title(\"Targets\")\n",
    "plt.xticks(np.arange(output_size))\n",
    "1"
   ]
  },
  {
   "cell_type": "code",
   "execution_count": null,
   "metadata": {},
   "outputs": [],
   "source": [
    "import pandas as pd\n",
    "import sklearn.metrics\n",
    "import numpy as np\n",
    "\n",
    "def classification_report(*args, **kwargs):\n",
    "    out_df = pd.DataFrame(sklearn.metrics.classification_report(*args, **kwargs, output_dict=True)).T\n",
    "    # Order cols\n",
    "    out_df[[\"precision\",\"recall\",\"f1-score\",\"support\"]]  \n",
    "    # Round\n",
    "    out_df[[\"precision\",\"recall\",\"f1-score\"]]= out_df[[\"precision\",\"recall\",\"f1-score\"]].apply(lambda x: round(x,2))\n",
    "    out_df[[\"support\"]]= out_df[[\"support\"]].apply(lambda x: x.astype(np.int))\n",
    "    return out_df"
   ]
  },
  {
   "cell_type": "code",
   "execution_count": null,
   "metadata": {},
   "outputs": [],
   "source": [
    "df_report = classification_report(preds, true, labels=range(len(encoder.classes_)), target_names=encoder.classes_)\n",
    "df_report"
   ]
  },
  {
   "cell_type": "code",
   "execution_count": null,
   "metadata": {
    "lines_to_next_cell": 0
   },
   "outputs": [],
   "source": [
    "cm = sklearn.metrics.confusion_matrix(preds, true, labels=range(len(encoder.classes_)))\n",
    "\n",
    "plt.figure(figsize=(20, 20))\n",
    "plt.title('Confusion Matrix')\n",
    "ax=plt.gca()\n",
    "disp = sklearn.metrics.ConfusionMatrixDisplay(confusion_matrix=cm,\n",
    "                              display_labels=encoder.classes_)\n",
    "disp.plot(ax=ax, xticks_rotation=90)\n",
    "plt.show()"
   ]
  },
  {
   "cell_type": "code",
   "execution_count": null,
   "metadata": {
    "lines_to_next_cell": 2
   },
   "outputs": [],
   "source": []
  },
  {
   "cell_type": "markdown",
   "metadata": {},
   "source": [
    "As we saw in the previous examples the model requires training over 100s of epochs to reach the best results. However, in this example due to large size of dataset and the model we stopped after `10` epochs. Try increasing the number of epochs to see how it will affect the accuracy.<br>\n",
    "\n",
    "Obviously the model right now is not performing well. But there are number ways we can improve it:\n",
    "1. Training for longer. instead of stopping after `10` epochs go for longer.\n",
    "2. Increase the hidden state size.\n",
    "3. Increase the size of training data by adding data from more wells to training. \n",
    "4. Increase the size of the sequences so the model get to look further in the history.\n",
    "\n",
    "#### Exercise 2\n",
    "Try one of the options above to improve the model."
   ]
  },
  {
   "cell_type": "code",
   "execution_count": null,
   "metadata": {},
   "outputs": [],
   "source": [
    "# Code Here"
   ]
  },
  {
   "cell_type": "markdown",
   "metadata": {},
   "source": [
    "Let's have a look at model's predictions."
   ]
  },
  {
   "cell_type": "code",
   "execution_count": null,
   "metadata": {},
   "outputs": [],
   "source": []
  },
  {
   "cell_type": "markdown",
   "metadata": {},
   "source": [
    "The distribution of data shows that the model is too focused on type `17` and `18` which is why we are having low accuracy."
   ]
  },
  {
   "cell_type": "markdown",
   "metadata": {},
   "source": [
    "\n",
    "<div class=\"alert alert-success\">\n",
    "    \n",
    "### Solutions  \n",
    "<details><summary>See solutions</summary>\n",
    "\n",
    "<details><summary>Exercise 1</summary>\n",
    "<b>Increase sequence length to 18</b>\n",
    "\n",
    "```Python\n",
    "seq_length = 18\n",
    "x, y = create_seq_data(data,seq_length)\n",
    "xtrain = x[:100,:,:]\n",
    "ytrain = y[:100,:]\n",
    "xtest = x[100:,:,:]\n",
    "ytest = y[100:,:]\n",
    "model = LSTM(1, 50, 1)\n",
    "optimizer = torch.optim.Adam(model.parameters(), lr=0.01)\n",
    "train_model(model, xtrain, ytrain, 500)\n",
    "```\n",
    "<b>Change model size to 100</b>\n",
    "```Python\n",
    "model = LSTM(1, 100, 1)\n",
    "optimizer = torch.optim.Adam(model.parameters(), lr=0.01)\n",
    "train_model(model, xtrain, ytrain, 500)\n",
    "```\n",
    "\n",
    "</details>\n",
    "<details><summary>Exercise 2</summary>\n",
    "    <b>Larger hidden size</b>\n",
    "    \n",
    "```Python\n",
    "model = LSTM(\n",
    "    input_size=len(feat_cols),\n",
    "    hidden_size=400,\n",
    "    num_layers=1,\n",
    "    output_size=output_size,\n",
    ").to(device)\n",
    "optimizer = optim.Adam(model.parameters(), lr=0.001)\n",
    "training_loop(10, 1024)\n",
    "```\n",
    "\n",
    "<b>Train longer</b>\n",
    "    \n",
    "```Python\n",
    "model = LSTM(\n",
    "    input_size=len(feat_cols),\n",
    "    hidden_size=200,\n",
    "    num_layers=1,\n",
    "    output_size=output_size,\n",
    ").to(device)\n",
    "optimizer = optim.Adam(model.parameters(), lr=0.001)\n",
    "training_loop(20, 1024)\n",
    "```\n",
    " \n",
    "</details>\n",
    "</details>\n",
    "</div>"
   ]
  },
  {
   "cell_type": "markdown",
   "metadata": {},
   "source": [
    "## Further Reading\n",
    "- [Introduction to RNN](http://slazebni.cs.illinois.edu/spring17/lec02_rnn.pdf)\n",
    "- [A friendly introduction to Recurrent Neural Networks](https://www.youtube.com/watch?v=UNmqTiOnRfg)\n",
    "- [Recurrent Neural Networks (RNN) and Long Short-Term Memory (LSTM)](https://www.youtube.com/watch?v=WCUNPb-5EYI&t=97s)\n",
    "- [Introduction to LSTM](https://medium.com/x8-the-ai-community/a-7-minute-introduction-to-lstm-5e1480e6f52a)\n",
    "- [LSTM and GRU](https://towardsdatascience.com/illustrated-guide-to-lstms-and-gru-s-a-step-by-step-explanation-44e9eb85bf21)\n",
    "- [Time Series Prediction with LSTM](https://stackabuse.com/time-series-prediction-using-lstm-with-pytorch-in-python/)\n",
    "- [Building RNN from scratch](https://medium.com/dair-ai/building-rnns-is-fun-with-pytorch-and-google-colab-3903ea9a3a79)\n"
   ]
  }
 ],
 "metadata": {
  "jupytext": {
   "formats": "ipynb,py"
  },
  "kernelspec": {
   "display_name": "deep_ml_curriculum",
   "language": "python",
   "name": "deep_ml_curriculum"
  }
 },
 "nbformat": 4,
 "nbformat_minor": 4
}
