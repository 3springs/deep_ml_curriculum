{
 "cells": [
  {
   "cell_type": "markdown",
   "metadata": {
    "ExecuteTime": {
     "end_time": "2020-10-10T01:25:12.788851Z",
     "start_time": "2020-10-10T01:25:12.783398Z"
    }
   },
   "source": [
    "# Sequence to Sequence Models for Timeseries Regression\n",
    "\n",
    "\n",
    "In this notebook we are going to tackle a harder problem: \n",
    "- predicting the future on a timeseries\n",
    "- using an LSTM\n",
    "- with rough uncertainty (uncalibrated)\n",
    "- outputing sequence of predictions\n",
    "\n",
    "This gets you close to real world applications\n",
    "\n",
    "Key learning objectives:\n",
    "- Understand the LSTM's maintain a memory along sequences\n",
    "- A rough overview of sequence to sequence approaches, and the data prep involved\n",
    "- Understand likelihood and outputting a distribution\n",
    "- Evalute a timeseries solution\n",
    "\n",
    "<img src=\"./images/Seq2Seq for regression.png\" />"
   ]
  },
  {
   "cell_type": "code",
   "execution_count": 1,
   "metadata": {
    "ExecuteTime": {
     "end_time": "2020-10-16T04:36:15.235547Z",
     "start_time": "2020-10-16T04:36:14.522810Z"
    }
   },
   "outputs": [],
   "source": [
    "# Imports\n",
    "import torch\n",
    "from torch import nn, optim\n",
    "from torch.nn import functional as F\n",
    "from torch.autograd import Variable\n",
    "import torch\n",
    "import torch.utils.data\n",
    "\n",
    "import pandas as pd\n",
    "import numpy as np\n",
    "import matplotlib.pyplot as plt\n",
    "\n",
    "from pathlib import Path\n",
    "from tqdm.auto import tqdm"
   ]
  },
  {
   "cell_type": "markdown",
   "metadata": {
    "ExecuteTime": {
     "end_time": "2020-10-10T01:28:32.492160Z",
     "start_time": "2020-10-10T01:28:32.488140Z"
    }
   },
   "source": [
    "## Parameters"
   ]
  },
  {
   "cell_type": "code",
   "execution_count": 2,
   "metadata": {
    "ExecuteTime": {
     "end_time": "2020-10-16T04:36:15.249766Z",
     "start_time": "2020-10-16T04:36:15.237079Z"
    }
   },
   "outputs": [
    {
     "name": "stdout",
     "output_type": "stream",
     "text": [
      "using cuda\n"
     ]
    }
   ],
   "source": [
    "device = \"cuda\" if torch.cuda.is_available() else \"cpu\"\n",
    "print(f'using {device}')\n",
    "\n",
    "window_past = 48*4\n",
    "window_future = 48*4\n",
    "batch_size = 64\n",
    "num_workers = 0\n",
    "freq = '30T'\n",
    "max_rows = 1e5\n",
    "use_future = False # Cheat!"
   ]
  },
  {
   "cell_type": "markdown",
   "metadata": {},
   "source": [
    "## Load data"
   ]
  },
  {
   "cell_type": "code",
   "execution_count": 3,
   "metadata": {
    "ExecuteTime": {
     "end_time": "2020-10-16T04:36:15.295873Z",
     "start_time": "2020-10-16T04:36:15.251348Z"
    },
    "lines_to_next_cell": 0
   },
   "outputs": [],
   "source": [
    "\n",
    "def get_smartmeter_df(indir=Path('../../data/processed/smartmeter')):\n",
    "    \"\"\"\n",
    "    Data loading and cleanding is always messy, so understand this code is optional.\n",
    "    \"\"\"\n",
    "    \n",
    "    # Load csv files\n",
    "    csv_files = sorted((indir/'halfhourly_dataset').glob('*.csv'))[:1]\n",
    "    \n",
    "#     import pdb; pdb.set_trace() # you can use debugging in jupyter to interact with variables inside a function\n",
    "    \n",
    "    # concatendate them\n",
    "    df = pd.concat([pd.read_csv(f, parse_dates=[1], na_values=['Null']) for f in csv_files])\n",
    "\n",
    "    # Take the mean over all houses\n",
    "    df = df.groupby('tstp').mean()\n",
    "\n",
    "    # Load weather data\n",
    "    df_weather = pd.read_csv(indir/'weather_hourly_darksky.csv', parse_dates=[3])\n",
    "    use_cols = ['visibility', 'windBearing', 'temperature', 'time', 'dewPoint',\n",
    "           'pressure', 'apparentTemperature', 'windSpeed', \n",
    "           'humidity']\n",
    "    df_weather = df_weather[use_cols].set_index('time')\n",
    "    df_weather = df_weather.resample(freq).first().ffill()  # Resample to match energy data    \n",
    "\n",
    "    # Join weather and energy data\n",
    "    df = pd.concat([df, df_weather], 1).dropna()    \n",
    "    \n",
    "    # Also find bank holidays\n",
    "    df_hols = pd.read_csv(indir/'uk_bank_holidays.csv', parse_dates=[0])\n",
    "    holidays = set(df_hols['Bank holidays'].dt.round('D'))  \n",
    "\n",
    "    time = df.index.to_series()\n",
    "    def is_holiday(dt):\n",
    "        return dt.floor('D') in holidays\n",
    "    df['holiday'] = time.apply(is_holiday).astype(int)\n",
    "\n",
    "\n",
    "    # Add time features    \n",
    "    df[\"month\"] = time.dt.month\n",
    "    df['day'] = time.dt.day\n",
    "    df['week'] = time.dt.week\n",
    "    df['hour'] = time.dt.hour\n",
    "    df['minute'] = time.dt.minute\n",
    "    df['dayofweek'] = time.dt.dayofweek\n",
    "\n",
    "    # Drop nan and 0's\n",
    "    df = df[df['energy(kWh/hh)']!=0]\n",
    "    df = df.dropna()\n",
    "\n",
    "    # sort by time\n",
    "    df = df.sort_index()\n",
    "    \n",
    "    return df"
   ]
  },
  {
   "cell_type": "code",
   "execution_count": null,
   "metadata": {
    "ExecuteTime": {
     "end_time": "2020-10-11T01:19:12.463006Z",
     "start_time": "2020-10-11T01:19:12.458426Z"
    },
    "lines_to_next_cell": 2
   },
   "outputs": [],
   "source": []
  },
  {
   "cell_type": "markdown",
   "metadata": {},
   "source": [
    "Our dataset is the london smartmeter data. But at half hour intervals"
   ]
  },
  {
   "cell_type": "code",
   "execution_count": 4,
   "metadata": {
    "ExecuteTime": {
     "end_time": "2020-10-16T04:36:20.888572Z",
     "start_time": "2020-10-16T04:36:15.297303Z"
    }
   },
   "outputs": [
    {
     "data": {
      "text/html": [
       "<div>\n",
       "<style scoped>\n",
       "    .dataframe tbody tr th:only-of-type {\n",
       "        vertical-align: middle;\n",
       "    }\n",
       "\n",
       "    .dataframe tbody tr th {\n",
       "        vertical-align: top;\n",
       "    }\n",
       "\n",
       "    .dataframe thead th {\n",
       "        text-align: right;\n",
       "    }\n",
       "</style>\n",
       "<table border=\"1\" class=\"dataframe\">\n",
       "  <thead>\n",
       "    <tr style=\"text-align: right;\">\n",
       "      <th></th>\n",
       "      <th>energy(kWh/hh)</th>\n",
       "      <th>visibility</th>\n",
       "      <th>windBearing</th>\n",
       "      <th>temperature</th>\n",
       "      <th>dewPoint</th>\n",
       "      <th>pressure</th>\n",
       "      <th>apparentTemperature</th>\n",
       "      <th>windSpeed</th>\n",
       "      <th>humidity</th>\n",
       "      <th>holiday</th>\n",
       "      <th>month</th>\n",
       "      <th>day</th>\n",
       "      <th>week</th>\n",
       "      <th>hour</th>\n",
       "      <th>minute</th>\n",
       "      <th>dayofweek</th>\n",
       "    </tr>\n",
       "  </thead>\n",
       "  <tbody>\n",
       "    <tr>\n",
       "      <th>2011-12-03 09:00:00</th>\n",
       "      <td>0.149000</td>\n",
       "      <td>13.07</td>\n",
       "      <td>262.0</td>\n",
       "      <td>11.00</td>\n",
       "      <td>8.84</td>\n",
       "      <td>1002.07</td>\n",
       "      <td>11.00</td>\n",
       "      <td>5.99</td>\n",
       "      <td>0.87</td>\n",
       "      <td>0</td>\n",
       "      <td>12</td>\n",
       "      <td>3</td>\n",
       "      <td>48</td>\n",
       "      <td>9</td>\n",
       "      <td>0</td>\n",
       "      <td>5</td>\n",
       "    </tr>\n",
       "    <tr>\n",
       "      <th>2011-12-03 09:30:00</th>\n",
       "      <td>0.154000</td>\n",
       "      <td>13.07</td>\n",
       "      <td>262.0</td>\n",
       "      <td>11.00</td>\n",
       "      <td>8.84</td>\n",
       "      <td>1002.07</td>\n",
       "      <td>11.00</td>\n",
       "      <td>5.99</td>\n",
       "      <td>0.87</td>\n",
       "      <td>0</td>\n",
       "      <td>12</td>\n",
       "      <td>3</td>\n",
       "      <td>48</td>\n",
       "      <td>9</td>\n",
       "      <td>30</td>\n",
       "      <td>5</td>\n",
       "    </tr>\n",
       "    <tr>\n",
       "      <th>2011-12-03 10:00:00</th>\n",
       "      <td>0.768000</td>\n",
       "      <td>12.76</td>\n",
       "      <td>268.0</td>\n",
       "      <td>11.42</td>\n",
       "      <td>7.52</td>\n",
       "      <td>1002.76</td>\n",
       "      <td>11.42</td>\n",
       "      <td>6.10</td>\n",
       "      <td>0.77</td>\n",
       "      <td>0</td>\n",
       "      <td>12</td>\n",
       "      <td>3</td>\n",
       "      <td>48</td>\n",
       "      <td>10</td>\n",
       "      <td>0</td>\n",
       "      <td>5</td>\n",
       "    </tr>\n",
       "    <tr>\n",
       "      <th>2011-12-03 10:30:00</th>\n",
       "      <td>1.179000</td>\n",
       "      <td>12.76</td>\n",
       "      <td>268.0</td>\n",
       "      <td>11.42</td>\n",
       "      <td>7.52</td>\n",
       "      <td>1002.76</td>\n",
       "      <td>11.42</td>\n",
       "      <td>6.10</td>\n",
       "      <td>0.77</td>\n",
       "      <td>0</td>\n",
       "      <td>12</td>\n",
       "      <td>3</td>\n",
       "      <td>48</td>\n",
       "      <td>10</td>\n",
       "      <td>30</td>\n",
       "      <td>5</td>\n",
       "    </tr>\n",
       "    <tr>\n",
       "      <th>2011-12-03 11:00:00</th>\n",
       "      <td>0.588000</td>\n",
       "      <td>13.07</td>\n",
       "      <td>274.0</td>\n",
       "      <td>11.41</td>\n",
       "      <td>6.39</td>\n",
       "      <td>1003.24</td>\n",
       "      <td>11.41</td>\n",
       "      <td>6.20</td>\n",
       "      <td>0.71</td>\n",
       "      <td>0</td>\n",
       "      <td>12</td>\n",
       "      <td>3</td>\n",
       "      <td>48</td>\n",
       "      <td>11</td>\n",
       "      <td>0</td>\n",
       "      <td>5</td>\n",
       "    </tr>\n",
       "    <tr>\n",
       "      <th>...</th>\n",
       "      <td>...</td>\n",
       "      <td>...</td>\n",
       "      <td>...</td>\n",
       "      <td>...</td>\n",
       "      <td>...</td>\n",
       "      <td>...</td>\n",
       "      <td>...</td>\n",
       "      <td>...</td>\n",
       "      <td>...</td>\n",
       "      <td>...</td>\n",
       "      <td>...</td>\n",
       "      <td>...</td>\n",
       "      <td>...</td>\n",
       "      <td>...</td>\n",
       "      <td>...</td>\n",
       "      <td>...</td>\n",
       "    </tr>\n",
       "    <tr>\n",
       "      <th>2014-02-27 22:00:00</th>\n",
       "      <td>0.678429</td>\n",
       "      <td>14.00</td>\n",
       "      <td>216.0</td>\n",
       "      <td>4.10</td>\n",
       "      <td>1.64</td>\n",
       "      <td>1005.67</td>\n",
       "      <td>1.41</td>\n",
       "      <td>3.02</td>\n",
       "      <td>0.84</td>\n",
       "      <td>0</td>\n",
       "      <td>2</td>\n",
       "      <td>27</td>\n",
       "      <td>9</td>\n",
       "      <td>22</td>\n",
       "      <td>0</td>\n",
       "      <td>3</td>\n",
       "    </tr>\n",
       "    <tr>\n",
       "      <th>2014-02-27 22:30:00</th>\n",
       "      <td>0.652071</td>\n",
       "      <td>14.00</td>\n",
       "      <td>216.0</td>\n",
       "      <td>4.10</td>\n",
       "      <td>1.64</td>\n",
       "      <td>1005.67</td>\n",
       "      <td>1.41</td>\n",
       "      <td>3.02</td>\n",
       "      <td>0.84</td>\n",
       "      <td>0</td>\n",
       "      <td>2</td>\n",
       "      <td>27</td>\n",
       "      <td>9</td>\n",
       "      <td>22</td>\n",
       "      <td>30</td>\n",
       "      <td>3</td>\n",
       "    </tr>\n",
       "    <tr>\n",
       "      <th>2014-02-27 23:00:00</th>\n",
       "      <td>0.545190</td>\n",
       "      <td>14.03</td>\n",
       "      <td>200.0</td>\n",
       "      <td>3.93</td>\n",
       "      <td>1.61</td>\n",
       "      <td>1004.62</td>\n",
       "      <td>1.42</td>\n",
       "      <td>2.75</td>\n",
       "      <td>0.85</td>\n",
       "      <td>0</td>\n",
       "      <td>2</td>\n",
       "      <td>27</td>\n",
       "      <td>9</td>\n",
       "      <td>23</td>\n",
       "      <td>0</td>\n",
       "      <td>3</td>\n",
       "    </tr>\n",
       "    <tr>\n",
       "      <th>2014-02-27 23:30:00</th>\n",
       "      <td>0.442571</td>\n",
       "      <td>14.03</td>\n",
       "      <td>200.0</td>\n",
       "      <td>3.93</td>\n",
       "      <td>1.61</td>\n",
       "      <td>1004.62</td>\n",
       "      <td>1.42</td>\n",
       "      <td>2.75</td>\n",
       "      <td>0.85</td>\n",
       "      <td>0</td>\n",
       "      <td>2</td>\n",
       "      <td>27</td>\n",
       "      <td>9</td>\n",
       "      <td>23</td>\n",
       "      <td>30</td>\n",
       "      <td>3</td>\n",
       "    </tr>\n",
       "    <tr>\n",
       "      <th>2014-02-28 00:00:00</th>\n",
       "      <td>0.328810</td>\n",
       "      <td>12.63</td>\n",
       "      <td>190.0</td>\n",
       "      <td>3.81</td>\n",
       "      <td>1.53</td>\n",
       "      <td>1003.57</td>\n",
       "      <td>1.47</td>\n",
       "      <td>2.53</td>\n",
       "      <td>0.85</td>\n",
       "      <td>0</td>\n",
       "      <td>2</td>\n",
       "      <td>28</td>\n",
       "      <td>9</td>\n",
       "      <td>0</td>\n",
       "      <td>0</td>\n",
       "      <td>4</td>\n",
       "    </tr>\n",
       "  </tbody>\n",
       "</table>\n",
       "<p>39247 rows × 16 columns</p>\n",
       "</div>"
      ],
      "text/plain": [
       "                     energy(kWh/hh)  visibility  windBearing  temperature  \\\n",
       "2011-12-03 09:00:00        0.149000       13.07        262.0        11.00   \n",
       "2011-12-03 09:30:00        0.154000       13.07        262.0        11.00   \n",
       "2011-12-03 10:00:00        0.768000       12.76        268.0        11.42   \n",
       "2011-12-03 10:30:00        1.179000       12.76        268.0        11.42   \n",
       "2011-12-03 11:00:00        0.588000       13.07        274.0        11.41   \n",
       "...                             ...         ...          ...          ...   \n",
       "2014-02-27 22:00:00        0.678429       14.00        216.0         4.10   \n",
       "2014-02-27 22:30:00        0.652071       14.00        216.0         4.10   \n",
       "2014-02-27 23:00:00        0.545190       14.03        200.0         3.93   \n",
       "2014-02-27 23:30:00        0.442571       14.03        200.0         3.93   \n",
       "2014-02-28 00:00:00        0.328810       12.63        190.0         3.81   \n",
       "\n",
       "                     dewPoint  pressure  apparentTemperature  windSpeed  \\\n",
       "2011-12-03 09:00:00      8.84   1002.07                11.00       5.99   \n",
       "2011-12-03 09:30:00      8.84   1002.07                11.00       5.99   \n",
       "2011-12-03 10:00:00      7.52   1002.76                11.42       6.10   \n",
       "2011-12-03 10:30:00      7.52   1002.76                11.42       6.10   \n",
       "2011-12-03 11:00:00      6.39   1003.24                11.41       6.20   \n",
       "...                       ...       ...                  ...        ...   \n",
       "2014-02-27 22:00:00      1.64   1005.67                 1.41       3.02   \n",
       "2014-02-27 22:30:00      1.64   1005.67                 1.41       3.02   \n",
       "2014-02-27 23:00:00      1.61   1004.62                 1.42       2.75   \n",
       "2014-02-27 23:30:00      1.61   1004.62                 1.42       2.75   \n",
       "2014-02-28 00:00:00      1.53   1003.57                 1.47       2.53   \n",
       "\n",
       "                     humidity  holiday  month  day  week  hour  minute  \\\n",
       "2011-12-03 09:00:00      0.87        0     12    3    48     9       0   \n",
       "2011-12-03 09:30:00      0.87        0     12    3    48     9      30   \n",
       "2011-12-03 10:00:00      0.77        0     12    3    48    10       0   \n",
       "2011-12-03 10:30:00      0.77        0     12    3    48    10      30   \n",
       "2011-12-03 11:00:00      0.71        0     12    3    48    11       0   \n",
       "...                       ...      ...    ...  ...   ...   ...     ...   \n",
       "2014-02-27 22:00:00      0.84        0      2   27     9    22       0   \n",
       "2014-02-27 22:30:00      0.84        0      2   27     9    22      30   \n",
       "2014-02-27 23:00:00      0.85        0      2   27     9    23       0   \n",
       "2014-02-27 23:30:00      0.85        0      2   27     9    23      30   \n",
       "2014-02-28 00:00:00      0.85        0      2   28     9     0       0   \n",
       "\n",
       "                     dayofweek  \n",
       "2011-12-03 09:00:00          5  \n",
       "2011-12-03 09:30:00          5  \n",
       "2011-12-03 10:00:00          5  \n",
       "2011-12-03 10:30:00          5  \n",
       "2011-12-03 11:00:00          5  \n",
       "...                        ...  \n",
       "2014-02-27 22:00:00          3  \n",
       "2014-02-27 22:30:00          3  \n",
       "2014-02-27 23:00:00          3  \n",
       "2014-02-27 23:30:00          3  \n",
       "2014-02-28 00:00:00          4  \n",
       "\n",
       "[39247 rows x 16 columns]"
      ]
     },
     "execution_count": 4,
     "metadata": {},
     "output_type": "execute_result"
    }
   ],
   "source": [
    "df = get_smartmeter_df()\n",
    "\n",
    "df = df.resample(freq).first().dropna() # Where empty we will backfill, this will respect causality, and mostly maintain the mean\n",
    "\n",
    "df = df.tail(int(max_rows)) # Just use last X rows\n",
    "df"
   ]
  },
  {
   "cell_type": "code",
   "execution_count": 5,
   "metadata": {
    "ExecuteTime": {
     "end_time": "2020-10-16T04:36:20.962200Z",
     "start_time": "2020-10-16T04:36:20.889920Z"
    }
   },
   "outputs": [
    {
     "data": {
      "text/html": [
       "<div>\n",
       "<style scoped>\n",
       "    .dataframe tbody tr th:only-of-type {\n",
       "        vertical-align: middle;\n",
       "    }\n",
       "\n",
       "    .dataframe tbody tr th {\n",
       "        vertical-align: top;\n",
       "    }\n",
       "\n",
       "    .dataframe thead th {\n",
       "        text-align: right;\n",
       "    }\n",
       "</style>\n",
       "<table border=\"1\" class=\"dataframe\">\n",
       "  <thead>\n",
       "    <tr style=\"text-align: right;\">\n",
       "      <th></th>\n",
       "      <th>energy(kWh/hh)</th>\n",
       "      <th>visibility</th>\n",
       "      <th>windBearing</th>\n",
       "      <th>temperature</th>\n",
       "      <th>dewPoint</th>\n",
       "      <th>pressure</th>\n",
       "      <th>apparentTemperature</th>\n",
       "      <th>windSpeed</th>\n",
       "      <th>humidity</th>\n",
       "      <th>holiday</th>\n",
       "      <th>month</th>\n",
       "      <th>day</th>\n",
       "      <th>week</th>\n",
       "      <th>hour</th>\n",
       "      <th>minute</th>\n",
       "      <th>dayofweek</th>\n",
       "    </tr>\n",
       "  </thead>\n",
       "  <tbody>\n",
       "    <tr>\n",
       "      <th>count</th>\n",
       "      <td>39247.000000</td>\n",
       "      <td>39247.000000</td>\n",
       "      <td>39247.000000</td>\n",
       "      <td>39247.000000</td>\n",
       "      <td>39247.000000</td>\n",
       "      <td>39247.000000</td>\n",
       "      <td>39247.000000</td>\n",
       "      <td>39247.000000</td>\n",
       "      <td>39247.000000</td>\n",
       "      <td>39247.000000</td>\n",
       "      <td>39247.000000</td>\n",
       "      <td>39247.000000</td>\n",
       "      <td>39247.000000</td>\n",
       "      <td>39247.000000</td>\n",
       "      <td>39247.000000</td>\n",
       "      <td>39247.000000</td>\n",
       "    </tr>\n",
       "    <tr>\n",
       "      <th>mean</th>\n",
       "      <td>0.449280</td>\n",
       "      <td>11.289506</td>\n",
       "      <td>197.401840</td>\n",
       "      <td>10.533910</td>\n",
       "      <td>6.550560</td>\n",
       "      <td>1013.987087</td>\n",
       "      <td>9.272663</td>\n",
       "      <td>3.927207</td>\n",
       "      <td>0.779764</td>\n",
       "      <td>0.022014</td>\n",
       "      <td>6.353046</td>\n",
       "      <td>15.742095</td>\n",
       "      <td>25.771779</td>\n",
       "      <td>11.503147</td>\n",
       "      <td>14.999618</td>\n",
       "      <td>2.997885</td>\n",
       "    </tr>\n",
       "    <tr>\n",
       "      <th>std</th>\n",
       "      <td>0.218968</td>\n",
       "      <td>2.975889</td>\n",
       "      <td>90.833443</td>\n",
       "      <td>5.924281</td>\n",
       "      <td>5.155743</td>\n",
       "      <td>11.457274</td>\n",
       "      <td>7.109520</td>\n",
       "      <td>2.041219</td>\n",
       "      <td>0.140156</td>\n",
       "      <td>0.146732</td>\n",
       "      <td>3.673233</td>\n",
       "      <td>8.769535</td>\n",
       "      <td>15.991587</td>\n",
       "      <td>6.921932</td>\n",
       "      <td>15.000191</td>\n",
       "      <td>2.000922</td>\n",
       "    </tr>\n",
       "    <tr>\n",
       "      <th>min</th>\n",
       "      <td>0.023000</td>\n",
       "      <td>0.270000</td>\n",
       "      <td>0.000000</td>\n",
       "      <td>-5.640000</td>\n",
       "      <td>-9.980000</td>\n",
       "      <td>975.740000</td>\n",
       "      <td>-8.880000</td>\n",
       "      <td>0.040000</td>\n",
       "      <td>0.230000</td>\n",
       "      <td>0.000000</td>\n",
       "      <td>1.000000</td>\n",
       "      <td>1.000000</td>\n",
       "      <td>1.000000</td>\n",
       "      <td>0.000000</td>\n",
       "      <td>0.000000</td>\n",
       "      <td>0.000000</td>\n",
       "    </tr>\n",
       "    <tr>\n",
       "      <th>25%</th>\n",
       "      <td>0.293000</td>\n",
       "      <td>10.360000</td>\n",
       "      <td>127.000000</td>\n",
       "      <td>6.410000</td>\n",
       "      <td>2.720000</td>\n",
       "      <td>1007.320000</td>\n",
       "      <td>3.740000</td>\n",
       "      <td>2.430000</td>\n",
       "      <td>0.700000</td>\n",
       "      <td>0.000000</td>\n",
       "      <td>3.000000</td>\n",
       "      <td>8.000000</td>\n",
       "      <td>11.000000</td>\n",
       "      <td>6.000000</td>\n",
       "      <td>0.000000</td>\n",
       "      <td>1.000000</td>\n",
       "    </tr>\n",
       "    <tr>\n",
       "      <th>50%</th>\n",
       "      <td>0.436375</td>\n",
       "      <td>12.310000</td>\n",
       "      <td>219.000000</td>\n",
       "      <td>9.980000</td>\n",
       "      <td>6.620000</td>\n",
       "      <td>1014.500000</td>\n",
       "      <td>9.770000</td>\n",
       "      <td>3.710000</td>\n",
       "      <td>0.810000</td>\n",
       "      <td>0.000000</td>\n",
       "      <td>6.000000</td>\n",
       "      <td>16.000000</td>\n",
       "      <td>25.000000</td>\n",
       "      <td>12.000000</td>\n",
       "      <td>0.000000</td>\n",
       "      <td>3.000000</td>\n",
       "    </tr>\n",
       "    <tr>\n",
       "      <th>75%</th>\n",
       "      <td>0.583882</td>\n",
       "      <td>13.080000</td>\n",
       "      <td>257.000000</td>\n",
       "      <td>14.630000</td>\n",
       "      <td>10.470000</td>\n",
       "      <td>1021.850000</td>\n",
       "      <td>14.630000</td>\n",
       "      <td>5.110000</td>\n",
       "      <td>0.890000</td>\n",
       "      <td>0.000000</td>\n",
       "      <td>10.000000</td>\n",
       "      <td>23.000000</td>\n",
       "      <td>40.000000</td>\n",
       "      <td>18.000000</td>\n",
       "      <td>30.000000</td>\n",
       "      <td>5.000000</td>\n",
       "    </tr>\n",
       "    <tr>\n",
       "      <th>max</th>\n",
       "      <td>1.981000</td>\n",
       "      <td>16.090000</td>\n",
       "      <td>359.000000</td>\n",
       "      <td>32.400000</td>\n",
       "      <td>19.880000</td>\n",
       "      <td>1043.320000</td>\n",
       "      <td>32.420000</td>\n",
       "      <td>14.800000</td>\n",
       "      <td>1.000000</td>\n",
       "      <td>1.000000</td>\n",
       "      <td>12.000000</td>\n",
       "      <td>31.000000</td>\n",
       "      <td>52.000000</td>\n",
       "      <td>23.000000</td>\n",
       "      <td>30.000000</td>\n",
       "      <td>6.000000</td>\n",
       "    </tr>\n",
       "  </tbody>\n",
       "</table>\n",
       "</div>"
      ],
      "text/plain": [
       "       energy(kWh/hh)    visibility   windBearing   temperature      dewPoint  \\\n",
       "count    39247.000000  39247.000000  39247.000000  39247.000000  39247.000000   \n",
       "mean         0.449280     11.289506    197.401840     10.533910      6.550560   \n",
       "std          0.218968      2.975889     90.833443      5.924281      5.155743   \n",
       "min          0.023000      0.270000      0.000000     -5.640000     -9.980000   \n",
       "25%          0.293000     10.360000    127.000000      6.410000      2.720000   \n",
       "50%          0.436375     12.310000    219.000000      9.980000      6.620000   \n",
       "75%          0.583882     13.080000    257.000000     14.630000     10.470000   \n",
       "max          1.981000     16.090000    359.000000     32.400000     19.880000   \n",
       "\n",
       "           pressure  apparentTemperature     windSpeed      humidity  \\\n",
       "count  39247.000000         39247.000000  39247.000000  39247.000000   \n",
       "mean    1013.987087             9.272663      3.927207      0.779764   \n",
       "std       11.457274             7.109520      2.041219      0.140156   \n",
       "min      975.740000            -8.880000      0.040000      0.230000   \n",
       "25%     1007.320000             3.740000      2.430000      0.700000   \n",
       "50%     1014.500000             9.770000      3.710000      0.810000   \n",
       "75%     1021.850000            14.630000      5.110000      0.890000   \n",
       "max     1043.320000            32.420000     14.800000      1.000000   \n",
       "\n",
       "            holiday         month           day          week          hour  \\\n",
       "count  39247.000000  39247.000000  39247.000000  39247.000000  39247.000000   \n",
       "mean       0.022014      6.353046     15.742095     25.771779     11.503147   \n",
       "std        0.146732      3.673233      8.769535     15.991587      6.921932   \n",
       "min        0.000000      1.000000      1.000000      1.000000      0.000000   \n",
       "25%        0.000000      3.000000      8.000000     11.000000      6.000000   \n",
       "50%        0.000000      6.000000     16.000000     25.000000     12.000000   \n",
       "75%        0.000000     10.000000     23.000000     40.000000     18.000000   \n",
       "max        1.000000     12.000000     31.000000     52.000000     23.000000   \n",
       "\n",
       "             minute     dayofweek  \n",
       "count  39247.000000  39247.000000  \n",
       "mean      14.999618      2.997885  \n",
       "std       15.000191      2.000922  \n",
       "min        0.000000      0.000000  \n",
       "25%        0.000000      1.000000  \n",
       "50%        0.000000      3.000000  \n",
       "75%       30.000000      5.000000  \n",
       "max       30.000000      6.000000  "
      ]
     },
     "execution_count": 5,
     "metadata": {},
     "output_type": "execute_result"
    }
   ],
   "source": [
    "df.describe()"
   ]
  },
  {
   "cell_type": "markdown",
   "metadata": {},
   "source": [
    " <div class=\"alert alert-success\">\n",
    "  <h2>Exercise: Debug</h2>\n",
    "\n",
    "  Sometimes the best way to understand something is to interact with it. But if the code is inside a function it's difficult. Use the python debugger to play with the dataloading code.\n",
    "    \n",
    "   - insert the line `import pdb; pdb.set_trace()` in the function above\n",
    "   - run the function definition\n",
    "   - run the function again\n",
    "   - you should be in a debugger, try pressing `?` then enter\n",
    "   - try printing a variable\n",
    "   - `q` to exit\n",
    "\n",
    "  </div>"
   ]
  },
  {
   "cell_type": "code",
   "execution_count": 6,
   "metadata": {
    "ExecuteTime": {
     "end_time": "2020-10-16T04:36:21.409733Z",
     "start_time": "2020-10-16T04:36:20.963445Z"
    },
    "scrolled": true
   },
   "outputs": [
    {
     "data": {
      "text/html": [
       "<div>\n",
       "<style scoped>\n",
       "    .dataframe tbody tr th:only-of-type {\n",
       "        vertical-align: middle;\n",
       "    }\n",
       "\n",
       "    .dataframe tbody tr th {\n",
       "        vertical-align: top;\n",
       "    }\n",
       "\n",
       "    .dataframe thead th {\n",
       "        text-align: right;\n",
       "    }\n",
       "</style>\n",
       "<table border=\"1\" class=\"dataframe\">\n",
       "  <thead>\n",
       "    <tr style=\"text-align: right;\">\n",
       "      <th></th>\n",
       "      <th>energy(kWh/hh)</th>\n",
       "      <th>visibility</th>\n",
       "      <th>windBearing</th>\n",
       "      <th>temperature</th>\n",
       "      <th>dewPoint</th>\n",
       "      <th>pressure</th>\n",
       "      <th>apparentTemperature</th>\n",
       "      <th>windSpeed</th>\n",
       "      <th>humidity</th>\n",
       "      <th>holiday</th>\n",
       "      <th>month</th>\n",
       "      <th>day</th>\n",
       "      <th>week</th>\n",
       "      <th>hour</th>\n",
       "      <th>minute</th>\n",
       "      <th>dayofweek</th>\n",
       "    </tr>\n",
       "  </thead>\n",
       "  <tbody>\n",
       "    <tr>\n",
       "      <th>count</th>\n",
       "      <td>3.924700e+04</td>\n",
       "      <td>3.924700e+04</td>\n",
       "      <td>3.924700e+04</td>\n",
       "      <td>3.924700e+04</td>\n",
       "      <td>3.924700e+04</td>\n",
       "      <td>3.924700e+04</td>\n",
       "      <td>3.924700e+04</td>\n",
       "      <td>3.924700e+04</td>\n",
       "      <td>3.924700e+04</td>\n",
       "      <td>3.924700e+04</td>\n",
       "      <td>3.924700e+04</td>\n",
       "      <td>3.924700e+04</td>\n",
       "      <td>3.924700e+04</td>\n",
       "      <td>3.924700e+04</td>\n",
       "      <td>3.924700e+04</td>\n",
       "      <td>3.924700e+04</td>\n",
       "    </tr>\n",
       "    <tr>\n",
       "      <th>mean</th>\n",
       "      <td>1.216615e-16</td>\n",
       "      <td>-9.110126e-16</td>\n",
       "      <td>3.476042e-17</td>\n",
       "      <td>2.317361e-17</td>\n",
       "      <td>-1.738021e-17</td>\n",
       "      <td>5.086608e-15</td>\n",
       "      <td>-6.952083e-17</td>\n",
       "      <td>1.158681e-16</td>\n",
       "      <td>-8.110764e-17</td>\n",
       "      <td>-3.331207e-17</td>\n",
       "      <td>9.848785e-17</td>\n",
       "      <td>-1.303516e-16</td>\n",
       "      <td>5.793403e-17</td>\n",
       "      <td>-6.734831e-17</td>\n",
       "      <td>-2.648162e-16</td>\n",
       "      <td>3.584668e-17</td>\n",
       "    </tr>\n",
       "    <tr>\n",
       "      <th>std</th>\n",
       "      <td>1.000013e+00</td>\n",
       "      <td>1.000013e+00</td>\n",
       "      <td>1.000013e+00</td>\n",
       "      <td>1.000013e+00</td>\n",
       "      <td>1.000013e+00</td>\n",
       "      <td>1.000013e+00</td>\n",
       "      <td>1.000013e+00</td>\n",
       "      <td>1.000013e+00</td>\n",
       "      <td>1.000013e+00</td>\n",
       "      <td>1.000013e+00</td>\n",
       "      <td>1.000013e+00</td>\n",
       "      <td>1.000013e+00</td>\n",
       "      <td>1.000013e+00</td>\n",
       "      <td>1.000013e+00</td>\n",
       "      <td>1.000013e+00</td>\n",
       "      <td>1.000013e+00</td>\n",
       "    </tr>\n",
       "    <tr>\n",
       "      <th>min</th>\n",
       "      <td>-1.946796e+00</td>\n",
       "      <td>-3.702976e+00</td>\n",
       "      <td>-2.173256e+00</td>\n",
       "      <td>-2.730140e+00</td>\n",
       "      <td>-3.206283e+00</td>\n",
       "      <td>-3.338279e+00</td>\n",
       "      <td>-2.553322e+00</td>\n",
       "      <td>-1.904380e+00</td>\n",
       "      <td>-3.922565e+00</td>\n",
       "      <td>-1.500332e-01</td>\n",
       "      <td>-1.457330e+00</td>\n",
       "      <td>-1.681079e+00</td>\n",
       "      <td>-1.549070e+00</td>\n",
       "      <td>-1.661862e+00</td>\n",
       "      <td>-9.999745e-01</td>\n",
       "      <td>-1.498271e+00</td>\n",
       "    </tr>\n",
       "    <tr>\n",
       "      <th>25%</th>\n",
       "      <td>-7.137231e-01</td>\n",
       "      <td>-3.123495e-01</td>\n",
       "      <td>-7.750751e-01</td>\n",
       "      <td>-6.961120e-01</td>\n",
       "      <td>-7.429789e-01</td>\n",
       "      <td>-5.819161e-01</td>\n",
       "      <td>-7.782148e-01</td>\n",
       "      <td>-7.334959e-01</td>\n",
       "      <td>-5.691148e-01</td>\n",
       "      <td>-1.500332e-01</td>\n",
       "      <td>-9.128440e-01</td>\n",
       "      <td>-8.828511e-01</td>\n",
       "      <td>-9.237337e-01</td>\n",
       "      <td>-7.950405e-01</td>\n",
       "      <td>-9.999745e-01</td>\n",
       "      <td>-9.984948e-01</td>\n",
       "    </tr>\n",
       "    <tr>\n",
       "      <th>50%</th>\n",
       "      <td>-5.893824e-02</td>\n",
       "      <td>3.429252e-01</td>\n",
       "      <td>2.377807e-01</td>\n",
       "      <td>-9.349948e-02</td>\n",
       "      <td>1.346874e-02</td>\n",
       "      <td>4.476806e-02</td>\n",
       "      <td>6.995454e-02</td>\n",
       "      <td>-1.064117e-01</td>\n",
       "      <td>2.157353e-01</td>\n",
       "      <td>-1.500332e-01</td>\n",
       "      <td>-9.611440e-02</td>\n",
       "      <td>2.940958e-02</td>\n",
       "      <td>-4.826216e-02</td>\n",
       "      <td>7.178048e-02</td>\n",
       "      <td>-9.999745e-01</td>\n",
       "      <td>1.056932e-03</td>\n",
       "    </tr>\n",
       "    <tr>\n",
       "      <th>75%</th>\n",
       "      <td>6.147169e-01</td>\n",
       "      <td>6.016747e-01</td>\n",
       "      <td>6.561341e-01</td>\n",
       "      <td>6.914159e-01</td>\n",
       "      <td>7.602183e-01</td>\n",
       "      <td>6.862901e-01</td>\n",
       "      <td>7.535537e-01</td>\n",
       "      <td>5.794616e-01</td>\n",
       "      <td>7.865354e-01</td>\n",
       "      <td>-1.500332e-01</td>\n",
       "      <td>9.928584e-01</td>\n",
       "      <td>8.276377e-01</td>\n",
       "      <td>8.897430e-01</td>\n",
       "      <td>9.386015e-01</td>\n",
       "      <td>1.000025e+00</td>\n",
       "      <td>1.000609e+00</td>\n",
       "    </tr>\n",
       "    <tr>\n",
       "      <th>max</th>\n",
       "      <td>6.995269e+00</td>\n",
       "      <td>1.613150e+00</td>\n",
       "      <td>1.779083e+00</td>\n",
       "      <td>3.690974e+00</td>\n",
       "      <td>2.585391e+00</td>\n",
       "      <td>2.560233e+00</td>\n",
       "      <td>3.255864e+00</td>\n",
       "      <td>5.326685e+00</td>\n",
       "      <td>1.571385e+00</td>\n",
       "      <td>6.665191e+00</td>\n",
       "      <td>1.537345e+00</td>\n",
       "      <td>1.739898e+00</td>\n",
       "      <td>1.640147e+00</td>\n",
       "      <td>1.660952e+00</td>\n",
       "      <td>1.000025e+00</td>\n",
       "      <td>1.500385e+00</td>\n",
       "    </tr>\n",
       "  </tbody>\n",
       "</table>\n",
       "</div>"
      ],
      "text/plain": [
       "       energy(kWh/hh)    visibility   windBearing   temperature      dewPoint  \\\n",
       "count    3.924700e+04  3.924700e+04  3.924700e+04  3.924700e+04  3.924700e+04   \n",
       "mean     1.216615e-16 -9.110126e-16  3.476042e-17  2.317361e-17 -1.738021e-17   \n",
       "std      1.000013e+00  1.000013e+00  1.000013e+00  1.000013e+00  1.000013e+00   \n",
       "min     -1.946796e+00 -3.702976e+00 -2.173256e+00 -2.730140e+00 -3.206283e+00   \n",
       "25%     -7.137231e-01 -3.123495e-01 -7.750751e-01 -6.961120e-01 -7.429789e-01   \n",
       "50%     -5.893824e-02  3.429252e-01  2.377807e-01 -9.349948e-02  1.346874e-02   \n",
       "75%      6.147169e-01  6.016747e-01  6.561341e-01  6.914159e-01  7.602183e-01   \n",
       "max      6.995269e+00  1.613150e+00  1.779083e+00  3.690974e+00  2.585391e+00   \n",
       "\n",
       "           pressure  apparentTemperature     windSpeed      humidity  \\\n",
       "count  3.924700e+04         3.924700e+04  3.924700e+04  3.924700e+04   \n",
       "mean   5.086608e-15        -6.952083e-17  1.158681e-16 -8.110764e-17   \n",
       "std    1.000013e+00         1.000013e+00  1.000013e+00  1.000013e+00   \n",
       "min   -3.338279e+00        -2.553322e+00 -1.904380e+00 -3.922565e+00   \n",
       "25%   -5.819161e-01        -7.782148e-01 -7.334959e-01 -5.691148e-01   \n",
       "50%    4.476806e-02         6.995454e-02 -1.064117e-01  2.157353e-01   \n",
       "75%    6.862901e-01         7.535537e-01  5.794616e-01  7.865354e-01   \n",
       "max    2.560233e+00         3.255864e+00  5.326685e+00  1.571385e+00   \n",
       "\n",
       "            holiday         month           day          week          hour  \\\n",
       "count  3.924700e+04  3.924700e+04  3.924700e+04  3.924700e+04  3.924700e+04   \n",
       "mean  -3.331207e-17  9.848785e-17 -1.303516e-16  5.793403e-17 -6.734831e-17   \n",
       "std    1.000013e+00  1.000013e+00  1.000013e+00  1.000013e+00  1.000013e+00   \n",
       "min   -1.500332e-01 -1.457330e+00 -1.681079e+00 -1.549070e+00 -1.661862e+00   \n",
       "25%   -1.500332e-01 -9.128440e-01 -8.828511e-01 -9.237337e-01 -7.950405e-01   \n",
       "50%   -1.500332e-01 -9.611440e-02  2.940958e-02 -4.826216e-02  7.178048e-02   \n",
       "75%   -1.500332e-01  9.928584e-01  8.276377e-01  8.897430e-01  9.386015e-01   \n",
       "max    6.665191e+00  1.537345e+00  1.739898e+00  1.640147e+00  1.660952e+00   \n",
       "\n",
       "             minute     dayofweek  \n",
       "count  3.924700e+04  3.924700e+04  \n",
       "mean  -2.648162e-16  3.584668e-17  \n",
       "std    1.000013e+00  1.000013e+00  \n",
       "min   -9.999745e-01 -1.498271e+00  \n",
       "25%   -9.999745e-01 -9.984948e-01  \n",
       "50%   -9.999745e-01  1.056932e-03  \n",
       "75%    1.000025e+00  1.000609e+00  \n",
       "max    1.000025e+00  1.500385e+00  "
      ]
     },
     "execution_count": 6,
     "metadata": {},
     "output_type": "execute_result"
    }
   ],
   "source": [
    "# Normalise\n",
    "from sklearn.preprocessing import StandardScaler\n",
    "input_columns = df.columns[1:]\n",
    "out_columns = df.columns[:1]\n",
    "scaler_input = StandardScaler()\n",
    "scaler_output = StandardScaler()\n",
    "df_norm = df.copy()\n",
    "df_norm[input_columns] = scaler_input.fit_transform(df[input_columns])\n",
    "df_norm[out_columns] = scaler_output.fit_transform(df[out_columns])\n",
    "df_norm.describe()"
   ]
  },
  {
   "cell_type": "code",
   "execution_count": 7,
   "metadata": {
    "ExecuteTime": {
     "end_time": "2020-10-16T04:36:21.414354Z",
     "start_time": "2020-10-16T04:36:21.411122Z"
    }
   },
   "outputs": [],
   "source": [
    "# Resample\n",
    "df_norm = df_norm.fillna(0)"
   ]
  },
  {
   "cell_type": "code",
   "execution_count": null,
   "metadata": {
    "ExecuteTime": {
     "end_time": "2020-10-10T05:04:20.745565Z",
     "start_time": "2020-10-10T05:04:20.741168Z"
    }
   },
   "outputs": [],
   "source": []
  },
  {
   "cell_type": "code",
   "execution_count": 8,
   "metadata": {
    "ExecuteTime": {
     "end_time": "2020-10-16T04:36:23.402331Z",
     "start_time": "2020-10-16T04:36:21.416369Z"
    },
    "lines_to_next_cell": 0
   },
   "outputs": [
    {
     "data": {
      "text/plain": [
       "<matplotlib.legend.Legend at 0x7f4d41f96f98>"
      ]
     },
     "execution_count": 8,
     "metadata": {},
     "output_type": "execute_result"
    },
    {
     "data": {
      "image/png": "[encoded data removed]",
      "text/plain": [
       "<Figure size 432x288 with 1 Axes>"
      ]
     },
     "metadata": {
      "needs_background": "light"
     },
     "output_type": "display_data"
    }
   ],
   "source": [
    "# split data, with the test in the future\n",
    "n_split = -int(len(df)*0.2)\n",
    "df_train = df_norm[:n_split]\n",
    "df_test = df_norm[n_split:]\n",
    "\n",
    "# Show split\n",
    "df_train['energy(kWh/hh)'].plot(label='train')\n",
    "df_test['energy(kWh/hh)'].plot(label='test')\n",
    "plt.ylabel('energy(kWh/hh)')\n",
    "plt.legend()"
   ]
  },
  {
   "cell_type": "code",
   "execution_count": null,
   "metadata": {
    "ExecuteTime": {
     "end_time": "2020-10-14T22:36:25.702374Z",
     "start_time": "2020-10-14T22:36:25.681535Z"
    },
    "lines_to_next_cell": 2
   },
   "outputs": [],
   "source": []
  },
  {
   "cell_type": "markdown",
   "metadata": {},
   "source": [
    "## Pytorch Dataset\n",
    "\n",
    "A sequence to sequence model needs a sequence of inputs and a sequence of outputs. \n",
    "\n",
    "Lets use the pytorch dataset class to provide an array interface that makes these sequences on the fly\n",
    "\n",
    "In the Dataset class we define a few methods:\n",
    "\n",
    "- `__init__`: What information is required to create the object and how this information is saved.\n",
    "- `__len__`: Returns the number of data points (images) when we use `len()` function.\n",
    "- `__getitem__`: We can define how indexing would work for this class.\n",
    "\n",
    "Out getitem returns:\n",
    "\n",
    "- x_past: The past inputs\n",
    "- y_past: The past labels\n",
    "- x_future: (optional) The future inputs\n",
    "- y_future: The labels"
   ]
  },
  {
   "cell_type": "code",
   "execution_count": null,
   "metadata": {
    "ExecuteTime": {
     "end_time": "2020-10-10T01:54:06.413882Z",
     "start_time": "2020-10-10T01:54:06.398280Z"
    }
   },
   "outputs": [],
   "source": []
  },
  {
   "cell_type": "code",
   "execution_count": 9,
   "metadata": {
    "ExecuteTime": {
     "end_time": "2020-10-16T04:36:23.417088Z",
     "start_time": "2020-10-16T04:36:23.404221Z"
    }
   },
   "outputs": [],
   "source": [
    "class SmartMeterSeq2SeqDataSet(torch.utils.data.Dataset):\n",
    "    \"\"\"\n",
    "    Takes in dataframe and returns sequences through time.\n",
    "    \n",
    "    Returns x_past, y_past, x_future, etc.\n",
    "    \"\"\"\n",
    "    \n",
    "    def __init__(self, df, window_past=40, window_future=10, label_names=['energy(kWh/hh)']):\n",
    "        # Use numpy instead of pandas, for speed\n",
    "        self.x = df.drop(columns=label_names).copy().values\n",
    "        self.y = df[label_names].copy().values\n",
    "        self.t = df[label_names].index.copy()\n",
    "        self.columns = list(df.columns)\n",
    "        self.window_past = window_past\n",
    "        self.window_future = window_future\n",
    "        self.label_names = label_names\n",
    "\n",
    "    def get_components(self, i):\n",
    "        \"\"\"Get past and future rows.\"\"\"\n",
    "        x = self.x[i : i + (self.window_past + self.window_future)].copy()\n",
    "        y = self.y[i : i + (self.window_past + self.window_future)].copy()\n",
    "        \n",
    "        # Add a feature, relative days since present time\n",
    "        tstp = (np.arange(len(x))-self.window_past)[:, None]\n",
    "        is_past = tstp<0\n",
    "        x = np.concatenate([x, tstp, is_past], -1)\n",
    "        \n",
    "        # Split into future and past\n",
    "        x_past = x[:self.window_past]\n",
    "        y_past = y[:self.window_past]\n",
    "        x_future = x[self.window_past:]\n",
    "        y_future = y[self.window_past:]\n",
    "        if not use_future:\n",
    "            # Stop it cheating by using future weather measurements\n",
    "            x_future[:, :8]=0\n",
    "        return x_past, y_past, x_future, y_future\n",
    "\n",
    "\n",
    "    def __getitem__(self, i):\n",
    "        \"\"\"This is how python implements square brackets\"\"\"\n",
    "        if i<0:\n",
    "            # Handle negative integers\n",
    "            i = len(self)+i\n",
    "        data = self.get_components(i)\n",
    "        # From dataframe to torch\n",
    "        return [d.astype(np.float32) for d in data]\n",
    "    \n",
    "    \n",
    "    def get_rows(self, i):\n",
    "        \"\"\"\n",
    "        Output pandas dataframes for display purposes.\n",
    "        \"\"\"\n",
    "        x_cols = list(self.columns)[1:] + ['tstp', 'is_past']\n",
    "        x_past, y_past, x_future, y_future = self.get_components(i)\n",
    "        t_past = self.t[i:i+self.window_past]\n",
    "        t_future = self.t[i+self.window_past:i+self.window_past + self.window_future]\n",
    "        x_past = pd.DataFrame(x_past, columns=x_cols, index=t_past)\n",
    "        x_future = pd.DataFrame(x_future, columns=x_cols, index=t_future)\n",
    "        y_past = pd.DataFrame(y_past, columns=self.label_names, index=t_past)\n",
    "        y_future = pd.DataFrame(y_future, columns=self.label_names, index=t_future)\n",
    "        return x_past, y_past, x_future, y_future\n",
    "        \n",
    "    def __len__(self):\n",
    "        return len(self.x) - (self.window_past + self.window_future)\n",
    "    \n",
    "    def __repr__(self):\n",
    "        return f'<{type(self).__name__}(df.shape={self.x.shape})>'"
   ]
  },
  {
   "cell_type": "code",
   "execution_count": 10,
   "metadata": {
    "ExecuteTime": {
     "end_time": "2020-10-16T04:36:23.495185Z",
     "start_time": "2020-10-16T04:36:23.418310Z"
    }
   },
   "outputs": [
    {
     "name": "stdout",
     "output_type": "stream",
     "text": [
      "<SmartMeterSeq2SeqDataSet(df.shape=(31398, 15))>\n",
      "<SmartMeterSeq2SeqDataSet(df.shape=(7849, 15))>\n"
     ]
    }
   ],
   "source": [
    "ds_train = SmartMeterSeq2SeqDataSet(df_train, window_past=window_past, window_future=window_future)\n",
    "ds_test = SmartMeterSeq2SeqDataSet(df_test, window_past=window_past, window_future=window_future)\n",
    "print(ds_train)\n",
    "print(ds_test)"
   ]
  },
  {
   "cell_type": "code",
   "execution_count": 11,
   "metadata": {
    "ExecuteTime": {
     "end_time": "2020-10-16T04:36:23.546799Z",
     "start_time": "2020-10-16T04:36:23.496472Z"
    }
   },
   "outputs": [
    {
     "data": {
      "text/plain": [
       "array([[  0.        ,   0.        ,   0.        , ...,  -0.49871895,\n",
       "          0.        ,   0.        ],\n",
       "       [  0.        ,   0.        ,   0.        , ...,  -0.49871895,\n",
       "          1.        ,   0.        ],\n",
       "       [  0.        ,   0.        ,   0.        , ...,  -0.49871895,\n",
       "          2.        ,   0.        ],\n",
       "       ...,\n",
       "       [  0.        ,   0.        ,   0.        , ...,   1.5003846 ,\n",
       "        189.        ,   0.        ],\n",
       "       [  0.        ,   0.        ,   0.        , ...,   1.5003846 ,\n",
       "        190.        ,   0.        ],\n",
       "       [  0.        ,   0.        ,   0.        , ...,   1.5003846 ,\n",
       "        191.        ,   0.        ]], dtype=float32)"
      ]
     },
     "execution_count": 11,
     "metadata": {},
     "output_type": "execute_result"
    }
   ],
   "source": [
    "ds_train[0]\n",
    "len(ds_train)\n",
    "ds_train[0][2]"
   ]
  },
  {
   "cell_type": "code",
   "execution_count": 12,
   "metadata": {
    "ExecuteTime": {
     "end_time": "2020-10-16T04:36:23.789576Z",
     "start_time": "2020-10-16T04:36:23.548125Z"
    }
   },
   "outputs": [
    {
     "data": {
      "text/html": [
       "<div>\n",
       "<style scoped>\n",
       "    .dataframe tbody tr th:only-of-type {\n",
       "        vertical-align: middle;\n",
       "    }\n",
       "\n",
       "    .dataframe tbody tr th {\n",
       "        vertical-align: top;\n",
       "    }\n",
       "\n",
       "    .dataframe thead th {\n",
       "        text-align: right;\n",
       "    }\n",
       "</style>\n",
       "<table border=\"1\" class=\"dataframe\">\n",
       "  <thead>\n",
       "    <tr style=\"text-align: right;\">\n",
       "      <th></th>\n",
       "      <th>visibility</th>\n",
       "      <th>windBearing</th>\n",
       "      <th>temperature</th>\n",
       "      <th>dewPoint</th>\n",
       "      <th>pressure</th>\n",
       "      <th>apparentTemperature</th>\n",
       "      <th>windSpeed</th>\n",
       "      <th>humidity</th>\n",
       "      <th>holiday</th>\n",
       "      <th>month</th>\n",
       "      <th>day</th>\n",
       "      <th>week</th>\n",
       "      <th>hour</th>\n",
       "      <th>minute</th>\n",
       "      <th>dayofweek</th>\n",
       "      <th>tstp</th>\n",
       "      <th>is_past</th>\n",
       "    </tr>\n",
       "  </thead>\n",
       "  <tbody>\n",
       "    <tr>\n",
       "      <th>2011-12-07 11:30:00</th>\n",
       "      <td>0.598314</td>\n",
       "      <td>0.788246</td>\n",
       "      <td>-0.331506</td>\n",
       "      <td>-0.915604</td>\n",
       "      <td>-0.597627</td>\n",
       "      <td>-0.664282</td>\n",
       "      <td>2.499907</td>\n",
       "      <td>-1.068565</td>\n",
       "      <td>-0.150033</td>\n",
       "      <td>1.537345</td>\n",
       "      <td>-0.996884</td>\n",
       "      <td>1.452546</td>\n",
       "      <td>-0.072690</td>\n",
       "      <td>1.000025</td>\n",
       "      <td>-0.498719</td>\n",
       "      <td>-5.0</td>\n",
       "      <td>1.0</td>\n",
       "    </tr>\n",
       "    <tr>\n",
       "      <th>2011-12-07 12:00:00</th>\n",
       "      <td>0.517665</td>\n",
       "      <td>0.854302</td>\n",
       "      <td>-0.255547</td>\n",
       "      <td>-1.183270</td>\n",
       "      <td>-0.561841</td>\n",
       "      <td>-0.609425</td>\n",
       "      <td>2.916330</td>\n",
       "      <td>-1.639365</td>\n",
       "      <td>-0.150033</td>\n",
       "      <td>1.537345</td>\n",
       "      <td>-0.996884</td>\n",
       "      <td>1.452546</td>\n",
       "      <td>0.071780</td>\n",
       "      <td>-0.999975</td>\n",
       "      <td>-0.498719</td>\n",
       "      <td>-4.0</td>\n",
       "      <td>1.0</td>\n",
       "    </tr>\n",
       "    <tr>\n",
       "      <th>2011-12-07 12:30:00</th>\n",
       "      <td>0.517665</td>\n",
       "      <td>0.854302</td>\n",
       "      <td>-0.255547</td>\n",
       "      <td>-1.183270</td>\n",
       "      <td>-0.561841</td>\n",
       "      <td>-0.609425</td>\n",
       "      <td>2.916330</td>\n",
       "      <td>-1.639365</td>\n",
       "      <td>-0.150033</td>\n",
       "      <td>1.537345</td>\n",
       "      <td>-0.996884</td>\n",
       "      <td>1.452546</td>\n",
       "      <td>0.071780</td>\n",
       "      <td>1.000025</td>\n",
       "      <td>-0.498719</td>\n",
       "      <td>-3.0</td>\n",
       "      <td>1.0</td>\n",
       "    </tr>\n",
       "    <tr>\n",
       "      <th>2011-12-07 13:00:00</th>\n",
       "      <td>0.598314</td>\n",
       "      <td>0.898339</td>\n",
       "      <td>-0.260611</td>\n",
       "      <td>-1.377231</td>\n",
       "      <td>-0.491143</td>\n",
       "      <td>-0.603799</td>\n",
       "      <td>2.754660</td>\n",
       "      <td>-1.924765</td>\n",
       "      <td>-0.150033</td>\n",
       "      <td>1.537345</td>\n",
       "      <td>-0.996884</td>\n",
       "      <td>1.452546</td>\n",
       "      <td>0.216251</td>\n",
       "      <td>-0.999975</td>\n",
       "      <td>-0.498719</td>\n",
       "      <td>-2.0</td>\n",
       "      <td>1.0</td>\n",
       "    </tr>\n",
       "    <tr>\n",
       "      <th>2011-12-07 13:30:00</th>\n",
       "      <td>0.598314</td>\n",
       "      <td>0.898339</td>\n",
       "      <td>-0.260611</td>\n",
       "      <td>-1.377231</td>\n",
       "      <td>-0.491143</td>\n",
       "      <td>-0.603799</td>\n",
       "      <td>2.754660</td>\n",
       "      <td>-1.924765</td>\n",
       "      <td>-0.150033</td>\n",
       "      <td>1.537345</td>\n",
       "      <td>-0.996884</td>\n",
       "      <td>1.452546</td>\n",
       "      <td>0.216251</td>\n",
       "      <td>1.000025</td>\n",
       "      <td>-0.498719</td>\n",
       "      <td>-1.0</td>\n",
       "      <td>1.0</td>\n",
       "    </tr>\n",
       "  </tbody>\n",
       "</table>\n",
       "</div>"
      ],
      "text/plain": [
       "                     visibility  windBearing  temperature  dewPoint  pressure  \\\n",
       "2011-12-07 11:30:00    0.598314     0.788246    -0.331506 -0.915604 -0.597627   \n",
       "2011-12-07 12:00:00    0.517665     0.854302    -0.255547 -1.183270 -0.561841   \n",
       "2011-12-07 12:30:00    0.517665     0.854302    -0.255547 -1.183270 -0.561841   \n",
       "2011-12-07 13:00:00    0.598314     0.898339    -0.260611 -1.377231 -0.491143   \n",
       "2011-12-07 13:30:00    0.598314     0.898339    -0.260611 -1.377231 -0.491143   \n",
       "\n",
       "                     apparentTemperature  windSpeed  humidity   holiday  \\\n",
       "2011-12-07 11:30:00            -0.664282   2.499907 -1.068565 -0.150033   \n",
       "2011-12-07 12:00:00            -0.609425   2.916330 -1.639365 -0.150033   \n",
       "2011-12-07 12:30:00            -0.609425   2.916330 -1.639365 -0.150033   \n",
       "2011-12-07 13:00:00            -0.603799   2.754660 -1.924765 -0.150033   \n",
       "2011-12-07 13:30:00            -0.603799   2.754660 -1.924765 -0.150033   \n",
       "\n",
       "                        month       day      week      hour    minute  \\\n",
       "2011-12-07 11:30:00  1.537345 -0.996884  1.452546 -0.072690  1.000025   \n",
       "2011-12-07 12:00:00  1.537345 -0.996884  1.452546  0.071780 -0.999975   \n",
       "2011-12-07 12:30:00  1.537345 -0.996884  1.452546  0.071780  1.000025   \n",
       "2011-12-07 13:00:00  1.537345 -0.996884  1.452546  0.216251 -0.999975   \n",
       "2011-12-07 13:30:00  1.537345 -0.996884  1.452546  0.216251  1.000025   \n",
       "\n",
       "                     dayofweek  tstp  is_past  \n",
       "2011-12-07 11:30:00  -0.498719  -5.0      1.0  \n",
       "2011-12-07 12:00:00  -0.498719  -4.0      1.0  \n",
       "2011-12-07 12:30:00  -0.498719  -3.0      1.0  \n",
       "2011-12-07 13:00:00  -0.498719  -2.0      1.0  \n",
       "2011-12-07 13:30:00  -0.498719  -1.0      1.0  "
      ]
     },
     "execution_count": 12,
     "metadata": {},
     "output_type": "execute_result"
    },
    {
     "data": {
      "image/png": "[encoded data removed]",
      "text/plain": [
       "<Figure size 432x288 with 1 Axes>"
      ]
     },
     "metadata": {
      "needs_background": "light"
     },
     "output_type": "display_data"
    }
   ],
   "source": [
    "# We can get rows\n",
    "x_past, y_past, x_future, y_future = ds_train.get_rows(10)\n",
    "\n",
    "# Plot one instance, this is what the model sees\n",
    "y_past['energy(kWh/hh)'].plot(label='past')\n",
    "y_future['energy(kWh/hh)'].plot(ax=plt.gca(), label='future')\n",
    "plt.legend()\n",
    "plt.ylabel('energy(kWh/hh)')\n",
    "\n",
    "# Notice we've added on two new columns tsp (time since present) and is_past\n",
    "x_past.tail()"
   ]
  },
  {
   "cell_type": "code",
   "execution_count": 13,
   "metadata": {
    "ExecuteTime": {
     "end_time": "2020-10-16T04:36:23.809966Z",
     "start_time": "2020-10-16T04:36:23.790927Z"
    }
   },
   "outputs": [
    {
     "data": {
      "text/html": [
       "<div>\n",
       "<style scoped>\n",
       "    .dataframe tbody tr th:only-of-type {\n",
       "        vertical-align: middle;\n",
       "    }\n",
       "\n",
       "    .dataframe tbody tr th {\n",
       "        vertical-align: top;\n",
       "    }\n",
       "\n",
       "    .dataframe thead th {\n",
       "        text-align: right;\n",
       "    }\n",
       "</style>\n",
       "<table border=\"1\" class=\"dataframe\">\n",
       "  <thead>\n",
       "    <tr style=\"text-align: right;\">\n",
       "      <th></th>\n",
       "      <th>visibility</th>\n",
       "      <th>windBearing</th>\n",
       "      <th>temperature</th>\n",
       "      <th>dewPoint</th>\n",
       "      <th>pressure</th>\n",
       "      <th>apparentTemperature</th>\n",
       "      <th>windSpeed</th>\n",
       "      <th>humidity</th>\n",
       "      <th>holiday</th>\n",
       "      <th>month</th>\n",
       "      <th>day</th>\n",
       "      <th>week</th>\n",
       "      <th>hour</th>\n",
       "      <th>minute</th>\n",
       "      <th>dayofweek</th>\n",
       "      <th>tstp</th>\n",
       "      <th>is_past</th>\n",
       "    </tr>\n",
       "  </thead>\n",
       "  <tbody>\n",
       "    <tr>\n",
       "      <th>2011-12-11 11:30:00</th>\n",
       "      <td>0.0</td>\n",
       "      <td>0.0</td>\n",
       "      <td>0.0</td>\n",
       "      <td>0.0</td>\n",
       "      <td>0.0</td>\n",
       "      <td>0.0</td>\n",
       "      <td>0.0</td>\n",
       "      <td>0.0</td>\n",
       "      <td>-0.150033</td>\n",
       "      <td>1.537345</td>\n",
       "      <td>-0.540753</td>\n",
       "      <td>1.452546</td>\n",
       "      <td>-0.072690</td>\n",
       "      <td>1.000025</td>\n",
       "      <td>1.500385</td>\n",
       "      <td>187.0</td>\n",
       "      <td>0.0</td>\n",
       "    </tr>\n",
       "    <tr>\n",
       "      <th>2011-12-11 12:00:00</th>\n",
       "      <td>0.0</td>\n",
       "      <td>0.0</td>\n",
       "      <td>0.0</td>\n",
       "      <td>0.0</td>\n",
       "      <td>0.0</td>\n",
       "      <td>0.0</td>\n",
       "      <td>0.0</td>\n",
       "      <td>0.0</td>\n",
       "      <td>-0.150033</td>\n",
       "      <td>1.537345</td>\n",
       "      <td>-0.540753</td>\n",
       "      <td>1.452546</td>\n",
       "      <td>0.071780</td>\n",
       "      <td>-0.999975</td>\n",
       "      <td>1.500385</td>\n",
       "      <td>188.0</td>\n",
       "      <td>0.0</td>\n",
       "    </tr>\n",
       "    <tr>\n",
       "      <th>2011-12-11 12:30:00</th>\n",
       "      <td>0.0</td>\n",
       "      <td>0.0</td>\n",
       "      <td>0.0</td>\n",
       "      <td>0.0</td>\n",
       "      <td>0.0</td>\n",
       "      <td>0.0</td>\n",
       "      <td>0.0</td>\n",
       "      <td>0.0</td>\n",
       "      <td>-0.150033</td>\n",
       "      <td>1.537345</td>\n",
       "      <td>-0.540753</td>\n",
       "      <td>1.452546</td>\n",
       "      <td>0.071780</td>\n",
       "      <td>1.000025</td>\n",
       "      <td>1.500385</td>\n",
       "      <td>189.0</td>\n",
       "      <td>0.0</td>\n",
       "    </tr>\n",
       "    <tr>\n",
       "      <th>2011-12-11 13:00:00</th>\n",
       "      <td>0.0</td>\n",
       "      <td>0.0</td>\n",
       "      <td>0.0</td>\n",
       "      <td>0.0</td>\n",
       "      <td>0.0</td>\n",
       "      <td>0.0</td>\n",
       "      <td>0.0</td>\n",
       "      <td>0.0</td>\n",
       "      <td>-0.150033</td>\n",
       "      <td>1.537345</td>\n",
       "      <td>-0.540753</td>\n",
       "      <td>1.452546</td>\n",
       "      <td>0.216251</td>\n",
       "      <td>-0.999975</td>\n",
       "      <td>1.500385</td>\n",
       "      <td>190.0</td>\n",
       "      <td>0.0</td>\n",
       "    </tr>\n",
       "    <tr>\n",
       "      <th>2011-12-11 13:30:00</th>\n",
       "      <td>0.0</td>\n",
       "      <td>0.0</td>\n",
       "      <td>0.0</td>\n",
       "      <td>0.0</td>\n",
       "      <td>0.0</td>\n",
       "      <td>0.0</td>\n",
       "      <td>0.0</td>\n",
       "      <td>0.0</td>\n",
       "      <td>-0.150033</td>\n",
       "      <td>1.537345</td>\n",
       "      <td>-0.540753</td>\n",
       "      <td>1.452546</td>\n",
       "      <td>0.216251</td>\n",
       "      <td>1.000025</td>\n",
       "      <td>1.500385</td>\n",
       "      <td>191.0</td>\n",
       "      <td>0.0</td>\n",
       "    </tr>\n",
       "  </tbody>\n",
       "</table>\n",
       "</div>"
      ],
      "text/plain": [
       "                     visibility  windBearing  temperature  dewPoint  pressure  \\\n",
       "2011-12-11 11:30:00         0.0          0.0          0.0       0.0       0.0   \n",
       "2011-12-11 12:00:00         0.0          0.0          0.0       0.0       0.0   \n",
       "2011-12-11 12:30:00         0.0          0.0          0.0       0.0       0.0   \n",
       "2011-12-11 13:00:00         0.0          0.0          0.0       0.0       0.0   \n",
       "2011-12-11 13:30:00         0.0          0.0          0.0       0.0       0.0   \n",
       "\n",
       "                     apparentTemperature  windSpeed  humidity   holiday  \\\n",
       "2011-12-11 11:30:00                  0.0        0.0       0.0 -0.150033   \n",
       "2011-12-11 12:00:00                  0.0        0.0       0.0 -0.150033   \n",
       "2011-12-11 12:30:00                  0.0        0.0       0.0 -0.150033   \n",
       "2011-12-11 13:00:00                  0.0        0.0       0.0 -0.150033   \n",
       "2011-12-11 13:30:00                  0.0        0.0       0.0 -0.150033   \n",
       "\n",
       "                        month       day      week      hour    minute  \\\n",
       "2011-12-11 11:30:00  1.537345 -0.540753  1.452546 -0.072690  1.000025   \n",
       "2011-12-11 12:00:00  1.537345 -0.540753  1.452546  0.071780 -0.999975   \n",
       "2011-12-11 12:30:00  1.537345 -0.540753  1.452546  0.071780  1.000025   \n",
       "2011-12-11 13:00:00  1.537345 -0.540753  1.452546  0.216251 -0.999975   \n",
       "2011-12-11 13:30:00  1.537345 -0.540753  1.452546  0.216251  1.000025   \n",
       "\n",
       "                     dayofweek   tstp  is_past  \n",
       "2011-12-11 11:30:00   1.500385  187.0      0.0  \n",
       "2011-12-11 12:00:00   1.500385  188.0      0.0  \n",
       "2011-12-11 12:30:00   1.500385  189.0      0.0  \n",
       "2011-12-11 13:00:00   1.500385  190.0      0.0  \n",
       "2011-12-11 13:30:00   1.500385  191.0      0.0  "
      ]
     },
     "execution_count": 13,
     "metadata": {},
     "output_type": "execute_result"
    }
   ],
   "source": [
    "# Notice we've hidden some future columns to prevent cheating\n",
    "x_future.tail()"
   ]
  },
  {
   "cell_type": "code",
   "execution_count": 14,
   "metadata": {
    "ExecuteTime": {
     "end_time": "2020-10-16T04:36:23.862674Z",
     "start_time": "2020-10-16T04:36:23.811251Z"
    }
   },
   "outputs": [
    {
     "name": "stdout",
     "output_type": "stream",
     "text": [
      "31014\n"
     ]
    },
    {
     "data": {
      "text/plain": [
       "(192, 17)"
      ]
     },
     "execution_count": 14,
     "metadata": {},
     "output_type": "execute_result"
    }
   ],
   "source": [
    "# and treat it like an array\n",
    "print(len(ds_train))\n",
    "ds_train[0][0].shape"
   ]
  },
  {
   "cell_type": "code",
   "execution_count": null,
   "metadata": {
    "ExecuteTime": {
     "end_time": "2020-10-14T06:56:02.750012Z",
     "start_time": "2020-10-14T06:56:02.690554Z"
    }
   },
   "outputs": [],
   "source": []
  },
  {
   "cell_type": "markdown",
   "metadata": {},
   "source": [
    " <div class=\"alert alert-success\">\n",
    "  <h2>Exercise: Dataset</h2>\n",
    "\n",
    "  Lets understand the dataset by using it\n",
    "    \n",
    "  - get the 2nd to last element of the dataset\n",
    "  - get the shape of each of the 4 returned elements of ds_train[0]\n",
    "  - get the type of each of the 4 returned elements of ds_train[0]\n",
    "  <details>\n",
    "  <summary>\n",
    "    <b>→ Hints</b>\n",
    "  </summary>\n",
    "      \n",
    "  - `type(x)`\n",
    "  - `x.shape`\n",
    "\n",
    "  </details>\n",
    "  <br/>\n",
    "  <br/>\n",
    "  <details>\n",
    "  <summary>\n",
    "    <b>→ Solution</b>\n",
    "  </summary>\n",
    "\n",
    "  ```python\n",
    "  # x_past, y_past, x_future, y_future\n",
    "  print(ds_train[-2])\n",
    "  print([x.shape for x in ds_train[0]])\n",
    "  print([type(x) for x in ds_train[0]])\n",
    "  ```\n",
    "  or \n",
    "\n",
    "  ```python\n",
    "  print(ds_train[-2])\n",
    "  for x in ds_train[0]:\n",
    "      print(x.shape)\n",
    "      print(type(x))\n",
    "  ```\n",
    "\n",
    "      \n",
    "  </details>\n",
    "\n",
    "  </div>"
   ]
  },
  {
   "cell_type": "code",
   "execution_count": null,
   "metadata": {
    "ExecuteTime": {
     "end_time": "2020-10-14T06:56:02.797942Z",
     "start_time": "2020-10-14T06:56:02.751303Z"
    }
   },
   "outputs": [],
   "source": []
  },
  {
   "cell_type": "markdown",
   "metadata": {
    "ExecuteTime": {
     "end_time": "2020-10-10T06:00:31.785768Z",
     "start_time": "2020-10-10T06:00:31.739120Z"
    }
   },
   "source": [
    "## LSTM: A minute of Theory\n",
    "\n",
    "This is a hand on course, not theory so we will look at a high level view of one type of RNN, the LSTM. But lets look at the theory for a moment, to get some broad idea of how they work\n",
    "\n",
    "The figure below is from d2l.ai and shows how an RNN can operate on a text sequence to predict the next charector.\n",
    "\n",
    "![](images/rnn-train.svg)\n",
    "\n",
    "How does the model itself work? Let look at an excerpt from the open source machine learning book [d2l.ai](d2l.ai):\n",
    "\n",
    "![](images/rnn.svg)\n",
    "\n",
    "> The figure below illustrates the computational logic of an RNN at three adjacent time steps. At any time step `t`, the computation of the hidden state can be treated as: \n",
    "\n",
    "> i) concatenating the input `Xt` at the current time step `t` and the hidden state `Ht−1` at the previous time step  `t−1` ; \n",
    "\n",
    "> ii) feeding the concatenation result into a fully-connected layer with the activation function `ϕ`. \n",
    "\n",
    "> The output of such a fully-connected layer is the hidden state  `Ht`  of the current time step  t . In this case, the model parameters are the concatenation of  `Wxh`  and  `Whh` , and a bias of  `bh`. The hidden state of the current time step  `t` , `Ht` , will participate in computing the hidden state  `Ht+1`  of the next time step  t+1 . What is more,  `Ht`  will also be fed into the fully-connected output layer to compute the output  `Ot`  of the current time step  `t` .\n",
    "\n",
    "To understand more see these visualisations:\n",
    "\n",
    "- [distill.pub memorization in rnns](https://distill.pub/2019/memorization-in-rnns/)\n",
    "- [Chris Olah Understanding LSTMs](https://colah.github.io/posts/2015-08-Understanding-LSTMs/)\n",
    "\n",
    "And see these chapters:\n",
    "\n",
    "- [d2l.ai RNN's](http://d2l.ai/chapter_recurrent-neural-networks/rnn.html)\n",
    "- [d2l.ai LSTM's](http://d2l.ai/chapter_recurrent-modern/lstm.html)\n"
   ]
  },
  {
   "cell_type": "markdown",
   "metadata": {},
   "source": [
    "## Model"
   ]
  },
  {
   "cell_type": "code",
   "execution_count": 15,
   "metadata": {
    "ExecuteTime": {
     "end_time": "2020-10-16T04:36:23.905143Z",
     "start_time": "2020-10-16T04:36:23.863988Z"
    },
    "lines_to_end_of_cell_marker": 2,
    "lines_to_next_cell": 0
   },
   "outputs": [],
   "source": [
    "\n",
    "class Seq2SeqNet(nn.Module):\n",
    "    def __init__(self, input_size, input_size_decoder, output_size, hidden_size=32, lstm_layers=2, lstm_dropout=0, _min_std = 0.05):\n",
    "        super().__init__()\n",
    "        self._min_std = _min_std\n",
    "\n",
    "        self.encoder = nn.LSTM(\n",
    "            input_size=input_size + output_size,\n",
    "            hidden_size=hidden_size,\n",
    "            batch_first=True,\n",
    "            num_layers=lstm_layers,\n",
    "            dropout=lstm_dropout,\n",
    "        )\n",
    "        self.decoder = nn.LSTM(\n",
    "            input_size=input_size_decoder,\n",
    "            hidden_size=hidden_size,\n",
    "            batch_first=True,\n",
    "            num_layers=lstm_layers,\n",
    "            dropout=lstm_dropout,\n",
    "        )\n",
    "        self.mean = nn.Linear(hidden_size, output_size)\n",
    "        self.std = nn.Linear(hidden_size, output_size)\n",
    "\n",
    "    def forward(self, context_x, context_y, target_x, target_y=None):\n",
    "        x = torch.cat([context_x, context_y], -1)\n",
    "        _, (h_out, cell) = self.encoder(x)\n",
    "        \n",
    "        ## Shape\n",
    "        # hidden = [batch size, n layers * n directions, hid dim]\n",
    "        # cell = [batch size, n layers * n directions, hid dim]\n",
    "        # output = [batch size, seq len, hid dim * n directions]\n",
    "        outputs, (_, _) = self.decoder(target_x, (h_out, cell))\n",
    "        \n",
    "        \n",
    "        # outputs: [B, T, num_direction * H]\n",
    "        mean = self.mean(outputs)\n",
    "        log_sigma = self.std(outputs)\n",
    "        log_sigma = torch.clamp(log_sigma, np.log(self._min_std), -np.log(self._min_std))\n",
    "\n",
    "        sigma = torch.exp(log_sigma)\n",
    "        y_dist = torch.distributions.Normal(mean, sigma)\n",
    "        return y_dist"
   ]
  },
  {
   "cell_type": "code",
   "execution_count": null,
   "metadata": {
    "ExecuteTime": {
     "end_time": "2020-10-11T10:56:42.836934Z",
     "start_time": "2020-10-11T10:56:42.832646Z"
    },
    "lines_to_next_cell": 2
   },
   "outputs": [],
   "source": []
  },
  {
   "cell_type": "code",
   "execution_count": 16,
   "metadata": {
    "ExecuteTime": {
     "end_time": "2020-10-16T04:36:25.472238Z",
     "start_time": "2020-10-16T04:36:23.906383Z"
    },
    "lines_to_next_cell": 0
   },
   "outputs": [
    {
     "data": {
      "text/plain": [
       "Seq2SeqNet(\n",
       "  (encoder): LSTM(18, 32, num_layers=2, batch_first=True)\n",
       "  (decoder): LSTM(17, 32, num_layers=2, batch_first=True)\n",
       "  (mean): Linear(in_features=32, out_features=1, bias=True)\n",
       "  (std): Linear(in_features=32, out_features=1, bias=True)\n",
       ")"
      ]
     },
     "execution_count": 16,
     "metadata": {},
     "output_type": "execute_result"
    }
   ],
   "source": [
    "input_size = x_past.shape[-1]\n",
    "output_size = y_future.shape[-1]\n",
    "\n",
    "model = Seq2SeqNet(input_size, input_size, output_size,\n",
    "                   hidden_size=32, \n",
    "                   lstm_layers=2, \n",
    "                   lstm_dropout=0).to(device)\n",
    "model"
   ]
  },
  {
   "cell_type": "code",
   "execution_count": null,
   "metadata": {
    "lines_to_next_cell": 2
   },
   "outputs": [],
   "source": []
  },
  {
   "cell_type": "code",
   "execution_count": 17,
   "metadata": {
    "ExecuteTime": {
     "end_time": "2020-10-16T04:36:25.475887Z",
     "start_time": "2020-10-16T04:36:25.473549Z"
    }
   },
   "outputs": [],
   "source": [
    "# Init the optimiser\n",
    "optimizer = optim.Adam(model.parameters(), lr=1e-3)"
   ]
  },
  {
   "cell_type": "markdown",
   "metadata": {
    "ExecuteTime": {
     "end_time": "2020-10-11T00:50:26.565378Z",
     "start_time": "2020-10-11T00:50:26.559693Z"
    }
   },
   "source": [
    " <div class=\"alert alert-success\">\n",
    "  <h2>Exercise: Model</h2>\n",
    "\n",
    "  To understand the model we first need to understand the inputs and outputs.\n",
    "    \n",
    "  * Make fake data of the correct shape, and pass it into the model.\n",
    "  * What is the data type of the output?\n",
    "    \n",
    "  ```python\n",
    "  past_x, past_y, future_x, future_y\n",
    "  output = model(?)\n",
    "  print(output)\n",
    "  ```\n",
    "      \n",
    "\n",
    "  <details>\n",
    "  <summary><b>→ Hints</b></summary>\n",
    "\n",
    "  * `x_past = torch.rand((batch_size, window_past, input_size)).to(device)`\n",
    "\n",
    "  </details>\n",
    "\n",
    "  <br/>\n",
    "  <br/>\n",
    "  <details>\n",
    "  <summary>\n",
    "    <b>→ Solution</b>\n",
    "  </summary>\n",
    "\n",
    "  ```python\n",
    "    past_x = torch.rand((batch_size, window_past, input_size)).to(device)\n",
    "    future_x = torch.rand((batch_size, window_future, input_size)).to(device)\n",
    "    past_y = torch.rand((batch_size, window_past, output_size)).to(device)\n",
    "    future_y = torch.rand((batch_size, window_future, output_size)).to(device)\n",
    "    output = model(past_x, past_y, future_x, future_y)  \n",
    "    print(output)\n",
    "    \n",
    "    # We can also use torchsummaryX to summarise the model size\n",
    "    from deep_ml_curriculum.torchsummaryX import summary\n",
    "    summary(model, past_x, past_y, future_x, future_y)\n",
    "  ```\n",
    "\n",
    "  </details>\n",
    "\n",
    "  </div>"
   ]
  },
  {
   "cell_type": "code",
   "execution_count": 18,
   "metadata": {
    "ExecuteTime": {
     "end_time": "2020-10-16T04:36:25.608259Z",
     "start_time": "2020-10-16T04:36:25.477144Z"
    }
   },
   "outputs": [
    {
     "name": "stdout",
     "output_type": "stream",
     "text": [
      "Normal(loc: torch.Size([64, 192, 1]), scale: torch.Size([64, 192, 1]))\n",
      "========================================================\n",
      "          Kernel Shape   Output Shape  Params  Mult-Adds\n",
      "Layer                                                   \n",
      "0_encoder            -  [64, 192, 32]   15104      14592\n",
      "1_decoder            -  [64, 192, 32]   14976      14464\n",
      "2_mean         [32, 1]   [64, 192, 1]      33         32\n",
      "3_std          [32, 1]   [64, 192, 1]      33         32\n",
      "--------------------------------------------------------\n",
      "                      Totals\n",
      "Total params           30146\n",
      "Trainable params       30146\n",
      "Non-trainable params       0\n",
      "Mult-Adds              29120\n",
      "========================================================\n"
     ]
    },
    {
     "data": {
      "text/plain": [
       "1"
      ]
     },
     "execution_count": 18,
     "metadata": {},
     "output_type": "execute_result"
    }
   ],
   "source": [
    "\n",
    "past_x = torch.rand((batch_size, window_past, input_size)).to(device)\n",
    "future_x = torch.rand((batch_size, window_future, input_size)).to(device)\n",
    "past_y = torch.rand((batch_size, window_past, output_size)).to(device)\n",
    "future_y = torch.rand((batch_size, window_future, output_size)).to(device)\n",
    "output = model(past_x, past_y, future_x, future_y)  \n",
    "print(output)\n",
    "\n",
    "from deep_ml_curriculum.torchsummaryX import summary\n",
    "summary(model, past_x, past_y, future_x, future_y )\n",
    "1"
   ]
  },
  {
   "cell_type": "markdown",
   "metadata": {},
   "source": [
    "## Concept: Likelihood\n",
    "\n",
    "In this notebook we wont just predict an answer, but how wrong we might be: the mean and standard deviation.\n",
    "\n",
    "So instead of the mean squared error, like in most regression problems, we are going to be predicting a normal distribution, and minimising the [Negative Log Likihood (NLL)](https://pytorch.org/docs/stable/generated/torch.nn.NLLLoss.html). \n",
    "\n",
    "This means our model will output a distribution, and we will try to make sure it overlaps with the true answer as much possible. This is the concept of likelihood, which is illustrated below.\n",
    "\n",
    "The image below shows a distribution in blue, then possible answers in red."
   ]
  },
  {
   "cell_type": "code",
   "execution_count": null,
   "metadata": {
    "ExecuteTime": {
     "start_time": "2020-10-11T01:09:11.555Z"
    }
   },
   "outputs": [],
   "source": []
  },
  {
   "cell_type": "code",
   "execution_count": 19,
   "metadata": {
    "ExecuteTime": {
     "end_time": "2020-10-16T04:36:25.825576Z",
     "start_time": "2020-10-16T04:36:25.609500Z"
    }
   },
   "outputs": [
    {
     "name": "stderr",
     "output_type": "stream",
     "text": [
      "/anaconda/envs/py37_pytorch/lib/python3.7/site-packages/torch/distributions/distribution.py:134: UserWarning: sample_n will be deprecated. Use .sample((n,)) instead\n",
      "  warnings.warn('sample_n will be deprecated. Use .sample((n,)) instead', UserWarning)\n"
     ]
    },
    {
     "data": {
      "image/png": "[encoded data removed]",
      "text/plain": [
       "<Figure size 720x360 with 1 Axes>"
      ]
     },
     "metadata": {
      "needs_background": "light"
     },
     "output_type": "display_data"
    }
   ],
   "source": [
    "# Here is out distribution\n",
    "y_dist = torch.distributions.Normal(loc=2, scale=3)\n",
    "# We can sample from it. Lets see the predictions:\n",
    "n = y_dist.sample_n(1000).numpy()\n",
    "\n",
    "# We can also get the probability of an answer being sampled from the distribution\n",
    "y_dist.log_prob(2).exp() # log and exp cancel out\n",
    "\n",
    "plt.figure(figsize=(10, 5))\n",
    "plt.title('Likihood illustration')\n",
    "plt.hist(n, bins=25, label='pred')\n",
    "for y_true in [-10, -5, -3, -1, 2]:\n",
    "    prob = y_dist.log_prob(y_true).exp().numpy()\n",
    "    plt.vlines(x=y_true, ymin=0, ymax=100, color='r', label=f'true')\n",
    "    plt.text(x=y_true, y=90+y_true*2, s=f'{prob: 3.3%}')\n",
    "plt.legend()\n",
    "plt.show()"
   ]
  },
  {
   "cell_type": "markdown",
   "metadata": {},
   "source": [
    " <div class=\"alert alert-success\">\n",
    "  <h2>Exercise Likelihood</h2>\n",
    "\n",
    "  If you have a normal distribution with mean 1 and std 3. What is the likelihood of 2?\n",
    "    \n",
    "    \n",
    "      \n",
    "\n",
    "  <details>\n",
    "  <summary><b>→ Hints</b></summary>\n",
    "\n",
    "  * `y_dist = torch.distributions.Normal(?, ?)`\n",
    "  * `print(y_dist.log_prob(?).exp())`\n",
    "\n",
    "  </details>\n",
    "\n",
    "  <br/>\n",
    "  <br/>\n",
    "  <details>\n",
    "  <summary>\n",
    "    <b>→ Solution</b>\n",
    "  </summary>\n",
    "\n",
    "  ```python\n",
    "  y_dist = torch.distributions.Normal(1, 3)\n",
    "  print(y_dist.log_prob(2).exp())\n",
    "  ```\n",
    "\n",
    "  </details>\n",
    "\n",
    "  </div>"
   ]
  },
  {
   "cell_type": "code",
   "execution_count": null,
   "metadata": {
    "ExecuteTime": {
     "end_time": "2020-10-11T01:10:45.385149Z",
     "start_time": "2020-10-11T01:10:45.377300Z"
    }
   },
   "outputs": [],
   "source": []
  },
  {
   "cell_type": "markdown",
   "metadata": {},
   "source": [
    "## Training"
   ]
  },
  {
   "cell_type": "code",
   "execution_count": 20,
   "metadata": {
    "ExecuteTime": {
     "end_time": "2020-10-16T04:36:25.829742Z",
     "start_time": "2020-10-16T04:36:25.826919Z"
    }
   },
   "outputs": [],
   "source": [
    "def to_numpy(x):\n",
    "    \"\"\"Helper function to avoid repeating code\"\"\"\n",
    "    if isinstance(x, torch.Tensor):\n",
    "        x = x.cpu().detach().numpy()\n",
    "    return x"
   ]
  },
  {
   "cell_type": "code",
   "execution_count": null,
   "metadata": {
    "ExecuteTime": {
     "end_time": "2020-10-11T02:20:18.007472Z",
     "start_time": "2020-10-11T02:20:17.991717Z"
    }
   },
   "outputs": [],
   "source": []
  },
  {
   "cell_type": "code",
   "execution_count": 21,
   "metadata": {
    "ExecuteTime": {
     "end_time": "2020-10-16T04:36:25.874531Z",
     "start_time": "2020-10-16T04:36:25.831061Z"
    }
   },
   "outputs": [],
   "source": [
    "def train_epoch(ds, model, bs=128):\n",
    "    model.train()\n",
    "\n",
    "    training_loss = []\n",
    "\n",
    "    # Put data into a torch loader\n",
    "    load_train = torch.utils.data.dataloader.DataLoader(\n",
    "        ds,\n",
    "        batch_size=bs,\n",
    "        pin_memory=False,\n",
    "        num_workers=num_workers,\n",
    "        shuffle=True,\n",
    "    )\n",
    "\n",
    "    for batch in tqdm(load_train, leave=False, desc='train'):\n",
    "        # Send data to gpu\n",
    "        x_past, y_past, x_future, y_future = [d.to(device) for d in batch]\n",
    "\n",
    "        # Discard previous gradients\n",
    "        optimizer.zero_grad()\n",
    "        \n",
    "        # Run model\n",
    "        y_dist = model(x_past, y_past, x_future, y_future)\n",
    "        \n",
    "        # Get loss, it's Negative Log Likelihood\n",
    "        loss = -y_dist.log_prob(y_future).mean()\n",
    "\n",
    "        # Backprop\n",
    "        loss.backward()\n",
    "        optimizer.step()\n",
    "\n",
    "        # Record stats\n",
    "        training_loss.append(loss.item())\n",
    "\n",
    "    return np.mean(training_loss)\n",
    "\n",
    "\n",
    "def test_epoch(ds, model, bs=512):\n",
    "    model.eval()\n",
    "\n",
    "    test_loss = []\n",
    "    load_test = torch.utils.data.dataloader.DataLoader(ds,\n",
    "                                                       batch_size=bs,\n",
    "                                                       pin_memory=False,\n",
    "                                                       num_workers=num_workers)\n",
    "    for batch in tqdm(load_test, leave=False, desc='test'):\n",
    "        # Send data to gpu\n",
    "        x_past, y_past, x_future, y_future = [d.to(device) for d in batch]\n",
    "        with torch.no_grad():\n",
    "            # Run model\n",
    "            y_dist = model(x_past, y_past, x_future, y_future)\n",
    "            # Get loss, it's Negative Log Likelihood\n",
    "            loss = -y_dist.log_prob(y_future).mean()\n",
    "\n",
    "        test_loss.append(loss.item())\n",
    "\n",
    "    return np.mean(test_loss)\n",
    "\n",
    "\n",
    "def training_loop(ds_train, ds_test, model, epochs=1, bs=128):\n",
    "    all_losses = []\n",
    "    try:\n",
    "        test_loss = test_epoch(ds_test, model)\n",
    "        print(f\"Start: Test Loss = {test_loss:.2f}\")\n",
    "        for epoch in tqdm(range(epochs), desc='epochs'):\n",
    "            loss = train_epoch(ds_train, model, bs=bs)\n",
    "            print(f\"Epoch {epoch+1}/{epochs}: Training Loss = {loss:.2f}\")\n",
    "\n",
    "            test_loss = test_epoch(ds_test, model)\n",
    "            print(f\"Epoch {epoch+1}/{epochs}: Test Loss = {test_loss:.2f}\")\n",
    "            print(\"-\" * 50)\n",
    "\n",
    "            all_losses.append([loss, test_loss])\n",
    "\n",
    "    except KeyboardInterrupt:\n",
    "        # This lets you stop manually. and still get the results\n",
    "        pass\n",
    "\n",
    "    # Visualising the results\n",
    "    all_losses = np.array(all_losses)\n",
    "    plt.plot(all_losses[:, 0], label=\"Training\")\n",
    "    plt.plot(all_losses[:, 1], label=\"Test\")\n",
    "    plt.title(\"Loss\")\n",
    "    plt.legend()\n",
    "\n",
    "    return all_losses"
   ]
  },
  {
   "cell_type": "code",
   "execution_count": 22,
   "metadata": {
    "ExecuteTime": {
     "end_time": "2020-10-16T04:42:55.508891Z",
     "start_time": "2020-10-16T04:36:25.875735Z"
    }
   },
   "outputs": [
    {
     "data": {
      "application/vnd.jupyter.widget-view+json": {
       "model_id": "",
       "version_major": 2,
       "version_minor": 0
      },
      "text/plain": [
       "HBox(children=(FloatProgress(value=0.0, description='test', max=15.0, style=ProgressStyle(description_width='i…"
      ]
     },
     "metadata": {},
     "output_type": "display_data"
    },
    {
     "name": "stdout",
     "output_type": "stream",
     "text": [
      "Start: Test Loss = 1.23\n"
     ]
    },
    {
     "data": {
      "application/vnd.jupyter.widget-view+json": {
       "model_id": "943cf67e6c454fe889296d6c458e0415",
       "version_major": 2,
       "version_minor": 0
      },
      "text/plain": [
       "HBox(children=(FloatProgress(value=0.0, description='epochs', max=8.0, style=ProgressStyle(description_width='…"
      ]
     },
     "metadata": {},
     "output_type": "display_data"
    },
    {
     "data": {
      "application/vnd.jupyter.widget-view+json": {
       "model_id": "",
       "version_major": 2,
       "version_minor": 0
      },
      "text/plain": [
       "HBox(children=(FloatProgress(value=0.0, description='train', max=485.0, style=ProgressStyle(description_width=…"
      ]
     },
     "metadata": {},
     "output_type": "display_data"
    },
    {
     "name": "stdout",
     "output_type": "stream",
     "text": [
      "Epoch 1/8: Training Loss = 0.99\n"
     ]
    },
    {
     "data": {
      "application/vnd.jupyter.widget-view+json": {
       "model_id": "",
       "version_major": 2,
       "version_minor": 0
      },
      "text/plain": [
       "HBox(children=(FloatProgress(value=0.0, description='test', max=15.0, style=ProgressStyle(description_width='i…"
      ]
     },
     "metadata": {},
     "output_type": "display_data"
    },
    {
     "name": "stdout",
     "output_type": "stream",
     "text": [
      "Epoch 1/8: Test Loss = 0.75\n",
      "--------------------------------------------------\n"
     ]
    },
    {
     "data": {
      "application/vnd.jupyter.widget-view+json": {
       "model_id": "",
       "version_major": 2,
       "version_minor": 0
      },
      "text/plain": [
       "HBox(children=(FloatProgress(value=0.0, description='train', max=485.0, style=ProgressStyle(description_width=…"
      ]
     },
     "metadata": {},
     "output_type": "display_data"
    },
    {
     "name": "stdout",
     "output_type": "stream",
     "text": [
      "Epoch 2/8: Training Loss = 0.59\n"
     ]
    },
    {
     "data": {
      "application/vnd.jupyter.widget-view+json": {
       "model_id": "",
       "version_major": 2,
       "version_minor": 0
      },
      "text/plain": [
       "HBox(children=(FloatProgress(value=0.0, description='test', max=15.0, style=ProgressStyle(description_width='i…"
      ]
     },
     "metadata": {},
     "output_type": "display_data"
    },
    {
     "name": "stdout",
     "output_type": "stream",
     "text": [
      "Epoch 2/8: Test Loss = 0.19\n",
      "--------------------------------------------------\n"
     ]
    },
    {
     "data": {
      "application/vnd.jupyter.widget-view+json": {
       "model_id": "",
       "version_major": 2,
       "version_minor": 0
      },
      "text/plain": [
       "HBox(children=(FloatProgress(value=0.0, description='train', max=485.0, style=ProgressStyle(description_width=…"
      ]
     },
     "metadata": {},
     "output_type": "display_data"
    },
    {
     "name": "stdout",
     "output_type": "stream",
     "text": [
      "Epoch 3/8: Training Loss = 0.45\n"
     ]
    },
    {
     "data": {
      "application/vnd.jupyter.widget-view+json": {
       "model_id": "",
       "version_major": 2,
       "version_minor": 0
      },
      "text/plain": [
       "HBox(children=(FloatProgress(value=0.0, description='test', max=15.0, style=ProgressStyle(description_width='i…"
      ]
     },
     "metadata": {},
     "output_type": "display_data"
    },
    {
     "name": "stdout",
     "output_type": "stream",
     "text": [
      "Epoch 3/8: Test Loss = 0.13\n",
      "--------------------------------------------------\n"
     ]
    },
    {
     "data": {
      "application/vnd.jupyter.widget-view+json": {
       "model_id": "",
       "version_major": 2,
       "version_minor": 0
      },
      "text/plain": [
       "HBox(children=(FloatProgress(value=0.0, description='train', max=485.0, style=ProgressStyle(description_width=…"
      ]
     },
     "metadata": {},
     "output_type": "display_data"
    },
    {
     "name": "stdout",
     "output_type": "stream",
     "text": [
      "Epoch 4/8: Training Loss = 0.39\n"
     ]
    },
    {
     "data": {
      "application/vnd.jupyter.widget-view+json": {
       "model_id": "",
       "version_major": 2,
       "version_minor": 0
      },
      "text/plain": [
       "HBox(children=(FloatProgress(value=0.0, description='test', max=15.0, style=ProgressStyle(description_width='i…"
      ]
     },
     "metadata": {},
     "output_type": "display_data"
    },
    {
     "name": "stdout",
     "output_type": "stream",
     "text": [
      "Epoch 4/8: Test Loss = 0.12\n",
      "--------------------------------------------------\n"
     ]
    },
    {
     "data": {
      "application/vnd.jupyter.widget-view+json": {
       "model_id": "",
       "version_major": 2,
       "version_minor": 0
      },
      "text/plain": [
       "HBox(children=(FloatProgress(value=0.0, description='train', max=485.0, style=ProgressStyle(description_width=…"
      ]
     },
     "metadata": {},
     "output_type": "display_data"
    },
    {
     "name": "stdout",
     "output_type": "stream",
     "text": [
      "Epoch 5/8: Training Loss = 0.36\n"
     ]
    },
    {
     "data": {
      "application/vnd.jupyter.widget-view+json": {
       "model_id": "",
       "version_major": 2,
       "version_minor": 0
      },
      "text/plain": [
       "HBox(children=(FloatProgress(value=0.0, description='test', max=15.0, style=ProgressStyle(description_width='i…"
      ]
     },
     "metadata": {},
     "output_type": "display_data"
    },
    {
     "name": "stdout",
     "output_type": "stream",
     "text": [
      "Epoch 5/8: Test Loss = 0.14\n",
      "--------------------------------------------------\n"
     ]
    },
    {
     "data": {
      "application/vnd.jupyter.widget-view+json": {
       "model_id": "",
       "version_major": 2,
       "version_minor": 0
      },
      "text/plain": [
       "HBox(children=(FloatProgress(value=0.0, description='train', max=485.0, style=ProgressStyle(description_width=…"
      ]
     },
     "metadata": {},
     "output_type": "display_data"
    },
    {
     "name": "stdout",
     "output_type": "stream",
     "text": [
      "Epoch 6/8: Training Loss = 0.29\n"
     ]
    },
    {
     "data": {
      "application/vnd.jupyter.widget-view+json": {
       "model_id": "",
       "version_major": 2,
       "version_minor": 0
      },
      "text/plain": [
       "HBox(children=(FloatProgress(value=0.0, description='test', max=15.0, style=ProgressStyle(description_width='i…"
      ]
     },
     "metadata": {},
     "output_type": "display_data"
    },
    {
     "name": "stdout",
     "output_type": "stream",
     "text": [
      "Epoch 6/8: Test Loss = 0.06\n",
      "--------------------------------------------------\n"
     ]
    },
    {
     "data": {
      "application/vnd.jupyter.widget-view+json": {
       "model_id": "",
       "version_major": 2,
       "version_minor": 0
      },
      "text/plain": [
       "HBox(children=(FloatProgress(value=0.0, description='train', max=485.0, style=ProgressStyle(description_width=…"
      ]
     },
     "metadata": {},
     "output_type": "display_data"
    },
    {
     "name": "stdout",
     "output_type": "stream",
     "text": [
      "Epoch 7/8: Training Loss = 0.29\n"
     ]
    },
    {
     "data": {
      "application/vnd.jupyter.widget-view+json": {
       "model_id": "",
       "version_major": 2,
       "version_minor": 0
      },
      "text/plain": [
       "HBox(children=(FloatProgress(value=0.0, description='test', max=15.0, style=ProgressStyle(description_width='i…"
      ]
     },
     "metadata": {},
     "output_type": "display_data"
    },
    {
     "name": "stdout",
     "output_type": "stream",
     "text": [
      "Epoch 7/8: Test Loss = 0.13\n",
      "--------------------------------------------------\n"
     ]
    },
    {
     "data": {
      "application/vnd.jupyter.widget-view+json": {
       "model_id": "",
       "version_major": 2,
       "version_minor": 0
      },
      "text/plain": [
       "HBox(children=(FloatProgress(value=0.0, description='train', max=485.0, style=ProgressStyle(description_width=…"
      ]
     },
     "metadata": {},
     "output_type": "display_data"
    },
    {
     "name": "stdout",
     "output_type": "stream",
     "text": [
      "Epoch 8/8: Training Loss = 0.27\n"
     ]
    },
    {
     "data": {
      "application/vnd.jupyter.widget-view+json": {
       "model_id": "",
       "version_major": 2,
       "version_minor": 0
      },
      "text/plain": [
       "HBox(children=(FloatProgress(value=0.0, description='test', max=15.0, style=ProgressStyle(description_width='i…"
      ]
     },
     "metadata": {},
     "output_type": "display_data"
    },
    {
     "name": "stdout",
     "output_type": "stream",
     "text": [
      "Epoch 8/8: Test Loss = 0.07\n",
      "--------------------------------------------------\n",
      "\n"
     ]
    },
    {
     "data": {
      "text/plain": [
       "1"
      ]
     },
     "execution_count": 22,
     "metadata": {},
     "output_type": "execute_result"
    },
    {
     "data": {
      "image/png": "[encoded data removed]",
      "text/plain": [
       "<Figure size 432x288 with 1 Axes>"
      ]
     },
     "metadata": {
      "needs_background": "light"
     },
     "output_type": "display_data"
    }
   ],
   "source": [
    "# this might take 1 minute per epoch on a gpu\n",
    "training_loop(ds_train, ds_test, model, epochs=8, bs=batch_size)\n",
    "1"
   ]
  },
  {
   "cell_type": "markdown",
   "metadata": {},
   "source": [
    "## Predict\n",
    "\n",
    "When we generate prediction in a sequence to sequence model we start at a time, then predict N steps into the future. So we have 2 dimensions: source time, target time.\n",
    "\n",
    "But we also care about how far we were predicting into the future, so we have 3 dimensions: source time, target time, time ahead.\n",
    "\n",
    "It's hard to use pandas for data with virtual dimensions so we will use xarray. Xarray has an interface similar to pandas but can have N dimensions. It also allow coordinates which are virtual dimensions."
   ]
  },
  {
   "cell_type": "code",
   "execution_count": 23,
   "metadata": {
    "ExecuteTime": {
     "end_time": "2020-10-16T04:42:56.136515Z",
     "start_time": "2020-10-16T04:42:55.511479Z"
    }
   },
   "outputs": [],
   "source": [
    "import xarray as xr \n",
    "\n",
    "def predict(model, ds_test, batch_size):\n",
    "    load_test = torch.utils.data.dataloader.DataLoader(ds_test, batch_size=batch_size)\n",
    "    xrs = []\n",
    "    for i, batch in enumerate(tqdm(load_test, desc='predict')):\n",
    "        model.eval()\n",
    "        with torch.no_grad():\n",
    "            x_past, y_past, x_future, y_future = [d.to(device) for d in batch]\n",
    "            y_dist = model(x_past, y_past, x_future, y_future)\n",
    "            nll = -y_dist.log_prob(y_future)\n",
    "\n",
    "            # Convert to numpy\n",
    "            mean = to_numpy(y_dist.loc.squeeze(-1))\n",
    "            std = to_numpy(y_dist.scale.squeeze(-1))\n",
    "            nll = to_numpy(nll.squeeze(-1))\n",
    "            y_future = to_numpy(y_future.squeeze(-1))\n",
    "            y_past = to_numpy(y_past.squeeze(-1))    \n",
    "\n",
    "        # Make an xarray.Dataset for the data\n",
    "        bs = y_future.shape[0]\n",
    "        t_source = ds_test.t[i:i+bs].values\n",
    "        t_ahead = pd.timedelta_range(0, periods=ds_test.window_future, freq=freq).values\n",
    "        t_behind = pd.timedelta_range(end=-pd.Timedelta(freq), periods=ds_test.window_past, freq=freq)\n",
    "        xr_out = xr.Dataset(\n",
    "            {\n",
    "                # Format> name: ([dimensions,...], array),\n",
    "                \"y_past\": ([\"t_source\", \"t_behind\",], y_past),\n",
    "                \"nll\": ([\"t_source\", \"t_ahead\",], nll),\n",
    "                \"y_pred\": ([\"t_source\", \"t_ahead\",], mean),\n",
    "                \"y_pred_std\": ([\"t_source\", \"t_ahead\",], std),\n",
    "                \"y_true\": ([\"t_source\", \"t_ahead\",], y_future),\n",
    "            },\n",
    "            coords={\"t_source\": t_source, \"t_ahead\": t_ahead, \"t_behind\": t_behind},\n",
    "        )\n",
    "        xrs.append(xr_out)\n",
    "\n",
    "    # Join all batches\n",
    "    ds_preds = xr.concat(xrs, dim=\"t_source\")\n",
    "    \n",
    "    # undo scaling on y\n",
    "    ds_preds['y_pred_std'].values = ds_preds.y_pred_std * scaler_output.scale_\n",
    "    ds_preds['y_past'].values =  scaler_output.inverse_transform(ds_preds.y_past)\n",
    "    ds_preds['y_pred'].values =  scaler_output.inverse_transform(ds_preds.y_pred)\n",
    "    ds_preds['y_true'].values =  scaler_output.inverse_transform(ds_preds.y_true)\n",
    "    \n",
    "    # Final metric, mean NLL for up to 6 hours ahead\n",
    "    test_NLL = ds_preds.isel(t_ahead=slice(0, 12)).nll.mean().item()\n",
    "    print(f'NLL mean over <=6 hours: {test_NLL:2.4g} (lower is better)')\n",
    "    return ds_preds"
   ]
  },
  {
   "cell_type": "code",
   "execution_count": 24,
   "metadata": {
    "ExecuteTime": {
     "end_time": "2020-10-16T04:42:57.535661Z",
     "start_time": "2020-10-16T04:42:56.138208Z"
    }
   },
   "outputs": [
    {
     "data": {
      "application/vnd.jupyter.widget-view+json": {
       "model_id": "d6aa7dc536e946bb94eff61e69a9d951",
       "version_major": 2,
       "version_minor": 0
      },
      "text/plain": [
       "HBox(children=(FloatProgress(value=0.0, description='predict', max=20.0, style=ProgressStyle(description_width…"
      ]
     },
     "metadata": {},
     "output_type": "display_data"
    },
    {
     "name": "stdout",
     "output_type": "stream",
     "text": [
      "\n",
      "NLL mean over <=6 hours: 0.08013 (lower is better)\n"
     ]
    }
   ],
   "source": [
    "ds_preds = predict(model, ds_test, batch_size*6)"
   ]
  },
  {
   "cell_type": "code",
   "execution_count": 25,
   "metadata": {
    "ExecuteTime": {
     "end_time": "2020-10-16T04:42:57.593546Z",
     "start_time": "2020-10-16T04:42:57.537033Z"
    }
   },
   "outputs": [
    {
     "data": {
      "text/html": [
       "<div><svg style=\"position: absolute; width: 0; height: 0; overflow: hidden\">\n",
       "<defs>\n",
       "<symbol id=\"icon-database\" viewBox=\"0 0 32 32\">\n",
       "<path d=\"M16 0c-8.837 0-16 2.239-16 5v4c0 2.761 7.163 5 16 5s16-2.239 16-5v-4c0-2.761-7.163-5-16-5z\"></path>\n",
       "<path d=\"M16 17c-8.837 0-16-2.239-16-5v6c0 2.761 7.163 5 16 5s16-2.239 16-5v-6c0 2.761-7.163 5-16 5z\"></path>\n",
       "<path d=\"M16 26c-8.837 0-16-2.239-16-5v6c0 2.761 7.163 5 16 5s16-2.239 16-5v-6c0 2.761-7.163 5-16 5z\"></path>\n",
       "</symbol>\n",
       "<symbol id=\"icon-file-text2\" viewBox=\"0 0 32 32\">\n",
       "<path d=\"M28.681 7.159c-0.694-0.947-1.662-2.053-2.724-3.116s-2.169-2.030-3.116-2.724c-1.612-1.182-2.393-1.319-2.841-1.319h-15.5c-1.378 0-2.5 1.121-2.5 2.5v27c0 1.378 1.122 2.5 2.5 2.5h23c1.378 0 2.5-1.122 2.5-2.5v-19.5c0-0.448-0.137-1.23-1.319-2.841zM24.543 5.457c0.959 0.959 1.712 1.825 2.268 2.543h-4.811v-4.811c0.718 0.556 1.584 1.309 2.543 2.268zM28 29.5c0 0.271-0.229 0.5-0.5 0.5h-23c-0.271 0-0.5-0.229-0.5-0.5v-27c0-0.271 0.229-0.5 0.5-0.5 0 0 15.499-0 15.5 0v7c0 0.552 0.448 1 1 1h7v19.5z\"></path>\n",
       "<path d=\"M23 26h-14c-0.552 0-1-0.448-1-1s0.448-1 1-1h14c0.552 0 1 0.448 1 1s-0.448 1-1 1z\"></path>\n",
       "<path d=\"M23 22h-14c-0.552 0-1-0.448-1-1s0.448-1 1-1h14c0.552 0 1 0.448 1 1s-0.448 1-1 1z\"></path>\n",
       "<path d=\"M23 18h-14c-0.552 0-1-0.448-1-1s0.448-1 1-1h14c0.552 0 1 0.448 1 1s-0.448 1-1 1z\"></path>\n",
       "</symbol>\n",
       "</defs>\n",
       "</svg>\n",
       "<style>/* CSS stylesheet for displaying xarray objects in jupyterlab.\n",
       " *\n",
       " */\n",
       "\n",
       ":root {\n",
       "  --xr-font-color0: var(--jp-content-font-color0, rgba(0, 0, 0, 1));\n",
       "  --xr-font-color2: var(--jp-content-font-color2, rgba(0, 0, 0, 0.54));\n",
       "  --xr-font-color3: var(--jp-content-font-color3, rgba(0, 0, 0, 0.38));\n",
       "  --xr-border-color: var(--jp-border-color2, #e0e0e0);\n",
       "  --xr-disabled-color: var(--jp-layout-color3, #bdbdbd);\n",
       "  --xr-background-color: var(--jp-layout-color0, white);\n",
       "  --xr-background-color-row-even: var(--jp-layout-color1, white);\n",
       "  --xr-background-color-row-odd: var(--jp-layout-color2, #eeeeee);\n",
       "}\n",
       "\n",
       "html[theme=dark],\n",
       "body.vscode-dark {\n",
       "  --xr-font-color0: rgba(255, 255, 255, 1);\n",
       "  --xr-font-color2: rgba(255, 255, 255, 0.54);\n",
       "  --xr-font-color3: rgba(255, 255, 255, 0.38);\n",
       "  --xr-border-color: #1F1F1F;\n",
       "  --xr-disabled-color: #515151;\n",
       "  --xr-background-color: #111111;\n",
       "  --xr-background-color-row-even: #111111;\n",
       "  --xr-background-color-row-odd: #313131;\n",
       "}\n",
       "\n",
       ".xr-wrap {\n",
       "  display: block;\n",
       "  min-width: 300px;\n",
       "  max-width: 700px;\n",
       "}\n",
       "\n",
       ".xr-text-repr-fallback {\n",
       "  /* fallback to plain text repr when CSS is not injected (untrusted notebook) */\n",
       "  display: none;\n",
       "}\n",
       "\n",
       ".xr-header {\n",
       "  padding-top: 6px;\n",
       "  padding-bottom: 6px;\n",
       "  margin-bottom: 4px;\n",
       "  border-bottom: solid 1px var(--xr-border-color);\n",
       "}\n",
       "\n",
       ".xr-header > div,\n",
       ".xr-header > ul {\n",
       "  display: inline;\n",
       "  margin-top: 0;\n",
       "  margin-bottom: 0;\n",
       "}\n",
       "\n",
       ".xr-obj-type,\n",
       ".xr-array-name {\n",
       "  margin-left: 2px;\n",
       "  margin-right: 10px;\n",
       "}\n",
       "\n",
       ".xr-obj-type {\n",
       "  color: var(--xr-font-color2);\n",
       "}\n",
       "\n",
       ".xr-sections {\n",
       "  padding-left: 0 !important;\n",
       "  display: grid;\n",
       "  grid-template-columns: 150px auto auto 1fr 20px 20px;\n",
       "}\n",
       "\n",
       ".xr-section-item {\n",
       "  display: contents;\n",
       "}\n",
       "\n",
       ".xr-section-item input {\n",
       "  display: none;\n",
       "}\n",
       "\n",
       ".xr-section-item input + label {\n",
       "  color: var(--xr-disabled-color);\n",
       "}\n",
       "\n",
       ".xr-section-item input:enabled + label {\n",
       "  cursor: pointer;\n",
       "  color: var(--xr-font-color2);\n",
       "}\n",
       "\n",
       ".xr-section-item input:enabled + label:hover {\n",
       "  color: var(--xr-font-color0);\n",
       "}\n",
       "\n",
       ".xr-section-summary {\n",
       "  grid-column: 1;\n",
       "  color: var(--xr-font-color2);\n",
       "  font-weight: 500;\n",
       "}\n",
       "\n",
       ".xr-section-summary > span {\n",
       "  display: inline-block;\n",
       "  padding-left: 0.5em;\n",
       "}\n",
       "\n",
       ".xr-section-summary-in:disabled + label {\n",
       "  color: var(--xr-font-color2);\n",
       "}\n",
       "\n",
       ".xr-section-summary-in + label:before {\n",
       "  display: inline-block;\n",
       "  content: '►';\n",
       "  font-size: 11px;\n",
       "  width: 15px;\n",
       "  text-align: center;\n",
       "}\n",
       "\n",
       ".xr-section-summary-in:disabled + label:before {\n",
       "  color: var(--xr-disabled-color);\n",
       "}\n",
       "\n",
       ".xr-section-summary-in:checked + label:before {\n",
       "  content: '▼';\n",
       "}\n",
       "\n",
       ".xr-section-summary-in:checked + label > span {\n",
       "  display: none;\n",
       "}\n",
       "\n",
       ".xr-section-summary,\n",
       ".xr-section-inline-details {\n",
       "  padding-top: 4px;\n",
       "  padding-bottom: 4px;\n",
       "}\n",
       "\n",
       ".xr-section-inline-details {\n",
       "  grid-column: 2 / -1;\n",
       "}\n",
       "\n",
       ".xr-section-details {\n",
       "  display: none;\n",
       "  grid-column: 1 / -1;\n",
       "  margin-bottom: 5px;\n",
       "}\n",
       "\n",
       ".xr-section-summary-in:checked ~ .xr-section-details {\n",
       "  display: contents;\n",
       "}\n",
       "\n",
       ".xr-array-wrap {\n",
       "  grid-column: 1 / -1;\n",
       "  display: grid;\n",
       "  grid-template-columns: 20px auto;\n",
       "}\n",
       "\n",
       ".xr-array-wrap > label {\n",
       "  grid-column: 1;\n",
       "  vertical-align: top;\n",
       "}\n",
       "\n",
       ".xr-preview {\n",
       "  color: var(--xr-font-color3);\n",
       "}\n",
       "\n",
       ".xr-array-preview,\n",
       ".xr-array-data {\n",
       "  padding: 0 5px !important;\n",
       "  grid-column: 2;\n",
       "}\n",
       "\n",
       ".xr-array-data,\n",
       ".xr-array-in:checked ~ .xr-array-preview {\n",
       "  display: none;\n",
       "}\n",
       "\n",
       ".xr-array-in:checked ~ .xr-array-data,\n",
       ".xr-array-preview {\n",
       "  display: inline-block;\n",
       "}\n",
       "\n",
       ".xr-dim-list {\n",
       "  display: inline-block !important;\n",
       "  list-style: none;\n",
       "  padding: 0 !important;\n",
       "  margin: 0;\n",
       "}\n",
       "\n",
       ".xr-dim-list li {\n",
       "  display: inline-block;\n",
       "  padding: 0;\n",
       "  margin: 0;\n",
       "}\n",
       "\n",
       ".xr-dim-list:before {\n",
       "  content: '(';\n",
       "}\n",
       "\n",
       ".xr-dim-list:after {\n",
       "  content: ')';\n",
       "}\n",
       "\n",
       ".xr-dim-list li:not(:last-child):after {\n",
       "  content: ',';\n",
       "  padding-right: 5px;\n",
       "}\n",
       "\n",
       ".xr-has-index {\n",
       "  font-weight: bold;\n",
       "}\n",
       "\n",
       ".xr-var-list,\n",
       ".xr-var-item {\n",
       "  display: contents;\n",
       "}\n",
       "\n",
       ".xr-var-item > div,\n",
       ".xr-var-item label,\n",
       ".xr-var-item > .xr-var-name span {\n",
       "  background-color: var(--xr-background-color-row-even);\n",
       "  margin-bottom: 0;\n",
       "}\n",
       "\n",
       ".xr-var-item > .xr-var-name:hover span {\n",
       "  padding-right: 5px;\n",
       "}\n",
       "\n",
       ".xr-var-list > li:nth-child(odd) > div,\n",
       ".xr-var-list > li:nth-child(odd) > label,\n",
       ".xr-var-list > li:nth-child(odd) > .xr-var-name span {\n",
       "  background-color: var(--xr-background-color-row-odd);\n",
       "}\n",
       "\n",
       ".xr-var-name {\n",
       "  grid-column: 1;\n",
       "}\n",
       "\n",
       ".xr-var-dims {\n",
       "  grid-column: 2;\n",
       "}\n",
       "\n",
       ".xr-var-dtype {\n",
       "  grid-column: 3;\n",
       "  text-align: right;\n",
       "  color: var(--xr-font-color2);\n",
       "}\n",
       "\n",
       ".xr-var-preview {\n",
       "  grid-column: 4;\n",
       "}\n",
       "\n",
       ".xr-var-name,\n",
       ".xr-var-dims,\n",
       ".xr-var-dtype,\n",
       ".xr-preview,\n",
       ".xr-attrs dt {\n",
       "  white-space: nowrap;\n",
       "  overflow: hidden;\n",
       "  text-overflow: ellipsis;\n",
       "  padding-right: 10px;\n",
       "}\n",
       "\n",
       ".xr-var-name:hover,\n",
       ".xr-var-dims:hover,\n",
       ".xr-var-dtype:hover,\n",
       ".xr-attrs dt:hover {\n",
       "  overflow: visible;\n",
       "  width: auto;\n",
       "  z-index: 1;\n",
       "}\n",
       "\n",
       ".xr-var-attrs,\n",
       ".xr-var-data {\n",
       "  display: none;\n",
       "  background-color: var(--xr-background-color) !important;\n",
       "  padding-bottom: 5px !important;\n",
       "}\n",
       "\n",
       ".xr-var-attrs-in:checked ~ .xr-var-attrs,\n",
       ".xr-var-data-in:checked ~ .xr-var-data {\n",
       "  display: block;\n",
       "}\n",
       "\n",
       ".xr-var-data > table {\n",
       "  float: right;\n",
       "}\n",
       "\n",
       ".xr-var-name span,\n",
       ".xr-var-data,\n",
       ".xr-attrs {\n",
       "  padding-left: 25px !important;\n",
       "}\n",
       "\n",
       ".xr-attrs,\n",
       ".xr-var-attrs,\n",
       ".xr-var-data {\n",
       "  grid-column: 1 / -1;\n",
       "}\n",
       "\n",
       "dl.xr-attrs {\n",
       "  padding: 0;\n",
       "  margin: 0;\n",
       "  display: grid;\n",
       "  grid-template-columns: 125px auto;\n",
       "}\n",
       "\n",
       ".xr-attrs dt, dd {\n",
       "  padding: 0;\n",
       "  margin: 0;\n",
       "  float: left;\n",
       "  padding-right: 10px;\n",
       "  width: auto;\n",
       "}\n",
       "\n",
       ".xr-attrs dt {\n",
       "  font-weight: normal;\n",
       "  grid-column: 1;\n",
       "}\n",
       "\n",
       ".xr-attrs dt:hover span {\n",
       "  display: inline-block;\n",
       "  background: var(--xr-background-color);\n",
       "  padding-right: 10px;\n",
       "}\n",
       "\n",
       ".xr-attrs dd {\n",
       "  grid-column: 2;\n",
       "  white-space: pre-wrap;\n",
       "  word-break: break-all;\n",
       "}\n",
       "\n",
       ".xr-icon-database,\n",
       ".xr-icon-file-text2 {\n",
       "  display: inline-block;\n",
       "  vertical-align: middle;\n",
       "  width: 1em;\n",
       "  height: 1.5em !important;\n",
       "  stroke-width: 0;\n",
       "  stroke: currentColor;\n",
       "  fill: currentColor;\n",
       "}\n",
       "</style><pre class='xr-text-repr-fallback'>&lt;xarray.Dataset&gt;\n",
       "Dimensions:        (t_ahead: 192, t_behind: 192, t_source: 7465)\n",
       "Coordinates:\n",
       "  * t_source       (t_source) datetime64[ns] 2013-09-17T12:00:00 ... 2013-09-...\n",
       "  * t_ahead        (t_ahead) timedelta64[ns] 00:00:00 ... 3 days 23:30:00\n",
       "  * t_behind       (t_behind) timedelta64[ns] -4 days +00:00:00 ... -1 days +...\n",
       "    t_target       (t_source, t_ahead) datetime64[ns] 2013-09-17T12:00:00 ......\n",
       "    t_past         (t_source, t_behind) datetime64[ns] 2013-09-13T12:00:00 .....\n",
       "    t_ahead_hours  (t_ahead) float64 0.0 0.0 1.0 1.0 2.0 ... 94.0 94.0 95.0 95.0\n",
       "Data variables:\n",
       "    y_past         (t_source, t_behind) float32 0.34182978 ... 0.42559525\n",
       "    nll            (t_source, t_ahead) float32 -0.39930427 ... -0.5875193\n",
       "    y_pred         (t_source, t_ahead) float32 0.4066002 ... 0.43110877\n",
       "    y_pred_std     (t_source, t_ahead) float64 0.0581 0.05431 ... 0.04713\n",
       "    y_true         (t_source, t_ahead) float32 0.39902174 ... 0.44257143</pre><div class='xr-wrap' hidden><div class='xr-header'><div class='xr-obj-type'>xarray.Dataset</div></div><ul class='xr-sections'><li class='xr-section-item'><input id='section-273eb36a-a585-495b-ac60-5ffb218677fd' class='xr-section-summary-in' type='checkbox' disabled ><label for='section-273eb36a-a585-495b-ac60-5ffb218677fd' class='xr-section-summary'  title='Expand/collapse section'>Dimensions:</label><div class='xr-section-inline-details'><ul class='xr-dim-list'><li><span class='xr-has-index'>t_ahead</span>: 192</li><li><span class='xr-has-index'>t_behind</span>: 192</li><li><span class='xr-has-index'>t_source</span>: 7465</li></ul></div><div class='xr-section-details'></div></li><li class='xr-section-item'><input id='section-80480814-5c7b-448a-a4f2-7843ae194735' class='xr-section-summary-in' type='checkbox'  checked><label for='section-80480814-5c7b-448a-a4f2-7843ae194735' class='xr-section-summary' >Coordinates: <span>(6)</span></label><div class='xr-section-inline-details'></div><div class='xr-section-details'><ul class='xr-var-list'><li class='xr-var-item'><div class='xr-var-name'><span class='xr-has-index'>t_source</span></div><div class='xr-var-dims'>(t_source)</div><div class='xr-var-dtype'>datetime64[ns]</div><div class='xr-var-preview xr-preview'>2013-09-17T12:00:00 ... 2013-09-...</div><input id='attrs-e82f791d-925a-484d-8668-eac1c315f1f0' class='xr-var-attrs-in' type='checkbox' disabled><label for='attrs-e82f791d-925a-484d-8668-eac1c315f1f0' title='Show/Hide attributes'><svg class='icon xr-icon-file-text2'><use xlink:href='#icon-file-text2'></use></svg></label><input id='data-37cf9374-3fe9-4fe4-9780-ccdce4dd615c' class='xr-var-data-in' type='checkbox'><label for='data-37cf9374-3fe9-4fe4-9780-ccdce4dd615c' title='Show/Hide data repr'><svg class='icon xr-icon-database'><use xlink:href='#icon-database'></use></svg></label><div class='xr-var-attrs'><dl class='xr-attrs'></dl></div><div class='xr-var-data'><pre>array([&#x27;2013-09-17T12:00:00.000000000&#x27;, &#x27;2013-09-17T12:30:00.000000000&#x27;,\n",
       "       &#x27;2013-09-17T13:00:00.000000000&#x27;, ..., &#x27;2013-09-21T08:30:00.000000000&#x27;,\n",
       "       &#x27;2013-09-21T09:00:00.000000000&#x27;, &#x27;2013-09-21T09:30:00.000000000&#x27;],\n",
       "      dtype=&#x27;datetime64[ns]&#x27;)</pre></div></li><li class='xr-var-item'><div class='xr-var-name'><span class='xr-has-index'>t_ahead</span></div><div class='xr-var-dims'>(t_ahead)</div><div class='xr-var-dtype'>timedelta64[ns]</div><div class='xr-var-preview xr-preview'>00:00:00 ... 3 days 23:30:00</div><input id='attrs-8008975e-535e-4b78-b767-537f3d4c72f9' class='xr-var-attrs-in' type='checkbox' disabled><label for='attrs-8008975e-535e-4b78-b767-537f3d4c72f9' title='Show/Hide attributes'><svg class='icon xr-icon-file-text2'><use xlink:href='#icon-file-text2'></use></svg></label><input id='data-1294f80a-d9b6-4f51-bbeb-04e79c017148' class='xr-var-data-in' type='checkbox'><label for='data-1294f80a-d9b6-4f51-bbeb-04e79c017148' title='Show/Hide data repr'><svg class='icon xr-icon-database'><use xlink:href='#icon-database'></use></svg></label><div class='xr-var-attrs'><dl class='xr-attrs'></dl></div><div class='xr-var-data'><pre>array([              0,   1800000000000,   3600000000000,   5400000000000,\n",
       "         7200000000000,   9000000000000,  10800000000000,  12600000000000,\n",
       "        14400000000000,  16200000000000,  18000000000000,  19800000000000,\n",
       "        21600000000000,  23400000000000,  25200000000000,  27000000000000,\n",
       "        28800000000000,  30600000000000,  32400000000000,  34200000000000,\n",
       "        36000000000000,  37800000000000,  39600000000000,  41400000000000,\n",
       "        43200000000000,  45000000000000,  46800000000000,  48600000000000,\n",
       "        50400000000000,  52200000000000,  54000000000000,  55800000000000,\n",
       "        57600000000000,  59400000000000,  61200000000000,  63000000000000,\n",
       "        64800000000000,  66600000000000,  68400000000000,  70200000000000,\n",
       "        72000000000000,  73800000000000,  75600000000000,  77400000000000,\n",
       "        79200000000000,  81000000000000,  82800000000000,  84600000000000,\n",
       "        86400000000000,  88200000000000,  90000000000000,  91800000000000,\n",
       "        93600000000000,  95400000000000,  97200000000000,  99000000000000,\n",
       "       100800000000000, 102600000000000, 104400000000000, 106200000000000,\n",
       "       108000000000000, 109800000000000, 111600000000000, 113400000000000,\n",
       "       115200000000000, 117000000000000, 118800000000000, 120600000000000,\n",
       "       122400000000000, 124200000000000, 126000000000000, 127800000000000,\n",
       "       129600000000000, 131400000000000, 133200000000000, 135000000000000,\n",
       "       136800000000000, 138600000000000, 140400000000000, 142200000000000,\n",
       "       144000000000000, 145800000000000, 147600000000000, 149400000000000,\n",
       "       151200000000000, 153000000000000, 154800000000000, 156600000000000,\n",
       "       158400000000000, 160200000000000, 162000000000000, 163800000000000,\n",
       "       165600000000000, 167400000000000, 169200000000000, 171000000000000,\n",
       "       172800000000000, 174600000000000, 176400000000000, 178200000000000,\n",
       "       180000000000000, 181800000000000, 183600000000000, 185400000000000,\n",
       "       187200000000000, 189000000000000, 190800000000000, 192600000000000,\n",
       "       194400000000000, 196200000000000, 198000000000000, 199800000000000,\n",
       "       201600000000000, 203400000000000, 205200000000000, 207000000000000,\n",
       "       208800000000000, 210600000000000, 212400000000000, 214200000000000,\n",
       "       216000000000000, 217800000000000, 219600000000000, 221400000000000,\n",
       "       223200000000000, 225000000000000, 226800000000000, 228600000000000,\n",
       "       230400000000000, 232200000000000, 234000000000000, 235800000000000,\n",
       "       237600000000000, 239400000000000, 241200000000000, 243000000000000,\n",
       "       244800000000000, 246600000000000, 248400000000000, 250200000000000,\n",
       "       252000000000000, 253800000000000, 255600000000000, 257400000000000,\n",
       "       259200000000000, 261000000000000, 262800000000000, 264600000000000,\n",
       "       266400000000000, 268200000000000, 270000000000000, 271800000000000,\n",
       "       273600000000000, 275400000000000, 277200000000000, 279000000000000,\n",
       "       280800000000000, 282600000000000, 284400000000000, 286200000000000,\n",
       "       288000000000000, 289800000000000, 291600000000000, 293400000000000,\n",
       "       295200000000000, 297000000000000, 298800000000000, 300600000000000,\n",
       "       302400000000000, 304200000000000, 306000000000000, 307800000000000,\n",
       "       309600000000000, 311400000000000, 313200000000000, 315000000000000,\n",
       "       316800000000000, 318600000000000, 320400000000000, 322200000000000,\n",
       "       324000000000000, 325800000000000, 327600000000000, 329400000000000,\n",
       "       331200000000000, 333000000000000, 334800000000000, 336600000000000,\n",
       "       338400000000000, 340200000000000, 342000000000000, 343800000000000],\n",
       "      dtype=&#x27;timedelta64[ns]&#x27;)</pre></div></li><li class='xr-var-item'><div class='xr-var-name'><span class='xr-has-index'>t_behind</span></div><div class='xr-var-dims'>(t_behind)</div><div class='xr-var-dtype'>timedelta64[ns]</div><div class='xr-var-preview xr-preview'>-4 days +00:00:00 ... -1 days +2...</div><input id='attrs-1150c033-6629-4df5-a410-43161a194db9' class='xr-var-attrs-in' type='checkbox' disabled><label for='attrs-1150c033-6629-4df5-a410-43161a194db9' title='Show/Hide attributes'><svg class='icon xr-icon-file-text2'><use xlink:href='#icon-file-text2'></use></svg></label><input id='data-acc19fce-b404-4e0f-a353-f3a2edbee77d' class='xr-var-data-in' type='checkbox'><label for='data-acc19fce-b404-4e0f-a353-f3a2edbee77d' title='Show/Hide data repr'><svg class='icon xr-icon-database'><use xlink:href='#icon-database'></use></svg></label><div class='xr-var-attrs'><dl class='xr-attrs'></dl></div><div class='xr-var-data'><pre>array([-345600000000000, -343800000000000, -342000000000000, -340200000000000,\n",
       "       -338400000000000, -336600000000000, -334800000000000, -333000000000000,\n",
       "       -331200000000000, -329400000000000, -327600000000000, -325800000000000,\n",
       "       -324000000000000, -322200000000000, -320400000000000, -318600000000000,\n",
       "       -316800000000000, -315000000000000, -313200000000000, -311400000000000,\n",
       "       -309600000000000, -307800000000000, -306000000000000, -304200000000000,\n",
       "       -302400000000000, -300600000000000, -298800000000000, -297000000000000,\n",
       "       -295200000000000, -293400000000000, -291600000000000, -289800000000000,\n",
       "       -288000000000000, -286200000000000, -284400000000000, -282600000000000,\n",
       "       -280800000000000, -279000000000000, -277200000000000, -275400000000000,\n",
       "       -273600000000000, -271800000000000, -270000000000000, -268200000000000,\n",
       "       -266400000000000, -264600000000000, -262800000000000, -261000000000000,\n",
       "       -259200000000000, -257400000000000, -255600000000000, -253800000000000,\n",
       "       -252000000000000, -250200000000000, -248400000000000, -246600000000000,\n",
       "       -244800000000000, -243000000000000, -241200000000000, -239400000000000,\n",
       "       -237600000000000, -235800000000000, -234000000000000, -232200000000000,\n",
       "       -230400000000000, -228600000000000, -226800000000000, -225000000000000,\n",
       "       -223200000000000, -221400000000000, -219600000000000, -217800000000000,\n",
       "       -216000000000000, -214200000000000, -212400000000000, -210600000000000,\n",
       "       -208800000000000, -207000000000000, -205200000000000, -203400000000000,\n",
       "       -201600000000000, -199800000000000, -198000000000000, -196200000000000,\n",
       "       -194400000000000, -192600000000000, -190800000000000, -189000000000000,\n",
       "       -187200000000000, -185400000000000, -183600000000000, -181800000000000,\n",
       "       -180000000000000, -178200000000000, -176400000000000, -174600000000000,\n",
       "       -172800000000000, -171000000000000, -169200000000000, -167400000000000,\n",
       "       -165600000000000, -163800000000000, -162000000000000, -160200000000000,\n",
       "       -158400000000000, -156600000000000, -154800000000000, -153000000000000,\n",
       "       -151200000000000, -149400000000000, -147600000000000, -145800000000000,\n",
       "       -144000000000000, -142200000000000, -140400000000000, -138600000000000,\n",
       "       -136800000000000, -135000000000000, -133200000000000, -131400000000000,\n",
       "       -129600000000000, -127800000000000, -126000000000000, -124200000000000,\n",
       "       -122400000000000, -120600000000000, -118800000000000, -117000000000000,\n",
       "       -115200000000000, -113400000000000, -111600000000000, -109800000000000,\n",
       "       -108000000000000, -106200000000000, -104400000000000, -102600000000000,\n",
       "       -100800000000000,  -99000000000000,  -97200000000000,  -95400000000000,\n",
       "        -93600000000000,  -91800000000000,  -90000000000000,  -88200000000000,\n",
       "        -86400000000000,  -84600000000000,  -82800000000000,  -81000000000000,\n",
       "        -79200000000000,  -77400000000000,  -75600000000000,  -73800000000000,\n",
       "        -72000000000000,  -70200000000000,  -68400000000000,  -66600000000000,\n",
       "        -64800000000000,  -63000000000000,  -61200000000000,  -59400000000000,\n",
       "        -57600000000000,  -55800000000000,  -54000000000000,  -52200000000000,\n",
       "        -50400000000000,  -48600000000000,  -46800000000000,  -45000000000000,\n",
       "        -43200000000000,  -41400000000000,  -39600000000000,  -37800000000000,\n",
       "        -36000000000000,  -34200000000000,  -32400000000000,  -30600000000000,\n",
       "        -28800000000000,  -27000000000000,  -25200000000000,  -23400000000000,\n",
       "        -21600000000000,  -19800000000000,  -18000000000000,  -16200000000000,\n",
       "        -14400000000000,  -12600000000000,  -10800000000000,   -9000000000000,\n",
       "         -7200000000000,   -5400000000000,   -3600000000000,   -1800000000000],\n",
       "      dtype=&#x27;timedelta64[ns]&#x27;)</pre></div></li><li class='xr-var-item'><div class='xr-var-name'><span>t_target</span></div><div class='xr-var-dims'>(t_source, t_ahead)</div><div class='xr-var-dtype'>datetime64[ns]</div><div class='xr-var-preview xr-preview'>2013-09-17T12:00:00 ... 2013-09-...</div><input id='attrs-3c9c50c5-dade-456e-8867-8e8cb1fdbcde' class='xr-var-attrs-in' type='checkbox' disabled><label for='attrs-3c9c50c5-dade-456e-8867-8e8cb1fdbcde' title='Show/Hide attributes'><svg class='icon xr-icon-file-text2'><use xlink:href='#icon-file-text2'></use></svg></label><input id='data-7abe1526-29e8-4ca7-8dcc-394678521bd6' class='xr-var-data-in' type='checkbox'><label for='data-7abe1526-29e8-4ca7-8dcc-394678521bd6' title='Show/Hide data repr'><svg class='icon xr-icon-database'><use xlink:href='#icon-database'></use></svg></label><div class='xr-var-attrs'><dl class='xr-attrs'></dl></div><div class='xr-var-data'><pre>array([[&#x27;2013-09-17T12:00:00.000000000&#x27;, &#x27;2013-09-17T12:30:00.000000000&#x27;,\n",
       "        &#x27;2013-09-17T13:00:00.000000000&#x27;, ...,\n",
       "        &#x27;2013-09-21T10:30:00.000000000&#x27;, &#x27;2013-09-21T11:00:00.000000000&#x27;,\n",
       "        &#x27;2013-09-21T11:30:00.000000000&#x27;],\n",
       "       [&#x27;2013-09-17T12:30:00.000000000&#x27;, &#x27;2013-09-17T13:00:00.000000000&#x27;,\n",
       "        &#x27;2013-09-17T13:30:00.000000000&#x27;, ...,\n",
       "        &#x27;2013-09-21T11:00:00.000000000&#x27;, &#x27;2013-09-21T11:30:00.000000000&#x27;,\n",
       "        &#x27;2013-09-21T12:00:00.000000000&#x27;],\n",
       "       [&#x27;2013-09-17T13:00:00.000000000&#x27;, &#x27;2013-09-17T13:30:00.000000000&#x27;,\n",
       "        &#x27;2013-09-17T14:00:00.000000000&#x27;, ...,\n",
       "        &#x27;2013-09-21T11:30:00.000000000&#x27;, &#x27;2013-09-21T12:00:00.000000000&#x27;,\n",
       "        &#x27;2013-09-21T12:30:00.000000000&#x27;],\n",
       "       ...,\n",
       "       [&#x27;2013-09-21T08:30:00.000000000&#x27;, &#x27;2013-09-21T09:00:00.000000000&#x27;,\n",
       "        &#x27;2013-09-21T09:30:00.000000000&#x27;, ...,\n",
       "        &#x27;2013-09-25T07:00:00.000000000&#x27;, &#x27;2013-09-25T07:30:00.000000000&#x27;,\n",
       "        &#x27;2013-09-25T08:00:00.000000000&#x27;],\n",
       "       [&#x27;2013-09-21T09:00:00.000000000&#x27;, &#x27;2013-09-21T09:30:00.000000000&#x27;,\n",
       "        &#x27;2013-09-21T10:00:00.000000000&#x27;, ...,\n",
       "        &#x27;2013-09-25T07:30:00.000000000&#x27;, &#x27;2013-09-25T08:00:00.000000000&#x27;,\n",
       "        &#x27;2013-09-25T08:30:00.000000000&#x27;],\n",
       "       [&#x27;2013-09-21T09:30:00.000000000&#x27;, &#x27;2013-09-21T10:00:00.000000000&#x27;,\n",
       "        &#x27;2013-09-21T10:30:00.000000000&#x27;, ...,\n",
       "        &#x27;2013-09-25T08:00:00.000000000&#x27;, &#x27;2013-09-25T08:30:00.000000000&#x27;,\n",
       "        &#x27;2013-09-25T09:00:00.000000000&#x27;]], dtype=&#x27;datetime64[ns]&#x27;)</pre></div></li><li class='xr-var-item'><div class='xr-var-name'><span>t_past</span></div><div class='xr-var-dims'>(t_source, t_behind)</div><div class='xr-var-dtype'>datetime64[ns]</div><div class='xr-var-preview xr-preview'>2013-09-13T12:00:00 ... 2013-09-...</div><input id='attrs-a208028e-10c3-47e0-89d8-f5495f6a00f9' class='xr-var-attrs-in' type='checkbox' disabled><label for='attrs-a208028e-10c3-47e0-89d8-f5495f6a00f9' title='Show/Hide attributes'><svg class='icon xr-icon-file-text2'><use xlink:href='#icon-file-text2'></use></svg></label><input id='data-e7a43be4-21f3-4a15-aad7-f40c4af9947d' class='xr-var-data-in' type='checkbox'><label for='data-e7a43be4-21f3-4a15-aad7-f40c4af9947d' title='Show/Hide data repr'><svg class='icon xr-icon-database'><use xlink:href='#icon-database'></use></svg></label><div class='xr-var-attrs'><dl class='xr-attrs'></dl></div><div class='xr-var-data'><pre>array([[&#x27;2013-09-13T12:00:00.000000000&#x27;, &#x27;2013-09-13T12:30:00.000000000&#x27;,\n",
       "        &#x27;2013-09-13T13:00:00.000000000&#x27;, ...,\n",
       "        &#x27;2013-09-17T10:30:00.000000000&#x27;, &#x27;2013-09-17T11:00:00.000000000&#x27;,\n",
       "        &#x27;2013-09-17T11:30:00.000000000&#x27;],\n",
       "       [&#x27;2013-09-13T12:30:00.000000000&#x27;, &#x27;2013-09-13T13:00:00.000000000&#x27;,\n",
       "        &#x27;2013-09-13T13:30:00.000000000&#x27;, ...,\n",
       "        &#x27;2013-09-17T11:00:00.000000000&#x27;, &#x27;2013-09-17T11:30:00.000000000&#x27;,\n",
       "        &#x27;2013-09-17T12:00:00.000000000&#x27;],\n",
       "       [&#x27;2013-09-13T13:00:00.000000000&#x27;, &#x27;2013-09-13T13:30:00.000000000&#x27;,\n",
       "        &#x27;2013-09-13T14:00:00.000000000&#x27;, ...,\n",
       "        &#x27;2013-09-17T11:30:00.000000000&#x27;, &#x27;2013-09-17T12:00:00.000000000&#x27;,\n",
       "        &#x27;2013-09-17T12:30:00.000000000&#x27;],\n",
       "       ...,\n",
       "       [&#x27;2013-09-17T08:30:00.000000000&#x27;, &#x27;2013-09-17T09:00:00.000000000&#x27;,\n",
       "        &#x27;2013-09-17T09:30:00.000000000&#x27;, ...,\n",
       "        &#x27;2013-09-21T07:00:00.000000000&#x27;, &#x27;2013-09-21T07:30:00.000000000&#x27;,\n",
       "        &#x27;2013-09-21T08:00:00.000000000&#x27;],\n",
       "       [&#x27;2013-09-17T09:00:00.000000000&#x27;, &#x27;2013-09-17T09:30:00.000000000&#x27;,\n",
       "        &#x27;2013-09-17T10:00:00.000000000&#x27;, ...,\n",
       "        &#x27;2013-09-21T07:30:00.000000000&#x27;, &#x27;2013-09-21T08:00:00.000000000&#x27;,\n",
       "        &#x27;2013-09-21T08:30:00.000000000&#x27;],\n",
       "       [&#x27;2013-09-17T09:30:00.000000000&#x27;, &#x27;2013-09-17T10:00:00.000000000&#x27;,\n",
       "        &#x27;2013-09-17T10:30:00.000000000&#x27;, ...,\n",
       "        &#x27;2013-09-21T08:00:00.000000000&#x27;, &#x27;2013-09-21T08:30:00.000000000&#x27;,\n",
       "        &#x27;2013-09-21T09:00:00.000000000&#x27;]], dtype=&#x27;datetime64[ns]&#x27;)</pre></div></li><li class='xr-var-item'><div class='xr-var-name'><span>t_ahead_hours</span></div><div class='xr-var-dims'>(t_ahead)</div><div class='xr-var-dtype'>float64</div><div class='xr-var-preview xr-preview'>0.0 0.0 1.0 1.0 ... 94.0 95.0 95.0</div><input id='attrs-ce2be652-6cf0-4b22-bf86-1faf45797914' class='xr-var-attrs-in' type='checkbox' disabled><label for='attrs-ce2be652-6cf0-4b22-bf86-1faf45797914' title='Show/Hide attributes'><svg class='icon xr-icon-file-text2'><use xlink:href='#icon-file-text2'></use></svg></label><input id='data-ad918656-dfbd-417f-9668-7fd33c490376' class='xr-var-data-in' type='checkbox'><label for='data-ad918656-dfbd-417f-9668-7fd33c490376' title='Show/Hide data repr'><svg class='icon xr-icon-database'><use xlink:href='#icon-database'></use></svg></label><div class='xr-var-attrs'><dl class='xr-attrs'></dl></div><div class='xr-var-data'><pre>array([ 0.,  0.,  1.,  1.,  2.,  2.,  3.,  3.,  4.,  4.,  5.,  5.,  6.,\n",
       "        6.,  7.,  7.,  8.,  8.,  9.,  9., 10., 10., 11., 11., 12., 12.,\n",
       "       13., 13., 14., 14., 15., 15., 16., 16., 17., 17., 18., 18., 19.,\n",
       "       19., 20., 20., 21., 21., 22., 22., 23., 23., 24., 24., 25., 25.,\n",
       "       26., 26., 27., 27., 28., 28., 29., 29., 30., 30., 31., 31., 32.,\n",
       "       32., 33., 33., 34., 34., 35., 35., 36., 36., 37., 37., 38., 38.,\n",
       "       39., 39., 40., 40., 41., 41., 42., 42., 43., 43., 44., 44., 45.,\n",
       "       45., 46., 46., 47., 47., 48., 48., 49., 49., 50., 50., 51., 51.,\n",
       "       52., 52., 53., 53., 54., 54., 55., 55., 56., 56., 57., 57., 58.,\n",
       "       58., 59., 59., 60., 60., 61., 61., 62., 62., 63., 63., 64., 64.,\n",
       "       65., 65., 66., 66., 67., 67., 68., 68., 69., 69., 70., 70., 71.,\n",
       "       71., 72., 72., 73., 73., 74., 74., 75., 75., 76., 76., 77., 77.,\n",
       "       78., 78., 79., 79., 80., 80., 81., 81., 82., 82., 83., 83., 84.,\n",
       "       84., 85., 85., 86., 86., 87., 87., 88., 88., 89., 89., 90., 90.,\n",
       "       91., 91., 92., 92., 93., 93., 94., 94., 95., 95.])</pre></div></li></ul></div></li><li class='xr-section-item'><input id='section-b52e4d8e-2eb4-4e95-82ec-1f4626898cc3' class='xr-section-summary-in' type='checkbox'  checked><label for='section-b52e4d8e-2eb4-4e95-82ec-1f4626898cc3' class='xr-section-summary' >Data variables: <span>(5)</span></label><div class='xr-section-inline-details'></div><div class='xr-section-details'><ul class='xr-var-list'><li class='xr-var-item'><div class='xr-var-name'><span>y_past</span></div><div class='xr-var-dims'>(t_source, t_behind)</div><div class='xr-var-dtype'>float32</div><div class='xr-var-preview xr-preview'>0.34182978 0.3743617 ... 0.42559525</div><input id='attrs-47b93b55-12fe-4d48-8864-7113e1e2b632' class='xr-var-attrs-in' type='checkbox' disabled><label for='attrs-47b93b55-12fe-4d48-8864-7113e1e2b632' title='Show/Hide attributes'><svg class='icon xr-icon-file-text2'><use xlink:href='#icon-file-text2'></use></svg></label><input id='data-416a08ca-f000-4e3c-8541-05c17b5d8434' class='xr-var-data-in' type='checkbox'><label for='data-416a08ca-f000-4e3c-8541-05c17b5d8434' title='Show/Hide data repr'><svg class='icon xr-icon-database'><use xlink:href='#icon-database'></use></svg></label><div class='xr-var-attrs'><dl class='xr-attrs'></dl></div><div class='xr-var-data'><pre>array([[0.34182978, 0.3743617 , 0.35202128, ..., 0.45023912, 0.37195653,\n",
       "        0.41715217],\n",
       "       [0.3743617 , 0.35202128, 0.341     , ..., 0.37195653, 0.41715217,\n",
       "        0.39902174],\n",
       "       [0.35202128, 0.341     , 0.34478724, ..., 0.41715217, 0.39902174,\n",
       "        0.3688913 ],\n",
       "       ...,\n",
       "       [0.48439535, 0.4035349 , 0.2892093 , ..., 0.63783336, 0.7064286 ,\n",
       "        0.5955476 ],\n",
       "       [0.4035349 , 0.2892093 , 0.2788372 , ..., 0.7064286 , 0.5955476 ,\n",
       "        0.44709525],\n",
       "       [0.2892093 , 0.2788372 , 0.28755814, ..., 0.5955476 , 0.44709525,\n",
       "        0.42559525]], dtype=float32)</pre></div></li><li class='xr-var-item'><div class='xr-var-name'><span>nll</span></div><div class='xr-var-dims'>(t_source, t_ahead)</div><div class='xr-var-dtype'>float32</div><div class='xr-var-preview xr-preview'>-0.39930427 ... -0.5875193</div><input id='attrs-f8dea2b7-a273-473d-8ec2-6d0753186515' class='xr-var-attrs-in' type='checkbox' disabled><label for='attrs-f8dea2b7-a273-473d-8ec2-6d0753186515' title='Show/Hide attributes'><svg class='icon xr-icon-file-text2'><use xlink:href='#icon-file-text2'></use></svg></label><input id='data-68ad0ca6-37b8-41d6-8ec8-40e12e7e4d0a' class='xr-var-data-in' type='checkbox'><label for='data-68ad0ca6-37b8-41d6-8ec8-40e12e7e4d0a' title='Show/Hide data repr'><svg class='icon xr-icon-database'><use xlink:href='#icon-database'></use></svg></label><div class='xr-var-attrs'><dl class='xr-attrs'></dl></div><div class='xr-var-data'><pre>array([[-0.39930427, -0.4066378 , -0.5434241 , ..., -0.70005894,\n",
       "         0.34137225,  0.25325173],\n",
       "       [-0.30783594, -0.46890533, -0.53692436, ...,  0.3190887 ,\n",
       "         0.23320925, -0.26906586],\n",
       "       [-0.4261266 , -0.49373317,  1.63804   , ...,  0.21017814,\n",
       "        -0.29087424,  0.7156215 ],\n",
       "       ...,\n",
       "       [ 1.1717722 ,  1.0530639 ,  0.2793969 , ..., -0.45947552,\n",
       "        -0.11476445,  0.7189827 ],\n",
       "       [ 0.9254643 ,  0.27463275, -0.58350575, ..., -0.09927058,\n",
       "         0.7557026 , -0.08390903],\n",
       "       [ 0.2534623 , -0.55001223, -0.80816877, ...,  0.7782191 ,\n",
       "        -0.0669713 , -0.5875193 ]], dtype=float32)</pre></div></li><li class='xr-var-item'><div class='xr-var-name'><span>y_pred</span></div><div class='xr-var-dims'>(t_source, t_ahead)</div><div class='xr-var-dtype'>float32</div><div class='xr-var-preview xr-preview'>0.4066002 0.38901886 ... 0.43110877</div><input id='attrs-08990f5e-673b-4a96-b289-e12ff78a5877' class='xr-var-attrs-in' type='checkbox' disabled><label for='attrs-08990f5e-673b-4a96-b289-e12ff78a5877' title='Show/Hide attributes'><svg class='icon xr-icon-file-text2'><use xlink:href='#icon-file-text2'></use></svg></label><input id='data-ef94bcd7-5331-483f-af57-def38b5ad222' class='xr-var-data-in' type='checkbox'><label for='data-ef94bcd7-5331-483f-af57-def38b5ad222' title='Show/Hide data repr'><svg class='icon xr-icon-database'><use xlink:href='#icon-database'></use></svg></label><div class='xr-var-attrs'><dl class='xr-attrs'></dl></div><div class='xr-var-data'><pre>array([[0.4066002 , 0.38901886, 0.3836266 , ..., 0.35888395, 0.35464624,\n",
       "        0.35680822],\n",
       "       [0.3938792 , 0.3774008 , 0.37440446, ..., 0.3537852 , 0.35594296,\n",
       "        0.35910505],\n",
       "       [0.37239552, 0.3650774 , 0.36374143, ..., 0.35499245, 0.35813135,\n",
       "        0.36522728],\n",
       "       ...,\n",
       "       [0.60592777, 0.5684328 , 0.45174578, ..., 0.67859375, 0.63273644,\n",
       "        0.56903   ],\n",
       "       [0.55782264, 0.45016435, 0.35072467, ..., 0.6316794 , 0.5678074 ,\n",
       "        0.49656454],\n",
       "       [0.44697702, 0.34681633, 0.30443627, ..., 0.5670123 , 0.49567437,\n",
       "        0.43110877]], dtype=float32)</pre></div></li><li class='xr-var-item'><div class='xr-var-name'><span>y_pred_std</span></div><div class='xr-var-dims'>(t_source, t_ahead)</div><div class='xr-var-dtype'>float64</div><div class='xr-var-preview xr-preview'>0.0581 0.05431 ... 0.05086 0.04713</div><input id='attrs-458d66bf-2ac3-4abb-8463-2318d220b88d' class='xr-var-attrs-in' type='checkbox' disabled><label for='attrs-458d66bf-2ac3-4abb-8463-2318d220b88d' title='Show/Hide attributes'><svg class='icon xr-icon-file-text2'><use xlink:href='#icon-file-text2'></use></svg></label><input id='data-fe740a3a-4fcf-4228-a9aa-776e6c602291' class='xr-var-data-in' type='checkbox'><label for='data-fe740a3a-4fcf-4228-a9aa-776e6c602291' title='Show/Hide data repr'><svg class='icon xr-icon-database'><use xlink:href='#icon-database'></use></svg></label><div class='xr-var-attrs'><dl class='xr-attrs'></dl></div><div class='xr-var-data'><pre>array([[0.05809981, 0.05430707, 0.05057289, ..., 0.03990596, 0.04132949,\n",
       "        0.04317982],\n",
       "       [0.05863498, 0.05367276, 0.05093383, ..., 0.04102965, 0.04281238,\n",
       "        0.04410928],\n",
       "       [0.05488988, 0.05166907, 0.04870024, ..., 0.04244705, 0.04368677,\n",
       "        0.04446527],\n",
       "       ...,\n",
       "       [0.12378779, 0.1136273 , 0.07299946, ..., 0.05473997, 0.05548793,\n",
       "        0.05332477],\n",
       "       [0.11952963, 0.07925848, 0.04873188, ..., 0.05541608, 0.053298  ,\n",
       "        0.05082954],\n",
       "       [0.08220471, 0.05017719, 0.03436997, ..., 0.05333869, 0.05086022,\n",
       "        0.04712841]])</pre></div></li><li class='xr-var-item'><div class='xr-var-name'><span>y_true</span></div><div class='xr-var-dims'>(t_source, t_ahead)</div><div class='xr-var-dtype'>float32</div><div class='xr-var-preview xr-preview'>0.39902174 0.3688913 ... 0.44257143</div><input id='attrs-7c45a10e-059e-461e-978e-cef037b2dc46' class='xr-var-attrs-in' type='checkbox' disabled><label for='attrs-7c45a10e-059e-461e-978e-cef037b2dc46' title='Show/Hide attributes'><svg class='icon xr-icon-file-text2'><use xlink:href='#icon-file-text2'></use></svg></label><input id='data-33314178-755c-4a45-ac93-00c36d54ae57' class='xr-var-data-in' type='checkbox'><label for='data-33314178-755c-4a45-ac93-00c36d54ae57' title='Show/Hide data repr'><svg class='icon xr-icon-database'><use xlink:href='#icon-database'></use></svg></label><div class='xr-var-attrs'><dl class='xr-attrs'></dl></div><div class='xr-var-data'><pre>array([[0.39902174, 0.3688913 , 0.38763043, ..., 0.34258696, 0.29363042,\n",
       "        0.29704347],\n",
       "       [0.3688913 , 0.38763043, 0.37802175, ..., 0.29363042, 0.29704347,\n",
       "        0.31895652],\n",
       "       [0.38763043, 0.37802175, 0.46641305, ..., 0.29704347, 0.31895652,\n",
       "        0.29106522],\n",
       "       ...,\n",
       "       [0.44709525, 0.42559525, 0.38180953, ..., 0.6854762 , 0.6784286 ,\n",
       "        0.6520714 ],\n",
       "       [0.42559525, 0.38180953, 0.35152382, ..., 0.6784286 , 0.6520714 ,\n",
       "        0.54519045],\n",
       "       [0.38180953, 0.35152382, 0.32159525, ..., 0.6520714 , 0.54519045,\n",
       "        0.44257143]], dtype=float32)</pre></div></li></ul></div></li><li class='xr-section-item'><input id='section-ba30709c-8f6f-46e1-a1ea-5f788639ff73' class='xr-section-summary-in' type='checkbox' disabled ><label for='section-ba30709c-8f6f-46e1-a1ea-5f788639ff73' class='xr-section-summary'  title='Expand/collapse section'>Attributes: <span>(0)</span></label><div class='xr-section-inline-details'></div><div class='xr-section-details'><dl class='xr-attrs'></dl></div></li></ul></div></div>"
      ],
      "text/plain": [
       "<xarray.Dataset>\n",
       "Dimensions:        (t_ahead: 192, t_behind: 192, t_source: 7465)\n",
       "Coordinates:\n",
       "  * t_source       (t_source) datetime64[ns] 2013-09-17T12:00:00 ... 2013-09-...\n",
       "  * t_ahead        (t_ahead) timedelta64[ns] 00:00:00 ... 3 days 23:30:00\n",
       "  * t_behind       (t_behind) timedelta64[ns] -4 days +00:00:00 ... -1 days +...\n",
       "    t_target       (t_source, t_ahead) datetime64[ns] 2013-09-17T12:00:00 ......\n",
       "    t_past         (t_source, t_behind) datetime64[ns] 2013-09-13T12:00:00 .....\n",
       "    t_ahead_hours  (t_ahead) float64 0.0 0.0 1.0 1.0 2.0 ... 94.0 94.0 95.0 95.0\n",
       "Data variables:\n",
       "    y_past         (t_source, t_behind) float32 0.34182978 ... 0.42559525\n",
       "    nll            (t_source, t_ahead) float32 -0.39930427 ... -0.5875193\n",
       "    y_pred         (t_source, t_ahead) float32 0.4066002 ... 0.43110877\n",
       "    y_pred_std     (t_source, t_ahead) float64 0.0581 0.05431 ... 0.04713\n",
       "    y_true         (t_source, t_ahead) float32 0.39902174 ... 0.44257143"
      ]
     },
     "execution_count": 25,
     "metadata": {},
     "output_type": "execute_result"
    }
   ],
   "source": [
    "# Add some derived coordinates, they will be the ones not in bold\n",
    "# The target time, is a function of the source time, and how far we predict ahead\n",
    "ds_preds = ds_preds.assign_coords(t_target=ds_preds.t_source+ds_preds.t_ahead)\n",
    "\n",
    "ds_preds = ds_preds.assign_coords(t_past=ds_preds.t_source+ds_preds.t_behind)\n",
    "\n",
    "# Some plots don't like timedeltas, so lets make a coordinate for time ahead in hours\n",
    "ds_preds = ds_preds.assign_coords(t_ahead_hours=(ds_preds.t_ahead*1.0e-9/60/60).astype(float))\n",
    "\n",
    "ds_preds"
   ]
  },
  {
   "cell_type": "code",
   "execution_count": 26,
   "metadata": {
    "ExecuteTime": {
     "end_time": "2020-10-16T04:42:57.971613Z",
     "start_time": "2020-10-16T04:42:57.594840Z"
    }
   },
   "outputs": [
    {
     "data": {
      "image/png": "[encoded data removed]",
      "text/plain": [
       "<Figure size 432x288 with 1 Axes>"
      ]
     },
     "metadata": {
      "needs_background": "light"
     },
     "output_type": "display_data"
    },
    {
     "data": {
      "image/png": "[encoded data removed]",
      "text/plain": [
       "<Figure size 432x288 with 1 Axes>"
      ]
     },
     "metadata": {
      "needs_background": "light"
     },
     "output_type": "display_data"
    }
   ],
   "source": [
    "def plot_prediction(ds_preds, i):\n",
    "    \"\"\"Plot a prediction into the future, at a single point in time.\"\"\"\n",
    "    d = ds_preds.isel(t_source=i)\n",
    "\n",
    "    # Get arrays\n",
    "    xf = d.t_target\n",
    "    yp = d.y_pred\n",
    "    s = d.y_pred_std\n",
    "    yt = d.y_true\n",
    "    now = d.t_source.squeeze()\n",
    "\n",
    "    # plot prediction\n",
    "    plt.fill_between(xf, yp-2*s, yp+2*s, alpha=0.25,\n",
    "            facecolor=\"b\",\n",
    "            interpolate=True,\n",
    "            label=\"2 std\",)\n",
    "    plt.plot(xf, yp, label='pred', c='b')\n",
    "\n",
    "    # plot true\n",
    "    plt.scatter(\n",
    "        d.t_past,\n",
    "        d.y_past,\n",
    "        c='k',\n",
    "        s=6\n",
    "    )\n",
    "    plt.scatter(xf, yt, label='true', c='k', s=6)\n",
    "    \n",
    "    # plot a red line for now\n",
    "    plt.vlines(x=now, ymin=0, ymax=1, label='now', color='r')\n",
    "\n",
    "    now=pd.Timestamp(now.values)\n",
    "    plt.title(f'Prediction NLL={d.nll.mean().item():2.2g}')\n",
    "    plt.xlabel(f'{now.date()}')\n",
    "    plt.ylabel('energy(kWh/hh)')\n",
    "    plt.legend()\n",
    "    plt.xticks(rotation=45)\n",
    "    plt.show()\n",
    "    \n",
    "# plot_prediction(ds_preds, 0) \n",
    "# plot_prediction(ds_preds, 12) # 6 hours later\n",
    "plot_prediction(ds_preds, 24) # 12 hours later\n",
    "plot_prediction(ds_preds, 48) # 12 hours later"
   ]
  },
  {
   "cell_type": "markdown",
   "metadata": {
    "ExecuteTime": {
     "end_time": "2020-10-10T02:54:21.496689Z",
     "start_time": "2020-10-10T02:53:39.916Z"
    }
   },
   "source": [
    "## Error vs time ahead"
   ]
  },
  {
   "cell_type": "code",
   "execution_count": null,
   "metadata": {
    "ExecuteTime": {
     "end_time": "2020-10-11T10:17:55.322055Z",
     "start_time": "2020-10-11T10:17:55.250658Z"
    }
   },
   "outputs": [],
   "source": []
  },
  {
   "cell_type": "code",
   "execution_count": 27,
   "metadata": {
    "ExecuteTime": {
     "end_time": "2020-10-16T04:42:58.121923Z",
     "start_time": "2020-10-16T04:42:57.972985Z"
    }
   },
   "outputs": [
    {
     "data": {
      "text/plain": [
       "Text(0.5, 1.0, 'NLL vs time (no. samples=7465)')"
      ]
     },
     "execution_count": 27,
     "metadata": {},
     "output_type": "execute_result"
    },
    {
     "data": {
      "image/png": "[encoded data removed]",
      "text/plain": [
       "<Figure size 432x288 with 1 Axes>"
      ]
     },
     "metadata": {
      "needs_background": "light"
     },
     "output_type": "display_data"
    }
   ],
   "source": [
    "d = ds_preds.mean('t_source') # Mean over all predictions\n",
    "\n",
    "# Plot with xarray, it has a pandas like interface\n",
    "d.plot.scatter('t_ahead_hours', 'nll')\n",
    "\n",
    "# Tidy the graph\n",
    "n = len(ds_preds.t_source)\n",
    "plt.ylabel('Negative Log Likelihood (lower is better)')\n",
    "plt.xlabel('Hours ahead')\n",
    "plt.title(f'NLL vs time (no. samples={n})')"
   ]
  },
  {
   "cell_type": "code",
   "execution_count": 28,
   "metadata": {
    "ExecuteTime": {
     "end_time": "2020-10-16T04:42:58.284011Z",
     "start_time": "2020-10-16T04:42:58.123318Z"
    }
   },
   "outputs": [
    {
     "data": {
      "text/plain": [
       "<matplotlib.collections.PathCollection at 0x7f4d26bdffd0>"
      ]
     },
     "execution_count": 28,
     "metadata": {},
     "output_type": "execute_result"
    },
    {
     "data": {
      "image/png": "[encoded data removed]",
      "text/plain": [
       "<Figure size 432x288 with 1 Axes>"
      ]
     },
     "metadata": {
      "needs_background": "light"
     },
     "output_type": "display_data"
    }
   ],
   "source": [
    "d = ds_preds.mean('t_source') # Mean over all predictions\n",
    "d['likelihood'] = np.exp(-d.nll) # get likelihood, after taking mean in log domain\n",
    "d.plot.scatter('t_ahead_hours', 'likelihood')"
   ]
  },
  {
   "cell_type": "code",
   "execution_count": null,
   "metadata": {
    "ExecuteTime": {
     "end_time": "2020-10-11T09:32:13.207661Z",
     "start_time": "2020-10-11T09:32:11.921740Z"
    }
   },
   "outputs": [],
   "source": []
  },
  {
   "cell_type": "markdown",
   "metadata": {},
   "source": [
    " <div class=\"alert alert-success\">\n",
    "  <h2>Exercise Xarray Scatter Plot</h2>\n",
    "\n",
    "  Lets try out xarray. Many people like seeing a plot of y_true vs y_pred.\n",
    "    \n",
    "  1. Make a plot of y_true vs y_pred\n",
    "  2. (hard) Make a plot of the NLL over time. Does this solution get worse with time?\n",
    "      \n",
    "\n",
    "  <details>\n",
    "  <summary><b>→ Hints</b></summary>\n",
    "\n",
    "  * The interface is similar to pandas\n",
    "  * Fill in the columns here: `ds_preds.plot.scatter(?, ?, s=2)`\n",
    "  * Take the mean over t_ahead\n",
    "\n",
    "  </details>\n",
    "\n",
    "  <br/>\n",
    "  <br/>\n",
    "  <details>\n",
    "  <summary>\n",
    "    <b>→ Solution</b>\n",
    "  </summary>\n",
    "\n",
    "  ```python\n",
    "  # This is easy with xarray\n",
    "  ds_preds.plot.scatter('y_true', 'y_pred', s=2)\n",
    "  ```\n",
    "\n",
    "  </details>\n",
    "\n",
    "  </div>"
   ]
  },
  {
   "cell_type": "markdown",
   "metadata": {},
   "source": [
    " <div class=\"alert alert-success\">\n",
    "  <h2>(hard) Exercise: Loss vs Time plot</h2>\n",
    "\n",
    "  Solutions typically decay in usefullness with time, and can require retraining. Does this one?\n",
    "    \n",
    "  2. Make a plot of the NLL over time. Does this solution get worse with time?\n",
    "      \n",
    "\n",
    "  <details>\n",
    "  <summary><b>→ Hints</b></summary>\n",
    "\n",
    "  * Take the mean over t_ahead\n",
    "  * group by t_source\n",
    "\n",
    "  </details>\n",
    "\n",
    "  <br/>\n",
    "  <br/>\n",
    "  <details>\n",
    "  <summary>\n",
    "    <b>→ Solution</b>\n",
    "  </summary>\n",
    "\n",
    "  ```python\n",
    "  \n",
    "  # this is hard because we need to take the mean over t_ahead\n",
    "  # then group by t_source\n",
    "  d = ds_preds.mean('t_ahead').groupby('t_source').mean()\n",
    "  # And even then it's clearer with smoothing\n",
    "  d.plot.scatter('t_source', 'nll')\n",
    "  plt.xticks(rotation=45)\n",
    "  plt.title('NLL over time (lower is better)')\n",
    "  1\n",
    "  ```\n",
    "\n",
    "  </details>\n",
    "\n",
    "  </div>"
   ]
  },
  {
   "cell_type": "code",
   "execution_count": 29,
   "metadata": {
    "ExecuteTime": {
     "end_time": "2020-10-16T04:42:59.170079Z",
     "start_time": "2020-10-16T04:42:58.285409Z"
    }
   },
   "outputs": [
    {
     "data": {
      "text/plain": [
       "1"
      ]
     },
     "execution_count": 29,
     "metadata": {},
     "output_type": "execute_result"
    },
    {
     "data": {
      "image/png": "[encoded data removed]",
      "text/plain": [
       "<Figure size 432x288 with 1 Axes>"
      ]
     },
     "metadata": {
      "needs_background": "light"
     },
     "output_type": "display_data"
    }
   ],
   "source": [
    "\n",
    "# this is hard because we need to take the mean over t_ahead\n",
    "# then group by t_source\n",
    "d = ds_preds.mean('t_ahead').groupby('t_source').mean()\n",
    "# And even then it's clearer with smoothing\n",
    "d.plot.scatter('t_source', 'nll')\n",
    "plt.xticks(rotation=45)\n",
    "plt.title('NLL over time (lower is better)')\n",
    "1"
   ]
  },
  {
   "cell_type": "code",
   "execution_count": 30,
   "metadata": {
    "ExecuteTime": {
     "end_time": "2020-10-16T04:43:00.044504Z",
     "start_time": "2020-10-16T04:42:59.171439Z"
    }
   },
   "outputs": [
    {
     "data": {
      "text/plain": [
       "1"
      ]
     },
     "execution_count": 30,
     "metadata": {},
     "output_type": "execute_result"
    },
    {
     "data": {
      "image/png": "[encoded data removed]",
      "text/plain": [
       "<Figure size 432x288 with 1 Axes>"
      ]
     },
     "metadata": {
      "needs_background": "light"
     },
     "output_type": "display_data"
    }
   ],
   "source": [
    "# Lets zoom in and see how fast the solution expires\n",
    "d = ds_preds.mean('t_ahead').groupby('t_source').mean().isel(t_source=slice(0, 24))\n",
    "d.plot.scatter('t_source', 'nll')\n",
    "plt.xticks(rotation=45)\n",
    "plt.title('NLL over time (lower is better)')\n",
    "1"
   ]
  },
  {
   "cell_type": "code",
   "execution_count": 31,
   "metadata": {
    "ExecuteTime": {
     "end_time": "2020-10-16T04:43:00.831224Z",
     "start_time": "2020-10-16T04:43:00.045832Z"
    }
   },
   "outputs": [
    {
     "data": {
      "text/plain": [
       "<matplotlib.collections.PathCollection at 0x7f4d26a54320>"
      ]
     },
     "execution_count": 31,
     "metadata": {},
     "output_type": "execute_result"
    },
    {
     "data": {
      "image/png": "[encoded data removed]",
      "text/plain": [
       "<Figure size 432x288 with 1 Axes>"
      ]
     },
     "metadata": {
      "needs_background": "light"
     },
     "output_type": "display_data"
    }
   ],
   "source": [
    "# A scatter plot is easy with xarray\n",
    "ds_preds.plot.scatter('y_true', 'y_pred', s=.01)"
   ]
  },
  {
   "cell_type": "code",
   "execution_count": null,
   "metadata": {},
   "outputs": [],
   "source": []
  }
 ],
 "metadata": {
  "jupytext": {
   "encoding": "# -*- coding: utf-8 -*-",
   "formats": "ipynb,py:light"
  },
  "kernelspec": {
   "display_name": "deep_ml_curriculum",
   "language": "python",
   "name": "deep_ml_curriculum"
  },
  "language_info": {
   "codemirror_mode": {
    "name": "ipython",
    "version": 3
   },
   "file_extension": ".py",
   "mimetype": "text/x-python",
   "name": "python",
   "nbconvert_exporter": "python",
   "pygments_lexer": "ipython3",
   "version": "3.7.0"
  },
  "toc": {
   "base_numbering": 1,
   "nav_menu": {},
   "number_sections": true,
   "sideBar": true,
   "skip_h1_title": false,
   "title_cell": "Table of Contents",
   "title_sidebar": "Contents",
   "toc_cell": false,
   "toc_position": {
    "height": "calc(100% - 180px)",
    "left": "10px",
    "top": "150px",
    "width": "307.2px"
   },
   "toc_section_display": true,
   "toc_window_display": true
  }
 },
 "nbformat": 4,
 "nbformat_minor": 2
}
