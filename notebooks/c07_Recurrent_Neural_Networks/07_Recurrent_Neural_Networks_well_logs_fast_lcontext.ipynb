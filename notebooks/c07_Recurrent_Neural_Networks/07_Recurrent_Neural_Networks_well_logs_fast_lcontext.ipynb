{
 "cells": [
  {
   "cell_type": "markdown",
   "metadata": {
    "colab_type": "text",
    "id": "iALm8shtXMVK"
   },
   "source": [
    "# Recurrent Neural Networks\n",
    "\n",
    "All the models we have discussed so far were looking at the inputs as isolated instances. In image classification we determine the category of and image, in semantic segmentation we produce a semantic map from the input. But there are many cases were datapoints are not isolated instances and have connection to each other. Sequential data are the type of data where each instance is related to the instances came before. A good example for this type of data is time series data. At each point in time to the value of the time series depends on the value of the prior points. Recurrent Neural Networks (RNN) are a class of networks which deal with sequential data. There are many variants of Recurrent Neural Networks, including:\n",
    "\n",
    "- Simple Recurrect Neural Networks (Simple RNN - or often just called RNN)\n",
    "- Long Short-Term Memory (LSTM)\n",
    "- Gated Recurrent Unit (GRU)\n",
    "\n",
    "In this notebook we will discuss LSTM; however, the general logic behind all these methods are the same. They only differ in the way they handel information internally. \n",
    "<img src='./images/RNN.png'>\n",
    "<div style=\"font-size:70%\">Recurrent Neural Networks Architecture - Credit to <a href='https://journals.plos.org/plosone/article?id=10.1371/journal.pone.0180944'>Bao et al.</a></div>\n",
    "At each step a set of values are stored as state of the model ($s$). The state is updated at each step and based on the value of the state the output of the model is calculated by passing state through the output layer ($V$). Also, the model takes an input $x_t$ and passes it through an input layer ($U$), The output of this layer is combined with the state of previous step and creates the new state ($s_t$). What is important here is that the input and output layers are the same for all the sequences of data. What makes the output different at each step are the input values and state of the model. <br>\n",
    "Various architectures handel updating the state value differently and this is the main difference between Simple RNN, LSTM, and GRU. "
   ]
  },
  {
   "cell_type": "markdown",
   "metadata": {},
   "source": [
    "![](images/rnn-train.svg)\n",
    "\n",
    "![](images/rnn-bptt.svg)\n",
    "\n",
    "![](images/rnn.svg)\n",
    "\n",
    "These images are from d2l.ai and open source book"
   ]
  },
  {
   "cell_type": "code",
   "execution_count": 1,
   "metadata": {
    "ExecuteTime": {
     "end_time": "2020-09-27T01:50:20.467587Z",
     "start_time": "2020-09-27T01:50:18.629444Z"
    }
   },
   "outputs": [],
   "source": [
    "import torch\n",
    "from torch import nn, optim\n",
    "from torch import functional as F\n",
    "from torch.autograd import Variable\n",
    "import numpy as np\n",
    "import matplotlib.pyplot as plt\n",
    "from tqdm.auto import tqdm\n",
    "import xarray as xr"
   ]
  },
  {
   "cell_type": "markdown",
   "metadata": {},
   "source": [
    "# Parameters"
   ]
  },
  {
   "cell_type": "code",
   "execution_count": 2,
   "metadata": {
    "ExecuteTime": {
     "end_time": "2020-09-27T01:50:20.528613Z",
     "start_time": "2020-09-27T01:50:20.469816Z"
    }
   },
   "outputs": [
    {
     "name": "stdout",
     "output_type": "stream",
     "text": [
      "context length of 150.0 m or 1000 intervals\n",
      "model can see human labels up to 15.0m above. Or 100 intervals\n"
     ]
    }
   ],
   "source": [
    "# Params\n",
    "device = \"cuda\" if torch.cuda.is_available() else \"cpu\"\n",
    "shift_length = 100\n",
    "seq_length = 1000\n",
    "max_lithologies = 12\n",
    "max_wells = 20\n",
    "\n",
    "\n",
    "print(f'context length of {0.15*seq_length} m or {seq_length} intervals')\n",
    "print(f'model can see human labels up to {shift_length*0.15}m above. Or {shift_length} intervals')"
   ]
  },
  {
   "cell_type": "markdown",
   "metadata": {
    "ExecuteTime": {
     "end_time": "2020-09-27T01:33:08.720455Z",
     "start_time": "2020-09-27T01:33:08.715754Z"
    }
   },
   "source": [
    "# Models"
   ]
  },
  {
   "cell_type": "code",
   "execution_count": 3,
   "metadata": {
    "ExecuteTime": {
     "end_time": "2020-09-27T01:50:20.540068Z",
     "start_time": "2020-09-27T01:50:20.531884Z"
    }
   },
   "outputs": [],
   "source": [
    "\n",
    "class LSTM(nn.Module):\n",
    "    def __init__(self, input_size, hidden_size, num_layers, output_size=1):\n",
    "        super(LSTM, self).__init__()\n",
    "        # Params\n",
    "        self.num_layers = num_layers\n",
    "        self.input_size = input_size\n",
    "        self.hidden_size = hidden_size\n",
    "        self.seq_length = seq_length\n",
    "        \n",
    "        # High level LSTM library, nn.LSTMCell is a lower level one\n",
    "        self.lstm = nn.LSTM(\n",
    "            input_size=input_size,\n",
    "            hidden_size=hidden_size,\n",
    "            num_layers=num_layers,\n",
    "            batch_first=True,\n",
    "        )\n",
    "        \n",
    "        # Final layer\n",
    "        self.linear = nn.Linear(hidden_size, output_size)\n",
    "\n",
    "    def forward(self, x):\n",
    "        seq_len = x.shape[1]\n",
    "        \n",
    "        output, (_, _) = self.lstm(x)\n",
    "        h = output.view(-1, seq_len, self.hidden_size)[:, -1]\n",
    "        \n",
    "        return self.linear(h)"
   ]
  },
  {
   "cell_type": "markdown",
   "metadata": {
    "colab_type": "text",
    "id": "vaL6j3pkCen3"
   },
   "source": [
    "## Classification\n",
    "\n",
    "In this scenario we are drilling downwards, and while well logs are reported instantly, there is a lag in facies of around 15 meter (see diagram), while they are interpreated by a petrophysicist. The problem is we would like to know the facies as soon as possible in order decide if, how, and where to drill.\n",
    "\n",
    "Lets apply machine learning. There are many ways to set up this problem, and geology is especially hard due to the important of context and the amount of undigitized information (much of it is in the brain of old and grizzled geologists).\n",
    "\n",
    "In this scenario we will apply an RNN. \n",
    "- It will travel down the well\n",
    "- Input are \n",
    "    - the last 200 meters of well logs \n",
    "    - and the geologist facies interpreation up to 15 meters ago\n",
    "- The label is the facies at the point in the well\n",
    "\n",
    "\n",
    "You may ask: \"Isn't it cheating? Because it knows the human labels from 15 meters above?\" \n",
    "\n",
    "We measure this and it gives a 50% accuracy. So this is the naive baseline that we have to beat.\n",
    "\n",
    "<img src=\"images/diagram.png\" width=\"600\"/>\n",
    "\n"
   ]
  },
  {
   "cell_type": "markdown",
   "metadata": {
    "colab_type": "text",
    "id": "kzlqXAj4EIBN"
   },
   "source": [
    "In this example we are going to look at well logs which are sequential data as well."
   ]
  },
  {
   "cell_type": "code",
   "execution_count": 4,
   "metadata": {
    "ExecuteTime": {
     "end_time": "2020-09-27T01:50:25.249753Z",
     "start_time": "2020-09-27T01:50:20.542457Z"
    },
    "colab": {
     "base_uri": "https://localhost:8080/",
     "height": 255
    },
    "colab_type": "code",
    "id": "uNl846nE-jjq",
    "outputId": "de7b4197-6a3f-4e88-e07e-2463adba90d0"
   },
   "outputs": [
    {
     "data": {
      "text/html": [
       "<div>\n",
       "<style scoped>\n",
       "    .dataframe tbody tr th:only-of-type {\n",
       "        vertical-align: middle;\n",
       "    }\n",
       "\n",
       "    .dataframe tbody tr th {\n",
       "        vertical-align: top;\n",
       "    }\n",
       "\n",
       "    .dataframe thead th {\n",
       "        text-align: right;\n",
       "    }\n",
       "</style>\n",
       "<table border=\"1\" class=\"dataframe\">\n",
       "  <thead>\n",
       "    <tr style=\"text-align: right;\">\n",
       "      <th></th>\n",
       "      <th></th>\n",
       "      <th>CALI</th>\n",
       "      <th>DTC</th>\n",
       "      <th>Depth</th>\n",
       "      <th>GR</th>\n",
       "      <th>LITHOLOGY_GEOLINK</th>\n",
       "      <th>RDEP</th>\n",
       "      <th>RHOB</th>\n",
       "      <th>RMED</th>\n",
       "      <th>split</th>\n",
       "      <th>wlbCompletionDate</th>\n",
       "      <th>wlbCompletionYear</th>\n",
       "      <th>wlbKellyBushElevation</th>\n",
       "      <th>wlbTotalDepth</th>\n",
       "      <th>xc</th>\n",
       "      <th>yc</th>\n",
       "      <th>Well</th>\n",
       "      <th>DEPT</th>\n",
       "    </tr>\n",
       "    <tr>\n",
       "      <th>Well</th>\n",
       "      <th>DEPT</th>\n",
       "      <th></th>\n",
       "      <th></th>\n",
       "      <th></th>\n",
       "      <th></th>\n",
       "      <th></th>\n",
       "      <th></th>\n",
       "      <th></th>\n",
       "      <th></th>\n",
       "      <th></th>\n",
       "      <th></th>\n",
       "      <th></th>\n",
       "      <th></th>\n",
       "      <th></th>\n",
       "      <th></th>\n",
       "      <th></th>\n",
       "      <th></th>\n",
       "      <th></th>\n",
       "    </tr>\n",
       "  </thead>\n",
       "  <tbody>\n",
       "    <tr>\n",
       "      <th rowspan=\"5\" valign=\"top\">30_11-3</th>\n",
       "      <th>2118.60</th>\n",
       "      <td>12.435000</td>\n",
       "      <td>109.432205</td>\n",
       "      <td>2118.744629</td>\n",
       "      <td>62.438549</td>\n",
       "      <td>Silt</td>\n",
       "      <td>1.321802</td>\n",
       "      <td>2.305019</td>\n",
       "      <td>1.439</td>\n",
       "      <td>train</td>\n",
       "      <td>1983-03-14T00:00:00</td>\n",
       "      <td>1983.0</td>\n",
       "      <td>25.0</td>\n",
       "      <td>4662.0</td>\n",
       "      <td>2.537631</td>\n",
       "      <td>60.044053</td>\n",
       "      <td>30_11-3</td>\n",
       "      <td>2118.60</td>\n",
       "    </tr>\n",
       "    <tr>\n",
       "      <th>2118.75</th>\n",
       "      <td>12.435000</td>\n",
       "      <td>109.432205</td>\n",
       "      <td>2118.744629</td>\n",
       "      <td>62.438549</td>\n",
       "      <td>Silt</td>\n",
       "      <td>1.321802</td>\n",
       "      <td>2.305019</td>\n",
       "      <td>1.439</td>\n",
       "      <td>train</td>\n",
       "      <td>1983-03-14T00:00:00</td>\n",
       "      <td>1983.0</td>\n",
       "      <td>25.0</td>\n",
       "      <td>4662.0</td>\n",
       "      <td>2.537631</td>\n",
       "      <td>60.044053</td>\n",
       "      <td>30_11-3</td>\n",
       "      <td>2118.75</td>\n",
       "    </tr>\n",
       "    <tr>\n",
       "      <th>2118.90</th>\n",
       "      <td>12.584001</td>\n",
       "      <td>102.456642</td>\n",
       "      <td>2118.896973</td>\n",
       "      <td>61.501503</td>\n",
       "      <td>Silt</td>\n",
       "      <td>1.478748</td>\n",
       "      <td>2.317000</td>\n",
       "      <td>1.439</td>\n",
       "      <td>train</td>\n",
       "      <td>1983-03-14T00:00:00</td>\n",
       "      <td>1983.0</td>\n",
       "      <td>25.0</td>\n",
       "      <td>4662.0</td>\n",
       "      <td>2.537631</td>\n",
       "      <td>60.044053</td>\n",
       "      <td>30_11-3</td>\n",
       "      <td>2118.90</td>\n",
       "    </tr>\n",
       "    <tr>\n",
       "      <th>2119.05</th>\n",
       "      <td>12.606000</td>\n",
       "      <td>95.108009</td>\n",
       "      <td>2119.049561</td>\n",
       "      <td>61.000000</td>\n",
       "      <td>Silt</td>\n",
       "      <td>1.553000</td>\n",
       "      <td>2.327976</td>\n",
       "      <td>1.534</td>\n",
       "      <td>train</td>\n",
       "      <td>1983-03-14T00:00:00</td>\n",
       "      <td>1983.0</td>\n",
       "      <td>25.0</td>\n",
       "      <td>4662.0</td>\n",
       "      <td>2.537631</td>\n",
       "      <td>60.044053</td>\n",
       "      <td>30_11-3</td>\n",
       "      <td>2119.05</td>\n",
       "    </tr>\n",
       "    <tr>\n",
       "      <th>2119.20</th>\n",
       "      <td>12.391000</td>\n",
       "      <td>99.642990</td>\n",
       "      <td>2119.201904</td>\n",
       "      <td>61.905998</td>\n",
       "      <td>Silt</td>\n",
       "      <td>1.512000</td>\n",
       "      <td>2.312981</td>\n",
       "      <td>1.777</td>\n",
       "      <td>train</td>\n",
       "      <td>1983-03-14T00:00:00</td>\n",
       "      <td>1983.0</td>\n",
       "      <td>25.0</td>\n",
       "      <td>4662.0</td>\n",
       "      <td>2.537631</td>\n",
       "      <td>60.044053</td>\n",
       "      <td>30_11-3</td>\n",
       "      <td>2119.20</td>\n",
       "    </tr>\n",
       "    <tr>\n",
       "      <th>...</th>\n",
       "      <th>...</th>\n",
       "      <td>...</td>\n",
       "      <td>...</td>\n",
       "      <td>...</td>\n",
       "      <td>...</td>\n",
       "      <td>...</td>\n",
       "      <td>...</td>\n",
       "      <td>...</td>\n",
       "      <td>...</td>\n",
       "      <td>...</td>\n",
       "      <td>...</td>\n",
       "      <td>...</td>\n",
       "      <td>...</td>\n",
       "      <td>...</td>\n",
       "      <td>...</td>\n",
       "      <td>...</td>\n",
       "      <td>...</td>\n",
       "      <td>...</td>\n",
       "    </tr>\n",
       "    <tr>\n",
       "      <th rowspan=\"5\" valign=\"top\">30_7-7</th>\n",
       "      <th>5022.15</th>\n",
       "      <td>5.961000</td>\n",
       "      <td>81.231377</td>\n",
       "      <td>5022.173828</td>\n",
       "      <td>59.574780</td>\n",
       "      <td>Silt</td>\n",
       "      <td>2.438013</td>\n",
       "      <td>2.455000</td>\n",
       "      <td>2.889</td>\n",
       "      <td>train</td>\n",
       "      <td>1979-01-07T00:00:00</td>\n",
       "      <td>1979.0</td>\n",
       "      <td>25.0</td>\n",
       "      <td>5127.0</td>\n",
       "      <td>2.268694</td>\n",
       "      <td>60.272028</td>\n",
       "      <td>30_7-7</td>\n",
       "      <td>5022.15</td>\n",
       "    </tr>\n",
       "    <tr>\n",
       "      <th>5022.30</th>\n",
       "      <td>5.941000</td>\n",
       "      <td>81.126503</td>\n",
       "      <td>5022.326660</td>\n",
       "      <td>60.271767</td>\n",
       "      <td>Silt</td>\n",
       "      <td>2.438000</td>\n",
       "      <td>2.463000</td>\n",
       "      <td>2.818</td>\n",
       "      <td>train</td>\n",
       "      <td>1979-01-07T00:00:00</td>\n",
       "      <td>1979.0</td>\n",
       "      <td>25.0</td>\n",
       "      <td>5127.0</td>\n",
       "      <td>2.268694</td>\n",
       "      <td>60.272028</td>\n",
       "      <td>30_7-7</td>\n",
       "      <td>5022.30</td>\n",
       "    </tr>\n",
       "    <tr>\n",
       "      <th>5022.45</th>\n",
       "      <td>5.887000</td>\n",
       "      <td>80.289490</td>\n",
       "      <td>5022.479004</td>\n",
       "      <td>59.796532</td>\n",
       "      <td>Silt</td>\n",
       "      <td>2.461923</td>\n",
       "      <td>2.455000</td>\n",
       "      <td>2.796</td>\n",
       "      <td>train</td>\n",
       "      <td>1979-01-07T00:00:00</td>\n",
       "      <td>1979.0</td>\n",
       "      <td>25.0</td>\n",
       "      <td>5127.0</td>\n",
       "      <td>2.268694</td>\n",
       "      <td>60.272028</td>\n",
       "      <td>30_7-7</td>\n",
       "      <td>5022.45</td>\n",
       "    </tr>\n",
       "    <tr>\n",
       "      <th>5022.60</th>\n",
       "      <td>5.902000</td>\n",
       "      <td>78.824585</td>\n",
       "      <td>5022.631348</td>\n",
       "      <td>55.645344</td>\n",
       "      <td>Silt</td>\n",
       "      <td>2.503865</td>\n",
       "      <td>2.465000</td>\n",
       "      <td>2.774</td>\n",
       "      <td>train</td>\n",
       "      <td>1979-01-07T00:00:00</td>\n",
       "      <td>1979.0</td>\n",
       "      <td>25.0</td>\n",
       "      <td>5127.0</td>\n",
       "      <td>2.268694</td>\n",
       "      <td>60.272028</td>\n",
       "      <td>30_7-7</td>\n",
       "      <td>5022.60</td>\n",
       "    </tr>\n",
       "    <tr>\n",
       "      <th>5022.75</th>\n",
       "      <td>5.902000</td>\n",
       "      <td>78.824585</td>\n",
       "      <td>5022.631348</td>\n",
       "      <td>55.645344</td>\n",
       "      <td>Silt</td>\n",
       "      <td>2.503865</td>\n",
       "      <td>2.465000</td>\n",
       "      <td>2.774</td>\n",
       "      <td>train</td>\n",
       "      <td>1979-01-07T00:00:00</td>\n",
       "      <td>1979.0</td>\n",
       "      <td>25.0</td>\n",
       "      <td>5127.0</td>\n",
       "      <td>2.268694</td>\n",
       "      <td>60.272028</td>\n",
       "      <td>30_7-7</td>\n",
       "      <td>5022.75</td>\n",
       "    </tr>\n",
       "  </tbody>\n",
       "</table>\n",
       "<p>165944 rows × 17 columns</p>\n",
       "</div>"
      ],
      "text/plain": [
       "                      CALI         DTC        Depth         GR  \\\n",
       "Well    DEPT                                                     \n",
       "30_11-3 2118.60  12.435000  109.432205  2118.744629  62.438549   \n",
       "        2118.75  12.435000  109.432205  2118.744629  62.438549   \n",
       "        2118.90  12.584001  102.456642  2118.896973  61.501503   \n",
       "        2119.05  12.606000   95.108009  2119.049561  61.000000   \n",
       "        2119.20  12.391000   99.642990  2119.201904  61.905998   \n",
       "...                    ...         ...          ...        ...   \n",
       "30_7-7  5022.15   5.961000   81.231377  5022.173828  59.574780   \n",
       "        5022.30   5.941000   81.126503  5022.326660  60.271767   \n",
       "        5022.45   5.887000   80.289490  5022.479004  59.796532   \n",
       "        5022.60   5.902000   78.824585  5022.631348  55.645344   \n",
       "        5022.75   5.902000   78.824585  5022.631348  55.645344   \n",
       "\n",
       "                LITHOLOGY_GEOLINK      RDEP      RHOB   RMED  split  \\\n",
       "Well    DEPT                                                          \n",
       "30_11-3 2118.60              Silt  1.321802  2.305019  1.439  train   \n",
       "        2118.75              Silt  1.321802  2.305019  1.439  train   \n",
       "        2118.90              Silt  1.478748  2.317000  1.439  train   \n",
       "        2119.05              Silt  1.553000  2.327976  1.534  train   \n",
       "        2119.20              Silt  1.512000  2.312981  1.777  train   \n",
       "...                           ...       ...       ...    ...    ...   \n",
       "30_7-7  5022.15              Silt  2.438013  2.455000  2.889  train   \n",
       "        5022.30              Silt  2.438000  2.463000  2.818  train   \n",
       "        5022.45              Silt  2.461923  2.455000  2.796  train   \n",
       "        5022.60              Silt  2.503865  2.465000  2.774  train   \n",
       "        5022.75              Silt  2.503865  2.465000  2.774  train   \n",
       "\n",
       "                   wlbCompletionDate  wlbCompletionYear  \\\n",
       "Well    DEPT                                              \n",
       "30_11-3 2118.60  1983-03-14T00:00:00             1983.0   \n",
       "        2118.75  1983-03-14T00:00:00             1983.0   \n",
       "        2118.90  1983-03-14T00:00:00             1983.0   \n",
       "        2119.05  1983-03-14T00:00:00             1983.0   \n",
       "        2119.20  1983-03-14T00:00:00             1983.0   \n",
       "...                              ...                ...   \n",
       "30_7-7  5022.15  1979-01-07T00:00:00             1979.0   \n",
       "        5022.30  1979-01-07T00:00:00             1979.0   \n",
       "        5022.45  1979-01-07T00:00:00             1979.0   \n",
       "        5022.60  1979-01-07T00:00:00             1979.0   \n",
       "        5022.75  1979-01-07T00:00:00             1979.0   \n",
       "\n",
       "                 wlbKellyBushElevation  wlbTotalDepth        xc         yc  \\\n",
       "Well    DEPT                                                                 \n",
       "30_11-3 2118.60                   25.0         4662.0  2.537631  60.044053   \n",
       "        2118.75                   25.0         4662.0  2.537631  60.044053   \n",
       "        2118.90                   25.0         4662.0  2.537631  60.044053   \n",
       "        2119.05                   25.0         4662.0  2.537631  60.044053   \n",
       "        2119.20                   25.0         4662.0  2.537631  60.044053   \n",
       "...                                ...            ...       ...        ...   \n",
       "30_7-7  5022.15                   25.0         5127.0  2.268694  60.272028   \n",
       "        5022.30                   25.0         5127.0  2.268694  60.272028   \n",
       "        5022.45                   25.0         5127.0  2.268694  60.272028   \n",
       "        5022.60                   25.0         5127.0  2.268694  60.272028   \n",
       "        5022.75                   25.0         5127.0  2.268694  60.272028   \n",
       "\n",
       "                    Well     DEPT  \n",
       "Well    DEPT                       \n",
       "30_11-3 2118.60  30_11-3  2118.60  \n",
       "        2118.75  30_11-3  2118.75  \n",
       "        2118.90  30_11-3  2118.90  \n",
       "        2119.05  30_11-3  2119.05  \n",
       "        2119.20  30_11-3  2119.20  \n",
       "...                  ...      ...  \n",
       "30_7-7  5022.15   30_7-7  5022.15  \n",
       "        5022.30   30_7-7  5022.30  \n",
       "        5022.45   30_7-7  5022.45  \n",
       "        5022.60   30_7-7  5022.60  \n",
       "        5022.75   30_7-7  5022.75  \n",
       "\n",
       "[165944 rows x 17 columns]"
      ]
     },
     "execution_count": 4,
     "metadata": {},
     "output_type": "execute_result"
    }
   ],
   "source": [
    "\n",
    "\n",
    "import pandas as pd\n",
    "import xarray as xr\n",
    "xf = xr.open_zarr(\"../../data/processed/geolink_norge_dataset/geolink_norge_well_logs.zarr\")\n",
    "xf = xf.where(xf['Well'].str.startswith('30')).dropna(dim='Well', how='all')\n",
    "df = xf.to_dataframe().swaplevel()\n",
    "df['LITHOLOGY_GEOLINK'] = df['LITHOLOGY_GEOLINK'].astype('category')\n",
    "df['Well'] = df.index.get_level_values(0).astype('category')\n",
    "df['DEPT'] = df.index.get_level_values(1)\n",
    "feature_cols = ['CALI', 'DTC', 'GR', 'RDEP', 'RHOB',\n",
    "       'RMED', 'xc', 'yc', 'DEPT']\n",
    "df = df.dropna(how='any', subset=feature_cols+['LITHOLOGY_GEOLINK'])\n",
    "df = df.sort_index()\n",
    "df"
   ]
  },
  {
   "cell_type": "code",
   "execution_count": null,
   "metadata": {
    "ExecuteTime": {
     "end_time": "2020-09-27T01:33:08.708474Z",
     "start_time": "2020-09-27T01:33:08.703347Z"
    }
   },
   "outputs": [],
   "source": []
  },
  {
   "cell_type": "markdown",
   "metadata": {
    "ExecuteTime": {
     "end_time": "2020-09-26T23:20:43.172073Z",
     "start_time": "2020-09-26T23:20:38.077214Z"
    }
   },
   "source": []
  },
  {
   "cell_type": "markdown",
   "metadata": {
    "ExecuteTime": {
     "end_time": "2020-09-21T12:29:04.975385Z",
     "start_time": "2020-09-21T12:29:04.783670Z"
    }
   },
   "source": [
    "\n",
    "  <div class=\"alert alert-success\">\n",
    "  <h2>Exercise</h2>\n",
    "\n",
    "  Are there better ways we should set this up?\n",
    "    \n",
    "  What are the benefits?\n",
    "      \n",
    "\n",
    "  <details>\n",
    "  <summary><b>→ Hints</b></summary>\n",
    "\n",
    "  There is no right answer except experimentation, but on creating this demo we found:\n",
    "      \n",
    "  * Generalising to a new well is hard, and it's important to have a similar distribution in test and train. So we took the top of some wells, and the bottom of others as training. \n",
    "  * Seeing the previous labels is important, as this encodes how the particular geologist interprets facies in this well. Which can often have some subjectivity\n",
    "  * Long context help a lot, but also slow it down. We're using the last 200 meters, but seeing the whole well helps\n",
    "  * Using all wells, instead of just the 30* wells will help it learn to generalise\n",
    "  * Using all logs may help\n",
    "  * We could do infilling instead\n",
    "  * We could make it bi-directional\n",
    "  * We could make it a sequence to sequence model, instead of sequence to 1\n",
    "  * Transformer may do better\n",
    "  * We could normalise the logs per window or well\n",
    "  * Many more\n",
    "\n",
    "  </details>\n",
    "\n",
    "  </div>"
   ]
  },
  {
   "cell_type": "code",
   "execution_count": null,
   "metadata": {
    "ExecuteTime": {
     "end_time": "2020-09-27T01:24:29.400332Z",
     "start_time": "2020-09-27T01:24:29.397998Z"
    }
   },
   "outputs": [],
   "source": []
  },
  {
   "cell_type": "code",
   "execution_count": 5,
   "metadata": {
    "ExecuteTime": {
     "end_time": "2020-09-27T01:50:25.259810Z",
     "start_time": "2020-09-27T01:50:25.251569Z"
    }
   },
   "outputs": [
    {
     "data": {
      "text/plain": [
       "30_4-1      23291\n",
       "30_7-7      18949\n",
       "30_2-1      15674\n",
       "30_11-3     13021\n",
       "30_6-11     12994\n",
       "30_3-2 R    11046\n",
       "30_6-8      10965\n",
       "30_6-5      10882\n",
       "30_3-3      10209\n",
       "30_3-4 R     8715\n",
       "30_6-23      8233\n",
       "30_6-14      7080\n",
       "30_4-2       7039\n",
       "30_3-5 S     4207\n",
       "30_6-22      3639\n",
       "Name: Well, dtype: int64"
      ]
     },
     "execution_count": 5,
     "metadata": {},
     "output_type": "execute_result"
    }
   ],
   "source": [
    "# We  will stick to a gorup of long wells 29, 30, 31, 35 are valid groups\n",
    "# df=df[df['Well'].str.startswith('30')]\n",
    "counts = df['Well'].value_counts()\n",
    "counts[counts>0]"
   ]
  },
  {
   "cell_type": "code",
   "execution_count": null,
   "metadata": {
    "ExecuteTime": {
     "end_time": "2020-09-19T05:06:21.803115Z",
     "start_time": "2020-09-19T05:06:21.799047Z"
    }
   },
   "outputs": [],
   "source": []
  },
  {
   "cell_type": "code",
   "execution_count": 6,
   "metadata": {
    "ExecuteTime": {
     "end_time": "2020-09-27T01:50:25.279216Z",
     "start_time": "2020-09-27T01:50:25.261470Z"
    }
   },
   "outputs": [
    {
     "name": "stdout",
     "output_type": "stream",
     "text": [
      "Shaly Silt                41607\n",
      "Marlstone                 40738\n",
      "Silt                      36834\n",
      "Argillaceous Limestone    12329\n",
      "Cross Bedded Sst          10106\n",
      "Silty Shale                7366\n",
      "Silty Sand                 5522\n",
      "Cinerite                   3721\n",
      "Limestone                  3708\n",
      "Sandstone                  1702\n",
      "Calcareous Cement          1381\n",
      "Coal                        930\n",
      "                              0\n",
      "Name: LITHOLOGY_GEOLINK, dtype: int64\n",
      "removed_labels CategoricalIndex([''], categories=['', 'Argillaceous Limestone', 'Calcareous Cement', 'Cinerite', 'Coal', 'Cross Bedded Sst', 'Limestone', 'Marlstone', ...], ordered=False, dtype='category')\n"
     ]
    },
    {
     "data": {
      "text/plain": [
       "Shaly Silt                41607\n",
       "Marlstone                 40738\n",
       "Silt                      36834\n",
       "Argillaceous Limestone    12329\n",
       "Cross Bedded Sst          10106\n",
       "Silty Shale                7366\n",
       "Silty Sand                 5522\n",
       "Cinerite                   3721\n",
       "Limestone                  3708\n",
       "Sandstone                  1702\n",
       "Calcareous Cement          1381\n",
       "Coal                        930\n",
       "rare                          0\n",
       "Name: LITHOLOGY_GEOLINK, dtype: int64"
      ]
     },
     "execution_count": 6,
     "metadata": {},
     "output_type": "execute_result"
    }
   ],
   "source": [
    "# Let take the top N lithologies, replacing the rest with \"rare\"\n",
    "# print(len(df))\n",
    "removed_labels = df[\"LITHOLOGY_GEOLINK\"].value_counts()[max_lithologies:].index\n",
    "print(df['LITHOLOGY_GEOLINK'].value_counts())\n",
    "print('removed_labels', removed_labels)\n",
    "l = df[\"LITHOLOGY_GEOLINK\"].values.remove_categories(removed_labels)\n",
    "df['LITHOLOGY_GEOLINK']  = l.add_categories('rare').fillna('rare')\n",
    "df['LITHOLOGY_GEOLINK'].value_counts()"
   ]
  },
  {
   "cell_type": "code",
   "execution_count": 7,
   "metadata": {
    "ExecuteTime": {
     "end_time": "2020-09-27T01:50:25.290245Z",
     "start_time": "2020-09-27T01:50:25.281063Z"
    }
   },
   "outputs": [
    {
     "data": {
      "text/plain": [
       "[], Categories (12, object): ['Argillaceous Limestone', 'Calcareous Cement', 'Cinerite', 'Coal', ..., 'Shaly Silt', 'Silt', 'Silty Sand', 'Silty Shale']"
      ]
     },
     "execution_count": 7,
     "metadata": {},
     "output_type": "execute_result"
    }
   ],
   "source": [
    "removed_labels = list(df[\"LITHOLOGY_GEOLINK\"].value_counts()[12:].keys())\n",
    "i = df[\"LITHOLOGY_GEOLINK\"].values.remove_categories(removed_labels)\n",
    "i[i.isna()]"
   ]
  },
  {
   "cell_type": "code",
   "execution_count": 8,
   "metadata": {
    "ExecuteTime": {
     "end_time": "2020-09-27T01:50:25.309687Z",
     "start_time": "2020-09-27T01:50:25.293585Z"
    }
   },
   "outputs": [
    {
     "data": {
      "text/plain": [
       "Index(['Coal', 'Calcareous Cement', 'Sandstone', 'Limestone', 'Cinerite',\n",
       "       'Silty Sand', 'Silty Shale', 'Cross Bedded Sst',\n",
       "       'Argillaceous Limestone', 'Silt', 'Marlstone', 'Shaly Silt'],\n",
       "      dtype='object')"
      ]
     },
     "execution_count": 8,
     "metadata": {},
     "output_type": "execute_result"
    }
   ],
   "source": [
    "# Remove unused categories, and order\n",
    "df['LITHOLOGY_GEOLINK'] = df['LITHOLOGY_GEOLINK'].values.remove_unused_categories()\n",
    "\n",
    "# sort categories (leads to nicer histograms)\n",
    "i = df['LITHOLOGY_GEOLINK'].values\n",
    "litho_sorted = i.value_counts().sort_values(ascending=True).index\n",
    "df['LITHOLOGY_GEOLINK'] = i.reorder_categories(list(litho_sorted), ordered=True)\n",
    "\n",
    "df['LITHOLOGY_GEOLINK'].values.categories"
   ]
  },
  {
   "cell_type": "code",
   "execution_count": 9,
   "metadata": {
    "ExecuteTime": {
     "end_time": "2020-09-27T01:50:25.616901Z",
     "start_time": "2020-09-27T01:50:25.312067Z"
    }
   },
   "outputs": [
    {
     "data": {
      "text/plain": [
       "Shaly Silt                41607\n",
       "Marlstone                 40738\n",
       "Silt                      36834\n",
       "Argillaceous Limestone    12329\n",
       "Cross Bedded Sst          10106\n",
       "Silty Shale                7366\n",
       "Silty Sand                 5522\n",
       "Cinerite                   3721\n",
       "Limestone                  3708\n",
       "Sandstone                  1702\n",
       "Calcareous Cement          1381\n",
       "Coal                        930\n",
       "Name: LITHOLOGY_GEOLINK, dtype: int64"
      ]
     },
     "execution_count": 9,
     "metadata": {},
     "output_type": "execute_result"
    },
    {
     "data": {
      "image/png": "[encoded data removed]",
      "text/plain": [
       "<Figure size 432x288 with 1 Axes>"
      ]
     },
     "metadata": {
      "needs_background": "light"
     },
     "output_type": "display_data"
    }
   ],
   "source": [
    "df['LITHOLOGY_GEOLINK'].value_counts().plot.bar()\n",
    "df['LITHOLOGY_GEOLINK'].value_counts()"
   ]
  },
  {
   "cell_type": "code",
   "execution_count": 10,
   "metadata": {
    "ExecuteTime": {
     "end_time": "2020-09-27T01:50:25.636692Z",
     "start_time": "2020-09-27T01:50:25.618501Z"
    }
   },
   "outputs": [
    {
     "data": {
      "text/html": [
       "<div>\n",
       "<style scoped>\n",
       "    .dataframe tbody tr th:only-of-type {\n",
       "        vertical-align: middle;\n",
       "    }\n",
       "\n",
       "    .dataframe tbody tr th {\n",
       "        vertical-align: top;\n",
       "    }\n",
       "\n",
       "    .dataframe thead th {\n",
       "        text-align: right;\n",
       "    }\n",
       "</style>\n",
       "<table border=\"1\" class=\"dataframe\">\n",
       "  <thead>\n",
       "    <tr style=\"text-align: right;\">\n",
       "      <th></th>\n",
       "      <th></th>\n",
       "      <th>Well_int</th>\n",
       "    </tr>\n",
       "    <tr>\n",
       "      <th>Well</th>\n",
       "      <th>DEPT</th>\n",
       "      <th></th>\n",
       "    </tr>\n",
       "  </thead>\n",
       "  <tbody>\n",
       "    <tr>\n",
       "      <th rowspan=\"5\" valign=\"top\">30_11-3</th>\n",
       "      <th>2118.60</th>\n",
       "      <td>0</td>\n",
       "    </tr>\n",
       "    <tr>\n",
       "      <th>2118.75</th>\n",
       "      <td>0</td>\n",
       "    </tr>\n",
       "    <tr>\n",
       "      <th>2118.90</th>\n",
       "      <td>0</td>\n",
       "    </tr>\n",
       "    <tr>\n",
       "      <th>2119.05</th>\n",
       "      <td>0</td>\n",
       "    </tr>\n",
       "    <tr>\n",
       "      <th>2119.20</th>\n",
       "      <td>0</td>\n",
       "    </tr>\n",
       "    <tr>\n",
       "      <th>...</th>\n",
       "      <th>...</th>\n",
       "      <td>...</td>\n",
       "    </tr>\n",
       "    <tr>\n",
       "      <th rowspan=\"5\" valign=\"top\">30_7-7</th>\n",
       "      <th>5022.15</th>\n",
       "      <td>14</td>\n",
       "    </tr>\n",
       "    <tr>\n",
       "      <th>5022.30</th>\n",
       "      <td>14</td>\n",
       "    </tr>\n",
       "    <tr>\n",
       "      <th>5022.45</th>\n",
       "      <td>14</td>\n",
       "    </tr>\n",
       "    <tr>\n",
       "      <th>5022.60</th>\n",
       "      <td>14</td>\n",
       "    </tr>\n",
       "    <tr>\n",
       "      <th>5022.75</th>\n",
       "      <td>14</td>\n",
       "    </tr>\n",
       "  </tbody>\n",
       "</table>\n",
       "<p>165944 rows × 1 columns</p>\n",
       "</div>"
      ],
      "text/plain": [
       "                 Well_int\n",
       "Well    DEPT             \n",
       "30_11-3 2118.60         0\n",
       "        2118.75         0\n",
       "        2118.90         0\n",
       "        2119.05         0\n",
       "        2119.20         0\n",
       "...                   ...\n",
       "30_7-7  5022.15        14\n",
       "        5022.30        14\n",
       "        5022.45        14\n",
       "        5022.60        14\n",
       "        5022.75        14\n",
       "\n",
       "[165944 rows x 1 columns]"
      ]
     },
     "execution_count": 10,
     "metadata": {},
     "output_type": "execute_result"
    }
   ],
   "source": [
    "# Add a well int, so the model will know what well we use\n",
    "well_index = df['Well'].values\n",
    "well_int = well_index.rename_categories(range(len(well_index.categories))).astype(int)\n",
    "df['Well_int']= well_int\n",
    "df[['Well_int']]"
   ]
  },
  {
   "cell_type": "code",
   "execution_count": null,
   "metadata": {
    "ExecuteTime": {
     "end_time": "2020-09-27T01:36:24.616534Z",
     "start_time": "2020-09-27T01:36:24.606687Z"
    }
   },
   "outputs": [],
   "source": []
  },
  {
   "cell_type": "code",
   "execution_count": 11,
   "metadata": {
    "ExecuteTime": {
     "end_time": "2020-09-27T01:50:25.670016Z",
     "start_time": "2020-09-27T01:50:25.638551Z"
    }
   },
   "outputs": [],
   "source": [
    "# Select the N longest well logs\n",
    "wells = sorted(df['Well'].unique())\n",
    "n_wells = min(len(wells), max_wells)\n",
    "selected_wells = wells[:n_wells]\n",
    "df = df.loc[selected_wells]\n",
    "# df"
   ]
  },
  {
   "cell_type": "code",
   "execution_count": 12,
   "metadata": {
    "ExecuteTime": {
     "end_time": "2020-09-27T01:50:25.946573Z",
     "start_time": "2020-09-27T01:50:25.672301Z"
    }
   },
   "outputs": [
    {
     "data": {
      "text/plain": [
       "1"
      ]
     },
     "execution_count": 12,
     "metadata": {},
     "output_type": "execute_result"
    },
    {
     "data": {
      "image/png": "[encoded data removed]",
      "text/plain": [
       "<Figure size 432x288 with 1 Axes>"
      ]
     },
     "metadata": {
      "needs_background": "light"
     },
     "output_type": "display_data"
    }
   ],
   "source": [
    "# Get a list of wells, ordered by frequency\n",
    "well_counts = df['Well'].value_counts()\n",
    "well_counts = well_counts[well_counts>0]\n",
    "wells = list(well_counts.index)\n",
    "well_counts.plot.bar()\n",
    "1\n",
    "# well_counts"
   ]
  },
  {
   "cell_type": "code",
   "execution_count": 13,
   "metadata": {
    "ExecuteTime": {
     "end_time": "2020-09-27T01:50:25.974085Z",
     "start_time": "2020-09-27T01:50:25.948266Z"
    }
   },
   "outputs": [
    {
     "data": {
      "text/html": [
       "<div>\n",
       "<style scoped>\n",
       "    .dataframe tbody tr th:only-of-type {\n",
       "        vertical-align: middle;\n",
       "    }\n",
       "\n",
       "    .dataframe tbody tr th {\n",
       "        vertical-align: top;\n",
       "    }\n",
       "\n",
       "    .dataframe thead th {\n",
       "        text-align: right;\n",
       "    }\n",
       "</style>\n",
       "<table border=\"1\" class=\"dataframe\">\n",
       "  <thead>\n",
       "    <tr style=\"text-align: right;\">\n",
       "      <th></th>\n",
       "      <th></th>\n",
       "      <th>LITHOLOGY_GEOLINK</th>\n",
       "      <th>LITH_ABV</th>\n",
       "    </tr>\n",
       "    <tr>\n",
       "      <th>Well</th>\n",
       "      <th>DEPT</th>\n",
       "      <th></th>\n",
       "      <th></th>\n",
       "    </tr>\n",
       "  </thead>\n",
       "  <tbody>\n",
       "    <tr>\n",
       "      <th rowspan=\"5\" valign=\"top\">30_11-3</th>\n",
       "      <th>2118.60</th>\n",
       "      <td>Silt</td>\n",
       "      <td>Shaly Silt</td>\n",
       "    </tr>\n",
       "    <tr>\n",
       "      <th>2118.75</th>\n",
       "      <td>Silt</td>\n",
       "      <td>Shaly Silt</td>\n",
       "    </tr>\n",
       "    <tr>\n",
       "      <th>2118.90</th>\n",
       "      <td>Silt</td>\n",
       "      <td>Shaly Silt</td>\n",
       "    </tr>\n",
       "    <tr>\n",
       "      <th>2119.05</th>\n",
       "      <td>Silt</td>\n",
       "      <td>Shaly Silt</td>\n",
       "    </tr>\n",
       "    <tr>\n",
       "      <th>2119.20</th>\n",
       "      <td>Silt</td>\n",
       "      <td>Shaly Silt</td>\n",
       "    </tr>\n",
       "    <tr>\n",
       "      <th>...</th>\n",
       "      <th>...</th>\n",
       "      <td>...</td>\n",
       "      <td>...</td>\n",
       "    </tr>\n",
       "    <tr>\n",
       "      <th rowspan=\"5\" valign=\"top\">30_7-7</th>\n",
       "      <th>5022.15</th>\n",
       "      <td>Silt</td>\n",
       "      <td>Silt</td>\n",
       "    </tr>\n",
       "    <tr>\n",
       "      <th>5022.30</th>\n",
       "      <td>Silt</td>\n",
       "      <td>Silt</td>\n",
       "    </tr>\n",
       "    <tr>\n",
       "      <th>5022.45</th>\n",
       "      <td>Silt</td>\n",
       "      <td>Silt</td>\n",
       "    </tr>\n",
       "    <tr>\n",
       "      <th>5022.60</th>\n",
       "      <td>Silt</td>\n",
       "      <td>Cross Bedded Sst</td>\n",
       "    </tr>\n",
       "    <tr>\n",
       "      <th>5022.75</th>\n",
       "      <td>Silt</td>\n",
       "      <td>Cross Bedded Sst</td>\n",
       "    </tr>\n",
       "  </tbody>\n",
       "</table>\n",
       "<p>165944 rows × 2 columns</p>\n",
       "</div>"
      ],
      "text/plain": [
       "                LITHOLOGY_GEOLINK          LITH_ABV\n",
       "Well    DEPT                                       \n",
       "30_11-3 2118.60              Silt        Shaly Silt\n",
       "        2118.75              Silt        Shaly Silt\n",
       "        2118.90              Silt        Shaly Silt\n",
       "        2119.05              Silt        Shaly Silt\n",
       "        2119.20              Silt        Shaly Silt\n",
       "...                           ...               ...\n",
       "30_7-7  5022.15              Silt              Silt\n",
       "        5022.30              Silt              Silt\n",
       "        5022.45              Silt              Silt\n",
       "        5022.60              Silt  Cross Bedded Sst\n",
       "        5022.75              Silt  Cross Bedded Sst\n",
       "\n",
       "[165944 rows x 2 columns]"
      ]
     },
     "execution_count": 13,
     "metadata": {},
     "output_type": "execute_result"
    }
   ],
   "source": [
    "# We want to see the facies N intervals above\n",
    "\n",
    "df['LITH_ABV'] = df[\"LITHOLOGY_GEOLINK\"].shift(shift_length).fillna('Shaly Silt')\n",
    "df['LITH_ABV_INT'] = df['LITH_ABV'].values.codes\n",
    "df[['LITHOLOGY_GEOLINK', 'LITH_ABV']]"
   ]
  },
  {
   "cell_type": "markdown",
   "metadata": {
    "ExecuteTime": {
     "end_time": "2020-09-27T01:33:08.700926Z",
     "start_time": "2020-09-27T01:33:08.695492Z"
    }
   },
   "source": [
    "## Data processing"
   ]
  },
  {
   "cell_type": "markdown",
   "metadata": {
    "ExecuteTime": {
     "end_time": "2020-09-21T12:36:30.117841Z",
     "start_time": "2020-09-21T12:36:30.112925Z"
    }
   },
   "source": [
    "### Split data"
   ]
  },
  {
   "cell_type": "code",
   "execution_count": 14,
   "metadata": {
    "ExecuteTime": {
     "end_time": "2020-09-27T01:50:26.381505Z",
     "start_time": "2020-09-27T01:50:25.975909Z"
    },
    "scrolled": true
   },
   "outputs": [
    {
     "name": "stdout",
     "output_type": "stream",
     "text": [
      "train (83611, 21) test (82324, 21)\n",
      "Train 50%, test 50%\n"
     ]
    }
   ],
   "source": [
    "# SPLIT: We will train on measurements above Xkm depth, and test on deeper ones\n",
    "from functools import partial\n",
    "\n",
    "def get_depth_thresh(x, even_bottom=True):\n",
    "    \"\"\"\n",
    "    On even number well codes take the bottom of the well for trainin\n",
    "    \"\"\"\n",
    "    if len(x)==0: return x\n",
    "    \n",
    "    # if the well code is even take the top \n",
    "    code_is_even = (x['Well'].values.codes[0]%2)==0\n",
    "    if code_is_even:\n",
    "        even_bottom = not even_bottom\n",
    "    \n",
    "    d = x['DEPT']\n",
    "    thresh = np.round(d.mean())\n",
    "    x['thresh'] = thresh\n",
    "    if even_bottom:\n",
    "        return x[d>thresh]\n",
    "    else:\n",
    "        return x[d<thresh]\n",
    "\n",
    "\n",
    "df_test = df.groupby(level=0).apply(partial(get_depth_thresh, even_bottom=False))\n",
    "df_train = df.groupby(level=0).apply(partial(get_depth_thresh, even_bottom=True))\n",
    "print('train', df_train.shape, 'test', df_test.shape)\n",
    "print(f'Train {len(df_train)/len(df):.0%}, test {len(df_test)/len(df):.0%}')"
   ]
  },
  {
   "cell_type": "code",
   "execution_count": 15,
   "metadata": {
    "ExecuteTime": {
     "end_time": "2020-09-27T01:50:26.554523Z",
     "start_time": "2020-09-27T01:50:26.383175Z"
    }
   },
   "outputs": [
    {
     "name": "stdout",
     "output_type": "stream",
     "text": [
      "train (82972, 20) test (82972, 20)\n",
      "Train 50%, test 50%\n"
     ]
    }
   ],
   "source": [
    "train = []\n",
    "test = []\n",
    "for i, well in enumerate(selected_wells):\n",
    "    df_well = df.loc[well]\n",
    "    df_well.name = well\n",
    "    i_halfway = int(len(df_well)*0.5)\n",
    "    df_top = df_well.iloc[:i_halfway]\n",
    "    df_bottom = df_well.iloc[i_halfway:]\n",
    "    is_even = i%2==0\n",
    "    if is_even==0:\n",
    "        train.append(df_top)\n",
    "        test.append(df_bottom)\n",
    "    else:\n",
    "        train.append(df_bottom)\n",
    "        test.append(df_top)\n",
    "        \n",
    "df_test = pd.concat(test).set_index(['Well', 'DEPT'], drop=False)\n",
    "df_train = pd.concat(train).set_index(['Well', 'DEPT'], drop=False)\n",
    "print('train', df_train.shape, 'test', df_test.shape)\n",
    "print(f'Train {len(df_train)/len(df):.0%}, test {len(df_test)/len(df):.0%}')"
   ]
  },
  {
   "cell_type": "code",
   "execution_count": 16,
   "metadata": {
    "ExecuteTime": {
     "end_time": "2020-09-27T01:50:27.049042Z",
     "start_time": "2020-09-27T01:50:26.556565Z"
    }
   },
   "outputs": [
    {
     "data": {
      "image/png": "[encoded data removed]",
      "text/plain": [
       "<Figure size 432x288 with 1 Axes>"
      ]
     },
     "metadata": {
      "needs_background": "light"
     },
     "output_type": "display_data"
    }
   ],
   "source": [
    "# Plot the data split\n",
    "well_split = []\n",
    "for i, well in enumerate(selected_wells):\n",
    "    df_well = df.loc[well]\n",
    "    i_halfway = int(len(df_well)*0.5)\n",
    "    is_even = i%2==0\n",
    "    well_split.append(dict(\n",
    "        well=well,\n",
    "        top=df_well.Depth.min(),\n",
    "        half=df_well.Depth.iloc[i_halfway],\n",
    "        bottom=df_well.Depth.max(),\n",
    "        train_top=is_even,\n",
    "    ))\n",
    "    \n",
    "df_well_split = pd.DataFrame(well_split)\n",
    "\n",
    "well_top = df_well_split[df_well_split.train_top]\n",
    "well_bottom = df_well_split[~df_well_split.train_top]\n",
    "\n",
    "# Do the ones where train is at top\n",
    "plt.bar(\n",
    "    x=well_top.well,\n",
    "    height=well_top.bottom,\n",
    "    color=\"green\",\n",
    "    label=\"test\"\n",
    ")\n",
    "plt.bar(\n",
    "    x=well_top.well,\n",
    "    height=well_top.half,\n",
    "    color=\"blue\",\n",
    "    label=\"train\"\n",
    ")\n",
    "plt.bar(\n",
    "    x=well_top.well,\n",
    "    height=well_top.top,\n",
    "    color=\"white\",\n",
    ")\n",
    "\n",
    "\n",
    "# Others\n",
    "plt.bar(\n",
    "    x=well_bottom.well,\n",
    "    height=well_bottom.bottom,\n",
    "    color=\"blue\",\n",
    ")\n",
    "plt.bar(\n",
    "    x=well_bottom.well,\n",
    "    height=well_bottom.half,\n",
    "    color=\"green\",\n",
    ")\n",
    "plt.bar(\n",
    "    x=well_bottom.well,\n",
    "    height=well_bottom.top,\n",
    "    color=\"white\",\n",
    ")\n",
    "plt.gca().invert_yaxis()\n",
    "\n",
    "plt.legend()\n",
    "plt.title('data split')\n",
    "plt.xticks(rotation=90)\n",
    "plt.show()"
   ]
  },
  {
   "cell_type": "code",
   "execution_count": null,
   "metadata": {
    "ExecuteTime": {
     "end_time": "2020-09-27T01:03:47.898402Z",
     "start_time": "2020-09-27T01:03:47.828774Z"
    }
   },
   "outputs": [],
   "source": []
  },
  {
   "cell_type": "code",
   "execution_count": 17,
   "metadata": {
    "ExecuteTime": {
     "end_time": "2020-09-27T01:50:27.314587Z",
     "start_time": "2020-09-27T01:50:27.050691Z"
    }
   },
   "outputs": [],
   "source": [
    "a=set(df_train.index)\n",
    "b=set(df_test.index)\n",
    "assert len(a.intersection(b))==0"
   ]
  },
  {
   "cell_type": "markdown",
   "metadata": {},
   "source": [
    "We will be using depth and other measurements to determine the lithology. We dealt with the same problem in the tablular data. But in tabular data we only look at the measurements at each depth to find the class, while here we can look at the variations in the measurements as well."
   ]
  },
  {
   "cell_type": "markdown",
   "metadata": {},
   "source": [
    "And add depth as a feature column:"
   ]
  },
  {
   "cell_type": "markdown",
   "metadata": {},
   "source": [
    "As usual we need to create a training and test set. here we will only use `15` wells for training and `15` for testing as using the entire dataset means we need to spend much longer time for training."
   ]
  },
  {
   "cell_type": "code",
   "execution_count": null,
   "metadata": {
    "ExecuteTime": {
     "end_time": "2020-09-19T00:29:31.535487Z",
     "start_time": "2020-09-19T00:29:31.383687Z"
    },
    "scrolled": true
   },
   "outputs": [],
   "source": []
  },
  {
   "cell_type": "markdown",
   "metadata": {},
   "source": [
    "We need to process the input and target data. The input data needs to be normalised with a standard scaler, and the output data needs to be converted from text to numbers. To convert text to numbers we use `LabelEncoder` from Scikit Learn."
   ]
  },
  {
   "cell_type": "code",
   "execution_count": null,
   "metadata": {
    "ExecuteTime": {
     "end_time": "2020-09-19T01:38:09.633006Z",
     "start_time": "2020-09-19T01:38:09.570436Z"
    }
   },
   "outputs": [],
   "source": []
  },
  {
   "cell_type": "markdown",
   "metadata": {
    "ExecuteTime": {
     "end_time": "2020-09-19T01:52:24.643324Z",
     "start_time": "2020-09-19T01:52:24.637474Z"
    }
   },
   "source": [
    "### Scale"
   ]
  },
  {
   "cell_type": "code",
   "execution_count": 18,
   "metadata": {
    "ExecuteTime": {
     "end_time": "2020-09-27T01:50:27.714302Z",
     "start_time": "2020-09-27T01:50:27.316560Z"
    },
    "scrolled": true
   },
   "outputs": [
    {
     "name": "stdout",
     "output_type": "stream",
     "text": [
      "Index(['Coal', 'Calcareous Cement', 'Sandstone', 'Limestone', 'Cinerite',\n",
      "       'Silty Sand', 'Silty Shale', 'Cross Bedded Sst',\n",
      "       'Argillaceous Limestone', 'Silt', 'Marlstone', 'Shaly Silt'],\n",
      "      dtype='object')\n"
     ]
    },
    {
     "data": {
      "text/plain": [
       "StandardScaler()"
      ]
     },
     "execution_count": 18,
     "metadata": {},
     "output_type": "execute_result"
    }
   ],
   "source": [
    "from sklearn.preprocessing import StandardScaler, LabelEncoder\n",
    "\n",
    "scaler = StandardScaler()\n",
    "\n",
    "# Make a encoder, that order by frequency\n",
    "encoder = LabelEncoder()\n",
    "\n",
    "# TODO need to embed prev val..., one hot, then append\n",
    "encoder.classes_ = df[\"LITHOLOGY_GEOLINK\"].values.categories\n",
    "print(encoder.classes_)\n",
    "feat_cols = feature_cols = ['CALI', 'DTC', 'GR', 'RDEP', 'RHOB', 'RMED', 'xc', 'yc', 'DEPT', \"LITH_ABV_INT\"]\n",
    "scaler.fit(df[feat_cols].values)"
   ]
  },
  {
   "cell_type": "code",
   "execution_count": null,
   "metadata": {
    "ExecuteTime": {
     "end_time": "2020-09-21T12:43:35.323000Z",
     "start_time": "2020-09-21T12:43:35.316550Z"
    }
   },
   "outputs": [],
   "source": []
  },
  {
   "cell_type": "markdown",
   "metadata": {},
   "source": [
    "`LabelEncoder` converts each type to a value."
   ]
  },
  {
   "cell_type": "code",
   "execution_count": 19,
   "metadata": {
    "ExecuteTime": {
     "end_time": "2020-09-27T01:50:27.723893Z",
     "start_time": "2020-09-27T01:50:27.716952Z"
    }
   },
   "outputs": [
    {
     "data": {
      "text/plain": [
       "array([5])"
      ]
     },
     "execution_count": 19,
     "metadata": {},
     "output_type": "execute_result"
    }
   ],
   "source": [
    "encoder.transform([\"Shaly Silt\"])"
   ]
  },
  {
   "cell_type": "code",
   "execution_count": null,
   "metadata": {
    "ExecuteTime": {
     "end_time": "2020-09-26T23:24:36.913701Z",
     "start_time": "2020-09-26T23:24:36.898175Z"
    }
   },
   "outputs": [],
   "source": []
  },
  {
   "cell_type": "markdown",
   "metadata": {},
   "source": [
    "Now we can check the types at various depths:"
   ]
  },
  {
   "cell_type": "code",
   "execution_count": null,
   "metadata": {
    "ExecuteTime": {
     "end_time": "2020-09-27T01:20:54.275183Z",
     "start_time": "2020-09-27T01:20:53.379155Z"
    }
   },
   "outputs": [],
   "source": []
  },
  {
   "cell_type": "markdown",
   "metadata": {},
   "source": [
    "The output of a classification model is a value for each type. The type with the highest value is the one the model thinks is most likely to be associated with the input data. Therefore, the output size of the model should be the number of types."
   ]
  },
  {
   "cell_type": "markdown",
   "metadata": {},
   "source": [
    "Let's create training and test set, similar to what we had in multivariate time series. The only difference is here for each sequence of values we want the model to predict a value for each type."
   ]
  },
  {
   "cell_type": "markdown",
   "metadata": {
    "ExecuteTime": {
     "end_time": "2020-09-21T13:15:40.525819Z",
     "start_time": "2020-09-21T13:15:40.521470Z"
    }
   },
   "source": [
    "### To pytorch sequences"
   ]
  },
  {
   "cell_type": "code",
   "execution_count": 20,
   "metadata": {
    "ExecuteTime": {
     "end_time": "2020-09-27T01:50:27.994194Z",
     "start_time": "2020-09-27T01:50:27.726741Z"
    }
   },
   "outputs": [],
   "source": [
    "\n",
    "\n",
    "def get_sequences(df, seq_length = 10):\n",
    "    \"\"\"Take moving sequences of a dataframe\"\"\"\n",
    "    \n",
    "\n",
    "    x = []\n",
    "    y = []\n",
    "    features = scaler.transform(df.loc[:, feat_cols].values)\n",
    "    targets = encoder.transform(df.loc[:, \"LITHOLOGY_GEOLINK\"])\n",
    "\n",
    "    # Add prev labels, as one hot, to inputs\n",
    "    one_hot_targets = np.eye(len(encoder.classes_))[targets]\n",
    "    prev_one_host_targets = np.roll(one_hot_targets, shift=shift_length)\n",
    "    features = np.concatenate([features, prev_one_host_targets], 1)\n",
    "\n",
    "    for i in range(len(targets) - seq_length):\n",
    "        xi = features[i : i + seq_length, :]\n",
    "        yi = targets[i + seq_length - 1]\n",
    "        x.append(xi)\n",
    "        y.append(yi)\n",
    "    return x, y\n",
    "\n",
    "# Note we give it prev lithology from 20:10 steps above\n",
    "# And logs from 20:0 steps abov\n",
    "x_train, y_train = get_sequences(df_train, seq_length=seq_length)\n",
    "x_test, y_test = get_sequences(df_test, seq_length=seq_length)"
   ]
  },
  {
   "cell_type": "code",
   "execution_count": 31,
   "metadata": {
    "ExecuteTime": {
     "end_time": "2020-09-27T01:51:03.028322Z",
     "start_time": "2020-09-27T01:51:03.014613Z"
    }
   },
   "outputs": [],
   "source": [
    "import torch\n",
    "import torch.utils.data\n",
    "\n",
    "def to_numpy(x):\n",
    "    if isinstance(x, torch.Tensor):\n",
    "        x = x.cpu().detach().numpy()\n",
    "    return x\n",
    "\n",
    "def show_distribution(y, label):\n",
    "    y = to_numpy(y)\n",
    "    plt.hist(y, output_size * 2, alpha=0.5, label=label)\n",
    "    plt.xticks(ticks=range(len(encoder.classes_)), labels=encoder.classes_, rotation=90)\n",
    "\n",
    "class NumpyDataset(torch.utils.data.Dataset):\n",
    "    \"\"\"Dataset wrapping arrays.\n",
    "    Each sample will be retrieved by indexing array along the first dimension.\n",
    "    Arguments:\n",
    "        *arrays (numpy.array): arrays that have the same size of the first dimension.\n",
    "    \"\"\"\n",
    "\n",
    "    def __init__(self, *arrays):\n",
    "        self.arrays = arrays\n",
    "\n",
    "    def __getitem__(self, index):\n",
    "        return tuple(array[index] for array in self.arrays)\n",
    "\n",
    "    def __len__(self):\n",
    "        return len(self.arrays[0])\n",
    "dset_train = NumpyDataset(x_train, y_train)\n",
    "load_train = torch.utils.data.dataloader.DataLoader(dset_train, batch_size=10, pin_memory=True, shuffle=True)\n",
    "# next(iter(load_train))"
   ]
  },
  {
   "cell_type": "code",
   "execution_count": 32,
   "metadata": {
    "ExecuteTime": {
     "end_time": "2020-09-27T01:51:03.140393Z",
     "start_time": "2020-09-27T01:51:03.133477Z"
    }
   },
   "outputs": [],
   "source": [
    "output_size = len(df[\"LITHOLOGY_GEOLINK\"].unique())"
   ]
  },
  {
   "cell_type": "markdown",
   "metadata": {},
   "source": [
    "It is important that we make sure the training and test set have close distribution. For instance, if there is a certain type in test data that doesn't exist in training data, the model will not be able to predict it."
   ]
  },
  {
   "cell_type": "code",
   "execution_count": null,
   "metadata": {
    "ExecuteTime": {
     "end_time": "2020-09-27T01:20:54.553097Z",
     "start_time": "2020-09-27T01:20:54.547298Z"
    }
   },
   "outputs": [],
   "source": []
  },
  {
   "cell_type": "code",
   "execution_count": 33,
   "metadata": {
    "ExecuteTime": {
     "end_time": "2020-09-27T01:51:05.234167Z",
     "start_time": "2020-09-27T01:51:03.572969Z"
    }
   },
   "outputs": [
    {
     "data": {
      "image/png": "[encoded data removed]",
      "text/plain": [
       "<Figure size 432x288 with 1 Axes>"
      ]
     },
     "metadata": {
      "needs_background": "light"
     },
     "output_type": "display_data"
    }
   ],
   "source": [
    "show_distribution(y_train, 'train')\n",
    "show_distribution(y_test, 'test')\n",
    "plt.legend()\n",
    "plt.show()"
   ]
  },
  {
   "cell_type": "markdown",
   "metadata": {},
   "source": [
    "## Baseline accuracy\n",
    "\n",
    "When you experiment with a machine learning problem it's important to use a baseline, to check if the model is actually doing any work. Sometimes you can use humans, or a prior work, but in novel problems we look at a naive answer, then aim to do better.\n",
    "\n",
    "Below we investigate several methods of naive estimation and try to beat the best."
   ]
  },
  {
   "cell_type": "code",
   "execution_count": 34,
   "metadata": {
    "ExecuteTime": {
     "end_time": "2020-09-27T01:51:05.486302Z",
     "start_time": "2020-09-27T01:51:05.236414Z"
    }
   },
   "outputs": [
    {
     "name": "stdout",
     "output_type": "stream",
     "text": [
      "baseline accuracy=21.26% for most_frequent\n",
      "baseline accuracy=17.95% for stratified\n",
      "baseline accuracy=21.26% for prior\n",
      "baseline accuracy=8.20% for uniform\n"
     ]
    }
   ],
   "source": [
    "from sklearn.dummy import DummyClassifier\n",
    "from sklearn.metrics import accuracy_score, f1_score\n",
    "score_fn=accuracy_score\n",
    "\n",
    "true = np.array(y_test)\n",
    "for strategy in [\"most_frequent\", \"stratified\", \"prior\", \"uniform\"]:\n",
    "    dummy_clf = DummyClassifier(strategy=strategy)\n",
    "    dummy_clf.fit(x_train, y_train)\n",
    "    score = dummy_clf.score(x_test, y_test)\n",
    "    print(f\"baseline accuracy={score:2.2%} for {strategy}\")"
   ]
  },
  {
   "cell_type": "code",
   "execution_count": 35,
   "metadata": {
    "ExecuteTime": {
     "end_time": "2020-09-27T01:51:05.494230Z",
     "start_time": "2020-09-27T01:51:05.489214Z"
    }
   },
   "outputs": [
    {
     "name": "stdout",
     "output_type": "stream",
     "text": [
      "context length of 150.0 m or 1000 intervals\n",
      "model can see human labels up to 15.0m above. Or 100 intervals\n"
     ]
    }
   ],
   "source": [
    "print(f'context length of {0.15*seq_length} m or {seq_length} intervals')\n",
    "print(f'model can see human labels up to {shift_length*0.15}m above. Or {shift_length} intervals')"
   ]
  },
  {
   "cell_type": "code",
   "execution_count": 36,
   "metadata": {
    "ExecuteTime": {
     "end_time": "2020-09-27T01:51:05.509985Z",
     "start_time": "2020-09-27T01:51:05.497551Z"
    }
   },
   "outputs": [
    {
     "name": "stdout",
     "output_type": "stream",
     "text": [
      "baseline accuracy 62.22% for prev 100 facies values\n"
     ]
    }
   ],
   "source": [
    "# Prev litho Baseline\n",
    "pred_baseline = np.roll(true, shift=shift_length)\n",
    "score=score_fn(true, pred_baseline)\n",
    "print(f'baseline accuracy {score:2.2%} for prev {shift_length} facies values')"
   ]
  },
  {
   "cell_type": "markdown",
   "metadata": {
    "ExecuteTime": {
     "end_time": "2020-09-21T14:59:48.884309Z",
     "start_time": "2020-09-21T14:59:48.546101Z"
    }
   },
   "source": [
    "## Train\n",
    "\n",
    "Note that this can be simplified with libraries like pytorch lightning or fastai, but they are not yet approved at many companies."
   ]
  },
  {
   "cell_type": "code",
   "execution_count": 41,
   "metadata": {
    "ExecuteTime": {
     "end_time": "2020-09-27T01:52:31.986698Z",
     "start_time": "2020-09-27T01:52:31.959482Z"
    }
   },
   "outputs": [],
   "source": [
    "def training_loop(epochs=1, bs=128, max_epoch_iters=128*128):\n",
    "    \n",
    "    def train():\n",
    "        model.train()\n",
    "\n",
    "        training_loss = []\n",
    "        training_accuracy = []\n",
    "\n",
    "        dset_train = NumpyDataset(x_train, y_train)\n",
    "        train_set_samplers=np.random.choice(list(range(len(dset_train))), max_epoch_iters)\n",
    "        load_train = torch.utils.data.dataloader.DataLoader(\n",
    "            dset_train, \n",
    "            batch_size=bs, pin_memory=True,# shuffle=True,\n",
    "            sampler=train_set_samplers\n",
    "        )\n",
    "\n",
    "        for x, y in tqdm(load_train, leave=False, desc='train'):\n",
    "            x = x.float().to(device)\n",
    "            y = y.long().to(device)\n",
    "\n",
    "            optimizer.zero_grad()\n",
    "            preds = model(x)\n",
    "            loss = loss_func(preds, y)\n",
    "            loss.backward()\n",
    "            optimizer.step()\n",
    "\n",
    "            training_loss.append(loss.item())\n",
    "            accuracy = score_fn(\n",
    "                to_numpy(y), to_numpy(preds).argmax(-1)\n",
    "            )\n",
    "            training_accuracy.append(accuracy)\n",
    "        \n",
    "        return [np.mean(training_loss), np.mean(training_accuracy)]\n",
    "\n",
    "    def test():\n",
    "        model.eval()\n",
    "        test_loss = []\n",
    "        test_accuracy = []\n",
    "\n",
    "        dset_test = NumpyDataset(x_test[:max_epoch_iters//4], y_test[:max_epoch_iters//4])\n",
    "        load_test = torch.utils.data.dataloader.DataLoader(dset_test, batch_size=bs, pin_memory=True)\n",
    "        for x, y in tqdm(load_test, leave=False, desc='test'):\n",
    "            x = x.float().to(device)\n",
    "            y = y.long().to(device)\n",
    "            preds = model(x)\n",
    "            loss = loss_func(preds, y)\n",
    "            test_loss.append(loss.item())\n",
    "            accuracy = score_fn(\n",
    "                to_numpy(y), to_numpy(preds.argmax(-1))\n",
    "            )\n",
    "            test_accuracy.append(accuracy)\n",
    "        return [np.mean(test_loss), np.mean(test_accuracy)]\n",
    "\n",
    "    all_losses = []\n",
    "    all_accuracys = []\n",
    "    try:\n",
    "        test_loss, test_acc = test()\n",
    "        print(\n",
    "                f\"Start: Test Loss = {test_loss:.2f}, accuracy = {test_acc:.3f}\"\n",
    "            )\n",
    "        for epoch in tqdm(range(epochs), desc='epochs'):\n",
    "            loss, acc = train()\n",
    "            print(f\"Epoch {epoch+1}/{epochs}: Training Loss = {loss:.2f}, accuracy = {acc:.3f}\")\n",
    "            \n",
    "            test_loss, test_acc = test()\n",
    "            print(\n",
    "                f\"Epoch {epoch+1}/{epochs}: Test Loss = {test_loss:.2f}, accuracy = {test_acc:.3f}\"\n",
    "            )\n",
    "            print(\"-\" * 50)\n",
    "        \n",
    "            all_losses.append([loss, test_loss])\n",
    "            all_accuracys.append([acc, test_acc])\n",
    "            \n",
    "    except KeyboardInterrupt:\n",
    "        pass\n",
    "\n",
    "    # Visualising the results\n",
    "    all_losses = np.array(all_losses)\n",
    "    plt.plot(all_losses[:, 0], label=\"Training\")\n",
    "    plt.plot(all_losses[:, 1], label=\"Test\")\n",
    "    plt.title(\"Loss\")\n",
    "    plt.legend()\n",
    "    \n",
    "    plt.figure()\n",
    "    all_accuracys = np.array(all_accuracys)\n",
    "    plt.plot(all_accuracys[:, 0], label=\"Training\")\n",
    "    plt.plot(all_accuracys[:, 1], label=\"Test\")\n",
    "    plt.title(\"accuracy\")\n",
    "    plt.legend()"
   ]
  },
  {
   "cell_type": "code",
   "execution_count": null,
   "metadata": {
    "ExecuteTime": {
     "end_time": "2020-09-21T15:04:40.893852Z",
     "start_time": "2020-09-21T15:04:40.888277Z"
    }
   },
   "outputs": [],
   "source": []
  },
  {
   "cell_type": "code",
   "execution_count": 42,
   "metadata": {
    "ExecuteTime": {
     "end_time": "2020-09-27T01:52:32.311598Z",
     "start_time": "2020-09-27T01:52:32.287486Z"
    }
   },
   "outputs": [
    {
     "data": {
      "text/plain": [
       "LSTM(\n",
       "  (lstm): LSTM(22, 64, num_layers=3, batch_first=True)\n",
       "  (linear): Linear(in_features=64, out_features=12, bias=True)\n",
       ")"
      ]
     },
     "execution_count": 42,
     "metadata": {},
     "output_type": "execute_result"
    }
   ],
   "source": [
    "model = LSTM(\n",
    "    input_size=x_train[0].shape[-1],\n",
    "    hidden_size=64,\n",
    "    num_layers=3,\n",
    "    output_size=output_size,\n",
    ")\n",
    "model = model.to(device)\n",
    "model"
   ]
  },
  {
   "cell_type": "code",
   "execution_count": 43,
   "metadata": {
    "ExecuteTime": {
     "end_time": "2020-09-27T01:52:32.402418Z",
     "start_time": "2020-09-27T01:52:32.398737Z"
    }
   },
   "outputs": [],
   "source": [
    "optimizer = optim.Adam(model.parameters(), lr=0.001)\n",
    "loss_func = torch.nn.CrossEntropyLoss().to(device)"
   ]
  },
  {
   "cell_type": "code",
   "execution_count": null,
   "metadata": {},
   "outputs": [],
   "source": []
  },
  {
   "cell_type": "markdown",
   "metadata": {},
   "source": [
    "Let's train for 10 epochs"
   ]
  },
  {
   "cell_type": "code",
   "execution_count": null,
   "metadata": {
    "ExecuteTime": {
     "start_time": "2020-09-27T01:52:32.900Z"
    },
    "scrolled": true
   },
   "outputs": [
    {
     "data": {
      "application/vnd.jupyter.widget-view+json": {
       "model_id": "766fbf08d4aa43b1bb27ee09a5481c86",
       "version_major": 2,
       "version_minor": 0
      },
      "text/plain": [
       "HBox(children=(FloatProgress(value=0.0, description='test', max=32.0, style=ProgressStyle(description_width='i…"
      ]
     },
     "metadata": {},
     "output_type": "display_data"
    }
   ],
   "source": [
    "training_loop(15, 128)"
   ]
  },
  {
   "cell_type": "code",
   "execution_count": null,
   "metadata": {
    "ExecuteTime": {
     "start_time": "2020-09-27T01:52:33.000Z"
    }
   },
   "outputs": [],
   "source": [
    "# Run test\n",
    "dset_test = NumpyDataset(x_test, y_test)\n",
    "dload_test = torch.utils.data.dataloader.DataLoader(dset_test, batch_size=512, num_workers=6)\n",
    "\n",
    "preds = []\n",
    "true = []\n",
    "model.eval()\n",
    "with torch.no_grad():\n",
    "    for x, y in tqdm(dload_test, desc='predict'):\n",
    "        pred = model(x.float().to(device))\n",
    "        preds.append(to_numpy(pred))\n",
    "        true.append(y)\n",
    "        \n",
    "preds = np.concatenate(preds, 0).argmax(axis=-1)\n",
    "true = np.concatenate(true, 0)"
   ]
  },
  {
   "cell_type": "code",
   "execution_count": null,
   "metadata": {
    "ExecuteTime": {
     "start_time": "2020-09-27T01:52:33.100Z"
    }
   },
   "outputs": [],
   "source": [
    "# ours\n",
    "print('test acc', score_fn(true, preds))"
   ]
  },
  {
   "cell_type": "code",
   "execution_count": null,
   "metadata": {
    "ExecuteTime": {
     "start_time": "2020-09-27T01:52:33.300Z"
    }
   },
   "outputs": [],
   "source": [
    "import pandas as pd\n",
    "import sklearn.metrics\n",
    "import numpy as np\n",
    "\n",
    "def classification_report(*args, **kwargs):\n",
    "    out_df = pd.DataFrame(sklearn.metrics.classification_report(*args, **kwargs, output_dict=True)).T\n",
    "    # Order cols\n",
    "    out_df[[\"precision\",\"recall\",\"f1-score\",\"support\"]]  \n",
    "    # Round\n",
    "    out_df[[\"precision\",\"recall\",\"f1-score\"]]= out_df[[\"precision\",\"recall\",\"f1-score\"]].apply(lambda x: round(x,2))\n",
    "    out_df[[\"support\"]]= out_df[[\"support\"]].apply(lambda x: x.astype(np.int))\n",
    "    return out_df"
   ]
  },
  {
   "cell_type": "code",
   "execution_count": null,
   "metadata": {
    "ExecuteTime": {
     "start_time": "2020-09-27T01:52:33.400Z"
    }
   },
   "outputs": [],
   "source": [
    "# pred_baseline = np.roll(true, shift=shift_length)\n",
    "# df_report = classification_report(true, pred_baseline, labels=range(len(encoder.classes_)), target_names=encoder.classes_)\n",
    "# df_report[df_report.support>0]"
   ]
  },
  {
   "cell_type": "code",
   "execution_count": null,
   "metadata": {
    "ExecuteTime": {
     "start_time": "2020-09-27T01:52:33.700Z"
    },
    "scrolled": false
   },
   "outputs": [],
   "source": [
    "df_report = classification_report(true, preds, labels=range(len(encoder.classes_)), target_names=encoder.classes_)\n",
    "df_report[df_report.support>0]"
   ]
  },
  {
   "cell_type": "code",
   "execution_count": null,
   "metadata": {
    "ExecuteTime": {
     "end_time": "2020-09-19T05:30:37.732915Z",
     "start_time": "2020-09-19T05:30:37.711802Z"
    }
   },
   "outputs": [],
   "source": []
  },
  {
   "cell_type": "code",
   "execution_count": null,
   "metadata": {
    "ExecuteTime": {
     "end_time": "2020-09-27T01:51:35.546447Z",
     "start_time": "2020-09-27T01:51:06.500Z"
    },
    "scrolled": false
   },
   "outputs": [],
   "source": [
    "cm = sklearn.metrics.confusion_matrix(true, preds, labels=range(len(encoder.classes_)))\n",
    "\n",
    "plt.figure(figsize=(20, 20))\n",
    "plt.title('Confusion Matrix')\n",
    "ax=plt.gca()\n",
    "disp = sklearn.metrics.ConfusionMatrixDisplay(confusion_matrix=cm,\n",
    "                              display_labels=encoder.classes_)\n",
    "disp.plot(ax=ax, xticks_rotation=90)\n",
    "plt.show()"
   ]
  },
  {
   "cell_type": "markdown",
   "metadata": {},
   "source": [
    "## Plot results"
   ]
  },
  {
   "cell_type": "code",
   "execution_count": null,
   "metadata": {
    "ExecuteTime": {
     "end_time": "2020-09-27T01:51:35.547497Z",
     "start_time": "2020-09-27T01:51:06.700Z"
    }
   },
   "outputs": [],
   "source": [
    "well_name = \"30_4-1\"\n",
    "logs = df.loc[well_name].sort_index()"
   ]
  },
  {
   "cell_type": "code",
   "execution_count": null,
   "metadata": {
    "ExecuteTime": {
     "end_time": "2020-09-27T01:51:35.548586Z",
     "start_time": "2020-09-27T01:51:06.900Z"
    }
   },
   "outputs": [],
   "source": [
    "x_test, y_test = get_sequences(logs)\n",
    "\n",
    "x_test = torch.Tensor(x_test)#.to(device)\n",
    "y_test = torch.LongTensor(y_test)#.to(device)\n",
    "\n",
    "preds = to_numpy(model(x_test.to(device)).argmax(axis=-1))"
   ]
  },
  {
   "cell_type": "code",
   "execution_count": null,
   "metadata": {
    "ExecuteTime": {
     "end_time": "2020-09-27T01:50:58.910115Z",
     "start_time": "2020-09-27T01:50:19.000Z"
    }
   },
   "outputs": [],
   "source": [
    "df_log_results = logs.iloc[10:].copy()\n",
    "df_log_results['pred'] = pd.Categorical(encoder.inverse_transform(preds), categories=df_log_results.LITHOLOGY_GEOLINK.values.categories)\n",
    "df_log_results[['LITHOLOGY_GEOLINK', 'pred']]"
   ]
  },
  {
   "cell_type": "code",
   "execution_count": null,
   "metadata": {
    "ExecuteTime": {
     "end_time": "2020-09-27T01:50:58.910980Z",
     "start_time": "2020-09-27T01:50:19.000Z"
    }
   },
   "outputs": [],
   "source": [
    "from deep_ml_curriculum.visualization.well_log import plot_well_pred\n",
    "plot_well_pred(well_name, df_log_results,\n",
    "               facies_true=df_log_results.LITHOLOGY_GEOLINK.values, \n",
    "               facies_pred=df_log_results.pred.values)\n",
    "plt.show()"
   ]
  },
  {
   "cell_type": "markdown",
   "metadata": {
    "ExecuteTime": {
     "end_time": "2020-09-21T14:50:28.712295Z",
     "start_time": "2020-09-21T14:50:28.621047Z"
    }
   },
   "source": [
    "- context length of 150.0 m or 1000 intervals\n",
    "- model can see human labels up to 15.0m above. Or 100 intervals\n",
    "- baseline accuracy 49.82% for prev 100 facies values\n"
   ]
  },
  {
   "cell_type": "code",
   "execution_count": null,
   "metadata": {
    "ExecuteTime": {
     "end_time": "2020-09-27T01:50:58.912073Z",
     "start_time": "2020-09-27T01:50:19.000Z"
    }
   },
   "outputs": [],
   "source": [
    "from deep_ml_curriculum.visualization.well_log import plot_well_pred\n",
    "tail=1000\n",
    "plot_well_pred(well_name, df_log_results.iloc[-tail:],\n",
    "               facies_true=df_log_results.iloc[-tail:].LITHOLOGY_GEOLINK.values, \n",
    "               facies_pred=df_log_results.iloc[-tail:].pred.values)\n",
    "plt.show()"
   ]
  },
  {
   "cell_type": "markdown",
   "metadata": {},
   "source": [
    "As we saw in the previous examples the model requires training over 100s of epochs to reach the best results. However, in this example due to large size of dataset and the model we stopped after `10` epochs. Try increasing the number of epochs to see how it will affect the accuracy.<br>\n",
    "\n",
    "Obviously the model right now is not performing well. But there are number ways we can improve it:\n",
    "1. Training for longer. instead of stopping after `10` epochs go for longer.\n",
    "2. Increase the hidden state size.\n",
    "3. Increase the size of training data by adding data from more wells to training. \n",
    "4. Increase the size of the sequences so the model get to look further in the history.\n",
    "\n",
    "#### Exercise 2\n",
    "Try one of the options above to improve the model."
   ]
  },
  {
   "cell_type": "code",
   "execution_count": null,
   "metadata": {
    "ExecuteTime": {
     "end_time": "2020-09-19T03:22:08.838626Z",
     "start_time": "2020-09-19T03:22:08.831396Z"
    }
   },
   "outputs": [],
   "source": []
  },
  {
   "cell_type": "code",
   "execution_count": null,
   "metadata": {
    "ExecuteTime": {
     "end_time": "2020-09-27T01:50:58.913275Z",
     "start_time": "2020-09-27T01:50:19.000Z"
    }
   },
   "outputs": [],
   "source": [
    "# Code Here"
   ]
  },
  {
   "cell_type": "markdown",
   "metadata": {},
   "source": [
    "Let's have a look at model's predictions."
   ]
  },
  {
   "cell_type": "code",
   "execution_count": null,
   "metadata": {
    "ExecuteTime": {
     "end_time": "2020-09-19T00:26:44.740461Z",
     "start_time": "2020-09-19T00:26:38.708893Z"
    }
   },
   "outputs": [],
   "source": []
  },
  {
   "cell_type": "markdown",
   "metadata": {},
   "source": [
    "The distribution of data shows that the model is too focused on type `17` and `18` which is why we are having low accuracy."
   ]
  },
  {
   "cell_type": "markdown",
   "metadata": {},
   "source": [
    "\n",
    "<div class=\"alert alert-success\">\n",
    "    \n",
    "### Solutions  \n",
    "<details><summary>See solutions</summary>\n",
    "\n",
    "<details><summary>Exercise 1</summary>\n",
    "<b>Increase sequence length to 18</b>\n",
    "\n",
    "```Python\n",
    "seq_length = 18\n",
    "x, y = create_seq_data(data,seq_length)\n",
    "xtrain = x[:100,:,:]\n",
    "ytrain = y[:100,:]\n",
    "xtest = x[100:,:,:]\n",
    "ytest = y[100:,:]\n",
    "model = LSTM(1, 50, 1)\n",
    "optimizer = torch.optim.Adam(model.parameters(), lr=0.01)\n",
    "train_model(model, xtrain, ytrain, 500)\n",
    "```\n",
    "<b>Change model size to 100</b>\n",
    "```Python\n",
    "model = LSTM(1, 100, 1)\n",
    "optimizer = torch.optim.Adam(model.parameters(), lr=0.01)\n",
    "train_model(model, xtrain, ytrain, 500)\n",
    "```\n",
    "\n",
    "</details>\n",
    "<details><summary>Exercise 2</summary>\n",
    "    <b>Larger hidden size</b>\n",
    "    \n",
    "```Python\n",
    "model = LSTM(\n",
    "    input_size=len(feat_cols),\n",
    "    hidden_size=400,\n",
    "    num_layers=1,\n",
    "    output_size=output_size,\n",
    ").to(device)\n",
    "optimizer = optim.Adam(model.parameters(), lr=0.001)\n",
    "training_loop(10, 1024)\n",
    "```\n",
    "\n",
    "<b>Train longer</b>\n",
    "    \n",
    "```Python\n",
    "model = LSTM(\n",
    "    input_size=len(feat_cols),\n",
    "    hidden_size=200,\n",
    "    num_layers=1,\n",
    "    output_size=output_size,\n",
    ").to(device)\n",
    "optimizer = optim.Adam(model.parameters(), lr=0.001)\n",
    "training_loop(20, 1024)\n",
    "```\n",
    " \n",
    "</details>\n",
    "</details>\n",
    "</div>"
   ]
  },
  {
   "cell_type": "markdown",
   "metadata": {},
   "source": [
    "## Further Reading\n",
    "- [Introduction to RNN](http://slazebni.cs.illinois.edu/spring17/lec02_rnn.pdf)\n",
    "- [A friendly introduction to Recurrent Neural Networks](https://www.youtube.com/watch?v=UNmqTiOnRfg)\n",
    "- [Recurrent Neural Networks (RNN) and Long Short-Term Memory (LSTM)](https://www.youtube.com/watch?v=WCUNPb-5EYI&t=97s)\n",
    "- [Introduction to LSTM](https://medium.com/x8-the-ai-community/a-7-minute-introduction-to-lstm-5e1480e6f52a)\n",
    "- [LSTM and GRU](https://towardsdatascience.com/illustrated-guide-to-lstms-and-gru-s-a-step-by-step-explanation-44e9eb85bf21)\n",
    "- [Time Series Prediction with LSTM](https://stackabuse.com/time-series-prediction-using-lstm-with-pytorch-in-python/)\n",
    "- [Building RNN from scratch](https://medium.com/dair-ai/building-rnns-is-fun-with-pytorch-and-google-colab-3903ea9a3a79)\n"
   ]
  }
 ],
 "metadata": {
  "colab": {
   "collapsed_sections": [],
   "name": "Recurrent Neural Networks.ipynb",
   "provenance": [],
   "toc_visible": true
  },
  "kernelspec": {
   "display_name": "deep_ml_curriculum",
   "language": "python",
   "name": "deep_ml_curriculum"
  },
  "language_info": {
   "codemirror_mode": {
    "name": "ipython",
    "version": 3
   },
   "file_extension": ".py",
   "mimetype": "text/x-python",
   "name": "python",
   "nbconvert_exporter": "python",
   "pygments_lexer": "ipython3",
   "version": "3.7.9"
  },
  "toc": {
   "base_numbering": 1,
   "nav_menu": {},
   "number_sections": true,
   "sideBar": true,
   "skip_h1_title": false,
   "title_cell": "Table of Contents",
   "title_sidebar": "Contents",
   "toc_cell": false,
   "toc_position": {
    "height": "calc(100% - 180px)",
    "left": "10px",
    "top": "150px",
    "width": "384px"
   },
   "toc_section_display": true,
   "toc_window_display": true
  },
  "widgets": {
   "application/vnd.jupyter.widget-state+json": {
    "0de1f271c85a490db7b212f29a2e98db": {
     "model_module": "@jupyter-widgets/base",
     "model_name": "LayoutModel",
     "state": {
      "_model_module": "@jupyter-widgets/base",
      "_model_module_version": "1.2.0",
      "_model_name": "LayoutModel",
      "_view_count": null,
      "_view_module": "@jupyter-widgets/base",
      "_view_module_version": "1.2.0",
      "_view_name": "LayoutView",
      "align_content": null,
      "align_items": null,
      "align_self": null,
      "border": null,
      "bottom": null,
      "display": null,
      "flex": null,
      "flex_flow": null,
      "grid_area": null,
      "grid_auto_columns": null,
      "grid_auto_flow": null,
      "grid_auto_rows": null,
      "grid_column": null,
      "grid_gap": null,
      "grid_row": null,
      "grid_template_areas": null,
      "grid_template_columns": null,
      "grid_template_rows": null,
      "height": null,
      "justify_content": null,
      "justify_items": null,
      "left": null,
      "margin": null,
      "max_height": null,
      "max_width": null,
      "min_height": null,
      "min_width": null,
      "object_fit": null,
      "object_position": null,
      "order": null,
      "overflow": null,
      "overflow_x": null,
      "overflow_y": null,
      "padding": null,
      "right": null,
      "top": null,
      "visibility": null,
      "width": null
     }
    },
    "1bb877b53ce64c5c89a0e0fddf99510f": {
     "model_module": "@jupyter-widgets/controls",
     "model_name": "FloatProgressModel",
     "state": {
      "_dom_classes": [],
      "_model_module": "@jupyter-widgets/controls",
      "_model_module_version": "1.5.0",
      "_model_name": "FloatProgressModel",
      "_view_count": null,
      "_view_module": "@jupyter-widgets/controls",
      "_view_module_version": "1.5.0",
      "_view_name": "ProgressView",
      "bar_style": "success",
      "description": "100%",
      "description_tooltip": null,
      "layout": "IPY_MODEL_8f31d4f3e4f343c2b45596c7a8acd798",
      "max": 100,
      "min": 0,
      "orientation": "horizontal",
      "style": "IPY_MODEL_9113c8e51cb44ccba8f7d76dcaf1f2b3",
      "value": 100
     }
    },
    "2249f632765e44fb873c5b52e38952b3": {
     "model_module": "@jupyter-widgets/controls",
     "model_name": "HBoxModel",
     "state": {
      "_dom_classes": [],
      "_model_module": "@jupyter-widgets/controls",
      "_model_module_version": "1.5.0",
      "_model_name": "HBoxModel",
      "_view_count": null,
      "_view_module": "@jupyter-widgets/controls",
      "_view_module_version": "1.5.0",
      "_view_name": "HBoxView",
      "box_style": "",
      "children": [
       "IPY_MODEL_2c444039590c49d7b0ba75e37b9396a2",
       "IPY_MODEL_779b8d08fe4d424296bd06322a8c055b"
      ],
      "layout": "IPY_MODEL_ea24cf68548440d6bb27527e1e8b231a"
     }
    },
    "239a06e64dee49a0bc6a64ae48782dfa": {
     "model_module": "@jupyter-widgets/base",
     "model_name": "LayoutModel",
     "state": {
      "_model_module": "@jupyter-widgets/base",
      "_model_module_version": "1.2.0",
      "_model_name": "LayoutModel",
      "_view_count": null,
      "_view_module": "@jupyter-widgets/base",
      "_view_module_version": "1.2.0",
      "_view_name": "LayoutView",
      "align_content": null,
      "align_items": null,
      "align_self": null,
      "border": null,
      "bottom": null,
      "display": null,
      "flex": null,
      "flex_flow": null,
      "grid_area": null,
      "grid_auto_columns": null,
      "grid_auto_flow": null,
      "grid_auto_rows": null,
      "grid_column": null,
      "grid_gap": null,
      "grid_row": null,
      "grid_template_areas": null,
      "grid_template_columns": null,
      "grid_template_rows": null,
      "height": null,
      "justify_content": null,
      "justify_items": null,
      "left": null,
      "margin": null,
      "max_height": null,
      "max_width": null,
      "min_height": null,
      "min_width": null,
      "object_fit": null,
      "object_position": null,
      "order": null,
      "overflow": null,
      "overflow_x": null,
      "overflow_y": null,
      "padding": null,
      "right": null,
      "top": null,
      "visibility": null,
      "width": null
     }
    },
    "2708bb5b48024a0a97470b123004e914": {
     "model_module": "@jupyter-widgets/controls",
     "model_name": "ProgressStyleModel",
     "state": {
      "_model_module": "@jupyter-widgets/controls",
      "_model_module_version": "1.5.0",
      "_model_name": "ProgressStyleModel",
      "_view_count": null,
      "_view_module": "@jupyter-widgets/base",
      "_view_module_version": "1.2.0",
      "_view_name": "StyleView",
      "bar_color": null,
      "description_width": "initial"
     }
    },
    "2c444039590c49d7b0ba75e37b9396a2": {
     "model_module": "@jupyter-widgets/controls",
     "model_name": "FloatProgressModel",
     "state": {
      "_dom_classes": [],
      "_model_module": "@jupyter-widgets/controls",
      "_model_module_version": "1.5.0",
      "_model_name": "FloatProgressModel",
      "_view_count": null,
      "_view_module": "@jupyter-widgets/controls",
      "_view_module_version": "1.5.0",
      "_view_name": "ProgressView",
      "bar_style": "success",
      "description": "100%",
      "description_tooltip": null,
      "layout": "IPY_MODEL_239a06e64dee49a0bc6a64ae48782dfa",
      "max": 500,
      "min": 0,
      "orientation": "horizontal",
      "style": "IPY_MODEL_2708bb5b48024a0a97470b123004e914",
      "value": 500
     }
    },
    "2e9111de005e458faa5dadf8f4757ce0": {
     "model_module": "@jupyter-widgets/base",
     "model_name": "LayoutModel",
     "state": {
      "_model_module": "@jupyter-widgets/base",
      "_model_module_version": "1.2.0",
      "_model_name": "LayoutModel",
      "_view_count": null,
      "_view_module": "@jupyter-widgets/base",
      "_view_module_version": "1.2.0",
      "_view_name": "LayoutView",
      "align_content": null,
      "align_items": null,
      "align_self": null,
      "border": null,
      "bottom": null,
      "display": null,
      "flex": null,
      "flex_flow": null,
      "grid_area": null,
      "grid_auto_columns": null,
      "grid_auto_flow": null,
      "grid_auto_rows": null,
      "grid_column": null,
      "grid_gap": null,
      "grid_row": null,
      "grid_template_areas": null,
      "grid_template_columns": null,
      "grid_template_rows": null,
      "height": null,
      "justify_content": null,
      "justify_items": null,
      "left": null,
      "margin": null,
      "max_height": null,
      "max_width": null,
      "min_height": null,
      "min_width": null,
      "object_fit": null,
      "object_position": null,
      "order": null,
      "overflow": null,
      "overflow_x": null,
      "overflow_y": null,
      "padding": null,
      "right": null,
      "top": null,
      "visibility": null,
      "width": null
     }
    },
    "3c46c1b220494ef4830e6c1f6c75f2d3": {
     "model_module": "@jupyter-widgets/base",
     "model_name": "LayoutModel",
     "state": {
      "_model_module": "@jupyter-widgets/base",
      "_model_module_version": "1.2.0",
      "_model_name": "LayoutModel",
      "_view_count": null,
      "_view_module": "@jupyter-widgets/base",
      "_view_module_version": "1.2.0",
      "_view_name": "LayoutView",
      "align_content": null,
      "align_items": null,
      "align_self": null,
      "border": null,
      "bottom": null,
      "display": null,
      "flex": null,
      "flex_flow": null,
      "grid_area": null,
      "grid_auto_columns": null,
      "grid_auto_flow": null,
      "grid_auto_rows": null,
      "grid_column": null,
      "grid_gap": null,
      "grid_row": null,
      "grid_template_areas": null,
      "grid_template_columns": null,
      "grid_template_rows": null,
      "height": null,
      "justify_content": null,
      "justify_items": null,
      "left": null,
      "margin": null,
      "max_height": null,
      "max_width": null,
      "min_height": null,
      "min_width": null,
      "object_fit": null,
      "object_position": null,
      "order": null,
      "overflow": null,
      "overflow_x": null,
      "overflow_y": null,
      "padding": null,
      "right": null,
      "top": null,
      "visibility": null,
      "width": null
     }
    },
    "4e2682af756042e5808bb471c318a154": {
     "model_module": "@jupyter-widgets/base",
     "model_name": "LayoutModel",
     "state": {
      "_model_module": "@jupyter-widgets/base",
      "_model_module_version": "1.2.0",
      "_model_name": "LayoutModel",
      "_view_count": null,
      "_view_module": "@jupyter-widgets/base",
      "_view_module_version": "1.2.0",
      "_view_name": "LayoutView",
      "align_content": null,
      "align_items": null,
      "align_self": null,
      "border": null,
      "bottom": null,
      "display": null,
      "flex": null,
      "flex_flow": null,
      "grid_area": null,
      "grid_auto_columns": null,
      "grid_auto_flow": null,
      "grid_auto_rows": null,
      "grid_column": null,
      "grid_gap": null,
      "grid_row": null,
      "grid_template_areas": null,
      "grid_template_columns": null,
      "grid_template_rows": null,
      "height": null,
      "justify_content": null,
      "justify_items": null,
      "left": null,
      "margin": null,
      "max_height": null,
      "max_width": null,
      "min_height": null,
      "min_width": null,
      "object_fit": null,
      "object_position": null,
      "order": null,
      "overflow": null,
      "overflow_x": null,
      "overflow_y": null,
      "padding": null,
      "right": null,
      "top": null,
      "visibility": null,
      "width": null
     }
    },
    "70ccc0ca7efc48599f9514c6201b2073": {
     "model_module": "@jupyter-widgets/controls",
     "model_name": "DescriptionStyleModel",
     "state": {
      "_model_module": "@jupyter-widgets/controls",
      "_model_module_version": "1.5.0",
      "_model_name": "DescriptionStyleModel",
      "_view_count": null,
      "_view_module": "@jupyter-widgets/base",
      "_view_module_version": "1.2.0",
      "_view_name": "StyleView",
      "description_width": ""
     }
    },
    "779b8d08fe4d424296bd06322a8c055b": {
     "model_module": "@jupyter-widgets/controls",
     "model_name": "HTMLModel",
     "state": {
      "_dom_classes": [],
      "_model_module": "@jupyter-widgets/controls",
      "_model_module_version": "1.5.0",
      "_model_name": "HTMLModel",
      "_view_count": null,
      "_view_module": "@jupyter-widgets/controls",
      "_view_module_version": "1.5.0",
      "_view_name": "HTMLView",
      "description": "",
      "description_tooltip": null,
      "layout": "IPY_MODEL_0de1f271c85a490db7b212f29a2e98db",
      "placeholder": "​",
      "style": "IPY_MODEL_ec7d5619230044ab8149273a33c7d1db",
      "value": " 500/500 [00:13&lt;00:00, 38.17it/s]"
     }
    },
    "8f31d4f3e4f343c2b45596c7a8acd798": {
     "model_module": "@jupyter-widgets/base",
     "model_name": "LayoutModel",
     "state": {
      "_model_module": "@jupyter-widgets/base",
      "_model_module_version": "1.2.0",
      "_model_name": "LayoutModel",
      "_view_count": null,
      "_view_module": "@jupyter-widgets/base",
      "_view_module_version": "1.2.0",
      "_view_name": "LayoutView",
      "align_content": null,
      "align_items": null,
      "align_self": null,
      "border": null,
      "bottom": null,
      "display": null,
      "flex": null,
      "flex_flow": null,
      "grid_area": null,
      "grid_auto_columns": null,
      "grid_auto_flow": null,
      "grid_auto_rows": null,
      "grid_column": null,
      "grid_gap": null,
      "grid_row": null,
      "grid_template_areas": null,
      "grid_template_columns": null,
      "grid_template_rows": null,
      "height": null,
      "justify_content": null,
      "justify_items": null,
      "left": null,
      "margin": null,
      "max_height": null,
      "max_width": null,
      "min_height": null,
      "min_width": null,
      "object_fit": null,
      "object_position": null,
      "order": null,
      "overflow": null,
      "overflow_x": null,
      "overflow_y": null,
      "padding": null,
      "right": null,
      "top": null,
      "visibility": null,
      "width": null
     }
    },
    "9113c8e51cb44ccba8f7d76dcaf1f2b3": {
     "model_module": "@jupyter-widgets/controls",
     "model_name": "ProgressStyleModel",
     "state": {
      "_model_module": "@jupyter-widgets/controls",
      "_model_module_version": "1.5.0",
      "_model_name": "ProgressStyleModel",
      "_view_count": null,
      "_view_module": "@jupyter-widgets/base",
      "_view_module_version": "1.2.0",
      "_view_name": "StyleView",
      "bar_color": null,
      "description_width": "initial"
     }
    },
    "967cb446a5ee4a5a9f592104126b6aeb": {
     "model_module": "@jupyter-widgets/controls",
     "model_name": "HTMLModel",
     "state": {
      "_dom_classes": [],
      "_model_module": "@jupyter-widgets/controls",
      "_model_module_version": "1.5.0",
      "_model_name": "HTMLModel",
      "_view_count": null,
      "_view_module": "@jupyter-widgets/controls",
      "_view_module_version": "1.5.0",
      "_view_name": "HTMLView",
      "description": "",
      "description_tooltip": null,
      "layout": "IPY_MODEL_3c46c1b220494ef4830e6c1f6c75f2d3",
      "placeholder": "​",
      "style": "IPY_MODEL_996b5d7e77e14820ac4694ce102f3d2d",
      "value": " 100/100 [06:03&lt;00:00,  3.64s/it]"
     }
    },
    "996b5d7e77e14820ac4694ce102f3d2d": {
     "model_module": "@jupyter-widgets/controls",
     "model_name": "DescriptionStyleModel",
     "state": {
      "_model_module": "@jupyter-widgets/controls",
      "_model_module_version": "1.5.0",
      "_model_name": "DescriptionStyleModel",
      "_view_count": null,
      "_view_module": "@jupyter-widgets/base",
      "_view_module_version": "1.2.0",
      "_view_name": "StyleView",
      "description_width": ""
     }
    },
    "a37da43322f54d0cb3a587c85f87f146": {
     "model_module": "@jupyter-widgets/controls",
     "model_name": "HBoxModel",
     "state": {
      "_dom_classes": [],
      "_model_module": "@jupyter-widgets/controls",
      "_model_module_version": "1.5.0",
      "_model_name": "HBoxModel",
      "_view_count": null,
      "_view_module": "@jupyter-widgets/controls",
      "_view_module_version": "1.5.0",
      "_view_name": "HBoxView",
      "box_style": "",
      "children": [
       "IPY_MODEL_1bb877b53ce64c5c89a0e0fddf99510f",
       "IPY_MODEL_967cb446a5ee4a5a9f592104126b6aeb"
      ],
      "layout": "IPY_MODEL_2e9111de005e458faa5dadf8f4757ce0"
     }
    },
    "a41a857b0bcf4d16b95599f019f125bf": {
     "model_module": "@jupyter-widgets/controls",
     "model_name": "ProgressStyleModel",
     "state": {
      "_model_module": "@jupyter-widgets/controls",
      "_model_module_version": "1.5.0",
      "_model_name": "ProgressStyleModel",
      "_view_count": null,
      "_view_module": "@jupyter-widgets/base",
      "_view_module_version": "1.2.0",
      "_view_name": "StyleView",
      "bar_color": null,
      "description_width": "initial"
     }
    },
    "bf8163e5e5d640dc94e74413ce3137b5": {
     "model_module": "@jupyter-widgets/controls",
     "model_name": "FloatProgressModel",
     "state": {
      "_dom_classes": [],
      "_model_module": "@jupyter-widgets/controls",
      "_model_module_version": "1.5.0",
      "_model_name": "FloatProgressModel",
      "_view_count": null,
      "_view_module": "@jupyter-widgets/controls",
      "_view_module_version": "1.5.0",
      "_view_name": "ProgressView",
      "bar_style": "success",
      "description": "100%",
      "description_tooltip": null,
      "layout": "IPY_MODEL_4e2682af756042e5808bb471c318a154",
      "max": 500,
      "min": 0,
      "orientation": "horizontal",
      "style": "IPY_MODEL_a41a857b0bcf4d16b95599f019f125bf",
      "value": 500
     }
    },
    "c1048481b4694b12ab408fcb1ddb8b31": {
     "model_module": "@jupyter-widgets/controls",
     "model_name": "HBoxModel",
     "state": {
      "_dom_classes": [],
      "_model_module": "@jupyter-widgets/controls",
      "_model_module_version": "1.5.0",
      "_model_name": "HBoxModel",
      "_view_count": null,
      "_view_module": "@jupyter-widgets/controls",
      "_view_module_version": "1.5.0",
      "_view_name": "HBoxView",
      "box_style": "",
      "children": [
       "IPY_MODEL_bf8163e5e5d640dc94e74413ce3137b5",
       "IPY_MODEL_d6d149b77d024d8a81f0df42ee176200"
      ],
      "layout": "IPY_MODEL_c17715512f7c44ca9a1126844f832a41"
     }
    },
    "c17715512f7c44ca9a1126844f832a41": {
     "model_module": "@jupyter-widgets/base",
     "model_name": "LayoutModel",
     "state": {
      "_model_module": "@jupyter-widgets/base",
      "_model_module_version": "1.2.0",
      "_model_name": "LayoutModel",
      "_view_count": null,
      "_view_module": "@jupyter-widgets/base",
      "_view_module_version": "1.2.0",
      "_view_name": "LayoutView",
      "align_content": null,
      "align_items": null,
      "align_self": null,
      "border": null,
      "bottom": null,
      "display": null,
      "flex": null,
      "flex_flow": null,
      "grid_area": null,
      "grid_auto_columns": null,
      "grid_auto_flow": null,
      "grid_auto_rows": null,
      "grid_column": null,
      "grid_gap": null,
      "grid_row": null,
      "grid_template_areas": null,
      "grid_template_columns": null,
      "grid_template_rows": null,
      "height": null,
      "justify_content": null,
      "justify_items": null,
      "left": null,
      "margin": null,
      "max_height": null,
      "max_width": null,
      "min_height": null,
      "min_width": null,
      "object_fit": null,
      "object_position": null,
      "order": null,
      "overflow": null,
      "overflow_x": null,
      "overflow_y": null,
      "padding": null,
      "right": null,
      "top": null,
      "visibility": null,
      "width": null
     }
    },
    "d6d149b77d024d8a81f0df42ee176200": {
     "model_module": "@jupyter-widgets/controls",
     "model_name": "HTMLModel",
     "state": {
      "_dom_classes": [],
      "_model_module": "@jupyter-widgets/controls",
      "_model_module_version": "1.5.0",
      "_model_name": "HTMLModel",
      "_view_count": null,
      "_view_module": "@jupyter-widgets/controls",
      "_view_module_version": "1.5.0",
      "_view_name": "HTMLView",
      "description": "",
      "description_tooltip": null,
      "layout": "IPY_MODEL_f3806fac15e545f597473d41d3708200",
      "placeholder": "​",
      "style": "IPY_MODEL_70ccc0ca7efc48599f9514c6201b2073",
      "value": " 500/500 [00:08&lt;00:00, 56.35it/s]"
     }
    },
    "ea24cf68548440d6bb27527e1e8b231a": {
     "model_module": "@jupyter-widgets/base",
     "model_name": "LayoutModel",
     "state": {
      "_model_module": "@jupyter-widgets/base",
      "_model_module_version": "1.2.0",
      "_model_name": "LayoutModel",
      "_view_count": null,
      "_view_module": "@jupyter-widgets/base",
      "_view_module_version": "1.2.0",
      "_view_name": "LayoutView",
      "align_content": null,
      "align_items": null,
      "align_self": null,
      "border": null,
      "bottom": null,
      "display": null,
      "flex": null,
      "flex_flow": null,
      "grid_area": null,
      "grid_auto_columns": null,
      "grid_auto_flow": null,
      "grid_auto_rows": null,
      "grid_column": null,
      "grid_gap": null,
      "grid_row": null,
      "grid_template_areas": null,
      "grid_template_columns": null,
      "grid_template_rows": null,
      "height": null,
      "justify_content": null,
      "justify_items": null,
      "left": null,
      "margin": null,
      "max_height": null,
      "max_width": null,
      "min_height": null,
      "min_width": null,
      "object_fit": null,
      "object_position": null,
      "order": null,
      "overflow": null,
      "overflow_x": null,
      "overflow_y": null,
      "padding": null,
      "right": null,
      "top": null,
      "visibility": null,
      "width": null
     }
    },
    "ec7d5619230044ab8149273a33c7d1db": {
     "model_module": "@jupyter-widgets/controls",
     "model_name": "DescriptionStyleModel",
     "state": {
      "_model_module": "@jupyter-widgets/controls",
      "_model_module_version": "1.5.0",
      "_model_name": "DescriptionStyleModel",
      "_view_count": null,
      "_view_module": "@jupyter-widgets/base",
      "_view_module_version": "1.2.0",
      "_view_name": "StyleView",
      "description_width": ""
     }
    },
    "f3806fac15e545f597473d41d3708200": {
     "model_module": "@jupyter-widgets/base",
     "model_name": "LayoutModel",
     "state": {
      "_model_module": "@jupyter-widgets/base",
      "_model_module_version": "1.2.0",
      "_model_name": "LayoutModel",
      "_view_count": null,
      "_view_module": "@jupyter-widgets/base",
      "_view_module_version": "1.2.0",
      "_view_name": "LayoutView",
      "align_content": null,
      "align_items": null,
      "align_self": null,
      "border": null,
      "bottom": null,
      "display": null,
      "flex": null,
      "flex_flow": null,
      "grid_area": null,
      "grid_auto_columns": null,
      "grid_auto_flow": null,
      "grid_auto_rows": null,
      "grid_column": null,
      "grid_gap": null,
      "grid_row": null,
      "grid_template_areas": null,
      "grid_template_columns": null,
      "grid_template_rows": null,
      "height": null,
      "justify_content": null,
      "justify_items": null,
      "left": null,
      "margin": null,
      "max_height": null,
      "max_width": null,
      "min_height": null,
      "min_width": null,
      "object_fit": null,
      "object_position": null,
      "order": null,
      "overflow": null,
      "overflow_x": null,
      "overflow_y": null,
      "padding": null,
      "right": null,
      "top": null,
      "visibility": null,
      "width": null
     }
    }
   }
  }
 },
 "nbformat": 4,
 "nbformat_minor": 1
}
