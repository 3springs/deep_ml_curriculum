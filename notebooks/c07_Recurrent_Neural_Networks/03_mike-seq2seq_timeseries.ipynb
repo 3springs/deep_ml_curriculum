{
 "cells": [
  {
   "cell_type": "markdown",
   "metadata": {
    "ExecuteTime": {
     "end_time": "2020-10-10T01:25:12.788851Z",
     "start_time": "2020-10-10T01:25:12.783398Z"
    }
   },
   "source": [
    "# Sequence to Sequence Models for Timeseries Regression\n",
    "\n",
    "\n",
    "In this notebook we are going to tackle a harder problem: \n",
    "- predicting the future on a timeseries\n",
    "- using an LSTM\n",
    "- with rough uncertainty (uncalibrated)\n",
    "- outputing sequence of predictions\n",
    "\n",
    "This gets you close to real world applications\n",
    "\n",
    "Key learning objectives:\n",
    "- Understand the LSTM's maintain a memory along sequences\n",
    "- A rough overview of sequence to sequence approaches, and the data prep involved\n",
    "- Understand likelihood and outputting a distribution\n",
    "- Evalute a timeseries solution\n",
    "\n",
    "<img src=\"./images/Seq2Seq_simple.png\" />"
   ]
  },
  {
   "cell_type": "code",
   "execution_count": 1,
   "metadata": {
    "ExecuteTime": {
     "end_time": "2020-10-11T10:56:19.225337Z",
     "start_time": "2020-10-11T10:56:18.130950Z"
    }
   },
   "outputs": [],
   "source": [
    "# Imports\n",
    "import torch\n",
    "from torch import nn, optim\n",
    "from torch.nn import functional as F\n",
    "from torch.autograd import Variable\n",
    "import torch\n",
    "import torch.utils.data\n",
    "\n",
    "import pandas as pd\n",
    "import numpy as np\n",
    "import matplotlib.pyplot as plt\n",
    "\n",
    "from pathlib import Path\n",
    "from tqdm.auto import tqdm"
   ]
  },
  {
   "cell_type": "markdown",
   "metadata": {
    "ExecuteTime": {
     "end_time": "2020-10-10T01:28:32.492160Z",
     "start_time": "2020-10-10T01:28:32.488140Z"
    }
   },
   "source": [
    "## Parameters"
   ]
  },
  {
   "cell_type": "code",
   "execution_count": 2,
   "metadata": {
    "ExecuteTime": {
     "end_time": "2020-10-11T10:56:19.245427Z",
     "start_time": "2020-10-11T10:56:19.227501Z"
    }
   },
   "outputs": [
    {
     "name": "stdout",
     "output_type": "stream",
     "text": [
      "using cuda\n"
     ]
    }
   ],
   "source": [
    "device = \"cuda\" if torch.cuda.is_available() else \"cpu\"\n",
    "print(f'using {device}')\n",
    "\n",
    "window_past = 48*4\n",
    "window_future = 48*4\n",
    "batch_size = 64\n",
    "num_workers = 0\n",
    "freq = '30T'\n",
    "max_rows = 1e5\n",
    "use_future = False # Cheat!"
   ]
  },
  {
   "cell_type": "markdown",
   "metadata": {},
   "source": [
    "## Load data"
   ]
  },
  {
   "cell_type": "code",
   "execution_count": 3,
   "metadata": {
    "ExecuteTime": {
     "end_time": "2020-10-11T10:56:19.261886Z",
     "start_time": "2020-10-11T10:56:19.247936Z"
    },
    "lines_to_next_cell": 0
   },
   "outputs": [],
   "source": [
    "\n",
    "def get_smartmeter_df(indir=Path('../../data/processed/smartmeter')):\n",
    "    \"\"\"\n",
    "    Data loading and cleanding is always messy, so understand this code is optional.\n",
    "    \"\"\"\n",
    "    \n",
    "    # Load csv files\n",
    "    csv_files = sorted((indir/'halfhourly_dataset').glob('*.csv'))[:1]\n",
    "    \n",
    "    # concatendate them\n",
    "    df = pd.concat([pd.read_csv(f, parse_dates=[1], na_values=['Null']) for f in csv_files])\n",
    "\n",
    "    # Take the mean over all houses\n",
    "    df = df.groupby('tstp').mean()\n",
    "\n",
    "    # Load weather data\n",
    "    df_weather = pd.read_csv(indir/'weather_hourly_darksky.csv', parse_dates=[3])\n",
    "    use_cols = ['visibility', 'windBearing', 'temperature', 'time', 'dewPoint',\n",
    "           'pressure', 'apparentTemperature', 'windSpeed', \n",
    "           'humidity']\n",
    "    df_weather = df_weather[use_cols].set_index('time')\n",
    "    df_weather = df_weather.resample(freq).ffill()  # Resample to match energy data    \n",
    "\n",
    "    # Join weather and energy data\n",
    "    df = pd.concat([df, df_weather], 1).dropna()    \n",
    "    \n",
    "    # Also find bank holidays\n",
    "    df_hols = pd.read_csv(indir/'uk_bank_holidays.csv', parse_dates=[0])\n",
    "    holidays = set(df_hols['Bank holidays'].dt.round('D'))  \n",
    "\n",
    "    time = df.index.to_series()\n",
    "    df['holiday'] = time.apply(lambda dt:dt.floor('D') in holidays).astype(int)\n",
    "\n",
    "    # Add time features    \n",
    "    df[\"month\"] = time.dt.month\n",
    "    df['day'] = time.dt.day\n",
    "    df['week'] = time.dt.week\n",
    "    df['hour'] = time.dt.hour\n",
    "    df['minute'] = time.dt.minute\n",
    "    df['dayofweek'] = time.dt.dayofweek\n",
    "\n",
    "    # Drop nan and 0's\n",
    "    df = df[df['energy(kWh/hh)']!=0]\n",
    "    df = df.dropna()\n",
    "\n",
    "    # sort by time\n",
    "    df = df.sort_index()\n",
    "    \n",
    "    return df"
   ]
  },
  {
   "cell_type": "code",
   "execution_count": null,
   "metadata": {
    "ExecuteTime": {
     "end_time": "2020-10-11T01:19:12.463006Z",
     "start_time": "2020-10-11T01:19:12.458426Z"
    },
    "lines_to_next_cell": 2
   },
   "outputs": [],
   "source": []
  },
  {
   "cell_type": "markdown",
   "metadata": {},
   "source": [
    "Our dataset is the london smartmeter data. But at half hour intervals"
   ]
  },
  {
   "cell_type": "code",
   "execution_count": 4,
   "metadata": {
    "ExecuteTime": {
     "end_time": "2020-10-11T10:56:26.728571Z",
     "start_time": "2020-10-11T10:56:19.265728Z"
    }
   },
   "outputs": [
    {
     "name": "stderr",
     "output_type": "stream",
     "text": [
      "/home/wassname/anaconda/envs/deep_ml_curriculum/lib/python3.7/site-packages/ipykernel_launcher.py:36: FutureWarning: Series.dt.weekofyear and Series.dt.week have been deprecated.  Please use Series.dt.isocalendar().week instead.\n"
     ]
    },
    {
     "data": {
      "text/html": [
       "<div>\n",
       "<style scoped>\n",
       "    .dataframe tbody tr th:only-of-type {\n",
       "        vertical-align: middle;\n",
       "    }\n",
       "\n",
       "    .dataframe tbody tr th {\n",
       "        vertical-align: top;\n",
       "    }\n",
       "\n",
       "    .dataframe thead th {\n",
       "        text-align: right;\n",
       "    }\n",
       "</style>\n",
       "<table border=\"1\" class=\"dataframe\">\n",
       "  <thead>\n",
       "    <tr style=\"text-align: right;\">\n",
       "      <th></th>\n",
       "      <th>energy(kWh/hh)</th>\n",
       "      <th>visibility</th>\n",
       "      <th>windBearing</th>\n",
       "      <th>temperature</th>\n",
       "      <th>dewPoint</th>\n",
       "      <th>pressure</th>\n",
       "      <th>apparentTemperature</th>\n",
       "      <th>windSpeed</th>\n",
       "      <th>humidity</th>\n",
       "      <th>holiday</th>\n",
       "      <th>month</th>\n",
       "      <th>day</th>\n",
       "      <th>week</th>\n",
       "      <th>hour</th>\n",
       "      <th>minute</th>\n",
       "      <th>dayofweek</th>\n",
       "    </tr>\n",
       "  </thead>\n",
       "  <tbody>\n",
       "    <tr>\n",
       "      <th>2011-12-03 09:00:00</th>\n",
       "      <td>0.149000</td>\n",
       "      <td>13.07</td>\n",
       "      <td>262.0</td>\n",
       "      <td>11.00</td>\n",
       "      <td>8.84</td>\n",
       "      <td>1002.07</td>\n",
       "      <td>11.00</td>\n",
       "      <td>5.99</td>\n",
       "      <td>0.87</td>\n",
       "      <td>0.0</td>\n",
       "      <td>12.0</td>\n",
       "      <td>3.0</td>\n",
       "      <td>48.0</td>\n",
       "      <td>9.0</td>\n",
       "      <td>0.0</td>\n",
       "      <td>5.0</td>\n",
       "    </tr>\n",
       "    <tr>\n",
       "      <th>2011-12-03 09:30:00</th>\n",
       "      <td>0.154000</td>\n",
       "      <td>13.07</td>\n",
       "      <td>262.0</td>\n",
       "      <td>11.00</td>\n",
       "      <td>8.84</td>\n",
       "      <td>1002.07</td>\n",
       "      <td>11.00</td>\n",
       "      <td>5.99</td>\n",
       "      <td>0.87</td>\n",
       "      <td>0.0</td>\n",
       "      <td>12.0</td>\n",
       "      <td>3.0</td>\n",
       "      <td>48.0</td>\n",
       "      <td>9.0</td>\n",
       "      <td>30.0</td>\n",
       "      <td>5.0</td>\n",
       "    </tr>\n",
       "    <tr>\n",
       "      <th>2011-12-03 10:00:00</th>\n",
       "      <td>0.768000</td>\n",
       "      <td>12.76</td>\n",
       "      <td>268.0</td>\n",
       "      <td>11.42</td>\n",
       "      <td>7.52</td>\n",
       "      <td>1002.76</td>\n",
       "      <td>11.42</td>\n",
       "      <td>6.10</td>\n",
       "      <td>0.77</td>\n",
       "      <td>0.0</td>\n",
       "      <td>12.0</td>\n",
       "      <td>3.0</td>\n",
       "      <td>48.0</td>\n",
       "      <td>10.0</td>\n",
       "      <td>0.0</td>\n",
       "      <td>5.0</td>\n",
       "    </tr>\n",
       "    <tr>\n",
       "      <th>2011-12-03 10:30:00</th>\n",
       "      <td>1.179000</td>\n",
       "      <td>12.76</td>\n",
       "      <td>268.0</td>\n",
       "      <td>11.42</td>\n",
       "      <td>7.52</td>\n",
       "      <td>1002.76</td>\n",
       "      <td>11.42</td>\n",
       "      <td>6.10</td>\n",
       "      <td>0.77</td>\n",
       "      <td>0.0</td>\n",
       "      <td>12.0</td>\n",
       "      <td>3.0</td>\n",
       "      <td>48.0</td>\n",
       "      <td>10.0</td>\n",
       "      <td>30.0</td>\n",
       "      <td>5.0</td>\n",
       "    </tr>\n",
       "    <tr>\n",
       "      <th>2011-12-03 11:00:00</th>\n",
       "      <td>0.588000</td>\n",
       "      <td>13.07</td>\n",
       "      <td>274.0</td>\n",
       "      <td>11.41</td>\n",
       "      <td>6.39</td>\n",
       "      <td>1003.24</td>\n",
       "      <td>11.41</td>\n",
       "      <td>6.20</td>\n",
       "      <td>0.71</td>\n",
       "      <td>0.0</td>\n",
       "      <td>12.0</td>\n",
       "      <td>3.0</td>\n",
       "      <td>48.0</td>\n",
       "      <td>11.0</td>\n",
       "      <td>0.0</td>\n",
       "      <td>5.0</td>\n",
       "    </tr>\n",
       "    <tr>\n",
       "      <th>...</th>\n",
       "      <td>...</td>\n",
       "      <td>...</td>\n",
       "      <td>...</td>\n",
       "      <td>...</td>\n",
       "      <td>...</td>\n",
       "      <td>...</td>\n",
       "      <td>...</td>\n",
       "      <td>...</td>\n",
       "      <td>...</td>\n",
       "      <td>...</td>\n",
       "      <td>...</td>\n",
       "      <td>...</td>\n",
       "      <td>...</td>\n",
       "      <td>...</td>\n",
       "      <td>...</td>\n",
       "      <td>...</td>\n",
       "    </tr>\n",
       "    <tr>\n",
       "      <th>2014-02-27 22:00:00</th>\n",
       "      <td>0.678429</td>\n",
       "      <td>14.00</td>\n",
       "      <td>216.0</td>\n",
       "      <td>4.10</td>\n",
       "      <td>1.64</td>\n",
       "      <td>1005.67</td>\n",
       "      <td>1.41</td>\n",
       "      <td>3.02</td>\n",
       "      <td>0.84</td>\n",
       "      <td>0.0</td>\n",
       "      <td>2.0</td>\n",
       "      <td>27.0</td>\n",
       "      <td>9.0</td>\n",
       "      <td>22.0</td>\n",
       "      <td>0.0</td>\n",
       "      <td>3.0</td>\n",
       "    </tr>\n",
       "    <tr>\n",
       "      <th>2014-02-27 22:30:00</th>\n",
       "      <td>0.652071</td>\n",
       "      <td>14.00</td>\n",
       "      <td>216.0</td>\n",
       "      <td>4.10</td>\n",
       "      <td>1.64</td>\n",
       "      <td>1005.67</td>\n",
       "      <td>1.41</td>\n",
       "      <td>3.02</td>\n",
       "      <td>0.84</td>\n",
       "      <td>0.0</td>\n",
       "      <td>2.0</td>\n",
       "      <td>27.0</td>\n",
       "      <td>9.0</td>\n",
       "      <td>22.0</td>\n",
       "      <td>30.0</td>\n",
       "      <td>3.0</td>\n",
       "    </tr>\n",
       "    <tr>\n",
       "      <th>2014-02-27 23:00:00</th>\n",
       "      <td>0.545190</td>\n",
       "      <td>14.03</td>\n",
       "      <td>200.0</td>\n",
       "      <td>3.93</td>\n",
       "      <td>1.61</td>\n",
       "      <td>1004.62</td>\n",
       "      <td>1.42</td>\n",
       "      <td>2.75</td>\n",
       "      <td>0.85</td>\n",
       "      <td>0.0</td>\n",
       "      <td>2.0</td>\n",
       "      <td>27.0</td>\n",
       "      <td>9.0</td>\n",
       "      <td>23.0</td>\n",
       "      <td>0.0</td>\n",
       "      <td>3.0</td>\n",
       "    </tr>\n",
       "    <tr>\n",
       "      <th>2014-02-27 23:30:00</th>\n",
       "      <td>0.442571</td>\n",
       "      <td>14.03</td>\n",
       "      <td>200.0</td>\n",
       "      <td>3.93</td>\n",
       "      <td>1.61</td>\n",
       "      <td>1004.62</td>\n",
       "      <td>1.42</td>\n",
       "      <td>2.75</td>\n",
       "      <td>0.85</td>\n",
       "      <td>0.0</td>\n",
       "      <td>2.0</td>\n",
       "      <td>27.0</td>\n",
       "      <td>9.0</td>\n",
       "      <td>23.0</td>\n",
       "      <td>30.0</td>\n",
       "      <td>3.0</td>\n",
       "    </tr>\n",
       "    <tr>\n",
       "      <th>2014-02-28 00:00:00</th>\n",
       "      <td>0.328810</td>\n",
       "      <td>12.63</td>\n",
       "      <td>190.0</td>\n",
       "      <td>3.81</td>\n",
       "      <td>1.53</td>\n",
       "      <td>1003.57</td>\n",
       "      <td>1.47</td>\n",
       "      <td>2.53</td>\n",
       "      <td>0.85</td>\n",
       "      <td>0.0</td>\n",
       "      <td>2.0</td>\n",
       "      <td>28.0</td>\n",
       "      <td>9.0</td>\n",
       "      <td>0.0</td>\n",
       "      <td>0.0</td>\n",
       "      <td>4.0</td>\n",
       "    </tr>\n",
       "  </tbody>\n",
       "</table>\n",
       "<p>39225 rows × 16 columns</p>\n",
       "</div>"
      ],
      "text/plain": [
       "                     energy(kWh/hh)  visibility  windBearing  temperature  \\\n",
       "2011-12-03 09:00:00        0.149000       13.07        262.0        11.00   \n",
       "2011-12-03 09:30:00        0.154000       13.07        262.0        11.00   \n",
       "2011-12-03 10:00:00        0.768000       12.76        268.0        11.42   \n",
       "2011-12-03 10:30:00        1.179000       12.76        268.0        11.42   \n",
       "2011-12-03 11:00:00        0.588000       13.07        274.0        11.41   \n",
       "...                             ...         ...          ...          ...   \n",
       "2014-02-27 22:00:00        0.678429       14.00        216.0         4.10   \n",
       "2014-02-27 22:30:00        0.652071       14.00        216.0         4.10   \n",
       "2014-02-27 23:00:00        0.545190       14.03        200.0         3.93   \n",
       "2014-02-27 23:30:00        0.442571       14.03        200.0         3.93   \n",
       "2014-02-28 00:00:00        0.328810       12.63        190.0         3.81   \n",
       "\n",
       "                     dewPoint  pressure  apparentTemperature  windSpeed  \\\n",
       "2011-12-03 09:00:00      8.84   1002.07                11.00       5.99   \n",
       "2011-12-03 09:30:00      8.84   1002.07                11.00       5.99   \n",
       "2011-12-03 10:00:00      7.52   1002.76                11.42       6.10   \n",
       "2011-12-03 10:30:00      7.52   1002.76                11.42       6.10   \n",
       "2011-12-03 11:00:00      6.39   1003.24                11.41       6.20   \n",
       "...                       ...       ...                  ...        ...   \n",
       "2014-02-27 22:00:00      1.64   1005.67                 1.41       3.02   \n",
       "2014-02-27 22:30:00      1.64   1005.67                 1.41       3.02   \n",
       "2014-02-27 23:00:00      1.61   1004.62                 1.42       2.75   \n",
       "2014-02-27 23:30:00      1.61   1004.62                 1.42       2.75   \n",
       "2014-02-28 00:00:00      1.53   1003.57                 1.47       2.53   \n",
       "\n",
       "                     humidity  holiday  month   day  week  hour  minute  \\\n",
       "2011-12-03 09:00:00      0.87      0.0   12.0   3.0  48.0   9.0     0.0   \n",
       "2011-12-03 09:30:00      0.87      0.0   12.0   3.0  48.0   9.0    30.0   \n",
       "2011-12-03 10:00:00      0.77      0.0   12.0   3.0  48.0  10.0     0.0   \n",
       "2011-12-03 10:30:00      0.77      0.0   12.0   3.0  48.0  10.0    30.0   \n",
       "2011-12-03 11:00:00      0.71      0.0   12.0   3.0  48.0  11.0     0.0   \n",
       "...                       ...      ...    ...   ...   ...   ...     ...   \n",
       "2014-02-27 22:00:00      0.84      0.0    2.0  27.0   9.0  22.0     0.0   \n",
       "2014-02-27 22:30:00      0.84      0.0    2.0  27.0   9.0  22.0    30.0   \n",
       "2014-02-27 23:00:00      0.85      0.0    2.0  27.0   9.0  23.0     0.0   \n",
       "2014-02-27 23:30:00      0.85      0.0    2.0  27.0   9.0  23.0    30.0   \n",
       "2014-02-28 00:00:00      0.85      0.0    2.0  28.0   9.0   0.0     0.0   \n",
       "\n",
       "                     dayofweek  \n",
       "2011-12-03 09:00:00        5.0  \n",
       "2011-12-03 09:30:00        5.0  \n",
       "2011-12-03 10:00:00        5.0  \n",
       "2011-12-03 10:30:00        5.0  \n",
       "2011-12-03 11:00:00        5.0  \n",
       "...                        ...  \n",
       "2014-02-27 22:00:00        3.0  \n",
       "2014-02-27 22:30:00        3.0  \n",
       "2014-02-27 23:00:00        3.0  \n",
       "2014-02-27 23:30:00        3.0  \n",
       "2014-02-28 00:00:00        4.0  \n",
       "\n",
       "[39225 rows x 16 columns]"
      ]
     },
     "execution_count": 4,
     "metadata": {},
     "output_type": "execute_result"
    }
   ],
   "source": [
    "df = get_smartmeter_df()\n",
    "\n",
    "df = df.resample(freq).mean().dropna() # Where empty we will backfill, this will respect causality, and mostly maintain the mean\n",
    "\n",
    "df = df.tail(int(max_rows)) # Just use last X rows\n",
    "df"
   ]
  },
  {
   "cell_type": "code",
   "execution_count": 5,
   "metadata": {
    "ExecuteTime": {
     "end_time": "2020-10-11T10:56:27.445657Z",
     "start_time": "2020-10-11T10:56:26.730375Z"
    },
    "scrolled": true
   },
   "outputs": [
    {
     "data": {
      "text/html": [
       "<div>\n",
       "<style scoped>\n",
       "    .dataframe tbody tr th:only-of-type {\n",
       "        vertical-align: middle;\n",
       "    }\n",
       "\n",
       "    .dataframe tbody tr th {\n",
       "        vertical-align: top;\n",
       "    }\n",
       "\n",
       "    .dataframe thead th {\n",
       "        text-align: right;\n",
       "    }\n",
       "</style>\n",
       "<table border=\"1\" class=\"dataframe\">\n",
       "  <thead>\n",
       "    <tr style=\"text-align: right;\">\n",
       "      <th></th>\n",
       "      <th>energy(kWh/hh)</th>\n",
       "      <th>visibility</th>\n",
       "      <th>windBearing</th>\n",
       "      <th>temperature</th>\n",
       "      <th>dewPoint</th>\n",
       "      <th>pressure</th>\n",
       "      <th>apparentTemperature</th>\n",
       "      <th>windSpeed</th>\n",
       "      <th>humidity</th>\n",
       "      <th>holiday</th>\n",
       "      <th>month</th>\n",
       "      <th>day</th>\n",
       "      <th>week</th>\n",
       "      <th>hour</th>\n",
       "      <th>minute</th>\n",
       "      <th>dayofweek</th>\n",
       "    </tr>\n",
       "  </thead>\n",
       "  <tbody>\n",
       "    <tr>\n",
       "      <th>count</th>\n",
       "      <td>3.922500e+04</td>\n",
       "      <td>3.922500e+04</td>\n",
       "      <td>3.922500e+04</td>\n",
       "      <td>3.922500e+04</td>\n",
       "      <td>3.922500e+04</td>\n",
       "      <td>3.922500e+04</td>\n",
       "      <td>3.922500e+04</td>\n",
       "      <td>3.922500e+04</td>\n",
       "      <td>3.922500e+04</td>\n",
       "      <td>3.922500e+04</td>\n",
       "      <td>3.922500e+04</td>\n",
       "      <td>3.922500e+04</td>\n",
       "      <td>3.922500e+04</td>\n",
       "      <td>3.922500e+04</td>\n",
       "      <td>3.922500e+04</td>\n",
       "      <td>3.922500e+04</td>\n",
       "    </tr>\n",
       "    <tr>\n",
       "      <th>mean</th>\n",
       "      <td>-8.115313e-17</td>\n",
       "      <td>-9.187693e-16</td>\n",
       "      <td>-9.274643e-17</td>\n",
       "      <td>3.477991e-17</td>\n",
       "      <td>2.202728e-16</td>\n",
       "      <td>-2.388221e-15</td>\n",
       "      <td>1.970862e-16</td>\n",
       "      <td>6.955982e-17</td>\n",
       "      <td>6.955982e-17</td>\n",
       "      <td>3.767824e-17</td>\n",
       "      <td>4.057656e-17</td>\n",
       "      <td>-7.100899e-17</td>\n",
       "      <td>-5.796652e-17</td>\n",
       "      <td>-1.376705e-17</td>\n",
       "      <td>1.517376e-16</td>\n",
       "      <td>7.789251e-17</td>\n",
       "    </tr>\n",
       "    <tr>\n",
       "      <th>std</th>\n",
       "      <td>1.000013e+00</td>\n",
       "      <td>1.000013e+00</td>\n",
       "      <td>1.000013e+00</td>\n",
       "      <td>1.000013e+00</td>\n",
       "      <td>1.000013e+00</td>\n",
       "      <td>1.000013e+00</td>\n",
       "      <td>1.000013e+00</td>\n",
       "      <td>1.000013e+00</td>\n",
       "      <td>1.000013e+00</td>\n",
       "      <td>1.000013e+00</td>\n",
       "      <td>1.000013e+00</td>\n",
       "      <td>1.000013e+00</td>\n",
       "      <td>1.000013e+00</td>\n",
       "      <td>1.000013e+00</td>\n",
       "      <td>1.000013e+00</td>\n",
       "      <td>1.000013e+00</td>\n",
       "    </tr>\n",
       "    <tr>\n",
       "      <th>min</th>\n",
       "      <td>-1.946819e+00</td>\n",
       "      <td>-3.703458e+00</td>\n",
       "      <td>-2.173571e+00</td>\n",
       "      <td>-2.729647e+00</td>\n",
       "      <td>-3.206261e+00</td>\n",
       "      <td>-3.337412e+00</td>\n",
       "      <td>-2.552864e+00</td>\n",
       "      <td>-1.904117e+00</td>\n",
       "      <td>-3.921771e+00</td>\n",
       "      <td>-1.498985e-01</td>\n",
       "      <td>-1.456976e+00</td>\n",
       "      <td>-1.681277e+00</td>\n",
       "      <td>-1.548731e+00</td>\n",
       "      <td>-1.662307e+00</td>\n",
       "      <td>-9.999745e-01</td>\n",
       "      <td>-1.498470e+00</td>\n",
       "    </tr>\n",
       "    <tr>\n",
       "      <th>25%</th>\n",
       "      <td>-7.138837e-01</td>\n",
       "      <td>-3.127832e-01</td>\n",
       "      <td>-7.752553e-01</td>\n",
       "      <td>-6.974452e-01</td>\n",
       "      <td>-7.425864e-01</td>\n",
       "      <td>-5.816362e-01</td>\n",
       "      <td>-7.778616e-01</td>\n",
       "      <td>-7.383479e-01</td>\n",
       "      <td>-5.687687e-01</td>\n",
       "      <td>-1.498985e-01</td>\n",
       "      <td>-9.125645e-01</td>\n",
       "      <td>-8.830354e-01</td>\n",
       "      <td>-9.234714e-01</td>\n",
       "      <td>-7.953824e-01</td>\n",
       "      <td>-9.999745e-01</td>\n",
       "      <td>-9.986530e-01</td>\n",
       "    </tr>\n",
       "    <tr>\n",
       "      <th>50%</th>\n",
       "      <td>-5.885527e-02</td>\n",
       "      <td>3.425008e-01</td>\n",
       "      <td>2.376977e-01</td>\n",
       "      <td>-9.318589e-02</td>\n",
       "      <td>1.203535e-02</td>\n",
       "      <td>4.404180e-02</td>\n",
       "      <td>6.603837e-02</td>\n",
       "      <td>-1.064817e-01</td>\n",
       "      <td>2.159766e-01</td>\n",
       "      <td>-1.498985e-01</td>\n",
       "      <td>-9.594692e-02</td>\n",
       "      <td>2.924051e-02</td>\n",
       "      <td>-4.810793e-02</td>\n",
       "      <td>7.154198e-02</td>\n",
       "      <td>-9.999745e-01</td>\n",
       "      <td>9.811579e-04</td>\n",
       "    </tr>\n",
       "    <tr>\n",
       "      <th>75%</th>\n",
       "      <td>6.146349e-01</td>\n",
       "      <td>6.012539e-01</td>\n",
       "      <td>6.560913e-01</td>\n",
       "      <td>6.916760e-01</td>\n",
       "      <td>7.608374e-01</td>\n",
       "      <td>6.871725e-01</td>\n",
       "      <td>7.538168e-01</td>\n",
       "      <td>5.792647e-01</td>\n",
       "      <td>7.867005e-01</td>\n",
       "      <td>-1.498985e-01</td>\n",
       "      <td>9.928765e-01</td>\n",
       "      <td>8.274819e-01</td>\n",
       "      <td>8.897815e-01</td>\n",
       "      <td>9.384663e-01</td>\n",
       "      <td>1.000025e+00</td>\n",
       "      <td>1.000615e+00</td>\n",
       "    </tr>\n",
       "    <tr>\n",
       "      <th>max</th>\n",
       "      <td>6.994243e+00</td>\n",
       "      <td>1.612744e+00</td>\n",
       "      <td>1.779148e+00</td>\n",
       "      <td>3.691030e+00</td>\n",
       "      <td>2.586285e+00</td>\n",
       "      <td>2.559843e+00</td>\n",
       "      <td>3.255980e+00</td>\n",
       "      <td>5.325609e+00</td>\n",
       "      <td>1.571446e+00</td>\n",
       "      <td>6.671180e+00</td>\n",
       "      <td>1.537288e+00</td>\n",
       "      <td>1.739758e+00</td>\n",
       "      <td>1.640093e+00</td>\n",
       "      <td>1.660903e+00</td>\n",
       "      <td>1.000025e+00</td>\n",
       "      <td>1.500432e+00</td>\n",
       "    </tr>\n",
       "  </tbody>\n",
       "</table>\n",
       "</div>"
      ],
      "text/plain": [
       "       energy(kWh/hh)    visibility   windBearing   temperature      dewPoint  \\\n",
       "count    3.922500e+04  3.922500e+04  3.922500e+04  3.922500e+04  3.922500e+04   \n",
       "mean    -8.115313e-17 -9.187693e-16 -9.274643e-17  3.477991e-17  2.202728e-16   \n",
       "std      1.000013e+00  1.000013e+00  1.000013e+00  1.000013e+00  1.000013e+00   \n",
       "min     -1.946819e+00 -3.703458e+00 -2.173571e+00 -2.729647e+00 -3.206261e+00   \n",
       "25%     -7.138837e-01 -3.127832e-01 -7.752553e-01 -6.974452e-01 -7.425864e-01   \n",
       "50%     -5.885527e-02  3.425008e-01  2.376977e-01 -9.318589e-02  1.203535e-02   \n",
       "75%      6.146349e-01  6.012539e-01  6.560913e-01  6.916760e-01  7.608374e-01   \n",
       "max      6.994243e+00  1.612744e+00  1.779148e+00  3.691030e+00  2.586285e+00   \n",
       "\n",
       "           pressure  apparentTemperature     windSpeed      humidity  \\\n",
       "count  3.922500e+04         3.922500e+04  3.922500e+04  3.922500e+04   \n",
       "mean  -2.388221e-15         1.970862e-16  6.955982e-17  6.955982e-17   \n",
       "std    1.000013e+00         1.000013e+00  1.000013e+00  1.000013e+00   \n",
       "min   -3.337412e+00        -2.552864e+00 -1.904117e+00 -3.921771e+00   \n",
       "25%   -5.816362e-01        -7.778616e-01 -7.383479e-01 -5.687687e-01   \n",
       "50%    4.404180e-02         6.603837e-02 -1.064817e-01  2.159766e-01   \n",
       "75%    6.871725e-01         7.538168e-01  5.792647e-01  7.867005e-01   \n",
       "max    2.559843e+00         3.255980e+00  5.325609e+00  1.571446e+00   \n",
       "\n",
       "            holiday         month           day          week          hour  \\\n",
       "count  3.922500e+04  3.922500e+04  3.922500e+04  3.922500e+04  3.922500e+04   \n",
       "mean   3.767824e-17  4.057656e-17 -7.100899e-17 -5.796652e-17 -1.376705e-17   \n",
       "std    1.000013e+00  1.000013e+00  1.000013e+00  1.000013e+00  1.000013e+00   \n",
       "min   -1.498985e-01 -1.456976e+00 -1.681277e+00 -1.548731e+00 -1.662307e+00   \n",
       "25%   -1.498985e-01 -9.125645e-01 -8.830354e-01 -9.234714e-01 -7.953824e-01   \n",
       "50%   -1.498985e-01 -9.594692e-02  2.924051e-02 -4.810793e-02  7.154198e-02   \n",
       "75%   -1.498985e-01  9.928765e-01  8.274819e-01  8.897815e-01  9.384663e-01   \n",
       "max    6.671180e+00  1.537288e+00  1.739758e+00  1.640093e+00  1.660903e+00   \n",
       "\n",
       "             minute     dayofweek  \n",
       "count  3.922500e+04  3.922500e+04  \n",
       "mean   1.517376e-16  7.789251e-17  \n",
       "std    1.000013e+00  1.000013e+00  \n",
       "min   -9.999745e-01 -1.498470e+00  \n",
       "25%   -9.999745e-01 -9.986530e-01  \n",
       "50%   -9.999745e-01  9.811579e-04  \n",
       "75%    1.000025e+00  1.000615e+00  \n",
       "max    1.000025e+00  1.500432e+00  "
      ]
     },
     "execution_count": 5,
     "metadata": {},
     "output_type": "execute_result"
    }
   ],
   "source": [
    "# Normalise\n",
    "from sklearn.preprocessing import StandardScaler\n",
    "input_columns = df.columns[1:]\n",
    "out_columns = df.columns[:1]\n",
    "scaler_input = StandardScaler()\n",
    "scaler_output = StandardScaler()\n",
    "df_norm = df.copy()\n",
    "df_norm[input_columns] = scaler_input.fit_transform(df[input_columns])\n",
    "df_norm[out_columns] = scaler_output.fit_transform(df[out_columns])\n",
    "df_norm.describe()"
   ]
  },
  {
   "cell_type": "code",
   "execution_count": 6,
   "metadata": {
    "ExecuteTime": {
     "end_time": "2020-10-11T10:56:27.452570Z",
     "start_time": "2020-10-11T10:56:27.447271Z"
    }
   },
   "outputs": [],
   "source": [
    "# Resample\n",
    "df_norm = df_norm.fillna(0)"
   ]
  },
  {
   "cell_type": "code",
   "execution_count": null,
   "metadata": {
    "ExecuteTime": {
     "end_time": "2020-10-10T05:04:20.745565Z",
     "start_time": "2020-10-10T05:04:20.741168Z"
    }
   },
   "outputs": [],
   "source": []
  },
  {
   "cell_type": "code",
   "execution_count": 7,
   "metadata": {
    "ExecuteTime": {
     "end_time": "2020-10-11T10:56:27.921541Z",
     "start_time": "2020-10-11T10:56:27.454424Z"
    }
   },
   "outputs": [
    {
     "data": {
      "text/plain": [
       "<matplotlib.legend.Legend at 0x7f2ab33be950>"
      ]
     },
     "execution_count": 7,
     "metadata": {},
     "output_type": "execute_result"
    },
    {
     "data": {
      "image/png": "[encoded data removed]",
      "text/plain": [
       "<Figure size 432x288 with 1 Axes>"
      ]
     },
     "metadata": {
      "needs_background": "light"
     },
     "output_type": "display_data"
    }
   ],
   "source": [
    "# split data\n",
    "n_split = -int(len(df)*0.2)\n",
    "df_train = df_norm[:n_split]\n",
    "df_test = df_norm[n_split:]\n",
    "\n",
    "# Show split\n",
    "df_train['energy(kWh/hh)'].plot(label='train')\n",
    "df_test['energy(kWh/hh)'].plot(label='test')\n",
    "plt.ylabel('energy(kWh/hh)')\n",
    "plt.legend()"
   ]
  },
  {
   "cell_type": "markdown",
   "metadata": {},
   "source": [
    "## Pytorch Dataset\n",
    "\n",
    "A sequence to sequence model needs a sequence of inputs and a sequence of outputs. \n",
    "\n",
    "Lets use the pytorch dataset class to provide an array interface that makes these sequences on the fly\n",
    "\n",
    "In the Dataset class we define a few methods:\n",
    "\n",
    "- `__init__`: What information is required to create the object and how this information is saved.\n",
    "- `__len__`: Returns the number of data points (images) when we use `len()` function.\n",
    "- `__getitem__`: We can define how indexing would work for this class.\n",
    "\n",
    "Out getitem returns:\n",
    "\n",
    "- x_past: The past inputs\n",
    "- y_past: The past labels\n",
    "- x_future: (optional) The future inputs\n",
    "- y_future: The labels"
   ]
  },
  {
   "cell_type": "code",
   "execution_count": null,
   "metadata": {
    "ExecuteTime": {
     "end_time": "2020-10-10T01:54:06.413882Z",
     "start_time": "2020-10-10T01:54:06.398280Z"
    }
   },
   "outputs": [],
   "source": []
  },
  {
   "cell_type": "code",
   "execution_count": 8,
   "metadata": {
    "ExecuteTime": {
     "end_time": "2020-10-11T10:56:27.945399Z",
     "start_time": "2020-10-11T10:56:27.925353Z"
    }
   },
   "outputs": [],
   "source": [
    "class SmartMeterSeq2SeqDataSet(torch.utils.data.Dataset):\n",
    "    \"\"\"\n",
    "    Takes in dataframe and returns sequences through time.\n",
    "    \n",
    "    Returns x_past, y_past, x_future, etc.\n",
    "    \"\"\"\n",
    "    \n",
    "    def __init__(self, df, window_past=40, window_future=10, label_names=['energy(kWh/hh)']):\n",
    "        self.x = df.drop(columns=label_names).copy().values\n",
    "        self.y = df[label_names].copy().values\n",
    "        self.t = df[label_names].index.copy()\n",
    "        self.columns = list(df.columns)\n",
    "        self.window_past = window_past\n",
    "        self.window_future = window_future\n",
    "        self.label_names = label_names\n",
    "\n",
    "    def get_components(self, i):\n",
    "        \"\"\"Get  rows.\"\"\"\n",
    "        # Get past and future rows\n",
    "        x = self.x[i : i + (self.window_past + self.window_future)].copy()\n",
    "        y = self.y[i : i + (self.window_past + self.window_future)].copy()\n",
    "        \n",
    "        # Add a feature, relative days since present time\n",
    "        tstp = (np.arange(len(x))-self.window_past)[:, None]\n",
    "        is_past = tstp<0\n",
    "        x = np.concatenate([x, tstp, is_past], -1)\n",
    "        \n",
    "        # Split into future and past\n",
    "        x_past = x[:self.window_past]\n",
    "        y_past = y[:self.window_past]\n",
    "        x_future = x[self.window_past:]\n",
    "        y_future = y[self.window_past:]\n",
    "        if not use_future:\n",
    "            # Stop it cheating by using future weather measurements\n",
    "            x_future[:, :8]=0\n",
    "        return x_past, y_past, x_future, y_future\n",
    "\n",
    "    \n",
    "    def get_rows(self, i):\n",
    "        \"\"\"\n",
    "        A helper to put index and columns back on.\n",
    "        \n",
    "        We take them off originally for training speed\n",
    "        \"\"\"\n",
    "        x_cols = list(self.columns)[1:] + ['tstp', 'is_past']\n",
    "        x_past, y_past, x_future, y_future = self.get_components(i)\n",
    "        t_past = self.t[i:i+self.window_past]\n",
    "        t_future = self.t[i+self.window_past:i+self.window_past + self.window_future]\n",
    "        x_past = pd.DataFrame(x_past, columns=x_cols, index=t_past)\n",
    "        x_future = pd.DataFrame(x_future, columns=x_cols, index=t_future)\n",
    "        y_past = pd.DataFrame(y_past, columns=self.label_names, index=t_past)\n",
    "        y_future = pd.DataFrame(y_future, columns=self.label_names, index=t_future)\n",
    "        return x_past, y_past, x_future, y_future\n",
    "\n",
    "\n",
    "    def __getitem__(self, i):\n",
    "        if i<0:\n",
    "            # Handle negative integers\n",
    "            i = len(self)+i\n",
    "        data = self.get_components(i)\n",
    "        # From dataframe to torch\n",
    "        return [d.astype(np.float32) for d in data]\n",
    "        \n",
    "    def __len__(self):\n",
    "        return len(self.x) - (self.window_past + self.window_future)\n",
    "    \n",
    "    def __repr__(self):\n",
    "        return f'<{type(self).__name__}(df.shape={self.x.shape})>'"
   ]
  },
  {
   "cell_type": "code",
   "execution_count": 9,
   "metadata": {
    "ExecuteTime": {
     "end_time": "2020-10-11T10:56:27.967188Z",
     "start_time": "2020-10-11T10:56:27.948327Z"
    }
   },
   "outputs": [
    {
     "name": "stdout",
     "output_type": "stream",
     "text": [
      "<SmartMeterSeq2SeqDataSet(df.shape=(31380, 15))>\n",
      "<SmartMeterSeq2SeqDataSet(df.shape=(7845, 15))>\n"
     ]
    }
   ],
   "source": [
    "ds_train = SmartMeterSeq2SeqDataSet(df_train, window_past=window_past, window_future=window_future)\n",
    "ds_test = SmartMeterSeq2SeqDataSet(df_test, window_past=window_past, window_future=window_future)\n",
    "print(ds_train)\n",
    "print(ds_test)"
   ]
  },
  {
   "cell_type": "code",
   "execution_count": null,
   "metadata": {
    "ExecuteTime": {
     "end_time": "2020-10-11T09:16:00.661392Z",
     "start_time": "2020-10-11T09:16:00.647301Z"
    }
   },
   "outputs": [],
   "source": []
  },
  {
   "cell_type": "code",
   "execution_count": 10,
   "metadata": {
    "ExecuteTime": {
     "end_time": "2020-10-11T10:56:28.298342Z",
     "start_time": "2020-10-11T10:56:27.969151Z"
    }
   },
   "outputs": [
    {
     "data": {
      "text/html": [
       "<div>\n",
       "<style scoped>\n",
       "    .dataframe tbody tr th:only-of-type {\n",
       "        vertical-align: middle;\n",
       "    }\n",
       "\n",
       "    .dataframe tbody tr th {\n",
       "        vertical-align: top;\n",
       "    }\n",
       "\n",
       "    .dataframe thead th {\n",
       "        text-align: right;\n",
       "    }\n",
       "</style>\n",
       "<table border=\"1\" class=\"dataframe\">\n",
       "  <thead>\n",
       "    <tr style=\"text-align: right;\">\n",
       "      <th></th>\n",
       "      <th>visibility</th>\n",
       "      <th>windBearing</th>\n",
       "      <th>temperature</th>\n",
       "      <th>dewPoint</th>\n",
       "      <th>pressure</th>\n",
       "      <th>apparentTemperature</th>\n",
       "      <th>windSpeed</th>\n",
       "      <th>humidity</th>\n",
       "      <th>holiday</th>\n",
       "      <th>month</th>\n",
       "      <th>day</th>\n",
       "      <th>week</th>\n",
       "      <th>hour</th>\n",
       "      <th>minute</th>\n",
       "      <th>dayofweek</th>\n",
       "      <th>tstp</th>\n",
       "      <th>is_past</th>\n",
       "    </tr>\n",
       "  </thead>\n",
       "  <tbody>\n",
       "    <tr>\n",
       "      <th>2011-12-07 11:30:00</th>\n",
       "      <td>0.597893</td>\n",
       "      <td>0.788216</td>\n",
       "      <td>-0.331176</td>\n",
       "      <td>-0.915238</td>\n",
       "      <td>-0.597344</td>\n",
       "      <td>-0.663935</td>\n",
       "      <td>2.499354</td>\n",
       "      <td>-1.068152</td>\n",
       "      <td>-0.149899</td>\n",
       "      <td>1.537288</td>\n",
       "      <td>-0.99707</td>\n",
       "      <td>1.452515</td>\n",
       "      <td>-0.072945</td>\n",
       "      <td>1.000025</td>\n",
       "      <td>-0.498836</td>\n",
       "      <td>-5.0</td>\n",
       "      <td>1.0</td>\n",
       "    </tr>\n",
       "    <tr>\n",
       "      <th>2011-12-07 12:00:00</th>\n",
       "      <td>0.517243</td>\n",
       "      <td>0.854278</td>\n",
       "      <td>-0.255222</td>\n",
       "      <td>-1.182944</td>\n",
       "      <td>-0.561566</td>\n",
       "      <td>-0.609082</td>\n",
       "      <td>2.915700</td>\n",
       "      <td>-1.638876</td>\n",
       "      <td>-0.149899</td>\n",
       "      <td>1.537288</td>\n",
       "      <td>-0.99707</td>\n",
       "      <td>1.452515</td>\n",
       "      <td>0.071542</td>\n",
       "      <td>-0.999975</td>\n",
       "      <td>-0.498836</td>\n",
       "      <td>-4.0</td>\n",
       "      <td>1.0</td>\n",
       "    </tr>\n",
       "    <tr>\n",
       "      <th>2011-12-07 12:30:00</th>\n",
       "      <td>0.517243</td>\n",
       "      <td>0.854278</td>\n",
       "      <td>-0.255222</td>\n",
       "      <td>-1.182944</td>\n",
       "      <td>-0.561566</td>\n",
       "      <td>-0.609082</td>\n",
       "      <td>2.915700</td>\n",
       "      <td>-1.638876</td>\n",
       "      <td>-0.149899</td>\n",
       "      <td>1.537288</td>\n",
       "      <td>-0.99707</td>\n",
       "      <td>1.452515</td>\n",
       "      <td>0.071542</td>\n",
       "      <td>1.000025</td>\n",
       "      <td>-0.498836</td>\n",
       "      <td>-3.0</td>\n",
       "      <td>1.0</td>\n",
       "    </tr>\n",
       "    <tr>\n",
       "      <th>2011-12-07 13:00:00</th>\n",
       "      <td>0.597893</td>\n",
       "      <td>0.898319</td>\n",
       "      <td>-0.260286</td>\n",
       "      <td>-1.376934</td>\n",
       "      <td>-0.490882</td>\n",
       "      <td>-0.603456</td>\n",
       "      <td>2.754060</td>\n",
       "      <td>-1.924238</td>\n",
       "      <td>-0.149899</td>\n",
       "      <td>1.537288</td>\n",
       "      <td>-0.99707</td>\n",
       "      <td>1.452515</td>\n",
       "      <td>0.216029</td>\n",
       "      <td>-0.999975</td>\n",
       "      <td>-0.498836</td>\n",
       "      <td>-2.0</td>\n",
       "      <td>1.0</td>\n",
       "    </tr>\n",
       "    <tr>\n",
       "      <th>2011-12-07 13:30:00</th>\n",
       "      <td>0.597893</td>\n",
       "      <td>0.898319</td>\n",
       "      <td>-0.260286</td>\n",
       "      <td>-1.376934</td>\n",
       "      <td>-0.490882</td>\n",
       "      <td>-0.603456</td>\n",
       "      <td>2.754060</td>\n",
       "      <td>-1.924238</td>\n",
       "      <td>-0.149899</td>\n",
       "      <td>1.537288</td>\n",
       "      <td>-0.99707</td>\n",
       "      <td>1.452515</td>\n",
       "      <td>0.216029</td>\n",
       "      <td>1.000025</td>\n",
       "      <td>-0.498836</td>\n",
       "      <td>-1.0</td>\n",
       "      <td>1.0</td>\n",
       "    </tr>\n",
       "  </tbody>\n",
       "</table>\n",
       "</div>"
      ],
      "text/plain": [
       "                     visibility  windBearing  temperature  dewPoint  pressure  \\\n",
       "2011-12-07 11:30:00    0.597893     0.788216    -0.331176 -0.915238 -0.597344   \n",
       "2011-12-07 12:00:00    0.517243     0.854278    -0.255222 -1.182944 -0.561566   \n",
       "2011-12-07 12:30:00    0.517243     0.854278    -0.255222 -1.182944 -0.561566   \n",
       "2011-12-07 13:00:00    0.597893     0.898319    -0.260286 -1.376934 -0.490882   \n",
       "2011-12-07 13:30:00    0.597893     0.898319    -0.260286 -1.376934 -0.490882   \n",
       "\n",
       "                     apparentTemperature  windSpeed  humidity   holiday  \\\n",
       "2011-12-07 11:30:00            -0.663935   2.499354 -1.068152 -0.149899   \n",
       "2011-12-07 12:00:00            -0.609082   2.915700 -1.638876 -0.149899   \n",
       "2011-12-07 12:30:00            -0.609082   2.915700 -1.638876 -0.149899   \n",
       "2011-12-07 13:00:00            -0.603456   2.754060 -1.924238 -0.149899   \n",
       "2011-12-07 13:30:00            -0.603456   2.754060 -1.924238 -0.149899   \n",
       "\n",
       "                        month      day      week      hour    minute  \\\n",
       "2011-12-07 11:30:00  1.537288 -0.99707  1.452515 -0.072945  1.000025   \n",
       "2011-12-07 12:00:00  1.537288 -0.99707  1.452515  0.071542 -0.999975   \n",
       "2011-12-07 12:30:00  1.537288 -0.99707  1.452515  0.071542  1.000025   \n",
       "2011-12-07 13:00:00  1.537288 -0.99707  1.452515  0.216029 -0.999975   \n",
       "2011-12-07 13:30:00  1.537288 -0.99707  1.452515  0.216029  1.000025   \n",
       "\n",
       "                     dayofweek  tstp  is_past  \n",
       "2011-12-07 11:30:00  -0.498836  -5.0      1.0  \n",
       "2011-12-07 12:00:00  -0.498836  -4.0      1.0  \n",
       "2011-12-07 12:30:00  -0.498836  -3.0      1.0  \n",
       "2011-12-07 13:00:00  -0.498836  -2.0      1.0  \n",
       "2011-12-07 13:30:00  -0.498836  -1.0      1.0  "
      ]
     },
     "execution_count": 10,
     "metadata": {},
     "output_type": "execute_result"
    },
    {
     "data": {
      "image/png": "[encoded data removed]",
      "text/plain": [
       "<Figure size 432x288 with 1 Axes>"
      ]
     },
     "metadata": {
      "needs_background": "light"
     },
     "output_type": "display_data"
    }
   ],
   "source": [
    "# We can get rows\n",
    "x_past, y_past, x_future, y_future = ds_train.get_rows(10)\n",
    "\n",
    "# Plot one instance, this is what the model sees\n",
    "y_past['energy(kWh/hh)'].plot(label='past')\n",
    "y_future['energy(kWh/hh)'].plot(ax=plt.gca(), label='future')\n",
    "plt.legend()\n",
    "\n",
    "# Notice we've added on two new columns tsp (time since present) and is_past\n",
    "x_past.tail()"
   ]
  },
  {
   "cell_type": "code",
   "execution_count": 11,
   "metadata": {
    "ExecuteTime": {
     "end_time": "2020-10-11T10:56:28.323567Z",
     "start_time": "2020-10-11T10:56:28.300038Z"
    }
   },
   "outputs": [
    {
     "data": {
      "text/html": [
       "<div>\n",
       "<style scoped>\n",
       "    .dataframe tbody tr th:only-of-type {\n",
       "        vertical-align: middle;\n",
       "    }\n",
       "\n",
       "    .dataframe tbody tr th {\n",
       "        vertical-align: top;\n",
       "    }\n",
       "\n",
       "    .dataframe thead th {\n",
       "        text-align: right;\n",
       "    }\n",
       "</style>\n",
       "<table border=\"1\" class=\"dataframe\">\n",
       "  <thead>\n",
       "    <tr style=\"text-align: right;\">\n",
       "      <th></th>\n",
       "      <th>visibility</th>\n",
       "      <th>windBearing</th>\n",
       "      <th>temperature</th>\n",
       "      <th>dewPoint</th>\n",
       "      <th>pressure</th>\n",
       "      <th>apparentTemperature</th>\n",
       "      <th>windSpeed</th>\n",
       "      <th>humidity</th>\n",
       "      <th>holiday</th>\n",
       "      <th>month</th>\n",
       "      <th>day</th>\n",
       "      <th>week</th>\n",
       "      <th>hour</th>\n",
       "      <th>minute</th>\n",
       "      <th>dayofweek</th>\n",
       "      <th>tstp</th>\n",
       "      <th>is_past</th>\n",
       "    </tr>\n",
       "  </thead>\n",
       "  <tbody>\n",
       "    <tr>\n",
       "      <th>2011-12-11 11:30:00</th>\n",
       "      <td>0.0</td>\n",
       "      <td>0.0</td>\n",
       "      <td>0.0</td>\n",
       "      <td>0.0</td>\n",
       "      <td>0.0</td>\n",
       "      <td>0.0</td>\n",
       "      <td>0.0</td>\n",
       "      <td>0.0</td>\n",
       "      <td>-0.149899</td>\n",
       "      <td>1.537288</td>\n",
       "      <td>-0.540932</td>\n",
       "      <td>1.452515</td>\n",
       "      <td>-0.072945</td>\n",
       "      <td>1.000025</td>\n",
       "      <td>1.500432</td>\n",
       "      <td>187.0</td>\n",
       "      <td>0.0</td>\n",
       "    </tr>\n",
       "    <tr>\n",
       "      <th>2011-12-11 12:00:00</th>\n",
       "      <td>0.0</td>\n",
       "      <td>0.0</td>\n",
       "      <td>0.0</td>\n",
       "      <td>0.0</td>\n",
       "      <td>0.0</td>\n",
       "      <td>0.0</td>\n",
       "      <td>0.0</td>\n",
       "      <td>0.0</td>\n",
       "      <td>-0.149899</td>\n",
       "      <td>1.537288</td>\n",
       "      <td>-0.540932</td>\n",
       "      <td>1.452515</td>\n",
       "      <td>0.071542</td>\n",
       "      <td>-0.999975</td>\n",
       "      <td>1.500432</td>\n",
       "      <td>188.0</td>\n",
       "      <td>0.0</td>\n",
       "    </tr>\n",
       "    <tr>\n",
       "      <th>2011-12-11 12:30:00</th>\n",
       "      <td>0.0</td>\n",
       "      <td>0.0</td>\n",
       "      <td>0.0</td>\n",
       "      <td>0.0</td>\n",
       "      <td>0.0</td>\n",
       "      <td>0.0</td>\n",
       "      <td>0.0</td>\n",
       "      <td>0.0</td>\n",
       "      <td>-0.149899</td>\n",
       "      <td>1.537288</td>\n",
       "      <td>-0.540932</td>\n",
       "      <td>1.452515</td>\n",
       "      <td>0.071542</td>\n",
       "      <td>1.000025</td>\n",
       "      <td>1.500432</td>\n",
       "      <td>189.0</td>\n",
       "      <td>0.0</td>\n",
       "    </tr>\n",
       "    <tr>\n",
       "      <th>2011-12-11 13:00:00</th>\n",
       "      <td>0.0</td>\n",
       "      <td>0.0</td>\n",
       "      <td>0.0</td>\n",
       "      <td>0.0</td>\n",
       "      <td>0.0</td>\n",
       "      <td>0.0</td>\n",
       "      <td>0.0</td>\n",
       "      <td>0.0</td>\n",
       "      <td>-0.149899</td>\n",
       "      <td>1.537288</td>\n",
       "      <td>-0.540932</td>\n",
       "      <td>1.452515</td>\n",
       "      <td>0.216029</td>\n",
       "      <td>-0.999975</td>\n",
       "      <td>1.500432</td>\n",
       "      <td>190.0</td>\n",
       "      <td>0.0</td>\n",
       "    </tr>\n",
       "    <tr>\n",
       "      <th>2011-12-11 13:30:00</th>\n",
       "      <td>0.0</td>\n",
       "      <td>0.0</td>\n",
       "      <td>0.0</td>\n",
       "      <td>0.0</td>\n",
       "      <td>0.0</td>\n",
       "      <td>0.0</td>\n",
       "      <td>0.0</td>\n",
       "      <td>0.0</td>\n",
       "      <td>-0.149899</td>\n",
       "      <td>1.537288</td>\n",
       "      <td>-0.540932</td>\n",
       "      <td>1.452515</td>\n",
       "      <td>0.216029</td>\n",
       "      <td>1.000025</td>\n",
       "      <td>1.500432</td>\n",
       "      <td>191.0</td>\n",
       "      <td>0.0</td>\n",
       "    </tr>\n",
       "  </tbody>\n",
       "</table>\n",
       "</div>"
      ],
      "text/plain": [
       "                     visibility  windBearing  temperature  dewPoint  pressure  \\\n",
       "2011-12-11 11:30:00         0.0          0.0          0.0       0.0       0.0   \n",
       "2011-12-11 12:00:00         0.0          0.0          0.0       0.0       0.0   \n",
       "2011-12-11 12:30:00         0.0          0.0          0.0       0.0       0.0   \n",
       "2011-12-11 13:00:00         0.0          0.0          0.0       0.0       0.0   \n",
       "2011-12-11 13:30:00         0.0          0.0          0.0       0.0       0.0   \n",
       "\n",
       "                     apparentTemperature  windSpeed  humidity   holiday  \\\n",
       "2011-12-11 11:30:00                  0.0        0.0       0.0 -0.149899   \n",
       "2011-12-11 12:00:00                  0.0        0.0       0.0 -0.149899   \n",
       "2011-12-11 12:30:00                  0.0        0.0       0.0 -0.149899   \n",
       "2011-12-11 13:00:00                  0.0        0.0       0.0 -0.149899   \n",
       "2011-12-11 13:30:00                  0.0        0.0       0.0 -0.149899   \n",
       "\n",
       "                        month       day      week      hour    minute  \\\n",
       "2011-12-11 11:30:00  1.537288 -0.540932  1.452515 -0.072945  1.000025   \n",
       "2011-12-11 12:00:00  1.537288 -0.540932  1.452515  0.071542 -0.999975   \n",
       "2011-12-11 12:30:00  1.537288 -0.540932  1.452515  0.071542  1.000025   \n",
       "2011-12-11 13:00:00  1.537288 -0.540932  1.452515  0.216029 -0.999975   \n",
       "2011-12-11 13:30:00  1.537288 -0.540932  1.452515  0.216029  1.000025   \n",
       "\n",
       "                     dayofweek   tstp  is_past  \n",
       "2011-12-11 11:30:00   1.500432  187.0      0.0  \n",
       "2011-12-11 12:00:00   1.500432  188.0      0.0  \n",
       "2011-12-11 12:30:00   1.500432  189.0      0.0  \n",
       "2011-12-11 13:00:00   1.500432  190.0      0.0  \n",
       "2011-12-11 13:30:00   1.500432  191.0      0.0  "
      ]
     },
     "execution_count": 11,
     "metadata": {},
     "output_type": "execute_result"
    }
   ],
   "source": [
    "# Notice we've hidden some future columns to prevent cheating\n",
    "x_future.tail()"
   ]
  },
  {
   "cell_type": "code",
   "execution_count": 12,
   "metadata": {
    "ExecuteTime": {
     "end_time": "2020-10-11T10:56:28.336080Z",
     "start_time": "2020-10-11T10:56:28.325477Z"
    }
   },
   "outputs": [
    {
     "name": "stdout",
     "output_type": "stream",
     "text": [
      "30996\n"
     ]
    },
    {
     "data": {
      "text/plain": [
       "(192, 17)"
      ]
     },
     "execution_count": 12,
     "metadata": {},
     "output_type": "execute_result"
    }
   ],
   "source": [
    "# and treat it like an array\n",
    "print(len(ds_train))\n",
    "ds_train[0][0].shape"
   ]
  },
  {
   "cell_type": "markdown",
   "metadata": {},
   "source": [
    " <div class=\"alert alert-success\">\n",
    "  <h2>Exercise: Dataset</h2>\n",
    "\n",
    "  Lets understand the dataset by using it\n",
    "    \n",
    "  - get the 2nd to last element of the dataset\n",
    "  - get the shape of each of the 4 returned elements of ds_train[0]\n",
    "  - get the type of each of the 4 returned elements of ds_train[0]\n",
    "\n",
    "  <br/>\n",
    "  <br/>\n",
    "  <details>\n",
    "  <summary>\n",
    "    <b>→ Solution</b>\n",
    "  </summary>\n",
    "\n",
    "  ```python\n",
    "  ds_train[-2]\n",
    "  print([x.shape for x in ds_train[0]])\n",
    "  print([type(x) for x in ds_train[0]])\n",
    "  ```\n",
    "\n",
    "  </details>\n",
    "\n",
    "  </div>"
   ]
  },
  {
   "cell_type": "markdown",
   "metadata": {
    "ExecuteTime": {
     "end_time": "2020-10-10T06:00:31.785768Z",
     "start_time": "2020-10-10T06:00:31.739120Z"
    }
   },
   "source": [
    "## LSTM: A minute of Theory\n",
    "\n",
    "This is a hand on course, not theory so we will look at a high level view of one type of RNN, the LSTM. But lets look at the theory for a moment, to get some broad idea of how they work\n",
    "\n",
    "The figure below is from d2l.ai and shows how an RNN can operate on a text sequence to predict the next charector.\n",
    "\n",
    "![](images/rnn-train.svg)\n",
    "\n",
    "How does the model itself work? Let look at an excerpt from the open source machine learning book [d2l.ai](d2l.ai):\n",
    "\n",
    "![](images/rnn.svg)\n",
    "\n",
    "> The figure below illustrates the computational logic of an RNN at three adjacent time steps. At any time step `t`, the computation of the hidden state can be treated as: \n",
    "\n",
    "> i) concatenating the input `Xt` at the current time step `t` and the hidden state `Ht−1` at the previous time step  `t−1` ; \n",
    "\n",
    "> ii) feeding the concatenation result into a fully-connected layer with the activation function `ϕ`. \n",
    "\n",
    "> The output of such a fully-connected layer is the hidden state  `Ht`  of the current time step  t . In this case, the model parameters are the concatenation of  `Wxh`  and  `Whh` , and a bias of  `bh`. The hidden state of the current time step  `t` , `Ht` , will participate in computing the hidden state  `Ht+1`  of the next time step  t+1 . What is more,  `Ht`  will also be fed into the fully-connected output layer to compute the output  `Ot`  of the current time step  `t` .\n",
    "\n",
    "To understand more see these visualisations:\n",
    "\n",
    "- [distill.pub memorization in rnns](memorization-in-rnns)\n",
    "- [Chris Olah Understanding LSTMs](https://colah.github.io/posts/2015-08-Understanding-LSTMs/)\n",
    "\n",
    "And see these chapters:\n",
    "\n",
    "- [d2l.ai RNN's](http://d2l.ai/chapter_recurrent-neural-networks/rnn.html)\n",
    "- [d2l.ai LSTM's](http://d2l.ai/chapter_recurrent-modern/lstm.html)\n"
   ]
  },
  {
   "cell_type": "markdown",
   "metadata": {},
   "source": [
    "## Model"
   ]
  },
  {
   "cell_type": "code",
   "execution_count": 13,
   "metadata": {
    "ExecuteTime": {
     "end_time": "2020-10-11T10:56:28.349838Z",
     "start_time": "2020-10-11T10:56:28.337912Z"
    }
   },
   "outputs": [],
   "source": [
    "\n",
    "class Seq2SeqNet(nn.Module):\n",
    "    def __init__(self, input_size, output_size, hidden_size=32, lstm_layers=2, lstm_dropout=0, _min_std = 0.05):\n",
    "        super().__init__()\n",
    "        self._min_std = _min_std\n",
    "\n",
    "        self.encoder = nn.LSTM(\n",
    "            input_size=input_size + output_size,\n",
    "            hidden_size=hidden_size,\n",
    "            batch_first=True,\n",
    "            num_layers=lstm_layers,\n",
    "            dropout=lstm_dropout,\n",
    "        )\n",
    "        self.mean = nn.Linear(hidden_size, output_size)\n",
    "        self.std = nn.Linear(hidden_size, output_size)\n",
    "\n",
    "    def forward(self, past_x, past_y, future_x, future_y=None):\n",
    "        past = torch.cat([past_x, past_y], -1)\n",
    "        \n",
    "        # Placeholder\n",
    "        B, S, _ = future_x.shape\n",
    "        future_y_fake = torch.zeros((B, S, 1)).to(device)\n",
    "\n",
    "        future = torch.cat([future_x, future_y_fake], -1)\n",
    "        x = torch.cat([past, future], 1).detach()\n",
    "        \n",
    "        outputs, _ = self.encoder(x)        \n",
    "        \n",
    "        # We only want the future\n",
    "        outputs = outputs[:, -S:]\n",
    "        \n",
    "        # outputs: [B, T, num_direction * H]\n",
    "        mean = self.mean(outputs)      \n",
    "        \n",
    "        log_sigma = self.std(outputs)\n",
    "        log_sigma = torch.clamp(log_sigma, np.log(self._min_std), -np.log(self._min_std))\n",
    "\n",
    "        sigma = torch.exp(log_sigma)\n",
    "        y_dist = torch.distributions.Normal(mean, sigma)\n",
    "        return y_dist\n"
   ]
  },
  {
   "cell_type": "code",
   "execution_count": 14,
   "metadata": {
    "ExecuteTime": {
     "end_time": "2020-10-11T10:56:28.363752Z",
     "start_time": "2020-10-11T10:56:28.351558Z"
    }
   },
   "outputs": [],
   "source": [
    "\n",
    "class Seq2SeqNet(nn.Module):\n",
    "    def __init__(self, input_size, input_size_decoder, output_size, hidden_size=32, lstm_layers=2, lstm_dropout=0, _min_std = 0.05):\n",
    "        super().__init__()\n",
    "        self._min_std = _min_std\n",
    "\n",
    "        self.encoder = nn.LSTM(\n",
    "            input_size=input_size + output_size,\n",
    "            hidden_size=hidden_size,\n",
    "            batch_first=True,\n",
    "            num_layers=lstm_layers,\n",
    "            dropout=lstm_dropout,\n",
    "        )\n",
    "        self.decoder = nn.LSTM(\n",
    "            input_size=input_size_decoder,\n",
    "            hidden_size=hidden_size,\n",
    "            batch_first=True,\n",
    "            num_layers=lstm_layers,\n",
    "            dropout=lstm_dropout,\n",
    "        )\n",
    "        self.mean = nn.Linear(hidden_size, output_size)\n",
    "        self.std = nn.Linear(hidden_size, output_size)\n",
    "\n",
    "    def forward(self, context_x, context_y, target_x, target_y=None):\n",
    "        x = torch.cat([context_x, context_y], -1)\n",
    "        _, (h_out, cell) = self.encoder(x)\n",
    "        \n",
    "        ## Shape\n",
    "        # hidden = [batch size, n layers * n directions, hid dim]\n",
    "        # cell = [batch size, n layers * n directions, hid dim]\n",
    "        # output = [batch size, seq len, hid dim * n directions]\n",
    "        outputs, (_, _) = self.decoder(target_x, (h_out, cell))\n",
    "        \n",
    "        \n",
    "        # outputs: [B, T, num_direction * H]\n",
    "        mean = self.mean(outputs)\n",
    "        log_sigma = self.std(outputs)\n",
    "        log_sigma = torch.clamp(log_sigma, np.log(self._min_std), -np.log(self._min_std))\n",
    "\n",
    "        sigma = torch.exp(log_sigma)\n",
    "        y_dist = torch.distributions.Normal(mean, sigma)\n",
    "        return y_dist\n",
    "\n"
   ]
  },
  {
   "cell_type": "code",
   "execution_count": null,
   "metadata": {
    "ExecuteTime": {
     "end_time": "2020-10-11T10:56:42.836934Z",
     "start_time": "2020-10-11T10:56:42.832646Z"
    }
   },
   "outputs": [],
   "source": []
  },
  {
   "cell_type": "code",
   "execution_count": 17,
   "metadata": {
    "ExecuteTime": {
     "end_time": "2020-10-11T10:57:04.790622Z",
     "start_time": "2020-10-11T10:57:01.125911Z"
    }
   },
   "outputs": [
    {
     "data": {
      "text/plain": [
       "Seq2SeqNet(\n",
       "  (encoder): LSTM(18, 32, num_layers=2, batch_first=True)\n",
       "  (decoder): LSTM(17, 32, num_layers=2, batch_first=True)\n",
       "  (mean): Linear(in_features=32, out_features=1, bias=True)\n",
       "  (std): Linear(in_features=32, out_features=1, bias=True)\n",
       ")"
      ]
     },
     "execution_count": 17,
     "metadata": {},
     "output_type": "execute_result"
    }
   ],
   "source": [
    "input_size = x_past.shape[-1]\n",
    "output_size = y_future.shape[-1]\n",
    "\n",
    "model = Seq2SeqNet(input_size, input_size, output_size,\n",
    "                   hidden_size=32, \n",
    "                   lstm_layers=2, \n",
    "                   lstm_dropout=0).to(device)\n",
    "model"
   ]
  },
  {
   "cell_type": "code",
   "execution_count": 18,
   "metadata": {
    "ExecuteTime": {
     "end_time": "2020-10-11T10:57:05.431884Z",
     "start_time": "2020-10-11T10:57:05.428082Z"
    }
   },
   "outputs": [],
   "source": [
    "# Init the optimiser\n",
    "optimizer = optim.Adam(model.parameters(), lr=1e-3)"
   ]
  },
  {
   "cell_type": "markdown",
   "metadata": {
    "ExecuteTime": {
     "end_time": "2020-10-11T00:50:26.565378Z",
     "start_time": "2020-10-11T00:50:26.559693Z"
    }
   },
   "source": [
    " <div class=\"alert alert-success\">\n",
    "  <h2>Exercise: Model</h2>\n",
    "\n",
    "  To understand the model we first need to understand the inputs and outputs.\n",
    "    \n",
    "  * Make fake data of the correct shape, and pass it into the model.\n",
    "  * What is the data type of the output?\n",
    "    \n",
    "  ```python\n",
    "  past_x, past_y, future_x, future_y\n",
    "  output = model(?)\n",
    "  print(output)\n",
    "  ```\n",
    "      \n",
    "\n",
    "  <details>\n",
    "  <summary><b>→ Hints</b></summary>\n",
    "\n",
    "  * One\n",
    "  * Two\n",
    "\n",
    "  </details>\n",
    "\n",
    "  <br/>\n",
    "  <br/>\n",
    "  <details>\n",
    "  <summary>\n",
    "    <b>→ Solution</b>\n",
    "  </summary>\n",
    "\n",
    "  ```python\n",
    "    past_x = torch.rand((batch_size, window_past, input_size)).to(device)\n",
    "    future_x = torch.rand((batch_size, window_future, input_size)).to(device)\n",
    "    past_y = torch.rand((batch_size, window_past, output_size)).to(device)\n",
    "    future_y = torch.rand((batch_size, window_future, output_size)).to(device)\n",
    "    output = model(past_x, past_y, future_x, future_y)  \n",
    "    print(output)\n",
    "  ```\n",
    "\n",
    "  </details>\n",
    "\n",
    "  </div>"
   ]
  },
  {
   "cell_type": "code",
   "execution_count": null,
   "metadata": {
    "ExecuteTime": {
     "end_time": "2020-10-11T01:06:03.848966Z",
     "start_time": "2020-10-11T01:06:03.764868Z"
    }
   },
   "outputs": [],
   "source": []
  },
  {
   "cell_type": "markdown",
   "metadata": {},
   "source": [
    "## Concept: Likelihood\n",
    "\n",
    "In this notebook we wont just predict an answer, but how wrong we might be: the mean and standard deviation.\n",
    "\n",
    "So instead of the mean squared error, like in most regression problems, we are going to be predicting a normal distribution, and minimising the [Negative Log Likihood (NLL)](https://pytorch.org/docs/stable/generated/torch.nn.NLLLoss.html). \n",
    "\n",
    "This means our model will output a distribution, and we will try to make sure it overlaps with the true answer as much possible. This is the concept of likelihood, which is illustrated below.\n",
    "\n",
    "The image below shows a distribution in blue, then possible answers in red."
   ]
  },
  {
   "cell_type": "code",
   "execution_count": null,
   "metadata": {
    "ExecuteTime": {
     "start_time": "2020-10-11T01:09:11.555Z"
    }
   },
   "outputs": [],
   "source": []
  },
  {
   "cell_type": "code",
   "execution_count": 19,
   "metadata": {
    "ExecuteTime": {
     "end_time": "2020-10-11T10:57:06.664243Z",
     "start_time": "2020-10-11T10:57:06.275499Z"
    }
   },
   "outputs": [
    {
     "name": "stderr",
     "output_type": "stream",
     "text": [
      "/home/wassname/anaconda/envs/deep_ml_curriculum/lib/python3.7/site-packages/torch/distributions/distribution.py:134: UserWarning: sample_n will be deprecated. Use .sample((n,)) instead\n",
      "  warnings.warn('sample_n will be deprecated. Use .sample((n,)) instead', UserWarning)\n"
     ]
    },
    {
     "data": {
      "image/png": "[encoded data removed]",
      "text/plain": [
       "<Figure size 720x360 with 1 Axes>"
      ]
     },
     "metadata": {
      "needs_background": "light"
     },
     "output_type": "display_data"
    }
   ],
   "source": [
    "# Here is out distribution\n",
    "y_dist = torch.distributions.Normal(loc=2, scale=3)\n",
    "# We can sample from it. Lets see the predictions:\n",
    "n = y_dist.sample_n(1000).numpy()\n",
    "\n",
    "# We can also get the probability of an answer being sampled from the distribution\n",
    "y_dist.log_prob(2).exp() # log and exp cancel out\n",
    "\n",
    "plt.figure(figsize=(10, 5))\n",
    "plt.title('Likihood illustration')\n",
    "plt.hist(n, bins=25, label='pred')\n",
    "for y_true in [-10, -5, -3, -1, 2]:\n",
    "    prob = y_dist.log_prob(y_true).exp().numpy()\n",
    "    plt.vlines(x=y_true, ymin=0, ymax=100, color='r', label=f'true')\n",
    "    plt.text(x=y_true, y=90+y_true*2, s=f'{prob: 3.3%}')\n",
    "plt.legend()\n",
    "plt.show()"
   ]
  },
  {
   "cell_type": "markdown",
   "metadata": {},
   "source": [
    " <div class=\"alert alert-success\">\n",
    "  <h2>Exercise Likelihood</h2>\n",
    "\n",
    "  If you have a normal distribution with mean 1 and std 3. What is the liklihood of 2?\n",
    "    \n",
    "    \n",
    "      \n",
    "\n",
    "  <details>\n",
    "  <summary><b>→ Hints</b></summary>\n",
    "\n",
    "  * `y_dist = torch.distributions.Normal(?, ?)`\n",
    "  * `print(y_dist.log_prob(?).exp())`\n",
    "\n",
    "  </details>\n",
    "\n",
    "  <br/>\n",
    "  <br/>\n",
    "  <details>\n",
    "  <summary>\n",
    "    <b>→ Solution</b>\n",
    "  </summary>\n",
    "\n",
    "  ```python\n",
    "  y_dist = torch.distributions.Normal(1, 3)\n",
    "  print(y_dist.log_prob(2).exp())\n",
    "  ```\n",
    "\n",
    "  </details>\n",
    "\n",
    "  </div>"
   ]
  },
  {
   "cell_type": "code",
   "execution_count": null,
   "metadata": {
    "ExecuteTime": {
     "end_time": "2020-10-11T01:10:45.385149Z",
     "start_time": "2020-10-11T01:10:45.377300Z"
    }
   },
   "outputs": [],
   "source": []
  },
  {
   "cell_type": "markdown",
   "metadata": {},
   "source": [
    "## Training"
   ]
  },
  {
   "cell_type": "code",
   "execution_count": 20,
   "metadata": {
    "ExecuteTime": {
     "end_time": "2020-10-11T10:57:06.934767Z",
     "start_time": "2020-10-11T10:57:06.930937Z"
    }
   },
   "outputs": [],
   "source": [
    "def to_numpy(x):\n",
    "    \"\"\"Helper function to avoid repeating code\"\"\"\n",
    "    if isinstance(x, torch.Tensor):\n",
    "        x = x.cpu().detach().numpy()\n",
    "    return x"
   ]
  },
  {
   "cell_type": "code",
   "execution_count": null,
   "metadata": {
    "ExecuteTime": {
     "end_time": "2020-10-11T02:20:18.007472Z",
     "start_time": "2020-10-11T02:20:17.991717Z"
    }
   },
   "outputs": [],
   "source": []
  },
  {
   "cell_type": "code",
   "execution_count": 21,
   "metadata": {
    "ExecuteTime": {
     "end_time": "2020-10-11T10:57:07.468360Z",
     "start_time": "2020-10-11T10:57:07.451562Z"
    }
   },
   "outputs": [],
   "source": [
    "def train_epoch(ds, model, bs=128):\n",
    "    model.train()\n",
    "\n",
    "    training_loss = []\n",
    "\n",
    "    # Put data into a torch loader\n",
    "    load_train = torch.utils.data.dataloader.DataLoader(\n",
    "        ds,\n",
    "        batch_size=bs,\n",
    "        pin_memory=False,\n",
    "        num_workers=num_workers,\n",
    "        shuffle=True,\n",
    "    )\n",
    "\n",
    "    for batch in tqdm(load_train, leave=False, desc='train'):\n",
    "        # make it a pytorch gpu variable\n",
    "        x_past, y_past, x_future, y_future = [d.to(device) for d in batch]\n",
    "\n",
    "        optimizer.zero_grad()\n",
    "        y_dist = model(x_past, y_past, x_future, y_future)\n",
    "        loss = -y_dist.log_prob(y_future).mean()\n",
    "\n",
    "        # Backprop\n",
    "        loss.backward()\n",
    "        optimizer.step()\n",
    "\n",
    "        # Record stats\n",
    "        training_loss.append(loss.item())\n",
    "\n",
    "    return np.mean(training_loss)\n",
    "\n",
    "\n",
    "def test_epoch(ds, model, bs=512):\n",
    "    model.eval()\n",
    "\n",
    "    test_loss = []\n",
    "    load_test = torch.utils.data.dataloader.DataLoader(ds,\n",
    "                                                       batch_size=bs,\n",
    "                                                       pin_memory=False,\n",
    "                                                       num_workers=num_workers)\n",
    "    for batch in tqdm(load_test, leave=False, desc='test'):\n",
    "        x_past, y_past, x_future, y_future = [d.to(device) for d in batch]\n",
    "        with torch.no_grad():\n",
    "            y_dist = model(x_past, y_past, x_future, y_future)\n",
    "            loss = -y_dist.log_prob(y_future).mean()\n",
    "\n",
    "        test_loss.append(loss.item())\n",
    "\n",
    "    return np.mean(test_loss)\n",
    "\n",
    "\n",
    "def training_loop(ds_train, ds_test, model, epochs=1, bs=128):\n",
    "    all_losses = []\n",
    "    try:\n",
    "        test_loss = test_epoch(ds_test, model)\n",
    "        print(f\"Start: Test Loss = {test_loss:.2f}\")\n",
    "        for epoch in tqdm(range(epochs), desc='epochs'):\n",
    "            loss = train_epoch(ds_train, model, bs=bs)\n",
    "            print(f\"Epoch {epoch+1}/{epochs}: Training Loss = {loss:.2f}\")\n",
    "\n",
    "            test_loss = test_epoch(ds_test, model)\n",
    "            print(f\"Epoch {epoch+1}/{epochs}: Test Loss = {test_loss:.2f}\")\n",
    "            print(\"-\" * 50)\n",
    "\n",
    "            all_losses.append([loss, test_loss])\n",
    "\n",
    "    except KeyboardInterrupt:\n",
    "        # This lets you stop manually. and still get the results\n",
    "        pass\n",
    "\n",
    "    # Visualising the results\n",
    "    all_losses = np.array(all_losses)\n",
    "    plt.plot(all_losses[:, 0], label=\"Training\")\n",
    "    plt.plot(all_losses[:, 1], label=\"Test\")\n",
    "    plt.title(\"Loss\")\n",
    "    plt.legend()\n",
    "\n",
    "    return all_losses"
   ]
  },
  {
   "cell_type": "code",
   "execution_count": 22,
   "metadata": {
    "ExecuteTime": {
     "end_time": "2020-10-11T11:02:09.352395Z",
     "start_time": "2020-10-11T10:57:07.669238Z"
    }
   },
   "outputs": [
    {
     "data": {
      "application/vnd.jupyter.widget-view+json": {
       "model_id": "",
       "version_major": 2,
       "version_minor": 0
      },
      "text/plain": [
       "HBox(children=(FloatProgress(value=0.0, description='test', max=15.0, style=ProgressStyle(description_width='i…"
      ]
     },
     "metadata": {},
     "output_type": "display_data"
    },
    {
     "name": "stdout",
     "output_type": "stream",
     "text": [
      "Start: Test Loss = 1.27\n"
     ]
    },
    {
     "data": {
      "application/vnd.jupyter.widget-view+json": {
       "model_id": "a4f870e2670c413f84d0a1737d270f1f",
       "version_major": 2,
       "version_minor": 0
      },
      "text/plain": [
       "HBox(children=(FloatProgress(value=0.0, description='epochs', max=8.0, style=ProgressStyle(description_width='…"
      ]
     },
     "metadata": {},
     "output_type": "display_data"
    },
    {
     "data": {
      "application/vnd.jupyter.widget-view+json": {
       "model_id": "",
       "version_major": 2,
       "version_minor": 0
      },
      "text/plain": [
       "HBox(children=(FloatProgress(value=0.0, description='train', max=485.0, style=ProgressStyle(description_width=…"
      ]
     },
     "metadata": {},
     "output_type": "display_data"
    },
    {
     "name": "stdout",
     "output_type": "stream",
     "text": [
      "Epoch 1/8: Training Loss = 0.83\n"
     ]
    },
    {
     "data": {
      "application/vnd.jupyter.widget-view+json": {
       "model_id": "",
       "version_major": 2,
       "version_minor": 0
      },
      "text/plain": [
       "HBox(children=(FloatProgress(value=0.0, description='test', max=15.0, style=ProgressStyle(description_width='i…"
      ]
     },
     "metadata": {},
     "output_type": "display_data"
    },
    {
     "name": "stdout",
     "output_type": "stream",
     "text": [
      "Epoch 1/8: Test Loss = 0.10\n",
      "--------------------------------------------------\n"
     ]
    },
    {
     "data": {
      "application/vnd.jupyter.widget-view+json": {
       "model_id": "",
       "version_major": 2,
       "version_minor": 0
      },
      "text/plain": [
       "HBox(children=(FloatProgress(value=0.0, description='train', max=485.0, style=ProgressStyle(description_width=…"
      ]
     },
     "metadata": {},
     "output_type": "display_data"
    },
    {
     "name": "stdout",
     "output_type": "stream",
     "text": [
      "Epoch 2/8: Training Loss = 0.45\n"
     ]
    },
    {
     "data": {
      "application/vnd.jupyter.widget-view+json": {
       "model_id": "",
       "version_major": 2,
       "version_minor": 0
      },
      "text/plain": [
       "HBox(children=(FloatProgress(value=0.0, description='test', max=15.0, style=ProgressStyle(description_width='i…"
      ]
     },
     "metadata": {},
     "output_type": "display_data"
    },
    {
     "name": "stdout",
     "output_type": "stream",
     "text": [
      "Epoch 2/8: Test Loss = 0.18\n",
      "--------------------------------------------------\n"
     ]
    },
    {
     "data": {
      "application/vnd.jupyter.widget-view+json": {
       "model_id": "",
       "version_major": 2,
       "version_minor": 0
      },
      "text/plain": [
       "HBox(children=(FloatProgress(value=0.0, description='train', max=485.0, style=ProgressStyle(description_width=…"
      ]
     },
     "metadata": {},
     "output_type": "display_data"
    },
    {
     "name": "stdout",
     "output_type": "stream",
     "text": [
      "Epoch 3/8: Training Loss = 0.42\n"
     ]
    },
    {
     "data": {
      "application/vnd.jupyter.widget-view+json": {
       "model_id": "",
       "version_major": 2,
       "version_minor": 0
      },
      "text/plain": [
       "HBox(children=(FloatProgress(value=0.0, description='test', max=15.0, style=ProgressStyle(description_width='i…"
      ]
     },
     "metadata": {},
     "output_type": "display_data"
    },
    {
     "name": "stdout",
     "output_type": "stream",
     "text": [
      "Epoch 3/8: Test Loss = 0.06\n",
      "--------------------------------------------------\n"
     ]
    },
    {
     "data": {
      "application/vnd.jupyter.widget-view+json": {
       "model_id": "",
       "version_major": 2,
       "version_minor": 0
      },
      "text/plain": [
       "HBox(children=(FloatProgress(value=0.0, description='train', max=485.0, style=ProgressStyle(description_width=…"
      ]
     },
     "metadata": {},
     "output_type": "display_data"
    },
    {
     "name": "stdout",
     "output_type": "stream",
     "text": [
      "Epoch 4/8: Training Loss = 0.32\n"
     ]
    },
    {
     "data": {
      "application/vnd.jupyter.widget-view+json": {
       "model_id": "",
       "version_major": 2,
       "version_minor": 0
      },
      "text/plain": [
       "HBox(children=(FloatProgress(value=0.0, description='test', max=15.0, style=ProgressStyle(description_width='i…"
      ]
     },
     "metadata": {},
     "output_type": "display_data"
    },
    {
     "name": "stdout",
     "output_type": "stream",
     "text": [
      "Epoch 4/8: Test Loss = 0.20\n",
      "--------------------------------------------------\n"
     ]
    },
    {
     "data": {
      "application/vnd.jupyter.widget-view+json": {
       "model_id": "",
       "version_major": 2,
       "version_minor": 0
      },
      "text/plain": [
       "HBox(children=(FloatProgress(value=0.0, description='train', max=485.0, style=ProgressStyle(description_width=…"
      ]
     },
     "metadata": {},
     "output_type": "display_data"
    },
    {
     "name": "stdout",
     "output_type": "stream",
     "text": [
      "Epoch 5/8: Training Loss = 0.33\n"
     ]
    },
    {
     "data": {
      "application/vnd.jupyter.widget-view+json": {
       "model_id": "",
       "version_major": 2,
       "version_minor": 0
      },
      "text/plain": [
       "HBox(children=(FloatProgress(value=0.0, description='test', max=15.0, style=ProgressStyle(description_width='i…"
      ]
     },
     "metadata": {},
     "output_type": "display_data"
    },
    {
     "name": "stdout",
     "output_type": "stream",
     "text": [
      "Epoch 5/8: Test Loss = 0.07\n",
      "--------------------------------------------------\n"
     ]
    },
    {
     "data": {
      "application/vnd.jupyter.widget-view+json": {
       "model_id": "",
       "version_major": 2,
       "version_minor": 0
      },
      "text/plain": [
       "HBox(children=(FloatProgress(value=0.0, description='train', max=485.0, style=ProgressStyle(description_width=…"
      ]
     },
     "metadata": {},
     "output_type": "display_data"
    },
    {
     "name": "stdout",
     "output_type": "stream",
     "text": [
      "Epoch 6/8: Training Loss = 0.31\n"
     ]
    },
    {
     "data": {
      "application/vnd.jupyter.widget-view+json": {
       "model_id": "",
       "version_major": 2,
       "version_minor": 0
      },
      "text/plain": [
       "HBox(children=(FloatProgress(value=0.0, description='test', max=15.0, style=ProgressStyle(description_width='i…"
      ]
     },
     "metadata": {},
     "output_type": "display_data"
    },
    {
     "name": "stdout",
     "output_type": "stream",
     "text": [
      "Epoch 6/8: Test Loss = 0.13\n",
      "--------------------------------------------------\n"
     ]
    },
    {
     "data": {
      "application/vnd.jupyter.widget-view+json": {
       "model_id": "",
       "version_major": 2,
       "version_minor": 0
      },
      "text/plain": [
       "HBox(children=(FloatProgress(value=0.0, description='train', max=485.0, style=ProgressStyle(description_width=…"
      ]
     },
     "metadata": {},
     "output_type": "display_data"
    },
    {
     "name": "stdout",
     "output_type": "stream",
     "text": [
      "Epoch 7/8: Training Loss = 0.26\n"
     ]
    },
    {
     "data": {
      "application/vnd.jupyter.widget-view+json": {
       "model_id": "",
       "version_major": 2,
       "version_minor": 0
      },
      "text/plain": [
       "HBox(children=(FloatProgress(value=0.0, description='test', max=15.0, style=ProgressStyle(description_width='i…"
      ]
     },
     "metadata": {},
     "output_type": "display_data"
    },
    {
     "name": "stdout",
     "output_type": "stream",
     "text": [
      "Epoch 7/8: Test Loss = 0.15\n",
      "--------------------------------------------------\n"
     ]
    },
    {
     "data": {
      "application/vnd.jupyter.widget-view+json": {
       "model_id": "d48e0997a82544c9b7f50d0635f725a6",
       "version_major": 2,
       "version_minor": 0
      },
      "text/plain": [
       "HBox(children=(FloatProgress(value=0.0, description='train', max=485.0, style=ProgressStyle(description_width=…"
      ]
     },
     "metadata": {},
     "output_type": "display_data"
    },
    {
     "name": "stdout",
     "output_type": "stream",
     "text": [
      "\n"
     ]
    },
    {
     "data": {
      "text/plain": [
       "1"
      ]
     },
     "execution_count": 22,
     "metadata": {},
     "output_type": "execute_result"
    },
    {
     "data": {
      "image/png": "[encoded data removed]",
      "text/plain": [
       "<Figure size 432x288 with 1 Axes>"
      ]
     },
     "metadata": {
      "needs_background": "light"
     },
     "output_type": "display_data"
    }
   ],
   "source": [
    "# this might take 1 minute per epoch on a gpu\n",
    "training_loop(ds_train, ds_test, model, epochs=8, bs=batch_size)\n",
    "1"
   ]
  },
  {
   "cell_type": "markdown",
   "metadata": {},
   "source": [
    "## Predict\n",
    "\n",
    "When we generate prediction in a sequence to sequence model we start at a time, then predict N steps into the future. So we have 2 dimensions: source time, target time.\n",
    "\n",
    "But we also care about how far we were predicting into the future, so we have 3 dimensions: source time, target time, time ahead.\n",
    "\n",
    "It's hard to use pandas for data with more than 2 dimensions, so we will use xarray. Xarray has an interface similar to pandas but can have N dimensions."
   ]
  },
  {
   "cell_type": "code",
   "execution_count": 23,
   "metadata": {
    "ExecuteTime": {
     "end_time": "2020-10-11T11:02:09.909097Z",
     "start_time": "2020-10-11T11:02:09.355529Z"
    }
   },
   "outputs": [],
   "source": [
    "import xarray as xr \n",
    "\n",
    "def predict(model, ds_test, batch_size):\n",
    "    load_test = torch.utils.data.dataloader.DataLoader(ds_test, batch_size=batch_size)\n",
    "    xrs = []\n",
    "    for i, batch in enumerate(tqdm(load_test, desc='predict')):\n",
    "        model.eval()\n",
    "        with torch.no_grad():\n",
    "            x_past, y_past, x_future, y_future = [d.to(device) for d in batch]\n",
    "            y_dist = model(x_past, y_past, x_future, y_future)\n",
    "            nll = -y_dist.log_prob(y_future)\n",
    "\n",
    "            # Convert to numpy\n",
    "            mean = to_numpy(y_dist.loc.squeeze(-1))\n",
    "            std = to_numpy(y_dist.scale.squeeze(-1))\n",
    "            nll = to_numpy(nll.squeeze(-1))\n",
    "            y_future = to_numpy(y_future.squeeze(-1))\n",
    "            y_past = to_numpy(y_past.squeeze(-1))    \n",
    "\n",
    "        # Make an xarray.Dataset for the data\n",
    "        bs = y_future.shape[0]\n",
    "        t_source = ds_test.t[i:i+bs].values\n",
    "        t_ahead = pd.timedelta_range(0, periods=ds_test.window_future, freq=freq).values\n",
    "        t_behind = pd.timedelta_range(end=-pd.Timedelta(freq), periods=ds_test.window_past, freq=freq)\n",
    "        xr_out = xr.Dataset(\n",
    "            {\n",
    "                # Format> name: ([dimensions,...], array),\n",
    "                \"y_past\": ([\"t_source\", \"t_behind\",], y_past),\n",
    "                \"nll\": ([\"t_source\", \"t_ahead\",], nll),\n",
    "                \"y_pred\": ([\"t_source\", \"t_ahead\",], mean),\n",
    "                \"y_pred_std\": ([\"t_source\", \"t_ahead\",], std),\n",
    "                \"y_true\": ([\"t_source\", \"t_ahead\",], y_future),\n",
    "            },\n",
    "            coords={\"t_source\": t_source, \"t_ahead\": t_ahead, \"t_behind\": t_behind},\n",
    "        )\n",
    "        xrs.append(xr_out)\n",
    "\n",
    "    # Join all batches\n",
    "    ds_preds = xr.concat(xrs, dim=\"t_source\")\n",
    "    \n",
    "    # undo scaling on y\n",
    "    ds_preds['y_pred_std'].values = ds_preds.y_pred_std * scaler_output.scale_\n",
    "    ds_preds['y_past'].values =  scaler_output.inverse_transform(ds_preds.y_past)\n",
    "    ds_preds['y_pred'].values =  scaler_output.inverse_transform(ds_preds.y_pred)\n",
    "    ds_preds['y_true'].values =  scaler_output.inverse_transform(ds_preds.y_true)\n",
    "    \n",
    "    # Final metric, mean NLL for up to 6 hours ahead\n",
    "    test_NLL = ds_preds.isel(t_ahead=slice(0, 12)).nll.mean().item()\n",
    "    print(f'NLL mean over <=6 hours: {test_NLL:2.4g} (lower is better)')\n",
    "    return ds_preds"
   ]
  },
  {
   "cell_type": "code",
   "execution_count": 24,
   "metadata": {
    "ExecuteTime": {
     "end_time": "2020-10-11T11:02:11.543542Z",
     "start_time": "2020-10-11T11:02:09.911819Z"
    }
   },
   "outputs": [
    {
     "data": {
      "application/vnd.jupyter.widget-view+json": {
       "model_id": "44e80e59ad6942d9b2a6d214e20a5aec",
       "version_major": 2,
       "version_minor": 0
      },
      "text/plain": [
       "HBox(children=(FloatProgress(value=0.0, description='predict', max=20.0, style=ProgressStyle(description_width…"
      ]
     },
     "metadata": {},
     "output_type": "display_data"
    },
    {
     "name": "stdout",
     "output_type": "stream",
     "text": [
      "\n",
      "NLL mean over <=6 hours: 0.09597 (lower is better)\n"
     ]
    }
   ],
   "source": [
    "ds_preds = predict(model, ds_test, batch_size*6)"
   ]
  },
  {
   "cell_type": "code",
   "execution_count": 25,
   "metadata": {
    "ExecuteTime": {
     "end_time": "2020-10-11T11:02:11.662644Z",
     "start_time": "2020-10-11T11:02:11.546145Z"
    }
   },
   "outputs": [
    {
     "data": {
      "text/html": [
       "<div><svg style=\"position: absolute; width: 0; height: 0; overflow: hidden\">\n",
       "<defs>\n",
       "<symbol id=\"icon-database\" viewBox=\"0 0 32 32\">\n",
       "<path d=\"M16 0c-8.837 0-16 2.239-16 5v4c0 2.761 7.163 5 16 5s16-2.239 16-5v-4c0-2.761-7.163-5-16-5z\"></path>\n",
       "<path d=\"M16 17c-8.837 0-16-2.239-16-5v6c0 2.761 7.163 5 16 5s16-2.239 16-5v-6c0 2.761-7.163 5-16 5z\"></path>\n",
       "<path d=\"M16 26c-8.837 0-16-2.239-16-5v6c0 2.761 7.163 5 16 5s16-2.239 16-5v-6c0 2.761-7.163 5-16 5z\"></path>\n",
       "</symbol>\n",
       "<symbol id=\"icon-file-text2\" viewBox=\"0 0 32 32\">\n",
       "<path d=\"M28.681 7.159c-0.694-0.947-1.662-2.053-2.724-3.116s-2.169-2.030-3.116-2.724c-1.612-1.182-2.393-1.319-2.841-1.319h-15.5c-1.378 0-2.5 1.121-2.5 2.5v27c0 1.378 1.122 2.5 2.5 2.5h23c1.378 0 2.5-1.122 2.5-2.5v-19.5c0-0.448-0.137-1.23-1.319-2.841zM24.543 5.457c0.959 0.959 1.712 1.825 2.268 2.543h-4.811v-4.811c0.718 0.556 1.584 1.309 2.543 2.268zM28 29.5c0 0.271-0.229 0.5-0.5 0.5h-23c-0.271 0-0.5-0.229-0.5-0.5v-27c0-0.271 0.229-0.5 0.5-0.5 0 0 15.499-0 15.5 0v7c0 0.552 0.448 1 1 1h7v19.5z\"></path>\n",
       "<path d=\"M23 26h-14c-0.552 0-1-0.448-1-1s0.448-1 1-1h14c0.552 0 1 0.448 1 1s-0.448 1-1 1z\"></path>\n",
       "<path d=\"M23 22h-14c-0.552 0-1-0.448-1-1s0.448-1 1-1h14c0.552 0 1 0.448 1 1s-0.448 1-1 1z\"></path>\n",
       "<path d=\"M23 18h-14c-0.552 0-1-0.448-1-1s0.448-1 1-1h14c0.552 0 1 0.448 1 1s-0.448 1-1 1z\"></path>\n",
       "</symbol>\n",
       "</defs>\n",
       "</svg>\n",
       "<style>/* CSS stylesheet for displaying xarray objects in jupyterlab.\n",
       " *\n",
       " */\n",
       "\n",
       ":root {\n",
       "  --xr-font-color0: var(--jp-content-font-color0, rgba(0, 0, 0, 1));\n",
       "  --xr-font-color2: var(--jp-content-font-color2, rgba(0, 0, 0, 0.54));\n",
       "  --xr-font-color3: var(--jp-content-font-color3, rgba(0, 0, 0, 0.38));\n",
       "  --xr-border-color: var(--jp-border-color2, #e0e0e0);\n",
       "  --xr-disabled-color: var(--jp-layout-color3, #bdbdbd);\n",
       "  --xr-background-color: var(--jp-layout-color0, white);\n",
       "  --xr-background-color-row-even: var(--jp-layout-color1, white);\n",
       "  --xr-background-color-row-odd: var(--jp-layout-color2, #eeeeee);\n",
       "}\n",
       "\n",
       "html[theme=dark],\n",
       "body.vscode-dark {\n",
       "  --xr-font-color0: rgba(255, 255, 255, 1);\n",
       "  --xr-font-color2: rgba(255, 255, 255, 0.54);\n",
       "  --xr-font-color3: rgba(255, 255, 255, 0.38);\n",
       "  --xr-border-color: #1F1F1F;\n",
       "  --xr-disabled-color: #515151;\n",
       "  --xr-background-color: #111111;\n",
       "  --xr-background-color-row-even: #111111;\n",
       "  --xr-background-color-row-odd: #313131;\n",
       "}\n",
       "\n",
       ".xr-wrap {\n",
       "  display: block;\n",
       "  min-width: 300px;\n",
       "  max-width: 700px;\n",
       "}\n",
       "\n",
       ".xr-text-repr-fallback {\n",
       "  /* fallback to plain text repr when CSS is not injected (untrusted notebook) */\n",
       "  display: none;\n",
       "}\n",
       "\n",
       ".xr-header {\n",
       "  padding-top: 6px;\n",
       "  padding-bottom: 6px;\n",
       "  margin-bottom: 4px;\n",
       "  border-bottom: solid 1px var(--xr-border-color);\n",
       "}\n",
       "\n",
       ".xr-header > div,\n",
       ".xr-header > ul {\n",
       "  display: inline;\n",
       "  margin-top: 0;\n",
       "  margin-bottom: 0;\n",
       "}\n",
       "\n",
       ".xr-obj-type,\n",
       ".xr-array-name {\n",
       "  margin-left: 2px;\n",
       "  margin-right: 10px;\n",
       "}\n",
       "\n",
       ".xr-obj-type {\n",
       "  color: var(--xr-font-color2);\n",
       "}\n",
       "\n",
       ".xr-sections {\n",
       "  padding-left: 0 !important;\n",
       "  display: grid;\n",
       "  grid-template-columns: 150px auto auto 1fr 20px 20px;\n",
       "}\n",
       "\n",
       ".xr-section-item {\n",
       "  display: contents;\n",
       "}\n",
       "\n",
       ".xr-section-item input {\n",
       "  display: none;\n",
       "}\n",
       "\n",
       ".xr-section-item input + label {\n",
       "  color: var(--xr-disabled-color);\n",
       "}\n",
       "\n",
       ".xr-section-item input:enabled + label {\n",
       "  cursor: pointer;\n",
       "  color: var(--xr-font-color2);\n",
       "}\n",
       "\n",
       ".xr-section-item input:enabled + label:hover {\n",
       "  color: var(--xr-font-color0);\n",
       "}\n",
       "\n",
       ".xr-section-summary {\n",
       "  grid-column: 1;\n",
       "  color: var(--xr-font-color2);\n",
       "  font-weight: 500;\n",
       "}\n",
       "\n",
       ".xr-section-summary > span {\n",
       "  display: inline-block;\n",
       "  padding-left: 0.5em;\n",
       "}\n",
       "\n",
       ".xr-section-summary-in:disabled + label {\n",
       "  color: var(--xr-font-color2);\n",
       "}\n",
       "\n",
       ".xr-section-summary-in + label:before {\n",
       "  display: inline-block;\n",
       "  content: '►';\n",
       "  font-size: 11px;\n",
       "  width: 15px;\n",
       "  text-align: center;\n",
       "}\n",
       "\n",
       ".xr-section-summary-in:disabled + label:before {\n",
       "  color: var(--xr-disabled-color);\n",
       "}\n",
       "\n",
       ".xr-section-summary-in:checked + label:before {\n",
       "  content: '▼';\n",
       "}\n",
       "\n",
       ".xr-section-summary-in:checked + label > span {\n",
       "  display: none;\n",
       "}\n",
       "\n",
       ".xr-section-summary,\n",
       ".xr-section-inline-details {\n",
       "  padding-top: 4px;\n",
       "  padding-bottom: 4px;\n",
       "}\n",
       "\n",
       ".xr-section-inline-details {\n",
       "  grid-column: 2 / -1;\n",
       "}\n",
       "\n",
       ".xr-section-details {\n",
       "  display: none;\n",
       "  grid-column: 1 / -1;\n",
       "  margin-bottom: 5px;\n",
       "}\n",
       "\n",
       ".xr-section-summary-in:checked ~ .xr-section-details {\n",
       "  display: contents;\n",
       "}\n",
       "\n",
       ".xr-array-wrap {\n",
       "  grid-column: 1 / -1;\n",
       "  display: grid;\n",
       "  grid-template-columns: 20px auto;\n",
       "}\n",
       "\n",
       ".xr-array-wrap > label {\n",
       "  grid-column: 1;\n",
       "  vertical-align: top;\n",
       "}\n",
       "\n",
       ".xr-preview {\n",
       "  color: var(--xr-font-color3);\n",
       "}\n",
       "\n",
       ".xr-array-preview,\n",
       ".xr-array-data {\n",
       "  padding: 0 5px !important;\n",
       "  grid-column: 2;\n",
       "}\n",
       "\n",
       ".xr-array-data,\n",
       ".xr-array-in:checked ~ .xr-array-preview {\n",
       "  display: none;\n",
       "}\n",
       "\n",
       ".xr-array-in:checked ~ .xr-array-data,\n",
       ".xr-array-preview {\n",
       "  display: inline-block;\n",
       "}\n",
       "\n",
       ".xr-dim-list {\n",
       "  display: inline-block !important;\n",
       "  list-style: none;\n",
       "  padding: 0 !important;\n",
       "  margin: 0;\n",
       "}\n",
       "\n",
       ".xr-dim-list li {\n",
       "  display: inline-block;\n",
       "  padding: 0;\n",
       "  margin: 0;\n",
       "}\n",
       "\n",
       ".xr-dim-list:before {\n",
       "  content: '(';\n",
       "}\n",
       "\n",
       ".xr-dim-list:after {\n",
       "  content: ')';\n",
       "}\n",
       "\n",
       ".xr-dim-list li:not(:last-child):after {\n",
       "  content: ',';\n",
       "  padding-right: 5px;\n",
       "}\n",
       "\n",
       ".xr-has-index {\n",
       "  font-weight: bold;\n",
       "}\n",
       "\n",
       ".xr-var-list,\n",
       ".xr-var-item {\n",
       "  display: contents;\n",
       "}\n",
       "\n",
       ".xr-var-item > div,\n",
       ".xr-var-item label,\n",
       ".xr-var-item > .xr-var-name span {\n",
       "  background-color: var(--xr-background-color-row-even);\n",
       "  margin-bottom: 0;\n",
       "}\n",
       "\n",
       ".xr-var-item > .xr-var-name:hover span {\n",
       "  padding-right: 5px;\n",
       "}\n",
       "\n",
       ".xr-var-list > li:nth-child(odd) > div,\n",
       ".xr-var-list > li:nth-child(odd) > label,\n",
       ".xr-var-list > li:nth-child(odd) > .xr-var-name span {\n",
       "  background-color: var(--xr-background-color-row-odd);\n",
       "}\n",
       "\n",
       ".xr-var-name {\n",
       "  grid-column: 1;\n",
       "}\n",
       "\n",
       ".xr-var-dims {\n",
       "  grid-column: 2;\n",
       "}\n",
       "\n",
       ".xr-var-dtype {\n",
       "  grid-column: 3;\n",
       "  text-align: right;\n",
       "  color: var(--xr-font-color2);\n",
       "}\n",
       "\n",
       ".xr-var-preview {\n",
       "  grid-column: 4;\n",
       "}\n",
       "\n",
       ".xr-var-name,\n",
       ".xr-var-dims,\n",
       ".xr-var-dtype,\n",
       ".xr-preview,\n",
       ".xr-attrs dt {\n",
       "  white-space: nowrap;\n",
       "  overflow: hidden;\n",
       "  text-overflow: ellipsis;\n",
       "  padding-right: 10px;\n",
       "}\n",
       "\n",
       ".xr-var-name:hover,\n",
       ".xr-var-dims:hover,\n",
       ".xr-var-dtype:hover,\n",
       ".xr-attrs dt:hover {\n",
       "  overflow: visible;\n",
       "  width: auto;\n",
       "  z-index: 1;\n",
       "}\n",
       "\n",
       ".xr-var-attrs,\n",
       ".xr-var-data {\n",
       "  display: none;\n",
       "  background-color: var(--xr-background-color) !important;\n",
       "  padding-bottom: 5px !important;\n",
       "}\n",
       "\n",
       ".xr-var-attrs-in:checked ~ .xr-var-attrs,\n",
       ".xr-var-data-in:checked ~ .xr-var-data {\n",
       "  display: block;\n",
       "}\n",
       "\n",
       ".xr-var-data > table {\n",
       "  float: right;\n",
       "}\n",
       "\n",
       ".xr-var-name span,\n",
       ".xr-var-data,\n",
       ".xr-attrs {\n",
       "  padding-left: 25px !important;\n",
       "}\n",
       "\n",
       ".xr-attrs,\n",
       ".xr-var-attrs,\n",
       ".xr-var-data {\n",
       "  grid-column: 1 / -1;\n",
       "}\n",
       "\n",
       "dl.xr-attrs {\n",
       "  padding: 0;\n",
       "  margin: 0;\n",
       "  display: grid;\n",
       "  grid-template-columns: 125px auto;\n",
       "}\n",
       "\n",
       ".xr-attrs dt, dd {\n",
       "  padding: 0;\n",
       "  margin: 0;\n",
       "  float: left;\n",
       "  padding-right: 10px;\n",
       "  width: auto;\n",
       "}\n",
       "\n",
       ".xr-attrs dt {\n",
       "  font-weight: normal;\n",
       "  grid-column: 1;\n",
       "}\n",
       "\n",
       ".xr-attrs dt:hover span {\n",
       "  display: inline-block;\n",
       "  background: var(--xr-background-color);\n",
       "  padding-right: 10px;\n",
       "}\n",
       "\n",
       ".xr-attrs dd {\n",
       "  grid-column: 2;\n",
       "  white-space: pre-wrap;\n",
       "  word-break: break-all;\n",
       "}\n",
       "\n",
       ".xr-icon-database,\n",
       ".xr-icon-file-text2 {\n",
       "  display: inline-block;\n",
       "  vertical-align: middle;\n",
       "  width: 1em;\n",
       "  height: 1.5em !important;\n",
       "  stroke-width: 0;\n",
       "  stroke: currentColor;\n",
       "  fill: currentColor;\n",
       "}\n",
       "</style><pre class='xr-text-repr-fallback'>&lt;xarray.Dataset&gt;\n",
       "Dimensions:        (t_ahead: 192, t_behind: 192, t_source: 7461)\n",
       "Coordinates:\n",
       "  * t_source       (t_source) datetime64[ns] 2013-09-17T14:00:00 ... 2013-09-...\n",
       "  * t_ahead        (t_ahead) timedelta64[ns] 00:00:00 ... 3 days 23:30:00\n",
       "  * t_behind       (t_behind) timedelta64[ns] -4 days +00:00:00 ... -1 days +...\n",
       "    t_target       (t_source, t_ahead) datetime64[ns] 2013-09-17T14:00:00 ......\n",
       "    t_past         (t_source, t_behind) datetime64[ns] 2013-09-13T14:00:00 .....\n",
       "    t_ahead_hours  (t_ahead) float64 0.0 0.0 1.0 1.0 2.0 ... 94.0 94.0 95.0 95.0\n",
       "Data variables:\n",
       "    y_past         (t_source, t_behind) float32 0.34478724 ... 0.42559525\n",
       "    nll            (t_source, t_ahead) float32 0.4811635 ... -0.26418364\n",
       "    y_pred         (t_source, t_ahead) float32 0.39915967 ... 0.4406219\n",
       "    y_pred_std     (t_source, t_ahead) float64 0.04404 0.04372 ... 0.06705\n",
       "    y_true         (t_source, t_ahead) float32 0.46641305 ... 0.44257143</pre><div class='xr-wrap' hidden><div class='xr-header'><div class='xr-obj-type'>xarray.Dataset</div></div><ul class='xr-sections'><li class='xr-section-item'><input id='section-0c238417-f224-4805-8a2d-0d522563bdba' class='xr-section-summary-in' type='checkbox' disabled ><label for='section-0c238417-f224-4805-8a2d-0d522563bdba' class='xr-section-summary'  title='Expand/collapse section'>Dimensions:</label><div class='xr-section-inline-details'><ul class='xr-dim-list'><li><span class='xr-has-index'>t_ahead</span>: 192</li><li><span class='xr-has-index'>t_behind</span>: 192</li><li><span class='xr-has-index'>t_source</span>: 7461</li></ul></div><div class='xr-section-details'></div></li><li class='xr-section-item'><input id='section-3f2b90bd-4ebb-431d-8358-dbe09907c76f' class='xr-section-summary-in' type='checkbox'  checked><label for='section-3f2b90bd-4ebb-431d-8358-dbe09907c76f' class='xr-section-summary' >Coordinates: <span>(6)</span></label><div class='xr-section-inline-details'></div><div class='xr-section-details'><ul class='xr-var-list'><li class='xr-var-item'><div class='xr-var-name'><span class='xr-has-index'>t_source</span></div><div class='xr-var-dims'>(t_source)</div><div class='xr-var-dtype'>datetime64[ns]</div><div class='xr-var-preview xr-preview'>2013-09-17T14:00:00 ... 2013-09-...</div><input id='attrs-5fa34d38-9359-40b8-b27a-f74d21bc3e96' class='xr-var-attrs-in' type='checkbox' disabled><label for='attrs-5fa34d38-9359-40b8-b27a-f74d21bc3e96' title='Show/Hide attributes'><svg class='icon xr-icon-file-text2'><use xlink:href='#icon-file-text2'></use></svg></label><input id='data-92d80c35-5472-413f-841e-23609e6b0150' class='xr-var-data-in' type='checkbox'><label for='data-92d80c35-5472-413f-841e-23609e6b0150' title='Show/Hide data repr'><svg class='icon xr-icon-database'><use xlink:href='#icon-database'></use></svg></label><div class='xr-var-attrs'><dl class='xr-attrs'></dl></div><div class='xr-var-data'><pre>array([&#x27;2013-09-17T14:00:00.000000000&#x27;, &#x27;2013-09-17T14:30:00.000000000&#x27;,\n",
       "       &#x27;2013-09-17T15:00:00.000000000&#x27;, ..., &#x27;2013-09-21T08:30:00.000000000&#x27;,\n",
       "       &#x27;2013-09-21T09:00:00.000000000&#x27;, &#x27;2013-09-21T09:30:00.000000000&#x27;],\n",
       "      dtype=&#x27;datetime64[ns]&#x27;)</pre></div></li><li class='xr-var-item'><div class='xr-var-name'><span class='xr-has-index'>t_ahead</span></div><div class='xr-var-dims'>(t_ahead)</div><div class='xr-var-dtype'>timedelta64[ns]</div><div class='xr-var-preview xr-preview'>00:00:00 ... 3 days 23:30:00</div><input id='attrs-69ebb898-9f41-4fe7-a29a-73061ad9ee0d' class='xr-var-attrs-in' type='checkbox' disabled><label for='attrs-69ebb898-9f41-4fe7-a29a-73061ad9ee0d' title='Show/Hide attributes'><svg class='icon xr-icon-file-text2'><use xlink:href='#icon-file-text2'></use></svg></label><input id='data-5ea848d6-9639-4217-9e03-59278cacdd60' class='xr-var-data-in' type='checkbox'><label for='data-5ea848d6-9639-4217-9e03-59278cacdd60' title='Show/Hide data repr'><svg class='icon xr-icon-database'><use xlink:href='#icon-database'></use></svg></label><div class='xr-var-attrs'><dl class='xr-attrs'></dl></div><div class='xr-var-data'><pre>array([              0,   1800000000000,   3600000000000,   5400000000000,\n",
       "         7200000000000,   9000000000000,  10800000000000,  12600000000000,\n",
       "        14400000000000,  16200000000000,  18000000000000,  19800000000000,\n",
       "        21600000000000,  23400000000000,  25200000000000,  27000000000000,\n",
       "        28800000000000,  30600000000000,  32400000000000,  34200000000000,\n",
       "        36000000000000,  37800000000000,  39600000000000,  41400000000000,\n",
       "        43200000000000,  45000000000000,  46800000000000,  48600000000000,\n",
       "        50400000000000,  52200000000000,  54000000000000,  55800000000000,\n",
       "        57600000000000,  59400000000000,  61200000000000,  63000000000000,\n",
       "        64800000000000,  66600000000000,  68400000000000,  70200000000000,\n",
       "        72000000000000,  73800000000000,  75600000000000,  77400000000000,\n",
       "        79200000000000,  81000000000000,  82800000000000,  84600000000000,\n",
       "        86400000000000,  88200000000000,  90000000000000,  91800000000000,\n",
       "        93600000000000,  95400000000000,  97200000000000,  99000000000000,\n",
       "       100800000000000, 102600000000000, 104400000000000, 106200000000000,\n",
       "       108000000000000, 109800000000000, 111600000000000, 113400000000000,\n",
       "       115200000000000, 117000000000000, 118800000000000, 120600000000000,\n",
       "       122400000000000, 124200000000000, 126000000000000, 127800000000000,\n",
       "       129600000000000, 131400000000000, 133200000000000, 135000000000000,\n",
       "       136800000000000, 138600000000000, 140400000000000, 142200000000000,\n",
       "       144000000000000, 145800000000000, 147600000000000, 149400000000000,\n",
       "       151200000000000, 153000000000000, 154800000000000, 156600000000000,\n",
       "       158400000000000, 160200000000000, 162000000000000, 163800000000000,\n",
       "       165600000000000, 167400000000000, 169200000000000, 171000000000000,\n",
       "       172800000000000, 174600000000000, 176400000000000, 178200000000000,\n",
       "       180000000000000, 181800000000000, 183600000000000, 185400000000000,\n",
       "       187200000000000, 189000000000000, 190800000000000, 192600000000000,\n",
       "       194400000000000, 196200000000000, 198000000000000, 199800000000000,\n",
       "       201600000000000, 203400000000000, 205200000000000, 207000000000000,\n",
       "       208800000000000, 210600000000000, 212400000000000, 214200000000000,\n",
       "       216000000000000, 217800000000000, 219600000000000, 221400000000000,\n",
       "       223200000000000, 225000000000000, 226800000000000, 228600000000000,\n",
       "       230400000000000, 232200000000000, 234000000000000, 235800000000000,\n",
       "       237600000000000, 239400000000000, 241200000000000, 243000000000000,\n",
       "       244800000000000, 246600000000000, 248400000000000, 250200000000000,\n",
       "       252000000000000, 253800000000000, 255600000000000, 257400000000000,\n",
       "       259200000000000, 261000000000000, 262800000000000, 264600000000000,\n",
       "       266400000000000, 268200000000000, 270000000000000, 271800000000000,\n",
       "       273600000000000, 275400000000000, 277200000000000, 279000000000000,\n",
       "       280800000000000, 282600000000000, 284400000000000, 286200000000000,\n",
       "       288000000000000, 289800000000000, 291600000000000, 293400000000000,\n",
       "       295200000000000, 297000000000000, 298800000000000, 300600000000000,\n",
       "       302400000000000, 304200000000000, 306000000000000, 307800000000000,\n",
       "       309600000000000, 311400000000000, 313200000000000, 315000000000000,\n",
       "       316800000000000, 318600000000000, 320400000000000, 322200000000000,\n",
       "       324000000000000, 325800000000000, 327600000000000, 329400000000000,\n",
       "       331200000000000, 333000000000000, 334800000000000, 336600000000000,\n",
       "       338400000000000, 340200000000000, 342000000000000, 343800000000000],\n",
       "      dtype=&#x27;timedelta64[ns]&#x27;)</pre></div></li><li class='xr-var-item'><div class='xr-var-name'><span class='xr-has-index'>t_behind</span></div><div class='xr-var-dims'>(t_behind)</div><div class='xr-var-dtype'>timedelta64[ns]</div><div class='xr-var-preview xr-preview'>-4 days +00:00:00 ... -1 days +2...</div><input id='attrs-de516506-2f84-4b90-9a8e-5fa3d6d9753e' class='xr-var-attrs-in' type='checkbox' disabled><label for='attrs-de516506-2f84-4b90-9a8e-5fa3d6d9753e' title='Show/Hide attributes'><svg class='icon xr-icon-file-text2'><use xlink:href='#icon-file-text2'></use></svg></label><input id='data-f8c5e92c-9814-4005-b11a-ba4f66e3f6c6' class='xr-var-data-in' type='checkbox'><label for='data-f8c5e92c-9814-4005-b11a-ba4f66e3f6c6' title='Show/Hide data repr'><svg class='icon xr-icon-database'><use xlink:href='#icon-database'></use></svg></label><div class='xr-var-attrs'><dl class='xr-attrs'></dl></div><div class='xr-var-data'><pre>array([-345600000000000, -343800000000000, -342000000000000, -340200000000000,\n",
       "       -338400000000000, -336600000000000, -334800000000000, -333000000000000,\n",
       "       -331200000000000, -329400000000000, -327600000000000, -325800000000000,\n",
       "       -324000000000000, -322200000000000, -320400000000000, -318600000000000,\n",
       "       -316800000000000, -315000000000000, -313200000000000, -311400000000000,\n",
       "       -309600000000000, -307800000000000, -306000000000000, -304200000000000,\n",
       "       -302400000000000, -300600000000000, -298800000000000, -297000000000000,\n",
       "       -295200000000000, -293400000000000, -291600000000000, -289800000000000,\n",
       "       -288000000000000, -286200000000000, -284400000000000, -282600000000000,\n",
       "       -280800000000000, -279000000000000, -277200000000000, -275400000000000,\n",
       "       -273600000000000, -271800000000000, -270000000000000, -268200000000000,\n",
       "       -266400000000000, -264600000000000, -262800000000000, -261000000000000,\n",
       "       -259200000000000, -257400000000000, -255600000000000, -253800000000000,\n",
       "       -252000000000000, -250200000000000, -248400000000000, -246600000000000,\n",
       "       -244800000000000, -243000000000000, -241200000000000, -239400000000000,\n",
       "       -237600000000000, -235800000000000, -234000000000000, -232200000000000,\n",
       "       -230400000000000, -228600000000000, -226800000000000, -225000000000000,\n",
       "       -223200000000000, -221400000000000, -219600000000000, -217800000000000,\n",
       "       -216000000000000, -214200000000000, -212400000000000, -210600000000000,\n",
       "       -208800000000000, -207000000000000, -205200000000000, -203400000000000,\n",
       "       -201600000000000, -199800000000000, -198000000000000, -196200000000000,\n",
       "       -194400000000000, -192600000000000, -190800000000000, -189000000000000,\n",
       "       -187200000000000, -185400000000000, -183600000000000, -181800000000000,\n",
       "       -180000000000000, -178200000000000, -176400000000000, -174600000000000,\n",
       "       -172800000000000, -171000000000000, -169200000000000, -167400000000000,\n",
       "       -165600000000000, -163800000000000, -162000000000000, -160200000000000,\n",
       "       -158400000000000, -156600000000000, -154800000000000, -153000000000000,\n",
       "       -151200000000000, -149400000000000, -147600000000000, -145800000000000,\n",
       "       -144000000000000, -142200000000000, -140400000000000, -138600000000000,\n",
       "       -136800000000000, -135000000000000, -133200000000000, -131400000000000,\n",
       "       -129600000000000, -127800000000000, -126000000000000, -124200000000000,\n",
       "       -122400000000000, -120600000000000, -118800000000000, -117000000000000,\n",
       "       -115200000000000, -113400000000000, -111600000000000, -109800000000000,\n",
       "       -108000000000000, -106200000000000, -104400000000000, -102600000000000,\n",
       "       -100800000000000,  -99000000000000,  -97200000000000,  -95400000000000,\n",
       "        -93600000000000,  -91800000000000,  -90000000000000,  -88200000000000,\n",
       "        -86400000000000,  -84600000000000,  -82800000000000,  -81000000000000,\n",
       "        -79200000000000,  -77400000000000,  -75600000000000,  -73800000000000,\n",
       "        -72000000000000,  -70200000000000,  -68400000000000,  -66600000000000,\n",
       "        -64800000000000,  -63000000000000,  -61200000000000,  -59400000000000,\n",
       "        -57600000000000,  -55800000000000,  -54000000000000,  -52200000000000,\n",
       "        -50400000000000,  -48600000000000,  -46800000000000,  -45000000000000,\n",
       "        -43200000000000,  -41400000000000,  -39600000000000,  -37800000000000,\n",
       "        -36000000000000,  -34200000000000,  -32400000000000,  -30600000000000,\n",
       "        -28800000000000,  -27000000000000,  -25200000000000,  -23400000000000,\n",
       "        -21600000000000,  -19800000000000,  -18000000000000,  -16200000000000,\n",
       "        -14400000000000,  -12600000000000,  -10800000000000,   -9000000000000,\n",
       "         -7200000000000,   -5400000000000,   -3600000000000,   -1800000000000],\n",
       "      dtype=&#x27;timedelta64[ns]&#x27;)</pre></div></li><li class='xr-var-item'><div class='xr-var-name'><span>t_target</span></div><div class='xr-var-dims'>(t_source, t_ahead)</div><div class='xr-var-dtype'>datetime64[ns]</div><div class='xr-var-preview xr-preview'>2013-09-17T14:00:00 ... 2013-09-...</div><input id='attrs-c7738813-6d9f-46dc-909b-7389d97b669f' class='xr-var-attrs-in' type='checkbox' disabled><label for='attrs-c7738813-6d9f-46dc-909b-7389d97b669f' title='Show/Hide attributes'><svg class='icon xr-icon-file-text2'><use xlink:href='#icon-file-text2'></use></svg></label><input id='data-bc07521c-0f25-43f5-992f-cc957620b41b' class='xr-var-data-in' type='checkbox'><label for='data-bc07521c-0f25-43f5-992f-cc957620b41b' title='Show/Hide data repr'><svg class='icon xr-icon-database'><use xlink:href='#icon-database'></use></svg></label><div class='xr-var-attrs'><dl class='xr-attrs'></dl></div><div class='xr-var-data'><pre>array([[&#x27;2013-09-17T14:00:00.000000000&#x27;, &#x27;2013-09-17T14:30:00.000000000&#x27;,\n",
       "        &#x27;2013-09-17T15:00:00.000000000&#x27;, ...,\n",
       "        &#x27;2013-09-21T12:30:00.000000000&#x27;, &#x27;2013-09-21T13:00:00.000000000&#x27;,\n",
       "        &#x27;2013-09-21T13:30:00.000000000&#x27;],\n",
       "       [&#x27;2013-09-17T14:30:00.000000000&#x27;, &#x27;2013-09-17T15:00:00.000000000&#x27;,\n",
       "        &#x27;2013-09-17T15:30:00.000000000&#x27;, ...,\n",
       "        &#x27;2013-09-21T13:00:00.000000000&#x27;, &#x27;2013-09-21T13:30:00.000000000&#x27;,\n",
       "        &#x27;2013-09-21T14:00:00.000000000&#x27;],\n",
       "       [&#x27;2013-09-17T15:00:00.000000000&#x27;, &#x27;2013-09-17T15:30:00.000000000&#x27;,\n",
       "        &#x27;2013-09-17T16:00:00.000000000&#x27;, ...,\n",
       "        &#x27;2013-09-21T13:30:00.000000000&#x27;, &#x27;2013-09-21T14:00:00.000000000&#x27;,\n",
       "        &#x27;2013-09-21T14:30:00.000000000&#x27;],\n",
       "       ...,\n",
       "       [&#x27;2013-09-21T08:30:00.000000000&#x27;, &#x27;2013-09-21T09:00:00.000000000&#x27;,\n",
       "        &#x27;2013-09-21T09:30:00.000000000&#x27;, ...,\n",
       "        &#x27;2013-09-25T07:00:00.000000000&#x27;, &#x27;2013-09-25T07:30:00.000000000&#x27;,\n",
       "        &#x27;2013-09-25T08:00:00.000000000&#x27;],\n",
       "       [&#x27;2013-09-21T09:00:00.000000000&#x27;, &#x27;2013-09-21T09:30:00.000000000&#x27;,\n",
       "        &#x27;2013-09-21T10:00:00.000000000&#x27;, ...,\n",
       "        &#x27;2013-09-25T07:30:00.000000000&#x27;, &#x27;2013-09-25T08:00:00.000000000&#x27;,\n",
       "        &#x27;2013-09-25T08:30:00.000000000&#x27;],\n",
       "       [&#x27;2013-09-21T09:30:00.000000000&#x27;, &#x27;2013-09-21T10:00:00.000000000&#x27;,\n",
       "        &#x27;2013-09-21T10:30:00.000000000&#x27;, ...,\n",
       "        &#x27;2013-09-25T08:00:00.000000000&#x27;, &#x27;2013-09-25T08:30:00.000000000&#x27;,\n",
       "        &#x27;2013-09-25T09:00:00.000000000&#x27;]], dtype=&#x27;datetime64[ns]&#x27;)</pre></div></li><li class='xr-var-item'><div class='xr-var-name'><span>t_past</span></div><div class='xr-var-dims'>(t_source, t_behind)</div><div class='xr-var-dtype'>datetime64[ns]</div><div class='xr-var-preview xr-preview'>2013-09-13T14:00:00 ... 2013-09-...</div><input id='attrs-36142117-2046-40e0-b664-f8128ad29158' class='xr-var-attrs-in' type='checkbox' disabled><label for='attrs-36142117-2046-40e0-b664-f8128ad29158' title='Show/Hide attributes'><svg class='icon xr-icon-file-text2'><use xlink:href='#icon-file-text2'></use></svg></label><input id='data-addc6dec-dbff-48f4-a03e-7f8b330d5a5c' class='xr-var-data-in' type='checkbox'><label for='data-addc6dec-dbff-48f4-a03e-7f8b330d5a5c' title='Show/Hide data repr'><svg class='icon xr-icon-database'><use xlink:href='#icon-database'></use></svg></label><div class='xr-var-attrs'><dl class='xr-attrs'></dl></div><div class='xr-var-data'><pre>array([[&#x27;2013-09-13T14:00:00.000000000&#x27;, &#x27;2013-09-13T14:30:00.000000000&#x27;,\n",
       "        &#x27;2013-09-13T15:00:00.000000000&#x27;, ...,\n",
       "        &#x27;2013-09-17T12:30:00.000000000&#x27;, &#x27;2013-09-17T13:00:00.000000000&#x27;,\n",
       "        &#x27;2013-09-17T13:30:00.000000000&#x27;],\n",
       "       [&#x27;2013-09-13T14:30:00.000000000&#x27;, &#x27;2013-09-13T15:00:00.000000000&#x27;,\n",
       "        &#x27;2013-09-13T15:30:00.000000000&#x27;, ...,\n",
       "        &#x27;2013-09-17T13:00:00.000000000&#x27;, &#x27;2013-09-17T13:30:00.000000000&#x27;,\n",
       "        &#x27;2013-09-17T14:00:00.000000000&#x27;],\n",
       "       [&#x27;2013-09-13T15:00:00.000000000&#x27;, &#x27;2013-09-13T15:30:00.000000000&#x27;,\n",
       "        &#x27;2013-09-13T16:00:00.000000000&#x27;, ...,\n",
       "        &#x27;2013-09-17T13:30:00.000000000&#x27;, &#x27;2013-09-17T14:00:00.000000000&#x27;,\n",
       "        &#x27;2013-09-17T14:30:00.000000000&#x27;],\n",
       "       ...,\n",
       "       [&#x27;2013-09-17T08:30:00.000000000&#x27;, &#x27;2013-09-17T09:00:00.000000000&#x27;,\n",
       "        &#x27;2013-09-17T09:30:00.000000000&#x27;, ...,\n",
       "        &#x27;2013-09-21T07:00:00.000000000&#x27;, &#x27;2013-09-21T07:30:00.000000000&#x27;,\n",
       "        &#x27;2013-09-21T08:00:00.000000000&#x27;],\n",
       "       [&#x27;2013-09-17T09:00:00.000000000&#x27;, &#x27;2013-09-17T09:30:00.000000000&#x27;,\n",
       "        &#x27;2013-09-17T10:00:00.000000000&#x27;, ...,\n",
       "        &#x27;2013-09-21T07:30:00.000000000&#x27;, &#x27;2013-09-21T08:00:00.000000000&#x27;,\n",
       "        &#x27;2013-09-21T08:30:00.000000000&#x27;],\n",
       "       [&#x27;2013-09-17T09:30:00.000000000&#x27;, &#x27;2013-09-17T10:00:00.000000000&#x27;,\n",
       "        &#x27;2013-09-17T10:30:00.000000000&#x27;, ...,\n",
       "        &#x27;2013-09-21T08:00:00.000000000&#x27;, &#x27;2013-09-21T08:30:00.000000000&#x27;,\n",
       "        &#x27;2013-09-21T09:00:00.000000000&#x27;]], dtype=&#x27;datetime64[ns]&#x27;)</pre></div></li><li class='xr-var-item'><div class='xr-var-name'><span>t_ahead_hours</span></div><div class='xr-var-dims'>(t_ahead)</div><div class='xr-var-dtype'>float64</div><div class='xr-var-preview xr-preview'>0.0 0.0 1.0 1.0 ... 94.0 95.0 95.0</div><input id='attrs-677e7048-732a-4505-a787-d1ecfd14b987' class='xr-var-attrs-in' type='checkbox' disabled><label for='attrs-677e7048-732a-4505-a787-d1ecfd14b987' title='Show/Hide attributes'><svg class='icon xr-icon-file-text2'><use xlink:href='#icon-file-text2'></use></svg></label><input id='data-bbc40bb0-d585-41fa-b93a-9454bce40229' class='xr-var-data-in' type='checkbox'><label for='data-bbc40bb0-d585-41fa-b93a-9454bce40229' title='Show/Hide data repr'><svg class='icon xr-icon-database'><use xlink:href='#icon-database'></use></svg></label><div class='xr-var-attrs'><dl class='xr-attrs'></dl></div><div class='xr-var-data'><pre>array([ 0.,  0.,  1.,  1.,  2.,  2.,  3.,  3.,  4.,  4.,  5.,  5.,  6.,\n",
       "        6.,  7.,  7.,  8.,  8.,  9.,  9., 10., 10., 11., 11., 12., 12.,\n",
       "       13., 13., 14., 14., 15., 15., 16., 16., 17., 17., 18., 18., 19.,\n",
       "       19., 20., 20., 21., 21., 22., 22., 23., 23., 24., 24., 25., 25.,\n",
       "       26., 26., 27., 27., 28., 28., 29., 29., 30., 30., 31., 31., 32.,\n",
       "       32., 33., 33., 34., 34., 35., 35., 36., 36., 37., 37., 38., 38.,\n",
       "       39., 39., 40., 40., 41., 41., 42., 42., 43., 43., 44., 44., 45.,\n",
       "       45., 46., 46., 47., 47., 48., 48., 49., 49., 50., 50., 51., 51.,\n",
       "       52., 52., 53., 53., 54., 54., 55., 55., 56., 56., 57., 57., 58.,\n",
       "       58., 59., 59., 60., 60., 61., 61., 62., 62., 63., 63., 64., 64.,\n",
       "       65., 65., 66., 66., 67., 67., 68., 68., 69., 69., 70., 70., 71.,\n",
       "       71., 72., 72., 73., 73., 74., 74., 75., 75., 76., 76., 77., 77.,\n",
       "       78., 78., 79., 79., 80., 80., 81., 81., 82., 82., 83., 83., 84.,\n",
       "       84., 85., 85., 86., 86., 87., 87., 88., 88., 89., 89., 90., 90.,\n",
       "       91., 91., 92., 92., 93., 93., 94., 94., 95., 95.])</pre></div></li></ul></div></li><li class='xr-section-item'><input id='section-c0ba88a8-83f8-4111-ada9-c1ed2e7dc2be' class='xr-section-summary-in' type='checkbox'  checked><label for='section-c0ba88a8-83f8-4111-ada9-c1ed2e7dc2be' class='xr-section-summary' >Data variables: <span>(5)</span></label><div class='xr-section-inline-details'></div><div class='xr-section-details'><ul class='xr-var-list'><li class='xr-var-item'><div class='xr-var-name'><span>y_past</span></div><div class='xr-var-dims'>(t_source, t_behind)</div><div class='xr-var-dtype'>float32</div><div class='xr-var-preview xr-preview'>0.34478724 ... 0.42559525</div><input id='attrs-48dfc966-3342-42b4-93d8-e874d31c9461' class='xr-var-attrs-in' type='checkbox' disabled><label for='attrs-48dfc966-3342-42b4-93d8-e874d31c9461' title='Show/Hide attributes'><svg class='icon xr-icon-file-text2'><use xlink:href='#icon-file-text2'></use></svg></label><input id='data-42f8f22a-206e-426c-a0fb-1f408ce4eaf2' class='xr-var-data-in' type='checkbox'><label for='data-42f8f22a-206e-426c-a0fb-1f408ce4eaf2' title='Show/Hide data repr'><svg class='icon xr-icon-database'><use xlink:href='#icon-database'></use></svg></label><div class='xr-var-attrs'><dl class='xr-attrs'></dl></div><div class='xr-var-data'><pre>array([[0.34478724, 0.35642552, 0.36070213, ..., 0.3688913 , 0.38763043,\n",
       "        0.37802175],\n",
       "       [0.35642552, 0.36070213, 0.33378723, ..., 0.38763043, 0.37802175,\n",
       "        0.46641305],\n",
       "       [0.36070213, 0.33378723, 0.3802553 , ..., 0.37802175, 0.46641305,\n",
       "        0.4613913 ],\n",
       "       ...,\n",
       "       [0.48439535, 0.4035349 , 0.2892093 , ..., 0.63783336, 0.7064286 ,\n",
       "        0.5955476 ],\n",
       "       [0.4035349 , 0.2892093 , 0.2788372 , ..., 0.7064286 , 0.5955476 ,\n",
       "        0.44709525],\n",
       "       [0.2892093 , 0.2788372 , 0.28755814, ..., 0.5955476 , 0.44709525,\n",
       "        0.42559525]], dtype=float32)</pre></div></li><li class='xr-var-item'><div class='xr-var-name'><span>nll</span></div><div class='xr-var-dims'>(t_source, t_ahead)</div><div class='xr-var-dtype'>float32</div><div class='xr-var-preview xr-preview'>0.4811635 ... -0.26418364</div><input id='attrs-9aebe1d9-5a58-4b59-af1e-1242e3f4567c' class='xr-var-attrs-in' type='checkbox' disabled><label for='attrs-9aebe1d9-5a58-4b59-af1e-1242e3f4567c' title='Show/Hide attributes'><svg class='icon xr-icon-file-text2'><use xlink:href='#icon-file-text2'></use></svg></label><input id='data-f2327a4f-2d73-4ec9-a410-502dd6ab547e' class='xr-var-data-in' type='checkbox'><label for='data-f2327a4f-2d73-4ec9-a410-502dd6ab547e' title='Show/Hide data repr'><svg class='icon xr-icon-database'><use xlink:href='#icon-database'></use></svg></label><div class='xr-var-attrs'><dl class='xr-attrs'></dl></div><div class='xr-var-data'><pre>array([[ 0.4811635 ,  0.42480052, -0.6300602 , ...,  0.3413955 ,\n",
       "         1.9772846 ,  0.150496  ],\n",
       "       [-0.14486027, -0.5012256 , -0.52454865, ...,  2.0219655 ,\n",
       "         0.18210459,  1.4224399 ],\n",
       "       [-0.17290866, -0.36061275, -0.0468756 , ...,  0.17795575,\n",
       "         1.4165425 ,  0.04167783],\n",
       "       ...,\n",
       "       [ 0.18067932, -0.2901914 , -0.1263206 , ..., -0.31996548,\n",
       "         0.20850474,  0.98635066],\n",
       "       [ 0.05589932, -0.39409316,  0.9730953 , ...,  0.19511038,\n",
       "         0.8826847 ,  0.04325378],\n",
       "       [-0.48566675,  0.64664865,  1.4173292 , ...,  0.718758  ,\n",
       "        -0.03885388, -0.26418364]], dtype=float32)</pre></div></li><li class='xr-var-item'><div class='xr-var-name'><span>y_pred</span></div><div class='xr-var-dims'>(t_source, t_ahead)</div><div class='xr-var-dtype'>float32</div><div class='xr-var-preview xr-preview'>0.39915967 0.39604387 ... 0.4406219</div><input id='attrs-1b2cb5bb-222c-4b83-b164-0b811f6e83ac' class='xr-var-attrs-in' type='checkbox' disabled><label for='attrs-1b2cb5bb-222c-4b83-b164-0b811f6e83ac' title='Show/Hide attributes'><svg class='icon xr-icon-file-text2'><use xlink:href='#icon-file-text2'></use></svg></label><input id='data-4eeb7432-2c9c-4ee8-be00-a4f150e77cc4' class='xr-var-data-in' type='checkbox'><label for='data-4eeb7432-2c9c-4ee8-be00-a4f150e77cc4' title='Show/Hide data repr'><svg class='icon xr-icon-database'><use xlink:href='#icon-database'></use></svg></label><div class='xr-var-attrs'><dl class='xr-attrs'></dl></div><div class='xr-var-data'><pre>array([[0.39915967, 0.39604387, 0.39427644, ..., 0.34928963, 0.34547558,\n",
       "        0.34342968],\n",
       "       [0.41556203, 0.41070288, 0.4129912 , ..., 0.34632754, 0.34424052,\n",
       "        0.34255713],\n",
       "       [0.43122843, 0.4306855 , 0.43051592, ..., 0.34412974, 0.3424234 ,\n",
       "        0.345708  ],\n",
       "       ...,\n",
       "       [0.5092936 , 0.43061727, 0.33515006, ..., 0.66642237, 0.613157  ,\n",
       "        0.5495886 ],\n",
       "       [0.4792067 , 0.35560718, 0.280221  , ..., 0.6140604 , 0.5523728 ,\n",
       "        0.4911341 ],\n",
       "       [0.38628143, 0.28513035, 0.25171283, ..., 0.55784625, 0.5001565 ,\n",
       "        0.4406219 ]], dtype=float32)</pre></div></li><li class='xr-var-item'><div class='xr-var-name'><span>y_pred_std</span></div><div class='xr-var-dims'>(t_source, t_ahead)</div><div class='xr-var-dtype'>float64</div><div class='xr-var-preview xr-preview'>0.04404 0.04372 ... 0.06708 0.06705</div><input id='attrs-79a3e1b5-399b-4a69-ab7c-91d2386b80ce' class='xr-var-attrs-in' type='checkbox' disabled><label for='attrs-79a3e1b5-399b-4a69-ab7c-91d2386b80ce' title='Show/Hide attributes'><svg class='icon xr-icon-file-text2'><use xlink:href='#icon-file-text2'></use></svg></label><input id='data-6a033d9c-a59d-4060-ba33-f8015084d715' class='xr-var-data-in' type='checkbox'><label for='data-6a033d9c-a59d-4060-ba33-f8015084d715' title='Show/Hide data repr'><svg class='icon xr-icon-database'><use xlink:href='#icon-database'></use></svg></label><div class='xr-var-attrs'><dl class='xr-attrs'></dl></div><div class='xr-var-data'><pre>array([[0.04403544, 0.04371839, 0.04598843, ..., 0.03799878, 0.03539199,\n",
       "        0.03416502],\n",
       "       [0.04663819, 0.04664564, 0.0499321 , ..., 0.03548961, 0.03426702,\n",
       "        0.03339754],\n",
       "       [0.04966827, 0.05054267, 0.05369781, ..., 0.03424804, 0.03337231,\n",
       "        0.03428287],\n",
       "       ...,\n",
       "       [0.07227182, 0.06516515, 0.04808651, ..., 0.06035801, 0.06489231,\n",
       "        0.06337953],\n",
       "       [0.06721438, 0.05184645, 0.03734122, ..., 0.06594639, 0.06490071,\n",
       "        0.06349072],\n",
       "       [0.05356707, 0.03891621, 0.03169011, ..., 0.06732977, 0.0670791 ,\n",
       "        0.06705275]])</pre></div></li><li class='xr-var-item'><div class='xr-var-name'><span>y_true</span></div><div class='xr-var-dims'>(t_source, t_ahead)</div><div class='xr-var-dtype'>float32</div><div class='xr-var-preview xr-preview'>0.46641305 0.4613913 ... 0.44257143</div><input id='attrs-681d46fd-ddf5-48c5-a1ab-84025c15b0b2' class='xr-var-attrs-in' type='checkbox' disabled><label for='attrs-681d46fd-ddf5-48c5-a1ab-84025c15b0b2' title='Show/Hide attributes'><svg class='icon xr-icon-file-text2'><use xlink:href='#icon-file-text2'></use></svg></label><input id='data-5a56e267-27c5-4773-b6a1-81a3f4622f73' class='xr-var-data-in' type='checkbox'><label for='data-5a56e267-27c5-4773-b6a1-81a3f4622f73' title='Show/Hide data repr'><svg class='icon xr-icon-database'><use xlink:href='#icon-database'></use></svg></label><div class='xr-var-attrs'><dl class='xr-attrs'></dl></div><div class='xr-var-data'><pre>array([[0.46641305, 0.4613913 , 0.38726085, ..., 0.29106522, 0.26052174,\n",
       "        0.293     ],\n",
       "       [0.4613913 , 0.38726085, 0.39980435, ..., 0.26052174, 0.293     ,\n",
       "        0.26963043],\n",
       "       [0.38726085, 0.39980435, 0.38015217, ..., 0.293     , 0.26963043,\n",
       "        0.29778263],\n",
       "       ...,\n",
       "       [0.44709525, 0.42559525, 0.38180953, ..., 0.6854762 , 0.6784286 ,\n",
       "        0.6520714 ],\n",
       "       [0.42559525, 0.38180953, 0.35152382, ..., 0.6784286 , 0.6520714 ,\n",
       "        0.54519045],\n",
       "       [0.38180953, 0.35152382, 0.32159525, ..., 0.6520714 , 0.54519045,\n",
       "        0.44257143]], dtype=float32)</pre></div></li></ul></div></li><li class='xr-section-item'><input id='section-a10b6971-e195-49ab-aa07-e7109907215c' class='xr-section-summary-in' type='checkbox' disabled ><label for='section-a10b6971-e195-49ab-aa07-e7109907215c' class='xr-section-summary'  title='Expand/collapse section'>Attributes: <span>(0)</span></label><div class='xr-section-inline-details'></div><div class='xr-section-details'><dl class='xr-attrs'></dl></div></li></ul></div></div>"
      ],
      "text/plain": [
       "<xarray.Dataset>\n",
       "Dimensions:        (t_ahead: 192, t_behind: 192, t_source: 7461)\n",
       "Coordinates:\n",
       "  * t_source       (t_source) datetime64[ns] 2013-09-17T14:00:00 ... 2013-09-...\n",
       "  * t_ahead        (t_ahead) timedelta64[ns] 00:00:00 ... 3 days 23:30:00\n",
       "  * t_behind       (t_behind) timedelta64[ns] -4 days +00:00:00 ... -1 days +...\n",
       "    t_target       (t_source, t_ahead) datetime64[ns] 2013-09-17T14:00:00 ......\n",
       "    t_past         (t_source, t_behind) datetime64[ns] 2013-09-13T14:00:00 .....\n",
       "    t_ahead_hours  (t_ahead) float64 0.0 0.0 1.0 1.0 2.0 ... 94.0 94.0 95.0 95.0\n",
       "Data variables:\n",
       "    y_past         (t_source, t_behind) float32 0.34478724 ... 0.42559525\n",
       "    nll            (t_source, t_ahead) float32 0.4811635 ... -0.26418364\n",
       "    y_pred         (t_source, t_ahead) float32 0.39915967 ... 0.4406219\n",
       "    y_pred_std     (t_source, t_ahead) float64 0.04404 0.04372 ... 0.06705\n",
       "    y_true         (t_source, t_ahead) float32 0.46641305 ... 0.44257143"
      ]
     },
     "execution_count": 25,
     "metadata": {},
     "output_type": "execute_result"
    }
   ],
   "source": [
    "# Add some derived coordinates, they will be the ones not in bold\n",
    "# The target time, is a function of the source time, and how far we predict ahead\n",
    "ds_preds = ds_preds.assign_coords(t_target=ds_preds.t_source+ds_preds.t_ahead)\n",
    "\n",
    "ds_preds = ds_preds.assign_coords(t_past=ds_preds.t_source+ds_preds.t_behind)\n",
    "\n",
    "# Some plots don't like timedeltas, so lets make a coordinate for time ahead in hours\n",
    "ds_preds = ds_preds.assign_coords(t_ahead_hours=(ds_preds.t_ahead*1.0e-9/60/60).astype(float))\n",
    "\n",
    "ds_preds"
   ]
  },
  {
   "cell_type": "code",
   "execution_count": 35,
   "metadata": {
    "ExecuteTime": {
     "end_time": "2020-10-11T11:04:40.668624Z",
     "start_time": "2020-10-11T11:04:39.888599Z"
    }
   },
   "outputs": [
    {
     "data": {
      "image/png": "[encoded data removed]",
      "text/plain": [
       "<Figure size 432x288 with 1 Axes>"
      ]
     },
     "metadata": {
      "needs_background": "light"
     },
     "output_type": "display_data"
    },
    {
     "data": {
      "image/png": "[encoded data removed]",
      "text/plain": [
       "<Figure size 432x288 with 1 Axes>"
      ]
     },
     "metadata": {
      "needs_background": "light"
     },
     "output_type": "display_data"
    }
   ],
   "source": [
    "def plot_prediction(ds_preds, i):\n",
    "    \"\"\"Plot a prediction into the future, at a single point in time.\"\"\"\n",
    "    d = ds_preds.isel(t_source=i)\n",
    "\n",
    "    # Get arrays\n",
    "    xf = d.t_target\n",
    "    yp = d.y_pred\n",
    "    s = d.y_pred_std\n",
    "    yt = d.y_true\n",
    "    now = d.t_source.squeeze()\n",
    "\n",
    "    # plot prediction\n",
    "    plt.fill_between(xf, yp-2*s, yp+2*s, alpha=0.25,\n",
    "            facecolor=\"b\",\n",
    "            interpolate=True,\n",
    "            label=\"2 std\",)\n",
    "    plt.plot(xf, yp, label='pred', c='b')\n",
    "\n",
    "    # plot true\n",
    "    plt.scatter(\n",
    "        d.t_past,\n",
    "        d.y_past,\n",
    "        c='k',\n",
    "        s=6\n",
    "    )\n",
    "    plt.scatter(xf, yt, label='true', c='k', s=6)\n",
    "    \n",
    "    # plot a red line for now\n",
    "    plt.vlines(x=now, ymin=0, ymax=1, label='now', color='r')\n",
    "\n",
    "    now=pd.Timestamp(now.values)\n",
    "    plt.title(f'Prediction NLL={d.nll.mean().item():2.2g}')\n",
    "    plt.xlabel(f'{now.date()}')\n",
    "    plt.ylabel('energy(kWh/hh)')\n",
    "    plt.legend()\n",
    "    plt.xticks(rotation=45)\n",
    "    plt.show()\n",
    "    \n",
    "# plot_prediction(ds_preds, 0) \n",
    "# plot_prediction(ds_preds, 12) # 6 hours later\n",
    "plot_prediction(ds_preds, 24) # 12 hours later\n",
    "plot_prediction(ds_preds, 48) # 12 hours later"
   ]
  },
  {
   "cell_type": "markdown",
   "metadata": {
    "ExecuteTime": {
     "end_time": "2020-10-10T02:54:21.496689Z",
     "start_time": "2020-10-10T02:53:39.916Z"
    }
   },
   "source": [
    "## Error vs time ahead"
   ]
  },
  {
   "cell_type": "code",
   "execution_count": null,
   "metadata": {
    "ExecuteTime": {
     "end_time": "2020-10-11T10:17:55.322055Z",
     "start_time": "2020-10-11T10:17:55.250658Z"
    }
   },
   "outputs": [],
   "source": []
  },
  {
   "cell_type": "code",
   "execution_count": 28,
   "metadata": {
    "ExecuteTime": {
     "end_time": "2020-10-11T11:02:13.579139Z",
     "start_time": "2020-10-11T11:02:13.325301Z"
    }
   },
   "outputs": [
    {
     "data": {
      "text/plain": [
       "Text(0.5, 1.0, 'NLL vs time (no. samples=7461)')"
      ]
     },
     "execution_count": 28,
     "metadata": {},
     "output_type": "execute_result"
    },
    {
     "data": {
      "image/png": "[encoded data removed]",
      "text/plain": [
       "<Figure size 432x288 with 1 Axes>"
      ]
     },
     "metadata": {
      "needs_background": "light"
     },
     "output_type": "display_data"
    }
   ],
   "source": [
    "d = ds_preds.mean('t_source') # Mean over all predictions\n",
    "\n",
    "# Plot with xarray, it has a pandas like interface\n",
    "d.plot.scatter('t_ahead_hours', 'nll')\n",
    "\n",
    "# Tidy the graph\n",
    "n = len(ds_preds.t_source)\n",
    "plt.ylabel('Negative Log Likelihood (lower is better)')\n",
    "plt.xlabel('Hours ahead')\n",
    "plt.title(f'NLL vs time (no. samples={n})')"
   ]
  },
  {
   "cell_type": "code",
   "execution_count": 29,
   "metadata": {
    "ExecuteTime": {
     "end_time": "2020-10-11T11:02:13.812271Z",
     "start_time": "2020-10-11T11:02:13.581935Z"
    }
   },
   "outputs": [
    {
     "data": {
      "text/plain": [
       "<matplotlib.collections.PathCollection at 0x7f2a6a4950d0>"
      ]
     },
     "execution_count": 29,
     "metadata": {},
     "output_type": "execute_result"
    },
    {
     "data": {
      "image/png": "[encoded data removed]",
      "text/plain": [
       "<Figure size 432x288 with 1 Axes>"
      ]
     },
     "metadata": {
      "needs_background": "light"
     },
     "output_type": "display_data"
    }
   ],
   "source": [
    "d = ds_preds.mean('t_source') # Mean over all predictions\n",
    "d['likelihood'] = np.exp(-d.nll) # get likelihood, after taking mean in log domain\n",
    "d.plot.scatter('t_ahead_hours', 'likelihood')"
   ]
  },
  {
   "cell_type": "code",
   "execution_count": null,
   "metadata": {
    "ExecuteTime": {
     "end_time": "2020-10-11T09:32:13.207661Z",
     "start_time": "2020-10-11T09:32:11.921740Z"
    }
   },
   "outputs": [],
   "source": []
  },
  {
   "cell_type": "markdown",
   "metadata": {},
   "source": [
    " <div class=\"alert alert-success\">\n",
    "  <h2>Exercise Xarray Scatter Plot</h2>\n",
    "\n",
    "  Lets try out xarray. Many people like seeing a plot of y_true vs y_pred.\n",
    "    \n",
    "  1. Make a plot of y_true vs y_pred\n",
    "  2. (hard) Make a plot of the NLL over time. Does this solution get worse with time?\n",
    "      \n",
    "\n",
    "  <details>\n",
    "  <summary><b>→ Hints</b></summary>\n",
    "\n",
    "  * The interface is similar to pandas\n",
    "  * Fill in the columns here: `ds_preds.plot.scatter(?, ?, s=2)`\n",
    "  * Take the mean over t_ahead\n",
    "\n",
    "  </details>\n",
    "\n",
    "  <br/>\n",
    "  <br/>\n",
    "  <details>\n",
    "  <summary>\n",
    "    <b>→ Solution</b>\n",
    "  </summary>\n",
    "\n",
    "  ```python\n",
    "  # This is easy with xarray\n",
    "  ds_preds.plot.scatter('y_true', 'y_pred', s=2)\n",
    "  ```\n",
    "\n",
    "  </details>\n",
    "\n",
    "  </div>"
   ]
  },
  {
   "cell_type": "markdown",
   "metadata": {},
   "source": [
    " <div class=\"alert alert-success\">\n",
    "  <h2>(hard) Exercise: Loss vs Time plot</h2>\n",
    "\n",
    "  Solutions typically decay in usefullness with time, and can require retraining. Does this one?\n",
    "    \n",
    "  2. Make a plot of the NLL over time. Does this solution get worse with time?\n",
    "      \n",
    "\n",
    "  <details>\n",
    "  <summary><b>→ Hints</b></summary>\n",
    "\n",
    "  * Take the mean over t_ahead\n",
    "  * group by t_source\n",
    "\n",
    "  </details>\n",
    "\n",
    "  <br/>\n",
    "  <br/>\n",
    "  <details>\n",
    "  <summary>\n",
    "    <b>→ Solution</b>\n",
    "  </summary>\n",
    "\n",
    "  ```python\n",
    "  \n",
    "  # this is hard because we need to take the mean over t_ahead\n",
    "  # then group by t_source\n",
    "  d = ds_preds.mean('t_ahead').groupby('t_source').mean()\n",
    "  # And even then it's clearer with smoothing\n",
    "  d.plot.scatter('t_source', 'nll')\n",
    "  plt.xticks(rotation=45)\n",
    "  plt.title('NLL over time (lower is better)')\n",
    "  1\n",
    "  ```\n",
    "\n",
    "  </details>\n",
    "\n",
    "  </div>"
   ]
  },
  {
   "cell_type": "code",
   "execution_count": null,
   "metadata": {},
   "outputs": [],
   "source": []
  },
  {
   "cell_type": "code",
   "execution_count": null,
   "metadata": {},
   "outputs": [],
   "source": []
  }
 ],
 "metadata": {
  "jupytext": {
   "encoding": "# -*- coding: utf-8 -*-",
   "formats": "ipynb,py:light"
  },
  "kernelspec": {
   "display_name": "deep_ml_curriculum",
   "language": "python",
   "name": "deep_ml_curriculum"
  },
  "language_info": {
   "codemirror_mode": {
    "name": "ipython",
    "version": 3
   },
   "file_extension": ".py",
   "mimetype": "text/x-python",
   "name": "python",
   "nbconvert_exporter": "python",
   "pygments_lexer": "ipython3",
   "version": "3.7.9"
  },
  "toc": {
   "base_numbering": 1,
   "nav_menu": {},
   "number_sections": true,
   "sideBar": true,
   "skip_h1_title": false,
   "title_cell": "Table of Contents",
   "title_sidebar": "Contents",
   "toc_cell": false,
   "toc_position": {
    "height": "calc(100% - 180px)",
    "left": "10px",
    "top": "150px",
    "width": "307.2px"
   },
   "toc_section_display": true,
   "toc_window_display": true
  }
 },
 "nbformat": 4,
 "nbformat_minor": 2
}
