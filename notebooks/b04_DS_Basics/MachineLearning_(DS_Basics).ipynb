{
 "cells": [
  {
   "cell_type": "markdown",
   "metadata": {
    "ExecuteTime": {
     "end_time": "2020-07-06T13:13:47.216208Z",
     "start_time": "2020-07-06T13:13:47.211457Z"
    }
   },
   "source": [
    "# Introduction\n",
    "\n",
    "In this notebook, we will provide information about key concepts in Machine Learning as well as discuss some of the most useful tools for predictive data analysis in Python.\n",
    "\n",
    "## Table of Content\n",
    "\n",
    "- [0. Packages](#0)\n",
    "- [1. Scikit Learn](#1)\n",
    "    - [1.1 Alternatives](#1-1)\n",
    "- [2. Supervised Learning](#2)\n",
    "    - [2.1 Classification](#2-1)\n",
    "        - [Jupyter Notebook Widgets (Data Visualisation)](#2-1-1)\n",
    "        - [Classify Digits](#2-1-2)\n",
    "    - [2.2 Regression](#2-2)\n",
    "        - [Other Linear Regression Models](#2-2-1)\n",
    "        - [Preprocessing](#2-2-2)\n",
    "        - [Making Predictions](#2-2-3)\n",
    "- [3.Unsupervised Learning](#3)\n",
    "    - [3.2 Clustering](#3-1)\n",
    "    - [3.1 PCA](#3-2)\n",
    "- [4. Key Concepts](#4) \n",
    "    - [4.1 one-hot / label encoding](#4-1)\n",
    "        - [One Hot Encoding](#4-1-1)\n",
    "        - [Exercise 1: One Hot Encoding Part 1](#ex-1)\n",
    "        - [Exercise 2: One Hot Encoding Part 2](#ex-2)\n",
    "        - [Label Encoding](#4-1-2)\n",
    "    - [4.2 Normalisation](#4-2)\n",
    "    - [4.3 Underfitting/Overfitting](#4-3)"
   ]
  },
  {
   "cell_type": "markdown",
   "metadata": {},
   "source": [
    "# 0. Packages <a name=\"0\"></a>\n",
    "\n",
    "In this session, we will make use of the following packages:\n",
    "- [numpy](https://docs.scipy.org/doc/numpy/) is a popular library for scientific computing.\n",
    "- [matplotlib](https://matplotlib.org/3.1.1/contents.html) is a plotting library compatible with numpy.\n",
    "- [pandas](https://pandas.pydata.org/docs/) is what we'll use to manipulate our data.\n",
    "- [sklearn](https://scikit-learn.org/stable/index.html) will be used to measure the performance of our model.\n",
    "\n",
    "Run the next cell to import the necessary packages mentioned before. Besides, we will add more packages as needed while progressing in this session."
   ]
  },
  {
   "cell_type": "code",
   "execution_count": 100,
   "metadata": {
    "ExecuteTime": {
     "end_time": "2020-09-29T03:19:21.184252Z",
     "start_time": "2020-09-29T03:19:21.177774Z"
    }
   },
   "outputs": [],
   "source": [
    "# Good practice to use short but clear aliases for the imported libraries\n",
    "import numpy as np\n",
    "import matplotlib.pyplot as plt\n",
    "import pandas as pd\n",
    "import sklearn\n",
    "from sklearn import preprocessing\n",
    "# Set a seed\n",
    "np.random.seed(2020)\n",
    "# Magic Function\n",
    "%matplotlib inline\n",
    "# Hide all warnings\n",
    "import warnings\n",
    "warnings.filterwarnings('ignore') # warnings.filterwarnings(action='once')"
   ]
  },
  {
   "cell_type": "markdown",
   "metadata": {},
   "source": [
    "# 1. Scikit-learn <a name=\"1\"></a>\n",
    "\n",
    "Scikit-learn is one of the most popular libraries for ML and predictive data analysis in python. Scikit-learn was built on top of other popular libraries such as NumPy, SciPy and matplotlib [1].\n",
    "\n",
    "Some of the benefits of using Scikit-learn:\n",
    "- Simple and consistent API\n",
    "- It covers most of the machine learning tasks\n",
    "- Great documentation\n",
    "- You can finetune many parameters and still have good default values\n",
    "- Efficient models\n",
    "- Open source and commercially usable\n",
    "\n",
    "\n",
    "According to the creators of Scikit-learn:\n",
    "\n",
    "> Often the hardest part of solving a machine learning problem can be finding the right estimator (algorithm or model) for the job. Different estimators are better suited for different types of data and different problems. The flowchart below is designed to give users a bit of a rough guide on how to approach problems concerning which estimators to try on your data [2].\n",
    "\n",
    "In the official scikit-learn documentation, a useful map showing the landscape of machine learning is provided [2].\n",
    "![ml map](https://scikit-learn.org/stable/_static/ml_map.png)\n",
    "\n",
    "Sources: \n",
    "- 1. [Scikit-learn official website](https://scikit-learn.org/stable/)\n",
    "- 2. [Machine Learning Map](https://scikit-learn.org/stable/tutorial/machine_learning_map/index.html)\n",
    "\n",
    "\n",
    "# 1.1 Alternatives <a name=\"1-1\"></a>\n",
    "\n",
    "\n",
    "Scikit-learn is one of the most popular ML libraries in Python that provide out-of-the-box implementations of the most popular ML algorithms. However, given some circumstances, you might find want to use other libraries or complement your pipelines with other ML libraries.\n",
    "\n",
    "Other popular ML libraries in Python are:\n",
    "\n",
    "**SciPy library:**\n",
    "> The SciPy library is one of the core packages that make up the SciPy stack. It provides many user-friendly and efficient numerical routines, such as routines for numerical integration, interpolation, optimization, linear algebra, and statistics.\n",
    "\n",
    "Source: [SciPy](https://www.scipy.org/)\n",
    "\n",
    "**RAPIDS:**\n",
    "\n",
    "> The RAPIDS data science framework includes a collection of libraries for executing end-to-end data science pipelines completely in the GPU. It is designed to have a familiar look and feel to data scientists working in Python.\n",
    "RAPIDS uses optimized NVIDIA CUDA® primitives and high-bandwidth GPU memory to accelerate data preparation and machine learning. The goal of RAPIDS is not only to accelerate the individual parts of the typical data science workflow, but to accelerate the complete end-to-end workflow.\n",
    "\n",
    "One of the current limitations of the Scikit-learn library is that it is implemented to be used in CPU. This might be ok for many use cases, however, as more complicated and larger you get the longer will take to train the ML algorithms.\n",
    "\n",
    "RAPIDS has a specific module for ML (cuML) in GPU which accelerates the performance significantly compared with CPU-based implementation libraries such as Scikit-learn.\n",
    "\n",
    "> cuML is a suite of fast, GPU-accelerated machine learning algorithms designed for data science and analytical tasks. Our API mirrors Sklearn’s, and we provide practitioners with the easy fit-predict-transform paradigm without ever having to program on a GPU.\n",
    "\n",
    "Source: [RAPIDS](https://rapids.ai/start.html)\n",
    "\n",
    "\n",
    "**PyTorch/Tensorflow**\n",
    "\n",
    "Deep learning can use more complex data, but needs more data. This approaches typically use deep learning frame works like PyTorch which we will use in the next course. "
   ]
  },
  {
   "cell_type": "markdown",
   "metadata": {},
   "source": [
    "# 2. Supervised Learning <a name=\"2\"></a>\n",
    "\n",
    "Supervised learning is the machine learning (ML) task of learning a function that maps an input to an output based on example input-output pairs [3]. It infers a function from labelled training data consisting of a set of training examples [4].\n",
    "\n",
    "Consider the example below, where we have a classification problem. The MNIST dataset uses images corresponding to handwritten digits from 0 to 9 for a total of 10 different classes. Suppose that we already have a trained model. \n",
    "\n",
    "![ML](ml2.png)\n",
    "\n",
    "In the example above, the image represents the digit 1 which is passed to the Machine Learning classifier, then the output generates an array with 10 positions (every position represents a class), being the class 0 and 9, the first and last position of the array. So we can define the ML classifier as a function that is going to map the input (in our case an image of the digit 1), to a set of probabilities (values ranging from 0 to 1) for the 10 different classes.\n",
    "\n",
    "In our example, $p(1|x, \\theta)$ = 0.84. In ML is common to use the <code>argmax()</code> function to get the position of the array with the maximum probability. This index would correspond to the most likely label. If we apply <code>argmax()</code> to the output array, we will get the value 1 in return given that 0.84 is the maximum probability value.\n",
    "\n",
    "To train an ML algorithm, we have to modify the internal learnable parameters $\\theta$. Those values will allow the algorithm to map correctly its input to the desired output.\n",
    "\n",
    "In the supervised learning approach, we need to provide many examples of inputs with their correspondent label or class to the algorithm for the training phase. In the image below, we can observe a representation of this process.\n",
    "\n",
    "![ML](ml1.png)\n",
    "\n",
    "In this iterative process, a loss or cost function is used to measure the distance between the real label and the prediction. The aim of the training process is then to get a closer distance between the prediction and real label on unseen images. \n",
    "\n",
    "\n",
    "Find more information about the Supervised Learning algorithms available in scikit-learn [here](https://scikit-learn.org/stable/supervised_learning.html#supervised-learning)\n",
    "\n",
    "Sources:\n",
    "- [Wikipedia](https://en.wikipedia.org/wiki/Supervised_learning#:~:text=Supervised%20learning%20is%20the%20machine,a%20set%20of%20training%20examples.)\n",
    "-  3. Stuart J. Russell, Peter Norvig (2010) Artificial Intelligence: A Modern Approach, Third Edition, Prentice Hall ISBN 9780136042594.\n",
    "-  4. Mehryar Mohri, Afshin Rostamizadeh, Ameet Talwalkar (2012) Foundations of Machine Learning, The MIT Press ISBN 9780262018258."
   ]
  },
  {
   "cell_type": "markdown",
   "metadata": {},
   "source": [
    "Consider the example below where we have the ground truth label `y` and 3 predictions made by different machine learning algorithm. We will determine what is the best prediction using `Mean Absolute Error`."
   ]
  },
  {
   "cell_type": "code",
   "execution_count": 2,
   "metadata": {
    "ExecuteTime": {
     "end_time": "2020-09-29T02:29:36.991901Z",
     "start_time": "2020-09-29T02:29:36.983950Z"
    }
   },
   "outputs": [
    {
     "name": "stdout",
     "output_type": "stream",
     "text": [
      "Correct Answer: 4\n",
      "0.2 0.022 0.010000000000000005\n"
     ]
    }
   ],
   "source": [
    "y = np.array([0,0,0,0,1,0,0,0,0,0])\n",
    "\n",
    "print('Correct Answer:', y.argmax())\n",
    "\n",
    "pred_1 = np.array([0,0,0,0,0,0,0,0,0,1])\n",
    "pred_2 = np.array([0.01,0,0,0,0.89,0,0,0,0,0.1]) \n",
    "pred_3 = np.array([0,0,0,0,0.95,0,0,0,0,0.05]) \n",
    "\n",
    "error1 = np.abs(y-pred_1).mean()\n",
    "error2 = np.abs(y-pred_2).mean()\n",
    "error3 = np.abs(y-pred_3).mean()\n",
    "\n",
    "print(error1, error2, error3)"
   ]
  },
  {
   "cell_type": "markdown",
   "metadata": {},
   "source": [
    " <div class=\"alert alert-success\">\n",
    "  <h2>Exercise 1</h2>\n",
    "\n",
    "  Description:\n",
    "  \n",
    "  1. Given `y` calculate the error using `Mean Absolute Error` (MAE) for every prediction.\n",
    "    \n",
    "  ```python\n",
    "    y = np.array([0.35,0.05,0.05,0,0,0,0.55,0,0,0]) \n",
    "    pred_1 = np.array([0.75,0,0,0,0,0,0,0.2,0,0.05])\n",
    "    pred_2 = np.array([0.01,0,0,0,0.89,0,0,0,0,0.1]) \n",
    "    pred_3 = np.array([0,0,0,0,0,0,0,0.95,0,0.05]) \n",
    "  ```\n",
    "    \n",
    "  2. Another popular error is `Mean Square Error` or `MSE`. Calculate `MSE` for every prediction using `np.square` instead of `np.abs`\n",
    "\n",
    "  <details>\n",
    "  <summary><b>→ Hints</b></summary>\n",
    "  - Use `np.abs` and `.mean()` to calculate the `Mean Absolute Error`.\n",
    "  - To calculate `Mean Squared Error` use `np.square(y-pred).mean()`\n",
    "  </details>\n",
    "\n",
    "  <br/>\n",
    "  <br/>\n",
    "  <details>\n",
    "  <summary>\n",
    "    <b>→ Solution</b>\n",
    "  </summary>\n",
    "\n",
    "  Mean Absolute Error:\n",
    "  ```python\n",
    "    error1 = np.abs(y-pred_1).mean()\n",
    "    error2 = np.abs(y-pred_2).mean()\n",
    "    error3 = np.abs(y-pred_3).mean()\n",
    "\n",
    "    print(error1, error2, error3)\n",
    "  ```\n",
    "      \n",
    "  Mean Absolute Error:\n",
    "  ```python\n",
    "    error1 = np.square(y-pred_1).mean()\n",
    "    error2 = np.square(y-pred_2).mean()\n",
    "    error3 = np.square(y-pred_3).mean()\n",
    "\n",
    "    print(error1, error2, error3)\n",
    "  ```\n",
    "\n",
    "  </details>\n",
    "\n",
    "  </div>"
   ]
  },
  {
   "cell_type": "markdown",
   "metadata": {},
   "source": [
    "# 2.1 Classification <a name=\"2-1\"></a>\n",
    "\n",
    "\n",
    "While regression methods map inputs to a continuous dependent variable from a number of independent variables. In classification problems, the inputs will be mapped to a defined set of classes. There are many ML algorithms for regression and classification.\n",
    "\n",
    "For this session, we will explore the most basic ML algorithm for binary classification, the <code>Logistic Regression</code>.\n",
    "\n",
    "> ... the logistic model (or logit model) is used to model the probability of a certain class or event existing such as pass/fail, win/lose, alive/dead or healthy/sick. This can be extended to model several classes of events such as determining whether an image contains a cat, dog, lion, etc. Each object detected in the image would be assigned a probability between 0 and 1, with a sum of one.\n",
    "\n",
    "\n",
    "In the next session, we will explore more complex methods for classification.\n",
    "\n",
    "## Classifying Images of Digits\n",
    "\n",
    "Scikit-learn provides some datasets that can be used to test different machine learning techniques. For this example, we will use the Digits dataset provided by Scikit-learn which consists of 1,797 images of 8x8 pixels. Each image, like the one shown below, is of a hand-written digit. In order to utilize an 8x8 figure like this, we would have to first transform it into a feature vector with length 64.\n",
    "\n",
    "Source: [The Digit Dataset](https://scikit-learn.org/stable/auto_examples/datasets/plot_digits_last_image.html)\n",
    "\n",
    "More information about the dataset [here](https://archive.ics.uci.edu/ml/datasets/Pen-Based+Recognition+of+Handwritten+Digits)\n",
    "\n"
   ]
  },
  {
   "cell_type": "code",
   "execution_count": 3,
   "metadata": {
    "ExecuteTime": {
     "end_time": "2020-09-29T02:29:44.112633Z",
     "start_time": "2020-09-29T02:29:43.982702Z"
    }
   },
   "outputs": [
    {
     "data": {
      "text/plain": [
       "dict_keys(['data', 'target', 'target_names', 'images', 'DESCR'])"
      ]
     },
     "execution_count": 3,
     "metadata": {},
     "output_type": "execute_result"
    }
   ],
   "source": [
    "from sklearn import datasets\n",
    "\n",
    "# Load the digits dataset\n",
    "digits = datasets.load_digits()\n",
    "#  Get keys from dictionary\n",
    "digits.keys()"
   ]
  },
  {
   "cell_type": "markdown",
   "metadata": {},
   "source": [
    "# Let's see the targets"
   ]
  },
  {
   "cell_type": "code",
   "execution_count": 4,
   "metadata": {
    "ExecuteTime": {
     "end_time": "2020-09-29T02:29:46.298837Z",
     "start_time": "2020-09-29T02:29:46.295000Z"
    }
   },
   "outputs": [
    {
     "name": "stdout",
     "output_type": "stream",
     "text": [
      "[0 1 2 ... 8 9 8] 1797\n"
     ]
    }
   ],
   "source": [
    "print(digits['target'], len(digits['target']))"
   ]
  },
  {
   "cell_type": "code",
   "execution_count": 5,
   "metadata": {
    "ExecuteTime": {
     "end_time": "2020-09-29T02:29:47.532906Z",
     "start_time": "2020-09-29T02:29:47.383956Z"
    }
   },
   "outputs": [
    {
     "name": "stdout",
     "output_type": "stream",
     "text": [
      "Target: 4\n"
     ]
    },
    {
     "data": {
      "image/png": "[encoded data removed]",
      "text/plain": [
       "<Figure size 216x216 with 1 Axes>"
      ]
     },
     "metadata": {
      "needs_background": "light"
     },
     "output_type": "display_data"
    }
   ],
   "source": [
    "idx = 100\n",
    "# Let's first see one of the images\n",
    "plt.figure(1, figsize=(3, 3))\n",
    "print(f\"Target: {digits.target[idx]}\")\n",
    "plt.imshow(digits.images[idx], cmap=plt.cm.gray_r)\n",
    "plt.show()"
   ]
  },
  {
   "cell_type": "markdown",
   "metadata": {},
   "source": [
    "<a name=\"2-2-1\"></a>\n",
    "# Jupyter Notebook Widgets\n",
    "Let's explore the dataset in a different way using widgets !"
   ]
  },
  {
   "cell_type": "code",
   "execution_count": 7,
   "metadata": {
    "ExecuteTime": {
     "end_time": "2020-09-29T02:29:59.163795Z",
     "start_time": "2020-09-29T02:29:58.913607Z"
    }
   },
   "outputs": [
    {
     "data": {
      "text/plain": [
       "<Figure size 720x720 with 0 Axes>"
      ]
     },
     "metadata": {},
     "output_type": "display_data"
    },
    {
     "data": {
      "application/vnd.jupyter.widget-view+json": {
       "model_id": "4033c21c79d74b4faa569cae8e9dc003",
       "version_major": 2,
       "version_minor": 0
      },
      "text/plain": [
       "interactive(children=(IntSlider(value=0, description='index', max=1796), Output()), _dom_classes=('widget-inte…"
      ]
     },
     "metadata": {},
     "output_type": "display_data"
    },
    {
     "data": {
      "text/plain": [
       "<function __main__.f(index)>"
      ]
     },
     "execution_count": 7,
     "metadata": {},
     "output_type": "execute_result"
    }
   ],
   "source": [
    "from ipywidgets import interact, widgets\n",
    "from IPython.display import display\n",
    "\n",
    "fig = plt.figure(figsize=(10, 10))\n",
    "\n",
    "total_images = digits.target.shape[0]\n",
    "\n",
    "\n",
    "def f(index):\n",
    "    print(f\"Target: {digits.target[index]}\")\n",
    "    plt.imshow(digits.images[index], cmap=plt.cm.gray_r)\n",
    "    fig.canvas.draw()\n",
    "    display(fig)\n",
    "    plt.show()\n",
    "    \n",
    "interact(f, index=widgets.IntSlider(min=0, max=total_images-1))"
   ]
  },
  {
   "cell_type": "markdown",
   "metadata": {},
   "source": [
    "<a name=\"2-1-2\"></a>\n",
    "# Preprocessing\n",
    "\n",
    "Before training any ML model, we have to prepare the raw data and process it to make it suitable for a machine learning model.\n",
    "\n",
    "Usually, in the preprocessing step, we have to deal with some problems like:\n",
    "\n",
    "1. Finding Missing Data and dealing with it\n",
    "2. Encoding categorical features\n",
    "3. Splitting the dataset into training and test set.\n",
    "4. Data Normalisation\n",
    "\n",
    "In this session and futures ones, we will provide examples of those problems and how to deal with them.\n"
   ]
  },
  {
   "cell_type": "markdown",
   "metadata": {},
   "source": [
    "To apply a classifier on this data, we need to flatten the image, to turn the data in a (samples, features) matrix:"
   ]
  },
  {
   "cell_type": "code",
   "execution_count": 8,
   "metadata": {
    "ExecuteTime": {
     "end_time": "2020-09-29T02:30:00.735674Z",
     "start_time": "2020-09-29T02:30:00.731267Z"
    }
   },
   "outputs": [
    {
     "name": "stdout",
     "output_type": "stream",
     "text": [
      "(1797, 8, 8)\n",
      "(1797, 64)\n"
     ]
    }
   ],
   "source": [
    "n_samples = len(digits.images)\n",
    "X = digits.images.reshape((n_samples, 64))\n",
    "y = digits.target\n",
    "\n",
    "print(digits.images.shape)\n",
    "print(X.shape)"
   ]
  },
  {
   "cell_type": "markdown",
   "metadata": {},
   "source": [
    "We will further divide the dataset into the <code>train</code> and <code>test</code> set. To do that, scikit-learn provides the <code>sklearn.model_selection.train_test_split</code> function.\n",
    "\n",
    "In ML is important to separate the dataset and have one subset for training only and another one for testing and validation. In order to evaluate the performance of ML algorithms, it is important that we test in unseen data. There are some exceptions to this rule when using much advance evaluation techniques such as cross-validation, but we will talk about it in future sessions."
   ]
  },
  {
   "cell_type": "markdown",
   "metadata": {},
   "source": [
    "# Train, Predict and Evaluate"
   ]
  },
  {
   "cell_type": "code",
   "execution_count": 11,
   "metadata": {
    "ExecuteTime": {
     "end_time": "2020-09-29T02:33:00.190035Z",
     "start_time": "2020-09-29T02:32:59.570850Z"
    }
   },
   "outputs": [
    {
     "name": "stdout",
     "output_type": "stream",
     "text": [
      "Accuracy: 0.9221357063403782\n"
     ]
    }
   ],
   "source": [
    "from sklearn.linear_model import LogisticRegression\n",
    "# Let's import the train_test_split function\n",
    "from sklearn.model_selection import train_test_split\n",
    "\n",
    "# Create a classifier: a Logistic Regression with All vs Rest multiclass strategy\n",
    "classifier = LogisticRegression(multi_class=\"ovr\", max_iter=1000, random_state=2020)\n",
    "\n",
    "# Split data into train and test subsets\n",
    "X_train, X_test, y_train, y_test = train_test_split(X, y, test_size=0.5, shuffle=False)\n",
    "\n",
    "# We learn the digits on the first half of the digits\n",
    "classifier.fit(X_train, y_train)\n",
    "\n",
    "# Now predict the value of the digit\n",
    "predicted = classifier.predict(X_test)\n",
    "\n",
    "# Let's check the accuracy achieved by our model\n",
    "print(f\"Accuracy: {sklearn.metrics.accuracy_score(y_test, predicted)}\")"
   ]
  },
  {
   "cell_type": "markdown",
   "metadata": {},
   "source": [
    "We achieved an accuracy of 92% using one of the most basic classification algorithms, the Logistic Regression, for small images. \n",
    "\n",
    "**Note:** For more complex images with higher dimensionality is recommended to use Deep Learning techniques such as Convolutional Neural Networks or CNNs."
   ]
  },
  {
   "cell_type": "markdown",
   "metadata": {},
   "source": [
    "<a name=\"4-1\"></a>\n",
    "## Encoding Categorical Features\n",
    "\n",
    "Encoding is a preprocessing step where we convert categorical features to representations that an ML algorithm can process.\n",
    "\n",
    "There are two popular types of encoding:\n",
    "\n",
    "- One Hot Encoding: [`OneHotEncoder`](https://scikit-learn.org/stable/modules/generated/sklearn.preprocessing.OneHotEncoder.html) is a utility function in scikit-learn that helps to encode categorical features as a one-hot numeric array.\n",
    "- Integer/Ordinal Encoding:\n",
    "    In this type of encoding we will map a label or class to an integer representation. Scikit-learn provides two functions to do this. <code>[OrdinalEncoder](https://scikit-learn.org/stable/modules/generated/sklearn.preprocessing.OrdinalEncoder.html)</code> and <code>[LabelEncoder](https://scikit-learn.org/stable/modules/generated/sklearn.preprocessing.LabelEncoder.html)</code>.\n",
    "    \n"
   ]
  },
  {
   "cell_type": "markdown",
   "metadata": {},
   "source": [
    "<a name=\"4-1-1\"></a>\n",
    "## One Hot Encoding\n",
    "\n",
    "For this example, imagine that you have an output sequence of the following 3 labels:\n",
    "\n",
    "- \"bronze\"\n",
    "- \"silver\"\n",
    "- \"gold\"\n",
    "\n",
    "This sequence might be represented using an integer representation using `LabelEncoder` from scikit-learn. Using integer encoding the labels might have this representations:\n",
    "\n",
    "- \"bronze\" -> 1\n",
    "- \"silver\" -> 2\n",
    "- \"gold\"   -> 3\n",
    "\n",
    "One-hot encoding uses binary vectors instead to represent the labels. \n",
    "\n",
    "The example below shows an intuitive one-hot representation for the labels where `1` represents the presence of the label and `0` the abscence of it.\n",
    "\n",
    "- \"bronze\" -> [1,0,0]\n",
    "- \"silver\" -> [0,1,0]\n",
    "- \"gold\"   -> [0,0,1]\n",
    "\n",
    "We are currently using 3-length vectors to represent the labels. However, there are more efficient ways of representing the same data using different representations. For example, consider the one-hot prepresentations below:\n",
    "\n",
    "- \"bronze\" -> [0,0]\n",
    "- \"silver\" -> [1,0]\n",
    "- \"gold\"   -> [0,1]\n",
    "\n",
    "If we had one more label we could use [1,1] to represent it. This is the main idea behind the one-hot encoding process. You could create your own code to create these representations, however, there are different variations and in some cases it might be easier to use `OneHotEncoder` from scikit-learn, which handles special cases.\n",
    "\n",
    "\n",
    "\n",
    "Consider the example below which encodes two variables (two cagegorical and three numerical) into a single one-hot representation using `OneHotEncoder` in scikit-learn:"
   ]
  },
  {
   "cell_type": "code",
   "execution_count": 61,
   "metadata": {
    "ExecuteTime": {
     "end_time": "2020-09-29T03:00:10.285724Z",
     "start_time": "2020-09-29T03:00:10.279422Z"
    }
   },
   "outputs": [
    {
     "data": {
      "text/plain": [
       "OneHotEncoder(categories='auto', drop=None, dtype=<class 'numpy.float64'>,\n",
       "              handle_unknown='ignore', sparse=True)"
      ]
     },
     "execution_count": 61,
     "metadata": {},
     "output_type": "execute_result"
    }
   ],
   "source": [
    "from sklearn.preprocessing import OneHotEncoder\n",
    "\n",
    "# OneHotEncoder will ignore classes that were not seen during fit\n",
    "enc = OneHotEncoder(handle_unknown=\"ignore\")\n",
    "\n",
    "X = [[\"bronze\"], [\"silver\"], [\"gold\"]]\n",
    "# Learn Categories from seen data\n",
    "enc.fit(X)"
   ]
  },
  {
   "cell_type": "markdown",
   "metadata": {},
   "source": [
    "Now let's see what categories were learnt by the encoder"
   ]
  },
  {
   "cell_type": "code",
   "execution_count": 62,
   "metadata": {
    "ExecuteTime": {
     "end_time": "2020-09-29T03:00:11.502385Z",
     "start_time": "2020-09-29T03:00:11.498220Z"
    }
   },
   "outputs": [
    {
     "data": {
      "text/plain": [
       "[array(['bronze', 'gold', 'silver'], dtype=object)]"
      ]
     },
     "execution_count": 62,
     "metadata": {},
     "output_type": "execute_result"
    }
   ],
   "source": [
    "enc.categories_"
   ]
  },
  {
   "cell_type": "code",
   "execution_count": 63,
   "metadata": {
    "ExecuteTime": {
     "end_time": "2020-09-29T03:00:12.300244Z",
     "start_time": "2020-09-29T03:00:12.294430Z"
    }
   },
   "outputs": [
    {
     "data": {
      "text/plain": [
       "array([[0., 0., 1.],\n",
       "       [0., 1., 0.],\n",
       "       [1., 0., 0.],\n",
       "       [1., 0., 0.]])"
      ]
     },
     "execution_count": 63,
     "metadata": {},
     "output_type": "execute_result"
    }
   ],
   "source": [
    "# Transform Cagegorical values to one-hot encoding\n",
    "enc.transform([[\"silver\"], [\"gold\"], [\"bronze\"],[\"bronze\"]]).toarray()"
   ]
  },
  {
   "cell_type": "code",
   "execution_count": 64,
   "metadata": {
    "ExecuteTime": {
     "end_time": "2020-09-29T03:01:10.599274Z",
     "start_time": "2020-09-29T03:01:10.594515Z"
    }
   },
   "outputs": [
    {
     "data": {
      "text/plain": [
       "array([['gold'],\n",
       "       ['bronze']], dtype=object)"
      ]
     },
     "execution_count": 64,
     "metadata": {},
     "output_type": "execute_result"
    }
   ],
   "source": [
    "# You can reverse the operation as well\n",
    "enc.inverse_transform([[0, 1, 0], [1.0, 0.0, 0.0]])"
   ]
  },
  {
   "cell_type": "markdown",
   "metadata": {},
   "source": [
    "Now let's try with two encoded categorical values"
   ]
  },
  {
   "cell_type": "code",
   "execution_count": 82,
   "metadata": {
    "ExecuteTime": {
     "end_time": "2020-09-29T03:11:28.593408Z",
     "start_time": "2020-09-29T03:11:28.587435Z"
    }
   },
   "outputs": [
    {
     "data": {
      "text/plain": [
       "OneHotEncoder(categories='auto', drop=None, dtype=<class 'numpy.float64'>,\n",
       "              handle_unknown='ignore', sparse=True)"
      ]
     },
     "execution_count": 82,
     "metadata": {},
     "output_type": "execute_result"
    }
   ],
   "source": [
    "# Data\n",
    "X_2 = [[\"bronze\",\"archery\"],[\"bronze\",\"weightlifting\"],[\"silver\",\"fencing\"],[\"gold\",\"table tennis\"]]\n",
    "enc_2 = OneHotEncoder(handle_unknown=\"ignore\")\n",
    "enc_2.fit(X_2)"
   ]
  },
  {
   "cell_type": "code",
   "execution_count": 68,
   "metadata": {
    "ExecuteTime": {
     "end_time": "2020-09-29T03:02:06.400645Z",
     "start_time": "2020-09-29T03:02:06.396086Z"
    }
   },
   "outputs": [
    {
     "data": {
      "text/plain": [
       "array(['medal_bronze', 'medal_gold', 'medal_silver', 'sport_archery',\n",
       "       'sport_fencing', 'sport_table tennis', 'sport_weightlifting'],\n",
       "      dtype=object)"
      ]
     },
     "execution_count": 68,
     "metadata": {},
     "output_type": "execute_result"
    }
   ],
   "source": [
    "enc_2.get_feature_names([\"medal\", \"sport\"])"
   ]
  },
  {
   "cell_type": "markdown",
   "metadata": {},
   "source": [
    "<a name=\"ex-2\"></a>\n",
    "<div class=\"alert alert-success\">\n",
    "  <h2>Exercise 2</h2>\n",
    "\n",
    "Have a look at the result of the one-hot encoding in the example below.\n",
    "\n",
    "1. Analyse the one-hot encoding results and compare it with input. Can you spot any pattern?\n",
    "2. Change the values of the input with valid data and try to determine if there is any pattern.\n",
    "</div>\n",
    "\n"
   ]
  },
  {
   "cell_type": "code",
   "execution_count": 87,
   "metadata": {
    "ExecuteTime": {
     "end_time": "2020-09-29T03:12:32.709226Z",
     "start_time": "2020-09-29T03:12:32.702879Z"
    }
   },
   "outputs": [
    {
     "data": {
      "text/plain": [
       "array([[0., 0., 1., 1., 0., 0., 0.],\n",
       "       [0., 1., 0., 1., 0., 0., 0.],\n",
       "       [0., 1., 0., 0., 1., 0., 0.],\n",
       "       [1., 0., 0., 0., 1., 0., 0.]])"
      ]
     },
     "execution_count": 87,
     "metadata": {},
     "output_type": "execute_result"
    }
   ],
   "source": [
    "test = [\"silver\", \"archery\"], [\"gold\", \"archery\"], [\"gold\", \"fencing\"], [\"bronze\",\"fencing\"]\n",
    "enc_2.transform(test).toarray()"
   ]
  },
  {
   "cell_type": "markdown",
   "metadata": {},
   "source": [
    "One can always drop the first column for each feature:"
   ]
  },
  {
   "cell_type": "code",
   "execution_count": 88,
   "metadata": {
    "ExecuteTime": {
     "end_time": "2020-09-29T03:12:57.562922Z",
     "start_time": "2020-09-29T03:12:57.557749Z"
    }
   },
   "outputs": [
    {
     "data": {
      "text/plain": [
       "[array(['bronze', 'gold', 'silver'], dtype=object),\n",
       " array(['archery', 'fencing', 'table tennis', 'weightlifting'],\n",
       "       dtype=object)]"
      ]
     },
     "execution_count": 88,
     "metadata": {},
     "output_type": "execute_result"
    }
   ],
   "source": [
    "drop_enc = OneHotEncoder(drop='first').fit(X_2)\n",
    "drop_enc.categories_"
   ]
  },
  {
   "cell_type": "markdown",
   "metadata": {
    "ExecuteTime": {
     "end_time": "2020-07-13T12:01:39.527649Z",
     "start_time": "2020-07-13T12:01:39.523277Z"
    }
   },
   "source": [
    "<a name=\"ex-3\"></a>\n",
    "<div class=\"alert alert-success\">\n",
    "  <h2>Exercise 3</h2>\n",
    "\n",
    "  - Now that we dropped the first column, analyse how the encoding `drop_enc` changed compared to the first one-hot encoding.\n",
    "</div>\n"
   ]
  },
  {
   "cell_type": "code",
   "execution_count": 105,
   "metadata": {
    "ExecuteTime": {
     "end_time": "2020-09-29T03:28:48.954932Z",
     "start_time": "2020-09-29T03:28:48.950435Z"
    }
   },
   "outputs": [
    {
     "data": {
      "text/plain": [
       "(['silver', 'archery'],\n",
       " ['gold', 'archery'],\n",
       " ['gold', 'fencing'],\n",
       " ['bronze', 'fencing'])"
      ]
     },
     "execution_count": 105,
     "metadata": {},
     "output_type": "execute_result"
    }
   ],
   "source": [
    "test"
   ]
  },
  {
   "cell_type": "code",
   "execution_count": 90,
   "metadata": {
    "ExecuteTime": {
     "end_time": "2020-09-29T03:13:04.688364Z",
     "start_time": "2020-09-29T03:13:04.682694Z"
    }
   },
   "outputs": [
    {
     "data": {
      "text/plain": [
       "array([[0., 1., 0., 0., 0.],\n",
       "       [1., 0., 0., 0., 0.],\n",
       "       [1., 0., 1., 0., 0.],\n",
       "       [0., 0., 1., 0., 0.]])"
      ]
     },
     "execution_count": 90,
     "metadata": {},
     "output_type": "execute_result"
    }
   ],
   "source": [
    "drop_enc.transform(test).toarray()"
   ]
  },
  {
   "cell_type": "markdown",
   "metadata": {},
   "source": [
    "<a name=\"4-1-2\"></a>\n",
    "## Label Encoding\n",
    "\n",
    "Example:"
   ]
  },
  {
   "cell_type": "code",
   "execution_count": 101,
   "metadata": {
    "ExecuteTime": {
     "end_time": "2020-09-29T03:20:04.370003Z",
     "start_time": "2020-09-29T03:20:04.365283Z"
    }
   },
   "outputs": [
    {
     "data": {
      "text/plain": [
       "LabelEncoder()"
      ]
     },
     "execution_count": 101,
     "metadata": {},
     "output_type": "execute_result"
    }
   ],
   "source": [
    "le = preprocessing.LabelEncoder()\n",
    "le.fit([\"apples\", \"blueberries\", \"pineapple\", \"apples\", \"apples\", \"coconut\"])"
   ]
  },
  {
   "cell_type": "code",
   "execution_count": 103,
   "metadata": {
    "ExecuteTime": {
     "end_time": "2020-09-29T03:20:06.034629Z",
     "start_time": "2020-09-29T03:20:06.029655Z"
    }
   },
   "outputs": [
    {
     "data": {
      "text/plain": [
       "array([2, 0, 0, 1])"
      ]
     },
     "execution_count": 103,
     "metadata": {},
     "output_type": "execute_result"
    }
   ],
   "source": [
    "print(le.classes_)\n",
    "print(le.transform([\"coconut\", \"apples\", \"apples\", \"blueberries\"]))"
   ]
  },
  {
   "cell_type": "code",
   "execution_count": 104,
   "metadata": {
    "ExecuteTime": {
     "end_time": "2020-09-29T03:20:06.982592Z",
     "start_time": "2020-09-29T03:20:06.978561Z"
    }
   },
   "outputs": [
    {
     "name": "stdout",
     "output_type": "stream",
     "text": [
      "[0 0 3 2 3 3 1 3 3 0]\n"
     ]
    }
   ],
   "source": [
    "# Create a random list with 10 elements in the range from 0 to 4\n",
    "data_example = np.random.randint(0, 4, 10)\n",
    "print(data_example)"
   ]
  },
  {
   "cell_type": "code",
   "execution_count": 39,
   "metadata": {
    "ExecuteTime": {
     "end_time": "2020-07-13T13:42:27.618987Z",
     "start_time": "2020-07-13T13:42:27.613991Z"
    }
   },
   "outputs": [
    {
     "data": {
      "text/plain": [
       "array(['blueberries', 'coconut', 'coconut', 'pineapple', 'blueberries',\n",
       "       'apples', 'coconut', 'apples', 'coconut', 'pineapple'],\n",
       "      dtype='<U11')"
      ]
     },
     "execution_count": 39,
     "metadata": {},
     "output_type": "execute_result"
    }
   ],
   "source": [
    "le.inverse_transform(data_example)"
   ]
  },
  {
   "cell_type": "markdown",
   "metadata": {},
   "source": [
    "# 2.2 Regression <a name=\"2-2\"></a>\n",
    "\n",
    "\n",
    "According to Wikipedia:\n",
    "\n",
    "> In statistical modelling, regression analysis is a set of statistical processes for estimating the relationships between a dependent variable (often called the 'outcome variable') and one or more independent variables (often called 'predictors', 'covariates', or 'features'). The most common form of regression analysis is linear regression, in which a researcher finds the line (or a more complex linear combination) that most closely fits the data according to a specific mathematical criterion.\n",
    "\n",
    "> Most regression models propose that $Y_{i}$ is a function of $X_{i}$ and $\\beta$ , with $e_{i}$ representing an additive error term that may stand in for un-modelled determinants of $Y_{i}$ or random statistical noise:\n",
    "    $Y_{i}=f(X_{i},\\beta )+e_{i}$\n",
    " \n",
    " \n",
    "**Linear regression:** It is one of the most basic regression methods. <code>LinearRegression</code> fits a linear model with coefficients to minimize the residual sum of squares between the observed targets in the dataset, and the targets predicted by the linear approximation. Mathematically it solves a problem of the form:\n",
    "$\\min_{w} || X w - y||_2^2$\n",
    "\n",
    "Formula: $ f\\left(x\\right)=mx+b  $\n",
    " \n",
    "Sources:\n",
    "- [Regression Analysis](https://en.wikipedia.org/wiki/Regression_analysis)\n"
   ]
  },
  {
   "cell_type": "code",
   "execution_count": 12,
   "metadata": {
    "ExecuteTime": {
     "end_time": "2020-09-29T02:33:15.687905Z",
     "start_time": "2020-09-29T02:33:15.510150Z"
    }
   },
   "outputs": [
    {
     "data": {
      "text/plain": [
       "<matplotlib.collections.PathCollection at 0x123ffed68>"
      ]
     },
     "execution_count": 12,
     "metadata": {},
     "output_type": "execute_result"
    },
    {
     "data": {
      "image/png": "[encoded data removed]",
      "text/plain": [
       "<Figure size 432x288 with 1 Axes>"
      ]
     },
     "metadata": {
      "needs_background": "light"
     },
     "output_type": "display_data"
    }
   ],
   "source": [
    "# Generate 30 random numbers\n",
    "x = np.linspace(0, 50, 30)\n",
    "# Random Delta\n",
    "delta = np.random.uniform(-10, 10, x.size)\n",
    "y = 0.5 * x + 5 + delta\n",
    "\n",
    "plt.scatter(x, y)"
   ]
  },
  {
   "cell_type": "code",
   "execution_count": 13,
   "metadata": {
    "ExecuteTime": {
     "end_time": "2020-09-29T02:33:16.588571Z",
     "start_time": "2020-09-29T02:33:16.582195Z"
    }
   },
   "outputs": [
    {
     "name": "stdout",
     "output_type": "stream",
     "text": [
      "m:0.45417440465207876 b:5.467613575898744\n"
     ]
    }
   ],
   "source": [
    "from sklearn import linear_model\n",
    "\n",
    "reg = linear_model.LinearRegression()\n",
    "# Fit data\n",
    "reg.fit(x.reshape(-1, 1), y.reshape(-1, 1))\n",
    "# Check Regression coefficients and intercept\n",
    "m = reg.coef_[0][0]\n",
    "b = reg.intercept_[0]\n",
    "print(f\"m:{m} b:{b}\")"
   ]
  },
  {
   "cell_type": "markdown",
   "metadata": {},
   "source": [
    "Let's plot the line that minimise the distance to the points"
   ]
  },
  {
   "cell_type": "code",
   "execution_count": 14,
   "metadata": {
    "ExecuteTime": {
     "end_time": "2020-09-29T02:33:18.244182Z",
     "start_time": "2020-09-29T02:33:18.065933Z"
    }
   },
   "outputs": [
    {
     "data": {
      "text/plain": [
       "Text(0, 0.5, 'output')"
      ]
     },
     "execution_count": 14,
     "metadata": {},
     "output_type": "execute_result"
    },
    {
     "data": {
      "image/png": "[encoded data removed]",
      "text/plain": [
       "<Figure size 432x288 with 1 Axes>"
      ]
     },
     "metadata": {
      "needs_background": "light"
     },
     "output_type": "display_data"
    }
   ],
   "source": [
    "predictions = [(m * x[i]) + b for i in range(len(x))]\n",
    "plt.scatter(x, y)\n",
    "plt.plot(x, predictions, color=\"r\")\n",
    "plt.xlabel('input')\n",
    "plt.ylabel('output')"
   ]
  },
  {
   "cell_type": "markdown",
   "metadata": {},
   "source": [
    "Let's create some test data:"
   ]
  },
  {
   "cell_type": "code",
   "execution_count": 15,
   "metadata": {
    "ExecuteTime": {
     "end_time": "2020-09-29T02:33:19.406043Z",
     "start_time": "2020-09-29T02:33:19.401759Z"
    }
   },
   "outputs": [],
   "source": [
    "# Generate 30 random numbers\n",
    "x_2 = np.linspace(0, 50, 30)\n",
    "# Random Delta\n",
    "delta_2 = np.random.uniform(-10, 10, x.size)\n",
    "test_x = 0.5 * x + 5 + delta\n",
    "test_y = reg.predict(test_x.reshape(-1,1))"
   ]
  },
  {
   "cell_type": "markdown",
   "metadata": {
    "ExecuteTime": {
     "end_time": "2020-09-29T01:49:43.562002Z",
     "start_time": "2020-09-29T01:49:43.557899Z"
    }
   },
   "source": [
    "Let's plot the new predictions:"
   ]
  },
  {
   "cell_type": "code",
   "execution_count": 16,
   "metadata": {
    "ExecuteTime": {
     "end_time": "2020-09-29T02:33:20.925889Z",
     "start_time": "2020-09-29T02:33:20.736569Z"
    }
   },
   "outputs": [
    {
     "data": {
      "text/plain": [
       "Text(0, 0.5, 'output')"
      ]
     },
     "execution_count": 16,
     "metadata": {},
     "output_type": "execute_result"
    },
    {
     "data": {
      "image/png": "[encoded data removed]",
      "text/plain": [
       "<Figure size 432x288 with 1 Axes>"
      ]
     },
     "metadata": {
      "needs_background": "light"
     },
     "output_type": "display_data"
    }
   ],
   "source": [
    "predictions = [(m * x[i]) + b for i in range(len(x))]\n",
    "plt.scatter(x, y)\n",
    "plt.scatter(test_x, test_y, color='g')\n",
    "plt.plot(x, predictions, color=\"r\")\n",
    "plt.xlabel('input')\n",
    "plt.ylabel('output')"
   ]
  },
  {
   "cell_type": "markdown",
   "metadata": {},
   "source": [
    "In this case, our features will be the pixels of the images. However, to use the image input we will need to convert it into a 1-dimensional array with length 64.\n",
    "\n"
   ]
  },
  {
   "cell_type": "markdown",
   "metadata": {},
   "source": [
    "<a name=\"2-2-1\"></a>\n",
    "# Other Linear Regression Models \n",
    "\n",
    "Let's see how different linear regression methods finds solutions to the same problem.\n",
    "\n",
    "## Bayesian Ridge Regression"
   ]
  },
  {
   "cell_type": "code",
   "execution_count": 17,
   "metadata": {
    "ExecuteTime": {
     "end_time": "2020-09-29T02:33:26.959509Z",
     "start_time": "2020-09-29T02:33:26.795327Z"
    }
   },
   "outputs": [
    {
     "name": "stdout",
     "output_type": "stream",
     "text": [
      "m:0.4436963857958181 b:5.72956404730526\n"
     ]
    },
    {
     "data": {
      "image/png": "[encoded data removed]",
      "text/plain": [
       "<Figure size 432x288 with 1 Axes>"
      ]
     },
     "metadata": {
      "needs_background": "light"
     },
     "output_type": "display_data"
    }
   ],
   "source": [
    "bayesian_ridge = linear_model.BayesianRidge()\n",
    "bayesian_ridge.fit(x.reshape(-1, 1), y.reshape(-1, 1))\n",
    "m2 = bayesian_ridge.coef_[0]\n",
    "b2 = bayesian_ridge.intercept_\n",
    "print(f\"m:{m2} b:{b2}\")\n",
    "# Let's plot the line that minimise the distance\n",
    "predictions2 = [(m2 * x[i]) + b2 for i in range(len(x))]\n",
    "plt.scatter(x, y)\n",
    "plt.plot(x, predictions2, color=\"g\")\n",
    "plt.show()"
   ]
  },
  {
   "cell_type": "markdown",
   "metadata": {},
   "source": [
    "# Lasso Regression"
   ]
  },
  {
   "cell_type": "code",
   "execution_count": 18,
   "metadata": {
    "ExecuteTime": {
     "end_time": "2020-09-29T02:33:29.111234Z",
     "start_time": "2020-09-29T02:33:28.940508Z"
    }
   },
   "outputs": [
    {
     "name": "stdout",
     "output_type": "stream",
     "text": [
      "m:0.4537253723940143 b:[5.47883938]\n"
     ]
    },
    {
     "data": {
      "image/png": "[encoded data removed]",
      "text/plain": [
       "<Figure size 432x288 with 1 Axes>"
      ]
     },
     "metadata": {
      "needs_background": "light"
     },
     "output_type": "display_data"
    }
   ],
   "source": [
    "lasso = linear_model.Lasso(alpha=0.1)\n",
    "lasso.fit(x.reshape(-1, 1), y.reshape(-1, 1))\n",
    "m3 = lasso.coef_[0]\n",
    "b3 = lasso.intercept_\n",
    "print(f\"m:{m3} b:{b3}\")\n",
    "# Let's plot the line that minimised the dis\n",
    "predictions3 = [(m3 * x[i]) + b3 for i in range(len(x))]\n",
    "plt.scatter(x, y)\n",
    "plt.plot(x, predictions3, color=\"b\")\n",
    "plt.show()"
   ]
  },
  {
   "cell_type": "code",
   "execution_count": 19,
   "metadata": {
    "ExecuteTime": {
     "end_time": "2020-09-29T02:33:30.053164Z",
     "start_time": "2020-09-29T02:33:29.897407Z"
    }
   },
   "outputs": [
    {
     "data": {
      "image/png": "[encoded data removed]",
      "text/plain": [
       "<Figure size 432x288 with 1 Axes>"
      ]
     },
     "metadata": {
      "needs_background": "light"
     },
     "output_type": "display_data"
    }
   ],
   "source": [
    "# Let's plot the lines created by the 3 regression models\n",
    "plt.scatter(x, y)\n",
    "plt.plot(x, predictions3, color=\"b\")\n",
    "plt.plot(x, predictions, color=\"r\")\n",
    "plt.plot(x, predictions2, color=\"g\")\n",
    "plt.show()"
   ]
  },
  {
   "cell_type": "markdown",
   "metadata": {},
   "source": [
    "Let's try a regression problem with another example.\n",
    "\n",
    "Imagine that a teacher in high school is interested to know if there is any correlation in regards to the number of hours their students studied for the final exam and the score they got. For this example, we will assume that the number of hours is the only factor that was collected. In this dataset, every row represents a student with the corresponding number of study hours and the score."
   ]
  },
  {
   "cell_type": "code",
   "execution_count": 21,
   "metadata": {
    "ExecuteTime": {
     "end_time": "2020-09-29T02:33:53.066369Z",
     "start_time": "2020-09-29T02:33:53.053386Z"
    }
   },
   "outputs": [
    {
     "data": {
      "text/html": [
       "<div>\n",
       "<style scoped>\n",
       "    .dataframe tbody tr th:only-of-type {\n",
       "        vertical-align: middle;\n",
       "    }\n",
       "\n",
       "    .dataframe tbody tr th {\n",
       "        vertical-align: top;\n",
       "    }\n",
       "\n",
       "    .dataframe thead th {\n",
       "        text-align: right;\n",
       "    }\n",
       "</style>\n",
       "<table border=\"1\" class=\"dataframe\">\n",
       "  <thead>\n",
       "    <tr style=\"text-align: right;\">\n",
       "      <th></th>\n",
       "      <th>Hours</th>\n",
       "      <th>Scores</th>\n",
       "    </tr>\n",
       "  </thead>\n",
       "  <tbody>\n",
       "    <tr>\n",
       "      <th>0</th>\n",
       "      <td>2.1</td>\n",
       "      <td>21</td>\n",
       "    </tr>\n",
       "    <tr>\n",
       "      <th>1</th>\n",
       "      <td>4.9</td>\n",
       "      <td>47</td>\n",
       "    </tr>\n",
       "    <tr>\n",
       "      <th>2</th>\n",
       "      <td>3.2</td>\n",
       "      <td>27</td>\n",
       "    </tr>\n",
       "    <tr>\n",
       "      <th>3</th>\n",
       "      <td>8.3</td>\n",
       "      <td>75</td>\n",
       "    </tr>\n",
       "    <tr>\n",
       "      <th>4</th>\n",
       "      <td>3.5</td>\n",
       "      <td>30</td>\n",
       "    </tr>\n",
       "    <tr>\n",
       "      <th>5</th>\n",
       "      <td>1.5</td>\n",
       "      <td>20</td>\n",
       "    </tr>\n",
       "    <tr>\n",
       "      <th>6</th>\n",
       "      <td>9.2</td>\n",
       "      <td>88</td>\n",
       "    </tr>\n",
       "    <tr>\n",
       "      <th>7</th>\n",
       "      <td>5.5</td>\n",
       "      <td>60</td>\n",
       "    </tr>\n",
       "    <tr>\n",
       "      <th>8</th>\n",
       "      <td>8.3</td>\n",
       "      <td>81</td>\n",
       "    </tr>\n",
       "    <tr>\n",
       "      <th>9</th>\n",
       "      <td>2.7</td>\n",
       "      <td>25</td>\n",
       "    </tr>\n",
       "    <tr>\n",
       "      <th>10</th>\n",
       "      <td>7.4</td>\n",
       "      <td>85</td>\n",
       "    </tr>\n",
       "    <tr>\n",
       "      <th>11</th>\n",
       "      <td>5.9</td>\n",
       "      <td>62</td>\n",
       "    </tr>\n",
       "    <tr>\n",
       "      <th>12</th>\n",
       "      <td>4.5</td>\n",
       "      <td>41</td>\n",
       "    </tr>\n",
       "    <tr>\n",
       "      <th>13</th>\n",
       "      <td>3.3</td>\n",
       "      <td>42</td>\n",
       "    </tr>\n",
       "    <tr>\n",
       "      <th>14</th>\n",
       "      <td>1.1</td>\n",
       "      <td>17</td>\n",
       "    </tr>\n",
       "    <tr>\n",
       "      <th>15</th>\n",
       "      <td>8.9</td>\n",
       "      <td>95</td>\n",
       "    </tr>\n",
       "    <tr>\n",
       "      <th>16</th>\n",
       "      <td>2.5</td>\n",
       "      <td>30</td>\n",
       "    </tr>\n",
       "    <tr>\n",
       "      <th>17</th>\n",
       "      <td>1.9</td>\n",
       "      <td>24</td>\n",
       "    </tr>\n",
       "    <tr>\n",
       "      <th>18</th>\n",
       "      <td>6.1</td>\n",
       "      <td>67</td>\n",
       "    </tr>\n",
       "    <tr>\n",
       "      <th>19</th>\n",
       "      <td>7.4</td>\n",
       "      <td>69</td>\n",
       "    </tr>\n",
       "    <tr>\n",
       "      <th>20</th>\n",
       "      <td>2.7</td>\n",
       "      <td>30</td>\n",
       "    </tr>\n",
       "    <tr>\n",
       "      <th>21</th>\n",
       "      <td>4.8</td>\n",
       "      <td>54</td>\n",
       "    </tr>\n",
       "    <tr>\n",
       "      <th>22</th>\n",
       "      <td>3.8</td>\n",
       "      <td>35</td>\n",
       "    </tr>\n",
       "    <tr>\n",
       "      <th>23</th>\n",
       "      <td>6.9</td>\n",
       "      <td>76</td>\n",
       "    </tr>\n",
       "    <tr>\n",
       "      <th>24</th>\n",
       "      <td>7.8</td>\n",
       "      <td>86</td>\n",
       "    </tr>\n",
       "    <tr>\n",
       "      <th>25</th>\n",
       "      <td>8.5</td>\n",
       "      <td>82</td>\n",
       "    </tr>\n",
       "    <tr>\n",
       "      <th>26</th>\n",
       "      <td>6.5</td>\n",
       "      <td>70</td>\n",
       "    </tr>\n",
       "    <tr>\n",
       "      <th>27</th>\n",
       "      <td>1.2</td>\n",
       "      <td>15</td>\n",
       "    </tr>\n",
       "    <tr>\n",
       "      <th>28</th>\n",
       "      <td>2.7</td>\n",
       "      <td>29</td>\n",
       "    </tr>\n",
       "    <tr>\n",
       "      <th>29</th>\n",
       "      <td>10.5</td>\n",
       "      <td>90</td>\n",
       "    </tr>\n",
       "  </tbody>\n",
       "</table>\n",
       "</div>"
      ],
      "text/plain": [
       "    Hours  Scores\n",
       "0     2.1      21\n",
       "1     4.9      47\n",
       "2     3.2      27\n",
       "3     8.3      75\n",
       "4     3.5      30\n",
       "5     1.5      20\n",
       "6     9.2      88\n",
       "7     5.5      60\n",
       "8     8.3      81\n",
       "9     2.7      25\n",
       "10    7.4      85\n",
       "11    5.9      62\n",
       "12    4.5      41\n",
       "13    3.3      42\n",
       "14    1.1      17\n",
       "15    8.9      95\n",
       "16    2.5      30\n",
       "17    1.9      24\n",
       "18    6.1      67\n",
       "19    7.4      69\n",
       "20    2.7      30\n",
       "21    4.8      54\n",
       "22    3.8      35\n",
       "23    6.9      76\n",
       "24    7.8      86\n",
       "25    8.5      82\n",
       "26    6.5      70\n",
       "27    1.2      15\n",
       "28    2.7      29\n",
       "29   10.5      90"
      ]
     },
     "execution_count": 21,
     "metadata": {},
     "output_type": "execute_result"
    }
   ],
   "source": [
    "# Let's use pandas to explore the dataset\n",
    "# Load the dataset\n",
    "students = pd.read_csv('hours_vs_scores.csv')\n",
    "students"
   ]
  },
  {
   "cell_type": "markdown",
   "metadata": {},
   "source": [
    "## Splitting the dataset\n",
    "\n",
    "Let's split the student's dataset. First, let's split <code>X</code> and <code>y</code>."
   ]
  },
  {
   "cell_type": "code",
   "execution_count": 22,
   "metadata": {
    "ExecuteTime": {
     "end_time": "2020-09-29T02:33:55.042236Z",
     "start_time": "2020-09-29T02:33:55.038563Z"
    }
   },
   "outputs": [],
   "source": [
    "# Being X the features (hours)\n",
    "X = students.iloc[:, 0]\n",
    "# Being y, what we want to predict (score)\n",
    "y = students.iloc[:, 1]"
   ]
  },
  {
   "cell_type": "code",
   "execution_count": 23,
   "metadata": {
    "ExecuteTime": {
     "end_time": "2020-09-29T02:33:55.656045Z",
     "start_time": "2020-09-29T02:33:55.650915Z"
    }
   },
   "outputs": [],
   "source": [
    "# We can specify the percentage for the splitting for test_size. This means that 20% of the data will be used for testing and the rest for training.\n",
    "# random_state is set for reproducibility\n",
    "X_train, X_test, y_train, y_test = train_test_split(\n",
    "    X, y, test_size=0.2, random_state=2020\n",
    ")"
   ]
  },
  {
   "cell_type": "code",
   "execution_count": 24,
   "metadata": {
    "ExecuteTime": {
     "end_time": "2020-09-29T02:33:58.074333Z",
     "start_time": "2020-09-29T02:33:58.069847Z"
    }
   },
   "outputs": [
    {
     "data": {
      "text/plain": [
       "(24,)"
      ]
     },
     "execution_count": 24,
     "metadata": {},
     "output_type": "execute_result"
    }
   ],
   "source": [
    "X_train.shape"
   ]
  },
  {
   "cell_type": "markdown",
   "metadata": {
    "ExecuteTime": {
     "end_time": "2020-07-13T03:05:11.008686Z",
     "start_time": "2020-07-13T03:05:11.005032Z"
    }
   },
   "source": [
    "We need to reshape <code>x</code> and <code>y</code>. The `LinearRegression` API from scikit-learn requires the values for `x` and `y` to be shaped like (num_features, 1)."
   ]
  },
  {
   "cell_type": "code",
   "execution_count": 25,
   "metadata": {
    "ExecuteTime": {
     "end_time": "2020-09-29T02:34:08.295595Z",
     "start_time": "2020-09-29T02:34:08.291069Z"
    }
   },
   "outputs": [
    {
     "data": {
      "text/plain": [
       "(24, 1)"
      ]
     },
     "execution_count": 25,
     "metadata": {},
     "output_type": "execute_result"
    }
   ],
   "source": [
    "# Reshape X_train\n",
    "X_train.values.reshape(-1, 1).shape"
   ]
  },
  {
   "cell_type": "code",
   "execution_count": 26,
   "metadata": {
    "ExecuteTime": {
     "end_time": "2020-09-29T02:34:09.182714Z",
     "start_time": "2020-09-29T02:34:09.177136Z"
    }
   },
   "outputs": [
    {
     "name": "stdout",
     "output_type": "stream",
     "text": [
      "9.36794715527071\n",
      "4.517487123029149\n"
     ]
    }
   ],
   "source": [
    "# Train LinearRegression\n",
    "regressor = linear_model.LinearRegression()\n",
    "regressor.fit(X_train.values.reshape(-1, 1), y_train.values.reshape(-1, 1))\n",
    "print(regressor.coef_[0][0])\n",
    "print(regressor.intercept_[0])"
   ]
  },
  {
   "cell_type": "markdown",
   "metadata": {},
   "source": [
    "<a name=\"2-1-3\"></a>\n",
    "# Making Predictions\n",
    "Now let's make some predictions. \n",
    "\n",
    "**Important Note:** Always use the test set for predictions. You should never use the train data for predictions."
   ]
  },
  {
   "cell_type": "code",
   "execution_count": 27,
   "metadata": {
    "ExecuteTime": {
     "end_time": "2020-09-29T02:34:14.044342Z",
     "start_time": "2020-09-29T02:34:14.038662Z"
    }
   },
   "outputs": [
    {
     "data": {
      "text/plain": [
       "array([14.82222899, 22.31658672, 73.84029607, 29.81094444, 69.15632249,\n",
       "       34.49491802])"
      ]
     },
     "execution_count": 27,
     "metadata": {},
     "output_type": "execute_result"
    }
   ],
   "source": [
    "# Use the test dataset for predictions\n",
    "y_pred = regressor.predict(X_test.values.reshape(-1, 1)).flatten()\n",
    "y_pred"
   ]
  },
  {
   "cell_type": "code",
   "execution_count": 28,
   "metadata": {
    "ExecuteTime": {
     "end_time": "2020-09-29T02:34:15.252168Z",
     "start_time": "2020-09-29T02:34:15.242773Z"
    }
   },
   "outputs": [
    {
     "data": {
      "text/html": [
       "<div>\n",
       "<style scoped>\n",
       "    .dataframe tbody tr th:only-of-type {\n",
       "        vertical-align: middle;\n",
       "    }\n",
       "\n",
       "    .dataframe tbody tr th {\n",
       "        vertical-align: top;\n",
       "    }\n",
       "\n",
       "    .dataframe thead th {\n",
       "        text-align: right;\n",
       "    }\n",
       "</style>\n",
       "<table border=\"1\" class=\"dataframe\">\n",
       "  <thead>\n",
       "    <tr style=\"text-align: right;\">\n",
       "      <th></th>\n",
       "      <th>Actual</th>\n",
       "      <th>Predicted</th>\n",
       "    </tr>\n",
       "  </thead>\n",
       "  <tbody>\n",
       "    <tr>\n",
       "      <th>14</th>\n",
       "      <td>17</td>\n",
       "      <td>14.822229</td>\n",
       "    </tr>\n",
       "    <tr>\n",
       "      <th>17</th>\n",
       "      <td>24</td>\n",
       "      <td>22.316587</td>\n",
       "    </tr>\n",
       "    <tr>\n",
       "      <th>19</th>\n",
       "      <td>69</td>\n",
       "      <td>73.840296</td>\n",
       "    </tr>\n",
       "    <tr>\n",
       "      <th>20</th>\n",
       "      <td>30</td>\n",
       "      <td>29.810944</td>\n",
       "    </tr>\n",
       "    <tr>\n",
       "      <th>23</th>\n",
       "      <td>76</td>\n",
       "      <td>69.156322</td>\n",
       "    </tr>\n",
       "    <tr>\n",
       "      <th>2</th>\n",
       "      <td>27</td>\n",
       "      <td>34.494918</td>\n",
       "    </tr>\n",
       "  </tbody>\n",
       "</table>\n",
       "</div>"
      ],
      "text/plain": [
       "    Actual  Predicted\n",
       "14      17  14.822229\n",
       "17      24  22.316587\n",
       "19      69  73.840296\n",
       "20      30  29.810944\n",
       "23      76  69.156322\n",
       "2       27  34.494918"
      ]
     },
     "execution_count": 28,
     "metadata": {},
     "output_type": "execute_result"
    }
   ],
   "source": [
    "# Let's compare the actual values with the predictions\n",
    "df = pd.DataFrame({\"Actual\": y_test, \"Predicted\": y_pred})\n",
    "df"
   ]
  },
  {
   "cell_type": "markdown",
   "metadata": {
    "ExecuteTime": {
     "end_time": "2020-09-29T02:39:45.342560Z",
     "start_time": "2020-09-29T02:39:45.329598Z"
    }
   },
   "source": [
    "<div class=\"alert alert-success\">\n",
    "  <h2>Exercise 4</h2>\n",
    "\n",
    "  Description:\n",
    "  \n",
    "  - Given `actual` and `predicted` calculate the error using `Mean Absolute Error` and `Mean Squared Error`.\n",
    " \n",
    "  <br/>\n",
    "  <details>\n",
    "      <summary><b>→ Hints</b></summary>\n",
    "  - Use `np.abs` and `.mean()` to calculate the `Mean Absolute Error`.\n",
    "  - Use `np.squared` and `.mean()` to calculate the `Mean Absolute Error`. Alternatively you can calculate it like: `((actual-predicted)**2).mean()`\n",
    "  </details>\n",
    "\n",
    "  <br/>\n",
    "  <br/>\n",
    "  <details>\n",
    "  <summary>\n",
    "    <b>→ Solution</b>\n",
    "  </summary>\n",
    "    \n",
    "  ```python\n",
    "actual = df.iloc[:,0]\n",
    "predicted = df.iloc[:,1]\n",
    "mae = np.abs(actual-predicted).mean()\n",
    "mse = np.square(actual-predicted).mean()\n",
    "  ```\n",
    "  </details>\n",
    "\n",
    "  </div>"
   ]
  },
  {
   "cell_type": "markdown",
   "metadata": {},
   "source": [
    "<a name=\"3\"></a>\n",
    "# 3. Unsupervised Learning\n",
    "\n",
    "According to [Wikipedia](https://en.wikipedia.org/wiki/Unsupervised_learning):\n",
    "> Unsupervised learning is a type of machine learning that looks for previously undetected patterns in a data set with no pre-existing labels and with a minimum of human supervision. In contrast to supervised learning that usually makes use of human-labelled data, unsupervised learning, also known as self-organization allows for modelling of probability densities over inputs.[1] It forms one of the three main categories of machine learning, along with supervised and reinforcement learning. Semi-supervised learning, a related variant, makes use of supervised and unsupervised techniques. \n",
    "... Two of the main methods used in unsupervised learning are principal component and cluster analysis.\n",
    "\n",
    "\n",
    "<a name=\"3-1\"></a>\n",
    "## 3.1 Clustering <a name=\"clustering\"></a>\n",
    "\n",
    "\n",
    "Cluster analysis or clustering is the task of grouping a set of objects in such a way that objects in the same group (called a cluster) are more similar (in some sense) to each other than to those in other groups (clusters).\n",
    "\n",
    "Sources: [Wikipedia](https://en.wikipedia.org/wiki/Cluster_analysis)\n",
    "\n",
    "<a name=\"3-2\"></a>\n",
    "## 3.2 Principal Component Analysis (PCA) <a name=\"pca\"></a>\n",
    "\n",
    "\n",
    "PCA is a common tool used in exploratory data analysis and in machine learning for predictive models.\n",
    "The main idea of principal component analysis (PCA) is to reduce the dimensionality of a data set consisting of many variables correlated with each other, either heavily or lightly, while retaining the most representative features in the dataset.\n",
    "\n",
    "Sources: [Wikipedia](https://en.wikipedia.org/wiki/Principal_component_analysis)\n",
    "\n",
    "There is a session dedicated to unsupervised learning, we will provide examples of the different techniques mentioned here for clustering and dimensionality reduction."
   ]
  },
  {
   "cell_type": "markdown",
   "metadata": {},
   "source": [
    "<a name=\"4-3\"></a>\n",
    "## Overfitting vs Underfitting\n",
    "\n",
    "In the image below, we have an example where we want to train a model to create a boundary that separates class 1 (blue points) and class 2 (red points). The green line represents an overfitted model and the black line represents a regularized (able to generalise better) model. While the green line best follows the training data, it is too dependent on that data and it is likely to have a higher error rate on new unseen data, compared to the black line.\n",
    "\n",
    "<img width=500 height=500 src='https://upload.wikimedia.org/wikipedia/commons/thumb/1/19/Overfitting.svg/1920px-Overfitting.svg.png' />\n",
    "\n",
    "Source: [Overfitting Image](https://en.wikipedia.org/wiki/Overfitting#/media/File:Overfitting.svg)\n",
    "License: [CC BY-SA 4.0](https://creativecommons.org/licenses/by-sa/4.0/)\n",
    "\n",
    "\n",
    "On the other side of the spectrum, we have underfitted models, where the model is too simplistic and does not fit the model properly. The blue dashed line represents an underfitted model. A straight line can never fit a parabola. This model is too simple.\n",
    "\n",
    "<img width=500 height=500 src='https://upload.wikimedia.org/wikipedia/en/5/5c/Parabola_on_line.png' />\n",
    "\n",
    "\n",
    "To determine if a model is overfitted or underfitted we will first need to understand how to measure the performance of the model.\n",
    "\n"
   ]
  },
  {
   "cell_type": "markdown",
   "metadata": {},
   "source": [
    "## References and further reading\n",
    "The following sources have been used in the creation of this notebook:\n",
    "- [One Hot Encoding Examples](https://scikit-learn.org/stable/modules/generated/sklearn.preprocessing.OneHotEncoder.html)\n",
    "- [Label Encoding](https://scikit-learn.org/stable/modules/preprocessing_targets.html#preprocessing-targets)\n",
    "- [Supervised Learning](https://en.wikipedia.org/wiki/Supervised_learning)\n",
    "- [Unsupervised Learning](https://en.wikipedia.org/wiki/Unsupervised_learning)\n",
    "- [Normalisation](https://en.wikipedia.org/wiki/Normalization_(statistics))\n",
    "- [Overfitting](https://en.wikipedia.org/wiki/Overfitting)\n",
    "- [SciPy](https://www.scipy.org/)\n",
    "- [RAPIDS](https://rapids.ai/start.html)\n"
   ]
  },
  {
   "cell_type": "code",
   "execution_count": null,
   "metadata": {},
   "outputs": [],
   "source": []
  }
 ],
 "metadata": {
  "jupytext": {
   "formats": "ipynb,py"
  },
  "kernelspec": {
   "display_name": "Python 3",
   "language": "python",
   "name": "python3"
  },
  "language_info": {
   "codemirror_mode": {
    "name": "ipython",
    "version": 3
   },
   "file_extension": ".py",
   "mimetype": "text/x-python",
   "name": "python",
   "nbconvert_exporter": "python",
   "pygments_lexer": "ipython3",
   "version": "3.6.5"
  },
  "toc": {
   "base_numbering": 1,
   "nav_menu": {},
   "number_sections": true,
   "sideBar": true,
   "skip_h1_title": false,
   "title_cell": "Table of Contents",
   "title_sidebar": "Contents",
   "toc_cell": false,
   "toc_position": {},
   "toc_section_display": true,
   "toc_window_display": true
  },
  "varInspector": {
   "cols": {
    "lenName": 16,
    "lenType": 16,
    "lenVar": 40
   },
   "kernels_config": {
    "python": {
     "delete_cmd_postfix": "",
     "delete_cmd_prefix": "del ",
     "library": "var_list.py",
     "varRefreshCmd": "print(var_dic_list())"
    },
    "r": {
     "delete_cmd_postfix": ") ",
     "delete_cmd_prefix": "rm(",
     "library": "var_list.r",
     "varRefreshCmd": "cat(var_dic_list()) "
    }
   },
   "types_to_exclude": [
    "module",
    "function",
    "builtin_function_or_method",
    "instance",
    "_Feature"
   ],
   "window_display": false
  }
 },
 "nbformat": 4,
 "nbformat_minor": 4
}
