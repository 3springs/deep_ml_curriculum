{
 "cells": [
  {
   "cell_type": "markdown",
   "metadata": {},
   "source": [
    "# Time Series Forcasting"
   ]
  },
  {
   "cell_type": "markdown",
   "metadata": {},
   "source": [
    "In time series forcasting (TSF) the goal is to predict the future values using the behaviour of data in the past. We can use some of the tehniques we learned about in the last notebook. For instance, Holt-Winters methods can e used for forcasting as well as analysis."
   ]
  },
  {
   "cell_type": "code",
   "execution_count": 21,
   "metadata": {},
   "outputs": [],
   "source": [
    "import pandas as pd\n",
    "import matplotlib.pyplot as plt\n",
    "import numpy as np\n",
    "from statsmodels.tsa.holtwinters import ExponentialSmoothing"
   ]
  },
  {
   "cell_type": "code",
   "execution_count": 51,
   "metadata": {},
   "outputs": [],
   "source": [
    "df = pd.read_csv('../../data/processed/Customers.csv',parse_dates=True,index_col = 'Month')"
   ]
  },
  {
   "cell_type": "code",
   "execution_count": 52,
   "metadata": {},
   "outputs": [
    {
     "data": {
      "text/html": [
       "<div>\n",
       "<style scoped>\n",
       "    .dataframe tbody tr th:only-of-type {\n",
       "        vertical-align: middle;\n",
       "    }\n",
       "\n",
       "    .dataframe tbody tr th {\n",
       "        vertical-align: top;\n",
       "    }\n",
       "\n",
       "    .dataframe thead th {\n",
       "        text-align: right;\n",
       "    }\n",
       "</style>\n",
       "<table border=\"1\" class=\"dataframe\">\n",
       "  <thead>\n",
       "    <tr style=\"text-align: right;\">\n",
       "      <th></th>\n",
       "      <th>Customers</th>\n",
       "    </tr>\n",
       "    <tr>\n",
       "      <th>Month</th>\n",
       "      <th></th>\n",
       "    </tr>\n",
       "  </thead>\n",
       "  <tbody>\n",
       "    <tr>\n",
       "      <th>1994-01-01</th>\n",
       "      <td>412</td>\n",
       "    </tr>\n",
       "    <tr>\n",
       "      <th>1994-02-01</th>\n",
       "      <td>406</td>\n",
       "    </tr>\n",
       "    <tr>\n",
       "      <th>1994-03-01</th>\n",
       "      <td>456</td>\n",
       "    </tr>\n",
       "    <tr>\n",
       "      <th>1994-04-01</th>\n",
       "      <td>440</td>\n",
       "    </tr>\n",
       "    <tr>\n",
       "      <th>1994-05-01</th>\n",
       "      <td>422</td>\n",
       "    </tr>\n",
       "    <tr>\n",
       "      <th>...</th>\n",
       "      <td>...</td>\n",
       "    </tr>\n",
       "    <tr>\n",
       "      <th>2005-08-01</th>\n",
       "      <td>2070</td>\n",
       "    </tr>\n",
       "    <tr>\n",
       "      <th>2005-09-01</th>\n",
       "      <td>1738</td>\n",
       "    </tr>\n",
       "    <tr>\n",
       "      <th>2005-10-01</th>\n",
       "      <td>1578</td>\n",
       "    </tr>\n",
       "    <tr>\n",
       "      <th>2005-11-01</th>\n",
       "      <td>1338</td>\n",
       "    </tr>\n",
       "    <tr>\n",
       "      <th>2005-12-01</th>\n",
       "      <td>1482</td>\n",
       "    </tr>\n",
       "  </tbody>\n",
       "</table>\n",
       "<p>144 rows × 1 columns</p>\n",
       "</div>"
      ],
      "text/plain": [
       "            Customers\n",
       "Month                \n",
       "1994-01-01        412\n",
       "1994-02-01        406\n",
       "1994-03-01        456\n",
       "1994-04-01        440\n",
       "1994-05-01        422\n",
       "...               ...\n",
       "2005-08-01       2070\n",
       "2005-09-01       1738\n",
       "2005-10-01       1578\n",
       "2005-11-01       1338\n",
       "2005-12-01       1482\n",
       "\n",
       "[144 rows x 1 columns]"
      ]
     },
     "execution_count": 52,
     "metadata": {},
     "output_type": "execute_result"
    }
   ],
   "source": [
    "df"
   ]
  },
  {
   "cell_type": "code",
   "execution_count": 53,
   "metadata": {},
   "outputs": [
    {
     "data": {
      "text/plain": [
       "<matplotlib.axes._subplots.AxesSubplot at 0x16b06ba8>"
      ]
     },
     "execution_count": 53,
     "metadata": {},
     "output_type": "execute_result"
    },
    {
     "data": {
      "image/png": "[encoded data removed]",
      "text/plain": [
       "<Figure size 432x288 with 1 Axes>"
      ]
     },
     "metadata": {},
     "output_type": "display_data"
    }
   ],
   "source": [
    "df.plot()"
   ]
  },
  {
   "cell_type": "markdown",
   "metadata": {},
   "source": [
    "In forcasting we try to predict the next step, therefore it is essential that we specify the frequency of data so the model knows what we mean by next step. Pandas data frames have frequency property, which by default is not set. So we need to set the frequency manually. <br>\n",
    "We can find information about the frequency in index of data frame."
   ]
  },
  {
   "cell_type": "code",
   "execution_count": 55,
   "metadata": {},
   "outputs": [
    {
     "data": {
      "text/plain": [
       "DatetimeIndex(['1994-01-01', '1994-02-01', '1994-03-01', '1994-04-01',\n",
       "               '1994-05-01', '1994-06-01', '1994-07-01', '1994-08-01',\n",
       "               '1994-09-01', '1994-10-01',\n",
       "               ...\n",
       "               '2005-03-01', '2005-04-01', '2005-05-01', '2005-06-01',\n",
       "               '2005-07-01', '2005-08-01', '2005-09-01', '2005-10-01',\n",
       "               '2005-11-01', '2005-12-01'],\n",
       "              dtype='datetime64[ns]', name='Month', length=144, freq=None)"
      ]
     },
     "execution_count": 55,
     "metadata": {},
     "output_type": "execute_result"
    }
   ],
   "source": [
    "df.index"
   ]
  },
  {
   "cell_type": "markdown",
   "metadata": {},
   "source": [
    "You can see at the bottom `freq` is set to `None`. We need to specify the the data is monthly and the dates are start of the month. So we use `freq = \"MS\"`."
   ]
  },
  {
   "cell_type": "code",
   "execution_count": 56,
   "metadata": {},
   "outputs": [],
   "source": [
    "df.index.freq = 'MS'"
   ]
  },
  {
   "cell_type": "markdown",
   "metadata": {},
   "source": [
    "__Note:__ Most of the algorithms have ways of infering the frequency if it is not set. But it is always safer to set it ourselves rather than leave it for the algorithms to figure out."
   ]
  },
  {
   "cell_type": "markdown",
   "metadata": {},
   "source": [
    "To measure whether we are doing well in our prediction or not, commonly we split the data into two parts, one for training the model and the other for evaluating the forcasting quality. The part that is used for taining is called training set and for time series it usually is the data from the beginning up to a certain point in time. The part that is used for evaluation is may be called validation set, test set, or evaluation set. The validation set comes right after the training set, because we use the training set to understand the behaviour of data and then we want to know what is going to happen right after that.<br>\n",
    "Let's split our data into training and validation set. Let's split in a way so that last 24 months are in validation set and the rest in training set."
   ]
  },
  {
   "cell_type": "code",
   "execution_count": 60,
   "metadata": {},
   "outputs": [],
   "source": [
    "n_months = 24\n",
    "df_train = df.iloc[:-n_months]\n",
    "df_valid = df.iloc[-n_months:]"
   ]
  },
  {
   "cell_type": "code",
   "execution_count": 61,
   "metadata": {},
   "outputs": [
    {
     "data": {
      "text/plain": [
       "<matplotlib.axes._subplots.AxesSubplot at 0x17f77c50>"
      ]
     },
     "execution_count": 61,
     "metadata": {},
     "output_type": "execute_result"
    },
    {
     "data": {
      "image/png": "[encoded data removed]",
      "text/plain": [
       "<Figure size 432x288 with 1 Axes>"
      ]
     },
     "metadata": {},
     "output_type": "display_data"
    }
   ],
   "source": [
    "ax = df_train.plot(legend = True, label = 'Train')\n",
    "df_valid.plot(ax =ax, legend = True, label = 'Validation')"
   ]
  },
  {
   "cell_type": "code",
   "execution_count": 80,
   "metadata": {},
   "outputs": [
    {
     "name": "stderr",
     "output_type": "stream",
     "text": [
      "C:\\Users\\Pooya\\Anaconda3\\lib\\site-packages\\statsmodels\\tsa\\holtwinters.py:725: RuntimeWarning: invalid value encountered in less_equal\n",
      "  loc = initial_p <= lb\n",
      "C:\\Users\\Pooya\\Anaconda3\\lib\\site-packages\\statsmodels\\tsa\\holtwinters.py:731: RuntimeWarning: invalid value encountered in greater_equal\n",
      "  loc = initial_p >= ub\n"
     ]
    }
   ],
   "source": [
    "model = ExponentialSmoothing(df_train['Customers'],trend = 'mul', seasonal = 'mul',seasonal_periods= 12)\n",
    "trained_model = model.fit(smoothing_level=.3,smoothing_slope=.3,smoothing_seasonal=.3)"
   ]
  },
  {
   "cell_type": "code",
   "execution_count": 91,
   "metadata": {},
   "outputs": [],
   "source": [
    "forecast = trained_model.forecast(24)"
   ]
  },
  {
   "cell_type": "code",
   "execution_count": 92,
   "metadata": {},
   "outputs": [
    {
     "data": {
      "text/plain": [
       "<matplotlib.axes._subplots.AxesSubplot at 0x1c38cf98>"
      ]
     },
     "execution_count": 92,
     "metadata": {},
     "output_type": "execute_result"
    },
    {
     "data": {
      "image/png": "[encoded data removed]",
      "text/plain": [
       "<Figure size 432x288 with 1 Axes>"
      ]
     },
     "metadata": {},
     "output_type": "display_data"
    }
   ],
   "source": [
    "ax = df_train.plot(legend = True, label = 'Train', color = 'blue')\n",
    "df_valid.plot(ax =ax, legend = True, label = 'Validation', color = 'green')\n",
    "forecast.plot(ax=ax, legend=True, label = 'Forecast', color = 'red')"
   ]
  },
  {
   "cell_type": "markdown",
   "metadata": {},
   "source": [
    "Let's have a closer look."
   ]
  },
  {
   "cell_type": "code",
   "execution_count": 93,
   "metadata": {},
   "outputs": [
    {
     "data": {
      "text/plain": [
       "<matplotlib.axes._subplots.AxesSubplot at 0x1c38ce48>"
      ]
     },
     "execution_count": 93,
     "metadata": {},
     "output_type": "execute_result"
    },
    {
     "data": {
      "image/png": "[encoded data removed]",
      "text/plain": [
       "<Figure size 432x288 with 1 Axes>"
      ]
     },
     "metadata": {},
     "output_type": "display_data"
    }
   ],
   "source": [
    "ax = df_valid.plot( legend = True, label = 'Validation', color = 'green')\n",
    "forecast.plot(ax=ax, legend=True, label = 'Forecast', color = 'red')"
   ]
  },
  {
   "cell_type": "markdown",
   "metadata": {},
   "source": [
    "It's pretty close. But how close? We need to put a value on the goodness of the result. To do this, we can use metrics. There are various metrics which can be used here, such as root of mean squared error (RMSE), mean squered error (MSE), mean absolute error (MAE), $R^2$, and many more. Sometimes for a certain application you might need to use particular metric.<br>\n",
    "There is a package called Scikit Learn which is a common package for machine learning and data science. This package contains many useful functions and algorithms. One of them is metrics submodule where various types of metrics are available. "
   ]
  },
  {
   "cell_type": "code",
   "execution_count": 96,
   "metadata": {},
   "outputs": [],
   "source": [
    "from sklearn.metrics import mean_absolute_error as mae"
   ]
  },
  {
   "cell_type": "markdown",
   "metadata": {},
   "source": [
    "Most of Scikit Learn metric functions need the same inputs. We need to pass in the actual values, and the predicted values.<br>\n"
   ]
  },
  {
   "cell_type": "code",
   "execution_count": 113,
   "metadata": {},
   "outputs": [],
   "source": [
    "??mae"
   ]
  },
  {
   "cell_type": "code",
   "execution_count": 95,
   "metadata": {},
   "outputs": [
    {
     "data": {
      "text/plain": [
       "68.11273064785662"
      ]
     },
     "execution_count": 95,
     "metadata": {},
     "output_type": "execute_result"
    }
   ],
   "source": [
    "mae(y_true=df_valid,y_pred=forecast)"
   ]
  },
  {
   "cell_type": "markdown",
   "metadata": {},
   "source": [
    "This value shows on average how much our forecast was off from the reality. <br>\n"
   ]
  },
  {
   "cell_type": "markdown",
   "metadata": {},
   "source": [
    "__Change the value of alpha, beta, and gamma and see whether it improves the model.__"
   ]
  },
  {
   "cell_type": "code",
   "execution_count": 119,
   "metadata": {
    "scrolled": false
   },
   "outputs": [
    {
     "name": "stderr",
     "output_type": "stream",
     "text": [
      "C:\\Users\\Pooya\\Anaconda3\\lib\\site-packages\\statsmodels\\tsa\\holtwinters.py:725: RuntimeWarning: invalid value encountered in less_equal\n",
      "  loc = initial_p <= lb\n",
      "C:\\Users\\Pooya\\Anaconda3\\lib\\site-packages\\statsmodels\\tsa\\holtwinters.py:731: RuntimeWarning: invalid value encountered in greater_equal\n",
      "  loc = initial_p >= ub\n"
     ]
    },
    {
     "data": {
      "text/plain": [
       "142.14374535228487"
      ]
     },
     "execution_count": 119,
     "metadata": {},
     "output_type": "execute_result"
    },
    {
     "data": {
      "image/png": "[encoded data removed]",
      "text/plain": [
       "<Figure size 432x288 with 1 Axes>"
      ]
     },
     "metadata": {},
     "output_type": "display_data"
    }
   ],
   "source": [
    "alpha = .4\n",
    "beta = .3\n",
    "gamma = .3\n",
    "model = ExponentialSmoothing(df_train['Customers'],trend = 'mul', seasonal = 'mul',seasonal_periods= 12)\n",
    "trained_model = model.fit(smoothing_level = alpha ,smoothing_slope = beta ,smoothing_seasonal = gamma)\n",
    "forecast = trained_model.forecast(24)\n",
    "ax = df_valid.plot( legend = True, label = 'Validation', color = 'green')\n",
    "forecast.plot(ax=ax, legend=True, label = 'Forecast', color = 'red')\n",
    "mae(y_true=df_valid,y_pred=forecast)"
   ]
  },
  {
   "cell_type": "markdown",
   "metadata": {},
   "source": [
    "## Stationarity\n",
    "A time series is considered stationary when its properties (mean and standard deviation) does not change with time. Therefore, any time series with trend or seasonality is not stationary. An example of stationary data is white noise:"
   ]
  },
  {
   "cell_type": "code",
   "execution_count": 125,
   "metadata": {},
   "outputs": [
    {
     "data": {
      "image/png": "[encoded data removed]",
      "text/plain": [
       "<Figure size 432x288 with 1 Axes>"
      ]
     },
     "metadata": {},
     "output_type": "display_data"
    }
   ],
   "source": [
    "np.random.seed(42)\n",
    "y = np.random.randn(200)\n",
    "plt.plot(y);"
   ]
  },
  {
   "cell_type": "markdown",
   "metadata": {},
   "source": [
    "While it is easy to tell if a time series is not stationary when there is a clear trend, in some cases it might be pretty difficult to decide whether a time series is stationary or not. Therefore, we use statistical tests to make a decision.\n"
   ]
  },
  {
   "cell_type": "markdown",
   "metadata": {},
   "source": [
    "#### Augmented Dickey-Fuller test\n",
    "[Augmented Dickey-Fuller test](https://en.wikipedia.org/wiki/Augmented_Dickey%E2%80%93Fuller_test) (ADF) is a statistical test for stationarity. We are not going to discuss the statistical details of this test, but what matters to us is the result. The null hpothesis of ADF is that there is a [unit root](https://en.wikipedia.org/wiki/Unit_root) in the time series. The alternative hypothesis is that the series is stationary. To use the test we are looking for the p-value. If p-value is lower than a hreshold (commonly 0.05), it means the null hypothesis is rejected and therefore the time series is stationary.<br>\n",
    "Let's test it on our data."
   ]
  },
  {
   "cell_type": "code",
   "execution_count": 132,
   "metadata": {},
   "outputs": [],
   "source": [
    "from statsmodels.tsa.stattools import adfuller"
   ]
  },
  {
   "cell_type": "code",
   "execution_count": 133,
   "metadata": {},
   "outputs": [
    {
     "data": {
      "text/plain": [
       "(0.8501837118218631,\n",
       " 0.9924045241642752,\n",
       " 13,\n",
       " 130,\n",
       " {'1%': -3.4816817173418295,\n",
       "  '10%': -2.578770059171598,\n",
       "  '5%': -2.8840418343195267},\n",
       " 1311.795141838217)"
      ]
     },
     "execution_count": 133,
     "metadata": {},
     "output_type": "execute_result"
    }
   ],
   "source": [
    "adfuller(df)"
   ]
  },
  {
   "cell_type": "markdown",
   "metadata": {},
   "source": [
    "The function returns many values, but the one that we are interested in is p-value, which the second value. If it is less than 0.05, it means time series is stationary. In this case it is far from 0.05 and that is what we expected as the data has clear trend.<br>\n",
    "Now let's turn it into a function that only return the p-value and run the test on white noise."
   ]
  },
  {
   "cell_type": "code",
   "execution_count": 146,
   "metadata": {},
   "outputs": [],
   "source": [
    "def adf(data):\n",
    "    res = adfuller(data)\n",
    "    return res[1]"
   ]
  },
  {
   "cell_type": "code",
   "execution_count": 147,
   "metadata": {},
   "outputs": [
    {
     "data": {
      "text/plain": [
       "2.543125112212854e-27"
      ]
     },
     "execution_count": 147,
     "metadata": {},
     "output_type": "execute_result"
    }
   ],
   "source": [
    "adf(y)"
   ]
  },
  {
   "cell_type": "markdown",
   "metadata": {},
   "source": [
    "The value is very small, which suggests we can reject the null hypothesis and therefore the series is stationary."
   ]
  },
  {
   "cell_type": "markdown",
   "metadata": {},
   "source": [
    "What if we remove trend and seasonality from the data using STL method?"
   ]
  },
  {
   "cell_type": "code",
   "execution_count": 148,
   "metadata": {},
   "outputs": [],
   "source": [
    "from statsmodels.tsa.seasonal import seasonal_decompose"
   ]
  },
  {
   "cell_type": "code",
   "execution_count": 139,
   "metadata": {},
   "outputs": [
    {
     "data": {
      "image/png": "[encoded data removed]",
      "text/plain": [
       "<Figure size 432x288 with 4 Axes>"
      ]
     },
     "metadata": {},
     "output_type": "display_data"
    }
   ],
   "source": [
    "res = seasonal_decompose(df,model='mul')\n",
    "res.plot();"
   ]
  },
  {
   "cell_type": "markdown",
   "metadata": {},
   "source": [
    "If we remove the seasonal and trend component what is left is the residuals.<br>\n",
    "The residuals might have `NaN` in it. If so, we need to remove them before performing the test."
   ]
  },
  {
   "cell_type": "code",
   "execution_count": 150,
   "metadata": {},
   "outputs": [
    {
     "data": {
      "text/plain": [
       "8.875932753157597e-11"
      ]
     },
     "execution_count": 150,
     "metadata": {},
     "output_type": "execute_result"
    }
   ],
   "source": [
    "adf(res.resid.dropna())"
   ]
  },
  {
   "cell_type": "markdown",
   "metadata": {},
   "source": [
    "The residual is stationary."
   ]
  },
  {
   "cell_type": "markdown",
   "metadata": {},
   "source": [
    "__Why is it important if a time series is stationary or not?__<br>\n",
    "We know that in a stationary time series the characteristics will remain constant. This makes it easier to predict their future behaviour as we expect them to behave similarly. But when the series is not stationary we don't know how it is going to behave in the future. In reality, most of the time series we are going to work with are not stationary. But using various techniques we might be able to transform them into a stationary time series. This is exactly what we just did. We use STL to remove the trend and seasonality to get a stationary time series."
   ]
  },
  {
   "cell_type": "markdown",
   "metadata": {},
   "source": [
    "Another technique to make a time series stationary is differencing. Differencing means that we calculate the difference between two consecutive points in time. Then we use the differences for forcasting.<br>\n",
    "Let's see how differencing will affect our data. Pandas has a builtin method for differencing (`.diff()`):"
   ]
  },
  {
   "cell_type": "code",
   "execution_count": 159,
   "metadata": {},
   "outputs": [
    {
     "data": {
      "text/html": [
       "<div>\n",
       "<style scoped>\n",
       "    .dataframe tbody tr th:only-of-type {\n",
       "        vertical-align: middle;\n",
       "    }\n",
       "\n",
       "    .dataframe tbody tr th {\n",
       "        vertical-align: top;\n",
       "    }\n",
       "\n",
       "    .dataframe thead th {\n",
       "        text-align: right;\n",
       "    }\n",
       "</style>\n",
       "<table border=\"1\" class=\"dataframe\">\n",
       "  <thead>\n",
       "    <tr style=\"text-align: right;\">\n",
       "      <th></th>\n",
       "      <th>Customers</th>\n",
       "    </tr>\n",
       "    <tr>\n",
       "      <th>Month</th>\n",
       "      <th></th>\n",
       "    </tr>\n",
       "  </thead>\n",
       "  <tbody>\n",
       "    <tr>\n",
       "      <th>1994-01-01</th>\n",
       "      <td>NaN</td>\n",
       "    </tr>\n",
       "    <tr>\n",
       "      <th>1994-02-01</th>\n",
       "      <td>-6.0</td>\n",
       "    </tr>\n",
       "    <tr>\n",
       "      <th>1994-03-01</th>\n",
       "      <td>50.0</td>\n",
       "    </tr>\n",
       "    <tr>\n",
       "      <th>1994-04-01</th>\n",
       "      <td>-16.0</td>\n",
       "    </tr>\n",
       "    <tr>\n",
       "      <th>1994-05-01</th>\n",
       "      <td>-18.0</td>\n",
       "    </tr>\n",
       "    <tr>\n",
       "      <th>...</th>\n",
       "      <td>...</td>\n",
       "    </tr>\n",
       "    <tr>\n",
       "      <th>2005-08-01</th>\n",
       "      <td>-55.0</td>\n",
       "    </tr>\n",
       "    <tr>\n",
       "      <th>2005-09-01</th>\n",
       "      <td>-332.0</td>\n",
       "    </tr>\n",
       "    <tr>\n",
       "      <th>2005-10-01</th>\n",
       "      <td>-160.0</td>\n",
       "    </tr>\n",
       "    <tr>\n",
       "      <th>2005-11-01</th>\n",
       "      <td>-240.0</td>\n",
       "    </tr>\n",
       "    <tr>\n",
       "      <th>2005-12-01</th>\n",
       "      <td>144.0</td>\n",
       "    </tr>\n",
       "  </tbody>\n",
       "</table>\n",
       "<p>144 rows × 1 columns</p>\n",
       "</div>"
      ],
      "text/plain": [
       "            Customers\n",
       "Month                \n",
       "1994-01-01        NaN\n",
       "1994-02-01       -6.0\n",
       "1994-03-01       50.0\n",
       "1994-04-01      -16.0\n",
       "1994-05-01      -18.0\n",
       "...               ...\n",
       "2005-08-01      -55.0\n",
       "2005-09-01     -332.0\n",
       "2005-10-01     -160.0\n",
       "2005-11-01     -240.0\n",
       "2005-12-01      144.0\n",
       "\n",
       "[144 rows x 1 columns]"
      ]
     },
     "execution_count": 159,
     "metadata": {},
     "output_type": "execute_result"
    }
   ],
   "source": [
    "df.diff()"
   ]
  },
  {
   "cell_type": "markdown",
   "metadata": {},
   "source": [
    "We need to get rid of `NaN` so we can run the test."
   ]
  },
  {
   "cell_type": "code",
   "execution_count": 160,
   "metadata": {},
   "outputs": [
    {
     "data": {
      "text/plain": [
       "0.048197113160884125"
      ]
     },
     "execution_count": 160,
     "metadata": {},
     "output_type": "execute_result"
    }
   ],
   "source": [
    "adf(df.diff().dropna())"
   ]
  },
  {
   "cell_type": "markdown",
   "metadata": {},
   "source": [
    "As we can see p-value is just below 0.05 threshold, which means differencing helped to convert data into stationary time series. <br>\n",
    "In some cases you might need to perform differencing multiple times to reach stationary results."
   ]
  },
  {
   "cell_type": "code",
   "execution_count": 191,
   "metadata": {},
   "outputs": [
    {
     "data": {
      "text/plain": [
       "0.03402856442850885"
      ]
     },
     "execution_count": 191,
     "metadata": {},
     "output_type": "execute_result"
    }
   ],
   "source": [
    "adf(df.diff(2).dropna())"
   ]
  },
  {
   "cell_type": "markdown",
   "metadata": {},
   "source": [
    "## Autocorrelation"
   ]
  },
  {
   "cell_type": "markdown",
   "metadata": {},
   "source": [
    "Another characteristics of a time series is autocorrelation. Autocorrelation is simply the correlation between the points in the time series and the points before them (sometimes called lagged values)."
   ]
  },
  {
   "cell_type": "code",
   "execution_count": 151,
   "metadata": {},
   "outputs": [],
   "source": [
    "from statsmodels.graphics.tsaplots import plot_acf,plot_pacf"
   ]
  },
  {
   "cell_type": "code",
   "execution_count": 189,
   "metadata": {},
   "outputs": [
    {
     "data": {
      "image/png": "[encoded data removed]",
      "text/plain": [
       "<Figure size 432x288 with 1 Axes>"
      ]
     },
     "metadata": {},
     "output_type": "display_data"
    }
   ],
   "source": [
    "plot_acf(df);"
   ]
  },
  {
   "cell_type": "markdown",
   "metadata": {},
   "source": [
    "The points closer together in time have higher correlation compared to the points further apart. This is an expected behaviour. However, how quickly does the corrlation decreases is important."
   ]
  },
  {
   "cell_type": "markdown",
   "metadata": {},
   "source": [
    "## Autoregressive models (AR)\n",
    "An [autoregressive model](https://en.wikipedia.org/wiki/Autoregressive_model), is a time series model which assumes a linear relationship between each point in time and its past $p$ points.\n",
    "\n",
    "$$y_t=c+\\sum_{i=1}^{p}\\phi_iy_{t-i}$$\n",
    "For instance a first order AR (also shown as AR(1)) can be written as:<br>\n",
    "$$y_t=c+\\phi_1 y_{t-1}$$\n",
    "This model can be found in statsmodels in ar_model submodule."
   ]
  },
  {
   "cell_type": "code",
   "execution_count": 349,
   "metadata": {},
   "outputs": [],
   "source": [
    "# This is to avoid some warning messages from statsmodels\n",
    "import warnings\n",
    "warnings.filterwarnings('ignore',category= FutureWarning)\n"
   ]
  },
  {
   "cell_type": "code",
   "execution_count": 350,
   "metadata": {},
   "outputs": [],
   "source": [
    "from statsmodels.tsa.ar_model import AR,ARResults\n"
   ]
  },
  {
   "cell_type": "markdown",
   "metadata": {},
   "source": [
    "Let's try an AR model on our data. First we need to split the data into a training and validation set."
   ]
  },
  {
   "cell_type": "code",
   "execution_count": 351,
   "metadata": {},
   "outputs": [],
   "source": [
    "stat = df\n",
    "df_train = stat.iloc[:-24]\n",
    "df_valid = stat.iloc[-24:]"
   ]
  },
  {
   "cell_type": "markdown",
   "metadata": {},
   "source": [
    "Then we create an instance of AR model using the training data."
   ]
  },
  {
   "cell_type": "code",
   "execution_count": 352,
   "metadata": {},
   "outputs": [],
   "source": [
    "model = AR(df_train)"
   ]
  },
  {
   "cell_type": "markdown",
   "metadata": {},
   "source": [
    "Then we train the model specifying the order of AR. Let's start by trying `1`."
   ]
  },
  {
   "cell_type": "code",
   "execution_count": 353,
   "metadata": {},
   "outputs": [],
   "source": [
    "trained_model = model.fit(maxlag=1)"
   ]
  },
  {
   "cell_type": "markdown",
   "metadata": {},
   "source": [
    "Now the model is trained. We can view model's values:"
   ]
  },
  {
   "cell_type": "code",
   "execution_count": 354,
   "metadata": {},
   "outputs": [
    {
     "data": {
      "text/plain": [
       "const           48.252098\n",
       "L1.Customers     0.949977\n",
       "dtype: float64"
      ]
     },
     "execution_count": 354,
     "metadata": {},
     "output_type": "execute_result"
    }
   ],
   "source": [
    "trained_model.params"
   ]
  },
  {
   "cell_type": "markdown",
   "metadata": {},
   "source": [
    "More importantly, we can forecast using the trained model. To do that, we need to at which time-step in the training data the model should stat and at which time-step it should stop. Since we want the predictions for validation data, we need to start right after last index of training data, so we use starting index as `len(df_train)` (Note that indexing starts from `0`).<br> Likewise, the last index would be sum of the lengths of training and validation sets."
   ]
  },
  {
   "cell_type": "code",
   "execution_count": 355,
   "metadata": {},
   "outputs": [],
   "source": [
    "start = len(df_train)\n",
    "end = len(df_train)+len(df_valid)-1\n",
    "forecast = trained_model.predict(start,end)\n"
   ]
  },
  {
   "cell_type": "code",
   "execution_count": 356,
   "metadata": {},
   "outputs": [
    {
     "data": {
      "text/plain": [
       "<matplotlib.axes._subplots.AxesSubplot at 0x252d39e8>"
      ]
     },
     "execution_count": 356,
     "metadata": {},
     "output_type": "execute_result"
    },
    {
     "data": {
      "image/png": "[encoded data removed]",
      "text/plain": [
       "<Figure size 432x288 with 1 Axes>"
      ]
     },
     "metadata": {},
     "output_type": "display_data"
    }
   ],
   "source": [
    "ax=df_valid.plot(legend = True,label='Actual')\n",
    "forecast.plot(ax=ax,legend=True,label='Forecast')"
   ]
  },
  {
   "cell_type": "markdown",
   "metadata": {},
   "source": [
    "That's not so good! Let's calculate mean absolute error:"
   ]
  },
  {
   "cell_type": "code",
   "execution_count": 338,
   "metadata": {},
   "outputs": [
    {
     "data": {
      "text/plain": [
       "478.53077066492347"
      ]
     },
     "execution_count": 338,
     "metadata": {},
     "output_type": "execute_result"
    }
   ],
   "source": [
    "mae(df_valid,forecast)"
   ]
  },
  {
   "cell_type": "markdown",
   "metadata": {},
   "source": [
    "Now let's try larger models by increasing order of AR. "
   ]
  },
  {
   "cell_type": "code",
   "execution_count": 344,
   "metadata": {},
   "outputs": [
    {
     "data": {
      "text/plain": [
       "428.4713159959576"
      ]
     },
     "execution_count": 344,
     "metadata": {},
     "output_type": "execute_result"
    },
    {
     "data": {
      "image/png": "[encoded data removed]",
      "text/plain": [
       "<Figure size 432x288 with 1 Axes>"
      ]
     },
     "metadata": {},
     "output_type": "display_data"
    }
   ],
   "source": [
    "model = AR(df_train)\n",
    "model = model.fit(maxlag=4)\n",
    "start = len(df_train)\n",
    "end = len(df_train)+len(df_valid)-1\n",
    "forecast = model.predict(start,end)\n",
    "ax=df_valid.plot(legend = True,label='Actual')\n",
    "forecast.plot(ax=ax,legend=True,label='Forecast')\n",
    "mae(df_valid,forecast)"
   ]
  },
  {
   "cell_type": "markdown",
   "metadata": {},
   "source": [
    "Try a few other values yourself and see if you get a better result."
   ]
  },
  {
   "cell_type": "code",
   "execution_count": 345,
   "metadata": {},
   "outputs": [
    {
     "data": {
      "text/plain": [
       "125.77217584412237"
      ]
     },
     "execution_count": 345,
     "metadata": {},
     "output_type": "execute_result"
    },
    {
     "data": {
      "image/png": "[encoded data removed]",
      "text/plain": [
       "<Figure size 432x288 with 1 Axes>"
      ]
     },
     "metadata": {},
     "output_type": "display_data"
    }
   ],
   "source": [
    "model = AR(df_train)\n",
    "model = model.fit(maxlag=10)\n",
    "start = len(df_train)\n",
    "end = len(df_train)+len(df_valid)-1\n",
    "forecast = model.predict(start,end)\n",
    "ax=df_valid.plot(legend = True,label='Actual')\n",
    "forecast.plot(ax=ax,legend=True,label='Forecast')\n",
    "mae(df_valid,forecast)"
   ]
  },
  {
   "cell_type": "markdown",
   "metadata": {},
   "source": [
    "## ARMA and ARIMA\n",
    "An autoregressive moving average (ARMA) model is model made of two components, a autoregressive model (AR) and a [moving average model](https://en.wikipedia.org/wiki/Moving-average_model) (MA).\n",
    "\n",
    "$$y_t = c + \\varepsilon_t +  \\sum_{i=1}^p \\varphi_i y_{t-i} + \\sum_{i=1}^q \\theta_i \\varepsilon_{t-i}$$\n",
    "There is also a generalisation of ARMA, which is called autoregressive integrated moving average (ARIMA). ARIMA is simlar to ARMA except is has the integrated term which is referring to ARIMA'a ability to take a difference of the data as well. As we dicussed taking a difference of data can turn it into a stationary time series. ARIMA has the ability to do it automatically. When training an ARIMA model we need to specify three values:\n",
    "1. order of AR ($p$)\n",
    "2. order of differencing ($d$)\n",
    "3. order of moving average ($q$)\n",
    "\n",
    "When $d = 0$, ARIMA will turn into ARMA model. Statsmodels has an implementation of ARIMA which we can use for training ARMA and ARIMA models."
   ]
  },
  {
   "cell_type": "code",
   "execution_count": 406,
   "metadata": {},
   "outputs": [],
   "source": [
    "from statsmodels.tsa.arima_model import ARIMA"
   ]
  },
  {
   "cell_type": "code",
   "execution_count": 367,
   "metadata": {},
   "outputs": [
    {
     "data": {
      "text/plain": [
       "543.3240395303753"
      ]
     },
     "execution_count": 367,
     "metadata": {},
     "output_type": "execute_result"
    },
    {
     "data": {
      "image/png": "[encoded data removed]",
      "text/plain": [
       "<Figure size 432x288 with 1 Axes>"
      ]
     },
     "metadata": {},
     "output_type": "display_data"
    }
   ],
   "source": [
    "stat = df.diff(1).dropna()\n",
    "stat = df\n",
    "df_train = stat.iloc[:-24]\n",
    "df_valid = stat.iloc[-24:]\n",
    "p=1\n",
    "d=0\n",
    "q=1\n",
    "model = ARIMA(df_train,(p,d,q))\n",
    "model = model.fit()\n",
    "start = len(df_train)\n",
    "end = len(df_train)+len(df_valid)-1\n",
    "forecast = model.predict(start,end)\n",
    "ax=df_valid.plot(legend = True,label='Actual')\n",
    "forecast.plot(ax=ax,legend=True,label='Forecast')\n",
    "mae(df_valid,forecast)"
   ]
  },
  {
   "cell_type": "code",
   "execution_count": 440,
   "metadata": {},
   "outputs": [
    {
     "name": "stderr",
     "output_type": "stream",
     "text": [
      "C:\\Users\\Pooya\\Anaconda3\\lib\\site-packages\\statsmodels\\tsa\\tsatools.py:689: RuntimeWarning: overflow encountered in exp\n",
      "  newparams = ((1-np.exp(-params))/(1+np.exp(-params))).copy()\n",
      "C:\\Users\\Pooya\\Anaconda3\\lib\\site-packages\\statsmodels\\tsa\\tsatools.py:689: RuntimeWarning: invalid value encountered in true_divide\n",
      "  newparams = ((1-np.exp(-params))/(1+np.exp(-params))).copy()\n",
      "C:\\Users\\Pooya\\Anaconda3\\lib\\site-packages\\statsmodels\\tsa\\tsatools.py:690: RuntimeWarning: overflow encountered in exp\n",
      "  tmp = ((1-np.exp(-params))/(1+np.exp(-params))).copy()\n",
      "C:\\Users\\Pooya\\Anaconda3\\lib\\site-packages\\statsmodels\\tsa\\tsatools.py:690: RuntimeWarning: invalid value encountered in true_divide\n",
      "  tmp = ((1-np.exp(-params))/(1+np.exp(-params))).copy()\n",
      "C:\\Users\\Pooya\\Anaconda3\\lib\\site-packages\\statsmodels\\base\\model.py:548: HessianInversionWarning: Inverting hessian failed, no bse or cov_params available\n",
      "  'available', HessianInversionWarning)\n",
      "C:\\Users\\Pooya\\Anaconda3\\lib\\site-packages\\statsmodels\\base\\model.py:568: ConvergenceWarning: Maximum Likelihood optimization failed to converge. Check mle_retvals\n",
      "  \"Check mle_retvals\", ConvergenceWarning)\n"
     ]
    },
    {
     "data": {
      "text/plain": [
       "6513.183710133972"
      ]
     },
     "execution_count": 440,
     "metadata": {},
     "output_type": "execute_result"
    },
    {
     "data": {
      "image/png": "[encoded data removed]",
      "text/plain": [
       "<Figure size 432x288 with 1 Axes>"
      ]
     },
     "metadata": {},
     "output_type": "display_data"
    }
   ],
   "source": [
    "stat = df.diff(1).dropna()\n",
    "stat = df\n",
    "df_train = stat.iloc[:-24]\n",
    "df_valid = stat.iloc[-24:]\n",
    "p=4\n",
    "d=0\n",
    "q=2\n",
    "model = ARIMA(df_train,(p,d,q))\n",
    "model = model.fit()\n",
    "start = len(df_train)\n",
    "end = len(df_train)+len(df_valid)-1\n",
    "forecast = model.predict(start,end)\n",
    "ax=df_valid.plot(legend = True,label='Actual')\n",
    "forecast.plot(ax=ax,legend=True,label='Forecast')\n",
    "mae(df_valid,forecast)"
   ]
  },
  {
   "cell_type": "code",
   "execution_count": 368,
   "metadata": {},
   "outputs": [
    {
     "data": {
      "text/html": [
       "<table class=\"simpletable\">\n",
       "<caption>ARMA Model Results</caption>\n",
       "<tr>\n",
       "  <th>Dep. Variable:</th>     <td>Customers</td>    <th>  No. Observations:  </th>    <td>120</td>  \n",
       "</tr>\n",
       "<tr>\n",
       "  <th>Model:</th>            <td>ARMA(1, 1)</td>    <th>  Log Likelihood     </th> <td>-713.394</td>\n",
       "</tr>\n",
       "<tr>\n",
       "  <th>Method:</th>             <td>css-mle</td>     <th>  S.D. of innovations</th>  <td>91.349</td> \n",
       "</tr>\n",
       "<tr>\n",
       "  <th>Date:</th>          <td>Sun, 12 Jul 2020</td> <th>  AIC                </th> <td>1434.789</td>\n",
       "</tr>\n",
       "<tr>\n",
       "  <th>Time:</th>              <td>19:11:19</td>     <th>  BIC                </th> <td>1445.939</td>\n",
       "</tr>\n",
       "<tr>\n",
       "  <th>Sample:</th>           <td>01-01-1994</td>    <th>  HQIC               </th> <td>1439.317</td>\n",
       "</tr>\n",
       "<tr>\n",
       "  <th></th>                 <td>- 12-01-2003</td>   <th>                     </th>     <td> </td>   \n",
       "</tr>\n",
       "</table>\n",
       "<table class=\"simpletable\">\n",
       "<tr>\n",
       "         <td></td>            <th>coef</th>     <th>std err</th>      <th>z</th>      <th>P>|z|</th>  <th>[0.025</th>    <th>0.975]</th>  \n",
       "</tr>\n",
       "<tr>\n",
       "  <th>const</th>           <td>  838.5439</td> <td>  140.219</td> <td>    5.980</td> <td> 0.000</td> <td>  563.720</td> <td> 1113.368</td>\n",
       "</tr>\n",
       "<tr>\n",
       "  <th>ar.L1.Customers</th> <td>    0.9247</td> <td>    0.036</td> <td>   25.999</td> <td> 0.000</td> <td>    0.855</td> <td>    0.994</td>\n",
       "</tr>\n",
       "<tr>\n",
       "  <th>ma.L1.Customers</th> <td>    0.3926</td> <td>    0.099</td> <td>    3.956</td> <td> 0.000</td> <td>    0.198</td> <td>    0.587</td>\n",
       "</tr>\n",
       "</table>\n",
       "<table class=\"simpletable\">\n",
       "<caption>Roots</caption>\n",
       "<tr>\n",
       "    <td></td>   <th>            Real</th>  <th>         Imaginary</th> <th>         Modulus</th>  <th>        Frequency</th>\n",
       "</tr>\n",
       "<tr>\n",
       "  <th>AR.1</th> <td>           1.0815</td> <td>          +0.0000j</td> <td>           1.0815</td> <td>           0.0000</td>\n",
       "</tr>\n",
       "<tr>\n",
       "  <th>MA.1</th> <td>          -2.5470</td> <td>          +0.0000j</td> <td>           2.5470</td> <td>           0.5000</td>\n",
       "</tr>\n",
       "</table>"
      ],
      "text/plain": [
       "<class 'statsmodels.iolib.summary.Summary'>\n",
       "\"\"\"\n",
       "                              ARMA Model Results                              \n",
       "==============================================================================\n",
       "Dep. Variable:              Customers   No. Observations:                  120\n",
       "Model:                     ARMA(1, 1)   Log Likelihood                -713.394\n",
       "Method:                       css-mle   S.D. of innovations             91.349\n",
       "Date:                Sun, 12 Jul 2020   AIC                           1434.789\n",
       "Time:                        19:11:19   BIC                           1445.939\n",
       "Sample:                    01-01-1994   HQIC                          1439.317\n",
       "                         - 12-01-2003                                         \n",
       "===================================================================================\n",
       "                      coef    std err          z      P>|z|      [0.025      0.975]\n",
       "-----------------------------------------------------------------------------------\n",
       "const             838.5439    140.219      5.980      0.000     563.720    1113.368\n",
       "ar.L1.Customers     0.9247      0.036     25.999      0.000       0.855       0.994\n",
       "ma.L1.Customers     0.3926      0.099      3.956      0.000       0.198       0.587\n",
       "                                    Roots                                    \n",
       "=============================================================================\n",
       "                  Real          Imaginary           Modulus         Frequency\n",
       "-----------------------------------------------------------------------------\n",
       "AR.1            1.0815           +0.0000j            1.0815            0.0000\n",
       "MA.1           -2.5470           +0.0000j            2.5470            0.5000\n",
       "-----------------------------------------------------------------------------\n",
       "\"\"\""
      ]
     },
     "execution_count": 368,
     "metadata": {},
     "output_type": "execute_result"
    }
   ],
   "source": [
    "model.summary()"
   ]
  },
  {
   "cell_type": "markdown",
   "metadata": {},
   "source": [
    "While we can easily get the forecasted values from an ARMA model, when working with ARIMA models we need to add a few extra steps. To get the forecasted values of ARMA model we used `.predict()` in code above. But this method does not inverse the differencing operation (which is part of ARIMA). However, there is another method called `.forecast()` which does inversion. <br>\n",
    "There is another difference between `predict` and `forecast`. `predict` uses the points that we have and predicts a single time-step ahead. So when we ask predict to do more than one step, at each step it uses the actual data. `forecast` uses the model trained on the training set and produces new values."
   ]
  },
  {
   "cell_type": "markdown",
   "metadata": {},
   "source": [
    "Here we recreate the predict function for ARIMA by training the model on the entire history of data, and then forcast one step ahead and then retrain the model using the entire data up to that point again."
   ]
  },
  {
   "cell_type": "code",
   "execution_count": 441,
   "metadata": {},
   "outputs": [],
   "source": [
    "from tqdm import tqdm"
   ]
  },
  {
   "cell_type": "code",
   "execution_count": 439,
   "metadata": {},
   "outputs": [
    {
     "name": "stderr",
     "output_type": "stream",
     "text": [
      " 25%|██▌       | 6/24 [00:03<00:10,  1.76it/s]C:\\Users\\Pooya\\Anaconda3\\lib\\site-packages\\statsmodels\\base\\model.py:548: HessianInversionWarning: Inverting hessian failed, no bse or cov_params available\n",
      "  'available', HessianInversionWarning)\n",
      "100%|██████████| 24/24 [00:09<00:00,  2.48it/s]\n"
     ]
    },
    {
     "data": {
      "text/plain": [
       "<matplotlib.axes._subplots.AxesSubplot at 0x252ff630>"
      ]
     },
     "execution_count": 439,
     "metadata": {},
     "output_type": "execute_result"
    },
    {
     "data": {
      "image/png": "[encoded data removed]",
      "text/plain": [
       "<Figure size 432x288 with 1 Axes>"
      ]
     },
     "metadata": {},
     "output_type": "display_data"
    }
   ],
   "source": [
    "p = 2\n",
    "d = 1\n",
    "q = 2\n",
    "\n",
    "\n",
    "df_train = df.iloc[:-24]\n",
    "df_valid = df.iloc[-24:]\n",
    "df_valid=df_valid.assign(Forecast=0)\n",
    "history = [x for x in df_train['Customers']]\n",
    "\n",
    "for t in tqdm(range(len(df_valid))):\n",
    "    model = ARIMA(history, order=(p,d,q))\n",
    "    trained_model = model.fit(disp=0)\n",
    "    output = trained_model.forecast()\n",
    "    pred = output[0]\n",
    "    df_valid['Forecast'][t] = pred\n",
    "    history.append(df_valid.values[t,0])\n",
    "df_valid.plot()"
   ]
  },
  {
   "cell_type": "code",
   "execution_count": 443,
   "metadata": {},
   "outputs": [],
   "source": [
    "from pmdarima import auto_arima\n"
   ]
  },
  {
   "cell_type": "code",
   "execution_count": 453,
   "metadata": {},
   "outputs": [
    {
     "name": "stderr",
     "output_type": "stream",
     "text": [
      "C:\\Users\\Pooya\\Anaconda3\\lib\\site-packages\\statsmodels\\base\\model.py:568: ConvergenceWarning: Maximum Likelihood optimization failed to converge. Check mle_retvals\n",
      "  \"Check mle_retvals\", ConvergenceWarning)\n",
      "C:\\Users\\Pooya\\Anaconda3\\lib\\site-packages\\statsmodels\\base\\model.py:568: ConvergenceWarning: Maximum Likelihood optimization failed to converge. Check mle_retvals\n",
      "  \"Check mle_retvals\", ConvergenceWarning)\n",
      "C:\\Users\\Pooya\\Anaconda3\\lib\\site-packages\\statsmodels\\base\\model.py:568: ConvergenceWarning: Maximum Likelihood optimization failed to converge. Check mle_retvals\n",
      "  \"Check mle_retvals\", ConvergenceWarning)\n",
      "C:\\Users\\Pooya\\Anaconda3\\lib\\site-packages\\statsmodels\\base\\model.py:568: ConvergenceWarning: Maximum Likelihood optimization failed to converge. Check mle_retvals\n",
      "  \"Check mle_retvals\", ConvergenceWarning)\n",
      "C:\\Users\\Pooya\\Anaconda3\\lib\\site-packages\\statsmodels\\base\\model.py:568: ConvergenceWarning: Maximum Likelihood optimization failed to converge. Check mle_retvals\n",
      "  \"Check mle_retvals\", ConvergenceWarning)\n",
      "C:\\Users\\Pooya\\Anaconda3\\lib\\site-packages\\statsmodels\\base\\model.py:568: ConvergenceWarning: Maximum Likelihood optimization failed to converge. Check mle_retvals\n",
      "  \"Check mle_retvals\", ConvergenceWarning)\n",
      "C:\\Users\\Pooya\\Anaconda3\\lib\\site-packages\\statsmodels\\tsa\\statespace\\sarimax.py:963: UserWarning: Non-stationary starting autoregressive parameters found. Using zeros as starting parameters.\n",
      "  warn('Non-stationary starting autoregressive parameters'\n",
      "C:\\Users\\Pooya\\Anaconda3\\lib\\site-packages\\statsmodels\\tsa\\statespace\\sarimax.py:975: UserWarning: Non-invertible starting MA parameters found. Using zeros as starting parameters.\n",
      "  warn('Non-invertible starting MA parameters found.'\n",
      "C:\\Users\\Pooya\\Anaconda3\\lib\\site-packages\\statsmodels\\base\\model.py:568: ConvergenceWarning: Maximum Likelihood optimization failed to converge. Check mle_retvals\n",
      "  \"Check mle_retvals\", ConvergenceWarning)\n",
      "C:\\Users\\Pooya\\Anaconda3\\lib\\site-packages\\statsmodels\\base\\model.py:568: ConvergenceWarning: Maximum Likelihood optimization failed to converge. Check mle_retvals\n",
      "  \"Check mle_retvals\", ConvergenceWarning)\n",
      "C:\\Users\\Pooya\\Anaconda3\\lib\\site-packages\\statsmodels\\base\\model.py:568: ConvergenceWarning: Maximum Likelihood optimization failed to converge. Check mle_retvals\n",
      "  \"Check mle_retvals\", ConvergenceWarning)\n",
      "C:\\Users\\Pooya\\Anaconda3\\lib\\site-packages\\statsmodels\\base\\model.py:568: ConvergenceWarning: Maximum Likelihood optimization failed to converge. Check mle_retvals\n",
      "  \"Check mle_retvals\", ConvergenceWarning)\n",
      "C:\\Users\\Pooya\\Anaconda3\\lib\\site-packages\\statsmodels\\base\\model.py:568: ConvergenceWarning: Maximum Likelihood optimization failed to converge. Check mle_retvals\n",
      "  \"Check mle_retvals\", ConvergenceWarning)\n"
     ]
    }
   ],
   "source": [
    "res = auto_arima(df,error_action='ignore')"
   ]
  },
  {
   "cell_type": "code",
   "execution_count": 455,
   "metadata": {},
   "outputs": [
    {
     "data": {
      "text/html": [
       "<table class=\"simpletable\">\n",
       "<caption>SARIMAX Results</caption>\n",
       "<tr>\n",
       "  <th>Dep. Variable:</th>                   <td>y</td>                <th>  No. Observations:  </th>    <td>144</td>  \n",
       "</tr>\n",
       "<tr>\n",
       "  <th>Model:</th>           <td>SARIMAX(3, 1, 3)x(1, 1, [1], 12)</td> <th>  Log Likelihood     </th> <td>-656.664</td>\n",
       "</tr>\n",
       "<tr>\n",
       "  <th>Date:</th>                    <td>Sun, 12 Jul 2020</td>         <th>  AIC                </th> <td>1333.327</td>\n",
       "</tr>\n",
       "<tr>\n",
       "  <th>Time:</th>                        <td>20:28:49</td>             <th>  BIC                </th> <td>1362.079</td>\n",
       "</tr>\n",
       "<tr>\n",
       "  <th>Sample:</th>                          <td>0</td>                <th>  HQIC               </th> <td>1345.011</td>\n",
       "</tr>\n",
       "<tr>\n",
       "  <th></th>                              <td> - 144</td>              <th>                     </th>     <td> </td>   \n",
       "</tr>\n",
       "<tr>\n",
       "  <th>Covariance Type:</th>                <td>opg</td>               <th>                     </th>     <td> </td>   \n",
       "</tr>\n",
       "</table>\n",
       "<table class=\"simpletable\">\n",
       "<tr>\n",
       "      <td></td>         <th>coef</th>     <th>std err</th>      <th>z</th>      <th>P>|z|</th>  <th>[0.025</th>    <th>0.975]</th>  \n",
       "</tr>\n",
       "<tr>\n",
       "  <th>intercept</th> <td>    0.9547</td> <td>    0.569</td> <td>    1.678</td> <td> 0.093</td> <td>   -0.160</td> <td>    2.070</td>\n",
       "</tr>\n",
       "<tr>\n",
       "  <th>ar.L1</th>     <td>   -0.2194</td> <td>    0.091</td> <td>   -2.400</td> <td> 0.016</td> <td>   -0.399</td> <td>   -0.040</td>\n",
       "</tr>\n",
       "<tr>\n",
       "  <th>ar.L2</th>     <td>   -0.1679</td> <td>    0.098</td> <td>   -1.721</td> <td> 0.085</td> <td>   -0.359</td> <td>    0.023</td>\n",
       "</tr>\n",
       "<tr>\n",
       "  <th>ar.L3</th>     <td>    0.7106</td> <td>    0.094</td> <td>    7.560</td> <td> 0.000</td> <td>    0.526</td> <td>    0.895</td>\n",
       "</tr>\n",
       "<tr>\n",
       "  <th>ma.L1</th>     <td>   -0.1081</td> <td>    2.960</td> <td>   -0.037</td> <td> 0.971</td> <td>   -5.910</td> <td>    5.693</td>\n",
       "</tr>\n",
       "<tr>\n",
       "  <th>ma.L2</th>     <td>    0.1045</td> <td>    2.644</td> <td>    0.040</td> <td> 0.968</td> <td>   -5.079</td> <td>    5.288</td>\n",
       "</tr>\n",
       "<tr>\n",
       "  <th>ma.L3</th>     <td>   -0.9958</td> <td>    3.020</td> <td>   -0.330</td> <td> 0.742</td> <td>   -6.914</td> <td>    4.923</td>\n",
       "</tr>\n",
       "<tr>\n",
       "  <th>ar.S.L12</th>  <td>   -0.9913</td> <td>    0.125</td> <td>   -7.940</td> <td> 0.000</td> <td>   -1.236</td> <td>   -0.747</td>\n",
       "</tr>\n",
       "<tr>\n",
       "  <th>ma.S.L12</th>  <td>    0.9471</td> <td>    0.396</td> <td>    2.393</td> <td> 0.017</td> <td>    0.171</td> <td>    1.723</td>\n",
       "</tr>\n",
       "<tr>\n",
       "  <th>sigma2</th>    <td> 1193.3862</td> <td> 3622.384</td> <td>    0.329</td> <td> 0.742</td> <td>-5906.356</td> <td> 8293.129</td>\n",
       "</tr>\n",
       "</table>\n",
       "<table class=\"simpletable\">\n",
       "<tr>\n",
       "  <th>Ljung-Box (Q):</th>          <td>39.46</td> <th>  Jarque-Bera (JB):  </th> <td>10.22</td>\n",
       "</tr>\n",
       "<tr>\n",
       "  <th>Prob(Q):</th>                <td>0.49</td>  <th>  Prob(JB):          </th> <td>0.01</td> \n",
       "</tr>\n",
       "<tr>\n",
       "  <th>Heteroskedasticity (H):</th> <td>2.03</td>  <th>  Skew:              </th> <td>0.20</td> \n",
       "</tr>\n",
       "<tr>\n",
       "  <th>Prob(H) (two-sided):</th>    <td>0.02</td>  <th>  Kurtosis:          </th> <td>4.31</td> \n",
       "</tr>\n",
       "</table><br/><br/>Warnings:<br/>[1] Covariance matrix calculated using the outer product of gradients (complex-step)."
      ],
      "text/plain": [
       "<class 'statsmodels.iolib.summary.Summary'>\n",
       "\"\"\"\n",
       "                                      SARIMAX Results                                       \n",
       "============================================================================================\n",
       "Dep. Variable:                                    y   No. Observations:                  144\n",
       "Model:             SARIMAX(3, 1, 3)x(1, 1, [1], 12)   Log Likelihood                -656.664\n",
       "Date:                              Sun, 12 Jul 2020   AIC                           1333.327\n",
       "Time:                                      20:28:49   BIC                           1362.079\n",
       "Sample:                                           0   HQIC                          1345.011\n",
       "                                              - 144                                         \n",
       "Covariance Type:                                opg                                         \n",
       "==============================================================================\n",
       "                 coef    std err          z      P>|z|      [0.025      0.975]\n",
       "------------------------------------------------------------------------------\n",
       "intercept      0.9547      0.569      1.678      0.093      -0.160       2.070\n",
       "ar.L1         -0.2194      0.091     -2.400      0.016      -0.399      -0.040\n",
       "ar.L2         -0.1679      0.098     -1.721      0.085      -0.359       0.023\n",
       "ar.L3          0.7106      0.094      7.560      0.000       0.526       0.895\n",
       "ma.L1         -0.1081      2.960     -0.037      0.971      -5.910       5.693\n",
       "ma.L2          0.1045      2.644      0.040      0.968      -5.079       5.288\n",
       "ma.L3         -0.9958      3.020     -0.330      0.742      -6.914       4.923\n",
       "ar.S.L12      -0.9913      0.125     -7.940      0.000      -1.236      -0.747\n",
       "ma.S.L12       0.9471      0.396      2.393      0.017       0.171       1.723\n",
       "sigma2      1193.3862   3622.384      0.329      0.742   -5906.356    8293.129\n",
       "===================================================================================\n",
       "Ljung-Box (Q):                       39.46   Jarque-Bera (JB):                10.22\n",
       "Prob(Q):                              0.49   Prob(JB):                         0.01\n",
       "Heteroskedasticity (H):               2.03   Skew:                             0.20\n",
       "Prob(H) (two-sided):                  0.02   Kurtosis:                         4.31\n",
       "===================================================================================\n",
       "\n",
       "Warnings:\n",
       "[1] Covariance matrix calculated using the outer product of gradients (complex-step).\n",
       "\"\"\""
      ]
     },
     "execution_count": 455,
     "metadata": {},
     "output_type": "execute_result"
    }
   ],
   "source": [
    "res"
   ]
  },
  {
   "cell_type": "markdown",
   "metadata": {},
   "source": [
    "# Seasonal ARIMA (SARIMA)\n",
    "As the name suggest this model is the same as ARIMA but adjusted to deal with seasonality. To train a SARIMA we need to sets of parameters. The first set is the ARIMA parameters ($p$,$d$,$q$), and the second set is for seasonality ($P$,$D$,$Q$,$m$). $P$,$D$, and $Q$ are orders of autoregressive, differencing, moving average component of seasonality and $m$ is the length of seasonality.<br>\n",
    "To train a SARIMA model we use a submodule of statsmodels called `SARIMAX` (we will get to what the \"X\" means shortly).\n"
   ]
  },
  {
   "cell_type": "code",
   "execution_count": 452,
   "metadata": {},
   "outputs": [],
   "source": [
    "from statsmodels.tsa.statespace.sarimax import SARIMAX"
   ]
  },
  {
   "cell_type": "code",
   "execution_count": 469,
   "metadata": {},
   "outputs": [
    {
     "name": "stderr",
     "output_type": "stream",
     "text": [
      "C:\\Users\\Pooya\\Anaconda3\\lib\\site-packages\\statsmodels\\base\\model.py:568: ConvergenceWarning: Maximum Likelihood optimization failed to converge. Check mle_retvals\n",
      "  \"Check mle_retvals\", ConvergenceWarning)\n"
     ]
    }
   ],
   "source": [
    "p = 2\n",
    "d = 1\n",
    "q = 2\n",
    "\n",
    "P = 1\n",
    "D = 1\n",
    "Q = 1\n",
    "m= 12\n",
    "\n",
    "df_train = df.iloc[:-24]\n",
    "df_valid = df.iloc[-24:]\n",
    "\n",
    "model = SARIMAX(df_train,order = (p,d,q),seasonal_order=(P,D,Q,m))\n",
    "trained_model = model.fit()"
   ]
  },
  {
   "cell_type": "code",
   "execution_count": 470,
   "metadata": {},
   "outputs": [
    {
     "data": {
      "text/html": [
       "<table class=\"simpletable\">\n",
       "<caption>SARIMAX Results</caption>\n",
       "<tr>\n",
       "  <th>Dep. Variable:</th>               <td>Customers</td>            <th>  No. Observations:  </th>    <td>120</td>  \n",
       "</tr>\n",
       "<tr>\n",
       "  <th>Model:</th>           <td>SARIMAX(2, 1, 2)x(1, 1, [1], 12)</td> <th>  Log Likelihood     </th> <td>-527.866</td>\n",
       "</tr>\n",
       "<tr>\n",
       "  <th>Date:</th>                    <td>Sun, 12 Jul 2020</td>         <th>  AIC                </th> <td>1069.731</td>\n",
       "</tr>\n",
       "<tr>\n",
       "  <th>Time:</th>                        <td>20:50:25</td>             <th>  BIC                </th> <td>1088.441</td>\n",
       "</tr>\n",
       "<tr>\n",
       "  <th>Sample:</th>                     <td>01-01-1994</td>            <th>  HQIC               </th> <td>1077.316</td>\n",
       "</tr>\n",
       "<tr>\n",
       "  <th></th>                           <td>- 12-01-2003</td>           <th>                     </th>     <td> </td>   \n",
       "</tr>\n",
       "<tr>\n",
       "  <th>Covariance Type:</th>                <td>opg</td>               <th>                     </th>     <td> </td>   \n",
       "</tr>\n",
       "</table>\n",
       "<table class=\"simpletable\">\n",
       "<tr>\n",
       "      <td></td>        <th>coef</th>     <th>std err</th>      <th>z</th>      <th>P>|z|</th>  <th>[0.025</th>    <th>0.975]</th>  \n",
       "</tr>\n",
       "<tr>\n",
       "  <th>ar.L1</th>    <td>    0.2763</td> <td>    0.440</td> <td>    0.627</td> <td> 0.530</td> <td>   -0.587</td> <td>    1.140</td>\n",
       "</tr>\n",
       "<tr>\n",
       "  <th>ar.L2</th>    <td>    0.5215</td> <td>    0.382</td> <td>    1.364</td> <td> 0.173</td> <td>   -0.228</td> <td>    1.271</td>\n",
       "</tr>\n",
       "<tr>\n",
       "  <th>ma.L1</th>    <td>   -0.5681</td> <td>    0.473</td> <td>   -1.201</td> <td> 0.230</td> <td>   -1.496</td> <td>    0.359</td>\n",
       "</tr>\n",
       "<tr>\n",
       "  <th>ma.L2</th>    <td>   -0.4271</td> <td>    0.484</td> <td>   -0.883</td> <td> 0.377</td> <td>   -1.375</td> <td>    0.521</td>\n",
       "</tr>\n",
       "<tr>\n",
       "  <th>ar.S.L12</th> <td>   -0.9190</td> <td>    0.330</td> <td>   -2.786</td> <td> 0.005</td> <td>   -1.565</td> <td>   -0.273</td>\n",
       "</tr>\n",
       "<tr>\n",
       "  <th>ma.S.L12</th> <td>    0.8496</td> <td>    0.430</td> <td>    1.975</td> <td> 0.048</td> <td>    0.007</td> <td>    1.693</td>\n",
       "</tr>\n",
       "<tr>\n",
       "  <th>sigma2</th>   <td> 1100.3370</td> <td>  206.321</td> <td>    5.333</td> <td> 0.000</td> <td>  695.955</td> <td> 1504.719</td>\n",
       "</tr>\n",
       "</table>\n",
       "<table class=\"simpletable\">\n",
       "<tr>\n",
       "  <th>Ljung-Box (Q):</th>          <td>42.30</td> <th>  Jarque-Bera (JB):  </th> <td>2.68</td> \n",
       "</tr>\n",
       "<tr>\n",
       "  <th>Prob(Q):</th>                <td>0.37</td>  <th>  Prob(JB):          </th> <td>0.26</td> \n",
       "</tr>\n",
       "<tr>\n",
       "  <th>Heteroskedasticity (H):</th> <td>1.47</td>  <th>  Skew:              </th> <td>-0.03</td>\n",
       "</tr>\n",
       "<tr>\n",
       "  <th>Prob(H) (two-sided):</th>    <td>0.25</td>  <th>  Kurtosis:          </th> <td>3.77</td> \n",
       "</tr>\n",
       "</table><br/><br/>Warnings:<br/>[1] Covariance matrix calculated using the outer product of gradients (complex-step)."
      ],
      "text/plain": [
       "<class 'statsmodels.iolib.summary.Summary'>\n",
       "\"\"\"\n",
       "                                      SARIMAX Results                                       \n",
       "============================================================================================\n",
       "Dep. Variable:                            Customers   No. Observations:                  120\n",
       "Model:             SARIMAX(2, 1, 2)x(1, 1, [1], 12)   Log Likelihood                -527.866\n",
       "Date:                              Sun, 12 Jul 2020   AIC                           1069.731\n",
       "Time:                                      20:50:25   BIC                           1088.441\n",
       "Sample:                                  01-01-1994   HQIC                          1077.316\n",
       "                                       - 12-01-2003                                         \n",
       "Covariance Type:                                opg                                         \n",
       "==============================================================================\n",
       "                 coef    std err          z      P>|z|      [0.025      0.975]\n",
       "------------------------------------------------------------------------------\n",
       "ar.L1          0.2763      0.440      0.627      0.530      -0.587       1.140\n",
       "ar.L2          0.5215      0.382      1.364      0.173      -0.228       1.271\n",
       "ma.L1         -0.5681      0.473     -1.201      0.230      -1.496       0.359\n",
       "ma.L2         -0.4271      0.484     -0.883      0.377      -1.375       0.521\n",
       "ar.S.L12      -0.9190      0.330     -2.786      0.005      -1.565      -0.273\n",
       "ma.S.L12       0.8496      0.430      1.975      0.048       0.007       1.693\n",
       "sigma2      1100.3370    206.321      5.333      0.000     695.955    1504.719\n",
       "===================================================================================\n",
       "Ljung-Box (Q):                       42.30   Jarque-Bera (JB):                 2.68\n",
       "Prob(Q):                              0.37   Prob(JB):                         0.26\n",
       "Heteroskedasticity (H):               1.47   Skew:                            -0.03\n",
       "Prob(H) (two-sided):                  0.25   Kurtosis:                         3.77\n",
       "===================================================================================\n",
       "\n",
       "Warnings:\n",
       "[1] Covariance matrix calculated using the outer product of gradients (complex-step).\n",
       "\"\"\""
      ]
     },
     "execution_count": 470,
     "metadata": {},
     "output_type": "execute_result"
    }
   ],
   "source": [
    "trained_model.summary()"
   ]
  },
  {
   "cell_type": "code",
   "execution_count": 471,
   "metadata": {},
   "outputs": [],
   "source": [
    "start=len(df_train)\n",
    "end=len(df_train)+len(df_valid)-1\n",
    "pred = trained_model.predict(start=start, end=end, dynamic=False, typ='levels')"
   ]
  },
  {
   "cell_type": "code",
   "execution_count": 473,
   "metadata": {},
   "outputs": [
    {
     "data": {
      "text/plain": [
       "<matplotlib.legend.Legend at 0x3a676978>"
      ]
     },
     "execution_count": 473,
     "metadata": {},
     "output_type": "execute_result"
    },
    {
     "data": {
      "image/png": "[encoded data removed]",
      "text/plain": [
       "<Figure size 432x288 with 1 Axes>"
      ]
     },
     "metadata": {},
     "output_type": "display_data"
    }
   ],
   "source": [
    "plt.plot(df_valid, label = 'Actual')\n",
    "plt.plot(pred, label='Forecase')\n",
    "plt.legend()"
   ]
  },
  {
   "cell_type": "markdown",
   "metadata": {},
   "source": [
    "We can use auto_arima to find the best parameters for SARIMA as well. We just need to specify the season length ($m$) and it will search for seasonal parameters as well. Note that since there more parameters to find the process might take longer."
   ]
  },
  {
   "cell_type": "code",
   "execution_count": 463,
   "metadata": {},
   "outputs": [
    {
     "name": "stderr",
     "output_type": "stream",
     "text": [
      "C:\\Users\\Pooya\\Anaconda3\\lib\\site-packages\\statsmodels\\base\\model.py:568: ConvergenceWarning: Maximum Likelihood optimization failed to converge. Check mle_retvals\n",
      "  \"Check mle_retvals\", ConvergenceWarning)\n",
      "C:\\Users\\Pooya\\Anaconda3\\lib\\site-packages\\statsmodels\\base\\model.py:568: ConvergenceWarning: Maximum Likelihood optimization failed to converge. Check mle_retvals\n",
      "  \"Check mle_retvals\", ConvergenceWarning)\n",
      "C:\\Users\\Pooya\\Anaconda3\\lib\\site-packages\\statsmodels\\base\\model.py:568: ConvergenceWarning: Maximum Likelihood optimization failed to converge. Check mle_retvals\n",
      "  \"Check mle_retvals\", ConvergenceWarning)\n",
      "C:\\Users\\Pooya\\Anaconda3\\lib\\site-packages\\statsmodels\\base\\model.py:568: ConvergenceWarning: Maximum Likelihood optimization failed to converge. Check mle_retvals\n",
      "  \"Check mle_retvals\", ConvergenceWarning)\n",
      "C:\\Users\\Pooya\\Anaconda3\\lib\\site-packages\\statsmodels\\base\\model.py:568: ConvergenceWarning: Maximum Likelihood optimization failed to converge. Check mle_retvals\n",
      "  \"Check mle_retvals\", ConvergenceWarning)\n",
      "C:\\Users\\Pooya\\Anaconda3\\lib\\site-packages\\statsmodels\\base\\model.py:568: ConvergenceWarning: Maximum Likelihood optimization failed to converge. Check mle_retvals\n",
      "  \"Check mle_retvals\", ConvergenceWarning)\n",
      "C:\\Users\\Pooya\\Anaconda3\\lib\\site-packages\\statsmodels\\tsa\\statespace\\sarimax.py:963: UserWarning: Non-stationary starting autoregressive parameters found. Using zeros as starting parameters.\n",
      "  warn('Non-stationary starting autoregressive parameters'\n",
      "C:\\Users\\Pooya\\Anaconda3\\lib\\site-packages\\statsmodels\\tsa\\statespace\\sarimax.py:975: UserWarning: Non-invertible starting MA parameters found. Using zeros as starting parameters.\n",
      "  warn('Non-invertible starting MA parameters found.'\n",
      "C:\\Users\\Pooya\\Anaconda3\\lib\\site-packages\\statsmodels\\base\\model.py:568: ConvergenceWarning: Maximum Likelihood optimization failed to converge. Check mle_retvals\n",
      "  \"Check mle_retvals\", ConvergenceWarning)\n",
      "C:\\Users\\Pooya\\Anaconda3\\lib\\site-packages\\statsmodels\\base\\model.py:568: ConvergenceWarning: Maximum Likelihood optimization failed to converge. Check mle_retvals\n",
      "  \"Check mle_retvals\", ConvergenceWarning)\n",
      "C:\\Users\\Pooya\\Anaconda3\\lib\\site-packages\\statsmodels\\base\\model.py:568: ConvergenceWarning: Maximum Likelihood optimization failed to converge. Check mle_retvals\n",
      "  \"Check mle_retvals\", ConvergenceWarning)\n",
      "C:\\Users\\Pooya\\Anaconda3\\lib\\site-packages\\statsmodels\\base\\model.py:568: ConvergenceWarning: Maximum Likelihood optimization failed to converge. Check mle_retvals\n",
      "  \"Check mle_retvals\", ConvergenceWarning)\n",
      "C:\\Users\\Pooya\\Anaconda3\\lib\\site-packages\\statsmodels\\base\\model.py:568: ConvergenceWarning: Maximum Likelihood optimization failed to converge. Check mle_retvals\n",
      "  \"Check mle_retvals\", ConvergenceWarning)\n"
     ]
    },
    {
     "data": {
      "text/html": [
       "<table class=\"simpletable\">\n",
       "<caption>SARIMAX Results</caption>\n",
       "<tr>\n",
       "  <th>Dep. Variable:</th>                   <td>y</td>                <th>  No. Observations:  </th>    <td>144</td>  \n",
       "</tr>\n",
       "<tr>\n",
       "  <th>Model:</th>           <td>SARIMAX(3, 1, 3)x(1, 1, [1], 12)</td> <th>  Log Likelihood     </th> <td>-656.664</td>\n",
       "</tr>\n",
       "<tr>\n",
       "  <th>Date:</th>                    <td>Sun, 12 Jul 2020</td>         <th>  AIC                </th> <td>1333.327</td>\n",
       "</tr>\n",
       "<tr>\n",
       "  <th>Time:</th>                        <td>20:41:34</td>             <th>  BIC                </th> <td>1362.079</td>\n",
       "</tr>\n",
       "<tr>\n",
       "  <th>Sample:</th>                          <td>0</td>                <th>  HQIC               </th> <td>1345.011</td>\n",
       "</tr>\n",
       "<tr>\n",
       "  <th></th>                              <td> - 144</td>              <th>                     </th>     <td> </td>   \n",
       "</tr>\n",
       "<tr>\n",
       "  <th>Covariance Type:</th>                <td>opg</td>               <th>                     </th>     <td> </td>   \n",
       "</tr>\n",
       "</table>\n",
       "<table class=\"simpletable\">\n",
       "<tr>\n",
       "      <td></td>         <th>coef</th>     <th>std err</th>      <th>z</th>      <th>P>|z|</th>  <th>[0.025</th>    <th>0.975]</th>  \n",
       "</tr>\n",
       "<tr>\n",
       "  <th>intercept</th> <td>    0.9547</td> <td>    0.569</td> <td>    1.678</td> <td> 0.093</td> <td>   -0.160</td> <td>    2.070</td>\n",
       "</tr>\n",
       "<tr>\n",
       "  <th>ar.L1</th>     <td>   -0.2194</td> <td>    0.091</td> <td>   -2.400</td> <td> 0.016</td> <td>   -0.399</td> <td>   -0.040</td>\n",
       "</tr>\n",
       "<tr>\n",
       "  <th>ar.L2</th>     <td>   -0.1679</td> <td>    0.098</td> <td>   -1.721</td> <td> 0.085</td> <td>   -0.359</td> <td>    0.023</td>\n",
       "</tr>\n",
       "<tr>\n",
       "  <th>ar.L3</th>     <td>    0.7106</td> <td>    0.094</td> <td>    7.560</td> <td> 0.000</td> <td>    0.526</td> <td>    0.895</td>\n",
       "</tr>\n",
       "<tr>\n",
       "  <th>ma.L1</th>     <td>   -0.1081</td> <td>    2.960</td> <td>   -0.037</td> <td> 0.971</td> <td>   -5.910</td> <td>    5.693</td>\n",
       "</tr>\n",
       "<tr>\n",
       "  <th>ma.L2</th>     <td>    0.1045</td> <td>    2.644</td> <td>    0.040</td> <td> 0.968</td> <td>   -5.079</td> <td>    5.288</td>\n",
       "</tr>\n",
       "<tr>\n",
       "  <th>ma.L3</th>     <td>   -0.9958</td> <td>    3.020</td> <td>   -0.330</td> <td> 0.742</td> <td>   -6.914</td> <td>    4.923</td>\n",
       "</tr>\n",
       "<tr>\n",
       "  <th>ar.S.L12</th>  <td>   -0.9913</td> <td>    0.125</td> <td>   -7.940</td> <td> 0.000</td> <td>   -1.236</td> <td>   -0.747</td>\n",
       "</tr>\n",
       "<tr>\n",
       "  <th>ma.S.L12</th>  <td>    0.9471</td> <td>    0.396</td> <td>    2.393</td> <td> 0.017</td> <td>    0.171</td> <td>    1.723</td>\n",
       "</tr>\n",
       "<tr>\n",
       "  <th>sigma2</th>    <td> 1193.3862</td> <td> 3622.384</td> <td>    0.329</td> <td> 0.742</td> <td>-5906.356</td> <td> 8293.129</td>\n",
       "</tr>\n",
       "</table>\n",
       "<table class=\"simpletable\">\n",
       "<tr>\n",
       "  <th>Ljung-Box (Q):</th>          <td>39.46</td> <th>  Jarque-Bera (JB):  </th> <td>10.22</td>\n",
       "</tr>\n",
       "<tr>\n",
       "  <th>Prob(Q):</th>                <td>0.49</td>  <th>  Prob(JB):          </th> <td>0.01</td> \n",
       "</tr>\n",
       "<tr>\n",
       "  <th>Heteroskedasticity (H):</th> <td>2.03</td>  <th>  Skew:              </th> <td>0.20</td> \n",
       "</tr>\n",
       "<tr>\n",
       "  <th>Prob(H) (two-sided):</th>    <td>0.02</td>  <th>  Kurtosis:          </th> <td>4.31</td> \n",
       "</tr>\n",
       "</table><br/><br/>Warnings:<br/>[1] Covariance matrix calculated using the outer product of gradients (complex-step)."
      ],
      "text/plain": [
       "<class 'statsmodels.iolib.summary.Summary'>\n",
       "\"\"\"\n",
       "                                      SARIMAX Results                                       \n",
       "============================================================================================\n",
       "Dep. Variable:                                    y   No. Observations:                  144\n",
       "Model:             SARIMAX(3, 1, 3)x(1, 1, [1], 12)   Log Likelihood                -656.664\n",
       "Date:                              Sun, 12 Jul 2020   AIC                           1333.327\n",
       "Time:                                      20:41:34   BIC                           1362.079\n",
       "Sample:                                           0   HQIC                          1345.011\n",
       "                                              - 144                                         \n",
       "Covariance Type:                                opg                                         \n",
       "==============================================================================\n",
       "                 coef    std err          z      P>|z|      [0.025      0.975]\n",
       "------------------------------------------------------------------------------\n",
       "intercept      0.9547      0.569      1.678      0.093      -0.160       2.070\n",
       "ar.L1         -0.2194      0.091     -2.400      0.016      -0.399      -0.040\n",
       "ar.L2         -0.1679      0.098     -1.721      0.085      -0.359       0.023\n",
       "ar.L3          0.7106      0.094      7.560      0.000       0.526       0.895\n",
       "ma.L1         -0.1081      2.960     -0.037      0.971      -5.910       5.693\n",
       "ma.L2          0.1045      2.644      0.040      0.968      -5.079       5.288\n",
       "ma.L3         -0.9958      3.020     -0.330      0.742      -6.914       4.923\n",
       "ar.S.L12      -0.9913      0.125     -7.940      0.000      -1.236      -0.747\n",
       "ma.S.L12       0.9471      0.396      2.393      0.017       0.171       1.723\n",
       "sigma2      1193.3862   3622.384      0.329      0.742   -5906.356    8293.129\n",
       "===================================================================================\n",
       "Ljung-Box (Q):                       39.46   Jarque-Bera (JB):                10.22\n",
       "Prob(Q):                              0.49   Prob(JB):                         0.01\n",
       "Heteroskedasticity (H):               2.03   Skew:                             0.20\n",
       "Prob(H) (two-sided):                  0.02   Kurtosis:                         4.31\n",
       "===================================================================================\n",
       "\n",
       "Warnings:\n",
       "[1] Covariance matrix calculated using the outer product of gradients (complex-step).\n",
       "\"\"\""
      ]
     },
     "execution_count": 463,
     "metadata": {},
     "output_type": "execute_result"
    }
   ],
   "source": [
    "trained_model = auto_arima(df,error_action='ignore',m=12)\n",
    "trained_model.summary()"
   ]
  },
  {
   "cell_type": "markdown",
   "metadata": {},
   "source": [
    "The summary shows the best values for SARIMA model. You can also see the values used in the model (in AR, MA, etc) and their statistics."
   ]
  },
  {
   "cell_type": "markdown",
   "metadata": {},
   "source": [
    "## SARIMAX\n",
    "SARIMAX is a SARIMA model with exogenous regressors. "
   ]
  },
  {
   "cell_type": "code",
   "execution_count": 508,
   "metadata": {},
   "outputs": [],
   "source": [
    "\n",
    "df_train = df.iloc[:-24]\n",
    "df_valid = df.iloc[-24:]\n",
    "x = np.linspace(0,100,1000)\n",
    "y = np.log(df_train['Customers'].values)\n",
    "z = df_train['Customers'].values"
   ]
  },
  {
   "cell_type": "code",
   "execution_count": 509,
   "metadata": {},
   "outputs": [],
   "source": [
    "model = SARIMAX(z,y,order=(2,1,2), seasonal_order=(2,0,2,12))"
   ]
  },
  {
   "cell_type": "code",
   "execution_count": 510,
   "metadata": {},
   "outputs": [
    {
     "name": "stderr",
     "output_type": "stream",
     "text": [
      "C:\\Users\\Pooya\\Anaconda3\\lib\\site-packages\\statsmodels\\tsa\\statespace\\sarimax.py:994: UserWarning: Non-stationary starting seasonal autoregressive Using zeros as starting parameters.\n",
      "  warn('Non-stationary starting seasonal autoregressive'\n",
      "C:\\Users\\Pooya\\Anaconda3\\lib\\site-packages\\statsmodels\\base\\model.py:568: ConvergenceWarning: Maximum Likelihood optimization failed to converge. Check mle_retvals\n",
      "  \"Check mle_retvals\", ConvergenceWarning)\n"
     ]
    }
   ],
   "source": [
    "res = model.fit()"
   ]
  },
  {
   "cell_type": "code",
   "execution_count": 502,
   "metadata": {},
   "outputs": [
    {
     "data": {
      "text/html": [
       "<table class=\"simpletable\">\n",
       "<caption>SARIMAX Results</caption>\n",
       "<tr>\n",
       "  <th>Dep. Variable:</th>                  <td>y</td>               <th>  No. Observations:  </th>    <td>120</td>  \n",
       "</tr>\n",
       "<tr>\n",
       "  <th>Model:</th>           <td>SARIMAX(2, 1, 2)x(2, 0, 2, 12)</td> <th>  Log Likelihood     </th> <td>-509.898</td>\n",
       "</tr>\n",
       "<tr>\n",
       "  <th>Date:</th>                   <td>Sun, 12 Jul 2020</td>        <th>  AIC                </th> <td>1039.796</td>\n",
       "</tr>\n",
       "<tr>\n",
       "  <th>Time:</th>                       <td>21:12:55</td>            <th>  BIC                </th> <td>1067.587</td>\n",
       "</tr>\n",
       "<tr>\n",
       "  <th>Sample:</th>                         <td>0</td>               <th>  HQIC               </th> <td>1051.081</td>\n",
       "</tr>\n",
       "<tr>\n",
       "  <th></th>                             <td> - 120</td>             <th>                     </th>     <td> </td>   \n",
       "</tr>\n",
       "<tr>\n",
       "  <th>Covariance Type:</th>               <td>opg</td>              <th>                     </th>     <td> </td>   \n",
       "</tr>\n",
       "</table>\n",
       "<table class=\"simpletable\">\n",
       "<tr>\n",
       "      <td></td>        <th>coef</th>     <th>std err</th>      <th>z</th>      <th>P>|z|</th>  <th>[0.025</th>    <th>0.975]</th>  \n",
       "</tr>\n",
       "<tr>\n",
       "  <th>x1</th>       <td>  861.3404</td> <td>   32.251</td> <td>   26.707</td> <td> 0.000</td> <td>  798.130</td> <td>  924.551</td>\n",
       "</tr>\n",
       "<tr>\n",
       "  <th>ar.L1</th>    <td>    1.4255</td> <td>    1.634</td> <td>    0.873</td> <td> 0.383</td> <td>   -1.777</td> <td>    4.628</td>\n",
       "</tr>\n",
       "<tr>\n",
       "  <th>ar.L2</th>    <td>   -0.4925</td> <td>    1.196</td> <td>   -0.412</td> <td> 0.680</td> <td>   -2.836</td> <td>    1.851</td>\n",
       "</tr>\n",
       "<tr>\n",
       "  <th>ma.L1</th>    <td>   -1.6415</td> <td>    1.613</td> <td>   -1.018</td> <td> 0.309</td> <td>   -4.803</td> <td>    1.520</td>\n",
       "</tr>\n",
       "<tr>\n",
       "  <th>ma.L2</th>    <td>    0.6597</td> <td>    1.478</td> <td>    0.446</td> <td> 0.655</td> <td>   -2.238</td> <td>    3.557</td>\n",
       "</tr>\n",
       "<tr>\n",
       "  <th>ar.S.L12</th> <td>    1.8446</td> <td>    0.186</td> <td>    9.895</td> <td> 0.000</td> <td>    1.479</td> <td>    2.210</td>\n",
       "</tr>\n",
       "<tr>\n",
       "  <th>ar.S.L24</th> <td>   -0.9052</td> <td>    0.152</td> <td>   -5.965</td> <td> 0.000</td> <td>   -1.203</td> <td>   -0.608</td>\n",
       "</tr>\n",
       "<tr>\n",
       "  <th>ma.S.L12</th> <td>   -0.9543</td> <td>    0.318</td> <td>   -2.999</td> <td> 0.003</td> <td>   -1.578</td> <td>   -0.331</td>\n",
       "</tr>\n",
       "<tr>\n",
       "  <th>ma.S.L24</th> <td>    0.1975</td> <td>    0.213</td> <td>    0.927</td> <td> 0.354</td> <td>   -0.220</td> <td>    0.615</td>\n",
       "</tr>\n",
       "<tr>\n",
       "  <th>sigma2</th>   <td>  244.8553</td> <td>   38.315</td> <td>    6.391</td> <td> 0.000</td> <td>  169.759</td> <td>  319.952</td>\n",
       "</tr>\n",
       "</table>\n",
       "<table class=\"simpletable\">\n",
       "<tr>\n",
       "  <th>Ljung-Box (Q):</th>          <td>35.10</td> <th>  Jarque-Bera (JB):  </th> <td>11.83</td>\n",
       "</tr>\n",
       "<tr>\n",
       "  <th>Prob(Q):</th>                <td>0.69</td>  <th>  Prob(JB):          </th> <td>0.00</td> \n",
       "</tr>\n",
       "<tr>\n",
       "  <th>Heteroskedasticity (H):</th> <td>0.68</td>  <th>  Skew:              </th> <td>-0.55</td>\n",
       "</tr>\n",
       "<tr>\n",
       "  <th>Prob(H) (two-sided):</th>    <td>0.22</td>  <th>  Kurtosis:          </th> <td>4.09</td> \n",
       "</tr>\n",
       "</table><br/><br/>Warnings:<br/>[1] Covariance matrix calculated using the outer product of gradients (complex-step)."
      ],
      "text/plain": [
       "<class 'statsmodels.iolib.summary.Summary'>\n",
       "\"\"\"\n",
       "                                     SARIMAX Results                                      \n",
       "==========================================================================================\n",
       "Dep. Variable:                                  y   No. Observations:                  120\n",
       "Model:             SARIMAX(2, 1, 2)x(2, 0, 2, 12)   Log Likelihood                -509.898\n",
       "Date:                            Sun, 12 Jul 2020   AIC                           1039.796\n",
       "Time:                                    21:12:55   BIC                           1067.587\n",
       "Sample:                                         0   HQIC                          1051.081\n",
       "                                            - 120                                         \n",
       "Covariance Type:                              opg                                         \n",
       "==============================================================================\n",
       "                 coef    std err          z      P>|z|      [0.025      0.975]\n",
       "------------------------------------------------------------------------------\n",
       "x1           861.3404     32.251     26.707      0.000     798.130     924.551\n",
       "ar.L1          1.4255      1.634      0.873      0.383      -1.777       4.628\n",
       "ar.L2         -0.4925      1.196     -0.412      0.680      -2.836       1.851\n",
       "ma.L1         -1.6415      1.613     -1.018      0.309      -4.803       1.520\n",
       "ma.L2          0.6597      1.478      0.446      0.655      -2.238       3.557\n",
       "ar.S.L12       1.8446      0.186      9.895      0.000       1.479       2.210\n",
       "ar.S.L24      -0.9052      0.152     -5.965      0.000      -1.203      -0.608\n",
       "ma.S.L12      -0.9543      0.318     -2.999      0.003      -1.578      -0.331\n",
       "ma.S.L24       0.1975      0.213      0.927      0.354      -0.220       0.615\n",
       "sigma2       244.8553     38.315      6.391      0.000     169.759     319.952\n",
       "===================================================================================\n",
       "Ljung-Box (Q):                       35.10   Jarque-Bera (JB):                11.83\n",
       "Prob(Q):                              0.69   Prob(JB):                         0.00\n",
       "Heteroskedasticity (H):               0.68   Skew:                            -0.55\n",
       "Prob(H) (two-sided):                  0.22   Kurtosis:                         4.09\n",
       "===================================================================================\n",
       "\n",
       "Warnings:\n",
       "[1] Covariance matrix calculated using the outer product of gradients (complex-step).\n",
       "\"\"\""
      ]
     },
     "execution_count": 502,
     "metadata": {},
     "output_type": "execute_result"
    }
   ],
   "source": [
    "res.summary()"
   ]
  },
  {
   "cell_type": "code",
   "execution_count": 512,
   "metadata": {},
   "outputs": [],
   "source": [
    "start=len(df_train)\n",
    "end=len(df_train)+len(df_valid)-1\n",
    "pred = res.predict(start=start, end=end, dynamic=False, exog = np.log(df_valid['Customers'].values))"
   ]
  },
  {
   "cell_type": "code",
   "execution_count": 514,
   "metadata": {},
   "outputs": [
    {
     "data": {
      "text/plain": [
       "array([1220.97297391, 1163.65783853, 1359.02219835, 1323.9723233 ,\n",
       "       1388.62812576, 1580.78919018, 1790.89878949, 1831.88680034,\n",
       "       1525.35791023, 1362.50309355, 1212.32088596, 1333.2642226 ,\n",
       "       1372.4981513 , 1301.81306826, 1410.31499016, 1480.7384007 ,\n",
       "       1515.59534023, 1710.95575952, 1916.4570874 , 1921.30464198,\n",
       "       1628.78412643, 1493.35067742, 1303.2155838 , 1419.02238924])"
      ]
     },
     "execution_count": 514,
     "metadata": {},
     "output_type": "execute_result"
    }
   ],
   "source": []
  },
  {
   "cell_type": "code",
   "execution_count": 515,
   "metadata": {},
   "outputs": [
    {
     "data": {
      "text/plain": [
       "<matplotlib.legend.Legend at 0x269fb518>"
      ]
     },
     "execution_count": 515,
     "metadata": {},
     "output_type": "execute_result"
    },
    {
     "data": {
      "image/png": "[encoded data removed]",
      "text/plain": [
       "<Figure size 432x288 with 1 Axes>"
      ]
     },
     "metadata": {},
     "output_type": "display_data"
    }
   ],
   "source": [
    "plt.plot(df_valid.values, label = 'Actual')\n",
    "plt.plot(pred, label='Forecase')\n",
    "plt.legend()"
   ]
  },
  {
   "cell_type": "markdown",
   "metadata": {},
   "source": [
    "# Prophet\n",
    "Prophet is a time series analysis and forecasting package developed by Facebook. Prophet allows you to train forscasting models with minimal need to adjust the models patameters. Prophet is particularly useful when you are dealing with data that has multiple levels of seasonality."
   ]
  },
  {
   "cell_type": "code",
   "execution_count": 516,
   "metadata": {},
   "outputs": [
    {
     "ename": "ModuleNotFoundError",
     "evalue": "No module named 'fbprophet'",
     "output_type": "error",
     "traceback": [
      "\u001b[1;31m---------------------------------------------------------------------------\u001b[0m",
      "\u001b[1;31mModuleNotFoundError\u001b[0m                       Traceback (most recent call last)",
      "\u001b[1;32m<ipython-input-516-f503e9c6cf11>\u001b[0m in \u001b[0;36m<module>\u001b[1;34m()\u001b[0m\n\u001b[1;32m----> 1\u001b[1;33m \u001b[1;32mfrom\u001b[0m \u001b[0mfbprophet\u001b[0m \u001b[1;32mimport\u001b[0m \u001b[0mProphet\u001b[0m\u001b[1;33m\u001b[0m\u001b[0m\n\u001b[0m",
      "\u001b[1;31mModuleNotFoundError\u001b[0m: No module named 'fbprophet'"
     ]
    }
   ],
   "source": [
    "from fbprophet import Prophet\n",
    "from fbprophet.diagnostics import cross_validation\n",
    "from fbprophet.diagnostics import performance_metrics"
   ]
  },
  {
   "cell_type": "code",
   "execution_count": 517,
   "metadata": {},
   "outputs": [
    {
     "data": {
      "text/html": [
       "<div>\n",
       "<style scoped>\n",
       "    .dataframe tbody tr th:only-of-type {\n",
       "        vertical-align: middle;\n",
       "    }\n",
       "\n",
       "    .dataframe tbody tr th {\n",
       "        vertical-align: top;\n",
       "    }\n",
       "\n",
       "    .dataframe thead th {\n",
       "        text-align: right;\n",
       "    }\n",
       "</style>\n",
       "<table border=\"1\" class=\"dataframe\">\n",
       "  <thead>\n",
       "    <tr style=\"text-align: right;\">\n",
       "      <th></th>\n",
       "      <th>Customers</th>\n",
       "    </tr>\n",
       "    <tr>\n",
       "      <th>Month</th>\n",
       "      <th></th>\n",
       "    </tr>\n",
       "  </thead>\n",
       "  <tbody>\n",
       "    <tr>\n",
       "      <th>1994-01-01</th>\n",
       "      <td>412</td>\n",
       "    </tr>\n",
       "    <tr>\n",
       "      <th>1994-02-01</th>\n",
       "      <td>406</td>\n",
       "    </tr>\n",
       "    <tr>\n",
       "      <th>1994-03-01</th>\n",
       "      <td>456</td>\n",
       "    </tr>\n",
       "    <tr>\n",
       "      <th>1994-04-01</th>\n",
       "      <td>440</td>\n",
       "    </tr>\n",
       "    <tr>\n",
       "      <th>1994-05-01</th>\n",
       "      <td>422</td>\n",
       "    </tr>\n",
       "    <tr>\n",
       "      <th>...</th>\n",
       "      <td>...</td>\n",
       "    </tr>\n",
       "    <tr>\n",
       "      <th>2005-08-01</th>\n",
       "      <td>2070</td>\n",
       "    </tr>\n",
       "    <tr>\n",
       "      <th>2005-09-01</th>\n",
       "      <td>1738</td>\n",
       "    </tr>\n",
       "    <tr>\n",
       "      <th>2005-10-01</th>\n",
       "      <td>1578</td>\n",
       "    </tr>\n",
       "    <tr>\n",
       "      <th>2005-11-01</th>\n",
       "      <td>1338</td>\n",
       "    </tr>\n",
       "    <tr>\n",
       "      <th>2005-12-01</th>\n",
       "      <td>1482</td>\n",
       "    </tr>\n",
       "  </tbody>\n",
       "</table>\n",
       "<p>144 rows × 1 columns</p>\n",
       "</div>"
      ],
      "text/plain": [
       "            Customers\n",
       "Month                \n",
       "1994-01-01        412\n",
       "1994-02-01        406\n",
       "1994-03-01        456\n",
       "1994-04-01        440\n",
       "1994-05-01        422\n",
       "...               ...\n",
       "2005-08-01       2070\n",
       "2005-09-01       1738\n",
       "2005-10-01       1578\n",
       "2005-11-01       1338\n",
       "2005-12-01       1482\n",
       "\n",
       "[144 rows x 1 columns]"
      ]
     },
     "execution_count": 517,
     "metadata": {},
     "output_type": "execute_result"
    }
   ],
   "source": [
    "block_0_df = pd.read_csv(\"../../data/processed/halfhourly_dataset/halfhourly_dataset/block_0.csv\")"
   ]
  },
  {
   "cell_type": "code",
   "execution_count": null,
   "metadata": {},
   "outputs": [],
   "source": [
    "block_0_df.head()"
   ]
  },
  {
   "cell_type": "code",
   "execution_count": null,
   "metadata": {},
   "outputs": [],
   "source": [
    "block_0_df.index = block_0_df['tstp'].astype(\"datetime64\")"
   ]
  },
  {
   "cell_type": "code",
   "execution_count": null,
   "metadata": {},
   "outputs": [],
   "source": [
    "block_0_df.loc[block_0_df[\"energy(kWh/hh)\"] == \"Null\",\"energy(kWh/hh)\"]=0"
   ]
  },
  {
   "cell_type": "code",
   "execution_count": null,
   "metadata": {},
   "outputs": [],
   "source": [
    "block_0_df[\"energy(kWh/hh)\"] = block_0_df[\"energy(kWh/hh)\"].astype(\"float64\")"
   ]
  },
  {
   "cell_type": "code",
   "execution_count": null,
   "metadata": {},
   "outputs": [],
   "source": [
    "block0 = block_0_df.groupby(by=block_0_df.index).mean()"
   ]
  },
  {
   "cell_type": "code",
   "execution_count": null,
   "metadata": {},
   "outputs": [],
   "source": [
    "block0.plot()"
   ]
  },
  {
   "cell_type": "code",
   "execution_count": null,
   "metadata": {},
   "outputs": [],
   "source": [
    "block0 = block0.resample('D').sum()"
   ]
  },
  {
   "cell_type": "code",
   "execution_count": null,
   "metadata": {},
   "outputs": [],
   "source": [
    "df = pd.DataFrame({'ds':block0.index,'y':block0['energy(kWh/hh)']})"
   ]
  },
  {
   "cell_type": "code",
   "execution_count": null,
   "metadata": {},
   "outputs": [],
   "source": [
    "model = Prophet()\n",
    "model.fit(df)"
   ]
  },
  {
   "cell_type": "code",
   "execution_count": null,
   "metadata": {},
   "outputs": [],
   "source": [
    "future = model.make_future_dataframe(periods = 365)"
   ]
  },
  {
   "cell_type": "code",
   "execution_count": null,
   "metadata": {},
   "outputs": [],
   "source": [
    "forecast = model.predict(future)"
   ]
  },
  {
   "cell_type": "code",
   "execution_count": null,
   "metadata": {},
   "outputs": [],
   "source": [
    "model.plot(forecast);"
   ]
  },
  {
   "cell_type": "code",
   "execution_count": null,
   "metadata": {},
   "outputs": [],
   "source": [
    "model.plot_components(forecast);"
   ]
  },
  {
   "cell_type": "code",
   "execution_count": null,
   "metadata": {},
   "outputs": [],
   "source": [
    "# Cross validation\n",
    "df_cv = cross_validation(model, initial='365 days', period='90 days', horizon = '90 days')"
   ]
  },
  {
   "cell_type": "code",
   "execution_count": null,
   "metadata": {},
   "outputs": [],
   "source": [
    "df_cv.head()"
   ]
  },
  {
   "cell_type": "code",
   "execution_count": null,
   "metadata": {},
   "outputs": [],
   "source": [
    "df_p = performance_metrics(df_cv)\n",
    "df_p.head(20)"
   ]
  },
  {
   "cell_type": "code",
   "execution_count": null,
   "metadata": {},
   "outputs": [],
   "source": [
    "errors = df_p.groupby('horizon').mean()\n",
    "errors"
   ]
  },
  {
   "cell_type": "code",
   "execution_count": null,
   "metadata": {},
   "outputs": [],
   "source": [
    "plt.plot(range(9,91),errors[['mape']])\n",
    "plt.legend(['mape'])"
   ]
  },
  {
   "cell_type": "code",
   "execution_count": null,
   "metadata": {},
   "outputs": [],
   "source": [
    "holiday_df = pd.read_csv(\"../input/uk_bank_holidays.csv\", names=(\"ds\", \"holiday\"), header=0)\n",
    "holiday_df.head()\n",
    "model = Prophet(holidays=holiday_df)\n",
    "model.fit(df)\n",
    "\n",
    "# Cross validation\n",
    "df_cv = cross_validation(model, initial='365 days', period='90 days', horizon = '90 days')\n",
    "df_p = performance_metrics(df_cv)\n",
    "errors2 = df_p.groupby('horizon').mean()"
   ]
  },
  {
   "cell_type": "code",
   "execution_count": null,
   "metadata": {},
   "outputs": [],
   "source": [
    "plt.figure(figsize=(16,8))\n",
    "plt.plot(range(9,91),errors2['mape'],label = '+ holidays')\n",
    "plt.plot(range(9,91),errors['mape'],label = '- holidays')\n",
    "plt.xlim(9,30)\n",
    "plt.ylim(0,.3)\n",
    "plt.legend()"
   ]
  },
  {
   "cell_type": "code",
   "execution_count": null,
   "metadata": {},
   "outputs": [],
   "source": [
    "from fbprophet.plot import plot_cross_validation_metric\n",
    "fig = plot_cross_validation_metric(df_cv, metric='mape')\n",
    "plt.ylim(0,1)"
   ]
  },
  {
   "cell_type": "code",
   "execution_count": null,
   "metadata": {},
   "outputs": [],
   "source": [
    "from fbprophet.plot import add_changepoints_to_plot\n",
    "model = Prophet()\n",
    "model.fit(df)\n",
    "future = model.make_future_dataframe(periods = 365)\n",
    "forecast = model.predict(future)\n",
    "fig = model.plot(forecast)\n",
    "a = add_changepoints_to_plot(fig.gca(), model, forecast)"
   ]
  },
  {
   "cell_type": "code",
   "execution_count": null,
   "metadata": {},
   "outputs": [],
   "source": [
    "model = Prophet(changepoint_prior_scale=0.1)\n",
    "model.fit(df)\n",
    "future = model.make_future_dataframe(periods = 365)\n",
    "forecast = model.predict(future)\n",
    "fig = model.plot(forecast)\n",
    "a = add_changepoints_to_plot(fig.gca(), model, forecast)"
   ]
  }
 ],
 "metadata": {
  "kernelspec": {
   "display_name": "Python 3",
   "language": "python",
   "name": "python3"
  },
  "language_info": {
   "codemirror_mode": {
    "name": "ipython",
    "version": 3
   },
   "file_extension": ".py",
   "mimetype": "text/x-python",
   "name": "python",
   "nbconvert_exporter": "python",
   "pygments_lexer": "ipython3",
   "version": "3.6.1"
  }
 },
 "nbformat": 4,
 "nbformat_minor": 2
}
