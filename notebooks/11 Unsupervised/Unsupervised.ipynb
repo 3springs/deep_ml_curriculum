{
 "cells": [
  {
   "cell_type": "markdown",
   "metadata": {
    "ExecuteTime": {
     "end_time": "2020-07-20T11:20:10.060854Z",
     "start_time": "2020-07-20T11:20:10.056080Z"
    }
   },
   "source": [
    "# Introduction\n",
    "\n",
    "In this notebook, we will learn about unsupervised methods for clustering and dimensionality reduction.\n",
    "\n",
    "## Table of Content\n",
    "\n",
    "- [0. Packages](#0)\n",
    "- [1. Unsupervised Leaerning](#1)\n",
    "- [2. Clustering](#3)\n",
    "    - [2.1. Dataset](#2)\n",
    "- [3. Dimensionality Reduction](#4)"
   ]
  },
  {
   "cell_type": "markdown",
   "metadata": {},
   "source": [
    "# 0. Packages <a name=\"0\"></a>\n",
    "\n",
    "In this session, we will make use of the following packages:\n",
    "- [PathLib](https://docs.python.org/3/library/pathlib.html) is a convenient library to work with path names.\n",
    "- [NumPy](https://docs.scipy.org/doc/numpy/) is a popular library for scientific computing.\n",
    "- [matplotlib](https://matplotlib.org/3.1.1/contents.html) is a plotting library compatible with numpy.\n",
    "- [pandas](https://pandas.pydata.org/docs/) is what we'll use to manipulate our data.\n",
    "- [sklearn](https://scikit-learn.org/stable/index.html) will be used to measure the performance of our model.\n",
    "\n",
    "Run the next cell to import the necessary packages mentioned before. Besides, we will add more packages as needed while progressing in this session."
   ]
  },
  {
   "cell_type": "code",
   "execution_count": 4,
   "metadata": {
    "ExecuteTime": {
     "end_time": "2020-07-20T11:42:26.468272Z",
     "start_time": "2020-07-20T11:42:26.461931Z"
    }
   },
   "outputs": [],
   "source": [
    "# Good practice to use short but clear aliases for the imported libraries\n",
    "from pathlib import Path\n",
    "import numpy as np\n",
    "import matplotlib.pyplot as plt\n",
    "import pandas as pd\n",
    "import sklearn\n",
    "# Magic Function\n",
    "%matplotlib inline\n",
    "# Hide all warnings\n",
    "import warnings\n",
    "warnings.filterwarnings('ignore') # warnings.filterwarnings(action='once')"
   ]
  },
  {
   "cell_type": "markdown",
   "metadata": {},
   "source": [
    "# 1. Unsupervised Learning\n",
    "\n",
    "> Unsupervised learning is a type of machine learning that looks for previously undetected patterns in a data set with no pre-existing labels and with a minimum of human supervision. In contrast to supervised learning that usually makes use of human-labeled data, unsupervised learning, also known as self-organization allows for modeling of probability densities over inputs. It forms one of the three main categories of machine learning, along with supervised and reinforcement learning. Semi-supervised learning, a related variant, makes use of supervised and unsupervised techniques.<br/><br/>\n",
    "Two of the main methods used in unsupervised learning are **principal component** and **cluster analysis**. Cluster analysis is used in unsupervised learning to group, or segment, datasets with shared attributes in order to extrapolate algorithmic relationships. Cluster analysis is a branch of machine learning that groups the data that has not been labelled, classified or categorized. Instead of responding to feedback, cluster analysis identifies commonalities in the data and reacts based on the presence or absence of such commonalities in each new piece of data. This approach helps detect anomalous data points that do not fit into either group.<br/><br/>\n",
    "A central application of unsupervised learning is in the field of density estimation in statistics,though unsupervised learning encompasses many other domains involving **summarizing** and **explaining data features**. It could be contrasted with supervised learning by saying that whereas supervised learning intends to infer a conditional probability distribution $pX(x|y)$ conditioned on the label $y$ of input data; unsupervised learning intends to infer an a priori probability distribution $pX(x)$.\n",
    "\n",
    "\n",
    "Source: [Wikipedia](https://en.wikipedia.org/wiki/Unsupervised_learning)"
   ]
  },
  {
   "cell_type": "markdown",
   "metadata": {},
   "source": [
    "# 2. Clustering\n",
    "\n",
    "> Cluster analysis or clustering is the task of grouping a set of objects in such a way that objects in the same group (called a cluster) are more similar (in some sense) to each other than to those in other groups (clusters). It is a main task of exploratory data mining, and a common technique for statistical data analysis, used in many fields, including pattern recognition, image analysis, information retrieval, bioinformatics, data compression, computer graphics and machine learning. Cluster analysis itself is not one specific algorithm, but the general task to be solved...\n",
    "\n",
    "Source: [Wikipedia](https://en.wikipedia.org/wiki/Cluster_analysis)\n",
    "\n",
    " <a name=\"2-1\"></a>\n",
    "## 2.1 Dataset\n",
    "\n",
    "In this session, we will be using the GeoLink dataset that used in previous sessions.\n",
    "\n",
    "**Note:** download data from https://drive.google.com/drive/folders/1EgDN57LDuvlZAwr5-eHWB5CTJ7K9HpDP\n",
    "\n",
    "Credit to this repo: https://github.com/LukasMosser/geolink_dataset\n",
    "\n",
    "## Data Disclaimer\n",
    "\n",
    "All the data serving as an input to these notebooks was generously donated by GEOLINK  \n",
    "and is CC-by-SA 4.0 \n",
    "\n",
    "If you use this data please reference the dataset properly to give them credit for their contribution.\n",
    "\n",
    "\n",
    "## Data Preparation\n",
    "The geolink dataset we will use in this notebook has been preprocessed. You can find the process of preparation of this dataset in <code>notebook/00 Data Prep/00-mc-prep_geolink_norge_dataset.ipynb</code>\n",
    "\n",
    "## Load Dataset\n",
    "\n",
    "Let's load the dataset"
   ]
  },
  {
   "cell_type": "code",
   "execution_count": 5,
   "metadata": {
    "ExecuteTime": {
     "end_time": "2020-07-20T11:42:31.137175Z",
     "start_time": "2020-07-20T11:42:30.287909Z"
    }
   },
   "outputs": [
    {
     "data": {
      "text/html": [
       "<div>\n",
       "<style scoped>\n",
       "    .dataframe tbody tr th:only-of-type {\n",
       "        vertical-align: middle;\n",
       "    }\n",
       "\n",
       "    .dataframe tbody tr th {\n",
       "        vertical-align: top;\n",
       "    }\n",
       "\n",
       "    .dataframe thead th {\n",
       "        text-align: right;\n",
       "    }\n",
       "</style>\n",
       "<table border=\"1\" class=\"dataframe\">\n",
       "  <thead>\n",
       "    <tr style=\"text-align: right;\">\n",
       "      <th></th>\n",
       "      <th></th>\n",
       "      <th>LITHOLOGY_GEOLINK</th>\n",
       "      <th>CALI</th>\n",
       "      <th>RHOB</th>\n",
       "      <th>GR</th>\n",
       "      <th>DTC</th>\n",
       "      <th>RDEP</th>\n",
       "      <th>RMED</th>\n",
       "    </tr>\n",
       "    <tr>\n",
       "      <th>Well</th>\n",
       "      <th>DEPT</th>\n",
       "      <th></th>\n",
       "      <th></th>\n",
       "      <th></th>\n",
       "      <th></th>\n",
       "      <th></th>\n",
       "      <th></th>\n",
       "      <th></th>\n",
       "    </tr>\n",
       "  </thead>\n",
       "  <tbody>\n",
       "    <tr>\n",
       "      <th rowspan=\"5\" valign=\"top\">15_9-12</th>\n",
       "      <th>2215.917725</th>\n",
       "      <td>Shaly Silt</td>\n",
       "      <td>14.438001</td>\n",
       "      <td>2.363000</td>\n",
       "      <td>60.285748</td>\n",
       "      <td>134.253601</td>\n",
       "      <td>0.737006</td>\n",
       "      <td>0.785088</td>\n",
       "    </tr>\n",
       "    <tr>\n",
       "      <th>2216.070068</th>\n",
       "      <td>Shaly Silt</td>\n",
       "      <td>14.633000</td>\n",
       "      <td>2.340000</td>\n",
       "      <td>63.250000</td>\n",
       "      <td>129.101868</td>\n",
       "      <td>0.741000</td>\n",
       "      <td>0.840000</td>\n",
       "    </tr>\n",
       "    <tr>\n",
       "      <th>2216.222412</th>\n",
       "      <td>Shaly Silt</td>\n",
       "      <td>14.813001</td>\n",
       "      <td>2.314000</td>\n",
       "      <td>61.405998</td>\n",
       "      <td>122.476944</td>\n",
       "      <td>0.752000</td>\n",
       "      <td>0.858000</td>\n",
       "    </tr>\n",
       "    <tr>\n",
       "      <th>2216.375000</th>\n",
       "      <td>Shaly Silt</td>\n",
       "      <td>14.383001</td>\n",
       "      <td>2.293000</td>\n",
       "      <td>62.561596</td>\n",
       "      <td>116.908607</td>\n",
       "      <td>0.739962</td>\n",
       "      <td>0.857046</td>\n",
       "    </tr>\n",
       "    <tr>\n",
       "      <th>2216.527344</th>\n",
       "      <td>Shaly Silt</td>\n",
       "      <td>14.202999</td>\n",
       "      <td>2.275000</td>\n",
       "      <td>61.691055</td>\n",
       "      <td>115.390953</td>\n",
       "      <td>0.715966</td>\n",
       "      <td>0.886082</td>\n",
       "    </tr>\n",
       "    <tr>\n",
       "      <th>...</th>\n",
       "      <th>...</th>\n",
       "      <td>...</td>\n",
       "      <td>...</td>\n",
       "      <td>...</td>\n",
       "      <td>...</td>\n",
       "      <td>...</td>\n",
       "      <td>...</td>\n",
       "      <td>...</td>\n",
       "    </tr>\n",
       "    <tr>\n",
       "      <th rowspan=\"5\" valign=\"top\">7_3-1</th>\n",
       "      <th>4569.153320</th>\n",
       "      <td>Cross Bedded Sst</td>\n",
       "      <td>8.538000</td>\n",
       "      <td>2.643616</td>\n",
       "      <td>50.886002</td>\n",
       "      <td>63.442799</td>\n",
       "      <td>6.727000</td>\n",
       "      <td>6.835000</td>\n",
       "    </tr>\n",
       "    <tr>\n",
       "      <th>4569.305664</th>\n",
       "      <td>Cross Bedded Sst</td>\n",
       "      <td>8.540000</td>\n",
       "      <td>2.631049</td>\n",
       "      <td>51.219002</td>\n",
       "      <td>63.450794</td>\n",
       "      <td>6.639000</td>\n",
       "      <td>6.690000</td>\n",
       "    </tr>\n",
       "    <tr>\n",
       "      <th>4569.458008</th>\n",
       "      <td>Cross Bedded Sst</td>\n",
       "      <td>8.548000</td>\n",
       "      <td>2.626054</td>\n",
       "      <td>51.671001</td>\n",
       "      <td>63.590557</td>\n",
       "      <td>6.551000</td>\n",
       "      <td>6.520000</td>\n",
       "    </tr>\n",
       "    <tr>\n",
       "      <th>4569.610352</th>\n",
       "      <td>Cross Bedded Sst</td>\n",
       "      <td>8.552000</td>\n",
       "      <td>2.624065</td>\n",
       "      <td>51.820999</td>\n",
       "      <td>64.036644</td>\n",
       "      <td>6.464000</td>\n",
       "      <td>6.462185</td>\n",
       "    </tr>\n",
       "    <tr>\n",
       "      <th>4569.762695</th>\n",
       "      <td>Cross Bedded Sst</td>\n",
       "      <td>8.546000</td>\n",
       "      <td>2.636137</td>\n",
       "      <td>51.327999</td>\n",
       "      <td>64.322495</td>\n",
       "      <td>6.423000</td>\n",
       "      <td>6.439074</td>\n",
       "    </tr>\n",
       "  </tbody>\n",
       "</table>\n",
       "<p>1192269 rows × 7 columns</p>\n",
       "</div>"
      ],
      "text/plain": [
       "                    LITHOLOGY_GEOLINK       CALI      RHOB         GR  \\\n",
       "Well    DEPT                                                            \n",
       "15_9-12 2215.917725        Shaly Silt  14.438001  2.363000  60.285748   \n",
       "        2216.070068        Shaly Silt  14.633000  2.340000  63.250000   \n",
       "        2216.222412        Shaly Silt  14.813001  2.314000  61.405998   \n",
       "        2216.375000        Shaly Silt  14.383001  2.293000  62.561596   \n",
       "        2216.527344        Shaly Silt  14.202999  2.275000  61.691055   \n",
       "...                               ...        ...       ...        ...   \n",
       "7_3-1   4569.153320  Cross Bedded Sst   8.538000  2.643616  50.886002   \n",
       "        4569.305664  Cross Bedded Sst   8.540000  2.631049  51.219002   \n",
       "        4569.458008  Cross Bedded Sst   8.548000  2.626054  51.671001   \n",
       "        4569.610352  Cross Bedded Sst   8.552000  2.624065  51.820999   \n",
       "        4569.762695  Cross Bedded Sst   8.546000  2.636137  51.327999   \n",
       "\n",
       "                            DTC      RDEP      RMED  \n",
       "Well    DEPT                                         \n",
       "15_9-12 2215.917725  134.253601  0.737006  0.785088  \n",
       "        2216.070068  129.101868  0.741000  0.840000  \n",
       "        2216.222412  122.476944  0.752000  0.858000  \n",
       "        2216.375000  116.908607  0.739962  0.857046  \n",
       "        2216.527344  115.390953  0.715966  0.886082  \n",
       "...                         ...       ...       ...  \n",
       "7_3-1   4569.153320   63.442799  6.727000  6.835000  \n",
       "        4569.305664   63.450794  6.639000  6.690000  \n",
       "        4569.458008   63.590557  6.551000  6.520000  \n",
       "        4569.610352   64.036644  6.464000  6.462185  \n",
       "        4569.762695   64.322495  6.423000  6.439074  \n",
       "\n",
       "[1192269 rows x 7 columns]"
      ]
     },
     "execution_count": 5,
     "metadata": {},
     "output_type": "execute_result"
    }
   ],
   "source": [
    "interim_locations = Path(\"../../data/processed/geolink_norge_dataset/\")\n",
    "# Load processed dataset\n",
    "geolink = pd.read_parquet(interim_locations/'geolink_norge_well_logs_train.parquet').set_index(['Well', 'DEPT'])\n",
    "geolink"
   ]
  },
  {
   "cell_type": "markdown",
   "metadata": {},
   "source": [
    "## 2.2 KMeans\n",
    "\n",
    "\n",
    "> k-means clustering is a method of vector quantization, originally from signal processing, that aims to partition n observations into k clusters in which each observation belongs to the cluster with the nearest mean (cluster centers or cluster centroid), serving as a prototype of the cluster.\n",
    "\n",
    "\n",
    "In the example below, we have some data in a 2d space with 3 clusters. The algorithm will find the best centroids for the 3 clusters in a iterative process:\n",
    "\n",
    "![kmeans-convergence](https://upload.wikimedia.org/wikipedia/commons/e/ea/K-means_convergence.gif)\n",
    "\n",
    "Source: [Wikipedia](https://en.wikipedia.org/wiki/K-means_clustering), [Image](https://en.wikipedia.org/wiki/K-means_clustering#/media/File:K-means_convergence.gif) License Image: [CC BY-SA 4.0](https://creativecommons.org/licenses/by-sa/4.0/)"
   ]
  },
  {
   "cell_type": "markdown",
   "metadata": {},
   "source": [
    "## 2.3 DBScan\n",
    "\n",
    "> Density-based spatial clustering of applications with noise (DBSCAN) is a data clustering algorithm proposed by Martin Ester, Hans-Peter Kriegel, Jörg Sander and Xiaowei Xu in 1996. It is a density-based clustering non-parametric algorithm: given a set of points in some space, it groups together points that are closely packed together (points with many nearby neighbors), marking as outliers points that lie alone in low-density regions (whose nearest neighbors are too far away). DBSCAN is one of the most common clustering algorithms and also most cited in scientific literature.\n",
    "\n",
    "### Why should I use it?\n",
    "\n",
    "> In 2014, the algorithm was awarded the test of time award (an award given to algorithms which have received substantial attention in theory and practice) at the leading data mining conference, ACM SIGKDD. As of July 2020, the follow-up paper \"DBSCAN Revisited, Revisited: Why and How You Should (Still) Use DBSCAN\" appears in the list of the 8 most downloaded articles of the prestigious ACM Transactions on Database Systems (TODS) journal\n",
    "\n",
    "***DBSCAN can find non-linearly separable clusters. This dataset cannot be adequately clustered with k-means or Gaussian Mixture EM clustering.***\n",
    "![](https://upload.wikimedia.org/wikipedia/commons/thumb/0/05/DBSCAN-density-data.svg/1920px-DBSCAN-density-data.svg.png)\n",
    "\n",
    "Source: [Wikipedia](https://en.wikipedia.org/wiki/DBSCAN), [Source Image](https://en.wikipedia.org/wiki/DBSCAN#/media/File:DBSCAN-density-data.svg) License Image: [CC BY-SA 3.0](https://creativecommons.org/licenses/by-sa/3.0/)"
   ]
  },
  {
   "cell_type": "markdown",
   "metadata": {},
   "source": [
    "# 3. Dimensionality Reduction"
   ]
  },
  {
   "cell_type": "markdown",
   "metadata": {},
   "source": [
    "\n",
    "Source: [Kaggle](https://www.kaggle.com/arthurtok/principal-component-analysis-with-kmeans-visuals) License: [Apache 2.0]('http://www.apache.org/licenses/LICENSE-2.0)"
   ]
  },
  {
   "cell_type": "code",
   "execution_count": null,
   "metadata": {},
   "outputs": [],
   "source": []
  }
 ],
 "metadata": {
  "kernelspec": {
   "display_name": "Python 3",
   "language": "python",
   "name": "python3"
  },
  "language_info": {
   "codemirror_mode": {
    "name": "ipython",
    "version": 3
   },
   "file_extension": ".py",
   "mimetype": "text/x-python",
   "name": "python",
   "nbconvert_exporter": "python",
   "pygments_lexer": "ipython3",
   "version": "3.6.5"
  },
  "varInspector": {
   "cols": {
    "lenName": 16,
    "lenType": 16,
    "lenVar": 40
   },
   "kernels_config": {
    "python": {
     "delete_cmd_postfix": "",
     "delete_cmd_prefix": "del ",
     "library": "var_list.py",
     "varRefreshCmd": "print(var_dic_list())"
    },
    "r": {
     "delete_cmd_postfix": ") ",
     "delete_cmd_prefix": "rm(",
     "library": "var_list.r",
     "varRefreshCmd": "cat(var_dic_list()) "
    }
   },
   "types_to_exclude": [
    "module",
    "function",
    "builtin_function_or_method",
    "instance",
    "_Feature"
   ],
   "window_display": false
  }
 },
 "nbformat": 4,
 "nbformat_minor": 4
}
