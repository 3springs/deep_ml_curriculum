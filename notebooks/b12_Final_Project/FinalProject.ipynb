{
 "cells": [
  {
   "cell_type": "markdown",
   "metadata": {},
   "source": [
    "# Final project Data Visualisation and Data Science"
   ]
  },
  {
   "cell_type": "markdown",
   "metadata": {},
   "source": [
    "__Welcome to the final project of Data Visualisation and Data Science!__ \n",
    "\n",
    "Sometimes the biggest step in learning is going from the ordered tutorial environment into the wild. It can be confusing and frustrating, so it's best to give it a try now, while you can get help.\n",
    "\n",
    "In this project, you will try your own project, with help from the instructors.\n",
    "\n",
    "\n",
    "We suggest taking a new well log (shown below), then trying some techniques from the previous noteooks. For example \n",
    "- copy UMAP from the unsupervised notebook, run it on a new well\n",
    "- your own idea\n",
    "\n",
    "Don't forget to ask for help, brainstorming, suggestions, etc"
   ]
  },
  {
   "cell_type": "markdown",
   "metadata": {},
   "source": [
    "# Import Libraries"
   ]
  },
  {
   "cell_type": "code",
   "execution_count": 1,
   "metadata": {
    "ExecuteTime": {
     "end_time": "2020-10-02T02:12:53.903268Z",
     "start_time": "2020-10-02T02:12:52.644071Z"
    }
   },
   "outputs": [],
   "source": [
    "import numpy as np\n",
    "import pandas as pd\n",
    "from pathlib import Path\n",
    "from PIL import Image\n",
    "from ipywidgets import interact, widgets\n",
    "import torchvision\n",
    "import matplotlib.pyplot as plt\n",
    "\n",
    "# Magic Function\n",
    "%matplotlib inline\n",
    "# Hide all warnings\n",
    "import warnings\n",
    "warnings.filterwarnings('ignore') # warnings.filterwarnings(action='once')"
   ]
  },
  {
   "cell_type": "markdown",
   "metadata": {
    "ExecuteTime": {
     "end_time": "2020-10-02T02:02:58.728371Z",
     "start_time": "2020-10-02T02:02:58.712334Z"
    }
   },
   "source": [
    "<details>\n",
    "<summary><b>→ About the Geolink dataset </b></summary>\n",
    "\n",
    "This is a well dataset of Well's Petroleum wells drilled on the Norwegian continental shelf. It was released by the Norweigen Government, cleaned by Geolink, and loaded by LukasMosser. The full dataset has 221 wells, over 150 lithologies, with around 500 MB of data.\n",
    "\n",
    "\n",
    "You don't need to understand the data fully for this course, but here's a brief overview\n",
    "\n",
    "- Well - The well name\n",
    "- DEPT - Depth below the ground in meters\n",
    "- LITHOLOGY_GEOLINK - This is the facies or lithology, which means rock type. This is a label, made by multiple human experts by looking at the context, the well, maps of the area, and often picture of rock samples extracted from the well.\n",
    "- [Well logs](https://en.wikipedia.org/wiki/Well_logging): These are specialised measurements by instruments lowered down the well hole\n",
    "    - CALI - [Caliper log](https://en.wikipedia.org/wiki/Caliper_log), this measures the size of the well bore\n",
    "    - GR - [Gamma Ray](https://en.wikipedia.org/wiki/Gamma_ray_logging): Measure passive amount of high energy electromagnetic radiation naturally emitted from the rock\n",
    "    - RHOB - [Bulk Density](https://en.wikipedia.org/wiki/Density_logging): Measured active amount high energy electromagnetic radiation. This has a transmitting source of gamma rays\n",
    "    - DTC - [Compressional wave](https://en.wikipedia.org/wiki/Longitudinal_wave) travel time: This measure the how long a compressional wave takes to travel through the formationation\n",
    "    - RDEP - [Resistivity](https://en.wikipedia.org/wiki/Resistivity_logging) Deep: Electrical resistivity through the rock with a deep penetration\n",
    "    - RMED - Resistivity Medium: Electrical resistivity through the rock with a nedium penetration\n",
    "    - *Many other well logs were removed as they were not present in all wells*\n",
    "    \n",
    "Interpreting lithology from well logs is a very hard problem for machine learning because:\n",
    "\n",
    "- It's usually done by expert humans (Petrophysicists) with years to decades of experience, not an random human\n",
    "- it takes into account context in the form of prior knowledge, geology, nearby wells, rock samples, and many more. Many of these are forms of information the machine doesn't have access to\n",
    "- The data is unbalanced with important rocks like sandstone sometimes appearing as very this layers\n",
    "\n",
    "\n",
    "<table>\n",
    "    <tr>\n",
    "        <td>\n",
    "<img width=\"480\" src=\"../../reports/figures/30-4_1.png\"/>\n",
    "        </td>\n",
    "        <td>\n",
    "<img width=\"320\" src=\"../../data/processed/geolink_norge_dataset/location of geolink wells.png\"/>\n",
    "        </td>\n",
    "    </tr>\n",
    "</table>\n",
    "\n",
    "\n",
    "### Data Disclaimer\n",
    "\n",
    "All the data serving as an input to these notebooks was generously donated by GEOLINK  \n",
    "and is CC-by-SA 4.0 \n",
    "\n",
    "If you use this data please reference the dataset properly to give them credit for their contribution.\n",
    "\n",
    "**Note:** download data from https://drive.google.com/drive/folders/1EgDN57LDuvlZAwr5-eHWB5CTJ7K9HpDP\n",
    "\n",
    "Credit to this repo: https://github.com/LukasMosser/geolink_dataset\n",
    "\n",
    "### Data Preparation\n",
    "\n",
    "The geolink dataset we will use in this notebook has been preprocessed. You can find the process of preparation of this dataset in [Data Preparation](../z00_Data_prep/00-mc-prep_geolink_norge_dataset.ipynb)\n",
    "\n",
    "</details>"
   ]
  },
  {
   "cell_type": "markdown",
   "metadata": {},
   "source": [
    "# Load Dataset"
   ]
  },
  {
   "cell_type": "code",
   "execution_count": null,
   "metadata": {
    "ExecuteTime": {
     "start_time": "2020-10-02T02:12:52.642Z"
    },
    "scrolled": true
   },
   "outputs": [],
   "source": [
    "interim_locations = Path(\"../../data/processed/geolink_norge_dataset/\")\n",
    "# Load processed dataset\n",
    "geolink_all = pd.read_parquet(\n",
    "    interim_locations / \"geolink_norge_well_logs_train.parquet\"\n",
    ").set_index([\"Well\", \"DEPT\"])\n",
    "# Add Depth as column\n",
    "geolink_all['DEPT'] = geolink_all.index.get_level_values(1)\n",
    "\n",
    "print('Choose a random well')\n",
    "Wells = geolink_all.index.get_level_values(0).value_counts()\n",
    "print(Wells.head(50).sample(10))"
   ]
  },
  {
   "cell_type": "markdown",
   "metadata": {},
   "source": [
    "<div class=\"alert alert-info\" style=\"font-size:100%\">\n",
    "Adopt a well by choosing a well name, and setting it below\n",
    "</div>"
   ]
  },
  {
   "cell_type": "code",
   "execution_count": null,
   "metadata": {
    "ExecuteTime": {
     "start_time": "2020-10-02T02:12:52.648Z"
    }
   },
   "outputs": [],
   "source": [
    "# Choose a well name here\n",
    "well_name = Wells.head(50).sample(1).index[0]\n",
    "# well_name = '35_X-X'\n",
    "\n",
    "print('well_name', well_name)\n",
    "geolink = geolink_all.xs(well_name)\n",
    "geolink"
   ]
  },
  {
   "cell_type": "code",
   "execution_count": null,
   "metadata": {
    "ExecuteTime": {
     "start_time": "2020-10-02T02:12:52.651Z"
    }
   },
   "outputs": [],
   "source": [
    "# View your well\n",
    "from deep_ml_curriculum.visualization.well_log import plot_facies, plot_well\n",
    "plot_well(well_name, geolink, facies=geolink['LITHOLOGY_GEOLINK'].astype('category').values)"
   ]
  },
  {
   "cell_type": "code",
   "execution_count": null,
   "metadata": {
    "ExecuteTime": {
     "start_time": "2020-10-02T02:12:52.654Z"
    }
   },
   "outputs": [],
   "source": [
    "from sklearn.preprocessing import StandardScaler\n",
    "\n",
    "# Scale the data\n",
    "sample_dataset = geolink.sample(n=5000, replace=False, random_state=2020)\n",
    "# Separating features\n",
    "X = sample_dataset[list(sample_dataset.columns[1:])]\n",
    "# Separating target\n",
    "y = sample_dataset[[\"LITHOLOGY_GEOLINK\"]]\n",
    "\n",
    "# Standardizing the features\n",
    "X = StandardScaler().fit_transform(X)\n",
    "X.shape, y.shape"
   ]
  },
  {
   "cell_type": "markdown",
   "metadata": {
    "ExecuteTime": {
     "end_time": "2020-10-02T01:46:39.807423Z",
     "start_time": "2020-10-02T01:46:39.625717Z"
    }
   },
   "source": [
    "# Project\n",
    "\n",
    "Here you decide what you want to do. If your not sure, browse the previous notebooks, and ask the instructors.\n",
    "\n",
    "The purpose is to try things yourself with more help and less guidance."
   ]
  },
  {
   "cell_type": "code",
   "execution_count": null,
   "metadata": {
    "ExecuteTime": {
     "start_time": "2020-10-02T02:12:52.657Z"
    }
   },
   "outputs": [],
   "source": [
    "# YOUR COPIED CODE HERE"
   ]
  }
 ],
 "metadata": {
  "jupytext": {
   "encoding": "# -*- coding: utf-8 -*-",
   "formats": "ipynb,py"
  },
  "kernelspec": {
   "display_name": "deep_ml_curriculum",
   "language": "python",
   "name": "deep_ml_curriculum"
  },
  "language_info": {
   "codemirror_mode": {
    "name": "ipython",
    "version": 3
   },
   "file_extension": ".py",
   "mimetype": "text/x-python",
   "name": "python",
   "nbconvert_exporter": "python",
   "pygments_lexer": "ipython3",
   "version": "3.7.9"
  },
  "toc": {
   "base_numbering": 1,
   "nav_menu": {},
   "number_sections": true,
   "sideBar": true,
   "skip_h1_title": false,
   "title_cell": "Table of Contents",
   "title_sidebar": "Contents",
   "toc_cell": false,
   "toc_position": {
    "height": "calc(100% - 180px)",
    "left": "10px",
    "top": "150px",
    "width": "349.091px"
   },
   "toc_section_display": true,
   "toc_window_display": true
  }
 },
 "nbformat": 4,
 "nbformat_minor": 4
}
