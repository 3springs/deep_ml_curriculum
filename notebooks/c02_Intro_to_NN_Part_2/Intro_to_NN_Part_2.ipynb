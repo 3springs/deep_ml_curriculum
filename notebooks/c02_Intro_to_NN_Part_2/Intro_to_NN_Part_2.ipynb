{
 "cells": [
  {
   "cell_type": "code",
   "execution_count": 1,
   "metadata": {
    "ExecuteTime": {
     "end_time": "2020-10-13T11:01:34.137781Z",
     "start_time": "2020-10-13T11:01:33.730220Z"
    }
   },
   "outputs": [],
   "source": [
    "# Let's import some libraries first\n",
    "import torch\n",
    "from torch import optim\n",
    "from torch import nn\n",
    "import torch.nn.functional as F\n",
    "\n",
    "import numpy as np\n",
    "from tqdm.auto import tqdm"
   ]
  },
  {
   "cell_type": "markdown",
   "metadata": {},
   "source": [
    "# 0. Introduction to Pytorch \n",
    "There are different architectures for Neural Networks (NNs). Those architectures are defined by blocks called layers. In this notebook we will learn how to use common layers to build a neural networks from scratch. We will also learn how to train the neural network using the `Pytorch` library and evaluate its performance.\n",
    "\n",
    "In Pytorch, we can organise those layers using containers. The most common one that we will use is the `torch.nn.Sequential` layer.\n",
    "\n",
    "In a sequential container, the modules (including activation functions and layers) will be added to it in the order they are passed. Alternatively, an ordered dictionary of modules can also be passed in.\n",
    "\n",
    "To make it easier to understand, here is a small example:\n",
    "\n",
    "Source: [Pytorch Sequential](https://pytorch.org/docs/stable/generated/torch.nn.Sequential.html)\n",
    "\n",
    "```python\n",
    "\n",
    "# Import OrderedDict, which is in the standard collection library for python\n",
    "from collections import OrderedDict\n",
    "\n",
    "# Import nn to use basic building blocks\n",
    "import torch.nn as nn\n",
    "\n",
    "# Example of using Sequential\n",
    "model = nn.Sequential(\n",
    "          nn.Conv2d(1,20,5), # This is a Convolutional Layer \n",
    "          nn.ReLU(),         # This is an activation function\n",
    "          nn.Conv2d(20,64,5),\n",
    "          nn.ReLU()\n",
    "        )\n",
    "\n",
    "# Example of using Sequential with OrderedDict\n",
    "# This is equivalent to the first model\n",
    "model = nn.Sequential(OrderedDict([\n",
    "          ('conv1', nn.Conv2d(1,20,5)),\n",
    "          ('relu1', nn.ReLU()),\n",
    "          ('conv2', nn.Conv2d(20,64,5)),\n",
    "          ('relu2', nn.ReLU())\n",
    "        ]))\n",
    "```\n",
    "\n",
    "As you can notice from the examples, `nn` contains the basic building blocks for Neural Networks as well as activiation functions, loss functions and some other useful functions.\n",
    "\n",
    "## 1. Layers in Pytorch\n",
    "\n",
    "\n",
    "### 1.2 Linear (or Dense) Layer\n",
    "\n",
    "Fully connected neural networks (FCNNs) are a type of artificial neural network where  all the neurones, in one layer are connected to the neurones in the next layer. This type of layer is defined in Pytorch by [`nn.Linear`](https://pytorch.org/docs/stable/generated/torch.nn.Linear.html#torch.nn.Linear).\n",
    "\n",
    "### 1.3 Convolutional Neural Networks\n",
    "\n",
    "The convolutional layer is the core building block of a CNN. The layer's parameters consist of a set of learnable filters (or kernels). During the forward pass, each filter is convolved across the width and height of the input volume, computing the dot product between the entries of the filter and the input and producing a 2-dimensional activation map of that filter. As a result, the network learns filters that activate when it detects some specific type of feature at some spatial position in the input.\n",
    "\n",
    "<h4>Architecture in a CNN:</h4>\n",
    "\n",
    "A convolutional neural network consists of an input and an output layer, as well as multiple hidden layers. The hidden layers of a CNN typically consist of a series of convolutional layers that convolve with a multiplication or other dot product. The activation function is commonly a RELU layer, and is subsequently followed by additional convolutions such as pooling layers, fully connected layers and normalization layers, referred to as hidden layers because their inputs and outputs are masked by the activation function and final convolution.\n",
    "\n",
    "<h4> CNN Layer: </h4>\n",
    "\n",
    "<div class=\"alert alert-info\" style=\"font-size:100%\">\n",
    "\n",
    "**NOTE:** <br>\n",
    "Use `nn.Conv2d` in Pytorch for 2d Convolutions.\n",
    "</div>\n",
    "\n",
    "A convolutional layer within a neural network should have the following attributes:\n",
    "- Convolutional kernels defined by a width and height (hyper-parameters).\n",
    "- The number of input channels and output channels (hyper-parameter).\n",
    "- The depth of the Convolution filter (the input channels) must be equal to the number channels (depth) of the input feature map. <br>\n",
    "\n",
    "In a CNNs, feature maps are extracted and the they are downsampled until the last layer where it usually have fully connected layer. Look at the examples in the image below:\n",
    "\n",
    "[Source Image](https://en.wikipedia.org/wiki/Convolutional_neural_network#/media/File:Typical_cnn.png)\n",
    "<img src='https://upload.wikimedia.org/wikipedia/commons/6/63/Typical_cnn.png' width=800 height=300>\n",
    "\n",
    "\n",
    "In neural networks, each neuron receives input from some number of locations in the previous layer. In a fully connected layer, each neuron receives input from every element of the previous layer. In a convolutional layer, neurons receive input from only a restricted subarea of the previous layer.\n",
    "\n",
    "<h4> Pooling Layers</h4>\n",
    "\n",
    "<div class=\"alert alert-info\" style=\"font-size:100%\">\n",
    "\n",
    "**NOTE:** <br>\n",
    "Use `nn.maxpool2d` in Pytorch for 2d Max Pooling.\n",
    "</div>\n",
    "\n",
    "Another important concept of CNNs is pooling, which is a form of non-linear down-sampling. The example below, shows Max pooling with a 2x2 filter and stride = 2. In every sub-region, the max value obtained.\n",
    "\n",
    "[Source Image](https://en.wikipedia.org/wiki/Convolutional_neural_network#/media/File:Max_pooling.png)\n",
    "<img src='https://upload.wikimedia.org/wikipedia/commons/e/e9/Max_pooling.png' width=400 heigh=400/>"
   ]
  },
  {
   "cell_type": "markdown",
   "metadata": {},
   "source": [
    "# CNN implementation in Pytorch"
   ]
  },
  {
   "cell_type": "markdown",
   "metadata": {},
   "source": [
    "Data source: https://dataunderground.org/dataset/landmass-f3\n",
    "\n",
    "Credits to researchers at Georgia Tech, Agile Geoscience\n",
    "License CCbySA\n",
    "\n",
    "In this notebook, we will be using the landmass dataset, which have been preprocessed already. In this dataset, we have images of 4 different types of landmass: ['Discontinuous', 'Faulted', 'Continuous', 'Salt'].\n",
    "\n",
    "This is an example of [seismic data](https://en.wikipedia.org/wiki/Reflection_seismology) which is a way of using seismic to image the structure of the Earth, below the surface. These waves are similar to sounds waves in air. The lines represent changes in density below the surface.\n",
    "\n",
    "We will train a CNN to learn how to classify images into those 4 groups."
   ]
  },
  {
   "cell_type": "code",
   "execution_count": 2,
   "metadata": {
    "ExecuteTime": {
     "end_time": "2020-10-13T11:01:34.157752Z",
     "start_time": "2020-10-13T11:01:34.139511Z"
    }
   },
   "outputs": [
    {
     "data": {
      "text/plain": [
       "device(type='cuda', index=0)"
      ]
     },
     "execution_count": 2,
     "metadata": {},
     "output_type": "execute_result"
    }
   ],
   "source": [
    "device = torch.device(\"cuda:0\" if torch.cuda.is_available() else \"cpu\")\n",
    "device"
   ]
  },
  {
   "cell_type": "code",
   "execution_count": 3,
   "metadata": {
    "ExecuteTime": {
     "end_time": "2020-10-13T11:01:34.545071Z",
     "start_time": "2020-10-13T11:01:34.169245Z"
    }
   },
   "outputs": [
    {
     "name": "stdout",
     "output_type": "stream",
     "text": [
      "Dataset LandmassF3Patches\n",
      "    Number of datapoints: 13250\n",
      "    Root location: /home/wassname/notebooks/deep_ml_curriculum/data/processed/landmass-f3\n",
      "    Split: Train\n",
      "Dataset LandmassF3Patches\n",
      "    Number of datapoints: 4417\n",
      "    Root location: /home/wassname/notebooks/deep_ml_curriculum/data/processed/landmass-f3\n",
      "    Split: Test\n"
     ]
    }
   ],
   "source": [
    "# Let's import the Patches\n",
    "from deep_ml_curriculum.data.landmass_f3 import LandmassF3Patches\n",
    "from deep_ml_curriculum.config import project_dir\n",
    "\n",
    "landmassf3_train = LandmassF3Patches(\n",
    "    project_dir / \"data/processed/landmass-f3\", train=True\n",
    ")\n",
    "landmassf3_test = LandmassF3Patches(\n",
    "    project_dir / \"data/processed/landmass-f3\", train=False\n",
    ")\n",
    "print(landmassf3_train)\n",
    "print(landmassf3_test)"
   ]
  },
  {
   "cell_type": "code",
   "execution_count": 4,
   "metadata": {
    "ExecuteTime": {
     "end_time": "2020-10-13T11:01:34.550634Z",
     "start_time": "2020-10-13T11:01:34.546598Z"
    }
   },
   "outputs": [
    {
     "name": "stdout",
     "output_type": "stream",
     "text": [
      "torch.Size([13250, 99, 99])\n",
      "torch.Size([4417, 99, 99])\n"
     ]
    }
   ],
   "source": [
    "# Let's have a look at the dataset\n",
    "print(landmassf3_train.data.shape)\n",
    "print(landmassf3_test.data.shape)"
   ]
  },
  {
   "cell_type": "code",
   "execution_count": 5,
   "metadata": {
    "ExecuteTime": {
     "end_time": "2020-10-13T11:01:34.646797Z",
     "start_time": "2020-10-13T11:01:34.552585Z"
    }
   },
   "outputs": [
    {
     "data": {
      "text/plain": [
       "deep_ml_curriculum.data.landmass_f3.LandmassF3Patches"
      ]
     },
     "execution_count": 5,
     "metadata": {},
     "output_type": "execute_result"
    }
   ],
   "source": [
    "LandmassF3Patches"
   ]
  },
  {
   "cell_type": "markdown",
   "metadata": {},
   "source": [
    "In this dataset, we have a total of 13250 gray-scale images of 99x99 pixels.\n",
    "\n",
    "Let's display the first one:"
   ]
  },
  {
   "cell_type": "code",
   "execution_count": 6,
   "metadata": {
    "ExecuteTime": {
     "end_time": "2020-10-13T11:01:34.733743Z",
     "start_time": "2020-10-13T11:01:34.648377Z"
    }
   },
   "outputs": [
    {
     "name": "stdout",
     "output_type": "stream",
     "text": [
      "Class: Discontinuous\n"
     ]
    },
    {
     "data": {
      "image/png": "[encoded data removed]",
      "text/plain": [
       "<PIL.Image.Image image mode=L size=99x99 at 0x7F4CF4B158D0>"
      ]
     },
     "execution_count": 6,
     "metadata": {},
     "output_type": "execute_result"
    }
   ],
   "source": [
    "x, y = landmassf3_train[4]\n",
    "print(\"Class:\", landmassf3_train.classes[y])\n",
    "x"
   ]
  },
  {
   "cell_type": "code",
   "execution_count": null,
   "metadata": {},
   "outputs": [],
   "source": [
    "# Note that this is an unbalanced dataset, so we expect an accuracy of at least 52%, this is out baseline\n",
    "labels = pd.Series(landmassf3_train.train_labels).replace(dict(enumerate(landmassf3_train.classes)))\n",
    "labels.value_counts() / len(landmassf3_train)"
   ]
  },
  {
   "cell_type": "code",
   "execution_count": 7,
   "metadata": {
    "ExecuteTime": {
     "end_time": "2020-10-13T11:01:34.801249Z",
     "start_time": "2020-10-13T11:01:34.735665Z"
    }
   },
   "outputs": [
    {
     "data": {
      "text/plain": [
       "['Discontinuous', 'Faulted', 'Continuous', 'Salt']"
      ]
     },
     "execution_count": 7,
     "metadata": {},
     "output_type": "execute_result"
    }
   ],
   "source": [
    "landmassf3_train.classes"
   ]
  },
  {
   "cell_type": "markdown",
   "metadata": {},
   "source": [
    "Source: [Neural Networks](https://pytorch.org/tutorials/beginner/blitz/neural_networks_tutorial.html#sphx-glr-beginner-blitz-neural-networks-tutorial-py)\n",
    "\n",
    "Now let's implement our first NN from scratch using Pytorch. A typical training procedure for a neural network is as follows:\n",
    "\n",
    "- Define the neural network that has some learnable parameters (or weights)\n",
    "- Iterate over a dataset of inputs\n",
    "- Process input through the network\n",
    "- Compute the loss (how far is the output from being correct)\n",
    "- Propagate gradients back into the network’s parameters\n",
    "- Update the weights of the network, typically using a simple update rule: weight = weight - learning_rate * gradient\n",
    "\n",
    "Steps:\n",
    "\n",
    "1. Create a python class with `nn.Module`\n",
    "2. Let's define two functions:\n",
    "   - The first one `__init__` also called contructor. Here we wil define the blocks that we will use.\n",
    "   - Define a `forward` function. In Pytorch, `forward` is a reserved name for a function that takes the input and returns and output. You can define the flow of the architecture here.\n",
    "   \n",
    "   \n",
    "<h3> Define the network</h3>"
   ]
  },
  {
   "cell_type": "code",
   "execution_count": 8,
   "metadata": {
    "ExecuteTime": {
     "end_time": "2020-10-13T11:01:34.874511Z",
     "start_time": "2020-10-13T11:01:34.803122Z"
    }
   },
   "outputs": [
    {
     "name": "stdout",
     "output_type": "stream",
     "text": [
      "Help on class Conv2d in module torch.nn.modules.conv:\n",
      "\n",
      "class Conv2d(_ConvNd)\n",
      " |  Conv2d(in_channels, out_channels, kernel_size, stride=1, padding=0, dilation=1, groups=1, bias=True, padding_mode='zeros')\n",
      " |  \n",
      " |  Applies a 2D convolution over an input signal composed of several input\n",
      " |  planes.\n",
      " |  \n",
      " |  In the simplest case, the output value of the layer with input size\n",
      " |  :math:`(N, C_{\\text{in}}, H, W)` and output :math:`(N, C_{\\text{out}}, H_{\\text{out}}, W_{\\text{out}})`\n",
      " |  can be precisely described as:\n",
      " |  \n",
      " |  .. math::\n",
      " |      \\text{out}(N_i, C_{\\text{out}_j}) = \\text{bias}(C_{\\text{out}_j}) +\n",
      " |      \\sum_{k = 0}^{C_{\\text{in}} - 1} \\text{weight}(C_{\\text{out}_j}, k) \\star \\text{input}(N_i, k)\n",
      " |  \n",
      " |  \n",
      " |  where :math:`\\star` is the valid 2D `cross-correlation`_ operator,\n",
      " |  :math:`N` is a batch size, :math:`C` denotes a number of channels,\n",
      " |  :math:`H` is a height of input planes in pixels, and :math:`W` is\n",
      " |  width in pixels.\n",
      " |  \n",
      " |  * :attr:`stride` controls the stride for the cross-correlation, a single\n",
      " |    number or a tuple.\n",
      " |  \n",
      " |  * :attr:`padding` controls the amount of implicit zero-paddings on both\n",
      " |    sides for :attr:`padding` number of points for each dimension.\n",
      " |  \n",
      " |  * :attr:`dilation` controls the spacing between the kernel points; also\n",
      " |    known as the à trous algorithm. It is harder to describe, but this `link`_\n",
      " |    has a nice visualization of what :attr:`dilation` does.\n",
      " |  \n",
      " |  * :attr:`groups` controls the connections between inputs and outputs.\n",
      " |    :attr:`in_channels` and :attr:`out_channels` must both be divisible by\n",
      " |    :attr:`groups`. For example,\n",
      " |  \n",
      " |      * At groups=1, all inputs are convolved to all outputs.\n",
      " |      * At groups=2, the operation becomes equivalent to having two conv\n",
      " |        layers side by side, each seeing half the input channels,\n",
      " |        and producing half the output channels, and both subsequently\n",
      " |        concatenated.\n",
      " |      * At groups= :attr:`in_channels`, each input channel is convolved with\n",
      " |        its own set of filters, of size:\n",
      " |        :math:`\\left\\lfloor\\frac{out\\_channels}{in\\_channels}\\right\\rfloor`.\n",
      " |  \n",
      " |  The parameters :attr:`kernel_size`, :attr:`stride`, :attr:`padding`, :attr:`dilation` can either be:\n",
      " |  \n",
      " |      - a single ``int`` -- in which case the same value is used for the height and width dimension\n",
      " |      - a ``tuple`` of two ints -- in which case, the first `int` is used for the height dimension,\n",
      " |        and the second `int` for the width dimension\n",
      " |  \n",
      " |  .. note::\n",
      " |  \n",
      " |       Depending of the size of your kernel, several (of the last)\n",
      " |       columns of the input might be lost, because it is a valid `cross-correlation`_,\n",
      " |       and not a full `cross-correlation`_.\n",
      " |       It is up to the user to add proper padding.\n",
      " |  \n",
      " |  .. note::\n",
      " |  \n",
      " |      When `groups == in_channels` and `out_channels == K * in_channels`,\n",
      " |      where `K` is a positive integer, this operation is also termed in\n",
      " |      literature as depthwise convolution.\n",
      " |  \n",
      " |      In other words, for an input of size :math:`(N, C_{in}, H_{in}, W_{in})`,\n",
      " |      a depthwise convolution with a depthwise multiplier `K`, can be constructed by arguments\n",
      " |      :math:`(in\\_channels=C_{in}, out\\_channels=C_{in} \\times K, ..., groups=C_{in})`.\n",
      " |  \n",
      " |  .. include:: cudnn_deterministic.rst\n",
      " |  \n",
      " |  Args:\n",
      " |      in_channels (int): Number of channels in the input image\n",
      " |      out_channels (int): Number of channels produced by the convolution\n",
      " |      kernel_size (int or tuple): Size of the convolving kernel\n",
      " |      stride (int or tuple, optional): Stride of the convolution. Default: 1\n",
      " |      padding (int or tuple, optional): Zero-padding added to both sides of the input. Default: 0\n",
      " |      padding_mode (string, optional): ``'zeros'``, ``'reflect'``, ``'replicate'`` or ``'circular'``. Default: ``'zeros'``\n",
      " |      dilation (int or tuple, optional): Spacing between kernel elements. Default: 1\n",
      " |      groups (int, optional): Number of blocked connections from input channels to output channels. Default: 1\n",
      " |      bias (bool, optional): If ``True``, adds a learnable bias to the output. Default: ``True``\n",
      " |  \n",
      " |  Shape:\n",
      " |      - Input: :math:`(N, C_{in}, H_{in}, W_{in})`\n",
      " |      - Output: :math:`(N, C_{out}, H_{out}, W_{out})` where\n",
      " |  \n",
      " |        .. math::\n",
      " |            H_{out} = \\left\\lfloor\\frac{H_{in}  + 2 \\times \\text{padding}[0] - \\text{dilation}[0]\n",
      " |                      \\times (\\text{kernel\\_size}[0] - 1) - 1}{\\text{stride}[0]} + 1\\right\\rfloor\n",
      " |  \n",
      " |        .. math::\n",
      " |            W_{out} = \\left\\lfloor\\frac{W_{in}  + 2 \\times \\text{padding}[1] - \\text{dilation}[1]\n",
      " |                      \\times (\\text{kernel\\_size}[1] - 1) - 1}{\\text{stride}[1]} + 1\\right\\rfloor\n",
      " |  \n",
      " |  Attributes:\n",
      " |      weight (Tensor): the learnable weights of the module of shape\n",
      " |                       :math:`(\\text{out\\_channels}, \\frac{\\text{in\\_channels}}{\\text{groups}},`\n",
      " |                       :math:`\\text{kernel\\_size[0]}, \\text{kernel\\_size[1]})`.\n",
      " |                       The values of these weights are sampled from\n",
      " |                       :math:`\\mathcal{U}(-\\sqrt{k}, \\sqrt{k})` where\n",
      " |                       :math:`k = \\frac{groups}{C_\\text{in} * \\prod_{i=0}^{1}\\text{kernel\\_size}[i]}`\n",
      " |      bias (Tensor):   the learnable bias of the module of shape (out_channels). If :attr:`bias` is ``True``,\n",
      " |                       then the values of these weights are\n",
      " |                       sampled from :math:`\\mathcal{U}(-\\sqrt{k}, \\sqrt{k})` where\n",
      " |                       :math:`k = \\frac{groups}{C_\\text{in} * \\prod_{i=0}^{1}\\text{kernel\\_size}[i]}`\n",
      " |  \n",
      " |  Examples::\n",
      " |  \n",
      " |      >>> # With square kernels and equal stride\n",
      " |      >>> m = nn.Conv2d(16, 33, 3, stride=2)\n",
      " |      >>> # non-square kernels and unequal stride and with padding\n",
      " |      >>> m = nn.Conv2d(16, 33, (3, 5), stride=(2, 1), padding=(4, 2))\n",
      " |      >>> # non-square kernels and unequal stride and with padding and dilation\n",
      " |      >>> m = nn.Conv2d(16, 33, (3, 5), stride=(2, 1), padding=(4, 2), dilation=(3, 1))\n",
      " |      >>> input = torch.randn(20, 16, 50, 100)\n",
      " |      >>> output = m(input)\n",
      " |  \n",
      " |  .. _cross-correlation:\n",
      " |      https://en.wikipedia.org/wiki/Cross-correlation\n",
      " |  \n",
      " |  .. _link:\n",
      " |      https://github.com/vdumoulin/conv_arithmetic/blob/master/README.md\n",
      " |  \n",
      " |  Method resolution order:\n",
      " |      Conv2d\n",
      " |      _ConvNd\n",
      " |      torch.nn.modules.module.Module\n",
      " |      builtins.object\n",
      " |  \n",
      " |  Methods defined here:\n",
      " |  \n",
      " |  __init__(self, in_channels, out_channels, kernel_size, stride=1, padding=0, dilation=1, groups=1, bias=True, padding_mode='zeros')\n",
      " |      Initializes internal Module state, shared by both nn.Module and ScriptModule.\n",
      " |  \n",
      " |  forward(self, input)\n",
      " |      Defines the computation performed at every call.\n",
      " |      \n",
      " |      Should be overridden by all subclasses.\n",
      " |      \n",
      " |      .. note::\n",
      " |          Although the recipe for forward pass needs to be defined within\n",
      " |          this function, one should call the :class:`Module` instance afterwards\n",
      " |          instead of this since the former takes care of running the\n",
      " |          registered hooks while the latter silently ignores them.\n",
      " |  \n",
      " |  ----------------------------------------------------------------------\n",
      " |  Methods inherited from _ConvNd:\n",
      " |  \n",
      " |  __setstate__(self, state)\n",
      " |  \n",
      " |  extra_repr(self)\n",
      " |      Set the extra representation of the module\n",
      " |      \n",
      " |      To print customized extra information, you should reimplement\n",
      " |      this method in your own modules. Both single-line and multi-line\n",
      " |      strings are acceptable.\n",
      " |  \n",
      " |  reset_parameters(self)\n",
      " |  \n",
      " |  ----------------------------------------------------------------------\n",
      " |  Data and other attributes inherited from _ConvNd:\n",
      " |  \n",
      " |  __annotations__ = {'bias': typing.Union[torch.Tensor, NoneType]}\n",
      " |  \n",
      " |  __constants__ = ['stride', 'padding', 'dilation', 'groups', 'padding_m...\n",
      " |  \n",
      " |  ----------------------------------------------------------------------\n",
      " |  Methods inherited from torch.nn.modules.module.Module:\n",
      " |  \n",
      " |  __call__(self, *input, **kwargs)\n",
      " |      Call self as a function.\n",
      " |  \n",
      " |  __delattr__(self, name)\n",
      " |      Implement delattr(self, name).\n",
      " |  \n",
      " |  __dir__(self)\n",
      " |      Default dir() implementation.\n",
      " |  \n",
      " |  __getattr__(self, name)\n",
      " |  \n",
      " |  __repr__(self)\n",
      " |      Return repr(self).\n",
      " |  \n",
      " |  __setattr__(self, name, value)\n",
      " |      Implement setattr(self, name, value).\n",
      " |  \n",
      " |  add_module(self, name, module)\n",
      " |      Adds a child module to the current module.\n",
      " |      \n",
      " |      The module can be accessed as an attribute using the given name.\n",
      " |      \n",
      " |      Args:\n",
      " |          name (string): name of the child module. The child module can be\n",
      " |              accessed from this module using the given name\n",
      " |          module (Module): child module to be added to the module.\n",
      " |  \n",
      " |  apply(self, fn)\n",
      " |      Applies ``fn`` recursively to every submodule (as returned by ``.children()``)\n",
      " |      as well as self. Typical use includes initializing the parameters of a model\n",
      " |      (see also :ref:`nn-init-doc`).\n",
      " |      \n",
      " |      Args:\n",
      " |          fn (:class:`Module` -> None): function to be applied to each submodule\n",
      " |      \n",
      " |      Returns:\n",
      " |          Module: self\n",
      " |      \n",
      " |      Example::\n",
      " |      \n",
      " |          >>> @torch.no_grad()\n",
      " |          >>> def init_weights(m):\n",
      " |          >>>     print(m)\n",
      " |          >>>     if type(m) == nn.Linear:\n",
      " |          >>>         m.weight.fill_(1.0)\n",
      " |          >>>         print(m.weight)\n",
      " |          >>> net = nn.Sequential(nn.Linear(2, 2), nn.Linear(2, 2))\n",
      " |          >>> net.apply(init_weights)\n",
      " |          Linear(in_features=2, out_features=2, bias=True)\n",
      " |          Parameter containing:\n",
      " |          tensor([[ 1.,  1.],\n",
      " |                  [ 1.,  1.]])\n",
      " |          Linear(in_features=2, out_features=2, bias=True)\n",
      " |          Parameter containing:\n",
      " |          tensor([[ 1.,  1.],\n",
      " |                  [ 1.,  1.]])\n",
      " |          Sequential(\n",
      " |            (0): Linear(in_features=2, out_features=2, bias=True)\n",
      " |            (1): Linear(in_features=2, out_features=2, bias=True)\n",
      " |          )\n",
      " |          Sequential(\n",
      " |            (0): Linear(in_features=2, out_features=2, bias=True)\n",
      " |            (1): Linear(in_features=2, out_features=2, bias=True)\n",
      " |          )\n",
      " |  \n",
      " |  bfloat16(self)\n",
      " |      Casts all floating point parameters and buffers to ``bfloat16`` datatype.\n",
      " |      \n",
      " |      Returns:\n",
      " |          Module: self\n",
      " |  \n",
      " |  buffers(self, recurse=True)\n",
      " |      Returns an iterator over module buffers.\n",
      " |      \n",
      " |      Args:\n",
      " |          recurse (bool): if True, then yields buffers of this module\n",
      " |              and all submodules. Otherwise, yields only buffers that\n",
      " |              are direct members of this module.\n",
      " |      \n",
      " |      Yields:\n",
      " |          torch.Tensor: module buffer\n",
      " |      \n",
      " |      Example::\n",
      " |      \n",
      " |          >>> for buf in model.buffers():\n",
      " |          >>>     print(type(buf), buf.size())\n",
      " |          <class 'torch.Tensor'> (20L,)\n",
      " |          <class 'torch.Tensor'> (20L, 1L, 5L, 5L)\n",
      " |  \n",
      " |  children(self)\n",
      " |      Returns an iterator over immediate children modules.\n",
      " |      \n",
      " |      Yields:\n",
      " |          Module: a child module\n",
      " |  \n",
      " |  cpu(self)\n",
      " |      Moves all model parameters and buffers to the CPU.\n",
      " |      \n",
      " |      Returns:\n",
      " |          Module: self\n",
      " |  \n",
      " |  cuda(self, device=None)\n",
      " |      Moves all model parameters and buffers to the GPU.\n",
      " |      \n",
      " |      This also makes associated parameters and buffers different objects. So\n",
      " |      it should be called before constructing optimizer if the module will\n",
      " |      live on GPU while being optimized.\n",
      " |      \n",
      " |      Arguments:\n",
      " |          device (int, optional): if specified, all parameters will be\n",
      " |              copied to that device\n",
      " |      \n",
      " |      Returns:\n",
      " |          Module: self\n",
      " |  \n",
      " |  double(self)\n",
      " |      Casts all floating point parameters and buffers to ``double`` datatype.\n",
      " |      \n",
      " |      Returns:\n",
      " |          Module: self\n",
      " |  \n",
      " |  eval(self)\n",
      " |      Sets the module in evaluation mode.\n",
      " |      \n",
      " |      This has any effect only on certain modules. See documentations of\n",
      " |      particular modules for details of their behaviors in training/evaluation\n",
      " |      mode, if they are affected, e.g. :class:`Dropout`, :class:`BatchNorm`,\n",
      " |      etc.\n",
      " |      \n",
      " |      This is equivalent with :meth:`self.train(False) <torch.nn.Module.train>`.\n",
      " |      \n",
      " |      Returns:\n",
      " |          Module: self\n",
      " |  \n",
      " |  float(self)\n",
      " |      Casts all floating point parameters and buffers to float datatype.\n",
      " |      \n",
      " |      Returns:\n",
      " |          Module: self\n",
      " |  \n",
      " |  half(self)\n",
      " |      Casts all floating point parameters and buffers to ``half`` datatype.\n",
      " |      \n",
      " |      Returns:\n",
      " |          Module: self\n",
      " |  \n",
      " |  load_state_dict(self, state_dict, strict=True)\n",
      " |      Copies parameters and buffers from :attr:`state_dict` into\n",
      " |      this module and its descendants. If :attr:`strict` is ``True``, then\n",
      " |      the keys of :attr:`state_dict` must exactly match the keys returned\n",
      " |      by this module's :meth:`~torch.nn.Module.state_dict` function.\n",
      " |      \n",
      " |      Arguments:\n",
      " |          state_dict (dict): a dict containing parameters and\n",
      " |              persistent buffers.\n",
      " |          strict (bool, optional): whether to strictly enforce that the keys\n",
      " |              in :attr:`state_dict` match the keys returned by this module's\n",
      " |              :meth:`~torch.nn.Module.state_dict` function. Default: ``True``\n",
      " |      \n",
      " |      Returns:\n",
      " |          ``NamedTuple`` with ``missing_keys`` and ``unexpected_keys`` fields:\n",
      " |              * **missing_keys** is a list of str containing the missing keys\n",
      " |              * **unexpected_keys** is a list of str containing the unexpected keys\n",
      " |  \n",
      " |  modules(self)\n",
      " |      Returns an iterator over all modules in the network.\n",
      " |      \n",
      " |      Yields:\n",
      " |          Module: a module in the network\n",
      " |      \n",
      " |      Note:\n",
      " |          Duplicate modules are returned only once. In the following\n",
      " |          example, ``l`` will be returned only once.\n",
      " |      \n",
      " |      Example::\n",
      " |      \n",
      " |          >>> l = nn.Linear(2, 2)\n",
      " |          >>> net = nn.Sequential(l, l)\n",
      " |          >>> for idx, m in enumerate(net.modules()):\n",
      " |                  print(idx, '->', m)\n",
      " |      \n",
      " |          0 -> Sequential(\n",
      " |            (0): Linear(in_features=2, out_features=2, bias=True)\n",
      " |            (1): Linear(in_features=2, out_features=2, bias=True)\n",
      " |          )\n",
      " |          1 -> Linear(in_features=2, out_features=2, bias=True)\n",
      " |  \n",
      " |  named_buffers(self, prefix='', recurse=True)\n",
      " |      Returns an iterator over module buffers, yielding both the\n",
      " |      name of the buffer as well as the buffer itself.\n",
      " |      \n",
      " |      Args:\n",
      " |          prefix (str): prefix to prepend to all buffer names.\n",
      " |          recurse (bool): if True, then yields buffers of this module\n",
      " |              and all submodules. Otherwise, yields only buffers that\n",
      " |              are direct members of this module.\n",
      " |      \n",
      " |      Yields:\n",
      " |          (string, torch.Tensor): Tuple containing the name and buffer\n",
      " |      \n",
      " |      Example::\n",
      " |      \n",
      " |          >>> for name, buf in self.named_buffers():\n",
      " |          >>>    if name in ['running_var']:\n",
      " |          >>>        print(buf.size())\n",
      " |  \n",
      " |  named_children(self)\n",
      " |      Returns an iterator over immediate children modules, yielding both\n",
      " |      the name of the module as well as the module itself.\n",
      " |      \n",
      " |      Yields:\n",
      " |          (string, Module): Tuple containing a name and child module\n",
      " |      \n",
      " |      Example::\n",
      " |      \n",
      " |          >>> for name, module in model.named_children():\n",
      " |          >>>     if name in ['conv4', 'conv5']:\n",
      " |          >>>         print(module)\n",
      " |  \n",
      " |  named_modules(self, memo=None, prefix='')\n",
      " |      Returns an iterator over all modules in the network, yielding\n",
      " |      both the name of the module as well as the module itself.\n",
      " |      \n",
      " |      Yields:\n",
      " |          (string, Module): Tuple of name and module\n",
      " |      \n",
      " |      Note:\n",
      " |          Duplicate modules are returned only once. In the following\n",
      " |          example, ``l`` will be returned only once.\n",
      " |      \n",
      " |      Example::\n",
      " |      \n",
      " |          >>> l = nn.Linear(2, 2)\n",
      " |          >>> net = nn.Sequential(l, l)\n",
      " |          >>> for idx, m in enumerate(net.named_modules()):\n",
      " |                  print(idx, '->', m)\n",
      " |      \n",
      " |          0 -> ('', Sequential(\n",
      " |            (0): Linear(in_features=2, out_features=2, bias=True)\n",
      " |            (1): Linear(in_features=2, out_features=2, bias=True)\n",
      " |          ))\n",
      " |          1 -> ('0', Linear(in_features=2, out_features=2, bias=True))\n",
      " |  \n",
      " |  named_parameters(self, prefix='', recurse=True)\n",
      " |      Returns an iterator over module parameters, yielding both the\n",
      " |      name of the parameter as well as the parameter itself.\n",
      " |      \n",
      " |      Args:\n",
      " |          prefix (str): prefix to prepend to all parameter names.\n",
      " |          recurse (bool): if True, then yields parameters of this module\n",
      " |              and all submodules. Otherwise, yields only parameters that\n",
      " |              are direct members of this module.\n",
      " |      \n",
      " |      Yields:\n",
      " |          (string, Parameter): Tuple containing the name and parameter\n",
      " |      \n",
      " |      Example::\n",
      " |      \n",
      " |          >>> for name, param in self.named_parameters():\n",
      " |          >>>    if name in ['bias']:\n",
      " |          >>>        print(param.size())\n",
      " |  \n",
      " |  parameters(self, recurse=True)\n",
      " |      Returns an iterator over module parameters.\n",
      " |      \n",
      " |      This is typically passed to an optimizer.\n",
      " |      \n",
      " |      Args:\n",
      " |          recurse (bool): if True, then yields parameters of this module\n",
      " |              and all submodules. Otherwise, yields only parameters that\n",
      " |              are direct members of this module.\n",
      " |      \n",
      " |      Yields:\n",
      " |          Parameter: module parameter\n",
      " |      \n",
      " |      Example::\n",
      " |      \n",
      " |          >>> for param in model.parameters():\n",
      " |          >>>     print(type(param), param.size())\n",
      " |          <class 'torch.Tensor'> (20L,)\n",
      " |          <class 'torch.Tensor'> (20L, 1L, 5L, 5L)\n",
      " |  \n",
      " |  register_backward_hook(self, hook)\n",
      " |      Registers a backward hook on the module.\n",
      " |      \n",
      " |      The hook will be called every time the gradients with respect to module\n",
      " |      inputs are computed. The hook should have the following signature::\n",
      " |      \n",
      " |          hook(module, grad_input, grad_output) -> Tensor or None\n",
      " |      \n",
      " |      The :attr:`grad_input` and :attr:`grad_output` may be tuples if the\n",
      " |      module has multiple inputs or outputs. The hook should not modify its\n",
      " |      arguments, but it can optionally return a new gradient with respect to\n",
      " |      input that will be used in place of :attr:`grad_input` in subsequent\n",
      " |      computations.\n",
      " |      \n",
      " |      Returns:\n",
      " |          :class:`torch.utils.hooks.RemovableHandle`:\n",
      " |              a handle that can be used to remove the added hook by calling\n",
      " |              ``handle.remove()``\n",
      " |      \n",
      " |      .. warning ::\n",
      " |      \n",
      " |          The current implementation will not have the presented behavior\n",
      " |          for complex :class:`Module` that perform many operations.\n",
      " |          In some failure cases, :attr:`grad_input` and :attr:`grad_output` will only\n",
      " |          contain the gradients for a subset of the inputs and outputs.\n",
      " |          For such :class:`Module`, you should use :func:`torch.Tensor.register_hook`\n",
      " |          directly on a specific input or output to get the required gradients.\n",
      " |  \n",
      " |  register_buffer(self, name, tensor)\n",
      " |      Adds a persistent buffer to the module.\n",
      " |      \n",
      " |      This is typically used to register a buffer that should not to be\n",
      " |      considered a model parameter. For example, BatchNorm's ``running_mean``\n",
      " |      is not a parameter, but is part of the persistent state.\n",
      " |      \n",
      " |      Buffers can be accessed as attributes using given names.\n",
      " |      \n",
      " |      Args:\n",
      " |          name (string): name of the buffer. The buffer can be accessed\n",
      " |              from this module using the given name\n",
      " |          tensor (Tensor): buffer to be registered.\n",
      " |      \n",
      " |      Example::\n",
      " |      \n",
      " |          >>> self.register_buffer('running_mean', torch.zeros(num_features))\n",
      " |  \n",
      " |  register_forward_hook(self, hook)\n",
      " |      Registers a forward hook on the module.\n",
      " |      \n",
      " |      The hook will be called every time after :func:`forward` has computed an output.\n",
      " |      It should have the following signature::\n",
      " |      \n",
      " |          hook(module, input, output) -> None or modified output\n",
      " |      \n",
      " |      The hook can modify the output. It can modify the input inplace but\n",
      " |      it will not have effect on forward since this is called after\n",
      " |      :func:`forward` is called.\n",
      " |      \n",
      " |      Returns:\n",
      " |          :class:`torch.utils.hooks.RemovableHandle`:\n",
      " |              a handle that can be used to remove the added hook by calling\n",
      " |              ``handle.remove()``\n",
      " |  \n",
      " |  register_forward_pre_hook(self, hook)\n",
      " |      Registers a forward pre-hook on the module.\n",
      " |      \n",
      " |      The hook will be called every time before :func:`forward` is invoked.\n",
      " |      It should have the following signature::\n",
      " |      \n",
      " |          hook(module, input) -> None or modified input\n",
      " |      \n",
      " |      The hook can modify the input. User can either return a tuple or a\n",
      " |      single modified value in the hook. We will wrap the value into a tuple\n",
      " |      if a single value is returned(unless that value is already a tuple).\n",
      " |      \n",
      " |      Returns:\n",
      " |          :class:`torch.utils.hooks.RemovableHandle`:\n",
      " |              a handle that can be used to remove the added hook by calling\n",
      " |              ``handle.remove()``\n",
      " |  \n",
      " |  register_parameter(self, name, param)\n",
      " |      Adds a parameter to the module.\n",
      " |      \n",
      " |      The parameter can be accessed as an attribute using given name.\n",
      " |      \n",
      " |      Args:\n",
      " |          name (string): name of the parameter. The parameter can be accessed\n",
      " |              from this module using the given name\n",
      " |          param (Parameter): parameter to be added to the module.\n",
      " |  \n",
      " |  requires_grad_(self, requires_grad=True)\n",
      " |      Change if autograd should record operations on parameters in this\n",
      " |      module.\n",
      " |      \n",
      " |      This method sets the parameters' :attr:`requires_grad` attributes\n",
      " |      in-place.\n",
      " |      \n",
      " |      This method is helpful for freezing part of the module for finetuning\n",
      " |      or training parts of a model individually (e.g., GAN training).\n",
      " |      \n",
      " |      Args:\n",
      " |          requires_grad (bool): whether autograd should record operations on\n",
      " |                                parameters in this module. Default: ``True``.\n",
      " |      \n",
      " |      Returns:\n",
      " |          Module: self\n",
      " |  \n",
      " |  share_memory(self)\n",
      " |  \n",
      " |  state_dict(self, destination=None, prefix='', keep_vars=False)\n",
      " |      Returns a dictionary containing a whole state of the module.\n",
      " |      \n",
      " |      Both parameters and persistent buffers (e.g. running averages) are\n",
      " |      included. Keys are corresponding parameter and buffer names.\n",
      " |      \n",
      " |      Returns:\n",
      " |          dict:\n",
      " |              a dictionary containing a whole state of the module\n",
      " |      \n",
      " |      Example::\n",
      " |      \n",
      " |          >>> module.state_dict().keys()\n",
      " |          ['bias', 'weight']\n",
      " |  \n",
      " |  to(self, *args, **kwargs)\n",
      " |      Moves and/or casts the parameters and buffers.\n",
      " |      \n",
      " |      This can be called as\n",
      " |      \n",
      " |      .. function:: to(device=None, dtype=None, non_blocking=False)\n",
      " |      \n",
      " |      .. function:: to(dtype, non_blocking=False)\n",
      " |      \n",
      " |      .. function:: to(tensor, non_blocking=False)\n",
      " |      \n",
      " |      .. function:: to(memory_format=torch.channels_last)\n",
      " |      \n",
      " |      Its signature is similar to :meth:`torch.Tensor.to`, but only accepts\n",
      " |      floating point desired :attr:`dtype` s. In addition, this method will\n",
      " |      only cast the floating point parameters and buffers to :attr:`dtype`\n",
      " |      (if given). The integral parameters and buffers will be moved\n",
      " |      :attr:`device`, if that is given, but with dtypes unchanged. When\n",
      " |      :attr:`non_blocking` is set, it tries to convert/move asynchronously\n",
      " |      with respect to the host if possible, e.g., moving CPU Tensors with\n",
      " |      pinned memory to CUDA devices.\n",
      " |      \n",
      " |      See below for examples.\n",
      " |      \n",
      " |      .. note::\n",
      " |          This method modifies the module in-place.\n",
      " |      \n",
      " |      Args:\n",
      " |          device (:class:`torch.device`): the desired device of the parameters\n",
      " |              and buffers in this module\n",
      " |          dtype (:class:`torch.dtype`): the desired floating point type of\n",
      " |              the floating point parameters and buffers in this module\n",
      " |          tensor (torch.Tensor): Tensor whose dtype and device are the desired\n",
      " |              dtype and device for all parameters and buffers in this module\n",
      " |          memory_format (:class:`torch.memory_format`): the desired memory\n",
      " |              format for 4D parameters and buffers in this module (keyword\n",
      " |              only argument)\n",
      " |      \n",
      " |      Returns:\n",
      " |          Module: self\n",
      " |      \n",
      " |      Example::\n",
      " |      \n",
      " |          >>> linear = nn.Linear(2, 2)\n",
      " |          >>> linear.weight\n",
      " |          Parameter containing:\n",
      " |          tensor([[ 0.1913, -0.3420],\n",
      " |                  [-0.5113, -0.2325]])\n",
      " |          >>> linear.to(torch.double)\n",
      " |          Linear(in_features=2, out_features=2, bias=True)\n",
      " |          >>> linear.weight\n",
      " |          Parameter containing:\n",
      " |          tensor([[ 0.1913, -0.3420],\n",
      " |                  [-0.5113, -0.2325]], dtype=torch.float64)\n",
      " |          >>> gpu1 = torch.device(\"cuda:1\")\n",
      " |          >>> linear.to(gpu1, dtype=torch.half, non_blocking=True)\n",
      " |          Linear(in_features=2, out_features=2, bias=True)\n",
      " |          >>> linear.weight\n",
      " |          Parameter containing:\n",
      " |          tensor([[ 0.1914, -0.3420],\n",
      " |                  [-0.5112, -0.2324]], dtype=torch.float16, device='cuda:1')\n",
      " |          >>> cpu = torch.device(\"cpu\")\n",
      " |          >>> linear.to(cpu)\n",
      " |          Linear(in_features=2, out_features=2, bias=True)\n",
      " |          >>> linear.weight\n",
      " |          Parameter containing:\n",
      " |          tensor([[ 0.1914, -0.3420],\n",
      " |                  [-0.5112, -0.2324]], dtype=torch.float16)\n",
      " |  \n",
      " |  train(self, mode=True)\n",
      " |      Sets the module in training mode.\n",
      " |      \n",
      " |      This has any effect only on certain modules. See documentations of\n",
      " |      particular modules for details of their behaviors in training/evaluation\n",
      " |      mode, if they are affected, e.g. :class:`Dropout`, :class:`BatchNorm`,\n",
      " |      etc.\n",
      " |      \n",
      " |      Args:\n",
      " |          mode (bool): whether to set training mode (``True``) or evaluation\n",
      " |                       mode (``False``). Default: ``True``.\n",
      " |      \n",
      " |      Returns:\n",
      " |          Module: self\n",
      " |  \n",
      " |  type(self, dst_type)\n",
      " |      Casts all parameters and buffers to :attr:`dst_type`.\n",
      " |      \n",
      " |      Arguments:\n",
      " |          dst_type (type or string): the desired type\n",
      " |      \n",
      " |      Returns:\n",
      " |          Module: self\n",
      " |  \n",
      " |  zero_grad(self)\n",
      " |      Sets gradients of all model parameters to zero.\n",
      " |  \n",
      " |  ----------------------------------------------------------------------\n",
      " |  Data descriptors inherited from torch.nn.modules.module.Module:\n",
      " |  \n",
      " |  __dict__\n",
      " |      dictionary for instance variables (if defined)\n",
      " |  \n",
      " |  __weakref__\n",
      " |      list of weak references to the object (if defined)\n",
      " |  \n",
      " |  ----------------------------------------------------------------------\n",
      " |  Data and other attributes inherited from torch.nn.modules.module.Module:\n",
      " |  \n",
      " |  dump_patches = False\n",
      "\n"
     ]
    }
   ],
   "source": [
    "help(nn.Conv2d)"
   ]
  },
  {
   "cell_type": "code",
   "execution_count": 9,
   "metadata": {
    "ExecuteTime": {
     "end_time": "2020-10-13T11:01:34.925623Z",
     "start_time": "2020-10-13T11:01:34.876534Z"
    }
   },
   "outputs": [],
   "source": [
    "class Net(nn.Module):\n",
    "    def __init__(self):\n",
    "        super(Net, self).__init__()\n",
    "        # 1 input image channel, 6 output channels, 3x3 square convolution\n",
    "        # kernel\n",
    "        self.conv1 = nn.Conv2d(1, 6, 3)\n",
    "        self.conv2 = nn.Conv2d(6, 16, 3)\n",
    "        # an affine operation: y = Wx + b\n",
    "        self.fc1 = nn.Linear(16 * 23 * 23, 120)  # 6*6 from image dimension\n",
    "        self.fc2 = nn.Linear(120, 84)\n",
    "        self.fc3 = nn.Linear(84, 4)\n",
    "\n",
    "    def forward(self, x):\n",
    "        # Max pooling over a (2, 2) window\n",
    "        x = F.max_pool2d(F.relu(self.conv1(x)), (2, 2))\n",
    "        # If the size is a square you can only specify a single number\n",
    "        x = F.max_pool2d(F.relu(self.conv2(x)), 2)\n",
    "        x = x.view(-1, self.num_flat_features(x))\n",
    "        x = F.relu(self.fc1(x))\n",
    "        x = F.relu(self.fc2(x))\n",
    "        x = self.fc3(x)\n",
    "        return x\n",
    "\n",
    "    def num_flat_features(self, x):\n",
    "        size = x.size()[1:]  # all dimensions except the batch dimension\n",
    "        num_features = 1\n",
    "        for s in size:\n",
    "            num_features *= s\n",
    "        return num_features"
   ]
  },
  {
   "cell_type": "code",
   "execution_count": 10,
   "metadata": {
    "ExecuteTime": {
     "end_time": "2020-10-13T11:01:36.543151Z",
     "start_time": "2020-10-13T11:01:34.926857Z"
    }
   },
   "outputs": [
    {
     "name": "stdout",
     "output_type": "stream",
     "text": [
      "Net(\n",
      "  (conv1): Conv2d(1, 6, kernel_size=(3, 3), stride=(1, 1))\n",
      "  (conv2): Conv2d(6, 16, kernel_size=(3, 3), stride=(1, 1))\n",
      "  (fc1): Linear(in_features=8464, out_features=120, bias=True)\n",
      "  (fc2): Linear(in_features=120, out_features=84, bias=True)\n",
      "  (fc3): Linear(in_features=84, out_features=4, bias=True)\n",
      ")\n"
     ]
    }
   ],
   "source": [
    "# Create an instance of your network\n",
    "net = Net().to(device)\n",
    "print(net)"
   ]
  },
  {
   "cell_type": "code",
   "execution_count": 11,
   "metadata": {
    "ExecuteTime": {
     "end_time": "2020-10-13T11:01:36.898830Z",
     "start_time": "2020-10-13T11:01:36.544561Z"
    }
   },
   "outputs": [
    {
     "name": "stdout",
     "output_type": "stream",
     "text": [
      "===========================================================\n",
      "          Kernel Shape     Output Shape   Params  Mult-Adds\n",
      "Layer                                                      \n",
      "0_conv1   [1, 6, 3, 3]   [1, 6, 97, 97]       60     508086\n",
      "1_conv2  [6, 16, 3, 3]  [1, 16, 46, 46]      880    1828224\n",
      "2_fc1      [8464, 120]         [1, 120]  1015800    1015680\n",
      "3_fc2        [120, 84]          [1, 84]    10164      10080\n",
      "4_fc3          [84, 4]           [1, 4]      340        336\n",
      "-----------------------------------------------------------\n",
      "                       Totals\n",
      "Total params          1027244\n",
      "Trainable params      1027244\n",
      "Non-trainable params        0\n",
      "Mult-Adds             3362406\n",
      "===========================================================\n"
     ]
    },
    {
     "data": {
      "text/plain": [
       "1"
      ]
     },
     "execution_count": 11,
     "metadata": {},
     "output_type": "execute_result"
    }
   ],
   "source": [
    "from deep_ml_curriculum.torchsummaryX import summary\n",
    "# We can also summarise the number of parameters in each layer\n",
    "summary(net, torch.rand((1, 1, 99, 99)).to(device))\n",
    "1"
   ]
  },
  {
   "cell_type": "markdown",
   "metadata": {},
   "source": [
    "Let's try a random 99x99 input. The input image to follow this convention:\n",
    "\n",
    "(N, C, W, H)\n",
    "- N: Number of images in the batch\n",
    "- C: Number of channels. Use 1 for grayscale or 3 for colored images (RGB)\n",
    "- W: Width\n",
    "- H: Height\n"
   ]
  },
  {
   "cell_type": "code",
   "execution_count": 12,
   "metadata": {
    "ExecuteTime": {
     "end_time": "2020-10-13T11:01:36.947568Z",
     "start_time": "2020-10-13T11:01:36.903252Z"
    }
   },
   "outputs": [
    {
     "name": "stdout",
     "output_type": "stream",
     "text": [
      "tensor([[-0.0955,  0.0532,  0.0204, -0.0987]], device='cuda:0',\n",
      "       grad_fn=<AddmmBackward>)\n"
     ]
    }
   ],
   "source": [
    "input = torch.rand(1, 1, 99, 99).to(device)\n",
    "out = net(input)\n",
    "\n",
    "# An array with 4 output, each one corresponding to\n",
    "print(out)"
   ]
  },
  {
   "cell_type": "markdown",
   "metadata": {},
   "source": [
    "Now let's define a function for training our ConvNet.\n",
    "\n",
    "But first, we will define some hyperparameters:\n",
    "\n",
    "- `n_epochs`: is the number of iterations over all dataset\n",
    "- `learning_rate`: is the size of the steps in the optimization process.\n",
    "- `momentum`: helps accelerate gradients vectors in the right directions, thus leading to faster converging.\n",
    "- `bs`: batch size corresponds to the number of images evaluated at the time"
   ]
  },
  {
   "cell_type": "code",
   "execution_count": 13,
   "metadata": {
    "ExecuteTime": {
     "end_time": "2020-10-13T11:01:36.963650Z",
     "start_time": "2020-10-13T11:01:36.948781Z"
    }
   },
   "outputs": [
    {
     "data": {
      "text/plain": [
       "<torch._C.Generator at 0x7f4d4811a2b0>"
      ]
     },
     "execution_count": 13,
     "metadata": {},
     "output_type": "execute_result"
    }
   ],
   "source": [
    "# Let's define some hyperparameter first\n",
    "n_epochs = 3\n",
    "learning_rate = 0.001\n",
    "momentum = 0.5\n",
    "bs = 64\n",
    "\n",
    "# Loss function\n",
    "criterion = nn.CrossEntropyLoss()\n",
    "\n",
    "# Define Optimizer. In this case, we will use Stochastic Gradient Descent\n",
    "optimizer = optim.SGD(net.parameters(), lr=learning_rate, momentum=momentum)\n",
    "\n",
    "# Let's disable GPU for this example\n",
    "torch.backends.cudnn.enabled = False\n",
    "# For reproducibility\n",
    "torch.manual_seed(2020)"
   ]
  },
  {
   "cell_type": "code",
   "execution_count": 14,
   "metadata": {
    "ExecuteTime": {
     "end_time": "2020-10-13T11:01:37.236500Z",
     "start_time": "2020-10-13T11:01:36.965111Z"
    }
   },
   "outputs": [],
   "source": [
    "x_train = landmassf3_train.data / 255.0\n",
    "y_train = landmassf3_train.targets\n",
    "x_test = landmassf3_test.data / 255.0\n",
    "y_test = landmassf3_test.targets\n",
    "n = x_train.shape[0]"
   ]
  },
  {
   "cell_type": "markdown",
   "metadata": {},
   "source": [
    "Let's create the function for training:\n",
    "\n",
    "[Source of code](https://pytorch.org/tutorials/beginner/blitz/cifar10_tutorial.html)"
   ]
  },
  {
   "cell_type": "code",
   "execution_count": 15,
   "metadata": {
    "ExecuteTime": {
     "end_time": "2020-10-13T11:01:37.247794Z",
     "start_time": "2020-10-13T11:01:37.238271Z"
    }
   },
   "outputs": [],
   "source": [
    "def train(model, x, y, criterion, optimizer, n_epochs=1, bs=64):\n",
    "    # Set model in train mode\n",
    "    model.train()\n",
    "    for epoch in tqdm(range(n_epochs)):\n",
    "        running_loss = 0.0\n",
    "        for i in range((x_train.shape[0] - 1) // bs + 1):\n",
    "            \n",
    "            # Let's divide the data in batches\n",
    "            start_i = i * bs\n",
    "            end_i = start_i + bs\n",
    "            inputs = x_train[start_i:end_i].unsqueeze(1).float().to(device)\n",
    "            labels = y_train[start_i:end_i].long().to(device)\n",
    "            \n",
    "            # zero the parameter gradients\n",
    "            optimizer.zero_grad()\n",
    "            \n",
    "            # forward + backward + optimize\n",
    "            outputs = model(inputs)  # Get the prediction here\n",
    "            loss = criterion(outputs, labels)  # Calculate loss\n",
    "            loss.backward()  # Do backpropagation\n",
    "            optimizer.step()  # Update weights\n",
    "            \n",
    "            # print statistics\n",
    "            running_loss += loss.item()\n",
    "            if i % 10 == 9:\n",
    "                print(\"[%d, %5d] loss: %.3g\" % (epoch + 1, i + 1, running_loss / 2000))\n",
    "                running_loss = 0.0\n",
    "\n",
    "    print(\"Finished Training\")\n",
    "    return model"
   ]
  },
  {
   "cell_type": "code",
   "execution_count": 16,
   "metadata": {
    "ExecuteTime": {
     "end_time": "2020-10-13T11:01:37.300329Z",
     "start_time": "2020-10-13T11:01:37.249243Z"
    }
   },
   "outputs": [],
   "source": [
    "def test(model, x, y):\n",
    "    model.eval()\n",
    "\n",
    "    correct = 0\n",
    "    total = 0\n",
    "\n",
    "    for idx, image in enumerate(x):\n",
    "        pred = model(image.unsqueeze(0).unsqueeze(0).cuda()).argmax()\n",
    "        if int(pred) == int(y[idx]):\n",
    "            correct += 1\n",
    "        total += 1\n",
    "\n",
    "    print(correct, total)\n",
    "    accuracy = 100 * (correct / total)\n",
    "    return accuracy"
   ]
  },
  {
   "cell_type": "code",
   "execution_count": 17,
   "metadata": {
    "ExecuteTime": {
     "end_time": "2020-10-13T11:01:49.416804Z",
     "start_time": "2020-10-13T11:01:37.301715Z"
    },
    "scrolled": true
   },
   "outputs": [
    {
     "data": {
      "application/vnd.jupyter.widget-view+json": {
       "model_id": "9e5a344cc65441498d0141c7bc5e3e62",
       "version_major": 2,
       "version_minor": 0
      },
      "text/plain": [
       "HBox(children=(FloatProgress(value=0.0, max=1.0), HTML(value='')))"
      ]
     },
     "metadata": {},
     "output_type": "display_data"
    },
    {
     "name": "stdout",
     "output_type": "stream",
     "text": [
      "[1,    10] loss: 0.00687\n",
      "[1,    20] loss: 0.00681\n",
      "[1,    30] loss: 0.00681\n",
      "[1,    40] loss: 0.00675\n",
      "[1,    50] loss: 0.00674\n",
      "[1,    60] loss: 0.00669\n",
      "[1,    70] loss: 0.00663\n",
      "[1,    80] loss: 0.00661\n",
      "[1,    90] loss: 0.00663\n",
      "[1,   100] loss: 0.00655\n",
      "[1,   110] loss: 0.00651\n",
      "[1,   120] loss: 0.00642\n",
      "[1,   130] loss: 0.00643\n",
      "[1,   140] loss: 0.00636\n",
      "[1,   150] loss: 0.00628\n",
      "[1,   160] loss: 0.00625\n",
      "[1,   170] loss: 0.00614\n",
      "[1,   180] loss: 0.00603\n",
      "[1,   190] loss: 0.00602\n",
      "[1,   200] loss: 0.00599\n",
      "\n",
      "Finished Training\n",
      "2371 4417\n",
      "Accuracy: 53.678967625084894\n"
     ]
    }
   ],
   "source": [
    "# Define Optimizer. In this case, we will use Stochastic Gradient Descent\n",
    "optimizer = optim.SGD(net.parameters(), lr=learning_rate, momentum=momentum)\n",
    "# Now let's train the model\n",
    "model = train(net, x_train, y_train, criterion, optimizer)\n",
    "print('Accuracy:',test(model, x_test, y_test))"
   ]
  },
  {
   "cell_type": "markdown",
   "metadata": {},
   "source": [
    "Let's try again with 1 more epochs..."
   ]
  },
  {
   "cell_type": "code",
   "execution_count": 18,
   "metadata": {
    "ExecuteTime": {
     "end_time": "2020-10-13T11:02:31.312762Z",
     "start_time": "2020-10-13T11:01:49.418135Z"
    },
    "scrolled": true
   },
   "outputs": [
    {
     "data": {
      "application/vnd.jupyter.widget-view+json": {
       "model_id": "29c13920b3a7479988c9c36c46d78360",
       "version_major": 2,
       "version_minor": 0
      },
      "text/plain": [
       "HBox(children=(FloatProgress(value=0.0, max=5.0), HTML(value='')))"
      ]
     },
     "metadata": {},
     "output_type": "display_data"
    },
    {
     "name": "stdout",
     "output_type": "stream",
     "text": [
      "[1,    10] loss: 0.00588\n",
      "[1,    20] loss: 0.00584\n",
      "[1,    30] loss: 0.00607\n",
      "[1,    40] loss: 0.00597\n",
      "[1,    50] loss: 0.00604\n",
      "[1,    60] loss: 0.00601\n",
      "[1,    70] loss: 0.00586\n",
      "[1,    80] loss: 0.00596\n",
      "[1,    90] loss: 0.00612\n",
      "[1,   100] loss: 0.00603\n",
      "[1,   110] loss: 0.00602\n",
      "[1,   120] loss: 0.00591\n",
      "[1,   130] loss: 0.00604\n",
      "[1,   140] loss: 0.00597\n",
      "[1,   150] loss: 0.00594\n",
      "[1,   160] loss: 0.00598\n",
      "[1,   170] loss: 0.0059\n",
      "[1,   180] loss: 0.00584\n",
      "[1,   190] loss: 0.0059\n",
      "[1,   200] loss: 0.00593\n",
      "[2,    10] loss: 0.00588\n",
      "[2,    20] loss: 0.00584\n",
      "[2,    30] loss: 0.00607\n",
      "[2,    40] loss: 0.00597\n",
      "[2,    50] loss: 0.00604\n",
      "[2,    60] loss: 0.00601\n",
      "[2,    70] loss: 0.00586\n",
      "[2,    80] loss: 0.00596\n",
      "[2,    90] loss: 0.00612\n",
      "[2,   100] loss: 0.00603\n",
      "[2,   110] loss: 0.00602\n",
      "[2,   120] loss: 0.00591\n",
      "[2,   130] loss: 0.00604\n",
      "[2,   140] loss: 0.00597\n",
      "[2,   150] loss: 0.00594\n",
      "[2,   160] loss: 0.00598\n",
      "[2,   170] loss: 0.0059\n",
      "[2,   180] loss: 0.00584\n",
      "[2,   190] loss: 0.0059\n",
      "[2,   200] loss: 0.00593\n",
      "[3,    10] loss: 0.00588\n",
      "[3,    20] loss: 0.00584\n",
      "[3,    30] loss: 0.00607\n",
      "[3,    40] loss: 0.00597\n",
      "[3,    50] loss: 0.00604\n",
      "[3,    60] loss: 0.00601\n",
      "[3,    70] loss: 0.00586\n",
      "[3,    80] loss: 0.00596\n",
      "[3,    90] loss: 0.00612\n",
      "[3,   100] loss: 0.00603\n",
      "[3,   110] loss: 0.00602\n",
      "[3,   120] loss: 0.00591\n",
      "[3,   130] loss: 0.00604\n",
      "[3,   140] loss: 0.00597\n",
      "[3,   150] loss: 0.00594\n",
      "[3,   160] loss: 0.00598\n",
      "[3,   170] loss: 0.0059\n",
      "[3,   180] loss: 0.00584\n",
      "[3,   190] loss: 0.0059\n",
      "[3,   200] loss: 0.00593\n",
      "[4,    10] loss: 0.00588\n",
      "[4,    20] loss: 0.00584\n",
      "[4,    30] loss: 0.00607\n",
      "[4,    40] loss: 0.00597\n",
      "[4,    50] loss: 0.00604\n",
      "[4,    60] loss: 0.00601\n",
      "[4,    70] loss: 0.00586\n",
      "[4,    80] loss: 0.00596\n",
      "[4,    90] loss: 0.00612\n",
      "[4,   100] loss: 0.00603\n",
      "[4,   110] loss: 0.00602\n",
      "[4,   120] loss: 0.00591\n",
      "[4,   130] loss: 0.00604\n",
      "[4,   140] loss: 0.00597\n",
      "[4,   150] loss: 0.00594\n",
      "[4,   160] loss: 0.00598\n",
      "[4,   170] loss: 0.0059\n",
      "[4,   180] loss: 0.00584\n",
      "[4,   190] loss: 0.0059\n",
      "[4,   200] loss: 0.00593\n",
      "[5,    10] loss: 0.00588\n",
      "[5,    20] loss: 0.00584\n",
      "[5,    30] loss: 0.00607\n",
      "[5,    40] loss: 0.00597\n",
      "[5,    50] loss: 0.00604\n",
      "[5,    60] loss: 0.00601\n",
      "[5,    70] loss: 0.00586\n",
      "[5,    80] loss: 0.00596\n",
      "[5,    90] loss: 0.00612\n",
      "[5,   100] loss: 0.00603\n",
      "[5,   110] loss: 0.00602\n",
      "[5,   120] loss: 0.00591\n",
      "[5,   130] loss: 0.00604\n",
      "[5,   140] loss: 0.00597\n",
      "[5,   150] loss: 0.00594\n",
      "[5,   160] loss: 0.00598\n",
      "[5,   170] loss: 0.0059\n",
      "[5,   180] loss: 0.00584\n",
      "[5,   190] loss: 0.0059\n",
      "[5,   200] loss: 0.00593\n",
      "\n",
      "Finished Training\n",
      "Testing accuracy on unseen data...\n",
      "2371 4417\n",
      "Accuracy: 53.678967625084894\n"
     ]
    }
   ],
   "source": [
    "net2 = Net().to(device)\n",
    "# Define Optimizer. In this case, we will use Stochastic Gradient Descent\n",
    "optimizer = optim.SGD(net2.parameters(), lr=learning_rate, momentum=momentum)\n",
    "model = train(net, x_train, y_train, criterion, optimizer, n_epochs=5)\n",
    "print(\"Testing accuracy on unseen data...\")\n",
    "print('Accuracy:',test(model, x_test, y_test))"
   ]
  },
  {
   "cell_type": "markdown",
   "metadata": {},
   "source": [
    "We trained the same model using `SGD` for 1, 2, and 5 epochs. At some point, it seems like the model is not converging in it got stuck in a local minima. To improve the results we will tray a couple of things:\n",
    "\n",
    "1. Create a new model with `Batch Normalization`, it is often used in modern CNN architectures because it helps to create more general models (regularization) preventing overfitting.\n",
    "2. Change `SGD` for `Adam` optimizer. `Adam` is known to converge faster than `SGD`.\n",
    "3. We will train longer (more epochs).\n"
   ]
  },
  {
   "cell_type": "code",
   "execution_count": 19,
   "metadata": {
    "ExecuteTime": {
     "end_time": "2020-10-13T11:02:31.323080Z",
     "start_time": "2020-10-13T11:02:31.314288Z"
    }
   },
   "outputs": [],
   "source": [
    "class BetterCNN(nn.Module):\n",
    "    def __init__(self):\n",
    "        super(BetterCNN, self).__init__()\n",
    "\n",
    "        self.layer1 = nn.Sequential(\n",
    "            nn.Conv2d(in_channels=1, out_channels=32, kernel_size=3, padding=1),\n",
    "            nn.BatchNorm2d(32),\n",
    "            nn.ReLU(),\n",
    "            nn.MaxPool2d(kernel_size=2, stride=2),\n",
    "        )\n",
    "\n",
    "        self.layer2 = nn.Sequential(\n",
    "            nn.Conv2d(in_channels=32, out_channels=64, kernel_size=3),\n",
    "            nn.BatchNorm2d(64),\n",
    "            nn.ReLU(),\n",
    "            nn.MaxPool2d(2),\n",
    "        )\n",
    "\n",
    "        self.layer3 = nn.Sequential(\n",
    "            nn.Conv2d(in_channels=64, out_channels=128, kernel_size=3),\n",
    "            nn.BatchNorm2d(128),\n",
    "            nn.ReLU(),\n",
    "            nn.MaxPool2d(2),\n",
    "        )\n",
    "\n",
    "        self.fc1 = nn.Linear(in_features=128 * 10 * 10, out_features=512)\n",
    "        self.drop = nn.Dropout2d(0.25)\n",
    "        self.fc2 = nn.Linear(in_features=512, out_features=128)\n",
    "        self.fc3 = nn.Linear(in_features=128, out_features=4)\n",
    "\n",
    "    def forward(self, x):\n",
    "        out = self.layer1(x)\n",
    "        out = self.layer2(out)\n",
    "        out = self.layer3(out)\n",
    "        # print(out.shape)\n",
    "        out = out.view(out.size(0), -1)\n",
    "        # print(out.shape)\n",
    "        out = self.fc1(out)\n",
    "        out = self.drop(out)\n",
    "        out = self.fc2(out)\n",
    "        out = self.fc3(out)\n",
    "\n",
    "        return out"
   ]
  },
  {
   "cell_type": "markdown",
   "metadata": {},
   "source": [
    "Let's see first the results training the new model using only 1 epoch."
   ]
  },
  {
   "cell_type": "code",
   "execution_count": 20,
   "metadata": {
    "ExecuteTime": {
     "end_time": "2020-10-13T11:03:06.466022Z",
     "start_time": "2020-10-13T11:02:31.325667Z"
    },
    "scrolled": true
   },
   "outputs": [
    {
     "data": {
      "application/vnd.jupyter.widget-view+json": {
       "model_id": "5c393b5324ce4659ade19c41a87d5ce8",
       "version_major": 2,
       "version_minor": 0
      },
      "text/plain": [
       "HBox(children=(FloatProgress(value=0.0, max=1.0), HTML(value='')))"
      ]
     },
     "metadata": {},
     "output_type": "display_data"
    },
    {
     "name": "stdout",
     "output_type": "stream",
     "text": [
      "[1,    10] loss: 0.0611\n",
      "[1,    20] loss: 0.00932\n",
      "[1,    30] loss: 0.00369\n",
      "[1,    40] loss: 0.000794\n",
      "[1,    50] loss: 0.000633\n",
      "[1,    60] loss: 0.000391\n",
      "[1,    70] loss: 0.000446\n",
      "[1,    80] loss: 0.000202\n",
      "[1,    90] loss: 0.000298\n",
      "[1,   100] loss: 0.000156\n",
      "[1,   110] loss: 0.000175\n",
      "[1,   120] loss: 8.21e-05\n",
      "[1,   130] loss: 0.000153\n",
      "[1,   140] loss: 5.85e-05\n",
      "[1,   150] loss: 6.75e-05\n",
      "[1,   160] loss: 3.3e-05\n",
      "[1,   170] loss: 0.000117\n",
      "[1,   180] loss: 6.06e-05\n",
      "[1,   190] loss: 0.000263\n",
      "[1,   200] loss: 0.000141\n",
      "\n",
      "Finished Training\n",
      "2613 4417\n"
     ]
    },
    {
     "data": {
      "text/plain": [
       "59.157799411365176"
      ]
     },
     "execution_count": 20,
     "metadata": {},
     "output_type": "execute_result"
    }
   ],
   "source": [
    "convnet = BetterCNN().to(device)\n",
    "optimizer = torch.optim.Adam(convnet.parameters(), lr=learning_rate)\n",
    "convnet = train(convnet, x_train, y_train, criterion, optimizer)\n",
    "test(convnet, x_test, y_test)"
   ]
  },
  {
   "cell_type": "code",
   "execution_count": 21,
   "metadata": {
    "ExecuteTime": {
     "end_time": "2020-10-13T11:03:06.510194Z",
     "start_time": "2020-10-13T11:03:06.468783Z"
    }
   },
   "outputs": [
    {
     "name": "stdout",
     "output_type": "stream",
     "text": [
      "================================================================================\n",
      "                           Kernel Shape      Output Shape     Params  \\\n",
      "Layer                                                                  \n",
      "0_layer1.Conv2d_0         [1, 32, 3, 3]   [1, 32, 99, 99]      320.0   \n",
      "1_layer1.BatchNorm2d_1             [32]   [1, 32, 99, 99]       64.0   \n",
      "2_layer1.ReLU_2                       -   [1, 32, 99, 99]          -   \n",
      "3_layer1.MaxPool2d_3                  -   [1, 32, 49, 49]          -   \n",
      "4_layer2.Conv2d_0        [32, 64, 3, 3]   [1, 64, 47, 47]    18.496k   \n",
      "5_layer2.BatchNorm2d_1             [64]   [1, 64, 47, 47]      128.0   \n",
      "6_layer2.ReLU_2                       -   [1, 64, 47, 47]          -   \n",
      "7_layer2.MaxPool2d_3                  -   [1, 64, 23, 23]          -   \n",
      "8_layer3.Conv2d_0       [64, 128, 3, 3]  [1, 128, 21, 21]    73.856k   \n",
      "9_layer3.BatchNorm2d_1            [128]  [1, 128, 21, 21]      256.0   \n",
      "10_layer3.ReLU_2                      -  [1, 128, 21, 21]          -   \n",
      "11_layer3.MaxPool2d_3                 -  [1, 128, 10, 10]          -   \n",
      "12_fc1                     [12800, 512]          [1, 512]  6.554112M   \n",
      "13_drop                               -          [1, 512]          -   \n",
      "14_fc2                       [512, 128]          [1, 128]    65.664k   \n",
      "15_fc3                         [128, 4]            [1, 4]      516.0   \n",
      "\n",
      "                         Mult-Adds  \n",
      "Layer                               \n",
      "0_layer1.Conv2d_0        2.822688M  \n",
      "1_layer1.BatchNorm2d_1        32.0  \n",
      "2_layer1.ReLU_2                  -  \n",
      "3_layer1.MaxPool2d_3             -  \n",
      "4_layer2.Conv2d_0       40.716288M  \n",
      "5_layer2.BatchNorm2d_1        64.0  \n",
      "6_layer2.ReLU_2                  -  \n",
      "7_layer2.MaxPool2d_3             -  \n",
      "8_layer3.Conv2d_0       32.514048M  \n",
      "9_layer3.BatchNorm2d_1       128.0  \n",
      "10_layer3.ReLU_2                 -  \n",
      "11_layer3.MaxPool2d_3            -  \n",
      "12_fc1                     6.5536M  \n",
      "13_drop                          -  \n",
      "14_fc2                     65.536k  \n",
      "15_fc3                       512.0  \n",
      "--------------------------------------------------------------------------------\n",
      "                          Totals\n",
      "Total params           6.713412M\n",
      "Trainable params       6.713412M\n",
      "Non-trainable params         0.0\n",
      "Mult-Adds             82.672896M\n",
      "================================================================================\n"
     ]
    },
    {
     "data": {
      "text/plain": [
       "1"
      ]
     },
     "execution_count": 21,
     "metadata": {},
     "output_type": "execute_result"
    }
   ],
   "source": [
    "from deep_ml_curriculum.torchsummaryX import summary\n",
    "# We can also summarise the number of parameters in each layer\n",
    "summary(convnet, torch.rand((1, 1, 99, 99)).to(device))\n",
    "1"
   ]
  },
  {
   "cell_type": "markdown",
   "metadata": {},
   "source": [
    "<div class=\"alert alert-success\" style=\"font-size:100%\">\n",
    "<b>Exercise 1</b>: <br>\n",
    "\n",
    "Modify the previous code to train `BetterCNN` using `Adam` optimizer for a total of 10 `epochs`. Use 1e-3 `learning_rate`.\n",
    "</div>"
   ]
  },
  {
   "cell_type": "markdown",
   "metadata": {},
   "source": [
    "You can click in the button below the reveal the solution for exercise 1\n",
    "\n",
    "<details>    \n",
    "<summary>\n",
    "    <font size=\"4\" color=\"darkblue\"><b>See the solution for Exercise 1</b></font>\n",
    "</summary>\n",
    "    \n",
    "If we check the loss, we can notice that Adam is converging faster. However, the model is clearly underfitted. Let's train now the model for 10 epochs more:\n",
    "    \n",
    "```python\n",
    "learning_rate = 1e-3\n",
    "convnet2 = BetterCNN().to(device)\n",
    "optimizer = torch.optim.Adam(convnet2.parameters(), lr=learning_rate)\n",
    "model = train(convnet2, x_train, y_train, criterion, optimizer, n_epochs=10)\n",
    "test(model, x_test, y_test)\n",
    "```\n",
    "\n",
    "</details>"
   ]
  },
  {
   "cell_type": "code",
   "execution_count": 23,
   "metadata": {
    "ExecuteTime": {
     "end_time": "2020-10-13T11:08:21.574558Z",
     "start_time": "2020-10-13T11:03:52.622772Z"
    }
   },
   "outputs": [
    {
     "data": {
      "application/vnd.jupyter.widget-view+json": {
       "model_id": "dbc78f3990644a4b94c94c6618ca47f9",
       "version_major": 2,
       "version_minor": 0
      },
      "text/plain": [
       "HBox(children=(FloatProgress(value=0.0, max=10.0), HTML(value='')))"
      ]
     },
     "metadata": {},
     "output_type": "display_data"
    },
    {
     "name": "stdout",
     "output_type": "stream",
     "text": [
      "[1,    10] loss: 0.0546\n",
      "[1,    20] loss: 0.00867\n",
      "[1,    30] loss: 0.00245\n",
      "[1,    40] loss: 0.00125\n",
      "[1,    50] loss: 0.00066\n",
      "[1,    60] loss: 0.000289\n",
      "[1,    70] loss: 0.000436\n",
      "[1,    80] loss: 0.000251\n",
      "[1,    90] loss: 0.000247\n",
      "[1,   100] loss: 0.000156\n",
      "[1,   110] loss: 0.000177\n",
      "[1,   120] loss: 8.18e-05\n",
      "[1,   130] loss: 0.000297\n",
      "[1,   140] loss: 0.000167\n",
      "[1,   150] loss: 7.41e-05\n",
      "[1,   160] loss: 8.3e-05\n",
      "[1,   170] loss: 0.000166\n",
      "[1,   180] loss: 7.77e-05\n",
      "[1,   190] loss: 0.000213\n",
      "[1,   200] loss: 0.000132\n",
      "[2,    10] loss: 0.011\n",
      "[2,    20] loss: 0.00274\n",
      "[2,    30] loss: 0.00131\n",
      "[2,    40] loss: 0.000886\n",
      "[2,    50] loss: 0.000951\n",
      "[2,    60] loss: 0.00095\n",
      "[2,    70] loss: 0.000232\n",
      "[2,    80] loss: 0.000986\n",
      "[2,    90] loss: 0.000333\n",
      "[2,   100] loss: 0.000176\n",
      "[2,   110] loss: 0.000287\n",
      "[2,   120] loss: 4.85e-05\n",
      "[2,   130] loss: 0.000151\n",
      "[2,   140] loss: 0.000133\n",
      "[2,   150] loss: 8.96e-05\n",
      "[2,   160] loss: 5.17e-05\n",
      "[2,   170] loss: 0.000309\n",
      "[2,   180] loss: 0.000299\n",
      "[2,   190] loss: 0.000136\n",
      "[2,   200] loss: 0.000249\n",
      "[3,    10] loss: 0.0153\n",
      "[3,    20] loss: 0.00479\n",
      "[3,    30] loss: 0.0032\n",
      "[3,    40] loss: 0.000814\n",
      "[3,    50] loss: 0.000905\n",
      "[3,    60] loss: 0.000566\n",
      "[3,    70] loss: 0.00085\n",
      "[3,    80] loss: 0.000827\n",
      "[3,    90] loss: 0.000585\n",
      "[3,   100] loss: 0.000284\n",
      "[3,   110] loss: 0.000662\n",
      "[3,   120] loss: 4.97e-05\n",
      "[3,   130] loss: 0.000122\n",
      "[3,   140] loss: 8.32e-06\n",
      "[3,   150] loss: 6.13e-05\n",
      "[3,   160] loss: 1.46e-05\n",
      "[3,   170] loss: 0.000213\n",
      "[3,   180] loss: 2.82e-05\n",
      "[3,   190] loss: 0.000224\n",
      "[3,   200] loss: 0.000181\n",
      "[4,    10] loss: 0.0216\n",
      "[4,    20] loss: 0.00806\n",
      "[4,    30] loss: 0.00127\n",
      "[4,    40] loss: 0.00103\n",
      "[4,    50] loss: 0.000891\n",
      "[4,    60] loss: 0.000826\n",
      "[4,    70] loss: 0.000115\n",
      "[4,    80] loss: 0.00058\n",
      "[4,    90] loss: 8.08e-05\n",
      "[4,   100] loss: 0.000193\n",
      "[4,   110] loss: 0.000151\n",
      "[4,   120] loss: 4.11e-08\n",
      "[4,   130] loss: 0.000209\n",
      "[4,   140] loss: 0.000189\n",
      "[4,   150] loss: 2e-05\n",
      "[4,   160] loss: 0.000213\n",
      "[4,   170] loss: 0.000261\n",
      "[4,   180] loss: 0.0002\n",
      "[4,   190] loss: 0.000319\n",
      "[4,   200] loss: 0.000222\n",
      "[5,    10] loss: 0.00438\n",
      "[5,    20] loss: 0.00259\n",
      "[5,    30] loss: 0.00053\n",
      "[5,    40] loss: 0.000287\n",
      "[5,    50] loss: 0.000234\n",
      "[5,    60] loss: 8.15e-05\n",
      "[5,    70] loss: 0.000467\n",
      "[5,    80] loss: 0.000262\n",
      "[5,    90] loss: 6.61e-05\n",
      "[5,   100] loss: 0.000319\n",
      "[5,   110] loss: 0.000169\n",
      "[5,   120] loss: 1.92e-05\n",
      "[5,   130] loss: 0.000249\n",
      "[5,   140] loss: 8.32e-06\n",
      "[5,   150] loss: 0.000249\n",
      "[5,   160] loss: 5.6e-05\n",
      "[5,   170] loss: 0.000238\n",
      "[5,   180] loss: 0.000165\n",
      "[5,   190] loss: 0.000272\n",
      "[5,   200] loss: 0.000134\n",
      "[6,    10] loss: 0.000165\n",
      "[6,    20] loss: 0.000151\n",
      "[6,    30] loss: 0.000108\n",
      "[6,    40] loss: 9.68e-05\n",
      "[6,    50] loss: 7.55e-05\n",
      "[6,    60] loss: 0.000193\n",
      "[6,    70] loss: 0.000394\n",
      "[6,    80] loss: 0.000145\n",
      "[6,    90] loss: 3.32e-07\n",
      "[6,   100] loss: 9.72e-05\n",
      "[6,   110] loss: 0.00016\n",
      "[6,   120] loss: 6.4e-08\n",
      "[6,   130] loss: 0.000136\n",
      "[6,   140] loss: 0.0001\n",
      "[6,   150] loss: 0.000105\n",
      "[6,   160] loss: 2.78e-07\n",
      "[6,   170] loss: 0.000121\n",
      "[6,   180] loss: 0.000133\n",
      "[6,   190] loss: 0.000363\n",
      "[6,   200] loss: 0.00019\n",
      "[7,    10] loss: 0.0112\n",
      "[7,    20] loss: 0.00327\n",
      "[7,    30] loss: 0.000902\n",
      "[7,    40] loss: 0.00182\n",
      "[7,    50] loss: 0.00107\n",
      "[7,    60] loss: 0.000166\n",
      "[7,    70] loss: 0.000411\n",
      "[7,    80] loss: 0.000847\n",
      "[7,    90] loss: 0.000389\n",
      "[7,   100] loss: 0.00119\n",
      "[7,   110] loss: 0.00355\n",
      "[7,   120] loss: 0.000582\n",
      "[7,   130] loss: 0.000382\n",
      "[7,   140] loss: 0.000217\n",
      "[7,   150] loss: 2.56e-05\n",
      "[7,   160] loss: 9.63e-07\n",
      "[7,   170] loss: 0.000343\n",
      "[7,   180] loss: 8.3e-07\n",
      "[7,   190] loss: 0.0001\n",
      "[7,   200] loss: 0.000439\n",
      "[8,    10] loss: 0.000264\n",
      "[8,    20] loss: 0.00025\n",
      "[8,    30] loss: 0.000189\n",
      "[8,    40] loss: 5.74e-05\n",
      "[8,    50] loss: 2.1e-06\n",
      "[8,    60] loss: 8.72e-08\n",
      "[8,    70] loss: 4.47e-11\n",
      "[8,    80] loss: 0.000159\n",
      "[8,    90] loss: 1.49e-11\n",
      "[8,   100] loss: 0.00045\n",
      "[8,   110] loss: 5.63e-05\n",
      "[8,   120] loss: 9.62e-06\n",
      "[8,   130] loss: 0.000179\n",
      "[8,   140] loss: 3.87e-10\n",
      "[8,   150] loss: 0.000183\n",
      "[8,   160] loss: 5.96e-11\n",
      "[8,   170] loss: 4.68e-06\n",
      "[8,   180] loss: 8.6e-05\n",
      "[8,   190] loss: 1.34e-05\n",
      "[8,   200] loss: 0.000313\n",
      "[9,    10] loss: 3.13e-05\n",
      "[9,    20] loss: 0.000285\n",
      "[9,    30] loss: 0.000305\n",
      "[9,    40] loss: 0.000151\n",
      "[9,    50] loss: 9.28e-05\n",
      "[9,    60] loss: 5.5e-05\n",
      "[9,    70] loss: 0.000122\n",
      "[9,    80] loss: 8.49e-06\n",
      "[9,    90] loss: 3.62e-09\n",
      "[9,   100] loss: 5.83e-07\n",
      "[9,   110] loss: 1.54e-06\n",
      "[9,   120] loss: 1.64e-10\n",
      "[9,   130] loss: 0.00011\n",
      "[9,   140] loss: 0\n",
      "[9,   150] loss: 1.04e-10\n",
      "[9,   160] loss: 0\n",
      "[9,   170] loss: 1.8e-07\n",
      "[9,   180] loss: 7.72e-07\n",
      "[9,   190] loss: 4.52e-09\n",
      "[9,   200] loss: 0.000218\n",
      "[10,    10] loss: 2.37e-05\n",
      "[10,    20] loss: 8.21e-08\n",
      "[10,    30] loss: 1.83e-06\n",
      "[10,    40] loss: 0\n",
      "[10,    50] loss: 0\n",
      "[10,    60] loss: 2.38e-10\n",
      "[10,    70] loss: 6.94e-05\n",
      "[10,    80] loss: 1.04e-07\n",
      "[10,    90] loss: 0\n",
      "[10,   100] loss: 1.56e-05\n",
      "[10,   110] loss: 0.000305\n",
      "[10,   120] loss: 3.43e-09\n",
      "[10,   130] loss: 1.27e-06\n",
      "[10,   140] loss: 0\n",
      "[10,   150] loss: 4.68e-09\n",
      "[10,   160] loss: 0\n",
      "[10,   170] loss: 2.74e-08\n",
      "[10,   180] loss: 3.66e-06\n",
      "[10,   190] loss: 8.94e-11\n",
      "[10,   200] loss: 0.000204\n",
      "\n",
      "Finished Training\n",
      "4412 4417\n"
     ]
    },
    {
     "data": {
      "text/plain": [
       "99.88680099615124"
      ]
     },
     "execution_count": 23,
     "metadata": {},
     "output_type": "execute_result"
    }
   ],
   "source": []
  },
  {
   "cell_type": "markdown",
   "metadata": {},
   "source": [
    "Finally ! After changing the optimizer, creating a better CNN architecture and train for a couple of epochs we got an accuracy of over 99% on unseen data."
   ]
  },
  {
   "cell_type": "code",
   "execution_count": 22,
   "metadata": {
    "ExecuteTime": {
     "end_time": "2020-10-13T11:03:06.518361Z",
     "start_time": "2020-10-13T11:03:06.511841Z"
    }
   },
   "outputs": [],
   "source": [
    "# Now that we finished the training let's save our best model\n",
    "#PATH = \"./landmass_net.pth\"\n",
    "#torch.save(model.state_dict(), PATH)"
   ]
  },
  {
   "cell_type": "markdown",
   "metadata": {},
   "source": [
    "Now let's load a new model to check that the performance of the saved model.\n",
    "\n",
    "Check more information about how to save models in Pytorch [here](https://pytorch.org/tutorials/beginner/saving_loading_models.html)"
   ]
  },
  {
   "cell_type": "markdown",
   "metadata": {},
   "source": [
    "# References and further reading\n",
    "\n",
    "[Artificial Neural Networks](https://en.wikipedia.org/wiki/Artificial_neural_network)\n",
    "\n",
    "[Pytorch](https://pytorch.org/)\n",
    "\n",
    "[Stochastic Gradient Descent](https://en.wikipedia.org/wiki/Stochastic_gradient_descent)\n",
    "\n",
    "[Adam](https://arxiv.org/pdf/1412.6980.pdf)\n"
   ]
  }
 ],
 "metadata": {
  "jupytext": {
   "encoding": "# -*- coding: utf-8 -*-",
   "formats": "ipynb,py"
  },
  "kernelspec": {
   "display_name": "py37_pytorch",
   "language": "python",
   "name": "conda-env-py37_pytorch-py"
  },
  "language_info": {
   "codemirror_mode": {
    "name": "ipython",
    "version": 3
   },
   "file_extension": ".py",
   "mimetype": "text/x-python",
   "name": "python",
   "nbconvert_exporter": "python",
   "pygments_lexer": "ipython3",
   "version": "3.7.0"
  },
  "toc": {
   "base_numbering": 1,
   "nav_menu": {},
   "number_sections": true,
   "sideBar": true,
   "skip_h1_title": false,
   "title_cell": "Table of Contents",
   "title_sidebar": "Contents",
   "toc_cell": false,
   "toc_position": {},
   "toc_section_display": true,
   "toc_window_display": true
  },
  "varInspector": {
   "cols": {
    "lenName": 16,
    "lenType": 16,
    "lenVar": 40
   },
   "kernels_config": {
    "python": {
     "delete_cmd_postfix": "",
     "delete_cmd_prefix": "del ",
     "library": "var_list.py",
     "varRefreshCmd": "print(var_dic_list())"
    },
    "r": {
     "delete_cmd_postfix": ") ",
     "delete_cmd_prefix": "rm(",
     "library": "var_list.r",
     "varRefreshCmd": "cat(var_dic_list()) "
    }
   },
   "types_to_exclude": [
    "module",
    "function",
    "builtin_function_or_method",
    "instance",
    "_Feature"
   ],
   "window_display": false
  }
 },
 "nbformat": 4,
 "nbformat_minor": 4
}
