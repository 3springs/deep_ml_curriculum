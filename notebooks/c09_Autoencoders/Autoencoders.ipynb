{
 "cells": [
  {
   "cell_type": "markdown",
   "metadata": {},
   "source": [
    "# Autoencoders\n",
    "## What are autoencoders?\n",
    "Autoencoders are networks which have the same input and output. A set of data is fed to these networks and they are expected to recreate the input. However, what makes autoencoders interesting is that they compress the information into lower number of dimensions (a.k.a latent space) and then recreate the input using those dimensions. They can be used for dimensionality reduction similar to PCA, t-SNE, and Umap. Some of the advantages of using autoencoders compared to some of the other techniques are:\n",
    "- Flexibility: You can design the network based on what the problem demands.\n",
    "- Reversibility: Unlike methods such as t-SNE and UMAP you can convert data back to the initial space.\n",
    "- Non-linearity: Unlike linear methods such as PCA, it is capable of using non-linear transformation.\n",
    "\n",
    "<div class=\"alert alert-success\">\n",
    "Learning Objectives:\n",
    "    \n",
    "- How AutoEncoders compress\n",
    "- How Variation Auto Encoder's use a latent space\n",
    "- What is a latent Space\n",
    "- using `Kullback–Leibler divergence` as a loss to measure the difference in two distributions\n",
    "- Applications of Auto Encoders\n",
    "</div>  \n",
    "\n",
    "## Structure\n",
    "Autoencoders have two main components:\n",
    "\n",
    "1. Encoder: Converts data to latent space.\n",
    "2. Decoder: Converts the data back from latent space to its initial space.\n",
    "\n",
    "The architecture looks similar to the image below:\n",
    "<img src='./images/nn.svg' style='height:50rem'>\n",
    "\n",
    "We pass the input through the model and it will compress and decompress the input and returns a result. Then we compare the output of the model with the original input. To check how close the output is to the original input we use a loss function."
   ]
  },
  {
   "cell_type": "markdown",
   "metadata": {
    "ExecuteTime": {
     "end_time": "2020-10-12T02:04:25.772894Z",
     "start_time": "2020-10-12T02:04:25.763235Z"
    }
   },
   "source": [
    "## Applications\n",
    "\n",
    "Autoencoders are not only useful for dimensionality reduction. They are often used for other purposes as well, including:\n",
    "1. __Denoising:__ We could add noise to the input and then feed it to the model and then compare the output with the original image (without noise). This approach will create a model which is capable of removing noise from the input.\n",
    "2. __Anomaly Detection:__ When we train a model on specific set of data, the model learns how to recreate the dataset. As a result when there are uncommon instances in the data the model will not be able to recrate them very well. This behaviour is sometimes used as a technique to find anomalous data points. \n",
    "3. __Unsupervised Clustering:__ Like clustering algorithms but more flexible, able to fit complex relationships"
   ]
  },
  {
   "cell_type": "markdown",
   "metadata": {},
   "source": [
    "Let's start by importing the required libraries."
   ]
  },
  {
   "cell_type": "code",
   "execution_count": 1,
   "metadata": {
    "ExecuteTime": {
     "end_time": "2020-10-16T07:27:31.675362Z",
     "start_time": "2020-10-16T07:27:30.532618Z"
    }
   },
   "outputs": [],
   "source": [
    "import torch\n",
    "from torch import nn, optim\n",
    "from torch.nn import functional as F\n",
    "from torch.distributions import Normal\n",
    "from torch.utils.data import Dataset, DataLoader\n",
    "\n",
    "from torchvision import datasets, transforms\n",
    "\n",
    "import seaborn as sns\n",
    "from PIL import Image\n",
    "from pathlib import Path\n",
    "import numpy as np\n",
    "import os\n",
    "from tqdm.auto import tqdm\n",
    "import matplotlib.pyplot as plt\n",
    "import pandas as pd\n",
    "\n",
    "from deep_ml_curriculum.torchsummaryX import summary"
   ]
  },
  {
   "cell_type": "markdown",
   "metadata": {},
   "source": [
    "## Problem Description\n",
    "We are going to start with a simple problem. We will use MNIST dataset which is a collection of hand-written digits as 28x28 pixel images. We are going to use autoencoder to compress each image into only two values and then reconstruct the image. When the model is trained we will have a look at the reconstructed images as well as latent space values."
   ]
  },
  {
   "cell_type": "markdown",
   "metadata": {},
   "source": [
    "## Dataset and dataloader\n",
    "\n",
    "First we need to create a `Dataset` class. The `Dataset` class reads the data from file and returns data points when we need them. The advantage of using a `Dataset` is that we can adjust it based on what we need for each problem. If we are not dealing with large amount of data we can decide to keep everything in RAM so it is ready use. But if we are dealing with a few gigabytes of data we might need to open the file only when we need them.<br>\n",
    "The MNIST data set is not large so we can easily fit it into memory. In the `Dataset` class we define a few methods:\n",
    "- `__init__`: What information is required to create the object and how this information is saved.\n",
    "- `__len__`: Returns the number of data points (images) when we use `len()` function.\n",
    "- `__getitem__`: We can define how indexing would work for this class.\n",
    "\n",
    "We are going to define a couple of custom functions for convinience:\n",
    "- `show`: to see the image.\n",
    "- `sample`: which returns a random sample of the data."
   ]
  },
  {
   "cell_type": "code",
   "execution_count": 2,
   "metadata": {
    "ExecuteTime": {
     "end_time": "2020-10-16T07:27:31.766026Z",
     "start_time": "2020-10-16T07:27:31.676874Z"
    }
   },
   "outputs": [],
   "source": [
    "Dataset?"
   ]
  },
  {
   "cell_type": "code",
   "execution_count": 3,
   "metadata": {
    "ExecuteTime": {
     "end_time": "2020-10-16T07:27:31.801155Z",
     "start_time": "2020-10-16T07:27:31.767942Z"
    }
   },
   "outputs": [],
   "source": [
    "path = Path(\"../../data/processed/MNIST/\")\n",
    "\n",
    "class DigitsDataset(Dataset):\n",
    "    def __init__(self, path, transform=None):\n",
    "\n",
    "        self.root_dir = Path(path)\n",
    "        self.transform = transform\n",
    "        data = pd.read_csv(path)\n",
    "        if \"label\" in data.columns:\n",
    "            self.x = data.drop(columns=[\"label\"]).values.reshape((-1, 28, 28))\n",
    "            self.y = data[\"label\"].values\n",
    "        else:\n",
    "            self.x = data.values.reshape((-1, 28, 28))\n",
    "\n",
    "    def __len__(self):\n",
    "        \"\"\"Python method for length\"\"\"\n",
    "        return len(self.x)\n",
    "\n",
    "    def __getitem__(self, idx):\n",
    "        \"\"\"Python method for square brackets\"\"\"\n",
    "        output = self.x[int(idx)] / 255\n",
    "        if self.transform:\n",
    "            output = self.transform(output)\n",
    "        return output\n",
    "\n",
    "    def show(self, idx):\n",
    "        plt.imshow(self.x[idx], \"gray\")\n"
   ]
  },
  {
   "cell_type": "markdown",
   "metadata": {},
   "source": [
    "__Note:__ We also defined a class called `ToTensor`. This class takes an input and converts it to pytorch tensor. "
   ]
  },
  {
   "cell_type": "markdown",
   "metadata": {},
   "source": [
    "Now that we have a `Dataset` class, we can create a training and test dataset."
   ]
  },
  {
   "cell_type": "code",
   "execution_count": 4,
   "metadata": {
    "ExecuteTime": {
     "end_time": "2020-10-16T07:27:36.476137Z",
     "start_time": "2020-10-16T07:27:31.802583Z"
    },
    "lines_to_next_cell": 2
   },
   "outputs": [],
   "source": [
    "ds_train = DigitsDataset(path / \"train.csv\", transform=transforms.ToTensor())\n",
    "ds_test = DigitsDataset(path / \"test.csv\", transform=transforms.ToTensor())"
   ]
  },
  {
   "cell_type": "code",
   "execution_count": 5,
   "metadata": {
    "ExecuteTime": {
     "end_time": "2020-10-16T07:27:36.482222Z",
     "start_time": "2020-10-16T07:27:36.477566Z"
    }
   },
   "outputs": [
    {
     "data": {
      "text/plain": [
       "(torch.Size([1, 28, 28]), torch.float64)"
      ]
     },
     "execution_count": 5,
     "metadata": {},
     "output_type": "execute_result"
    }
   ],
   "source": [
    "x= ds_train[0]\n",
    "x.shape, x.dtype"
   ]
  },
  {
   "cell_type": "code",
   "execution_count": null,
   "metadata": {
    "ExecuteTime": {
     "end_time": "2020-10-16T01:18:49.378554Z",
     "start_time": "2020-10-16T01:18:49.367362Z"
    }
   },
   "outputs": [],
   "source": []
  },
  {
   "cell_type": "code",
   "execution_count": 6,
   "metadata": {
    "ExecuteTime": {
     "end_time": "2020-10-16T07:27:37.043208Z",
     "start_time": "2020-10-16T07:27:36.483525Z"
    },
    "lines_to_next_cell": 2,
    "scrolled": true
   },
   "outputs": [
    {
     "data": {
      "image/png": "[encoded data removed]",
      "text/plain": [
       "<Figure size 432x288 with 16 Axes>"
      ]
     },
     "metadata": {},
     "output_type": "display_data"
    }
   ],
   "source": [
    "for i in range(4):\n",
    "    for j in range(4):\n",
    "        plt.subplot(4, 4, 1+i*4+j)\n",
    "        ds_train.show(i*4+j)\n",
    "        plt.xticks([])\n",
    "        plt.yticks([])\n",
    "plt.show()"
   ]
  },
  {
   "cell_type": "code",
   "execution_count": 7,
   "metadata": {
    "ExecuteTime": {
     "end_time": "2020-10-16T07:27:37.048080Z",
     "start_time": "2020-10-16T07:27:37.044598Z"
    }
   },
   "outputs": [
    {
     "data": {
      "text/plain": [
       "torch.Size([1, 28, 28])"
      ]
     },
     "execution_count": 7,
     "metadata": {},
     "output_type": "execute_result"
    }
   ],
   "source": [
    "# Both of these are the same\n",
    "ds_train.__getitem__(1).shape\n",
    "ds_train[1].shape"
   ]
  },
  {
   "cell_type": "markdown",
   "metadata": {},
   "source": [
    "Next step is to create a data loaders. The training process takes place at multiple steps. At each step, we choose a few images and feed them to the model. Then we calculate the loss value based on the output. Using the loss value we update the values in the model. We do this over and over until when we think the model is trained. Each of these steps are called a mini-batch and the number of images passed in at each mini-batch is called batch size. Dataloader's job is to go to the dataset and grab a mini-batch of images for training. To create a Dataloader we use a pytorch dataloder object."
   ]
  },
  {
   "cell_type": "code",
   "execution_count": 8,
   "metadata": {
    "ExecuteTime": {
     "end_time": "2020-10-16T07:27:37.114529Z",
     "start_time": "2020-10-16T07:27:37.050312Z"
    }
   },
   "outputs": [
    {
     "data": {
      "text/plain": [
       "<torch.utils.data.dataloader.DataLoader at 0x7f67e6ff6d68>"
      ]
     },
     "execution_count": 8,
     "metadata": {},
     "output_type": "execute_result"
    }
   ],
   "source": [
    "batch_size = 64\n",
    "train_loader = torch.utils.data.DataLoader(\n",
    "    ds_train, batch_size=batch_size, shuffle=True\n",
    ")\n",
    "test_loader = torch.utils.data.DataLoader(ds_test, batch_size=batch_size, shuffle=False)\n",
    "test_loader"
   ]
  },
  {
   "cell_type": "markdown",
   "metadata": {},
   "source": [
    "__Note:__ Shuffle tells the data loader whether the data needs to be shuffled at the end of each epoch. We do it for training to keep the input random. But we don't need to do it for testing since we only use the test dataset for evaluation."
   ]
  },
  {
   "cell_type": "markdown",
   "metadata": {},
   "source": [
    "## Model definition\n",
    "\n",
    "Now we need to create the model. The architecture we are going to use here is made of two linear layers for the encoder and two linear layers for the decoder."
   ]
  },
  {
   "cell_type": "code",
   "execution_count": 9,
   "metadata": {
    "ExecuteTime": {
     "end_time": "2020-10-16T07:27:37.159767Z",
     "start_time": "2020-10-16T07:27:37.116171Z"
    }
   },
   "outputs": [],
   "source": [
    "# nn.Module??"
   ]
  },
  {
   "cell_type": "code",
   "execution_count": 10,
   "metadata": {
    "ExecuteTime": {
     "end_time": "2020-10-16T07:27:37.207305Z",
     "start_time": "2020-10-16T07:27:37.161086Z"
    }
   },
   "outputs": [],
   "source": [
    "class AE(nn.Module):\n",
    "    def __init__(self):\n",
    "        super(AE, self).__init__()\n",
    "        \n",
    "        self.encoder = nn.Sequential(\n",
    "            nn.Linear(784, 400),\n",
    "            nn.ReLU(inplace=True),\n",
    "            nn.Linear(400, 2)\n",
    "        )\n",
    "        self.decoder = nn.Sequential(\n",
    "            nn.Linear(2, 400),\n",
    "            nn.ReLU(inplace=True),\n",
    "            nn.Linear(400, 784),\n",
    "            nn.Sigmoid()\n",
    "        )\n",
    "    def encode(self, x):\n",
    "        x = x.reshape((-1, 1, 28 * 28))\n",
    "        return self.encoder(x).reshape((-1, 2))\n",
    "\n",
    "    def decode(self, z):\n",
    "        return self.decoder(z).reshape((-1, 28 * 28))\n",
    "\n",
    "    def forward(self, x):\n",
    "        z = self.encode(x)\n",
    "        return self.decode(z)"
   ]
  },
  {
   "cell_type": "markdown",
   "metadata": {},
   "source": [
    "If we have access to GPU, let's make sure we are using it."
   ]
  },
  {
   "cell_type": "code",
   "execution_count": 11,
   "metadata": {
    "ExecuteTime": {
     "end_time": "2020-10-16T07:27:37.267882Z",
     "start_time": "2020-10-16T07:27:37.208616Z"
    }
   },
   "outputs": [
    {
     "data": {
      "text/plain": [
       "device(type='cuda')"
      ]
     },
     "execution_count": 11,
     "metadata": {},
     "output_type": "execute_result"
    }
   ],
   "source": [
    "device = torch.device(\"cuda\" if torch.cuda.is_available() else \"cpu\")\n",
    "device"
   ]
  },
  {
   "cell_type": "markdown",
   "metadata": {},
   "source": [
    "Now we create an instance of the model."
   ]
  },
  {
   "cell_type": "code",
   "execution_count": 12,
   "metadata": {
    "ExecuteTime": {
     "end_time": "2020-10-16T07:27:38.608283Z",
     "start_time": "2020-10-16T07:27:37.269138Z"
    }
   },
   "outputs": [
    {
     "data": {
      "text/plain": [
       "AE(\n",
       "  (encoder): Sequential(\n",
       "    (0): Linear(in_features=784, out_features=400, bias=True)\n",
       "    (1): ReLU(inplace=True)\n",
       "    (2): Linear(in_features=400, out_features=2, bias=True)\n",
       "  )\n",
       "  (decoder): Sequential(\n",
       "    (0): Linear(in_features=2, out_features=400, bias=True)\n",
       "    (1): ReLU(inplace=True)\n",
       "    (2): Linear(in_features=400, out_features=784, bias=True)\n",
       "    (3): Sigmoid()\n",
       "  )\n",
       ")"
      ]
     },
     "execution_count": 12,
     "metadata": {},
     "output_type": "execute_result"
    }
   ],
   "source": [
    "model = AE().to(device)\n",
    "model"
   ]
  },
  {
   "cell_type": "code",
   "execution_count": 13,
   "metadata": {
    "ExecuteTime": {
     "end_time": "2020-10-16T07:27:38.781048Z",
     "start_time": "2020-10-16T07:27:38.609630Z"
    }
   },
   "outputs": [
    {
     "name": "stdout",
     "output_type": "stream",
     "text": [
      "==================================================================\n",
      "                    Kernel Shape Output Shape    Params Mult-Adds\n",
      "Layer                                                            \n",
      "0_encoder.Linear_0    [784, 400]  [2, 1, 400]    314.0k    313.6k\n",
      "1_encoder.ReLU_1               -  [2, 1, 400]         -         -\n",
      "2_encoder.Linear_2      [400, 2]    [2, 1, 2]     802.0     800.0\n",
      "3_decoder.Linear_0      [2, 400]     [2, 400]      1.2k     800.0\n",
      "4_decoder.ReLU_1               -     [2, 400]         -         -\n",
      "5_decoder.Linear_2    [400, 784]     [2, 784]  314.384k    313.6k\n",
      "6_decoder.Sigmoid_3            -     [2, 784]         -         -\n",
      "------------------------------------------------------------------\n",
      "                        Totals\n",
      "Total params          630.386k\n",
      "Trainable params      630.386k\n",
      "Non-trainable params       0.0\n",
      "Mult-Adds               628.8k\n",
      "==================================================================\n"
     ]
    },
    {
     "data": {
      "text/plain": [
       "1"
      ]
     },
     "execution_count": 13,
     "metadata": {},
     "output_type": "execute_result"
    }
   ],
   "source": [
    "# Let use torchsummary X to see the size of the model\n",
    "x=torch.rand((1, 784)).to(device)\n",
    "summary(model, torch.rand((2, 784)).to(device))\n",
    "1"
   ]
  },
  {
   "cell_type": "markdown",
   "metadata": {},
   "source": [
    "We also need to choose an optimiser. The optimiser use the loss value and it's gradients with respect to model parameters and tells us how much each value must be adjusted to have a better model."
   ]
  },
  {
   "cell_type": "code",
   "execution_count": 14,
   "metadata": {
    "ExecuteTime": {
     "end_time": "2020-10-16T07:27:38.784861Z",
     "start_time": "2020-10-16T07:27:38.782393Z"
    }
   },
   "outputs": [],
   "source": [
    "optimizer = optim.Adam(model.parameters(), lr=1e-3)"
   ]
  },
  {
   "cell_type": "markdown",
   "metadata": {},
   "source": [
    "And the final component is the loss function. Here we are going to use Binary Cross Entropy function because each pixel can go from zero to one."
   ]
  },
  {
   "cell_type": "code",
   "execution_count": 15,
   "metadata": {
    "ExecuteTime": {
     "end_time": "2020-10-16T07:27:38.831573Z",
     "start_time": "2020-10-16T07:27:38.786146Z"
    }
   },
   "outputs": [],
   "source": [
    "def loss_bce(recon_x, x):\n",
    "    BCE = F.binary_cross_entropy(recon_x, x.view(-1, 784), reduction=\"sum\")\n",
    "    return BCE"
   ]
  },
  {
   "cell_type": "markdown",
   "metadata": {},
   "source": [
    "Let's define two functions one for executing a single epoch of training and one for evaluating the mdel using test data.<br>\n",
    "Notice the following comments in the training loop"
   ]
  },
  {
   "cell_type": "code",
   "execution_count": 16,
   "metadata": {
    "ExecuteTime": {
     "end_time": "2020-10-16T07:27:38.895226Z",
     "start_time": "2020-10-16T07:27:38.832886Z"
    }
   },
   "outputs": [],
   "source": [
    "def train(epoch, loss_function, log_interval=50):\n",
    "    model.train()\n",
    "    train_loss = 0\n",
    "    for batch_idx, data in enumerate(tqdm(train_loader, leave=False, desc='train')):\n",
    "        # We make sure the data is in the right device (cpu or gpu)\n",
    "        data = data.to(device).float()\n",
    "        \n",
    "        # We make sure that any saved gradient (derivative) is zeroed.\n",
    "        optimizer.zero_grad()\n",
    "        \n",
    "        # We pass a mini-batch of data into the model and grab the predictions.\n",
    "        recon_batch = model(data)\n",
    "        \n",
    "        # We use the loss function to find out how close the model's output is to the actual image.\n",
    "        loss = loss_function(recon_batch, data)\n",
    "        \n",
    "        # We use loss.backward() to calculate the derivative of loss with respect to model parameters.\n",
    "        loss.backward()\n",
    "        \n",
    "        # We ask the optimiser to update model's parameters.\n",
    "        optimizer.step()\n",
    "        \n",
    "        train_loss += loss.item()\n",
    "        if batch_idx % log_interval == 0:\n",
    "            pct = 100.0 * batch_idx / len(train_loader)\n",
    "            l = loss.item() / len(data)\n",
    "            print(\n",
    "                '#{} [{}/{} ({:.0f}%)]\\t Batch Loss: {:.6f}  '.format(epoch, batch_idx * len(data), len(train_loader.dataset), pct, l),\n",
    "                end=\"\\r\",\n",
    "                flush=True,\n",
    "            )\n",
    "    print('#{} Train loss: {:.4f}\\t'.format(epoch, train_loss / len(train_loader.dataset)))\n",
    "\n",
    "\n",
    "def test(epoch, loss_function, log_interval=50):\n",
    "    model.eval()\n",
    "    test_loss = 0\n",
    "    with torch.no_grad():\n",
    "        for i, data in enumerate(tqdm(test_loader, leave=False, desc='test')):\n",
    "            data = data.to(device).float()\n",
    "            recon_batch = model(data)\n",
    "            test_loss += loss_function(recon_batch, data).item()\n",
    "\n",
    "    test_loss /= len(test_loader.dataset)\n",
    "    print('#{} Test loss: {:.4f}'.format(epoch, test_loss))"
   ]
  },
  {
   "cell_type": "code",
   "execution_count": 17,
   "metadata": {
    "ExecuteTime": {
     "end_time": "2020-10-16T07:27:39.021041Z",
     "start_time": "2020-10-16T07:27:38.896557Z"
    }
   },
   "outputs": [
    {
     "data": {
      "image/png": "[encoded data removed]",
      "text/plain": [
       "<Figure size 288x144 with 2 Axes>"
      ]
     },
     "metadata": {},
     "output_type": "display_data"
    }
   ],
   "source": [
    "def cvt2image(tensor):\n",
    "    return tensor.detach().cpu().numpy().reshape(28, 28)\n",
    "\n",
    "def show_prediction(idx, title='', ds=ds_train):\n",
    "    \"\"\"Show a predict vs actual\"\"\"\n",
    "    model.eval()\n",
    "    original = ds[idx].float()\n",
    "    result = model(original.to(device))\n",
    "    img = cvt2image(result[0]).squeeze()\n",
    "    \n",
    "    plt.figure(figsize=(4, 2))\n",
    "    plt.subplot(1, 2, 1)\n",
    "    plt.imshow(img, \"gray\")\n",
    "    plt.title(\"Predicted\")\n",
    "    plt.xticks([])\n",
    "    plt.yticks([])\n",
    "\n",
    "    plt.subplot(1, 2, 2)\n",
    "    plt.imshow(original.squeeze(), 'gray')\n",
    "    plt.title(\"Actual\")\n",
    "    plt.xticks([])\n",
    "    plt.yticks([])\n",
    "    \n",
    "    plt.suptitle(title)\n",
    "    plt.show()\n",
    "    \n",
    "show_prediction(10, '0')"
   ]
  },
  {
   "cell_type": "markdown",
   "metadata": {},
   "source": [
    "Now that all the components are ready, let's train the model for $10$ epochs."
   ]
  },
  {
   "cell_type": "code",
   "execution_count": 18,
   "metadata": {
    "ExecuteTime": {
     "end_time": "2020-10-16T07:28:21.550367Z",
     "start_time": "2020-10-16T07:27:39.022440Z"
    },
    "scrolled": true
   },
   "outputs": [
    {
     "data": {
      "application/vnd.jupyter.widget-view+json": {
       "model_id": "5c0e59fb0fb64f1fa3fef106f90f8121",
       "version_major": 2,
       "version_minor": 0
      },
      "text/plain": [
       "HBox(children=(FloatProgress(value=0.0, max=10.0), HTML(value='')))"
      ]
     },
     "metadata": {},
     "output_type": "display_data"
    },
    {
     "data": {
      "image/png": "[encoded data removed]",
      "text/plain": [
       "<Figure size 288x144 with 2 Axes>"
      ]
     },
     "metadata": {},
     "output_type": "display_data"
    },
    {
     "data": {
      "application/vnd.jupyter.widget-view+json": {
       "model_id": "",
       "version_major": 2,
       "version_minor": 0
      },
      "text/plain": [
       "HBox(children=(FloatProgress(value=0.0, description='train', max=657.0, style=ProgressStyle(description_width=…"
      ]
     },
     "metadata": {},
     "output_type": "display_data"
    },
    {
     "name": "stdout",
     "output_type": "stream",
     "text": [
      "#1 Train loss: 178.3538\tBatch Loss: 168.613846  \n"
     ]
    },
    {
     "data": {
      "application/vnd.jupyter.widget-view+json": {
       "model_id": "",
       "version_major": 2,
       "version_minor": 0
      },
      "text/plain": [
       "HBox(children=(FloatProgress(value=0.0, description='test', max=438.0, style=ProgressStyle(description_width='…"
      ]
     },
     "metadata": {},
     "output_type": "display_data"
    },
    {
     "name": "stdout",
     "output_type": "stream",
     "text": [
      "#1 Test loss: 164.9124\n"
     ]
    },
    {
     "data": {
      "image/png": "[encoded data removed]",
      "text/plain": [
       "<Figure size 288x144 with 2 Axes>"
      ]
     },
     "metadata": {},
     "output_type": "display_data"
    },
    {
     "data": {
      "application/vnd.jupyter.widget-view+json": {
       "model_id": "",
       "version_major": 2,
       "version_minor": 0
      },
      "text/plain": [
       "HBox(children=(FloatProgress(value=0.0, description='train', max=657.0, style=ProgressStyle(description_width=…"
      ]
     },
     "metadata": {},
     "output_type": "display_data"
    },
    {
     "name": "stdout",
     "output_type": "stream",
     "text": [
      "#2 Train loss: 160.6247\tBatch Loss: 152.052567  \n"
     ]
    },
    {
     "data": {
      "application/vnd.jupyter.widget-view+json": {
       "model_id": "",
       "version_major": 2,
       "version_minor": 0
      },
      "text/plain": [
       "HBox(children=(FloatProgress(value=0.0, description='test', max=438.0, style=ProgressStyle(description_width='…"
      ]
     },
     "metadata": {},
     "output_type": "display_data"
    },
    {
     "name": "stdout",
     "output_type": "stream",
     "text": [
      "#2 Test loss: 157.3779\n"
     ]
    },
    {
     "data": {
      "image/png": "[encoded data removed]",
      "text/plain": [
       "<Figure size 288x144 with 2 Axes>"
      ]
     },
     "metadata": {},
     "output_type": "display_data"
    },
    {
     "data": {
      "application/vnd.jupyter.widget-view+json": {
       "model_id": "",
       "version_major": 2,
       "version_minor": 0
      },
      "text/plain": [
       "HBox(children=(FloatProgress(value=0.0, description='train', max=657.0, style=ProgressStyle(description_width=…"
      ]
     },
     "metadata": {},
     "output_type": "display_data"
    },
    {
     "name": "stdout",
     "output_type": "stream",
     "text": [
      "#3 Train loss: 155.8542\tBatch Loss: 144.605682  \n"
     ]
    },
    {
     "data": {
      "application/vnd.jupyter.widget-view+json": {
       "model_id": "",
       "version_major": 2,
       "version_minor": 0
      },
      "text/plain": [
       "HBox(children=(FloatProgress(value=0.0, description='test', max=438.0, style=ProgressStyle(description_width='…"
      ]
     },
     "metadata": {},
     "output_type": "display_data"
    },
    {
     "name": "stdout",
     "output_type": "stream",
     "text": [
      "#3 Test loss: 154.8878\n"
     ]
    },
    {
     "data": {
      "image/png": "[encoded data removed]",
      "text/plain": [
       "<Figure size 288x144 with 2 Axes>"
      ]
     },
     "metadata": {},
     "output_type": "display_data"
    },
    {
     "data": {
      "application/vnd.jupyter.widget-view+json": {
       "model_id": "",
       "version_major": 2,
       "version_minor": 0
      },
      "text/plain": [
       "HBox(children=(FloatProgress(value=0.0, description='train', max=657.0, style=ProgressStyle(description_width=…"
      ]
     },
     "metadata": {},
     "output_type": "display_data"
    },
    {
     "name": "stdout",
     "output_type": "stream",
     "text": [
      "#4 Train loss: 153.1930\tBatch Loss: 134.469849  \n"
     ]
    },
    {
     "data": {
      "application/vnd.jupyter.widget-view+json": {
       "model_id": "",
       "version_major": 2,
       "version_minor": 0
      },
      "text/plain": [
       "HBox(children=(FloatProgress(value=0.0, description='test', max=438.0, style=ProgressStyle(description_width='…"
      ]
     },
     "metadata": {},
     "output_type": "display_data"
    },
    {
     "name": "stdout",
     "output_type": "stream",
     "text": [
      "#4 Test loss: 152.8370\n"
     ]
    },
    {
     "data": {
      "image/png": "[encoded data removed]",
      "text/plain": [
       "<Figure size 288x144 with 2 Axes>"
      ]
     },
     "metadata": {},
     "output_type": "display_data"
    },
    {
     "data": {
      "application/vnd.jupyter.widget-view+json": {
       "model_id": "",
       "version_major": 2,
       "version_minor": 0
      },
      "text/plain": [
       "HBox(children=(FloatProgress(value=0.0, description='train', max=657.0, style=ProgressStyle(description_width=…"
      ]
     },
     "metadata": {},
     "output_type": "display_data"
    },
    {
     "name": "stdout",
     "output_type": "stream",
     "text": [
      "#5 Train loss: 151.3649\tBatch Loss: 154.656097  \n"
     ]
    },
    {
     "data": {
      "application/vnd.jupyter.widget-view+json": {
       "model_id": "",
       "version_major": 2,
       "version_minor": 0
      },
      "text/plain": [
       "HBox(children=(FloatProgress(value=0.0, description='test', max=438.0, style=ProgressStyle(description_width='…"
      ]
     },
     "metadata": {},
     "output_type": "display_data"
    },
    {
     "name": "stdout",
     "output_type": "stream",
     "text": [
      "#5 Test loss: 151.2472\n"
     ]
    },
    {
     "data": {
      "image/png": "[encoded data removed]",
      "text/plain": [
       "<Figure size 288x144 with 2 Axes>"
      ]
     },
     "metadata": {},
     "output_type": "display_data"
    },
    {
     "data": {
      "application/vnd.jupyter.widget-view+json": {
       "model_id": "",
       "version_major": 2,
       "version_minor": 0
      },
      "text/plain": [
       "HBox(children=(FloatProgress(value=0.0, description='train', max=657.0, style=ProgressStyle(description_width=…"
      ]
     },
     "metadata": {},
     "output_type": "display_data"
    },
    {
     "name": "stdout",
     "output_type": "stream",
     "text": [
      "#6 Train loss: 150.0777\tBatch Loss: 147.247498  \n"
     ]
    },
    {
     "data": {
      "application/vnd.jupyter.widget-view+json": {
       "model_id": "",
       "version_major": 2,
       "version_minor": 0
      },
      "text/plain": [
       "HBox(children=(FloatProgress(value=0.0, description='test', max=438.0, style=ProgressStyle(description_width='…"
      ]
     },
     "metadata": {},
     "output_type": "display_data"
    },
    {
     "name": "stdout",
     "output_type": "stream",
     "text": [
      "#6 Test loss: 150.2152\n"
     ]
    },
    {
     "data": {
      "image/png": "[encoded data removed]",
      "text/plain": [
       "<Figure size 288x144 with 2 Axes>"
      ]
     },
     "metadata": {},
     "output_type": "display_data"
    },
    {
     "data": {
      "application/vnd.jupyter.widget-view+json": {
       "model_id": "",
       "version_major": 2,
       "version_minor": 0
      },
      "text/plain": [
       "HBox(children=(FloatProgress(value=0.0, description='train', max=657.0, style=ProgressStyle(description_width=…"
      ]
     },
     "metadata": {},
     "output_type": "display_data"
    },
    {
     "name": "stdout",
     "output_type": "stream",
     "text": [
      "#7 Train loss: 149.0814\tBatch Loss: 157.059296  \n"
     ]
    },
    {
     "data": {
      "application/vnd.jupyter.widget-view+json": {
       "model_id": "",
       "version_major": 2,
       "version_minor": 0
      },
      "text/plain": [
       "HBox(children=(FloatProgress(value=0.0, description='test', max=438.0, style=ProgressStyle(description_width='…"
      ]
     },
     "metadata": {},
     "output_type": "display_data"
    },
    {
     "name": "stdout",
     "output_type": "stream",
     "text": [
      "#7 Test loss: 149.3303\n"
     ]
    },
    {
     "data": {
      "image/png": "[encoded data removed]",
      "text/plain": [
       "<Figure size 288x144 with 2 Axes>"
      ]
     },
     "metadata": {},
     "output_type": "display_data"
    },
    {
     "data": {
      "application/vnd.jupyter.widget-view+json": {
       "model_id": "",
       "version_major": 2,
       "version_minor": 0
      },
      "text/plain": [
       "HBox(children=(FloatProgress(value=0.0, description='train', max=657.0, style=ProgressStyle(description_width=…"
      ]
     },
     "metadata": {},
     "output_type": "display_data"
    },
    {
     "name": "stdout",
     "output_type": "stream",
     "text": [
      "#8 Train loss: 148.1392\tBatch Loss: 151.582336  \n"
     ]
    },
    {
     "data": {
      "application/vnd.jupyter.widget-view+json": {
       "model_id": "",
       "version_major": 2,
       "version_minor": 0
      },
      "text/plain": [
       "HBox(children=(FloatProgress(value=0.0, description='test', max=438.0, style=ProgressStyle(description_width='…"
      ]
     },
     "metadata": {},
     "output_type": "display_data"
    },
    {
     "name": "stdout",
     "output_type": "stream",
     "text": [
      "#8 Test loss: 148.7061\n"
     ]
    },
    {
     "data": {
      "image/png": "[encoded data removed]",
      "text/plain": [
       "<Figure size 288x144 with 2 Axes>"
      ]
     },
     "metadata": {},
     "output_type": "display_data"
    },
    {
     "data": {
      "application/vnd.jupyter.widget-view+json": {
       "model_id": "",
       "version_major": 2,
       "version_minor": 0
      },
      "text/plain": [
       "HBox(children=(FloatProgress(value=0.0, description='train', max=657.0, style=ProgressStyle(description_width=…"
      ]
     },
     "metadata": {},
     "output_type": "display_data"
    },
    {
     "name": "stdout",
     "output_type": "stream",
     "text": [
      "#9 Train loss: 147.3177\tBatch Loss: 141.647736  \n"
     ]
    },
    {
     "data": {
      "application/vnd.jupyter.widget-view+json": {
       "model_id": "",
       "version_major": 2,
       "version_minor": 0
      },
      "text/plain": [
       "HBox(children=(FloatProgress(value=0.0, description='test', max=438.0, style=ProgressStyle(description_width='…"
      ]
     },
     "metadata": {},
     "output_type": "display_data"
    },
    {
     "name": "stdout",
     "output_type": "stream",
     "text": [
      "#9 Test loss: 148.3968\n"
     ]
    },
    {
     "data": {
      "image/png": "[encoded data removed]",
      "text/plain": [
       "<Figure size 288x144 with 2 Axes>"
      ]
     },
     "metadata": {},
     "output_type": "display_data"
    },
    {
     "data": {
      "application/vnd.jupyter.widget-view+json": {
       "model_id": "",
       "version_major": 2,
       "version_minor": 0
      },
      "text/plain": [
       "HBox(children=(FloatProgress(value=0.0, description='train', max=657.0, style=ProgressStyle(description_width=…"
      ]
     },
     "metadata": {},
     "output_type": "display_data"
    },
    {
     "name": "stdout",
     "output_type": "stream",
     "text": [
      "#10 Train loss: 146.6584\tBatch Loss: 147.833496  \n"
     ]
    },
    {
     "data": {
      "application/vnd.jupyter.widget-view+json": {
       "model_id": "",
       "version_major": 2,
       "version_minor": 0
      },
      "text/plain": [
       "HBox(children=(FloatProgress(value=0.0, description='test', max=438.0, style=ProgressStyle(description_width='…"
      ]
     },
     "metadata": {},
     "output_type": "display_data"
    },
    {
     "name": "stdout",
     "output_type": "stream",
     "text": [
      "#10 Test loss: 148.3187\n",
      "\n"
     ]
    },
    {
     "data": {
      "image/png": "[encoded data removed]",
      "text/plain": [
       "<Figure size 288x144 with 2 Axes>"
      ]
     },
     "metadata": {},
     "output_type": "display_data"
    }
   ],
   "source": [
    "epochs = 10\n",
    "for epoch in tqdm(range(1, epochs + 1)):\n",
    "    show_prediction(3, title=f\"epoch={epoch}\")\n",
    "    train(epoch, loss_bce)\n",
    "    test(epoch, loss_bce)\n",
    "show_prediction(3, title=f\"epoch={epoch}\")"
   ]
  },
  {
   "cell_type": "markdown",
   "metadata": {},
   "source": [
    "## Results\n",
    "Now let's check out the model."
   ]
  },
  {
   "cell_type": "code",
   "execution_count": 19,
   "metadata": {
    "ExecuteTime": {
     "end_time": "2020-10-16T07:28:21.622657Z",
     "start_time": "2020-10-16T07:28:21.551729Z"
    }
   },
   "outputs": [
    {
     "data": {
      "image/png": "[encoded data removed]",
      "text/plain": [
       "<Figure size 288x144 with 2 Axes>"
      ]
     },
     "metadata": {},
     "output_type": "display_data"
    }
   ],
   "source": [
    "# Generate a random integer\n",
    "idx = np.random.randint(0, len(ds_test))\n",
    "# show this row of the data\n",
    "show_prediction(idx)"
   ]
  },
  {
   "cell_type": "markdown",
   "metadata": {},
   "source": [
    "<font color='blue' size='4rem'>Run the cell above a few times and compare the predicted and actual images.</font>"
   ]
  },
  {
   "cell_type": "markdown",
   "metadata": {},
   "source": [
    "## Latent space"
   ]
  },
  {
   "cell_type": "markdown",
   "metadata": {},
   "source": [
    "There are certainly some similarities but the predicted (reconstructed) images are not always very clear. We will shortly discuss how we can improve the model. But before that, let's have look at the latent space. The model is converting every image which has 784 values (28x28 pixels) to only 2 values. \n",
    "\n",
    "Those 2 values are the latent space. We can plot them for a few numbers (see below).\n",
    "\n",
    "We can also traverse the latent space and see how the reconstructed image changes in meaningfull ways. This is a usefull property and means the model has learnt how to vary images."
   ]
  },
  {
   "cell_type": "code",
   "execution_count": 20,
   "metadata": {
    "ExecuteTime": {
     "end_time": "2020-10-16T07:28:21.634907Z",
     "start_time": "2020-10-16T07:28:21.623967Z"
    }
   },
   "outputs": [],
   "source": [
    "# Scatter plot\n",
    "\n",
    "def traverse(ds=ds_train, model=model, y=None, xmin=None, xmax=None):\n",
    "    # Get the first 1000 images\n",
    "    n = min(1000, len(ds))\n",
    "    x = torch.stack([ds[i] for i in range(n)], 0)\n",
    "    print(x.shape)\n",
    "    x = x.to(device).float().reshape((-1, 1, 28,28))\n",
    "    print(x.shape)\n",
    "    \n",
    "    res = model.encode(x)\n",
    "    \n",
    "    # If we output a distribution, use the mean\n",
    "    if isinstance(res, Normal):\n",
    "        res = res.loc\n",
    "    \n",
    "    # to numpy\n",
    "    res = res.detach().cpu().numpy()\n",
    "\n",
    "    classes = pd.Series(ds.y).unique()\n",
    "    for i, cls in enumerate(classes):\n",
    "        idx = ds.y[:n] == cls\n",
    "        plt.scatter(res[idx, 0], res[idx, 1], label=cls)\n",
    "    plt.title('the latent space')\n",
    "    plt.xlabel('latent variable 1')\n",
    "    plt.ylabel('latent variable 2')\n",
    "    \n",
    "    if xmin is None:\n",
    "        xmin, xmax = plt.xlim()\n",
    "        xrange = xmax-xmin\n",
    "        xmin -= xrange/2\n",
    "        xmax += xrange/2\n",
    "    if y is None:\n",
    "        ymin, ymax = plt.ylim()\n",
    "        y = (ymin+ymax)/2\n",
    "\n",
    "    plt.hlines(y, xmin, xmax, color='r', lw=2, label='traversal')\n",
    "    plt.legend()\n",
    "    plt.show()\n",
    "    \n",
    "    \n",
    "\n",
    "    # Do out traversal\n",
    "    plt.figure(figsize=(12, 12))\n",
    "    n_steps = 10\n",
    "    xs = np.linspace(xmin, xmax, n_steps)\n",
    "    for xi, x in enumerate(xs):\n",
    "        # Decode image at x,y\n",
    "        z = torch.tensor([x, y]).float().to(device)[None, :]\n",
    "        img = model.decode(z).cpu().detach().numpy()\n",
    "        img = (img.reshape((28, 28)) * 255).astype(np.uint8)\n",
    "        \n",
    "        # plot an image at x, y\n",
    "        plt.subplot(1, n_steps, xi+1)\n",
    "        plt.imshow(img, cmap='gray')\n",
    "        plt.title(f'{x:2.1f}, {y:2.1f}')\n",
    "        plt.xticks([])\n",
    "        plt.yticks([])"
   ]
  },
  {
   "cell_type": "code",
   "execution_count": null,
   "metadata": {
    "ExecuteTime": {
     "end_time": "2020-10-16T04:17:00.551274Z",
     "start_time": "2020-10-16T04:17:00.547259Z"
    }
   },
   "outputs": [],
   "source": []
  },
  {
   "cell_type": "code",
   "execution_count": 21,
   "metadata": {
    "ExecuteTime": {
     "end_time": "2020-10-16T07:28:22.262602Z",
     "start_time": "2020-10-16T07:28:21.636164Z"
    }
   },
   "outputs": [
    {
     "name": "stdout",
     "output_type": "stream",
     "text": [
      "torch.Size([1000, 1, 28, 28])\n",
      "torch.Size([1000, 1, 28, 28])\n"
     ]
    },
    {
     "data": {
      "image/png": "[encoded data removed]",
      "text/plain": [
       "<Figure size 432x288 with 1 Axes>"
      ]
     },
     "metadata": {
      "needs_background": "light"
     },
     "output_type": "display_data"
    },
    {
     "data": {
      "image/png": "[encoded data removed]",
      "text/plain": [
       "<Figure size 864x864 with 10 Axes>"
      ]
     },
     "metadata": {},
     "output_type": "display_data"
    }
   ],
   "source": [
    "traverse(model=model, ds=ds_train)"
   ]
  },
  {
   "cell_type": "code",
   "execution_count": null,
   "metadata": {
    "ExecuteTime": {
     "end_time": "2020-10-16T07:24:17.282876Z",
     "start_time": "2020-10-16T07:24:17.279495Z"
    }
   },
   "outputs": [],
   "source": []
  },
  {
   "cell_type": "markdown",
   "metadata": {},
   "source": [
    "Each color represents a number. Despite most numbers overlapping, we can still see some distictions, for instance between $1$ and other numbers. "
   ]
  },
  {
   "cell_type": "markdown",
   "metadata": {},
   "source": [
    "## Improving the model\n",
    "\n",
    "Obviously the model that we trained needs improvement as it is not recreating the images well enough. \n",
    "\n",
    "There are a few ways we can improve the model. One way is to create a deeper encoder and decoder. In the example above we used only two layers for encoder and layers for decoder. This doesn't allow the model to comprehend complex relationships, especially in this scenario since we are working with images. By adding more layers we can give the model the opportunity to better differentiate between digits.\n",
    "\n",
    "Another way of making the model is using more dimensions in latent space. For instance, if instead of compressing each image into two values we could use ten values. This will allow the model to extract more features from the input which will make reconstructing the image easier. However, it must be noted that whole point of using autoencoder is to force the model to compress the information into as few dimensions as possible."
   ]
  },
  {
   "cell_type": "markdown",
   "metadata": {},
   "source": [
    "# Variational Autoencoders\n",
    "Variational Autoencoders (VAE) are one of the variations of autoencoders. Unlike normal autoencoders which compress the data into a few values, VAEs tries to find the distribution of the data in latent space. As a result, the final model not only has the ability to recreate the input, but can also generate new outputs by sampling from the latent space distribution."
   ]
  },
  {
   "cell_type": "markdown",
   "metadata": {},
   "source": [
    "Since VAE is a variation of autoencoder, it has a similar architecture. The main difference between the two is an additional layer between encoder and decoder which samples from latent space distribution.\n",
    "In a VAE, the encoder generates two values for each parameter in latent space. One represent the mean and one represents the standard deviation of the parameter. Then sampling layer uses these two numbers and generates random values from the same distribution. These values then are fed to decoder which will create an output similar to the input."
   ]
  },
  {
   "cell_type": "markdown",
   "metadata": {},
   "source": [
    "## Model definition: VAE"
   ]
  },
  {
   "cell_type": "markdown",
   "metadata": {},
   "source": [
    "Let's create a VAE model. We will use layers with the same size as the previous model. Notice for the second layer we have two linear layers, one to generate the mean and one to generate the log of variance which will be converted into standard deviation."
   ]
  },
  {
   "cell_type": "code",
   "execution_count": 22,
   "metadata": {
    "ExecuteTime": {
     "end_time": "2020-10-16T07:28:22.271725Z",
     "start_time": "2020-10-16T07:28:22.263986Z"
    },
    "lines_to_next_cell": 0
   },
   "outputs": [],
   "source": [
    "   \n",
    "class VAE(nn.Module):\n",
    "    \"\"\"Variational Autoencoder\"\"\"\n",
    "    def __init__(self):\n",
    "        super(VAE, self).__init__()\n",
    "        \n",
    "        self.encoder = nn.Sequential(\n",
    "            nn.Linear(784, 400),\n",
    "            nn.ReLU(),\n",
    "            nn.Linear(400, 4) # 2 for mean, 2 for std\n",
    "        )\n",
    "        self.decoder = nn.Sequential(\n",
    "            nn.Linear(2, 400),\n",
    "            nn.ReLU(),\n",
    "            nn.Linear(400, 784),\n",
    "            nn.Sigmoid()\n",
    "        )\n",
    "\n",
    "    def encode(self, x):\n",
    "        \"\"\"Takes in image, output distribution\"\"\"\n",
    "        x = x.reshape((-1, 28*28))\n",
    "        h = self.encoder(x)\n",
    "        # first few features are mean\n",
    "        mean = h[:, :2]\n",
    "        # second two are the log std\n",
    "        log_std = h[:, 2:]\n",
    "        std = torch.exp(log_std)\n",
    "        # return a normal distribution with 2 parameters\n",
    "        return Normal(mean, std)\n",
    "\n",
    "    def decode(self, z):\n",
    "        \"\"\"Takes in latent vector and produces image.\"\"\"\n",
    "        return self.decoder(z).reshape((-1, 28 * 28))\n",
    "\n",
    "    def forward(self, x):\n",
    "        \"\"\"Combine the above methods\"\"\"\n",
    "        dist = self.encode(x.view(-1, 784))\n",
    "        z = dist.rsample() # sample, with gradient\n",
    "        return self.decode(z), dist"
   ]
  },
  {
   "cell_type": "code",
   "execution_count": 23,
   "metadata": {
    "ExecuteTime": {
     "end_time": "2020-10-16T07:28:22.319313Z",
     "start_time": "2020-10-16T07:28:22.274602Z"
    }
   },
   "outputs": [],
   "source": [
    "# Normal's\n",
    "d = Normal(torch.tensor([0, 1]), torch.Tensor([2, 3]))\n",
    "# d.rsample()"
   ]
  },
  {
   "cell_type": "code",
   "execution_count": null,
   "metadata": {},
   "outputs": [],
   "source": []
  },
  {
   "cell_type": "code",
   "execution_count": null,
   "metadata": {
    "ExecuteTime": {
     "end_time": "2020-10-11T23:51:16.012733Z",
     "start_time": "2020-10-11T23:51:15.910665Z"
    },
    "lines_to_next_cell": 2
   },
   "outputs": [],
   "source": []
  },
  {
   "cell_type": "code",
   "execution_count": 24,
   "metadata": {
    "ExecuteTime": {
     "end_time": "2020-10-16T07:28:22.369602Z",
     "start_time": "2020-10-16T07:28:22.320901Z"
    }
   },
   "outputs": [
    {
     "data": {
      "text/plain": [
       "VAE(\n",
       "  (encoder): Sequential(\n",
       "    (0): Linear(in_features=784, out_features=400, bias=True)\n",
       "    (1): ReLU()\n",
       "    (2): Linear(in_features=400, out_features=4, bias=True)\n",
       "  )\n",
       "  (decoder): Sequential(\n",
       "    (0): Linear(in_features=2, out_features=400, bias=True)\n",
       "    (1): ReLU()\n",
       "    (2): Linear(in_features=400, out_features=784, bias=True)\n",
       "    (3): Sigmoid()\n",
       "  )\n",
       ")"
      ]
     },
     "execution_count": 24,
     "metadata": {},
     "output_type": "execute_result"
    }
   ],
   "source": [
    "model = VAE().to(device)\n",
    "optimizer = optim.Adam(model.parameters(), lr=1e-3)\n",
    "model"
   ]
  },
  {
   "cell_type": "code",
   "execution_count": 25,
   "metadata": {
    "ExecuteTime": {
     "end_time": "2020-10-16T07:28:22.449297Z",
     "start_time": "2020-10-16T07:28:22.370823Z"
    }
   },
   "outputs": [
    {
     "name": "stdout",
     "output_type": "stream",
     "text": [
      "==================================================================\n",
      "                    Kernel Shape Output Shape    Params Mult-Adds\n",
      "Layer                                                            \n",
      "0_encoder.Linear_0    [784, 400]     [1, 400]    314.0k    313.6k\n",
      "1_encoder.ReLU_1               -     [1, 400]         -         -\n",
      "2_encoder.Linear_2      [400, 4]       [1, 4]    1.604k      1.6k\n",
      "3_decoder.Linear_0      [2, 400]     [1, 400]      1.2k     800.0\n",
      "4_decoder.ReLU_1               -     [1, 400]         -         -\n",
      "5_decoder.Linear_2    [400, 784]     [1, 784]  314.384k    313.6k\n",
      "6_decoder.Sigmoid_3            -     [1, 784]         -         -\n",
      "------------------------------------------------------------------\n",
      "                        Totals\n",
      "Total params          631.188k\n",
      "Trainable params      631.188k\n",
      "Non-trainable params       0.0\n",
      "Mult-Adds               629.6k\n",
      "==================================================================\n"
     ]
    },
    {
     "data": {
      "text/plain": [
       "1"
      ]
     },
     "execution_count": 25,
     "metadata": {},
     "output_type": "execute_result"
    }
   ],
   "source": [
    "# We can view the shape of our model and number of params\n",
    "x = torch.rand((1, 784)).to(device)\n",
    "summary(model, x)\n",
    "1"
   ]
  },
  {
   "cell_type": "markdown",
   "metadata": {
    "ExecuteTime": {
     "end_time": "2020-10-11T23:43:32.862410Z",
     "start_time": "2020-10-11T23:43:32.858439Z"
    }
   },
   "source": [
    "## Concept: KLD"
   ]
  },
  {
   "cell_type": "markdown",
   "metadata": {},
   "source": [
    "The loss function is similar to what we used before, except we have an extra part. the extra equation is [Kullback–Leibler divergence](https://en.wikipedia.org/wiki/Kullback%E2%80%93Leibler_divergence) which measures difference between probability distributions.\n",
    "\n",
    "<img width=\"600\" src=\"https://upload.wikimedia.org/wikipedia/commons/thumb/a/a8/KL-Gauss-Example.png/800px-KL-Gauss-Example.png\"/>\n",
    "\n",
    "However we are using the KLD_loss, which is always positive\n",
    "\n",
    "Image source: wikipedia"
   ]
  },
  {
   "cell_type": "code",
   "execution_count": 26,
   "metadata": {
    "ExecuteTime": {
     "end_time": "2020-10-16T07:28:22.472328Z",
     "start_time": "2020-10-16T07:28:22.450557Z"
    }
   },
   "outputs": [],
   "source": [
    "def loss_bce_kld(recon_x, x, dist):\n",
    "    BCE = F.binary_cross_entropy(recon_x, x.view(-1, 784), reduction=\"sum\")\n",
    "    \n",
    "    # KL-divergence between a diagonal multivariate normal,\n",
    "    # and a standard normal distribution (with zero mean and unit variance)\n",
    "    # In other words, we are punishing it if it's distribution moves away from a standard normal dist\n",
    "    KLD = -0.5 * torch.sum(1 + dist.scale.log() - dist.loc.pow(2) - dist.scale)\n",
    "    return BCE + KLD"
   ]
  },
  {
   "cell_type": "code",
   "execution_count": 27,
   "metadata": {
    "ExecuteTime": {
     "end_time": "2020-10-16T07:28:22.688441Z",
     "start_time": "2020-10-16T07:28:22.473709Z"
    }
   },
   "outputs": [
    {
     "name": "stderr",
     "output_type": "stream",
     "text": [
      "/anaconda/envs/py37_pytorch/lib/python3.7/site-packages/torch/distributions/distribution.py:134: UserWarning: sample_n will be deprecated. Use .sample((n,)) instead\n",
      "  warnings.warn('sample_n will be deprecated. Use .sample((n,)) instead', UserWarning)\n"
     ]
    },
    {
     "data": {
      "image/png": "[encoded data removed]",
      "text/plain": [
       "<Figure size 432x288 with 1 Axes>"
      ]
     },
     "metadata": {
      "needs_background": "light"
     },
     "output_type": "display_data"
    }
   ],
   "source": [
    "# You can try the KLD here with differen't distribution\n",
    "p = Normal(loc=1, scale=2)\n",
    "q = Normal(loc=0, scale=1)\n",
    "kld = torch.distributions.kl.kl_divergence(p, q)\n",
    "\n",
    "# plot the distributions\n",
    "ps=p.sample_n(10000).numpy()\n",
    "qs=q.sample_n(10000).numpy()\n",
    "\n",
    "sns.kdeplot(ps, label='p')\n",
    "sns.kdeplot(qs, label='q')\n",
    "plt.title(f\"KLD(p|q) = {kld:2.2f}\\nKLD({p}|{q})\")\n",
    "plt.legend()\n",
    "plt.show()"
   ]
  },
  {
   "cell_type": "markdown",
   "metadata": {
    "ExecuteTime": {
     "end_time": "2020-10-12T00:09:13.850446Z",
     "start_time": "2020-10-12T00:09:13.419578Z"
    }
   },
   "source": [
    "## Exercise 1: KLD\n",
    "\n",
    "Run the above cell with while changing Q.\n",
    "\n",
    "- Use the code above and test if the KLD is higher for distributions that overlap more\n",
    "\n",
    "- (advanced) Write new code that plots a line of kld vs q.loc, using the function below\n",
    "\n",
    "```python\n",
    "def kld_vs_qloc(loc):\n",
    "    kld = torch.distributions.kl.kl_divergence(p, Normal(loc=loc, scale=1))\n",
    "    return kld\n",
    "    \n",
    "klds = []\n",
    "locs = range(-10, 10)\n",
    "for loc in locs:\n",
    "    # YOUR CODE HERE: run kld_vs_qloc, for a loc\n",
    "    klds.append(kld)\n",
    "\n",
    "# YOUR code here, plot locs vs klds\n",
    "```"
   ]
  },
  {
   "cell_type": "code",
   "execution_count": 28,
   "metadata": {
    "ExecuteTime": {
     "end_time": "2020-10-16T07:28:22.925195Z",
     "start_time": "2020-10-16T07:28:22.690034Z"
    }
   },
   "outputs": [
    {
     "name": "stdout",
     "output_type": "stream",
     "text": [
      "tensor(0.) tensor(50.)\n",
      "close is lower? tensor(True)\n"
     ]
    },
    {
     "data": {
      "image/png": "[encoded data removed]",
      "text/plain": [
       "<Figure size 432x288 with 1 Axes>"
      ]
     },
     "metadata": {
      "needs_background": "light"
     },
     "output_type": "display_data"
    }
   ],
   "source": [
    "# Part 1\n",
    "p = Normal(0, 1)\n",
    "kld_close = torch.distributions.kl.kl_divergence(p, Normal(0, 1))\n",
    "kld_far = torch.distributions.kl.kl_divergence(p, Normal(10, 1))\n",
    "print(kld_close, kld_far)\n",
    "print('close is lower?', kld_close<kld_far)\n",
    "\n",
    "# Part 2: Plot the KLD as you vary the mean of q\n",
    "p = Normal(0, 1)\n",
    "means = np.arange(-10, 11)\n",
    "\n",
    "klds=[]\n",
    "for mean in means:\n",
    "    q = Normal(mean, 1)\n",
    "    kld = torch.distributions.kl.kl_divergence(p, q)\n",
    "    klds.append(kld)\n",
    "\n",
    "plt.plot(means, klds)\n",
    "plt.ylabel('KLD(p|q) loss [lower in better]')\n",
    "plt.xlabel('distance between distributions')\n",
    "plt.show()"
   ]
  },
  {
   "cell_type": "markdown",
   "metadata": {},
   "source": [
    "## Train"
   ]
  },
  {
   "cell_type": "markdown",
   "metadata": {},
   "source": [
    "We also need to slightly adjust the training loop since the loss function now takes four inputs."
   ]
  },
  {
   "cell_type": "code",
   "execution_count": 29,
   "metadata": {
    "ExecuteTime": {
     "end_time": "2020-10-16T07:28:22.934466Z",
     "start_time": "2020-10-16T07:28:22.926596Z"
    }
   },
   "outputs": [],
   "source": [
    "def train_vae(epoch, loss_function, model, train_loader, log_interval=50):\n",
    "    model.train()\n",
    "    train_loss = 0\n",
    "    for batch_idx, data in enumerate(tqdm(train_loader, leave=False)):\n",
    "        data = data.to(device).float()\n",
    "        optimizer.zero_grad()\n",
    "        recon_batch, dist = model(data)\n",
    "        loss = loss_function(recon_batch, data, dist)\n",
    "        loss.backward()\n",
    "        train_loss += loss.item()\n",
    "        optimizer.step()\n",
    "        if batch_idx % log_interval == 0:\n",
    "            pct = 100.0 * batch_idx / len(train_loader)\n",
    "            l = loss.item() / len(data)\n",
    "            print(\n",
    "                '#{} [{}/{} ({:.0f}%)]\\tLoss: {:.6f}  '.format(epoch, batch_idx * len(data), len(train_loader.dataset), pct, l),\n",
    "                end=\"\\r\",\n",
    "                flush=True,\n",
    "            )\n",
    "    print('#{} Train loss: {:.4f}'.format(epoch, train_loss / len(train_loader.dataset)))\n",
    "\n",
    "\n",
    "def test_vae(epoch, loss_function, model, test_loader, log_interval=50):\n",
    "    model.eval()\n",
    "    test_loss = 0\n",
    "    with torch.no_grad():\n",
    "        for i, data in enumerate(test_loader):\n",
    "            data = data.to(device).float()\n",
    "            recon_batch, dist = model(data)\n",
    "            test_loss += loss_function(recon_batch, data, dist).item()\n",
    "\n",
    "    test_loss /= len(test_loader.dataset)\n",
    "    print('#{} Test loss: {:.4f}'.format(epoch, test_loss))"
   ]
  },
  {
   "cell_type": "code",
   "execution_count": 30,
   "metadata": {
    "ExecuteTime": {
     "end_time": "2020-10-16T07:28:23.016177Z",
     "start_time": "2020-10-16T07:28:22.935746Z"
    }
   },
   "outputs": [
    {
     "name": "stdout",
     "output_type": "stream",
     "text": [
      "==================================================================\n",
      "                    Kernel Shape Output Shape    Params Mult-Adds\n",
      "Layer                                                            \n",
      "0_encoder.Linear_0    [784, 400]     [1, 400]    314.0k    313.6k\n",
      "1_encoder.ReLU_1               -     [1, 400]         -         -\n",
      "2_encoder.Linear_2      [400, 4]       [1, 4]    1.604k      1.6k\n",
      "3_decoder.Linear_0      [2, 400]     [1, 400]      1.2k     800.0\n",
      "4_decoder.ReLU_1               -     [1, 400]         -         -\n",
      "5_decoder.Linear_2    [400, 784]     [1, 784]  314.384k    313.6k\n",
      "6_decoder.Sigmoid_3            -     [1, 784]         -         -\n",
      "------------------------------------------------------------------\n",
      "                        Totals\n",
      "Total params          631.188k\n",
      "Trainable params      631.188k\n",
      "Non-trainable params       0.0\n",
      "Mult-Adds               629.6k\n",
      "==================================================================\n"
     ]
    },
    {
     "data": {
      "text/plain": [
       "1"
      ]
     },
     "execution_count": 30,
     "metadata": {},
     "output_type": "execute_result"
    }
   ],
   "source": [
    "# We can view the shape of our model and number of params\n",
    "summary(model, torch.rand((1, 784)).to(device))\n",
    "1"
   ]
  },
  {
   "cell_type": "code",
   "execution_count": null,
   "metadata": {
    "ExecuteTime": {
     "end_time": "2020-10-16T03:43:29.737765Z",
     "start_time": "2020-10-16T03:43:29.734448Z"
    }
   },
   "outputs": [],
   "source": []
  },
  {
   "cell_type": "code",
   "execution_count": 31,
   "metadata": {
    "ExecuteTime": {
     "end_time": "2020-10-16T07:29:13.624055Z",
     "start_time": "2020-10-16T07:28:23.017556Z"
    }
   },
   "outputs": [
    {
     "data": {
      "image/png": "[encoded data removed]",
      "text/plain": [
       "<Figure size 288x144 with 2 Axes>"
      ]
     },
     "metadata": {},
     "output_type": "display_data"
    },
    {
     "data": {
      "application/vnd.jupyter.widget-view+json": {
       "model_id": "4c62e139b673463dbb0559bf3e1a50d5",
       "version_major": 2,
       "version_minor": 0
      },
      "text/plain": [
       "HBox(children=(FloatProgress(value=0.0, max=10.0), HTML(value='')))"
      ]
     },
     "metadata": {},
     "output_type": "display_data"
    },
    {
     "data": {
      "application/vnd.jupyter.widget-view+json": {
       "model_id": "",
       "version_major": 2,
       "version_minor": 0
      },
      "text/plain": [
       "HBox(children=(FloatProgress(value=0.0, max=657.0), HTML(value='')))"
      ]
     },
     "metadata": {},
     "output_type": "display_data"
    },
    {
     "name": "stdout",
     "output_type": "stream",
     "text": [
      "#1 Train loss: 185.0811Loss: 170.045776  \n",
      "#1 Test loss: 168.0937\n"
     ]
    },
    {
     "data": {
      "image/png": "[encoded data removed]",
      "text/plain": [
       "<Figure size 288x144 with 2 Axes>"
      ]
     },
     "metadata": {},
     "output_type": "display_data"
    },
    {
     "data": {
      "application/vnd.jupyter.widget-view+json": {
       "model_id": "",
       "version_major": 2,
       "version_minor": 0
      },
      "text/plain": [
       "HBox(children=(FloatProgress(value=0.0, max=657.0), HTML(value='')))"
      ]
     },
     "metadata": {},
     "output_type": "display_data"
    },
    {
     "name": "stdout",
     "output_type": "stream",
     "text": [
      "#2 Train loss: 164.9095Loss: 158.547150  \n",
      "#2 Test loss: 162.5043\n"
     ]
    },
    {
     "data": {
      "image/png": "[encoded data removed]",
      "text/plain": [
       "<Figure size 288x144 with 2 Axes>"
      ]
     },
     "metadata": {},
     "output_type": "display_data"
    },
    {
     "data": {
      "application/vnd.jupyter.widget-view+json": {
       "model_id": "",
       "version_major": 2,
       "version_minor": 0
      },
      "text/plain": [
       "HBox(children=(FloatProgress(value=0.0, max=657.0), HTML(value='')))"
      ]
     },
     "metadata": {},
     "output_type": "display_data"
    },
    {
     "name": "stdout",
     "output_type": "stream",
     "text": [
      "#3 Train loss: 160.9141Loss: 168.935593  \n",
      "#3 Test loss: 160.0993\n"
     ]
    },
    {
     "data": {
      "image/png": "[encoded data removed]",
      "text/plain": [
       "<Figure size 288x144 with 2 Axes>"
      ]
     },
     "metadata": {},
     "output_type": "display_data"
    },
    {
     "data": {
      "application/vnd.jupyter.widget-view+json": {
       "model_id": "",
       "version_major": 2,
       "version_minor": 0
      },
      "text/plain": [
       "HBox(children=(FloatProgress(value=0.0, max=657.0), HTML(value='')))"
      ]
     },
     "metadata": {},
     "output_type": "display_data"
    },
    {
     "name": "stdout",
     "output_type": "stream",
     "text": [
      "#4 Train loss: 158.7383Loss: 165.017349  \n",
      "#4 Test loss: 157.9522\n"
     ]
    },
    {
     "data": {
      "image/png": "[encoded data removed]",
      "text/plain": [
       "<Figure size 288x144 with 2 Axes>"
      ]
     },
     "metadata": {},
     "output_type": "display_data"
    },
    {
     "data": {
      "application/vnd.jupyter.widget-view+json": {
       "model_id": "",
       "version_major": 2,
       "version_minor": 0
      },
      "text/plain": [
       "HBox(children=(FloatProgress(value=0.0, max=657.0), HTML(value='')))"
      ]
     },
     "metadata": {},
     "output_type": "display_data"
    },
    {
     "name": "stdout",
     "output_type": "stream",
     "text": [
      "#5 Train loss: 157.2109Loss: 158.479919  \n",
      "#5 Test loss: 156.6860\n"
     ]
    },
    {
     "data": {
      "image/png": "[encoded data removed]",
      "text/plain": [
       "<Figure size 288x144 with 2 Axes>"
      ]
     },
     "metadata": {},
     "output_type": "display_data"
    },
    {
     "data": {
      "application/vnd.jupyter.widget-view+json": {
       "model_id": "",
       "version_major": 2,
       "version_minor": 0
      },
      "text/plain": [
       "HBox(children=(FloatProgress(value=0.0, max=657.0), HTML(value='')))"
      ]
     },
     "metadata": {},
     "output_type": "display_data"
    },
    {
     "name": "stdout",
     "output_type": "stream",
     "text": [
      "#6 Train loss: 155.9319Loss: 158.190308  \n",
      "#6 Test loss: 155.9110\n"
     ]
    },
    {
     "data": {
      "image/png": "[encoded data removed]",
      "text/plain": [
       "<Figure size 288x144 with 2 Axes>"
      ]
     },
     "metadata": {},
     "output_type": "display_data"
    },
    {
     "data": {
      "application/vnd.jupyter.widget-view+json": {
       "model_id": "",
       "version_major": 2,
       "version_minor": 0
      },
      "text/plain": [
       "HBox(children=(FloatProgress(value=0.0, max=657.0), HTML(value='')))"
      ]
     },
     "metadata": {},
     "output_type": "display_data"
    },
    {
     "name": "stdout",
     "output_type": "stream",
     "text": [
      "#7 Train loss: 154.7547Loss: 162.252594  \n",
      "#7 Test loss: 154.4885\n"
     ]
    },
    {
     "data": {
      "image/png": "[encoded data removed]",
      "text/plain": [
       "<Figure size 288x144 with 2 Axes>"
      ]
     },
     "metadata": {},
     "output_type": "display_data"
    },
    {
     "data": {
      "application/vnd.jupyter.widget-view+json": {
       "model_id": "",
       "version_major": 2,
       "version_minor": 0
      },
      "text/plain": [
       "HBox(children=(FloatProgress(value=0.0, max=657.0), HTML(value='')))"
      ]
     },
     "metadata": {},
     "output_type": "display_data"
    },
    {
     "name": "stdout",
     "output_type": "stream",
     "text": [
      "#8 Train loss: 153.7207Loss: 147.029648  \n",
      "#8 Test loss: 153.7610\n"
     ]
    },
    {
     "data": {
      "image/png": "[encoded data removed]",
      "text/plain": [
       "<Figure size 288x144 with 2 Axes>"
      ]
     },
     "metadata": {},
     "output_type": "display_data"
    },
    {
     "data": {
      "application/vnd.jupyter.widget-view+json": {
       "model_id": "",
       "version_major": 2,
       "version_minor": 0
      },
      "text/plain": [
       "HBox(children=(FloatProgress(value=0.0, max=657.0), HTML(value='')))"
      ]
     },
     "metadata": {},
     "output_type": "display_data"
    },
    {
     "name": "stdout",
     "output_type": "stream",
     "text": [
      "#9 Train loss: 152.8651Loss: 165.493423  \n",
      "#9 Test loss: 153.0809\n"
     ]
    },
    {
     "data": {
      "image/png": "[encoded data removed]",
      "text/plain": [
       "<Figure size 288x144 with 2 Axes>"
      ]
     },
     "metadata": {},
     "output_type": "display_data"
    },
    {
     "data": {
      "application/vnd.jupyter.widget-view+json": {
       "model_id": "",
       "version_major": 2,
       "version_minor": 0
      },
      "text/plain": [
       "HBox(children=(FloatProgress(value=0.0, max=657.0), HTML(value='')))"
      ]
     },
     "metadata": {},
     "output_type": "display_data"
    },
    {
     "name": "stdout",
     "output_type": "stream",
     "text": [
      "#10 Train loss: 152.0754Loss: 146.243683  \n",
      "#10 Test loss: 152.0925\n"
     ]
    },
    {
     "data": {
      "image/png": "[encoded data removed]",
      "text/plain": [
       "<Figure size 288x144 with 2 Axes>"
      ]
     },
     "metadata": {},
     "output_type": "display_data"
    },
    {
     "name": "stdout",
     "output_type": "stream",
     "text": [
      "\n"
     ]
    }
   ],
   "source": [
    "epochs = 10\n",
    "show_prediction(3, title=f\"epoch={0}\")\n",
    "for epoch in tqdm(range(1, epochs + 1)):\n",
    "    train_vae(epoch, loss_bce_kld, model, train_loader)\n",
    "    test_vae(epoch, loss_bce_kld, model, test_loader)\n",
    "    show_prediction(3, title=f\"epoch={epoch}\")"
   ]
  },
  {
   "cell_type": "markdown",
   "metadata": {},
   "source": [
    "## Saving and Loading Model\n",
    "\n",
    "You can save and load as a pickle, but it's better to use torch.save (which uses pickle)"
   ]
  },
  {
   "cell_type": "code",
   "execution_count": 32,
   "metadata": {
    "ExecuteTime": {
     "end_time": "2020-10-16T07:29:13.627736Z",
     "start_time": "2020-10-16T07:29:13.625453Z"
    }
   },
   "outputs": [],
   "source": [
    "import pickle"
   ]
  },
  {
   "cell_type": "code",
   "execution_count": 33,
   "metadata": {
    "ExecuteTime": {
     "end_time": "2020-10-16T07:29:13.679449Z",
     "start_time": "2020-10-16T07:29:13.629054Z"
    }
   },
   "outputs": [],
   "source": [
    "with open(\"VAE.pk\", \"wb\") as fp:\n",
    "    torch.save(model.state_dict(), fp)"
   ]
  },
  {
   "cell_type": "code",
   "execution_count": 34,
   "metadata": {
    "ExecuteTime": {
     "end_time": "2020-10-16T07:29:13.792227Z",
     "start_time": "2020-10-16T07:29:13.680776Z"
    }
   },
   "outputs": [],
   "source": [
    "model = VAE().to(device)\n",
    "with open(\"VAE.pk\", \"rb\") as fp:\n",
    "    model.load_state_dict(torch.load(fp))"
   ]
  },
  {
   "cell_type": "markdown",
   "metadata": {},
   "source": [
    "## Results"
   ]
  },
  {
   "cell_type": "code",
   "execution_count": 35,
   "metadata": {
    "ExecuteTime": {
     "end_time": "2020-10-16T07:29:13.933300Z",
     "start_time": "2020-10-16T07:29:13.793521Z"
    }
   },
   "outputs": [
    {
     "data": {
      "image/png": "[encoded data removed]",
      "text/plain": [
       "<Figure size 288x144 with 2 Axes>"
      ]
     },
     "metadata": {},
     "output_type": "display_data"
    }
   ],
   "source": [
    "idx = np.random.randint(0, len(ds_test))\n",
    "show_prediction(idx)"
   ]
  },
  {
   "cell_type": "markdown",
   "metadata": {},
   "source": [
    "One property of a latent space is that you can travese it, and get meaningful varations of outputs."
   ]
  },
  {
   "cell_type": "code",
   "execution_count": 36,
   "metadata": {
    "ExecuteTime": {
     "end_time": "2020-10-16T07:29:14.595937Z",
     "start_time": "2020-10-16T07:29:13.934662Z"
    }
   },
   "outputs": [
    {
     "name": "stdout",
     "output_type": "stream",
     "text": [
      "torch.Size([1000, 1, 28, 28])\n",
      "torch.Size([1000, 1, 28, 28])\n"
     ]
    },
    {
     "data": {
      "image/png": "[encoded data removed]",
      "text/plain": [
       "<Figure size 432x288 with 1 Axes>"
      ]
     },
     "metadata": {
      "needs_background": "light"
     },
     "output_type": "display_data"
    },
    {
     "data": {
      "image/png": "[encoded data removed]",
      "text/plain": [
       "<Figure size 864x864 with 10 Axes>"
      ]
     },
     "metadata": {},
     "output_type": "display_data"
    }
   ],
   "source": [
    "traverse(model=model, ds=ds_train)"
   ]
  },
  {
   "cell_type": "markdown",
   "metadata": {},
   "source": [
    "If we compare this plot with the similar plot for normal autoencoder, we can see that VAE did a better job at creating clusters. The points for each digits are closer together compared to previous model. However, there is still room for improvement. "
   ]
  },
  {
   "cell_type": "markdown",
   "metadata": {},
   "source": [
    "## Exercise 2: Deeper\n",
    "Create a new VAE but this time use a deeper network. Note, everything else (loss function, dataloaders, training loops, etc.) will stay the same only the model will change. The example above was using these sizes: 784 --> 400 --> 2 --> 400 --> 784\n",
    "\n",
    "Try a new model which uses these size: 784 --> 400 --> 80 --> 2 --> 80 --> 400 --> 784 "
   ]
  },
  {
   "cell_type": "code",
   "execution_count": 37,
   "metadata": {
    "ExecuteTime": {
     "end_time": "2020-10-16T07:29:14.599357Z",
     "start_time": "2020-10-16T07:29:14.597319Z"
    }
   },
   "outputs": [],
   "source": [
    "# Create the model definition\n",
    "# YOUR CODE HERE\n",
    "\n",
    "# # Training logic\n",
    "# epochs = 10\n",
    "# show_prediction(10, title=f\"epoch={0}\")\n",
    "# for epoch in tqdm(range(1, epochs + 1)):\n",
    "#     train(epoch, loss_bce_kld)\n",
    "#     test(epoch, loss_bce_kld)\n",
    "#     show_prediction(10, title=f\"epoch={epoch}\")\n",
    "\n",
    "# # Visualise the results\n",
    "# idx = np.random.randint(0, len(ds_test))\n",
    "# show_prediction(idx)\n",
    "# plt.show()\n",
    "\n",
    "# traverse(model=model, y=3, xmin=-5, xmax=5)"
   ]
  },
  {
   "cell_type": "markdown",
   "metadata": {
    "ExecuteTime": {
     "end_time": "2020-10-11T11:10:33.083826Z",
     "start_time": "2020-10-11T11:10:33.078815Z"
    }
   },
   "source": [
    "## Exercise 3: Wider\n",
    "Create a new VAE but this time use a more than two parameters for the latent space. This will reduce the loss"
   ]
  },
  {
   "cell_type": "code",
   "execution_count": null,
   "metadata": {
    "ExecuteTime": {
     "end_time": "2020-10-12T06:27:38.602002Z",
     "start_time": "2020-10-12T06:26:51.173089Z"
    }
   },
   "outputs": [],
   "source": []
  },
  {
   "cell_type": "markdown",
   "metadata": {
    "ExecuteTime": {
     "end_time": "2020-10-12T03:27:58.177087Z",
     "start_time": "2020-10-12T03:24:47.111Z"
    }
   },
   "source": [
    "# Application: Anomaly Detection\n",
    "\n",
    "The model will reconstruct normal data well, and fail to reconstruct anomolies. This means we can use it for anomoly detection"
   ]
  },
  {
   "cell_type": "code",
   "execution_count": 38,
   "metadata": {
    "ExecuteTime": {
     "end_time": "2020-10-16T07:29:15.094581Z",
     "start_time": "2020-10-16T07:29:14.600622Z"
    },
    "lines_to_next_cell": 0
   },
   "outputs": [
    {
     "name": "stdout",
     "output_type": "stream",
     "text": [
      "img_loss=109.35, random_loss=2230.30\n",
      "anomoly detected=True\n"
     ]
    },
    {
     "data": {
      "image/png": "[encoded data removed]",
      "text/plain": [
       "<Figure size 432x288 with 2 Axes>"
      ]
     },
     "metadata": {
      "needs_background": "light"
     },
     "output_type": "display_data"
    },
    {
     "data": {
      "text/plain": [
       "<matplotlib.image.AxesImage at 0x7f67e6856208>"
      ]
     },
     "execution_count": 38,
     "metadata": {},
     "output_type": "execute_result"
    },
    {
     "data": {
      "image/png": "[encoded data removed]",
      "text/plain": [
       "<Figure size 432x288 with 2 Axes>"
      ]
     },
     "metadata": {
      "needs_background": "light"
     },
     "output_type": "display_data"
    }
   ],
   "source": [
    "img = ds_train[11].to(device).float()\n",
    "\n",
    "# First try to reconstruct a real image\n",
    "img_recon, _ = model(img)\n",
    "loss_img = loss_bce(img_recon , img)\n",
    "\n",
    "# then a fake image, a vector of random noise\n",
    "rand = torch.rand((28, 28)).to(device)\n",
    "rand[:, 15] = 1\n",
    "rand[15, :] = 1\n",
    "rand = rand.reshape((-1, ))\n",
    "rand_recon, _ = model(rand)\n",
    "loss_rand = loss_bce(rand_recon , rand)\n",
    "\n",
    "print(f'img_loss={loss_img:2.2f}, random_loss={loss_rand:2.2f}\\nanomoly detected={loss_img<loss_rand}')\n",
    "\n",
    "plt.subplot(1, 2, 1)\n",
    "plt.suptitle(f'real image loss={loss_img:2.2f}')\n",
    "plt.imshow(cvt2image(img), cmap=\"gray\")\n",
    "plt.subplot(1, 2, 2)\n",
    "plt.imshow(cvt2image(img_recon), cmap=\"gray\")\n",
    "plt.show()\n",
    "\n",
    "plt.subplot(1, 2, 1)\n",
    "plt.suptitle(f'fake image loss={loss_rand:2.2f}')\n",
    "plt.imshow(cvt2image(rand), cmap=\"gray\")\n",
    "plt.subplot(1, 2, 2)\n",
    "plt.imshow(cvt2image(rand_recon), cmap=\"gray\")"
   ]
  },
  {
   "cell_type": "markdown",
   "metadata": {
    "ExecuteTime": {
     "end_time": "2020-10-12T03:27:58.180642Z",
     "start_time": "2020-10-12T03:25:14.702Z"
    }
   },
   "source": [
    "# Application: Denoising\n",
    "\n",
    "Since the model only keep the important information, noise ends up being discarded. This can not only let us compress data, but denoise it.\n",
    "\n",
    "In the example below we add some artifacts, and the autoencoder discards them during reconstruction."
   ]
  },
  {
   "cell_type": "code",
   "execution_count": 39,
   "metadata": {
    "ExecuteTime": {
     "end_time": "2020-10-16T07:29:15.102988Z",
     "start_time": "2020-10-16T07:29:15.096134Z"
    }
   },
   "outputs": [],
   "source": [
    "img = ds_train[11].to(device).float()\n",
    "\n",
    "# First try to reconstruct a real image\n",
    "img_recon, _ = model(img)\n",
    "loss_img = loss_bce(img_recon , img)\n",
    "\n",
    "# Add noise to an image\n",
    "rand = (img * 1.0).reshape((28, 28))\n",
    "rand[:, 15] = 0.5 # vertical bar\n",
    "rand[15, :] = 0.9 # horizontal bar\n",
    "rand[5, 5] = 0.9 # spot\n",
    "rand = rand.flatten()\n",
    "\n",
    "# Reconstruct the noisy image\n",
    "rand_recon, _ = model(rand)\n",
    "loss_rand = loss_bce(rand_recon , rand)"
   ]
  },
  {
   "cell_type": "code",
   "execution_count": 40,
   "metadata": {
    "ExecuteTime": {
     "end_time": "2020-10-16T07:29:15.601127Z",
     "start_time": "2020-10-16T07:29:15.104248Z"
    }
   },
   "outputs": [
    {
     "data": {
      "image/png": "[encoded data removed]",
      "text/plain": [
       "<Figure size 432x288 with 2 Axes>"
      ]
     },
     "metadata": {
      "needs_background": "light"
     },
     "output_type": "display_data"
    },
    {
     "data": {
      "text/plain": [
       "<matplotlib.image.AxesImage at 0x7f67e66db780>"
      ]
     },
     "execution_count": 40,
     "metadata": {},
     "output_type": "execute_result"
    },
    {
     "data": {
      "image/png": "[encoded data removed]",
      "text/plain": [
       "<Figure size 432x288 with 2 Axes>"
      ]
     },
     "metadata": {
      "needs_background": "light"
     },
     "output_type": "display_data"
    }
   ],
   "source": [
    "\n",
    "plt.subplot(1, 2, 1)\n",
    "plt.suptitle(f'real image loss={loss_img:2.2f}')\n",
    "plt.imshow(cvt2image(img), cmap=\"gray\")\n",
    "plt.subplot(1, 2, 2)\n",
    "plt.imshow(cvt2image(img_recon), cmap=\"gray\")\n",
    "plt.show()\n",
    "\n",
    "plt.subplot(1, 2, 1)\n",
    "plt.suptitle(f'noisy image loss={loss_rand:2.2f}')\n",
    "plt.imshow(cvt2image(rand), cmap=\"gray\")\n",
    "plt.subplot(1, 2, 2)\n",
    "plt.imshow(cvt2image(rand_recon), cmap=\"gray\")\n",
    "# You can see it's removed the noise that we added, but retained the digit"
   ]
  },
  {
   "cell_type": "markdown",
   "metadata": {},
   "source": [
    "# Solution to Exercises"
   ]
  },
  {
   "cell_type": "markdown",
   "metadata": {
    "ExecuteTime": {
     "end_time": "2020-10-12T00:16:07.356457Z",
     "start_time": "2020-10-12T00:16:07.347843Z"
    }
   },
   "source": [
    "## Exercise 1\n",
    "<details><summary>Solution</summary>\n",
    "\n",
    "```Python\n",
    "    \n",
    "# Part 1\n",
    "p = Normal(0, 1)\n",
    "kld_close = torch.distributions.kl.kl_divergence(p, Normal(0, 1))\n",
    "kld_far = torch.distributions.kl.kl_divergence(p, Normal(10, 1))\n",
    "print(kld_close, kld_far)\n",
    "print('close is lower?', kld_close<kld_far)\n",
    "    \n",
    "# Part 2: Plot the KLD as you vary the mean of q\n",
    "p = Normal(0, 1)\n",
    "means = np.arange(-10, 11)\n",
    "\n",
    "klds=[]\n",
    "for mean in means:\n",
    "    q = Normal(mean, 1)\n",
    "    kld = torch.distributions.kl.kl_divergence(p, q)\n",
    "    klds.append(kld)\n",
    "\n",
    "plt.plot(means, klds)\n",
    "plt.ylabel('KLD(p|q)')\n",
    "plt.xlabel('mean of Q')\n",
    "plt.show()\n",
    "```\n",
    "\n",
    "</details>"
   ]
  },
  {
   "cell_type": "markdown",
   "metadata": {},
   "source": [
    "## Exercise 2\n",
    "<details><summary>Solution</summary>\n",
    "\n",
    "```Python   \n",
    " \n",
    "class DeeperVAE(nn.Module):\n",
    "    \"\"\"Deeper Variational Autoencoder\"\"\"\n",
    "    def __init__(self):\n",
    "        super(DeeperVAE, self).__init__()\n",
    "        \n",
    "        self.encoder = nn.Sequential(\n",
    "            nn.Linear(784, 400),\n",
    "            nn.ReLU(),\n",
    "            nn.Linear(400, 80),\n",
    "            nn.ReLU(),\n",
    "            nn.Linear(80, 4)\n",
    "        )\n",
    "        self.decoder = nn.Sequential(\n",
    "            nn.Linear(2, 80),\n",
    "            nn.ReLU(),\n",
    "            nn.Linear(80, 400),\n",
    "            nn.ReLU(),\n",
    "            nn.Linear(400, 784),\n",
    "            nn.Sigmoid()\n",
    "        )\n",
    "\n",
    "    def encode(self, x):\n",
    "        \"\"\"Takes in image, output distribution\"\"\"\n",
    "        h = self.encoder(x)\n",
    "        # first few features are mean\n",
    "        mean = h[:, :2]\n",
    "        # second two are the log std\n",
    "        log_std = h[:, 2:]\n",
    "        std = torch.exp(log_std)\n",
    "        # return a normal distribution with 2 parameters\n",
    "        return Normal(mean, std)\n",
    "\n",
    "    def decode(self, z):\n",
    "        \"\"\"Takes in latent vector and produces image.\"\"\"\n",
    "        return self.decoder(z)\n",
    "\n",
    "    def forward(self, x):\n",
    "        \"\"\"Combine the above methods\"\"\"\n",
    "        dist = self.encode(x.view(-1, 784))\n",
    "        z = dist.rsample() # sample, with gradient\n",
    "        return self.decode(z), dist\n",
    "    \n",
    "model = DeeperVAE().to(device)\n",
    "optimizer = optim.Adam(model.parameters(), lr=1e-3)\n",
    "    \n",
    "# training loop\n",
    "epochs = 10\n",
    "for epoch in tqdm(range(1, epochs + 1)):\n",
    "    train(epoch,loss_bce_kld)\n",
    "    test(epoch,loss_bce_kld)\n",
    "\n",
    "# visualisations\n",
    "model.eval()\n",
    "mu , logvar = model.encode(ds_train[:1000].to(device))\n",
    "mu = mu.cpu().detach().numpy()\n",
    "for i in range(10):\n",
    "    idx = ds_train.y[:1000]==i\n",
    "    plt.scatter(mu[idx,0],mu[idx,1],label = i)\n",
    "plt.legend()\n",
    "\n",
    "```\n",
    "\n",
    "</details>"
   ]
  },
  {
   "cell_type": "markdown",
   "metadata": {
    "ExecuteTime": {
     "end_time": "2020-10-11T23:42:20.565739Z",
     "start_time": "2020-10-11T23:42:20.553030Z"
    }
   },
   "source": [
    "## Exercise 3\n",
    "\n",
    "<details><summary>Solution</summary>\n",
    "\n",
    "```Python\n",
    "   \n",
    "class WiderVAE(nn.Module):\n",
    "    \"\"\"Wider Variational Autoencoder\"\"\"\n",
    "    def __init__(self):\n",
    "        super(WiderVAE, self).__init__()\n",
    "        \n",
    "        self.encoder = nn.Sequential(\n",
    "            nn.Linear(784, 400),\n",
    "            nn.ReLU(),\n",
    "            nn.Linear(400, 8)\n",
    "        )\n",
    "        self.decoder = nn.Sequential(\n",
    "            nn.Linear(4, 400),\n",
    "            nn.ReLU(),\n",
    "            nn.Linear(400, 784),\n",
    "            nn.Sigmoid()\n",
    "        )\n",
    "\n",
    "    def encode(self, x):\n",
    "        \"\"\"Takes in image, output distribution\"\"\"\n",
    "        h = self.encoder(x)\n",
    "        # first few features are mean\n",
    "        mean = h[:, :4]\n",
    "        # second two are the log std\n",
    "        log_std = h[:, 4:]\n",
    "        std = torch.exp(log_std)\n",
    "        # return a normal distribution with 2 parameters\n",
    "        return Normal(mean, std)\n",
    "\n",
    "    def decode(self, z):\n",
    "        \"\"\"Takes in latent vector and produces image.\"\"\"\n",
    "        return self.decoder(z)\n",
    "\n",
    "    def forward(self, x):\n",
    "        \"\"\"Combine the above methods\"\"\"\n",
    "        dist = self.encode(x.view(-1, 784))\n",
    "        z = dist.rsample() # sample, with gradient\n",
    "        return self.decode(z), dist\n",
    "    \n",
    "model = WiderVAE().to(device)\n",
    "optimizer = optim.Adam(model.parameters(), lr=1e-3)\n",
    "epochs = 10\n",
    "show_prediction(10, title=f\"epoch={0}\")\n",
    "for epoch in tqdm(range(1, epochs + 1)):\n",
    "    train(epoch, loss_bce_kld)\n",
    "    test(epoch, loss_bce_kld)\n",
    "    show_prediction(10, title=f\"epoch={epoch}\")\n",
    "\n",
    "traverse(model=model, y=3, xmin=-5, xmax=5)\n",
    "\n",
    "```\n",
    "\n",
    "</details>"
   ]
  },
  {
   "cell_type": "markdown",
   "metadata": {},
   "source": [
    "# (extra) Conv\n",
    "\n",
    "Encoding and Decoding images is much easier with convolutions because they are aware that pixels are nearby. Lets try with convolutions and see if the loss is lower."
   ]
  },
  {
   "cell_type": "code",
   "execution_count": null,
   "metadata": {
    "ExecuteTime": {
     "end_time": "2020-10-16T06:00:46.553987Z",
     "start_time": "2020-10-16T05:59:59.363Z"
    }
   },
   "outputs": [],
   "source": []
  },
  {
   "cell_type": "code",
   "execution_count": null,
   "metadata": {
    "ExecuteTime": {
     "start_time": "2020-10-16T07:27:30.745Z"
    },
    "lines_to_next_cell": 0,
    "scrolled": true
   },
   "outputs": [
    {
     "name": "stdout",
     "output_type": "stream",
     "text": [
      "====================================================================================\n",
      "                                  Kernel Shape     Output Shape    Params  \\\n",
      "Layer                                                                       \n",
      "0_encoder.Conv2d_0               [1, 32, 4, 4]  [1, 32, 13, 13]     544.0   \n",
      "1_encoder.BatchNorm2d_1                   [32]  [1, 32, 13, 13]      64.0   \n",
      "2_encoder.ReLU_2                             -  [1, 32, 13, 13]         -   \n",
      "3_encoder.Conv2d_3              [32, 64, 4, 4]    [1, 64, 5, 5]   32.832k   \n",
      "4_encoder.BatchNorm2d_4                   [64]    [1, 64, 5, 5]     128.0   \n",
      "5_encoder.ReLU_5                             -    [1, 64, 5, 5]         -   \n",
      "6_encoder.Conv2d_6             [64, 128, 5, 5]   [1, 128, 1, 1]  204.928k   \n",
      "7_encoder.ReLU_7                             -   [1, 128, 1, 1]         -   \n",
      "8_encoder.Flatten_8                          -         [1, 128]         -   \n",
      "9_fc11                                [128, 2]           [1, 2]     258.0   \n",
      "10_fc12                               [128, 2]           [1, 2]     258.0   \n",
      "11_fc2                                [2, 128]         [1, 128]     384.0   \n",
      "12_decoder.ConvTranspose2d_0  [128, 128, 3, 3]   [1, 128, 3, 3]  147.584k   \n",
      "13_decoder.BatchNorm2d_1                 [128]   [1, 128, 3, 3]     256.0   \n",
      "14_decoder.ReLU_2                            -   [1, 128, 3, 3]         -   \n",
      "15_decoder.ConvTranspose2d_3   [64, 128, 3, 3]    [1, 64, 7, 7]   73.792k   \n",
      "16_decoder.BatchNorm2d_4                  [64]    [1, 64, 7, 7]     128.0   \n",
      "17_decoder.ReLU_5                            -    [1, 64, 7, 7]         -   \n",
      "18_decoder.ConvTranspose2d_6    [32, 64, 2, 2]  [1, 32, 14, 14]    8.224k   \n",
      "19_decoder.BatchNorm2d_7                  [32]  [1, 32, 14, 14]      64.0   \n",
      "20_decoder.ReLU_8                            -  [1, 32, 14, 14]         -   \n",
      "21_decoder.ConvTranspose2d_9     [1, 32, 2, 2]   [1, 1, 28, 28]     129.0   \n",
      "22_decoder.Sigmoid_10                        -   [1, 1, 28, 28]         -   \n",
      "\n",
      "                              Mult-Adds  \n",
      "Layer                                    \n",
      "0_encoder.Conv2d_0              86.528k  \n",
      "1_encoder.BatchNorm2d_1            32.0  \n",
      "2_encoder.ReLU_2                      -  \n",
      "3_encoder.Conv2d_3               819.2k  \n",
      "4_encoder.BatchNorm2d_4            64.0  \n",
      "5_encoder.ReLU_5                      -  \n",
      "6_encoder.Conv2d_6               204.8k  \n",
      "7_encoder.ReLU_7                      -  \n",
      "8_encoder.Flatten_8                   -  \n",
      "9_fc11                            256.0  \n",
      "10_fc12                           256.0  \n",
      "11_fc2                            256.0  \n",
      "12_decoder.ConvTranspose2d_0  1.327104M  \n",
      "13_decoder.BatchNorm2d_1          128.0  \n",
      "14_decoder.ReLU_2                     -  \n",
      "15_decoder.ConvTranspose2d_3  3.612672M  \n",
      "16_decoder.BatchNorm2d_4           64.0  \n",
      "17_decoder.ReLU_5                     -  \n",
      "18_decoder.ConvTranspose2d_6  1.605632M  \n",
      "19_decoder.BatchNorm2d_7           32.0  \n",
      "20_decoder.ReLU_8                     -  \n",
      "21_decoder.ConvTranspose2d_9   100.352k  \n",
      "22_decoder.Sigmoid_10                 -  \n",
      "------------------------------------------------------------------------------------\n",
      "                         Totals\n",
      "Total params           469.573k\n",
      "Trainable params       469.573k\n",
      "Non-trainable params        0.0\n",
      "Mult-Adds             7.757376M\n",
      "====================================================================================\n"
     ]
    },
    {
     "data": {
      "image/png": "[encoded data removed]",
      "text/plain": [
       "<Figure size 288x144 with 2 Axes>"
      ]
     },
     "metadata": {},
     "output_type": "display_data"
    },
    {
     "data": {
      "application/vnd.jupyter.widget-view+json": {
       "model_id": "95acf84005fe498cbd134635f2344523",
       "version_major": 2,
       "version_minor": 0
      },
      "text/plain": [
       "HBox(children=(FloatProgress(value=0.0, max=10.0), HTML(value='')))"
      ]
     },
     "metadata": {},
     "output_type": "display_data"
    },
    {
     "data": {
      "application/vnd.jupyter.widget-view+json": {
       "model_id": "657adacc00e64900b1663bc0ec791605",
       "version_major": 2,
       "version_minor": 0
      },
      "text/plain": [
       "HBox(children=(FloatProgress(value=0.0, max=657.0), HTML(value='')))"
      ]
     },
     "metadata": {},
     "output_type": "display_data"
    },
    {
     "name": "stdout",
     "output_type": "stream",
     "text": [
      "#1 [6400/42000 (15%)]\tLoss: 209.216248  \r"
     ]
    }
   ],
   "source": [
    "# Let's create our model. Same as before the model has three main sections:\n",
    "class CVAE(nn.Module):\n",
    "    def __init__(self, n_latent=2):\n",
    "        super(CVAE, self).__init__()\n",
    "        # After each layer in the encoder we decrease the size of output and increase the number of channels. \n",
    "        self.encoder = nn.Sequential(\n",
    "            nn.Conv2d(1, 32, kernel_size=4, stride=2),\n",
    "            nn.BatchNorm2d(32),\n",
    "            nn.ReLU(),\n",
    "            nn.Conv2d(32, 64, kernel_size=4, stride=2),\n",
    "            nn.BatchNorm2d(64),\n",
    "            nn.ReLU(),\n",
    "            nn.Conv2d(64, 128, kernel_size=5, stride=2),\n",
    "            nn.ReLU(),\n",
    "            nn.Flatten(),\n",
    "        )\n",
    "\n",
    "        # It acts as opposite of encoder. At each layer we increase the size of output and decrease the number of channels.\n",
    "        self.decoder = nn.Sequential(\n",
    "            nn.ConvTranspose2d(128, 128, kernel_size=3, stride=2),\n",
    "            nn.BatchNorm2d(128),\n",
    "            nn.ReLU(),\n",
    "            nn.ConvTranspose2d(128, 64, kernel_size=3, stride=2),\n",
    "            nn.BatchNorm2d(64),\n",
    "            nn.ReLU(),\n",
    "            nn.ConvTranspose2d(64, 32, kernel_size=2, stride=2),\n",
    "            nn.BatchNorm2d(32),\n",
    "            nn.ReLU(),\n",
    "            nn.ConvTranspose2d(32, 1, kernel_size=2, stride=2),\n",
    "            nn.Sigmoid(),\n",
    "        )\n",
    "\n",
    "        self.fc11 = nn.Linear(128, n_latent)\n",
    "        self.fc12 = nn.Linear(128, n_latent)\n",
    "        self.fc2 = nn.Linear(n_latent, 128)\n",
    "\n",
    "    def encode(self, x):\n",
    "        x = x.reshape((-1, 1, 28, 28))\n",
    "        h = self.encoder(x)\n",
    "        mu, logvar = self.fc11(h), self.fc12(h)\n",
    "        return Normal(mu, torch.exp(logvar))\n",
    "\n",
    "    def decode(self, z):\n",
    "        z = self.fc2(z)\n",
    "        z = z.view(z.size(0), 128, 1, 1)\n",
    "        z = self.decoder(z)\n",
    "        z = z.reshape((-1, 28*28))\n",
    "        return z\n",
    "\n",
    "    def forward(self, x):\n",
    "        dist = self.encode(x)\n",
    "        z = dist.rsample()\n",
    "        z = self.decode(z)\n",
    "        return z, dist\n",
    "    \n",
    "model = CVAE().to(device)\n",
    "from deep_ml_curriculum.torchsummaryX import summary\n",
    "x = torch.randn(1, 1, 28, 28).to(device)\n",
    "summary(model, x)\n",
    "\n",
    "optimizer = optim.Adam(model.parameters(), lr=1e-3)\n",
    "\n",
    "# training loop\n",
    "epochs = 10\n",
    "show_prediction(3, title=f\"epoch={0}\")\n",
    "for epoch in tqdm(range(1, epochs + 1)):\n",
    "    train_vae(epoch, loss_bce_kld, model, train_loader)\n",
    "    test_vae(epoch, loss_bce_kld, model, test_loader)\n",
    "    show_prediction(3, title=f\"epoch={epoch}\")\n",
    "    \n",
    "traverse(model=model, ds=ds_train, y=3, xmin=-5, xmax=5)"
   ]
  },
  {
   "cell_type": "code",
   "execution_count": null,
   "metadata": {
    "ExecuteTime": {
     "end_time": "2020-10-16T07:27:05.397902Z",
     "start_time": "2020-10-16T07:27:04.841088Z"
    }
   },
   "outputs": [],
   "source": []
  },
  {
   "cell_type": "code",
   "execution_count": null,
   "metadata": {
    "ExecuteTime": {
     "end_time": "2020-10-16T03:35:39.149181Z",
     "start_time": "2020-10-16T03:35:38.491225Z"
    }
   },
   "outputs": [],
   "source": []
  },
  {
   "cell_type": "code",
   "execution_count": null,
   "metadata": {},
   "outputs": [],
   "source": []
  },
  {
   "cell_type": "code",
   "execution_count": null,
   "metadata": {
    "ExecuteTime": {
     "end_time": "2020-10-16T00:53:01.943011Z",
     "start_time": "2020-10-16T00:53:01.939633Z"
    }
   },
   "outputs": [],
   "source": []
  },
  {
   "cell_type": "markdown",
   "metadata": {
    "ExecuteTime": {
     "end_time": "2020-10-15T03:07:51.397762Z",
     "start_time": "2020-10-15T03:07:51.394444Z"
    },
    "lines_to_next_cell": 2
   },
   "source": [
    "# (extra) Dataset: Fossils"
   ]
  },
  {
   "cell_type": "code",
   "execution_count": null,
   "metadata": {
    "ExecuteTime": {
     "end_time": "2020-10-16T04:22:39.074354Z",
     "start_time": "2020-10-16T04:22:39.069600Z"
    },
    "scrolled": true
   },
   "outputs": [],
   "source": []
  },
  {
   "cell_type": "code",
   "execution_count": null,
   "metadata": {
    "ExecuteTime": {
     "start_time": "2020-10-16T07:27:30.762Z"
    }
   },
   "outputs": [],
   "source": [
    "\n",
    "\n",
    "class FossilDataset(Dataset):\n",
    "    def __init__(self, path, transform=None, split='train'):\n",
    "\n",
    "        self.root_dir = Path(path)\n",
    "        self.transform = transform\n",
    "        self.x = (np.load(path/f'X_{split}.npy') * 255).astype(np.uint8)[:, 0]\n",
    "        self.y = np.load(path/f'y_{split}.npy')\n",
    "\n",
    "    def __len__(self):\n",
    "        return len(self.x)\n",
    "\n",
    "    def __getitem__(self, idx):\n",
    "        if torch.is_tensor(idx):\n",
    "            idx = idx.tolist()\n",
    "\n",
    "        output = self.x[idx]\n",
    "        if self.transform:\n",
    "            output = self.transform(output)\n",
    "        return output\n",
    "\n",
    "    def show(self, idx):\n",
    "        plt.imshow(self.x[idx], \"gray\")\n",
    "\n",
    "    def sample(self, n):\n",
    "        idx = np.random.randint(0, len(self), n)\n",
    "        return self[idx]\n",
    "\n",
    "path = Path(\"../../data/processed/fossil_image_classification/\")\n",
    "transform = transforms.Compose([\n",
    "    transforms.ToPILImage(),\n",
    "    transforms.RandomVerticalFlip(),\n",
    "    transforms.RandomHorizontalFlip(),    \n",
    "    transforms.Resize((28, 28)),\n",
    "    transforms.RandomResizedCrop((28, 28)),\n",
    "    transforms.ToTensor(),\n",
    "])\n",
    "ds_train = FossilDataset(path, split='train', transform=transform)\n",
    "transform = transforms.Compose([\n",
    "    transforms.ToPILImage(),\n",
    "    transforms.Resize((28, 28)),\n",
    "    transforms.ToTensor(),\n",
    "])\n",
    "ds_test = FossilDataset(path, split='val', transform=transform)\n",
    "print(len(ds_train))\n",
    "print(len(ds_test))\n",
    "\n",
    "batch_size=10\n",
    "train_loader = torch.utils.data.DataLoader(ds_train, batch_size, shuffle=True)\n",
    "test_loader = torch.utils.data.DataLoader(ds_test, batch_size)\n",
    "\n",
    "plt.imshow(ds_train[10][0], 'gray')\n",
    "ds_train[1].shape"
   ]
  },
  {
   "cell_type": "code",
   "execution_count": null,
   "metadata": {
    "ExecuteTime": {
     "start_time": "2020-10-16T07:27:30.767Z"
    }
   },
   "outputs": [],
   "source": [
    "    \n",
    "model = CVAE().to(device)\n",
    "from deep_ml_curriculum.torchsummaryX import summary\n",
    "x = torch.randn(1, 1, 28, 28).to(device)\n",
    "summary(model, x)\n",
    "\n",
    "optimizer = optim.Adam(model.parameters(), lr=1e-3)\n",
    "\n",
    "# training loop\n",
    "epochs = 100\n",
    "show_prediction(3, title=f\"epoch={0}\", ds=ds_test)\n",
    "for epoch in tqdm(range(1, epochs + 1)):\n",
    "    train_vae(epoch, loss_bce_kld, model, train_loader)\n",
    "    test_vae(epoch, loss_bce_kld, model, test_loader)\n",
    "    if epoch%10==0:\n",
    "        show_prediction(3, title=f\"epoch={epoch}\", ds=ds_test)\n",
    "    \n",
    "traverse(model=model, ds=ds_test, y=1, xmin=-2, xmax=3)"
   ]
  },
  {
   "cell_type": "code",
   "execution_count": null,
   "metadata": {
    "ExecuteTime": {
     "start_time": "2020-10-16T07:27:30.771Z"
    }
   },
   "outputs": [],
   "source": [
    "traverse(model=model, ds=ds_train)"
   ]
  },
  {
   "cell_type": "markdown",
   "metadata": {},
   "source": [
    "# (extra) DataSet: Micro-CT DeepRockSR"
   ]
  },
  {
   "cell_type": "code",
   "execution_count": null,
   "metadata": {
    "ExecuteTime": {
     "start_time": "2020-10-16T07:27:30.777Z"
    }
   },
   "outputs": [],
   "source": [
    "class Rocks(datasets.ImageFolder):\n",
    "    def __init__(self, *args, **kwargs):\n",
    "        super().__init__(*args, **kwargs)\n",
    "        self.y = np.array([ds_test.classes[i] for i in self.targets])\n",
    "        \n",
    "    def __getitem__(self, idx):\n",
    "        x, y = super().__getitem__(idx)\n",
    "        return x[:1]\n",
    "    \n",
    "transform = transforms.Compose([\n",
    "    transforms.Resize((28, 28)),\n",
    "    transforms.ToTensor(),\n",
    "])\n",
    "        \n",
    "ds_train = Rocks(\n",
    "    \"../../data/processed/deep-rock-sr/DeepRockSR-2D/\",\n",
    "    is_valid_file=lambda f: (\"train_LR_default_X4\" in f) and not (\"shuffle\" in f),\n",
    "    transform=transform\n",
    ")\n",
    "ds_test = Rocks(\n",
    "    \"../../data/processed/deep-rock-sr/DeepRockSR-2D/\",\n",
    "    is_valid_file=lambda f: (\"test_LR_default_X4\" in f) and not (\"shuffle\" in f),\n",
    "    transform=transform\n",
    ")\n",
    "batch_size=32\n",
    "train_loader = torch.utils.data.DataLoader(ds_train, batch_size, shuffle=True)\n",
    "test_loader = torch.utils.data.DataLoader(ds_test, batch_size)\n",
    "ds_train[0].shape"
   ]
  },
  {
   "cell_type": "code",
   "execution_count": null,
   "metadata": {
    "ExecuteTime": {
     "end_time": "2020-10-16T04:25:01.874745Z",
     "start_time": "2020-10-16T04:25:01.871470Z"
    }
   },
   "outputs": [],
   "source": []
  },
  {
   "cell_type": "code",
   "execution_count": null,
   "metadata": {
    "ExecuteTime": {
     "start_time": "2020-10-16T07:27:30.785Z"
    }
   },
   "outputs": [],
   "source": [
    "model = CVAE().to(device)\n",
    "from deep_ml_curriculum.torchsummaryX import summary\n",
    "x = torch.randn(1, 1, 28, 28).to(device)\n",
    "summary(model, x)\n",
    "\n",
    "optimizer = optim.Adam(model.parameters(), lr=1e-3)\n",
    "\n",
    "# training loop\n",
    "epochs = 10\n",
    "show_prediction(3, title=f\"epoch={0}\", ds=ds_test)\n",
    "for epoch in tqdm(range(1, epochs + 1)):\n",
    "    train_vae(epoch, loss_bce_kld, model, train_loader)\n",
    "    test_vae(epoch, loss_bce_kld, model, test_loader)\n",
    "    show_prediction(3, title=f\"epoch={epoch}\", ds=ds_test)\n",
    "    \n",
    "traverse(model=model, ds=ds_test, y=1, xmin=-2, xmax=3)"
   ]
  },
  {
   "cell_type": "code",
   "execution_count": null,
   "metadata": {
    "ExecuteTime": {
     "start_time": "2020-10-16T07:27:30.789Z"
    }
   },
   "outputs": [],
   "source": [
    "traverse(model=model, ds=ds_train)"
   ]
  },
  {
   "cell_type": "markdown",
   "metadata": {},
   "source": [
    "# References\n",
    "- [Pytorch examples for VAE](https://github.com/pytorch/examples/tree/master/vae)"
   ]
  },
  {
   "cell_type": "markdown",
   "metadata": {},
   "source": [
    "# Further Reading\n",
    "- [Autoencoders Explained](https://www.youtube.com/watch?v=7mRfwaGGAPg)\n",
    "- [Introduction to Variational Autoencoders](https://www.youtube.com/watch?v=9zKuYvjFFS8&t=527s)\n",
    "- [U-net](https://www.youtube.com/watch?v=81AvQQnpG4Q)\n",
    "- [Understanding Semantic Segmentation](https://towardsdatascience.com/understanding-semantic-segmentation-with-unet-6be4f42d4b47)\n",
    "- [Understanding Variation Autoencoders](https://towardsdatascience.com/understanding-variational-autoencoders-vaes-f70510919f73)\n",
    "- [Visualizing MNIST using a variational autoencoder](https://www.kaggle.com/rvislaywade/visualizing-mnist-using-a-variational-autoencoder)"
   ]
  },
  {
   "cell_type": "code",
   "execution_count": null,
   "metadata": {},
   "outputs": [],
   "source": []
  }
 ],
 "metadata": {
  "jupytext": {
   "encoding": "# -*- coding: utf-8 -*-",
   "formats": "ipynb,py"
  },
  "kernelspec": {
   "display_name": "deep_ml_curriculum",
   "language": "python",
   "name": "deep_ml_curriculum"
  },
  "language_info": {
   "codemirror_mode": {
    "name": "ipython",
    "version": 3
   },
   "file_extension": ".py",
   "mimetype": "text/x-python",
   "name": "python",
   "nbconvert_exporter": "python",
   "pygments_lexer": "ipython3",
   "version": "3.7.0"
  },
  "toc": {
   "base_numbering": 1,
   "nav_menu": {},
   "number_sections": true,
   "sideBar": true,
   "skip_h1_title": false,
   "title_cell": "Table of Contents",
   "title_sidebar": "Contents",
   "toc_cell": false,
   "toc_position": {
    "height": "calc(100% - 180px)",
    "left": "10px",
    "top": "150px",
    "width": "383.984px"
   },
   "toc_section_display": true,
   "toc_window_display": true
  }
 },
 "nbformat": 4,
 "nbformat_minor": 4
}
