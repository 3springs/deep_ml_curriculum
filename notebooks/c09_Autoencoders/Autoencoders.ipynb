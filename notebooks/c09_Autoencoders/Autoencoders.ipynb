{
 "cells": [
  {
   "cell_type": "markdown",
   "metadata": {},
   "source": [
    "# Autoencoders\n",
    "## What are autoencoders?\n",
    "Autoencoders are networks which have the same input and output. A set of data is fed to these networks and they are expected to recreate the input. However, what makes autoencoders interesting is that they compress the information into lower number of dimensions (a.k.a latent space) and then recreate the input using those dimensions. They can be used for dimensionality reduction similar to PCA, t-SNE, and Umap. Some of the advantages of using autoencoders compared to some of the other techniques are:\n",
    "- Flexibility: You can design the network based on what the problem demands.\n",
    "- Reversibility: Unlike methods such as t-SNE and UMAP you can convert data back to the initial space.\n",
    "- Non-linearity: Unlike linear methods such as PCA, it is capable of using non-linear transformation.\n",
    "\n",
    "<div class=\"alert alert-success\">\n",
    "Learning Objectives:\n",
    "    \n",
    "- How AutoEncoders compress\n",
    "- How Variation Auto Encoder's use a latent space\n",
    "- What is a latent Space\n",
    "- using `Kullback–Leibler divergence` as a loss to measure the difference in two distributions\n",
    "- Applications of Auto Encoders\n",
    "</div>  \n",
    "\n",
    "## Structure\n",
    "Autoencoders have two main components:\n",
    "\n",
    "1. Encoder: Converts data to latent space.\n",
    "2. Decoder: Converts the data back from latent space to its initial space.\n",
    "\n",
    "The architecture looks similar to the image below:\n",
    "<img src='./images/nn.svg' style='height:50rem'>\n",
    "\n",
    "We pass the input through the model and it will compress and decompress the input and returns a result. Then we compare the output of the model with the original input. To check how close the output is to the original input we use a loss function."
   ]
  },
  {
   "cell_type": "markdown",
   "metadata": {
    "ExecuteTime": {
     "end_time": "2020-10-12T02:04:25.772894Z",
     "start_time": "2020-10-12T02:04:25.763235Z"
    }
   },
   "source": [
    "## Applications\n",
    "\n",
    "Autoencoders are not only useful for dimensionality reduction. They are often used for other purposes as well, including:\n",
    "1. __Denoising:__ We could add noise to the input and then feed it to the model and then compare the output with the original image (without noise). This approach will create a model which is capable of removing noise from the input.\n",
    "2. __Anomaly Detection:__ When we train a model on specific set of data, the model learns how to recreate the dataset. As a result when there are uncommon instances in the data the model will not be able to recrate them very well. This behaviour is sometimes used as a technique to find anomalous data points. \n",
    "3. __Unsupervised Clustering:__ Like clustering algorithms but more flexible, able to fit complex relationships"
   ]
  },
  {
   "cell_type": "markdown",
   "metadata": {},
   "source": [
    "Let's start by importing the required libraries."
   ]
  },
  {
   "cell_type": "code",
   "execution_count": 1,
   "metadata": {
    "ExecuteTime": {
     "end_time": "2020-10-12T06:37:25.815620Z",
     "start_time": "2020-10-12T06:37:24.333305Z"
    }
   },
   "outputs": [],
   "source": [
    "import torch\n",
    "from torch import nn, optim\n",
    "from torch.nn import functional as F\n",
    "from torch.distributions import Normal\n",
    "from torch.utils.data import Dataset, DataLoader\n",
    "\n",
    "from torchvision import datasets, transforms\n",
    "\n",
    "import seaborn as sns\n",
    "from PIL import Image\n",
    "from pathlib import Path\n",
    "import numpy as np\n",
    "import os\n",
    "from tqdm.auto import tqdm\n",
    "import matplotlib.pyplot as plt\n",
    "import pandas as pd\n",
    "\n",
    "from deep_ml_curriculum.torchsummaryX import summary"
   ]
  },
  {
   "cell_type": "markdown",
   "metadata": {},
   "source": [
    "## Problem Description\n",
    "We are going to start with a simple problem. We will use MNIST dataset which is a collection of hand-written digits as 28x28 pixel images. We are going to use autoencoder to compress each image into only two values and then reconstruct the image. When the model is trained we will have a look at the reconstructed images as well as latent space values."
   ]
  },
  {
   "cell_type": "markdown",
   "metadata": {},
   "source": [
    "## Dataset and dataloader\n",
    "\n",
    "First we need to create a `Dataset` class. The `Dataset` class reads the data from file and returns data points when we need them. The advantage of using a `Dataset` is that we can adjust it based on what we need for each problem. If we are not dealing with large amount of data we can decide to keep everything in RAM so it is ready use. But if we are dealing with a few gigabytes of data we might need to open the file only when we need them.<br>\n",
    "The MNIST data set is not large so we can easily fit it into memory. In the `Dataset` class we define a few methods:\n",
    "- `__init__`: What information is required to create the object and how this information is saved.\n",
    "- `__len__`: Returns the number of data points (images) when we use `len()` function.\n",
    "- `__getitem__`: We can define how indexing would work for this class.\n",
    "\n",
    "We are going to define a couple of custom functions for convinience:\n",
    "- `show`: to see the image.\n",
    "- `sample`: which returns a random sample of the data."
   ]
  },
  {
   "cell_type": "code",
   "execution_count": 2,
   "metadata": {
    "ExecuteTime": {
     "end_time": "2020-10-12T06:37:25.828473Z",
     "start_time": "2020-10-12T06:37:25.818203Z"
    }
   },
   "outputs": [],
   "source": [
    "path = Path(\"../../data/processed/MNIST/\")\n",
    "\n",
    "\n",
    "class DigitsDataset(Dataset):\n",
    "    def __init__(self, path, transform=None):\n",
    "\n",
    "        self.root_dir = Path(path)\n",
    "        self.transform = transform\n",
    "        data = pd.read_csv(path)\n",
    "        if \"label\" in data.columns:\n",
    "            self.x = data.drop(columns=[\"label\"]).values\n",
    "            self.y = data[\"label\"].values\n",
    "        else:\n",
    "            self.x = data.values\n",
    "\n",
    "    def __len__(self):\n",
    "        return len(self.x)\n",
    "\n",
    "    def __getitem__(self, idx):\n",
    "        if torch.is_tensor(idx):\n",
    "            idx = idx.tolist()\n",
    "\n",
    "        output = self.x[idx] / 255\n",
    "        if self.transform:\n",
    "            output = self.transform(output)\n",
    "        return output\n",
    "\n",
    "    def show(self, idx):\n",
    "#         plt.figure(figsize=(2, 2))\n",
    "        plt.imshow(self.x[idx].reshape((28, 28)), \"gray\")\n",
    "\n",
    "    def sample(self, n):\n",
    "        idx = np.random.randint(0, len(self), n)\n",
    "        return self[idx]\n",
    "\n",
    "\n",
    "class ToTensor(object):\n",
    "    def __call__(self, data):\n",
    "        return torch.FloatTensor(data)"
   ]
  },
  {
   "cell_type": "markdown",
   "metadata": {},
   "source": [
    "__Note:__ We also defined a class called `ToTensor`. This class takes an input and converts it to pytorch tensor. "
   ]
  },
  {
   "cell_type": "markdown",
   "metadata": {},
   "source": [
    "Now that we have a `Dataset` class, we can create a training and test dataset."
   ]
  },
  {
   "cell_type": "code",
   "execution_count": 3,
   "metadata": {
    "ExecuteTime": {
     "end_time": "2020-10-12T06:37:31.457047Z",
     "start_time": "2020-10-12T06:37:25.831089Z"
    }
   },
   "outputs": [
    {
     "data": {
      "text/plain": [
       "<__main__.DigitsDataset at 0x7f52142ce390>"
      ]
     },
     "execution_count": 3,
     "metadata": {},
     "output_type": "execute_result"
    }
   ],
   "source": [
    "ds_train = DigitsDataset(path / \"train.csv\", transform=ToTensor())\n",
    "ds_test = DigitsDataset(path / \"test.csv\", transform=ToTensor())\n",
    "ds_train"
   ]
  },
  {
   "cell_type": "code",
   "execution_count": 4,
   "metadata": {
    "ExecuteTime": {
     "end_time": "2020-10-12T06:37:32.349527Z",
     "start_time": "2020-10-12T06:37:31.459489Z"
    },
    "scrolled": true
   },
   "outputs": [
    {
     "data": {
      "image/png": "[encoded data removed]",
      "text/plain": [
       "<Figure size 432x288 with 16 Axes>"
      ]
     },
     "metadata": {},
     "output_type": "display_data"
    }
   ],
   "source": [
    "for i in range(4):\n",
    "    for j in range(4):\n",
    "        plt.subplot(4, 4, 1+i*4+j)\n",
    "        ds_train.show(i*4+j)\n",
    "        plt.xticks([])\n",
    "        plt.yticks([])\n",
    "plt.show()\n",
    "    "
   ]
  },
  {
   "cell_type": "code",
   "execution_count": 5,
   "metadata": {
    "ExecuteTime": {
     "end_time": "2020-10-12T06:37:32.378943Z",
     "start_time": "2020-10-12T06:37:32.352080Z"
    }
   },
   "outputs": [
    {
     "data": {
      "text/plain": [
       "torch.Size([784])"
      ]
     },
     "execution_count": 5,
     "metadata": {},
     "output_type": "execute_result"
    }
   ],
   "source": [
    "# Both of these are the same\n",
    "ds_train.__getitem__(1).shape\n",
    "ds_train[1].shape"
   ]
  },
  {
   "cell_type": "markdown",
   "metadata": {},
   "source": [
    "Next step is to create a data loaders. The training process takes place at multiple steps. At each step, we choose a few images and feed them to the model. Then we calculate the loss value based on the output. Using the loss value we update the values in the model. We do this over and over until when we think the model is trained. Each of these steps are called a mini-batch and the number of images passed in at each mini-batch is called batch size. Dataloader's job is to go to the dataset and grab a mini-batch of images for training. To create a Dataloader we use a pytorch dataloder object."
   ]
  },
  {
   "cell_type": "code",
   "execution_count": 6,
   "metadata": {
    "ExecuteTime": {
     "end_time": "2020-10-12T06:37:32.389720Z",
     "start_time": "2020-10-12T06:37:32.381486Z"
    }
   },
   "outputs": [
    {
     "data": {
      "text/plain": [
       "<torch.utils.data.dataloader.DataLoader at 0x7f519ad77e50>"
      ]
     },
     "execution_count": 6,
     "metadata": {},
     "output_type": "execute_result"
    }
   ],
   "source": [
    "batch_size = 64\n",
    "train_loader = torch.utils.data.DataLoader(\n",
    "    ds_train, batch_size=batch_size, shuffle=True\n",
    ")\n",
    "test_loader = torch.utils.data.DataLoader(ds_test, batch_size=batch_size, shuffle=False)\n",
    "test_loader"
   ]
  },
  {
   "cell_type": "markdown",
   "metadata": {},
   "source": [
    "__Note:__ Shuffle tells the data loader whether the data needs to be shuffled at the end of each epoch. We do it for training to keep the input random. But we don't need to do it for testing since we only use the test dataset for evaluation."
   ]
  },
  {
   "cell_type": "markdown",
   "metadata": {},
   "source": [
    "## Model definition\n",
    "\n",
    "Now we need to create the model. The architecture we are going to use here is made of two linear layers for the encoder and two linear layers for the decoder."
   ]
  },
  {
   "cell_type": "code",
   "execution_count": 7,
   "metadata": {
    "ExecuteTime": {
     "end_time": "2020-10-12T06:37:32.412786Z",
     "start_time": "2020-10-12T06:37:32.391804Z"
    }
   },
   "outputs": [],
   "source": [
    "class AE(nn.Module):\n",
    "    def __init__(self):\n",
    "        super(AE, self).__init__()\n",
    "        \n",
    "        self.encoder = nn.Sequential(\n",
    "            nn.Linear(784, 400),\n",
    "            nn.ReLU(inplace=True),\n",
    "            nn.Linear(400, 2)\n",
    "        )\n",
    "        self.decoder = nn.Sequential(\n",
    "            nn.Linear(2, 400),\n",
    "            nn.ReLU(inplace=True),\n",
    "            nn.Linear(400, 784),\n",
    "            nn.Sigmoid()\n",
    "        )\n",
    "    def encode(self, x):\n",
    "        return self.encoder(x)\n",
    "\n",
    "    def decode(self, z):\n",
    "        return self.decoder(z)\n",
    "\n",
    "    def forward(self, x):\n",
    "        z = self.encode(x.view(-1, 784))\n",
    "        return self.decode(z)"
   ]
  },
  {
   "cell_type": "markdown",
   "metadata": {},
   "source": [
    "If we have access to GPU, let's make sure we are using it."
   ]
  },
  {
   "cell_type": "code",
   "execution_count": 8,
   "metadata": {
    "ExecuteTime": {
     "end_time": "2020-10-12T06:37:32.453091Z",
     "start_time": "2020-10-12T06:37:32.417932Z"
    }
   },
   "outputs": [
    {
     "data": {
      "text/plain": [
       "device(type='cuda')"
      ]
     },
     "execution_count": 8,
     "metadata": {},
     "output_type": "execute_result"
    }
   ],
   "source": [
    "device = torch.device(\"cuda\" if torch.cuda.is_available() else \"cpu\")\n",
    "device"
   ]
  },
  {
   "cell_type": "markdown",
   "metadata": {},
   "source": [
    "Now we create an instance of the model."
   ]
  },
  {
   "cell_type": "code",
   "execution_count": 9,
   "metadata": {
    "ExecuteTime": {
     "end_time": "2020-10-12T06:37:35.338050Z",
     "start_time": "2020-10-12T06:37:32.456493Z"
    }
   },
   "outputs": [
    {
     "data": {
      "text/plain": [
       "AE(\n",
       "  (encoder): Sequential(\n",
       "    (0): Linear(in_features=784, out_features=400, bias=True)\n",
       "    (1): ReLU(inplace=True)\n",
       "    (2): Linear(in_features=400, out_features=2, bias=True)\n",
       "  )\n",
       "  (decoder): Sequential(\n",
       "    (0): Linear(in_features=2, out_features=400, bias=True)\n",
       "    (1): ReLU(inplace=True)\n",
       "    (2): Linear(in_features=400, out_features=784, bias=True)\n",
       "    (3): Sigmoid()\n",
       "  )\n",
       ")"
      ]
     },
     "execution_count": 9,
     "metadata": {},
     "output_type": "execute_result"
    }
   ],
   "source": [
    "model = AE().to(device)\n",
    "model"
   ]
  },
  {
   "cell_type": "code",
   "execution_count": 10,
   "metadata": {
    "ExecuteTime": {
     "end_time": "2020-10-12T06:37:35.727602Z",
     "start_time": "2020-10-12T06:37:35.340324Z"
    }
   },
   "outputs": [
    {
     "name": "stdout",
     "output_type": "stream",
     "text": [
      "==================================================================\n",
      "                    Kernel Shape Output Shape    Params Mult-Adds\n",
      "Layer                                                            \n",
      "0_encoder.Linear_0    [784, 400]     [2, 400]    314.0k    313.6k\n",
      "1_encoder.ReLU_1               -     [2, 400]         -         -\n",
      "2_encoder.Linear_2      [400, 2]       [2, 2]     802.0     800.0\n",
      "3_decoder.Linear_0      [2, 400]     [2, 400]      1.2k     800.0\n",
      "4_decoder.ReLU_1               -     [2, 400]         -         -\n",
      "5_decoder.Linear_2    [400, 784]     [2, 784]  314.384k    313.6k\n",
      "6_decoder.Sigmoid_3            -     [2, 784]         -         -\n",
      "------------------------------------------------------------------\n",
      "                        Totals\n",
      "Total params          630.386k\n",
      "Trainable params      630.386k\n",
      "Non-trainable params       0.0\n",
      "Mult-Adds               628.8k\n",
      "==================================================================\n"
     ]
    },
    {
     "data": {
      "text/plain": [
       "1"
      ]
     },
     "execution_count": 10,
     "metadata": {},
     "output_type": "execute_result"
    }
   ],
   "source": [
    "# Let use torchsummary X to see the size of the model\n",
    "x=torch.rand((1, 784)).to(device)\n",
    "summary(model, torch.rand((2, 784)).to(device))\n",
    "1"
   ]
  },
  {
   "cell_type": "markdown",
   "metadata": {},
   "source": [
    "We also need to choose an optimiser. The optimiser use the loss value and it's gradients with respect to model parameters and tells us how much each value must be adjusted to have a better model."
   ]
  },
  {
   "cell_type": "code",
   "execution_count": 11,
   "metadata": {
    "ExecuteTime": {
     "end_time": "2020-10-12T06:37:35.734064Z",
     "start_time": "2020-10-12T06:37:35.730003Z"
    }
   },
   "outputs": [],
   "source": [
    "optimizer = optim.Adam(model.parameters(), lr=1e-3)"
   ]
  },
  {
   "cell_type": "markdown",
   "metadata": {},
   "source": [
    "And the final component is the loss function. Here we are going to use Binary Cross Entropy function because each pixel can go from zero to one."
   ]
  },
  {
   "cell_type": "code",
   "execution_count": 12,
   "metadata": {
    "ExecuteTime": {
     "end_time": "2020-10-12T06:37:35.743168Z",
     "start_time": "2020-10-12T06:37:35.737127Z"
    }
   },
   "outputs": [],
   "source": [
    "def loss_bce(recon_x, x):\n",
    "    BCE = F.binary_cross_entropy(recon_x, x.view(-1, 784), reduction=\"sum\")\n",
    "    return BCE"
   ]
  },
  {
   "cell_type": "markdown",
   "metadata": {},
   "source": [
    "Let's define two functions one for executing a single epoch of training and one for evaluating the mdel using test data.<br>\n",
    "Notice the following comments in the training loop"
   ]
  },
  {
   "cell_type": "code",
   "execution_count": 13,
   "metadata": {
    "ExecuteTime": {
     "end_time": "2020-10-12T06:37:35.758604Z",
     "start_time": "2020-10-12T06:37:35.745614Z"
    }
   },
   "outputs": [],
   "source": [
    "def train(epoch, loss_function, log_interval=50):\n",
    "    model.train()\n",
    "    train_loss = 0\n",
    "    for batch_idx, data in enumerate(tqdm(train_loader, leave=False, desc='train')):\n",
    "        # We make sure the data is in the right device (cpu or gpu)\n",
    "        data = data.to(device)\n",
    "        \n",
    "        # We make sure that any saved gradient (derivative) is zeroed.\n",
    "        optimizer.zero_grad()\n",
    "        \n",
    "        # We pass a mini-batch of data into the model and grab the predictions.\n",
    "        recon_batch = model(data)\n",
    "        \n",
    "        # We use the loss function to find out how close the model's output is to the actual image.\n",
    "        loss = loss_function(recon_batch, data)\n",
    "        \n",
    "        # We use loss.backward() to calculate the derivative of loss with respect to model parameters.\n",
    "        loss.backward()\n",
    "        \n",
    "        # We ask the optimiser to update model's parameters.\n",
    "        optimizer.step()\n",
    "        \n",
    "        train_loss += loss.item()\n",
    "        if batch_idx % log_interval == 0:\n",
    "            pct = 100.0 * batch_idx / len(train_loader)\n",
    "            l = loss.item() / len(data)\n",
    "            print(\n",
    "                '#{} [{}/{} ({:.0f}%)]\\t Batch Loss: {:.6f}  '.format(epoch, batch_idx * len(data), len(train_loader.dataset), pct, l),\n",
    "                end=\"\\r\",\n",
    "                flush=True,\n",
    "            )\n",
    "    print('#{} Train loss: {:.4f}\\t'.format(epoch, train_loss / len(train_loader.dataset)))\n",
    "\n",
    "\n",
    "def test(epoch, loss_function, log_interval=50):\n",
    "    model.eval()\n",
    "    test_loss = 0\n",
    "    with torch.no_grad():\n",
    "        for i, data in enumerate(tqdm(test_loader, leave=False, desc='test')):\n",
    "            data = data.to(device)\n",
    "            recon_batch = model(data)\n",
    "            test_loss += loss_function(recon_batch, data).item()\n",
    "\n",
    "    test_loss /= len(test_loader.dataset)\n",
    "    print('#{} Test loss: {:.4f}'.format(epoch, test_loss))"
   ]
  },
  {
   "cell_type": "code",
   "execution_count": 14,
   "metadata": {
    "ExecuteTime": {
     "end_time": "2020-10-12T06:37:36.091253Z",
     "start_time": "2020-10-12T06:37:35.761085Z"
    }
   },
   "outputs": [
    {
     "data": {
      "image/png": "[encoded data removed]",
      "text/plain": [
       "<Figure size 288x144 with 2 Axes>"
      ]
     },
     "metadata": {
      "needs_background": "light"
     },
     "output_type": "display_data"
    }
   ],
   "source": [
    "def cvt2image(tensor):\n",
    "    return tensor.detach().cpu().numpy().reshape(28, 28)\n",
    "\n",
    "def show_prediction(idx, title='', ds=ds_train):\n",
    "    \"\"\"Show a predict vs actual\"\"\"\n",
    "    model.eval()\n",
    "    original = ds[[idx]]\n",
    "    result = model(original.to(device))\n",
    "    img = cvt2image(result[0])\n",
    "    \n",
    "    plt.figure(figsize=(4, 2))\n",
    "    plt.subplot(1, 2, 1)\n",
    "    plt.imshow(img, \"gray\")\n",
    "    plt.title(\"Predicted\")\n",
    "\n",
    "    plt.subplot(1, 2, 2)\n",
    "    ds.show(idx)\n",
    "    plt.title(\"Actual\")\n",
    "    \n",
    "    plt.suptitle(title)\n",
    "    plt.show()\n",
    "    \n",
    "show_prediction(10, '0')"
   ]
  },
  {
   "cell_type": "markdown",
   "metadata": {},
   "source": [
    "Now that all the components are ready, let's train the model for $10$ epochs."
   ]
  },
  {
   "cell_type": "code",
   "execution_count": 15,
   "metadata": {
    "ExecuteTime": {
     "end_time": "2020-10-12T06:39:03.510640Z",
     "start_time": "2020-10-12T06:37:36.093311Z"
    }
   },
   "outputs": [
    {
     "data": {
      "application/vnd.jupyter.widget-view+json": {
       "model_id": "e30b75eeec074474870b766c7a220d3e",
       "version_major": 2,
       "version_minor": 0
      },
      "text/plain": [
       "HBox(children=(FloatProgress(value=0.0, max=10.0), HTML(value='')))"
      ]
     },
     "metadata": {},
     "output_type": "display_data"
    },
    {
     "data": {
      "image/png": "[encoded data removed]",
      "text/plain": [
       "<Figure size 288x144 with 2 Axes>"
      ]
     },
     "metadata": {
      "needs_background": "light"
     },
     "output_type": "display_data"
    },
    {
     "data": {
      "application/vnd.jupyter.widget-view+json": {
       "model_id": "",
       "version_major": 2,
       "version_minor": 0
      },
      "text/plain": [
       "HBox(children=(FloatProgress(value=0.0, description='train', max=657.0, style=ProgressStyle(description_width=…"
      ]
     },
     "metadata": {},
     "output_type": "display_data"
    },
    {
     "name": "stdout",
     "output_type": "stream",
     "text": [
      "#1 Train loss: 178.2493\tBatch Loss: 173.468216  \n"
     ]
    },
    {
     "data": {
      "application/vnd.jupyter.widget-view+json": {
       "model_id": "",
       "version_major": 2,
       "version_minor": 0
      },
      "text/plain": [
       "HBox(children=(FloatProgress(value=0.0, description='test', max=438.0, style=ProgressStyle(description_width='…"
      ]
     },
     "metadata": {},
     "output_type": "display_data"
    },
    {
     "name": "stdout",
     "output_type": "stream",
     "text": [
      "#1 Test loss: 163.5345\n"
     ]
    },
    {
     "data": {
      "image/png": "[encoded data removed]",
      "text/plain": [
       "<Figure size 288x144 with 2 Axes>"
      ]
     },
     "metadata": {
      "needs_background": "light"
     },
     "output_type": "display_data"
    },
    {
     "data": {
      "application/vnd.jupyter.widget-view+json": {
       "model_id": "",
       "version_major": 2,
       "version_minor": 0
      },
      "text/plain": [
       "HBox(children=(FloatProgress(value=0.0, description='train', max=657.0, style=ProgressStyle(description_width=…"
      ]
     },
     "metadata": {},
     "output_type": "display_data"
    },
    {
     "name": "stdout",
     "output_type": "stream",
     "text": [
      "#2 Train loss: 160.2049\tBatch Loss: 162.289246  \n"
     ]
    },
    {
     "data": {
      "application/vnd.jupyter.widget-view+json": {
       "model_id": "",
       "version_major": 2,
       "version_minor": 0
      },
      "text/plain": [
       "HBox(children=(FloatProgress(value=0.0, description='test', max=438.0, style=ProgressStyle(description_width='…"
      ]
     },
     "metadata": {},
     "output_type": "display_data"
    },
    {
     "name": "stdout",
     "output_type": "stream",
     "text": [
      "#2 Test loss: 157.5076\n"
     ]
    },
    {
     "data": {
      "image/png": "[encoded data removed]",
      "text/plain": [
       "<Figure size 288x144 with 2 Axes>"
      ]
     },
     "metadata": {
      "needs_background": "light"
     },
     "output_type": "display_data"
    },
    {
     "data": {
      "application/vnd.jupyter.widget-view+json": {
       "model_id": "",
       "version_major": 2,
       "version_minor": 0
      },
      "text/plain": [
       "HBox(children=(FloatProgress(value=0.0, description='train', max=657.0, style=ProgressStyle(description_width=…"
      ]
     },
     "metadata": {},
     "output_type": "display_data"
    },
    {
     "name": "stdout",
     "output_type": "stream",
     "text": [
      "#3 Train loss: 155.8522\tBatch Loss: 160.536362  \n"
     ]
    },
    {
     "data": {
      "application/vnd.jupyter.widget-view+json": {
       "model_id": "",
       "version_major": 2,
       "version_minor": 0
      },
      "text/plain": [
       "HBox(children=(FloatProgress(value=0.0, description='test', max=438.0, style=ProgressStyle(description_width='…"
      ]
     },
     "metadata": {},
     "output_type": "display_data"
    },
    {
     "name": "stdout",
     "output_type": "stream",
     "text": [
      "#3 Test loss: 154.9373\n"
     ]
    },
    {
     "data": {
      "image/png": "[encoded data removed]",
      "text/plain": [
       "<Figure size 288x144 with 2 Axes>"
      ]
     },
     "metadata": {
      "needs_background": "light"
     },
     "output_type": "display_data"
    },
    {
     "data": {
      "application/vnd.jupyter.widget-view+json": {
       "model_id": "",
       "version_major": 2,
       "version_minor": 0
      },
      "text/plain": [
       "HBox(children=(FloatProgress(value=0.0, description='train', max=657.0, style=ProgressStyle(description_width=…"
      ]
     },
     "metadata": {},
     "output_type": "display_data"
    },
    {
     "name": "stdout",
     "output_type": "stream",
     "text": [
      "#4 Train loss: 153.3094\tBatch Loss: 129.708893  \n"
     ]
    },
    {
     "data": {
      "application/vnd.jupyter.widget-view+json": {
       "model_id": "",
       "version_major": 2,
       "version_minor": 0
      },
      "text/plain": [
       "HBox(children=(FloatProgress(value=0.0, description='test', max=438.0, style=ProgressStyle(description_width='…"
      ]
     },
     "metadata": {},
     "output_type": "display_data"
    },
    {
     "name": "stdout",
     "output_type": "stream",
     "text": [
      "#4 Test loss: 152.7504\n"
     ]
    },
    {
     "data": {
      "image/png": "[encoded data removed]",
      "text/plain": [
       "<Figure size 288x144 with 2 Axes>"
      ]
     },
     "metadata": {
      "needs_background": "light"
     },
     "output_type": "display_data"
    },
    {
     "data": {
      "application/vnd.jupyter.widget-view+json": {
       "model_id": "",
       "version_major": 2,
       "version_minor": 0
      },
      "text/plain": [
       "HBox(children=(FloatProgress(value=0.0, description='train', max=657.0, style=ProgressStyle(description_width=…"
      ]
     },
     "metadata": {},
     "output_type": "display_data"
    },
    {
     "name": "stdout",
     "output_type": "stream",
     "text": [
      "#5 Train loss: 151.4798\tBatch Loss: 155.446121  \n"
     ]
    },
    {
     "data": {
      "application/vnd.jupyter.widget-view+json": {
       "model_id": "",
       "version_major": 2,
       "version_minor": 0
      },
      "text/plain": [
       "HBox(children=(FloatProgress(value=0.0, description='test', max=438.0, style=ProgressStyle(description_width='…"
      ]
     },
     "metadata": {},
     "output_type": "display_data"
    },
    {
     "name": "stdout",
     "output_type": "stream",
     "text": [
      "#5 Test loss: 151.0343\n"
     ]
    },
    {
     "data": {
      "image/png": "[encoded data removed]",
      "text/plain": [
       "<Figure size 288x144 with 2 Axes>"
      ]
     },
     "metadata": {
      "needs_background": "light"
     },
     "output_type": "display_data"
    },
    {
     "data": {
      "application/vnd.jupyter.widget-view+json": {
       "model_id": "",
       "version_major": 2,
       "version_minor": 0
      },
      "text/plain": [
       "HBox(children=(FloatProgress(value=0.0, description='train', max=657.0, style=ProgressStyle(description_width=…"
      ]
     },
     "metadata": {},
     "output_type": "display_data"
    },
    {
     "name": "stdout",
     "output_type": "stream",
     "text": [
      "#6 Train loss: 150.1137\tBatch Loss: 152.872360  \n"
     ]
    },
    {
     "data": {
      "application/vnd.jupyter.widget-view+json": {
       "model_id": "",
       "version_major": 2,
       "version_minor": 0
      },
      "text/plain": [
       "HBox(children=(FloatProgress(value=0.0, description='test', max=438.0, style=ProgressStyle(description_width='…"
      ]
     },
     "metadata": {},
     "output_type": "display_data"
    },
    {
     "name": "stdout",
     "output_type": "stream",
     "text": [
      "#6 Test loss: 149.7643\n"
     ]
    },
    {
     "data": {
      "image/png": "[encoded data removed]",
      "text/plain": [
       "<Figure size 288x144 with 2 Axes>"
      ]
     },
     "metadata": {
      "needs_background": "light"
     },
     "output_type": "display_data"
    },
    {
     "data": {
      "application/vnd.jupyter.widget-view+json": {
       "model_id": "",
       "version_major": 2,
       "version_minor": 0
      },
      "text/plain": [
       "HBox(children=(FloatProgress(value=0.0, description='train', max=657.0, style=ProgressStyle(description_width=…"
      ]
     },
     "metadata": {},
     "output_type": "display_data"
    },
    {
     "name": "stdout",
     "output_type": "stream",
     "text": [
      "#7 Train loss: 149.0917\tBatch Loss: 144.135498  \n"
     ]
    },
    {
     "data": {
      "application/vnd.jupyter.widget-view+json": {
       "model_id": "",
       "version_major": 2,
       "version_minor": 0
      },
      "text/plain": [
       "HBox(children=(FloatProgress(value=0.0, description='test', max=438.0, style=ProgressStyle(description_width='…"
      ]
     },
     "metadata": {},
     "output_type": "display_data"
    },
    {
     "name": "stdout",
     "output_type": "stream",
     "text": [
      "#7 Test loss: 148.8236\n"
     ]
    },
    {
     "data": {
      "image/png": "[encoded data removed]",
      "text/plain": [
       "<Figure size 288x144 with 2 Axes>"
      ]
     },
     "metadata": {
      "needs_background": "light"
     },
     "output_type": "display_data"
    },
    {
     "data": {
      "application/vnd.jupyter.widget-view+json": {
       "model_id": "",
       "version_major": 2,
       "version_minor": 0
      },
      "text/plain": [
       "HBox(children=(FloatProgress(value=0.0, description='train', max=657.0, style=ProgressStyle(description_width=…"
      ]
     },
     "metadata": {},
     "output_type": "display_data"
    },
    {
     "name": "stdout",
     "output_type": "stream",
     "text": [
      "#8 Train loss: 148.1586\tBatch Loss: 162.126541  \n"
     ]
    },
    {
     "data": {
      "application/vnd.jupyter.widget-view+json": {
       "model_id": "",
       "version_major": 2,
       "version_minor": 0
      },
      "text/plain": [
       "HBox(children=(FloatProgress(value=0.0, description='test', max=438.0, style=ProgressStyle(description_width='…"
      ]
     },
     "metadata": {},
     "output_type": "display_data"
    },
    {
     "name": "stdout",
     "output_type": "stream",
     "text": [
      "#8 Test loss: 148.6431\n"
     ]
    },
    {
     "data": {
      "image/png": "[encoded data removed]",
      "text/plain": [
       "<Figure size 288x144 with 2 Axes>"
      ]
     },
     "metadata": {
      "needs_background": "light"
     },
     "output_type": "display_data"
    },
    {
     "data": {
      "application/vnd.jupyter.widget-view+json": {
       "model_id": "",
       "version_major": 2,
       "version_minor": 0
      },
      "text/plain": [
       "HBox(children=(FloatProgress(value=0.0, description='train', max=657.0, style=ProgressStyle(description_width=…"
      ]
     },
     "metadata": {},
     "output_type": "display_data"
    },
    {
     "name": "stdout",
     "output_type": "stream",
     "text": [
      "#9 Train loss: 147.3867\tBatch Loss: 149.165192  \n"
     ]
    },
    {
     "data": {
      "application/vnd.jupyter.widget-view+json": {
       "model_id": "",
       "version_major": 2,
       "version_minor": 0
      },
      "text/plain": [
       "HBox(children=(FloatProgress(value=0.0, description='test', max=438.0, style=ProgressStyle(description_width='…"
      ]
     },
     "metadata": {},
     "output_type": "display_data"
    },
    {
     "name": "stdout",
     "output_type": "stream",
     "text": [
      "#9 Test loss: 148.0795\n"
     ]
    },
    {
     "data": {
      "image/png": "[encoded data removed]",
      "text/plain": [
       "<Figure size 288x144 with 2 Axes>"
      ]
     },
     "metadata": {
      "needs_background": "light"
     },
     "output_type": "display_data"
    },
    {
     "data": {
      "application/vnd.jupyter.widget-view+json": {
       "model_id": "",
       "version_major": 2,
       "version_minor": 0
      },
      "text/plain": [
       "HBox(children=(FloatProgress(value=0.0, description='train', max=657.0, style=ProgressStyle(description_width=…"
      ]
     },
     "metadata": {},
     "output_type": "display_data"
    },
    {
     "name": "stdout",
     "output_type": "stream",
     "text": [
      "#10 Train loss: 146.6183\tBatch Loss: 151.356247  \n"
     ]
    },
    {
     "data": {
      "application/vnd.jupyter.widget-view+json": {
       "model_id": "",
       "version_major": 2,
       "version_minor": 0
      },
      "text/plain": [
       "HBox(children=(FloatProgress(value=0.0, description='test', max=438.0, style=ProgressStyle(description_width='…"
      ]
     },
     "metadata": {},
     "output_type": "display_data"
    },
    {
     "name": "stdout",
     "output_type": "stream",
     "text": [
      "#10 Test loss: 146.9857\n",
      "\n"
     ]
    },
    {
     "data": {
      "image/png": "[encoded data removed]",
      "text/plain": [
       "<Figure size 288x144 with 2 Axes>"
      ]
     },
     "metadata": {
      "needs_background": "light"
     },
     "output_type": "display_data"
    }
   ],
   "source": [
    "epochs = 10\n",
    "for epoch in tqdm(range(1, epochs + 1)):\n",
    "    show_prediction(10, title=f\"epoch={epoch}\")\n",
    "    train(epoch, loss_bce)\n",
    "    test(epoch, loss_bce)\n",
    "show_prediction(10, title=f\"epoch={epoch}\")"
   ]
  },
  {
   "cell_type": "markdown",
   "metadata": {},
   "source": [
    "## Results\n",
    "Now let's check out the model."
   ]
  },
  {
   "cell_type": "code",
   "execution_count": 16,
   "metadata": {
    "ExecuteTime": {
     "end_time": "2020-10-12T06:39:03.754044Z",
     "start_time": "2020-10-12T06:39:03.512427Z"
    }
   },
   "outputs": [
    {
     "data": {
      "image/png": "[encoded data removed]",
      "text/plain": [
       "<Figure size 288x144 with 2 Axes>"
      ]
     },
     "metadata": {
      "needs_background": "light"
     },
     "output_type": "display_data"
    }
   ],
   "source": [
    "# Generate a random integer\n",
    "idx = np.random.randint(0, len(ds_test))\n",
    "# show this row of the data\n",
    "show_prediction(idx)"
   ]
  },
  {
   "cell_type": "markdown",
   "metadata": {},
   "source": [
    "<font color='blue' size='4rem'>Run the cell above a few times and compare the predicted and actual images.</font>"
   ]
  },
  {
   "cell_type": "markdown",
   "metadata": {},
   "source": [
    "## Latent space"
   ]
  },
  {
   "cell_type": "markdown",
   "metadata": {},
   "source": [
    "There are certainly some similarities but the predicted (reconstructed) images are not always very clear. We will shortly discuss how we can improve the model. But before that, let's have look at the latent space. The model is converting every image which has 784 values (28x28 pixels) to only 2 values. \n",
    "\n",
    "Those 2 values are the latent space. We can plot them for a few numbers (see below).\n",
    "\n",
    "We can also traverse the latent space and see how the reconstructed image changes in meaningfull ways. This is a usefull property and means the model has learnt how to vary images."
   ]
  },
  {
   "cell_type": "code",
   "execution_count": null,
   "metadata": {
    "ExecuteTime": {
     "end_time": "2020-10-12T06:15:54.893417Z",
     "start_time": "2020-10-12T06:15:54.867697Z"
    }
   },
   "outputs": [],
   "source": []
  },
  {
   "cell_type": "code",
   "execution_count": 17,
   "metadata": {
    "ExecuteTime": {
     "end_time": "2020-10-12T06:39:03.773776Z",
     "start_time": "2020-10-12T06:39:03.756375Z"
    }
   },
   "outputs": [],
   "source": [
    "# Scatter plot\n",
    "\n",
    "def traverse(ds=ds_train, model=model, y=3, xmin=-5, xmax=5):\n",
    "    res = model.encode(ds_train[:1000].to(device))\n",
    "    if isinstance(res, Normal):\n",
    "        res = res.loc\n",
    "    res = res.detach().cpu().numpy()\n",
    "    res.shape\n",
    "\n",
    "    for i in range(10):\n",
    "        idx = ds.y[:1000] == i\n",
    "        plt.scatter(res[idx, 0], res[idx, 1], label=i)\n",
    "    plt.title('the latent space')\n",
    "    plt.xlabel('latent variable 1')\n",
    "    plt.ylabel('latent variable 2')\n",
    "\n",
    "    # change these numbers, to change where we travel\n",
    "    y=3\n",
    "    xmin=-5\n",
    "    xmax=5\n",
    "\n",
    "    plt.hlines(y, xmin, xmax, color='r', lw=2, label='traversal')\n",
    "    plt.legend()\n",
    "    plt.show()\n",
    "\n",
    "    # Do out traversal\n",
    "    plt.figure(figsize=(12, 12))\n",
    "    n_steps = 10\n",
    "    xs = np.linspace(xmin, xmax, n_steps)\n",
    "    for xi, x in enumerate(xs):\n",
    "        # Decode image at x,y\n",
    "        z = torch.tensor([x, y])[None :].float().to(device)\n",
    "        img = model.decode(z).cpu().detach().numpy()\n",
    "        img = (img.reshape((28, 28)) * 255).astype(np.uint8)\n",
    "        \n",
    "        # plot an image at x, y\n",
    "        plt.subplot(1, n_steps, xi+1)\n",
    "        plt.imshow(img, cmap='gray')\n",
    "        plt.title(f'{x:2.1f}, {y:2.1f}')\n",
    "        plt.xticks([])\n",
    "        plt.yticks([])"
   ]
  },
  {
   "cell_type": "code",
   "execution_count": 18,
   "metadata": {
    "ExecuteTime": {
     "end_time": "2020-10-12T06:39:04.944917Z",
     "start_time": "2020-10-12T06:39:03.776116Z"
    }
   },
   "outputs": [
    {
     "data": {
      "image/png": "[encoded data removed]",
      "text/plain": [
       "<Figure size 432x288 with 1 Axes>"
      ]
     },
     "metadata": {
      "needs_background": "light"
     },
     "output_type": "display_data"
    },
    {
     "data": {
      "image/png": "[encoded data removed]",
      "text/plain": [
       "<Figure size 864x864 with 10 Axes>"
      ]
     },
     "metadata": {},
     "output_type": "display_data"
    }
   ],
   "source": [
    "traverse(model=model, y=3, xmin=-5, xmax=5)"
   ]
  },
  {
   "cell_type": "markdown",
   "metadata": {},
   "source": [
    "Each color represents a number. Despite most numbers overlapping, we can still see some distictions, for instance between $1$ and other numbers. "
   ]
  },
  {
   "cell_type": "markdown",
   "metadata": {},
   "source": [
    "## Improving the model\n",
    "\n",
    "Obviously the model that we trained needs improvement as it is not recreating the images well enough. \n",
    "\n",
    "There are a few ways we can improve the model. One way is to create a deeper encoder and decoder. In the example above we used only two layers for encoder and layers for decoder. This doesn't allow the model to comprehend complex relationships, especially in this scenario since we are working with images. By adding more layers we can give the model the opportunity to better differentiate between digits.\n",
    "\n",
    "Another way of making the model is using more dimensions in latent space. For instance, if instead of compressing each image into two values we could use ten values. This will allow the model to extract more features from the input which will make reconstructing the image easier. However, it must be noted that whole point of using autoencoder is to force the model to compress the information into as few dimensions as possible."
   ]
  },
  {
   "cell_type": "markdown",
   "metadata": {},
   "source": [
    "# Variational Autoencoders\n",
    "Variational Autoencoders (VAE) are one of the variations of autoencoders. Unlike normal autoencoders which compress the data into a few values, VAEs tries to find the distribution of the data in latent space. As a result, the final model not only has the ability to recreate the input, but can also generate new outputs by sampling from the latent space distribution."
   ]
  },
  {
   "cell_type": "markdown",
   "metadata": {},
   "source": [
    "Since VAE is a variation of autoencoder, it has a similar architecture. The main difference between the two is an additional layer between encoder and decoder which samples from latent space distribution.\n",
    "In a VAE, the encoder generates two values for each parameter in latent space. One represent the mean and one represents the standard deviation of the parameter. Then sampling layer uses these two numbers and generates random values from the same distribution. These values then are fed to decoder which will create an output similar to the input."
   ]
  },
  {
   "cell_type": "markdown",
   "metadata": {},
   "source": [
    "## Model definition: VAE"
   ]
  },
  {
   "cell_type": "markdown",
   "metadata": {},
   "source": [
    "Let's create a VAE model. We will use layers with the same size as the previous model. Notice for the second layer we have two linear layers, one to generate the mean and one to generate the log of variance which will be converted into standard deviation."
   ]
  },
  {
   "cell_type": "code",
   "execution_count": 19,
   "metadata": {
    "ExecuteTime": {
     "end_time": "2020-10-12T06:39:04.956706Z",
     "start_time": "2020-10-12T06:39:04.947169Z"
    }
   },
   "outputs": [],
   "source": [
    "   \n",
    "class VAE(nn.Module):\n",
    "    \"\"\"Variational Autoencoder\"\"\"\n",
    "    def __init__(self):\n",
    "        super(VAE, self).__init__()\n",
    "        \n",
    "        self.encoder = nn.Sequential(\n",
    "            nn.Linear(784, 400),\n",
    "            nn.ReLU(),\n",
    "            nn.Linear(400, 4) # 2 for mean, 2 for std\n",
    "        )\n",
    "        self.decoder = nn.Sequential(\n",
    "            nn.Linear(2, 400),\n",
    "            nn.ReLU(),\n",
    "            nn.Linear(400, 784),\n",
    "            nn.Sigmoid()\n",
    "        )\n",
    "\n",
    "    def encode(self, x):\n",
    "        \"\"\"Takes in image, output distribution\"\"\"\n",
    "        h = self.encoder(x)\n",
    "        # first few features are mean\n",
    "        mean = h[:, :2]\n",
    "        # second two are the log std\n",
    "        log_std = h[:, 2:]\n",
    "        std = torch.exp(log_std)\n",
    "        # return a normal distribution with 2 parameters\n",
    "        return Normal(mean, std)\n",
    "\n",
    "    def decode(self, z):\n",
    "        \"\"\"Takes in latent vector and produces image.\"\"\"\n",
    "        return self.decoder(z)\n",
    "\n",
    "    def forward(self, x):\n",
    "        \"\"\"Combine the above methods\"\"\"\n",
    "        dist = self.encode(x.view(-1, 784))\n",
    "        z = dist.rsample() # sample, with gradient\n",
    "        return self.decode(z), dist"
   ]
  },
  {
   "cell_type": "code",
   "execution_count": null,
   "metadata": {
    "ExecuteTime": {
     "end_time": "2020-10-11T23:51:16.012733Z",
     "start_time": "2020-10-11T23:51:15.910665Z"
    }
   },
   "outputs": [],
   "source": []
  },
  {
   "cell_type": "code",
   "execution_count": 20,
   "metadata": {
    "ExecuteTime": {
     "end_time": "2020-10-12T06:39:04.996485Z",
     "start_time": "2020-10-12T06:39:04.959802Z"
    }
   },
   "outputs": [],
   "source": [
    "model = VAE().to(device)\n",
    "optimizer = optim.Adam(model.parameters(), lr=1e-3)"
   ]
  },
  {
   "cell_type": "code",
   "execution_count": 21,
   "metadata": {
    "ExecuteTime": {
     "end_time": "2020-10-12T06:39:05.043344Z",
     "start_time": "2020-10-12T06:39:04.998761Z"
    }
   },
   "outputs": [
    {
     "name": "stdout",
     "output_type": "stream",
     "text": [
      "==================================================================\n",
      "                    Kernel Shape Output Shape    Params Mult-Adds\n",
      "Layer                                                            \n",
      "0_encoder.Linear_0    [784, 400]     [1, 400]    314.0k    313.6k\n",
      "1_encoder.ReLU_1               -     [1, 400]         -         -\n",
      "2_encoder.Linear_2      [400, 4]       [1, 4]    1.604k      1.6k\n",
      "3_decoder.Linear_0      [2, 400]     [1, 400]      1.2k     800.0\n",
      "4_decoder.ReLU_1               -     [1, 400]         -         -\n",
      "5_decoder.Linear_2    [400, 784]     [1, 784]  314.384k    313.6k\n",
      "6_decoder.Sigmoid_3            -     [1, 784]         -         -\n",
      "------------------------------------------------------------------\n",
      "                        Totals\n",
      "Total params          631.188k\n",
      "Trainable params      631.188k\n",
      "Non-trainable params       0.0\n",
      "Mult-Adds               629.6k\n",
      "==================================================================\n"
     ]
    },
    {
     "data": {
      "text/plain": [
       "1"
      ]
     },
     "execution_count": 21,
     "metadata": {},
     "output_type": "execute_result"
    }
   ],
   "source": [
    "# We can view the shape of our model and number of params\n",
    "x = torch.rand((1, 784)).to(device)\n",
    "summary(model, x)\n",
    "1"
   ]
  },
  {
   "cell_type": "markdown",
   "metadata": {
    "ExecuteTime": {
     "end_time": "2020-10-11T23:43:32.862410Z",
     "start_time": "2020-10-11T23:43:32.858439Z"
    }
   },
   "source": [
    "## Concept: KLD"
   ]
  },
  {
   "cell_type": "markdown",
   "metadata": {},
   "source": [
    "The loss function is similar to what we used before, except we have an extra part. the extra equation is [Kullback–Leibler divergence](https://en.wikipedia.org/wiki/Kullback%E2%80%93Leibler_divergence) which measures difference between probability distributions.\n",
    "\n",
    "<img width=\"600\" src=\"https://upload.wikimedia.org/wikipedia/commons/thumb/a/a8/KL-Gauss-Example.png/800px-KL-Gauss-Example.png\"/>\n",
    "\n",
    "However we are using the KLD_loss, which is always positive\n",
    "\n",
    "Image source: wikipedia"
   ]
  },
  {
   "cell_type": "code",
   "execution_count": 22,
   "metadata": {
    "ExecuteTime": {
     "end_time": "2020-10-12T06:39:05.049577Z",
     "start_time": "2020-10-12T06:39:05.045179Z"
    }
   },
   "outputs": [],
   "source": [
    "def loss_bce_kld(recon_x, x, dist):\n",
    "    BCE = F.binary_cross_entropy(recon_x, x.view(-1, 784), reduction=\"sum\")\n",
    "    \n",
    "    # KL-divergence between a diagonal multivariate normal,\n",
    "    # and a standard normal distribution (with zero mean and unit variance)\n",
    "    # In other words, we are punishing it if it's distribution moves away from a standard normal dist\n",
    "    KLD = -0.5 * torch.sum(1 + p.scale.log() - p.loc.pow(2) - p.scale)\n",
    "    return BCE + KLD"
   ]
  },
  {
   "cell_type": "code",
   "execution_count": 23,
   "metadata": {
    "ExecuteTime": {
     "end_time": "2020-10-12T06:39:05.446758Z",
     "start_time": "2020-10-12T06:39:05.056785Z"
    }
   },
   "outputs": [
    {
     "name": "stderr",
     "output_type": "stream",
     "text": [
      "/home/wassname/anaconda/envs/deep_ml_curriculum/lib/python3.7/site-packages/torch/distributions/distribution.py:134: UserWarning: sample_n will be deprecated. Use .sample((n,)) instead\n",
      "  warnings.warn('sample_n will be deprecated. Use .sample((n,)) instead', UserWarning)\n"
     ]
    },
    {
     "data": {
      "image/png": "[encoded data removed]",
      "text/plain": [
       "<Figure size 432x288 with 1 Axes>"
      ]
     },
     "metadata": {
      "needs_background": "light"
     },
     "output_type": "display_data"
    }
   ],
   "source": [
    "# You can try the KLD here with differen't distribution\n",
    "p = Normal(loc=1, scale=2)\n",
    "q = Normal(loc=0, scale=1)\n",
    "kld = torch.distributions.kl.kl_divergence(p, q)\n",
    "\n",
    "# plot the distributions\n",
    "ps=p.sample_n(10000).numpy()\n",
    "qs=q.sample_n(10000).numpy()\n",
    "\n",
    "sns.kdeplot(ps, label='p')\n",
    "sns.kdeplot(qs, label='q')\n",
    "plt.title(f\"KLD(p|q) = {kld:2.2f}\\nKLD({p}|{q})\")\n",
    "plt.legend()\n",
    "plt.show()"
   ]
  },
  {
   "cell_type": "markdown",
   "metadata": {
    "ExecuteTime": {
     "end_time": "2020-10-12T00:09:13.850446Z",
     "start_time": "2020-10-12T00:09:13.419578Z"
    }
   },
   "source": [
    "## Exercise 1: KLD\n",
    "\n",
    "Run the above cell with while changing Q.\n",
    "\n",
    "- Use the code above and test if the KLD is higher for distributions that overlap more\n",
    "\n",
    "- (advanced) Write new code that plots a line of kld vs q.loc, using the function below\n",
    "\n",
    "```python\n",
    "def kld_vs_qloc(loc):\n",
    "    kld = torch.distributions.kl.kl_divergence(p, Normal(loc=loc, scale=1))\n",
    "    return kld\n",
    "    \n",
    "klds = []\n",
    "locs = range(-10, 10)\n",
    "for loc in locs:\n",
    "    # YOUR CODE HERE: run kld_vs_qloc, for a loc\n",
    "    klds.append(kld)\n",
    "\n",
    "# YOUR code here, plot locs vs klds\n",
    "```"
   ]
  },
  {
   "cell_type": "markdown",
   "metadata": {},
   "source": [
    "## Train"
   ]
  },
  {
   "cell_type": "markdown",
   "metadata": {},
   "source": [
    "We also need to slightly adjust the training loop since the loss function now takes four inputs."
   ]
  },
  {
   "cell_type": "code",
   "execution_count": 24,
   "metadata": {
    "ExecuteTime": {
     "end_time": "2020-10-12T06:39:05.577626Z",
     "start_time": "2020-10-12T06:39:05.449637Z"
    }
   },
   "outputs": [],
   "source": [
    "def train(epoch, loss_function, log_interval=50):\n",
    "    model.train()\n",
    "    train_loss = 0\n",
    "    for batch_idx, data in enumerate(tqdm(train_loader, leave=False)):\n",
    "        data = data.to(device)\n",
    "        optimizer.zero_grad()\n",
    "        recon_batch, dist = model(data)\n",
    "        loss = loss_function(recon_batch, data, dist)\n",
    "        loss.backward()\n",
    "        train_loss += loss.item()\n",
    "        optimizer.step()\n",
    "        if batch_idx % log_interval == 0:\n",
    "            pct = 100.0 * batch_idx / len(train_loader)\n",
    "            l = loss.item() / len(data)\n",
    "            print(\n",
    "                '#{} [{}/{} ({:.0f}%)]\\tLoss: {:.6f}  '.format(epoch, batch_idx * len(data), len(train_loader.dataset), pct, l),\n",
    "                end=\"\\r\",\n",
    "                flush=True,\n",
    "            )\n",
    "    print('#{} Train loss: {:.4f}'.format(epoch, train_loss / len(train_loader.dataset)))\n",
    "\n",
    "\n",
    "def test(epoch, loss_function, log_interval=50):\n",
    "    model.eval()\n",
    "    test_loss = 0\n",
    "    with torch.no_grad():\n",
    "        for i, data in enumerate(test_loader):\n",
    "            data = data.to(device)\n",
    "            recon_batch, dist = model(data)\n",
    "            test_loss += loss_function(recon_batch, data, dist).item()\n",
    "\n",
    "    test_loss /= len(test_loader.dataset)\n",
    "    print('#{} Test loss: {:.4f}'.format(epoch, test_loss))"
   ]
  },
  {
   "cell_type": "code",
   "execution_count": 25,
   "metadata": {
    "ExecuteTime": {
     "end_time": "2020-10-12T06:39:05.612985Z",
     "start_time": "2020-10-12T06:39:05.579434Z"
    }
   },
   "outputs": [
    {
     "name": "stdout",
     "output_type": "stream",
     "text": [
      "==================================================================\n",
      "                    Kernel Shape Output Shape    Params Mult-Adds\n",
      "Layer                                                            \n",
      "0_encoder.Linear_0    [784, 400]     [1, 400]    314.0k    313.6k\n",
      "1_encoder.ReLU_1               -     [1, 400]         -         -\n",
      "2_encoder.Linear_2      [400, 4]       [1, 4]    1.604k      1.6k\n",
      "3_decoder.Linear_0      [2, 400]     [1, 400]      1.2k     800.0\n",
      "4_decoder.ReLU_1               -     [1, 400]         -         -\n",
      "5_decoder.Linear_2    [400, 784]     [1, 784]  314.384k    313.6k\n",
      "6_decoder.Sigmoid_3            -     [1, 784]         -         -\n",
      "------------------------------------------------------------------\n",
      "                        Totals\n",
      "Total params          631.188k\n",
      "Trainable params      631.188k\n",
      "Non-trainable params       0.0\n",
      "Mult-Adds               629.6k\n",
      "==================================================================\n"
     ]
    },
    {
     "data": {
      "text/plain": [
       "1"
      ]
     },
     "execution_count": 25,
     "metadata": {},
     "output_type": "execute_result"
    }
   ],
   "source": [
    "# We can view the shape of our model and number of params\n",
    "summary(model, torch.rand((1, 784)).to(device))\n",
    "1"
   ]
  },
  {
   "cell_type": "code",
   "execution_count": 26,
   "metadata": {
    "ExecuteTime": {
     "end_time": "2020-10-12T06:40:40.325413Z",
     "start_time": "2020-10-12T06:39:05.615864Z"
    }
   },
   "outputs": [
    {
     "data": {
      "image/png": "[encoded data removed]",
      "text/plain": [
       "<Figure size 288x144 with 2 Axes>"
      ]
     },
     "metadata": {
      "needs_background": "light"
     },
     "output_type": "display_data"
    },
    {
     "data": {
      "application/vnd.jupyter.widget-view+json": {
       "model_id": "74b0ce2ac56d4d6a9792267815aa79f4",
       "version_major": 2,
       "version_minor": 0
      },
      "text/plain": [
       "HBox(children=(FloatProgress(value=0.0, max=10.0), HTML(value='')))"
      ]
     },
     "metadata": {},
     "output_type": "display_data"
    },
    {
     "data": {
      "application/vnd.jupyter.widget-view+json": {
       "model_id": "",
       "version_major": 2,
       "version_minor": 0
      },
      "text/plain": [
       "HBox(children=(FloatProgress(value=0.0, max=657.0), HTML(value='')))"
      ]
     },
     "metadata": {},
     "output_type": "display_data"
    },
    {
     "name": "stdout",
     "output_type": "stream",
     "text": [
      "#1 Train loss: 182.1748Loss: 154.050079  \n",
      "#1 Test loss: 166.7879\n"
     ]
    },
    {
     "data": {
      "image/png": "[encoded data removed]",
      "text/plain": [
       "<Figure size 288x144 with 2 Axes>"
      ]
     },
     "metadata": {
      "needs_background": "light"
     },
     "output_type": "display_data"
    },
    {
     "data": {
      "application/vnd.jupyter.widget-view+json": {
       "model_id": "",
       "version_major": 2,
       "version_minor": 0
      },
      "text/plain": [
       "HBox(children=(FloatProgress(value=0.0, max=657.0), HTML(value='')))"
      ]
     },
     "metadata": {},
     "output_type": "display_data"
    },
    {
     "name": "stdout",
     "output_type": "stream",
     "text": [
      "#2 Train loss: 162.6419Loss: 166.730240  \n",
      "#2 Test loss: 159.6808\n"
     ]
    },
    {
     "data": {
      "image/png": "[encoded data removed]",
      "text/plain": [
       "<Figure size 288x144 with 2 Axes>"
      ]
     },
     "metadata": {
      "needs_background": "light"
     },
     "output_type": "display_data"
    },
    {
     "data": {
      "application/vnd.jupyter.widget-view+json": {
       "model_id": "",
       "version_major": 2,
       "version_minor": 0
      },
      "text/plain": [
       "HBox(children=(FloatProgress(value=0.0, max=657.0), HTML(value='')))"
      ]
     },
     "metadata": {},
     "output_type": "display_data"
    },
    {
     "name": "stdout",
     "output_type": "stream",
     "text": [
      "#3 Train loss: 158.2025Loss: 157.931046  \n",
      "#3 Test loss: 156.9358\n"
     ]
    },
    {
     "data": {
      "image/png": "[encoded data removed]",
      "text/plain": [
       "<Figure size 288x144 with 2 Axes>"
      ]
     },
     "metadata": {
      "needs_background": "light"
     },
     "output_type": "display_data"
    },
    {
     "data": {
      "application/vnd.jupyter.widget-view+json": {
       "model_id": "",
       "version_major": 2,
       "version_minor": 0
      },
      "text/plain": [
       "HBox(children=(FloatProgress(value=0.0, max=657.0), HTML(value='')))"
      ]
     },
     "metadata": {},
     "output_type": "display_data"
    },
    {
     "name": "stdout",
     "output_type": "stream",
     "text": [
      "#4 Train loss: 155.6275Loss: 148.499344  \n",
      "#4 Test loss: 154.4997\n"
     ]
    },
    {
     "data": {
      "image/png": "[encoded data removed]",
      "text/plain": [
       "<Figure size 288x144 with 2 Axes>"
      ]
     },
     "metadata": {
      "needs_background": "light"
     },
     "output_type": "display_data"
    },
    {
     "data": {
      "application/vnd.jupyter.widget-view+json": {
       "model_id": "",
       "version_major": 2,
       "version_minor": 0
      },
      "text/plain": [
       "HBox(children=(FloatProgress(value=0.0, max=657.0), HTML(value='')))"
      ]
     },
     "metadata": {},
     "output_type": "display_data"
    },
    {
     "name": "stdout",
     "output_type": "stream",
     "text": [
      "#5 Train loss: 153.6454Loss: 151.353165  \n",
      "#5 Test loss: 152.8403\n"
     ]
    },
    {
     "data": {
      "image/png": "[encoded data removed]",
      "text/plain": [
       "<Figure size 288x144 with 2 Axes>"
      ]
     },
     "metadata": {
      "needs_background": "light"
     },
     "output_type": "display_data"
    },
    {
     "data": {
      "application/vnd.jupyter.widget-view+json": {
       "model_id": "",
       "version_major": 2,
       "version_minor": 0
      },
      "text/plain": [
       "HBox(children=(FloatProgress(value=0.0, max=657.0), HTML(value='')))"
      ]
     },
     "metadata": {},
     "output_type": "display_data"
    },
    {
     "name": "stdout",
     "output_type": "stream",
     "text": [
      "#6 Train loss: 151.9474Loss: 155.882004  \n",
      "#6 Test loss: 151.6404\n"
     ]
    },
    {
     "data": {
      "image/png": "[encoded data removed]",
      "text/plain": [
       "<Figure size 288x144 with 2 Axes>"
      ]
     },
     "metadata": {
      "needs_background": "light"
     },
     "output_type": "display_data"
    },
    {
     "data": {
      "application/vnd.jupyter.widget-view+json": {
       "model_id": "",
       "version_major": 2,
       "version_minor": 0
      },
      "text/plain": [
       "HBox(children=(FloatProgress(value=0.0, max=657.0), HTML(value='')))"
      ]
     },
     "metadata": {},
     "output_type": "display_data"
    },
    {
     "name": "stdout",
     "output_type": "stream",
     "text": [
      "#7 Train loss: 150.5245Loss: 154.039017  \n",
      "#7 Test loss: 150.3561\n"
     ]
    },
    {
     "data": {
      "image/png": "[encoded data removed]",
      "text/plain": [
       "<Figure size 288x144 with 2 Axes>"
      ]
     },
     "metadata": {
      "needs_background": "light"
     },
     "output_type": "display_data"
    },
    {
     "data": {
      "application/vnd.jupyter.widget-view+json": {
       "model_id": "",
       "version_major": 2,
       "version_minor": 0
      },
      "text/plain": [
       "HBox(children=(FloatProgress(value=0.0, max=657.0), HTML(value='')))"
      ]
     },
     "metadata": {},
     "output_type": "display_data"
    },
    {
     "name": "stdout",
     "output_type": "stream",
     "text": [
      "#8 Train loss: 149.3793Loss: 154.810287  \n",
      "#8 Test loss: 149.9096\n"
     ]
    },
    {
     "data": {
      "image/png": "[encoded data removed]",
      "text/plain": [
       "<Figure size 288x144 with 2 Axes>"
      ]
     },
     "metadata": {
      "needs_background": "light"
     },
     "output_type": "display_data"
    },
    {
     "data": {
      "application/vnd.jupyter.widget-view+json": {
       "model_id": "",
       "version_major": 2,
       "version_minor": 0
      },
      "text/plain": [
       "HBox(children=(FloatProgress(value=0.0, max=657.0), HTML(value='')))"
      ]
     },
     "metadata": {},
     "output_type": "display_data"
    },
    {
     "name": "stdout",
     "output_type": "stream",
     "text": [
      "#9 Train loss: 148.2509Loss: 144.554245  \n",
      "#9 Test loss: 148.9081\n"
     ]
    },
    {
     "data": {
      "image/png": "[encoded data removed]",
      "text/plain": [
       "<Figure size 288x144 with 2 Axes>"
      ]
     },
     "metadata": {
      "needs_background": "light"
     },
     "output_type": "display_data"
    },
    {
     "data": {
      "application/vnd.jupyter.widget-view+json": {
       "model_id": "",
       "version_major": 2,
       "version_minor": 0
      },
      "text/plain": [
       "HBox(children=(FloatProgress(value=0.0, max=657.0), HTML(value='')))"
      ]
     },
     "metadata": {},
     "output_type": "display_data"
    },
    {
     "name": "stdout",
     "output_type": "stream",
     "text": [
      "#10 Train loss: 147.3035Loss: 135.425735  \n",
      "#10 Test loss: 148.2795\n"
     ]
    },
    {
     "data": {
      "image/png": "[encoded data removed]",
      "text/plain": [
       "<Figure size 288x144 with 2 Axes>"
      ]
     },
     "metadata": {
      "needs_background": "light"
     },
     "output_type": "display_data"
    },
    {
     "name": "stdout",
     "output_type": "stream",
     "text": [
      "\n"
     ]
    }
   ],
   "source": [
    "epochs = 10\n",
    "show_prediction(10, title=f\"epoch={0}\")\n",
    "for epoch in tqdm(range(1, epochs + 1)):\n",
    "    train(epoch, loss_bce_kld)\n",
    "    test(epoch, loss_bce_kld)\n",
    "    show_prediction(10, title=f\"epoch={epoch}\")"
   ]
  },
  {
   "cell_type": "markdown",
   "metadata": {},
   "source": [
    "## Saving and Loading Model\n",
    "\n",
    "You can save and load as a pickle, but it's better to use torch.save (which uses pickle)"
   ]
  },
  {
   "cell_type": "code",
   "execution_count": 27,
   "metadata": {
    "ExecuteTime": {
     "end_time": "2020-10-12T06:40:40.330932Z",
     "start_time": "2020-10-12T06:40:40.327574Z"
    }
   },
   "outputs": [],
   "source": [
    "import pickle"
   ]
  },
  {
   "cell_type": "code",
   "execution_count": 28,
   "metadata": {
    "ExecuteTime": {
     "end_time": "2020-10-12T06:40:40.345843Z",
     "start_time": "2020-10-12T06:40:40.334161Z"
    }
   },
   "outputs": [],
   "source": [
    "with open(\"VAE.pk\", \"wb\") as fp:\n",
    "    torch.save(model.state_dict(), fp)"
   ]
  },
  {
   "cell_type": "code",
   "execution_count": 29,
   "metadata": {
    "ExecuteTime": {
     "end_time": "2020-10-12T06:40:40.366440Z",
     "start_time": "2020-10-12T06:40:40.348416Z"
    }
   },
   "outputs": [],
   "source": [
    "model = VAE().to(device)\n",
    "with open(\"VAE.pk\", \"rb\") as fp:\n",
    "    model.load_state_dict(torch.load(fp))"
   ]
  },
  {
   "cell_type": "markdown",
   "metadata": {},
   "source": [
    "## Results"
   ]
  },
  {
   "cell_type": "code",
   "execution_count": 30,
   "metadata": {
    "ExecuteTime": {
     "end_time": "2020-10-12T06:40:40.738597Z",
     "start_time": "2020-10-12T06:40:40.369008Z"
    }
   },
   "outputs": [
    {
     "data": {
      "image/png": "[encoded data removed]",
      "text/plain": [
       "<Figure size 288x144 with 2 Axes>"
      ]
     },
     "metadata": {
      "needs_background": "light"
     },
     "output_type": "display_data"
    }
   ],
   "source": [
    "idx = np.random.randint(0, len(ds_test))\n",
    "show_prediction(idx)"
   ]
  },
  {
   "cell_type": "markdown",
   "metadata": {},
   "source": [
    "One property of a latent space is that you can travese it, and get meaningful varations of outputs."
   ]
  },
  {
   "cell_type": "code",
   "execution_count": 31,
   "metadata": {
    "ExecuteTime": {
     "end_time": "2020-10-12T06:40:40.764195Z",
     "start_time": "2020-10-12T06:40:40.740466Z"
    }
   },
   "outputs": [
    {
     "data": {
      "text/plain": [
       "(1000, 2)"
      ]
     },
     "execution_count": 31,
     "metadata": {},
     "output_type": "execute_result"
    }
   ],
   "source": [
    "dist = model.encode(ds_train[:1000].to(device))\n",
    "res = dist.loc.cpu().detach().numpy()\n",
    "res.shape"
   ]
  },
  {
   "cell_type": "code",
   "execution_count": 32,
   "metadata": {
    "ExecuteTime": {
     "end_time": "2020-10-12T06:40:41.939887Z",
     "start_time": "2020-10-12T06:40:40.766137Z"
    }
   },
   "outputs": [
    {
     "data": {
      "image/png": "[encoded data removed]",
      "text/plain": [
       "<Figure size 432x288 with 1 Axes>"
      ]
     },
     "metadata": {
      "needs_background": "light"
     },
     "output_type": "display_data"
    },
    {
     "data": {
      "image/png": "[encoded data removed]",
      "text/plain": [
       "<Figure size 864x864 with 10 Axes>"
      ]
     },
     "metadata": {},
     "output_type": "display_data"
    }
   ],
   "source": [
    "# Scatter plot\n",
    "for i in range(10):\n",
    "    idx = ds_train.y[:1000] == i\n",
    "    plt.scatter(res[idx, 0], res[idx, 1], label=i)\n",
    "plt.title('the latent space')\n",
    "plt.xlabel('latent variable 1')\n",
    "plt.ylabel('latent variable 2')\n",
    "\n",
    "# change these numbers, to change where we travel\n",
    "y=1\n",
    "xmin=-5\n",
    "xmax=5\n",
    "plt.hlines(y, xmin, xmax, color='r', lw=2, label='traversal')\n",
    "plt.legend()\n",
    "plt.show()\n",
    "\n",
    "# Do out traversal\n",
    "plt.figure(figsize=(12, 12))\n",
    "model.to(device)\n",
    "n_ims = 10\n",
    "xs = np.linspace(xmin, xmax, 10)\n",
    "for xi, x in enumerate(xs):\n",
    "    plt.subplot(1, 10, xi+1)\n",
    "    z = torch.tensor([x, y])[None :].float().to(device)\n",
    "    img = model.decode(z).cpu().detach().numpy()\n",
    "    img = (img.reshape((28, 28)) * 255).astype(np.uint8)\n",
    "    plt.imshow(img, cmap='gray')\n",
    "    plt.title(f'{x:2.1f}, {y:2.1f}')\n",
    "    plt.xticks([])\n",
    "    plt.yticks([])"
   ]
  },
  {
   "cell_type": "markdown",
   "metadata": {},
   "source": [
    "If we compare this plot with the similar plot for normal autoencoder, we can see that VAE did a better job at creating clusters. The points for each digits are closer together compared to previous model. However, there is still room for improvement. "
   ]
  },
  {
   "cell_type": "markdown",
   "metadata": {},
   "source": [
    "## Exercise 2: Deeper\n",
    "Create a new VAE but this time use a deeper network. Note, everything else (loss function, dataloaders, training loops, etc.) will stay the same only the model will change. The example above was using these sizes: 784 --> 400 --> 2 --> 400 --> 784\n",
    "\n",
    "Try a new model which uses these size: 784 --> 400 --> 80 --> 2 --> 80 --> 400 --> 784 "
   ]
  },
  {
   "cell_type": "code",
   "execution_count": 33,
   "metadata": {
    "ExecuteTime": {
     "end_time": "2020-10-12T06:40:41.945749Z",
     "start_time": "2020-10-12T06:40:41.942505Z"
    }
   },
   "outputs": [],
   "source": [
    "# Create the model definition\n",
    "# YOUR CODE HERE"
   ]
  },
  {
   "cell_type": "code",
   "execution_count": 34,
   "metadata": {
    "ExecuteTime": {
     "end_time": "2020-10-12T06:40:41.954910Z",
     "start_time": "2020-10-12T06:40:41.948056Z"
    }
   },
   "outputs": [],
   "source": [
    "# # Training logic\n",
    "# epochs = 10\n",
    "# show_prediction(10, title=f\"epoch={0}\")\n",
    "# for epoch in tqdm(range(1, epochs + 1)):\n",
    "#     train(epoch, loss_bce_kld)\n",
    "#     test(epoch, loss_bce_kld)\n",
    "#     show_prediction(10, title=f\"epoch={epoch}\")"
   ]
  },
  {
   "cell_type": "code",
   "execution_count": 35,
   "metadata": {
    "ExecuteTime": {
     "end_time": "2020-10-12T06:40:41.965193Z",
     "start_time": "2020-10-12T06:40:41.957337Z"
    }
   },
   "outputs": [],
   "source": [
    "# # Visualise the results\n",
    "# idx = np.random.randint(0, len(ds_test))\n",
    "# show_prediction(idx)\n",
    "# plt.show()\n",
    "\n",
    "# traverse(model=model, y=3, xmin=-5, xmax=5)"
   ]
  },
  {
   "cell_type": "code",
   "execution_count": null,
   "metadata": {},
   "outputs": [],
   "source": []
  },
  {
   "cell_type": "markdown",
   "metadata": {
    "ExecuteTime": {
     "end_time": "2020-10-11T11:10:33.083826Z",
     "start_time": "2020-10-11T11:10:33.078815Z"
    }
   },
   "source": [
    "## Exercise 3: Wider\n",
    "Create a new VAE but this time use a more than two parameters for the latent space. This will reduce the loss"
   ]
  },
  {
   "cell_type": "code",
   "execution_count": null,
   "metadata": {
    "ExecuteTime": {
     "end_time": "2020-10-12T06:27:38.602002Z",
     "start_time": "2020-10-12T06:26:51.173089Z"
    }
   },
   "outputs": [],
   "source": []
  },
  {
   "cell_type": "markdown",
   "metadata": {
    "ExecuteTime": {
     "end_time": "2020-10-12T03:27:58.177087Z",
     "start_time": "2020-10-12T03:24:47.111Z"
    }
   },
   "source": [
    "# Application: Anomaly Detection\n",
    "\n",
    "The model will reconstruct normal data well, and fail to reconstruct anomolies. This means we can use it for anomoly detection"
   ]
  },
  {
   "cell_type": "code",
   "execution_count": 36,
   "metadata": {
    "ExecuteTime": {
     "end_time": "2020-10-12T06:40:42.542015Z",
     "start_time": "2020-10-12T06:40:41.967445Z"
    }
   },
   "outputs": [
    {
     "name": "stdout",
     "output_type": "stream",
     "text": [
      "img_loss=83.68, random_loss=1858.73\n",
      "anomoly detected=True\n"
     ]
    },
    {
     "data": {
      "image/png": "[encoded data removed]",
      "text/plain": [
       "<Figure size 432x288 with 2 Axes>"
      ]
     },
     "metadata": {
      "needs_background": "light"
     },
     "output_type": "display_data"
    },
    {
     "data": {
      "text/plain": [
       "<matplotlib.image.AxesImage at 0x7f5198485910>"
      ]
     },
     "execution_count": 36,
     "metadata": {},
     "output_type": "execute_result"
    },
    {
     "data": {
      "image/png": "[encoded data removed]",
      "text/plain": [
       "<Figure size 432x288 with 2 Axes>"
      ]
     },
     "metadata": {
      "needs_background": "light"
     },
     "output_type": "display_data"
    }
   ],
   "source": [
    "img = ds_train[11].to(device)\n",
    "\n",
    "# First try to reconstruct a real image\n",
    "img_recon, _ = model(img)\n",
    "loss_img = loss_bce(img_recon , img)\n",
    "\n",
    "# then a fake image, a vector of random noise\n",
    "rand = torch.rand((28, 28)).to(device)\n",
    "rand[:, 15] = 1\n",
    "rand[15, :] = 1\n",
    "rand = rand.reshape((-1, ))\n",
    "rand_recon, _ = model(rand)\n",
    "loss_rand = loss_bce(rand_recon , rand)\n",
    "\n",
    "print(f'img_loss={loss_img:2.2f}, random_loss={loss_rand:2.2f}\\nanomoly detected={loss_img<loss_rand}')\n",
    "\n",
    "plt.subplot(1, 2, 1)\n",
    "plt.suptitle(f'real image loss={loss_img:2.2f}')\n",
    "plt.imshow(cvt2image(img), cmap=\"gray\")\n",
    "plt.subplot(1, 2, 2)\n",
    "plt.imshow(cvt2image(img_recon), cmap=\"gray\")\n",
    "plt.show()\n",
    "\n",
    "plt.subplot(1, 2, 1)\n",
    "plt.suptitle(f'fake image loss={loss_rand:2.2f}')\n",
    "plt.imshow(cvt2image(rand), cmap=\"gray\")\n",
    "plt.subplot(1, 2, 2)\n",
    "plt.imshow(cvt2image(rand_recon), cmap=\"gray\")"
   ]
  },
  {
   "cell_type": "code",
   "execution_count": null,
   "metadata": {
    "ExecuteTime": {
     "end_time": "2020-10-12T06:28:57.201707Z",
     "start_time": "2020-10-12T06:28:56.584158Z"
    }
   },
   "outputs": [],
   "source": []
  },
  {
   "cell_type": "markdown",
   "metadata": {
    "ExecuteTime": {
     "end_time": "2020-10-12T03:27:58.180642Z",
     "start_time": "2020-10-12T03:25:14.702Z"
    }
   },
   "source": [
    "# Application: Denoising\n",
    "\n",
    "Since the model only keep the important information, noise ends up being discarded. This can not only let us compress data, but denoise it.\n",
    "\n",
    "In the example below we add some artifacts, and the autoencoder discards them during reconstruction."
   ]
  },
  {
   "cell_type": "code",
   "execution_count": 37,
   "metadata": {
    "ExecuteTime": {
     "end_time": "2020-10-12T06:40:42.552551Z",
     "start_time": "2020-10-12T06:40:42.543802Z"
    }
   },
   "outputs": [],
   "source": [
    "img = ds_train[11].to(device)\n",
    "\n",
    "# First try to reconstruct a real image\n",
    "img_recon, _ = model(img)\n",
    "loss_img = loss_bce(img_recon , img)\n",
    "\n",
    "# Add noise to an image\n",
    "rand = (img * 1.0).reshape((28, 28))\n",
    "rand[:, 15] = 0.5 # vertical bar\n",
    "rand[15, :] = 0.9 # horizontal bar\n",
    "rand[5, 5] = 0.9 # spot\n",
    "rand = rand.flatten()\n",
    "\n",
    "# Reconstruct the noisy image\n",
    "rand_recon, _ = model(rand)\n",
    "loss_rand = loss_bce(rand_recon , rand)"
   ]
  },
  {
   "cell_type": "code",
   "execution_count": 38,
   "metadata": {
    "ExecuteTime": {
     "end_time": "2020-10-12T06:40:43.090111Z",
     "start_time": "2020-10-12T06:40:42.554520Z"
    }
   },
   "outputs": [
    {
     "data": {
      "image/png": "[encoded data removed]",
      "text/plain": [
       "<Figure size 432x288 with 2 Axes>"
      ]
     },
     "metadata": {
      "needs_background": "light"
     },
     "output_type": "display_data"
    },
    {
     "data": {
      "text/plain": [
       "<matplotlib.image.AxesImage at 0x7f519a9aa850>"
      ]
     },
     "execution_count": 38,
     "metadata": {},
     "output_type": "execute_result"
    },
    {
     "data": {
      "image/png": "[encoded data removed]",
      "text/plain": [
       "<Figure size 432x288 with 2 Axes>"
      ]
     },
     "metadata": {
      "needs_background": "light"
     },
     "output_type": "display_data"
    }
   ],
   "source": [
    "\n",
    "plt.subplot(1, 2, 1)\n",
    "plt.suptitle(f'real image loss={loss_img:2.2f}')\n",
    "plt.imshow(cvt2image(img), cmap=\"gray\")\n",
    "plt.subplot(1, 2, 2)\n",
    "plt.imshow(cvt2image(img_recon), cmap=\"gray\")\n",
    "plt.show()\n",
    "\n",
    "plt.subplot(1, 2, 1)\n",
    "plt.suptitle(f'noisy image loss={loss_rand:2.2f}')\n",
    "plt.imshow(cvt2image(rand), cmap=\"gray\")\n",
    "plt.subplot(1, 2, 2)\n",
    "plt.imshow(cvt2image(rand_recon), cmap=\"gray\")\n",
    "# You can see it's removed the noise that we added, but retained the digit"
   ]
  },
  {
   "cell_type": "markdown",
   "metadata": {},
   "source": [
    "# Solution to Exercises"
   ]
  },
  {
   "cell_type": "markdown",
   "metadata": {
    "ExecuteTime": {
     "end_time": "2020-10-12T00:16:07.356457Z",
     "start_time": "2020-10-12T00:16:07.347843Z"
    }
   },
   "source": [
    "## Exercise 1\n",
    "<details><summary>Solution</summary>\n",
    "\n",
    "```Python\n",
    "    \n",
    "# Part 1\n",
    "p = Normal(0, 1)\n",
    "kld_close = torch.distributions.kl.kl_divergence(p, Normal(0, 1))\n",
    "kld_far = torch.distributions.kl.kl_divergence(p, Normal(10, 1))\n",
    "print(kld_close, kld_far)\n",
    "print('close is lower?', kld_close<kld_far)\n",
    "    \n",
    "# Part 2: Plot the KLD as you vary the mean of q\n",
    "p = Normal(0, 1)\n",
    "means = np.arange(-10, 11)\n",
    "\n",
    "klds=[]\n",
    "for mean in means:\n",
    "    q = Normal(mean, 1)\n",
    "    kld = torch.distributions.kl.kl_divergence(p, q)\n",
    "    klds.append(kld)\n",
    "\n",
    "plt.plot(means, klds)\n",
    "plt.ylabel('KLD(p|q)')\n",
    "plt.xlabel('mean of Q')\n",
    "plt.show()\n",
    "```\n",
    "\n",
    "</details>"
   ]
  },
  {
   "cell_type": "markdown",
   "metadata": {},
   "source": [
    "## Exercise 2\n",
    "<details><summary>Solution</summary>\n",
    "\n",
    "```Python   \n",
    " \n",
    "class DeeperVAE(nn.Module):\n",
    "    \"\"\"Deeper Variational Autoencoder\"\"\"\n",
    "    def __init__(self):\n",
    "        super(DeeperVAE, self).__init__()\n",
    "        \n",
    "        self.encoder = nn.Sequential(\n",
    "            nn.Linear(784, 400),\n",
    "            nn.ReLU(),\n",
    "            nn.Linear(400, 80),\n",
    "            nn.ReLU(),\n",
    "            nn.Linear(80, 4)\n",
    "        )\n",
    "        self.decoder = nn.Sequential(\n",
    "            nn.Linear(2, 80),\n",
    "            nn.ReLU(),\n",
    "            nn.Linear(80, 400),\n",
    "            nn.ReLU(),\n",
    "            nn.Linear(400, 784),\n",
    "            nn.Sigmoid()\n",
    "        )\n",
    "\n",
    "    def encode(self, x):\n",
    "        \"\"\"Takes in image, output distribution\"\"\"\n",
    "        h = self.encoder(x)\n",
    "        # first few features are mean\n",
    "        mean = h[:, :2]\n",
    "        # second two are the log std\n",
    "        log_std = h[:, 2:]\n",
    "        std = torch.exp(log_std)\n",
    "        # return a normal distribution with 2 parameters\n",
    "        return Normal(mean, std)\n",
    "\n",
    "    def decode(self, z):\n",
    "        \"\"\"Takes in latent vector and produces image.\"\"\"\n",
    "        return self.decoder(z)\n",
    "\n",
    "    def forward(self, x):\n",
    "        \"\"\"Combine the above methods\"\"\"\n",
    "        dist = self.encode(x.view(-1, 784))\n",
    "        z = dist.rsample() # sample, with gradient\n",
    "        return self.decode(z), dist\n",
    "    \n",
    "model = DeeperVAE().to(device)\n",
    "optimizer = optim.Adam(model.parameters(), lr=1e-3)\n",
    "    \n",
    "# training loop\n",
    "epochs = 10\n",
    "for epoch in tqdm(range(1, epochs + 1)):\n",
    "    train(epoch,loss_bce_kld)\n",
    "    test(epoch,loss_bce_kld)\n",
    "\n",
    "# visualisations\n",
    "model.eval()\n",
    "mu , logvar = model.encode(ds_train[:1000].to(device))\n",
    "mu = mu.cpu().detach().numpy()\n",
    "for i in range(10):\n",
    "    idx = ds_train.y[:1000]==i\n",
    "    plt.scatter(mu[idx,0],mu[idx,1],label = i)\n",
    "plt.legend()\n",
    "\n",
    "```\n",
    "\n",
    "</details>"
   ]
  },
  {
   "cell_type": "markdown",
   "metadata": {
    "ExecuteTime": {
     "end_time": "2020-10-11T23:42:20.565739Z",
     "start_time": "2020-10-11T23:42:20.553030Z"
    }
   },
   "source": [
    "## Exercise 3\n",
    "\n",
    "<details><summary>Solution</summary>\n",
    "\n",
    "```Python\n",
    "   \n",
    "class WiderVAE(nn.Module):\n",
    "    \"\"\"Wider Variational Autoencoder\"\"\"\n",
    "    def __init__(self):\n",
    "        super(WiderVAE, self).__init__()\n",
    "        \n",
    "        self.encoder = nn.Sequential(\n",
    "            nn.Linear(784, 400),\n",
    "            nn.ReLU(),\n",
    "            nn.Linear(400, 8)\n",
    "        )\n",
    "        self.decoder = nn.Sequential(\n",
    "            nn.Linear(4, 400),\n",
    "            nn.ReLU(),\n",
    "            nn.Linear(400, 784),\n",
    "            nn.Sigmoid()\n",
    "        )\n",
    "\n",
    "    def encode(self, x):\n",
    "        \"\"\"Takes in image, output distribution\"\"\"\n",
    "        h = self.encoder(x)\n",
    "        # first few features are mean\n",
    "        mean = h[:, :4]\n",
    "        # second two are the log std\n",
    "        log_std = h[:, 4:]\n",
    "        std = torch.exp(log_std)\n",
    "        # return a normal distribution with 2 parameters\n",
    "        return Normal(mean, std)\n",
    "\n",
    "    def decode(self, z):\n",
    "        \"\"\"Takes in latent vector and produces image.\"\"\"\n",
    "        return self.decoder(z)\n",
    "\n",
    "    def forward(self, x):\n",
    "        \"\"\"Combine the above methods\"\"\"\n",
    "        dist = self.encode(x.view(-1, 784))\n",
    "        z = dist.rsample() # sample, with gradient\n",
    "        return self.decode(z), dist\n",
    "    \n",
    "model = WiderVAE().to(device)\n",
    "optimizer = optim.Adam(model.parameters(), lr=1e-3)\n",
    "epochs = 10\n",
    "show_prediction(10, title=f\"epoch={0}\")\n",
    "for epoch in tqdm(range(1, epochs + 1)):\n",
    "    train(epoch, loss_bce_kld)\n",
    "    test(epoch, loss_bce_kld)\n",
    "    show_prediction(10, title=f\"epoch={epoch}\")\n",
    "\n",
    "traverse(model=model, y=3, xmin=-5, xmax=5)\n",
    "\n",
    "```\n",
    "\n",
    "</details>"
   ]
  },
  {
   "cell_type": "code",
   "execution_count": null,
   "metadata": {
    "ExecuteTime": {
     "end_time": "2020-10-11T23:39:34.490191Z",
     "start_time": "2020-10-11T23:37:39.751506Z"
    }
   },
   "outputs": [],
   "source": []
  },
  {
   "cell_type": "markdown",
   "metadata": {},
   "source": [
    "# References\n",
    "- [Pytorch examples for VAE](https://github.com/pytorch/examples/tree/master/vae)"
   ]
  },
  {
   "cell_type": "markdown",
   "metadata": {},
   "source": [
    "# Further Reading\n",
    "- [Autoencoders Explained](https://www.youtube.com/watch?v=7mRfwaGGAPg)\n",
    "- [Introduction to Variational Autoencoders](https://www.youtube.com/watch?v=9zKuYvjFFS8&t=527s)\n",
    "- [U-net](https://www.youtube.com/watch?v=81AvQQnpG4Q)\n",
    "- [Understanding Semantic Segmentation](https://towardsdatascience.com/understanding-semantic-segmentation-with-unet-6be4f42d4b47)\n",
    "- [Understanding Variation Autoencoders](https://towardsdatascience.com/understanding-variational-autoencoders-vaes-f70510919f73)\n",
    "- [Visualizing MNIST using a variational autoencoder](https://www.kaggle.com/rvislaywade/visualizing-mnist-using-a-variational-autoencoder)"
   ]
  }
 ],
 "metadata": {
  "jupytext": {
   "encoding": "# -*- coding: utf-8 -*-",
   "formats": "ipynb,py"
  },
  "kernelspec": {
   "display_name": "deep_ml_curriculum",
   "language": "python",
   "name": "deep_ml_curriculum"
  },
  "language_info": {
   "codemirror_mode": {
    "name": "ipython",
    "version": 3
   },
   "file_extension": ".py",
   "mimetype": "text/x-python",
   "name": "python",
   "nbconvert_exporter": "python",
   "pygments_lexer": "ipython3",
   "version": "3.7.9"
  },
  "toc": {
   "base_numbering": 1,
   "nav_menu": {},
   "number_sections": true,
   "sideBar": true,
   "skip_h1_title": false,
   "title_cell": "Table of Contents",
   "title_sidebar": "Contents",
   "toc_cell": false,
   "toc_position": {
    "height": "calc(100% - 180px)",
    "left": "10px",
    "top": "150px",
    "width": "384px"
   },
   "toc_section_display": true,
   "toc_window_display": true
  }
 },
 "nbformat": 4,
 "nbformat_minor": 4
}
