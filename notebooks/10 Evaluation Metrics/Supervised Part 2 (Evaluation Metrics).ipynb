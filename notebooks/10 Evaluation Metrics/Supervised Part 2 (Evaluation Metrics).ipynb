{
 "cells": [
  {
   "cell_type": "markdown",
   "metadata": {
    "ExecuteTime": {
     "end_time": "2020-07-14T11:10:58.797160Z",
     "start_time": "2020-07-14T11:10:58.791454Z"
    }
   },
   "source": [
    "# Introduction\n",
    "\n",
    "In this notebook, we will learn about evaluation metrics and different techniques to optimise Machine Learning models.\n",
    "\n",
    "## Table of Content\n",
    "\n",
    "- [0. Packages](#0)\n",
    "- [1. Evaluation Metrics](#1)\n",
    "    - [1.1 Regression Metrics](#1-1)\n",
    "        - [Mean Absolute Error (MAE)](#1-1-1)\n",
    "        - [Mean Squared Error (MSE)](#1-1-2)\n",
    "        - [Root Mean Squared Error (RMSE)](#1-1-3)\n",
    "    - [1.2 Classification Metrics](#1-2)\n",
    "        - [True Positives, True Negatives, False Positives, False Negatives](#1-2-1)\n",
    "        - [Accuracy, Recall & Precision](#1-2-2)\n",
    "        - [Confusion Matrix](#1-2-3)\n",
    "        - [AUC and ROC curves](#1-2-4)\n",
    "- [2. Cross-validation](#2)"
   ]
  },
  {
   "cell_type": "markdown",
   "metadata": {
    "ExecuteTime": {
     "end_time": "2020-07-14T11:12:24.941132Z",
     "start_time": "2020-07-14T11:12:24.934546Z"
    }
   },
   "source": [
    "# 0. Packages <a name=\"0\"></a>\n",
    "\n",
    "In this session, we will make use of the following packages:\n",
    "- [NumPy](https://docs.scipy.org/doc/numpy/) is a popular library for scientific computing.\n",
    "- [matplotlib](https://matplotlib.org/3.1.1/contents.html) is a plotting library compatible with numpy.\n",
    "- [pandas](https://pandas.pydata.org/docs/) is what we'll use to manipulate our data.\n",
    "- [sklearn](https://scikit-learn.org/stable/index.html) will be used to measure the performance of our model.\n",
    "\n",
    "Run the next cell to import the necessary packages mentioned before. We will add more packages as needed while progressing in this session."
   ]
  },
  {
   "cell_type": "code",
   "execution_count": 85,
   "metadata": {
    "ExecuteTime": {
     "end_time": "2020-07-20T11:06:54.609437Z",
     "start_time": "2020-07-20T11:06:53.138830Z"
    }
   },
   "outputs": [],
   "source": [
    "# Good practice to use short but clear aliases for the imported libraries\n",
    "import numpy as np\n",
    "import matplotlib.pyplot as plt\n",
    "import pandas as pd\n",
    "import sklearn\n",
    "# Magic Function\n",
    "%matplotlib inline\n",
    "# Hide all warnings\n",
    "import warnings\n",
    "warnings.filterwarnings('ignore') # warnings.filterwarnings(action='once')"
   ]
  },
  {
   "cell_type": "markdown",
   "metadata": {},
   "source": [
    "# 1. Evaluation Metrics <a name=\"1\"></a>\n",
    "\n",
    "In Machine Learning (ML), evaluating the trained models is one of the most important tasks in the model creation cycle. \n",
    "\n",
    "A typical workflow for supervised learning looks like this:\n",
    "\n",
    "- 1. Select a model with an initial configuration, train the model and then predict on unseen data (Test Dataset a.k.a `X_test` and `y_test`).\n",
    "- 2. Compare the target `y_test` with the results from `y_predicted`. Then measure the performance using an evaluation metrics.\n",
    "- 3. The hyperparameters of the models are finetuned to reach the optimal for the evaluation metric.\n",
    "\n",
    "\n",
    "Important to know:\n",
    "\n",
    "- Evaluating a model is an important step to build effective ML models.\n",
    "- There are many different evaluation metrics with some pros and cons. Some popular metrics are `Accuracy`, `Confusion Matrix`, `AUC and ROC Curves`, and `Mean Squared Error`. \n",
    "- Depending on the ML task, there are different metrics for different ML tasks. For example, `Mean Squared Error` is usually used for regression problems, whereas the `Confusion Matrix` for classification. \n",
    "\n",
    "\n",
    "In supervised learning, we can perform `classification` and `regression` tasks. In a nutshell, the tasks of `classification` correspond to the task of assigning classes or labels to the sampled data. For example, the problem of classifying images of handwritten digits from 0 to 9 will have 10 classes. On the other hand, regression tries to predict continuous values. For example, predicting the price of a house given the neighbourhood, number of rooms, etc. (Example: [Kaggle Dataset](https://www.kaggle.com/c/house-prices-advanced-regression-techniques))\n",
    "\n",
    "In this section, we will focus on `classification` and `regression` metrics.\n"
   ]
  },
  {
   "cell_type": "markdown",
   "metadata": {
    "ExecuteTime": {
     "end_time": "2020-07-16T10:56:22.985101Z",
     "start_time": "2020-07-16T10:56:22.979583Z"
    }
   },
   "source": [
    "<a name='1-1'></a>\n",
    "## 1.1 Regression Metrics\n",
    "\n",
    "To evaluate the performance on regression problems, we will use metrics that measure the distance between the target values and the predictions made by our model. It is common to hear that a regression metric is called `loss` or `error` functions. Depending on the context, some loss functions are referred to with different names. For example, Mean Absolute Error is often called `L1 loss` or `Manhattan distance` in academic papers.\n",
    "\n",
    "In a regression problem, the objective is to minimize the error, cost or loss function.\n",
    "\n",
    "For the regression examples, suppose that we already trained a model and we got `y` and the predictions for `y_pred`:"
   ]
  },
  {
   "cell_type": "code",
   "execution_count": 86,
   "metadata": {
    "ExecuteTime": {
     "end_time": "2020-07-20T11:06:54.630504Z",
     "start_time": "2020-07-20T11:06:54.611654Z"
    }
   },
   "outputs": [
    {
     "data": {
      "text/plain": [
       "array([98.62768289, 87.33919458, 50.9745525 , 27.18357143, 33.69187277,\n",
       "       21.6954265 , 27.64771432, 34.33155928, 86.21589355, 15.669967  ])"
      ]
     },
     "execution_count": 86,
     "metadata": {},
     "output_type": "execute_result"
    }
   ],
   "source": [
    "# Set a seed for random numbers\n",
    "np.random.seed(2020)\n",
    "# Generate random numbers \n",
    "y = np.random.uniform(low=0.0, high=100.0, size=(10,))\n",
    "y"
   ]
  },
  {
   "cell_type": "code",
   "execution_count": 87,
   "metadata": {
    "ExecuteTime": {
     "end_time": "2020-07-20T11:06:54.641731Z",
     "start_time": "2020-07-20T11:06:54.634788Z"
    }
   },
   "outputs": [
    {
     "data": {
      "text/plain": [
       "array([90, 85, 45, 34, 33, 22, 28, 33, 89, 16])"
      ]
     },
     "execution_count": 87,
     "metadata": {},
     "output_type": "execute_result"
    }
   ],
   "source": [
    "# Predictions\n",
    "y_pred = np.array([90,85,45,34,33,22,28,33,89,16])\n",
    "y_pred"
   ]
  },
  {
   "cell_type": "markdown",
   "metadata": {},
   "source": [
    "<a name='1-1-1'></a>\n",
    "## Mean Absolute Error (L1 loss)\n",
    "\n",
    "According to [wikipedia](https://en.wikipedia.org/wiki/Mean_absolute_error):\n",
    "\n",
    "> In statistics, mean absolute error (MAE) is a measure of errors between paired observations expressing the same phenomenon. Examples of Y versus X include comparisons of predicted versus observed, subsequent time versus initial time, and one technique of measurement versus an alternative technique of measurement. MAE is calculated as:\n",
    "\n",
    "\n",
    "$\\text{MAE}(y, \\hat{y}) = \\frac{1}{n_{\\text{samples}}} \\sum_{i=0}^{n_{\\text{samples}}-1} \\left| y_i - \\hat{y}_i \\right|$\n",
    "\n",
    "Let's break the equation:\n",
    "\n",
    "- $\\frac{1}{n_{\\text{samples}}}$: Divide everything by the total number of data points.\n",
    "- $y$: Target output values\n",
    "- $\\hat{y}$: Predicted output values\n",
    "- $\\sum_{i=0}^{n_{\\text{samples}}-1} \\left| y_i - \\hat{y}_i \\right|$: Sum of the absolute value of the difference between $y$ and $\\hat{y}$"
   ]
  },
  {
   "cell_type": "code",
   "execution_count": 46,
   "metadata": {
    "ExecuteTime": {
     "end_time": "2020-07-20T11:06:54.650669Z",
     "start_time": "2020-07-20T11:06:54.645734Z"
    }
   },
   "outputs": [
    {
     "name": "stdout",
     "output_type": "stream",
     "text": [
      "2.9552289225711506\n"
     ]
    }
   ],
   "source": [
    "# Let's implement MAE using numpy\n",
    "def MAE(y, y_pred):   \n",
    "    n_samples = len(y)\n",
    "    mean_abs_err = np.sum(np.abs(y-y_pred))/n_samples\n",
    "    return mean_abs_err\n",
    "\n",
    "print(MAE(y,y_pred))"
   ]
  },
  {
   "cell_type": "code",
   "execution_count": 47,
   "metadata": {
    "ExecuteTime": {
     "end_time": "2020-07-20T11:06:54.698707Z",
     "start_time": "2020-07-20T11:06:54.653028Z"
    }
   },
   "outputs": [
    {
     "data": {
      "text/plain": [
       "2.9552289225711506"
      ]
     },
     "execution_count": 47,
     "metadata": {},
     "output_type": "execute_result"
    }
   ],
   "source": [
    "# Scikit-learn has an implementation for MAE\n",
    "\n",
    "# Let's import it first\n",
    "from sklearn.metrics import mean_absolute_error\n",
    "\n",
    "mean_absolute_error(y,y_pred)"
   ]
  },
  {
   "cell_type": "markdown",
   "metadata": {
    "ExecuteTime": {
     "end_time": "2020-07-16T11:17:59.720252Z",
     "start_time": "2020-07-16T11:17:59.710521Z"
    }
   },
   "source": [
    "<a name='1-1-2'></a>\n",
    "## Mean Squared Error (L2 loss, also called Euclidean Distance)\n",
    "\n",
    "Mean Squared Error is probably one of the most popular and used metrics for regression tasks. As it squares the differences, it penalizes more large errors. Being a differentiable function, it can be optimised better.\n",
    "\n",
    "$\\text{MSE}(y, \\hat{y}) = \\frac{1}{n_\\text{samples}} \\sum_{i=0}^{n_\\text{samples} - 1} (y_i - \\hat{y}_i)^2$\n"
   ]
  },
  {
   "cell_type": "code",
   "execution_count": 48,
   "metadata": {
    "ExecuteTime": {
     "end_time": "2020-07-20T11:06:54.707174Z",
     "start_time": "2020-07-20T11:06:54.701686Z"
    }
   },
   "outputs": [
    {
     "name": "stdout",
     "output_type": "stream",
     "text": [
      "17.239649808666712\n"
     ]
    }
   ],
   "source": [
    "# Let's implement MSE using numpy\n",
    "def MSE(y, y_pred):   \n",
    "    n_samples = len(y)\n",
    "    mean_sq_err = np.sum((y-y_pred)**2)/n_samples\n",
    "    return mean_sq_err\n",
    "\n",
    "print(MSE(y,y_pred))"
   ]
  },
  {
   "cell_type": "code",
   "execution_count": 49,
   "metadata": {
    "ExecuteTime": {
     "end_time": "2020-07-20T11:06:54.714774Z",
     "start_time": "2020-07-20T11:06:54.709074Z"
    }
   },
   "outputs": [
    {
     "data": {
      "text/plain": [
       "17.239649808666712"
      ]
     },
     "execution_count": 49,
     "metadata": {},
     "output_type": "execute_result"
    }
   ],
   "source": [
    "# Scikit-learn has an implementation for MSE as well\n",
    "# Let's import it first\n",
    "from sklearn.metrics import mean_squared_error\n",
    "\n",
    "mean_squared_error(y,y_pred)"
   ]
  },
  {
   "cell_type": "markdown",
   "metadata": {},
   "source": [
    "<a name='1-1-3'></a>\n",
    "## Root Mean Squared Error (RMSE)\n",
    "\n",
    "$\\text{RMSE}(y, \\hat{y}) = \\sqrt{\\frac{1}{n_\\text{samples}} \\sum_{i=0}^{n_\\text{samples} - 1} (y_i - \\hat{y}_i)^2}$\n"
   ]
  },
  {
   "cell_type": "code",
   "execution_count": 50,
   "metadata": {
    "ExecuteTime": {
     "end_time": "2020-07-20T11:06:54.723839Z",
     "start_time": "2020-07-20T11:06:54.718685Z"
    }
   },
   "outputs": [
    {
     "name": "stdout",
     "output_type": "stream",
     "text": [
      "4.152065727883738\n"
     ]
    }
   ],
   "source": [
    "# Let's implement MAE using numpy\n",
    "def RMSE(y, y_pred):   \n",
    "    n_samples = len(y)\n",
    "    mean_abs_err = np.sqrt(np.sum((y-y_pred)**2)/n_samples)\n",
    "    return mean_abs_err\n",
    "\n",
    "print(RMSE(y,y_pred))"
   ]
  },
  {
   "cell_type": "code",
   "execution_count": 51,
   "metadata": {
    "ExecuteTime": {
     "end_time": "2020-07-20T11:06:54.732940Z",
     "start_time": "2020-07-20T11:06:54.727623Z"
    }
   },
   "outputs": [
    {
     "data": {
      "text/plain": [
       "4.152065727883738"
      ]
     },
     "execution_count": 51,
     "metadata": {},
     "output_type": "execute_result"
    }
   ],
   "source": [
    "# Scikit-learn has an implementation for MSE as well\n",
    "# Let's import it first MSE\n",
    "from sklearn.metrics import mean_squared_error\n",
    "\n",
    "# We could do something like this for this implementation\n",
    "np.sqrt(mean_squared_error(y,y_pred))"
   ]
  },
  {
   "cell_type": "markdown",
   "metadata": {
    "ExecuteTime": {
     "end_time": "2020-07-16T11:30:21.125648Z",
     "start_time": "2020-07-16T11:30:21.120661Z"
    }
   },
   "source": [
    "There are many implementations of regression metrics in Scikit-learn. Each metric has its advantages and drawbacks.\n",
    "\n",
    "For a completed list of metrics check the official API:\n",
    "https://scikit-learn.org/stable/modules/model_evaluation.html#regression-metrics"
   ]
  },
  {
   "cell_type": "markdown",
   "metadata": {
    "ExecuteTime": {
     "end_time": "2020-07-14T11:38:38.032897Z",
     "start_time": "2020-07-14T11:38:38.023231Z"
    }
   },
   "source": [
    "<a name='1-2'></a>\n",
    "## 1.2 Classification Metrics\n",
    "<a name='1-2-1'></a>\n",
    "### True Positives, False Positives, True Negatives, and False Negatives\n",
    "\n",
    "The most basic statistics to compute from the model predictions are the true positives, true negatives, false positives and false negatives:\n",
    "\n",
    "- true positive (TP): The model classifies the example as positive, and the actual label also positive.\n",
    "- false positive (FP): The model classifies the example as positive, **but** the actual label is negative.\n",
    "- true negative (TN): The model classifies the example as negative, and the actual label is also negative.\n",
    "- false negative (FN): The model classifies the example as negative, **but** the label is actually positive.\n",
    "\n",
    "We will count the number of TP, FP, TN and FN in the given data.  All of our metrics can be built off of these four statistics. \n",
    "\n",
    "Recall that the model outputs real numbers between 0 and 1.\n",
    "* To compute binary class predictions, we need to convert these to either 0 or 1. \n",
    "* We'll do this using a threshold value $th$.\n",
    "* Any model outputs above $th$ are set to 1, and below $th$ are set to 0. \n",
    "\n",
    "All of the metrics studies in this section (except for ROC-AUC Curves) will depend on the choice of this threshold. \n",
    "<a name='ex-1'></a>\n",
    "### Exercise 1\n",
    "\n",
    "The first two metrics, `TP` and `FP` are implemented below. Based on that code, create two more functions for `TN` and `TP`."
   ]
  },
  {
   "cell_type": "code",
   "execution_count": 52,
   "metadata": {
    "ExecuteTime": {
     "end_time": "2020-07-20T11:06:54.741972Z",
     "start_time": "2020-07-20T11:06:54.735210Z"
    }
   },
   "outputs": [],
   "source": [
    "# Let's set the threshold as 0.5 by default\n",
    "def true_positives(y, pred, th=0.5):\n",
    "    TP = 0\n",
    "    # get thresholded predictions\n",
    "    th_preds = (pred > th).astype(int) # astype(int) converts an array of booleans to integers\n",
    "    # compute True Positives. Use numpy to calculate TP  \n",
    "    TP = np.sum((y == 1) & (th_preds == 1))\n",
    "    return TP\n",
    "\n",
    "def true_negatives(y, pred, th=0.5):\n",
    "    TN = 0\n",
    "    # get thresholded predictions\n",
    "    th_preds = (pred > th).astype(int) # astype(int) converts an array of booleans to integers\n",
    "    # compute True Negatives. Use numpy to calculate TN\n",
    "    TN = np.sum((y == 0) & (th_preds == 0))\n",
    "    return TN\n",
    "\n",
    "def false_positives(y, pred, th=0.5):\n",
    "    FP = 0\n",
    "    # get thresholded predictions\n",
    "    th_preds = pred > th\n",
    "    # COMPLETE CODE HERE\n",
    "    return FP\n",
    "\n",
    "def false_negatives(y, pred, th=0.5):\n",
    "    FN = 0\n",
    "    # get thresholded predictions\n",
    "    th_preds = pred > th\n",
    "    # COMPLETE CODE HERE\n",
    "    return FN"
   ]
  },
  {
   "cell_type": "markdown",
   "metadata": {},
   "source": [
    "You can click in the button below the reveal the solution for exercise 1\n",
    "\n",
    "<details>    \n",
    "<summary>\n",
    "    <font size=\"4\" color=\"darkblue\"><b>See the solution for Exercise 1</b></font>\n",
    "</summary>\n",
    "    \n",
    "```python\n",
    "    def false_positives(y, pred, th=0.5):\n",
    "        FP = 0\n",
    "        # get thresholded predictions\n",
    "        th_preds = (pred > th).astype(int)\n",
    "        # compute FP\n",
    "        FP = np.sum(((y == 0) & (th_preds == 1)).astype(int))\n",
    "        return FP\n",
    "\n",
    "    def false_negatives(y, pred, th=0.5):\n",
    "        FN = 0\n",
    "        # get thresholded predictions\n",
    "        th_preds = (pred > th).astype(int)\n",
    "        FN = np.sum(((y == 1) & (th_preds == 0)).astype(int))\n",
    "        return FN\n",
    " ```\n",
    "</details>\n"
   ]
  },
  {
   "cell_type": "markdown",
   "metadata": {
    "ExecuteTime": {
     "end_time": "2020-07-15T09:24:19.781972Z",
     "start_time": "2020-07-15T09:24:19.770566Z"
    }
   },
   "source": [
    "<a name='1-2-2'></a>\n",
    "## Accuracy, Precision, Recall\n",
    "\n",
    "From the basic statistics we can calculate metrics such as accuracy, precision and recall.\n",
    "\n",
    "A few definitions from Wikipedia below:\n",
    "\n",
    "- **Accuracy**: Accuracy is the closeness of the measurements to a specific value (Source: [Wikipedia](https://en.wikipedia.org/wiki/Accuracy_and_precision)). \n",
    "\n",
    "$\\displaystyle \\mathrm {ACC} ={\\frac {\\mathrm {TP} +\\mathrm {TN} }{\\mathrm {TP} +\\mathrm {TN} +\\mathrm {FP} +\\mathrm {FN} }}$\n",
    "\n",
    "Accuracy is one of the most popular metrics for classification. However, accuracy alone might not be the best metric to benchmark the performance of a ML model.\n",
    "\n",
    "\n",
    "In the following scenario, imagine that you trained an ML binary classification model and you got $y$ and $\\hat{y}$ like this. You also want calculate a threshold of 0,5:\n",
    "\n",
    "**Model 1:**\n",
    "\n",
    "<table>\n",
    "<tr><th>Original </th><th>With Threshold 0,5</th></tr>\n",
    "<tr><td>\n",
    "    \n",
    "| $y$ | $\\hat{y}$ |\n",
    "| :-: | :-: | \n",
    "| 0 | 0,2 |\n",
    "| 1 | 0,6 |\n",
    "| 0 | 0,44 |\n",
    "| 1 | 0,8 |\n",
    "| 1 | 0,75 |\n",
    "| 0 | 0,55 |\n",
    "| 0 | 0,25 |\n",
    "| 1 | 0,67 |\n",
    "| 1 | 0,32 |\n",
    "| 1 | 0,15 |\n",
    "    \n",
    "</td><td>\n",
    "    \n",
    "| $y$ | $\\hat{y}$ |\n",
    "| :-: | :-: | \n",
    "| 0 | 0 |\n",
    "| 1 | 1 |\n",
    "| 0 | 0 |\n",
    "| 1 | 1 |\n",
    "| 1 | 1 |\n",
    "| 0 | 1 |\n",
    "| 0 | 0 |\n",
    "| 1 | 1 |\n",
    "| 1 | 0 |\n",
    "| 1 | 0 |\n",
    "\n",
    "</td></tr></table>\n",
    "\n",
    "From those results, let's calculate TP, TN, FP, FN:\n",
    "\n",
    "<details>    \n",
    "<summary>\n",
    "    <font size=\"4\" color=\"darkgreen\"><b>Help...</b></font>\n",
    "</summary>\n",
    "    \n",
    "```python\n",
    "    TP = np.sum(((y == 1) & (th_preds == 1)).astype(int))\n",
    "    TN = np.sum(((y == 0) & (th_preds == 0)).astype(int))\n",
    "    FP = np.sum(((y == 0) & (th_preds == 1)).astype(int))\n",
    "    FN = np.sum(((y == 1) & (th_preds == 0)).astype(int))\n",
    " ```\n",
    "</details>\n",
    "\n",
    "- $\\mathrm{TP = 4}$\n",
    "- $\\mathrm{TN = 3}$\n",
    "- $\\mathrm{FP = 1}$\n",
    "- $\\mathrm{FN = 2}$\n",
    "\n",
    "To calculate accuracy:\n",
    "\n",
    "$\\displaystyle \\mathrm {ACC} ={\\frac {\\mathrm {TP} +\\mathrm {TN} }{\\mathrm {TP} +\\mathrm {TN} +\\mathrm {FP} +\\mathrm {FN} }}$\n",
    "\n",
    "\n",
    "So in our case:\n",
    "\n",
    "$\\displaystyle \\mathrm {ACC} ={\\frac {\\mathrm {4} +\\mathrm {3} }{\\mathrm {4} +\\mathrm {3} +\\mathrm {1} +\\mathrm {2} }} = {\\frac{7}{10}} = 0,7 $\n",
    "\n",
    "So we got an accuracy of 0,7. No bad right? Now let's compare with the next example:\n",
    "\n",
    "<a name='ex-2'></a>\n",
    "### Exercise 2\n",
    "\n",
    "Imagine that you have trained another ML algorithm and you get the results below:\n",
    "1. Calculate results with a threshold of 0,5\n",
    "2. Calculate TP, TN, FP, FN\n",
    "3. Calculate accuracy\n",
    "\n",
    "**Model 2:**\n",
    "\n",
    "\n",
    "<table>\n",
    "<tr><th>Original </th><th>With Threshold 0,5</th></tr>\n",
    "<tr><td>\n",
    "    \n",
    "| $y$ | $\\hat{y}$ |\n",
    "| :-: | :-: |\n",
    "| 0 | 0,01 |\n",
    "| 0 | 0,01 |\n",
    "| 1 | 0,01 |\n",
    "| 1 | 0,01 |\n",
    "| 0 | 0,01 |\n",
    "| 0 | 0,01 |\n",
    "| 0 | 0,01 |\n",
    "| 0 | 0,01 |\n",
    "| 0 | 0,01 |\n",
    "| 0 | 0,01 |\n",
    "    \n",
    "</td><td>\n",
    "    \n",
    "| $y$ | $\\hat{y}$ |\n",
    "| :-: | :-: |\n",
    "| 0 | 0 |\n",
    "| 0 | 0 |\n",
    "| 1 | 0 |\n",
    "| 1 | 0 |\n",
    "| 0 | 0 |\n",
    "| 0 | 0 |\n",
    "| 0 | 0 |\n",
    "| 0 | 0 |\n",
    "| 0 | 0 |\n",
    "| 0 | 0 |\n",
    "\n",
    "</td></tr></table>\n",
    "\n",
    "You can click in the button below the reveal the solution for exercise 2\n",
    "\n",
    "<details>    \n",
    "<summary>\n",
    "    <font size=\"4\" color=\"darkblue\"><b>See the solution for Exercise 2</b></font>\n",
    "</summary>\n",
    "\n",
    "\n",
    "<table>\n",
    "<tr><th>Original </th><th>With Threshold 0,5</th><th>Results</th></tr>\n",
    "<tr><td>\n",
    "    \n",
    "| $y$ | $\\hat{y}$ |\n",
    "| :-: | :-: |\n",
    "| 0 | 0,01 |\n",
    "| 0 | 0,01 |\n",
    "| 1 | 0,01 |\n",
    "| 1 | 0,01 |\n",
    "| 0 | 0,01 |\n",
    "| 0 | 0,01 |\n",
    "| 0 | 0,01 |\n",
    "| 0 | 0,01 |\n",
    "| 0 | 0,01 |\n",
    "| 0 | 0,01 |\n",
    "    \n",
    "</td><td>\n",
    "    \n",
    "| $y$ | $\\hat{y}$ |\n",
    "| :-: | :-: | \n",
    "| 0 | 0 |\n",
    "| 0 | 0 |\n",
    "| 1 | 0 |\n",
    "| 1 | 0 |\n",
    "| 0 | 0 |\n",
    "| 0 | 0 |\n",
    "| 0 | 0 |\n",
    "| 0 | 0 |\n",
    "| 0 | 0 |\n",
    "| 0 | 0 |\n",
    "\n",
    "</td><td>\n",
    "    \n",
    "- $TP=0$\n",
    "- $TN=8$\n",
    "- $FP=0$\n",
    "- $FN=2$    \n",
    "    \n",
    "    \n",
    "$\\displaystyle \\mathrm {ACC} ={\\frac {\\mathrm {0} +\\mathrm {8} }{\\mathrm {0} +\\mathrm {8} +\\mathrm {0} +\\mathrm {2} }} = {\\frac{8}{10}} = 0,8 $\n",
    "    \n",
    "</td></tr> </table>\n",
    "    \n",
    "**IMPORTANT (READ THIS):** <br/>\n",
    "So our accuracy is 80% now ! Does this mean that our second model is better?\n",
    "    \n",
    "Actually, our first intuition would tell us that the first model is better, even if we are getting a better accuracy from the second model. Why is that?\n",
    "    \n",
    "If we check the results for the second model, we will notice that the second model always predicts 0.01. This is not a very useful model and that's why we should not rely only in the accuracy metric.\n",
    "</details>"
   ]
  },
  {
   "cell_type": "markdown",
   "metadata": {},
   "source": [
    "Let's talk now about recall and precision.\n",
    "\n",
    "Some few definitions from Wikipedia below:\n",
    "\n",
    "- **recall**: measures the proportion of actual positives that are correctly identified as such (Source: [Wikipedia](https://en.wikipedia.org/wiki/Sensitivity_and_specificity)). <br/>\n",
    "$\\displaystyle \\mathrm {Recall} ={\\frac {\\mathrm {TP} }{\\mathrm {TP} +\\mathrm {FN}}}$\n",
    "\n",
    "- **precision**: are the proportions of positive results that are true positives (Source: [Wikipedia](https://en.wikipedia.org/wiki/Accuracy_and_precision)).  <br/>\n",
    "$\\displaystyle \\mathrm {Precision} ={\\frac {\\mathrm {TP} }{\\mathrm {TP} +\\mathrm {FP}}}$\n",
    "\n",
    "\n",
    "From the last exercise we had:\n",
    "\n",
    "- $TP=0$\n",
    "- $TN=8$\n",
    "- $FP=0$\n",
    "- $FN=2$    \n",
    "    \n",
    "$\\displaystyle \\mathrm {ACC} ={\\frac {\\mathrm {0} +\\mathrm {8} }{\\mathrm {0} +\\mathrm {8} +\\mathrm {0} +\\mathrm {2} }} = {\\frac{8}{10}} = 0,8 $\n",
    "\n",
    "Now, let's calculate the Recall and Precision for the same example:\n",
    "\n",
    "$\\displaystyle \\mathrm {Recall} ={\\frac {\\mathrm {TP} }{\\mathrm {TP} +\\mathrm {FN}}}={\\frac {\\mathrm {0}}{\\mathrm {0} +\\mathrm {2}}}=0$\n",
    "    \n",
    "$\\displaystyle \\mathrm {Precision} ={\\frac {\\mathrm {TP} }{\\mathrm {TP} +\\mathrm {FP}}}={\\frac {\\mathrm {0} }{\\mathrm {0} +\\mathrm {0}}}=$Error (Do not divide by zero)\n",
    "\n",
    "**Note:** We can modify the formula and add a small value $\\epsilon$ to avoid problems of division by zero.\n",
    "Then, the new formula could be:\n",
    "\n",
    "$\\displaystyle \\mathrm {Precision} ={\\frac {\\mathrm {TP} }{\\mathrm {TP} +\\mathrm {FP} + \\epsilon}}$\n",
    "\n",
    "where $\\epsilon$ is equal to small number such as 0,000001\n",
    "\n",
    "Then:\n",
    "\n",
    "$\\displaystyle \\mathrm {Precision} ={\\frac {\\mathrm {TP} }{\\mathrm {TP} +\\mathrm {FP} + \\epsilon}}={\\frac {\\mathrm {0} }{\\mathrm {0} +\\mathrm {0} + 0,000001}}=0$\n",
    "\n",
    "\n",
    "### Exercise 3\n",
    "\n",
    "We already calculated the `precision` and `recall` for the second model of our example. We noticed that in both cases we got a value of zero. Despite of having an accuracy of 80%, a precision and recall of 0 is very suspicious. This would usually mean that there is something wrong either with our model or the test data set we are using to evaluate.\n",
    "\n",
    "- Calculate the precision and recall for the first model\n",
    "- Compare how those accuracy, precision and recall differ between model 1 and model 2 \n",
    "\n",
    "Model 1:\n",
    "<table>\n",
    "<tr><th>Original </th><th>With Threshold 0,5</th></tr>\n",
    "<tr><td>\n",
    "    \n",
    "| $y$ | $\\hat{y}$ |\n",
    "| :-: | :-: | \n",
    "| 0 | 0,2 |\n",
    "| 1 | 0,6 |\n",
    "| 0 | 0,44 |\n",
    "| 1 | 0,8 |\n",
    "| 1 | 0,75 |\n",
    "| 0 | 0,55 |\n",
    "| 0 | 0,25 |\n",
    "| 1 | 0,67 |\n",
    "| 1 | 0,32 |\n",
    "| 1 | 0,15 |\n",
    "    \n",
    "</td><td>\n",
    "    \n",
    "| $y$ | $\\hat{y}$ |\n",
    "| :-: | :-: | \n",
    "| 0 | 0 |\n",
    "| 1 | 1 |\n",
    "| 0 | 0 |\n",
    "| 1 | 1 |\n",
    "| 1 | 1 |\n",
    "| 0 | 1 |\n",
    "| 0 | 0 |\n",
    "| 1 | 1 |\n",
    "| 1 | 0 |\n",
    "| 1 | 0 |\n",
    "\n",
    "</td></tr></table>\n",
    "\n",
    "Model 2:\n",
    "<table>\n",
    "<tr><th>Original </th><th>With Threshold 0,5</th></tr>\n",
    "<tr><td>\n",
    "    \n",
    "| $y$ | $\\hat{y}$ |\n",
    "| :-: | :-: |\n",
    "| 0 | 0,01 |\n",
    "| 0 | 0,01 |\n",
    "| 1 | 0,01 |\n",
    "| 1 | 0,01 |\n",
    "| 0 | 0,01 |\n",
    "| 0 | 0,01 |\n",
    "| 0 | 0,01 |\n",
    "| 0 | 0,01 |\n",
    "| 0 | 0,01 |\n",
    "| 0 | 0,01 |\n",
    "    \n",
    "</td><td>\n",
    "    \n",
    "| $y$ | $\\hat{y}$ |\n",
    "| :-: | :-: |\n",
    "| 0 | 0 |\n",
    "| 0 | 0 |\n",
    "| 1 | 0 |\n",
    "| 1 | 0 |\n",
    "| 0 | 0 |\n",
    "| 0 | 0 |\n",
    "| 0 | 0 |\n",
    "| 0 | 0 |\n",
    "| 0 | 0 |\n",
    "| 0 | 0 |\n",
    "\n",
    "</td></tr></table>"
   ]
  },
  {
   "cell_type": "markdown",
   "metadata": {},
   "source": [
    "You can click in the button below the reveal the solution for exercise 1\n",
    "<details>    \n",
    "<summary>\n",
    "    <font size=\"4\" color=\"darkblue\"><b>See the solution for Exercise 3</b></font>\n",
    "</summary>\n",
    "    \n",
    "**Model 1:**\n",
    "    \n",
    "- $\\mathrm{TP = 4}$\n",
    "- $\\mathrm{TN = 3}$\n",
    "- $\\mathrm{FP = 1}$\n",
    "- $\\mathrm{FN = 2}$\n",
    "\n",
    "$\\displaystyle \\mathrm {ACC} ={\\frac {\\mathrm {4} +\\mathrm {3} }{\\mathrm {4} +\\mathrm {3} +\\mathrm {1} +\\mathrm {2} }} = {\\frac{7}{10}} = 0,7 $\n",
    "    \n",
    "$\\displaystyle \\mathrm {Recall} ={\\frac {\\mathrm {TP} }{\\mathrm {TP} +\\mathrm {FN}}}={\\frac {\\mathrm {4}}{\\mathrm {4} +\\mathrm {2}}}=\\frac {\\mathrm {4}}{\\mathrm {6}} = 0.67$\n",
    "    \n",
    "$\\displaystyle \\mathrm {Precision} ={\\frac {\\mathrm {TP}}{\\mathrm {TP} +\\mathrm {FP}}}={\\frac{\\mathrm {4}}{\\mathrm {4} +\\mathrm {1}}}=\\frac {\\mathrm {4}}{\\mathrm {5}} = 0.8$\n",
    "    \n",
    "**Model 2:**\n",
    "    \n",
    "- $\\mathrm{TP = 0}$\n",
    "- $\\mathrm{TN = 8}$\n",
    "- $\\mathrm{FP = 0}$\n",
    "- $\\mathrm{FN = 2}$\n",
    "    \n",
    "$\\displaystyle \\mathrm {ACC} ={\\frac {\\mathrm {0} +\\mathrm {8} }{\\mathrm {0} +\\mathrm {8} +\\mathrm {0} +\\mathrm {2} }} = {\\frac{8}{10}} = 0,8 $\n",
    "    \n",
    "$\\displaystyle \\mathrm {Recall} ={\\frac {\\mathrm {TP} }{\\mathrm {TP} +\\mathrm {FN} +\\epsilon}}={\\frac {\\mathrm {0}}{\\mathrm {0} +\\mathrm {2}+\\epsilon}}=\\frac {\\mathrm {0}}{\\mathrm {2}+\\epsilon} = 0$\n",
    "    \n",
    "$\\displaystyle \\mathrm {Precision} ={\\frac {\\mathrm {TP}}{\\mathrm {TP} +\\mathrm {FP}+\\epsilon}}={\\frac{\\mathrm {0}}{\\mathrm {0} +\\mathrm {1}+\\epsilon}}=\\frac {\\mathrm {0}}{\\mathrm {0}+\\epsilon} = 0$\n",
    "    \n",
    "</details>   "
   ]
  },
  {
   "cell_type": "markdown",
   "metadata": {},
   "source": [
    "### Metrics in Python\n",
    "Let's implement the metrics for accuracy, recall, and precision in Python.\n",
    "\n",
    "But first, let's check again the functions to calculate TP,TN,FP and FN"
   ]
  },
  {
   "cell_type": "code",
   "execution_count": 53,
   "metadata": {
    "ExecuteTime": {
     "end_time": "2020-07-20T11:06:54.751220Z",
     "start_time": "2020-07-20T11:06:54.743889Z"
    }
   },
   "outputs": [],
   "source": [
    "# If you implemented correctly the functions in exercise 1. It should look like this code below:\n",
    "# Let's set the threshold as 0.5 by default\n",
    "def true_positives(y, pred, th=0.5):\n",
    "    TP = 0\n",
    "    # get thresholded predictions\n",
    "    th_preds = (pred > th).astype(int) # astype(int) will convert an array of booleans to integers\n",
    "    # compute True Positives. Use numpy to calculate TP  \n",
    "    TP = np.sum(((y == 1) & (th_preds == 1)).astype(int))\n",
    "    return TP\n",
    "\n",
    "def true_negatives(y, pred, th=0.5):\n",
    "    TN = 0\n",
    "    # get thresholded predictions\n",
    "    th_preds = (pred > th).astype(int)\n",
    "    # compute True Negatives. Use numpy to calculate TN\n",
    "    TN = np.sum(((y == 0) & (th_preds == 0)).astype(int))\n",
    "    return TN\n",
    "\n",
    "def false_positives(y, pred, th=0.5):\n",
    "    FP = 0\n",
    "    # get thresholded predictions\n",
    "    th_preds = (pred > th).astype(int)\n",
    "    # compute FP\n",
    "    FP = np.sum(((y == 0) & (th_preds == 1)).astype(int))\n",
    "    return FP\n",
    "\n",
    "def false_negatives(y, pred, th=0.5):\n",
    "    FN = 0\n",
    "    # get thresholded predictions\n",
    "    th_preds = (pred > th).astype(int)\n",
    "    FN = np.sum(((y == 1) & (th_preds == 0)).astype(int))\n",
    "    return FN"
   ]
  },
  {
   "cell_type": "markdown",
   "metadata": {},
   "source": [
    "Remember that the accuracy is defined by:\n",
    "\n",
    "$\\displaystyle \\mathrm {ACC} ={\\frac {\\mathrm {TP} +\\mathrm {TN} }{\\mathrm {TP} +\\mathrm {TN} +\\mathrm {FP} +\\mathrm {FN} }}$"
   ]
  },
  {
   "cell_type": "code",
   "execution_count": 54,
   "metadata": {
    "ExecuteTime": {
     "end_time": "2020-07-20T11:06:54.759753Z",
     "start_time": "2020-07-20T11:06:54.754283Z"
    }
   },
   "outputs": [],
   "source": [
    "# Implementation of Accuracy in Python\n",
    "def accuracy(y,y_hat):\n",
    "    TP = true_positives(y,y_hat)\n",
    "    TN = true_negatives(y,y_hat)\n",
    "    FP = false_positives(y,y_hat)\n",
    "    FN = false_negatives(y,y_hat)\n",
    "    \n",
    "    return (TP+TN)/(TP+TN+FP+FN)"
   ]
  },
  {
   "cell_type": "code",
   "execution_count": 55,
   "metadata": {
    "ExecuteTime": {
     "end_time": "2020-07-20T11:06:54.770616Z",
     "start_time": "2020-07-20T11:06:54.762871Z"
    }
   },
   "outputs": [
    {
     "data": {
      "text/plain": [
       "0.7"
      ]
     },
     "execution_count": 55,
     "metadata": {},
     "output_type": "execute_result"
    }
   ],
   "source": [
    "# Data from Model 1\n",
    "y = np.array([0,1,0,1,1,0,0,1,1,1])\n",
    "y_hat = np.array([.2,.6,.44,.8,.75,.55,.25,.67,.32,.15])\n",
    "\n",
    "th = 0.5\n",
    "y_pred = (y_hat > th).astype(int)\n",
    "\n",
    "accuracy(y, y_pred)"
   ]
  },
  {
   "cell_type": "markdown",
   "metadata": {},
   "source": [
    "# Exercise 4\n",
    "\n",
    "Implement the metrics for precision and recall in Python"
   ]
  },
  {
   "cell_type": "code",
   "execution_count": 56,
   "metadata": {
    "ExecuteTime": {
     "end_time": "2020-07-20T11:06:54.775237Z",
     "start_time": "2020-07-20T11:06:54.773001Z"
    }
   },
   "outputs": [],
   "source": [
    "# IMPLEMENT CODE HERE\n",
    "\n"
   ]
  },
  {
   "cell_type": "markdown",
   "metadata": {},
   "source": [
    "<details>    \n",
    "<summary>\n",
    "    <font size=\"4\" color=\"darkblue\"><b>See the solution for Exercise 4</b></font>\n",
    "</summary>\n",
    "    \n",
    "```python\n",
    "# Implementation of Recall in Python\n",
    "def recall(y,y_hat):\n",
    "    TP = true_positives(y,y_hat)\n",
    "    FN = false_negatives(y,y_hat)\n",
    "\n",
    "    return (TP)/(TP+FN)\n",
    "\n",
    "print(recall(y,y_hat))\n",
    "# Output: 0.666666666\n",
    "# Implementation of Precision in Python\n",
    "def precision(y,y_hat):\n",
    "    TP = true_positives(y,y_hat)\n",
    "    FP = false_positives(y,y_hat)\n",
    "\n",
    "    return (TP)/(TP+FP)\n",
    "\n",
    "print(precision(y,y_hat))\n",
    "# Output: 0.8\n",
    "```\n",
    "</details>"
   ]
  },
  {
   "cell_type": "markdown",
   "metadata": {},
   "source": [
    "<a name='1-1-3'></a>\n",
    "### Confusion Matrix and F1-Score\n",
    "\n",
    "> In the field of machine learning and specifically the problem of statistical classification, a confusion matrix, also known as an error matrix, is a specific table layout that allows visualization of the performance of an algorithm, typically a supervised learning one (in unsupervised learning it is usually called a matching matrix). Each row of the matrix represents the instances in a predicted class while each column represents the instances in an actual class (or vice versa). The name stems from the fact that it makes it easy to see if the system is confusing two classes (i.e. commonly mislabeling one as another).\n",
    "\n",
    "> ... is a table with two rows and two columns that reports the number of false positives, false negatives, true positives, and true negatives. This allows more detailed analysis than mere proportion of correct classifications (accuracy). Accuracy will yield misleading results if the data set is unbalanced; that is, when the numbers of observations in different classes vary greatly.\n",
    "\n",
    "**Note:** In this session, we won't cover how to deal with imbalanced data.\n",
    "\n",
    "A Confusion Matrix is an useful tool for the evaluation of classification models. Scikit-learn has an implementation of this.\n",
    "\n",
    "\n",
    "Let's check an example of the Confusion Matrix using the data for the **model 1:**\n"
   ]
  },
  {
   "cell_type": "code",
   "execution_count": 57,
   "metadata": {
    "ExecuteTime": {
     "end_time": "2020-07-20T11:06:54.784094Z",
     "start_time": "2020-07-20T11:06:54.777969Z"
    }
   },
   "outputs": [
    {
     "name": "stdout",
     "output_type": "stream",
     "text": [
      "[[3 1]\n",
      " [2 4]]\n"
     ]
    }
   ],
   "source": [
    "# Import module\n",
    "from sklearn.metrics import confusion_matrix as cm\n",
    "c_matrix = cm(y, (y_hat > 0.5).astype(int))\n",
    "print(c_matrix)"
   ]
  },
  {
   "cell_type": "code",
   "execution_count": 58,
   "metadata": {
    "ExecuteTime": {
     "end_time": "2020-07-20T11:06:54.793174Z",
     "start_time": "2020-07-20T11:06:54.786690Z"
    }
   },
   "outputs": [
    {
     "name": "stdout",
     "output_type": "stream",
     "text": [
      "3 1 2 4\n"
     ]
    }
   ],
   "source": [
    "# You can use ravel to extract the statistics TP,TN,FP,FN\n",
    "tn, fp, fn, tp = cm(y, (y_hat > 0.5).astype(int)).ravel()\n",
    "print(tn,fp,fn,tp)"
   ]
  },
  {
   "cell_type": "markdown",
   "metadata": {},
   "source": [
    "Did you noticed any relation between tn,fp,fn,tp and the confusion matrix?\n",
    "\n",
    "<table class=\"wikitable\" style=\"border:none; float:left; margin-top:0;\">\n",
    "<tbody><tr>\n",
    "<th style=\"background:white; border:none;\" colspan=\"2\" rowspan=\"2\">\n",
    "</th>\n",
    "<th colspan=\"2\" style=\"background:none;\">Predicted class\n",
    "</th></tr>\n",
    "<tr>\n",
    "<th>Negative\n",
    "</th>\n",
    "<th>Positive\n",
    "</th></tr>\n",
    "<tr>\n",
    "<th rowspan=\"2\" style=\"height:6em;\"><div style=\"display: inline-block; -ms-transform: rotate(-90deg); -webkit-transform: rotate(-90deg); transform: rotate(-90deg);;\">Actual<br>class</div>\n",
    "</th>\n",
    "<th>Negative\n",
    "</th>\n",
    "<td><b>TN</b>\n",
    "</td>\n",
    "<td>FP\n",
    "</td></tr>\n",
    "<tr>\n",
    "<th>Positive\n",
    "</th>\n",
    "<td>FN\n",
    "</td>\n",
    "<td><b>TP</b>\n",
    "</td></tr>\n",
    "</tbody></table>\n"
   ]
  },
  {
   "cell_type": "code",
   "execution_count": 59,
   "metadata": {
    "ExecuteTime": {
     "end_time": "2020-07-20T11:06:55.100089Z",
     "start_time": "2020-07-20T11:06:54.796189Z"
    }
   },
   "outputs": [
    {
     "data": {
      "image/png": "[encoded data removed]",
      "text/plain": [
       "<Figure size 432x288 with 2 Axes>"
      ]
     },
     "metadata": {
      "needs_background": "light"
     },
     "output_type": "display_data"
    }
   ],
   "source": [
    "# Now let's plot a confusion matrix\n",
    "import seaborn as sns\n",
    "\n",
    "# Calculate confusion matrix\n",
    "c_matrix = cm(y, (y_hat > 0.5).astype(int))\n",
    "f = sns.heatmap(c_matrix, annot=True)"
   ]
  },
  {
   "cell_type": "markdown",
   "metadata": {
    "ExecuteTime": {
     "end_time": "2020-07-17T02:33:20.295855Z",
     "start_time": "2020-07-17T02:33:20.291744Z"
    }
   },
   "source": [
    "## $F_{1}$ Score ( Harmonic Mean )"
   ]
  },
  {
   "cell_type": "markdown",
   "metadata": {},
   "source": [
    "From [Wikipedia](https://en.wikipedia.org/wiki/F1_score):\n",
    "> In statistical analysis of binary classification, the F1 score (also F-score or F-measure) is a measure of a test's accuracy. It considers both the precision p and the recall r of the test to compute the score: p is the number of correct positive results divided by the number of all positive results returned by the classifier, and r is the number of correct positive results divided by the number of all relevant samples (all samples that should have been identified as positive).\n",
    "The F1 score is the harmonic mean of the precision and recall, where an F1 score reaches its best value at 1 (perfect precision and recall). The F1 score is also known as the Sørensen–Dice coefficient or Dice similarity coefficient (DSC).\n",
    "\n",
    "F1 Score is a good way of taking into consideration precision and recall in one single metric.\n",
    "\n",
    "According to the official [Scikit-learn documentation](https://scikit-learn.org/stable/modules/generated/sklearn.metrics.f1_score.html):\n",
    "\n",
    "The F1 score can be interpreted as a weighted average of the precision and recall, where an F1 score reaches its best value at 1 and worst score at 0. The relative contribution of precision and recall to the F1 score are equal. The formula for the F1 score is:\n",
    "\n",
    "```python\n",
    "F1 = 2 * (precision * recall) / (precision + recall)\n",
    "```\n",
    "\n",
    "In the multi-class and multi-label case, this is the average of the F1 score of each class with weighting depending on the average parameter."
   ]
  },
  {
   "cell_type": "code",
   "execution_count": 60,
   "metadata": {
    "ExecuteTime": {
     "end_time": "2020-07-20T11:06:55.112555Z",
     "start_time": "2020-07-20T11:06:55.102139Z"
    }
   },
   "outputs": [
    {
     "name": "stdout",
     "output_type": "stream",
     "text": [
      "0.6969696969696968\n",
      "0.7\n",
      "0.7030303030303029\n"
     ]
    }
   ],
   "source": [
    "# First import the metric f1_score\n",
    "from sklearn.metrics import f1_score\n",
    "\n",
    "print(f1_score(y, y_pred, average='macro'))\n",
    "print(f1_score(y, y_pred, average='micro'))\n",
    "print(f1_score(y, y_pred, average='weighted'))"
   ]
  },
  {
   "cell_type": "markdown",
   "metadata": {},
   "source": [
    "Find information about the precision - recall metrics [here](https://scikit-learn.org/stable/auto_examples/model_selection/plot_precision_recall.html#sphx-glr-auto-examples-model-selection-plot-precision-recall-py)"
   ]
  },
  {
   "cell_type": "code",
   "execution_count": 61,
   "metadata": {
    "ExecuteTime": {
     "end_time": "2020-07-20T11:06:55.118519Z",
     "start_time": "2020-07-20T11:06:55.114143Z"
    }
   },
   "outputs": [
    {
     "name": "stdout",
     "output_type": "stream",
     "text": [
      "Average precision-recall score: 0.73\n"
     ]
    }
   ],
   "source": [
    "# Other metrics\n",
    "from sklearn.metrics import average_precision_score\n",
    "average_precision = average_precision_score(y, y_pred)\n",
    "\n",
    "print('Average precision-recall score: {0:0.2f}'.format(\n",
    "      average_precision))"
   ]
  },
  {
   "cell_type": "markdown",
   "metadata": {},
   "source": [
    "<a name='1-2-4'></a>\n",
    "## AUC and ROC Curve\n",
    "### AUC (Area Under the Curve)\n",
    "\n",
    "Another way to measure this relationship between precision and recall is by plotting the curve and calculating the area.\n",
    "\n",
    "#### Example of Precision-Recall on Iris dataset\n",
    "\n",
    "The example below is taken from [here](https://jaquesgrobler.github.io/online-sklearn-build/auto_examples/plot_precision_recall.html).\n",
    "\n",
    "The code below will plot the precision-recall curve and will measure the Area Under the Curve (AUC) for the dataset iris. The precisio-recall method is used for binary classifier. However, we could use `label_binarize`."
   ]
  },
  {
   "cell_type": "code",
   "execution_count": 62,
   "metadata": {
    "ExecuteTime": {
     "end_time": "2020-07-20T11:06:55.918941Z",
     "start_time": "2020-07-20T11:06:55.120133Z"
    }
   },
   "outputs": [
    {
     "data": {
      "image/png": "[encoded data removed]",
      "text/plain": [
       "<Figure size 432x288 with 1 Axes>"
      ]
     },
     "metadata": {
      "needs_background": "light"
     },
     "output_type": "display_data"
    },
    {
     "data": {
      "image/png": "[encoded data removed]",
      "text/plain": [
       "<Figure size 432x288 with 1 Axes>"
      ]
     },
     "metadata": {
      "needs_background": "light"
     },
     "output_type": "display_data"
    }
   ],
   "source": [
    "from sklearn import svm, datasets\n",
    "from sklearn.metrics import precision_recall_curve\n",
    "from sklearn.metrics import average_precision_score\n",
    "from sklearn.model_selection import train_test_split\n",
    "from sklearn.preprocessing import label_binarize\n",
    "from sklearn.multiclass import OneVsRestClassifier\n",
    "\n",
    "\n",
    "# import some data to play with\n",
    "iris = datasets.load_iris()\n",
    "X = iris.data\n",
    "y = iris.target\n",
    "\n",
    "# Binarize the output\n",
    "y = label_binarize(y, classes=[0, 1, 2])\n",
    "n_classes = y.shape[1]\n",
    "\n",
    "# Add noisy features (Just for illustration purposes)\n",
    "random_state = np.random.RandomState(0)\n",
    "n_samples, n_features = X.shape\n",
    "X = np.c_[X, random_state.randn(n_samples, 200 * n_features)]\n",
    "\n",
    "# Split into training and test\n",
    "X_train, X_test, y_train, y_test = train_test_split(X, y, test_size=.5,\n",
    "                                                    random_state=random_state)\n",
    "\n",
    "# Run classifier\n",
    "# OneVsRestClassifier is needed given that SVM is a binary classifier originally\n",
    "classifier = OneVsRestClassifier(svm.SVC(kernel='linear', probability=True,\n",
    "                                 random_state=random_state))\n",
    "y_score = classifier.fit(X_train, y_train).decision_function(X_test)\n",
    "\n",
    "# Compute Precision-Recall and plot curve\n",
    "precision = dict()\n",
    "recall = dict()\n",
    "average_precision = dict()\n",
    "for i in range(n_classes):\n",
    "    precision[i], recall[i], _ = precision_recall_curve(y_test[:, i],\n",
    "                                                        y_score[:, i])\n",
    "    average_precision[i] = average_precision_score(y_test[:, i], y_score[:, i])\n",
    "\n",
    "# Compute micro-average ROC curve and ROC area\n",
    "precision[\"micro\"], recall[\"micro\"], _ = precision_recall_curve(y_test.ravel(),\n",
    "    y_score.ravel())\n",
    "average_precision[\"micro\"] = average_precision_score(y_test, y_score,\n",
    "                                                     average=\"micro\")\n",
    "\n",
    "# Plot Precision-Recall curve\n",
    "plt.clf()\n",
    "plt.plot(recall[0], precision[0], label='Precision-Recall curve')\n",
    "plt.xlabel('Recall')\n",
    "plt.ylabel('Precision')\n",
    "plt.ylim([0.0, 1.05])\n",
    "plt.xlim([0.0, 1.0])\n",
    "plt.title('Precision-Recall example: AUC={0:0.2f}'.format(average_precision[0]))\n",
    "plt.legend(loc=\"lower left\")\n",
    "plt.show()\n",
    "\n",
    "# Plot Precision-Recall curve for each class\n",
    "plt.clf()\n",
    "plt.plot(recall[\"micro\"], precision[\"micro\"],\n",
    "        label='micro-average Precision-recall curve (area = {0:0.2f})'\n",
    "              ''.format(average_precision[\"micro\"]))\n",
    "for i in range(n_classes):\n",
    "    plt.plot(recall[i], precision[i],\n",
    "            label='Precision-recall curve of class {0} (area = {1:0.2f})'\n",
    "                  ''.format(i, average_precision[i]))\n",
    "\n",
    "plt.xlim([0.0, 1.0])\n",
    "plt.ylim([0.0, 1.05])\n",
    "plt.xlabel('Recall')\n",
    "plt.ylabel('Precision')\n",
    "plt.title('Extension of Precision-Recall curve to multi-class')\n",
    "plt.legend(loc=\"lower right\")\n",
    "plt.show()"
   ]
  },
  {
   "cell_type": "markdown",
   "metadata": {},
   "source": [
    "### ROC (Receiver operating characteristic) Curve\n",
    "\n",
    "From [Wikipedia](https://en.wikipedia.org/wiki/Receiver_operating_characteristic#:~:text=A%20receiver%20operating%20characteristic%20curve,its%20discrimination%20threshold%20is%20varied.):\n",
    "\n",
    "> The ROC curve is created by plotting the true positive rate (TPR) against the false positive rate (FPR) at various threshold settings. The true-positive rate is also known as sensitivity, recall or probability of detection in machine learning. The false-positive rate is also known as probability of false alarm and can be calculated as (1 − specificity).\n",
    "\n",
    "Example from : https://scikit-learn.org/stable/auto_examples/model_selection/plot_roc.html#sphx-glr-auto-examples-model-selection-plot-roc-py"
   ]
  },
  {
   "cell_type": "code",
   "execution_count": 63,
   "metadata": {
    "ExecuteTime": {
     "end_time": "2020-07-20T11:06:55.935090Z",
     "start_time": "2020-07-20T11:06:55.921504Z"
    }
   },
   "outputs": [],
   "source": [
    "# Import roc_curve and auc\n",
    "from sklearn.metrics import roc_curve, auc\n",
    "# Compute ROC curve and ROC area for each class\n",
    "fpr = dict()\n",
    "tpr = dict()\n",
    "roc_auc = dict()\n",
    "for i in range(n_classes):\n",
    "    fpr[i], tpr[i], _ = roc_curve(y_test[:, i], y_score[:, i])\n",
    "    roc_auc[i] = auc(fpr[i], tpr[i])\n",
    "\n",
    "# Compute micro-average ROC curve and ROC area\n",
    "fpr[\"micro\"], tpr[\"micro\"], _ = roc_curve(y_test.ravel(), y_score.ravel())\n",
    "roc_auc[\"micro\"] = auc(fpr[\"micro\"], tpr[\"micro\"])"
   ]
  },
  {
   "cell_type": "markdown",
   "metadata": {},
   "source": [
    "ROC Curve allow us to quickly visualise how well a model performs w.r.t FPR and TPR"
   ]
  },
  {
   "cell_type": "code",
   "execution_count": 64,
   "metadata": {
    "ExecuteTime": {
     "end_time": "2020-07-20T11:06:56.682434Z",
     "start_time": "2020-07-20T11:06:55.938462Z"
    }
   },
   "outputs": [
    {
     "data": {
      "image/png": "[encoded data removed]",
      "text/plain": [
       "<Figure size 432x288 with 1 Axes>"
      ]
     },
     "metadata": {
      "needs_background": "light"
     },
     "output_type": "display_data"
    },
    {
     "data": {
      "image/png": "[encoded data removed]",
      "text/plain": [
       "<Figure size 432x288 with 1 Axes>"
      ]
     },
     "metadata": {
      "needs_background": "light"
     },
     "output_type": "display_data"
    },
    {
     "data": {
      "image/png": "[encoded data removed]",
      "text/plain": [
       "<Figure size 432x288 with 1 Axes>"
      ]
     },
     "metadata": {
      "needs_background": "light"
     },
     "output_type": "display_data"
    }
   ],
   "source": [
    "# Plot for every iris class (3 in total)\n",
    "for cls in range(0,3):\n",
    "    # Plot of a ROC curve for a specific class\n",
    "    plt.figure()\n",
    "    lw = 2\n",
    "    plt.plot(fpr[cls], tpr[cls], color='darkorange',\n",
    "             lw=lw, label=f'ROC curve class={cls}  (area = %0.2f)' % roc_auc[cls])\n",
    "    plt.plot([0, 1], [0, 1], color='navy', lw=lw, linestyle='--')\n",
    "    plt.xlim([0.0, 1.0])\n",
    "    plt.ylim([0.0, 1.05])\n",
    "    plt.xlabel('False Positive Rate')\n",
    "    plt.ylabel('True Positive Rate')\n",
    "    plt.title('Receiver operating characteristic example')\n",
    "    plt.legend(loc=\"lower right\")\n",
    "    plt.show()"
   ]
  },
  {
   "cell_type": "markdown",
   "metadata": {},
   "source": [
    "<a name='2'></a>\n",
    "# Cross-validation\n",
    "\n",
    "Source: [Wikipedia](https://en.wikipedia.org/wiki/Cross-validation_(statistics))\n",
    "\n",
    "> Cross-validation, sometimes called rotation estimation or out-of-sample testing, is any of various similar model validation techniques for assessing how the results of a statistical analysis will generalize to an independent data set. It is mainly used in settings where the goal is prediction, and one wants to estimate how accurately a predictive model will perform in practice. In a prediction problem, a model is usually given a dataset of known data on which training is run (training dataset), and a dataset of unknown data (or first seen data) against which the model is tested (called the validation dataset or testing set). The goal of cross-validation is to test the model's ability to predict new data that was not used in estimating it, in order to flag problems like overfitting or selection bias and to give an insight on how the model will generalize to an independent dataset (i.e., an unknown dataset, for instance from a real problem).\n",
    "\n",
    "> One round of cross-validation involves partitioning a sample of data into complementary subsets, performing the analysis on one subset (called the training set), and validating the analysis on the other subset (called the validation set or testing set). To reduce variability, in most methods multiple rounds of cross-validation are performed using different partitions, and the validation results are combined (e.g. averaged) over the rounds to give an estimate of the model's predictive performance.\n",
    "In summary, cross-validation combines (averages) measures of fitness in prediction to derive a more accurate estimate of model prediction performance\n",
    "\n",
    "<img src='https://upload.wikimedia.org/wikipedia/commons/thumb/b/b5/K-fold_cross_validation_EN.svg/2880px-K-fold_cross_validation_EN.svg.png' width=500 heigh=500>\n",
    "\n",
    "Source Image: [Wikipedia](https://en.wikipedia.org/wiki/Cross-validation_(statistics)#/media/File:K-fold_cross_validation_EN.svg)\n",
    "License: [CC BY-SA 4.0](https://creativecommons.org/licenses/by-sa/4.0)\n",
    "\n",
    "\n",
    "In this session, we will learn about the cross-validation, also called 'k-fold cross-validation' method.\n",
    "\n",
    "\n",
    "We already used `train_test_split` to split the data, so we can measure the quality of a model on the test data. Cross-validation extends this approach. Compared to `train_test_split`, cross-validation gives you a more reliable measure of a model's quality, however, it takes longer to run.\n",
    "\n",
    "The example below is based on this amazing notebook in Kaggle:\n",
    "\n",
    "Source: [Cross-validation](https://www.kaggle.com/dansbecker/cross-validation)\n",
    "License: [Apache License 2.0](http://www.apache.org/licenses/LICENSE-2.0)\n",
    "\n",
    "\n",
    "> **The Shortcoming of Train-Test Split:** <br/>\n",
    "Imagine you have a dataset with 5000 rows. The `train_test_split` function has an argument for test_size that you can use to decide how many rows go to the training set and how many go to the test set. The larger the test set, the more reliable your measures of model quality will be. At an extreme, you could imagine having only 1 row of data in the test set. If you compare alternative models, which one makes the best predictions on a single data point will be mostly a matter of luck.\n",
    "You will typically keep about 20% as a test dataset. But even with 1000 rows in the test set, there's some random chance in determining model scores. A model might do well on one set of 1000 rows, even if it would be inaccurate on a different 1000 rows. The larger the test set, the less randomness (aka \"noise\") there is in our measure of model quality.\n",
    "But we can only get a large test set by removing data from our training data, and smaller training datasets mean worse models. In fact, the ideal modelling decisions on a small dataset typically aren't the best modelling decisions on large datasets.\n",
    "\n",
    "> **Trade-offs Between Cross-Validation and Train-Test Split** <br/>\n",
    "Cross-validation gives a more accurate measure of model quality, which is especially important if you are making a lot of modeling decisions. However, it can take more time to run, because it estimates models once for each fold. So it is doing more total work.\n",
    "Given these tradeoffs, when should you use each approach? On small datasets, the extra computational burden of running cross-validation isn't a big deal. These are also the problems where model quality scores would be least reliable with train-test split. So, if your dataset is smaller, you should run cross-validation.\n",
    "For the same reasons, a simple train-test split is sufficient for larger datasets. It will run faster, and you may have enough data that there's little need to re-use some of it for holdout.\n",
    "There's no simple threshold for what constitutes a large vs small dataset. If your model takes a couple minute or less to run, it's probably worth switching to cross-validation. If your model takes much longer to run, cross-validation may slow down your workflow more than it's worth.\n",
    "Alternatively, you can run cross-validation and see if the scores for each experiment seem close. If each experiment gives the same results, train-test split is probably sufficient.\n",
    "\n",
    "\n",
    "K-fold procedure can be described in the following steps:\n",
    "\n",
    "1. Shuffle the dataset randomly.\n",
    "2. Split the dataset into k groups\n",
    "3. For each unique group:\n",
    "    - Take the group as a hold out or test data set\n",
    "    - Take the remaining groups as a training data set\n",
    "    - Fit a model on the training set and evaluate it on the test set\n",
    "    - Retain the evaluation score and discard the model\n",
    "4. Summarise the skill of the model using the sample of model evaluation scores"
   ]
  },
  {
   "cell_type": "code",
   "execution_count": 65,
   "metadata": {
    "ExecuteTime": {
     "end_time": "2020-07-20T11:06:56.745496Z",
     "start_time": "2020-07-20T11:06:56.691070Z"
    }
   },
   "outputs": [
    {
     "data": {
      "text/html": [
       "<div>\n",
       "<style scoped>\n",
       "    .dataframe tbody tr th:only-of-type {\n",
       "        vertical-align: middle;\n",
       "    }\n",
       "\n",
       "    .dataframe tbody tr th {\n",
       "        vertical-align: top;\n",
       "    }\n",
       "\n",
       "    .dataframe thead th {\n",
       "        text-align: right;\n",
       "    }\n",
       "</style>\n",
       "<table border=\"1\" class=\"dataframe\">\n",
       "  <thead>\n",
       "    <tr style=\"text-align: right;\">\n",
       "      <th></th>\n",
       "      <th>survived</th>\n",
       "      <th>pclass</th>\n",
       "      <th>sex</th>\n",
       "      <th>age</th>\n",
       "      <th>sibsp</th>\n",
       "      <th>parch</th>\n",
       "      <th>fare</th>\n",
       "      <th>embarked</th>\n",
       "      <th>class</th>\n",
       "      <th>who</th>\n",
       "      <th>adult_male</th>\n",
       "      <th>deck</th>\n",
       "      <th>embark_town</th>\n",
       "      <th>alive</th>\n",
       "      <th>alone</th>\n",
       "    </tr>\n",
       "  </thead>\n",
       "  <tbody>\n",
       "    <tr>\n",
       "      <th>0</th>\n",
       "      <td>0</td>\n",
       "      <td>3</td>\n",
       "      <td>male</td>\n",
       "      <td>22.0</td>\n",
       "      <td>1</td>\n",
       "      <td>0</td>\n",
       "      <td>7.2500</td>\n",
       "      <td>S</td>\n",
       "      <td>Third</td>\n",
       "      <td>man</td>\n",
       "      <td>True</td>\n",
       "      <td>NaN</td>\n",
       "      <td>Southampton</td>\n",
       "      <td>no</td>\n",
       "      <td>False</td>\n",
       "    </tr>\n",
       "    <tr>\n",
       "      <th>1</th>\n",
       "      <td>1</td>\n",
       "      <td>1</td>\n",
       "      <td>female</td>\n",
       "      <td>38.0</td>\n",
       "      <td>1</td>\n",
       "      <td>0</td>\n",
       "      <td>71.2833</td>\n",
       "      <td>C</td>\n",
       "      <td>First</td>\n",
       "      <td>woman</td>\n",
       "      <td>False</td>\n",
       "      <td>C</td>\n",
       "      <td>Cherbourg</td>\n",
       "      <td>yes</td>\n",
       "      <td>False</td>\n",
       "    </tr>\n",
       "    <tr>\n",
       "      <th>2</th>\n",
       "      <td>1</td>\n",
       "      <td>3</td>\n",
       "      <td>female</td>\n",
       "      <td>26.0</td>\n",
       "      <td>0</td>\n",
       "      <td>0</td>\n",
       "      <td>7.9250</td>\n",
       "      <td>S</td>\n",
       "      <td>Third</td>\n",
       "      <td>woman</td>\n",
       "      <td>False</td>\n",
       "      <td>NaN</td>\n",
       "      <td>Southampton</td>\n",
       "      <td>yes</td>\n",
       "      <td>True</td>\n",
       "    </tr>\n",
       "    <tr>\n",
       "      <th>3</th>\n",
       "      <td>1</td>\n",
       "      <td>1</td>\n",
       "      <td>female</td>\n",
       "      <td>35.0</td>\n",
       "      <td>1</td>\n",
       "      <td>0</td>\n",
       "      <td>53.1000</td>\n",
       "      <td>S</td>\n",
       "      <td>First</td>\n",
       "      <td>woman</td>\n",
       "      <td>False</td>\n",
       "      <td>C</td>\n",
       "      <td>Southampton</td>\n",
       "      <td>yes</td>\n",
       "      <td>False</td>\n",
       "    </tr>\n",
       "    <tr>\n",
       "      <th>4</th>\n",
       "      <td>0</td>\n",
       "      <td>3</td>\n",
       "      <td>male</td>\n",
       "      <td>35.0</td>\n",
       "      <td>0</td>\n",
       "      <td>0</td>\n",
       "      <td>8.0500</td>\n",
       "      <td>S</td>\n",
       "      <td>Third</td>\n",
       "      <td>man</td>\n",
       "      <td>True</td>\n",
       "      <td>NaN</td>\n",
       "      <td>Southampton</td>\n",
       "      <td>no</td>\n",
       "      <td>True</td>\n",
       "    </tr>\n",
       "    <tr>\n",
       "      <th>5</th>\n",
       "      <td>0</td>\n",
       "      <td>3</td>\n",
       "      <td>male</td>\n",
       "      <td>NaN</td>\n",
       "      <td>0</td>\n",
       "      <td>0</td>\n",
       "      <td>8.4583</td>\n",
       "      <td>Q</td>\n",
       "      <td>Third</td>\n",
       "      <td>man</td>\n",
       "      <td>True</td>\n",
       "      <td>NaN</td>\n",
       "      <td>Queenstown</td>\n",
       "      <td>no</td>\n",
       "      <td>True</td>\n",
       "    </tr>\n",
       "    <tr>\n",
       "      <th>6</th>\n",
       "      <td>0</td>\n",
       "      <td>1</td>\n",
       "      <td>male</td>\n",
       "      <td>54.0</td>\n",
       "      <td>0</td>\n",
       "      <td>0</td>\n",
       "      <td>51.8625</td>\n",
       "      <td>S</td>\n",
       "      <td>First</td>\n",
       "      <td>man</td>\n",
       "      <td>True</td>\n",
       "      <td>E</td>\n",
       "      <td>Southampton</td>\n",
       "      <td>no</td>\n",
       "      <td>True</td>\n",
       "    </tr>\n",
       "    <tr>\n",
       "      <th>7</th>\n",
       "      <td>0</td>\n",
       "      <td>3</td>\n",
       "      <td>male</td>\n",
       "      <td>2.0</td>\n",
       "      <td>3</td>\n",
       "      <td>1</td>\n",
       "      <td>21.0750</td>\n",
       "      <td>S</td>\n",
       "      <td>Third</td>\n",
       "      <td>child</td>\n",
       "      <td>False</td>\n",
       "      <td>NaN</td>\n",
       "      <td>Southampton</td>\n",
       "      <td>no</td>\n",
       "      <td>False</td>\n",
       "    </tr>\n",
       "    <tr>\n",
       "      <th>8</th>\n",
       "      <td>1</td>\n",
       "      <td>3</td>\n",
       "      <td>female</td>\n",
       "      <td>27.0</td>\n",
       "      <td>0</td>\n",
       "      <td>2</td>\n",
       "      <td>11.1333</td>\n",
       "      <td>S</td>\n",
       "      <td>Third</td>\n",
       "      <td>woman</td>\n",
       "      <td>False</td>\n",
       "      <td>NaN</td>\n",
       "      <td>Southampton</td>\n",
       "      <td>yes</td>\n",
       "      <td>False</td>\n",
       "    </tr>\n",
       "    <tr>\n",
       "      <th>9</th>\n",
       "      <td>1</td>\n",
       "      <td>2</td>\n",
       "      <td>female</td>\n",
       "      <td>14.0</td>\n",
       "      <td>1</td>\n",
       "      <td>0</td>\n",
       "      <td>30.0708</td>\n",
       "      <td>C</td>\n",
       "      <td>Second</td>\n",
       "      <td>child</td>\n",
       "      <td>False</td>\n",
       "      <td>NaN</td>\n",
       "      <td>Cherbourg</td>\n",
       "      <td>yes</td>\n",
       "      <td>False</td>\n",
       "    </tr>\n",
       "  </tbody>\n",
       "</table>\n",
       "</div>"
      ],
      "text/plain": [
       "   survived  pclass     sex   age  sibsp  parch     fare embarked   class  \\\n",
       "0         0       3    male  22.0      1      0   7.2500        S   Third   \n",
       "1         1       1  female  38.0      1      0  71.2833        C   First   \n",
       "2         1       3  female  26.0      0      0   7.9250        S   Third   \n",
       "3         1       1  female  35.0      1      0  53.1000        S   First   \n",
       "4         0       3    male  35.0      0      0   8.0500        S   Third   \n",
       "5         0       3    male   NaN      0      0   8.4583        Q   Third   \n",
       "6         0       1    male  54.0      0      0  51.8625        S   First   \n",
       "7         0       3    male   2.0      3      1  21.0750        S   Third   \n",
       "8         1       3  female  27.0      0      2  11.1333        S   Third   \n",
       "9         1       2  female  14.0      1      0  30.0708        C  Second   \n",
       "\n",
       "     who  adult_male deck  embark_town alive  alone  \n",
       "0    man        True  NaN  Southampton    no  False  \n",
       "1  woman       False    C    Cherbourg   yes  False  \n",
       "2  woman       False  NaN  Southampton   yes   True  \n",
       "3  woman       False    C  Southampton   yes  False  \n",
       "4    man        True  NaN  Southampton    no   True  \n",
       "5    man        True  NaN   Queenstown    no   True  \n",
       "6    man        True    E  Southampton    no   True  \n",
       "7  child       False  NaN  Southampton    no  False  \n",
       "8  woman       False  NaN  Southampton   yes  False  \n",
       "9  child       False  NaN    Cherbourg   yes  False  "
      ]
     },
     "execution_count": 65,
     "metadata": {},
     "output_type": "execute_result"
    }
   ],
   "source": [
    "import seaborn as sns\n",
    "import matplotlib.pyplot as plt\n",
    "\n",
    "sns.set(color_codes=True)\n",
    "titanic = sns.load_dataset(\"titanic\")\n",
    "titanic.head(10)"
   ]
  },
  {
   "cell_type": "markdown",
   "metadata": {
    "ExecuteTime": {
     "end_time": "2020-07-17T08:58:49.791479Z",
     "start_time": "2020-07-17T08:58:49.786415Z"
    }
   },
   "source": [
    "The titanic dataset is a very popular dataset to teach or coach data science. So in this example, we will use a simplified version of the dataset. The aim of our model will be to predict  who survived given some parameters such as `sex`, `age`, and `class`. Then we will perform a cross-validation to evaluate the model. \n",
    "\n",
    "\n",
    "Source: [Kaggle Titanic](https://www.kaggle.com/sherli/complete-guide-for-titanic-survival-prediction),\n",
    "        [Kaggle Titanic 2](https://www.kaggle.com/volhaleusha/titanic-tutorial-encoding-feature-eng-81-8)\n",
    "License: [Apache 2.0](http://www.apache.org/licenses/LICENSE-2.0)"
   ]
  },
  {
   "cell_type": "code",
   "execution_count": 88,
   "metadata": {
    "ExecuteTime": {
     "end_time": "2020-07-20T11:06:56.758016Z",
     "start_time": "2020-07-20T11:06:56.752503Z"
    }
   },
   "outputs": [
    {
     "data": {
      "text/plain": [
       "Index(['survived', 'pclass', 'sex', 'age', 'sibsp', 'parch', 'fare',\n",
       "       'embarked', 'class', 'who', 'adult_male', 'deck', 'embark_town',\n",
       "       'alive', 'alone'],\n",
       "      dtype='object')"
      ]
     },
     "execution_count": 88,
     "metadata": {},
     "output_type": "execute_result"
    }
   ],
   "source": [
    "# First, let's check the columns\n",
    "titanic.columns"
   ]
  },
  {
   "cell_type": "markdown",
   "metadata": {},
   "source": [
    "We can notice that there are some numerical and categorical values. Also, there are some missing information in some columns such as 'age', 'deck', and 'embark_town'."
   ]
  },
  {
   "cell_type": "code",
   "execution_count": 89,
   "metadata": {
    "ExecuteTime": {
     "end_time": "2020-07-20T11:06:56.775880Z",
     "start_time": "2020-07-20T11:06:56.761459Z"
    }
   },
   "outputs": [
    {
     "name": "stdout",
     "output_type": "stream",
     "text": [
      "<class 'pandas.core.frame.DataFrame'>\n",
      "RangeIndex: 891 entries, 0 to 890\n",
      "Data columns (total 15 columns):\n",
      " #   Column       Non-Null Count  Dtype   \n",
      "---  ------       --------------  -----   \n",
      " 0   survived     891 non-null    int64   \n",
      " 1   pclass       891 non-null    int64   \n",
      " 2   sex          891 non-null    object  \n",
      " 3   age          891 non-null    float64 \n",
      " 4   sibsp        891 non-null    int64   \n",
      " 5   parch        891 non-null    int64   \n",
      " 6   fare         891 non-null    float64 \n",
      " 7   embarked     889 non-null    object  \n",
      " 8   class        891 non-null    category\n",
      " 9   who          891 non-null    object  \n",
      " 10  adult_male   891 non-null    bool    \n",
      " 11  deck         203 non-null    category\n",
      " 12  embark_town  889 non-null    object  \n",
      " 13  alive        891 non-null    object  \n",
      " 14  alone        891 non-null    bool    \n",
      "dtypes: bool(2), category(2), float64(2), int64(4), object(5)\n",
      "memory usage: 80.6+ KB\n"
     ]
    }
   ],
   "source": [
    "# Check the type of data from the dataset\n",
    "titanic.info()"
   ]
  },
  {
   "cell_type": "code",
   "execution_count": 68,
   "metadata": {
    "ExecuteTime": {
     "end_time": "2020-07-20T11:06:56.817035Z",
     "start_time": "2020-07-20T11:06:56.778103Z"
    }
   },
   "outputs": [
    {
     "data": {
      "text/html": [
       "<div>\n",
       "<style scoped>\n",
       "    .dataframe tbody tr th:only-of-type {\n",
       "        vertical-align: middle;\n",
       "    }\n",
       "\n",
       "    .dataframe tbody tr th {\n",
       "        vertical-align: top;\n",
       "    }\n",
       "\n",
       "    .dataframe thead th {\n",
       "        text-align: right;\n",
       "    }\n",
       "</style>\n",
       "<table border=\"1\" class=\"dataframe\">\n",
       "  <thead>\n",
       "    <tr style=\"text-align: right;\">\n",
       "      <th></th>\n",
       "      <th>survived</th>\n",
       "      <th>pclass</th>\n",
       "      <th>age</th>\n",
       "      <th>sibsp</th>\n",
       "      <th>parch</th>\n",
       "      <th>fare</th>\n",
       "    </tr>\n",
       "  </thead>\n",
       "  <tbody>\n",
       "    <tr>\n",
       "      <th>count</th>\n",
       "      <td>891.000000</td>\n",
       "      <td>891.000000</td>\n",
       "      <td>714.000000</td>\n",
       "      <td>891.000000</td>\n",
       "      <td>891.000000</td>\n",
       "      <td>891.000000</td>\n",
       "    </tr>\n",
       "    <tr>\n",
       "      <th>mean</th>\n",
       "      <td>0.383838</td>\n",
       "      <td>2.308642</td>\n",
       "      <td>29.699118</td>\n",
       "      <td>0.523008</td>\n",
       "      <td>0.381594</td>\n",
       "      <td>32.204208</td>\n",
       "    </tr>\n",
       "    <tr>\n",
       "      <th>std</th>\n",
       "      <td>0.486592</td>\n",
       "      <td>0.836071</td>\n",
       "      <td>14.526497</td>\n",
       "      <td>1.102743</td>\n",
       "      <td>0.806057</td>\n",
       "      <td>49.693429</td>\n",
       "    </tr>\n",
       "    <tr>\n",
       "      <th>min</th>\n",
       "      <td>0.000000</td>\n",
       "      <td>1.000000</td>\n",
       "      <td>0.420000</td>\n",
       "      <td>0.000000</td>\n",
       "      <td>0.000000</td>\n",
       "      <td>0.000000</td>\n",
       "    </tr>\n",
       "    <tr>\n",
       "      <th>25%</th>\n",
       "      <td>0.000000</td>\n",
       "      <td>2.000000</td>\n",
       "      <td>20.125000</td>\n",
       "      <td>0.000000</td>\n",
       "      <td>0.000000</td>\n",
       "      <td>7.910400</td>\n",
       "    </tr>\n",
       "    <tr>\n",
       "      <th>50%</th>\n",
       "      <td>0.000000</td>\n",
       "      <td>3.000000</td>\n",
       "      <td>28.000000</td>\n",
       "      <td>0.000000</td>\n",
       "      <td>0.000000</td>\n",
       "      <td>14.454200</td>\n",
       "    </tr>\n",
       "    <tr>\n",
       "      <th>75%</th>\n",
       "      <td>1.000000</td>\n",
       "      <td>3.000000</td>\n",
       "      <td>38.000000</td>\n",
       "      <td>1.000000</td>\n",
       "      <td>0.000000</td>\n",
       "      <td>31.000000</td>\n",
       "    </tr>\n",
       "    <tr>\n",
       "      <th>max</th>\n",
       "      <td>1.000000</td>\n",
       "      <td>3.000000</td>\n",
       "      <td>80.000000</td>\n",
       "      <td>8.000000</td>\n",
       "      <td>6.000000</td>\n",
       "      <td>512.329200</td>\n",
       "    </tr>\n",
       "  </tbody>\n",
       "</table>\n",
       "</div>"
      ],
      "text/plain": [
       "         survived      pclass         age       sibsp       parch        fare\n",
       "count  891.000000  891.000000  714.000000  891.000000  891.000000  891.000000\n",
       "mean     0.383838    2.308642   29.699118    0.523008    0.381594   32.204208\n",
       "std      0.486592    0.836071   14.526497    1.102743    0.806057   49.693429\n",
       "min      0.000000    1.000000    0.420000    0.000000    0.000000    0.000000\n",
       "25%      0.000000    2.000000   20.125000    0.000000    0.000000    7.910400\n",
       "50%      0.000000    3.000000   28.000000    0.000000    0.000000   14.454200\n",
       "75%      1.000000    3.000000   38.000000    1.000000    0.000000   31.000000\n",
       "max      1.000000    3.000000   80.000000    8.000000    6.000000  512.329200"
      ]
     },
     "execution_count": 68,
     "metadata": {},
     "output_type": "execute_result"
    }
   ],
   "source": [
    "titanic.describe()"
   ]
  },
  {
   "cell_type": "markdown",
   "metadata": {},
   "source": [
    "In real-life, datasets are often imcompleted. It's said that 80% of the work of a Data Scientist consist in understanding and cleaning dataset rather than creating models or evaluating them.\n",
    "\n",
    "In this session, we will use only some columns from the dataset and will show how to deal with missing data for the 'age' column.\n",
    "\n",
    "There are two main ways we could deal with the missing data in the column 'age':\n",
    "\n",
    "1. Calculate the mean age for everyone\n",
    "```python\n",
    "mean_age=titanic['age'].mean()\n",
    "age=int(mean_age)\n",
    "print(age)\n",
    "# Output: 29\n",
    "titanic['age'].fillna(age,inplace=True)\n",
    "```\n",
    "\n",
    "If we want our model to be more accurate, we should always use our expertise and apply that domain expertise in our model. For example, it is a well-know fact that the life expectancy by gender is different."
   ]
  },
  {
   "cell_type": "code",
   "execution_count": 69,
   "metadata": {
    "ExecuteTime": {
     "end_time": "2020-07-20T11:06:56.827364Z",
     "start_time": "2020-07-20T11:06:56.819509Z"
    }
   },
   "outputs": [
    {
     "name": "stdout",
     "output_type": "stream",
     "text": [
      "30.72664459161148\n"
     ]
    }
   ],
   "source": [
    "# Second Approach. Age by gender\n",
    "# If sex is male\n",
    "gend_male = pd.DataFrame(titanic[titanic[\"sex\"] == \"male\"])\n",
    "# Get mean of male age\n",
    "mean_age_male = gend_male['age'].mean()\n",
    "print(mean_age_male)"
   ]
  },
  {
   "cell_type": "code",
   "execution_count": 70,
   "metadata": {
    "ExecuteTime": {
     "end_time": "2020-07-20T11:06:56.835874Z",
     "start_time": "2020-07-20T11:06:56.829532Z"
    }
   },
   "outputs": [
    {
     "name": "stdout",
     "output_type": "stream",
     "text": [
      "27.915708812260537\n"
     ]
    }
   ],
   "source": [
    "gend_female = pd.DataFrame(titanic[titanic[\"sex\"] == \"female\"])\n",
    "mean_age_female = gend_female['age'].mean()\n",
    "print(mean_age_female)"
   ]
  },
  {
   "cell_type": "code",
   "execution_count": 71,
   "metadata": {
    "ExecuteTime": {
     "end_time": "2020-07-20T11:06:56.852190Z",
     "start_time": "2020-07-20T11:06:56.838663Z"
    }
   },
   "outputs": [],
   "source": [
    "# Fill empty values for age\n",
    "titanic.loc[(titanic['age'].isna()) & (titanic['sex']=='male'), 'age']= mean_age_male\n",
    "titanic.loc[(titanic['age'].isna()) & (titanic['sex']=='female'), 'age']= mean_age_female"
   ]
  },
  {
   "cell_type": "code",
   "execution_count": 72,
   "metadata": {
    "ExecuteTime": {
     "end_time": "2020-07-20T11:06:56.896938Z",
     "start_time": "2020-07-20T11:06:56.856463Z"
    }
   },
   "outputs": [
    {
     "data": {
      "text/html": [
       "<div>\n",
       "<style scoped>\n",
       "    .dataframe tbody tr th:only-of-type {\n",
       "        vertical-align: middle;\n",
       "    }\n",
       "\n",
       "    .dataframe tbody tr th {\n",
       "        vertical-align: top;\n",
       "    }\n",
       "\n",
       "    .dataframe thead th {\n",
       "        text-align: right;\n",
       "    }\n",
       "</style>\n",
       "<table border=\"1\" class=\"dataframe\">\n",
       "  <thead>\n",
       "    <tr style=\"text-align: right;\">\n",
       "      <th></th>\n",
       "      <th>survived</th>\n",
       "      <th>pclass</th>\n",
       "      <th>age</th>\n",
       "      <th>sibsp</th>\n",
       "      <th>parch</th>\n",
       "      <th>fare</th>\n",
       "    </tr>\n",
       "  </thead>\n",
       "  <tbody>\n",
       "    <tr>\n",
       "      <th>count</th>\n",
       "      <td>891.000000</td>\n",
       "      <td>891.000000</td>\n",
       "      <td>891.000000</td>\n",
       "      <td>891.000000</td>\n",
       "      <td>891.000000</td>\n",
       "      <td>891.000000</td>\n",
       "    </tr>\n",
       "    <tr>\n",
       "      <th>mean</th>\n",
       "      <td>0.383838</td>\n",
       "      <td>2.308642</td>\n",
       "      <td>29.736034</td>\n",
       "      <td>0.523008</td>\n",
       "      <td>0.381594</td>\n",
       "      <td>32.204208</td>\n",
       "    </tr>\n",
       "    <tr>\n",
       "      <th>std</th>\n",
       "      <td>0.486592</td>\n",
       "      <td>0.836071</td>\n",
       "      <td>13.014897</td>\n",
       "      <td>1.102743</td>\n",
       "      <td>0.806057</td>\n",
       "      <td>49.693429</td>\n",
       "    </tr>\n",
       "    <tr>\n",
       "      <th>min</th>\n",
       "      <td>0.000000</td>\n",
       "      <td>1.000000</td>\n",
       "      <td>0.420000</td>\n",
       "      <td>0.000000</td>\n",
       "      <td>0.000000</td>\n",
       "      <td>0.000000</td>\n",
       "    </tr>\n",
       "    <tr>\n",
       "      <th>25%</th>\n",
       "      <td>0.000000</td>\n",
       "      <td>2.000000</td>\n",
       "      <td>22.000000</td>\n",
       "      <td>0.000000</td>\n",
       "      <td>0.000000</td>\n",
       "      <td>7.910400</td>\n",
       "    </tr>\n",
       "    <tr>\n",
       "      <th>50%</th>\n",
       "      <td>0.000000</td>\n",
       "      <td>3.000000</td>\n",
       "      <td>30.000000</td>\n",
       "      <td>0.000000</td>\n",
       "      <td>0.000000</td>\n",
       "      <td>14.454200</td>\n",
       "    </tr>\n",
       "    <tr>\n",
       "      <th>75%</th>\n",
       "      <td>1.000000</td>\n",
       "      <td>3.000000</td>\n",
       "      <td>35.000000</td>\n",
       "      <td>1.000000</td>\n",
       "      <td>0.000000</td>\n",
       "      <td>31.000000</td>\n",
       "    </tr>\n",
       "    <tr>\n",
       "      <th>max</th>\n",
       "      <td>1.000000</td>\n",
       "      <td>3.000000</td>\n",
       "      <td>80.000000</td>\n",
       "      <td>8.000000</td>\n",
       "      <td>6.000000</td>\n",
       "      <td>512.329200</td>\n",
       "    </tr>\n",
       "  </tbody>\n",
       "</table>\n",
       "</div>"
      ],
      "text/plain": [
       "         survived      pclass         age       sibsp       parch        fare\n",
       "count  891.000000  891.000000  891.000000  891.000000  891.000000  891.000000\n",
       "mean     0.383838    2.308642   29.736034    0.523008    0.381594   32.204208\n",
       "std      0.486592    0.836071   13.014897    1.102743    0.806057   49.693429\n",
       "min      0.000000    1.000000    0.420000    0.000000    0.000000    0.000000\n",
       "25%      0.000000    2.000000   22.000000    0.000000    0.000000    7.910400\n",
       "50%      0.000000    3.000000   30.000000    0.000000    0.000000   14.454200\n",
       "75%      1.000000    3.000000   35.000000    1.000000    0.000000   31.000000\n",
       "max      1.000000    3.000000   80.000000    8.000000    6.000000  512.329200"
      ]
     },
     "execution_count": 72,
     "metadata": {},
     "output_type": "execute_result"
    }
   ],
   "source": [
    "titanic.describe()"
   ]
  },
  {
   "cell_type": "code",
   "execution_count": 73,
   "metadata": {
    "ExecuteTime": {
     "end_time": "2020-07-20T11:06:56.910992Z",
     "start_time": "2020-07-20T11:06:56.898951Z"
    }
   },
   "outputs": [
    {
     "data": {
      "text/html": [
       "<div>\n",
       "<style scoped>\n",
       "    .dataframe tbody tr th:only-of-type {\n",
       "        vertical-align: middle;\n",
       "    }\n",
       "\n",
       "    .dataframe tbody tr th {\n",
       "        vertical-align: top;\n",
       "    }\n",
       "\n",
       "    .dataframe thead th {\n",
       "        text-align: right;\n",
       "    }\n",
       "</style>\n",
       "<table border=\"1\" class=\"dataframe\">\n",
       "  <thead>\n",
       "    <tr style=\"text-align: right;\">\n",
       "      <th></th>\n",
       "      <th>sex</th>\n",
       "      <th>age</th>\n",
       "      <th>pclass</th>\n",
       "      <th>class</th>\n",
       "      <th>survived</th>\n",
       "    </tr>\n",
       "  </thead>\n",
       "  <tbody>\n",
       "    <tr>\n",
       "      <th>0</th>\n",
       "      <td>male</td>\n",
       "      <td>22.0</td>\n",
       "      <td>3</td>\n",
       "      <td>Third</td>\n",
       "      <td>0</td>\n",
       "    </tr>\n",
       "    <tr>\n",
       "      <th>1</th>\n",
       "      <td>female</td>\n",
       "      <td>38.0</td>\n",
       "      <td>1</td>\n",
       "      <td>First</td>\n",
       "      <td>1</td>\n",
       "    </tr>\n",
       "    <tr>\n",
       "      <th>2</th>\n",
       "      <td>female</td>\n",
       "      <td>26.0</td>\n",
       "      <td>3</td>\n",
       "      <td>Third</td>\n",
       "      <td>1</td>\n",
       "    </tr>\n",
       "    <tr>\n",
       "      <th>3</th>\n",
       "      <td>female</td>\n",
       "      <td>35.0</td>\n",
       "      <td>1</td>\n",
       "      <td>First</td>\n",
       "      <td>1</td>\n",
       "    </tr>\n",
       "    <tr>\n",
       "      <th>4</th>\n",
       "      <td>male</td>\n",
       "      <td>35.0</td>\n",
       "      <td>3</td>\n",
       "      <td>Third</td>\n",
       "      <td>0</td>\n",
       "    </tr>\n",
       "  </tbody>\n",
       "</table>\n",
       "</div>"
      ],
      "text/plain": [
       "      sex   age  pclass  class  survived\n",
       "0    male  22.0       3  Third         0\n",
       "1  female  38.0       1  First         1\n",
       "2  female  26.0       3  Third         1\n",
       "3  female  35.0       1  First         1\n",
       "4    male  35.0       3  Third         0"
      ]
     },
     "execution_count": 73,
     "metadata": {},
     "output_type": "execute_result"
    }
   ],
   "source": [
    "df = titanic[['sex','age','pclass','class','survived']]\n",
    "df.head()"
   ]
  },
  {
   "cell_type": "code",
   "execution_count": 74,
   "metadata": {
    "ExecuteTime": {
     "end_time": "2020-07-20T11:06:56.921989Z",
     "start_time": "2020-07-20T11:06:56.913143Z"
    }
   },
   "outputs": [],
   "source": [
    "# Let's split first X and y\n",
    "X = df.iloc[:,0:-1]\n",
    "y = df[['survived']]\n",
    "\n",
    "# Then between train and test\n",
    "X_train, X_test, y_train, y_test = train_test_split(X, y, test_size=0.2, random_state=2020)"
   ]
  },
  {
   "cell_type": "code",
   "execution_count": 75,
   "metadata": {
    "ExecuteTime": {
     "end_time": "2020-07-20T11:06:56.928826Z",
     "start_time": "2020-07-20T11:06:56.924235Z"
    }
   },
   "outputs": [],
   "source": [
    "# Import all metrics\n",
    "from sklearn.metrics import accuracy_score, confusion_matrix, f1_score, roc_auc_score\n",
    "\n",
    "def calculate_metrics(y, y_pred):\n",
    "    print('Confusion Matrix:\\n',confusion_matrix(y, y_pred))\n",
    "    print('ROC-AUC',roc_auc_score(y, y_pred))\n",
    "    print('F1',f1_score(y, y_pred))\n",
    "    print('Accuracy',accuracy_score(y, y_pred))"
   ]
  },
  {
   "cell_type": "code",
   "execution_count": 76,
   "metadata": {
    "ExecuteTime": {
     "end_time": "2020-07-20T11:06:56.941545Z",
     "start_time": "2020-07-20T11:06:56.934569Z"
    }
   },
   "outputs": [
    {
     "data": {
      "text/plain": [
       "Index(['sex', 'age', 'pclass', 'class'], dtype='object')"
      ]
     },
     "execution_count": 76,
     "metadata": {},
     "output_type": "execute_result"
    }
   ],
   "source": [
    "X_train.columns"
   ]
  },
  {
   "cell_type": "code",
   "execution_count": 77,
   "metadata": {
    "ExecuteTime": {
     "end_time": "2020-07-20T11:06:56.957101Z",
     "start_time": "2020-07-20T11:06:56.944702Z"
    }
   },
   "outputs": [
    {
     "data": {
      "text/html": [
       "<div>\n",
       "<style scoped>\n",
       "    .dataframe tbody tr th:only-of-type {\n",
       "        vertical-align: middle;\n",
       "    }\n",
       "\n",
       "    .dataframe tbody tr th {\n",
       "        vertical-align: top;\n",
       "    }\n",
       "\n",
       "    .dataframe thead th {\n",
       "        text-align: right;\n",
       "    }\n",
       "</style>\n",
       "<table border=\"1\" class=\"dataframe\">\n",
       "  <thead>\n",
       "    <tr style=\"text-align: right;\">\n",
       "      <th></th>\n",
       "      <th>sex</th>\n",
       "      <th>age</th>\n",
       "      <th>pclass</th>\n",
       "      <th>class</th>\n",
       "    </tr>\n",
       "  </thead>\n",
       "  <tbody>\n",
       "    <tr>\n",
       "      <th>131</th>\n",
       "      <td>male</td>\n",
       "      <td>20.0</td>\n",
       "      <td>3</td>\n",
       "      <td>Third</td>\n",
       "    </tr>\n",
       "    <tr>\n",
       "      <th>70</th>\n",
       "      <td>male</td>\n",
       "      <td>32.0</td>\n",
       "      <td>2</td>\n",
       "      <td>Second</td>\n",
       "    </tr>\n",
       "    <tr>\n",
       "      <th>781</th>\n",
       "      <td>female</td>\n",
       "      <td>17.0</td>\n",
       "      <td>1</td>\n",
       "      <td>First</td>\n",
       "    </tr>\n",
       "    <tr>\n",
       "      <th>508</th>\n",
       "      <td>male</td>\n",
       "      <td>28.0</td>\n",
       "      <td>3</td>\n",
       "      <td>Third</td>\n",
       "    </tr>\n",
       "    <tr>\n",
       "      <th>116</th>\n",
       "      <td>male</td>\n",
       "      <td>70.5</td>\n",
       "      <td>3</td>\n",
       "      <td>Third</td>\n",
       "    </tr>\n",
       "  </tbody>\n",
       "</table>\n",
       "</div>"
      ],
      "text/plain": [
       "        sex   age  pclass   class\n",
       "131    male  20.0       3   Third\n",
       "70     male  32.0       2  Second\n",
       "781  female  17.0       1   First\n",
       "508    male  28.0       3   Third\n",
       "116    male  70.5       3   Third"
      ]
     },
     "execution_count": 77,
     "metadata": {},
     "output_type": "execute_result"
    }
   ],
   "source": [
    "X_train.head()"
   ]
  },
  {
   "cell_type": "code",
   "execution_count": 78,
   "metadata": {
    "ExecuteTime": {
     "end_time": "2020-07-20T11:06:56.966625Z",
     "start_time": "2020-07-20T11:06:56.959588Z"
    }
   },
   "outputs": [],
   "source": [
    "from sklearn.preprocessing import LabelEncoder\n",
    "\n",
    "# Let's encode the categorical values 'class' and 'sex'\n",
    "le = LabelEncoder()\n",
    "columns = ['sex', 'class']\n",
    "   \n",
    "for col in columns:\n",
    "    le.fit(X_train[col])\n",
    "    X_train[col] = le.transform(X_train[col])\n",
    "    X_test[col] = le.transform(X_test[col])"
   ]
  },
  {
   "cell_type": "code",
   "execution_count": 79,
   "metadata": {
    "ExecuteTime": {
     "end_time": "2020-07-20T11:06:57.038804Z",
     "start_time": "2020-07-20T11:06:56.969215Z"
    }
   },
   "outputs": [],
   "source": [
    "# Import models\n",
    "from sklearn.linear_model import LogisticRegression\n",
    "from sklearn.neighbors import KNeighborsClassifier\n",
    "from sklearn.tree import DecisionTreeClassifier\n",
    "from sklearn.ensemble import RandomForestClassifier\n",
    "\n",
    "# Let's train some models and compare the results"
   ]
  },
  {
   "cell_type": "markdown",
   "metadata": {},
   "source": [
    "### RandomForest Model"
   ]
  },
  {
   "cell_type": "code",
   "execution_count": 80,
   "metadata": {
    "ExecuteTime": {
     "end_time": "2020-07-20T11:06:57.072853Z",
     "start_time": "2020-07-20T11:06:57.040714Z"
    }
   },
   "outputs": [
    {
     "name": "stdout",
     "output_type": "stream",
     "text": [
      "Confusion Matrix:\n",
      " [[87 18]\n",
      " [30 44]]\n",
      "ROC-AUC 0.7115830115830116\n",
      "F1 0.6470588235294118\n",
      "Accuracy 0.7318435754189944\n"
     ]
    }
   ],
   "source": [
    "model_lr = LogisticRegression()\n",
    "model_lr.fit(X_train, y_train)\n",
    "y_pred = model_lr.predict(X_test)\n",
    "calculate_metrics(y_test, y_pred)"
   ]
  },
  {
   "cell_type": "markdown",
   "metadata": {},
   "source": [
    "### KNN Classifier"
   ]
  },
  {
   "cell_type": "code",
   "execution_count": 81,
   "metadata": {
    "ExecuteTime": {
     "end_time": "2020-07-20T11:06:57.100515Z",
     "start_time": "2020-07-20T11:06:57.075780Z"
    }
   },
   "outputs": [
    {
     "name": "stdout",
     "output_type": "stream",
     "text": [
      "Confusion Matrix:\n",
      " [[89 16]\n",
      " [37 37]]\n",
      "ROC-AUC 0.6738095238095237\n",
      "F1 0.5826771653543307\n",
      "Accuracy 0.7039106145251397\n"
     ]
    }
   ],
   "source": [
    "model_knn = KNeighborsClassifier()\n",
    "# Let's fit the data\n",
    "model_knn.fit(X_train, y_train)\n",
    "y_pred = model_knn.predict(X_test)\n",
    "calculate_metrics(y_test, y_pred)"
   ]
  },
  {
   "cell_type": "markdown",
   "metadata": {},
   "source": [
    "### Decision Tree"
   ]
  },
  {
   "cell_type": "code",
   "execution_count": 82,
   "metadata": {
    "ExecuteTime": {
     "end_time": "2020-07-20T11:06:57.117443Z",
     "start_time": "2020-07-20T11:06:57.105078Z"
    }
   },
   "outputs": [
    {
     "name": "stdout",
     "output_type": "stream",
     "text": [
      "Confusion Matrix:\n",
      " [[92 13]\n",
      " [28 46]]\n",
      "ROC-AUC 0.7489060489060488\n",
      "F1 0.6917293233082706\n",
      "Accuracy 0.770949720670391\n"
     ]
    }
   ],
   "source": [
    "model_dt = DecisionTreeClassifier()\n",
    "# Let's fit the data\n",
    "model_dt.fit(X_train, y_train)\n",
    "y_pred = model_dt.predict(X_test)\n",
    "calculate_metrics(y_test, y_pred)"
   ]
  },
  {
   "cell_type": "markdown",
   "metadata": {},
   "source": [
    "### Random Forest"
   ]
  },
  {
   "cell_type": "code",
   "execution_count": 83,
   "metadata": {
    "ExecuteTime": {
     "end_time": "2020-07-20T11:06:57.364721Z",
     "start_time": "2020-07-20T11:06:57.120837Z"
    }
   },
   "outputs": [
    {
     "name": "stdout",
     "output_type": "stream",
     "text": [
      "Confusion Matrix:\n",
      " [[88 17]\n",
      " [24 50]]\n",
      "ROC-AUC 0.7568854568854568\n",
      "F1 0.7092198581560283\n",
      "Accuracy 0.770949720670391\n"
     ]
    }
   ],
   "source": [
    "model_rf = RandomForestClassifier()\n",
    "model_rf.fit(X_train, y_train)\n",
    "y_pred = model_rf.predict(X_test)\n",
    "calculate_metrics(y_test, y_pred)"
   ]
  },
  {
   "cell_type": "markdown",
   "metadata": {},
   "source": [
    "Now let's try to evaluate different models using cross-validation:\n",
    "\n",
    "Now in the code below, we will apply cross-validation with 10 splits for `Logistic Regression`,`KNN`,`Decision Tree` and `Random Forest`."
   ]
  },
  {
   "cell_type": "code",
   "execution_count": 84,
   "metadata": {
    "ExecuteTime": {
     "end_time": "2020-07-20T11:06:59.666856Z",
     "start_time": "2020-07-20T11:06:57.367251Z"
    }
   },
   "outputs": [
    {
     "data": {
      "text/html": [
       "<div>\n",
       "<style scoped>\n",
       "    .dataframe tbody tr th:only-of-type {\n",
       "        vertical-align: middle;\n",
       "    }\n",
       "\n",
       "    .dataframe tbody tr th {\n",
       "        vertical-align: top;\n",
       "    }\n",
       "\n",
       "    .dataframe thead th {\n",
       "        text-align: right;\n",
       "    }\n",
       "</style>\n",
       "<table border=\"1\" class=\"dataframe\">\n",
       "  <thead>\n",
       "    <tr style=\"text-align: right;\">\n",
       "      <th></th>\n",
       "      <th>CV Mean</th>\n",
       "      <th>Std</th>\n",
       "    </tr>\n",
       "  </thead>\n",
       "  <tbody>\n",
       "    <tr>\n",
       "      <th>Logistic Regression</th>\n",
       "      <td>0.801995</td>\n",
       "      <td>0.037264</td>\n",
       "    </tr>\n",
       "    <tr>\n",
       "      <th>KNN</th>\n",
       "      <td>0.764085</td>\n",
       "      <td>0.047891</td>\n",
       "    </tr>\n",
       "    <tr>\n",
       "      <th>Decision Tree</th>\n",
       "      <td>0.818858</td>\n",
       "      <td>0.040631</td>\n",
       "    </tr>\n",
       "    <tr>\n",
       "      <th>Random Forest</th>\n",
       "      <td>0.827269</td>\n",
       "      <td>0.029799</td>\n",
       "    </tr>\n",
       "  </tbody>\n",
       "</table>\n",
       "</div>"
      ],
      "text/plain": [
       "                      CV Mean       Std\n",
       "Logistic Regression  0.801995  0.037264\n",
       "KNN                  0.764085  0.047891\n",
       "Decision Tree        0.818858  0.040631\n",
       "Random Forest        0.827269  0.029799"
      ]
     },
     "execution_count": 84,
     "metadata": {},
     "output_type": "execute_result"
    }
   ],
   "source": [
    "from sklearn.model_selection import KFold #for K-fold cross validation\n",
    "from sklearn.model_selection import cross_val_score #score evaluation\n",
    "from sklearn.model_selection import cross_val_predict #prediction\n",
    "\n",
    "kfold = KFold(n_splits=10, random_state=2020) # k=10, split the data into 10 equal parts\n",
    "xyz=[]\n",
    "accuracy=[]\n",
    "std=[]\n",
    "classifiers=['Logistic Regression','KNN','Decision Tree','Random Forest']\n",
    "models=[LogisticRegression(),KNeighborsClassifier(n_neighbors=9),DecisionTreeClassifier(),RandomForestClassifier(n_estimators=100)]\n",
    "for i in models:\n",
    "    model = i\n",
    "    cv_result = cross_val_score(model,X_train,y_train, cv = kfold,scoring = \"accuracy\")\n",
    "    cv_result=cv_result\n",
    "    xyz.append(cv_result.mean())\n",
    "    std.append(cv_result.std())\n",
    "    accuracy.append(cv_result)\n",
    "new_models_dataframe2=pd.DataFrame({'CV Mean':xyz,'Std':std},index=classifiers)       \n",
    "new_models_dataframe2"
   ]
  },
  {
   "cell_type": "markdown",
   "metadata": {},
   "source": [
    "## References and further reading\n",
    "- [Cross-validation](https://en.wikipedia.org/wiki/Cross-validation_(statistics))\n",
    "\n",
    "Models:\n",
    "- [Decision Trees](https://en.wikipedia.org/wiki/Decision_tree)\n",
    "- [KNN](https://en.wikipedia.org/wiki/K-nearest_neighbors_algorithm)\n",
    "- [Random Forest](https://en.wikipedia.org/wiki/Random_forest)\n",
    "- [Logistic Regression](https://en.wikipedia.org/wiki/Logistic_regression)\n",
    "\n",
    "Examples:\n",
    "- [Seaborn Datasets](https://seaborn.pydata.org/generated/seaborn.load_dataset.html)\n",
    "- [Example Titanic](https://www.kaggle.com/sherli/complete-guide-for-titanic-survival-prediction)"
   ]
  },
  {
   "cell_type": "code",
   "execution_count": null,
   "metadata": {},
   "outputs": [],
   "source": []
  }
 ],
 "metadata": {
  "kernelspec": {
   "display_name": "py37_pytorch",
   "language": "python",
   "name": "conda-env-py37_pytorch-py"
  },
  "language_info": {
   "codemirror_mode": {
    "name": "ipython",
    "version": 3
   },
   "file_extension": ".py",
   "mimetype": "text/x-python",
   "name": "python",
   "nbconvert_exporter": "python",
   "pygments_lexer": "ipython3",
   "version": "3.7.0"
  },
  "varInspector": {
   "cols": {
    "lenName": 16,
    "lenType": 16,
    "lenVar": 40
   },
   "kernels_config": {
    "python": {
     "delete_cmd_postfix": "",
     "delete_cmd_prefix": "del ",
     "library": "var_list.py",
     "varRefreshCmd": "print(var_dic_list())"
    },
    "r": {
     "delete_cmd_postfix": ") ",
     "delete_cmd_prefix": "rm(",
     "library": "var_list.r",
     "varRefreshCmd": "cat(var_dic_list()) "
    }
   },
   "types_to_exclude": [
    "module",
    "function",
    "builtin_function_or_method",
    "instance",
    "_Feature"
   ],
   "window_display": false
  }
 },
 "nbformat": 4,
 "nbformat_minor": 4
}
