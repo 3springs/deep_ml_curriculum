{
 "cells": [
  {
   "cell_type": "markdown",
   "metadata": {},
   "source": [
    "# Time Series Anaysis\n",
    "Time Series are a sequence of data points ordered in time. Each data point contains one or more values and also has a time stamp. For instance, the average daily temperature is a time series. Time Series Analysis (TSA) is studying the behaviour of time series. \n",
    "\n",
    "An important part of time series analysis (TSA) is time series forcasting (TSF) which is using a sequence of data to predict future behaviour. In this session we will discuss TSA, and tool and technques in TSA. The next session will be focused on forcasting.\n",
    "\n",
    "\n",
    "TSA has its own unique vocabulary and technical terms. Throughout this notebook we will explain some of these terms and what they mean in practice.\n",
    "\n",
    "\n",
    "## Tools\n",
    "\n",
    "One of the main tools for TSA is __Pandas__. In previous notebooks we learned about Pandas and it's capabilities in reading, writing, and manipulating tabular data. Pandas also has a wide range of functionalities for TSA. \n",
    "\n",
    "Another common tool for TSA in python is __Statsmodels__. Statsmodels is library with wide range of statistical analysis tools and a sub-module dedicated to TSA."
   ]
  },
  {
   "cell_type": "code",
   "execution_count": null,
   "metadata": {},
   "outputs": [],
   "source": [
    "# Our main packages for TSA\n",
    "import pandas as pd\n",
    "\n",
    "# For math and array operations\n",
    "import numpy as np\n",
    "\n",
    "# For plotting\n",
    "import matplotlib.pyplot as plt"
   ]
  },
  {
   "cell_type": "markdown",
   "metadata": {},
   "source": [
    "Later, we will import statsmodels sub-modules as we need them."
   ]
  },
  {
   "cell_type": "markdown",
   "metadata": {},
   "source": [
    "## Pandas for time series\n",
    "\n",
    "Pandas has functionalities for reading time and date. "
   ]
  },
  {
   "cell_type": "code",
   "execution_count": null,
   "metadata": {},
   "outputs": [],
   "source": [
    "data_normal = pd.read_csv(\"../../data/processed/Generated/SampleSales.csv\")\n",
    "data_normal[\"Date\"]"
   ]
  },
  {
   "cell_type": "markdown",
   "metadata": {},
   "source": [
    "When reading data that contains date/time we can ask pandas to parse it as datetimes with `parse_dates = ['Column_name']`."
   ]
  },
  {
   "cell_type": "code",
   "execution_count": null,
   "metadata": {},
   "outputs": [],
   "source": [
    "data_date_parsed = pd.read_csv(\n",
    "    \"../../data/processed/Generated/SampleSales.csv\", parse_dates=[\"Date\"]\n",
    ")\n",
    "data_date_parsed[\"Date\"]"
   ]
  },
  {
   "cell_type": "markdown",
   "metadata": {},
   "source": [
    "In the first scenario when we print 'Date' column at the bottom it prints `dtype = object` which in this case it means pandas understands the dates as a string (or text). It has no understanding of what the dates actually mean. But in the second scenario, the type is `datetime64[ns]` which is a date/time object with accuracy of nanoseconds. Now pandas knows these are dates and it knows the year, month, day, etc. Also, despite showing only year, month, and day it is saving it to nanoseconds accuracy, which means we could also have time of the day included as well.\n"
   ]
  },
  {
   "cell_type": "markdown",
   "metadata": {},
   "source": [
    "Also, by passing `index_col = 'Date'` we can let pandas know that in the index column, instead of using numbers (0, 1, 2, ...) use the _'Date'_ column. This will make it easier to access data based on date."
   ]
  },
  {
   "cell_type": "code",
   "execution_count": null,
   "metadata": {},
   "outputs": [],
   "source": [
    "data_index_parsed = pd.read_csv(\n",
    "    \"../../data/processed/Generated/SampleSales.csv\",\n",
    "    parse_dates=[\"Date\"],\n",
    "    index_col=[\"Date\"],\n",
    ")"
   ]
  },
  {
   "cell_type": "code",
   "execution_count": null,
   "metadata": {},
   "outputs": [],
   "source": [
    "# Notice freq is none, that makes sense since we don't have values for every day\n",
    "data_index_parsed.index"
   ]
  },
  {
   "cell_type": "code",
   "execution_count": null,
   "metadata": {},
   "outputs": [],
   "source": [
    "data_index_parsed['Total'].plot()"
   ]
  },
  {
   "cell_type": "code",
   "execution_count": null,
   "metadata": {},
   "outputs": [],
   "source": [
    "data_index_parsed"
   ]
  },
  {
   "cell_type": "markdown",
   "metadata": {},
   "source": [
    "Now we can get the data for a certain date or time period. Let stick to the ISO format which is year-month-day, this sidesteps the confusion over US vs UK date formats."
   ]
  },
  {
   "cell_type": "code",
   "execution_count": null,
   "metadata": {},
   "outputs": [],
   "source": [
    "data_index_parsed.loc[\"2014-12-19\"]"
   ]
  },
  {
   "cell_type": "code",
   "execution_count": null,
   "metadata": {},
   "outputs": [],
   "source": [
    "data_index_parsed.loc[\"2014-11-01\":\"2014-12-01\"]"
   ]
  },
  {
   "cell_type": "markdown",
   "metadata": {},
   "source": [
    "Also, if you have an array of dates in string format you can use `.to_datetime()` to convert it to datetime object. The date string can be in many formats and pandas can usually figure it out."
   ]
  },
  {
   "cell_type": "code",
   "execution_count": null,
   "metadata": {},
   "outputs": [],
   "source": [
    "pd.to_datetime([\"1/3/2019\", \"July 23rd, 1964\", \"2006-01-09\"])"
   ]
  },
  {
   "cell_type": "markdown",
   "metadata": {},
   "source": [
    "Or you can specify which format pandas should use."
   ]
  },
  {
   "cell_type": "code",
   "execution_count": null,
   "metadata": {},
   "outputs": [],
   "source": [
    "pd.to_datetime([\"1/3/2019\"], format=\"%d/%m/%Y\")"
   ]
  },
  {
   "cell_type": "code",
   "execution_count": null,
   "metadata": {},
   "outputs": [],
   "source": [
    "pd.to_datetime([\"1/3/2019\"], format=\"%m/%d/%Y\")"
   ]
  },
  {
   "cell_type": "markdown",
   "metadata": {},
   "source": [
    "## Resampling\n",
    "There are times you might need weekly data but you have it on daily basis. You can use resampling to transform the data into the new time intervals. This is also useful when you are dealing with datapoints which are not equally spaced. Let's have another look at the data we loaded earlier."
   ]
  },
  {
   "cell_type": "code",
   "execution_count": null,
   "metadata": {},
   "outputs": [],
   "source": [
    "data_index_parsed.head(10)"
   ]
  },
  {
   "cell_type": "markdown",
   "metadata": {},
   "source": [
    "This data shows the time and amount of purchases from a shop. The purchases are not taking place on a fixed interval. They can happen anytime. We can resample this data into weekly sales which makes it easier to analyse. To do this, we need to use the `.resample()` method and pass in the new interval. After that we need to specify how we want the data in each interval to be aggregated. In this case, we choose the sum function because we want the total sales in each week."
   ]
  },
  {
   "cell_type": "code",
   "execution_count": null,
   "metadata": {},
   "outputs": [],
   "source": [
    "df = data_index_parsed.resample(\"W\").sum()\n",
    "df.head(10)"
   ]
  },
  {
   "cell_type": "markdown",
   "metadata": {},
   "source": [
    "Now we have weekly sales. Note that we passed in \"W\" to convert the data into weekly sales. There are a range of options available in pandas for various intervals. The table below shows a range of options for resampling.<br>\n",
    "Note that not all the options on the table below are applicable for resampling. The options for resampling are \"M\", \"A\", \"Q\", \"BM\", \"BA\", \"BQ\", and \"W\". The other options in the table have other application which we will discuss later."
   ]
  },
  {
   "cell_type": "markdown",
   "metadata": {},
   "source": [
    "DateOffsets and their frequency strings. ([Source](https://pandas.pydata.org/pandas-docs/stable/user_guide/timeseries.html#dateoffset-objects))<br>\n",
    "\n",
    "<table border=\"1\" class=\"dataframe\">\n",
    "  <thead>\n",
    "    <tr style=\"text-align: right;\">\n",
    "      <th>Date Offset</th>\n",
    "      <th>Frequency String</th>\n",
    "      <th>Description</th>\n",
    "    </tr>\n",
    "  </thead>\n",
    "  <tbody>\n",
    "    <tr>\n",
    "      <td>DateOffset</td>\n",
    "      <td>None</td>\n",
    "      <td>Generic offset class, defaults to 1 calendar day</td>\n",
    "    </tr>\n",
    "    <tr>\n",
    "      <td>BDay or BusinessDay</td>\n",
    "      <td>'B'</td>\n",
    "      <td>business day (weekday)</td>\n",
    "    </tr>\n",
    "    <tr>\n",
    "      <td>CDay or CustomBusinessDay</td>\n",
    "      <td>'C'</td>\n",
    "      <td>custom business day</td>\n",
    "    </tr>\n",
    "    <tr>\n",
    "      <td>Week</td>\n",
    "      <td>'W'</td>\n",
    "      <td>one week, optionally anchored on a day of the week</td>\n",
    "    </tr>\n",
    "    <tr>\n",
    "      <td>WeekOfMonth</td>\n",
    "      <td>'WOM'</td>\n",
    "      <td>the x-th day of the y-th week of each month</td>\n",
    "    </tr>\n",
    "    <tr>\n",
    "      <td>LastWeekOfMonth</td>\n",
    "      <td>'LWOM'</td>\n",
    "      <td>the x-th day of the last week of each month</td>\n",
    "    </tr>\n",
    "    <tr>\n",
    "      <td>MonthEnd</td>\n",
    "      <td>'M'</td>\n",
    "      <td>calendar month end</td>\n",
    "    </tr>\n",
    "    <tr>\n",
    "      <td>MonthBegin</td>\n",
    "      <td>'MS'</td>\n",
    "      <td>calendar month begin</td>\n",
    "    </tr>\n",
    "    <tr>\n",
    "      <td>BMonthEnd or BusinessMonthEnd</td>\n",
    "      <td>'BM'</td>\n",
    "      <td>business month end</td>\n",
    "    </tr>\n",
    "    <tr>\n",
    "      <td>BMonthBegin or BusinessMonthBegin</td>\n",
    "      <td>'BMS'</td>\n",
    "      <td>business month begin</td>\n",
    "    </tr>\n",
    "    <tr>\n",
    "      <td>CBMonthEnd or CustomBusinessMonthEnd</td>\n",
    "      <td>'CBM'</td>\n",
    "      <td>custom business month end</td>\n",
    "    </tr>\n",
    "    <tr>\n",
    "      <td>CBMonthBegin or CustomBusinessMonthBegin</td>\n",
    "      <td>'CBMS'</td>\n",
    "      <td>custom business month begin</td>\n",
    "    </tr>\n",
    "    <tr>\n",
    "      <td>SemiMonthEnd</td>\n",
    "      <td>'SM'</td>\n",
    "      <td>15th (or other day_of_month) and calendar month end</td>\n",
    "    </tr>\n",
    "    <tr>\n",
    "      <td>SemiMonthBegin</td>\n",
    "      <td>'SMS'</td>\n",
    "      <td>15th (or other day_of_month) and calendar month begin</td>\n",
    "    </tr>\n",
    "    <tr>\n",
    "      <td>QuarterEnd</td>\n",
    "      <td>'Q'</td>\n",
    "      <td>calendar quarter end</td>\n",
    "    </tr>\n",
    "    <tr>\n",
    "      <td>QuarterBegin</td>\n",
    "      <td>'QS'</td>\n",
    "      <td>calendar quarter begin</td>\n",
    "    </tr>\n",
    "    <tr>\n",
    "      <td>BQuarterEnd</td>\n",
    "      <td>'BQ</td>\n",
    "      <td>business quarter end</td>\n",
    "    </tr>\n",
    "    <tr>\n",
    "      <td>BQuarterBegin</td>\n",
    "      <td>'BQS'</td>\n",
    "      <td>business quarter begin</td>\n",
    "    </tr>\n",
    "    <tr>\n",
    "      <td>FY5253Quarter</td>\n",
    "      <td>'REQ'</td>\n",
    "      <td>retail (aka 52-53 week) quarter</td>\n",
    "    </tr>\n",
    "    <tr>\n",
    "      <td>YearEnd</td>\n",
    "      <td>'A'</td>\n",
    "      <td>calendar year end</td>\n",
    "    </tr>\n",
    "    <tr>\n",
    "      <td>YearBegin</td>\n",
    "      <td>'AS' or 'BYS'</td>\n",
    "      <td>calendar year begin</td>\n",
    "    </tr>\n",
    "    <tr>\n",
    "      <td>BYearEnd</td>\n",
    "      <td>'BA'</td>\n",
    "      <td>business year end</td>\n",
    "    </tr>\n",
    "    <tr>\n",
    "      <td>BYearBegin</td>\n",
    "      <td>'BAS'</td>\n",
    "      <td>business year begin</td>\n",
    "    </tr>\n",
    "    <tr>\n",
    "      <td>FY5253</td>\n",
    "      <td>'RE'</td>\n",
    "      <td>retail (aka 52-53 week) year</td>\n",
    "    </tr>\n",
    "    <tr>\n",
    "      <td>Easter</td>\n",
    "      <td>None</td>\n",
    "      <td>Easter holiday</td>\n",
    "    </tr>\n",
    "    <tr>\n",
    "      <td>BusinessHour</td>\n",
    "      <td>'BH'</td>\n",
    "      <td>business hour</td>\n",
    "    </tr>\n",
    "    <tr>\n",
    "      <td>CustomBusinessHour</td>\n",
    "      <td>'CBH'</td>\n",
    "      <td>custom business hour</td>\n",
    "    </tr>\n",
    "    <tr>\n",
    "      <td>Day</td>\n",
    "      <td>'D'</td>\n",
    "      <td>one absolute day</td>\n",
    "    </tr>\n",
    "    <tr>\n",
    "      <td>Hour</td>\n",
    "      <td>'H'</td>\n",
    "      <td>one hour</td>\n",
    "    </tr>\n",
    "    <tr>\n",
    "      <td>Minute</td>\n",
    "      <td>'T' or 'min'</td>\n",
    "      <td>one minute</td>\n",
    "    </tr>\n",
    "    <tr>\n",
    "      <td>Second</td>\n",
    "      <td>'S'</td>\n",
    "      <td>one second</td>\n",
    "    </tr>\n",
    "    <tr>\n",
    "      <td>Milli</td>\n",
    "      <td>'L' or 'ms'</td>\n",
    "      <td>one millisecond</td>\n",
    "    </tr>\n",
    "    <tr>\n",
    "      <td>Micro</td>\n",
    "      <td>'U' or 'us'</td>\n",
    "      <td>one microsecond</td>\n",
    "    </tr>\n",
    "    <tr>\n",
    "      <td>Nano</td>\n",
    "      <td>'N'</td>\n",
    "      <td>one nanosecond</td>\n",
    "    </tr>\n",
    "  </tbody>\n",
    "</table>\n"
   ]
  },
  {
   "cell_type": "code",
   "execution_count": null,
   "metadata": {},
   "outputs": [],
   "source": []
  },
  {
   "cell_type": "code",
   "execution_count": null,
   "metadata": {},
   "outputs": [],
   "source": [
    "# Lets compare differen't resamplings\n",
    "ax=plt.gca()\n",
    "data_index_parsed['Total'].resample(\"D\").sum().plot(label=\"Day\", ax=ax)\n",
    "data_index_parsed['Total'].resample(\"W\").sum().plot(label=\"Week\", ax=ax)\n",
    "data_index_parsed['Total'].resample(\"M\").sum().plot(label=\"Month\", ax=ax)\n",
    "plt.ylabel('Total')\n",
    "plt.legend()"
   ]
  },
  {
   "cell_type": "markdown",
   "metadata": {},
   "source": [
    "## Shifting\n",
    "Shifiting is moving the data forward or backward in time. For instance, the code below shifts the data one week to the future."
   ]
  },
  {
   "cell_type": "code",
   "execution_count": null,
   "metadata": {},
   "outputs": [],
   "source": [
    "# Pandas knows the interval is a week\n",
    "df.info()"
   ]
  },
  {
   "cell_type": "code",
   "execution_count": null,
   "metadata": {},
   "outputs": [],
   "source": [
    "df.head()"
   ]
  },
  {
   "cell_type": "code",
   "execution_count": null,
   "metadata": {},
   "outputs": [],
   "source": [
    "df.shift(periods=1)"
   ]
  },
  {
   "cell_type": "markdown",
   "metadata": {},
   "source": [
    "Notice the value that belonged to \"2014-11-09\" now belongs to \"2014-11-09\". Also, you can see in the first row since there was no data point to be moved there, its new value is `NaN`.<br>\n",
    "Now the question is how does pandas know how much it should shift the data? In other words, why did it decide to move the data one week and not one day? The answer is because pandas knows our data is weekly, so when we asked it to shift the data by one period it assumed one week. This is called the frequency of the data and we can check it using `.info()` as we did above."
   ]
  },
  {
   "cell_type": "code",
   "execution_count": null,
   "metadata": {},
   "outputs": [],
   "source": []
  },
  {
   "cell_type": "markdown",
   "metadata": {},
   "source": [
    "The frequency is \"W-SUN\" which means weekly data and each week starts at sunday."
   ]
  },
  {
   "cell_type": "markdown",
   "metadata": {},
   "source": [
    "__What if we want Monday to be start of the week?__<br>\n",
    "When we were resampling the data we asked pandas to create weekly data. We can specify which day should start of the week."
   ]
  },
  {
   "cell_type": "code",
   "execution_count": null,
   "metadata": {},
   "outputs": [],
   "source": [
    "data_index_parsed.resample(\"W-MON\").sum()"
   ]
  },
  {
   "cell_type": "markdown",
   "metadata": {},
   "source": [
    "__What if we only wanted to shift the data one day and not one week?__<br>\n",
    "We can specify a frequency when shifting."
   ]
  },
  {
   "cell_type": "code",
   "execution_count": null,
   "metadata": {},
   "outputs": [],
   "source": [
    "df.shift(periods=1, freq=\"D\")"
   ]
  },
  {
   "cell_type": "markdown",
   "metadata": {},
   "source": [
    "Note in the above example only the dates changed and `NaN` didn't appear in the first row."
   ]
  },
  {
   "cell_type": "markdown",
   "metadata": {},
   "source": [
    "We can also shift backward. If we do this, `NaN` will appear at the end of the data."
   ]
  },
  {
   "cell_type": "code",
   "execution_count": null,
   "metadata": {},
   "outputs": [],
   "source": [
    "df.shift(-2)"
   ]
  },
  {
   "cell_type": "markdown",
   "metadata": {},
   "source": [
    "## Rolling\n",
    "Rolling is applying a function to a number of consecutive data points. For instance, at each point in time we take the average of the past 4 weeks. Taking average of past few periods is also know as __Moving Average Smoothing__.<br>\n",
    "We first need to select the window (how many values we should consider), and then apply an aggregation function. (e.g. mean, sum, etc.)\n",
    "\n",
    "\n",
    "<img width=\"300\" src=\"img/timeseries-resample-windows.png\"/>\n",
    "</br>\n",
    "<img width=\"400\" src=\"img/timeseries-rolling-windows.png\"/>"
   ]
  },
  {
   "cell_type": "code",
   "execution_count": null,
   "metadata": {},
   "outputs": [],
   "source": [
    "df.rolling(window=4).mean()"
   ]
  },
  {
   "cell_type": "markdown",
   "metadata": {},
   "source": [
    "__Note:__ Since the first three points didn't have three instances before them, the moving average was not calculated for them."
   ]
  },
  {
   "cell_type": "markdown",
   "metadata": {},
   "source": [
    "Let's save the moving average in the same data frame and plot the result to better understand why we would do this."
   ]
  },
  {
   "cell_type": "code",
   "execution_count": null,
   "metadata": {},
   "outputs": [],
   "source": [
    "df[\"MA-4\"] = df.rolling(window=4).mean()  # MA-4 for moving average of size 4 window\n",
    "df.plot(y=[\"Total\", \"MA-4\"], figsize=(16, 8))"
   ]
  },
  {
   "cell_type": "markdown",
   "metadata": {},
   "source": [
    "Let's try a larger window size. Because now we have two columns in the data, we need to specify which column we are taking a moving average of."
   ]
  },
  {
   "cell_type": "code",
   "execution_count": null,
   "metadata": {},
   "outputs": [],
   "source": [
    "df[\"MA-13\"] = (\n",
    "    df[\"Total\"].rolling(window=13).mean()\n",
    ")  # MA-4 for moving average of size 4 window\n",
    "df.plot(y=[\"Total\", \"MA-4\", \"MA-13\"], figsize=(16, 8))"
   ]
  },
  {
   "cell_type": "markdown",
   "metadata": {},
   "source": [
    "As the name suggests __Moving Average Smoothing__ creates a smoothed out version of the data. The larger the window size, smoother the data will be. This is helpful when we want to get rid of noise in the data so we can have a better look at the trends. However, noise reduction comes at a cost. The downside of using moving average is the it creates lag in the data. For instance if there is a sudden increase in the data moving average responds to this change slower. It also doesn't reach the peaks of the original data. In the plot above you can see that \"MA-13\" does not show the high and low values of the data but only follows th main trend."
   ]
  },
  {
   "cell_type": "markdown",
   "metadata": {},
   "source": [
    "Another useful function pandas provide is **expanding**. While at each point rolling applied a function over a fixed window, expanding applies a function over all the points that came before that specific point. For instance, if we apply mean function at 10th point we will have the average of first 10 points and at 20th point we will have the average of first 20 points.\n",
    "\n",
    "exanding().sum() is the same as .cumsum()\n"
   ]
  },
  {
   "cell_type": "code",
   "execution_count": null,
   "metadata": {},
   "outputs": [],
   "source": [
    "df[\"Total\"].expanding().sum().plot()"
   ]
  },
  {
   "cell_type": "code",
   "execution_count": null,
   "metadata": {},
   "outputs": [],
   "source": [
    "# exanding().sum() is the same as .cumsum(), but you can use operations other than sum\n",
    "df[\"Total\"].cumsum().plot()"
   ]
  },
  {
   "cell_type": "markdown",
   "metadata": {},
   "source": [
    "<div class=\"alert alert-success\">\n",
    "  <h2>Exercise</h2>\n",
    "\n",
    "Here's an exercise to get you familiar with the Pandas docs on timeseries.\n",
    "\n",
    "You need to change the timezone on a dataframe but your not sure how. \n",
    "    \n",
    "- Look through [the dataframe docs](https://pandas.pydata.org/docs/reference/frame.html) and find how to set a timezone on a series that doesn't have one (but you know it's 'Australia/Perth')\n",
    "- Set it to 'Australia/Perth'\n",
    "- plot it\n",
    "\n",
    "\n",
    "  <details>\n",
    "  <summary><b>→ Hints</b></summary>\n",
    "\n",
    "  * Start in the Time-Series related section\n",
    "  * Scan it, then Ctrl-F for `timezone`\n",
    "  * Jargon is `localize` a `tz naive` series\n",
    "\n",
    "  </details>\n",
    "\n",
    "  <br/>\n",
    "  <br/>\n",
    "  <details>\n",
    "  <summary>\n",
    "    <b>→ Solution</b>\n",
    "  </summary>\n",
    "\n",
    "  ```python\n",
    "  # DataFrame.tz_localize\n",
    "  df.tz_localize('Australia/Perth').plot(\n",
    "  ```\n",
    "\n",
    "  </details>\n",
    "\n",
    "  </div>"
   ]
  },
  {
   "cell_type": "markdown",
   "metadata": {},
   "source": [
    "Other operations:\n",
    "    \n",
    "- https://pandas.pydata.org/pandas-docs/stable/reference/general_functions.html#top-level-dealing-with-datetimelike\n",
    "- https://pandas.pydata.org/pandas-docs/stable/reference/frame.html#time-series-related\n",
    "- https://pandas.pydata.org/pandas-docs/stable/reference/series.html#time-series-related"
   ]
  },
  {
   "cell_type": "markdown",
   "metadata": {},
   "source": [
    "## Lowess Smoothing\n",
    "Now that we learned about moving average smoothing, let's discuss another technique. Locally weighted scatterplot smoothing (LOWESS) is another technique for smoothing. \n",
    "\n",
    "Lowess creates local models for small subsets of data and uses a weighted average of them for smoothing. \n"
   ]
  },
  {
   "cell_type": "code",
   "execution_count": null,
   "metadata": {},
   "outputs": [],
   "source": [
    "# The implementation of Lowess in statsmodels can be found in nonparametric sub-module.\n",
    "from statsmodels.nonparametric.smoothers_lowess import lowess"
   ]
  },
  {
   "cell_type": "markdown",
   "metadata": {},
   "source": [
    "To create a smoothed output it requires x and y values. For time series x would be the time dimension and y would be the values."
   ]
  },
  {
   "cell_type": "code",
   "execution_count": null,
   "metadata": {},
   "outputs": [],
   "source": [
    "x = df.index\n",
    "y = df[\"Total\"]\n",
    "result = lowess(y, x)\n",
    "df[\"Lowess\"] = result[\n",
    "    :, 1\n",
    "]  # Lowess returns x and y. The second column (column index 1) are the values we need.\n",
    "df.plot(y=[\"Total\", \"Lowess\"])"
   ]
  },
  {
   "cell_type": "code",
   "execution_count": null,
   "metadata": {},
   "outputs": [],
   "source": []
  },
  {
   "cell_type": "markdown",
   "metadata": {},
   "source": [
    "## Time Series Decomposition"
   ]
  },
  {
   "cell_type": "markdown",
   "metadata": {},
   "source": [
    "The goal of decomposition is to break down time series into different elements each describing a specific behaviour of data."
   ]
  },
  {
   "cell_type": "markdown",
   "metadata": {},
   "source": [
    "### STL Decomposition"
   ]
  },
  {
   "cell_type": "markdown",
   "metadata": {},
   "source": [
    "Seasonal-Trend decomposition with LOESS (STL) is another method for decomposition of time series. This method breaks down the data into three elements:\n",
    "1. Trend\n",
    "2. Seasonality\n",
    "3. Residual (Error or Noise)\n",
    "\n",
    "We learned about LOWESS for smoothing (LOESS is a similar method with only minor differences). LOESS showed the capability to extract the trend of time series. By removing the trend from the data STL assumes the remainder is sum of a seasonal component and some residual. Seasonal component is the repeating pattern of data. The sort of behaviour that repeats weekly, monthly, etc.<br>STL can decompose the time serie in two ways. First is additive method, where the original data is sum of its components:\n",
    "$$y_t = \\tau_t + s_t + r_t $$\n",
    "Second, the multiplicative approach where the data is product of its components:\n",
    "$$y_t = \\tau_t \\times s_t \\times r_t $$\n",
    "Statsmodel has a function for STL called `seasonal_decompose`."
   ]
  },
  {
   "cell_type": "code",
   "execution_count": null,
   "metadata": {},
   "outputs": [],
   "source": [
    "# This data shows the number of customers a retail shop had per months\n",
    "cust = pd.read_csv(\n",
    "    \"../../data/processed/Generated/Customers.csv\", parse_dates=True, index_col=\"Month\"\n",
    ")\n",
    "cust.head()"
   ]
  },
  {
   "cell_type": "markdown",
   "metadata": {},
   "source": [
    "Let's have quick look at the data."
   ]
  },
  {
   "cell_type": "code",
   "execution_count": null,
   "metadata": {},
   "outputs": [],
   "source": [
    "cust.plot(y=\"Customers\")"
   ]
  },
  {
   "cell_type": "markdown",
   "metadata": {},
   "source": [
    "We can clearly see a repeating pattern. That's called seasonality and we expect STL to be able to capture this behaviour."
   ]
  },
  {
   "cell_type": "code",
   "execution_count": null,
   "metadata": {},
   "outputs": [],
   "source": [
    "from statsmodels.tsa.seasonal import seasonal_decompose\n",
    "result = seasonal_decompose(cust[\"Customers\"], model='additive')"
   ]
  },
  {
   "cell_type": "markdown",
   "metadata": {},
   "source": [
    "Now the time serie is decomposed and we can plot the result."
   ]
  },
  {
   "cell_type": "code",
   "execution_count": null,
   "metadata": {},
   "outputs": [],
   "source": [
    "ax = result.plot()\n",
    "ax.set_figwidth(16)\n",
    "ax.set_figheight(8)"
   ]
  },
  {
   "cell_type": "markdown",
   "metadata": {},
   "source": [
    "By default the model used additive approach for the data. If we want to use multiplicative approach we need to specify it in the function. But what is the difference between additive and multiplicative? Additive approach is used when the height of the repeating patterns are constant. This means the amplitude of seasonal component is not changing. But in this data we can clearly see the seasonal component is getting larger and larger. This is also visible in the residual component. The residual component is meant to look like random noise but we can clearly see some regular oscillation in there. So let's try multiplicative approach."
   ]
  },
  {
   "cell_type": "code",
   "execution_count": null,
   "metadata": {},
   "outputs": [],
   "source": [
    "result = seasonal_decompose(cust[\"Customers\"], model=\"multiplicative\")\n",
    "print('sum of residuals {:2.2f}'.format(result.resid.sum()))\n",
    "ax = result.plot()\n",
    "ax.set_figwidth(16)\n",
    "ax.set_figheight(8)"
   ]
  },
  {
   "cell_type": "markdown",
   "metadata": {},
   "source": [
    "__Note:__ While residuals in additive model is around zero, in multiplicative model they are around one."
   ]
  },
  {
   "cell_type": "markdown",
   "metadata": {},
   "source": [
    "As we can see, multiplicative approach looks much better. There is still a bit of pattern in residuals but it has improved significantly compared to additive approach."
   ]
  },
  {
   "cell_type": "markdown",
   "metadata": {},
   "source": [
    "## Exercise\n",
    "<div class=\"alert alert-success\">\n",
    "\n",
    "let's try these on real data, which will be much harder. Use the data below and perform the following analyses:\n",
    "    \n",
    "- STL decomposition using additive method.\n",
    "   \n",
    "<details>\n",
    "<summary>Hints</summary>\n",
    "    \n",
    "* Find the relevent code, copy it, and change it to use `df['target']` \n",
    "</details>\n",
    "</div>\n"
   ]
  },
  {
   "cell_type": "code",
   "execution_count": null,
   "metadata": {},
   "outputs": [],
   "source": [
    "df = block0 = pd.read_csv(\"../../data/processed/smartmeter/block_0.csv\", parse_dates=['day'], index_col=['day'])[['energy_sum']]\n",
    "df = df.groupby('day').mean().iloc[:100]\n",
    "df = df.rename(columns={'energy_sum':'target'})\n",
    "df.plot()\n",
    "df"
   ]
  },
  {
   "cell_type": "code",
   "execution_count": null,
   "metadata": {},
   "outputs": [],
   "source": [
    "# Exercise 1\n",
    "from statsmodels.tsa.seasonal import seasonal_decompose\n",
    "result = seasonal_decompose(df['target'],model = 'add')\n",
    "result.plot();\n",
    "print('sum of residuals {:2.2f}'.format(result.resid.sum()))"
   ]
  },
  {
   "cell_type": "markdown",
   "metadata": {},
   "source": [
    "\n",
    "<div class=\"alert alert-success\">\n",
    "    \n",
    "### Solution\n",
    "<details><summary>See solution</summary>\n",
    "\n",
    "\n",
    "\n",
    "```Python\n",
    "# Exercise 1\n",
    "from statsmodels.tsa.seasonal import seasonal_decompose\n",
    "result = seasonal_decompose(df['target'],model = 'add')\n",
    "result.plot();\n",
    "print(f'sum of residuals {result.resid.sum():2.2f}')\n",
    "```\n",
    "\n",
    "</details>\n",
    "</div>"
   ]
  },
  {
   "cell_type": "markdown",
   "metadata": {},
   "source": [
    "In the next notebook we will look at how to do predictions, including seasonality"
   ]
  },
  {
   "cell_type": "markdown",
   "metadata": {},
   "source": [
    "## Further Reading:\n",
    "- [Pandas time-series documentation](https://pandas.pydata.org/pandas-docs/stable/user_guide/timeseries.html)\n",
    "- [Statsmodel documentation](https://www.statsmodels.org/)\n",
    "- [Forecasting: Principles and Practice](https://otexts.com/fpp2/)\n",
    "- [Exponential Smoothing](https://en.wikipedia.org/wiki/Exponential_smoothing)\n",
    "- [Gentle Introduction to Exponential smoothing](https://machinelearningmastery.com/exponential-smoothing-for-time-series-forecasting-in-python/)\n",
    "\n"
   ]
  },
  {
   "cell_type": "code",
   "execution_count": null,
   "metadata": {},
   "outputs": [],
   "source": []
  }
 ],
 "metadata": {
  "jupytext": {
   "encoding": "# -*- coding: utf-8 -*-",
   "formats": "ipynb,py"
  },
  "kernelspec": {
   "display_name": "deep_ml_curriculum",
   "language": "python",
   "name": "deep_ml_curriculum"
  }
 },
 "nbformat": 4,
 "nbformat_minor": 4
}
