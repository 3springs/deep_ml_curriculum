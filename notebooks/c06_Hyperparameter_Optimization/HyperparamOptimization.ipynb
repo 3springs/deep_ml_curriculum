{
 "cells": [
  {
   "cell_type": "markdown",
   "metadata": {},
   "source": [
    "# Hyperparameter Optimization\n",
    "\n",
    "Hyperparameters refer to those parameters used in training. Given that the optimization algorithms in a Neural Network such as `SGD` and `Adam` are stochastic in nature, it also means that a DNN trained with different hyperparameters might have different solutions (landing in a different local minima).\n",
    "\n",
    "Finding the best parameters possible for training our neural network is what we call `hyperparameter optimization`.\n",
    "\n",
    "One could just simply try different variations of hyperparameters manually. Fortunately, there are better ways of doing this. In this lesson, we will be using Pytorch to create our neural network and sklearn modules `sklearn.model_selection.GridSearchCV` and `sklearn.model_selection.RandomizedSearchCV` for the hyperparameter optimization."
   ]
  },
  {
   "cell_type": "markdown",
   "metadata": {},
   "source": [
    "# Import Libraries"
   ]
  },
  {
   "cell_type": "code",
   "execution_count": 1,
   "metadata": {
    "ExecuteTime": {
     "end_time": "2020-10-10T10:30:27.768375Z",
     "start_time": "2020-10-10T10:30:26.828537Z"
    }
   },
   "outputs": [
    {
     "data": {
      "text/plain": [
       "<torch._C.Generator at 0x7f53cd75fdb0>"
      ]
     },
     "execution_count": 1,
     "metadata": {},
     "output_type": "execute_result"
    }
   ],
   "source": [
    "import numpy as np\n",
    "import torch\n",
    "import torchvision\n",
    "from torch import nn\n",
    "from torch import optim\n",
    "import matplotlib.pyplot as plt\n",
    "from torchvision import transforms as T\n",
    "\n",
    "import itertools\n",
    "from tqdm.auto import tqdm\n",
    "\n",
    "torch.backends.cudnn.enabled = False\n",
    "torch.manual_seed(2020)"
   ]
  },
  {
   "cell_type": "code",
   "execution_count": 2,
   "metadata": {
    "ExecuteTime": {
     "end_time": "2020-10-10T10:30:27.785607Z",
     "start_time": "2020-10-10T10:30:27.770961Z"
    }
   },
   "outputs": [
    {
     "name": "stdout",
     "output_type": "stream",
     "text": [
      "Using device: cuda\n"
     ]
    }
   ],
   "source": [
    "# setting device on GPU if available, else CPU\n",
    "device = torch.device(\"cuda\" if torch.cuda.is_available() else \"cpu\")\n",
    "print(\"Using device:\", device)\n",
    "\n",
    "if device == \"cuda\":\n",
    "    print(\"Name device:\", torch.cuda.get_device_name(0))"
   ]
  },
  {
   "cell_type": "markdown",
   "metadata": {},
   "source": [
    "# Data Transforms"
   ]
  },
  {
   "cell_type": "markdown",
   "metadata": {},
   "source": [
    "Now we will create a pipeline of data transformations.\n",
    "\n",
    "For the train\n",
    "- We transform an Image to a Pytorch tensor\n",
    "- Normalize data using only one channel (gray scale image)"
   ]
  },
  {
   "cell_type": "code",
   "execution_count": 3,
   "metadata": {
    "ExecuteTime": {
     "end_time": "2020-10-10T10:30:27.794951Z",
     "start_time": "2020-10-10T10:30:27.789121Z"
    }
   },
   "outputs": [],
   "source": [
    "batch_size = 64"
   ]
  },
  {
   "cell_type": "code",
   "execution_count": 4,
   "metadata": {
    "ExecuteTime": {
     "end_time": "2020-10-10T10:30:27.805180Z",
     "start_time": "2020-10-10T10:30:27.797331Z"
    }
   },
   "outputs": [],
   "source": [
    "data_transforms = {\n",
    "    # For the data training dataset\n",
    "    \"train\": T.Compose([T.ToTensor(), T.Normalize((0.0,), (1.0,))]),\n",
    "    # For the validation dataset\n",
    "    \"val\": T.Compose([T.ToTensor(), T.Normalize((0.0,), (1.0,))]),\n",
    "}"
   ]
  },
  {
   "cell_type": "markdown",
   "metadata": {},
   "source": [
    "Let's create a data loader for the training and testing dataset. `MNIST` is a dataset that contains images of handwritten digits from 0 to 9. We will train a classifier using hyperparameter optimization."
   ]
  },
  {
   "cell_type": "code",
   "execution_count": 5,
   "metadata": {
    "ExecuteTime": {
     "end_time": "2020-10-10T10:30:27.851742Z",
     "start_time": "2020-10-10T10:30:27.807861Z"
    }
   },
   "outputs": [],
   "source": [
    "train_loader = torch.utils.data.DataLoader(\n",
    "    torchvision.datasets.MNIST(\n",
    "        \"../../data/processed/MNIST\", train=True, download=False, transform=data_transforms[\"train\"]\n",
    "    ),\n",
    "    batch_size=batch_size,\n",
    "    shuffle=True,\n",
    ")\n",
    "\n",
    "test_loader = torch.utils.data.DataLoader(\n",
    "    torchvision.datasets.MNIST(\n",
    "        \"../../data/processed/MNIST\", train=False, download=False, transform=data_transforms[\"val\"]\n",
    "    ),\n",
    "    batch_size=batch_size + 64,\n",
    "    shuffle=True,\n",
    ")"
   ]
  },
  {
   "cell_type": "markdown",
   "metadata": {},
   "source": [
    "# GridSearchCV\n",
    "\n",
    "`GridSearch` tries all possible combinations over specified parameter values for the model. We will implement a Grid Search method from scratch that allow us to try different parameters in our model and pick the best ones for training.\n",
    "\n"
   ]
  },
  {
   "cell_type": "markdown",
   "metadata": {},
   "source": [
    "But first, let's create a CNN model. We will start by creating a function that returns a block of layers given some parameters."
   ]
  },
  {
   "cell_type": "code",
   "execution_count": 6,
   "metadata": {
    "ExecuteTime": {
     "end_time": "2020-10-10T10:30:27.862747Z",
     "start_time": "2020-10-10T10:30:27.855333Z"
    }
   },
   "outputs": [],
   "source": [
    "def create_block(input_dim, output_dim, kernel, padding, activation=\"relu\"):\n",
    "    activations = {\n",
    "        \"relu\": nn.ReLU(inplace=True),\n",
    "        \"tanh\": nn.Tanh(),\n",
    "        \"selu\": nn.SELU(inplace=True),\n",
    "        \"sigmoid\": nn.Sigmoid(),\n",
    "    }\n",
    "    return nn.Sequential(\n",
    "        nn.Conv2d(\n",
    "            in_channels=input_dim,\n",
    "            out_channels=output_dim,\n",
    "            kernel_size=kernel,\n",
    "            padding=padding,\n",
    "        ),\n",
    "        nn.BatchNorm2d(output_dim),\n",
    "        activations[activation],\n",
    "        nn.MaxPool2d(2),\n",
    "    )"
   ]
  },
  {
   "cell_type": "markdown",
   "metadata": {},
   "source": [
    "Now let's create the architecture of our model."
   ]
  },
  {
   "cell_type": "code",
   "execution_count": 7,
   "metadata": {
    "ExecuteTime": {
     "end_time": "2020-10-10T10:30:27.877245Z",
     "start_time": "2020-10-10T10:30:27.865698Z"
    }
   },
   "outputs": [],
   "source": [
    "class MNISTCNN(nn.Module):\n",
    "    def __init__(self, activation):\n",
    "        super(MNISTCNN, self).__init__()\n",
    "\n",
    "        self.layer1 = create_block(1, 32, 3, 1, activation)\n",
    "        self.layer2 = create_block(32, 64, 3, 1, activation)\n",
    "        self.layer3 = create_block(64, 128, 3, 1, activation)\n",
    "        self.fc1 = nn.Linear(in_features=128 * 3 * 3, out_features=256)\n",
    "        self.drop = nn.Dropout2d(0.25)\n",
    "        self.fc2 = nn.Linear(in_features=256, out_features=128)\n",
    "        self.fc3 = nn.Linear(in_features=128, out_features=10)\n",
    "\n",
    "    def forward(self, x):\n",
    "        out = self.layer1(x)\n",
    "        out = self.layer2(out)\n",
    "        out = self.layer3(out)\n",
    "        out = out.view(out.size(0), -1)\n",
    "        out = self.fc1(out)\n",
    "        out = self.drop(out)\n",
    "        out = self.fc2(out)\n",
    "        out = self.fc3(out)\n",
    "\n",
    "        return out"
   ]
  },
  {
   "cell_type": "markdown",
   "metadata": {},
   "source": [
    "Now let's create a typical function for the training process in Pytorch:"
   ]
  },
  {
   "cell_type": "code",
   "execution_count": 8,
   "metadata": {
    "ExecuteTime": {
     "end_time": "2020-10-10T10:30:27.889726Z",
     "start_time": "2020-10-10T10:30:27.879498Z"
    }
   },
   "outputs": [],
   "source": [
    "def train(model, dataloader, criterion, optimizer, n_epochs=1, bs=64, device=\"cpu\"):\n",
    "    # Set model in train mode\n",
    "    model.train().to(device)\n",
    "    running_loss = 0.0\n",
    "    for epoch in tqdm(range(n_epochs), desc='train', unit='epoch'):\n",
    "        for (x, y) in tqdm(dataloader, leave=False, desc='training'):\n",
    "            y = y.to(device)\n",
    "            x = x.to(device)\n",
    "            # zero the parameter gradients\n",
    "            optimizer.zero_grad()\n",
    "            # forward + backward + optimize\n",
    "            outputs = model(x)  # Get the prediction here\n",
    "            loss = criterion(outputs, y)  # Calculate loss\n",
    "            loss.backward()  # Do backpropagation\n",
    "            optimizer.step()  # Update weights\n",
    "            # print statistics\n",
    "            running_loss += loss.item()\n",
    "        print(running_loss)\n",
    "        running_loss = 0.0\n",
    "\n",
    "    print(\"Finished Training\")\n",
    "    return model.eval()"
   ]
  },
  {
   "cell_type": "code",
   "execution_count": 9,
   "metadata": {
    "ExecuteTime": {
     "end_time": "2020-10-10T10:30:27.901522Z",
     "start_time": "2020-10-10T10:30:27.891979Z"
    }
   },
   "outputs": [],
   "source": [
    "def evaluation(model, dataloader, device=\"cpu\"):\n",
    "    print(\"Evaluation...\")\n",
    "    total = 0\n",
    "    correct = 0\n",
    "    model = model.eval().to(device)\n",
    "\n",
    "    for (x, y) in tqdm(dataloader, desc='testing', leave=False):\n",
    "\n",
    "        y = y.to(device)\n",
    "        x = x.to(device)\n",
    "        # Make prediction\n",
    "        pred = model(x).argmax(1)\n",
    "\n",
    "        # Count correct answers\n",
    "        correct += int(sum(y == pred))\n",
    "        # Count total number of images\n",
    "        total += pred.shape[0]\n",
    "\n",
    "    # Return accuracy metric\n",
    "    return correct / total"
   ]
  },
  {
   "cell_type": "markdown",
   "metadata": {},
   "source": [
    "Now let's create a method that allow us to try different parameters such as the number of `epochs`, the `optimizer`, and the `activation functions` used."
   ]
  },
  {
   "cell_type": "code",
   "execution_count": 10,
   "metadata": {
    "ExecuteTime": {
     "end_time": "2020-10-10T10:30:27.922734Z",
     "start_time": "2020-10-10T10:30:27.903697Z"
    }
   },
   "outputs": [],
   "source": [
    "# Get a criterion given a name\n",
    "def get_criterion(criterion_name):\n",
    "    criterions = {\n",
    "        \"cross_entropy\": nn.CrossEntropyLoss()\n",
    "        # You can add more criterions here if you need to\n",
    "    }\n",
    "\n",
    "    return criterions[criterion_name]\n",
    "\n",
    "\n",
    "# Get an optimizer given a name, model and learning rate\n",
    "def get_optimizer(optimizer_name, model, learning_rate=1e-3):\n",
    "    optimizers = {\n",
    "        \"sgd\": optim.SGD(model.parameters(), lr=learning_rate, momentum=0.9),\n",
    "        \"adam\": optim.Adam(model.parameters(), lr=learning_rate),\n",
    "        \"adagrad\": optim.Adagrad(model.parameters(), lr=learning_rate),\n",
    "    }\n",
    "\n",
    "    return optimizers[optimizer_name]\n",
    "\n",
    "\n",
    "def GridSearch(train_data, test_data, hyperparameters):\n",
    "    best_accuracy = 0\n",
    "    best_parameters = {\n",
    "        \"epoch\": 0,\n",
    "        \"activation\": None,\n",
    "        \"optimizer\": None,\n",
    "        \"learning_rate\": 0.0,\n",
    "    }\n",
    "    \n",
    "    possible_values = list(itertools.product(*hyperparameters.values()))\n",
    "    \n",
    "    for values in tqdm(possible_values, desc='gridsearch'):\n",
    "        hparams = dict(zip(hyperparameters.keys(), values))\n",
    "        \n",
    "        activation = hparams['activations']\n",
    "        epochs = hparams['epochs']\n",
    "        epochs = hparams['epochs']\n",
    "        opt = hparams['optimizers']\n",
    "        learning_rate = hparams['learning_rate']\n",
    "\n",
    "        model = MNISTCNN(activation).to(device)\n",
    "        criterion = get_criterion(\"cross_entropy\")\n",
    "        optimizer = get_optimizer(opt, model, learning_rate)\n",
    "        print(\n",
    "            'Training NN...optimizer:{}, activation:{}, epochs:{}, learning rate:{}'.format(opt, activation, epochs, learning_rate)\n",
    "        )\n",
    "        # Let's train the model using our custom hyperparameters\n",
    "        clf = train(\n",
    "            model,\n",
    "            train_data,\n",
    "            criterion,\n",
    "            optimizer,\n",
    "            n_epochs=epochs,\n",
    "            bs=64,\n",
    "            device=device,\n",
    "        )\n",
    "        accuracy = evaluation(clf, test_data, device)\n",
    "\n",
    "        if accuracy > best_accuracy:\n",
    "            # Update parameters\n",
    "            best_accuracy = accuracy\n",
    "            best_parameters[\"epoch\"] = epochs\n",
    "            best_parameters[\"activation\"] = activation\n",
    "            best_parameters[\"optimizer\"] = opt\n",
    "            best_parameters[\"learning_rate\"] = learning_rate\n",
    "\n",
    "        print('Accuracy Testing: {}'.format(accuracy))\n",
    "    return best_parameters"
   ]
  },
  {
   "cell_type": "markdown",
   "metadata": {},
   "source": [
    "<div class=\"alert alert-success\" style=\"font-size:100%\">\n",
    "<b>Exercise 1</b>: <br>\n",
    "    \n",
    "**Warning:** GridSearch performs an exhaustive search with the parameters given. It might take around 12 minutes to complete the optimization in a GPU for the hyperparameters given below.\n",
    "    \n",
    "1. Pass the following hyperparameters to the function `GridSearch`.\n",
    "    \n",
    "```python\n",
    "hyperparameters = {\n",
    "    'epochs': [1],\n",
    "    'activations': ['selu','tanh','relu'],\n",
    "    'optimizers': ['adagrad','sgd','adam'],\n",
    "    'learning_rate': [1e-2, 1e-3]\n",
    "}\n",
    "```\n",
    "2. Execute the function and find the best hyperparameter for training.\n",
    "    \n",
    "Note it may take 15 minutes on a GPU\n",
    "</div>"
   ]
  },
  {
   "cell_type": "markdown",
   "metadata": {},
   "source": [
    "You can click in the button below the reveal the solution for exercise 1\n",
    "\n",
    "<details>    \n",
    "<summary>\n",
    "    <font size=\"4\" color=\"darkblue\"><b>See the solution for Exercise 1</b></font>\n",
    "</summary>\n",
    "    \n",
    "```python\n",
    "hyperparameters = {\n",
    "    'epochs': [1],\n",
    "    'activations': ['selu','tanh','relu'],\n",
    "    'optimizers': ['adagrad','sgd','adam'],\n",
    "    'learning_rate': [1e-2, 1e-3]\n",
    "}\n",
    "\n",
    "import time\n",
    "# This line of code is to measure the executation time\n",
    "start_time = time.time()\n",
    "######################################################\n",
    "# YOU CODE GOES HERE\n",
    "best_params = GridSearch(train_loader, test_loader, hyperparameters)\n",
    "print(best_params)\n",
    "######################################################\n",
    "print(f'--- {(time.time() - start_time)/60.0} minutes ---')\n",
    "```\n",
    "\n",
    "    \n",
    "You should get this as a result:\n",
    "    \n",
    "```python\n",
    "{'epoch': 1,\n",
    " 'activation': 'relu',\n",
    " 'optimizer': 'sgd',\n",
    " 'learning_rate': 0.001} \n",
    "```\n",
    "</details>"
   ]
  },
  {
   "cell_type": "markdown",
   "metadata": {},
   "source": [
    "# Randomized Grid Search\n",
    "\n",
    "As you can notice, GridSearch evaluates the model in combining every parameter. This of course, can be very inneficient. By contrast, Random Search sets up a grid of hyperparameter values and selects random combinations to train the model and evaluate. In random search you can control the number of hyperparameter combinations that attempted. It is possible that Random search does not find the best possible answer but in cases where the search space and computational time is limited it will work the best."
   ]
  },
  {
   "cell_type": "code",
   "execution_count": 14,
   "metadata": {
    "ExecuteTime": {
     "end_time": "2020-10-10T10:56:14.667829Z",
     "start_time": "2020-10-10T10:56:14.649809Z"
    }
   },
   "outputs": [],
   "source": [
    "def RandomizedGridSearch(train_data, test_data, hyperparameters, num_combinations=5):\n",
    "    best_accuracy = 0\n",
    "    best_parameters = {\n",
    "        \"epoch\": 0,\n",
    "        \"activation\": None,\n",
    "        \"optimizer\": None,\n",
    "        \"learning_rate\": 0.0,\n",
    "    }\n",
    "\n",
    "    # Try different combinations\n",
    "    for i in tqdm(range(num_combinations), desc='RandomizedGridSearch'):\n",
    "        # Pick random hyperparameters\n",
    "        activation = np.random.choice(hyperparameters[\"activations\"])\n",
    "        model = MNISTCNN(activation).to(device)\n",
    "        epochs = np.random.choice(hyperparameters[\"epochs\"])\n",
    "        opt = np.random.choice(hyperparameters[\"optimizers\"])\n",
    "        l_rate = np.random.choice(hyperparameters[\"learning_rate\"])\n",
    "\n",
    "        # Select criterion and optimizer\n",
    "        criterion = get_criterion(\"cross_entropy\")\n",
    "        optimizer = get_optimizer(opt, model, l_rate)\n",
    "\n",
    "        print(\n",
    "            'Training NN...optimizer:{}, activation:{}, epochs:{}, learning rate:{}'.format(opt, activation, epochs, l_rate)\n",
    "        )\n",
    "        # Let's train the model using our custom hyperparameters\n",
    "        clf = train(\n",
    "            model,\n",
    "            train_data,\n",
    "            criterion,\n",
    "            optimizer,\n",
    "            n_epochs=epochs,\n",
    "            bs=64,\n",
    "            device=device,\n",
    "        )\n",
    "        # Evaluate\n",
    "        accuracy = evaluation(clf, test_data, device)\n",
    "\n",
    "        if accuracy > best_accuracy:\n",
    "            # Update parameters\n",
    "            best_accuracy = accuracy\n",
    "            best_parameters[\"epoch\"] = epochs\n",
    "            best_parameters[\"activation\"] = activation\n",
    "            best_parameters[\"optimizer\"] = opt\n",
    "            best_parameters[\"learning_rate\"] = l_rate\n",
    "\n",
    "        print('Accuracy Testing: {}'.format(accuracy))\n",
    "\n",
    "    return best_parameters"
   ]
  },
  {
   "cell_type": "markdown",
   "metadata": {},
   "source": [
    "In the next exercise we will increase the parameter space search but will limit to a number of 10 random searches."
   ]
  },
  {
   "cell_type": "markdown",
   "metadata": {},
   "source": [
    "<div class=\"alert alert-success\" style=\"font-size:100%\">\n",
    "<b>Exercise 1</b>: <br>\n",
    "    \n",
    "**Warning:** Executing `RandomizedGridSearch` might take around 5 minutes on a GPU.\n",
    "    \n",
    "1. Pass the following hyperparameters to the function `RandomizedGridSearch`.\n",
    "    \n",
    "```python\n",
    "hyperparameters = {\n",
    "    'epochs': [1],\n",
    "    'activations': ['sigmoid','selu','tanh','relu'],\n",
    "    'optimizers': ['adagrad','sgd','adam'],\n",
    "    'learning_rate': [1e-2, 1e-3, 1e-4]\n",
    "}\n",
    "```\n",
    "\n",
    "**NOTE:** If we were going to pass the same hyperparameter space to a `GridSearch` algorithm it would perform 108 combinations. This would take significantly more time.\n",
    "    \n",
    "2. Execute the function and find the best hyperparameter for training. Limit the random searches to 5.\n",
    "3. Measure the executation time of the code in minutes. **Hint:** Check solution for exercise 1.\n",
    "    \n",
    "Note it may take 5 minutes on a GPU\n",
    "</div>"
   ]
  },
  {
   "cell_type": "markdown",
   "metadata": {},
   "source": [
    "You can click in the button below the reveal the solution for exercise 2\n",
    "\n",
    "<details>    \n",
    "<summary>\n",
    "    <font size=\"4\" color=\"darkblue\"><b>See the solution for Exercise 2</b></font>\n",
    "</summary>\n",
    "    \n",
    "```python\n",
    "hyperparameters = {\n",
    "    'epochs': [1],\n",
    "    'activations': ['sigmoid','selu','tanh','relu'],\n",
    "    'optimizers': ['adagrad','sgd','adam'],\n",
    "    'learning_rate': [1e-2, 1e-3, 1e-4]\n",
    "}\n",
    "\n",
    "# This line of code is to measure the executation time\n",
    "start_time = time.time()\n",
    "######################################################\n",
    "# YOU CODE GOES HERE\n",
    "best_params = RandomizedGridSearch(train_loader, test_loader, hyperparameters, num_combinations=5)\n",
    "print(best_params)\n",
    "######################################################\n",
    "print(f'--- {(time.time() - start_time)/60.0} minutes ---')\n",
    "```\n",
    "\n",
    "    \n",
    "Given the stochastic nature of the approach you might get different results everytime you execute this.\n",
    "</details>"
   ]
  },
  {
   "cell_type": "code",
   "execution_count": null,
   "metadata": {},
   "outputs": [],
   "source": []
  },
  {
   "cell_type": "markdown",
   "metadata": {},
   "source": [
    "# Auto:Test\n",
    "\n",
    "Ignore the below, it's for automatic testing"
   ]
  },
  {
   "cell_type": "code",
   "execution_count": 12,
   "metadata": {
    "ExecuteTime": {
     "end_time": "2020-10-10T10:44:36.932612Z",
     "start_time": "2020-10-10T10:30:27.947028Z"
    }
   },
   "outputs": [
    {
     "data": {
      "application/vnd.jupyter.widget-view+json": {
       "model_id": "c57f6c29c5d14961b849ade09d03c0b4",
       "version_major": 2,
       "version_minor": 0
      },
      "text/plain": [
       "HBox(children=(FloatProgress(value=0.0, description='gridsearch', max=18.0, style=ProgressStyle(description_wi…"
      ]
     },
     "metadata": {},
     "output_type": "display_data"
    },
    {
     "name": "stdout",
     "output_type": "stream",
     "text": [
      "Training NN...optimizer:adagrad, activation:selu, epochs:1, learning rate:0.01\n"
     ]
    },
    {
     "data": {
      "application/vnd.jupyter.widget-view+json": {
       "model_id": "30771adf5c18421c8ba9a149662033e5",
       "version_major": 2,
       "version_minor": 0
      },
      "text/plain": [
       "HBox(children=(FloatProgress(value=0.0, description='train', max=1.0, style=ProgressStyle(description_width='i…"
      ]
     },
     "metadata": {},
     "output_type": "display_data"
    },
    {
     "data": {
      "application/vnd.jupyter.widget-view+json": {
       "model_id": "",
       "version_major": 2,
       "version_minor": 0
      },
      "text/plain": [
       "HBox(children=(FloatProgress(value=0.0, description='training', max=938.0, style=ProgressStyle(description_wid…"
      ]
     },
     "metadata": {},
     "output_type": "display_data"
    },
    {
     "name": "stdout",
     "output_type": "stream",
     "text": [
      "283.29677771031857\n",
      "\n",
      "Finished Training\n",
      "Evaluation...\n"
     ]
    },
    {
     "data": {
      "application/vnd.jupyter.widget-view+json": {
       "model_id": "",
       "version_major": 2,
       "version_minor": 0
      },
      "text/plain": [
       "HBox(children=(FloatProgress(value=0.0, description='testing', max=79.0, style=ProgressStyle(description_width…"
      ]
     },
     "metadata": {},
     "output_type": "display_data"
    },
    {
     "name": "stdout",
     "output_type": "stream",
     "text": [
      "Accuracy Testing: 0.9815\n",
      "Training NN...optimizer:adagrad, activation:selu, epochs:1, learning rate:0.001\n"
     ]
    },
    {
     "data": {
      "application/vnd.jupyter.widget-view+json": {
       "model_id": "5ab67236ec0f4642a836e1b3d51a6fe0",
       "version_major": 2,
       "version_minor": 0
      },
      "text/plain": [
       "HBox(children=(FloatProgress(value=0.0, description='train', max=1.0, style=ProgressStyle(description_width='i…"
      ]
     },
     "metadata": {},
     "output_type": "display_data"
    },
    {
     "data": {
      "application/vnd.jupyter.widget-view+json": {
       "model_id": "",
       "version_major": 2,
       "version_minor": 0
      },
      "text/plain": [
       "HBox(children=(FloatProgress(value=0.0, description='training', max=938.0, style=ProgressStyle(description_wid…"
      ]
     },
     "metadata": {},
     "output_type": "display_data"
    },
    {
     "name": "stdout",
     "output_type": "stream",
     "text": [
      "154.07058791443706\n",
      "\n",
      "Finished Training\n",
      "Evaluation...\n"
     ]
    },
    {
     "data": {
      "application/vnd.jupyter.widget-view+json": {
       "model_id": "",
       "version_major": 2,
       "version_minor": 0
      },
      "text/plain": [
       "HBox(children=(FloatProgress(value=0.0, description='testing', max=79.0, style=ProgressStyle(description_width…"
      ]
     },
     "metadata": {},
     "output_type": "display_data"
    },
    {
     "name": "stdout",
     "output_type": "stream",
     "text": [
      "Accuracy Testing: 0.981\n",
      "Training NN...optimizer:sgd, activation:selu, epochs:1, learning rate:0.01\n"
     ]
    },
    {
     "data": {
      "application/vnd.jupyter.widget-view+json": {
       "model_id": "cf1228c6479448b6acb948ed5337c245",
       "version_major": 2,
       "version_minor": 0
      },
      "text/plain": [
       "HBox(children=(FloatProgress(value=0.0, description='train', max=1.0, style=ProgressStyle(description_width='i…"
      ]
     },
     "metadata": {},
     "output_type": "display_data"
    },
    {
     "data": {
      "application/vnd.jupyter.widget-view+json": {
       "model_id": "",
       "version_major": 2,
       "version_minor": 0
      },
      "text/plain": [
       "HBox(children=(FloatProgress(value=0.0, description='training', max=938.0, style=ProgressStyle(description_wid…"
      ]
     },
     "metadata": {},
     "output_type": "display_data"
    },
    {
     "name": "stdout",
     "output_type": "stream",
     "text": [
      "125.51992543414235\n",
      "\n",
      "Finished Training\n",
      "Evaluation...\n"
     ]
    },
    {
     "data": {
      "application/vnd.jupyter.widget-view+json": {
       "model_id": "",
       "version_major": 2,
       "version_minor": 0
      },
      "text/plain": [
       "HBox(children=(FloatProgress(value=0.0, description='testing', max=79.0, style=ProgressStyle(description_width…"
      ]
     },
     "metadata": {},
     "output_type": "display_data"
    },
    {
     "name": "stdout",
     "output_type": "stream",
     "text": [
      "Accuracy Testing: 0.9827\n",
      "Training NN...optimizer:sgd, activation:selu, epochs:1, learning rate:0.001\n"
     ]
    },
    {
     "data": {
      "application/vnd.jupyter.widget-view+json": {
       "model_id": "62d23211b7314940bc45c1f6dfa49dfe",
       "version_major": 2,
       "version_minor": 0
      },
      "text/plain": [
       "HBox(children=(FloatProgress(value=0.0, description='train', max=1.0, style=ProgressStyle(description_width='i…"
      ]
     },
     "metadata": {},
     "output_type": "display_data"
    },
    {
     "data": {
      "application/vnd.jupyter.widget-view+json": {
       "model_id": "",
       "version_major": 2,
       "version_minor": 0
      },
      "text/plain": [
       "HBox(children=(FloatProgress(value=0.0, description='training', max=938.0, style=ProgressStyle(description_wid…"
      ]
     },
     "metadata": {},
     "output_type": "display_data"
    },
    {
     "name": "stdout",
     "output_type": "stream",
     "text": [
      "288.13481686636806\n",
      "\n",
      "Finished Training\n",
      "Evaluation...\n"
     ]
    },
    {
     "data": {
      "application/vnd.jupyter.widget-view+json": {
       "model_id": "",
       "version_major": 2,
       "version_minor": 0
      },
      "text/plain": [
       "HBox(children=(FloatProgress(value=0.0, description='testing', max=79.0, style=ProgressStyle(description_width…"
      ]
     },
     "metadata": {},
     "output_type": "display_data"
    },
    {
     "name": "stdout",
     "output_type": "stream",
     "text": [
      "Accuracy Testing: 0.9781\n",
      "Training NN...optimizer:adam, activation:selu, epochs:1, learning rate:0.01\n"
     ]
    },
    {
     "data": {
      "application/vnd.jupyter.widget-view+json": {
       "model_id": "b3196866700d4242ac2a7538758a6305",
       "version_major": 2,
       "version_minor": 0
      },
      "text/plain": [
       "HBox(children=(FloatProgress(value=0.0, description='train', max=1.0, style=ProgressStyle(description_width='i…"
      ]
     },
     "metadata": {},
     "output_type": "display_data"
    },
    {
     "data": {
      "application/vnd.jupyter.widget-view+json": {
       "model_id": "",
       "version_major": 2,
       "version_minor": 0
      },
      "text/plain": [
       "HBox(children=(FloatProgress(value=0.0, description='training', max=938.0, style=ProgressStyle(description_wid…"
      ]
     },
     "metadata": {},
     "output_type": "display_data"
    },
    {
     "name": "stdout",
     "output_type": "stream",
     "text": [
      "506.0957414098084\n",
      "\n",
      "Finished Training\n",
      "Evaluation...\n"
     ]
    },
    {
     "data": {
      "application/vnd.jupyter.widget-view+json": {
       "model_id": "",
       "version_major": 2,
       "version_minor": 0
      },
      "text/plain": [
       "HBox(children=(FloatProgress(value=0.0, description='testing', max=79.0, style=ProgressStyle(description_width…"
      ]
     },
     "metadata": {},
     "output_type": "display_data"
    },
    {
     "name": "stdout",
     "output_type": "stream",
     "text": [
      "Accuracy Testing: 0.9618\n",
      "Training NN...optimizer:adam, activation:selu, epochs:1, learning rate:0.001\n"
     ]
    },
    {
     "data": {
      "application/vnd.jupyter.widget-view+json": {
       "model_id": "bf58c24a34974b04ae013f2d46d780db",
       "version_major": 2,
       "version_minor": 0
      },
      "text/plain": [
       "HBox(children=(FloatProgress(value=0.0, description='train', max=1.0, style=ProgressStyle(description_width='i…"
      ]
     },
     "metadata": {},
     "output_type": "display_data"
    },
    {
     "data": {
      "application/vnd.jupyter.widget-view+json": {
       "model_id": "",
       "version_major": 2,
       "version_minor": 0
      },
      "text/plain": [
       "HBox(children=(FloatProgress(value=0.0, description='training', max=938.0, style=ProgressStyle(description_wid…"
      ]
     },
     "metadata": {},
     "output_type": "display_data"
    },
    {
     "name": "stdout",
     "output_type": "stream",
     "text": [
      "126.98243455216289\n",
      "\n",
      "Finished Training\n",
      "Evaluation...\n"
     ]
    },
    {
     "data": {
      "application/vnd.jupyter.widget-view+json": {
       "model_id": "",
       "version_major": 2,
       "version_minor": 0
      },
      "text/plain": [
       "HBox(children=(FloatProgress(value=0.0, description='testing', max=79.0, style=ProgressStyle(description_width…"
      ]
     },
     "metadata": {},
     "output_type": "display_data"
    },
    {
     "name": "stdout",
     "output_type": "stream",
     "text": [
      "Accuracy Testing: 0.9783\n",
      "Training NN...optimizer:adagrad, activation:tanh, epochs:1, learning rate:0.01\n"
     ]
    },
    {
     "data": {
      "application/vnd.jupyter.widget-view+json": {
       "model_id": "0982ae9e8449436f8fe0832523fe7509",
       "version_major": 2,
       "version_minor": 0
      },
      "text/plain": [
       "HBox(children=(FloatProgress(value=0.0, description='train', max=1.0, style=ProgressStyle(description_width='i…"
      ]
     },
     "metadata": {},
     "output_type": "display_data"
    },
    {
     "data": {
      "application/vnd.jupyter.widget-view+json": {
       "model_id": "",
       "version_major": 2,
       "version_minor": 0
      },
      "text/plain": [
       "HBox(children=(FloatProgress(value=0.0, description='training', max=938.0, style=ProgressStyle(description_wid…"
      ]
     },
     "metadata": {},
     "output_type": "display_data"
    },
    {
     "name": "stdout",
     "output_type": "stream",
     "text": [
      "280.68677139654756\n",
      "\n",
      "Finished Training\n",
      "Evaluation...\n"
     ]
    },
    {
     "data": {
      "application/vnd.jupyter.widget-view+json": {
       "model_id": "",
       "version_major": 2,
       "version_minor": 0
      },
      "text/plain": [
       "HBox(children=(FloatProgress(value=0.0, description='testing', max=79.0, style=ProgressStyle(description_width…"
      ]
     },
     "metadata": {},
     "output_type": "display_data"
    },
    {
     "name": "stdout",
     "output_type": "stream",
     "text": [
      "Accuracy Testing: 0.9807\n",
      "Training NN...optimizer:adagrad, activation:tanh, epochs:1, learning rate:0.001\n"
     ]
    },
    {
     "data": {
      "application/vnd.jupyter.widget-view+json": {
       "model_id": "c2eb82c0cea341ddbacce8b2c1778428",
       "version_major": 2,
       "version_minor": 0
      },
      "text/plain": [
       "HBox(children=(FloatProgress(value=0.0, description='train', max=1.0, style=ProgressStyle(description_width='i…"
      ]
     },
     "metadata": {},
     "output_type": "display_data"
    },
    {
     "data": {
      "application/vnd.jupyter.widget-view+json": {
       "model_id": "",
       "version_major": 2,
       "version_minor": 0
      },
      "text/plain": [
       "HBox(children=(FloatProgress(value=0.0, description='training', max=938.0, style=ProgressStyle(description_wid…"
      ]
     },
     "metadata": {},
     "output_type": "display_data"
    },
    {
     "name": "stdout",
     "output_type": "stream",
     "text": [
      "195.68581248819828\n",
      "\n",
      "Finished Training\n",
      "Evaluation...\n"
     ]
    },
    {
     "data": {
      "application/vnd.jupyter.widget-view+json": {
       "model_id": "",
       "version_major": 2,
       "version_minor": 0
      },
      "text/plain": [
       "HBox(children=(FloatProgress(value=0.0, description='testing', max=79.0, style=ProgressStyle(description_width…"
      ]
     },
     "metadata": {},
     "output_type": "display_data"
    },
    {
     "name": "stdout",
     "output_type": "stream",
     "text": [
      "Accuracy Testing: 0.9757\n",
      "Training NN...optimizer:sgd, activation:tanh, epochs:1, learning rate:0.01\n"
     ]
    },
    {
     "data": {
      "application/vnd.jupyter.widget-view+json": {
       "model_id": "f4a364b46ba24f0a85867d5357bd90d2",
       "version_major": 2,
       "version_minor": 0
      },
      "text/plain": [
       "HBox(children=(FloatProgress(value=0.0, description='train', max=1.0, style=ProgressStyle(description_width='i…"
      ]
     },
     "metadata": {},
     "output_type": "display_data"
    },
    {
     "data": {
      "application/vnd.jupyter.widget-view+json": {
       "model_id": "",
       "version_major": 2,
       "version_minor": 0
      },
      "text/plain": [
       "HBox(children=(FloatProgress(value=0.0, description='training', max=938.0, style=ProgressStyle(description_wid…"
      ]
     },
     "metadata": {},
     "output_type": "display_data"
    },
    {
     "name": "stdout",
     "output_type": "stream",
     "text": [
      "176.18306627124548\n",
      "\n",
      "Finished Training\n",
      "Evaluation...\n"
     ]
    },
    {
     "data": {
      "application/vnd.jupyter.widget-view+json": {
       "model_id": "",
       "version_major": 2,
       "version_minor": 0
      },
      "text/plain": [
       "HBox(children=(FloatProgress(value=0.0, description='testing', max=79.0, style=ProgressStyle(description_width…"
      ]
     },
     "metadata": {},
     "output_type": "display_data"
    },
    {
     "name": "stdout",
     "output_type": "stream",
     "text": [
      "Accuracy Testing: 0.9849\n",
      "Training NN...optimizer:sgd, activation:tanh, epochs:1, learning rate:0.001\n"
     ]
    },
    {
     "data": {
      "application/vnd.jupyter.widget-view+json": {
       "model_id": "a1fc4833aaca4fdfa4b72bb356ff735b",
       "version_major": 2,
       "version_minor": 0
      },
      "text/plain": [
       "HBox(children=(FloatProgress(value=0.0, description='train', max=1.0, style=ProgressStyle(description_width='i…"
      ]
     },
     "metadata": {},
     "output_type": "display_data"
    },
    {
     "data": {
      "application/vnd.jupyter.widget-view+json": {
       "model_id": "",
       "version_major": 2,
       "version_minor": 0
      },
      "text/plain": [
       "HBox(children=(FloatProgress(value=0.0, description='training', max=938.0, style=ProgressStyle(description_wid…"
      ]
     },
     "metadata": {},
     "output_type": "display_data"
    },
    {
     "name": "stdout",
     "output_type": "stream",
     "text": [
      "602.7927330993116\n",
      "\n",
      "Finished Training\n",
      "Evaluation...\n"
     ]
    },
    {
     "data": {
      "application/vnd.jupyter.widget-view+json": {
       "model_id": "",
       "version_major": 2,
       "version_minor": 0
      },
      "text/plain": [
       "HBox(children=(FloatProgress(value=0.0, description='testing', max=79.0, style=ProgressStyle(description_width…"
      ]
     },
     "metadata": {},
     "output_type": "display_data"
    },
    {
     "name": "stdout",
     "output_type": "stream",
     "text": [
      "Accuracy Testing: 0.9608\n",
      "Training NN...optimizer:adam, activation:tanh, epochs:1, learning rate:0.01\n"
     ]
    },
    {
     "data": {
      "application/vnd.jupyter.widget-view+json": {
       "model_id": "7f40c7a758014ad690464eeff9a0b298",
       "version_major": 2,
       "version_minor": 0
      },
      "text/plain": [
       "HBox(children=(FloatProgress(value=0.0, description='train', max=1.0, style=ProgressStyle(description_width='i…"
      ]
     },
     "metadata": {},
     "output_type": "display_data"
    },
    {
     "data": {
      "application/vnd.jupyter.widget-view+json": {
       "model_id": "",
       "version_major": 2,
       "version_minor": 0
      },
      "text/plain": [
       "HBox(children=(FloatProgress(value=0.0, description='training', max=938.0, style=ProgressStyle(description_wid…"
      ]
     },
     "metadata": {},
     "output_type": "display_data"
    },
    {
     "name": "stdout",
     "output_type": "stream",
     "text": [
      "397.33486008644104\n",
      "\n",
      "Finished Training\n",
      "Evaluation...\n"
     ]
    },
    {
     "data": {
      "application/vnd.jupyter.widget-view+json": {
       "model_id": "",
       "version_major": 2,
       "version_minor": 0
      },
      "text/plain": [
       "HBox(children=(FloatProgress(value=0.0, description='testing', max=79.0, style=ProgressStyle(description_width…"
      ]
     },
     "metadata": {},
     "output_type": "display_data"
    },
    {
     "name": "stdout",
     "output_type": "stream",
     "text": [
      "Accuracy Testing: 0.9642\n",
      "Training NN...optimizer:adam, activation:tanh, epochs:1, learning rate:0.001\n"
     ]
    },
    {
     "data": {
      "application/vnd.jupyter.widget-view+json": {
       "model_id": "bd0fc95a1ff249e3a4383241af719d9e",
       "version_major": 2,
       "version_minor": 0
      },
      "text/plain": [
       "HBox(children=(FloatProgress(value=0.0, description='train', max=1.0, style=ProgressStyle(description_width='i…"
      ]
     },
     "metadata": {},
     "output_type": "display_data"
    },
    {
     "data": {
      "application/vnd.jupyter.widget-view+json": {
       "model_id": "",
       "version_major": 2,
       "version_minor": 0
      },
      "text/plain": [
       "HBox(children=(FloatProgress(value=0.0, description='training', max=938.0, style=ProgressStyle(description_wid…"
      ]
     },
     "metadata": {},
     "output_type": "display_data"
    },
    {
     "name": "stdout",
     "output_type": "stream",
     "text": [
      "141.2712545134127\n",
      "\n",
      "Finished Training\n",
      "Evaluation...\n"
     ]
    },
    {
     "data": {
      "application/vnd.jupyter.widget-view+json": {
       "model_id": "",
       "version_major": 2,
       "version_minor": 0
      },
      "text/plain": [
       "HBox(children=(FloatProgress(value=0.0, description='testing', max=79.0, style=ProgressStyle(description_width…"
      ]
     },
     "metadata": {},
     "output_type": "display_data"
    },
    {
     "name": "stdout",
     "output_type": "stream",
     "text": [
      "Accuracy Testing: 0.9777\n",
      "Training NN...optimizer:adagrad, activation:relu, epochs:1, learning rate:0.01\n"
     ]
    },
    {
     "data": {
      "application/vnd.jupyter.widget-view+json": {
       "model_id": "4e2d7de88b8a412d95e94d572066719e",
       "version_major": 2,
       "version_minor": 0
      },
      "text/plain": [
       "HBox(children=(FloatProgress(value=0.0, description='train', max=1.0, style=ProgressStyle(description_width='i…"
      ]
     },
     "metadata": {},
     "output_type": "display_data"
    },
    {
     "data": {
      "application/vnd.jupyter.widget-view+json": {
       "model_id": "",
       "version_major": 2,
       "version_minor": 0
      },
      "text/plain": [
       "HBox(children=(FloatProgress(value=0.0, description='training', max=938.0, style=ProgressStyle(description_wid…"
      ]
     },
     "metadata": {},
     "output_type": "display_data"
    },
    {
     "name": "stdout",
     "output_type": "stream",
     "text": [
      "221.62225933372974\n",
      "\n",
      "Finished Training\n",
      "Evaluation...\n"
     ]
    },
    {
     "data": {
      "application/vnd.jupyter.widget-view+json": {
       "model_id": "",
       "version_major": 2,
       "version_minor": 0
      },
      "text/plain": [
       "HBox(children=(FloatProgress(value=0.0, description='testing', max=79.0, style=ProgressStyle(description_width…"
      ]
     },
     "metadata": {},
     "output_type": "display_data"
    },
    {
     "name": "stdout",
     "output_type": "stream",
     "text": [
      "Accuracy Testing: 0.982\n",
      "Training NN...optimizer:adagrad, activation:relu, epochs:1, learning rate:0.001\n"
     ]
    },
    {
     "data": {
      "application/vnd.jupyter.widget-view+json": {
       "model_id": "6b7caf89615a43e986298b7a829a2132",
       "version_major": 2,
       "version_minor": 0
      },
      "text/plain": [
       "HBox(children=(FloatProgress(value=0.0, description='train', max=1.0, style=ProgressStyle(description_width='i…"
      ]
     },
     "metadata": {},
     "output_type": "display_data"
    },
    {
     "data": {
      "application/vnd.jupyter.widget-view+json": {
       "model_id": "",
       "version_major": 2,
       "version_minor": 0
      },
      "text/plain": [
       "HBox(children=(FloatProgress(value=0.0, description='training', max=938.0, style=ProgressStyle(description_wid…"
      ]
     },
     "metadata": {},
     "output_type": "display_data"
    },
    {
     "name": "stdout",
     "output_type": "stream",
     "text": [
      "145.48581282049417\n",
      "\n",
      "Finished Training\n",
      "Evaluation...\n"
     ]
    },
    {
     "data": {
      "application/vnd.jupyter.widget-view+json": {
       "model_id": "",
       "version_major": 2,
       "version_minor": 0
      },
      "text/plain": [
       "HBox(children=(FloatProgress(value=0.0, description='testing', max=79.0, style=ProgressStyle(description_width…"
      ]
     },
     "metadata": {},
     "output_type": "display_data"
    },
    {
     "name": "stdout",
     "output_type": "stream",
     "text": [
      "Accuracy Testing: 0.9818\n",
      "Training NN...optimizer:sgd, activation:relu, epochs:1, learning rate:0.01\n"
     ]
    },
    {
     "data": {
      "application/vnd.jupyter.widget-view+json": {
       "model_id": "699d6f0d080c43609dbddb1730247d8e",
       "version_major": 2,
       "version_minor": 0
      },
      "text/plain": [
       "HBox(children=(FloatProgress(value=0.0, description='train', max=1.0, style=ProgressStyle(description_width='i…"
      ]
     },
     "metadata": {},
     "output_type": "display_data"
    },
    {
     "data": {
      "application/vnd.jupyter.widget-view+json": {
       "model_id": "",
       "version_major": 2,
       "version_minor": 0
      },
      "text/plain": [
       "HBox(children=(FloatProgress(value=0.0, description='training', max=938.0, style=ProgressStyle(description_wid…"
      ]
     },
     "metadata": {},
     "output_type": "display_data"
    },
    {
     "name": "stdout",
     "output_type": "stream",
     "text": [
      "124.34220764786005\n",
      "\n",
      "Finished Training\n",
      "Evaluation...\n"
     ]
    },
    {
     "data": {
      "application/vnd.jupyter.widget-view+json": {
       "model_id": "",
       "version_major": 2,
       "version_minor": 0
      },
      "text/plain": [
       "HBox(children=(FloatProgress(value=0.0, description='testing', max=79.0, style=ProgressStyle(description_width…"
      ]
     },
     "metadata": {},
     "output_type": "display_data"
    },
    {
     "name": "stdout",
     "output_type": "stream",
     "text": [
      "Accuracy Testing: 0.9835\n",
      "Training NN...optimizer:sgd, activation:relu, epochs:1, learning rate:0.001\n"
     ]
    },
    {
     "data": {
      "application/vnd.jupyter.widget-view+json": {
       "model_id": "fc8b8f918212471c83f9cc8ec64ab6ca",
       "version_major": 2,
       "version_minor": 0
      },
      "text/plain": [
       "HBox(children=(FloatProgress(value=0.0, description='train', max=1.0, style=ProgressStyle(description_width='i…"
      ]
     },
     "metadata": {},
     "output_type": "display_data"
    },
    {
     "data": {
      "application/vnd.jupyter.widget-view+json": {
       "model_id": "",
       "version_major": 2,
       "version_minor": 0
      },
      "text/plain": [
       "HBox(children=(FloatProgress(value=0.0, description='training', max=938.0, style=ProgressStyle(description_wid…"
      ]
     },
     "metadata": {},
     "output_type": "display_data"
    },
    {
     "name": "stdout",
     "output_type": "stream",
     "text": [
      "307.9679284058511\n",
      "\n",
      "Finished Training\n",
      "Evaluation...\n"
     ]
    },
    {
     "data": {
      "application/vnd.jupyter.widget-view+json": {
       "model_id": "",
       "version_major": 2,
       "version_minor": 0
      },
      "text/plain": [
       "HBox(children=(FloatProgress(value=0.0, description='testing', max=79.0, style=ProgressStyle(description_width…"
      ]
     },
     "metadata": {},
     "output_type": "display_data"
    },
    {
     "name": "stdout",
     "output_type": "stream",
     "text": [
      "Accuracy Testing: 0.9793\n",
      "Training NN...optimizer:adam, activation:relu, epochs:1, learning rate:0.01\n"
     ]
    },
    {
     "data": {
      "application/vnd.jupyter.widget-view+json": {
       "model_id": "0f3f84cf4a1846af8be8112e32373422",
       "version_major": 2,
       "version_minor": 0
      },
      "text/plain": [
       "HBox(children=(FloatProgress(value=0.0, description='train', max=1.0, style=ProgressStyle(description_width='i…"
      ]
     },
     "metadata": {},
     "output_type": "display_data"
    },
    {
     "data": {
      "application/vnd.jupyter.widget-view+json": {
       "model_id": "",
       "version_major": 2,
       "version_minor": 0
      },
      "text/plain": [
       "HBox(children=(FloatProgress(value=0.0, description='training', max=938.0, style=ProgressStyle(description_wid…"
      ]
     },
     "metadata": {},
     "output_type": "display_data"
    },
    {
     "name": "stdout",
     "output_type": "stream",
     "text": [
      "392.40780045092106\n",
      "\n",
      "Finished Training\n",
      "Evaluation...\n"
     ]
    },
    {
     "data": {
      "application/vnd.jupyter.widget-view+json": {
       "model_id": "",
       "version_major": 2,
       "version_minor": 0
      },
      "text/plain": [
       "HBox(children=(FloatProgress(value=0.0, description='testing', max=79.0, style=ProgressStyle(description_width…"
      ]
     },
     "metadata": {},
     "output_type": "display_data"
    },
    {
     "name": "stdout",
     "output_type": "stream",
     "text": [
      "Accuracy Testing: 0.9776\n",
      "Training NN...optimizer:adam, activation:relu, epochs:1, learning rate:0.001\n"
     ]
    },
    {
     "data": {
      "application/vnd.jupyter.widget-view+json": {
       "model_id": "18bec26764e94e65bbc774270186b78c",
       "version_major": 2,
       "version_minor": 0
      },
      "text/plain": [
       "HBox(children=(FloatProgress(value=0.0, description='train', max=1.0, style=ProgressStyle(description_width='i…"
      ]
     },
     "metadata": {},
     "output_type": "display_data"
    },
    {
     "data": {
      "application/vnd.jupyter.widget-view+json": {
       "model_id": "",
       "version_major": 2,
       "version_minor": 0
      },
      "text/plain": [
       "HBox(children=(FloatProgress(value=0.0, description='training', max=938.0, style=ProgressStyle(description_wid…"
      ]
     },
     "metadata": {},
     "output_type": "display_data"
    },
    {
     "name": "stdout",
     "output_type": "stream",
     "text": [
      "113.97934246435761\n",
      "\n",
      "Finished Training\n",
      "Evaluation...\n"
     ]
    },
    {
     "data": {
      "application/vnd.jupyter.widget-view+json": {
       "model_id": "",
       "version_major": 2,
       "version_minor": 0
      },
      "text/plain": [
       "HBox(children=(FloatProgress(value=0.0, description='testing', max=79.0, style=ProgressStyle(description_width…"
      ]
     },
     "metadata": {},
     "output_type": "display_data"
    },
    {
     "name": "stdout",
     "output_type": "stream",
     "text": [
      "Accuracy Testing: 0.9864\n",
      "\n",
      "{'epoch': 1, 'activation': 'relu', 'optimizer': 'adam', 'learning_rate': 0.001}\n",
      "--- 14.149628901481629 minutes ---\n"
     ]
    }
   ],
   "source": [
    "hyperparameters = {\n",
    "    'epochs': [1],\n",
    "    'activations': ['selu'],\n",
    "    'optimizers': ['adagrad'],\n",
    "    'learning_rate': [1e-2]\n",
    "}\n",
    "\n",
    "import time\n",
    "# This line of code is to measure the executation time\n",
    "start_time = time.time()\n",
    "######################################################\n",
    "# YOU CODE GOES HERE\n",
    "best_params = GridSearch(train_loader, test_loader, hyperparameters)\n",
    "print('best_params', best_params)\n",
    "######################################################\n",
    "print(f'--- {(time.time() - start_time)/60.0} minutes ---')"
   ]
  },
  {
   "cell_type": "code",
   "execution_count": 15,
   "metadata": {
    "ExecuteTime": {
     "end_time": "2020-10-10T10:58:16.421710Z",
     "start_time": "2020-10-10T10:56:17.444240Z"
    }
   },
   "outputs": [
    {
     "data": {
      "application/vnd.jupyter.widget-view+json": {
       "model_id": "0842b437cf7642db9001f433c9841903",
       "version_major": 2,
       "version_minor": 0
      },
      "text/plain": [
       "HBox(children=(FloatProgress(value=0.0, description='RandomizedGridSearch', max=5.0, style=ProgressStyle(descr…"
      ]
     },
     "metadata": {},
     "output_type": "display_data"
    },
    {
     "name": "stdout",
     "output_type": "stream",
     "text": [
      "Training NN...optimizer:adam, activation:selu, epochs:1, learning rate:0.01\n"
     ]
    },
    {
     "data": {
      "application/vnd.jupyter.widget-view+json": {
       "model_id": "34b03e6b99c44185b23f051b6ba1e16a",
       "version_major": 2,
       "version_minor": 0
      },
      "text/plain": [
       "HBox(children=(FloatProgress(value=0.0, description='train', max=1.0, style=ProgressStyle(description_width='i…"
      ]
     },
     "metadata": {},
     "output_type": "display_data"
    },
    {
     "data": {
      "application/vnd.jupyter.widget-view+json": {
       "model_id": "",
       "version_major": 2,
       "version_minor": 0
      },
      "text/plain": [
       "HBox(children=(FloatProgress(value=0.0, description='training', max=938.0, style=ProgressStyle(description_wid…"
      ]
     },
     "metadata": {},
     "output_type": "display_data"
    },
    {
     "name": "stdout",
     "output_type": "stream",
     "text": [
      "530.6996719539165\n",
      "\n",
      "Finished Training\n",
      "Evaluation...\n"
     ]
    },
    {
     "data": {
      "application/vnd.jupyter.widget-view+json": {
       "model_id": "",
       "version_major": 2,
       "version_minor": 0
      },
      "text/plain": [
       "HBox(children=(FloatProgress(value=0.0, description='testing', max=79.0, style=ProgressStyle(description_width…"
      ]
     },
     "metadata": {},
     "output_type": "display_data"
    },
    {
     "name": "stdout",
     "output_type": "stream",
     "text": [
      "Accuracy Testing: 0.9728\n",
      "Training NN...optimizer:adam, activation:tanh, epochs:1, learning rate:0.01\n"
     ]
    },
    {
     "data": {
      "application/vnd.jupyter.widget-view+json": {
       "model_id": "d51cf1f11b484f3d8fbf46348ff5ad08",
       "version_major": 2,
       "version_minor": 0
      },
      "text/plain": [
       "HBox(children=(FloatProgress(value=0.0, description='train', max=1.0, style=ProgressStyle(description_width='i…"
      ]
     },
     "metadata": {},
     "output_type": "display_data"
    },
    {
     "data": {
      "application/vnd.jupyter.widget-view+json": {
       "model_id": "",
       "version_major": 2,
       "version_minor": 0
      },
      "text/plain": [
       "HBox(children=(FloatProgress(value=0.0, description='training', max=938.0, style=ProgressStyle(description_wid…"
      ]
     },
     "metadata": {},
     "output_type": "display_data"
    },
    {
     "name": "stdout",
     "output_type": "stream",
     "text": [
      "418.68668753281236\n",
      "\n",
      "Finished Training\n",
      "Evaluation...\n"
     ]
    },
    {
     "data": {
      "application/vnd.jupyter.widget-view+json": {
       "model_id": "",
       "version_major": 2,
       "version_minor": 0
      },
      "text/plain": [
       "HBox(children=(FloatProgress(value=0.0, description='testing', max=79.0, style=ProgressStyle(description_width…"
      ]
     },
     "metadata": {},
     "output_type": "display_data"
    },
    {
     "name": "stdout",
     "output_type": "stream",
     "text": [
      "Accuracy Testing: 0.9492\n",
      "Training NN...optimizer:sgd, activation:sigmoid, epochs:1, learning rate:0.0001\n"
     ]
    },
    {
     "data": {
      "application/vnd.jupyter.widget-view+json": {
       "model_id": "d13261331d3c4b42a422d28f2b9df68a",
       "version_major": 2,
       "version_minor": 0
      },
      "text/plain": [
       "HBox(children=(FloatProgress(value=0.0, description='train', max=1.0, style=ProgressStyle(description_width='i…"
      ]
     },
     "metadata": {},
     "output_type": "display_data"
    },
    {
     "data": {
      "application/vnd.jupyter.widget-view+json": {
       "model_id": "2f0f0feba5804514aa46f2b28340b9b4",
       "version_major": 2,
       "version_minor": 0
      },
      "text/plain": [
       "HBox(children=(FloatProgress(value=0.0, description='training', max=938.0, style=ProgressStyle(description_wid…"
      ]
     },
     "metadata": {},
     "output_type": "display_data"
    },
    {
     "ename": "KeyboardInterrupt",
     "evalue": "",
     "output_type": "error",
     "traceback": [
      "\u001b[0;31m---------------------------------------------------------------------------\u001b[0m",
      "\u001b[0;31mKeyboardInterrupt\u001b[0m                         Traceback (most recent call last)",
      "\u001b[0;32m<ipython-input-15-6dfd9636fc85>\u001b[0m in \u001b[0;36m<module>\u001b[0;34m\u001b[0m\n\u001b[1;32m     10\u001b[0m \u001b[0;31m######################################################\u001b[0m\u001b[0;34m\u001b[0m\u001b[0;34m\u001b[0m\u001b[0;34m\u001b[0m\u001b[0m\n\u001b[1;32m     11\u001b[0m \u001b[0;31m# YOU CODE GOES HERE\u001b[0m\u001b[0;34m\u001b[0m\u001b[0;34m\u001b[0m\u001b[0;34m\u001b[0m\u001b[0m\n\u001b[0;32m---> 12\u001b[0;31m \u001b[0mbest_params\u001b[0m \u001b[0;34m=\u001b[0m \u001b[0mRandomizedGridSearch\u001b[0m\u001b[0;34m(\u001b[0m\u001b[0mtrain_loader\u001b[0m\u001b[0;34m,\u001b[0m \u001b[0mtest_loader\u001b[0m\u001b[0;34m,\u001b[0m \u001b[0mhyperparameters\u001b[0m\u001b[0;34m,\u001b[0m \u001b[0mnum_combinations\u001b[0m\u001b[0;34m=\u001b[0m\u001b[0;36m5\u001b[0m\u001b[0;34m)\u001b[0m\u001b[0;34m\u001b[0m\u001b[0;34m\u001b[0m\u001b[0m\n\u001b[0m\u001b[1;32m     13\u001b[0m \u001b[0mprint\u001b[0m\u001b[0;34m(\u001b[0m\u001b[0mbest_params\u001b[0m\u001b[0;34m)\u001b[0m\u001b[0;34m\u001b[0m\u001b[0;34m\u001b[0m\u001b[0m\n\u001b[1;32m     14\u001b[0m \u001b[0;31m######################################################\u001b[0m\u001b[0;34m\u001b[0m\u001b[0;34m\u001b[0m\u001b[0;34m\u001b[0m\u001b[0m\n",
      "\u001b[0;32m<ipython-input-14-3028b84e1b79>\u001b[0m in \u001b[0;36mRandomizedGridSearch\u001b[0;34m(train_data, test_data, hyperparameters, num_combinations)\u001b[0m\n\u001b[1;32m     32\u001b[0m             \u001b[0mn_epochs\u001b[0m\u001b[0;34m=\u001b[0m\u001b[0mepochs\u001b[0m\u001b[0;34m,\u001b[0m\u001b[0;34m\u001b[0m\u001b[0;34m\u001b[0m\u001b[0m\n\u001b[1;32m     33\u001b[0m             \u001b[0mbs\u001b[0m\u001b[0;34m=\u001b[0m\u001b[0;36m64\u001b[0m\u001b[0;34m,\u001b[0m\u001b[0;34m\u001b[0m\u001b[0;34m\u001b[0m\u001b[0m\n\u001b[0;32m---> 34\u001b[0;31m             \u001b[0mdevice\u001b[0m\u001b[0;34m=\u001b[0m\u001b[0mdevice\u001b[0m\u001b[0;34m,\u001b[0m\u001b[0;34m\u001b[0m\u001b[0;34m\u001b[0m\u001b[0m\n\u001b[0m\u001b[1;32m     35\u001b[0m         )\n\u001b[1;32m     36\u001b[0m         \u001b[0;31m# Evaluate\u001b[0m\u001b[0;34m\u001b[0m\u001b[0;34m\u001b[0m\u001b[0;34m\u001b[0m\u001b[0m\n",
      "\u001b[0;32m<ipython-input-8-34d9146ce0d2>\u001b[0m in \u001b[0;36mtrain\u001b[0;34m(model, dataloader, criterion, optimizer, n_epochs, bs, device)\u001b[0m\n\u001b[1;32m     12\u001b[0m             \u001b[0moutputs\u001b[0m \u001b[0;34m=\u001b[0m \u001b[0mmodel\u001b[0m\u001b[0;34m(\u001b[0m\u001b[0mx\u001b[0m\u001b[0;34m)\u001b[0m  \u001b[0;31m# Get the prediction here\u001b[0m\u001b[0;34m\u001b[0m\u001b[0;34m\u001b[0m\u001b[0m\n\u001b[1;32m     13\u001b[0m             \u001b[0mloss\u001b[0m \u001b[0;34m=\u001b[0m \u001b[0mcriterion\u001b[0m\u001b[0;34m(\u001b[0m\u001b[0moutputs\u001b[0m\u001b[0;34m,\u001b[0m \u001b[0my\u001b[0m\u001b[0;34m)\u001b[0m  \u001b[0;31m# Calculate loss\u001b[0m\u001b[0;34m\u001b[0m\u001b[0;34m\u001b[0m\u001b[0m\n\u001b[0;32m---> 14\u001b[0;31m             \u001b[0mloss\u001b[0m\u001b[0;34m.\u001b[0m\u001b[0mbackward\u001b[0m\u001b[0;34m(\u001b[0m\u001b[0;34m)\u001b[0m  \u001b[0;31m# Do backpropagation\u001b[0m\u001b[0;34m\u001b[0m\u001b[0;34m\u001b[0m\u001b[0m\n\u001b[0m\u001b[1;32m     15\u001b[0m             \u001b[0moptimizer\u001b[0m\u001b[0;34m.\u001b[0m\u001b[0mstep\u001b[0m\u001b[0;34m(\u001b[0m\u001b[0;34m)\u001b[0m  \u001b[0;31m# Update weights\u001b[0m\u001b[0;34m\u001b[0m\u001b[0;34m\u001b[0m\u001b[0m\n\u001b[1;32m     16\u001b[0m             \u001b[0;31m# print statistics\u001b[0m\u001b[0;34m\u001b[0m\u001b[0;34m\u001b[0m\u001b[0;34m\u001b[0m\u001b[0m\n",
      "\u001b[0;32m~/.pyenv/versions/jup3.7.3/lib/python3.7/site-packages/torch/tensor.py\u001b[0m in \u001b[0;36mbackward\u001b[0;34m(self, gradient, retain_graph, create_graph)\u001b[0m\n\u001b[1;32m    196\u001b[0m                 \u001b[0mproducts\u001b[0m\u001b[0;34m.\u001b[0m \u001b[0mDefaults\u001b[0m \u001b[0mto\u001b[0m\u001b[0;31m \u001b[0m\u001b[0;31m`\u001b[0m\u001b[0;31m`\u001b[0m\u001b[0;32mFalse\u001b[0m\u001b[0;31m`\u001b[0m\u001b[0;31m`\u001b[0m\u001b[0;34m.\u001b[0m\u001b[0;34m\u001b[0m\u001b[0;34m\u001b[0m\u001b[0m\n\u001b[1;32m    197\u001b[0m         \"\"\"\n\u001b[0;32m--> 198\u001b[0;31m         \u001b[0mtorch\u001b[0m\u001b[0;34m.\u001b[0m\u001b[0mautograd\u001b[0m\u001b[0;34m.\u001b[0m\u001b[0mbackward\u001b[0m\u001b[0;34m(\u001b[0m\u001b[0mself\u001b[0m\u001b[0;34m,\u001b[0m \u001b[0mgradient\u001b[0m\u001b[0;34m,\u001b[0m \u001b[0mretain_graph\u001b[0m\u001b[0;34m,\u001b[0m \u001b[0mcreate_graph\u001b[0m\u001b[0;34m)\u001b[0m\u001b[0;34m\u001b[0m\u001b[0;34m\u001b[0m\u001b[0m\n\u001b[0m\u001b[1;32m    199\u001b[0m \u001b[0;34m\u001b[0m\u001b[0m\n\u001b[1;32m    200\u001b[0m     \u001b[0;32mdef\u001b[0m \u001b[0mregister_hook\u001b[0m\u001b[0;34m(\u001b[0m\u001b[0mself\u001b[0m\u001b[0;34m,\u001b[0m \u001b[0mhook\u001b[0m\u001b[0;34m)\u001b[0m\u001b[0;34m:\u001b[0m\u001b[0;34m\u001b[0m\u001b[0;34m\u001b[0m\u001b[0m\n",
      "\u001b[0;32m~/.pyenv/versions/jup3.7.3/lib/python3.7/site-packages/torch/autograd/__init__.py\u001b[0m in \u001b[0;36mbackward\u001b[0;34m(tensors, grad_tensors, retain_graph, create_graph, grad_variables)\u001b[0m\n\u001b[1;32m     98\u001b[0m     Variable._execution_engine.run_backward(\n\u001b[1;32m     99\u001b[0m         \u001b[0mtensors\u001b[0m\u001b[0;34m,\u001b[0m \u001b[0mgrad_tensors\u001b[0m\u001b[0;34m,\u001b[0m \u001b[0mretain_graph\u001b[0m\u001b[0;34m,\u001b[0m \u001b[0mcreate_graph\u001b[0m\u001b[0;34m,\u001b[0m\u001b[0;34m\u001b[0m\u001b[0;34m\u001b[0m\u001b[0m\n\u001b[0;32m--> 100\u001b[0;31m         allow_unreachable=True)  # allow_unreachable flag\n\u001b[0m\u001b[1;32m    101\u001b[0m \u001b[0;34m\u001b[0m\u001b[0m\n\u001b[1;32m    102\u001b[0m \u001b[0;34m\u001b[0m\u001b[0m\n",
      "\u001b[0;31mKeyboardInterrupt\u001b[0m: "
     ]
    }
   ],
   "source": [
    "hyperparameters = {\n",
    "    'epochs': [1],\n",
    "    'activations': ['sigmoid','selu','tanh','relu'],\n",
    "    'optimizers': ['adagrad','sgd','adam'],\n",
    "    'learning_rate': [1e-2, 1e-3, 1e-4]\n",
    "}\n",
    "\n",
    "# This line of code is to measure the executation time\n",
    "start_time = time.time()\n",
    "######################################################\n",
    "# YOU CODE GOES HERE\n",
    "best_params = RandomizedGridSearch(train_loader, test_loader, hyperparameters, num_combinations=1)\n",
    "print(best_params)\n",
    "######################################################\n",
    "print(f'--- {(time.time() - start_time)/60.0} minutes ---')"
   ]
  },
  {
   "cell_type": "code",
   "execution_count": null,
   "metadata": {},
   "outputs": [],
   "source": []
  },
  {
   "cell_type": "code",
   "execution_count": null,
   "metadata": {},
   "outputs": [],
   "source": []
  }
 ],
 "metadata": {
  "jupytext": {
   "formats": "ipynb,py"
  },
  "kernelspec": {
   "display_name": "Python 3",
   "language": "python",
   "name": "python3"
  },
  "language_info": {
   "codemirror_mode": {
    "name": "ipython",
    "version": 3
   },
   "file_extension": ".py",
   "mimetype": "text/x-python",
   "name": "python",
   "nbconvert_exporter": "python",
   "pygments_lexer": "ipython3",
   "version": "3.7.3"
  },
  "toc": {
   "base_numbering": 1,
   "nav_menu": {},
   "number_sections": true,
   "sideBar": true,
   "skip_h1_title": false,
   "title_cell": "Table of Contents",
   "title_sidebar": "Contents",
   "toc_cell": false,
   "toc_position": {
    "height": "calc(100% - 180px)",
    "left": "10px",
    "top": "150px",
    "width": "307.2px"
   },
   "toc_section_display": true,
   "toc_window_display": true
  }
 },
 "nbformat": 4,
 "nbformat_minor": 4
}
