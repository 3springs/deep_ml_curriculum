{
 "cells": [
  {
   "cell_type": "code",
   "execution_count": null,
   "metadata": {},
   "outputs": [],
   "source": [
    "import numpy as np\n",
    "import pandas as pd\n",
    "import holoviews as hv\n",
    "from bokeh import palettes\n",
    "\n",
    "hv.extension(\"matplotlib\")"
   ]
  },
  {
   "cell_type": "code",
   "execution_count": null,
   "metadata": {},
   "outputs": [],
   "source": [
    "import pandas as pd\n",
    "import xarray as xr\n",
    "xf = xr.open_zarr(\"../../data/processed/geolink_norge_dataset/geolink_norge_well_logs.zarr\")\n",
    "xf = xf.where(xf['Well'].str.startswith('30')).dropna(dim='Well', how='all')\n",
    "df = xf.to_dataframe(dim_order=['Well', 'DEPT'])\n",
    "df['LITHOLOGY_GEOLINK'] = df['LITHOLOGY_GEOLINK'].astype('category')\n",
    "df['Well'] = df.index.get_level_values(0).astype('category')\n",
    "df['DEPT'] = df.index.get_level_values(1)\n",
    "feature_cols = ['CALI', 'DTC', 'GR', 'RDEP', 'RHOB',\n",
    "       'RMED', 'xc', 'yc', 'DEPT']\n",
    "df = df.dropna(how='any', subset=feature_cols+['LITHOLOGY_GEOLINK'])\n",
    "df = df.sort_index()\n",
    "df"
   ]
  },
  {
   "cell_type": "code",
   "execution_count": null,
   "metadata": {
    "lines_to_end_of_cell_marker": 2
   },
   "outputs": [],
   "source": [
    "\n",
    "\n",
    "# custom qualitative colormap\n",
    "color_dict = {'Aeolian Sandstone': '#ffffe0',\n",
    " 'Anhydrite': '#ff80ff',\n",
    " 'Argillaceous Limestone': '#1e90ff',\n",
    " 'Arkose': '#eedd82',\n",
    " 'Basement': '#fa8072',\n",
    " 'Biogenic Ooze': '#CCCC00',\n",
    " 'Calcareous Cement': '#00ffff',\n",
    " 'Calcareous Debris Flow': '#40e0d0',\n",
    " 'Calcareous Shale': '#008b8b',\n",
    " 'Carnallite': '#ff00ff',\n",
    " 'Chalk': '#6a5acd',\n",
    " 'Cinerite': '#00ffff',\n",
    " 'Coal': '#000000',\n",
    " 'Conglomerate': '#ffffe0',\n",
    " 'Cross Bedded Sst': '#ffd700',\n",
    " 'Dolomite': '#00ffff',\n",
    " 'Gap': '#ffffff',\n",
    " 'Halite': '#ffc0cb',\n",
    " 'Kaïnite': '#fff0f5',\n",
    " 'Limestone': '#6a5acd',\n",
    " 'Marlstone': '#00bfff',\n",
    " 'Metamorphic Rock': '#008b8b',\n",
    " 'Plutonic Rock': '#ff0000',\n",
    " 'Polyhalite': '#ffb6c1',\n",
    " 'Porous Limestone': '#6a5acd',\n",
    " 'Sandstone': '#ffff00',\n",
    " 'Sandy Silt': '#d2b48c',\n",
    " 'Shale': '#008b8b',\n",
    " 'Shaly Silt': '#CCCC00',\n",
    " 'Silt': '#ffa07a',\n",
    " 'Silty Sand': '#ffffe0',\n",
    " 'Silty Shale': '#006400',\n",
    " 'Spiculite': '#939799',\n",
    " 'Sylvinite': '#ff80ff',\n",
    " 'Volcanic Rock': '#ffa500',\n",
    " 'Volcanic Tuff': '#ff6347',\n",
    "}"
   ]
  },
  {
   "cell_type": "code",
   "execution_count": null,
   "metadata": {},
   "outputs": [],
   "source": [
    "well_name='30_4-1'\n",
    "logs = df.loc[well_name].loc[0:3500]\n",
    "facies=logs['LITHOLOGY_GEOLINK'].astype('category').values\n",
    "cmap = [color_dict.get(n, 'white') for n in facies.categories][1:]\n",
    "facies_image=np.repeat(np.expand_dims(facies.codes,1), 100, 1)"
   ]
  },
  {
   "cell_type": "code",
   "execution_count": null,
   "metadata": {},
   "outputs": [],
   "source": [
    "hv.Image(facies_image, bounds=(0, 0, 100, 100))"
   ]
  },
  {
   "cell_type": "code",
   "execution_count": null,
   "metadata": {},
   "outputs": [],
   "source": []
  },
  {
   "cell_type": "code",
   "execution_count": null,
   "metadata": {
    "lines_to_next_cell": 0
   },
   "outputs": [],
   "source": [
    "from matplotlib import pyplot as plt\n",
    "\n",
    "def plot_well_facies(well_name='30_4-1', depth_start=0, depth_end=6000):\n",
    "    logs=df.loc[well_name]\n",
    "    if depth_start is not None:\n",
    "        logs = logs.loc[depth_start:depth_end]\n",
    "    depth_start=logs['Depth'].min()\n",
    "    depth_end=logs['Depth'].max()\n",
    "    facies=logs['LITHOLOGY_GEOLINK'].astype('category').values\n",
    "    cmap = [color_dict.get(n, 'white') for n in facies.categories][1:]\n",
    "    facies_image=np.repeat(np.expand_dims(facies.codes,1), 500, 1)\n",
    "    formatter = plt.FuncFormatter(lambda val, loc: facies.categories[val])\n",
    "    img = hv.Image(facies_image, bounds=(0, -depth_end, 100, -depth_start)).opts(\n",
    "        title=well_name, \n",
    "        cmap=cmap, \n",
    "        colorbar=True, \n",
    "        cformatter=lambda x:facies.categories[x],\n",
    "        clabel='facies',\n",
    "        xaxis=None)\n",
    "    return img\n",
    "\n",
    "dmap = hv.DynamicMap(plot_well_facies, kdims=[\"well_name\", \"depth_start\", \"depth_end\"])\n",
    "dmap = dmap.redim.range(depth_start=(0, 6000-1), depth_end=(1, 6000))\n",
    "dmap = dmap.redim.values(well_name=list(df.Well.unique()))\n",
    "dmap = dmap.redim.default(well_name=\"30_4-1\", depth_start=0, depth_end=6000)\n",
    "dmap"
   ]
  },
  {
   "cell_type": "code",
   "execution_count": null,
   "metadata": {
    "lines_to_next_cell": 2
   },
   "outputs": [],
   "source": []
  },
  {
   "cell_type": "code",
   "execution_count": null,
   "metadata": {},
   "outputs": [],
   "source": [
    "def cformatter(x):\n",
    "    return facies.categories[x]\n",
    "cformatter = plt.FuncFormatter(lambda val, loc: facies.categories[val])\n",
    "hv.Image(facies_image, bounds=(0, -6000, 600, 60)).opts(title=well_name, \n",
    "                                                cmap=cmap, \n",
    "                                                colorbar=True, \n",
    "                                                xaxis=None,\n",
    "                                                cformatter=cformatter, \n",
    "                                                clabel='test'\n",
    "                                               )"
   ]
  },
  {
   "cell_type": "code",
   "execution_count": null,
   "metadata": {},
   "outputs": [],
   "source": [
    "img = hv.Image(facies_image).opts(cmap=cmap, colorbar=True, cformatter=cformatter)\n",
    "print(img)\n",
    "img"
   ]
  },
  {
   "cell_type": "code",
   "execution_count": null,
   "metadata": {},
   "outputs": [],
   "source": [
    "# hv.help(hv.Image)"
   ]
  },
  {
   "cell_type": "code",
   "execution_count": null,
   "metadata": {},
   "outputs": [],
   "source": [
    "from holoviews.operation.datashader import datashade, shade, dynspread, rasterize\n",
    "fixed_scale_grid = rasterize(img).opts(\n",
    "#     title='Fixed color range', \n",
    "    clim=(-0.5, len(facies.categories)-0.5), \n",
    "    cmap=cmap)\n",
    "fixed_scale_grid"
   ]
  },
  {
   "cell_type": "code",
   "execution_count": null,
   "metadata": {},
   "outputs": [],
   "source": []
  },
  {
   "cell_type": "code",
   "execution_count": null,
   "metadata": {},
   "outputs": [],
   "source": []
  },
  {
   "cell_type": "code",
   "execution_count": null,
   "metadata": {},
   "outputs": [],
   "source": []
  },
  {
   "cell_type": "code",
   "execution_count": null,
   "metadata": {},
   "outputs": [],
   "source": []
  }
 ],
 "metadata": {
  "jupytext": {
   "encoding": "# -*- coding: utf-8 -*-",
   "formats": "ipynb,py"
  },
  "kernelspec": {
   "display_name": "deep_ml_curriculum",
   "language": "python",
   "name": "deep_ml_curriculum"
  }
 },
 "nbformat": 4,
 "nbformat_minor": 4
}
