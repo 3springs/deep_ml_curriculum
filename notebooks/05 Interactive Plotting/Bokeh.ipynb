{
 "cells": [
  {
   "cell_type": "code",
   "execution_count": 1,
   "metadata": {},
   "outputs": [],
   "source": [
    "import pandas as pd\n",
    "import numpy as np\n",
    "from bokeh.io import output_file,show,output_notebook,push_notebook\n",
    "from bokeh.plotting import *\n",
    "from bokeh.models import ColumnDataSource,HoverTool,CategoricalColorMapper\n",
    "from bokeh.layouts import row,column,gridplot,widgetbox\n",
    "from bokeh.models.widgets import Tabs,Panel"
   ]
  },
  {
   "cell_type": "markdown",
   "metadata": {},
   "source": [
    "Bokeh export the plots into html files directly so it can be used in a webpage. But since here we are woring in jupyter notebook, we need Bokeh to return everything within the notebook environment. To do that we use the following command. "
   ]
  },
  {
   "cell_type": "code",
   "execution_count": 2,
   "metadata": {
    "scrolled": true
   },
   "outputs": [
    {
     "data": {
      "text/html": [
       "\n",
       "    <div class=\"bk-root\">\n",
       "        <a href=\"https://bokeh.org\" target=\"_blank\" class=\"bk-logo bk-logo-small bk-logo-notebook\"></a>\n",
       "        <span id=\"1001\">Loading BokehJS ...</span>\n",
       "    </div>"
      ]
     },
     "metadata": {},
     "output_type": "display_data"
    },
    {
     "data": {
      "application/javascript": [
       "\n",
       "(function(root) {\n",
       "  function now() {\n",
       "    return new Date();\n",
       "  }\n",
       "\n",
       "  var force = true;\n",
       "\n",
       "  if (typeof root._bokeh_onload_callbacks === \"undefined\" || force === true) {\n",
       "    root._bokeh_onload_callbacks = [];\n",
       "    root._bokeh_is_loading = undefined;\n",
       "  }\n",
       "\n",
       "  var JS_MIME_TYPE = 'application/javascript';\n",
       "  var HTML_MIME_TYPE = 'text/html';\n",
       "  var EXEC_MIME_TYPE = 'application/vnd.bokehjs_exec.v0+json';\n",
       "  var CLASS_NAME = 'output_bokeh rendered_html';\n",
       "\n",
       "  /**\n",
       "   * Render data to the DOM node\n",
       "   */\n",
       "  function render(props, node) {\n",
       "    var script = document.createElement(\"script\");\n",
       "    node.appendChild(script);\n",
       "  }\n",
       "\n",
       "  /**\n",
       "   * Handle when an output is cleared or removed\n",
       "   */\n",
       "  function handleClearOutput(event, handle) {\n",
       "    var cell = handle.cell;\n",
       "\n",
       "    var id = cell.output_area._bokeh_element_id;\n",
       "    var server_id = cell.output_area._bokeh_server_id;\n",
       "    // Clean up Bokeh references\n",
       "    if (id != null && id in Bokeh.index) {\n",
       "      Bokeh.index[id].model.document.clear();\n",
       "      delete Bokeh.index[id];\n",
       "    }\n",
       "\n",
       "    if (server_id !== undefined) {\n",
       "      // Clean up Bokeh references\n",
       "      var cmd = \"from bokeh.io.state import curstate; print(curstate().uuid_to_server['\" + server_id + \"'].get_sessions()[0].document.roots[0]._id)\";\n",
       "      cell.notebook.kernel.execute(cmd, {\n",
       "        iopub: {\n",
       "          output: function(msg) {\n",
       "            var id = msg.content.text.trim();\n",
       "            if (id in Bokeh.index) {\n",
       "              Bokeh.index[id].model.document.clear();\n",
       "              delete Bokeh.index[id];\n",
       "            }\n",
       "          }\n",
       "        }\n",
       "      });\n",
       "      // Destroy server and session\n",
       "      var cmd = \"import bokeh.io.notebook as ion; ion.destroy_server('\" + server_id + \"')\";\n",
       "      cell.notebook.kernel.execute(cmd);\n",
       "    }\n",
       "  }\n",
       "\n",
       "  /**\n",
       "   * Handle when a new output is added\n",
       "   */\n",
       "  function handleAddOutput(event, handle) {\n",
       "    var output_area = handle.output_area;\n",
       "    var output = handle.output;\n",
       "\n",
       "    // limit handleAddOutput to display_data with EXEC_MIME_TYPE content only\n",
       "    if ((output.output_type != \"display_data\") || (!output.data.hasOwnProperty(EXEC_MIME_TYPE))) {\n",
       "      return\n",
       "    }\n",
       "\n",
       "    var toinsert = output_area.element.find(\".\" + CLASS_NAME.split(' ')[0]);\n",
       "\n",
       "    if (output.metadata[EXEC_MIME_TYPE][\"id\"] !== undefined) {\n",
       "      toinsert[toinsert.length - 1].firstChild.textContent = output.data[JS_MIME_TYPE];\n",
       "      // store reference to embed id on output_area\n",
       "      output_area._bokeh_element_id = output.metadata[EXEC_MIME_TYPE][\"id\"];\n",
       "    }\n",
       "    if (output.metadata[EXEC_MIME_TYPE][\"server_id\"] !== undefined) {\n",
       "      var bk_div = document.createElement(\"div\");\n",
       "      bk_div.innerHTML = output.data[HTML_MIME_TYPE];\n",
       "      var script_attrs = bk_div.children[0].attributes;\n",
       "      for (var i = 0; i < script_attrs.length; i++) {\n",
       "        toinsert[toinsert.length - 1].firstChild.setAttribute(script_attrs[i].name, script_attrs[i].value);\n",
       "        toinsert[toinsert.length - 1].firstChild.textContent = bk_div.children[0].textContent\n",
       "      }\n",
       "      // store reference to server id on output_area\n",
       "      output_area._bokeh_server_id = output.metadata[EXEC_MIME_TYPE][\"server_id\"];\n",
       "    }\n",
       "  }\n",
       "\n",
       "  function register_renderer(events, OutputArea) {\n",
       "\n",
       "    function append_mime(data, metadata, element) {\n",
       "      // create a DOM node to render to\n",
       "      var toinsert = this.create_output_subarea(\n",
       "        metadata,\n",
       "        CLASS_NAME,\n",
       "        EXEC_MIME_TYPE\n",
       "      );\n",
       "      this.keyboard_manager.register_events(toinsert);\n",
       "      // Render to node\n",
       "      var props = {data: data, metadata: metadata[EXEC_MIME_TYPE]};\n",
       "      render(props, toinsert[toinsert.length - 1]);\n",
       "      element.append(toinsert);\n",
       "      return toinsert\n",
       "    }\n",
       "\n",
       "    /* Handle when an output is cleared or removed */\n",
       "    events.on('clear_output.CodeCell', handleClearOutput);\n",
       "    events.on('delete.Cell', handleClearOutput);\n",
       "\n",
       "    /* Handle when a new output is added */\n",
       "    events.on('output_added.OutputArea', handleAddOutput);\n",
       "\n",
       "    /**\n",
       "     * Register the mime type and append_mime function with output_area\n",
       "     */\n",
       "    OutputArea.prototype.register_mime_type(EXEC_MIME_TYPE, append_mime, {\n",
       "      /* Is output safe? */\n",
       "      safe: true,\n",
       "      /* Index of renderer in `output_area.display_order` */\n",
       "      index: 0\n",
       "    });\n",
       "  }\n",
       "\n",
       "  // register the mime type if in Jupyter Notebook environment and previously unregistered\n",
       "  if (root.Jupyter !== undefined) {\n",
       "    var events = require('base/js/events');\n",
       "    var OutputArea = require('notebook/js/outputarea').OutputArea;\n",
       "\n",
       "    if (OutputArea.prototype.mime_types().indexOf(EXEC_MIME_TYPE) == -1) {\n",
       "      register_renderer(events, OutputArea);\n",
       "    }\n",
       "  }\n",
       "\n",
       "  \n",
       "  if (typeof (root._bokeh_timeout) === \"undefined\" || force === true) {\n",
       "    root._bokeh_timeout = Date.now() + 5000;\n",
       "    root._bokeh_failed_load = false;\n",
       "  }\n",
       "\n",
       "  var NB_LOAD_WARNING = {'data': {'text/html':\n",
       "     \"<div style='background-color: #fdd'>\\n\"+\n",
       "     \"<p>\\n\"+\n",
       "     \"BokehJS does not appear to have successfully loaded. If loading BokehJS from CDN, this \\n\"+\n",
       "     \"may be due to a slow or bad network connection. Possible fixes:\\n\"+\n",
       "     \"</p>\\n\"+\n",
       "     \"<ul>\\n\"+\n",
       "     \"<li>re-rerun `output_notebook()` to attempt to load from CDN again, or</li>\\n\"+\n",
       "     \"<li>use INLINE resources instead, as so:</li>\\n\"+\n",
       "     \"</ul>\\n\"+\n",
       "     \"<code>\\n\"+\n",
       "     \"from bokeh.resources import INLINE\\n\"+\n",
       "     \"output_notebook(resources=INLINE)\\n\"+\n",
       "     \"</code>\\n\"+\n",
       "     \"</div>\"}};\n",
       "\n",
       "  function display_loaded() {\n",
       "    var el = document.getElementById(\"1001\");\n",
       "    if (el != null) {\n",
       "      el.textContent = \"BokehJS is loading...\";\n",
       "    }\n",
       "    if (root.Bokeh !== undefined) {\n",
       "      if (el != null) {\n",
       "        el.textContent = \"BokehJS \" + root.Bokeh.version + \" successfully loaded.\";\n",
       "      }\n",
       "    } else if (Date.now() < root._bokeh_timeout) {\n",
       "      setTimeout(display_loaded, 100)\n",
       "    }\n",
       "  }\n",
       "\n",
       "\n",
       "  function run_callbacks() {\n",
       "    try {\n",
       "      root._bokeh_onload_callbacks.forEach(function(callback) {\n",
       "        if (callback != null)\n",
       "          callback();\n",
       "      });\n",
       "    } finally {\n",
       "      delete root._bokeh_onload_callbacks\n",
       "    }\n",
       "    console.debug(\"Bokeh: all callbacks have finished\");\n",
       "  }\n",
       "\n",
       "  function load_libs(css_urls, js_urls, callback) {\n",
       "    if (css_urls == null) css_urls = [];\n",
       "    if (js_urls == null) js_urls = [];\n",
       "\n",
       "    root._bokeh_onload_callbacks.push(callback);\n",
       "    if (root._bokeh_is_loading > 0) {\n",
       "      console.debug(\"Bokeh: BokehJS is being loaded, scheduling callback at\", now());\n",
       "      return null;\n",
       "    }\n",
       "    if (js_urls == null || js_urls.length === 0) {\n",
       "      run_callbacks();\n",
       "      return null;\n",
       "    }\n",
       "    console.debug(\"Bokeh: BokehJS not loaded, scheduling load and callback at\", now());\n",
       "    root._bokeh_is_loading = css_urls.length + js_urls.length;\n",
       "\n",
       "    function on_load() {\n",
       "      root._bokeh_is_loading--;\n",
       "      if (root._bokeh_is_loading === 0) {\n",
       "        console.debug(\"Bokeh: all BokehJS libraries/stylesheets loaded\");\n",
       "        run_callbacks()\n",
       "      }\n",
       "    }\n",
       "\n",
       "    function on_error() {\n",
       "      console.error(\"failed to load \" + url);\n",
       "    }\n",
       "\n",
       "    for (var i = 0; i < css_urls.length; i++) {\n",
       "      var url = css_urls[i];\n",
       "      const element = document.createElement(\"link\");\n",
       "      element.onload = on_load;\n",
       "      element.onerror = on_error;\n",
       "      element.rel = \"stylesheet\";\n",
       "      element.type = \"text/css\";\n",
       "      element.href = url;\n",
       "      console.debug(\"Bokeh: injecting link tag for BokehJS stylesheet: \", url);\n",
       "      document.body.appendChild(element);\n",
       "    }\n",
       "\n",
       "    const hashes = {\"https://cdn.bokeh.org/bokeh/release/bokeh-2.1.1.min.js\": \"kLr4fYcqcSpbuI95brIH3vnnYCquzzSxHPU6XGQCIkQRGJwhg0StNbj1eegrHs12\", \"https://cdn.bokeh.org/bokeh/release/bokeh-widgets-2.1.1.min.js\": \"xIGPmVtaOm+z0BqfSOMn4lOR6ciex448GIKG4eE61LsAvmGj48XcMQZtKcE/UXZe\", \"https://cdn.bokeh.org/bokeh/release/bokeh-tables-2.1.1.min.js\": \"Dc9u1wF/0zApGIWoBbH77iWEHtdmkuYWG839Uzmv8y8yBLXebjO9ZnERsde5Ln/P\", \"https://cdn.bokeh.org/bokeh/release/bokeh-gl-2.1.1.min.js\": \"cT9JaBz7GiRXdENrJLZNSC6eMNF3nh3fa5fTF51Svp+ukxPdwcU5kGXGPBgDCa2j\"};\n",
       "\n",
       "    for (var i = 0; i < js_urls.length; i++) {\n",
       "      var url = js_urls[i];\n",
       "      var element = document.createElement('script');\n",
       "      element.onload = on_load;\n",
       "      element.onerror = on_error;\n",
       "      element.async = false;\n",
       "      element.src = url;\n",
       "      if (url in hashes) {\n",
       "        element.crossOrigin = \"anonymous\";\n",
       "        element.integrity = \"sha384-\" + hashes[url];\n",
       "      }\n",
       "      console.debug(\"Bokeh: injecting script tag for BokehJS library: \", url);\n",
       "      document.head.appendChild(element);\n",
       "    }\n",
       "  };\n",
       "\n",
       "  function inject_raw_css(css) {\n",
       "    const element = document.createElement(\"style\");\n",
       "    element.appendChild(document.createTextNode(css));\n",
       "    document.body.appendChild(element);\n",
       "  }\n",
       "\n",
       "  \n",
       "  var js_urls = [\"https://cdn.bokeh.org/bokeh/release/bokeh-2.1.1.min.js\", \"https://cdn.bokeh.org/bokeh/release/bokeh-widgets-2.1.1.min.js\", \"https://cdn.bokeh.org/bokeh/release/bokeh-tables-2.1.1.min.js\", \"https://cdn.bokeh.org/bokeh/release/bokeh-gl-2.1.1.min.js\"];\n",
       "  var css_urls = [];\n",
       "  \n",
       "\n",
       "  var inline_js = [\n",
       "    function(Bokeh) {\n",
       "      Bokeh.set_log_level(\"info\");\n",
       "    },\n",
       "    function(Bokeh) {\n",
       "    \n",
       "    \n",
       "    }\n",
       "  ];\n",
       "\n",
       "  function run_inline_js() {\n",
       "    \n",
       "    if (root.Bokeh !== undefined || force === true) {\n",
       "      \n",
       "    for (var i = 0; i < inline_js.length; i++) {\n",
       "      inline_js[i].call(root, root.Bokeh);\n",
       "    }\n",
       "    if (force === true) {\n",
       "        display_loaded();\n",
       "      }} else if (Date.now() < root._bokeh_timeout) {\n",
       "      setTimeout(run_inline_js, 100);\n",
       "    } else if (!root._bokeh_failed_load) {\n",
       "      console.log(\"Bokeh: BokehJS failed to load within specified timeout.\");\n",
       "      root._bokeh_failed_load = true;\n",
       "    } else if (force !== true) {\n",
       "      var cell = $(document.getElementById(\"1001\")).parents('.cell').data().cell;\n",
       "      cell.output_area.append_execute_result(NB_LOAD_WARNING)\n",
       "    }\n",
       "\n",
       "  }\n",
       "\n",
       "  if (root._bokeh_is_loading === 0) {\n",
       "    console.debug(\"Bokeh: BokehJS loaded, going straight to plotting\");\n",
       "    run_inline_js();\n",
       "  } else {\n",
       "    load_libs(css_urls, js_urls, function() {\n",
       "      console.debug(\"Bokeh: BokehJS plotting callback run at\", now());\n",
       "      run_inline_js();\n",
       "    });\n",
       "  }\n",
       "}(window));"
      ],
      "application/vnd.bokehjs_load.v0+json": "\n(function(root) {\n  function now() {\n    return new Date();\n  }\n\n  var force = true;\n\n  if (typeof root._bokeh_onload_callbacks === \"undefined\" || force === true) {\n    root._bokeh_onload_callbacks = [];\n    root._bokeh_is_loading = undefined;\n  }\n\n  \n\n  \n  if (typeof (root._bokeh_timeout) === \"undefined\" || force === true) {\n    root._bokeh_timeout = Date.now() + 5000;\n    root._bokeh_failed_load = false;\n  }\n\n  var NB_LOAD_WARNING = {'data': {'text/html':\n     \"<div style='background-color: #fdd'>\\n\"+\n     \"<p>\\n\"+\n     \"BokehJS does not appear to have successfully loaded. If loading BokehJS from CDN, this \\n\"+\n     \"may be due to a slow or bad network connection. Possible fixes:\\n\"+\n     \"</p>\\n\"+\n     \"<ul>\\n\"+\n     \"<li>re-rerun `output_notebook()` to attempt to load from CDN again, or</li>\\n\"+\n     \"<li>use INLINE resources instead, as so:</li>\\n\"+\n     \"</ul>\\n\"+\n     \"<code>\\n\"+\n     \"from bokeh.resources import INLINE\\n\"+\n     \"output_notebook(resources=INLINE)\\n\"+\n     \"</code>\\n\"+\n     \"</div>\"}};\n\n  function display_loaded() {\n    var el = document.getElementById(\"1001\");\n    if (el != null) {\n      el.textContent = \"BokehJS is loading...\";\n    }\n    if (root.Bokeh !== undefined) {\n      if (el != null) {\n        el.textContent = \"BokehJS \" + root.Bokeh.version + \" successfully loaded.\";\n      }\n    } else if (Date.now() < root._bokeh_timeout) {\n      setTimeout(display_loaded, 100)\n    }\n  }\n\n\n  function run_callbacks() {\n    try {\n      root._bokeh_onload_callbacks.forEach(function(callback) {\n        if (callback != null)\n          callback();\n      });\n    } finally {\n      delete root._bokeh_onload_callbacks\n    }\n    console.debug(\"Bokeh: all callbacks have finished\");\n  }\n\n  function load_libs(css_urls, js_urls, callback) {\n    if (css_urls == null) css_urls = [];\n    if (js_urls == null) js_urls = [];\n\n    root._bokeh_onload_callbacks.push(callback);\n    if (root._bokeh_is_loading > 0) {\n      console.debug(\"Bokeh: BokehJS is being loaded, scheduling callback at\", now());\n      return null;\n    }\n    if (js_urls == null || js_urls.length === 0) {\n      run_callbacks();\n      return null;\n    }\n    console.debug(\"Bokeh: BokehJS not loaded, scheduling load and callback at\", now());\n    root._bokeh_is_loading = css_urls.length + js_urls.length;\n\n    function on_load() {\n      root._bokeh_is_loading--;\n      if (root._bokeh_is_loading === 0) {\n        console.debug(\"Bokeh: all BokehJS libraries/stylesheets loaded\");\n        run_callbacks()\n      }\n    }\n\n    function on_error() {\n      console.error(\"failed to load \" + url);\n    }\n\n    for (var i = 0; i < css_urls.length; i++) {\n      var url = css_urls[i];\n      const element = document.createElement(\"link\");\n      element.onload = on_load;\n      element.onerror = on_error;\n      element.rel = \"stylesheet\";\n      element.type = \"text/css\";\n      element.href = url;\n      console.debug(\"Bokeh: injecting link tag for BokehJS stylesheet: \", url);\n      document.body.appendChild(element);\n    }\n\n    const hashes = {\"https://cdn.bokeh.org/bokeh/release/bokeh-2.1.1.min.js\": \"kLr4fYcqcSpbuI95brIH3vnnYCquzzSxHPU6XGQCIkQRGJwhg0StNbj1eegrHs12\", \"https://cdn.bokeh.org/bokeh/release/bokeh-widgets-2.1.1.min.js\": \"xIGPmVtaOm+z0BqfSOMn4lOR6ciex448GIKG4eE61LsAvmGj48XcMQZtKcE/UXZe\", \"https://cdn.bokeh.org/bokeh/release/bokeh-tables-2.1.1.min.js\": \"Dc9u1wF/0zApGIWoBbH77iWEHtdmkuYWG839Uzmv8y8yBLXebjO9ZnERsde5Ln/P\", \"https://cdn.bokeh.org/bokeh/release/bokeh-gl-2.1.1.min.js\": \"cT9JaBz7GiRXdENrJLZNSC6eMNF3nh3fa5fTF51Svp+ukxPdwcU5kGXGPBgDCa2j\"};\n\n    for (var i = 0; i < js_urls.length; i++) {\n      var url = js_urls[i];\n      var element = document.createElement('script');\n      element.onload = on_load;\n      element.onerror = on_error;\n      element.async = false;\n      element.src = url;\n      if (url in hashes) {\n        element.crossOrigin = \"anonymous\";\n        element.integrity = \"sha384-\" + hashes[url];\n      }\n      console.debug(\"Bokeh: injecting script tag for BokehJS library: \", url);\n      document.head.appendChild(element);\n    }\n  };\n\n  function inject_raw_css(css) {\n    const element = document.createElement(\"style\");\n    element.appendChild(document.createTextNode(css));\n    document.body.appendChild(element);\n  }\n\n  \n  var js_urls = [\"https://cdn.bokeh.org/bokeh/release/bokeh-2.1.1.min.js\", \"https://cdn.bokeh.org/bokeh/release/bokeh-widgets-2.1.1.min.js\", \"https://cdn.bokeh.org/bokeh/release/bokeh-tables-2.1.1.min.js\", \"https://cdn.bokeh.org/bokeh/release/bokeh-gl-2.1.1.min.js\"];\n  var css_urls = [];\n  \n\n  var inline_js = [\n    function(Bokeh) {\n      Bokeh.set_log_level(\"info\");\n    },\n    function(Bokeh) {\n    \n    \n    }\n  ];\n\n  function run_inline_js() {\n    \n    if (root.Bokeh !== undefined || force === true) {\n      \n    for (var i = 0; i < inline_js.length; i++) {\n      inline_js[i].call(root, root.Bokeh);\n    }\n    if (force === true) {\n        display_loaded();\n      }} else if (Date.now() < root._bokeh_timeout) {\n      setTimeout(run_inline_js, 100);\n    } else if (!root._bokeh_failed_load) {\n      console.log(\"Bokeh: BokehJS failed to load within specified timeout.\");\n      root._bokeh_failed_load = true;\n    } else if (force !== true) {\n      var cell = $(document.getElementById(\"1001\")).parents('.cell').data().cell;\n      cell.output_area.append_execute_result(NB_LOAD_WARNING)\n    }\n\n  }\n\n  if (root._bokeh_is_loading === 0) {\n    console.debug(\"Bokeh: BokehJS loaded, going straight to plotting\");\n    run_inline_js();\n  } else {\n    load_libs(css_urls, js_urls, function() {\n      console.debug(\"Bokeh: BokehJS plotting callback run at\", now());\n      run_inline_js();\n    });\n  }\n}(window));"
     },
     "metadata": {},
     "output_type": "display_data"
    }
   ],
   "source": [
    "output_notebook()"
   ]
  },
  {
   "cell_type": "markdown",
   "metadata": {},
   "source": [
    "# Basic Plotting\n"
   ]
  },
  {
   "cell_type": "code",
   "execution_count": 3,
   "metadata": {},
   "outputs": [],
   "source": [
    "import numpy as np \n",
    "from bokeh.io import output_notebook, show\n",
    "from bokeh.plotting import figure"
   ]
  },
  {
   "cell_type": "markdown",
   "metadata": {},
   "source": [
    "## Scatter Plots\n",
    "Similar to other plotting libraries bokeh is capable of creating multiple types of plots (called _glyphs_ in bokeh). <br>\n",
    "First step is to create an empty figure where we can add the plots to later."
   ]
  },
  {
   "cell_type": "code",
   "execution_count": 5,
   "metadata": {},
   "outputs": [],
   "source": [
    "p = figure(plot_width=600, plot_height=400)"
   ]
  },
  {
   "cell_type": "markdown",
   "metadata": {},
   "source": [
    "Then we specify the type of plot and add in the data. <br>\n",
    "_We are going to generate some random data here._"
   ]
  },
  {
   "cell_type": "code",
   "execution_count": 6,
   "metadata": {},
   "outputs": [
    {
     "data": {
      "text/html": [
       "<div style=\"display: table;\"><div style=\"display: table-row;\"><div style=\"display: table-cell;\"><b title=\"bokeh.models.renderers.GlyphRenderer\">GlyphRenderer</b>(</div><div style=\"display: table-cell;\">id&nbsp;=&nbsp;'1036', <span id=\"1039\" style=\"cursor: pointer;\">&hellip;)</span></div></div><div class=\"1038\" style=\"display: none;\"><div style=\"display: table-cell;\"></div><div style=\"display: table-cell;\">data_source&nbsp;=&nbsp;ColumnDataSource(id='1033', ...),</div></div><div class=\"1038\" style=\"display: none;\"><div style=\"display: table-cell;\"></div><div style=\"display: table-cell;\">glyph&nbsp;=&nbsp;Circle(id='1034', ...),</div></div><div class=\"1038\" style=\"display: none;\"><div style=\"display: table-cell;\"></div><div style=\"display: table-cell;\">hover_glyph&nbsp;=&nbsp;None,</div></div><div class=\"1038\" style=\"display: none;\"><div style=\"display: table-cell;\"></div><div style=\"display: table-cell;\">js_event_callbacks&nbsp;=&nbsp;{},</div></div><div class=\"1038\" style=\"display: none;\"><div style=\"display: table-cell;\"></div><div style=\"display: table-cell;\">js_property_callbacks&nbsp;=&nbsp;{},</div></div><div class=\"1038\" style=\"display: none;\"><div style=\"display: table-cell;\"></div><div style=\"display: table-cell;\">level&nbsp;=&nbsp;'glyph',</div></div><div class=\"1038\" style=\"display: none;\"><div style=\"display: table-cell;\"></div><div style=\"display: table-cell;\">muted&nbsp;=&nbsp;False,</div></div><div class=\"1038\" style=\"display: none;\"><div style=\"display: table-cell;\"></div><div style=\"display: table-cell;\">muted_glyph&nbsp;=&nbsp;None,</div></div><div class=\"1038\" style=\"display: none;\"><div style=\"display: table-cell;\"></div><div style=\"display: table-cell;\">name&nbsp;=&nbsp;None,</div></div><div class=\"1038\" style=\"display: none;\"><div style=\"display: table-cell;\"></div><div style=\"display: table-cell;\">nonselection_glyph&nbsp;=&nbsp;Circle(id='1035', ...),</div></div><div class=\"1038\" style=\"display: none;\"><div style=\"display: table-cell;\"></div><div style=\"display: table-cell;\">selection_glyph&nbsp;=&nbsp;None,</div></div><div class=\"1038\" style=\"display: none;\"><div style=\"display: table-cell;\"></div><div style=\"display: table-cell;\">subscribed_events&nbsp;=&nbsp;[],</div></div><div class=\"1038\" style=\"display: none;\"><div style=\"display: table-cell;\"></div><div style=\"display: table-cell;\">tags&nbsp;=&nbsp;[],</div></div><div class=\"1038\" style=\"display: none;\"><div style=\"display: table-cell;\"></div><div style=\"display: table-cell;\">view&nbsp;=&nbsp;CDSView(id='1037', ...),</div></div><div class=\"1038\" style=\"display: none;\"><div style=\"display: table-cell;\"></div><div style=\"display: table-cell;\">visible&nbsp;=&nbsp;True,</div></div><div class=\"1038\" style=\"display: none;\"><div style=\"display: table-cell;\"></div><div style=\"display: table-cell;\">x_range_name&nbsp;=&nbsp;'default',</div></div><div class=\"1038\" style=\"display: none;\"><div style=\"display: table-cell;\"></div><div style=\"display: table-cell;\">y_range_name&nbsp;=&nbsp;'default')</div></div></div>\n",
       "<script>\n",
       "(function() {\n",
       "  var expanded = false;\n",
       "  var ellipsis = document.getElementById(\"1039\");\n",
       "  ellipsis.addEventListener(\"click\", function() {\n",
       "    var rows = document.getElementsByClassName(\"1038\");\n",
       "    for (var i = 0; i < rows.length; i++) {\n",
       "      var el = rows[i];\n",
       "      el.style.display = expanded ? \"none\" : \"table-row\";\n",
       "    }\n",
       "    ellipsis.innerHTML = expanded ? \"&hellip;)\" : \"&lsaquo;&lsaquo;&lsaquo;\";\n",
       "    expanded = !expanded;\n",
       "  });\n",
       "})();\n",
       "</script>\n"
      ],
      "text/plain": [
       "GlyphRenderer(id='1036', ...)"
      ]
     },
     "execution_count": 6,
     "metadata": {},
     "output_type": "execute_result"
    }
   ],
   "source": [
    "np.random.seed(1)\n",
    "x = np.random.randn(100)\n",
    "y = np.random.randn(100)\n",
    "p.circle(x,y)"
   ]
  },
  {
   "cell_type": "markdown",
   "metadata": {},
   "source": [
    "Now the plot is generated and we only need to display it. To see the plot we can use `show`:"
   ]
  },
  {
   "cell_type": "code",
   "execution_count": 7,
   "metadata": {},
   "outputs": [
    {
     "data": {
      "text/html": [
       "\n",
       "\n",
       "\n",
       "\n",
       "\n",
       "\n",
       "  <div class=\"bk-root\" id=\"f47e5064-a94c-4383-a182-092c1800d857\" data-root-id=\"1002\"></div>\n"
      ]
     },
     "metadata": {},
     "output_type": "display_data"
    },
    {
     "data": {
      "application/javascript": [
       "(function(root) {\n",
       "  function embed_document(root) {\n",
       "    \n",
       "  var docs_json = {\"2225cb32-a6aa-4924-b0cf-65293f1ac600\":{\"roots\":{\"references\":[{\"attributes\":{\"below\":[{\"id\":\"1011\"}],\"center\":[{\"id\":\"1014\"},{\"id\":\"1018\"}],\"left\":[{\"id\":\"1015\"}],\"plot_height\":400,\"renderers\":[{\"id\":\"1036\"}],\"title\":{\"id\":\"1040\"},\"toolbar\":{\"id\":\"1026\"},\"x_range\":{\"id\":\"1003\"},\"x_scale\":{\"id\":\"1007\"},\"y_range\":{\"id\":\"1005\"},\"y_scale\":{\"id\":\"1009\"}},\"id\":\"1002\",\"subtype\":\"Figure\",\"type\":\"Plot\"},{\"attributes\":{\"data\":{\"x\":{\"__ndarray__\":\"UHxlkFH9+T+t2bcvgpPjv9KPVHLI5uC/DLhcJeEq8b99ETVXa7HrP1mizB6NaQLABcaPvb/q+z/2rxqTzlvovyR77fQia9Q/xiOiU17rz792SM1Ky2T3P/SaYw0rewDANvi5xHui1L+U+0u3WJTYv8uOQG3rI/I/7FDklSeZ8b+IIyukIBLGv+6yb4lqF+y/DJIrSwqdpT+iqVAXbKbiP8att9oinPG/kngLz8lQ8j8WV2rI1NnsP/tGAAJvFOA/B+0P28/T7D9DklA/GeHlv8LEmdu7db+/5KaXvdLx7b/M2D4LFCXRv4CmHAes+OA/hsiSuhUi5r830prnaGTZv1v3NppR/eW/5TaUs+wL679zV3Aq2Xrlv3qcY7Hl74m/HO/t0IDg8b8Yj+VlVQHOP49DSLqMjvo/+sE7ZdO+5z+yNs0/EY7Iv2BBd9t0Z+y/UAqTgrjo57/5D5ZGSxT7P/PeSlp5A6o/QLa2sURi5L9NL3kp62/IPw52o5BSzQBAY+86s7zCvj8J2mW8IMDjPy0r3JL9NdM/1Hut8EKL1r9pcHkpwUfyv3f49pOhW9a/AXZV1gu9yr95fKb/ncXiPx5Hj77z2Oo/RPaNl5bL7T9CoIcPEEfSP0RbHJATU+w/9gKYJgck6L9E1I56vwv0PwDVeszraeA/lAl8+PMT07+0Y7id4UPfPwqa7fOqWLO/Bb6kaicb8j9cGydwK1H4P8EDcPUOfAFAgHyeigxY9r/oWuATFxv3v6u16ZeVJOC/3Iq2PRh8xD/A575nkwnsP/4m+OtcM9Q/DCq/1HctAMAYJAm32JjTvwtLfa3Efuo/MJevib5zzT9VDFRFZWLoPyT3vqI/dcy/pzE7vnCyyb91135gPuHHP4WLm0NJPto/Dw5gnuJhyT8uLa/BWXe+Pwa0SMEQduW/+b6ZTAEq2D85id3GrS+/P4Vw3bddEvI/HETMg8Qu8z/MeN6aNLPHP6Za1CqrBNi/okBfwHpw5L+fvi8QiBrbP047OgiPzLM/fvrL2LIB1r/sep/EU1KmP9j8hwIM1+O/NdG8RkdW5j8=\",\"dtype\":\"float64\",\"order\":\"little\",\"shape\":[100]},\"y\":{\"__ndarray__\":\"+T+3IMGd3L8qbx1klZfzP3LabJvO0tk/YCgdY5j+4j9SX5dIwoTxv21/QNVSrsU/QJxJcaOy5z9gGd4ft4Tuv8oIOFi5CdG/aPvXltqyoD/ffgDeSfj1vyVUdkySK9Q/3EaRfr8T6z8ecwiTJ4Hrv2/ThmZYb9Y/xZHl4xz/9L9seZnV5c+jv3u00xw02vm/bHDgsVPx8T/UWXApbSvaP9Z3p/EvNZm/M0VuvR/O6L9a4/HlTWH0P3JBD68/ef8/LMIFMUu6/b8klTTvU8fzP2JZIYTbCvo/efucz/uh1T9MSSCtMzDzv6wzAFyGoOs/INZNfmUox7/7DjhaUVPjv7DkjXBRrvO/AxGOzwCe4T8SXyWBrF7pP7bSgLf28+O/tabZtI+o4D/dP77qOE/yvytgenfYqOk/Ee2WP6vXpz+z0mGuhOHHv4YCBHsEDLq/wjGJV+rN6z8LQXhFXwPoP9i/jkNh8eA/s3nHeDGgwT/hqVLfFeyzP4HROGfFyeM/vdYVuGHCzT/OS0oMdtflP+7eDAb02NO/VT+/OIx6A8AxQ7SLBp/wPy8tZi/vfgFAkqKvplA/3D9r03n7xaO5v6lNX3gFd8G/rtTx0lV6vr9iOCqdxdORP2R6F+nJ8/G/Lro2rQmM4L+gwj/OpOfvv7lit6Km2M8/sCgFLCv80r9iB0bWirHfPzwLzVKsXMa/lMLSzw6Q7z+AWGkxFFXLP6E/WpSNhgFAhqwTjX5X/r+eU2mgirPkv9PsrAn72Ow/3vQC1AI6BEAg03evQ9PPv73RGUPIW6Y/Y4Mbd933zL/bcSn5pU31PzDXYIVAY9K/obco0yHD5T+CnB4goXfUv/pRwJFmXPS/9gxIdSoR1D8GjrEJFxrgP58RfZ8NsfQ/UR9nnkFGvL/q8C0WbsHjv/USLo8jAuI/XS8MGXnQzj9Tv9enavbRPxpGhJ+Dt7K/A5ImLb+Q8j93aTzHxKXXP53b5Wh7ef4/BhuFY+PG8T+o8hWZ7xblP9tAE8n8Cfq/6NZTFTNG4z/RUPBT5+XaPwx9KuxQ8+k/p1X16Qi28D8=\",\"dtype\":\"float64\",\"order\":\"little\",\"shape\":[100]}},\"selected\":{\"id\":\"1048\"},\"selection_policy\":{\"id\":\"1047\"}},\"id\":\"1033\",\"type\":\"ColumnDataSource\"},{\"attributes\":{\"bottom_units\":\"screen\",\"fill_alpha\":0.5,\"fill_color\":\"lightgrey\",\"left_units\":\"screen\",\"level\":\"overlay\",\"line_alpha\":1.0,\"line_color\":\"black\",\"line_dash\":[4,4],\"line_width\":2,\"right_units\":\"screen\",\"top_units\":\"screen\"},\"id\":\"1025\",\"type\":\"BoxAnnotation\"},{\"attributes\":{\"source\":{\"id\":\"1033\"}},\"id\":\"1037\",\"type\":\"CDSView\"},{\"attributes\":{\"fill_alpha\":{\"value\":0.1},\"fill_color\":{\"value\":\"#1f77b4\"},\"line_alpha\":{\"value\":0.1},\"line_color\":{\"value\":\"#1f77b4\"},\"x\":{\"field\":\"x\"},\"y\":{\"field\":\"y\"}},\"id\":\"1035\",\"type\":\"Circle\"},{\"attributes\":{},\"id\":\"1019\",\"type\":\"PanTool\"},{\"attributes\":{\"data_source\":{\"id\":\"1033\"},\"glyph\":{\"id\":\"1034\"},\"hover_glyph\":null,\"muted_glyph\":null,\"nonselection_glyph\":{\"id\":\"1035\"},\"selection_glyph\":null,\"view\":{\"id\":\"1037\"}},\"id\":\"1036\",\"type\":\"GlyphRenderer\"},{\"attributes\":{},\"id\":\"1003\",\"type\":\"DataRange1d\"},{\"attributes\":{},\"id\":\"1020\",\"type\":\"WheelZoomTool\"},{\"attributes\":{\"overlay\":{\"id\":\"1025\"}},\"id\":\"1021\",\"type\":\"BoxZoomTool\"},{\"attributes\":{},\"id\":\"1048\",\"type\":\"Selection\"},{\"attributes\":{},\"id\":\"1005\",\"type\":\"DataRange1d\"},{\"attributes\":{},\"id\":\"1022\",\"type\":\"SaveTool\"},{\"attributes\":{},\"id\":\"1007\",\"type\":\"LinearScale\"},{\"attributes\":{},\"id\":\"1044\",\"type\":\"BasicTickFormatter\"},{\"attributes\":{},\"id\":\"1023\",\"type\":\"ResetTool\"},{\"attributes\":{},\"id\":\"1047\",\"type\":\"UnionRenderers\"},{\"attributes\":{\"fill_color\":{\"value\":\"#1f77b4\"},\"line_color\":{\"value\":\"#1f77b4\"},\"x\":{\"field\":\"x\"},\"y\":{\"field\":\"y\"}},\"id\":\"1034\",\"type\":\"Circle\"},{\"attributes\":{},\"id\":\"1009\",\"type\":\"LinearScale\"},{\"attributes\":{},\"id\":\"1024\",\"type\":\"HelpTool\"},{\"attributes\":{\"active_drag\":\"auto\",\"active_inspect\":\"auto\",\"active_multi\":null,\"active_scroll\":\"auto\",\"active_tap\":\"auto\",\"tools\":[{\"id\":\"1019\"},{\"id\":\"1020\"},{\"id\":\"1021\"},{\"id\":\"1022\"},{\"id\":\"1023\"},{\"id\":\"1024\"}]},\"id\":\"1026\",\"type\":\"Toolbar\"},{\"attributes\":{\"formatter\":{\"id\":\"1044\"},\"ticker\":{\"id\":\"1012\"}},\"id\":\"1011\",\"type\":\"LinearAxis\"},{\"attributes\":{\"text\":\"\"},\"id\":\"1040\",\"type\":\"Title\"},{\"attributes\":{},\"id\":\"1016\",\"type\":\"BasicTicker\"},{\"attributes\":{},\"id\":\"1012\",\"type\":\"BasicTicker\"},{\"attributes\":{\"axis\":{\"id\":\"1011\"},\"ticker\":null},\"id\":\"1014\",\"type\":\"Grid\"},{\"attributes\":{},\"id\":\"1042\",\"type\":\"BasicTickFormatter\"},{\"attributes\":{\"axis\":{\"id\":\"1015\"},\"dimension\":1,\"ticker\":null},\"id\":\"1018\",\"type\":\"Grid\"},{\"attributes\":{\"formatter\":{\"id\":\"1042\"},\"ticker\":{\"id\":\"1016\"}},\"id\":\"1015\",\"type\":\"LinearAxis\"}],\"root_ids\":[\"1002\"]},\"title\":\"Bokeh Application\",\"version\":\"2.1.1\"}};\n",
       "  var render_items = [{\"docid\":\"2225cb32-a6aa-4924-b0cf-65293f1ac600\",\"root_ids\":[\"1002\"],\"roots\":{\"1002\":\"f47e5064-a94c-4383-a182-092c1800d857\"}}];\n",
       "  root.Bokeh.embed.embed_items_notebook(docs_json, render_items);\n",
       "\n",
       "  }\n",
       "  if (root.Bokeh !== undefined) {\n",
       "    embed_document(root);\n",
       "  } else {\n",
       "    var attempts = 0;\n",
       "    var timer = setInterval(function(root) {\n",
       "      if (root.Bokeh !== undefined) {\n",
       "        clearInterval(timer);\n",
       "        embed_document(root);\n",
       "      } else {\n",
       "        attempts++;\n",
       "        if (attempts > 100) {\n",
       "          clearInterval(timer);\n",
       "          console.log(\"Bokeh: ERROR: Unable to run BokehJS code because BokehJS library is missing\");\n",
       "        }\n",
       "      }\n",
       "    }, 10, root)\n",
       "  }\n",
       "})(window);"
      ],
      "application/vnd.bokehjs_exec.v0+json": ""
     },
     "metadata": {
      "application/vnd.bokehjs_exec.v0+json": {
       "id": "1002"
      }
     },
     "output_type": "display_data"
    }
   ],
   "source": [
    "show(p)"
   ]
  },
  {
   "cell_type": "markdown",
   "metadata": {},
   "source": [
    "__Note:__ this plot is interactive. You can zoom in and out and move the plots."
   ]
  },
  {
   "cell_type": "markdown",
   "metadata": {},
   "source": [
    "There are are a number of parameters you can pass in to adjust the way the plot looks, including:\n",
    "- `size`\n",
    "- `fill_color`\n",
    "- `fill_alpha`\n",
    "- `line_color`\n",
    "- `line_width`\n",
    "- `radius`\n",
    "\n"
   ]
  },
  {
   "cell_type": "code",
   "execution_count": 8,
   "metadata": {},
   "outputs": [
    {
     "data": {
      "text/html": [
       "\n",
       "\n",
       "\n",
       "\n",
       "\n",
       "\n",
       "  <div class=\"bk-root\" id=\"3e890fd3-d803-4190-976c-7d42420451ed\" data-root-id=\"1103\"></div>\n"
      ]
     },
     "metadata": {},
     "output_type": "display_data"
    },
    {
     "data": {
      "application/javascript": [
       "(function(root) {\n",
       "  function embed_document(root) {\n",
       "    \n",
       "  var docs_json = {\"0a402eff-ef97-49c4-a973-35fb2d0796e3\":{\"roots\":{\"references\":[{\"attributes\":{\"below\":[{\"id\":\"1112\"}],\"center\":[{\"id\":\"1115\"},{\"id\":\"1119\"}],\"left\":[{\"id\":\"1116\"}],\"plot_height\":400,\"renderers\":[{\"id\":\"1137\"}],\"title\":{\"id\":\"1148\"},\"toolbar\":{\"id\":\"1127\"},\"x_range\":{\"id\":\"1104\"},\"x_scale\":{\"id\":\"1108\"},\"y_range\":{\"id\":\"1106\"},\"y_scale\":{\"id\":\"1110\"}},\"id\":\"1103\",\"subtype\":\"Figure\",\"type\":\"Plot\"},{\"attributes\":{},\"id\":\"1150\",\"type\":\"BasicTickFormatter\"},{\"attributes\":{},\"id\":\"1152\",\"type\":\"BasicTickFormatter\"},{\"attributes\":{\"text\":\"\"},\"id\":\"1148\",\"type\":\"Title\"},{\"attributes\":{},\"id\":\"1121\",\"type\":\"WheelZoomTool\"},{\"attributes\":{\"data\":{\"x\":{\"__ndarray__\":\"UHxlkFH9+T+t2bcvgpPjv9KPVHLI5uC/DLhcJeEq8b99ETVXa7HrP1mizB6NaQLABcaPvb/q+z/2rxqTzlvovyR77fQia9Q/xiOiU17rz792SM1Ky2T3P/SaYw0rewDANvi5xHui1L+U+0u3WJTYv8uOQG3rI/I/7FDklSeZ8b+IIyukIBLGv+6yb4lqF+y/DJIrSwqdpT+iqVAXbKbiP8att9oinPG/kngLz8lQ8j8WV2rI1NnsP/tGAAJvFOA/B+0P28/T7D9DklA/GeHlv8LEmdu7db+/5KaXvdLx7b/M2D4LFCXRv4CmHAes+OA/hsiSuhUi5r830prnaGTZv1v3NppR/eW/5TaUs+wL679zV3Aq2Xrlv3qcY7Hl74m/HO/t0IDg8b8Yj+VlVQHOP49DSLqMjvo/+sE7ZdO+5z+yNs0/EY7Iv2BBd9t0Z+y/UAqTgrjo57/5D5ZGSxT7P/PeSlp5A6o/QLa2sURi5L9NL3kp62/IPw52o5BSzQBAY+86s7zCvj8J2mW8IMDjPy0r3JL9NdM/1Hut8EKL1r9pcHkpwUfyv3f49pOhW9a/AXZV1gu9yr95fKb/ncXiPx5Hj77z2Oo/RPaNl5bL7T9CoIcPEEfSP0RbHJATU+w/9gKYJgck6L9E1I56vwv0PwDVeszraeA/lAl8+PMT07+0Y7id4UPfPwqa7fOqWLO/Bb6kaicb8j9cGydwK1H4P8EDcPUOfAFAgHyeigxY9r/oWuATFxv3v6u16ZeVJOC/3Iq2PRh8xD/A575nkwnsP/4m+OtcM9Q/DCq/1HctAMAYJAm32JjTvwtLfa3Efuo/MJevib5zzT9VDFRFZWLoPyT3vqI/dcy/pzE7vnCyyb91135gPuHHP4WLm0NJPto/Dw5gnuJhyT8uLa/BWXe+Pwa0SMEQduW/+b6ZTAEq2D85id3GrS+/P4Vw3bddEvI/HETMg8Qu8z/MeN6aNLPHP6Za1CqrBNi/okBfwHpw5L+fvi8QiBrbP047OgiPzLM/fvrL2LIB1r/sep/EU1KmP9j8hwIM1+O/NdG8RkdW5j8=\",\"dtype\":\"float64\",\"order\":\"little\",\"shape\":[100]},\"y\":{\"__ndarray__\":\"+T+3IMGd3L8qbx1klZfzP3LabJvO0tk/YCgdY5j+4j9SX5dIwoTxv21/QNVSrsU/QJxJcaOy5z9gGd4ft4Tuv8oIOFi5CdG/aPvXltqyoD/ffgDeSfj1vyVUdkySK9Q/3EaRfr8T6z8ecwiTJ4Hrv2/ThmZYb9Y/xZHl4xz/9L9seZnV5c+jv3u00xw02vm/bHDgsVPx8T/UWXApbSvaP9Z3p/EvNZm/M0VuvR/O6L9a4/HlTWH0P3JBD68/ef8/LMIFMUu6/b8klTTvU8fzP2JZIYTbCvo/efucz/uh1T9MSSCtMzDzv6wzAFyGoOs/INZNfmUox7/7DjhaUVPjv7DkjXBRrvO/AxGOzwCe4T8SXyWBrF7pP7bSgLf28+O/tabZtI+o4D/dP77qOE/yvytgenfYqOk/Ee2WP6vXpz+z0mGuhOHHv4YCBHsEDLq/wjGJV+rN6z8LQXhFXwPoP9i/jkNh8eA/s3nHeDGgwT/hqVLfFeyzP4HROGfFyeM/vdYVuGHCzT/OS0oMdtflP+7eDAb02NO/VT+/OIx6A8AxQ7SLBp/wPy8tZi/vfgFAkqKvplA/3D9r03n7xaO5v6lNX3gFd8G/rtTx0lV6vr9iOCqdxdORP2R6F+nJ8/G/Lro2rQmM4L+gwj/OpOfvv7lit6Km2M8/sCgFLCv80r9iB0bWirHfPzwLzVKsXMa/lMLSzw6Q7z+AWGkxFFXLP6E/WpSNhgFAhqwTjX5X/r+eU2mgirPkv9PsrAn72Ow/3vQC1AI6BEAg03evQ9PPv73RGUPIW6Y/Y4Mbd933zL/bcSn5pU31PzDXYIVAY9K/obco0yHD5T+CnB4goXfUv/pRwJFmXPS/9gxIdSoR1D8GjrEJFxrgP58RfZ8NsfQ/UR9nnkFGvL/q8C0WbsHjv/USLo8jAuI/XS8MGXnQzj9Tv9enavbRPxpGhJ+Dt7K/A5ImLb+Q8j93aTzHxKXXP53b5Wh7ef4/BhuFY+PG8T+o8hWZ7xblP9tAE8n8Cfq/6NZTFTNG4z/RUPBT5+XaPwx9KuxQ8+k/p1X16Qi28D8=\",\"dtype\":\"float64\",\"order\":\"little\",\"shape\":[100]}},\"selected\":{\"id\":\"1156\"},\"selection_policy\":{\"id\":\"1155\"}},\"id\":\"1134\",\"type\":\"ColumnDataSource\"},{\"attributes\":{\"overlay\":{\"id\":\"1126\"}},\"id\":\"1122\",\"type\":\"BoxZoomTool\"},{\"attributes\":{},\"id\":\"1156\",\"type\":\"Selection\"},{\"attributes\":{},\"id\":\"1104\",\"type\":\"DataRange1d\"},{\"attributes\":{},\"id\":\"1123\",\"type\":\"SaveTool\"},{\"attributes\":{},\"id\":\"1108\",\"type\":\"LinearScale\"},{\"attributes\":{},\"id\":\"1124\",\"type\":\"ResetTool\"},{\"attributes\":{},\"id\":\"1125\",\"type\":\"HelpTool\"},{\"attributes\":{},\"id\":\"1110\",\"type\":\"LinearScale\"},{\"attributes\":{},\"id\":\"1106\",\"type\":\"DataRange1d\"},{\"attributes\":{\"formatter\":{\"id\":\"1152\"},\"ticker\":{\"id\":\"1113\"}},\"id\":\"1112\",\"type\":\"LinearAxis\"},{\"attributes\":{},\"id\":\"1117\",\"type\":\"BasicTicker\"},{\"attributes\":{},\"id\":\"1113\",\"type\":\"BasicTicker\"},{\"attributes\":{\"axis\":{\"id\":\"1112\"},\"ticker\":null},\"id\":\"1115\",\"type\":\"Grid\"},{\"attributes\":{\"active_drag\":\"auto\",\"active_inspect\":\"auto\",\"active_multi\":null,\"active_scroll\":\"auto\",\"active_tap\":\"auto\",\"tools\":[{\"id\":\"1120\"},{\"id\":\"1121\"},{\"id\":\"1122\"},{\"id\":\"1123\"},{\"id\":\"1124\"},{\"id\":\"1125\"}]},\"id\":\"1127\",\"type\":\"Toolbar\"},{\"attributes\":{\"fill_alpha\":{\"value\":0.1},\"fill_color\":{\"value\":\"orange\"},\"line_alpha\":{\"value\":0.1},\"line_color\":{\"value\":\"chocolate\"},\"line_width\":{\"value\":2},\"size\":{\"units\":\"screen\",\"value\":15},\"x\":{\"field\":\"x\"},\"y\":{\"field\":\"y\"}},\"id\":\"1136\",\"type\":\"Circle\"},{\"attributes\":{\"data_source\":{\"id\":\"1134\"},\"glyph\":{\"id\":\"1135\"},\"hover_glyph\":null,\"muted_glyph\":null,\"nonselection_glyph\":{\"id\":\"1136\"},\"selection_glyph\":null,\"view\":{\"id\":\"1138\"}},\"id\":\"1137\",\"type\":\"GlyphRenderer\"},{\"attributes\":{\"axis\":{\"id\":\"1116\"},\"dimension\":1,\"ticker\":null},\"id\":\"1119\",\"type\":\"Grid\"},{\"attributes\":{\"formatter\":{\"id\":\"1150\"},\"ticker\":{\"id\":\"1117\"}},\"id\":\"1116\",\"type\":\"LinearAxis\"},{\"attributes\":{\"bottom_units\":\"screen\",\"fill_alpha\":0.5,\"fill_color\":\"lightgrey\",\"left_units\":\"screen\",\"level\":\"overlay\",\"line_alpha\":1.0,\"line_color\":\"black\",\"line_dash\":[4,4],\"line_width\":2,\"right_units\":\"screen\",\"top_units\":\"screen\"},\"id\":\"1126\",\"type\":\"BoxAnnotation\"},{\"attributes\":{\"fill_alpha\":{\"value\":0.5},\"fill_color\":{\"value\":\"orange\"},\"line_color\":{\"value\":\"chocolate\"},\"line_width\":{\"value\":2},\"size\":{\"units\":\"screen\",\"value\":15},\"x\":{\"field\":\"x\"},\"y\":{\"field\":\"y\"}},\"id\":\"1135\",\"type\":\"Circle\"},{\"attributes\":{\"source\":{\"id\":\"1134\"}},\"id\":\"1138\",\"type\":\"CDSView\"},{\"attributes\":{},\"id\":\"1155\",\"type\":\"UnionRenderers\"},{\"attributes\":{},\"id\":\"1120\",\"type\":\"PanTool\"}],\"root_ids\":[\"1103\"]},\"title\":\"Bokeh Application\",\"version\":\"2.1.1\"}};\n",
       "  var render_items = [{\"docid\":\"0a402eff-ef97-49c4-a973-35fb2d0796e3\",\"root_ids\":[\"1103\"],\"roots\":{\"1103\":\"3e890fd3-d803-4190-976c-7d42420451ed\"}}];\n",
       "  root.Bokeh.embed.embed_items_notebook(docs_json, render_items);\n",
       "\n",
       "  }\n",
       "  if (root.Bokeh !== undefined) {\n",
       "    embed_document(root);\n",
       "  } else {\n",
       "    var attempts = 0;\n",
       "    var timer = setInterval(function(root) {\n",
       "      if (root.Bokeh !== undefined) {\n",
       "        clearInterval(timer);\n",
       "        embed_document(root);\n",
       "      } else {\n",
       "        attempts++;\n",
       "        if (attempts > 100) {\n",
       "          clearInterval(timer);\n",
       "          console.log(\"Bokeh: ERROR: Unable to run BokehJS code because BokehJS library is missing\");\n",
       "        }\n",
       "      }\n",
       "    }, 10, root)\n",
       "  }\n",
       "})(window);"
      ],
      "application/vnd.bokehjs_exec.v0+json": ""
     },
     "metadata": {
      "application/vnd.bokehjs_exec.v0+json": {
       "id": "1103"
      }
     },
     "output_type": "display_data"
    }
   ],
   "source": [
    "p = figure(plot_width=600, plot_height=400)\n",
    "np.random.seed(1)\n",
    "x = np.random.randn(100)\n",
    "y = np.random.randn(100)\n",
    "p.circle(x,y,fill_color = 'orange',fill_alpha = .5, size = 15,line_color = 'chocolate',line_width = 2)\n",
    "show(p)"
   ]
  },
  {
   "cell_type": "markdown",
   "metadata": {},
   "source": [
    "We used `.circle` to create a scatter plot with circles as the marker. There are multiple other options as well:\n",
    "- `astrisk`\n",
    "- `cross`\n",
    "- `diamond`\n",
    "- `hex`\n",
    "- `square`\n",
    "- `triangle and inverted_triangle`\n",
    "- `x`"
   ]
  },
  {
   "cell_type": "code",
   "execution_count": 9,
   "metadata": {},
   "outputs": [
    {
     "data": {
      "text/html": [
       "\n",
       "\n",
       "\n",
       "\n",
       "\n",
       "\n",
       "  <div class=\"bk-root\" id=\"a51a0eef-d9a0-494e-ab0d-2d3220c31fcd\" data-root-id=\"1211\"></div>\n"
      ]
     },
     "metadata": {},
     "output_type": "display_data"
    },
    {
     "data": {
      "application/javascript": [
       "(function(root) {\n",
       "  function embed_document(root) {\n",
       "    \n",
       "  var docs_json = {\"307c24b7-ec70-4815-bc9e-c4ce8a1d79aa\":{\"roots\":{\"references\":[{\"attributes\":{\"below\":[{\"id\":\"1220\"}],\"center\":[{\"id\":\"1223\"},{\"id\":\"1227\"}],\"left\":[{\"id\":\"1224\"}],\"plot_height\":400,\"renderers\":[{\"id\":\"1245\"}],\"title\":{\"id\":\"1265\"},\"toolbar\":{\"id\":\"1235\"},\"x_range\":{\"id\":\"1212\"},\"x_scale\":{\"id\":\"1216\"},\"y_range\":{\"id\":\"1214\"},\"y_scale\":{\"id\":\"1218\"}},\"id\":\"1211\",\"subtype\":\"Figure\",\"type\":\"Plot\"},{\"attributes\":{},\"id\":\"1233\",\"type\":\"HelpTool\"},{\"attributes\":{},\"id\":\"1212\",\"type\":\"DataRange1d\"},{\"attributes\":{},\"id\":\"1272\",\"type\":\"UnionRenderers\"},{\"attributes\":{\"active_drag\":\"auto\",\"active_inspect\":\"auto\",\"active_multi\":null,\"active_scroll\":\"auto\",\"active_tap\":\"auto\",\"tools\":[{\"id\":\"1228\"},{\"id\":\"1229\"},{\"id\":\"1230\"},{\"id\":\"1231\"},{\"id\":\"1232\"},{\"id\":\"1233\"}]},\"id\":\"1235\",\"type\":\"Toolbar\"},{\"attributes\":{\"text\":\"\"},\"id\":\"1265\",\"type\":\"Title\"},{\"attributes\":{},\"id\":\"1229\",\"type\":\"WheelZoomTool\"},{\"attributes\":{\"overlay\":{\"id\":\"1234\"}},\"id\":\"1230\",\"type\":\"BoxZoomTool\"},{\"attributes\":{},\"id\":\"1228\",\"type\":\"PanTool\"},{\"attributes\":{},\"id\":\"1216\",\"type\":\"LinearScale\"},{\"attributes\":{},\"id\":\"1218\",\"type\":\"LinearScale\"},{\"attributes\":{},\"id\":\"1232\",\"type\":\"ResetTool\"},{\"attributes\":{\"fill_alpha\":{\"value\":0.1},\"fill_color\":{\"value\":\"turquoise\"},\"line_alpha\":{\"value\":0.1},\"line_color\":{\"value\":\"navy\"},\"size\":{\"units\":\"screen\",\"value\":10},\"x\":{\"field\":\"x\"},\"y\":{\"field\":\"y\"}},\"id\":\"1244\",\"type\":\"InvertedTriangle\"},{\"attributes\":{\"bottom_units\":\"screen\",\"fill_alpha\":0.5,\"fill_color\":\"lightgrey\",\"left_units\":\"screen\",\"level\":\"overlay\",\"line_alpha\":1.0,\"line_color\":\"black\",\"line_dash\":[4,4],\"line_width\":2,\"right_units\":\"screen\",\"top_units\":\"screen\"},\"id\":\"1234\",\"type\":\"BoxAnnotation\"},{\"attributes\":{},\"id\":\"1214\",\"type\":\"DataRange1d\"},{\"attributes\":{\"fill_alpha\":{\"value\":0.5},\"fill_color\":{\"value\":\"turquoise\"},\"line_color\":{\"value\":\"navy\"},\"size\":{\"units\":\"screen\",\"value\":10},\"x\":{\"field\":\"x\"},\"y\":{\"field\":\"y\"}},\"id\":\"1243\",\"type\":\"InvertedTriangle\"},{\"attributes\":{},\"id\":\"1267\",\"type\":\"BasicTickFormatter\"},{\"attributes\":{},\"id\":\"1269\",\"type\":\"BasicTickFormatter\"},{\"attributes\":{\"data\":{\"x\":{\"__ndarray__\":\"gW/aAP2n2b9G394HQV7qP7bikvVn/uG/wEx9Oy5H/z9etfiMrE/1v2CqlcTHK/y/c2u4s1pp+r/XA6hsbn/sv385VIzl5/G/wtd8ZBlM/z9y/5kmXuXUv/ccyJuZe/W/N9CHPoPU8T8/6vHZzcTiv2EUI8QmyvO/kCjaW98G7D+z6T48lfLjP7oJHo5U1tu/CZHNqUiF9j+sGFyLZobAP3L15YoG3/k/N6jRC3QW4D8HkxwU3vD4P13OPavQAbw/JhFosxKE87/+hxyXTpgDQF2TT2P7duG/aTwo44Rzyb8Ouxkgqmnmv+bPPk3UCMq/BauX0MoPzz/pCc5AktXJPydTpwQUJ+U/i+0MFq6s/D9IhSgkxNa+v58w7M7cuvO/2Tptacbq8r8li1pr3E3lv40tDYuByfq/BRVG8qRm6j+pBY4ku+Lfv7Tp1okt59O/ouyHO3T9Xr8bAomojlj2v+1eIVTnj+u/Jg0ioDyX5T+pv0CTEsvjP55SN83tXNy/xvVGdfP3/D97Rt7pQeT0v8LZSTxFFNa/CiOxHSiMzb/QntTyPFgGwLCemDYeAP8/pll71ftx1z9jrxBbo7bwv7r4O5/NaABAsgIoPL694j8b+Qo1W33bP2/Ln+eHbOO/X8PSlWkxuz9MsmXDL2n4v5+uYJDacOk/LkFzI8z217/+GiXGfSjBPxBUEuGdO/M/eHLsI1A50j+64aFBRMzQPy7+5CMqstE/Uhu6AvZ257/qsij4jMDqP+04rlKZsfg/Yn3EziJI6D+oM0JKLFHsPz9xJLGwEuy/MwfEtenE67+EyJ4E1A33v8ao+f5Ot/M/aDerontE0L9GWgfDwmX2PyIBMKZrBem/aB49rSUA3L+UU7RMx224PwtEudqEfO0/6HNeUKYarz8DLBHPIgbLP9B/PUSa7JA/GEXrUxauxj/ieFyqD93xv4BSCnSjt7Q/zkygCdLhx7/5pQguGRitvzTily9xgt8/GIdXhh3I5b+nzfNtUaK1vzC1ZSL6B9O/Xwb7dxO12j9tHx9X1xzpP9JZ9f/Xku6/ZRJ/O8e/4j8=\",\"dtype\":\"float64\",\"order\":\"little\",\"shape\":[100]},\"y\":{\"__ndarray__\":\"kLLHZ7mGAECmwjvY24n3v9v5jabEkOq/7HcdE7Et7L+yqJqwvNzRvz1BaJow9/k/rDPN4aVYiz89+g8Q7jrmv+n6cHbQ5eM/FySeRZkx479/Af0Hf/nxP3RDmcR+idM/g02MvnA49j/LrvdmuynlvxvlgwMyPwhALrOpS/9i6j/lDn8TUvLkP9bb0EhfNaq/QiIYcxc4578bXlzRwsTrv1S+THy0Z8G/jAXZ7DuD6b8MwN7eWxfSP6YAo+Fjb+q/Z+AG1Ojf4z91w0aLjJjuP++D79Q+lua/hGt2/D0V8z8ChzOg4XTOvyNsgyYPfPI/krb03OoK3D+7RM6KDvXxP4x36A6W5++/flCgyNlWu7/jIGvjDTn3P3V9EDb1xuO/bVz9JzBMAMCaE8Bk2BT/v17exMEwDQTAfiA4xs7pAMADbunJS1javxUq7dzZdPQ/IO81CXxN3L/RF8USrLTUP5RLF/1mKLy/wQ2BCByCgT+l3/YhiofFv91UNKGKS8a/aGXfbbaD3T/0DKg009Dyv0RBdx17KfA/gAvhcslw7T9jD/SRo/fIv5mzL27Ixek/6DTA3Wlx5r9ifcZW7jDhv5CAOi90AMQ/QCPgnClZyL+n8bK5H7jcv/Ag27+xhOW/BnC4K//W4b9O+jecqw3uP8VZjkjaF/+/4GW/hUSP1j93Jc3nkEPOv8a+gok/Suc/vKKzqHt74D8gf1RuoUIGwDD49s5steI/evOiwejA1D/hPjwhNmOWP2/sWXbA/t2/3OPSaxRO6z/H5F98Em/av6quvd4AW/0/b61YomwP4j/Y/BCaRRoBQPpkVTEYI+m/myDwe0UY/L9iHxdvjt/mP9jYSAdaSes/t/zd+Lcaoj+Ddpyq5Z74vx0QmZBQqty/kdgymYnG4z8VrbD/FpPHv9mnbII0sb2/RJcYgnB1xr85eOX8oOLtv+w7lKSADuG/TRPRxivT9r+sI+pekEn8P0bhB1qCbN6/RyfJSyqR3j+0n4cTpVnwvyW5mnzGbOk/YmQxpXf4/b+U+QfWrXXtP8XmXKG+G6K/Jeb/5oTiAEA=\",\"dtype\":\"float64\",\"order\":\"little\",\"shape\":[100]}},\"selected\":{\"id\":\"1273\"},\"selection_policy\":{\"id\":\"1272\"}},\"id\":\"1242\",\"type\":\"ColumnDataSource\"},{\"attributes\":{},\"id\":\"1231\",\"type\":\"SaveTool\"},{\"attributes\":{\"formatter\":{\"id\":\"1267\"},\"ticker\":{\"id\":\"1225\"}},\"id\":\"1224\",\"type\":\"LinearAxis\"},{\"attributes\":{},\"id\":\"1225\",\"type\":\"BasicTicker\"},{\"attributes\":{},\"id\":\"1273\",\"type\":\"Selection\"},{\"attributes\":{\"axis\":{\"id\":\"1224\"},\"dimension\":1,\"ticker\":null},\"id\":\"1227\",\"type\":\"Grid\"},{\"attributes\":{\"data_source\":{\"id\":\"1242\"},\"glyph\":{\"id\":\"1243\"},\"hover_glyph\":null,\"muted_glyph\":null,\"nonselection_glyph\":{\"id\":\"1244\"},\"selection_glyph\":null,\"view\":{\"id\":\"1246\"}},\"id\":\"1245\",\"type\":\"GlyphRenderer\"},{\"attributes\":{\"formatter\":{\"id\":\"1269\"},\"ticker\":{\"id\":\"1221\"}},\"id\":\"1220\",\"type\":\"LinearAxis\"},{\"attributes\":{\"source\":{\"id\":\"1242\"}},\"id\":\"1246\",\"type\":\"CDSView\"},{\"attributes\":{\"axis\":{\"id\":\"1220\"},\"ticker\":null},\"id\":\"1223\",\"type\":\"Grid\"},{\"attributes\":{},\"id\":\"1221\",\"type\":\"BasicTicker\"}],\"root_ids\":[\"1211\"]},\"title\":\"Bokeh Application\",\"version\":\"2.1.1\"}};\n",
       "  var render_items = [{\"docid\":\"307c24b7-ec70-4815-bc9e-c4ce8a1d79aa\",\"root_ids\":[\"1211\"],\"roots\":{\"1211\":\"a51a0eef-d9a0-494e-ab0d-2d3220c31fcd\"}}];\n",
       "  root.Bokeh.embed.embed_items_notebook(docs_json, render_items);\n",
       "\n",
       "  }\n",
       "  if (root.Bokeh !== undefined) {\n",
       "    embed_document(root);\n",
       "  } else {\n",
       "    var attempts = 0;\n",
       "    var timer = setInterval(function(root) {\n",
       "      if (root.Bokeh !== undefined) {\n",
       "        clearInterval(timer);\n",
       "        embed_document(root);\n",
       "      } else {\n",
       "        attempts++;\n",
       "        if (attempts > 100) {\n",
       "          clearInterval(timer);\n",
       "          console.log(\"Bokeh: ERROR: Unable to run BokehJS code because BokehJS library is missing\");\n",
       "        }\n",
       "      }\n",
       "    }, 10, root)\n",
       "  }\n",
       "})(window);"
      ],
      "application/vnd.bokehjs_exec.v0+json": ""
     },
     "metadata": {
      "application/vnd.bokehjs_exec.v0+json": {
       "id": "1211"
      }
     },
     "output_type": "display_data"
    }
   ],
   "source": [
    "p = figure(plot_width=600, plot_height=400)\n",
    "x = np.random.randn(100)\n",
    "y = np.random.randn(100)\n",
    "p.inverted_triangle(x,y,fill_color = 'turquoise',fill_alpha = .5, size = 10,line_color = 'navy')\n",
    "show(p)"
   ]
  },
  {
   "cell_type": "markdown",
   "metadata": {},
   "source": [
    "## Line plots\n",
    "We can create a line plot using `.line()` and pass in the data as well as various styling parameters."
   ]
  },
  {
   "cell_type": "code",
   "execution_count": 43,
   "metadata": {},
   "outputs": [
    {
     "data": {
      "text/html": [
       "\n",
       "\n",
       "\n",
       "\n",
       "\n",
       "\n",
       "  <div class=\"bk-root\" id=\"e98a45d9-bdc1-4df8-9183-b286b07ede43\" data-root-id=\"3082\"></div>\n"
      ]
     },
     "metadata": {},
     "output_type": "display_data"
    },
    {
     "data": {
      "application/javascript": [
       "(function(root) {\n",
       "  function embed_document(root) {\n",
       "    \n",
       "  var docs_json = {\"ff6545aa-8c81-4850-b685-fdd254f58cc1\":{\"roots\":{\"references\":[{\"attributes\":{\"below\":[{\"id\":\"3093\"}],\"center\":[{\"id\":\"3096\"},{\"id\":\"3100\"}],\"left\":[{\"id\":\"3097\"}],\"plot_height\":400,\"renderers\":[{\"id\":\"3118\"}],\"title\":{\"id\":\"3083\"},\"toolbar\":{\"id\":\"3108\"},\"x_range\":{\"id\":\"3085\"},\"x_scale\":{\"id\":\"3089\"},\"y_range\":{\"id\":\"3087\"},\"y_scale\":{\"id\":\"3091\"}},\"id\":\"3082\",\"subtype\":\"Figure\",\"type\":\"Plot\"},{\"attributes\":{},\"id\":\"3105\",\"type\":\"ResetTool\"},{\"attributes\":{},\"id\":\"3195\",\"type\":\"BasicTickFormatter\"},{\"attributes\":{},\"id\":\"3089\",\"type\":\"LinearScale\"},{\"attributes\":{\"line_alpha\":0.1,\"line_color\":\"seagreen\",\"line_width\":2,\"x\":{\"field\":\"x\"},\"y\":{\"field\":\"y\"}},\"id\":\"3117\",\"type\":\"Line\"},{\"attributes\":{\"line_color\":\"seagreen\",\"line_width\":2,\"x\":{\"field\":\"x\"},\"y\":{\"field\":\"y\"}},\"id\":\"3116\",\"type\":\"Line\"},{\"attributes\":{\"text\":\"Plot Title\"},\"id\":\"3083\",\"type\":\"Title\"},{\"attributes\":{\"active_drag\":\"auto\",\"active_inspect\":\"auto\",\"active_multi\":null,\"active_scroll\":\"auto\",\"active_tap\":\"auto\",\"tools\":[{\"id\":\"3101\"},{\"id\":\"3102\"},{\"id\":\"3103\"},{\"id\":\"3104\"},{\"id\":\"3105\"},{\"id\":\"3106\"}]},\"id\":\"3108\",\"type\":\"Toolbar\"},{\"attributes\":{},\"id\":\"3091\",\"type\":\"LinearScale\"},{\"attributes\":{\"formatter\":{\"id\":\"3193\"},\"ticker\":{\"id\":\"3098\"}},\"id\":\"3097\",\"type\":\"LinearAxis\"},{\"attributes\":{\"formatter\":{\"id\":\"3195\"},\"ticker\":{\"id\":\"3094\"}},\"id\":\"3093\",\"type\":\"LinearAxis\"},{\"attributes\":{},\"id\":\"3106\",\"type\":\"HelpTool\"},{\"attributes\":{},\"id\":\"3087\",\"type\":\"DataRange1d\"},{\"attributes\":{\"data_source\":{\"id\":\"3115\"},\"glyph\":{\"id\":\"3116\"},\"hover_glyph\":null,\"muted_glyph\":null,\"nonselection_glyph\":{\"id\":\"3117\"},\"selection_glyph\":null,\"view\":{\"id\":\"3119\"}},\"id\":\"3118\",\"type\":\"GlyphRenderer\"},{\"attributes\":{\"source\":{\"id\":\"3115\"}},\"id\":\"3119\",\"type\":\"CDSView\"},{\"attributes\":{},\"id\":\"3199\",\"type\":\"Selection\"},{\"attributes\":{},\"id\":\"3098\",\"type\":\"BasicTicker\"},{\"attributes\":{\"axis\":{\"id\":\"3093\"},\"ticker\":null},\"id\":\"3096\",\"type\":\"Grid\"},{\"attributes\":{},\"id\":\"3101\",\"type\":\"PanTool\"},{\"attributes\":{},\"id\":\"3094\",\"type\":\"BasicTicker\"},{\"attributes\":{},\"id\":\"3085\",\"type\":\"DataRange1d\"},{\"attributes\":{\"bottom_units\":\"screen\",\"fill_alpha\":0.5,\"fill_color\":\"lightgrey\",\"left_units\":\"screen\",\"level\":\"overlay\",\"line_alpha\":1.0,\"line_color\":\"black\",\"line_dash\":[4,4],\"line_width\":2,\"right_units\":\"screen\",\"top_units\":\"screen\"},\"id\":\"3107\",\"type\":\"BoxAnnotation\"},{\"attributes\":{\"data\":{\"x\":[0,1,2,3,4,5,6,7,8,9,10,11,12,13,14,15,16,17,18,19,20,21,22,23,24,25,26,27,28,29,30,31,32,33,34,35,36,37,38,39,40,41,42,43,44,45,46,47,48,49,50,51,52,53,54,55,56,57,58,59,60,61,62,63,64,65,66,67,68,69,70,71,72,73,74,75,76,77,78,79,80,81,82,83,84,85,86,87,88,89,90,91,92,93,94,95,96,97,98,99],\"y\":{\"__ndarray__\":\"fk09Gyms2r/kp+9ICUbev0DeoyOv3wTAnp65WaMB77+2j/2XXRkGwDZ29aJD1QzASMix8VzPCMB0MrFF22IRwLMsRBkznhXAsuCr/QVBGcAblTGfVQwXwEzPzRY6wgvASWvaeydtC8CIuZUwVS8SwJyZD0lWBxDAQAxH+c1pEsDKtCrrZH0SwC5NQcxilAvAgAj0RwPIEMBu9Zxdxb4QwABEzBT0QRTAi2FDXCTiFMDehLH0adsTwNZCZ3PszxfA8U6kmOAqGcC0tKXSuhwawEO1KEKwqRzAJw/J2Oa0IMAPoJihkIwjwC2ts40n2yPAUnQtY+lkJMCTUPxb59wfwAwyE4kNzSTAJAk8P1aTJMCBIjhXq9UjwHi1OmmJHSHA/u61+5UcIMCMgAfD0swhwIAZfXvRzCHAV4n8PiK3IMAGxHZkplchwKQrDq/ImR/A5bZduFqJI8DTRDbi/BIgwDGnasgSRxrArYZGlc6eG8DkmgpEyywZwGmhHRCs+xjAEL5257RMHMAhY1gy5PIbwGJPHUiE8hfAnDkLZsF4GcChJkTicPkawMGzkPKyRRvAGj5OfMyJGcAYoWYKvWwUwBlnk2mm9hbA2XZEYw3uFMAhSZjfvxAUwEKmcfX3fxvAS7o3QlktHcA/IkR82rQdwEKmGZZf3R3AuYYGvouPHMCQZAIYa1wiwD8WNEq8RCLAPe5HlbSfI8CZyTi8soAmwPMtUCdCdCXAJ/LGlsv7I8BpfHdoQkolwCsrdPrrmiPA+UxMG0JeJMD+pVxCNzwkwAkHpSvFbibAz7d0SINDI8A5yGWkJpUowAKuNoX5wyjAjbWxzRJgJ8Au7KNUNXErwAv/MnI30ivA4qinpsD5K8BVIb0tgVMqwPlPLGpr1CfAxiPcYTajKMD8FU8DFmgrwL6vP7sPrCjASjKXBoE8JsD5/KD9DCknwGawg1VldSbAuqXtXOGxJcDKmSKC8o8kwGKQZI9kJyTAb+EBEipXIcC6FgTm/9AkwPGscgUZvCLAeHCYzEv5IcD+kjQneGgiwM7ZVgifDyDAmSQ/you/JMA=\",\"dtype\":\"float64\",\"order\":\"little\",\"shape\":[100]}},\"selected\":{\"id\":\"3199\"},\"selection_policy\":{\"id\":\"3198\"}},\"id\":\"3115\",\"type\":\"ColumnDataSource\"},{\"attributes\":{\"overlay\":{\"id\":\"3107\"}},\"id\":\"3103\",\"type\":\"BoxZoomTool\"},{\"attributes\":{},\"id\":\"3198\",\"type\":\"UnionRenderers\"},{\"attributes\":{},\"id\":\"3104\",\"type\":\"SaveTool\"},{\"attributes\":{},\"id\":\"3193\",\"type\":\"BasicTickFormatter\"},{\"attributes\":{},\"id\":\"3102\",\"type\":\"WheelZoomTool\"},{\"attributes\":{\"axis\":{\"id\":\"3097\"},\"dimension\":1,\"ticker\":null},\"id\":\"3100\",\"type\":\"Grid\"}],\"root_ids\":[\"3082\"]},\"title\":\"Bokeh Application\",\"version\":\"2.1.1\"}};\n",
       "  var render_items = [{\"docid\":\"ff6545aa-8c81-4850-b685-fdd254f58cc1\",\"root_ids\":[\"3082\"],\"roots\":{\"3082\":\"e98a45d9-bdc1-4df8-9183-b286b07ede43\"}}];\n",
       "  root.Bokeh.embed.embed_items_notebook(docs_json, render_items);\n",
       "\n",
       "  }\n",
       "  if (root.Bokeh !== undefined) {\n",
       "    embed_document(root);\n",
       "  } else {\n",
       "    var attempts = 0;\n",
       "    var timer = setInterval(function(root) {\n",
       "      if (root.Bokeh !== undefined) {\n",
       "        clearInterval(timer);\n",
       "        embed_document(root);\n",
       "      } else {\n",
       "        attempts++;\n",
       "        if (attempts > 100) {\n",
       "          clearInterval(timer);\n",
       "          console.log(\"Bokeh: ERROR: Unable to run BokehJS code because BokehJS library is missing\");\n",
       "        }\n",
       "      }\n",
       "    }, 10, root)\n",
       "  }\n",
       "})(window);"
      ],
      "application/vnd.bokehjs_exec.v0+json": ""
     },
     "metadata": {
      "application/vnd.bokehjs_exec.v0+json": {
       "id": "3082"
      }
     },
     "output_type": "display_data"
    }
   ],
   "source": [
    "p = figure(plot_width=600, plot_height=400,title = 'Plot Title')\n",
    "np.random.seed(2)\n",
    "x = np.arange(100)\n",
    "y = np.random.randn(100).cumsum()\n",
    "p.line(x,y,line_color='seagreen',line_width=2)\n",
    "show(p)"
   ]
  },
  {
   "cell_type": "markdown",
   "metadata": {},
   "source": [
    "We can also access the components of the plot (e.g. axes, grids, etc.) and manipulate them."
   ]
  },
  {
   "cell_type": "code",
   "execution_count": 40,
   "metadata": {},
   "outputs": [
    {
     "data": {
      "text/html": [
       "\n",
       "\n",
       "\n",
       "\n",
       "\n",
       "\n",
       "  <div class=\"bk-root\" id=\"34af7d35-482f-4ca3-b287-43714e20ae13\" data-root-id=\"1954\"></div>\n"
      ]
     },
     "metadata": {},
     "output_type": "display_data"
    },
    {
     "data": {
      "application/javascript": [
       "(function(root) {\n",
       "  function embed_document(root) {\n",
       "    \n",
       "  var docs_json = {\"4e670298-4fe3-4682-9c36-4f602403918d\":{\"roots\":{\"references\":[{\"attributes\":{\"below\":[{\"id\":\"1963\"}],\"center\":[{\"id\":\"1966\"},{\"id\":\"1970\"}],\"left\":[{\"id\":\"1967\"}],\"plot_height\":400,\"renderers\":[{\"id\":\"1988\"}],\"title\":{\"id\":\"2044\"},\"toolbar\":{\"id\":\"1978\"},\"x_range\":{\"id\":\"1955\"},\"x_scale\":{\"id\":\"1959\"},\"y_range\":{\"id\":\"1957\"},\"y_scale\":{\"id\":\"1961\"}},\"id\":\"1954\",\"subtype\":\"Figure\",\"type\":\"Plot\"},{\"attributes\":{},\"id\":\"2048\",\"type\":\"BasicTickFormatter\"},{\"attributes\":{\"axis\":{\"id\":\"1963\"},\"ticker\":null},\"id\":\"1966\",\"type\":\"Grid\"},{\"attributes\":{\"bottom_units\":\"screen\",\"fill_alpha\":0.5,\"fill_color\":\"lightgrey\",\"left_units\":\"screen\",\"level\":\"overlay\",\"line_alpha\":1.0,\"line_color\":\"black\",\"line_dash\":[4,4],\"line_width\":2,\"right_units\":\"screen\",\"top_units\":\"screen\"},\"id\":\"1977\",\"type\":\"BoxAnnotation\"},{\"attributes\":{},\"id\":\"1968\",\"type\":\"BasicTicker\"},{\"attributes\":{\"overlay\":{\"id\":\"1977\"}},\"id\":\"1973\",\"type\":\"BoxZoomTool\"},{\"attributes\":{},\"id\":\"2046\",\"type\":\"BasicTickFormatter\"},{\"attributes\":{},\"id\":\"1959\",\"type\":\"LinearScale\"},{\"attributes\":{},\"id\":\"1974\",\"type\":\"SaveTool\"},{\"attributes\":{\"source\":{\"id\":\"1985\"}},\"id\":\"1989\",\"type\":\"CDSView\"},{\"attributes\":{},\"id\":\"1975\",\"type\":\"ResetTool\"},{\"attributes\":{\"data\":{\"x\":[0,1,2,3,4,5,6,7,8,9,10,11,12,13,14,15,16,17,18,19,20,21,22,23,24,25,26,27,28,29,30,31,32,33,34,35,36,37,38,39,40,41,42,43,44,45,46,47,48,49,50,51,52,53,54,55,56,57,58,59,60,61,62,63,64,65,66,67,68,69,70,71,72,73,74,75,76,77,78,79,80,81,82,83,84,85,86,87,88,89,90,91,92,93,94,95,96,97,98,99],\"y\":{\"__ndarray__\":\"fk09Gyms2r/kp+9ICUbev0DeoyOv3wTAnp65WaMB77+2j/2XXRkGwDZ29aJD1QzASMix8VzPCMB0MrFF22IRwLMsRBkznhXAsuCr/QVBGcAblTGfVQwXwEzPzRY6wgvASWvaeydtC8CIuZUwVS8SwJyZD0lWBxDAQAxH+c1pEsDKtCrrZH0SwC5NQcxilAvAgAj0RwPIEMBu9Zxdxb4QwABEzBT0QRTAi2FDXCTiFMDehLH0adsTwNZCZ3PszxfA8U6kmOAqGcC0tKXSuhwawEO1KEKwqRzAJw/J2Oa0IMAPoJihkIwjwC2ts40n2yPAUnQtY+lkJMCTUPxb59wfwAwyE4kNzSTAJAk8P1aTJMCBIjhXq9UjwHi1OmmJHSHA/u61+5UcIMCMgAfD0swhwIAZfXvRzCHAV4n8PiK3IMAGxHZkplchwKQrDq/ImR/A5bZduFqJI8DTRDbi/BIgwDGnasgSRxrArYZGlc6eG8DkmgpEyywZwGmhHRCs+xjAEL5257RMHMAhY1gy5PIbwGJPHUiE8hfAnDkLZsF4GcChJkTicPkawMGzkPKyRRvAGj5OfMyJGcAYoWYKvWwUwBlnk2mm9hbA2XZEYw3uFMAhSZjfvxAUwEKmcfX3fxvAS7o3QlktHcA/IkR82rQdwEKmGZZf3R3AuYYGvouPHMCQZAIYa1wiwD8WNEq8RCLAPe5HlbSfI8CZyTi8soAmwPMtUCdCdCXAJ/LGlsv7I8BpfHdoQkolwCsrdPrrmiPA+UxMG0JeJMD+pVxCNzwkwAkHpSvFbibAz7d0SINDI8A5yGWkJpUowAKuNoX5wyjAjbWxzRJgJ8Au7KNUNXErwAv/MnI30ivA4qinpsD5K8BVIb0tgVMqwPlPLGpr1CfAxiPcYTajKMD8FU8DFmgrwL6vP7sPrCjASjKXBoE8JsD5/KD9DCknwGawg1VldSbAuqXtXOGxJcDKmSKC8o8kwGKQZI9kJyTAb+EBEipXIcC6FgTm/9AkwPGscgUZvCLAeHCYzEv5IcD+kjQneGgiwM7ZVgifDyDAmSQ/you/JMA=\",\"dtype\":\"float64\",\"order\":\"little\",\"shape\":[100]}},\"selected\":{\"id\":\"2052\"},\"selection_policy\":{\"id\":\"2051\"}},\"id\":\"1985\",\"type\":\"ColumnDataSource\"},{\"attributes\":{},\"id\":\"1972\",\"type\":\"WheelZoomTool\"},{\"attributes\":{\"axis\":{\"id\":\"1967\"},\"dimension\":1,\"grid_line_alpha\":0.5,\"grid_line_color\":\"black\",\"ticker\":null},\"id\":\"1970\",\"type\":\"Grid\"},{\"attributes\":{},\"id\":\"1964\",\"type\":\"BasicTicker\"},{\"attributes\":{},\"id\":\"1971\",\"type\":\"PanTool\"},{\"attributes\":{\"line_color\":\"seagreen\",\"line_width\":2,\"x\":{\"field\":\"x\"},\"y\":{\"field\":\"y\"}},\"id\":\"1986\",\"type\":\"Line\"},{\"attributes\":{\"text\":\"Plot Title\",\"text_font_size\":{\"value\":\"24px\"},\"vertical_align\":\"bottom\"},\"id\":\"2044\",\"type\":\"Title\"},{\"attributes\":{},\"id\":\"2051\",\"type\":\"UnionRenderers\"},{\"attributes\":{\"axis_label\":\"y-axis label\",\"axis_label_text_font_size\":\"16px\",\"formatter\":{\"id\":\"2046\"},\"ticker\":{\"id\":\"1968\"}},\"id\":\"1967\",\"type\":\"LinearAxis\"},{\"attributes\":{\"line_alpha\":0.1,\"line_color\":\"seagreen\",\"line_width\":2,\"x\":{\"field\":\"x\"},\"y\":{\"field\":\"y\"}},\"id\":\"1987\",\"type\":\"Line\"},{\"attributes\":{},\"id\":\"1961\",\"type\":\"LinearScale\"},{\"attributes\":{},\"id\":\"1955\",\"type\":\"DataRange1d\"},{\"attributes\":{\"active_drag\":\"auto\",\"active_inspect\":\"auto\",\"active_multi\":null,\"active_scroll\":\"auto\",\"active_tap\":\"auto\",\"tools\":[{\"id\":\"1971\"},{\"id\":\"1972\"},{\"id\":\"1973\"},{\"id\":\"1974\"},{\"id\":\"1975\"},{\"id\":\"1976\"}]},\"id\":\"1978\",\"type\":\"Toolbar\"},{\"attributes\":{},\"id\":\"1957\",\"type\":\"DataRange1d\"},{\"attributes\":{},\"id\":\"1976\",\"type\":\"HelpTool\"},{\"attributes\":{},\"id\":\"2052\",\"type\":\"Selection\"},{\"attributes\":{\"axis_label\":\"x-axis label\",\"axis_label_text_font_size\":\"16px\",\"formatter\":{\"id\":\"2048\"},\"ticker\":{\"id\":\"1964\"}},\"id\":\"1963\",\"type\":\"LinearAxis\"},{\"attributes\":{\"data_source\":{\"id\":\"1985\"},\"glyph\":{\"id\":\"1986\"},\"hover_glyph\":null,\"muted_glyph\":null,\"nonselection_glyph\":{\"id\":\"1987\"},\"selection_glyph\":null,\"view\":{\"id\":\"1989\"}},\"id\":\"1988\",\"type\":\"GlyphRenderer\"}],\"root_ids\":[\"1954\"]},\"title\":\"Bokeh Application\",\"version\":\"2.1.1\"}};\n",
       "  var render_items = [{\"docid\":\"4e670298-4fe3-4682-9c36-4f602403918d\",\"root_ids\":[\"1954\"],\"roots\":{\"1954\":\"34af7d35-482f-4ca3-b287-43714e20ae13\"}}];\n",
       "  root.Bokeh.embed.embed_items_notebook(docs_json, render_items);\n",
       "\n",
       "  }\n",
       "  if (root.Bokeh !== undefined) {\n",
       "    embed_document(root);\n",
       "  } else {\n",
       "    var attempts = 0;\n",
       "    var timer = setInterval(function(root) {\n",
       "      if (root.Bokeh !== undefined) {\n",
       "        clearInterval(timer);\n",
       "        embed_document(root);\n",
       "      } else {\n",
       "        attempts++;\n",
       "        if (attempts > 100) {\n",
       "          clearInterval(timer);\n",
       "          console.log(\"Bokeh: ERROR: Unable to run BokehJS code because BokehJS library is missing\");\n",
       "        }\n",
       "      }\n",
       "    }, 10, root)\n",
       "  }\n",
       "})(window);"
      ],
      "application/vnd.bokehjs_exec.v0+json": ""
     },
     "metadata": {
      "application/vnd.bokehjs_exec.v0+json": {
       "id": "1954"
      }
     },
     "output_type": "display_data"
    }
   ],
   "source": [
    "# x-axis label\n",
    "p.xaxis.axis_label = 'x-axis label'\n",
    "\n",
    "# x-axis label size\n",
    "p.xaxis.axis_label_text_font_size = '16px'\n",
    "\n",
    "# y-axis label\n",
    "p.yaxis.axis_label = 'y-axis label'\n",
    "\n",
    "# y axis label size\n",
    "p.yaxis.axis_label_text_font_size = '16px'\n",
    "\n",
    "# plot title\n",
    "p.title.text = 'Plot Title'\n",
    "\n",
    "# plot title sie\n",
    "p.title.text_font_size = '24px'\n",
    "\n",
    "# horizontal grid lines color\n",
    "p.ygrid.grid_line_color = 'black' \n",
    "\n",
    "# horizontal grid lines opacity\n",
    "p.ygrid.grid_line_alpha = .5 \n",
    "\n",
    "\n",
    "show(p)"
   ]
  },
  {
   "cell_type": "markdown",
   "metadata": {},
   "source": [
    "You can also have multiple plots in a single figure."
   ]
  },
  {
   "cell_type": "code",
   "execution_count": 56,
   "metadata": {
    "scrolled": false
   },
   "outputs": [
    {
     "data": {
      "text/html": [
       "\n",
       "\n",
       "\n",
       "\n",
       "\n",
       "\n",
       "  <div class=\"bk-root\" id=\"69f0210a-998a-45e6-bab8-b35798007f5c\" data-root-id=\"6224\"></div>\n"
      ]
     },
     "metadata": {},
     "output_type": "display_data"
    },
    {
     "data": {
      "application/javascript": [
       "(function(root) {\n",
       "  function embed_document(root) {\n",
       "    \n",
       "  var docs_json = {\"83e27399-8c62-42b4-9cbd-44a6505c2db6\":{\"roots\":{\"references\":[{\"attributes\":{\"below\":[{\"id\":\"6235\"}],\"center\":[{\"id\":\"6238\"},{\"id\":\"6242\"}],\"left\":[{\"id\":\"6239\"}],\"plot_height\":400,\"renderers\":[{\"id\":\"6260\"},{\"id\":\"6265\"}],\"title\":{\"id\":\"6225\"},\"toolbar\":{\"id\":\"6250\"},\"x_range\":{\"id\":\"6227\"},\"x_scale\":{\"id\":\"6231\"},\"y_range\":{\"id\":\"6229\"},\"y_scale\":{\"id\":\"6233\"}},\"id\":\"6224\",\"subtype\":\"Figure\",\"type\":\"Plot\"},{\"attributes\":{\"line_alpha\":0.5,\"line_color\":\"orange\",\"line_width\":2,\"x\":{\"field\":\"x\"},\"y\":{\"field\":\"y\"}},\"id\":\"6258\",\"type\":\"Line\"},{\"attributes\":{},\"id\":\"6476\",\"type\":\"Selection\"},{\"attributes\":{},\"id\":\"6244\",\"type\":\"WheelZoomTool\"},{\"attributes\":{\"overlay\":{\"id\":\"6249\"}},\"id\":\"6245\",\"type\":\"BoxZoomTool\"},{\"attributes\":{\"axis\":{\"id\":\"6235\"},\"ticker\":null},\"id\":\"6238\",\"type\":\"Grid\"},{\"attributes\":{\"formatter\":{\"id\":\"6470\"},\"ticker\":{\"id\":\"6236\"}},\"id\":\"6235\",\"type\":\"LinearAxis\"},{\"attributes\":{},\"id\":\"6474\",\"type\":\"Selection\"},{\"attributes\":{\"data\":{\"x\":[0,1,2,3,4,5,6,7,8,9,10,11,12,13,14,15,16,17,18,19,20,21,22,23,24,25,26,27,28,29,30,31,32,33,34,35,36,37,38,39,40,41,42,43,44,45,46,47,48,49,50,51,52,53,54,55,56,57,58,59,60,61,62,63,64,65,66,67,68,69,70,71,72,73,74,75,76,77,78,79,80,81,82,83,84,85,86,87,88,89,90,91,92,93,94,95,96,97,98,99],\"y\":{\"__ndarray__\":\"fk09Gyms2r/kp+9ICUbev0DeoyOv3wTAnp65WaMB77+2j/2XXRkGwDZ29aJD1QzASMix8VzPCMB0MrFF22IRwLMsRBkznhXAsuCr/QVBGcAblTGfVQwXwEzPzRY6wgvASWvaeydtC8CIuZUwVS8SwJyZD0lWBxDAQAxH+c1pEsDKtCrrZH0SwC5NQcxilAvAgAj0RwPIEMBu9Zxdxb4QwABEzBT0QRTAi2FDXCTiFMDehLH0adsTwNZCZ3PszxfA8U6kmOAqGcC0tKXSuhwawEO1KEKwqRzAJw/J2Oa0IMAPoJihkIwjwC2ts40n2yPAUnQtY+lkJMCTUPxb59wfwAwyE4kNzSTAJAk8P1aTJMCBIjhXq9UjwHi1OmmJHSHA/u61+5UcIMCMgAfD0swhwIAZfXvRzCHAV4n8PiK3IMAGxHZkplchwKQrDq/ImR/A5bZduFqJI8DTRDbi/BIgwDGnasgSRxrArYZGlc6eG8DkmgpEyywZwGmhHRCs+xjAEL5257RMHMAhY1gy5PIbwGJPHUiE8hfAnDkLZsF4GcChJkTicPkawMGzkPKyRRvAGj5OfMyJGcAYoWYKvWwUwBlnk2mm9hbA2XZEYw3uFMAhSZjfvxAUwEKmcfX3fxvAS7o3QlktHcA/IkR82rQdwEKmGZZf3R3AuYYGvouPHMCQZAIYa1wiwD8WNEq8RCLAPe5HlbSfI8CZyTi8soAmwPMtUCdCdCXAJ/LGlsv7I8BpfHdoQkolwCsrdPrrmiPA+UxMG0JeJMD+pVxCNzwkwAkHpSvFbibAz7d0SINDI8A5yGWkJpUowAKuNoX5wyjAjbWxzRJgJ8Au7KNUNXErwAv/MnI30ivA4qinpsD5K8BVIb0tgVMqwPlPLGpr1CfAxiPcYTajKMD8FU8DFmgrwL6vP7sPrCjASjKXBoE8JsD5/KD9DCknwGawg1VldSbAuqXtXOGxJcDKmSKC8o8kwGKQZI9kJyTAb+EBEipXIcC6FgTm/9AkwPGscgUZvCLAeHCYzEv5IcD+kjQneGgiwM7ZVgifDyDAmSQ/you/JMA=\",\"dtype\":\"float64\",\"order\":\"little\",\"shape\":[100]}},\"selected\":{\"id\":\"6474\"},\"selection_policy\":{\"id\":\"6473\"}},\"id\":\"6257\",\"type\":\"ColumnDataSource\"},{\"attributes\":{},\"id\":\"6233\",\"type\":\"LinearScale\"},{\"attributes\":{},\"id\":\"6247\",\"type\":\"ResetTool\"},{\"attributes\":{},\"id\":\"6227\",\"type\":\"DataRange1d\"},{\"attributes\":{\"active_drag\":\"auto\",\"active_inspect\":\"auto\",\"active_multi\":null,\"active_scroll\":\"auto\",\"active_tap\":\"auto\",\"tools\":[{\"id\":\"6243\"},{\"id\":\"6244\"},{\"id\":\"6245\"},{\"id\":\"6246\"},{\"id\":\"6247\"},{\"id\":\"6248\"}]},\"id\":\"6250\",\"type\":\"Toolbar\"},{\"attributes\":{\"line_alpha\":0.1,\"line_color\":\"orange\",\"line_width\":2,\"x\":{\"field\":\"x\"},\"y\":{\"field\":\"y\"}},\"id\":\"6259\",\"type\":\"Line\"},{\"attributes\":{},\"id\":\"6468\",\"type\":\"BasicTickFormatter\"},{\"attributes\":{\"fill_alpha\":{\"value\":0.1},\"fill_color\":{\"value\":\"orangered\"},\"line_alpha\":{\"value\":0.1},\"size\":{\"units\":\"screen\",\"value\":8},\"x\":{\"field\":\"x\"},\"y\":{\"field\":\"y\"}},\"id\":\"6264\",\"type\":\"Circle\"},{\"attributes\":{\"formatter\":{\"id\":\"6468\"},\"ticker\":{\"id\":\"6240\"}},\"id\":\"6239\",\"type\":\"LinearAxis\"},{\"attributes\":{},\"id\":\"6240\",\"type\":\"BasicTicker\"},{\"attributes\":{\"text\":\"Plot Title\"},\"id\":\"6225\",\"type\":\"Title\"},{\"attributes\":{\"data\":{\"x\":[0,1,2,3,4,5,6,7,8,9,10,11,12,13,14,15,16,17,18,19,20,21,22,23,24,25,26,27,28,29,30,31,32,33,34,35,36,37,38,39,40,41,42,43,44,45,46,47,48,49,50,51,52,53,54,55,56,57,58,59,60,61,62,63,64,65,66,67,68,69,70,71,72,73,74,75,76,77,78,79,80,81,82,83,84,85,86,87,88,89,90,91,92,93,94,95,96,97,98,99],\"y\":{\"__ndarray__\":\"fk09Gyms2r/kp+9ICUbev0DeoyOv3wTAnp65WaMB77+2j/2XXRkGwDZ29aJD1QzASMix8VzPCMB0MrFF22IRwLMsRBkznhXAsuCr/QVBGcAblTGfVQwXwEzPzRY6wgvASWvaeydtC8CIuZUwVS8SwJyZD0lWBxDAQAxH+c1pEsDKtCrrZH0SwC5NQcxilAvAgAj0RwPIEMBu9Zxdxb4QwABEzBT0QRTAi2FDXCTiFMDehLH0adsTwNZCZ3PszxfA8U6kmOAqGcC0tKXSuhwawEO1KEKwqRzAJw/J2Oa0IMAPoJihkIwjwC2ts40n2yPAUnQtY+lkJMCTUPxb59wfwAwyE4kNzSTAJAk8P1aTJMCBIjhXq9UjwHi1OmmJHSHA/u61+5UcIMCMgAfD0swhwIAZfXvRzCHAV4n8PiK3IMAGxHZkplchwKQrDq/ImR/A5bZduFqJI8DTRDbi/BIgwDGnasgSRxrArYZGlc6eG8DkmgpEyywZwGmhHRCs+xjAEL5257RMHMAhY1gy5PIbwGJPHUiE8hfAnDkLZsF4GcChJkTicPkawMGzkPKyRRvAGj5OfMyJGcAYoWYKvWwUwBlnk2mm9hbA2XZEYw3uFMAhSZjfvxAUwEKmcfX3fxvAS7o3QlktHcA/IkR82rQdwEKmGZZf3R3AuYYGvouPHMCQZAIYa1wiwD8WNEq8RCLAPe5HlbSfI8CZyTi8soAmwPMtUCdCdCXAJ/LGlsv7I8BpfHdoQkolwCsrdPrrmiPA+UxMG0JeJMD+pVxCNzwkwAkHpSvFbibAz7d0SINDI8A5yGWkJpUowAKuNoX5wyjAjbWxzRJgJ8Au7KNUNXErwAv/MnI30ivA4qinpsD5K8BVIb0tgVMqwPlPLGpr1CfAxiPcYTajKMD8FU8DFmgrwL6vP7sPrCjASjKXBoE8JsD5/KD9DCknwGawg1VldSbAuqXtXOGxJcDKmSKC8o8kwGKQZI9kJyTAb+EBEipXIcC6FgTm/9AkwPGscgUZvCLAeHCYzEv5IcD+kjQneGgiwM7ZVgifDyDAmSQ/you/JMA=\",\"dtype\":\"float64\",\"order\":\"little\",\"shape\":[100]}},\"selected\":{\"id\":\"6476\"},\"selection_policy\":{\"id\":\"6475\"}},\"id\":\"6262\",\"type\":\"ColumnDataSource\"},{\"attributes\":{\"bottom_units\":\"screen\",\"fill_alpha\":0.5,\"fill_color\":\"lightgrey\",\"left_units\":\"screen\",\"level\":\"overlay\",\"line_alpha\":1.0,\"line_color\":\"black\",\"line_dash\":[4,4],\"line_width\":2,\"right_units\":\"screen\",\"top_units\":\"screen\"},\"id\":\"6249\",\"type\":\"BoxAnnotation\"},{\"attributes\":{\"source\":{\"id\":\"6262\"}},\"id\":\"6266\",\"type\":\"CDSView\"},{\"attributes\":{\"source\":{\"id\":\"6257\"}},\"id\":\"6261\",\"type\":\"CDSView\"},{\"attributes\":{\"data_source\":{\"id\":\"6262\"},\"glyph\":{\"id\":\"6263\"},\"hover_glyph\":null,\"muted_glyph\":null,\"nonselection_glyph\":{\"id\":\"6264\"},\"selection_glyph\":null,\"view\":{\"id\":\"6266\"}},\"id\":\"6265\",\"type\":\"GlyphRenderer\"},{\"attributes\":{},\"id\":\"6231\",\"type\":\"LinearScale\"},{\"attributes\":{\"fill_color\":{\"value\":\"orangered\"},\"size\":{\"units\":\"screen\",\"value\":8},\"x\":{\"field\":\"x\"},\"y\":{\"field\":\"y\"}},\"id\":\"6263\",\"type\":\"Circle\"},{\"attributes\":{},\"id\":\"6470\",\"type\":\"BasicTickFormatter\"},{\"attributes\":{},\"id\":\"6248\",\"type\":\"HelpTool\"},{\"attributes\":{},\"id\":\"6473\",\"type\":\"UnionRenderers\"},{\"attributes\":{},\"id\":\"6243\",\"type\":\"PanTool\"},{\"attributes\":{\"axis\":{\"id\":\"6239\"},\"dimension\":1,\"ticker\":null},\"id\":\"6242\",\"type\":\"Grid\"},{\"attributes\":{},\"id\":\"6236\",\"type\":\"BasicTicker\"},{\"attributes\":{},\"id\":\"6229\",\"type\":\"DataRange1d\"},{\"attributes\":{},\"id\":\"6475\",\"type\":\"UnionRenderers\"},{\"attributes\":{},\"id\":\"6246\",\"type\":\"SaveTool\"},{\"attributes\":{\"data_source\":{\"id\":\"6257\"},\"glyph\":{\"id\":\"6258\"},\"hover_glyph\":null,\"muted_glyph\":null,\"nonselection_glyph\":{\"id\":\"6259\"},\"selection_glyph\":null,\"view\":{\"id\":\"6261\"}},\"id\":\"6260\",\"type\":\"GlyphRenderer\"}],\"root_ids\":[\"6224\"]},\"title\":\"Bokeh Application\",\"version\":\"2.1.1\"}};\n",
       "  var render_items = [{\"docid\":\"83e27399-8c62-42b4-9cbd-44a6505c2db6\",\"root_ids\":[\"6224\"],\"roots\":{\"6224\":\"69f0210a-998a-45e6-bab8-b35798007f5c\"}}];\n",
       "  root.Bokeh.embed.embed_items_notebook(docs_json, render_items);\n",
       "\n",
       "  }\n",
       "  if (root.Bokeh !== undefined) {\n",
       "    embed_document(root);\n",
       "  } else {\n",
       "    var attempts = 0;\n",
       "    var timer = setInterval(function(root) {\n",
       "      if (root.Bokeh !== undefined) {\n",
       "        clearInterval(timer);\n",
       "        embed_document(root);\n",
       "      } else {\n",
       "        attempts++;\n",
       "        if (attempts > 100) {\n",
       "          clearInterval(timer);\n",
       "          console.log(\"Bokeh: ERROR: Unable to run BokehJS code because BokehJS library is missing\");\n",
       "        }\n",
       "      }\n",
       "    }, 10, root)\n",
       "  }\n",
       "})(window);"
      ],
      "application/vnd.bokehjs_exec.v0+json": ""
     },
     "metadata": {
      "application/vnd.bokehjs_exec.v0+json": {
       "id": "6224"
      }
     },
     "output_type": "display_data"
    }
   ],
   "source": [
    "p = figure(plot_width=600, plot_height=400,title = 'Plot Title')\n",
    "np.random.seed(2)\n",
    "x = np.arange(100)\n",
    "y = np.random.randn(100).cumsum()\n",
    "p.line(x,y,line_color='orange',line_width=2,line_alpha=.5)\n",
    "p.circle(x,y,size=8,fill_color = 'orangered',line_color='black')\n",
    "show(p)"
   ]
  },
  {
   "cell_type": "code",
   "execution_count": 246,
   "metadata": {},
   "outputs": [
    {
     "data": {
      "text/html": [
       "\n",
       "\n",
       "\n",
       "\n",
       "\n",
       "\n",
       "  <div class=\"bk-root\" id=\"03f19b05-2ddd-41e8-8a61-0c44599c4878\" data-root-id=\"48172\"></div>\n"
      ]
     },
     "metadata": {},
     "output_type": "display_data"
    },
    {
     "data": {
      "application/javascript": [
       "(function(root) {\n",
       "  function embed_document(root) {\n",
       "    \n",
       "  var docs_json = {\"5d5e6214-5589-437a-aed5-0bc23aa2c470\":{\"roots\":{\"references\":[{\"attributes\":{\"below\":[{\"id\":\"48183\"}],\"center\":[{\"id\":\"48185\"},{\"id\":\"48189\"}],\"left\":[{\"id\":\"48186\"}],\"plot_height\":250,\"renderers\":[{\"id\":\"48207\"}],\"title\":{\"id\":\"48173\"},\"toolbar\":{\"id\":\"48197\"},\"x_range\":{\"id\":\"48175\"},\"x_scale\":{\"id\":\"48179\"},\"y_range\":{\"id\":\"48177\"},\"y_scale\":{\"id\":\"48181\"}},\"id\":\"48172\",\"subtype\":\"Figure\",\"type\":\"Plot\"},{\"attributes\":{},\"id\":\"48184\",\"type\":\"CategoricalTicker\"},{\"attributes\":{\"start\":0},\"id\":\"48177\",\"type\":\"DataRange1d\"},{\"attributes\":{},\"id\":\"48190\",\"type\":\"PanTool\"},{\"attributes\":{\"data\":{\"top\":[5,3,4,2,4,6],\"x\":[\"Apples\",\"Pears\",\"Nectarines\",\"Plums\",\"Grapes\",\"Strawberries\"]},\"selected\":{\"id\":\"49045\"},\"selection_policy\":{\"id\":\"49044\"}},\"id\":\"48204\",\"type\":\"ColumnDataSource\"},{\"attributes\":{\"text\":\"Fruit Counts\"},\"id\":\"48173\",\"type\":\"Title\"},{\"attributes\":{},\"id\":\"48187\",\"type\":\"BasicTicker\"},{\"attributes\":{},\"id\":\"48179\",\"type\":\"CategoricalScale\"},{\"attributes\":{},\"id\":\"49045\",\"type\":\"Selection\"},{\"attributes\":{},\"id\":\"48195\",\"type\":\"HelpTool\"},{\"attributes\":{},\"id\":\"49041\",\"type\":\"CategoricalTickFormatter\"},{\"attributes\":{\"source\":{\"id\":\"48204\"}},\"id\":\"48208\",\"type\":\"CDSView\"},{\"attributes\":{\"active_drag\":\"auto\",\"active_inspect\":\"auto\",\"active_multi\":null,\"active_scroll\":\"auto\",\"active_tap\":\"auto\",\"tools\":[{\"id\":\"48190\"},{\"id\":\"48191\"},{\"id\":\"48192\"},{\"id\":\"48193\"},{\"id\":\"48194\"},{\"id\":\"48195\"}]},\"id\":\"48197\",\"type\":\"Toolbar\"},{\"attributes\":{},\"id\":\"49044\",\"type\":\"UnionRenderers\"},{\"attributes\":{\"factors\":[\"Apples\",\"Pears\",\"Nectarines\",\"Plums\",\"Grapes\",\"Strawberries\"]},\"id\":\"48175\",\"type\":\"FactorRange\"},{\"attributes\":{\"axis\":{\"id\":\"48186\"},\"dimension\":1,\"ticker\":null},\"id\":\"48189\",\"type\":\"Grid\"},{\"attributes\":{\"bottom_units\":\"screen\",\"fill_alpha\":0.5,\"fill_color\":\"lightgrey\",\"left_units\":\"screen\",\"level\":\"overlay\",\"line_alpha\":1.0,\"line_color\":\"black\",\"line_dash\":[4,4],\"line_width\":2,\"right_units\":\"screen\",\"top_units\":\"screen\"},\"id\":\"48196\",\"type\":\"BoxAnnotation\"},{\"attributes\":{\"fill_color\":{\"value\":\"#1f77b4\"},\"line_color\":{\"value\":\"#1f77b4\"},\"top\":{\"field\":\"top\"},\"width\":{\"value\":0.9},\"x\":{\"field\":\"x\"}},\"id\":\"48205\",\"type\":\"VBar\"},{\"attributes\":{},\"id\":\"49039\",\"type\":\"BasicTickFormatter\"},{\"attributes\":{},\"id\":\"48194\",\"type\":\"ResetTool\"},{\"attributes\":{\"fill_alpha\":{\"value\":0.1},\"fill_color\":{\"value\":\"#1f77b4\"},\"line_alpha\":{\"value\":0.1},\"line_color\":{\"value\":\"#1f77b4\"},\"top\":{\"field\":\"top\"},\"width\":{\"value\":0.9},\"x\":{\"field\":\"x\"}},\"id\":\"48206\",\"type\":\"VBar\"},{\"attributes\":{},\"id\":\"48193\",\"type\":\"SaveTool\"},{\"attributes\":{\"overlay\":{\"id\":\"48196\"}},\"id\":\"48192\",\"type\":\"BoxZoomTool\"},{\"attributes\":{},\"id\":\"48181\",\"type\":\"LinearScale\"},{\"attributes\":{},\"id\":\"48191\",\"type\":\"WheelZoomTool\"},{\"attributes\":{\"data_source\":{\"id\":\"48204\"},\"glyph\":{\"id\":\"48205\"},\"hover_glyph\":null,\"muted_glyph\":null,\"nonselection_glyph\":{\"id\":\"48206\"},\"selection_glyph\":null,\"view\":{\"id\":\"48208\"}},\"id\":\"48207\",\"type\":\"GlyphRenderer\"},{\"attributes\":{\"formatter\":{\"id\":\"49041\"},\"ticker\":{\"id\":\"48184\"}},\"id\":\"48183\",\"type\":\"CategoricalAxis\"},{\"attributes\":{\"axis\":{\"id\":\"48183\"},\"grid_line_color\":null,\"ticker\":null},\"id\":\"48185\",\"type\":\"Grid\"},{\"attributes\":{\"formatter\":{\"id\":\"49039\"},\"ticker\":{\"id\":\"48187\"}},\"id\":\"48186\",\"type\":\"LinearAxis\"}],\"root_ids\":[\"48172\"]},\"title\":\"Bokeh Application\",\"version\":\"2.1.1\"}};\n",
       "  var render_items = [{\"docid\":\"5d5e6214-5589-437a-aed5-0bc23aa2c470\",\"root_ids\":[\"48172\"],\"roots\":{\"48172\":\"03f19b05-2ddd-41e8-8a61-0c44599c4878\"}}];\n",
       "  root.Bokeh.embed.embed_items_notebook(docs_json, render_items);\n",
       "\n",
       "  }\n",
       "  if (root.Bokeh !== undefined) {\n",
       "    embed_document(root);\n",
       "  } else {\n",
       "    var attempts = 0;\n",
       "    var timer = setInterval(function(root) {\n",
       "      if (root.Bokeh !== undefined) {\n",
       "        clearInterval(timer);\n",
       "        embed_document(root);\n",
       "      } else {\n",
       "        attempts++;\n",
       "        if (attempts > 100) {\n",
       "          clearInterval(timer);\n",
       "          console.log(\"Bokeh: ERROR: Unable to run BokehJS code because BokehJS library is missing\");\n",
       "        }\n",
       "      }\n",
       "    }, 10, root)\n",
       "  }\n",
       "})(window);"
      ],
      "application/vnd.bokehjs_exec.v0+json": ""
     },
     "metadata": {
      "application/vnd.bokehjs_exec.v0+json": {
       "id": "48172"
      }
     },
     "output_type": "display_data"
    }
   ],
   "source": [
    "# Here is a list of categorical values (or factors)\n",
    "fruits = ['Apples', 'Pears', 'Nectarines', 'Plums', 'Grapes', 'Strawberries']\n",
    "\n",
    "# Set the x_range to the list of categories above\n",
    "p = figure(x_range=fruits, plot_height=250, title=\"Fruit Counts\")\n",
    "\n",
    "# Categorical values can also be used as coordinates\n",
    "p.vbar(x=fruits, top=[5, 3, 4, 2, 4, 6], width=0.9)\n",
    "\n",
    "# Set some properties to make the plot look better\n",
    "p.xgrid.grid_line_color = None\n",
    "p.y_range.start = 0\n",
    "\n",
    "show(p)"
   ]
  },
  {
   "cell_type": "markdown",
   "metadata": {},
   "source": [
    "## Bar Plot\n"
   ]
  },
  {
   "cell_type": "markdown",
   "metadata": {},
   "source": [
    "Let's import some data for plotting. The dataset we use here is natural gas production in US by states."
   ]
  },
  {
   "cell_type": "code",
   "execution_count": 405,
   "metadata": {},
   "outputs": [
    {
     "data": {
      "text/html": [
       "<div>\n",
       "<style scoped>\n",
       "    .dataframe tbody tr th:only-of-type {\n",
       "        vertical-align: middle;\n",
       "    }\n",
       "\n",
       "    .dataframe tbody tr th {\n",
       "        vertical-align: top;\n",
       "    }\n",
       "\n",
       "    .dataframe thead th {\n",
       "        text-align: right;\n",
       "    }\n",
       "</style>\n",
       "<table border=\"1\" class=\"dataframe\">\n",
       "  <thead>\n",
       "    <tr style=\"text-align: right;\">\n",
       "      <th></th>\n",
       "      <th>Other States Natural Gas Gross Withdrawals (MMcf)</th>\n",
       "      <th>Alabama Natural Gas Gross Withdrawals (MMcf)</th>\n",
       "      <th>Arizona Natural Gas Gross Withdrawals (MMcf)</th>\n",
       "      <th>Florida Natural Gas Gross Withdrawals (MMcf)</th>\n",
       "      <th>Idaho Gross Withdrawals of Natural Gas (Million Cubic Feet)</th>\n",
       "      <th>Illinois Natural Gas Gross Withdrawals (MMcf)</th>\n",
       "      <th>Indiana Natural Gas Gross Withdrawals (MMcf)</th>\n",
       "      <th>Kentucky Natural Gas Gross Withdrawals (MMcf)</th>\n",
       "      <th>Maryland Natural Gas Gross Withdrawals (MMcf)</th>\n",
       "      <th>Michigan Natural Gas Gross Withdrawals (MMcf)</th>\n",
       "      <th>Mississippi Natural Gas Gross Withdrawals (MMcf)</th>\n",
       "      <th>Missouri Natural Gas Gross Withdrawals (MMcf)</th>\n",
       "      <th>Nebraska Natural Gas Gross Withdrawals (MMcf)</th>\n",
       "      <th>Nevada Natural Gas Gross Withdrawals (MMcf)</th>\n",
       "      <th>New York Natural Gas Gross Withdrawals (MMcf)</th>\n",
       "      <th>Oregon Natural Gas Gross Withdrawals (MMcf)</th>\n",
       "      <th>South Dakota Natural Gas Gross Withdrawals (MMcf)</th>\n",
       "      <th>Tennessee Natural Gas Gross Withdrawals (MMcf)</th>\n",
       "      <th>Virginia Natural Gas Gross Withdrawals (MMcf)</th>\n",
       "    </tr>\n",
       "    <tr>\n",
       "      <th>Date</th>\n",
       "      <th></th>\n",
       "      <th></th>\n",
       "      <th></th>\n",
       "      <th></th>\n",
       "      <th></th>\n",
       "      <th></th>\n",
       "      <th></th>\n",
       "      <th></th>\n",
       "      <th></th>\n",
       "      <th></th>\n",
       "      <th></th>\n",
       "      <th></th>\n",
       "      <th></th>\n",
       "      <th></th>\n",
       "      <th></th>\n",
       "      <th></th>\n",
       "      <th></th>\n",
       "      <th></th>\n",
       "      <th></th>\n",
       "    </tr>\n",
       "  </thead>\n",
       "  <tbody>\n",
       "    <tr>\n",
       "      <th>1991-01-15</th>\n",
       "      <td>75788</td>\n",
       "      <td>17691.0</td>\n",
       "      <td>NaN</td>\n",
       "      <td>NaN</td>\n",
       "      <td>NaN</td>\n",
       "      <td>41.0</td>\n",
       "      <td>21.0</td>\n",
       "      <td>7021.0</td>\n",
       "      <td>0.0</td>\n",
       "      <td>15965.0</td>\n",
       "      <td>16689.0</td>\n",
       "      <td>0.0</td>\n",
       "      <td>57.0</td>\n",
       "      <td>3.0</td>\n",
       "      <td>2041.0</td>\n",
       "      <td>NaN</td>\n",
       "      <td>525.0</td>\n",
       "      <td>165.0</td>\n",
       "      <td>1849.0</td>\n",
       "    </tr>\n",
       "    <tr>\n",
       "      <th>1991-02-15</th>\n",
       "      <td>66569</td>\n",
       "      <td>16173.0</td>\n",
       "      <td>NaN</td>\n",
       "      <td>NaN</td>\n",
       "      <td>NaN</td>\n",
       "      <td>38.0</td>\n",
       "      <td>18.0</td>\n",
       "      <td>6303.0</td>\n",
       "      <td>0.0</td>\n",
       "      <td>14322.0</td>\n",
       "      <td>14603.0</td>\n",
       "      <td>0.0</td>\n",
       "      <td>58.0</td>\n",
       "      <td>3.0</td>\n",
       "      <td>1820.0</td>\n",
       "      <td>NaN</td>\n",
       "      <td>421.0</td>\n",
       "      <td>148.0</td>\n",
       "      <td>1545.0</td>\n",
       "    </tr>\n",
       "    <tr>\n",
       "      <th>1991-03-15</th>\n",
       "      <td>71068</td>\n",
       "      <td>17747.0</td>\n",
       "      <td>NaN</td>\n",
       "      <td>NaN</td>\n",
       "      <td>NaN</td>\n",
       "      <td>40.0</td>\n",
       "      <td>20.0</td>\n",
       "      <td>6870.0</td>\n",
       "      <td>5.0</td>\n",
       "      <td>17792.0</td>\n",
       "      <td>15913.0</td>\n",
       "      <td>1.0</td>\n",
       "      <td>65.0</td>\n",
       "      <td>5.0</td>\n",
       "      <td>1983.0</td>\n",
       "      <td>NaN</td>\n",
       "      <td>458.0</td>\n",
       "      <td>161.0</td>\n",
       "      <td>1076.0</td>\n",
       "    </tr>\n",
       "    <tr>\n",
       "      <th>1991-04-15</th>\n",
       "      <td>64899</td>\n",
       "      <td>17335.0</td>\n",
       "      <td>NaN</td>\n",
       "      <td>562.0</td>\n",
       "      <td>NaN</td>\n",
       "      <td>39.0</td>\n",
       "      <td>19.0</td>\n",
       "      <td>6515.0</td>\n",
       "      <td>0.0</td>\n",
       "      <td>18491.0</td>\n",
       "      <td>14873.0</td>\n",
       "      <td>2.0</td>\n",
       "      <td>63.0</td>\n",
       "      <td>6.0</td>\n",
       "      <td>1881.0</td>\n",
       "      <td>NaN</td>\n",
       "      <td>445.0</td>\n",
       "      <td>153.0</td>\n",
       "      <td>906.0</td>\n",
       "    </tr>\n",
       "    <tr>\n",
       "      <th>1991-05-15</th>\n",
       "      <td>64083</td>\n",
       "      <td>18260.0</td>\n",
       "      <td>NaN</td>\n",
       "      <td>NaN</td>\n",
       "      <td>NaN</td>\n",
       "      <td>38.0</td>\n",
       "      <td>19.0</td>\n",
       "      <td>6458.0</td>\n",
       "      <td>0.0</td>\n",
       "      <td>19993.0</td>\n",
       "      <td>14762.0</td>\n",
       "      <td>1.0</td>\n",
       "      <td>69.0</td>\n",
       "      <td>6.0</td>\n",
       "      <td>1865.0</td>\n",
       "      <td>NaN</td>\n",
       "      <td>421.0</td>\n",
       "      <td>152.0</td>\n",
       "      <td>698.0</td>\n",
       "    </tr>\n",
       "  </tbody>\n",
       "</table>\n",
       "</div>"
      ],
      "text/plain": [
       "            Other States Natural Gas Gross Withdrawals (MMcf)  \\\n",
       "Date                                                            \n",
       "1991-01-15                                              75788   \n",
       "1991-02-15                                              66569   \n",
       "1991-03-15                                              71068   \n",
       "1991-04-15                                              64899   \n",
       "1991-05-15                                              64083   \n",
       "\n",
       "            Alabama Natural Gas Gross Withdrawals (MMcf)  \\\n",
       "Date                                                       \n",
       "1991-01-15                                       17691.0   \n",
       "1991-02-15                                       16173.0   \n",
       "1991-03-15                                       17747.0   \n",
       "1991-04-15                                       17335.0   \n",
       "1991-05-15                                       18260.0   \n",
       "\n",
       "            Arizona Natural Gas Gross Withdrawals (MMcf)  \\\n",
       "Date                                                       \n",
       "1991-01-15                                           NaN   \n",
       "1991-02-15                                           NaN   \n",
       "1991-03-15                                           NaN   \n",
       "1991-04-15                                           NaN   \n",
       "1991-05-15                                           NaN   \n",
       "\n",
       "            Florida Natural Gas Gross Withdrawals (MMcf)  \\\n",
       "Date                                                       \n",
       "1991-01-15                                           NaN   \n",
       "1991-02-15                                           NaN   \n",
       "1991-03-15                                           NaN   \n",
       "1991-04-15                                         562.0   \n",
       "1991-05-15                                           NaN   \n",
       "\n",
       "            Idaho Gross Withdrawals of Natural Gas (Million Cubic Feet)  \\\n",
       "Date                                                                      \n",
       "1991-01-15                                                NaN             \n",
       "1991-02-15                                                NaN             \n",
       "1991-03-15                                                NaN             \n",
       "1991-04-15                                                NaN             \n",
       "1991-05-15                                                NaN             \n",
       "\n",
       "            Illinois Natural Gas Gross Withdrawals (MMcf)  \\\n",
       "Date                                                        \n",
       "1991-01-15                                           41.0   \n",
       "1991-02-15                                           38.0   \n",
       "1991-03-15                                           40.0   \n",
       "1991-04-15                                           39.0   \n",
       "1991-05-15                                           38.0   \n",
       "\n",
       "            Indiana Natural Gas Gross Withdrawals (MMcf)  \\\n",
       "Date                                                       \n",
       "1991-01-15                                          21.0   \n",
       "1991-02-15                                          18.0   \n",
       "1991-03-15                                          20.0   \n",
       "1991-04-15                                          19.0   \n",
       "1991-05-15                                          19.0   \n",
       "\n",
       "            Kentucky Natural Gas Gross Withdrawals (MMcf)  \\\n",
       "Date                                                        \n",
       "1991-01-15                                         7021.0   \n",
       "1991-02-15                                         6303.0   \n",
       "1991-03-15                                         6870.0   \n",
       "1991-04-15                                         6515.0   \n",
       "1991-05-15                                         6458.0   \n",
       "\n",
       "            Maryland Natural Gas Gross Withdrawals (MMcf)  \\\n",
       "Date                                                        \n",
       "1991-01-15                                            0.0   \n",
       "1991-02-15                                            0.0   \n",
       "1991-03-15                                            5.0   \n",
       "1991-04-15                                            0.0   \n",
       "1991-05-15                                            0.0   \n",
       "\n",
       "            Michigan Natural Gas Gross Withdrawals (MMcf)  \\\n",
       "Date                                                        \n",
       "1991-01-15                                        15965.0   \n",
       "1991-02-15                                        14322.0   \n",
       "1991-03-15                                        17792.0   \n",
       "1991-04-15                                        18491.0   \n",
       "1991-05-15                                        19993.0   \n",
       "\n",
       "            Mississippi Natural Gas Gross Withdrawals (MMcf)  \\\n",
       "Date                                                           \n",
       "1991-01-15                                           16689.0   \n",
       "1991-02-15                                           14603.0   \n",
       "1991-03-15                                           15913.0   \n",
       "1991-04-15                                           14873.0   \n",
       "1991-05-15                                           14762.0   \n",
       "\n",
       "            Missouri Natural Gas Gross Withdrawals (MMcf)  \\\n",
       "Date                                                        \n",
       "1991-01-15                                            0.0   \n",
       "1991-02-15                                            0.0   \n",
       "1991-03-15                                            1.0   \n",
       "1991-04-15                                            2.0   \n",
       "1991-05-15                                            1.0   \n",
       "\n",
       "            Nebraska Natural Gas Gross Withdrawals (MMcf)  \\\n",
       "Date                                                        \n",
       "1991-01-15                                           57.0   \n",
       "1991-02-15                                           58.0   \n",
       "1991-03-15                                           65.0   \n",
       "1991-04-15                                           63.0   \n",
       "1991-05-15                                           69.0   \n",
       "\n",
       "            Nevada Natural Gas Gross Withdrawals (MMcf)  \\\n",
       "Date                                                      \n",
       "1991-01-15                                          3.0   \n",
       "1991-02-15                                          3.0   \n",
       "1991-03-15                                          5.0   \n",
       "1991-04-15                                          6.0   \n",
       "1991-05-15                                          6.0   \n",
       "\n",
       "            New York Natural Gas Gross Withdrawals (MMcf)  \\\n",
       "Date                                                        \n",
       "1991-01-15                                         2041.0   \n",
       "1991-02-15                                         1820.0   \n",
       "1991-03-15                                         1983.0   \n",
       "1991-04-15                                         1881.0   \n",
       "1991-05-15                                         1865.0   \n",
       "\n",
       "            Oregon Natural Gas Gross Withdrawals (MMcf)  \\\n",
       "Date                                                      \n",
       "1991-01-15                                          NaN   \n",
       "1991-02-15                                          NaN   \n",
       "1991-03-15                                          NaN   \n",
       "1991-04-15                                          NaN   \n",
       "1991-05-15                                          NaN   \n",
       "\n",
       "            South Dakota Natural Gas Gross Withdrawals (MMcf)  \\\n",
       "Date                                                            \n",
       "1991-01-15                                              525.0   \n",
       "1991-02-15                                              421.0   \n",
       "1991-03-15                                              458.0   \n",
       "1991-04-15                                              445.0   \n",
       "1991-05-15                                              421.0   \n",
       "\n",
       "            Tennessee Natural Gas Gross Withdrawals (MMcf)  \\\n",
       "Date                                                         \n",
       "1991-01-15                                           165.0   \n",
       "1991-02-15                                           148.0   \n",
       "1991-03-15                                           161.0   \n",
       "1991-04-15                                           153.0   \n",
       "1991-05-15                                           152.0   \n",
       "\n",
       "            Virginia Natural Gas Gross Withdrawals (MMcf)  \n",
       "Date                                                       \n",
       "1991-01-15                                         1849.0  \n",
       "1991-02-15                                         1545.0  \n",
       "1991-03-15                                         1076.0  \n",
       "1991-04-15                                          906.0  \n",
       "1991-05-15                                          698.0  "
      ]
     },
     "execution_count": 405,
     "metadata": {},
     "output_type": "execute_result"
    }
   ],
   "source": [
    "import pandas as pd\n",
    "ngdf = pd.read_excel('../../data/processed/NG_PROD_SUM.xls',sheet_name=2,header = 2,index_col = 'Date', parse_dates=True)\n",
    "ngdf.head()"
   ]
  },
  {
   "cell_type": "code",
   "execution_count": 406,
   "metadata": {},
   "outputs": [
    {
     "data": {
      "text/html": [
       "<div>\n",
       "<style scoped>\n",
       "    .dataframe tbody tr th:only-of-type {\n",
       "        vertical-align: middle;\n",
       "    }\n",
       "\n",
       "    .dataframe tbody tr th {\n",
       "        vertical-align: top;\n",
       "    }\n",
       "\n",
       "    .dataframe thead th {\n",
       "        text-align: right;\n",
       "    }\n",
       "</style>\n",
       "<table border=\"1\" class=\"dataframe\">\n",
       "  <thead>\n",
       "    <tr style=\"text-align: right;\">\n",
       "      <th></th>\n",
       "      <th>Other</th>\n",
       "      <th>Alabama</th>\n",
       "      <th>Arizona</th>\n",
       "      <th>Florida</th>\n",
       "      <th>Idaho</th>\n",
       "      <th>Illinois</th>\n",
       "      <th>Indiana</th>\n",
       "      <th>Kentucky</th>\n",
       "      <th>Maryland</th>\n",
       "      <th>Michigan</th>\n",
       "      <th>Mississippi</th>\n",
       "      <th>Missouri</th>\n",
       "      <th>Nebraska</th>\n",
       "      <th>Nevada</th>\n",
       "      <th>New York</th>\n",
       "      <th>Oregon</th>\n",
       "      <th>South</th>\n",
       "      <th>Tennessee</th>\n",
       "      <th>Virginia</th>\n",
       "    </tr>\n",
       "    <tr>\n",
       "      <th>Date</th>\n",
       "      <th></th>\n",
       "      <th></th>\n",
       "      <th></th>\n",
       "      <th></th>\n",
       "      <th></th>\n",
       "      <th></th>\n",
       "      <th></th>\n",
       "      <th></th>\n",
       "      <th></th>\n",
       "      <th></th>\n",
       "      <th></th>\n",
       "      <th></th>\n",
       "      <th></th>\n",
       "      <th></th>\n",
       "      <th></th>\n",
       "      <th></th>\n",
       "      <th></th>\n",
       "      <th></th>\n",
       "      <th></th>\n",
       "    </tr>\n",
       "  </thead>\n",
       "  <tbody>\n",
       "    <tr>\n",
       "      <th>1991</th>\n",
       "      <td>797930</td>\n",
       "      <td>223875.0</td>\n",
       "      <td>0.0</td>\n",
       "      <td>3703.0</td>\n",
       "      <td>0.0</td>\n",
       "      <td>466.0</td>\n",
       "      <td>232.0</td>\n",
       "      <td>78905.0</td>\n",
       "      <td>29.0</td>\n",
       "      <td>201413.0</td>\n",
       "      <td>180771.0</td>\n",
       "      <td>15.0</td>\n",
       "      <td>782.0</td>\n",
       "      <td>53.0</td>\n",
       "      <td>22778.0</td>\n",
       "      <td>0.0</td>\n",
       "      <td>5804.0</td>\n",
       "      <td>1856.0</td>\n",
       "      <td>14906.0</td>\n",
       "    </tr>\n",
       "    <tr>\n",
       "      <th>1992</th>\n",
       "      <td>818233</td>\n",
       "      <td>413616.0</td>\n",
       "      <td>0.0</td>\n",
       "      <td>7584.0</td>\n",
       "      <td>0.0</td>\n",
       "      <td>348.0</td>\n",
       "      <td>173.0</td>\n",
       "      <td>79690.0</td>\n",
       "      <td>31.0</td>\n",
       "      <td>200479.0</td>\n",
       "      <td>165537.0</td>\n",
       "      <td>27.0</td>\n",
       "      <td>1177.0</td>\n",
       "      <td>30.0</td>\n",
       "      <td>23522.0</td>\n",
       "      <td>0.0</td>\n",
       "      <td>6963.0</td>\n",
       "      <td>1770.0</td>\n",
       "      <td>24733.0</td>\n",
       "    </tr>\n",
       "    <tr>\n",
       "      <th>1993</th>\n",
       "      <td>807040</td>\n",
       "      <td>446320.0</td>\n",
       "      <td>0.0</td>\n",
       "      <td>8011.0</td>\n",
       "      <td>0.0</td>\n",
       "      <td>338.0</td>\n",
       "      <td>191.0</td>\n",
       "      <td>86965.0</td>\n",
       "      <td>28.0</td>\n",
       "      <td>210298.0</td>\n",
       "      <td>145025.0</td>\n",
       "      <td>14.0</td>\n",
       "      <td>2115.0</td>\n",
       "      <td>23.0</td>\n",
       "      <td>21198.0</td>\n",
       "      <td>0.0</td>\n",
       "      <td>7058.0</td>\n",
       "      <td>1659.0</td>\n",
       "      <td>37839.0</td>\n",
       "    </tr>\n",
       "    <tr>\n",
       "      <th>1994</th>\n",
       "      <td>793263</td>\n",
       "      <td>578862.0</td>\n",
       "      <td>0.0</td>\n",
       "      <td>8469.0</td>\n",
       "      <td>0.0</td>\n",
       "      <td>333.0</td>\n",
       "      <td>106.0</td>\n",
       "      <td>73082.0</td>\n",
       "      <td>27.0</td>\n",
       "      <td>228321.0</td>\n",
       "      <td>121802.0</td>\n",
       "      <td>8.0</td>\n",
       "      <td>2899.0</td>\n",
       "      <td>12.0</td>\n",
       "      <td>20475.0</td>\n",
       "      <td>0.0</td>\n",
       "      <td>7264.0</td>\n",
       "      <td>1991.0</td>\n",
       "      <td>50262.0</td>\n",
       "    </tr>\n",
       "    <tr>\n",
       "      <th>1995</th>\n",
       "      <td>774977</td>\n",
       "      <td>580125.0</td>\n",
       "      <td>0.0</td>\n",
       "      <td>7132.0</td>\n",
       "      <td>0.0</td>\n",
       "      <td>334.0</td>\n",
       "      <td>249.0</td>\n",
       "      <td>74756.0</td>\n",
       "      <td>24.0</td>\n",
       "      <td>243865.0</td>\n",
       "      <td>119454.0</td>\n",
       "      <td>17.0</td>\n",
       "      <td>2239.0</td>\n",
       "      <td>12.0</td>\n",
       "      <td>18398.0</td>\n",
       "      <td>0.0</td>\n",
       "      <td>8375.0</td>\n",
       "      <td>1820.0</td>\n",
       "      <td>49817.0</td>\n",
       "    </tr>\n",
       "  </tbody>\n",
       "</table>\n",
       "</div>"
      ],
      "text/plain": [
       "       Other   Alabama  Arizona  Florida  Idaho  Illinois  Indiana  Kentucky  \\\n",
       "Date                                                                           \n",
       "1991  797930  223875.0      0.0   3703.0    0.0     466.0    232.0   78905.0   \n",
       "1992  818233  413616.0      0.0   7584.0    0.0     348.0    173.0   79690.0   \n",
       "1993  807040  446320.0      0.0   8011.0    0.0     338.0    191.0   86965.0   \n",
       "1994  793263  578862.0      0.0   8469.0    0.0     333.0    106.0   73082.0   \n",
       "1995  774977  580125.0      0.0   7132.0    0.0     334.0    249.0   74756.0   \n",
       "\n",
       "      Maryland  Michigan  Mississippi  Missouri  Nebraska  Nevada  New York  \\\n",
       "Date                                                                          \n",
       "1991      29.0  201413.0     180771.0      15.0     782.0    53.0   22778.0   \n",
       "1992      31.0  200479.0     165537.0      27.0    1177.0    30.0   23522.0   \n",
       "1993      28.0  210298.0     145025.0      14.0    2115.0    23.0   21198.0   \n",
       "1994      27.0  228321.0     121802.0       8.0    2899.0    12.0   20475.0   \n",
       "1995      24.0  243865.0     119454.0      17.0    2239.0    12.0   18398.0   \n",
       "\n",
       "      Oregon   South  Tennessee  Virginia  \n",
       "Date                                       \n",
       "1991     0.0  5804.0     1856.0   14906.0  \n",
       "1992     0.0  6963.0     1770.0   24733.0  \n",
       "1993     0.0  7058.0     1659.0   37839.0  \n",
       "1994     0.0  7264.0     1991.0   50262.0  \n",
       "1995     0.0  8375.0     1820.0   49817.0  "
      ]
     },
     "execution_count": 406,
     "metadata": {},
     "output_type": "execute_result"
    }
   ],
   "source": [
    "ngdf.columns = [c[:c.find(' ',5)] for c in ngdf.columns]\n",
    "ngdf = ngdf.resample('A').sum()\n",
    "ngdf.index = ngdf.index.year\n",
    "ngdf.head()"
   ]
  },
  {
   "cell_type": "markdown",
   "metadata": {},
   "source": [
    "To create a vertical bar chart we can use `.vbar()`. But first we need to create a figure and pass in what is going to be displayed on x-axis."
   ]
  },
  {
   "cell_type": "code",
   "execution_count": 316,
   "metadata": {},
   "outputs": [],
   "source": [
    "p = figure(x_range = ngdf.columns.to_list(), plot_height = 500, title = 'Natural Gas production by state in 2015')\n"
   ]
  },
  {
   "cell_type": "markdown",
   "metadata": {},
   "source": [
    "Now we use `p.vbar()` and pass in the x values, which are the name of the states. We can pass in the location of top of the bars (bar heights) as top."
   ]
  },
  {
   "cell_type": "code",
   "execution_count": 317,
   "metadata": {},
   "outputs": [
    {
     "data": {
      "text/html": [
       "\n",
       "\n",
       "\n",
       "\n",
       "\n",
       "\n",
       "  <div class=\"bk-root\" id=\"007010a0-fc64-4ffa-bc13-d2036cd4bd83\" data-root-id=\"60624\"></div>\n"
      ]
     },
     "metadata": {},
     "output_type": "display_data"
    },
    {
     "data": {
      "application/javascript": [
       "(function(root) {\n",
       "  function embed_document(root) {\n",
       "    \n",
       "  var docs_json = {\"dde6ef32-899d-4f8e-960c-f1f7582a1917\":{\"roots\":{\"references\":[{\"attributes\":{\"below\":[{\"id\":\"60635\"}],\"center\":[{\"id\":\"60637\"},{\"id\":\"60641\"}],\"left\":[{\"id\":\"60638\"}],\"plot_height\":500,\"renderers\":[{\"id\":\"60659\"}],\"title\":{\"id\":\"60625\"},\"toolbar\":{\"id\":\"60649\"},\"x_range\":{\"id\":\"60627\"},\"x_scale\":{\"id\":\"60631\"},\"y_range\":{\"id\":\"60629\"},\"y_scale\":{\"id\":\"60633\"}},\"id\":\"60624\",\"subtype\":\"Figure\",\"type\":\"Plot\"},{\"attributes\":{},\"id\":\"60629\",\"type\":\"DataRange1d\"},{\"attributes\":{\"active_drag\":\"auto\",\"active_inspect\":\"auto\",\"active_multi\":null,\"active_scroll\":\"auto\",\"active_tap\":\"auto\",\"tools\":[{\"id\":\"60642\"},{\"id\":\"60643\"},{\"id\":\"60644\"},{\"id\":\"60645\"},{\"id\":\"60646\"},{\"id\":\"60647\"}]},\"id\":\"60649\",\"type\":\"Toolbar\"},{\"attributes\":{\"axis\":{\"id\":\"60635\"},\"ticker\":null},\"id\":\"60637\",\"type\":\"Grid\"},{\"attributes\":{},\"id\":\"60639\",\"type\":\"BasicTicker\"},{\"attributes\":{},\"id\":\"61543\",\"type\":\"Selection\"},{\"attributes\":{},\"id\":\"60645\",\"type\":\"SaveTool\"},{\"attributes\":{},\"id\":\"61542\",\"type\":\"UnionRenderers\"},{\"attributes\":{\"fill_color\":{\"value\":\"#1f77b4\"},\"line_color\":{\"value\":\"#1f77b4\"},\"top\":{\"field\":\"top\"},\"width\":{\"value\":0.5},\"x\":{\"field\":\"x\"}},\"id\":\"60657\",\"type\":\"VBar\"},{\"attributes\":{\"formatter\":{\"id\":\"61539\"},\"ticker\":{\"id\":\"60636\"}},\"id\":\"60635\",\"type\":\"CategoricalAxis\"},{\"attributes\":{\"data_source\":{\"id\":\"60656\"},\"glyph\":{\"id\":\"60657\"},\"hover_glyph\":null,\"muted_glyph\":null,\"nonselection_glyph\":{\"id\":\"60658\"},\"selection_glyph\":null,\"view\":{\"id\":\"60660\"}},\"id\":\"60659\",\"type\":\"GlyphRenderer\"},{\"attributes\":{},\"id\":\"60647\",\"type\":\"HelpTool\"},{\"attributes\":{},\"id\":\"60636\",\"type\":\"CategoricalTicker\"},{\"attributes\":{\"data\":{\"top\":{\"__ndarray__\":\"AAAAADioIkEAAAAAuIkEQQAAAAAAgFdAAAAAAACdtkAAAAAAANyQQAAAAAAAQKBAAAAAAABRvEAAAAAAQGr3QAAAAAAAgEJAAAAAACBJ+kAAAAAAoGjsQAAAAAAAAAAAAAAAAADQfUAAAAAAAAAAQAAAAACA6tBAAAAAAACAikAAAAAAAFfMQAAAAAAAsbBAAAAAADAm/0A=\",\"dtype\":\"float64\",\"order\":\"little\",\"shape\":[19]},\"x\":[\"Other\",\"Alabama\",\"Arizona\",\"Florida\",\"Idaho\",\"Illinois\",\"Indiana\",\"Kentucky\",\"Maryland\",\"Michigan\",\"Mississippi\",\"Missouri\",\"Nebraska\",\"Nevada\",\"New York\",\"Oregon\",\"South\",\"Tennessee\",\"Virginia\"]},\"selected\":{\"id\":\"61543\"},\"selection_policy\":{\"id\":\"61542\"}},\"id\":\"60656\",\"type\":\"ColumnDataSource\"},{\"attributes\":{},\"id\":\"60631\",\"type\":\"CategoricalScale\"},{\"attributes\":{},\"id\":\"60642\",\"type\":\"PanTool\"},{\"attributes\":{\"axis\":{\"id\":\"60638\"},\"dimension\":1,\"ticker\":null},\"id\":\"60641\",\"type\":\"Grid\"},{\"attributes\":{\"text\":\"Natural Gas production by state in 2015\"},\"id\":\"60625\",\"type\":\"Title\"},{\"attributes\":{\"source\":{\"id\":\"60656\"}},\"id\":\"60660\",\"type\":\"CDSView\"},{\"attributes\":{\"formatter\":{\"id\":\"61537\"},\"ticker\":{\"id\":\"60639\"}},\"id\":\"60638\",\"type\":\"LinearAxis\"},{\"attributes\":{},\"id\":\"61537\",\"type\":\"BasicTickFormatter\"},{\"attributes\":{\"fill_alpha\":{\"value\":0.1},\"fill_color\":{\"value\":\"#1f77b4\"},\"line_alpha\":{\"value\":0.1},\"line_color\":{\"value\":\"#1f77b4\"},\"top\":{\"field\":\"top\"},\"width\":{\"value\":0.5},\"x\":{\"field\":\"x\"}},\"id\":\"60658\",\"type\":\"VBar\"},{\"attributes\":{},\"id\":\"60643\",\"type\":\"WheelZoomTool\"},{\"attributes\":{\"overlay\":{\"id\":\"60648\"}},\"id\":\"60644\",\"type\":\"BoxZoomTool\"},{\"attributes\":{\"factors\":[\"Other\",\"Alabama\",\"Arizona\",\"Florida\",\"Idaho\",\"Illinois\",\"Indiana\",\"Kentucky\",\"Maryland\",\"Michigan\",\"Mississippi\",\"Missouri\",\"Nebraska\",\"Nevada\",\"New York\",\"Oregon\",\"South\",\"Tennessee\",\"Virginia\"]},\"id\":\"60627\",\"type\":\"FactorRange\"},{\"attributes\":{},\"id\":\"61539\",\"type\":\"CategoricalTickFormatter\"},{\"attributes\":{},\"id\":\"60646\",\"type\":\"ResetTool\"},{\"attributes\":{},\"id\":\"60633\",\"type\":\"LinearScale\"},{\"attributes\":{\"bottom_units\":\"screen\",\"fill_alpha\":0.5,\"fill_color\":\"lightgrey\",\"left_units\":\"screen\",\"level\":\"overlay\",\"line_alpha\":1.0,\"line_color\":\"black\",\"line_dash\":[4,4],\"line_width\":2,\"right_units\":\"screen\",\"top_units\":\"screen\"},\"id\":\"60648\",\"type\":\"BoxAnnotation\"}],\"root_ids\":[\"60624\"]},\"title\":\"Bokeh Application\",\"version\":\"2.1.1\"}};\n",
       "  var render_items = [{\"docid\":\"dde6ef32-899d-4f8e-960c-f1f7582a1917\",\"root_ids\":[\"60624\"],\"roots\":{\"60624\":\"007010a0-fc64-4ffa-bc13-d2036cd4bd83\"}}];\n",
       "  root.Bokeh.embed.embed_items_notebook(docs_json, render_items);\n",
       "\n",
       "  }\n",
       "  if (root.Bokeh !== undefined) {\n",
       "    embed_document(root);\n",
       "  } else {\n",
       "    var attempts = 0;\n",
       "    var timer = setInterval(function(root) {\n",
       "      if (root.Bokeh !== undefined) {\n",
       "        clearInterval(timer);\n",
       "        embed_document(root);\n",
       "      } else {\n",
       "        attempts++;\n",
       "        if (attempts > 100) {\n",
       "          clearInterval(timer);\n",
       "          console.log(\"Bokeh: ERROR: Unable to run BokehJS code because BokehJS library is missing\");\n",
       "        }\n",
       "      }\n",
       "    }, 10, root)\n",
       "  }\n",
       "})(window);"
      ],
      "application/vnd.bokehjs_exec.v0+json": ""
     },
     "metadata": {
      "application/vnd.bokehjs_exec.v0+json": {
       "id": "60624"
      }
     },
     "output_type": "display_data"
    }
   ],
   "source": [
    "p.vbar(x = ngdf.columns.to_list(),\n",
    "       top = ngdf.loc[2015,:].values, \n",
    "       width = .5)\n",
    "show(p)"
   ]
  },
  {
   "cell_type": "code",
   "execution_count": 318,
   "metadata": {
    "scrolled": false
   },
   "outputs": [
    {
     "data": {
      "text/html": [
       "\n",
       "\n",
       "\n",
       "\n",
       "\n",
       "\n",
       "  <div class=\"bk-root\" id=\"f5f0fc06-ff43-41f7-95c9-24cc8e983057\" data-root-id=\"60624\"></div>\n"
      ]
     },
     "metadata": {},
     "output_type": "display_data"
    },
    {
     "data": {
      "application/javascript": [
       "(function(root) {\n",
       "  function embed_document(root) {\n",
       "    \n",
       "  var docs_json = {\"99e0216c-9f71-4c9e-b461-d39c3a61a6be\":{\"roots\":{\"references\":[{\"attributes\":{\"below\":[{\"id\":\"60635\"}],\"center\":[{\"id\":\"60637\"},{\"id\":\"60641\"}],\"left\":[{\"id\":\"60638\"}],\"plot_height\":500,\"renderers\":[{\"id\":\"60659\"}],\"title\":{\"id\":\"60625\"},\"toolbar\":{\"id\":\"60649\"},\"x_range\":{\"id\":\"60627\"},\"x_scale\":{\"id\":\"60631\"},\"y_range\":{\"id\":\"60629\"},\"y_scale\":{\"id\":\"60633\"}},\"id\":\"60624\",\"subtype\":\"Figure\",\"type\":\"Plot\"},{\"attributes\":{},\"id\":\"60629\",\"type\":\"DataRange1d\"},{\"attributes\":{\"active_drag\":\"auto\",\"active_inspect\":\"auto\",\"active_multi\":null,\"active_scroll\":\"auto\",\"active_tap\":\"auto\",\"tools\":[{\"id\":\"60642\"},{\"id\":\"60643\"},{\"id\":\"60644\"},{\"id\":\"60645\"},{\"id\":\"60646\"},{\"id\":\"60647\"}]},\"id\":\"60649\",\"type\":\"Toolbar\"},{\"attributes\":{\"axis\":{\"id\":\"60635\"},\"grid_line_color\":null,\"ticker\":null},\"id\":\"60637\",\"type\":\"Grid\"},{\"attributes\":{},\"id\":\"60639\",\"type\":\"BasicTicker\"},{\"attributes\":{},\"id\":\"61543\",\"type\":\"Selection\"},{\"attributes\":{},\"id\":\"60645\",\"type\":\"SaveTool\"},{\"attributes\":{},\"id\":\"61542\",\"type\":\"UnionRenderers\"},{\"attributes\":{\"fill_color\":{\"value\":\"#1f77b4\"},\"line_color\":{\"value\":\"#1f77b4\"},\"top\":{\"field\":\"top\"},\"width\":{\"value\":0.5},\"x\":{\"field\":\"x\"}},\"id\":\"60657\",\"type\":\"VBar\"},{\"attributes\":{\"formatter\":{\"id\":\"61539\"},\"major_label_orientation\":1.0471975511965976,\"ticker\":{\"id\":\"60636\"}},\"id\":\"60635\",\"type\":\"CategoricalAxis\"},{\"attributes\":{\"data_source\":{\"id\":\"60656\"},\"glyph\":{\"id\":\"60657\"},\"hover_glyph\":null,\"muted_glyph\":null,\"nonselection_glyph\":{\"id\":\"60658\"},\"selection_glyph\":null,\"view\":{\"id\":\"60660\"}},\"id\":\"60659\",\"type\":\"GlyphRenderer\"},{\"attributes\":{},\"id\":\"60647\",\"type\":\"HelpTool\"},{\"attributes\":{},\"id\":\"60636\",\"type\":\"CategoricalTicker\"},{\"attributes\":{\"data\":{\"top\":{\"__ndarray__\":\"AAAAADioIkEAAAAAuIkEQQAAAAAAgFdAAAAAAACdtkAAAAAAANyQQAAAAAAAQKBAAAAAAABRvEAAAAAAQGr3QAAAAAAAgEJAAAAAACBJ+kAAAAAAoGjsQAAAAAAAAAAAAAAAAADQfUAAAAAAAAAAQAAAAACA6tBAAAAAAACAikAAAAAAAFfMQAAAAAAAsbBAAAAAADAm/0A=\",\"dtype\":\"float64\",\"order\":\"little\",\"shape\":[19]},\"x\":[\"Other\",\"Alabama\",\"Arizona\",\"Florida\",\"Idaho\",\"Illinois\",\"Indiana\",\"Kentucky\",\"Maryland\",\"Michigan\",\"Mississippi\",\"Missouri\",\"Nebraska\",\"Nevada\",\"New York\",\"Oregon\",\"South\",\"Tennessee\",\"Virginia\"]},\"selected\":{\"id\":\"61543\"},\"selection_policy\":{\"id\":\"61542\"}},\"id\":\"60656\",\"type\":\"ColumnDataSource\"},{\"attributes\":{},\"id\":\"60631\",\"type\":\"CategoricalScale\"},{\"attributes\":{},\"id\":\"60642\",\"type\":\"PanTool\"},{\"attributes\":{\"axis\":{\"id\":\"60638\"},\"dimension\":1,\"ticker\":null},\"id\":\"60641\",\"type\":\"Grid\"},{\"attributes\":{\"text\":\"Natural Gas production by state in 2015\"},\"id\":\"60625\",\"type\":\"Title\"},{\"attributes\":{\"source\":{\"id\":\"60656\"}},\"id\":\"60660\",\"type\":\"CDSView\"},{\"attributes\":{\"formatter\":{\"id\":\"61592\"},\"ticker\":{\"id\":\"60639\"}},\"id\":\"60638\",\"type\":\"LinearAxis\"},{\"attributes\":{\"fill_alpha\":{\"value\":0.1},\"fill_color\":{\"value\":\"#1f77b4\"},\"line_alpha\":{\"value\":0.1},\"line_color\":{\"value\":\"#1f77b4\"},\"top\":{\"field\":\"top\"},\"width\":{\"value\":0.5},\"x\":{\"field\":\"x\"}},\"id\":\"60658\",\"type\":\"VBar\"},{\"attributes\":{},\"id\":\"60643\",\"type\":\"WheelZoomTool\"},{\"attributes\":{\"overlay\":{\"id\":\"60648\"}},\"id\":\"60644\",\"type\":\"BoxZoomTool\"},{\"attributes\":{\"factors\":[\"Other\",\"Alabama\",\"Arizona\",\"Florida\",\"Idaho\",\"Illinois\",\"Indiana\",\"Kentucky\",\"Maryland\",\"Michigan\",\"Mississippi\",\"Missouri\",\"Nebraska\",\"Nevada\",\"New York\",\"Oregon\",\"South\",\"Tennessee\",\"Virginia\"]},\"id\":\"60627\",\"type\":\"FactorRange\"},{\"attributes\":{\"format\":\"%d\"},\"id\":\"61592\",\"type\":\"PrintfTickFormatter\"},{\"attributes\":{},\"id\":\"61539\",\"type\":\"CategoricalTickFormatter\"},{\"attributes\":{},\"id\":\"60646\",\"type\":\"ResetTool\"},{\"attributes\":{},\"id\":\"60633\",\"type\":\"LinearScale\"},{\"attributes\":{\"bottom_units\":\"screen\",\"fill_alpha\":0.5,\"fill_color\":\"lightgrey\",\"left_units\":\"screen\",\"level\":\"overlay\",\"line_alpha\":1.0,\"line_color\":\"black\",\"line_dash\":[4,4],\"line_width\":2,\"right_units\":\"screen\",\"top_units\":\"screen\"},\"id\":\"60648\",\"type\":\"BoxAnnotation\"}],\"root_ids\":[\"60624\"]},\"title\":\"Bokeh Application\",\"version\":\"2.1.1\"}};\n",
       "  var render_items = [{\"docid\":\"99e0216c-9f71-4c9e-b461-d39c3a61a6be\",\"root_ids\":[\"60624\"],\"roots\":{\"60624\":\"f5f0fc06-ff43-41f7-95c9-24cc8e983057\"}}];\n",
       "  root.Bokeh.embed.embed_items_notebook(docs_json, render_items);\n",
       "\n",
       "  }\n",
       "  if (root.Bokeh !== undefined) {\n",
       "    embed_document(root);\n",
       "  } else {\n",
       "    var attempts = 0;\n",
       "    var timer = setInterval(function(root) {\n",
       "      if (root.Bokeh !== undefined) {\n",
       "        clearInterval(timer);\n",
       "        embed_document(root);\n",
       "      } else {\n",
       "        attempts++;\n",
       "        if (attempts > 100) {\n",
       "          clearInterval(timer);\n",
       "          console.log(\"Bokeh: ERROR: Unable to run BokehJS code because BokehJS library is missing\");\n",
       "        }\n",
       "      }\n",
       "    }, 10, root)\n",
       "  }\n",
       "})(window);"
      ],
      "application/vnd.bokehjs_exec.v0+json": ""
     },
     "metadata": {
      "application/vnd.bokehjs_exec.v0+json": {
       "id": "60624"
      }
     },
     "output_type": "display_data"
    }
   ],
   "source": [
    "from bokeh.models import PrintfTickFormatter\n",
    "\n",
    "p.xgrid.grid_line_color = None # remove the vertical grid lines\n",
    "p.xaxis.major_label_orientation = np.pi/3 # Angle of x-axis tick labels (angle is in gradian)\n",
    "p.yaxis.formatter = PrintfTickFormatter(format = \"%d\") # Change tick values formatting to be shown as full numbers\n",
    "show(p)"
   ]
  },
  {
   "cell_type": "markdown",
   "metadata": {},
   "source": [
    "Similarly you can create a horizontal bar chart."
   ]
  },
  {
   "cell_type": "code",
   "execution_count": 327,
   "metadata": {},
   "outputs": [
    {
     "data": {
      "text/html": [
       "\n",
       "\n",
       "\n",
       "\n",
       "\n",
       "\n",
       "  <div class=\"bk-root\" id=\"c37a39ca-b126-41f4-a4a6-9f2e5c5fbbe5\" data-root-id=\"69489\"></div>\n"
      ]
     },
     "metadata": {},
     "output_type": "display_data"
    },
    {
     "data": {
      "application/javascript": [
       "(function(root) {\n",
       "  function embed_document(root) {\n",
       "    \n",
       "  var docs_json = {\"047bc6a8-4cc1-4319-be42-98022d917a1c\":{\"roots\":{\"references\":[{\"attributes\":{\"below\":[{\"id\":\"69500\"}],\"center\":[{\"id\":\"69503\"},{\"id\":\"69506\"}],\"left\":[{\"id\":\"69504\"}],\"plot_height\":500,\"renderers\":[{\"id\":\"69524\"}],\"title\":{\"id\":\"69490\"},\"toolbar\":{\"id\":\"69514\"},\"x_range\":{\"id\":\"69492\"},\"x_scale\":{\"id\":\"69496\"},\"y_range\":{\"id\":\"69494\"},\"y_scale\":{\"id\":\"69498\"}},\"id\":\"69489\",\"subtype\":\"Figure\",\"type\":\"Plot\"},{\"attributes\":{\"text\":\"Natural Gas production by state in 2015\"},\"id\":\"69490\",\"type\":\"Title\"},{\"attributes\":{\"overlay\":{\"id\":\"69513\"}},\"id\":\"69509\",\"type\":\"BoxZoomTool\"},{\"attributes\":{\"fill_color\":{\"value\":\"#1f77b4\"},\"height\":{\"value\":0.5},\"line_color\":{\"value\":\"#1f77b4\"},\"right\":{\"field\":\"right\"},\"y\":{\"field\":\"y\"}},\"id\":\"69522\",\"type\":\"HBar\"},{\"attributes\":{},\"id\":\"70465\",\"type\":\"Selection\"},{\"attributes\":{},\"id\":\"69501\",\"type\":\"BasicTicker\"},{\"attributes\":{\"data\":{\"right\":{\"__ndarray__\":\"AAAAADioIkEAAAAAuIkEQQAAAAAAgFdAAAAAAACdtkAAAAAAANyQQAAAAAAAQKBAAAAAAABRvEAAAAAAQGr3QAAAAAAAgEJAAAAAACBJ+kAAAAAAoGjsQAAAAAAAAAAAAAAAAADQfUAAAAAAAAAAQAAAAACA6tBAAAAAAACAikAAAAAAAFfMQAAAAAAAsbBAAAAAADAm/0A=\",\"dtype\":\"float64\",\"order\":\"little\",\"shape\":[19]},\"y\":[\"Other\",\"Alabama\",\"Arizona\",\"Florida\",\"Idaho\",\"Illinois\",\"Indiana\",\"Kentucky\",\"Maryland\",\"Michigan\",\"Mississippi\",\"Missouri\",\"Nebraska\",\"Nevada\",\"New York\",\"Oregon\",\"South\",\"Tennessee\",\"Virginia\"]},\"selected\":{\"id\":\"70465\"},\"selection_policy\":{\"id\":\"70464\"}},\"id\":\"69521\",\"type\":\"ColumnDataSource\"},{\"attributes\":{\"active_drag\":\"auto\",\"active_inspect\":\"auto\",\"active_multi\":null,\"active_scroll\":\"auto\",\"active_tap\":\"auto\",\"tools\":[{\"id\":\"69507\"},{\"id\":\"69508\"},{\"id\":\"69509\"},{\"id\":\"69510\"},{\"id\":\"69511\"},{\"id\":\"69512\"}]},\"id\":\"69514\",\"type\":\"Toolbar\"},{\"attributes\":{},\"id\":\"69508\",\"type\":\"WheelZoomTool\"},{\"attributes\":{},\"id\":\"69511\",\"type\":\"ResetTool\"},{\"attributes\":{},\"id\":\"69510\",\"type\":\"SaveTool\"},{\"attributes\":{},\"id\":\"69496\",\"type\":\"LinearScale\"},{\"attributes\":{},\"id\":\"69505\",\"type\":\"CategoricalTicker\"},{\"attributes\":{},\"id\":\"69498\",\"type\":\"CategoricalScale\"},{\"attributes\":{},\"id\":\"70464\",\"type\":\"UnionRenderers\"},{\"attributes\":{\"source\":{\"id\":\"69521\"}},\"id\":\"69525\",\"type\":\"CDSView\"},{\"attributes\":{\"factors\":[\"Other\",\"Alabama\",\"Arizona\",\"Florida\",\"Idaho\",\"Illinois\",\"Indiana\",\"Kentucky\",\"Maryland\",\"Michigan\",\"Mississippi\",\"Missouri\",\"Nebraska\",\"Nevada\",\"New York\",\"Oregon\",\"South\",\"Tennessee\",\"Virginia\"]},\"id\":\"69494\",\"type\":\"FactorRange\"},{\"attributes\":{},\"id\":\"69512\",\"type\":\"HelpTool\"},{\"attributes\":{\"data_source\":{\"id\":\"69521\"},\"glyph\":{\"id\":\"69522\"},\"hover_glyph\":null,\"muted_glyph\":null,\"nonselection_glyph\":{\"id\":\"69523\"},\"selection_glyph\":null,\"view\":{\"id\":\"69525\"}},\"id\":\"69524\",\"type\":\"GlyphRenderer\"},{\"attributes\":{\"formatter\":{\"id\":\"69526\"},\"ticker\":{\"id\":\"69501\"}},\"id\":\"69500\",\"type\":\"LinearAxis\"},{\"attributes\":{\"formatter\":{\"id\":\"70460\"},\"ticker\":{\"id\":\"69505\"}},\"id\":\"69504\",\"type\":\"CategoricalAxis\"},{\"attributes\":{\"format\":\"%d\"},\"id\":\"69526\",\"type\":\"PrintfTickFormatter\"},{\"attributes\":{\"bottom_units\":\"screen\",\"fill_alpha\":0.5,\"fill_color\":\"lightgrey\",\"left_units\":\"screen\",\"level\":\"overlay\",\"line_alpha\":1.0,\"line_color\":\"black\",\"line_dash\":[4,4],\"line_width\":2,\"right_units\":\"screen\",\"top_units\":\"screen\"},\"id\":\"69513\",\"type\":\"BoxAnnotation\"},{\"attributes\":{\"axis\":{\"id\":\"69504\"},\"dimension\":1,\"grid_line_color\":null,\"ticker\":null},\"id\":\"69506\",\"type\":\"Grid\"},{\"attributes\":{\"fill_alpha\":{\"value\":0.1},\"fill_color\":{\"value\":\"#1f77b4\"},\"height\":{\"value\":0.5},\"line_alpha\":{\"value\":0.1},\"line_color\":{\"value\":\"#1f77b4\"},\"right\":{\"field\":\"right\"},\"y\":{\"field\":\"y\"}},\"id\":\"69523\",\"type\":\"HBar\"},{\"attributes\":{},\"id\":\"69507\",\"type\":\"PanTool\"},{\"attributes\":{},\"id\":\"69492\",\"type\":\"DataRange1d\"},{\"attributes\":{\"axis\":{\"id\":\"69500\"},\"ticker\":null},\"id\":\"69503\",\"type\":\"Grid\"},{\"attributes\":{},\"id\":\"70460\",\"type\":\"CategoricalTickFormatter\"}],\"root_ids\":[\"69489\"]},\"title\":\"Bokeh Application\",\"version\":\"2.1.1\"}};\n",
       "  var render_items = [{\"docid\":\"047bc6a8-4cc1-4319-be42-98022d917a1c\",\"root_ids\":[\"69489\"],\"roots\":{\"69489\":\"c37a39ca-b126-41f4-a4a6-9f2e5c5fbbe5\"}}];\n",
       "  root.Bokeh.embed.embed_items_notebook(docs_json, render_items);\n",
       "\n",
       "  }\n",
       "  if (root.Bokeh !== undefined) {\n",
       "    embed_document(root);\n",
       "  } else {\n",
       "    var attempts = 0;\n",
       "    var timer = setInterval(function(root) {\n",
       "      if (root.Bokeh !== undefined) {\n",
       "        clearInterval(timer);\n",
       "        embed_document(root);\n",
       "      } else {\n",
       "        attempts++;\n",
       "        if (attempts > 100) {\n",
       "          clearInterval(timer);\n",
       "          console.log(\"Bokeh: ERROR: Unable to run BokehJS code because BokehJS library is missing\");\n",
       "        }\n",
       "      }\n",
       "    }, 10, root)\n",
       "  }\n",
       "})(window);"
      ],
      "application/vnd.bokehjs_exec.v0+json": ""
     },
     "metadata": {
      "application/vnd.bokehjs_exec.v0+json": {
       "id": "69489"
      }
     },
     "output_type": "display_data"
    }
   ],
   "source": [
    "p = figure(y_range = ngdf.columns.to_list(), plot_height = 500, title = 'Natural Gas production by state in 2015')\n",
    "p.hbar(y = ngdf.columns.to_list(),\n",
    "       right = ngdf.loc[2015,:].values, \n",
    "       height = .5)\n",
    "p.ygrid.grid_line_color = None # remove the vertical grid lines\n",
    "p.xaxis.formatter = PrintfTickFormatter(format = \"%d\") # Change tick values formatting to be shown as full numbers\n",
    "show(p)"
   ]
  },
  {
   "cell_type": "markdown",
   "metadata": {},
   "source": [
    "Note the difference between the codes for vertical and horizontal bar charts. In vertical we had to specify `top`, but in horizontal we specified `right`. Also `x` and `y` are swapped."
   ]
  },
  {
   "cell_type": "markdown",
   "metadata": {},
   "source": [
    "## Stacked Bar\n",
    "When we want to have multiple bars stacked over each other. The way this plot is done is slightly different from nromal bar charts. For this plot we need have a list of data for each group of bars in a python dictionary. Let's see it through an example."
   ]
  },
  {
   "cell_type": "markdown",
   "metadata": {},
   "source": [
    "We want to create a horizontal stacked bar chart of natural gas production from 2015 to 2018. So we put the years in a list so we can use them to get the data for each year from the data frame."
   ]
  },
  {
   "cell_type": "code",
   "execution_count": 350,
   "metadata": {},
   "outputs": [],
   "source": [
    "years = [2015,2016,2017,2018]"
   ]
  },
  {
   "cell_type": "markdown",
   "metadata": {},
   "source": [
    "But when we want to pass in a list of years to the plot, bokeh needs them to be in string format. Therefore, we create a list of years in string format."
   ]
  },
  {
   "cell_type": "code",
   "execution_count": 351,
   "metadata": {},
   "outputs": [],
   "source": [
    "yrs_str = [str(y) for y in years]"
   ]
  },
  {
   "cell_type": "markdown",
   "metadata": {},
   "source": [
    "Now we create the input data by first adding a list of states, and then adding to it a list of values for each year."
   ]
  },
  {
   "cell_type": "code",
   "execution_count": 352,
   "metadata": {},
   "outputs": [],
   "source": [
    "data = {'States': ngdf.columns.to_list()}\n",
    "data.update( {str(y):ngdf.loc[y,:].values for y in years})"
   ]
  },
  {
   "cell_type": "markdown",
   "metadata": {},
   "source": [
    "__Note:__ The input data is a python dictionary. Also, years are stored in string format."
   ]
  },
  {
   "cell_type": "markdown",
   "metadata": {},
   "source": [
    "Now we can pass in the data to the plot."
   ]
  },
  {
   "cell_type": "code",
   "execution_count": 353,
   "metadata": {},
   "outputs": [
    {
     "data": {
      "text/html": [
       "\n",
       "\n",
       "\n",
       "\n",
       "\n",
       "\n",
       "  <div class=\"bk-root\" id=\"a5c13058-3783-4d9d-86ba-499348c5669a\" data-root-id=\"79032\"></div>\n"
      ]
     },
     "metadata": {},
     "output_type": "display_data"
    },
    {
     "data": {
      "application/javascript": [
       "(function(root) {\n",
       "  function embed_document(root) {\n",
       "    \n",
       "  var docs_json = {\"d497f7e7-15f8-4947-93b7-8a9ea4440146\":{\"roots\":{\"references\":[{\"attributes\":{\"below\":[{\"id\":\"79043\"}],\"center\":[{\"id\":\"79046\"},{\"id\":\"79049\"},{\"id\":\"79086\"}],\"left\":[{\"id\":\"79047\"}],\"plot_height\":500,\"renderers\":[{\"id\":\"79076\"},{\"id\":\"79092\"},{\"id\":\"79109\"},{\"id\":\"79128\"}],\"title\":{\"id\":\"79033\"},\"toolbar\":{\"id\":\"79057\"},\"x_range\":{\"id\":\"79035\"},\"x_scale\":{\"id\":\"79039\"},\"y_range\":{\"id\":\"79037\"},\"y_scale\":{\"id\":\"79041\"}},\"id\":\"79032\",\"subtype\":\"Figure\",\"type\":\"Plot\"},{\"attributes\":{},\"id\":\"79054\",\"type\":\"ResetTool\"},{\"attributes\":{\"data\":{\"2015\":{\"__ndarray__\":\"AAAAADioIkEAAAAAuIkEQQAAAAAAgFdAAAAAAACdtkAAAAAAANyQQAAAAAAAQKBAAAAAAABRvEAAAAAAQGr3QAAAAAAAgEJAAAAAACBJ+kAAAAAAoGjsQAAAAAAAAAAAAAAAAADQfUAAAAAAAAAAQAAAAACA6tBAAAAAAACAikAAAAAAAFfMQAAAAAAAsbBAAAAAADAm/0A=\",\"dtype\":\"float64\",\"order\":\"little\",\"shape\":[19]},\"2016\":{\"__ndarray__\":\"AAAAAFhzIUEAAAAAcB4EQQAAAAAAgEdAAAAAAACDyEAAAAAAAB6yQAAAAAAADqFAAAAAAAA8uEAAAAAAcF/2QAAAAAAAAEFAAAAAAEDn+EAAAAAAIK/nQAAAAAAAAAAAAAAAAABggEAAAAAAAAAAAAAAAAAAZ8pAAAAAAAAQiUAAAAAAAIB8QAAAAAAAIKxAAAAAAABe/UA=\",\"dtype\":\"float64\",\"order\":\"little\",\"shape\":[19]},\"2017\":{\"__ndarray__\":\"AAAAACo7IEEAAAAAsFACQQAAAAAAgEtAAAAAAAALzUAAAAAAAKCtQAAAAAAApqBAAAAAAAAZt0AAAAAAsKj1QAAAAAAAgEBAAAAAADCM90AAAAAAwMTiQAAAAAAAAAAAAAAAAABgfEAAAAAAAAAAAAAAAAAAQ8ZAAAAAAACwhEAAAAAAAMB9QAAAAAAASKdAAAAAALAv/EA=\",\"dtype\":\"float64\",\"order\":\"little\",\"shape\":[19]},\"2018\":{\"__ndarray__\":\"AAAAAAidHkEAAAAA6AYBQQAAAAAAAEdAAAAAAIAgzkAAAAAAACidQAAAAAAA4qJAAAAAAAC9s0AAAAAAcID0QAAAAAAAADhAAAAAAEDb9UAAAAAAYF3hQAAAAAAAAAAAAAAAAAAge0AAAAAAAAAAAAAAAACAC8dAAAAAAABAf0AAAAAAAKB7QAAAAAAAnqtAAAAAAFA3+0A=\",\"dtype\":\"float64\",\"order\":\"little\",\"shape\":[19]},\"States\":[\"Other\",\"Alabama\",\"Arizona\",\"Florida\",\"Idaho\",\"Illinois\",\"Indiana\",\"Kentucky\",\"Maryland\",\"Michigan\",\"Mississippi\",\"Missouri\",\"Nebraska\",\"Nevada\",\"New York\",\"Oregon\",\"South\",\"Tennessee\",\"Virginia\"]},\"selected\":{\"id\":\"79122\"},\"selection_policy\":{\"id\":\"79121\"}},\"id\":\"79105\",\"type\":\"ColumnDataSource\"},{\"attributes\":{\"items\":[{\"id\":\"79087\"},{\"id\":\"79104\"},{\"id\":\"79123\"},{\"id\":\"79144\"}]},\"id\":\"79086\",\"type\":\"Legend\"},{\"attributes\":{\"axis_label\":\"Production (MMcf)\",\"formatter\":{\"id\":\"79145\"},\"ticker\":{\"id\":\"79044\"}},\"id\":\"79043\",\"type\":\"LinearAxis\"},{\"attributes\":{\"data_source\":{\"id\":\"79124\"},\"glyph\":{\"id\":\"79126\"},\"hover_glyph\":null,\"muted_glyph\":null,\"name\":\"2018\",\"nonselection_glyph\":{\"id\":\"79127\"},\"selection_glyph\":null,\"view\":{\"id\":\"79129\"}},\"id\":\"79128\",\"type\":\"GlyphRenderer\"},{\"attributes\":{\"format\":\"%d\"},\"id\":\"79145\",\"type\":\"PrintfTickFormatter\"},{\"attributes\":{\"fill_color\":{\"value\":\"#80cdc1\"},\"height\":{\"value\":0.5},\"left\":{\"expr\":{\"id\":\"79066\"}},\"line_color\":{\"value\":\"#80cdc1\"},\"right\":{\"expr\":{\"id\":\"79067\"}},\"y\":{\"field\":\"States\"}},\"id\":\"79090\",\"type\":\"HBar\"},{\"attributes\":{\"label\":{\"value\":\"2016\"},\"renderers\":[{\"id\":\"79092\"}]},\"id\":\"79104\",\"type\":\"LegendItem\"},{\"attributes\":{\"source\":{\"id\":\"79088\"}},\"id\":\"79093\",\"type\":\"CDSView\"},{\"attributes\":{},\"id\":\"79121\",\"type\":\"UnionRenderers\"},{\"attributes\":{\"text\":\"Natural Gas production by state in 2015\"},\"id\":\"79033\",\"type\":\"Title\"},{\"attributes\":{\"label\":{\"value\":\"2015\"},\"renderers\":[{\"id\":\"79076\"}]},\"id\":\"79087\",\"type\":\"LegendItem\"},{\"attributes\":{\"formatter\":{\"id\":\"79079\"},\"ticker\":{\"id\":\"79048\"}},\"id\":\"79047\",\"type\":\"CategoricalAxis\"},{\"attributes\":{},\"id\":\"79079\",\"type\":\"CategoricalTickFormatter\"},{\"attributes\":{\"data\":{\"2015\":{\"__ndarray__\":\"AAAAADioIkEAAAAAuIkEQQAAAAAAgFdAAAAAAACdtkAAAAAAANyQQAAAAAAAQKBAAAAAAABRvEAAAAAAQGr3QAAAAAAAgEJAAAAAACBJ+kAAAAAAoGjsQAAAAAAAAAAAAAAAAADQfUAAAAAAAAAAQAAAAACA6tBAAAAAAACAikAAAAAAAFfMQAAAAAAAsbBAAAAAADAm/0A=\",\"dtype\":\"float64\",\"order\":\"little\",\"shape\":[19]},\"2016\":{\"__ndarray__\":\"AAAAAFhzIUEAAAAAcB4EQQAAAAAAgEdAAAAAAACDyEAAAAAAAB6yQAAAAAAADqFAAAAAAAA8uEAAAAAAcF/2QAAAAAAAAEFAAAAAAEDn+EAAAAAAIK/nQAAAAAAAAAAAAAAAAABggEAAAAAAAAAAAAAAAAAAZ8pAAAAAAAAQiUAAAAAAAIB8QAAAAAAAIKxAAAAAAABe/UA=\",\"dtype\":\"float64\",\"order\":\"little\",\"shape\":[19]},\"2017\":{\"__ndarray__\":\"AAAAACo7IEEAAAAAsFACQQAAAAAAgEtAAAAAAAALzUAAAAAAAKCtQAAAAAAApqBAAAAAAAAZt0AAAAAAsKj1QAAAAAAAgEBAAAAAADCM90AAAAAAwMTiQAAAAAAAAAAAAAAAAABgfEAAAAAAAAAAAAAAAAAAQ8ZAAAAAAACwhEAAAAAAAMB9QAAAAAAASKdAAAAAALAv/EA=\",\"dtype\":\"float64\",\"order\":\"little\",\"shape\":[19]},\"2018\":{\"__ndarray__\":\"AAAAAAidHkEAAAAA6AYBQQAAAAAAAEdAAAAAAIAgzkAAAAAAACidQAAAAAAA4qJAAAAAAAC9s0AAAAAAcID0QAAAAAAAADhAAAAAAEDb9UAAAAAAYF3hQAAAAAAAAAAAAAAAAAAge0AAAAAAAAAAAAAAAACAC8dAAAAAAABAf0AAAAAAAKB7QAAAAAAAnqtAAAAAAFA3+0A=\",\"dtype\":\"float64\",\"order\":\"little\",\"shape\":[19]},\"States\":[\"Other\",\"Alabama\",\"Arizona\",\"Florida\",\"Idaho\",\"Illinois\",\"Indiana\",\"Kentucky\",\"Maryland\",\"Michigan\",\"Mississippi\",\"Missouri\",\"Nebraska\",\"Nevada\",\"New York\",\"Oregon\",\"South\",\"Tennessee\",\"Virginia\"]},\"selected\":{\"id\":\"79103\"},\"selection_policy\":{\"id\":\"79102\"}},\"id\":\"79088\",\"type\":\"ColumnDataSource\"},{\"attributes\":{},\"id\":\"79102\",\"type\":\"UnionRenderers\"},{\"attributes\":{\"axis\":{\"id\":\"79043\"},\"ticker\":null},\"id\":\"79046\",\"type\":\"Grid\"},{\"attributes\":{},\"id\":\"79122\",\"type\":\"Selection\"},{\"attributes\":{},\"id\":\"79055\",\"type\":\"HelpTool\"},{\"attributes\":{\"fill_alpha\":{\"value\":0.1},\"fill_color\":{\"value\":\"#a6611a\"},\"height\":{\"value\":0.5},\"left\":{\"expr\":{\"id\":\"79070\"}},\"line_alpha\":{\"value\":0.1},\"line_color\":{\"value\":\"#a6611a\"},\"right\":{\"expr\":{\"id\":\"79071\"}},\"y\":{\"field\":\"States\"}},\"id\":\"79127\",\"type\":\"HBar\"},{\"attributes\":{},\"id\":\"79048\",\"type\":\"CategoricalTicker\"},{\"attributes\":{\"data\":{\"2015\":{\"__ndarray__\":\"AAAAADioIkEAAAAAuIkEQQAAAAAAgFdAAAAAAACdtkAAAAAAANyQQAAAAAAAQKBAAAAAAABRvEAAAAAAQGr3QAAAAAAAgEJAAAAAACBJ+kAAAAAAoGjsQAAAAAAAAAAAAAAAAADQfUAAAAAAAAAAQAAAAACA6tBAAAAAAACAikAAAAAAAFfMQAAAAAAAsbBAAAAAADAm/0A=\",\"dtype\":\"float64\",\"order\":\"little\",\"shape\":[19]},\"2016\":{\"__ndarray__\":\"AAAAAFhzIUEAAAAAcB4EQQAAAAAAgEdAAAAAAACDyEAAAAAAAB6yQAAAAAAADqFAAAAAAAA8uEAAAAAAcF/2QAAAAAAAAEFAAAAAAEDn+EAAAAAAIK/nQAAAAAAAAAAAAAAAAABggEAAAAAAAAAAAAAAAAAAZ8pAAAAAAAAQiUAAAAAAAIB8QAAAAAAAIKxAAAAAAABe/UA=\",\"dtype\":\"float64\",\"order\":\"little\",\"shape\":[19]},\"2017\":{\"__ndarray__\":\"AAAAACo7IEEAAAAAsFACQQAAAAAAgEtAAAAAAAALzUAAAAAAAKCtQAAAAAAApqBAAAAAAAAZt0AAAAAAsKj1QAAAAAAAgEBAAAAAADCM90AAAAAAwMTiQAAAAAAAAAAAAAAAAABgfEAAAAAAAAAAAAAAAAAAQ8ZAAAAAAACwhEAAAAAAAMB9QAAAAAAASKdAAAAAALAv/EA=\",\"dtype\":\"float64\",\"order\":\"little\",\"shape\":[19]},\"2018\":{\"__ndarray__\":\"AAAAAAidHkEAAAAA6AYBQQAAAAAAAEdAAAAAAIAgzkAAAAAAACidQAAAAAAA4qJAAAAAAAC9s0AAAAAAcID0QAAAAAAAADhAAAAAAEDb9UAAAAAAYF3hQAAAAAAAAAAAAAAAAAAge0AAAAAAAAAAAAAAAACAC8dAAAAAAABAf0AAAAAAAKB7QAAAAAAAnqtAAAAAAFA3+0A=\",\"dtype\":\"float64\",\"order\":\"little\",\"shape\":[19]},\"States\":[\"Other\",\"Alabama\",\"Arizona\",\"Florida\",\"Idaho\",\"Illinois\",\"Indiana\",\"Kentucky\",\"Maryland\",\"Michigan\",\"Mississippi\",\"Missouri\",\"Nebraska\",\"Nevada\",\"New York\",\"Oregon\",\"South\",\"Tennessee\",\"Virginia\"]},\"selected\":{\"id\":\"79085\"},\"selection_policy\":{\"id\":\"79084\"}},\"id\":\"79072\",\"type\":\"ColumnDataSource\"},{\"attributes\":{\"data\":{\"2015\":{\"__ndarray__\":\"AAAAADioIkEAAAAAuIkEQQAAAAAAgFdAAAAAAACdtkAAAAAAANyQQAAAAAAAQKBAAAAAAABRvEAAAAAAQGr3QAAAAAAAgEJAAAAAACBJ+kAAAAAAoGjsQAAAAAAAAAAAAAAAAADQfUAAAAAAAAAAQAAAAACA6tBAAAAAAACAikAAAAAAAFfMQAAAAAAAsbBAAAAAADAm/0A=\",\"dtype\":\"float64\",\"order\":\"little\",\"shape\":[19]},\"2016\":{\"__ndarray__\":\"AAAAAFhzIUEAAAAAcB4EQQAAAAAAgEdAAAAAAACDyEAAAAAAAB6yQAAAAAAADqFAAAAAAAA8uEAAAAAAcF/2QAAAAAAAAEFAAAAAAEDn+EAAAAAAIK/nQAAAAAAAAAAAAAAAAABggEAAAAAAAAAAAAAAAAAAZ8pAAAAAAAAQiUAAAAAAAIB8QAAAAAAAIKxAAAAAAABe/UA=\",\"dtype\":\"float64\",\"order\":\"little\",\"shape\":[19]},\"2017\":{\"__ndarray__\":\"AAAAACo7IEEAAAAAsFACQQAAAAAAgEtAAAAAAAALzUAAAAAAAKCtQAAAAAAApqBAAAAAAAAZt0AAAAAAsKj1QAAAAAAAgEBAAAAAADCM90AAAAAAwMTiQAAAAAAAAAAAAAAAAABgfEAAAAAAAAAAAAAAAAAAQ8ZAAAAAAACwhEAAAAAAAMB9QAAAAAAASKdAAAAAALAv/EA=\",\"dtype\":\"float64\",\"order\":\"little\",\"shape\":[19]},\"2018\":{\"__ndarray__\":\"AAAAAAidHkEAAAAA6AYBQQAAAAAAAEdAAAAAAIAgzkAAAAAAACidQAAAAAAA4qJAAAAAAAC9s0AAAAAAcID0QAAAAAAAADhAAAAAAEDb9UAAAAAAYF3hQAAAAAAAAAAAAAAAAAAge0AAAAAAAAAAAAAAAACAC8dAAAAAAABAf0AAAAAAAKB7QAAAAAAAnqtAAAAAAFA3+0A=\",\"dtype\":\"float64\",\"order\":\"little\",\"shape\":[19]},\"States\":[\"Other\",\"Alabama\",\"Arizona\",\"Florida\",\"Idaho\",\"Illinois\",\"Indiana\",\"Kentucky\",\"Maryland\",\"Michigan\",\"Mississippi\",\"Missouri\",\"Nebraska\",\"Nevada\",\"New York\",\"Oregon\",\"South\",\"Tennessee\",\"Virginia\"]},\"selected\":{\"id\":\"79143\"},\"selection_policy\":{\"id\":\"79142\"}},\"id\":\"79124\",\"type\":\"ColumnDataSource\"},{\"attributes\":{\"fields\":[\"2015\",\"2016\"]},\"id\":\"79068\",\"type\":\"Stack\"},{\"attributes\":{\"data_source\":{\"id\":\"79088\"},\"glyph\":{\"id\":\"79090\"},\"hover_glyph\":null,\"muted_glyph\":null,\"name\":\"2016\",\"nonselection_glyph\":{\"id\":\"79091\"},\"selection_glyph\":null,\"view\":{\"id\":\"79093\"}},\"id\":\"79092\",\"type\":\"GlyphRenderer\"},{\"attributes\":{\"bottom_units\":\"screen\",\"fill_alpha\":0.5,\"fill_color\":\"lightgrey\",\"left_units\":\"screen\",\"level\":\"overlay\",\"line_alpha\":1.0,\"line_color\":\"black\",\"line_dash\":[4,4],\"line_width\":2,\"right_units\":\"screen\",\"top_units\":\"screen\"},\"id\":\"79056\",\"type\":\"BoxAnnotation\"},{\"attributes\":{\"factors\":[\"Other\",\"Alabama\",\"Arizona\",\"Florida\",\"Idaho\",\"Illinois\",\"Indiana\",\"Kentucky\",\"Maryland\",\"Michigan\",\"Mississippi\",\"Missouri\",\"Nebraska\",\"Nevada\",\"New York\",\"Oregon\",\"South\",\"Tennessee\",\"Virginia\"]},\"id\":\"79037\",\"type\":\"FactorRange\"},{\"attributes\":{\"fill_color\":{\"value\":\"#dfc27d\"},\"height\":{\"value\":0.5},\"left\":{\"expr\":{\"id\":\"79068\"}},\"line_color\":{\"value\":\"#dfc27d\"},\"right\":{\"expr\":{\"id\":\"79069\"}},\"y\":{\"field\":\"States\"}},\"id\":\"79107\",\"type\":\"HBar\"},{\"attributes\":{\"fill_color\":{\"value\":\"#018571\"},\"height\":{\"value\":0.5},\"left\":{\"expr\":{\"id\":\"79064\"}},\"line_color\":{\"value\":\"#018571\"},\"right\":{\"expr\":{\"id\":\"79065\"}},\"y\":{\"field\":\"States\"}},\"id\":\"79074\",\"type\":\"HBar\"},{\"attributes\":{\"source\":{\"id\":\"79124\"}},\"id\":\"79129\",\"type\":\"CDSView\"},{\"attributes\":{\"fields\":[\"2015\"]},\"id\":\"79065\",\"type\":\"Stack\"},{\"attributes\":{\"label\":{\"value\":\"2017\"},\"renderers\":[{\"id\":\"79109\"}]},\"id\":\"79123\",\"type\":\"LegendItem\"},{\"attributes\":{\"fill_alpha\":{\"value\":0.1},\"fill_color\":{\"value\":\"#dfc27d\"},\"height\":{\"value\":0.5},\"left\":{\"expr\":{\"id\":\"79068\"}},\"line_alpha\":{\"value\":0.1},\"line_color\":{\"value\":\"#dfc27d\"},\"right\":{\"expr\":{\"id\":\"79069\"}},\"y\":{\"field\":\"States\"}},\"id\":\"79108\",\"type\":\"HBar\"},{\"attributes\":{},\"id\":\"79051\",\"type\":\"WheelZoomTool\"},{\"attributes\":{\"fields\":[]},\"id\":\"79064\",\"type\":\"Stack\"},{\"attributes\":{\"fields\":[\"2015\",\"2016\"]},\"id\":\"79067\",\"type\":\"Stack\"},{\"attributes\":{\"fields\":[\"2015\"]},\"id\":\"79066\",\"type\":\"Stack\"},{\"attributes\":{\"fields\":[\"2015\",\"2016\",\"2017\"]},\"id\":\"79069\",\"type\":\"Stack\"},{\"attributes\":{\"fields\":[\"2015\",\"2016\",\"2017\"]},\"id\":\"79070\",\"type\":\"Stack\"},{\"attributes\":{\"axis\":{\"id\":\"79047\"},\"dimension\":1,\"grid_line_color\":null,\"ticker\":null},\"id\":\"79049\",\"type\":\"Grid\"},{\"attributes\":{},\"id\":\"79053\",\"type\":\"SaveTool\"},{\"attributes\":{\"fill_alpha\":{\"value\":0.1},\"fill_color\":{\"value\":\"#80cdc1\"},\"height\":{\"value\":0.5},\"left\":{\"expr\":{\"id\":\"79066\"}},\"line_alpha\":{\"value\":0.1},\"line_color\":{\"value\":\"#80cdc1\"},\"right\":{\"expr\":{\"id\":\"79067\"}},\"y\":{\"field\":\"States\"}},\"id\":\"79091\",\"type\":\"HBar\"},{\"attributes\":{},\"id\":\"79103\",\"type\":\"Selection\"},{\"attributes\":{\"fill_alpha\":{\"value\":0.1},\"fill_color\":{\"value\":\"#018571\"},\"height\":{\"value\":0.5},\"left\":{\"expr\":{\"id\":\"79064\"}},\"line_alpha\":{\"value\":0.1},\"line_color\":{\"value\":\"#018571\"},\"right\":{\"expr\":{\"id\":\"79065\"}},\"y\":{\"field\":\"States\"}},\"id\":\"79075\",\"type\":\"HBar\"},{\"attributes\":{},\"id\":\"79085\",\"type\":\"Selection\"},{\"attributes\":{},\"id\":\"79035\",\"type\":\"DataRange1d\"},{\"attributes\":{},\"id\":\"79039\",\"type\":\"LinearScale\"},{\"attributes\":{\"data_source\":{\"id\":\"79072\"},\"glyph\":{\"id\":\"79074\"},\"hover_glyph\":null,\"muted_glyph\":null,\"name\":\"2015\",\"nonselection_glyph\":{\"id\":\"79075\"},\"selection_glyph\":null,\"view\":{\"id\":\"79077\"}},\"id\":\"79076\",\"type\":\"GlyphRenderer\"},{\"attributes\":{\"source\":{\"id\":\"79105\"}},\"id\":\"79110\",\"type\":\"CDSView\"},{\"attributes\":{\"fill_color\":{\"value\":\"#a6611a\"},\"height\":{\"value\":0.5},\"left\":{\"expr\":{\"id\":\"79070\"}},\"line_color\":{\"value\":\"#a6611a\"},\"right\":{\"expr\":{\"id\":\"79071\"}},\"y\":{\"field\":\"States\"}},\"id\":\"79126\",\"type\":\"HBar\"},{\"attributes\":{\"data_source\":{\"id\":\"79105\"},\"glyph\":{\"id\":\"79107\"},\"hover_glyph\":null,\"muted_glyph\":null,\"name\":\"2017\",\"nonselection_glyph\":{\"id\":\"79108\"},\"selection_glyph\":null,\"view\":{\"id\":\"79110\"}},\"id\":\"79109\",\"type\":\"GlyphRenderer\"},{\"attributes\":{},\"id\":\"79142\",\"type\":\"UnionRenderers\"},{\"attributes\":{},\"id\":\"79041\",\"type\":\"CategoricalScale\"},{\"attributes\":{\"overlay\":{\"id\":\"79056\"}},\"id\":\"79052\",\"type\":\"BoxZoomTool\"},{\"attributes\":{},\"id\":\"79084\",\"type\":\"UnionRenderers\"},{\"attributes\":{},\"id\":\"79143\",\"type\":\"Selection\"},{\"attributes\":{\"label\":{\"value\":\"2018\"},\"renderers\":[{\"id\":\"79128\"}]},\"id\":\"79144\",\"type\":\"LegendItem\"},{\"attributes\":{},\"id\":\"79050\",\"type\":\"PanTool\"},{\"attributes\":{\"source\":{\"id\":\"79072\"}},\"id\":\"79077\",\"type\":\"CDSView\"},{\"attributes\":{},\"id\":\"79044\",\"type\":\"BasicTicker\"},{\"attributes\":{\"fields\":[\"2015\",\"2016\",\"2017\",\"2018\"]},\"id\":\"79071\",\"type\":\"Stack\"},{\"attributes\":{\"active_drag\":\"auto\",\"active_inspect\":\"auto\",\"active_multi\":null,\"active_scroll\":\"auto\",\"active_tap\":\"auto\",\"tools\":[{\"id\":\"79050\"},{\"id\":\"79051\"},{\"id\":\"79052\"},{\"id\":\"79053\"},{\"id\":\"79054\"},{\"id\":\"79055\"}]},\"id\":\"79057\",\"type\":\"Toolbar\"}],\"root_ids\":[\"79032\"]},\"title\":\"Bokeh Application\",\"version\":\"2.1.1\"}};\n",
       "  var render_items = [{\"docid\":\"d497f7e7-15f8-4947-93b7-8a9ea4440146\",\"root_ids\":[\"79032\"],\"roots\":{\"79032\":\"a5c13058-3783-4d9d-86ba-499348c5669a\"}}];\n",
       "  root.Bokeh.embed.embed_items_notebook(docs_json, render_items);\n",
       "\n",
       "  }\n",
       "  if (root.Bokeh !== undefined) {\n",
       "    embed_document(root);\n",
       "  } else {\n",
       "    var attempts = 0;\n",
       "    var timer = setInterval(function(root) {\n",
       "      if (root.Bokeh !== undefined) {\n",
       "        clearInterval(timer);\n",
       "        embed_document(root);\n",
       "      } else {\n",
       "        attempts++;\n",
       "        if (attempts > 100) {\n",
       "          clearInterval(timer);\n",
       "          console.log(\"Bokeh: ERROR: Unable to run BokehJS code because BokehJS library is missing\");\n",
       "        }\n",
       "      }\n",
       "    }, 10, root)\n",
       "  }\n",
       "})(window);"
      ],
      "application/vnd.bokehjs_exec.v0+json": ""
     },
     "metadata": {
      "application/vnd.bokehjs_exec.v0+json": {
       "id": "79032"
      }
     },
     "output_type": "display_data"
    }
   ],
   "source": [
    "from bokeh.palettes import BrBG4\n",
    "\n",
    "p = figure(y_range = ngdf.columns.to_list(), plot_height = 500, title = 'Natural Gas production by state in 2015')\n",
    "p.hbar_stack(yrs_str,\n",
    "             y = 'States',\n",
    "             source = data, \n",
    "             color = BrBG4,\n",
    "             height = .5,\n",
    "            legend_label = yrs_str)\n",
    "\n",
    "p.ygrid.grid_line_color = None # remove the vertical grid lines\n",
    "p.xaxis.formatter = PrintfTickFormatter(format = \"%d\") # Change tick values formatting to be shown as full numbers\n",
    "p.xaxis.axis_label = 'Production (MMcf)' # set x-axis label\n",
    "show(p)"
   ]
  },
  {
   "cell_type": "markdown",
   "metadata": {},
   "source": [
    "# Styling\n",
    "We can put each plot into a variable, then we will have access to properties of the plots and manipulate the way they look."
   ]
  },
  {
   "cell_type": "code",
   "execution_count": 58,
   "metadata": {},
   "outputs": [
    {
     "data": {
      "text/html": [
       "\n",
       "\n",
       "\n",
       "\n",
       "\n",
       "\n",
       "  <div class=\"bk-root\" id=\"a5d7b970-cd07-40fb-8d97-378d74f9f06e\" data-root-id=\"6860\"></div>\n"
      ]
     },
     "metadata": {},
     "output_type": "display_data"
    },
    {
     "data": {
      "application/javascript": [
       "(function(root) {\n",
       "  function embed_document(root) {\n",
       "    \n",
       "  var docs_json = {\"c1629a28-4bfd-4623-b46b-032ac20d5b53\":{\"roots\":{\"references\":[{\"attributes\":{\"below\":[{\"id\":\"6871\"}],\"center\":[{\"id\":\"6874\"},{\"id\":\"6878\"}],\"left\":[{\"id\":\"6875\"}],\"plot_height\":400,\"renderers\":[{\"id\":\"6896\"},{\"id\":\"6901\"}],\"title\":{\"id\":\"6861\"},\"toolbar\":{\"id\":\"6886\"},\"x_range\":{\"id\":\"6863\"},\"x_scale\":{\"id\":\"6867\"},\"y_range\":{\"id\":\"6865\"},\"y_scale\":{\"id\":\"6869\"}},\"id\":\"6860\",\"subtype\":\"Figure\",\"type\":\"Plot\"},{\"attributes\":{},\"id\":\"6880\",\"type\":\"WheelZoomTool\"},{\"attributes\":{},\"id\":\"6863\",\"type\":\"DataRange1d\"},{\"attributes\":{},\"id\":\"6883\",\"type\":\"ResetTool\"},{\"attributes\":{},\"id\":\"6865\",\"type\":\"DataRange1d\"},{\"attributes\":{\"line_alpha\":0.5,\"line_color\":\"orange\",\"line_width\":2,\"x\":{\"field\":\"x\"},\"y\":{\"field\":\"y\"}},\"id\":\"6894\",\"type\":\"Line\"},{\"attributes\":{},\"id\":\"6867\",\"type\":\"LinearScale\"},{\"attributes\":{\"axis\":{\"id\":\"6875\"},\"dimension\":1,\"ticker\":null},\"id\":\"6878\",\"type\":\"Grid\"},{\"attributes\":{\"data\":{\"x\":[0,1,2,3,4,5,6,7,8,9,10,11,12,13,14,15,16,17,18,19,20,21,22,23,24,25,26,27,28,29,30,31,32,33,34,35,36,37,38,39,40,41,42,43,44,45,46,47,48,49,50,51,52,53,54,55,56,57,58,59,60,61,62,63,64,65,66,67,68,69,70,71,72,73,74,75,76,77,78,79,80,81,82,83,84,85,86,87,88,89,90,91,92,93,94,95,96,97,98,99],\"y\":{\"__ndarray__\":\"fk09Gyms2r/kp+9ICUbev0DeoyOv3wTAnp65WaMB77+2j/2XXRkGwDZ29aJD1QzASMix8VzPCMB0MrFF22IRwLMsRBkznhXAsuCr/QVBGcAblTGfVQwXwEzPzRY6wgvASWvaeydtC8CIuZUwVS8SwJyZD0lWBxDAQAxH+c1pEsDKtCrrZH0SwC5NQcxilAvAgAj0RwPIEMBu9Zxdxb4QwABEzBT0QRTAi2FDXCTiFMDehLH0adsTwNZCZ3PszxfA8U6kmOAqGcC0tKXSuhwawEO1KEKwqRzAJw/J2Oa0IMAPoJihkIwjwC2ts40n2yPAUnQtY+lkJMCTUPxb59wfwAwyE4kNzSTAJAk8P1aTJMCBIjhXq9UjwHi1OmmJHSHA/u61+5UcIMCMgAfD0swhwIAZfXvRzCHAV4n8PiK3IMAGxHZkplchwKQrDq/ImR/A5bZduFqJI8DTRDbi/BIgwDGnasgSRxrArYZGlc6eG8DkmgpEyywZwGmhHRCs+xjAEL5257RMHMAhY1gy5PIbwGJPHUiE8hfAnDkLZsF4GcChJkTicPkawMGzkPKyRRvAGj5OfMyJGcAYoWYKvWwUwBlnk2mm9hbA2XZEYw3uFMAhSZjfvxAUwEKmcfX3fxvAS7o3QlktHcA/IkR82rQdwEKmGZZf3R3AuYYGvouPHMCQZAIYa1wiwD8WNEq8RCLAPe5HlbSfI8CZyTi8soAmwPMtUCdCdCXAJ/LGlsv7I8BpfHdoQkolwCsrdPrrmiPA+UxMG0JeJMD+pVxCNzwkwAkHpSvFbibAz7d0SINDI8A5yGWkJpUowAKuNoX5wyjAjbWxzRJgJ8Au7KNUNXErwAv/MnI30ivA4qinpsD5K8BVIb0tgVMqwPlPLGpr1CfAxiPcYTajKMD8FU8DFmgrwL6vP7sPrCjASjKXBoE8JsD5/KD9DCknwGawg1VldSbAuqXtXOGxJcDKmSKC8o8kwGKQZI9kJyTAb+EBEipXIcC6FgTm/9AkwPGscgUZvCLAeHCYzEv5IcD+kjQneGgiwM7ZVgifDyDAmSQ/you/JMA=\",\"dtype\":\"float64\",\"order\":\"little\",\"shape\":[100]}},\"selected\":{\"id\":\"7132\"},\"selection_policy\":{\"id\":\"7131\"}},\"id\":\"6898\",\"type\":\"ColumnDataSource\"},{\"attributes\":{\"axis\":{\"id\":\"6871\"},\"ticker\":null},\"id\":\"6874\",\"type\":\"Grid\"},{\"attributes\":{\"fill_color\":{\"value\":\"orangered\"},\"size\":{\"units\":\"screen\",\"value\":8},\"x\":{\"field\":\"x\"},\"y\":{\"field\":\"y\"}},\"id\":\"6899\",\"type\":\"Circle\"},{\"attributes\":{\"source\":{\"id\":\"6893\"}},\"id\":\"6897\",\"type\":\"CDSView\"},{\"attributes\":{\"text\":\"Plot Title\"},\"id\":\"6861\",\"type\":\"Title\"},{\"attributes\":{\"active_drag\":\"auto\",\"active_inspect\":\"auto\",\"active_multi\":null,\"active_scroll\":\"auto\",\"active_tap\":\"auto\",\"tools\":[{\"id\":\"6879\"},{\"id\":\"6880\"},{\"id\":\"6881\"},{\"id\":\"6882\"},{\"id\":\"6883\"},{\"id\":\"6884\"}]},\"id\":\"6886\",\"type\":\"Toolbar\"},{\"attributes\":{},\"id\":\"7129\",\"type\":\"UnionRenderers\"},{\"attributes\":{},\"id\":\"7124\",\"type\":\"BasicTickFormatter\"},{\"attributes\":{\"line_alpha\":0.1,\"line_color\":\"orange\",\"line_width\":2,\"x\":{\"field\":\"x\"},\"y\":{\"field\":\"y\"}},\"id\":\"6895\",\"type\":\"Line\"},{\"attributes\":{\"source\":{\"id\":\"6898\"}},\"id\":\"6902\",\"type\":\"CDSView\"},{\"attributes\":{},\"id\":\"7132\",\"type\":\"Selection\"},{\"attributes\":{\"overlay\":{\"id\":\"6885\"}},\"id\":\"6881\",\"type\":\"BoxZoomTool\"},{\"attributes\":{},\"id\":\"6876\",\"type\":\"BasicTicker\"},{\"attributes\":{\"data\":{\"x\":[0,1,2,3,4,5,6,7,8,9,10,11,12,13,14,15,16,17,18,19,20,21,22,23,24,25,26,27,28,29,30,31,32,33,34,35,36,37,38,39,40,41,42,43,44,45,46,47,48,49,50,51,52,53,54,55,56,57,58,59,60,61,62,63,64,65,66,67,68,69,70,71,72,73,74,75,76,77,78,79,80,81,82,83,84,85,86,87,88,89,90,91,92,93,94,95,96,97,98,99],\"y\":{\"__ndarray__\":\"fk09Gyms2r/kp+9ICUbev0DeoyOv3wTAnp65WaMB77+2j/2XXRkGwDZ29aJD1QzASMix8VzPCMB0MrFF22IRwLMsRBkznhXAsuCr/QVBGcAblTGfVQwXwEzPzRY6wgvASWvaeydtC8CIuZUwVS8SwJyZD0lWBxDAQAxH+c1pEsDKtCrrZH0SwC5NQcxilAvAgAj0RwPIEMBu9Zxdxb4QwABEzBT0QRTAi2FDXCTiFMDehLH0adsTwNZCZ3PszxfA8U6kmOAqGcC0tKXSuhwawEO1KEKwqRzAJw/J2Oa0IMAPoJihkIwjwC2ts40n2yPAUnQtY+lkJMCTUPxb59wfwAwyE4kNzSTAJAk8P1aTJMCBIjhXq9UjwHi1OmmJHSHA/u61+5UcIMCMgAfD0swhwIAZfXvRzCHAV4n8PiK3IMAGxHZkplchwKQrDq/ImR/A5bZduFqJI8DTRDbi/BIgwDGnasgSRxrArYZGlc6eG8DkmgpEyywZwGmhHRCs+xjAEL5257RMHMAhY1gy5PIbwGJPHUiE8hfAnDkLZsF4GcChJkTicPkawMGzkPKyRRvAGj5OfMyJGcAYoWYKvWwUwBlnk2mm9hbA2XZEYw3uFMAhSZjfvxAUwEKmcfX3fxvAS7o3QlktHcA/IkR82rQdwEKmGZZf3R3AuYYGvouPHMCQZAIYa1wiwD8WNEq8RCLAPe5HlbSfI8CZyTi8soAmwPMtUCdCdCXAJ/LGlsv7I8BpfHdoQkolwCsrdPrrmiPA+UxMG0JeJMD+pVxCNzwkwAkHpSvFbibAz7d0SINDI8A5yGWkJpUowAKuNoX5wyjAjbWxzRJgJ8Au7KNUNXErwAv/MnI30ivA4qinpsD5K8BVIb0tgVMqwPlPLGpr1CfAxiPcYTajKMD8FU8DFmgrwL6vP7sPrCjASjKXBoE8JsD5/KD9DCknwGawg1VldSbAuqXtXOGxJcDKmSKC8o8kwGKQZI9kJyTAb+EBEipXIcC6FgTm/9AkwPGscgUZvCLAeHCYzEv5IcD+kjQneGgiwM7ZVgifDyDAmSQ/you/JMA=\",\"dtype\":\"float64\",\"order\":\"little\",\"shape\":[100]}},\"selected\":{\"id\":\"7130\"},\"selection_policy\":{\"id\":\"7129\"}},\"id\":\"6893\",\"type\":\"ColumnDataSource\"},{\"attributes\":{},\"id\":\"6884\",\"type\":\"HelpTool\"},{\"attributes\":{},\"id\":\"7131\",\"type\":\"UnionRenderers\"},{\"attributes\":{},\"id\":\"7130\",\"type\":\"Selection\"},{\"attributes\":{},\"id\":\"6869\",\"type\":\"LinearScale\"},{\"attributes\":{\"formatter\":{\"id\":\"7124\"},\"ticker\":{\"id\":\"6876\"}},\"id\":\"6875\",\"type\":\"LinearAxis\"},{\"attributes\":{\"fill_alpha\":{\"value\":0.1},\"fill_color\":{\"value\":\"orangered\"},\"line_alpha\":{\"value\":0.1},\"size\":{\"units\":\"screen\",\"value\":8},\"x\":{\"field\":\"x\"},\"y\":{\"field\":\"y\"}},\"id\":\"6900\",\"type\":\"Circle\"},{\"attributes\":{\"data_source\":{\"id\":\"6893\"},\"glyph\":{\"id\":\"6894\"},\"hover_glyph\":null,\"muted_glyph\":null,\"nonselection_glyph\":{\"id\":\"6895\"},\"selection_glyph\":null,\"view\":{\"id\":\"6897\"}},\"id\":\"6896\",\"type\":\"GlyphRenderer\"},{\"attributes\":{\"formatter\":{\"id\":\"7126\"},\"ticker\":{\"id\":\"6872\"}},\"id\":\"6871\",\"type\":\"LinearAxis\"},{\"attributes\":{\"data_source\":{\"id\":\"6898\"},\"glyph\":{\"id\":\"6899\"},\"hover_glyph\":null,\"muted_glyph\":null,\"nonselection_glyph\":{\"id\":\"6900\"},\"selection_glyph\":null,\"view\":{\"id\":\"6902\"}},\"id\":\"6901\",\"type\":\"GlyphRenderer\"},{\"attributes\":{\"bottom_units\":\"screen\",\"fill_alpha\":0.5,\"fill_color\":\"lightgrey\",\"left_units\":\"screen\",\"level\":\"overlay\",\"line_alpha\":1.0,\"line_color\":\"black\",\"line_dash\":[4,4],\"line_width\":2,\"right_units\":\"screen\",\"top_units\":\"screen\"},\"id\":\"6885\",\"type\":\"BoxAnnotation\"},{\"attributes\":{},\"id\":\"7126\",\"type\":\"BasicTickFormatter\"},{\"attributes\":{},\"id\":\"6879\",\"type\":\"PanTool\"},{\"attributes\":{},\"id\":\"6872\",\"type\":\"BasicTicker\"},{\"attributes\":{},\"id\":\"6882\",\"type\":\"SaveTool\"}],\"root_ids\":[\"6860\"]},\"title\":\"Bokeh Application\",\"version\":\"2.1.1\"}};\n",
       "  var render_items = [{\"docid\":\"c1629a28-4bfd-4623-b46b-032ac20d5b53\",\"root_ids\":[\"6860\"],\"roots\":{\"6860\":\"a5d7b970-cd07-40fb-8d97-378d74f9f06e\"}}];\n",
       "  root.Bokeh.embed.embed_items_notebook(docs_json, render_items);\n",
       "\n",
       "  }\n",
       "  if (root.Bokeh !== undefined) {\n",
       "    embed_document(root);\n",
       "  } else {\n",
       "    var attempts = 0;\n",
       "    var timer = setInterval(function(root) {\n",
       "      if (root.Bokeh !== undefined) {\n",
       "        clearInterval(timer);\n",
       "        embed_document(root);\n",
       "      } else {\n",
       "        attempts++;\n",
       "        if (attempts > 100) {\n",
       "          clearInterval(timer);\n",
       "          console.log(\"Bokeh: ERROR: Unable to run BokehJS code because BokehJS library is missing\");\n",
       "        }\n",
       "      }\n",
       "    }, 10, root)\n",
       "  }\n",
       "})(window);"
      ],
      "application/vnd.bokehjs_exec.v0+json": ""
     },
     "metadata": {
      "application/vnd.bokehjs_exec.v0+json": {
       "id": "6860"
      }
     },
     "output_type": "display_data"
    }
   ],
   "source": [
    "p = figure(plot_width=600, plot_height=400,title = 'Plot Title')\n",
    "np.random.seed(2)\n",
    "x = np.arange(100)\n",
    "y = np.random.randn(100).cumsum()\n",
    "r1 = p.line(x,y,line_color='orange',line_width=2,line_alpha=.5)\n",
    "r2 = p.circle(x,y,size=8,fill_color = 'orangered',line_color='black')\n",
    "show(p)"
   ]
  },
  {
   "cell_type": "markdown",
   "metadata": {},
   "source": [
    "The properties can be accessed via `.glyph.<property>`"
   ]
  },
  {
   "cell_type": "code",
   "execution_count": 60,
   "metadata": {
    "scrolled": false
   },
   "outputs": [
    {
     "data": {
      "text/html": [
       "\n",
       "\n",
       "\n",
       "\n",
       "\n",
       "\n",
       "  <div class=\"bk-root\" id=\"5a1fbb1e-41dd-413c-a4e3-1bc1735359cf\" data-root-id=\"6860\"></div>\n"
      ]
     },
     "metadata": {},
     "output_type": "display_data"
    },
    {
     "data": {
      "application/javascript": [
       "(function(root) {\n",
       "  function embed_document(root) {\n",
       "    \n",
       "  var docs_json = {\"b57ee711-f680-46c4-b591-38aedb0a024a\":{\"roots\":{\"references\":[{\"attributes\":{\"below\":[{\"id\":\"6871\"}],\"center\":[{\"id\":\"6874\"},{\"id\":\"6878\"}],\"left\":[{\"id\":\"6875\"}],\"plot_height\":400,\"renderers\":[{\"id\":\"6896\"},{\"id\":\"6901\"}],\"title\":{\"id\":\"6861\"},\"toolbar\":{\"id\":\"6886\"},\"x_range\":{\"id\":\"6863\"},\"x_scale\":{\"id\":\"6867\"},\"y_range\":{\"id\":\"6865\"},\"y_scale\":{\"id\":\"6869\"}},\"id\":\"6860\",\"subtype\":\"Figure\",\"type\":\"Plot\"},{\"attributes\":{},\"id\":\"6880\",\"type\":\"WheelZoomTool\"},{\"attributes\":{},\"id\":\"6863\",\"type\":\"DataRange1d\"},{\"attributes\":{},\"id\":\"6883\",\"type\":\"ResetTool\"},{\"attributes\":{},\"id\":\"6865\",\"type\":\"DataRange1d\"},{\"attributes\":{\"line_alpha\":0.5,\"line_color\":\"green\",\"line_width\":2,\"x\":{\"field\":\"x\"},\"y\":{\"field\":\"y\"}},\"id\":\"6894\",\"type\":\"Line\"},{\"attributes\":{},\"id\":\"6867\",\"type\":\"LinearScale\"},{\"attributes\":{\"axis\":{\"id\":\"6875\"},\"dimension\":1,\"ticker\":null},\"id\":\"6878\",\"type\":\"Grid\"},{\"attributes\":{\"data\":{\"x\":[0,1,2,3,4,5,6,7,8,9,10,11,12,13,14,15,16,17,18,19,20,21,22,23,24,25,26,27,28,29,30,31,32,33,34,35,36,37,38,39,40,41,42,43,44,45,46,47,48,49,50,51,52,53,54,55,56,57,58,59,60,61,62,63,64,65,66,67,68,69,70,71,72,73,74,75,76,77,78,79,80,81,82,83,84,85,86,87,88,89,90,91,92,93,94,95,96,97,98,99],\"y\":{\"__ndarray__\":\"fk09Gyms2r/kp+9ICUbev0DeoyOv3wTAnp65WaMB77+2j/2XXRkGwDZ29aJD1QzASMix8VzPCMB0MrFF22IRwLMsRBkznhXAsuCr/QVBGcAblTGfVQwXwEzPzRY6wgvASWvaeydtC8CIuZUwVS8SwJyZD0lWBxDAQAxH+c1pEsDKtCrrZH0SwC5NQcxilAvAgAj0RwPIEMBu9Zxdxb4QwABEzBT0QRTAi2FDXCTiFMDehLH0adsTwNZCZ3PszxfA8U6kmOAqGcC0tKXSuhwawEO1KEKwqRzAJw/J2Oa0IMAPoJihkIwjwC2ts40n2yPAUnQtY+lkJMCTUPxb59wfwAwyE4kNzSTAJAk8P1aTJMCBIjhXq9UjwHi1OmmJHSHA/u61+5UcIMCMgAfD0swhwIAZfXvRzCHAV4n8PiK3IMAGxHZkplchwKQrDq/ImR/A5bZduFqJI8DTRDbi/BIgwDGnasgSRxrArYZGlc6eG8DkmgpEyywZwGmhHRCs+xjAEL5257RMHMAhY1gy5PIbwGJPHUiE8hfAnDkLZsF4GcChJkTicPkawMGzkPKyRRvAGj5OfMyJGcAYoWYKvWwUwBlnk2mm9hbA2XZEYw3uFMAhSZjfvxAUwEKmcfX3fxvAS7o3QlktHcA/IkR82rQdwEKmGZZf3R3AuYYGvouPHMCQZAIYa1wiwD8WNEq8RCLAPe5HlbSfI8CZyTi8soAmwPMtUCdCdCXAJ/LGlsv7I8BpfHdoQkolwCsrdPrrmiPA+UxMG0JeJMD+pVxCNzwkwAkHpSvFbibAz7d0SINDI8A5yGWkJpUowAKuNoX5wyjAjbWxzRJgJ8Au7KNUNXErwAv/MnI30ivA4qinpsD5K8BVIb0tgVMqwPlPLGpr1CfAxiPcYTajKMD8FU8DFmgrwL6vP7sPrCjASjKXBoE8JsD5/KD9DCknwGawg1VldSbAuqXtXOGxJcDKmSKC8o8kwGKQZI9kJyTAb+EBEipXIcC6FgTm/9AkwPGscgUZvCLAeHCYzEv5IcD+kjQneGgiwM7ZVgifDyDAmSQ/you/JMA=\",\"dtype\":\"float64\",\"order\":\"little\",\"shape\":[100]}},\"selected\":{\"id\":\"7132\"},\"selection_policy\":{\"id\":\"7131\"}},\"id\":\"6898\",\"type\":\"ColumnDataSource\"},{\"attributes\":{\"axis\":{\"id\":\"6871\"},\"ticker\":null},\"id\":\"6874\",\"type\":\"Grid\"},{\"attributes\":{\"fill_color\":{\"value\":\"orangered\"},\"size\":{\"units\":\"screen\",\"value\":8},\"x\":{\"field\":\"x\"},\"y\":{\"field\":\"y\"}},\"id\":\"6899\",\"type\":\"Circle\"},{\"attributes\":{\"source\":{\"id\":\"6893\"}},\"id\":\"6897\",\"type\":\"CDSView\"},{\"attributes\":{\"text\":\"Plot Title\"},\"id\":\"6861\",\"type\":\"Title\"},{\"attributes\":{\"active_drag\":\"auto\",\"active_inspect\":\"auto\",\"active_multi\":null,\"active_scroll\":\"auto\",\"active_tap\":\"auto\",\"tools\":[{\"id\":\"6879\"},{\"id\":\"6880\"},{\"id\":\"6881\"},{\"id\":\"6882\"},{\"id\":\"6883\"},{\"id\":\"6884\"}]},\"id\":\"6886\",\"type\":\"Toolbar\"},{\"attributes\":{},\"id\":\"7129\",\"type\":\"UnionRenderers\"},{\"attributes\":{},\"id\":\"7124\",\"type\":\"BasicTickFormatter\"},{\"attributes\":{\"line_alpha\":0.1,\"line_color\":\"orange\",\"line_width\":2,\"x\":{\"field\":\"x\"},\"y\":{\"field\":\"y\"}},\"id\":\"6895\",\"type\":\"Line\"},{\"attributes\":{\"source\":{\"id\":\"6898\"}},\"id\":\"6902\",\"type\":\"CDSView\"},{\"attributes\":{},\"id\":\"7132\",\"type\":\"Selection\"},{\"attributes\":{\"overlay\":{\"id\":\"6885\"}},\"id\":\"6881\",\"type\":\"BoxZoomTool\"},{\"attributes\":{},\"id\":\"6876\",\"type\":\"BasicTicker\"},{\"attributes\":{\"data\":{\"x\":[0,1,2,3,4,5,6,7,8,9,10,11,12,13,14,15,16,17,18,19,20,21,22,23,24,25,26,27,28,29,30,31,32,33,34,35,36,37,38,39,40,41,42,43,44,45,46,47,48,49,50,51,52,53,54,55,56,57,58,59,60,61,62,63,64,65,66,67,68,69,70,71,72,73,74,75,76,77,78,79,80,81,82,83,84,85,86,87,88,89,90,91,92,93,94,95,96,97,98,99],\"y\":{\"__ndarray__\":\"fk09Gyms2r/kp+9ICUbev0DeoyOv3wTAnp65WaMB77+2j/2XXRkGwDZ29aJD1QzASMix8VzPCMB0MrFF22IRwLMsRBkznhXAsuCr/QVBGcAblTGfVQwXwEzPzRY6wgvASWvaeydtC8CIuZUwVS8SwJyZD0lWBxDAQAxH+c1pEsDKtCrrZH0SwC5NQcxilAvAgAj0RwPIEMBu9Zxdxb4QwABEzBT0QRTAi2FDXCTiFMDehLH0adsTwNZCZ3PszxfA8U6kmOAqGcC0tKXSuhwawEO1KEKwqRzAJw/J2Oa0IMAPoJihkIwjwC2ts40n2yPAUnQtY+lkJMCTUPxb59wfwAwyE4kNzSTAJAk8P1aTJMCBIjhXq9UjwHi1OmmJHSHA/u61+5UcIMCMgAfD0swhwIAZfXvRzCHAV4n8PiK3IMAGxHZkplchwKQrDq/ImR/A5bZduFqJI8DTRDbi/BIgwDGnasgSRxrArYZGlc6eG8DkmgpEyywZwGmhHRCs+xjAEL5257RMHMAhY1gy5PIbwGJPHUiE8hfAnDkLZsF4GcChJkTicPkawMGzkPKyRRvAGj5OfMyJGcAYoWYKvWwUwBlnk2mm9hbA2XZEYw3uFMAhSZjfvxAUwEKmcfX3fxvAS7o3QlktHcA/IkR82rQdwEKmGZZf3R3AuYYGvouPHMCQZAIYa1wiwD8WNEq8RCLAPe5HlbSfI8CZyTi8soAmwPMtUCdCdCXAJ/LGlsv7I8BpfHdoQkolwCsrdPrrmiPA+UxMG0JeJMD+pVxCNzwkwAkHpSvFbibAz7d0SINDI8A5yGWkJpUowAKuNoX5wyjAjbWxzRJgJ8Au7KNUNXErwAv/MnI30ivA4qinpsD5K8BVIb0tgVMqwPlPLGpr1CfAxiPcYTajKMD8FU8DFmgrwL6vP7sPrCjASjKXBoE8JsD5/KD9DCknwGawg1VldSbAuqXtXOGxJcDKmSKC8o8kwGKQZI9kJyTAb+EBEipXIcC6FgTm/9AkwPGscgUZvCLAeHCYzEv5IcD+kjQneGgiwM7ZVgifDyDAmSQ/you/JMA=\",\"dtype\":\"float64\",\"order\":\"little\",\"shape\":[100]}},\"selected\":{\"id\":\"7130\"},\"selection_policy\":{\"id\":\"7129\"}},\"id\":\"6893\",\"type\":\"ColumnDataSource\"},{\"attributes\":{},\"id\":\"6884\",\"type\":\"HelpTool\"},{\"attributes\":{},\"id\":\"7131\",\"type\":\"UnionRenderers\"},{\"attributes\":{},\"id\":\"7130\",\"type\":\"Selection\"},{\"attributes\":{},\"id\":\"6869\",\"type\":\"LinearScale\"},{\"attributes\":{\"formatter\":{\"id\":\"7124\"},\"ticker\":{\"id\":\"6876\"}},\"id\":\"6875\",\"type\":\"LinearAxis\"},{\"attributes\":{\"fill_alpha\":{\"value\":0.1},\"fill_color\":{\"value\":\"orangered\"},\"line_alpha\":{\"value\":0.1},\"size\":{\"units\":\"screen\",\"value\":8},\"x\":{\"field\":\"x\"},\"y\":{\"field\":\"y\"}},\"id\":\"6900\",\"type\":\"Circle\"},{\"attributes\":{\"data_source\":{\"id\":\"6893\"},\"glyph\":{\"id\":\"6894\"},\"hover_glyph\":null,\"muted_glyph\":null,\"nonselection_glyph\":{\"id\":\"6895\"},\"selection_glyph\":null,\"view\":{\"id\":\"6897\"}},\"id\":\"6896\",\"type\":\"GlyphRenderer\"},{\"attributes\":{\"formatter\":{\"id\":\"7126\"},\"ticker\":{\"id\":\"6872\"}},\"id\":\"6871\",\"type\":\"LinearAxis\"},{\"attributes\":{\"data_source\":{\"id\":\"6898\"},\"glyph\":{\"id\":\"6899\"},\"hover_glyph\":null,\"muted_glyph\":null,\"nonselection_glyph\":{\"id\":\"6900\"},\"selection_glyph\":null,\"view\":{\"id\":\"6902\"}},\"id\":\"6901\",\"type\":\"GlyphRenderer\"},{\"attributes\":{\"bottom_units\":\"screen\",\"fill_alpha\":0.5,\"fill_color\":\"lightgrey\",\"left_units\":\"screen\",\"level\":\"overlay\",\"line_alpha\":1.0,\"line_color\":\"black\",\"line_dash\":[4,4],\"line_width\":2,\"right_units\":\"screen\",\"top_units\":\"screen\"},\"id\":\"6885\",\"type\":\"BoxAnnotation\"},{\"attributes\":{},\"id\":\"7126\",\"type\":\"BasicTickFormatter\"},{\"attributes\":{},\"id\":\"6879\",\"type\":\"PanTool\"},{\"attributes\":{},\"id\":\"6872\",\"type\":\"BasicTicker\"},{\"attributes\":{},\"id\":\"6882\",\"type\":\"SaveTool\"}],\"root_ids\":[\"6860\"]},\"title\":\"Bokeh Application\",\"version\":\"2.1.1\"}};\n",
       "  var render_items = [{\"docid\":\"b57ee711-f680-46c4-b591-38aedb0a024a\",\"root_ids\":[\"6860\"],\"roots\":{\"6860\":\"5a1fbb1e-41dd-413c-a4e3-1bc1735359cf\"}}];\n",
       "  root.Bokeh.embed.embed_items_notebook(docs_json, render_items);\n",
       "\n",
       "  }\n",
       "  if (root.Bokeh !== undefined) {\n",
       "    embed_document(root);\n",
       "  } else {\n",
       "    var attempts = 0;\n",
       "    var timer = setInterval(function(root) {\n",
       "      if (root.Bokeh !== undefined) {\n",
       "        clearInterval(timer);\n",
       "        embed_document(root);\n",
       "      } else {\n",
       "        attempts++;\n",
       "        if (attempts > 100) {\n",
       "          clearInterval(timer);\n",
       "          console.log(\"Bokeh: ERROR: Unable to run BokehJS code because BokehJS library is missing\");\n",
       "        }\n",
       "      }\n",
       "    }, 10, root)\n",
       "  }\n",
       "})(window);"
      ],
      "application/vnd.bokehjs_exec.v0+json": ""
     },
     "metadata": {
      "application/vnd.bokehjs_exec.v0+json": {
       "id": "6860"
      }
     },
     "output_type": "display_data"
    }
   ],
   "source": [
    "r1.glyph.line_color = 'green'\n",
    "show(p)"
   ]
  },
  {
   "cell_type": "markdown",
   "metadata": {},
   "source": [
    "# Bokeh Data Source\n",
    "Bokeh can work with various formats of data including lists, numpy arrays, and pandas data frames. But, behind the scene, all the data is converted into Bokeh's format of data which is called `ColumnDataSource`. While in may cases we can keep using numpy and pandas data formats, in some cases it is useful to manually convert the data to `ColumnDataSource`."
   ]
  },
  {
   "cell_type": "code",
   "execution_count": 64,
   "metadata": {},
   "outputs": [],
   "source": [
    "np.random.seed(12)\n",
    "x = np.arange(100)\n",
    "y = np.random.randn(100).cumsum()\n",
    "z = np.random.rand(100)\n",
    "source = ColumnDataSource(data = {'x':x, 'y':y,'z':z})"
   ]
  },
  {
   "cell_type": "markdown",
   "metadata": {},
   "source": [
    "__Note:__ We can also pass in a pandas data frame into `ColumnDataSource`."
   ]
  },
  {
   "cell_type": "markdown",
   "metadata": {},
   "source": [
    "When data is stored in a data source, instead of passing in the variables we only pass in the name of the columns (as a string)."
   ]
  },
  {
   "cell_type": "code",
   "execution_count": 100,
   "metadata": {
    "scrolled": false
   },
   "outputs": [
    {
     "data": {
      "text/html": [
       "\n",
       "\n",
       "\n",
       "\n",
       "\n",
       "\n",
       "  <div class=\"bk-root\" id=\"f0c6d058-9b86-4f70-b49b-de5b98847d9d\" data-root-id=\"16751\"></div>\n"
      ]
     },
     "metadata": {},
     "output_type": "display_data"
    },
    {
     "data": {
      "application/javascript": [
       "(function(root) {\n",
       "  function embed_document(root) {\n",
       "    \n",
       "  var docs_json = {\"ea9fc5a7-78f0-4da3-ba66-4dfa962d71d0\":{\"roots\":{\"references\":[{\"attributes\":{\"below\":[{\"id\":\"16760\"}],\"center\":[{\"id\":\"16763\"},{\"id\":\"16767\"}],\"left\":[{\"id\":\"16764\"}],\"plot_height\":400,\"renderers\":[{\"id\":\"16785\"}],\"title\":{\"id\":\"17218\"},\"toolbar\":{\"id\":\"16775\"},\"x_range\":{\"id\":\"16752\"},\"x_scale\":{\"id\":\"16756\"},\"y_range\":{\"id\":\"16754\"},\"y_scale\":{\"id\":\"16758\"}},\"id\":\"16751\",\"subtype\":\"Figure\",\"type\":\"Plot\"},{\"attributes\":{},\"id\":\"16758\",\"type\":\"LinearScale\"},{\"attributes\":{},\"id\":\"16765\",\"type\":\"BasicTicker\"},{\"attributes\":{\"source\":{\"id\":\"7954\"}},\"id\":\"16786\",\"type\":\"CDSView\"},{\"attributes\":{},\"id\":\"16752\",\"type\":\"DataRange1d\"},{\"attributes\":{\"data_source\":{\"id\":\"7954\"},\"glyph\":{\"id\":\"16783\"},\"hover_glyph\":null,\"muted_glyph\":null,\"nonselection_glyph\":{\"id\":\"16784\"},\"selection_glyph\":null,\"view\":{\"id\":\"16786\"}},\"id\":\"16785\",\"type\":\"GlyphRenderer\"},{\"attributes\":{},\"id\":\"17220\",\"type\":\"BasicTickFormatter\"},{\"attributes\":{},\"id\":\"16768\",\"type\":\"PanTool\"},{\"attributes\":{},\"id\":\"16754\",\"type\":\"DataRange1d\"},{\"attributes\":{},\"id\":\"16772\",\"type\":\"ResetTool\"},{\"attributes\":{\"text\":\"\"},\"id\":\"17218\",\"type\":\"Title\"},{\"attributes\":{},\"id\":\"16761\",\"type\":\"BasicTicker\"},{\"attributes\":{},\"id\":\"16769\",\"type\":\"WheelZoomTool\"},{\"attributes\":{\"fill_color\":{\"value\":\"#1f77b4\"},\"line_color\":{\"value\":\"#1f77b4\"},\"x\":{\"field\":\"x\"},\"y\":{\"field\":\"y\"}},\"id\":\"16783\",\"type\":\"Circle\"},{\"attributes\":{\"axis\":{\"id\":\"16760\"},\"ticker\":null},\"id\":\"16763\",\"type\":\"Grid\"},{\"attributes\":{},\"id\":\"16756\",\"type\":\"LinearScale\"},{\"attributes\":{},\"id\":\"16771\",\"type\":\"SaveTool\"},{\"attributes\":{\"bottom_units\":\"screen\",\"fill_alpha\":0.5,\"fill_color\":\"lightgrey\",\"left_units\":\"screen\",\"level\":\"overlay\",\"line_alpha\":1.0,\"line_color\":\"black\",\"line_dash\":[4,4],\"line_width\":2,\"right_units\":\"screen\",\"top_units\":\"screen\"},\"id\":\"16774\",\"type\":\"BoxAnnotation\"},{\"attributes\":{\"axis\":{\"id\":\"16764\"},\"dimension\":1,\"ticker\":null},\"id\":\"16767\",\"type\":\"Grid\"},{\"attributes\":{\"formatter\":{\"id\":\"17220\"},\"ticker\":{\"id\":\"16765\"}},\"id\":\"16764\",\"type\":\"LinearAxis\"},{\"attributes\":{},\"id\":\"8323\",\"type\":\"Selection\"},{\"attributes\":{},\"id\":\"17222\",\"type\":\"BasicTickFormatter\"},{\"attributes\":{},\"id\":\"8322\",\"type\":\"UnionRenderers\"},{\"attributes\":{\"data\":{\"x\":[0,1,2,3,4,5,6,7,8,9,10,11,12,13,14,15,16,17,18,19,20,21,22,23,24,25,26,27,28,29,30,31,32,33,34,35,36,37,38,39,40,41,42,43,44,45,46,47,48,49,50,51,52,53,54,55,56,57,58,59,60,61,62,63,64,65,66,67,68,69,70,71,72,73,74,75,76,77,78,79,80,81,82,83,84,85,86,87,88,89,90,91,92,93,94,95,96,97,98,99],\"y\":{\"__ndarray__\":\"BiJuXWZF3j8AUI/aKa7Kv+Ru2TBgaKE/q5buj/Oq+r9DQ7wfKDztv4BmVAMmlgPA5y6N8qWLA8AaWEjf34EEwPHTj8mS9grAqOIeubLo37/7HEJy24rxv/kkhMNY9+O/QmAkmnM13j87wGfh78fnvxco9XelLOM/AGQamP2H3j8IksvTQtX3P2OJWSUbbOI/tqYHYJwL3b/RsTvb2DDoP1LVVa4XIPQ/uc02c85Y9j/FNW6WrkwAQAJQpMaohARAObAnHQ+R9j+OdlWBgrHpvxg5NWKd4APAmIUE31AXEcBAS+x+GPcZwOY7GZcQjhzAyBXNnCarHsCedPsPTdMewHP3S2gq9x3A/43nwr+AH8CMOpOYX0IgwA2n0UzeHCDAnAUszW8bIsDKpm5f7ogjwDHRDUjMdiPAtSu17+fRJMA1muaHtfYlwJcQwx3pLCbANu7xB/eAI8COITXvzt0iwHqhETioiiPAo3y0gFC2JMD3LwtKJ/EkwI4mTr9XdSDAWv7z7NHAJsDI4gKY1K4lwGNQX5vLNyXAaP8p+ZN7I8BxE5uCdsclwFIAiC7rjCHAXK92Od8YH8Dly2NbhU0fwAWvffjlqR7ALQEMFq3DIMCrv0z1zqkgwIVP1Hoy8yDAZzsaVSwgHsCnQWoL8rEcwB9KnsBlBx3AAgcK81JRGsB9bgcP6xcYwDhBBX3aMxfA4ROf24hRHcBOcNBSnzMZwPSPSg/f3R3A3DV1y9TzIMAxwQZ7uikhwDm7VraSIyDAFA+iCaKlGsDT4ZfA6rIgwCQ/Q1dKgxvASeeQaI33FMDuTZdSBdAWwLQvyzs3nhfA/6j6jsHnGcAjwDjNiFEcwJvUJtOI1iDAC9orA6M3JMArndI+sZ0kwL3bIXq2GSTA1d7OSVtxIMCgCBWQ3nEiwEpWqrbQoCbAjLn61sZVJsDyuVBpjEQnwPLKo4wpjibAPmQWceBZJ8DmLupimd4pwIQcKBhOPyvARvBKt1ukKcAYUqTg5BgpwNbYj8ccCSvA3riBLKpKKcBp3RNmMy8swP60KhLhQS3AIyepO4vcLMA=\",\"dtype\":\"float64\",\"order\":\"little\",\"shape\":[100]},\"z\":{\"__ndarray__\":\"1FtnrpO/1j+Yk3yJHmzVP+CJA1WHuMY/gEj9FA5kgD/AYPScumCFP7M7VO1hHuM/wOnkvN6qtT9+p3+M6DPUP/5tp93r/u4/NWr9ZGP06z+L1GjHhjXtP7jDLOk5v8U/MrokpZRG1D9cBJuep/LOP/g+zWTOa98/hhZfAvxn4T+kMCP19vLZP5rW6UXTwec/2SRC+3WZ5D868gQ6VxnlP7y6AQDDGcM/DhAesAPk5z9+iqgbvYbkP3zyTJk3FtM/9pTUcZAN2D8F7prn1qLvP/ait+/XDdY/OmdxvQD71T+5yrORDKPjPyObqYPfyeM/QATP/AlZiz9IB3HiwGHiP2eArgTA4ug/OZ8LGW9l7j+BVmR41H7mPygfxLCov70/MIvXIaOQzz/uhi0v5M/aP7yj5TiaOeQ/EFlfEL1wuD+qMnN60/rYP1hBtPAdm9Q/BEpmyBgV7z+TTAnEigPvP/cxmXoUyuc/DFX1I+mQ4D8cajDgrQ3FP5BQh3VVYe4/kxT/JJl/7T81psvoBD7sP4Dy4Tu7Iao/I7c0bE/M6D+QtHbY8Ru7Pz50o8AA+ew/eRgzUffP4j/g/Vlpbp7vP1jx0gowb9s/7WefJLsn5D/2ReXzS9foP5ICOYfZoNA/cPku0vlx5D9EwrQ4JXXqP6wCd12IruA/sH5Ht8Mq2z/9RS4V+v3gPyouc+lzRe4/1jxVwgz67z/E+wa/NHjlP0iOySw1ROk/pjuyTSpp7z+kp1UHlh7CP6Bm5Ar86po/lGX57dvi5z8ycKPpFrvjP0AQAKt6Zbk/ElNLPW2z4D+Ppqz+4TzgP8AawmbLSNI/pGBAGdXMzz8ENGeTrhXHP2/fabatruI/vLxo3Jqzwz/7XBvveMbmP+7jGFPmeus/PGPG5FP35T8+LcMt4vfQPygC3N77aNk/MIlTlaBq4D+0HOAjcQfWP21+4gKTdeE/XbgqFav05T8Ax7UbKy7TP/z8W1zYkMs/UwX9WtM56T+rXS8rwdPoP1CBoZIaXaU/MKcH79Cn5D+sD2uvoWjAP0+2topehuE/LuNZ9VGo0j8=\",\"dtype\":\"float64\",\"order\":\"little\",\"shape\":[100]}},\"selected\":{\"id\":\"8323\"},\"selection_policy\":{\"id\":\"8322\"}},\"id\":\"7954\",\"type\":\"ColumnDataSource\"},{\"attributes\":{\"fill_alpha\":{\"value\":0.1},\"fill_color\":{\"value\":\"#1f77b4\"},\"line_alpha\":{\"value\":0.1},\"line_color\":{\"value\":\"#1f77b4\"},\"x\":{\"field\":\"x\"},\"y\":{\"field\":\"y\"}},\"id\":\"16784\",\"type\":\"Circle\"},{\"attributes\":{\"formatter\":{\"id\":\"17222\"},\"ticker\":{\"id\":\"16761\"}},\"id\":\"16760\",\"type\":\"LinearAxis\"},{\"attributes\":{},\"id\":\"16773\",\"type\":\"HelpTool\"},{\"attributes\":{\"overlay\":{\"id\":\"16774\"}},\"id\":\"16770\",\"type\":\"BoxZoomTool\"},{\"attributes\":{\"active_drag\":\"auto\",\"active_inspect\":\"auto\",\"active_multi\":null,\"active_scroll\":\"auto\",\"active_tap\":\"auto\",\"tools\":[{\"id\":\"16768\"},{\"id\":\"16769\"},{\"id\":\"16770\"},{\"id\":\"16771\"},{\"id\":\"16772\"},{\"id\":\"16773\"}]},\"id\":\"16775\",\"type\":\"Toolbar\"}],\"root_ids\":[\"16751\"]},\"title\":\"Bokeh Application\",\"version\":\"2.1.1\"}};\n",
       "  var render_items = [{\"docid\":\"ea9fc5a7-78f0-4da3-ba66-4dfa962d71d0\",\"root_ids\":[\"16751\"],\"roots\":{\"16751\":\"f0c6d058-9b86-4f70-b49b-de5b98847d9d\"}}];\n",
       "  root.Bokeh.embed.embed_items_notebook(docs_json, render_items);\n",
       "\n",
       "  }\n",
       "  if (root.Bokeh !== undefined) {\n",
       "    embed_document(root);\n",
       "  } else {\n",
       "    var attempts = 0;\n",
       "    var timer = setInterval(function(root) {\n",
       "      if (root.Bokeh !== undefined) {\n",
       "        clearInterval(timer);\n",
       "        embed_document(root);\n",
       "      } else {\n",
       "        attempts++;\n",
       "        if (attempts > 100) {\n",
       "          clearInterval(timer);\n",
       "          console.log(\"Bokeh: ERROR: Unable to run BokehJS code because BokehJS library is missing\");\n",
       "        }\n",
       "      }\n",
       "    }, 10, root)\n",
       "  }\n",
       "})(window);"
      ],
      "application/vnd.bokehjs_exec.v0+json": ""
     },
     "metadata": {
      "application/vnd.bokehjs_exec.v0+json": {
       "id": "16751"
      }
     },
     "output_type": "display_data"
    }
   ],
   "source": [
    "p = figure(plot_width = 600, plot_height = 400)\n",
    "p.circle('x','y',source=source)\n",
    "show(p)"
   ]
  },
  {
   "cell_type": "markdown",
   "metadata": {},
   "source": [
    "# Hover Tool\n",
    "Hovertool allows us to see information about data points when we hover the mouse pointer over them. Using data sources allows us to easily define what information should be displayed. Now that we are using data sources we can display any information in the data source by using `@` followed by the name of the column.<br>\n",
    "Before we created a data source with x, y, and z values. Now we are going to display the z value when we hover over a point."
   ]
  },
  {
   "cell_type": "code",
   "execution_count": 101,
   "metadata": {},
   "outputs": [
    {
     "data": {
      "text/html": [
       "\n",
       "\n",
       "\n",
       "\n",
       "\n",
       "\n",
       "  <div class=\"bk-root\" id=\"dc28e08f-520f-47c4-a674-d1473427ba47\" data-root-id=\"17281\"></div>\n"
      ]
     },
     "metadata": {},
     "output_type": "display_data"
    },
    {
     "data": {
      "application/javascript": [
       "(function(root) {\n",
       "  function embed_document(root) {\n",
       "    \n",
       "  var docs_json = {\"3fcaa86b-bed8-456e-ad0d-4ab686038a6b\":{\"roots\":{\"references\":[{\"attributes\":{\"below\":[{\"id\":\"17290\"}],\"center\":[{\"id\":\"17293\"},{\"id\":\"17297\"}],\"left\":[{\"id\":\"17294\"}],\"plot_height\":400,\"renderers\":[{\"id\":\"17317\"}],\"title\":{\"id\":\"17759\"},\"toolbar\":{\"id\":\"17306\"},\"x_range\":{\"id\":\"17282\"},\"x_scale\":{\"id\":\"17286\"},\"y_range\":{\"id\":\"17284\"},\"y_scale\":{\"id\":\"17288\"}},\"id\":\"17281\",\"subtype\":\"Figure\",\"type\":\"Plot\"},{\"attributes\":{},\"id\":\"17298\",\"type\":\"PanTool\"},{\"attributes\":{},\"id\":\"17286\",\"type\":\"LinearScale\"},{\"attributes\":{\"data_source\":{\"id\":\"7954\"},\"glyph\":{\"id\":\"17315\"},\"hover_glyph\":null,\"muted_glyph\":null,\"nonselection_glyph\":{\"id\":\"17316\"},\"selection_glyph\":null,\"view\":{\"id\":\"17318\"}},\"id\":\"17317\",\"type\":\"GlyphRenderer\"},{\"attributes\":{},\"id\":\"17301\",\"type\":\"SaveTool\"},{\"attributes\":{},\"id\":\"17303\",\"type\":\"HelpTool\"},{\"attributes\":{\"axis\":{\"id\":\"17290\"},\"ticker\":null},\"id\":\"17293\",\"type\":\"Grid\"},{\"attributes\":{},\"id\":\"17295\",\"type\":\"BasicTicker\"},{\"attributes\":{},\"id\":\"17282\",\"type\":\"DataRange1d\"},{\"attributes\":{\"bottom_units\":\"screen\",\"fill_alpha\":0.5,\"fill_color\":\"lightgrey\",\"left_units\":\"screen\",\"level\":\"overlay\",\"line_alpha\":1.0,\"line_color\":\"black\",\"line_dash\":[4,4],\"line_width\":2,\"right_units\":\"screen\",\"top_units\":\"screen\"},\"id\":\"17304\",\"type\":\"BoxAnnotation\"},{\"attributes\":{\"axis\":{\"id\":\"17294\"},\"dimension\":1,\"ticker\":null},\"id\":\"17297\",\"type\":\"Grid\"},{\"attributes\":{\"active_drag\":\"auto\",\"active_inspect\":\"auto\",\"active_multi\":null,\"active_scroll\":\"auto\",\"active_tap\":\"auto\",\"tools\":[{\"id\":\"17298\"},{\"id\":\"17299\"},{\"id\":\"17300\"},{\"id\":\"17301\"},{\"id\":\"17302\"},{\"id\":\"17303\"},{\"id\":\"17305\"}]},\"id\":\"17306\",\"type\":\"Toolbar\"},{\"attributes\":{},\"id\":\"17291\",\"type\":\"BasicTicker\"},{\"attributes\":{\"callback\":null,\"tooltips\":\"Z = @z\"},\"id\":\"17305\",\"type\":\"HoverTool\"},{\"attributes\":{\"fill_color\":{\"value\":\"#1f77b4\"},\"line_color\":{\"value\":\"#1f77b4\"},\"size\":{\"units\":\"screen\",\"value\":10},\"x\":{\"field\":\"x\"},\"y\":{\"field\":\"y\"}},\"id\":\"17315\",\"type\":\"Circle\"},{\"attributes\":{\"text\":\"\"},\"id\":\"17759\",\"type\":\"Title\"},{\"attributes\":{\"fill_alpha\":{\"value\":0.1},\"fill_color\":{\"value\":\"#1f77b4\"},\"line_alpha\":{\"value\":0.1},\"line_color\":{\"value\":\"#1f77b4\"},\"size\":{\"units\":\"screen\",\"value\":10},\"x\":{\"field\":\"x\"},\"y\":{\"field\":\"y\"}},\"id\":\"17316\",\"type\":\"Circle\"},{\"attributes\":{},\"id\":\"8323\",\"type\":\"Selection\"},{\"attributes\":{\"formatter\":{\"id\":\"17761\"},\"ticker\":{\"id\":\"17295\"}},\"id\":\"17294\",\"type\":\"LinearAxis\"},{\"attributes\":{},\"id\":\"8322\",\"type\":\"UnionRenderers\"},{\"attributes\":{\"overlay\":{\"id\":\"17304\"}},\"id\":\"17300\",\"type\":\"BoxZoomTool\"},{\"attributes\":{},\"id\":\"17763\",\"type\":\"BasicTickFormatter\"},{\"attributes\":{\"data\":{\"x\":[0,1,2,3,4,5,6,7,8,9,10,11,12,13,14,15,16,17,18,19,20,21,22,23,24,25,26,27,28,29,30,31,32,33,34,35,36,37,38,39,40,41,42,43,44,45,46,47,48,49,50,51,52,53,54,55,56,57,58,59,60,61,62,63,64,65,66,67,68,69,70,71,72,73,74,75,76,77,78,79,80,81,82,83,84,85,86,87,88,89,90,91,92,93,94,95,96,97,98,99],\"y\":{\"__ndarray__\":\"BiJuXWZF3j8AUI/aKa7Kv+Ru2TBgaKE/q5buj/Oq+r9DQ7wfKDztv4BmVAMmlgPA5y6N8qWLA8AaWEjf34EEwPHTj8mS9grAqOIeubLo37/7HEJy24rxv/kkhMNY9+O/QmAkmnM13j87wGfh78fnvxco9XelLOM/AGQamP2H3j8IksvTQtX3P2OJWSUbbOI/tqYHYJwL3b/RsTvb2DDoP1LVVa4XIPQ/uc02c85Y9j/FNW6WrkwAQAJQpMaohARAObAnHQ+R9j+OdlWBgrHpvxg5NWKd4APAmIUE31AXEcBAS+x+GPcZwOY7GZcQjhzAyBXNnCarHsCedPsPTdMewHP3S2gq9x3A/43nwr+AH8CMOpOYX0IgwA2n0UzeHCDAnAUszW8bIsDKpm5f7ogjwDHRDUjMdiPAtSu17+fRJMA1muaHtfYlwJcQwx3pLCbANu7xB/eAI8COITXvzt0iwHqhETioiiPAo3y0gFC2JMD3LwtKJ/EkwI4mTr9XdSDAWv7z7NHAJsDI4gKY1K4lwGNQX5vLNyXAaP8p+ZN7I8BxE5uCdsclwFIAiC7rjCHAXK92Od8YH8Dly2NbhU0fwAWvffjlqR7ALQEMFq3DIMCrv0z1zqkgwIVP1Hoy8yDAZzsaVSwgHsCnQWoL8rEcwB9KnsBlBx3AAgcK81JRGsB9bgcP6xcYwDhBBX3aMxfA4ROf24hRHcBOcNBSnzMZwPSPSg/f3R3A3DV1y9TzIMAxwQZ7uikhwDm7VraSIyDAFA+iCaKlGsDT4ZfA6rIgwCQ/Q1dKgxvASeeQaI33FMDuTZdSBdAWwLQvyzs3nhfA/6j6jsHnGcAjwDjNiFEcwJvUJtOI1iDAC9orA6M3JMArndI+sZ0kwL3bIXq2GSTA1d7OSVtxIMCgCBWQ3nEiwEpWqrbQoCbAjLn61sZVJsDyuVBpjEQnwPLKo4wpjibAPmQWceBZJ8DmLupimd4pwIQcKBhOPyvARvBKt1ukKcAYUqTg5BgpwNbYj8ccCSvA3riBLKpKKcBp3RNmMy8swP60KhLhQS3AIyepO4vcLMA=\",\"dtype\":\"float64\",\"order\":\"little\",\"shape\":[100]},\"z\":{\"__ndarray__\":\"1FtnrpO/1j+Yk3yJHmzVP+CJA1WHuMY/gEj9FA5kgD/AYPScumCFP7M7VO1hHuM/wOnkvN6qtT9+p3+M6DPUP/5tp93r/u4/NWr9ZGP06z+L1GjHhjXtP7jDLOk5v8U/MrokpZRG1D9cBJuep/LOP/g+zWTOa98/hhZfAvxn4T+kMCP19vLZP5rW6UXTwec/2SRC+3WZ5D868gQ6VxnlP7y6AQDDGcM/DhAesAPk5z9+iqgbvYbkP3zyTJk3FtM/9pTUcZAN2D8F7prn1qLvP/ait+/XDdY/OmdxvQD71T+5yrORDKPjPyObqYPfyeM/QATP/AlZiz9IB3HiwGHiP2eArgTA4ug/OZ8LGW9l7j+BVmR41H7mPygfxLCov70/MIvXIaOQzz/uhi0v5M/aP7yj5TiaOeQ/EFlfEL1wuD+qMnN60/rYP1hBtPAdm9Q/BEpmyBgV7z+TTAnEigPvP/cxmXoUyuc/DFX1I+mQ4D8cajDgrQ3FP5BQh3VVYe4/kxT/JJl/7T81psvoBD7sP4Dy4Tu7Iao/I7c0bE/M6D+QtHbY8Ru7Pz50o8AA+ew/eRgzUffP4j/g/Vlpbp7vP1jx0gowb9s/7WefJLsn5D/2ReXzS9foP5ICOYfZoNA/cPku0vlx5D9EwrQ4JXXqP6wCd12IruA/sH5Ht8Mq2z/9RS4V+v3gPyouc+lzRe4/1jxVwgz67z/E+wa/NHjlP0iOySw1ROk/pjuyTSpp7z+kp1UHlh7CP6Bm5Ar86po/lGX57dvi5z8ycKPpFrvjP0AQAKt6Zbk/ElNLPW2z4D+Ppqz+4TzgP8AawmbLSNI/pGBAGdXMzz8ENGeTrhXHP2/fabatruI/vLxo3Jqzwz/7XBvveMbmP+7jGFPmeus/PGPG5FP35T8+LcMt4vfQPygC3N77aNk/MIlTlaBq4D+0HOAjcQfWP21+4gKTdeE/XbgqFav05T8Ax7UbKy7TP/z8W1zYkMs/UwX9WtM56T+rXS8rwdPoP1CBoZIaXaU/MKcH79Cn5D+sD2uvoWjAP0+2topehuE/LuNZ9VGo0j8=\",\"dtype\":\"float64\",\"order\":\"little\",\"shape\":[100]}},\"selected\":{\"id\":\"8323\"},\"selection_policy\":{\"id\":\"8322\"}},\"id\":\"7954\",\"type\":\"ColumnDataSource\"},{\"attributes\":{},\"id\":\"17288\",\"type\":\"LinearScale\"},{\"attributes\":{},\"id\":\"17761\",\"type\":\"BasicTickFormatter\"},{\"attributes\":{\"source\":{\"id\":\"7954\"}},\"id\":\"17318\",\"type\":\"CDSView\"},{\"attributes\":{\"formatter\":{\"id\":\"17763\"},\"ticker\":{\"id\":\"17291\"}},\"id\":\"17290\",\"type\":\"LinearAxis\"},{\"attributes\":{},\"id\":\"17299\",\"type\":\"WheelZoomTool\"},{\"attributes\":{},\"id\":\"17302\",\"type\":\"ResetTool\"},{\"attributes\":{},\"id\":\"17284\",\"type\":\"DataRange1d\"}],\"root_ids\":[\"17281\"]},\"title\":\"Bokeh Application\",\"version\":\"2.1.1\"}};\n",
       "  var render_items = [{\"docid\":\"3fcaa86b-bed8-456e-ad0d-4ab686038a6b\",\"root_ids\":[\"17281\"],\"roots\":{\"17281\":\"dc28e08f-520f-47c4-a674-d1473427ba47\"}}];\n",
       "  root.Bokeh.embed.embed_items_notebook(docs_json, render_items);\n",
       "\n",
       "  }\n",
       "  if (root.Bokeh !== undefined) {\n",
       "    embed_document(root);\n",
       "  } else {\n",
       "    var attempts = 0;\n",
       "    var timer = setInterval(function(root) {\n",
       "      if (root.Bokeh !== undefined) {\n",
       "        clearInterval(timer);\n",
       "        embed_document(root);\n",
       "      } else {\n",
       "        attempts++;\n",
       "        if (attempts > 100) {\n",
       "          clearInterval(timer);\n",
       "          console.log(\"Bokeh: ERROR: Unable to run BokehJS code because BokehJS library is missing\");\n",
       "        }\n",
       "      }\n",
       "    }, 10, root)\n",
       "  }\n",
       "})(window);"
      ],
      "application/vnd.bokehjs_exec.v0+json": ""
     },
     "metadata": {
      "application/vnd.bokehjs_exec.v0+json": {
       "id": "17281"
      }
     },
     "output_type": "display_data"
    }
   ],
   "source": [
    "p = figure(plot_width = 600, plot_height = 400, tooltips = 'Z = @z')\n",
    "p.circle('x','y',size = 10,source=source)\n",
    "show(p)"
   ]
  },
  {
   "cell_type": "markdown",
   "metadata": {},
   "source": [
    "We can also add the hover separately."
   ]
  },
  {
   "cell_type": "code",
   "execution_count": 99,
   "metadata": {},
   "outputs": [
    {
     "data": {
      "text/html": [
       "\n",
       "\n",
       "\n",
       "\n",
       "\n",
       "\n",
       "  <div class=\"bk-root\" id=\"fd305cfd-192a-4321-84db-935296fe0736\" data-root-id=\"16228\"></div>\n"
      ]
     },
     "metadata": {},
     "output_type": "display_data"
    },
    {
     "data": {
      "application/javascript": [
       "(function(root) {\n",
       "  function embed_document(root) {\n",
       "    \n",
       "  var docs_json = {\"90ad0d63-f1c4-4431-b372-da108f485d99\":{\"roots\":{\"references\":[{\"attributes\":{\"below\":[{\"id\":\"16237\"}],\"center\":[{\"id\":\"16240\"},{\"id\":\"16244\"}],\"left\":[{\"id\":\"16241\"}],\"plot_height\":400,\"renderers\":[{\"id\":\"16262\"}],\"title\":{\"id\":\"16688\"},\"toolbar\":{\"id\":\"16252\"},\"x_range\":{\"id\":\"16229\"},\"x_scale\":{\"id\":\"16233\"},\"y_range\":{\"id\":\"16231\"},\"y_scale\":{\"id\":\"16235\"}},\"id\":\"16228\",\"subtype\":\"Figure\",\"type\":\"Plot\"},{\"attributes\":{},\"id\":\"16238\",\"type\":\"BasicTicker\"},{\"attributes\":{\"bottom_units\":\"screen\",\"fill_alpha\":0.5,\"fill_color\":\"lightgrey\",\"left_units\":\"screen\",\"level\":\"overlay\",\"line_alpha\":1.0,\"line_color\":\"black\",\"line_dash\":[4,4],\"line_width\":2,\"right_units\":\"screen\",\"top_units\":\"screen\"},\"id\":\"16251\",\"type\":\"BoxAnnotation\"},{\"attributes\":{\"formatter\":{\"id\":\"16692\"},\"ticker\":{\"id\":\"16238\"}},\"id\":\"16237\",\"type\":\"LinearAxis\"},{\"attributes\":{},\"id\":\"16246\",\"type\":\"WheelZoomTool\"},{\"attributes\":{\"axis\":{\"id\":\"16241\"},\"dimension\":1,\"ticker\":null},\"id\":\"16244\",\"type\":\"Grid\"},{\"attributes\":{},\"id\":\"16242\",\"type\":\"BasicTicker\"},{\"attributes\":{},\"id\":\"16249\",\"type\":\"ResetTool\"},{\"attributes\":{\"source\":{\"id\":\"7954\"}},\"id\":\"16263\",\"type\":\"CDSView\"},{\"attributes\":{\"active_drag\":\"auto\",\"active_inspect\":\"auto\",\"active_multi\":null,\"active_scroll\":\"auto\",\"active_tap\":\"auto\",\"tools\":[{\"id\":\"16245\"},{\"id\":\"16246\"},{\"id\":\"16247\"},{\"id\":\"16248\"},{\"id\":\"16249\"},{\"id\":\"16250\"},{\"id\":\"16264\"}]},\"id\":\"16252\",\"type\":\"Toolbar\"},{\"attributes\":{},\"id\":\"16245\",\"type\":\"PanTool\"},{\"attributes\":{},\"id\":\"16233\",\"type\":\"LinearScale\"},{\"attributes\":{},\"id\":\"16229\",\"type\":\"DataRange1d\"},{\"attributes\":{\"fill_color\":{\"value\":\"#1f77b4\"},\"line_color\":{\"value\":\"#1f77b4\"},\"size\":{\"units\":\"screen\",\"value\":10},\"x\":{\"field\":\"x\"},\"y\":{\"field\":\"y\"}},\"id\":\"16260\",\"type\":\"Circle\"},{\"attributes\":{},\"id\":\"16250\",\"type\":\"HelpTool\"},{\"attributes\":{},\"id\":\"16235\",\"type\":\"LinearScale\"},{\"attributes\":{\"overlay\":{\"id\":\"16251\"}},\"id\":\"16247\",\"type\":\"BoxZoomTool\"},{\"attributes\":{\"callback\":null,\"renderers\":[{\"id\":\"16262\"}],\"tooltips\":\"Z = @z\"},\"id\":\"16264\",\"type\":\"HoverTool\"},{\"attributes\":{},\"id\":\"8323\",\"type\":\"Selection\"},{\"attributes\":{\"axis\":{\"id\":\"16237\"},\"ticker\":null},\"id\":\"16240\",\"type\":\"Grid\"},{\"attributes\":{\"fill_alpha\":{\"value\":0.1},\"fill_color\":{\"value\":\"#1f77b4\"},\"line_alpha\":{\"value\":0.1},\"line_color\":{\"value\":\"#1f77b4\"},\"size\":{\"units\":\"screen\",\"value\":10},\"x\":{\"field\":\"x\"},\"y\":{\"field\":\"y\"}},\"id\":\"16261\",\"type\":\"Circle\"},{\"attributes\":{},\"id\":\"8322\",\"type\":\"UnionRenderers\"},{\"attributes\":{},\"id\":\"16231\",\"type\":\"DataRange1d\"},{\"attributes\":{\"data\":{\"x\":[0,1,2,3,4,5,6,7,8,9,10,11,12,13,14,15,16,17,18,19,20,21,22,23,24,25,26,27,28,29,30,31,32,33,34,35,36,37,38,39,40,41,42,43,44,45,46,47,48,49,50,51,52,53,54,55,56,57,58,59,60,61,62,63,64,65,66,67,68,69,70,71,72,73,74,75,76,77,78,79,80,81,82,83,84,85,86,87,88,89,90,91,92,93,94,95,96,97,98,99],\"y\":{\"__ndarray__\":\"BiJuXWZF3j8AUI/aKa7Kv+Ru2TBgaKE/q5buj/Oq+r9DQ7wfKDztv4BmVAMmlgPA5y6N8qWLA8AaWEjf34EEwPHTj8mS9grAqOIeubLo37/7HEJy24rxv/kkhMNY9+O/QmAkmnM13j87wGfh78fnvxco9XelLOM/AGQamP2H3j8IksvTQtX3P2OJWSUbbOI/tqYHYJwL3b/RsTvb2DDoP1LVVa4XIPQ/uc02c85Y9j/FNW6WrkwAQAJQpMaohARAObAnHQ+R9j+OdlWBgrHpvxg5NWKd4APAmIUE31AXEcBAS+x+GPcZwOY7GZcQjhzAyBXNnCarHsCedPsPTdMewHP3S2gq9x3A/43nwr+AH8CMOpOYX0IgwA2n0UzeHCDAnAUszW8bIsDKpm5f7ogjwDHRDUjMdiPAtSu17+fRJMA1muaHtfYlwJcQwx3pLCbANu7xB/eAI8COITXvzt0iwHqhETioiiPAo3y0gFC2JMD3LwtKJ/EkwI4mTr9XdSDAWv7z7NHAJsDI4gKY1K4lwGNQX5vLNyXAaP8p+ZN7I8BxE5uCdsclwFIAiC7rjCHAXK92Od8YH8Dly2NbhU0fwAWvffjlqR7ALQEMFq3DIMCrv0z1zqkgwIVP1Hoy8yDAZzsaVSwgHsCnQWoL8rEcwB9KnsBlBx3AAgcK81JRGsB9bgcP6xcYwDhBBX3aMxfA4ROf24hRHcBOcNBSnzMZwPSPSg/f3R3A3DV1y9TzIMAxwQZ7uikhwDm7VraSIyDAFA+iCaKlGsDT4ZfA6rIgwCQ/Q1dKgxvASeeQaI33FMDuTZdSBdAWwLQvyzs3nhfA/6j6jsHnGcAjwDjNiFEcwJvUJtOI1iDAC9orA6M3JMArndI+sZ0kwL3bIXq2GSTA1d7OSVtxIMCgCBWQ3nEiwEpWqrbQoCbAjLn61sZVJsDyuVBpjEQnwPLKo4wpjibAPmQWceBZJ8DmLupimd4pwIQcKBhOPyvARvBKt1ukKcAYUqTg5BgpwNbYj8ccCSvA3riBLKpKKcBp3RNmMy8swP60KhLhQS3AIyepO4vcLMA=\",\"dtype\":\"float64\",\"order\":\"little\",\"shape\":[100]},\"z\":{\"__ndarray__\":\"1FtnrpO/1j+Yk3yJHmzVP+CJA1WHuMY/gEj9FA5kgD/AYPScumCFP7M7VO1hHuM/wOnkvN6qtT9+p3+M6DPUP/5tp93r/u4/NWr9ZGP06z+L1GjHhjXtP7jDLOk5v8U/MrokpZRG1D9cBJuep/LOP/g+zWTOa98/hhZfAvxn4T+kMCP19vLZP5rW6UXTwec/2SRC+3WZ5D868gQ6VxnlP7y6AQDDGcM/DhAesAPk5z9+iqgbvYbkP3zyTJk3FtM/9pTUcZAN2D8F7prn1qLvP/ait+/XDdY/OmdxvQD71T+5yrORDKPjPyObqYPfyeM/QATP/AlZiz9IB3HiwGHiP2eArgTA4ug/OZ8LGW9l7j+BVmR41H7mPygfxLCov70/MIvXIaOQzz/uhi0v5M/aP7yj5TiaOeQ/EFlfEL1wuD+qMnN60/rYP1hBtPAdm9Q/BEpmyBgV7z+TTAnEigPvP/cxmXoUyuc/DFX1I+mQ4D8cajDgrQ3FP5BQh3VVYe4/kxT/JJl/7T81psvoBD7sP4Dy4Tu7Iao/I7c0bE/M6D+QtHbY8Ru7Pz50o8AA+ew/eRgzUffP4j/g/Vlpbp7vP1jx0gowb9s/7WefJLsn5D/2ReXzS9foP5ICOYfZoNA/cPku0vlx5D9EwrQ4JXXqP6wCd12IruA/sH5Ht8Mq2z/9RS4V+v3gPyouc+lzRe4/1jxVwgz67z/E+wa/NHjlP0iOySw1ROk/pjuyTSpp7z+kp1UHlh7CP6Bm5Ar86po/lGX57dvi5z8ycKPpFrvjP0AQAKt6Zbk/ElNLPW2z4D+Ppqz+4TzgP8AawmbLSNI/pGBAGdXMzz8ENGeTrhXHP2/fabatruI/vLxo3Jqzwz/7XBvveMbmP+7jGFPmeus/PGPG5FP35T8+LcMt4vfQPygC3N77aNk/MIlTlaBq4D+0HOAjcQfWP21+4gKTdeE/XbgqFav05T8Ax7UbKy7TP/z8W1zYkMs/UwX9WtM56T+rXS8rwdPoP1CBoZIaXaU/MKcH79Cn5D+sD2uvoWjAP0+2topehuE/LuNZ9VGo0j8=\",\"dtype\":\"float64\",\"order\":\"little\",\"shape\":[100]}},\"selected\":{\"id\":\"8323\"},\"selection_policy\":{\"id\":\"8322\"}},\"id\":\"7954\",\"type\":\"ColumnDataSource\"},{\"attributes\":{},\"id\":\"16690\",\"type\":\"BasicTickFormatter\"},{\"attributes\":{\"text\":\"\"},\"id\":\"16688\",\"type\":\"Title\"},{\"attributes\":{\"formatter\":{\"id\":\"16690\"},\"ticker\":{\"id\":\"16242\"}},\"id\":\"16241\",\"type\":\"LinearAxis\"},{\"attributes\":{},\"id\":\"16248\",\"type\":\"SaveTool\"},{\"attributes\":{\"data_source\":{\"id\":\"7954\"},\"glyph\":{\"id\":\"16260\"},\"hover_glyph\":null,\"muted_glyph\":null,\"nonselection_glyph\":{\"id\":\"16261\"},\"selection_glyph\":null,\"view\":{\"id\":\"16263\"}},\"id\":\"16262\",\"type\":\"GlyphRenderer\"},{\"attributes\":{},\"id\":\"16692\",\"type\":\"BasicTickFormatter\"}],\"root_ids\":[\"16228\"]},\"title\":\"Bokeh Application\",\"version\":\"2.1.1\"}};\n",
       "  var render_items = [{\"docid\":\"90ad0d63-f1c4-4431-b372-da108f485d99\",\"root_ids\":[\"16228\"],\"roots\":{\"16228\":\"fd305cfd-192a-4321-84db-935296fe0736\"}}];\n",
       "  root.Bokeh.embed.embed_items_notebook(docs_json, render_items);\n",
       "\n",
       "  }\n",
       "  if (root.Bokeh !== undefined) {\n",
       "    embed_document(root);\n",
       "  } else {\n",
       "    var attempts = 0;\n",
       "    var timer = setInterval(function(root) {\n",
       "      if (root.Bokeh !== undefined) {\n",
       "        clearInterval(timer);\n",
       "        embed_document(root);\n",
       "      } else {\n",
       "        attempts++;\n",
       "        if (attempts > 100) {\n",
       "          clearInterval(timer);\n",
       "          console.log(\"Bokeh: ERROR: Unable to run BokehJS code because BokehJS library is missing\");\n",
       "        }\n",
       "      }\n",
       "    }, 10, root)\n",
       "  }\n",
       "})(window);"
      ],
      "application/vnd.bokehjs_exec.v0+json": ""
     },
     "metadata": {
      "application/vnd.bokehjs_exec.v0+json": {
       "id": "16228"
      }
     },
     "output_type": "display_data"
    }
   ],
   "source": [
    "p = figure(plot_width = 600, plot_height = 400)\n",
    "r = p.circle('x','y',size = 10, source=source)\n",
    "p.add_tools(HoverTool(tooltips='Z = @z',renderers=[r]))\n",
    "show(p)"
   ]
  },
  {
   "cell_type": "markdown",
   "metadata": {},
   "source": [
    "# Transformations\n",
    "Transform obeject are a transformation of columns in the data source. This allows us to transform the data and then pass them to a glyph.<br>\n",
    "Let's see a few examples of transformation.\n"
   ]
  },
  {
   "cell_type": "markdown",
   "metadata": {},
   "source": [
    "## cumsum\n",
    "Cumulative sum of data. This is useful when creating a pie plot. Let's see it through an example:"
   ]
  },
  {
   "cell_type": "markdown",
   "metadata": {},
   "source": [
    "Import Queensland air emission dataset, and create a table containing annual emission of _\"Volatile Organic Compounds\"_ for top 10 suburbs and put the emission of other suburbs under _\"Others\"_."
   ]
  },
  {
   "cell_type": "code",
   "execution_count": 187,
   "metadata": {},
   "outputs": [
    {
     "data": {
      "text/html": [
       "<div>\n",
       "<style scoped>\n",
       "    .dataframe tbody tr th:only-of-type {\n",
       "        vertical-align: middle;\n",
       "    }\n",
       "\n",
       "    .dataframe tbody tr th {\n",
       "        vertical-align: top;\n",
       "    }\n",
       "\n",
       "    .dataframe thead th {\n",
       "        text-align: right;\n",
       "    }\n",
       "</style>\n",
       "<table border=\"1\" class=\"dataframe\">\n",
       "  <thead>\n",
       "    <tr style=\"text-align: right;\">\n",
       "      <th></th>\n",
       "      <th>Total Volatile Organic Compounds</th>\n",
       "    </tr>\n",
       "    <tr>\n",
       "      <th>site_address_suburb</th>\n",
       "      <th></th>\n",
       "    </tr>\n",
       "  </thead>\n",
       "  <tbody>\n",
       "    <tr>\n",
       "      <th>Pinkenba</th>\n",
       "      <td>6.280971e+05</td>\n",
       "    </tr>\n",
       "    <tr>\n",
       "      <th>Surat</th>\n",
       "      <td>3.643645e+05</td>\n",
       "    </tr>\n",
       "    <tr>\n",
       "      <th>Moranbah</th>\n",
       "      <td>2.486396e+05</td>\n",
       "    </tr>\n",
       "    <tr>\n",
       "      <th>Dysart</th>\n",
       "      <td>2.173215e+05</td>\n",
       "    </tr>\n",
       "    <tr>\n",
       "      <th>Arundel</th>\n",
       "      <td>1.830000e+05</td>\n",
       "    </tr>\n",
       "    <tr>\n",
       "      <th>Coomera</th>\n",
       "      <td>1.702800e+05</td>\n",
       "    </tr>\n",
       "    <tr>\n",
       "      <th>North Stradbroke Island</th>\n",
       "      <td>1.537310e+05</td>\n",
       "    </tr>\n",
       "    <tr>\n",
       "      <th>Karrabin</th>\n",
       "      <td>1.237040e+05</td>\n",
       "    </tr>\n",
       "    <tr>\n",
       "      <th>Durham Downs</th>\n",
       "      <td>1.215000e+05</td>\n",
       "    </tr>\n",
       "    <tr>\n",
       "      <th>Injune</th>\n",
       "      <td>1.162193e+05</td>\n",
       "    </tr>\n",
       "    <tr>\n",
       "      <th>Others</th>\n",
       "      <td>3.442064e+06</td>\n",
       "    </tr>\n",
       "  </tbody>\n",
       "</table>\n",
       "</div>"
      ],
      "text/plain": [
       "                         Total Volatile Organic Compounds\n",
       "site_address_suburb                                      \n",
       "Pinkenba                                     6.280971e+05\n",
       "Surat                                        3.643645e+05\n",
       "Moranbah                                     2.486396e+05\n",
       "Dysart                                       2.173215e+05\n",
       "Arundel                                      1.830000e+05\n",
       "Coomera                                      1.702800e+05\n",
       "North Stradbroke Island                      1.537310e+05\n",
       "Karrabin                                     1.237040e+05\n",
       "Durham Downs                                 1.215000e+05\n",
       "Injune                                       1.162193e+05\n",
       "Others                                       3.442064e+06"
      ]
     },
     "execution_count": 187,
     "metadata": {},
     "output_type": "execute_result"
    }
   ],
   "source": [
    "df= pd.read_csv('../../data/processed/npi-2006-qld-air-total-emissions.csv')\n",
    "df = df.pivot_table(columns='substance',values = 'quantity_in_kg', index='site_address_suburb',aggfunc='mean',fill_value=0)\n",
    "data = df.sort_values(by='Total Volatile Organic Compounds',ascending = False)[:10]\n",
    "data = data['Total Volatile Organic Compounds']\n",
    "total_organic = df['Total Volatile Organic Compounds'].sum()\n",
    "data['Others'] = total_organic - data.sum()\n",
    "data = pd.DataFrame(data)\n",
    "data"
   ]
  },
  {
   "cell_type": "markdown",
   "metadata": {},
   "source": [
    "We want to add a seperate color to each suburb, so we use `Category20c`. `Category20c` is a predefined dictionary which contains lists of colors. Depending on how many colors we need we pass in a number as a key and it will return a list of distinct colors. __Note that it only has up to 20 colors.__<br>\n",
    "Let's add a column for the colors:"
   ]
  },
  {
   "cell_type": "code",
   "execution_count": 188,
   "metadata": {},
   "outputs": [],
   "source": [
    "from bokeh.palettes import Category20c\n",
    "\n",
    "data['color'] = Category20c[len(data)]"
   ]
  },
  {
   "cell_type": "markdown",
   "metadata": {},
   "source": [
    "For simplicity, let's rename `Total Volatile Organic Compounds` column to `Organics`."
   ]
  },
  {
   "cell_type": "code",
   "execution_count": 189,
   "metadata": {},
   "outputs": [],
   "source": [
    "\n",
    "data.rename(columns={'Total Volatile Organic Compounds':'Organics'},inplace=True)"
   ]
  },
  {
   "cell_type": "markdown",
   "metadata": {},
   "source": [
    "We want to create a pie chart, so we need the angle of each piece."
   ]
  },
  {
   "cell_type": "code",
   "execution_count": 190,
   "metadata": {},
   "outputs": [],
   "source": [
    "data['angle'] = data['Organics']/data['Organics'].sum()*2*np.pi"
   ]
  },
  {
   "cell_type": "markdown",
   "metadata": {},
   "source": [
    "To create a pie chart, we use a glyph called `wedge` which creates a sector of a circle. We need to pass in the start and end angle. To get the start and end angle we apply `cumsum` to the angle column of the data. `cumsum` has the option to start from zero or start from the first value in the data set.<br>\n",
    "And since `color` is a column in the data we can use it to style the plot."
   ]
  },
  {
   "cell_type": "code",
   "execution_count": null,
   "metadata": {},
   "outputs": [],
   "source": [
    "from bokeh.transform import cumsum"
   ]
  },
  {
   "cell_type": "code",
   "execution_count": 203,
   "metadata": {},
   "outputs": [
    {
     "data": {
      "text/html": [
       "\n",
       "\n",
       "\n",
       "\n",
       "\n",
       "\n",
       "  <div class=\"bk-root\" id=\"95deb8e1-a0df-47b1-b358-aaca2ec558ff\" data-root-id=\"26938\"></div>\n"
      ]
     },
     "metadata": {},
     "output_type": "display_data"
    },
    {
     "data": {
      "application/javascript": [
       "(function(root) {\n",
       "  function embed_document(root) {\n",
       "    \n",
       "  var docs_json = {\"b4bb32fa-c56d-4c1f-9013-f3d901def1a3\":{\"roots\":{\"references\":[{\"attributes\":{\"below\":[{\"id\":\"26947\"}],\"center\":[{\"id\":\"26950\"},{\"id\":\"26954\"}],\"left\":[{\"id\":\"26951\"}],\"plot_height\":500,\"plot_width\":800,\"renderers\":[{\"id\":\"26975\"}],\"title\":{\"id\":\"27543\"},\"toolbar\":{\"id\":\"26962\"},\"x_range\":{\"id\":\"26939\"},\"x_scale\":{\"id\":\"26943\"},\"y_range\":{\"id\":\"26941\"},\"y_scale\":{\"id\":\"26945\"}},\"id\":\"26938\",\"subtype\":\"Figure\",\"type\":\"Plot\"},{\"attributes\":{},\"id\":\"26956\",\"type\":\"WheelZoomTool\"},{\"attributes\":{},\"id\":\"26945\",\"type\":\"LinearScale\"},{\"attributes\":{\"data_source\":{\"id\":\"26971\"},\"glyph\":{\"id\":\"26973\"},\"hover_glyph\":null,\"muted_glyph\":null,\"nonselection_glyph\":{\"id\":\"26974\"},\"selection_glyph\":null,\"view\":{\"id\":\"26976\"}},\"id\":\"26975\",\"type\":\"GlyphRenderer\"},{\"attributes\":{},\"id\":\"26958\",\"type\":\"SaveTool\"},{\"attributes\":{\"bottom_units\":\"screen\",\"fill_alpha\":0.5,\"fill_color\":\"lightgrey\",\"left_units\":\"screen\",\"level\":\"overlay\",\"line_alpha\":1.0,\"line_color\":\"black\",\"line_dash\":[4,4],\"line_width\":2,\"right_units\":\"screen\",\"top_units\":\"screen\"},\"id\":\"26961\",\"type\":\"BoxAnnotation\"},{\"attributes\":{\"overlay\":{\"id\":\"26961\"}},\"id\":\"26957\",\"type\":\"BoxZoomTool\"},{\"attributes\":{\"text\":\"\"},\"id\":\"27543\",\"type\":\"Title\"},{\"attributes\":{},\"id\":\"26955\",\"type\":\"PanTool\"},{\"attributes\":{\"end_angle\":{\"expr\":{\"id\":\"26970\"},\"units\":\"rad\"},\"fill_color\":{\"field\":\"color\"},\"line_color\":{\"value\":\"#1f77b4\"},\"radius\":{\"units\":\"data\",\"value\":0.5},\"start_angle\":{\"expr\":{\"id\":\"26969\"},\"units\":\"rad\"},\"x\":{\"value\":0},\"y\":{\"value\":1}},\"id\":\"26973\",\"type\":\"Wedge\"},{\"attributes\":{},\"id\":\"26939\",\"type\":\"DataRange1d\"},{\"attributes\":{},\"id\":\"27545\",\"type\":\"BasicTickFormatter\"},{\"attributes\":{},\"id\":\"26959\",\"type\":\"ResetTool\"},{\"attributes\":{},\"id\":\"27547\",\"type\":\"BasicTickFormatter\"},{\"attributes\":{},\"id\":\"27551\",\"type\":\"Selection\"},{\"attributes\":{},\"id\":\"26960\",\"type\":\"HelpTool\"},{\"attributes\":{},\"id\":\"26941\",\"type\":\"DataRange1d\"},{\"attributes\":{\"end_angle\":{\"expr\":{\"id\":\"26970\"},\"units\":\"rad\"},\"fill_alpha\":{\"value\":0.1},\"fill_color\":{\"field\":\"color\"},\"line_alpha\":{\"value\":0.1},\"line_color\":{\"value\":\"#1f77b4\"},\"radius\":{\"units\":\"data\",\"value\":0.5},\"start_angle\":{\"expr\":{\"id\":\"26969\"},\"units\":\"rad\"},\"x\":{\"value\":0},\"y\":{\"value\":1}},\"id\":\"26974\",\"type\":\"Wedge\"},{\"attributes\":{\"field\":\"angle\"},\"id\":\"26970\",\"type\":\"CumSum\"},{\"attributes\":{},\"id\":\"27550\",\"type\":\"UnionRenderers\"},{\"attributes\":{\"axis\":{\"id\":\"26947\"},\"ticker\":null},\"id\":\"26950\",\"type\":\"Grid\"},{\"attributes\":{},\"id\":\"26952\",\"type\":\"BasicTicker\"},{\"attributes\":{},\"id\":\"26943\",\"type\":\"LinearScale\"},{\"attributes\":{\"formatter\":{\"id\":\"27545\"},\"ticker\":{\"id\":\"26952\"}},\"id\":\"26951\",\"type\":\"LinearAxis\"},{\"attributes\":{\"data\":{\"Organics\":{\"__ndarray__\":\"AAAAIAIrI0EAAAAAMj0WQZhuEoP8WQ5BAAAAAEyHCkEAAAAAwFYGQQAAAABAyQRBAAAAABjEAkEAAAAAgDP+QAAAAADAqf1AVVVVVbVf/EBD5yL1x0JKQQ==\",\"dtype\":\"float64\",\"order\":\"little\",\"shape\":[11]},\"angle\":{\"__ndarray__\":\"/uHCxAzk5T9bJVI46mXZP7aC83fbVNE/k8oRhgBMzj8mMTODGYPJP25gl3sivcc/o1PBK4RuxT/U8tRv4T7BP8P4ts448MA/GK75g8IzwD8WuBzqwP0NQA==\",\"dtype\":\"float64\",\"order\":\"little\",\"shape\":[11]},\"color\":[\"#3182bd\",\"#6baed6\",\"#9ecae1\",\"#c6dbef\",\"#e6550d\",\"#fd8d3c\",\"#fdae6b\",\"#fdd0a2\",\"#31a354\",\"#74c476\",\"#a1d99b\"],\"site_address_suburb\":[\"Pinkenba\",\"Surat\",\"Moranbah\",\"Dysart\",\"Arundel\",\"Coomera\",\"North Stradbroke Island\",\"Karrabin\",\"Durham Downs\",\"Injune\",\"Others\"]},\"selected\":{\"id\":\"27551\"},\"selection_policy\":{\"id\":\"27550\"}},\"id\":\"26971\",\"type\":\"ColumnDataSource\"},{\"attributes\":{},\"id\":\"26948\",\"type\":\"BasicTicker\"},{\"attributes\":{\"axis\":{\"id\":\"26951\"},\"dimension\":1,\"ticker\":null},\"id\":\"26954\",\"type\":\"Grid\"},{\"attributes\":{\"formatter\":{\"id\":\"27547\"},\"ticker\":{\"id\":\"26948\"}},\"id\":\"26947\",\"type\":\"LinearAxis\"},{\"attributes\":{\"source\":{\"id\":\"26971\"}},\"id\":\"26976\",\"type\":\"CDSView\"},{\"attributes\":{\"field\":\"angle\",\"include_zero\":true},\"id\":\"26969\",\"type\":\"CumSum\"},{\"attributes\":{\"active_drag\":\"auto\",\"active_inspect\":\"auto\",\"active_multi\":null,\"active_scroll\":\"auto\",\"active_tap\":\"auto\",\"tools\":[{\"id\":\"26955\"},{\"id\":\"26956\"},{\"id\":\"26957\"},{\"id\":\"26958\"},{\"id\":\"26959\"},{\"id\":\"26960\"}]},\"id\":\"26962\",\"type\":\"Toolbar\"}],\"root_ids\":[\"26938\"]},\"title\":\"Bokeh Application\",\"version\":\"2.1.1\"}};\n",
       "  var render_items = [{\"docid\":\"b4bb32fa-c56d-4c1f-9013-f3d901def1a3\",\"root_ids\":[\"26938\"],\"roots\":{\"26938\":\"95deb8e1-a0df-47b1-b358-aaca2ec558ff\"}}];\n",
       "  root.Bokeh.embed.embed_items_notebook(docs_json, render_items);\n",
       "\n",
       "  }\n",
       "  if (root.Bokeh !== undefined) {\n",
       "    embed_document(root);\n",
       "  } else {\n",
       "    var attempts = 0;\n",
       "    var timer = setInterval(function(root) {\n",
       "      if (root.Bokeh !== undefined) {\n",
       "        clearInterval(timer);\n",
       "        embed_document(root);\n",
       "      } else {\n",
       "        attempts++;\n",
       "        if (attempts > 100) {\n",
       "          clearInterval(timer);\n",
       "          console.log(\"Bokeh: ERROR: Unable to run BokehJS code because BokehJS library is missing\");\n",
       "        }\n",
       "      }\n",
       "    }, 10, root)\n",
       "  }\n",
       "})(window);"
      ],
      "application/vnd.bokehjs_exec.v0+json": ""
     },
     "metadata": {
      "application/vnd.bokehjs_exec.v0+json": {
       "id": "26938"
      }
     },
     "output_type": "display_data"
    }
   ],
   "source": [
    "p = figure(plot_height = 500,plot_width=800) #tools = 'hover', tooltips='@site_address_suburb: @Organics kg/year'\n",
    "r = p.wedge(x=0,y=1,radius=0.5,source=data,\n",
    "       start_angle = cumsum('angle',include_zero=True), \n",
    "       end_angle=cumsum('angle'),\n",
    "       fill_color = 'color')\n",
    "show(p)"
   ]
  },
  {
   "cell_type": "markdown",
   "metadata": {},
   "source": [
    "Now we can add a hover tooltip to the emission amount for each suburb."
   ]
  },
  {
   "cell_type": "code",
   "execution_count": 204,
   "metadata": {},
   "outputs": [
    {
     "data": {
      "text/html": [
       "\n",
       "\n",
       "\n",
       "\n",
       "\n",
       "\n",
       "  <div class=\"bk-root\" id=\"b4e727d0-f280-4d49-8139-eb7721992621\" data-root-id=\"26938\"></div>\n"
      ]
     },
     "metadata": {},
     "output_type": "display_data"
    },
    {
     "data": {
      "application/javascript": [
       "(function(root) {\n",
       "  function embed_document(root) {\n",
       "    \n",
       "  var docs_json = {\"e5b2ba47-75b1-45e2-afca-eff9a8d6f859\":{\"roots\":{\"references\":[{\"attributes\":{\"below\":[{\"id\":\"26947\"}],\"center\":[{\"id\":\"26950\"},{\"id\":\"26954\"}],\"left\":[{\"id\":\"26951\"}],\"plot_height\":500,\"plot_width\":800,\"renderers\":[{\"id\":\"26975\"}],\"title\":{\"id\":\"27543\"},\"toolbar\":{\"id\":\"26962\"},\"x_range\":{\"id\":\"26939\"},\"x_scale\":{\"id\":\"26943\"},\"y_range\":{\"id\":\"26941\"},\"y_scale\":{\"id\":\"26945\"}},\"id\":\"26938\",\"subtype\":\"Figure\",\"type\":\"Plot\"},{\"attributes\":{},\"id\":\"26956\",\"type\":\"WheelZoomTool\"},{\"attributes\":{},\"id\":\"26945\",\"type\":\"LinearScale\"},{\"attributes\":{\"data_source\":{\"id\":\"26971\"},\"glyph\":{\"id\":\"26973\"},\"hover_glyph\":null,\"muted_glyph\":null,\"nonselection_glyph\":{\"id\":\"26974\"},\"selection_glyph\":null,\"view\":{\"id\":\"26976\"}},\"id\":\"26975\",\"type\":\"GlyphRenderer\"},{\"attributes\":{},\"id\":\"26958\",\"type\":\"SaveTool\"},{\"attributes\":{\"bottom_units\":\"screen\",\"fill_alpha\":0.5,\"fill_color\":\"lightgrey\",\"left_units\":\"screen\",\"level\":\"overlay\",\"line_alpha\":1.0,\"line_color\":\"black\",\"line_dash\":[4,4],\"line_width\":2,\"right_units\":\"screen\",\"top_units\":\"screen\"},\"id\":\"26961\",\"type\":\"BoxAnnotation\"},{\"attributes\":{\"overlay\":{\"id\":\"26961\"}},\"id\":\"26957\",\"type\":\"BoxZoomTool\"},{\"attributes\":{\"text\":\"\"},\"id\":\"27543\",\"type\":\"Title\"},{\"attributes\":{},\"id\":\"26955\",\"type\":\"PanTool\"},{\"attributes\":{\"end_angle\":{\"expr\":{\"id\":\"26970\"},\"units\":\"rad\"},\"fill_color\":{\"field\":\"color\"},\"line_color\":{\"value\":\"#1f77b4\"},\"radius\":{\"units\":\"data\",\"value\":0.5},\"start_angle\":{\"expr\":{\"id\":\"26969\"},\"units\":\"rad\"},\"x\":{\"value\":0},\"y\":{\"value\":1}},\"id\":\"26973\",\"type\":\"Wedge\"},{\"attributes\":{},\"id\":\"26939\",\"type\":\"DataRange1d\"},{\"attributes\":{},\"id\":\"27545\",\"type\":\"BasicTickFormatter\"},{\"attributes\":{},\"id\":\"26959\",\"type\":\"ResetTool\"},{\"attributes\":{},\"id\":\"27547\",\"type\":\"BasicTickFormatter\"},{\"attributes\":{},\"id\":\"27551\",\"type\":\"Selection\"},{\"attributes\":{},\"id\":\"26960\",\"type\":\"HelpTool\"},{\"attributes\":{},\"id\":\"26941\",\"type\":\"DataRange1d\"},{\"attributes\":{\"end_angle\":{\"expr\":{\"id\":\"26970\"},\"units\":\"rad\"},\"fill_alpha\":{\"value\":0.1},\"fill_color\":{\"field\":\"color\"},\"line_alpha\":{\"value\":0.1},\"line_color\":{\"value\":\"#1f77b4\"},\"radius\":{\"units\":\"data\",\"value\":0.5},\"start_angle\":{\"expr\":{\"id\":\"26969\"},\"units\":\"rad\"},\"x\":{\"value\":0},\"y\":{\"value\":1}},\"id\":\"26974\",\"type\":\"Wedge\"},{\"attributes\":{\"field\":\"angle\"},\"id\":\"26970\",\"type\":\"CumSum\"},{\"attributes\":{},\"id\":\"27550\",\"type\":\"UnionRenderers\"},{\"attributes\":{\"axis\":{\"id\":\"26947\"},\"ticker\":null},\"id\":\"26950\",\"type\":\"Grid\"},{\"attributes\":{},\"id\":\"26952\",\"type\":\"BasicTicker\"},{\"attributes\":{},\"id\":\"26943\",\"type\":\"LinearScale\"},{\"attributes\":{\"formatter\":{\"id\":\"27545\"},\"ticker\":{\"id\":\"26952\"}},\"id\":\"26951\",\"type\":\"LinearAxis\"},{\"attributes\":{\"data\":{\"Organics\":{\"__ndarray__\":\"AAAAIAIrI0EAAAAAMj0WQZhuEoP8WQ5BAAAAAEyHCkEAAAAAwFYGQQAAAABAyQRBAAAAABjEAkEAAAAAgDP+QAAAAADAqf1AVVVVVbVf/EBD5yL1x0JKQQ==\",\"dtype\":\"float64\",\"order\":\"little\",\"shape\":[11]},\"angle\":{\"__ndarray__\":\"/uHCxAzk5T9bJVI46mXZP7aC83fbVNE/k8oRhgBMzj8mMTODGYPJP25gl3sivcc/o1PBK4RuxT/U8tRv4T7BP8P4ts448MA/GK75g8IzwD8WuBzqwP0NQA==\",\"dtype\":\"float64\",\"order\":\"little\",\"shape\":[11]},\"color\":[\"#3182bd\",\"#6baed6\",\"#9ecae1\",\"#c6dbef\",\"#e6550d\",\"#fd8d3c\",\"#fdae6b\",\"#fdd0a2\",\"#31a354\",\"#74c476\",\"#a1d99b\"],\"site_address_suburb\":[\"Pinkenba\",\"Surat\",\"Moranbah\",\"Dysart\",\"Arundel\",\"Coomera\",\"North Stradbroke Island\",\"Karrabin\",\"Durham Downs\",\"Injune\",\"Others\"]},\"selected\":{\"id\":\"27551\"},\"selection_policy\":{\"id\":\"27550\"}},\"id\":\"26971\",\"type\":\"ColumnDataSource\"},{\"attributes\":{},\"id\":\"26948\",\"type\":\"BasicTicker\"},{\"attributes\":{\"axis\":{\"id\":\"26951\"},\"dimension\":1,\"ticker\":null},\"id\":\"26954\",\"type\":\"Grid\"},{\"attributes\":{\"formatter\":{\"id\":\"27547\"},\"ticker\":{\"id\":\"26948\"}},\"id\":\"26947\",\"type\":\"LinearAxis\"},{\"attributes\":{\"source\":{\"id\":\"26971\"}},\"id\":\"26976\",\"type\":\"CDSView\"},{\"attributes\":{\"field\":\"angle\",\"include_zero\":true},\"id\":\"26969\",\"type\":\"CumSum\"},{\"attributes\":{\"callback\":null,\"renderers\":[{\"id\":\"26975\"}],\"tooltips\":\"@site_address_suburb: @Organics kg/year\"},\"id\":\"27606\",\"type\":\"HoverTool\"},{\"attributes\":{\"active_drag\":\"auto\",\"active_inspect\":\"auto\",\"active_multi\":null,\"active_scroll\":\"auto\",\"active_tap\":\"auto\",\"tools\":[{\"id\":\"26955\"},{\"id\":\"26956\"},{\"id\":\"26957\"},{\"id\":\"26958\"},{\"id\":\"26959\"},{\"id\":\"26960\"},{\"id\":\"27606\"}]},\"id\":\"26962\",\"type\":\"Toolbar\"}],\"root_ids\":[\"26938\"]},\"title\":\"Bokeh Application\",\"version\":\"2.1.1\"}};\n",
       "  var render_items = [{\"docid\":\"e5b2ba47-75b1-45e2-afca-eff9a8d6f859\",\"root_ids\":[\"26938\"],\"roots\":{\"26938\":\"b4e727d0-f280-4d49-8139-eb7721992621\"}}];\n",
       "  root.Bokeh.embed.embed_items_notebook(docs_json, render_items);\n",
       "\n",
       "  }\n",
       "  if (root.Bokeh !== undefined) {\n",
       "    embed_document(root);\n",
       "  } else {\n",
       "    var attempts = 0;\n",
       "    var timer = setInterval(function(root) {\n",
       "      if (root.Bokeh !== undefined) {\n",
       "        clearInterval(timer);\n",
       "        embed_document(root);\n",
       "      } else {\n",
       "        attempts++;\n",
       "        if (attempts > 100) {\n",
       "          clearInterval(timer);\n",
       "          console.log(\"Bokeh: ERROR: Unable to run BokehJS code because BokehJS library is missing\");\n",
       "        }\n",
       "      }\n",
       "    }, 10, root)\n",
       "  }\n",
       "})(window);"
      ],
      "application/vnd.bokehjs_exec.v0+json": ""
     },
     "metadata": {
      "application/vnd.bokehjs_exec.v0+json": {
       "id": "26938"
      }
     },
     "output_type": "display_data"
    }
   ],
   "source": [
    "p.add_tools(HoverTool(tooltips='@site_address_suburb: @Organics kg/year',renderers=[r]))\n",
    "show(p)"
   ]
  },
  {
   "cell_type": "markdown",
   "metadata": {},
   "source": [
    "An to make it look better, we add a bit of styling."
   ]
  },
  {
   "cell_type": "code",
   "execution_count": 205,
   "metadata": {},
   "outputs": [
    {
     "data": {
      "text/html": [
       "\n",
       "\n",
       "\n",
       "\n",
       "\n",
       "\n",
       "  <div class=\"bk-root\" id=\"4206ef9f-02c8-4f97-8e96-70ba18b5da71\" data-root-id=\"26938\"></div>\n"
      ]
     },
     "metadata": {},
     "output_type": "display_data"
    },
    {
     "data": {
      "application/javascript": [
       "(function(root) {\n",
       "  function embed_document(root) {\n",
       "    \n",
       "  var docs_json = {\"1c5eb70f-6a16-4933-8e5a-a80f59ce54e4\":{\"roots\":{\"references\":[{\"attributes\":{\"below\":[{\"id\":\"26947\"}],\"center\":[{\"id\":\"26950\"},{\"id\":\"26954\"}],\"left\":[{\"id\":\"26951\"}],\"plot_height\":500,\"plot_width\":800,\"renderers\":[{\"id\":\"26975\"}],\"title\":{\"id\":\"27543\"},\"toolbar\":{\"id\":\"26962\"},\"x_range\":{\"id\":\"26939\"},\"x_scale\":{\"id\":\"26943\"},\"y_range\":{\"id\":\"26941\"},\"y_scale\":{\"id\":\"26945\"}},\"id\":\"26938\",\"subtype\":\"Figure\",\"type\":\"Plot\"},{\"attributes\":{},\"id\":\"26956\",\"type\":\"WheelZoomTool\"},{\"attributes\":{},\"id\":\"26945\",\"type\":\"LinearScale\"},{\"attributes\":{\"data_source\":{\"id\":\"26971\"},\"glyph\":{\"id\":\"26973\"},\"hover_glyph\":null,\"muted_glyph\":null,\"nonselection_glyph\":{\"id\":\"26974\"},\"selection_glyph\":null,\"view\":{\"id\":\"26976\"}},\"id\":\"26975\",\"type\":\"GlyphRenderer\"},{\"attributes\":{},\"id\":\"26958\",\"type\":\"SaveTool\"},{\"attributes\":{\"bottom_units\":\"screen\",\"fill_alpha\":0.5,\"fill_color\":\"lightgrey\",\"left_units\":\"screen\",\"level\":\"overlay\",\"line_alpha\":1.0,\"line_color\":\"black\",\"line_dash\":[4,4],\"line_width\":2,\"right_units\":\"screen\",\"top_units\":\"screen\"},\"id\":\"26961\",\"type\":\"BoxAnnotation\"},{\"attributes\":{\"overlay\":{\"id\":\"26961\"}},\"id\":\"26957\",\"type\":\"BoxZoomTool\"},{\"attributes\":{\"text\":\"\"},\"id\":\"27543\",\"type\":\"Title\"},{\"attributes\":{},\"id\":\"26955\",\"type\":\"PanTool\"},{\"attributes\":{\"end_angle\":{\"expr\":{\"id\":\"26970\"},\"units\":\"rad\"},\"fill_color\":{\"field\":\"color\"},\"line_color\":{\"value\":\"white\"},\"line_width\":{\"value\":2},\"radius\":{\"units\":\"data\",\"value\":0.5},\"start_angle\":{\"expr\":{\"id\":\"26969\"},\"units\":\"rad\"},\"x\":{\"value\":0},\"y\":{\"value\":1}},\"id\":\"26973\",\"type\":\"Wedge\"},{\"attributes\":{},\"id\":\"26939\",\"type\":\"DataRange1d\"},{\"attributes\":{},\"id\":\"27545\",\"type\":\"BasicTickFormatter\"},{\"attributes\":{},\"id\":\"26959\",\"type\":\"ResetTool\"},{\"attributes\":{},\"id\":\"27547\",\"type\":\"BasicTickFormatter\"},{\"attributes\":{},\"id\":\"27551\",\"type\":\"Selection\"},{\"attributes\":{},\"id\":\"26960\",\"type\":\"HelpTool\"},{\"attributes\":{},\"id\":\"26941\",\"type\":\"DataRange1d\"},{\"attributes\":{\"end_angle\":{\"expr\":{\"id\":\"26970\"},\"units\":\"rad\"},\"fill_alpha\":{\"value\":0.1},\"fill_color\":{\"field\":\"color\"},\"line_alpha\":{\"value\":0.1},\"line_color\":{\"value\":\"#1f77b4\"},\"radius\":{\"units\":\"data\",\"value\":0.5},\"start_angle\":{\"expr\":{\"id\":\"26969\"},\"units\":\"rad\"},\"x\":{\"value\":0},\"y\":{\"value\":1}},\"id\":\"26974\",\"type\":\"Wedge\"},{\"attributes\":{\"field\":\"angle\"},\"id\":\"26970\",\"type\":\"CumSum\"},{\"attributes\":{},\"id\":\"27550\",\"type\":\"UnionRenderers\"},{\"attributes\":{\"axis\":{\"id\":\"26947\"},\"grid_line_color\":null,\"ticker\":null},\"id\":\"26950\",\"type\":\"Grid\"},{\"attributes\":{},\"id\":\"26952\",\"type\":\"BasicTicker\"},{\"attributes\":{},\"id\":\"26943\",\"type\":\"LinearScale\"},{\"attributes\":{\"axis_label\":null,\"formatter\":{\"id\":\"27545\"},\"ticker\":{\"id\":\"26952\"},\"visible\":false},\"id\":\"26951\",\"type\":\"LinearAxis\"},{\"attributes\":{\"data\":{\"Organics\":{\"__ndarray__\":\"AAAAIAIrI0EAAAAAMj0WQZhuEoP8WQ5BAAAAAEyHCkEAAAAAwFYGQQAAAABAyQRBAAAAABjEAkEAAAAAgDP+QAAAAADAqf1AVVVVVbVf/EBD5yL1x0JKQQ==\",\"dtype\":\"float64\",\"order\":\"little\",\"shape\":[11]},\"angle\":{\"__ndarray__\":\"/uHCxAzk5T9bJVI46mXZP7aC83fbVNE/k8oRhgBMzj8mMTODGYPJP25gl3sivcc/o1PBK4RuxT/U8tRv4T7BP8P4ts448MA/GK75g8IzwD8WuBzqwP0NQA==\",\"dtype\":\"float64\",\"order\":\"little\",\"shape\":[11]},\"color\":[\"#3182bd\",\"#6baed6\",\"#9ecae1\",\"#c6dbef\",\"#e6550d\",\"#fd8d3c\",\"#fdae6b\",\"#fdd0a2\",\"#31a354\",\"#74c476\",\"#a1d99b\"],\"site_address_suburb\":[\"Pinkenba\",\"Surat\",\"Moranbah\",\"Dysart\",\"Arundel\",\"Coomera\",\"North Stradbroke Island\",\"Karrabin\",\"Durham Downs\",\"Injune\",\"Others\"]},\"selected\":{\"id\":\"27551\"},\"selection_policy\":{\"id\":\"27550\"}},\"id\":\"26971\",\"type\":\"ColumnDataSource\"},{\"attributes\":{},\"id\":\"26948\",\"type\":\"BasicTicker\"},{\"attributes\":{\"axis\":{\"id\":\"26951\"},\"dimension\":1,\"grid_line_color\":null,\"ticker\":null},\"id\":\"26954\",\"type\":\"Grid\"},{\"attributes\":{\"axis_label\":null,\"formatter\":{\"id\":\"27547\"},\"ticker\":{\"id\":\"26948\"},\"visible\":false},\"id\":\"26947\",\"type\":\"LinearAxis\"},{\"attributes\":{\"source\":{\"id\":\"26971\"}},\"id\":\"26976\",\"type\":\"CDSView\"},{\"attributes\":{\"field\":\"angle\",\"include_zero\":true},\"id\":\"26969\",\"type\":\"CumSum\"},{\"attributes\":{\"callback\":null,\"renderers\":[{\"id\":\"26975\"}],\"tooltips\":\"@site_address_suburb: @Organics kg/year\"},\"id\":\"27606\",\"type\":\"HoverTool\"},{\"attributes\":{\"active_drag\":\"auto\",\"active_inspect\":\"auto\",\"active_multi\":null,\"active_scroll\":\"auto\",\"active_tap\":\"auto\",\"tools\":[{\"id\":\"26955\"},{\"id\":\"26956\"},{\"id\":\"26957\"},{\"id\":\"26958\"},{\"id\":\"26959\"},{\"id\":\"26960\"},{\"id\":\"27606\"}]},\"id\":\"26962\",\"type\":\"Toolbar\"}],\"root_ids\":[\"26938\"]},\"title\":\"Bokeh Application\",\"version\":\"2.1.1\"}};\n",
       "  var render_items = [{\"docid\":\"1c5eb70f-6a16-4933-8e5a-a80f59ce54e4\",\"root_ids\":[\"26938\"],\"roots\":{\"26938\":\"4206ef9f-02c8-4f97-8e96-70ba18b5da71\"}}];\n",
       "  root.Bokeh.embed.embed_items_notebook(docs_json, render_items);\n",
       "\n",
       "  }\n",
       "  if (root.Bokeh !== undefined) {\n",
       "    embed_document(root);\n",
       "  } else {\n",
       "    var attempts = 0;\n",
       "    var timer = setInterval(function(root) {\n",
       "      if (root.Bokeh !== undefined) {\n",
       "        clearInterval(timer);\n",
       "        embed_document(root);\n",
       "      } else {\n",
       "        attempts++;\n",
       "        if (attempts > 100) {\n",
       "          clearInterval(timer);\n",
       "          console.log(\"Bokeh: ERROR: Unable to run BokehJS code because BokehJS library is missing\");\n",
       "        }\n",
       "      }\n",
       "    }, 10, root)\n",
       "  }\n",
       "})(window);"
      ],
      "application/vnd.bokehjs_exec.v0+json": ""
     },
     "metadata": {
      "application/vnd.bokehjs_exec.v0+json": {
       "id": "26938"
      }
     },
     "output_type": "display_data"
    }
   ],
   "source": [
    "r.glyph.line_color = 'white'\n",
    "r.glyph.line_width = 2\n",
    "\n",
    "p.axis.axis_label=None\n",
    "p.axis.visible=False\n",
    "p.grid.grid_line_color = None\n",
    "show(p)"
   ]
  },
  {
   "cell_type": "markdown",
   "metadata": {},
   "source": [
    "## Linear colormap\n",
    "To create colors based on values in the data, we can use `linear_color`. To use this function we need a palette, which is a list of colors (Similar to `Category20c`). You can find a list of all palettes in `bokeh.palettes`. Then, by setting a low and a high value, any value in between will be mapped to a color in the palette."
   ]
  },
  {
   "cell_type": "code",
   "execution_count": 217,
   "metadata": {},
   "outputs": [
    {
     "ename": "TypeError",
     "evalue": "linear_cmap() missing 4 required positional arguments: 'field_name', 'palette', 'low', and 'high'",
     "output_type": "error",
     "traceback": [
      "\u001b[0;31m---------------------------------------------------------------------------\u001b[0m",
      "\u001b[0;31mTypeError\u001b[0m                                 Traceback (most recent call last)",
      "\u001b[0;32m<ipython-input-217-16573a951224>\u001b[0m in \u001b[0;36m<module>\u001b[0;34m\u001b[0m\n\u001b[1;32m      1\u001b[0m \u001b[0;32mfrom\u001b[0m \u001b[0mbokeh\u001b[0m\u001b[0;34m.\u001b[0m\u001b[0mtransform\u001b[0m \u001b[0;32mimport\u001b[0m \u001b[0mlinear_cmap\u001b[0m\u001b[0;34m\u001b[0m\u001b[0;34m\u001b[0m\u001b[0m\n\u001b[0;32m----> 2\u001b[0;31m \u001b[0mlinear_cmap\u001b[0m\u001b[0;34m(\u001b[0m\u001b[0;34m)\u001b[0m\u001b[0;34m\u001b[0m\u001b[0;34m\u001b[0m\u001b[0m\n\u001b[0m",
      "\u001b[0;31mTypeError\u001b[0m: linear_cmap() missing 4 required positional arguments: 'field_name', 'palette', 'low', and 'high'"
     ]
    }
   ],
   "source": [
    "from bokeh.transform import linear_cmap\n",
    "linear_cmap()"
   ]
  },
  {
   "cell_type": "code",
   "execution_count": 218,
   "metadata": {},
   "outputs": [
    {
     "data": {
      "text/html": [
       "\n",
       "\n",
       "\n",
       "\n",
       "\n",
       "\n",
       "  <div class=\"bk-root\" id=\"485b7517-2e88-40e0-bd89-2765928070d0\" data-root-id=\"31806\"></div>\n"
      ]
     },
     "metadata": {},
     "output_type": "display_data"
    },
    {
     "data": {
      "application/javascript": [
       "(function(root) {\n",
       "  function embed_document(root) {\n",
       "    \n",
       "  var docs_json = {\"a40c33c5-a615-4dcf-8f88-c475c3618360\":{\"roots\":{\"references\":[{\"attributes\":{\"below\":[{\"id\":\"31815\"}],\"center\":[{\"id\":\"31818\"},{\"id\":\"31822\"}],\"left\":[{\"id\":\"31819\"}],\"plot_height\":400,\"renderers\":[{\"id\":\"31843\"}],\"title\":{\"id\":\"32465\"},\"toolbar\":{\"id\":\"31831\"},\"x_range\":{\"id\":\"31807\"},\"x_scale\":{\"id\":\"31811\"},\"y_range\":{\"id\":\"31809\"},\"y_scale\":{\"id\":\"31813\"}},\"id\":\"31806\",\"subtype\":\"Figure\",\"type\":\"Plot\"},{\"attributes\":{\"formatter\":{\"id\":\"32469\"},\"ticker\":{\"id\":\"31816\"}},\"id\":\"31815\",\"type\":\"LinearAxis\"},{\"attributes\":{},\"id\":\"31826\",\"type\":\"SaveTool\"},{\"attributes\":{},\"id\":\"31828\",\"type\":\"HelpTool\"},{\"attributes\":{},\"id\":\"32469\",\"type\":\"BasicTickFormatter\"},{\"attributes\":{\"fill_alpha\":{\"value\":0.1},\"fill_color\":{\"field\":\"z\",\"transform\":{\"id\":\"31839\"}},\"line_alpha\":{\"value\":0.1},\"line_color\":{\"value\":\"gray\"},\"size\":{\"units\":\"screen\",\"value\":10},\"x\":{\"field\":\"x\"},\"y\":{\"field\":\"y\"}},\"id\":\"31842\",\"type\":\"Circle\"},{\"attributes\":{},\"id\":\"31807\",\"type\":\"DataRange1d\"},{\"attributes\":{},\"id\":\"32473\",\"type\":\"Selection\"},{\"attributes\":{\"active_drag\":\"auto\",\"active_inspect\":\"auto\",\"active_multi\":null,\"active_scroll\":\"auto\",\"active_tap\":\"auto\",\"tools\":[{\"id\":\"31823\"},{\"id\":\"31824\"},{\"id\":\"31825\"},{\"id\":\"31826\"},{\"id\":\"31827\"},{\"id\":\"31828\"},{\"id\":\"31830\"}]},\"id\":\"31831\",\"type\":\"Toolbar\"},{\"attributes\":{\"callback\":null,\"tooltips\":\"Z = @z\"},\"id\":\"31830\",\"type\":\"HoverTool\"},{\"attributes\":{\"axis\":{\"id\":\"31815\"},\"ticker\":null},\"id\":\"31818\",\"type\":\"Grid\"},{\"attributes\":{},\"id\":\"31813\",\"type\":\"LinearScale\"},{\"attributes\":{\"data_source\":{\"id\":\"31805\"},\"glyph\":{\"id\":\"31841\"},\"hover_glyph\":null,\"muted_glyph\":null,\"nonselection_glyph\":{\"id\":\"31842\"},\"selection_glyph\":null,\"view\":{\"id\":\"31844\"}},\"id\":\"31843\",\"type\":\"GlyphRenderer\"},{\"attributes\":{\"axis\":{\"id\":\"31819\"},\"dimension\":1,\"ticker\":null},\"id\":\"31822\",\"type\":\"Grid\"},{\"attributes\":{},\"id\":\"31824\",\"type\":\"WheelZoomTool\"},{\"attributes\":{\"text\":\"\"},\"id\":\"32465\",\"type\":\"Title\"},{\"attributes\":{},\"id\":\"31809\",\"type\":\"DataRange1d\"},{\"attributes\":{},\"id\":\"31816\",\"type\":\"BasicTicker\"},{\"attributes\":{\"fill_color\":{\"field\":\"z\",\"transform\":{\"id\":\"31839\"}},\"line_color\":{\"value\":\"gray\"},\"size\":{\"units\":\"screen\",\"value\":10},\"x\":{\"field\":\"x\"},\"y\":{\"field\":\"y\"}},\"id\":\"31841\",\"type\":\"Circle\"},{\"attributes\":{\"data\":{\"x\":[0,1,2,3,4,5,6,7,8,9,10,11,12,13,14,15,16,17,18,19,20,21,22,23,24,25,26,27,28,29,30,31,32,33,34,35,36,37,38,39,40,41,42,43,44,45,46,47,48,49,50,51,52,53,54,55,56,57,58,59,60,61,62,63,64,65,66,67,68,69,70,71,72,73,74,75,76,77,78,79,80,81,82,83,84,85,86,87,88,89,90,91,92,93,94,95,96,97,98,99],\"y\":{\"__ndarray__\":\"BiJuXWZF3j8AUI/aKa7Kv+Ru2TBgaKE/q5buj/Oq+r9DQ7wfKDztv4BmVAMmlgPA5y6N8qWLA8AaWEjf34EEwPHTj8mS9grAqOIeubLo37/7HEJy24rxv/kkhMNY9+O/QmAkmnM13j87wGfh78fnvxco9XelLOM/AGQamP2H3j8IksvTQtX3P2OJWSUbbOI/tqYHYJwL3b/RsTvb2DDoP1LVVa4XIPQ/uc02c85Y9j/FNW6WrkwAQAJQpMaohARAObAnHQ+R9j+OdlWBgrHpvxg5NWKd4APAmIUE31AXEcBAS+x+GPcZwOY7GZcQjhzAyBXNnCarHsCedPsPTdMewHP3S2gq9x3A/43nwr+AH8CMOpOYX0IgwA2n0UzeHCDAnAUszW8bIsDKpm5f7ogjwDHRDUjMdiPAtSu17+fRJMA1muaHtfYlwJcQwx3pLCbANu7xB/eAI8COITXvzt0iwHqhETioiiPAo3y0gFC2JMD3LwtKJ/EkwI4mTr9XdSDAWv7z7NHAJsDI4gKY1K4lwGNQX5vLNyXAaP8p+ZN7I8BxE5uCdsclwFIAiC7rjCHAXK92Od8YH8Dly2NbhU0fwAWvffjlqR7ALQEMFq3DIMCrv0z1zqkgwIVP1Hoy8yDAZzsaVSwgHsCnQWoL8rEcwB9KnsBlBx3AAgcK81JRGsB9bgcP6xcYwDhBBX3aMxfA4ROf24hRHcBOcNBSnzMZwPSPSg/f3R3A3DV1y9TzIMAxwQZ7uikhwDm7VraSIyDAFA+iCaKlGsDT4ZfA6rIgwCQ/Q1dKgxvASeeQaI33FMDuTZdSBdAWwLQvyzs3nhfA/6j6jsHnGcAjwDjNiFEcwJvUJtOI1iDAC9orA6M3JMArndI+sZ0kwL3bIXq2GSTA1d7OSVtxIMCgCBWQ3nEiwEpWqrbQoCbAjLn61sZVJsDyuVBpjEQnwPLKo4wpjibAPmQWceBZJ8DmLupimd4pwIQcKBhOPyvARvBKt1ukKcAYUqTg5BgpwNbYj8ccCSvA3riBLKpKKcBp3RNmMy8swP60KhLhQS3AIyepO4vcLMA=\",\"dtype\":\"float64\",\"order\":\"little\",\"shape\":[100]},\"z\":{\"__ndarray__\":\"1FtnrpO/1j+Yk3yJHmzVP+CJA1WHuMY/gEj9FA5kgD/AYPScumCFP7M7VO1hHuM/wOnkvN6qtT9+p3+M6DPUP/5tp93r/u4/NWr9ZGP06z+L1GjHhjXtP7jDLOk5v8U/MrokpZRG1D9cBJuep/LOP/g+zWTOa98/hhZfAvxn4T+kMCP19vLZP5rW6UXTwec/2SRC+3WZ5D868gQ6VxnlP7y6AQDDGcM/DhAesAPk5z9+iqgbvYbkP3zyTJk3FtM/9pTUcZAN2D8F7prn1qLvP/ait+/XDdY/OmdxvQD71T+5yrORDKPjPyObqYPfyeM/QATP/AlZiz9IB3HiwGHiP2eArgTA4ug/OZ8LGW9l7j+BVmR41H7mPygfxLCov70/MIvXIaOQzz/uhi0v5M/aP7yj5TiaOeQ/EFlfEL1wuD+qMnN60/rYP1hBtPAdm9Q/BEpmyBgV7z+TTAnEigPvP/cxmXoUyuc/DFX1I+mQ4D8cajDgrQ3FP5BQh3VVYe4/kxT/JJl/7T81psvoBD7sP4Dy4Tu7Iao/I7c0bE/M6D+QtHbY8Ru7Pz50o8AA+ew/eRgzUffP4j/g/Vlpbp7vP1jx0gowb9s/7WefJLsn5D/2ReXzS9foP5ICOYfZoNA/cPku0vlx5D9EwrQ4JXXqP6wCd12IruA/sH5Ht8Mq2z/9RS4V+v3gPyouc+lzRe4/1jxVwgz67z/E+wa/NHjlP0iOySw1ROk/pjuyTSpp7z+kp1UHlh7CP6Bm5Ar86po/lGX57dvi5z8ycKPpFrvjP0AQAKt6Zbk/ElNLPW2z4D+Ppqz+4TzgP8AawmbLSNI/pGBAGdXMzz8ENGeTrhXHP2/fabatruI/vLxo3Jqzwz/7XBvveMbmP+7jGFPmeus/PGPG5FP35T8+LcMt4vfQPygC3N77aNk/MIlTlaBq4D+0HOAjcQfWP21+4gKTdeE/XbgqFav05T8Ax7UbKy7TP/z8W1zYkMs/UwX9WtM56T+rXS8rwdPoP1CBoZIaXaU/MKcH79Cn5D+sD2uvoWjAP0+2topehuE/LuNZ9VGo0j8=\",\"dtype\":\"float64\",\"order\":\"little\",\"shape\":[100]}},\"selected\":{\"id\":\"32473\"},\"selection_policy\":{\"id\":\"32472\"}},\"id\":\"31805\",\"type\":\"ColumnDataSource\"},{\"attributes\":{\"overlay\":{\"id\":\"31829\"}},\"id\":\"31825\",\"type\":\"BoxZoomTool\"},{\"attributes\":{},\"id\":\"31820\",\"type\":\"BasicTicker\"},{\"attributes\":{\"high\":1,\"low\":0,\"palette\":[\"#08306b\",\"#08316d\",\"#08326e\",\"#083370\",\"#083471\",\"#083573\",\"#083674\",\"#083776\",\"#083877\",\"#083979\",\"#083a7a\",\"#083b7c\",\"#083c7d\",\"#083d7f\",\"#083e81\",\"#084082\",\"#084184\",\"#084285\",\"#084387\",\"#084488\",\"#08458a\",\"#08468b\",\"#08478d\",\"#08488e\",\"#084990\",\"#084a91\",\"#084b93\",\"#084c95\",\"#084d96\",\"#084e98\",\"#084f99\",\"#08509b\",\"#08519c\",\"#09529d\",\"#0a539e\",\"#0a549e\",\"#0b559f\",\"#0c56a0\",\"#0d57a1\",\"#0e58a2\",\"#0e59a2\",\"#0f5aa3\",\"#105ba4\",\"#115ca5\",\"#125da6\",\"#125ea6\",\"#135fa7\",\"#1460a8\",\"#1561a9\",\"#1562a9\",\"#1663aa\",\"#1764ab\",\"#1865ac\",\"#1966ad\",\"#1967ad\",\"#1a68ae\",\"#1b69af\",\"#1c6ab0\",\"#1c6bb0\",\"#1d6cb1\",\"#1e6db2\",\"#1f6eb3\",\"#206fb4\",\"#2070b4\",\"#2171b5\",\"#2272b6\",\"#2373b6\",\"#2474b7\",\"#2575b7\",\"#2676b8\",\"#2777b8\",\"#2979b9\",\"#2a7ab9\",\"#2b7bba\",\"#2c7cba\",\"#2d7dbb\",\"#2e7ebc\",\"#2f7fbc\",\"#3080bd\",\"#3181bd\",\"#3282be\",\"#3383be\",\"#3484bf\",\"#3585bf\",\"#3686c0\",\"#3787c0\",\"#3888c1\",\"#3989c1\",\"#3a8ac2\",\"#3b8bc2\",\"#3c8cc3\",\"#3d8dc4\",\"#3e8ec4\",\"#3f8fc5\",\"#4090c5\",\"#4191c6\",\"#4292c6\",\"#4493c7\",\"#4594c7\",\"#4695c8\",\"#4896c8\",\"#4997c9\",\"#4a98c9\",\"#4b98ca\",\"#4d99ca\",\"#4e9acb\",\"#4f9bcb\",\"#519ccc\",\"#529dcc\",\"#539ecd\",\"#549fcd\",\"#56a0ce\",\"#57a0ce\",\"#58a1cf\",\"#5aa2cf\",\"#5ba3d0\",\"#5ca4d0\",\"#5da5d1\",\"#5fa6d1\",\"#60a7d2\",\"#61a7d2\",\"#63a8d3\",\"#64a9d3\",\"#65aad4\",\"#66abd4\",\"#68acd5\",\"#69add5\",\"#6aaed6\",\"#6caed6\",\"#6dafd7\",\"#6fb0d7\",\"#71b1d7\",\"#72b2d8\",\"#74b3d8\",\"#75b4d8\",\"#77b5d9\",\"#79b5d9\",\"#7ab6d9\",\"#7cb7da\",\"#7db8da\",\"#7fb9da\",\"#81badb\",\"#82bbdb\",\"#84bcdb\",\"#85bcdc\",\"#87bddc\",\"#89bedc\",\"#8abfdd\",\"#8cc0dd\",\"#8dc1dd\",\"#8fc2de\",\"#91c3de\",\"#92c4de\",\"#94c4df\",\"#95c5df\",\"#97c6df\",\"#99c7e0\",\"#9ac8e0\",\"#9cc9e1\",\"#9dcae1\",\"#9fcae1\",\"#a0cbe2\",\"#a1cbe2\",\"#a3cce3\",\"#a4cce3\",\"#a5cde3\",\"#a6cee4\",\"#a8cee4\",\"#a9cfe5\",\"#aacfe5\",\"#abd0e6\",\"#add0e6\",\"#aed1e7\",\"#afd1e7\",\"#b0d2e7\",\"#b2d2e8\",\"#b3d3e8\",\"#b4d3e9\",\"#b5d4e9\",\"#b7d4ea\",\"#b8d5ea\",\"#b9d6ea\",\"#bad6eb\",\"#bcd7eb\",\"#bdd7ec\",\"#bed8ec\",\"#bfd8ed\",\"#c1d9ed\",\"#c2d9ee\",\"#c3daee\",\"#c4daee\",\"#c6dbef\",\"#c7dbef\",\"#c7dcef\",\"#c8dcf0\",\"#c9ddf0\",\"#caddf0\",\"#cadef0\",\"#cbdef1\",\"#ccdff1\",\"#cddff1\",\"#cde0f1\",\"#cee0f2\",\"#cfe1f2\",\"#d0e1f2\",\"#d0e2f2\",\"#d1e2f3\",\"#d2e3f3\",\"#d3e3f3\",\"#d3e4f3\",\"#d4e4f4\",\"#d5e5f4\",\"#d6e5f4\",\"#d6e6f4\",\"#d7e6f5\",\"#d8e7f5\",\"#d9e7f5\",\"#d9e8f5\",\"#dae8f6\",\"#dbe9f6\",\"#dce9f6\",\"#dceaf6\",\"#ddeaf7\",\"#deebf7\",\"#dfebf7\",\"#dfecf7\",\"#e0ecf8\",\"#e1edf8\",\"#e2edf8\",\"#e3eef8\",\"#e3eef9\",\"#e4eff9\",\"#e5eff9\",\"#e6f0f9\",\"#e7f0fa\",\"#e7f1fa\",\"#e8f1fa\",\"#e9f2fa\",\"#eaf2fb\",\"#eaf3fb\",\"#ebf3fb\",\"#ecf4fb\",\"#edf4fc\",\"#eef5fc\",\"#eef5fc\",\"#eff6fc\",\"#f0f6fd\",\"#f1f7fd\",\"#f2f7fd\",\"#f2f8fd\",\"#f3f8fe\",\"#f4f9fe\",\"#f5f9fe\",\"#f5fafe\",\"#f6faff\",\"#f7fbff\"]},\"id\":\"31839\",\"type\":\"LinearColorMapper\"},{\"attributes\":{},\"id\":\"31827\",\"type\":\"ResetTool\"},{\"attributes\":{\"source\":{\"id\":\"31805\"}},\"id\":\"31844\",\"type\":\"CDSView\"},{\"attributes\":{},\"id\":\"31811\",\"type\":\"LinearScale\"},{\"attributes\":{\"formatter\":{\"id\":\"32467\"},\"ticker\":{\"id\":\"31820\"}},\"id\":\"31819\",\"type\":\"LinearAxis\"},{\"attributes\":{\"bottom_units\":\"screen\",\"fill_alpha\":0.5,\"fill_color\":\"lightgrey\",\"left_units\":\"screen\",\"level\":\"overlay\",\"line_alpha\":1.0,\"line_color\":\"black\",\"line_dash\":[4,4],\"line_width\":2,\"right_units\":\"screen\",\"top_units\":\"screen\"},\"id\":\"31829\",\"type\":\"BoxAnnotation\"},{\"attributes\":{},\"id\":\"31823\",\"type\":\"PanTool\"},{\"attributes\":{},\"id\":\"32472\",\"type\":\"UnionRenderers\"},{\"attributes\":{},\"id\":\"32467\",\"type\":\"BasicTickFormatter\"}],\"root_ids\":[\"31806\"]},\"title\":\"Bokeh Application\",\"version\":\"2.1.1\"}};\n",
       "  var render_items = [{\"docid\":\"a40c33c5-a615-4dcf-8f88-c475c3618360\",\"root_ids\":[\"31806\"],\"roots\":{\"31806\":\"485b7517-2e88-40e0-bd89-2765928070d0\"}}];\n",
       "  root.Bokeh.embed.embed_items_notebook(docs_json, render_items);\n",
       "\n",
       "  }\n",
       "  if (root.Bokeh !== undefined) {\n",
       "    embed_document(root);\n",
       "  } else {\n",
       "    var attempts = 0;\n",
       "    var timer = setInterval(function(root) {\n",
       "      if (root.Bokeh !== undefined) {\n",
       "        clearInterval(timer);\n",
       "        embed_document(root);\n",
       "      } else {\n",
       "        attempts++;\n",
       "        if (attempts > 100) {\n",
       "          clearInterval(timer);\n",
       "          console.log(\"Bokeh: ERROR: Unable to run BokehJS code because BokehJS library is missing\");\n",
       "        }\n",
       "      }\n",
       "    }, 10, root)\n",
       "  }\n",
       "})(window);"
      ],
      "application/vnd.bokehjs_exec.v0+json": ""
     },
     "metadata": {
      "application/vnd.bokehjs_exec.v0+json": {
       "id": "31806"
      }
     },
     "output_type": "display_data"
    },
    {
     "data": {
      "text/plain": [
       "<module 'bokeh.palettes' from '/home/pooya/anaconda3/lib/python3.7/site-packages/bokeh/palettes.py'>"
      ]
     },
     "execution_count": 218,
     "metadata": {},
     "output_type": "execute_result"
    }
   ],
   "source": [
    "np.random.seed(12)\n",
    "x = np.arange(100)\n",
    "y = np.random.randn(100).cumsum()\n",
    "z = np.random.rand(100)\n",
    "source = ColumnDataSource(data = {'x':x, 'y':y,'z':z})\n",
    "p = figure(plot_width = 600, plot_height = 400, tooltips = 'Z = @z')\n",
    "p.circle('x','y',\n",
    "         color= linear_cmap('z','Blues256',0,1),\n",
    "         line_color = 'gray',\n",
    "         size = 10,\n",
    "         source=source)\n",
    "show(p)\n",
    "palettes"
   ]
  },
  {
   "cell_type": "markdown",
   "metadata": {},
   "source": [
    "We can also add a color bar to it."
   ]
  },
  {
   "cell_type": "code",
   "execution_count": 225,
   "metadata": {},
   "outputs": [
    {
     "data": {
      "text/html": [
       "\n",
       "\n",
       "\n",
       "\n",
       "\n",
       "\n",
       "  <div class=\"bk-root\" id=\"ca538a53-0be3-44c3-8bde-3733d45eb5a5\" data-root-id=\"33261\"></div>\n"
      ]
     },
     "metadata": {},
     "output_type": "display_data"
    },
    {
     "data": {
      "application/javascript": [
       "(function(root) {\n",
       "  function embed_document(root) {\n",
       "    \n",
       "  var docs_json = {\"c45c903f-a7f3-4a2f-a5d1-0d437b62d920\":{\"roots\":{\"references\":[{\"attributes\":{\"below\":[{\"id\":\"33270\"}],\"center\":[{\"id\":\"33273\"},{\"id\":\"33277\"}],\"left\":[{\"id\":\"33274\"}],\"plot_height\":400,\"renderers\":[{\"id\":\"33298\"}],\"right\":[{\"id\":\"34003\"}],\"title\":{\"id\":\"33938\"},\"toolbar\":{\"id\":\"33286\"},\"x_range\":{\"id\":\"33262\"},\"x_scale\":{\"id\":\"33266\"},\"y_range\":{\"id\":\"33264\"},\"y_scale\":{\"id\":\"33268\"}},\"id\":\"33261\",\"subtype\":\"Figure\",\"type\":\"Plot\"},{\"attributes\":{\"color_mapper\":{\"id\":\"34002\"},\"formatter\":{\"id\":\"34644\"},\"label_standoff\":12,\"location\":[0,0],\"ticker\":{\"id\":\"34645\"},\"title\":\"Z\"},\"id\":\"34003\",\"type\":\"ColorBar\"},{\"attributes\":{},\"id\":\"33946\",\"type\":\"Selection\"},{\"attributes\":{\"data_source\":{\"id\":\"33260\"},\"glyph\":{\"id\":\"33296\"},\"hover_glyph\":null,\"muted_glyph\":null,\"nonselection_glyph\":{\"id\":\"33297\"},\"selection_glyph\":null,\"view\":{\"id\":\"33299\"}},\"id\":\"33298\",\"type\":\"GlyphRenderer\"},{\"attributes\":{\"text\":\"\"},\"id\":\"33938\",\"type\":\"Title\"},{\"attributes\":{\"formatter\":{\"id\":\"33940\"},\"ticker\":{\"id\":\"33275\"}},\"id\":\"33274\",\"type\":\"LinearAxis\"},{\"attributes\":{\"fill_color\":{\"field\":\"z\",\"transform\":{\"id\":\"33294\"}},\"line_color\":{\"value\":\"gray\"},\"size\":{\"units\":\"screen\",\"value\":10},\"x\":{\"field\":\"x\"},\"y\":{\"field\":\"y\"}},\"id\":\"33296\",\"type\":\"Scatter\"},{\"attributes\":{},\"id\":\"33266\",\"type\":\"LinearScale\"},{\"attributes\":{},\"id\":\"33262\",\"type\":\"DataRange1d\"},{\"attributes\":{\"callback\":null,\"tooltips\":\"Z = @z\"},\"id\":\"33285\",\"type\":\"HoverTool\"},{\"attributes\":{},\"id\":\"33268\",\"type\":\"LinearScale\"},{\"attributes\":{\"active_drag\":\"auto\",\"active_inspect\":\"auto\",\"active_multi\":null,\"active_scroll\":\"auto\",\"active_tap\":\"auto\",\"tools\":[{\"id\":\"33278\"},{\"id\":\"33279\"},{\"id\":\"33280\"},{\"id\":\"33281\"},{\"id\":\"33282\"},{\"id\":\"33283\"},{\"id\":\"33285\"}]},\"id\":\"33286\",\"type\":\"Toolbar\"},{\"attributes\":{},\"id\":\"33279\",\"type\":\"WheelZoomTool\"},{\"attributes\":{\"formatter\":{\"id\":\"33942\"},\"ticker\":{\"id\":\"33271\"}},\"id\":\"33270\",\"type\":\"LinearAxis\"},{\"attributes\":{\"source\":{\"id\":\"33260\"}},\"id\":\"33299\",\"type\":\"CDSView\"},{\"attributes\":{},\"id\":\"33283\",\"type\":\"HelpTool\"},{\"attributes\":{\"high\":1,\"low\":0,\"palette\":[\"#08306b\",\"#08316d\",\"#08326e\",\"#083370\",\"#083471\",\"#083573\",\"#083674\",\"#083776\",\"#083877\",\"#083979\",\"#083a7a\",\"#083b7c\",\"#083c7d\",\"#083d7f\",\"#083e81\",\"#084082\",\"#084184\",\"#084285\",\"#084387\",\"#084488\",\"#08458a\",\"#08468b\",\"#08478d\",\"#08488e\",\"#084990\",\"#084a91\",\"#084b93\",\"#084c95\",\"#084d96\",\"#084e98\",\"#084f99\",\"#08509b\",\"#08519c\",\"#09529d\",\"#0a539e\",\"#0a549e\",\"#0b559f\",\"#0c56a0\",\"#0d57a1\",\"#0e58a2\",\"#0e59a2\",\"#0f5aa3\",\"#105ba4\",\"#115ca5\",\"#125da6\",\"#125ea6\",\"#135fa7\",\"#1460a8\",\"#1561a9\",\"#1562a9\",\"#1663aa\",\"#1764ab\",\"#1865ac\",\"#1966ad\",\"#1967ad\",\"#1a68ae\",\"#1b69af\",\"#1c6ab0\",\"#1c6bb0\",\"#1d6cb1\",\"#1e6db2\",\"#1f6eb3\",\"#206fb4\",\"#2070b4\",\"#2171b5\",\"#2272b6\",\"#2373b6\",\"#2474b7\",\"#2575b7\",\"#2676b8\",\"#2777b8\",\"#2979b9\",\"#2a7ab9\",\"#2b7bba\",\"#2c7cba\",\"#2d7dbb\",\"#2e7ebc\",\"#2f7fbc\",\"#3080bd\",\"#3181bd\",\"#3282be\",\"#3383be\",\"#3484bf\",\"#3585bf\",\"#3686c0\",\"#3787c0\",\"#3888c1\",\"#3989c1\",\"#3a8ac2\",\"#3b8bc2\",\"#3c8cc3\",\"#3d8dc4\",\"#3e8ec4\",\"#3f8fc5\",\"#4090c5\",\"#4191c6\",\"#4292c6\",\"#4493c7\",\"#4594c7\",\"#4695c8\",\"#4896c8\",\"#4997c9\",\"#4a98c9\",\"#4b98ca\",\"#4d99ca\",\"#4e9acb\",\"#4f9bcb\",\"#519ccc\",\"#529dcc\",\"#539ecd\",\"#549fcd\",\"#56a0ce\",\"#57a0ce\",\"#58a1cf\",\"#5aa2cf\",\"#5ba3d0\",\"#5ca4d0\",\"#5da5d1\",\"#5fa6d1\",\"#60a7d2\",\"#61a7d2\",\"#63a8d3\",\"#64a9d3\",\"#65aad4\",\"#66abd4\",\"#68acd5\",\"#69add5\",\"#6aaed6\",\"#6caed6\",\"#6dafd7\",\"#6fb0d7\",\"#71b1d7\",\"#72b2d8\",\"#74b3d8\",\"#75b4d8\",\"#77b5d9\",\"#79b5d9\",\"#7ab6d9\",\"#7cb7da\",\"#7db8da\",\"#7fb9da\",\"#81badb\",\"#82bbdb\",\"#84bcdb\",\"#85bcdc\",\"#87bddc\",\"#89bedc\",\"#8abfdd\",\"#8cc0dd\",\"#8dc1dd\",\"#8fc2de\",\"#91c3de\",\"#92c4de\",\"#94c4df\",\"#95c5df\",\"#97c6df\",\"#99c7e0\",\"#9ac8e0\",\"#9cc9e1\",\"#9dcae1\",\"#9fcae1\",\"#a0cbe2\",\"#a1cbe2\",\"#a3cce3\",\"#a4cce3\",\"#a5cde3\",\"#a6cee4\",\"#a8cee4\",\"#a9cfe5\",\"#aacfe5\",\"#abd0e6\",\"#add0e6\",\"#aed1e7\",\"#afd1e7\",\"#b0d2e7\",\"#b2d2e8\",\"#b3d3e8\",\"#b4d3e9\",\"#b5d4e9\",\"#b7d4ea\",\"#b8d5ea\",\"#b9d6ea\",\"#bad6eb\",\"#bcd7eb\",\"#bdd7ec\",\"#bed8ec\",\"#bfd8ed\",\"#c1d9ed\",\"#c2d9ee\",\"#c3daee\",\"#c4daee\",\"#c6dbef\",\"#c7dbef\",\"#c7dcef\",\"#c8dcf0\",\"#c9ddf0\",\"#caddf0\",\"#cadef0\",\"#cbdef1\",\"#ccdff1\",\"#cddff1\",\"#cde0f1\",\"#cee0f2\",\"#cfe1f2\",\"#d0e1f2\",\"#d0e2f2\",\"#d1e2f3\",\"#d2e3f3\",\"#d3e3f3\",\"#d3e4f3\",\"#d4e4f4\",\"#d5e5f4\",\"#d6e5f4\",\"#d6e6f4\",\"#d7e6f5\",\"#d8e7f5\",\"#d9e7f5\",\"#d9e8f5\",\"#dae8f6\",\"#dbe9f6\",\"#dce9f6\",\"#dceaf6\",\"#ddeaf7\",\"#deebf7\",\"#dfebf7\",\"#dfecf7\",\"#e0ecf8\",\"#e1edf8\",\"#e2edf8\",\"#e3eef8\",\"#e3eef9\",\"#e4eff9\",\"#e5eff9\",\"#e6f0f9\",\"#e7f0fa\",\"#e7f1fa\",\"#e8f1fa\",\"#e9f2fa\",\"#eaf2fb\",\"#eaf3fb\",\"#ebf3fb\",\"#ecf4fb\",\"#edf4fc\",\"#eef5fc\",\"#eef5fc\",\"#eff6fc\",\"#f0f6fd\",\"#f1f7fd\",\"#f2f7fd\",\"#f2f8fd\",\"#f3f8fe\",\"#f4f9fe\",\"#f5f9fe\",\"#f5fafe\",\"#f6faff\",\"#f7fbff\"]},\"id\":\"34002\",\"type\":\"LinearColorMapper\"},{\"attributes\":{},\"id\":\"34644\",\"type\":\"BasicTickFormatter\"},{\"attributes\":{},\"id\":\"33281\",\"type\":\"SaveTool\"},{\"attributes\":{},\"id\":\"33942\",\"type\":\"BasicTickFormatter\"},{\"attributes\":{\"fill_alpha\":{\"value\":0.1},\"fill_color\":{\"field\":\"z\",\"transform\":{\"id\":\"33294\"}},\"line_alpha\":{\"value\":0.1},\"line_color\":{\"value\":\"gray\"},\"size\":{\"units\":\"screen\",\"value\":10},\"x\":{\"field\":\"x\"},\"y\":{\"field\":\"y\"}},\"id\":\"33297\",\"type\":\"Scatter\"},{\"attributes\":{},\"id\":\"33945\",\"type\":\"UnionRenderers\"},{\"attributes\":{},\"id\":\"33278\",\"type\":\"PanTool\"},{\"attributes\":{\"bottom_units\":\"screen\",\"fill_alpha\":0.5,\"fill_color\":\"lightgrey\",\"left_units\":\"screen\",\"level\":\"overlay\",\"line_alpha\":1.0,\"line_color\":\"black\",\"line_dash\":[4,4],\"line_width\":2,\"right_units\":\"screen\",\"top_units\":\"screen\"},\"id\":\"33284\",\"type\":\"BoxAnnotation\"},{\"attributes\":{\"axis\":{\"id\":\"33270\"},\"ticker\":null},\"id\":\"33273\",\"type\":\"Grid\"},{\"attributes\":{\"high\":1,\"low\":0,\"palette\":[\"#08306b\",\"#08316d\",\"#08326e\",\"#083370\",\"#083471\",\"#083573\",\"#083674\",\"#083776\",\"#083877\",\"#083979\",\"#083a7a\",\"#083b7c\",\"#083c7d\",\"#083d7f\",\"#083e81\",\"#084082\",\"#084184\",\"#084285\",\"#084387\",\"#084488\",\"#08458a\",\"#08468b\",\"#08478d\",\"#08488e\",\"#084990\",\"#084a91\",\"#084b93\",\"#084c95\",\"#084d96\",\"#084e98\",\"#084f99\",\"#08509b\",\"#08519c\",\"#09529d\",\"#0a539e\",\"#0a549e\",\"#0b559f\",\"#0c56a0\",\"#0d57a1\",\"#0e58a2\",\"#0e59a2\",\"#0f5aa3\",\"#105ba4\",\"#115ca5\",\"#125da6\",\"#125ea6\",\"#135fa7\",\"#1460a8\",\"#1561a9\",\"#1562a9\",\"#1663aa\",\"#1764ab\",\"#1865ac\",\"#1966ad\",\"#1967ad\",\"#1a68ae\",\"#1b69af\",\"#1c6ab0\",\"#1c6bb0\",\"#1d6cb1\",\"#1e6db2\",\"#1f6eb3\",\"#206fb4\",\"#2070b4\",\"#2171b5\",\"#2272b6\",\"#2373b6\",\"#2474b7\",\"#2575b7\",\"#2676b8\",\"#2777b8\",\"#2979b9\",\"#2a7ab9\",\"#2b7bba\",\"#2c7cba\",\"#2d7dbb\",\"#2e7ebc\",\"#2f7fbc\",\"#3080bd\",\"#3181bd\",\"#3282be\",\"#3383be\",\"#3484bf\",\"#3585bf\",\"#3686c0\",\"#3787c0\",\"#3888c1\",\"#3989c1\",\"#3a8ac2\",\"#3b8bc2\",\"#3c8cc3\",\"#3d8dc4\",\"#3e8ec4\",\"#3f8fc5\",\"#4090c5\",\"#4191c6\",\"#4292c6\",\"#4493c7\",\"#4594c7\",\"#4695c8\",\"#4896c8\",\"#4997c9\",\"#4a98c9\",\"#4b98ca\",\"#4d99ca\",\"#4e9acb\",\"#4f9bcb\",\"#519ccc\",\"#529dcc\",\"#539ecd\",\"#549fcd\",\"#56a0ce\",\"#57a0ce\",\"#58a1cf\",\"#5aa2cf\",\"#5ba3d0\",\"#5ca4d0\",\"#5da5d1\",\"#5fa6d1\",\"#60a7d2\",\"#61a7d2\",\"#63a8d3\",\"#64a9d3\",\"#65aad4\",\"#66abd4\",\"#68acd5\",\"#69add5\",\"#6aaed6\",\"#6caed6\",\"#6dafd7\",\"#6fb0d7\",\"#71b1d7\",\"#72b2d8\",\"#74b3d8\",\"#75b4d8\",\"#77b5d9\",\"#79b5d9\",\"#7ab6d9\",\"#7cb7da\",\"#7db8da\",\"#7fb9da\",\"#81badb\",\"#82bbdb\",\"#84bcdb\",\"#85bcdc\",\"#87bddc\",\"#89bedc\",\"#8abfdd\",\"#8cc0dd\",\"#8dc1dd\",\"#8fc2de\",\"#91c3de\",\"#92c4de\",\"#94c4df\",\"#95c5df\",\"#97c6df\",\"#99c7e0\",\"#9ac8e0\",\"#9cc9e1\",\"#9dcae1\",\"#9fcae1\",\"#a0cbe2\",\"#a1cbe2\",\"#a3cce3\",\"#a4cce3\",\"#a5cde3\",\"#a6cee4\",\"#a8cee4\",\"#a9cfe5\",\"#aacfe5\",\"#abd0e6\",\"#add0e6\",\"#aed1e7\",\"#afd1e7\",\"#b0d2e7\",\"#b2d2e8\",\"#b3d3e8\",\"#b4d3e9\",\"#b5d4e9\",\"#b7d4ea\",\"#b8d5ea\",\"#b9d6ea\",\"#bad6eb\",\"#bcd7eb\",\"#bdd7ec\",\"#bed8ec\",\"#bfd8ed\",\"#c1d9ed\",\"#c2d9ee\",\"#c3daee\",\"#c4daee\",\"#c6dbef\",\"#c7dbef\",\"#c7dcef\",\"#c8dcf0\",\"#c9ddf0\",\"#caddf0\",\"#cadef0\",\"#cbdef1\",\"#ccdff1\",\"#cddff1\",\"#cde0f1\",\"#cee0f2\",\"#cfe1f2\",\"#d0e1f2\",\"#d0e2f2\",\"#d1e2f3\",\"#d2e3f3\",\"#d3e3f3\",\"#d3e4f3\",\"#d4e4f4\",\"#d5e5f4\",\"#d6e5f4\",\"#d6e6f4\",\"#d7e6f5\",\"#d8e7f5\",\"#d9e7f5\",\"#d9e8f5\",\"#dae8f6\",\"#dbe9f6\",\"#dce9f6\",\"#dceaf6\",\"#ddeaf7\",\"#deebf7\",\"#dfebf7\",\"#dfecf7\",\"#e0ecf8\",\"#e1edf8\",\"#e2edf8\",\"#e3eef8\",\"#e3eef9\",\"#e4eff9\",\"#e5eff9\",\"#e6f0f9\",\"#e7f0fa\",\"#e7f1fa\",\"#e8f1fa\",\"#e9f2fa\",\"#eaf2fb\",\"#eaf3fb\",\"#ebf3fb\",\"#ecf4fb\",\"#edf4fc\",\"#eef5fc\",\"#eef5fc\",\"#eff6fc\",\"#f0f6fd\",\"#f1f7fd\",\"#f2f7fd\",\"#f2f8fd\",\"#f3f8fe\",\"#f4f9fe\",\"#f5f9fe\",\"#f5fafe\",\"#f6faff\",\"#f7fbff\"]},\"id\":\"33294\",\"type\":\"LinearColorMapper\"},{\"attributes\":{},\"id\":\"33264\",\"type\":\"DataRange1d\"},{\"attributes\":{\"axis\":{\"id\":\"33274\"},\"dimension\":1,\"ticker\":null},\"id\":\"33277\",\"type\":\"Grid\"},{\"attributes\":{\"data\":{\"x\":[0,1,2,3,4,5,6,7,8,9,10,11,12,13,14,15,16,17,18,19,20,21,22,23,24,25,26,27,28,29,30,31,32,33,34,35,36,37,38,39,40,41,42,43,44,45,46,47,48,49,50,51,52,53,54,55,56,57,58,59,60,61,62,63,64,65,66,67,68,69,70,71,72,73,74,75,76,77,78,79,80,81,82,83,84,85,86,87,88,89,90,91,92,93,94,95,96,97,98,99],\"y\":{\"__ndarray__\":\"BiJuXWZF3j8AUI/aKa7Kv+Ru2TBgaKE/q5buj/Oq+r9DQ7wfKDztv4BmVAMmlgPA5y6N8qWLA8AaWEjf34EEwPHTj8mS9grAqOIeubLo37/7HEJy24rxv/kkhMNY9+O/QmAkmnM13j87wGfh78fnvxco9XelLOM/AGQamP2H3j8IksvTQtX3P2OJWSUbbOI/tqYHYJwL3b/RsTvb2DDoP1LVVa4XIPQ/uc02c85Y9j/FNW6WrkwAQAJQpMaohARAObAnHQ+R9j+OdlWBgrHpvxg5NWKd4APAmIUE31AXEcBAS+x+GPcZwOY7GZcQjhzAyBXNnCarHsCedPsPTdMewHP3S2gq9x3A/43nwr+AH8CMOpOYX0IgwA2n0UzeHCDAnAUszW8bIsDKpm5f7ogjwDHRDUjMdiPAtSu17+fRJMA1muaHtfYlwJcQwx3pLCbANu7xB/eAI8COITXvzt0iwHqhETioiiPAo3y0gFC2JMD3LwtKJ/EkwI4mTr9XdSDAWv7z7NHAJsDI4gKY1K4lwGNQX5vLNyXAaP8p+ZN7I8BxE5uCdsclwFIAiC7rjCHAXK92Od8YH8Dly2NbhU0fwAWvffjlqR7ALQEMFq3DIMCrv0z1zqkgwIVP1Hoy8yDAZzsaVSwgHsCnQWoL8rEcwB9KnsBlBx3AAgcK81JRGsB9bgcP6xcYwDhBBX3aMxfA4ROf24hRHcBOcNBSnzMZwPSPSg/f3R3A3DV1y9TzIMAxwQZ7uikhwDm7VraSIyDAFA+iCaKlGsDT4ZfA6rIgwCQ/Q1dKgxvASeeQaI33FMDuTZdSBdAWwLQvyzs3nhfA/6j6jsHnGcAjwDjNiFEcwJvUJtOI1iDAC9orA6M3JMArndI+sZ0kwL3bIXq2GSTA1d7OSVtxIMCgCBWQ3nEiwEpWqrbQoCbAjLn61sZVJsDyuVBpjEQnwPLKo4wpjibAPmQWceBZJ8DmLupimd4pwIQcKBhOPyvARvBKt1ukKcAYUqTg5BgpwNbYj8ccCSvA3riBLKpKKcBp3RNmMy8swP60KhLhQS3AIyepO4vcLMA=\",\"dtype\":\"float64\",\"order\":\"little\",\"shape\":[100]},\"z\":{\"__ndarray__\":\"1FtnrpO/1j+Yk3yJHmzVP+CJA1WHuMY/gEj9FA5kgD/AYPScumCFP7M7VO1hHuM/wOnkvN6qtT9+p3+M6DPUP/5tp93r/u4/NWr9ZGP06z+L1GjHhjXtP7jDLOk5v8U/MrokpZRG1D9cBJuep/LOP/g+zWTOa98/hhZfAvxn4T+kMCP19vLZP5rW6UXTwec/2SRC+3WZ5D868gQ6VxnlP7y6AQDDGcM/DhAesAPk5z9+iqgbvYbkP3zyTJk3FtM/9pTUcZAN2D8F7prn1qLvP/ait+/XDdY/OmdxvQD71T+5yrORDKPjPyObqYPfyeM/QATP/AlZiz9IB3HiwGHiP2eArgTA4ug/OZ8LGW9l7j+BVmR41H7mPygfxLCov70/MIvXIaOQzz/uhi0v5M/aP7yj5TiaOeQ/EFlfEL1wuD+qMnN60/rYP1hBtPAdm9Q/BEpmyBgV7z+TTAnEigPvP/cxmXoUyuc/DFX1I+mQ4D8cajDgrQ3FP5BQh3VVYe4/kxT/JJl/7T81psvoBD7sP4Dy4Tu7Iao/I7c0bE/M6D+QtHbY8Ru7Pz50o8AA+ew/eRgzUffP4j/g/Vlpbp7vP1jx0gowb9s/7WefJLsn5D/2ReXzS9foP5ICOYfZoNA/cPku0vlx5D9EwrQ4JXXqP6wCd12IruA/sH5Ht8Mq2z/9RS4V+v3gPyouc+lzRe4/1jxVwgz67z/E+wa/NHjlP0iOySw1ROk/pjuyTSpp7z+kp1UHlh7CP6Bm5Ar86po/lGX57dvi5z8ycKPpFrvjP0AQAKt6Zbk/ElNLPW2z4D+Ppqz+4TzgP8AawmbLSNI/pGBAGdXMzz8ENGeTrhXHP2/fabatruI/vLxo3Jqzwz/7XBvveMbmP+7jGFPmeus/PGPG5FP35T8+LcMt4vfQPygC3N77aNk/MIlTlaBq4D+0HOAjcQfWP21+4gKTdeE/XbgqFav05T8Ax7UbKy7TP/z8W1zYkMs/UwX9WtM56T+rXS8rwdPoP1CBoZIaXaU/MKcH79Cn5D+sD2uvoWjAP0+2topehuE/LuNZ9VGo0j8=\",\"dtype\":\"float64\",\"order\":\"little\",\"shape\":[100]}},\"selected\":{\"id\":\"33946\"},\"selection_policy\":{\"id\":\"33945\"}},\"id\":\"33260\",\"type\":\"ColumnDataSource\"},{\"attributes\":{\"overlay\":{\"id\":\"33284\"}},\"id\":\"33280\",\"type\":\"BoxZoomTool\"},{\"attributes\":{},\"id\":\"33271\",\"type\":\"BasicTicker\"},{\"attributes\":{},\"id\":\"33275\",\"type\":\"BasicTicker\"},{\"attributes\":{},\"id\":\"33282\",\"type\":\"ResetTool\"},{\"attributes\":{},\"id\":\"34645\",\"type\":\"BasicTicker\"},{\"attributes\":{},\"id\":\"33940\",\"type\":\"BasicTickFormatter\"}],\"root_ids\":[\"33261\"]},\"title\":\"Bokeh Application\",\"version\":\"2.1.1\"}};\n",
       "  var render_items = [{\"docid\":\"c45c903f-a7f3-4a2f-a5d1-0d437b62d920\",\"root_ids\":[\"33261\"],\"roots\":{\"33261\":\"ca538a53-0be3-44c3-8bde-3733d45eb5a5\"}}];\n",
       "  root.Bokeh.embed.embed_items_notebook(docs_json, render_items);\n",
       "\n",
       "  }\n",
       "  if (root.Bokeh !== undefined) {\n",
       "    embed_document(root);\n",
       "  } else {\n",
       "    var attempts = 0;\n",
       "    var timer = setInterval(function(root) {\n",
       "      if (root.Bokeh !== undefined) {\n",
       "        clearInterval(timer);\n",
       "        embed_document(root);\n",
       "      } else {\n",
       "        attempts++;\n",
       "        if (attempts > 100) {\n",
       "          clearInterval(timer);\n",
       "          console.log(\"Bokeh: ERROR: Unable to run BokehJS code because BokehJS library is missing\");\n",
       "        }\n",
       "      }\n",
       "    }, 10, root)\n",
       "  }\n",
       "})(window);"
      ],
      "application/vnd.bokehjs_exec.v0+json": ""
     },
     "metadata": {
      "application/vnd.bokehjs_exec.v0+json": {
       "id": "33261"
      }
     },
     "output_type": "display_data"
    }
   ],
   "source": [
    "from bokeh.models import LinearColorMapper, ColorBar\n",
    "color_mapper = LinearColorMapper(palette=\"Blues256\", low=0, high=1)\n",
    "color_bar = ColorBar(color_mapper=color_mapper, label_standoff=12, location=(0,0), title='Z')\n",
    "p.add_layout(color_bar, 'right')\n",
    "\n",
    "show(p)"
   ]
  },
  {
   "cell_type": "markdown",
   "metadata": {},
   "source": [
    "# Plot Layout\n",
    "Occasionally, we might need to have multiple plots together side-by-side or on top of each other. To do this, we can use `gridplot`. We need to create multiple figures and create a plot with each figure. At the end we use `gridplot` to combine all of them into a single figure."
   ]
  },
  {
   "cell_type": "markdown",
   "metadata": {},
   "source": [
    "Generate some data"
   ]
  },
  {
   "cell_type": "code",
   "execution_count": 234,
   "metadata": {},
   "outputs": [],
   "source": [
    "from bokeh.layouts import gridplot\n",
    "np.random.seed(24)\n",
    "x = np.linspace(0,10,100)\n",
    "y = x + np.random.randn(100)\n",
    "z = x+np.random.randn(100).cumsum()\n",
    "\n",
    "\n"
   ]
  },
  {
   "cell_type": "markdown",
   "metadata": {},
   "source": [
    "First plot:"
   ]
  },
  {
   "cell_type": "code",
   "execution_count": 235,
   "metadata": {},
   "outputs": [
    {
     "data": {
      "text/html": [
       "\n",
       "\n",
       "\n",
       "\n",
       "\n",
       "\n",
       "  <div class=\"bk-root\" id=\"29fc0ba6-656e-4c0e-9769-d656d1ffbe83\" data-root-id=\"39342\"></div>\n"
      ]
     },
     "metadata": {},
     "output_type": "display_data"
    },
    {
     "data": {
      "application/javascript": [
       "(function(root) {\n",
       "  function embed_document(root) {\n",
       "    \n",
       "  var docs_json = {\"4f5f876e-5e66-4614-894d-22da4c7c17f2\":{\"roots\":{\"references\":[{\"attributes\":{\"below\":[{\"id\":\"39351\"}],\"center\":[{\"id\":\"39354\"},{\"id\":\"39358\"}],\"left\":[{\"id\":\"39355\"}],\"plot_height\":300,\"plot_width\":300,\"renderers\":[{\"id\":\"39376\"}],\"title\":{\"id\":\"40081\"},\"toolbar\":{\"id\":\"39366\"},\"x_range\":{\"id\":\"39343\"},\"x_scale\":{\"id\":\"39347\"},\"y_range\":{\"id\":\"39345\"},\"y_scale\":{\"id\":\"39349\"}},\"id\":\"39342\",\"subtype\":\"Figure\",\"type\":\"Plot\"},{\"attributes\":{\"axis\":{\"id\":\"39351\"},\"ticker\":null},\"id\":\"39354\",\"type\":\"Grid\"},{\"attributes\":{},\"id\":\"39362\",\"type\":\"SaveTool\"},{\"attributes\":{\"source\":{\"id\":\"39373\"}},\"id\":\"39377\",\"type\":\"CDSView\"},{\"attributes\":{},\"id\":\"39347\",\"type\":\"LinearScale\"},{\"attributes\":{},\"id\":\"39360\",\"type\":\"WheelZoomTool\"},{\"attributes\":{},\"id\":\"40089\",\"type\":\"Selection\"},{\"attributes\":{\"fill_alpha\":{\"value\":0.1},\"fill_color\":{\"value\":\"maroon\"},\"line_alpha\":{\"value\":0.1},\"line_color\":{\"value\":\"maroon\"},\"x\":{\"field\":\"x\"},\"y\":{\"field\":\"y\"}},\"id\":\"39375\",\"type\":\"Circle\"},{\"attributes\":{\"axis\":{\"id\":\"39355\"},\"dimension\":1,\"ticker\":null},\"id\":\"39358\",\"type\":\"Grid\"},{\"attributes\":{\"formatter\":{\"id\":\"40083\"},\"ticker\":{\"id\":\"39356\"}},\"id\":\"39355\",\"type\":\"LinearAxis\"},{\"attributes\":{},\"id\":\"39343\",\"type\":\"DataRange1d\"},{\"attributes\":{\"formatter\":{\"id\":\"40085\"},\"ticker\":{\"id\":\"39352\"}},\"id\":\"39351\",\"type\":\"LinearAxis\"},{\"attributes\":{\"overlay\":{\"id\":\"39365\"}},\"id\":\"39361\",\"type\":\"BoxZoomTool\"},{\"attributes\":{},\"id\":\"40088\",\"type\":\"UnionRenderers\"},{\"attributes\":{},\"id\":\"40083\",\"type\":\"BasicTickFormatter\"},{\"attributes\":{\"fill_color\":{\"value\":\"maroon\"},\"line_color\":{\"value\":\"maroon\"},\"x\":{\"field\":\"x\"},\"y\":{\"field\":\"y\"}},\"id\":\"39374\",\"type\":\"Circle\"},{\"attributes\":{\"data\":{\"x\":{\"__ndarray__\":\"AAAAAAAAAAAxb2dIzNu5PzFvZ0jM28k/ZZNNNtlk0z8xb2dIzNvZP3+lQK1fKeA/ZZNNNtlk4z9LgVq/UqDmPzFvZ0jM2+k/F1100UUX7T9/pUCtXynwP3Icx3Ecx/E/ZZNNNtlk8z9YCtT6lQL1P0uBWr9SoPY/Pvjggw8++D8xb2dIzNv5PyTm7QyJefs/F1100UUX/T8K1PqVArX+P3+lQK1fKQBA+OCDDz74AEByHMdxHMcBQOtXCtT6lQJAZZNNNtlkA0DezpCYtzMEQFgK1PqVAgVA0UUXXXTRBUBLgVq/UqAGQMS8nSExbwdAPvjggw8+CEC3MyTm7QwJQDFvZ0jM2wlAq6qqqqqqCkAk5u0MiXkLQJ4hMW9nSAxAF1100UUXDUCRmLczJOYNQArU+pUCtQ5AhA8++OCDD0B/pUCtXykQQDtDYt7OkBBA+OCDDz74EEC1fqVArV8RQHIcx3EcxxFALrrooosuEkDrVwrU+pUSQKj1KwVq/RJAZZNNNtlkE0AiMW9nSMwTQN7OkJi3MxRAm2yyySabFEBYCtT6lQIVQBWo9SsFahVA0UUXXXTRFUCO4ziO4zgWQEuBWr9SoBZACB988MEHF0DEvJ0hMW8XQIFav1Kg1hdAPvjggw8+GED7lQK1fqUYQLczJObtDBlAdNFFF110GUAxb2dIzNsZQO4MiXk7QxpAq6qqqqqqGkBnSMzbGRIbQCTm7QyJeRtA4YMPPvjgG0CeITFvZ0gcQFq/UqDWrxxAF1100UUXHUDU+pUCtX4dQJGYtzMk5h1ATTbZZJNNHkAK1PqVArUeQMdxHMdxHB9AhA8++OCDH0BArV8pUOsfQH+lQK1fKSBAXXTRRRddIEA7Q2LezpAgQBoS83aGxCBA+OCDDz74IEDXrxSo9SshQLV+pUCtXyFAk0022WSTIUByHMdxHMchQFDrVwrU+iFALrrooosuIkANiXk7Q2IiQOtXCtT6lSJAyiabbLLJIkCo9SsFav0iQIbEvJ0hMSNAZZNNNtlkI0BDYt7OkJgjQCIxb2dIzCNAAAAAAAAAJEA=\",\"dtype\":\"float64\",\"order\":\"little\",\"shape\":[100]},\"y\":{\"__ndarray__\":\"45Kv+3NE9T93DJmoo2jlv3YRIlgnQL2/YFW+YEsC5r/CiIlPOlblvxUeZsGQ4O2/nTIQkka68j+zCm4/cAvwP3s3nZu0L+q/4JX5tPkO8j/TiAMZwgX7PwjIeD7JAAhAFylopqdjAUDYHJKfnaz2P9/i/q/w2u0/Cn+uX0zsAkAgB79Ag44IQEGO45EDMwZA8dn3vmm9/z+SkZE/Q3kDQG42GVxR3eU/Qqp2Zvt4BUDfEdWDresMQIqb+7lIFAJAAJFbeQZeBECs3JEd49wNQEKC0VFo/gRAlBzIEZdrEUDEQ6UPU3YJQNrIN2sMvA9Ab2kRRy4oBUDJIC49hDUNQNQb0rn1rBNABqbUGRgPAEBipEIHDHQTQMBxKh7QIvc/YD1nyGYNDEAxkpQNwHkRQIPHmrfHAwpAh2N/AqPrEED+ORjK0DcVQNe5Hb/NuRFAqsppgVUtAkBcu51b4JYUQDj1+wdl5hVA6wk4TXqnEkCchREcmn8SQJqbRAhhLRNAwXJh2ALCCUCPu+1tgToSQP52hWKDARtAy3HmA/TZGEAdUz22FssXQJckS2KRqxNA5JQst4V8FEBVjb6EeaEYQE5TzR65DxdAXTVMK2gtF0DmdakbS0cVQBcqs8/I1RlARiA/ogVlFUB67DFTzrIXQD8DVZCeehxAoL/Z1dXsEUAgO9GYmYobQHqXQ5Nl/BVAnFzkl/ZbEEAEcCGHxysWQIQnr30F2RZAOau3EaCaH0DifCJFJBwgQBtqXXm2yyJAWhkkh7lqG0C3RSMy6ygcQKLzBCItTx1AX5mDai1GIkBbhgCaE7kgQCY69yidOh9ARhC/yPEaHEAAQkFkJOwjQERJQpBszRlAfgwktYHJH0AwC2u4zTwgQBk7WrSqFSJAm/e2DDS1HEAYKhv4GOEjQK6KF4jfHSFAHs6zZSZCH0DPMkmnjWMgQPv6pUrS4SFAnIDwOMkFIUBjWFTaRCAkQMCr3gItpSBAT9U1/nSiI0A9FhAyOvAmQIbheL8EziNAXu3WeHhkJUBFNyqlM1clQEPupX3gDyBAa5XdFiR2JkA=\",\"dtype\":\"float64\",\"order\":\"little\",\"shape\":[100]}},\"selected\":{\"id\":\"40089\"},\"selection_policy\":{\"id\":\"40088\"}},\"id\":\"39373\",\"type\":\"ColumnDataSource\"},{\"attributes\":{},\"id\":\"39345\",\"type\":\"DataRange1d\"},{\"attributes\":{},\"id\":\"39352\",\"type\":\"BasicTicker\"},{\"attributes\":{\"data_source\":{\"id\":\"39373\"},\"glyph\":{\"id\":\"39374\"},\"hover_glyph\":null,\"muted_glyph\":null,\"nonselection_glyph\":{\"id\":\"39375\"},\"selection_glyph\":null,\"view\":{\"id\":\"39377\"}},\"id\":\"39376\",\"type\":\"GlyphRenderer\"},{\"attributes\":{\"active_drag\":\"auto\",\"active_inspect\":\"auto\",\"active_multi\":null,\"active_scroll\":\"auto\",\"active_tap\":\"auto\",\"tools\":[{\"id\":\"39359\"},{\"id\":\"39360\"},{\"id\":\"39361\"},{\"id\":\"39362\"},{\"id\":\"39363\"},{\"id\":\"39364\"}]},\"id\":\"39366\",\"type\":\"Toolbar\"},{\"attributes\":{\"bottom_units\":\"screen\",\"fill_alpha\":0.5,\"fill_color\":\"lightgrey\",\"left_units\":\"screen\",\"level\":\"overlay\",\"line_alpha\":1.0,\"line_color\":\"black\",\"line_dash\":[4,4],\"line_width\":2,\"right_units\":\"screen\",\"top_units\":\"screen\"},\"id\":\"39365\",\"type\":\"BoxAnnotation\"},{\"attributes\":{},\"id\":\"40085\",\"type\":\"BasicTickFormatter\"},{\"attributes\":{},\"id\":\"39359\",\"type\":\"PanTool\"},{\"attributes\":{},\"id\":\"39363\",\"type\":\"ResetTool\"},{\"attributes\":{},\"id\":\"39364\",\"type\":\"HelpTool\"},{\"attributes\":{\"text\":\"\"},\"id\":\"40081\",\"type\":\"Title\"},{\"attributes\":{},\"id\":\"39356\",\"type\":\"BasicTicker\"},{\"attributes\":{},\"id\":\"39349\",\"type\":\"LinearScale\"}],\"root_ids\":[\"39342\"]},\"title\":\"Bokeh Application\",\"version\":\"2.1.1\"}};\n",
       "  var render_items = [{\"docid\":\"4f5f876e-5e66-4614-894d-22da4c7c17f2\",\"root_ids\":[\"39342\"],\"roots\":{\"39342\":\"29fc0ba6-656e-4c0e-9769-d656d1ffbe83\"}}];\n",
       "  root.Bokeh.embed.embed_items_notebook(docs_json, render_items);\n",
       "\n",
       "  }\n",
       "  if (root.Bokeh !== undefined) {\n",
       "    embed_document(root);\n",
       "  } else {\n",
       "    var attempts = 0;\n",
       "    var timer = setInterval(function(root) {\n",
       "      if (root.Bokeh !== undefined) {\n",
       "        clearInterval(timer);\n",
       "        embed_document(root);\n",
       "      } else {\n",
       "        attempts++;\n",
       "        if (attempts > 100) {\n",
       "          clearInterval(timer);\n",
       "          console.log(\"Bokeh: ERROR: Unable to run BokehJS code because BokehJS library is missing\");\n",
       "        }\n",
       "      }\n",
       "    }, 10, root)\n",
       "  }\n",
       "})(window);"
      ],
      "application/vnd.bokehjs_exec.v0+json": ""
     },
     "metadata": {
      "application/vnd.bokehjs_exec.v0+json": {
       "id": "39342"
      }
     },
     "output_type": "display_data"
    }
   ],
   "source": [
    "p1 = figure(width = 300, height = 300)\n",
    "p1.circle(x,y,color = 'maroon')\n",
    "show(p1)"
   ]
  },
  {
   "cell_type": "markdown",
   "metadata": {},
   "source": [
    "Second plot"
   ]
  },
  {
   "cell_type": "code",
   "execution_count": 240,
   "metadata": {},
   "outputs": [
    {
     "data": {
      "text/html": [
       "\n",
       "\n",
       "\n",
       "\n",
       "\n",
       "\n",
       "  <div class=\"bk-root\" id=\"47c8bafe-b7c0-485e-a9f4-410153d21154\" data-root-id=\"43442\"></div>\n"
      ]
     },
     "metadata": {},
     "output_type": "display_data"
    },
    {
     "data": {
      "application/javascript": [
       "(function(root) {\n",
       "  function embed_document(root) {\n",
       "    \n",
       "  var docs_json = {\"191356cf-0e9e-4cf9-a191-7b10c6a310c2\":{\"roots\":{\"references\":[{\"attributes\":{\"below\":[{\"id\":\"43451\"}],\"center\":[{\"id\":\"43454\"},{\"id\":\"43458\"}],\"left\":[{\"id\":\"43455\"}],\"plot_height\":300,\"plot_width\":300,\"renderers\":[{\"id\":\"43476\"}],\"title\":{\"id\":\"44226\"},\"toolbar\":{\"id\":\"43466\"},\"x_range\":{\"id\":\"43443\"},\"x_scale\":{\"id\":\"43447\"},\"y_range\":{\"id\":\"43445\"},\"y_scale\":{\"id\":\"43449\"}},\"id\":\"43442\",\"subtype\":\"Figure\",\"type\":\"Plot\"},{\"attributes\":{\"source\":{\"id\":\"43473\"}},\"id\":\"43477\",\"type\":\"CDSView\"},{\"attributes\":{\"fill_alpha\":{\"value\":0.1},\"fill_color\":{\"value\":\"seagreen\"},\"line_alpha\":{\"value\":0.1},\"line_color\":{\"value\":\"seagreen\"},\"x\":{\"field\":\"x\"},\"y\":{\"field\":\"y\"}},\"id\":\"43475\",\"type\":\"Circle\"},{\"attributes\":{},\"id\":\"43445\",\"type\":\"DataRange1d\"},{\"attributes\":{},\"id\":\"43443\",\"type\":\"DataRange1d\"},{\"attributes\":{\"formatter\":{\"id\":\"44230\"},\"ticker\":{\"id\":\"43452\"}},\"id\":\"43451\",\"type\":\"LinearAxis\"},{\"attributes\":{},\"id\":\"43449\",\"type\":\"LinearScale\"},{\"attributes\":{},\"id\":\"43464\",\"type\":\"HelpTool\"},{\"attributes\":{},\"id\":\"44234\",\"type\":\"Selection\"},{\"attributes\":{\"axis\":{\"id\":\"43455\"},\"dimension\":1,\"ticker\":null},\"id\":\"43458\",\"type\":\"Grid\"},{\"attributes\":{\"data_source\":{\"id\":\"43473\"},\"glyph\":{\"id\":\"43474\"},\"hover_glyph\":null,\"muted_glyph\":null,\"nonselection_glyph\":{\"id\":\"43475\"},\"selection_glyph\":null,\"view\":{\"id\":\"43477\"}},\"id\":\"43476\",\"type\":\"GlyphRenderer\"},{\"attributes\":{},\"id\":\"43462\",\"type\":\"SaveTool\"},{\"attributes\":{\"overlay\":{\"id\":\"43465\"}},\"id\":\"43461\",\"type\":\"BoxZoomTool\"},{\"attributes\":{},\"id\":\"43463\",\"type\":\"ResetTool\"},{\"attributes\":{\"text\":\"\"},\"id\":\"44226\",\"type\":\"Title\"},{\"attributes\":{},\"id\":\"43460\",\"type\":\"WheelZoomTool\"},{\"attributes\":{},\"id\":\"43459\",\"type\":\"PanTool\"},{\"attributes\":{},\"id\":\"44230\",\"type\":\"BasicTickFormatter\"},{\"attributes\":{},\"id\":\"44228\",\"type\":\"BasicTickFormatter\"},{\"attributes\":{\"bottom_units\":\"screen\",\"fill_alpha\":0.5,\"fill_color\":\"lightgrey\",\"left_units\":\"screen\",\"level\":\"overlay\",\"line_alpha\":1.0,\"line_color\":\"black\",\"line_dash\":[4,4],\"line_width\":2,\"right_units\":\"screen\",\"top_units\":\"screen\"},\"id\":\"43465\",\"type\":\"BoxAnnotation\"},{\"attributes\":{},\"id\":\"43452\",\"type\":\"BasicTicker\"},{\"attributes\":{},\"id\":\"43447\",\"type\":\"LinearScale\"},{\"attributes\":{\"active_drag\":\"auto\",\"active_inspect\":\"auto\",\"active_multi\":null,\"active_scroll\":\"auto\",\"active_tap\":\"auto\",\"tools\":[{\"id\":\"43459\"},{\"id\":\"43460\"},{\"id\":\"43461\"},{\"id\":\"43462\"},{\"id\":\"43463\"},{\"id\":\"43464\"}]},\"id\":\"43466\",\"type\":\"Toolbar\"},{\"attributes\":{},\"id\":\"43456\",\"type\":\"BasicTicker\"},{\"attributes\":{},\"id\":\"44233\",\"type\":\"UnionRenderers\"},{\"attributes\":{\"data\":{\"x\":{\"__ndarray__\":\"45Kv+3NE9T93DJmoo2jlv3YRIlgnQL2/YFW+YEsC5r/CiIlPOlblvxUeZsGQ4O2/nTIQkka68j+zCm4/cAvwP3s3nZu0L+q/4JX5tPkO8j/TiAMZwgX7PwjIeD7JAAhAFylopqdjAUDYHJKfnaz2P9/i/q/w2u0/Cn+uX0zsAkAgB79Ag44IQEGO45EDMwZA8dn3vmm9/z+SkZE/Q3kDQG42GVxR3eU/Qqp2Zvt4BUDfEdWDresMQIqb+7lIFAJAAJFbeQZeBECs3JEd49wNQEKC0VFo/gRAlBzIEZdrEUDEQ6UPU3YJQNrIN2sMvA9Ab2kRRy4oBUDJIC49hDUNQNQb0rn1rBNABqbUGRgPAEBipEIHDHQTQMBxKh7QIvc/YD1nyGYNDEAxkpQNwHkRQIPHmrfHAwpAh2N/AqPrEED+ORjK0DcVQNe5Hb/NuRFAqsppgVUtAkBcu51b4JYUQDj1+wdl5hVA6wk4TXqnEkCchREcmn8SQJqbRAhhLRNAwXJh2ALCCUCPu+1tgToSQP52hWKDARtAy3HmA/TZGEAdUz22FssXQJckS2KRqxNA5JQst4V8FEBVjb6EeaEYQE5TzR65DxdAXTVMK2gtF0DmdakbS0cVQBcqs8/I1RlARiA/ogVlFUB67DFTzrIXQD8DVZCeehxAoL/Z1dXsEUAgO9GYmYobQHqXQ5Nl/BVAnFzkl/ZbEEAEcCGHxysWQIQnr30F2RZAOau3EaCaH0DifCJFJBwgQBtqXXm2yyJAWhkkh7lqG0C3RSMy6ygcQKLzBCItTx1AX5mDai1GIkBbhgCaE7kgQCY69yidOh9ARhC/yPEaHEAAQkFkJOwjQERJQpBszRlAfgwktYHJH0AwC2u4zTwgQBk7WrSqFSJAm/e2DDS1HEAYKhv4GOEjQK6KF4jfHSFAHs6zZSZCH0DPMkmnjWMgQPv6pUrS4SFAnIDwOMkFIUBjWFTaRCAkQMCr3gItpSBAT9U1/nSiI0A9FhAyOvAmQIbheL8EziNAXu3WeHhkJUBFNyqlM1clQEPupX3gDyBAa5XdFiR2JkA=\",\"dtype\":\"float64\",\"order\":\"little\",\"shape\":[100]},\"y\":{\"__ndarray__\":\"AuAcEixzwL9e5Ung8A3qP+O1yo1wKABA9EGOiBq0BEAsCeBJLicHQNL6hDf8Zfs/rluisaYABUBsAwRdA48GQGm3Bxv0KwtAkCRlpc7zEUAiOoEDQ8MLQPTB6TTAQRJAPdaVG9I3GEBxSe0h/hcXQFFZlH9geRBAMEilMB5OGUCxCD7qG2McQMKLQhewwR5AAWp6FPswH0CADD/ykx8dQIBL9h8T6BpAEorbSXzXG0BUuPlJiYUcQAyjhBmjghtALWI07qNQGED0mNVFwVEZQLaoPcxZGhVAjuRPK8ToDUALdoJN5TUDQEBL9Yw2weo/+isIH14e+D9sg3nBTyfqP8f8BU7ccvo/5sUKP4rKAEDfXbpFuzoPQGjNBtSlyhJAWlTflpwoFkAWyyPyJTUUQMSvDWxtrgpAYfkQdNInEEBAXvW5AxgVQB8g7cJEuxNAGmc3VNfsEUBdltfPQ58QQMKIa0JfKgxABV0X/GgRE0CMoIzhMcYSQOjmMQ6FHRZAllt8wvLBF0CeXdpUM4oUQOh/NVAueBxArf6e5sr3G0CahDhZpSYZQKLIQ0wtLh9AuXLBR6MWIUACsygui48gQHNMHqqRcB1ASKFkSCbhF0BR33Cu5ksUQJ82AUZFVBZA6GcnHgITE0CzsQZTP30XQJKWV6wSHBZAxwub2YnRGUCXgrT45MgWQB0zwze2txdAcv19FI5xGEAd3cDI1TIYQGfn62cahxhAuUqWWhbqFkDrMpwIoKMWQOvNarPkaR5A/HrF/h64H0A9wwWpgdYiQFMEv/dM4SVA+rHqY5U1J0D2y2GYKd4pQNh28d2HCStAsYfWYddNK0DglFZKxgErQLaHzVXL4ClAuqe3eUNfKEBT5eXz43IsQG/JoS7DqyxAe5RG+3H+LEAGPqZ9fRYvQAdPv9m3jClAoNN7y4J0KkCx8mmnKDArQMJbRykAmitAKGsZsu+lKkAyvQ4PGQoqQLWTpJwKbCxAvQeyioV6L0C8dVfDhYgwQO4vZdvK0TBAMKCpQicHMUBBcmTtbeowQKfiXX1BxS9A40tUiyRMMEA=\",\"dtype\":\"float64\",\"order\":\"little\",\"shape\":[100]}},\"selected\":{\"id\":\"44234\"},\"selection_policy\":{\"id\":\"44233\"}},\"id\":\"43473\",\"type\":\"ColumnDataSource\"},{\"attributes\":{\"formatter\":{\"id\":\"44228\"},\"ticker\":{\"id\":\"43456\"}},\"id\":\"43455\",\"type\":\"LinearAxis\"},{\"attributes\":{\"axis\":{\"id\":\"43451\"},\"ticker\":null},\"id\":\"43454\",\"type\":\"Grid\"},{\"attributes\":{\"fill_color\":{\"value\":\"seagreen\"},\"line_color\":{\"value\":\"seagreen\"},\"x\":{\"field\":\"x\"},\"y\":{\"field\":\"y\"}},\"id\":\"43474\",\"type\":\"Circle\"}],\"root_ids\":[\"43442\"]},\"title\":\"Bokeh Application\",\"version\":\"2.1.1\"}};\n",
       "  var render_items = [{\"docid\":\"191356cf-0e9e-4cf9-a191-7b10c6a310c2\",\"root_ids\":[\"43442\"],\"roots\":{\"43442\":\"47c8bafe-b7c0-485e-a9f4-410153d21154\"}}];\n",
       "  root.Bokeh.embed.embed_items_notebook(docs_json, render_items);\n",
       "\n",
       "  }\n",
       "  if (root.Bokeh !== undefined) {\n",
       "    embed_document(root);\n",
       "  } else {\n",
       "    var attempts = 0;\n",
       "    var timer = setInterval(function(root) {\n",
       "      if (root.Bokeh !== undefined) {\n",
       "        clearInterval(timer);\n",
       "        embed_document(root);\n",
       "      } else {\n",
       "        attempts++;\n",
       "        if (attempts > 100) {\n",
       "          clearInterval(timer);\n",
       "          console.log(\"Bokeh: ERROR: Unable to run BokehJS code because BokehJS library is missing\");\n",
       "        }\n",
       "      }\n",
       "    }, 10, root)\n",
       "  }\n",
       "})(window);"
      ],
      "application/vnd.bokehjs_exec.v0+json": ""
     },
     "metadata": {
      "application/vnd.bokehjs_exec.v0+json": {
       "id": "43442"
      }
     },
     "output_type": "display_data"
    }
   ],
   "source": [
    "p2 = figure(width = 300, height = 300)\n",
    "p2.circle(y,z,color = 'seagreen')\n",
    "show(p2)"
   ]
  },
  {
   "cell_type": "markdown",
   "metadata": {},
   "source": [
    "Third plot"
   ]
  },
  {
   "cell_type": "code",
   "execution_count": 242,
   "metadata": {},
   "outputs": [
    {
     "data": {
      "text/html": [
       "\n",
       "\n",
       "\n",
       "\n",
       "\n",
       "\n",
       "  <div class=\"bk-root\" id=\"489a8416-ba26-4d57-9e6a-8c045e031d73\" data-root-id=\"45145\"></div>\n"
      ]
     },
     "metadata": {},
     "output_type": "display_data"
    },
    {
     "data": {
      "application/javascript": [
       "(function(root) {\n",
       "  function embed_document(root) {\n",
       "    \n",
       "  var docs_json = {\"74041eca-85cd-409b-81c0-34126626814c\":{\"roots\":{\"references\":[{\"attributes\":{\"below\":[{\"id\":\"45154\"}],\"center\":[{\"id\":\"45157\"},{\"id\":\"45161\"}],\"left\":[{\"id\":\"45158\"}],\"plot_height\":300,\"plot_width\":300,\"renderers\":[{\"id\":\"45179\"}],\"title\":{\"id\":\"45947\"},\"toolbar\":{\"id\":\"45169\"},\"x_range\":{\"id\":\"45146\"},\"x_scale\":{\"id\":\"45150\"},\"y_range\":{\"id\":\"45148\"},\"y_scale\":{\"id\":\"45152\"}},\"id\":\"45145\",\"subtype\":\"Figure\",\"type\":\"Plot\"},{\"attributes\":{\"axis\":{\"id\":\"45154\"},\"ticker\":null},\"id\":\"45157\",\"type\":\"Grid\"},{\"attributes\":{\"bottom_units\":\"screen\",\"fill_alpha\":0.5,\"fill_color\":\"lightgrey\",\"left_units\":\"screen\",\"level\":\"overlay\",\"line_alpha\":1.0,\"line_color\":\"black\",\"line_dash\":[4,4],\"line_width\":2,\"right_units\":\"screen\",\"top_units\":\"screen\"},\"id\":\"45168\",\"type\":\"BoxAnnotation\"},{\"attributes\":{},\"id\":\"45162\",\"type\":\"PanTool\"},{\"attributes\":{},\"id\":\"45146\",\"type\":\"DataRange1d\"},{\"attributes\":{},\"id\":\"45951\",\"type\":\"BasicTickFormatter\"},{\"attributes\":{\"text\":\"\"},\"id\":\"45947\",\"type\":\"Title\"},{\"attributes\":{\"data\":{\"x\":{\"__ndarray__\":\"AAAAAAAAAAAxb2dIzNu5PzFvZ0jM28k/ZZNNNtlk0z8xb2dIzNvZP3+lQK1fKeA/ZZNNNtlk4z9LgVq/UqDmPzFvZ0jM2+k/F1100UUX7T9/pUCtXynwP3Icx3Ecx/E/ZZNNNtlk8z9YCtT6lQL1P0uBWr9SoPY/Pvjggw8++D8xb2dIzNv5PyTm7QyJefs/F1100UUX/T8K1PqVArX+P3+lQK1fKQBA+OCDDz74AEByHMdxHMcBQOtXCtT6lQJAZZNNNtlkA0DezpCYtzMEQFgK1PqVAgVA0UUXXXTRBUBLgVq/UqAGQMS8nSExbwdAPvjggw8+CEC3MyTm7QwJQDFvZ0jM2wlAq6qqqqqqCkAk5u0MiXkLQJ4hMW9nSAxAF1100UUXDUCRmLczJOYNQArU+pUCtQ5AhA8++OCDD0B/pUCtXykQQDtDYt7OkBBA+OCDDz74EEC1fqVArV8RQHIcx3EcxxFALrrooosuEkDrVwrU+pUSQKj1KwVq/RJAZZNNNtlkE0AiMW9nSMwTQN7OkJi3MxRAm2yyySabFEBYCtT6lQIVQBWo9SsFahVA0UUXXXTRFUCO4ziO4zgWQEuBWr9SoBZACB988MEHF0DEvJ0hMW8XQIFav1Kg1hdAPvjggw8+GED7lQK1fqUYQLczJObtDBlAdNFFF110GUAxb2dIzNsZQO4MiXk7QxpAq6qqqqqqGkBnSMzbGRIbQCTm7QyJeRtA4YMPPvjgG0CeITFvZ0gcQFq/UqDWrxxAF1100UUXHUDU+pUCtX4dQJGYtzMk5h1ATTbZZJNNHkAK1PqVArUeQMdxHMdxHB9AhA8++OCDH0BArV8pUOsfQH+lQK1fKSBAXXTRRRddIEA7Q2LezpAgQBoS83aGxCBA+OCDDz74IEDXrxSo9SshQLV+pUCtXyFAk0022WSTIUByHMdxHMchQFDrVwrU+iFALrrooosuIkANiXk7Q2IiQOtXCtT6lSJAyiabbLLJIkCo9SsFav0iQIbEvJ0hMSNAZZNNNtlkI0BDYt7OkJgjQCIxb2dIzCNAAAAAAAAAJEA=\",\"dtype\":\"float64\",\"order\":\"little\",\"shape\":[100]},\"y\":{\"__ndarray__\":\"AuAcEixzwL9e5Ung8A3qP+O1yo1wKABA9EGOiBq0BEAsCeBJLicHQNL6hDf8Zfs/rluisaYABUBsAwRdA48GQGm3Bxv0KwtAkCRlpc7zEUAiOoEDQ8MLQPTB6TTAQRJAPdaVG9I3GEBxSe0h/hcXQFFZlH9geRBAMEilMB5OGUCxCD7qG2McQMKLQhewwR5AAWp6FPswH0CADD/ykx8dQIBL9h8T6BpAEorbSXzXG0BUuPlJiYUcQAyjhBmjghtALWI07qNQGED0mNVFwVEZQLaoPcxZGhVAjuRPK8ToDUALdoJN5TUDQEBL9Yw2weo/+isIH14e+D9sg3nBTyfqP8f8BU7ccvo/5sUKP4rKAEDfXbpFuzoPQGjNBtSlyhJAWlTflpwoFkAWyyPyJTUUQMSvDWxtrgpAYfkQdNInEEBAXvW5AxgVQB8g7cJEuxNAGmc3VNfsEUBdltfPQ58QQMKIa0JfKgxABV0X/GgRE0CMoIzhMcYSQOjmMQ6FHRZAllt8wvLBF0CeXdpUM4oUQOh/NVAueBxArf6e5sr3G0CahDhZpSYZQKLIQ0wtLh9AuXLBR6MWIUACsygui48gQHNMHqqRcB1ASKFkSCbhF0BR33Cu5ksUQJ82AUZFVBZA6GcnHgITE0CzsQZTP30XQJKWV6wSHBZAxwub2YnRGUCXgrT45MgWQB0zwze2txdAcv19FI5xGEAd3cDI1TIYQGfn62cahxhAuUqWWhbqFkDrMpwIoKMWQOvNarPkaR5A/HrF/h64H0A9wwWpgdYiQFMEv/dM4SVA+rHqY5U1J0D2y2GYKd4pQNh28d2HCStAsYfWYddNK0DglFZKxgErQLaHzVXL4ClAuqe3eUNfKEBT5eXz43IsQG/JoS7DqyxAe5RG+3H+LEAGPqZ9fRYvQAdPv9m3jClAoNN7y4J0KkCx8mmnKDArQMJbRykAmitAKGsZsu+lKkAyvQ4PGQoqQLWTpJwKbCxAvQeyioV6L0C8dVfDhYgwQO4vZdvK0TBAMKCpQicHMUBBcmTtbeowQKfiXX1BxS9A40tUiyRMMEA=\",\"dtype\":\"float64\",\"order\":\"little\",\"shape\":[100]}},\"selected\":{\"id\":\"45955\"},\"selection_policy\":{\"id\":\"45954\"}},\"id\":\"45176\",\"type\":\"ColumnDataSource\"},{\"attributes\":{},\"id\":\"45159\",\"type\":\"BasicTicker\"},{\"attributes\":{\"line_alpha\":0.1,\"line_color\":\"hotpink\",\"line_width\":2,\"x\":{\"field\":\"x\"},\"y\":{\"field\":\"y\"}},\"id\":\"45178\",\"type\":\"Line\"},{\"attributes\":{},\"id\":\"45148\",\"type\":\"DataRange1d\"},{\"attributes\":{},\"id\":\"45166\",\"type\":\"ResetTool\"},{\"attributes\":{},\"id\":\"45954\",\"type\":\"UnionRenderers\"},{\"attributes\":{\"axis\":{\"id\":\"45158\"},\"dimension\":1,\"ticker\":null},\"id\":\"45161\",\"type\":\"Grid\"},{\"attributes\":{},\"id\":\"45955\",\"type\":\"Selection\"},{\"attributes\":{\"line_color\":\"hotpink\",\"line_width\":2,\"x\":{\"field\":\"x\"},\"y\":{\"field\":\"y\"}},\"id\":\"45177\",\"type\":\"Line\"},{\"attributes\":{},\"id\":\"45152\",\"type\":\"LinearScale\"},{\"attributes\":{},\"id\":\"45167\",\"type\":\"HelpTool\"},{\"attributes\":{},\"id\":\"45163\",\"type\":\"WheelZoomTool\"},{\"attributes\":{},\"id\":\"45150\",\"type\":\"LinearScale\"},{\"attributes\":{\"overlay\":{\"id\":\"45168\"}},\"id\":\"45164\",\"type\":\"BoxZoomTool\"},{\"attributes\":{\"formatter\":{\"id\":\"45951\"},\"ticker\":{\"id\":\"45155\"}},\"id\":\"45154\",\"type\":\"LinearAxis\"},{\"attributes\":{},\"id\":\"45949\",\"type\":\"BasicTickFormatter\"},{\"attributes\":{\"formatter\":{\"id\":\"45949\"},\"ticker\":{\"id\":\"45159\"}},\"id\":\"45158\",\"type\":\"LinearAxis\"},{\"attributes\":{},\"id\":\"45155\",\"type\":\"BasicTicker\"},{\"attributes\":{\"source\":{\"id\":\"45176\"}},\"id\":\"45180\",\"type\":\"CDSView\"},{\"attributes\":{\"data_source\":{\"id\":\"45176\"},\"glyph\":{\"id\":\"45177\"},\"hover_glyph\":null,\"muted_glyph\":null,\"nonselection_glyph\":{\"id\":\"45178\"},\"selection_glyph\":null,\"view\":{\"id\":\"45180\"}},\"id\":\"45179\",\"type\":\"GlyphRenderer\"},{\"attributes\":{\"active_drag\":\"auto\",\"active_inspect\":\"auto\",\"active_multi\":null,\"active_scroll\":\"auto\",\"active_tap\":\"auto\",\"tools\":[{\"id\":\"45162\"},{\"id\":\"45163\"},{\"id\":\"45164\"},{\"id\":\"45165\"},{\"id\":\"45166\"},{\"id\":\"45167\"}]},\"id\":\"45169\",\"type\":\"Toolbar\"},{\"attributes\":{},\"id\":\"45165\",\"type\":\"SaveTool\"}],\"root_ids\":[\"45145\"]},\"title\":\"Bokeh Application\",\"version\":\"2.1.1\"}};\n",
       "  var render_items = [{\"docid\":\"74041eca-85cd-409b-81c0-34126626814c\",\"root_ids\":[\"45145\"],\"roots\":{\"45145\":\"489a8416-ba26-4d57-9e6a-8c045e031d73\"}}];\n",
       "  root.Bokeh.embed.embed_items_notebook(docs_json, render_items);\n",
       "\n",
       "  }\n",
       "  if (root.Bokeh !== undefined) {\n",
       "    embed_document(root);\n",
       "  } else {\n",
       "    var attempts = 0;\n",
       "    var timer = setInterval(function(root) {\n",
       "      if (root.Bokeh !== undefined) {\n",
       "        clearInterval(timer);\n",
       "        embed_document(root);\n",
       "      } else {\n",
       "        attempts++;\n",
       "        if (attempts > 100) {\n",
       "          clearInterval(timer);\n",
       "          console.log(\"Bokeh: ERROR: Unable to run BokehJS code because BokehJS library is missing\");\n",
       "        }\n",
       "      }\n",
       "    }, 10, root)\n",
       "  }\n",
       "})(window);"
      ],
      "application/vnd.bokehjs_exec.v0+json": ""
     },
     "metadata": {
      "application/vnd.bokehjs_exec.v0+json": {
       "id": "45145"
      }
     },
     "output_type": "display_data"
    }
   ],
   "source": [
    "p3 = figure(width = 300, height = 300)\n",
    "p3.line(x,z,color = 'hotpink', width = 2)\n",
    "show(p3)"
   ]
  },
  {
   "cell_type": "markdown",
   "metadata": {},
   "source": [
    "Now, we can combine them:"
   ]
  },
  {
   "cell_type": "code",
   "execution_count": 244,
   "metadata": {},
   "outputs": [
    {
     "data": {
      "text/html": [
       "\n",
       "\n",
       "\n",
       "\n",
       "\n",
       "\n",
       "  <div class=\"bk-root\" id=\"ea7dd505-b9a6-41a3-b613-16344a55b0e9\" data-root-id=\"46077\"></div>\n"
      ]
     },
     "metadata": {},
     "output_type": "display_data"
    },
    {
     "data": {
      "application/javascript": [
       "(function(root) {\n",
       "  function embed_document(root) {\n",
       "    \n",
       "  var docs_json = {\"c8845b9b-0aac-4647-9346-1a7469988978\":{\"roots\":{\"references\":[{\"attributes\":{\"children\":[{\"id\":\"46076\"},{\"id\":\"46074\"}]},\"id\":\"46077\",\"type\":\"Column\"},{\"attributes\":{},\"id\":\"45162\",\"type\":\"PanTool\"},{\"attributes\":{\"source\":{\"id\":\"43473\"}},\"id\":\"43477\",\"type\":\"CDSView\"},{\"attributes\":{},\"id\":\"45146\",\"type\":\"DataRange1d\"},{\"attributes\":{},\"id\":\"39347\",\"type\":\"LinearScale\"},{\"attributes\":{\"text\":\"\"},\"id\":\"45947\",\"type\":\"Title\"},{\"attributes\":{\"fill_alpha\":{\"value\":0.1},\"fill_color\":{\"value\":\"maroon\"},\"line_alpha\":{\"value\":0.1},\"line_color\":{\"value\":\"maroon\"},\"x\":{\"field\":\"x\"},\"y\":{\"field\":\"y\"}},\"id\":\"39375\",\"type\":\"Circle\"},{\"attributes\":{},\"id\":\"43445\",\"type\":\"DataRange1d\"},{\"attributes\":{\"axis\":{\"id\":\"39355\"},\"dimension\":1,\"ticker\":null},\"id\":\"39358\",\"type\":\"Grid\"},{\"attributes\":{\"formatter\":{\"id\":\"40083\"},\"ticker\":{\"id\":\"39356\"}},\"id\":\"39355\",\"type\":\"LinearAxis\"},{\"attributes\":{\"formatter\":{\"id\":\"40085\"},\"ticker\":{\"id\":\"39352\"}},\"id\":\"39351\",\"type\":\"LinearAxis\"},{\"attributes\":{},\"id\":\"45166\",\"type\":\"ResetTool\"},{\"attributes\":{},\"id\":\"45148\",\"type\":\"DataRange1d\"},{\"attributes\":{\"overlay\":{\"id\":\"43465\"}},\"id\":\"43461\",\"type\":\"BoxZoomTool\"},{\"attributes\":{},\"id\":\"43462\",\"type\":\"SaveTool\"},{\"attributes\":{},\"id\":\"43463\",\"type\":\"ResetTool\"},{\"attributes\":{},\"id\":\"45152\",\"type\":\"LinearScale\"},{\"attributes\":{},\"id\":\"45163\",\"type\":\"WheelZoomTool\"},{\"attributes\":{},\"id\":\"44230\",\"type\":\"BasicTickFormatter\"},{\"attributes\":{},\"id\":\"39345\",\"type\":\"DataRange1d\"},{\"attributes\":{\"below\":[{\"id\":\"45154\"}],\"center\":[{\"id\":\"45157\"},{\"id\":\"45161\"}],\"left\":[{\"id\":\"45158\"}],\"plot_height\":300,\"plot_width\":300,\"renderers\":[{\"id\":\"45179\"}],\"title\":{\"id\":\"45947\"},\"toolbar\":{\"id\":\"45169\"},\"toolbar_location\":null,\"x_range\":{\"id\":\"45146\"},\"x_scale\":{\"id\":\"45150\"},\"y_range\":{\"id\":\"45148\"},\"y_scale\":{\"id\":\"45152\"}},\"id\":\"45145\",\"subtype\":\"Figure\",\"type\":\"Plot\"},{\"attributes\":{\"data_source\":{\"id\":\"39373\"},\"glyph\":{\"id\":\"39374\"},\"hover_glyph\":null,\"muted_glyph\":null,\"nonselection_glyph\":{\"id\":\"39375\"},\"selection_glyph\":null,\"view\":{\"id\":\"39377\"}},\"id\":\"39376\",\"type\":\"GlyphRenderer\"},{\"attributes\":{},\"id\":\"43452\",\"type\":\"BasicTicker\"},{\"attributes\":{},\"id\":\"45155\",\"type\":\"BasicTicker\"},{\"attributes\":{\"children\":[[{\"id\":\"39342\"},0,0],[{\"id\":\"43442\"},0,1],[{\"id\":\"45145\"},1,0]]},\"id\":\"46074\",\"type\":\"GridBox\"},{\"attributes\":{},\"id\":\"43456\",\"type\":\"BasicTicker\"},{\"attributes\":{\"source\":{\"id\":\"45176\"}},\"id\":\"45180\",\"type\":\"CDSView\"},{\"attributes\":{},\"id\":\"39356\",\"type\":\"BasicTicker\"},{\"attributes\":{\"data\":{\"x\":{\"__ndarray__\":\"45Kv+3NE9T93DJmoo2jlv3YRIlgnQL2/YFW+YEsC5r/CiIlPOlblvxUeZsGQ4O2/nTIQkka68j+zCm4/cAvwP3s3nZu0L+q/4JX5tPkO8j/TiAMZwgX7PwjIeD7JAAhAFylopqdjAUDYHJKfnaz2P9/i/q/w2u0/Cn+uX0zsAkAgB79Ag44IQEGO45EDMwZA8dn3vmm9/z+SkZE/Q3kDQG42GVxR3eU/Qqp2Zvt4BUDfEdWDresMQIqb+7lIFAJAAJFbeQZeBECs3JEd49wNQEKC0VFo/gRAlBzIEZdrEUDEQ6UPU3YJQNrIN2sMvA9Ab2kRRy4oBUDJIC49hDUNQNQb0rn1rBNABqbUGRgPAEBipEIHDHQTQMBxKh7QIvc/YD1nyGYNDEAxkpQNwHkRQIPHmrfHAwpAh2N/AqPrEED+ORjK0DcVQNe5Hb/NuRFAqsppgVUtAkBcu51b4JYUQDj1+wdl5hVA6wk4TXqnEkCchREcmn8SQJqbRAhhLRNAwXJh2ALCCUCPu+1tgToSQP52hWKDARtAy3HmA/TZGEAdUz22FssXQJckS2KRqxNA5JQst4V8FEBVjb6EeaEYQE5TzR65DxdAXTVMK2gtF0DmdakbS0cVQBcqs8/I1RlARiA/ogVlFUB67DFTzrIXQD8DVZCeehxAoL/Z1dXsEUAgO9GYmYobQHqXQ5Nl/BVAnFzkl/ZbEEAEcCGHxysWQIQnr30F2RZAOau3EaCaH0DifCJFJBwgQBtqXXm2yyJAWhkkh7lqG0C3RSMy6ygcQKLzBCItTx1AX5mDai1GIkBbhgCaE7kgQCY69yidOh9ARhC/yPEaHEAAQkFkJOwjQERJQpBszRlAfgwktYHJH0AwC2u4zTwgQBk7WrSqFSJAm/e2DDS1HEAYKhv4GOEjQK6KF4jfHSFAHs6zZSZCH0DPMkmnjWMgQPv6pUrS4SFAnIDwOMkFIUBjWFTaRCAkQMCr3gItpSBAT9U1/nSiI0A9FhAyOvAmQIbheL8EziNAXu3WeHhkJUBFNyqlM1clQEPupX3gDyBAa5XdFiR2JkA=\",\"dtype\":\"float64\",\"order\":\"little\",\"shape\":[100]},\"y\":{\"__ndarray__\":\"AuAcEixzwL9e5Ung8A3qP+O1yo1wKABA9EGOiBq0BEAsCeBJLicHQNL6hDf8Zfs/rluisaYABUBsAwRdA48GQGm3Bxv0KwtAkCRlpc7zEUAiOoEDQ8MLQPTB6TTAQRJAPdaVG9I3GEBxSe0h/hcXQFFZlH9geRBAMEilMB5OGUCxCD7qG2McQMKLQhewwR5AAWp6FPswH0CADD/ykx8dQIBL9h8T6BpAEorbSXzXG0BUuPlJiYUcQAyjhBmjghtALWI07qNQGED0mNVFwVEZQLaoPcxZGhVAjuRPK8ToDUALdoJN5TUDQEBL9Yw2weo/+isIH14e+D9sg3nBTyfqP8f8BU7ccvo/5sUKP4rKAEDfXbpFuzoPQGjNBtSlyhJAWlTflpwoFkAWyyPyJTUUQMSvDWxtrgpAYfkQdNInEEBAXvW5AxgVQB8g7cJEuxNAGmc3VNfsEUBdltfPQ58QQMKIa0JfKgxABV0X/GgRE0CMoIzhMcYSQOjmMQ6FHRZAllt8wvLBF0CeXdpUM4oUQOh/NVAueBxArf6e5sr3G0CahDhZpSYZQKLIQ0wtLh9AuXLBR6MWIUACsygui48gQHNMHqqRcB1ASKFkSCbhF0BR33Cu5ksUQJ82AUZFVBZA6GcnHgITE0CzsQZTP30XQJKWV6wSHBZAxwub2YnRGUCXgrT45MgWQB0zwze2txdAcv19FI5xGEAd3cDI1TIYQGfn62cahxhAuUqWWhbqFkDrMpwIoKMWQOvNarPkaR5A/HrF/h64H0A9wwWpgdYiQFMEv/dM4SVA+rHqY5U1J0D2y2GYKd4pQNh28d2HCStAsYfWYddNK0DglFZKxgErQLaHzVXL4ClAuqe3eUNfKEBT5eXz43IsQG/JoS7DqyxAe5RG+3H+LEAGPqZ9fRYvQAdPv9m3jClAoNN7y4J0KkCx8mmnKDArQMJbRykAmitAKGsZsu+lKkAyvQ4PGQoqQLWTpJwKbCxAvQeyioV6L0C8dVfDhYgwQO4vZdvK0TBAMKCpQicHMUBBcmTtbeowQKfiXX1BxS9A40tUiyRMMEA=\",\"dtype\":\"float64\",\"order\":\"little\",\"shape\":[100]}},\"selected\":{\"id\":\"44234\"},\"selection_policy\":{\"id\":\"44233\"}},\"id\":\"43473\",\"type\":\"ColumnDataSource\"},{\"attributes\":{\"data_source\":{\"id\":\"45176\"},\"glyph\":{\"id\":\"45177\"},\"hover_glyph\":null,\"muted_glyph\":null,\"nonselection_glyph\":{\"id\":\"45178\"},\"selection_glyph\":null,\"view\":{\"id\":\"45180\"}},\"id\":\"45179\",\"type\":\"GlyphRenderer\"},{\"attributes\":{\"active_drag\":\"auto\",\"active_inspect\":\"auto\",\"active_multi\":null,\"active_scroll\":\"auto\",\"active_tap\":\"auto\",\"tools\":[{\"id\":\"45162\"},{\"id\":\"45163\"},{\"id\":\"45164\"},{\"id\":\"45165\"},{\"id\":\"45166\"},{\"id\":\"45167\"}]},\"id\":\"45169\",\"type\":\"Toolbar\"},{\"attributes\":{\"axis\":{\"id\":\"39351\"},\"ticker\":null},\"id\":\"39354\",\"type\":\"Grid\"},{\"attributes\":{\"axis\":{\"id\":\"45154\"},\"ticker\":null},\"id\":\"45157\",\"type\":\"Grid\"},{\"attributes\":{\"bottom_units\":\"screen\",\"fill_alpha\":0.5,\"fill_color\":\"lightgrey\",\"left_units\":\"screen\",\"level\":\"overlay\",\"line_alpha\":1.0,\"line_color\":\"black\",\"line_dash\":[4,4],\"line_width\":2,\"right_units\":\"screen\",\"top_units\":\"screen\"},\"id\":\"45168\",\"type\":\"BoxAnnotation\"},{\"attributes\":{\"source\":{\"id\":\"39373\"}},\"id\":\"39377\",\"type\":\"CDSView\"},{\"attributes\":{},\"id\":\"45951\",\"type\":\"BasicTickFormatter\"},{\"attributes\":{\"fill_alpha\":{\"value\":0.1},\"fill_color\":{\"value\":\"seagreen\"},\"line_alpha\":{\"value\":0.1},\"line_color\":{\"value\":\"seagreen\"},\"x\":{\"field\":\"x\"},\"y\":{\"field\":\"y\"}},\"id\":\"43475\",\"type\":\"Circle\"},{\"attributes\":{},\"id\":\"40089\",\"type\":\"Selection\"},{\"attributes\":{\"below\":[{\"id\":\"43451\"}],\"center\":[{\"id\":\"43454\"},{\"id\":\"43458\"}],\"left\":[{\"id\":\"43455\"}],\"plot_height\":300,\"plot_width\":300,\"renderers\":[{\"id\":\"43476\"}],\"title\":{\"id\":\"44226\"},\"toolbar\":{\"id\":\"43466\"},\"toolbar_location\":null,\"x_range\":{\"id\":\"43443\"},\"x_scale\":{\"id\":\"43447\"},\"y_range\":{\"id\":\"43445\"},\"y_scale\":{\"id\":\"43449\"}},\"id\":\"43442\",\"subtype\":\"Figure\",\"type\":\"Plot\"},{\"attributes\":{},\"id\":\"43443\",\"type\":\"DataRange1d\"},{\"attributes\":{\"line_alpha\":0.1,\"line_color\":\"hotpink\",\"line_width\":2,\"x\":{\"field\":\"x\"},\"y\":{\"field\":\"y\"}},\"id\":\"45178\",\"type\":\"Line\"},{\"attributes\":{},\"id\":\"39343\",\"type\":\"DataRange1d\"},{\"attributes\":{\"formatter\":{\"id\":\"44230\"},\"ticker\":{\"id\":\"43452\"}},\"id\":\"43451\",\"type\":\"LinearAxis\"},{\"attributes\":{},\"id\":\"43464\",\"type\":\"HelpTool\"},{\"attributes\":{},\"id\":\"43449\",\"type\":\"LinearScale\"},{\"attributes\":{},\"id\":\"44234\",\"type\":\"Selection\"},{\"attributes\":{\"axis\":{\"id\":\"43455\"},\"dimension\":1,\"ticker\":null},\"id\":\"43458\",\"type\":\"Grid\"},{\"attributes\":{\"data_source\":{\"id\":\"43473\"},\"glyph\":{\"id\":\"43474\"},\"hover_glyph\":null,\"muted_glyph\":null,\"nonselection_glyph\":{\"id\":\"43475\"},\"selection_glyph\":null,\"view\":{\"id\":\"43477\"}},\"id\":\"43476\",\"type\":\"GlyphRenderer\"},{\"attributes\":{},\"id\":\"45954\",\"type\":\"UnionRenderers\"},{\"attributes\":{},\"id\":\"45955\",\"type\":\"Selection\"},{\"attributes\":{},\"id\":\"43460\",\"type\":\"WheelZoomTool\"},{\"attributes\":{\"text\":\"\"},\"id\":\"44226\",\"type\":\"Title\"},{\"attributes\":{},\"id\":\"45167\",\"type\":\"HelpTool\"},{\"attributes\":{},\"id\":\"43459\",\"type\":\"PanTool\"},{\"attributes\":{\"overlay\":{\"id\":\"45168\"}},\"id\":\"45164\",\"type\":\"BoxZoomTool\"},{\"attributes\":{},\"id\":\"45150\",\"type\":\"LinearScale\"},{\"attributes\":{\"formatter\":{\"id\":\"45951\"},\"ticker\":{\"id\":\"45155\"}},\"id\":\"45154\",\"type\":\"LinearAxis\"},{\"attributes\":{},\"id\":\"39352\",\"type\":\"BasicTicker\"},{\"attributes\":{},\"id\":\"44228\",\"type\":\"BasicTickFormatter\"},{\"attributes\":{\"bottom_units\":\"screen\",\"fill_alpha\":0.5,\"fill_color\":\"lightgrey\",\"left_units\":\"screen\",\"level\":\"overlay\",\"line_alpha\":1.0,\"line_color\":\"black\",\"line_dash\":[4,4],\"line_width\":2,\"right_units\":\"screen\",\"top_units\":\"screen\"},\"id\":\"39365\",\"type\":\"BoxAnnotation\"},{\"attributes\":{},\"id\":\"40085\",\"type\":\"BasicTickFormatter\"},{\"attributes\":{},\"id\":\"43447\",\"type\":\"LinearScale\"},{\"attributes\":{\"active_drag\":\"auto\",\"active_inspect\":\"auto\",\"active_multi\":null,\"active_scroll\":\"auto\",\"active_tap\":\"auto\",\"tools\":[{\"id\":\"43459\"},{\"id\":\"43460\"},{\"id\":\"43461\"},{\"id\":\"43462\"},{\"id\":\"43463\"},{\"id\":\"43464\"}]},\"id\":\"43466\",\"type\":\"Toolbar\"},{\"attributes\":{},\"id\":\"44233\",\"type\":\"UnionRenderers\"},{\"attributes\":{},\"id\":\"39349\",\"type\":\"LinearScale\"},{\"attributes\":{\"axis\":{\"id\":\"43451\"},\"ticker\":null},\"id\":\"43454\",\"type\":\"Grid\"},{\"attributes\":{\"fill_color\":{\"value\":\"seagreen\"},\"line_color\":{\"value\":\"seagreen\"},\"x\":{\"field\":\"x\"},\"y\":{\"field\":\"y\"}},\"id\":\"43474\",\"type\":\"Circle\"},{\"attributes\":{},\"id\":\"45165\",\"type\":\"SaveTool\"},{\"attributes\":{},\"id\":\"45159\",\"type\":\"BasicTicker\"},{\"attributes\":{\"overlay\":{\"id\":\"39365\"}},\"id\":\"39361\",\"type\":\"BoxZoomTool\"},{\"attributes\":{\"axis\":{\"id\":\"45158\"},\"dimension\":1,\"ticker\":null},\"id\":\"45161\",\"type\":\"Grid\"},{\"attributes\":{\"line_color\":\"hotpink\",\"line_width\":2,\"x\":{\"field\":\"x\"},\"y\":{\"field\":\"y\"}},\"id\":\"45177\",\"type\":\"Line\"},{\"attributes\":{},\"id\":\"40088\",\"type\":\"UnionRenderers\"},{\"attributes\":{},\"id\":\"40083\",\"type\":\"BasicTickFormatter\"},{\"attributes\":{\"fill_color\":{\"value\":\"maroon\"},\"line_color\":{\"value\":\"maroon\"},\"x\":{\"field\":\"x\"},\"y\":{\"field\":\"y\"}},\"id\":\"39374\",\"type\":\"Circle\"},{\"attributes\":{\"bottom_units\":\"screen\",\"fill_alpha\":0.5,\"fill_color\":\"lightgrey\",\"left_units\":\"screen\",\"level\":\"overlay\",\"line_alpha\":1.0,\"line_color\":\"black\",\"line_dash\":[4,4],\"line_width\":2,\"right_units\":\"screen\",\"top_units\":\"screen\"},\"id\":\"43465\",\"type\":\"BoxAnnotation\"},{\"attributes\":{\"active_drag\":\"auto\",\"active_inspect\":\"auto\",\"active_multi\":null,\"active_scroll\":\"auto\",\"active_tap\":\"auto\",\"tools\":[{\"id\":\"39359\"},{\"id\":\"39360\"},{\"id\":\"39361\"},{\"id\":\"39362\"},{\"id\":\"39363\"},{\"id\":\"39364\"}]},\"id\":\"39366\",\"type\":\"Toolbar\"},{\"attributes\":{},\"id\":\"45949\",\"type\":\"BasicTickFormatter\"},{\"attributes\":{\"formatter\":{\"id\":\"45949\"},\"ticker\":{\"id\":\"45159\"}},\"id\":\"45158\",\"type\":\"LinearAxis\"},{\"attributes\":{},\"id\":\"39359\",\"type\":\"PanTool\"},{\"attributes\":{},\"id\":\"39364\",\"type\":\"HelpTool\"},{\"attributes\":{\"text\":\"\"},\"id\":\"40081\",\"type\":\"Title\"},{\"attributes\":{\"formatter\":{\"id\":\"44228\"},\"ticker\":{\"id\":\"43456\"}},\"id\":\"43455\",\"type\":\"LinearAxis\"},{\"attributes\":{},\"id\":\"39362\",\"type\":\"SaveTool\"},{\"attributes\":{\"toolbars\":[{\"id\":\"39366\"},{\"id\":\"43466\"},{\"id\":\"45169\"}],\"tools\":[{\"id\":\"39359\"},{\"id\":\"39360\"},{\"id\":\"39361\"},{\"id\":\"39362\"},{\"id\":\"39363\"},{\"id\":\"39364\"},{\"id\":\"43459\"},{\"id\":\"43460\"},{\"id\":\"43461\"},{\"id\":\"43462\"},{\"id\":\"43463\"},{\"id\":\"43464\"},{\"id\":\"45162\"},{\"id\":\"45163\"},{\"id\":\"45164\"},{\"id\":\"45165\"},{\"id\":\"45166\"},{\"id\":\"45167\"}]},\"id\":\"46075\",\"type\":\"ProxyToolbar\"},{\"attributes\":{},\"id\":\"39360\",\"type\":\"WheelZoomTool\"},{\"attributes\":{\"data\":{\"x\":{\"__ndarray__\":\"AAAAAAAAAAAxb2dIzNu5PzFvZ0jM28k/ZZNNNtlk0z8xb2dIzNvZP3+lQK1fKeA/ZZNNNtlk4z9LgVq/UqDmPzFvZ0jM2+k/F1100UUX7T9/pUCtXynwP3Icx3Ecx/E/ZZNNNtlk8z9YCtT6lQL1P0uBWr9SoPY/Pvjggw8++D8xb2dIzNv5PyTm7QyJefs/F1100UUX/T8K1PqVArX+P3+lQK1fKQBA+OCDDz74AEByHMdxHMcBQOtXCtT6lQJAZZNNNtlkA0DezpCYtzMEQFgK1PqVAgVA0UUXXXTRBUBLgVq/UqAGQMS8nSExbwdAPvjggw8+CEC3MyTm7QwJQDFvZ0jM2wlAq6qqqqqqCkAk5u0MiXkLQJ4hMW9nSAxAF1100UUXDUCRmLczJOYNQArU+pUCtQ5AhA8++OCDD0B/pUCtXykQQDtDYt7OkBBA+OCDDz74EEC1fqVArV8RQHIcx3EcxxFALrrooosuEkDrVwrU+pUSQKj1KwVq/RJAZZNNNtlkE0AiMW9nSMwTQN7OkJi3MxRAm2yyySabFEBYCtT6lQIVQBWo9SsFahVA0UUXXXTRFUCO4ziO4zgWQEuBWr9SoBZACB988MEHF0DEvJ0hMW8XQIFav1Kg1hdAPvjggw8+GED7lQK1fqUYQLczJObtDBlAdNFFF110GUAxb2dIzNsZQO4MiXk7QxpAq6qqqqqqGkBnSMzbGRIbQCTm7QyJeRtA4YMPPvjgG0CeITFvZ0gcQFq/UqDWrxxAF1100UUXHUDU+pUCtX4dQJGYtzMk5h1ATTbZZJNNHkAK1PqVArUeQMdxHMdxHB9AhA8++OCDH0BArV8pUOsfQH+lQK1fKSBAXXTRRRddIEA7Q2LezpAgQBoS83aGxCBA+OCDDz74IEDXrxSo9SshQLV+pUCtXyFAk0022WSTIUByHMdxHMchQFDrVwrU+iFALrrooosuIkANiXk7Q2IiQOtXCtT6lSJAyiabbLLJIkCo9SsFav0iQIbEvJ0hMSNAZZNNNtlkI0BDYt7OkJgjQCIxb2dIzCNAAAAAAAAAJEA=\",\"dtype\":\"float64\",\"order\":\"little\",\"shape\":[100]},\"y\":{\"__ndarray__\":\"AuAcEixzwL9e5Ung8A3qP+O1yo1wKABA9EGOiBq0BEAsCeBJLicHQNL6hDf8Zfs/rluisaYABUBsAwRdA48GQGm3Bxv0KwtAkCRlpc7zEUAiOoEDQ8MLQPTB6TTAQRJAPdaVG9I3GEBxSe0h/hcXQFFZlH9geRBAMEilMB5OGUCxCD7qG2McQMKLQhewwR5AAWp6FPswH0CADD/ykx8dQIBL9h8T6BpAEorbSXzXG0BUuPlJiYUcQAyjhBmjghtALWI07qNQGED0mNVFwVEZQLaoPcxZGhVAjuRPK8ToDUALdoJN5TUDQEBL9Yw2weo/+isIH14e+D9sg3nBTyfqP8f8BU7ccvo/5sUKP4rKAEDfXbpFuzoPQGjNBtSlyhJAWlTflpwoFkAWyyPyJTUUQMSvDWxtrgpAYfkQdNInEEBAXvW5AxgVQB8g7cJEuxNAGmc3VNfsEUBdltfPQ58QQMKIa0JfKgxABV0X/GgRE0CMoIzhMcYSQOjmMQ6FHRZAllt8wvLBF0CeXdpUM4oUQOh/NVAueBxArf6e5sr3G0CahDhZpSYZQKLIQ0wtLh9AuXLBR6MWIUACsygui48gQHNMHqqRcB1ASKFkSCbhF0BR33Cu5ksUQJ82AUZFVBZA6GcnHgITE0CzsQZTP30XQJKWV6wSHBZAxwub2YnRGUCXgrT45MgWQB0zwze2txdAcv19FI5xGEAd3cDI1TIYQGfn62cahxhAuUqWWhbqFkDrMpwIoKMWQOvNarPkaR5A/HrF/h64H0A9wwWpgdYiQFMEv/dM4SVA+rHqY5U1J0D2y2GYKd4pQNh28d2HCStAsYfWYddNK0DglFZKxgErQLaHzVXL4ClAuqe3eUNfKEBT5eXz43IsQG/JoS7DqyxAe5RG+3H+LEAGPqZ9fRYvQAdPv9m3jClAoNN7y4J0KkCx8mmnKDArQMJbRykAmitAKGsZsu+lKkAyvQ4PGQoqQLWTpJwKbCxAvQeyioV6L0C8dVfDhYgwQO4vZdvK0TBAMKCpQicHMUBBcmTtbeowQKfiXX1BxS9A40tUiyRMMEA=\",\"dtype\":\"float64\",\"order\":\"little\",\"shape\":[100]}},\"selected\":{\"id\":\"45955\"},\"selection_policy\":{\"id\":\"45954\"}},\"id\":\"45176\",\"type\":\"ColumnDataSource\"},{\"attributes\":{\"below\":[{\"id\":\"39351\"}],\"center\":[{\"id\":\"39354\"},{\"id\":\"39358\"}],\"left\":[{\"id\":\"39355\"}],\"plot_height\":300,\"plot_width\":300,\"renderers\":[{\"id\":\"39376\"}],\"title\":{\"id\":\"40081\"},\"toolbar\":{\"id\":\"39366\"},\"toolbar_location\":null,\"x_range\":{\"id\":\"39343\"},\"x_scale\":{\"id\":\"39347\"},\"y_range\":{\"id\":\"39345\"},\"y_scale\":{\"id\":\"39349\"}},\"id\":\"39342\",\"subtype\":\"Figure\",\"type\":\"Plot\"},{\"attributes\":{\"data\":{\"x\":{\"__ndarray__\":\"AAAAAAAAAAAxb2dIzNu5PzFvZ0jM28k/ZZNNNtlk0z8xb2dIzNvZP3+lQK1fKeA/ZZNNNtlk4z9LgVq/UqDmPzFvZ0jM2+k/F1100UUX7T9/pUCtXynwP3Icx3Ecx/E/ZZNNNtlk8z9YCtT6lQL1P0uBWr9SoPY/Pvjggw8++D8xb2dIzNv5PyTm7QyJefs/F1100UUX/T8K1PqVArX+P3+lQK1fKQBA+OCDDz74AEByHMdxHMcBQOtXCtT6lQJAZZNNNtlkA0DezpCYtzMEQFgK1PqVAgVA0UUXXXTRBUBLgVq/UqAGQMS8nSExbwdAPvjggw8+CEC3MyTm7QwJQDFvZ0jM2wlAq6qqqqqqCkAk5u0MiXkLQJ4hMW9nSAxAF1100UUXDUCRmLczJOYNQArU+pUCtQ5AhA8++OCDD0B/pUCtXykQQDtDYt7OkBBA+OCDDz74EEC1fqVArV8RQHIcx3EcxxFALrrooosuEkDrVwrU+pUSQKj1KwVq/RJAZZNNNtlkE0AiMW9nSMwTQN7OkJi3MxRAm2yyySabFEBYCtT6lQIVQBWo9SsFahVA0UUXXXTRFUCO4ziO4zgWQEuBWr9SoBZACB988MEHF0DEvJ0hMW8XQIFav1Kg1hdAPvjggw8+GED7lQK1fqUYQLczJObtDBlAdNFFF110GUAxb2dIzNsZQO4MiXk7QxpAq6qqqqqqGkBnSMzbGRIbQCTm7QyJeRtA4YMPPvjgG0CeITFvZ0gcQFq/UqDWrxxAF1100UUXHUDU+pUCtX4dQJGYtzMk5h1ATTbZZJNNHkAK1PqVArUeQMdxHMdxHB9AhA8++OCDH0BArV8pUOsfQH+lQK1fKSBAXXTRRRddIEA7Q2LezpAgQBoS83aGxCBA+OCDDz74IEDXrxSo9SshQLV+pUCtXyFAk0022WSTIUByHMdxHMchQFDrVwrU+iFALrrooosuIkANiXk7Q2IiQOtXCtT6lSJAyiabbLLJIkCo9SsFav0iQIbEvJ0hMSNAZZNNNtlkI0BDYt7OkJgjQCIxb2dIzCNAAAAAAAAAJEA=\",\"dtype\":\"float64\",\"order\":\"little\",\"shape\":[100]},\"y\":{\"__ndarray__\":\"45Kv+3NE9T93DJmoo2jlv3YRIlgnQL2/YFW+YEsC5r/CiIlPOlblvxUeZsGQ4O2/nTIQkka68j+zCm4/cAvwP3s3nZu0L+q/4JX5tPkO8j/TiAMZwgX7PwjIeD7JAAhAFylopqdjAUDYHJKfnaz2P9/i/q/w2u0/Cn+uX0zsAkAgB79Ag44IQEGO45EDMwZA8dn3vmm9/z+SkZE/Q3kDQG42GVxR3eU/Qqp2Zvt4BUDfEdWDresMQIqb+7lIFAJAAJFbeQZeBECs3JEd49wNQEKC0VFo/gRAlBzIEZdrEUDEQ6UPU3YJQNrIN2sMvA9Ab2kRRy4oBUDJIC49hDUNQNQb0rn1rBNABqbUGRgPAEBipEIHDHQTQMBxKh7QIvc/YD1nyGYNDEAxkpQNwHkRQIPHmrfHAwpAh2N/AqPrEED+ORjK0DcVQNe5Hb/NuRFAqsppgVUtAkBcu51b4JYUQDj1+wdl5hVA6wk4TXqnEkCchREcmn8SQJqbRAhhLRNAwXJh2ALCCUCPu+1tgToSQP52hWKDARtAy3HmA/TZGEAdUz22FssXQJckS2KRqxNA5JQst4V8FEBVjb6EeaEYQE5TzR65DxdAXTVMK2gtF0DmdakbS0cVQBcqs8/I1RlARiA/ogVlFUB67DFTzrIXQD8DVZCeehxAoL/Z1dXsEUAgO9GYmYobQHqXQ5Nl/BVAnFzkl/ZbEEAEcCGHxysWQIQnr30F2RZAOau3EaCaH0DifCJFJBwgQBtqXXm2yyJAWhkkh7lqG0C3RSMy6ygcQKLzBCItTx1AX5mDai1GIkBbhgCaE7kgQCY69yidOh9ARhC/yPEaHEAAQkFkJOwjQERJQpBszRlAfgwktYHJH0AwC2u4zTwgQBk7WrSqFSJAm/e2DDS1HEAYKhv4GOEjQK6KF4jfHSFAHs6zZSZCH0DPMkmnjWMgQPv6pUrS4SFAnIDwOMkFIUBjWFTaRCAkQMCr3gItpSBAT9U1/nSiI0A9FhAyOvAmQIbheL8EziNAXu3WeHhkJUBFNyqlM1clQEPupX3gDyBAa5XdFiR2JkA=\",\"dtype\":\"float64\",\"order\":\"little\",\"shape\":[100]}},\"selected\":{\"id\":\"40089\"},\"selection_policy\":{\"id\":\"40088\"}},\"id\":\"39373\",\"type\":\"ColumnDataSource\"},{\"attributes\":{\"toolbar\":{\"id\":\"46075\"},\"toolbar_location\":\"above\"},\"id\":\"46076\",\"type\":\"ToolbarBox\"},{\"attributes\":{},\"id\":\"39363\",\"type\":\"ResetTool\"}],\"root_ids\":[\"46077\"]},\"title\":\"Bokeh Application\",\"version\":\"2.1.1\"}};\n",
       "  var render_items = [{\"docid\":\"c8845b9b-0aac-4647-9346-1a7469988978\",\"root_ids\":[\"46077\"],\"roots\":{\"46077\":\"ea7dd505-b9a6-41a3-b613-16344a55b0e9\"}}];\n",
       "  root.Bokeh.embed.embed_items_notebook(docs_json, render_items);\n",
       "\n",
       "  }\n",
       "  if (root.Bokeh !== undefined) {\n",
       "    embed_document(root);\n",
       "  } else {\n",
       "    var attempts = 0;\n",
       "    var timer = setInterval(function(root) {\n",
       "      if (root.Bokeh !== undefined) {\n",
       "        clearInterval(timer);\n",
       "        embed_document(root);\n",
       "      } else {\n",
       "        attempts++;\n",
       "        if (attempts > 100) {\n",
       "          clearInterval(timer);\n",
       "          console.log(\"Bokeh: ERROR: Unable to run BokehJS code because BokehJS library is missing\");\n",
       "        }\n",
       "      }\n",
       "    }, 10, root)\n",
       "  }\n",
       "})(window);"
      ],
      "application/vnd.bokehjs_exec.v0+json": ""
     },
     "metadata": {
      "application/vnd.bokehjs_exec.v0+json": {
       "id": "46077"
      }
     },
     "output_type": "display_data"
    }
   ],
   "source": [
    "p = gridplot([[p1,p2],[p3,None]])\n",
    "show(p)"
   ]
  },
  {
   "cell_type": "markdown",
   "metadata": {},
   "source": [
    "Now we have three plots at the same time and we can use the toolbar for each plot to zoom in and out or move around. Since, these plots are sharing data maybe we need all of them to move at the same time. In other words, if we move to higher values of `y` in the first plot, the second plot should show the same range of `y`. We can do this by linking the plots."
   ]
  },
  {
   "cell_type": "code",
   "execution_count": 245,
   "metadata": {},
   "outputs": [
    {
     "data": {
      "text/html": [
       "\n",
       "\n",
       "\n",
       "\n",
       "\n",
       "\n",
       "  <div class=\"bk-root\" id=\"541d7131-de61-46b5-970b-721812ae7920\" data-root-id=\"47180\"></div>\n"
      ]
     },
     "metadata": {},
     "output_type": "display_data"
    },
    {
     "data": {
      "application/javascript": [
       "(function(root) {\n",
       "  function embed_document(root) {\n",
       "    \n",
       "  var docs_json = {\"80103f47-ef4b-442b-ac7d-23c7a246bd31\":{\"roots\":{\"references\":[{\"attributes\":{\"children\":[{\"id\":\"47179\"},{\"id\":\"47177\"}]},\"id\":\"47180\",\"type\":\"Column\"},{\"attributes\":{\"text\":\"\"},\"id\":\"47167\",\"type\":\"Title\"},{\"attributes\":{},\"id\":\"47133\",\"type\":\"HelpTool\"},{\"attributes\":{},\"id\":\"47052\",\"type\":\"BasicTicker\"},{\"attributes\":{\"below\":[{\"id\":\"47051\"}],\"center\":[{\"id\":\"47054\"},{\"id\":\"47058\"}],\"left\":[{\"id\":\"47055\"}],\"plot_height\":300,\"plot_width\":300,\"renderers\":[{\"id\":\"47076\"}],\"title\":{\"id\":\"47147\"},\"toolbar\":{\"id\":\"47066\"},\"toolbar_location\":null,\"x_range\":{\"id\":\"47043\"},\"x_scale\":{\"id\":\"47047\"},\"y_range\":{\"id\":\"47045\"},\"y_scale\":{\"id\":\"47049\"}},\"id\":\"47042\",\"subtype\":\"Figure\",\"type\":\"Plot\"},{\"attributes\":{},\"id\":\"47131\",\"type\":\"SaveTool\"},{\"attributes\":{},\"id\":\"47060\",\"type\":\"WheelZoomTool\"},{\"attributes\":{},\"id\":\"47049\",\"type\":\"LinearScale\"},{\"attributes\":{},\"id\":\"47059\",\"type\":\"PanTool\"},{\"attributes\":{},\"id\":\"47099\",\"type\":\"HelpTool\"},{\"attributes\":{\"fill_alpha\":{\"value\":0.1},\"fill_color\":{\"value\":\"maroon\"},\"line_alpha\":{\"value\":0.1},\"line_color\":{\"value\":\"maroon\"},\"x\":{\"field\":\"x\"},\"y\":{\"field\":\"y\"}},\"id\":\"47075\",\"type\":\"Circle\"},{\"attributes\":{},\"id\":\"47171\",\"type\":\"BasicTickFormatter\"},{\"attributes\":{\"data\":{\"x\":{\"__ndarray__\":\"AAAAAAAAAAAxb2dIzNu5PzFvZ0jM28k/ZZNNNtlk0z8xb2dIzNvZP3+lQK1fKeA/ZZNNNtlk4z9LgVq/UqDmPzFvZ0jM2+k/F1100UUX7T9/pUCtXynwP3Icx3Ecx/E/ZZNNNtlk8z9YCtT6lQL1P0uBWr9SoPY/Pvjggw8++D8xb2dIzNv5PyTm7QyJefs/F1100UUX/T8K1PqVArX+P3+lQK1fKQBA+OCDDz74AEByHMdxHMcBQOtXCtT6lQJAZZNNNtlkA0DezpCYtzMEQFgK1PqVAgVA0UUXXXTRBUBLgVq/UqAGQMS8nSExbwdAPvjggw8+CEC3MyTm7QwJQDFvZ0jM2wlAq6qqqqqqCkAk5u0MiXkLQJ4hMW9nSAxAF1100UUXDUCRmLczJOYNQArU+pUCtQ5AhA8++OCDD0B/pUCtXykQQDtDYt7OkBBA+OCDDz74EEC1fqVArV8RQHIcx3EcxxFALrrooosuEkDrVwrU+pUSQKj1KwVq/RJAZZNNNtlkE0AiMW9nSMwTQN7OkJi3MxRAm2yyySabFEBYCtT6lQIVQBWo9SsFahVA0UUXXXTRFUCO4ziO4zgWQEuBWr9SoBZACB988MEHF0DEvJ0hMW8XQIFav1Kg1hdAPvjggw8+GED7lQK1fqUYQLczJObtDBlAdNFFF110GUAxb2dIzNsZQO4MiXk7QxpAq6qqqqqqGkBnSMzbGRIbQCTm7QyJeRtA4YMPPvjgG0CeITFvZ0gcQFq/UqDWrxxAF1100UUXHUDU+pUCtX4dQJGYtzMk5h1ATTbZZJNNHkAK1PqVArUeQMdxHMdxHB9AhA8++OCDH0BArV8pUOsfQH+lQK1fKSBAXXTRRRddIEA7Q2LezpAgQBoS83aGxCBA+OCDDz74IEDXrxSo9SshQLV+pUCtXyFAk0022WSTIUByHMdxHMchQFDrVwrU+iFALrrooosuIkANiXk7Q2IiQOtXCtT6lSJAyiabbLLJIkCo9SsFav0iQIbEvJ0hMSNAZZNNNtlkI0BDYt7OkJgjQCIxb2dIzCNAAAAAAAAAJEA=\",\"dtype\":\"float64\",\"order\":\"little\",\"shape\":[100]},\"y\":{\"__ndarray__\":\"45Kv+3NE9T93DJmoo2jlv3YRIlgnQL2/YFW+YEsC5r/CiIlPOlblvxUeZsGQ4O2/nTIQkka68j+zCm4/cAvwP3s3nZu0L+q/4JX5tPkO8j/TiAMZwgX7PwjIeD7JAAhAFylopqdjAUDYHJKfnaz2P9/i/q/w2u0/Cn+uX0zsAkAgB79Ag44IQEGO45EDMwZA8dn3vmm9/z+SkZE/Q3kDQG42GVxR3eU/Qqp2Zvt4BUDfEdWDresMQIqb+7lIFAJAAJFbeQZeBECs3JEd49wNQEKC0VFo/gRAlBzIEZdrEUDEQ6UPU3YJQNrIN2sMvA9Ab2kRRy4oBUDJIC49hDUNQNQb0rn1rBNABqbUGRgPAEBipEIHDHQTQMBxKh7QIvc/YD1nyGYNDEAxkpQNwHkRQIPHmrfHAwpAh2N/AqPrEED+ORjK0DcVQNe5Hb/NuRFAqsppgVUtAkBcu51b4JYUQDj1+wdl5hVA6wk4TXqnEkCchREcmn8SQJqbRAhhLRNAwXJh2ALCCUCPu+1tgToSQP52hWKDARtAy3HmA/TZGEAdUz22FssXQJckS2KRqxNA5JQst4V8FEBVjb6EeaEYQE5TzR65DxdAXTVMK2gtF0DmdakbS0cVQBcqs8/I1RlARiA/ogVlFUB67DFTzrIXQD8DVZCeehxAoL/Z1dXsEUAgO9GYmYobQHqXQ5Nl/BVAnFzkl/ZbEEAEcCGHxysWQIQnr30F2RZAOau3EaCaH0DifCJFJBwgQBtqXXm2yyJAWhkkh7lqG0C3RSMy6ygcQKLzBCItTx1AX5mDai1GIkBbhgCaE7kgQCY69yidOh9ARhC/yPEaHEAAQkFkJOwjQERJQpBszRlAfgwktYHJH0AwC2u4zTwgQBk7WrSqFSJAm/e2DDS1HEAYKhv4GOEjQK6KF4jfHSFAHs6zZSZCH0DPMkmnjWMgQPv6pUrS4SFAnIDwOMkFIUBjWFTaRCAkQMCr3gItpSBAT9U1/nSiI0A9FhAyOvAmQIbheL8EziNAXu3WeHhkJUBFNyqlM1clQEPupX3gDyBAa5XdFiR2JkA=\",\"dtype\":\"float64\",\"order\":\"little\",\"shape\":[100]}},\"selected\":{\"id\":\"47155\"},\"selection_policy\":{\"id\":\"47154\"}},\"id\":\"47073\",\"type\":\"ColumnDataSource\"},{\"attributes\":{},\"id\":\"47169\",\"type\":\"BasicTickFormatter\"},{\"attributes\":{\"below\":[{\"id\":\"47120\"}],\"center\":[{\"id\":\"47123\"},{\"id\":\"47127\"}],\"left\":[{\"id\":\"47124\"}],\"plot_height\":300,\"plot_width\":300,\"renderers\":[{\"id\":\"47145\"}],\"title\":{\"id\":\"47167\"},\"toolbar\":{\"id\":\"47135\"},\"toolbar_location\":null,\"x_range\":{\"id\":\"47043\"},\"x_scale\":{\"id\":\"47116\"},\"y_range\":{\"id\":\"47080\"},\"y_scale\":{\"id\":\"47118\"}},\"id\":\"47113\",\"subtype\":\"Figure\",\"type\":\"Plot\"},{\"attributes\":{\"overlay\":{\"id\":\"47134\"}},\"id\":\"47130\",\"type\":\"BoxZoomTool\"},{\"attributes\":{},\"id\":\"47159\",\"type\":\"BasicTickFormatter\"},{\"attributes\":{},\"id\":\"47045\",\"type\":\"DataRange1d\"},{\"attributes\":{\"data_source\":{\"id\":\"47073\"},\"glyph\":{\"id\":\"47074\"},\"hover_glyph\":null,\"muted_glyph\":null,\"nonselection_glyph\":{\"id\":\"47075\"},\"selection_glyph\":null,\"view\":{\"id\":\"47077\"}},\"id\":\"47076\",\"type\":\"GlyphRenderer\"},{\"attributes\":{},\"id\":\"47047\",\"type\":\"LinearScale\"},{\"attributes\":{\"children\":[[{\"id\":\"47042\"},0,0],[{\"id\":\"47078\"},0,1],[{\"id\":\"47113\"},1,0]]},\"id\":\"47177\",\"type\":\"GridBox\"},{\"attributes\":{},\"id\":\"47129\",\"type\":\"WheelZoomTool\"},{\"attributes\":{\"formatter\":{\"id\":\"47151\"},\"ticker\":{\"id\":\"47052\"}},\"id\":\"47051\",\"type\":\"LinearAxis\"},{\"attributes\":{\"bottom_units\":\"screen\",\"fill_alpha\":0.5,\"fill_color\":\"lightgrey\",\"left_units\":\"screen\",\"level\":\"overlay\",\"line_alpha\":1.0,\"line_color\":\"black\",\"line_dash\":[4,4],\"line_width\":2,\"right_units\":\"screen\",\"top_units\":\"screen\"},\"id\":\"47100\",\"type\":\"BoxAnnotation\"},{\"attributes\":{\"formatter\":{\"id\":\"47149\"},\"ticker\":{\"id\":\"47056\"}},\"id\":\"47055\",\"type\":\"LinearAxis\"},{\"attributes\":{},\"id\":\"47174\",\"type\":\"UnionRenderers\"},{\"attributes\":{},\"id\":\"47132\",\"type\":\"ResetTool\"},{\"attributes\":{\"active_drag\":\"auto\",\"active_inspect\":\"auto\",\"active_multi\":null,\"active_scroll\":\"auto\",\"active_tap\":\"auto\",\"tools\":[{\"id\":\"47094\"},{\"id\":\"47095\"},{\"id\":\"47096\"},{\"id\":\"47097\"},{\"id\":\"47098\"},{\"id\":\"47099\"}]},\"id\":\"47101\",\"type\":\"Toolbar\"},{\"attributes\":{},\"id\":\"47043\",\"type\":\"DataRange1d\"},{\"attributes\":{},\"id\":\"47175\",\"type\":\"Selection\"},{\"attributes\":{\"axis\":{\"id\":\"47051\"},\"ticker\":null},\"id\":\"47054\",\"type\":\"Grid\"},{\"attributes\":{\"source\":{\"id\":\"47073\"}},\"id\":\"47077\",\"type\":\"CDSView\"},{\"attributes\":{},\"id\":\"47062\",\"type\":\"SaveTool\"},{\"attributes\":{\"axis\":{\"id\":\"47055\"},\"dimension\":1,\"ticker\":null},\"id\":\"47058\",\"type\":\"Grid\"},{\"attributes\":{\"active_drag\":\"auto\",\"active_inspect\":\"auto\",\"active_multi\":null,\"active_scroll\":\"auto\",\"active_tap\":\"auto\",\"tools\":[{\"id\":\"47128\"},{\"id\":\"47129\"},{\"id\":\"47130\"},{\"id\":\"47131\"},{\"id\":\"47132\"},{\"id\":\"47133\"}]},\"id\":\"47135\",\"type\":\"Toolbar\"},{\"attributes\":{\"overlay\":{\"id\":\"47065\"}},\"id\":\"47061\",\"type\":\"BoxZoomTool\"},{\"attributes\":{},\"id\":\"47154\",\"type\":\"UnionRenderers\"},{\"attributes\":{},\"id\":\"47116\",\"type\":\"LinearScale\"},{\"attributes\":{\"fill_color\":{\"value\":\"maroon\"},\"line_color\":{\"value\":\"maroon\"},\"x\":{\"field\":\"x\"},\"y\":{\"field\":\"y\"}},\"id\":\"47074\",\"type\":\"Circle\"},{\"attributes\":{\"data\":{\"x\":{\"__ndarray__\":\"AAAAAAAAAAAxb2dIzNu5PzFvZ0jM28k/ZZNNNtlk0z8xb2dIzNvZP3+lQK1fKeA/ZZNNNtlk4z9LgVq/UqDmPzFvZ0jM2+k/F1100UUX7T9/pUCtXynwP3Icx3Ecx/E/ZZNNNtlk8z9YCtT6lQL1P0uBWr9SoPY/Pvjggw8++D8xb2dIzNv5PyTm7QyJefs/F1100UUX/T8K1PqVArX+P3+lQK1fKQBA+OCDDz74AEByHMdxHMcBQOtXCtT6lQJAZZNNNtlkA0DezpCYtzMEQFgK1PqVAgVA0UUXXXTRBUBLgVq/UqAGQMS8nSExbwdAPvjggw8+CEC3MyTm7QwJQDFvZ0jM2wlAq6qqqqqqCkAk5u0MiXkLQJ4hMW9nSAxAF1100UUXDUCRmLczJOYNQArU+pUCtQ5AhA8++OCDD0B/pUCtXykQQDtDYt7OkBBA+OCDDz74EEC1fqVArV8RQHIcx3EcxxFALrrooosuEkDrVwrU+pUSQKj1KwVq/RJAZZNNNtlkE0AiMW9nSMwTQN7OkJi3MxRAm2yyySabFEBYCtT6lQIVQBWo9SsFahVA0UUXXXTRFUCO4ziO4zgWQEuBWr9SoBZACB988MEHF0DEvJ0hMW8XQIFav1Kg1hdAPvjggw8+GED7lQK1fqUYQLczJObtDBlAdNFFF110GUAxb2dIzNsZQO4MiXk7QxpAq6qqqqqqGkBnSMzbGRIbQCTm7QyJeRtA4YMPPvjgG0CeITFvZ0gcQFq/UqDWrxxAF1100UUXHUDU+pUCtX4dQJGYtzMk5h1ATTbZZJNNHkAK1PqVArUeQMdxHMdxHB9AhA8++OCDH0BArV8pUOsfQH+lQK1fKSBAXXTRRRddIEA7Q2LezpAgQBoS83aGxCBA+OCDDz74IEDXrxSo9SshQLV+pUCtXyFAk0022WSTIUByHMdxHMchQFDrVwrU+iFALrrooosuIkANiXk7Q2IiQOtXCtT6lSJAyiabbLLJIkCo9SsFav0iQIbEvJ0hMSNAZZNNNtlkI0BDYt7OkJgjQCIxb2dIzCNAAAAAAAAAJEA=\",\"dtype\":\"float64\",\"order\":\"little\",\"shape\":[100]},\"y\":{\"__ndarray__\":\"AuAcEixzwL9e5Ung8A3qP+O1yo1wKABA9EGOiBq0BEAsCeBJLicHQNL6hDf8Zfs/rluisaYABUBsAwRdA48GQGm3Bxv0KwtAkCRlpc7zEUAiOoEDQ8MLQPTB6TTAQRJAPdaVG9I3GEBxSe0h/hcXQFFZlH9geRBAMEilMB5OGUCxCD7qG2McQMKLQhewwR5AAWp6FPswH0CADD/ykx8dQIBL9h8T6BpAEorbSXzXG0BUuPlJiYUcQAyjhBmjghtALWI07qNQGED0mNVFwVEZQLaoPcxZGhVAjuRPK8ToDUALdoJN5TUDQEBL9Yw2weo/+isIH14e+D9sg3nBTyfqP8f8BU7ccvo/5sUKP4rKAEDfXbpFuzoPQGjNBtSlyhJAWlTflpwoFkAWyyPyJTUUQMSvDWxtrgpAYfkQdNInEEBAXvW5AxgVQB8g7cJEuxNAGmc3VNfsEUBdltfPQ58QQMKIa0JfKgxABV0X/GgRE0CMoIzhMcYSQOjmMQ6FHRZAllt8wvLBF0CeXdpUM4oUQOh/NVAueBxArf6e5sr3G0CahDhZpSYZQKLIQ0wtLh9AuXLBR6MWIUACsygui48gQHNMHqqRcB1ASKFkSCbhF0BR33Cu5ksUQJ82AUZFVBZA6GcnHgITE0CzsQZTP30XQJKWV6wSHBZAxwub2YnRGUCXgrT45MgWQB0zwze2txdAcv19FI5xGEAd3cDI1TIYQGfn62cahxhAuUqWWhbqFkDrMpwIoKMWQOvNarPkaR5A/HrF/h64H0A9wwWpgdYiQFMEv/dM4SVA+rHqY5U1J0D2y2GYKd4pQNh28d2HCStAsYfWYddNK0DglFZKxgErQLaHzVXL4ClAuqe3eUNfKEBT5eXz43IsQG/JoS7DqyxAe5RG+3H+LEAGPqZ9fRYvQAdPv9m3jClAoNN7y4J0KkCx8mmnKDArQMJbRykAmitAKGsZsu+lKkAyvQ4PGQoqQLWTpJwKbCxAvQeyioV6L0C8dVfDhYgwQO4vZdvK0TBAMKCpQicHMUBBcmTtbeowQKfiXX1BxS9A40tUiyRMMEA=\",\"dtype\":\"float64\",\"order\":\"little\",\"shape\":[100]}},\"selected\":{\"id\":\"47175\"},\"selection_policy\":{\"id\":\"47174\"}},\"id\":\"47142\",\"type\":\"ColumnDataSource\"},{\"attributes\":{\"axis\":{\"id\":\"47086\"},\"ticker\":null},\"id\":\"47089\",\"type\":\"Grid\"},{\"attributes\":{\"line_color\":\"hotpink\",\"line_width\":2,\"x\":{\"field\":\"x\"},\"y\":{\"field\":\"y\"}},\"id\":\"47143\",\"type\":\"Line\"},{\"attributes\":{\"formatter\":{\"id\":\"47161\"},\"ticker\":{\"id\":\"47087\"}},\"id\":\"47086\",\"type\":\"LinearAxis\"},{\"attributes\":{},\"id\":\"47155\",\"type\":\"Selection\"},{\"attributes\":{},\"id\":\"47084\",\"type\":\"LinearScale\"},{\"attributes\":{},\"id\":\"47064\",\"type\":\"HelpTool\"},{\"attributes\":{\"axis\":{\"id\":\"47120\"},\"ticker\":null},\"id\":\"47123\",\"type\":\"Grid\"},{\"attributes\":{\"axis\":{\"id\":\"47124\"},\"dimension\":1,\"ticker\":null},\"id\":\"47127\",\"type\":\"Grid\"},{\"attributes\":{\"source\":{\"id\":\"47108\"}},\"id\":\"47112\",\"type\":\"CDSView\"},{\"attributes\":{\"data\":{\"x\":{\"__ndarray__\":\"45Kv+3NE9T93DJmoo2jlv3YRIlgnQL2/YFW+YEsC5r/CiIlPOlblvxUeZsGQ4O2/nTIQkka68j+zCm4/cAvwP3s3nZu0L+q/4JX5tPkO8j/TiAMZwgX7PwjIeD7JAAhAFylopqdjAUDYHJKfnaz2P9/i/q/w2u0/Cn+uX0zsAkAgB79Ag44IQEGO45EDMwZA8dn3vmm9/z+SkZE/Q3kDQG42GVxR3eU/Qqp2Zvt4BUDfEdWDresMQIqb+7lIFAJAAJFbeQZeBECs3JEd49wNQEKC0VFo/gRAlBzIEZdrEUDEQ6UPU3YJQNrIN2sMvA9Ab2kRRy4oBUDJIC49hDUNQNQb0rn1rBNABqbUGRgPAEBipEIHDHQTQMBxKh7QIvc/YD1nyGYNDEAxkpQNwHkRQIPHmrfHAwpAh2N/AqPrEED+ORjK0DcVQNe5Hb/NuRFAqsppgVUtAkBcu51b4JYUQDj1+wdl5hVA6wk4TXqnEkCchREcmn8SQJqbRAhhLRNAwXJh2ALCCUCPu+1tgToSQP52hWKDARtAy3HmA/TZGEAdUz22FssXQJckS2KRqxNA5JQst4V8FEBVjb6EeaEYQE5TzR65DxdAXTVMK2gtF0DmdakbS0cVQBcqs8/I1RlARiA/ogVlFUB67DFTzrIXQD8DVZCeehxAoL/Z1dXsEUAgO9GYmYobQHqXQ5Nl/BVAnFzkl/ZbEEAEcCGHxysWQIQnr30F2RZAOau3EaCaH0DifCJFJBwgQBtqXXm2yyJAWhkkh7lqG0C3RSMy6ygcQKLzBCItTx1AX5mDai1GIkBbhgCaE7kgQCY69yidOh9ARhC/yPEaHEAAQkFkJOwjQERJQpBszRlAfgwktYHJH0AwC2u4zTwgQBk7WrSqFSJAm/e2DDS1HEAYKhv4GOEjQK6KF4jfHSFAHs6zZSZCH0DPMkmnjWMgQPv6pUrS4SFAnIDwOMkFIUBjWFTaRCAkQMCr3gItpSBAT9U1/nSiI0A9FhAyOvAmQIbheL8EziNAXu3WeHhkJUBFNyqlM1clQEPupX3gDyBAa5XdFiR2JkA=\",\"dtype\":\"float64\",\"order\":\"little\",\"shape\":[100]},\"y\":{\"__ndarray__\":\"AuAcEixzwL9e5Ung8A3qP+O1yo1wKABA9EGOiBq0BEAsCeBJLicHQNL6hDf8Zfs/rluisaYABUBsAwRdA48GQGm3Bxv0KwtAkCRlpc7zEUAiOoEDQ8MLQPTB6TTAQRJAPdaVG9I3GEBxSe0h/hcXQFFZlH9geRBAMEilMB5OGUCxCD7qG2McQMKLQhewwR5AAWp6FPswH0CADD/ykx8dQIBL9h8T6BpAEorbSXzXG0BUuPlJiYUcQAyjhBmjghtALWI07qNQGED0mNVFwVEZQLaoPcxZGhVAjuRPK8ToDUALdoJN5TUDQEBL9Yw2weo/+isIH14e+D9sg3nBTyfqP8f8BU7ccvo/5sUKP4rKAEDfXbpFuzoPQGjNBtSlyhJAWlTflpwoFkAWyyPyJTUUQMSvDWxtrgpAYfkQdNInEEBAXvW5AxgVQB8g7cJEuxNAGmc3VNfsEUBdltfPQ58QQMKIa0JfKgxABV0X/GgRE0CMoIzhMcYSQOjmMQ6FHRZAllt8wvLBF0CeXdpUM4oUQOh/NVAueBxArf6e5sr3G0CahDhZpSYZQKLIQ0wtLh9AuXLBR6MWIUACsygui48gQHNMHqqRcB1ASKFkSCbhF0BR33Cu5ksUQJ82AUZFVBZA6GcnHgITE0CzsQZTP30XQJKWV6wSHBZAxwub2YnRGUCXgrT45MgWQB0zwze2txdAcv19FI5xGEAd3cDI1TIYQGfn62cahxhAuUqWWhbqFkDrMpwIoKMWQOvNarPkaR5A/HrF/h64H0A9wwWpgdYiQFMEv/dM4SVA+rHqY5U1J0D2y2GYKd4pQNh28d2HCStAsYfWYddNK0DglFZKxgErQLaHzVXL4ClAuqe3eUNfKEBT5eXz43IsQG/JoS7DqyxAe5RG+3H+LEAGPqZ9fRYvQAdPv9m3jClAoNN7y4J0KkCx8mmnKDArQMJbRykAmitAKGsZsu+lKkAyvQ4PGQoqQLWTpJwKbCxAvQeyioV6L0C8dVfDhYgwQO4vZdvK0TBAMKCpQicHMUBBcmTtbeowQKfiXX1BxS9A40tUiyRMMEA=\",\"dtype\":\"float64\",\"order\":\"little\",\"shape\":[100]}},\"selected\":{\"id\":\"47165\"},\"selection_policy\":{\"id\":\"47164\"}},\"id\":\"47108\",\"type\":\"ColumnDataSource\"},{\"attributes\":{\"below\":[{\"id\":\"47086\"}],\"center\":[{\"id\":\"47089\"},{\"id\":\"47093\"}],\"left\":[{\"id\":\"47090\"}],\"plot_height\":300,\"plot_width\":300,\"renderers\":[{\"id\":\"47111\"}],\"title\":{\"id\":\"47157\"},\"toolbar\":{\"id\":\"47101\"},\"toolbar_location\":null,\"x_range\":{\"id\":\"47045\"},\"x_scale\":{\"id\":\"47082\"},\"y_range\":{\"id\":\"47080\"},\"y_scale\":{\"id\":\"47084\"}},\"id\":\"47078\",\"subtype\":\"Figure\",\"type\":\"Plot\"},{\"attributes\":{\"data_source\":{\"id\":\"47142\"},\"glyph\":{\"id\":\"47143\"},\"hover_glyph\":null,\"muted_glyph\":null,\"nonselection_glyph\":{\"id\":\"47144\"},\"selection_glyph\":null,\"view\":{\"id\":\"47146\"}},\"id\":\"47145\",\"type\":\"GlyphRenderer\"},{\"attributes\":{\"text\":\"\"},\"id\":\"47147\",\"type\":\"Title\"},{\"attributes\":{},\"id\":\"47118\",\"type\":\"LinearScale\"},{\"attributes\":{\"bottom_units\":\"screen\",\"fill_alpha\":0.5,\"fill_color\":\"lightgrey\",\"left_units\":\"screen\",\"level\":\"overlay\",\"line_alpha\":1.0,\"line_color\":\"black\",\"line_dash\":[4,4],\"line_width\":2,\"right_units\":\"screen\",\"top_units\":\"screen\"},\"id\":\"47065\",\"type\":\"BoxAnnotation\"},{\"attributes\":{},\"id\":\"47125\",\"type\":\"BasicTicker\"},{\"attributes\":{},\"id\":\"47161\",\"type\":\"BasicTickFormatter\"},{\"attributes\":{},\"id\":\"47164\",\"type\":\"UnionRenderers\"},{\"attributes\":{\"toolbars\":[{\"id\":\"47066\"},{\"id\":\"47101\"},{\"id\":\"47135\"}],\"tools\":[{\"id\":\"47059\"},{\"id\":\"47060\"},{\"id\":\"47061\"},{\"id\":\"47062\"},{\"id\":\"47063\"},{\"id\":\"47064\"},{\"id\":\"47094\"},{\"id\":\"47095\"},{\"id\":\"47096\"},{\"id\":\"47097\"},{\"id\":\"47098\"},{\"id\":\"47099\"},{\"id\":\"47128\"},{\"id\":\"47129\"},{\"id\":\"47130\"},{\"id\":\"47131\"},{\"id\":\"47132\"},{\"id\":\"47133\"}]},\"id\":\"47178\",\"type\":\"ProxyToolbar\"},{\"attributes\":{\"fill_alpha\":{\"value\":0.1},\"fill_color\":{\"value\":\"seagreen\"},\"line_alpha\":{\"value\":0.1},\"line_color\":{\"value\":\"seagreen\"},\"x\":{\"field\":\"x\"},\"y\":{\"field\":\"y\"}},\"id\":\"47110\",\"type\":\"Circle\"},{\"attributes\":{\"formatter\":{\"id\":\"47171\"},\"ticker\":{\"id\":\"47121\"}},\"id\":\"47120\",\"type\":\"LinearAxis\"},{\"attributes\":{},\"id\":\"47087\",\"type\":\"BasicTicker\"},{\"attributes\":{},\"id\":\"47165\",\"type\":\"Selection\"},{\"attributes\":{},\"id\":\"47082\",\"type\":\"LinearScale\"},{\"attributes\":{\"toolbar\":{\"id\":\"47178\"},\"toolbar_location\":\"above\"},\"id\":\"47179\",\"type\":\"ToolbarBox\"},{\"attributes\":{\"active_drag\":\"auto\",\"active_inspect\":\"auto\",\"active_multi\":null,\"active_scroll\":\"auto\",\"active_tap\":\"auto\",\"tools\":[{\"id\":\"47059\"},{\"id\":\"47060\"},{\"id\":\"47061\"},{\"id\":\"47062\"},{\"id\":\"47063\"},{\"id\":\"47064\"}]},\"id\":\"47066\",\"type\":\"Toolbar\"},{\"attributes\":{},\"id\":\"47094\",\"type\":\"PanTool\"},{\"attributes\":{},\"id\":\"47128\",\"type\":\"PanTool\"},{\"attributes\":{\"formatter\":{\"id\":\"47169\"},\"ticker\":{\"id\":\"47125\"}},\"id\":\"47124\",\"type\":\"LinearAxis\"},{\"attributes\":{\"fill_color\":{\"value\":\"seagreen\"},\"line_color\":{\"value\":\"seagreen\"},\"x\":{\"field\":\"x\"},\"y\":{\"field\":\"y\"}},\"id\":\"47109\",\"type\":\"Circle\"},{\"attributes\":{},\"id\":\"47095\",\"type\":\"WheelZoomTool\"},{\"attributes\":{\"overlay\":{\"id\":\"47100\"}},\"id\":\"47096\",\"type\":\"BoxZoomTool\"},{\"attributes\":{},\"id\":\"47080\",\"type\":\"DataRange1d\"},{\"attributes\":{},\"id\":\"47098\",\"type\":\"ResetTool\"},{\"attributes\":{},\"id\":\"47149\",\"type\":\"BasicTickFormatter\"},{\"attributes\":{},\"id\":\"47063\",\"type\":\"ResetTool\"},{\"attributes\":{},\"id\":\"47151\",\"type\":\"BasicTickFormatter\"},{\"attributes\":{},\"id\":\"47121\",\"type\":\"BasicTicker\"},{\"attributes\":{},\"id\":\"47097\",\"type\":\"SaveTool\"},{\"attributes\":{\"line_alpha\":0.1,\"line_color\":\"hotpink\",\"line_width\":2,\"x\":{\"field\":\"x\"},\"y\":{\"field\":\"y\"}},\"id\":\"47144\",\"type\":\"Line\"},{\"attributes\":{\"text\":\"\"},\"id\":\"47157\",\"type\":\"Title\"},{\"attributes\":{\"formatter\":{\"id\":\"47159\"},\"ticker\":{\"id\":\"47091\"}},\"id\":\"47090\",\"type\":\"LinearAxis\"},{\"attributes\":{},\"id\":\"47056\",\"type\":\"BasicTicker\"},{\"attributes\":{\"axis\":{\"id\":\"47090\"},\"dimension\":1,\"ticker\":null},\"id\":\"47093\",\"type\":\"Grid\"},{\"attributes\":{\"data_source\":{\"id\":\"47108\"},\"glyph\":{\"id\":\"47109\"},\"hover_glyph\":null,\"muted_glyph\":null,\"nonselection_glyph\":{\"id\":\"47110\"},\"selection_glyph\":null,\"view\":{\"id\":\"47112\"}},\"id\":\"47111\",\"type\":\"GlyphRenderer\"},{\"attributes\":{\"source\":{\"id\":\"47142\"}},\"id\":\"47146\",\"type\":\"CDSView\"},{\"attributes\":{\"bottom_units\":\"screen\",\"fill_alpha\":0.5,\"fill_color\":\"lightgrey\",\"left_units\":\"screen\",\"level\":\"overlay\",\"line_alpha\":1.0,\"line_color\":\"black\",\"line_dash\":[4,4],\"line_width\":2,\"right_units\":\"screen\",\"top_units\":\"screen\"},\"id\":\"47134\",\"type\":\"BoxAnnotation\"},{\"attributes\":{},\"id\":\"47091\",\"type\":\"BasicTicker\"}],\"root_ids\":[\"47180\"]},\"title\":\"Bokeh Application\",\"version\":\"2.1.1\"}};\n",
       "  var render_items = [{\"docid\":\"80103f47-ef4b-442b-ac7d-23c7a246bd31\",\"root_ids\":[\"47180\"],\"roots\":{\"47180\":\"541d7131-de61-46b5-970b-721812ae7920\"}}];\n",
       "  root.Bokeh.embed.embed_items_notebook(docs_json, render_items);\n",
       "\n",
       "  }\n",
       "  if (root.Bokeh !== undefined) {\n",
       "    embed_document(root);\n",
       "  } else {\n",
       "    var attempts = 0;\n",
       "    var timer = setInterval(function(root) {\n",
       "      if (root.Bokeh !== undefined) {\n",
       "        clearInterval(timer);\n",
       "        embed_document(root);\n",
       "      } else {\n",
       "        attempts++;\n",
       "        if (attempts > 100) {\n",
       "          clearInterval(timer);\n",
       "          console.log(\"Bokeh: ERROR: Unable to run BokehJS code because BokehJS library is missing\");\n",
       "        }\n",
       "      }\n",
       "    }, 10, root)\n",
       "  }\n",
       "})(window);"
      ],
      "application/vnd.bokehjs_exec.v0+json": ""
     },
     "metadata": {
      "application/vnd.bokehjs_exec.v0+json": {
       "id": "47180"
      }
     },
     "output_type": "display_data"
    }
   ],
   "source": [
    "p1 = figure(width = 300, height = 300)\n",
    "p1.circle(x,y,color = 'maroon')\n",
    "\n",
    "p2 = figure(width = 300, height = 300, x_range = p1.y_range)\n",
    "p2.circle(y,z,color = 'seagreen')\n",
    "\n",
    "p3 = figure(width = 300, height = 300,x_range = p1.x_range, y_range = p2.y_range)\n",
    "p3.line(x,z,color = 'hotpink', width = 2)\n",
    "\n",
    "p = gridplot([[p1,p2],[p3,None]])\n",
    "show(p)"
   ]
  },
  {
   "cell_type": "markdown",
   "metadata": {},
   "source": [
    "# Widgets\n"
   ]
  },
  {
   "cell_type": "code",
   "execution_count": null,
   "metadata": {},
   "outputs": [],
   "source": []
  },
  {
   "cell_type": "markdown",
   "metadata": {},
   "source": [
    "# Geospatial plotting\n"
   ]
  },
  {
   "cell_type": "code",
   "execution_count": 354,
   "metadata": {},
   "outputs": [],
   "source": [
    "from bokeh.models import WMTSTileSource"
   ]
  },
  {
   "cell_type": "code",
   "execution_count": 378,
   "metadata": {},
   "outputs": [],
   "source": [
    "def cvt_lat(x):\n",
    "    k = 6378137\n",
    "    return np.log(np.tan((90+x)*np.pi/360))*k\n",
    "    \n",
    "def cvt_lon(x):\n",
    "    k = 6378137\n",
    "    return x*k*np.pi/180\n"
   ]
  },
  {
   "cell_type": "code",
   "execution_count": 379,
   "metadata": {},
   "outputs": [
    {
     "data": {
      "text/plain": [
       "-2273030.92698769"
      ]
     },
     "execution_count": 379,
     "metadata": {},
     "output_type": "execute_result"
    }
   ],
   "source": [
    "cvt_lat(-20)"
   ]
  },
  {
   "cell_type": "code",
   "execution_count": 381,
   "metadata": {},
   "outputs": [
    {
     "data": {
      "text/html": [
       "\n",
       "\n",
       "\n",
       "\n",
       "\n",
       "\n",
       "  <div class=\"bk-root\" id=\"fdf1663d-d140-4201-ba38-862556f8e281\" data-root-id=\"101314\"></div>\n"
      ]
     },
     "metadata": {},
     "output_type": "display_data"
    },
    {
     "data": {
      "application/javascript": [
       "(function(root) {\n",
       "  function embed_document(root) {\n",
       "    \n",
       "  var docs_json = {\"161c44ff-9637-41e3-829b-49fdefbfb915\":{\"roots\":{\"references\":[{\"attributes\":{\"below\":[{\"id\":\"101323\"}],\"center\":[{\"id\":\"101330\"},{\"id\":\"101338\"}],\"left\":[{\"id\":\"101331\"}],\"renderers\":[{\"id\":\"101345\"}],\"title\":{\"id\":\"102497\"},\"toolbar\":{\"id\":\"101341\"},\"x_range\":{\"id\":\"101315\"},\"x_scale\":{\"id\":\"101319\"},\"y_range\":{\"id\":\"101317\"},\"y_scale\":{\"id\":\"101321\"}},\"id\":\"101314\",\"subtype\":\"Figure\",\"type\":\"Plot\"},{\"attributes\":{},\"id\":\"101339\",\"type\":\"PanTool\"},{\"attributes\":{\"axis\":{\"id\":\"101331\"},\"dimension\":1,\"ticker\":null},\"id\":\"101338\",\"type\":\"Grid\"},{\"attributes\":{\"dimension\":\"lon\"},\"id\":\"101326\",\"type\":\"MercatorTickFormatter\"},{\"attributes\":{},\"id\":\"101319\",\"type\":\"LinearScale\"},{\"attributes\":{\"formatter\":{\"id\":\"101334\"},\"ticker\":{\"id\":\"101332\"}},\"id\":\"101331\",\"type\":\"MercatorAxis\"},{\"attributes\":{\"attribution\":\"Tiles by Carto, under CC BY 3.0. Data by OSM, under ODbL\",\"url\":\"http://a.basemaps.cartocdn.com/rastertiles/voyager/{Z}/{X}/{Y}.png\"},\"id\":\"101344\",\"type\":\"WMTSTileSource\"},{\"attributes\":{\"text\":\"\"},\"id\":\"102497\",\"type\":\"Title\"},{\"attributes\":{\"dimension\":\"lon\"},\"id\":\"101324\",\"type\":\"MercatorTicker\"},{\"attributes\":{\"axis\":{\"id\":\"101323\"},\"ticker\":null},\"id\":\"101330\",\"type\":\"Grid\"},{\"attributes\":{\"end\":-3760685.602578512,\"start\":-3755437.2690718323},\"id\":\"101317\",\"type\":\"Range1d\"},{\"attributes\":{},\"id\":\"101340\",\"type\":\"WheelZoomTool\"},{\"attributes\":{\"end\":12899702.59312454,\"start\":12895249.813492812},\"id\":\"101315\",\"type\":\"Range1d\"},{\"attributes\":{\"dimension\":\"lat\"},\"id\":\"101334\",\"type\":\"MercatorTickFormatter\"},{\"attributes\":{\"formatter\":{\"id\":\"101326\"},\"ticker\":{\"id\":\"101324\"}},\"id\":\"101323\",\"type\":\"MercatorAxis\"},{\"attributes\":{\"tile_source\":{\"id\":\"101344\"}},\"id\":\"101345\",\"type\":\"TileRenderer\"},{\"attributes\":{\"active_drag\":\"auto\",\"active_inspect\":\"auto\",\"active_multi\":null,\"active_scroll\":\"auto\",\"active_tap\":\"auto\",\"tools\":[{\"id\":\"101339\"},{\"id\":\"101340\"}]},\"id\":\"101341\",\"type\":\"Toolbar\"},{\"attributes\":{},\"id\":\"101321\",\"type\":\"LinearScale\"},{\"attributes\":{\"dimension\":\"lat\"},\"id\":\"101332\",\"type\":\"MercatorTicker\"}],\"root_ids\":[\"101314\"]},\"title\":\"Bokeh Application\",\"version\":\"2.1.1\"}};\n",
       "  var render_items = [{\"docid\":\"161c44ff-9637-41e3-829b-49fdefbfb915\",\"root_ids\":[\"101314\"],\"roots\":{\"101314\":\"fdf1663d-d140-4201-ba38-862556f8e281\"}}];\n",
       "  root.Bokeh.embed.embed_items_notebook(docs_json, render_items);\n",
       "\n",
       "  }\n",
       "  if (root.Bokeh !== undefined) {\n",
       "    embed_document(root);\n",
       "  } else {\n",
       "    var attempts = 0;\n",
       "    var timer = setInterval(function(root) {\n",
       "      if (root.Bokeh !== undefined) {\n",
       "        clearInterval(timer);\n",
       "        embed_document(root);\n",
       "      } else {\n",
       "        attempts++;\n",
       "        if (attempts > 100) {\n",
       "          clearInterval(timer);\n",
       "          console.log(\"Bokeh: ERROR: Unable to run BokehJS code because BokehJS library is missing\");\n",
       "        }\n",
       "      }\n",
       "    }, 10, root)\n",
       "  }\n",
       "})(window);"
      ],
      "application/vnd.bokehjs_exec.v0+json": ""
     },
     "metadata": {
      "application/vnd.bokehjs_exec.v0+json": {
       "id": "101314"
      }
     },
     "output_type": "display_data"
    }
   ],
   "source": [
    "USA = x_range,y_range = ((cvt_lon(115.84),cvt_lon(115.88)),(cvt_lat(-31.94),cvt_lat(-31.98)))\n",
    "\n",
    "p = figure(tools='pan, wheel_zoom', x_range=x_range, y_range=y_range, \n",
    "           x_axis_type=\"mercator\", y_axis_type=\"mercator\")\n",
    "url = 'http://a.basemaps.cartocdn.com/rastertiles/voyager/{Z}/{X}/{Y}.png'\n",
    "attribution = \"Tiles by Carto, under CC BY 3.0. Data by OSM, under ODbL\"\n",
    "\n",
    "p.add_tile(WMTSTileSource(url=url, attribution=attribution))\n",
    "show(p)"
   ]
  },
  {
   "cell_type": "markdown",
   "metadata": {},
   "source": [
    "# Callbacks\n",
    "Callbacks allow us to change properties of a plot after it is created."
   ]
  },
  {
   "cell_type": "code",
   "execution_count": 429,
   "metadata": {},
   "outputs": [
    {
     "data": {
      "text/html": [
       "\n",
       "\n",
       "\n",
       "\n",
       "\n",
       "\n",
       "  <div class=\"bk-root\" id=\"2ec7cd01-f2f5-4407-8694-365656d55e8b\" data-root-id=\"114874\"></div>\n"
      ]
     },
     "metadata": {},
     "output_type": "display_data"
    },
    {
     "data": {
      "application/javascript": [
       "(function(root) {\n",
       "  function embed_document(root) {\n",
       "    \n",
       "  var docs_json = {\"a09bb92c-6804-4454-9a11-80fa388befba\":{\"roots\":{\"references\":[{\"attributes\":{\"below\":[{\"id\":\"114883\"}],\"center\":[{\"id\":\"114886\"},{\"id\":\"114890\"}],\"left\":[{\"id\":\"114887\"}],\"plot_height\":400,\"renderers\":[{\"id\":\"114908\"}],\"title\":{\"id\":\"116141\"},\"toolbar\":{\"id\":\"114898\"},\"x_range\":{\"id\":\"114875\"},\"x_scale\":{\"id\":\"114879\"},\"y_range\":{\"id\":\"114877\"},\"y_scale\":{\"id\":\"114881\"}},\"id\":\"114874\",\"subtype\":\"Figure\",\"type\":\"Plot\"},{\"attributes\":{\"axis\":{\"id\":\"114883\"},\"ticker\":null},\"id\":\"114886\",\"type\":\"Grid\"},{\"attributes\":{},\"id\":\"114888\",\"type\":\"BasicTicker\"},{\"attributes\":{},\"id\":\"114892\",\"type\":\"WheelZoomTool\"},{\"attributes\":{},\"id\":\"116144\",\"type\":\"BasicTickFormatter\"},{\"attributes\":{\"line_color\":\"#1f77b4\",\"line_width\":3,\"x\":{\"field\":\"year\"},\"y\":{\"field\":\"production\"}},\"id\":\"114906\",\"type\":\"Line\"},{\"attributes\":{},\"id\":\"114896\",\"type\":\"HelpTool\"},{\"attributes\":{\"format\":\"%d\"},\"id\":\"114910\",\"type\":\"PrintfTickFormatter\"},{\"attributes\":{},\"id\":\"114884\",\"type\":\"BasicTicker\"},{\"attributes\":{},\"id\":\"114875\",\"type\":\"DataRange1d\"},{\"attributes\":{\"axis\":{\"id\":\"114887\"},\"dimension\":1,\"ticker\":null},\"id\":\"114890\",\"type\":\"Grid\"},{\"attributes\":{\"line_alpha\":0.1,\"line_color\":\"#1f77b4\",\"line_width\":3,\"x\":{\"field\":\"year\"},\"y\":{\"field\":\"production\"}},\"id\":\"114907\",\"type\":\"Line\"},{\"attributes\":{\"formatter\":{\"id\":\"114910\"},\"ticker\":{\"id\":\"114888\"}},\"id\":\"114887\",\"type\":\"LinearAxis\"},{\"attributes\":{},\"id\":\"114895\",\"type\":\"ResetTool\"},{\"attributes\":{},\"id\":\"116147\",\"type\":\"UnionRenderers\"},{\"attributes\":{\"data_source\":{\"id\":\"114872\"},\"glyph\":{\"id\":\"114906\"},\"hover_glyph\":null,\"muted_glyph\":null,\"nonselection_glyph\":{\"id\":\"114907\"},\"selection_glyph\":null,\"view\":{\"id\":\"114909\"}},\"id\":\"114908\",\"type\":\"GlyphRenderer\"},{\"attributes\":{\"formatter\":{\"id\":\"116144\"},\"ticker\":{\"id\":\"114884\"}},\"id\":\"114883\",\"type\":\"LinearAxis\"},{\"attributes\":{\"bottom_units\":\"screen\",\"fill_alpha\":0.5,\"fill_color\":\"lightgrey\",\"left_units\":\"screen\",\"level\":\"overlay\",\"line_alpha\":1.0,\"line_color\":\"black\",\"line_dash\":[4,4],\"line_width\":2,\"right_units\":\"screen\",\"top_units\":\"screen\"},\"id\":\"114897\",\"type\":\"BoxAnnotation\"},{\"attributes\":{\"source\":{\"id\":\"114872\"}},\"id\":\"114909\",\"type\":\"CDSView\"},{\"attributes\":{\"active_drag\":\"auto\",\"active_inspect\":\"auto\",\"active_multi\":null,\"active_scroll\":\"auto\",\"active_tap\":\"auto\",\"tools\":[{\"id\":\"114891\"},{\"id\":\"114892\"},{\"id\":\"114893\"},{\"id\":\"114894\"},{\"id\":\"114895\"},{\"id\":\"114896\"}]},\"id\":\"114898\",\"type\":\"Toolbar\"},{\"attributes\":{\"text\":\"\"},\"id\":\"116141\",\"type\":\"Title\"},{\"attributes\":{},\"id\":\"114894\",\"type\":\"SaveTool\"},{\"attributes\":{\"overlay\":{\"id\":\"114897\"}},\"id\":\"114893\",\"type\":\"BoxZoomTool\"},{\"attributes\":{},\"id\":\"114881\",\"type\":\"LinearScale\"},{\"attributes\":{},\"id\":\"114891\",\"type\":\"PanTool\"},{\"attributes\":{},\"id\":\"114879\",\"type\":\"LinearScale\"},{\"attributes\":{},\"id\":\"114877\",\"type\":\"DataRange1d\"},{\"attributes\":{\"data\":{\"production\":[797930,818233,807040,793263,774977,815754,747154,784208,815514,876145,786948,830503,895098,917015,918594,1062935,1120985,1105461,1096699,1141547,1161363,1129691,689083,631538,611356,571820,531861,501570,485801,144480],\"year\":[1991,1992,1993,1994,1995,1996,1997,1998,1999,2000,2001,2002,2003,2004,2005,2006,2007,2008,2009,2010,2011,2012,2013,2014,2015,2016,2017,2018,2019,2020]},\"selected\":{\"id\":\"116148\"},\"selection_policy\":{\"id\":\"116147\"}},\"id\":\"114872\",\"type\":\"ColumnDataSource\"},{\"attributes\":{},\"id\":\"116148\",\"type\":\"Selection\"}],\"root_ids\":[\"114874\"]},\"title\":\"Bokeh Application\",\"version\":\"2.1.1\"}};\n",
       "  var render_items = [{\"docid\":\"a09bb92c-6804-4454-9a11-80fa388befba\",\"notebook_comms_target\":\"116149\",\"root_ids\":[\"114874\"],\"roots\":{\"114874\":\"2ec7cd01-f2f5-4407-8694-365656d55e8b\"}}];\n",
       "  root.Bokeh.embed.embed_items_notebook(docs_json, render_items);\n",
       "\n",
       "  }\n",
       "  if (root.Bokeh !== undefined) {\n",
       "    embed_document(root);\n",
       "  } else {\n",
       "    var attempts = 0;\n",
       "    var timer = setInterval(function(root) {\n",
       "      if (root.Bokeh !== undefined) {\n",
       "        clearInterval(timer);\n",
       "        embed_document(root);\n",
       "      } else {\n",
       "        attempts++;\n",
       "        if (attempts > 100) {\n",
       "          clearInterval(timer);\n",
       "          console.log(\"Bokeh: ERROR: Unable to run BokehJS code because BokehJS library is missing\");\n",
       "        }\n",
       "      }\n",
       "    }, 10, root)\n",
       "  }\n",
       "})(window);"
      ],
      "application/vnd.bokehjs_exec.v0+json": ""
     },
     "metadata": {
      "application/vnd.bokehjs_exec.v0+json": {
       "id": "114874"
      }
     },
     "output_type": "display_data"
    },
    {
     "data": {
      "text/html": [
       "<p><code>&lt;Bokeh Notebook handle for <strong>In[22]</strong>&gt;</code></p>"
      ],
      "text/plain": [
       "<bokeh.io.notebook.CommsHandle at 0x7f36630a9310>"
      ]
     },
     "execution_count": 429,
     "metadata": {},
     "output_type": "execute_result"
    }
   ],
   "source": [
    "# ngdf\n",
    "source = ColumnDataSource(data={\n",
    "    'year': ngdf.index,\n",
    "    'production': ngdf['Other']\n",
    "})\n",
    "# palettes.Viridis256\n",
    "hover = HoverTool(tooltips = [('Year','@year'),('Production','@production MMcf')])\n",
    "\n",
    "p = figure(width = 600,height = 400)\n",
    "r = p.line('year','production',line_width = 3, source = source)\n",
    "p.yaxis.formatter = PrintfTickFormatter(format = \"%d\")\n",
    "show(p,notebook_handle=True)"
   ]
  },
  {
   "cell_type": "code",
   "execution_count": 430,
   "metadata": {},
   "outputs": [],
   "source": [
    "def update(state = 'Other'):\n",
    "    newdata={\n",
    "            'year': ngdf.index,\n",
    "            'production': ngdf[state]}\n",
    "    source.data = newdata\n",
    "    p.title.text = state\n",
    "    push_notebook()\n",
    "    show(p)\n"
   ]
  },
  {
   "cell_type": "code",
   "execution_count": 431,
   "metadata": {},
   "outputs": [
    {
     "data": {
      "application/vnd.jupyter.widget-view+json": {
       "model_id": "998fa252307c4db280ee0fe065d6a144",
       "version_major": 2,
       "version_minor": 0
      },
      "text/plain": [
       "interactive(children=(Dropdown(description='state', options=('Other', 'Alabama', 'Arizona', 'Florida', 'Idaho'…"
      ]
     },
     "metadata": {},
     "output_type": "display_data"
    }
   ],
   "source": [
    "from IPython.html.widgets import interact\n",
    "interact(update,state = ngdf.columns.to_list());"
   ]
  },
  {
   "cell_type": "code",
   "execution_count": 443,
   "metadata": {},
   "outputs": [
    {
     "data": {
      "application/vnd.jupyter.widget-view+json": {
       "model_id": "2f1bf1ff96c94ef8b41a4a32c0858e9c",
       "version_major": 2,
       "version_minor": 0
      },
      "text/plain": [
       "interactive(children=(Dropdown(description='color', options=('red', 'blue', 'green', 'black'), value='red'), I…"
      ]
     },
     "metadata": {},
     "output_type": "display_data"
    }
   ],
   "source": [
    "@interact\n",
    "def ChangeColor(color=['red', 'blue', 'green', 'black'], thickness = (1,5,1)):\n",
    "    r.glyph.line_color = color\n",
    "    r.glyph.line_width = thickness\n",
    "    push_notebook()\n",
    "    show(p)"
   ]
  },
  {
   "cell_type": "code",
   "execution_count": 441,
   "metadata": {},
   "outputs": [],
   "source": []
  }
 ],
 "metadata": {
  "kernelspec": {
   "display_name": "Python 3",
   "language": "python",
   "name": "python3"
  },
  "language_info": {
   "codemirror_mode": {
    "name": "ipython",
    "version": 3
   },
   "file_extension": ".py",
   "mimetype": "text/x-python",
   "name": "python",
   "nbconvert_exporter": "python",
   "pygments_lexer": "ipython3",
   "version": "3.7.4"
  },
  "toc": {
   "base_numbering": 1,
   "nav_menu": {},
   "number_sections": true,
   "sideBar": true,
   "skip_h1_title": false,
   "title_cell": "Table of Contents",
   "title_sidebar": "Contents",
   "toc_cell": false,
   "toc_position": {
    "height": "457px",
    "left": "967px",
    "top": "180px",
    "width": "259.797px"
   },
   "toc_section_display": true,
   "toc_window_display": false
  }
 },
 "nbformat": 4,
 "nbformat_minor": 2
}
