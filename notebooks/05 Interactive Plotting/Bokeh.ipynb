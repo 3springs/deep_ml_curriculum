{
 "cells": [
  {
   "cell_type": "code",
   "execution_count": 1,
   "metadata": {},
   "outputs": [],
   "source": [
    "import pandas as pd\n",
    "import numpy as np\n",
    "from bokeh.io import output_file,show,output_notebook,push_notebook\n",
    "from bokeh.plotting import *\n",
    "from bokeh.models import ColumnDataSource,HoverTool,CategoricalColorMapper\n",
    "from bokeh.layouts import row,column,gridplot,widgetbox\n",
    "from bokeh.models.widgets import Tabs,Panel"
   ]
  },
  {
   "cell_type": "markdown",
   "metadata": {},
   "source": [
    "Bokeh export the plots into html files directly so it can be used in a webpage. But since here we are woring in jupyter notebook, we need Bokeh to return everything within the notebook environment. To do that we use the following command. "
   ]
  },
  {
   "cell_type": "code",
   "execution_count": 2,
   "metadata": {
    "scrolled": true
   },
   "outputs": [
    {
     "data": {
      "text/html": [
       "\n",
       "    <div class=\"bk-root\">\n",
       "        <a href=\"https://bokeh.org\" target=\"_blank\" class=\"bk-logo bk-logo-small bk-logo-notebook\"></a>\n",
       "        <span id=\"1001\">Loading BokehJS ...</span>\n",
       "    </div>"
      ]
     },
     "metadata": {},
     "output_type": "display_data"
    },
    {
     "data": {
      "application/javascript": [
       "\n",
       "(function(root) {\n",
       "  function now() {\n",
       "    return new Date();\n",
       "  }\n",
       "\n",
       "  var force = true;\n",
       "\n",
       "  if (typeof root._bokeh_onload_callbacks === \"undefined\" || force === true) {\n",
       "    root._bokeh_onload_callbacks = [];\n",
       "    root._bokeh_is_loading = undefined;\n",
       "  }\n",
       "\n",
       "  var JS_MIME_TYPE = 'application/javascript';\n",
       "  var HTML_MIME_TYPE = 'text/html';\n",
       "  var EXEC_MIME_TYPE = 'application/vnd.bokehjs_exec.v0+json';\n",
       "  var CLASS_NAME = 'output_bokeh rendered_html';\n",
       "\n",
       "  /**\n",
       "   * Render data to the DOM node\n",
       "   */\n",
       "  function render(props, node) {\n",
       "    var script = document.createElement(\"script\");\n",
       "    node.appendChild(script);\n",
       "  }\n",
       "\n",
       "  /**\n",
       "   * Handle when an output is cleared or removed\n",
       "   */\n",
       "  function handleClearOutput(event, handle) {\n",
       "    var cell = handle.cell;\n",
       "\n",
       "    var id = cell.output_area._bokeh_element_id;\n",
       "    var server_id = cell.output_area._bokeh_server_id;\n",
       "    // Clean up Bokeh references\n",
       "    if (id != null && id in Bokeh.index) {\n",
       "      Bokeh.index[id].model.document.clear();\n",
       "      delete Bokeh.index[id];\n",
       "    }\n",
       "\n",
       "    if (server_id !== undefined) {\n",
       "      // Clean up Bokeh references\n",
       "      var cmd = \"from bokeh.io.state import curstate; print(curstate().uuid_to_server['\" + server_id + \"'].get_sessions()[0].document.roots[0]._id)\";\n",
       "      cell.notebook.kernel.execute(cmd, {\n",
       "        iopub: {\n",
       "          output: function(msg) {\n",
       "            var id = msg.content.text.trim();\n",
       "            if (id in Bokeh.index) {\n",
       "              Bokeh.index[id].model.document.clear();\n",
       "              delete Bokeh.index[id];\n",
       "            }\n",
       "          }\n",
       "        }\n",
       "      });\n",
       "      // Destroy server and session\n",
       "      var cmd = \"import bokeh.io.notebook as ion; ion.destroy_server('\" + server_id + \"')\";\n",
       "      cell.notebook.kernel.execute(cmd);\n",
       "    }\n",
       "  }\n",
       "\n",
       "  /**\n",
       "   * Handle when a new output is added\n",
       "   */\n",
       "  function handleAddOutput(event, handle) {\n",
       "    var output_area = handle.output_area;\n",
       "    var output = handle.output;\n",
       "\n",
       "    // limit handleAddOutput to display_data with EXEC_MIME_TYPE content only\n",
       "    if ((output.output_type != \"display_data\") || (!output.data.hasOwnProperty(EXEC_MIME_TYPE))) {\n",
       "      return\n",
       "    }\n",
       "\n",
       "    var toinsert = output_area.element.find(\".\" + CLASS_NAME.split(' ')[0]);\n",
       "\n",
       "    if (output.metadata[EXEC_MIME_TYPE][\"id\"] !== undefined) {\n",
       "      toinsert[toinsert.length - 1].firstChild.textContent = output.data[JS_MIME_TYPE];\n",
       "      // store reference to embed id on output_area\n",
       "      output_area._bokeh_element_id = output.metadata[EXEC_MIME_TYPE][\"id\"];\n",
       "    }\n",
       "    if (output.metadata[EXEC_MIME_TYPE][\"server_id\"] !== undefined) {\n",
       "      var bk_div = document.createElement(\"div\");\n",
       "      bk_div.innerHTML = output.data[HTML_MIME_TYPE];\n",
       "      var script_attrs = bk_div.children[0].attributes;\n",
       "      for (var i = 0; i < script_attrs.length; i++) {\n",
       "        toinsert[toinsert.length - 1].firstChild.setAttribute(script_attrs[i].name, script_attrs[i].value);\n",
       "      }\n",
       "      // store reference to server id on output_area\n",
       "      output_area._bokeh_server_id = output.metadata[EXEC_MIME_TYPE][\"server_id\"];\n",
       "    }\n",
       "  }\n",
       "\n",
       "  function register_renderer(events, OutputArea) {\n",
       "\n",
       "    function append_mime(data, metadata, element) {\n",
       "      // create a DOM node to render to\n",
       "      var toinsert = this.create_output_subarea(\n",
       "        metadata,\n",
       "        CLASS_NAME,\n",
       "        EXEC_MIME_TYPE\n",
       "      );\n",
       "      this.keyboard_manager.register_events(toinsert);\n",
       "      // Render to node\n",
       "      var props = {data: data, metadata: metadata[EXEC_MIME_TYPE]};\n",
       "      render(props, toinsert[toinsert.length - 1]);\n",
       "      element.append(toinsert);\n",
       "      return toinsert\n",
       "    }\n",
       "\n",
       "    /* Handle when an output is cleared or removed */\n",
       "    events.on('clear_output.CodeCell', handleClearOutput);\n",
       "    events.on('delete.Cell', handleClearOutput);\n",
       "\n",
       "    /* Handle when a new output is added */\n",
       "    events.on('output_added.OutputArea', handleAddOutput);\n",
       "\n",
       "    /**\n",
       "     * Register the mime type and append_mime function with output_area\n",
       "     */\n",
       "    OutputArea.prototype.register_mime_type(EXEC_MIME_TYPE, append_mime, {\n",
       "      /* Is output safe? */\n",
       "      safe: true,\n",
       "      /* Index of renderer in `output_area.display_order` */\n",
       "      index: 0\n",
       "    });\n",
       "  }\n",
       "\n",
       "  // register the mime type if in Jupyter Notebook environment and previously unregistered\n",
       "  if (root.Jupyter !== undefined) {\n",
       "    var events = require('base/js/events');\n",
       "    var OutputArea = require('notebook/js/outputarea').OutputArea;\n",
       "\n",
       "    if (OutputArea.prototype.mime_types().indexOf(EXEC_MIME_TYPE) == -1) {\n",
       "      register_renderer(events, OutputArea);\n",
       "    }\n",
       "  }\n",
       "\n",
       "  \n",
       "  if (typeof (root._bokeh_timeout) === \"undefined\" || force === true) {\n",
       "    root._bokeh_timeout = Date.now() + 5000;\n",
       "    root._bokeh_failed_load = false;\n",
       "  }\n",
       "\n",
       "  var NB_LOAD_WARNING = {'data': {'text/html':\n",
       "     \"<div style='background-color: #fdd'>\\n\"+\n",
       "     \"<p>\\n\"+\n",
       "     \"BokehJS does not appear to have successfully loaded. If loading BokehJS from CDN, this \\n\"+\n",
       "     \"may be due to a slow or bad network connection. Possible fixes:\\n\"+\n",
       "     \"</p>\\n\"+\n",
       "     \"<ul>\\n\"+\n",
       "     \"<li>re-rerun `output_notebook()` to attempt to load from CDN again, or</li>\\n\"+\n",
       "     \"<li>use INLINE resources instead, as so:</li>\\n\"+\n",
       "     \"</ul>\\n\"+\n",
       "     \"<code>\\n\"+\n",
       "     \"from bokeh.resources import INLINE\\n\"+\n",
       "     \"output_notebook(resources=INLINE)\\n\"+\n",
       "     \"</code>\\n\"+\n",
       "     \"</div>\"}};\n",
       "\n",
       "  function display_loaded() {\n",
       "    var el = document.getElementById(\"1001\");\n",
       "    if (el != null) {\n",
       "      el.textContent = \"BokehJS is loading...\";\n",
       "    }\n",
       "    if (root.Bokeh !== undefined) {\n",
       "      if (el != null) {\n",
       "        el.textContent = \"BokehJS \" + root.Bokeh.version + \" successfully loaded.\";\n",
       "      }\n",
       "    } else if (Date.now() < root._bokeh_timeout) {\n",
       "      setTimeout(display_loaded, 100)\n",
       "    }\n",
       "  }\n",
       "\n",
       "\n",
       "  function run_callbacks() {\n",
       "    try {\n",
       "      root._bokeh_onload_callbacks.forEach(function(callback) {\n",
       "        if (callback != null)\n",
       "          callback();\n",
       "      });\n",
       "    } finally {\n",
       "      delete root._bokeh_onload_callbacks\n",
       "    }\n",
       "    console.debug(\"Bokeh: all callbacks have finished\");\n",
       "  }\n",
       "\n",
       "  function load_libs(css_urls, js_urls, callback) {\n",
       "    if (css_urls == null) css_urls = [];\n",
       "    if (js_urls == null) js_urls = [];\n",
       "\n",
       "    root._bokeh_onload_callbacks.push(callback);\n",
       "    if (root._bokeh_is_loading > 0) {\n",
       "      console.debug(\"Bokeh: BokehJS is being loaded, scheduling callback at\", now());\n",
       "      return null;\n",
       "    }\n",
       "    if (js_urls == null || js_urls.length === 0) {\n",
       "      run_callbacks();\n",
       "      return null;\n",
       "    }\n",
       "    console.debug(\"Bokeh: BokehJS not loaded, scheduling load and callback at\", now());\n",
       "    root._bokeh_is_loading = css_urls.length + js_urls.length;\n",
       "\n",
       "    function on_load() {\n",
       "      root._bokeh_is_loading--;\n",
       "      if (root._bokeh_is_loading === 0) {\n",
       "        console.debug(\"Bokeh: all BokehJS libraries/stylesheets loaded\");\n",
       "        run_callbacks()\n",
       "      }\n",
       "    }\n",
       "\n",
       "    function on_error() {\n",
       "      console.error(\"failed to load \" + url);\n",
       "    }\n",
       "\n",
       "    for (var i = 0; i < css_urls.length; i++) {\n",
       "      var url = css_urls[i];\n",
       "      const element = document.createElement(\"link\");\n",
       "      element.onload = on_load;\n",
       "      element.onerror = on_error;\n",
       "      element.rel = \"stylesheet\";\n",
       "      element.type = \"text/css\";\n",
       "      element.href = url;\n",
       "      console.debug(\"Bokeh: injecting link tag for BokehJS stylesheet: \", url);\n",
       "      document.body.appendChild(element);\n",
       "    }\n",
       "\n",
       "    for (var i = 0; i < js_urls.length; i++) {\n",
       "      var url = js_urls[i];\n",
       "      var element = document.createElement('script');\n",
       "      element.onload = on_load;\n",
       "      element.onerror = on_error;\n",
       "      element.async = false;\n",
       "      element.src = url;\n",
       "      console.debug(\"Bokeh: injecting script tag for BokehJS library: \", url);\n",
       "      document.head.appendChild(element);\n",
       "    }\n",
       "  };var element = document.getElementById(\"1001\");\n",
       "  if (element == null) {\n",
       "    console.error(\"Bokeh: ERROR: autoload.js configured with elementid '1001' but no matching script tag was found. \")\n",
       "    return false;\n",
       "  }\n",
       "\n",
       "  function inject_raw_css(css) {\n",
       "    const element = document.createElement(\"style\");\n",
       "    element.appendChild(document.createTextNode(css));\n",
       "    document.body.appendChild(element);\n",
       "  }\n",
       "\n",
       "  \n",
       "  var js_urls = [\"https://cdn.pydata.org/bokeh/release/bokeh-1.4.0.min.js\", \"https://cdn.pydata.org/bokeh/release/bokeh-widgets-1.4.0.min.js\", \"https://cdn.pydata.org/bokeh/release/bokeh-tables-1.4.0.min.js\", \"https://cdn.pydata.org/bokeh/release/bokeh-gl-1.4.0.min.js\"];\n",
       "  var css_urls = [];\n",
       "  \n",
       "\n",
       "  var inline_js = [\n",
       "    function(Bokeh) {\n",
       "      Bokeh.set_log_level(\"info\");\n",
       "    },\n",
       "    function(Bokeh) {\n",
       "    \n",
       "    \n",
       "    }\n",
       "  ];\n",
       "\n",
       "  function run_inline_js() {\n",
       "    \n",
       "    if (root.Bokeh !== undefined || force === true) {\n",
       "      \n",
       "    for (var i = 0; i < inline_js.length; i++) {\n",
       "      inline_js[i].call(root, root.Bokeh);\n",
       "    }\n",
       "    if (force === true) {\n",
       "        display_loaded();\n",
       "      }} else if (Date.now() < root._bokeh_timeout) {\n",
       "      setTimeout(run_inline_js, 100);\n",
       "    } else if (!root._bokeh_failed_load) {\n",
       "      console.log(\"Bokeh: BokehJS failed to load within specified timeout.\");\n",
       "      root._bokeh_failed_load = true;\n",
       "    } else if (force !== true) {\n",
       "      var cell = $(document.getElementById(\"1001\")).parents('.cell').data().cell;\n",
       "      cell.output_area.append_execute_result(NB_LOAD_WARNING)\n",
       "    }\n",
       "\n",
       "  }\n",
       "\n",
       "  if (root._bokeh_is_loading === 0) {\n",
       "    console.debug(\"Bokeh: BokehJS loaded, going straight to plotting\");\n",
       "    run_inline_js();\n",
       "  } else {\n",
       "    load_libs(css_urls, js_urls, function() {\n",
       "      console.debug(\"Bokeh: BokehJS plotting callback run at\", now());\n",
       "      run_inline_js();\n",
       "    });\n",
       "  }\n",
       "}(window));"
      ],
      "application/vnd.bokehjs_load.v0+json": "\n(function(root) {\n  function now() {\n    return new Date();\n  }\n\n  var force = true;\n\n  if (typeof root._bokeh_onload_callbacks === \"undefined\" || force === true) {\n    root._bokeh_onload_callbacks = [];\n    root._bokeh_is_loading = undefined;\n  }\n\n  \n\n  \n  if (typeof (root._bokeh_timeout) === \"undefined\" || force === true) {\n    root._bokeh_timeout = Date.now() + 5000;\n    root._bokeh_failed_load = false;\n  }\n\n  var NB_LOAD_WARNING = {'data': {'text/html':\n     \"<div style='background-color: #fdd'>\\n\"+\n     \"<p>\\n\"+\n     \"BokehJS does not appear to have successfully loaded. If loading BokehJS from CDN, this \\n\"+\n     \"may be due to a slow or bad network connection. Possible fixes:\\n\"+\n     \"</p>\\n\"+\n     \"<ul>\\n\"+\n     \"<li>re-rerun `output_notebook()` to attempt to load from CDN again, or</li>\\n\"+\n     \"<li>use INLINE resources instead, as so:</li>\\n\"+\n     \"</ul>\\n\"+\n     \"<code>\\n\"+\n     \"from bokeh.resources import INLINE\\n\"+\n     \"output_notebook(resources=INLINE)\\n\"+\n     \"</code>\\n\"+\n     \"</div>\"}};\n\n  function display_loaded() {\n    var el = document.getElementById(\"1001\");\n    if (el != null) {\n      el.textContent = \"BokehJS is loading...\";\n    }\n    if (root.Bokeh !== undefined) {\n      if (el != null) {\n        el.textContent = \"BokehJS \" + root.Bokeh.version + \" successfully loaded.\";\n      }\n    } else if (Date.now() < root._bokeh_timeout) {\n      setTimeout(display_loaded, 100)\n    }\n  }\n\n\n  function run_callbacks() {\n    try {\n      root._bokeh_onload_callbacks.forEach(function(callback) {\n        if (callback != null)\n          callback();\n      });\n    } finally {\n      delete root._bokeh_onload_callbacks\n    }\n    console.debug(\"Bokeh: all callbacks have finished\");\n  }\n\n  function load_libs(css_urls, js_urls, callback) {\n    if (css_urls == null) css_urls = [];\n    if (js_urls == null) js_urls = [];\n\n    root._bokeh_onload_callbacks.push(callback);\n    if (root._bokeh_is_loading > 0) {\n      console.debug(\"Bokeh: BokehJS is being loaded, scheduling callback at\", now());\n      return null;\n    }\n    if (js_urls == null || js_urls.length === 0) {\n      run_callbacks();\n      return null;\n    }\n    console.debug(\"Bokeh: BokehJS not loaded, scheduling load and callback at\", now());\n    root._bokeh_is_loading = css_urls.length + js_urls.length;\n\n    function on_load() {\n      root._bokeh_is_loading--;\n      if (root._bokeh_is_loading === 0) {\n        console.debug(\"Bokeh: all BokehJS libraries/stylesheets loaded\");\n        run_callbacks()\n      }\n    }\n\n    function on_error() {\n      console.error(\"failed to load \" + url);\n    }\n\n    for (var i = 0; i < css_urls.length; i++) {\n      var url = css_urls[i];\n      const element = document.createElement(\"link\");\n      element.onload = on_load;\n      element.onerror = on_error;\n      element.rel = \"stylesheet\";\n      element.type = \"text/css\";\n      element.href = url;\n      console.debug(\"Bokeh: injecting link tag for BokehJS stylesheet: \", url);\n      document.body.appendChild(element);\n    }\n\n    for (var i = 0; i < js_urls.length; i++) {\n      var url = js_urls[i];\n      var element = document.createElement('script');\n      element.onload = on_load;\n      element.onerror = on_error;\n      element.async = false;\n      element.src = url;\n      console.debug(\"Bokeh: injecting script tag for BokehJS library: \", url);\n      document.head.appendChild(element);\n    }\n  };var element = document.getElementById(\"1001\");\n  if (element == null) {\n    console.error(\"Bokeh: ERROR: autoload.js configured with elementid '1001' but no matching script tag was found. \")\n    return false;\n  }\n\n  function inject_raw_css(css) {\n    const element = document.createElement(\"style\");\n    element.appendChild(document.createTextNode(css));\n    document.body.appendChild(element);\n  }\n\n  \n  var js_urls = [\"https://cdn.pydata.org/bokeh/release/bokeh-1.4.0.min.js\", \"https://cdn.pydata.org/bokeh/release/bokeh-widgets-1.4.0.min.js\", \"https://cdn.pydata.org/bokeh/release/bokeh-tables-1.4.0.min.js\", \"https://cdn.pydata.org/bokeh/release/bokeh-gl-1.4.0.min.js\"];\n  var css_urls = [];\n  \n\n  var inline_js = [\n    function(Bokeh) {\n      Bokeh.set_log_level(\"info\");\n    },\n    function(Bokeh) {\n    \n    \n    }\n  ];\n\n  function run_inline_js() {\n    \n    if (root.Bokeh !== undefined || force === true) {\n      \n    for (var i = 0; i < inline_js.length; i++) {\n      inline_js[i].call(root, root.Bokeh);\n    }\n    if (force === true) {\n        display_loaded();\n      }} else if (Date.now() < root._bokeh_timeout) {\n      setTimeout(run_inline_js, 100);\n    } else if (!root._bokeh_failed_load) {\n      console.log(\"Bokeh: BokehJS failed to load within specified timeout.\");\n      root._bokeh_failed_load = true;\n    } else if (force !== true) {\n      var cell = $(document.getElementById(\"1001\")).parents('.cell').data().cell;\n      cell.output_area.append_execute_result(NB_LOAD_WARNING)\n    }\n\n  }\n\n  if (root._bokeh_is_loading === 0) {\n    console.debug(\"Bokeh: BokehJS loaded, going straight to plotting\");\n    run_inline_js();\n  } else {\n    load_libs(css_urls, js_urls, function() {\n      console.debug(\"Bokeh: BokehJS plotting callback run at\", now());\n      run_inline_js();\n    });\n  }\n}(window));"
     },
     "metadata": {},
     "output_type": "display_data"
    }
   ],
   "source": [
    "output_notebook()"
   ]
  },
  {
   "cell_type": "markdown",
   "metadata": {},
   "source": [
    "# Basic Plotting\n"
   ]
  },
  {
   "cell_type": "code",
   "execution_count": 3,
   "metadata": {},
   "outputs": [],
   "source": [
    "import numpy as np \n",
    "from bokeh.io import output_notebook, show\n",
    "from bokeh.plotting import figure"
   ]
  },
  {
   "cell_type": "markdown",
   "metadata": {},
   "source": [
    "## Scatter Plots\n",
    "Similar to other plotting libraries bokeh is capable of creating multiple types of plots (called _glyphs_ in bokeh). <br>\n",
    "First step is to create an empty figure where we can add the plots to later."
   ]
  },
  {
   "cell_type": "code",
   "execution_count": 4,
   "metadata": {},
   "outputs": [],
   "source": [
    "p = figure(plot_width=600, plot_height=400)"
   ]
  },
  {
   "cell_type": "markdown",
   "metadata": {},
   "source": [
    "Then we specify the type of plot and add in the data. <br>\n",
    "_We are going to generate some random data here._"
   ]
  },
  {
   "cell_type": "code",
   "execution_count": 5,
   "metadata": {},
   "outputs": [
    {
     "data": {
      "text/html": [
       "<div style=\"display: table;\"><div style=\"display: table-row;\"><div style=\"display: table-cell;\"><b title=\"bokeh.models.renderers.GlyphRenderer\">GlyphRenderer</b>(</div><div style=\"display: table-cell;\">id&nbsp;=&nbsp;'1037', <span id=\"1040\" style=\"cursor: pointer;\">&hellip;)</span></div></div><div class=\"1039\" style=\"display: none;\"><div style=\"display: table-cell;\"></div><div style=\"display: table-cell;\">data_source&nbsp;=&nbsp;ColumnDataSource(id='1034', ...),</div></div><div class=\"1039\" style=\"display: none;\"><div style=\"display: table-cell;\"></div><div style=\"display: table-cell;\">glyph&nbsp;=&nbsp;Circle(id='1035', ...),</div></div><div class=\"1039\" style=\"display: none;\"><div style=\"display: table-cell;\"></div><div style=\"display: table-cell;\">hover_glyph&nbsp;=&nbsp;None,</div></div><div class=\"1039\" style=\"display: none;\"><div style=\"display: table-cell;\"></div><div style=\"display: table-cell;\">js_event_callbacks&nbsp;=&nbsp;{},</div></div><div class=\"1039\" style=\"display: none;\"><div style=\"display: table-cell;\"></div><div style=\"display: table-cell;\">js_property_callbacks&nbsp;=&nbsp;{},</div></div><div class=\"1039\" style=\"display: none;\"><div style=\"display: table-cell;\"></div><div style=\"display: table-cell;\">level&nbsp;=&nbsp;'glyph',</div></div><div class=\"1039\" style=\"display: none;\"><div style=\"display: table-cell;\"></div><div style=\"display: table-cell;\">muted&nbsp;=&nbsp;False,</div></div><div class=\"1039\" style=\"display: none;\"><div style=\"display: table-cell;\"></div><div style=\"display: table-cell;\">muted_glyph&nbsp;=&nbsp;None,</div></div><div class=\"1039\" style=\"display: none;\"><div style=\"display: table-cell;\"></div><div style=\"display: table-cell;\">name&nbsp;=&nbsp;None,</div></div><div class=\"1039\" style=\"display: none;\"><div style=\"display: table-cell;\"></div><div style=\"display: table-cell;\">nonselection_glyph&nbsp;=&nbsp;Circle(id='1036', ...),</div></div><div class=\"1039\" style=\"display: none;\"><div style=\"display: table-cell;\"></div><div style=\"display: table-cell;\">selection_glyph&nbsp;=&nbsp;None,</div></div><div class=\"1039\" style=\"display: none;\"><div style=\"display: table-cell;\"></div><div style=\"display: table-cell;\">subscribed_events&nbsp;=&nbsp;[],</div></div><div class=\"1039\" style=\"display: none;\"><div style=\"display: table-cell;\"></div><div style=\"display: table-cell;\">tags&nbsp;=&nbsp;[],</div></div><div class=\"1039\" style=\"display: none;\"><div style=\"display: table-cell;\"></div><div style=\"display: table-cell;\">view&nbsp;=&nbsp;CDSView(id='1038', ...),</div></div><div class=\"1039\" style=\"display: none;\"><div style=\"display: table-cell;\"></div><div style=\"display: table-cell;\">visible&nbsp;=&nbsp;True,</div></div><div class=\"1039\" style=\"display: none;\"><div style=\"display: table-cell;\"></div><div style=\"display: table-cell;\">x_range_name&nbsp;=&nbsp;'default',</div></div><div class=\"1039\" style=\"display: none;\"><div style=\"display: table-cell;\"></div><div style=\"display: table-cell;\">y_range_name&nbsp;=&nbsp;'default')</div></div></div>\n",
       "<script>\n",
       "(function() {\n",
       "  var expanded = false;\n",
       "  var ellipsis = document.getElementById(\"1040\");\n",
       "  ellipsis.addEventListener(\"click\", function() {\n",
       "    var rows = document.getElementsByClassName(\"1039\");\n",
       "    for (var i = 0; i < rows.length; i++) {\n",
       "      var el = rows[i];\n",
       "      el.style.display = expanded ? \"none\" : \"table-row\";\n",
       "    }\n",
       "    ellipsis.innerHTML = expanded ? \"&hellip;)\" : \"&lsaquo;&lsaquo;&lsaquo;\";\n",
       "    expanded = !expanded;\n",
       "  });\n",
       "})();\n",
       "</script>\n"
      ],
      "text/plain": [
       "GlyphRenderer(id='1037', ...)"
      ]
     },
     "execution_count": 5,
     "metadata": {},
     "output_type": "execute_result"
    }
   ],
   "source": [
    "np.random.seed(1)\n",
    "x = np.random.randn(100)\n",
    "y = np.random.randn(100)\n",
    "p.circle(x,y)"
   ]
  },
  {
   "cell_type": "markdown",
   "metadata": {},
   "source": [
    "Now the plot is generated and we only need to display it. To see the plot we can use `show`:"
   ]
  },
  {
   "cell_type": "code",
   "execution_count": 6,
   "metadata": {},
   "outputs": [
    {
     "data": {
      "text/html": [
       "\n",
       "\n",
       "\n",
       "\n",
       "\n",
       "\n",
       "  <div class=\"bk-root\" id=\"723455a8-4865-4b80-90c4-3e6a27828362\" data-root-id=\"1002\"></div>\n"
      ]
     },
     "metadata": {},
     "output_type": "display_data"
    },
    {
     "data": {
      "application/javascript": [
       "(function(root) {\n",
       "  function embed_document(root) {\n",
       "    \n",
       "  var docs_json = {\"6256985e-dd79-44bd-bcd7-b237a090c846\":{\"roots\":{\"references\":[{\"attributes\":{\"below\":[{\"id\":\"1011\",\"type\":\"LinearAxis\"}],\"center\":[{\"id\":\"1015\",\"type\":\"Grid\"},{\"id\":\"1020\",\"type\":\"Grid\"}],\"left\":[{\"id\":\"1016\",\"type\":\"LinearAxis\"}],\"plot_height\":400,\"renderers\":[{\"id\":\"1037\",\"type\":\"GlyphRenderer\"}],\"title\":{\"id\":\"1041\",\"type\":\"Title\"},\"toolbar\":{\"id\":\"1027\",\"type\":\"Toolbar\"},\"x_range\":{\"id\":\"1003\",\"type\":\"DataRange1d\"},\"x_scale\":{\"id\":\"1007\",\"type\":\"LinearScale\"},\"y_range\":{\"id\":\"1005\",\"type\":\"DataRange1d\"},\"y_scale\":{\"id\":\"1009\",\"type\":\"LinearScale\"}},\"id\":\"1002\",\"subtype\":\"Figure\",\"type\":\"Plot\"},{\"attributes\":{\"data_source\":{\"id\":\"1034\",\"type\":\"ColumnDataSource\"},\"glyph\":{\"id\":\"1035\",\"type\":\"Circle\"},\"hover_glyph\":null,\"muted_glyph\":null,\"nonselection_glyph\":{\"id\":\"1036\",\"type\":\"Circle\"},\"selection_glyph\":null,\"view\":{\"id\":\"1038\",\"type\":\"CDSView\"}},\"id\":\"1037\",\"type\":\"GlyphRenderer\"},{\"attributes\":{},\"id\":\"1026\",\"type\":\"HelpTool\"},{\"attributes\":{},\"id\":\"1009\",\"type\":\"LinearScale\"},{\"attributes\":{\"active_drag\":\"auto\",\"active_inspect\":\"auto\",\"active_multi\":null,\"active_scroll\":\"auto\",\"active_tap\":\"auto\",\"tools\":[{\"id\":\"1021\",\"type\":\"PanTool\"},{\"id\":\"1022\",\"type\":\"WheelZoomTool\"},{\"id\":\"1023\",\"type\":\"BoxZoomTool\"},{\"id\":\"1024\",\"type\":\"SaveTool\"},{\"id\":\"1025\",\"type\":\"ResetTool\"},{\"id\":\"1026\",\"type\":\"HelpTool\"}]},\"id\":\"1027\",\"type\":\"Toolbar\"},{\"attributes\":{\"source\":{\"id\":\"1034\",\"type\":\"ColumnDataSource\"}},\"id\":\"1038\",\"type\":\"CDSView\"},{\"attributes\":{\"formatter\":{\"id\":\"1044\",\"type\":\"BasicTickFormatter\"},\"ticker\":{\"id\":\"1012\",\"type\":\"BasicTicker\"}},\"id\":\"1011\",\"type\":\"LinearAxis\"},{\"attributes\":{},\"id\":\"1017\",\"type\":\"BasicTicker\"},{\"attributes\":{\"bottom_units\":\"screen\",\"fill_alpha\":{\"value\":0.5},\"fill_color\":{\"value\":\"lightgrey\"},\"left_units\":\"screen\",\"level\":\"overlay\",\"line_alpha\":{\"value\":1.0},\"line_color\":{\"value\":\"black\"},\"line_dash\":[4,4],\"line_width\":{\"value\":2},\"render_mode\":\"css\",\"right_units\":\"screen\",\"top_units\":\"screen\"},\"id\":\"1049\",\"type\":\"BoxAnnotation\"},{\"attributes\":{},\"id\":\"1012\",\"type\":\"BasicTicker\"},{\"attributes\":{\"ticker\":{\"id\":\"1012\",\"type\":\"BasicTicker\"}},\"id\":\"1015\",\"type\":\"Grid\"},{\"attributes\":{},\"id\":\"1047\",\"type\":\"UnionRenderers\"},{\"attributes\":{\"text\":\"\"},\"id\":\"1041\",\"type\":\"Title\"},{\"attributes\":{\"dimension\":1,\"ticker\":{\"id\":\"1017\",\"type\":\"BasicTicker\"}},\"id\":\"1020\",\"type\":\"Grid\"},{\"attributes\":{\"formatter\":{\"id\":\"1046\",\"type\":\"BasicTickFormatter\"},\"ticker\":{\"id\":\"1017\",\"type\":\"BasicTicker\"}},\"id\":\"1016\",\"type\":\"LinearAxis\"},{\"attributes\":{},\"id\":\"1048\",\"type\":\"Selection\"},{\"attributes\":{},\"id\":\"1046\",\"type\":\"BasicTickFormatter\"},{\"attributes\":{\"callback\":null,\"data\":{\"x\":{\"__ndarray__\":\"UHxlkFH9+T+t2bcvgpPjv9KPVHLI5uC/DLhcJeEq8b99ETVXa7HrP1mizB6NaQLABcaPvb/q+z/2rxqTzlvovyR77fQia9Q/xiOiU17rz792SM1Ky2T3P/SaYw0rewDANvi5xHui1L+U+0u3WJTYv8uOQG3rI/I/7FDklSeZ8b+IIyukIBLGv+6yb4lqF+y/DJIrSwqdpT+iqVAXbKbiP8att9oinPG/kngLz8lQ8j8WV2rI1NnsP/tGAAJvFOA/B+0P28/T7D9DklA/GeHlv8LEmdu7db+/5KaXvdLx7b/M2D4LFCXRv4CmHAes+OA/hsiSuhUi5r830prnaGTZv1v3NppR/eW/5TaUs+wL679zV3Aq2Xrlv3qcY7Hl74m/HO/t0IDg8b8Yj+VlVQHOP49DSLqMjvo/+sE7ZdO+5z+yNs0/EY7Iv2BBd9t0Z+y/UAqTgrjo57/5D5ZGSxT7P/PeSlp5A6o/QLa2sURi5L9NL3kp62/IPw52o5BSzQBAY+86s7zCvj8J2mW8IMDjPy0r3JL9NdM/1Hut8EKL1r9pcHkpwUfyv3f49pOhW9a/AXZV1gu9yr95fKb/ncXiPx5Hj77z2Oo/RPaNl5bL7T9CoIcPEEfSP0RbHJATU+w/9gKYJgck6L9E1I56vwv0PwDVeszraeA/lAl8+PMT07+0Y7id4UPfPwqa7fOqWLO/Bb6kaicb8j9cGydwK1H4P8EDcPUOfAFAgHyeigxY9r/oWuATFxv3v6u16ZeVJOC/3Iq2PRh8xD/A575nkwnsP/4m+OtcM9Q/DCq/1HctAMAYJAm32JjTvwtLfa3Efuo/MJevib5zzT9VDFRFZWLoPyT3vqI/dcy/pzE7vnCyyb91135gPuHHP4WLm0NJPto/Dw5gnuJhyT8uLa/BWXe+Pwa0SMEQduW/+b6ZTAEq2D85id3GrS+/P4Vw3bddEvI/HETMg8Qu8z/MeN6aNLPHP6Za1CqrBNi/okBfwHpw5L+fvi8QiBrbP047OgiPzLM/fvrL2LIB1r/sep/EU1KmP9j8hwIM1+O/NdG8RkdW5j8=\",\"dtype\":\"float64\",\"shape\":[100]},\"y\":{\"__ndarray__\":\"+T+3IMGd3L8qbx1klZfzP3LabJvO0tk/YCgdY5j+4j9SX5dIwoTxv21/QNVSrsU/QJxJcaOy5z9gGd4ft4Tuv8oIOFi5CdG/aPvXltqyoD/ffgDeSfj1vyVUdkySK9Q/3EaRfr8T6z8ecwiTJ4Hrv2/ThmZYb9Y/xZHl4xz/9L9seZnV5c+jv3u00xw02vm/bHDgsVPx8T/UWXApbSvaP9Z3p/EvNZm/M0VuvR/O6L9a4/HlTWH0P3JBD68/ef8/LMIFMUu6/b8klTTvU8fzP2JZIYTbCvo/efucz/uh1T9MSSCtMzDzv6wzAFyGoOs/INZNfmUox7/7DjhaUVPjv7DkjXBRrvO/AxGOzwCe4T8SXyWBrF7pP7bSgLf28+O/tabZtI+o4D/dP77qOE/yvytgenfYqOk/Ee2WP6vXpz+z0mGuhOHHv4YCBHsEDLq/wjGJV+rN6z8LQXhFXwPoP9i/jkNh8eA/s3nHeDGgwT/hqVLfFeyzP4HROGfFyeM/vdYVuGHCzT/OS0oMdtflP+7eDAb02NO/VT+/OIx6A8AxQ7SLBp/wPy8tZi/vfgFAkqKvplA/3D9r03n7xaO5v6lNX3gFd8G/rtTx0lV6vr9iOCqdxdORP2R6F+nJ8/G/Lro2rQmM4L+gwj/OpOfvv7lit6Km2M8/sCgFLCv80r9iB0bWirHfPzwLzVKsXMa/lMLSzw6Q7z+AWGkxFFXLP6E/WpSNhgFAhqwTjX5X/r+eU2mgirPkv9PsrAn72Ow/3vQC1AI6BEAg03evQ9PPv73RGUPIW6Y/Y4Mbd933zL/bcSn5pU31PzDXYIVAY9K/obco0yHD5T+CnB4goXfUv/pRwJFmXPS/9gxIdSoR1D8GjrEJFxrgP58RfZ8NsfQ/UR9nnkFGvL/q8C0WbsHjv/USLo8jAuI/XS8MGXnQzj9Tv9enavbRPxpGhJ+Dt7K/A5ImLb+Q8j93aTzHxKXXP53b5Wh7ef4/BhuFY+PG8T+o8hWZ7xblP9tAE8n8Cfq/6NZTFTNG4z/RUPBT5+XaPwx9KuxQ8+k/p1X16Qi28D8=\",\"dtype\":\"float64\",\"shape\":[100]}},\"selected\":{\"id\":\"1048\",\"type\":\"Selection\"},\"selection_policy\":{\"id\":\"1047\",\"type\":\"UnionRenderers\"}},\"id\":\"1034\",\"type\":\"ColumnDataSource\"},{\"attributes\":{},\"id\":\"1021\",\"type\":\"PanTool\"},{\"attributes\":{},\"id\":\"1022\",\"type\":\"WheelZoomTool\"},{\"attributes\":{\"fill_alpha\":{\"value\":0.1},\"fill_color\":{\"value\":\"#1f77b4\"},\"line_alpha\":{\"value\":0.1},\"line_color\":{\"value\":\"#1f77b4\"},\"x\":{\"field\":\"x\"},\"y\":{\"field\":\"y\"}},\"id\":\"1036\",\"type\":\"Circle\"},{\"attributes\":{},\"id\":\"1007\",\"type\":\"LinearScale\"},{\"attributes\":{\"overlay\":{\"id\":\"1049\",\"type\":\"BoxAnnotation\"}},\"id\":\"1023\",\"type\":\"BoxZoomTool\"},{\"attributes\":{},\"id\":\"1044\",\"type\":\"BasicTickFormatter\"},{\"attributes\":{},\"id\":\"1024\",\"type\":\"SaveTool\"},{\"attributes\":{\"callback\":null},\"id\":\"1003\",\"type\":\"DataRange1d\"},{\"attributes\":{},\"id\":\"1025\",\"type\":\"ResetTool\"},{\"attributes\":{\"callback\":null},\"id\":\"1005\",\"type\":\"DataRange1d\"},{\"attributes\":{\"fill_color\":{\"value\":\"#1f77b4\"},\"line_color\":{\"value\":\"#1f77b4\"},\"x\":{\"field\":\"x\"},\"y\":{\"field\":\"y\"}},\"id\":\"1035\",\"type\":\"Circle\"}],\"root_ids\":[\"1002\"]},\"title\":\"Bokeh Application\",\"version\":\"1.4.0\"}};\n",
       "  var render_items = [{\"docid\":\"6256985e-dd79-44bd-bcd7-b237a090c846\",\"roots\":{\"1002\":\"723455a8-4865-4b80-90c4-3e6a27828362\"}}];\n",
       "  root.Bokeh.embed.embed_items_notebook(docs_json, render_items);\n",
       "\n",
       "  }\n",
       "  if (root.Bokeh !== undefined) {\n",
       "    embed_document(root);\n",
       "  } else {\n",
       "    var attempts = 0;\n",
       "    var timer = setInterval(function(root) {\n",
       "      if (root.Bokeh !== undefined) {\n",
       "        clearInterval(timer);\n",
       "        embed_document(root);\n",
       "      } else {\n",
       "        attempts++;\n",
       "        if (attempts > 100) {\n",
       "          clearInterval(timer);\n",
       "          console.log(\"Bokeh: ERROR: Unable to run BokehJS code because BokehJS library is missing\");\n",
       "        }\n",
       "      }\n",
       "    }, 10, root)\n",
       "  }\n",
       "})(window);"
      ],
      "application/vnd.bokehjs_exec.v0+json": ""
     },
     "metadata": {
      "application/vnd.bokehjs_exec.v0+json": {
       "id": "1002"
      }
     },
     "output_type": "display_data"
    }
   ],
   "source": [
    "show(p)"
   ]
  },
  {
   "cell_type": "markdown",
   "metadata": {},
   "source": [
    "__Note:__ this plot is interactive. You can zoom in and out and move the plots."
   ]
  },
  {
   "cell_type": "markdown",
   "metadata": {},
   "source": [
    "There are are a number of parameters you can pass in to adjust the way the plot looks, including:\n",
    "- `size`\n",
    "- `fill_color`\n",
    "- `fill_alpha`\n",
    "- `line_color`\n",
    "- `line_width`\n",
    "- `radius`\n",
    "\n"
   ]
  },
  {
   "cell_type": "code",
   "execution_count": 7,
   "metadata": {},
   "outputs": [
    {
     "data": {
      "text/html": [
       "\n",
       "\n",
       "\n",
       "\n",
       "\n",
       "\n",
       "  <div class=\"bk-root\" id=\"36a98f17-46e5-47dd-a940-61c382d8423a\" data-root-id=\"1104\"></div>\n"
      ]
     },
     "metadata": {},
     "output_type": "display_data"
    },
    {
     "data": {
      "application/javascript": [
       "(function(root) {\n",
       "  function embed_document(root) {\n",
       "    \n",
       "  var docs_json = {\"0aaa02d2-c7ad-4994-adae-dae02c113f30\":{\"roots\":{\"references\":[{\"attributes\":{\"below\":[{\"id\":\"1113\",\"type\":\"LinearAxis\"}],\"center\":[{\"id\":\"1117\",\"type\":\"Grid\"},{\"id\":\"1122\",\"type\":\"Grid\"}],\"left\":[{\"id\":\"1118\",\"type\":\"LinearAxis\"}],\"plot_height\":400,\"renderers\":[{\"id\":\"1139\",\"type\":\"GlyphRenderer\"}],\"title\":{\"id\":\"1150\",\"type\":\"Title\"},\"toolbar\":{\"id\":\"1129\",\"type\":\"Toolbar\"},\"x_range\":{\"id\":\"1105\",\"type\":\"DataRange1d\"},\"x_scale\":{\"id\":\"1109\",\"type\":\"LinearScale\"},\"y_range\":{\"id\":\"1107\",\"type\":\"DataRange1d\"},\"y_scale\":{\"id\":\"1111\",\"type\":\"LinearScale\"}},\"id\":\"1104\",\"subtype\":\"Figure\",\"type\":\"Plot\"},{\"attributes\":{},\"id\":\"1124\",\"type\":\"WheelZoomTool\"},{\"attributes\":{\"fill_alpha\":{\"value\":0.5},\"fill_color\":{\"value\":\"orange\"},\"line_color\":{\"value\":\"chocolate\"},\"line_width\":{\"value\":2},\"size\":{\"units\":\"screen\",\"value\":15},\"x\":{\"field\":\"x\"},\"y\":{\"field\":\"y\"}},\"id\":\"1137\",\"type\":\"Circle\"},{\"attributes\":{\"overlay\":{\"id\":\"1158\",\"type\":\"BoxAnnotation\"}},\"id\":\"1125\",\"type\":\"BoxZoomTool\"},{\"attributes\":{},\"id\":\"1126\",\"type\":\"SaveTool\"},{\"attributes\":{\"ticker\":{\"id\":\"1114\",\"type\":\"BasicTicker\"}},\"id\":\"1117\",\"type\":\"Grid\"},{\"attributes\":{},\"id\":\"1127\",\"type\":\"ResetTool\"},{\"attributes\":{\"text\":\"\"},\"id\":\"1150\",\"type\":\"Title\"},{\"attributes\":{},\"id\":\"1128\",\"type\":\"HelpTool\"},{\"attributes\":{\"active_drag\":\"auto\",\"active_inspect\":\"auto\",\"active_multi\":null,\"active_scroll\":\"auto\",\"active_tap\":\"auto\",\"tools\":[{\"id\":\"1123\",\"type\":\"PanTool\"},{\"id\":\"1124\",\"type\":\"WheelZoomTool\"},{\"id\":\"1125\",\"type\":\"BoxZoomTool\"},{\"id\":\"1126\",\"type\":\"SaveTool\"},{\"id\":\"1127\",\"type\":\"ResetTool\"},{\"id\":\"1128\",\"type\":\"HelpTool\"}]},\"id\":\"1129\",\"type\":\"Toolbar\"},{\"attributes\":{},\"id\":\"1114\",\"type\":\"BasicTicker\"},{\"attributes\":{\"formatter\":{\"id\":\"1155\",\"type\":\"BasicTickFormatter\"},\"ticker\":{\"id\":\"1119\",\"type\":\"BasicTicker\"}},\"id\":\"1118\",\"type\":\"LinearAxis\"},{\"attributes\":{},\"id\":\"1123\",\"type\":\"PanTool\"},{\"attributes\":{\"source\":{\"id\":\"1136\",\"type\":\"ColumnDataSource\"}},\"id\":\"1140\",\"type\":\"CDSView\"},{\"attributes\":{\"data_source\":{\"id\":\"1136\",\"type\":\"ColumnDataSource\"},\"glyph\":{\"id\":\"1137\",\"type\":\"Circle\"},\"hover_glyph\":null,\"muted_glyph\":null,\"nonselection_glyph\":{\"id\":\"1138\",\"type\":\"Circle\"},\"selection_glyph\":null,\"view\":{\"id\":\"1140\",\"type\":\"CDSView\"}},\"id\":\"1139\",\"type\":\"GlyphRenderer\"},{\"attributes\":{\"dimension\":1,\"ticker\":{\"id\":\"1119\",\"type\":\"BasicTicker\"}},\"id\":\"1122\",\"type\":\"Grid\"},{\"attributes\":{},\"id\":\"1119\",\"type\":\"BasicTicker\"},{\"attributes\":{\"fill_alpha\":{\"value\":0.1},\"fill_color\":{\"value\":\"#1f77b4\"},\"line_alpha\":{\"value\":0.1},\"line_color\":{\"value\":\"#1f77b4\"},\"line_width\":{\"value\":2},\"size\":{\"units\":\"screen\",\"value\":15},\"x\":{\"field\":\"x\"},\"y\":{\"field\":\"y\"}},\"id\":\"1138\",\"type\":\"Circle\"},{\"attributes\":{},\"id\":\"1155\",\"type\":\"BasicTickFormatter\"},{\"attributes\":{},\"id\":\"1156\",\"type\":\"UnionRenderers\"},{\"attributes\":{},\"id\":\"1109\",\"type\":\"LinearScale\"},{\"attributes\":{},\"id\":\"1153\",\"type\":\"BasicTickFormatter\"},{\"attributes\":{\"callback\":null},\"id\":\"1107\",\"type\":\"DataRange1d\"},{\"attributes\":{},\"id\":\"1157\",\"type\":\"Selection\"},{\"attributes\":{\"bottom_units\":\"screen\",\"fill_alpha\":{\"value\":0.5},\"fill_color\":{\"value\":\"lightgrey\"},\"left_units\":\"screen\",\"level\":\"overlay\",\"line_alpha\":{\"value\":1.0},\"line_color\":{\"value\":\"black\"},\"line_dash\":[4,4],\"line_width\":{\"value\":2},\"render_mode\":\"css\",\"right_units\":\"screen\",\"top_units\":\"screen\"},\"id\":\"1158\",\"type\":\"BoxAnnotation\"},{\"attributes\":{\"callback\":null,\"data\":{\"x\":{\"__ndarray__\":\"UHxlkFH9+T+t2bcvgpPjv9KPVHLI5uC/DLhcJeEq8b99ETVXa7HrP1mizB6NaQLABcaPvb/q+z/2rxqTzlvovyR77fQia9Q/xiOiU17rz792SM1Ky2T3P/SaYw0rewDANvi5xHui1L+U+0u3WJTYv8uOQG3rI/I/7FDklSeZ8b+IIyukIBLGv+6yb4lqF+y/DJIrSwqdpT+iqVAXbKbiP8att9oinPG/kngLz8lQ8j8WV2rI1NnsP/tGAAJvFOA/B+0P28/T7D9DklA/GeHlv8LEmdu7db+/5KaXvdLx7b/M2D4LFCXRv4CmHAes+OA/hsiSuhUi5r830prnaGTZv1v3NppR/eW/5TaUs+wL679zV3Aq2Xrlv3qcY7Hl74m/HO/t0IDg8b8Yj+VlVQHOP49DSLqMjvo/+sE7ZdO+5z+yNs0/EY7Iv2BBd9t0Z+y/UAqTgrjo57/5D5ZGSxT7P/PeSlp5A6o/QLa2sURi5L9NL3kp62/IPw52o5BSzQBAY+86s7zCvj8J2mW8IMDjPy0r3JL9NdM/1Hut8EKL1r9pcHkpwUfyv3f49pOhW9a/AXZV1gu9yr95fKb/ncXiPx5Hj77z2Oo/RPaNl5bL7T9CoIcPEEfSP0RbHJATU+w/9gKYJgck6L9E1I56vwv0PwDVeszraeA/lAl8+PMT07+0Y7id4UPfPwqa7fOqWLO/Bb6kaicb8j9cGydwK1H4P8EDcPUOfAFAgHyeigxY9r/oWuATFxv3v6u16ZeVJOC/3Iq2PRh8xD/A575nkwnsP/4m+OtcM9Q/DCq/1HctAMAYJAm32JjTvwtLfa3Efuo/MJevib5zzT9VDFRFZWLoPyT3vqI/dcy/pzE7vnCyyb91135gPuHHP4WLm0NJPto/Dw5gnuJhyT8uLa/BWXe+Pwa0SMEQduW/+b6ZTAEq2D85id3GrS+/P4Vw3bddEvI/HETMg8Qu8z/MeN6aNLPHP6Za1CqrBNi/okBfwHpw5L+fvi8QiBrbP047OgiPzLM/fvrL2LIB1r/sep/EU1KmP9j8hwIM1+O/NdG8RkdW5j8=\",\"dtype\":\"float64\",\"shape\":[100]},\"y\":{\"__ndarray__\":\"+T+3IMGd3L8qbx1klZfzP3LabJvO0tk/YCgdY5j+4j9SX5dIwoTxv21/QNVSrsU/QJxJcaOy5z9gGd4ft4Tuv8oIOFi5CdG/aPvXltqyoD/ffgDeSfj1vyVUdkySK9Q/3EaRfr8T6z8ecwiTJ4Hrv2/ThmZYb9Y/xZHl4xz/9L9seZnV5c+jv3u00xw02vm/bHDgsVPx8T/UWXApbSvaP9Z3p/EvNZm/M0VuvR/O6L9a4/HlTWH0P3JBD68/ef8/LMIFMUu6/b8klTTvU8fzP2JZIYTbCvo/efucz/uh1T9MSSCtMzDzv6wzAFyGoOs/INZNfmUox7/7DjhaUVPjv7DkjXBRrvO/AxGOzwCe4T8SXyWBrF7pP7bSgLf28+O/tabZtI+o4D/dP77qOE/yvytgenfYqOk/Ee2WP6vXpz+z0mGuhOHHv4YCBHsEDLq/wjGJV+rN6z8LQXhFXwPoP9i/jkNh8eA/s3nHeDGgwT/hqVLfFeyzP4HROGfFyeM/vdYVuGHCzT/OS0oMdtflP+7eDAb02NO/VT+/OIx6A8AxQ7SLBp/wPy8tZi/vfgFAkqKvplA/3D9r03n7xaO5v6lNX3gFd8G/rtTx0lV6vr9iOCqdxdORP2R6F+nJ8/G/Lro2rQmM4L+gwj/OpOfvv7lit6Km2M8/sCgFLCv80r9iB0bWirHfPzwLzVKsXMa/lMLSzw6Q7z+AWGkxFFXLP6E/WpSNhgFAhqwTjX5X/r+eU2mgirPkv9PsrAn72Ow/3vQC1AI6BEAg03evQ9PPv73RGUPIW6Y/Y4Mbd933zL/bcSn5pU31PzDXYIVAY9K/obco0yHD5T+CnB4goXfUv/pRwJFmXPS/9gxIdSoR1D8GjrEJFxrgP58RfZ8NsfQ/UR9nnkFGvL/q8C0WbsHjv/USLo8jAuI/XS8MGXnQzj9Tv9enavbRPxpGhJ+Dt7K/A5ImLb+Q8j93aTzHxKXXP53b5Wh7ef4/BhuFY+PG8T+o8hWZ7xblP9tAE8n8Cfq/6NZTFTNG4z/RUPBT5+XaPwx9KuxQ8+k/p1X16Qi28D8=\",\"dtype\":\"float64\",\"shape\":[100]}},\"selected\":{\"id\":\"1157\",\"type\":\"Selection\"},\"selection_policy\":{\"id\":\"1156\",\"type\":\"UnionRenderers\"}},\"id\":\"1136\",\"type\":\"ColumnDataSource\"},{\"attributes\":{},\"id\":\"1111\",\"type\":\"LinearScale\"},{\"attributes\":{\"callback\":null},\"id\":\"1105\",\"type\":\"DataRange1d\"},{\"attributes\":{\"formatter\":{\"id\":\"1153\",\"type\":\"BasicTickFormatter\"},\"ticker\":{\"id\":\"1114\",\"type\":\"BasicTicker\"}},\"id\":\"1113\",\"type\":\"LinearAxis\"}],\"root_ids\":[\"1104\"]},\"title\":\"Bokeh Application\",\"version\":\"1.4.0\"}};\n",
       "  var render_items = [{\"docid\":\"0aaa02d2-c7ad-4994-adae-dae02c113f30\",\"roots\":{\"1104\":\"36a98f17-46e5-47dd-a940-61c382d8423a\"}}];\n",
       "  root.Bokeh.embed.embed_items_notebook(docs_json, render_items);\n",
       "\n",
       "  }\n",
       "  if (root.Bokeh !== undefined) {\n",
       "    embed_document(root);\n",
       "  } else {\n",
       "    var attempts = 0;\n",
       "    var timer = setInterval(function(root) {\n",
       "      if (root.Bokeh !== undefined) {\n",
       "        clearInterval(timer);\n",
       "        embed_document(root);\n",
       "      } else {\n",
       "        attempts++;\n",
       "        if (attempts > 100) {\n",
       "          clearInterval(timer);\n",
       "          console.log(\"Bokeh: ERROR: Unable to run BokehJS code because BokehJS library is missing\");\n",
       "        }\n",
       "      }\n",
       "    }, 10, root)\n",
       "  }\n",
       "})(window);"
      ],
      "application/vnd.bokehjs_exec.v0+json": ""
     },
     "metadata": {
      "application/vnd.bokehjs_exec.v0+json": {
       "id": "1104"
      }
     },
     "output_type": "display_data"
    }
   ],
   "source": [
    "p = figure(plot_width=600, plot_height=400)\n",
    "np.random.seed(1)\n",
    "x = np.random.randn(100)\n",
    "y = np.random.randn(100)\n",
    "p.circle(x,y,fill_color = 'orange',fill_alpha = .5, size = 15,line_color = 'chocolate',line_width = 2)\n",
    "show(p)"
   ]
  },
  {
   "cell_type": "markdown",
   "metadata": {},
   "source": [
    "We used `.circle` to create a scatter plot with circles as the marker. There are multiple other options as well:\n",
    "- `astrisk`\n",
    "- `cross`\n",
    "- `diamond`\n",
    "- `hex`\n",
    "- `square`\n",
    "- `triangle and inverted_triangle`\n",
    "- `x`"
   ]
  },
  {
   "cell_type": "code",
   "execution_count": 8,
   "metadata": {},
   "outputs": [
    {
     "data": {
      "text/html": [
       "\n",
       "\n",
       "\n",
       "\n",
       "\n",
       "\n",
       "  <div class=\"bk-root\" id=\"71e46462-6a8a-4923-ac7a-3ea64c3816f2\" data-root-id=\"1213\"></div>\n"
      ]
     },
     "metadata": {},
     "output_type": "display_data"
    },
    {
     "data": {
      "application/javascript": [
       "(function(root) {\n",
       "  function embed_document(root) {\n",
       "    \n",
       "  var docs_json = {\"de01271d-d0e8-4ef6-b244-ce154fd86fb7\":{\"roots\":{\"references\":[{\"attributes\":{\"below\":[{\"id\":\"1222\",\"type\":\"LinearAxis\"}],\"center\":[{\"id\":\"1226\",\"type\":\"Grid\"},{\"id\":\"1231\",\"type\":\"Grid\"}],\"left\":[{\"id\":\"1227\",\"type\":\"LinearAxis\"}],\"plot_height\":400,\"renderers\":[{\"id\":\"1248\",\"type\":\"GlyphRenderer\"}],\"title\":{\"id\":\"1268\",\"type\":\"Title\"},\"toolbar\":{\"id\":\"1238\",\"type\":\"Toolbar\"},\"x_range\":{\"id\":\"1214\",\"type\":\"DataRange1d\"},\"x_scale\":{\"id\":\"1218\",\"type\":\"LinearScale\"},\"y_range\":{\"id\":\"1216\",\"type\":\"DataRange1d\"},\"y_scale\":{\"id\":\"1220\",\"type\":\"LinearScale\"}},\"id\":\"1213\",\"subtype\":\"Figure\",\"type\":\"Plot\"},{\"attributes\":{},\"id\":\"1232\",\"type\":\"PanTool\"},{\"attributes\":{},\"id\":\"1273\",\"type\":\"BasicTickFormatter\"},{\"attributes\":{\"source\":{\"id\":\"1245\",\"type\":\"ColumnDataSource\"}},\"id\":\"1249\",\"type\":\"CDSView\"},{\"attributes\":{},\"id\":\"1274\",\"type\":\"UnionRenderers\"},{\"attributes\":{},\"id\":\"1228\",\"type\":\"BasicTicker\"},{\"attributes\":{\"dimension\":1,\"ticker\":{\"id\":\"1228\",\"type\":\"BasicTicker\"}},\"id\":\"1231\",\"type\":\"Grid\"},{\"attributes\":{},\"id\":\"1233\",\"type\":\"WheelZoomTool\"},{\"attributes\":{},\"id\":\"1223\",\"type\":\"BasicTicker\"},{\"attributes\":{\"formatter\":{\"id\":\"1271\",\"type\":\"BasicTickFormatter\"},\"ticker\":{\"id\":\"1223\",\"type\":\"BasicTicker\"}},\"id\":\"1222\",\"type\":\"LinearAxis\"},{\"attributes\":{},\"id\":\"1218\",\"type\":\"LinearScale\"},{\"attributes\":{\"data_source\":{\"id\":\"1245\",\"type\":\"ColumnDataSource\"},\"glyph\":{\"id\":\"1246\",\"type\":\"InvertedTriangle\"},\"hover_glyph\":null,\"muted_glyph\":null,\"nonselection_glyph\":{\"id\":\"1247\",\"type\":\"InvertedTriangle\"},\"selection_glyph\":null,\"view\":{\"id\":\"1249\",\"type\":\"CDSView\"}},\"id\":\"1248\",\"type\":\"GlyphRenderer\"},{\"attributes\":{},\"id\":\"1236\",\"type\":\"ResetTool\"},{\"attributes\":{},\"id\":\"1271\",\"type\":\"BasicTickFormatter\"},{\"attributes\":{},\"id\":\"1235\",\"type\":\"SaveTool\"},{\"attributes\":{\"bottom_units\":\"screen\",\"fill_alpha\":{\"value\":0.5},\"fill_color\":{\"value\":\"lightgrey\"},\"left_units\":\"screen\",\"level\":\"overlay\",\"line_alpha\":{\"value\":1.0},\"line_color\":{\"value\":\"black\"},\"line_dash\":[4,4],\"line_width\":{\"value\":2},\"render_mode\":\"css\",\"right_units\":\"screen\",\"top_units\":\"screen\"},\"id\":\"1276\",\"type\":\"BoxAnnotation\"},{\"attributes\":{},\"id\":\"1275\",\"type\":\"Selection\"},{\"attributes\":{\"fill_alpha\":{\"value\":0.5},\"fill_color\":{\"value\":\"turquoise\"},\"line_color\":{\"value\":\"navy\"},\"size\":{\"units\":\"screen\",\"value\":10},\"x\":{\"field\":\"x\"},\"y\":{\"field\":\"y\"}},\"id\":\"1246\",\"type\":\"InvertedTriangle\"},{\"attributes\":{},\"id\":\"1220\",\"type\":\"LinearScale\"},{\"attributes\":{},\"id\":\"1237\",\"type\":\"HelpTool\"},{\"attributes\":{\"callback\":null},\"id\":\"1214\",\"type\":\"DataRange1d\"},{\"attributes\":{\"callback\":null},\"id\":\"1216\",\"type\":\"DataRange1d\"},{\"attributes\":{\"formatter\":{\"id\":\"1273\",\"type\":\"BasicTickFormatter\"},\"ticker\":{\"id\":\"1228\",\"type\":\"BasicTicker\"}},\"id\":\"1227\",\"type\":\"LinearAxis\"},{\"attributes\":{\"ticker\":{\"id\":\"1223\",\"type\":\"BasicTicker\"}},\"id\":\"1226\",\"type\":\"Grid\"},{\"attributes\":{\"text\":\"\"},\"id\":\"1268\",\"type\":\"Title\"},{\"attributes\":{\"active_drag\":\"auto\",\"active_inspect\":\"auto\",\"active_multi\":null,\"active_scroll\":\"auto\",\"active_tap\":\"auto\",\"tools\":[{\"id\":\"1232\",\"type\":\"PanTool\"},{\"id\":\"1233\",\"type\":\"WheelZoomTool\"},{\"id\":\"1234\",\"type\":\"BoxZoomTool\"},{\"id\":\"1235\",\"type\":\"SaveTool\"},{\"id\":\"1236\",\"type\":\"ResetTool\"},{\"id\":\"1237\",\"type\":\"HelpTool\"}]},\"id\":\"1238\",\"type\":\"Toolbar\"},{\"attributes\":{\"overlay\":{\"id\":\"1276\",\"type\":\"BoxAnnotation\"}},\"id\":\"1234\",\"type\":\"BoxZoomTool\"},{\"attributes\":{\"fill_alpha\":{\"value\":0.1},\"fill_color\":{\"value\":\"#1f77b4\"},\"line_alpha\":{\"value\":0.1},\"line_color\":{\"value\":\"#1f77b4\"},\"size\":{\"units\":\"screen\",\"value\":10},\"x\":{\"field\":\"x\"},\"y\":{\"field\":\"y\"}},\"id\":\"1247\",\"type\":\"InvertedTriangle\"},{\"attributes\":{\"callback\":null,\"data\":{\"x\":{\"__ndarray__\":\"gW/aAP2n2b9G394HQV7qP7bikvVn/uG/wEx9Oy5H/z9etfiMrE/1v2CqlcTHK/y/c2u4s1pp+r/XA6hsbn/sv385VIzl5/G/wtd8ZBlM/z9y/5kmXuXUv/ccyJuZe/W/N9CHPoPU8T8/6vHZzcTiv2EUI8QmyvO/kCjaW98G7D+z6T48lfLjP7oJHo5U1tu/CZHNqUiF9j+sGFyLZobAP3L15YoG3/k/N6jRC3QW4D8HkxwU3vD4P13OPavQAbw/JhFosxKE87/+hxyXTpgDQF2TT2P7duG/aTwo44Rzyb8Ouxkgqmnmv+bPPk3UCMq/BauX0MoPzz/pCc5AktXJPydTpwQUJ+U/i+0MFq6s/D9IhSgkxNa+v58w7M7cuvO/2Tptacbq8r8li1pr3E3lv40tDYuByfq/BRVG8qRm6j+pBY4ku+Lfv7Tp1okt59O/ouyHO3T9Xr8bAomojlj2v+1eIVTnj+u/Jg0ioDyX5T+pv0CTEsvjP55SN83tXNy/xvVGdfP3/D97Rt7pQeT0v8LZSTxFFNa/CiOxHSiMzb/QntTyPFgGwLCemDYeAP8/pll71ftx1z9jrxBbo7bwv7r4O5/NaABAsgIoPL694j8b+Qo1W33bP2/Ln+eHbOO/X8PSlWkxuz9MsmXDL2n4v5+uYJDacOk/LkFzI8z217/+GiXGfSjBPxBUEuGdO/M/eHLsI1A50j+64aFBRMzQPy7+5CMqstE/Uhu6AvZ257/qsij4jMDqP+04rlKZsfg/Yn3EziJI6D+oM0JKLFHsPz9xJLGwEuy/MwfEtenE67+EyJ4E1A33v8ao+f5Ot/M/aDerontE0L9GWgfDwmX2PyIBMKZrBem/aB49rSUA3L+UU7RMx224PwtEudqEfO0/6HNeUKYarz8DLBHPIgbLP9B/PUSa7JA/GEXrUxauxj/ieFyqD93xv4BSCnSjt7Q/zkygCdLhx7/5pQguGRitvzTily9xgt8/GIdXhh3I5b+nzfNtUaK1vzC1ZSL6B9O/Xwb7dxO12j9tHx9X1xzpP9JZ9f/Xku6/ZRJ/O8e/4j8=\",\"dtype\":\"float64\",\"shape\":[100]},\"y\":{\"__ndarray__\":\"kLLHZ7mGAECmwjvY24n3v9v5jabEkOq/7HcdE7Et7L+yqJqwvNzRvz1BaJow9/k/rDPN4aVYiz89+g8Q7jrmv+n6cHbQ5eM/FySeRZkx479/Af0Hf/nxP3RDmcR+idM/g02MvnA49j/LrvdmuynlvxvlgwMyPwhALrOpS/9i6j/lDn8TUvLkP9bb0EhfNaq/QiIYcxc4578bXlzRwsTrv1S+THy0Z8G/jAXZ7DuD6b8MwN7eWxfSP6YAo+Fjb+q/Z+AG1Ojf4z91w0aLjJjuP++D79Q+lua/hGt2/D0V8z8ChzOg4XTOvyNsgyYPfPI/krb03OoK3D+7RM6KDvXxP4x36A6W5++/flCgyNlWu7/jIGvjDTn3P3V9EDb1xuO/bVz9JzBMAMCaE8Bk2BT/v17exMEwDQTAfiA4xs7pAMADbunJS1javxUq7dzZdPQ/IO81CXxN3L/RF8USrLTUP5RLF/1mKLy/wQ2BCByCgT+l3/YhiofFv91UNKGKS8a/aGXfbbaD3T/0DKg009Dyv0RBdx17KfA/gAvhcslw7T9jD/SRo/fIv5mzL27Ixek/6DTA3Wlx5r9ifcZW7jDhv5CAOi90AMQ/QCPgnClZyL+n8bK5H7jcv/Ag27+xhOW/BnC4K//W4b9O+jecqw3uP8VZjkjaF/+/4GW/hUSP1j93Jc3nkEPOv8a+gok/Suc/vKKzqHt74D8gf1RuoUIGwDD49s5steI/evOiwejA1D/hPjwhNmOWP2/sWXbA/t2/3OPSaxRO6z/H5F98Em/av6quvd4AW/0/b61YomwP4j/Y/BCaRRoBQPpkVTEYI+m/myDwe0UY/L9iHxdvjt/mP9jYSAdaSes/t/zd+Lcaoj+Ddpyq5Z74vx0QmZBQqty/kdgymYnG4z8VrbD/FpPHv9mnbII0sb2/RJcYgnB1xr85eOX8oOLtv+w7lKSADuG/TRPRxivT9r+sI+pekEn8P0bhB1qCbN6/RyfJSyqR3j+0n4cTpVnwvyW5mnzGbOk/YmQxpXf4/b+U+QfWrXXtP8XmXKG+G6K/Jeb/5oTiAEA=\",\"dtype\":\"float64\",\"shape\":[100]}},\"selected\":{\"id\":\"1275\",\"type\":\"Selection\"},\"selection_policy\":{\"id\":\"1274\",\"type\":\"UnionRenderers\"}},\"id\":\"1245\",\"type\":\"ColumnDataSource\"}],\"root_ids\":[\"1213\"]},\"title\":\"Bokeh Application\",\"version\":\"1.4.0\"}};\n",
       "  var render_items = [{\"docid\":\"de01271d-d0e8-4ef6-b244-ce154fd86fb7\",\"roots\":{\"1213\":\"71e46462-6a8a-4923-ac7a-3ea64c3816f2\"}}];\n",
       "  root.Bokeh.embed.embed_items_notebook(docs_json, render_items);\n",
       "\n",
       "  }\n",
       "  if (root.Bokeh !== undefined) {\n",
       "    embed_document(root);\n",
       "  } else {\n",
       "    var attempts = 0;\n",
       "    var timer = setInterval(function(root) {\n",
       "      if (root.Bokeh !== undefined) {\n",
       "        clearInterval(timer);\n",
       "        embed_document(root);\n",
       "      } else {\n",
       "        attempts++;\n",
       "        if (attempts > 100) {\n",
       "          clearInterval(timer);\n",
       "          console.log(\"Bokeh: ERROR: Unable to run BokehJS code because BokehJS library is missing\");\n",
       "        }\n",
       "      }\n",
       "    }, 10, root)\n",
       "  }\n",
       "})(window);"
      ],
      "application/vnd.bokehjs_exec.v0+json": ""
     },
     "metadata": {
      "application/vnd.bokehjs_exec.v0+json": {
       "id": "1213"
      }
     },
     "output_type": "display_data"
    }
   ],
   "source": [
    "p = figure(plot_width=600, plot_height=400)\n",
    "x = np.random.randn(100)\n",
    "y = np.random.randn(100)\n",
    "p.inverted_triangle(x,y,fill_color = 'turquoise',fill_alpha = .5, size = 10,line_color = 'navy')\n",
    "show(p)"
   ]
  },
  {
   "cell_type": "markdown",
   "metadata": {},
   "source": [
    "## Line plots\n",
    "We can create a line plot using `.line()` and pass in the data as well as various styling parameters."
   ]
  },
  {
   "cell_type": "code",
   "execution_count": 9,
   "metadata": {},
   "outputs": [
    {
     "data": {
      "text/html": [
       "\n",
       "\n",
       "\n",
       "\n",
       "\n",
       "\n",
       "  <div class=\"bk-root\" id=\"3fab6e1d-37be-46e3-8396-f99c732338ce\" data-root-id=\"1331\"></div>\n"
      ]
     },
     "metadata": {},
     "output_type": "display_data"
    },
    {
     "data": {
      "application/javascript": [
       "(function(root) {\n",
       "  function embed_document(root) {\n",
       "    \n",
       "  var docs_json = {\"38364cd0-5fe3-49be-91fe-f42b441e7b24\":{\"roots\":{\"references\":[{\"attributes\":{\"below\":[{\"id\":\"1342\",\"type\":\"LinearAxis\"}],\"center\":[{\"id\":\"1346\",\"type\":\"Grid\"},{\"id\":\"1351\",\"type\":\"Grid\"}],\"left\":[{\"id\":\"1347\",\"type\":\"LinearAxis\"}],\"plot_height\":400,\"renderers\":[{\"id\":\"1368\",\"type\":\"GlyphRenderer\"}],\"title\":{\"id\":\"1332\",\"type\":\"Title\"},\"toolbar\":{\"id\":\"1358\",\"type\":\"Toolbar\"},\"x_range\":{\"id\":\"1334\",\"type\":\"DataRange1d\"},\"x_scale\":{\"id\":\"1338\",\"type\":\"LinearScale\"},\"y_range\":{\"id\":\"1336\",\"type\":\"DataRange1d\"},\"y_scale\":{\"id\":\"1340\",\"type\":\"LinearScale\"}},\"id\":\"1331\",\"subtype\":\"Figure\",\"type\":\"Plot\"},{\"attributes\":{\"text\":\"Plot Title\"},\"id\":\"1332\",\"type\":\"Title\"},{\"attributes\":{\"line_color\":\"seagreen\",\"line_width\":2,\"x\":{\"field\":\"x\"},\"y\":{\"field\":\"y\"}},\"id\":\"1366\",\"type\":\"Line\"},{\"attributes\":{\"line_alpha\":0.1,\"line_color\":\"#1f77b4\",\"line_width\":2,\"x\":{\"field\":\"x\"},\"y\":{\"field\":\"y\"}},\"id\":\"1367\",\"type\":\"Line\"},{\"attributes\":{},\"id\":\"1356\",\"type\":\"ResetTool\"},{\"attributes\":{},\"id\":\"1357\",\"type\":\"HelpTool\"},{\"attributes\":{\"active_drag\":\"auto\",\"active_inspect\":\"auto\",\"active_multi\":null,\"active_scroll\":\"auto\",\"active_tap\":\"auto\",\"tools\":[{\"id\":\"1352\",\"type\":\"PanTool\"},{\"id\":\"1353\",\"type\":\"WheelZoomTool\"},{\"id\":\"1354\",\"type\":\"BoxZoomTool\"},{\"id\":\"1355\",\"type\":\"SaveTool\"},{\"id\":\"1356\",\"type\":\"ResetTool\"},{\"id\":\"1357\",\"type\":\"HelpTool\"}]},\"id\":\"1358\",\"type\":\"Toolbar\"},{\"attributes\":{},\"id\":\"1352\",\"type\":\"PanTool\"},{\"attributes\":{},\"id\":\"1399\",\"type\":\"BasicTickFormatter\"},{\"attributes\":{\"source\":{\"id\":\"1365\",\"type\":\"ColumnDataSource\"}},\"id\":\"1369\",\"type\":\"CDSView\"},{\"attributes\":{\"callback\":null,\"data\":{\"x\":[0,1,2,3,4,5,6,7,8,9,10,11,12,13,14,15,16,17,18,19,20,21,22,23,24,25,26,27,28,29,30,31,32,33,34,35,36,37,38,39,40,41,42,43,44,45,46,47,48,49,50,51,52,53,54,55,56,57,58,59,60,61,62,63,64,65,66,67,68,69,70,71,72,73,74,75,76,77,78,79,80,81,82,83,84,85,86,87,88,89,90,91,92,93,94,95,96,97,98,99],\"y\":{\"__ndarray__\":\"fk09Gyms2r/kp+9ICUbev0DeoyOv3wTAnp65WaMB77+2j/2XXRkGwDZ29aJD1QzASMix8VzPCMB0MrFF22IRwLMsRBkznhXAsuCr/QVBGcAblTGfVQwXwEzPzRY6wgvASWvaeydtC8CIuZUwVS8SwJyZD0lWBxDAQAxH+c1pEsDKtCrrZH0SwC5NQcxilAvAgAj0RwPIEMBu9Zxdxb4QwABEzBT0QRTAi2FDXCTiFMDehLH0adsTwNZCZ3PszxfA8U6kmOAqGcC0tKXSuhwawEO1KEKwqRzAJw/J2Oa0IMAPoJihkIwjwC2ts40n2yPAUnQtY+lkJMCTUPxb59wfwAwyE4kNzSTAJAk8P1aTJMCBIjhXq9UjwHi1OmmJHSHA/u61+5UcIMCMgAfD0swhwIAZfXvRzCHAV4n8PiK3IMAGxHZkplchwKQrDq/ImR/A5bZduFqJI8DTRDbi/BIgwDGnasgSRxrArYZGlc6eG8DkmgpEyywZwGmhHRCs+xjAEL5257RMHMAhY1gy5PIbwGJPHUiE8hfAnDkLZsF4GcChJkTicPkawMGzkPKyRRvAGj5OfMyJGcAYoWYKvWwUwBlnk2mm9hbA2XZEYw3uFMAhSZjfvxAUwEKmcfX3fxvAS7o3QlktHcA/IkR82rQdwEKmGZZf3R3AuYYGvouPHMCQZAIYa1wiwD8WNEq8RCLAPe5HlbSfI8CZyTi8soAmwPMtUCdCdCXAJ/LGlsv7I8BpfHdoQkolwCsrdPrrmiPA+UxMG0JeJMD+pVxCNzwkwAkHpSvFbibAz7d0SINDI8A5yGWkJpUowAKuNoX5wyjAjbWxzRJgJ8Au7KNUNXErwAv/MnI30ivA4qinpsD5K8BVIb0tgVMqwPlPLGpr1CfAxiPcYTajKMD8FU8DFmgrwL6vP7sPrCjASjKXBoE8JsD5/KD9DCknwGawg1VldSbAuqXtXOGxJcDKmSKC8o8kwGKQZI9kJyTAb+EBEipXIcC6FgTm/9AkwPGscgUZvCLAeHCYzEv5IcD+kjQneGgiwM7ZVgifDyDAmSQ/you/JMA=\",\"dtype\":\"float64\",\"shape\":[100]}},\"selected\":{\"id\":\"1403\",\"type\":\"Selection\"},\"selection_policy\":{\"id\":\"1402\",\"type\":\"UnionRenderers\"}},\"id\":\"1365\",\"type\":\"ColumnDataSource\"},{\"attributes\":{},\"id\":\"1343\",\"type\":\"BasicTicker\"},{\"attributes\":{},\"id\":\"1403\",\"type\":\"Selection\"},{\"attributes\":{\"ticker\":{\"id\":\"1343\",\"type\":\"BasicTicker\"}},\"id\":\"1346\",\"type\":\"Grid\"},{\"attributes\":{\"formatter\":{\"id\":\"1399\",\"type\":\"BasicTickFormatter\"},\"ticker\":{\"id\":\"1343\",\"type\":\"BasicTicker\"}},\"id\":\"1342\",\"type\":\"LinearAxis\"},{\"attributes\":{},\"id\":\"1402\",\"type\":\"UnionRenderers\"},{\"attributes\":{\"overlay\":{\"id\":\"1404\",\"type\":\"BoxAnnotation\"}},\"id\":\"1354\",\"type\":\"BoxZoomTool\"},{\"attributes\":{\"bottom_units\":\"screen\",\"fill_alpha\":{\"value\":0.5},\"fill_color\":{\"value\":\"lightgrey\"},\"left_units\":\"screen\",\"level\":\"overlay\",\"line_alpha\":{\"value\":1.0},\"line_color\":{\"value\":\"black\"},\"line_dash\":[4,4],\"line_width\":{\"value\":2},\"render_mode\":\"css\",\"right_units\":\"screen\",\"top_units\":\"screen\"},\"id\":\"1404\",\"type\":\"BoxAnnotation\"},{\"attributes\":{\"formatter\":{\"id\":\"1401\",\"type\":\"BasicTickFormatter\"},\"ticker\":{\"id\":\"1348\",\"type\":\"BasicTicker\"}},\"id\":\"1347\",\"type\":\"LinearAxis\"},{\"attributes\":{},\"id\":\"1353\",\"type\":\"WheelZoomTool\"},{\"attributes\":{},\"id\":\"1340\",\"type\":\"LinearScale\"},{\"attributes\":{},\"id\":\"1355\",\"type\":\"SaveTool\"},{\"attributes\":{},\"id\":\"1348\",\"type\":\"BasicTicker\"},{\"attributes\":{\"dimension\":1,\"ticker\":{\"id\":\"1348\",\"type\":\"BasicTicker\"}},\"id\":\"1351\",\"type\":\"Grid\"},{\"attributes\":{\"data_source\":{\"id\":\"1365\",\"type\":\"ColumnDataSource\"},\"glyph\":{\"id\":\"1366\",\"type\":\"Line\"},\"hover_glyph\":null,\"muted_glyph\":null,\"nonselection_glyph\":{\"id\":\"1367\",\"type\":\"Line\"},\"selection_glyph\":null,\"view\":{\"id\":\"1369\",\"type\":\"CDSView\"}},\"id\":\"1368\",\"type\":\"GlyphRenderer\"},{\"attributes\":{\"callback\":null},\"id\":\"1336\",\"type\":\"DataRange1d\"},{\"attributes\":{},\"id\":\"1401\",\"type\":\"BasicTickFormatter\"},{\"attributes\":{},\"id\":\"1338\",\"type\":\"LinearScale\"},{\"attributes\":{\"callback\":null},\"id\":\"1334\",\"type\":\"DataRange1d\"}],\"root_ids\":[\"1331\"]},\"title\":\"Bokeh Application\",\"version\":\"1.4.0\"}};\n",
       "  var render_items = [{\"docid\":\"38364cd0-5fe3-49be-91fe-f42b441e7b24\",\"roots\":{\"1331\":\"3fab6e1d-37be-46e3-8396-f99c732338ce\"}}];\n",
       "  root.Bokeh.embed.embed_items_notebook(docs_json, render_items);\n",
       "\n",
       "  }\n",
       "  if (root.Bokeh !== undefined) {\n",
       "    embed_document(root);\n",
       "  } else {\n",
       "    var attempts = 0;\n",
       "    var timer = setInterval(function(root) {\n",
       "      if (root.Bokeh !== undefined) {\n",
       "        clearInterval(timer);\n",
       "        embed_document(root);\n",
       "      } else {\n",
       "        attempts++;\n",
       "        if (attempts > 100) {\n",
       "          clearInterval(timer);\n",
       "          console.log(\"Bokeh: ERROR: Unable to run BokehJS code because BokehJS library is missing\");\n",
       "        }\n",
       "      }\n",
       "    }, 10, root)\n",
       "  }\n",
       "})(window);"
      ],
      "application/vnd.bokehjs_exec.v0+json": ""
     },
     "metadata": {
      "application/vnd.bokehjs_exec.v0+json": {
       "id": "1331"
      }
     },
     "output_type": "display_data"
    }
   ],
   "source": [
    "p = figure(plot_width=600, plot_height=400,title = 'Plot Title')\n",
    "np.random.seed(2)\n",
    "x = np.arange(100)\n",
    "y = np.random.randn(100).cumsum()\n",
    "p.line(x,y,line_color='seagreen',line_width=2)\n",
    "show(p)"
   ]
  },
  {
   "cell_type": "markdown",
   "metadata": {},
   "source": [
    "We can also access the components of the plot (e.g. axes, grids, etc.) and manipulate them."
   ]
  },
  {
   "cell_type": "code",
   "execution_count": 10,
   "metadata": {},
   "outputs": [
    {
     "data": {
      "text/html": [
       "\n",
       "\n",
       "\n",
       "\n",
       "\n",
       "\n",
       "  <div class=\"bk-root\" id=\"ef25b555-43cd-45e6-8abd-a0b6744b07fd\" data-root-id=\"1331\"></div>\n"
      ]
     },
     "metadata": {},
     "output_type": "display_data"
    },
    {
     "data": {
      "application/javascript": [
       "(function(root) {\n",
       "  function embed_document(root) {\n",
       "    \n",
       "  var docs_json = {\"506c4f62-e304-44a4-a6cf-4b7c0fc0e3dc\":{\"roots\":{\"references\":[{\"attributes\":{\"below\":[{\"id\":\"1342\",\"type\":\"LinearAxis\"}],\"center\":[{\"id\":\"1346\",\"type\":\"Grid\"},{\"id\":\"1351\",\"type\":\"Grid\"}],\"left\":[{\"id\":\"1347\",\"type\":\"LinearAxis\"}],\"plot_height\":400,\"renderers\":[{\"id\":\"1368\",\"type\":\"GlyphRenderer\"}],\"title\":{\"id\":\"1332\",\"type\":\"Title\"},\"toolbar\":{\"id\":\"1358\",\"type\":\"Toolbar\"},\"x_range\":{\"id\":\"1334\",\"type\":\"DataRange1d\"},\"x_scale\":{\"id\":\"1338\",\"type\":\"LinearScale\"},\"y_range\":{\"id\":\"1336\",\"type\":\"DataRange1d\"},\"y_scale\":{\"id\":\"1340\",\"type\":\"LinearScale\"}},\"id\":\"1331\",\"subtype\":\"Figure\",\"type\":\"Plot\"},{\"attributes\":{\"text\":\"Plot Title\",\"text_font_size\":{\"value\":\"24px\"}},\"id\":\"1332\",\"type\":\"Title\"},{\"attributes\":{\"line_color\":\"seagreen\",\"line_width\":2,\"x\":{\"field\":\"x\"},\"y\":{\"field\":\"y\"}},\"id\":\"1366\",\"type\":\"Line\"},{\"attributes\":{\"line_alpha\":0.1,\"line_color\":\"#1f77b4\",\"line_width\":2,\"x\":{\"field\":\"x\"},\"y\":{\"field\":\"y\"}},\"id\":\"1367\",\"type\":\"Line\"},{\"attributes\":{},\"id\":\"1356\",\"type\":\"ResetTool\"},{\"attributes\":{},\"id\":\"1357\",\"type\":\"HelpTool\"},{\"attributes\":{\"active_drag\":\"auto\",\"active_inspect\":\"auto\",\"active_multi\":null,\"active_scroll\":\"auto\",\"active_tap\":\"auto\",\"tools\":[{\"id\":\"1352\",\"type\":\"PanTool\"},{\"id\":\"1353\",\"type\":\"WheelZoomTool\"},{\"id\":\"1354\",\"type\":\"BoxZoomTool\"},{\"id\":\"1355\",\"type\":\"SaveTool\"},{\"id\":\"1356\",\"type\":\"ResetTool\"},{\"id\":\"1357\",\"type\":\"HelpTool\"}]},\"id\":\"1358\",\"type\":\"Toolbar\"},{\"attributes\":{},\"id\":\"1352\",\"type\":\"PanTool\"},{\"attributes\":{},\"id\":\"1399\",\"type\":\"BasicTickFormatter\"},{\"attributes\":{\"source\":{\"id\":\"1365\",\"type\":\"ColumnDataSource\"}},\"id\":\"1369\",\"type\":\"CDSView\"},{\"attributes\":{\"callback\":null,\"data\":{\"x\":[0,1,2,3,4,5,6,7,8,9,10,11,12,13,14,15,16,17,18,19,20,21,22,23,24,25,26,27,28,29,30,31,32,33,34,35,36,37,38,39,40,41,42,43,44,45,46,47,48,49,50,51,52,53,54,55,56,57,58,59,60,61,62,63,64,65,66,67,68,69,70,71,72,73,74,75,76,77,78,79,80,81,82,83,84,85,86,87,88,89,90,91,92,93,94,95,96,97,98,99],\"y\":{\"__ndarray__\":\"fk09Gyms2r/kp+9ICUbev0DeoyOv3wTAnp65WaMB77+2j/2XXRkGwDZ29aJD1QzASMix8VzPCMB0MrFF22IRwLMsRBkznhXAsuCr/QVBGcAblTGfVQwXwEzPzRY6wgvASWvaeydtC8CIuZUwVS8SwJyZD0lWBxDAQAxH+c1pEsDKtCrrZH0SwC5NQcxilAvAgAj0RwPIEMBu9Zxdxb4QwABEzBT0QRTAi2FDXCTiFMDehLH0adsTwNZCZ3PszxfA8U6kmOAqGcC0tKXSuhwawEO1KEKwqRzAJw/J2Oa0IMAPoJihkIwjwC2ts40n2yPAUnQtY+lkJMCTUPxb59wfwAwyE4kNzSTAJAk8P1aTJMCBIjhXq9UjwHi1OmmJHSHA/u61+5UcIMCMgAfD0swhwIAZfXvRzCHAV4n8PiK3IMAGxHZkplchwKQrDq/ImR/A5bZduFqJI8DTRDbi/BIgwDGnasgSRxrArYZGlc6eG8DkmgpEyywZwGmhHRCs+xjAEL5257RMHMAhY1gy5PIbwGJPHUiE8hfAnDkLZsF4GcChJkTicPkawMGzkPKyRRvAGj5OfMyJGcAYoWYKvWwUwBlnk2mm9hbA2XZEYw3uFMAhSZjfvxAUwEKmcfX3fxvAS7o3QlktHcA/IkR82rQdwEKmGZZf3R3AuYYGvouPHMCQZAIYa1wiwD8WNEq8RCLAPe5HlbSfI8CZyTi8soAmwPMtUCdCdCXAJ/LGlsv7I8BpfHdoQkolwCsrdPrrmiPA+UxMG0JeJMD+pVxCNzwkwAkHpSvFbibAz7d0SINDI8A5yGWkJpUowAKuNoX5wyjAjbWxzRJgJ8Au7KNUNXErwAv/MnI30ivA4qinpsD5K8BVIb0tgVMqwPlPLGpr1CfAxiPcYTajKMD8FU8DFmgrwL6vP7sPrCjASjKXBoE8JsD5/KD9DCknwGawg1VldSbAuqXtXOGxJcDKmSKC8o8kwGKQZI9kJyTAb+EBEipXIcC6FgTm/9AkwPGscgUZvCLAeHCYzEv5IcD+kjQneGgiwM7ZVgifDyDAmSQ/you/JMA=\",\"dtype\":\"float64\",\"shape\":[100]}},\"selected\":{\"id\":\"1403\",\"type\":\"Selection\"},\"selection_policy\":{\"id\":\"1402\",\"type\":\"UnionRenderers\"}},\"id\":\"1365\",\"type\":\"ColumnDataSource\"},{\"attributes\":{},\"id\":\"1343\",\"type\":\"BasicTicker\"},{\"attributes\":{},\"id\":\"1403\",\"type\":\"Selection\"},{\"attributes\":{\"ticker\":{\"id\":\"1343\",\"type\":\"BasicTicker\"}},\"id\":\"1346\",\"type\":\"Grid\"},{\"attributes\":{\"axis_label\":\"x-axis label\",\"axis_label_text_font_size\":{\"value\":\"16px\"},\"formatter\":{\"id\":\"1399\",\"type\":\"BasicTickFormatter\"},\"ticker\":{\"id\":\"1343\",\"type\":\"BasicTicker\"}},\"id\":\"1342\",\"type\":\"LinearAxis\"},{\"attributes\":{},\"id\":\"1402\",\"type\":\"UnionRenderers\"},{\"attributes\":{\"overlay\":{\"id\":\"1404\",\"type\":\"BoxAnnotation\"}},\"id\":\"1354\",\"type\":\"BoxZoomTool\"},{\"attributes\":{\"bottom_units\":\"screen\",\"fill_alpha\":{\"value\":0.5},\"fill_color\":{\"value\":\"lightgrey\"},\"left_units\":\"screen\",\"level\":\"overlay\",\"line_alpha\":{\"value\":1.0},\"line_color\":{\"value\":\"black\"},\"line_dash\":[4,4],\"line_width\":{\"value\":2},\"render_mode\":\"css\",\"right_units\":\"screen\",\"top_units\":\"screen\"},\"id\":\"1404\",\"type\":\"BoxAnnotation\"},{\"attributes\":{\"axis_label\":\"y-axis label\",\"axis_label_text_font_size\":{\"value\":\"16px\"},\"formatter\":{\"id\":\"1401\",\"type\":\"BasicTickFormatter\"},\"ticker\":{\"id\":\"1348\",\"type\":\"BasicTicker\"}},\"id\":\"1347\",\"type\":\"LinearAxis\"},{\"attributes\":{},\"id\":\"1353\",\"type\":\"WheelZoomTool\"},{\"attributes\":{},\"id\":\"1340\",\"type\":\"LinearScale\"},{\"attributes\":{},\"id\":\"1355\",\"type\":\"SaveTool\"},{\"attributes\":{},\"id\":\"1348\",\"type\":\"BasicTicker\"},{\"attributes\":{\"dimension\":1,\"grid_line_alpha\":0.5,\"grid_line_color\":\"black\",\"ticker\":{\"id\":\"1348\",\"type\":\"BasicTicker\"}},\"id\":\"1351\",\"type\":\"Grid\"},{\"attributes\":{\"data_source\":{\"id\":\"1365\",\"type\":\"ColumnDataSource\"},\"glyph\":{\"id\":\"1366\",\"type\":\"Line\"},\"hover_glyph\":null,\"muted_glyph\":null,\"nonselection_glyph\":{\"id\":\"1367\",\"type\":\"Line\"},\"selection_glyph\":null,\"view\":{\"id\":\"1369\",\"type\":\"CDSView\"}},\"id\":\"1368\",\"type\":\"GlyphRenderer\"},{\"attributes\":{\"callback\":null},\"id\":\"1336\",\"type\":\"DataRange1d\"},{\"attributes\":{},\"id\":\"1401\",\"type\":\"BasicTickFormatter\"},{\"attributes\":{},\"id\":\"1338\",\"type\":\"LinearScale\"},{\"attributes\":{\"callback\":null},\"id\":\"1334\",\"type\":\"DataRange1d\"}],\"root_ids\":[\"1331\"]},\"title\":\"Bokeh Application\",\"version\":\"1.4.0\"}};\n",
       "  var render_items = [{\"docid\":\"506c4f62-e304-44a4-a6cf-4b7c0fc0e3dc\",\"roots\":{\"1331\":\"ef25b555-43cd-45e6-8abd-a0b6744b07fd\"}}];\n",
       "  root.Bokeh.embed.embed_items_notebook(docs_json, render_items);\n",
       "\n",
       "  }\n",
       "  if (root.Bokeh !== undefined) {\n",
       "    embed_document(root);\n",
       "  } else {\n",
       "    var attempts = 0;\n",
       "    var timer = setInterval(function(root) {\n",
       "      if (root.Bokeh !== undefined) {\n",
       "        clearInterval(timer);\n",
       "        embed_document(root);\n",
       "      } else {\n",
       "        attempts++;\n",
       "        if (attempts > 100) {\n",
       "          clearInterval(timer);\n",
       "          console.log(\"Bokeh: ERROR: Unable to run BokehJS code because BokehJS library is missing\");\n",
       "        }\n",
       "      }\n",
       "    }, 10, root)\n",
       "  }\n",
       "})(window);"
      ],
      "application/vnd.bokehjs_exec.v0+json": ""
     },
     "metadata": {
      "application/vnd.bokehjs_exec.v0+json": {
       "id": "1331"
      }
     },
     "output_type": "display_data"
    }
   ],
   "source": [
    "# x-axis label\n",
    "p.xaxis.axis_label = 'x-axis label'\n",
    "\n",
    "# x-axis label size\n",
    "p.xaxis.axis_label_text_font_size = '16px'\n",
    "\n",
    "# y-axis label\n",
    "p.yaxis.axis_label = 'y-axis label'\n",
    "\n",
    "# y axis label size\n",
    "p.yaxis.axis_label_text_font_size = '16px'\n",
    "\n",
    "# plot title\n",
    "p.title.text = 'Plot Title'\n",
    "\n",
    "# plot title sie\n",
    "p.title.text_font_size = '24px'\n",
    "\n",
    "# horizontal grid lines color\n",
    "p.ygrid.grid_line_color = 'black' \n",
    "\n",
    "# horizontal grid lines opacity\n",
    "p.ygrid.grid_line_alpha = .5 \n",
    "\n",
    "\n",
    "show(p)"
   ]
  },
  {
   "cell_type": "markdown",
   "metadata": {},
   "source": [
    "You can also have multiple plots in a single figure."
   ]
  },
  {
   "cell_type": "code",
   "execution_count": 11,
   "metadata": {
    "scrolled": false
   },
   "outputs": [
    {
     "data": {
      "text/html": [
       "\n",
       "\n",
       "\n",
       "\n",
       "\n",
       "\n",
       "  <div class=\"bk-root\" id=\"d3a84ea3-1fa6-44bc-a595-34b1fcee19de\" data-root-id=\"1501\"></div>\n"
      ]
     },
     "metadata": {},
     "output_type": "display_data"
    },
    {
     "data": {
      "application/javascript": [
       "(function(root) {\n",
       "  function embed_document(root) {\n",
       "    \n",
       "  var docs_json = {\"7ff4ffe9-9849-4c5b-907e-c616b8921222\":{\"roots\":{\"references\":[{\"attributes\":{\"below\":[{\"id\":\"1512\",\"type\":\"LinearAxis\"}],\"center\":[{\"id\":\"1516\",\"type\":\"Grid\"},{\"id\":\"1521\",\"type\":\"Grid\"}],\"left\":[{\"id\":\"1517\",\"type\":\"LinearAxis\"}],\"plot_height\":400,\"renderers\":[{\"id\":\"1538\",\"type\":\"GlyphRenderer\"},{\"id\":\"1543\",\"type\":\"GlyphRenderer\"}],\"title\":{\"id\":\"1502\",\"type\":\"Title\"},\"toolbar\":{\"id\":\"1528\",\"type\":\"Toolbar\"},\"x_range\":{\"id\":\"1504\",\"type\":\"DataRange1d\"},\"x_scale\":{\"id\":\"1508\",\"type\":\"LinearScale\"},\"y_range\":{\"id\":\"1506\",\"type\":\"DataRange1d\"},\"y_scale\":{\"id\":\"1510\",\"type\":\"LinearScale\"}},\"id\":\"1501\",\"subtype\":\"Figure\",\"type\":\"Plot\"},{\"attributes\":{\"data_source\":{\"id\":\"1535\",\"type\":\"ColumnDataSource\"},\"glyph\":{\"id\":\"1536\",\"type\":\"Line\"},\"hover_glyph\":null,\"muted_glyph\":null,\"nonselection_glyph\":{\"id\":\"1537\",\"type\":\"Line\"},\"selection_glyph\":null,\"view\":{\"id\":\"1539\",\"type\":\"CDSView\"}},\"id\":\"1538\",\"type\":\"GlyphRenderer\"},{\"attributes\":{},\"id\":\"1582\",\"type\":\"BasicTickFormatter\"},{\"attributes\":{},\"id\":\"1522\",\"type\":\"PanTool\"},{\"attributes\":{},\"id\":\"1523\",\"type\":\"WheelZoomTool\"},{\"attributes\":{\"text\":\"Plot Title\"},\"id\":\"1502\",\"type\":\"Title\"},{\"attributes\":{\"callback\":null},\"id\":\"1504\",\"type\":\"DataRange1d\"},{\"attributes\":{\"fill_color\":{\"value\":\"orangered\"},\"size\":{\"units\":\"screen\",\"value\":8},\"x\":{\"field\":\"x\"},\"y\":{\"field\":\"y\"}},\"id\":\"1541\",\"type\":\"Circle\"},{\"attributes\":{\"overlay\":{\"id\":\"1589\",\"type\":\"BoxAnnotation\"}},\"id\":\"1524\",\"type\":\"BoxZoomTool\"},{\"attributes\":{},\"id\":\"1508\",\"type\":\"LinearScale\"},{\"attributes\":{},\"id\":\"1525\",\"type\":\"SaveTool\"},{\"attributes\":{\"callback\":null},\"id\":\"1506\",\"type\":\"DataRange1d\"},{\"attributes\":{},\"id\":\"1526\",\"type\":\"ResetTool\"},{\"attributes\":{\"line_alpha\":0.1,\"line_color\":\"#1f77b4\",\"line_width\":2,\"x\":{\"field\":\"x\"},\"y\":{\"field\":\"y\"}},\"id\":\"1537\",\"type\":\"Line\"},{\"attributes\":{},\"id\":\"1527\",\"type\":\"HelpTool\"},{\"attributes\":{},\"id\":\"1584\",\"type\":\"BasicTickFormatter\"},{\"attributes\":{},\"id\":\"1585\",\"type\":\"UnionRenderers\"},{\"attributes\":{},\"id\":\"1510\",\"type\":\"LinearScale\"},{\"attributes\":{\"formatter\":{\"id\":\"1582\",\"type\":\"BasicTickFormatter\"},\"ticker\":{\"id\":\"1513\",\"type\":\"BasicTicker\"}},\"id\":\"1512\",\"type\":\"LinearAxis\"},{\"attributes\":{},\"id\":\"1513\",\"type\":\"BasicTicker\"},{\"attributes\":{},\"id\":\"1587\",\"type\":\"UnionRenderers\"},{\"attributes\":{},\"id\":\"1518\",\"type\":\"BasicTicker\"},{\"attributes\":{\"source\":{\"id\":\"1535\",\"type\":\"ColumnDataSource\"}},\"id\":\"1539\",\"type\":\"CDSView\"},{\"attributes\":{},\"id\":\"1586\",\"type\":\"Selection\"},{\"attributes\":{\"dimension\":1,\"ticker\":{\"id\":\"1518\",\"type\":\"BasicTicker\"}},\"id\":\"1521\",\"type\":\"Grid\"},{\"attributes\":{\"formatter\":{\"id\":\"1584\",\"type\":\"BasicTickFormatter\"},\"ticker\":{\"id\":\"1518\",\"type\":\"BasicTicker\"}},\"id\":\"1517\",\"type\":\"LinearAxis\"},{\"attributes\":{\"fill_alpha\":{\"value\":0.1},\"fill_color\":{\"value\":\"#1f77b4\"},\"line_alpha\":{\"value\":0.1},\"line_color\":{\"value\":\"#1f77b4\"},\"size\":{\"units\":\"screen\",\"value\":8},\"x\":{\"field\":\"x\"},\"y\":{\"field\":\"y\"}},\"id\":\"1542\",\"type\":\"Circle\"},{\"attributes\":{\"data_source\":{\"id\":\"1540\",\"type\":\"ColumnDataSource\"},\"glyph\":{\"id\":\"1541\",\"type\":\"Circle\"},\"hover_glyph\":null,\"muted_glyph\":null,\"nonselection_glyph\":{\"id\":\"1542\",\"type\":\"Circle\"},\"selection_glyph\":null,\"view\":{\"id\":\"1544\",\"type\":\"CDSView\"}},\"id\":\"1543\",\"type\":\"GlyphRenderer\"},{\"attributes\":{\"callback\":null,\"data\":{\"x\":[0,1,2,3,4,5,6,7,8,9,10,11,12,13,14,15,16,17,18,19,20,21,22,23,24,25,26,27,28,29,30,31,32,33,34,35,36,37,38,39,40,41,42,43,44,45,46,47,48,49,50,51,52,53,54,55,56,57,58,59,60,61,62,63,64,65,66,67,68,69,70,71,72,73,74,75,76,77,78,79,80,81,82,83,84,85,86,87,88,89,90,91,92,93,94,95,96,97,98,99],\"y\":{\"__ndarray__\":\"fk09Gyms2r/kp+9ICUbev0DeoyOv3wTAnp65WaMB77+2j/2XXRkGwDZ29aJD1QzASMix8VzPCMB0MrFF22IRwLMsRBkznhXAsuCr/QVBGcAblTGfVQwXwEzPzRY6wgvASWvaeydtC8CIuZUwVS8SwJyZD0lWBxDAQAxH+c1pEsDKtCrrZH0SwC5NQcxilAvAgAj0RwPIEMBu9Zxdxb4QwABEzBT0QRTAi2FDXCTiFMDehLH0adsTwNZCZ3PszxfA8U6kmOAqGcC0tKXSuhwawEO1KEKwqRzAJw/J2Oa0IMAPoJihkIwjwC2ts40n2yPAUnQtY+lkJMCTUPxb59wfwAwyE4kNzSTAJAk8P1aTJMCBIjhXq9UjwHi1OmmJHSHA/u61+5UcIMCMgAfD0swhwIAZfXvRzCHAV4n8PiK3IMAGxHZkplchwKQrDq/ImR/A5bZduFqJI8DTRDbi/BIgwDGnasgSRxrArYZGlc6eG8DkmgpEyywZwGmhHRCs+xjAEL5257RMHMAhY1gy5PIbwGJPHUiE8hfAnDkLZsF4GcChJkTicPkawMGzkPKyRRvAGj5OfMyJGcAYoWYKvWwUwBlnk2mm9hbA2XZEYw3uFMAhSZjfvxAUwEKmcfX3fxvAS7o3QlktHcA/IkR82rQdwEKmGZZf3R3AuYYGvouPHMCQZAIYa1wiwD8WNEq8RCLAPe5HlbSfI8CZyTi8soAmwPMtUCdCdCXAJ/LGlsv7I8BpfHdoQkolwCsrdPrrmiPA+UxMG0JeJMD+pVxCNzwkwAkHpSvFbibAz7d0SINDI8A5yGWkJpUowAKuNoX5wyjAjbWxzRJgJ8Au7KNUNXErwAv/MnI30ivA4qinpsD5K8BVIb0tgVMqwPlPLGpr1CfAxiPcYTajKMD8FU8DFmgrwL6vP7sPrCjASjKXBoE8JsD5/KD9DCknwGawg1VldSbAuqXtXOGxJcDKmSKC8o8kwGKQZI9kJyTAb+EBEipXIcC6FgTm/9AkwPGscgUZvCLAeHCYzEv5IcD+kjQneGgiwM7ZVgifDyDAmSQ/you/JMA=\",\"dtype\":\"float64\",\"shape\":[100]}},\"selected\":{\"id\":\"1588\",\"type\":\"Selection\"},\"selection_policy\":{\"id\":\"1587\",\"type\":\"UnionRenderers\"}},\"id\":\"1540\",\"type\":\"ColumnDataSource\"},{\"attributes\":{\"bottom_units\":\"screen\",\"fill_alpha\":{\"value\":0.5},\"fill_color\":{\"value\":\"lightgrey\"},\"left_units\":\"screen\",\"level\":\"overlay\",\"line_alpha\":{\"value\":1.0},\"line_color\":{\"value\":\"black\"},\"line_dash\":[4,4],\"line_width\":{\"value\":2},\"render_mode\":\"css\",\"right_units\":\"screen\",\"top_units\":\"screen\"},\"id\":\"1589\",\"type\":\"BoxAnnotation\"},{\"attributes\":{\"ticker\":{\"id\":\"1513\",\"type\":\"BasicTicker\"}},\"id\":\"1516\",\"type\":\"Grid\"},{\"attributes\":{},\"id\":\"1588\",\"type\":\"Selection\"},{\"attributes\":{\"callback\":null,\"data\":{\"x\":[0,1,2,3,4,5,6,7,8,9,10,11,12,13,14,15,16,17,18,19,20,21,22,23,24,25,26,27,28,29,30,31,32,33,34,35,36,37,38,39,40,41,42,43,44,45,46,47,48,49,50,51,52,53,54,55,56,57,58,59,60,61,62,63,64,65,66,67,68,69,70,71,72,73,74,75,76,77,78,79,80,81,82,83,84,85,86,87,88,89,90,91,92,93,94,95,96,97,98,99],\"y\":{\"__ndarray__\":\"fk09Gyms2r/kp+9ICUbev0DeoyOv3wTAnp65WaMB77+2j/2XXRkGwDZ29aJD1QzASMix8VzPCMB0MrFF22IRwLMsRBkznhXAsuCr/QVBGcAblTGfVQwXwEzPzRY6wgvASWvaeydtC8CIuZUwVS8SwJyZD0lWBxDAQAxH+c1pEsDKtCrrZH0SwC5NQcxilAvAgAj0RwPIEMBu9Zxdxb4QwABEzBT0QRTAi2FDXCTiFMDehLH0adsTwNZCZ3PszxfA8U6kmOAqGcC0tKXSuhwawEO1KEKwqRzAJw/J2Oa0IMAPoJihkIwjwC2ts40n2yPAUnQtY+lkJMCTUPxb59wfwAwyE4kNzSTAJAk8P1aTJMCBIjhXq9UjwHi1OmmJHSHA/u61+5UcIMCMgAfD0swhwIAZfXvRzCHAV4n8PiK3IMAGxHZkplchwKQrDq/ImR/A5bZduFqJI8DTRDbi/BIgwDGnasgSRxrArYZGlc6eG8DkmgpEyywZwGmhHRCs+xjAEL5257RMHMAhY1gy5PIbwGJPHUiE8hfAnDkLZsF4GcChJkTicPkawMGzkPKyRRvAGj5OfMyJGcAYoWYKvWwUwBlnk2mm9hbA2XZEYw3uFMAhSZjfvxAUwEKmcfX3fxvAS7o3QlktHcA/IkR82rQdwEKmGZZf3R3AuYYGvouPHMCQZAIYa1wiwD8WNEq8RCLAPe5HlbSfI8CZyTi8soAmwPMtUCdCdCXAJ/LGlsv7I8BpfHdoQkolwCsrdPrrmiPA+UxMG0JeJMD+pVxCNzwkwAkHpSvFbibAz7d0SINDI8A5yGWkJpUowAKuNoX5wyjAjbWxzRJgJ8Au7KNUNXErwAv/MnI30ivA4qinpsD5K8BVIb0tgVMqwPlPLGpr1CfAxiPcYTajKMD8FU8DFmgrwL6vP7sPrCjASjKXBoE8JsD5/KD9DCknwGawg1VldSbAuqXtXOGxJcDKmSKC8o8kwGKQZI9kJyTAb+EBEipXIcC6FgTm/9AkwPGscgUZvCLAeHCYzEv5IcD+kjQneGgiwM7ZVgifDyDAmSQ/you/JMA=\",\"dtype\":\"float64\",\"shape\":[100]}},\"selected\":{\"id\":\"1586\",\"type\":\"Selection\"},\"selection_policy\":{\"id\":\"1585\",\"type\":\"UnionRenderers\"}},\"id\":\"1535\",\"type\":\"ColumnDataSource\"},{\"attributes\":{\"source\":{\"id\":\"1540\",\"type\":\"ColumnDataSource\"}},\"id\":\"1544\",\"type\":\"CDSView\"},{\"attributes\":{\"active_drag\":\"auto\",\"active_inspect\":\"auto\",\"active_multi\":null,\"active_scroll\":\"auto\",\"active_tap\":\"auto\",\"tools\":[{\"id\":\"1522\",\"type\":\"PanTool\"},{\"id\":\"1523\",\"type\":\"WheelZoomTool\"},{\"id\":\"1524\",\"type\":\"BoxZoomTool\"},{\"id\":\"1525\",\"type\":\"SaveTool\"},{\"id\":\"1526\",\"type\":\"ResetTool\"},{\"id\":\"1527\",\"type\":\"HelpTool\"}]},\"id\":\"1528\",\"type\":\"Toolbar\"},{\"attributes\":{\"line_alpha\":0.5,\"line_color\":\"orange\",\"line_width\":2,\"x\":{\"field\":\"x\"},\"y\":{\"field\":\"y\"}},\"id\":\"1536\",\"type\":\"Line\"}],\"root_ids\":[\"1501\"]},\"title\":\"Bokeh Application\",\"version\":\"1.4.0\"}};\n",
       "  var render_items = [{\"docid\":\"7ff4ffe9-9849-4c5b-907e-c616b8921222\",\"roots\":{\"1501\":\"d3a84ea3-1fa6-44bc-a595-34b1fcee19de\"}}];\n",
       "  root.Bokeh.embed.embed_items_notebook(docs_json, render_items);\n",
       "\n",
       "  }\n",
       "  if (root.Bokeh !== undefined) {\n",
       "    embed_document(root);\n",
       "  } else {\n",
       "    var attempts = 0;\n",
       "    var timer = setInterval(function(root) {\n",
       "      if (root.Bokeh !== undefined) {\n",
       "        clearInterval(timer);\n",
       "        embed_document(root);\n",
       "      } else {\n",
       "        attempts++;\n",
       "        if (attempts > 100) {\n",
       "          clearInterval(timer);\n",
       "          console.log(\"Bokeh: ERROR: Unable to run BokehJS code because BokehJS library is missing\");\n",
       "        }\n",
       "      }\n",
       "    }, 10, root)\n",
       "  }\n",
       "})(window);"
      ],
      "application/vnd.bokehjs_exec.v0+json": ""
     },
     "metadata": {
      "application/vnd.bokehjs_exec.v0+json": {
       "id": "1501"
      }
     },
     "output_type": "display_data"
    }
   ],
   "source": [
    "p = figure(plot_width=600, plot_height=400,title = 'Plot Title')\n",
    "np.random.seed(2)\n",
    "x = np.arange(100)\n",
    "y = np.random.randn(100).cumsum()\n",
    "p.line(x,y,line_color='orange',line_width=2,line_alpha=.5)\n",
    "p.circle(x,y,size=8,fill_color = 'orangered',line_color='black')\n",
    "show(p)"
   ]
  },
  {
   "cell_type": "code",
   "execution_count": 12,
   "metadata": {},
   "outputs": [
    {
     "data": {
      "text/html": [
       "\n",
       "\n",
       "\n",
       "\n",
       "\n",
       "\n",
       "  <div class=\"bk-root\" id=\"9b9fcb7e-085a-4e79-b950-ebcecdf476a6\" data-root-id=\"1650\"></div>\n"
      ]
     },
     "metadata": {},
     "output_type": "display_data"
    },
    {
     "data": {
      "application/javascript": [
       "(function(root) {\n",
       "  function embed_document(root) {\n",
       "    \n",
       "  var docs_json = {\"9e494261-d5e7-4710-8887-0ba13042bfad\":{\"roots\":{\"references\":[{\"attributes\":{\"below\":[{\"id\":\"1661\",\"type\":\"CategoricalAxis\"}],\"center\":[{\"id\":\"1664\",\"type\":\"Grid\"},{\"id\":\"1669\",\"type\":\"Grid\"}],\"left\":[{\"id\":\"1665\",\"type\":\"LinearAxis\"}],\"plot_height\":250,\"renderers\":[{\"id\":\"1686\",\"type\":\"GlyphRenderer\"}],\"title\":{\"id\":\"1651\",\"type\":\"Title\"},\"toolbar\":{\"id\":\"1676\",\"type\":\"Toolbar\"},\"x_range\":{\"id\":\"1653\",\"type\":\"FactorRange\"},\"x_scale\":{\"id\":\"1657\",\"type\":\"CategoricalScale\"},\"y_range\":{\"id\":\"1655\",\"type\":\"DataRange1d\"},\"y_scale\":{\"id\":\"1659\",\"type\":\"LinearScale\"}},\"id\":\"1650\",\"subtype\":\"Figure\",\"type\":\"Plot\"},{\"attributes\":{},\"id\":\"1734\",\"type\":\"CategoricalTickFormatter\"},{\"attributes\":{},\"id\":\"1670\",\"type\":\"PanTool\"},{\"attributes\":{},\"id\":\"1737\",\"type\":\"BasicTickFormatter\"},{\"attributes\":{\"active_drag\":\"auto\",\"active_inspect\":\"auto\",\"active_multi\":null,\"active_scroll\":\"auto\",\"active_tap\":\"auto\",\"tools\":[{\"id\":\"1670\",\"type\":\"PanTool\"},{\"id\":\"1671\",\"type\":\"WheelZoomTool\"},{\"id\":\"1672\",\"type\":\"BoxZoomTool\"},{\"id\":\"1673\",\"type\":\"SaveTool\"},{\"id\":\"1674\",\"type\":\"ResetTool\"},{\"id\":\"1675\",\"type\":\"HelpTool\"}]},\"id\":\"1676\",\"type\":\"Toolbar\"},{\"attributes\":{\"bottom_units\":\"screen\",\"fill_alpha\":{\"value\":0.5},\"fill_color\":{\"value\":\"lightgrey\"},\"left_units\":\"screen\",\"level\":\"overlay\",\"line_alpha\":{\"value\":1.0},\"line_color\":{\"value\":\"black\"},\"line_dash\":[4,4],\"line_width\":{\"value\":2},\"render_mode\":\"css\",\"right_units\":\"screen\",\"top_units\":\"screen\"},\"id\":\"1740\",\"type\":\"BoxAnnotation\"},{\"attributes\":{},\"id\":\"1671\",\"type\":\"WheelZoomTool\"},{\"attributes\":{\"callback\":null,\"start\":0},\"id\":\"1655\",\"type\":\"DataRange1d\"},{\"attributes\":{\"data_source\":{\"id\":\"1683\",\"type\":\"ColumnDataSource\"},\"glyph\":{\"id\":\"1684\",\"type\":\"VBar\"},\"hover_glyph\":null,\"muted_glyph\":null,\"nonselection_glyph\":{\"id\":\"1685\",\"type\":\"VBar\"},\"selection_glyph\":null,\"view\":{\"id\":\"1687\",\"type\":\"CDSView\"}},\"id\":\"1686\",\"type\":\"GlyphRenderer\"},{\"attributes\":{\"grid_line_color\":null,\"ticker\":{\"id\":\"1662\",\"type\":\"CategoricalTicker\"}},\"id\":\"1664\",\"type\":\"Grid\"},{\"attributes\":{},\"id\":\"1739\",\"type\":\"Selection\"},{\"attributes\":{\"fill_alpha\":{\"value\":0.1},\"fill_color\":{\"value\":\"#1f77b4\"},\"line_alpha\":{\"value\":0.1},\"line_color\":{\"value\":\"#1f77b4\"},\"top\":{\"field\":\"top\"},\"width\":{\"value\":0.9},\"x\":{\"field\":\"x\"}},\"id\":\"1685\",\"type\":\"VBar\"},{\"attributes\":{\"formatter\":{\"id\":\"1737\",\"type\":\"BasicTickFormatter\"},\"ticker\":{\"id\":\"1666\",\"type\":\"BasicTicker\"}},\"id\":\"1665\",\"type\":\"LinearAxis\"},{\"attributes\":{},\"id\":\"1738\",\"type\":\"UnionRenderers\"},{\"attributes\":{},\"id\":\"1659\",\"type\":\"LinearScale\"},{\"attributes\":{},\"id\":\"1657\",\"type\":\"CategoricalScale\"},{\"attributes\":{\"formatter\":{\"id\":\"1734\",\"type\":\"CategoricalTickFormatter\"},\"ticker\":{\"id\":\"1662\",\"type\":\"CategoricalTicker\"}},\"id\":\"1661\",\"type\":\"CategoricalAxis\"},{\"attributes\":{\"callback\":null,\"data\":{\"top\":[5,3,4,2,4,6],\"x\":[\"Apples\",\"Pears\",\"Nectarines\",\"Plums\",\"Grapes\",\"Strawberries\"]},\"selected\":{\"id\":\"1739\",\"type\":\"Selection\"},\"selection_policy\":{\"id\":\"1738\",\"type\":\"UnionRenderers\"}},\"id\":\"1683\",\"type\":\"ColumnDataSource\"},{\"attributes\":{\"dimension\":1,\"ticker\":{\"id\":\"1666\",\"type\":\"BasicTicker\"}},\"id\":\"1669\",\"type\":\"Grid\"},{\"attributes\":{},\"id\":\"1674\",\"type\":\"ResetTool\"},{\"attributes\":{},\"id\":\"1666\",\"type\":\"BasicTicker\"},{\"attributes\":{\"callback\":null,\"factors\":[\"Apples\",\"Pears\",\"Nectarines\",\"Plums\",\"Grapes\",\"Strawberries\"]},\"id\":\"1653\",\"type\":\"FactorRange\"},{\"attributes\":{\"source\":{\"id\":\"1683\",\"type\":\"ColumnDataSource\"}},\"id\":\"1687\",\"type\":\"CDSView\"},{\"attributes\":{\"overlay\":{\"id\":\"1740\",\"type\":\"BoxAnnotation\"}},\"id\":\"1672\",\"type\":\"BoxZoomTool\"},{\"attributes\":{\"text\":\"Fruit Counts\"},\"id\":\"1651\",\"type\":\"Title\"},{\"attributes\":{},\"id\":\"1662\",\"type\":\"CategoricalTicker\"},{\"attributes\":{},\"id\":\"1673\",\"type\":\"SaveTool\"},{\"attributes\":{},\"id\":\"1675\",\"type\":\"HelpTool\"},{\"attributes\":{\"fill_color\":{\"value\":\"#1f77b4\"},\"line_color\":{\"value\":\"#1f77b4\"},\"top\":{\"field\":\"top\"},\"width\":{\"value\":0.9},\"x\":{\"field\":\"x\"}},\"id\":\"1684\",\"type\":\"VBar\"}],\"root_ids\":[\"1650\"]},\"title\":\"Bokeh Application\",\"version\":\"1.4.0\"}};\n",
       "  var render_items = [{\"docid\":\"9e494261-d5e7-4710-8887-0ba13042bfad\",\"roots\":{\"1650\":\"9b9fcb7e-085a-4e79-b950-ebcecdf476a6\"}}];\n",
       "  root.Bokeh.embed.embed_items_notebook(docs_json, render_items);\n",
       "\n",
       "  }\n",
       "  if (root.Bokeh !== undefined) {\n",
       "    embed_document(root);\n",
       "  } else {\n",
       "    var attempts = 0;\n",
       "    var timer = setInterval(function(root) {\n",
       "      if (root.Bokeh !== undefined) {\n",
       "        clearInterval(timer);\n",
       "        embed_document(root);\n",
       "      } else {\n",
       "        attempts++;\n",
       "        if (attempts > 100) {\n",
       "          clearInterval(timer);\n",
       "          console.log(\"Bokeh: ERROR: Unable to run BokehJS code because BokehJS library is missing\");\n",
       "        }\n",
       "      }\n",
       "    }, 10, root)\n",
       "  }\n",
       "})(window);"
      ],
      "application/vnd.bokehjs_exec.v0+json": ""
     },
     "metadata": {
      "application/vnd.bokehjs_exec.v0+json": {
       "id": "1650"
      }
     },
     "output_type": "display_data"
    }
   ],
   "source": [
    "# Here is a list of categorical values (or factors)\n",
    "fruits = ['Apples', 'Pears', 'Nectarines', 'Plums', 'Grapes', 'Strawberries']\n",
    "\n",
    "# Set the x_range to the list of categories above\n",
    "p = figure(x_range=fruits, plot_height=250, title=\"Fruit Counts\")\n",
    "\n",
    "# Categorical values can also be used as coordinates\n",
    "p.vbar(x=fruits, top=[5, 3, 4, 2, 4, 6], width=0.9)\n",
    "\n",
    "# Set some properties to make the plot look better\n",
    "p.xgrid.grid_line_color = None\n",
    "p.y_range.start = 0\n",
    "\n",
    "show(p)"
   ]
  },
  {
   "cell_type": "markdown",
   "metadata": {},
   "source": [
    "## Bar Plot\n"
   ]
  },
  {
   "cell_type": "markdown",
   "metadata": {},
   "source": [
    "Let's import some data for plotting. The dataset we use here is natural gas production in US by states."
   ]
  },
  {
   "cell_type": "code",
   "execution_count": 13,
   "metadata": {},
   "outputs": [
    {
     "data": {
      "text/html": [
       "<div>\n",
       "<style scoped>\n",
       "    .dataframe tbody tr th:only-of-type {\n",
       "        vertical-align: middle;\n",
       "    }\n",
       "\n",
       "    .dataframe tbody tr th {\n",
       "        vertical-align: top;\n",
       "    }\n",
       "\n",
       "    .dataframe thead th {\n",
       "        text-align: right;\n",
       "    }\n",
       "</style>\n",
       "<table border=\"1\" class=\"dataframe\">\n",
       "  <thead>\n",
       "    <tr style=\"text-align: right;\">\n",
       "      <th></th>\n",
       "      <th>Other States Natural Gas Gross Withdrawals (MMcf)</th>\n",
       "      <th>Alabama Natural Gas Gross Withdrawals (MMcf)</th>\n",
       "      <th>Arizona Natural Gas Gross Withdrawals (MMcf)</th>\n",
       "      <th>Florida Natural Gas Gross Withdrawals (MMcf)</th>\n",
       "      <th>Idaho Gross Withdrawals of Natural Gas (Million Cubic Feet)</th>\n",
       "      <th>Illinois Natural Gas Gross Withdrawals (MMcf)</th>\n",
       "      <th>Indiana Natural Gas Gross Withdrawals (MMcf)</th>\n",
       "      <th>Kentucky Natural Gas Gross Withdrawals (MMcf)</th>\n",
       "      <th>Maryland Natural Gas Gross Withdrawals (MMcf)</th>\n",
       "      <th>Michigan Natural Gas Gross Withdrawals (MMcf)</th>\n",
       "      <th>Mississippi Natural Gas Gross Withdrawals (MMcf)</th>\n",
       "      <th>Missouri Natural Gas Gross Withdrawals (MMcf)</th>\n",
       "      <th>Nebraska Natural Gas Gross Withdrawals (MMcf)</th>\n",
       "      <th>Nevada Natural Gas Gross Withdrawals (MMcf)</th>\n",
       "      <th>New York Natural Gas Gross Withdrawals (MMcf)</th>\n",
       "      <th>Oregon Natural Gas Gross Withdrawals (MMcf)</th>\n",
       "      <th>South Dakota Natural Gas Gross Withdrawals (MMcf)</th>\n",
       "      <th>Tennessee Natural Gas Gross Withdrawals (MMcf)</th>\n",
       "      <th>Virginia Natural Gas Gross Withdrawals (MMcf)</th>\n",
       "    </tr>\n",
       "    <tr>\n",
       "      <th>Date</th>\n",
       "      <th></th>\n",
       "      <th></th>\n",
       "      <th></th>\n",
       "      <th></th>\n",
       "      <th></th>\n",
       "      <th></th>\n",
       "      <th></th>\n",
       "      <th></th>\n",
       "      <th></th>\n",
       "      <th></th>\n",
       "      <th></th>\n",
       "      <th></th>\n",
       "      <th></th>\n",
       "      <th></th>\n",
       "      <th></th>\n",
       "      <th></th>\n",
       "      <th></th>\n",
       "      <th></th>\n",
       "      <th></th>\n",
       "    </tr>\n",
       "  </thead>\n",
       "  <tbody>\n",
       "    <tr>\n",
       "      <th>1991-01-15</th>\n",
       "      <td>75788</td>\n",
       "      <td>17691.0</td>\n",
       "      <td>NaN</td>\n",
       "      <td>NaN</td>\n",
       "      <td>NaN</td>\n",
       "      <td>41.0</td>\n",
       "      <td>21.0</td>\n",
       "      <td>7021.0</td>\n",
       "      <td>0.0</td>\n",
       "      <td>15965.0</td>\n",
       "      <td>16689.0</td>\n",
       "      <td>0.0</td>\n",
       "      <td>57.0</td>\n",
       "      <td>3.0</td>\n",
       "      <td>2041.0</td>\n",
       "      <td>NaN</td>\n",
       "      <td>525.0</td>\n",
       "      <td>165.0</td>\n",
       "      <td>1849.0</td>\n",
       "    </tr>\n",
       "    <tr>\n",
       "      <th>1991-02-15</th>\n",
       "      <td>66569</td>\n",
       "      <td>16173.0</td>\n",
       "      <td>NaN</td>\n",
       "      <td>NaN</td>\n",
       "      <td>NaN</td>\n",
       "      <td>38.0</td>\n",
       "      <td>18.0</td>\n",
       "      <td>6303.0</td>\n",
       "      <td>0.0</td>\n",
       "      <td>14322.0</td>\n",
       "      <td>14603.0</td>\n",
       "      <td>0.0</td>\n",
       "      <td>58.0</td>\n",
       "      <td>3.0</td>\n",
       "      <td>1820.0</td>\n",
       "      <td>NaN</td>\n",
       "      <td>421.0</td>\n",
       "      <td>148.0</td>\n",
       "      <td>1545.0</td>\n",
       "    </tr>\n",
       "    <tr>\n",
       "      <th>1991-03-15</th>\n",
       "      <td>71068</td>\n",
       "      <td>17747.0</td>\n",
       "      <td>NaN</td>\n",
       "      <td>NaN</td>\n",
       "      <td>NaN</td>\n",
       "      <td>40.0</td>\n",
       "      <td>20.0</td>\n",
       "      <td>6870.0</td>\n",
       "      <td>5.0</td>\n",
       "      <td>17792.0</td>\n",
       "      <td>15913.0</td>\n",
       "      <td>1.0</td>\n",
       "      <td>65.0</td>\n",
       "      <td>5.0</td>\n",
       "      <td>1983.0</td>\n",
       "      <td>NaN</td>\n",
       "      <td>458.0</td>\n",
       "      <td>161.0</td>\n",
       "      <td>1076.0</td>\n",
       "    </tr>\n",
       "    <tr>\n",
       "      <th>1991-04-15</th>\n",
       "      <td>64899</td>\n",
       "      <td>17335.0</td>\n",
       "      <td>NaN</td>\n",
       "      <td>562.0</td>\n",
       "      <td>NaN</td>\n",
       "      <td>39.0</td>\n",
       "      <td>19.0</td>\n",
       "      <td>6515.0</td>\n",
       "      <td>0.0</td>\n",
       "      <td>18491.0</td>\n",
       "      <td>14873.0</td>\n",
       "      <td>2.0</td>\n",
       "      <td>63.0</td>\n",
       "      <td>6.0</td>\n",
       "      <td>1881.0</td>\n",
       "      <td>NaN</td>\n",
       "      <td>445.0</td>\n",
       "      <td>153.0</td>\n",
       "      <td>906.0</td>\n",
       "    </tr>\n",
       "    <tr>\n",
       "      <th>1991-05-15</th>\n",
       "      <td>64083</td>\n",
       "      <td>18260.0</td>\n",
       "      <td>NaN</td>\n",
       "      <td>NaN</td>\n",
       "      <td>NaN</td>\n",
       "      <td>38.0</td>\n",
       "      <td>19.0</td>\n",
       "      <td>6458.0</td>\n",
       "      <td>0.0</td>\n",
       "      <td>19993.0</td>\n",
       "      <td>14762.0</td>\n",
       "      <td>1.0</td>\n",
       "      <td>69.0</td>\n",
       "      <td>6.0</td>\n",
       "      <td>1865.0</td>\n",
       "      <td>NaN</td>\n",
       "      <td>421.0</td>\n",
       "      <td>152.0</td>\n",
       "      <td>698.0</td>\n",
       "    </tr>\n",
       "  </tbody>\n",
       "</table>\n",
       "</div>"
      ],
      "text/plain": [
       "            Other States Natural Gas Gross Withdrawals (MMcf)  \\\n",
       "Date                                                            \n",
       "1991-01-15                                              75788   \n",
       "1991-02-15                                              66569   \n",
       "1991-03-15                                              71068   \n",
       "1991-04-15                                              64899   \n",
       "1991-05-15                                              64083   \n",
       "\n",
       "            Alabama Natural Gas Gross Withdrawals (MMcf)  \\\n",
       "Date                                                       \n",
       "1991-01-15                                       17691.0   \n",
       "1991-02-15                                       16173.0   \n",
       "1991-03-15                                       17747.0   \n",
       "1991-04-15                                       17335.0   \n",
       "1991-05-15                                       18260.0   \n",
       "\n",
       "            Arizona Natural Gas Gross Withdrawals (MMcf)  \\\n",
       "Date                                                       \n",
       "1991-01-15                                           NaN   \n",
       "1991-02-15                                           NaN   \n",
       "1991-03-15                                           NaN   \n",
       "1991-04-15                                           NaN   \n",
       "1991-05-15                                           NaN   \n",
       "\n",
       "            Florida Natural Gas Gross Withdrawals (MMcf)  \\\n",
       "Date                                                       \n",
       "1991-01-15                                           NaN   \n",
       "1991-02-15                                           NaN   \n",
       "1991-03-15                                           NaN   \n",
       "1991-04-15                                         562.0   \n",
       "1991-05-15                                           NaN   \n",
       "\n",
       "            Idaho Gross Withdrawals of Natural Gas (Million Cubic Feet)  \\\n",
       "Date                                                                      \n",
       "1991-01-15                                                NaN             \n",
       "1991-02-15                                                NaN             \n",
       "1991-03-15                                                NaN             \n",
       "1991-04-15                                                NaN             \n",
       "1991-05-15                                                NaN             \n",
       "\n",
       "            Illinois Natural Gas Gross Withdrawals (MMcf)  \\\n",
       "Date                                                        \n",
       "1991-01-15                                           41.0   \n",
       "1991-02-15                                           38.0   \n",
       "1991-03-15                                           40.0   \n",
       "1991-04-15                                           39.0   \n",
       "1991-05-15                                           38.0   \n",
       "\n",
       "            Indiana Natural Gas Gross Withdrawals (MMcf)  \\\n",
       "Date                                                       \n",
       "1991-01-15                                          21.0   \n",
       "1991-02-15                                          18.0   \n",
       "1991-03-15                                          20.0   \n",
       "1991-04-15                                          19.0   \n",
       "1991-05-15                                          19.0   \n",
       "\n",
       "            Kentucky Natural Gas Gross Withdrawals (MMcf)  \\\n",
       "Date                                                        \n",
       "1991-01-15                                         7021.0   \n",
       "1991-02-15                                         6303.0   \n",
       "1991-03-15                                         6870.0   \n",
       "1991-04-15                                         6515.0   \n",
       "1991-05-15                                         6458.0   \n",
       "\n",
       "            Maryland Natural Gas Gross Withdrawals (MMcf)  \\\n",
       "Date                                                        \n",
       "1991-01-15                                            0.0   \n",
       "1991-02-15                                            0.0   \n",
       "1991-03-15                                            5.0   \n",
       "1991-04-15                                            0.0   \n",
       "1991-05-15                                            0.0   \n",
       "\n",
       "            Michigan Natural Gas Gross Withdrawals (MMcf)  \\\n",
       "Date                                                        \n",
       "1991-01-15                                        15965.0   \n",
       "1991-02-15                                        14322.0   \n",
       "1991-03-15                                        17792.0   \n",
       "1991-04-15                                        18491.0   \n",
       "1991-05-15                                        19993.0   \n",
       "\n",
       "            Mississippi Natural Gas Gross Withdrawals (MMcf)  \\\n",
       "Date                                                           \n",
       "1991-01-15                                           16689.0   \n",
       "1991-02-15                                           14603.0   \n",
       "1991-03-15                                           15913.0   \n",
       "1991-04-15                                           14873.0   \n",
       "1991-05-15                                           14762.0   \n",
       "\n",
       "            Missouri Natural Gas Gross Withdrawals (MMcf)  \\\n",
       "Date                                                        \n",
       "1991-01-15                                            0.0   \n",
       "1991-02-15                                            0.0   \n",
       "1991-03-15                                            1.0   \n",
       "1991-04-15                                            2.0   \n",
       "1991-05-15                                            1.0   \n",
       "\n",
       "            Nebraska Natural Gas Gross Withdrawals (MMcf)  \\\n",
       "Date                                                        \n",
       "1991-01-15                                           57.0   \n",
       "1991-02-15                                           58.0   \n",
       "1991-03-15                                           65.0   \n",
       "1991-04-15                                           63.0   \n",
       "1991-05-15                                           69.0   \n",
       "\n",
       "            Nevada Natural Gas Gross Withdrawals (MMcf)  \\\n",
       "Date                                                      \n",
       "1991-01-15                                          3.0   \n",
       "1991-02-15                                          3.0   \n",
       "1991-03-15                                          5.0   \n",
       "1991-04-15                                          6.0   \n",
       "1991-05-15                                          6.0   \n",
       "\n",
       "            New York Natural Gas Gross Withdrawals (MMcf)  \\\n",
       "Date                                                        \n",
       "1991-01-15                                         2041.0   \n",
       "1991-02-15                                         1820.0   \n",
       "1991-03-15                                         1983.0   \n",
       "1991-04-15                                         1881.0   \n",
       "1991-05-15                                         1865.0   \n",
       "\n",
       "            Oregon Natural Gas Gross Withdrawals (MMcf)  \\\n",
       "Date                                                      \n",
       "1991-01-15                                          NaN   \n",
       "1991-02-15                                          NaN   \n",
       "1991-03-15                                          NaN   \n",
       "1991-04-15                                          NaN   \n",
       "1991-05-15                                          NaN   \n",
       "\n",
       "            South Dakota Natural Gas Gross Withdrawals (MMcf)  \\\n",
       "Date                                                            \n",
       "1991-01-15                                              525.0   \n",
       "1991-02-15                                              421.0   \n",
       "1991-03-15                                              458.0   \n",
       "1991-04-15                                              445.0   \n",
       "1991-05-15                                              421.0   \n",
       "\n",
       "            Tennessee Natural Gas Gross Withdrawals (MMcf)  \\\n",
       "Date                                                         \n",
       "1991-01-15                                           165.0   \n",
       "1991-02-15                                           148.0   \n",
       "1991-03-15                                           161.0   \n",
       "1991-04-15                                           153.0   \n",
       "1991-05-15                                           152.0   \n",
       "\n",
       "            Virginia Natural Gas Gross Withdrawals (MMcf)  \n",
       "Date                                                       \n",
       "1991-01-15                                         1849.0  \n",
       "1991-02-15                                         1545.0  \n",
       "1991-03-15                                         1076.0  \n",
       "1991-04-15                                          906.0  \n",
       "1991-05-15                                          698.0  "
      ]
     },
     "execution_count": 13,
     "metadata": {},
     "output_type": "execute_result"
    }
   ],
   "source": [
    "import pandas as pd\n",
    "ngdf = pd.read_excel('../../data/processed/NG_PROD_SUM.xls',sheet_name=2,header = 2,index_col = 'Date', parse_dates=True)\n",
    "ngdf.head()"
   ]
  },
  {
   "cell_type": "code",
   "execution_count": 14,
   "metadata": {},
   "outputs": [
    {
     "data": {
      "text/html": [
       "<div>\n",
       "<style scoped>\n",
       "    .dataframe tbody tr th:only-of-type {\n",
       "        vertical-align: middle;\n",
       "    }\n",
       "\n",
       "    .dataframe tbody tr th {\n",
       "        vertical-align: top;\n",
       "    }\n",
       "\n",
       "    .dataframe thead th {\n",
       "        text-align: right;\n",
       "    }\n",
       "</style>\n",
       "<table border=\"1\" class=\"dataframe\">\n",
       "  <thead>\n",
       "    <tr style=\"text-align: right;\">\n",
       "      <th></th>\n",
       "      <th>Other</th>\n",
       "      <th>Alabama</th>\n",
       "      <th>Arizona</th>\n",
       "      <th>Florida</th>\n",
       "      <th>Idaho</th>\n",
       "      <th>Illinois</th>\n",
       "      <th>Indiana</th>\n",
       "      <th>Kentucky</th>\n",
       "      <th>Maryland</th>\n",
       "      <th>Michigan</th>\n",
       "      <th>Mississippi</th>\n",
       "      <th>Missouri</th>\n",
       "      <th>Nebraska</th>\n",
       "      <th>Nevada</th>\n",
       "      <th>New York</th>\n",
       "      <th>Oregon</th>\n",
       "      <th>South</th>\n",
       "      <th>Tennessee</th>\n",
       "      <th>Virginia</th>\n",
       "    </tr>\n",
       "    <tr>\n",
       "      <th>Date</th>\n",
       "      <th></th>\n",
       "      <th></th>\n",
       "      <th></th>\n",
       "      <th></th>\n",
       "      <th></th>\n",
       "      <th></th>\n",
       "      <th></th>\n",
       "      <th></th>\n",
       "      <th></th>\n",
       "      <th></th>\n",
       "      <th></th>\n",
       "      <th></th>\n",
       "      <th></th>\n",
       "      <th></th>\n",
       "      <th></th>\n",
       "      <th></th>\n",
       "      <th></th>\n",
       "      <th></th>\n",
       "      <th></th>\n",
       "    </tr>\n",
       "  </thead>\n",
       "  <tbody>\n",
       "    <tr>\n",
       "      <th>1991</th>\n",
       "      <td>797930</td>\n",
       "      <td>223875.0</td>\n",
       "      <td>0.0</td>\n",
       "      <td>3703.0</td>\n",
       "      <td>0.0</td>\n",
       "      <td>466.0</td>\n",
       "      <td>232.0</td>\n",
       "      <td>78905.0</td>\n",
       "      <td>29.0</td>\n",
       "      <td>201413.0</td>\n",
       "      <td>180771.0</td>\n",
       "      <td>15.0</td>\n",
       "      <td>782.0</td>\n",
       "      <td>53.0</td>\n",
       "      <td>22778.0</td>\n",
       "      <td>0.0</td>\n",
       "      <td>5804.0</td>\n",
       "      <td>1856.0</td>\n",
       "      <td>14906.0</td>\n",
       "    </tr>\n",
       "    <tr>\n",
       "      <th>1992</th>\n",
       "      <td>818233</td>\n",
       "      <td>413616.0</td>\n",
       "      <td>0.0</td>\n",
       "      <td>7584.0</td>\n",
       "      <td>0.0</td>\n",
       "      <td>348.0</td>\n",
       "      <td>173.0</td>\n",
       "      <td>79690.0</td>\n",
       "      <td>31.0</td>\n",
       "      <td>200479.0</td>\n",
       "      <td>165537.0</td>\n",
       "      <td>27.0</td>\n",
       "      <td>1177.0</td>\n",
       "      <td>30.0</td>\n",
       "      <td>23522.0</td>\n",
       "      <td>0.0</td>\n",
       "      <td>6963.0</td>\n",
       "      <td>1770.0</td>\n",
       "      <td>24733.0</td>\n",
       "    </tr>\n",
       "    <tr>\n",
       "      <th>1993</th>\n",
       "      <td>807040</td>\n",
       "      <td>446320.0</td>\n",
       "      <td>0.0</td>\n",
       "      <td>8011.0</td>\n",
       "      <td>0.0</td>\n",
       "      <td>338.0</td>\n",
       "      <td>191.0</td>\n",
       "      <td>86965.0</td>\n",
       "      <td>28.0</td>\n",
       "      <td>210298.0</td>\n",
       "      <td>145025.0</td>\n",
       "      <td>14.0</td>\n",
       "      <td>2115.0</td>\n",
       "      <td>23.0</td>\n",
       "      <td>21198.0</td>\n",
       "      <td>0.0</td>\n",
       "      <td>7058.0</td>\n",
       "      <td>1659.0</td>\n",
       "      <td>37839.0</td>\n",
       "    </tr>\n",
       "    <tr>\n",
       "      <th>1994</th>\n",
       "      <td>793263</td>\n",
       "      <td>578862.0</td>\n",
       "      <td>0.0</td>\n",
       "      <td>8469.0</td>\n",
       "      <td>0.0</td>\n",
       "      <td>333.0</td>\n",
       "      <td>106.0</td>\n",
       "      <td>73082.0</td>\n",
       "      <td>27.0</td>\n",
       "      <td>228321.0</td>\n",
       "      <td>121802.0</td>\n",
       "      <td>8.0</td>\n",
       "      <td>2899.0</td>\n",
       "      <td>12.0</td>\n",
       "      <td>20475.0</td>\n",
       "      <td>0.0</td>\n",
       "      <td>7264.0</td>\n",
       "      <td>1991.0</td>\n",
       "      <td>50262.0</td>\n",
       "    </tr>\n",
       "    <tr>\n",
       "      <th>1995</th>\n",
       "      <td>774977</td>\n",
       "      <td>580125.0</td>\n",
       "      <td>0.0</td>\n",
       "      <td>7132.0</td>\n",
       "      <td>0.0</td>\n",
       "      <td>334.0</td>\n",
       "      <td>249.0</td>\n",
       "      <td>74756.0</td>\n",
       "      <td>24.0</td>\n",
       "      <td>243865.0</td>\n",
       "      <td>119454.0</td>\n",
       "      <td>17.0</td>\n",
       "      <td>2239.0</td>\n",
       "      <td>12.0</td>\n",
       "      <td>18398.0</td>\n",
       "      <td>0.0</td>\n",
       "      <td>8375.0</td>\n",
       "      <td>1820.0</td>\n",
       "      <td>49817.0</td>\n",
       "    </tr>\n",
       "  </tbody>\n",
       "</table>\n",
       "</div>"
      ],
      "text/plain": [
       "       Other   Alabama  Arizona  Florida  Idaho  Illinois  Indiana  Kentucky  \\\n",
       "Date                                                                           \n",
       "1991  797930  223875.0      0.0   3703.0    0.0     466.0    232.0   78905.0   \n",
       "1992  818233  413616.0      0.0   7584.0    0.0     348.0    173.0   79690.0   \n",
       "1993  807040  446320.0      0.0   8011.0    0.0     338.0    191.0   86965.0   \n",
       "1994  793263  578862.0      0.0   8469.0    0.0     333.0    106.0   73082.0   \n",
       "1995  774977  580125.0      0.0   7132.0    0.0     334.0    249.0   74756.0   \n",
       "\n",
       "      Maryland  Michigan  Mississippi  Missouri  Nebraska  Nevada  New York  \\\n",
       "Date                                                                          \n",
       "1991      29.0  201413.0     180771.0      15.0     782.0    53.0   22778.0   \n",
       "1992      31.0  200479.0     165537.0      27.0    1177.0    30.0   23522.0   \n",
       "1993      28.0  210298.0     145025.0      14.0    2115.0    23.0   21198.0   \n",
       "1994      27.0  228321.0     121802.0       8.0    2899.0    12.0   20475.0   \n",
       "1995      24.0  243865.0     119454.0      17.0    2239.0    12.0   18398.0   \n",
       "\n",
       "      Oregon   South  Tennessee  Virginia  \n",
       "Date                                       \n",
       "1991     0.0  5804.0     1856.0   14906.0  \n",
       "1992     0.0  6963.0     1770.0   24733.0  \n",
       "1993     0.0  7058.0     1659.0   37839.0  \n",
       "1994     0.0  7264.0     1991.0   50262.0  \n",
       "1995     0.0  8375.0     1820.0   49817.0  "
      ]
     },
     "execution_count": 14,
     "metadata": {},
     "output_type": "execute_result"
    }
   ],
   "source": [
    "ngdf.columns = [c[:c.find(' ',5)] for c in ngdf.columns]\n",
    "ngdf = ngdf.resample('A').sum()\n",
    "ngdf.index = ngdf.index.year\n",
    "ngdf.head()"
   ]
  },
  {
   "cell_type": "markdown",
   "metadata": {},
   "source": [
    "To create a vertical bar chart we can use `.vbar()`. But first we need to create a figure and pass in what is going to be displayed on x-axis."
   ]
  },
  {
   "cell_type": "code",
   "execution_count": 15,
   "metadata": {},
   "outputs": [],
   "source": [
    "p = figure(x_range = ngdf.columns.to_list(), plot_height = 500, title = 'Natural Gas production by state in 2015')\n"
   ]
  },
  {
   "cell_type": "markdown",
   "metadata": {},
   "source": [
    "Now we use `p.vbar()` and pass in the x values, which are the name of the states. We can pass in the location of top of the bars (bar heights) as top."
   ]
  },
  {
   "cell_type": "code",
   "execution_count": 16,
   "metadata": {},
   "outputs": [
    {
     "data": {
      "text/html": [
       "\n",
       "\n",
       "\n",
       "\n",
       "\n",
       "\n",
       "  <div class=\"bk-root\" id=\"e1a77833-6ec4-4ffd-a95b-2103d09de9d6\" data-root-id=\"1789\"></div>\n"
      ]
     },
     "metadata": {},
     "output_type": "display_data"
    },
    {
     "data": {
      "application/javascript": [
       "(function(root) {\n",
       "  function embed_document(root) {\n",
       "    \n",
       "  var docs_json = {\"a7f8d6be-0350-45d6-a1db-952e152452bd\":{\"roots\":{\"references\":[{\"attributes\":{\"below\":[{\"id\":\"1800\",\"type\":\"CategoricalAxis\"}],\"center\":[{\"id\":\"1803\",\"type\":\"Grid\"},{\"id\":\"1808\",\"type\":\"Grid\"}],\"left\":[{\"id\":\"1804\",\"type\":\"LinearAxis\"}],\"plot_height\":500,\"renderers\":[{\"id\":\"1825\",\"type\":\"GlyphRenderer\"}],\"title\":{\"id\":\"1790\",\"type\":\"Title\"},\"toolbar\":{\"id\":\"1815\",\"type\":\"Toolbar\"},\"x_range\":{\"id\":\"1792\",\"type\":\"FactorRange\"},\"x_scale\":{\"id\":\"1796\",\"type\":\"CategoricalScale\"},\"y_range\":{\"id\":\"1794\",\"type\":\"DataRange1d\"},\"y_scale\":{\"id\":\"1798\",\"type\":\"LinearScale\"}},\"id\":\"1789\",\"subtype\":\"Figure\",\"type\":\"Plot\"},{\"attributes\":{\"overlay\":{\"id\":\"1887\",\"type\":\"BoxAnnotation\"}},\"id\":\"1811\",\"type\":\"BoxZoomTool\"},{\"attributes\":{\"fill_alpha\":{\"value\":0.1},\"fill_color\":{\"value\":\"#1f77b4\"},\"line_alpha\":{\"value\":0.1},\"line_color\":{\"value\":\"#1f77b4\"},\"top\":{\"field\":\"top\"},\"width\":{\"value\":0.5},\"x\":{\"field\":\"x\"}},\"id\":\"1824\",\"type\":\"VBar\"},{\"attributes\":{},\"id\":\"1809\",\"type\":\"PanTool\"},{\"attributes\":{},\"id\":\"1812\",\"type\":\"SaveTool\"},{\"attributes\":{},\"id\":\"1805\",\"type\":\"BasicTicker\"},{\"attributes\":{},\"id\":\"1813\",\"type\":\"ResetTool\"},{\"attributes\":{\"data_source\":{\"id\":\"1822\",\"type\":\"ColumnDataSource\"},\"glyph\":{\"id\":\"1823\",\"type\":\"VBar\"},\"hover_glyph\":null,\"muted_glyph\":null,\"nonselection_glyph\":{\"id\":\"1824\",\"type\":\"VBar\"},\"selection_glyph\":null,\"view\":{\"id\":\"1826\",\"type\":\"CDSView\"}},\"id\":\"1825\",\"type\":\"GlyphRenderer\"},{\"attributes\":{\"callback\":null},\"id\":\"1794\",\"type\":\"DataRange1d\"},{\"attributes\":{\"formatter\":{\"id\":\"1884\",\"type\":\"BasicTickFormatter\"},\"ticker\":{\"id\":\"1805\",\"type\":\"BasicTicker\"}},\"id\":\"1804\",\"type\":\"LinearAxis\"},{\"attributes\":{\"source\":{\"id\":\"1822\",\"type\":\"ColumnDataSource\"}},\"id\":\"1826\",\"type\":\"CDSView\"},{\"attributes\":{},\"id\":\"1810\",\"type\":\"WheelZoomTool\"},{\"attributes\":{},\"id\":\"1814\",\"type\":\"HelpTool\"},{\"attributes\":{\"active_drag\":\"auto\",\"active_inspect\":\"auto\",\"active_multi\":null,\"active_scroll\":\"auto\",\"active_tap\":\"auto\",\"tools\":[{\"id\":\"1809\",\"type\":\"PanTool\"},{\"id\":\"1810\",\"type\":\"WheelZoomTool\"},{\"id\":\"1811\",\"type\":\"BoxZoomTool\"},{\"id\":\"1812\",\"type\":\"SaveTool\"},{\"id\":\"1813\",\"type\":\"ResetTool\"},{\"id\":\"1814\",\"type\":\"HelpTool\"}]},\"id\":\"1815\",\"type\":\"Toolbar\"},{\"attributes\":{},\"id\":\"1886\",\"type\":\"Selection\"},{\"attributes\":{\"bottom_units\":\"screen\",\"fill_alpha\":{\"value\":0.5},\"fill_color\":{\"value\":\"lightgrey\"},\"left_units\":\"screen\",\"level\":\"overlay\",\"line_alpha\":{\"value\":1.0},\"line_color\":{\"value\":\"black\"},\"line_dash\":[4,4],\"line_width\":{\"value\":2},\"render_mode\":\"css\",\"right_units\":\"screen\",\"top_units\":\"screen\"},\"id\":\"1887\",\"type\":\"BoxAnnotation\"},{\"attributes\":{},\"id\":\"1796\",\"type\":\"CategoricalScale\"},{\"attributes\":{},\"id\":\"1881\",\"type\":\"CategoricalTickFormatter\"},{\"attributes\":{\"fill_color\":{\"value\":\"#1f77b4\"},\"line_color\":{\"value\":\"#1f77b4\"},\"top\":{\"field\":\"top\"},\"width\":{\"value\":0.5},\"x\":{\"field\":\"x\"}},\"id\":\"1823\",\"type\":\"VBar\"},{\"attributes\":{\"formatter\":{\"id\":\"1881\",\"type\":\"CategoricalTickFormatter\"},\"ticker\":{\"id\":\"1801\",\"type\":\"CategoricalTicker\"}},\"id\":\"1800\",\"type\":\"CategoricalAxis\"},{\"attributes\":{\"ticker\":{\"id\":\"1801\",\"type\":\"CategoricalTicker\"}},\"id\":\"1803\",\"type\":\"Grid\"},{\"attributes\":{\"callback\":null,\"factors\":[\"Other\",\"Alabama\",\"Arizona\",\"Florida\",\"Idaho\",\"Illinois\",\"Indiana\",\"Kentucky\",\"Maryland\",\"Michigan\",\"Mississippi\",\"Missouri\",\"Nebraska\",\"Nevada\",\"New York\",\"Oregon\",\"South\",\"Tennessee\",\"Virginia\"]},\"id\":\"1792\",\"type\":\"FactorRange\"},{\"attributes\":{\"callback\":null,\"data\":{\"top\":{\"__ndarray__\":\"AAAAADioIkEAAAAAuIkEQQAAAAAAgFdAAAAAAACdtkAAAAAAANyQQAAAAAAAQKBAAAAAAABRvEAAAAAAQGr3QAAAAAAAgEJAAAAAACBJ+kAAAAAAoGjsQAAAAAAAAAAAAAAAAADQfUAAAAAAAAAAQAAAAACA6tBAAAAAAACAikAAAAAAAFfMQAAAAAAAsbBAAAAAADAm/0A=\",\"dtype\":\"float64\",\"shape\":[19]},\"x\":[\"Other\",\"Alabama\",\"Arizona\",\"Florida\",\"Idaho\",\"Illinois\",\"Indiana\",\"Kentucky\",\"Maryland\",\"Michigan\",\"Mississippi\",\"Missouri\",\"Nebraska\",\"Nevada\",\"New York\",\"Oregon\",\"South\",\"Tennessee\",\"Virginia\"]},\"selected\":{\"id\":\"1886\",\"type\":\"Selection\"},\"selection_policy\":{\"id\":\"1885\",\"type\":\"UnionRenderers\"}},\"id\":\"1822\",\"type\":\"ColumnDataSource\"},{\"attributes\":{},\"id\":\"1885\",\"type\":\"UnionRenderers\"},{\"attributes\":{\"text\":\"Natural Gas production by state in 2015\"},\"id\":\"1790\",\"type\":\"Title\"},{\"attributes\":{},\"id\":\"1801\",\"type\":\"CategoricalTicker\"},{\"attributes\":{},\"id\":\"1884\",\"type\":\"BasicTickFormatter\"},{\"attributes\":{},\"id\":\"1798\",\"type\":\"LinearScale\"},{\"attributes\":{\"dimension\":1,\"ticker\":{\"id\":\"1805\",\"type\":\"BasicTicker\"}},\"id\":\"1808\",\"type\":\"Grid\"}],\"root_ids\":[\"1789\"]},\"title\":\"Bokeh Application\",\"version\":\"1.4.0\"}};\n",
       "  var render_items = [{\"docid\":\"a7f8d6be-0350-45d6-a1db-952e152452bd\",\"roots\":{\"1789\":\"e1a77833-6ec4-4ffd-a95b-2103d09de9d6\"}}];\n",
       "  root.Bokeh.embed.embed_items_notebook(docs_json, render_items);\n",
       "\n",
       "  }\n",
       "  if (root.Bokeh !== undefined) {\n",
       "    embed_document(root);\n",
       "  } else {\n",
       "    var attempts = 0;\n",
       "    var timer = setInterval(function(root) {\n",
       "      if (root.Bokeh !== undefined) {\n",
       "        clearInterval(timer);\n",
       "        embed_document(root);\n",
       "      } else {\n",
       "        attempts++;\n",
       "        if (attempts > 100) {\n",
       "          clearInterval(timer);\n",
       "          console.log(\"Bokeh: ERROR: Unable to run BokehJS code because BokehJS library is missing\");\n",
       "        }\n",
       "      }\n",
       "    }, 10, root)\n",
       "  }\n",
       "})(window);"
      ],
      "application/vnd.bokehjs_exec.v0+json": ""
     },
     "metadata": {
      "application/vnd.bokehjs_exec.v0+json": {
       "id": "1789"
      }
     },
     "output_type": "display_data"
    }
   ],
   "source": [
    "p.vbar(x = ngdf.columns.to_list(),\n",
    "       top = ngdf.loc[2015,:].values, \n",
    "       width = .5)\n",
    "show(p)"
   ]
  },
  {
   "cell_type": "code",
   "execution_count": 17,
   "metadata": {
    "scrolled": false
   },
   "outputs": [
    {
     "data": {
      "text/html": [
       "\n",
       "\n",
       "\n",
       "\n",
       "\n",
       "\n",
       "  <div class=\"bk-root\" id=\"3048ff71-072c-42d4-87d3-fc1daebe49b8\" data-root-id=\"1789\"></div>\n"
      ]
     },
     "metadata": {},
     "output_type": "display_data"
    },
    {
     "data": {
      "application/javascript": [
       "(function(root) {\n",
       "  function embed_document(root) {\n",
       "    \n",
       "  var docs_json = {\"ea7f47f6-8993-45a9-8038-f4c46dc1a7af\":{\"roots\":{\"references\":[{\"attributes\":{\"below\":[{\"id\":\"1800\",\"type\":\"CategoricalAxis\"}],\"center\":[{\"id\":\"1803\",\"type\":\"Grid\"},{\"id\":\"1808\",\"type\":\"Grid\"}],\"left\":[{\"id\":\"1804\",\"type\":\"LinearAxis\"}],\"plot_height\":500,\"renderers\":[{\"id\":\"1825\",\"type\":\"GlyphRenderer\"}],\"title\":{\"id\":\"1790\",\"type\":\"Title\"},\"toolbar\":{\"id\":\"1815\",\"type\":\"Toolbar\"},\"x_range\":{\"id\":\"1792\",\"type\":\"FactorRange\"},\"x_scale\":{\"id\":\"1796\",\"type\":\"CategoricalScale\"},\"y_range\":{\"id\":\"1794\",\"type\":\"DataRange1d\"},\"y_scale\":{\"id\":\"1798\",\"type\":\"LinearScale\"}},\"id\":\"1789\",\"subtype\":\"Figure\",\"type\":\"Plot\"},{\"attributes\":{\"overlay\":{\"id\":\"1887\",\"type\":\"BoxAnnotation\"}},\"id\":\"1811\",\"type\":\"BoxZoomTool\"},{\"attributes\":{\"fill_alpha\":{\"value\":0.1},\"fill_color\":{\"value\":\"#1f77b4\"},\"line_alpha\":{\"value\":0.1},\"line_color\":{\"value\":\"#1f77b4\"},\"top\":{\"field\":\"top\"},\"width\":{\"value\":0.5},\"x\":{\"field\":\"x\"}},\"id\":\"1824\",\"type\":\"VBar\"},{\"attributes\":{},\"id\":\"1809\",\"type\":\"PanTool\"},{\"attributes\":{},\"id\":\"1812\",\"type\":\"SaveTool\"},{\"attributes\":{},\"id\":\"1805\",\"type\":\"BasicTicker\"},{\"attributes\":{},\"id\":\"1813\",\"type\":\"ResetTool\"},{\"attributes\":{\"data_source\":{\"id\":\"1822\",\"type\":\"ColumnDataSource\"},\"glyph\":{\"id\":\"1823\",\"type\":\"VBar\"},\"hover_glyph\":null,\"muted_glyph\":null,\"nonselection_glyph\":{\"id\":\"1824\",\"type\":\"VBar\"},\"selection_glyph\":null,\"view\":{\"id\":\"1826\",\"type\":\"CDSView\"}},\"id\":\"1825\",\"type\":\"GlyphRenderer\"},{\"attributes\":{\"callback\":null},\"id\":\"1794\",\"type\":\"DataRange1d\"},{\"attributes\":{\"formatter\":{\"id\":\"1936\",\"type\":\"PrintfTickFormatter\"},\"ticker\":{\"id\":\"1805\",\"type\":\"BasicTicker\"}},\"id\":\"1804\",\"type\":\"LinearAxis\"},{\"attributes\":{\"source\":{\"id\":\"1822\",\"type\":\"ColumnDataSource\"}},\"id\":\"1826\",\"type\":\"CDSView\"},{\"attributes\":{},\"id\":\"1810\",\"type\":\"WheelZoomTool\"},{\"attributes\":{},\"id\":\"1814\",\"type\":\"HelpTool\"},{\"attributes\":{\"active_drag\":\"auto\",\"active_inspect\":\"auto\",\"active_multi\":null,\"active_scroll\":\"auto\",\"active_tap\":\"auto\",\"tools\":[{\"id\":\"1809\",\"type\":\"PanTool\"},{\"id\":\"1810\",\"type\":\"WheelZoomTool\"},{\"id\":\"1811\",\"type\":\"BoxZoomTool\"},{\"id\":\"1812\",\"type\":\"SaveTool\"},{\"id\":\"1813\",\"type\":\"ResetTool\"},{\"id\":\"1814\",\"type\":\"HelpTool\"}]},\"id\":\"1815\",\"type\":\"Toolbar\"},{\"attributes\":{},\"id\":\"1886\",\"type\":\"Selection\"},{\"attributes\":{\"bottom_units\":\"screen\",\"fill_alpha\":{\"value\":0.5},\"fill_color\":{\"value\":\"lightgrey\"},\"left_units\":\"screen\",\"level\":\"overlay\",\"line_alpha\":{\"value\":1.0},\"line_color\":{\"value\":\"black\"},\"line_dash\":[4,4],\"line_width\":{\"value\":2},\"render_mode\":\"css\",\"right_units\":\"screen\",\"top_units\":\"screen\"},\"id\":\"1887\",\"type\":\"BoxAnnotation\"},{\"attributes\":{},\"id\":\"1796\",\"type\":\"CategoricalScale\"},{\"attributes\":{},\"id\":\"1881\",\"type\":\"CategoricalTickFormatter\"},{\"attributes\":{\"fill_color\":{\"value\":\"#1f77b4\"},\"line_color\":{\"value\":\"#1f77b4\"},\"top\":{\"field\":\"top\"},\"width\":{\"value\":0.5},\"x\":{\"field\":\"x\"}},\"id\":\"1823\",\"type\":\"VBar\"},{\"attributes\":{\"format\":\"%d\"},\"id\":\"1936\",\"type\":\"PrintfTickFormatter\"},{\"attributes\":{\"formatter\":{\"id\":\"1881\",\"type\":\"CategoricalTickFormatter\"},\"major_label_orientation\":1.0471975511965976,\"ticker\":{\"id\":\"1801\",\"type\":\"CategoricalTicker\"}},\"id\":\"1800\",\"type\":\"CategoricalAxis\"},{\"attributes\":{\"grid_line_color\":null,\"ticker\":{\"id\":\"1801\",\"type\":\"CategoricalTicker\"}},\"id\":\"1803\",\"type\":\"Grid\"},{\"attributes\":{\"callback\":null,\"factors\":[\"Other\",\"Alabama\",\"Arizona\",\"Florida\",\"Idaho\",\"Illinois\",\"Indiana\",\"Kentucky\",\"Maryland\",\"Michigan\",\"Mississippi\",\"Missouri\",\"Nebraska\",\"Nevada\",\"New York\",\"Oregon\",\"South\",\"Tennessee\",\"Virginia\"]},\"id\":\"1792\",\"type\":\"FactorRange\"},{\"attributes\":{\"callback\":null,\"data\":{\"top\":{\"__ndarray__\":\"AAAAADioIkEAAAAAuIkEQQAAAAAAgFdAAAAAAACdtkAAAAAAANyQQAAAAAAAQKBAAAAAAABRvEAAAAAAQGr3QAAAAAAAgEJAAAAAACBJ+kAAAAAAoGjsQAAAAAAAAAAAAAAAAADQfUAAAAAAAAAAQAAAAACA6tBAAAAAAACAikAAAAAAAFfMQAAAAAAAsbBAAAAAADAm/0A=\",\"dtype\":\"float64\",\"shape\":[19]},\"x\":[\"Other\",\"Alabama\",\"Arizona\",\"Florida\",\"Idaho\",\"Illinois\",\"Indiana\",\"Kentucky\",\"Maryland\",\"Michigan\",\"Mississippi\",\"Missouri\",\"Nebraska\",\"Nevada\",\"New York\",\"Oregon\",\"South\",\"Tennessee\",\"Virginia\"]},\"selected\":{\"id\":\"1886\",\"type\":\"Selection\"},\"selection_policy\":{\"id\":\"1885\",\"type\":\"UnionRenderers\"}},\"id\":\"1822\",\"type\":\"ColumnDataSource\"},{\"attributes\":{},\"id\":\"1885\",\"type\":\"UnionRenderers\"},{\"attributes\":{\"text\":\"Natural Gas production by state in 2015\"},\"id\":\"1790\",\"type\":\"Title\"},{\"attributes\":{},\"id\":\"1801\",\"type\":\"CategoricalTicker\"},{\"attributes\":{},\"id\":\"1798\",\"type\":\"LinearScale\"},{\"attributes\":{\"dimension\":1,\"ticker\":{\"id\":\"1805\",\"type\":\"BasicTicker\"}},\"id\":\"1808\",\"type\":\"Grid\"}],\"root_ids\":[\"1789\"]},\"title\":\"Bokeh Application\",\"version\":\"1.4.0\"}};\n",
       "  var render_items = [{\"docid\":\"ea7f47f6-8993-45a9-8038-f4c46dc1a7af\",\"roots\":{\"1789\":\"3048ff71-072c-42d4-87d3-fc1daebe49b8\"}}];\n",
       "  root.Bokeh.embed.embed_items_notebook(docs_json, render_items);\n",
       "\n",
       "  }\n",
       "  if (root.Bokeh !== undefined) {\n",
       "    embed_document(root);\n",
       "  } else {\n",
       "    var attempts = 0;\n",
       "    var timer = setInterval(function(root) {\n",
       "      if (root.Bokeh !== undefined) {\n",
       "        clearInterval(timer);\n",
       "        embed_document(root);\n",
       "      } else {\n",
       "        attempts++;\n",
       "        if (attempts > 100) {\n",
       "          clearInterval(timer);\n",
       "          console.log(\"Bokeh: ERROR: Unable to run BokehJS code because BokehJS library is missing\");\n",
       "        }\n",
       "      }\n",
       "    }, 10, root)\n",
       "  }\n",
       "})(window);"
      ],
      "application/vnd.bokehjs_exec.v0+json": ""
     },
     "metadata": {
      "application/vnd.bokehjs_exec.v0+json": {
       "id": "1789"
      }
     },
     "output_type": "display_data"
    }
   ],
   "source": [
    "from bokeh.models import PrintfTickFormatter\n",
    "\n",
    "p.xgrid.grid_line_color = None # remove the vertical grid lines\n",
    "p.xaxis.major_label_orientation = np.pi/3 # Angle of x-axis tick labels (angle is in gradian)\n",
    "p.yaxis.formatter = PrintfTickFormatter(format = \"%d\") # Change tick values formatting to be shown as full numbers\n",
    "show(p)"
   ]
  },
  {
   "cell_type": "markdown",
   "metadata": {},
   "source": [
    "Similarly you can create a horizontal bar chart."
   ]
  },
  {
   "cell_type": "code",
   "execution_count": 18,
   "metadata": {},
   "outputs": [
    {
     "data": {
      "text/html": [
       "\n",
       "\n",
       "\n",
       "\n",
       "\n",
       "\n",
       "  <div class=\"bk-root\" id=\"69a3d2f5-69a9-4bf0-923c-952ed20085bb\" data-root-id=\"2040\"></div>\n"
      ]
     },
     "metadata": {},
     "output_type": "display_data"
    },
    {
     "data": {
      "application/javascript": [
       "(function(root) {\n",
       "  function embed_document(root) {\n",
       "    \n",
       "  var docs_json = {\"31f9c028-5d7e-4315-ac1d-5954785d9809\":{\"roots\":{\"references\":[{\"attributes\":{\"below\":[{\"id\":\"2051\",\"type\":\"LinearAxis\"}],\"center\":[{\"id\":\"2055\",\"type\":\"Grid\"},{\"id\":\"2059\",\"type\":\"Grid\"}],\"left\":[{\"id\":\"2056\",\"type\":\"CategoricalAxis\"}],\"plot_height\":500,\"renderers\":[{\"id\":\"2076\",\"type\":\"GlyphRenderer\"}],\"title\":{\"id\":\"2041\",\"type\":\"Title\"},\"toolbar\":{\"id\":\"2066\",\"type\":\"Toolbar\"},\"x_range\":{\"id\":\"2043\",\"type\":\"DataRange1d\"},\"x_scale\":{\"id\":\"2047\",\"type\":\"LinearScale\"},\"y_range\":{\"id\":\"2045\",\"type\":\"FactorRange\"},\"y_scale\":{\"id\":\"2049\",\"type\":\"CategoricalScale\"}},\"id\":\"2040\",\"subtype\":\"Figure\",\"type\":\"Plot\"},{\"attributes\":{\"callback\":null,\"factors\":[\"Other\",\"Alabama\",\"Arizona\",\"Florida\",\"Idaho\",\"Illinois\",\"Indiana\",\"Kentucky\",\"Maryland\",\"Michigan\",\"Mississippi\",\"Missouri\",\"Nebraska\",\"Nevada\",\"New York\",\"Oregon\",\"South\",\"Tennessee\",\"Virginia\"]},\"id\":\"2045\",\"type\":\"FactorRange\"},{\"attributes\":{\"callback\":null},\"id\":\"2043\",\"type\":\"DataRange1d\"},{\"attributes\":{\"overlay\":{\"id\":\"2146\",\"type\":\"BoxAnnotation\"}},\"id\":\"2062\",\"type\":\"BoxZoomTool\"},{\"attributes\":{},\"id\":\"2063\",\"type\":\"SaveTool\"},{\"attributes\":{},\"id\":\"2047\",\"type\":\"LinearScale\"},{\"attributes\":{},\"id\":\"2049\",\"type\":\"CategoricalScale\"},{\"attributes\":{},\"id\":\"2064\",\"type\":\"ResetTool\"},{\"attributes\":{},\"id\":\"2065\",\"type\":\"HelpTool\"},{\"attributes\":{\"bottom_units\":\"screen\",\"fill_alpha\":{\"value\":0.5},\"fill_color\":{\"value\":\"lightgrey\"},\"left_units\":\"screen\",\"level\":\"overlay\",\"line_alpha\":{\"value\":1.0},\"line_color\":{\"value\":\"black\"},\"line_dash\":[4,4],\"line_width\":{\"value\":2},\"render_mode\":\"css\",\"right_units\":\"screen\",\"top_units\":\"screen\"},\"id\":\"2146\",\"type\":\"BoxAnnotation\"},{\"attributes\":{\"active_drag\":\"auto\",\"active_inspect\":\"auto\",\"active_multi\":null,\"active_scroll\":\"auto\",\"active_tap\":\"auto\",\"tools\":[{\"id\":\"2060\",\"type\":\"PanTool\"},{\"id\":\"2061\",\"type\":\"WheelZoomTool\"},{\"id\":\"2062\",\"type\":\"BoxZoomTool\"},{\"id\":\"2063\",\"type\":\"SaveTool\"},{\"id\":\"2064\",\"type\":\"ResetTool\"},{\"id\":\"2065\",\"type\":\"HelpTool\"}]},\"id\":\"2066\",\"type\":\"Toolbar\"},{\"attributes\":{\"formatter\":{\"id\":\"2078\",\"type\":\"PrintfTickFormatter\"},\"ticker\":{\"id\":\"2052\",\"type\":\"BasicTicker\"}},\"id\":\"2051\",\"type\":\"LinearAxis\"},{\"attributes\":{},\"id\":\"2057\",\"type\":\"CategoricalTicker\"},{\"attributes\":{},\"id\":\"2052\",\"type\":\"BasicTicker\"},{\"attributes\":{\"ticker\":{\"id\":\"2052\",\"type\":\"BasicTicker\"}},\"id\":\"2055\",\"type\":\"Grid\"},{\"attributes\":{\"dimension\":1,\"grid_line_color\":null,\"ticker\":{\"id\":\"2057\",\"type\":\"CategoricalTicker\"}},\"id\":\"2059\",\"type\":\"Grid\"},{\"attributes\":{\"format\":\"%d\"},\"id\":\"2078\",\"type\":\"PrintfTickFormatter\"},{\"attributes\":{},\"id\":\"2144\",\"type\":\"UnionRenderers\"},{\"attributes\":{\"formatter\":{\"id\":\"2142\",\"type\":\"CategoricalTickFormatter\"},\"ticker\":{\"id\":\"2057\",\"type\":\"CategoricalTicker\"}},\"id\":\"2056\",\"type\":\"CategoricalAxis\"},{\"attributes\":{\"data_source\":{\"id\":\"2073\",\"type\":\"ColumnDataSource\"},\"glyph\":{\"id\":\"2074\",\"type\":\"HBar\"},\"hover_glyph\":null,\"muted_glyph\":null,\"nonselection_glyph\":{\"id\":\"2075\",\"type\":\"HBar\"},\"selection_glyph\":null,\"view\":{\"id\":\"2077\",\"type\":\"CDSView\"}},\"id\":\"2076\",\"type\":\"GlyphRenderer\"},{\"attributes\":{\"fill_color\":{\"value\":\"#1f77b4\"},\"height\":{\"value\":0.5},\"line_color\":{\"value\":\"#1f77b4\"},\"right\":{\"field\":\"right\"},\"y\":{\"field\":\"y\"}},\"id\":\"2074\",\"type\":\"HBar\"},{\"attributes\":{},\"id\":\"2142\",\"type\":\"CategoricalTickFormatter\"},{\"attributes\":{},\"id\":\"2145\",\"type\":\"Selection\"},{\"attributes\":{\"source\":{\"id\":\"2073\",\"type\":\"ColumnDataSource\"}},\"id\":\"2077\",\"type\":\"CDSView\"},{\"attributes\":{\"callback\":null,\"data\":{\"right\":{\"__ndarray__\":\"AAAAADioIkEAAAAAuIkEQQAAAAAAgFdAAAAAAACdtkAAAAAAANyQQAAAAAAAQKBAAAAAAABRvEAAAAAAQGr3QAAAAAAAgEJAAAAAACBJ+kAAAAAAoGjsQAAAAAAAAAAAAAAAAADQfUAAAAAAAAAAQAAAAACA6tBAAAAAAACAikAAAAAAAFfMQAAAAAAAsbBAAAAAADAm/0A=\",\"dtype\":\"float64\",\"shape\":[19]},\"y\":[\"Other\",\"Alabama\",\"Arizona\",\"Florida\",\"Idaho\",\"Illinois\",\"Indiana\",\"Kentucky\",\"Maryland\",\"Michigan\",\"Mississippi\",\"Missouri\",\"Nebraska\",\"Nevada\",\"New York\",\"Oregon\",\"South\",\"Tennessee\",\"Virginia\"]},\"selected\":{\"id\":\"2145\",\"type\":\"Selection\"},\"selection_policy\":{\"id\":\"2144\",\"type\":\"UnionRenderers\"}},\"id\":\"2073\",\"type\":\"ColumnDataSource\"},{\"attributes\":{},\"id\":\"2060\",\"type\":\"PanTool\"},{\"attributes\":{\"fill_alpha\":{\"value\":0.1},\"fill_color\":{\"value\":\"#1f77b4\"},\"height\":{\"value\":0.5},\"line_alpha\":{\"value\":0.1},\"line_color\":{\"value\":\"#1f77b4\"},\"right\":{\"field\":\"right\"},\"y\":{\"field\":\"y\"}},\"id\":\"2075\",\"type\":\"HBar\"},{\"attributes\":{},\"id\":\"2061\",\"type\":\"WheelZoomTool\"},{\"attributes\":{\"text\":\"Natural Gas production by state in 2015\"},\"id\":\"2041\",\"type\":\"Title\"}],\"root_ids\":[\"2040\"]},\"title\":\"Bokeh Application\",\"version\":\"1.4.0\"}};\n",
       "  var render_items = [{\"docid\":\"31f9c028-5d7e-4315-ac1d-5954785d9809\",\"roots\":{\"2040\":\"69a3d2f5-69a9-4bf0-923c-952ed20085bb\"}}];\n",
       "  root.Bokeh.embed.embed_items_notebook(docs_json, render_items);\n",
       "\n",
       "  }\n",
       "  if (root.Bokeh !== undefined) {\n",
       "    embed_document(root);\n",
       "  } else {\n",
       "    var attempts = 0;\n",
       "    var timer = setInterval(function(root) {\n",
       "      if (root.Bokeh !== undefined) {\n",
       "        clearInterval(timer);\n",
       "        embed_document(root);\n",
       "      } else {\n",
       "        attempts++;\n",
       "        if (attempts > 100) {\n",
       "          clearInterval(timer);\n",
       "          console.log(\"Bokeh: ERROR: Unable to run BokehJS code because BokehJS library is missing\");\n",
       "        }\n",
       "      }\n",
       "    }, 10, root)\n",
       "  }\n",
       "})(window);"
      ],
      "application/vnd.bokehjs_exec.v0+json": ""
     },
     "metadata": {
      "application/vnd.bokehjs_exec.v0+json": {
       "id": "2040"
      }
     },
     "output_type": "display_data"
    }
   ],
   "source": [
    "p = figure(y_range = ngdf.columns.to_list(), plot_height = 500, title = 'Natural Gas production by state in 2015')\n",
    "p.hbar(y = ngdf.columns.to_list(),\n",
    "       right = ngdf.loc[2015,:].values, \n",
    "       height = .5)\n",
    "p.ygrid.grid_line_color = None # remove the vertical grid lines\n",
    "p.xaxis.formatter = PrintfTickFormatter(format = \"%d\") # Change tick values formatting to be shown as full numbers\n",
    "show(p)"
   ]
  },
  {
   "cell_type": "markdown",
   "metadata": {},
   "source": [
    "Note the difference between the codes for vertical and horizontal bar charts. In vertical we had to specify `top`, but in horizontal we specified `right`. Also `x` and `y` are swapped."
   ]
  },
  {
   "cell_type": "markdown",
   "metadata": {},
   "source": [
    "## Stacked Bar\n",
    "When we want to have multiple bars stacked over each other. The way this plot is done is slightly different from nromal bar charts. For this plot we need have a list of data for each group of bars in a python dictionary. Let's see it through an example."
   ]
  },
  {
   "cell_type": "markdown",
   "metadata": {},
   "source": [
    "We want to create a horizontal stacked bar chart of natural gas production from 2015 to 2018. So we put the years in a list so we can use them to get the data for each year from the data frame."
   ]
  },
  {
   "cell_type": "code",
   "execution_count": 19,
   "metadata": {},
   "outputs": [],
   "source": [
    "years = [2015,2016,2017,2018]"
   ]
  },
  {
   "cell_type": "markdown",
   "metadata": {},
   "source": [
    "But when we want to pass in a list of years to the plot, bokeh needs them to be in string format. Therefore, we create a list of years in string format."
   ]
  },
  {
   "cell_type": "code",
   "execution_count": 20,
   "metadata": {},
   "outputs": [],
   "source": [
    "yrs_str = [str(y) for y in years]"
   ]
  },
  {
   "cell_type": "markdown",
   "metadata": {},
   "source": [
    "Now we create the input data by first adding a list of states, and then adding to it a list of values for each year."
   ]
  },
  {
   "cell_type": "code",
   "execution_count": 21,
   "metadata": {},
   "outputs": [],
   "source": [
    "data = {'States': ngdf.columns.to_list()}\n",
    "data.update( {str(y):ngdf.loc[y,:].values for y in years})"
   ]
  },
  {
   "cell_type": "markdown",
   "metadata": {},
   "source": [
    "__Note:__ The input data is a python dictionary. Also, years are stored in string format."
   ]
  },
  {
   "cell_type": "markdown",
   "metadata": {},
   "source": [
    "Now we can pass in the data to the plot."
   ]
  },
  {
   "cell_type": "code",
   "execution_count": 22,
   "metadata": {},
   "outputs": [
    {
     "data": {
      "text/html": [
       "\n",
       "\n",
       "\n",
       "\n",
       "\n",
       "\n",
       "  <div class=\"bk-root\" id=\"f0be3bc6-2e98-426b-95c1-f5e67eac7b71\" data-root-id=\"2189\"></div>\n"
      ]
     },
     "metadata": {},
     "output_type": "display_data"
    },
    {
     "data": {
      "application/javascript": [
       "(function(root) {\n",
       "  function embed_document(root) {\n",
       "    \n",
       "  var docs_json = {\"25f7235c-1edc-4346-ab56-ae3d159f392d\":{\"roots\":{\"references\":[{\"attributes\":{\"below\":[{\"id\":\"2200\",\"type\":\"LinearAxis\"}],\"center\":[{\"id\":\"2204\",\"type\":\"Grid\"},{\"id\":\"2208\",\"type\":\"Grid\"},{\"id\":\"2242\",\"type\":\"Legend\"}],\"left\":[{\"id\":\"2205\",\"type\":\"CategoricalAxis\"}],\"plot_height\":500,\"renderers\":[{\"id\":\"2234\",\"type\":\"GlyphRenderer\"},{\"id\":\"2248\",\"type\":\"GlyphRenderer\"},{\"id\":\"2263\",\"type\":\"GlyphRenderer\"},{\"id\":\"2280\",\"type\":\"GlyphRenderer\"}],\"title\":{\"id\":\"2190\",\"type\":\"Title\"},\"toolbar\":{\"id\":\"2215\",\"type\":\"Toolbar\"},\"x_range\":{\"id\":\"2192\",\"type\":\"DataRange1d\"},\"x_scale\":{\"id\":\"2196\",\"type\":\"LinearScale\"},\"y_range\":{\"id\":\"2194\",\"type\":\"FactorRange\"},\"y_scale\":{\"id\":\"2198\",\"type\":\"CategoricalScale\"}},\"id\":\"2189\",\"subtype\":\"Figure\",\"type\":\"Plot\"},{\"attributes\":{\"data_source\":{\"id\":\"2244\",\"type\":\"ColumnDataSource\"},\"glyph\":{\"id\":\"2246\",\"type\":\"HBar\"},\"hover_glyph\":null,\"muted_glyph\":null,\"name\":\"2016\",\"nonselection_glyph\":{\"id\":\"2247\",\"type\":\"HBar\"},\"selection_glyph\":null,\"view\":{\"id\":\"2249\",\"type\":\"CDSView\"}},\"id\":\"2248\",\"type\":\"GlyphRenderer\"},{\"attributes\":{},\"id\":\"2256\",\"type\":\"Selection\"},{\"attributes\":{},\"id\":\"2292\",\"type\":\"Selection\"},{\"attributes\":{\"label\":{\"value\":\"2018\"},\"renderers\":[{\"id\":\"2280\",\"type\":\"GlyphRenderer\"}]},\"id\":\"2294\",\"type\":\"LegendItem\"},{\"attributes\":{\"source\":{\"id\":\"2230\",\"type\":\"ColumnDataSource\"}},\"id\":\"2235\",\"type\":\"CDSView\"},{\"attributes\":{},\"id\":\"2239\",\"type\":\"CategoricalTickFormatter\"},{\"attributes\":{},\"id\":\"2374\",\"type\":\"UnionRenderers\"},{\"attributes\":{\"fill_color\":{\"value\":\"#80cdc1\"},\"height\":{\"value\":0.5},\"left\":{\"expr\":{\"id\":\"2224\",\"type\":\"Stack\"}},\"line_color\":{\"value\":\"#80cdc1\"},\"right\":{\"expr\":{\"id\":\"2225\",\"type\":\"Stack\"}},\"y\":{\"field\":\"States\"}},\"id\":\"2246\",\"type\":\"HBar\"},{\"attributes\":{\"fields\":[\"2015\",\"2016\",\"2017\",\"2018\"]},\"id\":\"2229\",\"type\":\"Stack\"},{\"attributes\":{\"callback\":null,\"data\":{\"2015\":{\"__ndarray__\":\"AAAAADioIkEAAAAAuIkEQQAAAAAAgFdAAAAAAACdtkAAAAAAANyQQAAAAAAAQKBAAAAAAABRvEAAAAAAQGr3QAAAAAAAgEJAAAAAACBJ+kAAAAAAoGjsQAAAAAAAAAAAAAAAAADQfUAAAAAAAAAAQAAAAACA6tBAAAAAAACAikAAAAAAAFfMQAAAAAAAsbBAAAAAADAm/0A=\",\"dtype\":\"float64\",\"shape\":[19]},\"2016\":{\"__ndarray__\":\"AAAAAFhzIUEAAAAAcB4EQQAAAAAAgEdAAAAAAACDyEAAAAAAAB6yQAAAAAAADqFAAAAAAAA8uEAAAAAAcF/2QAAAAAAAAEFAAAAAAEDn+EAAAAAAIK/nQAAAAAAAAAAAAAAAAABggEAAAAAAAAAAAAAAAAAAZ8pAAAAAAAAQiUAAAAAAAIB8QAAAAAAAIKxAAAAAAABe/UA=\",\"dtype\":\"float64\",\"shape\":[19]},\"2017\":{\"__ndarray__\":\"AAAAACo7IEEAAAAAsFACQQAAAAAAgEtAAAAAAAALzUAAAAAAAKCtQAAAAAAApqBAAAAAAAAZt0AAAAAAsKj1QAAAAAAAgEBAAAAAADCM90AAAAAAwMTiQAAAAAAAAAAAAAAAAABgfEAAAAAAAAAAAAAAAAAAQ8ZAAAAAAACwhEAAAAAAAMB9QAAAAAAASKdAAAAAALAv/EA=\",\"dtype\":\"float64\",\"shape\":[19]},\"2018\":{\"__ndarray__\":\"AAAAAAidHkEAAAAA6AYBQQAAAAAAAEdAAAAAAIAgzkAAAAAAACidQAAAAAAA4qJAAAAAAAC9s0AAAAAAcID0QAAAAAAAADhAAAAAAEDb9UAAAAAAYF3hQAAAAAAAAAAAAAAAAAAge0AAAAAAAAAAAAAAAACAC8dAAAAAAABAf0AAAAAAAKB7QAAAAAAAnqtAAAAAAFA3+0A=\",\"dtype\":\"float64\",\"shape\":[19]},\"States\":[\"Other\",\"Alabama\",\"Arizona\",\"Florida\",\"Idaho\",\"Illinois\",\"Indiana\",\"Kentucky\",\"Maryland\",\"Michigan\",\"Mississippi\",\"Missouri\",\"Nebraska\",\"Nevada\",\"New York\",\"Oregon\",\"South\",\"Tennessee\",\"Virginia\"]},\"selected\":{\"id\":\"2256\",\"type\":\"Selection\"},\"selection_policy\":{\"id\":\"2255\",\"type\":\"UnionRenderers\"}},\"id\":\"2230\",\"type\":\"ColumnDataSource\"},{\"attributes\":{\"fields\":[\"2015\"]},\"id\":\"2223\",\"type\":\"Stack\"},{\"attributes\":{\"fill_color\":{\"value\":\"#018571\"},\"height\":{\"value\":0.5},\"left\":{\"expr\":{\"id\":\"2222\",\"type\":\"Stack\"}},\"line_color\":{\"value\":\"#018571\"},\"right\":{\"expr\":{\"id\":\"2223\",\"type\":\"Stack\"}},\"y\":{\"field\":\"States\"}},\"id\":\"2232\",\"type\":\"HBar\"},{\"attributes\":{\"active_drag\":\"auto\",\"active_inspect\":\"auto\",\"active_multi\":null,\"active_scroll\":\"auto\",\"active_tap\":\"auto\",\"tools\":[{\"id\":\"2209\",\"type\":\"PanTool\"},{\"id\":\"2210\",\"type\":\"WheelZoomTool\"},{\"id\":\"2211\",\"type\":\"BoxZoomTool\"},{\"id\":\"2212\",\"type\":\"SaveTool\"},{\"id\":\"2213\",\"type\":\"ResetTool\"},{\"id\":\"2214\",\"type\":\"HelpTool\"}]},\"id\":\"2215\",\"type\":\"Toolbar\"},{\"attributes\":{\"format\":\"%d\"},\"id\":\"2295\",\"type\":\"PrintfTickFormatter\"},{\"attributes\":{\"fill_alpha\":{\"value\":0.1},\"fill_color\":{\"value\":\"#1f77b4\"},\"height\":{\"value\":0.5},\"left\":{\"expr\":{\"id\":\"2222\",\"type\":\"Stack\"}},\"line_alpha\":{\"value\":0.1},\"line_color\":{\"value\":\"#1f77b4\"},\"right\":{\"expr\":{\"id\":\"2223\",\"type\":\"Stack\"}},\"y\":{\"field\":\"States\"}},\"id\":\"2233\",\"type\":\"HBar\"},{\"attributes\":{\"callback\":null},\"id\":\"2192\",\"type\":\"DataRange1d\"},{\"attributes\":{\"source\":{\"id\":\"2259\",\"type\":\"ColumnDataSource\"}},\"id\":\"2264\",\"type\":\"CDSView\"},{\"attributes\":{\"callback\":null,\"data\":{\"2015\":{\"__ndarray__\":\"AAAAADioIkEAAAAAuIkEQQAAAAAAgFdAAAAAAACdtkAAAAAAANyQQAAAAAAAQKBAAAAAAABRvEAAAAAAQGr3QAAAAAAAgEJAAAAAACBJ+kAAAAAAoGjsQAAAAAAAAAAAAAAAAADQfUAAAAAAAAAAQAAAAACA6tBAAAAAAACAikAAAAAAAFfMQAAAAAAAsbBAAAAAADAm/0A=\",\"dtype\":\"float64\",\"shape\":[19]},\"2016\":{\"__ndarray__\":\"AAAAAFhzIUEAAAAAcB4EQQAAAAAAgEdAAAAAAACDyEAAAAAAAB6yQAAAAAAADqFAAAAAAAA8uEAAAAAAcF/2QAAAAAAAAEFAAAAAAEDn+EAAAAAAIK/nQAAAAAAAAAAAAAAAAABggEAAAAAAAAAAAAAAAAAAZ8pAAAAAAAAQiUAAAAAAAIB8QAAAAAAAIKxAAAAAAABe/UA=\",\"dtype\":\"float64\",\"shape\":[19]},\"2017\":{\"__ndarray__\":\"AAAAACo7IEEAAAAAsFACQQAAAAAAgEtAAAAAAAALzUAAAAAAAKCtQAAAAAAApqBAAAAAAAAZt0AAAAAAsKj1QAAAAAAAgEBAAAAAADCM90AAAAAAwMTiQAAAAAAAAAAAAAAAAABgfEAAAAAAAAAAAAAAAAAAQ8ZAAAAAAACwhEAAAAAAAMB9QAAAAAAASKdAAAAAALAv/EA=\",\"dtype\":\"float64\",\"shape\":[19]},\"2018\":{\"__ndarray__\":\"AAAAAAidHkEAAAAA6AYBQQAAAAAAAEdAAAAAAIAgzkAAAAAAACidQAAAAAAA4qJAAAAAAAC9s0AAAAAAcID0QAAAAAAAADhAAAAAAEDb9UAAAAAAYF3hQAAAAAAAAAAAAAAAAAAge0AAAAAAAAAAAAAAAACAC8dAAAAAAABAf0AAAAAAAKB7QAAAAAAAnqtAAAAAAFA3+0A=\",\"dtype\":\"float64\",\"shape\":[19]},\"States\":[\"Other\",\"Alabama\",\"Arizona\",\"Florida\",\"Idaho\",\"Illinois\",\"Indiana\",\"Kentucky\",\"Maryland\",\"Michigan\",\"Mississippi\",\"Missouri\",\"Nebraska\",\"Nevada\",\"New York\",\"Oregon\",\"South\",\"Tennessee\",\"Virginia\"]},\"selected\":{\"id\":\"2375\",\"type\":\"Selection\"},\"selection_policy\":{\"id\":\"2374\",\"type\":\"UnionRenderers\"}},\"id\":\"2276\",\"type\":\"ColumnDataSource\"},{\"attributes\":{\"text\":\"Natural Gas production by state in 2015\"},\"id\":\"2190\",\"type\":\"Title\"},{\"attributes\":{},\"id\":\"2209\",\"type\":\"PanTool\"},{\"attributes\":{\"fields\":[]},\"id\":\"2222\",\"type\":\"Stack\"},{\"attributes\":{\"data_source\":{\"id\":\"2230\",\"type\":\"ColumnDataSource\"},\"glyph\":{\"id\":\"2232\",\"type\":\"HBar\"},\"hover_glyph\":null,\"muted_glyph\":null,\"name\":\"2015\",\"nonselection_glyph\":{\"id\":\"2233\",\"type\":\"HBar\"},\"selection_glyph\":null,\"view\":{\"id\":\"2235\",\"type\":\"CDSView\"}},\"id\":\"2234\",\"type\":\"GlyphRenderer\"},{\"attributes\":{\"callback\":null,\"factors\":[\"Other\",\"Alabama\",\"Arizona\",\"Florida\",\"Idaho\",\"Illinois\",\"Indiana\",\"Kentucky\",\"Maryland\",\"Michigan\",\"Mississippi\",\"Missouri\",\"Nebraska\",\"Nevada\",\"New York\",\"Oregon\",\"South\",\"Tennessee\",\"Virginia\"]},\"id\":\"2194\",\"type\":\"FactorRange\"},{\"attributes\":{\"fill_color\":{\"value\":\"#a6611a\"},\"height\":{\"value\":0.5},\"left\":{\"expr\":{\"id\":\"2228\",\"type\":\"Stack\"}},\"line_color\":{\"value\":\"#a6611a\"},\"right\":{\"expr\":{\"id\":\"2229\",\"type\":\"Stack\"}},\"y\":{\"field\":\"States\"}},\"id\":\"2278\",\"type\":\"HBar\"},{\"attributes\":{},\"id\":\"2210\",\"type\":\"WheelZoomTool\"},{\"attributes\":{},\"id\":\"2255\",\"type\":\"UnionRenderers\"},{\"attributes\":{},\"id\":\"2273\",\"type\":\"Selection\"},{\"attributes\":{\"bottom_units\":\"screen\",\"fill_alpha\":{\"value\":0.5},\"fill_color\":{\"value\":\"lightgrey\"},\"left_units\":\"screen\",\"level\":\"overlay\",\"line_alpha\":{\"value\":1.0},\"line_color\":{\"value\":\"black\"},\"line_dash\":[4,4],\"line_width\":{\"value\":2},\"render_mode\":\"css\",\"right_units\":\"screen\",\"top_units\":\"screen\"},\"id\":\"2241\",\"type\":\"BoxAnnotation\"},{\"attributes\":{\"overlay\":{\"id\":\"2241\",\"type\":\"BoxAnnotation\"}},\"id\":\"2211\",\"type\":\"BoxZoomTool\"},{\"attributes\":{},\"id\":\"2291\",\"type\":\"UnionRenderers\"},{\"attributes\":{\"callback\":null,\"data\":{\"2015\":{\"__ndarray__\":\"AAAAADioIkEAAAAAuIkEQQAAAAAAgFdAAAAAAACdtkAAAAAAANyQQAAAAAAAQKBAAAAAAABRvEAAAAAAQGr3QAAAAAAAgEJAAAAAACBJ+kAAAAAAoGjsQAAAAAAAAAAAAAAAAADQfUAAAAAAAAAAQAAAAACA6tBAAAAAAACAikAAAAAAAFfMQAAAAAAAsbBAAAAAADAm/0A=\",\"dtype\":\"float64\",\"shape\":[19]},\"2016\":{\"__ndarray__\":\"AAAAAFhzIUEAAAAAcB4EQQAAAAAAgEdAAAAAAACDyEAAAAAAAB6yQAAAAAAADqFAAAAAAAA8uEAAAAAAcF/2QAAAAAAAAEFAAAAAAEDn+EAAAAAAIK/nQAAAAAAAAAAAAAAAAABggEAAAAAAAAAAAAAAAAAAZ8pAAAAAAAAQiUAAAAAAAIB8QAAAAAAAIKxAAAAAAABe/UA=\",\"dtype\":\"float64\",\"shape\":[19]},\"2017\":{\"__ndarray__\":\"AAAAACo7IEEAAAAAsFACQQAAAAAAgEtAAAAAAAALzUAAAAAAAKCtQAAAAAAApqBAAAAAAAAZt0AAAAAAsKj1QAAAAAAAgEBAAAAAADCM90AAAAAAwMTiQAAAAAAAAAAAAAAAAABgfEAAAAAAAAAAAAAAAAAAQ8ZAAAAAAACwhEAAAAAAAMB9QAAAAAAASKdAAAAAALAv/EA=\",\"dtype\":\"float64\",\"shape\":[19]},\"2018\":{\"__ndarray__\":\"AAAAAAidHkEAAAAA6AYBQQAAAAAAAEdAAAAAAIAgzkAAAAAAACidQAAAAAAA4qJAAAAAAAC9s0AAAAAAcID0QAAAAAAAADhAAAAAAEDb9UAAAAAAYF3hQAAAAAAAAAAAAAAAAAAge0AAAAAAAAAAAAAAAACAC8dAAAAAAABAf0AAAAAAAKB7QAAAAAAAnqtAAAAAAFA3+0A=\",\"dtype\":\"float64\",\"shape\":[19]},\"States\":[\"Other\",\"Alabama\",\"Arizona\",\"Florida\",\"Idaho\",\"Illinois\",\"Indiana\",\"Kentucky\",\"Maryland\",\"Michigan\",\"Mississippi\",\"Missouri\",\"Nebraska\",\"Nevada\",\"New York\",\"Oregon\",\"South\",\"Tennessee\",\"Virginia\"]},\"selected\":{\"id\":\"2273\",\"type\":\"Selection\"},\"selection_policy\":{\"id\":\"2272\",\"type\":\"UnionRenderers\"}},\"id\":\"2244\",\"type\":\"ColumnDataSource\"},{\"attributes\":{\"source\":{\"id\":\"2276\",\"type\":\"ColumnDataSource\"}},\"id\":\"2281\",\"type\":\"CDSView\"},{\"attributes\":{\"fill_alpha\":{\"value\":0.1},\"fill_color\":{\"value\":\"#1f77b4\"},\"height\":{\"value\":0.5},\"left\":{\"expr\":{\"id\":\"2228\",\"type\":\"Stack\"}},\"line_alpha\":{\"value\":0.1},\"line_color\":{\"value\":\"#1f77b4\"},\"right\":{\"expr\":{\"id\":\"2229\",\"type\":\"Stack\"}},\"y\":{\"field\":\"States\"}},\"id\":\"2279\",\"type\":\"HBar\"},{\"attributes\":{\"label\":{\"value\":\"2015\"},\"renderers\":[{\"id\":\"2234\",\"type\":\"GlyphRenderer\"}]},\"id\":\"2243\",\"type\":\"LegendItem\"},{\"attributes\":{},\"id\":\"2196\",\"type\":\"LinearScale\"},{\"attributes\":{},\"id\":\"2212\",\"type\":\"SaveTool\"},{\"attributes\":{\"fields\":[\"2015\",\"2016\"]},\"id\":\"2225\",\"type\":\"Stack\"},{\"attributes\":{},\"id\":\"2272\",\"type\":\"UnionRenderers\"},{\"attributes\":{},\"id\":\"2198\",\"type\":\"CategoricalScale\"},{\"attributes\":{},\"id\":\"2213\",\"type\":\"ResetTool\"},{\"attributes\":{\"fill_color\":{\"value\":\"#dfc27d\"},\"height\":{\"value\":0.5},\"left\":{\"expr\":{\"id\":\"2226\",\"type\":\"Stack\"}},\"line_color\":{\"value\":\"#dfc27d\"},\"right\":{\"expr\":{\"id\":\"2227\",\"type\":\"Stack\"}},\"y\":{\"field\":\"States\"}},\"id\":\"2261\",\"type\":\"HBar\"},{\"attributes\":{\"label\":{\"value\":\"2016\"},\"renderers\":[{\"id\":\"2248\",\"type\":\"GlyphRenderer\"}]},\"id\":\"2258\",\"type\":\"LegendItem\"},{\"attributes\":{\"items\":[{\"id\":\"2243\",\"type\":\"LegendItem\"},{\"id\":\"2258\",\"type\":\"LegendItem\"},{\"id\":\"2275\",\"type\":\"LegendItem\"},{\"id\":\"2294\",\"type\":\"LegendItem\"}]},\"id\":\"2242\",\"type\":\"Legend\"},{\"attributes\":{\"data_source\":{\"id\":\"2259\",\"type\":\"ColumnDataSource\"},\"glyph\":{\"id\":\"2261\",\"type\":\"HBar\"},\"hover_glyph\":null,\"muted_glyph\":null,\"name\":\"2017\",\"nonselection_glyph\":{\"id\":\"2262\",\"type\":\"HBar\"},\"selection_glyph\":null,\"view\":{\"id\":\"2264\",\"type\":\"CDSView\"}},\"id\":\"2263\",\"type\":\"GlyphRenderer\"},{\"attributes\":{},\"id\":\"2214\",\"type\":\"HelpTool\"},{\"attributes\":{\"fields\":[\"2015\",\"2016\",\"2017\"]},\"id\":\"2227\",\"type\":\"Stack\"},{\"attributes\":{\"axis_label\":\"Production (MMcf)\",\"formatter\":{\"id\":\"2295\",\"type\":\"PrintfTickFormatter\"},\"ticker\":{\"id\":\"2201\",\"type\":\"BasicTicker\"}},\"id\":\"2200\",\"type\":\"LinearAxis\"},{\"attributes\":{\"fill_alpha\":{\"value\":0.1},\"fill_color\":{\"value\":\"#1f77b4\"},\"height\":{\"value\":0.5},\"left\":{\"expr\":{\"id\":\"2224\",\"type\":\"Stack\"}},\"line_alpha\":{\"value\":0.1},\"line_color\":{\"value\":\"#1f77b4\"},\"right\":{\"expr\":{\"id\":\"2225\",\"type\":\"Stack\"}},\"y\":{\"field\":\"States\"}},\"id\":\"2247\",\"type\":\"HBar\"},{\"attributes\":{\"fields\":[\"2015\"]},\"id\":\"2224\",\"type\":\"Stack\"},{\"attributes\":{\"data_source\":{\"id\":\"2276\",\"type\":\"ColumnDataSource\"},\"glyph\":{\"id\":\"2278\",\"type\":\"HBar\"},\"hover_glyph\":null,\"muted_glyph\":null,\"name\":\"2018\",\"nonselection_glyph\":{\"id\":\"2279\",\"type\":\"HBar\"},\"selection_glyph\":null,\"view\":{\"id\":\"2281\",\"type\":\"CDSView\"}},\"id\":\"2280\",\"type\":\"GlyphRenderer\"},{\"attributes\":{\"source\":{\"id\":\"2244\",\"type\":\"ColumnDataSource\"}},\"id\":\"2249\",\"type\":\"CDSView\"},{\"attributes\":{},\"id\":\"2206\",\"type\":\"CategoricalTicker\"},{\"attributes\":{\"callback\":null,\"data\":{\"2015\":{\"__ndarray__\":\"AAAAADioIkEAAAAAuIkEQQAAAAAAgFdAAAAAAACdtkAAAAAAANyQQAAAAAAAQKBAAAAAAABRvEAAAAAAQGr3QAAAAAAAgEJAAAAAACBJ+kAAAAAAoGjsQAAAAAAAAAAAAAAAAADQfUAAAAAAAAAAQAAAAACA6tBAAAAAAACAikAAAAAAAFfMQAAAAAAAsbBAAAAAADAm/0A=\",\"dtype\":\"float64\",\"shape\":[19]},\"2016\":{\"__ndarray__\":\"AAAAAFhzIUEAAAAAcB4EQQAAAAAAgEdAAAAAAACDyEAAAAAAAB6yQAAAAAAADqFAAAAAAAA8uEAAAAAAcF/2QAAAAAAAAEFAAAAAAEDn+EAAAAAAIK/nQAAAAAAAAAAAAAAAAABggEAAAAAAAAAAAAAAAAAAZ8pAAAAAAAAQiUAAAAAAAIB8QAAAAAAAIKxAAAAAAABe/UA=\",\"dtype\":\"float64\",\"shape\":[19]},\"2017\":{\"__ndarray__\":\"AAAAACo7IEEAAAAAsFACQQAAAAAAgEtAAAAAAAALzUAAAAAAAKCtQAAAAAAApqBAAAAAAAAZt0AAAAAAsKj1QAAAAAAAgEBAAAAAADCM90AAAAAAwMTiQAAAAAAAAAAAAAAAAABgfEAAAAAAAAAAAAAAAAAAQ8ZAAAAAAACwhEAAAAAAAMB9QAAAAAAASKdAAAAAALAv/EA=\",\"dtype\":\"float64\",\"shape\":[19]},\"2018\":{\"__ndarray__\":\"AAAAAAidHkEAAAAA6AYBQQAAAAAAAEdAAAAAAIAgzkAAAAAAACidQAAAAAAA4qJAAAAAAAC9s0AAAAAAcID0QAAAAAAAADhAAAAAAEDb9UAAAAAAYF3hQAAAAAAAAAAAAAAAAAAge0AAAAAAAAAAAAAAAACAC8dAAAAAAABAf0AAAAAAAKB7QAAAAAAAnqtAAAAAAFA3+0A=\",\"dtype\":\"float64\",\"shape\":[19]},\"States\":[\"Other\",\"Alabama\",\"Arizona\",\"Florida\",\"Idaho\",\"Illinois\",\"Indiana\",\"Kentucky\",\"Maryland\",\"Michigan\",\"Mississippi\",\"Missouri\",\"Nebraska\",\"Nevada\",\"New York\",\"Oregon\",\"South\",\"Tennessee\",\"Virginia\"]},\"selected\":{\"id\":\"2292\",\"type\":\"Selection\"},\"selection_policy\":{\"id\":\"2291\",\"type\":\"UnionRenderers\"}},\"id\":\"2259\",\"type\":\"ColumnDataSource\"},{\"attributes\":{},\"id\":\"2201\",\"type\":\"BasicTicker\"},{\"attributes\":{\"label\":{\"value\":\"2017\"},\"renderers\":[{\"id\":\"2263\",\"type\":\"GlyphRenderer\"}]},\"id\":\"2275\",\"type\":\"LegendItem\"},{\"attributes\":{\"fields\":[\"2015\",\"2016\"]},\"id\":\"2226\",\"type\":\"Stack\"},{\"attributes\":{\"fields\":[\"2015\",\"2016\",\"2017\"]},\"id\":\"2228\",\"type\":\"Stack\"},{\"attributes\":{\"ticker\":{\"id\":\"2201\",\"type\":\"BasicTicker\"}},\"id\":\"2204\",\"type\":\"Grid\"},{\"attributes\":{},\"id\":\"2375\",\"type\":\"Selection\"},{\"attributes\":{\"fill_alpha\":{\"value\":0.1},\"fill_color\":{\"value\":\"#1f77b4\"},\"height\":{\"value\":0.5},\"left\":{\"expr\":{\"id\":\"2226\",\"type\":\"Stack\"}},\"line_alpha\":{\"value\":0.1},\"line_color\":{\"value\":\"#1f77b4\"},\"right\":{\"expr\":{\"id\":\"2227\",\"type\":\"Stack\"}},\"y\":{\"field\":\"States\"}},\"id\":\"2262\",\"type\":\"HBar\"},{\"attributes\":{\"dimension\":1,\"grid_line_color\":null,\"ticker\":{\"id\":\"2206\",\"type\":\"CategoricalTicker\"}},\"id\":\"2208\",\"type\":\"Grid\"},{\"attributes\":{\"formatter\":{\"id\":\"2239\",\"type\":\"CategoricalTickFormatter\"},\"ticker\":{\"id\":\"2206\",\"type\":\"CategoricalTicker\"}},\"id\":\"2205\",\"type\":\"CategoricalAxis\"}],\"root_ids\":[\"2189\"]},\"title\":\"Bokeh Application\",\"version\":\"1.4.0\"}};\n",
       "  var render_items = [{\"docid\":\"25f7235c-1edc-4346-ab56-ae3d159f392d\",\"roots\":{\"2189\":\"f0be3bc6-2e98-426b-95c1-f5e67eac7b71\"}}];\n",
       "  root.Bokeh.embed.embed_items_notebook(docs_json, render_items);\n",
       "\n",
       "  }\n",
       "  if (root.Bokeh !== undefined) {\n",
       "    embed_document(root);\n",
       "  } else {\n",
       "    var attempts = 0;\n",
       "    var timer = setInterval(function(root) {\n",
       "      if (root.Bokeh !== undefined) {\n",
       "        clearInterval(timer);\n",
       "        embed_document(root);\n",
       "      } else {\n",
       "        attempts++;\n",
       "        if (attempts > 100) {\n",
       "          clearInterval(timer);\n",
       "          console.log(\"Bokeh: ERROR: Unable to run BokehJS code because BokehJS library is missing\");\n",
       "        }\n",
       "      }\n",
       "    }, 10, root)\n",
       "  }\n",
       "})(window);"
      ],
      "application/vnd.bokehjs_exec.v0+json": ""
     },
     "metadata": {
      "application/vnd.bokehjs_exec.v0+json": {
       "id": "2189"
      }
     },
     "output_type": "display_data"
    }
   ],
   "source": [
    "from bokeh.palettes import BrBG4\n",
    "\n",
    "p = figure(y_range = ngdf.columns.to_list(), plot_height = 500, title = 'Natural Gas production by state in 2015')\n",
    "p.hbar_stack(yrs_str,\n",
    "             y = 'States',\n",
    "             source = data, \n",
    "             color = BrBG4,\n",
    "             height = .5,\n",
    "            legend_label = yrs_str)\n",
    "\n",
    "p.ygrid.grid_line_color = None # remove the vertical grid lines\n",
    "p.xaxis.formatter = PrintfTickFormatter(format = \"%d\") # Change tick values formatting to be shown as full numbers\n",
    "p.xaxis.axis_label = 'Production (MMcf)' # set x-axis label\n",
    "show(p)"
   ]
  },
  {
   "cell_type": "markdown",
   "metadata": {},
   "source": [
    "# Styling\n",
    "We can put each plot into a variable, then we will have access to properties of the plots and manipulate the way they look."
   ]
  },
  {
   "cell_type": "code",
   "execution_count": 23,
   "metadata": {},
   "outputs": [
    {
     "data": {
      "text/html": [
       "\n",
       "\n",
       "\n",
       "\n",
       "\n",
       "\n",
       "  <div class=\"bk-root\" id=\"7dc183b6-afd5-4718-abd3-cea504c5fb93\" data-root-id=\"2455\"></div>\n"
      ]
     },
     "metadata": {},
     "output_type": "display_data"
    },
    {
     "data": {
      "application/javascript": [
       "(function(root) {\n",
       "  function embed_document(root) {\n",
       "    \n",
       "  var docs_json = {\"99d0a821-eb87-43bb-9f2f-d4449d29a183\":{\"roots\":{\"references\":[{\"attributes\":{\"below\":[{\"id\":\"2466\",\"type\":\"LinearAxis\"}],\"center\":[{\"id\":\"2470\",\"type\":\"Grid\"},{\"id\":\"2475\",\"type\":\"Grid\"}],\"left\":[{\"id\":\"2471\",\"type\":\"LinearAxis\"}],\"plot_height\":400,\"renderers\":[{\"id\":\"2492\",\"type\":\"GlyphRenderer\"},{\"id\":\"2497\",\"type\":\"GlyphRenderer\"}],\"title\":{\"id\":\"2456\",\"type\":\"Title\"},\"toolbar\":{\"id\":\"2482\",\"type\":\"Toolbar\"},\"x_range\":{\"id\":\"2458\",\"type\":\"DataRange1d\"},\"x_scale\":{\"id\":\"2462\",\"type\":\"LinearScale\"},\"y_range\":{\"id\":\"2460\",\"type\":\"DataRange1d\"},\"y_scale\":{\"id\":\"2464\",\"type\":\"LinearScale\"}},\"id\":\"2455\",\"subtype\":\"Figure\",\"type\":\"Plot\"},{\"attributes\":{\"active_drag\":\"auto\",\"active_inspect\":\"auto\",\"active_multi\":null,\"active_scroll\":\"auto\",\"active_tap\":\"auto\",\"tools\":[{\"id\":\"2476\",\"type\":\"PanTool\"},{\"id\":\"2477\",\"type\":\"WheelZoomTool\"},{\"id\":\"2478\",\"type\":\"BoxZoomTool\"},{\"id\":\"2479\",\"type\":\"SaveTool\"},{\"id\":\"2480\",\"type\":\"ResetTool\"},{\"id\":\"2481\",\"type\":\"HelpTool\"}]},\"id\":\"2482\",\"type\":\"Toolbar\"},{\"attributes\":{\"fill_color\":{\"value\":\"orangered\"},\"size\":{\"units\":\"screen\",\"value\":8},\"x\":{\"field\":\"x\"},\"y\":{\"field\":\"y\"}},\"id\":\"2495\",\"type\":\"Circle\"},{\"attributes\":{\"source\":{\"id\":\"2489\",\"type\":\"ColumnDataSource\"}},\"id\":\"2493\",\"type\":\"CDSView\"},{\"attributes\":{\"callback\":null,\"data\":{\"x\":[0,1,2,3,4,5,6,7,8,9,10,11,12,13,14,15,16,17,18,19,20,21,22,23,24,25,26,27,28,29,30,31,32,33,34,35,36,37,38,39,40,41,42,43,44,45,46,47,48,49,50,51,52,53,54,55,56,57,58,59,60,61,62,63,64,65,66,67,68,69,70,71,72,73,74,75,76,77,78,79,80,81,82,83,84,85,86,87,88,89,90,91,92,93,94,95,96,97,98,99],\"y\":{\"__ndarray__\":\"fk09Gyms2r/kp+9ICUbev0DeoyOv3wTAnp65WaMB77+2j/2XXRkGwDZ29aJD1QzASMix8VzPCMB0MrFF22IRwLMsRBkznhXAsuCr/QVBGcAblTGfVQwXwEzPzRY6wgvASWvaeydtC8CIuZUwVS8SwJyZD0lWBxDAQAxH+c1pEsDKtCrrZH0SwC5NQcxilAvAgAj0RwPIEMBu9Zxdxb4QwABEzBT0QRTAi2FDXCTiFMDehLH0adsTwNZCZ3PszxfA8U6kmOAqGcC0tKXSuhwawEO1KEKwqRzAJw/J2Oa0IMAPoJihkIwjwC2ts40n2yPAUnQtY+lkJMCTUPxb59wfwAwyE4kNzSTAJAk8P1aTJMCBIjhXq9UjwHi1OmmJHSHA/u61+5UcIMCMgAfD0swhwIAZfXvRzCHAV4n8PiK3IMAGxHZkplchwKQrDq/ImR/A5bZduFqJI8DTRDbi/BIgwDGnasgSRxrArYZGlc6eG8DkmgpEyywZwGmhHRCs+xjAEL5257RMHMAhY1gy5PIbwGJPHUiE8hfAnDkLZsF4GcChJkTicPkawMGzkPKyRRvAGj5OfMyJGcAYoWYKvWwUwBlnk2mm9hbA2XZEYw3uFMAhSZjfvxAUwEKmcfX3fxvAS7o3QlktHcA/IkR82rQdwEKmGZZf3R3AuYYGvouPHMCQZAIYa1wiwD8WNEq8RCLAPe5HlbSfI8CZyTi8soAmwPMtUCdCdCXAJ/LGlsv7I8BpfHdoQkolwCsrdPrrmiPA+UxMG0JeJMD+pVxCNzwkwAkHpSvFbibAz7d0SINDI8A5yGWkJpUowAKuNoX5wyjAjbWxzRJgJ8Au7KNUNXErwAv/MnI30ivA4qinpsD5K8BVIb0tgVMqwPlPLGpr1CfAxiPcYTajKMD8FU8DFmgrwL6vP7sPrCjASjKXBoE8JsD5/KD9DCknwGawg1VldSbAuqXtXOGxJcDKmSKC8o8kwGKQZI9kJyTAb+EBEipXIcC6FgTm/9AkwPGscgUZvCLAeHCYzEv5IcD+kjQneGgiwM7ZVgifDyDAmSQ/you/JMA=\",\"dtype\":\"float64\",\"shape\":[100]}},\"selected\":{\"id\":\"2587\",\"type\":\"Selection\"},\"selection_policy\":{\"id\":\"2586\",\"type\":\"UnionRenderers\"}},\"id\":\"2494\",\"type\":\"ColumnDataSource\"},{\"attributes\":{},\"id\":\"2464\",\"type\":\"LinearScale\"},{\"attributes\":{},\"id\":\"2585\",\"type\":\"Selection\"},{\"attributes\":{},\"id\":\"2476\",\"type\":\"PanTool\"},{\"attributes\":{\"callback\":null},\"id\":\"2458\",\"type\":\"DataRange1d\"},{\"attributes\":{},\"id\":\"2472\",\"type\":\"BasicTicker\"},{\"attributes\":{},\"id\":\"2583\",\"type\":\"BasicTickFormatter\"},{\"attributes\":{\"line_alpha\":0.1,\"line_color\":\"#1f77b4\",\"line_width\":2,\"x\":{\"field\":\"x\"},\"y\":{\"field\":\"y\"}},\"id\":\"2491\",\"type\":\"Line\"},{\"attributes\":{},\"id\":\"2480\",\"type\":\"ResetTool\"},{\"attributes\":{},\"id\":\"2481\",\"type\":\"HelpTool\"},{\"attributes\":{\"bottom_units\":\"screen\",\"fill_alpha\":{\"value\":0.5},\"fill_color\":{\"value\":\"lightgrey\"},\"left_units\":\"screen\",\"level\":\"overlay\",\"line_alpha\":{\"value\":1.0},\"line_color\":{\"value\":\"black\"},\"line_dash\":[4,4],\"line_width\":{\"value\":2},\"render_mode\":\"css\",\"right_units\":\"screen\",\"top_units\":\"screen\"},\"id\":\"2588\",\"type\":\"BoxAnnotation\"},{\"attributes\":{},\"id\":\"2467\",\"type\":\"BasicTicker\"},{\"attributes\":{},\"id\":\"2586\",\"type\":\"UnionRenderers\"},{\"attributes\":{\"ticker\":{\"id\":\"2467\",\"type\":\"BasicTicker\"}},\"id\":\"2470\",\"type\":\"Grid\"},{\"attributes\":{},\"id\":\"2479\",\"type\":\"SaveTool\"},{\"attributes\":{\"formatter\":{\"id\":\"2581\",\"type\":\"BasicTickFormatter\"},\"ticker\":{\"id\":\"2467\",\"type\":\"BasicTicker\"}},\"id\":\"2466\",\"type\":\"LinearAxis\"},{\"attributes\":{\"line_alpha\":0.5,\"line_color\":\"orange\",\"line_width\":2,\"x\":{\"field\":\"x\"},\"y\":{\"field\":\"y\"}},\"id\":\"2490\",\"type\":\"Line\"},{\"attributes\":{\"formatter\":{\"id\":\"2583\",\"type\":\"BasicTickFormatter\"},\"ticker\":{\"id\":\"2472\",\"type\":\"BasicTicker\"}},\"id\":\"2471\",\"type\":\"LinearAxis\"},{\"attributes\":{\"fill_alpha\":{\"value\":0.1},\"fill_color\":{\"value\":\"#1f77b4\"},\"line_alpha\":{\"value\":0.1},\"line_color\":{\"value\":\"#1f77b4\"},\"size\":{\"units\":\"screen\",\"value\":8},\"x\":{\"field\":\"x\"},\"y\":{\"field\":\"y\"}},\"id\":\"2496\",\"type\":\"Circle\"},{\"attributes\":{\"dimension\":1,\"ticker\":{\"id\":\"2472\",\"type\":\"BasicTicker\"}},\"id\":\"2475\",\"type\":\"Grid\"},{\"attributes\":{\"callback\":null},\"id\":\"2460\",\"type\":\"DataRange1d\"},{\"attributes\":{\"source\":{\"id\":\"2494\",\"type\":\"ColumnDataSource\"}},\"id\":\"2498\",\"type\":\"CDSView\"},{\"attributes\":{\"data_source\":{\"id\":\"2494\",\"type\":\"ColumnDataSource\"},\"glyph\":{\"id\":\"2495\",\"type\":\"Circle\"},\"hover_glyph\":null,\"muted_glyph\":null,\"nonselection_glyph\":{\"id\":\"2496\",\"type\":\"Circle\"},\"selection_glyph\":null,\"view\":{\"id\":\"2498\",\"type\":\"CDSView\"}},\"id\":\"2497\",\"type\":\"GlyphRenderer\"},{\"attributes\":{},\"id\":\"2584\",\"type\":\"UnionRenderers\"},{\"attributes\":{},\"id\":\"2462\",\"type\":\"LinearScale\"},{\"attributes\":{},\"id\":\"2581\",\"type\":\"BasicTickFormatter\"},{\"attributes\":{\"overlay\":{\"id\":\"2588\",\"type\":\"BoxAnnotation\"}},\"id\":\"2478\",\"type\":\"BoxZoomTool\"},{\"attributes\":{},\"id\":\"2477\",\"type\":\"WheelZoomTool\"},{\"attributes\":{},\"id\":\"2587\",\"type\":\"Selection\"},{\"attributes\":{\"text\":\"Plot Title\"},\"id\":\"2456\",\"type\":\"Title\"},{\"attributes\":{\"data_source\":{\"id\":\"2489\",\"type\":\"ColumnDataSource\"},\"glyph\":{\"id\":\"2490\",\"type\":\"Line\"},\"hover_glyph\":null,\"muted_glyph\":null,\"nonselection_glyph\":{\"id\":\"2491\",\"type\":\"Line\"},\"selection_glyph\":null,\"view\":{\"id\":\"2493\",\"type\":\"CDSView\"}},\"id\":\"2492\",\"type\":\"GlyphRenderer\"},{\"attributes\":{\"callback\":null,\"data\":{\"x\":[0,1,2,3,4,5,6,7,8,9,10,11,12,13,14,15,16,17,18,19,20,21,22,23,24,25,26,27,28,29,30,31,32,33,34,35,36,37,38,39,40,41,42,43,44,45,46,47,48,49,50,51,52,53,54,55,56,57,58,59,60,61,62,63,64,65,66,67,68,69,70,71,72,73,74,75,76,77,78,79,80,81,82,83,84,85,86,87,88,89,90,91,92,93,94,95,96,97,98,99],\"y\":{\"__ndarray__\":\"fk09Gyms2r/kp+9ICUbev0DeoyOv3wTAnp65WaMB77+2j/2XXRkGwDZ29aJD1QzASMix8VzPCMB0MrFF22IRwLMsRBkznhXAsuCr/QVBGcAblTGfVQwXwEzPzRY6wgvASWvaeydtC8CIuZUwVS8SwJyZD0lWBxDAQAxH+c1pEsDKtCrrZH0SwC5NQcxilAvAgAj0RwPIEMBu9Zxdxb4QwABEzBT0QRTAi2FDXCTiFMDehLH0adsTwNZCZ3PszxfA8U6kmOAqGcC0tKXSuhwawEO1KEKwqRzAJw/J2Oa0IMAPoJihkIwjwC2ts40n2yPAUnQtY+lkJMCTUPxb59wfwAwyE4kNzSTAJAk8P1aTJMCBIjhXq9UjwHi1OmmJHSHA/u61+5UcIMCMgAfD0swhwIAZfXvRzCHAV4n8PiK3IMAGxHZkplchwKQrDq/ImR/A5bZduFqJI8DTRDbi/BIgwDGnasgSRxrArYZGlc6eG8DkmgpEyywZwGmhHRCs+xjAEL5257RMHMAhY1gy5PIbwGJPHUiE8hfAnDkLZsF4GcChJkTicPkawMGzkPKyRRvAGj5OfMyJGcAYoWYKvWwUwBlnk2mm9hbA2XZEYw3uFMAhSZjfvxAUwEKmcfX3fxvAS7o3QlktHcA/IkR82rQdwEKmGZZf3R3AuYYGvouPHMCQZAIYa1wiwD8WNEq8RCLAPe5HlbSfI8CZyTi8soAmwPMtUCdCdCXAJ/LGlsv7I8BpfHdoQkolwCsrdPrrmiPA+UxMG0JeJMD+pVxCNzwkwAkHpSvFbibAz7d0SINDI8A5yGWkJpUowAKuNoX5wyjAjbWxzRJgJ8Au7KNUNXErwAv/MnI30ivA4qinpsD5K8BVIb0tgVMqwPlPLGpr1CfAxiPcYTajKMD8FU8DFmgrwL6vP7sPrCjASjKXBoE8JsD5/KD9DCknwGawg1VldSbAuqXtXOGxJcDKmSKC8o8kwGKQZI9kJyTAb+EBEipXIcC6FgTm/9AkwPGscgUZvCLAeHCYzEv5IcD+kjQneGgiwM7ZVgifDyDAmSQ/you/JMA=\",\"dtype\":\"float64\",\"shape\":[100]}},\"selected\":{\"id\":\"2585\",\"type\":\"Selection\"},\"selection_policy\":{\"id\":\"2584\",\"type\":\"UnionRenderers\"}},\"id\":\"2489\",\"type\":\"ColumnDataSource\"}],\"root_ids\":[\"2455\"]},\"title\":\"Bokeh Application\",\"version\":\"1.4.0\"}};\n",
       "  var render_items = [{\"docid\":\"99d0a821-eb87-43bb-9f2f-d4449d29a183\",\"roots\":{\"2455\":\"7dc183b6-afd5-4718-abd3-cea504c5fb93\"}}];\n",
       "  root.Bokeh.embed.embed_items_notebook(docs_json, render_items);\n",
       "\n",
       "  }\n",
       "  if (root.Bokeh !== undefined) {\n",
       "    embed_document(root);\n",
       "  } else {\n",
       "    var attempts = 0;\n",
       "    var timer = setInterval(function(root) {\n",
       "      if (root.Bokeh !== undefined) {\n",
       "        clearInterval(timer);\n",
       "        embed_document(root);\n",
       "      } else {\n",
       "        attempts++;\n",
       "        if (attempts > 100) {\n",
       "          clearInterval(timer);\n",
       "          console.log(\"Bokeh: ERROR: Unable to run BokehJS code because BokehJS library is missing\");\n",
       "        }\n",
       "      }\n",
       "    }, 10, root)\n",
       "  }\n",
       "})(window);"
      ],
      "application/vnd.bokehjs_exec.v0+json": ""
     },
     "metadata": {
      "application/vnd.bokehjs_exec.v0+json": {
       "id": "2455"
      }
     },
     "output_type": "display_data"
    }
   ],
   "source": [
    "p = figure(plot_width=600, plot_height=400,title = 'Plot Title')\n",
    "np.random.seed(2)\n",
    "x = np.arange(100)\n",
    "y = np.random.randn(100).cumsum()\n",
    "r1 = p.line(x,y,line_color='orange',line_width=2,line_alpha=.5)\n",
    "r2 = p.circle(x,y,size=8,fill_color = 'orangered',line_color='black')\n",
    "show(p)"
   ]
  },
  {
   "cell_type": "markdown",
   "metadata": {},
   "source": [
    "The properties can be accessed via `.glyph.<property>`"
   ]
  },
  {
   "cell_type": "code",
   "execution_count": 24,
   "metadata": {
    "scrolled": false
   },
   "outputs": [
    {
     "data": {
      "text/html": [
       "\n",
       "\n",
       "\n",
       "\n",
       "\n",
       "\n",
       "  <div class=\"bk-root\" id=\"0696a427-b036-4db3-9726-9eb1a2b95604\" data-root-id=\"2455\"></div>\n"
      ]
     },
     "metadata": {},
     "output_type": "display_data"
    },
    {
     "data": {
      "application/javascript": [
       "(function(root) {\n",
       "  function embed_document(root) {\n",
       "    \n",
       "  var docs_json = {\"4977a5a6-5c1d-4a2b-9a02-440297f95f73\":{\"roots\":{\"references\":[{\"attributes\":{\"below\":[{\"id\":\"2466\",\"type\":\"LinearAxis\"}],\"center\":[{\"id\":\"2470\",\"type\":\"Grid\"},{\"id\":\"2475\",\"type\":\"Grid\"}],\"left\":[{\"id\":\"2471\",\"type\":\"LinearAxis\"}],\"plot_height\":400,\"renderers\":[{\"id\":\"2492\",\"type\":\"GlyphRenderer\"},{\"id\":\"2497\",\"type\":\"GlyphRenderer\"}],\"title\":{\"id\":\"2456\",\"type\":\"Title\"},\"toolbar\":{\"id\":\"2482\",\"type\":\"Toolbar\"},\"x_range\":{\"id\":\"2458\",\"type\":\"DataRange1d\"},\"x_scale\":{\"id\":\"2462\",\"type\":\"LinearScale\"},\"y_range\":{\"id\":\"2460\",\"type\":\"DataRange1d\"},\"y_scale\":{\"id\":\"2464\",\"type\":\"LinearScale\"}},\"id\":\"2455\",\"subtype\":\"Figure\",\"type\":\"Plot\"},{\"attributes\":{\"active_drag\":\"auto\",\"active_inspect\":\"auto\",\"active_multi\":null,\"active_scroll\":\"auto\",\"active_tap\":\"auto\",\"tools\":[{\"id\":\"2476\",\"type\":\"PanTool\"},{\"id\":\"2477\",\"type\":\"WheelZoomTool\"},{\"id\":\"2478\",\"type\":\"BoxZoomTool\"},{\"id\":\"2479\",\"type\":\"SaveTool\"},{\"id\":\"2480\",\"type\":\"ResetTool\"},{\"id\":\"2481\",\"type\":\"HelpTool\"}]},\"id\":\"2482\",\"type\":\"Toolbar\"},{\"attributes\":{\"fill_color\":{\"value\":\"orangered\"},\"size\":{\"units\":\"screen\",\"value\":8},\"x\":{\"field\":\"x\"},\"y\":{\"field\":\"y\"}},\"id\":\"2495\",\"type\":\"Circle\"},{\"attributes\":{\"source\":{\"id\":\"2489\",\"type\":\"ColumnDataSource\"}},\"id\":\"2493\",\"type\":\"CDSView\"},{\"attributes\":{\"callback\":null,\"data\":{\"x\":[0,1,2,3,4,5,6,7,8,9,10,11,12,13,14,15,16,17,18,19,20,21,22,23,24,25,26,27,28,29,30,31,32,33,34,35,36,37,38,39,40,41,42,43,44,45,46,47,48,49,50,51,52,53,54,55,56,57,58,59,60,61,62,63,64,65,66,67,68,69,70,71,72,73,74,75,76,77,78,79,80,81,82,83,84,85,86,87,88,89,90,91,92,93,94,95,96,97,98,99],\"y\":{\"__ndarray__\":\"fk09Gyms2r/kp+9ICUbev0DeoyOv3wTAnp65WaMB77+2j/2XXRkGwDZ29aJD1QzASMix8VzPCMB0MrFF22IRwLMsRBkznhXAsuCr/QVBGcAblTGfVQwXwEzPzRY6wgvASWvaeydtC8CIuZUwVS8SwJyZD0lWBxDAQAxH+c1pEsDKtCrrZH0SwC5NQcxilAvAgAj0RwPIEMBu9Zxdxb4QwABEzBT0QRTAi2FDXCTiFMDehLH0adsTwNZCZ3PszxfA8U6kmOAqGcC0tKXSuhwawEO1KEKwqRzAJw/J2Oa0IMAPoJihkIwjwC2ts40n2yPAUnQtY+lkJMCTUPxb59wfwAwyE4kNzSTAJAk8P1aTJMCBIjhXq9UjwHi1OmmJHSHA/u61+5UcIMCMgAfD0swhwIAZfXvRzCHAV4n8PiK3IMAGxHZkplchwKQrDq/ImR/A5bZduFqJI8DTRDbi/BIgwDGnasgSRxrArYZGlc6eG8DkmgpEyywZwGmhHRCs+xjAEL5257RMHMAhY1gy5PIbwGJPHUiE8hfAnDkLZsF4GcChJkTicPkawMGzkPKyRRvAGj5OfMyJGcAYoWYKvWwUwBlnk2mm9hbA2XZEYw3uFMAhSZjfvxAUwEKmcfX3fxvAS7o3QlktHcA/IkR82rQdwEKmGZZf3R3AuYYGvouPHMCQZAIYa1wiwD8WNEq8RCLAPe5HlbSfI8CZyTi8soAmwPMtUCdCdCXAJ/LGlsv7I8BpfHdoQkolwCsrdPrrmiPA+UxMG0JeJMD+pVxCNzwkwAkHpSvFbibAz7d0SINDI8A5yGWkJpUowAKuNoX5wyjAjbWxzRJgJ8Au7KNUNXErwAv/MnI30ivA4qinpsD5K8BVIb0tgVMqwPlPLGpr1CfAxiPcYTajKMD8FU8DFmgrwL6vP7sPrCjASjKXBoE8JsD5/KD9DCknwGawg1VldSbAuqXtXOGxJcDKmSKC8o8kwGKQZI9kJyTAb+EBEipXIcC6FgTm/9AkwPGscgUZvCLAeHCYzEv5IcD+kjQneGgiwM7ZVgifDyDAmSQ/you/JMA=\",\"dtype\":\"float64\",\"shape\":[100]}},\"selected\":{\"id\":\"2587\",\"type\":\"Selection\"},\"selection_policy\":{\"id\":\"2586\",\"type\":\"UnionRenderers\"}},\"id\":\"2494\",\"type\":\"ColumnDataSource\"},{\"attributes\":{},\"id\":\"2464\",\"type\":\"LinearScale\"},{\"attributes\":{},\"id\":\"2585\",\"type\":\"Selection\"},{\"attributes\":{},\"id\":\"2476\",\"type\":\"PanTool\"},{\"attributes\":{\"callback\":null},\"id\":\"2458\",\"type\":\"DataRange1d\"},{\"attributes\":{},\"id\":\"2472\",\"type\":\"BasicTicker\"},{\"attributes\":{},\"id\":\"2583\",\"type\":\"BasicTickFormatter\"},{\"attributes\":{\"line_alpha\":0.1,\"line_color\":\"#1f77b4\",\"line_width\":2,\"x\":{\"field\":\"x\"},\"y\":{\"field\":\"y\"}},\"id\":\"2491\",\"type\":\"Line\"},{\"attributes\":{},\"id\":\"2480\",\"type\":\"ResetTool\"},{\"attributes\":{},\"id\":\"2481\",\"type\":\"HelpTool\"},{\"attributes\":{\"bottom_units\":\"screen\",\"fill_alpha\":{\"value\":0.5},\"fill_color\":{\"value\":\"lightgrey\"},\"left_units\":\"screen\",\"level\":\"overlay\",\"line_alpha\":{\"value\":1.0},\"line_color\":{\"value\":\"black\"},\"line_dash\":[4,4],\"line_width\":{\"value\":2},\"render_mode\":\"css\",\"right_units\":\"screen\",\"top_units\":\"screen\"},\"id\":\"2588\",\"type\":\"BoxAnnotation\"},{\"attributes\":{},\"id\":\"2467\",\"type\":\"BasicTicker\"},{\"attributes\":{},\"id\":\"2586\",\"type\":\"UnionRenderers\"},{\"attributes\":{\"ticker\":{\"id\":\"2467\",\"type\":\"BasicTicker\"}},\"id\":\"2470\",\"type\":\"Grid\"},{\"attributes\":{},\"id\":\"2479\",\"type\":\"SaveTool\"},{\"attributes\":{\"formatter\":{\"id\":\"2581\",\"type\":\"BasicTickFormatter\"},\"ticker\":{\"id\":\"2467\",\"type\":\"BasicTicker\"}},\"id\":\"2466\",\"type\":\"LinearAxis\"},{\"attributes\":{\"line_alpha\":0.5,\"line_color\":\"green\",\"line_width\":2,\"x\":{\"field\":\"x\"},\"y\":{\"field\":\"y\"}},\"id\":\"2490\",\"type\":\"Line\"},{\"attributes\":{\"formatter\":{\"id\":\"2583\",\"type\":\"BasicTickFormatter\"},\"ticker\":{\"id\":\"2472\",\"type\":\"BasicTicker\"}},\"id\":\"2471\",\"type\":\"LinearAxis\"},{\"attributes\":{\"fill_alpha\":{\"value\":0.1},\"fill_color\":{\"value\":\"#1f77b4\"},\"line_alpha\":{\"value\":0.1},\"line_color\":{\"value\":\"#1f77b4\"},\"size\":{\"units\":\"screen\",\"value\":8},\"x\":{\"field\":\"x\"},\"y\":{\"field\":\"y\"}},\"id\":\"2496\",\"type\":\"Circle\"},{\"attributes\":{\"dimension\":1,\"ticker\":{\"id\":\"2472\",\"type\":\"BasicTicker\"}},\"id\":\"2475\",\"type\":\"Grid\"},{\"attributes\":{\"callback\":null},\"id\":\"2460\",\"type\":\"DataRange1d\"},{\"attributes\":{\"source\":{\"id\":\"2494\",\"type\":\"ColumnDataSource\"}},\"id\":\"2498\",\"type\":\"CDSView\"},{\"attributes\":{\"data_source\":{\"id\":\"2494\",\"type\":\"ColumnDataSource\"},\"glyph\":{\"id\":\"2495\",\"type\":\"Circle\"},\"hover_glyph\":null,\"muted_glyph\":null,\"nonselection_glyph\":{\"id\":\"2496\",\"type\":\"Circle\"},\"selection_glyph\":null,\"view\":{\"id\":\"2498\",\"type\":\"CDSView\"}},\"id\":\"2497\",\"type\":\"GlyphRenderer\"},{\"attributes\":{},\"id\":\"2584\",\"type\":\"UnionRenderers\"},{\"attributes\":{},\"id\":\"2462\",\"type\":\"LinearScale\"},{\"attributes\":{},\"id\":\"2581\",\"type\":\"BasicTickFormatter\"},{\"attributes\":{\"overlay\":{\"id\":\"2588\",\"type\":\"BoxAnnotation\"}},\"id\":\"2478\",\"type\":\"BoxZoomTool\"},{\"attributes\":{},\"id\":\"2477\",\"type\":\"WheelZoomTool\"},{\"attributes\":{},\"id\":\"2587\",\"type\":\"Selection\"},{\"attributes\":{\"text\":\"Plot Title\"},\"id\":\"2456\",\"type\":\"Title\"},{\"attributes\":{\"data_source\":{\"id\":\"2489\",\"type\":\"ColumnDataSource\"},\"glyph\":{\"id\":\"2490\",\"type\":\"Line\"},\"hover_glyph\":null,\"muted_glyph\":null,\"nonselection_glyph\":{\"id\":\"2491\",\"type\":\"Line\"},\"selection_glyph\":null,\"view\":{\"id\":\"2493\",\"type\":\"CDSView\"}},\"id\":\"2492\",\"type\":\"GlyphRenderer\"},{\"attributes\":{\"callback\":null,\"data\":{\"x\":[0,1,2,3,4,5,6,7,8,9,10,11,12,13,14,15,16,17,18,19,20,21,22,23,24,25,26,27,28,29,30,31,32,33,34,35,36,37,38,39,40,41,42,43,44,45,46,47,48,49,50,51,52,53,54,55,56,57,58,59,60,61,62,63,64,65,66,67,68,69,70,71,72,73,74,75,76,77,78,79,80,81,82,83,84,85,86,87,88,89,90,91,92,93,94,95,96,97,98,99],\"y\":{\"__ndarray__\":\"fk09Gyms2r/kp+9ICUbev0DeoyOv3wTAnp65WaMB77+2j/2XXRkGwDZ29aJD1QzASMix8VzPCMB0MrFF22IRwLMsRBkznhXAsuCr/QVBGcAblTGfVQwXwEzPzRY6wgvASWvaeydtC8CIuZUwVS8SwJyZD0lWBxDAQAxH+c1pEsDKtCrrZH0SwC5NQcxilAvAgAj0RwPIEMBu9Zxdxb4QwABEzBT0QRTAi2FDXCTiFMDehLH0adsTwNZCZ3PszxfA8U6kmOAqGcC0tKXSuhwawEO1KEKwqRzAJw/J2Oa0IMAPoJihkIwjwC2ts40n2yPAUnQtY+lkJMCTUPxb59wfwAwyE4kNzSTAJAk8P1aTJMCBIjhXq9UjwHi1OmmJHSHA/u61+5UcIMCMgAfD0swhwIAZfXvRzCHAV4n8PiK3IMAGxHZkplchwKQrDq/ImR/A5bZduFqJI8DTRDbi/BIgwDGnasgSRxrArYZGlc6eG8DkmgpEyywZwGmhHRCs+xjAEL5257RMHMAhY1gy5PIbwGJPHUiE8hfAnDkLZsF4GcChJkTicPkawMGzkPKyRRvAGj5OfMyJGcAYoWYKvWwUwBlnk2mm9hbA2XZEYw3uFMAhSZjfvxAUwEKmcfX3fxvAS7o3QlktHcA/IkR82rQdwEKmGZZf3R3AuYYGvouPHMCQZAIYa1wiwD8WNEq8RCLAPe5HlbSfI8CZyTi8soAmwPMtUCdCdCXAJ/LGlsv7I8BpfHdoQkolwCsrdPrrmiPA+UxMG0JeJMD+pVxCNzwkwAkHpSvFbibAz7d0SINDI8A5yGWkJpUowAKuNoX5wyjAjbWxzRJgJ8Au7KNUNXErwAv/MnI30ivA4qinpsD5K8BVIb0tgVMqwPlPLGpr1CfAxiPcYTajKMD8FU8DFmgrwL6vP7sPrCjASjKXBoE8JsD5/KD9DCknwGawg1VldSbAuqXtXOGxJcDKmSKC8o8kwGKQZI9kJyTAb+EBEipXIcC6FgTm/9AkwPGscgUZvCLAeHCYzEv5IcD+kjQneGgiwM7ZVgifDyDAmSQ/you/JMA=\",\"dtype\":\"float64\",\"shape\":[100]}},\"selected\":{\"id\":\"2585\",\"type\":\"Selection\"},\"selection_policy\":{\"id\":\"2584\",\"type\":\"UnionRenderers\"}},\"id\":\"2489\",\"type\":\"ColumnDataSource\"}],\"root_ids\":[\"2455\"]},\"title\":\"Bokeh Application\",\"version\":\"1.4.0\"}};\n",
       "  var render_items = [{\"docid\":\"4977a5a6-5c1d-4a2b-9a02-440297f95f73\",\"roots\":{\"2455\":\"0696a427-b036-4db3-9726-9eb1a2b95604\"}}];\n",
       "  root.Bokeh.embed.embed_items_notebook(docs_json, render_items);\n",
       "\n",
       "  }\n",
       "  if (root.Bokeh !== undefined) {\n",
       "    embed_document(root);\n",
       "  } else {\n",
       "    var attempts = 0;\n",
       "    var timer = setInterval(function(root) {\n",
       "      if (root.Bokeh !== undefined) {\n",
       "        clearInterval(timer);\n",
       "        embed_document(root);\n",
       "      } else {\n",
       "        attempts++;\n",
       "        if (attempts > 100) {\n",
       "          clearInterval(timer);\n",
       "          console.log(\"Bokeh: ERROR: Unable to run BokehJS code because BokehJS library is missing\");\n",
       "        }\n",
       "      }\n",
       "    }, 10, root)\n",
       "  }\n",
       "})(window);"
      ],
      "application/vnd.bokehjs_exec.v0+json": ""
     },
     "metadata": {
      "application/vnd.bokehjs_exec.v0+json": {
       "id": "2455"
      }
     },
     "output_type": "display_data"
    }
   ],
   "source": [
    "r1.glyph.line_color = 'green'\n",
    "show(p)"
   ]
  },
  {
   "cell_type": "markdown",
   "metadata": {},
   "source": [
    "# Bokeh Data Source\n",
    "Bokeh can work with various formats of data including lists, numpy arrays, and pandas data frames. But, behind the scene, all the data is converted into Bokeh's format of data which is called `ColumnDataSource`. While in may cases we can keep using numpy and pandas data formats, in some cases it is useful to manually convert the data to `ColumnDataSource`."
   ]
  },
  {
   "cell_type": "code",
   "execution_count": 25,
   "metadata": {},
   "outputs": [],
   "source": [
    "np.random.seed(12)\n",
    "x = np.arange(100)\n",
    "y = np.random.randn(100).cumsum()\n",
    "z = np.random.rand(100)\n",
    "source = ColumnDataSource(data = {'x':x, 'y':y,'z':z})"
   ]
  },
  {
   "cell_type": "markdown",
   "metadata": {},
   "source": [
    "__Note:__ We can also pass in a pandas data frame into `ColumnDataSource`."
   ]
  },
  {
   "cell_type": "markdown",
   "metadata": {},
   "source": [
    "When data is stored in a data source, instead of passing in the variables we only pass in the name of the columns (as a string)."
   ]
  },
  {
   "cell_type": "code",
   "execution_count": 26,
   "metadata": {
    "scrolled": false
   },
   "outputs": [
    {
     "data": {
      "text/html": [
       "\n",
       "\n",
       "\n",
       "\n",
       "\n",
       "\n",
       "  <div class=\"bk-root\" id=\"de006bc4-2c51-48da-ae71-07ae8b134d3f\" data-root-id=\"2710\"></div>\n"
      ]
     },
     "metadata": {},
     "output_type": "display_data"
    },
    {
     "data": {
      "application/javascript": [
       "(function(root) {\n",
       "  function embed_document(root) {\n",
       "    \n",
       "  var docs_json = {\"61088b52-d411-4619-9d0c-69c6ca9caf1a\":{\"roots\":{\"references\":[{\"attributes\":{\"below\":[{\"id\":\"2719\",\"type\":\"LinearAxis\"}],\"center\":[{\"id\":\"2723\",\"type\":\"Grid\"},{\"id\":\"2728\",\"type\":\"Grid\"}],\"left\":[{\"id\":\"2724\",\"type\":\"LinearAxis\"}],\"plot_height\":400,\"renderers\":[{\"id\":\"2745\",\"type\":\"GlyphRenderer\"}],\"title\":{\"id\":\"2837\",\"type\":\"Title\"},\"toolbar\":{\"id\":\"2735\",\"type\":\"Toolbar\"},\"x_range\":{\"id\":\"2711\",\"type\":\"DataRange1d\"},\"x_scale\":{\"id\":\"2715\",\"type\":\"LinearScale\"},\"y_range\":{\"id\":\"2713\",\"type\":\"DataRange1d\"},\"y_scale\":{\"id\":\"2717\",\"type\":\"LinearScale\"}},\"id\":\"2710\",\"subtype\":\"Figure\",\"type\":\"Plot\"},{\"attributes\":{},\"id\":\"2842\",\"type\":\"BasicTickFormatter\"},{\"attributes\":{\"text\":\"\"},\"id\":\"2837\",\"type\":\"Title\"},{\"attributes\":{},\"id\":\"2725\",\"type\":\"BasicTicker\"},{\"attributes\":{\"bottom_units\":\"screen\",\"fill_alpha\":{\"value\":0.5},\"fill_color\":{\"value\":\"lightgrey\"},\"left_units\":\"screen\",\"level\":\"overlay\",\"line_alpha\":{\"value\":1.0},\"line_color\":{\"value\":\"black\"},\"line_dash\":[4,4],\"line_width\":{\"value\":2},\"render_mode\":\"css\",\"right_units\":\"screen\",\"top_units\":\"screen\"},\"id\":\"2845\",\"type\":\"BoxAnnotation\"},{\"attributes\":{\"callback\":null,\"data\":{\"x\":[0,1,2,3,4,5,6,7,8,9,10,11,12,13,14,15,16,17,18,19,20,21,22,23,24,25,26,27,28,29,30,31,32,33,34,35,36,37,38,39,40,41,42,43,44,45,46,47,48,49,50,51,52,53,54,55,56,57,58,59,60,61,62,63,64,65,66,67,68,69,70,71,72,73,74,75,76,77,78,79,80,81,82,83,84,85,86,87,88,89,90,91,92,93,94,95,96,97,98,99],\"y\":{\"__ndarray__\":\"BiJuXWZF3j8AUI/aKa7Kv+Ru2TBgaKE/q5buj/Oq+r9DQ7wfKDztv4BmVAMmlgPA5y6N8qWLA8AaWEjf34EEwPHTj8mS9grAqOIeubLo37/7HEJy24rxv/kkhMNY9+O/QmAkmnM13j87wGfh78fnvxco9XelLOM/AGQamP2H3j8IksvTQtX3P2OJWSUbbOI/tqYHYJwL3b/RsTvb2DDoP1LVVa4XIPQ/uc02c85Y9j/FNW6WrkwAQAJQpMaohARAObAnHQ+R9j+OdlWBgrHpvxg5NWKd4APAmIUE31AXEcBAS+x+GPcZwOY7GZcQjhzAyBXNnCarHsCedPsPTdMewHP3S2gq9x3A/43nwr+AH8CMOpOYX0IgwA2n0UzeHCDAnAUszW8bIsDKpm5f7ogjwDHRDUjMdiPAtSu17+fRJMA1muaHtfYlwJcQwx3pLCbANu7xB/eAI8COITXvzt0iwHqhETioiiPAo3y0gFC2JMD3LwtKJ/EkwI4mTr9XdSDAWv7z7NHAJsDI4gKY1K4lwGNQX5vLNyXAaP8p+ZN7I8BxE5uCdsclwFIAiC7rjCHAXK92Od8YH8Dly2NbhU0fwAWvffjlqR7ALQEMFq3DIMCrv0z1zqkgwIVP1Hoy8yDAZzsaVSwgHsCnQWoL8rEcwB9KnsBlBx3AAgcK81JRGsB9bgcP6xcYwDhBBX3aMxfA4ROf24hRHcBOcNBSnzMZwPSPSg/f3R3A3DV1y9TzIMAxwQZ7uikhwDm7VraSIyDAFA+iCaKlGsDT4ZfA6rIgwCQ/Q1dKgxvASeeQaI33FMDuTZdSBdAWwLQvyzs3nhfA/6j6jsHnGcAjwDjNiFEcwJvUJtOI1iDAC9orA6M3JMArndI+sZ0kwL3bIXq2GSTA1d7OSVtxIMCgCBWQ3nEiwEpWqrbQoCbAjLn61sZVJsDyuVBpjEQnwPLKo4wpjibAPmQWceBZJ8DmLupimd4pwIQcKBhOPyvARvBKt1ukKcAYUqTg5BgpwNbYj8ccCSvA3riBLKpKKcBp3RNmMy8swP60KhLhQS3AIyepO4vcLMA=\",\"dtype\":\"float64\",\"shape\":[100]},\"z\":{\"__ndarray__\":\"1FtnrpO/1j+Yk3yJHmzVP+CJA1WHuMY/gEj9FA5kgD/AYPScumCFP7M7VO1hHuM/wOnkvN6qtT9+p3+M6DPUP/5tp93r/u4/NWr9ZGP06z+L1GjHhjXtP7jDLOk5v8U/MrokpZRG1D9cBJuep/LOP/g+zWTOa98/hhZfAvxn4T+kMCP19vLZP5rW6UXTwec/2SRC+3WZ5D868gQ6VxnlP7y6AQDDGcM/DhAesAPk5z9+iqgbvYbkP3zyTJk3FtM/9pTUcZAN2D8F7prn1qLvP/ait+/XDdY/OmdxvQD71T+5yrORDKPjPyObqYPfyeM/QATP/AlZiz9IB3HiwGHiP2eArgTA4ug/OZ8LGW9l7j+BVmR41H7mPygfxLCov70/MIvXIaOQzz/uhi0v5M/aP7yj5TiaOeQ/EFlfEL1wuD+qMnN60/rYP1hBtPAdm9Q/BEpmyBgV7z+TTAnEigPvP/cxmXoUyuc/DFX1I+mQ4D8cajDgrQ3FP5BQh3VVYe4/kxT/JJl/7T81psvoBD7sP4Dy4Tu7Iao/I7c0bE/M6D+QtHbY8Ru7Pz50o8AA+ew/eRgzUffP4j/g/Vlpbp7vP1jx0gowb9s/7WefJLsn5D/2ReXzS9foP5ICOYfZoNA/cPku0vlx5D9EwrQ4JXXqP6wCd12IruA/sH5Ht8Mq2z/9RS4V+v3gPyouc+lzRe4/1jxVwgz67z/E+wa/NHjlP0iOySw1ROk/pjuyTSpp7z+kp1UHlh7CP6Bm5Ar86po/lGX57dvi5z8ycKPpFrvjP0AQAKt6Zbk/ElNLPW2z4D+Ppqz+4TzgP8AawmbLSNI/pGBAGdXMzz8ENGeTrhXHP2/fabatruI/vLxo3Jqzwz/7XBvveMbmP+7jGFPmeus/PGPG5FP35T8+LcMt4vfQPygC3N77aNk/MIlTlaBq4D+0HOAjcQfWP21+4gKTdeE/XbgqFav05T8Ax7UbKy7TP/z8W1zYkMs/UwX9WtM56T+rXS8rwdPoP1CBoZIaXaU/MKcH79Cn5D+sD2uvoWjAP0+2topehuE/LuNZ9VGo0j8=\",\"dtype\":\"float64\",\"shape\":[100]}},\"selected\":{\"id\":\"2844\",\"type\":\"Selection\"},\"selection_policy\":{\"id\":\"2843\",\"type\":\"UnionRenderers\"}},\"id\":\"2709\",\"type\":\"ColumnDataSource\"},{\"attributes\":{},\"id\":\"2720\",\"type\":\"BasicTicker\"},{\"attributes\":{\"formatter\":{\"id\":\"2840\",\"type\":\"BasicTickFormatter\"},\"ticker\":{\"id\":\"2720\",\"type\":\"BasicTicker\"}},\"id\":\"2719\",\"type\":\"LinearAxis\"},{\"attributes\":{},\"id\":\"2730\",\"type\":\"WheelZoomTool\"},{\"attributes\":{},\"id\":\"2840\",\"type\":\"BasicTickFormatter\"},{\"attributes\":{},\"id\":\"2729\",\"type\":\"PanTool\"},{\"attributes\":{},\"id\":\"2734\",\"type\":\"HelpTool\"},{\"attributes\":{\"formatter\":{\"id\":\"2842\",\"type\":\"BasicTickFormatter\"},\"ticker\":{\"id\":\"2725\",\"type\":\"BasicTicker\"}},\"id\":\"2724\",\"type\":\"LinearAxis\"},{\"attributes\":{},\"id\":\"2717\",\"type\":\"LinearScale\"},{\"attributes\":{\"data_source\":{\"id\":\"2709\",\"type\":\"ColumnDataSource\"},\"glyph\":{\"id\":\"2743\",\"type\":\"Circle\"},\"hover_glyph\":null,\"muted_glyph\":null,\"nonselection_glyph\":{\"id\":\"2744\",\"type\":\"Circle\"},\"selection_glyph\":null,\"view\":{\"id\":\"2746\",\"type\":\"CDSView\"}},\"id\":\"2745\",\"type\":\"GlyphRenderer\"},{\"attributes\":{},\"id\":\"2843\",\"type\":\"UnionRenderers\"},{\"attributes\":{},\"id\":\"2844\",\"type\":\"Selection\"},{\"attributes\":{\"source\":{\"id\":\"2709\",\"type\":\"ColumnDataSource\"}},\"id\":\"2746\",\"type\":\"CDSView\"},{\"attributes\":{\"ticker\":{\"id\":\"2720\",\"type\":\"BasicTicker\"}},\"id\":\"2723\",\"type\":\"Grid\"},{\"attributes\":{\"dimension\":1,\"ticker\":{\"id\":\"2725\",\"type\":\"BasicTicker\"}},\"id\":\"2728\",\"type\":\"Grid\"},{\"attributes\":{},\"id\":\"2733\",\"type\":\"ResetTool\"},{\"attributes\":{\"callback\":null},\"id\":\"2713\",\"type\":\"DataRange1d\"},{\"attributes\":{\"active_drag\":\"auto\",\"active_inspect\":\"auto\",\"active_multi\":null,\"active_scroll\":\"auto\",\"active_tap\":\"auto\",\"tools\":[{\"id\":\"2729\",\"type\":\"PanTool\"},{\"id\":\"2730\",\"type\":\"WheelZoomTool\"},{\"id\":\"2731\",\"type\":\"BoxZoomTool\"},{\"id\":\"2732\",\"type\":\"SaveTool\"},{\"id\":\"2733\",\"type\":\"ResetTool\"},{\"id\":\"2734\",\"type\":\"HelpTool\"}]},\"id\":\"2735\",\"type\":\"Toolbar\"},{\"attributes\":{\"fill_color\":{\"value\":\"#1f77b4\"},\"line_color\":{\"value\":\"#1f77b4\"},\"x\":{\"field\":\"x\"},\"y\":{\"field\":\"y\"}},\"id\":\"2743\",\"type\":\"Circle\"},{\"attributes\":{\"fill_alpha\":{\"value\":0.1},\"fill_color\":{\"value\":\"#1f77b4\"},\"line_alpha\":{\"value\":0.1},\"line_color\":{\"value\":\"#1f77b4\"},\"x\":{\"field\":\"x\"},\"y\":{\"field\":\"y\"}},\"id\":\"2744\",\"type\":\"Circle\"},{\"attributes\":{},\"id\":\"2732\",\"type\":\"SaveTool\"},{\"attributes\":{},\"id\":\"2715\",\"type\":\"LinearScale\"},{\"attributes\":{\"overlay\":{\"id\":\"2845\",\"type\":\"BoxAnnotation\"}},\"id\":\"2731\",\"type\":\"BoxZoomTool\"},{\"attributes\":{\"callback\":null},\"id\":\"2711\",\"type\":\"DataRange1d\"}],\"root_ids\":[\"2710\"]},\"title\":\"Bokeh Application\",\"version\":\"1.4.0\"}};\n",
       "  var render_items = [{\"docid\":\"61088b52-d411-4619-9d0c-69c6ca9caf1a\",\"roots\":{\"2710\":\"de006bc4-2c51-48da-ae71-07ae8b134d3f\"}}];\n",
       "  root.Bokeh.embed.embed_items_notebook(docs_json, render_items);\n",
       "\n",
       "  }\n",
       "  if (root.Bokeh !== undefined) {\n",
       "    embed_document(root);\n",
       "  } else {\n",
       "    var attempts = 0;\n",
       "    var timer = setInterval(function(root) {\n",
       "      if (root.Bokeh !== undefined) {\n",
       "        clearInterval(timer);\n",
       "        embed_document(root);\n",
       "      } else {\n",
       "        attempts++;\n",
       "        if (attempts > 100) {\n",
       "          clearInterval(timer);\n",
       "          console.log(\"Bokeh: ERROR: Unable to run BokehJS code because BokehJS library is missing\");\n",
       "        }\n",
       "      }\n",
       "    }, 10, root)\n",
       "  }\n",
       "})(window);"
      ],
      "application/vnd.bokehjs_exec.v0+json": ""
     },
     "metadata": {
      "application/vnd.bokehjs_exec.v0+json": {
       "id": "2710"
      }
     },
     "output_type": "display_data"
    }
   ],
   "source": [
    "p = figure(plot_width = 600, plot_height = 400)\n",
    "p.circle('x','y',source=source)\n",
    "show(p)"
   ]
  },
  {
   "cell_type": "markdown",
   "metadata": {},
   "source": [
    "# Hover Tool\n",
    "Hovertool allows us to see information about data points when we hover the mouse pointer over them. Using data sources allows us to easily define what information should be displayed. Now that we are using data sources we can display any information in the data source by using `@` followed by the name of the column.<br>\n",
    "Before we created a data source with x, y, and z values. Now we are going to display the z value when we hover over a point."
   ]
  },
  {
   "cell_type": "code",
   "execution_count": 27,
   "metadata": {},
   "outputs": [
    {
     "data": {
      "text/html": [
       "\n",
       "\n",
       "\n",
       "\n",
       "\n",
       "\n",
       "  <div class=\"bk-root\" id=\"ccbd37b8-be0e-4ff0-b4d4-44b9f9b0b86b\" data-root-id=\"2900\"></div>\n"
      ]
     },
     "metadata": {},
     "output_type": "display_data"
    },
    {
     "data": {
      "application/javascript": [
       "(function(root) {\n",
       "  function embed_document(root) {\n",
       "    \n",
       "  var docs_json = {\"7549cdac-ebce-44f7-b05f-0dd65cf48e3f\":{\"roots\":{\"references\":[{\"attributes\":{\"below\":[{\"id\":\"2909\",\"type\":\"LinearAxis\"}],\"center\":[{\"id\":\"2913\",\"type\":\"Grid\"},{\"id\":\"2918\",\"type\":\"Grid\"}],\"left\":[{\"id\":\"2914\",\"type\":\"LinearAxis\"}],\"plot_height\":400,\"renderers\":[{\"id\":\"2937\",\"type\":\"GlyphRenderer\"}],\"title\":{\"id\":\"3038\",\"type\":\"Title\"},\"toolbar\":{\"id\":\"2926\",\"type\":\"Toolbar\"},\"x_range\":{\"id\":\"2901\",\"type\":\"DataRange1d\"},\"x_scale\":{\"id\":\"2905\",\"type\":\"LinearScale\"},\"y_range\":{\"id\":\"2903\",\"type\":\"DataRange1d\"},\"y_scale\":{\"id\":\"2907\",\"type\":\"LinearScale\"}},\"id\":\"2900\",\"subtype\":\"Figure\",\"type\":\"Plot\"},{\"attributes\":{\"formatter\":{\"id\":\"3041\",\"type\":\"BasicTickFormatter\"},\"ticker\":{\"id\":\"2910\",\"type\":\"BasicTicker\"}},\"id\":\"2909\",\"type\":\"LinearAxis\"},{\"attributes\":{\"fill_color\":{\"value\":\"#1f77b4\"},\"line_color\":{\"value\":\"#1f77b4\"},\"size\":{\"units\":\"screen\",\"value\":10},\"x\":{\"field\":\"x\"},\"y\":{\"field\":\"y\"}},\"id\":\"2935\",\"type\":\"Circle\"},{\"attributes\":{},\"id\":\"2910\",\"type\":\"BasicTicker\"},{\"attributes\":{},\"id\":\"2922\",\"type\":\"SaveTool\"},{\"attributes\":{\"text\":\"\"},\"id\":\"3038\",\"type\":\"Title\"},{\"attributes\":{\"ticker\":{\"id\":\"2910\",\"type\":\"BasicTicker\"}},\"id\":\"2913\",\"type\":\"Grid\"},{\"attributes\":{},\"id\":\"3041\",\"type\":\"BasicTickFormatter\"},{\"attributes\":{},\"id\":\"2920\",\"type\":\"WheelZoomTool\"},{\"attributes\":{},\"id\":\"2915\",\"type\":\"BasicTicker\"},{\"attributes\":{},\"id\":\"2924\",\"type\":\"HelpTool\"},{\"attributes\":{},\"id\":\"2843\",\"type\":\"UnionRenderers\"},{\"attributes\":{},\"id\":\"2905\",\"type\":\"LinearScale\"},{\"attributes\":{\"callback\":null},\"id\":\"2903\",\"type\":\"DataRange1d\"},{\"attributes\":{\"dimension\":1,\"ticker\":{\"id\":\"2915\",\"type\":\"BasicTicker\"}},\"id\":\"2918\",\"type\":\"Grid\"},{\"attributes\":{\"source\":{\"id\":\"2709\",\"type\":\"ColumnDataSource\"}},\"id\":\"2938\",\"type\":\"CDSView\"},{\"attributes\":{\"callback\":null,\"tooltips\":\"Z = @z\"},\"id\":\"2925\",\"type\":\"HoverTool\"},{\"attributes\":{},\"id\":\"2844\",\"type\":\"Selection\"},{\"attributes\":{},\"id\":\"3043\",\"type\":\"BasicTickFormatter\"},{\"attributes\":{\"formatter\":{\"id\":\"3043\",\"type\":\"BasicTickFormatter\"},\"ticker\":{\"id\":\"2915\",\"type\":\"BasicTicker\"}},\"id\":\"2914\",\"type\":\"LinearAxis\"},{\"attributes\":{\"fill_alpha\":{\"value\":0.1},\"fill_color\":{\"value\":\"#1f77b4\"},\"line_alpha\":{\"value\":0.1},\"line_color\":{\"value\":\"#1f77b4\"},\"size\":{\"units\":\"screen\",\"value\":10},\"x\":{\"field\":\"x\"},\"y\":{\"field\":\"y\"}},\"id\":\"2936\",\"type\":\"Circle\"},{\"attributes\":{\"data_source\":{\"id\":\"2709\",\"type\":\"ColumnDataSource\"},\"glyph\":{\"id\":\"2935\",\"type\":\"Circle\"},\"hover_glyph\":null,\"muted_glyph\":null,\"nonselection_glyph\":{\"id\":\"2936\",\"type\":\"Circle\"},\"selection_glyph\":null,\"view\":{\"id\":\"2938\",\"type\":\"CDSView\"}},\"id\":\"2937\",\"type\":\"GlyphRenderer\"},{\"attributes\":{},\"id\":\"2923\",\"type\":\"ResetTool\"},{\"attributes\":{\"bottom_units\":\"screen\",\"fill_alpha\":{\"value\":0.5},\"fill_color\":{\"value\":\"lightgrey\"},\"left_units\":\"screen\",\"level\":\"overlay\",\"line_alpha\":{\"value\":1.0},\"line_color\":{\"value\":\"black\"},\"line_dash\":[4,4],\"line_width\":{\"value\":2},\"render_mode\":\"css\",\"right_units\":\"screen\",\"top_units\":\"screen\"},\"id\":\"3046\",\"type\":\"BoxAnnotation\"},{\"attributes\":{\"active_drag\":\"auto\",\"active_inspect\":\"auto\",\"active_multi\":null,\"active_scroll\":\"auto\",\"active_tap\":\"auto\",\"tools\":[{\"id\":\"2919\",\"type\":\"PanTool\"},{\"id\":\"2920\",\"type\":\"WheelZoomTool\"},{\"id\":\"2921\",\"type\":\"BoxZoomTool\"},{\"id\":\"2922\",\"type\":\"SaveTool\"},{\"id\":\"2923\",\"type\":\"ResetTool\"},{\"id\":\"2924\",\"type\":\"HelpTool\"},{\"id\":\"2925\",\"type\":\"HoverTool\"}]},\"id\":\"2926\",\"type\":\"Toolbar\"},{\"attributes\":{\"overlay\":{\"id\":\"3046\",\"type\":\"BoxAnnotation\"}},\"id\":\"2921\",\"type\":\"BoxZoomTool\"},{\"attributes\":{},\"id\":\"2907\",\"type\":\"LinearScale\"},{\"attributes\":{},\"id\":\"2919\",\"type\":\"PanTool\"},{\"attributes\":{\"callback\":null},\"id\":\"2901\",\"type\":\"DataRange1d\"},{\"attributes\":{\"callback\":null,\"data\":{\"x\":[0,1,2,3,4,5,6,7,8,9,10,11,12,13,14,15,16,17,18,19,20,21,22,23,24,25,26,27,28,29,30,31,32,33,34,35,36,37,38,39,40,41,42,43,44,45,46,47,48,49,50,51,52,53,54,55,56,57,58,59,60,61,62,63,64,65,66,67,68,69,70,71,72,73,74,75,76,77,78,79,80,81,82,83,84,85,86,87,88,89,90,91,92,93,94,95,96,97,98,99],\"y\":{\"__ndarray__\":\"BiJuXWZF3j8AUI/aKa7Kv+Ru2TBgaKE/q5buj/Oq+r9DQ7wfKDztv4BmVAMmlgPA5y6N8qWLA8AaWEjf34EEwPHTj8mS9grAqOIeubLo37/7HEJy24rxv/kkhMNY9+O/QmAkmnM13j87wGfh78fnvxco9XelLOM/AGQamP2H3j8IksvTQtX3P2OJWSUbbOI/tqYHYJwL3b/RsTvb2DDoP1LVVa4XIPQ/uc02c85Y9j/FNW6WrkwAQAJQpMaohARAObAnHQ+R9j+OdlWBgrHpvxg5NWKd4APAmIUE31AXEcBAS+x+GPcZwOY7GZcQjhzAyBXNnCarHsCedPsPTdMewHP3S2gq9x3A/43nwr+AH8CMOpOYX0IgwA2n0UzeHCDAnAUszW8bIsDKpm5f7ogjwDHRDUjMdiPAtSu17+fRJMA1muaHtfYlwJcQwx3pLCbANu7xB/eAI8COITXvzt0iwHqhETioiiPAo3y0gFC2JMD3LwtKJ/EkwI4mTr9XdSDAWv7z7NHAJsDI4gKY1K4lwGNQX5vLNyXAaP8p+ZN7I8BxE5uCdsclwFIAiC7rjCHAXK92Od8YH8Dly2NbhU0fwAWvffjlqR7ALQEMFq3DIMCrv0z1zqkgwIVP1Hoy8yDAZzsaVSwgHsCnQWoL8rEcwB9KnsBlBx3AAgcK81JRGsB9bgcP6xcYwDhBBX3aMxfA4ROf24hRHcBOcNBSnzMZwPSPSg/f3R3A3DV1y9TzIMAxwQZ7uikhwDm7VraSIyDAFA+iCaKlGsDT4ZfA6rIgwCQ/Q1dKgxvASeeQaI33FMDuTZdSBdAWwLQvyzs3nhfA/6j6jsHnGcAjwDjNiFEcwJvUJtOI1iDAC9orA6M3JMArndI+sZ0kwL3bIXq2GSTA1d7OSVtxIMCgCBWQ3nEiwEpWqrbQoCbAjLn61sZVJsDyuVBpjEQnwPLKo4wpjibAPmQWceBZJ8DmLupimd4pwIQcKBhOPyvARvBKt1ukKcAYUqTg5BgpwNbYj8ccCSvA3riBLKpKKcBp3RNmMy8swP60KhLhQS3AIyepO4vcLMA=\",\"dtype\":\"float64\",\"shape\":[100]},\"z\":{\"__ndarray__\":\"1FtnrpO/1j+Yk3yJHmzVP+CJA1WHuMY/gEj9FA5kgD/AYPScumCFP7M7VO1hHuM/wOnkvN6qtT9+p3+M6DPUP/5tp93r/u4/NWr9ZGP06z+L1GjHhjXtP7jDLOk5v8U/MrokpZRG1D9cBJuep/LOP/g+zWTOa98/hhZfAvxn4T+kMCP19vLZP5rW6UXTwec/2SRC+3WZ5D868gQ6VxnlP7y6AQDDGcM/DhAesAPk5z9+iqgbvYbkP3zyTJk3FtM/9pTUcZAN2D8F7prn1qLvP/ait+/XDdY/OmdxvQD71T+5yrORDKPjPyObqYPfyeM/QATP/AlZiz9IB3HiwGHiP2eArgTA4ug/OZ8LGW9l7j+BVmR41H7mPygfxLCov70/MIvXIaOQzz/uhi0v5M/aP7yj5TiaOeQ/EFlfEL1wuD+qMnN60/rYP1hBtPAdm9Q/BEpmyBgV7z+TTAnEigPvP/cxmXoUyuc/DFX1I+mQ4D8cajDgrQ3FP5BQh3VVYe4/kxT/JJl/7T81psvoBD7sP4Dy4Tu7Iao/I7c0bE/M6D+QtHbY8Ru7Pz50o8AA+ew/eRgzUffP4j/g/Vlpbp7vP1jx0gowb9s/7WefJLsn5D/2ReXzS9foP5ICOYfZoNA/cPku0vlx5D9EwrQ4JXXqP6wCd12IruA/sH5Ht8Mq2z/9RS4V+v3gPyouc+lzRe4/1jxVwgz67z/E+wa/NHjlP0iOySw1ROk/pjuyTSpp7z+kp1UHlh7CP6Bm5Ar86po/lGX57dvi5z8ycKPpFrvjP0AQAKt6Zbk/ElNLPW2z4D+Ppqz+4TzgP8AawmbLSNI/pGBAGdXMzz8ENGeTrhXHP2/fabatruI/vLxo3Jqzwz/7XBvveMbmP+7jGFPmeus/PGPG5FP35T8+LcMt4vfQPygC3N77aNk/MIlTlaBq4D+0HOAjcQfWP21+4gKTdeE/XbgqFav05T8Ax7UbKy7TP/z8W1zYkMs/UwX9WtM56T+rXS8rwdPoP1CBoZIaXaU/MKcH79Cn5D+sD2uvoWjAP0+2topehuE/LuNZ9VGo0j8=\",\"dtype\":\"float64\",\"shape\":[100]}},\"selected\":{\"id\":\"2844\",\"type\":\"Selection\"},\"selection_policy\":{\"id\":\"2843\",\"type\":\"UnionRenderers\"}},\"id\":\"2709\",\"type\":\"ColumnDataSource\"}],\"root_ids\":[\"2900\"]},\"title\":\"Bokeh Application\",\"version\":\"1.4.0\"}};\n",
       "  var render_items = [{\"docid\":\"7549cdac-ebce-44f7-b05f-0dd65cf48e3f\",\"roots\":{\"2900\":\"ccbd37b8-be0e-4ff0-b4d4-44b9f9b0b86b\"}}];\n",
       "  root.Bokeh.embed.embed_items_notebook(docs_json, render_items);\n",
       "\n",
       "  }\n",
       "  if (root.Bokeh !== undefined) {\n",
       "    embed_document(root);\n",
       "  } else {\n",
       "    var attempts = 0;\n",
       "    var timer = setInterval(function(root) {\n",
       "      if (root.Bokeh !== undefined) {\n",
       "        clearInterval(timer);\n",
       "        embed_document(root);\n",
       "      } else {\n",
       "        attempts++;\n",
       "        if (attempts > 100) {\n",
       "          clearInterval(timer);\n",
       "          console.log(\"Bokeh: ERROR: Unable to run BokehJS code because BokehJS library is missing\");\n",
       "        }\n",
       "      }\n",
       "    }, 10, root)\n",
       "  }\n",
       "})(window);"
      ],
      "application/vnd.bokehjs_exec.v0+json": ""
     },
     "metadata": {
      "application/vnd.bokehjs_exec.v0+json": {
       "id": "2900"
      }
     },
     "output_type": "display_data"
    }
   ],
   "source": [
    "p = figure(plot_width = 600, plot_height = 400, tooltips = 'Z = @z')\n",
    "p.circle('x','y',size = 10,source=source)\n",
    "show(p)"
   ]
  },
  {
   "cell_type": "markdown",
   "metadata": {},
   "source": [
    "We can also add the hover separately."
   ]
  },
  {
   "cell_type": "code",
   "execution_count": 28,
   "metadata": {},
   "outputs": [
    {
     "data": {
      "text/html": [
       "\n",
       "\n",
       "\n",
       "\n",
       "\n",
       "\n",
       "  <div class=\"bk-root\" id=\"bfd3f810-d109-47c1-9b20-2eeb8209ffd0\" data-root-id=\"3101\"></div>\n"
      ]
     },
     "metadata": {},
     "output_type": "display_data"
    },
    {
     "data": {
      "application/javascript": [
       "(function(root) {\n",
       "  function embed_document(root) {\n",
       "    \n",
       "  var docs_json = {\"964a1188-03de-480a-94b4-80795401bce9\":{\"roots\":{\"references\":[{\"attributes\":{\"below\":[{\"id\":\"3110\",\"type\":\"LinearAxis\"}],\"center\":[{\"id\":\"3114\",\"type\":\"Grid\"},{\"id\":\"3119\",\"type\":\"Grid\"}],\"left\":[{\"id\":\"3115\",\"type\":\"LinearAxis\"}],\"plot_height\":400,\"renderers\":[{\"id\":\"3136\",\"type\":\"GlyphRenderer\"}],\"title\":{\"id\":\"3248\",\"type\":\"Title\"},\"toolbar\":{\"id\":\"3126\",\"type\":\"Toolbar\"},\"x_range\":{\"id\":\"3102\",\"type\":\"DataRange1d\"},\"x_scale\":{\"id\":\"3106\",\"type\":\"LinearScale\"},\"y_range\":{\"id\":\"3104\",\"type\":\"DataRange1d\"},\"y_scale\":{\"id\":\"3108\",\"type\":\"LinearScale\"}},\"id\":\"3101\",\"subtype\":\"Figure\",\"type\":\"Plot\"},{\"attributes\":{\"callback\":null},\"id\":\"3104\",\"type\":\"DataRange1d\"},{\"attributes\":{\"ticker\":{\"id\":\"3111\",\"type\":\"BasicTicker\"}},\"id\":\"3114\",\"type\":\"Grid\"},{\"attributes\":{\"callback\":null,\"data\":{\"x\":[0,1,2,3,4,5,6,7,8,9,10,11,12,13,14,15,16,17,18,19,20,21,22,23,24,25,26,27,28,29,30,31,32,33,34,35,36,37,38,39,40,41,42,43,44,45,46,47,48,49,50,51,52,53,54,55,56,57,58,59,60,61,62,63,64,65,66,67,68,69,70,71,72,73,74,75,76,77,78,79,80,81,82,83,84,85,86,87,88,89,90,91,92,93,94,95,96,97,98,99],\"y\":{\"__ndarray__\":\"BiJuXWZF3j8AUI/aKa7Kv+Ru2TBgaKE/q5buj/Oq+r9DQ7wfKDztv4BmVAMmlgPA5y6N8qWLA8AaWEjf34EEwPHTj8mS9grAqOIeubLo37/7HEJy24rxv/kkhMNY9+O/QmAkmnM13j87wGfh78fnvxco9XelLOM/AGQamP2H3j8IksvTQtX3P2OJWSUbbOI/tqYHYJwL3b/RsTvb2DDoP1LVVa4XIPQ/uc02c85Y9j/FNW6WrkwAQAJQpMaohARAObAnHQ+R9j+OdlWBgrHpvxg5NWKd4APAmIUE31AXEcBAS+x+GPcZwOY7GZcQjhzAyBXNnCarHsCedPsPTdMewHP3S2gq9x3A/43nwr+AH8CMOpOYX0IgwA2n0UzeHCDAnAUszW8bIsDKpm5f7ogjwDHRDUjMdiPAtSu17+fRJMA1muaHtfYlwJcQwx3pLCbANu7xB/eAI8COITXvzt0iwHqhETioiiPAo3y0gFC2JMD3LwtKJ/EkwI4mTr9XdSDAWv7z7NHAJsDI4gKY1K4lwGNQX5vLNyXAaP8p+ZN7I8BxE5uCdsclwFIAiC7rjCHAXK92Od8YH8Dly2NbhU0fwAWvffjlqR7ALQEMFq3DIMCrv0z1zqkgwIVP1Hoy8yDAZzsaVSwgHsCnQWoL8rEcwB9KnsBlBx3AAgcK81JRGsB9bgcP6xcYwDhBBX3aMxfA4ROf24hRHcBOcNBSnzMZwPSPSg/f3R3A3DV1y9TzIMAxwQZ7uikhwDm7VraSIyDAFA+iCaKlGsDT4ZfA6rIgwCQ/Q1dKgxvASeeQaI33FMDuTZdSBdAWwLQvyzs3nhfA/6j6jsHnGcAjwDjNiFEcwJvUJtOI1iDAC9orA6M3JMArndI+sZ0kwL3bIXq2GSTA1d7OSVtxIMCgCBWQ3nEiwEpWqrbQoCbAjLn61sZVJsDyuVBpjEQnwPLKo4wpjibAPmQWceBZJ8DmLupimd4pwIQcKBhOPyvARvBKt1ukKcAYUqTg5BgpwNbYj8ccCSvA3riBLKpKKcBp3RNmMy8swP60KhLhQS3AIyepO4vcLMA=\",\"dtype\":\"float64\",\"shape\":[100]},\"z\":{\"__ndarray__\":\"1FtnrpO/1j+Yk3yJHmzVP+CJA1WHuMY/gEj9FA5kgD/AYPScumCFP7M7VO1hHuM/wOnkvN6qtT9+p3+M6DPUP/5tp93r/u4/NWr9ZGP06z+L1GjHhjXtP7jDLOk5v8U/MrokpZRG1D9cBJuep/LOP/g+zWTOa98/hhZfAvxn4T+kMCP19vLZP5rW6UXTwec/2SRC+3WZ5D868gQ6VxnlP7y6AQDDGcM/DhAesAPk5z9+iqgbvYbkP3zyTJk3FtM/9pTUcZAN2D8F7prn1qLvP/ait+/XDdY/OmdxvQD71T+5yrORDKPjPyObqYPfyeM/QATP/AlZiz9IB3HiwGHiP2eArgTA4ug/OZ8LGW9l7j+BVmR41H7mPygfxLCov70/MIvXIaOQzz/uhi0v5M/aP7yj5TiaOeQ/EFlfEL1wuD+qMnN60/rYP1hBtPAdm9Q/BEpmyBgV7z+TTAnEigPvP/cxmXoUyuc/DFX1I+mQ4D8cajDgrQ3FP5BQh3VVYe4/kxT/JJl/7T81psvoBD7sP4Dy4Tu7Iao/I7c0bE/M6D+QtHbY8Ru7Pz50o8AA+ew/eRgzUffP4j/g/Vlpbp7vP1jx0gowb9s/7WefJLsn5D/2ReXzS9foP5ICOYfZoNA/cPku0vlx5D9EwrQ4JXXqP6wCd12IruA/sH5Ht8Mq2z/9RS4V+v3gPyouc+lzRe4/1jxVwgz67z/E+wa/NHjlP0iOySw1ROk/pjuyTSpp7z+kp1UHlh7CP6Bm5Ar86po/lGX57dvi5z8ycKPpFrvjP0AQAKt6Zbk/ElNLPW2z4D+Ppqz+4TzgP8AawmbLSNI/pGBAGdXMzz8ENGeTrhXHP2/fabatruI/vLxo3Jqzwz/7XBvveMbmP+7jGFPmeus/PGPG5FP35T8+LcMt4vfQPygC3N77aNk/MIlTlaBq4D+0HOAjcQfWP21+4gKTdeE/XbgqFav05T8Ax7UbKy7TP/z8W1zYkMs/UwX9WtM56T+rXS8rwdPoP1CBoZIaXaU/MKcH79Cn5D+sD2uvoWjAP0+2topehuE/LuNZ9VGo0j8=\",\"dtype\":\"float64\",\"shape\":[100]}},\"selected\":{\"id\":\"2844\",\"type\":\"Selection\"},\"selection_policy\":{\"id\":\"2843\",\"type\":\"UnionRenderers\"}},\"id\":\"2709\",\"type\":\"ColumnDataSource\"},{\"attributes\":{},\"id\":\"3116\",\"type\":\"BasicTicker\"},{\"attributes\":{},\"id\":\"3121\",\"type\":\"WheelZoomTool\"},{\"attributes\":{\"data_source\":{\"id\":\"2709\",\"type\":\"ColumnDataSource\"},\"glyph\":{\"id\":\"3134\",\"type\":\"Circle\"},\"hover_glyph\":null,\"muted_glyph\":null,\"nonselection_glyph\":{\"id\":\"3135\",\"type\":\"Circle\"},\"selection_glyph\":null,\"view\":{\"id\":\"3137\",\"type\":\"CDSView\"}},\"id\":\"3136\",\"type\":\"GlyphRenderer\"},{\"attributes\":{\"callback\":null,\"renderers\":[{\"id\":\"3136\",\"type\":\"GlyphRenderer\"}],\"tooltips\":\"Z = @z\"},\"id\":\"3138\",\"type\":\"HoverTool\"},{\"attributes\":{},\"id\":\"3111\",\"type\":\"BasicTicker\"},{\"attributes\":{},\"id\":\"3124\",\"type\":\"ResetTool\"},{\"attributes\":{\"text\":\"\"},\"id\":\"3248\",\"type\":\"Title\"},{\"attributes\":{\"fill_color\":{\"value\":\"#1f77b4\"},\"line_color\":{\"value\":\"#1f77b4\"},\"size\":{\"units\":\"screen\",\"value\":10},\"x\":{\"field\":\"x\"},\"y\":{\"field\":\"y\"}},\"id\":\"3134\",\"type\":\"Circle\"},{\"attributes\":{},\"id\":\"3251\",\"type\":\"BasicTickFormatter\"},{\"attributes\":{},\"id\":\"3123\",\"type\":\"SaveTool\"},{\"attributes\":{},\"id\":\"3125\",\"type\":\"HelpTool\"},{\"attributes\":{\"source\":{\"id\":\"2709\",\"type\":\"ColumnDataSource\"}},\"id\":\"3137\",\"type\":\"CDSView\"},{\"attributes\":{},\"id\":\"2843\",\"type\":\"UnionRenderers\"},{\"attributes\":{},\"id\":\"3120\",\"type\":\"PanTool\"},{\"attributes\":{},\"id\":\"3253\",\"type\":\"BasicTickFormatter\"},{\"attributes\":{\"dimension\":1,\"ticker\":{\"id\":\"3116\",\"type\":\"BasicTicker\"}},\"id\":\"3119\",\"type\":\"Grid\"},{\"attributes\":{},\"id\":\"2844\",\"type\":\"Selection\"},{\"attributes\":{\"overlay\":{\"id\":\"3256\",\"type\":\"BoxAnnotation\"}},\"id\":\"3122\",\"type\":\"BoxZoomTool\"},{\"attributes\":{\"active_drag\":\"auto\",\"active_inspect\":\"auto\",\"active_multi\":null,\"active_scroll\":\"auto\",\"active_tap\":\"auto\",\"tools\":[{\"id\":\"3120\",\"type\":\"PanTool\"},{\"id\":\"3121\",\"type\":\"WheelZoomTool\"},{\"id\":\"3122\",\"type\":\"BoxZoomTool\"},{\"id\":\"3123\",\"type\":\"SaveTool\"},{\"id\":\"3124\",\"type\":\"ResetTool\"},{\"id\":\"3125\",\"type\":\"HelpTool\"},{\"id\":\"3138\",\"type\":\"HoverTool\"}]},\"id\":\"3126\",\"type\":\"Toolbar\"},{\"attributes\":{\"fill_alpha\":{\"value\":0.1},\"fill_color\":{\"value\":\"#1f77b4\"},\"line_alpha\":{\"value\":0.1},\"line_color\":{\"value\":\"#1f77b4\"},\"size\":{\"units\":\"screen\",\"value\":10},\"x\":{\"field\":\"x\"},\"y\":{\"field\":\"y\"}},\"id\":\"3135\",\"type\":\"Circle\"},{\"attributes\":{},\"id\":\"3108\",\"type\":\"LinearScale\"},{\"attributes\":{\"bottom_units\":\"screen\",\"fill_alpha\":{\"value\":0.5},\"fill_color\":{\"value\":\"lightgrey\"},\"left_units\":\"screen\",\"level\":\"overlay\",\"line_alpha\":{\"value\":1.0},\"line_color\":{\"value\":\"black\"},\"line_dash\":[4,4],\"line_width\":{\"value\":2},\"render_mode\":\"css\",\"right_units\":\"screen\",\"top_units\":\"screen\"},\"id\":\"3256\",\"type\":\"BoxAnnotation\"},{\"attributes\":{\"callback\":null},\"id\":\"3102\",\"type\":\"DataRange1d\"},{\"attributes\":{},\"id\":\"3106\",\"type\":\"LinearScale\"},{\"attributes\":{\"formatter\":{\"id\":\"3253\",\"type\":\"BasicTickFormatter\"},\"ticker\":{\"id\":\"3116\",\"type\":\"BasicTicker\"}},\"id\":\"3115\",\"type\":\"LinearAxis\"},{\"attributes\":{\"formatter\":{\"id\":\"3251\",\"type\":\"BasicTickFormatter\"},\"ticker\":{\"id\":\"3111\",\"type\":\"BasicTicker\"}},\"id\":\"3110\",\"type\":\"LinearAxis\"}],\"root_ids\":[\"3101\"]},\"title\":\"Bokeh Application\",\"version\":\"1.4.0\"}};\n",
       "  var render_items = [{\"docid\":\"964a1188-03de-480a-94b4-80795401bce9\",\"roots\":{\"3101\":\"bfd3f810-d109-47c1-9b20-2eeb8209ffd0\"}}];\n",
       "  root.Bokeh.embed.embed_items_notebook(docs_json, render_items);\n",
       "\n",
       "  }\n",
       "  if (root.Bokeh !== undefined) {\n",
       "    embed_document(root);\n",
       "  } else {\n",
       "    var attempts = 0;\n",
       "    var timer = setInterval(function(root) {\n",
       "      if (root.Bokeh !== undefined) {\n",
       "        clearInterval(timer);\n",
       "        embed_document(root);\n",
       "      } else {\n",
       "        attempts++;\n",
       "        if (attempts > 100) {\n",
       "          clearInterval(timer);\n",
       "          console.log(\"Bokeh: ERROR: Unable to run BokehJS code because BokehJS library is missing\");\n",
       "        }\n",
       "      }\n",
       "    }, 10, root)\n",
       "  }\n",
       "})(window);"
      ],
      "application/vnd.bokehjs_exec.v0+json": ""
     },
     "metadata": {
      "application/vnd.bokehjs_exec.v0+json": {
       "id": "3101"
      }
     },
     "output_type": "display_data"
    }
   ],
   "source": [
    "p = figure(plot_width = 600, plot_height = 400)\n",
    "r = p.circle('x','y',size = 10, source=source)\n",
    "p.add_tools(HoverTool(tooltips='Z = @z',renderers=[r]))\n",
    "show(p)"
   ]
  },
  {
   "cell_type": "markdown",
   "metadata": {},
   "source": [
    "# Transformations\n",
    "Transform obeject are a transformation of columns in the data source. This allows us to transform the data and then pass them to a glyph.<br>\n",
    "Let's see a few examples of transformation.\n"
   ]
  },
  {
   "cell_type": "markdown",
   "metadata": {},
   "source": [
    "## cumsum\n",
    "Cumulative sum of data. This is useful when creating a pie plot. Let's see it through an example:"
   ]
  },
  {
   "cell_type": "markdown",
   "metadata": {},
   "source": [
    "Import Queensland air emission dataset, and create a table containing annual emission of _\"Volatile Organic Compounds\"_ for top 10 suburbs and put the emission of other suburbs under _\"Others\"_."
   ]
  },
  {
   "cell_type": "code",
   "execution_count": 29,
   "metadata": {},
   "outputs": [
    {
     "data": {
      "text/html": [
       "<div>\n",
       "<style scoped>\n",
       "    .dataframe tbody tr th:only-of-type {\n",
       "        vertical-align: middle;\n",
       "    }\n",
       "\n",
       "    .dataframe tbody tr th {\n",
       "        vertical-align: top;\n",
       "    }\n",
       "\n",
       "    .dataframe thead th {\n",
       "        text-align: right;\n",
       "    }\n",
       "</style>\n",
       "<table border=\"1\" class=\"dataframe\">\n",
       "  <thead>\n",
       "    <tr style=\"text-align: right;\">\n",
       "      <th></th>\n",
       "      <th>Total Volatile Organic Compounds</th>\n",
       "    </tr>\n",
       "    <tr>\n",
       "      <th>site_address_suburb</th>\n",
       "      <th></th>\n",
       "    </tr>\n",
       "  </thead>\n",
       "  <tbody>\n",
       "    <tr>\n",
       "      <th>Pinkenba</th>\n",
       "      <td>6.280971e+05</td>\n",
       "    </tr>\n",
       "    <tr>\n",
       "      <th>Surat</th>\n",
       "      <td>3.643645e+05</td>\n",
       "    </tr>\n",
       "    <tr>\n",
       "      <th>Moranbah</th>\n",
       "      <td>2.486396e+05</td>\n",
       "    </tr>\n",
       "    <tr>\n",
       "      <th>Dysart</th>\n",
       "      <td>2.173215e+05</td>\n",
       "    </tr>\n",
       "    <tr>\n",
       "      <th>Arundel</th>\n",
       "      <td>1.830000e+05</td>\n",
       "    </tr>\n",
       "    <tr>\n",
       "      <th>Coomera</th>\n",
       "      <td>1.702800e+05</td>\n",
       "    </tr>\n",
       "    <tr>\n",
       "      <th>North Stradbroke Island</th>\n",
       "      <td>1.537310e+05</td>\n",
       "    </tr>\n",
       "    <tr>\n",
       "      <th>Karrabin</th>\n",
       "      <td>1.237040e+05</td>\n",
       "    </tr>\n",
       "    <tr>\n",
       "      <th>Durham Downs</th>\n",
       "      <td>1.215000e+05</td>\n",
       "    </tr>\n",
       "    <tr>\n",
       "      <th>Injune</th>\n",
       "      <td>1.162193e+05</td>\n",
       "    </tr>\n",
       "    <tr>\n",
       "      <th>Others</th>\n",
       "      <td>3.442064e+06</td>\n",
       "    </tr>\n",
       "  </tbody>\n",
       "</table>\n",
       "</div>"
      ],
      "text/plain": [
       "                         Total Volatile Organic Compounds\n",
       "site_address_suburb                                      \n",
       "Pinkenba                                     6.280971e+05\n",
       "Surat                                        3.643645e+05\n",
       "Moranbah                                     2.486396e+05\n",
       "Dysart                                       2.173215e+05\n",
       "Arundel                                      1.830000e+05\n",
       "Coomera                                      1.702800e+05\n",
       "North Stradbroke Island                      1.537310e+05\n",
       "Karrabin                                     1.237040e+05\n",
       "Durham Downs                                 1.215000e+05\n",
       "Injune                                       1.162193e+05\n",
       "Others                                       3.442064e+06"
      ]
     },
     "execution_count": 29,
     "metadata": {},
     "output_type": "execute_result"
    }
   ],
   "source": [
    "df= pd.read_csv('../../data/processed/npi-2006-qld-air-total-emissions.csv')\n",
    "df = df.pivot_table(columns='substance',values = 'quantity_in_kg', index='site_address_suburb',aggfunc='mean',fill_value=0)\n",
    "data = df.sort_values(by='Total Volatile Organic Compounds',ascending = False)[:10]\n",
    "data = data['Total Volatile Organic Compounds']\n",
    "total_organic = df['Total Volatile Organic Compounds'].sum()\n",
    "data['Others'] = total_organic - data.sum()\n",
    "data = pd.DataFrame(data)\n",
    "data"
   ]
  },
  {
   "cell_type": "markdown",
   "metadata": {},
   "source": [
    "We want to add a seperate color to each suburb, so we use `Category20c`. `Category20c` is a predefined dictionary which contains lists of colors. Depending on how many colors we need we pass in a number as a key and it will return a list of distinct colors. __Note that it only has up to 20 colors.__<br>\n",
    "Let's add a column for the colors:"
   ]
  },
  {
   "cell_type": "code",
   "execution_count": 30,
   "metadata": {},
   "outputs": [],
   "source": [
    "from bokeh.palettes import Category20c\n",
    "\n",
    "data['color'] = Category20c[len(data)]"
   ]
  },
  {
   "cell_type": "markdown",
   "metadata": {},
   "source": [
    "For simplicity, let's rename `Total Volatile Organic Compounds` column to `Organics`."
   ]
  },
  {
   "cell_type": "code",
   "execution_count": 31,
   "metadata": {},
   "outputs": [],
   "source": [
    "\n",
    "data.rename(columns={'Total Volatile Organic Compounds':'Organics'},inplace=True)"
   ]
  },
  {
   "cell_type": "markdown",
   "metadata": {},
   "source": [
    "We want to create a pie chart, so we need the angle of each piece."
   ]
  },
  {
   "cell_type": "code",
   "execution_count": 32,
   "metadata": {},
   "outputs": [],
   "source": [
    "data['angle'] = data['Organics']/data['Organics'].sum()*2*np.pi"
   ]
  },
  {
   "cell_type": "markdown",
   "metadata": {},
   "source": [
    "To create a pie chart, we use a glyph called `wedge` which creates a sector of a circle. We need to pass in the start and end angle. To get the start and end angle we apply `cumsum` to the angle column of the data. `cumsum` has the option to start from zero or start from the first value in the data set.<br>\n",
    "And since `color` is a column in the data we can use it to style the plot."
   ]
  },
  {
   "cell_type": "code",
   "execution_count": 33,
   "metadata": {},
   "outputs": [],
   "source": [
    "from bokeh.transform import cumsum"
   ]
  },
  {
   "cell_type": "code",
   "execution_count": 34,
   "metadata": {},
   "outputs": [
    {
     "data": {
      "text/html": [
       "\n",
       "\n",
       "\n",
       "\n",
       "\n",
       "\n",
       "  <div class=\"bk-root\" id=\"a6a3dbd1-8317-4984-86f2-6b40eb4f497b\" data-root-id=\"3311\"></div>\n"
      ]
     },
     "metadata": {},
     "output_type": "display_data"
    },
    {
     "data": {
      "application/javascript": [
       "(function(root) {\n",
       "  function embed_document(root) {\n",
       "    \n",
       "  var docs_json = {\"2078d421-2f9e-47cd-b7b7-d2b1c12885c0\":{\"roots\":{\"references\":[{\"attributes\":{\"below\":[{\"id\":\"3320\",\"type\":\"LinearAxis\"}],\"center\":[{\"id\":\"3324\",\"type\":\"Grid\"},{\"id\":\"3329\",\"type\":\"Grid\"}],\"left\":[{\"id\":\"3325\",\"type\":\"LinearAxis\"}],\"plot_height\":500,\"plot_width\":800,\"renderers\":[{\"id\":\"3349\",\"type\":\"GlyphRenderer\"}],\"title\":{\"id\":\"3468\",\"type\":\"Title\"},\"toolbar\":{\"id\":\"3336\",\"type\":\"Toolbar\"},\"x_range\":{\"id\":\"3312\",\"type\":\"DataRange1d\"},\"x_scale\":{\"id\":\"3316\",\"type\":\"LinearScale\"},\"y_range\":{\"id\":\"3314\",\"type\":\"DataRange1d\"},\"y_scale\":{\"id\":\"3318\",\"type\":\"LinearScale\"}},\"id\":\"3311\",\"subtype\":\"Figure\",\"type\":\"Plot\"},{\"attributes\":{},\"id\":\"3318\",\"type\":\"LinearScale\"},{\"attributes\":{\"callback\":null},\"id\":\"3314\",\"type\":\"DataRange1d\"},{\"attributes\":{},\"id\":\"3474\",\"type\":\"UnionRenderers\"},{\"attributes\":{\"source\":{\"id\":\"3345\",\"type\":\"ColumnDataSource\"}},\"id\":\"3350\",\"type\":\"CDSView\"},{\"attributes\":{\"field\":\"angle\"},\"id\":\"3344\",\"type\":\"CumSum\"},{\"attributes\":{},\"id\":\"3473\",\"type\":\"BasicTickFormatter\"},{\"attributes\":{\"dimension\":1,\"ticker\":{\"id\":\"3326\",\"type\":\"BasicTicker\"}},\"id\":\"3329\",\"type\":\"Grid\"},{\"attributes\":{\"callback\":null},\"id\":\"3312\",\"type\":\"DataRange1d\"},{\"attributes\":{},\"id\":\"3471\",\"type\":\"BasicTickFormatter\"},{\"attributes\":{\"callback\":null,\"data\":{\"Organics\":{\"__ndarray__\":\"AAAAIAIrI0EAAAAAMj0WQZhuEoP8WQ5BAAAAAEyHCkEAAAAAwFYGQQAAAABAyQRBAAAAABjEAkEAAAAAgDP+QAAAAADAqf1AVVVVVbVf/EBD5yL1x0JKQQ==\",\"dtype\":\"float64\",\"shape\":[11]},\"angle\":{\"__ndarray__\":\"/uHCxAzk5T9bJVI46mXZP7aC83fbVNE/k8oRhgBMzj8mMTODGYPJP25gl3sivcc/o1PBK4RuxT/U8tRv4T7BP8P4ts448MA/GK75g8IzwD8WuBzqwP0NQA==\",\"dtype\":\"float64\",\"shape\":[11]},\"color\":[\"#3182bd\",\"#6baed6\",\"#9ecae1\",\"#c6dbef\",\"#e6550d\",\"#fd8d3c\",\"#fdae6b\",\"#fdd0a2\",\"#31a354\",\"#74c476\",\"#a1d99b\"],\"site_address_suburb\":[\"Pinkenba\",\"Surat\",\"Moranbah\",\"Dysart\",\"Arundel\",\"Coomera\",\"North Stradbroke Island\",\"Karrabin\",\"Durham Downs\",\"Injune\",\"Others\"]},\"selected\":{\"id\":\"3475\",\"type\":\"Selection\"},\"selection_policy\":{\"id\":\"3474\",\"type\":\"UnionRenderers\"}},\"id\":\"3345\",\"type\":\"ColumnDataSource\"},{\"attributes\":{\"formatter\":{\"id\":\"3473\",\"type\":\"BasicTickFormatter\"},\"ticker\":{\"id\":\"3326\",\"type\":\"BasicTicker\"}},\"id\":\"3325\",\"type\":\"LinearAxis\"},{\"attributes\":{\"bottom_units\":\"screen\",\"fill_alpha\":{\"value\":0.5},\"fill_color\":{\"value\":\"lightgrey\"},\"left_units\":\"screen\",\"level\":\"overlay\",\"line_alpha\":{\"value\":1.0},\"line_color\":{\"value\":\"black\"},\"line_dash\":[4,4],\"line_width\":{\"value\":2},\"render_mode\":\"css\",\"right_units\":\"screen\",\"top_units\":\"screen\"},\"id\":\"3476\",\"type\":\"BoxAnnotation\"},{\"attributes\":{},\"id\":\"3331\",\"type\":\"WheelZoomTool\"},{\"attributes\":{},\"id\":\"3475\",\"type\":\"Selection\"},{\"attributes\":{},\"id\":\"3316\",\"type\":\"LinearScale\"},{\"attributes\":{\"ticker\":{\"id\":\"3321\",\"type\":\"BasicTicker\"}},\"id\":\"3324\",\"type\":\"Grid\"},{\"attributes\":{\"overlay\":{\"id\":\"3476\",\"type\":\"BoxAnnotation\"}},\"id\":\"3332\",\"type\":\"BoxZoomTool\"},{\"attributes\":{},\"id\":\"3321\",\"type\":\"BasicTicker\"},{\"attributes\":{},\"id\":\"3326\",\"type\":\"BasicTicker\"},{\"attributes\":{},\"id\":\"3330\",\"type\":\"PanTool\"},{\"attributes\":{\"formatter\":{\"id\":\"3471\",\"type\":\"BasicTickFormatter\"},\"ticker\":{\"id\":\"3321\",\"type\":\"BasicTicker\"}},\"id\":\"3320\",\"type\":\"LinearAxis\"},{\"attributes\":{\"end_angle\":{\"expr\":{\"id\":\"3344\",\"type\":\"CumSum\"},\"units\":\"rad\"},\"fill_alpha\":{\"value\":0.1},\"fill_color\":{\"value\":\"#1f77b4\"},\"line_alpha\":{\"value\":0.1},\"line_color\":{\"value\":\"#1f77b4\"},\"radius\":{\"units\":\"data\",\"value\":0.5},\"start_angle\":{\"expr\":{\"id\":\"3343\",\"type\":\"CumSum\"},\"units\":\"rad\"},\"x\":{\"value\":0},\"y\":{\"value\":1}},\"id\":\"3348\",\"type\":\"Wedge\"},{\"attributes\":{},\"id\":\"3333\",\"type\":\"SaveTool\"},{\"attributes\":{\"field\":\"angle\",\"include_zero\":true},\"id\":\"3343\",\"type\":\"CumSum\"},{\"attributes\":{},\"id\":\"3334\",\"type\":\"ResetTool\"},{\"attributes\":{\"text\":\"\"},\"id\":\"3468\",\"type\":\"Title\"},{\"attributes\":{},\"id\":\"3335\",\"type\":\"HelpTool\"},{\"attributes\":{\"active_drag\":\"auto\",\"active_inspect\":\"auto\",\"active_multi\":null,\"active_scroll\":\"auto\",\"active_tap\":\"auto\",\"tools\":[{\"id\":\"3330\",\"type\":\"PanTool\"},{\"id\":\"3331\",\"type\":\"WheelZoomTool\"},{\"id\":\"3332\",\"type\":\"BoxZoomTool\"},{\"id\":\"3333\",\"type\":\"SaveTool\"},{\"id\":\"3334\",\"type\":\"ResetTool\"},{\"id\":\"3335\",\"type\":\"HelpTool\"}]},\"id\":\"3336\",\"type\":\"Toolbar\"},{\"attributes\":{\"end_angle\":{\"expr\":{\"id\":\"3344\",\"type\":\"CumSum\"},\"units\":\"rad\"},\"fill_color\":{\"field\":\"color\"},\"line_color\":{\"value\":\"#1f77b4\"},\"radius\":{\"units\":\"data\",\"value\":0.5},\"start_angle\":{\"expr\":{\"id\":\"3343\",\"type\":\"CumSum\"},\"units\":\"rad\"},\"x\":{\"value\":0},\"y\":{\"value\":1}},\"id\":\"3347\",\"type\":\"Wedge\"},{\"attributes\":{\"data_source\":{\"id\":\"3345\",\"type\":\"ColumnDataSource\"},\"glyph\":{\"id\":\"3347\",\"type\":\"Wedge\"},\"hover_glyph\":null,\"muted_glyph\":null,\"nonselection_glyph\":{\"id\":\"3348\",\"type\":\"Wedge\"},\"selection_glyph\":null,\"view\":{\"id\":\"3350\",\"type\":\"CDSView\"}},\"id\":\"3349\",\"type\":\"GlyphRenderer\"}],\"root_ids\":[\"3311\"]},\"title\":\"Bokeh Application\",\"version\":\"1.4.0\"}};\n",
       "  var render_items = [{\"docid\":\"2078d421-2f9e-47cd-b7b7-d2b1c12885c0\",\"roots\":{\"3311\":\"a6a3dbd1-8317-4984-86f2-6b40eb4f497b\"}}];\n",
       "  root.Bokeh.embed.embed_items_notebook(docs_json, render_items);\n",
       "\n",
       "  }\n",
       "  if (root.Bokeh !== undefined) {\n",
       "    embed_document(root);\n",
       "  } else {\n",
       "    var attempts = 0;\n",
       "    var timer = setInterval(function(root) {\n",
       "      if (root.Bokeh !== undefined) {\n",
       "        clearInterval(timer);\n",
       "        embed_document(root);\n",
       "      } else {\n",
       "        attempts++;\n",
       "        if (attempts > 100) {\n",
       "          clearInterval(timer);\n",
       "          console.log(\"Bokeh: ERROR: Unable to run BokehJS code because BokehJS library is missing\");\n",
       "        }\n",
       "      }\n",
       "    }, 10, root)\n",
       "  }\n",
       "})(window);"
      ],
      "application/vnd.bokehjs_exec.v0+json": ""
     },
     "metadata": {
      "application/vnd.bokehjs_exec.v0+json": {
       "id": "3311"
      }
     },
     "output_type": "display_data"
    }
   ],
   "source": [
    "p = figure(plot_height = 500,plot_width=800) #tools = 'hover', tooltips='@site_address_suburb: @Organics kg/year'\n",
    "r = p.wedge(x=0,y=1,radius=0.5,source=data,\n",
    "       start_angle = cumsum('angle',include_zero=True), \n",
    "       end_angle=cumsum('angle'),\n",
    "       fill_color = 'color')\n",
    "show(p)"
   ]
  },
  {
   "cell_type": "markdown",
   "metadata": {},
   "source": [
    "Now we can add a hover tooltip to the emission amount for each suburb."
   ]
  },
  {
   "cell_type": "code",
   "execution_count": 35,
   "metadata": {},
   "outputs": [
    {
     "data": {
      "text/html": [
       "\n",
       "\n",
       "\n",
       "\n",
       "\n",
       "\n",
       "  <div class=\"bk-root\" id=\"764312f1-70e7-4e75-8001-b6d1b6e59011\" data-root-id=\"3311\"></div>\n"
      ]
     },
     "metadata": {},
     "output_type": "display_data"
    },
    {
     "data": {
      "application/javascript": [
       "(function(root) {\n",
       "  function embed_document(root) {\n",
       "    \n",
       "  var docs_json = {\"613f6324-95a5-4371-a8b6-a48f22aee235\":{\"roots\":{\"references\":[{\"attributes\":{\"below\":[{\"id\":\"3320\",\"type\":\"LinearAxis\"}],\"center\":[{\"id\":\"3324\",\"type\":\"Grid\"},{\"id\":\"3329\",\"type\":\"Grid\"}],\"left\":[{\"id\":\"3325\",\"type\":\"LinearAxis\"}],\"plot_height\":500,\"plot_width\":800,\"renderers\":[{\"id\":\"3349\",\"type\":\"GlyphRenderer\"}],\"title\":{\"id\":\"3468\",\"type\":\"Title\"},\"toolbar\":{\"id\":\"3336\",\"type\":\"Toolbar\"},\"x_range\":{\"id\":\"3312\",\"type\":\"DataRange1d\"},\"x_scale\":{\"id\":\"3316\",\"type\":\"LinearScale\"},\"y_range\":{\"id\":\"3314\",\"type\":\"DataRange1d\"},\"y_scale\":{\"id\":\"3318\",\"type\":\"LinearScale\"}},\"id\":\"3311\",\"subtype\":\"Figure\",\"type\":\"Plot\"},{\"attributes\":{},\"id\":\"3318\",\"type\":\"LinearScale\"},{\"attributes\":{\"callback\":null},\"id\":\"3314\",\"type\":\"DataRange1d\"},{\"attributes\":{},\"id\":\"3474\",\"type\":\"UnionRenderers\"},{\"attributes\":{\"source\":{\"id\":\"3345\",\"type\":\"ColumnDataSource\"}},\"id\":\"3350\",\"type\":\"CDSView\"},{\"attributes\":{\"field\":\"angle\"},\"id\":\"3344\",\"type\":\"CumSum\"},{\"attributes\":{},\"id\":\"3473\",\"type\":\"BasicTickFormatter\"},{\"attributes\":{\"dimension\":1,\"ticker\":{\"id\":\"3326\",\"type\":\"BasicTicker\"}},\"id\":\"3329\",\"type\":\"Grid\"},{\"attributes\":{\"callback\":null},\"id\":\"3312\",\"type\":\"DataRange1d\"},{\"attributes\":{},\"id\":\"3471\",\"type\":\"BasicTickFormatter\"},{\"attributes\":{\"callback\":null,\"data\":{\"Organics\":{\"__ndarray__\":\"AAAAIAIrI0EAAAAAMj0WQZhuEoP8WQ5BAAAAAEyHCkEAAAAAwFYGQQAAAABAyQRBAAAAABjEAkEAAAAAgDP+QAAAAADAqf1AVVVVVbVf/EBD5yL1x0JKQQ==\",\"dtype\":\"float64\",\"shape\":[11]},\"angle\":{\"__ndarray__\":\"/uHCxAzk5T9bJVI46mXZP7aC83fbVNE/k8oRhgBMzj8mMTODGYPJP25gl3sivcc/o1PBK4RuxT/U8tRv4T7BP8P4ts448MA/GK75g8IzwD8WuBzqwP0NQA==\",\"dtype\":\"float64\",\"shape\":[11]},\"color\":[\"#3182bd\",\"#6baed6\",\"#9ecae1\",\"#c6dbef\",\"#e6550d\",\"#fd8d3c\",\"#fdae6b\",\"#fdd0a2\",\"#31a354\",\"#74c476\",\"#a1d99b\"],\"site_address_suburb\":[\"Pinkenba\",\"Surat\",\"Moranbah\",\"Dysart\",\"Arundel\",\"Coomera\",\"North Stradbroke Island\",\"Karrabin\",\"Durham Downs\",\"Injune\",\"Others\"]},\"selected\":{\"id\":\"3475\",\"type\":\"Selection\"},\"selection_policy\":{\"id\":\"3474\",\"type\":\"UnionRenderers\"}},\"id\":\"3345\",\"type\":\"ColumnDataSource\"},{\"attributes\":{\"formatter\":{\"id\":\"3473\",\"type\":\"BasicTickFormatter\"},\"ticker\":{\"id\":\"3326\",\"type\":\"BasicTicker\"}},\"id\":\"3325\",\"type\":\"LinearAxis\"},{\"attributes\":{\"bottom_units\":\"screen\",\"fill_alpha\":{\"value\":0.5},\"fill_color\":{\"value\":\"lightgrey\"},\"left_units\":\"screen\",\"level\":\"overlay\",\"line_alpha\":{\"value\":1.0},\"line_color\":{\"value\":\"black\"},\"line_dash\":[4,4],\"line_width\":{\"value\":2},\"render_mode\":\"css\",\"right_units\":\"screen\",\"top_units\":\"screen\"},\"id\":\"3476\",\"type\":\"BoxAnnotation\"},{\"attributes\":{},\"id\":\"3331\",\"type\":\"WheelZoomTool\"},{\"attributes\":{},\"id\":\"3475\",\"type\":\"Selection\"},{\"attributes\":{},\"id\":\"3316\",\"type\":\"LinearScale\"},{\"attributes\":{\"ticker\":{\"id\":\"3321\",\"type\":\"BasicTicker\"}},\"id\":\"3324\",\"type\":\"Grid\"},{\"attributes\":{\"overlay\":{\"id\":\"3476\",\"type\":\"BoxAnnotation\"}},\"id\":\"3332\",\"type\":\"BoxZoomTool\"},{\"attributes\":{},\"id\":\"3321\",\"type\":\"BasicTicker\"},{\"attributes\":{},\"id\":\"3326\",\"type\":\"BasicTicker\"},{\"attributes\":{},\"id\":\"3330\",\"type\":\"PanTool\"},{\"attributes\":{\"formatter\":{\"id\":\"3471\",\"type\":\"BasicTickFormatter\"},\"ticker\":{\"id\":\"3321\",\"type\":\"BasicTicker\"}},\"id\":\"3320\",\"type\":\"LinearAxis\"},{\"attributes\":{\"end_angle\":{\"expr\":{\"id\":\"3344\",\"type\":\"CumSum\"},\"units\":\"rad\"},\"fill_alpha\":{\"value\":0.1},\"fill_color\":{\"value\":\"#1f77b4\"},\"line_alpha\":{\"value\":0.1},\"line_color\":{\"value\":\"#1f77b4\"},\"radius\":{\"units\":\"data\",\"value\":0.5},\"start_angle\":{\"expr\":{\"id\":\"3343\",\"type\":\"CumSum\"},\"units\":\"rad\"},\"x\":{\"value\":0},\"y\":{\"value\":1}},\"id\":\"3348\",\"type\":\"Wedge\"},{\"attributes\":{},\"id\":\"3333\",\"type\":\"SaveTool\"},{\"attributes\":{\"callback\":null,\"renderers\":[{\"id\":\"3349\",\"type\":\"GlyphRenderer\"}],\"tooltips\":\"@site_address_suburb: @Organics kg/year\"},\"id\":\"3531\",\"type\":\"HoverTool\"},{\"attributes\":{\"field\":\"angle\",\"include_zero\":true},\"id\":\"3343\",\"type\":\"CumSum\"},{\"attributes\":{},\"id\":\"3334\",\"type\":\"ResetTool\"},{\"attributes\":{\"text\":\"\"},\"id\":\"3468\",\"type\":\"Title\"},{\"attributes\":{},\"id\":\"3335\",\"type\":\"HelpTool\"},{\"attributes\":{\"active_drag\":\"auto\",\"active_inspect\":\"auto\",\"active_multi\":null,\"active_scroll\":\"auto\",\"active_tap\":\"auto\",\"tools\":[{\"id\":\"3330\",\"type\":\"PanTool\"},{\"id\":\"3331\",\"type\":\"WheelZoomTool\"},{\"id\":\"3332\",\"type\":\"BoxZoomTool\"},{\"id\":\"3333\",\"type\":\"SaveTool\"},{\"id\":\"3334\",\"type\":\"ResetTool\"},{\"id\":\"3335\",\"type\":\"HelpTool\"},{\"id\":\"3531\",\"type\":\"HoverTool\"}]},\"id\":\"3336\",\"type\":\"Toolbar\"},{\"attributes\":{\"end_angle\":{\"expr\":{\"id\":\"3344\",\"type\":\"CumSum\"},\"units\":\"rad\"},\"fill_color\":{\"field\":\"color\"},\"line_color\":{\"value\":\"#1f77b4\"},\"radius\":{\"units\":\"data\",\"value\":0.5},\"start_angle\":{\"expr\":{\"id\":\"3343\",\"type\":\"CumSum\"},\"units\":\"rad\"},\"x\":{\"value\":0},\"y\":{\"value\":1}},\"id\":\"3347\",\"type\":\"Wedge\"},{\"attributes\":{\"data_source\":{\"id\":\"3345\",\"type\":\"ColumnDataSource\"},\"glyph\":{\"id\":\"3347\",\"type\":\"Wedge\"},\"hover_glyph\":null,\"muted_glyph\":null,\"nonselection_glyph\":{\"id\":\"3348\",\"type\":\"Wedge\"},\"selection_glyph\":null,\"view\":{\"id\":\"3350\",\"type\":\"CDSView\"}},\"id\":\"3349\",\"type\":\"GlyphRenderer\"}],\"root_ids\":[\"3311\"]},\"title\":\"Bokeh Application\",\"version\":\"1.4.0\"}};\n",
       "  var render_items = [{\"docid\":\"613f6324-95a5-4371-a8b6-a48f22aee235\",\"roots\":{\"3311\":\"764312f1-70e7-4e75-8001-b6d1b6e59011\"}}];\n",
       "  root.Bokeh.embed.embed_items_notebook(docs_json, render_items);\n",
       "\n",
       "  }\n",
       "  if (root.Bokeh !== undefined) {\n",
       "    embed_document(root);\n",
       "  } else {\n",
       "    var attempts = 0;\n",
       "    var timer = setInterval(function(root) {\n",
       "      if (root.Bokeh !== undefined) {\n",
       "        clearInterval(timer);\n",
       "        embed_document(root);\n",
       "      } else {\n",
       "        attempts++;\n",
       "        if (attempts > 100) {\n",
       "          clearInterval(timer);\n",
       "          console.log(\"Bokeh: ERROR: Unable to run BokehJS code because BokehJS library is missing\");\n",
       "        }\n",
       "      }\n",
       "    }, 10, root)\n",
       "  }\n",
       "})(window);"
      ],
      "application/vnd.bokehjs_exec.v0+json": ""
     },
     "metadata": {
      "application/vnd.bokehjs_exec.v0+json": {
       "id": "3311"
      }
     },
     "output_type": "display_data"
    }
   ],
   "source": [
    "p.add_tools(HoverTool(tooltips='@site_address_suburb: @Organics kg/year',renderers=[r]))\n",
    "show(p)"
   ]
  },
  {
   "cell_type": "markdown",
   "metadata": {},
   "source": [
    "An to make it look better, we add a bit of styling."
   ]
  },
  {
   "cell_type": "code",
   "execution_count": 36,
   "metadata": {},
   "outputs": [
    {
     "data": {
      "text/html": [
       "\n",
       "\n",
       "\n",
       "\n",
       "\n",
       "\n",
       "  <div class=\"bk-root\" id=\"4bb91fab-5d5b-414c-8ce8-732ccd5b214e\" data-root-id=\"3311\"></div>\n"
      ]
     },
     "metadata": {},
     "output_type": "display_data"
    },
    {
     "data": {
      "application/javascript": [
       "(function(root) {\n",
       "  function embed_document(root) {\n",
       "    \n",
       "  var docs_json = {\"36364dae-b3c4-4f7e-bed4-da6aa73381bb\":{\"roots\":{\"references\":[{\"attributes\":{\"below\":[{\"id\":\"3320\",\"type\":\"LinearAxis\"}],\"center\":[{\"id\":\"3324\",\"type\":\"Grid\"},{\"id\":\"3329\",\"type\":\"Grid\"}],\"left\":[{\"id\":\"3325\",\"type\":\"LinearAxis\"}],\"plot_height\":500,\"plot_width\":800,\"renderers\":[{\"id\":\"3349\",\"type\":\"GlyphRenderer\"}],\"title\":{\"id\":\"3468\",\"type\":\"Title\"},\"toolbar\":{\"id\":\"3336\",\"type\":\"Toolbar\"},\"x_range\":{\"id\":\"3312\",\"type\":\"DataRange1d\"},\"x_scale\":{\"id\":\"3316\",\"type\":\"LinearScale\"},\"y_range\":{\"id\":\"3314\",\"type\":\"DataRange1d\"},\"y_scale\":{\"id\":\"3318\",\"type\":\"LinearScale\"}},\"id\":\"3311\",\"subtype\":\"Figure\",\"type\":\"Plot\"},{\"attributes\":{},\"id\":\"3318\",\"type\":\"LinearScale\"},{\"attributes\":{\"callback\":null},\"id\":\"3314\",\"type\":\"DataRange1d\"},{\"attributes\":{},\"id\":\"3474\",\"type\":\"UnionRenderers\"},{\"attributes\":{\"source\":{\"id\":\"3345\",\"type\":\"ColumnDataSource\"}},\"id\":\"3350\",\"type\":\"CDSView\"},{\"attributes\":{\"field\":\"angle\"},\"id\":\"3344\",\"type\":\"CumSum\"},{\"attributes\":{},\"id\":\"3473\",\"type\":\"BasicTickFormatter\"},{\"attributes\":{\"dimension\":1,\"grid_line_color\":null,\"ticker\":{\"id\":\"3326\",\"type\":\"BasicTicker\"}},\"id\":\"3329\",\"type\":\"Grid\"},{\"attributes\":{\"callback\":null},\"id\":\"3312\",\"type\":\"DataRange1d\"},{\"attributes\":{},\"id\":\"3471\",\"type\":\"BasicTickFormatter\"},{\"attributes\":{\"callback\":null,\"data\":{\"Organics\":{\"__ndarray__\":\"AAAAIAIrI0EAAAAAMj0WQZhuEoP8WQ5BAAAAAEyHCkEAAAAAwFYGQQAAAABAyQRBAAAAABjEAkEAAAAAgDP+QAAAAADAqf1AVVVVVbVf/EBD5yL1x0JKQQ==\",\"dtype\":\"float64\",\"shape\":[11]},\"angle\":{\"__ndarray__\":\"/uHCxAzk5T9bJVI46mXZP7aC83fbVNE/k8oRhgBMzj8mMTODGYPJP25gl3sivcc/o1PBK4RuxT/U8tRv4T7BP8P4ts448MA/GK75g8IzwD8WuBzqwP0NQA==\",\"dtype\":\"float64\",\"shape\":[11]},\"color\":[\"#3182bd\",\"#6baed6\",\"#9ecae1\",\"#c6dbef\",\"#e6550d\",\"#fd8d3c\",\"#fdae6b\",\"#fdd0a2\",\"#31a354\",\"#74c476\",\"#a1d99b\"],\"site_address_suburb\":[\"Pinkenba\",\"Surat\",\"Moranbah\",\"Dysart\",\"Arundel\",\"Coomera\",\"North Stradbroke Island\",\"Karrabin\",\"Durham Downs\",\"Injune\",\"Others\"]},\"selected\":{\"id\":\"3475\",\"type\":\"Selection\"},\"selection_policy\":{\"id\":\"3474\",\"type\":\"UnionRenderers\"}},\"id\":\"3345\",\"type\":\"ColumnDataSource\"},{\"attributes\":{\"axis_label\":null,\"formatter\":{\"id\":\"3473\",\"type\":\"BasicTickFormatter\"},\"ticker\":{\"id\":\"3326\",\"type\":\"BasicTicker\"},\"visible\":false},\"id\":\"3325\",\"type\":\"LinearAxis\"},{\"attributes\":{\"bottom_units\":\"screen\",\"fill_alpha\":{\"value\":0.5},\"fill_color\":{\"value\":\"lightgrey\"},\"left_units\":\"screen\",\"level\":\"overlay\",\"line_alpha\":{\"value\":1.0},\"line_color\":{\"value\":\"black\"},\"line_dash\":[4,4],\"line_width\":{\"value\":2},\"render_mode\":\"css\",\"right_units\":\"screen\",\"top_units\":\"screen\"},\"id\":\"3476\",\"type\":\"BoxAnnotation\"},{\"attributes\":{},\"id\":\"3331\",\"type\":\"WheelZoomTool\"},{\"attributes\":{},\"id\":\"3475\",\"type\":\"Selection\"},{\"attributes\":{},\"id\":\"3316\",\"type\":\"LinearScale\"},{\"attributes\":{\"grid_line_color\":null,\"ticker\":{\"id\":\"3321\",\"type\":\"BasicTicker\"}},\"id\":\"3324\",\"type\":\"Grid\"},{\"attributes\":{\"overlay\":{\"id\":\"3476\",\"type\":\"BoxAnnotation\"}},\"id\":\"3332\",\"type\":\"BoxZoomTool\"},{\"attributes\":{},\"id\":\"3321\",\"type\":\"BasicTicker\"},{\"attributes\":{},\"id\":\"3326\",\"type\":\"BasicTicker\"},{\"attributes\":{},\"id\":\"3330\",\"type\":\"PanTool\"},{\"attributes\":{\"axis_label\":null,\"formatter\":{\"id\":\"3471\",\"type\":\"BasicTickFormatter\"},\"ticker\":{\"id\":\"3321\",\"type\":\"BasicTicker\"},\"visible\":false},\"id\":\"3320\",\"type\":\"LinearAxis\"},{\"attributes\":{\"end_angle\":{\"expr\":{\"id\":\"3344\",\"type\":\"CumSum\"},\"units\":\"rad\"},\"fill_alpha\":{\"value\":0.1},\"fill_color\":{\"value\":\"#1f77b4\"},\"line_alpha\":{\"value\":0.1},\"line_color\":{\"value\":\"#1f77b4\"},\"radius\":{\"units\":\"data\",\"value\":0.5},\"start_angle\":{\"expr\":{\"id\":\"3343\",\"type\":\"CumSum\"},\"units\":\"rad\"},\"x\":{\"value\":0},\"y\":{\"value\":1}},\"id\":\"3348\",\"type\":\"Wedge\"},{\"attributes\":{},\"id\":\"3333\",\"type\":\"SaveTool\"},{\"attributes\":{\"callback\":null,\"renderers\":[{\"id\":\"3349\",\"type\":\"GlyphRenderer\"}],\"tooltips\":\"@site_address_suburb: @Organics kg/year\"},\"id\":\"3531\",\"type\":\"HoverTool\"},{\"attributes\":{\"field\":\"angle\",\"include_zero\":true},\"id\":\"3343\",\"type\":\"CumSum\"},{\"attributes\":{},\"id\":\"3334\",\"type\":\"ResetTool\"},{\"attributes\":{\"text\":\"\"},\"id\":\"3468\",\"type\":\"Title\"},{\"attributes\":{},\"id\":\"3335\",\"type\":\"HelpTool\"},{\"attributes\":{\"active_drag\":\"auto\",\"active_inspect\":\"auto\",\"active_multi\":null,\"active_scroll\":\"auto\",\"active_tap\":\"auto\",\"tools\":[{\"id\":\"3330\",\"type\":\"PanTool\"},{\"id\":\"3331\",\"type\":\"WheelZoomTool\"},{\"id\":\"3332\",\"type\":\"BoxZoomTool\"},{\"id\":\"3333\",\"type\":\"SaveTool\"},{\"id\":\"3334\",\"type\":\"ResetTool\"},{\"id\":\"3335\",\"type\":\"HelpTool\"},{\"id\":\"3531\",\"type\":\"HoverTool\"}]},\"id\":\"3336\",\"type\":\"Toolbar\"},{\"attributes\":{\"end_angle\":{\"expr\":{\"id\":\"3344\",\"type\":\"CumSum\"},\"units\":\"rad\"},\"fill_color\":{\"field\":\"color\"},\"line_color\":{\"value\":\"white\"},\"line_width\":{\"value\":2},\"radius\":{\"units\":\"data\",\"value\":0.5},\"start_angle\":{\"expr\":{\"id\":\"3343\",\"type\":\"CumSum\"},\"units\":\"rad\"},\"x\":{\"value\":0},\"y\":{\"value\":1}},\"id\":\"3347\",\"type\":\"Wedge\"},{\"attributes\":{\"data_source\":{\"id\":\"3345\",\"type\":\"ColumnDataSource\"},\"glyph\":{\"id\":\"3347\",\"type\":\"Wedge\"},\"hover_glyph\":null,\"muted_glyph\":null,\"nonselection_glyph\":{\"id\":\"3348\",\"type\":\"Wedge\"},\"selection_glyph\":null,\"view\":{\"id\":\"3350\",\"type\":\"CDSView\"}},\"id\":\"3349\",\"type\":\"GlyphRenderer\"}],\"root_ids\":[\"3311\"]},\"title\":\"Bokeh Application\",\"version\":\"1.4.0\"}};\n",
       "  var render_items = [{\"docid\":\"36364dae-b3c4-4f7e-bed4-da6aa73381bb\",\"roots\":{\"3311\":\"4bb91fab-5d5b-414c-8ce8-732ccd5b214e\"}}];\n",
       "  root.Bokeh.embed.embed_items_notebook(docs_json, render_items);\n",
       "\n",
       "  }\n",
       "  if (root.Bokeh !== undefined) {\n",
       "    embed_document(root);\n",
       "  } else {\n",
       "    var attempts = 0;\n",
       "    var timer = setInterval(function(root) {\n",
       "      if (root.Bokeh !== undefined) {\n",
       "        clearInterval(timer);\n",
       "        embed_document(root);\n",
       "      } else {\n",
       "        attempts++;\n",
       "        if (attempts > 100) {\n",
       "          clearInterval(timer);\n",
       "          console.log(\"Bokeh: ERROR: Unable to run BokehJS code because BokehJS library is missing\");\n",
       "        }\n",
       "      }\n",
       "    }, 10, root)\n",
       "  }\n",
       "})(window);"
      ],
      "application/vnd.bokehjs_exec.v0+json": ""
     },
     "metadata": {
      "application/vnd.bokehjs_exec.v0+json": {
       "id": "3311"
      }
     },
     "output_type": "display_data"
    }
   ],
   "source": [
    "r.glyph.line_color = 'white'\n",
    "r.glyph.line_width = 2\n",
    "\n",
    "p.axis.axis_label=None\n",
    "p.axis.visible=False\n",
    "p.grid.grid_line_color = None\n",
    "show(p)"
   ]
  },
  {
   "cell_type": "markdown",
   "metadata": {},
   "source": [
    "## Linear colormap\n",
    "To create colors based on values in the data, we can use `linear_color`. To use this function we need a palette, which is a list of colors (Similar to `Category20c`). You can find a list of all palettes in `bokeh.palettes`. Then, by setting a low and a high value, any value in between will be mapped to a color in the palette."
   ]
  },
  {
   "cell_type": "code",
   "execution_count": 41,
   "metadata": {},
   "outputs": [],
   "source": [
    "from bokeh.transform import linear_cmap\n",
    "from bokeh import palettes"
   ]
  },
  {
   "cell_type": "code",
   "execution_count": 43,
   "metadata": {},
   "outputs": [
    {
     "data": {
      "text/html": [
       "\n",
       "\n",
       "\n",
       "\n",
       "\n",
       "\n",
       "  <div class=\"bk-root\" id=\"05dfd329-1c3d-46f9-8ed7-8487a5e083bf\" data-root-id=\"4485\"></div>\n"
      ]
     },
     "metadata": {},
     "output_type": "display_data"
    },
    {
     "data": {
      "application/javascript": [
       "(function(root) {\n",
       "  function embed_document(root) {\n",
       "    \n",
       "  var docs_json = {\"682d1f49-ddfa-4437-b5f0-ddd6f0745997\":{\"roots\":{\"references\":[{\"attributes\":{\"below\":[{\"id\":\"4494\",\"type\":\"LinearAxis\"}],\"center\":[{\"id\":\"4498\",\"type\":\"Grid\"},{\"id\":\"4503\",\"type\":\"Grid\"}],\"left\":[{\"id\":\"4499\",\"type\":\"LinearAxis\"}],\"plot_height\":400,\"renderers\":[{\"id\":\"4523\",\"type\":\"GlyphRenderer\"}],\"title\":{\"id\":\"4678\",\"type\":\"Title\"},\"toolbar\":{\"id\":\"4511\",\"type\":\"Toolbar\"},\"x_range\":{\"id\":\"4486\",\"type\":\"DataRange1d\"},\"x_scale\":{\"id\":\"4490\",\"type\":\"LinearScale\"},\"y_range\":{\"id\":\"4488\",\"type\":\"DataRange1d\"},\"y_scale\":{\"id\":\"4492\",\"type\":\"LinearScale\"}},\"id\":\"4485\",\"subtype\":\"Figure\",\"type\":\"Plot\"},{\"attributes\":{\"callback\":null,\"data\":{\"x\":[0,1,2,3,4,5,6,7,8,9,10,11,12,13,14,15,16,17,18,19,20,21,22,23,24,25,26,27,28,29,30,31,32,33,34,35,36,37,38,39,40,41,42,43,44,45,46,47,48,49,50,51,52,53,54,55,56,57,58,59,60,61,62,63,64,65,66,67,68,69,70,71,72,73,74,75,76,77,78,79,80,81,82,83,84,85,86,87,88,89,90,91,92,93,94,95,96,97,98,99],\"y\":{\"__ndarray__\":\"BiJuXWZF3j8AUI/aKa7Kv+Ru2TBgaKE/q5buj/Oq+r9DQ7wfKDztv4BmVAMmlgPA5y6N8qWLA8AaWEjf34EEwPHTj8mS9grAqOIeubLo37/7HEJy24rxv/kkhMNY9+O/QmAkmnM13j87wGfh78fnvxco9XelLOM/AGQamP2H3j8IksvTQtX3P2OJWSUbbOI/tqYHYJwL3b/RsTvb2DDoP1LVVa4XIPQ/uc02c85Y9j/FNW6WrkwAQAJQpMaohARAObAnHQ+R9j+OdlWBgrHpvxg5NWKd4APAmIUE31AXEcBAS+x+GPcZwOY7GZcQjhzAyBXNnCarHsCedPsPTdMewHP3S2gq9x3A/43nwr+AH8CMOpOYX0IgwA2n0UzeHCDAnAUszW8bIsDKpm5f7ogjwDHRDUjMdiPAtSu17+fRJMA1muaHtfYlwJcQwx3pLCbANu7xB/eAI8COITXvzt0iwHqhETioiiPAo3y0gFC2JMD3LwtKJ/EkwI4mTr9XdSDAWv7z7NHAJsDI4gKY1K4lwGNQX5vLNyXAaP8p+ZN7I8BxE5uCdsclwFIAiC7rjCHAXK92Od8YH8Dly2NbhU0fwAWvffjlqR7ALQEMFq3DIMCrv0z1zqkgwIVP1Hoy8yDAZzsaVSwgHsCnQWoL8rEcwB9KnsBlBx3AAgcK81JRGsB9bgcP6xcYwDhBBX3aMxfA4ROf24hRHcBOcNBSnzMZwPSPSg/f3R3A3DV1y9TzIMAxwQZ7uikhwDm7VraSIyDAFA+iCaKlGsDT4ZfA6rIgwCQ/Q1dKgxvASeeQaI33FMDuTZdSBdAWwLQvyzs3nhfA/6j6jsHnGcAjwDjNiFEcwJvUJtOI1iDAC9orA6M3JMArndI+sZ0kwL3bIXq2GSTA1d7OSVtxIMCgCBWQ3nEiwEpWqrbQoCbAjLn61sZVJsDyuVBpjEQnwPLKo4wpjibAPmQWceBZJ8DmLupimd4pwIQcKBhOPyvARvBKt1ukKcAYUqTg5BgpwNbYj8ccCSvA3riBLKpKKcBp3RNmMy8swP60KhLhQS3AIyepO4vcLMA=\",\"dtype\":\"float64\",\"shape\":[100]},\"z\":{\"__ndarray__\":\"1FtnrpO/1j+Yk3yJHmzVP+CJA1WHuMY/gEj9FA5kgD/AYPScumCFP7M7VO1hHuM/wOnkvN6qtT9+p3+M6DPUP/5tp93r/u4/NWr9ZGP06z+L1GjHhjXtP7jDLOk5v8U/MrokpZRG1D9cBJuep/LOP/g+zWTOa98/hhZfAvxn4T+kMCP19vLZP5rW6UXTwec/2SRC+3WZ5D868gQ6VxnlP7y6AQDDGcM/DhAesAPk5z9+iqgbvYbkP3zyTJk3FtM/9pTUcZAN2D8F7prn1qLvP/ait+/XDdY/OmdxvQD71T+5yrORDKPjPyObqYPfyeM/QATP/AlZiz9IB3HiwGHiP2eArgTA4ug/OZ8LGW9l7j+BVmR41H7mPygfxLCov70/MIvXIaOQzz/uhi0v5M/aP7yj5TiaOeQ/EFlfEL1wuD+qMnN60/rYP1hBtPAdm9Q/BEpmyBgV7z+TTAnEigPvP/cxmXoUyuc/DFX1I+mQ4D8cajDgrQ3FP5BQh3VVYe4/kxT/JJl/7T81psvoBD7sP4Dy4Tu7Iao/I7c0bE/M6D+QtHbY8Ru7Pz50o8AA+ew/eRgzUffP4j/g/Vlpbp7vP1jx0gowb9s/7WefJLsn5D/2ReXzS9foP5ICOYfZoNA/cPku0vlx5D9EwrQ4JXXqP6wCd12IruA/sH5Ht8Mq2z/9RS4V+v3gPyouc+lzRe4/1jxVwgz67z/E+wa/NHjlP0iOySw1ROk/pjuyTSpp7z+kp1UHlh7CP6Bm5Ar86po/lGX57dvi5z8ycKPpFrvjP0AQAKt6Zbk/ElNLPW2z4D+Ppqz+4TzgP8AawmbLSNI/pGBAGdXMzz8ENGeTrhXHP2/fabatruI/vLxo3Jqzwz/7XBvveMbmP+7jGFPmeus/PGPG5FP35T8+LcMt4vfQPygC3N77aNk/MIlTlaBq4D+0HOAjcQfWP21+4gKTdeE/XbgqFav05T8Ax7UbKy7TP/z8W1zYkMs/UwX9WtM56T+rXS8rwdPoP1CBoZIaXaU/MKcH79Cn5D+sD2uvoWjAP0+2topehuE/LuNZ9VGo0j8=\",\"dtype\":\"float64\",\"shape\":[100]}},\"selected\":{\"id\":\"4685\",\"type\":\"Selection\"},\"selection_policy\":{\"id\":\"4684\",\"type\":\"UnionRenderers\"}},\"id\":\"4484\",\"type\":\"ColumnDataSource\"},{\"attributes\":{},\"id\":\"4505\",\"type\":\"WheelZoomTool\"},{\"attributes\":{\"source\":{\"id\":\"4484\",\"type\":\"ColumnDataSource\"}},\"id\":\"4524\",\"type\":\"CDSView\"},{\"attributes\":{},\"id\":\"4492\",\"type\":\"LinearScale\"},{\"attributes\":{\"callback\":null},\"id\":\"4488\",\"type\":\"DataRange1d\"},{\"attributes\":{},\"id\":\"4509\",\"type\":\"HelpTool\"},{\"attributes\":{\"ticker\":{\"id\":\"4495\",\"type\":\"BasicTicker\"}},\"id\":\"4498\",\"type\":\"Grid\"},{\"attributes\":{\"text\":\"\"},\"id\":\"4678\",\"type\":\"Title\"},{\"attributes\":{},\"id\":\"4683\",\"type\":\"BasicTickFormatter\"},{\"attributes\":{\"active_drag\":\"auto\",\"active_inspect\":\"auto\",\"active_multi\":null,\"active_scroll\":\"auto\",\"active_tap\":\"auto\",\"tools\":[{\"id\":\"4504\",\"type\":\"PanTool\"},{\"id\":\"4505\",\"type\":\"WheelZoomTool\"},{\"id\":\"4506\",\"type\":\"BoxZoomTool\"},{\"id\":\"4507\",\"type\":\"SaveTool\"},{\"id\":\"4508\",\"type\":\"ResetTool\"},{\"id\":\"4509\",\"type\":\"HelpTool\"},{\"id\":\"4510\",\"type\":\"HoverTool\"}]},\"id\":\"4511\",\"type\":\"Toolbar\"},{\"attributes\":{},\"id\":\"4490\",\"type\":\"LinearScale\"},{\"attributes\":{},\"id\":\"4495\",\"type\":\"BasicTicker\"},{\"attributes\":{},\"id\":\"4684\",\"type\":\"UnionRenderers\"},{\"attributes\":{},\"id\":\"4681\",\"type\":\"BasicTickFormatter\"},{\"attributes\":{\"overlay\":{\"id\":\"4686\",\"type\":\"BoxAnnotation\"}},\"id\":\"4506\",\"type\":\"BoxZoomTool\"},{\"attributes\":{},\"id\":\"4685\",\"type\":\"Selection\"},{\"attributes\":{\"data_source\":{\"id\":\"4484\",\"type\":\"ColumnDataSource\"},\"glyph\":{\"id\":\"4521\",\"type\":\"Circle\"},\"hover_glyph\":null,\"muted_glyph\":null,\"nonselection_glyph\":{\"id\":\"4522\",\"type\":\"Circle\"},\"selection_glyph\":null,\"view\":{\"id\":\"4524\",\"type\":\"CDSView\"}},\"id\":\"4523\",\"type\":\"GlyphRenderer\"},{\"attributes\":{\"callback\":null,\"tooltips\":\"Z = @z\"},\"id\":\"4510\",\"type\":\"HoverTool\"},{\"attributes\":{\"bottom_units\":\"screen\",\"fill_alpha\":{\"value\":0.5},\"fill_color\":{\"value\":\"lightgrey\"},\"left_units\":\"screen\",\"level\":\"overlay\",\"line_alpha\":{\"value\":1.0},\"line_color\":{\"value\":\"black\"},\"line_dash\":[4,4],\"line_width\":{\"value\":2},\"render_mode\":\"css\",\"right_units\":\"screen\",\"top_units\":\"screen\"},\"id\":\"4686\",\"type\":\"BoxAnnotation\"},{\"attributes\":{},\"id\":\"4504\",\"type\":\"PanTool\"},{\"attributes\":{\"formatter\":{\"id\":\"4681\",\"type\":\"BasicTickFormatter\"},\"ticker\":{\"id\":\"4495\",\"type\":\"BasicTicker\"}},\"id\":\"4494\",\"type\":\"LinearAxis\"},{\"attributes\":{\"dimension\":1,\"ticker\":{\"id\":\"4500\",\"type\":\"BasicTicker\"}},\"id\":\"4503\",\"type\":\"Grid\"},{\"attributes\":{},\"id\":\"4500\",\"type\":\"BasicTicker\"},{\"attributes\":{\"formatter\":{\"id\":\"4683\",\"type\":\"BasicTickFormatter\"},\"ticker\":{\"id\":\"4500\",\"type\":\"BasicTicker\"}},\"id\":\"4499\",\"type\":\"LinearAxis\"},{\"attributes\":{\"high\":1,\"low\":0,\"palette\":[\"#08306b\",\"#08316d\",\"#08326e\",\"#083370\",\"#083471\",\"#083573\",\"#083674\",\"#083776\",\"#083877\",\"#083979\",\"#083a7a\",\"#083b7c\",\"#083c7d\",\"#083d7f\",\"#083e81\",\"#084082\",\"#084184\",\"#084285\",\"#084387\",\"#084488\",\"#08458a\",\"#08468b\",\"#08478d\",\"#08488e\",\"#084990\",\"#084a91\",\"#084b93\",\"#084c95\",\"#084d96\",\"#084e98\",\"#084f99\",\"#08509b\",\"#08519c\",\"#09529d\",\"#0a539e\",\"#0a549e\",\"#0b559f\",\"#0c56a0\",\"#0d57a1\",\"#0e58a2\",\"#0e59a2\",\"#0f5aa3\",\"#105ba4\",\"#115ca5\",\"#125da6\",\"#125ea6\",\"#135fa7\",\"#1460a8\",\"#1561a9\",\"#1562a9\",\"#1663aa\",\"#1764ab\",\"#1865ac\",\"#1966ad\",\"#1967ad\",\"#1a68ae\",\"#1b69af\",\"#1c6ab0\",\"#1c6bb0\",\"#1d6cb1\",\"#1e6db2\",\"#1f6eb3\",\"#206fb4\",\"#2070b4\",\"#2171b5\",\"#2272b6\",\"#2373b6\",\"#2474b7\",\"#2575b7\",\"#2676b8\",\"#2777b8\",\"#2979b9\",\"#2a7ab9\",\"#2b7bba\",\"#2c7cba\",\"#2d7dbb\",\"#2e7ebc\",\"#2f7fbc\",\"#3080bd\",\"#3181bd\",\"#3282be\",\"#3383be\",\"#3484bf\",\"#3585bf\",\"#3686c0\",\"#3787c0\",\"#3888c1\",\"#3989c1\",\"#3a8ac2\",\"#3b8bc2\",\"#3c8cc3\",\"#3d8dc4\",\"#3e8ec4\",\"#3f8fc5\",\"#4090c5\",\"#4191c6\",\"#4292c6\",\"#4493c7\",\"#4594c7\",\"#4695c8\",\"#4896c8\",\"#4997c9\",\"#4a98c9\",\"#4b98ca\",\"#4d99ca\",\"#4e9acb\",\"#4f9bcb\",\"#519ccc\",\"#529dcc\",\"#539ecd\",\"#549fcd\",\"#56a0ce\",\"#57a0ce\",\"#58a1cf\",\"#5aa2cf\",\"#5ba3d0\",\"#5ca4d0\",\"#5da5d1\",\"#5fa6d1\",\"#60a7d2\",\"#61a7d2\",\"#63a8d3\",\"#64a9d3\",\"#65aad4\",\"#66abd4\",\"#68acd5\",\"#69add5\",\"#6aaed6\",\"#6caed6\",\"#6dafd7\",\"#6fb0d7\",\"#71b1d7\",\"#72b2d8\",\"#74b3d8\",\"#75b4d8\",\"#77b5d9\",\"#79b5d9\",\"#7ab6d9\",\"#7cb7da\",\"#7db8da\",\"#7fb9da\",\"#81badb\",\"#82bbdb\",\"#84bcdb\",\"#85bcdc\",\"#87bddc\",\"#89bedc\",\"#8abfdd\",\"#8cc0dd\",\"#8dc1dd\",\"#8fc2de\",\"#91c3de\",\"#92c4de\",\"#94c4df\",\"#95c5df\",\"#97c6df\",\"#99c7e0\",\"#9ac8e0\",\"#9cc9e1\",\"#9dcae1\",\"#9fcae1\",\"#a0cbe2\",\"#a1cbe2\",\"#a3cce3\",\"#a4cce3\",\"#a5cde3\",\"#a6cee4\",\"#a8cee4\",\"#a9cfe5\",\"#aacfe5\",\"#abd0e6\",\"#add0e6\",\"#aed1e7\",\"#afd1e7\",\"#b0d2e7\",\"#b2d2e8\",\"#b3d3e8\",\"#b4d3e9\",\"#b5d4e9\",\"#b7d4ea\",\"#b8d5ea\",\"#b9d6ea\",\"#bad6eb\",\"#bcd7eb\",\"#bdd7ec\",\"#bed8ec\",\"#bfd8ed\",\"#c1d9ed\",\"#c2d9ee\",\"#c3daee\",\"#c4daee\",\"#c6dbef\",\"#c7dbef\",\"#c7dcef\",\"#c8dcf0\",\"#c9ddf0\",\"#caddf0\",\"#cadef0\",\"#cbdef1\",\"#ccdff1\",\"#cddff1\",\"#cde0f1\",\"#cee0f2\",\"#cfe1f2\",\"#d0e1f2\",\"#d0e2f2\",\"#d1e2f3\",\"#d2e3f3\",\"#d3e3f3\",\"#d3e4f3\",\"#d4e4f4\",\"#d5e5f4\",\"#d6e5f4\",\"#d6e6f4\",\"#d7e6f5\",\"#d8e7f5\",\"#d9e7f5\",\"#d9e8f5\",\"#dae8f6\",\"#dbe9f6\",\"#dce9f6\",\"#dceaf6\",\"#ddeaf7\",\"#deebf7\",\"#dfebf7\",\"#dfecf7\",\"#e0ecf8\",\"#e1edf8\",\"#e2edf8\",\"#e3eef8\",\"#e3eef9\",\"#e4eff9\",\"#e5eff9\",\"#e6f0f9\",\"#e7f0fa\",\"#e7f1fa\",\"#e8f1fa\",\"#e9f2fa\",\"#eaf2fb\",\"#eaf3fb\",\"#ebf3fb\",\"#ecf4fb\",\"#edf4fc\",\"#eef5fc\",\"#eef5fc\",\"#eff6fc\",\"#f0f6fd\",\"#f1f7fd\",\"#f2f7fd\",\"#f2f8fd\",\"#f3f8fe\",\"#f4f9fe\",\"#f5f9fe\",\"#f5fafe\",\"#f6faff\",\"#f7fbff\"]},\"id\":\"4519\",\"type\":\"LinearColorMapper\"},{\"attributes\":{\"fill_color\":{\"field\":\"z\",\"transform\":{\"id\":\"4519\",\"type\":\"LinearColorMapper\"}},\"line_color\":{\"value\":\"gray\"},\"size\":{\"units\":\"screen\",\"value\":10},\"x\":{\"field\":\"x\"},\"y\":{\"field\":\"y\"}},\"id\":\"4521\",\"type\":\"Circle\"},{\"attributes\":{\"fill_alpha\":{\"value\":0.1},\"fill_color\":{\"value\":\"#1f77b4\"},\"line_alpha\":{\"value\":0.1},\"line_color\":{\"value\":\"#1f77b4\"},\"size\":{\"units\":\"screen\",\"value\":10},\"x\":{\"field\":\"x\"},\"y\":{\"field\":\"y\"}},\"id\":\"4522\",\"type\":\"Circle\"},{\"attributes\":{},\"id\":\"4507\",\"type\":\"SaveTool\"},{\"attributes\":{},\"id\":\"4508\",\"type\":\"ResetTool\"},{\"attributes\":{\"callback\":null},\"id\":\"4486\",\"type\":\"DataRange1d\"}],\"root_ids\":[\"4485\"]},\"title\":\"Bokeh Application\",\"version\":\"1.4.0\"}};\n",
       "  var render_items = [{\"docid\":\"682d1f49-ddfa-4437-b5f0-ddd6f0745997\",\"roots\":{\"4485\":\"05dfd329-1c3d-46f9-8ed7-8487a5e083bf\"}}];\n",
       "  root.Bokeh.embed.embed_items_notebook(docs_json, render_items);\n",
       "\n",
       "  }\n",
       "  if (root.Bokeh !== undefined) {\n",
       "    embed_document(root);\n",
       "  } else {\n",
       "    var attempts = 0;\n",
       "    var timer = setInterval(function(root) {\n",
       "      if (root.Bokeh !== undefined) {\n",
       "        clearInterval(timer);\n",
       "        embed_document(root);\n",
       "      } else {\n",
       "        attempts++;\n",
       "        if (attempts > 100) {\n",
       "          clearInterval(timer);\n",
       "          console.log(\"Bokeh: ERROR: Unable to run BokehJS code because BokehJS library is missing\");\n",
       "        }\n",
       "      }\n",
       "    }, 10, root)\n",
       "  }\n",
       "})(window);"
      ],
      "application/vnd.bokehjs_exec.v0+json": ""
     },
     "metadata": {
      "application/vnd.bokehjs_exec.v0+json": {
       "id": "4485"
      }
     },
     "output_type": "display_data"
    }
   ],
   "source": [
    "np.random.seed(12)\n",
    "x = np.arange(100)\n",
    "y = np.random.randn(100).cumsum()\n",
    "z = np.random.rand(100)\n",
    "source = ColumnDataSource(data = {'x':x, 'y':y,'z':z})\n",
    "p = figure(plot_width = 600, plot_height = 400, tooltips = 'Z = @z')\n",
    "p.circle('x','y',\n",
    "         color= linear_cmap('z','Blues256',0,1),\n",
    "         line_color = 'gray',\n",
    "         size = 10,\n",
    "         source=source)\n",
    "show(p)\n"
   ]
  },
  {
   "cell_type": "markdown",
   "metadata": {},
   "source": [
    "We can also add a color bar to it."
   ]
  },
  {
   "cell_type": "code",
   "execution_count": 44,
   "metadata": {},
   "outputs": [
    {
     "data": {
      "text/html": [
       "\n",
       "\n",
       "\n",
       "\n",
       "\n",
       "\n",
       "  <div class=\"bk-root\" id=\"ffb61f2c-b7c2-48e6-ac2b-09a78342dc2d\" data-root-id=\"4485\"></div>\n"
      ]
     },
     "metadata": {},
     "output_type": "display_data"
    },
    {
     "data": {
      "application/javascript": [
       "(function(root) {\n",
       "  function embed_document(root) {\n",
       "    \n",
       "  var docs_json = {\"66af53e2-73cd-4dbb-8141-ad6db4ddd4fd\":{\"roots\":{\"references\":[{\"attributes\":{\"below\":[{\"id\":\"4494\",\"type\":\"LinearAxis\"}],\"center\":[{\"id\":\"4498\",\"type\":\"Grid\"},{\"id\":\"4503\",\"type\":\"Grid\"}],\"left\":[{\"id\":\"4499\",\"type\":\"LinearAxis\"}],\"plot_height\":400,\"renderers\":[{\"id\":\"4523\",\"type\":\"GlyphRenderer\"}],\"right\":[{\"id\":\"4742\",\"type\":\"ColorBar\"}],\"title\":{\"id\":\"4678\",\"type\":\"Title\"},\"toolbar\":{\"id\":\"4511\",\"type\":\"Toolbar\"},\"x_range\":{\"id\":\"4486\",\"type\":\"DataRange1d\"},\"x_scale\":{\"id\":\"4490\",\"type\":\"LinearScale\"},\"y_range\":{\"id\":\"4488\",\"type\":\"DataRange1d\"},\"y_scale\":{\"id\":\"4492\",\"type\":\"LinearScale\"}},\"id\":\"4485\",\"subtype\":\"Figure\",\"type\":\"Plot\"},{\"attributes\":{\"callback\":null,\"data\":{\"x\":[0,1,2,3,4,5,6,7,8,9,10,11,12,13,14,15,16,17,18,19,20,21,22,23,24,25,26,27,28,29,30,31,32,33,34,35,36,37,38,39,40,41,42,43,44,45,46,47,48,49,50,51,52,53,54,55,56,57,58,59,60,61,62,63,64,65,66,67,68,69,70,71,72,73,74,75,76,77,78,79,80,81,82,83,84,85,86,87,88,89,90,91,92,93,94,95,96,97,98,99],\"y\":{\"__ndarray__\":\"BiJuXWZF3j8AUI/aKa7Kv+Ru2TBgaKE/q5buj/Oq+r9DQ7wfKDztv4BmVAMmlgPA5y6N8qWLA8AaWEjf34EEwPHTj8mS9grAqOIeubLo37/7HEJy24rxv/kkhMNY9+O/QmAkmnM13j87wGfh78fnvxco9XelLOM/AGQamP2H3j8IksvTQtX3P2OJWSUbbOI/tqYHYJwL3b/RsTvb2DDoP1LVVa4XIPQ/uc02c85Y9j/FNW6WrkwAQAJQpMaohARAObAnHQ+R9j+OdlWBgrHpvxg5NWKd4APAmIUE31AXEcBAS+x+GPcZwOY7GZcQjhzAyBXNnCarHsCedPsPTdMewHP3S2gq9x3A/43nwr+AH8CMOpOYX0IgwA2n0UzeHCDAnAUszW8bIsDKpm5f7ogjwDHRDUjMdiPAtSu17+fRJMA1muaHtfYlwJcQwx3pLCbANu7xB/eAI8COITXvzt0iwHqhETioiiPAo3y0gFC2JMD3LwtKJ/EkwI4mTr9XdSDAWv7z7NHAJsDI4gKY1K4lwGNQX5vLNyXAaP8p+ZN7I8BxE5uCdsclwFIAiC7rjCHAXK92Od8YH8Dly2NbhU0fwAWvffjlqR7ALQEMFq3DIMCrv0z1zqkgwIVP1Hoy8yDAZzsaVSwgHsCnQWoL8rEcwB9KnsBlBx3AAgcK81JRGsB9bgcP6xcYwDhBBX3aMxfA4ROf24hRHcBOcNBSnzMZwPSPSg/f3R3A3DV1y9TzIMAxwQZ7uikhwDm7VraSIyDAFA+iCaKlGsDT4ZfA6rIgwCQ/Q1dKgxvASeeQaI33FMDuTZdSBdAWwLQvyzs3nhfA/6j6jsHnGcAjwDjNiFEcwJvUJtOI1iDAC9orA6M3JMArndI+sZ0kwL3bIXq2GSTA1d7OSVtxIMCgCBWQ3nEiwEpWqrbQoCbAjLn61sZVJsDyuVBpjEQnwPLKo4wpjibAPmQWceBZJ8DmLupimd4pwIQcKBhOPyvARvBKt1ukKcAYUqTg5BgpwNbYj8ccCSvA3riBLKpKKcBp3RNmMy8swP60KhLhQS3AIyepO4vcLMA=\",\"dtype\":\"float64\",\"shape\":[100]},\"z\":{\"__ndarray__\":\"1FtnrpO/1j+Yk3yJHmzVP+CJA1WHuMY/gEj9FA5kgD/AYPScumCFP7M7VO1hHuM/wOnkvN6qtT9+p3+M6DPUP/5tp93r/u4/NWr9ZGP06z+L1GjHhjXtP7jDLOk5v8U/MrokpZRG1D9cBJuep/LOP/g+zWTOa98/hhZfAvxn4T+kMCP19vLZP5rW6UXTwec/2SRC+3WZ5D868gQ6VxnlP7y6AQDDGcM/DhAesAPk5z9+iqgbvYbkP3zyTJk3FtM/9pTUcZAN2D8F7prn1qLvP/ait+/XDdY/OmdxvQD71T+5yrORDKPjPyObqYPfyeM/QATP/AlZiz9IB3HiwGHiP2eArgTA4ug/OZ8LGW9l7j+BVmR41H7mPygfxLCov70/MIvXIaOQzz/uhi0v5M/aP7yj5TiaOeQ/EFlfEL1wuD+qMnN60/rYP1hBtPAdm9Q/BEpmyBgV7z+TTAnEigPvP/cxmXoUyuc/DFX1I+mQ4D8cajDgrQ3FP5BQh3VVYe4/kxT/JJl/7T81psvoBD7sP4Dy4Tu7Iao/I7c0bE/M6D+QtHbY8Ru7Pz50o8AA+ew/eRgzUffP4j/g/Vlpbp7vP1jx0gowb9s/7WefJLsn5D/2ReXzS9foP5ICOYfZoNA/cPku0vlx5D9EwrQ4JXXqP6wCd12IruA/sH5Ht8Mq2z/9RS4V+v3gPyouc+lzRe4/1jxVwgz67z/E+wa/NHjlP0iOySw1ROk/pjuyTSpp7z+kp1UHlh7CP6Bm5Ar86po/lGX57dvi5z8ycKPpFrvjP0AQAKt6Zbk/ElNLPW2z4D+Ppqz+4TzgP8AawmbLSNI/pGBAGdXMzz8ENGeTrhXHP2/fabatruI/vLxo3Jqzwz/7XBvveMbmP+7jGFPmeus/PGPG5FP35T8+LcMt4vfQPygC3N77aNk/MIlTlaBq4D+0HOAjcQfWP21+4gKTdeE/XbgqFav05T8Ax7UbKy7TP/z8W1zYkMs/UwX9WtM56T+rXS8rwdPoP1CBoZIaXaU/MKcH79Cn5D+sD2uvoWjAP0+2topehuE/LuNZ9VGo0j8=\",\"dtype\":\"float64\",\"shape\":[100]}},\"selected\":{\"id\":\"4685\",\"type\":\"Selection\"},\"selection_policy\":{\"id\":\"4684\",\"type\":\"UnionRenderers\"}},\"id\":\"4484\",\"type\":\"ColumnDataSource\"},{\"attributes\":{},\"id\":\"4505\",\"type\":\"WheelZoomTool\"},{\"attributes\":{\"source\":{\"id\":\"4484\",\"type\":\"ColumnDataSource\"}},\"id\":\"4524\",\"type\":\"CDSView\"},{\"attributes\":{},\"id\":\"4492\",\"type\":\"LinearScale\"},{\"attributes\":{\"callback\":null},\"id\":\"4488\",\"type\":\"DataRange1d\"},{\"attributes\":{},\"id\":\"4509\",\"type\":\"HelpTool\"},{\"attributes\":{},\"id\":\"4898\",\"type\":\"BasicTicker\"},{\"attributes\":{\"ticker\":{\"id\":\"4495\",\"type\":\"BasicTicker\"}},\"id\":\"4498\",\"type\":\"Grid\"},{\"attributes\":{\"text\":\"\"},\"id\":\"4678\",\"type\":\"Title\"},{\"attributes\":{},\"id\":\"4683\",\"type\":\"BasicTickFormatter\"},{\"attributes\":{\"active_drag\":\"auto\",\"active_inspect\":\"auto\",\"active_multi\":null,\"active_scroll\":\"auto\",\"active_tap\":\"auto\",\"tools\":[{\"id\":\"4504\",\"type\":\"PanTool\"},{\"id\":\"4505\",\"type\":\"WheelZoomTool\"},{\"id\":\"4506\",\"type\":\"BoxZoomTool\"},{\"id\":\"4507\",\"type\":\"SaveTool\"},{\"id\":\"4508\",\"type\":\"ResetTool\"},{\"id\":\"4509\",\"type\":\"HelpTool\"},{\"id\":\"4510\",\"type\":\"HoverTool\"}]},\"id\":\"4511\",\"type\":\"Toolbar\"},{\"attributes\":{},\"id\":\"4490\",\"type\":\"LinearScale\"},{\"attributes\":{},\"id\":\"4495\",\"type\":\"BasicTicker\"},{\"attributes\":{},\"id\":\"4684\",\"type\":\"UnionRenderers\"},{\"attributes\":{},\"id\":\"4681\",\"type\":\"BasicTickFormatter\"},{\"attributes\":{\"overlay\":{\"id\":\"4686\",\"type\":\"BoxAnnotation\"}},\"id\":\"4506\",\"type\":\"BoxZoomTool\"},{\"attributes\":{},\"id\":\"4685\",\"type\":\"Selection\"},{\"attributes\":{\"data_source\":{\"id\":\"4484\",\"type\":\"ColumnDataSource\"},\"glyph\":{\"id\":\"4521\",\"type\":\"Circle\"},\"hover_glyph\":null,\"muted_glyph\":null,\"nonselection_glyph\":{\"id\":\"4522\",\"type\":\"Circle\"},\"selection_glyph\":null,\"view\":{\"id\":\"4524\",\"type\":\"CDSView\"}},\"id\":\"4523\",\"type\":\"GlyphRenderer\"},{\"attributes\":{\"callback\":null,\"tooltips\":\"Z = @z\"},\"id\":\"4510\",\"type\":\"HoverTool\"},{\"attributes\":{\"bottom_units\":\"screen\",\"fill_alpha\":{\"value\":0.5},\"fill_color\":{\"value\":\"lightgrey\"},\"left_units\":\"screen\",\"level\":\"overlay\",\"line_alpha\":{\"value\":1.0},\"line_color\":{\"value\":\"black\"},\"line_dash\":[4,4],\"line_width\":{\"value\":2},\"render_mode\":\"css\",\"right_units\":\"screen\",\"top_units\":\"screen\"},\"id\":\"4686\",\"type\":\"BoxAnnotation\"},{\"attributes\":{\"color_mapper\":{\"id\":\"4741\",\"type\":\"LinearColorMapper\"},\"formatter\":{\"id\":\"4899\",\"type\":\"BasicTickFormatter\"},\"label_standoff\":12,\"location\":[0,0],\"ticker\":{\"id\":\"4898\",\"type\":\"BasicTicker\"},\"title\":\"Z\"},\"id\":\"4742\",\"type\":\"ColorBar\"},{\"attributes\":{},\"id\":\"4504\",\"type\":\"PanTool\"},{\"attributes\":{\"formatter\":{\"id\":\"4681\",\"type\":\"BasicTickFormatter\"},\"ticker\":{\"id\":\"4495\",\"type\":\"BasicTicker\"}},\"id\":\"4494\",\"type\":\"LinearAxis\"},{\"attributes\":{\"dimension\":1,\"ticker\":{\"id\":\"4500\",\"type\":\"BasicTicker\"}},\"id\":\"4503\",\"type\":\"Grid\"},{\"attributes\":{},\"id\":\"4500\",\"type\":\"BasicTicker\"},{\"attributes\":{\"formatter\":{\"id\":\"4683\",\"type\":\"BasicTickFormatter\"},\"ticker\":{\"id\":\"4500\",\"type\":\"BasicTicker\"}},\"id\":\"4499\",\"type\":\"LinearAxis\"},{\"attributes\":{\"high\":1,\"low\":0,\"palette\":[\"#08306b\",\"#08316d\",\"#08326e\",\"#083370\",\"#083471\",\"#083573\",\"#083674\",\"#083776\",\"#083877\",\"#083979\",\"#083a7a\",\"#083b7c\",\"#083c7d\",\"#083d7f\",\"#083e81\",\"#084082\",\"#084184\",\"#084285\",\"#084387\",\"#084488\",\"#08458a\",\"#08468b\",\"#08478d\",\"#08488e\",\"#084990\",\"#084a91\",\"#084b93\",\"#084c95\",\"#084d96\",\"#084e98\",\"#084f99\",\"#08509b\",\"#08519c\",\"#09529d\",\"#0a539e\",\"#0a549e\",\"#0b559f\",\"#0c56a0\",\"#0d57a1\",\"#0e58a2\",\"#0e59a2\",\"#0f5aa3\",\"#105ba4\",\"#115ca5\",\"#125da6\",\"#125ea6\",\"#135fa7\",\"#1460a8\",\"#1561a9\",\"#1562a9\",\"#1663aa\",\"#1764ab\",\"#1865ac\",\"#1966ad\",\"#1967ad\",\"#1a68ae\",\"#1b69af\",\"#1c6ab0\",\"#1c6bb0\",\"#1d6cb1\",\"#1e6db2\",\"#1f6eb3\",\"#206fb4\",\"#2070b4\",\"#2171b5\",\"#2272b6\",\"#2373b6\",\"#2474b7\",\"#2575b7\",\"#2676b8\",\"#2777b8\",\"#2979b9\",\"#2a7ab9\",\"#2b7bba\",\"#2c7cba\",\"#2d7dbb\",\"#2e7ebc\",\"#2f7fbc\",\"#3080bd\",\"#3181bd\",\"#3282be\",\"#3383be\",\"#3484bf\",\"#3585bf\",\"#3686c0\",\"#3787c0\",\"#3888c1\",\"#3989c1\",\"#3a8ac2\",\"#3b8bc2\",\"#3c8cc3\",\"#3d8dc4\",\"#3e8ec4\",\"#3f8fc5\",\"#4090c5\",\"#4191c6\",\"#4292c6\",\"#4493c7\",\"#4594c7\",\"#4695c8\",\"#4896c8\",\"#4997c9\",\"#4a98c9\",\"#4b98ca\",\"#4d99ca\",\"#4e9acb\",\"#4f9bcb\",\"#519ccc\",\"#529dcc\",\"#539ecd\",\"#549fcd\",\"#56a0ce\",\"#57a0ce\",\"#58a1cf\",\"#5aa2cf\",\"#5ba3d0\",\"#5ca4d0\",\"#5da5d1\",\"#5fa6d1\",\"#60a7d2\",\"#61a7d2\",\"#63a8d3\",\"#64a9d3\",\"#65aad4\",\"#66abd4\",\"#68acd5\",\"#69add5\",\"#6aaed6\",\"#6caed6\",\"#6dafd7\",\"#6fb0d7\",\"#71b1d7\",\"#72b2d8\",\"#74b3d8\",\"#75b4d8\",\"#77b5d9\",\"#79b5d9\",\"#7ab6d9\",\"#7cb7da\",\"#7db8da\",\"#7fb9da\",\"#81badb\",\"#82bbdb\",\"#84bcdb\",\"#85bcdc\",\"#87bddc\",\"#89bedc\",\"#8abfdd\",\"#8cc0dd\",\"#8dc1dd\",\"#8fc2de\",\"#91c3de\",\"#92c4de\",\"#94c4df\",\"#95c5df\",\"#97c6df\",\"#99c7e0\",\"#9ac8e0\",\"#9cc9e1\",\"#9dcae1\",\"#9fcae1\",\"#a0cbe2\",\"#a1cbe2\",\"#a3cce3\",\"#a4cce3\",\"#a5cde3\",\"#a6cee4\",\"#a8cee4\",\"#a9cfe5\",\"#aacfe5\",\"#abd0e6\",\"#add0e6\",\"#aed1e7\",\"#afd1e7\",\"#b0d2e7\",\"#b2d2e8\",\"#b3d3e8\",\"#b4d3e9\",\"#b5d4e9\",\"#b7d4ea\",\"#b8d5ea\",\"#b9d6ea\",\"#bad6eb\",\"#bcd7eb\",\"#bdd7ec\",\"#bed8ec\",\"#bfd8ed\",\"#c1d9ed\",\"#c2d9ee\",\"#c3daee\",\"#c4daee\",\"#c6dbef\",\"#c7dbef\",\"#c7dcef\",\"#c8dcf0\",\"#c9ddf0\",\"#caddf0\",\"#cadef0\",\"#cbdef1\",\"#ccdff1\",\"#cddff1\",\"#cde0f1\",\"#cee0f2\",\"#cfe1f2\",\"#d0e1f2\",\"#d0e2f2\",\"#d1e2f3\",\"#d2e3f3\",\"#d3e3f3\",\"#d3e4f3\",\"#d4e4f4\",\"#d5e5f4\",\"#d6e5f4\",\"#d6e6f4\",\"#d7e6f5\",\"#d8e7f5\",\"#d9e7f5\",\"#d9e8f5\",\"#dae8f6\",\"#dbe9f6\",\"#dce9f6\",\"#dceaf6\",\"#ddeaf7\",\"#deebf7\",\"#dfebf7\",\"#dfecf7\",\"#e0ecf8\",\"#e1edf8\",\"#e2edf8\",\"#e3eef8\",\"#e3eef9\",\"#e4eff9\",\"#e5eff9\",\"#e6f0f9\",\"#e7f0fa\",\"#e7f1fa\",\"#e8f1fa\",\"#e9f2fa\",\"#eaf2fb\",\"#eaf3fb\",\"#ebf3fb\",\"#ecf4fb\",\"#edf4fc\",\"#eef5fc\",\"#eef5fc\",\"#eff6fc\",\"#f0f6fd\",\"#f1f7fd\",\"#f2f7fd\",\"#f2f8fd\",\"#f3f8fe\",\"#f4f9fe\",\"#f5f9fe\",\"#f5fafe\",\"#f6faff\",\"#f7fbff\"]},\"id\":\"4519\",\"type\":\"LinearColorMapper\"},{\"attributes\":{\"fill_color\":{\"field\":\"z\",\"transform\":{\"id\":\"4519\",\"type\":\"LinearColorMapper\"}},\"line_color\":{\"value\":\"gray\"},\"size\":{\"units\":\"screen\",\"value\":10},\"x\":{\"field\":\"x\"},\"y\":{\"field\":\"y\"}},\"id\":\"4521\",\"type\":\"Circle\"},{\"attributes\":{\"high\":1,\"low\":0,\"palette\":[\"#08306b\",\"#08316d\",\"#08326e\",\"#083370\",\"#083471\",\"#083573\",\"#083674\",\"#083776\",\"#083877\",\"#083979\",\"#083a7a\",\"#083b7c\",\"#083c7d\",\"#083d7f\",\"#083e81\",\"#084082\",\"#084184\",\"#084285\",\"#084387\",\"#084488\",\"#08458a\",\"#08468b\",\"#08478d\",\"#08488e\",\"#084990\",\"#084a91\",\"#084b93\",\"#084c95\",\"#084d96\",\"#084e98\",\"#084f99\",\"#08509b\",\"#08519c\",\"#09529d\",\"#0a539e\",\"#0a549e\",\"#0b559f\",\"#0c56a0\",\"#0d57a1\",\"#0e58a2\",\"#0e59a2\",\"#0f5aa3\",\"#105ba4\",\"#115ca5\",\"#125da6\",\"#125ea6\",\"#135fa7\",\"#1460a8\",\"#1561a9\",\"#1562a9\",\"#1663aa\",\"#1764ab\",\"#1865ac\",\"#1966ad\",\"#1967ad\",\"#1a68ae\",\"#1b69af\",\"#1c6ab0\",\"#1c6bb0\",\"#1d6cb1\",\"#1e6db2\",\"#1f6eb3\",\"#206fb4\",\"#2070b4\",\"#2171b5\",\"#2272b6\",\"#2373b6\",\"#2474b7\",\"#2575b7\",\"#2676b8\",\"#2777b8\",\"#2979b9\",\"#2a7ab9\",\"#2b7bba\",\"#2c7cba\",\"#2d7dbb\",\"#2e7ebc\",\"#2f7fbc\",\"#3080bd\",\"#3181bd\",\"#3282be\",\"#3383be\",\"#3484bf\",\"#3585bf\",\"#3686c0\",\"#3787c0\",\"#3888c1\",\"#3989c1\",\"#3a8ac2\",\"#3b8bc2\",\"#3c8cc3\",\"#3d8dc4\",\"#3e8ec4\",\"#3f8fc5\",\"#4090c5\",\"#4191c6\",\"#4292c6\",\"#4493c7\",\"#4594c7\",\"#4695c8\",\"#4896c8\",\"#4997c9\",\"#4a98c9\",\"#4b98ca\",\"#4d99ca\",\"#4e9acb\",\"#4f9bcb\",\"#519ccc\",\"#529dcc\",\"#539ecd\",\"#549fcd\",\"#56a0ce\",\"#57a0ce\",\"#58a1cf\",\"#5aa2cf\",\"#5ba3d0\",\"#5ca4d0\",\"#5da5d1\",\"#5fa6d1\",\"#60a7d2\",\"#61a7d2\",\"#63a8d3\",\"#64a9d3\",\"#65aad4\",\"#66abd4\",\"#68acd5\",\"#69add5\",\"#6aaed6\",\"#6caed6\",\"#6dafd7\",\"#6fb0d7\",\"#71b1d7\",\"#72b2d8\",\"#74b3d8\",\"#75b4d8\",\"#77b5d9\",\"#79b5d9\",\"#7ab6d9\",\"#7cb7da\",\"#7db8da\",\"#7fb9da\",\"#81badb\",\"#82bbdb\",\"#84bcdb\",\"#85bcdc\",\"#87bddc\",\"#89bedc\",\"#8abfdd\",\"#8cc0dd\",\"#8dc1dd\",\"#8fc2de\",\"#91c3de\",\"#92c4de\",\"#94c4df\",\"#95c5df\",\"#97c6df\",\"#99c7e0\",\"#9ac8e0\",\"#9cc9e1\",\"#9dcae1\",\"#9fcae1\",\"#a0cbe2\",\"#a1cbe2\",\"#a3cce3\",\"#a4cce3\",\"#a5cde3\",\"#a6cee4\",\"#a8cee4\",\"#a9cfe5\",\"#aacfe5\",\"#abd0e6\",\"#add0e6\",\"#aed1e7\",\"#afd1e7\",\"#b0d2e7\",\"#b2d2e8\",\"#b3d3e8\",\"#b4d3e9\",\"#b5d4e9\",\"#b7d4ea\",\"#b8d5ea\",\"#b9d6ea\",\"#bad6eb\",\"#bcd7eb\",\"#bdd7ec\",\"#bed8ec\",\"#bfd8ed\",\"#c1d9ed\",\"#c2d9ee\",\"#c3daee\",\"#c4daee\",\"#c6dbef\",\"#c7dbef\",\"#c7dcef\",\"#c8dcf0\",\"#c9ddf0\",\"#caddf0\",\"#cadef0\",\"#cbdef1\",\"#ccdff1\",\"#cddff1\",\"#cde0f1\",\"#cee0f2\",\"#cfe1f2\",\"#d0e1f2\",\"#d0e2f2\",\"#d1e2f3\",\"#d2e3f3\",\"#d3e3f3\",\"#d3e4f3\",\"#d4e4f4\",\"#d5e5f4\",\"#d6e5f4\",\"#d6e6f4\",\"#d7e6f5\",\"#d8e7f5\",\"#d9e7f5\",\"#d9e8f5\",\"#dae8f6\",\"#dbe9f6\",\"#dce9f6\",\"#dceaf6\",\"#ddeaf7\",\"#deebf7\",\"#dfebf7\",\"#dfecf7\",\"#e0ecf8\",\"#e1edf8\",\"#e2edf8\",\"#e3eef8\",\"#e3eef9\",\"#e4eff9\",\"#e5eff9\",\"#e6f0f9\",\"#e7f0fa\",\"#e7f1fa\",\"#e8f1fa\",\"#e9f2fa\",\"#eaf2fb\",\"#eaf3fb\",\"#ebf3fb\",\"#ecf4fb\",\"#edf4fc\",\"#eef5fc\",\"#eef5fc\",\"#eff6fc\",\"#f0f6fd\",\"#f1f7fd\",\"#f2f7fd\",\"#f2f8fd\",\"#f3f8fe\",\"#f4f9fe\",\"#f5f9fe\",\"#f5fafe\",\"#f6faff\",\"#f7fbff\"]},\"id\":\"4741\",\"type\":\"LinearColorMapper\"},{\"attributes\":{\"fill_alpha\":{\"value\":0.1},\"fill_color\":{\"value\":\"#1f77b4\"},\"line_alpha\":{\"value\":0.1},\"line_color\":{\"value\":\"#1f77b4\"},\"size\":{\"units\":\"screen\",\"value\":10},\"x\":{\"field\":\"x\"},\"y\":{\"field\":\"y\"}},\"id\":\"4522\",\"type\":\"Circle\"},{\"attributes\":{},\"id\":\"4507\",\"type\":\"SaveTool\"},{\"attributes\":{},\"id\":\"4508\",\"type\":\"ResetTool\"},{\"attributes\":{},\"id\":\"4899\",\"type\":\"BasicTickFormatter\"},{\"attributes\":{\"callback\":null},\"id\":\"4486\",\"type\":\"DataRange1d\"}],\"root_ids\":[\"4485\"]},\"title\":\"Bokeh Application\",\"version\":\"1.4.0\"}};\n",
       "  var render_items = [{\"docid\":\"66af53e2-73cd-4dbb-8141-ad6db4ddd4fd\",\"roots\":{\"4485\":\"ffb61f2c-b7c2-48e6-ac2b-09a78342dc2d\"}}];\n",
       "  root.Bokeh.embed.embed_items_notebook(docs_json, render_items);\n",
       "\n",
       "  }\n",
       "  if (root.Bokeh !== undefined) {\n",
       "    embed_document(root);\n",
       "  } else {\n",
       "    var attempts = 0;\n",
       "    var timer = setInterval(function(root) {\n",
       "      if (root.Bokeh !== undefined) {\n",
       "        clearInterval(timer);\n",
       "        embed_document(root);\n",
       "      } else {\n",
       "        attempts++;\n",
       "        if (attempts > 100) {\n",
       "          clearInterval(timer);\n",
       "          console.log(\"Bokeh: ERROR: Unable to run BokehJS code because BokehJS library is missing\");\n",
       "        }\n",
       "      }\n",
       "    }, 10, root)\n",
       "  }\n",
       "})(window);"
      ],
      "application/vnd.bokehjs_exec.v0+json": ""
     },
     "metadata": {
      "application/vnd.bokehjs_exec.v0+json": {
       "id": "4485"
      }
     },
     "output_type": "display_data"
    }
   ],
   "source": [
    "from bokeh.models import LinearColorMapper, ColorBar\n",
    "color_mapper = LinearColorMapper(palette=\"Blues256\", low=0, high=1)\n",
    "color_bar = ColorBar(color_mapper=color_mapper, label_standoff=12, location=(0,0), title='Z')\n",
    "p.add_layout(color_bar, 'right')\n",
    "\n",
    "show(p)"
   ]
  },
  {
   "cell_type": "markdown",
   "metadata": {},
   "source": [
    "# Plot Layout\n",
    "Occasionally, we might need to have multiple plots together side-by-side or on top of each other. To do this, we can use `gridplot`. We need to create multiple figures and create a plot with each figure. At the end we use `gridplot` to combine all of them into a single figure."
   ]
  },
  {
   "cell_type": "markdown",
   "metadata": {},
   "source": [
    "Generate some data"
   ]
  },
  {
   "cell_type": "code",
   "execution_count": 45,
   "metadata": {},
   "outputs": [],
   "source": [
    "from bokeh.layouts import gridplot\n",
    "np.random.seed(24)\n",
    "x = np.linspace(0,10,100)\n",
    "y = x + np.random.randn(100)\n",
    "z = x+np.random.randn(100).cumsum()\n",
    "\n",
    "\n"
   ]
  },
  {
   "cell_type": "markdown",
   "metadata": {},
   "source": [
    "First plot:"
   ]
  },
  {
   "cell_type": "code",
   "execution_count": 46,
   "metadata": {},
   "outputs": [
    {
     "data": {
      "text/html": [
       "\n",
       "\n",
       "\n",
       "\n",
       "\n",
       "\n",
       "  <div class=\"bk-root\" id=\"622ccbd0-a6c4-42c6-a36e-037913bcc699\" data-root-id=\"4973\"></div>\n"
      ]
     },
     "metadata": {},
     "output_type": "display_data"
    },
    {
     "data": {
      "application/javascript": [
       "(function(root) {\n",
       "  function embed_document(root) {\n",
       "    \n",
       "  var docs_json = {\"d98bf1b9-db92-414f-9a65-538f2a362602\":{\"roots\":{\"references\":[{\"attributes\":{\"below\":[{\"id\":\"4982\",\"type\":\"LinearAxis\"}],\"center\":[{\"id\":\"4986\",\"type\":\"Grid\"},{\"id\":\"4991\",\"type\":\"Grid\"}],\"left\":[{\"id\":\"4987\",\"type\":\"LinearAxis\"}],\"plot_height\":300,\"plot_width\":300,\"renderers\":[{\"id\":\"5008\",\"type\":\"GlyphRenderer\"}],\"title\":{\"id\":\"5174\",\"type\":\"Title\"},\"toolbar\":{\"id\":\"4998\",\"type\":\"Toolbar\"},\"x_range\":{\"id\":\"4974\",\"type\":\"DataRange1d\"},\"x_scale\":{\"id\":\"4978\",\"type\":\"LinearScale\"},\"y_range\":{\"id\":\"4976\",\"type\":\"DataRange1d\"},\"y_scale\":{\"id\":\"4980\",\"type\":\"LinearScale\"}},\"id\":\"4973\",\"subtype\":\"Figure\",\"type\":\"Plot\"},{\"attributes\":{},\"id\":\"4988\",\"type\":\"BasicTicker\"},{\"attributes\":{},\"id\":\"5177\",\"type\":\"BasicTickFormatter\"},{\"attributes\":{\"callback\":null},\"id\":\"4976\",\"type\":\"DataRange1d\"},{\"attributes\":{\"overlay\":{\"id\":\"5182\",\"type\":\"BoxAnnotation\"}},\"id\":\"4994\",\"type\":\"BoxZoomTool\"},{\"attributes\":{\"callback\":null,\"data\":{\"x\":{\"__ndarray__\":\"AAAAAAAAAAAxb2dIzNu5PzFvZ0jM28k/ZZNNNtlk0z8xb2dIzNvZP3+lQK1fKeA/ZZNNNtlk4z9LgVq/UqDmPzFvZ0jM2+k/F1100UUX7T9/pUCtXynwP3Icx3Ecx/E/ZZNNNtlk8z9YCtT6lQL1P0uBWr9SoPY/Pvjggw8++D8xb2dIzNv5PyTm7QyJefs/F1100UUX/T8K1PqVArX+P3+lQK1fKQBA+OCDDz74AEByHMdxHMcBQOtXCtT6lQJAZZNNNtlkA0DezpCYtzMEQFgK1PqVAgVA0UUXXXTRBUBLgVq/UqAGQMS8nSExbwdAPvjggw8+CEC3MyTm7QwJQDFvZ0jM2wlAq6qqqqqqCkAk5u0MiXkLQJ4hMW9nSAxAF1100UUXDUCRmLczJOYNQArU+pUCtQ5AhA8++OCDD0B/pUCtXykQQDtDYt7OkBBA+OCDDz74EEC1fqVArV8RQHIcx3EcxxFALrrooosuEkDrVwrU+pUSQKj1KwVq/RJAZZNNNtlkE0AiMW9nSMwTQN7OkJi3MxRAm2yyySabFEBYCtT6lQIVQBWo9SsFahVA0UUXXXTRFUCO4ziO4zgWQEuBWr9SoBZACB988MEHF0DEvJ0hMW8XQIFav1Kg1hdAPvjggw8+GED7lQK1fqUYQLczJObtDBlAdNFFF110GUAxb2dIzNsZQO4MiXk7QxpAq6qqqqqqGkBnSMzbGRIbQCTm7QyJeRtA4YMPPvjgG0CeITFvZ0gcQFq/UqDWrxxAF1100UUXHUDU+pUCtX4dQJGYtzMk5h1ATTbZZJNNHkAK1PqVArUeQMdxHMdxHB9AhA8++OCDH0BArV8pUOsfQH+lQK1fKSBAXXTRRRddIEA7Q2LezpAgQBoS83aGxCBA+OCDDz74IEDXrxSo9SshQLV+pUCtXyFAk0022WSTIUByHMdxHMchQFDrVwrU+iFALrrooosuIkANiXk7Q2IiQOtXCtT6lSJAyiabbLLJIkCo9SsFav0iQIbEvJ0hMSNAZZNNNtlkI0BDYt7OkJgjQCIxb2dIzCNAAAAAAAAAJEA=\",\"dtype\":\"float64\",\"shape\":[100]},\"y\":{\"__ndarray__\":\"45Kv+3NE9T93DJmoo2jlv3YRIlgnQL2/YFW+YEsC5r/CiIlPOlblvxUeZsGQ4O2/nTIQkka68j+zCm4/cAvwP3s3nZu0L+q/4JX5tPkO8j/TiAMZwgX7PwjIeD7JAAhAFylopqdjAUDYHJKfnaz2P9/i/q/w2u0/Cn+uX0zsAkAgB79Ag44IQEGO45EDMwZA8dn3vmm9/z+SkZE/Q3kDQG42GVxR3eU/Qqp2Zvt4BUDfEdWDresMQIqb+7lIFAJAAJFbeQZeBECs3JEd49wNQEKC0VFo/gRAlBzIEZdrEUDEQ6UPU3YJQNrIN2sMvA9Ab2kRRy4oBUDJIC49hDUNQNQb0rn1rBNABqbUGRgPAEBipEIHDHQTQMBxKh7QIvc/YD1nyGYNDEAxkpQNwHkRQIPHmrfHAwpAh2N/AqPrEED+ORjK0DcVQNe5Hb/NuRFAqsppgVUtAkBcu51b4JYUQDj1+wdl5hVA6wk4TXqnEkCchREcmn8SQJqbRAhhLRNAwXJh2ALCCUCPu+1tgToSQP52hWKDARtAy3HmA/TZGEAdUz22FssXQJckS2KRqxNA5JQst4V8FEBVjb6EeaEYQE5TzR65DxdAXTVMK2gtF0DmdakbS0cVQBcqs8/I1RlARiA/ogVlFUB67DFTzrIXQD8DVZCeehxAoL/Z1dXsEUAgO9GYmYobQHqXQ5Nl/BVAnFzkl/ZbEEAEcCGHxysWQIQnr30F2RZAOau3EaCaH0DifCJFJBwgQBtqXXm2yyJAWhkkh7lqG0C3RSMy6ygcQKLzBCItTx1AX5mDai1GIkBbhgCaE7kgQCY69yidOh9ARhC/yPEaHEAAQkFkJOwjQERJQpBszRlAfgwktYHJH0AwC2u4zTwgQBk7WrSqFSJAm/e2DDS1HEAYKhv4GOEjQK6KF4jfHSFAHs6zZSZCH0DPMkmnjWMgQPv6pUrS4SFAnIDwOMkFIUBjWFTaRCAkQMCr3gItpSBAT9U1/nSiI0A9FhAyOvAmQIbheL8EziNAXu3WeHhkJUBFNyqlM1clQEPupX3gDyBAa5XdFiR2JkA=\",\"dtype\":\"float64\",\"shape\":[100]}},\"selected\":{\"id\":\"5181\",\"type\":\"Selection\"},\"selection_policy\":{\"id\":\"5180\",\"type\":\"UnionRenderers\"}},\"id\":\"5005\",\"type\":\"ColumnDataSource\"},{\"attributes\":{},\"id\":\"4980\",\"type\":\"LinearScale\"},{\"attributes\":{},\"id\":\"5180\",\"type\":\"UnionRenderers\"},{\"attributes\":{\"dimension\":1,\"ticker\":{\"id\":\"4988\",\"type\":\"BasicTicker\"}},\"id\":\"4991\",\"type\":\"Grid\"},{\"attributes\":{\"active_drag\":\"auto\",\"active_inspect\":\"auto\",\"active_multi\":null,\"active_scroll\":\"auto\",\"active_tap\":\"auto\",\"tools\":[{\"id\":\"4992\",\"type\":\"PanTool\"},{\"id\":\"4993\",\"type\":\"WheelZoomTool\"},{\"id\":\"4994\",\"type\":\"BoxZoomTool\"},{\"id\":\"4995\",\"type\":\"SaveTool\"},{\"id\":\"4996\",\"type\":\"ResetTool\"},{\"id\":\"4997\",\"type\":\"HelpTool\"}]},\"id\":\"4998\",\"type\":\"Toolbar\"},{\"attributes\":{},\"id\":\"4997\",\"type\":\"HelpTool\"},{\"attributes\":{\"formatter\":{\"id\":\"5177\",\"type\":\"BasicTickFormatter\"},\"ticker\":{\"id\":\"4983\",\"type\":\"BasicTicker\"}},\"id\":\"4982\",\"type\":\"LinearAxis\"},{\"attributes\":{\"source\":{\"id\":\"5005\",\"type\":\"ColumnDataSource\"}},\"id\":\"5009\",\"type\":\"CDSView\"},{\"attributes\":{},\"id\":\"4992\",\"type\":\"PanTool\"},{\"attributes\":{\"formatter\":{\"id\":\"5179\",\"type\":\"BasicTickFormatter\"},\"ticker\":{\"id\":\"4988\",\"type\":\"BasicTicker\"}},\"id\":\"4987\",\"type\":\"LinearAxis\"},{\"attributes\":{},\"id\":\"4995\",\"type\":\"SaveTool\"},{\"attributes\":{},\"id\":\"5179\",\"type\":\"BasicTickFormatter\"},{\"attributes\":{\"fill_color\":{\"value\":\"maroon\"},\"line_color\":{\"value\":\"maroon\"},\"x\":{\"field\":\"x\"},\"y\":{\"field\":\"y\"}},\"id\":\"5006\",\"type\":\"Circle\"},{\"attributes\":{},\"id\":\"4978\",\"type\":\"LinearScale\"},{\"attributes\":{\"data_source\":{\"id\":\"5005\",\"type\":\"ColumnDataSource\"},\"glyph\":{\"id\":\"5006\",\"type\":\"Circle\"},\"hover_glyph\":null,\"muted_glyph\":null,\"nonselection_glyph\":{\"id\":\"5007\",\"type\":\"Circle\"},\"selection_glyph\":null,\"view\":{\"id\":\"5009\",\"type\":\"CDSView\"}},\"id\":\"5008\",\"type\":\"GlyphRenderer\"},{\"attributes\":{},\"id\":\"4996\",\"type\":\"ResetTool\"},{\"attributes\":{\"text\":\"\"},\"id\":\"5174\",\"type\":\"Title\"},{\"attributes\":{\"callback\":null},\"id\":\"4974\",\"type\":\"DataRange1d\"},{\"attributes\":{},\"id\":\"4983\",\"type\":\"BasicTicker\"},{\"attributes\":{\"bottom_units\":\"screen\",\"fill_alpha\":{\"value\":0.5},\"fill_color\":{\"value\":\"lightgrey\"},\"left_units\":\"screen\",\"level\":\"overlay\",\"line_alpha\":{\"value\":1.0},\"line_color\":{\"value\":\"black\"},\"line_dash\":[4,4],\"line_width\":{\"value\":2},\"render_mode\":\"css\",\"right_units\":\"screen\",\"top_units\":\"screen\"},\"id\":\"5182\",\"type\":\"BoxAnnotation\"},{\"attributes\":{\"fill_alpha\":{\"value\":0.1},\"fill_color\":{\"value\":\"#1f77b4\"},\"line_alpha\":{\"value\":0.1},\"line_color\":{\"value\":\"#1f77b4\"},\"x\":{\"field\":\"x\"},\"y\":{\"field\":\"y\"}},\"id\":\"5007\",\"type\":\"Circle\"},{\"attributes\":{},\"id\":\"4993\",\"type\":\"WheelZoomTool\"},{\"attributes\":{\"ticker\":{\"id\":\"4983\",\"type\":\"BasicTicker\"}},\"id\":\"4986\",\"type\":\"Grid\"},{\"attributes\":{},\"id\":\"5181\",\"type\":\"Selection\"}],\"root_ids\":[\"4973\"]},\"title\":\"Bokeh Application\",\"version\":\"1.4.0\"}};\n",
       "  var render_items = [{\"docid\":\"d98bf1b9-db92-414f-9a65-538f2a362602\",\"roots\":{\"4973\":\"622ccbd0-a6c4-42c6-a36e-037913bcc699\"}}];\n",
       "  root.Bokeh.embed.embed_items_notebook(docs_json, render_items);\n",
       "\n",
       "  }\n",
       "  if (root.Bokeh !== undefined) {\n",
       "    embed_document(root);\n",
       "  } else {\n",
       "    var attempts = 0;\n",
       "    var timer = setInterval(function(root) {\n",
       "      if (root.Bokeh !== undefined) {\n",
       "        clearInterval(timer);\n",
       "        embed_document(root);\n",
       "      } else {\n",
       "        attempts++;\n",
       "        if (attempts > 100) {\n",
       "          clearInterval(timer);\n",
       "          console.log(\"Bokeh: ERROR: Unable to run BokehJS code because BokehJS library is missing\");\n",
       "        }\n",
       "      }\n",
       "    }, 10, root)\n",
       "  }\n",
       "})(window);"
      ],
      "application/vnd.bokehjs_exec.v0+json": ""
     },
     "metadata": {
      "application/vnd.bokehjs_exec.v0+json": {
       "id": "4973"
      }
     },
     "output_type": "display_data"
    }
   ],
   "source": [
    "p1 = figure(width = 300, height = 300)\n",
    "p1.circle(x,y,color = 'maroon')\n",
    "show(p1)"
   ]
  },
  {
   "cell_type": "markdown",
   "metadata": {},
   "source": [
    "Second plot"
   ]
  },
  {
   "cell_type": "code",
   "execution_count": 47,
   "metadata": {},
   "outputs": [
    {
     "data": {
      "text/html": [
       "\n",
       "\n",
       "\n",
       "\n",
       "\n",
       "\n",
       "  <div class=\"bk-root\" id=\"5a295b4f-2aa2-4dfb-8292-6e669a6c4766\" data-root-id=\"5237\"></div>\n"
      ]
     },
     "metadata": {},
     "output_type": "display_data"
    },
    {
     "data": {
      "application/javascript": [
       "(function(root) {\n",
       "  function embed_document(root) {\n",
       "    \n",
       "  var docs_json = {\"7fb7e48a-01d9-43b0-ade8-af5d159f8904\":{\"roots\":{\"references\":[{\"attributes\":{\"below\":[{\"id\":\"5246\",\"type\":\"LinearAxis\"}],\"center\":[{\"id\":\"5250\",\"type\":\"Grid\"},{\"id\":\"5255\",\"type\":\"Grid\"}],\"left\":[{\"id\":\"5251\",\"type\":\"LinearAxis\"}],\"plot_height\":300,\"plot_width\":300,\"renderers\":[{\"id\":\"5272\",\"type\":\"GlyphRenderer\"}],\"title\":{\"id\":\"5447\",\"type\":\"Title\"},\"toolbar\":{\"id\":\"5262\",\"type\":\"Toolbar\"},\"x_range\":{\"id\":\"5238\",\"type\":\"DataRange1d\"},\"x_scale\":{\"id\":\"5242\",\"type\":\"LinearScale\"},\"y_range\":{\"id\":\"5240\",\"type\":\"DataRange1d\"},\"y_scale\":{\"id\":\"5244\",\"type\":\"LinearScale\"}},\"id\":\"5237\",\"subtype\":\"Figure\",\"type\":\"Plot\"},{\"attributes\":{},\"id\":\"5247\",\"type\":\"BasicTicker\"},{\"attributes\":{\"fill_alpha\":{\"value\":0.1},\"fill_color\":{\"value\":\"#1f77b4\"},\"line_alpha\":{\"value\":0.1},\"line_color\":{\"value\":\"#1f77b4\"},\"x\":{\"field\":\"x\"},\"y\":{\"field\":\"y\"}},\"id\":\"5271\",\"type\":\"Circle\"},{\"attributes\":{},\"id\":\"5453\",\"type\":\"UnionRenderers\"},{\"attributes\":{\"dimension\":1,\"ticker\":{\"id\":\"5252\",\"type\":\"BasicTicker\"}},\"id\":\"5255\",\"type\":\"Grid\"},{\"attributes\":{},\"id\":\"5454\",\"type\":\"Selection\"},{\"attributes\":{\"fill_color\":{\"value\":\"seagreen\"},\"line_color\":{\"value\":\"seagreen\"},\"x\":{\"field\":\"x\"},\"y\":{\"field\":\"y\"}},\"id\":\"5270\",\"type\":\"Circle\"},{\"attributes\":{\"bottom_units\":\"screen\",\"fill_alpha\":{\"value\":0.5},\"fill_color\":{\"value\":\"lightgrey\"},\"left_units\":\"screen\",\"level\":\"overlay\",\"line_alpha\":{\"value\":1.0},\"line_color\":{\"value\":\"black\"},\"line_dash\":[4,4],\"line_width\":{\"value\":2},\"render_mode\":\"css\",\"right_units\":\"screen\",\"top_units\":\"screen\"},\"id\":\"5455\",\"type\":\"BoxAnnotation\"},{\"attributes\":{\"text\":\"\"},\"id\":\"5447\",\"type\":\"Title\"},{\"attributes\":{\"callback\":null},\"id\":\"5238\",\"type\":\"DataRange1d\"},{\"attributes\":{\"source\":{\"id\":\"5269\",\"type\":\"ColumnDataSource\"}},\"id\":\"5273\",\"type\":\"CDSView\"},{\"attributes\":{\"ticker\":{\"id\":\"5247\",\"type\":\"BasicTicker\"}},\"id\":\"5250\",\"type\":\"Grid\"},{\"attributes\":{\"active_drag\":\"auto\",\"active_inspect\":\"auto\",\"active_multi\":null,\"active_scroll\":\"auto\",\"active_tap\":\"auto\",\"tools\":[{\"id\":\"5256\",\"type\":\"PanTool\"},{\"id\":\"5257\",\"type\":\"WheelZoomTool\"},{\"id\":\"5258\",\"type\":\"BoxZoomTool\"},{\"id\":\"5259\",\"type\":\"SaveTool\"},{\"id\":\"5260\",\"type\":\"ResetTool\"},{\"id\":\"5261\",\"type\":\"HelpTool\"}]},\"id\":\"5262\",\"type\":\"Toolbar\"},{\"attributes\":{},\"id\":\"5256\",\"type\":\"PanTool\"},{\"attributes\":{},\"id\":\"5242\",\"type\":\"LinearScale\"},{\"attributes\":{},\"id\":\"5257\",\"type\":\"WheelZoomTool\"},{\"attributes\":{\"overlay\":{\"id\":\"5455\",\"type\":\"BoxAnnotation\"}},\"id\":\"5258\",\"type\":\"BoxZoomTool\"},{\"attributes\":{},\"id\":\"5259\",\"type\":\"SaveTool\"},{\"attributes\":{},\"id\":\"5244\",\"type\":\"LinearScale\"},{\"attributes\":{},\"id\":\"5260\",\"type\":\"ResetTool\"},{\"attributes\":{\"callback\":null,\"data\":{\"x\":{\"__ndarray__\":\"45Kv+3NE9T93DJmoo2jlv3YRIlgnQL2/YFW+YEsC5r/CiIlPOlblvxUeZsGQ4O2/nTIQkka68j+zCm4/cAvwP3s3nZu0L+q/4JX5tPkO8j/TiAMZwgX7PwjIeD7JAAhAFylopqdjAUDYHJKfnaz2P9/i/q/w2u0/Cn+uX0zsAkAgB79Ag44IQEGO45EDMwZA8dn3vmm9/z+SkZE/Q3kDQG42GVxR3eU/Qqp2Zvt4BUDfEdWDresMQIqb+7lIFAJAAJFbeQZeBECs3JEd49wNQEKC0VFo/gRAlBzIEZdrEUDEQ6UPU3YJQNrIN2sMvA9Ab2kRRy4oBUDJIC49hDUNQNQb0rn1rBNABqbUGRgPAEBipEIHDHQTQMBxKh7QIvc/YD1nyGYNDEAxkpQNwHkRQIPHmrfHAwpAh2N/AqPrEED+ORjK0DcVQNe5Hb/NuRFAqsppgVUtAkBcu51b4JYUQDj1+wdl5hVA6wk4TXqnEkCchREcmn8SQJqbRAhhLRNAwXJh2ALCCUCPu+1tgToSQP52hWKDARtAy3HmA/TZGEAdUz22FssXQJckS2KRqxNA5JQst4V8FEBVjb6EeaEYQE5TzR65DxdAXTVMK2gtF0DmdakbS0cVQBcqs8/I1RlARiA/ogVlFUB67DFTzrIXQD8DVZCeehxAoL/Z1dXsEUAgO9GYmYobQHqXQ5Nl/BVAnFzkl/ZbEEAEcCGHxysWQIQnr30F2RZAOau3EaCaH0DifCJFJBwgQBtqXXm2yyJAWhkkh7lqG0C3RSMy6ygcQKLzBCItTx1AX5mDai1GIkBbhgCaE7kgQCY69yidOh9ARhC/yPEaHEAAQkFkJOwjQERJQpBszRlAfgwktYHJH0AwC2u4zTwgQBk7WrSqFSJAm/e2DDS1HEAYKhv4GOEjQK6KF4jfHSFAHs6zZSZCH0DPMkmnjWMgQPv6pUrS4SFAnIDwOMkFIUBjWFTaRCAkQMCr3gItpSBAT9U1/nSiI0A9FhAyOvAmQIbheL8EziNAXu3WeHhkJUBFNyqlM1clQEPupX3gDyBAa5XdFiR2JkA=\",\"dtype\":\"float64\",\"shape\":[100]},\"y\":{\"__ndarray__\":\"AuAcEixzwL9e5Ung8A3qP+O1yo1wKABA9EGOiBq0BEAsCeBJLicHQNL6hDf8Zfs/rluisaYABUBsAwRdA48GQGm3Bxv0KwtAkCRlpc7zEUAiOoEDQ8MLQPTB6TTAQRJAPdaVG9I3GEBxSe0h/hcXQFFZlH9geRBAMEilMB5OGUCxCD7qG2McQMKLQhewwR5AAWp6FPswH0CADD/ykx8dQIBL9h8T6BpAEorbSXzXG0BUuPlJiYUcQAyjhBmjghtALWI07qNQGED0mNVFwVEZQLaoPcxZGhVAjuRPK8ToDUALdoJN5TUDQEBL9Yw2weo/+isIH14e+D9sg3nBTyfqP8f8BU7ccvo/5sUKP4rKAEDfXbpFuzoPQGjNBtSlyhJAWlTflpwoFkAWyyPyJTUUQMSvDWxtrgpAYfkQdNInEEBAXvW5AxgVQB8g7cJEuxNAGmc3VNfsEUBdltfPQ58QQMKIa0JfKgxABV0X/GgRE0CMoIzhMcYSQOjmMQ6FHRZAllt8wvLBF0CeXdpUM4oUQOh/NVAueBxArf6e5sr3G0CahDhZpSYZQKLIQ0wtLh9AuXLBR6MWIUACsygui48gQHNMHqqRcB1ASKFkSCbhF0BR33Cu5ksUQJ82AUZFVBZA6GcnHgITE0CzsQZTP30XQJKWV6wSHBZAxwub2YnRGUCXgrT45MgWQB0zwze2txdAcv19FI5xGEAd3cDI1TIYQGfn62cahxhAuUqWWhbqFkDrMpwIoKMWQOvNarPkaR5A/HrF/h64H0A9wwWpgdYiQFMEv/dM4SVA+rHqY5U1J0D2y2GYKd4pQNh28d2HCStAsYfWYddNK0DglFZKxgErQLaHzVXL4ClAuqe3eUNfKEBT5eXz43IsQG/JoS7DqyxAe5RG+3H+LEAGPqZ9fRYvQAdPv9m3jClAoNN7y4J0KkCx8mmnKDArQMJbRykAmitAKGsZsu+lKkAyvQ4PGQoqQLWTpJwKbCxAvQeyioV6L0C8dVfDhYgwQO4vZdvK0TBAMKCpQicHMUBBcmTtbeowQKfiXX1BxS9A40tUiyRMMEA=\",\"dtype\":\"float64\",\"shape\":[100]}},\"selected\":{\"id\":\"5454\",\"type\":\"Selection\"},\"selection_policy\":{\"id\":\"5453\",\"type\":\"UnionRenderers\"}},\"id\":\"5269\",\"type\":\"ColumnDataSource\"},{\"attributes\":{},\"id\":\"5452\",\"type\":\"BasicTickFormatter\"},{\"attributes\":{\"formatter\":{\"id\":\"5452\",\"type\":\"BasicTickFormatter\"},\"ticker\":{\"id\":\"5252\",\"type\":\"BasicTicker\"}},\"id\":\"5251\",\"type\":\"LinearAxis\"},{\"attributes\":{\"formatter\":{\"id\":\"5450\",\"type\":\"BasicTickFormatter\"},\"ticker\":{\"id\":\"5247\",\"type\":\"BasicTicker\"}},\"id\":\"5246\",\"type\":\"LinearAxis\"},{\"attributes\":{},\"id\":\"5261\",\"type\":\"HelpTool\"},{\"attributes\":{\"data_source\":{\"id\":\"5269\",\"type\":\"ColumnDataSource\"},\"glyph\":{\"id\":\"5270\",\"type\":\"Circle\"},\"hover_glyph\":null,\"muted_glyph\":null,\"nonselection_glyph\":{\"id\":\"5271\",\"type\":\"Circle\"},\"selection_glyph\":null,\"view\":{\"id\":\"5273\",\"type\":\"CDSView\"}},\"id\":\"5272\",\"type\":\"GlyphRenderer\"},{\"attributes\":{\"callback\":null},\"id\":\"5240\",\"type\":\"DataRange1d\"},{\"attributes\":{},\"id\":\"5450\",\"type\":\"BasicTickFormatter\"},{\"attributes\":{},\"id\":\"5252\",\"type\":\"BasicTicker\"}],\"root_ids\":[\"5237\"]},\"title\":\"Bokeh Application\",\"version\":\"1.4.0\"}};\n",
       "  var render_items = [{\"docid\":\"7fb7e48a-01d9-43b0-ade8-af5d159f8904\",\"roots\":{\"5237\":\"5a295b4f-2aa2-4dfb-8292-6e669a6c4766\"}}];\n",
       "  root.Bokeh.embed.embed_items_notebook(docs_json, render_items);\n",
       "\n",
       "  }\n",
       "  if (root.Bokeh !== undefined) {\n",
       "    embed_document(root);\n",
       "  } else {\n",
       "    var attempts = 0;\n",
       "    var timer = setInterval(function(root) {\n",
       "      if (root.Bokeh !== undefined) {\n",
       "        clearInterval(timer);\n",
       "        embed_document(root);\n",
       "      } else {\n",
       "        attempts++;\n",
       "        if (attempts > 100) {\n",
       "          clearInterval(timer);\n",
       "          console.log(\"Bokeh: ERROR: Unable to run BokehJS code because BokehJS library is missing\");\n",
       "        }\n",
       "      }\n",
       "    }, 10, root)\n",
       "  }\n",
       "})(window);"
      ],
      "application/vnd.bokehjs_exec.v0+json": ""
     },
     "metadata": {
      "application/vnd.bokehjs_exec.v0+json": {
       "id": "5237"
      }
     },
     "output_type": "display_data"
    }
   ],
   "source": [
    "p2 = figure(width = 300, height = 300)\n",
    "p2.circle(y,z,color = 'seagreen')\n",
    "show(p2)"
   ]
  },
  {
   "cell_type": "markdown",
   "metadata": {},
   "source": [
    "Third plot"
   ]
  },
  {
   "cell_type": "code",
   "execution_count": 49,
   "metadata": {},
   "outputs": [
    {
     "data": {
      "text/html": [
       "\n",
       "\n",
       "\n",
       "\n",
       "\n",
       "\n",
       "  <div class=\"bk-root\" id=\"da6c80eb-8fcf-4652-982e-427ab6f28e1a\" data-root-id=\"5544\"></div>\n"
      ]
     },
     "metadata": {},
     "output_type": "display_data"
    },
    {
     "data": {
      "application/javascript": [
       "(function(root) {\n",
       "  function embed_document(root) {\n",
       "    \n",
       "  var docs_json = {\"e3107199-d68b-4e11-8bc3-2ef876d4e5b3\":{\"roots\":{\"references\":[{\"attributes\":{\"below\":[{\"id\":\"5553\",\"type\":\"LinearAxis\"}],\"center\":[{\"id\":\"5557\",\"type\":\"Grid\"},{\"id\":\"5562\",\"type\":\"Grid\"}],\"left\":[{\"id\":\"5558\",\"type\":\"LinearAxis\"}],\"plot_height\":300,\"plot_width\":300,\"renderers\":[{\"id\":\"5579\",\"type\":\"GlyphRenderer\"}],\"title\":{\"id\":\"5763\",\"type\":\"Title\"},\"toolbar\":{\"id\":\"5569\",\"type\":\"Toolbar\"},\"x_range\":{\"id\":\"5545\",\"type\":\"DataRange1d\"},\"x_scale\":{\"id\":\"5549\",\"type\":\"LinearScale\"},\"y_range\":{\"id\":\"5547\",\"type\":\"DataRange1d\"},\"y_scale\":{\"id\":\"5551\",\"type\":\"LinearScale\"}},\"id\":\"5544\",\"subtype\":\"Figure\",\"type\":\"Plot\"},{\"attributes\":{},\"id\":\"5551\",\"type\":\"LinearScale\"},{\"attributes\":{\"source\":{\"id\":\"5576\",\"type\":\"ColumnDataSource\"}},\"id\":\"5580\",\"type\":\"CDSView\"},{\"attributes\":{\"dimension\":1,\"ticker\":{\"id\":\"5559\",\"type\":\"BasicTicker\"}},\"id\":\"5562\",\"type\":\"Grid\"},{\"attributes\":{\"bottom_units\":\"screen\",\"fill_alpha\":{\"value\":0.5},\"fill_color\":{\"value\":\"lightgrey\"},\"left_units\":\"screen\",\"level\":\"overlay\",\"line_alpha\":{\"value\":1.0},\"line_color\":{\"value\":\"black\"},\"line_dash\":[4,4],\"line_width\":{\"value\":2},\"render_mode\":\"css\",\"right_units\":\"screen\",\"top_units\":\"screen\"},\"id\":\"5771\",\"type\":\"BoxAnnotation\"},{\"attributes\":{\"callback\":null},\"id\":\"5547\",\"type\":\"DataRange1d\"},{\"attributes\":{\"line_alpha\":0.1,\"line_color\":\"#1f77b4\",\"line_width\":2,\"x\":{\"field\":\"x\"},\"y\":{\"field\":\"y\"}},\"id\":\"5578\",\"type\":\"Line\"},{\"attributes\":{},\"id\":\"5770\",\"type\":\"Selection\"},{\"attributes\":{},\"id\":\"5563\",\"type\":\"PanTool\"},{\"attributes\":{\"line_color\":\"hotpink\",\"line_width\":2,\"x\":{\"field\":\"x\"},\"y\":{\"field\":\"y\"}},\"id\":\"5577\",\"type\":\"Line\"},{\"attributes\":{},\"id\":\"5766\",\"type\":\"BasicTickFormatter\"},{\"attributes\":{},\"id\":\"5564\",\"type\":\"WheelZoomTool\"},{\"attributes\":{},\"id\":\"5559\",\"type\":\"BasicTicker\"},{\"attributes\":{},\"id\":\"5769\",\"type\":\"UnionRenderers\"},{\"attributes\":{},\"id\":\"5549\",\"type\":\"LinearScale\"},{\"attributes\":{},\"id\":\"5567\",\"type\":\"ResetTool\"},{\"attributes\":{\"callback\":null,\"data\":{\"x\":{\"__ndarray__\":\"AAAAAAAAAAAxb2dIzNu5PzFvZ0jM28k/ZZNNNtlk0z8xb2dIzNvZP3+lQK1fKeA/ZZNNNtlk4z9LgVq/UqDmPzFvZ0jM2+k/F1100UUX7T9/pUCtXynwP3Icx3Ecx/E/ZZNNNtlk8z9YCtT6lQL1P0uBWr9SoPY/Pvjggw8++D8xb2dIzNv5PyTm7QyJefs/F1100UUX/T8K1PqVArX+P3+lQK1fKQBA+OCDDz74AEByHMdxHMcBQOtXCtT6lQJAZZNNNtlkA0DezpCYtzMEQFgK1PqVAgVA0UUXXXTRBUBLgVq/UqAGQMS8nSExbwdAPvjggw8+CEC3MyTm7QwJQDFvZ0jM2wlAq6qqqqqqCkAk5u0MiXkLQJ4hMW9nSAxAF1100UUXDUCRmLczJOYNQArU+pUCtQ5AhA8++OCDD0B/pUCtXykQQDtDYt7OkBBA+OCDDz74EEC1fqVArV8RQHIcx3EcxxFALrrooosuEkDrVwrU+pUSQKj1KwVq/RJAZZNNNtlkE0AiMW9nSMwTQN7OkJi3MxRAm2yyySabFEBYCtT6lQIVQBWo9SsFahVA0UUXXXTRFUCO4ziO4zgWQEuBWr9SoBZACB988MEHF0DEvJ0hMW8XQIFav1Kg1hdAPvjggw8+GED7lQK1fqUYQLczJObtDBlAdNFFF110GUAxb2dIzNsZQO4MiXk7QxpAq6qqqqqqGkBnSMzbGRIbQCTm7QyJeRtA4YMPPvjgG0CeITFvZ0gcQFq/UqDWrxxAF1100UUXHUDU+pUCtX4dQJGYtzMk5h1ATTbZZJNNHkAK1PqVArUeQMdxHMdxHB9AhA8++OCDH0BArV8pUOsfQH+lQK1fKSBAXXTRRRddIEA7Q2LezpAgQBoS83aGxCBA+OCDDz74IEDXrxSo9SshQLV+pUCtXyFAk0022WSTIUByHMdxHMchQFDrVwrU+iFALrrooosuIkANiXk7Q2IiQOtXCtT6lSJAyiabbLLJIkCo9SsFav0iQIbEvJ0hMSNAZZNNNtlkI0BDYt7OkJgjQCIxb2dIzCNAAAAAAAAAJEA=\",\"dtype\":\"float64\",\"shape\":[100]},\"y\":{\"__ndarray__\":\"AuAcEixzwL9e5Ung8A3qP+O1yo1wKABA9EGOiBq0BEAsCeBJLicHQNL6hDf8Zfs/rluisaYABUBsAwRdA48GQGm3Bxv0KwtAkCRlpc7zEUAiOoEDQ8MLQPTB6TTAQRJAPdaVG9I3GEBxSe0h/hcXQFFZlH9geRBAMEilMB5OGUCxCD7qG2McQMKLQhewwR5AAWp6FPswH0CADD/ykx8dQIBL9h8T6BpAEorbSXzXG0BUuPlJiYUcQAyjhBmjghtALWI07qNQGED0mNVFwVEZQLaoPcxZGhVAjuRPK8ToDUALdoJN5TUDQEBL9Yw2weo/+isIH14e+D9sg3nBTyfqP8f8BU7ccvo/5sUKP4rKAEDfXbpFuzoPQGjNBtSlyhJAWlTflpwoFkAWyyPyJTUUQMSvDWxtrgpAYfkQdNInEEBAXvW5AxgVQB8g7cJEuxNAGmc3VNfsEUBdltfPQ58QQMKIa0JfKgxABV0X/GgRE0CMoIzhMcYSQOjmMQ6FHRZAllt8wvLBF0CeXdpUM4oUQOh/NVAueBxArf6e5sr3G0CahDhZpSYZQKLIQ0wtLh9AuXLBR6MWIUACsygui48gQHNMHqqRcB1ASKFkSCbhF0BR33Cu5ksUQJ82AUZFVBZA6GcnHgITE0CzsQZTP30XQJKWV6wSHBZAxwub2YnRGUCXgrT45MgWQB0zwze2txdAcv19FI5xGEAd3cDI1TIYQGfn62cahxhAuUqWWhbqFkDrMpwIoKMWQOvNarPkaR5A/HrF/h64H0A9wwWpgdYiQFMEv/dM4SVA+rHqY5U1J0D2y2GYKd4pQNh28d2HCStAsYfWYddNK0DglFZKxgErQLaHzVXL4ClAuqe3eUNfKEBT5eXz43IsQG/JoS7DqyxAe5RG+3H+LEAGPqZ9fRYvQAdPv9m3jClAoNN7y4J0KkCx8mmnKDArQMJbRykAmitAKGsZsu+lKkAyvQ4PGQoqQLWTpJwKbCxAvQeyioV6L0C8dVfDhYgwQO4vZdvK0TBAMKCpQicHMUBBcmTtbeowQKfiXX1BxS9A40tUiyRMMEA=\",\"dtype\":\"float64\",\"shape\":[100]}},\"selected\":{\"id\":\"5770\",\"type\":\"Selection\"},\"selection_policy\":{\"id\":\"5769\",\"type\":\"UnionRenderers\"}},\"id\":\"5576\",\"type\":\"ColumnDataSource\"},{\"attributes\":{},\"id\":\"5566\",\"type\":\"SaveTool\"},{\"attributes\":{},\"id\":\"5554\",\"type\":\"BasicTicker\"},{\"attributes\":{\"active_drag\":\"auto\",\"active_inspect\":\"auto\",\"active_multi\":null,\"active_scroll\":\"auto\",\"active_tap\":\"auto\",\"tools\":[{\"id\":\"5563\",\"type\":\"PanTool\"},{\"id\":\"5564\",\"type\":\"WheelZoomTool\"},{\"id\":\"5565\",\"type\":\"BoxZoomTool\"},{\"id\":\"5566\",\"type\":\"SaveTool\"},{\"id\":\"5567\",\"type\":\"ResetTool\"},{\"id\":\"5568\",\"type\":\"HelpTool\"}]},\"id\":\"5569\",\"type\":\"Toolbar\"},{\"attributes\":{\"formatter\":{\"id\":\"5768\",\"type\":\"BasicTickFormatter\"},\"ticker\":{\"id\":\"5559\",\"type\":\"BasicTicker\"}},\"id\":\"5558\",\"type\":\"LinearAxis\"},{\"attributes\":{\"overlay\":{\"id\":\"5771\",\"type\":\"BoxAnnotation\"}},\"id\":\"5565\",\"type\":\"BoxZoomTool\"},{\"attributes\":{\"data_source\":{\"id\":\"5576\",\"type\":\"ColumnDataSource\"},\"glyph\":{\"id\":\"5577\",\"type\":\"Line\"},\"hover_glyph\":null,\"muted_glyph\":null,\"nonselection_glyph\":{\"id\":\"5578\",\"type\":\"Line\"},\"selection_glyph\":null,\"view\":{\"id\":\"5580\",\"type\":\"CDSView\"}},\"id\":\"5579\",\"type\":\"GlyphRenderer\"},{\"attributes\":{\"ticker\":{\"id\":\"5554\",\"type\":\"BasicTicker\"}},\"id\":\"5557\",\"type\":\"Grid\"},{\"attributes\":{\"callback\":null},\"id\":\"5545\",\"type\":\"DataRange1d\"},{\"attributes\":{\"formatter\":{\"id\":\"5766\",\"type\":\"BasicTickFormatter\"},\"ticker\":{\"id\":\"5554\",\"type\":\"BasicTicker\"}},\"id\":\"5553\",\"type\":\"LinearAxis\"},{\"attributes\":{\"text\":\"\"},\"id\":\"5763\",\"type\":\"Title\"},{\"attributes\":{},\"id\":\"5568\",\"type\":\"HelpTool\"},{\"attributes\":{},\"id\":\"5768\",\"type\":\"BasicTickFormatter\"}],\"root_ids\":[\"5544\"]},\"title\":\"Bokeh Application\",\"version\":\"1.4.0\"}};\n",
       "  var render_items = [{\"docid\":\"e3107199-d68b-4e11-8bc3-2ef876d4e5b3\",\"roots\":{\"5544\":\"da6c80eb-8fcf-4652-982e-427ab6f28e1a\"}}];\n",
       "  root.Bokeh.embed.embed_items_notebook(docs_json, render_items);\n",
       "\n",
       "  }\n",
       "  if (root.Bokeh !== undefined) {\n",
       "    embed_document(root);\n",
       "  } else {\n",
       "    var attempts = 0;\n",
       "    var timer = setInterval(function(root) {\n",
       "      if (root.Bokeh !== undefined) {\n",
       "        clearInterval(timer);\n",
       "        embed_document(root);\n",
       "      } else {\n",
       "        attempts++;\n",
       "        if (attempts > 100) {\n",
       "          clearInterval(timer);\n",
       "          console.log(\"Bokeh: ERROR: Unable to run BokehJS code because BokehJS library is missing\");\n",
       "        }\n",
       "      }\n",
       "    }, 10, root)\n",
       "  }\n",
       "})(window);"
      ],
      "application/vnd.bokehjs_exec.v0+json": ""
     },
     "metadata": {
      "application/vnd.bokehjs_exec.v0+json": {
       "id": "5544"
      }
     },
     "output_type": "display_data"
    }
   ],
   "source": [
    "p3 = figure(width = 300, height = 300)\n",
    "p3.line(x,z,color = 'hotpink', line_width = 2)\n",
    "show(p3)"
   ]
  },
  {
   "cell_type": "markdown",
   "metadata": {},
   "source": [
    "Now, we can combine them:"
   ]
  },
  {
   "cell_type": "code",
   "execution_count": 50,
   "metadata": {},
   "outputs": [
    {
     "data": {
      "text/html": [
       "\n",
       "\n",
       "\n",
       "\n",
       "\n",
       "\n",
       "  <div class=\"bk-root\" id=\"c9e05e50-bddf-483b-8030-4d1b7f7b903d\" data-root-id=\"5859\"></div>\n"
      ]
     },
     "metadata": {},
     "output_type": "display_data"
    },
    {
     "data": {
      "application/javascript": [
       "(function(root) {\n",
       "  function embed_document(root) {\n",
       "    \n",
       "  var docs_json = {\"de15a7f9-80b4-4028-bdcb-fb0f07607a00\":{\"roots\":{\"references\":[{\"attributes\":{\"children\":[{\"id\":\"5858\",\"type\":\"ToolbarBox\"},{\"id\":\"5856\",\"type\":\"GridBox\"}]},\"id\":\"5859\",\"type\":\"Column\"},{\"attributes\":{\"fill_alpha\":{\"value\":0.1},\"fill_color\":{\"value\":\"#1f77b4\"},\"line_alpha\":{\"value\":0.1},\"line_color\":{\"value\":\"#1f77b4\"},\"x\":{\"field\":\"x\"},\"y\":{\"field\":\"y\"}},\"id\":\"5271\",\"type\":\"Circle\"},{\"attributes\":{\"dimension\":1,\"ticker\":{\"id\":\"5252\",\"type\":\"BasicTicker\"}},\"id\":\"5255\",\"type\":\"Grid\"},{\"attributes\":{\"bottom_units\":\"screen\",\"fill_alpha\":{\"value\":0.5},\"fill_color\":{\"value\":\"lightgrey\"},\"left_units\":\"screen\",\"level\":\"overlay\",\"line_alpha\":{\"value\":1.0},\"line_color\":{\"value\":\"black\"},\"line_dash\":[4,4],\"line_width\":{\"value\":2},\"render_mode\":\"css\",\"right_units\":\"screen\",\"top_units\":\"screen\"},\"id\":\"5771\",\"type\":\"BoxAnnotation\"},{\"attributes\":{\"fill_color\":{\"value\":\"seagreen\"},\"line_color\":{\"value\":\"seagreen\"},\"x\":{\"field\":\"x\"},\"y\":{\"field\":\"y\"}},\"id\":\"5270\",\"type\":\"Circle\"},{\"attributes\":{\"line_alpha\":0.1,\"line_color\":\"#1f77b4\",\"line_width\":2,\"x\":{\"field\":\"x\"},\"y\":{\"field\":\"y\"}},\"id\":\"5578\",\"type\":\"Line\"},{\"attributes\":{},\"id\":\"5770\",\"type\":\"Selection\"},{\"attributes\":{\"source\":{\"id\":\"5269\",\"type\":\"ColumnDataSource\"}},\"id\":\"5273\",\"type\":\"CDSView\"},{\"attributes\":{\"active_drag\":\"auto\",\"active_inspect\":\"auto\",\"active_multi\":null,\"active_scroll\":\"auto\",\"active_tap\":\"auto\",\"tools\":[{\"id\":\"5256\",\"type\":\"PanTool\"},{\"id\":\"5257\",\"type\":\"WheelZoomTool\"},{\"id\":\"5258\",\"type\":\"BoxZoomTool\"},{\"id\":\"5259\",\"type\":\"SaveTool\"},{\"id\":\"5260\",\"type\":\"ResetTool\"},{\"id\":\"5261\",\"type\":\"HelpTool\"}]},\"id\":\"5262\",\"type\":\"Toolbar\"},{\"attributes\":{},\"id\":\"5256\",\"type\":\"PanTool\"},{\"attributes\":{},\"id\":\"5766\",\"type\":\"BasicTickFormatter\"},{\"attributes\":{},\"id\":\"5257\",\"type\":\"WheelZoomTool\"},{\"attributes\":{\"tools\":[{\"id\":\"4992\",\"type\":\"PanTool\"},{\"id\":\"4993\",\"type\":\"WheelZoomTool\"},{\"id\":\"4994\",\"type\":\"BoxZoomTool\"},{\"id\":\"4995\",\"type\":\"SaveTool\"},{\"id\":\"4996\",\"type\":\"ResetTool\"},{\"id\":\"4997\",\"type\":\"HelpTool\"},{\"id\":\"5256\",\"type\":\"PanTool\"},{\"id\":\"5257\",\"type\":\"WheelZoomTool\"},{\"id\":\"5258\",\"type\":\"BoxZoomTool\"},{\"id\":\"5259\",\"type\":\"SaveTool\"},{\"id\":\"5260\",\"type\":\"ResetTool\"},{\"id\":\"5261\",\"type\":\"HelpTool\"},{\"id\":\"5563\",\"type\":\"PanTool\"},{\"id\":\"5564\",\"type\":\"WheelZoomTool\"},{\"id\":\"5565\",\"type\":\"BoxZoomTool\"},{\"id\":\"5566\",\"type\":\"SaveTool\"},{\"id\":\"5567\",\"type\":\"ResetTool\"},{\"id\":\"5568\",\"type\":\"HelpTool\"}]},\"id\":\"5857\",\"type\":\"ProxyToolbar\"},{\"attributes\":{\"overlay\":{\"id\":\"5455\",\"type\":\"BoxAnnotation\"}},\"id\":\"5258\",\"type\":\"BoxZoomTool\"},{\"attributes\":{},\"id\":\"5769\",\"type\":\"UnionRenderers\"},{\"attributes\":{},\"id\":\"5259\",\"type\":\"SaveTool\"},{\"attributes\":{},\"id\":\"5260\",\"type\":\"ResetTool\"},{\"attributes\":{},\"id\":\"5244\",\"type\":\"LinearScale\"},{\"attributes\":{\"formatter\":{\"id\":\"5450\",\"type\":\"BasicTickFormatter\"},\"ticker\":{\"id\":\"5247\",\"type\":\"BasicTicker\"}},\"id\":\"5246\",\"type\":\"LinearAxis\"},{\"attributes\":{},\"id\":\"5261\",\"type\":\"HelpTool\"},{\"attributes\":{\"callback\":null},\"id\":\"4974\",\"type\":\"DataRange1d\"},{\"attributes\":{\"data_source\":{\"id\":\"5269\",\"type\":\"ColumnDataSource\"},\"glyph\":{\"id\":\"5270\",\"type\":\"Circle\"},\"hover_glyph\":null,\"muted_glyph\":null,\"nonselection_glyph\":{\"id\":\"5271\",\"type\":\"Circle\"},\"selection_glyph\":null,\"view\":{\"id\":\"5273\",\"type\":\"CDSView\"}},\"id\":\"5272\",\"type\":\"GlyphRenderer\"},{\"attributes\":{\"callback\":null},\"id\":\"5545\",\"type\":\"DataRange1d\"},{\"attributes\":{\"callback\":null},\"id\":\"5240\",\"type\":\"DataRange1d\"},{\"attributes\":{},\"id\":\"4993\",\"type\":\"WheelZoomTool\"},{\"attributes\":{\"fill_alpha\":{\"value\":0.1},\"fill_color\":{\"value\":\"#1f77b4\"},\"line_alpha\":{\"value\":0.1},\"line_color\":{\"value\":\"#1f77b4\"},\"x\":{\"field\":\"x\"},\"y\":{\"field\":\"y\"}},\"id\":\"5007\",\"type\":\"Circle\"},{\"attributes\":{\"callback\":null},\"id\":\"5238\",\"type\":\"DataRange1d\"},{\"attributes\":{},\"id\":\"5453\",\"type\":\"UnionRenderers\"},{\"attributes\":{},\"id\":\"5247\",\"type\":\"BasicTicker\"},{\"attributes\":{},\"id\":\"5177\",\"type\":\"BasicTickFormatter\"},{\"attributes\":{},\"id\":\"5454\",\"type\":\"Selection\"},{\"attributes\":{\"bottom_units\":\"screen\",\"fill_alpha\":{\"value\":0.5},\"fill_color\":{\"value\":\"lightgrey\"},\"left_units\":\"screen\",\"level\":\"overlay\",\"line_alpha\":{\"value\":1.0},\"line_color\":{\"value\":\"black\"},\"line_dash\":[4,4],\"line_width\":{\"value\":2},\"render_mode\":\"css\",\"right_units\":\"screen\",\"top_units\":\"screen\"},\"id\":\"5455\",\"type\":\"BoxAnnotation\"},{\"attributes\":{\"overlay\":{\"id\":\"5182\",\"type\":\"BoxAnnotation\"}},\"id\":\"4994\",\"type\":\"BoxZoomTool\"},{\"attributes\":{\"callback\":null,\"data\":{\"x\":{\"__ndarray__\":\"AAAAAAAAAAAxb2dIzNu5PzFvZ0jM28k/ZZNNNtlk0z8xb2dIzNvZP3+lQK1fKeA/ZZNNNtlk4z9LgVq/UqDmPzFvZ0jM2+k/F1100UUX7T9/pUCtXynwP3Icx3Ecx/E/ZZNNNtlk8z9YCtT6lQL1P0uBWr9SoPY/Pvjggw8++D8xb2dIzNv5PyTm7QyJefs/F1100UUX/T8K1PqVArX+P3+lQK1fKQBA+OCDDz74AEByHMdxHMcBQOtXCtT6lQJAZZNNNtlkA0DezpCYtzMEQFgK1PqVAgVA0UUXXXTRBUBLgVq/UqAGQMS8nSExbwdAPvjggw8+CEC3MyTm7QwJQDFvZ0jM2wlAq6qqqqqqCkAk5u0MiXkLQJ4hMW9nSAxAF1100UUXDUCRmLczJOYNQArU+pUCtQ5AhA8++OCDD0B/pUCtXykQQDtDYt7OkBBA+OCDDz74EEC1fqVArV8RQHIcx3EcxxFALrrooosuEkDrVwrU+pUSQKj1KwVq/RJAZZNNNtlkE0AiMW9nSMwTQN7OkJi3MxRAm2yyySabFEBYCtT6lQIVQBWo9SsFahVA0UUXXXTRFUCO4ziO4zgWQEuBWr9SoBZACB988MEHF0DEvJ0hMW8XQIFav1Kg1hdAPvjggw8+GED7lQK1fqUYQLczJObtDBlAdNFFF110GUAxb2dIzNsZQO4MiXk7QxpAq6qqqqqqGkBnSMzbGRIbQCTm7QyJeRtA4YMPPvjgG0CeITFvZ0gcQFq/UqDWrxxAF1100UUXHUDU+pUCtX4dQJGYtzMk5h1ATTbZZJNNHkAK1PqVArUeQMdxHMdxHB9AhA8++OCDH0BArV8pUOsfQH+lQK1fKSBAXXTRRRddIEA7Q2LezpAgQBoS83aGxCBA+OCDDz74IEDXrxSo9SshQLV+pUCtXyFAk0022WSTIUByHMdxHMchQFDrVwrU+iFALrrooosuIkANiXk7Q2IiQOtXCtT6lSJAyiabbLLJIkCo9SsFav0iQIbEvJ0hMSNAZZNNNtlkI0BDYt7OkJgjQCIxb2dIzCNAAAAAAAAAJEA=\",\"dtype\":\"float64\",\"shape\":[100]},\"y\":{\"__ndarray__\":\"45Kv+3NE9T93DJmoo2jlv3YRIlgnQL2/YFW+YEsC5r/CiIlPOlblvxUeZsGQ4O2/nTIQkka68j+zCm4/cAvwP3s3nZu0L+q/4JX5tPkO8j/TiAMZwgX7PwjIeD7JAAhAFylopqdjAUDYHJKfnaz2P9/i/q/w2u0/Cn+uX0zsAkAgB79Ag44IQEGO45EDMwZA8dn3vmm9/z+SkZE/Q3kDQG42GVxR3eU/Qqp2Zvt4BUDfEdWDresMQIqb+7lIFAJAAJFbeQZeBECs3JEd49wNQEKC0VFo/gRAlBzIEZdrEUDEQ6UPU3YJQNrIN2sMvA9Ab2kRRy4oBUDJIC49hDUNQNQb0rn1rBNABqbUGRgPAEBipEIHDHQTQMBxKh7QIvc/YD1nyGYNDEAxkpQNwHkRQIPHmrfHAwpAh2N/AqPrEED+ORjK0DcVQNe5Hb/NuRFAqsppgVUtAkBcu51b4JYUQDj1+wdl5hVA6wk4TXqnEkCchREcmn8SQJqbRAhhLRNAwXJh2ALCCUCPu+1tgToSQP52hWKDARtAy3HmA/TZGEAdUz22FssXQJckS2KRqxNA5JQst4V8FEBVjb6EeaEYQE5TzR65DxdAXTVMK2gtF0DmdakbS0cVQBcqs8/I1RlARiA/ogVlFUB67DFTzrIXQD8DVZCeehxAoL/Z1dXsEUAgO9GYmYobQHqXQ5Nl/BVAnFzkl/ZbEEAEcCGHxysWQIQnr30F2RZAOau3EaCaH0DifCJFJBwgQBtqXXm2yyJAWhkkh7lqG0C3RSMy6ygcQKLzBCItTx1AX5mDai1GIkBbhgCaE7kgQCY69yidOh9ARhC/yPEaHEAAQkFkJOwjQERJQpBszRlAfgwktYHJH0AwC2u4zTwgQBk7WrSqFSJAm/e2DDS1HEAYKhv4GOEjQK6KF4jfHSFAHs6zZSZCH0DPMkmnjWMgQPv6pUrS4SFAnIDwOMkFIUBjWFTaRCAkQMCr3gItpSBAT9U1/nSiI0A9FhAyOvAmQIbheL8EziNAXu3WeHhkJUBFNyqlM1clQEPupX3gDyBAa5XdFiR2JkA=\",\"dtype\":\"float64\",\"shape\":[100]}},\"selected\":{\"id\":\"5181\",\"type\":\"Selection\"},\"selection_policy\":{\"id\":\"5180\",\"type\":\"UnionRenderers\"}},\"id\":\"5005\",\"type\":\"ColumnDataSource\"},{\"attributes\":{},\"id\":\"5179\",\"type\":\"BasicTickFormatter\"},{\"attributes\":{\"callback\":null,\"data\":{\"x\":{\"__ndarray__\":\"45Kv+3NE9T93DJmoo2jlv3YRIlgnQL2/YFW+YEsC5r/CiIlPOlblvxUeZsGQ4O2/nTIQkka68j+zCm4/cAvwP3s3nZu0L+q/4JX5tPkO8j/TiAMZwgX7PwjIeD7JAAhAFylopqdjAUDYHJKfnaz2P9/i/q/w2u0/Cn+uX0zsAkAgB79Ag44IQEGO45EDMwZA8dn3vmm9/z+SkZE/Q3kDQG42GVxR3eU/Qqp2Zvt4BUDfEdWDresMQIqb+7lIFAJAAJFbeQZeBECs3JEd49wNQEKC0VFo/gRAlBzIEZdrEUDEQ6UPU3YJQNrIN2sMvA9Ab2kRRy4oBUDJIC49hDUNQNQb0rn1rBNABqbUGRgPAEBipEIHDHQTQMBxKh7QIvc/YD1nyGYNDEAxkpQNwHkRQIPHmrfHAwpAh2N/AqPrEED+ORjK0DcVQNe5Hb/NuRFAqsppgVUtAkBcu51b4JYUQDj1+wdl5hVA6wk4TXqnEkCchREcmn8SQJqbRAhhLRNAwXJh2ALCCUCPu+1tgToSQP52hWKDARtAy3HmA/TZGEAdUz22FssXQJckS2KRqxNA5JQst4V8FEBVjb6EeaEYQE5TzR65DxdAXTVMK2gtF0DmdakbS0cVQBcqs8/I1RlARiA/ogVlFUB67DFTzrIXQD8DVZCeehxAoL/Z1dXsEUAgO9GYmYobQHqXQ5Nl/BVAnFzkl/ZbEEAEcCGHxysWQIQnr30F2RZAOau3EaCaH0DifCJFJBwgQBtqXXm2yyJAWhkkh7lqG0C3RSMy6ygcQKLzBCItTx1AX5mDai1GIkBbhgCaE7kgQCY69yidOh9ARhC/yPEaHEAAQkFkJOwjQERJQpBszRlAfgwktYHJH0AwC2u4zTwgQBk7WrSqFSJAm/e2DDS1HEAYKhv4GOEjQK6KF4jfHSFAHs6zZSZCH0DPMkmnjWMgQPv6pUrS4SFAnIDwOMkFIUBjWFTaRCAkQMCr3gItpSBAT9U1/nSiI0A9FhAyOvAmQIbheL8EziNAXu3WeHhkJUBFNyqlM1clQEPupX3gDyBAa5XdFiR2JkA=\",\"dtype\":\"float64\",\"shape\":[100]},\"y\":{\"__ndarray__\":\"AuAcEixzwL9e5Ung8A3qP+O1yo1wKABA9EGOiBq0BEAsCeBJLicHQNL6hDf8Zfs/rluisaYABUBsAwRdA48GQGm3Bxv0KwtAkCRlpc7zEUAiOoEDQ8MLQPTB6TTAQRJAPdaVG9I3GEBxSe0h/hcXQFFZlH9geRBAMEilMB5OGUCxCD7qG2McQMKLQhewwR5AAWp6FPswH0CADD/ykx8dQIBL9h8T6BpAEorbSXzXG0BUuPlJiYUcQAyjhBmjghtALWI07qNQGED0mNVFwVEZQLaoPcxZGhVAjuRPK8ToDUALdoJN5TUDQEBL9Yw2weo/+isIH14e+D9sg3nBTyfqP8f8BU7ccvo/5sUKP4rKAEDfXbpFuzoPQGjNBtSlyhJAWlTflpwoFkAWyyPyJTUUQMSvDWxtrgpAYfkQdNInEEBAXvW5AxgVQB8g7cJEuxNAGmc3VNfsEUBdltfPQ58QQMKIa0JfKgxABV0X/GgRE0CMoIzhMcYSQOjmMQ6FHRZAllt8wvLBF0CeXdpUM4oUQOh/NVAueBxArf6e5sr3G0CahDhZpSYZQKLIQ0wtLh9AuXLBR6MWIUACsygui48gQHNMHqqRcB1ASKFkSCbhF0BR33Cu5ksUQJ82AUZFVBZA6GcnHgITE0CzsQZTP30XQJKWV6wSHBZAxwub2YnRGUCXgrT45MgWQB0zwze2txdAcv19FI5xGEAd3cDI1TIYQGfn62cahxhAuUqWWhbqFkDrMpwIoKMWQOvNarPkaR5A/HrF/h64H0A9wwWpgdYiQFMEv/dM4SVA+rHqY5U1J0D2y2GYKd4pQNh28d2HCStAsYfWYddNK0DglFZKxgErQLaHzVXL4ClAuqe3eUNfKEBT5eXz43IsQG/JoS7DqyxAe5RG+3H+LEAGPqZ9fRYvQAdPv9m3jClAoNN7y4J0KkCx8mmnKDArQMJbRykAmitAKGsZsu+lKkAyvQ4PGQoqQLWTpJwKbCxAvQeyioV6L0C8dVfDhYgwQO4vZdvK0TBAMKCpQicHMUBBcmTtbeowQKfiXX1BxS9A40tUiyRMMEA=\",\"dtype\":\"float64\",\"shape\":[100]}},\"selected\":{\"id\":\"5454\",\"type\":\"Selection\"},\"selection_policy\":{\"id\":\"5453\",\"type\":\"UnionRenderers\"}},\"id\":\"5269\",\"type\":\"ColumnDataSource\"},{\"attributes\":{\"formatter\":{\"id\":\"5452\",\"type\":\"BasicTickFormatter\"},\"ticker\":{\"id\":\"5252\",\"type\":\"BasicTicker\"}},\"id\":\"5251\",\"type\":\"LinearAxis\"},{\"attributes\":{\"data_source\":{\"id\":\"5005\",\"type\":\"ColumnDataSource\"},\"glyph\":{\"id\":\"5006\",\"type\":\"Circle\"},\"hover_glyph\":null,\"muted_glyph\":null,\"nonselection_glyph\":{\"id\":\"5007\",\"type\":\"Circle\"},\"selection_glyph\":null,\"view\":{\"id\":\"5009\",\"type\":\"CDSView\"}},\"id\":\"5008\",\"type\":\"GlyphRenderer\"},{\"attributes\":{\"text\":\"\"},\"id\":\"5174\",\"type\":\"Title\"},{\"attributes\":{\"toolbar\":{\"id\":\"5857\",\"type\":\"ProxyToolbar\"},\"toolbar_location\":\"above\"},\"id\":\"5858\",\"type\":\"ToolbarBox\"},{\"attributes\":{\"below\":[{\"id\":\"5246\",\"type\":\"LinearAxis\"}],\"center\":[{\"id\":\"5250\",\"type\":\"Grid\"},{\"id\":\"5255\",\"type\":\"Grid\"}],\"left\":[{\"id\":\"5251\",\"type\":\"LinearAxis\"}],\"plot_height\":300,\"plot_width\":300,\"renderers\":[{\"id\":\"5272\",\"type\":\"GlyphRenderer\"}],\"title\":{\"id\":\"5447\",\"type\":\"Title\"},\"toolbar\":{\"id\":\"5262\",\"type\":\"Toolbar\"},\"toolbar_location\":null,\"x_range\":{\"id\":\"5238\",\"type\":\"DataRange1d\"},\"x_scale\":{\"id\":\"5242\",\"type\":\"LinearScale\"},\"y_range\":{\"id\":\"5240\",\"type\":\"DataRange1d\"},\"y_scale\":{\"id\":\"5244\",\"type\":\"LinearScale\"}},\"id\":\"5237\",\"subtype\":\"Figure\",\"type\":\"Plot\"},{\"attributes\":{\"callback\":null},\"id\":\"4976\",\"type\":\"DataRange1d\"},{\"attributes\":{\"below\":[{\"id\":\"5553\",\"type\":\"LinearAxis\"}],\"center\":[{\"id\":\"5557\",\"type\":\"Grid\"},{\"id\":\"5562\",\"type\":\"Grid\"}],\"left\":[{\"id\":\"5558\",\"type\":\"LinearAxis\"}],\"plot_height\":300,\"plot_width\":300,\"renderers\":[{\"id\":\"5579\",\"type\":\"GlyphRenderer\"}],\"title\":{\"id\":\"5763\",\"type\":\"Title\"},\"toolbar\":{\"id\":\"5569\",\"type\":\"Toolbar\"},\"toolbar_location\":null,\"x_range\":{\"id\":\"5545\",\"type\":\"DataRange1d\"},\"x_scale\":{\"id\":\"5549\",\"type\":\"LinearScale\"},\"y_range\":{\"id\":\"5547\",\"type\":\"DataRange1d\"},\"y_scale\":{\"id\":\"5551\",\"type\":\"LinearScale\"}},\"id\":\"5544\",\"subtype\":\"Figure\",\"type\":\"Plot\"},{\"attributes\":{},\"id\":\"5549\",\"type\":\"LinearScale\"},{\"attributes\":{\"callback\":null,\"data\":{\"x\":{\"__ndarray__\":\"AAAAAAAAAAAxb2dIzNu5PzFvZ0jM28k/ZZNNNtlk0z8xb2dIzNvZP3+lQK1fKeA/ZZNNNtlk4z9LgVq/UqDmPzFvZ0jM2+k/F1100UUX7T9/pUCtXynwP3Icx3Ecx/E/ZZNNNtlk8z9YCtT6lQL1P0uBWr9SoPY/Pvjggw8++D8xb2dIzNv5PyTm7QyJefs/F1100UUX/T8K1PqVArX+P3+lQK1fKQBA+OCDDz74AEByHMdxHMcBQOtXCtT6lQJAZZNNNtlkA0DezpCYtzMEQFgK1PqVAgVA0UUXXXTRBUBLgVq/UqAGQMS8nSExbwdAPvjggw8+CEC3MyTm7QwJQDFvZ0jM2wlAq6qqqqqqCkAk5u0MiXkLQJ4hMW9nSAxAF1100UUXDUCRmLczJOYNQArU+pUCtQ5AhA8++OCDD0B/pUCtXykQQDtDYt7OkBBA+OCDDz74EEC1fqVArV8RQHIcx3EcxxFALrrooosuEkDrVwrU+pUSQKj1KwVq/RJAZZNNNtlkE0AiMW9nSMwTQN7OkJi3MxRAm2yyySabFEBYCtT6lQIVQBWo9SsFahVA0UUXXXTRFUCO4ziO4zgWQEuBWr9SoBZACB988MEHF0DEvJ0hMW8XQIFav1Kg1hdAPvjggw8+GED7lQK1fqUYQLczJObtDBlAdNFFF110GUAxb2dIzNsZQO4MiXk7QxpAq6qqqqqqGkBnSMzbGRIbQCTm7QyJeRtA4YMPPvjgG0CeITFvZ0gcQFq/UqDWrxxAF1100UUXHUDU+pUCtX4dQJGYtzMk5h1ATTbZZJNNHkAK1PqVArUeQMdxHMdxHB9AhA8++OCDH0BArV8pUOsfQH+lQK1fKSBAXXTRRRddIEA7Q2LezpAgQBoS83aGxCBA+OCDDz74IEDXrxSo9SshQLV+pUCtXyFAk0022WSTIUByHMdxHMchQFDrVwrU+iFALrrooosuIkANiXk7Q2IiQOtXCtT6lSJAyiabbLLJIkCo9SsFav0iQIbEvJ0hMSNAZZNNNtlkI0BDYt7OkJgjQCIxb2dIzCNAAAAAAAAAJEA=\",\"dtype\":\"float64\",\"shape\":[100]},\"y\":{\"__ndarray__\":\"AuAcEixzwL9e5Ung8A3qP+O1yo1wKABA9EGOiBq0BEAsCeBJLicHQNL6hDf8Zfs/rluisaYABUBsAwRdA48GQGm3Bxv0KwtAkCRlpc7zEUAiOoEDQ8MLQPTB6TTAQRJAPdaVG9I3GEBxSe0h/hcXQFFZlH9geRBAMEilMB5OGUCxCD7qG2McQMKLQhewwR5AAWp6FPswH0CADD/ykx8dQIBL9h8T6BpAEorbSXzXG0BUuPlJiYUcQAyjhBmjghtALWI07qNQGED0mNVFwVEZQLaoPcxZGhVAjuRPK8ToDUALdoJN5TUDQEBL9Yw2weo/+isIH14e+D9sg3nBTyfqP8f8BU7ccvo/5sUKP4rKAEDfXbpFuzoPQGjNBtSlyhJAWlTflpwoFkAWyyPyJTUUQMSvDWxtrgpAYfkQdNInEEBAXvW5AxgVQB8g7cJEuxNAGmc3VNfsEUBdltfPQ58QQMKIa0JfKgxABV0X/GgRE0CMoIzhMcYSQOjmMQ6FHRZAllt8wvLBF0CeXdpUM4oUQOh/NVAueBxArf6e5sr3G0CahDhZpSYZQKLIQ0wtLh9AuXLBR6MWIUACsygui48gQHNMHqqRcB1ASKFkSCbhF0BR33Cu5ksUQJ82AUZFVBZA6GcnHgITE0CzsQZTP30XQJKWV6wSHBZAxwub2YnRGUCXgrT45MgWQB0zwze2txdAcv19FI5xGEAd3cDI1TIYQGfn62cahxhAuUqWWhbqFkDrMpwIoKMWQOvNarPkaR5A/HrF/h64H0A9wwWpgdYiQFMEv/dM4SVA+rHqY5U1J0D2y2GYKd4pQNh28d2HCStAsYfWYddNK0DglFZKxgErQLaHzVXL4ClAuqe3eUNfKEBT5eXz43IsQG/JoS7DqyxAe5RG+3H+LEAGPqZ9fRYvQAdPv9m3jClAoNN7y4J0KkCx8mmnKDArQMJbRykAmitAKGsZsu+lKkAyvQ4PGQoqQLWTpJwKbCxAvQeyioV6L0C8dVfDhYgwQO4vZdvK0TBAMKCpQicHMUBBcmTtbeowQKfiXX1BxS9A40tUiyRMMEA=\",\"dtype\":\"float64\",\"shape\":[100]}},\"selected\":{\"id\":\"5770\",\"type\":\"Selection\"},\"selection_policy\":{\"id\":\"5769\",\"type\":\"UnionRenderers\"}},\"id\":\"5576\",\"type\":\"ColumnDataSource\"},{\"attributes\":{},\"id\":\"4995\",\"type\":\"SaveTool\"},{\"attributes\":{},\"id\":\"4978\",\"type\":\"LinearScale\"},{\"attributes\":{\"formatter\":{\"id\":\"5768\",\"type\":\"BasicTickFormatter\"},\"ticker\":{\"id\":\"5559\",\"type\":\"BasicTicker\"}},\"id\":\"5558\",\"type\":\"LinearAxis\"},{\"attributes\":{\"below\":[{\"id\":\"4982\",\"type\":\"LinearAxis\"}],\"center\":[{\"id\":\"4986\",\"type\":\"Grid\"},{\"id\":\"4991\",\"type\":\"Grid\"}],\"left\":[{\"id\":\"4987\",\"type\":\"LinearAxis\"}],\"plot_height\":300,\"plot_width\":300,\"renderers\":[{\"id\":\"5008\",\"type\":\"GlyphRenderer\"}],\"title\":{\"id\":\"5174\",\"type\":\"Title\"},\"toolbar\":{\"id\":\"4998\",\"type\":\"Toolbar\"},\"toolbar_location\":null,\"x_range\":{\"id\":\"4974\",\"type\":\"DataRange1d\"},\"x_scale\":{\"id\":\"4978\",\"type\":\"LinearScale\"},\"y_range\":{\"id\":\"4976\",\"type\":\"DataRange1d\"},\"y_scale\":{\"id\":\"4980\",\"type\":\"LinearScale\"}},\"id\":\"4973\",\"subtype\":\"Figure\",\"type\":\"Plot\"},{\"attributes\":{\"ticker\":{\"id\":\"5554\",\"type\":\"BasicTicker\"}},\"id\":\"5557\",\"type\":\"Grid\"},{\"attributes\":{},\"id\":\"4983\",\"type\":\"BasicTicker\"},{\"attributes\":{\"formatter\":{\"id\":\"5766\",\"type\":\"BasicTickFormatter\"},\"ticker\":{\"id\":\"5554\",\"type\":\"BasicTicker\"}},\"id\":\"5553\",\"type\":\"LinearAxis\"},{\"attributes\":{},\"id\":\"5768\",\"type\":\"BasicTickFormatter\"},{\"attributes\":{},\"id\":\"5252\",\"type\":\"BasicTicker\"},{\"attributes\":{},\"id\":\"4988\",\"type\":\"BasicTicker\"},{\"attributes\":{},\"id\":\"5551\",\"type\":\"LinearScale\"},{\"attributes\":{\"source\":{\"id\":\"5576\",\"type\":\"ColumnDataSource\"}},\"id\":\"5580\",\"type\":\"CDSView\"},{\"attributes\":{\"dimension\":1,\"ticker\":{\"id\":\"5559\",\"type\":\"BasicTicker\"}},\"id\":\"5562\",\"type\":\"Grid\"},{\"attributes\":{\"callback\":null},\"id\":\"5547\",\"type\":\"DataRange1d\"},{\"attributes\":{\"text\":\"\"},\"id\":\"5447\",\"type\":\"Title\"},{\"attributes\":{\"ticker\":{\"id\":\"5247\",\"type\":\"BasicTicker\"}},\"id\":\"5250\",\"type\":\"Grid\"},{\"attributes\":{},\"id\":\"5563\",\"type\":\"PanTool\"},{\"attributes\":{},\"id\":\"4980\",\"type\":\"LinearScale\"},{\"attributes\":{\"line_color\":\"hotpink\",\"line_width\":2,\"x\":{\"field\":\"x\"},\"y\":{\"field\":\"y\"}},\"id\":\"5577\",\"type\":\"Line\"},{\"attributes\":{},\"id\":\"5180\",\"type\":\"UnionRenderers\"},{\"attributes\":{\"children\":[[{\"id\":\"4973\",\"subtype\":\"Figure\",\"type\":\"Plot\"},0,0],[{\"id\":\"5237\",\"subtype\":\"Figure\",\"type\":\"Plot\"},0,1],[{\"id\":\"5544\",\"subtype\":\"Figure\",\"type\":\"Plot\"},1,0]]},\"id\":\"5856\",\"type\":\"GridBox\"},{\"attributes\":{\"dimension\":1,\"ticker\":{\"id\":\"4988\",\"type\":\"BasicTicker\"}},\"id\":\"4991\",\"type\":\"Grid\"},{\"attributes\":{},\"id\":\"5242\",\"type\":\"LinearScale\"},{\"attributes\":{\"active_drag\":\"auto\",\"active_inspect\":\"auto\",\"active_multi\":null,\"active_scroll\":\"auto\",\"active_tap\":\"auto\",\"tools\":[{\"id\":\"4992\",\"type\":\"PanTool\"},{\"id\":\"4993\",\"type\":\"WheelZoomTool\"},{\"id\":\"4994\",\"type\":\"BoxZoomTool\"},{\"id\":\"4995\",\"type\":\"SaveTool\"},{\"id\":\"4996\",\"type\":\"ResetTool\"},{\"id\":\"4997\",\"type\":\"HelpTool\"}]},\"id\":\"4998\",\"type\":\"Toolbar\"},{\"attributes\":{},\"id\":\"5564\",\"type\":\"WheelZoomTool\"},{\"attributes\":{},\"id\":\"5559\",\"type\":\"BasicTicker\"},{\"attributes\":{},\"id\":\"4997\",\"type\":\"HelpTool\"},{\"attributes\":{},\"id\":\"4992\",\"type\":\"PanTool\"},{\"attributes\":{},\"id\":\"5567\",\"type\":\"ResetTool\"},{\"attributes\":{\"formatter\":{\"id\":\"5177\",\"type\":\"BasicTickFormatter\"},\"ticker\":{\"id\":\"4983\",\"type\":\"BasicTicker\"}},\"id\":\"4982\",\"type\":\"LinearAxis\"},{\"attributes\":{\"source\":{\"id\":\"5005\",\"type\":\"ColumnDataSource\"}},\"id\":\"5009\",\"type\":\"CDSView\"},{\"attributes\":{\"formatter\":{\"id\":\"5179\",\"type\":\"BasicTickFormatter\"},\"ticker\":{\"id\":\"4988\",\"type\":\"BasicTicker\"}},\"id\":\"4987\",\"type\":\"LinearAxis\"},{\"attributes\":{},\"id\":\"5566\",\"type\":\"SaveTool\"},{\"attributes\":{},\"id\":\"5452\",\"type\":\"BasicTickFormatter\"},{\"attributes\":{},\"id\":\"5554\",\"type\":\"BasicTicker\"},{\"attributes\":{},\"id\":\"4996\",\"type\":\"ResetTool\"},{\"attributes\":{\"active_drag\":\"auto\",\"active_inspect\":\"auto\",\"active_multi\":null,\"active_scroll\":\"auto\",\"active_tap\":\"auto\",\"tools\":[{\"id\":\"5563\",\"type\":\"PanTool\"},{\"id\":\"5564\",\"type\":\"WheelZoomTool\"},{\"id\":\"5565\",\"type\":\"BoxZoomTool\"},{\"id\":\"5566\",\"type\":\"SaveTool\"},{\"id\":\"5567\",\"type\":\"ResetTool\"},{\"id\":\"5568\",\"type\":\"HelpTool\"}]},\"id\":\"5569\",\"type\":\"Toolbar\"},{\"attributes\":{\"fill_color\":{\"value\":\"maroon\"},\"line_color\":{\"value\":\"maroon\"},\"x\":{\"field\":\"x\"},\"y\":{\"field\":\"y\"}},\"id\":\"5006\",\"type\":\"Circle\"},{\"attributes\":{\"overlay\":{\"id\":\"5771\",\"type\":\"BoxAnnotation\"}},\"id\":\"5565\",\"type\":\"BoxZoomTool\"},{\"attributes\":{\"data_source\":{\"id\":\"5576\",\"type\":\"ColumnDataSource\"},\"glyph\":{\"id\":\"5577\",\"type\":\"Line\"},\"hover_glyph\":null,\"muted_glyph\":null,\"nonselection_glyph\":{\"id\":\"5578\",\"type\":\"Line\"},\"selection_glyph\":null,\"view\":{\"id\":\"5580\",\"type\":\"CDSView\"}},\"id\":\"5579\",\"type\":\"GlyphRenderer\"},{\"attributes\":{\"bottom_units\":\"screen\",\"fill_alpha\":{\"value\":0.5},\"fill_color\":{\"value\":\"lightgrey\"},\"left_units\":\"screen\",\"level\":\"overlay\",\"line_alpha\":{\"value\":1.0},\"line_color\":{\"value\":\"black\"},\"line_dash\":[4,4],\"line_width\":{\"value\":2},\"render_mode\":\"css\",\"right_units\":\"screen\",\"top_units\":\"screen\"},\"id\":\"5182\",\"type\":\"BoxAnnotation\"},{\"attributes\":{\"text\":\"\"},\"id\":\"5763\",\"type\":\"Title\"},{\"attributes\":{},\"id\":\"5568\",\"type\":\"HelpTool\"},{\"attributes\":{\"ticker\":{\"id\":\"4983\",\"type\":\"BasicTicker\"}},\"id\":\"4986\",\"type\":\"Grid\"},{\"attributes\":{},\"id\":\"5181\",\"type\":\"Selection\"},{\"attributes\":{},\"id\":\"5450\",\"type\":\"BasicTickFormatter\"}],\"root_ids\":[\"5859\"]},\"title\":\"Bokeh Application\",\"version\":\"1.4.0\"}};\n",
       "  var render_items = [{\"docid\":\"de15a7f9-80b4-4028-bdcb-fb0f07607a00\",\"roots\":{\"5859\":\"c9e05e50-bddf-483b-8030-4d1b7f7b903d\"}}];\n",
       "  root.Bokeh.embed.embed_items_notebook(docs_json, render_items);\n",
       "\n",
       "  }\n",
       "  if (root.Bokeh !== undefined) {\n",
       "    embed_document(root);\n",
       "  } else {\n",
       "    var attempts = 0;\n",
       "    var timer = setInterval(function(root) {\n",
       "      if (root.Bokeh !== undefined) {\n",
       "        clearInterval(timer);\n",
       "        embed_document(root);\n",
       "      } else {\n",
       "        attempts++;\n",
       "        if (attempts > 100) {\n",
       "          clearInterval(timer);\n",
       "          console.log(\"Bokeh: ERROR: Unable to run BokehJS code because BokehJS library is missing\");\n",
       "        }\n",
       "      }\n",
       "    }, 10, root)\n",
       "  }\n",
       "})(window);"
      ],
      "application/vnd.bokehjs_exec.v0+json": ""
     },
     "metadata": {
      "application/vnd.bokehjs_exec.v0+json": {
       "id": "5859"
      }
     },
     "output_type": "display_data"
    }
   ],
   "source": [
    "p = gridplot([[p1,p2],[p3,None]])\n",
    "show(p)"
   ]
  },
  {
   "cell_type": "markdown",
   "metadata": {},
   "source": [
    "Now we have three plots at the same time and we can use the toolbar for each plot to zoom in and out or move around. Since, these plots are sharing data maybe we need all of them to move at the same time. In other words, if we move to higher values of `y` in the first plot, the second plot should show the same range of `y`. We can do this by linking the plots."
   ]
  },
  {
   "cell_type": "code",
   "execution_count": 52,
   "metadata": {},
   "outputs": [
    {
     "data": {
      "text/html": [
       "\n",
       "\n",
       "\n",
       "\n",
       "\n",
       "\n",
       "  <div class=\"bk-root\" id=\"9d7a686e-61bb-4045-a8e6-5b1c4596a14c\" data-root-id=\"6486\"></div>\n"
      ]
     },
     "metadata": {},
     "output_type": "display_data"
    },
    {
     "data": {
      "application/javascript": [
       "(function(root) {\n",
       "  function embed_document(root) {\n",
       "    \n",
       "  var docs_json = {\"21320d9a-38ca-4fb0-b4dd-5a03a9d3f928\":{\"roots\":{\"references\":[{\"attributes\":{\"children\":[{\"id\":\"6485\",\"type\":\"ToolbarBox\"},{\"id\":\"6483\",\"type\":\"GridBox\"}]},\"id\":\"6486\",\"type\":\"Column\"},{\"attributes\":{\"source\":{\"id\":\"6377\",\"type\":\"ColumnDataSource\"}},\"id\":\"6381\",\"type\":\"CDSView\"},{\"attributes\":{},\"id\":\"6476\",\"type\":\"BasicTickFormatter\"},{\"attributes\":{\"data_source\":{\"id\":\"6448\",\"type\":\"ColumnDataSource\"},\"glyph\":{\"id\":\"6449\",\"type\":\"Line\"},\"hover_glyph\":null,\"muted_glyph\":null,\"nonselection_glyph\":{\"id\":\"6450\",\"type\":\"Line\"},\"selection_glyph\":null,\"view\":{\"id\":\"6452\",\"type\":\"CDSView\"}},\"id\":\"6451\",\"type\":\"GlyphRenderer\"},{\"attributes\":{\"active_drag\":\"auto\",\"active_inspect\":\"auto\",\"active_multi\":null,\"active_scroll\":\"auto\",\"active_tap\":\"auto\",\"tools\":[{\"id\":\"6364\",\"type\":\"PanTool\"},{\"id\":\"6365\",\"type\":\"WheelZoomTool\"},{\"id\":\"6366\",\"type\":\"BoxZoomTool\"},{\"id\":\"6367\",\"type\":\"SaveTool\"},{\"id\":\"6368\",\"type\":\"ResetTool\"},{\"id\":\"6369\",\"type\":\"HelpTool\"}]},\"id\":\"6370\",\"type\":\"Toolbar\"},{\"attributes\":{\"fill_color\":{\"value\":\"seagreen\"},\"line_color\":{\"value\":\"seagreen\"},\"x\":{\"field\":\"x\"},\"y\":{\"field\":\"y\"}},\"id\":\"6414\",\"type\":\"Circle\"},{\"attributes\":{},\"id\":\"6479\",\"type\":\"UnionRenderers\"},{\"attributes\":{\"callback\":null},\"id\":\"6384\",\"type\":\"DataRange1d\"},{\"attributes\":{},\"id\":\"6421\",\"type\":\"LinearScale\"},{\"attributes\":{},\"id\":\"6480\",\"type\":\"Selection\"},{\"attributes\":{},\"id\":\"6364\",\"type\":\"PanTool\"},{\"attributes\":{},\"id\":\"6423\",\"type\":\"LinearScale\"},{\"attributes\":{\"bottom_units\":\"screen\",\"fill_alpha\":{\"value\":0.5},\"fill_color\":{\"value\":\"lightgrey\"},\"left_units\":\"screen\",\"level\":\"overlay\",\"line_alpha\":{\"value\":1.0},\"line_color\":{\"value\":\"black\"},\"line_dash\":[4,4],\"line_width\":{\"value\":2},\"render_mode\":\"css\",\"right_units\":\"screen\",\"top_units\":\"screen\"},\"id\":\"6481\",\"type\":\"BoxAnnotation\"},{\"attributes\":{},\"id\":\"6365\",\"type\":\"WheelZoomTool\"},{\"attributes\":{\"formatter\":{\"id\":\"6476\",\"type\":\"BasicTickFormatter\"},\"ticker\":{\"id\":\"6426\",\"type\":\"BasicTicker\"}},\"id\":\"6425\",\"type\":\"LinearAxis\"},{\"attributes\":{\"children\":[[{\"id\":\"6345\",\"subtype\":\"Figure\",\"type\":\"Plot\"},0,0],[{\"id\":\"6382\",\"subtype\":\"Figure\",\"type\":\"Plot\"},0,1],[{\"id\":\"6418\",\"subtype\":\"Figure\",\"type\":\"Plot\"},1,0]]},\"id\":\"6483\",\"type\":\"GridBox\"},{\"attributes\":{\"callback\":null},\"id\":\"6348\",\"type\":\"DataRange1d\"},{\"attributes\":{\"below\":[{\"id\":\"6354\",\"type\":\"LinearAxis\"}],\"center\":[{\"id\":\"6358\",\"type\":\"Grid\"},{\"id\":\"6363\",\"type\":\"Grid\"}],\"left\":[{\"id\":\"6359\",\"type\":\"LinearAxis\"}],\"plot_height\":300,\"plot_width\":300,\"renderers\":[{\"id\":\"6380\",\"type\":\"GlyphRenderer\"}],\"title\":{\"id\":\"6453\",\"type\":\"Title\"},\"toolbar\":{\"id\":\"6370\",\"type\":\"Toolbar\"},\"toolbar_location\":null,\"x_range\":{\"id\":\"6346\",\"type\":\"DataRange1d\"},\"x_scale\":{\"id\":\"6350\",\"type\":\"LinearScale\"},\"y_range\":{\"id\":\"6348\",\"type\":\"DataRange1d\"},\"y_scale\":{\"id\":\"6352\",\"type\":\"LinearScale\"}},\"id\":\"6345\",\"subtype\":\"Figure\",\"type\":\"Plot\"},{\"attributes\":{\"overlay\":{\"id\":\"6461\",\"type\":\"BoxAnnotation\"}},\"id\":\"6366\",\"type\":\"BoxZoomTool\"},{\"attributes\":{},\"id\":\"6367\",\"type\":\"SaveTool\"},{\"attributes\":{},\"id\":\"6431\",\"type\":\"BasicTicker\"},{\"attributes\":{},\"id\":\"6368\",\"type\":\"ResetTool\"},{\"attributes\":{},\"id\":\"6426\",\"type\":\"BasicTicker\"},{\"attributes\":{\"ticker\":{\"id\":\"6426\",\"type\":\"BasicTicker\"}},\"id\":\"6429\",\"type\":\"Grid\"},{\"attributes\":{},\"id\":\"6369\",\"type\":\"HelpTool\"},{\"attributes\":{\"overlay\":{\"id\":\"6481\",\"type\":\"BoxAnnotation\"}},\"id\":\"6437\",\"type\":\"BoxZoomTool\"},{\"attributes\":{\"formatter\":{\"id\":\"6478\",\"type\":\"BasicTickFormatter\"},\"ticker\":{\"id\":\"6431\",\"type\":\"BasicTicker\"}},\"id\":\"6430\",\"type\":\"LinearAxis\"},{\"attributes\":{\"fill_alpha\":{\"value\":0.1},\"fill_color\":{\"value\":\"#1f77b4\"},\"line_alpha\":{\"value\":0.1},\"line_color\":{\"value\":\"#1f77b4\"},\"x\":{\"field\":\"x\"},\"y\":{\"field\":\"y\"}},\"id\":\"6379\",\"type\":\"Circle\"},{\"attributes\":{},\"id\":\"6438\",\"type\":\"SaveTool\"},{\"attributes\":{},\"id\":\"6439\",\"type\":\"ResetTool\"},{\"attributes\":{},\"id\":\"6386\",\"type\":\"LinearScale\"},{\"attributes\":{\"formatter\":{\"id\":\"6456\",\"type\":\"BasicTickFormatter\"},\"ticker\":{\"id\":\"6355\",\"type\":\"BasicTicker\"}},\"id\":\"6354\",\"type\":\"LinearAxis\"},{\"attributes\":{\"callback\":null,\"data\":{\"x\":{\"__ndarray__\":\"45Kv+3NE9T93DJmoo2jlv3YRIlgnQL2/YFW+YEsC5r/CiIlPOlblvxUeZsGQ4O2/nTIQkka68j+zCm4/cAvwP3s3nZu0L+q/4JX5tPkO8j/TiAMZwgX7PwjIeD7JAAhAFylopqdjAUDYHJKfnaz2P9/i/q/w2u0/Cn+uX0zsAkAgB79Ag44IQEGO45EDMwZA8dn3vmm9/z+SkZE/Q3kDQG42GVxR3eU/Qqp2Zvt4BUDfEdWDresMQIqb+7lIFAJAAJFbeQZeBECs3JEd49wNQEKC0VFo/gRAlBzIEZdrEUDEQ6UPU3YJQNrIN2sMvA9Ab2kRRy4oBUDJIC49hDUNQNQb0rn1rBNABqbUGRgPAEBipEIHDHQTQMBxKh7QIvc/YD1nyGYNDEAxkpQNwHkRQIPHmrfHAwpAh2N/AqPrEED+ORjK0DcVQNe5Hb/NuRFAqsppgVUtAkBcu51b4JYUQDj1+wdl5hVA6wk4TXqnEkCchREcmn8SQJqbRAhhLRNAwXJh2ALCCUCPu+1tgToSQP52hWKDARtAy3HmA/TZGEAdUz22FssXQJckS2KRqxNA5JQst4V8FEBVjb6EeaEYQE5TzR65DxdAXTVMK2gtF0DmdakbS0cVQBcqs8/I1RlARiA/ogVlFUB67DFTzrIXQD8DVZCeehxAoL/Z1dXsEUAgO9GYmYobQHqXQ5Nl/BVAnFzkl/ZbEEAEcCGHxysWQIQnr30F2RZAOau3EaCaH0DifCJFJBwgQBtqXXm2yyJAWhkkh7lqG0C3RSMy6ygcQKLzBCItTx1AX5mDai1GIkBbhgCaE7kgQCY69yidOh9ARhC/yPEaHEAAQkFkJOwjQERJQpBszRlAfgwktYHJH0AwC2u4zTwgQBk7WrSqFSJAm/e2DDS1HEAYKhv4GOEjQK6KF4jfHSFAHs6zZSZCH0DPMkmnjWMgQPv6pUrS4SFAnIDwOMkFIUBjWFTaRCAkQMCr3gItpSBAT9U1/nSiI0A9FhAyOvAmQIbheL8EziNAXu3WeHhkJUBFNyqlM1clQEPupX3gDyBAa5XdFiR2JkA=\",\"dtype\":\"float64\",\"shape\":[100]},\"y\":{\"__ndarray__\":\"AuAcEixzwL9e5Ung8A3qP+O1yo1wKABA9EGOiBq0BEAsCeBJLicHQNL6hDf8Zfs/rluisaYABUBsAwRdA48GQGm3Bxv0KwtAkCRlpc7zEUAiOoEDQ8MLQPTB6TTAQRJAPdaVG9I3GEBxSe0h/hcXQFFZlH9geRBAMEilMB5OGUCxCD7qG2McQMKLQhewwR5AAWp6FPswH0CADD/ykx8dQIBL9h8T6BpAEorbSXzXG0BUuPlJiYUcQAyjhBmjghtALWI07qNQGED0mNVFwVEZQLaoPcxZGhVAjuRPK8ToDUALdoJN5TUDQEBL9Yw2weo/+isIH14e+D9sg3nBTyfqP8f8BU7ccvo/5sUKP4rKAEDfXbpFuzoPQGjNBtSlyhJAWlTflpwoFkAWyyPyJTUUQMSvDWxtrgpAYfkQdNInEEBAXvW5AxgVQB8g7cJEuxNAGmc3VNfsEUBdltfPQ58QQMKIa0JfKgxABV0X/GgRE0CMoIzhMcYSQOjmMQ6FHRZAllt8wvLBF0CeXdpUM4oUQOh/NVAueBxArf6e5sr3G0CahDhZpSYZQKLIQ0wtLh9AuXLBR6MWIUACsygui48gQHNMHqqRcB1ASKFkSCbhF0BR33Cu5ksUQJ82AUZFVBZA6GcnHgITE0CzsQZTP30XQJKWV6wSHBZAxwub2YnRGUCXgrT45MgWQB0zwze2txdAcv19FI5xGEAd3cDI1TIYQGfn62cahxhAuUqWWhbqFkDrMpwIoKMWQOvNarPkaR5A/HrF/h64H0A9wwWpgdYiQFMEv/dM4SVA+rHqY5U1J0D2y2GYKd4pQNh28d2HCStAsYfWYddNK0DglFZKxgErQLaHzVXL4ClAuqe3eUNfKEBT5eXz43IsQG/JoS7DqyxAe5RG+3H+LEAGPqZ9fRYvQAdPv9m3jClAoNN7y4J0KkCx8mmnKDArQMJbRykAmitAKGsZsu+lKkAyvQ4PGQoqQLWTpJwKbCxAvQeyioV6L0C8dVfDhYgwQO4vZdvK0TBAMKCpQicHMUBBcmTtbeowQKfiXX1BxS9A40tUiyRMMEA=\",\"dtype\":\"float64\",\"shape\":[100]}},\"selected\":{\"id\":\"6470\",\"type\":\"Selection\"},\"selection_policy\":{\"id\":\"6469\",\"type\":\"UnionRenderers\"}},\"id\":\"6413\",\"type\":\"ColumnDataSource\"},{\"attributes\":{},\"id\":\"6350\",\"type\":\"LinearScale\"},{\"attributes\":{},\"id\":\"6440\",\"type\":\"HelpTool\"},{\"attributes\":{\"callback\":null,\"data\":{\"x\":{\"__ndarray__\":\"AAAAAAAAAAAxb2dIzNu5PzFvZ0jM28k/ZZNNNtlk0z8xb2dIzNvZP3+lQK1fKeA/ZZNNNtlk4z9LgVq/UqDmPzFvZ0jM2+k/F1100UUX7T9/pUCtXynwP3Icx3Ecx/E/ZZNNNtlk8z9YCtT6lQL1P0uBWr9SoPY/Pvjggw8++D8xb2dIzNv5PyTm7QyJefs/F1100UUX/T8K1PqVArX+P3+lQK1fKQBA+OCDDz74AEByHMdxHMcBQOtXCtT6lQJAZZNNNtlkA0DezpCYtzMEQFgK1PqVAgVA0UUXXXTRBUBLgVq/UqAGQMS8nSExbwdAPvjggw8+CEC3MyTm7QwJQDFvZ0jM2wlAq6qqqqqqCkAk5u0MiXkLQJ4hMW9nSAxAF1100UUXDUCRmLczJOYNQArU+pUCtQ5AhA8++OCDD0B/pUCtXykQQDtDYt7OkBBA+OCDDz74EEC1fqVArV8RQHIcx3EcxxFALrrooosuEkDrVwrU+pUSQKj1KwVq/RJAZZNNNtlkE0AiMW9nSMwTQN7OkJi3MxRAm2yyySabFEBYCtT6lQIVQBWo9SsFahVA0UUXXXTRFUCO4ziO4zgWQEuBWr9SoBZACB988MEHF0DEvJ0hMW8XQIFav1Kg1hdAPvjggw8+GED7lQK1fqUYQLczJObtDBlAdNFFF110GUAxb2dIzNsZQO4MiXk7QxpAq6qqqqqqGkBnSMzbGRIbQCTm7QyJeRtA4YMPPvjgG0CeITFvZ0gcQFq/UqDWrxxAF1100UUXHUDU+pUCtX4dQJGYtzMk5h1ATTbZZJNNHkAK1PqVArUeQMdxHMdxHB9AhA8++OCDH0BArV8pUOsfQH+lQK1fKSBAXXTRRRddIEA7Q2LezpAgQBoS83aGxCBA+OCDDz74IEDXrxSo9SshQLV+pUCtXyFAk0022WSTIUByHMdxHMchQFDrVwrU+iFALrrooosuIkANiXk7Q2IiQOtXCtT6lSJAyiabbLLJIkCo9SsFav0iQIbEvJ0hMSNAZZNNNtlkI0BDYt7OkJgjQCIxb2dIzCNAAAAAAAAAJEA=\",\"dtype\":\"float64\",\"shape\":[100]},\"y\":{\"__ndarray__\":\"45Kv+3NE9T93DJmoo2jlv3YRIlgnQL2/YFW+YEsC5r/CiIlPOlblvxUeZsGQ4O2/nTIQkka68j+zCm4/cAvwP3s3nZu0L+q/4JX5tPkO8j/TiAMZwgX7PwjIeD7JAAhAFylopqdjAUDYHJKfnaz2P9/i/q/w2u0/Cn+uX0zsAkAgB79Ag44IQEGO45EDMwZA8dn3vmm9/z+SkZE/Q3kDQG42GVxR3eU/Qqp2Zvt4BUDfEdWDresMQIqb+7lIFAJAAJFbeQZeBECs3JEd49wNQEKC0VFo/gRAlBzIEZdrEUDEQ6UPU3YJQNrIN2sMvA9Ab2kRRy4oBUDJIC49hDUNQNQb0rn1rBNABqbUGRgPAEBipEIHDHQTQMBxKh7QIvc/YD1nyGYNDEAxkpQNwHkRQIPHmrfHAwpAh2N/AqPrEED+ORjK0DcVQNe5Hb/NuRFAqsppgVUtAkBcu51b4JYUQDj1+wdl5hVA6wk4TXqnEkCchREcmn8SQJqbRAhhLRNAwXJh2ALCCUCPu+1tgToSQP52hWKDARtAy3HmA/TZGEAdUz22FssXQJckS2KRqxNA5JQst4V8FEBVjb6EeaEYQE5TzR65DxdAXTVMK2gtF0DmdakbS0cVQBcqs8/I1RlARiA/ogVlFUB67DFTzrIXQD8DVZCeehxAoL/Z1dXsEUAgO9GYmYobQHqXQ5Nl/BVAnFzkl/ZbEEAEcCGHxysWQIQnr30F2RZAOau3EaCaH0DifCJFJBwgQBtqXXm2yyJAWhkkh7lqG0C3RSMy6ygcQKLzBCItTx1AX5mDai1GIkBbhgCaE7kgQCY69yidOh9ARhC/yPEaHEAAQkFkJOwjQERJQpBszRlAfgwktYHJH0AwC2u4zTwgQBk7WrSqFSJAm/e2DDS1HEAYKhv4GOEjQK6KF4jfHSFAHs6zZSZCH0DPMkmnjWMgQPv6pUrS4SFAnIDwOMkFIUBjWFTaRCAkQMCr3gItpSBAT9U1/nSiI0A9FhAyOvAmQIbheL8EziNAXu3WeHhkJUBFNyqlM1clQEPupX3gDyBAa5XdFiR2JkA=\",\"dtype\":\"float64\",\"shape\":[100]}},\"selected\":{\"id\":\"6460\",\"type\":\"Selection\"},\"selection_policy\":{\"id\":\"6459\",\"type\":\"UnionRenderers\"}},\"id\":\"6377\",\"type\":\"ColumnDataSource\"},{\"attributes\":{\"active_drag\":\"auto\",\"active_inspect\":\"auto\",\"active_multi\":null,\"active_scroll\":\"auto\",\"active_tap\":\"auto\",\"tools\":[{\"id\":\"6435\",\"type\":\"PanTool\"},{\"id\":\"6436\",\"type\":\"WheelZoomTool\"},{\"id\":\"6437\",\"type\":\"BoxZoomTool\"},{\"id\":\"6438\",\"type\":\"SaveTool\"},{\"id\":\"6439\",\"type\":\"ResetTool\"},{\"id\":\"6440\",\"type\":\"HelpTool\"}]},\"id\":\"6441\",\"type\":\"Toolbar\"},{\"attributes\":{},\"id\":\"6388\",\"type\":\"LinearScale\"},{\"attributes\":{\"formatter\":{\"id\":\"6466\",\"type\":\"BasicTickFormatter\"},\"ticker\":{\"id\":\"6391\",\"type\":\"BasicTicker\"}},\"id\":\"6390\",\"type\":\"LinearAxis\"},{\"attributes\":{},\"id\":\"6355\",\"type\":\"BasicTicker\"},{\"attributes\":{\"dimension\":1,\"ticker\":{\"id\":\"6431\",\"type\":\"BasicTicker\"}},\"id\":\"6434\",\"type\":\"Grid\"},{\"attributes\":{\"fill_color\":{\"value\":\"maroon\"},\"line_color\":{\"value\":\"maroon\"},\"x\":{\"field\":\"x\"},\"y\":{\"field\":\"y\"}},\"id\":\"6378\",\"type\":\"Circle\"},{\"attributes\":{},\"id\":\"6396\",\"type\":\"BasicTicker\"},{\"attributes\":{},\"id\":\"6391\",\"type\":\"BasicTicker\"},{\"attributes\":{},\"id\":\"6468\",\"type\":\"BasicTickFormatter\"},{\"attributes\":{\"ticker\":{\"id\":\"6391\",\"type\":\"BasicTicker\"}},\"id\":\"6394\",\"type\":\"Grid\"},{\"attributes\":{\"source\":{\"id\":\"6448\",\"type\":\"ColumnDataSource\"}},\"id\":\"6452\",\"type\":\"CDSView\"},{\"attributes\":{\"text\":\"\"},\"id\":\"6453\",\"type\":\"Title\"},{\"attributes\":{\"dimension\":1,\"ticker\":{\"id\":\"6396\",\"type\":\"BasicTicker\"}},\"id\":\"6399\",\"type\":\"Grid\"},{\"attributes\":{\"formatter\":{\"id\":\"6468\",\"type\":\"BasicTickFormatter\"},\"ticker\":{\"id\":\"6396\",\"type\":\"BasicTicker\"}},\"id\":\"6395\",\"type\":\"LinearAxis\"},{\"attributes\":{},\"id\":\"6456\",\"type\":\"BasicTickFormatter\"},{\"attributes\":{\"line_alpha\":0.1,\"line_color\":\"#1f77b4\",\"line_width\":2,\"x\":{\"field\":\"x\"},\"y\":{\"field\":\"y\"}},\"id\":\"6450\",\"type\":\"Line\"},{\"attributes\":{},\"id\":\"6459\",\"type\":\"UnionRenderers\"},{\"attributes\":{},\"id\":\"6360\",\"type\":\"BasicTicker\"},{\"attributes\":{\"source\":{\"id\":\"6413\",\"type\":\"ColumnDataSource\"}},\"id\":\"6417\",\"type\":\"CDSView\"},{\"attributes\":{\"line_color\":\"hotpink\",\"line_width\":2,\"x\":{\"field\":\"x\"},\"y\":{\"field\":\"y\"}},\"id\":\"6449\",\"type\":\"Line\"},{\"attributes\":{},\"id\":\"6460\",\"type\":\"Selection\"},{\"attributes\":{\"ticker\":{\"id\":\"6355\",\"type\":\"BasicTicker\"}},\"id\":\"6358\",\"type\":\"Grid\"},{\"attributes\":{\"active_drag\":\"auto\",\"active_inspect\":\"auto\",\"active_multi\":null,\"active_scroll\":\"auto\",\"active_tap\":\"auto\",\"tools\":[{\"id\":\"6400\",\"type\":\"PanTool\"},{\"id\":\"6401\",\"type\":\"WheelZoomTool\"},{\"id\":\"6402\",\"type\":\"BoxZoomTool\"},{\"id\":\"6403\",\"type\":\"SaveTool\"},{\"id\":\"6404\",\"type\":\"ResetTool\"},{\"id\":\"6405\",\"type\":\"HelpTool\"}]},\"id\":\"6406\",\"type\":\"Toolbar\"},{\"attributes\":{\"bottom_units\":\"screen\",\"fill_alpha\":{\"value\":0.5},\"fill_color\":{\"value\":\"lightgrey\"},\"left_units\":\"screen\",\"level\":\"overlay\",\"line_alpha\":{\"value\":1.0},\"line_color\":{\"value\":\"black\"},\"line_dash\":[4,4],\"line_width\":{\"value\":2},\"render_mode\":\"css\",\"right_units\":\"screen\",\"top_units\":\"screen\"},\"id\":\"6461\",\"type\":\"BoxAnnotation\"},{\"attributes\":{\"below\":[{\"id\":\"6425\",\"type\":\"LinearAxis\"}],\"center\":[{\"id\":\"6429\",\"type\":\"Grid\"},{\"id\":\"6434\",\"type\":\"Grid\"}],\"left\":[{\"id\":\"6430\",\"type\":\"LinearAxis\"}],\"plot_height\":300,\"plot_width\":300,\"renderers\":[{\"id\":\"6451\",\"type\":\"GlyphRenderer\"}],\"title\":{\"id\":\"6473\",\"type\":\"Title\"},\"toolbar\":{\"id\":\"6441\",\"type\":\"Toolbar\"},\"toolbar_location\":null,\"x_range\":{\"id\":\"6346\",\"type\":\"DataRange1d\"},\"x_scale\":{\"id\":\"6421\",\"type\":\"LinearScale\"},\"y_range\":{\"id\":\"6384\",\"type\":\"DataRange1d\"},\"y_scale\":{\"id\":\"6423\",\"type\":\"LinearScale\"}},\"id\":\"6418\",\"subtype\":\"Figure\",\"type\":\"Plot\"},{\"attributes\":{},\"id\":\"6352\",\"type\":\"LinearScale\"},{\"attributes\":{},\"id\":\"6469\",\"type\":\"UnionRenderers\"},{\"attributes\":{\"tools\":[{\"id\":\"6364\",\"type\":\"PanTool\"},{\"id\":\"6365\",\"type\":\"WheelZoomTool\"},{\"id\":\"6366\",\"type\":\"BoxZoomTool\"},{\"id\":\"6367\",\"type\":\"SaveTool\"},{\"id\":\"6368\",\"type\":\"ResetTool\"},{\"id\":\"6369\",\"type\":\"HelpTool\"},{\"id\":\"6400\",\"type\":\"PanTool\"},{\"id\":\"6401\",\"type\":\"WheelZoomTool\"},{\"id\":\"6402\",\"type\":\"BoxZoomTool\"},{\"id\":\"6403\",\"type\":\"SaveTool\"},{\"id\":\"6404\",\"type\":\"ResetTool\"},{\"id\":\"6405\",\"type\":\"HelpTool\"},{\"id\":\"6435\",\"type\":\"PanTool\"},{\"id\":\"6436\",\"type\":\"WheelZoomTool\"},{\"id\":\"6437\",\"type\":\"BoxZoomTool\"},{\"id\":\"6438\",\"type\":\"SaveTool\"},{\"id\":\"6439\",\"type\":\"ResetTool\"},{\"id\":\"6440\",\"type\":\"HelpTool\"}]},\"id\":\"6484\",\"type\":\"ProxyToolbar\"},{\"attributes\":{},\"id\":\"6400\",\"type\":\"PanTool\"},{\"attributes\":{},\"id\":\"6401\",\"type\":\"WheelZoomTool\"},{\"attributes\":{\"text\":\"\"},\"id\":\"6463\",\"type\":\"Title\"},{\"attributes\":{\"overlay\":{\"id\":\"6471\",\"type\":\"BoxAnnotation\"}},\"id\":\"6402\",\"type\":\"BoxZoomTool\"},{\"attributes\":{\"dimension\":1,\"ticker\":{\"id\":\"6360\",\"type\":\"BasicTicker\"}},\"id\":\"6363\",\"type\":\"Grid\"},{\"attributes\":{},\"id\":\"6466\",\"type\":\"BasicTickFormatter\"},{\"attributes\":{},\"id\":\"6403\",\"type\":\"SaveTool\"},{\"attributes\":{},\"id\":\"6470\",\"type\":\"Selection\"},{\"attributes\":{},\"id\":\"6404\",\"type\":\"ResetTool\"},{\"attributes\":{\"formatter\":{\"id\":\"6458\",\"type\":\"BasicTickFormatter\"},\"ticker\":{\"id\":\"6360\",\"type\":\"BasicTicker\"}},\"id\":\"6359\",\"type\":\"LinearAxis\"},{\"attributes\":{\"callback\":null},\"id\":\"6346\",\"type\":\"DataRange1d\"},{\"attributes\":{\"bottom_units\":\"screen\",\"fill_alpha\":{\"value\":0.5},\"fill_color\":{\"value\":\"lightgrey\"},\"left_units\":\"screen\",\"level\":\"overlay\",\"line_alpha\":{\"value\":1.0},\"line_color\":{\"value\":\"black\"},\"line_dash\":[4,4],\"line_width\":{\"value\":2},\"render_mode\":\"css\",\"right_units\":\"screen\",\"top_units\":\"screen\"},\"id\":\"6471\",\"type\":\"BoxAnnotation\"},{\"attributes\":{\"fill_alpha\":{\"value\":0.1},\"fill_color\":{\"value\":\"#1f77b4\"},\"line_alpha\":{\"value\":0.1},\"line_color\":{\"value\":\"#1f77b4\"},\"x\":{\"field\":\"x\"},\"y\":{\"field\":\"y\"}},\"id\":\"6415\",\"type\":\"Circle\"},{\"attributes\":{},\"id\":\"6405\",\"type\":\"HelpTool\"},{\"attributes\":{},\"id\":\"6478\",\"type\":\"BasicTickFormatter\"},{\"attributes\":{\"callback\":null,\"data\":{\"x\":{\"__ndarray__\":\"AAAAAAAAAAAxb2dIzNu5PzFvZ0jM28k/ZZNNNtlk0z8xb2dIzNvZP3+lQK1fKeA/ZZNNNtlk4z9LgVq/UqDmPzFvZ0jM2+k/F1100UUX7T9/pUCtXynwP3Icx3Ecx/E/ZZNNNtlk8z9YCtT6lQL1P0uBWr9SoPY/Pvjggw8++D8xb2dIzNv5PyTm7QyJefs/F1100UUX/T8K1PqVArX+P3+lQK1fKQBA+OCDDz74AEByHMdxHMcBQOtXCtT6lQJAZZNNNtlkA0DezpCYtzMEQFgK1PqVAgVA0UUXXXTRBUBLgVq/UqAGQMS8nSExbwdAPvjggw8+CEC3MyTm7QwJQDFvZ0jM2wlAq6qqqqqqCkAk5u0MiXkLQJ4hMW9nSAxAF1100UUXDUCRmLczJOYNQArU+pUCtQ5AhA8++OCDD0B/pUCtXykQQDtDYt7OkBBA+OCDDz74EEC1fqVArV8RQHIcx3EcxxFALrrooosuEkDrVwrU+pUSQKj1KwVq/RJAZZNNNtlkE0AiMW9nSMwTQN7OkJi3MxRAm2yyySabFEBYCtT6lQIVQBWo9SsFahVA0UUXXXTRFUCO4ziO4zgWQEuBWr9SoBZACB988MEHF0DEvJ0hMW8XQIFav1Kg1hdAPvjggw8+GED7lQK1fqUYQLczJObtDBlAdNFFF110GUAxb2dIzNsZQO4MiXk7QxpAq6qqqqqqGkBnSMzbGRIbQCTm7QyJeRtA4YMPPvjgG0CeITFvZ0gcQFq/UqDWrxxAF1100UUXHUDU+pUCtX4dQJGYtzMk5h1ATTbZZJNNHkAK1PqVArUeQMdxHMdxHB9AhA8++OCDH0BArV8pUOsfQH+lQK1fKSBAXXTRRRddIEA7Q2LezpAgQBoS83aGxCBA+OCDDz74IEDXrxSo9SshQLV+pUCtXyFAk0022WSTIUByHMdxHMchQFDrVwrU+iFALrrooosuIkANiXk7Q2IiQOtXCtT6lSJAyiabbLLJIkCo9SsFav0iQIbEvJ0hMSNAZZNNNtlkI0BDYt7OkJgjQCIxb2dIzCNAAAAAAAAAJEA=\",\"dtype\":\"float64\",\"shape\":[100]},\"y\":{\"__ndarray__\":\"AuAcEixzwL9e5Ung8A3qP+O1yo1wKABA9EGOiBq0BEAsCeBJLicHQNL6hDf8Zfs/rluisaYABUBsAwRdA48GQGm3Bxv0KwtAkCRlpc7zEUAiOoEDQ8MLQPTB6TTAQRJAPdaVG9I3GEBxSe0h/hcXQFFZlH9geRBAMEilMB5OGUCxCD7qG2McQMKLQhewwR5AAWp6FPswH0CADD/ykx8dQIBL9h8T6BpAEorbSXzXG0BUuPlJiYUcQAyjhBmjghtALWI07qNQGED0mNVFwVEZQLaoPcxZGhVAjuRPK8ToDUALdoJN5TUDQEBL9Yw2weo/+isIH14e+D9sg3nBTyfqP8f8BU7ccvo/5sUKP4rKAEDfXbpFuzoPQGjNBtSlyhJAWlTflpwoFkAWyyPyJTUUQMSvDWxtrgpAYfkQdNInEEBAXvW5AxgVQB8g7cJEuxNAGmc3VNfsEUBdltfPQ58QQMKIa0JfKgxABV0X/GgRE0CMoIzhMcYSQOjmMQ6FHRZAllt8wvLBF0CeXdpUM4oUQOh/NVAueBxArf6e5sr3G0CahDhZpSYZQKLIQ0wtLh9AuXLBR6MWIUACsygui48gQHNMHqqRcB1ASKFkSCbhF0BR33Cu5ksUQJ82AUZFVBZA6GcnHgITE0CzsQZTP30XQJKWV6wSHBZAxwub2YnRGUCXgrT45MgWQB0zwze2txdAcv19FI5xGEAd3cDI1TIYQGfn62cahxhAuUqWWhbqFkDrMpwIoKMWQOvNarPkaR5A/HrF/h64H0A9wwWpgdYiQFMEv/dM4SVA+rHqY5U1J0D2y2GYKd4pQNh28d2HCStAsYfWYddNK0DglFZKxgErQLaHzVXL4ClAuqe3eUNfKEBT5eXz43IsQG/JoS7DqyxAe5RG+3H+LEAGPqZ9fRYvQAdPv9m3jClAoNN7y4J0KkCx8mmnKDArQMJbRykAmitAKGsZsu+lKkAyvQ4PGQoqQLWTpJwKbCxAvQeyioV6L0C8dVfDhYgwQO4vZdvK0TBAMKCpQicHMUBBcmTtbeowQKfiXX1BxS9A40tUiyRMMEA=\",\"dtype\":\"float64\",\"shape\":[100]}},\"selected\":{\"id\":\"6480\",\"type\":\"Selection\"},\"selection_policy\":{\"id\":\"6479\",\"type\":\"UnionRenderers\"}},\"id\":\"6448\",\"type\":\"ColumnDataSource\"},{\"attributes\":{\"toolbar\":{\"id\":\"6484\",\"type\":\"ProxyToolbar\"},\"toolbar_location\":\"above\"},\"id\":\"6485\",\"type\":\"ToolbarBox\"},{\"attributes\":{\"data_source\":{\"id\":\"6413\",\"type\":\"ColumnDataSource\"},\"glyph\":{\"id\":\"6414\",\"type\":\"Circle\"},\"hover_glyph\":null,\"muted_glyph\":null,\"nonselection_glyph\":{\"id\":\"6415\",\"type\":\"Circle\"},\"selection_glyph\":null,\"view\":{\"id\":\"6417\",\"type\":\"CDSView\"}},\"id\":\"6416\",\"type\":\"GlyphRenderer\"},{\"attributes\":{\"text\":\"\"},\"id\":\"6473\",\"type\":\"Title\"},{\"attributes\":{\"below\":[{\"id\":\"6390\",\"type\":\"LinearAxis\"}],\"center\":[{\"id\":\"6394\",\"type\":\"Grid\"},{\"id\":\"6399\",\"type\":\"Grid\"}],\"left\":[{\"id\":\"6395\",\"type\":\"LinearAxis\"}],\"plot_height\":300,\"plot_width\":300,\"renderers\":[{\"id\":\"6416\",\"type\":\"GlyphRenderer\"}],\"title\":{\"id\":\"6463\",\"type\":\"Title\"},\"toolbar\":{\"id\":\"6406\",\"type\":\"Toolbar\"},\"toolbar_location\":null,\"x_range\":{\"id\":\"6348\",\"type\":\"DataRange1d\"},\"x_scale\":{\"id\":\"6386\",\"type\":\"LinearScale\"},\"y_range\":{\"id\":\"6384\",\"type\":\"DataRange1d\"},\"y_scale\":{\"id\":\"6388\",\"type\":\"LinearScale\"}},\"id\":\"6382\",\"subtype\":\"Figure\",\"type\":\"Plot\"},{\"attributes\":{\"data_source\":{\"id\":\"6377\",\"type\":\"ColumnDataSource\"},\"glyph\":{\"id\":\"6378\",\"type\":\"Circle\"},\"hover_glyph\":null,\"muted_glyph\":null,\"nonselection_glyph\":{\"id\":\"6379\",\"type\":\"Circle\"},\"selection_glyph\":null,\"view\":{\"id\":\"6381\",\"type\":\"CDSView\"}},\"id\":\"6380\",\"type\":\"GlyphRenderer\"},{\"attributes\":{},\"id\":\"6436\",\"type\":\"WheelZoomTool\"},{\"attributes\":{},\"id\":\"6458\",\"type\":\"BasicTickFormatter\"},{\"attributes\":{},\"id\":\"6435\",\"type\":\"PanTool\"}],\"root_ids\":[\"6486\"]},\"title\":\"Bokeh Application\",\"version\":\"1.4.0\"}};\n",
       "  var render_items = [{\"docid\":\"21320d9a-38ca-4fb0-b4dd-5a03a9d3f928\",\"roots\":{\"6486\":\"9d7a686e-61bb-4045-a8e6-5b1c4596a14c\"}}];\n",
       "  root.Bokeh.embed.embed_items_notebook(docs_json, render_items);\n",
       "\n",
       "  }\n",
       "  if (root.Bokeh !== undefined) {\n",
       "    embed_document(root);\n",
       "  } else {\n",
       "    var attempts = 0;\n",
       "    var timer = setInterval(function(root) {\n",
       "      if (root.Bokeh !== undefined) {\n",
       "        clearInterval(timer);\n",
       "        embed_document(root);\n",
       "      } else {\n",
       "        attempts++;\n",
       "        if (attempts > 100) {\n",
       "          clearInterval(timer);\n",
       "          console.log(\"Bokeh: ERROR: Unable to run BokehJS code because BokehJS library is missing\");\n",
       "        }\n",
       "      }\n",
       "    }, 10, root)\n",
       "  }\n",
       "})(window);"
      ],
      "application/vnd.bokehjs_exec.v0+json": ""
     },
     "metadata": {
      "application/vnd.bokehjs_exec.v0+json": {
       "id": "6486"
      }
     },
     "output_type": "display_data"
    }
   ],
   "source": [
    "p1 = figure(width = 300, height = 300)\n",
    "p1.circle(x,y,color = 'maroon')\n",
    "\n",
    "p2 = figure(width = 300, height = 300, x_range = p1.y_range)\n",
    "p2.circle(y,z,color = 'seagreen')\n",
    "\n",
    "p3 = figure(width = 300, height = 300,x_range = p1.x_range, y_range = p2.y_range)\n",
    "p3.line(x,z,color = 'hotpink', line_width = 2)\n",
    "\n",
    "p = gridplot([[p1,p2],[p3,None]])\n",
    "show(p)"
   ]
  },
  {
   "cell_type": "markdown",
   "metadata": {},
   "source": [
    "# Callbacks\n",
    "Callbacks allow us to change properties of a plot after it is created."
   ]
  },
  {
   "cell_type": "code",
   "execution_count": 119,
   "metadata": {},
   "outputs": [
    {
     "data": {
      "text/html": [
       "\n",
       "\n",
       "\n",
       "\n",
       "\n",
       "\n",
       "  <div class=\"bk-root\" id=\"348f5cfd-0d8f-494d-8e83-06563873c6a2\" data-root-id=\"7585\"></div>\n"
      ]
     },
     "metadata": {},
     "output_type": "display_data"
    },
    {
     "data": {
      "application/javascript": [
       "(function(root) {\n",
       "  function embed_document(root) {\n",
       "    \n",
       "  var docs_json = {\"c1c1207e-3c80-4c6a-a096-a64107048d6a\":{\"roots\":{\"references\":[{\"attributes\":{\"below\":[{\"id\":\"7594\",\"type\":\"LinearAxis\"}],\"center\":[{\"id\":\"7598\",\"type\":\"Grid\"},{\"id\":\"7603\",\"type\":\"Grid\"}],\"left\":[{\"id\":\"7599\",\"type\":\"LinearAxis\"}],\"plot_height\":400,\"renderers\":[{\"id\":\"7620\",\"type\":\"GlyphRenderer\"}],\"title\":{\"id\":\"7881\",\"type\":\"Title\"},\"toolbar\":{\"id\":\"7610\",\"type\":\"Toolbar\"},\"x_range\":{\"id\":\"7586\",\"type\":\"DataRange1d\"},\"x_scale\":{\"id\":\"7590\",\"type\":\"LinearScale\"},\"y_range\":{\"id\":\"7588\",\"type\":\"DataRange1d\"},\"y_scale\":{\"id\":\"7592\",\"type\":\"LinearScale\"}},\"id\":\"7585\",\"subtype\":\"Figure\",\"type\":\"Plot\"},{\"attributes\":{},\"id\":\"7590\",\"type\":\"LinearScale\"},{\"attributes\":{},\"id\":\"7608\",\"type\":\"ResetTool\"},{\"attributes\":{},\"id\":\"7887\",\"type\":\"Selection\"},{\"attributes\":{},\"id\":\"7884\",\"type\":\"BasicTickFormatter\"},{\"attributes\":{\"callback\":null},\"id\":\"7586\",\"type\":\"DataRange1d\"},{\"attributes\":{},\"id\":\"7886\",\"type\":\"UnionRenderers\"},{\"attributes\":{},\"id\":\"7600\",\"type\":\"BasicTicker\"},{\"attributes\":{},\"id\":\"7609\",\"type\":\"HelpTool\"},{\"attributes\":{\"callback\":null},\"id\":\"7588\",\"type\":\"DataRange1d\"},{\"attributes\":{\"text\":\"\"},\"id\":\"7881\",\"type\":\"Title\"},{\"attributes\":{\"ticker\":{\"id\":\"7595\",\"type\":\"BasicTicker\"}},\"id\":\"7598\",\"type\":\"Grid\"},{\"attributes\":{\"source\":{\"id\":\"7583\",\"type\":\"ColumnDataSource\"}},\"id\":\"7621\",\"type\":\"CDSView\"},{\"attributes\":{\"dimension\":1,\"ticker\":{\"id\":\"7600\",\"type\":\"BasicTicker\"}},\"id\":\"7603\",\"type\":\"Grid\"},{\"attributes\":{},\"id\":\"7607\",\"type\":\"SaveTool\"},{\"attributes\":{\"formatter\":{\"id\":\"7622\",\"type\":\"PrintfTickFormatter\"},\"ticker\":{\"id\":\"7600\",\"type\":\"BasicTicker\"}},\"id\":\"7599\",\"type\":\"LinearAxis\"},{\"attributes\":{\"bottom_units\":\"screen\",\"fill_alpha\":{\"value\":0.5},\"fill_color\":{\"value\":\"lightgrey\"},\"left_units\":\"screen\",\"level\":\"overlay\",\"line_alpha\":{\"value\":1.0},\"line_color\":{\"value\":\"black\"},\"line_dash\":[4,4],\"line_width\":{\"value\":2},\"render_mode\":\"css\",\"right_units\":\"screen\",\"top_units\":\"screen\"},\"id\":\"7888\",\"type\":\"BoxAnnotation\"},{\"attributes\":{},\"id\":\"7595\",\"type\":\"BasicTicker\"},{\"attributes\":{\"active_drag\":\"auto\",\"active_inspect\":\"auto\",\"active_multi\":null,\"active_scroll\":\"auto\",\"active_tap\":\"auto\",\"tools\":[{\"id\":\"7604\",\"type\":\"PanTool\"},{\"id\":\"7605\",\"type\":\"WheelZoomTool\"},{\"id\":\"7606\",\"type\":\"BoxZoomTool\"},{\"id\":\"7607\",\"type\":\"SaveTool\"},{\"id\":\"7608\",\"type\":\"ResetTool\"},{\"id\":\"7609\",\"type\":\"HelpTool\"}]},\"id\":\"7610\",\"type\":\"Toolbar\"},{\"attributes\":{\"line_alpha\":0.1,\"line_color\":\"#1f77b4\",\"line_width\":3,\"x\":{\"field\":\"year\"},\"y\":{\"field\":\"production\"}},\"id\":\"7619\",\"type\":\"Line\"},{\"attributes\":{},\"id\":\"7592\",\"type\":\"LinearScale\"},{\"attributes\":{\"data_source\":{\"id\":\"7583\",\"type\":\"ColumnDataSource\"},\"glyph\":{\"id\":\"7618\",\"type\":\"Line\"},\"hover_glyph\":null,\"muted_glyph\":null,\"nonselection_glyph\":{\"id\":\"7619\",\"type\":\"Line\"},\"selection_glyph\":null,\"view\":{\"id\":\"7621\",\"type\":\"CDSView\"}},\"id\":\"7620\",\"type\":\"GlyphRenderer\"},{\"attributes\":{\"callback\":null,\"data\":{\"production\":[797930,818233,807040,793263,774977,815754,747154,784208,815514,876145,786948,830503,895098,917015,918594,1062935,1120985,1105461,1096699,1141547,1161363,1129691,689083,631538,611356,571820,531861,501570,485801,144480],\"year\":[1991,1992,1993,1994,1995,1996,1997,1998,1999,2000,2001,2002,2003,2004,2005,2006,2007,2008,2009,2010,2011,2012,2013,2014,2015,2016,2017,2018,2019,2020]},\"selected\":{\"id\":\"7887\",\"type\":\"Selection\"},\"selection_policy\":{\"id\":\"7886\",\"type\":\"UnionRenderers\"}},\"id\":\"7583\",\"type\":\"ColumnDataSource\"},{\"attributes\":{\"format\":\"%d\"},\"id\":\"7622\",\"type\":\"PrintfTickFormatter\"},{\"attributes\":{\"formatter\":{\"id\":\"7884\",\"type\":\"BasicTickFormatter\"},\"ticker\":{\"id\":\"7595\",\"type\":\"BasicTicker\"}},\"id\":\"7594\",\"type\":\"LinearAxis\"},{\"attributes\":{},\"id\":\"7604\",\"type\":\"PanTool\"},{\"attributes\":{},\"id\":\"7605\",\"type\":\"WheelZoomTool\"},{\"attributes\":{\"overlay\":{\"id\":\"7888\",\"type\":\"BoxAnnotation\"}},\"id\":\"7606\",\"type\":\"BoxZoomTool\"},{\"attributes\":{\"line_color\":\"#1f77b4\",\"line_width\":3,\"x\":{\"field\":\"year\"},\"y\":{\"field\":\"production\"}},\"id\":\"7618\",\"type\":\"Line\"}],\"root_ids\":[\"7585\"]},\"title\":\"Bokeh Application\",\"version\":\"1.4.0\"}};\n",
       "  var render_items = [{\"docid\":\"c1c1207e-3c80-4c6a-a096-a64107048d6a\",\"notebook_comms_target\":\"7889\",\"roots\":{\"7585\":\"348f5cfd-0d8f-494d-8e83-06563873c6a2\"}}];\n",
       "  root.Bokeh.embed.embed_items_notebook(docs_json, render_items);\n",
       "\n",
       "  }\n",
       "  if (root.Bokeh !== undefined) {\n",
       "    embed_document(root);\n",
       "  } else {\n",
       "    var attempts = 0;\n",
       "    var timer = setInterval(function(root) {\n",
       "      if (root.Bokeh !== undefined) {\n",
       "        clearInterval(timer);\n",
       "        embed_document(root);\n",
       "      } else {\n",
       "        attempts++;\n",
       "        if (attempts > 100) {\n",
       "          clearInterval(timer);\n",
       "          console.log(\"Bokeh: ERROR: Unable to run BokehJS code because BokehJS library is missing\");\n",
       "        }\n",
       "      }\n",
       "    }, 10, root)\n",
       "  }\n",
       "})(window);"
      ],
      "application/vnd.bokehjs_exec.v0+json": ""
     },
     "metadata": {
      "application/vnd.bokehjs_exec.v0+json": {
       "id": "7585"
      }
     },
     "output_type": "display_data"
    },
    {
     "data": {
      "text/html": [
       "<p><code>&lt;Bokeh Notebook handle for <strong>In[1]</strong>&gt;</code></p>"
      ],
      "text/plain": [
       "<bokeh.io.notebook.CommsHandle at 0x7fe94d4c25d0>"
      ]
     },
     "execution_count": 119,
     "metadata": {},
     "output_type": "execute_result"
    }
   ],
   "source": [
    "# ngdf\n",
    "source = ColumnDataSource(data={\n",
    "    'year': ngdf.index,\n",
    "    'production': ngdf['Other']\n",
    "})\n",
    "# palettes.Viridis256\n",
    "hover = HoverTool(tooltips = [('Year','@year'),('Production','@production MMcf')])\n",
    "\n",
    "p = figure(width = 600,height = 400)\n",
    "r = p.line('year','production',line_width = 3, source = source)\n",
    "p.yaxis.formatter = PrintfTickFormatter(format = \"%d\")\n",
    "show(p,notebook_handle=True)"
   ]
  },
  {
   "cell_type": "code",
   "execution_count": 120,
   "metadata": {},
   "outputs": [],
   "source": [
    "def update(state = 'Other'):\n",
    "    newdata={\n",
    "            'year': ngdf.index,\n",
    "            'production': ngdf[state]}\n",
    "    source.data = newdata\n",
    "    p.title.text = state\n",
    "    push_notebook()\n",
    "    show(p)\n"
   ]
  },
  {
   "cell_type": "code",
   "execution_count": 121,
   "metadata": {},
   "outputs": [
    {
     "name": "stderr",
     "output_type": "stream",
     "text": [
      "/home/pooya/anaconda3/lib/python3.7/site-packages/IPython/html.py:14: ShimWarning: The `IPython.html` package has been deprecated since IPython 4.0. You should import from `notebook` instead. `IPython.html.widgets` has moved to `ipywidgets`.\n",
      "  \"`IPython.html.widgets` has moved to `ipywidgets`.\", ShimWarning)\n"
     ]
    },
    {
     "data": {
      "application/vnd.jupyter.widget-view+json": {
       "model_id": "e1e50c5de704400a805d40f15745f00a",
       "version_major": 2,
       "version_minor": 0
      },
      "text/plain": [
       "interactive(children=(Dropdown(description='state', options=('Other', 'Alabama', 'Arizona', 'Florida', 'Idaho'…"
      ]
     },
     "metadata": {},
     "output_type": "display_data"
    }
   ],
   "source": [
    "from IPython.html.widgets import interact\n",
    "interact(update,state = ngdf.columns.to_list());"
   ]
  },
  {
   "cell_type": "code",
   "execution_count": 122,
   "metadata": {},
   "outputs": [
    {
     "data": {
      "application/vnd.jupyter.widget-view+json": {
       "model_id": "935f275aa5c24537826e1796c8eed968",
       "version_major": 2,
       "version_minor": 0
      },
      "text/plain": [
       "interactive(children=(Dropdown(description='color', options=('red', 'blue', 'green', 'black'), value='red'), I…"
      ]
     },
     "metadata": {},
     "output_type": "display_data"
    }
   ],
   "source": [
    "@interact\n",
    "def ChangeColor(color=['red', 'blue', 'green', 'black'], thickness = (1,5,1)):\n",
    "    r.glyph.line_color = color\n",
    "    r.glyph.line_width = thickness\n",
    "    push_notebook()\n",
    "    show(p)"
   ]
  },
  {
   "cell_type": "markdown",
   "metadata": {},
   "source": [
    "# Further Reading\n",
    "- [Bokeh Tutorial](https://nbviewer.jupyter.org/github/bokeh/bokeh-notebooks/blob/master/tutorial/00%20-%20Introduction%20and%20Setup.ipynb)\n",
    "- https://www.youtube.com/watch?v=2TR_6VaVSOs\n",
    "- https://github.com/chalmerlowe/bokeh_tutorial\n",
    "- https://towardsdatascience.com/data-visualization-with-bokeh-in-python-part-one-getting-started-a11655a467d4"
   ]
  },
  {
   "cell_type": "code",
   "execution_count": null,
   "metadata": {},
   "outputs": [],
   "source": []
  }
 ],
 "metadata": {
  "kernelspec": {
   "display_name": "Python 3",
   "language": "python",
   "name": "python3"
  },
  "language_info": {
   "codemirror_mode": {
    "name": "ipython",
    "version": 3
   },
   "file_extension": ".py",
   "mimetype": "text/x-python",
   "name": "python",
   "nbconvert_exporter": "python",
   "pygments_lexer": "ipython3",
   "version": "3.7.4"
  },
  "toc": {
   "base_numbering": 1,
   "nav_menu": {},
   "number_sections": true,
   "sideBar": true,
   "skip_h1_title": false,
   "title_cell": "Table of Contents",
   "title_sidebar": "Contents",
   "toc_cell": false,
   "toc_position": {
    "height": "457px",
    "left": "967px",
    "top": "180px",
    "width": "259.797px"
   },
   "toc_section_display": true,
   "toc_window_display": false
  }
 },
 "nbformat": 4,
 "nbformat_minor": 2
}
