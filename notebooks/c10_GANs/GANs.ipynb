{
 "cells": [
  {
   "cell_type": "markdown",
   "metadata": {},
   "source": [
    "# GANs"
   ]
  },
  {
   "cell_type": "markdown",
   "metadata": {},
   "source": [
    "In this notebook, we are going to create a generative adversarial network (GAN) from scratch! Specifically, we will build and train a GAN that can generate hand-written images of digits (0-9). "
   ]
  },
  {
   "cell_type": "markdown",
   "metadata": {},
   "source": [
    "Generative Adversarial Networks are considered the state of the art for the generation of photorealistic images. \n",
    "\n",
    "Take a look at the images below. Can you distinguish which images are real and which ones are fakes?\n",
    "\n",
    "<table>\n",
    "<tr>\n",
    "<th>\n",
    "    <img src='./this_person_does_not_exist/person1.jpeg' height=200 width=200/>\n",
    "</th>\n",
    "\n",
    "<th>\n",
    "    <img src='./this_person_does_not_exist/person2.jpeg' height=200 width=200/>\n",
    "</th>\n",
    "<th>\n",
    "    <img src='./this_person_does_not_exist/person3.jpeg' height=200 width=200/>\n",
    "</th>\n",
    "</tr>\n",
    "<tr>\n",
    "<th>\n",
    "    <img src='./this_person_does_not_exist/person4.jpeg' height=200 width=200/>\n",
    "</th>\n",
    "<th>\n",
    "    <img src='./this_person_does_not_exist/person5.jpeg' height=200 width=200/>\n",
    "</th>\n",
    "<th>\n",
    "    <img src='./this_person_does_not_exist/person6.jpeg' height=200 width=200/>\n",
    "</th>\n",
    "</tr>\n",
    "</table>\n",
    "\n",
    "Actually all images are fake... Those images were created by a GAN named StyleGAN2 (Dec 2019) - Karras et al. and Nvidia\n",
    "\n",
    "Source: https://thispersondoesnotexist.com/\n"
   ]
  },
  {
   "cell_type": "markdown",
   "metadata": {},
   "source": [
    "## How does a GAN work?\n",
    "\n",
    "GANs are a hot topic that is evolving very fast. However, we will explore the basic concept of GANs as proposed by Ian Goodfellow in 2014. [Original paper in GANs](https://arxiv.org/pdf/1406.2661.pdf)\n",
    "\n",
    "In a GAN the **discriminator** (also called sometimes the **critic**) is a binary classifier that will be trained to distinguish if an image is fake or real. The **generator** will be trying to generate images that fool the **discriminator**. At the beginning both the **generator** $G$ and **discriminator** $D$ will be taking random guesses. Both $G$ and $D$ will be learning from each other's feedback. The input of the $G$ will be a random vector $z$. \n",
    "\n",
    "<img src='Gan.png' height=400 width=400 />\n",
    "\n",
    "In a more formal way, $G$ and $D$ will be playing a MiniMax game trying to get better than their adversary.\n",
    "\n",
    "$min_D max_G \\{ -E_{x \\sim \\text{Data}} log D(\\mathbf x) - E_{z \\sim \\text{Noise}} log(1 - D(G(\\mathbf z))) \\}$\n",
    "\n",
    "\n"
   ]
  },
  {
   "cell_type": "markdown",
   "metadata": {},
   "source": [
    "## Import Libraries\n",
    "We will begin by importing some useful packages and the MNIST dataset which will be used to build and train our GAN."
   ]
  },
  {
   "cell_type": "code",
   "execution_count": 1,
   "metadata": {
    "ExecuteTime": {
     "end_time": "2020-10-01T05:15:04.430414Z",
     "start_time": "2020-10-01T05:15:03.498178Z"
    }
   },
   "outputs": [
    {
     "data": {
      "text/plain": [
       "<torch._C.Generator at 0x7fb4d6a285b0>"
      ]
     },
     "execution_count": 1,
     "metadata": {},
     "output_type": "execute_result"
    }
   ],
   "source": [
    "import torch\n",
    "from torch import nn\n",
    "from torchvision import transforms\n",
    "from torchvision.datasets import MNIST  # Training dataset\n",
    "from torchvision.utils import make_grid\n",
    "from torch.utils.data import DataLoader\n",
    "import matplotlib.pyplot as plt\n",
    "from tqdm.auto import tqdm\n",
    "\n",
    "torch.manual_seed(2020)  # Set for testing purposes, please do not change!"
   ]
  },
  {
   "cell_type": "markdown",
   "metadata": {},
   "source": [
    "Function for visualizing images: Given a tensor of images, number of images, and size per image, plots and prints the images in a uniform grid."
   ]
  },
  {
   "cell_type": "code",
   "execution_count": 2,
   "metadata": {
    "ExecuteTime": {
     "end_time": "2020-10-01T05:15:04.448735Z",
     "start_time": "2020-10-01T05:15:04.439471Z"
    }
   },
   "outputs": [],
   "source": [
    "def show_tensor_images(image_tensor, num_images=25, size=(1, 28, 28)):\n",
    "    image_unflat = image_tensor.detach().cpu().view(-1, *size)\n",
    "    image_grid = make_grid(image_unflat[:num_images], nrow=5)\n",
    "    plt.imshow(image_grid.permute(1, 2, 0).squeeze())\n",
    "    plt.show()"
   ]
  },
  {
   "cell_type": "markdown",
   "metadata": {},
   "source": [
    "## MNIST Dataset\n",
    "\n",
    "The training images your discriminator will be using is from a dataset called [MNIST](http://yann.lecun.com/exdb/mnist/). It contains 60,000 images of handwritten digits (28x28 pixels), from 0 to 9, like these. Additionally, these images are also in black-and-white so only one dimension, or \"color channel\", is needed to represent them. Colored images are usually in the RGB space and need 3 channels to represent them.\n",
    "\n",
    "![MNIST Digits](https://upload.wikimedia.org/wikipedia/commons/2/27/MnistExamples.png)\n",
    "\n",
    "Source Image:[MNIST Example](https://en.wikipedia.org/wiki/MNIST_database#/media/File:MnistExamples.png)\n",
    "License: [CC BY-SA 4.0](https://creativecommons.org/licenses/by-sa/4.0)\n",
    "\n",
    "#### Batches\n",
    "While you could train your model after generating one image, it is extremely inefficient and leads to less stable training. In GANs, and in machine learning in general, you will process multiple images per training step. These are called batches.\n",
    "\n",
    "This means that your generator will generate an entire batch of images and receive the discriminator's feedback on each before updating the model. The same goes for the discriminator, it will calculate its loss on the entire batch of generated images as well as on the reals before the model is updated.\n"
   ]
  },
  {
   "cell_type": "markdown",
   "metadata": {},
   "source": [
    "# Generator\n",
    "\n",
    "The first step is to build the generator component. We need to create a function to make a single block for the Generator's neural network. Each block should include a linear transformation to map to another shape, a batch normalization for stabilization, and finally a non-linear activation function (you use a ReLU here) so the output can be transformed in complex ways. You will learn more about activations and batch normalization later in the course.\n",
    "\n"
   ]
  },
  {
   "cell_type": "code",
   "execution_count": 3,
   "metadata": {
    "ExecuteTime": {
     "end_time": "2020-10-01T05:15:04.461340Z",
     "start_time": "2020-10-01T05:15:04.451828Z"
    }
   },
   "outputs": [],
   "source": [
    "def get_generator_block(input_dim, output_dim):\n",
    "    return nn.Sequential(\n",
    "        nn.Linear(input_dim, output_dim),\n",
    "        nn.BatchNorm1d(output_dim),\n",
    "        nn.ReLU(inplace=True),\n",
    "    )"
   ]
  },
  {
   "cell_type": "markdown",
   "metadata": {},
   "source": [
    "- Generator Class Values:\n",
    "    - z_dim: the dimension of the noise vector\n",
    "    - im_dim: the dimension of the output image. MNIST images are 28 x 28 = 784.\n",
    "    - hidden_dim: the inner dimension\n",
    "    \n",
    "- Forward Function: Function for completing a forward pass of the generator: Given a noise vector, returns a generated image.\n",
    "    - noise: a noise tensor with dimensions (n_samples, z_dim)\n",
    "        "
   ]
  },
  {
   "cell_type": "code",
   "execution_count": 4,
   "metadata": {
    "ExecuteTime": {
     "end_time": "2020-10-01T05:15:04.476110Z",
     "start_time": "2020-10-01T05:15:04.464412Z"
    }
   },
   "outputs": [],
   "source": [
    "class Generator(nn.Module):\n",
    "    def __init__(self, z_dim=10, im_dim=784, hidden_dim=128):\n",
    "        super(Generator, self).__init__()\n",
    "        # Build the neural network\n",
    "        self.gen = nn.Sequential(\n",
    "            get_generator_block(z_dim, hidden_dim),\n",
    "            get_generator_block(hidden_dim, hidden_dim * 2),\n",
    "            get_generator_block(hidden_dim * 2, hidden_dim * 4),\n",
    "            get_generator_block(hidden_dim * 4, hidden_dim * 8),\n",
    "            nn.Linear(hidden_dim * 8, im_dim),\n",
    "            # Scale data from\n",
    "            nn.Sigmoid(),\n",
    "        )\n",
    "\n",
    "    def forward(self, noise):\n",
    "        return self.gen(noise)"
   ]
  },
  {
   "cell_type": "markdown",
   "metadata": {},
   "source": [
    "<div class=\"alert alert-success\" style=\"font-size:100%\">\n",
    "\n",
    "**Exercise 1:** <br>\n",
    "Complete the function below `get_noise` for creating noise vectors: Given the dimensions (n_samples, z_dim), creates a tensor of that shape filled with random numbers from the normal distribution.\n",
    "\n",
    "Parameters:    \n",
    "    - n_samples: the number of samples in the batch, a scalar\n",
    "    - z_dim: the dimension of the noise vector, a scalar\n",
    "    - device: the device type\n",
    "    \n",
    "**Hint:** `torch.randn` might be useful.\n",
    "</div>"
   ]
  },
  {
   "cell_type": "code",
   "execution_count": 5,
   "metadata": {
    "ExecuteTime": {
     "end_time": "2020-10-01T05:15:04.482188Z",
     "start_time": "2020-10-01T05:15:04.478690Z"
    }
   },
   "outputs": [],
   "source": [
    "def get_noise(n_samples, z_dim, device=\"cpu\"):\n",
    "    #### COMPLETE CODE HERE ####\n",
    "    print(\"Implement Code here.\")\n",
    "    #### END CODE HERE ####"
   ]
  },
  {
   "cell_type": "markdown",
   "metadata": {},
   "source": [
    "You can click in the button below the reveal the solution for exercise 1\n",
    "\n",
    "<details>    \n",
    "<summary>\n",
    "    <font size=\"4\" color=\"darkblue\"><b>See the solution for Exercise 1</b></font>\n",
    "</summary>\n",
    "    \n",
    "```python\n",
    "def get_noise(n_samples, z_dim, device='cpu'):\n",
    "    return torch.randn((n_samples, z_dim)).to(device)\n",
    "```\n",
    "\n",
    "</details>"
   ]
  },
  {
   "cell_type": "markdown",
   "metadata": {},
   "source": [
    "## Discriminator\n",
    "\n",
    "The second component we need to construct is the discriminator. Similarly yo the generator component, we will need to create a function that builds a neural network block for the discriminator. Instead of using `nn.ReLU` we will use `nn.LeakyReLU`. This will help to avoid the problem of vanishing gradients in the network."
   ]
  },
  {
   "cell_type": "code",
   "execution_count": 6,
   "metadata": {
    "ExecuteTime": {
     "end_time": "2020-10-01T05:15:04.490278Z",
     "start_time": "2020-10-01T05:15:04.485799Z"
    }
   },
   "outputs": [],
   "source": [
    "def get_discriminator_block(input_dim, output_dim):\n",
    "    return nn.Sequential(\n",
    "        nn.Linear(input_dim, output_dim), nn.LeakyReLU(negative_slope=0.2)\n",
    "    )"
   ]
  },
  {
   "cell_type": "markdown",
   "metadata": {},
   "source": [
    "- Discriminator Class Values:\n",
    "    - im_dim: the dimension of the images. A flatten image of 28x28 would have a size of 784.\n",
    "    - hidden_dim: the inner dimension\n",
    "    \n",
    "- Forward Function: Function for completing a forward pass of the generator: Given a noise vector, returns a generated image.\n",
    "    - noise: a noise tensor with dimensions (n_samples, z_dim)"
   ]
  },
  {
   "cell_type": "code",
   "execution_count": 7,
   "metadata": {
    "ExecuteTime": {
     "end_time": "2020-10-01T05:15:04.501990Z",
     "start_time": "2020-10-01T05:15:04.494012Z"
    }
   },
   "outputs": [],
   "source": [
    "class Discriminator(nn.Module):\n",
    "    def __init__(self, im_dim=784, hidden_dim=128):\n",
    "        super(Discriminator, self).__init__()\n",
    "        self.disc = nn.Sequential(\n",
    "            get_discriminator_block(im_dim, hidden_dim * 4),\n",
    "            get_discriminator_block(hidden_dim * 4, hidden_dim * 2),\n",
    "            get_discriminator_block(hidden_dim * 2, hidden_dim),\n",
    "            # Here we want to have a 1-dimension tensor representing fake/real\n",
    "            nn.Linear(hidden_dim, 1),\n",
    "        )\n",
    "\n",
    "    def forward(self, image):\n",
    "        return self.disc(image)"
   ]
  },
  {
   "cell_type": "markdown",
   "metadata": {},
   "source": [
    "## Training\n",
    "\n",
    "First, we will set some parameters:\n",
    "  *   criterion: the loss function\n",
    "  *   n_epochs: the number of times you iterate through the entire dataset when training\n",
    "  *   z_dim: the dimension of the noise vector\n",
    "  *   display_step: how often to display/visualize the images\n",
    "  *   batch_size: the number of images per forward/backward pass\n",
    "  *   lr: the learning rate\n",
    "  *   device: the device type\n",
    "\n",
    "Next, you will load the MNIST dataset as tensors using a dataloader."
   ]
  },
  {
   "cell_type": "code",
   "execution_count": 8,
   "metadata": {
    "ExecuteTime": {
     "end_time": "2020-10-01T05:15:04.544528Z",
     "start_time": "2020-10-01T05:15:04.504769Z"
    }
   },
   "outputs": [],
   "source": [
    "# Set your parameters\n",
    "criterion = nn.BCEWithLogitsLoss()\n",
    "n_epochs = 200\n",
    "z_dim = 64\n",
    "display_step = 500\n",
    "batch_size = 128\n",
    "lr = 0.00001\n",
    "device = \"cuda\"\n",
    "# Load MNIST dataset as tensors\n",
    "dataloader = DataLoader(\n",
    "    MNIST(\"../../processed/\", download=True, transform=transforms.ToTensor()),\n",
    "    batch_size=batch_size,\n",
    "    shuffle=True,\n",
    ")"
   ]
  },
  {
   "cell_type": "markdown",
   "metadata": {},
   "source": [
    "Let's initialize our generator, discriminator, and optimizers."
   ]
  },
  {
   "cell_type": "code",
   "execution_count": 9,
   "metadata": {
    "ExecuteTime": {
     "end_time": "2020-10-01T05:15:04.584623Z",
     "start_time": "2020-10-01T05:15:04.547105Z"
    }
   },
   "outputs": [],
   "source": [
    "device = \"cpu\"\n",
    "gen = Generator(z_dim).to(device)\n",
    "gen_opt = torch.optim.Adam(gen.parameters(), lr=lr)\n",
    "disc = Discriminator().to(device)\n",
    "disc_opt = torch.optim.Adam(disc.parameters(), lr=lr)"
   ]
  },
  {
   "cell_type": "markdown",
   "metadata": {},
   "source": [
    "Before we start training our GAN, we will need to create some functions to calculate the discriminator's loss and the generator's loss. This is how the discriminator and generator will know how they are doing and improve themselves. Since the generator is needed when calculating the discriminator's loss, you will need to call `.detach()` on the generator result to ensure that only the discriminator is updated!"
   ]
  },
  {
   "cell_type": "markdown",
   "metadata": {},
   "source": [
    "`get_disc_loss` will return the loss of a discriminator given a generator and real images\n",
    "- Parameters:\n",
    "    - gen: the generator model, which returns an image given z-dimensional noise\n",
    "    - disc: the discriminator model, which returns a single-dimensional prediction of real/fake\n",
    "    - criterion: \n",
    "        the loss function, which should be used to compare the discriminator's predictions to the ground truth reality of the images (e.g. fake = 0, real = 1)\n",
    "    - real: a batch of real images\n",
    "    - num_images: the number of images the generator should produce, which is also the length of the real images\n",
    "    - z_dim: the dimension of the noise tensor\n",
    "    - device: the device type"
   ]
  },
  {
   "cell_type": "code",
   "execution_count": 10,
   "metadata": {
    "ExecuteTime": {
     "end_time": "2020-10-01T05:15:04.596983Z",
     "start_time": "2020-10-01T05:15:04.587072Z"
    }
   },
   "outputs": [],
   "source": [
    "def get_disc_loss(gen, disc, criterion, real, num_images, z_dim, device):\n",
    "    # Create noise vectors and generate a batch of num_images fake images.\n",
    "    # Make sure to pass the device argument to the noise.\n",
    "    images = get_noise(num_images, z_dim, device)\n",
    "    # Don't forget to detach the generator!\n",
    "    fake_images = gen(images).detach()  # detach to avoid training G on these labels\n",
    "    # Train Fake Images\n",
    "    # Get the discriminator's prediction of the fake image and calculate the loss.\n",
    "    pred_fake = disc(fake_images)\n",
    "    # Remember the loss function you set earlier? You need a 'ground truth' tensor in order to calculate the loss.\n",
    "    ground_truth_fake = torch.zeros_like(pred_fake)\n",
    "    loss_fake = criterion(pred_fake, ground_truth_fake)\n",
    "    loss_fake.backward(retain_graph=True)\n",
    "    # Repeat the process with `ground_truth_real`\n",
    "    # Train Real Images\n",
    "    pred_real = disc(real)\n",
    "    ground_truth_real = torch.ones_like(pred_real)\n",
    "    loss_real = criterion(pred_real, ground_truth_real)\n",
    "    loss_real.backward(retain_graph=True)\n",
    "    disc_loss = (loss_real + loss_fake) / 2\n",
    "    return disc_loss"
   ]
  },
  {
   "cell_type": "markdown",
   "metadata": {},
   "source": [
    "`get_gen_loss` will return the loss of a generator given a discriminator\n",
    "- Parameters:\n",
    "    - gen: the generator model, which returns an image given z-dimensional noise\n",
    "    - disc: the discriminator model, which returns a single-dimensional prediction of real/fake\n",
    "    - criterion: the loss function, which should be used to compare \n",
    "       the discriminator's predictions to the ground truth reality of the images \n",
    "       (e.g. fake = 0, real = 1)\n",
    "    - num_images: the number of images the generator should produce, \n",
    "        which is also the length of the real images\n",
    "    - z_dim: the dimension of the noise tensor\n",
    "    - device: the device type"
   ]
  },
  {
   "cell_type": "code",
   "execution_count": 11,
   "metadata": {
    "ExecuteTime": {
     "end_time": "2020-10-01T05:15:04.612092Z",
     "start_time": "2020-10-01T05:15:04.599034Z"
    }
   },
   "outputs": [],
   "source": [
    "def get_gen_loss(gen, disc, criterion, num_images, z_dim, device):\n",
    "    # Create noise vectors and generate a batch of fake images.\n",
    "    images = get_noise(num_images, z_dim, device)\n",
    "    # Get the discriminator's prediction of the fake image.\n",
    "    fake_images = gen(images)\n",
    "    # Get the discriminator's prediction of the fake image.\n",
    "    pred_fake = disc(fake_images)\n",
    "    # Target vectors with 1`s. In this case, 1 represents real\n",
    "    target = torch.ones_like(pred_fake)\n",
    "    # Calculate the generator's loss.\n",
    "    gen_loss = criterion(pred_fake, target)\n",
    "    gen_loss.backward(retain_graph=True)\n",
    "    return gen_loss"
   ]
  },
  {
   "cell_type": "markdown",
   "metadata": {},
   "source": [
    "# Training Time !"
   ]
  },
  {
   "cell_type": "code",
   "execution_count": 12,
   "metadata": {
    "ExecuteTime": {
     "end_time": "2020-10-01T05:15:04.619076Z",
     "start_time": "2020-10-01T05:15:04.614515Z"
    }
   },
   "outputs": [],
   "source": [
    "def get_noise(n_samples, z_dim, device=\"cpu\"):\n",
    "    return torch.randn((n_samples, z_dim)).to(device)"
   ]
  },
  {
   "cell_type": "markdown",
   "metadata": {},
   "source": [
    "For each epoch, we will process the entire dataset in batches. For every batch, we will need to update the discriminator and generator using their loss.\n",
    "\n",
    "<div class=\"alert alert-info\" style=\"font-size:100%\">\n",
    "\n",
    "**Warning:** <br>\n",
    "Note that you may see a loss to be greater than 1, this is okay since binary cross entropy loss can be any positive number for a sufficiently confident wrong guess.\n",
    "    \n",
    "It’s also often the case that the discriminator will outperform the generator, especially at the start, and balancing them is difficult. The most important thing is that neither one gets too good (that is, near-perfect accuracy), which is remarkably hard to do in a standard GAN.\n",
    "    \n",
    "**Computation Time:** On a GPU, this should take about 15 seconds per 500 steps, on average, while on CPU it will take roughly 1.5 minutes.\n",
    "</div>\n",
    "\n",
    "\n"
   ]
  },
  {
   "cell_type": "code",
   "execution_count": 14,
   "metadata": {
    "ExecuteTime": {
     "end_time": "2020-10-01T05:16:02.456501Z",
     "start_time": "2020-10-01T05:16:02.433688Z"
    }
   },
   "outputs": [
    {
     "ename": "NameError",
     "evalue": "name 'tqdm' is not defined",
     "output_type": "error",
     "traceback": [
      "\u001b[0;31m---------------------------------------------------------------------------\u001b[0m",
      "\u001b[0;31mNameError\u001b[0m                                 Traceback (most recent call last)",
      "\u001b[0;32m<ipython-input-14-0f4a36733c3c>\u001b[0m in \u001b[0;36m<module>\u001b[0;34m\u001b[0m\n\u001b[1;32m      3\u001b[0m \u001b[0mmean_discriminator_loss\u001b[0m \u001b[0;34m=\u001b[0m \u001b[0;36m0\u001b[0m\u001b[0;34m\u001b[0m\u001b[0;34m\u001b[0m\u001b[0m\n\u001b[1;32m      4\u001b[0m \u001b[0mtest_generator\u001b[0m \u001b[0;34m=\u001b[0m \u001b[0;32mTrue\u001b[0m  \u001b[0;31m# Whether the generator should be tested\u001b[0m\u001b[0;34m\u001b[0m\u001b[0;34m\u001b[0m\u001b[0m\n\u001b[0;32m----> 5\u001b[0;31m \u001b[0;32mfor\u001b[0m \u001b[0mepoch\u001b[0m \u001b[0;32min\u001b[0m \u001b[0mtqdm\u001b[0m\u001b[0;34m(\u001b[0m\u001b[0mrange\u001b[0m\u001b[0;34m(\u001b[0m\u001b[0mn_epochs\u001b[0m\u001b[0;34m)\u001b[0m\u001b[0;34m)\u001b[0m\u001b[0;34m:\u001b[0m\u001b[0;34m\u001b[0m\u001b[0;34m\u001b[0m\u001b[0m\n\u001b[0m\u001b[1;32m      6\u001b[0m     \u001b[0mprint\u001b[0m\u001b[0;34m(\u001b[0m\u001b[0mepoch\u001b[0m\u001b[0;34m)\u001b[0m\u001b[0;34m\u001b[0m\u001b[0;34m\u001b[0m\u001b[0m\n\u001b[1;32m      7\u001b[0m     \u001b[0;31m# Dataloader returns the batches\u001b[0m\u001b[0;34m\u001b[0m\u001b[0;34m\u001b[0m\u001b[0;34m\u001b[0m\u001b[0m\n",
      "\u001b[0;31mNameError\u001b[0m: name 'tqdm' is not defined"
     ]
    }
   ],
   "source": [
    "cur_step = 0\n",
    "mean_generator_loss = 0\n",
    "mean_discriminator_loss = 0\n",
    "test_generator = True  # Whether the generator should be tested\n",
    "for epoch in tqdm(range(n_epochs)):\n",
    "    print(epoch)\n",
    "    # Dataloader returns the batches\n",
    "    for real, _ in dataloader:\n",
    "        cur_batch_size = len(real)\n",
    "        # Flatten the batch of real images from the dataset\n",
    "        real = real.view(cur_batch_size, -1).to(device)\n",
    "\n",
    "        ## Update Discriminator ##\n",
    "        # Zero out the gradients before backpropagation\n",
    "        disc_opt.zero_grad()\n",
    "        # Calculate discriminator loss\n",
    "        disc_loss = get_disc_loss(\n",
    "            gen, disc, criterion, real, cur_batch_size, z_dim, device\n",
    "        )\n",
    "        # Update gradients\n",
    "        disc_loss.backward(retain_graph=True)\n",
    "        # Update optimizer\n",
    "        disc_opt.step()\n",
    "\n",
    "        # For testing purposes, we keep track of the generator weights\n",
    "        if test_generator:\n",
    "            old_generator_weights = gen.gen[0][0].weight.detach().clone()\n",
    "\n",
    "        # Zero out the gradients\n",
    "        gen_opt.zero_grad()\n",
    "        # Calculate the generator loss, assigning it to gen_loss\n",
    "        gen_loss = get_gen_loss(gen, disc, criterion, cur_batch_size, z_dim, device)\n",
    "        # Backprop through the generator (update the gradients and optimizer)\n",
    "        gen_loss.backward(retain_graph=True)\n",
    "        gen_opt.step()\n",
    "\n",
    "        # We make sure that your code changes the generator weights\n",
    "        if test_generator:\n",
    "            assert torch.any(\n",
    "                gen.gen[0][0].weight.detach().clone() != old_generator_weights\n",
    "            )\n",
    "\n",
    "        # Keep track of the average discriminator loss\n",
    "        mean_discriminator_loss += disc_loss.item() / display_step\n",
    "        # Keep track of the average generator loss\n",
    "        mean_generator_loss += gen_loss.item() / display_step\n",
    "\n",
    "        ## Visualization code ##\n",
    "        if cur_step % display_step == 0 and cur_step > 0:\n",
    "            print(\n",
    "                'Step {}: Generator loss: {}, discriminator loss: {}'.format(cur_step, mean_generator_loss, mean_discriminator_loss)\n",
    "            )\n",
    "            fake_noise = get_noise(cur_batch_size, z_dim, device=device)\n",
    "            fake = gen(fake_noise)\n",
    "            print(\"Fake images\")\n",
    "            show_tensor_images(fake)\n",
    "            print(\"Real images\")\n",
    "            show_tensor_images(real)\n",
    "            mean_generator_loss = 0\n",
    "            mean_discriminator_loss = 0\n",
    "        cur_step += 1"
   ]
  },
  {
   "cell_type": "code",
   "execution_count": null,
   "metadata": {},
   "outputs": [],
   "source": []
  }
 ],
 "metadata": {
  "jupytext": {
   "encoding": "# -*- coding: utf-8 -*-",
   "formats": "ipynb,py"
  },
  "kernelspec": {
   "display_name": "Python 3",
   "language": "python",
   "name": "python3"
  },
  "language_info": {
   "codemirror_mode": {
    "name": "ipython",
    "version": 3
   },
   "file_extension": ".py",
   "mimetype": "text/x-python",
   "name": "python",
   "nbconvert_exporter": "python",
   "pygments_lexer": "ipython3",
   "version": "3.7.3"
  },
  "toc": {
   "base_numbering": 1,
   "nav_menu": {},
   "number_sections": true,
   "sideBar": true,
   "skip_h1_title": false,
   "title_cell": "Table of Contents",
   "title_sidebar": "Contents",
   "toc_cell": false,
   "toc_position": {
    "height": "calc(100% - 180px)",
    "left": "10px",
    "top": "150px",
    "width": "349.091px"
   },
   "toc_section_display": true,
   "toc_window_display": true
  }
 },
 "nbformat": 4,
 "nbformat_minor": 4
}
