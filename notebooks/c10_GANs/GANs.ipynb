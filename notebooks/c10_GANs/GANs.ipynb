{
 "cells": [
  {
   "cell_type": "markdown",
   "metadata": {},
   "source": [
    "# GANs"
   ]
  },
  {
   "cell_type": "markdown",
   "metadata": {},
   "source": [
    "In this notebook, we are going to create a generative adversarial network (GAN) from scratch! Specifically, we will build and train a GAN that can generate hand-written images of digits (0-9). "
   ]
  },
  {
   "cell_type": "markdown",
   "metadata": {},
   "source": [
    "Generative Adversarial Networks are considered the state of the art for the generation of photorealistic images. \n",
    "\n",
    "Take a look at the images below. Can you distinguish which images are real and which ones are fakes?\n",
    "\n",
    "<table>\n",
    "<tr>\n",
    "<th>\n",
    "    <img src='./this_person_does_not_exist/person1.jpeg' height=200 width=200/>\n",
    "</th>\n",
    "\n",
    "<th>\n",
    "    <img src='./this_person_does_not_exist/person2.jpeg' height=200 width=200/>\n",
    "</th>\n",
    "<th>\n",
    "    <img src='./this_person_does_not_exist/person3.jpeg' height=200 width=200/>\n",
    "</th>\n",
    "</tr>\n",
    "<tr>\n",
    "<th>\n",
    "    <img src='./this_person_does_not_exist/person4.jpeg' height=200 width=200/>\n",
    "</th>\n",
    "<th>\n",
    "    <img src='./this_person_does_not_exist/person5.jpeg' height=200 width=200/>\n",
    "</th>\n",
    "<th>\n",
    "    <img src='./this_person_does_not_exist/person6.jpeg' height=200 width=200/>\n",
    "</th>\n",
    "</tr>\n",
    "</table>\n",
    "\n",
    "Actually all images are fake... Those images were created by a GAN named StyleGAN2 (Dec 2019) - Karras et al. and Nvidia\n",
    "\n",
    "Source: https://thispersondoesnotexist.com/\n"
   ]
  },
  {
   "cell_type": "markdown",
   "metadata": {},
   "source": [
    "## How does a GAN work?\n",
    "\n",
    "GANs are a hot topic that is evolving very fast. However, we will explore the basic concept of GANs as proposed by Ian Goodfellow in 2014. [Original paper in GANs](https://arxiv.org/pdf/1406.2661.pdf)\n",
    "\n",
    "In a GAN the **discriminator** (also called sometimes the **critic**) is a binary classifier that will be trained to distinguish if an image is fake or real. The **generator** will be trying to generate images that fool the **discriminator**. At the beginning both the **generator** $G$ and **discriminator** $D$ will be taking random guesses. Both $G$ and $D$ will be learning from each other's feedback. The input of the $G$ will be a random vector $z$. \n",
    "\n",
    "<img src='Gan.png' height=400 width=400 />\n",
    "\n",
    "In a more formal way, $G$ and $D$ will be playing a MiniMax game trying to get better than their adversary.\n",
    "\n",
    "$min_D max_G \\{ -E_{x \\sim \\text{Data}} log D(\\mathbf x) - E_{z \\sim \\text{Noise}} log(1 - D(G(\\mathbf z))) \\}$\n",
    "\n",
    "\n"
   ]
  },
  {
   "cell_type": "markdown",
   "metadata": {},
   "source": [
    "## Import Libraries\n",
    "We will begin by importing some useful packages and the MNIST dataset which will be used to build and train our GAN."
   ]
  },
  {
   "cell_type": "code",
   "execution_count": 1,
   "metadata": {
    "ExecuteTime": {
     "end_time": "2020-09-01T12:16:21.840392Z",
     "start_time": "2020-09-01T12:16:20.693150Z"
    }
   },
   "outputs": [
    {
     "data": {
      "text/plain": [
       "<torch._C.Generator at 0x11458f768>"
      ]
     },
     "execution_count": 1,
     "metadata": {},
     "output_type": "execute_result"
    }
   ],
   "source": [
    "import torch\n",
    "from torch import nn\n",
    "from torchvision import transforms\n",
    "from torchvision.datasets import MNIST  # Training dataset\n",
    "from torchvision.utils import make_grid\n",
    "from torch.utils.data import DataLoader\n",
    "import matplotlib.pyplot as plt\n",
    "\n",
    "torch.manual_seed(2020)  # Set for testing purposes, please do not change!"
   ]
  },
  {
   "cell_type": "markdown",
   "metadata": {},
   "source": [
    "Function for visualizing images: Given a tensor of images, number of images, and size per image, plots and prints the images in a uniform grid."
   ]
  },
  {
   "cell_type": "code",
   "execution_count": 2,
   "metadata": {
    "ExecuteTime": {
     "end_time": "2020-09-01T12:17:22.891383Z",
     "start_time": "2020-09-01T12:17:22.886727Z"
    }
   },
   "outputs": [],
   "source": [
    "def show_tensor_images(image_tensor, num_images=25, size=(1, 28, 28)):\n",
    "    image_unflat = image_tensor.detach().cpu().view(-1, *size)\n",
    "    image_grid = make_grid(image_unflat[:num_images], nrow=5)\n",
    "    plt.imshow(image_grid.permute(1, 2, 0).squeeze())\n",
    "    plt.show()"
   ]
  },
  {
   "cell_type": "markdown",
   "metadata": {},
   "source": [
    "## MNIST Dataset\n",
    "\n",
    "The training images your discriminator will be using is from a dataset called [MNIST](http://yann.lecun.com/exdb/mnist/). It contains 60,000 images of handwritten digits (28x28 pixels), from 0 to 9, like these. Additionally, these images are also in black-and-white so only one dimension, or \"color channel\", is needed to represent them. Colored images are usually in the RGB space and need 3 channels to represent them.\n",
    "\n",
    "![MNIST Digits](https://upload.wikimedia.org/wikipedia/commons/2/27/MnistExamples.png)\n",
    "\n",
    "Source Image:[MNIST Example](https://en.wikipedia.org/wiki/MNIST_database#/media/File:MnistExamples.png)\n",
    "License: [CC BY-SA 4.0](https://creativecommons.org/licenses/by-sa/4.0)\n",
    "\n",
    "#### Batches\n",
    "While you could train your model after generating one image, it is extremely inefficient and leads to less stable training. In GANs, and in machine learning in general, you will process multiple images per training step. These are called batches.\n",
    "\n",
    "This means that your generator will generate an entire batch of images and receive the discriminator's feedback on each before updating the model. The same goes for the discriminator, it will calculate its loss on the entire batch of generated images as well as on the reals before the model is updated.\n"
   ]
  },
  {
   "cell_type": "markdown",
   "metadata": {},
   "source": [
    "# Generator\n",
    "\n",
    "The first step is to build the generator component. We need to create a function to make a single block for the Generator's neural network. Each block should include a linear transformation to map to another shape, a batch normalization for stabilization, and finally a non-linear activation function (you use a ReLU here) so the output can be transformed in complex ways. You will learn more about activations and batch normalization later in the course.\n",
    "\n"
   ]
  },
  {
   "cell_type": "code",
   "execution_count": 4,
   "metadata": {
    "ExecuteTime": {
     "end_time": "2020-09-02T08:48:16.217177Z",
     "start_time": "2020-09-02T08:48:16.213650Z"
    }
   },
   "outputs": [],
   "source": [
    "def get_generator_block(input_dim, output_dim):\n",
    "    return nn.Sequential(\n",
    "        nn.Linear(input_dim, output_dim),\n",
    "        nn.BatchNorm1d(output_dim),\n",
    "        nn.ReLU(inplace=True),\n",
    "    )"
   ]
  },
  {
   "cell_type": "markdown",
   "metadata": {},
   "source": [
    "- Generator Class Values:\n",
    "    - z_dim: the dimension of the noise vector\n",
    "    - im_dim: the dimension of the output image. MNIST images are 28 x 28 = 784.\n",
    "    - hidden_dim: the inner dimension\n",
    "    \n",
    "- Forward Function: Function for completing a forward pass of the generator: Given a noise vector, returns a generated image.\n",
    "    - noise: a noise tensor with dimensions (n_samples, z_dim)\n",
    "        "
   ]
  },
  {
   "cell_type": "code",
   "execution_count": 5,
   "metadata": {
    "ExecuteTime": {
     "end_time": "2020-09-02T08:52:46.067075Z",
     "start_time": "2020-09-02T08:52:46.054343Z"
    }
   },
   "outputs": [],
   "source": [
    "class Generator(nn.Module):\n",
    "    def __init__(self, z_dim=10, im_dim=784, hidden_dim=128):\n",
    "        super(Generator, self).__init__()\n",
    "        # Build the neural network\n",
    "        self.gen = nn.Sequential(\n",
    "            get_generator_block(z_dim, hidden_dim),\n",
    "            get_generator_block(hidden_dim, hidden_dim * 2),\n",
    "            get_generator_block(hidden_dim * 2, hidden_dim * 4),\n",
    "            get_generator_block(hidden_dim * 4, hidden_dim * 8),\n",
    "            nn.Linear(hidden_dim * 8, im_dim),\n",
    "            # Scale data from\n",
    "            nn.Sigmoid(),\n",
    "        )\n",
    "\n",
    "    def forward(self, noise):\n",
    "        return self.gen(noise)"
   ]
  },
  {
   "cell_type": "markdown",
   "metadata": {
    "ExecuteTime": {
     "end_time": "2020-09-02T08:55:33.517848Z",
     "start_time": "2020-09-02T08:55:33.505463Z"
    }
   },
   "source": [
    "<div class=\"alert alert-success\" style=\"font-size:100%\">\n",
    "\n",
    "**Exercise 1:** <br>\n",
    "Complete the function below `get_noise` for creating noise vectors: Given the dimensions (n_samples, z_dim), creates a tensor of that shape filled with random numbers from the normal distribution.\n",
    "\n",
    "Parameters:    \n",
    "    - n_samples: the number of samples in the batch, a scalar\n",
    "    - z_dim: the dimension of the noise vector, a scalar\n",
    "    - device: the device type\n",
    "    \n",
    "**Hint:** `torch.randn` might be useful.\n",
    "</div>"
   ]
  },
  {
   "cell_type": "code",
   "execution_count": 8,
   "metadata": {
    "ExecuteTime": {
     "end_time": "2020-09-02T08:59:09.447205Z",
     "start_time": "2020-09-02T08:59:09.444432Z"
    }
   },
   "outputs": [],
   "source": [
    "def get_noise(n_samples, z_dim, device=\"cpu\"):\n",
    "    #### COMPLETE CODE HERE ####\n",
    "    print(\"Implement Code here.\")\n",
    "    #### END CODE HERE ####"
   ]
  },
  {
   "cell_type": "markdown",
   "metadata": {
    "ExecuteTime": {
     "end_time": "2020-09-02T08:57:44.612536Z",
     "start_time": "2020-09-02T08:57:44.606506Z"
    }
   },
   "source": [
    "You can click in the button below the reveal the solution for exercise 1\n",
    "\n",
    "<details>    \n",
    "<summary>\n",
    "    <font size=\"4\" color=\"darkblue\"><b>See the solution for Exercise 1</b></font>\n",
    "</summary>\n",
    "    \n",
    "```python\n",
    "def get_noise(n_samples, z_dim, device='cpu'):\n",
    "    return torch.randn((n_samples, z_dim)).to(device)\n",
    "```\n",
    "\n",
    "</details>"
   ]
  },
  {
   "cell_type": "markdown",
   "metadata": {},
   "source": [
    "## Discriminator\n",
    "\n",
    "The second component we need to construct is the discriminator. Similarly yo the generator component, we will need to create a function that builds a neural network block for the discriminator. Instead of using `nn.ReLU` we will use `nn.LeakyReLU`. This will help to avoid the problem of vanishing gradients in the network."
   ]
  },
  {
   "cell_type": "code",
   "execution_count": 9,
   "metadata": {
    "ExecuteTime": {
     "end_time": "2020-09-02T09:09:19.732078Z",
     "start_time": "2020-09-02T09:09:19.728782Z"
    }
   },
   "outputs": [],
   "source": [
    "def get_discriminator_block(input_dim, output_dim):\n",
    "    return nn.Sequential(\n",
    "        nn.Linear(input_dim, output_dim), nn.LeakyReLU(negative_slope=0.2)\n",
    "    )"
   ]
  },
  {
   "cell_type": "markdown",
   "metadata": {},
   "source": [
    "- Discriminator Class Values:\n",
    "    - im_dim: the dimension of the images. A flatten image of 28x28 would have a size of 784.\n",
    "    - hidden_dim: the inner dimension\n",
    "    \n",
    "- Forward Function: Function for completing a forward pass of the generator: Given a noise vector, returns a generated image.\n",
    "    - noise: a noise tensor with dimensions (n_samples, z_dim)"
   ]
  },
  {
   "cell_type": "code",
   "execution_count": 12,
   "metadata": {
    "ExecuteTime": {
     "end_time": "2020-09-02T09:22:16.937851Z",
     "start_time": "2020-09-02T09:22:16.932595Z"
    }
   },
   "outputs": [],
   "source": [
    "class Discriminator(nn.Module):\n",
    "    def __init__(self, im_dim=784, hidden_dim=128):\n",
    "        super(Discriminator, self).__init__()\n",
    "        self.disc = nn.Sequential(\n",
    "            get_discriminator_block(im_dim, hidden_dim * 4),\n",
    "            get_discriminator_block(hidden_dim * 4, hidden_dim * 2),\n",
    "            get_discriminator_block(hidden_dim * 2, hidden_dim),\n",
    "            # Here we want to have a 1-dimension tensor representing fake/real\n",
    "            nn.Linear(hidden_dim, 1),\n",
    "        )\n",
    "\n",
    "    def forward(self, image):\n",
    "        return self.disc(image)"
   ]
  },
  {
   "cell_type": "markdown",
   "metadata": {},
   "source": [
    "## Training\n",
    "\n",
    "First, we will set some parameters:\n",
    "  *   criterion: the loss function\n",
    "  *   n_epochs: the number of times you iterate through the entire dataset when training\n",
    "  *   z_dim: the dimension of the noise vector\n",
    "  *   display_step: how often to display/visualize the images\n",
    "  *   batch_size: the number of images per forward/backward pass\n",
    "  *   lr: the learning rate\n",
    "  *   device: the device type\n",
    "\n",
    "Next, you will load the MNIST dataset as tensors using a dataloader."
   ]
  },
  {
   "cell_type": "code",
   "execution_count": 13,
   "metadata": {
    "ExecuteTime": {
     "end_time": "2020-09-03T02:55:32.249144Z",
     "start_time": "2020-09-03T02:55:16.443881Z"
    }
   },
   "outputs": [
    {
     "name": "stdout",
     "output_type": "stream",
     "text": [
      "Downloading http://yann.lecun.com/exdb/mnist/train-images-idx3-ubyte.gz to ./MNIST/raw/train-images-idx3-ubyte.gz\n"
     ]
    },
    {
     "data": {
      "application/vnd.jupyter.widget-view+json": {
       "model_id": "0da41a98f65c4ca09ff9f7536d60b46c",
       "version_major": 2,
       "version_minor": 0
      },
      "text/plain": [
       "HBox(children=(FloatProgress(value=1.0, bar_style='info', max=1.0), HTML(value='')))"
      ]
     },
     "metadata": {},
     "output_type": "display_data"
    },
    {
     "name": "stdout",
     "output_type": "stream",
     "text": [
      "Extracting ./MNIST/raw/train-images-idx3-ubyte.gz to ./MNIST/raw\n",
      "Downloading http://yann.lecun.com/exdb/mnist/train-labels-idx1-ubyte.gz to ./MNIST/raw/train-labels-idx1-ubyte.gz\n"
     ]
    },
    {
     "data": {
      "application/vnd.jupyter.widget-view+json": {
       "model_id": "20f43aca9662476685094af32b0c5f21",
       "version_major": 2,
       "version_minor": 0
      },
      "text/plain": [
       "HBox(children=(FloatProgress(value=1.0, bar_style='info', max=1.0), HTML(value='')))"
      ]
     },
     "metadata": {},
     "output_type": "display_data"
    },
    {
     "name": "stdout",
     "output_type": "stream",
     "text": [
      "Extracting ./MNIST/raw/train-labels-idx1-ubyte.gz to ./MNIST/raw\n",
      "Downloading http://yann.lecun.com/exdb/mnist/t10k-images-idx3-ubyte.gz to ./MNIST/raw/t10k-images-idx3-ubyte.gz\n"
     ]
    },
    {
     "data": {
      "application/vnd.jupyter.widget-view+json": {
       "model_id": "767d5059f267456a8fe4df7388d8ecdf",
       "version_major": 2,
       "version_minor": 0
      },
      "text/plain": [
       "HBox(children=(FloatProgress(value=1.0, bar_style='info', max=1.0), HTML(value='')))"
      ]
     },
     "metadata": {},
     "output_type": "display_data"
    },
    {
     "name": "stdout",
     "output_type": "stream",
     "text": [
      "Extracting ./MNIST/raw/t10k-images-idx3-ubyte.gz to ./MNIST/raw\n",
      "Downloading http://yann.lecun.com/exdb/mnist/t10k-labels-idx1-ubyte.gz to ./MNIST/raw/t10k-labels-idx1-ubyte.gz\n",
      "\n",
      "\n"
     ]
    },
    {
     "data": {
      "application/vnd.jupyter.widget-view+json": {
       "model_id": "2ad90d4a401b4083bf804e5e2337aa9f",
       "version_major": 2,
       "version_minor": 0
      },
      "text/plain": [
       "HBox(children=(FloatProgress(value=1.0, bar_style='info', max=1.0), HTML(value='')))"
      ]
     },
     "metadata": {},
     "output_type": "display_data"
    },
    {
     "name": "stdout",
     "output_type": "stream",
     "text": [
      "Extracting ./MNIST/raw/t10k-labels-idx1-ubyte.gz to ./MNIST/raw\n",
      "Processing...\n",
      "Done!\n"
     ]
    },
    {
     "name": "stderr",
     "output_type": "stream",
     "text": [
      "/usr/local/lib/python3.6/site-packages/torchvision/datasets/mnist.py:469: UserWarning: The given NumPy array is not writeable, and PyTorch does not support non-writeable tensors. This means you can write to the underlying (supposedly non-writeable) NumPy array using the tensor. You may want to copy the array to protect its data or make it writeable before converting it to a tensor. This type of warning will be suppressed for the rest of this program. (Triggered internally at  ../torch/csrc/utils/tensor_numpy.cpp:141.)\n",
      "  return torch.from_numpy(parsed.astype(m[2], copy=False)).view(*s)\n"
     ]
    }
   ],
   "source": [
    "# Set your parameters\n",
    "criterion = nn.BCEWithLogitsLoss()\n",
    "n_epochs = 200\n",
    "z_dim = 64\n",
    "display_step = 500\n",
    "batch_size = 128\n",
    "lr = 0.00001\n",
    "device = \"cuda\"\n",
    "# Load MNIST dataset as tensors\n",
    "dataloader = DataLoader(\n",
    "    MNIST(\".\", download=True, transform=transforms.ToTensor()),\n",
    "    batch_size=batch_size,\n",
    "    shuffle=True,\n",
    ")"
   ]
  },
  {
   "cell_type": "markdown",
   "metadata": {},
   "source": [
    "Let's initialize our generator, discriminator, and optimizers."
   ]
  },
  {
   "cell_type": "code",
   "execution_count": 16,
   "metadata": {
    "ExecuteTime": {
     "end_time": "2020-09-03T02:57:12.872848Z",
     "start_time": "2020-09-03T02:57:12.846572Z"
    }
   },
   "outputs": [],
   "source": [
    "device = \"cpu\"\n",
    "gen = Generator(z_dim).to(device)\n",
    "gen_opt = torch.optim.Adam(gen.parameters(), lr=lr)\n",
    "disc = Discriminator().to(device)\n",
    "disc_opt = torch.optim.Adam(disc.parameters(), lr=lr)"
   ]
  },
  {
   "cell_type": "markdown",
   "metadata": {},
   "source": [
    "Before we start training our GAN, we will need to create some functions to calculate the discriminator's loss and the generator's loss. This is how the discriminator and generator will know how they are doing and improve themselves. Since the generator is needed when calculating the discriminator's loss, you will need to call `.detach()` on the generator result to ensure that only the discriminator is updated!"
   ]
  },
  {
   "cell_type": "markdown",
   "metadata": {},
   "source": [
    "`get_disc_loss` will return the loss of a discriminator given a generator and real images\n",
    "- Parameters:\n",
    "    - gen: the generator model, which returns an image given z-dimensional noise\n",
    "    - disc: the discriminator model, which returns a single-dimensional prediction of real/fake\n",
    "    - criterion: \n",
    "        the loss function, which should be used to compare the discriminator's predictions to the ground truth reality of the images (e.g. fake = 0, real = 1)\n",
    "    - real: a batch of real images\n",
    "    - num_images: the number of images the generator should produce, which is also the length of the real images\n",
    "    - z_dim: the dimension of the noise tensor\n",
    "    - device: the device type"
   ]
  },
  {
   "cell_type": "code",
   "execution_count": 17,
   "metadata": {
    "ExecuteTime": {
     "end_time": "2020-09-03T03:07:53.609711Z",
     "start_time": "2020-09-03T03:07:53.603908Z"
    }
   },
   "outputs": [],
   "source": [
    "def get_disc_loss(gen, disc, criterion, real, num_images, z_dim, device):\n",
    "    # Create noise vectors and generate a batch of num_images fake images.\n",
    "    # Make sure to pass the device argument to the noise.\n",
    "    images = get_noise(num_images, z_dim, device)\n",
    "    # Don't forget to detach the generator!\n",
    "    fake_images = gen(images).detach()  # detach to avoid training G on these labels\n",
    "    # Train Fake Images\n",
    "    # Get the discriminator's prediction of the fake image and calculate the loss.\n",
    "    pred_fake = disc(fake_images)\n",
    "    # Remember the loss function you set earlier? You need a 'ground truth' tensor in order to calculate the loss.\n",
    "    ground_truth_fake = torch.zeros_like(pred_fake)\n",
    "    loss_fake = criterion(pred_fake, ground_truth_fake)\n",
    "    loss_fake.backward(retain_graph=True)\n",
    "    # Repeat the process with `ground_truth_real`\n",
    "    # Train Real Images\n",
    "    pred_real = disc(real)\n",
    "    ground_truth_real = torch.ones_like(pred_real)\n",
    "    loss_real = criterion(pred_real, ground_truth_real)\n",
    "    loss_real.backward(retain_graph=True)\n",
    "    disc_loss = (loss_real + loss_fake) / 2\n",
    "    return disc_loss"
   ]
  },
  {
   "cell_type": "markdown",
   "metadata": {},
   "source": [
    "`get_gen_loss` will return the loss of a generator given a discriminator\n",
    "- Parameters:\n",
    "    - gen: the generator model, which returns an image given z-dimensional noise\n",
    "    - disc: the discriminator model, which returns a single-dimensional prediction of real/fake\n",
    "    - criterion: the loss function, which should be used to compare \n",
    "       the discriminator's predictions to the ground truth reality of the images \n",
    "       (e.g. fake = 0, real = 1)\n",
    "    - num_images: the number of images the generator should produce, \n",
    "        which is also the length of the real images\n",
    "    - z_dim: the dimension of the noise tensor\n",
    "    - device: the device type"
   ]
  },
  {
   "cell_type": "code",
   "execution_count": 18,
   "metadata": {
    "ExecuteTime": {
     "end_time": "2020-09-03T03:13:55.405922Z",
     "start_time": "2020-09-03T03:13:55.401532Z"
    }
   },
   "outputs": [],
   "source": [
    "def get_gen_loss(gen, disc, criterion, num_images, z_dim, device):\n",
    "    # Create noise vectors and generate a batch of fake images.\n",
    "    images = get_noise(num_images, z_dim, device)\n",
    "    # Get the discriminator's prediction of the fake image.\n",
    "    fake_images = gen(images)\n",
    "    # Get the discriminator's prediction of the fake image.\n",
    "    pred_fake = disc(fake_images)\n",
    "    # Target vectors with 1`s. In this case, 1 represents real\n",
    "    target = torch.ones_like(pred_fake)\n",
    "    # Calculate the generator's loss.\n",
    "    gen_loss = criterion(pred_fake, target)\n",
    "    gen_loss.backward(retain_graph=True)\n",
    "    return gen_loss"
   ]
  },
  {
   "cell_type": "markdown",
   "metadata": {},
   "source": [
    "# Training Time !"
   ]
  },
  {
   "cell_type": "code",
   "execution_count": 21,
   "metadata": {
    "ExecuteTime": {
     "end_time": "2020-09-03T03:20:19.132396Z",
     "start_time": "2020-09-03T03:20:19.129108Z"
    }
   },
   "outputs": [],
   "source": [
    "def get_noise(n_samples, z_dim, device=\"cpu\"):\n",
    "    return torch.randn((n_samples, z_dim)).to(device)"
   ]
  },
  {
   "cell_type": "markdown",
   "metadata": {},
   "source": [
    "For each epoch, we will process the entire dataset in batches. For every batch, we will need to update the discriminator and generator using their loss.\n",
    "\n",
    "<div class=\"alert alert-info\" style=\"font-size:100%\">\n",
    "\n",
    "**Warning:** <br>\n",
    "Note that you may see a loss to be greater than 1, this is okay since binary cross entropy loss can be any positive number for a sufficiently confident wrong guess.\n",
    "    \n",
    "It’s also often the case that the discriminator will outperform the generator, especially at the start, and balancing them is difficult. The most important thing is that neither one gets too good (that is, near-perfect accuracy), which is remarkably hard to do in a standard GAN.\n",
    "    \n",
    "**Computation Time:** On a GPU, this should take about 15 seconds per 500 steps, on average, while on CPU it will take roughly 1.5 minutes.\n",
    "</div>\n",
    "\n",
    "\n"
   ]
  },
  {
   "cell_type": "code",
   "execution_count": null,
   "metadata": {},
   "outputs": [],
   "source": [
    "cur_step = 0\n",
    "mean_generator_loss = 0\n",
    "mean_discriminator_loss = 0\n",
    "test_generator = True  # Whether the generator should be tested\n",
    "for epoch in range(n_epochs):\n",
    "    # Dataloader returns the batches\n",
    "    for real, _ in dataloader:\n",
    "        cur_batch_size = len(real)\n",
    "        # Flatten the batch of real images from the dataset\n",
    "        real = real.view(cur_batch_size, -1).to(device)\n",
    "\n",
    "        ## Update Discriminator ##\n",
    "        # Zero out the gradients before backpropagation\n",
    "        disc_opt.zero_grad()\n",
    "        # Calculate discriminator loss\n",
    "        disc_loss = get_disc_loss(\n",
    "            gen, disc, criterion, real, cur_batch_size, z_dim, device\n",
    "        )\n",
    "        # Update gradients\n",
    "        disc_loss.backward(retain_graph=True)\n",
    "        # Update optimizer\n",
    "        disc_opt.step()\n",
    "\n",
    "        # For testing purposes, we keep track of the generator weights\n",
    "        if test_generator:\n",
    "            old_generator_weights = gen.gen[0][0].weight.detach().clone()\n",
    "\n",
    "        # Zero out the gradients\n",
    "        gen_opt.zero_grad()\n",
    "        # Calculate the generator loss, assigning it to gen_loss\n",
    "        gen_loss = get_gen_loss(gen, disc, criterion, cur_batch_size, z_dim, device)\n",
    "        # Backprop through the generator (update the gradients and optimizer)\n",
    "        gen_loss.backward(retain_graph=True)\n",
    "        gen_opt.step()\n",
    "\n",
    "        # We make sure that your code changes the generator weights\n",
    "        if test_generator:\n",
    "            assert torch.any(\n",
    "                gen.gen[0][0].weight.detach().clone() != old_generator_weights\n",
    "            )\n",
    "\n",
    "        # Keep track of the average discriminator loss\n",
    "        mean_discriminator_loss += disc_loss.item() / display_step\n",
    "        # Keep track of the average generator loss\n",
    "        mean_generator_loss += gen_loss.item() / display_step\n",
    "\n",
    "        ## Visualization code ##\n",
    "        if cur_step % display_step == 0 and cur_step > 0:\n",
    "            print(\n",
    "                f\"Step {cur_step}: Generator loss: {mean_generator_loss}, discriminator loss: {mean_discriminator_loss}\"\n",
    "            )\n",
    "            fake_noise = get_noise(cur_batch_size, z_dim, device=device)\n",
    "            fake = gen(fake_noise)\n",
    "            print(\"Fake images\")\n",
    "            show_tensor_images(fake)\n",
    "            print(\"Real images\")\n",
    "            show_tensor_images(real)\n",
    "            mean_generator_loss = 0\n",
    "            mean_discriminator_loss = 0\n",
    "        cur_step += 1"
   ]
  },
  {
   "cell_type": "code",
   "execution_count": null,
   "metadata": {},
   "outputs": [],
   "source": []
  }
 ],
 "metadata": {
  "jupytext": {
   "formats": "ipynb,py"
  },
  "kernelspec": {
   "display_name": "Python 3",
   "language": "python",
   "name": "python3"
  },
  "language_info": {
   "codemirror_mode": {
    "name": "ipython",
    "version": 3
   },
   "file_extension": ".py",
   "mimetype": "text/x-python",
   "name": "python",
   "nbconvert_exporter": "python",
   "pygments_lexer": "ipython3",
   "version": "3.6.5"
  },
  "varInspector": {
   "cols": {
    "lenName": 16,
    "lenType": 16,
    "lenVar": 40
   },
   "kernels_config": {
    "python": {
     "delete_cmd_postfix": "",
     "delete_cmd_prefix": "del ",
     "library": "var_list.py",
     "varRefreshCmd": "print(var_dic_list())"
    },
    "r": {
     "delete_cmd_postfix": ") ",
     "delete_cmd_prefix": "rm(",
     "library": "var_list.r",
     "varRefreshCmd": "cat(var_dic_list()) "
    }
   },
   "types_to_exclude": [
    "module",
    "function",
    "builtin_function_or_method",
    "instance",
    "_Feature"
   ],
   "window_display": false
  }
 },
 "nbformat": 4,
 "nbformat_minor": 4
}
