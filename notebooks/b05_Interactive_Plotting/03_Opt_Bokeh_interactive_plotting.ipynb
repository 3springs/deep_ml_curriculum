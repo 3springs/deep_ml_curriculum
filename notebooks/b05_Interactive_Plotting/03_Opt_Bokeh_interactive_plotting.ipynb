{
 "cells": [
  {
   "cell_type": "markdown",
   "metadata": {
    "ExecuteTime": {
     "end_time": "2020-09-24T05:47:55.265670Z",
     "start_time": "2020-09-24T05:47:55.256283Z"
    }
   },
   "source": [
    "# Plotting libraries\n",
    "\n",
    "We mention a few plotting libraries:\n",
    "\n",
    "- [Matplotlib](https://matplotlib.org/3.1.1/gallery/index.html) is for basic plotting, it is the classic library that can do 80% of your plots\n",
    "- [Seaborn](https://seaborn.pydata.org/examples/index.html) is for statistical visualization \n",
    "- [Holoviews](http://holoviews.org/gallery/index.html) - very high-level tool for interactive dashboards and large data (when using datashader backend). Not as well-suited to making figures for publication.\n",
    "    - Bokeh is usefull for interactive plotting but because it's browser based, it can struggle with large amounts of data, unless you use server-based plotting. We will use it as a Holoviews backend but it's worth looking into by itself.\n",
    "    - Datashader is useul for plotting large quantity of data points. We will use it as a holoview backend\n",
    "\n",
    "But the important thing is to get get good at one so you can easily produce plots. Matplotlib is the default choice unless you expect to need interactivity or large datasets.\n",
    "\n",
    "Most plotting workflows start by finding an example and modifying it. For that we browse the galleries."
   ]
  },
  {
   "cell_type": "markdown",
   "metadata": {
    "ExecuteTime": {
     "end_time": "2020-09-23T23:03:17.339325Z",
     "start_time": "2020-09-23T23:03:17.331470Z"
    }
   },
   "source": [
    "# Bokeh\n",
    "\n",
    "> Bokeh is an interactive visualization library for modern web browsers. It provides elegant, concise construction of versatile graphics, and affords high-performance interactivity over large or streaming datasets. Bokeh can help anyone who would like to quickly and easily make interactive plots, dashboards, and data applications.\n",
    "\n",
    "Look at the [Bokeh gallery](https://docs.bokeh.org/en/latest/docs/gallery.html) to see some examples"
   ]
  },
  {
   "cell_type": "code",
   "execution_count": 1,
   "metadata": {
    "ExecuteTime": {
     "end_time": "2020-09-24T05:48:34.081675Z",
     "start_time": "2020-09-24T05:48:33.226403Z"
    }
   },
   "outputs": [],
   "source": [
    "import pandas as pd\n",
    "import numpy as np\n",
    "from bokeh.io import show, output_notebook\n",
    "from bokeh.plotting import figure\n",
    "from bokeh.models import ColumnDataSource, HoverTool, CategoricalColorMapper"
   ]
  },
  {
   "cell_type": "markdown",
   "metadata": {},
   "source": [
    "Bokeh export the plots into html files directly so it can be used in a webpage. But since here we are working in jupyter notebook, we need Bokeh to return everything within the notebook environment. To do that we use the following command. "
   ]
  },
  {
   "cell_type": "code",
   "execution_count": 2,
   "metadata": {
    "ExecuteTime": {
     "end_time": "2020-09-24T05:48:34.094401Z",
     "start_time": "2020-09-24T05:48:34.083870Z"
    },
    "scrolled": true
   },
   "outputs": [
    {
     "data": {
      "text/html": [
       "\n",
       "    <div class=\"bk-root\">\n",
       "        <a href=\"https://bokeh.org\" target=\"_blank\" class=\"bk-logo bk-logo-small bk-logo-notebook\"></a>\n",
       "        <span id=\"1001\">Loading BokehJS ...</span>\n",
       "    </div>"
      ]
     },
     "metadata": {},
     "output_type": "display_data"
    },
    {
     "data": {
      "application/javascript": [
       "\n",
       "(function(root) {\n",
       "  function now() {\n",
       "    return new Date();\n",
       "  }\n",
       "\n",
       "  var force = true;\n",
       "\n",
       "  if (typeof root._bokeh_onload_callbacks === \"undefined\" || force === true) {\n",
       "    root._bokeh_onload_callbacks = [];\n",
       "    root._bokeh_is_loading = undefined;\n",
       "  }\n",
       "\n",
       "  var JS_MIME_TYPE = 'application/javascript';\n",
       "  var HTML_MIME_TYPE = 'text/html';\n",
       "  var EXEC_MIME_TYPE = 'application/vnd.bokehjs_exec.v0+json';\n",
       "  var CLASS_NAME = 'output_bokeh rendered_html';\n",
       "\n",
       "  /**\n",
       "   * Render data to the DOM node\n",
       "   */\n",
       "  function render(props, node) {\n",
       "    var script = document.createElement(\"script\");\n",
       "    node.appendChild(script);\n",
       "  }\n",
       "\n",
       "  /**\n",
       "   * Handle when an output is cleared or removed\n",
       "   */\n",
       "  function handleClearOutput(event, handle) {\n",
       "    var cell = handle.cell;\n",
       "\n",
       "    var id = cell.output_area._bokeh_element_id;\n",
       "    var server_id = cell.output_area._bokeh_server_id;\n",
       "    // Clean up Bokeh references\n",
       "    if (id != null && id in Bokeh.index) {\n",
       "      Bokeh.index[id].model.document.clear();\n",
       "      delete Bokeh.index[id];\n",
       "    }\n",
       "\n",
       "    if (server_id !== undefined) {\n",
       "      // Clean up Bokeh references\n",
       "      var cmd = \"from bokeh.io.state import curstate; print(curstate().uuid_to_server['\" + server_id + \"'].get_sessions()[0].document.roots[0]._id)\";\n",
       "      cell.notebook.kernel.execute(cmd, {\n",
       "        iopub: {\n",
       "          output: function(msg) {\n",
       "            var id = msg.content.text.trim();\n",
       "            if (id in Bokeh.index) {\n",
       "              Bokeh.index[id].model.document.clear();\n",
       "              delete Bokeh.index[id];\n",
       "            }\n",
       "          }\n",
       "        }\n",
       "      });\n",
       "      // Destroy server and session\n",
       "      var cmd = \"import bokeh.io.notebook as ion; ion.destroy_server('\" + server_id + \"')\";\n",
       "      cell.notebook.kernel.execute(cmd);\n",
       "    }\n",
       "  }\n",
       "\n",
       "  /**\n",
       "   * Handle when a new output is added\n",
       "   */\n",
       "  function handleAddOutput(event, handle) {\n",
       "    var output_area = handle.output_area;\n",
       "    var output = handle.output;\n",
       "\n",
       "    // limit handleAddOutput to display_data with EXEC_MIME_TYPE content only\n",
       "    if ((output.output_type != \"display_data\") || (!output.data.hasOwnProperty(EXEC_MIME_TYPE))) {\n",
       "      return\n",
       "    }\n",
       "\n",
       "    var toinsert = output_area.element.find(\".\" + CLASS_NAME.split(' ')[0]);\n",
       "\n",
       "    if (output.metadata[EXEC_MIME_TYPE][\"id\"] !== undefined) {\n",
       "      toinsert[toinsert.length - 1].firstChild.textContent = output.data[JS_MIME_TYPE];\n",
       "      // store reference to embed id on output_area\n",
       "      output_area._bokeh_element_id = output.metadata[EXEC_MIME_TYPE][\"id\"];\n",
       "    }\n",
       "    if (output.metadata[EXEC_MIME_TYPE][\"server_id\"] !== undefined) {\n",
       "      var bk_div = document.createElement(\"div\");\n",
       "      bk_div.innerHTML = output.data[HTML_MIME_TYPE];\n",
       "      var script_attrs = bk_div.children[0].attributes;\n",
       "      for (var i = 0; i < script_attrs.length; i++) {\n",
       "        toinsert[toinsert.length - 1].firstChild.setAttribute(script_attrs[i].name, script_attrs[i].value);\n",
       "        toinsert[toinsert.length - 1].firstChild.textContent = bk_div.children[0].textContent\n",
       "      }\n",
       "      // store reference to server id on output_area\n",
       "      output_area._bokeh_server_id = output.metadata[EXEC_MIME_TYPE][\"server_id\"];\n",
       "    }\n",
       "  }\n",
       "\n",
       "  function register_renderer(events, OutputArea) {\n",
       "\n",
       "    function append_mime(data, metadata, element) {\n",
       "      // create a DOM node to render to\n",
       "      var toinsert = this.create_output_subarea(\n",
       "        metadata,\n",
       "        CLASS_NAME,\n",
       "        EXEC_MIME_TYPE\n",
       "      );\n",
       "      this.keyboard_manager.register_events(toinsert);\n",
       "      // Render to node\n",
       "      var props = {data: data, metadata: metadata[EXEC_MIME_TYPE]};\n",
       "      render(props, toinsert[toinsert.length - 1]);\n",
       "      element.append(toinsert);\n",
       "      return toinsert\n",
       "    }\n",
       "\n",
       "    /* Handle when an output is cleared or removed */\n",
       "    events.on('clear_output.CodeCell', handleClearOutput);\n",
       "    events.on('delete.Cell', handleClearOutput);\n",
       "\n",
       "    /* Handle when a new output is added */\n",
       "    events.on('output_added.OutputArea', handleAddOutput);\n",
       "\n",
       "    /**\n",
       "     * Register the mime type and append_mime function with output_area\n",
       "     */\n",
       "    OutputArea.prototype.register_mime_type(EXEC_MIME_TYPE, append_mime, {\n",
       "      /* Is output safe? */\n",
       "      safe: true,\n",
       "      /* Index of renderer in `output_area.display_order` */\n",
       "      index: 0\n",
       "    });\n",
       "  }\n",
       "\n",
       "  // register the mime type if in Jupyter Notebook environment and previously unregistered\n",
       "  if (root.Jupyter !== undefined) {\n",
       "    var events = require('base/js/events');\n",
       "    var OutputArea = require('notebook/js/outputarea').OutputArea;\n",
       "\n",
       "    if (OutputArea.prototype.mime_types().indexOf(EXEC_MIME_TYPE) == -1) {\n",
       "      register_renderer(events, OutputArea);\n",
       "    }\n",
       "  }\n",
       "\n",
       "  \n",
       "  if (typeof (root._bokeh_timeout) === \"undefined\" || force === true) {\n",
       "    root._bokeh_timeout = Date.now() + 5000;\n",
       "    root._bokeh_failed_load = false;\n",
       "  }\n",
       "\n",
       "  var NB_LOAD_WARNING = {'data': {'text/html':\n",
       "     \"<div style='background-color: #fdd'>\\n\"+\n",
       "     \"<p>\\n\"+\n",
       "     \"BokehJS does not appear to have successfully loaded. If loading BokehJS from CDN, this \\n\"+\n",
       "     \"may be due to a slow or bad network connection. Possible fixes:\\n\"+\n",
       "     \"</p>\\n\"+\n",
       "     \"<ul>\\n\"+\n",
       "     \"<li>re-rerun `output_notebook()` to attempt to load from CDN again, or</li>\\n\"+\n",
       "     \"<li>use INLINE resources instead, as so:</li>\\n\"+\n",
       "     \"</ul>\\n\"+\n",
       "     \"<code>\\n\"+\n",
       "     \"from bokeh.resources import INLINE\\n\"+\n",
       "     \"output_notebook(resources=INLINE)\\n\"+\n",
       "     \"</code>\\n\"+\n",
       "     \"</div>\"}};\n",
       "\n",
       "  function display_loaded() {\n",
       "    var el = document.getElementById(\"1001\");\n",
       "    if (el != null) {\n",
       "      el.textContent = \"BokehJS is loading...\";\n",
       "    }\n",
       "    if (root.Bokeh !== undefined) {\n",
       "      if (el != null) {\n",
       "        el.textContent = \"BokehJS \" + root.Bokeh.version + \" successfully loaded.\";\n",
       "      }\n",
       "    } else if (Date.now() < root._bokeh_timeout) {\n",
       "      setTimeout(display_loaded, 100)\n",
       "    }\n",
       "  }\n",
       "\n",
       "\n",
       "  function run_callbacks() {\n",
       "    try {\n",
       "      root._bokeh_onload_callbacks.forEach(function(callback) {\n",
       "        if (callback != null)\n",
       "          callback();\n",
       "      });\n",
       "    } finally {\n",
       "      delete root._bokeh_onload_callbacks\n",
       "    }\n",
       "    console.debug(\"Bokeh: all callbacks have finished\");\n",
       "  }\n",
       "\n",
       "  function load_libs(css_urls, js_urls, callback) {\n",
       "    if (css_urls == null) css_urls = [];\n",
       "    if (js_urls == null) js_urls = [];\n",
       "\n",
       "    root._bokeh_onload_callbacks.push(callback);\n",
       "    if (root._bokeh_is_loading > 0) {\n",
       "      console.debug(\"Bokeh: BokehJS is being loaded, scheduling callback at\", now());\n",
       "      return null;\n",
       "    }\n",
       "    if (js_urls == null || js_urls.length === 0) {\n",
       "      run_callbacks();\n",
       "      return null;\n",
       "    }\n",
       "    console.debug(\"Bokeh: BokehJS not loaded, scheduling load and callback at\", now());\n",
       "    root._bokeh_is_loading = css_urls.length + js_urls.length;\n",
       "\n",
       "    function on_load() {\n",
       "      root._bokeh_is_loading--;\n",
       "      if (root._bokeh_is_loading === 0) {\n",
       "        console.debug(\"Bokeh: all BokehJS libraries/stylesheets loaded\");\n",
       "        run_callbacks()\n",
       "      }\n",
       "    }\n",
       "\n",
       "    function on_error() {\n",
       "      console.error(\"failed to load \" + url);\n",
       "    }\n",
       "\n",
       "    for (var i = 0; i < css_urls.length; i++) {\n",
       "      var url = css_urls[i];\n",
       "      const element = document.createElement(\"link\");\n",
       "      element.onload = on_load;\n",
       "      element.onerror = on_error;\n",
       "      element.rel = \"stylesheet\";\n",
       "      element.type = \"text/css\";\n",
       "      element.href = url;\n",
       "      console.debug(\"Bokeh: injecting link tag for BokehJS stylesheet: \", url);\n",
       "      document.body.appendChild(element);\n",
       "    }\n",
       "\n",
       "    const hashes = {\"https://cdn.bokeh.org/bokeh/release/bokeh-2.2.1.min.js\": \"qkRvDQVAIfzsJo40iRBbxt6sttt0hv4lh74DG7OK4MCHv4C5oohXYoHUM5W11uqS\", \"https://cdn.bokeh.org/bokeh/release/bokeh-widgets-2.2.1.min.js\": \"Sb7Mr06a9TNlet/GEBeKaf5xH3eb6AlCzwjtU82wNPyDrnfoiVl26qnvlKjmcAd+\", \"https://cdn.bokeh.org/bokeh/release/bokeh-tables-2.2.1.min.js\": \"HaJ15vgfmcfRtB4c4YBOI4f1MUujukqInOWVqZJZZGK7Q+ivud0OKGSTn/Vm2iso\"};\n",
       "\n",
       "    for (var i = 0; i < js_urls.length; i++) {\n",
       "      var url = js_urls[i];\n",
       "      var element = document.createElement('script');\n",
       "      element.onload = on_load;\n",
       "      element.onerror = on_error;\n",
       "      element.async = false;\n",
       "      element.src = url;\n",
       "      if (url in hashes) {\n",
       "        element.crossOrigin = \"anonymous\";\n",
       "        element.integrity = \"sha384-\" + hashes[url];\n",
       "      }\n",
       "      console.debug(\"Bokeh: injecting script tag for BokehJS library: \", url);\n",
       "      document.head.appendChild(element);\n",
       "    }\n",
       "  };\n",
       "\n",
       "  function inject_raw_css(css) {\n",
       "    const element = document.createElement(\"style\");\n",
       "    element.appendChild(document.createTextNode(css));\n",
       "    document.body.appendChild(element);\n",
       "  }\n",
       "\n",
       "  \n",
       "  var js_urls = [\"https://cdn.bokeh.org/bokeh/release/bokeh-2.2.1.min.js\", \"https://cdn.bokeh.org/bokeh/release/bokeh-widgets-2.2.1.min.js\", \"https://cdn.bokeh.org/bokeh/release/bokeh-tables-2.2.1.min.js\"];\n",
       "  var css_urls = [];\n",
       "  \n",
       "\n",
       "  var inline_js = [\n",
       "    function(Bokeh) {\n",
       "      Bokeh.set_log_level(\"info\");\n",
       "    },\n",
       "    function(Bokeh) {\n",
       "    \n",
       "    \n",
       "    }\n",
       "  ];\n",
       "\n",
       "  function run_inline_js() {\n",
       "    \n",
       "    if (root.Bokeh !== undefined || force === true) {\n",
       "      \n",
       "    for (var i = 0; i < inline_js.length; i++) {\n",
       "      inline_js[i].call(root, root.Bokeh);\n",
       "    }\n",
       "    if (force === true) {\n",
       "        display_loaded();\n",
       "      }} else if (Date.now() < root._bokeh_timeout) {\n",
       "      setTimeout(run_inline_js, 100);\n",
       "    } else if (!root._bokeh_failed_load) {\n",
       "      console.log(\"Bokeh: BokehJS failed to load within specified timeout.\");\n",
       "      root._bokeh_failed_load = true;\n",
       "    } else if (force !== true) {\n",
       "      var cell = $(document.getElementById(\"1001\")).parents('.cell').data().cell;\n",
       "      cell.output_area.append_execute_result(NB_LOAD_WARNING)\n",
       "    }\n",
       "\n",
       "  }\n",
       "\n",
       "  if (root._bokeh_is_loading === 0) {\n",
       "    console.debug(\"Bokeh: BokehJS loaded, going straight to plotting\");\n",
       "    run_inline_js();\n",
       "  } else {\n",
       "    load_libs(css_urls, js_urls, function() {\n",
       "      console.debug(\"Bokeh: BokehJS plotting callback run at\", now());\n",
       "      run_inline_js();\n",
       "    });\n",
       "  }\n",
       "}(window));"
      ],
      "application/vnd.bokehjs_load.v0+json": "\n(function(root) {\n  function now() {\n    return new Date();\n  }\n\n  var force = true;\n\n  if (typeof root._bokeh_onload_callbacks === \"undefined\" || force === true) {\n    root._bokeh_onload_callbacks = [];\n    root._bokeh_is_loading = undefined;\n  }\n\n  \n\n  \n  if (typeof (root._bokeh_timeout) === \"undefined\" || force === true) {\n    root._bokeh_timeout = Date.now() + 5000;\n    root._bokeh_failed_load = false;\n  }\n\n  var NB_LOAD_WARNING = {'data': {'text/html':\n     \"<div style='background-color: #fdd'>\\n\"+\n     \"<p>\\n\"+\n     \"BokehJS does not appear to have successfully loaded. If loading BokehJS from CDN, this \\n\"+\n     \"may be due to a slow or bad network connection. Possible fixes:\\n\"+\n     \"</p>\\n\"+\n     \"<ul>\\n\"+\n     \"<li>re-rerun `output_notebook()` to attempt to load from CDN again, or</li>\\n\"+\n     \"<li>use INLINE resources instead, as so:</li>\\n\"+\n     \"</ul>\\n\"+\n     \"<code>\\n\"+\n     \"from bokeh.resources import INLINE\\n\"+\n     \"output_notebook(resources=INLINE)\\n\"+\n     \"</code>\\n\"+\n     \"</div>\"}};\n\n  function display_loaded() {\n    var el = document.getElementById(\"1001\");\n    if (el != null) {\n      el.textContent = \"BokehJS is loading...\";\n    }\n    if (root.Bokeh !== undefined) {\n      if (el != null) {\n        el.textContent = \"BokehJS \" + root.Bokeh.version + \" successfully loaded.\";\n      }\n    } else if (Date.now() < root._bokeh_timeout) {\n      setTimeout(display_loaded, 100)\n    }\n  }\n\n\n  function run_callbacks() {\n    try {\n      root._bokeh_onload_callbacks.forEach(function(callback) {\n        if (callback != null)\n          callback();\n      });\n    } finally {\n      delete root._bokeh_onload_callbacks\n    }\n    console.debug(\"Bokeh: all callbacks have finished\");\n  }\n\n  function load_libs(css_urls, js_urls, callback) {\n    if (css_urls == null) css_urls = [];\n    if (js_urls == null) js_urls = [];\n\n    root._bokeh_onload_callbacks.push(callback);\n    if (root._bokeh_is_loading > 0) {\n      console.debug(\"Bokeh: BokehJS is being loaded, scheduling callback at\", now());\n      return null;\n    }\n    if (js_urls == null || js_urls.length === 0) {\n      run_callbacks();\n      return null;\n    }\n    console.debug(\"Bokeh: BokehJS not loaded, scheduling load and callback at\", now());\n    root._bokeh_is_loading = css_urls.length + js_urls.length;\n\n    function on_load() {\n      root._bokeh_is_loading--;\n      if (root._bokeh_is_loading === 0) {\n        console.debug(\"Bokeh: all BokehJS libraries/stylesheets loaded\");\n        run_callbacks()\n      }\n    }\n\n    function on_error() {\n      console.error(\"failed to load \" + url);\n    }\n\n    for (var i = 0; i < css_urls.length; i++) {\n      var url = css_urls[i];\n      const element = document.createElement(\"link\");\n      element.onload = on_load;\n      element.onerror = on_error;\n      element.rel = \"stylesheet\";\n      element.type = \"text/css\";\n      element.href = url;\n      console.debug(\"Bokeh: injecting link tag for BokehJS stylesheet: \", url);\n      document.body.appendChild(element);\n    }\n\n    const hashes = {\"https://cdn.bokeh.org/bokeh/release/bokeh-2.2.1.min.js\": \"qkRvDQVAIfzsJo40iRBbxt6sttt0hv4lh74DG7OK4MCHv4C5oohXYoHUM5W11uqS\", \"https://cdn.bokeh.org/bokeh/release/bokeh-widgets-2.2.1.min.js\": \"Sb7Mr06a9TNlet/GEBeKaf5xH3eb6AlCzwjtU82wNPyDrnfoiVl26qnvlKjmcAd+\", \"https://cdn.bokeh.org/bokeh/release/bokeh-tables-2.2.1.min.js\": \"HaJ15vgfmcfRtB4c4YBOI4f1MUujukqInOWVqZJZZGK7Q+ivud0OKGSTn/Vm2iso\"};\n\n    for (var i = 0; i < js_urls.length; i++) {\n      var url = js_urls[i];\n      var element = document.createElement('script');\n      element.onload = on_load;\n      element.onerror = on_error;\n      element.async = false;\n      element.src = url;\n      if (url in hashes) {\n        element.crossOrigin = \"anonymous\";\n        element.integrity = \"sha384-\" + hashes[url];\n      }\n      console.debug(\"Bokeh: injecting script tag for BokehJS library: \", url);\n      document.head.appendChild(element);\n    }\n  };\n\n  function inject_raw_css(css) {\n    const element = document.createElement(\"style\");\n    element.appendChild(document.createTextNode(css));\n    document.body.appendChild(element);\n  }\n\n  \n  var js_urls = [\"https://cdn.bokeh.org/bokeh/release/bokeh-2.2.1.min.js\", \"https://cdn.bokeh.org/bokeh/release/bokeh-widgets-2.2.1.min.js\", \"https://cdn.bokeh.org/bokeh/release/bokeh-tables-2.2.1.min.js\"];\n  var css_urls = [];\n  \n\n  var inline_js = [\n    function(Bokeh) {\n      Bokeh.set_log_level(\"info\");\n    },\n    function(Bokeh) {\n    \n    \n    }\n  ];\n\n  function run_inline_js() {\n    \n    if (root.Bokeh !== undefined || force === true) {\n      \n    for (var i = 0; i < inline_js.length; i++) {\n      inline_js[i].call(root, root.Bokeh);\n    }\n    if (force === true) {\n        display_loaded();\n      }} else if (Date.now() < root._bokeh_timeout) {\n      setTimeout(run_inline_js, 100);\n    } else if (!root._bokeh_failed_load) {\n      console.log(\"Bokeh: BokehJS failed to load within specified timeout.\");\n      root._bokeh_failed_load = true;\n    } else if (force !== true) {\n      var cell = $(document.getElementById(\"1001\")).parents('.cell').data().cell;\n      cell.output_area.append_execute_result(NB_LOAD_WARNING)\n    }\n\n  }\n\n  if (root._bokeh_is_loading === 0) {\n    console.debug(\"Bokeh: BokehJS loaded, going straight to plotting\");\n    run_inline_js();\n  } else {\n    load_libs(css_urls, js_urls, function() {\n      console.debug(\"Bokeh: BokehJS plotting callback run at\", now());\n      run_inline_js();\n    });\n  }\n}(window));"
     },
     "metadata": {},
     "output_type": "display_data"
    }
   ],
   "source": [
    "output_notebook()"
   ]
  },
  {
   "cell_type": "markdown",
   "metadata": {},
   "source": [
    "# Basic Plotting"
   ]
  },
  {
   "cell_type": "markdown",
   "metadata": {},
   "source": [
    "## Scatter Plots\n",
    "Similar to other plotting libraries bokeh is capable of creating multiple types of plots (called _glyphs_ in bokeh). <br>\n",
    "First step is to create an empty figure where we can add the plots to later."
   ]
  },
  {
   "cell_type": "code",
   "execution_count": 3,
   "metadata": {
    "ExecuteTime": {
     "end_time": "2020-09-24T05:48:34.110708Z",
     "start_time": "2020-09-24T05:48:34.096944Z"
    }
   },
   "outputs": [],
   "source": [
    "p = figure(plot_width=600, plot_height=400)"
   ]
  },
  {
   "cell_type": "markdown",
   "metadata": {},
   "source": [
    "Then we specify the type of plot and add in the data. <br>\n",
    "_We are going to generate some random data here._"
   ]
  },
  {
   "cell_type": "code",
   "execution_count": 4,
   "metadata": {
    "ExecuteTime": {
     "end_time": "2020-09-24T05:48:34.134068Z",
     "start_time": "2020-09-24T05:48:34.113123Z"
    }
   },
   "outputs": [
    {
     "data": {
      "text/html": [
       "<div style=\"display: table;\"><div style=\"display: table-row;\"><div style=\"display: table-cell;\"><b title=\"bokeh.models.renderers.GlyphRenderer\">GlyphRenderer</b>(</div><div style=\"display: table-cell;\">id&nbsp;=&nbsp;'1036', <span id=\"1039\" style=\"cursor: pointer;\">&hellip;)</span></div></div><div class=\"1038\" style=\"display: none;\"><div style=\"display: table-cell;\"></div><div style=\"display: table-cell;\">data_source&nbsp;=&nbsp;ColumnDataSource(id='1033', ...),</div></div><div class=\"1038\" style=\"display: none;\"><div style=\"display: table-cell;\"></div><div style=\"display: table-cell;\">glyph&nbsp;=&nbsp;Circle(id='1034', ...),</div></div><div class=\"1038\" style=\"display: none;\"><div style=\"display: table-cell;\"></div><div style=\"display: table-cell;\">hover_glyph&nbsp;=&nbsp;None,</div></div><div class=\"1038\" style=\"display: none;\"><div style=\"display: table-cell;\"></div><div style=\"display: table-cell;\">js_event_callbacks&nbsp;=&nbsp;{},</div></div><div class=\"1038\" style=\"display: none;\"><div style=\"display: table-cell;\"></div><div style=\"display: table-cell;\">js_property_callbacks&nbsp;=&nbsp;{},</div></div><div class=\"1038\" style=\"display: none;\"><div style=\"display: table-cell;\"></div><div style=\"display: table-cell;\">level&nbsp;=&nbsp;'glyph',</div></div><div class=\"1038\" style=\"display: none;\"><div style=\"display: table-cell;\"></div><div style=\"display: table-cell;\">muted&nbsp;=&nbsp;False,</div></div><div class=\"1038\" style=\"display: none;\"><div style=\"display: table-cell;\"></div><div style=\"display: table-cell;\">muted_glyph&nbsp;=&nbsp;None,</div></div><div class=\"1038\" style=\"display: none;\"><div style=\"display: table-cell;\"></div><div style=\"display: table-cell;\">name&nbsp;=&nbsp;None,</div></div><div class=\"1038\" style=\"display: none;\"><div style=\"display: table-cell;\"></div><div style=\"display: table-cell;\">nonselection_glyph&nbsp;=&nbsp;Circle(id='1035', ...),</div></div><div class=\"1038\" style=\"display: none;\"><div style=\"display: table-cell;\"></div><div style=\"display: table-cell;\">selection_glyph&nbsp;=&nbsp;None,</div></div><div class=\"1038\" style=\"display: none;\"><div style=\"display: table-cell;\"></div><div style=\"display: table-cell;\">subscribed_events&nbsp;=&nbsp;[],</div></div><div class=\"1038\" style=\"display: none;\"><div style=\"display: table-cell;\"></div><div style=\"display: table-cell;\">tags&nbsp;=&nbsp;[],</div></div><div class=\"1038\" style=\"display: none;\"><div style=\"display: table-cell;\"></div><div style=\"display: table-cell;\">view&nbsp;=&nbsp;CDSView(id='1037', ...),</div></div><div class=\"1038\" style=\"display: none;\"><div style=\"display: table-cell;\"></div><div style=\"display: table-cell;\">visible&nbsp;=&nbsp;True,</div></div><div class=\"1038\" style=\"display: none;\"><div style=\"display: table-cell;\"></div><div style=\"display: table-cell;\">x_range_name&nbsp;=&nbsp;'default',</div></div><div class=\"1038\" style=\"display: none;\"><div style=\"display: table-cell;\"></div><div style=\"display: table-cell;\">y_range_name&nbsp;=&nbsp;'default')</div></div></div>\n",
       "<script>\n",
       "(function() {\n",
       "  var expanded = false;\n",
       "  var ellipsis = document.getElementById(\"1039\");\n",
       "  ellipsis.addEventListener(\"click\", function() {\n",
       "    var rows = document.getElementsByClassName(\"1038\");\n",
       "    for (var i = 0; i < rows.length; i++) {\n",
       "      var el = rows[i];\n",
       "      el.style.display = expanded ? \"none\" : \"table-row\";\n",
       "    }\n",
       "    ellipsis.innerHTML = expanded ? \"&hellip;)\" : \"&lsaquo;&lsaquo;&lsaquo;\";\n",
       "    expanded = !expanded;\n",
       "  });\n",
       "})();\n",
       "</script>\n"
      ],
      "text/plain": [
       "GlyphRenderer(id='1036', ...)"
      ]
     },
     "execution_count": 4,
     "metadata": {},
     "output_type": "execute_result"
    }
   ],
   "source": [
    "np.random.seed(1)\n",
    "x = np.random.randn(100)\n",
    "y = np.random.randn(100)\n",
    "p.circle(x, y)"
   ]
  },
  {
   "cell_type": "markdown",
   "metadata": {},
   "source": [
    "Now the plot is generated and we only need to display it. To see the plot we can use `show`:"
   ]
  },
  {
   "cell_type": "code",
   "execution_count": 5,
   "metadata": {
    "ExecuteTime": {
     "end_time": "2020-09-24T05:48:34.169464Z",
     "start_time": "2020-09-24T05:48:34.135843Z"
    }
   },
   "outputs": [
    {
     "data": {
      "text/html": [
       "\n",
       "\n",
       "\n",
       "\n",
       "\n",
       "\n",
       "  <div class=\"bk-root\" id=\"2d09ce4a-b4b7-48ee-bb2d-ec0af10b0824\" data-root-id=\"1002\"></div>\n"
      ]
     },
     "metadata": {},
     "output_type": "display_data"
    },
    {
     "data": {
      "application/javascript": [
       "(function(root) {\n",
       "  function embed_document(root) {\n",
       "    \n",
       "  var docs_json = {\"080f399b-a325-46bf-abdf-3db5a9baa2d3\":{\"roots\":{\"references\":[{\"attributes\":{\"below\":[{\"id\":\"1011\"}],\"center\":[{\"id\":\"1014\"},{\"id\":\"1018\"}],\"left\":[{\"id\":\"1015\"}],\"plot_height\":400,\"renderers\":[{\"id\":\"1036\"}],\"title\":{\"id\":\"1041\"},\"toolbar\":{\"id\":\"1026\"},\"x_range\":{\"id\":\"1003\"},\"x_scale\":{\"id\":\"1007\"},\"y_range\":{\"id\":\"1005\"},\"y_scale\":{\"id\":\"1009\"}},\"id\":\"1002\",\"subtype\":\"Figure\",\"type\":\"Plot\"},{\"attributes\":{\"data_source\":{\"id\":\"1033\"},\"glyph\":{\"id\":\"1034\"},\"hover_glyph\":null,\"muted_glyph\":null,\"nonselection_glyph\":{\"id\":\"1035\"},\"selection_glyph\":null,\"view\":{\"id\":\"1037\"}},\"id\":\"1036\",\"type\":\"GlyphRenderer\"},{\"attributes\":{\"text\":\"\"},\"id\":\"1041\",\"type\":\"Title\"},{\"attributes\":{\"axis\":{\"id\":\"1015\"},\"dimension\":1,\"ticker\":null},\"id\":\"1018\",\"type\":\"Grid\"},{\"attributes\":{},\"id\":\"1019\",\"type\":\"PanTool\"},{\"attributes\":{\"fill_alpha\":{\"value\":0.1},\"fill_color\":{\"value\":\"#1f77b4\"},\"line_alpha\":{\"value\":0.1},\"line_color\":{\"value\":\"#1f77b4\"},\"x\":{\"field\":\"x\"},\"y\":{\"field\":\"y\"}},\"id\":\"1035\",\"type\":\"Circle\"},{\"attributes\":{},\"id\":\"1020\",\"type\":\"WheelZoomTool\"},{\"attributes\":{\"data\":{\"x\":{\"__ndarray__\":\"UHxlkFH9+T+t2bcvgpPjv9KPVHLI5uC/DLhcJeEq8b99ETVXa7HrP1mizB6NaQLABcaPvb/q+z/2rxqTzlvovyR77fQia9Q/xiOiU17rz792SM1Ky2T3P/SaYw0rewDANvi5xHui1L+U+0u3WJTYv8uOQG3rI/I/7FDklSeZ8b+IIyukIBLGv+6yb4lqF+y/DJIrSwqdpT+iqVAXbKbiP8att9oinPG/kngLz8lQ8j8WV2rI1NnsP/tGAAJvFOA/B+0P28/T7D9DklA/GeHlv8LEmdu7db+/5KaXvdLx7b/M2D4LFCXRv4CmHAes+OA/hsiSuhUi5r830prnaGTZv1v3NppR/eW/5TaUs+wL679zV3Aq2Xrlv3qcY7Hl74m/HO/t0IDg8b8Yj+VlVQHOP49DSLqMjvo/+sE7ZdO+5z+yNs0/EY7Iv2BBd9t0Z+y/UAqTgrjo57/5D5ZGSxT7P/PeSlp5A6o/QLa2sURi5L9NL3kp62/IPw52o5BSzQBAY+86s7zCvj8J2mW8IMDjPy0r3JL9NdM/1Hut8EKL1r9pcHkpwUfyv3f49pOhW9a/AXZV1gu9yr95fKb/ncXiPx5Hj77z2Oo/RPaNl5bL7T9CoIcPEEfSP0RbHJATU+w/9gKYJgck6L9E1I56vwv0PwDVeszraeA/lAl8+PMT07+0Y7id4UPfPwqa7fOqWLO/Bb6kaicb8j9cGydwK1H4P8EDcPUOfAFAgHyeigxY9r/oWuATFxv3v6u16ZeVJOC/3Iq2PRh8xD/A575nkwnsP/4m+OtcM9Q/DCq/1HctAMAYJAm32JjTvwtLfa3Efuo/MJevib5zzT9VDFRFZWLoPyT3vqI/dcy/pzE7vnCyyb91135gPuHHP4WLm0NJPto/Dw5gnuJhyT8uLa/BWXe+Pwa0SMEQduW/+b6ZTAEq2D85id3GrS+/P4Vw3bddEvI/HETMg8Qu8z/MeN6aNLPHP6Za1CqrBNi/okBfwHpw5L+fvi8QiBrbP047OgiPzLM/fvrL2LIB1r/sep/EU1KmP9j8hwIM1+O/NdG8RkdW5j8=\",\"dtype\":\"float64\",\"order\":\"little\",\"shape\":[100]},\"y\":{\"__ndarray__\":\"+T+3IMGd3L8qbx1klZfzP3LabJvO0tk/YCgdY5j+4j9SX5dIwoTxv21/QNVSrsU/QJxJcaOy5z9gGd4ft4Tuv8oIOFi5CdG/aPvXltqyoD/ffgDeSfj1vyVUdkySK9Q/3EaRfr8T6z8ecwiTJ4Hrv2/ThmZYb9Y/xZHl4xz/9L9seZnV5c+jv3u00xw02vm/bHDgsVPx8T/UWXApbSvaP9Z3p/EvNZm/M0VuvR/O6L9a4/HlTWH0P3JBD68/ef8/LMIFMUu6/b8klTTvU8fzP2JZIYTbCvo/efucz/uh1T9MSSCtMzDzv6wzAFyGoOs/INZNfmUox7/7DjhaUVPjv7DkjXBRrvO/AxGOzwCe4T8SXyWBrF7pP7bSgLf28+O/tabZtI+o4D/dP77qOE/yvytgenfYqOk/Ee2WP6vXpz+z0mGuhOHHv4YCBHsEDLq/wjGJV+rN6z8LQXhFXwPoP9i/jkNh8eA/s3nHeDGgwT/hqVLfFeyzP4HROGfFyeM/vdYVuGHCzT/OS0oMdtflP+7eDAb02NO/VT+/OIx6A8AxQ7SLBp/wPy8tZi/vfgFAkqKvplA/3D9r03n7xaO5v6lNX3gFd8G/rtTx0lV6vr9iOCqdxdORP2R6F+nJ8/G/Lro2rQmM4L+gwj/OpOfvv7lit6Km2M8/sCgFLCv80r9iB0bWirHfPzwLzVKsXMa/lMLSzw6Q7z+AWGkxFFXLP6E/WpSNhgFAhqwTjX5X/r+eU2mgirPkv9PsrAn72Ow/3vQC1AI6BEAg03evQ9PPv73RGUPIW6Y/Y4Mbd933zL/bcSn5pU31PzDXYIVAY9K/obco0yHD5T+CnB4goXfUv/pRwJFmXPS/9gxIdSoR1D8GjrEJFxrgP58RfZ8NsfQ/UR9nnkFGvL/q8C0WbsHjv/USLo8jAuI/XS8MGXnQzj9Tv9enavbRPxpGhJ+Dt7K/A5ImLb+Q8j93aTzHxKXXP53b5Wh7ef4/BhuFY+PG8T+o8hWZ7xblP9tAE8n8Cfq/6NZTFTNG4z/RUPBT5+XaPwx9KuxQ8+k/p1X16Qi28D8=\",\"dtype\":\"float64\",\"order\":\"little\",\"shape\":[100]}},\"selected\":{\"id\":\"1048\"},\"selection_policy\":{\"id\":\"1047\"}},\"id\":\"1033\",\"type\":\"ColumnDataSource\"},{\"attributes\":{\"overlay\":{\"id\":\"1025\"}},\"id\":\"1021\",\"type\":\"BoxZoomTool\"},{\"attributes\":{},\"id\":\"1022\",\"type\":\"SaveTool\"},{\"attributes\":{},\"id\":\"1016\",\"type\":\"BasicTicker\"},{\"attributes\":{},\"id\":\"1023\",\"type\":\"ResetTool\"},{\"attributes\":{},\"id\":\"1024\",\"type\":\"HelpTool\"},{\"attributes\":{},\"id\":\"1048\",\"type\":\"Selection\"},{\"attributes\":{\"active_drag\":\"auto\",\"active_inspect\":\"auto\",\"active_multi\":null,\"active_scroll\":\"auto\",\"active_tap\":\"auto\",\"tools\":[{\"id\":\"1019\"},{\"id\":\"1020\"},{\"id\":\"1021\"},{\"id\":\"1022\"},{\"id\":\"1023\"},{\"id\":\"1024\"}]},\"id\":\"1026\",\"type\":\"Toolbar\"},{\"attributes\":{},\"id\":\"1005\",\"type\":\"DataRange1d\"},{\"attributes\":{},\"id\":\"1007\",\"type\":\"LinearScale\"},{\"attributes\":{},\"id\":\"1045\",\"type\":\"BasicTickFormatter\"},{\"attributes\":{},\"id\":\"1009\",\"type\":\"LinearScale\"},{\"attributes\":{\"fill_color\":{\"value\":\"#1f77b4\"},\"line_color\":{\"value\":\"#1f77b4\"},\"x\":{\"field\":\"x\"},\"y\":{\"field\":\"y\"}},\"id\":\"1034\",\"type\":\"Circle\"},{\"attributes\":{\"formatter\":{\"id\":\"1045\"},\"ticker\":{\"id\":\"1012\"}},\"id\":\"1011\",\"type\":\"LinearAxis\"},{\"attributes\":{},\"id\":\"1047\",\"type\":\"UnionRenderers\"},{\"attributes\":{},\"id\":\"1012\",\"type\":\"BasicTicker\"},{\"attributes\":{},\"id\":\"1043\",\"type\":\"BasicTickFormatter\"},{\"attributes\":{\"axis\":{\"id\":\"1011\"},\"ticker\":null},\"id\":\"1014\",\"type\":\"Grid\"},{\"attributes\":{\"bottom_units\":\"screen\",\"fill_alpha\":0.5,\"fill_color\":\"lightgrey\",\"left_units\":\"screen\",\"level\":\"overlay\",\"line_alpha\":1.0,\"line_color\":\"black\",\"line_dash\":[4,4],\"line_width\":2,\"right_units\":\"screen\",\"top_units\":\"screen\"},\"id\":\"1025\",\"type\":\"BoxAnnotation\"},{\"attributes\":{\"formatter\":{\"id\":\"1043\"},\"ticker\":{\"id\":\"1016\"}},\"id\":\"1015\",\"type\":\"LinearAxis\"},{\"attributes\":{},\"id\":\"1003\",\"type\":\"DataRange1d\"},{\"attributes\":{\"source\":{\"id\":\"1033\"}},\"id\":\"1037\",\"type\":\"CDSView\"}],\"root_ids\":[\"1002\"]},\"title\":\"Bokeh Application\",\"version\":\"2.2.1\"}};\n",
       "  var render_items = [{\"docid\":\"080f399b-a325-46bf-abdf-3db5a9baa2d3\",\"root_ids\":[\"1002\"],\"roots\":{\"1002\":\"2d09ce4a-b4b7-48ee-bb2d-ec0af10b0824\"}}];\n",
       "  root.Bokeh.embed.embed_items_notebook(docs_json, render_items);\n",
       "\n",
       "  }\n",
       "  if (root.Bokeh !== undefined) {\n",
       "    embed_document(root);\n",
       "  } else {\n",
       "    var attempts = 0;\n",
       "    var timer = setInterval(function(root) {\n",
       "      if (root.Bokeh !== undefined) {\n",
       "        clearInterval(timer);\n",
       "        embed_document(root);\n",
       "      } else {\n",
       "        attempts++;\n",
       "        if (attempts > 100) {\n",
       "          clearInterval(timer);\n",
       "          console.log(\"Bokeh: ERROR: Unable to run BokehJS code because BokehJS library is missing\");\n",
       "        }\n",
       "      }\n",
       "    }, 10, root)\n",
       "  }\n",
       "})(window);"
      ],
      "application/vnd.bokehjs_exec.v0+json": ""
     },
     "metadata": {
      "application/vnd.bokehjs_exec.v0+json": {
       "id": "1002"
      }
     },
     "output_type": "display_data"
    }
   ],
   "source": [
    "show(p)"
   ]
  },
  {
   "cell_type": "markdown",
   "metadata": {},
   "source": [
    "__Note:__ this plot is interactive. You can zoom in and out and move the plots."
   ]
  },
  {
   "cell_type": "markdown",
   "metadata": {},
   "source": [
    "There are are a number of parameters you can pass in to adjust the way the plot looks, including:\n",
    "- `size`\n",
    "- `fill_color`\n",
    "- `fill_alpha`\n",
    "- `line_color`\n",
    "- `line_width`\n",
    "- `radius`\n",
    "\n"
   ]
  },
  {
   "cell_type": "code",
   "execution_count": 6,
   "metadata": {
    "ExecuteTime": {
     "end_time": "2020-09-24T05:48:34.226602Z",
     "start_time": "2020-09-24T05:48:34.172024Z"
    }
   },
   "outputs": [
    {
     "data": {
      "text/html": [
       "\n",
       "\n",
       "\n",
       "\n",
       "\n",
       "\n",
       "  <div class=\"bk-root\" id=\"20aacd9c-5774-4341-a6a1-f32f9171e8ba\" data-root-id=\"1094\"></div>\n"
      ]
     },
     "metadata": {},
     "output_type": "display_data"
    },
    {
     "data": {
      "application/javascript": [
       "(function(root) {\n",
       "  function embed_document(root) {\n",
       "    \n",
       "  var docs_json = {\"a0158f3c-4525-4676-8418-89352af2bdc0\":{\"roots\":{\"references\":[{\"attributes\":{\"below\":[{\"id\":\"1103\"}],\"center\":[{\"id\":\"1106\"},{\"id\":\"1110\"}],\"left\":[{\"id\":\"1107\"}],\"plot_height\":400,\"renderers\":[{\"id\":\"1128\"}],\"title\":{\"id\":\"1140\"},\"toolbar\":{\"id\":\"1118\"},\"x_range\":{\"id\":\"1095\"},\"x_scale\":{\"id\":\"1099\"},\"y_range\":{\"id\":\"1097\"},\"y_scale\":{\"id\":\"1101\"}},\"id\":\"1094\",\"subtype\":\"Figure\",\"type\":\"Plot\"},{\"attributes\":{\"data_source\":{\"id\":\"1125\"},\"glyph\":{\"id\":\"1126\"},\"hover_glyph\":null,\"muted_glyph\":null,\"nonselection_glyph\":{\"id\":\"1127\"},\"selection_glyph\":null,\"view\":{\"id\":\"1129\"}},\"id\":\"1128\",\"type\":\"GlyphRenderer\"},{\"attributes\":{\"overlay\":{\"id\":\"1117\"}},\"id\":\"1113\",\"type\":\"BoxZoomTool\"},{\"attributes\":{},\"id\":\"1144\",\"type\":\"BasicTickFormatter\"},{\"attributes\":{},\"id\":\"1097\",\"type\":\"DataRange1d\"},{\"attributes\":{},\"id\":\"1114\",\"type\":\"SaveTool\"},{\"attributes\":{},\"id\":\"1146\",\"type\":\"UnionRenderers\"},{\"attributes\":{},\"id\":\"1095\",\"type\":\"DataRange1d\"},{\"attributes\":{},\"id\":\"1115\",\"type\":\"ResetTool\"},{\"attributes\":{},\"id\":\"1147\",\"type\":\"Selection\"},{\"attributes\":{},\"id\":\"1116\",\"type\":\"HelpTool\"},{\"attributes\":{\"active_drag\":\"auto\",\"active_inspect\":\"auto\",\"active_multi\":null,\"active_scroll\":\"auto\",\"active_tap\":\"auto\",\"tools\":[{\"id\":\"1111\"},{\"id\":\"1112\"},{\"id\":\"1113\"},{\"id\":\"1114\"},{\"id\":\"1115\"},{\"id\":\"1116\"}]},\"id\":\"1118\",\"type\":\"Toolbar\"},{\"attributes\":{\"text\":\"\"},\"id\":\"1140\",\"type\":\"Title\"},{\"attributes\":{},\"id\":\"1099\",\"type\":\"LinearScale\"},{\"attributes\":{},\"id\":\"1101\",\"type\":\"LinearScale\"},{\"attributes\":{\"formatter\":{\"id\":\"1144\"},\"ticker\":{\"id\":\"1104\"}},\"id\":\"1103\",\"type\":\"LinearAxis\"},{\"attributes\":{\"axis\":{\"id\":\"1103\"},\"ticker\":null},\"id\":\"1106\",\"type\":\"Grid\"},{\"attributes\":{\"axis\":{\"id\":\"1107\"},\"dimension\":1,\"ticker\":null},\"id\":\"1110\",\"type\":\"Grid\"},{\"attributes\":{},\"id\":\"1112\",\"type\":\"WheelZoomTool\"},{\"attributes\":{\"data\":{\"x\":{\"__ndarray__\":\"UHxlkFH9+T+t2bcvgpPjv9KPVHLI5uC/DLhcJeEq8b99ETVXa7HrP1mizB6NaQLABcaPvb/q+z/2rxqTzlvovyR77fQia9Q/xiOiU17rz792SM1Ky2T3P/SaYw0rewDANvi5xHui1L+U+0u3WJTYv8uOQG3rI/I/7FDklSeZ8b+IIyukIBLGv+6yb4lqF+y/DJIrSwqdpT+iqVAXbKbiP8att9oinPG/kngLz8lQ8j8WV2rI1NnsP/tGAAJvFOA/B+0P28/T7D9DklA/GeHlv8LEmdu7db+/5KaXvdLx7b/M2D4LFCXRv4CmHAes+OA/hsiSuhUi5r830prnaGTZv1v3NppR/eW/5TaUs+wL679zV3Aq2Xrlv3qcY7Hl74m/HO/t0IDg8b8Yj+VlVQHOP49DSLqMjvo/+sE7ZdO+5z+yNs0/EY7Iv2BBd9t0Z+y/UAqTgrjo57/5D5ZGSxT7P/PeSlp5A6o/QLa2sURi5L9NL3kp62/IPw52o5BSzQBAY+86s7zCvj8J2mW8IMDjPy0r3JL9NdM/1Hut8EKL1r9pcHkpwUfyv3f49pOhW9a/AXZV1gu9yr95fKb/ncXiPx5Hj77z2Oo/RPaNl5bL7T9CoIcPEEfSP0RbHJATU+w/9gKYJgck6L9E1I56vwv0PwDVeszraeA/lAl8+PMT07+0Y7id4UPfPwqa7fOqWLO/Bb6kaicb8j9cGydwK1H4P8EDcPUOfAFAgHyeigxY9r/oWuATFxv3v6u16ZeVJOC/3Iq2PRh8xD/A575nkwnsP/4m+OtcM9Q/DCq/1HctAMAYJAm32JjTvwtLfa3Efuo/MJevib5zzT9VDFRFZWLoPyT3vqI/dcy/pzE7vnCyyb91135gPuHHP4WLm0NJPto/Dw5gnuJhyT8uLa/BWXe+Pwa0SMEQduW/+b6ZTAEq2D85id3GrS+/P4Vw3bddEvI/HETMg8Qu8z/MeN6aNLPHP6Za1CqrBNi/okBfwHpw5L+fvi8QiBrbP047OgiPzLM/fvrL2LIB1r/sep/EU1KmP9j8hwIM1+O/NdG8RkdW5j8=\",\"dtype\":\"float64\",\"order\":\"little\",\"shape\":[100]},\"y\":{\"__ndarray__\":\"+T+3IMGd3L8qbx1klZfzP3LabJvO0tk/YCgdY5j+4j9SX5dIwoTxv21/QNVSrsU/QJxJcaOy5z9gGd4ft4Tuv8oIOFi5CdG/aPvXltqyoD/ffgDeSfj1vyVUdkySK9Q/3EaRfr8T6z8ecwiTJ4Hrv2/ThmZYb9Y/xZHl4xz/9L9seZnV5c+jv3u00xw02vm/bHDgsVPx8T/UWXApbSvaP9Z3p/EvNZm/M0VuvR/O6L9a4/HlTWH0P3JBD68/ef8/LMIFMUu6/b8klTTvU8fzP2JZIYTbCvo/efucz/uh1T9MSSCtMzDzv6wzAFyGoOs/INZNfmUox7/7DjhaUVPjv7DkjXBRrvO/AxGOzwCe4T8SXyWBrF7pP7bSgLf28+O/tabZtI+o4D/dP77qOE/yvytgenfYqOk/Ee2WP6vXpz+z0mGuhOHHv4YCBHsEDLq/wjGJV+rN6z8LQXhFXwPoP9i/jkNh8eA/s3nHeDGgwT/hqVLfFeyzP4HROGfFyeM/vdYVuGHCzT/OS0oMdtflP+7eDAb02NO/VT+/OIx6A8AxQ7SLBp/wPy8tZi/vfgFAkqKvplA/3D9r03n7xaO5v6lNX3gFd8G/rtTx0lV6vr9iOCqdxdORP2R6F+nJ8/G/Lro2rQmM4L+gwj/OpOfvv7lit6Km2M8/sCgFLCv80r9iB0bWirHfPzwLzVKsXMa/lMLSzw6Q7z+AWGkxFFXLP6E/WpSNhgFAhqwTjX5X/r+eU2mgirPkv9PsrAn72Ow/3vQC1AI6BEAg03evQ9PPv73RGUPIW6Y/Y4Mbd933zL/bcSn5pU31PzDXYIVAY9K/obco0yHD5T+CnB4goXfUv/pRwJFmXPS/9gxIdSoR1D8GjrEJFxrgP58RfZ8NsfQ/UR9nnkFGvL/q8C0WbsHjv/USLo8jAuI/XS8MGXnQzj9Tv9enavbRPxpGhJ+Dt7K/A5ImLb+Q8j93aTzHxKXXP53b5Wh7ef4/BhuFY+PG8T+o8hWZ7xblP9tAE8n8Cfq/6NZTFTNG4z/RUPBT5+XaPwx9KuxQ8+k/p1X16Qi28D8=\",\"dtype\":\"float64\",\"order\":\"little\",\"shape\":[100]}},\"selected\":{\"id\":\"1147\"},\"selection_policy\":{\"id\":\"1146\"}},\"id\":\"1125\",\"type\":\"ColumnDataSource\"},{\"attributes\":{\"bottom_units\":\"screen\",\"fill_alpha\":0.5,\"fill_color\":\"lightgrey\",\"left_units\":\"screen\",\"level\":\"overlay\",\"line_alpha\":1.0,\"line_color\":\"black\",\"line_dash\":[4,4],\"line_width\":2,\"right_units\":\"screen\",\"top_units\":\"screen\"},\"id\":\"1117\",\"type\":\"BoxAnnotation\"},{\"attributes\":{},\"id\":\"1108\",\"type\":\"BasicTicker\"},{\"attributes\":{},\"id\":\"1111\",\"type\":\"PanTool\"},{\"attributes\":{\"formatter\":{\"id\":\"1142\"},\"ticker\":{\"id\":\"1108\"}},\"id\":\"1107\",\"type\":\"LinearAxis\"},{\"attributes\":{\"source\":{\"id\":\"1125\"}},\"id\":\"1129\",\"type\":\"CDSView\"},{\"attributes\":{\"fill_alpha\":{\"value\":0.1},\"fill_color\":{\"value\":\"orange\"},\"line_alpha\":{\"value\":0.1},\"line_color\":{\"value\":\"chocolate\"},\"line_width\":{\"value\":2},\"size\":{\"units\":\"screen\",\"value\":15},\"x\":{\"field\":\"x\"},\"y\":{\"field\":\"y\"}},\"id\":\"1127\",\"type\":\"Circle\"},{\"attributes\":{},\"id\":\"1104\",\"type\":\"BasicTicker\"},{\"attributes\":{\"fill_alpha\":{\"value\":0.5},\"fill_color\":{\"value\":\"orange\"},\"line_color\":{\"value\":\"chocolate\"},\"line_width\":{\"value\":2},\"size\":{\"units\":\"screen\",\"value\":15},\"x\":{\"field\":\"x\"},\"y\":{\"field\":\"y\"}},\"id\":\"1126\",\"type\":\"Circle\"},{\"attributes\":{},\"id\":\"1142\",\"type\":\"BasicTickFormatter\"}],\"root_ids\":[\"1094\"]},\"title\":\"Bokeh Application\",\"version\":\"2.2.1\"}};\n",
       "  var render_items = [{\"docid\":\"a0158f3c-4525-4676-8418-89352af2bdc0\",\"root_ids\":[\"1094\"],\"roots\":{\"1094\":\"20aacd9c-5774-4341-a6a1-f32f9171e8ba\"}}];\n",
       "  root.Bokeh.embed.embed_items_notebook(docs_json, render_items);\n",
       "\n",
       "  }\n",
       "  if (root.Bokeh !== undefined) {\n",
       "    embed_document(root);\n",
       "  } else {\n",
       "    var attempts = 0;\n",
       "    var timer = setInterval(function(root) {\n",
       "      if (root.Bokeh !== undefined) {\n",
       "        clearInterval(timer);\n",
       "        embed_document(root);\n",
       "      } else {\n",
       "        attempts++;\n",
       "        if (attempts > 100) {\n",
       "          clearInterval(timer);\n",
       "          console.log(\"Bokeh: ERROR: Unable to run BokehJS code because BokehJS library is missing\");\n",
       "        }\n",
       "      }\n",
       "    }, 10, root)\n",
       "  }\n",
       "})(window);"
      ],
      "application/vnd.bokehjs_exec.v0+json": ""
     },
     "metadata": {
      "application/vnd.bokehjs_exec.v0+json": {
       "id": "1094"
      }
     },
     "output_type": "display_data"
    }
   ],
   "source": [
    "p = figure(plot_width=600, plot_height=400)\n",
    "np.random.seed(1)\n",
    "x = np.random.randn(100)\n",
    "y = np.random.randn(100)\n",
    "p.circle(\n",
    "    x,\n",
    "    y,\n",
    "    fill_color=\"orange\",\n",
    "    fill_alpha=0.5,\n",
    "    size=15,\n",
    "    line_color=\"chocolate\",\n",
    "    line_width=2,\n",
    ")\n",
    "show(p)"
   ]
  },
  {
   "cell_type": "markdown",
   "metadata": {},
   "source": [
    "We used `.circle` to create a scatter plot with circles as the marker. There are multiple other options as well:\n",
    "- `astrisk`\n",
    "- `cross`\n",
    "- `diamond`\n",
    "- `hex`\n",
    "- `square`\n",
    "- `triangle and inverted_triangle`\n",
    "- `x`"
   ]
  },
  {
   "cell_type": "code",
   "execution_count": 7,
   "metadata": {
    "ExecuteTime": {
     "end_time": "2020-09-24T05:48:34.277072Z",
     "start_time": "2020-09-24T05:48:34.228201Z"
    }
   },
   "outputs": [
    {
     "data": {
      "text/html": [
       "\n",
       "\n",
       "\n",
       "\n",
       "\n",
       "\n",
       "  <div class=\"bk-root\" id=\"457891e1-c907-4f82-9608-5ada66b1005a\" data-root-id=\"1193\"></div>\n"
      ]
     },
     "metadata": {},
     "output_type": "display_data"
    },
    {
     "data": {
      "application/javascript": [
       "(function(root) {\n",
       "  function embed_document(root) {\n",
       "    \n",
       "  var docs_json = {\"05655175-30ae-4ff4-9085-7c7fb955c7c0\":{\"roots\":{\"references\":[{\"attributes\":{\"below\":[{\"id\":\"1202\"}],\"center\":[{\"id\":\"1205\"},{\"id\":\"1209\"}],\"left\":[{\"id\":\"1206\"}],\"plot_height\":400,\"renderers\":[{\"id\":\"1227\"}],\"title\":{\"id\":\"1248\"},\"toolbar\":{\"id\":\"1217\"},\"x_range\":{\"id\":\"1194\"},\"x_scale\":{\"id\":\"1198\"},\"y_range\":{\"id\":\"1196\"},\"y_scale\":{\"id\":\"1200\"}},\"id\":\"1193\",\"subtype\":\"Figure\",\"type\":\"Plot\"},{\"attributes\":{},\"id\":\"1210\",\"type\":\"PanTool\"},{\"attributes\":{\"source\":{\"id\":\"1224\"}},\"id\":\"1228\",\"type\":\"CDSView\"},{\"attributes\":{},\"id\":\"1211\",\"type\":\"WheelZoomTool\"},{\"attributes\":{\"text\":\"\"},\"id\":\"1248\",\"type\":\"Title\"},{\"attributes\":{\"overlay\":{\"id\":\"1216\"}},\"id\":\"1212\",\"type\":\"BoxZoomTool\"},{\"attributes\":{\"active_drag\":\"auto\",\"active_inspect\":\"auto\",\"active_multi\":null,\"active_scroll\":\"auto\",\"active_tap\":\"auto\",\"tools\":[{\"id\":\"1210\"},{\"id\":\"1211\"},{\"id\":\"1212\"},{\"id\":\"1213\"},{\"id\":\"1214\"},{\"id\":\"1215\"}]},\"id\":\"1217\",\"type\":\"Toolbar\"},{\"attributes\":{},\"id\":\"1252\",\"type\":\"BasicTickFormatter\"},{\"attributes\":{},\"id\":\"1213\",\"type\":\"SaveTool\"},{\"attributes\":{},\"id\":\"1194\",\"type\":\"DataRange1d\"},{\"attributes\":{},\"id\":\"1214\",\"type\":\"ResetTool\"},{\"attributes\":{},\"id\":\"1254\",\"type\":\"UnionRenderers\"},{\"attributes\":{},\"id\":\"1215\",\"type\":\"HelpTool\"},{\"attributes\":{\"fill_alpha\":{\"value\":0.5},\"fill_color\":{\"value\":\"turquoise\"},\"line_color\":{\"value\":\"navy\"},\"size\":{\"units\":\"screen\",\"value\":10},\"x\":{\"field\":\"x\"},\"y\":{\"field\":\"y\"}},\"id\":\"1225\",\"type\":\"InvertedTriangle\"},{\"attributes\":{},\"id\":\"1255\",\"type\":\"Selection\"},{\"attributes\":{\"data_source\":{\"id\":\"1224\"},\"glyph\":{\"id\":\"1225\"},\"hover_glyph\":null,\"muted_glyph\":null,\"nonselection_glyph\":{\"id\":\"1226\"},\"selection_glyph\":null,\"view\":{\"id\":\"1228\"}},\"id\":\"1227\",\"type\":\"GlyphRenderer\"},{\"attributes\":{\"axis\":{\"id\":\"1206\"},\"dimension\":1,\"ticker\":null},\"id\":\"1209\",\"type\":\"Grid\"},{\"attributes\":{\"bottom_units\":\"screen\",\"fill_alpha\":0.5,\"fill_color\":\"lightgrey\",\"left_units\":\"screen\",\"level\":\"overlay\",\"line_alpha\":1.0,\"line_color\":\"black\",\"line_dash\":[4,4],\"line_width\":2,\"right_units\":\"screen\",\"top_units\":\"screen\"},\"id\":\"1216\",\"type\":\"BoxAnnotation\"},{\"attributes\":{},\"id\":\"1207\",\"type\":\"BasicTicker\"},{\"attributes\":{},\"id\":\"1196\",\"type\":\"DataRange1d\"},{\"attributes\":{\"data\":{\"x\":{\"__ndarray__\":\"gW/aAP2n2b9G394HQV7qP7bikvVn/uG/wEx9Oy5H/z9etfiMrE/1v2CqlcTHK/y/c2u4s1pp+r/XA6hsbn/sv385VIzl5/G/wtd8ZBlM/z9y/5kmXuXUv/ccyJuZe/W/N9CHPoPU8T8/6vHZzcTiv2EUI8QmyvO/kCjaW98G7D+z6T48lfLjP7oJHo5U1tu/CZHNqUiF9j+sGFyLZobAP3L15YoG3/k/N6jRC3QW4D8HkxwU3vD4P13OPavQAbw/JhFosxKE87/+hxyXTpgDQF2TT2P7duG/aTwo44Rzyb8Ouxkgqmnmv+bPPk3UCMq/BauX0MoPzz/pCc5AktXJPydTpwQUJ+U/i+0MFq6s/D9IhSgkxNa+v58w7M7cuvO/2Tptacbq8r8li1pr3E3lv40tDYuByfq/BRVG8qRm6j+pBY4ku+Lfv7Tp1okt59O/ouyHO3T9Xr8bAomojlj2v+1eIVTnj+u/Jg0ioDyX5T+pv0CTEsvjP55SN83tXNy/xvVGdfP3/D97Rt7pQeT0v8LZSTxFFNa/CiOxHSiMzb/QntTyPFgGwLCemDYeAP8/pll71ftx1z9jrxBbo7bwv7r4O5/NaABAsgIoPL694j8b+Qo1W33bP2/Ln+eHbOO/X8PSlWkxuz9MsmXDL2n4v5+uYJDacOk/LkFzI8z217/+GiXGfSjBPxBUEuGdO/M/eHLsI1A50j+64aFBRMzQPy7+5CMqstE/Uhu6AvZ257/qsij4jMDqP+04rlKZsfg/Yn3EziJI6D+oM0JKLFHsPz9xJLGwEuy/MwfEtenE67+EyJ4E1A33v8ao+f5Ot/M/aDerontE0L9GWgfDwmX2PyIBMKZrBem/aB49rSUA3L+UU7RMx224PwtEudqEfO0/6HNeUKYarz8DLBHPIgbLP9B/PUSa7JA/GEXrUxauxj/ieFyqD93xv4BSCnSjt7Q/zkygCdLhx7/5pQguGRitvzTily9xgt8/GIdXhh3I5b+nzfNtUaK1vzC1ZSL6B9O/Xwb7dxO12j9tHx9X1xzpP9JZ9f/Xku6/ZRJ/O8e/4j8=\",\"dtype\":\"float64\",\"order\":\"little\",\"shape\":[100]},\"y\":{\"__ndarray__\":\"kLLHZ7mGAECmwjvY24n3v9v5jabEkOq/7HcdE7Et7L+yqJqwvNzRvz1BaJow9/k/rDPN4aVYiz89+g8Q7jrmv+n6cHbQ5eM/FySeRZkx479/Af0Hf/nxP3RDmcR+idM/g02MvnA49j/LrvdmuynlvxvlgwMyPwhALrOpS/9i6j/lDn8TUvLkP9bb0EhfNaq/QiIYcxc4578bXlzRwsTrv1S+THy0Z8G/jAXZ7DuD6b8MwN7eWxfSP6YAo+Fjb+q/Z+AG1Ojf4z91w0aLjJjuP++D79Q+lua/hGt2/D0V8z8ChzOg4XTOvyNsgyYPfPI/krb03OoK3D+7RM6KDvXxP4x36A6W5++/flCgyNlWu7/jIGvjDTn3P3V9EDb1xuO/bVz9JzBMAMCaE8Bk2BT/v17exMEwDQTAfiA4xs7pAMADbunJS1javxUq7dzZdPQ/IO81CXxN3L/RF8USrLTUP5RLF/1mKLy/wQ2BCByCgT+l3/YhiofFv91UNKGKS8a/aGXfbbaD3T/0DKg009Dyv0RBdx17KfA/gAvhcslw7T9jD/SRo/fIv5mzL27Ixek/6DTA3Wlx5r9ifcZW7jDhv5CAOi90AMQ/QCPgnClZyL+n8bK5H7jcv/Ag27+xhOW/BnC4K//W4b9O+jecqw3uP8VZjkjaF/+/4GW/hUSP1j93Jc3nkEPOv8a+gok/Suc/vKKzqHt74D8gf1RuoUIGwDD49s5steI/evOiwejA1D/hPjwhNmOWP2/sWXbA/t2/3OPSaxRO6z/H5F98Em/av6quvd4AW/0/b61YomwP4j/Y/BCaRRoBQPpkVTEYI+m/myDwe0UY/L9iHxdvjt/mP9jYSAdaSes/t/zd+Lcaoj+Ddpyq5Z74vx0QmZBQqty/kdgymYnG4z8VrbD/FpPHv9mnbII0sb2/RJcYgnB1xr85eOX8oOLtv+w7lKSADuG/TRPRxivT9r+sI+pekEn8P0bhB1qCbN6/RyfJSyqR3j+0n4cTpVnwvyW5mnzGbOk/YmQxpXf4/b+U+QfWrXXtP8XmXKG+G6K/Jeb/5oTiAEA=\",\"dtype\":\"float64\",\"order\":\"little\",\"shape\":[100]}},\"selected\":{\"id\":\"1255\"},\"selection_policy\":{\"id\":\"1254\"}},\"id\":\"1224\",\"type\":\"ColumnDataSource\"},{\"attributes\":{},\"id\":\"1203\",\"type\":\"BasicTicker\"},{\"attributes\":{\"formatter\":{\"id\":\"1250\"},\"ticker\":{\"id\":\"1207\"}},\"id\":\"1206\",\"type\":\"LinearAxis\"},{\"attributes\":{\"axis\":{\"id\":\"1202\"},\"ticker\":null},\"id\":\"1205\",\"type\":\"Grid\"},{\"attributes\":{},\"id\":\"1200\",\"type\":\"LinearScale\"},{\"attributes\":{},\"id\":\"1250\",\"type\":\"BasicTickFormatter\"},{\"attributes\":{\"formatter\":{\"id\":\"1252\"},\"ticker\":{\"id\":\"1203\"}},\"id\":\"1202\",\"type\":\"LinearAxis\"},{\"attributes\":{},\"id\":\"1198\",\"type\":\"LinearScale\"},{\"attributes\":{\"fill_alpha\":{\"value\":0.1},\"fill_color\":{\"value\":\"turquoise\"},\"line_alpha\":{\"value\":0.1},\"line_color\":{\"value\":\"navy\"},\"size\":{\"units\":\"screen\",\"value\":10},\"x\":{\"field\":\"x\"},\"y\":{\"field\":\"y\"}},\"id\":\"1226\",\"type\":\"InvertedTriangle\"}],\"root_ids\":[\"1193\"]},\"title\":\"Bokeh Application\",\"version\":\"2.2.1\"}};\n",
       "  var render_items = [{\"docid\":\"05655175-30ae-4ff4-9085-7c7fb955c7c0\",\"root_ids\":[\"1193\"],\"roots\":{\"1193\":\"457891e1-c907-4f82-9608-5ada66b1005a\"}}];\n",
       "  root.Bokeh.embed.embed_items_notebook(docs_json, render_items);\n",
       "\n",
       "  }\n",
       "  if (root.Bokeh !== undefined) {\n",
       "    embed_document(root);\n",
       "  } else {\n",
       "    var attempts = 0;\n",
       "    var timer = setInterval(function(root) {\n",
       "      if (root.Bokeh !== undefined) {\n",
       "        clearInterval(timer);\n",
       "        embed_document(root);\n",
       "      } else {\n",
       "        attempts++;\n",
       "        if (attempts > 100) {\n",
       "          clearInterval(timer);\n",
       "          console.log(\"Bokeh: ERROR: Unable to run BokehJS code because BokehJS library is missing\");\n",
       "        }\n",
       "      }\n",
       "    }, 10, root)\n",
       "  }\n",
       "})(window);"
      ],
      "application/vnd.bokehjs_exec.v0+json": ""
     },
     "metadata": {
      "application/vnd.bokehjs_exec.v0+json": {
       "id": "1193"
      }
     },
     "output_type": "display_data"
    }
   ],
   "source": [
    "p = figure(plot_width=600, plot_height=400)\n",
    "x = np.random.randn(100)\n",
    "y = np.random.randn(100)\n",
    "p.inverted_triangle(\n",
    "    x, y, fill_color=\"turquoise\", fill_alpha=0.5, size=10, line_color=\"navy\"\n",
    ")\n",
    "show(p)"
   ]
  },
  {
   "cell_type": "markdown",
   "metadata": {},
   "source": [
    "## Line plots\n",
    "We can create a line plot using `.line()` and pass in the data as well as various styling parameters."
   ]
  },
  {
   "cell_type": "code",
   "execution_count": 8,
   "metadata": {
    "ExecuteTime": {
     "end_time": "2020-09-24T05:48:34.330674Z",
     "start_time": "2020-09-24T05:48:34.280353Z"
    }
   },
   "outputs": [
    {
     "data": {
      "text/html": [
       "\n",
       "\n",
       "\n",
       "\n",
       "\n",
       "\n",
       "  <div class=\"bk-root\" id=\"3c06fe4c-121d-4a72-a73d-b73eac1f310c\" data-root-id=\"1301\"></div>\n"
      ]
     },
     "metadata": {},
     "output_type": "display_data"
    },
    {
     "data": {
      "application/javascript": [
       "(function(root) {\n",
       "  function embed_document(root) {\n",
       "    \n",
       "  var docs_json = {\"48a5d7b9-3dd5-4ce0-abdf-64351e6800fe\":{\"roots\":{\"references\":[{\"attributes\":{\"below\":[{\"id\":\"1312\"}],\"center\":[{\"id\":\"1315\"},{\"id\":\"1319\"}],\"left\":[{\"id\":\"1316\"}],\"plot_height\":400,\"renderers\":[{\"id\":\"1337\"}],\"title\":{\"id\":\"1302\"},\"toolbar\":{\"id\":\"1327\"},\"x_range\":{\"id\":\"1304\"},\"x_scale\":{\"id\":\"1308\"},\"y_range\":{\"id\":\"1306\"},\"y_scale\":{\"id\":\"1310\"}},\"id\":\"1301\",\"subtype\":\"Figure\",\"type\":\"Plot\"},{\"attributes\":{\"bottom_units\":\"screen\",\"fill_alpha\":0.5,\"fill_color\":\"lightgrey\",\"left_units\":\"screen\",\"level\":\"overlay\",\"line_alpha\":1.0,\"line_color\":\"black\",\"line_dash\":[4,4],\"line_width\":2,\"right_units\":\"screen\",\"top_units\":\"screen\"},\"id\":\"1326\",\"type\":\"BoxAnnotation\"},{\"attributes\":{\"axis\":{\"id\":\"1316\"},\"dimension\":1,\"ticker\":null},\"id\":\"1319\",\"type\":\"Grid\"},{\"attributes\":{\"text\":\"Plot Title\"},\"id\":\"1302\",\"type\":\"Title\"},{\"attributes\":{\"line_alpha\":0.1,\"line_color\":\"seagreen\",\"line_width\":2,\"x\":{\"field\":\"x\"},\"y\":{\"field\":\"y\"}},\"id\":\"1336\",\"type\":\"Line\"},{\"attributes\":{\"line_color\":\"seagreen\",\"line_width\":2,\"x\":{\"field\":\"x\"},\"y\":{\"field\":\"y\"}},\"id\":\"1335\",\"type\":\"Line\"},{\"attributes\":{\"data_source\":{\"id\":\"1334\"},\"glyph\":{\"id\":\"1335\"},\"hover_glyph\":null,\"muted_glyph\":null,\"nonselection_glyph\":{\"id\":\"1336\"},\"selection_glyph\":null,\"view\":{\"id\":\"1338\"}},\"id\":\"1337\",\"type\":\"GlyphRenderer\"},{\"attributes\":{\"source\":{\"id\":\"1334\"}},\"id\":\"1338\",\"type\":\"CDSView\"},{\"attributes\":{},\"id\":\"1368\",\"type\":\"BasicTickFormatter\"},{\"attributes\":{\"axis\":{\"id\":\"1312\"},\"ticker\":null},\"id\":\"1315\",\"type\":\"Grid\"},{\"attributes\":{},\"id\":\"1320\",\"type\":\"PanTool\"},{\"attributes\":{},\"id\":\"1313\",\"type\":\"BasicTicker\"},{\"attributes\":{},\"id\":\"1321\",\"type\":\"WheelZoomTool\"},{\"attributes\":{},\"id\":\"1370\",\"type\":\"BasicTickFormatter\"},{\"attributes\":{\"overlay\":{\"id\":\"1326\"}},\"id\":\"1322\",\"type\":\"BoxZoomTool\"},{\"attributes\":{},\"id\":\"1372\",\"type\":\"UnionRenderers\"},{\"attributes\":{},\"id\":\"1323\",\"type\":\"SaveTool\"},{\"attributes\":{},\"id\":\"1306\",\"type\":\"DataRange1d\"},{\"attributes\":{},\"id\":\"1317\",\"type\":\"BasicTicker\"},{\"attributes\":{},\"id\":\"1304\",\"type\":\"DataRange1d\"},{\"attributes\":{},\"id\":\"1373\",\"type\":\"Selection\"},{\"attributes\":{},\"id\":\"1325\",\"type\":\"HelpTool\"},{\"attributes\":{},\"id\":\"1308\",\"type\":\"LinearScale\"},{\"attributes\":{},\"id\":\"1324\",\"type\":\"ResetTool\"},{\"attributes\":{\"formatter\":{\"id\":\"1370\"},\"ticker\":{\"id\":\"1313\"}},\"id\":\"1312\",\"type\":\"LinearAxis\"},{\"attributes\":{\"active_drag\":\"auto\",\"active_inspect\":\"auto\",\"active_multi\":null,\"active_scroll\":\"auto\",\"active_tap\":\"auto\",\"tools\":[{\"id\":\"1320\"},{\"id\":\"1321\"},{\"id\":\"1322\"},{\"id\":\"1323\"},{\"id\":\"1324\"},{\"id\":\"1325\"}]},\"id\":\"1327\",\"type\":\"Toolbar\"},{\"attributes\":{},\"id\":\"1310\",\"type\":\"LinearScale\"},{\"attributes\":{\"data\":{\"x\":[0,1,2,3,4,5,6,7,8,9,10,11,12,13,14,15,16,17,18,19,20,21,22,23,24,25,26,27,28,29,30,31,32,33,34,35,36,37,38,39,40,41,42,43,44,45,46,47,48,49,50,51,52,53,54,55,56,57,58,59,60,61,62,63,64,65,66,67,68,69,70,71,72,73,74,75,76,77,78,79,80,81,82,83,84,85,86,87,88,89,90,91,92,93,94,95,96,97,98,99],\"y\":{\"__ndarray__\":\"fk09Gyms2r/kp+9ICUbev0DeoyOv3wTAnp65WaMB77+2j/2XXRkGwDZ29aJD1QzASMix8VzPCMB0MrFF22IRwLMsRBkznhXAsuCr/QVBGcAblTGfVQwXwEzPzRY6wgvASWvaeydtC8CIuZUwVS8SwJyZD0lWBxDAQAxH+c1pEsDKtCrrZH0SwC5NQcxilAvAgAj0RwPIEMBu9Zxdxb4QwABEzBT0QRTAi2FDXCTiFMDehLH0adsTwNZCZ3PszxfA8U6kmOAqGcC0tKXSuhwawEO1KEKwqRzAJw/J2Oa0IMAPoJihkIwjwC2ts40n2yPAUnQtY+lkJMCTUPxb59wfwAwyE4kNzSTAJAk8P1aTJMCBIjhXq9UjwHi1OmmJHSHA/u61+5UcIMCMgAfD0swhwIAZfXvRzCHAV4n8PiK3IMAGxHZkplchwKQrDq/ImR/A5bZduFqJI8DTRDbi/BIgwDGnasgSRxrArYZGlc6eG8DkmgpEyywZwGmhHRCs+xjAEL5257RMHMAhY1gy5PIbwGJPHUiE8hfAnDkLZsF4GcChJkTicPkawMGzkPKyRRvAGj5OfMyJGcAYoWYKvWwUwBlnk2mm9hbA2XZEYw3uFMAhSZjfvxAUwEKmcfX3fxvAS7o3QlktHcA/IkR82rQdwEKmGZZf3R3AuYYGvouPHMCQZAIYa1wiwD8WNEq8RCLAPe5HlbSfI8CZyTi8soAmwPMtUCdCdCXAJ/LGlsv7I8BpfHdoQkolwCsrdPrrmiPA+UxMG0JeJMD+pVxCNzwkwAkHpSvFbibAz7d0SINDI8A5yGWkJpUowAKuNoX5wyjAjbWxzRJgJ8Au7KNUNXErwAv/MnI30ivA4qinpsD5K8BVIb0tgVMqwPlPLGpr1CfAxiPcYTajKMD8FU8DFmgrwL6vP7sPrCjASjKXBoE8JsD5/KD9DCknwGawg1VldSbAuqXtXOGxJcDKmSKC8o8kwGKQZI9kJyTAb+EBEipXIcC6FgTm/9AkwPGscgUZvCLAeHCYzEv5IcD+kjQneGgiwM7ZVgifDyDAmSQ/you/JMA=\",\"dtype\":\"float64\",\"order\":\"little\",\"shape\":[100]}},\"selected\":{\"id\":\"1373\"},\"selection_policy\":{\"id\":\"1372\"}},\"id\":\"1334\",\"type\":\"ColumnDataSource\"},{\"attributes\":{\"formatter\":{\"id\":\"1368\"},\"ticker\":{\"id\":\"1317\"}},\"id\":\"1316\",\"type\":\"LinearAxis\"}],\"root_ids\":[\"1301\"]},\"title\":\"Bokeh Application\",\"version\":\"2.2.1\"}};\n",
       "  var render_items = [{\"docid\":\"48a5d7b9-3dd5-4ce0-abdf-64351e6800fe\",\"root_ids\":[\"1301\"],\"roots\":{\"1301\":\"3c06fe4c-121d-4a72-a73d-b73eac1f310c\"}}];\n",
       "  root.Bokeh.embed.embed_items_notebook(docs_json, render_items);\n",
       "\n",
       "  }\n",
       "  if (root.Bokeh !== undefined) {\n",
       "    embed_document(root);\n",
       "  } else {\n",
       "    var attempts = 0;\n",
       "    var timer = setInterval(function(root) {\n",
       "      if (root.Bokeh !== undefined) {\n",
       "        clearInterval(timer);\n",
       "        embed_document(root);\n",
       "      } else {\n",
       "        attempts++;\n",
       "        if (attempts > 100) {\n",
       "          clearInterval(timer);\n",
       "          console.log(\"Bokeh: ERROR: Unable to run BokehJS code because BokehJS library is missing\");\n",
       "        }\n",
       "      }\n",
       "    }, 10, root)\n",
       "  }\n",
       "})(window);"
      ],
      "application/vnd.bokehjs_exec.v0+json": ""
     },
     "metadata": {
      "application/vnd.bokehjs_exec.v0+json": {
       "id": "1301"
      }
     },
     "output_type": "display_data"
    }
   ],
   "source": [
    "p = figure(plot_width=600, plot_height=400, title=\"Plot Title\")\n",
    "np.random.seed(2)\n",
    "x = np.arange(100)\n",
    "y = np.random.randn(100).cumsum()\n",
    "p.line(x, y, line_color=\"seagreen\", line_width=2)\n",
    "show(p)"
   ]
  },
  {
   "cell_type": "markdown",
   "metadata": {},
   "source": [
    "We can also access the components of the plot (e.g. axes, grids, etc.) and manipulate them."
   ]
  },
  {
   "cell_type": "code",
   "execution_count": 9,
   "metadata": {
    "ExecuteTime": {
     "end_time": "2020-09-24T05:48:34.364893Z",
     "start_time": "2020-09-24T05:48:34.333736Z"
    }
   },
   "outputs": [
    {
     "data": {
      "text/html": [
       "\n",
       "\n",
       "\n",
       "\n",
       "\n",
       "\n",
       "  <div class=\"bk-root\" id=\"8819e8d2-ffcf-4fa3-8db3-c1fecaf66049\" data-root-id=\"1301\"></div>\n"
      ]
     },
     "metadata": {},
     "output_type": "display_data"
    },
    {
     "data": {
      "application/javascript": [
       "(function(root) {\n",
       "  function embed_document(root) {\n",
       "    \n",
       "  var docs_json = {\"5217097e-fa3d-41e7-9c31-9049eb036c21\":{\"roots\":{\"references\":[{\"attributes\":{\"below\":[{\"id\":\"1312\"}],\"center\":[{\"id\":\"1315\"},{\"id\":\"1319\"}],\"left\":[{\"id\":\"1316\"}],\"plot_height\":400,\"renderers\":[{\"id\":\"1337\"}],\"title\":{\"id\":\"1302\"},\"toolbar\":{\"id\":\"1327\"},\"x_range\":{\"id\":\"1304\"},\"x_scale\":{\"id\":\"1308\"},\"y_range\":{\"id\":\"1306\"},\"y_scale\":{\"id\":\"1310\"}},\"id\":\"1301\",\"subtype\":\"Figure\",\"type\":\"Plot\"},{\"attributes\":{\"bottom_units\":\"screen\",\"fill_alpha\":0.5,\"fill_color\":\"lightgrey\",\"left_units\":\"screen\",\"level\":\"overlay\",\"line_alpha\":1.0,\"line_color\":\"black\",\"line_dash\":[4,4],\"line_width\":2,\"right_units\":\"screen\",\"top_units\":\"screen\"},\"id\":\"1326\",\"type\":\"BoxAnnotation\"},{\"attributes\":{\"axis\":{\"id\":\"1316\"},\"dimension\":1,\"grid_line_alpha\":0.5,\"grid_line_color\":\"black\",\"ticker\":null},\"id\":\"1319\",\"type\":\"Grid\"},{\"attributes\":{\"text\":\"Plot Title\",\"text_font_size\":{\"value\":\"24px\"}},\"id\":\"1302\",\"type\":\"Title\"},{\"attributes\":{\"line_alpha\":0.1,\"line_color\":\"seagreen\",\"line_width\":2,\"x\":{\"field\":\"x\"},\"y\":{\"field\":\"y\"}},\"id\":\"1336\",\"type\":\"Line\"},{\"attributes\":{\"line_color\":\"seagreen\",\"line_width\":2,\"x\":{\"field\":\"x\"},\"y\":{\"field\":\"y\"}},\"id\":\"1335\",\"type\":\"Line\"},{\"attributes\":{\"data_source\":{\"id\":\"1334\"},\"glyph\":{\"id\":\"1335\"},\"hover_glyph\":null,\"muted_glyph\":null,\"nonselection_glyph\":{\"id\":\"1336\"},\"selection_glyph\":null,\"view\":{\"id\":\"1338\"}},\"id\":\"1337\",\"type\":\"GlyphRenderer\"},{\"attributes\":{\"source\":{\"id\":\"1334\"}},\"id\":\"1338\",\"type\":\"CDSView\"},{\"attributes\":{},\"id\":\"1368\",\"type\":\"BasicTickFormatter\"},{\"attributes\":{\"axis\":{\"id\":\"1312\"},\"ticker\":null},\"id\":\"1315\",\"type\":\"Grid\"},{\"attributes\":{},\"id\":\"1320\",\"type\":\"PanTool\"},{\"attributes\":{},\"id\":\"1313\",\"type\":\"BasicTicker\"},{\"attributes\":{},\"id\":\"1321\",\"type\":\"WheelZoomTool\"},{\"attributes\":{},\"id\":\"1370\",\"type\":\"BasicTickFormatter\"},{\"attributes\":{\"overlay\":{\"id\":\"1326\"}},\"id\":\"1322\",\"type\":\"BoxZoomTool\"},{\"attributes\":{},\"id\":\"1372\",\"type\":\"UnionRenderers\"},{\"attributes\":{},\"id\":\"1323\",\"type\":\"SaveTool\"},{\"attributes\":{},\"id\":\"1306\",\"type\":\"DataRange1d\"},{\"attributes\":{},\"id\":\"1317\",\"type\":\"BasicTicker\"},{\"attributes\":{},\"id\":\"1304\",\"type\":\"DataRange1d\"},{\"attributes\":{},\"id\":\"1373\",\"type\":\"Selection\"},{\"attributes\":{},\"id\":\"1325\",\"type\":\"HelpTool\"},{\"attributes\":{},\"id\":\"1308\",\"type\":\"LinearScale\"},{\"attributes\":{},\"id\":\"1324\",\"type\":\"ResetTool\"},{\"attributes\":{\"axis_label\":\"x-axis label\",\"axis_label_text_font_size\":\"16px\",\"formatter\":{\"id\":\"1370\"},\"ticker\":{\"id\":\"1313\"}},\"id\":\"1312\",\"type\":\"LinearAxis\"},{\"attributes\":{\"active_drag\":\"auto\",\"active_inspect\":\"auto\",\"active_multi\":null,\"active_scroll\":\"auto\",\"active_tap\":\"auto\",\"tools\":[{\"id\":\"1320\"},{\"id\":\"1321\"},{\"id\":\"1322\"},{\"id\":\"1323\"},{\"id\":\"1324\"},{\"id\":\"1325\"}]},\"id\":\"1327\",\"type\":\"Toolbar\"},{\"attributes\":{},\"id\":\"1310\",\"type\":\"LinearScale\"},{\"attributes\":{\"data\":{\"x\":[0,1,2,3,4,5,6,7,8,9,10,11,12,13,14,15,16,17,18,19,20,21,22,23,24,25,26,27,28,29,30,31,32,33,34,35,36,37,38,39,40,41,42,43,44,45,46,47,48,49,50,51,52,53,54,55,56,57,58,59,60,61,62,63,64,65,66,67,68,69,70,71,72,73,74,75,76,77,78,79,80,81,82,83,84,85,86,87,88,89,90,91,92,93,94,95,96,97,98,99],\"y\":{\"__ndarray__\":\"fk09Gyms2r/kp+9ICUbev0DeoyOv3wTAnp65WaMB77+2j/2XXRkGwDZ29aJD1QzASMix8VzPCMB0MrFF22IRwLMsRBkznhXAsuCr/QVBGcAblTGfVQwXwEzPzRY6wgvASWvaeydtC8CIuZUwVS8SwJyZD0lWBxDAQAxH+c1pEsDKtCrrZH0SwC5NQcxilAvAgAj0RwPIEMBu9Zxdxb4QwABEzBT0QRTAi2FDXCTiFMDehLH0adsTwNZCZ3PszxfA8U6kmOAqGcC0tKXSuhwawEO1KEKwqRzAJw/J2Oa0IMAPoJihkIwjwC2ts40n2yPAUnQtY+lkJMCTUPxb59wfwAwyE4kNzSTAJAk8P1aTJMCBIjhXq9UjwHi1OmmJHSHA/u61+5UcIMCMgAfD0swhwIAZfXvRzCHAV4n8PiK3IMAGxHZkplchwKQrDq/ImR/A5bZduFqJI8DTRDbi/BIgwDGnasgSRxrArYZGlc6eG8DkmgpEyywZwGmhHRCs+xjAEL5257RMHMAhY1gy5PIbwGJPHUiE8hfAnDkLZsF4GcChJkTicPkawMGzkPKyRRvAGj5OfMyJGcAYoWYKvWwUwBlnk2mm9hbA2XZEYw3uFMAhSZjfvxAUwEKmcfX3fxvAS7o3QlktHcA/IkR82rQdwEKmGZZf3R3AuYYGvouPHMCQZAIYa1wiwD8WNEq8RCLAPe5HlbSfI8CZyTi8soAmwPMtUCdCdCXAJ/LGlsv7I8BpfHdoQkolwCsrdPrrmiPA+UxMG0JeJMD+pVxCNzwkwAkHpSvFbibAz7d0SINDI8A5yGWkJpUowAKuNoX5wyjAjbWxzRJgJ8Au7KNUNXErwAv/MnI30ivA4qinpsD5K8BVIb0tgVMqwPlPLGpr1CfAxiPcYTajKMD8FU8DFmgrwL6vP7sPrCjASjKXBoE8JsD5/KD9DCknwGawg1VldSbAuqXtXOGxJcDKmSKC8o8kwGKQZI9kJyTAb+EBEipXIcC6FgTm/9AkwPGscgUZvCLAeHCYzEv5IcD+kjQneGgiwM7ZVgifDyDAmSQ/you/JMA=\",\"dtype\":\"float64\",\"order\":\"little\",\"shape\":[100]}},\"selected\":{\"id\":\"1373\"},\"selection_policy\":{\"id\":\"1372\"}},\"id\":\"1334\",\"type\":\"ColumnDataSource\"},{\"attributes\":{\"axis_label\":\"y-axis label\",\"axis_label_text_font_size\":\"16px\",\"formatter\":{\"id\":\"1368\"},\"ticker\":{\"id\":\"1317\"}},\"id\":\"1316\",\"type\":\"LinearAxis\"}],\"root_ids\":[\"1301\"]},\"title\":\"Bokeh Application\",\"version\":\"2.2.1\"}};\n",
       "  var render_items = [{\"docid\":\"5217097e-fa3d-41e7-9c31-9049eb036c21\",\"root_ids\":[\"1301\"],\"roots\":{\"1301\":\"8819e8d2-ffcf-4fa3-8db3-c1fecaf66049\"}}];\n",
       "  root.Bokeh.embed.embed_items_notebook(docs_json, render_items);\n",
       "\n",
       "  }\n",
       "  if (root.Bokeh !== undefined) {\n",
       "    embed_document(root);\n",
       "  } else {\n",
       "    var attempts = 0;\n",
       "    var timer = setInterval(function(root) {\n",
       "      if (root.Bokeh !== undefined) {\n",
       "        clearInterval(timer);\n",
       "        embed_document(root);\n",
       "      } else {\n",
       "        attempts++;\n",
       "        if (attempts > 100) {\n",
       "          clearInterval(timer);\n",
       "          console.log(\"Bokeh: ERROR: Unable to run BokehJS code because BokehJS library is missing\");\n",
       "        }\n",
       "      }\n",
       "    }, 10, root)\n",
       "  }\n",
       "})(window);"
      ],
      "application/vnd.bokehjs_exec.v0+json": ""
     },
     "metadata": {
      "application/vnd.bokehjs_exec.v0+json": {
       "id": "1301"
      }
     },
     "output_type": "display_data"
    }
   ],
   "source": [
    "# x-axis label\n",
    "p.xaxis.axis_label = \"x-axis label\"\n",
    "\n",
    "# x-axis label size\n",
    "p.xaxis.axis_label_text_font_size = \"16px\"\n",
    "\n",
    "# y-axis label\n",
    "p.yaxis.axis_label = \"y-axis label\"\n",
    "\n",
    "# y axis label size\n",
    "p.yaxis.axis_label_text_font_size = \"16px\"\n",
    "\n",
    "# plot title\n",
    "p.title.text = \"Plot Title\"\n",
    "\n",
    "# plot title sie\n",
    "p.title.text_font_size = \"24px\"\n",
    "\n",
    "# horizontal grid lines color\n",
    "p.ygrid.grid_line_color = \"black\"\n",
    "\n",
    "# horizontal grid lines opacity\n",
    "p.ygrid.grid_line_alpha = 0.5\n",
    "\n",
    "\n",
    "show(p)"
   ]
  },
  {
   "cell_type": "markdown",
   "metadata": {},
   "source": [
    "You can also have multiple plots in a single figure."
   ]
  },
  {
   "cell_type": "code",
   "execution_count": 10,
   "metadata": {
    "ExecuteTime": {
     "end_time": "2020-09-24T05:48:34.446539Z",
     "start_time": "2020-09-24T05:48:34.367247Z"
    },
    "scrolled": false
   },
   "outputs": [
    {
     "data": {
      "text/html": [
       "\n",
       "\n",
       "\n",
       "\n",
       "\n",
       "\n",
       "  <div class=\"bk-root\" id=\"33aa391f-dd9a-452e-97dc-e3514adb512f\" data-root-id=\"1454\"></div>\n"
      ]
     },
     "metadata": {},
     "output_type": "display_data"
    },
    {
     "data": {
      "application/javascript": [
       "(function(root) {\n",
       "  function embed_document(root) {\n",
       "    \n",
       "  var docs_json = {\"3f4b5a8f-342c-4cc8-a37a-9455e7b72a9a\":{\"roots\":{\"references\":[{\"attributes\":{\"below\":[{\"id\":\"1465\"}],\"center\":[{\"id\":\"1468\"},{\"id\":\"1472\"}],\"left\":[{\"id\":\"1469\"}],\"plot_height\":400,\"renderers\":[{\"id\":\"1490\"},{\"id\":\"1495\"}],\"title\":{\"id\":\"1455\"},\"toolbar\":{\"id\":\"1480\"},\"x_range\":{\"id\":\"1457\"},\"x_scale\":{\"id\":\"1461\"},\"y_range\":{\"id\":\"1459\"},\"y_scale\":{\"id\":\"1463\"}},\"id\":\"1454\",\"subtype\":\"Figure\",\"type\":\"Plot\"},{\"attributes\":{\"overlay\":{\"id\":\"1479\"}},\"id\":\"1475\",\"type\":\"BoxZoomTool\"},{\"attributes\":{\"line_alpha\":0.5,\"line_color\":\"orange\",\"line_width\":2,\"x\":{\"field\":\"x\"},\"y\":{\"field\":\"y\"}},\"id\":\"1488\",\"type\":\"Line\"},{\"attributes\":{},\"id\":\"1534\",\"type\":\"BasicTickFormatter\"},{\"attributes\":{\"data_source\":{\"id\":\"1492\"},\"glyph\":{\"id\":\"1493\"},\"hover_glyph\":null,\"muted_glyph\":null,\"nonselection_glyph\":{\"id\":\"1494\"},\"selection_glyph\":null,\"view\":{\"id\":\"1496\"}},\"id\":\"1495\",\"type\":\"GlyphRenderer\"},{\"attributes\":{\"data_source\":{\"id\":\"1487\"},\"glyph\":{\"id\":\"1488\"},\"hover_glyph\":null,\"muted_glyph\":null,\"nonselection_glyph\":{\"id\":\"1489\"},\"selection_glyph\":null,\"view\":{\"id\":\"1491\"}},\"id\":\"1490\",\"type\":\"GlyphRenderer\"},{\"attributes\":{\"fill_alpha\":{\"value\":0.1},\"fill_color\":{\"value\":\"orangered\"},\"line_alpha\":{\"value\":0.1},\"size\":{\"units\":\"screen\",\"value\":8},\"x\":{\"field\":\"x\"},\"y\":{\"field\":\"y\"}},\"id\":\"1494\",\"type\":\"Circle\"},{\"attributes\":{\"source\":{\"id\":\"1487\"}},\"id\":\"1491\",\"type\":\"CDSView\"},{\"attributes\":{\"source\":{\"id\":\"1492\"}},\"id\":\"1496\",\"type\":\"CDSView\"},{\"attributes\":{\"text\":\"Plot Title\"},\"id\":\"1455\",\"type\":\"Title\"},{\"attributes\":{\"fill_color\":{\"value\":\"orangered\"},\"size\":{\"units\":\"screen\",\"value\":8},\"x\":{\"field\":\"x\"},\"y\":{\"field\":\"y\"}},\"id\":\"1493\",\"type\":\"Circle\"},{\"attributes\":{},\"id\":\"1457\",\"type\":\"DataRange1d\"},{\"attributes\":{\"active_drag\":\"auto\",\"active_inspect\":\"auto\",\"active_multi\":null,\"active_scroll\":\"auto\",\"active_tap\":\"auto\",\"tools\":[{\"id\":\"1473\"},{\"id\":\"1474\"},{\"id\":\"1475\"},{\"id\":\"1476\"},{\"id\":\"1477\"},{\"id\":\"1478\"}]},\"id\":\"1480\",\"type\":\"Toolbar\"},{\"attributes\":{},\"id\":\"1459\",\"type\":\"DataRange1d\"},{\"attributes\":{},\"id\":\"1536\",\"type\":\"BasicTickFormatter\"},{\"attributes\":{},\"id\":\"1461\",\"type\":\"LinearScale\"},{\"attributes\":{},\"id\":\"1538\",\"type\":\"UnionRenderers\"},{\"attributes\":{},\"id\":\"1463\",\"type\":\"LinearScale\"},{\"attributes\":{},\"id\":\"1474\",\"type\":\"WheelZoomTool\"},{\"attributes\":{},\"id\":\"1478\",\"type\":\"HelpTool\"},{\"attributes\":{},\"id\":\"1539\",\"type\":\"Selection\"},{\"attributes\":{\"formatter\":{\"id\":\"1536\"},\"ticker\":{\"id\":\"1466\"}},\"id\":\"1465\",\"type\":\"LinearAxis\"},{\"attributes\":{},\"id\":\"1540\",\"type\":\"UnionRenderers\"},{\"attributes\":{},\"id\":\"1466\",\"type\":\"BasicTicker\"},{\"attributes\":{},\"id\":\"1541\",\"type\":\"Selection\"},{\"attributes\":{},\"id\":\"1476\",\"type\":\"SaveTool\"},{\"attributes\":{\"data\":{\"x\":[0,1,2,3,4,5,6,7,8,9,10,11,12,13,14,15,16,17,18,19,20,21,22,23,24,25,26,27,28,29,30,31,32,33,34,35,36,37,38,39,40,41,42,43,44,45,46,47,48,49,50,51,52,53,54,55,56,57,58,59,60,61,62,63,64,65,66,67,68,69,70,71,72,73,74,75,76,77,78,79,80,81,82,83,84,85,86,87,88,89,90,91,92,93,94,95,96,97,98,99],\"y\":{\"__ndarray__\":\"fk09Gyms2r/kp+9ICUbev0DeoyOv3wTAnp65WaMB77+2j/2XXRkGwDZ29aJD1QzASMix8VzPCMB0MrFF22IRwLMsRBkznhXAsuCr/QVBGcAblTGfVQwXwEzPzRY6wgvASWvaeydtC8CIuZUwVS8SwJyZD0lWBxDAQAxH+c1pEsDKtCrrZH0SwC5NQcxilAvAgAj0RwPIEMBu9Zxdxb4QwABEzBT0QRTAi2FDXCTiFMDehLH0adsTwNZCZ3PszxfA8U6kmOAqGcC0tKXSuhwawEO1KEKwqRzAJw/J2Oa0IMAPoJihkIwjwC2ts40n2yPAUnQtY+lkJMCTUPxb59wfwAwyE4kNzSTAJAk8P1aTJMCBIjhXq9UjwHi1OmmJHSHA/u61+5UcIMCMgAfD0swhwIAZfXvRzCHAV4n8PiK3IMAGxHZkplchwKQrDq/ImR/A5bZduFqJI8DTRDbi/BIgwDGnasgSRxrArYZGlc6eG8DkmgpEyywZwGmhHRCs+xjAEL5257RMHMAhY1gy5PIbwGJPHUiE8hfAnDkLZsF4GcChJkTicPkawMGzkPKyRRvAGj5OfMyJGcAYoWYKvWwUwBlnk2mm9hbA2XZEYw3uFMAhSZjfvxAUwEKmcfX3fxvAS7o3QlktHcA/IkR82rQdwEKmGZZf3R3AuYYGvouPHMCQZAIYa1wiwD8WNEq8RCLAPe5HlbSfI8CZyTi8soAmwPMtUCdCdCXAJ/LGlsv7I8BpfHdoQkolwCsrdPrrmiPA+UxMG0JeJMD+pVxCNzwkwAkHpSvFbibAz7d0SINDI8A5yGWkJpUowAKuNoX5wyjAjbWxzRJgJ8Au7KNUNXErwAv/MnI30ivA4qinpsD5K8BVIb0tgVMqwPlPLGpr1CfAxiPcYTajKMD8FU8DFmgrwL6vP7sPrCjASjKXBoE8JsD5/KD9DCknwGawg1VldSbAuqXtXOGxJcDKmSKC8o8kwGKQZI9kJyTAb+EBEipXIcC6FgTm/9AkwPGscgUZvCLAeHCYzEv5IcD+kjQneGgiwM7ZVgifDyDAmSQ/you/JMA=\",\"dtype\":\"float64\",\"order\":\"little\",\"shape\":[100]}},\"selected\":{\"id\":\"1539\"},\"selection_policy\":{\"id\":\"1538\"}},\"id\":\"1487\",\"type\":\"ColumnDataSource\"},{\"attributes\":{\"axis\":{\"id\":\"1465\"},\"ticker\":null},\"id\":\"1468\",\"type\":\"Grid\"},{\"attributes\":{\"formatter\":{\"id\":\"1534\"},\"ticker\":{\"id\":\"1470\"}},\"id\":\"1469\",\"type\":\"LinearAxis\"},{\"attributes\":{},\"id\":\"1470\",\"type\":\"BasicTicker\"},{\"attributes\":{\"axis\":{\"id\":\"1469\"},\"dimension\":1,\"ticker\":null},\"id\":\"1472\",\"type\":\"Grid\"},{\"attributes\":{\"line_alpha\":0.1,\"line_color\":\"orange\",\"line_width\":2,\"x\":{\"field\":\"x\"},\"y\":{\"field\":\"y\"}},\"id\":\"1489\",\"type\":\"Line\"},{\"attributes\":{},\"id\":\"1473\",\"type\":\"PanTool\"},{\"attributes\":{\"data\":{\"x\":[0,1,2,3,4,5,6,7,8,9,10,11,12,13,14,15,16,17,18,19,20,21,22,23,24,25,26,27,28,29,30,31,32,33,34,35,36,37,38,39,40,41,42,43,44,45,46,47,48,49,50,51,52,53,54,55,56,57,58,59,60,61,62,63,64,65,66,67,68,69,70,71,72,73,74,75,76,77,78,79,80,81,82,83,84,85,86,87,88,89,90,91,92,93,94,95,96,97,98,99],\"y\":{\"__ndarray__\":\"fk09Gyms2r/kp+9ICUbev0DeoyOv3wTAnp65WaMB77+2j/2XXRkGwDZ29aJD1QzASMix8VzPCMB0MrFF22IRwLMsRBkznhXAsuCr/QVBGcAblTGfVQwXwEzPzRY6wgvASWvaeydtC8CIuZUwVS8SwJyZD0lWBxDAQAxH+c1pEsDKtCrrZH0SwC5NQcxilAvAgAj0RwPIEMBu9Zxdxb4QwABEzBT0QRTAi2FDXCTiFMDehLH0adsTwNZCZ3PszxfA8U6kmOAqGcC0tKXSuhwawEO1KEKwqRzAJw/J2Oa0IMAPoJihkIwjwC2ts40n2yPAUnQtY+lkJMCTUPxb59wfwAwyE4kNzSTAJAk8P1aTJMCBIjhXq9UjwHi1OmmJHSHA/u61+5UcIMCMgAfD0swhwIAZfXvRzCHAV4n8PiK3IMAGxHZkplchwKQrDq/ImR/A5bZduFqJI8DTRDbi/BIgwDGnasgSRxrArYZGlc6eG8DkmgpEyywZwGmhHRCs+xjAEL5257RMHMAhY1gy5PIbwGJPHUiE8hfAnDkLZsF4GcChJkTicPkawMGzkPKyRRvAGj5OfMyJGcAYoWYKvWwUwBlnk2mm9hbA2XZEYw3uFMAhSZjfvxAUwEKmcfX3fxvAS7o3QlktHcA/IkR82rQdwEKmGZZf3R3AuYYGvouPHMCQZAIYa1wiwD8WNEq8RCLAPe5HlbSfI8CZyTi8soAmwPMtUCdCdCXAJ/LGlsv7I8BpfHdoQkolwCsrdPrrmiPA+UxMG0JeJMD+pVxCNzwkwAkHpSvFbibAz7d0SINDI8A5yGWkJpUowAKuNoX5wyjAjbWxzRJgJ8Au7KNUNXErwAv/MnI30ivA4qinpsD5K8BVIb0tgVMqwPlPLGpr1CfAxiPcYTajKMD8FU8DFmgrwL6vP7sPrCjASjKXBoE8JsD5/KD9DCknwGawg1VldSbAuqXtXOGxJcDKmSKC8o8kwGKQZI9kJyTAb+EBEipXIcC6FgTm/9AkwPGscgUZvCLAeHCYzEv5IcD+kjQneGgiwM7ZVgifDyDAmSQ/you/JMA=\",\"dtype\":\"float64\",\"order\":\"little\",\"shape\":[100]}},\"selected\":{\"id\":\"1541\"},\"selection_policy\":{\"id\":\"1540\"}},\"id\":\"1492\",\"type\":\"ColumnDataSource\"},{\"attributes\":{},\"id\":\"1477\",\"type\":\"ResetTool\"},{\"attributes\":{\"bottom_units\":\"screen\",\"fill_alpha\":0.5,\"fill_color\":\"lightgrey\",\"left_units\":\"screen\",\"level\":\"overlay\",\"line_alpha\":1.0,\"line_color\":\"black\",\"line_dash\":[4,4],\"line_width\":2,\"right_units\":\"screen\",\"top_units\":\"screen\"},\"id\":\"1479\",\"type\":\"BoxAnnotation\"}],\"root_ids\":[\"1454\"]},\"title\":\"Bokeh Application\",\"version\":\"2.2.1\"}};\n",
       "  var render_items = [{\"docid\":\"3f4b5a8f-342c-4cc8-a37a-9455e7b72a9a\",\"root_ids\":[\"1454\"],\"roots\":{\"1454\":\"33aa391f-dd9a-452e-97dc-e3514adb512f\"}}];\n",
       "  root.Bokeh.embed.embed_items_notebook(docs_json, render_items);\n",
       "\n",
       "  }\n",
       "  if (root.Bokeh !== undefined) {\n",
       "    embed_document(root);\n",
       "  } else {\n",
       "    var attempts = 0;\n",
       "    var timer = setInterval(function(root) {\n",
       "      if (root.Bokeh !== undefined) {\n",
       "        clearInterval(timer);\n",
       "        embed_document(root);\n",
       "      } else {\n",
       "        attempts++;\n",
       "        if (attempts > 100) {\n",
       "          clearInterval(timer);\n",
       "          console.log(\"Bokeh: ERROR: Unable to run BokehJS code because BokehJS library is missing\");\n",
       "        }\n",
       "      }\n",
       "    }, 10, root)\n",
       "  }\n",
       "})(window);"
      ],
      "application/vnd.bokehjs_exec.v0+json": ""
     },
     "metadata": {
      "application/vnd.bokehjs_exec.v0+json": {
       "id": "1454"
      }
     },
     "output_type": "display_data"
    }
   ],
   "source": [
    "p = figure(plot_width=600, plot_height=400, title=\"Plot Title\")\n",
    "np.random.seed(2)\n",
    "x = np.arange(100)\n",
    "y = np.random.randn(100).cumsum()\n",
    "p.line(x, y, line_color=\"orange\", line_width=2, line_alpha=0.5)\n",
    "p.circle(x, y, size=8, fill_color=\"orangered\", line_color=\"black\")\n",
    "show(p)"
   ]
  },
  {
   "cell_type": "code",
   "execution_count": 11,
   "metadata": {
    "ExecuteTime": {
     "end_time": "2020-09-24T05:48:34.506842Z",
     "start_time": "2020-09-24T05:48:34.448300Z"
    }
   },
   "outputs": [
    {
     "data": {
      "text/html": [
       "\n",
       "\n",
       "\n",
       "\n",
       "\n",
       "\n",
       "  <div class=\"bk-root\" id=\"2f6b40c3-bcfc-422c-a4ed-0846cc0131d0\" data-root-id=\"1592\"></div>\n"
      ]
     },
     "metadata": {},
     "output_type": "display_data"
    },
    {
     "data": {
      "application/javascript": [
       "(function(root) {\n",
       "  function embed_document(root) {\n",
       "    \n",
       "  var docs_json = {\"eaab336a-960a-47ea-b20d-664d8303ab05\":{\"roots\":{\"references\":[{\"attributes\":{\"below\":[{\"id\":\"1603\"}],\"center\":[{\"id\":\"1605\"},{\"id\":\"1609\"}],\"left\":[{\"id\":\"1606\"}],\"plot_height\":250,\"renderers\":[{\"id\":\"1627\"}],\"title\":{\"id\":\"1593\"},\"toolbar\":{\"id\":\"1617\"},\"x_range\":{\"id\":\"1595\"},\"x_scale\":{\"id\":\"1599\"},\"y_range\":{\"id\":\"1597\"},\"y_scale\":{\"id\":\"1601\"}},\"id\":\"1592\",\"subtype\":\"Figure\",\"type\":\"Plot\"},{\"attributes\":{},\"id\":\"1599\",\"type\":\"CategoricalScale\"},{\"attributes\":{\"source\":{\"id\":\"1624\"}},\"id\":\"1628\",\"type\":\"CDSView\"},{\"attributes\":{},\"id\":\"1601\",\"type\":\"LinearScale\"},{\"attributes\":{\"formatter\":{\"id\":\"1678\"},\"ticker\":{\"id\":\"1604\"}},\"id\":\"1603\",\"type\":\"CategoricalAxis\"},{\"attributes\":{},\"id\":\"1678\",\"type\":\"CategoricalTickFormatter\"},{\"attributes\":{},\"id\":\"1604\",\"type\":\"CategoricalTicker\"},{\"attributes\":{\"axis\":{\"id\":\"1603\"},\"grid_line_color\":null,\"ticker\":null},\"id\":\"1605\",\"type\":\"Grid\"},{\"attributes\":{\"factors\":[\"Apples\",\"Pears\",\"Nectarines\",\"Plums\",\"Grapes\",\"Strawberries\"]},\"id\":\"1595\",\"type\":\"FactorRange\"},{\"attributes\":{},\"id\":\"1680\",\"type\":\"UnionRenderers\"},{\"attributes\":{},\"id\":\"1681\",\"type\":\"Selection\"},{\"attributes\":{},\"id\":\"1610\",\"type\":\"PanTool\"},{\"attributes\":{},\"id\":\"1611\",\"type\":\"WheelZoomTool\"},{\"attributes\":{\"overlay\":{\"id\":\"1616\"}},\"id\":\"1612\",\"type\":\"BoxZoomTool\"},{\"attributes\":{\"data_source\":{\"id\":\"1624\"},\"glyph\":{\"id\":\"1625\"},\"hover_glyph\":null,\"muted_glyph\":null,\"nonselection_glyph\":{\"id\":\"1626\"},\"selection_glyph\":null,\"view\":{\"id\":\"1628\"}},\"id\":\"1627\",\"type\":\"GlyphRenderer\"},{\"attributes\":{},\"id\":\"1613\",\"type\":\"SaveTool\"},{\"attributes\":{},\"id\":\"1614\",\"type\":\"ResetTool\"},{\"attributes\":{},\"id\":\"1615\",\"type\":\"HelpTool\"},{\"attributes\":{\"formatter\":{\"id\":\"1676\"},\"ticker\":{\"id\":\"1607\"}},\"id\":\"1606\",\"type\":\"LinearAxis\"},{\"attributes\":{\"start\":0},\"id\":\"1597\",\"type\":\"DataRange1d\"},{\"attributes\":{\"active_drag\":\"auto\",\"active_inspect\":\"auto\",\"active_multi\":null,\"active_scroll\":\"auto\",\"active_tap\":\"auto\",\"tools\":[{\"id\":\"1610\"},{\"id\":\"1611\"},{\"id\":\"1612\"},{\"id\":\"1613\"},{\"id\":\"1614\"},{\"id\":\"1615\"}]},\"id\":\"1617\",\"type\":\"Toolbar\"},{\"attributes\":{\"data\":{\"top\":[5,3,4,2,4,6],\"x\":[\"Apples\",\"Pears\",\"Nectarines\",\"Plums\",\"Grapes\",\"Strawberries\"]},\"selected\":{\"id\":\"1681\"},\"selection_policy\":{\"id\":\"1680\"}},\"id\":\"1624\",\"type\":\"ColumnDataSource\"},{\"attributes\":{},\"id\":\"1607\",\"type\":\"BasicTicker\"},{\"attributes\":{},\"id\":\"1676\",\"type\":\"BasicTickFormatter\"},{\"attributes\":{\"bottom_units\":\"screen\",\"fill_alpha\":0.5,\"fill_color\":\"lightgrey\",\"left_units\":\"screen\",\"level\":\"overlay\",\"line_alpha\":1.0,\"line_color\":\"black\",\"line_dash\":[4,4],\"line_width\":2,\"right_units\":\"screen\",\"top_units\":\"screen\"},\"id\":\"1616\",\"type\":\"BoxAnnotation\"},{\"attributes\":{\"text\":\"Fruit Counts\"},\"id\":\"1593\",\"type\":\"Title\"},{\"attributes\":{\"fill_alpha\":{\"value\":0.1},\"fill_color\":{\"value\":\"#1f77b4\"},\"line_alpha\":{\"value\":0.1},\"line_color\":{\"value\":\"#1f77b4\"},\"top\":{\"field\":\"top\"},\"width\":{\"value\":0.9},\"x\":{\"field\":\"x\"}},\"id\":\"1626\",\"type\":\"VBar\"},{\"attributes\":{\"axis\":{\"id\":\"1606\"},\"dimension\":1,\"ticker\":null},\"id\":\"1609\",\"type\":\"Grid\"},{\"attributes\":{\"fill_color\":{\"value\":\"#1f77b4\"},\"line_color\":{\"value\":\"#1f77b4\"},\"top\":{\"field\":\"top\"},\"width\":{\"value\":0.9},\"x\":{\"field\":\"x\"}},\"id\":\"1625\",\"type\":\"VBar\"}],\"root_ids\":[\"1592\"]},\"title\":\"Bokeh Application\",\"version\":\"2.2.1\"}};\n",
       "  var render_items = [{\"docid\":\"eaab336a-960a-47ea-b20d-664d8303ab05\",\"root_ids\":[\"1592\"],\"roots\":{\"1592\":\"2f6b40c3-bcfc-422c-a4ed-0846cc0131d0\"}}];\n",
       "  root.Bokeh.embed.embed_items_notebook(docs_json, render_items);\n",
       "\n",
       "  }\n",
       "  if (root.Bokeh !== undefined) {\n",
       "    embed_document(root);\n",
       "  } else {\n",
       "    var attempts = 0;\n",
       "    var timer = setInterval(function(root) {\n",
       "      if (root.Bokeh !== undefined) {\n",
       "        clearInterval(timer);\n",
       "        embed_document(root);\n",
       "      } else {\n",
       "        attempts++;\n",
       "        if (attempts > 100) {\n",
       "          clearInterval(timer);\n",
       "          console.log(\"Bokeh: ERROR: Unable to run BokehJS code because BokehJS library is missing\");\n",
       "        }\n",
       "      }\n",
       "    }, 10, root)\n",
       "  }\n",
       "})(window);"
      ],
      "application/vnd.bokehjs_exec.v0+json": ""
     },
     "metadata": {
      "application/vnd.bokehjs_exec.v0+json": {
       "id": "1592"
      }
     },
     "output_type": "display_data"
    }
   ],
   "source": [
    "# Here is a list of categorical values (or factors)\n",
    "fruits = [\"Apples\", \"Pears\", \"Nectarines\", \"Plums\", \"Grapes\", \"Strawberries\"]\n",
    "\n",
    "# Set the x_range to the list of categories above\n",
    "p = figure(x_range=fruits, plot_height=250, title=\"Fruit Counts\")\n",
    "\n",
    "# Categorical values can also be used as coordinates\n",
    "p.vbar(x=fruits, top=[5, 3, 4, 2, 4, 6], width=0.9)\n",
    "\n",
    "# Set some properties to make the plot look better\n",
    "p.xgrid.grid_line_color = None\n",
    "p.y_range.start = 0\n",
    "\n",
    "show(p)"
   ]
  },
  {
   "cell_type": "markdown",
   "metadata": {},
   "source": [
    "## Bar Plot"
   ]
  },
  {
   "cell_type": "markdown",
   "metadata": {},
   "source": [
    "Let's import some data for plotting. The dataset we use here is natural gas production in US by states."
   ]
  },
  {
   "cell_type": "code",
   "execution_count": 12,
   "metadata": {
    "ExecuteTime": {
     "end_time": "2020-09-24T05:48:34.660467Z",
     "start_time": "2020-09-24T05:48:34.509606Z"
    }
   },
   "outputs": [
    {
     "data": {
      "text/html": [
       "<div>\n",
       "<style scoped>\n",
       "    .dataframe tbody tr th:only-of-type {\n",
       "        vertical-align: middle;\n",
       "    }\n",
       "\n",
       "    .dataframe tbody tr th {\n",
       "        vertical-align: top;\n",
       "    }\n",
       "\n",
       "    .dataframe thead th {\n",
       "        text-align: right;\n",
       "    }\n",
       "</style>\n",
       "<table border=\"1\" class=\"dataframe\">\n",
       "  <thead>\n",
       "    <tr style=\"text-align: right;\">\n",
       "      <th></th>\n",
       "      <th>Other States Natural Gas Gross Withdrawals (MMcf)</th>\n",
       "      <th>Alabama Natural Gas Gross Withdrawals (MMcf)</th>\n",
       "      <th>Arizona Natural Gas Gross Withdrawals (MMcf)</th>\n",
       "      <th>Florida Natural Gas Gross Withdrawals (MMcf)</th>\n",
       "      <th>Idaho Gross Withdrawals of Natural Gas (Million Cubic Feet)</th>\n",
       "      <th>Illinois Natural Gas Gross Withdrawals (MMcf)</th>\n",
       "      <th>Indiana Natural Gas Gross Withdrawals (MMcf)</th>\n",
       "      <th>Kentucky Natural Gas Gross Withdrawals (MMcf)</th>\n",
       "      <th>Maryland Natural Gas Gross Withdrawals (MMcf)</th>\n",
       "      <th>Michigan Natural Gas Gross Withdrawals (MMcf)</th>\n",
       "      <th>Mississippi Natural Gas Gross Withdrawals (MMcf)</th>\n",
       "      <th>Missouri Natural Gas Gross Withdrawals (MMcf)</th>\n",
       "      <th>Nebraska Natural Gas Gross Withdrawals (MMcf)</th>\n",
       "      <th>Nevada Natural Gas Gross Withdrawals (MMcf)</th>\n",
       "      <th>New York Natural Gas Gross Withdrawals (MMcf)</th>\n",
       "      <th>Oregon Natural Gas Gross Withdrawals (MMcf)</th>\n",
       "      <th>South Dakota Natural Gas Gross Withdrawals (MMcf)</th>\n",
       "      <th>Tennessee Natural Gas Gross Withdrawals (MMcf)</th>\n",
       "      <th>Virginia Natural Gas Gross Withdrawals (MMcf)</th>\n",
       "    </tr>\n",
       "    <tr>\n",
       "      <th>Date</th>\n",
       "      <th></th>\n",
       "      <th></th>\n",
       "      <th></th>\n",
       "      <th></th>\n",
       "      <th></th>\n",
       "      <th></th>\n",
       "      <th></th>\n",
       "      <th></th>\n",
       "      <th></th>\n",
       "      <th></th>\n",
       "      <th></th>\n",
       "      <th></th>\n",
       "      <th></th>\n",
       "      <th></th>\n",
       "      <th></th>\n",
       "      <th></th>\n",
       "      <th></th>\n",
       "      <th></th>\n",
       "      <th></th>\n",
       "    </tr>\n",
       "  </thead>\n",
       "  <tbody>\n",
       "    <tr>\n",
       "      <th>1991-01-15</th>\n",
       "      <td>75788</td>\n",
       "      <td>17691.0</td>\n",
       "      <td>NaN</td>\n",
       "      <td>NaN</td>\n",
       "      <td>NaN</td>\n",
       "      <td>41.0</td>\n",
       "      <td>21.0</td>\n",
       "      <td>7021.0</td>\n",
       "      <td>0.0</td>\n",
       "      <td>15965.0</td>\n",
       "      <td>16689.0</td>\n",
       "      <td>0.0</td>\n",
       "      <td>57.0</td>\n",
       "      <td>3.0</td>\n",
       "      <td>2041.0</td>\n",
       "      <td>NaN</td>\n",
       "      <td>525.0</td>\n",
       "      <td>165.0</td>\n",
       "      <td>1849.0</td>\n",
       "    </tr>\n",
       "    <tr>\n",
       "      <th>1991-02-15</th>\n",
       "      <td>66569</td>\n",
       "      <td>16173.0</td>\n",
       "      <td>NaN</td>\n",
       "      <td>NaN</td>\n",
       "      <td>NaN</td>\n",
       "      <td>38.0</td>\n",
       "      <td>18.0</td>\n",
       "      <td>6303.0</td>\n",
       "      <td>0.0</td>\n",
       "      <td>14322.0</td>\n",
       "      <td>14603.0</td>\n",
       "      <td>0.0</td>\n",
       "      <td>58.0</td>\n",
       "      <td>3.0</td>\n",
       "      <td>1820.0</td>\n",
       "      <td>NaN</td>\n",
       "      <td>421.0</td>\n",
       "      <td>148.0</td>\n",
       "      <td>1545.0</td>\n",
       "    </tr>\n",
       "    <tr>\n",
       "      <th>1991-03-15</th>\n",
       "      <td>71068</td>\n",
       "      <td>17747.0</td>\n",
       "      <td>NaN</td>\n",
       "      <td>NaN</td>\n",
       "      <td>NaN</td>\n",
       "      <td>40.0</td>\n",
       "      <td>20.0</td>\n",
       "      <td>6870.0</td>\n",
       "      <td>5.0</td>\n",
       "      <td>17792.0</td>\n",
       "      <td>15913.0</td>\n",
       "      <td>1.0</td>\n",
       "      <td>65.0</td>\n",
       "      <td>5.0</td>\n",
       "      <td>1983.0</td>\n",
       "      <td>NaN</td>\n",
       "      <td>458.0</td>\n",
       "      <td>161.0</td>\n",
       "      <td>1076.0</td>\n",
       "    </tr>\n",
       "    <tr>\n",
       "      <th>1991-04-15</th>\n",
       "      <td>64899</td>\n",
       "      <td>17335.0</td>\n",
       "      <td>NaN</td>\n",
       "      <td>562.0</td>\n",
       "      <td>NaN</td>\n",
       "      <td>39.0</td>\n",
       "      <td>19.0</td>\n",
       "      <td>6515.0</td>\n",
       "      <td>0.0</td>\n",
       "      <td>18491.0</td>\n",
       "      <td>14873.0</td>\n",
       "      <td>2.0</td>\n",
       "      <td>63.0</td>\n",
       "      <td>6.0</td>\n",
       "      <td>1881.0</td>\n",
       "      <td>NaN</td>\n",
       "      <td>445.0</td>\n",
       "      <td>153.0</td>\n",
       "      <td>906.0</td>\n",
       "    </tr>\n",
       "    <tr>\n",
       "      <th>1991-05-15</th>\n",
       "      <td>64083</td>\n",
       "      <td>18260.0</td>\n",
       "      <td>NaN</td>\n",
       "      <td>NaN</td>\n",
       "      <td>NaN</td>\n",
       "      <td>38.0</td>\n",
       "      <td>19.0</td>\n",
       "      <td>6458.0</td>\n",
       "      <td>0.0</td>\n",
       "      <td>19993.0</td>\n",
       "      <td>14762.0</td>\n",
       "      <td>1.0</td>\n",
       "      <td>69.0</td>\n",
       "      <td>6.0</td>\n",
       "      <td>1865.0</td>\n",
       "      <td>NaN</td>\n",
       "      <td>421.0</td>\n",
       "      <td>152.0</td>\n",
       "      <td>698.0</td>\n",
       "    </tr>\n",
       "  </tbody>\n",
       "</table>\n",
       "</div>"
      ],
      "text/plain": [
       "            Other States Natural Gas Gross Withdrawals (MMcf)  \\\n",
       "Date                                                            \n",
       "1991-01-15                                              75788   \n",
       "1991-02-15                                              66569   \n",
       "1991-03-15                                              71068   \n",
       "1991-04-15                                              64899   \n",
       "1991-05-15                                              64083   \n",
       "\n",
       "            Alabama Natural Gas Gross Withdrawals (MMcf)  \\\n",
       "Date                                                       \n",
       "1991-01-15                                       17691.0   \n",
       "1991-02-15                                       16173.0   \n",
       "1991-03-15                                       17747.0   \n",
       "1991-04-15                                       17335.0   \n",
       "1991-05-15                                       18260.0   \n",
       "\n",
       "            Arizona Natural Gas Gross Withdrawals (MMcf)  \\\n",
       "Date                                                       \n",
       "1991-01-15                                           NaN   \n",
       "1991-02-15                                           NaN   \n",
       "1991-03-15                                           NaN   \n",
       "1991-04-15                                           NaN   \n",
       "1991-05-15                                           NaN   \n",
       "\n",
       "            Florida Natural Gas Gross Withdrawals (MMcf)  \\\n",
       "Date                                                       \n",
       "1991-01-15                                           NaN   \n",
       "1991-02-15                                           NaN   \n",
       "1991-03-15                                           NaN   \n",
       "1991-04-15                                         562.0   \n",
       "1991-05-15                                           NaN   \n",
       "\n",
       "            Idaho Gross Withdrawals of Natural Gas (Million Cubic Feet)  \\\n",
       "Date                                                                      \n",
       "1991-01-15                                                NaN             \n",
       "1991-02-15                                                NaN             \n",
       "1991-03-15                                                NaN             \n",
       "1991-04-15                                                NaN             \n",
       "1991-05-15                                                NaN             \n",
       "\n",
       "            Illinois Natural Gas Gross Withdrawals (MMcf)  \\\n",
       "Date                                                        \n",
       "1991-01-15                                           41.0   \n",
       "1991-02-15                                           38.0   \n",
       "1991-03-15                                           40.0   \n",
       "1991-04-15                                           39.0   \n",
       "1991-05-15                                           38.0   \n",
       "\n",
       "            Indiana Natural Gas Gross Withdrawals (MMcf)  \\\n",
       "Date                                                       \n",
       "1991-01-15                                          21.0   \n",
       "1991-02-15                                          18.0   \n",
       "1991-03-15                                          20.0   \n",
       "1991-04-15                                          19.0   \n",
       "1991-05-15                                          19.0   \n",
       "\n",
       "            Kentucky Natural Gas Gross Withdrawals (MMcf)  \\\n",
       "Date                                                        \n",
       "1991-01-15                                         7021.0   \n",
       "1991-02-15                                         6303.0   \n",
       "1991-03-15                                         6870.0   \n",
       "1991-04-15                                         6515.0   \n",
       "1991-05-15                                         6458.0   \n",
       "\n",
       "            Maryland Natural Gas Gross Withdrawals (MMcf)  \\\n",
       "Date                                                        \n",
       "1991-01-15                                            0.0   \n",
       "1991-02-15                                            0.0   \n",
       "1991-03-15                                            5.0   \n",
       "1991-04-15                                            0.0   \n",
       "1991-05-15                                            0.0   \n",
       "\n",
       "            Michigan Natural Gas Gross Withdrawals (MMcf)  \\\n",
       "Date                                                        \n",
       "1991-01-15                                        15965.0   \n",
       "1991-02-15                                        14322.0   \n",
       "1991-03-15                                        17792.0   \n",
       "1991-04-15                                        18491.0   \n",
       "1991-05-15                                        19993.0   \n",
       "\n",
       "            Mississippi Natural Gas Gross Withdrawals (MMcf)  \\\n",
       "Date                                                           \n",
       "1991-01-15                                           16689.0   \n",
       "1991-02-15                                           14603.0   \n",
       "1991-03-15                                           15913.0   \n",
       "1991-04-15                                           14873.0   \n",
       "1991-05-15                                           14762.0   \n",
       "\n",
       "            Missouri Natural Gas Gross Withdrawals (MMcf)  \\\n",
       "Date                                                        \n",
       "1991-01-15                                            0.0   \n",
       "1991-02-15                                            0.0   \n",
       "1991-03-15                                            1.0   \n",
       "1991-04-15                                            2.0   \n",
       "1991-05-15                                            1.0   \n",
       "\n",
       "            Nebraska Natural Gas Gross Withdrawals (MMcf)  \\\n",
       "Date                                                        \n",
       "1991-01-15                                           57.0   \n",
       "1991-02-15                                           58.0   \n",
       "1991-03-15                                           65.0   \n",
       "1991-04-15                                           63.0   \n",
       "1991-05-15                                           69.0   \n",
       "\n",
       "            Nevada Natural Gas Gross Withdrawals (MMcf)  \\\n",
       "Date                                                      \n",
       "1991-01-15                                          3.0   \n",
       "1991-02-15                                          3.0   \n",
       "1991-03-15                                          5.0   \n",
       "1991-04-15                                          6.0   \n",
       "1991-05-15                                          6.0   \n",
       "\n",
       "            New York Natural Gas Gross Withdrawals (MMcf)  \\\n",
       "Date                                                        \n",
       "1991-01-15                                         2041.0   \n",
       "1991-02-15                                         1820.0   \n",
       "1991-03-15                                         1983.0   \n",
       "1991-04-15                                         1881.0   \n",
       "1991-05-15                                         1865.0   \n",
       "\n",
       "            Oregon Natural Gas Gross Withdrawals (MMcf)  \\\n",
       "Date                                                      \n",
       "1991-01-15                                          NaN   \n",
       "1991-02-15                                          NaN   \n",
       "1991-03-15                                          NaN   \n",
       "1991-04-15                                          NaN   \n",
       "1991-05-15                                          NaN   \n",
       "\n",
       "            South Dakota Natural Gas Gross Withdrawals (MMcf)  \\\n",
       "Date                                                            \n",
       "1991-01-15                                              525.0   \n",
       "1991-02-15                                              421.0   \n",
       "1991-03-15                                              458.0   \n",
       "1991-04-15                                              445.0   \n",
       "1991-05-15                                              421.0   \n",
       "\n",
       "            Tennessee Natural Gas Gross Withdrawals (MMcf)  \\\n",
       "Date                                                         \n",
       "1991-01-15                                           165.0   \n",
       "1991-02-15                                           148.0   \n",
       "1991-03-15                                           161.0   \n",
       "1991-04-15                                           153.0   \n",
       "1991-05-15                                           152.0   \n",
       "\n",
       "            Virginia Natural Gas Gross Withdrawals (MMcf)  \n",
       "Date                                                       \n",
       "1991-01-15                                         1849.0  \n",
       "1991-02-15                                         1545.0  \n",
       "1991-03-15                                         1076.0  \n",
       "1991-04-15                                          906.0  \n",
       "1991-05-15                                          698.0  "
      ]
     },
     "execution_count": 12,
     "metadata": {},
     "output_type": "execute_result"
    }
   ],
   "source": [
    "import pandas as pd\n",
    "\n",
    "ngdf = pd.read_excel(\n",
    "    \"../../data/processed/NaturalGas/NG_PROD_SUM.xls\",\n",
    "    sheet_name=2,\n",
    "    header=2,\n",
    "    index_col=\"Date\",\n",
    "    parse_dates=True,\n",
    ")\n",
    "ngdf.head()"
   ]
  },
  {
   "cell_type": "code",
   "execution_count": 13,
   "metadata": {
    "ExecuteTime": {
     "end_time": "2020-09-24T05:48:34.699540Z",
     "start_time": "2020-09-24T05:48:34.662849Z"
    }
   },
   "outputs": [
    {
     "data": {
      "text/html": [
       "<div>\n",
       "<style scoped>\n",
       "    .dataframe tbody tr th:only-of-type {\n",
       "        vertical-align: middle;\n",
       "    }\n",
       "\n",
       "    .dataframe tbody tr th {\n",
       "        vertical-align: top;\n",
       "    }\n",
       "\n",
       "    .dataframe thead th {\n",
       "        text-align: right;\n",
       "    }\n",
       "</style>\n",
       "<table border=\"1\" class=\"dataframe\">\n",
       "  <thead>\n",
       "    <tr style=\"text-align: right;\">\n",
       "      <th></th>\n",
       "      <th>Other</th>\n",
       "      <th>Alabama</th>\n",
       "      <th>Arizona</th>\n",
       "      <th>Florida</th>\n",
       "      <th>Idaho</th>\n",
       "      <th>Illinois</th>\n",
       "      <th>Indiana</th>\n",
       "      <th>Kentucky</th>\n",
       "      <th>Maryland</th>\n",
       "      <th>Michigan</th>\n",
       "      <th>Mississippi</th>\n",
       "      <th>Missouri</th>\n",
       "      <th>Nebraska</th>\n",
       "      <th>Nevada</th>\n",
       "      <th>New York</th>\n",
       "      <th>Oregon</th>\n",
       "      <th>South</th>\n",
       "      <th>Tennessee</th>\n",
       "      <th>Virginia</th>\n",
       "    </tr>\n",
       "    <tr>\n",
       "      <th>Date</th>\n",
       "      <th></th>\n",
       "      <th></th>\n",
       "      <th></th>\n",
       "      <th></th>\n",
       "      <th></th>\n",
       "      <th></th>\n",
       "      <th></th>\n",
       "      <th></th>\n",
       "      <th></th>\n",
       "      <th></th>\n",
       "      <th></th>\n",
       "      <th></th>\n",
       "      <th></th>\n",
       "      <th></th>\n",
       "      <th></th>\n",
       "      <th></th>\n",
       "      <th></th>\n",
       "      <th></th>\n",
       "      <th></th>\n",
       "    </tr>\n",
       "  </thead>\n",
       "  <tbody>\n",
       "    <tr>\n",
       "      <th>1991</th>\n",
       "      <td>797930</td>\n",
       "      <td>223875.0</td>\n",
       "      <td>0.0</td>\n",
       "      <td>3703.0</td>\n",
       "      <td>0.0</td>\n",
       "      <td>466.0</td>\n",
       "      <td>232.0</td>\n",
       "      <td>78905.0</td>\n",
       "      <td>29.0</td>\n",
       "      <td>201413.0</td>\n",
       "      <td>180771.0</td>\n",
       "      <td>15.0</td>\n",
       "      <td>782.0</td>\n",
       "      <td>53.0</td>\n",
       "      <td>22778.0</td>\n",
       "      <td>0.0</td>\n",
       "      <td>5804.0</td>\n",
       "      <td>1856.0</td>\n",
       "      <td>14906.0</td>\n",
       "    </tr>\n",
       "    <tr>\n",
       "      <th>1992</th>\n",
       "      <td>818233</td>\n",
       "      <td>413616.0</td>\n",
       "      <td>0.0</td>\n",
       "      <td>7584.0</td>\n",
       "      <td>0.0</td>\n",
       "      <td>348.0</td>\n",
       "      <td>173.0</td>\n",
       "      <td>79690.0</td>\n",
       "      <td>31.0</td>\n",
       "      <td>200479.0</td>\n",
       "      <td>165537.0</td>\n",
       "      <td>27.0</td>\n",
       "      <td>1177.0</td>\n",
       "      <td>30.0</td>\n",
       "      <td>23522.0</td>\n",
       "      <td>0.0</td>\n",
       "      <td>6963.0</td>\n",
       "      <td>1770.0</td>\n",
       "      <td>24733.0</td>\n",
       "    </tr>\n",
       "    <tr>\n",
       "      <th>1993</th>\n",
       "      <td>807040</td>\n",
       "      <td>446320.0</td>\n",
       "      <td>0.0</td>\n",
       "      <td>8011.0</td>\n",
       "      <td>0.0</td>\n",
       "      <td>338.0</td>\n",
       "      <td>191.0</td>\n",
       "      <td>86965.0</td>\n",
       "      <td>28.0</td>\n",
       "      <td>210298.0</td>\n",
       "      <td>145025.0</td>\n",
       "      <td>14.0</td>\n",
       "      <td>2115.0</td>\n",
       "      <td>23.0</td>\n",
       "      <td>21198.0</td>\n",
       "      <td>0.0</td>\n",
       "      <td>7058.0</td>\n",
       "      <td>1659.0</td>\n",
       "      <td>37839.0</td>\n",
       "    </tr>\n",
       "    <tr>\n",
       "      <th>1994</th>\n",
       "      <td>793263</td>\n",
       "      <td>578862.0</td>\n",
       "      <td>0.0</td>\n",
       "      <td>8469.0</td>\n",
       "      <td>0.0</td>\n",
       "      <td>333.0</td>\n",
       "      <td>106.0</td>\n",
       "      <td>73082.0</td>\n",
       "      <td>27.0</td>\n",
       "      <td>228321.0</td>\n",
       "      <td>121802.0</td>\n",
       "      <td>8.0</td>\n",
       "      <td>2899.0</td>\n",
       "      <td>12.0</td>\n",
       "      <td>20475.0</td>\n",
       "      <td>0.0</td>\n",
       "      <td>7264.0</td>\n",
       "      <td>1991.0</td>\n",
       "      <td>50262.0</td>\n",
       "    </tr>\n",
       "    <tr>\n",
       "      <th>1995</th>\n",
       "      <td>774977</td>\n",
       "      <td>580125.0</td>\n",
       "      <td>0.0</td>\n",
       "      <td>7132.0</td>\n",
       "      <td>0.0</td>\n",
       "      <td>334.0</td>\n",
       "      <td>249.0</td>\n",
       "      <td>74756.0</td>\n",
       "      <td>24.0</td>\n",
       "      <td>243865.0</td>\n",
       "      <td>119454.0</td>\n",
       "      <td>17.0</td>\n",
       "      <td>2239.0</td>\n",
       "      <td>12.0</td>\n",
       "      <td>18398.0</td>\n",
       "      <td>0.0</td>\n",
       "      <td>8375.0</td>\n",
       "      <td>1820.0</td>\n",
       "      <td>49817.0</td>\n",
       "    </tr>\n",
       "  </tbody>\n",
       "</table>\n",
       "</div>"
      ],
      "text/plain": [
       "       Other   Alabama  Arizona  Florida  Idaho  Illinois  Indiana  Kentucky  \\\n",
       "Date                                                                           \n",
       "1991  797930  223875.0      0.0   3703.0    0.0     466.0    232.0   78905.0   \n",
       "1992  818233  413616.0      0.0   7584.0    0.0     348.0    173.0   79690.0   \n",
       "1993  807040  446320.0      0.0   8011.0    0.0     338.0    191.0   86965.0   \n",
       "1994  793263  578862.0      0.0   8469.0    0.0     333.0    106.0   73082.0   \n",
       "1995  774977  580125.0      0.0   7132.0    0.0     334.0    249.0   74756.0   \n",
       "\n",
       "      Maryland  Michigan  Mississippi  Missouri  Nebraska  Nevada  New York  \\\n",
       "Date                                                                          \n",
       "1991      29.0  201413.0     180771.0      15.0     782.0    53.0   22778.0   \n",
       "1992      31.0  200479.0     165537.0      27.0    1177.0    30.0   23522.0   \n",
       "1993      28.0  210298.0     145025.0      14.0    2115.0    23.0   21198.0   \n",
       "1994      27.0  228321.0     121802.0       8.0    2899.0    12.0   20475.0   \n",
       "1995      24.0  243865.0     119454.0      17.0    2239.0    12.0   18398.0   \n",
       "\n",
       "      Oregon   South  Tennessee  Virginia  \n",
       "Date                                       \n",
       "1991     0.0  5804.0     1856.0   14906.0  \n",
       "1992     0.0  6963.0     1770.0   24733.0  \n",
       "1993     0.0  7058.0     1659.0   37839.0  \n",
       "1994     0.0  7264.0     1991.0   50262.0  \n",
       "1995     0.0  8375.0     1820.0   49817.0  "
      ]
     },
     "execution_count": 13,
     "metadata": {},
     "output_type": "execute_result"
    }
   ],
   "source": [
    "ngdf.columns = [c[: c.find(\" \", 5)] for c in ngdf.columns]\n",
    "ngdf = ngdf.resample(\"A\").sum()\n",
    "ngdf.index = ngdf.index.year\n",
    "ngdf.head()"
   ]
  },
  {
   "cell_type": "markdown",
   "metadata": {},
   "source": [
    "To create a vertical bar chart we can use `.vbar()`. But first we need to create a figure and pass in what is going to be displayed on x-axis."
   ]
  },
  {
   "cell_type": "code",
   "execution_count": 14,
   "metadata": {
    "ExecuteTime": {
     "end_time": "2020-09-24T05:48:34.712302Z",
     "start_time": "2020-09-24T05:48:34.701172Z"
    }
   },
   "outputs": [],
   "source": [
    "p = figure(\n",
    "    x_range=ngdf.columns.to_list(),\n",
    "    plot_height=500,\n",
    "    title=\"Natural Gas production by state in 2015\",\n",
    ")"
   ]
  },
  {
   "cell_type": "markdown",
   "metadata": {},
   "source": [
    "Now we use `p.vbar()` and pass in the x values, which are the name of the states. We can pass in the location of top of the bars (bar heights) as top."
   ]
  },
  {
   "cell_type": "code",
   "execution_count": 15,
   "metadata": {
    "ExecuteTime": {
     "end_time": "2020-09-24T05:48:34.788990Z",
     "start_time": "2020-09-24T05:48:34.714700Z"
    }
   },
   "outputs": [
    {
     "data": {
      "text/html": [
       "\n",
       "\n",
       "\n",
       "\n",
       "\n",
       "\n",
       "  <div class=\"bk-root\" id=\"985e4e61-c7f7-457e-b751-ef29f3ba7a10\" data-root-id=\"1722\"></div>\n"
      ]
     },
     "metadata": {},
     "output_type": "display_data"
    },
    {
     "data": {
      "application/javascript": [
       "(function(root) {\n",
       "  function embed_document(root) {\n",
       "    \n",
       "  var docs_json = {\"78c68c61-6da1-46d7-91cd-55ec8830e502\":{\"roots\":{\"references\":[{\"attributes\":{\"below\":[{\"id\":\"1733\"}],\"center\":[{\"id\":\"1735\"},{\"id\":\"1739\"}],\"left\":[{\"id\":\"1736\"}],\"plot_height\":500,\"renderers\":[{\"id\":\"1757\"}],\"title\":{\"id\":\"1723\"},\"toolbar\":{\"id\":\"1747\"},\"x_range\":{\"id\":\"1725\"},\"x_scale\":{\"id\":\"1729\"},\"y_range\":{\"id\":\"1727\"},\"y_scale\":{\"id\":\"1731\"}},\"id\":\"1722\",\"subtype\":\"Figure\",\"type\":\"Plot\"},{\"attributes\":{\"data_source\":{\"id\":\"1754\"},\"glyph\":{\"id\":\"1755\"},\"hover_glyph\":null,\"muted_glyph\":null,\"nonselection_glyph\":{\"id\":\"1756\"},\"selection_glyph\":null,\"view\":{\"id\":\"1758\"}},\"id\":\"1757\",\"type\":\"GlyphRenderer\"},{\"attributes\":{\"axis\":{\"id\":\"1736\"},\"dimension\":1,\"ticker\":null},\"id\":\"1739\",\"type\":\"Grid\"},{\"attributes\":{\"fill_alpha\":{\"value\":0.1},\"fill_color\":{\"value\":\"#1f77b4\"},\"line_alpha\":{\"value\":0.1},\"line_color\":{\"value\":\"#1f77b4\"},\"top\":{\"field\":\"top\"},\"width\":{\"value\":0.5},\"x\":{\"field\":\"x\"}},\"id\":\"1756\",\"type\":\"VBar\"},{\"attributes\":{\"formatter\":{\"id\":\"1814\"},\"ticker\":{\"id\":\"1737\"}},\"id\":\"1736\",\"type\":\"LinearAxis\"},{\"attributes\":{},\"id\":\"1745\",\"type\":\"HelpTool\"},{\"attributes\":{},\"id\":\"1741\",\"type\":\"WheelZoomTool\"},{\"attributes\":{\"source\":{\"id\":\"1754\"}},\"id\":\"1758\",\"type\":\"CDSView\"},{\"attributes\":{\"active_drag\":\"auto\",\"active_inspect\":\"auto\",\"active_multi\":null,\"active_scroll\":\"auto\",\"active_tap\":\"auto\",\"tools\":[{\"id\":\"1740\"},{\"id\":\"1741\"},{\"id\":\"1742\"},{\"id\":\"1743\"},{\"id\":\"1744\"},{\"id\":\"1745\"}]},\"id\":\"1747\",\"type\":\"Toolbar\"},{\"attributes\":{},\"id\":\"1737\",\"type\":\"BasicTicker\"},{\"attributes\":{\"bottom_units\":\"screen\",\"fill_alpha\":0.5,\"fill_color\":\"lightgrey\",\"left_units\":\"screen\",\"level\":\"overlay\",\"line_alpha\":1.0,\"line_color\":\"black\",\"line_dash\":[4,4],\"line_width\":2,\"right_units\":\"screen\",\"top_units\":\"screen\"},\"id\":\"1746\",\"type\":\"BoxAnnotation\"},{\"attributes\":{},\"id\":\"1740\",\"type\":\"PanTool\"},{\"attributes\":{},\"id\":\"1816\",\"type\":\"CategoricalTickFormatter\"},{\"attributes\":{\"fill_color\":{\"value\":\"#1f77b4\"},\"line_color\":{\"value\":\"#1f77b4\"},\"top\":{\"field\":\"top\"},\"width\":{\"value\":0.5},\"x\":{\"field\":\"x\"}},\"id\":\"1755\",\"type\":\"VBar\"},{\"attributes\":{\"overlay\":{\"id\":\"1746\"}},\"id\":\"1742\",\"type\":\"BoxZoomTool\"},{\"attributes\":{},\"id\":\"1743\",\"type\":\"SaveTool\"},{\"attributes\":{\"factors\":[\"Other\",\"Alabama\",\"Arizona\",\"Florida\",\"Idaho\",\"Illinois\",\"Indiana\",\"Kentucky\",\"Maryland\",\"Michigan\",\"Mississippi\",\"Missouri\",\"Nebraska\",\"Nevada\",\"New York\",\"Oregon\",\"South\",\"Tennessee\",\"Virginia\"]},\"id\":\"1725\",\"type\":\"FactorRange\"},{\"attributes\":{},\"id\":\"1729\",\"type\":\"CategoricalScale\"},{\"attributes\":{},\"id\":\"1731\",\"type\":\"LinearScale\"},{\"attributes\":{},\"id\":\"1744\",\"type\":\"ResetTool\"},{\"attributes\":{},\"id\":\"1814\",\"type\":\"BasicTickFormatter\"},{\"attributes\":{},\"id\":\"1734\",\"type\":\"CategoricalTicker\"},{\"attributes\":{},\"id\":\"1819\",\"type\":\"Selection\"},{\"attributes\":{\"axis\":{\"id\":\"1733\"},\"ticker\":null},\"id\":\"1735\",\"type\":\"Grid\"},{\"attributes\":{\"text\":\"Natural Gas production by state in 2015\"},\"id\":\"1723\",\"type\":\"Title\"},{\"attributes\":{},\"id\":\"1727\",\"type\":\"DataRange1d\"},{\"attributes\":{},\"id\":\"1818\",\"type\":\"UnionRenderers\"},{\"attributes\":{\"data\":{\"top\":{\"__ndarray__\":\"AAAAADioIkEAAAAAuIkEQQAAAAAAgFdAAAAAAACdtkAAAAAAANyQQAAAAAAAQKBAAAAAAABRvEAAAAAAQGr3QAAAAAAAgEJAAAAAACBJ+kAAAAAAoGjsQAAAAAAAAAAAAAAAAADQfUAAAAAAAAAAQAAAAACA6tBAAAAAAACAikAAAAAAAFfMQAAAAAAAsbBAAAAAADAm/0A=\",\"dtype\":\"float64\",\"order\":\"little\",\"shape\":[19]},\"x\":[\"Other\",\"Alabama\",\"Arizona\",\"Florida\",\"Idaho\",\"Illinois\",\"Indiana\",\"Kentucky\",\"Maryland\",\"Michigan\",\"Mississippi\",\"Missouri\",\"Nebraska\",\"Nevada\",\"New York\",\"Oregon\",\"South\",\"Tennessee\",\"Virginia\"]},\"selected\":{\"id\":\"1819\"},\"selection_policy\":{\"id\":\"1818\"}},\"id\":\"1754\",\"type\":\"ColumnDataSource\"},{\"attributes\":{\"formatter\":{\"id\":\"1816\"},\"ticker\":{\"id\":\"1734\"}},\"id\":\"1733\",\"type\":\"CategoricalAxis\"}],\"root_ids\":[\"1722\"]},\"title\":\"Bokeh Application\",\"version\":\"2.2.1\"}};\n",
       "  var render_items = [{\"docid\":\"78c68c61-6da1-46d7-91cd-55ec8830e502\",\"root_ids\":[\"1722\"],\"roots\":{\"1722\":\"985e4e61-c7f7-457e-b751-ef29f3ba7a10\"}}];\n",
       "  root.Bokeh.embed.embed_items_notebook(docs_json, render_items);\n",
       "\n",
       "  }\n",
       "  if (root.Bokeh !== undefined) {\n",
       "    embed_document(root);\n",
       "  } else {\n",
       "    var attempts = 0;\n",
       "    var timer = setInterval(function(root) {\n",
       "      if (root.Bokeh !== undefined) {\n",
       "        clearInterval(timer);\n",
       "        embed_document(root);\n",
       "      } else {\n",
       "        attempts++;\n",
       "        if (attempts > 100) {\n",
       "          clearInterval(timer);\n",
       "          console.log(\"Bokeh: ERROR: Unable to run BokehJS code because BokehJS library is missing\");\n",
       "        }\n",
       "      }\n",
       "    }, 10, root)\n",
       "  }\n",
       "})(window);"
      ],
      "application/vnd.bokehjs_exec.v0+json": ""
     },
     "metadata": {
      "application/vnd.bokehjs_exec.v0+json": {
       "id": "1722"
      }
     },
     "output_type": "display_data"
    }
   ],
   "source": [
    "p.vbar(x=ngdf.columns.to_list(), top=ngdf.loc[2015, :].values, width=0.5)\n",
    "show(p)"
   ]
  },
  {
   "cell_type": "code",
   "execution_count": 16,
   "metadata": {
    "ExecuteTime": {
     "end_time": "2020-09-24T05:48:34.859925Z",
     "start_time": "2020-09-24T05:48:34.790912Z"
    },
    "scrolled": false
   },
   "outputs": [
    {
     "data": {
      "text/html": [
       "\n",
       "\n",
       "\n",
       "\n",
       "\n",
       "\n",
       "  <div class=\"bk-root\" id=\"67647489-1fef-418d-89e8-ff618a950eb2\" data-root-id=\"1722\"></div>\n"
      ]
     },
     "metadata": {},
     "output_type": "display_data"
    },
    {
     "data": {
      "application/javascript": [
       "(function(root) {\n",
       "  function embed_document(root) {\n",
       "    \n",
       "  var docs_json = {\"17024c51-819a-4b4f-86d8-d053617d4c32\":{\"roots\":{\"references\":[{\"attributes\":{\"below\":[{\"id\":\"1733\"}],\"center\":[{\"id\":\"1735\"},{\"id\":\"1739\"}],\"left\":[{\"id\":\"1736\"}],\"plot_height\":500,\"renderers\":[{\"id\":\"1757\"}],\"title\":{\"id\":\"1723\"},\"toolbar\":{\"id\":\"1747\"},\"x_range\":{\"id\":\"1725\"},\"x_scale\":{\"id\":\"1729\"},\"y_range\":{\"id\":\"1727\"},\"y_scale\":{\"id\":\"1731\"}},\"id\":\"1722\",\"subtype\":\"Figure\",\"type\":\"Plot\"},{\"attributes\":{\"data_source\":{\"id\":\"1754\"},\"glyph\":{\"id\":\"1755\"},\"hover_glyph\":null,\"muted_glyph\":null,\"nonselection_glyph\":{\"id\":\"1756\"},\"selection_glyph\":null,\"view\":{\"id\":\"1758\"}},\"id\":\"1757\",\"type\":\"GlyphRenderer\"},{\"attributes\":{\"axis\":{\"id\":\"1736\"},\"dimension\":1,\"ticker\":null},\"id\":\"1739\",\"type\":\"Grid\"},{\"attributes\":{\"fill_alpha\":{\"value\":0.1},\"fill_color\":{\"value\":\"#1f77b4\"},\"line_alpha\":{\"value\":0.1},\"line_color\":{\"value\":\"#1f77b4\"},\"top\":{\"field\":\"top\"},\"width\":{\"value\":0.5},\"x\":{\"field\":\"x\"}},\"id\":\"1756\",\"type\":\"VBar\"},{\"attributes\":{\"formatter\":{\"id\":\"1860\"},\"ticker\":{\"id\":\"1737\"}},\"id\":\"1736\",\"type\":\"LinearAxis\"},{\"attributes\":{},\"id\":\"1745\",\"type\":\"HelpTool\"},{\"attributes\":{},\"id\":\"1741\",\"type\":\"WheelZoomTool\"},{\"attributes\":{\"source\":{\"id\":\"1754\"}},\"id\":\"1758\",\"type\":\"CDSView\"},{\"attributes\":{\"active_drag\":\"auto\",\"active_inspect\":\"auto\",\"active_multi\":null,\"active_scroll\":\"auto\",\"active_tap\":\"auto\",\"tools\":[{\"id\":\"1740\"},{\"id\":\"1741\"},{\"id\":\"1742\"},{\"id\":\"1743\"},{\"id\":\"1744\"},{\"id\":\"1745\"}]},\"id\":\"1747\",\"type\":\"Toolbar\"},{\"attributes\":{},\"id\":\"1737\",\"type\":\"BasicTicker\"},{\"attributes\":{\"bottom_units\":\"screen\",\"fill_alpha\":0.5,\"fill_color\":\"lightgrey\",\"left_units\":\"screen\",\"level\":\"overlay\",\"line_alpha\":1.0,\"line_color\":\"black\",\"line_dash\":[4,4],\"line_width\":2,\"right_units\":\"screen\",\"top_units\":\"screen\"},\"id\":\"1746\",\"type\":\"BoxAnnotation\"},{\"attributes\":{\"format\":\"%d\"},\"id\":\"1860\",\"type\":\"PrintfTickFormatter\"},{\"attributes\":{},\"id\":\"1740\",\"type\":\"PanTool\"},{\"attributes\":{},\"id\":\"1816\",\"type\":\"CategoricalTickFormatter\"},{\"attributes\":{\"fill_color\":{\"value\":\"#1f77b4\"},\"line_color\":{\"value\":\"#1f77b4\"},\"top\":{\"field\":\"top\"},\"width\":{\"value\":0.5},\"x\":{\"field\":\"x\"}},\"id\":\"1755\",\"type\":\"VBar\"},{\"attributes\":{\"overlay\":{\"id\":\"1746\"}},\"id\":\"1742\",\"type\":\"BoxZoomTool\"},{\"attributes\":{},\"id\":\"1743\",\"type\":\"SaveTool\"},{\"attributes\":{\"factors\":[\"Other\",\"Alabama\",\"Arizona\",\"Florida\",\"Idaho\",\"Illinois\",\"Indiana\",\"Kentucky\",\"Maryland\",\"Michigan\",\"Mississippi\",\"Missouri\",\"Nebraska\",\"Nevada\",\"New York\",\"Oregon\",\"South\",\"Tennessee\",\"Virginia\"]},\"id\":\"1725\",\"type\":\"FactorRange\"},{\"attributes\":{},\"id\":\"1729\",\"type\":\"CategoricalScale\"},{\"attributes\":{},\"id\":\"1731\",\"type\":\"LinearScale\"},{\"attributes\":{},\"id\":\"1744\",\"type\":\"ResetTool\"},{\"attributes\":{},\"id\":\"1734\",\"type\":\"CategoricalTicker\"},{\"attributes\":{},\"id\":\"1819\",\"type\":\"Selection\"},{\"attributes\":{\"axis\":{\"id\":\"1733\"},\"grid_line_color\":null,\"ticker\":null},\"id\":\"1735\",\"type\":\"Grid\"},{\"attributes\":{\"text\":\"Natural Gas production by state in 2015\"},\"id\":\"1723\",\"type\":\"Title\"},{\"attributes\":{},\"id\":\"1727\",\"type\":\"DataRange1d\"},{\"attributes\":{},\"id\":\"1818\",\"type\":\"UnionRenderers\"},{\"attributes\":{\"data\":{\"top\":{\"__ndarray__\":\"AAAAADioIkEAAAAAuIkEQQAAAAAAgFdAAAAAAACdtkAAAAAAANyQQAAAAAAAQKBAAAAAAABRvEAAAAAAQGr3QAAAAAAAgEJAAAAAACBJ+kAAAAAAoGjsQAAAAAAAAAAAAAAAAADQfUAAAAAAAAAAQAAAAACA6tBAAAAAAACAikAAAAAAAFfMQAAAAAAAsbBAAAAAADAm/0A=\",\"dtype\":\"float64\",\"order\":\"little\",\"shape\":[19]},\"x\":[\"Other\",\"Alabama\",\"Arizona\",\"Florida\",\"Idaho\",\"Illinois\",\"Indiana\",\"Kentucky\",\"Maryland\",\"Michigan\",\"Mississippi\",\"Missouri\",\"Nebraska\",\"Nevada\",\"New York\",\"Oregon\",\"South\",\"Tennessee\",\"Virginia\"]},\"selected\":{\"id\":\"1819\"},\"selection_policy\":{\"id\":\"1818\"}},\"id\":\"1754\",\"type\":\"ColumnDataSource\"},{\"attributes\":{\"formatter\":{\"id\":\"1816\"},\"major_label_orientation\":1.0471975511965976,\"ticker\":{\"id\":\"1734\"}},\"id\":\"1733\",\"type\":\"CategoricalAxis\"}],\"root_ids\":[\"1722\"]},\"title\":\"Bokeh Application\",\"version\":\"2.2.1\"}};\n",
       "  var render_items = [{\"docid\":\"17024c51-819a-4b4f-86d8-d053617d4c32\",\"root_ids\":[\"1722\"],\"roots\":{\"1722\":\"67647489-1fef-418d-89e8-ff618a950eb2\"}}];\n",
       "  root.Bokeh.embed.embed_items_notebook(docs_json, render_items);\n",
       "\n",
       "  }\n",
       "  if (root.Bokeh !== undefined) {\n",
       "    embed_document(root);\n",
       "  } else {\n",
       "    var attempts = 0;\n",
       "    var timer = setInterval(function(root) {\n",
       "      if (root.Bokeh !== undefined) {\n",
       "        clearInterval(timer);\n",
       "        embed_document(root);\n",
       "      } else {\n",
       "        attempts++;\n",
       "        if (attempts > 100) {\n",
       "          clearInterval(timer);\n",
       "          console.log(\"Bokeh: ERROR: Unable to run BokehJS code because BokehJS library is missing\");\n",
       "        }\n",
       "      }\n",
       "    }, 10, root)\n",
       "  }\n",
       "})(window);"
      ],
      "application/vnd.bokehjs_exec.v0+json": ""
     },
     "metadata": {
      "application/vnd.bokehjs_exec.v0+json": {
       "id": "1722"
      }
     },
     "output_type": "display_data"
    }
   ],
   "source": [
    "from bokeh.models import PrintfTickFormatter\n",
    "\n",
    "p.xgrid.grid_line_color = None  # remove the vertical grid lines\n",
    "p.xaxis.major_label_orientation = (\n",
    "    np.pi / 3\n",
    ")  # Angle of x-axis tick labels (angle is in gradian)\n",
    "p.yaxis.formatter = PrintfTickFormatter(\n",
    "    format=\"%d\"\n",
    ")  # Change tick values formatting to be shown as full numbers\n",
    "show(p)"
   ]
  },
  {
   "cell_type": "markdown",
   "metadata": {},
   "source": [
    "Similarly you can create a horizontal bar chart."
   ]
  },
  {
   "cell_type": "code",
   "execution_count": 17,
   "metadata": {
    "ExecuteTime": {
     "end_time": "2020-09-24T05:48:34.949534Z",
     "start_time": "2020-09-24T05:48:34.862774Z"
    }
   },
   "outputs": [
    {
     "data": {
      "text/html": [
       "\n",
       "\n",
       "\n",
       "\n",
       "\n",
       "\n",
       "  <div class=\"bk-root\" id=\"1c745803-4119-4736-89b8-b723f244ae01\" data-root-id=\"1957\"></div>\n"
      ]
     },
     "metadata": {},
     "output_type": "display_data"
    },
    {
     "data": {
      "application/javascript": [
       "(function(root) {\n",
       "  function embed_document(root) {\n",
       "    \n",
       "  var docs_json = {\"d63eff50-7603-4660-a0bf-39d92c4f7298\":{\"roots\":{\"references\":[{\"attributes\":{\"below\":[{\"id\":\"1968\"}],\"center\":[{\"id\":\"1971\"},{\"id\":\"1974\"}],\"left\":[{\"id\":\"1972\"}],\"plot_height\":500,\"renderers\":[{\"id\":\"1992\"}],\"title\":{\"id\":\"1958\"},\"toolbar\":{\"id\":\"1982\"},\"x_range\":{\"id\":\"1960\"},\"x_scale\":{\"id\":\"1964\"},\"y_range\":{\"id\":\"1962\"},\"y_scale\":{\"id\":\"1966\"}},\"id\":\"1957\",\"subtype\":\"Figure\",\"type\":\"Plot\"},{\"attributes\":{},\"id\":\"1980\",\"type\":\"HelpTool\"},{\"attributes\":{\"text\":\"Natural Gas production by state in 2015\"},\"id\":\"1958\",\"type\":\"Title\"},{\"attributes\":{},\"id\":\"1978\",\"type\":\"SaveTool\"},{\"attributes\":{\"overlay\":{\"id\":\"1981\"}},\"id\":\"1977\",\"type\":\"BoxZoomTool\"},{\"attributes\":{},\"id\":\"1976\",\"type\":\"WheelZoomTool\"},{\"attributes\":{},\"id\":\"1975\",\"type\":\"PanTool\"},{\"attributes\":{\"data_source\":{\"id\":\"1989\"},\"glyph\":{\"id\":\"1990\"},\"hover_glyph\":null,\"muted_glyph\":null,\"nonselection_glyph\":{\"id\":\"1991\"},\"selection_glyph\":null,\"view\":{\"id\":\"1993\"}},\"id\":\"1992\",\"type\":\"GlyphRenderer\"},{\"attributes\":{},\"id\":\"1979\",\"type\":\"ResetTool\"},{\"attributes\":{\"format\":\"%d\"},\"id\":\"1994\",\"type\":\"PrintfTickFormatter\"},{\"attributes\":{},\"id\":\"2058\",\"type\":\"CategoricalTickFormatter\"},{\"attributes\":{\"fill_alpha\":{\"value\":0.1},\"fill_color\":{\"value\":\"#1f77b4\"},\"height\":{\"value\":0.5},\"line_alpha\":{\"value\":0.1},\"line_color\":{\"value\":\"#1f77b4\"},\"right\":{\"field\":\"right\"},\"y\":{\"field\":\"y\"}},\"id\":\"1991\",\"type\":\"HBar\"},{\"attributes\":{\"source\":{\"id\":\"1989\"}},\"id\":\"1993\",\"type\":\"CDSView\"},{\"attributes\":{\"formatter\":{\"id\":\"2058\"},\"ticker\":{\"id\":\"1973\"}},\"id\":\"1972\",\"type\":\"CategoricalAxis\"},{\"attributes\":{},\"id\":\"1973\",\"type\":\"CategoricalTicker\"},{\"attributes\":{\"data\":{\"right\":{\"__ndarray__\":\"AAAAADioIkEAAAAAuIkEQQAAAAAAgFdAAAAAAACdtkAAAAAAANyQQAAAAAAAQKBAAAAAAABRvEAAAAAAQGr3QAAAAAAAgEJAAAAAACBJ+kAAAAAAoGjsQAAAAAAAAAAAAAAAAADQfUAAAAAAAAAAQAAAAACA6tBAAAAAAACAikAAAAAAAFfMQAAAAAAAsbBAAAAAADAm/0A=\",\"dtype\":\"float64\",\"order\":\"little\",\"shape\":[19]},\"y\":[\"Other\",\"Alabama\",\"Arizona\",\"Florida\",\"Idaho\",\"Illinois\",\"Indiana\",\"Kentucky\",\"Maryland\",\"Michigan\",\"Mississippi\",\"Missouri\",\"Nebraska\",\"Nevada\",\"New York\",\"Oregon\",\"South\",\"Tennessee\",\"Virginia\"]},\"selected\":{\"id\":\"2062\"},\"selection_policy\":{\"id\":\"2061\"}},\"id\":\"1989\",\"type\":\"ColumnDataSource\"},{\"attributes\":{\"bottom_units\":\"screen\",\"fill_alpha\":0.5,\"fill_color\":\"lightgrey\",\"left_units\":\"screen\",\"level\":\"overlay\",\"line_alpha\":1.0,\"line_color\":\"black\",\"line_dash\":[4,4],\"line_width\":2,\"right_units\":\"screen\",\"top_units\":\"screen\"},\"id\":\"1981\",\"type\":\"BoxAnnotation\"},{\"attributes\":{},\"id\":\"2061\",\"type\":\"UnionRenderers\"},{\"attributes\":{\"axis\":{\"id\":\"1972\"},\"dimension\":1,\"grid_line_color\":null,\"ticker\":null},\"id\":\"1974\",\"type\":\"Grid\"},{\"attributes\":{\"axis\":{\"id\":\"1968\"},\"ticker\":null},\"id\":\"1971\",\"type\":\"Grid\"},{\"attributes\":{\"formatter\":{\"id\":\"1994\"},\"ticker\":{\"id\":\"1969\"}},\"id\":\"1968\",\"type\":\"LinearAxis\"},{\"attributes\":{},\"id\":\"2062\",\"type\":\"Selection\"},{\"attributes\":{},\"id\":\"1969\",\"type\":\"BasicTicker\"},{\"attributes\":{},\"id\":\"1960\",\"type\":\"DataRange1d\"},{\"attributes\":{\"fill_color\":{\"value\":\"#1f77b4\"},\"height\":{\"value\":0.5},\"line_color\":{\"value\":\"#1f77b4\"},\"right\":{\"field\":\"right\"},\"y\":{\"field\":\"y\"}},\"id\":\"1990\",\"type\":\"HBar\"},{\"attributes\":{\"factors\":[\"Other\",\"Alabama\",\"Arizona\",\"Florida\",\"Idaho\",\"Illinois\",\"Indiana\",\"Kentucky\",\"Maryland\",\"Michigan\",\"Mississippi\",\"Missouri\",\"Nebraska\",\"Nevada\",\"New York\",\"Oregon\",\"South\",\"Tennessee\",\"Virginia\"]},\"id\":\"1962\",\"type\":\"FactorRange\"},{\"attributes\":{},\"id\":\"1964\",\"type\":\"LinearScale\"},{\"attributes\":{\"active_drag\":\"auto\",\"active_inspect\":\"auto\",\"active_multi\":null,\"active_scroll\":\"auto\",\"active_tap\":\"auto\",\"tools\":[{\"id\":\"1975\"},{\"id\":\"1976\"},{\"id\":\"1977\"},{\"id\":\"1978\"},{\"id\":\"1979\"},{\"id\":\"1980\"}]},\"id\":\"1982\",\"type\":\"Toolbar\"},{\"attributes\":{},\"id\":\"1966\",\"type\":\"CategoricalScale\"}],\"root_ids\":[\"1957\"]},\"title\":\"Bokeh Application\",\"version\":\"2.2.1\"}};\n",
       "  var render_items = [{\"docid\":\"d63eff50-7603-4660-a0bf-39d92c4f7298\",\"root_ids\":[\"1957\"],\"roots\":{\"1957\":\"1c745803-4119-4736-89b8-b723f244ae01\"}}];\n",
       "  root.Bokeh.embed.embed_items_notebook(docs_json, render_items);\n",
       "\n",
       "  }\n",
       "  if (root.Bokeh !== undefined) {\n",
       "    embed_document(root);\n",
       "  } else {\n",
       "    var attempts = 0;\n",
       "    var timer = setInterval(function(root) {\n",
       "      if (root.Bokeh !== undefined) {\n",
       "        clearInterval(timer);\n",
       "        embed_document(root);\n",
       "      } else {\n",
       "        attempts++;\n",
       "        if (attempts > 100) {\n",
       "          clearInterval(timer);\n",
       "          console.log(\"Bokeh: ERROR: Unable to run BokehJS code because BokehJS library is missing\");\n",
       "        }\n",
       "      }\n",
       "    }, 10, root)\n",
       "  }\n",
       "})(window);"
      ],
      "application/vnd.bokehjs_exec.v0+json": ""
     },
     "metadata": {
      "application/vnd.bokehjs_exec.v0+json": {
       "id": "1957"
      }
     },
     "output_type": "display_data"
    }
   ],
   "source": [
    "p = figure(\n",
    "    y_range=ngdf.columns.to_list(),\n",
    "    plot_height=500,\n",
    "    title=\"Natural Gas production by state in 2015\",\n",
    ")\n",
    "p.hbar(y=ngdf.columns.to_list(), right=ngdf.loc[2015, :].values, height=0.5)\n",
    "p.ygrid.grid_line_color = None  # remove the vertical grid lines\n",
    "p.xaxis.formatter = PrintfTickFormatter(\n",
    "    format=\"%d\"\n",
    ")  # Change tick values formatting to be shown as full numbers\n",
    "show(p)"
   ]
  },
  {
   "cell_type": "markdown",
   "metadata": {},
   "source": [
    "Note the difference between the codes for vertical and horizontal bar charts. In vertical we had to specify `top`, but in horizontal we specified `right`. Also `x` and `y` are swapped."
   ]
  },
  {
   "cell_type": "markdown",
   "metadata": {},
   "source": [
    "## Stacked Bar\n",
    "When we want to have multiple bars stacked over each other. The way this plot is done is slightly different from nromal bar charts. For this plot we need have a list of data for each group of bars in a python dictionary. Let's see it through an example."
   ]
  },
  {
   "cell_type": "markdown",
   "metadata": {},
   "source": [
    "We want to create a horizontal stacked bar chart of natural gas production from 2015 to 2018. So we put the years in a list so we can use them to get the data for each year from the data frame."
   ]
  },
  {
   "cell_type": "code",
   "execution_count": 18,
   "metadata": {
    "ExecuteTime": {
     "end_time": "2020-09-24T05:48:34.955881Z",
     "start_time": "2020-09-24T05:48:34.951904Z"
    }
   },
   "outputs": [],
   "source": [
    "years = [2015, 2016, 2017, 2018]"
   ]
  },
  {
   "cell_type": "markdown",
   "metadata": {},
   "source": [
    "But when we want to pass in a list of years to the plot, bokeh needs them to be in string format. Therefore, we create a list of years in string format."
   ]
  },
  {
   "cell_type": "code",
   "execution_count": 19,
   "metadata": {
    "ExecuteTime": {
     "end_time": "2020-09-24T05:48:34.962967Z",
     "start_time": "2020-09-24T05:48:34.958110Z"
    }
   },
   "outputs": [],
   "source": [
    "yrs_str = [str(y) for y in years]"
   ]
  },
  {
   "cell_type": "markdown",
   "metadata": {},
   "source": [
    "Now we create the input data by first adding a list of states, and then adding to it a list of values for each year."
   ]
  },
  {
   "cell_type": "code",
   "execution_count": 20,
   "metadata": {
    "ExecuteTime": {
     "end_time": "2020-09-24T05:48:34.973462Z",
     "start_time": "2020-09-24T05:48:34.965540Z"
    }
   },
   "outputs": [],
   "source": [
    "data = {\"States\": ngdf.columns.to_list()}\n",
    "data.update({str(y): ngdf.loc[y, :].values for y in years})"
   ]
  },
  {
   "cell_type": "markdown",
   "metadata": {},
   "source": [
    "__Note:__ The input data is a python dictionary. Also, years are stored in string format."
   ]
  },
  {
   "cell_type": "markdown",
   "metadata": {},
   "source": [
    "Now we can pass in the data to the plot."
   ]
  },
  {
   "cell_type": "code",
   "execution_count": 21,
   "metadata": {
    "ExecuteTime": {
     "end_time": "2020-09-24T05:48:35.123309Z",
     "start_time": "2020-09-24T05:48:34.976049Z"
    }
   },
   "outputs": [
    {
     "data": {
      "text/html": [
       "\n",
       "\n",
       "\n",
       "\n",
       "\n",
       "\n",
       "  <div class=\"bk-root\" id=\"d6252103-7659-4f8e-b7c9-b5eb87997a4b\" data-root-id=\"2098\"></div>\n"
      ]
     },
     "metadata": {},
     "output_type": "display_data"
    },
    {
     "data": {
      "application/javascript": [
       "(function(root) {\n",
       "  function embed_document(root) {\n",
       "    \n",
       "  var docs_json = {\"17680968-1092-4eee-9687-85ba9145b9fb\":{\"roots\":{\"references\":[{\"attributes\":{\"below\":[{\"id\":\"2109\"}],\"center\":[{\"id\":\"2112\"},{\"id\":\"2115\"},{\"id\":\"2152\"}],\"left\":[{\"id\":\"2113\"}],\"plot_height\":500,\"renderers\":[{\"id\":\"2142\"},{\"id\":\"2158\"},{\"id\":\"2175\"},{\"id\":\"2194\"}],\"title\":{\"id\":\"2099\"},\"toolbar\":{\"id\":\"2123\"},\"x_range\":{\"id\":\"2101\"},\"x_scale\":{\"id\":\"2105\"},\"y_range\":{\"id\":\"2103\"},\"y_scale\":{\"id\":\"2107\"}},\"id\":\"2098\",\"subtype\":\"Figure\",\"type\":\"Plot\"},{\"attributes\":{\"source\":{\"id\":\"2138\"}},\"id\":\"2143\",\"type\":\"CDSView\"},{\"attributes\":{},\"id\":\"2121\",\"type\":\"HelpTool\"},{\"attributes\":{},\"id\":\"2187\",\"type\":\"UnionRenderers\"},{\"attributes\":{\"fill_color\":{\"value\":\"#018571\"},\"height\":{\"value\":0.5},\"left\":{\"expr\":{\"id\":\"2130\"}},\"line_color\":{\"value\":\"#018571\"},\"right\":{\"expr\":{\"id\":\"2131\"}},\"y\":{\"field\":\"States\"}},\"id\":\"2140\",\"type\":\"HBar\"},{\"attributes\":{\"fill_alpha\":{\"value\":0.1},\"fill_color\":{\"value\":\"#dfc27d\"},\"height\":{\"value\":0.5},\"left\":{\"expr\":{\"id\":\"2134\"}},\"line_alpha\":{\"value\":0.1},\"line_color\":{\"value\":\"#dfc27d\"},\"right\":{\"expr\":{\"id\":\"2135\"}},\"y\":{\"field\":\"States\"}},\"id\":\"2174\",\"type\":\"HBar\"},{\"attributes\":{\"active_drag\":\"auto\",\"active_inspect\":\"auto\",\"active_multi\":null,\"active_scroll\":\"auto\",\"active_tap\":\"auto\",\"tools\":[{\"id\":\"2116\"},{\"id\":\"2117\"},{\"id\":\"2118\"},{\"id\":\"2119\"},{\"id\":\"2120\"},{\"id\":\"2121\"}]},\"id\":\"2123\",\"type\":\"Toolbar\"},{\"attributes\":{\"data_source\":{\"id\":\"2171\"},\"glyph\":{\"id\":\"2173\"},\"hover_glyph\":null,\"muted_glyph\":null,\"name\":\"2017\",\"nonselection_glyph\":{\"id\":\"2174\"},\"selection_glyph\":null,\"view\":{\"id\":\"2176\"}},\"id\":\"2175\",\"type\":\"GlyphRenderer\"},{\"attributes\":{\"fields\":[\"2015\"]},\"id\":\"2132\",\"type\":\"Stack\"},{\"attributes\":{\"fields\":[\"2015\",\"2016\"]},\"id\":\"2134\",\"type\":\"Stack\"},{\"attributes\":{},\"id\":\"2119\",\"type\":\"SaveTool\"},{\"attributes\":{\"fields\":[]},\"id\":\"2130\",\"type\":\"Stack\"},{\"attributes\":{},\"id\":\"2150\",\"type\":\"UnionRenderers\"},{\"attributes\":{\"source\":{\"id\":\"2171\"}},\"id\":\"2176\",\"type\":\"CDSView\"},{\"attributes\":{\"format\":\"%d\"},\"id\":\"2211\",\"type\":\"PrintfTickFormatter\"},{\"attributes\":{},\"id\":\"2151\",\"type\":\"Selection\"},{\"attributes\":{},\"id\":\"2120\",\"type\":\"ResetTool\"},{\"attributes\":{},\"id\":\"2116\",\"type\":\"PanTool\"},{\"attributes\":{\"fill_color\":{\"value\":\"#dfc27d\"},\"height\":{\"value\":0.5},\"left\":{\"expr\":{\"id\":\"2134\"}},\"line_color\":{\"value\":\"#dfc27d\"},\"right\":{\"expr\":{\"id\":\"2135\"}},\"y\":{\"field\":\"States\"}},\"id\":\"2173\",\"type\":\"HBar\"},{\"attributes\":{\"fields\":[\"2015\",\"2016\",\"2017\",\"2018\"]},\"id\":\"2137\",\"type\":\"Stack\"},{\"attributes\":{\"items\":[{\"id\":\"2153\"},{\"id\":\"2170\"},{\"id\":\"2189\"},{\"id\":\"2210\"}]},\"id\":\"2152\",\"type\":\"Legend\"},{\"attributes\":{},\"id\":\"2188\",\"type\":\"Selection\"},{\"attributes\":{\"axis_label\":\"Production (MMcf)\",\"formatter\":{\"id\":\"2211\"},\"ticker\":{\"id\":\"2110\"}},\"id\":\"2109\",\"type\":\"LinearAxis\"},{\"attributes\":{\"label\":{\"value\":\"2015\"},\"renderers\":[{\"id\":\"2142\"}]},\"id\":\"2153\",\"type\":\"LegendItem\"},{\"attributes\":{\"formatter\":{\"id\":\"2146\"},\"ticker\":{\"id\":\"2114\"}},\"id\":\"2113\",\"type\":\"CategoricalAxis\"},{\"attributes\":{\"label\":{\"value\":\"2017\"},\"renderers\":[{\"id\":\"2175\"}]},\"id\":\"2189\",\"type\":\"LegendItem\"},{\"attributes\":{\"fields\":[\"2015\"]},\"id\":\"2131\",\"type\":\"Stack\"},{\"attributes\":{\"data\":{\"2015\":{\"__ndarray__\":\"AAAAADioIkEAAAAAuIkEQQAAAAAAgFdAAAAAAACdtkAAAAAAANyQQAAAAAAAQKBAAAAAAABRvEAAAAAAQGr3QAAAAAAAgEJAAAAAACBJ+kAAAAAAoGjsQAAAAAAAAAAAAAAAAADQfUAAAAAAAAAAQAAAAACA6tBAAAAAAACAikAAAAAAAFfMQAAAAAAAsbBAAAAAADAm/0A=\",\"dtype\":\"float64\",\"order\":\"little\",\"shape\":[19]},\"2016\":{\"__ndarray__\":\"AAAAAFhzIUEAAAAAcB4EQQAAAAAAgEdAAAAAAACDyEAAAAAAAB6yQAAAAAAADqFAAAAAAAA8uEAAAAAAcF/2QAAAAAAAAEFAAAAAAEDn+EAAAAAAIK/nQAAAAAAAAAAAAAAAAABggEAAAAAAAAAAAAAAAAAAZ8pAAAAAAAAQiUAAAAAAAIB8QAAAAAAAIKxAAAAAAABe/UA=\",\"dtype\":\"float64\",\"order\":\"little\",\"shape\":[19]},\"2017\":{\"__ndarray__\":\"AAAAACo7IEEAAAAAsFACQQAAAAAAgEtAAAAAAAALzUAAAAAAAKCtQAAAAAAApqBAAAAAAAAZt0AAAAAAsKj1QAAAAAAAgEBAAAAAADCM90AAAAAAwMTiQAAAAAAAAAAAAAAAAABgfEAAAAAAAAAAAAAAAAAAQ8ZAAAAAAACwhEAAAAAAAMB9QAAAAAAASKdAAAAAALAv/EA=\",\"dtype\":\"float64\",\"order\":\"little\",\"shape\":[19]},\"2018\":{\"__ndarray__\":\"AAAAAAidHkEAAAAA6AYBQQAAAAAAAEdAAAAAAIAgzkAAAAAAACidQAAAAAAA4qJAAAAAAAC9s0AAAAAAcID0QAAAAAAAADhAAAAAAEDb9UAAAAAAYF3hQAAAAAAAAAAAAAAAAAAge0AAAAAAAAAAAAAAAACAC8dAAAAAAABAf0AAAAAAAKB7QAAAAAAAnqtAAAAAAFA3+0A=\",\"dtype\":\"float64\",\"order\":\"little\",\"shape\":[19]},\"States\":[\"Other\",\"Alabama\",\"Arizona\",\"Florida\",\"Idaho\",\"Illinois\",\"Indiana\",\"Kentucky\",\"Maryland\",\"Michigan\",\"Mississippi\",\"Missouri\",\"Nebraska\",\"Nevada\",\"New York\",\"Oregon\",\"South\",\"Tennessee\",\"Virginia\"]},\"selected\":{\"id\":\"2169\"},\"selection_policy\":{\"id\":\"2168\"}},\"id\":\"2154\",\"type\":\"ColumnDataSource\"},{\"attributes\":{\"data\":{\"2015\":{\"__ndarray__\":\"AAAAADioIkEAAAAAuIkEQQAAAAAAgFdAAAAAAACdtkAAAAAAANyQQAAAAAAAQKBAAAAAAABRvEAAAAAAQGr3QAAAAAAAgEJAAAAAACBJ+kAAAAAAoGjsQAAAAAAAAAAAAAAAAADQfUAAAAAAAAAAQAAAAACA6tBAAAAAAACAikAAAAAAAFfMQAAAAAAAsbBAAAAAADAm/0A=\",\"dtype\":\"float64\",\"order\":\"little\",\"shape\":[19]},\"2016\":{\"__ndarray__\":\"AAAAAFhzIUEAAAAAcB4EQQAAAAAAgEdAAAAAAACDyEAAAAAAAB6yQAAAAAAADqFAAAAAAAA8uEAAAAAAcF/2QAAAAAAAAEFAAAAAAEDn+EAAAAAAIK/nQAAAAAAAAAAAAAAAAABggEAAAAAAAAAAAAAAAAAAZ8pAAAAAAAAQiUAAAAAAAIB8QAAAAAAAIKxAAAAAAABe/UA=\",\"dtype\":\"float64\",\"order\":\"little\",\"shape\":[19]},\"2017\":{\"__ndarray__\":\"AAAAACo7IEEAAAAAsFACQQAAAAAAgEtAAAAAAAALzUAAAAAAAKCtQAAAAAAApqBAAAAAAAAZt0AAAAAAsKj1QAAAAAAAgEBAAAAAADCM90AAAAAAwMTiQAAAAAAAAAAAAAAAAABgfEAAAAAAAAAAAAAAAAAAQ8ZAAAAAAACwhEAAAAAAAMB9QAAAAAAASKdAAAAAALAv/EA=\",\"dtype\":\"float64\",\"order\":\"little\",\"shape\":[19]},\"2018\":{\"__ndarray__\":\"AAAAAAidHkEAAAAA6AYBQQAAAAAAAEdAAAAAAIAgzkAAAAAAACidQAAAAAAA4qJAAAAAAAC9s0AAAAAAcID0QAAAAAAAADhAAAAAAEDb9UAAAAAAYF3hQAAAAAAAAAAAAAAAAAAge0AAAAAAAAAAAAAAAACAC8dAAAAAAABAf0AAAAAAAKB7QAAAAAAAnqtAAAAAAFA3+0A=\",\"dtype\":\"float64\",\"order\":\"little\",\"shape\":[19]},\"States\":[\"Other\",\"Alabama\",\"Arizona\",\"Florida\",\"Idaho\",\"Illinois\",\"Indiana\",\"Kentucky\",\"Maryland\",\"Michigan\",\"Mississippi\",\"Missouri\",\"Nebraska\",\"Nevada\",\"New York\",\"Oregon\",\"South\",\"Tennessee\",\"Virginia\"]},\"selected\":{\"id\":\"2209\"},\"selection_policy\":{\"id\":\"2208\"}},\"id\":\"2190\",\"type\":\"ColumnDataSource\"},{\"attributes\":{\"label\":{\"value\":\"2018\"},\"renderers\":[{\"id\":\"2194\"}]},\"id\":\"2210\",\"type\":\"LegendItem\"},{\"attributes\":{\"source\":{\"id\":\"2190\"}},\"id\":\"2195\",\"type\":\"CDSView\"},{\"attributes\":{\"axis\":{\"id\":\"2109\"},\"ticker\":null},\"id\":\"2112\",\"type\":\"Grid\"},{\"attributes\":{},\"id\":\"2168\",\"type\":\"UnionRenderers\"},{\"attributes\":{\"fill_alpha\":{\"value\":0.1},\"fill_color\":{\"value\":\"#80cdc1\"},\"height\":{\"value\":0.5},\"left\":{\"expr\":{\"id\":\"2132\"}},\"line_alpha\":{\"value\":0.1},\"line_color\":{\"value\":\"#80cdc1\"},\"right\":{\"expr\":{\"id\":\"2133\"}},\"y\":{\"field\":\"States\"}},\"id\":\"2157\",\"type\":\"HBar\"},{\"attributes\":{},\"id\":\"2110\",\"type\":\"BasicTicker\"},{\"attributes\":{\"fill_alpha\":{\"value\":0.1},\"fill_color\":{\"value\":\"#a6611a\"},\"height\":{\"value\":0.5},\"left\":{\"expr\":{\"id\":\"2136\"}},\"line_alpha\":{\"value\":0.1},\"line_color\":{\"value\":\"#a6611a\"},\"right\":{\"expr\":{\"id\":\"2137\"}},\"y\":{\"field\":\"States\"}},\"id\":\"2193\",\"type\":\"HBar\"},{\"attributes\":{\"fields\":[\"2015\",\"2016\",\"2017\"]},\"id\":\"2136\",\"type\":\"Stack\"},{\"attributes\":{},\"id\":\"2101\",\"type\":\"DataRange1d\"},{\"attributes\":{\"data_source\":{\"id\":\"2154\"},\"glyph\":{\"id\":\"2156\"},\"hover_glyph\":null,\"muted_glyph\":null,\"name\":\"2016\",\"nonselection_glyph\":{\"id\":\"2157\"},\"selection_glyph\":null,\"view\":{\"id\":\"2159\"}},\"id\":\"2158\",\"type\":\"GlyphRenderer\"},{\"attributes\":{\"data\":{\"2015\":{\"__ndarray__\":\"AAAAADioIkEAAAAAuIkEQQAAAAAAgFdAAAAAAACdtkAAAAAAANyQQAAAAAAAQKBAAAAAAABRvEAAAAAAQGr3QAAAAAAAgEJAAAAAACBJ+kAAAAAAoGjsQAAAAAAAAAAAAAAAAADQfUAAAAAAAAAAQAAAAACA6tBAAAAAAACAikAAAAAAAFfMQAAAAAAAsbBAAAAAADAm/0A=\",\"dtype\":\"float64\",\"order\":\"little\",\"shape\":[19]},\"2016\":{\"__ndarray__\":\"AAAAAFhzIUEAAAAAcB4EQQAAAAAAgEdAAAAAAACDyEAAAAAAAB6yQAAAAAAADqFAAAAAAAA8uEAAAAAAcF/2QAAAAAAAAEFAAAAAAEDn+EAAAAAAIK/nQAAAAAAAAAAAAAAAAABggEAAAAAAAAAAAAAAAAAAZ8pAAAAAAAAQiUAAAAAAAIB8QAAAAAAAIKxAAAAAAABe/UA=\",\"dtype\":\"float64\",\"order\":\"little\",\"shape\":[19]},\"2017\":{\"__ndarray__\":\"AAAAACo7IEEAAAAAsFACQQAAAAAAgEtAAAAAAAALzUAAAAAAAKCtQAAAAAAApqBAAAAAAAAZt0AAAAAAsKj1QAAAAAAAgEBAAAAAADCM90AAAAAAwMTiQAAAAAAAAAAAAAAAAABgfEAAAAAAAAAAAAAAAAAAQ8ZAAAAAAACwhEAAAAAAAMB9QAAAAAAASKdAAAAAALAv/EA=\",\"dtype\":\"float64\",\"order\":\"little\",\"shape\":[19]},\"2018\":{\"__ndarray__\":\"AAAAAAidHkEAAAAA6AYBQQAAAAAAAEdAAAAAAIAgzkAAAAAAACidQAAAAAAA4qJAAAAAAAC9s0AAAAAAcID0QAAAAAAAADhAAAAAAEDb9UAAAAAAYF3hQAAAAAAAAAAAAAAAAAAge0AAAAAAAAAAAAAAAACAC8dAAAAAAABAf0AAAAAAAKB7QAAAAAAAnqtAAAAAAFA3+0A=\",\"dtype\":\"float64\",\"order\":\"little\",\"shape\":[19]},\"States\":[\"Other\",\"Alabama\",\"Arizona\",\"Florida\",\"Idaho\",\"Illinois\",\"Indiana\",\"Kentucky\",\"Maryland\",\"Michigan\",\"Mississippi\",\"Missouri\",\"Nebraska\",\"Nevada\",\"New York\",\"Oregon\",\"South\",\"Tennessee\",\"Virginia\"]},\"selected\":{\"id\":\"2151\"},\"selection_policy\":{\"id\":\"2150\"}},\"id\":\"2138\",\"type\":\"ColumnDataSource\"},{\"attributes\":{\"bottom_units\":\"screen\",\"fill_alpha\":0.5,\"fill_color\":\"lightgrey\",\"left_units\":\"screen\",\"level\":\"overlay\",\"line_alpha\":1.0,\"line_color\":\"black\",\"line_dash\":[4,4],\"line_width\":2,\"right_units\":\"screen\",\"top_units\":\"screen\"},\"id\":\"2122\",\"type\":\"BoxAnnotation\"},{\"attributes\":{},\"id\":\"2209\",\"type\":\"Selection\"},{\"attributes\":{},\"id\":\"2114\",\"type\":\"CategoricalTicker\"},{\"attributes\":{\"source\":{\"id\":\"2154\"}},\"id\":\"2159\",\"type\":\"CDSView\"},{\"attributes\":{\"axis\":{\"id\":\"2113\"},\"dimension\":1,\"grid_line_color\":null,\"ticker\":null},\"id\":\"2115\",\"type\":\"Grid\"},{\"attributes\":{\"fields\":[\"2015\",\"2016\"]},\"id\":\"2133\",\"type\":\"Stack\"},{\"attributes\":{\"fill_color\":{\"value\":\"#80cdc1\"},\"height\":{\"value\":0.5},\"left\":{\"expr\":{\"id\":\"2132\"}},\"line_color\":{\"value\":\"#80cdc1\"},\"right\":{\"expr\":{\"id\":\"2133\"}},\"y\":{\"field\":\"States\"}},\"id\":\"2156\",\"type\":\"HBar\"},{\"attributes\":{\"fill_color\":{\"value\":\"#a6611a\"},\"height\":{\"value\":0.5},\"left\":{\"expr\":{\"id\":\"2136\"}},\"line_color\":{\"value\":\"#a6611a\"},\"right\":{\"expr\":{\"id\":\"2137\"}},\"y\":{\"field\":\"States\"}},\"id\":\"2192\",\"type\":\"HBar\"},{\"attributes\":{\"text\":\"Natural Gas production by state in 2015\"},\"id\":\"2099\",\"type\":\"Title\"},{\"attributes\":{\"fields\":[\"2015\",\"2016\",\"2017\"]},\"id\":\"2135\",\"type\":\"Stack\"},{\"attributes\":{},\"id\":\"2169\",\"type\":\"Selection\"},{\"attributes\":{\"factors\":[\"Other\",\"Alabama\",\"Arizona\",\"Florida\",\"Idaho\",\"Illinois\",\"Indiana\",\"Kentucky\",\"Maryland\",\"Michigan\",\"Mississippi\",\"Missouri\",\"Nebraska\",\"Nevada\",\"New York\",\"Oregon\",\"South\",\"Tennessee\",\"Virginia\"]},\"id\":\"2103\",\"type\":\"FactorRange\"},{\"attributes\":{},\"id\":\"2117\",\"type\":\"WheelZoomTool\"},{\"attributes\":{},\"id\":\"2208\",\"type\":\"UnionRenderers\"},{\"attributes\":{\"label\":{\"value\":\"2016\"},\"renderers\":[{\"id\":\"2158\"}]},\"id\":\"2170\",\"type\":\"LegendItem\"},{\"attributes\":{},\"id\":\"2107\",\"type\":\"CategoricalScale\"},{\"attributes\":{},\"id\":\"2146\",\"type\":\"CategoricalTickFormatter\"},{\"attributes\":{},\"id\":\"2105\",\"type\":\"LinearScale\"},{\"attributes\":{\"data\":{\"2015\":{\"__ndarray__\":\"AAAAADioIkEAAAAAuIkEQQAAAAAAgFdAAAAAAACdtkAAAAAAANyQQAAAAAAAQKBAAAAAAABRvEAAAAAAQGr3QAAAAAAAgEJAAAAAACBJ+kAAAAAAoGjsQAAAAAAAAAAAAAAAAADQfUAAAAAAAAAAQAAAAACA6tBAAAAAAACAikAAAAAAAFfMQAAAAAAAsbBAAAAAADAm/0A=\",\"dtype\":\"float64\",\"order\":\"little\",\"shape\":[19]},\"2016\":{\"__ndarray__\":\"AAAAAFhzIUEAAAAAcB4EQQAAAAAAgEdAAAAAAACDyEAAAAAAAB6yQAAAAAAADqFAAAAAAAA8uEAAAAAAcF/2QAAAAAAAAEFAAAAAAEDn+EAAAAAAIK/nQAAAAAAAAAAAAAAAAABggEAAAAAAAAAAAAAAAAAAZ8pAAAAAAAAQiUAAAAAAAIB8QAAAAAAAIKxAAAAAAABe/UA=\",\"dtype\":\"float64\",\"order\":\"little\",\"shape\":[19]},\"2017\":{\"__ndarray__\":\"AAAAACo7IEEAAAAAsFACQQAAAAAAgEtAAAAAAAALzUAAAAAAAKCtQAAAAAAApqBAAAAAAAAZt0AAAAAAsKj1QAAAAAAAgEBAAAAAADCM90AAAAAAwMTiQAAAAAAAAAAAAAAAAABgfEAAAAAAAAAAAAAAAAAAQ8ZAAAAAAACwhEAAAAAAAMB9QAAAAAAASKdAAAAAALAv/EA=\",\"dtype\":\"float64\",\"order\":\"little\",\"shape\":[19]},\"2018\":{\"__ndarray__\":\"AAAAAAidHkEAAAAA6AYBQQAAAAAAAEdAAAAAAIAgzkAAAAAAACidQAAAAAAA4qJAAAAAAAC9s0AAAAAAcID0QAAAAAAAADhAAAAAAEDb9UAAAAAAYF3hQAAAAAAAAAAAAAAAAAAge0AAAAAAAAAAAAAAAACAC8dAAAAAAABAf0AAAAAAAKB7QAAAAAAAnqtAAAAAAFA3+0A=\",\"dtype\":\"float64\",\"order\":\"little\",\"shape\":[19]},\"States\":[\"Other\",\"Alabama\",\"Arizona\",\"Florida\",\"Idaho\",\"Illinois\",\"Indiana\",\"Kentucky\",\"Maryland\",\"Michigan\",\"Mississippi\",\"Missouri\",\"Nebraska\",\"Nevada\",\"New York\",\"Oregon\",\"South\",\"Tennessee\",\"Virginia\"]},\"selected\":{\"id\":\"2188\"},\"selection_policy\":{\"id\":\"2187\"}},\"id\":\"2171\",\"type\":\"ColumnDataSource\"},{\"attributes\":{\"fill_alpha\":{\"value\":0.1},\"fill_color\":{\"value\":\"#018571\"},\"height\":{\"value\":0.5},\"left\":{\"expr\":{\"id\":\"2130\"}},\"line_alpha\":{\"value\":0.1},\"line_color\":{\"value\":\"#018571\"},\"right\":{\"expr\":{\"id\":\"2131\"}},\"y\":{\"field\":\"States\"}},\"id\":\"2141\",\"type\":\"HBar\"},{\"attributes\":{\"overlay\":{\"id\":\"2122\"}},\"id\":\"2118\",\"type\":\"BoxZoomTool\"},{\"attributes\":{\"data_source\":{\"id\":\"2190\"},\"glyph\":{\"id\":\"2192\"},\"hover_glyph\":null,\"muted_glyph\":null,\"name\":\"2018\",\"nonselection_glyph\":{\"id\":\"2193\"},\"selection_glyph\":null,\"view\":{\"id\":\"2195\"}},\"id\":\"2194\",\"type\":\"GlyphRenderer\"},{\"attributes\":{\"data_source\":{\"id\":\"2138\"},\"glyph\":{\"id\":\"2140\"},\"hover_glyph\":null,\"muted_glyph\":null,\"name\":\"2015\",\"nonselection_glyph\":{\"id\":\"2141\"},\"selection_glyph\":null,\"view\":{\"id\":\"2143\"}},\"id\":\"2142\",\"type\":\"GlyphRenderer\"}],\"root_ids\":[\"2098\"]},\"title\":\"Bokeh Application\",\"version\":\"2.2.1\"}};\n",
       "  var render_items = [{\"docid\":\"17680968-1092-4eee-9687-85ba9145b9fb\",\"root_ids\":[\"2098\"],\"roots\":{\"2098\":\"d6252103-7659-4f8e-b7c9-b5eb87997a4b\"}}];\n",
       "  root.Bokeh.embed.embed_items_notebook(docs_json, render_items);\n",
       "\n",
       "  }\n",
       "  if (root.Bokeh !== undefined) {\n",
       "    embed_document(root);\n",
       "  } else {\n",
       "    var attempts = 0;\n",
       "    var timer = setInterval(function(root) {\n",
       "      if (root.Bokeh !== undefined) {\n",
       "        clearInterval(timer);\n",
       "        embed_document(root);\n",
       "      } else {\n",
       "        attempts++;\n",
       "        if (attempts > 100) {\n",
       "          clearInterval(timer);\n",
       "          console.log(\"Bokeh: ERROR: Unable to run BokehJS code because BokehJS library is missing\");\n",
       "        }\n",
       "      }\n",
       "    }, 10, root)\n",
       "  }\n",
       "})(window);"
      ],
      "application/vnd.bokehjs_exec.v0+json": ""
     },
     "metadata": {
      "application/vnd.bokehjs_exec.v0+json": {
       "id": "2098"
      }
     },
     "output_type": "display_data"
    }
   ],
   "source": [
    "from bokeh.palettes import BrBG4\n",
    "\n",
    "p = figure(\n",
    "    y_range=ngdf.columns.to_list(),\n",
    "    plot_height=500,\n",
    "    title=\"Natural Gas production by state in 2015\",\n",
    ")\n",
    "p.hbar_stack(\n",
    "    yrs_str, y=\"States\", source=data, color=BrBG4, height=0.5, legend_label=yrs_str\n",
    ")\n",
    "\n",
    "p.ygrid.grid_line_color = None  # remove the vertical grid lines\n",
    "p.xaxis.formatter = PrintfTickFormatter(\n",
    "    format=\"%d\"\n",
    ")  # Change tick values formatting to be shown as full numbers\n",
    "p.xaxis.axis_label = \"Production (MMcf)\"  # set x-axis label\n",
    "show(p)"
   ]
  },
  {
   "cell_type": "markdown",
   "metadata": {
    "ExecuteTime": {
     "end_time": "2020-09-23T23:55:09.574483Z",
     "start_time": "2020-09-23T23:55:09.567870Z"
    }
   },
   "source": [
    "<div class=\"alert alert-success\">\n",
    "<h2>Excercise</h2>\n",
    "\n",
    "Load a the smart meter data, and visualize it as a line plot\n",
    "\n",
    "1. Load the data\n",
    "2. Make a line plot\n",
    "    \n",
    "\n",
    "<details>\n",
    "<summary><b>→ Hints</b></summary>\n",
    "\n",
    "* We've loaded the data for you\n",
    "* Copy the code from the \"Line Plots\" section\n",
    "* replace x with the index, y with the energy_sum\n",
    "\n",
    "</details>\n",
    "\n",
    "\n",
    "<details>\n",
    "<summary>\n",
    "  <b>→ Solution</b>\n",
    "</summary>\n",
    "\n",
    "```python\n",
    "# Exercise\n",
    "\n",
    "# Write your code below:\n",
    "\n",
    "# 1. # Load data\n",
    "df = block0 = pd.read_csv(\"../../data/processed/smartmeter/block_0.csv\", parse_dates=['day'], index_col=['day'])[['energy_sum']]\n",
    "df = df.groupby('day').mean()\n",
    "print(df.head())\n",
    "\n",
    "# 2. Make a line plot\n",
    "p = figure(plot_width=600, plot_height=400, title=\"Energy\")\n",
    "np.random.seed(2)\n",
    "x = np.arange(100)\n",
    "y = np.random.randn(100).cumsum()\n",
    "p.line(df.index, df.energy_sum, line_color=\"seagreen\", line_width=2)\n",
    "show(p)\n",
    "```\n",
    "\n",
    "</details>\n",
    "\n",
    "</div>\n",
    "\n"
   ]
  },
  {
   "cell_type": "code",
   "execution_count": 22,
   "metadata": {
    "ExecuteTime": {
     "end_time": "2020-09-24T05:48:35.181142Z",
     "start_time": "2020-09-24T05:48:35.125073Z"
    }
   },
   "outputs": [
    {
     "name": "stdout",
     "output_type": "stream",
     "text": [
      "            energy_sum\n",
      "day                   \n",
      "2011-12-03       9.007\n",
      "2011-12-04      20.763\n",
      "2011-12-05       6.020\n",
      "2011-12-06      13.322\n",
      "2011-12-07       9.062\n"
     ]
    }
   ],
   "source": [
    "# Exercise\n",
    "\n",
    "# Write your code below:\n",
    "\n",
    "# 1. # Load data\n",
    "df = block0 = pd.read_csv(\"../../data/processed/smartmeter/block_0.csv\", parse_dates=['day'], index_col=['day'])[['energy_sum']]\n",
    "df = df.groupby('day').mean()\n",
    "print(df.head())\n",
    "\n",
    "# 2. Make a line plot"
   ]
  },
  {
   "cell_type": "markdown",
   "metadata": {},
   "source": [
    "# Styling\n",
    "We can put each plot into a variable, then we will have access to properties of the plots and manipulate the way they look."
   ]
  },
  {
   "cell_type": "code",
   "execution_count": 23,
   "metadata": {
    "ExecuteTime": {
     "end_time": "2020-09-24T05:48:35.263312Z",
     "start_time": "2020-09-24T05:48:35.185964Z"
    }
   },
   "outputs": [
    {
     "data": {
      "text/html": [
       "\n",
       "\n",
       "\n",
       "\n",
       "\n",
       "\n",
       "  <div class=\"bk-root\" id=\"c39c5aab-ebc6-4bbc-9e52-86f23b399c82\" data-root-id=\"2358\"></div>\n"
      ]
     },
     "metadata": {},
     "output_type": "display_data"
    },
    {
     "data": {
      "application/javascript": [
       "(function(root) {\n",
       "  function embed_document(root) {\n",
       "    \n",
       "  var docs_json = {\"d0241434-c0ca-4f90-bde1-c3e971a2874c\":{\"roots\":{\"references\":[{\"attributes\":{\"below\":[{\"id\":\"2369\"}],\"center\":[{\"id\":\"2372\"},{\"id\":\"2376\"}],\"left\":[{\"id\":\"2373\"}],\"plot_height\":400,\"renderers\":[{\"id\":\"2394\"},{\"id\":\"2399\"}],\"title\":{\"id\":\"2359\"},\"toolbar\":{\"id\":\"2384\"},\"x_range\":{\"id\":\"2361\"},\"x_scale\":{\"id\":\"2365\"},\"y_range\":{\"id\":\"2363\"},\"y_scale\":{\"id\":\"2367\"}},\"id\":\"2358\",\"subtype\":\"Figure\",\"type\":\"Plot\"},{\"attributes\":{\"data\":{\"x\":[0,1,2,3,4,5,6,7,8,9,10,11,12,13,14,15,16,17,18,19,20,21,22,23,24,25,26,27,28,29,30,31,32,33,34,35,36,37,38,39,40,41,42,43,44,45,46,47,48,49,50,51,52,53,54,55,56,57,58,59,60,61,62,63,64,65,66,67,68,69,70,71,72,73,74,75,76,77,78,79,80,81,82,83,84,85,86,87,88,89,90,91,92,93,94,95,96,97,98,99],\"y\":{\"__ndarray__\":\"fk09Gyms2r/kp+9ICUbev0DeoyOv3wTAnp65WaMB77+2j/2XXRkGwDZ29aJD1QzASMix8VzPCMB0MrFF22IRwLMsRBkznhXAsuCr/QVBGcAblTGfVQwXwEzPzRY6wgvASWvaeydtC8CIuZUwVS8SwJyZD0lWBxDAQAxH+c1pEsDKtCrrZH0SwC5NQcxilAvAgAj0RwPIEMBu9Zxdxb4QwABEzBT0QRTAi2FDXCTiFMDehLH0adsTwNZCZ3PszxfA8U6kmOAqGcC0tKXSuhwawEO1KEKwqRzAJw/J2Oa0IMAPoJihkIwjwC2ts40n2yPAUnQtY+lkJMCTUPxb59wfwAwyE4kNzSTAJAk8P1aTJMCBIjhXq9UjwHi1OmmJHSHA/u61+5UcIMCMgAfD0swhwIAZfXvRzCHAV4n8PiK3IMAGxHZkplchwKQrDq/ImR/A5bZduFqJI8DTRDbi/BIgwDGnasgSRxrArYZGlc6eG8DkmgpEyywZwGmhHRCs+xjAEL5257RMHMAhY1gy5PIbwGJPHUiE8hfAnDkLZsF4GcChJkTicPkawMGzkPKyRRvAGj5OfMyJGcAYoWYKvWwUwBlnk2mm9hbA2XZEYw3uFMAhSZjfvxAUwEKmcfX3fxvAS7o3QlktHcA/IkR82rQdwEKmGZZf3R3AuYYGvouPHMCQZAIYa1wiwD8WNEq8RCLAPe5HlbSfI8CZyTi8soAmwPMtUCdCdCXAJ/LGlsv7I8BpfHdoQkolwCsrdPrrmiPA+UxMG0JeJMD+pVxCNzwkwAkHpSvFbibAz7d0SINDI8A5yGWkJpUowAKuNoX5wyjAjbWxzRJgJ8Au7KNUNXErwAv/MnI30ivA4qinpsD5K8BVIb0tgVMqwPlPLGpr1CfAxiPcYTajKMD8FU8DFmgrwL6vP7sPrCjASjKXBoE8JsD5/KD9DCknwGawg1VldSbAuqXtXOGxJcDKmSKC8o8kwGKQZI9kJyTAb+EBEipXIcC6FgTm/9AkwPGscgUZvCLAeHCYzEv5IcD+kjQneGgiwM7ZVgifDyDAmSQ/you/JMA=\",\"dtype\":\"float64\",\"order\":\"little\",\"shape\":[100]}},\"selected\":{\"id\":\"2490\"},\"selection_policy\":{\"id\":\"2489\"}},\"id\":\"2396\",\"type\":\"ColumnDataSource\"},{\"attributes\":{},\"id\":\"2381\",\"type\":\"ResetTool\"},{\"attributes\":{\"source\":{\"id\":\"2391\"}},\"id\":\"2395\",\"type\":\"CDSView\"},{\"attributes\":{\"text\":\"Plot Title\"},\"id\":\"2359\",\"type\":\"Title\"},{\"attributes\":{},\"id\":\"2377\",\"type\":\"PanTool\"},{\"attributes\":{},\"id\":\"2365\",\"type\":\"LinearScale\"},{\"attributes\":{\"overlay\":{\"id\":\"2383\"}},\"id\":\"2379\",\"type\":\"BoxZoomTool\"},{\"attributes\":{},\"id\":\"2363\",\"type\":\"DataRange1d\"},{\"attributes\":{},\"id\":\"2378\",\"type\":\"WheelZoomTool\"},{\"attributes\":{\"data_source\":{\"id\":\"2396\"},\"glyph\":{\"id\":\"2397\"},\"hover_glyph\":null,\"muted_glyph\":null,\"nonselection_glyph\":{\"id\":\"2398\"},\"selection_glyph\":null,\"view\":{\"id\":\"2400\"}},\"id\":\"2399\",\"type\":\"GlyphRenderer\"},{\"attributes\":{\"fill_alpha\":{\"value\":0.1},\"fill_color\":{\"value\":\"orangered\"},\"line_alpha\":{\"value\":0.1},\"size\":{\"units\":\"screen\",\"value\":8},\"x\":{\"field\":\"x\"},\"y\":{\"field\":\"y\"}},\"id\":\"2398\",\"type\":\"Circle\"},{\"attributes\":{\"source\":{\"id\":\"2396\"}},\"id\":\"2400\",\"type\":\"CDSView\"},{\"attributes\":{\"fill_color\":{\"value\":\"orangered\"},\"size\":{\"units\":\"screen\",\"value\":8},\"x\":{\"field\":\"x\"},\"y\":{\"field\":\"y\"}},\"id\":\"2397\",\"type\":\"Circle\"},{\"attributes\":{\"bottom_units\":\"screen\",\"fill_alpha\":0.5,\"fill_color\":\"lightgrey\",\"left_units\":\"screen\",\"level\":\"overlay\",\"line_alpha\":1.0,\"line_color\":\"black\",\"line_dash\":[4,4],\"line_width\":2,\"right_units\":\"screen\",\"top_units\":\"screen\"},\"id\":\"2383\",\"type\":\"BoxAnnotation\"},{\"attributes\":{\"line_alpha\":0.1,\"line_color\":\"orange\",\"line_width\":2,\"x\":{\"field\":\"x\"},\"y\":{\"field\":\"y\"}},\"id\":\"2393\",\"type\":\"Line\"},{\"attributes\":{},\"id\":\"2488\",\"type\":\"Selection\"},{\"attributes\":{},\"id\":\"2483\",\"type\":\"BasicTickFormatter\"},{\"attributes\":{},\"id\":\"2361\",\"type\":\"DataRange1d\"},{\"attributes\":{},\"id\":\"2485\",\"type\":\"BasicTickFormatter\"},{\"attributes\":{\"data\":{\"x\":[0,1,2,3,4,5,6,7,8,9,10,11,12,13,14,15,16,17,18,19,20,21,22,23,24,25,26,27,28,29,30,31,32,33,34,35,36,37,38,39,40,41,42,43,44,45,46,47,48,49,50,51,52,53,54,55,56,57,58,59,60,61,62,63,64,65,66,67,68,69,70,71,72,73,74,75,76,77,78,79,80,81,82,83,84,85,86,87,88,89,90,91,92,93,94,95,96,97,98,99],\"y\":{\"__ndarray__\":\"fk09Gyms2r/kp+9ICUbev0DeoyOv3wTAnp65WaMB77+2j/2XXRkGwDZ29aJD1QzASMix8VzPCMB0MrFF22IRwLMsRBkznhXAsuCr/QVBGcAblTGfVQwXwEzPzRY6wgvASWvaeydtC8CIuZUwVS8SwJyZD0lWBxDAQAxH+c1pEsDKtCrrZH0SwC5NQcxilAvAgAj0RwPIEMBu9Zxdxb4QwABEzBT0QRTAi2FDXCTiFMDehLH0adsTwNZCZ3PszxfA8U6kmOAqGcC0tKXSuhwawEO1KEKwqRzAJw/J2Oa0IMAPoJihkIwjwC2ts40n2yPAUnQtY+lkJMCTUPxb59wfwAwyE4kNzSTAJAk8P1aTJMCBIjhXq9UjwHi1OmmJHSHA/u61+5UcIMCMgAfD0swhwIAZfXvRzCHAV4n8PiK3IMAGxHZkplchwKQrDq/ImR/A5bZduFqJI8DTRDbi/BIgwDGnasgSRxrArYZGlc6eG8DkmgpEyywZwGmhHRCs+xjAEL5257RMHMAhY1gy5PIbwGJPHUiE8hfAnDkLZsF4GcChJkTicPkawMGzkPKyRRvAGj5OfMyJGcAYoWYKvWwUwBlnk2mm9hbA2XZEYw3uFMAhSZjfvxAUwEKmcfX3fxvAS7o3QlktHcA/IkR82rQdwEKmGZZf3R3AuYYGvouPHMCQZAIYa1wiwD8WNEq8RCLAPe5HlbSfI8CZyTi8soAmwPMtUCdCdCXAJ/LGlsv7I8BpfHdoQkolwCsrdPrrmiPA+UxMG0JeJMD+pVxCNzwkwAkHpSvFbibAz7d0SINDI8A5yGWkJpUowAKuNoX5wyjAjbWxzRJgJ8Au7KNUNXErwAv/MnI30ivA4qinpsD5K8BVIb0tgVMqwPlPLGpr1CfAxiPcYTajKMD8FU8DFmgrwL6vP7sPrCjASjKXBoE8JsD5/KD9DCknwGawg1VldSbAuqXtXOGxJcDKmSKC8o8kwGKQZI9kJyTAb+EBEipXIcC6FgTm/9AkwPGscgUZvCLAeHCYzEv5IcD+kjQneGgiwM7ZVgifDyDAmSQ/you/JMA=\",\"dtype\":\"float64\",\"order\":\"little\",\"shape\":[100]}},\"selected\":{\"id\":\"2488\"},\"selection_policy\":{\"id\":\"2487\"}},\"id\":\"2391\",\"type\":\"ColumnDataSource\"},{\"attributes\":{\"axis\":{\"id\":\"2373\"},\"dimension\":1,\"ticker\":null},\"id\":\"2376\",\"type\":\"Grid\"},{\"attributes\":{},\"id\":\"2489\",\"type\":\"UnionRenderers\"},{\"attributes\":{},\"id\":\"2490\",\"type\":\"Selection\"},{\"attributes\":{\"axis\":{\"id\":\"2369\"},\"ticker\":null},\"id\":\"2372\",\"type\":\"Grid\"},{\"attributes\":{},\"id\":\"2487\",\"type\":\"UnionRenderers\"},{\"attributes\":{},\"id\":\"2370\",\"type\":\"BasicTicker\"},{\"attributes\":{},\"id\":\"2367\",\"type\":\"LinearScale\"},{\"attributes\":{\"line_alpha\":0.5,\"line_color\":\"orange\",\"line_width\":2,\"x\":{\"field\":\"x\"},\"y\":{\"field\":\"y\"}},\"id\":\"2392\",\"type\":\"Line\"},{\"attributes\":{\"data_source\":{\"id\":\"2391\"},\"glyph\":{\"id\":\"2392\"},\"hover_glyph\":null,\"muted_glyph\":null,\"nonselection_glyph\":{\"id\":\"2393\"},\"selection_glyph\":null,\"view\":{\"id\":\"2395\"}},\"id\":\"2394\",\"type\":\"GlyphRenderer\"},{\"attributes\":{\"formatter\":{\"id\":\"2483\"},\"ticker\":{\"id\":\"2374\"}},\"id\":\"2373\",\"type\":\"LinearAxis\"},{\"attributes\":{},\"id\":\"2374\",\"type\":\"BasicTicker\"},{\"attributes\":{\"formatter\":{\"id\":\"2485\"},\"ticker\":{\"id\":\"2370\"}},\"id\":\"2369\",\"type\":\"LinearAxis\"},{\"attributes\":{},\"id\":\"2382\",\"type\":\"HelpTool\"},{\"attributes\":{\"active_drag\":\"auto\",\"active_inspect\":\"auto\",\"active_multi\":null,\"active_scroll\":\"auto\",\"active_tap\":\"auto\",\"tools\":[{\"id\":\"2377\"},{\"id\":\"2378\"},{\"id\":\"2379\"},{\"id\":\"2380\"},{\"id\":\"2381\"},{\"id\":\"2382\"}]},\"id\":\"2384\",\"type\":\"Toolbar\"},{\"attributes\":{},\"id\":\"2380\",\"type\":\"SaveTool\"}],\"root_ids\":[\"2358\"]},\"title\":\"Bokeh Application\",\"version\":\"2.2.1\"}};\n",
       "  var render_items = [{\"docid\":\"d0241434-c0ca-4f90-bde1-c3e971a2874c\",\"root_ids\":[\"2358\"],\"roots\":{\"2358\":\"c39c5aab-ebc6-4bbc-9e52-86f23b399c82\"}}];\n",
       "  root.Bokeh.embed.embed_items_notebook(docs_json, render_items);\n",
       "\n",
       "  }\n",
       "  if (root.Bokeh !== undefined) {\n",
       "    embed_document(root);\n",
       "  } else {\n",
       "    var attempts = 0;\n",
       "    var timer = setInterval(function(root) {\n",
       "      if (root.Bokeh !== undefined) {\n",
       "        clearInterval(timer);\n",
       "        embed_document(root);\n",
       "      } else {\n",
       "        attempts++;\n",
       "        if (attempts > 100) {\n",
       "          clearInterval(timer);\n",
       "          console.log(\"Bokeh: ERROR: Unable to run BokehJS code because BokehJS library is missing\");\n",
       "        }\n",
       "      }\n",
       "    }, 10, root)\n",
       "  }\n",
       "})(window);"
      ],
      "application/vnd.bokehjs_exec.v0+json": ""
     },
     "metadata": {
      "application/vnd.bokehjs_exec.v0+json": {
       "id": "2358"
      }
     },
     "output_type": "display_data"
    }
   ],
   "source": [
    "p = figure(plot_width=600, plot_height=400, title=\"Plot Title\")\n",
    "np.random.seed(2)\n",
    "x = np.arange(100)\n",
    "y = np.random.randn(100).cumsum()\n",
    "r1 = p.line(x, y, line_color=\"orange\", line_width=2, line_alpha=0.5)\n",
    "r2 = p.circle(x, y, size=8, fill_color=\"orangered\", line_color=\"black\")\n",
    "show(p)"
   ]
  },
  {
   "cell_type": "markdown",
   "metadata": {},
   "source": [
    "The properties can be accessed via `.glyph.<property>`"
   ]
  },
  {
   "cell_type": "code",
   "execution_count": 24,
   "metadata": {
    "ExecuteTime": {
     "end_time": "2020-09-24T05:48:35.292761Z",
     "start_time": "2020-09-24T05:48:35.265799Z"
    },
    "scrolled": false
   },
   "outputs": [
    {
     "data": {
      "text/html": [
       "\n",
       "\n",
       "\n",
       "\n",
       "\n",
       "\n",
       "  <div class=\"bk-root\" id=\"b6d4794a-6d66-4031-b90b-3c25eeaec575\" data-root-id=\"2358\"></div>\n"
      ]
     },
     "metadata": {},
     "output_type": "display_data"
    },
    {
     "data": {
      "application/javascript": [
       "(function(root) {\n",
       "  function embed_document(root) {\n",
       "    \n",
       "  var docs_json = {\"3659d7e9-7211-4696-96a2-3727a92e62bd\":{\"roots\":{\"references\":[{\"attributes\":{\"below\":[{\"id\":\"2369\"}],\"center\":[{\"id\":\"2372\"},{\"id\":\"2376\"}],\"left\":[{\"id\":\"2373\"}],\"plot_height\":400,\"renderers\":[{\"id\":\"2394\"},{\"id\":\"2399\"}],\"title\":{\"id\":\"2359\"},\"toolbar\":{\"id\":\"2384\"},\"x_range\":{\"id\":\"2361\"},\"x_scale\":{\"id\":\"2365\"},\"y_range\":{\"id\":\"2363\"},\"y_scale\":{\"id\":\"2367\"}},\"id\":\"2358\",\"subtype\":\"Figure\",\"type\":\"Plot\"},{\"attributes\":{\"data\":{\"x\":[0,1,2,3,4,5,6,7,8,9,10,11,12,13,14,15,16,17,18,19,20,21,22,23,24,25,26,27,28,29,30,31,32,33,34,35,36,37,38,39,40,41,42,43,44,45,46,47,48,49,50,51,52,53,54,55,56,57,58,59,60,61,62,63,64,65,66,67,68,69,70,71,72,73,74,75,76,77,78,79,80,81,82,83,84,85,86,87,88,89,90,91,92,93,94,95,96,97,98,99],\"y\":{\"__ndarray__\":\"fk09Gyms2r/kp+9ICUbev0DeoyOv3wTAnp65WaMB77+2j/2XXRkGwDZ29aJD1QzASMix8VzPCMB0MrFF22IRwLMsRBkznhXAsuCr/QVBGcAblTGfVQwXwEzPzRY6wgvASWvaeydtC8CIuZUwVS8SwJyZD0lWBxDAQAxH+c1pEsDKtCrrZH0SwC5NQcxilAvAgAj0RwPIEMBu9Zxdxb4QwABEzBT0QRTAi2FDXCTiFMDehLH0adsTwNZCZ3PszxfA8U6kmOAqGcC0tKXSuhwawEO1KEKwqRzAJw/J2Oa0IMAPoJihkIwjwC2ts40n2yPAUnQtY+lkJMCTUPxb59wfwAwyE4kNzSTAJAk8P1aTJMCBIjhXq9UjwHi1OmmJHSHA/u61+5UcIMCMgAfD0swhwIAZfXvRzCHAV4n8PiK3IMAGxHZkplchwKQrDq/ImR/A5bZduFqJI8DTRDbi/BIgwDGnasgSRxrArYZGlc6eG8DkmgpEyywZwGmhHRCs+xjAEL5257RMHMAhY1gy5PIbwGJPHUiE8hfAnDkLZsF4GcChJkTicPkawMGzkPKyRRvAGj5OfMyJGcAYoWYKvWwUwBlnk2mm9hbA2XZEYw3uFMAhSZjfvxAUwEKmcfX3fxvAS7o3QlktHcA/IkR82rQdwEKmGZZf3R3AuYYGvouPHMCQZAIYa1wiwD8WNEq8RCLAPe5HlbSfI8CZyTi8soAmwPMtUCdCdCXAJ/LGlsv7I8BpfHdoQkolwCsrdPrrmiPA+UxMG0JeJMD+pVxCNzwkwAkHpSvFbibAz7d0SINDI8A5yGWkJpUowAKuNoX5wyjAjbWxzRJgJ8Au7KNUNXErwAv/MnI30ivA4qinpsD5K8BVIb0tgVMqwPlPLGpr1CfAxiPcYTajKMD8FU8DFmgrwL6vP7sPrCjASjKXBoE8JsD5/KD9DCknwGawg1VldSbAuqXtXOGxJcDKmSKC8o8kwGKQZI9kJyTAb+EBEipXIcC6FgTm/9AkwPGscgUZvCLAeHCYzEv5IcD+kjQneGgiwM7ZVgifDyDAmSQ/you/JMA=\",\"dtype\":\"float64\",\"order\":\"little\",\"shape\":[100]}},\"selected\":{\"id\":\"2490\"},\"selection_policy\":{\"id\":\"2489\"}},\"id\":\"2396\",\"type\":\"ColumnDataSource\"},{\"attributes\":{},\"id\":\"2381\",\"type\":\"ResetTool\"},{\"attributes\":{\"source\":{\"id\":\"2391\"}},\"id\":\"2395\",\"type\":\"CDSView\"},{\"attributes\":{\"text\":\"Plot Title\"},\"id\":\"2359\",\"type\":\"Title\"},{\"attributes\":{},\"id\":\"2377\",\"type\":\"PanTool\"},{\"attributes\":{},\"id\":\"2365\",\"type\":\"LinearScale\"},{\"attributes\":{\"overlay\":{\"id\":\"2383\"}},\"id\":\"2379\",\"type\":\"BoxZoomTool\"},{\"attributes\":{},\"id\":\"2363\",\"type\":\"DataRange1d\"},{\"attributes\":{},\"id\":\"2378\",\"type\":\"WheelZoomTool\"},{\"attributes\":{\"data_source\":{\"id\":\"2396\"},\"glyph\":{\"id\":\"2397\"},\"hover_glyph\":null,\"muted_glyph\":null,\"nonselection_glyph\":{\"id\":\"2398\"},\"selection_glyph\":null,\"view\":{\"id\":\"2400\"}},\"id\":\"2399\",\"type\":\"GlyphRenderer\"},{\"attributes\":{\"fill_alpha\":{\"value\":0.1},\"fill_color\":{\"value\":\"orangered\"},\"line_alpha\":{\"value\":0.1},\"size\":{\"units\":\"screen\",\"value\":8},\"x\":{\"field\":\"x\"},\"y\":{\"field\":\"y\"}},\"id\":\"2398\",\"type\":\"Circle\"},{\"attributes\":{\"source\":{\"id\":\"2396\"}},\"id\":\"2400\",\"type\":\"CDSView\"},{\"attributes\":{\"fill_color\":{\"value\":\"orangered\"},\"size\":{\"units\":\"screen\",\"value\":8},\"x\":{\"field\":\"x\"},\"y\":{\"field\":\"y\"}},\"id\":\"2397\",\"type\":\"Circle\"},{\"attributes\":{\"bottom_units\":\"screen\",\"fill_alpha\":0.5,\"fill_color\":\"lightgrey\",\"left_units\":\"screen\",\"level\":\"overlay\",\"line_alpha\":1.0,\"line_color\":\"black\",\"line_dash\":[4,4],\"line_width\":2,\"right_units\":\"screen\",\"top_units\":\"screen\"},\"id\":\"2383\",\"type\":\"BoxAnnotation\"},{\"attributes\":{\"line_alpha\":0.1,\"line_color\":\"orange\",\"line_width\":2,\"x\":{\"field\":\"x\"},\"y\":{\"field\":\"y\"}},\"id\":\"2393\",\"type\":\"Line\"},{\"attributes\":{},\"id\":\"2488\",\"type\":\"Selection\"},{\"attributes\":{},\"id\":\"2483\",\"type\":\"BasicTickFormatter\"},{\"attributes\":{},\"id\":\"2361\",\"type\":\"DataRange1d\"},{\"attributes\":{},\"id\":\"2485\",\"type\":\"BasicTickFormatter\"},{\"attributes\":{\"data\":{\"x\":[0,1,2,3,4,5,6,7,8,9,10,11,12,13,14,15,16,17,18,19,20,21,22,23,24,25,26,27,28,29,30,31,32,33,34,35,36,37,38,39,40,41,42,43,44,45,46,47,48,49,50,51,52,53,54,55,56,57,58,59,60,61,62,63,64,65,66,67,68,69,70,71,72,73,74,75,76,77,78,79,80,81,82,83,84,85,86,87,88,89,90,91,92,93,94,95,96,97,98,99],\"y\":{\"__ndarray__\":\"fk09Gyms2r/kp+9ICUbev0DeoyOv3wTAnp65WaMB77+2j/2XXRkGwDZ29aJD1QzASMix8VzPCMB0MrFF22IRwLMsRBkznhXAsuCr/QVBGcAblTGfVQwXwEzPzRY6wgvASWvaeydtC8CIuZUwVS8SwJyZD0lWBxDAQAxH+c1pEsDKtCrrZH0SwC5NQcxilAvAgAj0RwPIEMBu9Zxdxb4QwABEzBT0QRTAi2FDXCTiFMDehLH0adsTwNZCZ3PszxfA8U6kmOAqGcC0tKXSuhwawEO1KEKwqRzAJw/J2Oa0IMAPoJihkIwjwC2ts40n2yPAUnQtY+lkJMCTUPxb59wfwAwyE4kNzSTAJAk8P1aTJMCBIjhXq9UjwHi1OmmJHSHA/u61+5UcIMCMgAfD0swhwIAZfXvRzCHAV4n8PiK3IMAGxHZkplchwKQrDq/ImR/A5bZduFqJI8DTRDbi/BIgwDGnasgSRxrArYZGlc6eG8DkmgpEyywZwGmhHRCs+xjAEL5257RMHMAhY1gy5PIbwGJPHUiE8hfAnDkLZsF4GcChJkTicPkawMGzkPKyRRvAGj5OfMyJGcAYoWYKvWwUwBlnk2mm9hbA2XZEYw3uFMAhSZjfvxAUwEKmcfX3fxvAS7o3QlktHcA/IkR82rQdwEKmGZZf3R3AuYYGvouPHMCQZAIYa1wiwD8WNEq8RCLAPe5HlbSfI8CZyTi8soAmwPMtUCdCdCXAJ/LGlsv7I8BpfHdoQkolwCsrdPrrmiPA+UxMG0JeJMD+pVxCNzwkwAkHpSvFbibAz7d0SINDI8A5yGWkJpUowAKuNoX5wyjAjbWxzRJgJ8Au7KNUNXErwAv/MnI30ivA4qinpsD5K8BVIb0tgVMqwPlPLGpr1CfAxiPcYTajKMD8FU8DFmgrwL6vP7sPrCjASjKXBoE8JsD5/KD9DCknwGawg1VldSbAuqXtXOGxJcDKmSKC8o8kwGKQZI9kJyTAb+EBEipXIcC6FgTm/9AkwPGscgUZvCLAeHCYzEv5IcD+kjQneGgiwM7ZVgifDyDAmSQ/you/JMA=\",\"dtype\":\"float64\",\"order\":\"little\",\"shape\":[100]}},\"selected\":{\"id\":\"2488\"},\"selection_policy\":{\"id\":\"2487\"}},\"id\":\"2391\",\"type\":\"ColumnDataSource\"},{\"attributes\":{\"axis\":{\"id\":\"2373\"},\"dimension\":1,\"ticker\":null},\"id\":\"2376\",\"type\":\"Grid\"},{\"attributes\":{},\"id\":\"2489\",\"type\":\"UnionRenderers\"},{\"attributes\":{},\"id\":\"2490\",\"type\":\"Selection\"},{\"attributes\":{\"axis\":{\"id\":\"2369\"},\"ticker\":null},\"id\":\"2372\",\"type\":\"Grid\"},{\"attributes\":{},\"id\":\"2487\",\"type\":\"UnionRenderers\"},{\"attributes\":{},\"id\":\"2370\",\"type\":\"BasicTicker\"},{\"attributes\":{},\"id\":\"2367\",\"type\":\"LinearScale\"},{\"attributes\":{\"line_alpha\":0.5,\"line_color\":\"green\",\"line_width\":2,\"x\":{\"field\":\"x\"},\"y\":{\"field\":\"y\"}},\"id\":\"2392\",\"type\":\"Line\"},{\"attributes\":{\"data_source\":{\"id\":\"2391\"},\"glyph\":{\"id\":\"2392\"},\"hover_glyph\":null,\"muted_glyph\":null,\"nonselection_glyph\":{\"id\":\"2393\"},\"selection_glyph\":null,\"view\":{\"id\":\"2395\"}},\"id\":\"2394\",\"type\":\"GlyphRenderer\"},{\"attributes\":{\"formatter\":{\"id\":\"2483\"},\"ticker\":{\"id\":\"2374\"}},\"id\":\"2373\",\"type\":\"LinearAxis\"},{\"attributes\":{},\"id\":\"2374\",\"type\":\"BasicTicker\"},{\"attributes\":{\"formatter\":{\"id\":\"2485\"},\"ticker\":{\"id\":\"2370\"}},\"id\":\"2369\",\"type\":\"LinearAxis\"},{\"attributes\":{},\"id\":\"2382\",\"type\":\"HelpTool\"},{\"attributes\":{\"active_drag\":\"auto\",\"active_inspect\":\"auto\",\"active_multi\":null,\"active_scroll\":\"auto\",\"active_tap\":\"auto\",\"tools\":[{\"id\":\"2377\"},{\"id\":\"2378\"},{\"id\":\"2379\"},{\"id\":\"2380\"},{\"id\":\"2381\"},{\"id\":\"2382\"}]},\"id\":\"2384\",\"type\":\"Toolbar\"},{\"attributes\":{},\"id\":\"2380\",\"type\":\"SaveTool\"}],\"root_ids\":[\"2358\"]},\"title\":\"Bokeh Application\",\"version\":\"2.2.1\"}};\n",
       "  var render_items = [{\"docid\":\"3659d7e9-7211-4696-96a2-3727a92e62bd\",\"root_ids\":[\"2358\"],\"roots\":{\"2358\":\"b6d4794a-6d66-4031-b90b-3c25eeaec575\"}}];\n",
       "  root.Bokeh.embed.embed_items_notebook(docs_json, render_items);\n",
       "\n",
       "  }\n",
       "  if (root.Bokeh !== undefined) {\n",
       "    embed_document(root);\n",
       "  } else {\n",
       "    var attempts = 0;\n",
       "    var timer = setInterval(function(root) {\n",
       "      if (root.Bokeh !== undefined) {\n",
       "        clearInterval(timer);\n",
       "        embed_document(root);\n",
       "      } else {\n",
       "        attempts++;\n",
       "        if (attempts > 100) {\n",
       "          clearInterval(timer);\n",
       "          console.log(\"Bokeh: ERROR: Unable to run BokehJS code because BokehJS library is missing\");\n",
       "        }\n",
       "      }\n",
       "    }, 10, root)\n",
       "  }\n",
       "})(window);"
      ],
      "application/vnd.bokehjs_exec.v0+json": ""
     },
     "metadata": {
      "application/vnd.bokehjs_exec.v0+json": {
       "id": "2358"
      }
     },
     "output_type": "display_data"
    }
   ],
   "source": [
    "r1.glyph.line_color = \"green\"\n",
    "show(p)"
   ]
  },
  {
   "cell_type": "markdown",
   "metadata": {},
   "source": [
    "# Bokeh Data Source\n",
    "Bokeh can work with various formats of data including lists, numpy arrays, and pandas data frames. But, behind the scene, all the data is converted into Bokeh's format of data which is called `ColumnDataSource`. While in may cases we can keep using numpy and pandas data formats, in some cases it is useful to manually convert the data to `ColumnDataSource`."
   ]
  },
  {
   "cell_type": "code",
   "execution_count": 25,
   "metadata": {
    "ExecuteTime": {
     "end_time": "2020-09-24T05:48:35.300439Z",
     "start_time": "2020-09-24T05:48:35.294534Z"
    }
   },
   "outputs": [],
   "source": [
    "np.random.seed(12)\n",
    "x = np.arange(100)\n",
    "y = np.random.randn(100).cumsum()\n",
    "z = np.random.rand(100)\n",
    "source = ColumnDataSource(data={\"x\": x, \"y\": y, \"z\": z})"
   ]
  },
  {
   "cell_type": "markdown",
   "metadata": {},
   "source": [
    "__Note:__ We can also pass in a pandas data frame into `ColumnDataSource`."
   ]
  },
  {
   "cell_type": "markdown",
   "metadata": {},
   "source": [
    "When data is stored in a data source, instead of passing in the variables we only pass in the name of the columns (as a string)."
   ]
  },
  {
   "cell_type": "code",
   "execution_count": 26,
   "metadata": {
    "ExecuteTime": {
     "end_time": "2020-09-24T05:48:35.380902Z",
     "start_time": "2020-09-24T05:48:35.302183Z"
    },
    "scrolled": false
   },
   "outputs": [
    {
     "data": {
      "text/html": [
       "\n",
       "\n",
       "\n",
       "\n",
       "\n",
       "\n",
       "  <div class=\"bk-root\" id=\"5398d021-8f3e-402f-b4e4-7c2aa5099ffb\" data-root-id=\"2592\"></div>\n"
      ]
     },
     "metadata": {},
     "output_type": "display_data"
    },
    {
     "data": {
      "application/javascript": [
       "(function(root) {\n",
       "  function embed_document(root) {\n",
       "    \n",
       "  var docs_json = {\"443b68ef-da39-4938-8b28-8d1a337aa388\":{\"roots\":{\"references\":[{\"attributes\":{\"below\":[{\"id\":\"2601\"}],\"center\":[{\"id\":\"2604\"},{\"id\":\"2608\"}],\"left\":[{\"id\":\"2605\"}],\"plot_height\":400,\"renderers\":[{\"id\":\"2626\"}],\"title\":{\"id\":\"2719\"},\"toolbar\":{\"id\":\"2616\"},\"x_range\":{\"id\":\"2593\"},\"x_scale\":{\"id\":\"2597\"},\"y_range\":{\"id\":\"2595\"},\"y_scale\":{\"id\":\"2599\"}},\"id\":\"2592\",\"subtype\":\"Figure\",\"type\":\"Plot\"},{\"attributes\":{},\"id\":\"2606\",\"type\":\"BasicTicker\"},{\"attributes\":{},\"id\":\"2721\",\"type\":\"BasicTickFormatter\"},{\"attributes\":{},\"id\":\"2723\",\"type\":\"BasicTickFormatter\"},{\"attributes\":{\"formatter\":{\"id\":\"2721\"},\"ticker\":{\"id\":\"2606\"}},\"id\":\"2605\",\"type\":\"LinearAxis\"},{\"attributes\":{\"active_drag\":\"auto\",\"active_inspect\":\"auto\",\"active_multi\":null,\"active_scroll\":\"auto\",\"active_tap\":\"auto\",\"tools\":[{\"id\":\"2609\"},{\"id\":\"2610\"},{\"id\":\"2611\"},{\"id\":\"2612\"},{\"id\":\"2613\"},{\"id\":\"2614\"}]},\"id\":\"2616\",\"type\":\"Toolbar\"},{\"attributes\":{},\"id\":\"2726\",\"type\":\"Selection\"},{\"attributes\":{\"axis\":{\"id\":\"2601\"},\"ticker\":null},\"id\":\"2604\",\"type\":\"Grid\"},{\"attributes\":{},\"id\":\"2602\",\"type\":\"BasicTicker\"},{\"attributes\":{\"data\":{\"x\":[0,1,2,3,4,5,6,7,8,9,10,11,12,13,14,15,16,17,18,19,20,21,22,23,24,25,26,27,28,29,30,31,32,33,34,35,36,37,38,39,40,41,42,43,44,45,46,47,48,49,50,51,52,53,54,55,56,57,58,59,60,61,62,63,64,65,66,67,68,69,70,71,72,73,74,75,76,77,78,79,80,81,82,83,84,85,86,87,88,89,90,91,92,93,94,95,96,97,98,99],\"y\":{\"__ndarray__\":\"BiJuXWZF3j8AUI/aKa7Kv+Ru2TBgaKE/q5buj/Oq+r9DQ7wfKDztv4BmVAMmlgPA5y6N8qWLA8AaWEjf34EEwPHTj8mS9grAqOIeubLo37/7HEJy24rxv/kkhMNY9+O/QmAkmnM13j87wGfh78fnvxco9XelLOM/AGQamP2H3j8IksvTQtX3P2OJWSUbbOI/tqYHYJwL3b/RsTvb2DDoP1LVVa4XIPQ/uc02c85Y9j/FNW6WrkwAQAJQpMaohARAObAnHQ+R9j+OdlWBgrHpvxg5NWKd4APAmIUE31AXEcBAS+x+GPcZwOY7GZcQjhzAyBXNnCarHsCedPsPTdMewHP3S2gq9x3A/43nwr+AH8CMOpOYX0IgwA2n0UzeHCDAnAUszW8bIsDKpm5f7ogjwDHRDUjMdiPAtSu17+fRJMA1muaHtfYlwJcQwx3pLCbANu7xB/eAI8COITXvzt0iwHqhETioiiPAo3y0gFC2JMD3LwtKJ/EkwI4mTr9XdSDAWv7z7NHAJsDI4gKY1K4lwGNQX5vLNyXAaP8p+ZN7I8BxE5uCdsclwFIAiC7rjCHAXK92Od8YH8Dly2NbhU0fwAWvffjlqR7ALQEMFq3DIMCrv0z1zqkgwIVP1Hoy8yDAZzsaVSwgHsCnQWoL8rEcwB9KnsBlBx3AAgcK81JRGsB9bgcP6xcYwDhBBX3aMxfA4ROf24hRHcBOcNBSnzMZwPSPSg/f3R3A3DV1y9TzIMAxwQZ7uikhwDm7VraSIyDAFA+iCaKlGsDT4ZfA6rIgwCQ/Q1dKgxvASeeQaI33FMDuTZdSBdAWwLQvyzs3nhfA/6j6jsHnGcAjwDjNiFEcwJvUJtOI1iDAC9orA6M3JMArndI+sZ0kwL3bIXq2GSTA1d7OSVtxIMCgCBWQ3nEiwEpWqrbQoCbAjLn61sZVJsDyuVBpjEQnwPLKo4wpjibAPmQWceBZJ8DmLupimd4pwIQcKBhOPyvARvBKt1ukKcAYUqTg5BgpwNbYj8ccCSvA3riBLKpKKcBp3RNmMy8swP60KhLhQS3AIyepO4vcLMA=\",\"dtype\":\"float64\",\"order\":\"little\",\"shape\":[100]},\"z\":{\"__ndarray__\":\"1FtnrpO/1j+Yk3yJHmzVP+CJA1WHuMY/gEj9FA5kgD/AYPScumCFP7M7VO1hHuM/wOnkvN6qtT9+p3+M6DPUP/5tp93r/u4/NWr9ZGP06z+L1GjHhjXtP7jDLOk5v8U/MrokpZRG1D9cBJuep/LOP/g+zWTOa98/hhZfAvxn4T+kMCP19vLZP5rW6UXTwec/2SRC+3WZ5D868gQ6VxnlP7y6AQDDGcM/DhAesAPk5z9+iqgbvYbkP3zyTJk3FtM/9pTUcZAN2D8F7prn1qLvP/ait+/XDdY/OmdxvQD71T+5yrORDKPjPyObqYPfyeM/QATP/AlZiz9IB3HiwGHiP2eArgTA4ug/OZ8LGW9l7j+BVmR41H7mPygfxLCov70/MIvXIaOQzz/uhi0v5M/aP7yj5TiaOeQ/EFlfEL1wuD+qMnN60/rYP1hBtPAdm9Q/BEpmyBgV7z+TTAnEigPvP/cxmXoUyuc/DFX1I+mQ4D8cajDgrQ3FP5BQh3VVYe4/kxT/JJl/7T81psvoBD7sP4Dy4Tu7Iao/I7c0bE/M6D+QtHbY8Ru7Pz50o8AA+ew/eRgzUffP4j/g/Vlpbp7vP1jx0gowb9s/7WefJLsn5D/2ReXzS9foP5ICOYfZoNA/cPku0vlx5D9EwrQ4JXXqP6wCd12IruA/sH5Ht8Mq2z/9RS4V+v3gPyouc+lzRe4/1jxVwgz67z/E+wa/NHjlP0iOySw1ROk/pjuyTSpp7z+kp1UHlh7CP6Bm5Ar86po/lGX57dvi5z8ycKPpFrvjP0AQAKt6Zbk/ElNLPW2z4D+Ppqz+4TzgP8AawmbLSNI/pGBAGdXMzz8ENGeTrhXHP2/fabatruI/vLxo3Jqzwz/7XBvveMbmP+7jGFPmeus/PGPG5FP35T8+LcMt4vfQPygC3N77aNk/MIlTlaBq4D+0HOAjcQfWP21+4gKTdeE/XbgqFav05T8Ax7UbKy7TP/z8W1zYkMs/UwX9WtM56T+rXS8rwdPoP1CBoZIaXaU/MKcH79Cn5D+sD2uvoWjAP0+2topehuE/LuNZ9VGo0j8=\",\"dtype\":\"float64\",\"order\":\"little\",\"shape\":[100]}},\"selected\":{\"id\":\"2726\"},\"selection_policy\":{\"id\":\"2725\"}},\"id\":\"2591\",\"type\":\"ColumnDataSource\"},{\"attributes\":{\"bottom_units\":\"screen\",\"fill_alpha\":0.5,\"fill_color\":\"lightgrey\",\"left_units\":\"screen\",\"level\":\"overlay\",\"line_alpha\":1.0,\"line_color\":\"black\",\"line_dash\":[4,4],\"line_width\":2,\"right_units\":\"screen\",\"top_units\":\"screen\"},\"id\":\"2615\",\"type\":\"BoxAnnotation\"},{\"attributes\":{},\"id\":\"2593\",\"type\":\"DataRange1d\"},{\"attributes\":{\"fill_color\":{\"value\":\"#1f77b4\"},\"line_color\":{\"value\":\"#1f77b4\"},\"x\":{\"field\":\"x\"},\"y\":{\"field\":\"y\"}},\"id\":\"2624\",\"type\":\"Circle\"},{\"attributes\":{\"text\":\"\"},\"id\":\"2719\",\"type\":\"Title\"},{\"attributes\":{\"data_source\":{\"id\":\"2591\"},\"glyph\":{\"id\":\"2624\"},\"hover_glyph\":null,\"muted_glyph\":null,\"nonselection_glyph\":{\"id\":\"2625\"},\"selection_glyph\":null,\"view\":{\"id\":\"2627\"}},\"id\":\"2626\",\"type\":\"GlyphRenderer\"},{\"attributes\":{},\"id\":\"2597\",\"type\":\"LinearScale\"},{\"attributes\":{},\"id\":\"2599\",\"type\":\"LinearScale\"},{\"attributes\":{\"fill_alpha\":{\"value\":0.1},\"fill_color\":{\"value\":\"#1f77b4\"},\"line_alpha\":{\"value\":0.1},\"line_color\":{\"value\":\"#1f77b4\"},\"x\":{\"field\":\"x\"},\"y\":{\"field\":\"y\"}},\"id\":\"2625\",\"type\":\"Circle\"},{\"attributes\":{\"source\":{\"id\":\"2591\"}},\"id\":\"2627\",\"type\":\"CDSView\"},{\"attributes\":{},\"id\":\"2595\",\"type\":\"DataRange1d\"},{\"attributes\":{},\"id\":\"2725\",\"type\":\"UnionRenderers\"},{\"attributes\":{},\"id\":\"2609\",\"type\":\"PanTool\"},{\"attributes\":{\"formatter\":{\"id\":\"2723\"},\"ticker\":{\"id\":\"2602\"}},\"id\":\"2601\",\"type\":\"LinearAxis\"},{\"attributes\":{\"overlay\":{\"id\":\"2615\"}},\"id\":\"2611\",\"type\":\"BoxZoomTool\"},{\"attributes\":{\"axis\":{\"id\":\"2605\"},\"dimension\":1,\"ticker\":null},\"id\":\"2608\",\"type\":\"Grid\"},{\"attributes\":{},\"id\":\"2612\",\"type\":\"SaveTool\"},{\"attributes\":{},\"id\":\"2614\",\"type\":\"HelpTool\"},{\"attributes\":{},\"id\":\"2613\",\"type\":\"ResetTool\"},{\"attributes\":{},\"id\":\"2610\",\"type\":\"WheelZoomTool\"}],\"root_ids\":[\"2592\"]},\"title\":\"Bokeh Application\",\"version\":\"2.2.1\"}};\n",
       "  var render_items = [{\"docid\":\"443b68ef-da39-4938-8b28-8d1a337aa388\",\"root_ids\":[\"2592\"],\"roots\":{\"2592\":\"5398d021-8f3e-402f-b4e4-7c2aa5099ffb\"}}];\n",
       "  root.Bokeh.embed.embed_items_notebook(docs_json, render_items);\n",
       "\n",
       "  }\n",
       "  if (root.Bokeh !== undefined) {\n",
       "    embed_document(root);\n",
       "  } else {\n",
       "    var attempts = 0;\n",
       "    var timer = setInterval(function(root) {\n",
       "      if (root.Bokeh !== undefined) {\n",
       "        clearInterval(timer);\n",
       "        embed_document(root);\n",
       "      } else {\n",
       "        attempts++;\n",
       "        if (attempts > 100) {\n",
       "          clearInterval(timer);\n",
       "          console.log(\"Bokeh: ERROR: Unable to run BokehJS code because BokehJS library is missing\");\n",
       "        }\n",
       "      }\n",
       "    }, 10, root)\n",
       "  }\n",
       "})(window);"
      ],
      "application/vnd.bokehjs_exec.v0+json": ""
     },
     "metadata": {
      "application/vnd.bokehjs_exec.v0+json": {
       "id": "2592"
      }
     },
     "output_type": "display_data"
    }
   ],
   "source": [
    "p = figure(plot_width=600, plot_height=400)\n",
    "p.circle(\"x\", \"y\", source=source)\n",
    "show(p)"
   ]
  },
  {
   "cell_type": "markdown",
   "metadata": {},
   "source": [
    "# Hover Tool\n",
    "Hovertool allows us to see information about data points when we hover the mouse pointer over them. Using data sources allows us to easily define what information should be displayed. Now that we are using data sources we can display any information in the data source by using `@` followed by the name of the column.<br>\n",
    "Before we created a data source with x, y, and z values. Now we are going to display the z value when we hover over a point."
   ]
  },
  {
   "cell_type": "code",
   "execution_count": 27,
   "metadata": {
    "ExecuteTime": {
     "end_time": "2020-09-24T05:48:35.472594Z",
     "start_time": "2020-09-24T05:48:35.383560Z"
    }
   },
   "outputs": [
    {
     "data": {
      "text/html": [
       "\n",
       "\n",
       "\n",
       "\n",
       "\n",
       "\n",
       "  <div class=\"bk-root\" id=\"fa007fef-3f4e-4d87-a936-f6d8e8da5ad0\" data-root-id=\"2772\"></div>\n"
      ]
     },
     "metadata": {},
     "output_type": "display_data"
    },
    {
     "data": {
      "application/javascript": [
       "(function(root) {\n",
       "  function embed_document(root) {\n",
       "    \n",
       "  var docs_json = {\"12f0b815-2be4-4d8f-887a-22e3c462005c\":{\"roots\":{\"references\":[{\"attributes\":{\"below\":[{\"id\":\"2781\"}],\"center\":[{\"id\":\"2784\"},{\"id\":\"2788\"}],\"left\":[{\"id\":\"2785\"}],\"plot_height\":400,\"renderers\":[{\"id\":\"2808\"}],\"title\":{\"id\":\"2910\"},\"toolbar\":{\"id\":\"2797\"},\"x_range\":{\"id\":\"2773\"},\"x_scale\":{\"id\":\"2777\"},\"y_range\":{\"id\":\"2775\"},\"y_scale\":{\"id\":\"2779\"}},\"id\":\"2772\",\"subtype\":\"Figure\",\"type\":\"Plot\"},{\"attributes\":{},\"id\":\"2782\",\"type\":\"BasicTicker\"},{\"attributes\":{\"callback\":null,\"tooltips\":\"Z = @z\"},\"id\":\"2796\",\"type\":\"HoverTool\"},{\"attributes\":{\"active_drag\":\"auto\",\"active_inspect\":\"auto\",\"active_multi\":null,\"active_scroll\":\"auto\",\"active_tap\":\"auto\",\"tools\":[{\"id\":\"2789\"},{\"id\":\"2790\"},{\"id\":\"2791\"},{\"id\":\"2792\"},{\"id\":\"2793\"},{\"id\":\"2794\"},{\"id\":\"2796\"}]},\"id\":\"2797\",\"type\":\"Toolbar\"},{\"attributes\":{\"axis\":{\"id\":\"2781\"},\"ticker\":null},\"id\":\"2784\",\"type\":\"Grid\"},{\"attributes\":{\"formatter\":{\"id\":\"2914\"},\"ticker\":{\"id\":\"2782\"}},\"id\":\"2781\",\"type\":\"LinearAxis\"},{\"attributes\":{},\"id\":\"2773\",\"type\":\"DataRange1d\"},{\"attributes\":{\"text\":\"\"},\"id\":\"2910\",\"type\":\"Title\"},{\"attributes\":{\"formatter\":{\"id\":\"2912\"},\"ticker\":{\"id\":\"2786\"}},\"id\":\"2785\",\"type\":\"LinearAxis\"},{\"attributes\":{\"fill_alpha\":{\"value\":0.1},\"fill_color\":{\"value\":\"#1f77b4\"},\"line_alpha\":{\"value\":0.1},\"line_color\":{\"value\":\"#1f77b4\"},\"size\":{\"units\":\"screen\",\"value\":10},\"x\":{\"field\":\"x\"},\"y\":{\"field\":\"y\"}},\"id\":\"2807\",\"type\":\"Circle\"},{\"attributes\":{},\"id\":\"2786\",\"type\":\"BasicTicker\"},{\"attributes\":{\"data_source\":{\"id\":\"2591\"},\"glyph\":{\"id\":\"2806\"},\"hover_glyph\":null,\"muted_glyph\":null,\"nonselection_glyph\":{\"id\":\"2807\"},\"selection_glyph\":null,\"view\":{\"id\":\"2809\"}},\"id\":\"2808\",\"type\":\"GlyphRenderer\"},{\"attributes\":{},\"id\":\"2726\",\"type\":\"Selection\"},{\"attributes\":{\"source\":{\"id\":\"2591\"}},\"id\":\"2809\",\"type\":\"CDSView\"},{\"attributes\":{\"axis\":{\"id\":\"2785\"},\"dimension\":1,\"ticker\":null},\"id\":\"2788\",\"type\":\"Grid\"},{\"attributes\":{\"fill_color\":{\"value\":\"#1f77b4\"},\"line_color\":{\"value\":\"#1f77b4\"},\"size\":{\"units\":\"screen\",\"value\":10},\"x\":{\"field\":\"x\"},\"y\":{\"field\":\"y\"}},\"id\":\"2806\",\"type\":\"Circle\"},{\"attributes\":{\"data\":{\"x\":[0,1,2,3,4,5,6,7,8,9,10,11,12,13,14,15,16,17,18,19,20,21,22,23,24,25,26,27,28,29,30,31,32,33,34,35,36,37,38,39,40,41,42,43,44,45,46,47,48,49,50,51,52,53,54,55,56,57,58,59,60,61,62,63,64,65,66,67,68,69,70,71,72,73,74,75,76,77,78,79,80,81,82,83,84,85,86,87,88,89,90,91,92,93,94,95,96,97,98,99],\"y\":{\"__ndarray__\":\"BiJuXWZF3j8AUI/aKa7Kv+Ru2TBgaKE/q5buj/Oq+r9DQ7wfKDztv4BmVAMmlgPA5y6N8qWLA8AaWEjf34EEwPHTj8mS9grAqOIeubLo37/7HEJy24rxv/kkhMNY9+O/QmAkmnM13j87wGfh78fnvxco9XelLOM/AGQamP2H3j8IksvTQtX3P2OJWSUbbOI/tqYHYJwL3b/RsTvb2DDoP1LVVa4XIPQ/uc02c85Y9j/FNW6WrkwAQAJQpMaohARAObAnHQ+R9j+OdlWBgrHpvxg5NWKd4APAmIUE31AXEcBAS+x+GPcZwOY7GZcQjhzAyBXNnCarHsCedPsPTdMewHP3S2gq9x3A/43nwr+AH8CMOpOYX0IgwA2n0UzeHCDAnAUszW8bIsDKpm5f7ogjwDHRDUjMdiPAtSu17+fRJMA1muaHtfYlwJcQwx3pLCbANu7xB/eAI8COITXvzt0iwHqhETioiiPAo3y0gFC2JMD3LwtKJ/EkwI4mTr9XdSDAWv7z7NHAJsDI4gKY1K4lwGNQX5vLNyXAaP8p+ZN7I8BxE5uCdsclwFIAiC7rjCHAXK92Od8YH8Dly2NbhU0fwAWvffjlqR7ALQEMFq3DIMCrv0z1zqkgwIVP1Hoy8yDAZzsaVSwgHsCnQWoL8rEcwB9KnsBlBx3AAgcK81JRGsB9bgcP6xcYwDhBBX3aMxfA4ROf24hRHcBOcNBSnzMZwPSPSg/f3R3A3DV1y9TzIMAxwQZ7uikhwDm7VraSIyDAFA+iCaKlGsDT4ZfA6rIgwCQ/Q1dKgxvASeeQaI33FMDuTZdSBdAWwLQvyzs3nhfA/6j6jsHnGcAjwDjNiFEcwJvUJtOI1iDAC9orA6M3JMArndI+sZ0kwL3bIXq2GSTA1d7OSVtxIMCgCBWQ3nEiwEpWqrbQoCbAjLn61sZVJsDyuVBpjEQnwPLKo4wpjibAPmQWceBZJ8DmLupimd4pwIQcKBhOPyvARvBKt1ukKcAYUqTg5BgpwNbYj8ccCSvA3riBLKpKKcBp3RNmMy8swP60KhLhQS3AIyepO4vcLMA=\",\"dtype\":\"float64\",\"order\":\"little\",\"shape\":[100]},\"z\":{\"__ndarray__\":\"1FtnrpO/1j+Yk3yJHmzVP+CJA1WHuMY/gEj9FA5kgD/AYPScumCFP7M7VO1hHuM/wOnkvN6qtT9+p3+M6DPUP/5tp93r/u4/NWr9ZGP06z+L1GjHhjXtP7jDLOk5v8U/MrokpZRG1D9cBJuep/LOP/g+zWTOa98/hhZfAvxn4T+kMCP19vLZP5rW6UXTwec/2SRC+3WZ5D868gQ6VxnlP7y6AQDDGcM/DhAesAPk5z9+iqgbvYbkP3zyTJk3FtM/9pTUcZAN2D8F7prn1qLvP/ait+/XDdY/OmdxvQD71T+5yrORDKPjPyObqYPfyeM/QATP/AlZiz9IB3HiwGHiP2eArgTA4ug/OZ8LGW9l7j+BVmR41H7mPygfxLCov70/MIvXIaOQzz/uhi0v5M/aP7yj5TiaOeQ/EFlfEL1wuD+qMnN60/rYP1hBtPAdm9Q/BEpmyBgV7z+TTAnEigPvP/cxmXoUyuc/DFX1I+mQ4D8cajDgrQ3FP5BQh3VVYe4/kxT/JJl/7T81psvoBD7sP4Dy4Tu7Iao/I7c0bE/M6D+QtHbY8Ru7Pz50o8AA+ew/eRgzUffP4j/g/Vlpbp7vP1jx0gowb9s/7WefJLsn5D/2ReXzS9foP5ICOYfZoNA/cPku0vlx5D9EwrQ4JXXqP6wCd12IruA/sH5Ht8Mq2z/9RS4V+v3gPyouc+lzRe4/1jxVwgz67z/E+wa/NHjlP0iOySw1ROk/pjuyTSpp7z+kp1UHlh7CP6Bm5Ar86po/lGX57dvi5z8ycKPpFrvjP0AQAKt6Zbk/ElNLPW2z4D+Ppqz+4TzgP8AawmbLSNI/pGBAGdXMzz8ENGeTrhXHP2/fabatruI/vLxo3Jqzwz/7XBvveMbmP+7jGFPmeus/PGPG5FP35T8+LcMt4vfQPygC3N77aNk/MIlTlaBq4D+0HOAjcQfWP21+4gKTdeE/XbgqFav05T8Ax7UbKy7TP/z8W1zYkMs/UwX9WtM56T+rXS8rwdPoP1CBoZIaXaU/MKcH79Cn5D+sD2uvoWjAP0+2topehuE/LuNZ9VGo0j8=\",\"dtype\":\"float64\",\"order\":\"little\",\"shape\":[100]}},\"selected\":{\"id\":\"2726\"},\"selection_policy\":{\"id\":\"2725\"}},\"id\":\"2591\",\"type\":\"ColumnDataSource\"},{\"attributes\":{},\"id\":\"2914\",\"type\":\"BasicTickFormatter\"},{\"attributes\":{},\"id\":\"2912\",\"type\":\"BasicTickFormatter\"},{\"attributes\":{},\"id\":\"2777\",\"type\":\"LinearScale\"},{\"attributes\":{},\"id\":\"2789\",\"type\":\"PanTool\"},{\"attributes\":{},\"id\":\"2790\",\"type\":\"WheelZoomTool\"},{\"attributes\":{\"overlay\":{\"id\":\"2795\"}},\"id\":\"2791\",\"type\":\"BoxZoomTool\"},{\"attributes\":{},\"id\":\"2792\",\"type\":\"SaveTool\"},{\"attributes\":{},\"id\":\"2775\",\"type\":\"DataRange1d\"},{\"attributes\":{},\"id\":\"2793\",\"type\":\"ResetTool\"},{\"attributes\":{},\"id\":\"2779\",\"type\":\"LinearScale\"},{\"attributes\":{},\"id\":\"2725\",\"type\":\"UnionRenderers\"},{\"attributes\":{},\"id\":\"2794\",\"type\":\"HelpTool\"},{\"attributes\":{\"bottom_units\":\"screen\",\"fill_alpha\":0.5,\"fill_color\":\"lightgrey\",\"left_units\":\"screen\",\"level\":\"overlay\",\"line_alpha\":1.0,\"line_color\":\"black\",\"line_dash\":[4,4],\"line_width\":2,\"right_units\":\"screen\",\"top_units\":\"screen\"},\"id\":\"2795\",\"type\":\"BoxAnnotation\"}],\"root_ids\":[\"2772\"]},\"title\":\"Bokeh Application\",\"version\":\"2.2.1\"}};\n",
       "  var render_items = [{\"docid\":\"12f0b815-2be4-4d8f-887a-22e3c462005c\",\"root_ids\":[\"2772\"],\"roots\":{\"2772\":\"fa007fef-3f4e-4d87-a936-f6d8e8da5ad0\"}}];\n",
       "  root.Bokeh.embed.embed_items_notebook(docs_json, render_items);\n",
       "\n",
       "  }\n",
       "  if (root.Bokeh !== undefined) {\n",
       "    embed_document(root);\n",
       "  } else {\n",
       "    var attempts = 0;\n",
       "    var timer = setInterval(function(root) {\n",
       "      if (root.Bokeh !== undefined) {\n",
       "        clearInterval(timer);\n",
       "        embed_document(root);\n",
       "      } else {\n",
       "        attempts++;\n",
       "        if (attempts > 100) {\n",
       "          clearInterval(timer);\n",
       "          console.log(\"Bokeh: ERROR: Unable to run BokehJS code because BokehJS library is missing\");\n",
       "        }\n",
       "      }\n",
       "    }, 10, root)\n",
       "  }\n",
       "})(window);"
      ],
      "application/vnd.bokehjs_exec.v0+json": ""
     },
     "metadata": {
      "application/vnd.bokehjs_exec.v0+json": {
       "id": "2772"
      }
     },
     "output_type": "display_data"
    }
   ],
   "source": [
    "p = figure(plot_width=600, plot_height=400, tooltips=\"Z = @z\")\n",
    "p.circle(\"x\", \"y\", size=10, source=source)\n",
    "show(p)"
   ]
  },
  {
   "cell_type": "markdown",
   "metadata": {},
   "source": [
    "We can also add the hover separately."
   ]
  },
  {
   "cell_type": "code",
   "execution_count": 28,
   "metadata": {
    "ExecuteTime": {
     "end_time": "2020-09-24T05:48:35.574651Z",
     "start_time": "2020-09-24T05:48:35.474279Z"
    }
   },
   "outputs": [
    {
     "data": {
      "text/html": [
       "\n",
       "\n",
       "\n",
       "\n",
       "\n",
       "\n",
       "  <div class=\"bk-root\" id=\"82ac2572-1bae-4eff-8858-98457e4853dc\" data-root-id=\"2963\"></div>\n"
      ]
     },
     "metadata": {},
     "output_type": "display_data"
    },
    {
     "data": {
      "application/javascript": [
       "(function(root) {\n",
       "  function embed_document(root) {\n",
       "    \n",
       "  var docs_json = {\"a8009d9e-cbd6-44e0-8686-e2b94024336a\":{\"roots\":{\"references\":[{\"attributes\":{\"below\":[{\"id\":\"2972\"}],\"center\":[{\"id\":\"2975\"},{\"id\":\"2979\"}],\"left\":[{\"id\":\"2976\"}],\"plot_height\":400,\"renderers\":[{\"id\":\"2997\"}],\"title\":{\"id\":\"3110\"},\"toolbar\":{\"id\":\"2987\"},\"x_range\":{\"id\":\"2964\"},\"x_scale\":{\"id\":\"2968\"},\"y_range\":{\"id\":\"2966\"},\"y_scale\":{\"id\":\"2970\"}},\"id\":\"2963\",\"subtype\":\"Figure\",\"type\":\"Plot\"},{\"attributes\":{\"axis\":{\"id\":\"2972\"},\"ticker\":null},\"id\":\"2975\",\"type\":\"Grid\"},{\"attributes\":{\"formatter\":{\"id\":\"3114\"},\"ticker\":{\"id\":\"2973\"}},\"id\":\"2972\",\"type\":\"LinearAxis\"},{\"attributes\":{\"fill_alpha\":{\"value\":0.1},\"fill_color\":{\"value\":\"#1f77b4\"},\"line_alpha\":{\"value\":0.1},\"line_color\":{\"value\":\"#1f77b4\"},\"size\":{\"units\":\"screen\",\"value\":10},\"x\":{\"field\":\"x\"},\"y\":{\"field\":\"y\"}},\"id\":\"2996\",\"type\":\"Circle\"},{\"attributes\":{\"formatter\":{\"id\":\"3112\"},\"ticker\":{\"id\":\"2977\"}},\"id\":\"2976\",\"type\":\"LinearAxis\"},{\"attributes\":{\"data_source\":{\"id\":\"2591\"},\"glyph\":{\"id\":\"2995\"},\"hover_glyph\":null,\"muted_glyph\":null,\"nonselection_glyph\":{\"id\":\"2996\"},\"selection_glyph\":null,\"view\":{\"id\":\"2998\"}},\"id\":\"2997\",\"type\":\"GlyphRenderer\"},{\"attributes\":{\"source\":{\"id\":\"2591\"}},\"id\":\"2998\",\"type\":\"CDSView\"},{\"attributes\":{},\"id\":\"2977\",\"type\":\"BasicTicker\"},{\"attributes\":{\"fill_color\":{\"value\":\"#1f77b4\"},\"line_color\":{\"value\":\"#1f77b4\"},\"size\":{\"units\":\"screen\",\"value\":10},\"x\":{\"field\":\"x\"},\"y\":{\"field\":\"y\"}},\"id\":\"2995\",\"type\":\"Circle\"},{\"attributes\":{\"axis\":{\"id\":\"2976\"},\"dimension\":1,\"ticker\":null},\"id\":\"2979\",\"type\":\"Grid\"},{\"attributes\":{},\"id\":\"2726\",\"type\":\"Selection\"},{\"attributes\":{},\"id\":\"3114\",\"type\":\"BasicTickFormatter\"},{\"attributes\":{\"data\":{\"x\":[0,1,2,3,4,5,6,7,8,9,10,11,12,13,14,15,16,17,18,19,20,21,22,23,24,25,26,27,28,29,30,31,32,33,34,35,36,37,38,39,40,41,42,43,44,45,46,47,48,49,50,51,52,53,54,55,56,57,58,59,60,61,62,63,64,65,66,67,68,69,70,71,72,73,74,75,76,77,78,79,80,81,82,83,84,85,86,87,88,89,90,91,92,93,94,95,96,97,98,99],\"y\":{\"__ndarray__\":\"BiJuXWZF3j8AUI/aKa7Kv+Ru2TBgaKE/q5buj/Oq+r9DQ7wfKDztv4BmVAMmlgPA5y6N8qWLA8AaWEjf34EEwPHTj8mS9grAqOIeubLo37/7HEJy24rxv/kkhMNY9+O/QmAkmnM13j87wGfh78fnvxco9XelLOM/AGQamP2H3j8IksvTQtX3P2OJWSUbbOI/tqYHYJwL3b/RsTvb2DDoP1LVVa4XIPQ/uc02c85Y9j/FNW6WrkwAQAJQpMaohARAObAnHQ+R9j+OdlWBgrHpvxg5NWKd4APAmIUE31AXEcBAS+x+GPcZwOY7GZcQjhzAyBXNnCarHsCedPsPTdMewHP3S2gq9x3A/43nwr+AH8CMOpOYX0IgwA2n0UzeHCDAnAUszW8bIsDKpm5f7ogjwDHRDUjMdiPAtSu17+fRJMA1muaHtfYlwJcQwx3pLCbANu7xB/eAI8COITXvzt0iwHqhETioiiPAo3y0gFC2JMD3LwtKJ/EkwI4mTr9XdSDAWv7z7NHAJsDI4gKY1K4lwGNQX5vLNyXAaP8p+ZN7I8BxE5uCdsclwFIAiC7rjCHAXK92Od8YH8Dly2NbhU0fwAWvffjlqR7ALQEMFq3DIMCrv0z1zqkgwIVP1Hoy8yDAZzsaVSwgHsCnQWoL8rEcwB9KnsBlBx3AAgcK81JRGsB9bgcP6xcYwDhBBX3aMxfA4ROf24hRHcBOcNBSnzMZwPSPSg/f3R3A3DV1y9TzIMAxwQZ7uikhwDm7VraSIyDAFA+iCaKlGsDT4ZfA6rIgwCQ/Q1dKgxvASeeQaI33FMDuTZdSBdAWwLQvyzs3nhfA/6j6jsHnGcAjwDjNiFEcwJvUJtOI1iDAC9orA6M3JMArndI+sZ0kwL3bIXq2GSTA1d7OSVtxIMCgCBWQ3nEiwEpWqrbQoCbAjLn61sZVJsDyuVBpjEQnwPLKo4wpjibAPmQWceBZJ8DmLupimd4pwIQcKBhOPyvARvBKt1ukKcAYUqTg5BgpwNbYj8ccCSvA3riBLKpKKcBp3RNmMy8swP60KhLhQS3AIyepO4vcLMA=\",\"dtype\":\"float64\",\"order\":\"little\",\"shape\":[100]},\"z\":{\"__ndarray__\":\"1FtnrpO/1j+Yk3yJHmzVP+CJA1WHuMY/gEj9FA5kgD/AYPScumCFP7M7VO1hHuM/wOnkvN6qtT9+p3+M6DPUP/5tp93r/u4/NWr9ZGP06z+L1GjHhjXtP7jDLOk5v8U/MrokpZRG1D9cBJuep/LOP/g+zWTOa98/hhZfAvxn4T+kMCP19vLZP5rW6UXTwec/2SRC+3WZ5D868gQ6VxnlP7y6AQDDGcM/DhAesAPk5z9+iqgbvYbkP3zyTJk3FtM/9pTUcZAN2D8F7prn1qLvP/ait+/XDdY/OmdxvQD71T+5yrORDKPjPyObqYPfyeM/QATP/AlZiz9IB3HiwGHiP2eArgTA4ug/OZ8LGW9l7j+BVmR41H7mPygfxLCov70/MIvXIaOQzz/uhi0v5M/aP7yj5TiaOeQ/EFlfEL1wuD+qMnN60/rYP1hBtPAdm9Q/BEpmyBgV7z+TTAnEigPvP/cxmXoUyuc/DFX1I+mQ4D8cajDgrQ3FP5BQh3VVYe4/kxT/JJl/7T81psvoBD7sP4Dy4Tu7Iao/I7c0bE/M6D+QtHbY8Ru7Pz50o8AA+ew/eRgzUffP4j/g/Vlpbp7vP1jx0gowb9s/7WefJLsn5D/2ReXzS9foP5ICOYfZoNA/cPku0vlx5D9EwrQ4JXXqP6wCd12IruA/sH5Ht8Mq2z/9RS4V+v3gPyouc+lzRe4/1jxVwgz67z/E+wa/NHjlP0iOySw1ROk/pjuyTSpp7z+kp1UHlh7CP6Bm5Ar86po/lGX57dvi5z8ycKPpFrvjP0AQAKt6Zbk/ElNLPW2z4D+Ppqz+4TzgP8AawmbLSNI/pGBAGdXMzz8ENGeTrhXHP2/fabatruI/vLxo3Jqzwz/7XBvveMbmP+7jGFPmeus/PGPG5FP35T8+LcMt4vfQPygC3N77aNk/MIlTlaBq4D+0HOAjcQfWP21+4gKTdeE/XbgqFav05T8Ax7UbKy7TP/z8W1zYkMs/UwX9WtM56T+rXS8rwdPoP1CBoZIaXaU/MKcH79Cn5D+sD2uvoWjAP0+2topehuE/LuNZ9VGo0j8=\",\"dtype\":\"float64\",\"order\":\"little\",\"shape\":[100]}},\"selected\":{\"id\":\"2726\"},\"selection_policy\":{\"id\":\"2725\"}},\"id\":\"2591\",\"type\":\"ColumnDataSource\"},{\"attributes\":{},\"id\":\"2980\",\"type\":\"PanTool\"},{\"attributes\":{},\"id\":\"2981\",\"type\":\"WheelZoomTool\"},{\"attributes\":{\"callback\":null,\"renderers\":[{\"id\":\"2997\"}],\"tooltips\":\"Z = @z\"},\"id\":\"2999\",\"type\":\"HoverTool\"},{\"attributes\":{\"overlay\":{\"id\":\"2986\"}},\"id\":\"2982\",\"type\":\"BoxZoomTool\"},{\"attributes\":{\"text\":\"\"},\"id\":\"3110\",\"type\":\"Title\"},{\"attributes\":{},\"id\":\"2983\",\"type\":\"SaveTool\"},{\"attributes\":{},\"id\":\"2970\",\"type\":\"LinearScale\"},{\"attributes\":{},\"id\":\"2964\",\"type\":\"DataRange1d\"},{\"attributes\":{},\"id\":\"2984\",\"type\":\"ResetTool\"},{\"attributes\":{},\"id\":\"2973\",\"type\":\"BasicTicker\"},{\"attributes\":{},\"id\":\"2985\",\"type\":\"HelpTool\"},{\"attributes\":{},\"id\":\"2725\",\"type\":\"UnionRenderers\"},{\"attributes\":{},\"id\":\"2966\",\"type\":\"DataRange1d\"},{\"attributes\":{},\"id\":\"2968\",\"type\":\"LinearScale\"},{\"attributes\":{\"active_drag\":\"auto\",\"active_inspect\":\"auto\",\"active_multi\":null,\"active_scroll\":\"auto\",\"active_tap\":\"auto\",\"tools\":[{\"id\":\"2980\"},{\"id\":\"2981\"},{\"id\":\"2982\"},{\"id\":\"2983\"},{\"id\":\"2984\"},{\"id\":\"2985\"},{\"id\":\"2999\"}]},\"id\":\"2987\",\"type\":\"Toolbar\"},{\"attributes\":{},\"id\":\"3112\",\"type\":\"BasicTickFormatter\"},{\"attributes\":{\"bottom_units\":\"screen\",\"fill_alpha\":0.5,\"fill_color\":\"lightgrey\",\"left_units\":\"screen\",\"level\":\"overlay\",\"line_alpha\":1.0,\"line_color\":\"black\",\"line_dash\":[4,4],\"line_width\":2,\"right_units\":\"screen\",\"top_units\":\"screen\"},\"id\":\"2986\",\"type\":\"BoxAnnotation\"}],\"root_ids\":[\"2963\"]},\"title\":\"Bokeh Application\",\"version\":\"2.2.1\"}};\n",
       "  var render_items = [{\"docid\":\"a8009d9e-cbd6-44e0-8686-e2b94024336a\",\"root_ids\":[\"2963\"],\"roots\":{\"2963\":\"82ac2572-1bae-4eff-8858-98457e4853dc\"}}];\n",
       "  root.Bokeh.embed.embed_items_notebook(docs_json, render_items);\n",
       "\n",
       "  }\n",
       "  if (root.Bokeh !== undefined) {\n",
       "    embed_document(root);\n",
       "  } else {\n",
       "    var attempts = 0;\n",
       "    var timer = setInterval(function(root) {\n",
       "      if (root.Bokeh !== undefined) {\n",
       "        clearInterval(timer);\n",
       "        embed_document(root);\n",
       "      } else {\n",
       "        attempts++;\n",
       "        if (attempts > 100) {\n",
       "          clearInterval(timer);\n",
       "          console.log(\"Bokeh: ERROR: Unable to run BokehJS code because BokehJS library is missing\");\n",
       "        }\n",
       "      }\n",
       "    }, 10, root)\n",
       "  }\n",
       "})(window);"
      ],
      "application/vnd.bokehjs_exec.v0+json": ""
     },
     "metadata": {
      "application/vnd.bokehjs_exec.v0+json": {
       "id": "2963"
      }
     },
     "output_type": "display_data"
    }
   ],
   "source": [
    "p = figure(plot_width=600, plot_height=400)\n",
    "r = p.circle(\"x\", \"y\", size=10, source=source)\n",
    "p.add_tools(HoverTool(tooltips=\"Z = @z\", renderers=[r]))\n",
    "show(p)"
   ]
  },
  {
   "cell_type": "markdown",
   "metadata": {},
   "source": [
    "# Transformations\n",
    "Transform obeject are a transformation of columns in the data source. This allows us to transform the data and then pass them to a glyph.<br>\n",
    "Let's see a few examples of transformation.\n"
   ]
  },
  {
   "cell_type": "markdown",
   "metadata": {},
   "source": [
    "## cumsum\n",
    "Cumulative sum of data. This is useful when creating a pie plot. Let's see it through an example:"
   ]
  },
  {
   "cell_type": "markdown",
   "metadata": {},
   "source": [
    "Import Queensland air emission dataset, and create a table containing annual emission of _\"Volatile Organic Compounds\"_ for top 10 suburbs and put the emission of other suburbs under _\"Others\"_."
   ]
  },
  {
   "cell_type": "code",
   "execution_count": 29,
   "metadata": {
    "ExecuteTime": {
     "end_time": "2020-09-24T05:48:35.692132Z",
     "start_time": "2020-09-24T05:48:35.576585Z"
    }
   },
   "outputs": [
    {
     "data": {
      "text/html": [
       "<div>\n",
       "<style scoped>\n",
       "    .dataframe tbody tr th:only-of-type {\n",
       "        vertical-align: middle;\n",
       "    }\n",
       "\n",
       "    .dataframe tbody tr th {\n",
       "        vertical-align: top;\n",
       "    }\n",
       "\n",
       "    .dataframe thead th {\n",
       "        text-align: right;\n",
       "    }\n",
       "</style>\n",
       "<table border=\"1\" class=\"dataframe\">\n",
       "  <thead>\n",
       "    <tr style=\"text-align: right;\">\n",
       "      <th></th>\n",
       "      <th>Total Volatile Organic Compounds</th>\n",
       "    </tr>\n",
       "    <tr>\n",
       "      <th>site_address_suburb</th>\n",
       "      <th></th>\n",
       "    </tr>\n",
       "  </thead>\n",
       "  <tbody>\n",
       "    <tr>\n",
       "      <th>Pinkenba</th>\n",
       "      <td>6.280971e+05</td>\n",
       "    </tr>\n",
       "    <tr>\n",
       "      <th>Surat</th>\n",
       "      <td>3.643645e+05</td>\n",
       "    </tr>\n",
       "    <tr>\n",
       "      <th>Moranbah</th>\n",
       "      <td>2.486396e+05</td>\n",
       "    </tr>\n",
       "    <tr>\n",
       "      <th>Dysart</th>\n",
       "      <td>2.173215e+05</td>\n",
       "    </tr>\n",
       "    <tr>\n",
       "      <th>Arundel</th>\n",
       "      <td>1.830000e+05</td>\n",
       "    </tr>\n",
       "    <tr>\n",
       "      <th>Coomera</th>\n",
       "      <td>1.702800e+05</td>\n",
       "    </tr>\n",
       "    <tr>\n",
       "      <th>North Stradbroke Island</th>\n",
       "      <td>1.537310e+05</td>\n",
       "    </tr>\n",
       "    <tr>\n",
       "      <th>Karrabin</th>\n",
       "      <td>1.237040e+05</td>\n",
       "    </tr>\n",
       "    <tr>\n",
       "      <th>Durham Downs</th>\n",
       "      <td>1.215000e+05</td>\n",
       "    </tr>\n",
       "    <tr>\n",
       "      <th>Injune</th>\n",
       "      <td>1.162193e+05</td>\n",
       "    </tr>\n",
       "    <tr>\n",
       "      <th>Others</th>\n",
       "      <td>3.442064e+06</td>\n",
       "    </tr>\n",
       "  </tbody>\n",
       "</table>\n",
       "</div>"
      ],
      "text/plain": [
       "                         Total Volatile Organic Compounds\n",
       "site_address_suburb                                      \n",
       "Pinkenba                                     6.280971e+05\n",
       "Surat                                        3.643645e+05\n",
       "Moranbah                                     2.486396e+05\n",
       "Dysart                                       2.173215e+05\n",
       "Arundel                                      1.830000e+05\n",
       "Coomera                                      1.702800e+05\n",
       "North Stradbroke Island                      1.537310e+05\n",
       "Karrabin                                     1.237040e+05\n",
       "Durham Downs                                 1.215000e+05\n",
       "Injune                                       1.162193e+05\n",
       "Others                                       3.442064e+06"
      ]
     },
     "execution_count": 29,
     "metadata": {},
     "output_type": "execute_result"
    }
   ],
   "source": [
    "df = pd.read_csv(\"../../data/processed/Emission/npi-2006-qld-air-total-emissions.csv\")\n",
    "df = df.pivot_table(\n",
    "    columns=\"substance\",\n",
    "    values=\"quantity_in_kg\",\n",
    "    index=\"site_address_suburb\",\n",
    "    aggfunc=\"mean\",\n",
    "    fill_value=0,\n",
    ")\n",
    "data = df.sort_values(by=\"Total Volatile Organic Compounds\", ascending=False)[:10]\n",
    "data = data[\"Total Volatile Organic Compounds\"]\n",
    "total_organic = df[\"Total Volatile Organic Compounds\"].sum()\n",
    "data[\"Others\"] = total_organic - data.sum()\n",
    "data = pd.DataFrame(data)\n",
    "data"
   ]
  },
  {
   "cell_type": "markdown",
   "metadata": {},
   "source": [
    "We want to add a seperate color to each suburb, so we use `Category20c`. `Category20c` is a predefined dictionary which contains lists of colors. Depending on how many colors we need we pass in a number as a key and it will return a list of distinct colors. __Note that it only has up to 20 colors.__<br>\n",
    "Let's add a column for the colors:"
   ]
  },
  {
   "cell_type": "code",
   "execution_count": 30,
   "metadata": {
    "ExecuteTime": {
     "end_time": "2020-09-24T05:48:35.698846Z",
     "start_time": "2020-09-24T05:48:35.693873Z"
    }
   },
   "outputs": [],
   "source": [
    "from bokeh.palettes import Category20c\n",
    "\n",
    "data[\"color\"] = Category20c[len(data)]"
   ]
  },
  {
   "cell_type": "markdown",
   "metadata": {},
   "source": [
    "For simplicity, let's rename `Total Volatile Organic Compounds` column to `Organics`."
   ]
  },
  {
   "cell_type": "code",
   "execution_count": 31,
   "metadata": {
    "ExecuteTime": {
     "end_time": "2020-09-24T05:48:35.707263Z",
     "start_time": "2020-09-24T05:48:35.701310Z"
    }
   },
   "outputs": [],
   "source": [
    "data.rename(columns={\"Total Volatile Organic Compounds\": \"Organics\"}, inplace=True)"
   ]
  },
  {
   "cell_type": "markdown",
   "metadata": {},
   "source": [
    "We want to create a pie chart, so we need the angle of each piece."
   ]
  },
  {
   "cell_type": "code",
   "execution_count": 32,
   "metadata": {
    "ExecuteTime": {
     "end_time": "2020-09-24T05:48:35.716360Z",
     "start_time": "2020-09-24T05:48:35.709745Z"
    }
   },
   "outputs": [],
   "source": [
    "data[\"angle\"] = data[\"Organics\"] / data[\"Organics\"].sum() * 2 * np.pi"
   ]
  },
  {
   "cell_type": "markdown",
   "metadata": {},
   "source": [
    "To create a pie chart, we use a glyph called `wedge` which creates a sector of a circle. We need to pass in the start and end angle. To get the start and end angle we apply `cumsum` to the angle column of the data. `cumsum` has the option to start from zero or start from the first value in the data set.<br>\n",
    "And since `color` is a column in the data we can use it to style the plot."
   ]
  },
  {
   "cell_type": "code",
   "execution_count": 33,
   "metadata": {
    "ExecuteTime": {
     "end_time": "2020-09-24T05:48:35.722766Z",
     "start_time": "2020-09-24T05:48:35.719058Z"
    }
   },
   "outputs": [],
   "source": [
    "from bokeh.transform import cumsum"
   ]
  },
  {
   "cell_type": "code",
   "execution_count": 34,
   "metadata": {
    "ExecuteTime": {
     "end_time": "2020-09-24T05:48:35.829090Z",
     "start_time": "2020-09-24T05:48:35.725288Z"
    }
   },
   "outputs": [
    {
     "data": {
      "text/html": [
       "\n",
       "\n",
       "\n",
       "\n",
       "\n",
       "\n",
       "  <div class=\"bk-root\" id=\"61138320-73d1-417e-8e01-a2222e3bf2fd\" data-root-id=\"3163\"></div>\n"
      ]
     },
     "metadata": {},
     "output_type": "display_data"
    },
    {
     "data": {
      "application/javascript": [
       "(function(root) {\n",
       "  function embed_document(root) {\n",
       "    \n",
       "  var docs_json = {\"767c67a2-9568-46ef-b15c-e6bd798c1b66\":{\"roots\":{\"references\":[{\"attributes\":{\"below\":[{\"id\":\"3172\"}],\"center\":[{\"id\":\"3175\"},{\"id\":\"3179\"}],\"left\":[{\"id\":\"3176\"}],\"plot_height\":500,\"plot_width\":800,\"renderers\":[{\"id\":\"3200\"}],\"title\":{\"id\":\"3320\"},\"toolbar\":{\"id\":\"3187\"},\"x_range\":{\"id\":\"3164\"},\"x_scale\":{\"id\":\"3168\"},\"y_range\":{\"id\":\"3166\"},\"y_scale\":{\"id\":\"3170\"}},\"id\":\"3163\",\"subtype\":\"Figure\",\"type\":\"Plot\"},{\"attributes\":{\"active_drag\":\"auto\",\"active_inspect\":\"auto\",\"active_multi\":null,\"active_scroll\":\"auto\",\"active_tap\":\"auto\",\"tools\":[{\"id\":\"3180\"},{\"id\":\"3181\"},{\"id\":\"3182\"},{\"id\":\"3183\"},{\"id\":\"3184\"},{\"id\":\"3185\"}]},\"id\":\"3187\",\"type\":\"Toolbar\"},{\"attributes\":{\"axis\":{\"id\":\"3176\"},\"dimension\":1,\"ticker\":null},\"id\":\"3179\",\"type\":\"Grid\"},{\"attributes\":{\"formatter\":{\"id\":\"3324\"},\"ticker\":{\"id\":\"3173\"}},\"id\":\"3172\",\"type\":\"LinearAxis\"},{\"attributes\":{},\"id\":\"3326\",\"type\":\"UnionRenderers\"},{\"attributes\":{\"data_source\":{\"id\":\"3196\"},\"glyph\":{\"id\":\"3198\"},\"hover_glyph\":null,\"muted_glyph\":null,\"nonselection_glyph\":{\"id\":\"3199\"},\"selection_glyph\":null,\"view\":{\"id\":\"3201\"}},\"id\":\"3200\",\"type\":\"GlyphRenderer\"},{\"attributes\":{\"field\":\"angle\"},\"id\":\"3195\",\"type\":\"CumSum\"},{\"attributes\":{},\"id\":\"3170\",\"type\":\"LinearScale\"},{\"attributes\":{\"end_angle\":{\"expr\":{\"id\":\"3195\"},\"units\":\"rad\"},\"fill_color\":{\"field\":\"color\"},\"line_color\":{\"value\":\"#1f77b4\"},\"radius\":{\"units\":\"data\",\"value\":0.5},\"start_angle\":{\"expr\":{\"id\":\"3194\"},\"units\":\"rad\"},\"x\":{\"value\":0},\"y\":{\"value\":1}},\"id\":\"3198\",\"type\":\"Wedge\"},{\"attributes\":{},\"id\":\"3168\",\"type\":\"LinearScale\"},{\"attributes\":{},\"id\":\"3166\",\"type\":\"DataRange1d\"},{\"attributes\":{\"formatter\":{\"id\":\"3322\"},\"ticker\":{\"id\":\"3177\"}},\"id\":\"3176\",\"type\":\"LinearAxis\"},{\"attributes\":{},\"id\":\"3322\",\"type\":\"BasicTickFormatter\"},{\"attributes\":{},\"id\":\"3327\",\"type\":\"Selection\"},{\"attributes\":{},\"id\":\"3164\",\"type\":\"DataRange1d\"},{\"attributes\":{},\"id\":\"3183\",\"type\":\"SaveTool\"},{\"attributes\":{},\"id\":\"3184\",\"type\":\"ResetTool\"},{\"attributes\":{},\"id\":\"3181\",\"type\":\"WheelZoomTool\"},{\"attributes\":{},\"id\":\"3177\",\"type\":\"BasicTicker\"},{\"attributes\":{\"field\":\"angle\",\"include_zero\":true},\"id\":\"3194\",\"type\":\"CumSum\"},{\"attributes\":{\"source\":{\"id\":\"3196\"}},\"id\":\"3201\",\"type\":\"CDSView\"},{\"attributes\":{\"bottom_units\":\"screen\",\"fill_alpha\":0.5,\"fill_color\":\"lightgrey\",\"left_units\":\"screen\",\"level\":\"overlay\",\"line_alpha\":1.0,\"line_color\":\"black\",\"line_dash\":[4,4],\"line_width\":2,\"right_units\":\"screen\",\"top_units\":\"screen\"},\"id\":\"3186\",\"type\":\"BoxAnnotation\"},{\"attributes\":{},\"id\":\"3180\",\"type\":\"PanTool\"},{\"attributes\":{},\"id\":\"3185\",\"type\":\"HelpTool\"},{\"attributes\":{\"end_angle\":{\"expr\":{\"id\":\"3195\"},\"units\":\"rad\"},\"fill_alpha\":{\"value\":0.1},\"fill_color\":{\"field\":\"color\"},\"line_alpha\":{\"value\":0.1},\"line_color\":{\"value\":\"#1f77b4\"},\"radius\":{\"units\":\"data\",\"value\":0.5},\"start_angle\":{\"expr\":{\"id\":\"3194\"},\"units\":\"rad\"},\"x\":{\"value\":0},\"y\":{\"value\":1}},\"id\":\"3199\",\"type\":\"Wedge\"},{\"attributes\":{},\"id\":\"3173\",\"type\":\"BasicTicker\"},{\"attributes\":{\"axis\":{\"id\":\"3172\"},\"ticker\":null},\"id\":\"3175\",\"type\":\"Grid\"},{\"attributes\":{},\"id\":\"3324\",\"type\":\"BasicTickFormatter\"},{\"attributes\":{\"data\":{\"Organics\":{\"__ndarray__\":\"AAAAIAIrI0EAAAAAMj0WQZhuEoP8WQ5BAAAAAEyHCkEAAAAAwFYGQQAAAABAyQRBAAAAABjEAkEAAAAAgDP+QAAAAADAqf1AVVVVVbVf/EBD5yL1x0JKQQ==\",\"dtype\":\"float64\",\"order\":\"little\",\"shape\":[11]},\"angle\":{\"__ndarray__\":\"/uHCxAzk5T9bJVI46mXZP7aC83fbVNE/k8oRhgBMzj8mMTODGYPJP25gl3sivcc/o1PBK4RuxT/U8tRv4T7BP8P4ts448MA/GK75g8IzwD8WuBzqwP0NQA==\",\"dtype\":\"float64\",\"order\":\"little\",\"shape\":[11]},\"color\":[\"#3182bd\",\"#6baed6\",\"#9ecae1\",\"#c6dbef\",\"#e6550d\",\"#fd8d3c\",\"#fdae6b\",\"#fdd0a2\",\"#31a354\",\"#74c476\",\"#a1d99b\"],\"site_address_suburb\":[\"Pinkenba\",\"Surat\",\"Moranbah\",\"Dysart\",\"Arundel\",\"Coomera\",\"North Stradbroke Island\",\"Karrabin\",\"Durham Downs\",\"Injune\",\"Others\"]},\"selected\":{\"id\":\"3327\"},\"selection_policy\":{\"id\":\"3326\"}},\"id\":\"3196\",\"type\":\"ColumnDataSource\"},{\"attributes\":{\"overlay\":{\"id\":\"3186\"}},\"id\":\"3182\",\"type\":\"BoxZoomTool\"},{\"attributes\":{\"text\":\"\"},\"id\":\"3320\",\"type\":\"Title\"}],\"root_ids\":[\"3163\"]},\"title\":\"Bokeh Application\",\"version\":\"2.2.1\"}};\n",
       "  var render_items = [{\"docid\":\"767c67a2-9568-46ef-b15c-e6bd798c1b66\",\"root_ids\":[\"3163\"],\"roots\":{\"3163\":\"61138320-73d1-417e-8e01-a2222e3bf2fd\"}}];\n",
       "  root.Bokeh.embed.embed_items_notebook(docs_json, render_items);\n",
       "\n",
       "  }\n",
       "  if (root.Bokeh !== undefined) {\n",
       "    embed_document(root);\n",
       "  } else {\n",
       "    var attempts = 0;\n",
       "    var timer = setInterval(function(root) {\n",
       "      if (root.Bokeh !== undefined) {\n",
       "        clearInterval(timer);\n",
       "        embed_document(root);\n",
       "      } else {\n",
       "        attempts++;\n",
       "        if (attempts > 100) {\n",
       "          clearInterval(timer);\n",
       "          console.log(\"Bokeh: ERROR: Unable to run BokehJS code because BokehJS library is missing\");\n",
       "        }\n",
       "      }\n",
       "    }, 10, root)\n",
       "  }\n",
       "})(window);"
      ],
      "application/vnd.bokehjs_exec.v0+json": ""
     },
     "metadata": {
      "application/vnd.bokehjs_exec.v0+json": {
       "id": "3163"
      }
     },
     "output_type": "display_data"
    }
   ],
   "source": [
    "p = figure(\n",
    "    plot_height=500, plot_width=800\n",
    ")  # tools = 'hover', tooltips='@site_address_suburb: @Organics kg/year'\n",
    "r = p.wedge(\n",
    "    x=0,\n",
    "    y=1,\n",
    "    radius=0.5,\n",
    "    source=data,\n",
    "    start_angle=cumsum(\"angle\", include_zero=True),\n",
    "    end_angle=cumsum(\"angle\"),\n",
    "    fill_color=\"color\",\n",
    ")\n",
    "show(p)"
   ]
  },
  {
   "cell_type": "markdown",
   "metadata": {},
   "source": [
    "Now we can add a hover tooltip to the emission amount for each suburb."
   ]
  },
  {
   "cell_type": "code",
   "execution_count": 35,
   "metadata": {
    "ExecuteTime": {
     "end_time": "2020-09-24T05:48:35.934000Z",
     "start_time": "2020-09-24T05:48:35.831841Z"
    }
   },
   "outputs": [
    {
     "data": {
      "text/html": [
       "\n",
       "\n",
       "\n",
       "\n",
       "\n",
       "\n",
       "  <div class=\"bk-root\" id=\"d0830e47-eaca-4d08-9f6d-ed34c52ac2ae\" data-root-id=\"3163\"></div>\n"
      ]
     },
     "metadata": {},
     "output_type": "display_data"
    },
    {
     "data": {
      "application/javascript": [
       "(function(root) {\n",
       "  function embed_document(root) {\n",
       "    \n",
       "  var docs_json = {\"68612b83-3d52-4771-be32-49f7721397a3\":{\"roots\":{\"references\":[{\"attributes\":{\"below\":[{\"id\":\"3172\"}],\"center\":[{\"id\":\"3175\"},{\"id\":\"3179\"}],\"left\":[{\"id\":\"3176\"}],\"plot_height\":500,\"plot_width\":800,\"renderers\":[{\"id\":\"3200\"}],\"title\":{\"id\":\"3320\"},\"toolbar\":{\"id\":\"3187\"},\"x_range\":{\"id\":\"3164\"},\"x_scale\":{\"id\":\"3168\"},\"y_range\":{\"id\":\"3166\"},\"y_scale\":{\"id\":\"3170\"}},\"id\":\"3163\",\"subtype\":\"Figure\",\"type\":\"Plot\"},{\"attributes\":{\"active_drag\":\"auto\",\"active_inspect\":\"auto\",\"active_multi\":null,\"active_scroll\":\"auto\",\"active_tap\":\"auto\",\"tools\":[{\"id\":\"3180\"},{\"id\":\"3181\"},{\"id\":\"3182\"},{\"id\":\"3183\"},{\"id\":\"3184\"},{\"id\":\"3185\"},{\"id\":\"3373\"}]},\"id\":\"3187\",\"type\":\"Toolbar\"},{\"attributes\":{\"axis\":{\"id\":\"3176\"},\"dimension\":1,\"ticker\":null},\"id\":\"3179\",\"type\":\"Grid\"},{\"attributes\":{\"formatter\":{\"id\":\"3324\"},\"ticker\":{\"id\":\"3173\"}},\"id\":\"3172\",\"type\":\"LinearAxis\"},{\"attributes\":{},\"id\":\"3326\",\"type\":\"UnionRenderers\"},{\"attributes\":{\"data_source\":{\"id\":\"3196\"},\"glyph\":{\"id\":\"3198\"},\"hover_glyph\":null,\"muted_glyph\":null,\"nonselection_glyph\":{\"id\":\"3199\"},\"selection_glyph\":null,\"view\":{\"id\":\"3201\"}},\"id\":\"3200\",\"type\":\"GlyphRenderer\"},{\"attributes\":{\"field\":\"angle\"},\"id\":\"3195\",\"type\":\"CumSum\"},{\"attributes\":{},\"id\":\"3170\",\"type\":\"LinearScale\"},{\"attributes\":{\"end_angle\":{\"expr\":{\"id\":\"3195\"},\"units\":\"rad\"},\"fill_color\":{\"field\":\"color\"},\"line_color\":{\"value\":\"#1f77b4\"},\"radius\":{\"units\":\"data\",\"value\":0.5},\"start_angle\":{\"expr\":{\"id\":\"3194\"},\"units\":\"rad\"},\"x\":{\"value\":0},\"y\":{\"value\":1}},\"id\":\"3198\",\"type\":\"Wedge\"},{\"attributes\":{},\"id\":\"3168\",\"type\":\"LinearScale\"},{\"attributes\":{\"callback\":null,\"renderers\":[{\"id\":\"3200\"}],\"tooltips\":\"@site_address_suburb: @Organics kg/year\"},\"id\":\"3373\",\"type\":\"HoverTool\"},{\"attributes\":{},\"id\":\"3166\",\"type\":\"DataRange1d\"},{\"attributes\":{\"formatter\":{\"id\":\"3322\"},\"ticker\":{\"id\":\"3177\"}},\"id\":\"3176\",\"type\":\"LinearAxis\"},{\"attributes\":{},\"id\":\"3322\",\"type\":\"BasicTickFormatter\"},{\"attributes\":{},\"id\":\"3327\",\"type\":\"Selection\"},{\"attributes\":{},\"id\":\"3164\",\"type\":\"DataRange1d\"},{\"attributes\":{},\"id\":\"3183\",\"type\":\"SaveTool\"},{\"attributes\":{},\"id\":\"3184\",\"type\":\"ResetTool\"},{\"attributes\":{},\"id\":\"3181\",\"type\":\"WheelZoomTool\"},{\"attributes\":{},\"id\":\"3177\",\"type\":\"BasicTicker\"},{\"attributes\":{\"field\":\"angle\",\"include_zero\":true},\"id\":\"3194\",\"type\":\"CumSum\"},{\"attributes\":{\"source\":{\"id\":\"3196\"}},\"id\":\"3201\",\"type\":\"CDSView\"},{\"attributes\":{\"bottom_units\":\"screen\",\"fill_alpha\":0.5,\"fill_color\":\"lightgrey\",\"left_units\":\"screen\",\"level\":\"overlay\",\"line_alpha\":1.0,\"line_color\":\"black\",\"line_dash\":[4,4],\"line_width\":2,\"right_units\":\"screen\",\"top_units\":\"screen\"},\"id\":\"3186\",\"type\":\"BoxAnnotation\"},{\"attributes\":{},\"id\":\"3180\",\"type\":\"PanTool\"},{\"attributes\":{},\"id\":\"3185\",\"type\":\"HelpTool\"},{\"attributes\":{\"end_angle\":{\"expr\":{\"id\":\"3195\"},\"units\":\"rad\"},\"fill_alpha\":{\"value\":0.1},\"fill_color\":{\"field\":\"color\"},\"line_alpha\":{\"value\":0.1},\"line_color\":{\"value\":\"#1f77b4\"},\"radius\":{\"units\":\"data\",\"value\":0.5},\"start_angle\":{\"expr\":{\"id\":\"3194\"},\"units\":\"rad\"},\"x\":{\"value\":0},\"y\":{\"value\":1}},\"id\":\"3199\",\"type\":\"Wedge\"},{\"attributes\":{},\"id\":\"3173\",\"type\":\"BasicTicker\"},{\"attributes\":{\"axis\":{\"id\":\"3172\"},\"ticker\":null},\"id\":\"3175\",\"type\":\"Grid\"},{\"attributes\":{},\"id\":\"3324\",\"type\":\"BasicTickFormatter\"},{\"attributes\":{\"data\":{\"Organics\":{\"__ndarray__\":\"AAAAIAIrI0EAAAAAMj0WQZhuEoP8WQ5BAAAAAEyHCkEAAAAAwFYGQQAAAABAyQRBAAAAABjEAkEAAAAAgDP+QAAAAADAqf1AVVVVVbVf/EBD5yL1x0JKQQ==\",\"dtype\":\"float64\",\"order\":\"little\",\"shape\":[11]},\"angle\":{\"__ndarray__\":\"/uHCxAzk5T9bJVI46mXZP7aC83fbVNE/k8oRhgBMzj8mMTODGYPJP25gl3sivcc/o1PBK4RuxT/U8tRv4T7BP8P4ts448MA/GK75g8IzwD8WuBzqwP0NQA==\",\"dtype\":\"float64\",\"order\":\"little\",\"shape\":[11]},\"color\":[\"#3182bd\",\"#6baed6\",\"#9ecae1\",\"#c6dbef\",\"#e6550d\",\"#fd8d3c\",\"#fdae6b\",\"#fdd0a2\",\"#31a354\",\"#74c476\",\"#a1d99b\"],\"site_address_suburb\":[\"Pinkenba\",\"Surat\",\"Moranbah\",\"Dysart\",\"Arundel\",\"Coomera\",\"North Stradbroke Island\",\"Karrabin\",\"Durham Downs\",\"Injune\",\"Others\"]},\"selected\":{\"id\":\"3327\"},\"selection_policy\":{\"id\":\"3326\"}},\"id\":\"3196\",\"type\":\"ColumnDataSource\"},{\"attributes\":{\"overlay\":{\"id\":\"3186\"}},\"id\":\"3182\",\"type\":\"BoxZoomTool\"},{\"attributes\":{\"text\":\"\"},\"id\":\"3320\",\"type\":\"Title\"}],\"root_ids\":[\"3163\"]},\"title\":\"Bokeh Application\",\"version\":\"2.2.1\"}};\n",
       "  var render_items = [{\"docid\":\"68612b83-3d52-4771-be32-49f7721397a3\",\"root_ids\":[\"3163\"],\"roots\":{\"3163\":\"d0830e47-eaca-4d08-9f6d-ed34c52ac2ae\"}}];\n",
       "  root.Bokeh.embed.embed_items_notebook(docs_json, render_items);\n",
       "\n",
       "  }\n",
       "  if (root.Bokeh !== undefined) {\n",
       "    embed_document(root);\n",
       "  } else {\n",
       "    var attempts = 0;\n",
       "    var timer = setInterval(function(root) {\n",
       "      if (root.Bokeh !== undefined) {\n",
       "        clearInterval(timer);\n",
       "        embed_document(root);\n",
       "      } else {\n",
       "        attempts++;\n",
       "        if (attempts > 100) {\n",
       "          clearInterval(timer);\n",
       "          console.log(\"Bokeh: ERROR: Unable to run BokehJS code because BokehJS library is missing\");\n",
       "        }\n",
       "      }\n",
       "    }, 10, root)\n",
       "  }\n",
       "})(window);"
      ],
      "application/vnd.bokehjs_exec.v0+json": ""
     },
     "metadata": {
      "application/vnd.bokehjs_exec.v0+json": {
       "id": "3163"
      }
     },
     "output_type": "display_data"
    }
   ],
   "source": [
    "p.add_tools(\n",
    "    HoverTool(tooltips=\"@site_address_suburb: @Organics kg/year\", renderers=[r])\n",
    ")\n",
    "show(p)"
   ]
  },
  {
   "cell_type": "markdown",
   "metadata": {},
   "source": [
    "An to make it look better, we add a bit of styling."
   ]
  },
  {
   "cell_type": "code",
   "execution_count": 36,
   "metadata": {
    "ExecuteTime": {
     "end_time": "2020-09-24T05:48:35.963976Z",
     "start_time": "2020-09-24T05:48:35.935821Z"
    }
   },
   "outputs": [
    {
     "data": {
      "text/html": [
       "\n",
       "\n",
       "\n",
       "\n",
       "\n",
       "\n",
       "  <div class=\"bk-root\" id=\"1eb3fc06-0b07-483b-81c5-60d27f259c51\" data-root-id=\"3163\"></div>\n"
      ]
     },
     "metadata": {},
     "output_type": "display_data"
    },
    {
     "data": {
      "application/javascript": [
       "(function(root) {\n",
       "  function embed_document(root) {\n",
       "    \n",
       "  var docs_json = {\"d53ee6c2-f518-43a2-ad46-a6e235f396d8\":{\"roots\":{\"references\":[{\"attributes\":{\"below\":[{\"id\":\"3172\"}],\"center\":[{\"id\":\"3175\"},{\"id\":\"3179\"}],\"left\":[{\"id\":\"3176\"}],\"plot_height\":500,\"plot_width\":800,\"renderers\":[{\"id\":\"3200\"}],\"title\":{\"id\":\"3320\"},\"toolbar\":{\"id\":\"3187\"},\"x_range\":{\"id\":\"3164\"},\"x_scale\":{\"id\":\"3168\"},\"y_range\":{\"id\":\"3166\"},\"y_scale\":{\"id\":\"3170\"}},\"id\":\"3163\",\"subtype\":\"Figure\",\"type\":\"Plot\"},{\"attributes\":{\"active_drag\":\"auto\",\"active_inspect\":\"auto\",\"active_multi\":null,\"active_scroll\":\"auto\",\"active_tap\":\"auto\",\"tools\":[{\"id\":\"3180\"},{\"id\":\"3181\"},{\"id\":\"3182\"},{\"id\":\"3183\"},{\"id\":\"3184\"},{\"id\":\"3185\"},{\"id\":\"3373\"}]},\"id\":\"3187\",\"type\":\"Toolbar\"},{\"attributes\":{\"axis\":{\"id\":\"3176\"},\"dimension\":1,\"grid_line_color\":null,\"ticker\":null},\"id\":\"3179\",\"type\":\"Grid\"},{\"attributes\":{\"axis_label\":null,\"formatter\":{\"id\":\"3324\"},\"ticker\":{\"id\":\"3173\"},\"visible\":false},\"id\":\"3172\",\"type\":\"LinearAxis\"},{\"attributes\":{},\"id\":\"3326\",\"type\":\"UnionRenderers\"},{\"attributes\":{\"data_source\":{\"id\":\"3196\"},\"glyph\":{\"id\":\"3198\"},\"hover_glyph\":null,\"muted_glyph\":null,\"nonselection_glyph\":{\"id\":\"3199\"},\"selection_glyph\":null,\"view\":{\"id\":\"3201\"}},\"id\":\"3200\",\"type\":\"GlyphRenderer\"},{\"attributes\":{\"field\":\"angle\"},\"id\":\"3195\",\"type\":\"CumSum\"},{\"attributes\":{},\"id\":\"3170\",\"type\":\"LinearScale\"},{\"attributes\":{\"end_angle\":{\"expr\":{\"id\":\"3195\"},\"units\":\"rad\"},\"fill_color\":{\"field\":\"color\"},\"line_color\":{\"value\":\"white\"},\"line_width\":{\"value\":2},\"radius\":{\"units\":\"data\",\"value\":0.5},\"start_angle\":{\"expr\":{\"id\":\"3194\"},\"units\":\"rad\"},\"x\":{\"value\":0},\"y\":{\"value\":1}},\"id\":\"3198\",\"type\":\"Wedge\"},{\"attributes\":{},\"id\":\"3168\",\"type\":\"LinearScale\"},{\"attributes\":{\"callback\":null,\"renderers\":[{\"id\":\"3200\"}],\"tooltips\":\"@site_address_suburb: @Organics kg/year\"},\"id\":\"3373\",\"type\":\"HoverTool\"},{\"attributes\":{},\"id\":\"3166\",\"type\":\"DataRange1d\"},{\"attributes\":{\"axis_label\":null,\"formatter\":{\"id\":\"3322\"},\"ticker\":{\"id\":\"3177\"},\"visible\":false},\"id\":\"3176\",\"type\":\"LinearAxis\"},{\"attributes\":{},\"id\":\"3322\",\"type\":\"BasicTickFormatter\"},{\"attributes\":{},\"id\":\"3327\",\"type\":\"Selection\"},{\"attributes\":{},\"id\":\"3164\",\"type\":\"DataRange1d\"},{\"attributes\":{},\"id\":\"3183\",\"type\":\"SaveTool\"},{\"attributes\":{},\"id\":\"3184\",\"type\":\"ResetTool\"},{\"attributes\":{},\"id\":\"3181\",\"type\":\"WheelZoomTool\"},{\"attributes\":{},\"id\":\"3177\",\"type\":\"BasicTicker\"},{\"attributes\":{\"field\":\"angle\",\"include_zero\":true},\"id\":\"3194\",\"type\":\"CumSum\"},{\"attributes\":{\"source\":{\"id\":\"3196\"}},\"id\":\"3201\",\"type\":\"CDSView\"},{\"attributes\":{\"bottom_units\":\"screen\",\"fill_alpha\":0.5,\"fill_color\":\"lightgrey\",\"left_units\":\"screen\",\"level\":\"overlay\",\"line_alpha\":1.0,\"line_color\":\"black\",\"line_dash\":[4,4],\"line_width\":2,\"right_units\":\"screen\",\"top_units\":\"screen\"},\"id\":\"3186\",\"type\":\"BoxAnnotation\"},{\"attributes\":{},\"id\":\"3180\",\"type\":\"PanTool\"},{\"attributes\":{},\"id\":\"3185\",\"type\":\"HelpTool\"},{\"attributes\":{\"end_angle\":{\"expr\":{\"id\":\"3195\"},\"units\":\"rad\"},\"fill_alpha\":{\"value\":0.1},\"fill_color\":{\"field\":\"color\"},\"line_alpha\":{\"value\":0.1},\"line_color\":{\"value\":\"#1f77b4\"},\"radius\":{\"units\":\"data\",\"value\":0.5},\"start_angle\":{\"expr\":{\"id\":\"3194\"},\"units\":\"rad\"},\"x\":{\"value\":0},\"y\":{\"value\":1}},\"id\":\"3199\",\"type\":\"Wedge\"},{\"attributes\":{},\"id\":\"3173\",\"type\":\"BasicTicker\"},{\"attributes\":{\"axis\":{\"id\":\"3172\"},\"grid_line_color\":null,\"ticker\":null},\"id\":\"3175\",\"type\":\"Grid\"},{\"attributes\":{},\"id\":\"3324\",\"type\":\"BasicTickFormatter\"},{\"attributes\":{\"data\":{\"Organics\":{\"__ndarray__\":\"AAAAIAIrI0EAAAAAMj0WQZhuEoP8WQ5BAAAAAEyHCkEAAAAAwFYGQQAAAABAyQRBAAAAABjEAkEAAAAAgDP+QAAAAADAqf1AVVVVVbVf/EBD5yL1x0JKQQ==\",\"dtype\":\"float64\",\"order\":\"little\",\"shape\":[11]},\"angle\":{\"__ndarray__\":\"/uHCxAzk5T9bJVI46mXZP7aC83fbVNE/k8oRhgBMzj8mMTODGYPJP25gl3sivcc/o1PBK4RuxT/U8tRv4T7BP8P4ts448MA/GK75g8IzwD8WuBzqwP0NQA==\",\"dtype\":\"float64\",\"order\":\"little\",\"shape\":[11]},\"color\":[\"#3182bd\",\"#6baed6\",\"#9ecae1\",\"#c6dbef\",\"#e6550d\",\"#fd8d3c\",\"#fdae6b\",\"#fdd0a2\",\"#31a354\",\"#74c476\",\"#a1d99b\"],\"site_address_suburb\":[\"Pinkenba\",\"Surat\",\"Moranbah\",\"Dysart\",\"Arundel\",\"Coomera\",\"North Stradbroke Island\",\"Karrabin\",\"Durham Downs\",\"Injune\",\"Others\"]},\"selected\":{\"id\":\"3327\"},\"selection_policy\":{\"id\":\"3326\"}},\"id\":\"3196\",\"type\":\"ColumnDataSource\"},{\"attributes\":{\"overlay\":{\"id\":\"3186\"}},\"id\":\"3182\",\"type\":\"BoxZoomTool\"},{\"attributes\":{\"text\":\"\"},\"id\":\"3320\",\"type\":\"Title\"}],\"root_ids\":[\"3163\"]},\"title\":\"Bokeh Application\",\"version\":\"2.2.1\"}};\n",
       "  var render_items = [{\"docid\":\"d53ee6c2-f518-43a2-ad46-a6e235f396d8\",\"root_ids\":[\"3163\"],\"roots\":{\"3163\":\"1eb3fc06-0b07-483b-81c5-60d27f259c51\"}}];\n",
       "  root.Bokeh.embed.embed_items_notebook(docs_json, render_items);\n",
       "\n",
       "  }\n",
       "  if (root.Bokeh !== undefined) {\n",
       "    embed_document(root);\n",
       "  } else {\n",
       "    var attempts = 0;\n",
       "    var timer = setInterval(function(root) {\n",
       "      if (root.Bokeh !== undefined) {\n",
       "        clearInterval(timer);\n",
       "        embed_document(root);\n",
       "      } else {\n",
       "        attempts++;\n",
       "        if (attempts > 100) {\n",
       "          clearInterval(timer);\n",
       "          console.log(\"Bokeh: ERROR: Unable to run BokehJS code because BokehJS library is missing\");\n",
       "        }\n",
       "      }\n",
       "    }, 10, root)\n",
       "  }\n",
       "})(window);"
      ],
      "application/vnd.bokehjs_exec.v0+json": ""
     },
     "metadata": {
      "application/vnd.bokehjs_exec.v0+json": {
       "id": "3163"
      }
     },
     "output_type": "display_data"
    }
   ],
   "source": [
    "r.glyph.line_color = \"white\"\n",
    "r.glyph.line_width = 2\n",
    "\n",
    "p.axis.axis_label = None\n",
    "p.axis.visible = False\n",
    "p.grid.grid_line_color = None\n",
    "show(p)"
   ]
  },
  {
   "cell_type": "markdown",
   "metadata": {},
   "source": [
    "## Linear colormap\n",
    "To create colors based on values in the data, we can use `linear_color`. To use this function we need a palette, which is a list of colors (Similar to `Category20c`). You can find a list of all palettes in `bokeh.palettes`. Then, by setting a low and a high value, any value in between will be mapped to a color in the palette."
   ]
  },
  {
   "cell_type": "code",
   "execution_count": 37,
   "metadata": {
    "ExecuteTime": {
     "end_time": "2020-09-24T05:48:35.968774Z",
     "start_time": "2020-09-24T05:48:35.965671Z"
    }
   },
   "outputs": [],
   "source": [
    "from bokeh.transform import linear_cmap\n",
    "from bokeh import palettes"
   ]
  },
  {
   "cell_type": "code",
   "execution_count": 38,
   "metadata": {
    "ExecuteTime": {
     "end_time": "2020-09-24T05:48:36.062190Z",
     "start_time": "2020-09-24T05:48:35.970433Z"
    }
   },
   "outputs": [
    {
     "data": {
      "text/html": [
       "\n",
       "\n",
       "\n",
       "\n",
       "\n",
       "\n",
       "  <div class=\"bk-root\" id=\"8dd693b3-12c7-48cd-b80c-e60f6526a200\" data-root-id=\"3592\"></div>\n"
      ]
     },
     "metadata": {},
     "output_type": "display_data"
    },
    {
     "data": {
      "application/javascript": [
       "(function(root) {\n",
       "  function embed_document(root) {\n",
       "    \n",
       "  var docs_json = {\"bc99988a-2df2-4a3e-b83e-22cb578f1f80\":{\"roots\":{\"references\":[{\"attributes\":{\"below\":[{\"id\":\"3601\"}],\"center\":[{\"id\":\"3604\"},{\"id\":\"3608\"}],\"left\":[{\"id\":\"3605\"}],\"plot_height\":400,\"renderers\":[{\"id\":\"3629\"}],\"title\":{\"id\":\"3758\"},\"toolbar\":{\"id\":\"3617\"},\"x_range\":{\"id\":\"3593\"},\"x_scale\":{\"id\":\"3597\"},\"y_range\":{\"id\":\"3595\"},\"y_scale\":{\"id\":\"3599\"}},\"id\":\"3592\",\"subtype\":\"Figure\",\"type\":\"Plot\"},{\"attributes\":{},\"id\":\"3609\",\"type\":\"PanTool\"},{\"attributes\":{},\"id\":\"3610\",\"type\":\"WheelZoomTool\"},{\"attributes\":{\"overlay\":{\"id\":\"3615\"}},\"id\":\"3611\",\"type\":\"BoxZoomTool\"},{\"attributes\":{},\"id\":\"3612\",\"type\":\"SaveTool\"},{\"attributes\":{\"data\":{\"x\":[0,1,2,3,4,5,6,7,8,9,10,11,12,13,14,15,16,17,18,19,20,21,22,23,24,25,26,27,28,29,30,31,32,33,34,35,36,37,38,39,40,41,42,43,44,45,46,47,48,49,50,51,52,53,54,55,56,57,58,59,60,61,62,63,64,65,66,67,68,69,70,71,72,73,74,75,76,77,78,79,80,81,82,83,84,85,86,87,88,89,90,91,92,93,94,95,96,97,98,99],\"y\":{\"__ndarray__\":\"BiJuXWZF3j8AUI/aKa7Kv+Ru2TBgaKE/q5buj/Oq+r9DQ7wfKDztv4BmVAMmlgPA5y6N8qWLA8AaWEjf34EEwPHTj8mS9grAqOIeubLo37/7HEJy24rxv/kkhMNY9+O/QmAkmnM13j87wGfh78fnvxco9XelLOM/AGQamP2H3j8IksvTQtX3P2OJWSUbbOI/tqYHYJwL3b/RsTvb2DDoP1LVVa4XIPQ/uc02c85Y9j/FNW6WrkwAQAJQpMaohARAObAnHQ+R9j+OdlWBgrHpvxg5NWKd4APAmIUE31AXEcBAS+x+GPcZwOY7GZcQjhzAyBXNnCarHsCedPsPTdMewHP3S2gq9x3A/43nwr+AH8CMOpOYX0IgwA2n0UzeHCDAnAUszW8bIsDKpm5f7ogjwDHRDUjMdiPAtSu17+fRJMA1muaHtfYlwJcQwx3pLCbANu7xB/eAI8COITXvzt0iwHqhETioiiPAo3y0gFC2JMD3LwtKJ/EkwI4mTr9XdSDAWv7z7NHAJsDI4gKY1K4lwGNQX5vLNyXAaP8p+ZN7I8BxE5uCdsclwFIAiC7rjCHAXK92Od8YH8Dly2NbhU0fwAWvffjlqR7ALQEMFq3DIMCrv0z1zqkgwIVP1Hoy8yDAZzsaVSwgHsCnQWoL8rEcwB9KnsBlBx3AAgcK81JRGsB9bgcP6xcYwDhBBX3aMxfA4ROf24hRHcBOcNBSnzMZwPSPSg/f3R3A3DV1y9TzIMAxwQZ7uikhwDm7VraSIyDAFA+iCaKlGsDT4ZfA6rIgwCQ/Q1dKgxvASeeQaI33FMDuTZdSBdAWwLQvyzs3nhfA/6j6jsHnGcAjwDjNiFEcwJvUJtOI1iDAC9orA6M3JMArndI+sZ0kwL3bIXq2GSTA1d7OSVtxIMCgCBWQ3nEiwEpWqrbQoCbAjLn61sZVJsDyuVBpjEQnwPLKo4wpjibAPmQWceBZJ8DmLupimd4pwIQcKBhOPyvARvBKt1ukKcAYUqTg5BgpwNbYj8ccCSvA3riBLKpKKcBp3RNmMy8swP60KhLhQS3AIyepO4vcLMA=\",\"dtype\":\"float64\",\"order\":\"little\",\"shape\":[100]},\"z\":{\"__ndarray__\":\"1FtnrpO/1j+Yk3yJHmzVP+CJA1WHuMY/gEj9FA5kgD/AYPScumCFP7M7VO1hHuM/wOnkvN6qtT9+p3+M6DPUP/5tp93r/u4/NWr9ZGP06z+L1GjHhjXtP7jDLOk5v8U/MrokpZRG1D9cBJuep/LOP/g+zWTOa98/hhZfAvxn4T+kMCP19vLZP5rW6UXTwec/2SRC+3WZ5D868gQ6VxnlP7y6AQDDGcM/DhAesAPk5z9+iqgbvYbkP3zyTJk3FtM/9pTUcZAN2D8F7prn1qLvP/ait+/XDdY/OmdxvQD71T+5yrORDKPjPyObqYPfyeM/QATP/AlZiz9IB3HiwGHiP2eArgTA4ug/OZ8LGW9l7j+BVmR41H7mPygfxLCov70/MIvXIaOQzz/uhi0v5M/aP7yj5TiaOeQ/EFlfEL1wuD+qMnN60/rYP1hBtPAdm9Q/BEpmyBgV7z+TTAnEigPvP/cxmXoUyuc/DFX1I+mQ4D8cajDgrQ3FP5BQh3VVYe4/kxT/JJl/7T81psvoBD7sP4Dy4Tu7Iao/I7c0bE/M6D+QtHbY8Ru7Pz50o8AA+ew/eRgzUffP4j/g/Vlpbp7vP1jx0gowb9s/7WefJLsn5D/2ReXzS9foP5ICOYfZoNA/cPku0vlx5D9EwrQ4JXXqP6wCd12IruA/sH5Ht8Mq2z/9RS4V+v3gPyouc+lzRe4/1jxVwgz67z/E+wa/NHjlP0iOySw1ROk/pjuyTSpp7z+kp1UHlh7CP6Bm5Ar86po/lGX57dvi5z8ycKPpFrvjP0AQAKt6Zbk/ElNLPW2z4D+Ppqz+4TzgP8AawmbLSNI/pGBAGdXMzz8ENGeTrhXHP2/fabatruI/vLxo3Jqzwz/7XBvveMbmP+7jGFPmeus/PGPG5FP35T8+LcMt4vfQPygC3N77aNk/MIlTlaBq4D+0HOAjcQfWP21+4gKTdeE/XbgqFav05T8Ax7UbKy7TP/z8W1zYkMs/UwX9WtM56T+rXS8rwdPoP1CBoZIaXaU/MKcH79Cn5D+sD2uvoWjAP0+2topehuE/LuNZ9VGo0j8=\",\"dtype\":\"float64\",\"order\":\"little\",\"shape\":[100]}},\"selected\":{\"id\":\"3765\"},\"selection_policy\":{\"id\":\"3764\"}},\"id\":\"3591\",\"type\":\"ColumnDataSource\"},{\"attributes\":{\"text\":\"\"},\"id\":\"3758\",\"type\":\"Title\"},{\"attributes\":{},\"id\":\"3613\",\"type\":\"ResetTool\"},{\"attributes\":{\"active_drag\":\"auto\",\"active_inspect\":\"auto\",\"active_multi\":null,\"active_scroll\":\"auto\",\"active_tap\":\"auto\",\"tools\":[{\"id\":\"3609\"},{\"id\":\"3610\"},{\"id\":\"3611\"},{\"id\":\"3612\"},{\"id\":\"3613\"},{\"id\":\"3614\"},{\"id\":\"3616\"}]},\"id\":\"3617\",\"type\":\"Toolbar\"},{\"attributes\":{},\"id\":\"3762\",\"type\":\"BasicTickFormatter\"},{\"attributes\":{},\"id\":\"3614\",\"type\":\"HelpTool\"},{\"attributes\":{},\"id\":\"3593\",\"type\":\"DataRange1d\"},{\"attributes\":{},\"id\":\"3764\",\"type\":\"UnionRenderers\"},{\"attributes\":{},\"id\":\"3595\",\"type\":\"DataRange1d\"},{\"attributes\":{\"fill_color\":{\"field\":\"z\",\"transform\":{\"id\":\"3625\"}},\"line_color\":{\"value\":\"gray\"},\"size\":{\"units\":\"screen\",\"value\":10},\"x\":{\"field\":\"x\"},\"y\":{\"field\":\"y\"}},\"id\":\"3627\",\"type\":\"Circle\"},{\"attributes\":{},\"id\":\"3597\",\"type\":\"LinearScale\"},{\"attributes\":{\"source\":{\"id\":\"3591\"}},\"id\":\"3630\",\"type\":\"CDSView\"},{\"attributes\":{},\"id\":\"3599\",\"type\":\"LinearScale\"},{\"attributes\":{\"fill_alpha\":{\"value\":0.1},\"fill_color\":{\"field\":\"z\",\"transform\":{\"id\":\"3625\"}},\"line_alpha\":{\"value\":0.1},\"line_color\":{\"value\":\"gray\"},\"size\":{\"units\":\"screen\",\"value\":10},\"x\":{\"field\":\"x\"},\"y\":{\"field\":\"y\"}},\"id\":\"3628\",\"type\":\"Circle\"},{\"attributes\":{\"formatter\":{\"id\":\"3762\"},\"ticker\":{\"id\":\"3602\"}},\"id\":\"3601\",\"type\":\"LinearAxis\"},{\"attributes\":{\"bottom_units\":\"screen\",\"fill_alpha\":0.5,\"fill_color\":\"lightgrey\",\"left_units\":\"screen\",\"level\":\"overlay\",\"line_alpha\":1.0,\"line_color\":\"black\",\"line_dash\":[4,4],\"line_width\":2,\"right_units\":\"screen\",\"top_units\":\"screen\"},\"id\":\"3615\",\"type\":\"BoxAnnotation\"},{\"attributes\":{},\"id\":\"3602\",\"type\":\"BasicTicker\"},{\"attributes\":{\"callback\":null,\"tooltips\":\"Z = @z\"},\"id\":\"3616\",\"type\":\"HoverTool\"},{\"attributes\":{\"data_source\":{\"id\":\"3591\"},\"glyph\":{\"id\":\"3627\"},\"hover_glyph\":null,\"muted_glyph\":null,\"nonselection_glyph\":{\"id\":\"3628\"},\"selection_glyph\":null,\"view\":{\"id\":\"3630\"}},\"id\":\"3629\",\"type\":\"GlyphRenderer\"},{\"attributes\":{\"axis\":{\"id\":\"3601\"},\"ticker\":null},\"id\":\"3604\",\"type\":\"Grid\"},{\"attributes\":{},\"id\":\"3765\",\"type\":\"Selection\"},{\"attributes\":{\"formatter\":{\"id\":\"3760\"},\"ticker\":{\"id\":\"3606\"}},\"id\":\"3605\",\"type\":\"LinearAxis\"},{\"attributes\":{\"high\":1,\"low\":0,\"palette\":[\"#08306b\",\"#08316d\",\"#08326e\",\"#083370\",\"#083471\",\"#083573\",\"#083674\",\"#083776\",\"#083877\",\"#083979\",\"#083a7a\",\"#083b7c\",\"#083c7d\",\"#083d7f\",\"#083e81\",\"#084082\",\"#084184\",\"#084285\",\"#084387\",\"#084488\",\"#08458a\",\"#08468b\",\"#08478d\",\"#08488e\",\"#084990\",\"#084a91\",\"#084b93\",\"#084c95\",\"#084d96\",\"#084e98\",\"#084f99\",\"#08509b\",\"#08519c\",\"#09529d\",\"#0a539e\",\"#0a549e\",\"#0b559f\",\"#0c56a0\",\"#0d57a1\",\"#0e58a2\",\"#0e59a2\",\"#0f5aa3\",\"#105ba4\",\"#115ca5\",\"#125da6\",\"#125ea6\",\"#135fa7\",\"#1460a8\",\"#1561a9\",\"#1562a9\",\"#1663aa\",\"#1764ab\",\"#1865ac\",\"#1966ad\",\"#1967ad\",\"#1a68ae\",\"#1b69af\",\"#1c6ab0\",\"#1c6bb0\",\"#1d6cb1\",\"#1e6db2\",\"#1f6eb3\",\"#206fb4\",\"#2070b4\",\"#2171b5\",\"#2272b6\",\"#2373b6\",\"#2474b7\",\"#2575b7\",\"#2676b8\",\"#2777b8\",\"#2979b9\",\"#2a7ab9\",\"#2b7bba\",\"#2c7cba\",\"#2d7dbb\",\"#2e7ebc\",\"#2f7fbc\",\"#3080bd\",\"#3181bd\",\"#3282be\",\"#3383be\",\"#3484bf\",\"#3585bf\",\"#3686c0\",\"#3787c0\",\"#3888c1\",\"#3989c1\",\"#3a8ac2\",\"#3b8bc2\",\"#3c8cc3\",\"#3d8dc4\",\"#3e8ec4\",\"#3f8fc5\",\"#4090c5\",\"#4191c6\",\"#4292c6\",\"#4493c7\",\"#4594c7\",\"#4695c8\",\"#4896c8\",\"#4997c9\",\"#4a98c9\",\"#4b98ca\",\"#4d99ca\",\"#4e9acb\",\"#4f9bcb\",\"#519ccc\",\"#529dcc\",\"#539ecd\",\"#549fcd\",\"#56a0ce\",\"#57a0ce\",\"#58a1cf\",\"#5aa2cf\",\"#5ba3d0\",\"#5ca4d0\",\"#5da5d1\",\"#5fa6d1\",\"#60a7d2\",\"#61a7d2\",\"#63a8d3\",\"#64a9d3\",\"#65aad4\",\"#66abd4\",\"#68acd5\",\"#69add5\",\"#6aaed6\",\"#6caed6\",\"#6dafd7\",\"#6fb0d7\",\"#71b1d7\",\"#72b2d8\",\"#74b3d8\",\"#75b4d8\",\"#77b5d9\",\"#79b5d9\",\"#7ab6d9\",\"#7cb7da\",\"#7db8da\",\"#7fb9da\",\"#81badb\",\"#82bbdb\",\"#84bcdb\",\"#85bcdc\",\"#87bddc\",\"#89bedc\",\"#8abfdd\",\"#8cc0dd\",\"#8dc1dd\",\"#8fc2de\",\"#91c3de\",\"#92c4de\",\"#94c4df\",\"#95c5df\",\"#97c6df\",\"#99c7e0\",\"#9ac8e0\",\"#9cc9e1\",\"#9dcae1\",\"#9fcae1\",\"#a0cbe2\",\"#a1cbe2\",\"#a3cce3\",\"#a4cce3\",\"#a5cde3\",\"#a6cee4\",\"#a8cee4\",\"#a9cfe5\",\"#aacfe5\",\"#abd0e6\",\"#add0e6\",\"#aed1e7\",\"#afd1e7\",\"#b0d2e7\",\"#b2d2e8\",\"#b3d3e8\",\"#b4d3e9\",\"#b5d4e9\",\"#b7d4ea\",\"#b8d5ea\",\"#b9d6ea\",\"#bad6eb\",\"#bcd7eb\",\"#bdd7ec\",\"#bed8ec\",\"#bfd8ed\",\"#c1d9ed\",\"#c2d9ee\",\"#c3daee\",\"#c4daee\",\"#c6dbef\",\"#c7dbef\",\"#c7dcef\",\"#c8dcf0\",\"#c9ddf0\",\"#caddf0\",\"#cadef0\",\"#cbdef1\",\"#ccdff1\",\"#cddff1\",\"#cde0f1\",\"#cee0f2\",\"#cfe1f2\",\"#d0e1f2\",\"#d0e2f2\",\"#d1e2f3\",\"#d2e3f3\",\"#d3e3f3\",\"#d3e4f3\",\"#d4e4f4\",\"#d5e5f4\",\"#d6e5f4\",\"#d6e6f4\",\"#d7e6f5\",\"#d8e7f5\",\"#d9e7f5\",\"#d9e8f5\",\"#dae8f6\",\"#dbe9f6\",\"#dce9f6\",\"#dceaf6\",\"#ddeaf7\",\"#deebf7\",\"#dfebf7\",\"#dfecf7\",\"#e0ecf8\",\"#e1edf8\",\"#e2edf8\",\"#e3eef8\",\"#e3eef9\",\"#e4eff9\",\"#e5eff9\",\"#e6f0f9\",\"#e7f0fa\",\"#e7f1fa\",\"#e8f1fa\",\"#e9f2fa\",\"#eaf2fb\",\"#eaf3fb\",\"#ebf3fb\",\"#ecf4fb\",\"#edf4fc\",\"#eef5fc\",\"#eef5fc\",\"#eff6fc\",\"#f0f6fd\",\"#f1f7fd\",\"#f2f7fd\",\"#f2f8fd\",\"#f3f8fe\",\"#f4f9fe\",\"#f5f9fe\",\"#f5fafe\",\"#f6faff\",\"#f7fbff\"]},\"id\":\"3625\",\"type\":\"LinearColorMapper\"},{\"attributes\":{},\"id\":\"3606\",\"type\":\"BasicTicker\"},{\"attributes\":{},\"id\":\"3760\",\"type\":\"BasicTickFormatter\"},{\"attributes\":{\"axis\":{\"id\":\"3605\"},\"dimension\":1,\"ticker\":null},\"id\":\"3608\",\"type\":\"Grid\"}],\"root_ids\":[\"3592\"]},\"title\":\"Bokeh Application\",\"version\":\"2.2.1\"}};\n",
       "  var render_items = [{\"docid\":\"bc99988a-2df2-4a3e-b83e-22cb578f1f80\",\"root_ids\":[\"3592\"],\"roots\":{\"3592\":\"8dd693b3-12c7-48cd-b80c-e60f6526a200\"}}];\n",
       "  root.Bokeh.embed.embed_items_notebook(docs_json, render_items);\n",
       "\n",
       "  }\n",
       "  if (root.Bokeh !== undefined) {\n",
       "    embed_document(root);\n",
       "  } else {\n",
       "    var attempts = 0;\n",
       "    var timer = setInterval(function(root) {\n",
       "      if (root.Bokeh !== undefined) {\n",
       "        clearInterval(timer);\n",
       "        embed_document(root);\n",
       "      } else {\n",
       "        attempts++;\n",
       "        if (attempts > 100) {\n",
       "          clearInterval(timer);\n",
       "          console.log(\"Bokeh: ERROR: Unable to run BokehJS code because BokehJS library is missing\");\n",
       "        }\n",
       "      }\n",
       "    }, 10, root)\n",
       "  }\n",
       "})(window);"
      ],
      "application/vnd.bokehjs_exec.v0+json": ""
     },
     "metadata": {
      "application/vnd.bokehjs_exec.v0+json": {
       "id": "3592"
      }
     },
     "output_type": "display_data"
    }
   ],
   "source": [
    "np.random.seed(12)\n",
    "x = np.arange(100)\n",
    "y = np.random.randn(100).cumsum()\n",
    "z = np.random.rand(100)\n",
    "source = ColumnDataSource(data={\"x\": x, \"y\": y, \"z\": z})\n",
    "p = figure(plot_width=600, plot_height=400, tooltips=\"Z = @z\")\n",
    "p.circle(\n",
    "    \"x\",\n",
    "    \"y\",\n",
    "    color=linear_cmap(\"z\", \"Blues256\", 0, 1),\n",
    "    line_color=\"gray\",\n",
    "    size=10,\n",
    "    source=source,\n",
    ")\n",
    "show(p)"
   ]
  },
  {
   "cell_type": "markdown",
   "metadata": {},
   "source": [
    "We can also add a color bar to it."
   ]
  },
  {
   "cell_type": "code",
   "execution_count": 39,
   "metadata": {
    "ExecuteTime": {
     "end_time": "2020-09-24T05:48:36.161368Z",
     "start_time": "2020-09-24T05:48:36.064112Z"
    }
   },
   "outputs": [
    {
     "data": {
      "text/html": [
       "\n",
       "\n",
       "\n",
       "\n",
       "\n",
       "\n",
       "  <div class=\"bk-root\" id=\"b52b600d-5cec-47d9-b390-1b47ede45919\" data-root-id=\"3592\"></div>\n"
      ]
     },
     "metadata": {},
     "output_type": "display_data"
    },
    {
     "data": {
      "application/javascript": [
       "(function(root) {\n",
       "  function embed_document(root) {\n",
       "    \n",
       "  var docs_json = {\"3695416d-6be1-4938-b4b9-75145072df64\":{\"roots\":{\"references\":[{\"attributes\":{\"below\":[{\"id\":\"3601\"}],\"center\":[{\"id\":\"3604\"},{\"id\":\"3608\"}],\"left\":[{\"id\":\"3605\"}],\"plot_height\":400,\"renderers\":[{\"id\":\"3629\"}],\"right\":[{\"id\":\"3812\"}],\"title\":{\"id\":\"3758\"},\"toolbar\":{\"id\":\"3617\"},\"x_range\":{\"id\":\"3593\"},\"x_scale\":{\"id\":\"3597\"},\"y_range\":{\"id\":\"3595\"},\"y_scale\":{\"id\":\"3599\"}},\"id\":\"3592\",\"subtype\":\"Figure\",\"type\":\"Plot\"},{\"attributes\":{},\"id\":\"3609\",\"type\":\"PanTool\"},{\"attributes\":{},\"id\":\"3610\",\"type\":\"WheelZoomTool\"},{\"attributes\":{\"overlay\":{\"id\":\"3615\"}},\"id\":\"3611\",\"type\":\"BoxZoomTool\"},{\"attributes\":{},\"id\":\"3612\",\"type\":\"SaveTool\"},{\"attributes\":{\"data\":{\"x\":[0,1,2,3,4,5,6,7,8,9,10,11,12,13,14,15,16,17,18,19,20,21,22,23,24,25,26,27,28,29,30,31,32,33,34,35,36,37,38,39,40,41,42,43,44,45,46,47,48,49,50,51,52,53,54,55,56,57,58,59,60,61,62,63,64,65,66,67,68,69,70,71,72,73,74,75,76,77,78,79,80,81,82,83,84,85,86,87,88,89,90,91,92,93,94,95,96,97,98,99],\"y\":{\"__ndarray__\":\"BiJuXWZF3j8AUI/aKa7Kv+Ru2TBgaKE/q5buj/Oq+r9DQ7wfKDztv4BmVAMmlgPA5y6N8qWLA8AaWEjf34EEwPHTj8mS9grAqOIeubLo37/7HEJy24rxv/kkhMNY9+O/QmAkmnM13j87wGfh78fnvxco9XelLOM/AGQamP2H3j8IksvTQtX3P2OJWSUbbOI/tqYHYJwL3b/RsTvb2DDoP1LVVa4XIPQ/uc02c85Y9j/FNW6WrkwAQAJQpMaohARAObAnHQ+R9j+OdlWBgrHpvxg5NWKd4APAmIUE31AXEcBAS+x+GPcZwOY7GZcQjhzAyBXNnCarHsCedPsPTdMewHP3S2gq9x3A/43nwr+AH8CMOpOYX0IgwA2n0UzeHCDAnAUszW8bIsDKpm5f7ogjwDHRDUjMdiPAtSu17+fRJMA1muaHtfYlwJcQwx3pLCbANu7xB/eAI8COITXvzt0iwHqhETioiiPAo3y0gFC2JMD3LwtKJ/EkwI4mTr9XdSDAWv7z7NHAJsDI4gKY1K4lwGNQX5vLNyXAaP8p+ZN7I8BxE5uCdsclwFIAiC7rjCHAXK92Od8YH8Dly2NbhU0fwAWvffjlqR7ALQEMFq3DIMCrv0z1zqkgwIVP1Hoy8yDAZzsaVSwgHsCnQWoL8rEcwB9KnsBlBx3AAgcK81JRGsB9bgcP6xcYwDhBBX3aMxfA4ROf24hRHcBOcNBSnzMZwPSPSg/f3R3A3DV1y9TzIMAxwQZ7uikhwDm7VraSIyDAFA+iCaKlGsDT4ZfA6rIgwCQ/Q1dKgxvASeeQaI33FMDuTZdSBdAWwLQvyzs3nhfA/6j6jsHnGcAjwDjNiFEcwJvUJtOI1iDAC9orA6M3JMArndI+sZ0kwL3bIXq2GSTA1d7OSVtxIMCgCBWQ3nEiwEpWqrbQoCbAjLn61sZVJsDyuVBpjEQnwPLKo4wpjibAPmQWceBZJ8DmLupimd4pwIQcKBhOPyvARvBKt1ukKcAYUqTg5BgpwNbYj8ccCSvA3riBLKpKKcBp3RNmMy8swP60KhLhQS3AIyepO4vcLMA=\",\"dtype\":\"float64\",\"order\":\"little\",\"shape\":[100]},\"z\":{\"__ndarray__\":\"1FtnrpO/1j+Yk3yJHmzVP+CJA1WHuMY/gEj9FA5kgD/AYPScumCFP7M7VO1hHuM/wOnkvN6qtT9+p3+M6DPUP/5tp93r/u4/NWr9ZGP06z+L1GjHhjXtP7jDLOk5v8U/MrokpZRG1D9cBJuep/LOP/g+zWTOa98/hhZfAvxn4T+kMCP19vLZP5rW6UXTwec/2SRC+3WZ5D868gQ6VxnlP7y6AQDDGcM/DhAesAPk5z9+iqgbvYbkP3zyTJk3FtM/9pTUcZAN2D8F7prn1qLvP/ait+/XDdY/OmdxvQD71T+5yrORDKPjPyObqYPfyeM/QATP/AlZiz9IB3HiwGHiP2eArgTA4ug/OZ8LGW9l7j+BVmR41H7mPygfxLCov70/MIvXIaOQzz/uhi0v5M/aP7yj5TiaOeQ/EFlfEL1wuD+qMnN60/rYP1hBtPAdm9Q/BEpmyBgV7z+TTAnEigPvP/cxmXoUyuc/DFX1I+mQ4D8cajDgrQ3FP5BQh3VVYe4/kxT/JJl/7T81psvoBD7sP4Dy4Tu7Iao/I7c0bE/M6D+QtHbY8Ru7Pz50o8AA+ew/eRgzUffP4j/g/Vlpbp7vP1jx0gowb9s/7WefJLsn5D/2ReXzS9foP5ICOYfZoNA/cPku0vlx5D9EwrQ4JXXqP6wCd12IruA/sH5Ht8Mq2z/9RS4V+v3gPyouc+lzRe4/1jxVwgz67z/E+wa/NHjlP0iOySw1ROk/pjuyTSpp7z+kp1UHlh7CP6Bm5Ar86po/lGX57dvi5z8ycKPpFrvjP0AQAKt6Zbk/ElNLPW2z4D+Ppqz+4TzgP8AawmbLSNI/pGBAGdXMzz8ENGeTrhXHP2/fabatruI/vLxo3Jqzwz/7XBvveMbmP+7jGFPmeus/PGPG5FP35T8+LcMt4vfQPygC3N77aNk/MIlTlaBq4D+0HOAjcQfWP21+4gKTdeE/XbgqFav05T8Ax7UbKy7TP/z8W1zYkMs/UwX9WtM56T+rXS8rwdPoP1CBoZIaXaU/MKcH79Cn5D+sD2uvoWjAP0+2topehuE/LuNZ9VGo0j8=\",\"dtype\":\"float64\",\"order\":\"little\",\"shape\":[100]}},\"selected\":{\"id\":\"3765\"},\"selection_policy\":{\"id\":\"3764\"}},\"id\":\"3591\",\"type\":\"ColumnDataSource\"},{\"attributes\":{\"text\":\"\"},\"id\":\"3758\",\"type\":\"Title\"},{\"attributes\":{},\"id\":\"3613\",\"type\":\"ResetTool\"},{\"attributes\":{\"active_drag\":\"auto\",\"active_inspect\":\"auto\",\"active_multi\":null,\"active_scroll\":\"auto\",\"active_tap\":\"auto\",\"tools\":[{\"id\":\"3609\"},{\"id\":\"3610\"},{\"id\":\"3611\"},{\"id\":\"3612\"},{\"id\":\"3613\"},{\"id\":\"3614\"},{\"id\":\"3616\"}]},\"id\":\"3617\",\"type\":\"Toolbar\"},{\"attributes\":{},\"id\":\"3762\",\"type\":\"BasicTickFormatter\"},{\"attributes\":{\"high\":1,\"low\":0,\"palette\":[\"#08306b\",\"#08316d\",\"#08326e\",\"#083370\",\"#083471\",\"#083573\",\"#083674\",\"#083776\",\"#083877\",\"#083979\",\"#083a7a\",\"#083b7c\",\"#083c7d\",\"#083d7f\",\"#083e81\",\"#084082\",\"#084184\",\"#084285\",\"#084387\",\"#084488\",\"#08458a\",\"#08468b\",\"#08478d\",\"#08488e\",\"#084990\",\"#084a91\",\"#084b93\",\"#084c95\",\"#084d96\",\"#084e98\",\"#084f99\",\"#08509b\",\"#08519c\",\"#09529d\",\"#0a539e\",\"#0a549e\",\"#0b559f\",\"#0c56a0\",\"#0d57a1\",\"#0e58a2\",\"#0e59a2\",\"#0f5aa3\",\"#105ba4\",\"#115ca5\",\"#125da6\",\"#125ea6\",\"#135fa7\",\"#1460a8\",\"#1561a9\",\"#1562a9\",\"#1663aa\",\"#1764ab\",\"#1865ac\",\"#1966ad\",\"#1967ad\",\"#1a68ae\",\"#1b69af\",\"#1c6ab0\",\"#1c6bb0\",\"#1d6cb1\",\"#1e6db2\",\"#1f6eb3\",\"#206fb4\",\"#2070b4\",\"#2171b5\",\"#2272b6\",\"#2373b6\",\"#2474b7\",\"#2575b7\",\"#2676b8\",\"#2777b8\",\"#2979b9\",\"#2a7ab9\",\"#2b7bba\",\"#2c7cba\",\"#2d7dbb\",\"#2e7ebc\",\"#2f7fbc\",\"#3080bd\",\"#3181bd\",\"#3282be\",\"#3383be\",\"#3484bf\",\"#3585bf\",\"#3686c0\",\"#3787c0\",\"#3888c1\",\"#3989c1\",\"#3a8ac2\",\"#3b8bc2\",\"#3c8cc3\",\"#3d8dc4\",\"#3e8ec4\",\"#3f8fc5\",\"#4090c5\",\"#4191c6\",\"#4292c6\",\"#4493c7\",\"#4594c7\",\"#4695c8\",\"#4896c8\",\"#4997c9\",\"#4a98c9\",\"#4b98ca\",\"#4d99ca\",\"#4e9acb\",\"#4f9bcb\",\"#519ccc\",\"#529dcc\",\"#539ecd\",\"#549fcd\",\"#56a0ce\",\"#57a0ce\",\"#58a1cf\",\"#5aa2cf\",\"#5ba3d0\",\"#5ca4d0\",\"#5da5d1\",\"#5fa6d1\",\"#60a7d2\",\"#61a7d2\",\"#63a8d3\",\"#64a9d3\",\"#65aad4\",\"#66abd4\",\"#68acd5\",\"#69add5\",\"#6aaed6\",\"#6caed6\",\"#6dafd7\",\"#6fb0d7\",\"#71b1d7\",\"#72b2d8\",\"#74b3d8\",\"#75b4d8\",\"#77b5d9\",\"#79b5d9\",\"#7ab6d9\",\"#7cb7da\",\"#7db8da\",\"#7fb9da\",\"#81badb\",\"#82bbdb\",\"#84bcdb\",\"#85bcdc\",\"#87bddc\",\"#89bedc\",\"#8abfdd\",\"#8cc0dd\",\"#8dc1dd\",\"#8fc2de\",\"#91c3de\",\"#92c4de\",\"#94c4df\",\"#95c5df\",\"#97c6df\",\"#99c7e0\",\"#9ac8e0\",\"#9cc9e1\",\"#9dcae1\",\"#9fcae1\",\"#a0cbe2\",\"#a1cbe2\",\"#a3cce3\",\"#a4cce3\",\"#a5cde3\",\"#a6cee4\",\"#a8cee4\",\"#a9cfe5\",\"#aacfe5\",\"#abd0e6\",\"#add0e6\",\"#aed1e7\",\"#afd1e7\",\"#b0d2e7\",\"#b2d2e8\",\"#b3d3e8\",\"#b4d3e9\",\"#b5d4e9\",\"#b7d4ea\",\"#b8d5ea\",\"#b9d6ea\",\"#bad6eb\",\"#bcd7eb\",\"#bdd7ec\",\"#bed8ec\",\"#bfd8ed\",\"#c1d9ed\",\"#c2d9ee\",\"#c3daee\",\"#c4daee\",\"#c6dbef\",\"#c7dbef\",\"#c7dcef\",\"#c8dcf0\",\"#c9ddf0\",\"#caddf0\",\"#cadef0\",\"#cbdef1\",\"#ccdff1\",\"#cddff1\",\"#cde0f1\",\"#cee0f2\",\"#cfe1f2\",\"#d0e1f2\",\"#d0e2f2\",\"#d1e2f3\",\"#d2e3f3\",\"#d3e3f3\",\"#d3e4f3\",\"#d4e4f4\",\"#d5e5f4\",\"#d6e5f4\",\"#d6e6f4\",\"#d7e6f5\",\"#d8e7f5\",\"#d9e7f5\",\"#d9e8f5\",\"#dae8f6\",\"#dbe9f6\",\"#dce9f6\",\"#dceaf6\",\"#ddeaf7\",\"#deebf7\",\"#dfebf7\",\"#dfecf7\",\"#e0ecf8\",\"#e1edf8\",\"#e2edf8\",\"#e3eef8\",\"#e3eef9\",\"#e4eff9\",\"#e5eff9\",\"#e6f0f9\",\"#e7f0fa\",\"#e7f1fa\",\"#e8f1fa\",\"#e9f2fa\",\"#eaf2fb\",\"#eaf3fb\",\"#ebf3fb\",\"#ecf4fb\",\"#edf4fc\",\"#eef5fc\",\"#eef5fc\",\"#eff6fc\",\"#f0f6fd\",\"#f1f7fd\",\"#f2f7fd\",\"#f2f8fd\",\"#f3f8fe\",\"#f4f9fe\",\"#f5f9fe\",\"#f5fafe\",\"#f6faff\",\"#f7fbff\"]},\"id\":\"3811\",\"type\":\"LinearColorMapper\"},{\"attributes\":{},\"id\":\"3614\",\"type\":\"HelpTool\"},{\"attributes\":{},\"id\":\"3593\",\"type\":\"DataRange1d\"},{\"attributes\":{},\"id\":\"3764\",\"type\":\"UnionRenderers\"},{\"attributes\":{},\"id\":\"3595\",\"type\":\"DataRange1d\"},{\"attributes\":{\"fill_color\":{\"field\":\"z\",\"transform\":{\"id\":\"3625\"}},\"line_color\":{\"value\":\"gray\"},\"size\":{\"units\":\"screen\",\"value\":10},\"x\":{\"field\":\"x\"},\"y\":{\"field\":\"y\"}},\"id\":\"3627\",\"type\":\"Circle\"},{\"attributes\":{},\"id\":\"3597\",\"type\":\"LinearScale\"},{\"attributes\":{\"source\":{\"id\":\"3591\"}},\"id\":\"3630\",\"type\":\"CDSView\"},{\"attributes\":{},\"id\":\"3599\",\"type\":\"LinearScale\"},{\"attributes\":{\"fill_alpha\":{\"value\":0.1},\"fill_color\":{\"field\":\"z\",\"transform\":{\"id\":\"3625\"}},\"line_alpha\":{\"value\":0.1},\"line_color\":{\"value\":\"gray\"},\"size\":{\"units\":\"screen\",\"value\":10},\"x\":{\"field\":\"x\"},\"y\":{\"field\":\"y\"}},\"id\":\"3628\",\"type\":\"Circle\"},{\"attributes\":{\"formatter\":{\"id\":\"3762\"},\"ticker\":{\"id\":\"3602\"}},\"id\":\"3601\",\"type\":\"LinearAxis\"},{\"attributes\":{\"bottom_units\":\"screen\",\"fill_alpha\":0.5,\"fill_color\":\"lightgrey\",\"left_units\":\"screen\",\"level\":\"overlay\",\"line_alpha\":1.0,\"line_color\":\"black\",\"line_dash\":[4,4],\"line_width\":2,\"right_units\":\"screen\",\"top_units\":\"screen\"},\"id\":\"3615\",\"type\":\"BoxAnnotation\"},{\"attributes\":{\"axis\":{\"id\":\"3605\"},\"dimension\":1,\"ticker\":null},\"id\":\"3608\",\"type\":\"Grid\"},{\"attributes\":{\"color_mapper\":{\"id\":\"3811\"},\"formatter\":{\"id\":\"3942\"},\"label_standoff\":12,\"location\":[0,0],\"ticker\":{\"id\":\"3941\"},\"title\":\"Z\"},\"id\":\"3812\",\"type\":\"ColorBar\"},{\"attributes\":{\"callback\":null,\"tooltips\":\"Z = @z\"},\"id\":\"3616\",\"type\":\"HoverTool\"},{\"attributes\":{},\"id\":\"3602\",\"type\":\"BasicTicker\"},{\"attributes\":{\"data_source\":{\"id\":\"3591\"},\"glyph\":{\"id\":\"3627\"},\"hover_glyph\":null,\"muted_glyph\":null,\"nonselection_glyph\":{\"id\":\"3628\"},\"selection_glyph\":null,\"view\":{\"id\":\"3630\"}},\"id\":\"3629\",\"type\":\"GlyphRenderer\"},{\"attributes\":{},\"id\":\"3942\",\"type\":\"BasicTickFormatter\"},{\"attributes\":{\"axis\":{\"id\":\"3601\"},\"ticker\":null},\"id\":\"3604\",\"type\":\"Grid\"},{\"attributes\":{},\"id\":\"3765\",\"type\":\"Selection\"},{\"attributes\":{\"formatter\":{\"id\":\"3760\"},\"ticker\":{\"id\":\"3606\"}},\"id\":\"3605\",\"type\":\"LinearAxis\"},{\"attributes\":{\"high\":1,\"low\":0,\"palette\":[\"#08306b\",\"#08316d\",\"#08326e\",\"#083370\",\"#083471\",\"#083573\",\"#083674\",\"#083776\",\"#083877\",\"#083979\",\"#083a7a\",\"#083b7c\",\"#083c7d\",\"#083d7f\",\"#083e81\",\"#084082\",\"#084184\",\"#084285\",\"#084387\",\"#084488\",\"#08458a\",\"#08468b\",\"#08478d\",\"#08488e\",\"#084990\",\"#084a91\",\"#084b93\",\"#084c95\",\"#084d96\",\"#084e98\",\"#084f99\",\"#08509b\",\"#08519c\",\"#09529d\",\"#0a539e\",\"#0a549e\",\"#0b559f\",\"#0c56a0\",\"#0d57a1\",\"#0e58a2\",\"#0e59a2\",\"#0f5aa3\",\"#105ba4\",\"#115ca5\",\"#125da6\",\"#125ea6\",\"#135fa7\",\"#1460a8\",\"#1561a9\",\"#1562a9\",\"#1663aa\",\"#1764ab\",\"#1865ac\",\"#1966ad\",\"#1967ad\",\"#1a68ae\",\"#1b69af\",\"#1c6ab0\",\"#1c6bb0\",\"#1d6cb1\",\"#1e6db2\",\"#1f6eb3\",\"#206fb4\",\"#2070b4\",\"#2171b5\",\"#2272b6\",\"#2373b6\",\"#2474b7\",\"#2575b7\",\"#2676b8\",\"#2777b8\",\"#2979b9\",\"#2a7ab9\",\"#2b7bba\",\"#2c7cba\",\"#2d7dbb\",\"#2e7ebc\",\"#2f7fbc\",\"#3080bd\",\"#3181bd\",\"#3282be\",\"#3383be\",\"#3484bf\",\"#3585bf\",\"#3686c0\",\"#3787c0\",\"#3888c1\",\"#3989c1\",\"#3a8ac2\",\"#3b8bc2\",\"#3c8cc3\",\"#3d8dc4\",\"#3e8ec4\",\"#3f8fc5\",\"#4090c5\",\"#4191c6\",\"#4292c6\",\"#4493c7\",\"#4594c7\",\"#4695c8\",\"#4896c8\",\"#4997c9\",\"#4a98c9\",\"#4b98ca\",\"#4d99ca\",\"#4e9acb\",\"#4f9bcb\",\"#519ccc\",\"#529dcc\",\"#539ecd\",\"#549fcd\",\"#56a0ce\",\"#57a0ce\",\"#58a1cf\",\"#5aa2cf\",\"#5ba3d0\",\"#5ca4d0\",\"#5da5d1\",\"#5fa6d1\",\"#60a7d2\",\"#61a7d2\",\"#63a8d3\",\"#64a9d3\",\"#65aad4\",\"#66abd4\",\"#68acd5\",\"#69add5\",\"#6aaed6\",\"#6caed6\",\"#6dafd7\",\"#6fb0d7\",\"#71b1d7\",\"#72b2d8\",\"#74b3d8\",\"#75b4d8\",\"#77b5d9\",\"#79b5d9\",\"#7ab6d9\",\"#7cb7da\",\"#7db8da\",\"#7fb9da\",\"#81badb\",\"#82bbdb\",\"#84bcdb\",\"#85bcdc\",\"#87bddc\",\"#89bedc\",\"#8abfdd\",\"#8cc0dd\",\"#8dc1dd\",\"#8fc2de\",\"#91c3de\",\"#92c4de\",\"#94c4df\",\"#95c5df\",\"#97c6df\",\"#99c7e0\",\"#9ac8e0\",\"#9cc9e1\",\"#9dcae1\",\"#9fcae1\",\"#a0cbe2\",\"#a1cbe2\",\"#a3cce3\",\"#a4cce3\",\"#a5cde3\",\"#a6cee4\",\"#a8cee4\",\"#a9cfe5\",\"#aacfe5\",\"#abd0e6\",\"#add0e6\",\"#aed1e7\",\"#afd1e7\",\"#b0d2e7\",\"#b2d2e8\",\"#b3d3e8\",\"#b4d3e9\",\"#b5d4e9\",\"#b7d4ea\",\"#b8d5ea\",\"#b9d6ea\",\"#bad6eb\",\"#bcd7eb\",\"#bdd7ec\",\"#bed8ec\",\"#bfd8ed\",\"#c1d9ed\",\"#c2d9ee\",\"#c3daee\",\"#c4daee\",\"#c6dbef\",\"#c7dbef\",\"#c7dcef\",\"#c8dcf0\",\"#c9ddf0\",\"#caddf0\",\"#cadef0\",\"#cbdef1\",\"#ccdff1\",\"#cddff1\",\"#cde0f1\",\"#cee0f2\",\"#cfe1f2\",\"#d0e1f2\",\"#d0e2f2\",\"#d1e2f3\",\"#d2e3f3\",\"#d3e3f3\",\"#d3e4f3\",\"#d4e4f4\",\"#d5e5f4\",\"#d6e5f4\",\"#d6e6f4\",\"#d7e6f5\",\"#d8e7f5\",\"#d9e7f5\",\"#d9e8f5\",\"#dae8f6\",\"#dbe9f6\",\"#dce9f6\",\"#dceaf6\",\"#ddeaf7\",\"#deebf7\",\"#dfebf7\",\"#dfecf7\",\"#e0ecf8\",\"#e1edf8\",\"#e2edf8\",\"#e3eef8\",\"#e3eef9\",\"#e4eff9\",\"#e5eff9\",\"#e6f0f9\",\"#e7f0fa\",\"#e7f1fa\",\"#e8f1fa\",\"#e9f2fa\",\"#eaf2fb\",\"#eaf3fb\",\"#ebf3fb\",\"#ecf4fb\",\"#edf4fc\",\"#eef5fc\",\"#eef5fc\",\"#eff6fc\",\"#f0f6fd\",\"#f1f7fd\",\"#f2f7fd\",\"#f2f8fd\",\"#f3f8fe\",\"#f4f9fe\",\"#f5f9fe\",\"#f5fafe\",\"#f6faff\",\"#f7fbff\"]},\"id\":\"3625\",\"type\":\"LinearColorMapper\"},{\"attributes\":{},\"id\":\"3606\",\"type\":\"BasicTicker\"},{\"attributes\":{},\"id\":\"3760\",\"type\":\"BasicTickFormatter\"},{\"attributes\":{},\"id\":\"3941\",\"type\":\"BasicTicker\"}],\"root_ids\":[\"3592\"]},\"title\":\"Bokeh Application\",\"version\":\"2.2.1\"}};\n",
       "  var render_items = [{\"docid\":\"3695416d-6be1-4938-b4b9-75145072df64\",\"root_ids\":[\"3592\"],\"roots\":{\"3592\":\"b52b600d-5cec-47d9-b390-1b47ede45919\"}}];\n",
       "  root.Bokeh.embed.embed_items_notebook(docs_json, render_items);\n",
       "\n",
       "  }\n",
       "  if (root.Bokeh !== undefined) {\n",
       "    embed_document(root);\n",
       "  } else {\n",
       "    var attempts = 0;\n",
       "    var timer = setInterval(function(root) {\n",
       "      if (root.Bokeh !== undefined) {\n",
       "        clearInterval(timer);\n",
       "        embed_document(root);\n",
       "      } else {\n",
       "        attempts++;\n",
       "        if (attempts > 100) {\n",
       "          clearInterval(timer);\n",
       "          console.log(\"Bokeh: ERROR: Unable to run BokehJS code because BokehJS library is missing\");\n",
       "        }\n",
       "      }\n",
       "    }, 10, root)\n",
       "  }\n",
       "})(window);"
      ],
      "application/vnd.bokehjs_exec.v0+json": ""
     },
     "metadata": {
      "application/vnd.bokehjs_exec.v0+json": {
       "id": "3592"
      }
     },
     "output_type": "display_data"
    }
   ],
   "source": [
    "from bokeh.models import LinearColorMapper, ColorBar\n",
    "\n",
    "color_mapper = LinearColorMapper(palette=\"Blues256\", low=0, high=1)\n",
    "color_bar = ColorBar(\n",
    "    color_mapper=color_mapper, label_standoff=12, location=(0, 0), title=\"Z\"\n",
    ")\n",
    "p.add_layout(color_bar, \"right\")\n",
    "\n",
    "show(p)"
   ]
  },
  {
   "cell_type": "markdown",
   "metadata": {},
   "source": [
    "# Plot Layout\n",
    "Occasionally, we might need to have multiple plots together side-by-side or on top of each other. To do this, we can use `gridplot`. We need to create multiple figures and create a plot with each figure. At the end we use `gridplot` to combine all of them into a single figure."
   ]
  },
  {
   "cell_type": "markdown",
   "metadata": {},
   "source": [
    "Generate some data"
   ]
  },
  {
   "cell_type": "code",
   "execution_count": 40,
   "metadata": {
    "ExecuteTime": {
     "end_time": "2020-09-24T05:48:36.168113Z",
     "start_time": "2020-09-24T05:48:36.163156Z"
    }
   },
   "outputs": [],
   "source": [
    "from bokeh.layouts import gridplot\n",
    "\n",
    "np.random.seed(24)\n",
    "x = np.linspace(0, 10, 100)\n",
    "y = x + np.random.randn(100)\n",
    "z = x + np.random.randn(100).cumsum()"
   ]
  },
  {
   "cell_type": "markdown",
   "metadata": {},
   "source": [
    "First plot:"
   ]
  },
  {
   "cell_type": "code",
   "execution_count": 41,
   "metadata": {
    "ExecuteTime": {
     "end_time": "2020-09-24T05:48:36.267168Z",
     "start_time": "2020-09-24T05:48:36.170074Z"
    }
   },
   "outputs": [
    {
     "data": {
      "text/html": [
       "\n",
       "\n",
       "\n",
       "\n",
       "\n",
       "\n",
       "  <div class=\"bk-root\" id=\"617f3b0c-ac8b-4cea-a0f6-c539f09c3f2d\" data-root-id=\"4005\"></div>\n"
      ]
     },
     "metadata": {},
     "output_type": "display_data"
    },
    {
     "data": {
      "application/javascript": [
       "(function(root) {\n",
       "  function embed_document(root) {\n",
       "    \n",
       "  var docs_json = {\"5ec05be0-53f4-4bfa-96c0-be469dfd87ea\":{\"roots\":{\"references\":[{\"attributes\":{\"below\":[{\"id\":\"4014\"}],\"center\":[{\"id\":\"4017\"},{\"id\":\"4021\"}],\"left\":[{\"id\":\"4018\"}],\"plot_height\":300,\"plot_width\":300,\"renderers\":[{\"id\":\"4039\"}],\"title\":{\"id\":\"4179\"},\"toolbar\":{\"id\":\"4029\"},\"x_range\":{\"id\":\"4006\"},\"x_scale\":{\"id\":\"4010\"},\"y_range\":{\"id\":\"4008\"},\"y_scale\":{\"id\":\"4012\"}},\"id\":\"4005\",\"subtype\":\"Figure\",\"type\":\"Plot\"},{\"attributes\":{},\"id\":\"4025\",\"type\":\"SaveTool\"},{\"attributes\":{},\"id\":\"4006\",\"type\":\"DataRange1d\"},{\"attributes\":{},\"id\":\"4186\",\"type\":\"Selection\"},{\"attributes\":{},\"id\":\"4010\",\"type\":\"LinearScale\"},{\"attributes\":{},\"id\":\"4026\",\"type\":\"ResetTool\"},{\"attributes\":{},\"id\":\"4012\",\"type\":\"LinearScale\"},{\"attributes\":{},\"id\":\"4027\",\"type\":\"HelpTool\"},{\"attributes\":{\"fill_alpha\":{\"value\":0.1},\"fill_color\":{\"value\":\"maroon\"},\"line_alpha\":{\"value\":0.1},\"line_color\":{\"value\":\"maroon\"},\"x\":{\"field\":\"x\"},\"y\":{\"field\":\"y\"}},\"id\":\"4038\",\"type\":\"Circle\"},{\"attributes\":{\"active_drag\":\"auto\",\"active_inspect\":\"auto\",\"active_multi\":null,\"active_scroll\":\"auto\",\"active_tap\":\"auto\",\"tools\":[{\"id\":\"4022\"},{\"id\":\"4023\"},{\"id\":\"4024\"},{\"id\":\"4025\"},{\"id\":\"4026\"},{\"id\":\"4027\"}]},\"id\":\"4029\",\"type\":\"Toolbar\"},{\"attributes\":{\"overlay\":{\"id\":\"4028\"}},\"id\":\"4024\",\"type\":\"BoxZoomTool\"},{\"attributes\":{\"formatter\":{\"id\":\"4183\"},\"ticker\":{\"id\":\"4015\"}},\"id\":\"4014\",\"type\":\"LinearAxis\"},{\"attributes\":{},\"id\":\"4019\",\"type\":\"BasicTicker\"},{\"attributes\":{\"formatter\":{\"id\":\"4181\"},\"ticker\":{\"id\":\"4019\"}},\"id\":\"4018\",\"type\":\"LinearAxis\"},{\"attributes\":{},\"id\":\"4022\",\"type\":\"PanTool\"},{\"attributes\":{\"bottom_units\":\"screen\",\"fill_alpha\":0.5,\"fill_color\":\"lightgrey\",\"left_units\":\"screen\",\"level\":\"overlay\",\"line_alpha\":1.0,\"line_color\":\"black\",\"line_dash\":[4,4],\"line_width\":2,\"right_units\":\"screen\",\"top_units\":\"screen\"},\"id\":\"4028\",\"type\":\"BoxAnnotation\"},{\"attributes\":{\"fill_color\":{\"value\":\"maroon\"},\"line_color\":{\"value\":\"maroon\"},\"x\":{\"field\":\"x\"},\"y\":{\"field\":\"y\"}},\"id\":\"4037\",\"type\":\"Circle\"},{\"attributes\":{\"axis\":{\"id\":\"4014\"},\"ticker\":null},\"id\":\"4017\",\"type\":\"Grid\"},{\"attributes\":{\"source\":{\"id\":\"4036\"}},\"id\":\"4040\",\"type\":\"CDSView\"},{\"attributes\":{\"text\":\"\"},\"id\":\"4179\",\"type\":\"Title\"},{\"attributes\":{\"data\":{\"x\":{\"__ndarray__\":\"AAAAAAAAAAAxb2dIzNu5PzFvZ0jM28k/ZZNNNtlk0z8xb2dIzNvZP3+lQK1fKeA/ZZNNNtlk4z9LgVq/UqDmPzFvZ0jM2+k/F1100UUX7T9/pUCtXynwP3Icx3Ecx/E/ZZNNNtlk8z9YCtT6lQL1P0uBWr9SoPY/Pvjggw8++D8xb2dIzNv5PyTm7QyJefs/F1100UUX/T8K1PqVArX+P3+lQK1fKQBA+OCDDz74AEByHMdxHMcBQOtXCtT6lQJAZZNNNtlkA0DezpCYtzMEQFgK1PqVAgVA0UUXXXTRBUBLgVq/UqAGQMS8nSExbwdAPvjggw8+CEC3MyTm7QwJQDFvZ0jM2wlAq6qqqqqqCkAk5u0MiXkLQJ4hMW9nSAxAF1100UUXDUCRmLczJOYNQArU+pUCtQ5AhA8++OCDD0B/pUCtXykQQDtDYt7OkBBA+OCDDz74EEC1fqVArV8RQHIcx3EcxxFALrrooosuEkDrVwrU+pUSQKj1KwVq/RJAZZNNNtlkE0AiMW9nSMwTQN7OkJi3MxRAm2yyySabFEBYCtT6lQIVQBWo9SsFahVA0UUXXXTRFUCO4ziO4zgWQEuBWr9SoBZACB988MEHF0DEvJ0hMW8XQIFav1Kg1hdAPvjggw8+GED7lQK1fqUYQLczJObtDBlAdNFFF110GUAxb2dIzNsZQO4MiXk7QxpAq6qqqqqqGkBnSMzbGRIbQCTm7QyJeRtA4YMPPvjgG0CeITFvZ0gcQFq/UqDWrxxAF1100UUXHUDU+pUCtX4dQJGYtzMk5h1ATTbZZJNNHkAK1PqVArUeQMdxHMdxHB9AhA8++OCDH0BArV8pUOsfQH+lQK1fKSBAXXTRRRddIEA7Q2LezpAgQBoS83aGxCBA+OCDDz74IEDXrxSo9SshQLV+pUCtXyFAk0022WSTIUByHMdxHMchQFDrVwrU+iFALrrooosuIkANiXk7Q2IiQOtXCtT6lSJAyiabbLLJIkCo9SsFav0iQIbEvJ0hMSNAZZNNNtlkI0BDYt7OkJgjQCIxb2dIzCNAAAAAAAAAJEA=\",\"dtype\":\"float64\",\"order\":\"little\",\"shape\":[100]},\"y\":{\"__ndarray__\":\"45Kv+3NE9T93DJmoo2jlv3YRIlgnQL2/YFW+YEsC5r/CiIlPOlblvxUeZsGQ4O2/nTIQkka68j+zCm4/cAvwP3s3nZu0L+q/4JX5tPkO8j/TiAMZwgX7PwjIeD7JAAhAFylopqdjAUDYHJKfnaz2P9/i/q/w2u0/Cn+uX0zsAkAgB79Ag44IQEGO45EDMwZA8dn3vmm9/z+SkZE/Q3kDQG42GVxR3eU/Qqp2Zvt4BUDfEdWDresMQIqb+7lIFAJAAJFbeQZeBECs3JEd49wNQEKC0VFo/gRAlBzIEZdrEUDEQ6UPU3YJQNrIN2sMvA9Ab2kRRy4oBUDJIC49hDUNQNQb0rn1rBNABqbUGRgPAEBipEIHDHQTQMBxKh7QIvc/YD1nyGYNDEAxkpQNwHkRQIPHmrfHAwpAh2N/AqPrEED+ORjK0DcVQNe5Hb/NuRFAqsppgVUtAkBcu51b4JYUQDj1+wdl5hVA6wk4TXqnEkCchREcmn8SQJqbRAhhLRNAwXJh2ALCCUCPu+1tgToSQP52hWKDARtAy3HmA/TZGEAdUz22FssXQJckS2KRqxNA5JQst4V8FEBVjb6EeaEYQE5TzR65DxdAXTVMK2gtF0DmdakbS0cVQBcqs8/I1RlARiA/ogVlFUB67DFTzrIXQD8DVZCeehxAoL/Z1dXsEUAgO9GYmYobQHqXQ5Nl/BVAnFzkl/ZbEEAEcCGHxysWQIQnr30F2RZAOau3EaCaH0DifCJFJBwgQBtqXXm2yyJAWhkkh7lqG0C3RSMy6ygcQKLzBCItTx1AX5mDai1GIkBbhgCaE7kgQCY69yidOh9ARhC/yPEaHEAAQkFkJOwjQERJQpBszRlAfgwktYHJH0AwC2u4zTwgQBk7WrSqFSJAm/e2DDS1HEAYKhv4GOEjQK6KF4jfHSFAHs6zZSZCH0DPMkmnjWMgQPv6pUrS4SFAnIDwOMkFIUBjWFTaRCAkQMCr3gItpSBAT9U1/nSiI0A9FhAyOvAmQIbheL8EziNAXu3WeHhkJUBFNyqlM1clQEPupX3gDyBAa5XdFiR2JkA=\",\"dtype\":\"float64\",\"order\":\"little\",\"shape\":[100]}},\"selected\":{\"id\":\"4186\"},\"selection_policy\":{\"id\":\"4185\"}},\"id\":\"4036\",\"type\":\"ColumnDataSource\"},{\"attributes\":{\"data_source\":{\"id\":\"4036\"},\"glyph\":{\"id\":\"4037\"},\"hover_glyph\":null,\"muted_glyph\":null,\"nonselection_glyph\":{\"id\":\"4038\"},\"selection_glyph\":null,\"view\":{\"id\":\"4040\"}},\"id\":\"4039\",\"type\":\"GlyphRenderer\"},{\"attributes\":{\"axis\":{\"id\":\"4018\"},\"dimension\":1,\"ticker\":null},\"id\":\"4021\",\"type\":\"Grid\"},{\"attributes\":{},\"id\":\"4183\",\"type\":\"BasicTickFormatter\"},{\"attributes\":{},\"id\":\"4185\",\"type\":\"UnionRenderers\"},{\"attributes\":{},\"id\":\"4181\",\"type\":\"BasicTickFormatter\"},{\"attributes\":{},\"id\":\"4015\",\"type\":\"BasicTicker\"},{\"attributes\":{},\"id\":\"4023\",\"type\":\"WheelZoomTool\"},{\"attributes\":{},\"id\":\"4008\",\"type\":\"DataRange1d\"}],\"root_ids\":[\"4005\"]},\"title\":\"Bokeh Application\",\"version\":\"2.2.1\"}};\n",
       "  var render_items = [{\"docid\":\"5ec05be0-53f4-4bfa-96c0-be469dfd87ea\",\"root_ids\":[\"4005\"],\"roots\":{\"4005\":\"617f3b0c-ac8b-4cea-a0f6-c539f09c3f2d\"}}];\n",
       "  root.Bokeh.embed.embed_items_notebook(docs_json, render_items);\n",
       "\n",
       "  }\n",
       "  if (root.Bokeh !== undefined) {\n",
       "    embed_document(root);\n",
       "  } else {\n",
       "    var attempts = 0;\n",
       "    var timer = setInterval(function(root) {\n",
       "      if (root.Bokeh !== undefined) {\n",
       "        clearInterval(timer);\n",
       "        embed_document(root);\n",
       "      } else {\n",
       "        attempts++;\n",
       "        if (attempts > 100) {\n",
       "          clearInterval(timer);\n",
       "          console.log(\"Bokeh: ERROR: Unable to run BokehJS code because BokehJS library is missing\");\n",
       "        }\n",
       "      }\n",
       "    }, 10, root)\n",
       "  }\n",
       "})(window);"
      ],
      "application/vnd.bokehjs_exec.v0+json": ""
     },
     "metadata": {
      "application/vnd.bokehjs_exec.v0+json": {
       "id": "4005"
      }
     },
     "output_type": "display_data"
    }
   ],
   "source": [
    "p1 = figure(width=300, height=300)\n",
    "p1.circle(x, y, color=\"maroon\")\n",
    "show(p1)"
   ]
  },
  {
   "cell_type": "markdown",
   "metadata": {},
   "source": [
    "Second plot"
   ]
  },
  {
   "cell_type": "code",
   "execution_count": 42,
   "metadata": {
    "ExecuteTime": {
     "end_time": "2020-09-24T05:48:36.386212Z",
     "start_time": "2020-09-24T05:48:36.269261Z"
    }
   },
   "outputs": [
    {
     "data": {
      "text/html": [
       "\n",
       "\n",
       "\n",
       "\n",
       "\n",
       "\n",
       "  <div class=\"bk-root\" id=\"0b4ca2e3-2deb-4dae-b022-f0c6a7ca23ce\" data-root-id=\"4232\"></div>\n"
      ]
     },
     "metadata": {},
     "output_type": "display_data"
    },
    {
     "data": {
      "application/javascript": [
       "(function(root) {\n",
       "  function embed_document(root) {\n",
       "    \n",
       "  var docs_json = {\"758aefdc-ebf6-4298-9e50-cb6e9d1f4bcc\":{\"roots\":{\"references\":[{\"attributes\":{\"below\":[{\"id\":\"4241\"}],\"center\":[{\"id\":\"4244\"},{\"id\":\"4248\"}],\"left\":[{\"id\":\"4245\"}],\"plot_height\":300,\"plot_width\":300,\"renderers\":[{\"id\":\"4266\"}],\"title\":{\"id\":\"4415\"},\"toolbar\":{\"id\":\"4256\"},\"x_range\":{\"id\":\"4233\"},\"x_scale\":{\"id\":\"4237\"},\"y_range\":{\"id\":\"4235\"},\"y_scale\":{\"id\":\"4239\"}},\"id\":\"4232\",\"subtype\":\"Figure\",\"type\":\"Plot\"},{\"attributes\":{\"formatter\":{\"id\":\"4417\"},\"ticker\":{\"id\":\"4246\"}},\"id\":\"4245\",\"type\":\"LinearAxis\"},{\"attributes\":{\"axis\":{\"id\":\"4241\"},\"ticker\":null},\"id\":\"4244\",\"type\":\"Grid\"},{\"attributes\":{},\"id\":\"4253\",\"type\":\"ResetTool\"},{\"attributes\":{\"formatter\":{\"id\":\"4419\"},\"ticker\":{\"id\":\"4242\"}},\"id\":\"4241\",\"type\":\"LinearAxis\"},{\"attributes\":{},\"id\":\"4239\",\"type\":\"LinearScale\"},{\"attributes\":{\"axis\":{\"id\":\"4245\"},\"dimension\":1,\"ticker\":null},\"id\":\"4248\",\"type\":\"Grid\"},{\"attributes\":{},\"id\":\"4237\",\"type\":\"LinearScale\"},{\"attributes\":{},\"id\":\"4235\",\"type\":\"DataRange1d\"},{\"attributes\":{\"text\":\"\"},\"id\":\"4415\",\"type\":\"Title\"},{\"attributes\":{\"bottom_units\":\"screen\",\"fill_alpha\":0.5,\"fill_color\":\"lightgrey\",\"left_units\":\"screen\",\"level\":\"overlay\",\"line_alpha\":1.0,\"line_color\":\"black\",\"line_dash\":[4,4],\"line_width\":2,\"right_units\":\"screen\",\"top_units\":\"screen\"},\"id\":\"4255\",\"type\":\"BoxAnnotation\"},{\"attributes\":{},\"id\":\"4233\",\"type\":\"DataRange1d\"},{\"attributes\":{\"source\":{\"id\":\"4263\"}},\"id\":\"4267\",\"type\":\"CDSView\"},{\"attributes\":{\"data\":{\"x\":{\"__ndarray__\":\"45Kv+3NE9T93DJmoo2jlv3YRIlgnQL2/YFW+YEsC5r/CiIlPOlblvxUeZsGQ4O2/nTIQkka68j+zCm4/cAvwP3s3nZu0L+q/4JX5tPkO8j/TiAMZwgX7PwjIeD7JAAhAFylopqdjAUDYHJKfnaz2P9/i/q/w2u0/Cn+uX0zsAkAgB79Ag44IQEGO45EDMwZA8dn3vmm9/z+SkZE/Q3kDQG42GVxR3eU/Qqp2Zvt4BUDfEdWDresMQIqb+7lIFAJAAJFbeQZeBECs3JEd49wNQEKC0VFo/gRAlBzIEZdrEUDEQ6UPU3YJQNrIN2sMvA9Ab2kRRy4oBUDJIC49hDUNQNQb0rn1rBNABqbUGRgPAEBipEIHDHQTQMBxKh7QIvc/YD1nyGYNDEAxkpQNwHkRQIPHmrfHAwpAh2N/AqPrEED+ORjK0DcVQNe5Hb/NuRFAqsppgVUtAkBcu51b4JYUQDj1+wdl5hVA6wk4TXqnEkCchREcmn8SQJqbRAhhLRNAwXJh2ALCCUCPu+1tgToSQP52hWKDARtAy3HmA/TZGEAdUz22FssXQJckS2KRqxNA5JQst4V8FEBVjb6EeaEYQE5TzR65DxdAXTVMK2gtF0DmdakbS0cVQBcqs8/I1RlARiA/ogVlFUB67DFTzrIXQD8DVZCeehxAoL/Z1dXsEUAgO9GYmYobQHqXQ5Nl/BVAnFzkl/ZbEEAEcCGHxysWQIQnr30F2RZAOau3EaCaH0DifCJFJBwgQBtqXXm2yyJAWhkkh7lqG0C3RSMy6ygcQKLzBCItTx1AX5mDai1GIkBbhgCaE7kgQCY69yidOh9ARhC/yPEaHEAAQkFkJOwjQERJQpBszRlAfgwktYHJH0AwC2u4zTwgQBk7WrSqFSJAm/e2DDS1HEAYKhv4GOEjQK6KF4jfHSFAHs6zZSZCH0DPMkmnjWMgQPv6pUrS4SFAnIDwOMkFIUBjWFTaRCAkQMCr3gItpSBAT9U1/nSiI0A9FhAyOvAmQIbheL8EziNAXu3WeHhkJUBFNyqlM1clQEPupX3gDyBAa5XdFiR2JkA=\",\"dtype\":\"float64\",\"order\":\"little\",\"shape\":[100]},\"y\":{\"__ndarray__\":\"AuAcEixzwL9e5Ung8A3qP+O1yo1wKABA9EGOiBq0BEAsCeBJLicHQNL6hDf8Zfs/rluisaYABUBsAwRdA48GQGm3Bxv0KwtAkCRlpc7zEUAiOoEDQ8MLQPTB6TTAQRJAPdaVG9I3GEBxSe0h/hcXQFFZlH9geRBAMEilMB5OGUCxCD7qG2McQMKLQhewwR5AAWp6FPswH0CADD/ykx8dQIBL9h8T6BpAEorbSXzXG0BUuPlJiYUcQAyjhBmjghtALWI07qNQGED0mNVFwVEZQLaoPcxZGhVAjuRPK8ToDUALdoJN5TUDQEBL9Yw2weo/+isIH14e+D9sg3nBTyfqP8f8BU7ccvo/5sUKP4rKAEDfXbpFuzoPQGjNBtSlyhJAWlTflpwoFkAWyyPyJTUUQMSvDWxtrgpAYfkQdNInEEBAXvW5AxgVQB8g7cJEuxNAGmc3VNfsEUBdltfPQ58QQMKIa0JfKgxABV0X/GgRE0CMoIzhMcYSQOjmMQ6FHRZAllt8wvLBF0CeXdpUM4oUQOh/NVAueBxArf6e5sr3G0CahDhZpSYZQKLIQ0wtLh9AuXLBR6MWIUACsygui48gQHNMHqqRcB1ASKFkSCbhF0BR33Cu5ksUQJ82AUZFVBZA6GcnHgITE0CzsQZTP30XQJKWV6wSHBZAxwub2YnRGUCXgrT45MgWQB0zwze2txdAcv19FI5xGEAd3cDI1TIYQGfn62cahxhAuUqWWhbqFkDrMpwIoKMWQOvNarPkaR5A/HrF/h64H0A9wwWpgdYiQFMEv/dM4SVA+rHqY5U1J0D2y2GYKd4pQNh28d2HCStAsYfWYddNK0DglFZKxgErQLaHzVXL4ClAuqe3eUNfKEBT5eXz43IsQG/JoS7DqyxAe5RG+3H+LEAGPqZ9fRYvQAdPv9m3jClAoNN7y4J0KkCx8mmnKDArQMJbRykAmitAKGsZsu+lKkAyvQ4PGQoqQLWTpJwKbCxAvQeyioV6L0C8dVfDhYgwQO4vZdvK0TBAMKCpQicHMUBBcmTtbeowQKfiXX1BxS9A40tUiyRMMEA=\",\"dtype\":\"float64\",\"order\":\"little\",\"shape\":[100]}},\"selected\":{\"id\":\"4422\"},\"selection_policy\":{\"id\":\"4421\"}},\"id\":\"4263\",\"type\":\"ColumnDataSource\"},{\"attributes\":{\"fill_color\":{\"value\":\"seagreen\"},\"line_color\":{\"value\":\"seagreen\"},\"x\":{\"field\":\"x\"},\"y\":{\"field\":\"y\"}},\"id\":\"4264\",\"type\":\"Circle\"},{\"attributes\":{\"data_source\":{\"id\":\"4263\"},\"glyph\":{\"id\":\"4264\"},\"hover_glyph\":null,\"muted_glyph\":null,\"nonselection_glyph\":{\"id\":\"4265\"},\"selection_glyph\":null,\"view\":{\"id\":\"4267\"}},\"id\":\"4266\",\"type\":\"GlyphRenderer\"},{\"attributes\":{\"fill_alpha\":{\"value\":0.1},\"fill_color\":{\"value\":\"seagreen\"},\"line_alpha\":{\"value\":0.1},\"line_color\":{\"value\":\"seagreen\"},\"x\":{\"field\":\"x\"},\"y\":{\"field\":\"y\"}},\"id\":\"4265\",\"type\":\"Circle\"},{\"attributes\":{},\"id\":\"4417\",\"type\":\"BasicTickFormatter\"},{\"attributes\":{},\"id\":\"4249\",\"type\":\"PanTool\"},{\"attributes\":{},\"id\":\"4419\",\"type\":\"BasicTickFormatter\"},{\"attributes\":{},\"id\":\"4252\",\"type\":\"SaveTool\"},{\"attributes\":{\"active_drag\":\"auto\",\"active_inspect\":\"auto\",\"active_multi\":null,\"active_scroll\":\"auto\",\"active_tap\":\"auto\",\"tools\":[{\"id\":\"4249\"},{\"id\":\"4250\"},{\"id\":\"4251\"},{\"id\":\"4252\"},{\"id\":\"4253\"},{\"id\":\"4254\"}]},\"id\":\"4256\",\"type\":\"Toolbar\"},{\"attributes\":{\"overlay\":{\"id\":\"4255\"}},\"id\":\"4251\",\"type\":\"BoxZoomTool\"},{\"attributes\":{},\"id\":\"4421\",\"type\":\"UnionRenderers\"},{\"attributes\":{},\"id\":\"4250\",\"type\":\"WheelZoomTool\"},{\"attributes\":{},\"id\":\"4422\",\"type\":\"Selection\"},{\"attributes\":{},\"id\":\"4246\",\"type\":\"BasicTicker\"},{\"attributes\":{},\"id\":\"4254\",\"type\":\"HelpTool\"},{\"attributes\":{},\"id\":\"4242\",\"type\":\"BasicTicker\"}],\"root_ids\":[\"4232\"]},\"title\":\"Bokeh Application\",\"version\":\"2.2.1\"}};\n",
       "  var render_items = [{\"docid\":\"758aefdc-ebf6-4298-9e50-cb6e9d1f4bcc\",\"root_ids\":[\"4232\"],\"roots\":{\"4232\":\"0b4ca2e3-2deb-4dae-b022-f0c6a7ca23ce\"}}];\n",
       "  root.Bokeh.embed.embed_items_notebook(docs_json, render_items);\n",
       "\n",
       "  }\n",
       "  if (root.Bokeh !== undefined) {\n",
       "    embed_document(root);\n",
       "  } else {\n",
       "    var attempts = 0;\n",
       "    var timer = setInterval(function(root) {\n",
       "      if (root.Bokeh !== undefined) {\n",
       "        clearInterval(timer);\n",
       "        embed_document(root);\n",
       "      } else {\n",
       "        attempts++;\n",
       "        if (attempts > 100) {\n",
       "          clearInterval(timer);\n",
       "          console.log(\"Bokeh: ERROR: Unable to run BokehJS code because BokehJS library is missing\");\n",
       "        }\n",
       "      }\n",
       "    }, 10, root)\n",
       "  }\n",
       "})(window);"
      ],
      "application/vnd.bokehjs_exec.v0+json": ""
     },
     "metadata": {
      "application/vnd.bokehjs_exec.v0+json": {
       "id": "4232"
      }
     },
     "output_type": "display_data"
    }
   ],
   "source": [
    "p2 = figure(width=300, height=300)\n",
    "p2.circle(y, z, color=\"seagreen\")\n",
    "show(p2)"
   ]
  },
  {
   "cell_type": "markdown",
   "metadata": {},
   "source": [
    "Third plot"
   ]
  },
  {
   "cell_type": "code",
   "execution_count": 43,
   "metadata": {
    "ExecuteTime": {
     "end_time": "2020-09-24T05:48:36.552204Z",
     "start_time": "2020-09-24T05:48:36.388322Z"
    }
   },
   "outputs": [
    {
     "data": {
      "text/html": [
       "\n",
       "\n",
       "\n",
       "\n",
       "\n",
       "\n",
       "  <div class=\"bk-root\" id=\"e75e2ba3-b3ef-4c2b-92be-d61727e8d2e5\" data-root-id=\"4468\"></div>\n"
      ]
     },
     "metadata": {},
     "output_type": "display_data"
    },
    {
     "data": {
      "application/javascript": [
       "(function(root) {\n",
       "  function embed_document(root) {\n",
       "    \n",
       "  var docs_json = {\"0ae25df1-094a-4f73-8a4c-722d05b7441d\":{\"roots\":{\"references\":[{\"attributes\":{\"below\":[{\"id\":\"4477\"}],\"center\":[{\"id\":\"4480\"},{\"id\":\"4484\"}],\"left\":[{\"id\":\"4481\"}],\"plot_height\":300,\"plot_width\":300,\"renderers\":[{\"id\":\"4502\"}],\"title\":{\"id\":\"4660\"},\"toolbar\":{\"id\":\"4492\"},\"x_range\":{\"id\":\"4469\"},\"x_scale\":{\"id\":\"4473\"},\"y_range\":{\"id\":\"4471\"},\"y_scale\":{\"id\":\"4475\"}},\"id\":\"4468\",\"subtype\":\"Figure\",\"type\":\"Plot\"},{\"attributes\":{\"formatter\":{\"id\":\"4664\"},\"ticker\":{\"id\":\"4478\"}},\"id\":\"4477\",\"type\":\"LinearAxis\"},{\"attributes\":{\"bottom_units\":\"screen\",\"fill_alpha\":0.5,\"fill_color\":\"lightgrey\",\"left_units\":\"screen\",\"level\":\"overlay\",\"line_alpha\":1.0,\"line_color\":\"black\",\"line_dash\":[4,4],\"line_width\":2,\"right_units\":\"screen\",\"top_units\":\"screen\"},\"id\":\"4491\",\"type\":\"BoxAnnotation\"},{\"attributes\":{\"axis\":{\"id\":\"4477\"},\"ticker\":null},\"id\":\"4480\",\"type\":\"Grid\"},{\"attributes\":{},\"id\":\"4475\",\"type\":\"LinearScale\"},{\"attributes\":{},\"id\":\"4478\",\"type\":\"BasicTicker\"},{\"attributes\":{},\"id\":\"4473\",\"type\":\"LinearScale\"},{\"attributes\":{\"data_source\":{\"id\":\"4499\"},\"glyph\":{\"id\":\"4500\"},\"hover_glyph\":null,\"muted_glyph\":null,\"nonselection_glyph\":{\"id\":\"4501\"},\"selection_glyph\":null,\"view\":{\"id\":\"4503\"}},\"id\":\"4502\",\"type\":\"GlyphRenderer\"},{\"attributes\":{\"source\":{\"id\":\"4499\"}},\"id\":\"4503\",\"type\":\"CDSView\"},{\"attributes\":{},\"id\":\"4471\",\"type\":\"DataRange1d\"},{\"attributes\":{},\"id\":\"4469\",\"type\":\"DataRange1d\"},{\"attributes\":{},\"id\":\"4664\",\"type\":\"BasicTickFormatter\"},{\"attributes\":{\"line_alpha\":0.1,\"line_color\":\"hotpink\",\"line_width\":2,\"x\":{\"field\":\"x\"},\"y\":{\"field\":\"y\"}},\"id\":\"4501\",\"type\":\"Line\"},{\"attributes\":{},\"id\":\"4666\",\"type\":\"UnionRenderers\"},{\"attributes\":{\"formatter\":{\"id\":\"4662\"},\"ticker\":{\"id\":\"4482\"}},\"id\":\"4481\",\"type\":\"LinearAxis\"},{\"attributes\":{\"data\":{\"x\":{\"__ndarray__\":\"AAAAAAAAAAAxb2dIzNu5PzFvZ0jM28k/ZZNNNtlk0z8xb2dIzNvZP3+lQK1fKeA/ZZNNNtlk4z9LgVq/UqDmPzFvZ0jM2+k/F1100UUX7T9/pUCtXynwP3Icx3Ecx/E/ZZNNNtlk8z9YCtT6lQL1P0uBWr9SoPY/Pvjggw8++D8xb2dIzNv5PyTm7QyJefs/F1100UUX/T8K1PqVArX+P3+lQK1fKQBA+OCDDz74AEByHMdxHMcBQOtXCtT6lQJAZZNNNtlkA0DezpCYtzMEQFgK1PqVAgVA0UUXXXTRBUBLgVq/UqAGQMS8nSExbwdAPvjggw8+CEC3MyTm7QwJQDFvZ0jM2wlAq6qqqqqqCkAk5u0MiXkLQJ4hMW9nSAxAF1100UUXDUCRmLczJOYNQArU+pUCtQ5AhA8++OCDD0B/pUCtXykQQDtDYt7OkBBA+OCDDz74EEC1fqVArV8RQHIcx3EcxxFALrrooosuEkDrVwrU+pUSQKj1KwVq/RJAZZNNNtlkE0AiMW9nSMwTQN7OkJi3MxRAm2yyySabFEBYCtT6lQIVQBWo9SsFahVA0UUXXXTRFUCO4ziO4zgWQEuBWr9SoBZACB988MEHF0DEvJ0hMW8XQIFav1Kg1hdAPvjggw8+GED7lQK1fqUYQLczJObtDBlAdNFFF110GUAxb2dIzNsZQO4MiXk7QxpAq6qqqqqqGkBnSMzbGRIbQCTm7QyJeRtA4YMPPvjgG0CeITFvZ0gcQFq/UqDWrxxAF1100UUXHUDU+pUCtX4dQJGYtzMk5h1ATTbZZJNNHkAK1PqVArUeQMdxHMdxHB9AhA8++OCDH0BArV8pUOsfQH+lQK1fKSBAXXTRRRddIEA7Q2LezpAgQBoS83aGxCBA+OCDDz74IEDXrxSo9SshQLV+pUCtXyFAk0022WSTIUByHMdxHMchQFDrVwrU+iFALrrooosuIkANiXk7Q2IiQOtXCtT6lSJAyiabbLLJIkCo9SsFav0iQIbEvJ0hMSNAZZNNNtlkI0BDYt7OkJgjQCIxb2dIzCNAAAAAAAAAJEA=\",\"dtype\":\"float64\",\"order\":\"little\",\"shape\":[100]},\"y\":{\"__ndarray__\":\"AuAcEixzwL9e5Ung8A3qP+O1yo1wKABA9EGOiBq0BEAsCeBJLicHQNL6hDf8Zfs/rluisaYABUBsAwRdA48GQGm3Bxv0KwtAkCRlpc7zEUAiOoEDQ8MLQPTB6TTAQRJAPdaVG9I3GEBxSe0h/hcXQFFZlH9geRBAMEilMB5OGUCxCD7qG2McQMKLQhewwR5AAWp6FPswH0CADD/ykx8dQIBL9h8T6BpAEorbSXzXG0BUuPlJiYUcQAyjhBmjghtALWI07qNQGED0mNVFwVEZQLaoPcxZGhVAjuRPK8ToDUALdoJN5TUDQEBL9Yw2weo/+isIH14e+D9sg3nBTyfqP8f8BU7ccvo/5sUKP4rKAEDfXbpFuzoPQGjNBtSlyhJAWlTflpwoFkAWyyPyJTUUQMSvDWxtrgpAYfkQdNInEEBAXvW5AxgVQB8g7cJEuxNAGmc3VNfsEUBdltfPQ58QQMKIa0JfKgxABV0X/GgRE0CMoIzhMcYSQOjmMQ6FHRZAllt8wvLBF0CeXdpUM4oUQOh/NVAueBxArf6e5sr3G0CahDhZpSYZQKLIQ0wtLh9AuXLBR6MWIUACsygui48gQHNMHqqRcB1ASKFkSCbhF0BR33Cu5ksUQJ82AUZFVBZA6GcnHgITE0CzsQZTP30XQJKWV6wSHBZAxwub2YnRGUCXgrT45MgWQB0zwze2txdAcv19FI5xGEAd3cDI1TIYQGfn62cahxhAuUqWWhbqFkDrMpwIoKMWQOvNarPkaR5A/HrF/h64H0A9wwWpgdYiQFMEv/dM4SVA+rHqY5U1J0D2y2GYKd4pQNh28d2HCStAsYfWYddNK0DglFZKxgErQLaHzVXL4ClAuqe3eUNfKEBT5eXz43IsQG/JoS7DqyxAe5RG+3H+LEAGPqZ9fRYvQAdPv9m3jClAoNN7y4J0KkCx8mmnKDArQMJbRykAmitAKGsZsu+lKkAyvQ4PGQoqQLWTpJwKbCxAvQeyioV6L0C8dVfDhYgwQO4vZdvK0TBAMKCpQicHMUBBcmTtbeowQKfiXX1BxS9A40tUiyRMMEA=\",\"dtype\":\"float64\",\"order\":\"little\",\"shape\":[100]}},\"selected\":{\"id\":\"4667\"},\"selection_policy\":{\"id\":\"4666\"}},\"id\":\"4499\",\"type\":\"ColumnDataSource\"},{\"attributes\":{},\"id\":\"4667\",\"type\":\"Selection\"},{\"attributes\":{\"active_drag\":\"auto\",\"active_inspect\":\"auto\",\"active_multi\":null,\"active_scroll\":\"auto\",\"active_tap\":\"auto\",\"tools\":[{\"id\":\"4485\"},{\"id\":\"4486\"},{\"id\":\"4487\"},{\"id\":\"4488\"},{\"id\":\"4489\"},{\"id\":\"4490\"}]},\"id\":\"4492\",\"type\":\"Toolbar\"},{\"attributes\":{\"axis\":{\"id\":\"4481\"},\"dimension\":1,\"ticker\":null},\"id\":\"4484\",\"type\":\"Grid\"},{\"attributes\":{},\"id\":\"4482\",\"type\":\"BasicTicker\"},{\"attributes\":{\"line_color\":\"hotpink\",\"line_width\":2,\"x\":{\"field\":\"x\"},\"y\":{\"field\":\"y\"}},\"id\":\"4500\",\"type\":\"Line\"},{\"attributes\":{},\"id\":\"4486\",\"type\":\"WheelZoomTool\"},{\"attributes\":{},\"id\":\"4485\",\"type\":\"PanTool\"},{\"attributes\":{},\"id\":\"4662\",\"type\":\"BasicTickFormatter\"},{\"attributes\":{\"text\":\"\"},\"id\":\"4660\",\"type\":\"Title\"},{\"attributes\":{\"overlay\":{\"id\":\"4491\"}},\"id\":\"4487\",\"type\":\"BoxZoomTool\"},{\"attributes\":{},\"id\":\"4488\",\"type\":\"SaveTool\"},{\"attributes\":{},\"id\":\"4490\",\"type\":\"HelpTool\"},{\"attributes\":{},\"id\":\"4489\",\"type\":\"ResetTool\"}],\"root_ids\":[\"4468\"]},\"title\":\"Bokeh Application\",\"version\":\"2.2.1\"}};\n",
       "  var render_items = [{\"docid\":\"0ae25df1-094a-4f73-8a4c-722d05b7441d\",\"root_ids\":[\"4468\"],\"roots\":{\"4468\":\"e75e2ba3-b3ef-4c2b-92be-d61727e8d2e5\"}}];\n",
       "  root.Bokeh.embed.embed_items_notebook(docs_json, render_items);\n",
       "\n",
       "  }\n",
       "  if (root.Bokeh !== undefined) {\n",
       "    embed_document(root);\n",
       "  } else {\n",
       "    var attempts = 0;\n",
       "    var timer = setInterval(function(root) {\n",
       "      if (root.Bokeh !== undefined) {\n",
       "        clearInterval(timer);\n",
       "        embed_document(root);\n",
       "      } else {\n",
       "        attempts++;\n",
       "        if (attempts > 100) {\n",
       "          clearInterval(timer);\n",
       "          console.log(\"Bokeh: ERROR: Unable to run BokehJS code because BokehJS library is missing\");\n",
       "        }\n",
       "      }\n",
       "    }, 10, root)\n",
       "  }\n",
       "})(window);"
      ],
      "application/vnd.bokehjs_exec.v0+json": ""
     },
     "metadata": {
      "application/vnd.bokehjs_exec.v0+json": {
       "id": "4468"
      }
     },
     "output_type": "display_data"
    }
   ],
   "source": [
    "p3 = figure(width=300, height=300)\n",
    "p3.line(x, z, color=\"hotpink\", line_width=2)\n",
    "show(p3)"
   ]
  },
  {
   "cell_type": "markdown",
   "metadata": {},
   "source": [
    "Now, we can combine them:"
   ]
  },
  {
   "cell_type": "code",
   "execution_count": 44,
   "metadata": {
    "ExecuteTime": {
     "end_time": "2020-09-24T05:48:36.726521Z",
     "start_time": "2020-09-24T05:48:36.553839Z"
    }
   },
   "outputs": [
    {
     "data": {
      "text/html": [
       "\n",
       "\n",
       "\n",
       "\n",
       "\n",
       "\n",
       "  <div class=\"bk-root\" id=\"6856d84b-488f-434c-8644-8c204e3a41b4\" data-root-id=\"4746\"></div>\n"
      ]
     },
     "metadata": {},
     "output_type": "display_data"
    },
    {
     "data": {
      "application/javascript": [
       "(function(root) {\n",
       "  function embed_document(root) {\n",
       "    \n",
       "  var docs_json = {\"c64dcc58-c6b8-444d-8e2a-d171c2c86b90\":{\"roots\":{\"references\":[{\"attributes\":{\"children\":[{\"id\":\"4745\"},{\"id\":\"4743\"}]},\"id\":\"4746\",\"type\":\"Column\"},{\"attributes\":{\"bottom_units\":\"screen\",\"fill_alpha\":0.5,\"fill_color\":\"lightgrey\",\"left_units\":\"screen\",\"level\":\"overlay\",\"line_alpha\":1.0,\"line_color\":\"black\",\"line_dash\":[4,4],\"line_width\":2,\"right_units\":\"screen\",\"top_units\":\"screen\"},\"id\":\"4491\",\"type\":\"BoxAnnotation\"},{\"attributes\":{},\"id\":\"4006\",\"type\":\"DataRange1d\"},{\"attributes\":{\"axis\":{\"id\":\"4477\"},\"ticker\":null},\"id\":\"4480\",\"type\":\"Grid\"},{\"attributes\":{},\"id\":\"4010\",\"type\":\"LinearScale\"},{\"attributes\":{},\"id\":\"4478\",\"type\":\"BasicTicker\"},{\"attributes\":{},\"id\":\"4012\",\"type\":\"LinearScale\"},{\"attributes\":{\"data_source\":{\"id\":\"4499\"},\"glyph\":{\"id\":\"4500\"},\"hover_glyph\":null,\"muted_glyph\":null,\"nonselection_glyph\":{\"id\":\"4501\"},\"selection_glyph\":null,\"view\":{\"id\":\"4503\"}},\"id\":\"4502\",\"type\":\"GlyphRenderer\"},{\"attributes\":{\"source\":{\"id\":\"4499\"}},\"id\":\"4503\",\"type\":\"CDSView\"},{\"attributes\":{\"fill_alpha\":{\"value\":0.1},\"fill_color\":{\"value\":\"maroon\"},\"line_alpha\":{\"value\":0.1},\"line_color\":{\"value\":\"maroon\"},\"x\":{\"field\":\"x\"},\"y\":{\"field\":\"y\"}},\"id\":\"4038\",\"type\":\"Circle\"},{\"attributes\":{},\"id\":\"4664\",\"type\":\"BasicTickFormatter\"},{\"attributes\":{\"overlay\":{\"id\":\"4028\"}},\"id\":\"4024\",\"type\":\"BoxZoomTool\"},{\"attributes\":{},\"id\":\"4666\",\"type\":\"UnionRenderers\"},{\"attributes\":{\"formatter\":{\"id\":\"4662\"},\"ticker\":{\"id\":\"4482\"}},\"id\":\"4481\",\"type\":\"LinearAxis\"},{\"attributes\":{},\"id\":\"4667\",\"type\":\"Selection\"},{\"attributes\":{\"bottom_units\":\"screen\",\"fill_alpha\":0.5,\"fill_color\":\"lightgrey\",\"left_units\":\"screen\",\"level\":\"overlay\",\"line_alpha\":1.0,\"line_color\":\"black\",\"line_dash\":[4,4],\"line_width\":2,\"right_units\":\"screen\",\"top_units\":\"screen\"},\"id\":\"4255\",\"type\":\"BoxAnnotation\"},{\"attributes\":{\"children\":[[{\"id\":\"4005\"},0,0],[{\"id\":\"4232\"},0,1],[{\"id\":\"4468\"},1,0]]},\"id\":\"4743\",\"type\":\"GridBox\"},{\"attributes\":{\"source\":{\"id\":\"4263\"}},\"id\":\"4267\",\"type\":\"CDSView\"},{\"attributes\":{\"toolbar\":{\"id\":\"4744\"},\"toolbar_location\":\"above\"},\"id\":\"4745\",\"type\":\"ToolbarBox\"},{\"attributes\":{\"data_source\":{\"id\":\"4263\"},\"glyph\":{\"id\":\"4264\"},\"hover_glyph\":null,\"muted_glyph\":null,\"nonselection_glyph\":{\"id\":\"4265\"},\"selection_glyph\":null,\"view\":{\"id\":\"4267\"}},\"id\":\"4266\",\"type\":\"GlyphRenderer\"},{\"attributes\":{},\"id\":\"4417\",\"type\":\"BasicTickFormatter\"},{\"attributes\":{},\"id\":\"4419\",\"type\":\"BasicTickFormatter\"},{\"attributes\":{\"active_drag\":\"auto\",\"active_inspect\":\"auto\",\"active_multi\":null,\"active_scroll\":\"auto\",\"active_tap\":\"auto\",\"tools\":[{\"id\":\"4249\"},{\"id\":\"4250\"},{\"id\":\"4251\"},{\"id\":\"4252\"},{\"id\":\"4253\"},{\"id\":\"4254\"}]},\"id\":\"4256\",\"type\":\"Toolbar\"},{\"attributes\":{\"axis\":{\"id\":\"4018\"},\"dimension\":1,\"ticker\":null},\"id\":\"4021\",\"type\":\"Grid\"},{\"attributes\":{},\"id\":\"4421\",\"type\":\"UnionRenderers\"},{\"attributes\":{},\"id\":\"4422\",\"type\":\"Selection\"},{\"attributes\":{\"formatter\":{\"id\":\"4664\"},\"ticker\":{\"id\":\"4478\"}},\"id\":\"4477\",\"type\":\"LinearAxis\"},{\"attributes\":{},\"id\":\"4475\",\"type\":\"LinearScale\"},{\"attributes\":{},\"id\":\"4186\",\"type\":\"Selection\"},{\"attributes\":{},\"id\":\"4473\",\"type\":\"LinearScale\"},{\"attributes\":{},\"id\":\"4471\",\"type\":\"DataRange1d\"},{\"attributes\":{},\"id\":\"4469\",\"type\":\"DataRange1d\"},{\"attributes\":{\"line_alpha\":0.1,\"line_color\":\"hotpink\",\"line_width\":2,\"x\":{\"field\":\"x\"},\"y\":{\"field\":\"y\"}},\"id\":\"4501\",\"type\":\"Line\"},{\"attributes\":{\"below\":[{\"id\":\"4477\"}],\"center\":[{\"id\":\"4480\"},{\"id\":\"4484\"}],\"left\":[{\"id\":\"4481\"}],\"plot_height\":300,\"plot_width\":300,\"renderers\":[{\"id\":\"4502\"}],\"title\":{\"id\":\"4660\"},\"toolbar\":{\"id\":\"4492\"},\"toolbar_location\":null,\"x_range\":{\"id\":\"4469\"},\"x_scale\":{\"id\":\"4473\"},\"y_range\":{\"id\":\"4471\"},\"y_scale\":{\"id\":\"4475\"}},\"id\":\"4468\",\"subtype\":\"Figure\",\"type\":\"Plot\"},{\"attributes\":{\"data\":{\"x\":{\"__ndarray__\":\"AAAAAAAAAAAxb2dIzNu5PzFvZ0jM28k/ZZNNNtlk0z8xb2dIzNvZP3+lQK1fKeA/ZZNNNtlk4z9LgVq/UqDmPzFvZ0jM2+k/F1100UUX7T9/pUCtXynwP3Icx3Ecx/E/ZZNNNtlk8z9YCtT6lQL1P0uBWr9SoPY/Pvjggw8++D8xb2dIzNv5PyTm7QyJefs/F1100UUX/T8K1PqVArX+P3+lQK1fKQBA+OCDDz74AEByHMdxHMcBQOtXCtT6lQJAZZNNNtlkA0DezpCYtzMEQFgK1PqVAgVA0UUXXXTRBUBLgVq/UqAGQMS8nSExbwdAPvjggw8+CEC3MyTm7QwJQDFvZ0jM2wlAq6qqqqqqCkAk5u0MiXkLQJ4hMW9nSAxAF1100UUXDUCRmLczJOYNQArU+pUCtQ5AhA8++OCDD0B/pUCtXykQQDtDYt7OkBBA+OCDDz74EEC1fqVArV8RQHIcx3EcxxFALrrooosuEkDrVwrU+pUSQKj1KwVq/RJAZZNNNtlkE0AiMW9nSMwTQN7OkJi3MxRAm2yyySabFEBYCtT6lQIVQBWo9SsFahVA0UUXXXTRFUCO4ziO4zgWQEuBWr9SoBZACB988MEHF0DEvJ0hMW8XQIFav1Kg1hdAPvjggw8+GED7lQK1fqUYQLczJObtDBlAdNFFF110GUAxb2dIzNsZQO4MiXk7QxpAq6qqqqqqGkBnSMzbGRIbQCTm7QyJeRtA4YMPPvjgG0CeITFvZ0gcQFq/UqDWrxxAF1100UUXHUDU+pUCtX4dQJGYtzMk5h1ATTbZZJNNHkAK1PqVArUeQMdxHMdxHB9AhA8++OCDH0BArV8pUOsfQH+lQK1fKSBAXXTRRRddIEA7Q2LezpAgQBoS83aGxCBA+OCDDz74IEDXrxSo9SshQLV+pUCtXyFAk0022WSTIUByHMdxHMchQFDrVwrU+iFALrrooosuIkANiXk7Q2IiQOtXCtT6lSJAyiabbLLJIkCo9SsFav0iQIbEvJ0hMSNAZZNNNtlkI0BDYt7OkJgjQCIxb2dIzCNAAAAAAAAAJEA=\",\"dtype\":\"float64\",\"order\":\"little\",\"shape\":[100]},\"y\":{\"__ndarray__\":\"AuAcEixzwL9e5Ung8A3qP+O1yo1wKABA9EGOiBq0BEAsCeBJLicHQNL6hDf8Zfs/rluisaYABUBsAwRdA48GQGm3Bxv0KwtAkCRlpc7zEUAiOoEDQ8MLQPTB6TTAQRJAPdaVG9I3GEBxSe0h/hcXQFFZlH9geRBAMEilMB5OGUCxCD7qG2McQMKLQhewwR5AAWp6FPswH0CADD/ykx8dQIBL9h8T6BpAEorbSXzXG0BUuPlJiYUcQAyjhBmjghtALWI07qNQGED0mNVFwVEZQLaoPcxZGhVAjuRPK8ToDUALdoJN5TUDQEBL9Yw2weo/+isIH14e+D9sg3nBTyfqP8f8BU7ccvo/5sUKP4rKAEDfXbpFuzoPQGjNBtSlyhJAWlTflpwoFkAWyyPyJTUUQMSvDWxtrgpAYfkQdNInEEBAXvW5AxgVQB8g7cJEuxNAGmc3VNfsEUBdltfPQ58QQMKIa0JfKgxABV0X/GgRE0CMoIzhMcYSQOjmMQ6FHRZAllt8wvLBF0CeXdpUM4oUQOh/NVAueBxArf6e5sr3G0CahDhZpSYZQKLIQ0wtLh9AuXLBR6MWIUACsygui48gQHNMHqqRcB1ASKFkSCbhF0BR33Cu5ksUQJ82AUZFVBZA6GcnHgITE0CzsQZTP30XQJKWV6wSHBZAxwub2YnRGUCXgrT45MgWQB0zwze2txdAcv19FI5xGEAd3cDI1TIYQGfn62cahxhAuUqWWhbqFkDrMpwIoKMWQOvNarPkaR5A/HrF/h64H0A9wwWpgdYiQFMEv/dM4SVA+rHqY5U1J0D2y2GYKd4pQNh28d2HCStAsYfWYddNK0DglFZKxgErQLaHzVXL4ClAuqe3eUNfKEBT5eXz43IsQG/JoS7DqyxAe5RG+3H+LEAGPqZ9fRYvQAdPv9m3jClAoNN7y4J0KkCx8mmnKDArQMJbRykAmitAKGsZsu+lKkAyvQ4PGQoqQLWTpJwKbCxAvQeyioV6L0C8dVfDhYgwQO4vZdvK0TBAMKCpQicHMUBBcmTtbeowQKfiXX1BxS9A40tUiyRMMEA=\",\"dtype\":\"float64\",\"order\":\"little\",\"shape\":[100]}},\"selected\":{\"id\":\"4667\"},\"selection_policy\":{\"id\":\"4666\"}},\"id\":\"4499\",\"type\":\"ColumnDataSource\"},{\"attributes\":{\"active_drag\":\"auto\",\"active_inspect\":\"auto\",\"active_multi\":null,\"active_scroll\":\"auto\",\"active_tap\":\"auto\",\"tools\":[{\"id\":\"4485\"},{\"id\":\"4486\"},{\"id\":\"4487\"},{\"id\":\"4488\"},{\"id\":\"4489\"},{\"id\":\"4490\"}]},\"id\":\"4492\",\"type\":\"Toolbar\"},{\"attributes\":{\"axis\":{\"id\":\"4481\"},\"dimension\":1,\"ticker\":null},\"id\":\"4484\",\"type\":\"Grid\"},{\"attributes\":{\"text\":\"\"},\"id\":\"4415\",\"type\":\"Title\"},{\"attributes\":{},\"id\":\"4019\",\"type\":\"BasicTicker\"},{\"attributes\":{},\"id\":\"4482\",\"type\":\"BasicTicker\"},{\"attributes\":{\"formatter\":{\"id\":\"4181\"},\"ticker\":{\"id\":\"4019\"}},\"id\":\"4018\",\"type\":\"LinearAxis\"},{\"attributes\":{},\"id\":\"4022\",\"type\":\"PanTool\"},{\"attributes\":{\"line_color\":\"hotpink\",\"line_width\":2,\"x\":{\"field\":\"x\"},\"y\":{\"field\":\"y\"}},\"id\":\"4500\",\"type\":\"Line\"},{\"attributes\":{},\"id\":\"4486\",\"type\":\"WheelZoomTool\"},{\"attributes\":{\"fill_color\":{\"value\":\"maroon\"},\"line_color\":{\"value\":\"maroon\"},\"x\":{\"field\":\"x\"},\"y\":{\"field\":\"y\"}},\"id\":\"4037\",\"type\":\"Circle\"},{\"attributes\":{\"axis\":{\"id\":\"4014\"},\"ticker\":null},\"id\":\"4017\",\"type\":\"Grid\"},{\"attributes\":{},\"id\":\"4485\",\"type\":\"PanTool\"},{\"attributes\":{},\"id\":\"4662\",\"type\":\"BasicTickFormatter\"},{\"attributes\":{\"overlay\":{\"id\":\"4491\"}},\"id\":\"4487\",\"type\":\"BoxZoomTool\"},{\"attributes\":{\"text\":\"\"},\"id\":\"4660\",\"type\":\"Title\"},{\"attributes\":{\"text\":\"\"},\"id\":\"4179\",\"type\":\"Title\"},{\"attributes\":{},\"id\":\"4488\",\"type\":\"SaveTool\"},{\"attributes\":{\"data\":{\"x\":{\"__ndarray__\":\"AAAAAAAAAAAxb2dIzNu5PzFvZ0jM28k/ZZNNNtlk0z8xb2dIzNvZP3+lQK1fKeA/ZZNNNtlk4z9LgVq/UqDmPzFvZ0jM2+k/F1100UUX7T9/pUCtXynwP3Icx3Ecx/E/ZZNNNtlk8z9YCtT6lQL1P0uBWr9SoPY/Pvjggw8++D8xb2dIzNv5PyTm7QyJefs/F1100UUX/T8K1PqVArX+P3+lQK1fKQBA+OCDDz74AEByHMdxHMcBQOtXCtT6lQJAZZNNNtlkA0DezpCYtzMEQFgK1PqVAgVA0UUXXXTRBUBLgVq/UqAGQMS8nSExbwdAPvjggw8+CEC3MyTm7QwJQDFvZ0jM2wlAq6qqqqqqCkAk5u0MiXkLQJ4hMW9nSAxAF1100UUXDUCRmLczJOYNQArU+pUCtQ5AhA8++OCDD0B/pUCtXykQQDtDYt7OkBBA+OCDDz74EEC1fqVArV8RQHIcx3EcxxFALrrooosuEkDrVwrU+pUSQKj1KwVq/RJAZZNNNtlkE0AiMW9nSMwTQN7OkJi3MxRAm2yyySabFEBYCtT6lQIVQBWo9SsFahVA0UUXXXTRFUCO4ziO4zgWQEuBWr9SoBZACB988MEHF0DEvJ0hMW8XQIFav1Kg1hdAPvjggw8+GED7lQK1fqUYQLczJObtDBlAdNFFF110GUAxb2dIzNsZQO4MiXk7QxpAq6qqqqqqGkBnSMzbGRIbQCTm7QyJeRtA4YMPPvjgG0CeITFvZ0gcQFq/UqDWrxxAF1100UUXHUDU+pUCtX4dQJGYtzMk5h1ATTbZZJNNHkAK1PqVArUeQMdxHMdxHB9AhA8++OCDH0BArV8pUOsfQH+lQK1fKSBAXXTRRRddIEA7Q2LezpAgQBoS83aGxCBA+OCDDz74IEDXrxSo9SshQLV+pUCtXyFAk0022WSTIUByHMdxHMchQFDrVwrU+iFALrrooosuIkANiXk7Q2IiQOtXCtT6lSJAyiabbLLJIkCo9SsFav0iQIbEvJ0hMSNAZZNNNtlkI0BDYt7OkJgjQCIxb2dIzCNAAAAAAAAAJEA=\",\"dtype\":\"float64\",\"order\":\"little\",\"shape\":[100]},\"y\":{\"__ndarray__\":\"45Kv+3NE9T93DJmoo2jlv3YRIlgnQL2/YFW+YEsC5r/CiIlPOlblvxUeZsGQ4O2/nTIQkka68j+zCm4/cAvwP3s3nZu0L+q/4JX5tPkO8j/TiAMZwgX7PwjIeD7JAAhAFylopqdjAUDYHJKfnaz2P9/i/q/w2u0/Cn+uX0zsAkAgB79Ag44IQEGO45EDMwZA8dn3vmm9/z+SkZE/Q3kDQG42GVxR3eU/Qqp2Zvt4BUDfEdWDresMQIqb+7lIFAJAAJFbeQZeBECs3JEd49wNQEKC0VFo/gRAlBzIEZdrEUDEQ6UPU3YJQNrIN2sMvA9Ab2kRRy4oBUDJIC49hDUNQNQb0rn1rBNABqbUGRgPAEBipEIHDHQTQMBxKh7QIvc/YD1nyGYNDEAxkpQNwHkRQIPHmrfHAwpAh2N/AqPrEED+ORjK0DcVQNe5Hb/NuRFAqsppgVUtAkBcu51b4JYUQDj1+wdl5hVA6wk4TXqnEkCchREcmn8SQJqbRAhhLRNAwXJh2ALCCUCPu+1tgToSQP52hWKDARtAy3HmA/TZGEAdUz22FssXQJckS2KRqxNA5JQst4V8FEBVjb6EeaEYQE5TzR65DxdAXTVMK2gtF0DmdakbS0cVQBcqs8/I1RlARiA/ogVlFUB67DFTzrIXQD8DVZCeehxAoL/Z1dXsEUAgO9GYmYobQHqXQ5Nl/BVAnFzkl/ZbEEAEcCGHxysWQIQnr30F2RZAOau3EaCaH0DifCJFJBwgQBtqXXm2yyJAWhkkh7lqG0C3RSMy6ygcQKLzBCItTx1AX5mDai1GIkBbhgCaE7kgQCY69yidOh9ARhC/yPEaHEAAQkFkJOwjQERJQpBszRlAfgwktYHJH0AwC2u4zTwgQBk7WrSqFSJAm/e2DDS1HEAYKhv4GOEjQK6KF4jfHSFAHs6zZSZCH0DPMkmnjWMgQPv6pUrS4SFAnIDwOMkFIUBjWFTaRCAkQMCr3gItpSBAT9U1/nSiI0A9FhAyOvAmQIbheL8EziNAXu3WeHhkJUBFNyqlM1clQEPupX3gDyBAa5XdFiR2JkA=\",\"dtype\":\"float64\",\"order\":\"little\",\"shape\":[100]}},\"selected\":{\"id\":\"4186\"},\"selection_policy\":{\"id\":\"4185\"}},\"id\":\"4036\",\"type\":\"ColumnDataSource\"},{\"attributes\":{},\"id\":\"4183\",\"type\":\"BasicTickFormatter\"},{\"attributes\":{},\"id\":\"4185\",\"type\":\"UnionRenderers\"},{\"attributes\":{},\"id\":\"4490\",\"type\":\"HelpTool\"},{\"attributes\":{},\"id\":\"4489\",\"type\":\"ResetTool\"},{\"attributes\":{},\"id\":\"4015\",\"type\":\"BasicTicker\"},{\"attributes\":{\"below\":[{\"id\":\"4014\"}],\"center\":[{\"id\":\"4017\"},{\"id\":\"4021\"}],\"left\":[{\"id\":\"4018\"}],\"plot_height\":300,\"plot_width\":300,\"renderers\":[{\"id\":\"4039\"}],\"title\":{\"id\":\"4179\"},\"toolbar\":{\"id\":\"4029\"},\"toolbar_location\":null,\"x_range\":{\"id\":\"4006\"},\"x_scale\":{\"id\":\"4010\"},\"y_range\":{\"id\":\"4008\"},\"y_scale\":{\"id\":\"4012\"}},\"id\":\"4005\",\"subtype\":\"Figure\",\"type\":\"Plot\"},{\"attributes\":{},\"id\":\"4023\",\"type\":\"WheelZoomTool\"},{\"attributes\":{},\"id\":\"4008\",\"type\":\"DataRange1d\"},{\"attributes\":{},\"id\":\"4025\",\"type\":\"SaveTool\"},{\"attributes\":{},\"id\":\"4026\",\"type\":\"ResetTool\"},{\"attributes\":{},\"id\":\"4027\",\"type\":\"HelpTool\"},{\"attributes\":{},\"id\":\"4253\",\"type\":\"ResetTool\"},{\"attributes\":{\"active_drag\":\"auto\",\"active_inspect\":\"auto\",\"active_multi\":null,\"active_scroll\":\"auto\",\"active_tap\":\"auto\",\"tools\":[{\"id\":\"4022\"},{\"id\":\"4023\"},{\"id\":\"4024\"},{\"id\":\"4025\"},{\"id\":\"4026\"},{\"id\":\"4027\"}]},\"id\":\"4029\",\"type\":\"Toolbar\"},{\"attributes\":{\"formatter\":{\"id\":\"4183\"},\"ticker\":{\"id\":\"4015\"}},\"id\":\"4014\",\"type\":\"LinearAxis\"},{\"attributes\":{\"axis\":{\"id\":\"4245\"},\"dimension\":1,\"ticker\":null},\"id\":\"4248\",\"type\":\"Grid\"},{\"attributes\":{\"bottom_units\":\"screen\",\"fill_alpha\":0.5,\"fill_color\":\"lightgrey\",\"left_units\":\"screen\",\"level\":\"overlay\",\"line_alpha\":1.0,\"line_color\":\"black\",\"line_dash\":[4,4],\"line_width\":2,\"right_units\":\"screen\",\"top_units\":\"screen\"},\"id\":\"4028\",\"type\":\"BoxAnnotation\"},{\"attributes\":{\"source\":{\"id\":\"4036\"}},\"id\":\"4040\",\"type\":\"CDSView\"},{\"attributes\":{\"data_source\":{\"id\":\"4036\"},\"glyph\":{\"id\":\"4037\"},\"hover_glyph\":null,\"muted_glyph\":null,\"nonselection_glyph\":{\"id\":\"4038\"},\"selection_glyph\":null,\"view\":{\"id\":\"4040\"}},\"id\":\"4039\",\"type\":\"GlyphRenderer\"},{\"attributes\":{},\"id\":\"4181\",\"type\":\"BasicTickFormatter\"},{\"attributes\":{},\"id\":\"4246\",\"type\":\"BasicTicker\"},{\"attributes\":{},\"id\":\"4242\",\"type\":\"BasicTicker\"},{\"attributes\":{\"formatter\":{\"id\":\"4417\"},\"ticker\":{\"id\":\"4246\"}},\"id\":\"4245\",\"type\":\"LinearAxis\"},{\"attributes\":{\"axis\":{\"id\":\"4241\"},\"ticker\":null},\"id\":\"4244\",\"type\":\"Grid\"},{\"attributes\":{\"formatter\":{\"id\":\"4419\"},\"ticker\":{\"id\":\"4242\"}},\"id\":\"4241\",\"type\":\"LinearAxis\"},{\"attributes\":{},\"id\":\"4239\",\"type\":\"LinearScale\"},{\"attributes\":{},\"id\":\"4237\",\"type\":\"LinearScale\"},{\"attributes\":{},\"id\":\"4235\",\"type\":\"DataRange1d\"},{\"attributes\":{},\"id\":\"4233\",\"type\":\"DataRange1d\"},{\"attributes\":{\"toolbars\":[{\"id\":\"4029\"},{\"id\":\"4256\"},{\"id\":\"4492\"}],\"tools\":[{\"id\":\"4022\"},{\"id\":\"4023\"},{\"id\":\"4024\"},{\"id\":\"4025\"},{\"id\":\"4026\"},{\"id\":\"4027\"},{\"id\":\"4249\"},{\"id\":\"4250\"},{\"id\":\"4251\"},{\"id\":\"4252\"},{\"id\":\"4253\"},{\"id\":\"4254\"},{\"id\":\"4485\"},{\"id\":\"4486\"},{\"id\":\"4487\"},{\"id\":\"4488\"},{\"id\":\"4489\"},{\"id\":\"4490\"}]},\"id\":\"4744\",\"type\":\"ProxyToolbar\"},{\"attributes\":{\"below\":[{\"id\":\"4241\"}],\"center\":[{\"id\":\"4244\"},{\"id\":\"4248\"}],\"left\":[{\"id\":\"4245\"}],\"plot_height\":300,\"plot_width\":300,\"renderers\":[{\"id\":\"4266\"}],\"title\":{\"id\":\"4415\"},\"toolbar\":{\"id\":\"4256\"},\"toolbar_location\":null,\"x_range\":{\"id\":\"4233\"},\"x_scale\":{\"id\":\"4237\"},\"y_range\":{\"id\":\"4235\"},\"y_scale\":{\"id\":\"4239\"}},\"id\":\"4232\",\"subtype\":\"Figure\",\"type\":\"Plot\"},{\"attributes\":{\"data\":{\"x\":{\"__ndarray__\":\"45Kv+3NE9T93DJmoo2jlv3YRIlgnQL2/YFW+YEsC5r/CiIlPOlblvxUeZsGQ4O2/nTIQkka68j+zCm4/cAvwP3s3nZu0L+q/4JX5tPkO8j/TiAMZwgX7PwjIeD7JAAhAFylopqdjAUDYHJKfnaz2P9/i/q/w2u0/Cn+uX0zsAkAgB79Ag44IQEGO45EDMwZA8dn3vmm9/z+SkZE/Q3kDQG42GVxR3eU/Qqp2Zvt4BUDfEdWDresMQIqb+7lIFAJAAJFbeQZeBECs3JEd49wNQEKC0VFo/gRAlBzIEZdrEUDEQ6UPU3YJQNrIN2sMvA9Ab2kRRy4oBUDJIC49hDUNQNQb0rn1rBNABqbUGRgPAEBipEIHDHQTQMBxKh7QIvc/YD1nyGYNDEAxkpQNwHkRQIPHmrfHAwpAh2N/AqPrEED+ORjK0DcVQNe5Hb/NuRFAqsppgVUtAkBcu51b4JYUQDj1+wdl5hVA6wk4TXqnEkCchREcmn8SQJqbRAhhLRNAwXJh2ALCCUCPu+1tgToSQP52hWKDARtAy3HmA/TZGEAdUz22FssXQJckS2KRqxNA5JQst4V8FEBVjb6EeaEYQE5TzR65DxdAXTVMK2gtF0DmdakbS0cVQBcqs8/I1RlARiA/ogVlFUB67DFTzrIXQD8DVZCeehxAoL/Z1dXsEUAgO9GYmYobQHqXQ5Nl/BVAnFzkl/ZbEEAEcCGHxysWQIQnr30F2RZAOau3EaCaH0DifCJFJBwgQBtqXXm2yyJAWhkkh7lqG0C3RSMy6ygcQKLzBCItTx1AX5mDai1GIkBbhgCaE7kgQCY69yidOh9ARhC/yPEaHEAAQkFkJOwjQERJQpBszRlAfgwktYHJH0AwC2u4zTwgQBk7WrSqFSJAm/e2DDS1HEAYKhv4GOEjQK6KF4jfHSFAHs6zZSZCH0DPMkmnjWMgQPv6pUrS4SFAnIDwOMkFIUBjWFTaRCAkQMCr3gItpSBAT9U1/nSiI0A9FhAyOvAmQIbheL8EziNAXu3WeHhkJUBFNyqlM1clQEPupX3gDyBAa5XdFiR2JkA=\",\"dtype\":\"float64\",\"order\":\"little\",\"shape\":[100]},\"y\":{\"__ndarray__\":\"AuAcEixzwL9e5Ung8A3qP+O1yo1wKABA9EGOiBq0BEAsCeBJLicHQNL6hDf8Zfs/rluisaYABUBsAwRdA48GQGm3Bxv0KwtAkCRlpc7zEUAiOoEDQ8MLQPTB6TTAQRJAPdaVG9I3GEBxSe0h/hcXQFFZlH9geRBAMEilMB5OGUCxCD7qG2McQMKLQhewwR5AAWp6FPswH0CADD/ykx8dQIBL9h8T6BpAEorbSXzXG0BUuPlJiYUcQAyjhBmjghtALWI07qNQGED0mNVFwVEZQLaoPcxZGhVAjuRPK8ToDUALdoJN5TUDQEBL9Yw2weo/+isIH14e+D9sg3nBTyfqP8f8BU7ccvo/5sUKP4rKAEDfXbpFuzoPQGjNBtSlyhJAWlTflpwoFkAWyyPyJTUUQMSvDWxtrgpAYfkQdNInEEBAXvW5AxgVQB8g7cJEuxNAGmc3VNfsEUBdltfPQ58QQMKIa0JfKgxABV0X/GgRE0CMoIzhMcYSQOjmMQ6FHRZAllt8wvLBF0CeXdpUM4oUQOh/NVAueBxArf6e5sr3G0CahDhZpSYZQKLIQ0wtLh9AuXLBR6MWIUACsygui48gQHNMHqqRcB1ASKFkSCbhF0BR33Cu5ksUQJ82AUZFVBZA6GcnHgITE0CzsQZTP30XQJKWV6wSHBZAxwub2YnRGUCXgrT45MgWQB0zwze2txdAcv19FI5xGEAd3cDI1TIYQGfn62cahxhAuUqWWhbqFkDrMpwIoKMWQOvNarPkaR5A/HrF/h64H0A9wwWpgdYiQFMEv/dM4SVA+rHqY5U1J0D2y2GYKd4pQNh28d2HCStAsYfWYddNK0DglFZKxgErQLaHzVXL4ClAuqe3eUNfKEBT5eXz43IsQG/JoS7DqyxAe5RG+3H+LEAGPqZ9fRYvQAdPv9m3jClAoNN7y4J0KkCx8mmnKDArQMJbRykAmitAKGsZsu+lKkAyvQ4PGQoqQLWTpJwKbCxAvQeyioV6L0C8dVfDhYgwQO4vZdvK0TBAMKCpQicHMUBBcmTtbeowQKfiXX1BxS9A40tUiyRMMEA=\",\"dtype\":\"float64\",\"order\":\"little\",\"shape\":[100]}},\"selected\":{\"id\":\"4422\"},\"selection_policy\":{\"id\":\"4421\"}},\"id\":\"4263\",\"type\":\"ColumnDataSource\"},{\"attributes\":{\"fill_color\":{\"value\":\"seagreen\"},\"line_color\":{\"value\":\"seagreen\"},\"x\":{\"field\":\"x\"},\"y\":{\"field\":\"y\"}},\"id\":\"4264\",\"type\":\"Circle\"},{\"attributes\":{\"fill_alpha\":{\"value\":0.1},\"fill_color\":{\"value\":\"seagreen\"},\"line_alpha\":{\"value\":0.1},\"line_color\":{\"value\":\"seagreen\"},\"x\":{\"field\":\"x\"},\"y\":{\"field\":\"y\"}},\"id\":\"4265\",\"type\":\"Circle\"},{\"attributes\":{},\"id\":\"4249\",\"type\":\"PanTool\"},{\"attributes\":{},\"id\":\"4252\",\"type\":\"SaveTool\"},{\"attributes\":{\"overlay\":{\"id\":\"4255\"}},\"id\":\"4251\",\"type\":\"BoxZoomTool\"},{\"attributes\":{},\"id\":\"4250\",\"type\":\"WheelZoomTool\"},{\"attributes\":{},\"id\":\"4254\",\"type\":\"HelpTool\"}],\"root_ids\":[\"4746\"]},\"title\":\"Bokeh Application\",\"version\":\"2.2.1\"}};\n",
       "  var render_items = [{\"docid\":\"c64dcc58-c6b8-444d-8e2a-d171c2c86b90\",\"root_ids\":[\"4746\"],\"roots\":{\"4746\":\"6856d84b-488f-434c-8644-8c204e3a41b4\"}}];\n",
       "  root.Bokeh.embed.embed_items_notebook(docs_json, render_items);\n",
       "\n",
       "  }\n",
       "  if (root.Bokeh !== undefined) {\n",
       "    embed_document(root);\n",
       "  } else {\n",
       "    var attempts = 0;\n",
       "    var timer = setInterval(function(root) {\n",
       "      if (root.Bokeh !== undefined) {\n",
       "        clearInterval(timer);\n",
       "        embed_document(root);\n",
       "      } else {\n",
       "        attempts++;\n",
       "        if (attempts > 100) {\n",
       "          clearInterval(timer);\n",
       "          console.log(\"Bokeh: ERROR: Unable to run BokehJS code because BokehJS library is missing\");\n",
       "        }\n",
       "      }\n",
       "    }, 10, root)\n",
       "  }\n",
       "})(window);"
      ],
      "application/vnd.bokehjs_exec.v0+json": ""
     },
     "metadata": {
      "application/vnd.bokehjs_exec.v0+json": {
       "id": "4746"
      }
     },
     "output_type": "display_data"
    }
   ],
   "source": [
    "p = gridplot([[p1, p2], [p3, None]])\n",
    "show(p)"
   ]
  },
  {
   "cell_type": "markdown",
   "metadata": {},
   "source": [
    "Now we have three plots at the same time and we can use the toolbar for each plot to zoom in and out or move around. Since, these plots are sharing data maybe we need all of them to move at the same time. In other words, if we move to higher values of `y` in the first plot, the second plot should show the same range of `y`. We can do this by linking the plots."
   ]
  },
  {
   "cell_type": "code",
   "execution_count": 45,
   "metadata": {
    "ExecuteTime": {
     "end_time": "2020-09-24T05:48:36.954268Z",
     "start_time": "2020-09-24T05:48:36.728567Z"
    }
   },
   "outputs": [
    {
     "data": {
      "text/html": [
       "\n",
       "\n",
       "\n",
       "\n",
       "\n",
       "\n",
       "  <div class=\"bk-root\" id=\"20f52115-ecc3-4d0d-8e95-f56147dfcb12\" data-root-id=\"5211\"></div>\n"
      ]
     },
     "metadata": {},
     "output_type": "display_data"
    },
    {
     "data": {
      "application/javascript": [
       "(function(root) {\n",
       "  function embed_document(root) {\n",
       "    \n",
       "  var docs_json = {\"23177b8f-a234-49a6-81e6-3cfd3843da64\":{\"roots\":{\"references\":[{\"attributes\":{\"children\":[{\"id\":\"5210\"},{\"id\":\"5208\"}]},\"id\":\"5211\",\"type\":\"Column\"},{\"attributes\":{\"source\":{\"id\":\"5104\"}},\"id\":\"5108\",\"type\":\"CDSView\"},{\"attributes\":{\"data\":{\"x\":{\"__ndarray__\":\"45Kv+3NE9T93DJmoo2jlv3YRIlgnQL2/YFW+YEsC5r/CiIlPOlblvxUeZsGQ4O2/nTIQkka68j+zCm4/cAvwP3s3nZu0L+q/4JX5tPkO8j/TiAMZwgX7PwjIeD7JAAhAFylopqdjAUDYHJKfnaz2P9/i/q/w2u0/Cn+uX0zsAkAgB79Ag44IQEGO45EDMwZA8dn3vmm9/z+SkZE/Q3kDQG42GVxR3eU/Qqp2Zvt4BUDfEdWDresMQIqb+7lIFAJAAJFbeQZeBECs3JEd49wNQEKC0VFo/gRAlBzIEZdrEUDEQ6UPU3YJQNrIN2sMvA9Ab2kRRy4oBUDJIC49hDUNQNQb0rn1rBNABqbUGRgPAEBipEIHDHQTQMBxKh7QIvc/YD1nyGYNDEAxkpQNwHkRQIPHmrfHAwpAh2N/AqPrEED+ORjK0DcVQNe5Hb/NuRFAqsppgVUtAkBcu51b4JYUQDj1+wdl5hVA6wk4TXqnEkCchREcmn8SQJqbRAhhLRNAwXJh2ALCCUCPu+1tgToSQP52hWKDARtAy3HmA/TZGEAdUz22FssXQJckS2KRqxNA5JQst4V8FEBVjb6EeaEYQE5TzR65DxdAXTVMK2gtF0DmdakbS0cVQBcqs8/I1RlARiA/ogVlFUB67DFTzrIXQD8DVZCeehxAoL/Z1dXsEUAgO9GYmYobQHqXQ5Nl/BVAnFzkl/ZbEEAEcCGHxysWQIQnr30F2RZAOau3EaCaH0DifCJFJBwgQBtqXXm2yyJAWhkkh7lqG0C3RSMy6ygcQKLzBCItTx1AX5mDai1GIkBbhgCaE7kgQCY69yidOh9ARhC/yPEaHEAAQkFkJOwjQERJQpBszRlAfgwktYHJH0AwC2u4zTwgQBk7WrSqFSJAm/e2DDS1HEAYKhv4GOEjQK6KF4jfHSFAHs6zZSZCH0DPMkmnjWMgQPv6pUrS4SFAnIDwOMkFIUBjWFTaRCAkQMCr3gItpSBAT9U1/nSiI0A9FhAyOvAmQIbheL8EziNAXu3WeHhkJUBFNyqlM1clQEPupX3gDyBAa5XdFiR2JkA=\",\"dtype\":\"float64\",\"order\":\"little\",\"shape\":[100]},\"y\":{\"__ndarray__\":\"AuAcEixzwL9e5Ung8A3qP+O1yo1wKABA9EGOiBq0BEAsCeBJLicHQNL6hDf8Zfs/rluisaYABUBsAwRdA48GQGm3Bxv0KwtAkCRlpc7zEUAiOoEDQ8MLQPTB6TTAQRJAPdaVG9I3GEBxSe0h/hcXQFFZlH9geRBAMEilMB5OGUCxCD7qG2McQMKLQhewwR5AAWp6FPswH0CADD/ykx8dQIBL9h8T6BpAEorbSXzXG0BUuPlJiYUcQAyjhBmjghtALWI07qNQGED0mNVFwVEZQLaoPcxZGhVAjuRPK8ToDUALdoJN5TUDQEBL9Yw2weo/+isIH14e+D9sg3nBTyfqP8f8BU7ccvo/5sUKP4rKAEDfXbpFuzoPQGjNBtSlyhJAWlTflpwoFkAWyyPyJTUUQMSvDWxtrgpAYfkQdNInEEBAXvW5AxgVQB8g7cJEuxNAGmc3VNfsEUBdltfPQ58QQMKIa0JfKgxABV0X/GgRE0CMoIzhMcYSQOjmMQ6FHRZAllt8wvLBF0CeXdpUM4oUQOh/NVAueBxArf6e5sr3G0CahDhZpSYZQKLIQ0wtLh9AuXLBR6MWIUACsygui48gQHNMHqqRcB1ASKFkSCbhF0BR33Cu5ksUQJ82AUZFVBZA6GcnHgITE0CzsQZTP30XQJKWV6wSHBZAxwub2YnRGUCXgrT45MgWQB0zwze2txdAcv19FI5xGEAd3cDI1TIYQGfn62cahxhAuUqWWhbqFkDrMpwIoKMWQOvNarPkaR5A/HrF/h64H0A9wwWpgdYiQFMEv/dM4SVA+rHqY5U1J0D2y2GYKd4pQNh28d2HCStAsYfWYddNK0DglFZKxgErQLaHzVXL4ClAuqe3eUNfKEBT5eXz43IsQG/JoS7DqyxAe5RG+3H+LEAGPqZ9fRYvQAdPv9m3jClAoNN7y4J0KkCx8mmnKDArQMJbRykAmitAKGsZsu+lKkAyvQ4PGQoqQLWTpJwKbCxAvQeyioV6L0C8dVfDhYgwQO4vZdvK0TBAMKCpQicHMUBBcmTtbeowQKfiXX1BxS9A40tUiyRMMEA=\",\"dtype\":\"float64\",\"order\":\"little\",\"shape\":[100]}},\"selected\":{\"id\":\"5196\"},\"selection_policy\":{\"id\":\"5195\"}},\"id\":\"5139\",\"type\":\"ColumnDataSource\"},{\"attributes\":{\"data_source\":{\"id\":\"5104\"},\"glyph\":{\"id\":\"5105\"},\"hover_glyph\":null,\"muted_glyph\":null,\"nonselection_glyph\":{\"id\":\"5106\"},\"selection_glyph\":null,\"view\":{\"id\":\"5108\"}},\"id\":\"5107\",\"type\":\"GlyphRenderer\"},{\"attributes\":{\"data\":{\"x\":{\"__ndarray__\":\"AAAAAAAAAAAxb2dIzNu5PzFvZ0jM28k/ZZNNNtlk0z8xb2dIzNvZP3+lQK1fKeA/ZZNNNtlk4z9LgVq/UqDmPzFvZ0jM2+k/F1100UUX7T9/pUCtXynwP3Icx3Ecx/E/ZZNNNtlk8z9YCtT6lQL1P0uBWr9SoPY/Pvjggw8++D8xb2dIzNv5PyTm7QyJefs/F1100UUX/T8K1PqVArX+P3+lQK1fKQBA+OCDDz74AEByHMdxHMcBQOtXCtT6lQJAZZNNNtlkA0DezpCYtzMEQFgK1PqVAgVA0UUXXXTRBUBLgVq/UqAGQMS8nSExbwdAPvjggw8+CEC3MyTm7QwJQDFvZ0jM2wlAq6qqqqqqCkAk5u0MiXkLQJ4hMW9nSAxAF1100UUXDUCRmLczJOYNQArU+pUCtQ5AhA8++OCDD0B/pUCtXykQQDtDYt7OkBBA+OCDDz74EEC1fqVArV8RQHIcx3EcxxFALrrooosuEkDrVwrU+pUSQKj1KwVq/RJAZZNNNtlkE0AiMW9nSMwTQN7OkJi3MxRAm2yyySabFEBYCtT6lQIVQBWo9SsFahVA0UUXXXTRFUCO4ziO4zgWQEuBWr9SoBZACB988MEHF0DEvJ0hMW8XQIFav1Kg1hdAPvjggw8+GED7lQK1fqUYQLczJObtDBlAdNFFF110GUAxb2dIzNsZQO4MiXk7QxpAq6qqqqqqGkBnSMzbGRIbQCTm7QyJeRtA4YMPPvjgG0CeITFvZ0gcQFq/UqDWrxxAF1100UUXHUDU+pUCtX4dQJGYtzMk5h1ATTbZZJNNHkAK1PqVArUeQMdxHMdxHB9AhA8++OCDH0BArV8pUOsfQH+lQK1fKSBAXXTRRRddIEA7Q2LezpAgQBoS83aGxCBA+OCDDz74IEDXrxSo9SshQLV+pUCtXyFAk0022WSTIUByHMdxHMchQFDrVwrU+iFALrrooosuIkANiXk7Q2IiQOtXCtT6lSJAyiabbLLJIkCo9SsFav0iQIbEvJ0hMSNAZZNNNtlkI0BDYt7OkJgjQCIxb2dIzCNAAAAAAAAAJEA=\",\"dtype\":\"float64\",\"order\":\"little\",\"shape\":[100]},\"y\":{\"__ndarray__\":\"45Kv+3NE9T93DJmoo2jlv3YRIlgnQL2/YFW+YEsC5r/CiIlPOlblvxUeZsGQ4O2/nTIQkka68j+zCm4/cAvwP3s3nZu0L+q/4JX5tPkO8j/TiAMZwgX7PwjIeD7JAAhAFylopqdjAUDYHJKfnaz2P9/i/q/w2u0/Cn+uX0zsAkAgB79Ag44IQEGO45EDMwZA8dn3vmm9/z+SkZE/Q3kDQG42GVxR3eU/Qqp2Zvt4BUDfEdWDresMQIqb+7lIFAJAAJFbeQZeBECs3JEd49wNQEKC0VFo/gRAlBzIEZdrEUDEQ6UPU3YJQNrIN2sMvA9Ab2kRRy4oBUDJIC49hDUNQNQb0rn1rBNABqbUGRgPAEBipEIHDHQTQMBxKh7QIvc/YD1nyGYNDEAxkpQNwHkRQIPHmrfHAwpAh2N/AqPrEED+ORjK0DcVQNe5Hb/NuRFAqsppgVUtAkBcu51b4JYUQDj1+wdl5hVA6wk4TXqnEkCchREcmn8SQJqbRAhhLRNAwXJh2ALCCUCPu+1tgToSQP52hWKDARtAy3HmA/TZGEAdUz22FssXQJckS2KRqxNA5JQst4V8FEBVjb6EeaEYQE5TzR65DxdAXTVMK2gtF0DmdakbS0cVQBcqs8/I1RlARiA/ogVlFUB67DFTzrIXQD8DVZCeehxAoL/Z1dXsEUAgO9GYmYobQHqXQ5Nl/BVAnFzkl/ZbEEAEcCGHxysWQIQnr30F2RZAOau3EaCaH0DifCJFJBwgQBtqXXm2yyJAWhkkh7lqG0C3RSMy6ygcQKLzBCItTx1AX5mDai1GIkBbhgCaE7kgQCY69yidOh9ARhC/yPEaHEAAQkFkJOwjQERJQpBszRlAfgwktYHJH0AwC2u4zTwgQBk7WrSqFSJAm/e2DDS1HEAYKhv4GOEjQK6KF4jfHSFAHs6zZSZCH0DPMkmnjWMgQPv6pUrS4SFAnIDwOMkFIUBjWFTaRCAkQMCr3gItpSBAT9U1/nSiI0A9FhAyOvAmQIbheL8EziNAXu3WeHhkJUBFNyqlM1clQEPupX3gDyBAa5XdFiR2JkA=\",\"dtype\":\"float64\",\"order\":\"little\",\"shape\":[100]}},\"selected\":{\"id\":\"5186\"},\"selection_policy\":{\"id\":\"5185\"}},\"id\":\"5104\",\"type\":\"ColumnDataSource\"},{\"attributes\":{\"below\":[{\"id\":\"5082\"}],\"center\":[{\"id\":\"5085\"},{\"id\":\"5089\"}],\"left\":[{\"id\":\"5086\"}],\"plot_height\":300,\"plot_width\":300,\"renderers\":[{\"id\":\"5107\"}],\"title\":{\"id\":\"5179\"},\"toolbar\":{\"id\":\"5097\"},\"toolbar_location\":null,\"x_range\":{\"id\":\"5074\"},\"x_scale\":{\"id\":\"5078\"},\"y_range\":{\"id\":\"5076\"},\"y_scale\":{\"id\":\"5080\"}},\"id\":\"5073\",\"subtype\":\"Figure\",\"type\":\"Plot\"},{\"attributes\":{},\"id\":\"5111\",\"type\":\"DataRange1d\"},{\"attributes\":{},\"id\":\"5113\",\"type\":\"LinearScale\"},{\"attributes\":{\"fill_color\":{\"value\":\"maroon\"},\"line_color\":{\"value\":\"maroon\"},\"x\":{\"field\":\"x\"},\"y\":{\"field\":\"y\"}},\"id\":\"5105\",\"type\":\"Circle\"},{\"attributes\":{},\"id\":\"5074\",\"type\":\"DataRange1d\"},{\"attributes\":{},\"id\":\"5115\",\"type\":\"LinearScale\"},{\"attributes\":{},\"id\":\"5076\",\"type\":\"DataRange1d\"},{\"attributes\":{\"formatter\":{\"id\":\"5193\"},\"ticker\":{\"id\":\"5118\"}},\"id\":\"5117\",\"type\":\"LinearAxis\"},{\"attributes\":{},\"id\":\"5078\",\"type\":\"LinearScale\"},{\"attributes\":{},\"id\":\"5118\",\"type\":\"BasicTicker\"},{\"attributes\":{},\"id\":\"5080\",\"type\":\"LinearScale\"},{\"attributes\":{\"axis\":{\"id\":\"5117\"},\"ticker\":null},\"id\":\"5120\",\"type\":\"Grid\"},{\"attributes\":{\"formatter\":{\"id\":\"5183\"},\"ticker\":{\"id\":\"5083\"}},\"id\":\"5082\",\"type\":\"LinearAxis\"},{\"attributes\":{},\"id\":\"5083\",\"type\":\"BasicTicker\"},{\"attributes\":{\"formatter\":{\"id\":\"5191\"},\"ticker\":{\"id\":\"5122\"}},\"id\":\"5121\",\"type\":\"LinearAxis\"},{\"attributes\":{\"axis\":{\"id\":\"5082\"},\"ticker\":null},\"id\":\"5085\",\"type\":\"Grid\"},{\"attributes\":{},\"id\":\"5122\",\"type\":\"BasicTicker\"},{\"attributes\":{\"data_source\":{\"id\":\"5139\"},\"glyph\":{\"id\":\"5140\"},\"hover_glyph\":null,\"muted_glyph\":null,\"nonselection_glyph\":{\"id\":\"5141\"},\"selection_glyph\":null,\"view\":{\"id\":\"5143\"}},\"id\":\"5142\",\"type\":\"GlyphRenderer\"},{\"attributes\":{\"axis\":{\"id\":\"5121\"},\"dimension\":1,\"ticker\":null},\"id\":\"5124\",\"type\":\"Grid\"},{\"attributes\":{\"formatter\":{\"id\":\"5181\"},\"ticker\":{\"id\":\"5087\"}},\"id\":\"5086\",\"type\":\"LinearAxis\"},{\"attributes\":{},\"id\":\"5147\",\"type\":\"LinearScale\"},{\"attributes\":{},\"id\":\"5087\",\"type\":\"BasicTicker\"},{\"attributes\":{\"below\":[{\"id\":\"5151\"}],\"center\":[{\"id\":\"5154\"},{\"id\":\"5158\"}],\"left\":[{\"id\":\"5155\"}],\"plot_height\":300,\"plot_width\":300,\"renderers\":[{\"id\":\"5176\"}],\"title\":{\"id\":\"5199\"},\"toolbar\":{\"id\":\"5166\"},\"toolbar_location\":null,\"x_range\":{\"id\":\"5074\"},\"x_scale\":{\"id\":\"5147\"},\"y_range\":{\"id\":\"5111\"},\"y_scale\":{\"id\":\"5149\"}},\"id\":\"5144\",\"subtype\":\"Figure\",\"type\":\"Plot\"},{\"attributes\":{\"axis\":{\"id\":\"5086\"},\"dimension\":1,\"ticker\":null},\"id\":\"5089\",\"type\":\"Grid\"},{\"attributes\":{},\"id\":\"5125\",\"type\":\"PanTool\"},{\"attributes\":{\"fill_alpha\":{\"value\":0.1},\"fill_color\":{\"value\":\"maroon\"},\"line_alpha\":{\"value\":0.1},\"line_color\":{\"value\":\"maroon\"},\"x\":{\"field\":\"x\"},\"y\":{\"field\":\"y\"}},\"id\":\"5106\",\"type\":\"Circle\"},{\"attributes\":{},\"id\":\"5126\",\"type\":\"WheelZoomTool\"},{\"attributes\":{\"below\":[{\"id\":\"5117\"}],\"center\":[{\"id\":\"5120\"},{\"id\":\"5124\"}],\"left\":[{\"id\":\"5121\"}],\"plot_height\":300,\"plot_width\":300,\"renderers\":[{\"id\":\"5142\"}],\"title\":{\"id\":\"5189\"},\"toolbar\":{\"id\":\"5132\"},\"toolbar_location\":null,\"x_range\":{\"id\":\"5076\"},\"x_scale\":{\"id\":\"5113\"},\"y_range\":{\"id\":\"5111\"},\"y_scale\":{\"id\":\"5115\"}},\"id\":\"5109\",\"subtype\":\"Figure\",\"type\":\"Plot\"},{\"attributes\":{\"overlay\":{\"id\":\"5131\"}},\"id\":\"5127\",\"type\":\"BoxZoomTool\"},{\"attributes\":{},\"id\":\"5090\",\"type\":\"PanTool\"},{\"attributes\":{},\"id\":\"5128\",\"type\":\"SaveTool\"},{\"attributes\":{},\"id\":\"5091\",\"type\":\"WheelZoomTool\"},{\"attributes\":{},\"id\":\"5129\",\"type\":\"ResetTool\"},{\"attributes\":{\"overlay\":{\"id\":\"5096\"}},\"id\":\"5092\",\"type\":\"BoxZoomTool\"},{\"attributes\":{},\"id\":\"5130\",\"type\":\"HelpTool\"},{\"attributes\":{},\"id\":\"5093\",\"type\":\"SaveTool\"},{\"attributes\":{\"active_drag\":\"auto\",\"active_inspect\":\"auto\",\"active_multi\":null,\"active_scroll\":\"auto\",\"active_tap\":\"auto\",\"tools\":[{\"id\":\"5125\"},{\"id\":\"5126\"},{\"id\":\"5127\"},{\"id\":\"5128\"},{\"id\":\"5129\"},{\"id\":\"5130\"}]},\"id\":\"5132\",\"type\":\"Toolbar\"},{\"attributes\":{},\"id\":\"5094\",\"type\":\"ResetTool\"},{\"attributes\":{\"children\":[[{\"id\":\"5073\"},0,0],[{\"id\":\"5109\"},0,1],[{\"id\":\"5144\"},1,0]]},\"id\":\"5208\",\"type\":\"GridBox\"},{\"attributes\":{},\"id\":\"5095\",\"type\":\"HelpTool\"},{\"attributes\":{\"active_drag\":\"auto\",\"active_inspect\":\"auto\",\"active_multi\":null,\"active_scroll\":\"auto\",\"active_tap\":\"auto\",\"tools\":[{\"id\":\"5090\"},{\"id\":\"5091\"},{\"id\":\"5092\"},{\"id\":\"5093\"},{\"id\":\"5094\"},{\"id\":\"5095\"}]},\"id\":\"5097\",\"type\":\"Toolbar\"},{\"attributes\":{},\"id\":\"5163\",\"type\":\"ResetTool\"},{\"attributes\":{},\"id\":\"5205\",\"type\":\"UnionRenderers\"},{\"attributes\":{\"line_color\":\"hotpink\",\"line_width\":2,\"x\":{\"field\":\"x\"},\"y\":{\"field\":\"y\"}},\"id\":\"5174\",\"type\":\"Line\"},{\"attributes\":{\"overlay\":{\"id\":\"5165\"}},\"id\":\"5161\",\"type\":\"BoxZoomTool\"},{\"attributes\":{},\"id\":\"5159\",\"type\":\"PanTool\"},{\"attributes\":{\"bottom_units\":\"screen\",\"fill_alpha\":0.5,\"fill_color\":\"lightgrey\",\"left_units\":\"screen\",\"level\":\"overlay\",\"line_alpha\":1.0,\"line_color\":\"black\",\"line_dash\":[4,4],\"line_width\":2,\"right_units\":\"screen\",\"top_units\":\"screen\"},\"id\":\"5131\",\"type\":\"BoxAnnotation\"},{\"attributes\":{\"fill_alpha\":{\"value\":0.1},\"fill_color\":{\"value\":\"seagreen\"},\"line_alpha\":{\"value\":0.1},\"line_color\":{\"value\":\"seagreen\"},\"x\":{\"field\":\"x\"},\"y\":{\"field\":\"y\"}},\"id\":\"5141\",\"type\":\"Circle\"},{\"attributes\":{\"source\":{\"id\":\"5139\"}},\"id\":\"5143\",\"type\":\"CDSView\"},{\"attributes\":{\"data\":{\"x\":{\"__ndarray__\":\"AAAAAAAAAAAxb2dIzNu5PzFvZ0jM28k/ZZNNNtlk0z8xb2dIzNvZP3+lQK1fKeA/ZZNNNtlk4z9LgVq/UqDmPzFvZ0jM2+k/F1100UUX7T9/pUCtXynwP3Icx3Ecx/E/ZZNNNtlk8z9YCtT6lQL1P0uBWr9SoPY/Pvjggw8++D8xb2dIzNv5PyTm7QyJefs/F1100UUX/T8K1PqVArX+P3+lQK1fKQBA+OCDDz74AEByHMdxHMcBQOtXCtT6lQJAZZNNNtlkA0DezpCYtzMEQFgK1PqVAgVA0UUXXXTRBUBLgVq/UqAGQMS8nSExbwdAPvjggw8+CEC3MyTm7QwJQDFvZ0jM2wlAq6qqqqqqCkAk5u0MiXkLQJ4hMW9nSAxAF1100UUXDUCRmLczJOYNQArU+pUCtQ5AhA8++OCDD0B/pUCtXykQQDtDYt7OkBBA+OCDDz74EEC1fqVArV8RQHIcx3EcxxFALrrooosuEkDrVwrU+pUSQKj1KwVq/RJAZZNNNtlkE0AiMW9nSMwTQN7OkJi3MxRAm2yyySabFEBYCtT6lQIVQBWo9SsFahVA0UUXXXTRFUCO4ziO4zgWQEuBWr9SoBZACB988MEHF0DEvJ0hMW8XQIFav1Kg1hdAPvjggw8+GED7lQK1fqUYQLczJObtDBlAdNFFF110GUAxb2dIzNsZQO4MiXk7QxpAq6qqqqqqGkBnSMzbGRIbQCTm7QyJeRtA4YMPPvjgG0CeITFvZ0gcQFq/UqDWrxxAF1100UUXHUDU+pUCtX4dQJGYtzMk5h1ATTbZZJNNHkAK1PqVArUeQMdxHMdxHB9AhA8++OCDH0BArV8pUOsfQH+lQK1fKSBAXXTRRRddIEA7Q2LezpAgQBoS83aGxCBA+OCDDz74IEDXrxSo9SshQLV+pUCtXyFAk0022WSTIUByHMdxHMchQFDrVwrU+iFALrrooosuIkANiXk7Q2IiQOtXCtT6lSJAyiabbLLJIkCo9SsFav0iQIbEvJ0hMSNAZZNNNtlkI0BDYt7OkJgjQCIxb2dIzCNAAAAAAAAAJEA=\",\"dtype\":\"float64\",\"order\":\"little\",\"shape\":[100]},\"y\":{\"__ndarray__\":\"AuAcEixzwL9e5Ung8A3qP+O1yo1wKABA9EGOiBq0BEAsCeBJLicHQNL6hDf8Zfs/rluisaYABUBsAwRdA48GQGm3Bxv0KwtAkCRlpc7zEUAiOoEDQ8MLQPTB6TTAQRJAPdaVG9I3GEBxSe0h/hcXQFFZlH9geRBAMEilMB5OGUCxCD7qG2McQMKLQhewwR5AAWp6FPswH0CADD/ykx8dQIBL9h8T6BpAEorbSXzXG0BUuPlJiYUcQAyjhBmjghtALWI07qNQGED0mNVFwVEZQLaoPcxZGhVAjuRPK8ToDUALdoJN5TUDQEBL9Yw2weo/+isIH14e+D9sg3nBTyfqP8f8BU7ccvo/5sUKP4rKAEDfXbpFuzoPQGjNBtSlyhJAWlTflpwoFkAWyyPyJTUUQMSvDWxtrgpAYfkQdNInEEBAXvW5AxgVQB8g7cJEuxNAGmc3VNfsEUBdltfPQ58QQMKIa0JfKgxABV0X/GgRE0CMoIzhMcYSQOjmMQ6FHRZAllt8wvLBF0CeXdpUM4oUQOh/NVAueBxArf6e5sr3G0CahDhZpSYZQKLIQ0wtLh9AuXLBR6MWIUACsygui48gQHNMHqqRcB1ASKFkSCbhF0BR33Cu5ksUQJ82AUZFVBZA6GcnHgITE0CzsQZTP30XQJKWV6wSHBZAxwub2YnRGUCXgrT45MgWQB0zwze2txdAcv19FI5xGEAd3cDI1TIYQGfn62cahxhAuUqWWhbqFkDrMpwIoKMWQOvNarPkaR5A/HrF/h64H0A9wwWpgdYiQFMEv/dM4SVA+rHqY5U1J0D2y2GYKd4pQNh28d2HCStAsYfWYddNK0DglFZKxgErQLaHzVXL4ClAuqe3eUNfKEBT5eXz43IsQG/JoS7DqyxAe5RG+3H+LEAGPqZ9fRYvQAdPv9m3jClAoNN7y4J0KkCx8mmnKDArQMJbRykAmitAKGsZsu+lKkAyvQ4PGQoqQLWTpJwKbCxAvQeyioV6L0C8dVfDhYgwQO4vZdvK0TBAMKCpQicHMUBBcmTtbeowQKfiXX1BxS9A40tUiyRMMEA=\",\"dtype\":\"float64\",\"order\":\"little\",\"shape\":[100]}},\"selected\":{\"id\":\"5206\"},\"selection_policy\":{\"id\":\"5205\"}},\"id\":\"5173\",\"type\":\"ColumnDataSource\"},{\"attributes\":{},\"id\":\"5162\",\"type\":\"SaveTool\"},{\"attributes\":{\"fill_color\":{\"value\":\"seagreen\"},\"line_color\":{\"value\":\"seagreen\"},\"x\":{\"field\":\"x\"},\"y\":{\"field\":\"y\"}},\"id\":\"5140\",\"type\":\"Circle\"},{\"attributes\":{},\"id\":\"5160\",\"type\":\"WheelZoomTool\"},{\"attributes\":{},\"id\":\"5149\",\"type\":\"LinearScale\"},{\"attributes\":{\"bottom_units\":\"screen\",\"fill_alpha\":0.5,\"fill_color\":\"lightgrey\",\"left_units\":\"screen\",\"level\":\"overlay\",\"line_alpha\":1.0,\"line_color\":\"black\",\"line_dash\":[4,4],\"line_width\":2,\"right_units\":\"screen\",\"top_units\":\"screen\"},\"id\":\"5096\",\"type\":\"BoxAnnotation\"},{\"attributes\":{\"formatter\":{\"id\":\"5203\"},\"ticker\":{\"id\":\"5152\"}},\"id\":\"5151\",\"type\":\"LinearAxis\"},{\"attributes\":{},\"id\":\"5152\",\"type\":\"BasicTicker\"},{\"attributes\":{\"axis\":{\"id\":\"5151\"},\"ticker\":null},\"id\":\"5154\",\"type\":\"Grid\"},{\"attributes\":{\"formatter\":{\"id\":\"5201\"},\"ticker\":{\"id\":\"5156\"}},\"id\":\"5155\",\"type\":\"LinearAxis\"},{\"attributes\":{},\"id\":\"5156\",\"type\":\"BasicTicker\"},{\"attributes\":{\"axis\":{\"id\":\"5155\"},\"dimension\":1,\"ticker\":null},\"id\":\"5158\",\"type\":\"Grid\"},{\"attributes\":{},\"id\":\"5164\",\"type\":\"HelpTool\"},{\"attributes\":{\"toolbar\":{\"id\":\"5209\"},\"toolbar_location\":\"above\"},\"id\":\"5210\",\"type\":\"ToolbarBox\"},{\"attributes\":{\"active_drag\":\"auto\",\"active_inspect\":\"auto\",\"active_multi\":null,\"active_scroll\":\"auto\",\"active_tap\":\"auto\",\"tools\":[{\"id\":\"5159\"},{\"id\":\"5160\"},{\"id\":\"5161\"},{\"id\":\"5162\"},{\"id\":\"5163\"},{\"id\":\"5164\"}]},\"id\":\"5166\",\"type\":\"Toolbar\"},{\"attributes\":{\"toolbars\":[{\"id\":\"5097\"},{\"id\":\"5132\"},{\"id\":\"5166\"}],\"tools\":[{\"id\":\"5090\"},{\"id\":\"5091\"},{\"id\":\"5092\"},{\"id\":\"5093\"},{\"id\":\"5094\"},{\"id\":\"5095\"},{\"id\":\"5125\"},{\"id\":\"5126\"},{\"id\":\"5127\"},{\"id\":\"5128\"},{\"id\":\"5129\"},{\"id\":\"5130\"},{\"id\":\"5159\"},{\"id\":\"5160\"},{\"id\":\"5161\"},{\"id\":\"5162\"},{\"id\":\"5163\"},{\"id\":\"5164\"}]},\"id\":\"5209\",\"type\":\"ProxyToolbar\"},{\"attributes\":{},\"id\":\"5206\",\"type\":\"Selection\"},{\"attributes\":{\"bottom_units\":\"screen\",\"fill_alpha\":0.5,\"fill_color\":\"lightgrey\",\"left_units\":\"screen\",\"level\":\"overlay\",\"line_alpha\":1.0,\"line_color\":\"black\",\"line_dash\":[4,4],\"line_width\":2,\"right_units\":\"screen\",\"top_units\":\"screen\"},\"id\":\"5165\",\"type\":\"BoxAnnotation\"},{\"attributes\":{\"source\":{\"id\":\"5173\"}},\"id\":\"5177\",\"type\":\"CDSView\"},{\"attributes\":{\"line_alpha\":0.1,\"line_color\":\"hotpink\",\"line_width\":2,\"x\":{\"field\":\"x\"},\"y\":{\"field\":\"y\"}},\"id\":\"5175\",\"type\":\"Line\"},{\"attributes\":{\"data_source\":{\"id\":\"5173\"},\"glyph\":{\"id\":\"5174\"},\"hover_glyph\":null,\"muted_glyph\":null,\"nonselection_glyph\":{\"id\":\"5175\"},\"selection_glyph\":null,\"view\":{\"id\":\"5177\"}},\"id\":\"5176\",\"type\":\"GlyphRenderer\"},{\"attributes\":{\"text\":\"\"},\"id\":\"5179\",\"type\":\"Title\"},{\"attributes\":{},\"id\":\"5181\",\"type\":\"BasicTickFormatter\"},{\"attributes\":{},\"id\":\"5183\",\"type\":\"BasicTickFormatter\"},{\"attributes\":{},\"id\":\"5186\",\"type\":\"Selection\"},{\"attributes\":{},\"id\":\"5185\",\"type\":\"UnionRenderers\"},{\"attributes\":{\"text\":\"\"},\"id\":\"5189\",\"type\":\"Title\"},{\"attributes\":{},\"id\":\"5191\",\"type\":\"BasicTickFormatter\"},{\"attributes\":{},\"id\":\"5193\",\"type\":\"BasicTickFormatter\"},{\"attributes\":{},\"id\":\"5195\",\"type\":\"UnionRenderers\"},{\"attributes\":{},\"id\":\"5196\",\"type\":\"Selection\"},{\"attributes\":{\"text\":\"\"},\"id\":\"5199\",\"type\":\"Title\"},{\"attributes\":{},\"id\":\"5201\",\"type\":\"BasicTickFormatter\"},{\"attributes\":{},\"id\":\"5203\",\"type\":\"BasicTickFormatter\"}],\"root_ids\":[\"5211\"]},\"title\":\"Bokeh Application\",\"version\":\"2.2.1\"}};\n",
       "  var render_items = [{\"docid\":\"23177b8f-a234-49a6-81e6-3cfd3843da64\",\"root_ids\":[\"5211\"],\"roots\":{\"5211\":\"20f52115-ecc3-4d0d-8e95-f56147dfcb12\"}}];\n",
       "  root.Bokeh.embed.embed_items_notebook(docs_json, render_items);\n",
       "\n",
       "  }\n",
       "  if (root.Bokeh !== undefined) {\n",
       "    embed_document(root);\n",
       "  } else {\n",
       "    var attempts = 0;\n",
       "    var timer = setInterval(function(root) {\n",
       "      if (root.Bokeh !== undefined) {\n",
       "        clearInterval(timer);\n",
       "        embed_document(root);\n",
       "      } else {\n",
       "        attempts++;\n",
       "        if (attempts > 100) {\n",
       "          clearInterval(timer);\n",
       "          console.log(\"Bokeh: ERROR: Unable to run BokehJS code because BokehJS library is missing\");\n",
       "        }\n",
       "      }\n",
       "    }, 10, root)\n",
       "  }\n",
       "})(window);"
      ],
      "application/vnd.bokehjs_exec.v0+json": ""
     },
     "metadata": {
      "application/vnd.bokehjs_exec.v0+json": {
       "id": "5211"
      }
     },
     "output_type": "display_data"
    }
   ],
   "source": [
    "p1 = figure(width=300, height=300)\n",
    "p1.circle(x, y, color=\"maroon\")\n",
    "\n",
    "p2 = figure(width=300, height=300, x_range=p1.y_range)\n",
    "p2.circle(y, z, color=\"seagreen\")\n",
    "\n",
    "p3 = figure(width=300, height=300, x_range=p1.x_range, y_range=p2.y_range)\n",
    "p3.line(x, z, color=\"hotpink\", line_width=2)\n",
    "\n",
    "p = gridplot([[p1, p2], [p3, None]])\n",
    "show(p)"
   ]
  },
  {
   "cell_type": "markdown",
   "metadata": {},
   "source": [
    "# Callbacks\n",
    "Callbacks allow us to change properties of a plot after it is created."
   ]
  },
  {
   "cell_type": "code",
   "execution_count": 46,
   "metadata": {
    "ExecuteTime": {
     "end_time": "2020-09-24T05:48:37.080498Z",
     "start_time": "2020-09-24T05:48:36.956244Z"
    }
   },
   "outputs": [
    {
     "data": {
      "text/html": [
       "\n",
       "\n",
       "\n",
       "\n",
       "\n",
       "\n",
       "  <div class=\"bk-root\" id=\"4cf4293f-9448-4610-a80b-f530bb08ab16\" data-root-id=\"5567\"></div>\n"
      ]
     },
     "metadata": {},
     "output_type": "display_data"
    },
    {
     "data": {
      "application/javascript": [
       "(function(root) {\n",
       "  function embed_document(root) {\n",
       "    \n",
       "  var docs_json = {\"3ceca81a-ed3c-4794-a80c-00444829f6fe\":{\"roots\":{\"references\":[{\"attributes\":{\"below\":[{\"id\":\"5576\"}],\"center\":[{\"id\":\"5579\"},{\"id\":\"5583\"}],\"left\":[{\"id\":\"5580\"}],\"plot_height\":400,\"renderers\":[{\"id\":\"5601\"}],\"title\":{\"id\":\"5824\"},\"toolbar\":{\"id\":\"5591\"},\"x_range\":{\"id\":\"5568\"},\"x_scale\":{\"id\":\"5572\"},\"y_range\":{\"id\":\"5570\"},\"y_scale\":{\"id\":\"5574\"}},\"id\":\"5567\",\"subtype\":\"Figure\",\"type\":\"Plot\"},{\"attributes\":{\"formatter\":{\"id\":\"5827\"},\"ticker\":{\"id\":\"5577\"}},\"id\":\"5576\",\"type\":\"LinearAxis\"},{\"attributes\":{\"data\":{\"production\":[797930,818233,807040,793263,774977,815754,747154,784208,815514,876145,786948,830503,895098,917015,918594,1062935,1120985,1105461,1096699,1141547,1161363,1129691,689083,631538,611356,571820,531861,501570,485801,144480],\"year\":[1991,1992,1993,1994,1995,1996,1997,1998,1999,2000,2001,2002,2003,2004,2005,2006,2007,2008,2009,2010,2011,2012,2013,2014,2015,2016,2017,2018,2019,2020]},\"selected\":{\"id\":\"5830\"},\"selection_policy\":{\"id\":\"5829\"}},\"id\":\"5565\",\"type\":\"ColumnDataSource\"},{\"attributes\":{},\"id\":\"5577\",\"type\":\"BasicTicker\"},{\"attributes\":{\"axis\":{\"id\":\"5576\"},\"ticker\":null},\"id\":\"5579\",\"type\":\"Grid\"},{\"attributes\":{\"bottom_units\":\"screen\",\"fill_alpha\":0.5,\"fill_color\":\"lightgrey\",\"left_units\":\"screen\",\"level\":\"overlay\",\"line_alpha\":1.0,\"line_color\":\"black\",\"line_dash\":[4,4],\"line_width\":2,\"right_units\":\"screen\",\"top_units\":\"screen\"},\"id\":\"5590\",\"type\":\"BoxAnnotation\"},{\"attributes\":{\"formatter\":{\"id\":\"5603\"},\"ticker\":{\"id\":\"5581\"}},\"id\":\"5580\",\"type\":\"LinearAxis\"},{\"attributes\":{\"line_alpha\":0.1,\"line_color\":\"#1f77b4\",\"line_width\":3,\"x\":{\"field\":\"year\"},\"y\":{\"field\":\"production\"}},\"id\":\"5600\",\"type\":\"Line\"},{\"attributes\":{},\"id\":\"5581\",\"type\":\"BasicTicker\"},{\"attributes\":{\"data_source\":{\"id\":\"5565\"},\"glyph\":{\"id\":\"5599\"},\"hover_glyph\":null,\"muted_glyph\":null,\"nonselection_glyph\":{\"id\":\"5600\"},\"selection_glyph\":null,\"view\":{\"id\":\"5602\"}},\"id\":\"5601\",\"type\":\"GlyphRenderer\"},{\"attributes\":{\"axis\":{\"id\":\"5580\"},\"dimension\":1,\"ticker\":null},\"id\":\"5583\",\"type\":\"Grid\"},{\"attributes\":{},\"id\":\"5829\",\"type\":\"UnionRenderers\"},{\"attributes\":{},\"id\":\"5827\",\"type\":\"BasicTickFormatter\"},{\"attributes\":{},\"id\":\"5830\",\"type\":\"Selection\"},{\"attributes\":{},\"id\":\"5584\",\"type\":\"PanTool\"},{\"attributes\":{},\"id\":\"5585\",\"type\":\"WheelZoomTool\"},{\"attributes\":{\"overlay\":{\"id\":\"5590\"}},\"id\":\"5586\",\"type\":\"BoxZoomTool\"},{\"attributes\":{},\"id\":\"5587\",\"type\":\"SaveTool\"},{\"attributes\":{\"active_drag\":\"auto\",\"active_inspect\":\"auto\",\"active_multi\":null,\"active_scroll\":\"auto\",\"active_tap\":\"auto\",\"tools\":[{\"id\":\"5584\"},{\"id\":\"5585\"},{\"id\":\"5586\"},{\"id\":\"5587\"},{\"id\":\"5588\"},{\"id\":\"5589\"}]},\"id\":\"5591\",\"type\":\"Toolbar\"},{\"attributes\":{\"line_color\":\"#1f77b4\",\"line_width\":3,\"x\":{\"field\":\"year\"},\"y\":{\"field\":\"production\"}},\"id\":\"5599\",\"type\":\"Line\"},{\"attributes\":{},\"id\":\"5588\",\"type\":\"ResetTool\"},{\"attributes\":{},\"id\":\"5570\",\"type\":\"DataRange1d\"},{\"attributes\":{},\"id\":\"5589\",\"type\":\"HelpTool\"},{\"attributes\":{},\"id\":\"5572\",\"type\":\"LinearScale\"},{\"attributes\":{},\"id\":\"5574\",\"type\":\"LinearScale\"},{\"attributes\":{},\"id\":\"5568\",\"type\":\"DataRange1d\"},{\"attributes\":{\"text\":\"\"},\"id\":\"5824\",\"type\":\"Title\"},{\"attributes\":{\"format\":\"%d\"},\"id\":\"5603\",\"type\":\"PrintfTickFormatter\"},{\"attributes\":{\"source\":{\"id\":\"5565\"}},\"id\":\"5602\",\"type\":\"CDSView\"}],\"root_ids\":[\"5567\"]},\"title\":\"Bokeh Application\",\"version\":\"2.2.1\"}};\n",
       "  var render_items = [{\"docid\":\"3ceca81a-ed3c-4794-a80c-00444829f6fe\",\"notebook_comms_target\":\"5831\",\"root_ids\":[\"5567\"],\"roots\":{\"5567\":\"4cf4293f-9448-4610-a80b-f530bb08ab16\"}}];\n",
       "  root.Bokeh.embed.embed_items_notebook(docs_json, render_items);\n",
       "\n",
       "  }\n",
       "  if (root.Bokeh !== undefined) {\n",
       "    embed_document(root);\n",
       "  } else {\n",
       "    var attempts = 0;\n",
       "    var timer = setInterval(function(root) {\n",
       "      if (root.Bokeh !== undefined) {\n",
       "        clearInterval(timer);\n",
       "        embed_document(root);\n",
       "      } else {\n",
       "        attempts++;\n",
       "        if (attempts > 100) {\n",
       "          clearInterval(timer);\n",
       "          console.log(\"Bokeh: ERROR: Unable to run BokehJS code because BokehJS library is missing\");\n",
       "        }\n",
       "      }\n",
       "    }, 10, root)\n",
       "  }\n",
       "})(window);"
      ],
      "application/vnd.bokehjs_exec.v0+json": ""
     },
     "metadata": {
      "application/vnd.bokehjs_exec.v0+json": {
       "id": "5567"
      }
     },
     "output_type": "display_data"
    },
    {
     "data": {
      "text/html": [
       "<p><code>&lt;Bokeh Notebook handle for <strong>In[46]</strong>&gt;</code></p>"
      ],
      "text/plain": [
       "<bokeh.io.notebook.CommsHandle at 0x7f9e69348dd8>"
      ]
     },
     "execution_count": 46,
     "metadata": {},
     "output_type": "execute_result"
    }
   ],
   "source": [
    "# ngdf\n",
    "source = ColumnDataSource(data={\"year\": ngdf.index, \"production\": ngdf[\"Other\"]})\n",
    "# palettes.Viridis256\n",
    "hover = HoverTool(tooltips=[(\"Year\", \"@year\"), (\"Production\", \"@production MMcf\")])\n",
    "\n",
    "p = figure(width=600, height=400)\n",
    "r = p.line(\"year\", \"production\", line_width=3, source=source)\n",
    "p.yaxis.formatter = PrintfTickFormatter(format=\"%d\")\n",
    "show(p, notebook_handle=True)"
   ]
  },
  {
   "cell_type": "code",
   "execution_count": 47,
   "metadata": {
    "ExecuteTime": {
     "end_time": "2020-09-24T05:48:37.086346Z",
     "start_time": "2020-09-24T05:48:37.082307Z"
    }
   },
   "outputs": [],
   "source": [
    "def update(state=\"Other\"):\n",
    "    newdata = {\"year\": ngdf.index, \"production\": ngdf[state]}\n",
    "    source.data = newdata\n",
    "    p.title.text = state\n",
    "    push_notebook()\n",
    "    show(p)"
   ]
  },
  {
   "cell_type": "code",
   "execution_count": 48,
   "metadata": {
    "ExecuteTime": {
     "end_time": "2020-09-24T05:48:37.179855Z",
     "start_time": "2020-09-24T05:48:37.088072Z"
    }
   },
   "outputs": [
    {
     "name": "stderr",
     "output_type": "stream",
     "text": [
      "/home/wassname/anaconda/envs/deep_ml_curriculum/lib/python3.6/site-packages/IPython/html.py:14: ShimWarning: The `IPython.html` package has been deprecated since IPython 4.0. You should import from `notebook` instead. `IPython.html.widgets` has moved to `ipywidgets`.\n",
      "  \"`IPython.html.widgets` has moved to `ipywidgets`.\", ShimWarning)\n"
     ]
    },
    {
     "data": {
      "application/vnd.jupyter.widget-view+json": {
       "model_id": "e894c38261fe42189ea8b6720c2427d6",
       "version_major": 2,
       "version_minor": 0
      },
      "text/plain": [
       "interactive(children=(Dropdown(description='state', options=('Other', 'Alabama', 'Arizona', 'Florida', 'Idaho'…"
      ]
     },
     "metadata": {},
     "output_type": "display_data"
    },
    {
     "data": {
      "text/plain": [
       "<function __main__.update(state='Other')>"
      ]
     },
     "execution_count": 48,
     "metadata": {},
     "output_type": "execute_result"
    }
   ],
   "source": [
    "from IPython.html.widgets import interact\n",
    "from bokeh.io import push_notebook\n",
    "\n",
    "interact(update, state=ngdf.columns.to_list())"
   ]
  },
  {
   "cell_type": "code",
   "execution_count": 49,
   "metadata": {
    "ExecuteTime": {
     "end_time": "2020-09-24T05:48:37.241243Z",
     "start_time": "2020-09-24T05:48:37.181685Z"
    }
   },
   "outputs": [
    {
     "data": {
      "application/vnd.jupyter.widget-view+json": {
       "model_id": "43418df768cc4d91b66f3a55c4338406",
       "version_major": 2,
       "version_minor": 0
      },
      "text/plain": [
       "interactive(children=(Dropdown(description='color', options=('red', 'blue', 'green', 'black'), value='red'), I…"
      ]
     },
     "metadata": {},
     "output_type": "display_data"
    }
   ],
   "source": [
    "@interact\n",
    "def ChangeColor(color=[\"red\", \"blue\", \"green\", \"black\"], thickness=(1, 5, 1)):\n",
    "    r.glyph.line_color = color\n",
    "    r.glyph.line_width = thickness\n",
    "    push_notebook()\n",
    "    show(p)"
   ]
  },
  {
   "cell_type": "code",
   "execution_count": null,
   "metadata": {
    "ExecuteTime": {
     "end_time": "2020-09-23T23:40:19.285415Z",
     "start_time": "2020-09-23T23:40:19.212881Z"
    }
   },
   "outputs": [],
   "source": []
  },
  {
   "cell_type": "markdown",
   "metadata": {},
   "source": [
    "# Further Reading\n",
    "- [Bokeh Tutorial](https://nbviewer.jupyter.org/github/bokeh/bokeh-notebooks/blob/master/tutorial/00%20-%20Introduction%20and%20Setup.ipynb)\n",
    "- https://www.youtube.com/watch?v=2TR_6VaVSOs\n",
    "- https://github.com/chalmerlowe/bokeh_tutorial\n",
    "- https://towardsdatascience.com/data-visualization-with-bokeh-in-python-part-one-getting-started-a11655a467d4"
   ]
  },
  {
   "cell_type": "code",
   "execution_count": null,
   "metadata": {},
   "outputs": [],
   "source": []
  }
 ],
 "metadata": {
  "kernelspec": {
   "display_name": "deep_ml_curriculum",
   "language": "python",
   "name": "deep_ml_curriculum"
  },
  "language_info": {
   "codemirror_mode": {
    "name": "ipython",
    "version": 3
   },
   "file_extension": ".py",
   "mimetype": "text/x-python",
   "name": "python",
   "nbconvert_exporter": "python",
   "pygments_lexer": "ipython3",
   "version": "3.6.10"
  },
  "toc": {
   "base_numbering": 1,
   "nav_menu": {},
   "number_sections": true,
   "sideBar": true,
   "skip_h1_title": false,
   "title_cell": "Table of Contents",
   "title_sidebar": "Contents",
   "toc_cell": false,
   "toc_position": {
    "height": "457px",
    "left": "967px",
    "top": "180px",
    "width": "259.789px"
   },
   "toc_section_display": true,
   "toc_window_display": true
  }
 },
 "nbformat": 4,
 "nbformat_minor": 2
}
