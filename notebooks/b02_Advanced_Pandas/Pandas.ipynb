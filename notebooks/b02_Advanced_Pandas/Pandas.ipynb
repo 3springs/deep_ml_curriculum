{
 "cells": [
  {
   "cell_type": "markdown",
   "metadata": {},
   "source": [
    "# Pandas"
   ]
  },
  {
   "cell_type": "code",
   "execution_count": null,
   "metadata": {},
   "outputs": [],
   "source": [
    "import pandas as pd\n",
    "import pandas_profiling as pp\n",
    "import numpy as np\n",
    "import warnings\n",
    "\n",
    "warnings.simplefilter(\"ignore\")"
   ]
  },
  {
   "cell_type": "markdown",
   "metadata": {},
   "source": [
    "## Read Data"
   ]
  },
  {
   "cell_type": "markdown",
   "metadata": {},
   "source": [
    "Pandas has the ability to read data from various formats, including:\n",
    "- CSV\n",
    "- Excel\n",
    "- Html\n",
    "- Json\n",
    "- Feather\n",
    "- Parquet"
   ]
  },
  {
   "cell_type": "markdown",
   "metadata": {},
   "source": [
    "Let's start by reading a table from a csv file. Pandas puts the data in an object known as a `DataFrame`.<br>\n",
    "The data we are using here is air emissions from industrial facilities in Queensland for the 2005/2006 inventory year taken from [data.gov.au](http://data.gov.au)."
   ]
  },
  {
   "cell_type": "code",
   "execution_count": null,
   "metadata": {},
   "outputs": [],
   "source": [
    "!head -n 3 \"../../data/processed/Emission/npi-2006-qld-air-total-emissions.csv\""
   ]
  },
  {
   "cell_type": "code",
   "execution_count": null,
   "metadata": {},
   "outputs": [],
   "source": [
    "df = pd.read_csv(\"../../data/processed/Emission/npi-2006-qld-air-total-emissions2.csv\", index_col='index')"
   ]
  },
  {
   "cell_type": "markdown",
   "metadata": {},
   "source": [
    "The `DataFrame` is now stored in variable `df`. We can print it:"
   ]
  },
  {
   "cell_type": "code",
   "execution_count": null,
   "metadata": {},
   "outputs": [],
   "source": [
    "df"
   ]
  },
  {
   "cell_type": "markdown",
   "metadata": {},
   "source": [
    "Similarly, using the respective read method you can read the tables from other file formats supported by Pandas. <br>\n",
    "e.g. `pd.read_excel()` "
   ]
  },
  {
   "cell_type": "markdown",
   "metadata": {},
   "source": [
    "Pandas can also read the data from SQL database and put them directly into a pandas data frame. To do that, we need to pass in the query and the connection object."
   ]
  },
  {
   "cell_type": "code",
   "execution_count": null,
   "metadata": {},
   "outputs": [],
   "source": [
    "import sqlite3\n",
    "\n",
    "# create a connection to database\n",
    "conn = sqlite3.connect(\"../01 SQL/Sales.db\")\n",
    "\n",
    "# write a query\n",
    "query = \"\"\"\n",
    "SELECT * from Customers\n",
    "LIMIT 5\n",
    "\"\"\"\n",
    "\n",
    "pd.read_sql(query, conn)"
   ]
  },
  {
   "cell_type": "markdown",
   "metadata": {},
   "source": [
    "__Tip:__ Sometimes you just want to quickly copy a portion of a dataset from a webpage or excel into a notebook. An easy way to do that is to copy the data from the source and then use `pd.read_clipboard()`. This method will create a pandas data frame from the data you copied. Note that this method only works if the notebook is running on your local machine (not on an external server)."
   ]
  },
  {
   "cell_type": "markdown",
   "metadata": {},
   "source": [
    "## Basic Analysis\n",
    "- info\n",
    "- describe\n",
    "- pandas profiling\n",
    "- value_counts()\n"
   ]
  },
  {
   "cell_type": "code",
   "execution_count": null,
   "metadata": {},
   "outputs": [],
   "source": [
    "df = pd.read_csv(\"../../data/processed/Emission/npi-2006-qld-air-total-emissions2.csv\", index_col='index')\n",
    "df"
   ]
  },
  {
   "cell_type": "markdown",
   "metadata": {},
   "source": [
    "We can use `.head()` and `.tail()` to view only top or bottom rows of the table."
   ]
  },
  {
   "cell_type": "code",
   "execution_count": null,
   "metadata": {},
   "outputs": [],
   "source": [
    "# top rows\n",
    "df.head()"
   ]
  },
  {
   "cell_type": "code",
   "execution_count": null,
   "metadata": {},
   "outputs": [],
   "source": [
    "# bottom rows\n",
    "df.tail()"
   ]
  },
  {
   "cell_type": "markdown",
   "metadata": {},
   "source": [
    "__Note:__ You can specify how many rows from the top or bottom of the table you want by passing in a number.<br>\n",
    "e.g. `df.head(10)` or `df.tail(3)`"
   ]
  },
  {
   "cell_type": "markdown",
   "metadata": {},
   "source": [
    "We can use `.columns` to get a list of column names."
   ]
  },
  {
   "cell_type": "code",
   "execution_count": null,
   "metadata": {},
   "outputs": [],
   "source": [
    "df.columns"
   ]
  },
  {
   "cell_type": "markdown",
   "metadata": {},
   "source": [
    "Using `.info()` method you can get a list of the columns and the type of data stored in each."
   ]
  },
  {
   "cell_type": "code",
   "execution_count": null,
   "metadata": {},
   "outputs": [],
   "source": [
    "df.info()"
   ]
  },
  {
   "cell_type": "markdown",
   "metadata": {},
   "source": [
    "You can also get some basic statistical analysis of the data using `.describe()` method."
   ]
  },
  {
   "cell_type": "code",
   "execution_count": null,
   "metadata": {},
   "outputs": [],
   "source": [
    "df.describe()"
   ]
  },
  {
   "cell_type": "markdown",
   "metadata": {},
   "source": [
    "To get a more detailed analysis of the data in the table we can use a package called `pandas-profiling`. This package extends Pandas and adds detailed reports of the data.\n",
    "\n",
    "<a href=\"./profile_qld-air-emissions.html\">If you get an error use this pre-made report</a>\n"
   ]
  },
  {
   "cell_type": "code",
   "execution_count": null,
   "metadata": {},
   "outputs": [],
   "source": [
    "# profile = pp.ProfileReport(df, title='Pandas Profiling Report')\n",
    "# profile.to_file(\"profile_qld-air-emissions.html\")\n",
    "# profile"
   ]
  },
  {
   "cell_type": "markdown",
   "metadata": {},
   "source": [
    "## Subsetting and indexing"
   ]
  },
  {
   "cell_type": "markdown",
   "metadata": {},
   "source": [
    "There are multiple ways to get a subset of the data. `loc` is used when we want to specify the names of columns and `iloc` when we want to use the index of the columns.<br>\n"
   ]
  },
  {
   "cell_type": "markdown",
   "metadata": {},
   "source": [
    "We can use `loc` by specifying the rows and columns we want by name. e.g. `df.loc[{row(s)}, {column(s) name}]`"
   ]
  },
  {
   "cell_type": "markdown",
   "metadata": {},
   "source": [
    "we can get a subset of a single column:"
   ]
  },
  {
   "cell_type": "code",
   "execution_count": null,
   "metadata": {},
   "outputs": [],
   "source": [
    "df.loc[:'Q001BOR001-S52', \"jurisdiction\"]\n",
    "\n",
    "# Notice we used :NAME for rows which means give me the rows up to NAME"
   ]
  },
  {
   "cell_type": "markdown",
   "metadata": {},
   "source": [
    "__Note:__ `loc` has a unique property. Since it is designed to work with names of columns and rows, when you want to get a subset of rows, the result it returns is inclusive. In other words when we passed in `:10` in almost every other python object that means `0` to `9`, but in `loc` it means `0` to `10`. Likewise, `10:20` in `loc` means rows `10` to `20`."
   ]
  },
  {
   "cell_type": "markdown",
   "metadata": {},
   "source": [
    "We can also get a subset of multiple columns by passing a list of columns we want."
   ]
  },
  {
   "cell_type": "code",
   "execution_count": null,
   "metadata": {},
   "outputs": [],
   "source": [
    "df.loc['Q001BOR001-S14':'Q001BOR001-S52', [\"Year\", \"facility_name\", \"substance\", \"quantity_in_kg\"]]"
   ]
  },
  {
   "cell_type": "markdown",
   "metadata": {},
   "source": [
    "`iloc` works similar to `loc`, but instead of names we pass in index of the rows or the columns we want."
   ]
  },
  {
   "cell_type": "code",
   "execution_count": null,
   "metadata": {},
   "outputs": [],
   "source": [
    "# a single column\n",
    "df.iloc[:10, 5]"
   ]
  },
  {
   "cell_type": "markdown",
   "metadata": {},
   "source": [
    "__Note:__ Notice the number of rows here, and compare it with when we used `loc`."
   ]
  },
  {
   "cell_type": "code",
   "execution_count": null,
   "metadata": {},
   "outputs": [],
   "source": [
    "# You can see the number corresponding to a column name here\n",
    "list(enumerate(df.columns))"
   ]
  },
  {
   "cell_type": "code",
   "execution_count": null,
   "metadata": {},
   "outputs": [],
   "source": [
    "# multiple columns\n",
    "df.iloc[10:20, [1, 9, -3, -1]]"
   ]
  },
  {
   "cell_type": "markdown",
   "metadata": {},
   "source": [
    "Another useful method to get a subset of data is using boolean indexing. Booleans are either True or False. If we pass a list of booleans, pandas will return only the rows with True in the list."
   ]
  },
  {
   "cell_type": "code",
   "execution_count": null,
   "metadata": {},
   "outputs": [],
   "source": [
    "mask = df[\"substance\"] == \"Oxides of Nitrogen\"\n",
    "mask"
   ]
  },
  {
   "cell_type": "markdown",
   "metadata": {},
   "source": [
    "The list above has the value true only on the rows where the substance is \"Oxides of Nitrogen\". <br>\n",
    "__Note:__ you can only see a small portion of the data so the True values might not be visible."
   ]
  },
  {
   "cell_type": "markdown",
   "metadata": {},
   "source": [
    "Now if we pass this as an index into a data frame we only get the rows where substance is \"Oxides of Nitrogen\"."
   ]
  },
  {
   "cell_type": "code",
   "execution_count": null,
   "metadata": {},
   "outputs": [],
   "source": [
    "df[mask]"
   ]
  },
  {
   "cell_type": "markdown",
   "metadata": {},
   "source": [
    "This method can also be used with `loc` and `iloc`."
   ]
  },
  {
   "cell_type": "code",
   "execution_count": null,
   "metadata": {},
   "outputs": [],
   "source": [
    "df.loc[\n",
    "    df[\"substance\"] == \"Oxides of Nitrogen\",\n",
    "    [\"facility_name\", \"substance\", \"quantity_in_kg\"],\n",
    "]"
   ]
  },
  {
   "cell_type": "markdown",
   "metadata": {},
   "source": [
    "## Sorting\n",
    "To sort the data in the table based on a certain column we can use the `.sort_values` method. When sorting we need to specify which column we want to sort and whether we want to sort in ascending order or descending order."
   ]
  },
  {
   "cell_type": "code",
   "execution_count": null,
   "metadata": {},
   "outputs": [],
   "source": [
    "df2 = df.sort_values(by=\"jurisdiction_facility_id\", ascending=False)\n",
    "df2"
   ]
  },
  {
   "cell_type": "markdown",
   "metadata": {},
   "source": [
    "__Note:__ many methods return the result as a data frame as well. This allows us to chain these operations to make the code shorter and easier to read.<br>\n",
    " "
   ]
  },
  {
   "cell_type": "markdown",
   "metadata": {},
   "source": [
    "Let's sort the table based on the amount of Oxides of Nitrogen only."
   ]
  },
  {
   "cell_type": "code",
   "execution_count": null,
   "metadata": {},
   "outputs": [],
   "source": [
    "df.loc[df[\"substance\"] == \"Oxides of Nitrogen\"].sort_values(\n",
    "    by=\"quantity_in_kg\", ascending=False\n",
    ")"
   ]
  },
  {
   "cell_type": "markdown",
   "metadata": {},
   "source": [
    "We can also sort based on multiple columns. To do so we need to pass in the name of the column in a list (in the order we want them to be used for sorting) and also a list to specify whether each column should be ascending or descending."
   ]
  },
  {
   "cell_type": "code",
   "execution_count": null,
   "metadata": {},
   "outputs": [],
   "source": [
    "df.loc[df[\"substance\"] == \"Oxides of Nitrogen\"].sort_values(\n",
    "    by=[\"site_address_postcode\", \"facility_name\"], ascending=[True, False]\n",
    ")"
   ]
  },
  {
   "cell_type": "markdown",
   "metadata": {},
   "source": [
    "## Data operations\n",
    "-merge\n",
    "-groupby\n",
    "-pivot_table\n",
    "-crosstab"
   ]
  },
  {
   "cell_type": "markdown",
   "metadata": {},
   "source": [
    "__Groupby:__ It aggregates the data into groups (similar to groupby in SQL). For instance, what if we wanted an average emission of each substance across all the sites? To calculate that we use `.groupby()` method."
   ]
  },
  {
   "cell_type": "markdown",
   "metadata": {},
   "source": [
    "Since we want the average amount of substances, the columns we need will be __substance__ and __quantity_in_kg__."
   ]
  },
  {
   "cell_type": "code",
   "execution_count": null,
   "metadata": {},
   "outputs": [],
   "source": [
    "groups = df[[\"substance\", \"quantity_in_kg\"]].groupby(by=\"substance\")\n",
    "groups"
   ]
  },
  {
   "cell_type": "code",
   "execution_count": null,
   "metadata": {},
   "outputs": [],
   "source": [
    "name, group = list(groups)[0]\n",
    "print(name)\n",
    "group"
   ]
  },
  {
   "cell_type": "markdown",
   "metadata": {},
   "source": [
    "But it doesn't show us any tables. The reason is pandas has grouped the data into `DataFrameGroupBy` object and now we need to specify how the values should be aggregated. In this case since we want the average we use `.mean()`."
   ]
  },
  {
   "cell_type": "code",
   "execution_count": null,
   "metadata": {},
   "outputs": [],
   "source": [
    "df[[\"substance\", \"quantity_in_kg\"]].groupby(by=\"substance\").mean()"
   ]
  },
  {
   "cell_type": "markdown",
   "metadata": {},
   "source": [
    "There are other useful aggregation functions such as `.std()` for standard deviation, `.median()` for median, `.count()` for the number of rows in each group, `.sum()` for sum, etc. You can also define your own aggregation function."
   ]
  },
  {
   "cell_type": "code",
   "execution_count": null,
   "metadata": {},
   "outputs": [],
   "source": [
    "agg_func = lambda x: np.sqrt((x ** 2).mean())  # root mean of squares\n",
    "df[[\"substance\", \"quantity_in_kg\"]].groupby(by=\"substance\").apply(agg_func)"
   ]
  },
  {
   "cell_type": "markdown",
   "metadata": {},
   "source": [
    "<font color='green'>Do you know how to use *__lambda__* functions? If not check out <a href = 'https://www.w3schools.com/python/python_lambda.asp'>this page</a> to learn about them.</font>"
   ]
  },
  {
   "cell_type": "markdown",
   "metadata": {},
   "source": [
    "### Pivot Table\n",
    "Another way to represent the data is using pivot tables. You might be familiar with pivot tables in Excel. You can perform the same operations here as well."
   ]
  },
  {
   "cell_type": "markdown",
   "metadata": {},
   "source": [
    "Let's create a pivot table that shows the amount of each substance in every postcode in the dataset."
   ]
  },
  {
   "cell_type": "code",
   "execution_count": null,
   "metadata": {},
   "outputs": [],
   "source": [
    "df.pivot_table(\n",
    "    index=\"site_address_postcode\",\n",
    "    columns=\"substance\",\n",
    "    values=\"quantity_in_kg\",\n",
    "    aggfunc=\"mean\",\n",
    ")"
   ]
  },
  {
   "cell_type": "markdown",
   "metadata": {},
   "source": [
    "__Note:__ `NaN` stands for Not a Number. In this case it means there was no value available for that cell. This means where you see `NaN` in the table there was no emission recorded for that substance in that specific postcode. This probably means that we can assume the emission was zero. We could let pandas know by passing in `fill_value = 0`. Then, where no value is available pandas put zero instead.\n"
   ]
  },
  {
   "cell_type": "code",
   "execution_count": null,
   "metadata": {},
   "outputs": [],
   "source": [
    "df.pivot_table(\n",
    "    index=\"site_address_postcode\",\n",
    "    columns=\"substance\",\n",
    "    values=\"quantity_in_kg\",\n",
    "    aggfunc=\"mean\",\n",
    "    fill_value=0,\n",
    ")"
   ]
  },
  {
   "cell_type": "code",
   "execution_count": null,
   "metadata": {},
   "outputs": [],
   "source": []
  },
  {
   "cell_type": "markdown",
   "metadata": {},
   "source": [
    "#### Exercise\n",
    "\n",
    "<div class=\"alert alert-success\" style=\"font-size:100%\">\n",
    "Now to practice what we have learned so far, let's create a table of the total emissions (quantity in kg) of the top 10 substances (most commonly recorded substances in the dataset) for each postcode.<br>\n",
    "    \n",
    "1. Find how many times each substance occurs `substance_count`\n",
    "2. Sort `substance_count` and find 10 most common substance `top10`\n",
    "3. Create a seperate dataframe that shows the total weight of each substance per postcode `weight_by_postcode`\n",
    "4. Combine `weight_by_postcode` and `top10` to get the weight by postcode of the top 10 substances \n",
    "    \n",
    "<details><summary>Hints</summary>\n",
    "    \n",
    "1. use groupby then count\n",
    "2. use .sort_values() then get the first 10 rows\n",
    "3. A pivot table will do this easily\n",
    "4. `weight_by_postcode[top10.index]`\n",
    "\n",
    "</details>\n",
    "<div>"
   ]
  },
  {
   "cell_type": "code",
   "execution_count": null,
   "metadata": {},
   "outputs": [],
   "source": []
  },
  {
   "cell_type": "code",
   "execution_count": null,
   "metadata": {
    "lines_to_next_cell": 0
   },
   "outputs": [],
   "source": [
    "# 1. Find how many times each substance has been recorded (this has been done for you)\n",
    "# substance_count = df[[\"site_address_postcode\", \"substance\"]].??\n",
    "\n",
    "# 2. Sort it and find the substances that have been recorded the most (this has been done for you)\n",
    "# top10 = substance_count.??\n",
    "\n",
    "# 3. Create a seperate table that shows the total weight of each substance per postcode (hint: pivot table or groupby)\n",
    "# pivot = ??\n",
    "\n",
    "# 4. Combine the tables, to get a subset which only includes the top 10 substances\n",
    "# pivot_top10 = ??"
   ]
  },
  {
   "cell_type": "code",
   "execution_count": null,
   "metadata": {
    "lines_to_next_cell": 2
   },
   "outputs": [],
   "source": []
  },
  {
   "cell_type": "markdown",
   "metadata": {},
   "source": [
    "#### Solution:"
   ]
  },
  {
   "cell_type": "markdown",
   "metadata": {},
   "source": [
    "<details>    \n",
    "<summary>\n",
    "    <font size=\"4\" color=\"darkblue\"><b>See the solution for Exercise</b></font>\n",
    "</summary>\n",
    "    \n",
    "```python\n",
    "# you can replace site_address_postcode by any other column. Since we are only counting it doesn't matter which column use.\n",
    "substance_count = df[[\"site_address_postcode\", \"substance\"]].groupby(by=\"substance\").count()\n",
    "\n",
    "# Now sort it, and take the first 10 results\n",
    "substance_count.columns = [\"Count\"] # rename column\n",
    "top10 = substance_count.sort_values(by=\"Count\", ascending=False)[:10]\n",
    "\n",
    "# Create the pivot table\n",
    "pivot = df.pivot_table(\n",
    "    index=\"site_address_postcode\",\n",
    "    columns=\"substance\",\n",
    "    values=\"quantity_in_kg\",\n",
    "    aggfunc=\"sum\",\n",
    ")\n",
    "\n",
    "# get only the columns for top 10 substances\n",
    "pivot_top10 = pivot[top10.index]\n",
    "pivot_top10\n",
    "```\n",
    "</details>"
   ]
  },
  {
   "cell_type": "code",
   "execution_count": null,
   "metadata": {},
   "outputs": [],
   "source": []
  },
  {
   "cell_type": "markdown",
   "metadata": {},
   "source": [
    "Now it's a good time to discuss dealing with missing values in a table."
   ]
  },
  {
   "cell_type": "markdown",
   "metadata": {},
   "source": [
    "## Missing Values\n",
    "There might be missing data in a table. Having `NaN` in the table can cause trouble in the analysis so we need to decide how we are going to deal with it. A few common scenarios are:\n",
    "1. filling the missing values with a number e.g. zero\n",
    "2. removing rows with missing values\n",
    "3. removeing rows with multiple missing values and filling the remaining with a new value"
   ]
  },
  {
   "cell_type": "code",
   "execution_count": null,
   "metadata": {},
   "outputs": [],
   "source": [
    "# you can replace site_address_postcode by any other column. Since we are only counting it doesn't matter which column use.\n",
    "substance_count = df[[\"site_address_postcode\", \"substance\"]].groupby(by=\"substance\").count()\n",
    "\n",
    "# Now sort it, and take the first 10 results\n",
    "substance_count.columns = [\"Count\"] # rename column\n",
    "top10 = substance_count.sort_values(by=\"Count\", ascending=False)[:10]\n",
    "\n",
    "# Create the pivot table\n",
    "pivot = df.pivot_table(\n",
    "    index=\"site_address_postcode\",\n",
    "    columns=\"substance\",\n",
    "    values=\"quantity_in_kg\",\n",
    "    aggfunc=\"sum\",\n",
    ")\n",
    "\n",
    "# get only the columns for top 10 substances\n",
    "pivot_top10 = pivot[top10.index]\n",
    "pivot_top10"
   ]
  },
  {
   "cell_type": "markdown",
   "metadata": {},
   "source": [
    "To replace the missing value with a fixed number we can use `.fillna()` method."
   ]
  },
  {
   "cell_type": "code",
   "execution_count": null,
   "metadata": {},
   "outputs": [],
   "source": [
    "dfnew = pivot_top10.fillna(value=0)\n",
    "dfnew"
   ]
  },
  {
   "cell_type": "markdown",
   "metadata": {},
   "source": [
    "__Note:__ When using `fillna` the changes are not saved in the data frame. The default settings only returns the result and keeps the original data frame intact. If you want to save the changes in the same data frame you can pass in `inplace = True`."
   ]
  },
  {
   "cell_type": "markdown",
   "metadata": {},
   "source": [
    "There are other ways to fill the missing values. In some cases you might want to use different values for each column. A common example is using mean or median of a column for the missing values."
   ]
  },
  {
   "cell_type": "code",
   "execution_count": null,
   "metadata": {},
   "outputs": [],
   "source": [
    "fill_values = pivot_top10.mean()\n",
    "dfnew = pivot_top10.fillna(value=fill_values)\n",
    "dfnew"
   ]
  },
  {
   "cell_type": "markdown",
   "metadata": {},
   "source": [
    "Pandas has other methods for filling the missing values including forward and backward filling. Forward filling replaces the missing values by the last valid value in the table and backward filling replaces the missing values by next valid value. These techniques are useful for sequential data such as time series and wouldn't make sense to be applied to tabular data.<br>\n",
    "To use these methods, when using `fillna` instead of passing in a value, you can pass a method. For forward filling pass in `method = \"ffill\"` and for backward filling pass in `method = \"bfill\"`."
   ]
  },
  {
   "cell_type": "markdown",
   "metadata": {},
   "source": [
    "If you simply want to get rid of rows with missing values you can use `.dropna()`"
   ]
  },
  {
   "cell_type": "code",
   "execution_count": null,
   "metadata": {},
   "outputs": [],
   "source": [
    "dfnew = pivot_top10.dropna()\n",
    "dfnew"
   ]
  },
  {
   "cell_type": "markdown",
   "metadata": {},
   "source": [
    "__Note:__ Notice the number of rows are much less in the table above compared to the original table."
   ]
  },
  {
   "cell_type": "markdown",
   "metadata": {},
   "source": [
    "If we remove any row that contains missing values we might lose a significant portion of the data. Alternatively, we can only remove rows which have more than a certain number of missing values. To do so, we can set a threshold."
   ]
  },
  {
   "cell_type": "code",
   "execution_count": null,
   "metadata": {},
   "outputs": [],
   "source": [
    "# remove the rows with at least 3 missing values\n",
    "dfnew = pivot_top10.dropna(thresh=3)\n",
    "dfnew"
   ]
  },
  {
   "cell_type": "markdown",
   "metadata": {},
   "source": [
    "Now we have more rows compared to when we removed all missing values.<br>\n",
    "Next step is to replace the missing values using the techniques discussed above."
   ]
  },
  {
   "cell_type": "markdown",
   "metadata": {},
   "source": [
    "## Saving Data\n",
    "After analysis and reshaping the data you might want to save the results in a file. Similar to reading files, pandas supports multiple file formats to save the tables."
   ]
  },
  {
   "cell_type": "code",
   "execution_count": null,
   "metadata": {},
   "outputs": [],
   "source": [
    "pivot_top10.to_csv(\"final_table.csv\")"
   ]
  },
  {
   "cell_type": "markdown",
   "metadata": {},
   "source": [
    "## Pandas Plotting\n",
    "Pandas dataframes have plotting methods which help to visualise the data. The following plots are supported in pandas:\n",
    "- 'line' : line plot (default)\n",
    "- 'bar' : vertical bar plot\n",
    "- 'barh' : horizontal bar plot\n",
    "- 'hist' : histogram\n",
    "- 'box' : boxplot\n",
    "- 'kde' : Kernel Density Estimation plot\n",
    "- 'density' : same as 'kde'\n",
    "- 'area' : area plot\n",
    "- 'pie' : pie plot\n",
    "- 'scatter' : scatter plot\n",
    "- 'hexbin' : hexbin plot.\n",
    "\n",
    "You can select which plot you want to use by setting `kind` to the string for the plot.<br>\n",
    "There are a few other useful options you can set:\n",
    "- xlim, ylim: to set limits of axes\n",
    "- logx, logy, loglog: to set whether an axis should be displayed in logarithmic scale]\n",
    "- title: to set the title of the plot\n",
    "- figsize: to set the size of the plot\n",
    "<br><br>Let's try a few types of charts and graphs."
   ]
  },
  {
   "cell_type": "code",
   "execution_count": null,
   "metadata": {},
   "outputs": [],
   "source": [
    "# Top 10 postcodes with largest carbon monoxide emission\n",
    "pivot_top10.sort_values(by=\"Carbon monoxide\", ascending=False)[:10].plot(\n",
    "    kind=\"barh\", y=\"Carbon monoxide\"\n",
    ")"
   ]
  },
  {
   "cell_type": "code",
   "execution_count": null,
   "metadata": {},
   "outputs": [],
   "source": [
    "# histogram of benzene emission\n",
    "pivot_top10.plot(kind=\"hist\", y=\"Benzene\", bins=50)"
   ]
  },
  {
   "cell_type": "code",
   "execution_count": null,
   "metadata": {},
   "outputs": [],
   "source": [
    "# kernel density estimation plot of benzene emission\n",
    "\n",
    "pivot_top10.plot(kind=\"kde\", y=[\"Benzene\", \"Toluene (methylbenzene)\"], logx=True)"
   ]
  },
  {
   "cell_type": "code",
   "execution_count": null,
   "metadata": {},
   "outputs": [],
   "source": [
    "# histogram of benzene emission in each postcode\n",
    "pivot_top10.plot(kind=\"box\", logy=True, rot=90)"
   ]
  },
  {
   "cell_type": "code",
   "execution_count": null,
   "metadata": {},
   "outputs": [],
   "source": [
    "pivot_top10.plot(kind=\"scatter\", x=\"Toluene (methylbenzene)\", y=\"Benzene\", loglog=True)"
   ]
  },
  {
   "cell_type": "code",
   "execution_count": null,
   "metadata": {},
   "outputs": [],
   "source": [
    "# pie chart of emission of the substances in postcode 4008\n",
    "pivot_top10.loc[4008, :].plot(kind=\"pie\", subplots=True, figsize=(10, 10))"
   ]
  },
  {
   "cell_type": "markdown",
   "metadata": {},
   "source": [
    "We will discuss producing more advanced plots in the next notebooks where we learn about various plotting packages in python."
   ]
  },
  {
   "cell_type": "markdown",
   "metadata": {},
   "source": [
    "## Further reading\n",
    "- [Pandas documentation](https://pandas.pydata.org/)\n",
    "- [Pandas in 10 minutes](https://pandas.pydata.org/pandas-docs/stable/getting_started/10min.html)\n",
    "- https://github.com/pandas-dev/pandas/blob/master/doc/cheatsheet/Pandas_Cheat_Sheet.pdf\n",
    "- https://www.kaggle.com/learn/pandas\n",
    "- https://www.kaggle.com/kashnitsky/topic-1-exploratory-data-analysis-with-pandas\n",
    "- https://www.youtube.com/watch?v=ZyhVh-qRZPA&list=PL-osiE80TeTsWmV9i9c58mdDCSskIFdDS\n"
   ]
  },
  {
   "cell_type": "code",
   "execution_count": null,
   "metadata": {},
   "outputs": [],
   "source": []
  }
 ],
 "metadata": {
  "jupytext": {
   "formats": "ipynb,py"
  },
  "kernelspec": {
   "display_name": "py37_pytorch",
   "language": "python",
   "name": "conda-env-py37_pytorch-py"
  }
 },
 "nbformat": 4,
 "nbformat_minor": 4
}
