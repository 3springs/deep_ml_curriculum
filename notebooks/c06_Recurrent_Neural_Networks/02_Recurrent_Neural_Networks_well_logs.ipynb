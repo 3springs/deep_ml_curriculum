{
 "cells": [
  {
   "cell_type": "markdown",
   "metadata": {
    "colab_type": "text",
    "id": "iALm8shtXMVK"
   },
   "source": [
    "# Recurrent Neural Networks\n",
    "\n",
    "All the models we have discussed so far were looking at the inputs as isolated instances. In image classification we determine the category of and image, in semantic segmentation we produce a semantic map from the input. But there are many cases were datapoints are not isolated instances and have connection to each other. Sequential data are the type of data where each instance is related to the instances came before. A good example for this type of data is time series data. At each point in time to the value of the time series depends on the value of the prior points. Recurrent Neural Networks (RNN) are a class of networks which deal with sequential data. There are many variants of Recurrent Neural Networks, including:\n",
    "\n",
    "- Simple Recurrect Neural Networks (Simple RNN - or often just called RNN)\n",
    "- Long Short-Term Memory (LSTM)\n",
    "- Gated Recurrent Unit (GRU)\n",
    "\n",
    "In this notebook we will discuss LSTM; however, the general logic behind all these methods are the same. They only differ in the way they handel information internally. \n",
    "<img src='./images/RNN.png'>\n",
    "<div style=\"font-size:70%\">Recurrent Neural Networks Architecture - Credit to <a href='https://journals.plos.org/plosone/article?id=10.1371/journal.pone.0180944'>Bao et al.</a></div>\n",
    "At each step a set of values are stored as state of the model ($s$). The state is updated at each step and based on the value of the state the output of the model is calculated by passing state through the output layer ($V$). Also, the model takes an input $x_t$ and passes it through an input layer ($U$), The output of this layer is combined with the state of previous step and creates the new state ($s_t$). What is important here is that the input and output layers are the same for all the sequences of data. What makes the output different at each step are the input values and state of the model. <br>\n",
    "Various architectures handel updating the state value differently and this is the main difference between Simple RNN, LSTM, and GRU. "
   ]
  },
  {
   "cell_type": "code",
   "execution_count": 1,
   "metadata": {
    "ExecuteTime": {
     "end_time": "2020-09-21T00:59:36.797972Z",
     "start_time": "2020-09-21T00:59:34.911249Z"
    }
   },
   "outputs": [],
   "source": [
    "import torch\n",
    "from torch import nn, optim\n",
    "from torch import functional as F\n",
    "from torch.autograd import Variable\n",
    "import numpy as np\n",
    "import matplotlib.pyplot as plt\n",
    "from tqdm.auto import tqdm"
   ]
  },
  {
   "cell_type": "code",
   "execution_count": 2,
   "metadata": {
    "ExecuteTime": {
     "end_time": "2020-09-21T00:59:36.810738Z",
     "start_time": "2020-09-21T00:59:36.800292Z"
    }
   },
   "outputs": [],
   "source": [
    "# TODO use just seq(LSTM, linear)\n",
    "\n",
    "class LSTM(nn.Module):\n",
    "    def __init__(self, input_size, hidden_size, num_layers, output_size=1):\n",
    "        super(LSTM, self).__init__()\n",
    "        self.num_layers = num_layers\n",
    "        self.input_size = input_size\n",
    "        self.hidden_size = hidden_size\n",
    "        self.seq_length = seq_length\n",
    "        self.lstm = nn.LSTM(\n",
    "            input_size=input_size,\n",
    "            hidden_size=hidden_size,\n",
    "            num_layers=num_layers,\n",
    "            batch_first=True,\n",
    "        )\n",
    "        self.linear = nn.Linear(hidden_size, output_size)\n",
    "\n",
    "    def forward(self, x):\n",
    "        device = next(iter(self.parameters())).device\n",
    "        h_0 = Variable(torch.zeros(self.num_layers, x.size(0), self.hidden_size)).to(device)\n",
    "        c_0 = Variable(torch.zeros(self.num_layers, x.size(0), self.hidden_size)).to(device)\n",
    "        output, (h_n, c_n) = self.lstm(x, (h_0, c_0))\n",
    "        h_n = h_n.view(-1, self.num_layers, self.hidden_size)[:, -1]\n",
    "        out = self.linear(h_n)\n",
    "        return out"
   ]
  },
  {
   "cell_type": "markdown",
   "metadata": {
    "colab_type": "text",
    "id": "vaL6j3pkCen3"
   },
   "source": [
    "## Classification\n",
    "So far we tried single and multivariate time series using LSTM. But LSTMs are very flexible and useful for wide range of problems. For instance, we can have multi input and single output, or use a series to predict an entire different series. We can also use LSTM for classification of time series. What makes LSTM (or other types of Recurrecnt Neural Networks) interesting is that they are not just useful for time series. They can be used for any data that has sequence of values. For instance, they can be used for text prediction. If we map every word to a number then you can turn a text into a series of numbers then LSTM can be used for predicting the next word.\n"
   ]
  },
  {
   "cell_type": "markdown",
   "metadata": {
    "colab_type": "text",
    "id": "kzlqXAj4EIBN"
   },
   "source": [
    "In this example we are going to look at well logs which are sequential data as well."
   ]
  },
  {
   "cell_type": "code",
   "execution_count": 3,
   "metadata": {
    "ExecuteTime": {
     "end_time": "2020-09-21T00:59:41.331319Z",
     "start_time": "2020-09-21T00:59:36.812960Z"
    },
    "colab": {
     "base_uri": "https://localhost:8080/",
     "height": 255
    },
    "colab_type": "code",
    "id": "uNl846nE-jjq",
    "outputId": "de7b4197-6a3f-4e88-e07e-2463adba90d0"
   },
   "outputs": [
    {
     "data": {
      "text/html": [
       "<div>\n",
       "<style scoped>\n",
       "    .dataframe tbody tr th:only-of-type {\n",
       "        vertical-align: middle;\n",
       "    }\n",
       "\n",
       "    .dataframe tbody tr th {\n",
       "        vertical-align: top;\n",
       "    }\n",
       "\n",
       "    .dataframe thead th {\n",
       "        text-align: right;\n",
       "    }\n",
       "</style>\n",
       "<table border=\"1\" class=\"dataframe\">\n",
       "  <thead>\n",
       "    <tr style=\"text-align: right;\">\n",
       "      <th></th>\n",
       "      <th></th>\n",
       "      <th>LITHOLOGY_GEOLINK</th>\n",
       "      <th>CALI</th>\n",
       "      <th>RHOB</th>\n",
       "      <th>GR</th>\n",
       "      <th>DTC</th>\n",
       "      <th>RDEP</th>\n",
       "      <th>RMED</th>\n",
       "      <th>Well</th>\n",
       "      <th>DEPT</th>\n",
       "    </tr>\n",
       "    <tr>\n",
       "      <th>Well</th>\n",
       "      <th>DEPT</th>\n",
       "      <th></th>\n",
       "      <th></th>\n",
       "      <th></th>\n",
       "      <th></th>\n",
       "      <th></th>\n",
       "      <th></th>\n",
       "      <th></th>\n",
       "      <th></th>\n",
       "      <th></th>\n",
       "    </tr>\n",
       "  </thead>\n",
       "  <tbody>\n",
       "    <tr>\n",
       "      <th rowspan=\"5\" valign=\"top\">15_9-12</th>\n",
       "      <th>2215.917725</th>\n",
       "      <td>Shaly Silt</td>\n",
       "      <td>14.438001</td>\n",
       "      <td>2.363</td>\n",
       "      <td>60.285748</td>\n",
       "      <td>134.253601</td>\n",
       "      <td>0.737006</td>\n",
       "      <td>0.785088</td>\n",
       "      <td>15_9-12</td>\n",
       "      <td>2215.917725</td>\n",
       "    </tr>\n",
       "    <tr>\n",
       "      <th>2216.070068</th>\n",
       "      <td>Shaly Silt</td>\n",
       "      <td>14.633000</td>\n",
       "      <td>2.340</td>\n",
       "      <td>63.250000</td>\n",
       "      <td>129.101868</td>\n",
       "      <td>0.741000</td>\n",
       "      <td>0.840000</td>\n",
       "      <td>15_9-12</td>\n",
       "      <td>2216.070068</td>\n",
       "    </tr>\n",
       "    <tr>\n",
       "      <th>2216.222412</th>\n",
       "      <td>Shaly Silt</td>\n",
       "      <td>14.813001</td>\n",
       "      <td>2.314</td>\n",
       "      <td>61.405998</td>\n",
       "      <td>122.476944</td>\n",
       "      <td>0.752000</td>\n",
       "      <td>0.858000</td>\n",
       "      <td>15_9-12</td>\n",
       "      <td>2216.222412</td>\n",
       "    </tr>\n",
       "    <tr>\n",
       "      <th>2216.375000</th>\n",
       "      <td>Shaly Silt</td>\n",
       "      <td>14.383001</td>\n",
       "      <td>2.293</td>\n",
       "      <td>62.561596</td>\n",
       "      <td>116.908607</td>\n",
       "      <td>0.739962</td>\n",
       "      <td>0.857046</td>\n",
       "      <td>15_9-12</td>\n",
       "      <td>2216.375000</td>\n",
       "    </tr>\n",
       "    <tr>\n",
       "      <th>2216.527344</th>\n",
       "      <td>Shaly Silt</td>\n",
       "      <td>14.202999</td>\n",
       "      <td>2.275</td>\n",
       "      <td>61.691055</td>\n",
       "      <td>115.390953</td>\n",
       "      <td>0.715966</td>\n",
       "      <td>0.886082</td>\n",
       "      <td>15_9-12</td>\n",
       "      <td>2216.527344</td>\n",
       "    </tr>\n",
       "  </tbody>\n",
       "</table>\n",
       "</div>"
      ],
      "text/plain": [
       "                    LITHOLOGY_GEOLINK       CALI   RHOB         GR  \\\n",
       "Well    DEPT                                                         \n",
       "15_9-12 2215.917725        Shaly Silt  14.438001  2.363  60.285748   \n",
       "        2216.070068        Shaly Silt  14.633000  2.340  63.250000   \n",
       "        2216.222412        Shaly Silt  14.813001  2.314  61.405998   \n",
       "        2216.375000        Shaly Silt  14.383001  2.293  62.561596   \n",
       "        2216.527344        Shaly Silt  14.202999  2.275  61.691055   \n",
       "\n",
       "                            DTC      RDEP      RMED     Well         DEPT  \n",
       "Well    DEPT                                                               \n",
       "15_9-12 2215.917725  134.253601  0.737006  0.785088  15_9-12  2215.917725  \n",
       "        2216.070068  129.101868  0.741000  0.840000  15_9-12  2216.070068  \n",
       "        2216.222412  122.476944  0.752000  0.858000  15_9-12  2216.222412  \n",
       "        2216.375000  116.908607  0.739962  0.857046  15_9-12  2216.375000  \n",
       "        2216.527344  115.390953  0.715966  0.886082  15_9-12  2216.527344  "
      ]
     },
     "execution_count": 3,
     "metadata": {},
     "output_type": "execute_result"
    }
   ],
   "source": [
    "import pandas as pd\n",
    "\n",
    "df = pd.read_parquet(\n",
    "    \"../../data/processed/geolink_norge_dataset/geolink_norge_well_logs_train.parquet\"\n",
    ").set_index([\"Well\", \"DEPT\"])\n",
    "df['Well'] = df.index.get_level_values(0)\n",
    "df['DEPT'] = df.index.get_level_values(1)\n",
    "df.head()"
   ]
  },
  {
   "cell_type": "code",
   "execution_count": 4,
   "metadata": {
    "ExecuteTime": {
     "end_time": "2020-09-21T00:59:41.337283Z",
     "start_time": "2020-09-21T00:59:41.333892Z"
    }
   },
   "outputs": [],
   "source": [
    "# 29, 30, 31, 35 are valid groups\n",
    "# c=df['Well'].value_counts()\n",
    "# c[c>10000].sort_index()"
   ]
  },
  {
   "cell_type": "code",
   "execution_count": 5,
   "metadata": {
    "ExecuteTime": {
     "end_time": "2020-09-21T00:59:41.445957Z",
     "start_time": "2020-09-21T00:59:41.339338Z"
    }
   },
   "outputs": [
    {
     "data": {
      "text/plain": [
       "30_4-1      22921\n",
       "30_7-7      18645\n",
       "30_6-11     15591\n",
       "30_2-1      15425\n",
       "30_11-3     12813\n",
       "30_3-2 R    10871\n",
       "30_6-8      10792\n",
       "30_6-5      10710\n",
       "30_3-4 R    10457\n",
       "30_3-3      10046\n",
       "30_6-23      8101\n",
       "30_6-14      6968\n",
       "30_4-2       6927\n",
       "30_3-5 S     4140\n",
       "30_6-22      3580\n",
       "Name: Well, dtype: int64"
      ]
     },
     "execution_count": 5,
     "metadata": {},
     "output_type": "execute_result"
    }
   ],
   "source": [
    "# We  will stick to a gorup of long wells 29, 30, 31, 35 are valid groups\n",
    "df=df[df['Well'].str.startswith('30')]\n",
    "counts = df['Well'].value_counts()\n",
    "counts[counts>0]"
   ]
  },
  {
   "cell_type": "code",
   "execution_count": null,
   "metadata": {
    "ExecuteTime": {
     "end_time": "2020-09-19T05:06:21.803115Z",
     "start_time": "2020-09-19T05:06:21.799047Z"
    }
   },
   "outputs": [],
   "source": []
  },
  {
   "cell_type": "code",
   "execution_count": 6,
   "metadata": {
    "ExecuteTime": {
     "end_time": "2020-09-21T00:59:41.471819Z",
     "start_time": "2020-09-21T00:59:41.448144Z"
    }
   },
   "outputs": [
    {
     "name": "stdout",
     "output_type": "stream",
     "text": [
      "Marlstone                 42085\n",
      "Shaly Silt                42070\n",
      "Silt                      37004\n",
      "Argillaceous Limestone    12180\n",
      "Cross Bedded Sst          10124\n",
      "Silty Shale                7348\n",
      "Silty Sand                 5605\n",
      "Cinerite                   3808\n",
      "Limestone                  3650\n",
      "Sandstone                  1796\n",
      "Calcareous Cement          1382\n",
      "Coal                        935\n",
      "Volcanic Tuff                 0\n",
      "Carnallite                    0\n",
      "Chalk                         0\n",
      "Conglomerate                  0\n",
      "Kaïnite                       0\n",
      "Dolomite                      0\n",
      "Gap                           0\n",
      "Halite                        0\n",
      "Metamorphic Rock              0\n",
      "Plutonic Rock                 0\n",
      "Polyhalite                    0\n",
      "Porous Limestone              0\n",
      "Sandy Silt                    0\n",
      "Anhydrite                     0\n",
      "Name: LITHOLOGY_GEOLINK, dtype: int64\n",
      "removed_labels CategoricalIndex(['Volcanic Tuff', 'Carnallite', 'Chalk', 'Conglomerate',\n",
      "                  'Kaïnite', 'Dolomite', 'Gap', 'Halite', 'Metamorphic Rock',\n",
      "                  'Plutonic Rock', 'Polyhalite', 'Porous Limestone',\n",
      "                  'Sandy Silt', 'Anhydrite'],\n",
      "                 categories=['Anhydrite', 'Argillaceous Limestone', 'Calcareous Cement', 'Carnallite', 'Chalk', 'Cinerite', 'Coal', 'Conglomerate', ...], ordered=False, dtype='category')\n"
     ]
    },
    {
     "data": {
      "text/plain": [
       "Marlstone                 42085\n",
       "Shaly Silt                42070\n",
       "Silt                      37004\n",
       "Argillaceous Limestone    12180\n",
       "Cross Bedded Sst          10124\n",
       "Silty Shale                7348\n",
       "Silty Sand                 5605\n",
       "Cinerite                   3808\n",
       "Limestone                  3650\n",
       "Sandstone                  1796\n",
       "Calcareous Cement          1382\n",
       "Coal                        935\n",
       "rare                          0\n",
       "Name: LITHOLOGY_GEOLINK, dtype: int64"
      ]
     },
     "execution_count": 6,
     "metadata": {},
     "output_type": "execute_result"
    }
   ],
   "source": [
    "# Let take the top 12 lithologies, replacing the rest with \"rare\"\n",
    "# print(len(df))\n",
    "removed_labels = df[\"LITHOLOGY_GEOLINK\"].value_counts()[12:].index\n",
    "print(df['LITHOLOGY_GEOLINK'].value_counts())\n",
    "print('removed_labels', removed_labels)\n",
    "l = df[\"LITHOLOGY_GEOLINK\"].values.remove_categories(removed_labels)\n",
    "df['LITHOLOGY_GEOLINK']  = l.add_categories('rare').fillna('rare')\n",
    "df['LITHOLOGY_GEOLINK'].value_counts()"
   ]
  },
  {
   "cell_type": "code",
   "execution_count": 7,
   "metadata": {
    "ExecuteTime": {
     "end_time": "2020-09-21T00:59:41.488735Z",
     "start_time": "2020-09-21T00:59:41.474388Z"
    }
   },
   "outputs": [
    {
     "data": {
      "text/plain": [
       "[], Categories (12, object): ['Argillaceous Limestone', 'Calcareous Cement', 'Cinerite', 'Coal', ..., 'Shaly Silt', 'Silt', 'Silty Sand', 'Silty Shale']"
      ]
     },
     "execution_count": 7,
     "metadata": {},
     "output_type": "execute_result"
    }
   ],
   "source": [
    "removed_labels = list(df[\"LITHOLOGY_GEOLINK\"].value_counts()[12:].keys())\n",
    "i = df[\"LITHOLOGY_GEOLINK\"].values.remove_categories(removed_labels)\n",
    "i[i.isna()]"
   ]
  },
  {
   "cell_type": "code",
   "execution_count": null,
   "metadata": {
    "ExecuteTime": {
     "end_time": "2020-09-19T05:02:08.929800Z",
     "start_time": "2020-09-19T05:02:08.912381Z"
    }
   },
   "outputs": [],
   "source": []
  },
  {
   "cell_type": "code",
   "execution_count": 8,
   "metadata": {
    "ExecuteTime": {
     "end_time": "2020-09-21T00:59:41.501378Z",
     "start_time": "2020-09-21T00:59:41.492673Z"
    }
   },
   "outputs": [
    {
     "data": {
      "text/plain": [
       "['Silt', 'Silt', 'Silt', 'Silt', 'Silt', ..., 'Silt', 'Silt', 'Silt', 'Silt', 'Silt']\n",
       "Length: 167987\n",
       "Categories (13, object): ['Argillaceous Limestone', 'Calcareous Cement', 'Cinerite', 'Coal', ..., 'Silt', 'Silty Sand', 'Silty Shale', 'rare']"
      ]
     },
     "execution_count": 8,
     "metadata": {},
     "output_type": "execute_result"
    }
   ],
   "source": [
    "df[\"LITHOLOGY_GEOLINK\"].values"
   ]
  },
  {
   "cell_type": "code",
   "execution_count": 9,
   "metadata": {
    "ExecuteTime": {
     "end_time": "2020-09-21T00:59:41.514167Z",
     "start_time": "2020-09-21T00:59:41.504605Z"
    }
   },
   "outputs": [
    {
     "data": {
      "text/plain": [
       "Series([], Name: LITHOLOGY_GEOLINK, dtype: category\n",
       "Categories (13, object): ['Argillaceous Limestone', 'Calcareous Cement', 'Cinerite', 'Coal', ..., 'Silt', 'Silty Sand', 'Silty Shale', 'rare'])"
      ]
     },
     "execution_count": 9,
     "metadata": {},
     "output_type": "execute_result"
    }
   ],
   "source": [
    "l = df['LITHOLOGY_GEOLINK']\n",
    "l[l.isna()]"
   ]
  },
  {
   "cell_type": "code",
   "execution_count": 10,
   "metadata": {
    "ExecuteTime": {
     "end_time": "2020-09-21T00:59:41.540874Z",
     "start_time": "2020-09-21T00:59:41.516354Z"
    }
   },
   "outputs": [
    {
     "data": {
      "text/plain": [
       "Index(['Coal', 'Calcareous Cement', 'Sandstone', 'Limestone', 'Cinerite',\n",
       "       'Silty Sand', 'Silty Shale', 'Cross Bedded Sst',\n",
       "       'Argillaceous Limestone', 'Silt', 'Shaly Silt', 'Marlstone'],\n",
       "      dtype='object')"
      ]
     },
     "execution_count": 10,
     "metadata": {},
     "output_type": "execute_result"
    }
   ],
   "source": [
    "# Remove unused categories, and order\n",
    "df['LITHOLOGY_GEOLINK'] = df['LITHOLOGY_GEOLINK'].values.remove_unused_categories()\n",
    "\n",
    "# sort categories (leads to nicer histograms)\n",
    "i = df['LITHOLOGY_GEOLINK'].values\n",
    "litho_sorted = i.value_counts().sort_values(ascending=True).index\n",
    "df['LITHOLOGY_GEOLINK'] = i.reorder_categories(list(litho_sorted), ordered=True)\n",
    "\n",
    "df['LITHOLOGY_GEOLINK'].values.categories"
   ]
  },
  {
   "cell_type": "code",
   "execution_count": 11,
   "metadata": {
    "ExecuteTime": {
     "end_time": "2020-09-21T00:59:41.966180Z",
     "start_time": "2020-09-21T00:59:41.543151Z"
    }
   },
   "outputs": [
    {
     "data": {
      "text/plain": [
       "Marlstone                 42085\n",
       "Shaly Silt                42070\n",
       "Silt                      37004\n",
       "Argillaceous Limestone    12180\n",
       "Cross Bedded Sst          10124\n",
       "Silty Shale                7348\n",
       "Silty Sand                 5605\n",
       "Cinerite                   3808\n",
       "Limestone                  3650\n",
       "Sandstone                  1796\n",
       "Calcareous Cement          1382\n",
       "Coal                        935\n",
       "Name: LITHOLOGY_GEOLINK, dtype: int64"
      ]
     },
     "execution_count": 11,
     "metadata": {},
     "output_type": "execute_result"
    },
    {
     "data": {
      "image/png": "[encoded data removed]",
      "text/plain": [
       "<Figure size 432x288 with 1 Axes>"
      ]
     },
     "metadata": {
      "needs_background": "light"
     },
     "output_type": "display_data"
    }
   ],
   "source": [
    "df['LITHOLOGY_GEOLINK'].value_counts().plot.bar()\n",
    "df['LITHOLOGY_GEOLINK'].value_counts()"
   ]
  },
  {
   "cell_type": "code",
   "execution_count": null,
   "metadata": {
    "ExecuteTime": {
     "end_time": "2020-09-19T03:33:37.824824Z",
     "start_time": "2020-09-19T03:33:37.480555Z"
    }
   },
   "outputs": [],
   "source": []
  },
  {
   "cell_type": "code",
   "execution_count": 12,
   "metadata": {
    "ExecuteTime": {
     "end_time": "2020-09-21T00:59:41.997325Z",
     "start_time": "2020-09-21T00:59:41.970390Z"
    }
   },
   "outputs": [
    {
     "data": {
      "text/html": [
       "<div>\n",
       "<style scoped>\n",
       "    .dataframe tbody tr th:only-of-type {\n",
       "        vertical-align: middle;\n",
       "    }\n",
       "\n",
       "    .dataframe tbody tr th {\n",
       "        vertical-align: top;\n",
       "    }\n",
       "\n",
       "    .dataframe thead th {\n",
       "        text-align: right;\n",
       "    }\n",
       "</style>\n",
       "<table border=\"1\" class=\"dataframe\">\n",
       "  <thead>\n",
       "    <tr style=\"text-align: right;\">\n",
       "      <th></th>\n",
       "      <th></th>\n",
       "      <th>Well_int</th>\n",
       "    </tr>\n",
       "    <tr>\n",
       "      <th>Well</th>\n",
       "      <th>DEPT</th>\n",
       "      <th></th>\n",
       "    </tr>\n",
       "  </thead>\n",
       "  <tbody>\n",
       "    <tr>\n",
       "      <th rowspan=\"5\" valign=\"top\">30_11-3</th>\n",
       "      <th>2118.744629</th>\n",
       "      <td>83</td>\n",
       "    </tr>\n",
       "    <tr>\n",
       "      <th>2118.896973</th>\n",
       "      <td>83</td>\n",
       "    </tr>\n",
       "    <tr>\n",
       "      <th>2119.049561</th>\n",
       "      <td>83</td>\n",
       "    </tr>\n",
       "    <tr>\n",
       "      <th>2119.201904</th>\n",
       "      <td>83</td>\n",
       "    </tr>\n",
       "    <tr>\n",
       "      <th>2119.354248</th>\n",
       "      <td>83</td>\n",
       "    </tr>\n",
       "    <tr>\n",
       "      <th>...</th>\n",
       "      <th>...</th>\n",
       "      <td>...</td>\n",
       "    </tr>\n",
       "    <tr>\n",
       "      <th rowspan=\"5\" valign=\"top\">30_7-7</th>\n",
       "      <th>5022.021484</th>\n",
       "      <td>99</td>\n",
       "    </tr>\n",
       "    <tr>\n",
       "      <th>5022.173828</th>\n",
       "      <td>99</td>\n",
       "    </tr>\n",
       "    <tr>\n",
       "      <th>5022.326660</th>\n",
       "      <td>99</td>\n",
       "    </tr>\n",
       "    <tr>\n",
       "      <th>5022.479004</th>\n",
       "      <td>99</td>\n",
       "    </tr>\n",
       "    <tr>\n",
       "      <th>5022.631348</th>\n",
       "      <td>99</td>\n",
       "    </tr>\n",
       "  </tbody>\n",
       "</table>\n",
       "<p>167987 rows × 1 columns</p>\n",
       "</div>"
      ],
      "text/plain": [
       "                     Well_int\n",
       "Well    DEPT                 \n",
       "30_11-3 2118.744629        83\n",
       "        2118.896973        83\n",
       "        2119.049561        83\n",
       "        2119.201904        83\n",
       "        2119.354248        83\n",
       "...                       ...\n",
       "30_7-7  5022.021484        99\n",
       "        5022.173828        99\n",
       "        5022.326660        99\n",
       "        5022.479004        99\n",
       "        5022.631348        99\n",
       "\n",
       "[167987 rows x 1 columns]"
      ]
     },
     "execution_count": 12,
     "metadata": {},
     "output_type": "execute_result"
    }
   ],
   "source": [
    "# Add a well int, so the model will know what well we use\n",
    "well_index = df.index.get_level_values(0)\n",
    "well_int = well_index.rename_categories(range(len(well_index.categories))).astype(int)\n",
    "df['Well_int']= well_int\n",
    "df[['Well_int']]"
   ]
  },
  {
   "cell_type": "code",
   "execution_count": 13,
   "metadata": {
    "ExecuteTime": {
     "end_time": "2020-09-21T00:59:42.285658Z",
     "start_time": "2020-09-21T00:59:41.999179Z"
    },
    "colab": {
     "base_uri": "https://localhost:8080/",
     "height": 343
    },
    "colab_type": "code",
    "id": "v4wy8aXrFkoK",
    "outputId": "7fa90839-9af9-4d7f-e427-e1b214740312"
   },
   "outputs": [
    {
     "data": {
      "text/plain": [
       "1"
      ]
     },
     "execution_count": 13,
     "metadata": {},
     "output_type": "execute_result"
    },
    {
     "data": {
      "image/png": "[encoded data removed]",
      "text/plain": [
       "<Figure size 432x288 with 1 Axes>"
      ]
     },
     "metadata": {
      "needs_background": "light"
     },
     "output_type": "display_data"
    }
   ],
   "source": [
    "# Get a list of wells, ordered by frequency\n",
    "well_counts = df['Well'].value_counts()\n",
    "well_counts = well_counts[well_counts>0]\n",
    "wells = list(well_counts.index)\n",
    "well_counts.plot.bar()\n",
    "1\n",
    "# well_counts"
   ]
  },
  {
   "cell_type": "code",
   "execution_count": 14,
   "metadata": {
    "ExecuteTime": {
     "end_time": "2020-09-21T00:59:42.309706Z",
     "start_time": "2020-09-21T00:59:42.287721Z"
    }
   },
   "outputs": [],
   "source": [
    "# Select the N longest well logs\n",
    "n_wells = min(len(wells), 10)\n",
    "selected_wells = wells[:n_wells]\n",
    "df = df.loc[selected_wells]\n",
    "# df"
   ]
  },
  {
   "cell_type": "code",
   "execution_count": null,
   "metadata": {
    "ExecuteTime": {
     "end_time": "2020-09-19T03:43:41.358083Z",
     "start_time": "2020-09-19T03:43:41.331403Z"
    }
   },
   "outputs": [],
   "source": []
  },
  {
   "cell_type": "code",
   "execution_count": 15,
   "metadata": {
    "ExecuteTime": {
     "end_time": "2020-09-21T00:59:42.341394Z",
     "start_time": "2020-09-21T00:59:42.311563Z"
    }
   },
   "outputs": [
    {
     "data": {
      "text/html": [
       "<div>\n",
       "<style scoped>\n",
       "    .dataframe tbody tr th:only-of-type {\n",
       "        vertical-align: middle;\n",
       "    }\n",
       "\n",
       "    .dataframe tbody tr th {\n",
       "        vertical-align: top;\n",
       "    }\n",
       "\n",
       "    .dataframe thead th {\n",
       "        text-align: right;\n",
       "    }\n",
       "</style>\n",
       "<table border=\"1\" class=\"dataframe\">\n",
       "  <thead>\n",
       "    <tr style=\"text-align: right;\">\n",
       "      <th></th>\n",
       "      <th></th>\n",
       "      <th>LITHOLOGY_GEOLINK</th>\n",
       "      <th>LITH_ABV</th>\n",
       "    </tr>\n",
       "    <tr>\n",
       "      <th>Well</th>\n",
       "      <th>DEPT</th>\n",
       "      <th></th>\n",
       "      <th></th>\n",
       "    </tr>\n",
       "  </thead>\n",
       "  <tbody>\n",
       "    <tr>\n",
       "      <th rowspan=\"5\" valign=\"top\">30_4-1</th>\n",
       "      <th>1908.267822</th>\n",
       "      <td>Shaly Silt</td>\n",
       "      <td>Shaly Silt</td>\n",
       "    </tr>\n",
       "    <tr>\n",
       "      <th>1908.420166</th>\n",
       "      <td>Shaly Silt</td>\n",
       "      <td>Shaly Silt</td>\n",
       "    </tr>\n",
       "    <tr>\n",
       "      <th>1908.572510</th>\n",
       "      <td>Shaly Silt</td>\n",
       "      <td>Shaly Silt</td>\n",
       "    </tr>\n",
       "    <tr>\n",
       "      <th>1908.724976</th>\n",
       "      <td>Shaly Silt</td>\n",
       "      <td>Shaly Silt</td>\n",
       "    </tr>\n",
       "    <tr>\n",
       "      <th>1908.877319</th>\n",
       "      <td>Shaly Silt</td>\n",
       "      <td>Shaly Silt</td>\n",
       "    </tr>\n",
       "    <tr>\n",
       "      <th>...</th>\n",
       "      <th>...</th>\n",
       "      <td>...</td>\n",
       "      <td>...</td>\n",
       "    </tr>\n",
       "    <tr>\n",
       "      <th rowspan=\"5\" valign=\"top\">30_3-3</th>\n",
       "      <th>3414.269287</th>\n",
       "      <td>Cross Bedded Sst</td>\n",
       "      <td>Cross Bedded Sst</td>\n",
       "    </tr>\n",
       "    <tr>\n",
       "      <th>3414.421387</th>\n",
       "      <td>Cross Bedded Sst</td>\n",
       "      <td>Cross Bedded Sst</td>\n",
       "    </tr>\n",
       "    <tr>\n",
       "      <th>3414.573730</th>\n",
       "      <td>Cross Bedded Sst</td>\n",
       "      <td>Cross Bedded Sst</td>\n",
       "    </tr>\n",
       "    <tr>\n",
       "      <th>3414.726074</th>\n",
       "      <td>Cross Bedded Sst</td>\n",
       "      <td>Cross Bedded Sst</td>\n",
       "    </tr>\n",
       "    <tr>\n",
       "      <th>3414.878662</th>\n",
       "      <td>Cross Bedded Sst</td>\n",
       "      <td>Cross Bedded Sst</td>\n",
       "    </tr>\n",
       "  </tbody>\n",
       "</table>\n",
       "<p>138271 rows × 2 columns</p>\n",
       "</div>"
      ],
      "text/plain": [
       "                   LITHOLOGY_GEOLINK          LITH_ABV\n",
       "Well   DEPT                                           \n",
       "30_4-1 1908.267822        Shaly Silt        Shaly Silt\n",
       "       1908.420166        Shaly Silt        Shaly Silt\n",
       "       1908.572510        Shaly Silt        Shaly Silt\n",
       "       1908.724976        Shaly Silt        Shaly Silt\n",
       "       1908.877319        Shaly Silt        Shaly Silt\n",
       "...                              ...               ...\n",
       "30_3-3 3414.269287  Cross Bedded Sst  Cross Bedded Sst\n",
       "       3414.421387  Cross Bedded Sst  Cross Bedded Sst\n",
       "       3414.573730  Cross Bedded Sst  Cross Bedded Sst\n",
       "       3414.726074  Cross Bedded Sst  Cross Bedded Sst\n",
       "       3414.878662  Cross Bedded Sst  Cross Bedded Sst\n",
       "\n",
       "[138271 rows x 2 columns]"
      ]
     },
     "execution_count": 15,
     "metadata": {},
     "output_type": "execute_result"
    }
   ],
   "source": [
    "df['LITH_ABV'] = df[\"LITHOLOGY_GEOLINK\"].shift().fillna('Shaly Silt')\n",
    "df['LITH_ABV_INT'] = df['LITH_ABV'].values.codes\n",
    "df[['LITHOLOGY_GEOLINK', 'LITH_ABV']]"
   ]
  },
  {
   "cell_type": "code",
   "execution_count": null,
   "metadata": {
    "ExecuteTime": {
     "end_time": "2020-09-19T04:48:21.657302Z",
     "start_time": "2020-09-19T04:48:21.650628Z"
    }
   },
   "outputs": [],
   "source": []
  },
  {
   "cell_type": "code",
   "execution_count": 16,
   "metadata": {
    "ExecuteTime": {
     "end_time": "2020-09-21T00:59:43.738446Z",
     "start_time": "2020-09-21T00:59:42.342941Z"
    },
    "scrolled": true
   },
   "outputs": [
    {
     "name": "stdout",
     "output_type": "stream",
     "text": [
      "train (68626, 13) test (69643, 13)\n",
      "Train 50%, test 50%\n"
     ]
    }
   ],
   "source": [
    "# SPLIT: We will train on measurements above Xkm depth, and test on deeper ones\n",
    "from functools import partial\n",
    "\n",
    "def get_depth_thresh(x, even_bottom=True):\n",
    "    \"\"\"\n",
    "    On even number well codes take the bottom of the well for trainin\n",
    "    \"\"\"\n",
    "    if len(x)==0: return x\n",
    "    \n",
    "    # if the well code is even take the top \n",
    "    code_is_even = (x['Well'].values.codes[0]%2)==0\n",
    "    if code_is_even:\n",
    "        even_bottom = not even_bottom\n",
    "    \n",
    "    d = x['DEPT']\n",
    "    thresh = np.round(d.mean())\n",
    "    x['thresh'] = thresh\n",
    "    if even_bottom:\n",
    "        return x[d>thresh]\n",
    "    else:\n",
    "        return x[d<thresh]\n",
    "\n",
    "\n",
    "df_test = df.groupby(level=0).apply(partial(get_depth_thresh, even_bottom=False))\n",
    "df_train = df.groupby(level=0).apply(partial(get_depth_thresh, even_bottom=True))\n",
    "print('train', df_train.shape, 'test', df_test.shape)\n",
    "print(f'Train {len(df_train)/len(df):.0%}, test {len(df_test)/len(df):.0%}')"
   ]
  },
  {
   "cell_type": "code",
   "execution_count": 17,
   "metadata": {
    "ExecuteTime": {
     "end_time": "2020-09-21T00:59:43.900364Z",
     "start_time": "2020-09-21T00:59:43.740424Z"
    }
   },
   "outputs": [
    {
     "name": "stdout",
     "output_type": "stream",
     "text": [
      "train (69135, 12) test (69136, 12)\n",
      "Train 50%, test 50%\n"
     ]
    }
   ],
   "source": [
    "train = []\n",
    "test = []\n",
    "for i, well in enumerate(selected_wells):\n",
    "    df_well = df.loc[well]\n",
    "    df_well.name = well\n",
    "    i_halfway = int(len(df_well)*0.5)\n",
    "    df_top = df_well.iloc[:i_halfway]\n",
    "    df_bottom = df_well.iloc[i_halfway:]\n",
    "    if i%2==0:\n",
    "        train.append(df_top)\n",
    "        test.append(df_bottom)\n",
    "    else:\n",
    "        train.append(df_bottom)\n",
    "        test.append(df_top)\n",
    "        \n",
    "df_test = pd.concat(test).set_index(['Well', 'DEPT'], drop=False)\n",
    "df_train = pd.concat(train).set_index(['Well', 'DEPT'], drop=False)\n",
    "print('train', df_train.shape, 'test', df_test.shape)\n",
    "print(f'Train {len(df_train)/len(df):.0%}, test {len(df_test)/len(df):.0%}')"
   ]
  },
  {
   "cell_type": "code",
   "execution_count": 18,
   "metadata": {
    "ExecuteTime": {
     "end_time": "2020-09-21T00:59:44.059188Z",
     "start_time": "2020-09-21T00:59:43.902663Z"
    }
   },
   "outputs": [],
   "source": [
    "a=set(df_train.index)\n",
    "b=set(df_test.index)\n",
    "assert len(a.intersection(b))==0"
   ]
  },
  {
   "cell_type": "markdown",
   "metadata": {},
   "source": [
    "We will be using depth and other measurements to determine the lithology. We dealt with the same problem in the tablular data. But in tabular data we only look at the measurements at each depth to find the class, while here we can look at the variations in the measurements as well."
   ]
  },
  {
   "cell_type": "markdown",
   "metadata": {},
   "source": [
    "And add depth as a feature column:"
   ]
  },
  {
   "cell_type": "markdown",
   "metadata": {},
   "source": [
    "As usual we need to create a training and test set. here we will only use `15` wells for training and `15` for testing as using the entire dataset means we need to spend much longer time for training."
   ]
  },
  {
   "cell_type": "code",
   "execution_count": null,
   "metadata": {
    "ExecuteTime": {
     "end_time": "2020-09-19T00:29:31.535487Z",
     "start_time": "2020-09-19T00:29:31.383687Z"
    },
    "scrolled": true
   },
   "outputs": [],
   "source": []
  },
  {
   "cell_type": "markdown",
   "metadata": {},
   "source": [
    "We need to process the input and target data. The input data needs to be normalised with a standard scaler, and the output data needs to be converted from text to numbers. To convert text to numbers we use `LabelEncoder` from Scikit Learn."
   ]
  },
  {
   "cell_type": "code",
   "execution_count": null,
   "metadata": {
    "ExecuteTime": {
     "end_time": "2020-09-19T01:38:09.633006Z",
     "start_time": "2020-09-19T01:38:09.570436Z"
    }
   },
   "outputs": [],
   "source": []
  },
  {
   "cell_type": "code",
   "execution_count": 19,
   "metadata": {
    "ExecuteTime": {
     "end_time": "2020-09-21T00:59:44.071466Z",
     "start_time": "2020-09-21T00:59:44.061111Z"
    }
   },
   "outputs": [],
   "source": [
    "# # df['LITH_ID'] = encoder.transform(df.loc[:, \"LITHOLOGY_GEOLINK\"])\n",
    "# # df['LITH_ID'] = encoder.transform(df.loc[:, \"LITHOLOGY_GEOLINK\"])\n",
    "# df['LITH_ABV'] = df[\"LITHOLOGY_GEOLINK\"].shift().fillna('Shaly Silt')\n",
    "# df['LITH_ABV_INT'] = df['LITH_ABV'].values.codes\n",
    "# df[['LITHOLOGY_GEOLINK', 'LITH_ABV']]"
   ]
  },
  {
   "cell_type": "code",
   "execution_count": null,
   "metadata": {
    "ExecuteTime": {
     "end_time": "2020-09-19T01:52:24.643324Z",
     "start_time": "2020-09-19T01:52:24.637474Z"
    }
   },
   "outputs": [],
   "source": []
  },
  {
   "cell_type": "code",
   "execution_count": 20,
   "metadata": {
    "ExecuteTime": {
     "end_time": "2020-09-21T00:59:44.720357Z",
     "start_time": "2020-09-21T00:59:44.073205Z"
    },
    "scrolled": true
   },
   "outputs": [
    {
     "name": "stdout",
     "output_type": "stream",
     "text": [
      "Index(['Coal', 'Calcareous Cement', 'Sandstone', 'Limestone', 'Cinerite',\n",
      "       'Silty Sand', 'Silty Shale', 'Cross Bedded Sst',\n",
      "       'Argillaceous Limestone', 'Silt', 'Shaly Silt', 'Marlstone'],\n",
      "      dtype='object')\n"
     ]
    },
    {
     "data": {
      "text/plain": [
       "StandardScaler()"
      ]
     },
     "execution_count": 20,
     "metadata": {},
     "output_type": "execute_result"
    }
   ],
   "source": [
    "from sklearn.preprocessing import StandardScaler, LabelEncoder\n",
    "\n",
    "scaler = StandardScaler()\n",
    "\n",
    "# Make a encoder, that order by frequency\n",
    "encoder = LabelEncoder()\n",
    "\n",
    "# TODO need to embed prev val..., one hot, then append\n",
    "encoder.classes_ = df[\"LITHOLOGY_GEOLINK\"].values.categories # np.array(counts.index.values)\n",
    "print(encoder.classes_)\n",
    "feat_cols = [\"CALI\", \"RHOB\", \"GR\", \"DTC\", \"RDEP\", \"RMED\", \"DEPT\", \"Well_int\", \"LITH_ABV_INT\"]\n",
    "scaler.fit(df[feat_cols].values)"
   ]
  },
  {
   "cell_type": "markdown",
   "metadata": {},
   "source": [
    "`LabelEncoder` converts each type to a value."
   ]
  },
  {
   "cell_type": "code",
   "execution_count": 21,
   "metadata": {
    "ExecuteTime": {
     "end_time": "2020-09-21T00:59:44.726912Z",
     "start_time": "2020-09-21T00:59:44.722202Z"
    }
   },
   "outputs": [
    {
     "data": {
      "text/plain": [
       "array([5])"
      ]
     },
     "execution_count": 21,
     "metadata": {},
     "output_type": "execute_result"
    }
   ],
   "source": [
    "encoder.transform([\"Shaly Silt\"])"
   ]
  },
  {
   "cell_type": "markdown",
   "metadata": {},
   "source": [
    "Now we can check the types at various depths:"
   ]
  },
  {
   "cell_type": "code",
   "execution_count": 22,
   "metadata": {
    "ExecuteTime": {
     "end_time": "2020-09-21T00:59:45.765249Z",
     "start_time": "2020-09-21T00:59:44.728578Z"
    }
   },
   "outputs": [
    {
     "data": {
      "image/png": "[encoded data removed]",
      "text/plain": [
       "<Figure size 576x864 with 6 Axes>"
      ]
     },
     "metadata": {
      "needs_background": "light"
     },
     "output_type": "display_data"
    }
   ],
   "source": [
    "from deep_ml_curriculum.visualization.well_log import plot_facies, plot_well\n",
    "well_name = \"30_4-1\"\n",
    "logs = df.loc[well_name]\n",
    "plot_well(\n",
    "    well_name, \n",
    "    logs, \n",
    "    facies=logs['LITHOLOGY_GEOLINK'].astype('category').values\n",
    ")"
   ]
  },
  {
   "cell_type": "markdown",
   "metadata": {},
   "source": [
    "The output of a classification model is a value for each type. The type with the highest value is the one the model thinks is most likely to be associated with the input data. Therefore, the output size of the model should be the number of types."
   ]
  },
  {
   "cell_type": "markdown",
   "metadata": {},
   "source": [
    "Let's create training and test set, similar to what we had in multivariate time series. The only difference is here for each sequence of values we want the model to predict a value for each type."
   ]
  },
  {
   "cell_type": "code",
   "execution_count": null,
   "metadata": {
    "ExecuteTime": {
     "end_time": "2020-09-19T05:27:26.968476Z",
     "start_time": "2020-09-19T05:27:26.927891Z"
    }
   },
   "outputs": [],
   "source": []
  },
  {
   "cell_type": "code",
   "execution_count": 23,
   "metadata": {
    "ExecuteTime": {
     "end_time": "2020-09-21T00:59:45.970266Z",
     "start_time": "2020-09-21T00:59:45.770026Z"
    }
   },
   "outputs": [],
   "source": [
    "\n",
    "\n",
    "\n",
    "def get_sequences(df, seq_length = 10):\n",
    "    \"\"\"Take moving sequences of a dataframe\"\"\"\n",
    "    \n",
    "\n",
    "    x = []\n",
    "    y = []\n",
    "    features = scaler.transform(df.loc[:, feat_cols].values)\n",
    "    targets = encoder.transform(df.loc[:, \"LITHOLOGY_GEOLINK\"])\n",
    "\n",
    "    # # Add prev labels, as one hot, to inputs\n",
    "    # one_hot_targets = np.eye(len(encoder.classes_))[targets]\n",
    "    # prev_one_host_targets = np.roll(one_hot_targets, shift=1)\n",
    "    # features = np.concatenate([features, prev_one_host_targets], 1)\n",
    "\n",
    "    for i in range(len(targets) - seq_length):\n",
    "        xi = features[i : i + seq_length, :]\n",
    "        yi = targets[i + seq_length - 1]\n",
    "        x.append(xi)\n",
    "        y.append(yi)\n",
    "    return x, y\n",
    "\n",
    "seq_length = 10\n",
    "x_train, y_train = get_sequences(df_train, seq_length=seq_length)\n",
    "x_test, y_test = get_sequences(df_test, seq_length=seq_length)"
   ]
  },
  {
   "cell_type": "code",
   "execution_count": 24,
   "metadata": {
    "ExecuteTime": {
     "end_time": "2020-09-21T00:59:45.977532Z",
     "start_time": "2020-09-21T00:59:45.972844Z"
    }
   },
   "outputs": [],
   "source": [
    "output_size = len(df[\"LITHOLOGY_GEOLINK\"].unique())"
   ]
  },
  {
   "cell_type": "markdown",
   "metadata": {},
   "source": [
    "It is important that we make sure the training and test set have close distribution. For instance, if there is a certain type in test data that doesn't exist in training data, the model will not be able to predict it."
   ]
  },
  {
   "cell_type": "code",
   "execution_count": 25,
   "metadata": {
    "ExecuteTime": {
     "end_time": "2020-09-21T00:59:45.985078Z",
     "start_time": "2020-09-21T00:59:45.979452Z"
    }
   },
   "outputs": [],
   "source": [
    "def to_numpy(x):\n",
    "    if isinstance(x, torch.Tensor):\n",
    "        x = x.cpu().detach().numpy()\n",
    "    return x\n",
    "\n",
    "def show_distribution(y):\n",
    "    y = to_numpy(y)\n",
    "    plt.hist(y, output_size * 2)\n",
    "    plt.xticks(ticks=range(len(encoder.classes_)), labels=encoder.classes_, rotation=90)"
   ]
  },
  {
   "cell_type": "code",
   "execution_count": 26,
   "metadata": {
    "ExecuteTime": {
     "end_time": "2020-09-21T00:59:46.926184Z",
     "start_time": "2020-09-21T00:59:45.986995Z"
    }
   },
   "outputs": [
    {
     "data": {
      "image/png": "[encoded data removed]",
      "text/plain": [
       "<Figure size 432x288 with 1 Axes>"
      ]
     },
     "metadata": {
      "needs_background": "light"
     },
     "output_type": "display_data"
    }
   ],
   "source": [
    "show_distribution(y_train)"
   ]
  },
  {
   "cell_type": "code",
   "execution_count": 27,
   "metadata": {
    "ExecuteTime": {
     "end_time": "2020-09-21T00:59:47.840377Z",
     "start_time": "2020-09-21T00:59:46.928156Z"
    }
   },
   "outputs": [
    {
     "data": {
      "image/png": "[encoded data removed]",
      "text/plain": [
       "<Figure size 432x288 with 1 Axes>"
      ]
     },
     "metadata": {
      "needs_background": "light"
     },
     "output_type": "display_data"
    }
   ],
   "source": [
    "show_distribution(y_test)"
   ]
  },
  {
   "cell_type": "code",
   "execution_count": null,
   "metadata": {
    "ExecuteTime": {
     "end_time": "2020-09-18T23:20:36.383442Z",
     "start_time": "2020-09-18T23:20:36.222948Z"
    }
   },
   "outputs": [],
   "source": []
  },
  {
   "cell_type": "code",
   "execution_count": 28,
   "metadata": {
    "ExecuteTime": {
     "end_time": "2020-09-21T00:59:52.050667Z",
     "start_time": "2020-09-21T00:59:47.842157Z"
    }
   },
   "outputs": [
    {
     "data": {
      "text/plain": [
       "(torch.Size([69125, 10, 9]),\n",
       " torch.Size([69125]),\n",
       " torch.Size([69126, 10, 9]),\n",
       " 'cuda')"
      ]
     },
     "execution_count": 28,
     "metadata": {},
     "output_type": "execute_result"
    }
   ],
   "source": [
    "device = \"cuda\" if torch.cuda.is_available() else \"cpu\"\n",
    "x_train = torch.Tensor(x_train)#.to(device)\n",
    "y_train = torch.LongTensor(y_train)#.to(device)\n",
    "x_test = torch.Tensor(x_test)#.to(device)\n",
    "y_test = torch.LongTensor(y_test)#.to(device)\n",
    "x_train.shape, y_train.shape, x_test.shape, device"
   ]
  },
  {
   "cell_type": "markdown",
   "metadata": {},
   "source": [
    "We can still use the same class for the model. Here the input size is the number of features we are using to predict the type, and output size is the number of types. "
   ]
  },
  {
   "cell_type": "code",
   "execution_count": 29,
   "metadata": {
    "ExecuteTime": {
     "end_time": "2020-09-21T00:59:52.423954Z",
     "start_time": "2020-09-21T00:59:52.053480Z"
    }
   },
   "outputs": [
    {
     "data": {
      "text/plain": [
       "1"
      ]
     },
     "execution_count": 29,
     "metadata": {},
     "output_type": "execute_result"
    },
    {
     "data": {
      "image/png": "[encoded data removed]",
      "text/plain": [
       "<Figure size 432x288 with 1 Axes>"
      ]
     },
     "metadata": {
      "needs_background": "light"
     },
     "output_type": "display_data"
    }
   ],
   "source": [
    "codes = df['LITHOLOGY_GEOLINK'].values.codes\n",
    "unique, counts = np.unique(codes, return_counts=True)\n",
    "weight = torch.from_numpy(1/(1e1+counts))\n",
    "weight /= weight.sum()\n",
    "# weight = None\n",
    "weight\n",
    "\n",
    "plt.title('Loss weighting')\n",
    "# plt.bar(x=range(len(weight)), height=weight)\n",
    "plt.bar(encoder.inverse_transform(unique), weight)\n",
    "plt.xticks(rotation=90)\n",
    "1"
   ]
  },
  {
   "cell_type": "code",
   "execution_count": 63,
   "metadata": {
    "ExecuteTime": {
     "end_time": "2020-09-21T01:12:38.166673Z",
     "start_time": "2020-09-21T01:12:37.974731Z"
    }
   },
   "outputs": [
    {
     "data": {
      "text/plain": [
       "LSTM(\n",
       "  (lstm): LSTM(9, 64, batch_first=True)\n",
       "  (linear): Linear(in_features=64, out_features=12, bias=True)\n",
       ")"
      ]
     },
     "execution_count": 63,
     "metadata": {},
     "output_type": "execute_result"
    }
   ],
   "source": [
    "model = LSTM(\n",
    "    input_size=x_train.shape[-1],\n",
    "    hidden_size=64,\n",
    "    num_layers=1,\n",
    "    output_size=output_size,\n",
    ")\n",
    "model = model.to(device)\n",
    "model"
   ]
  },
  {
   "cell_type": "code",
   "execution_count": 64,
   "metadata": {
    "ExecuteTime": {
     "end_time": "2020-09-21T01:12:38.221047Z",
     "start_time": "2020-09-21T01:12:38.169095Z"
    }
   },
   "outputs": [],
   "source": [
    "optimizer = optim.Adam(model.parameters(), lr=0.001)\n",
    "torch.nn.CrossEntropyLoss(weight=weight)\n",
    "loss_func = torch.nn.CrossEntropyLoss()"
   ]
  },
  {
   "cell_type": "code",
   "execution_count": 65,
   "metadata": {
    "ExecuteTime": {
     "end_time": "2020-09-21T01:12:38.359437Z",
     "start_time": "2020-09-21T01:12:38.314474Z"
    }
   },
   "outputs": [],
   "source": [
    "from sklearn.metrics import accuracy_score, f1_score"
   ]
  },
  {
   "cell_type": "code",
   "execution_count": 66,
   "metadata": {
    "ExecuteTime": {
     "end_time": "2020-09-21T01:12:38.617553Z",
     "start_time": "2020-09-21T01:12:38.535605Z"
    }
   },
   "outputs": [],
   "source": [
    "score_fn=accuracy_score\n",
    "\n",
    "def training_loop(epochs=1, bs=128):\n",
    "    pbar1 = tqdm(total=epochs)\n",
    "    pbar2 = tqdm(total=len(x_train) // bs)\n",
    "    all_losses = []\n",
    "    all_accuracys = []\n",
    "    try:\n",
    "        for epoch in range(epochs):\n",
    "            model.train()\n",
    "            training_loss = []\n",
    "            training_accuracy = []\n",
    "            pbar2.reset(len(x_train) // bs)\n",
    "            for i in range(0, len(x_train), bs):\n",
    "                optimizer.zero_grad()\n",
    "                preds = model(x_train[i : i + bs, ...].to(device))\n",
    "                loss = loss_func(preds, y_train[i : i + bs].to(device))\n",
    "                loss.backward()\n",
    "                optimizer.step()\n",
    "                training_loss.append(loss.item())\n",
    "                accuracy = score_fn(\n",
    "                    to_numpy(y_train[i : i + bs]), to_numpy(preds).argmax(-1)\n",
    "                )\n",
    "                training_accuracy.append(accuracy)\n",
    "                pbar2.update(1)\n",
    "#                 print(\n",
    "#                     f\"Epoch {epoch+1}/{epochs}: Loss = {loss.item():.2f}, accuracy = {accuracy:.3f}\",\n",
    "#                     end=\"\\r\",\n",
    "#                     flush=True,\n",
    "#                 )\n",
    "\n",
    "            print(\n",
    "                f\"Epoch {epoch+1}/{epochs}: Training Loss = {np.mean(training_loss):.2f}, accuracy = {np.mean(accuracy):.3f}\"\n",
    "            )\n",
    "\n",
    "            model.eval()\n",
    "            test_loss = []\n",
    "            test_accuracy = []\n",
    "            pbar2.reset(len(x_test) // bs)\n",
    "            for i in range(0, len(x_test), bs):\n",
    "                preds = model(x_test[i : i + bs, ...].to(device))\n",
    "                loss = loss_func(preds, y_test[i : i + bs].to(device))\n",
    "                test_loss.append(loss.item())\n",
    "                accuracy = score_fn(\n",
    "                    to_numpy(y_test[i : i + bs]), to_numpy(preds.argmax(-1))\n",
    "                )\n",
    "                test_accuracy.append(accuracy)\n",
    "                pbar2.update(1)\n",
    "            print(\n",
    "                f\"Epoch {epoch+1}/{epochs}: Test Loss = {np.mean(test_loss):.2f}, accuracy = {np.mean(test_accuracy):.3f}\"\n",
    "            )\n",
    "            print(\"-\" * 50)\n",
    "            all_losses.append([np.mean(training_loss), np.mean(test_loss)])\n",
    "            all_accuracys.append([np.mean(training_accuracy), np.mean(test_accuracy)])\n",
    "            pbar1.update(1)\n",
    "    except KeyboardInterrupt:\n",
    "        pass\n",
    "\n",
    "    # Visualising the results\n",
    "    all_losses = np.array(all_losses)\n",
    "    plt.plot(all_losses[:, 0], label=\"Training\")\n",
    "    plt.plot(all_losses[:, 1], label=\"Test\")\n",
    "    plt.title(\"Loss\")\n",
    "    plt.legend()\n",
    "    plt.figure()\n",
    "    all_accuracys = np.array(all_accuracys)\n",
    "    plt.plot(all_accuracys[:, 0], label=\"Training\")\n",
    "    plt.plot(all_accuracys[:, 1], label=\"Test\")\n",
    "    plt.title(\"accuracy\")\n",
    "    plt.legend()"
   ]
  },
  {
   "cell_type": "code",
   "execution_count": null,
   "metadata": {
    "ExecuteTime": {
     "end_time": "2020-09-19T04:52:04.558878Z",
     "start_time": "2020-09-19T04:52:04.513150Z"
    }
   },
   "outputs": [],
   "source": []
  },
  {
   "cell_type": "code",
   "execution_count": 67,
   "metadata": {
    "ExecuteTime": {
     "end_time": "2020-09-21T01:12:38.893969Z",
     "start_time": "2020-09-21T01:12:38.777507Z"
    }
   },
   "outputs": [
    {
     "name": "stdout",
     "output_type": "stream",
     "text": [
      "Random model acc 7.02%\n"
     ]
    }
   ],
   "source": [
    "preds = to_numpy(model(x_test.to(device)).argmax(axis=-1))\n",
    "true = to_numpy(y_test)\n",
    "score = score_fn(true, preds)\n",
    "print(f'Random model acc {score:2.2%}')"
   ]
  },
  {
   "cell_type": "markdown",
   "metadata": {},
   "source": [
    "Let's train for 10 epochs"
   ]
  },
  {
   "cell_type": "code",
   "execution_count": 68,
   "metadata": {
    "ExecuteTime": {
     "end_time": "2020-09-21T01:12:39.134543Z",
     "start_time": "2020-09-21T01:12:39.065892Z"
    }
   },
   "outputs": [
    {
     "name": "stdout",
     "output_type": "stream",
     "text": [
      "acc 50.94% for constant value\n",
      "baseline accuracy 97.70% for prev value (unfair)\n"
     ]
    }
   ],
   "source": [
    "# Constant Baseline (most common in data)\n",
    "common_train_value = pd.Series(to_numpy(y_train)).value_counts().index[0]\n",
    "pred_baseline = np.ones(true.shape) * common_train_value\n",
    "score=score_fn(true, pred_baseline)\n",
    "print(f'acc {score:2.2%} for constant value')\n",
    "\n",
    "# Prev litho Baseline\n",
    "pred_baseline = np.roll(true, shift=1)\n",
    "score=score_fn(true, pred_baseline)\n",
    "print(f'baseline accuracy {score:2.2%} for prev value (unfair)')"
   ]
  },
  {
   "cell_type": "code",
   "execution_count": 69,
   "metadata": {
    "ExecuteTime": {
     "end_time": "2020-09-21T01:12:39.282927Z",
     "start_time": "2020-09-21T01:12:39.175251Z"
    }
   },
   "outputs": [
    {
     "name": "stdout",
     "output_type": "stream",
     "text": [
      "baseline accuracy=50.94% for most_frequent\n",
      "baseline accuracy=22.64% for stratified\n",
      "baseline accuracy=50.94% for prior\n",
      "baseline accuracy=8.35% for uniform\n"
     ]
    }
   ],
   "source": [
    "from sklearn.dummy import DummyClassifier\n",
    "\n",
    "for strategy in [\"most_frequent\", \"stratified\", \"prior\", \"uniform\"]:\n",
    "    dummy_clf = DummyClassifier(strategy=strategy)\n",
    "    dummy_clf.fit(x_train, y_train)\n",
    "    score = dummy_clf.score(x_test, y_test)\n",
    "    print(f\"baseline accuracy={score:2.2%} for {strategy}\")"
   ]
  },
  {
   "cell_type": "code",
   "execution_count": 70,
   "metadata": {
    "ExecuteTime": {
     "end_time": "2020-09-21T01:14:48.937607Z",
     "start_time": "2020-09-21T01:12:39.345302Z"
    },
    "scrolled": true
   },
   "outputs": [
    {
     "data": {
      "application/vnd.jupyter.widget-view+json": {
       "model_id": "ac7b5c4622544700b5e8f04c041bc87e",
       "version_major": 2,
       "version_minor": 0
      },
      "text/plain": [
       "HBox(children=(FloatProgress(value=0.0, max=30.0), HTML(value='')))"
      ]
     },
     "metadata": {},
     "output_type": "display_data"
    },
    {
     "data": {
      "application/vnd.jupyter.widget-view+json": {
       "model_id": "35226538ff4d46b280d44c473ad096e3",
       "version_major": 2,
       "version_minor": 0
      },
      "text/plain": [
       "HBox(children=(FloatProgress(value=0.0, max=540.0), HTML(value='')))"
      ]
     },
     "metadata": {},
     "output_type": "display_data"
    },
    {
     "name": "stdout",
     "output_type": "stream",
     "text": [
      "Epoch 1/30: Training Loss = 1.65, accuracy = 1.000\n",
      "Epoch 1/30: Test Loss = 1.33, accuracy = 0.317\n",
      "--------------------------------------------------\n",
      "Epoch 2/30: Training Loss = 1.02, accuracy = 1.000\n",
      "Epoch 2/30: Test Loss = 2.07, accuracy = 0.315\n",
      "--------------------------------------------------\n",
      "Epoch 3/30: Training Loss = 0.79, accuracy = 1.000\n",
      "Epoch 3/30: Test Loss = 0.86, accuracy = 0.778\n",
      "--------------------------------------------------\n",
      "Epoch 4/30: Training Loss = 0.57, accuracy = 1.000\n",
      "Epoch 4/30: Test Loss = 0.75, accuracy = 0.791\n",
      "--------------------------------------------------\n",
      "Epoch 5/30: Training Loss = 0.44, accuracy = 1.000\n",
      "Epoch 5/30: Test Loss = 0.37, accuracy = 0.891\n",
      "--------------------------------------------------\n",
      "Epoch 6/30: Training Loss = 0.38, accuracy = 1.000\n",
      "Epoch 6/30: Test Loss = 0.36, accuracy = 0.901\n",
      "--------------------------------------------------\n",
      "Epoch 7/30: Training Loss = 0.34, accuracy = 1.000\n",
      "Epoch 7/30: Test Loss = 0.34, accuracy = 0.902\n",
      "--------------------------------------------------\n",
      "Epoch 8/30: Training Loss = 0.31, accuracy = 1.000\n",
      "Epoch 8/30: Test Loss = 0.31, accuracy = 0.918\n",
      "--------------------------------------------------\n",
      "Epoch 9/30: Training Loss = 0.30, accuracy = 1.000\n",
      "Epoch 9/30: Test Loss = 0.30, accuracy = 0.920\n",
      "--------------------------------------------------\n",
      "Epoch 10/30: Training Loss = 0.27, accuracy = 1.000\n",
      "Epoch 10/30: Test Loss = 0.28, accuracy = 0.929\n",
      "--------------------------------------------------\n",
      "Epoch 11/30: Training Loss = 0.25, accuracy = 1.000\n",
      "Epoch 11/30: Test Loss = 0.27, accuracy = 0.932\n",
      "--------------------------------------------------\n",
      "Epoch 12/30: Training Loss = 0.24, accuracy = 1.000\n",
      "Epoch 12/30: Test Loss = 0.27, accuracy = 0.935\n",
      "--------------------------------------------------\n",
      "Epoch 13/30: Training Loss = 0.23, accuracy = 1.000\n",
      "Epoch 13/30: Test Loss = 0.26, accuracy = 0.936\n",
      "--------------------------------------------------\n",
      "Epoch 14/30: Training Loss = 0.22, accuracy = 1.000\n",
      "Epoch 14/30: Test Loss = 0.26, accuracy = 0.943\n",
      "--------------------------------------------------\n",
      "Epoch 15/30: Training Loss = 0.22, accuracy = 1.000\n",
      "Epoch 15/30: Test Loss = 0.26, accuracy = 0.948\n",
      "--------------------------------------------------\n",
      "Epoch 16/30: Training Loss = 0.22, accuracy = 1.000\n",
      "Epoch 16/30: Test Loss = 0.26, accuracy = 0.944\n",
      "--------------------------------------------------\n",
      "Epoch 17/30: Training Loss = 0.21, accuracy = 1.000\n",
      "Epoch 17/30: Test Loss = 0.23, accuracy = 0.950\n",
      "--------------------------------------------------\n",
      "Epoch 18/30: Training Loss = 0.20, accuracy = 1.000\n",
      "Epoch 18/30: Test Loss = 0.21, accuracy = 0.950\n",
      "--------------------------------------------------\n",
      "Epoch 19/30: Training Loss = 0.20, accuracy = 1.000\n",
      "Epoch 19/30: Test Loss = 0.22, accuracy = 0.950\n",
      "--------------------------------------------------\n",
      "Epoch 20/30: Training Loss = 0.19, accuracy = 1.000\n",
      "Epoch 20/30: Test Loss = 0.20, accuracy = 0.952\n",
      "--------------------------------------------------\n",
      "Epoch 21/30: Training Loss = 0.19, accuracy = 1.000\n",
      "Epoch 21/30: Test Loss = 0.19, accuracy = 0.953\n",
      "--------------------------------------------------\n",
      "Epoch 22/30: Training Loss = 0.18, accuracy = 1.000\n",
      "Epoch 22/30: Test Loss = 0.20, accuracy = 0.954\n",
      "--------------------------------------------------\n",
      "Epoch 23/30: Training Loss = 0.18, accuracy = 1.000\n",
      "Epoch 23/30: Test Loss = 0.20, accuracy = 0.956\n",
      "--------------------------------------------------\n",
      "Epoch 24/30: Training Loss = 0.17, accuracy = 1.000\n",
      "Epoch 24/30: Test Loss = 0.19, accuracy = 0.959\n",
      "--------------------------------------------------\n",
      "Epoch 25/30: Training Loss = 0.17, accuracy = 1.000\n",
      "Epoch 25/30: Test Loss = 0.20, accuracy = 0.956\n",
      "--------------------------------------------------\n",
      "Epoch 26/30: Training Loss = 0.17, accuracy = 1.000\n",
      "Epoch 26/30: Test Loss = 0.22, accuracy = 0.952\n",
      "--------------------------------------------------\n",
      "Epoch 27/30: Training Loss = 0.17, accuracy = 1.000\n",
      "Epoch 27/30: Test Loss = 0.23, accuracy = 0.946\n",
      "--------------------------------------------------\n",
      "Epoch 28/30: Training Loss = 0.16, accuracy = 1.000\n",
      "Epoch 28/30: Test Loss = 0.22, accuracy = 0.950\n",
      "--------------------------------------------------\n",
      "Epoch 29/30: Training Loss = 0.16, accuracy = 1.000\n",
      "Epoch 29/30: Test Loss = 0.26, accuracy = 0.941\n",
      "--------------------------------------------------\n",
      "Epoch 30/30: Training Loss = 0.17, accuracy = 1.000\n",
      "Epoch 30/30: Test Loss = 0.24, accuracy = 0.950\n",
      "--------------------------------------------------\n",
      "\n",
      "\n"
     ]
    },
    {
     "data": {
      "image/png": "[encoded data removed]",
      "text/plain": [
       "<Figure size 432x288 with 1 Axes>"
      ]
     },
     "metadata": {
      "needs_background": "light"
     },
     "output_type": "display_data"
    },
    {
     "data": {
      "image/png": "[encoded data removed]",
      "text/plain": [
       "<Figure size 432x288 with 1 Axes>"
      ]
     },
     "metadata": {
      "needs_background": "light"
     },
     "output_type": "display_data"
    }
   ],
   "source": [
    "training_loop(30, 128)"
   ]
  },
  {
   "cell_type": "code",
   "execution_count": 71,
   "metadata": {
    "ExecuteTime": {
     "end_time": "2020-09-21T01:14:48.989350Z",
     "start_time": "2020-09-21T01:14:48.940010Z"
    }
   },
   "outputs": [],
   "source": [
    "preds = to_numpy(model(x_test.to(device)).argmax(axis=-1))\n",
    "true = to_numpy(y_test)"
   ]
  },
  {
   "cell_type": "code",
   "execution_count": 72,
   "metadata": {
    "ExecuteTime": {
     "end_time": "2020-09-21T01:14:49.028600Z",
     "start_time": "2020-09-21T01:14:48.992366Z"
    }
   },
   "outputs": [
    {
     "name": "stdout",
     "output_type": "stream",
     "text": [
      "0.9501985945615643\n"
     ]
    }
   ],
   "source": [
    "# ours\n",
    "print(score_fn(true,\n",
    "    preds))"
   ]
  },
  {
   "cell_type": "code",
   "execution_count": 73,
   "metadata": {
    "ExecuteTime": {
     "end_time": "2020-09-21T01:14:49.610158Z",
     "start_time": "2020-09-21T01:14:49.031198Z"
    }
   },
   "outputs": [
    {
     "data": {
      "text/plain": [
       "1"
      ]
     },
     "execution_count": 73,
     "metadata": {},
     "output_type": "execute_result"
    },
    {
     "data": {
      "image/png": "[encoded data removed]",
      "text/plain": [
       "<Figure size 432x288 with 1 Axes>"
      ]
     },
     "metadata": {
      "needs_background": "light"
     },
     "output_type": "display_data"
    },
    {
     "data": {
      "image/png": "[encoded data removed]",
      "text/plain": [
       "<Figure size 432x288 with 1 Axes>"
      ]
     },
     "metadata": {
      "needs_background": "light"
     },
     "output_type": "display_data"
    }
   ],
   "source": [
    "plt.hist(preds, bins=output_size * 2)\n",
    "plt.title(\"Model Predictions\")\n",
    "plt.xticks(np.arange(output_size))\n",
    "plt.figure()\n",
    "plt.hist(true, bins=output_size * 2)\n",
    "plt.title(\"Targets\")\n",
    "plt.xticks(np.arange(output_size))\n",
    "1"
   ]
  },
  {
   "cell_type": "code",
   "execution_count": 74,
   "metadata": {
    "ExecuteTime": {
     "end_time": "2020-09-21T01:14:49.649088Z",
     "start_time": "2020-09-21T01:14:49.612066Z"
    }
   },
   "outputs": [],
   "source": [
    "import pandas as pd\n",
    "import sklearn.metrics\n",
    "import numpy as np\n",
    "\n",
    "def classification_report(*args, **kwargs):\n",
    "    out_df = pd.DataFrame(sklearn.metrics.classification_report(*args, **kwargs, output_dict=True)).T\n",
    "    # Order cols\n",
    "    out_df[[\"precision\",\"recall\",\"f1-score\",\"support\"]]  \n",
    "    # Round\n",
    "    out_df[[\"precision\",\"recall\",\"f1-score\"]]= out_df[[\"precision\",\"recall\",\"f1-score\"]].apply(lambda x: round(x,2))\n",
    "    out_df[[\"support\"]]= out_df[[\"support\"]].apply(lambda x: x.astype(np.int))\n",
    "    return out_df"
   ]
  },
  {
   "cell_type": "code",
   "execution_count": null,
   "metadata": {
    "ExecuteTime": {
     "end_time": "2020-09-19T05:29:46.542610Z",
     "start_time": "2020-09-19T05:29:46.470125Z"
    }
   },
   "outputs": [],
   "source": []
  },
  {
   "cell_type": "code",
   "execution_count": 75,
   "metadata": {
    "ExecuteTime": {
     "end_time": "2020-09-21T01:14:49.683185Z",
     "start_time": "2020-09-21T01:14:49.650902Z"
    }
   },
   "outputs": [],
   "source": [
    "# df_report = classification_report(true, pred_baseline, labels=range(len(encoder.classes_)), target_names=encoder.classes_)\n",
    "# df_report"
   ]
  },
  {
   "cell_type": "code",
   "execution_count": 76,
   "metadata": {
    "ExecuteTime": {
     "end_time": "2020-09-21T01:14:49.807196Z",
     "start_time": "2020-09-21T01:14:49.685315Z"
    },
    "scrolled": false
   },
   "outputs": [
    {
     "name": "stderr",
     "output_type": "stream",
     "text": [
      "/home/wassname/anaconda/envs/deep_ml_curriculum/lib/python3.6/site-packages/sklearn/metrics/_classification.py:1221: UndefinedMetricWarning: Recall and F-score are ill-defined and being set to 0.0 in labels with no true samples. Use `zero_division` parameter to control this behavior.\n",
      "  _warn_prf(average, modifier, msg_start, len(result))\n"
     ]
    },
    {
     "data": {
      "text/html": [
       "<div>\n",
       "<style scoped>\n",
       "    .dataframe tbody tr th:only-of-type {\n",
       "        vertical-align: middle;\n",
       "    }\n",
       "\n",
       "    .dataframe tbody tr th {\n",
       "        vertical-align: top;\n",
       "    }\n",
       "\n",
       "    .dataframe thead th {\n",
       "        text-align: right;\n",
       "    }\n",
       "</style>\n",
       "<table border=\"1\" class=\"dataframe\">\n",
       "  <thead>\n",
       "    <tr style=\"text-align: right;\">\n",
       "      <th></th>\n",
       "      <th>precision</th>\n",
       "      <th>recall</th>\n",
       "      <th>f1-score</th>\n",
       "      <th>support</th>\n",
       "    </tr>\n",
       "  </thead>\n",
       "  <tbody>\n",
       "    <tr>\n",
       "      <th>Coal</th>\n",
       "      <td>0.00</td>\n",
       "      <td>0.00</td>\n",
       "      <td>0.00</td>\n",
       "      <td>99</td>\n",
       "    </tr>\n",
       "    <tr>\n",
       "      <th>Calcareous Cement</th>\n",
       "      <td>0.66</td>\n",
       "      <td>0.48</td>\n",
       "      <td>0.56</td>\n",
       "      <td>114</td>\n",
       "    </tr>\n",
       "    <tr>\n",
       "      <th>Sandstone</th>\n",
       "      <td>0.00</td>\n",
       "      <td>0.00</td>\n",
       "      <td>0.00</td>\n",
       "      <td>0</td>\n",
       "    </tr>\n",
       "    <tr>\n",
       "      <th>Limestone</th>\n",
       "      <td>0.92</td>\n",
       "      <td>0.98</td>\n",
       "      <td>0.95</td>\n",
       "      <td>721</td>\n",
       "    </tr>\n",
       "    <tr>\n",
       "      <th>Cinerite</th>\n",
       "      <td>0.55</td>\n",
       "      <td>0.98</td>\n",
       "      <td>0.71</td>\n",
       "      <td>231</td>\n",
       "    </tr>\n",
       "    <tr>\n",
       "      <th>Silty Sand</th>\n",
       "      <td>0.90</td>\n",
       "      <td>0.41</td>\n",
       "      <td>0.57</td>\n",
       "      <td>511</td>\n",
       "    </tr>\n",
       "    <tr>\n",
       "      <th>Silty Shale</th>\n",
       "      <td>0.81</td>\n",
       "      <td>0.95</td>\n",
       "      <td>0.87</td>\n",
       "      <td>103</td>\n",
       "    </tr>\n",
       "    <tr>\n",
       "      <th>Cross Bedded Sst</th>\n",
       "      <td>0.75</td>\n",
       "      <td>0.97</td>\n",
       "      <td>0.85</td>\n",
       "      <td>956</td>\n",
       "    </tr>\n",
       "    <tr>\n",
       "      <th>Argillaceous Limestone</th>\n",
       "      <td>0.96</td>\n",
       "      <td>0.94</td>\n",
       "      <td>0.95</td>\n",
       "      <td>1135</td>\n",
       "    </tr>\n",
       "    <tr>\n",
       "      <th>Silt</th>\n",
       "      <td>0.96</td>\n",
       "      <td>0.94</td>\n",
       "      <td>0.95</td>\n",
       "      <td>4843</td>\n",
       "    </tr>\n",
       "    <tr>\n",
       "      <th>Shaly Silt</th>\n",
       "      <td>0.93</td>\n",
       "      <td>0.94</td>\n",
       "      <td>0.93</td>\n",
       "      <td>2526</td>\n",
       "    </tr>\n",
       "    <tr>\n",
       "      <th>Marlstone</th>\n",
       "      <td>1.00</td>\n",
       "      <td>0.99</td>\n",
       "      <td>0.99</td>\n",
       "      <td>11672</td>\n",
       "    </tr>\n",
       "    <tr>\n",
       "      <th>accuracy</th>\n",
       "      <td>0.95</td>\n",
       "      <td>0.95</td>\n",
       "      <td>0.95</td>\n",
       "      <td>0</td>\n",
       "    </tr>\n",
       "    <tr>\n",
       "      <th>macro avg</th>\n",
       "      <td>0.70</td>\n",
       "      <td>0.72</td>\n",
       "      <td>0.69</td>\n",
       "      <td>22911</td>\n",
       "    </tr>\n",
       "    <tr>\n",
       "      <th>weighted avg</th>\n",
       "      <td>0.95</td>\n",
       "      <td>0.95</td>\n",
       "      <td>0.95</td>\n",
       "      <td>22911</td>\n",
       "    </tr>\n",
       "  </tbody>\n",
       "</table>\n",
       "</div>"
      ],
      "text/plain": [
       "                        precision  recall  f1-score  support\n",
       "Coal                         0.00    0.00      0.00       99\n",
       "Calcareous Cement            0.66    0.48      0.56      114\n",
       "Sandstone                    0.00    0.00      0.00        0\n",
       "Limestone                    0.92    0.98      0.95      721\n",
       "Cinerite                     0.55    0.98      0.71      231\n",
       "Silty Sand                   0.90    0.41      0.57      511\n",
       "Silty Shale                  0.81    0.95      0.87      103\n",
       "Cross Bedded Sst             0.75    0.97      0.85      956\n",
       "Argillaceous Limestone       0.96    0.94      0.95     1135\n",
       "Silt                         0.96    0.94      0.95     4843\n",
       "Shaly Silt                   0.93    0.94      0.93     2526\n",
       "Marlstone                    1.00    0.99      0.99    11672\n",
       "accuracy                     0.95    0.95      0.95        0\n",
       "macro avg                    0.70    0.72      0.69    22911\n",
       "weighted avg                 0.95    0.95      0.95    22911"
      ]
     },
     "execution_count": 76,
     "metadata": {},
     "output_type": "execute_result"
    }
   ],
   "source": [
    "df_report = classification_report(true, preds, labels=range(len(encoder.classes_)), target_names=encoder.classes_)\n",
    "df_report"
   ]
  },
  {
   "cell_type": "code",
   "execution_count": null,
   "metadata": {
    "ExecuteTime": {
     "end_time": "2020-09-19T05:30:37.732915Z",
     "start_time": "2020-09-19T05:30:37.711802Z"
    }
   },
   "outputs": [],
   "source": []
  },
  {
   "cell_type": "code",
   "execution_count": 77,
   "metadata": {
    "ExecuteTime": {
     "end_time": "2020-09-21T01:14:51.702407Z",
     "start_time": "2020-09-21T01:14:49.811437Z"
    },
    "scrolled": false
   },
   "outputs": [
    {
     "data": {
      "image/png": "[encoded data removed]",
      "text/plain": [
       "<Figure size 1440x1440 with 2 Axes>"
      ]
     },
     "metadata": {
      "needs_background": "light"
     },
     "output_type": "display_data"
    }
   ],
   "source": [
    "cm = sklearn.metrics.confusion_matrix(true, preds, labels=range(len(encoder.classes_)))\n",
    "\n",
    "plt.figure(figsize=(20, 20))\n",
    "plt.title('Confusion Matrix')\n",
    "ax=plt.gca()\n",
    "disp = sklearn.metrics.ConfusionMatrixDisplay(confusion_matrix=cm,\n",
    "                              display_labels=encoder.classes_)\n",
    "disp.plot(ax=ax, xticks_rotation=90)\n",
    "plt.show()"
   ]
  },
  {
   "cell_type": "markdown",
   "metadata": {},
   "source": [
    "#### Well logs"
   ]
  },
  {
   "cell_type": "code",
   "execution_count": 78,
   "metadata": {
    "ExecuteTime": {
     "end_time": "2020-09-21T01:14:51.745479Z",
     "start_time": "2020-09-21T01:14:51.704601Z"
    }
   },
   "outputs": [],
   "source": [
    "well_name = \"30_4-1\"\n",
    "logs = df.loc[well_name]"
   ]
  },
  {
   "cell_type": "code",
   "execution_count": 79,
   "metadata": {
    "ExecuteTime": {
     "end_time": "2020-09-21T01:14:52.515909Z",
     "start_time": "2020-09-21T01:14:51.748316Z"
    }
   },
   "outputs": [],
   "source": [
    "x_test, y_test = get_sequences(logs)\n",
    "\n",
    "x_test = torch.Tensor(x_test)#.to(device)\n",
    "y_test = torch.LongTensor(y_test)#.to(device)\n",
    "\n",
    "preds = to_numpy(model(x_test.to(device)).argmax(axis=-1))"
   ]
  },
  {
   "cell_type": "code",
   "execution_count": 80,
   "metadata": {
    "ExecuteTime": {
     "end_time": "2020-09-21T01:14:52.589405Z",
     "start_time": "2020-09-21T01:14:52.517971Z"
    }
   },
   "outputs": [
    {
     "data": {
      "text/html": [
       "<div>\n",
       "<style scoped>\n",
       "    .dataframe tbody tr th:only-of-type {\n",
       "        vertical-align: middle;\n",
       "    }\n",
       "\n",
       "    .dataframe tbody tr th {\n",
       "        vertical-align: top;\n",
       "    }\n",
       "\n",
       "    .dataframe thead th {\n",
       "        text-align: right;\n",
       "    }\n",
       "</style>\n",
       "<table border=\"1\" class=\"dataframe\">\n",
       "  <thead>\n",
       "    <tr style=\"text-align: right;\">\n",
       "      <th></th>\n",
       "      <th>LITHOLOGY_GEOLINK</th>\n",
       "      <th>pred</th>\n",
       "    </tr>\n",
       "    <tr>\n",
       "      <th>DEPT</th>\n",
       "      <th></th>\n",
       "      <th></th>\n",
       "    </tr>\n",
       "  </thead>\n",
       "  <tbody>\n",
       "    <tr>\n",
       "      <th>1909.791748</th>\n",
       "      <td>Silt</td>\n",
       "      <td>Shaly Silt</td>\n",
       "    </tr>\n",
       "    <tr>\n",
       "      <th>1909.944214</th>\n",
       "      <td>Silt</td>\n",
       "      <td>Shaly Silt</td>\n",
       "    </tr>\n",
       "    <tr>\n",
       "      <th>1910.096558</th>\n",
       "      <td>Silt</td>\n",
       "      <td>Silt</td>\n",
       "    </tr>\n",
       "    <tr>\n",
       "      <th>1910.249023</th>\n",
       "      <td>Silt</td>\n",
       "      <td>Silt</td>\n",
       "    </tr>\n",
       "    <tr>\n",
       "      <th>1910.401367</th>\n",
       "      <td>Silt</td>\n",
       "      <td>Silt</td>\n",
       "    </tr>\n",
       "    <tr>\n",
       "      <th>...</th>\n",
       "      <td>...</td>\n",
       "      <td>...</td>\n",
       "    </tr>\n",
       "    <tr>\n",
       "      <th>5438.309082</th>\n",
       "      <td>Cross Bedded Sst</td>\n",
       "      <td>Silt</td>\n",
       "    </tr>\n",
       "    <tr>\n",
       "      <th>5438.461426</th>\n",
       "      <td>Cross Bedded Sst</td>\n",
       "      <td>Silt</td>\n",
       "    </tr>\n",
       "    <tr>\n",
       "      <th>5438.613769</th>\n",
       "      <td>Cross Bedded Sst</td>\n",
       "      <td>Cross Bedded Sst</td>\n",
       "    </tr>\n",
       "    <tr>\n",
       "      <th>5438.766113</th>\n",
       "      <td>Cross Bedded Sst</td>\n",
       "      <td>Cross Bedded Sst</td>\n",
       "    </tr>\n",
       "    <tr>\n",
       "      <th>5438.918457</th>\n",
       "      <td>Cross Bedded Sst</td>\n",
       "      <td>Cross Bedded Sst</td>\n",
       "    </tr>\n",
       "  </tbody>\n",
       "</table>\n",
       "<p>22911 rows × 2 columns</p>\n",
       "</div>"
      ],
      "text/plain": [
       "            LITHOLOGY_GEOLINK              pred\n",
       "DEPT                                           \n",
       "1909.791748              Silt        Shaly Silt\n",
       "1909.944214              Silt        Shaly Silt\n",
       "1910.096558              Silt              Silt\n",
       "1910.249023              Silt              Silt\n",
       "1910.401367              Silt              Silt\n",
       "...                       ...               ...\n",
       "5438.309082  Cross Bedded Sst              Silt\n",
       "5438.461426  Cross Bedded Sst              Silt\n",
       "5438.613769  Cross Bedded Sst  Cross Bedded Sst\n",
       "5438.766113  Cross Bedded Sst  Cross Bedded Sst\n",
       "5438.918457  Cross Bedded Sst  Cross Bedded Sst\n",
       "\n",
       "[22911 rows x 2 columns]"
      ]
     },
     "execution_count": 80,
     "metadata": {},
     "output_type": "execute_result"
    }
   ],
   "source": [
    "df_log_results = logs.iloc[seq_length:].copy()\n",
    "df_log_results['pred'] = pd.Categorical(encoder.inverse_transform(preds), categories=df_log_results.LITHOLOGY_GEOLINK.values.categories)\n",
    "df_log_results[['LITHOLOGY_GEOLINK', 'pred']]"
   ]
  },
  {
   "cell_type": "code",
   "execution_count": 113,
   "metadata": {
    "ExecuteTime": {
     "end_time": "2020-09-21T01:37:26.063000Z",
     "start_time": "2020-09-21T01:37:24.968762Z"
    }
   },
   "outputs": [
    {
     "data": {
      "image/png": "[encoded data removed]",
      "text/plain": [
       "<Figure size 720x864 with 7 Axes>"
      ]
     },
     "metadata": {
      "needs_background": "light"
     },
     "output_type": "display_data"
    }
   ],
   "source": [
    "from deep_ml_curriculum.visualization.well_log import plot_well_pred\n",
    "plot_well_pred(well_name, df_log_results,\n",
    "               facies_true=df_log_results.LITHOLOGY_GEOLINK.values, \n",
    "               facies_pred=df_log_results.pred.values)\n",
    "plt.show()"
   ]
  },
  {
   "cell_type": "markdown",
   "metadata": {},
   "source": [
    "As we saw in the previous examples the model requires training over 100s of epochs to reach the best results. However, in this example due to large size of dataset and the model we stopped after `10` epochs. Try increasing the number of epochs to see how it will affect the accuracy.<br>\n",
    "\n",
    "Obviously the model right now is not performing well. But there are number ways we can improve it:\n",
    "1. Training for longer. instead of stopping after `10` epochs go for longer.\n",
    "2. Increase the hidden state size.\n",
    "3. Increase the size of training data by adding data from more wells to training. \n",
    "4. Increase the size of the sequences so the model get to look further in the history.\n",
    "\n",
    "#### Exercise 2\n",
    "Try one of the options above to improve the model."
   ]
  },
  {
   "cell_type": "code",
   "execution_count": null,
   "metadata": {
    "ExecuteTime": {
     "end_time": "2020-09-19T03:22:08.838626Z",
     "start_time": "2020-09-19T03:22:08.831396Z"
    }
   },
   "outputs": [],
   "source": []
  },
  {
   "cell_type": "code",
   "execution_count": null,
   "metadata": {
    "ExecuteTime": {
     "end_time": "2020-09-21T01:02:23.765387Z",
     "start_time": "2020-09-21T00:59:35.200Z"
    }
   },
   "outputs": [],
   "source": [
    "# Code Here"
   ]
  },
  {
   "cell_type": "markdown",
   "metadata": {},
   "source": [
    "Let's have a look at model's predictions."
   ]
  },
  {
   "cell_type": "code",
   "execution_count": null,
   "metadata": {
    "ExecuteTime": {
     "end_time": "2020-09-19T00:26:44.740461Z",
     "start_time": "2020-09-19T00:26:38.708893Z"
    }
   },
   "outputs": [],
   "source": []
  },
  {
   "cell_type": "markdown",
   "metadata": {},
   "source": [
    "The distribution of data shows that the model is too focused on type `17` and `18` which is why we are having low accuracy."
   ]
  },
  {
   "cell_type": "markdown",
   "metadata": {},
   "source": [
    "\n",
    "<div class=\"alert alert-success\">\n",
    "    \n",
    "### Solutions  \n",
    "<details><summary>See solutions</summary>\n",
    "\n",
    "<details><summary>Exercise 1</summary>\n",
    "<b>Increase sequence length to 18</b>\n",
    "\n",
    "```Python\n",
    "seq_length = 18\n",
    "x, y = create_seq_data(data,seq_length)\n",
    "xtrain = x[:100,:,:]\n",
    "ytrain = y[:100,:]\n",
    "xtest = x[100:,:,:]\n",
    "ytest = y[100:,:]\n",
    "model = LSTM(1, 50, 1)\n",
    "optimizer = torch.optim.Adam(model.parameters(), lr=0.01)\n",
    "train_model(model, xtrain, ytrain, 500)\n",
    "```\n",
    "<b>Change model size to 100</b>\n",
    "```Python\n",
    "model = LSTM(1, 100, 1)\n",
    "optimizer = torch.optim.Adam(model.parameters(), lr=0.01)\n",
    "train_model(model, xtrain, ytrain, 500)\n",
    "```\n",
    "\n",
    "</details>\n",
    "<details><summary>Exercise 2</summary>\n",
    "    <b>Larger hidden size</b>\n",
    "    \n",
    "```Python\n",
    "model = LSTM(\n",
    "    input_size=len(feat_cols),\n",
    "    hidden_size=400,\n",
    "    num_layers=1,\n",
    "    output_size=output_size,\n",
    ").to(device)\n",
    "optimizer = optim.Adam(model.parameters(), lr=0.001)\n",
    "training_loop(10, 1024)\n",
    "```\n",
    "\n",
    "<b>Train longer</b>\n",
    "    \n",
    "```Python\n",
    "model = LSTM(\n",
    "    input_size=len(feat_cols),\n",
    "    hidden_size=200,\n",
    "    num_layers=1,\n",
    "    output_size=output_size,\n",
    ").to(device)\n",
    "optimizer = optim.Adam(model.parameters(), lr=0.001)\n",
    "training_loop(20, 1024)\n",
    "```\n",
    " \n",
    "</details>\n",
    "</details>\n",
    "</div>"
   ]
  },
  {
   "cell_type": "markdown",
   "metadata": {},
   "source": [
    "## Further Reading\n",
    "- [Introduction to RNN](http://slazebni.cs.illinois.edu/spring17/lec02_rnn.pdf)\n",
    "- [A friendly introduction to Recurrent Neural Networks](https://www.youtube.com/watch?v=UNmqTiOnRfg)\n",
    "- [Recurrent Neural Networks (RNN) and Long Short-Term Memory (LSTM)](https://www.youtube.com/watch?v=WCUNPb-5EYI&t=97s)\n",
    "- [Introduction to LSTM](https://medium.com/x8-the-ai-community/a-7-minute-introduction-to-lstm-5e1480e6f52a)\n",
    "- [LSTM and GRU](https://towardsdatascience.com/illustrated-guide-to-lstms-and-gru-s-a-step-by-step-explanation-44e9eb85bf21)\n",
    "- [Time Series Prediction with LSTM](https://stackabuse.com/time-series-prediction-using-lstm-with-pytorch-in-python/)\n",
    "- [Building RNN from scratch](https://medium.com/dair-ai/building-rnns-is-fun-with-pytorch-and-google-colab-3903ea9a3a79)\n"
   ]
  },
  {
   "cell_type": "code",
   "execution_count": null,
   "metadata": {},
   "outputs": [],
   "source": []
  }
 ],
 "metadata": {
  "colab": {
   "collapsed_sections": [],
   "name": "Recurrent Neural Networks.ipynb",
   "provenance": [],
   "toc_visible": true
  },
  "kernelspec": {
   "display_name": "deep_ml_curriculum",
   "language": "python",
   "name": "deep_ml_curriculum"
  },
  "language_info": {
   "codemirror_mode": {
    "name": "ipython",
    "version": 3
   },
   "file_extension": ".py",
   "mimetype": "text/x-python",
   "name": "python",
   "nbconvert_exporter": "python",
   "pygments_lexer": "ipython3",
   "version": "3.6.10"
  },
  "toc": {
   "base_numbering": 1,
   "nav_menu": {},
   "number_sections": true,
   "sideBar": true,
   "skip_h1_title": false,
   "title_cell": "Table of Contents",
   "title_sidebar": "Contents",
   "toc_cell": false,
   "toc_position": {
    "height": "calc(100% - 180px)",
    "left": "10px",
    "top": "150px",
    "width": "384px"
   },
   "toc_section_display": true,
   "toc_window_display": true
  },
  "widgets": {
   "application/vnd.jupyter.widget-state+json": {
    "0de1f271c85a490db7b212f29a2e98db": {
     "model_module": "@jupyter-widgets/base",
     "model_name": "LayoutModel",
     "state": {
      "_model_module": "@jupyter-widgets/base",
      "_model_module_version": "1.2.0",
      "_model_name": "LayoutModel",
      "_view_count": null,
      "_view_module": "@jupyter-widgets/base",
      "_view_module_version": "1.2.0",
      "_view_name": "LayoutView",
      "align_content": null,
      "align_items": null,
      "align_self": null,
      "border": null,
      "bottom": null,
      "display": null,
      "flex": null,
      "flex_flow": null,
      "grid_area": null,
      "grid_auto_columns": null,
      "grid_auto_flow": null,
      "grid_auto_rows": null,
      "grid_column": null,
      "grid_gap": null,
      "grid_row": null,
      "grid_template_areas": null,
      "grid_template_columns": null,
      "grid_template_rows": null,
      "height": null,
      "justify_content": null,
      "justify_items": null,
      "left": null,
      "margin": null,
      "max_height": null,
      "max_width": null,
      "min_height": null,
      "min_width": null,
      "object_fit": null,
      "object_position": null,
      "order": null,
      "overflow": null,
      "overflow_x": null,
      "overflow_y": null,
      "padding": null,
      "right": null,
      "top": null,
      "visibility": null,
      "width": null
     }
    },
    "1bb877b53ce64c5c89a0e0fddf99510f": {
     "model_module": "@jupyter-widgets/controls",
     "model_name": "FloatProgressModel",
     "state": {
      "_dom_classes": [],
      "_model_module": "@jupyter-widgets/controls",
      "_model_module_version": "1.5.0",
      "_model_name": "FloatProgressModel",
      "_view_count": null,
      "_view_module": "@jupyter-widgets/controls",
      "_view_module_version": "1.5.0",
      "_view_name": "ProgressView",
      "bar_style": "success",
      "description": "100%",
      "description_tooltip": null,
      "layout": "IPY_MODEL_8f31d4f3e4f343c2b45596c7a8acd798",
      "max": 100,
      "min": 0,
      "orientation": "horizontal",
      "style": "IPY_MODEL_9113c8e51cb44ccba8f7d76dcaf1f2b3",
      "value": 100
     }
    },
    "2249f632765e44fb873c5b52e38952b3": {
     "model_module": "@jupyter-widgets/controls",
     "model_name": "HBoxModel",
     "state": {
      "_dom_classes": [],
      "_model_module": "@jupyter-widgets/controls",
      "_model_module_version": "1.5.0",
      "_model_name": "HBoxModel",
      "_view_count": null,
      "_view_module": "@jupyter-widgets/controls",
      "_view_module_version": "1.5.0",
      "_view_name": "HBoxView",
      "box_style": "",
      "children": [
       "IPY_MODEL_2c444039590c49d7b0ba75e37b9396a2",
       "IPY_MODEL_779b8d08fe4d424296bd06322a8c055b"
      ],
      "layout": "IPY_MODEL_ea24cf68548440d6bb27527e1e8b231a"
     }
    },
    "239a06e64dee49a0bc6a64ae48782dfa": {
     "model_module": "@jupyter-widgets/base",
     "model_name": "LayoutModel",
     "state": {
      "_model_module": "@jupyter-widgets/base",
      "_model_module_version": "1.2.0",
      "_model_name": "LayoutModel",
      "_view_count": null,
      "_view_module": "@jupyter-widgets/base",
      "_view_module_version": "1.2.0",
      "_view_name": "LayoutView",
      "align_content": null,
      "align_items": null,
      "align_self": null,
      "border": null,
      "bottom": null,
      "display": null,
      "flex": null,
      "flex_flow": null,
      "grid_area": null,
      "grid_auto_columns": null,
      "grid_auto_flow": null,
      "grid_auto_rows": null,
      "grid_column": null,
      "grid_gap": null,
      "grid_row": null,
      "grid_template_areas": null,
      "grid_template_columns": null,
      "grid_template_rows": null,
      "height": null,
      "justify_content": null,
      "justify_items": null,
      "left": null,
      "margin": null,
      "max_height": null,
      "max_width": null,
      "min_height": null,
      "min_width": null,
      "object_fit": null,
      "object_position": null,
      "order": null,
      "overflow": null,
      "overflow_x": null,
      "overflow_y": null,
      "padding": null,
      "right": null,
      "top": null,
      "visibility": null,
      "width": null
     }
    },
    "2708bb5b48024a0a97470b123004e914": {
     "model_module": "@jupyter-widgets/controls",
     "model_name": "ProgressStyleModel",
     "state": {
      "_model_module": "@jupyter-widgets/controls",
      "_model_module_version": "1.5.0",
      "_model_name": "ProgressStyleModel",
      "_view_count": null,
      "_view_module": "@jupyter-widgets/base",
      "_view_module_version": "1.2.0",
      "_view_name": "StyleView",
      "bar_color": null,
      "description_width": "initial"
     }
    },
    "2c444039590c49d7b0ba75e37b9396a2": {
     "model_module": "@jupyter-widgets/controls",
     "model_name": "FloatProgressModel",
     "state": {
      "_dom_classes": [],
      "_model_module": "@jupyter-widgets/controls",
      "_model_module_version": "1.5.0",
      "_model_name": "FloatProgressModel",
      "_view_count": null,
      "_view_module": "@jupyter-widgets/controls",
      "_view_module_version": "1.5.0",
      "_view_name": "ProgressView",
      "bar_style": "success",
      "description": "100%",
      "description_tooltip": null,
      "layout": "IPY_MODEL_239a06e64dee49a0bc6a64ae48782dfa",
      "max": 500,
      "min": 0,
      "orientation": "horizontal",
      "style": "IPY_MODEL_2708bb5b48024a0a97470b123004e914",
      "value": 500
     }
    },
    "2e9111de005e458faa5dadf8f4757ce0": {
     "model_module": "@jupyter-widgets/base",
     "model_name": "LayoutModel",
     "state": {
      "_model_module": "@jupyter-widgets/base",
      "_model_module_version": "1.2.0",
      "_model_name": "LayoutModel",
      "_view_count": null,
      "_view_module": "@jupyter-widgets/base",
      "_view_module_version": "1.2.0",
      "_view_name": "LayoutView",
      "align_content": null,
      "align_items": null,
      "align_self": null,
      "border": null,
      "bottom": null,
      "display": null,
      "flex": null,
      "flex_flow": null,
      "grid_area": null,
      "grid_auto_columns": null,
      "grid_auto_flow": null,
      "grid_auto_rows": null,
      "grid_column": null,
      "grid_gap": null,
      "grid_row": null,
      "grid_template_areas": null,
      "grid_template_columns": null,
      "grid_template_rows": null,
      "height": null,
      "justify_content": null,
      "justify_items": null,
      "left": null,
      "margin": null,
      "max_height": null,
      "max_width": null,
      "min_height": null,
      "min_width": null,
      "object_fit": null,
      "object_position": null,
      "order": null,
      "overflow": null,
      "overflow_x": null,
      "overflow_y": null,
      "padding": null,
      "right": null,
      "top": null,
      "visibility": null,
      "width": null
     }
    },
    "3c46c1b220494ef4830e6c1f6c75f2d3": {
     "model_module": "@jupyter-widgets/base",
     "model_name": "LayoutModel",
     "state": {
      "_model_module": "@jupyter-widgets/base",
      "_model_module_version": "1.2.0",
      "_model_name": "LayoutModel",
      "_view_count": null,
      "_view_module": "@jupyter-widgets/base",
      "_view_module_version": "1.2.0",
      "_view_name": "LayoutView",
      "align_content": null,
      "align_items": null,
      "align_self": null,
      "border": null,
      "bottom": null,
      "display": null,
      "flex": null,
      "flex_flow": null,
      "grid_area": null,
      "grid_auto_columns": null,
      "grid_auto_flow": null,
      "grid_auto_rows": null,
      "grid_column": null,
      "grid_gap": null,
      "grid_row": null,
      "grid_template_areas": null,
      "grid_template_columns": null,
      "grid_template_rows": null,
      "height": null,
      "justify_content": null,
      "justify_items": null,
      "left": null,
      "margin": null,
      "max_height": null,
      "max_width": null,
      "min_height": null,
      "min_width": null,
      "object_fit": null,
      "object_position": null,
      "order": null,
      "overflow": null,
      "overflow_x": null,
      "overflow_y": null,
      "padding": null,
      "right": null,
      "top": null,
      "visibility": null,
      "width": null
     }
    },
    "4e2682af756042e5808bb471c318a154": {
     "model_module": "@jupyter-widgets/base",
     "model_name": "LayoutModel",
     "state": {
      "_model_module": "@jupyter-widgets/base",
      "_model_module_version": "1.2.0",
      "_model_name": "LayoutModel",
      "_view_count": null,
      "_view_module": "@jupyter-widgets/base",
      "_view_module_version": "1.2.0",
      "_view_name": "LayoutView",
      "align_content": null,
      "align_items": null,
      "align_self": null,
      "border": null,
      "bottom": null,
      "display": null,
      "flex": null,
      "flex_flow": null,
      "grid_area": null,
      "grid_auto_columns": null,
      "grid_auto_flow": null,
      "grid_auto_rows": null,
      "grid_column": null,
      "grid_gap": null,
      "grid_row": null,
      "grid_template_areas": null,
      "grid_template_columns": null,
      "grid_template_rows": null,
      "height": null,
      "justify_content": null,
      "justify_items": null,
      "left": null,
      "margin": null,
      "max_height": null,
      "max_width": null,
      "min_height": null,
      "min_width": null,
      "object_fit": null,
      "object_position": null,
      "order": null,
      "overflow": null,
      "overflow_x": null,
      "overflow_y": null,
      "padding": null,
      "right": null,
      "top": null,
      "visibility": null,
      "width": null
     }
    },
    "70ccc0ca7efc48599f9514c6201b2073": {
     "model_module": "@jupyter-widgets/controls",
     "model_name": "DescriptionStyleModel",
     "state": {
      "_model_module": "@jupyter-widgets/controls",
      "_model_module_version": "1.5.0",
      "_model_name": "DescriptionStyleModel",
      "_view_count": null,
      "_view_module": "@jupyter-widgets/base",
      "_view_module_version": "1.2.0",
      "_view_name": "StyleView",
      "description_width": ""
     }
    },
    "779b8d08fe4d424296bd06322a8c055b": {
     "model_module": "@jupyter-widgets/controls",
     "model_name": "HTMLModel",
     "state": {
      "_dom_classes": [],
      "_model_module": "@jupyter-widgets/controls",
      "_model_module_version": "1.5.0",
      "_model_name": "HTMLModel",
      "_view_count": null,
      "_view_module": "@jupyter-widgets/controls",
      "_view_module_version": "1.5.0",
      "_view_name": "HTMLView",
      "description": "",
      "description_tooltip": null,
      "layout": "IPY_MODEL_0de1f271c85a490db7b212f29a2e98db",
      "placeholder": "​",
      "style": "IPY_MODEL_ec7d5619230044ab8149273a33c7d1db",
      "value": " 500/500 [00:13&lt;00:00, 38.17it/s]"
     }
    },
    "8f31d4f3e4f343c2b45596c7a8acd798": {
     "model_module": "@jupyter-widgets/base",
     "model_name": "LayoutModel",
     "state": {
      "_model_module": "@jupyter-widgets/base",
      "_model_module_version": "1.2.0",
      "_model_name": "LayoutModel",
      "_view_count": null,
      "_view_module": "@jupyter-widgets/base",
      "_view_module_version": "1.2.0",
      "_view_name": "LayoutView",
      "align_content": null,
      "align_items": null,
      "align_self": null,
      "border": null,
      "bottom": null,
      "display": null,
      "flex": null,
      "flex_flow": null,
      "grid_area": null,
      "grid_auto_columns": null,
      "grid_auto_flow": null,
      "grid_auto_rows": null,
      "grid_column": null,
      "grid_gap": null,
      "grid_row": null,
      "grid_template_areas": null,
      "grid_template_columns": null,
      "grid_template_rows": null,
      "height": null,
      "justify_content": null,
      "justify_items": null,
      "left": null,
      "margin": null,
      "max_height": null,
      "max_width": null,
      "min_height": null,
      "min_width": null,
      "object_fit": null,
      "object_position": null,
      "order": null,
      "overflow": null,
      "overflow_x": null,
      "overflow_y": null,
      "padding": null,
      "right": null,
      "top": null,
      "visibility": null,
      "width": null
     }
    },
    "9113c8e51cb44ccba8f7d76dcaf1f2b3": {
     "model_module": "@jupyter-widgets/controls",
     "model_name": "ProgressStyleModel",
     "state": {
      "_model_module": "@jupyter-widgets/controls",
      "_model_module_version": "1.5.0",
      "_model_name": "ProgressStyleModel",
      "_view_count": null,
      "_view_module": "@jupyter-widgets/base",
      "_view_module_version": "1.2.0",
      "_view_name": "StyleView",
      "bar_color": null,
      "description_width": "initial"
     }
    },
    "967cb446a5ee4a5a9f592104126b6aeb": {
     "model_module": "@jupyter-widgets/controls",
     "model_name": "HTMLModel",
     "state": {
      "_dom_classes": [],
      "_model_module": "@jupyter-widgets/controls",
      "_model_module_version": "1.5.0",
      "_model_name": "HTMLModel",
      "_view_count": null,
      "_view_module": "@jupyter-widgets/controls",
      "_view_module_version": "1.5.0",
      "_view_name": "HTMLView",
      "description": "",
      "description_tooltip": null,
      "layout": "IPY_MODEL_3c46c1b220494ef4830e6c1f6c75f2d3",
      "placeholder": "​",
      "style": "IPY_MODEL_996b5d7e77e14820ac4694ce102f3d2d",
      "value": " 100/100 [06:03&lt;00:00,  3.64s/it]"
     }
    },
    "996b5d7e77e14820ac4694ce102f3d2d": {
     "model_module": "@jupyter-widgets/controls",
     "model_name": "DescriptionStyleModel",
     "state": {
      "_model_module": "@jupyter-widgets/controls",
      "_model_module_version": "1.5.0",
      "_model_name": "DescriptionStyleModel",
      "_view_count": null,
      "_view_module": "@jupyter-widgets/base",
      "_view_module_version": "1.2.0",
      "_view_name": "StyleView",
      "description_width": ""
     }
    },
    "a37da43322f54d0cb3a587c85f87f146": {
     "model_module": "@jupyter-widgets/controls",
     "model_name": "HBoxModel",
     "state": {
      "_dom_classes": [],
      "_model_module": "@jupyter-widgets/controls",
      "_model_module_version": "1.5.0",
      "_model_name": "HBoxModel",
      "_view_count": null,
      "_view_module": "@jupyter-widgets/controls",
      "_view_module_version": "1.5.0",
      "_view_name": "HBoxView",
      "box_style": "",
      "children": [
       "IPY_MODEL_1bb877b53ce64c5c89a0e0fddf99510f",
       "IPY_MODEL_967cb446a5ee4a5a9f592104126b6aeb"
      ],
      "layout": "IPY_MODEL_2e9111de005e458faa5dadf8f4757ce0"
     }
    },
    "a41a857b0bcf4d16b95599f019f125bf": {
     "model_module": "@jupyter-widgets/controls",
     "model_name": "ProgressStyleModel",
     "state": {
      "_model_module": "@jupyter-widgets/controls",
      "_model_module_version": "1.5.0",
      "_model_name": "ProgressStyleModel",
      "_view_count": null,
      "_view_module": "@jupyter-widgets/base",
      "_view_module_version": "1.2.0",
      "_view_name": "StyleView",
      "bar_color": null,
      "description_width": "initial"
     }
    },
    "bf8163e5e5d640dc94e74413ce3137b5": {
     "model_module": "@jupyter-widgets/controls",
     "model_name": "FloatProgressModel",
     "state": {
      "_dom_classes": [],
      "_model_module": "@jupyter-widgets/controls",
      "_model_module_version": "1.5.0",
      "_model_name": "FloatProgressModel",
      "_view_count": null,
      "_view_module": "@jupyter-widgets/controls",
      "_view_module_version": "1.5.0",
      "_view_name": "ProgressView",
      "bar_style": "success",
      "description": "100%",
      "description_tooltip": null,
      "layout": "IPY_MODEL_4e2682af756042e5808bb471c318a154",
      "max": 500,
      "min": 0,
      "orientation": "horizontal",
      "style": "IPY_MODEL_a41a857b0bcf4d16b95599f019f125bf",
      "value": 500
     }
    },
    "c1048481b4694b12ab408fcb1ddb8b31": {
     "model_module": "@jupyter-widgets/controls",
     "model_name": "HBoxModel",
     "state": {
      "_dom_classes": [],
      "_model_module": "@jupyter-widgets/controls",
      "_model_module_version": "1.5.0",
      "_model_name": "HBoxModel",
      "_view_count": null,
      "_view_module": "@jupyter-widgets/controls",
      "_view_module_version": "1.5.0",
      "_view_name": "HBoxView",
      "box_style": "",
      "children": [
       "IPY_MODEL_bf8163e5e5d640dc94e74413ce3137b5",
       "IPY_MODEL_d6d149b77d024d8a81f0df42ee176200"
      ],
      "layout": "IPY_MODEL_c17715512f7c44ca9a1126844f832a41"
     }
    },
    "c17715512f7c44ca9a1126844f832a41": {
     "model_module": "@jupyter-widgets/base",
     "model_name": "LayoutModel",
     "state": {
      "_model_module": "@jupyter-widgets/base",
      "_model_module_version": "1.2.0",
      "_model_name": "LayoutModel",
      "_view_count": null,
      "_view_module": "@jupyter-widgets/base",
      "_view_module_version": "1.2.0",
      "_view_name": "LayoutView",
      "align_content": null,
      "align_items": null,
      "align_self": null,
      "border": null,
      "bottom": null,
      "display": null,
      "flex": null,
      "flex_flow": null,
      "grid_area": null,
      "grid_auto_columns": null,
      "grid_auto_flow": null,
      "grid_auto_rows": null,
      "grid_column": null,
      "grid_gap": null,
      "grid_row": null,
      "grid_template_areas": null,
      "grid_template_columns": null,
      "grid_template_rows": null,
      "height": null,
      "justify_content": null,
      "justify_items": null,
      "left": null,
      "margin": null,
      "max_height": null,
      "max_width": null,
      "min_height": null,
      "min_width": null,
      "object_fit": null,
      "object_position": null,
      "order": null,
      "overflow": null,
      "overflow_x": null,
      "overflow_y": null,
      "padding": null,
      "right": null,
      "top": null,
      "visibility": null,
      "width": null
     }
    },
    "d6d149b77d024d8a81f0df42ee176200": {
     "model_module": "@jupyter-widgets/controls",
     "model_name": "HTMLModel",
     "state": {
      "_dom_classes": [],
      "_model_module": "@jupyter-widgets/controls",
      "_model_module_version": "1.5.0",
      "_model_name": "HTMLModel",
      "_view_count": null,
      "_view_module": "@jupyter-widgets/controls",
      "_view_module_version": "1.5.0",
      "_view_name": "HTMLView",
      "description": "",
      "description_tooltip": null,
      "layout": "IPY_MODEL_f3806fac15e545f597473d41d3708200",
      "placeholder": "​",
      "style": "IPY_MODEL_70ccc0ca7efc48599f9514c6201b2073",
      "value": " 500/500 [00:08&lt;00:00, 56.35it/s]"
     }
    },
    "ea24cf68548440d6bb27527e1e8b231a": {
     "model_module": "@jupyter-widgets/base",
     "model_name": "LayoutModel",
     "state": {
      "_model_module": "@jupyter-widgets/base",
      "_model_module_version": "1.2.0",
      "_model_name": "LayoutModel",
      "_view_count": null,
      "_view_module": "@jupyter-widgets/base",
      "_view_module_version": "1.2.0",
      "_view_name": "LayoutView",
      "align_content": null,
      "align_items": null,
      "align_self": null,
      "border": null,
      "bottom": null,
      "display": null,
      "flex": null,
      "flex_flow": null,
      "grid_area": null,
      "grid_auto_columns": null,
      "grid_auto_flow": null,
      "grid_auto_rows": null,
      "grid_column": null,
      "grid_gap": null,
      "grid_row": null,
      "grid_template_areas": null,
      "grid_template_columns": null,
      "grid_template_rows": null,
      "height": null,
      "justify_content": null,
      "justify_items": null,
      "left": null,
      "margin": null,
      "max_height": null,
      "max_width": null,
      "min_height": null,
      "min_width": null,
      "object_fit": null,
      "object_position": null,
      "order": null,
      "overflow": null,
      "overflow_x": null,
      "overflow_y": null,
      "padding": null,
      "right": null,
      "top": null,
      "visibility": null,
      "width": null
     }
    },
    "ec7d5619230044ab8149273a33c7d1db": {
     "model_module": "@jupyter-widgets/controls",
     "model_name": "DescriptionStyleModel",
     "state": {
      "_model_module": "@jupyter-widgets/controls",
      "_model_module_version": "1.5.0",
      "_model_name": "DescriptionStyleModel",
      "_view_count": null,
      "_view_module": "@jupyter-widgets/base",
      "_view_module_version": "1.2.0",
      "_view_name": "StyleView",
      "description_width": ""
     }
    },
    "f3806fac15e545f597473d41d3708200": {
     "model_module": "@jupyter-widgets/base",
     "model_name": "LayoutModel",
     "state": {
      "_model_module": "@jupyter-widgets/base",
      "_model_module_version": "1.2.0",
      "_model_name": "LayoutModel",
      "_view_count": null,
      "_view_module": "@jupyter-widgets/base",
      "_view_module_version": "1.2.0",
      "_view_name": "LayoutView",
      "align_content": null,
      "align_items": null,
      "align_self": null,
      "border": null,
      "bottom": null,
      "display": null,
      "flex": null,
      "flex_flow": null,
      "grid_area": null,
      "grid_auto_columns": null,
      "grid_auto_flow": null,
      "grid_auto_rows": null,
      "grid_column": null,
      "grid_gap": null,
      "grid_row": null,
      "grid_template_areas": null,
      "grid_template_columns": null,
      "grid_template_rows": null,
      "height": null,
      "justify_content": null,
      "justify_items": null,
      "left": null,
      "margin": null,
      "max_height": null,
      "max_width": null,
      "min_height": null,
      "min_width": null,
      "object_fit": null,
      "object_position": null,
      "order": null,
      "overflow": null,
      "overflow_x": null,
      "overflow_y": null,
      "padding": null,
      "right": null,
      "top": null,
      "visibility": null,
      "width": null
     }
    }
   }
  }
 },
 "nbformat": 4,
 "nbformat_minor": 1
}
