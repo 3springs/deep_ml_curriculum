{
 "cells": [
  {
   "cell_type": "markdown",
   "metadata": {
    "ExecuteTime": {
     "end_time": "2020-07-06T13:13:47.216208Z",
     "start_time": "2020-07-06T13:13:47.211457Z"
    }
   },
   "source": [
    "# Introduction\n",
    "\n",
    "This notebook provides examples of some machine learning methods used in supervised learning. Please refer to the table below to navigate through the notebook.\n",
    "\n",
    "## Table of Content\n",
    "0. [Supervised Learning](#supervised)\n",
    "1. [Libraries](#libraries)\n",
    "2. [Dataset](#dataset)\n",
    "1. [KNN](#knn)\n",
    "2. [SVM](#svm)\n",
    "3. [Decision Trees](#decision-trees)\n",
    "4. [Random Forest](#random-forest)"
   ]
  },
  {
   "cell_type": "markdown",
   "metadata": {},
   "source": [
    "# 0. Supervised Learning <a name=\"supervised\"></a>\n",
    "\n",
    "Supervised learning is the machine learning task of learning a function that maps an input to an output based on example input-output pairs [1]. It infers a function from labelled training data consisting of a set of training examples [2].\n",
    "\n",
    "![ML](ml2.png)\n",
    "![ML](ml1.png)\n",
    "\n",
    "Sources:\n",
    "- [Wikipedia](https://en.wikipedia.org/wiki/Supervised_learning#:~:text=Supervised%20learning%20is%20the%20machine,a%20set%20of%20training%20examples.)\n",
    "-  1. Stuart J. Russell, Peter Norvig (2010) Artificial Intelligence: A Modern Approach, Third Edition, Prentice Hall ISBN 9780136042594.\n",
    "-  2. Mehryar Mohri, Afshin Rostamizadeh, Ameet Talwalkar (2012) Foundations of Machine Learning, The MIT Press ISBN 9780262018258."
   ]
  },
  {
   "cell_type": "markdown",
   "metadata": {},
   "source": [
    "## 1. Importing libraries <a name=\"libraries\"></a>"
   ]
  },
  {
   "cell_type": "code",
   "execution_count": 1,
   "metadata": {
    "ExecuteTime": {
     "end_time": "2020-10-21T04:50:14.601365Z",
     "start_time": "2020-10-21T04:50:13.851572Z"
    }
   },
   "outputs": [],
   "source": [
    "import sklearn\n",
    "#Metrics\n",
    "from sklearn.metrics import accuracy_score, confusion_matrix\n",
    "#Classifiers\n",
    "from sklearn.svm import LinearSVC\n",
    "from sklearn import tree\n",
    "from sklearn.ensemble import RandomForestClassifier\n",
    "from sklearn.neighbors import KNeighborsClassifier\n",
    "# Preprocessing\n",
    "from sklearn import preprocessing\n",
    "from sklearn.model_selection import train_test_split\n",
    "from sklearn.preprocessing import StandardScaler\n",
    "# Data visualisation\n",
    "import seaborn as sns\n",
    "import pandas as pd\n",
    "from pathlib import Path\n",
    "import matplotlib.pyplot as plt\n",
    "from matplotlib.colors import ListedColormap\n",
    "\n",
    "%matplotlib inline\n",
    "# Hide all warnings\n",
    "import warnings\n",
    "warnings.filterwarnings('ignore') # warnings.filterwarnings(action='once')"
   ]
  },
  {
   "cell_type": "markdown",
   "metadata": {},
   "source": [
    "## 2. About the Geolink Dataset <a name=\"dataset\"></a>\n",
    "\n",
    "This is a well dataset of Well's Petroleum wells drilled on the Norwegian continental shelf. It was released by the Norweigen Government, cleaned by Geolink, and loaded by LukasMosser. The full dataset has 221 wells, over 150 lithologies, with around 500 MB of data.\n",
    "\n",
    "\n",
    "You don't need to understand the data fully for this course, but here's a brief overview\n",
    "\n",
    "- Well - The well name\n",
    "- DEPT - Depth below the ground in meters\n",
    "- LITHOLOGY_GEOLINK - This is the facies or lithology, which means rock type. This is a label, made by multiple human experts by looking at the context, the well, maps of the area, and often picture of rock samples extracted from the well.\n",
    "- [Well logs](https://en.wikipedia.org/wiki/Well_logging): These are specialised measurements by instruments lowered down the well hole\n",
    "    - CALI - [Caliper log](https://en.wikipedia.org/wiki/Caliper_log), this measures the size of the well bore\n",
    "    - GR - [Gamma Ray](https://en.wikipedia.org/wiki/Gamma_ray_logging): Measure passive amount of high energy electromagnetic radiation naturally emitted from the rock\n",
    "    - RHOB - [Bulk Density](https://en.wikipedia.org/wiki/Density_logging): Measured active amount high energy electromagnetic radiation. This has a transmitting source of gamma rays\n",
    "    - DTC - [Compressional wave](https://en.wikipedia.org/wiki/Longitudinal_wave) travel time: This measure the how long a compressional wave takes to travel through the formationation\n",
    "    - RDEP - [Resistivity](https://en.wikipedia.org/wiki/Resistivity_logging) Deep: Electrical resistivity through the rock with a deep penetration\n",
    "    - RMED - Resistivity Medium: Electrical resistivity through the rock with a nedium penetration\n",
    "    - *Many other well logs were removed as they were not present in all wells*\n",
    "    \n",
    "Interpreting lithology from well logs is a very hard problem for machine learning because:\n",
    "\n",
    "- It's usually done by expert humans (Petrophysicists) with years to decades of experience, not an random human\n",
    "- it takes into account context in the form of prior knowledge, geology, nearby wells, rock samples, and many more. Many of these are forms of information the machine doesn't have access to\n",
    "- The data is unbalanced with important rocks like sandstone sometimes appearing as very thin layers\n",
    "\n",
    "\n",
    "<table>\n",
    "    <tr>\n",
    "        <td>\n",
    "<img width=\"480\" src=\"../../reports/figures/30-4_1.png\"/>\n",
    "        </td>\n",
    "        <td>\n",
    "<img width=\"320\" src=\"../../data/processed/geolink_norge_dataset/location of geolink wells.png\"/>\n",
    "        </td>\n",
    "    </tr>\n",
    "</table>\n",
    "\n",
    "\n",
    "### Data Disclaimer\n",
    "\n",
    "All the data serving as an input to these notebooks was generously donated by GEOLINK  \n",
    "and is CC-by-SA 4.0 \n",
    "\n",
    "If you use this data please reference the dataset properly to give them credit for their contribution.\n",
    "\n",
    "**Note:** download data from https://drive.google.com/drive/folders/1EgDN57LDuvlZAwr5-eHWB5CTJ7K9HpDP\n",
    "\n",
    "Credit to this repo: https://github.com/LukasMosser/geolink_dataset\n",
    "\n",
    "### Data Preparation\n",
    "\n",
    "The geolink dataset we will use in this notebook has been preprocessed. You can find the process of preparation of this dataset in [Data Preparation](../z00_Data_prep/00-mc-prep_geolink_norge_dataset.ipynb)\n",
    "\n",
    "## Load Dataset"
   ]
  },
  {
   "cell_type": "code",
   "execution_count": 2,
   "metadata": {
    "ExecuteTime": {
     "end_time": "2020-10-21T04:50:16.498148Z",
     "start_time": "2020-10-21T04:50:14.602850Z"
    }
   },
   "outputs": [
    {
     "data": {
      "text/html": [
       "<div>\n",
       "<style scoped>\n",
       "    .dataframe tbody tr th:only-of-type {\n",
       "        vertical-align: middle;\n",
       "    }\n",
       "\n",
       "    .dataframe tbody tr th {\n",
       "        vertical-align: top;\n",
       "    }\n",
       "\n",
       "    .dataframe thead th {\n",
       "        text-align: right;\n",
       "    }\n",
       "</style>\n",
       "<table border=\"1\" class=\"dataframe\">\n",
       "  <thead>\n",
       "    <tr style=\"text-align: right;\">\n",
       "      <th></th>\n",
       "      <th>LITHOLOGY_GEOLINK</th>\n",
       "      <th>CALI</th>\n",
       "      <th>DRHO</th>\n",
       "      <th>NPHI</th>\n",
       "      <th>RHOB</th>\n",
       "      <th>GR</th>\n",
       "      <th>DTC</th>\n",
       "      <th>RDEP</th>\n",
       "      <th>SP</th>\n",
       "      <th>RSHA</th>\n",
       "      <th>RMED</th>\n",
       "      <th>DEPT</th>\n",
       "    </tr>\n",
       "    <tr>\n",
       "      <th>DEPT</th>\n",
       "      <th></th>\n",
       "      <th></th>\n",
       "      <th></th>\n",
       "      <th></th>\n",
       "      <th></th>\n",
       "      <th></th>\n",
       "      <th></th>\n",
       "      <th></th>\n",
       "      <th></th>\n",
       "      <th></th>\n",
       "      <th></th>\n",
       "      <th></th>\n",
       "    </tr>\n",
       "  </thead>\n",
       "  <tbody>\n",
       "    <tr>\n",
       "      <th>2085.750000</th>\n",
       "      <td>Cinerite</td>\n",
       "      <td>17.159000</td>\n",
       "      <td>0.072</td>\n",
       "      <td>0.00000</td>\n",
       "      <td>2.220757</td>\n",
       "      <td>109.011002</td>\n",
       "      <td>127.011429</td>\n",
       "      <td>1.170</td>\n",
       "      <td>42.013000</td>\n",
       "      <td>0.547</td>\n",
       "      <td>0.547</td>\n",
       "      <td>2085.750000</td>\n",
       "    </tr>\n",
       "    <tr>\n",
       "      <th>2085.875000</th>\n",
       "      <td>Silt</td>\n",
       "      <td>17.187000</td>\n",
       "      <td>0.014</td>\n",
       "      <td>0.00000</td>\n",
       "      <td>2.163988</td>\n",
       "      <td>113.018997</td>\n",
       "      <td>127.219872</td>\n",
       "      <td>1.147</td>\n",
       "      <td>41.969002</td>\n",
       "      <td>0.549</td>\n",
       "      <td>0.549</td>\n",
       "      <td>2085.875000</td>\n",
       "    </tr>\n",
       "    <tr>\n",
       "      <th>2086.000000</th>\n",
       "      <td>Silt</td>\n",
       "      <td>17.198000</td>\n",
       "      <td>0.000</td>\n",
       "      <td>0.00000</td>\n",
       "      <td>2.132627</td>\n",
       "      <td>115.380997</td>\n",
       "      <td>127.867149</td>\n",
       "      <td>1.131</td>\n",
       "      <td>42.324001</td>\n",
       "      <td>0.550</td>\n",
       "      <td>0.550</td>\n",
       "      <td>2086.000000</td>\n",
       "    </tr>\n",
       "    <tr>\n",
       "      <th>2086.125000</th>\n",
       "      <td>Silt</td>\n",
       "      <td>17.193001</td>\n",
       "      <td>0.032</td>\n",
       "      <td>0.00000</td>\n",
       "      <td>2.138454</td>\n",
       "      <td>116.207001</td>\n",
       "      <td>128.846787</td>\n",
       "      <td>1.125</td>\n",
       "      <td>42.834999</td>\n",
       "      <td>0.545</td>\n",
       "      <td>0.545</td>\n",
       "      <td>2086.125000</td>\n",
       "    </tr>\n",
       "    <tr>\n",
       "      <th>2086.250000</th>\n",
       "      <td>Silt</td>\n",
       "      <td>17.179001</td>\n",
       "      <td>0.074</td>\n",
       "      <td>0.00000</td>\n",
       "      <td>2.170922</td>\n",
       "      <td>116.153000</td>\n",
       "      <td>130.015976</td>\n",
       "      <td>1.130</td>\n",
       "      <td>43.605999</td>\n",
       "      <td>0.535</td>\n",
       "      <td>0.535</td>\n",
       "      <td>2086.250000</td>\n",
       "    </tr>\n",
       "    <tr>\n",
       "      <th>...</th>\n",
       "      <td>...</td>\n",
       "      <td>...</td>\n",
       "      <td>...</td>\n",
       "      <td>...</td>\n",
       "      <td>...</td>\n",
       "      <td>...</td>\n",
       "      <td>...</td>\n",
       "      <td>...</td>\n",
       "      <td>...</td>\n",
       "      <td>...</td>\n",
       "      <td>...</td>\n",
       "      <td>...</td>\n",
       "    </tr>\n",
       "    <tr>\n",
       "      <th>3974.250732</th>\n",
       "      <td>Silt</td>\n",
       "      <td>9.486000</td>\n",
       "      <td>0.044</td>\n",
       "      <td>0.11920</td>\n",
       "      <td>2.486290</td>\n",
       "      <td>54.765999</td>\n",
       "      <td>64.817436</td>\n",
       "      <td>3.815</td>\n",
       "      <td>38.742001</td>\n",
       "      <td>5.172</td>\n",
       "      <td>5.172</td>\n",
       "      <td>3974.250732</td>\n",
       "    </tr>\n",
       "    <tr>\n",
       "      <th>3974.375488</th>\n",
       "      <td>Silt</td>\n",
       "      <td>9.487000</td>\n",
       "      <td>0.035</td>\n",
       "      <td>0.11586</td>\n",
       "      <td>2.472456</td>\n",
       "      <td>52.576000</td>\n",
       "      <td>63.746723</td>\n",
       "      <td>3.773</td>\n",
       "      <td>39.074001</td>\n",
       "      <td>5.172</td>\n",
       "      <td>5.172</td>\n",
       "      <td>3974.375488</td>\n",
       "    </tr>\n",
       "    <tr>\n",
       "      <th>3974.500488</th>\n",
       "      <td>Silt</td>\n",
       "      <td>9.491000</td>\n",
       "      <td>0.025</td>\n",
       "      <td>0.11379</td>\n",
       "      <td>2.455452</td>\n",
       "      <td>49.529999</td>\n",
       "      <td>63.055447</td>\n",
       "      <td>3.729</td>\n",
       "      <td>38.865002</td>\n",
       "      <td>5.157</td>\n",
       "      <td>5.157</td>\n",
       "      <td>3974.500488</td>\n",
       "    </tr>\n",
       "    <tr>\n",
       "      <th>3974.625488</th>\n",
       "      <td>Silt</td>\n",
       "      <td>9.498000</td>\n",
       "      <td>0.015</td>\n",
       "      <td>0.11430</td>\n",
       "      <td>2.438841</td>\n",
       "      <td>46.630001</td>\n",
       "      <td>62.748348</td>\n",
       "      <td>3.686</td>\n",
       "      <td>38.362000</td>\n",
       "      <td>5.116</td>\n",
       "      <td>5.116</td>\n",
       "      <td>3974.625488</td>\n",
       "    </tr>\n",
       "    <tr>\n",
       "      <th>3974.750488</th>\n",
       "      <td>Silt</td>\n",
       "      <td>9.504000</td>\n",
       "      <td>0.007</td>\n",
       "      <td>0.11706</td>\n",
       "      <td>2.425652</td>\n",
       "      <td>45.032001</td>\n",
       "      <td>62.789639</td>\n",
       "      <td>3.652</td>\n",
       "      <td>37.942001</td>\n",
       "      <td>5.047</td>\n",
       "      <td>5.047</td>\n",
       "      <td>3974.750488</td>\n",
       "    </tr>\n",
       "  </tbody>\n",
       "</table>\n",
       "<p>15113 rows × 12 columns</p>\n",
       "</div>"
      ],
      "text/plain": [
       "            LITHOLOGY_GEOLINK       CALI   DRHO     NPHI      RHOB  \\\n",
       "DEPT                                                                 \n",
       "2085.750000          Cinerite  17.159000  0.072  0.00000  2.220757   \n",
       "2085.875000              Silt  17.187000  0.014  0.00000  2.163988   \n",
       "2086.000000              Silt  17.198000  0.000  0.00000  2.132627   \n",
       "2086.125000              Silt  17.193001  0.032  0.00000  2.138454   \n",
       "2086.250000              Silt  17.179001  0.074  0.00000  2.170922   \n",
       "...                       ...        ...    ...      ...       ...   \n",
       "3974.250732              Silt   9.486000  0.044  0.11920  2.486290   \n",
       "3974.375488              Silt   9.487000  0.035  0.11586  2.472456   \n",
       "3974.500488              Silt   9.491000  0.025  0.11379  2.455452   \n",
       "3974.625488              Silt   9.498000  0.015  0.11430  2.438841   \n",
       "3974.750488              Silt   9.504000  0.007  0.11706  2.425652   \n",
       "\n",
       "                     GR         DTC   RDEP         SP   RSHA   RMED  \\\n",
       "DEPT                                                                  \n",
       "2085.750000  109.011002  127.011429  1.170  42.013000  0.547  0.547   \n",
       "2085.875000  113.018997  127.219872  1.147  41.969002  0.549  0.549   \n",
       "2086.000000  115.380997  127.867149  1.131  42.324001  0.550  0.550   \n",
       "2086.125000  116.207001  128.846787  1.125  42.834999  0.545  0.545   \n",
       "2086.250000  116.153000  130.015976  1.130  43.605999  0.535  0.535   \n",
       "...                 ...         ...    ...        ...    ...    ...   \n",
       "3974.250732   54.765999   64.817436  3.815  38.742001  5.172  5.172   \n",
       "3974.375488   52.576000   63.746723  3.773  39.074001  5.172  5.172   \n",
       "3974.500488   49.529999   63.055447  3.729  38.865002  5.157  5.157   \n",
       "3974.625488   46.630001   62.748348  3.686  38.362000  5.116  5.116   \n",
       "3974.750488   45.032001   62.789639  3.652  37.942001  5.047  5.047   \n",
       "\n",
       "                    DEPT  \n",
       "DEPT                      \n",
       "2085.750000  2085.750000  \n",
       "2085.875000  2085.875000  \n",
       "2086.000000  2086.000000  \n",
       "2086.125000  2086.125000  \n",
       "2086.250000  2086.250000  \n",
       "...                  ...  \n",
       "3974.250732  3974.250732  \n",
       "3974.375488  3974.375488  \n",
       "3974.500488  3974.500488  \n",
       "3974.625488  3974.625488  \n",
       "3974.750488  3974.750488  \n",
       "\n",
       "[15113 rows x 12 columns]"
      ]
     },
     "execution_count": 2,
     "metadata": {},
     "output_type": "execute_result"
    }
   ],
   "source": [
    "interim_locations = Path(\"../../data/processed/geolink_norge_dataset/\")\n",
    "# Load processed dataset\n",
    "geolink_all = pd.read_parquet(\n",
    "    interim_locations / \"geolink_norge_well_logs_train.parquet\"\n",
    ").set_index([\"Well\", \"DEPT\"])\n",
    "# Add Depth as column\n",
    "geolink_all['DEPT'] = geolink_all.index.get_level_values(1)\n",
    "\n",
    "# Work with one well\n",
    "geolink = geolink_all.xs(\"30_6-11\")\n",
    "geolink"
   ]
  },
  {
   "cell_type": "code",
   "execution_count": 3,
   "metadata": {
    "ExecuteTime": {
     "end_time": "2020-10-21T04:50:16.506349Z",
     "start_time": "2020-10-21T04:50:16.499856Z"
    }
   },
   "outputs": [
    {
     "data": {
      "text/plain": [
       "DEPT\n",
       "2085.750000    Cinerite\n",
       "2085.875000        Silt\n",
       "2086.000000        Silt\n",
       "2086.125000        Silt\n",
       "2086.250000        Silt\n",
       "                 ...   \n",
       "3974.250732        Silt\n",
       "3974.375488        Silt\n",
       "3974.500488        Silt\n",
       "3974.625488        Silt\n",
       "3974.750488        Silt\n",
       "Name: LITHOLOGY_GEOLINK, Length: 15113, dtype: category\n",
       "Categories (26, object): [Anhydrite, Argillaceous Limestone, Calcareous Cement, Carnallite, ..., Silt, Silty Sand, Silty Shale, Volcanic Tuff]"
      ]
     },
     "execution_count": 3,
     "metadata": {},
     "output_type": "execute_result"
    }
   ],
   "source": [
    "# We're going to use the pandas categorical type for our lithologies\n",
    "geolink['LITHOLOGY_GEOLINK'].astype('category')"
   ]
  },
  {
   "cell_type": "code",
   "execution_count": 4,
   "metadata": {
    "ExecuteTime": {
     "end_time": "2020-10-21T04:50:17.394742Z",
     "start_time": "2020-10-21T04:50:16.507897Z"
    }
   },
   "outputs": [
    {
     "data": {
      "text/plain": [
       "(<Figure size 576x864 with 7 Axes>,\n",
       " array([<matplotlib.axes._subplots.AxesSubplot object at 0x7fc9f13f4e48>,\n",
       "        <matplotlib.axes._subplots.AxesSubplot object at 0x7fc9f1446518>,\n",
       "        <matplotlib.axes._subplots.AxesSubplot object at 0x7fc9f14fcb70>,\n",
       "        <matplotlib.axes._subplots.AxesSubplot object at 0x7fc9f59d9748>,\n",
       "        <matplotlib.axes._subplots.AxesSubplot object at 0x7fc9f598c9b0>],\n",
       "       dtype=object))"
      ]
     },
     "execution_count": 4,
     "metadata": {},
     "output_type": "execute_result"
    },
    {
     "data": {
      "image/png": "[encoded data removed]",
      "text/plain": [
       "<Figure size 576x864 with 7 Axes>"
      ]
     },
     "metadata": {
      "needs_background": "light"
     },
     "output_type": "display_data"
    }
   ],
   "source": [
    "# View our well\n",
    "from deep_ml_curriculum.visualization.well_log import plot_facies, plot_well\n",
    "plot_well(\"30_6-11\", geolink, facies=geolink['LITHOLOGY_GEOLINK'].astype('category').values)"
   ]
  },
  {
   "cell_type": "code",
   "execution_count": 5,
   "metadata": {
    "ExecuteTime": {
     "end_time": "2020-10-21T04:50:17.416059Z",
     "start_time": "2020-10-21T04:50:17.396334Z"
    }
   },
   "outputs": [
    {
     "data": {
      "text/html": [
       "<div>\n",
       "<style scoped>\n",
       "    .dataframe tbody tr th:only-of-type {\n",
       "        vertical-align: middle;\n",
       "    }\n",
       "\n",
       "    .dataframe tbody tr th {\n",
       "        vertical-align: top;\n",
       "    }\n",
       "\n",
       "    .dataframe thead th {\n",
       "        text-align: right;\n",
       "    }\n",
       "</style>\n",
       "<table border=\"1\" class=\"dataframe\">\n",
       "  <thead>\n",
       "    <tr style=\"text-align: right;\">\n",
       "      <th></th>\n",
       "      <th>CALI</th>\n",
       "      <th>DRHO</th>\n",
       "      <th>NPHI</th>\n",
       "      <th>RHOB</th>\n",
       "      <th>GR</th>\n",
       "      <th>DTC</th>\n",
       "      <th>RDEP</th>\n",
       "      <th>SP</th>\n",
       "      <th>RSHA</th>\n",
       "      <th>RMED</th>\n",
       "    </tr>\n",
       "    <tr>\n",
       "      <th>DEPT</th>\n",
       "      <th></th>\n",
       "      <th></th>\n",
       "      <th></th>\n",
       "      <th></th>\n",
       "      <th></th>\n",
       "      <th></th>\n",
       "      <th></th>\n",
       "      <th></th>\n",
       "      <th></th>\n",
       "      <th></th>\n",
       "    </tr>\n",
       "  </thead>\n",
       "  <tbody>\n",
       "    <tr>\n",
       "      <th>2085.750000</th>\n",
       "      <td>17.159000</td>\n",
       "      <td>0.072</td>\n",
       "      <td>0.00000</td>\n",
       "      <td>2.220757</td>\n",
       "      <td>109.011002</td>\n",
       "      <td>127.011429</td>\n",
       "      <td>1.170</td>\n",
       "      <td>42.013000</td>\n",
       "      <td>0.547</td>\n",
       "      <td>0.547</td>\n",
       "    </tr>\n",
       "    <tr>\n",
       "      <th>2085.875000</th>\n",
       "      <td>17.187000</td>\n",
       "      <td>0.014</td>\n",
       "      <td>0.00000</td>\n",
       "      <td>2.163988</td>\n",
       "      <td>113.018997</td>\n",
       "      <td>127.219872</td>\n",
       "      <td>1.147</td>\n",
       "      <td>41.969002</td>\n",
       "      <td>0.549</td>\n",
       "      <td>0.549</td>\n",
       "    </tr>\n",
       "    <tr>\n",
       "      <th>2086.000000</th>\n",
       "      <td>17.198000</td>\n",
       "      <td>0.000</td>\n",
       "      <td>0.00000</td>\n",
       "      <td>2.132627</td>\n",
       "      <td>115.380997</td>\n",
       "      <td>127.867149</td>\n",
       "      <td>1.131</td>\n",
       "      <td>42.324001</td>\n",
       "      <td>0.550</td>\n",
       "      <td>0.550</td>\n",
       "    </tr>\n",
       "    <tr>\n",
       "      <th>2086.125000</th>\n",
       "      <td>17.193001</td>\n",
       "      <td>0.032</td>\n",
       "      <td>0.00000</td>\n",
       "      <td>2.138454</td>\n",
       "      <td>116.207001</td>\n",
       "      <td>128.846787</td>\n",
       "      <td>1.125</td>\n",
       "      <td>42.834999</td>\n",
       "      <td>0.545</td>\n",
       "      <td>0.545</td>\n",
       "    </tr>\n",
       "    <tr>\n",
       "      <th>2086.250000</th>\n",
       "      <td>17.179001</td>\n",
       "      <td>0.074</td>\n",
       "      <td>0.00000</td>\n",
       "      <td>2.170922</td>\n",
       "      <td>116.153000</td>\n",
       "      <td>130.015976</td>\n",
       "      <td>1.130</td>\n",
       "      <td>43.605999</td>\n",
       "      <td>0.535</td>\n",
       "      <td>0.535</td>\n",
       "    </tr>\n",
       "    <tr>\n",
       "      <th>...</th>\n",
       "      <td>...</td>\n",
       "      <td>...</td>\n",
       "      <td>...</td>\n",
       "      <td>...</td>\n",
       "      <td>...</td>\n",
       "      <td>...</td>\n",
       "      <td>...</td>\n",
       "      <td>...</td>\n",
       "      <td>...</td>\n",
       "      <td>...</td>\n",
       "    </tr>\n",
       "    <tr>\n",
       "      <th>3974.250732</th>\n",
       "      <td>9.486000</td>\n",
       "      <td>0.044</td>\n",
       "      <td>0.11920</td>\n",
       "      <td>2.486290</td>\n",
       "      <td>54.765999</td>\n",
       "      <td>64.817436</td>\n",
       "      <td>3.815</td>\n",
       "      <td>38.742001</td>\n",
       "      <td>5.172</td>\n",
       "      <td>5.172</td>\n",
       "    </tr>\n",
       "    <tr>\n",
       "      <th>3974.375488</th>\n",
       "      <td>9.487000</td>\n",
       "      <td>0.035</td>\n",
       "      <td>0.11586</td>\n",
       "      <td>2.472456</td>\n",
       "      <td>52.576000</td>\n",
       "      <td>63.746723</td>\n",
       "      <td>3.773</td>\n",
       "      <td>39.074001</td>\n",
       "      <td>5.172</td>\n",
       "      <td>5.172</td>\n",
       "    </tr>\n",
       "    <tr>\n",
       "      <th>3974.500488</th>\n",
       "      <td>9.491000</td>\n",
       "      <td>0.025</td>\n",
       "      <td>0.11379</td>\n",
       "      <td>2.455452</td>\n",
       "      <td>49.529999</td>\n",
       "      <td>63.055447</td>\n",
       "      <td>3.729</td>\n",
       "      <td>38.865002</td>\n",
       "      <td>5.157</td>\n",
       "      <td>5.157</td>\n",
       "    </tr>\n",
       "    <tr>\n",
       "      <th>3974.625488</th>\n",
       "      <td>9.498000</td>\n",
       "      <td>0.015</td>\n",
       "      <td>0.11430</td>\n",
       "      <td>2.438841</td>\n",
       "      <td>46.630001</td>\n",
       "      <td>62.748348</td>\n",
       "      <td>3.686</td>\n",
       "      <td>38.362000</td>\n",
       "      <td>5.116</td>\n",
       "      <td>5.116</td>\n",
       "    </tr>\n",
       "    <tr>\n",
       "      <th>3974.750488</th>\n",
       "      <td>9.504000</td>\n",
       "      <td>0.007</td>\n",
       "      <td>0.11706</td>\n",
       "      <td>2.425652</td>\n",
       "      <td>45.032001</td>\n",
       "      <td>62.789639</td>\n",
       "      <td>3.652</td>\n",
       "      <td>37.942001</td>\n",
       "      <td>5.047</td>\n",
       "      <td>5.047</td>\n",
       "    </tr>\n",
       "  </tbody>\n",
       "</table>\n",
       "<p>15113 rows × 10 columns</p>\n",
       "</div>"
      ],
      "text/plain": [
       "                  CALI   DRHO     NPHI      RHOB          GR         DTC  \\\n",
       "DEPT                                                                       \n",
       "2085.750000  17.159000  0.072  0.00000  2.220757  109.011002  127.011429   \n",
       "2085.875000  17.187000  0.014  0.00000  2.163988  113.018997  127.219872   \n",
       "2086.000000  17.198000  0.000  0.00000  2.132627  115.380997  127.867149   \n",
       "2086.125000  17.193001  0.032  0.00000  2.138454  116.207001  128.846787   \n",
       "2086.250000  17.179001  0.074  0.00000  2.170922  116.153000  130.015976   \n",
       "...                ...    ...      ...       ...         ...         ...   \n",
       "3974.250732   9.486000  0.044  0.11920  2.486290   54.765999   64.817436   \n",
       "3974.375488   9.487000  0.035  0.11586  2.472456   52.576000   63.746723   \n",
       "3974.500488   9.491000  0.025  0.11379  2.455452   49.529999   63.055447   \n",
       "3974.625488   9.498000  0.015  0.11430  2.438841   46.630001   62.748348   \n",
       "3974.750488   9.504000  0.007  0.11706  2.425652   45.032001   62.789639   \n",
       "\n",
       "              RDEP         SP   RSHA   RMED  \n",
       "DEPT                                         \n",
       "2085.750000  1.170  42.013000  0.547  0.547  \n",
       "2085.875000  1.147  41.969002  0.549  0.549  \n",
       "2086.000000  1.131  42.324001  0.550  0.550  \n",
       "2086.125000  1.125  42.834999  0.545  0.545  \n",
       "2086.250000  1.130  43.605999  0.535  0.535  \n",
       "...            ...        ...    ...    ...  \n",
       "3974.250732  3.815  38.742001  5.172  5.172  \n",
       "3974.375488  3.773  39.074001  5.172  5.172  \n",
       "3974.500488  3.729  38.865002  5.157  5.157  \n",
       "3974.625488  3.686  38.362000  5.116  5.116  \n",
       "3974.750488  3.652  37.942001  5.047  5.047  \n",
       "\n",
       "[15113 rows x 10 columns]"
      ]
     },
     "execution_count": 5,
     "metadata": {},
     "output_type": "execute_result"
    }
   ],
   "source": [
    "# we only take the data from CALI  onward for X. (Except DEPTH, to avoid biasing the model with depth)\n",
    "X = geolink.iloc[:, 1:-1]\n",
    "# LITHOLOGY_GEOLINK will be our class y.\n",
    "y = geolink[\"LITHOLOGY_GEOLINK\"]\n",
    "X"
   ]
  },
  {
   "cell_type": "markdown",
   "metadata": {},
   "source": [
    "NOTE: our dataset is imbalanced, this is always important when considering a problem. it has two implications:\n",
    "    \n",
    "1. Our baseline accuracy is 46.5. We can get this by always guessing the most common class\n",
    "2. if we get poor performance may want to consider techniques to deal with unbalanced data. However we do not need to do this in this notebook\n",
    "3. We also mostly care about standstone which is a common drilling target"
   ]
  },
  {
   "cell_type": "code",
   "execution_count": 6,
   "metadata": {
    "ExecuteTime": {
     "end_time": "2020-10-21T04:50:17.627417Z",
     "start_time": "2020-10-21T04:50:17.417425Z"
    }
   },
   "outputs": [
    {
     "data": {
      "text/plain": [
       "Marlstone                 0.465295\n",
       "Shaly Silt                0.221597\n",
       "Silt                      0.161318\n",
       "Cross Bedded Sst          0.039238\n",
       "Silty Sand                0.038510\n",
       "Sandstone                 0.021902\n",
       "Silty Shale               0.015947\n",
       "Argillaceous Limestone    0.015880\n",
       "Cinerite                  0.011513\n",
       "Coal                      0.004433\n",
       "Calcareous Cement         0.004367\n",
       "Name: LITHOLOGY_GEOLINK, dtype: float64"
      ]
     },
     "execution_count": 6,
     "metadata": {},
     "output_type": "execute_result"
    },
    {
     "data": {
      "image/png": "[encoded data removed]",
      "text/plain": [
       "<Figure size 432x288 with 1 Axes>"
      ]
     },
     "metadata": {
      "needs_background": "light"
     },
     "output_type": "display_data"
    }
   ],
   "source": [
    "# Check dataset label balance\n",
    "counts = y.value_counts()\n",
    "counts = counts[counts>0]/counts.sum()\n",
    "counts.plot.bar()\n",
    "counts"
   ]
  },
  {
   "cell_type": "code",
   "execution_count": 7,
   "metadata": {
    "ExecuteTime": {
     "end_time": "2020-10-21T04:50:17.634560Z",
     "start_time": "2020-10-21T04:50:17.628958Z"
    }
   },
   "outputs": [],
   "source": [
    "# Note that, on this data, it might be better to split by depth. \n",
    "# But we will keep it simple and standard to introduct the topic of test, train split\n",
    "X_train, X_test, y_train, y_test = train_test_split(\n",
    "    X, y, test_size=0.2, random_state=2020\n",
    ")"
   ]
  },
  {
   "cell_type": "markdown",
   "metadata": {},
   "source": [
    "## 3. K-Nearest Neighbors (KNN) <a name=\"knn\"></a>\n",
    "**Example of decision boundaries using KNN:**\n",
    "<br/>\n",
    "<div>\n",
    "    Original Dataset. The dataset which consists of three classes (red,green and blue points). (For KNN classification example.)\n",
    "<img src=\"https://upload.wikimedia.org/wikipedia/commons/c/cc/Data3classes.png\" width=300 height=300/>\n",
    "    Decision Boundaries using 1NN algorithm\n",
    "<img src=\"https://upload.wikimedia.org/wikipedia/commons/5/52/Map1NN.png\" width=300 height=300/>\n",
    "</div>\n",
    "\n",
    "Images sources: [Wikipedia](https://en.wikipedia.org/wiki/K-nearest_neighbors_algorithm#/media/File:Data3classes.png)\n",
    " distributed under [CC BY-SA 3.0](https://creativecommons.org/licenses/by-sa/3.0/) license.\n",
    "          \n",
    "The code presented in this section is inspired from the official documentation [here](https://scikit-learn.org/stable/auto_examples/neighbors/plot_classification.html#sphx-glr-auto-examples-neighbors-plot-classification-py).\n",
    "\n",
    "According to Wikipedia:\n",
    ">k-NN is a type of instance-based learning, or lazy learning, where the function is only approximated locally and all computation is deferred until function evaluation. Since this algorithm relies on distance for classification, normalizing the training data can improve its accuracy dramatically."
   ]
  },
  {
   "cell_type": "code",
   "execution_count": 8,
   "metadata": {
    "ExecuteTime": {
     "end_time": "2020-10-21T04:50:17.689298Z",
     "start_time": "2020-10-21T04:50:17.635823Z"
    }
   },
   "outputs": [
    {
     "name": "stdout",
     "output_type": "stream",
     "text": [
      "Classes: ['Cinerite', 'Silt', 'Shaly Silt', 'Calcareous Cement', 'Argillaceous Limestone', 'Marlstone', 'Silty Shale', 'Silty Sand', 'Sandstone', 'Cross Bedded Sst', 'Coal']\n",
      "Total Classes: 11\n"
     ]
    }
   ],
   "source": [
    "# Get types of Lithology\n",
    "classes = list(geolink[\"LITHOLOGY_GEOLINK\"].unique())\n",
    "print(\"Classes: {}\".format(classes))\n",
    "print(\"Total Classes: {}\".format(len(classes)))"
   ]
  },
  {
   "cell_type": "code",
   "execution_count": 9,
   "metadata": {
    "ExecuteTime": {
     "end_time": "2020-10-21T04:50:17.740321Z",
     "start_time": "2020-10-21T04:50:17.691501Z"
    }
   },
   "outputs": [
    {
     "data": {
      "text/plain": [
       "array(['Marlstone', 'Shaly Silt', 'Marlstone', ..., 'Marlstone', 'Silt',\n",
       "       'Marlstone'], dtype=object)"
      ]
     },
     "execution_count": 9,
     "metadata": {},
     "output_type": "execute_result"
    }
   ],
   "source": [
    "# Let's check the classes\n",
    "y_train.to_numpy()"
   ]
  },
  {
   "cell_type": "markdown",
   "metadata": {},
   "source": [
    "There a total of 11 classes. However, like in the majority of machine learning algorithms, it is recommended to encode target values.\n",
    "\n",
    "\n",
    "There are different encoder preprocessing functions available in the scikit learn library. For this example we will use the [<code>LabelEncoder</code>](https://scikit-learn.org/stable/modules/generated/sklearn.preprocessing.LabelEncoder.html):\n",
    "\n",
    "> Encode target labels with a value between 0 and n_classes-1. This transformer should be used to encode target values, i.e. y, and not the input X."
   ]
  },
  {
   "cell_type": "code",
   "execution_count": 10,
   "metadata": {
    "ExecuteTime": {
     "end_time": "2020-10-21T04:50:17.815167Z",
     "start_time": "2020-10-21T04:50:17.741965Z"
    }
   },
   "outputs": [
    {
     "data": {
      "text/plain": [
       "LabelEncoder()"
      ]
     },
     "execution_count": 10,
     "metadata": {},
     "output_type": "execute_result"
    }
   ],
   "source": [
    "# Label Encoder\n",
    "le = preprocessing.LabelEncoder()\n",
    "# This will help the LabelEncoder to map the classes to a corresponding value between 0 and n_classes-1\n",
    "le.fit(classes)"
   ]
  },
  {
   "cell_type": "code",
   "execution_count": 11,
   "metadata": {
    "ExecuteTime": {
     "end_time": "2020-10-21T04:50:17.862825Z",
     "start_time": "2020-10-21T04:50:17.817917Z"
    }
   },
   "outputs": [
    {
     "data": {
      "text/plain": [
       "array(['Argillaceous Limestone', 'Calcareous Cement', 'Cinerite', 'Coal',\n",
       "       'Cross Bedded Sst', 'Marlstone', 'Sandstone', 'Shaly Silt', 'Silt',\n",
       "       'Silty Sand', 'Silty Shale'], dtype='<U22')"
      ]
     },
     "execution_count": 11,
     "metadata": {},
     "output_type": "execute_result"
    }
   ],
   "source": [
    "# We can look at the labels in this object\n",
    "le.classes_"
   ]
  },
  {
   "cell_type": "markdown",
   "metadata": {},
   "source": [
    "The number of `neighbors` is a hyperparameter that must be set for this algorithm. We will arbitrarily select a value of 15 for this hyperparameter.\n",
    "\n",
    "> In machine learning, a hyperparameter is a parameter whose value is used to control the learning process. By contrast, the values of other parameters (typically node weights) are derived via training.\n",
    "\n",
    "Source: [Wikipedia](https://en.wikipedia.org/wiki/Hyperparameter_(machine_learning)#:~:text=In%20machine%20learning%2C%20a%20hyperparameter,weights%20are%20derived%20via%20training.)"
   ]
  },
  {
   "cell_type": "code",
   "execution_count": 12,
   "metadata": {
    "ExecuteTime": {
     "end_time": "2020-10-21T04:50:17.926866Z",
     "start_time": "2020-10-21T04:50:17.864450Z"
    }
   },
   "outputs": [
    {
     "name": "stdout",
     "output_type": "stream",
     "text": [
      "Transformed labels: [5 7 5 ... 5 8 5]\n"
     ]
    },
    {
     "data": {
      "text/plain": [
       "KNeighborsClassifier(n_neighbors=15)"
      ]
     },
     "execution_count": 12,
     "metadata": {},
     "output_type": "execute_result"
    }
   ],
   "source": [
    "# Number of Neighbors around our datapoint to be classified\n",
    "knn_classifier = KNeighborsClassifier(n_neighbors = 15)\n",
    "# Now we will use the y values and transform the labels.\n",
    "transformed_y_train = le.transform(y_train.to_numpy())\n",
    "print('Transformed labels:',transformed_y_train)\n",
    "# Let's fit the data\n",
    "knn_classifier.fit(X_train, transformed_y_train)"
   ]
  },
  {
   "cell_type": "code",
   "execution_count": 13,
   "metadata": {
    "ExecuteTime": {
     "end_time": "2020-10-21T04:50:18.099088Z",
     "start_time": "2020-10-21T04:50:17.928279Z"
    }
   },
   "outputs": [
    {
     "name": "stdout",
     "output_type": "stream",
     "text": [
      "Accuracy: 0.9073767780350646\n"
     ]
    }
   ],
   "source": [
    "# Evaluation Time\n",
    "y_pred = knn_classifier.predict(X_test)\n",
    "y_true = le.transform(y_test.to_numpy())\n",
    "print(\"Accuracy: {}\".format(accuracy_score(y_true, y_pred)))"
   ]
  },
  {
   "cell_type": "markdown",
   "metadata": {},
   "source": [
    "We were able to predict the 11 different classes with >90% accuracy using new data. This is slightly better than the baseline, however the accuracy can be improved. Let's train using the same algorithm and hyperparameters but this time we will normalise the data."
   ]
  },
  {
   "cell_type": "markdown",
   "metadata": {},
   "source": [
    "## Normalised Data\n",
    "\n",
    "There are options to normalising the data, which fit the petrophysics data better, but here will just consider normalising over the whole well.\n",
    "\n",
    "\n",
    "### Why normalise the data?\n",
    "\n",
    "Many machine learning (ML) algorithms attempt to find trends in the data by comparing the features of data points. However, machine learning algorithms usually struggle more in the training phase when the features are on different scales. Normalise the data will almost always improve the results for ML algorithms.\n",
    "\n",
    "There are different ways to normalised the data and usually, each method has pros and cons. For example, some methods are better at dealing with outliers than others.\n",
    "\n",
    "Two of the most popular methods for normalising the data are:\n",
    "\n",
    "* Standard Score:\n",
    "$\\frac {X-\\mu }{\\sigma }$\n",
    "\n",
    "* Min-Max Feature Scaling:\n",
    "$X'={\\frac {X-X_{\\min }}{X_{\\max }-X_{\\min }}}$\n",
    "\n",
    "More information about normalisation [here](https://en.wikipedia.org/wiki/Normalization_(statistics))"
   ]
  },
  {
   "cell_type": "code",
   "execution_count": 14,
   "metadata": {
    "ExecuteTime": {
     "end_time": "2020-10-21T04:50:18.114211Z",
     "start_time": "2020-10-21T04:50:18.100406Z"
    }
   },
   "outputs": [],
   "source": [
    "# Let's use Standard Score for this example\n",
    "normalized_df = (X - X.mean()) / X.std()"
   ]
  },
  {
   "cell_type": "code",
   "execution_count": 15,
   "metadata": {
    "ExecuteTime": {
     "end_time": "2020-10-21T04:50:18.175853Z",
     "start_time": "2020-10-21T04:50:18.115478Z"
    }
   },
   "outputs": [
    {
     "data": {
      "text/plain": [
       "CALI     17.809999\n",
       "DRHO      3.687000\n",
       "NPHI      1.000000\n",
       "RHOB      3.137856\n",
       "GR      137.761002\n",
       "DTC     150.588577\n",
       "RDEP     17.223000\n",
       "SP       78.280998\n",
       "RSHA     44.223000\n",
       "RMED     44.223000\n",
       "dtype: float64"
      ]
     },
     "execution_count": 15,
     "metadata": {},
     "output_type": "execute_result"
    }
   ],
   "source": [
    "# These are the original max values of the dataset\n",
    "X.max()"
   ]
  },
  {
   "cell_type": "code",
   "execution_count": 16,
   "metadata": {
    "ExecuteTime": {
     "end_time": "2020-10-21T04:50:18.222845Z",
     "start_time": "2020-10-21T04:50:18.177145Z"
    }
   },
   "outputs": [
    {
     "data": {
      "text/plain": [
       "CALI     3.298296\n",
       "DRHO    27.904426\n",
       "NPHI    12.582814\n",
       "RHOB     5.026973\n",
       "GR       4.192968\n",
       "DTC      2.961754\n",
       "RDEP     6.493673\n",
       "SP       7.234913\n",
       "RSHA    12.750651\n",
       "RMED    12.750651\n",
       "dtype: float64"
      ]
     },
     "execution_count": 16,
     "metadata": {},
     "output_type": "execute_result"
    }
   ],
   "source": [
    "# These are the original max values after normalising\n",
    "normalized_df.max()"
   ]
  },
  {
   "cell_type": "code",
   "execution_count": 17,
   "metadata": {
    "ExecuteTime": {
     "end_time": "2020-10-21T04:50:18.268464Z",
     "start_time": "2020-10-21T04:50:18.224182Z"
    }
   },
   "outputs": [],
   "source": [
    "# Let's used the normalized data for both for training and testing\n",
    "X_train, X_test, y_train, y_test = train_test_split(\n",
    "    normalized_df, y.to_numpy(), test_size=0.2, random_state=2020\n",
    ")"
   ]
  },
  {
   "cell_type": "code",
   "execution_count": 18,
   "metadata": {
    "ExecuteTime": {
     "end_time": "2020-10-21T04:50:18.346282Z",
     "start_time": "2020-10-21T04:50:18.270574Z"
    }
   },
   "outputs": [],
   "source": [
    "# Label Encoder\n",
    "le = preprocessing.LabelEncoder()\n",
    "# This will help the LabelEncoder to map the classes to a corresponding value between 0 and n_classes-1\n",
    "le.fit(y.to_numpy())\n",
    "\n",
    "# Now we will use the y values and transform the labels.\n",
    "transformed_y_train = le.transform(y_train)"
   ]
  },
  {
   "cell_type": "code",
   "execution_count": 19,
   "metadata": {
    "ExecuteTime": {
     "end_time": "2020-10-21T04:50:18.687009Z",
     "start_time": "2020-10-21T04:50:18.347663Z"
    }
   },
   "outputs": [
    {
     "name": "stdout",
     "output_type": "stream",
     "text": [
      "Accuracy: 0.9176314918954681\n"
     ]
    }
   ],
   "source": [
    "# Normalized knn\n",
    "knn_classifier_norm = KNeighborsClassifier(n_neighbors=15)\n",
    "# Let's fit the data\n",
    "knn_classifier_norm.fit(X_train, transformed_y_train)\n",
    "# Evaluation Time\n",
    "y_pred = knn_classifier_norm.predict(X_test)\n",
    "y_true = le.transform(y_test)\n",
    "print(\"Accuracy: {}\".format(accuracy_score(y_true, y_pred)))"
   ]
  },
  {
   "cell_type": "markdown",
   "metadata": {},
   "source": [
    "So now we got an accuracy of >91%. Normalising will usually help in the training process. So it's a good practice to preprocess the data before the training phase. However, some machine learning algorithms such as KNN are robust enough to work well with different scales so normalization might not be necessary in some cases. "
   ]
  },
  {
   "cell_type": "markdown",
   "metadata": {},
   "source": [
    "#### So... What if we change the hyperparameters of a classifier such as the number of `neighbors`?\n",
    "\n",
    "We can see in the examples below how changing <code>n_neighbors</code> affect the performance of the final model.\n",
    "\n",
    "The accuracy for the same normalised model are:\n",
    "\n",
    "- n_neighbors = 10, accuracy: 93%\n",
    "- n_neighbors = 5,  accuracy: 94%\n",
    "- n_neighbors = 1,  accuracy: 96%\n",
    "We could  manually try different values until we find the best hyperparameters. Of course, this approach could be very time consuming, in particular, when we have a big feature space and want to optimise many hyperparameters. One way to solve this problem is automating the search of hyperparameters. This is also called Hyperparameter Optimisation. We will get deeper into this concept in the next sessions."
   ]
  },
  {
   "cell_type": "code",
   "execution_count": 20,
   "metadata": {
    "ExecuteTime": {
     "end_time": "2020-10-21T04:50:18.959738Z",
     "start_time": "2020-10-21T04:50:18.688323Z"
    }
   },
   "outputs": [
    {
     "name": "stdout",
     "output_type": "stream",
     "text": [
      "Accuracy: 0.9295401918623883\n"
     ]
    }
   ],
   "source": [
    "# Normalized knn\n",
    "knn_classifier_knn10 = KNeighborsClassifier(n_neighbors=10)\n",
    "# Let's fit the data\n",
    "knn_classifier_knn10.fit(X_train, transformed_y_train)\n",
    "# Evaluation Time\n",
    "y_pred = knn_classifier_knn10.predict(X_test)\n",
    "y_true = le.transform(y_test)\n",
    "print(\"Accuracy: {}\".format(accuracy_score(y_true, y_pred)))"
   ]
  },
  {
   "cell_type": "code",
   "execution_count": 21,
   "metadata": {
    "ExecuteTime": {
     "end_time": "2020-10-21T04:50:19.194090Z",
     "start_time": "2020-10-21T04:50:18.961100Z"
    }
   },
   "outputs": [
    {
     "name": "stdout",
     "output_type": "stream",
     "text": [
      "Accuracy: 0.9434336751571287\n"
     ]
    }
   ],
   "source": [
    "# Normalized knn 5\n",
    "knn_classifier_knn5 = KNeighborsClassifier(n_neighbors=5)\n",
    "# Let's fit the data\n",
    "knn_classifier_knn5.fit(X_train, transformed_y_train)\n",
    "# Evaluation Time\n",
    "y_pred = knn_classifier_knn5.predict(X_test)\n",
    "y_true = le.transform(y_test)\n",
    "print(\"Accuracy: {}\".format(accuracy_score(y_true, y_pred)))"
   ]
  },
  {
   "cell_type": "code",
   "execution_count": 22,
   "metadata": {
    "ExecuteTime": {
     "end_time": "2020-10-21T04:50:19.357640Z",
     "start_time": "2020-10-21T04:50:19.195540Z"
    }
   },
   "outputs": [
    {
     "name": "stdout",
     "output_type": "stream",
     "text": [
      "Accuracy: 0.9642739000992392\n"
     ]
    }
   ],
   "source": [
    "# Normalized knn\n",
    "knn_classifier_knn1 = KNeighborsClassifier(n_neighbors=1)\n",
    "# Let's fit the data\n",
    "knn_classifier_knn1.fit(X_train, transformed_y_train)\n",
    "# Evaluation Time\n",
    "y_pred = knn_classifier_knn1.predict(X_test)\n",
    "y_true = le.transform(y_test)\n",
    "print(\"Accuracy: {}\".format(accuracy_score(y_true, y_pred)))"
   ]
  },
  {
   "cell_type": "markdown",
   "metadata": {},
   "source": [
    "<div class=\"alert alert-success\">\n",
    "  <h2>Exercise 1</h2>\n",
    "\n",
    "  Let's practice some of the key concepts we have learned so far. \n",
    "    \n",
    "  0. Choose the data for well log '30_6-14'. \n",
    "  1. Normalised and split the dataset provided (Use 85\\% of the data for training and 15\\% for testing)\n",
    "  2. Transform the data using label encoding (This is done automatically by scikit-learn for some ML methods. However, it is good to get used to this concept).\n",
    "  3. Train a KNN model using <code>n_neighbors</code>= 1,5,10,15\n",
    "  4. Compare the accuracy of the different models\n",
    "\n",
    "  <details>\n",
    "  <summary><b>→ Hints</b></summary>\n",
    "   - In this notebook we have already covered all the steps necessary to complete this exercise. You need to load again the dataset but selecting this time the well log '30_6-14'. Copy and paste the code and modify it as needed.\n",
    "      \n",
    "  </details>\n",
    "\n",
    "  <br/>\n",
    "  <br/>\n",
    "  <details>\n",
    "  <summary>\n",
    "    <b>→ Solution</b>\n",
    "  </summary>\n",
    "    \n",
    "  ```python\n",
    "    # View our well, it's similar to the last one\n",
    "    from deep_ml_curriculum.visualization.well_log import plot_facies, plot_well\n",
    "    plot_well(\"30_6-14\", geolink, facies=geolink['LITHOLOGY_GEOLINK'].astype('category').values)\n",
    "    # Exercise\n",
    "\n",
    "    # Write your code below:\n",
    "\n",
    "    # 0. Select a different well\n",
    "    interim_locations = Path(\"../../data/processed/geolink_norge_dataset/\")\n",
    "    # Load processed dataset\n",
    "    geolink_all = pd.read_parquet(\n",
    "       interim_locations / \"geolink_norge_well_logs_train.parquet\"\n",
    "    ).set_index([\"Well\", \"DEPT\"])\n",
    "    # Add Depth as column\n",
    "    geolink_all['DEPT'] = geolink_all.index.get_level_values(1)\n",
    "    # Work with one well\n",
    "    geolink = geolink_all.xs('30_6-14')\n",
    "\n",
    "    # 1. Normalise dataset and Split well log dataset here\n",
    "\n",
    "    # We only take the data from CALI  onward for X.\n",
    "    X = geolink.iloc[:, 1:-1]\n",
    "    # LITHOLOGY_GEOLINK will be our class y.\n",
    "    y = geolink[\"LITHOLOGY_GEOLINK\"]\n",
    "    # Normalize data\n",
    "    normalized_X = (X - X.mean()) / X.std()\n",
    "\n",
    "    # Let's used the normalized data for both for training and testing\n",
    "    X_train, X_test, y_train, y_test = train_test_split(\n",
    "       normalized_X, y.to_numpy(), test_size=0.15, random_state=1\n",
    "    )\n",
    "\n",
    "    # 2. Transform the data using label encoding\n",
    "\n",
    "    # Label Encoder\n",
    "    le = preprocessing.LabelEncoder()\n",
    "    classes = list(geolink[\"LITHOLOGY_GEOLINK\"].unique())\n",
    "    # This will help the LabelEncoder to map the classes to a corresponding value between 0 and n_classes-1\n",
    "    le.fit(classes)\n",
    "    # Now we will use the y values and transform the labels.\n",
    "    transformed_y_train = le.transform(y_train)\n",
    "    y_test_true = le.transform(y_test)\n",
    "    # 3. Train your models 15NN\n",
    "\n",
    "    # Note: In this example code we are just showing 15NN\n",
    "    # Number of Neighbors around our datapoint to be classified\n",
    "\n",
    "    # 1NN\n",
    "    n_neighbors = 1\n",
    "    cls_1nn = KNeighborsClassifier(n_neighbors)\n",
    "    # Let's fit the data\n",
    "    cls_1nn .fit(X_train, transformed_y_train)\n",
    "\n",
    "    # 5NN\n",
    "    n_neighbors = 5\n",
    "    cls_5nn = KNeighborsClassifier(n_neighbors)\n",
    "    # Let's fit the data\n",
    "    cls_5nn.fit(X_train, transformed_y_train)\n",
    "\n",
    "    # 10NN\n",
    "    n_neighbors = 10\n",
    "    cls_10nn = KNeighborsClassifier(n_neighbors)\n",
    "    # Let's fit the data\n",
    "    cls_10nn.fit(X_train, transformed_y_train)\n",
    "\n",
    "    # 15NN\n",
    "    n_neighbors = 15\n",
    "    cls_15nn = KNeighborsClassifier(n_neighbors)\n",
    "    # Let's fit the data\n",
    "    cls_15nn.fit(X_train, transformed_y_train)\n",
    "\n",
    "    # 4. Compare the accuracy of your models\n",
    "\n",
    "    # Evaluation Time\n",
    "    y_pred = cls_1nn.predict(X_test)\n",
    "    print(\"Accuracy 1NN: {}\".format(accuracy_score(y_test_true, y_pred)))\n",
    "\n",
    "    # Evaluation Time\n",
    "    y_pred = cls_5nn.predict(X_test)\n",
    "    print(\"Accuracy 5NN: {}\".format(accuracy_score(y_test_true, y_pred)))\n",
    "\n",
    "    # Evaluation Time\n",
    "    y_pred = cls_10nn.predict(X_test)\n",
    "    print(\"Accuracy 10NN: {}\".format(accuracy_score(y_test_true, y_pred)))\n",
    "\n",
    "    # Evaluation Time\n",
    "    y_pred = cls_15nn.predict(X_test)\n",
    "    print(\"Accuracy 15NN: {}\".format(accuracy_score(y_test_true, y_pred)))  \n",
    "  ```\n",
    "\n",
    "  </details>\n",
    "\n",
    "  </div>\n"
   ]
  },
  {
   "cell_type": "code",
   "execution_count": null,
   "metadata": {
    "ExecuteTime": {
     "end_time": "2020-10-21T04:10:03.766292Z",
     "start_time": "2020-10-21T04:10:02.852371Z"
    }
   },
   "outputs": [],
   "source": []
  },
  {
   "cell_type": "code",
   "execution_count": 23,
   "metadata": {
    "ExecuteTime": {
     "end_time": "2020-10-21T04:50:19.361078Z",
     "start_time": "2020-10-21T04:50:19.359256Z"
    }
   },
   "outputs": [],
   "source": [
    "# Exercise\n",
    "\n",
    "# Write your code below:\n",
    "\n",
    "# 0. Select a different well\n",
    "\n",
    "# 1. Normalise dataset and Split well log dataset here\n",
    "\n",
    "# 2. Transform the data using label encoding\n",
    "\n",
    "# 3. Train your models 1NN, 5NN, 10NN, 15NN\n",
    "\n",
    "# 4. Compare the accuracy of your models"
   ]
  },
  {
   "cell_type": "markdown",
   "metadata": {},
   "source": [
    "# 4. Support Vector Machines (SVM) <a name=\"svm\"></a>\n",
    "\n",
    "**A bit of history:**\n",
    "\n",
    "> The Support Vector Machine (SVM) algorithm is a popular machine learning tool that offers solutions for both classification and regression problems. Developed at AT&T Bell Laboratories by Vapnik with colleagues (Boser et al., 1992, Guyon et al., 1993, Vapnik et al., 1997), it presents one of the most robust prediction methods, based on the statistical learning framework.\n",
    "\n",
    "**How does it works?**\n",
    "> An SVM performs classification tasks by constructing hyperplanes in a multidimensional space that separates cases of different class labels. You can use an SVM when your data has exactly two classes, e.g. binary classification problems\n",
    "\n",
    "\n",
    "The graphic below shows how a support vector machine would choose a separating hyperplane for two classes of points in 2D. H1 does not separate the classes. H2 does, but only with a small margin. H3 separates them with the maximum margin.\n",
    "\n",
    "<img src=\"https://upload.wikimedia.org/wikipedia/commons/thumb/b/b5/Svm_separating_hyperplanes_%28SVG%29.svg/1024px-Svm_separating_hyperplanes_%28SVG%29.svg.png\" width=300 height=300/>\n",
    "\n",
    "[Source Image](https://en.wikipedia.org/wiki/Support_vector_machine#/media/File:Svm_separating_hyperplanes_(SVG).svg)\n",
    "\n",
    "One of the limitations of SVMs is that they inherently do binary classification. However, there are different methods to extend SVMs and use them in multiclass problems. The most common methods involve transforming the problem into a set of binary classification problems, by one of two strategies:\n",
    "\n",
    "- One vs. the rest. For 𝑘 classes, 𝑘 binary classifiers are trained. Each determines whether an example belongs to its 'own' class versus any other class. The classifier with the largest output is taken to be the class of the example.\n",
    "- One vs. one. A binary classifier is trained for each pair of classes. A voting procedure is used to combine the outputs.\n",
    "\n",
    "Sources: [Wikipedia](https://en.wikipedia.org/wiki/Support_vector_machine), [SVMs](https://nlp.stanford.edu/IR-book/html/htmledition/multiclass-svms-1.html), [Multiclass SVM](https://stats.stackexchange.com/questions/215342/can-a-linear-svm-only-have-2-classes)\n",
    "\n",
    "\n",
    "**Scikit-learn Implementation:**\n",
    "\n",
    "Multiclass and Multilabel algorithms:\n",
    "\n",
    "> **Warning:** All classifiers in scikit-learn do multiclass classification out-of-the-box. You don’t need to use the sklearn.multiclass module unless you want to experiment with different multiclass strategies.\n",
    "\n",
    "More information about Multiclass classification in scikit-learn [here](https://scikit-learn.org/stable/modules/multiclass.html)\n",
    "\n",
    "The SVC implementation is not efficient for large datasets. Instead we will use the LinearSVC implementation. Find more information in the [official documentation](https://scikit-learn.org/stable/modules/generated/sklearn.svm.SVC.html).\n",
    "\n",
    "> The implementation is based on libsvm. The fit time scales at least quadratically with the number of samples and might be impractical beyond tens of thousands of samples. For large datasets consider using sklearn.svm.LinearSVC or sklearn.linear_model.SGDClassifier instead, possibly after a sklearn.kernel_approximation.Nystroem transformer.\n",
    "\n",
    "Sometimes, we will want to train and test our algorithm in a sample fo the data instead of the completed dataset. Some ML methods do not deal well with large datasets so taking a sample from the dataset would be preferable.\n"
   ]
  },
  {
   "cell_type": "code",
   "execution_count": 35,
   "metadata": {
    "ExecuteTime": {
     "end_time": "2020-10-21T04:53:47.419598Z",
     "start_time": "2020-10-21T04:53:46.663725Z"
    }
   },
   "outputs": [],
   "source": [
    "interim_locations = Path(\"../../data/processed/geolink_norge_dataset/\")\n",
    "# Load processed dataset\n",
    "geolink_all = pd.read_parquet(\n",
    "    interim_locations / \"geolink_norge_well_logs_train.parquet\"\n",
    ").set_index([\"Well\", \"DEPT\"])\n",
    "# Add Depth as column\n",
    "geolink_all['DEPT'] = geolink_all.index.get_level_values(1)\n",
    "\n",
    "# Work with one well\n",
    "geolink = geolink_all.xs(\"30_6-11\")"
   ]
  },
  {
   "cell_type": "code",
   "execution_count": 36,
   "metadata": {
    "ExecuteTime": {
     "end_time": "2020-10-21T04:53:47.424659Z",
     "start_time": "2020-10-21T04:53:47.421681Z"
    }
   },
   "outputs": [
    {
     "name": "stdout",
     "output_type": "stream",
     "text": [
      "Total rows in Geolink dataset for the selected well: 15113\n"
     ]
    }
   ],
   "source": [
    "print(\"Total rows in Geolink dataset for the selected well:\", len(geolink))"
   ]
  },
  {
   "cell_type": "markdown",
   "metadata": {},
   "source": [
    "Some algorithms will take significantly more time to train than others. In the case of SVMs the process of training can get slower as the number of data points is increased.\n",
    "\n",
    "Note: For the example below, we will sample the data to get only 10,000 data points from the original geolink dataset instead of 22,921. This reduction in datapoints may affect the accuracy of the model. But it will be done for demonstration purposes."
   ]
  },
  {
   "cell_type": "code",
   "execution_count": null,
   "metadata": {
    "ExecuteTime": {
     "end_time": "2020-10-07T11:34:24.650779Z",
     "start_time": "2020-10-07T11:34:24.607506Z"
    }
   },
   "outputs": [],
   "source": []
  },
  {
   "cell_type": "code",
   "execution_count": 37,
   "metadata": {
    "ExecuteTime": {
     "end_time": "2020-10-21T04:54:11.557322Z",
     "start_time": "2020-10-21T04:53:50.844024Z"
    }
   },
   "outputs": [
    {
     "name": "stdout",
     "output_type": "stream",
     "text": [
      "Accuracy: 0.788\n"
     ]
    }
   ],
   "source": [
    "# In our case, we will take a sample of 10,000 data points from one well\n",
    "sample_dataset = geolink.sample(n=10000, replace=False, random_state=2020)\n",
    "\n",
    "X_sample = sample_dataset.iloc[:, 1:-1]\n",
    "y_sample = sample_dataset[\"LITHOLOGY_GEOLINK\"]\n",
    "# Normalise data\n",
    "scaler = StandardScaler()\n",
    "X_scaled = scaler.fit_transform(X_sample)\n",
    "\n",
    "X_train, X_test, y_train, y_test = train_test_split(\n",
    "    X_scaled, y_sample, test_size=0.3, random_state=2020\n",
    ")\n",
    "\n",
    "clf = LinearSVC(\n",
    "    penalty=\"l2\",\n",
    "    loss=\"squared_hinge\",\n",
    "    dual=True,\n",
    "    tol=0.0001,\n",
    "    C=100,\n",
    "    multi_class=\"ovr\",\n",
    "    fit_intercept=True,\n",
    "    intercept_scaling=1,\n",
    "    class_weight=None,\n",
    "    verbose=0,\n",
    "    random_state=2020,\n",
    "    max_iter=10000,\n",
    ")\n",
    "clf.fit(X_train, y_train)\n",
    "\n",
    "categories = y_sample.unique()\n",
    "# Evaluation Time\n",
    "y_pred = clf.predict(X_test)\n",
    "y_pred = pd.Categorical(y_pred, categories=categories)\n",
    "y_true = y_test\n",
    "print(\"Accuracy: {}\".format(accuracy_score(y_test, y_pred)))"
   ]
  },
  {
   "cell_type": "code",
   "execution_count": 38,
   "metadata": {
    "ExecuteTime": {
     "end_time": "2020-10-21T04:54:11.622118Z",
     "start_time": "2020-10-21T04:54:11.558624Z"
    }
   },
   "outputs": [
    {
     "name": "stdout",
     "output_type": "stream",
     "text": [
      "                        precision    recall  f1-score   support\n",
      "\n",
      "Argillaceous Limestone       0.65      0.23      0.34        48\n",
      "     Calcareous Cement       0.00      0.00      0.00        11\n",
      "              Cinerite       0.81      0.79      0.80        33\n",
      "                  Coal       0.46      0.43      0.44        14\n",
      "      Cross Bedded Sst       0.68      0.67      0.68       116\n",
      "             Marlstone       0.88      0.98      0.93      1411\n",
      "             Sandstone       0.73      0.89      0.80        75\n",
      "            Shaly Silt       0.73      0.80      0.76       625\n",
      "                  Silt       0.59      0.44      0.51       499\n",
      "            Silty Sand       0.78      0.60      0.68       115\n",
      "           Silty Shale       1.00      0.02      0.04        53\n",
      "\n",
      "              accuracy                           0.79      3000\n",
      "             macro avg       0.66      0.53      0.54      3000\n",
      "          weighted avg       0.78      0.79      0.77      3000\n",
      "\n"
     ]
    }
   ],
   "source": [
    "print(sklearn.metrics.classification_report(y_true, y_pred))"
   ]
  },
  {
   "cell_type": "code",
   "execution_count": 39,
   "metadata": {
    "ExecuteTime": {
     "end_time": "2020-10-21T04:54:11.999474Z",
     "start_time": "2020-10-21T04:54:11.623861Z"
    }
   },
   "outputs": [
    {
     "data": {
      "text/plain": [
       "[]"
      ]
     },
     "execution_count": 39,
     "metadata": {},
     "output_type": "execute_result"
    },
    {
     "data": {
      "image/png": "[encoded data removed]",
      "text/plain": [
       "<Figure size 288x864 with 3 Axes>"
      ]
     },
     "metadata": {
      "needs_background": "light"
     },
     "output_type": "display_data"
    }
   ],
   "source": [
    "# Plot the results as well logs\n",
    "\n",
    "# WARNING: we are NOT seperating test and train here. So we are displaying the whole well, which includes both\n",
    "# See the RNN-Depth notebooks for a more detailed treatment, with better test train split\n",
    "X_sample = geolink.iloc[:, 1:-1]\n",
    "y_true = geolink[\"LITHOLOGY_GEOLINK\"]\n",
    "X_scaled = scaler.fit_transform(X_sample)\n",
    "y_pred = clf.predict(X_scaled)\n",
    "\n",
    "true = pd.Categorical(y_true)\n",
    "pred = pd.Categorical(y_pred, categories=true.categories)\n",
    "\n",
    "f, ax = plt.subplots(nrows=1, ncols=2, figsize=(4, 12))\n",
    "plot_facies(pred, ax=ax[0], colorbar=False, xlabel='Pred')\n",
    "plot_facies(true, ax=ax[1], xlabel='True')\n",
    "ax[0].set_xticklabels([])\n",
    "ax[1].set_xticklabels([])\n",
    "ax[1].set_yticklabels([])"
   ]
  },
  {
   "cell_type": "markdown",
   "metadata": {},
   "source": [
    "The results could be better with a deeper network and more data. We will revit this again in the Recurrent Neural Networks notebook.\n",
    "\n",
    "We could also:\n",
    "- give it a sequence of a logs, so it can see the context up an down the well\n",
    "- give it the X and Y location of the well\n",
    "- look at more logs, while using the GPU\n",
    "- provide some human examples for each well\n",
    "- project a geological model or geological maps onto the wells"
   ]
  },
  {
   "cell_type": "markdown",
   "metadata": {},
   "source": [
    "# 5. Decision Trees <a name=\"decision-trees\"></a>"
   ]
  },
  {
   "cell_type": "markdown",
   "metadata": {},
   "source": [
    "\n",
    "> A decision tree is a decision support tool that uses a tree-like model of decisions and their possible consequences, including chance event outcomes, resource costs, and utility. It is one way to display an algorithm that only contains conditional control statements. \n",
    "Decision trees are commonly used in operations research, specifically in decision analysis, to help identify a strategy most likely to reach a goal, but are also a popular tool in machine learning.\n",
    "\n",
    "Some **advantages** of using decision trees are:\n",
    "\n",
    "- Simple to understand and interpret: People can understand decision tree models after a brief explanation. Trees can also be displayed graphically in a way that is easy for non-experts to interpret.\n",
    "\n",
    "- Able to handle both numerical and categorical data. [1]\n",
    "\n",
    "- Requires little data preparation: Other techniques often require data normalization. Since trees can handle qualitative predictors, there is no need to create dummy variables. [1]\n",
    "\n",
    "- Performs well with large datasets. Large amounts of data can be analyzed using standard computing resources in a reasonable time.\n",
    "\n",
    "**Limitations:** \n",
    "- Trees can be very non-robust. A small change in the training data can result in a large change in the tree and consequently the final predictions. [1]\n",
    "- Decision-tree learners can create over-complex trees that do not generalize well from the training data.\n",
    "\n",
    "\n",
    "Source: [Wikipedia](https://en.wikipedia.org/wiki/Decision_tree)\n",
    "\n",
    "Source: [1] Gareth, James; Witten, Daniela; Hastie, Trevor; Tibshirani, Robert (2015). An Introduction to Statistical Learning. New York: Springer. pp. 315. ISBN 978-1-4614-7137-0.\n",
    "\n",
    "**Note:** Decision trees can be used for classification and regression."
   ]
  },
  {
   "cell_type": "markdown",
   "metadata": {},
   "source": [
    "In the first example, we will train a decision tree on the iris dataset.\n",
    "\n",
    "We can use the function <code>plot_tree</code> to show the flowchart of the trained model. Find more information about plotting the decision surface of a decision tree [here](https://scikit-learn.org/stable/auto_examples/tree/plot_iris_dtc.html#sphx-glr-auto-examples-tree-plot-iris-dtc-py). As can be seen in the next plot, the maximum [depth](http://typeocaml.com/2014/11/26/height-depth-and-level-of-a-tree/) of the tree is 5. Usually decision trees with more levels (deeper trees) will be able to discriminate better and take more finetuned decisions, however, deeper trees are also likely to [overfit](https://en.wikipedia.org/wiki/Overfitting) easily. \n",
    "\n",
    "<div class=\"alert alert-info\" style=\"font-size:100%\">\n",
    "\n",
    "**NOTE:** <br>\n",
    "\n",
    "Use the hyperparameters `max_depth` and `max_features` carefully. Incresing those parameters might increase the [accuracy](https://en.wikipedia.org/wiki/Accuracy_and_precision) of the model but it is also likely to overfit the models at some point.\n",
    "    <br/>\n",
    "Using the correct metrics of evaluation is key to correctly assess the model.\n",
    "\n",
    "</div>"
   ]
  },
  {
   "cell_type": "code",
   "execution_count": 29,
   "metadata": {
    "ExecuteTime": {
     "end_time": "2020-10-21T04:50:43.483058Z",
     "start_time": "2020-10-21T04:50:42.625626Z"
    }
   },
   "outputs": [
    {
     "data": {
      "image/png": "[encoded data removed]",
      "text/plain": [
       "<Figure size 1080x720 with 1 Axes>"
      ]
     },
     "metadata": {
      "needs_background": "light"
     },
     "output_type": "display_data"
    }
   ],
   "source": [
    "# Split dataset geolink. test_size =0.25\n",
    "X_train, X_test, y_train, y_test = train_test_split(\n",
    "    X, y, test_size=0.25, random_state=2020\n",
    ")\n",
    "\n",
    "clf = tree.DecisionTreeClassifier()\n",
    "fig, ax = plt.subplots(figsize=(15, 10))\n",
    "# X0 and y0 from iris_dataset\n",
    "tree.plot_tree(clf.fit(X_train, y_train), max_depth=3, fontsize=10)\n",
    "plt.show()"
   ]
  },
  {
   "cell_type": "markdown",
   "metadata": {},
   "source": [
    "Now let's train a decision tree (DT) with our geolink dataset. For the next example, we will set the hyperparater max_depth to 100. Notice how the accuracy in the model changes. "
   ]
  },
  {
   "cell_type": "code",
   "execution_count": 30,
   "metadata": {
    "ExecuteTime": {
     "end_time": "2020-10-21T04:50:43.651281Z",
     "start_time": "2020-10-21T04:50:43.484417Z"
    }
   },
   "outputs": [
    {
     "name": "stdout",
     "output_type": "stream",
     "text": [
      "Accuracy: 0.9222016406456734\n"
     ]
    }
   ],
   "source": [
    "clf = tree.DecisionTreeClassifier(random_state=2020)\n",
    "clf = clf.fit(X_train, y_train)\n",
    "\n",
    "# Evaluation Time\n",
    "y_pred = clf.predict(X_test)\n",
    "print(\"Accuracy: {}\".format(accuracy_score(y_test, y_pred)))"
   ]
  },
  {
   "cell_type": "markdown",
   "metadata": {},
   "source": [
    "We now have an accuracy of >92% just with the default hyperparameters. Let's train the DT again with a different hyperparameter."
   ]
  },
  {
   "cell_type": "code",
   "execution_count": 31,
   "metadata": {
    "ExecuteTime": {
     "end_time": "2020-10-21T04:50:43.826095Z",
     "start_time": "2020-10-21T04:50:43.652681Z"
    }
   },
   "outputs": [
    {
     "name": "stdout",
     "output_type": "stream",
     "text": [
      "Accuracy: 0.9251124636147129\n"
     ]
    }
   ],
   "source": [
    "clf2 = tree.DecisionTreeClassifier(random_state=2020, max_depth=20)\n",
    "clf2 = clf2.fit(X_train, y_train)\n",
    "\n",
    "# Evaluation Time\n",
    "y_pred = clf2.predict(X_test)\n",
    "print(\"Accuracy: {}\".format(accuracy_score(y_test, y_pred)))"
   ]
  },
  {
   "cell_type": "markdown",
   "metadata": {},
   "source": [
    "We got a greater accuracy just with the hyperparameter max_depth=20. Let's train the DT again with a different hyperparameter. In appearance, the first model would be better, however, there are other metrics besides accuracy that should be taken into account. There are also other methods to avoid overfitting. We will go deeper into this topic in the next sessions."
   ]
  },
  {
   "cell_type": "markdown",
   "metadata": {
    "ExecuteTime": {
     "end_time": "2020-07-07T11:28:26.325900Z",
     "start_time": "2020-07-07T11:28:26.323318Z"
    }
   },
   "source": [
    "# 6. Random Forest <a name=\"random-forest\"></a>\n",
    "\n",
    "> A random forest is a meta estimator that fits several decision tree classifiers on various sub-samples of the dataset and uses averaging to improve the predictive accuracy and control over-fitting.\n",
    "\n",
    "\n",
    "Random Forest is an ensemble method:\n",
    ">The goal of ensemble methods is to combine the predictions of several base estimators built with a given learning algorithm to improve generalizability/robustness over a single estimator.\n",
    "\n",
    "We will learn more about ensemble methods in the next session.\n",
    "\n",
    "Scikit-learn support Random Forest for classification and regression (<code>RandomForestClassifier</code> and <code>RandomForestRegressor</code>)\n",
    "\n",
    "> In random forests (see RandomForestClassifier and RandomForestRegressor classes), each tree in the ensemble is built from a sample drawn with replacement (i.e., a bootstrap sample) from the training set. Furthermore, when splitting each node during the construction of a tree, the best split is found either from all input features or a random subset of size max_features. (See the parameter tuning guidelines for more details). \n",
    "The purpose of these two sources of randomness is to decrease the variance of the forest estimator. Indeed, individual decision trees typically exhibit high variance and tend to overfit. The injected randomness in forests yields decision trees with somewhat decoupled prediction errors. By taking an average of those predictions, some errors can cancel out. Random forests achieve a reduced variance by combining diverse trees, sometimes at the cost of a slight increase in bias. In practice, the variance reduction is often significant hence yielding an overall better model.\n",
    "\n",
    "This implementation of RandomForest only accepts numerical values. You should always encode categorical values.\n",
    "\n",
    "Source: [Official Documentation Scikit-learn](https://scikit-learn.org/stable/modules/generated/sklearn.ensemble.RandomForestClassifier.html)\n",
    "\n",
    "**Note:** The next 2 pieces of code might take several minutes to complete the training."
   ]
  },
  {
   "cell_type": "code",
   "execution_count": 32,
   "metadata": {
    "ExecuteTime": {
     "end_time": "2020-10-21T04:50:47.005353Z",
     "start_time": "2020-10-21T04:50:43.828017Z"
    }
   },
   "outputs": [
    {
     "name": "stdout",
     "output_type": "stream",
     "text": [
      "Accuracy: 0.9523683514157184\n"
     ]
    }
   ],
   "source": [
    "clf = RandomForestClassifier()\n",
    "clf.fit(X_train, y_train)\n",
    "y_pred = clf.predict(X_test)\n",
    "print(\"Accuracy: {}\".format(accuracy_score(y_test, y_pred)))"
   ]
  },
  {
   "cell_type": "markdown",
   "metadata": {},
   "source": [
    "Let's train again the model with different hyperparameters."
   ]
  },
  {
   "cell_type": "code",
   "execution_count": 33,
   "metadata": {
    "ExecuteTime": {
     "end_time": "2020-10-21T04:50:50.144144Z",
     "start_time": "2020-10-21T04:50:47.006716Z"
    }
   },
   "outputs": [
    {
     "name": "stdout",
     "output_type": "stream",
     "text": [
      "Accuracy: 0.9542206933051072\n"
     ]
    }
   ],
   "source": [
    "clf = RandomForestClassifier(max_depth=100, n_estimators=100)\n",
    "clf.fit(X_train, y_train)\n",
    "y_pred = clf.predict(X_test)\n",
    "print(\"Accuracy: {}\".format(accuracy_score(y_test, y_pred)))"
   ]
  },
  {
   "cell_type": "markdown",
   "metadata": {},
   "source": [
    "## References and further reading\n",
    "The following sources have been used in the creation of this notebook:\n",
    "- [Decision Trees](https://en.wikipedia.org/wiki/Decision_tree)\n",
    "- [SVMs](https://nlp.stanford.edu/IR-book/html/htmledition/multiclass-svms-1.html)\n",
    "- [Normalisation](https://en.wikipedia.org/wiki/Normalization_(statistics))\n",
    "- [Seaborn Datasets](https://seaborn.pydata.org/generated/seaborn.load_dataset.html)\n",
    "- [Scikit-learn Datasets](https://scikit-learn.org/stable/datasets/index.html)\n"
   ]
  }
 ],
 "metadata": {
  "jupytext": {
   "encoding": "# -*- coding: utf-8 -*-",
   "formats": "ipynb,py"
  },
  "kernelspec": {
   "display_name": "deep_ml_curriculum",
   "language": "python",
   "name": "deep_ml_curriculum"
  },
  "language_info": {
   "codemirror_mode": {
    "name": "ipython",
    "version": 3
   },
   "file_extension": ".py",
   "mimetype": "text/x-python",
   "name": "python",
   "nbconvert_exporter": "python",
   "pygments_lexer": "ipython3",
   "version": "3.7.0"
  },
  "toc": {
   "base_numbering": 1,
   "nav_menu": {},
   "number_sections": true,
   "sideBar": true,
   "skip_h1_title": false,
   "title_cell": "Table of Contents",
   "title_sidebar": "Contents",
   "toc_cell": false,
   "toc_position": {
    "height": "calc(100% - 180px)",
    "left": "10px",
    "top": "150px",
    "width": "217.999px"
   },
   "toc_section_display": true,
   "toc_window_display": true
  },
  "varInspector": {
   "cols": {
    "lenName": 16,
    "lenType": 16,
    "lenVar": 40
   },
   "kernels_config": {
    "python": {
     "delete_cmd_postfix": "",
     "delete_cmd_prefix": "del ",
     "library": "var_list.py",
     "varRefreshCmd": "print(var_dic_list())"
    },
    "r": {
     "delete_cmd_postfix": ") ",
     "delete_cmd_prefix": "rm(",
     "library": "var_list.r",
     "varRefreshCmd": "cat(var_dic_list()) "
    }
   },
   "types_to_exclude": [
    "module",
    "function",
    "builtin_function_or_method",
    "instance",
    "_Feature"
   ],
   "window_display": false
  }
 },
 "nbformat": 4,
 "nbformat_minor": 4
}
