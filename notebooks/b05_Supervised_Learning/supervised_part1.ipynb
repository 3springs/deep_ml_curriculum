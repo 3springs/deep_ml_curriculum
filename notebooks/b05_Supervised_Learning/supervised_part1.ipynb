{
 "cells": [
  {
   "cell_type": "markdown",
   "metadata": {
    "ExecuteTime": {
     "end_time": "2020-07-06T13:13:47.216208Z",
     "start_time": "2020-07-06T13:13:47.211457Z"
    }
   },
   "source": [
    "# Introduction\n",
    "\n",
    "This notebook provides examples of some machine learning methods used in supervised learning. Please refer to the table below to navigate through the notebook.\n",
    "\n",
    "## Table of Content\n",
    "0. [Supervised Learning](#supervised)\n",
    "1. [Libraries](#libraries)\n",
    "2. [Dataset](#dataset)\n",
    "1. [KNN](#knn)\n",
    "2. [SVM](#svm)\n",
    "3. [Decision Trees](#decision-trees)\n",
    "4. [Random Forest](#random-forest)\n",
    "5. [Boosted Trees](#boosted-trees)"
   ]
  },
  {
   "cell_type": "code",
   "execution_count": null,
   "metadata": {
    "ExecuteTime": {
     "end_time": "2020-09-28T01:43:55.238192Z",
     "start_time": "2020-09-28T01:41:55.100Z"
    },
    "solution2": "hidden"
   },
   "outputs": [],
   "source": [
    "2"
   ]
  },
  {
   "cell_type": "code",
   "execution_count": null,
   "metadata": {
    "ExecuteTime": {
     "end_time": "2020-09-28T01:43:55.240570Z",
     "start_time": "2020-09-28T01:41:56.700Z"
    },
    "solution2": "hidden"
   },
   "outputs": [],
   "source": [
    "3"
   ]
  },
  {
   "cell_type": "markdown",
   "metadata": {},
   "source": [
    "# 0. Supervised Learning <a name=\"supervised\"></a>\n",
    "\n",
    "Supervised learning is the machine learning task of learning a function that maps an input to an output based on example input-output pairs [1]. It infers a function from labelled training data consisting of a set of training examples [2].\n",
    "\n",
    "![ML](ml2.png)\n",
    "![ML](ml1.png)\n",
    "\n",
    "Sources:\n",
    "- [Wikipedia](https://en.wikipedia.org/wiki/Supervised_learning#:~:text=Supervised%20learning%20is%20the%20machine,a%20set%20of%20training%20examples.)\n",
    "-  1. Stuart J. Russell, Peter Norvig (2010) Artificial Intelligence: A Modern Approach, Third Edition, Prentice Hall ISBN 9780136042594.\n",
    "-  2. Mehryar Mohri, Afshin Rostamizadeh, Ameet Talwalkar (2012) Foundations of Machine Learning, The MIT Press ISBN 9780262018258."
   ]
  },
  {
   "cell_type": "markdown",
   "metadata": {},
   "source": [
    "## 1. Importing libraries <a name=\"libraries\"></a>"
   ]
  },
  {
   "cell_type": "code",
   "execution_count": 1,
   "metadata": {
    "ExecuteTime": {
     "end_time": "2020-09-20T03:10:04.149074Z",
     "start_time": "2020-09-20T03:10:02.299398Z"
    }
   },
   "outputs": [],
   "source": [
    "#Metrics\n",
    "from sklearn.metrics import accuracy_score\n",
    "from sklearn.metrics import confusion_matrix\n",
    "#Classifiers\n",
    "from sklearn import svm\n",
    "from sklearn import tree\n",
    "from sklearn.ensemble import RandomForestClassifier\n",
    "from sklearn.neighbors import KNeighborsClassifier\n",
    "# Preprocessing\n",
    "from sklearn import preprocessing\n",
    "from sklearn.model_selection import train_test_split\n",
    "from sklearn.preprocessing import StandardScaler\n",
    "# Data visualisation\n",
    "import seaborn as sns\n",
    "import pandas as pd\n",
    "from pathlib import Path\n",
    "import matplotlib.pyplot as plt\n",
    "from matplotlib.colors import ListedColormap\n",
    "\n",
    "%matplotlib inline\n",
    "# Hide all warnings\n",
    "import warnings\n",
    "warnings.filterwarnings('ignore') # warnings.filterwarnings(action='once')"
   ]
  },
  {
   "cell_type": "markdown",
   "metadata": {},
   "source": [
    "## 2. Dataset <a name=\"dataset\"></a>\n",
    "\n",
    "**Note:** download data from https://drive.google.com/drive/folders/1EgDN57LDuvlZAwr5-eHWB5CTJ7K9HpDP\n",
    "\n",
    "Credit to this repo: https://github.com/LukasMosser/geolink_dataset\n",
    "\n",
    "## Data Disclaimer\n",
    "\n",
    "All the data serving as an input to these notebooks was generously donated by GEOLINK  \n",
    "and is CC-by-SA 4.0 \n",
    "\n",
    "If you use this data please reference the dataset properly to give them credit for their contribution.\n",
    "\n",
    "\n",
    "## Data Preparation\n",
    "The geolink dataset we will use in this notebook has been preprocessed. You can find the process of preparation of this dataset in <code>notebook/00 Data Prep/00-mc-prep_geolink_norge_dataset.ipynb</code>\n",
    "\n",
    "## Load Dataset"
   ]
  },
  {
   "cell_type": "code",
   "execution_count": 5,
   "metadata": {
    "ExecuteTime": {
     "end_time": "2020-09-20T03:10:46.176869Z",
     "start_time": "2020-09-20T03:10:43.683987Z"
    }
   },
   "outputs": [
    {
     "data": {
      "text/html": [
       "<div>\n",
       "<style scoped>\n",
       "    .dataframe tbody tr th:only-of-type {\n",
       "        vertical-align: middle;\n",
       "    }\n",
       "\n",
       "    .dataframe tbody tr th {\n",
       "        vertical-align: top;\n",
       "    }\n",
       "\n",
       "    .dataframe thead th {\n",
       "        text-align: right;\n",
       "    }\n",
       "</style>\n",
       "<table border=\"1\" class=\"dataframe\">\n",
       "  <thead>\n",
       "    <tr style=\"text-align: right;\">\n",
       "      <th></th>\n",
       "      <th>LITHOLOGY_GEOLINK</th>\n",
       "      <th>CALI</th>\n",
       "      <th>RHOB</th>\n",
       "      <th>GR</th>\n",
       "      <th>DTC</th>\n",
       "      <th>RDEP</th>\n",
       "      <th>RMED</th>\n",
       "      <th>DEPT</th>\n",
       "    </tr>\n",
       "    <tr>\n",
       "      <th>DEPT</th>\n",
       "      <th></th>\n",
       "      <th></th>\n",
       "      <th></th>\n",
       "      <th></th>\n",
       "      <th></th>\n",
       "      <th></th>\n",
       "      <th></th>\n",
       "      <th></th>\n",
       "    </tr>\n",
       "  </thead>\n",
       "  <tbody>\n",
       "    <tr>\n",
       "      <th>1908.267822</th>\n",
       "      <td>Shaly Silt</td>\n",
       "      <td>20.122000</td>\n",
       "      <td>2.067214</td>\n",
       "      <td>75.447586</td>\n",
       "      <td>150.820175</td>\n",
       "      <td>0.873966</td>\n",
       "      <td>0.587002</td>\n",
       "      <td>1908.267822</td>\n",
       "    </tr>\n",
       "    <tr>\n",
       "      <th>1908.420166</th>\n",
       "      <td>Shaly Silt</td>\n",
       "      <td>20.029001</td>\n",
       "      <td>2.035628</td>\n",
       "      <td>82.692192</td>\n",
       "      <td>160.208496</td>\n",
       "      <td>0.886958</td>\n",
       "      <td>0.588001</td>\n",
       "      <td>1908.420166</td>\n",
       "    </tr>\n",
       "    <tr>\n",
       "      <th>1908.572510</th>\n",
       "      <td>Shaly Silt</td>\n",
       "      <td>19.850000</td>\n",
       "      <td>2.026366</td>\n",
       "      <td>89.060791</td>\n",
       "      <td>162.881058</td>\n",
       "      <td>0.896968</td>\n",
       "      <td>0.589002</td>\n",
       "      <td>1908.572510</td>\n",
       "    </tr>\n",
       "    <tr>\n",
       "      <th>1908.724976</th>\n",
       "      <td>Shaly Silt</td>\n",
       "      <td>19.641001</td>\n",
       "      <td>2.029380</td>\n",
       "      <td>95.180099</td>\n",
       "      <td>162.189087</td>\n",
       "      <td>0.904974</td>\n",
       "      <td>0.591002</td>\n",
       "      <td>1908.724976</td>\n",
       "    </tr>\n",
       "    <tr>\n",
       "      <th>1908.877319</th>\n",
       "      <td>Shaly Silt</td>\n",
       "      <td>19.454000</td>\n",
       "      <td>2.033669</td>\n",
       "      <td>99.270447</td>\n",
       "      <td>160.636047</td>\n",
       "      <td>0.912974</td>\n",
       "      <td>0.593001</td>\n",
       "      <td>1908.877319</td>\n",
       "    </tr>\n",
       "    <tr>\n",
       "      <th>...</th>\n",
       "      <td>...</td>\n",
       "      <td>...</td>\n",
       "      <td>...</td>\n",
       "      <td>...</td>\n",
       "      <td>...</td>\n",
       "      <td>...</td>\n",
       "      <td>...</td>\n",
       "      <td>...</td>\n",
       "    </tr>\n",
       "    <tr>\n",
       "      <th>5438.309082</th>\n",
       "      <td>Cross Bedded Sst</td>\n",
       "      <td>8.212000</td>\n",
       "      <td>2.531613</td>\n",
       "      <td>53.201000</td>\n",
       "      <td>81.876411</td>\n",
       "      <td>3.624000</td>\n",
       "      <td>4.091420</td>\n",
       "      <td>5438.309082</td>\n",
       "    </tr>\n",
       "    <tr>\n",
       "      <th>5438.461426</th>\n",
       "      <td>Cross Bedded Sst</td>\n",
       "      <td>8.215000</td>\n",
       "      <td>2.529216</td>\n",
       "      <td>48.216999</td>\n",
       "      <td>81.879501</td>\n",
       "      <td>3.895000</td>\n",
       "      <td>4.848202</td>\n",
       "      <td>5438.461426</td>\n",
       "    </tr>\n",
       "    <tr>\n",
       "      <th>5438.613769</th>\n",
       "      <td>Cross Bedded Sst</td>\n",
       "      <td>8.217000</td>\n",
       "      <td>2.527219</td>\n",
       "      <td>45.028000</td>\n",
       "      <td>82.356583</td>\n",
       "      <td>4.279000</td>\n",
       "      <td>6.158574</td>\n",
       "      <td>5438.613769</td>\n",
       "    </tr>\n",
       "    <tr>\n",
       "      <th>5438.766113</th>\n",
       "      <td>Cross Bedded Sst</td>\n",
       "      <td>8.218000</td>\n",
       "      <td>2.527002</td>\n",
       "      <td>44.196999</td>\n",
       "      <td>82.098053</td>\n",
       "      <td>4.753000</td>\n",
       "      <td>7.271724</td>\n",
       "      <td>5438.766113</td>\n",
       "    </tr>\n",
       "    <tr>\n",
       "      <th>5438.918457</th>\n",
       "      <td>Cross Bedded Sst</td>\n",
       "      <td>8.219000</td>\n",
       "      <td>2.527991</td>\n",
       "      <td>44.361000</td>\n",
       "      <td>81.144531</td>\n",
       "      <td>5.285000</td>\n",
       "      <td>7.808170</td>\n",
       "      <td>5438.918457</td>\n",
       "    </tr>\n",
       "  </tbody>\n",
       "</table>\n",
       "<p>22921 rows × 8 columns</p>\n",
       "</div>"
      ],
      "text/plain": [
       "            LITHOLOGY_GEOLINK       CALI      RHOB         GR         DTC  \\\n",
       "DEPT                                                                        \n",
       "1908.267822        Shaly Silt  20.122000  2.067214  75.447586  150.820175   \n",
       "1908.420166        Shaly Silt  20.029001  2.035628  82.692192  160.208496   \n",
       "1908.572510        Shaly Silt  19.850000  2.026366  89.060791  162.881058   \n",
       "1908.724976        Shaly Silt  19.641001  2.029380  95.180099  162.189087   \n",
       "1908.877319        Shaly Silt  19.454000  2.033669  99.270447  160.636047   \n",
       "...                       ...        ...       ...        ...         ...   \n",
       "5438.309082  Cross Bedded Sst   8.212000  2.531613  53.201000   81.876411   \n",
       "5438.461426  Cross Bedded Sst   8.215000  2.529216  48.216999   81.879501   \n",
       "5438.613769  Cross Bedded Sst   8.217000  2.527219  45.028000   82.356583   \n",
       "5438.766113  Cross Bedded Sst   8.218000  2.527002  44.196999   82.098053   \n",
       "5438.918457  Cross Bedded Sst   8.219000  2.527991  44.361000   81.144531   \n",
       "\n",
       "                 RDEP      RMED         DEPT  \n",
       "DEPT                                          \n",
       "1908.267822  0.873966  0.587002  1908.267822  \n",
       "1908.420166  0.886958  0.588001  1908.420166  \n",
       "1908.572510  0.896968  0.589002  1908.572510  \n",
       "1908.724976  0.904974  0.591002  1908.724976  \n",
       "1908.877319  0.912974  0.593001  1908.877319  \n",
       "...               ...       ...          ...  \n",
       "5438.309082  3.624000  4.091420  5438.309082  \n",
       "5438.461426  3.895000  4.848202  5438.461426  \n",
       "5438.613769  4.279000  6.158574  5438.613769  \n",
       "5438.766113  4.753000  7.271724  5438.766113  \n",
       "5438.918457  5.285000  7.808170  5438.918457  \n",
       "\n",
       "[22921 rows x 8 columns]"
      ]
     },
     "execution_count": 5,
     "metadata": {},
     "output_type": "execute_result"
    }
   ],
   "source": [
    "interim_locations = Path(\"../../data/processed/geolink_norge_dataset/\")\n",
    "# Load processed dataset\n",
    "geolink = pd.read_parquet(\n",
    "    interim_locations / \"geolink_norge_well_logs_train.parquet\"\n",
    ").set_index([\"Well\", \"DEPT\"])\n",
    "# Add Depth as column\n",
    "geolink['DEPT'] = geolink.index.get_level_values(1)\n",
    "\n",
    "# Work with one well\n",
    "geolink = geolink.xs(\"30_4-1\")\n",
    "geolink"
   ]
  },
  {
   "cell_type": "code",
   "execution_count": 10,
   "metadata": {
    "ExecuteTime": {
     "end_time": "2020-09-20T03:11:29.303263Z",
     "start_time": "2020-09-20T03:11:29.291174Z"
    }
   },
   "outputs": [
    {
     "data": {
      "text/plain": [
       "DEPT\n",
       "1908.267822          Shaly Silt\n",
       "1908.420166          Shaly Silt\n",
       "1908.572510          Shaly Silt\n",
       "1908.724976          Shaly Silt\n",
       "1908.877319          Shaly Silt\n",
       "                     ...       \n",
       "5438.309082    Cross Bedded Sst\n",
       "5438.461426    Cross Bedded Sst\n",
       "5438.613769    Cross Bedded Sst\n",
       "5438.766113    Cross Bedded Sst\n",
       "5438.918457    Cross Bedded Sst\n",
       "Name: LITHOLOGY_GEOLINK, Length: 22921, dtype: category\n",
       "Categories (11, object): [Argillaceous Limestone, Calcareous Cement, Cinerite, Coal, ..., Shaly Silt, Silt, Silty Sand, Silty Shale]"
      ]
     },
     "execution_count": 10,
     "metadata": {},
     "output_type": "execute_result"
    }
   ],
   "source": [
    "geolink['LITHOLOGY_GEOLINK'].astype('category')"
   ]
  },
  {
   "cell_type": "code",
   "execution_count": 18,
   "metadata": {
    "ExecuteTime": {
     "end_time": "2020-09-20T03:13:24.407582Z",
     "start_time": "2020-09-20T03:13:23.092318Z"
    }
   },
   "outputs": [
    {
     "data": {
      "image/png": "[encoded data removed]",
      "text/plain": [
       "<Figure size 576x864 with 6 Axes>"
      ]
     },
     "metadata": {
      "needs_background": "light"
     },
     "output_type": "display_data"
    }
   ],
   "source": [
    "from deep_ml_curriculum.visualization.well_log import plot_facies, plot_well\n",
    "plot_well(\"30_4-1\", geolink, facies=geolink['LITHOLOGY_GEOLINK'].astype('category').values)"
   ]
  },
  {
   "cell_type": "code",
   "execution_count": 19,
   "metadata": {
    "ExecuteTime": {
     "end_time": "2020-09-20T03:13:24.415556Z",
     "start_time": "2020-09-20T03:13:24.410699Z"
    }
   },
   "outputs": [],
   "source": [
    "# we only take the data from CALI  onward for X.\n",
    "X = geolink.iloc[:, 1:]\n",
    "# LITHOLOGY_GEOLINK will be our class y.\n",
    "y = geolink[\"LITHOLOGY_GEOLINK\"]"
   ]
  },
  {
   "cell_type": "code",
   "execution_count": 20,
   "metadata": {
    "ExecuteTime": {
     "end_time": "2020-09-20T03:13:24.428357Z",
     "start_time": "2020-09-20T03:13:24.418937Z"
    }
   },
   "outputs": [],
   "source": [
    "X_train, X_test, y_train, y_test = train_test_split(\n",
    "    X, y, test_size=0.2, random_state=2020\n",
    ")"
   ]
  },
  {
   "cell_type": "markdown",
   "metadata": {},
   "source": [
    "## 3. K-Nearest Neighbors (KNN) <a name=\"knn\"></a>\n",
    "**Example of decision boundaries using KNN:**\n",
    "<br/>\n",
    "<div>\n",
    "    Original Dataset. The dataset which consists of three classes (red,green and blue points). (For KNN classification example.)\n",
    "<img src=\"https://upload.wikimedia.org/wikipedia/commons/c/cc/Data3classes.png\" width=300 height=300/>\n",
    "    Decision Boundaries using 1NN algorithm\n",
    "<img src=\"https://upload.wikimedia.org/wikipedia/commons/5/52/Map1NN.png\" width=300 height=300/>\n",
    "</div>\n",
    "\n",
    "Images sources: [Wikipedia](https://en.wikipedia.org/wiki/K-nearest_neighbors_algorithm#/media/File:Data3classes.png)\n",
    " distributed under [CC BY-SA 3.0](https://creativecommons.org/licenses/by-sa/3.0/) license.\n",
    "          \n",
    "The code presented in this section is inspired from the official documentation [here](https://scikit-learn.org/stable/auto_examples/neighbors/plot_classification.html#sphx-glr-auto-examples-neighbors-plot-classification-py).\n",
    "\n",
    "According to Wikipedia:\n",
    ">k-NN is a type of instance-based learning, or lazy learning, where the function is only approximated locally and all computation is deferred until function evaluation. Since this algorithm relies on distance for classification, normalizing the training data can improve its accuracy dramatically."
   ]
  },
  {
   "cell_type": "code",
   "execution_count": 21,
   "metadata": {
    "ExecuteTime": {
     "end_time": "2020-09-20T03:13:24.438244Z",
     "start_time": "2020-09-20T03:13:24.431790Z"
    }
   },
   "outputs": [
    {
     "name": "stdout",
     "output_type": "stream",
     "text": [
      "Classes: ['Shaly Silt', 'Silt', 'Cinerite', 'Calcareous Cement', 'Silty Sand', 'Marlstone', 'Argillaceous Limestone', 'Limestone', 'Silty Shale', 'Cross Bedded Sst', 'Coal']\n",
      "Total Classes: 11\n"
     ]
    }
   ],
   "source": [
    "# Get types of Lithology\n",
    "classes = list(geolink[\"LITHOLOGY_GEOLINK\"].unique())\n",
    "print(f\"Classes: {classes}\")\n",
    "print(f\"Total Classes: {len(classes)}\")"
   ]
  },
  {
   "cell_type": "code",
   "execution_count": 22,
   "metadata": {
    "ExecuteTime": {
     "end_time": "2020-09-20T03:13:24.447875Z",
     "start_time": "2020-09-20T03:13:24.441518Z"
    }
   },
   "outputs": [
    {
     "data": {
      "text/plain": [
       "array(['Marlstone', 'Cross Bedded Sst', 'Silt', ..., 'Marlstone',\n",
       "       'Marlstone', 'Marlstone'], dtype=object)"
      ]
     },
     "execution_count": 22,
     "metadata": {},
     "output_type": "execute_result"
    }
   ],
   "source": [
    "# Let's check the classes\n",
    "y_train.to_numpy()"
   ]
  },
  {
   "cell_type": "markdown",
   "metadata": {},
   "source": [
    "There a total of 21 classes. However, like in the majority of machine learning algorithms, it is recommended to encode target values.\n",
    "\n",
    "\n",
    "There are different encoder preprocessing functions available in the scikit learn library. For this example we will use the [<code>LabelEncoder</code>](https://scikit-learn.org/stable/modules/generated/sklearn.preprocessing.LabelEncoder.html):\n",
    "\n",
    "> Encode target labels with a value between 0 and n_classes-1. This transformer should be used to encode target values, i.e. y, and not the input X."
   ]
  },
  {
   "cell_type": "code",
   "execution_count": 23,
   "metadata": {
    "ExecuteTime": {
     "end_time": "2020-09-20T03:13:24.460380Z",
     "start_time": "2020-09-20T03:13:24.451808Z"
    }
   },
   "outputs": [
    {
     "data": {
      "text/plain": [
       "LabelEncoder()"
      ]
     },
     "execution_count": 23,
     "metadata": {},
     "output_type": "execute_result"
    }
   ],
   "source": [
    "# Label Encoder\n",
    "le = preprocessing.LabelEncoder()\n",
    "# This will help the LabelEncoder to map the classes to a corresponding value between 0 and n_classes-1\n",
    "le.fit(classes)"
   ]
  },
  {
   "cell_type": "markdown",
   "metadata": {},
   "source": [
    "The number of `neighbors` is a hyperparameter that must be set for this algorithm. We will arbitrarily select a value of 15 for this hyperparameter.\n",
    "\n",
    "> In machine learning, a hyperparameter is a parameter whose value is used to control the learning process. By contrast, the values of other parameters (typically node weights) are derived via training.\n",
    "\n",
    "Source: [Wikipedia](https://en.wikipedia.org/wiki/Hyperparameter_(machine_learning)#:~:text=In%20machine%20learning%2C%20a%20hyperparameter,weights%20are%20derived%20via%20training.)"
   ]
  },
  {
   "cell_type": "code",
   "execution_count": 24,
   "metadata": {
    "ExecuteTime": {
     "end_time": "2020-09-20T03:13:24.516815Z",
     "start_time": "2020-09-20T03:13:24.463748Z"
    }
   },
   "outputs": [
    {
     "name": "stdout",
     "output_type": "stream",
     "text": [
      "[6 4 8 ... 6 6 6]\n"
     ]
    },
    {
     "data": {
      "text/plain": [
       "KNeighborsClassifier(algorithm='auto', leaf_size=30, metric='minkowski',\n",
       "                     metric_params=None, n_jobs=None, n_neighbors=15, p=2,\n",
       "                     weights='uniform')"
      ]
     },
     "execution_count": 24,
     "metadata": {},
     "output_type": "execute_result"
    }
   ],
   "source": [
    "# Number of Neighbors around our datapoint to be classified\n",
    "n_neighbors = 15\n",
    "knn_classifier = KNeighborsClassifier(n_neighbors)\n",
    "# Now we will use the y values and transform the labels.\n",
    "transformed_y_train = le.transform(y_train.to_numpy())\n",
    "print(transformed_y_train)\n",
    "# Let's fit the data\n",
    "knn_classifier.fit(X_train, transformed_y_train)"
   ]
  },
  {
   "cell_type": "code",
   "execution_count": 25,
   "metadata": {
    "ExecuteTime": {
     "end_time": "2020-09-20T03:13:24.904434Z",
     "start_time": "2020-09-20T03:13:24.521417Z"
    }
   },
   "outputs": [
    {
     "name": "stdout",
     "output_type": "stream",
     "text": [
      "Accuracy: 0.9321701199563796\n"
     ]
    }
   ],
   "source": [
    "# Evaluation Time\n",
    "y_pred = knn_classifier.predict(X_test)\n",
    "y_true = le.transform(y_test.to_numpy())\n",
    "print(f\"Accuracy: {accuracy_score(y_true, y_pred)}\")"
   ]
  },
  {
   "cell_type": "markdown",
   "metadata": {},
   "source": [
    "We were able to predict the 21 different classes with 59% accuracy using new data. This is slightly better than random, however the accuracy is still very low. Let's train using the same algorithm and hyperparameters but this time we will normalise the data."
   ]
  },
  {
   "cell_type": "markdown",
   "metadata": {},
   "source": [
    "## Normalised Data\n",
    "\n",
    "So we talked about normalisation before, but let's remember what is the concept about:\n",
    "\n",
    "### Why normalise the data?\n",
    "\n",
    "Many machine learning (ML) algorithms attempt to find trends in the data by comparing the features of data points. However, machine learning algorithms usually struggle more in the training phase when the features are on different scales. Normalise the data will almost always improve the results for ML algorithms.\n",
    "\n",
    "There are different ways to normalised the data and usually, each method has pros and cons. For example, some methods are better at dealing with outliers than others.\n",
    "\n",
    "Two of the most popular methods for normalising the data are:\n",
    "\n",
    "* Standard Score:\n",
    "$\\frac {X-\\mu }{\\sigma }$\n",
    "\n",
    "* Min-Max Feature Scaling:\n",
    "$X'={\\frac {X-X_{\\min }}{X_{\\max }-X_{\\min }}}$\n",
    "\n",
    "More information about normalisation [here](https://en.wikipedia.org/wiki/Normalization_(statistics))"
   ]
  },
  {
   "cell_type": "code",
   "execution_count": 26,
   "metadata": {
    "ExecuteTime": {
     "end_time": "2020-09-20T03:13:24.940160Z",
     "start_time": "2020-09-20T03:13:24.907609Z"
    }
   },
   "outputs": [],
   "source": [
    "# Let's use Standard Score for this example\n",
    "normalized_df = (X - X.mean()) / X.std()"
   ]
  },
  {
   "cell_type": "code",
   "execution_count": 27,
   "metadata": {
    "ExecuteTime": {
     "end_time": "2020-09-20T03:13:24.952232Z",
     "start_time": "2020-09-20T03:13:24.943820Z"
    }
   },
   "outputs": [
    {
     "data": {
      "text/plain": [
       "CALI      21.043999\n",
       "RHOB       2.741359\n",
       "GR       226.352997\n",
       "DTC      166.370697\n",
       "RDEP      84.585999\n",
       "RMED     602.679993\n",
       "DEPT    5438.918457\n",
       "dtype: float64"
      ]
     },
     "execution_count": 27,
     "metadata": {},
     "output_type": "execute_result"
    }
   ],
   "source": [
    "# These are the original max values of the dataset\n",
    "X.max()"
   ]
  },
  {
   "cell_type": "code",
   "execution_count": 28,
   "metadata": {
    "ExecuteTime": {
     "end_time": "2020-09-20T03:13:24.962377Z",
     "start_time": "2020-09-20T03:13:24.954911Z"
    }
   },
   "outputs": [
    {
     "data": {
      "text/plain": [
       "CALI     1.715911\n",
       "RHOB     3.914566\n",
       "GR       9.162611\n",
       "DTC      4.815983\n",
       "RDEP    36.131680\n",
       "RMED    70.200071\n",
       "DEPT     1.726937\n",
       "dtype: float64"
      ]
     },
     "execution_count": 28,
     "metadata": {},
     "output_type": "execute_result"
    }
   ],
   "source": [
    "# These are the original max values after normalising\n",
    "normalized_df.max()"
   ]
  },
  {
   "cell_type": "code",
   "execution_count": 29,
   "metadata": {
    "ExecuteTime": {
     "end_time": "2020-09-20T03:13:24.973283Z",
     "start_time": "2020-09-20T03:13:24.964787Z"
    }
   },
   "outputs": [],
   "source": [
    "# Let's used the normalized data for both for training and testing\n",
    "X_train, X_test, y_train, y_test = train_test_split(\n",
    "    normalized_df, y.to_numpy(), test_size=0.2, random_state=2020\n",
    ")"
   ]
  },
  {
   "cell_type": "code",
   "execution_count": 30,
   "metadata": {
    "ExecuteTime": {
     "end_time": "2020-09-20T03:13:24.982782Z",
     "start_time": "2020-09-20T03:13:24.976405Z"
    }
   },
   "outputs": [
    {
     "data": {
      "text/plain": [
       "LabelEncoder()"
      ]
     },
     "execution_count": 30,
     "metadata": {},
     "output_type": "execute_result"
    }
   ],
   "source": [
    "# Label Encoder\n",
    "le = preprocessing.LabelEncoder()\n",
    "# This will help the LabelEncoder to map the classes to a corresponding value between 0 and n_classes-1\n",
    "le.fit(y.to_numpy())"
   ]
  },
  {
   "cell_type": "code",
   "execution_count": 31,
   "metadata": {
    "ExecuteTime": {
     "end_time": "2020-09-20T03:13:25.008702Z",
     "start_time": "2020-09-20T03:13:24.985113Z"
    }
   },
   "outputs": [
    {
     "data": {
      "text/plain": [
       "KNeighborsClassifier(algorithm='auto', leaf_size=30, metric='minkowski',\n",
       "                     metric_params=None, n_jobs=None, n_neighbors=15, p=2,\n",
       "                     weights='uniform')"
      ]
     },
     "execution_count": 31,
     "metadata": {},
     "output_type": "execute_result"
    }
   ],
   "source": [
    "# Normalized knn\n",
    "knn_classifier_norm = KNeighborsClassifier(n_neighbors)\n",
    "# Now we will use the y values and transform the labels.\n",
    "transformed_y_train = le.transform(y_train)\n",
    "# Let's fit the data\n",
    "knn_classifier_norm.fit(X_train, transformed_y_train)"
   ]
  },
  {
   "cell_type": "code",
   "execution_count": 32,
   "metadata": {
    "ExecuteTime": {
     "end_time": "2020-09-20T03:13:25.525915Z",
     "start_time": "2020-09-20T03:13:25.010944Z"
    }
   },
   "outputs": [
    {
     "name": "stdout",
     "output_type": "stream",
     "text": [
      "Accuracy: 0.9001090512540895\n"
     ]
    }
   ],
   "source": [
    "# Evaluation Time\n",
    "y_pred = knn_classifier_norm.predict(X_test)\n",
    "y_true = le.transform(y_test)\n",
    "print(f\"Accuracy: {accuracy_score(y_true, y_pred)}\")"
   ]
  },
  {
   "cell_type": "markdown",
   "metadata": {},
   "source": [
    "So now we got an accuracy of 64%. That's an improvement of 5% accuracy in the model just by normalising the data. Normalising will usually help in the training process. So it's a good practice to preprocess the data before the training phase."
   ]
  },
  {
   "cell_type": "markdown",
   "metadata": {},
   "source": [
    "#### So... What if we change the hyperparameters of a classifier such as the number of `neighbors`?\n",
    "\n",
    "We can see in the examples below how changing <code>n_neighbors</code> affect the performance of the final model.\n",
    "\n",
    "The accuracy for the same normalised model are:\n",
    "\n",
    "- n_neighbors = 10, accuracy: 65.26%\n",
    "- n_neighbors = 5,  accuracy: 65.5%\n",
    "- n_neighbors = 1,  accuracy: 63.85%\n",
    "\n",
    "We could  manually try different values until we find the best hyperparameters. Of course, this approach could be very time consuming, in particular, when we have a big feature space and want to optimise many hyperparameters. One way to solve this problem is automating the search of hyperparameters. This is also called Hyperparameter Optimisation. We will get deeper into this concept in the next sessions."
   ]
  },
  {
   "cell_type": "code",
   "execution_count": 33,
   "metadata": {
    "ExecuteTime": {
     "end_time": "2020-09-20T03:13:26.050215Z",
     "start_time": "2020-09-20T03:13:25.528949Z"
    }
   },
   "outputs": [
    {
     "name": "stdout",
     "output_type": "stream",
     "text": [
      "Accuracy: 0.9092693565976009\n"
     ]
    }
   ],
   "source": [
    "n_neighbors = 10\n",
    "# Normalized knn\n",
    "knn_classifier_norm = KNeighborsClassifier(n_neighbors)\n",
    "# Now we will use the y values and transform the labels.\n",
    "transformed_y_train = le.transform(y_train)\n",
    "# Let's fit the data\n",
    "knn_classifier_norm.fit(X_train, transformed_y_train)\n",
    "# Evaluation Time\n",
    "y_pred = knn_classifier_norm.predict(X_test)\n",
    "y_true = le.transform(y_test)\n",
    "print(f\"Accuracy: {accuracy_score(y_true, y_pred)}\")"
   ]
  },
  {
   "cell_type": "code",
   "execution_count": 34,
   "metadata": {
    "ExecuteTime": {
     "end_time": "2020-09-20T03:13:26.516132Z",
     "start_time": "2020-09-20T03:13:26.052897Z"
    }
   },
   "outputs": [
    {
     "name": "stdout",
     "output_type": "stream",
     "text": [
      "Accuracy: 0.916030534351145\n"
     ]
    }
   ],
   "source": [
    "n_neighbors = 5\n",
    "# Normalized knn\n",
    "knn_classifier_norm = KNeighborsClassifier(n_neighbors)\n",
    "# Now we will use the y values and transform the labels.\n",
    "transformed_y_train = le.transform(y_train)\n",
    "# Let's fit the data\n",
    "knn_classifier_norm.fit(X_train, transformed_y_train)\n",
    "# Evaluation Time\n",
    "y_pred = knn_classifier_norm.predict(X_test)\n",
    "y_true = le.transform(y_test)\n",
    "print(f\"Accuracy: {accuracy_score(y_true, y_pred)}\")"
   ]
  },
  {
   "cell_type": "code",
   "execution_count": 35,
   "metadata": {
    "ExecuteTime": {
     "end_time": "2020-09-20T03:13:26.934129Z",
     "start_time": "2020-09-20T03:13:26.519326Z"
    }
   },
   "outputs": [
    {
     "name": "stdout",
     "output_type": "stream",
     "text": [
      "Accuracy: 0.921701199563795\n"
     ]
    }
   ],
   "source": [
    "n_neighbors = 1\n",
    "# Normalized knn\n",
    "knn_classifier_norm = KNeighborsClassifier(n_neighbors)\n",
    "# Now we will use the y values and transform the labels.\n",
    "transformed_y_train = le.transform(y_train)\n",
    "# Let's fit the data\n",
    "knn_classifier_norm.fit(X_train, transformed_y_train)\n",
    "# Evaluation Time\n",
    "y_pred = knn_classifier_norm.predict(X_test)\n",
    "y_true = le.transform(y_test)\n",
    "print(f\"Accuracy: {accuracy_score(y_true, y_pred)}\")"
   ]
  },
  {
   "cell_type": "markdown",
   "metadata": {},
   "source": [
    "#### Exercise\n",
    "\n",
    "<div class=\"alert alert-success\">\n",
    "Let\\'s practice some of the key concepts we have learned so far. We will be using the iris dataset for this exercise. As a supervised task, we will try to determine the specie of an iris flower given the features: <code>sepal_length</code>,<code>sepal_width</code>,<code>petal_length</code>,<code>petal_width</code>\n",
    "\n",
    "1. Normalised and split the dataset provided (Use 70\\% of the data for training and 30\\% for testing)\n",
    "2. Transform the data using label encoding (This is done automatically by scikit-learn for some ML methods. However, it is good to get used to this concept.\n",
    "3. Train a KNN model using <code>n_neighbors</code>= 1,5,10,15\n",
    "4. Compare the accuracy of the different models\n",
    "</div>"
   ]
  },
  {
   "cell_type": "code",
   "execution_count": 36,
   "metadata": {
    "ExecuteTime": {
     "end_time": "2020-09-20T03:13:26.955051Z",
     "start_time": "2020-09-20T03:13:26.936161Z"
    }
   },
   "outputs": [
    {
     "data": {
      "text/html": [
       "<div>\n",
       "<style scoped>\n",
       "    .dataframe tbody tr th:only-of-type {\n",
       "        vertical-align: middle;\n",
       "    }\n",
       "\n",
       "    .dataframe tbody tr th {\n",
       "        vertical-align: top;\n",
       "    }\n",
       "\n",
       "    .dataframe thead th {\n",
       "        text-align: right;\n",
       "    }\n",
       "</style>\n",
       "<table border=\"1\" class=\"dataframe\">\n",
       "  <thead>\n",
       "    <tr style=\"text-align: right;\">\n",
       "      <th></th>\n",
       "      <th>sepal_length</th>\n",
       "      <th>sepal_width</th>\n",
       "      <th>petal_length</th>\n",
       "      <th>petal_width</th>\n",
       "      <th>species</th>\n",
       "    </tr>\n",
       "  </thead>\n",
       "  <tbody>\n",
       "    <tr>\n",
       "      <th>0</th>\n",
       "      <td>5.1</td>\n",
       "      <td>3.5</td>\n",
       "      <td>1.4</td>\n",
       "      <td>0.2</td>\n",
       "      <td>setosa</td>\n",
       "    </tr>\n",
       "    <tr>\n",
       "      <th>1</th>\n",
       "      <td>4.9</td>\n",
       "      <td>3.0</td>\n",
       "      <td>1.4</td>\n",
       "      <td>0.2</td>\n",
       "      <td>setosa</td>\n",
       "    </tr>\n",
       "    <tr>\n",
       "      <th>2</th>\n",
       "      <td>4.7</td>\n",
       "      <td>3.2</td>\n",
       "      <td>1.3</td>\n",
       "      <td>0.2</td>\n",
       "      <td>setosa</td>\n",
       "    </tr>\n",
       "    <tr>\n",
       "      <th>3</th>\n",
       "      <td>4.6</td>\n",
       "      <td>3.1</td>\n",
       "      <td>1.5</td>\n",
       "      <td>0.2</td>\n",
       "      <td>setosa</td>\n",
       "    </tr>\n",
       "    <tr>\n",
       "      <th>4</th>\n",
       "      <td>5.0</td>\n",
       "      <td>3.6</td>\n",
       "      <td>1.4</td>\n",
       "      <td>0.2</td>\n",
       "      <td>setosa</td>\n",
       "    </tr>\n",
       "  </tbody>\n",
       "</table>\n",
       "</div>"
      ],
      "text/plain": [
       "   sepal_length  sepal_width  petal_length  petal_width species\n",
       "0           5.1          3.5           1.4          0.2  setosa\n",
       "1           4.9          3.0           1.4          0.2  setosa\n",
       "2           4.7          3.2           1.3          0.2  setosa\n",
       "3           4.6          3.1           1.5          0.2  setosa\n",
       "4           5.0          3.6           1.4          0.2  setosa"
      ]
     },
     "execution_count": 36,
     "metadata": {},
     "output_type": "execute_result"
    }
   ],
   "source": [
    "# Use seaborn to load the iris dataset\n",
    "df = sns.load_dataset(\"iris\")\n",
    "df.head()"
   ]
  },
  {
   "cell_type": "code",
   "execution_count": 37,
   "metadata": {
    "ExecuteTime": {
     "end_time": "2020-09-20T03:13:26.961102Z",
     "start_time": "2020-09-20T03:13:26.957587Z"
    }
   },
   "outputs": [],
   "source": [
    "# Exercise\n",
    "\n",
    "# Write your code below:\n",
    "\n",
    "# 1. Normalise dataset and Split iris dataset here\n",
    "\n",
    "# 2. Transform the data using label encoding\n",
    "\n",
    "# 3. Train your models 1NN, 5NN, 10NN, 15NN\n",
    "\n",
    "# 4. Compare the accuracy of your models"
   ]
  },
  {
   "cell_type": "markdown",
   "metadata": {},
   "source": [
    "# 4. Support Vector Machines (SVM) <a name=\"svm\"></a>\n",
    "\n",
    "**A bit of history:**\n",
    "\n",
    "> The Support Vector Machine (SVM) algorithm is a popular machine learning tool that offers solutions for both classification and regression problems. Developed at AT&T Bell Laboratories by Vapnik with colleagues (Boser et al., 1992, Guyon et al., 1993, Vapnik et al., 1997), it presents one of the most robust prediction methods, based on the statistical learning framework.\n",
    "\n",
    "**How does it works?**\n",
    "> An SVM performs classification tasks by constructing hyperplanes in a multidimensional space that separates cases of different class labels. You can use an SVM when your data has exactly two classes, e.g. binary classification problems\n",
    "\n",
    "\n",
    "The graphic below shows how a support vector machine would choose a separating hyperplane for two classes of points in 2D. H1 does not separate the classes. H2 does, but only with a small margin. H3 separates them with the maximum margin.\n",
    "\n",
    "<img src=\"https://upload.wikimedia.org/wikipedia/commons/thumb/b/b5/Svm_separating_hyperplanes_%28SVG%29.svg/1024px-Svm_separating_hyperplanes_%28SVG%29.svg.png\" width=300 height=300/>\n",
    "\n",
    "[Source Image](https://en.wikipedia.org/wiki/Support_vector_machine#/media/File:Svm_separating_hyperplanes_(SVG).svg)\n",
    "\n",
    "One of the limitations of SVMs is that they inherently do binary classification. However, there are different methods to extend SVMs and use them in multiclass problems. The most common methods involve transforming the problem into a set of binary classification problems, by one of two strategies:\n",
    "\n",
    "- One vs. the rest. For 𝑘 classes, 𝑘 binary classifiers are trained. Each determines whether an example belongs to its 'own' class versus any other class. The classifier with the largest output is taken to be the class of the example.\n",
    "- One vs. one. A binary classifier is trained for each pair of classes. A voting procedure is used to combine the outputs.\n",
    "\n",
    "Sources: [Wikipedia](https://en.wikipedia.org/wiki/Support_vector_machine), [SVMs](https://nlp.stanford.edu/IR-book/html/htmledition/multiclass-svms-1.html), [Multiclass SVM](https://stats.stackexchange.com/questions/215342/can-a-linear-svm-only-have-2-classes)\n",
    "\n",
    "\n",
    "**Scikit-learn Implementation:**\n",
    "\n",
    "Multiclass and Multilabel algorithms:\n",
    "\n",
    "> **Warning:** All classifiers in scikit-learn do multiclass classification out-of-the-box. You don’t need to use the sklearn.multiclass module unless you want to experiment with different multiclass strategies.\n",
    "\n",
    "More information about Multiclass classification in scikit-learn [here](https://scikit-learn.org/stable/modules/multiclass.html)\n",
    "\n",
    "The SVC implementation is not efficient for large datasets. Instead we will use the LinearSVC implementation. Find more information in the [official documentation](https://scikit-learn.org/stable/modules/generated/sklearn.svm.SVC.html).\n",
    "\n",
    "> The implementation is based on libsvm. The fit time scales at least quadratically with the number of samples and might be impractical beyond tens of thousands of samples. For large datasets consider using sklearn.svm.LinearSVC or sklearn.linear_model.SGDClassifier instead, possibly after a sklearn.kernel_approximation.Nystroem transformer.\n",
    "\n",
    "Sometimes, we will want to train and test our algorithm in a sample fo the data instead of the completed dataset. Some ML methods do not deal well with large datasets so taking a sample from the dataset would be preferable.\n"
   ]
  },
  {
   "cell_type": "markdown",
   "metadata": {},
   "source": [
    "The example below shows how to create a SVM in the iris dataset. [Source Code](https://www.kaggle.com/moghazy/classifying-the-iris-dataset-using-svms)"
   ]
  },
  {
   "cell_type": "code",
   "execution_count": 38,
   "metadata": {
    "ExecuteTime": {
     "end_time": "2020-09-20T03:13:27.144780Z",
     "start_time": "2020-09-20T03:13:26.963634Z"
    }
   },
   "outputs": [
    {
     "name": "stdout",
     "output_type": "stream",
     "text": [
      "Accuracy: 0.8444444444444444\n"
     ]
    }
   ],
   "source": [
    "# You can also load the iris dataset from the sklearn library\n",
    "from sklearn.datasets import load_iris\n",
    "from sklearn.svm import LinearSVC\n",
    "\n",
    "X0, y0 = load_iris(return_X_y=True)\n",
    "X_train, X_test, y_train, y_test = train_test_split(\n",
    "    X0, y0, test_size=0.3, random_state=2020\n",
    ")\n",
    "\n",
    "clf = LinearSVC(\n",
    "    penalty=\"l2\",\n",
    "    loss=\"squared_hinge\",\n",
    "    dual=True,\n",
    "    tol=0.0001,\n",
    "    C=100,\n",
    "    multi_class=\"ovr\",\n",
    "    fit_intercept=True,\n",
    "    intercept_scaling=1,\n",
    "    class_weight=None,\n",
    "    verbose=0,\n",
    "    random_state=2020,\n",
    "    max_iter=20000,\n",
    ")\n",
    "clf.fit(X_train, y_train)\n",
    "\n",
    "# Evaluation Time\n",
    "y_pred = clf.predict(X_test)\n",
    "y_true = y_test\n",
    "print(f\"Accuracy: {accuracy_score(y_true, y_pred)}\")"
   ]
  },
  {
   "cell_type": "markdown",
   "metadata": {},
   "source": [
    "**Sample and training of Linear Support Vector Classifier in geolink data**\n",
    "\n"
   ]
  },
  {
   "cell_type": "code",
   "execution_count": 39,
   "metadata": {
    "ExecuteTime": {
     "end_time": "2020-09-20T03:13:27.150967Z",
     "start_time": "2020-09-20T03:13:27.146960Z"
    }
   },
   "outputs": [
    {
     "name": "stdout",
     "output_type": "stream",
     "text": [
      "Total rows in Geolink dataset: 22921\n"
     ]
    }
   ],
   "source": [
    "print(\"Total rows in Geolink dataset:\", geolink.shape[0])"
   ]
  },
  {
   "cell_type": "markdown",
   "metadata": {},
   "source": [
    "Some algorithms will take significantly more time to train than others. In the case of SVMs the process of training can get slower as the number of data points is increased. \n",
    "\n",
    "**Note:** For the example below, we will sample the data to get only 10,000 data points from the original geolink dataset instead of 1,192,269. This reduction in datapoints may affect the accuracy of the model. But it will be done for demonstration purposes."
   ]
  },
  {
   "cell_type": "code",
   "execution_count": 69,
   "metadata": {
    "ExecuteTime": {
     "end_time": "2020-09-20T03:34:22.587887Z",
     "start_time": "2020-09-20T03:33:38.627576Z"
    }
   },
   "outputs": [
    {
     "name": "stdout",
     "output_type": "stream",
     "text": [
      "Accuracy: 0.7293333333333333\n"
     ]
    }
   ],
   "source": [
    "# In our case, we will take a sample of 10,000 data points from one well\n",
    "sample_dataset = geolink.sample(n=10000, replace=False, random_state=2020)\n",
    "\n",
    "X_sample = sample_dataset.iloc[:, 1:]\n",
    "y_sample = sample_dataset[\"LITHOLOGY_GEOLINK\"]\n",
    "# Normalise data\n",
    "scaler = StandardScaler()\n",
    "X_scaled = scaler.fit_transform(X_sample)\n",
    "\n",
    "X_train, X_test, y_train, y_test = train_test_split(\n",
    "    X_scaled, y_sample, test_size=0.3, random_state=2020\n",
    ")\n",
    "\n",
    "clf = LinearSVC(\n",
    "    penalty=\"l2\",\n",
    "    loss=\"squared_hinge\",\n",
    "    dual=True,\n",
    "    tol=0.0001,\n",
    "    C=100,\n",
    "    multi_class=\"ovr\",\n",
    "    fit_intercept=True,\n",
    "    intercept_scaling=1,\n",
    "    class_weight=None,\n",
    "    verbose=0,\n",
    "    random_state=2020,\n",
    "    max_iter=20000,\n",
    ")\n",
    "clf.fit(X_train, y_train)\n",
    "\n",
    "# Evaluation Time\n",
    "y_pred = clf.predict(X_test)\n",
    "y_true = y_test\n",
    "print(f\"Accuracy: {accuracy_score(y_true, y_pred)}\")"
   ]
  },
  {
   "cell_type": "code",
   "execution_count": null,
   "metadata": {},
   "outputs": [],
   "source": []
  },
  {
   "cell_type": "markdown",
   "metadata": {},
   "source": [
    "Lets check that the distribution of lithologies is reasonable. In particular lets check for the failure case where it just predicts the most common rock. It seems OK."
   ]
  },
  {
   "cell_type": "code",
   "execution_count": 70,
   "metadata": {
    "ExecuteTime": {
     "end_time": "2020-09-20T03:34:23.440389Z",
     "start_time": "2020-09-20T03:34:22.591155Z"
    }
   },
   "outputs": [
    {
     "data": {
      "text/plain": [
       "<matplotlib.legend.Legend at 0x7f3aa8538b38>"
      ]
     },
     "execution_count": 70,
     "metadata": {},
     "output_type": "execute_result"
    },
    {
     "data": {
      "image/png": "[encoded data removed]",
      "text/plain": [
       "<Figure size 432x288 with 1 Axes>"
      ]
     },
     "metadata": {
      "needs_background": "light"
     },
     "output_type": "display_data"
    }
   ],
   "source": [
    "df_results = pd.DataFrame([y_pred, y_true]).T\n",
    "df_results.columns = [\"pred\", \"true\"]\n",
    "df_results = df_results.astype(\"category\")\n",
    "df_results[\"pred\"].value_counts().plot.bar(alpha=0.5)\n",
    "df_results[\"true\"].value_counts().plot.bar(ax=plt.gca(), color=\"red\", alpha=0.5)\n",
    "plt.legend()"
   ]
  },
  {
   "cell_type": "markdown",
   "metadata": {},
   "source": [
    "The most common lithology is around 50% so most_frequent model would get 50% while a random model would be 1/11\n",
    "\n",
    "Our model certainly beat that."
   ]
  },
  {
   "cell_type": "code",
   "execution_count": 71,
   "metadata": {
    "ExecuteTime": {
     "end_time": "2020-09-20T03:34:23.481317Z",
     "start_time": "2020-09-20T03:34:23.443042Z"
    }
   },
   "outputs": [
    {
     "name": "stdout",
     "output_type": "stream",
     "text": [
      "accuracy=50.93% for most_frequent\n",
      "accuracy=31.27% for stratified\n",
      "accuracy=50.93% for prior\n",
      "accuracy=9.50% for uniform\n"
     ]
    }
   ],
   "source": [
    "from sklearn.dummy import DummyClassifier\n",
    "\n",
    "for strategy in [\"most_frequent\", \"stratified\", \"prior\", \"uniform\"]:\n",
    "    dummy_clf = DummyClassifier(strategy=strategy)\n",
    "    dummy_clf.fit(X_train, y_train)\n",
    "    score = dummy_clf.score(X_test, y_test)\n",
    "    print(f\"accuracy={score:2.2%} for {strategy}\")"
   ]
  },
  {
   "cell_type": "code",
   "execution_count": 72,
   "metadata": {
    "ExecuteTime": {
     "end_time": "2020-09-20T03:34:23.493172Z",
     "start_time": "2020-09-20T03:34:23.484175Z"
    }
   },
   "outputs": [
    {
     "data": {
      "text/plain": [
       "Marlstone                 0.509333\n",
       "Silt                      0.209000\n",
       "Shaly Silt                0.105333\n",
       "Argillaceous Limestone    0.056333\n",
       "Cross Bedded Sst          0.044667\n",
       "Limestone                 0.031667\n",
       "Silty Sand                0.020667\n",
       "Cinerite                  0.009333\n",
       "Silty Shale               0.005333\n",
       "Calcareous Cement         0.005333\n",
       "Coal                      0.003000\n",
       "Name: true, dtype: float64"
      ]
     },
     "execution_count": 72,
     "metadata": {},
     "output_type": "execute_result"
    }
   ],
   "source": [
    "# Show labels by fraction of well data\n",
    "counts = df_results[\"true\"].value_counts() / len(df_results)\n",
    "counts"
   ]
  },
  {
   "cell_type": "code",
   "execution_count": null,
   "metadata": {
    "ExecuteTime": {
     "end_time": "2020-09-20T03:32:58.424237Z",
     "start_time": "2020-09-20T03:32:58.417463Z"
    }
   },
   "outputs": [],
   "source": []
  },
  {
   "cell_type": "code",
   "execution_count": 80,
   "metadata": {
    "ExecuteTime": {
     "end_time": "2020-09-20T07:20:37.578192Z",
     "start_time": "2020-09-20T07:20:36.872351Z"
    }
   },
   "outputs": [
    {
     "data": {
      "text/plain": [
       "[]"
      ]
     },
     "execution_count": 80,
     "metadata": {},
     "output_type": "execute_result"
    },
    {
     "data": {
      "image/png": "[encoded data removed]",
      "text/plain": [
       "<Figure size 288x864 with 3 Axes>"
      ]
     },
     "metadata": {
      "needs_background": "light"
     },
     "output_type": "display_data"
    }
   ],
   "source": [
    "# Plot the results as well logs\n",
    "X_sample = geolink.iloc[:, 1:]\n",
    "y_true = geolink[\"LITHOLOGY_GEOLINK\"]\n",
    "X_scaled = scaler.fit_transform(X_sample)\n",
    "y_pred = clf.predict(X_scaled)\n",
    "\n",
    "true = pd.Categorical(y_true)\n",
    "pred = pd.Categorical(y_pred, categories=true.categories)\n",
    "\n",
    "f, ax = plt.subplots(nrows=1, ncols=2, figsize=(4, 12))\n",
    "plot_facies(pred, ax=ax[0], colorbar=False, xlabel='Pred')\n",
    "plot_facies(true, ax=ax[1], xlabel='True')\n",
    "ax[0].set_xticklabels([])\n",
    "ax[1].set_xticklabels([])\n",
    "ax[1].set_yticklabels([])"
   ]
  },
  {
   "cell_type": "markdown",
   "metadata": {},
   "source": [
    "The results could be better with a deeper network and more data. We will revit this again in the Recurrent Neural Networks notebook.\n",
    "\n",
    "We could also:\n",
    "- give it a sequence of a logs, so it can see the context up an down the well\n",
    "- give it the X and Y location of the well\n",
    "- look at more logs, while using the GPU\n",
    "- provide some human examples for each well\n",
    "- project a geological model or geological maps onto the wells"
   ]
  },
  {
   "cell_type": "markdown",
   "metadata": {},
   "source": [
    "#### Exercise\n",
    "\n",
    "\n",
    "<div class=\"alert alert-success\">\n",
    "Let's practice some of the key concepts related to SVMs. Use either the iris dataset or geolink one for this exercise.\n",
    "\n",
    "1. Modify the parameter <code>n</code> from <code>dataframe.sample</code>. Compare the accuracy achieved vs the amount of time for training.\n",
    "2. Specifies the norm used in the penalisation as 'l1'. The ‘l2’ penalty is the standard used in SVC. Compare the accuracy achieved between the 'l1' and 'l2' penalisation.\n",
    "3. Specifies the loss function as ‘hinge’ which is the standard SVM loss for SVM classification.  \n",
    "4. Modify the regularisation parameter C. The strength of the regularization is inversely proportional to C. Must be \n",
    "strictly positive.\n",
    "\n",
    "5. Modify the hyperparameter <code>multi_class</code>. \"ovr\" trains n_classes one-vs-rest classifiers, while \"crammer_singer\" optimizes a joint objective over all classes. Compare the results from the previous models when you change your multiclass strategy.\n",
    "    \n",
    "</div>"
   ]
  },
  {
   "cell_type": "markdown",
   "metadata": {},
   "source": [
    "# 5. Decision Trees <a name=\"decision-trees\"></a>"
   ]
  },
  {
   "cell_type": "markdown",
   "metadata": {},
   "source": [
    "\n",
    "> A decision tree is a decision support tool that uses a tree-like model of decisions and their possible consequences, including chance event outcomes, resource costs, and utility. It is one way to display an algorithm that only contains conditional control statements. \n",
    "Decision trees are commonly used in operations research, specifically in decision analysis, to help identify a strategy most likely to reach a goal, but are also a popular tool in machine learning.\n",
    "\n",
    "Some **advantages** of using decision trees are:\n",
    "\n",
    "- Simple to understand and interpret: People can understand decision tree models after a brief explanation. Trees can also be displayed graphically in a way that is easy for non-experts to interpret.\n",
    "\n",
    "- Able to handle both numerical and categorical data. [1]\n",
    "\n",
    "- Requires little data preparation: Other techniques often require data normalization. Since trees can handle qualitative predictors, there is no need to create dummy variables. [1]\n",
    "\n",
    "- Performs well with large datasets. Large amounts of data can be analyzed using standard computing resources in a reasonable time.\n",
    "\n",
    "**Limitations:** \n",
    "- Trees can be very non-robust. A small change in the training data can result in a large change in the tree and consequently the final predictions. [1]\n",
    "- Decision-tree learners can create over-complex trees that do not generalize well from the training data.\n",
    "\n",
    "\n",
    "Source: [Wikipedia](https://en.wikipedia.org/wiki/Decision_tree)\n",
    "\n",
    "Source: [1] Gareth, James; Witten, Daniela; Hastie, Trevor; Tibshirani, Robert (2015). An Introduction to Statistical Learning. New York: Springer. pp. 315. ISBN 978-1-4614-7137-0.\n",
    "\n",
    "**Note:** Decision trees can be used for classification and regression."
   ]
  },
  {
   "cell_type": "markdown",
   "metadata": {},
   "source": [
    "In the first example, we will train a decision tree on the iris dataset.\n",
    "\n",
    "We can use the function <code>plot_tree</code> to show the flowchart of the trained model. Find more information about plotting the decision surface of a decision tree [here](https://scikit-learn.org/stable/auto_examples/tree/plot_iris_dtc.html#sphx-glr-auto-examples-tree-plot-iris-dtc-py). As can be seen in the next plot, the maximum [depth](http://typeocaml.com/2014/11/26/height-depth-and-level-of-a-tree/) of the tree is 5. Usually decision trees with more levels (deeper trees) will be able to discriminate better and take more finetuned decisions, however, deeper trees are also likely to [overfit](https://en.wikipedia.org/wiki/Overfitting) easily. \n",
    "\n",
    "<div class=\"alert alert-info\" style=\"font-size:100%\">\n",
    "\n",
    "**NOTE:** <br>\n",
    "\n",
    "Use the hyperparameters `max_depth` and `max_features` carefully. Incresing those parameters might increase the [accuracy](https://en.wikipedia.org/wiki/Accuracy_and_precision) of the model but it is also likely to overfit the models at some point.\n",
    "    <br/>\n",
    "Using the correct metrics of evaluation is key to correctly assess the model.\n",
    "\n",
    "</div>"
   ]
  },
  {
   "cell_type": "code",
   "execution_count": 45,
   "metadata": {
    "ExecuteTime": {
     "end_time": "2020-09-20T03:14:30.945975Z",
     "start_time": "2020-09-20T03:14:29.995914Z"
    }
   },
   "outputs": [
    {
     "data": {
      "image/png": "[encoded data removed]",
      "text/plain": [
       "<Figure size 1080x720 with 1 Axes>"
      ]
     },
     "metadata": {
      "needs_background": "light"
     },
     "output_type": "display_data"
    }
   ],
   "source": [
    "# Split dataset geolink. test_size =0.25\n",
    "X_train, X_test, y_train, y_test = train_test_split(\n",
    "    X, y, test_size=0.25, random_state=2020\n",
    ")\n",
    "\n",
    "clf = tree.DecisionTreeClassifier()\n",
    "fig, ax = plt.subplots(figsize=(15, 10))\n",
    "# X0 and y0 from iris_dataset\n",
    "tree.plot_tree(clf.fit(X0, y0), max_depth=3, fontsize=10)\n",
    "plt.show()"
   ]
  },
  {
   "cell_type": "markdown",
   "metadata": {},
   "source": [
    "Now let's train a decision tree (DT) with our geolink dataset. For the next example, we will set the hyperparater max_depth to 100. Notice how the accuracy in the model changes. "
   ]
  },
  {
   "cell_type": "code",
   "execution_count": 46,
   "metadata": {
    "ExecuteTime": {
     "end_time": "2020-09-20T03:14:31.197245Z",
     "start_time": "2020-09-20T03:14:30.948344Z"
    }
   },
   "outputs": [
    {
     "name": "stdout",
     "output_type": "stream",
     "text": [
      "Accuracy: 0.9314255801779794\n"
     ]
    }
   ],
   "source": [
    "clf = tree.DecisionTreeClassifier(random_state=2020)\n",
    "clf = clf.fit(X_train, y_train)\n",
    "\n",
    "# Evaluation Time\n",
    "y_pred = clf.predict(X_test)\n",
    "print(f\"Accuracy: {accuracy_score(y_test, y_pred)}\")"
   ]
  },
  {
   "cell_type": "markdown",
   "metadata": {},
   "source": [
    "We got an accuracy of 69.44% just with the default hyperparameters. Let's train the DT again with a different hyperparameter."
   ]
  },
  {
   "cell_type": "code",
   "execution_count": 47,
   "metadata": {
    "ExecuteTime": {
     "end_time": "2020-09-20T03:14:31.429721Z",
     "start_time": "2020-09-20T03:14:31.199596Z"
    }
   },
   "outputs": [
    {
     "name": "stdout",
     "output_type": "stream",
     "text": [
      "Accuracy: 0.9225266096667248\n"
     ]
    }
   ],
   "source": [
    "clf2 = tree.DecisionTreeClassifier(random_state=2020, max_depth=10)\n",
    "clf2 = clf2.fit(X_train, y_train)\n",
    "\n",
    "# Evaluation Time\n",
    "y_pred = clf2.predict(X_test)\n",
    "print(f\"Accuracy: {accuracy_score(y_test, y_pred)}\")"
   ]
  },
  {
   "cell_type": "markdown",
   "metadata": {},
   "source": [
    "We got now an accuracy of 53% just with the hyperparameter max_depth=10. Let's train the DT again with a different hyperparameter. In appearance, the first model would be better, however, there are other metrics besides accuracy that should be taken into account. There are also other methods to avoid overfitting. We will go deeper into this topic in the next sessions."
   ]
  },
  {
   "cell_type": "markdown",
   "metadata": {
    "ExecuteTime": {
     "end_time": "2020-07-08T03:07:47.159984Z",
     "start_time": "2020-07-08T03:07:47.154055Z"
    }
   },
   "source": [
    "#### Exercise\n",
    "\n",
    "<div class=\"alert alert-success\">\n",
    "The concept of decision trees is very simple and intuitive and unlike other methods, it does not need normalised data to work properly.\n",
    "We saw two examples of DT classification. In this exercise, use <code>sklearn.tree.DecisionTreeRegressor</code> to create a regression model from the iris dataset.\n",
    "\n",
    "Use the parameters <code>species</code>,<code>sepal_width</code>,<code>petal_length</code>,<code>petal_width</code> to predict <code>sepal_length</code>\n",
    "    \n",
    "</div>"
   ]
  },
  {
   "cell_type": "markdown",
   "metadata": {
    "ExecuteTime": {
     "end_time": "2020-07-07T11:28:26.325900Z",
     "start_time": "2020-07-07T11:28:26.323318Z"
    }
   },
   "source": [
    "# 6. Random Forest <a name=\"random-forest\"></a>\n",
    "\n",
    "> A random forest is a meta estimator that fits several decision tree classifiers on various sub-samples of the dataset and uses averaging to improve the predictive accuracy and control over-fitting.\n",
    "\n",
    "\n",
    "Random Forest is an ensemble method:\n",
    ">The goal of ensemble methods is to combine the predictions of several base estimators built with a given learning algorithm to improve generalizability/robustness over a single estimator.\n",
    "\n",
    "We will learn more about ensemble methods in the next session.\n",
    "\n",
    "Scikit-learn support Random Forest for classification and regression (<code>RandomForestClassifier</code> and <code>RandomForestRegressor</code>)\n",
    "\n",
    "> In random forests (see RandomForestClassifier and RandomForestRegressor classes), each tree in the ensemble is built from a sample drawn with replacement (i.e., a bootstrap sample) from the training set. Furthermore, when splitting each node during the construction of a tree, the best split is found either from all input features or a random subset of size max_features. (See the parameter tuning guidelines for more details). \n",
    "The purpose of these two sources of randomness is to decrease the variance of the forest estimator. Indeed, individual decision trees typically exhibit high variance and tend to overfit. The injected randomness in forests yields decision trees with somewhat decoupled prediction errors. By taking an average of those predictions, some errors can cancel out. Random forests achieve a reduced variance by combining diverse trees, sometimes at the cost of a slight increase in bias. In practice, the variance reduction is often significant hence yielding an overall better model.\n",
    "\n",
    "This implementation of RandomForest only accepts numerical values. You should always encode categorical values.\n",
    "\n",
    "Source: [Official Documentation Scikit-learn](https://scikit-learn.org/stable/modules/generated/sklearn.ensemble.RandomForestClassifier.html)\n",
    "\n",
    "**Note:** The next 2 pieces of code might take several minutes to complete the training."
   ]
  },
  {
   "cell_type": "code",
   "execution_count": 48,
   "metadata": {
    "ExecuteTime": {
     "end_time": "2020-09-20T03:14:31.916781Z",
     "start_time": "2020-09-20T03:14:31.433654Z"
    }
   },
   "outputs": [
    {
     "name": "stdout",
     "output_type": "stream",
     "text": [
      "Accuracy: 0.9480020938754145\n"
     ]
    }
   ],
   "source": [
    "clf = RandomForestClassifier()\n",
    "clf.fit(X_train, y_train)\n",
    "y_pred = clf.predict(X_test)\n",
    "print(f\"Accuracy: {accuracy_score(y_test, y_pred)}\")"
   ]
  },
  {
   "cell_type": "markdown",
   "metadata": {},
   "source": [
    "Let's train again the model with different hyperparameters."
   ]
  },
  {
   "cell_type": "code",
   "execution_count": 49,
   "metadata": {
    "ExecuteTime": {
     "end_time": "2020-09-20T03:14:36.478191Z",
     "start_time": "2020-09-20T03:14:31.919333Z"
    }
   },
   "outputs": [
    {
     "name": "stdout",
     "output_type": "stream",
     "text": [
      "Accuracy: 0.9516663758506368\n"
     ]
    }
   ],
   "source": [
    "clf = RandomForestClassifier(max_depth=100, n_estimators=100)\n",
    "clf.fit(X_train, y_train)\n",
    "y_pred = clf.predict(X_test)\n",
    "print(f\"Accuracy: {accuracy_score(y_test, y_pred)}\")"
   ]
  },
  {
   "cell_type": "markdown",
   "metadata": {
    "ExecuteTime": {
     "end_time": "2020-07-08T03:12:47.990781Z",
     "start_time": "2020-07-08T03:12:47.988183Z"
    }
   },
   "source": [
    "# 7. Boosted Trees <a name=\"boosted-trees\"></a>\n",
    "\n",
    "There are three commonly used boosted tree libraries:\n",
    "- CatBoost\n",
    "- Light GBM\n",
    "- XGBoost\n",
    "\n",
    "In this session, we will use XGBoost which is available in the environment provided. If you are interested in learning about the other libraries find more information [here](https://towardsdatascience.com/catboost-vs-light-gbm-vs-xgboost-5f93620723db).\n",
    "\n",
    "More information about Boosted Trees and XGBoost [here](https://xgboost.readthedocs.io/en/latest/tutorials/model.html)\n",
    "\n",
    "## What is XGBoost?\n",
    "\n",
    "XGBoost is a popular library to work with tabular data. It has shown its potential in ML competitions, in particular, Kaggle where many competitors have won using this library and fine-tune the models for optimal performance.\n",
    "\n",
    "Depending on the problem you are trying to solve you can either use <code>XGBClassifier</code> or <code>XGBRegressor</code> from the XGBoost library."
   ]
  },
  {
   "cell_type": "code",
   "execution_count": 50,
   "metadata": {
    "ExecuteTime": {
     "end_time": "2020-09-20T03:14:36.641002Z",
     "start_time": "2020-09-20T03:14:36.480550Z"
    }
   },
   "outputs": [
    {
     "ename": "ModuleNotFoundError",
     "evalue": "No module named 'xgboost'",
     "output_type": "error",
     "traceback": [
      "\u001b[0;31m---------------------------------------------------------------------------\u001b[0m",
      "\u001b[0;31mModuleNotFoundError\u001b[0m                       Traceback (most recent call last)",
      "\u001b[0;32m<ipython-input-50-477fa34615c5>\u001b[0m in \u001b[0;36m<module>\u001b[0;34m\u001b[0m\n\u001b[0;32m----> 1\u001b[0;31m \u001b[0;32mfrom\u001b[0m \u001b[0mxgboost\u001b[0m \u001b[0;32mimport\u001b[0m \u001b[0mXGBClassifier\u001b[0m\u001b[0;34m\u001b[0m\u001b[0;34m\u001b[0m\u001b[0m\n\u001b[0m",
      "\u001b[0;31mModuleNotFoundError\u001b[0m: No module named 'xgboost'"
     ]
    }
   ],
   "source": [
    "from xgboost import XGBClassifier"
   ]
  },
  {
   "cell_type": "markdown",
   "metadata": {},
   "source": [
    "XGBoost API is very similar to scikit-learn providing a <code>fit</code> function for the training."
   ]
  },
  {
   "cell_type": "code",
   "execution_count": null,
   "metadata": {
    "ExecuteTime": {
     "end_time": "2020-09-20T03:14:36.643389Z",
     "start_time": "2020-09-20T03:13:47.300Z"
    }
   },
   "outputs": [],
   "source": [
    "# fit model no training data\n",
    "model = XGBClassifier()\n",
    "model.fit(X_train, y_train)"
   ]
  },
  {
   "cell_type": "code",
   "execution_count": null,
   "metadata": {
    "ExecuteTime": {
     "end_time": "2020-09-20T03:14:36.645157Z",
     "start_time": "2020-09-20T03:13:47.300Z"
    }
   },
   "outputs": [],
   "source": [
    "y_pred = model.predict(X_test)\n",
    "print(f\"Accuracy: {accuracy_score(y_test, y_pred)}\")"
   ]
  },
  {
   "cell_type": "markdown",
   "metadata": {},
   "source": [
    "## References and further reading\n",
    "The following sources have been used in the creation of this notebook:\n",
    "- [Decision Trees](https://en.wikipedia.org/wiki/Decision_tree)\n",
    "- [SVMs](https://nlp.stanford.edu/IR-book/html/htmledition/multiclass-svms-1.html)\n",
    "- [Normalisation](https://en.wikipedia.org/wiki/Normalization_(statistics))\n",
    "- [XGBoost documentation](https://xgboost.readthedocs.io/en/latest/)\n",
    "- [Seaborn Datasets](https://seaborn.pydata.org/generated/seaborn.load_dataset.html)\n",
    "- [Scikit-learn Datasets](https://scikit-learn.org/stable/datasets/index.html)\n"
   ]
  },
  {
   "cell_type": "code",
   "execution_count": null,
   "metadata": {},
   "outputs": [],
   "source": []
  }
 ],
 "metadata": {
  "jupytext": {
   "formats": "ipynb,py"
  },
  "kernelspec": {
   "display_name": "Python 3",
   "language": "python",
   "name": "python3"
  },
  "language_info": {
   "codemirror_mode": {
    "name": "ipython",
    "version": 3
   },
   "file_extension": ".py",
   "mimetype": "text/x-python",
   "name": "python",
   "nbconvert_exporter": "python",
   "pygments_lexer": "ipython3",
   "version": "3.7.3"
  },
  "toc": {
   "base_numbering": 1,
   "nav_menu": {},
   "number_sections": true,
   "sideBar": true,
   "skip_h1_title": false,
   "title_cell": "Table of Contents",
   "title_sidebar": "Contents",
   "toc_cell": false,
   "toc_position": {
    "height": "calc(100% - 180px)",
    "left": "10px",
    "top": "150px",
    "width": "384px"
   },
   "toc_section_display": true,
   "toc_window_display": true
  },
  "varInspector": {
   "cols": {
    "lenName": 16,
    "lenType": 16,
    "lenVar": 40
   },
   "kernels_config": {
    "python": {
     "delete_cmd_postfix": "",
     "delete_cmd_prefix": "del ",
     "library": "var_list.py",
     "varRefreshCmd": "print(var_dic_list())"
    },
    "r": {
     "delete_cmd_postfix": ") ",
     "delete_cmd_prefix": "rm(",
     "library": "var_list.r",
     "varRefreshCmd": "cat(var_dic_list()) "
    }
   },
   "types_to_exclude": [
    "module",
    "function",
    "builtin_function_or_method",
    "instance",
    "_Feature"
   ],
   "window_display": false
  }
 },
 "nbformat": 4,
 "nbformat_minor": 4
}
