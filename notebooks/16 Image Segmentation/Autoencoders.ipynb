{
 "cells": [
  {
   "cell_type": "markdown",
   "metadata": {},
   "source": [
    "# Autoencoders\n",
    "## What are autoencoders?\n",
    "Autoencoders are networks which have the same input and output. A set of data is fed to these networks and they are expected to recreate the input. However, what makes autoencoders interesting is that they compress the information into lower number of dimensions (a.k.a latent space) and then recreate the input using those dimensions. They can be used for dimensionality reduction similar to PCA, t-SNE, and Umap. Some of the advantages of using autoencoders compared to some of the other techniques are:\n",
    "- Flexibility: You can design the network based on what the problem demands.\n",
    "- Reversibility: Unlike methods such as t-SNE and UMAP you can convert data back to the initial space.\n",
    "- Non-liearity: Unlike linear methods such as PCA, it is capable of using non-linear transformation.\n",
    "\n",
    "## Structure\n",
    "Autoencoders have two main components:\n",
    "1. Encoder: Converts data to latent space.\n",
    "2. Decoder: Converts the data back from latent space to its initial space.\n",
    "\n",
    "The architecture looks similar to the image below:\n",
    "<img src='./images/nn.svg' style='height:50rem'>\n",
    "\n",
    "We pass the input through the model and it will compress and decompress the input and returns a result. Then we compare the output of the model with the original input. To check how close the output is to the original input we use a loss function."
   ]
  },
  {
   "cell_type": "markdown",
   "metadata": {},
   "source": [
    "Let's start by importing the required libraries."
   ]
  },
  {
   "cell_type": "code",
   "execution_count": 14,
   "metadata": {},
   "outputs": [],
   "source": [
    "import torch\n",
    "from torch import nn, optim\n",
    "from torch.nn import functional as F\n",
    "from torch.utils.data import Dataset, DataLoader\n",
    "\n",
    "from torchvision import datasets, transforms\n",
    "\n",
    "from PIL import Image\n",
    "from pathlib import Path\n",
    "import numpy as np\n",
    "import os\n",
    "from tqdm.auto import tqdm\n",
    "import matplotlib.pyplot as plt\n",
    "import pandas as pd"
   ]
  },
  {
   "cell_type": "markdown",
   "metadata": {},
   "source": [
    "## Problem Description\n",
    "We are going to start with a simple problem. We will use MNIST dataset which is a collection of hand-written digits as 28x28 pixel images. We are going to use autoencoder to compress each image into only two values and then reconstruct the image. When the model is trained we will have a look at the reconstructed images as well as latent space values."
   ]
  },
  {
   "cell_type": "markdown",
   "metadata": {},
   "source": [
    "First we need to create a `Dataset` class. The `Dataset` class reads the data from file and returns data points when we need them. The advantage of using a `Dataset` is that we can adjust it based on what we need for each problem. If we are not dealing with large amount of data we can decide to keep everything in RAM so it is ready use. But if we are dealing with a few gigabytes of data we might need to open the file only when we need them.<br>\n",
    "The MNIST data set is not large so we can easily fit it into memory. In the `Dataset` class we define a few methods:\n",
    "- `__init__`: What information is required to create the object and how this information is saved.\n",
    "- `__len__`: Returns the number of data points (images) when we use `len()` function.\n",
    "- `__getitem__`: We can define how indexing would work for this class.\n",
    "\n",
    "We are going to define a couple of custom functions for convinience:\n",
    "- `show`: to see the image.\n",
    "- `sample`: which returns a random sample of the data."
   ]
  },
  {
   "cell_type": "code",
   "execution_count": 202,
   "metadata": {},
   "outputs": [],
   "source": [
    "path = Path('../../data/processed/MNIST/')\n",
    "\n",
    "class DigitsDataset(Dataset):\n",
    "    \"\"\"Face Landmarks dataset.\"\"\"\n",
    "\n",
    "    def __init__(self, path, transform=None):\n",
    "\n",
    "        self.root_dir = Path(path)\n",
    "        self.transform = transform\n",
    "        data = pd.read_csv(path)\n",
    "        if 'label' in data.columns:\n",
    "            self.x = data.drop(columns = ['label']).values\n",
    "            self.y = data['label'].values\n",
    "        else:\n",
    "            self.x = data.values\n",
    "        \n",
    "    def __len__(self):\n",
    "        return len(self.x)\n",
    "\n",
    "    def __getitem__(self, idx):\n",
    "        if torch.is_tensor(idx):\n",
    "            idx = idx.tolist()\n",
    "        \n",
    "        output = self.x[idx]/255\n",
    "        if self.transform:\n",
    "            output = self.transform(output)\n",
    "        return output\n",
    "    \n",
    "    def show(self,idx):\n",
    "        plt.figure(figsize=(2,2))\n",
    "        plt.imshow(self.x[idx].reshape((28,28)),'gray')\n",
    "\n",
    "        \n",
    "    def sample(self,n):\n",
    "        idx = np.random.randint(0,len(self),n)\n",
    "        return self[idx]\n",
    "    \n",
    "\n",
    "class ToTensor(object):\n",
    "    def __call__(self, data):\n",
    "        return torch.FloatTensor(data)\n",
    "    "
   ]
  },
  {
   "cell_type": "markdown",
   "metadata": {},
   "source": [
    "__Note:__ We also defined a class called `ToTensor`. This class takes an input and converts it to pytorch tensor. "
   ]
  },
  {
   "cell_type": "markdown",
   "metadata": {},
   "source": [
    "Now that we have a `Dataset` class, we can create a training and test dataset."
   ]
  },
  {
   "cell_type": "code",
   "execution_count": 203,
   "metadata": {},
   "outputs": [],
   "source": [
    "ds_train = DigitsDataset(path/'train.csv',transform=ToTensor())\n",
    "ds_test = DigitsDataset(path/'test.csv',transform=ToTensor())"
   ]
  },
  {
   "cell_type": "markdown",
   "metadata": {},
   "source": [
    "Next step is to create a data loaders. The training process takes place at multiple steps. At each step, we choose a few images and feed them to the model. Then we calculate the loss value based on the output. Using the loss value we update the values in the model. We do this over and over until when we think the model is trained. Each of these steps are called a mini-batch and the number of images passed in at each mini-batch is called batch size. Dataloader's job is to go to the dataset and grab a mini-batch of images for training. To create a Dataloader we use a pytorch dataloder object."
   ]
  },
  {
   "cell_type": "code",
   "execution_count": 204,
   "metadata": {},
   "outputs": [],
   "source": [
    "batch_size = 64\n",
    "train_loader = torch.utils.data.DataLoader(\n",
    "    ds_train,\n",
    "    batch_size = batch_size, shuffle = True)\n",
    "test_loader = torch.utils.data.DataLoader(\n",
    "    ds_test,\n",
    "    batch_size = batch_size, shuffle = False)"
   ]
  },
  {
   "cell_type": "markdown",
   "metadata": {},
   "source": [
    "__Note:__ Shuffle tells the data loader whether the data needs to be shuffled at the end of each epoch. We do it for training to keep the input random. But we don't need to do it for testing since we only use the test dataset for evaluation."
   ]
  },
  {
   "cell_type": "markdown",
   "metadata": {},
   "source": [
    "Now we need to create the model. The architecture we are going to use here is made of two linear layers for the encoder and two linear layers for the decoder."
   ]
  },
  {
   "cell_type": "code",
   "execution_count": 205,
   "metadata": {},
   "outputs": [],
   "source": [
    "class AE(nn.Module):\n",
    "    def __init__(self):\n",
    "        super(AE, self).__init__()\n",
    "\n",
    "        self.fc1 = nn.Linear(784, 400)\n",
    "        self.fc2 = nn.Linear(400, 2)\n",
    "        self.fc3 = nn.Linear(2, 400)\n",
    "        self.fc4 = nn.Linear(400, 784)\n",
    "\n",
    "    def encode(self, x):\n",
    "        h1 = F.relu(self.fc1(x))\n",
    "        return self.fc2(h1)\n",
    "\n",
    "    def decode(self, z):\n",
    "        h3 = F.relu(self.fc3(z))\n",
    "        return torch.sigmoid(self.fc4(h3))\n",
    "\n",
    "    def forward(self, x):\n",
    "        z = self.encode(x.view(-1, 784))\n",
    "        return self.decode(z)"
   ]
  },
  {
   "cell_type": "markdown",
   "metadata": {},
   "source": [
    "If we have access to GPU, let's make sure we are using it."
   ]
  },
  {
   "cell_type": "code",
   "execution_count": 206,
   "metadata": {},
   "outputs": [],
   "source": [
    "device = torch.device(\"cuda\" if torch.cuda.is_available() else \"cpu\")"
   ]
  },
  {
   "cell_type": "markdown",
   "metadata": {},
   "source": [
    "Now we create an instance of the model."
   ]
  },
  {
   "cell_type": "code",
   "execution_count": 194,
   "metadata": {},
   "outputs": [],
   "source": [
    "model = AE().to(device)\n"
   ]
  },
  {
   "cell_type": "markdown",
   "metadata": {},
   "source": [
    "We also need to choose an optimiser. The optimiser use the loss value and it's gradients with respect to model parameters and tells us how much each value must be adjusted to have a better model."
   ]
  },
  {
   "cell_type": "code",
   "execution_count": 207,
   "metadata": {},
   "outputs": [],
   "source": [
    "optimizer = optim.Adam(model.parameters(), lr=1e-3)"
   ]
  },
  {
   "cell_type": "markdown",
   "metadata": {},
   "source": [
    "And the final component is the loss function. Here we are going to use Binary Cross Entropy function."
   ]
  },
  {
   "cell_type": "code",
   "execution_count": 208,
   "metadata": {},
   "outputs": [],
   "source": [
    "def loss_bce(recon_x, x):\n",
    "    BCE = F.binary_cross_entropy(recon_x, x.view(-1, 784), reduction='sum')\n",
    "\n",
    "    return BCE"
   ]
  },
  {
   "cell_type": "markdown",
   "metadata": {},
   "source": [
    "Let's define two functions one for executing a single epoch of training and one for evaluating the mdel using test data.<br>\n",
    "Notice the following steps in the training loop:\n",
    "1. We make sure the data is in the right device (cpu or gpu)\n",
    "2. We make sure that any saved gradient (derivative) is zeroed.\n",
    "3. We pass a mini-batch of data into the model and grab the predictions.\n",
    "4. We use the loss function to find out how close the model's output is to the actual image.\n",
    "5. We use `loss.backward()` to claculate the derivative of loss with respect to model parameters.\n",
    "6. We ask the optimiser to update model's parameters."
   ]
  },
  {
   "cell_type": "code",
   "execution_count": 196,
   "metadata": {},
   "outputs": [],
   "source": [
    "def train(epoch, loss_function, log_interval = 50):\n",
    "    model.train()\n",
    "    train_loss = 0\n",
    "    for batch_idx, data  in enumerate(train_loader):\n",
    "        data = data.to(device)\n",
    "        optimizer.zero_grad()\n",
    "        recon_batch = model(data)\n",
    "        loss = loss_function(recon_batch, data)\n",
    "        loss.backward()\n",
    "        train_loss += loss.item()\n",
    "        optimizer.step()\n",
    "        if batch_idx % log_interval == 0:\n",
    "            pct = 100. * batch_idx / len(train_loader)\n",
    "            l = loss.item() / len(data)\n",
    "            print(f'#{epoch} [{batch_idx * len(data)}/{len(train_loader.dataset)} ({pct:.0f}%)]\\tLoss: {l:.6f}  ',\n",
    "                 end = '\\r',flush=True)\n",
    "    print(f'#{epoch} Train loss: {train_loss / len(train_loader.dataset):.4f}')\n",
    "\n",
    "def test(epoch, loss_function, log_interval = 50):\n",
    "    model.eval()\n",
    "    test_loss = 0\n",
    "    with torch.no_grad():\n",
    "        for i, data in enumerate(test_loader):\n",
    "            data = data.to(device)\n",
    "            recon_batch = model(data)\n",
    "            test_loss += loss_function(recon_batch, data).item()\n",
    "\n",
    "    test_loss /= len(test_loader.dataset)\n",
    "    print(f'#{epoch} Test loss: {test_loss:.4f}')\n",
    "  \n"
   ]
  },
  {
   "cell_type": "markdown",
   "metadata": {},
   "source": [
    "Now that all the components are ready, let's train the model for $10$ epochs."
   ]
  },
  {
   "cell_type": "code",
   "execution_count": 197,
   "metadata": {},
   "outputs": [
    {
     "name": "stdout",
     "output_type": "stream",
     "text": [
      "#1 Train loss: 179.3948Loss: 172.855164  \n",
      "#1 Test loss: 164.1730\n",
      "#2 Train loss: 160.7343Loss: 148.215378  \n",
      "#2 Test loss: 157.9265\n",
      "#3 Train loss: 156.3106Loss: 140.693451  \n",
      "#3 Test loss: 154.8858\n",
      "#4 Train loss: 153.5026Loss: 153.797043  \n",
      "#4 Test loss: 153.0359\n",
      "#5 Train loss: 151.4494Loss: 148.773285  \n",
      "#5 Test loss: 151.1292\n",
      "#6 Train loss: 149.8368Loss: 155.818146  \n",
      "#6 Test loss: 149.6031\n",
      "#7 Train loss: 148.4419Loss: 148.406174  \n",
      "#7 Test loss: 148.8334\n",
      "#8 Train loss: 147.2828Loss: 141.427551  \n",
      "#8 Test loss: 148.0583\n",
      "#9 Train loss: 146.3170Loss: 155.354034  \n",
      "#9 Test loss: 147.5448\n",
      "#10 Train loss: 145.4939Loss: 132.270782  \n",
      "#10 Test loss: 146.7894\n"
     ]
    }
   ],
   "source": [
    "epochs = 10\n",
    "for epoch in range(1, epochs + 1):\n",
    "    train(epoch,loss_bce)\n",
    "    test(epoch,loss_bce)"
   ]
  },
  {
   "cell_type": "markdown",
   "metadata": {},
   "source": [
    "## Results\n",
    "Now let's chack out the model."
   ]
  },
  {
   "cell_type": "code",
   "execution_count": 242,
   "metadata": {},
   "outputs": [],
   "source": [
    "def cvt2image(tensor):\n",
    "    return tensor.detach().numpy().reshape(28,28)"
   ]
  },
  {
   "cell_type": "code",
   "execution_count": 218,
   "metadata": {},
   "outputs": [
    {
     "data": {
      "image/png": "[encoded data removed]",
      "text/plain": [
       "<Figure size 144x144 with 1 Axes>"
      ]
     },
     "metadata": {
      "needs_background": "light"
     },
     "output_type": "display_data"
    },
    {
     "data": {
      "image/png": "[encoded data removed]",
      "text/plain": [
       "<Figure size 144x144 with 1 Axes>"
      ]
     },
     "metadata": {
      "needs_background": "light"
     },
     "output_type": "display_data"
    }
   ],
   "source": [
    "idx = np.random.randint(0,len(ds_test))\n",
    "\n",
    "model.eval()\n",
    "original = ds_train[[idx]]\n",
    "result = model(original)\n",
    "img = cvt2image(result[0])\n",
    "plt.figure(figsize=(2,2))\n",
    "plt.imshow(img,'gray')\n",
    "plt.title('Predicted')\n",
    "ds_train.show(idx)\n",
    "plt.title('Actual');"
   ]
  },
  {
   "cell_type": "markdown",
   "metadata": {},
   "source": [
    "<font color='blue' size='4rem'>Run the cell above a few times and compare the predicted and actual images.</font>"
   ]
  },
  {
   "cell_type": "markdown",
   "metadata": {},
   "source": [
    "There are certainly some similarities but the predicted (reconstructed) images are not always very clear. We will shortly discuss how we can improve the model. But before that, let's have look at the latent space. The model is converting every image which has 784 values (28x28 pixels) to only 2 values. We can plot these two values for a few numbers."
   ]
  },
  {
   "cell_type": "code",
   "execution_count": 219,
   "metadata": {},
   "outputs": [],
   "source": [
    "res = model.encode(ds_train[:1000])\n",
    "res = res.detach().numpy()"
   ]
  },
  {
   "cell_type": "code",
   "execution_count": 220,
   "metadata": {},
   "outputs": [
    {
     "data": {
      "text/plain": [
       "<matplotlib.legend.Legend at 0x7f2021bcc090>"
      ]
     },
     "execution_count": 220,
     "metadata": {},
     "output_type": "execute_result"
    },
    {
     "data": {
      "image/png": "[encoded data removed]",
      "text/plain": [
       "<Figure size 432x288 with 1 Axes>"
      ]
     },
     "metadata": {
      "needs_background": "light"
     },
     "output_type": "display_data"
    }
   ],
   "source": [
    "for i in range(10):\n",
    "    idx = ds_train.y[:1000]==i\n",
    "    plt.scatter(res[idx,0],res[idx,1],label = i)\n",
    "plt.legend()"
   ]
  },
  {
   "cell_type": "markdown",
   "metadata": {},
   "source": [
    "Each color represents a number. Despite most numbers overlapping, we can still see some distictions, for instance between $1$ and other numbers. "
   ]
  },
  {
   "cell_type": "markdown",
   "metadata": {},
   "source": [
    "## Improving the model\n",
    "Obviously the model that we trained needs improvement as it is no recreating the images well enough. There are a few ways we can improve the model. One way is to create a deeper encoder and decoder. In the example above we ued only two layers for encoder and layers for decoder. This doesn't allow the model to comprehend complex relationships, especially in this scenario since we are working with images. By adding more layers we can give the model the opportunity to better differentiate between digits.\n",
    "Another way of making the model is using more dimensions in latent space. For instance, if instead of compressing each image into two values we could use ten values. This will allow the model to extract more features from the input which will make reconstructing the image easier. However, it must be noted that whole point of using autoencoder is to force the model to compress the information into as few dimensions as possible."
   ]
  },
  {
   "cell_type": "markdown",
   "metadata": {},
   "source": [
    "## Application\n",
    "Autoencoders are not only useful for dimensionality reduction. They are often used for other purposes as well, including:\n",
    "1. __Denoising:__ We could add noise to the input and then feed it to the model and then compare the output with the original image (without noise). This approach will create a model which is capable of removing noise from the input.\n",
    "2. __Anomaly Detection:__ When we train a model on specific set of data, the model learns how to recreate the dataset. As a result when there are uncommon instances in the data the model will not be able to recrate them very well. This behaviour is sometimes used as a technique to find anomalous data points. "
   ]
  },
  {
   "cell_type": "markdown",
   "metadata": {},
   "source": [
    "# Variational Autoencoders\n",
    "Variational Autoencoders (VAE) are one of the variations of autoencoders. Unlike normal autoencoders which compress the data into a few values, VAEs tries to find the distribution of the data in latent space. As a result, the final model not only has the ability to recreate the input, but can also generate new outputs by sampling from the latent space distribution."
   ]
  },
  {
   "cell_type": "markdown",
   "metadata": {},
   "source": [
    "Since VAE is a variation of autoencoder, it has a similar architecture. The main difference between the two is an additional layer between encoder and decoder which samples from latent space distribution.\n",
    "In a VAE, the encoder generates two values for each parameter in latent space. One represent the mean and one represents the standard deviation of the parameter. Then sampling layer uses these two numbers and generates random values from the same distribution. These values then are fed to decoder which will create an output similar to the input."
   ]
  },
  {
   "cell_type": "markdown",
   "metadata": {},
   "source": [
    "Let's create a VAE model. We will use layers with the same size as the previous model. Notice for the second layer we have two linear layers, one to generate the mean and one to generate the log of variance which will be converted into standard deviation."
   ]
  },
  {
   "cell_type": "code",
   "execution_count": 221,
   "metadata": {},
   "outputs": [],
   "source": [
    "class VAE(nn.Module):\n",
    "    def __init__(self):\n",
    "        super(VAE, self).__init__()\n",
    "\n",
    "        self.fc1 = nn.Linear(784, 400)\n",
    "        self.fc21 = nn.Linear(400, 2)\n",
    "        self.fc22 = nn.Linear(400, 2)\n",
    "        self.fc3 = nn.Linear(2, 400)\n",
    "        self.fc4 = nn.Linear(400, 784)\n",
    "\n",
    "    def encode(self, x):\n",
    "        h1 = F.relu(self.fc1(x))\n",
    "        return self.fc21(h1), self.fc22(h1)\n",
    "\n",
    "    def reparameterize(self, mu, logvar):\n",
    "        std = torch.exp(0.5*logvar)\n",
    "        eps = torch.randn_like(std)\n",
    "        return mu + eps*std\n",
    "\n",
    "    def decode(self, z):\n",
    "        h3 = F.relu(self.fc3(z))\n",
    "        return torch.sigmoid(self.fc4(h3))\n",
    "\n",
    "    def forward(self, x):\n",
    "        mu, logvar = self.encode(x.view(-1, 784))\n",
    "        z = self.reparameterize(mu, logvar)\n",
    "        return self.decode(z), mu, logvar"
   ]
  },
  {
   "cell_type": "code",
   "execution_count": 222,
   "metadata": {},
   "outputs": [],
   "source": [
    "model = VAE().to(device)\n",
    "optimizer = optim.Adam(model.parameters(), lr=1e-3)"
   ]
  },
  {
   "cell_type": "markdown",
   "metadata": {},
   "source": [
    "The loss function is similar to what we used before, except we have an extra part. the extra equation is Kullback–Leibler divergence which measures difference between probability distributions."
   ]
  },
  {
   "cell_type": "code",
   "execution_count": 226,
   "metadata": {},
   "outputs": [],
   "source": [
    "\n",
    "def loss_bce_kld(recon_x, x, mu, logvar):\n",
    "    BCE = F.binary_cross_entropy(recon_x, x.view(-1, 784), reduction='sum')\n",
    "    KLD = -0.5 * torch.sum(1 + logvar - mu.pow(2) - logvar.exp())\n",
    "    return BCE + KLD"
   ]
  },
  {
   "cell_type": "markdown",
   "metadata": {},
   "source": [
    "We also need to slightly adjust the training loop since the loss function now takes four inputs."
   ]
  },
  {
   "cell_type": "code",
   "execution_count": 224,
   "metadata": {},
   "outputs": [],
   "source": [
    "def train(epoch, loss_function, log_interval = 50):\n",
    "    model.train()\n",
    "    train_loss = 0\n",
    "    for batch_idx, data  in enumerate(train_loader):\n",
    "        data = data.to(device)\n",
    "        optimizer.zero_grad()\n",
    "        recon_batch, mu, logvar = model(data)\n",
    "        loss = loss_function(recon_batch, data,mu, logvar)\n",
    "        loss.backward()\n",
    "        train_loss += loss.item()\n",
    "        optimizer.step()\n",
    "        if batch_idx % log_interval == 0:\n",
    "            pct = 100. * batch_idx / len(train_loader)\n",
    "            l = loss.item() / len(data)\n",
    "            print(f'#{epoch} [{batch_idx * len(data)}/{len(train_loader.dataset)} ({pct:.0f}%)]\\tLoss: {l:.6f}  ',\n",
    "                 end = '\\r',flush=True)\n",
    "    print(f'#{epoch} Train loss: {train_loss / len(train_loader.dataset):.4f}')\n",
    "\n",
    "def test(epoch, loss_function, log_interval = 50):\n",
    "    model.eval()\n",
    "    test_loss = 0\n",
    "    with torch.no_grad():\n",
    "        for i, data in enumerate(test_loader):\n",
    "            data = data.to(device)\n",
    "            recon_batch, mu, logvar = model(data)\n",
    "            test_loss += loss_function(recon_batch, data,mu, logvar).item()\n",
    "\n",
    "    test_loss /= len(test_loader.dataset)\n",
    "    print(f'#{epoch} Test loss: {test_loss:.4f}')\n",
    "  \n"
   ]
  },
  {
   "cell_type": "code",
   "execution_count": 227,
   "metadata": {},
   "outputs": [
    {
     "name": "stdout",
     "output_type": "stream",
     "text": [
      "#1 Train loss: 186.2558Loss: 164.251694  \n",
      "#1 Test loss: 169.1089\n",
      "#2 Train loss: 166.6291Loss: 175.891449  \n",
      "#2 Test loss: 164.5082\n",
      "#3 Train loss: 163.0721Loss: 146.691330  \n",
      "#3 Test loss: 161.7799\n",
      "#4 Train loss: 160.8360Loss: 159.909607  \n",
      "#4 Test loss: 160.1014\n",
      "#5 Train loss: 159.0544Loss: 144.422394  \n",
      "#5 Test loss: 158.3959\n",
      "#6 Train loss: 157.7190Loss: 156.436371  \n",
      "#6 Test loss: 157.2871\n",
      "#7 Train loss: 156.6443Loss: 153.293839  \n",
      "#7 Test loss: 156.8266\n",
      "#8 Train loss: 155.7364Loss: 157.645508  \n",
      "#8 Test loss: 155.7224\n",
      "#9 Train loss: 155.0014Loss: 159.471802  \n",
      "#9 Test loss: 155.1599\n",
      "#10 Train loss: 154.3342Loss: 147.374161  \n",
      "#10 Test loss: 154.6148\n"
     ]
    }
   ],
   "source": [
    "epochs = 10\n",
    "for epoch in range(1, epochs + 1):\n",
    "    train(epoch,loss_bce_kld)\n",
    "    test(epoch,loss_bce_kld)\n"
   ]
  },
  {
   "cell_type": "markdown",
   "metadata": {},
   "source": [
    "## Results"
   ]
  },
  {
   "cell_type": "code",
   "execution_count": 228,
   "metadata": {},
   "outputs": [],
   "source": [
    "def cvt2image(tensor):\n",
    "    return tensor.detach().numpy().reshape(28,28)"
   ]
  },
  {
   "cell_type": "code",
   "execution_count": 235,
   "metadata": {},
   "outputs": [
    {
     "data": {
      "image/png": "[encoded data removed]",
      "text/plain": [
       "<Figure size 144x144 with 1 Axes>"
      ]
     },
     "metadata": {
      "needs_background": "light"
     },
     "output_type": "display_data"
    },
    {
     "data": {
      "image/png": "[encoded data removed]",
      "text/plain": [
       "<Figure size 144x144 with 1 Axes>"
      ]
     },
     "metadata": {
      "needs_background": "light"
     },
     "output_type": "display_data"
    }
   ],
   "source": [
    "idx = np.random.randint(0,len(ds_test))\n",
    "\n",
    "model.eval()\n",
    "original = ds_train[[idx]]\n",
    "result = model(original)\n",
    "img = cvt2image(result[0])\n",
    "plt.figure(figsize=(2,2))\n",
    "plt.imshow(img,'gray')\n",
    "plt.title('Predicted')\n",
    "ds_train.show(idx)\n",
    "plt.title('Actual');"
   ]
  },
  {
   "cell_type": "markdown",
   "metadata": {},
   "source": [
    "Now let's plot the predicted mean of both parameters."
   ]
  },
  {
   "cell_type": "code",
   "execution_count": 239,
   "metadata": {},
   "outputs": [],
   "source": [
    "mu , logvar = model.encode(ds_train[:1000])"
   ]
  },
  {
   "cell_type": "code",
   "execution_count": 240,
   "metadata": {},
   "outputs": [],
   "source": [
    "mu = mu.detach().numpy()\n"
   ]
  },
  {
   "cell_type": "code",
   "execution_count": 241,
   "metadata": {},
   "outputs": [
    {
     "data": {
      "text/plain": [
       "<matplotlib.legend.Legend at 0x7f2021528d10>"
      ]
     },
     "execution_count": 241,
     "metadata": {},
     "output_type": "execute_result"
    },
    {
     "data": {
      "image/png": "[encoded data removed]",
      "text/plain": [
       "<Figure size 432x288 with 1 Axes>"
      ]
     },
     "metadata": {
      "needs_background": "light"
     },
     "output_type": "display_data"
    }
   ],
   "source": [
    "for i in range(10):\n",
    "    idx = ds_train.y[:1000]==i\n",
    "    plt.scatter(mu[idx,0],mu[idx,1],label = i)\n",
    "plt.legend()"
   ]
  },
  {
   "cell_type": "markdown",
   "metadata": {},
   "source": [
    "If we compare this plot with the similar plot for normal autoencoder, we can see that VAE did a better job at creating clusters. The points for each digits are closer together compared to previous model. However, there is still room for improvement. "
   ]
  },
  {
   "cell_type": "markdown",
   "metadata": {},
   "source": [
    "## Exercise 1\n",
    "Create a new VAE but this time use a deeper network. Note, everything else (loss function, dataloaders, training loops, etc.) will stay the same only the model will change. The example above was using these sizes: 784 --> 400 --> 2 --> 400 --> 784\n",
    "<br>Try a new model which uses these size: 784 --> 400 --> 80 --> 2 --> 80 --> 400 --> 784 "
   ]
  },
  {
   "cell_type": "code",
   "execution_count": 243,
   "metadata": {},
   "outputs": [],
   "source": [
    "# Create the model definition"
   ]
  },
  {
   "cell_type": "code",
   "execution_count": 244,
   "metadata": {},
   "outputs": [],
   "source": [
    "# Insert Training loop here"
   ]
  },
  {
   "cell_type": "code",
   "execution_count": 245,
   "metadata": {},
   "outputs": [],
   "source": [
    "# Visualise the results"
   ]
  },
  {
   "cell_type": "markdown",
   "metadata": {},
   "source": [
    "## Rocks"
   ]
  },
  {
   "cell_type": "code",
   "execution_count": 2,
   "metadata": {},
   "outputs": [],
   "source": [
    "path = Path('../../data/processed/deep-rock-sr/DeepRockSR-2D/coal2D/coal2D_train_LR_default_X4/')\n"
   ]
  },
  {
   "cell_type": "code",
   "execution_count": 3,
   "metadata": {},
   "outputs": [],
   "source": [
    "img_list = os.listdir(path)"
   ]
  },
  {
   "cell_type": "code",
   "execution_count": 4,
   "metadata": {},
   "outputs": [],
   "source": [
    "rand_file = np.random.choice(img_list)\n",
    "img = Image.open(path/rand_file)"
   ]
  },
  {
   "cell_type": "code",
   "execution_count": 5,
   "metadata": {},
   "outputs": [
    {
     "data": {
      "image/png": "[encoded data removed]",
      "text/plain": [
       "<PIL.PngImagePlugin.PngImageFile image mode=RGB size=125x125 at 0x7F2B955E8C50>"
      ]
     },
     "execution_count": 5,
     "metadata": {},
     "output_type": "execute_result"
    }
   ],
   "source": [
    "img"
   ]
  },
  {
   "cell_type": "code",
   "execution_count": 6,
   "metadata": {},
   "outputs": [
    {
     "data": {
      "text/plain": [
       "(125, 125)"
      ]
     },
     "execution_count": 6,
     "metadata": {},
     "output_type": "execute_result"
    }
   ],
   "source": [
    "img.size"
   ]
  },
  {
   "cell_type": "code",
   "execution_count": 146,
   "metadata": {},
   "outputs": [],
   "source": [
    "\n",
    "encoder = nn.Sequential(\n",
    "                    nn.Flatten(),\n",
    "                    nn.Linear(125**2,128),\n",
    "                    nn.ReLU(),\n",
    "#                     nn.BatchNorm1d(128),\n",
    "                    nn.Linear(128,16),\n",
    "                    nn.ReLU(),\n",
    "#                     nn.BatchNorm1d(16),\n",
    "                    nn.Linear(16,2),\n",
    "                    nn.ReLU(),\n",
    "#                     nn.BatchNorm1d(2)\n",
    "                    )\n",
    "\n",
    "decoder = nn.Sequential(\n",
    "                    nn.Linear(2,16),\n",
    "                    nn.ReLU(),\n",
    "#                     nn.BatchNorm1d(16),\n",
    "                    nn.Linear(16,128),\n",
    "                    nn.ReLU(),\n",
    "#                     nn.BatchNorm1d(128),\n",
    "                    nn.Linear(128,125**2),\n",
    "                    nn.Sigmoid(),\n",
    "#                     nn.BatchNorm1d(2)\n",
    "                    )"
   ]
  },
  {
   "cell_type": "code",
   "execution_count": null,
   "metadata": {},
   "outputs": [],
   "source": []
  },
  {
   "cell_type": "code",
   "execution_count": 147,
   "metadata": {},
   "outputs": [
    {
     "data": {
      "text/plain": [
       "<torch.utils.data.dataset.Dataset at 0x7f2b94da8a50>"
      ]
     },
     "execution_count": 147,
     "metadata": {},
     "output_type": "execute_result"
    }
   ],
   "source": [
    "torch.utils.data.Dataset()"
   ]
  },
  {
   "cell_type": "code",
   "execution_count": null,
   "metadata": {},
   "outputs": [],
   "source": []
  },
  {
   "cell_type": "code",
   "execution_count": 148,
   "metadata": {},
   "outputs": [],
   "source": [
    "class RocksDataset(Dataset):\n",
    "    \"\"\"Face Landmarks dataset.\"\"\"\n",
    "\n",
    "    def __init__(self, paths, transform=None):\n",
    "        \"\"\"\n",
    "        Args:\n",
    "            csv_file (string): Path to the csv file with annotations.\n",
    "            root_dir (string): Directory with all the images.\n",
    "            transform (callable, optional): Optional transform to be applied\n",
    "                on a sample.\n",
    "        \"\"\"\n",
    "#         self.root_dir = Path(root_dir)\n",
    "        self.transform = transform\n",
    "#         self.image_list = [i for i in self.root_dir.iterdir()]\n",
    "        self.image_paths = paths\n",
    "    def __len__(self):\n",
    "        return len(self.image_paths)\n",
    "\n",
    "    def __getitem__(self, idx):\n",
    "        if torch.is_tensor(idx):\n",
    "            idx = idx.tolist()\n",
    "        \n",
    "        img_name = self.image_paths[idx]\n",
    "        image = Image.open(img_name)\n",
    "        image = np.array(image)/255\n",
    "        if self.transform:\n",
    "            image = self.transform(image[:,:,0])\n",
    "\n",
    "        return image\n",
    "    \n",
    "class ToTensor(object):\n",
    "    \n",
    "    def __call__(self, image):\n",
    "#         image = image.transpose((0, 1))\n",
    "        return torch.FloatTensor(image).unsqueeze(0)\n",
    "    \n"
   ]
  },
  {
   "cell_type": "code",
   "execution_count": 149,
   "metadata": {},
   "outputs": [],
   "source": [
    "image_list = np.array([i for i in path.iterdir()])\n",
    "is_train = np.random.binomial(1,.8,len(image_list))\n",
    "list_tr = image_list[is_train==1]\n",
    "list_val = image_list[is_train==0]"
   ]
  },
  {
   "cell_type": "code",
   "execution_count": 150,
   "metadata": {},
   "outputs": [],
   "source": [
    "bs = 8\n",
    "ds_tr = RocksDataset(list_tr,transform=ToTensor())\n",
    "dl_tr = torch.utils.data.DataLoader(ds,bs,shuffle=True)\n",
    "ds_val = RocksDataset(list_val,transform=ToTensor())\n",
    "dl_val = torch.utils.data.DataLoader(ds,bs)"
   ]
  },
  {
   "cell_type": "code",
   "execution_count": 151,
   "metadata": {},
   "outputs": [],
   "source": [
    "loss_function = F.mse_loss"
   ]
  },
  {
   "cell_type": "code",
   "execution_count": 152,
   "metadata": {},
   "outputs": [],
   "source": [
    "model = nn.Sequential(encoder,decoder)"
   ]
  },
  {
   "cell_type": "code",
   "execution_count": 153,
   "metadata": {},
   "outputs": [
    {
     "data": {
      "text/plain": [
       "tensor([[0.5015, 0.4684, 0.5446,  ..., 0.5209, 0.4901, 0.4860]],\n",
       "       grad_fn=<SigmoidBackward>)"
      ]
     },
     "execution_count": 153,
     "metadata": {},
     "output_type": "execute_result"
    }
   ],
   "source": [
    "model(ds[0].unsqueeze(0))"
   ]
  },
  {
   "cell_type": "code",
   "execution_count": 154,
   "metadata": {},
   "outputs": [],
   "source": [
    "epochs = 10\n",
    "opt = torch.optim.Adam(params = model.parameters())"
   ]
  },
  {
   "cell_type": "code",
   "execution_count": 155,
   "metadata": {},
   "outputs": [],
   "source": [
    "from tqdm.auto import tqdm"
   ]
  },
  {
   "cell_type": "code",
   "execution_count": 156,
   "metadata": {},
   "outputs": [
    {
     "data": {
      "application/vnd.jupyter.widget-view+json": {
       "model_id": "6706ea44e7864c5dbe8ec3c2ad927ea0",
       "version_major": 2,
       "version_minor": 0
      },
      "text/plain": [
       "HBox(children=(FloatProgress(value=0.0, max=10.0), HTML(value='')))"
      ]
     },
     "metadata": {},
     "output_type": "display_data"
    },
    {
     "name": "stdout",
     "output_type": "stream",
     "text": [
      "0.052\n",
      "0.035\n",
      "0.025\n",
      "0.018\n",
      "0.014\n",
      "0.012\n",
      "0.010\n",
      "0.009\n",
      "  *    *    *    *    *    *    *    *    *    *  \n",
      "Validation loss: 0.002\n",
      "--------------------------------------------------\n",
      "0.003\n",
      "0.002\n",
      "0.002\n",
      "0.002\n",
      "0.002\n",
      "0.002\n",
      "0.002\n",
      "0.002\n",
      "  *    *    *    *    *    *    *    *    *    *  \n",
      "Validation loss: 0.002\n",
      "--------------------------------------------------\n",
      "0.002\n",
      "0.002\n",
      "0.002\n",
      "0.002\n",
      "0.002\n",
      "0.002\n",
      "0.002\n",
      "0.002\n",
      "  *    *    *    *    *    *    *    *    *    *  \n",
      "Validation loss: 0.002\n",
      "--------------------------------------------------\n",
      "0.002\n",
      "0.002\n",
      "0.002\n",
      "0.002\n",
      "0.002\n",
      "0.002\n",
      "0.002\n",
      "0.002\n",
      "  *    *    *    *    *    *    *    *    *    *  \n",
      "Validation loss: 0.002\n",
      "--------------------------------------------------\n",
      "0.002\n",
      "0.002\n",
      "0.002\n",
      "0.002\n",
      "0.002\n",
      "0.002\n",
      "0.002\n",
      "0.002\n",
      "  *    *    *    *    *    *    *    *    *    *  \n",
      "Validation loss: 0.002\n",
      "--------------------------------------------------\n",
      "0.003\n",
      "0.002\n",
      "0.002\n",
      "0.002\n",
      "0.002\n",
      "0.002\n",
      "0.002\n",
      "0.002\n",
      "  *    *    *    *    *    *    *    *    *    *  \n",
      "Validation loss: 0.002\n",
      "--------------------------------------------------\n",
      "0.002\n",
      "0.002\n",
      "0.002\n",
      "0.002\n",
      "0.002\n",
      "0.002\n",
      "0.002\n",
      "0.002\n",
      "  *    *    *    *    *    *    *    *    *    *  \n",
      "Validation loss: 0.002\n",
      "--------------------------------------------------\n",
      "0.002\n",
      "0.002\n",
      "0.002\n",
      "0.002\n",
      "0.002\n",
      "0.002\n",
      "0.002\n",
      "0.002\n",
      "  *    *    *    *    *    *    *    *    *    *  \n",
      "Validation loss: 0.002\n",
      "--------------------------------------------------\n",
      "0.001\n",
      "0.002\n",
      "0.002\n",
      "0.002\n",
      "0.002\n",
      "0.002\n",
      "0.002\n",
      "0.002\n",
      "  *    *    *    *    *    *    *    *    *    *  \n",
      "Validation loss: 0.002\n",
      "--------------------------------------------------\n",
      "0.002\n",
      "0.002\n",
      "0.002\n",
      "0.002\n",
      "0.002\n",
      "0.002\n",
      "0.002\n",
      "0.002\n",
      "  *    *    *    *    *    *    *    *    *    *  \n",
      "Validation loss: 0.002\n",
      "--------------------------------------------------\n",
      "\n"
     ]
    }
   ],
   "source": [
    "for epoch in tqdm(range(epochs)):\n",
    "    model.train()\n",
    "    batch_loss = []\n",
    "    for i, data in enumerate(dl_tr):\n",
    "        opt.zero_grad()\n",
    "        preds = model(data)\n",
    "        train_loss = loss_function(data,preds.reshape_as(data))\n",
    "        train_loss.backward()\n",
    "        opt.step()\n",
    "        batch_loss.append(train_loss.item())\n",
    "        if i%50==0:\n",
    "            print(f'{np.mean(batch_loss):.3f}')\n",
    "    print('  *  '*10)\n",
    "    \n",
    "    model.eval()\n",
    "    val_loss = []\n",
    "    with torch.no_grad():\n",
    "        for data in dl_val:\n",
    "            preds = model(data)\n",
    "            val_loss.append(loss_function(data,preds.reshape_as(data)).item())\n",
    "    print(f'Validation loss: {np.mean(val_loss).item():.3f}')\n",
    "    print('-'*50)\n",
    "        \n",
    "    \n",
    "    "
   ]
  },
  {
   "cell_type": "code",
   "execution_count": 121,
   "metadata": {},
   "outputs": [
    {
     "name": "stdout",
     "output_type": "stream",
     "text": [
      "Validation loss: 0.035\n",
      "--------------------------------------------------\n"
     ]
    }
   ],
   "source": [
    "model.eval()\n",
    "val_loss = []\n",
    "with torch.no_grad():\n",
    "    for data in dl_val:\n",
    "        preds = model(data)\n",
    "        val_loss.append(loss_function(data,preds.reshape_as(data)).item())\n",
    "print(f'Validation loss: {np.mean(val_loss).item():.3f}')\n",
    "print('-'*50)"
   ]
  },
  {
   "cell_type": "code",
   "execution_count": 157,
   "metadata": {},
   "outputs": [],
   "source": [
    "sample = ds_val[0].unsqueeze(0)"
   ]
  },
  {
   "cell_type": "code",
   "execution_count": 158,
   "metadata": {},
   "outputs": [],
   "source": [
    "model.eval()\n",
    "pred0 = model(sample)"
   ]
  },
  {
   "cell_type": "code",
   "execution_count": 159,
   "metadata": {},
   "outputs": [
    {
     "data": {
      "text/plain": [
       "<matplotlib.image.AxesImage at 0x7f2b90144390>"
      ]
     },
     "execution_count": 159,
     "metadata": {},
     "output_type": "execute_result"
    },
    {
     "data": {
      "image/png": "[encoded data removed]",
      "text/plain": [
       "<Figure size 432x288 with 1 Axes>"
      ]
     },
     "metadata": {
      "needs_background": "light"
     },
     "output_type": "display_data"
    }
   ],
   "source": [
    "plt.imshow(sample.numpy()[0,0],'gray')"
   ]
  },
  {
   "cell_type": "code",
   "execution_count": 161,
   "metadata": {},
   "outputs": [
    {
     "data": {
      "text/plain": [
       "<matplotlib.image.AxesImage at 0x7f2b90127910>"
      ]
     },
     "execution_count": 161,
     "metadata": {},
     "output_type": "execute_result"
    },
    {
     "data": {
      "image/png": "[encoded data removed]",
      "text/plain": [
       "<Figure size 432x288 with 1 Axes>"
      ]
     },
     "metadata": {
      "needs_background": "light"
     },
     "output_type": "display_data"
    }
   ],
   "source": [
    "plt.imshow(pred0.detach().numpy().reshape((125,125)),'gray')"
   ]
  },
  {
   "cell_type": "code",
   "execution_count": null,
   "metadata": {},
   "outputs": [],
   "source": []
  },
  {
   "cell_type": "markdown",
   "metadata": {},
   "source": [
    "# Solution to Exercises"
   ]
  },
  {
   "cell_type": "markdown",
   "metadata": {},
   "source": [
    "## Exercise 1\n",
    "<details><summary>Solution</summary>\n",
    "\n",
    "```Python\n",
    "class VAE2(nn.Module):\n",
    "    def __init__(self):\n",
    "        super(VAE2, self).__init__()\n",
    "\n",
    "        self.fc1 = nn.Linear(784, 400)\n",
    "        self.fc2 = nn.Linear(400, 80)\n",
    "        self.fc31 = nn.Linear(80, 2)\n",
    "        self.fc32 = nn.Linear(80, 2)\n",
    "        self.fc4 = nn.Linear(2, 80)\n",
    "        self.fc5 = nn.Linear(80, 400)\n",
    "        self.fc6 = nn.Linear(400, 784)\n",
    "\n",
    "    def encode(self, x):\n",
    "        h1 = F.relu(self.fc1(x))\n",
    "        h2 = F.relu(self.fc2(h1))\n",
    "        return self.fc31(h2), self.fc32(h2)\n",
    "\n",
    "    def reparameterize(self, mu, logvar):\n",
    "        std = torch.exp(0.5*logvar)\n",
    "        eps = torch.randn_like(std)\n",
    "        return mu + eps*std\n",
    "\n",
    "    def decode(self, z):\n",
    "        h3 = F.relu(self.fc4(z))\n",
    "        h4 = F.relu(self.fc5(h3))\n",
    "        return torch.sigmoid(self.fc6(h4))\n",
    "\n",
    "    def forward(self, x):\n",
    "        mu, logvar = self.encode(x.view(-1, 784))\n",
    "        z = self.reparameterize(mu, logvar)\n",
    "        return self.decode(z), mu, logvar\n",
    "\n",
    "    \n",
    "model = VAE2().to(device)\n",
    "optimizer = optim.Adam(model.parameters(), lr=1e-3)\n",
    "epochs = 10\n",
    "for epoch in range(1, epochs + 1):\n",
    "    train(epoch,loss_bce_kld)\n",
    "    test(epoch,loss_bce_kld)\n",
    "\n",
    "# visualisations\n",
    "\n",
    "model.eval()\n",
    "mu , logvar = model.encode(ds_train[:1000])\n",
    "mu = mu.detach().numpy()\n",
    "for i in range(10):\n",
    "    idx = ds_train.y[:1000]==i\n",
    "    plt.scatter(mu[idx,0],mu[idx,1],label = i)\n",
    "plt.legend()\n",
    "\n",
    "```\n",
    "\n",
    "</details>"
   ]
  },
  {
   "cell_type": "code",
   "execution_count": null,
   "metadata": {},
   "outputs": [],
   "source": []
  }
 ],
 "metadata": {
  "kernelspec": {
   "display_name": "Python 3",
   "language": "python",
   "name": "python3"
  },
  "language_info": {
   "codemirror_mode": {
    "name": "ipython",
    "version": 3
   },
   "file_extension": ".py",
   "mimetype": "text/x-python",
   "name": "python",
   "nbconvert_exporter": "python",
   "pygments_lexer": "ipython3",
   "version": "3.7.4"
  },
  "toc": {
   "base_numbering": 1,
   "nav_menu": {},
   "number_sections": true,
   "sideBar": true,
   "skip_h1_title": false,
   "title_cell": "Table of Contents",
   "title_sidebar": "Contents",
   "toc_cell": false,
   "toc_position": {
    "height": "calc(100% - 180px)",
    "left": "10px",
    "top": "150px",
    "width": "284.444px"
   },
   "toc_section_display": true,
   "toc_window_display": true
  }
 },
 "nbformat": 4,
 "nbformat_minor": 2
}
