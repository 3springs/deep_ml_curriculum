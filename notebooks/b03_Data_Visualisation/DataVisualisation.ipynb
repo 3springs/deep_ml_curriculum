{
 "cells": [
  {
   "cell_type": "markdown",
   "metadata": {},
   "source": [
    "# Introduction\n",
    "\n",
    "This notebook provides a basic data visualisation tutorial using Matplotlib (MPL) and Seaborn python library. Please refer to the table below to navigate through the notebook.\n",
    "\n",
    "## Table of Contents\n",
    "\n",
    "1. [Matplotlib Basics](#matplotlib-basics)\n",
    "2. [Importing Libraries](#libraries)\n",
    "3. [Dataset](#dataset)\n",
    "3. [Scatterplot](#scatter)\n",
    "    * [MPL Styling: Adding different markers](#scatter-styling-markers)\n",
    "    * [MPL Styling: Customise color](#scatter-styling-color)\n",
    "4. [Bar Chart](#bar)\n",
    "    * [Useful Functions (getattr and operator)](#bar-useful)\n",
    "5. [Histogram](#histogram)\n",
    "6. [Line](#line)\n",
    "    * [MPL Styling: Line Styling](#line-styling)\n",
    "    * [MPL Styling: Colourmap](#line-styling-colourmap)\n",
    "7. [Seaborn](#seaborn)\n",
    "   * [Basic Plots](#seaborn-basics)\n",
    "   * [Other Plots](#seaborn-others)"
   ]
  },
  {
   "cell_type": "markdown",
   "metadata": {},
   "source": [
    "# Plotting libraries\n",
    "\n",
    "We mention a few plotting libraries:\n",
    "\n",
    "- [Matplotlib/pyplot](https://matplotlib.org/3.1.1/gallery/index.html) is for basic plotting, it is the classic library that can do 80% of your plots\n",
    "    - [Pandas](https://pandas.pydata.org/pandas-docs/stable/user_guide/visualization.html) wraps this to make it easier with dataframes\n",
    "    - [Geopandas](https://geopandas.org/gallery/index.html) adds maps\n",
    "    - [Seaborn](https://seaborn.pydata.org/examples/index.html) is for statistical visualization \n",
    "- [Holoviews](http://holoviews.org/gallery/index.html) - very high-level tool for interactive dashboards and large data (when using datashader backend). Not as well-suited to making figures for publication.\n",
    "    - [Bokeh](https://docs.bokeh.org/en/latest/docs/gallery.html) is usefull for interactive plotting but because it's browser based, it can struggle with large amounts of data, unless you use server-based plotting. We will use it as a Holoviews backend but it's worth looking into by itself.\n",
    "    - Datashader is useul for plotting large quantity of data points. We will use it as a holoview backend\n",
    "\n",
    "But the important thing is to get good at one so you can easily produce plots. Matplotlib is the default choice unless you expect to need interactivity or large datasets.\n",
    "\n",
    "Most plotting workflows start by finding an example and modifying it. For that we browse the galleries."
   ]
  },
  {
   "cell_type": "code",
   "execution_count": null,
   "metadata": {},
   "outputs": [],
   "source": []
  },
  {
   "cell_type": "markdown",
   "metadata": {},
   "source": [
    " <div class=\"alert alert-success\">\n",
    "  <h2>Exercise</h2>\n",
    "\n",
    "  A lot of the work of programming is knowing what to look for and how to look. This is a bit like riding a bike - it's a habit you need to build. We sometimes have blindspots where we don't know the right jargon, or stop because we get tired or overwhelmed with unfamiliar information.\n",
    "    \n",
    "  For this excercise you've been asked to remake this plot in python but you need somewhere to start coding. Find the matplotlib and seaborn galleries, then look through for similar plot. Copy the code into a new cell and you are done.\n",
    "    \n",
    "  If you're unsure, please expand the hints for keywords and tips of where and how to look.\n",
    "    \n",
    "  <img src=\"./exercise1.png\"></img>\n",
    "      \n",
    "\n",
    "  <details>\n",
    "  <summary><b>→ Hints</b></summary>\n",
    "\n",
    "  * Keywords are important, you are looking for a `heatmap` that is `categorical`\n",
    "  * You want to go to google `matplotlib gallery` or `seaborn gallery`\n",
    "  * With information overload don't get bogged down, try a quick scan of the whole page first or a Ctrl-F\n",
    " \n",
    "  </details>\n",
    "\n",
    "  <br/>\n",
    "  <br/>\n",
    "  <details>\n",
    "  <summary>\n",
    "    <b>→ Solution</b>\n",
    "  </summary>\n",
    "\n",
    "- [matplotlib annotated heatmap](https://matplotlib.org/3.1.1/gallery/images_contours_and_fields/image_annotated_heatmap.html#sphx-glr-gallery-images-contours-and-fields-image-annotated-heatmap-py)\n",
    "- [seaborn pairwise correlations](https://seaborn.pydata.org/examples/many_pairwise_correlations.html)\n",
    "- many more\n",
    "\n",
    "If you found an example and copied the code:  congratulations, you are now a software developer.\n",
    "    \n",
    "<img width=\"200\" src=\"https://effectivesoftwaredesign.files.wordpress.com/2016/05/copying_and_pasting.jpg?w=640\"></img>\n",
    "    \n",
    "    \n",
    "  </details>\n",
    "\n",
    "  </div>"
   ]
  },
  {
   "cell_type": "markdown",
   "metadata": {},
   "source": [
    "## 1. Matplotlib Basics <a name=\"matplotlib-basics\"></a>"
   ]
  },
  {
   "cell_type": "markdown",
   "metadata": {},
   "source": [
    "This notebook includes basic instructions about how to create different charts using the libraries Matplotlib and Seaborn. In python, we can use pandas to manipulate the data and import the libraries matplotlib and seaborn to create the charts.\n",
    "\n",
    "\n",
    "**Note:** <code>%matplotlib inline</code> This line of code sets the matplotlib backend to inline. More information about this [here](https://ipython.readthedocs.io/en/stable/interactive/plotting.html).\n",
    "\n",
    "From the official documentation:\n",
    "\n",
    "> With this backend, the output of plotting commands is displayed inline within frontends like the Jupyter notebook, directly below the code cell that produced it. The resulting plots will then also be stored in the notebook document.\n"
   ]
  },
  {
   "cell_type": "markdown",
   "metadata": {},
   "source": [
    "## 2. Importing libraries <a name=\"libraries\"></a>"
   ]
  },
  {
   "cell_type": "code",
   "execution_count": null,
   "metadata": {},
   "outputs": [],
   "source": [
    "# Good practice to use short but clear aliases for the imported libraries\n",
    "import pandas as pd\n",
    "import seaborn as sns\n",
    "import matplotlib.pyplot as plt\n",
    "import numpy as np \n",
    "# Magic Function\n",
    "%matplotlib inline\n",
    "# Hide all warnings\n",
    "import warnings\n",
    "warnings.filterwarnings('ignore') # warnings.filterwarnings(action='once')"
   ]
  },
  {
   "cell_type": "markdown",
   "metadata": {},
   "source": [
    "## 3. Dataset <a name=\"dataset\"></a>"
   ]
  },
  {
   "cell_type": "markdown",
   "metadata": {},
   "source": [
    "For this section, we will work with the Iris dataset. A classic in Machine Learning and data visualisation!\n",
    "This is a small but popular dataset from 1936. Each row represents an iris flower, including its species and dimensions of its sepal and petals in centimetres.\n",
    "\n",
    "More information about the dataset can be found [here](https://archive.ics.uci.edu/ml/datasets/iris). Source image from [Wikipedia](https://en.wikipedia.org/wiki/Iris_(plant)). Some of the examples were inspired from this [tutorial](https://github.com/TannerGilbert/Tutorials/blob/master/Introduction%20to%20Data%20Visualization%20in%C2%A0Python/Introduction%20to%20Data%20Visualization%20in%C2%A0Python.ipynb) which is licensed under [MIT](https://github.com/TannerGilbert/Tutorials/blob/master/LICENSE).\n",
    "\n",
    "This is an Iris (plant):\n",
    "\n",
    "<img src=\"iris_measurements.png\" width=\"200\"/>"
   ]
  },
  {
   "cell_type": "code",
   "execution_count": null,
   "metadata": {},
   "outputs": [],
   "source": [
    "# The library seaborn provides an easy way to test some datasets\n",
    "# Check the list of datasets available\n",
    "print(sns.get_dataset_names())"
   ]
  },
  {
   "cell_type": "code",
   "execution_count": null,
   "metadata": {},
   "outputs": [],
   "source": [
    "# For this notebook we will use the popular iris dataset. We can load it using the seaborn library\n",
    "iris = sns.load_dataset(\"iris\")\n",
    "# By default the function head() shows only the first 5 rows\n",
    "iris"
   ]
  },
  {
   "cell_type": "code",
   "execution_count": null,
   "metadata": {},
   "outputs": [],
   "source": [
    "# We might want to select only the numeric columns\n",
    "iris_numeric = iris._get_numeric_data()\n",
    "\n",
    "# and an unbalanced one\n",
    "iris_unbalanced = iris[iris.petal_width>0.25]"
   ]
  },
  {
   "cell_type": "markdown",
   "metadata": {},
   "source": [
    "## 4. Scatterplots <a name=\"scatter\"></a>"
   ]
  },
  {
   "cell_type": "markdown",
   "metadata": {},
   "source": [
    "A scatter plot uses dots to represent values for two different dimensions. The position of each dot on the horizontal and vertical axis indicates values for an individual data point. Scatter plots are used to observe relationships between variables."
   ]
  },
  {
   "cell_type": "code",
   "execution_count": null,
   "metadata": {},
   "outputs": [],
   "source": [
    "iris[[\"sepal_length\", \"sepal_width\"]]"
   ]
  },
  {
   "cell_type": "markdown",
   "metadata": {},
   "source": [
    "Note: there are a few inferfaces to matplotlib, we will be using [pyplot](https://matplotlib.org/3.1.1/tutorials/introductory/pyplot.html) which is a high level interface"
   ]
  },
  {
   "cell_type": "code",
   "execution_count": null,
   "metadata": {},
   "outputs": [],
   "source": [
    "help(plt)"
   ]
  },
  {
   "cell_type": "code",
   "execution_count": null,
   "metadata": {},
   "outputs": [],
   "source": [
    "help(plt.scatter)"
   ]
  },
  {
   "cell_type": "code",
   "execution_count": null,
   "metadata": {},
   "outputs": [],
   "source": [
    "# scatter the sepal.length against the sepal.width\n",
    "plt.scatter(x=iris[\"sepal_length\"], y=iris[\"sepal_width\"])\n",
    "# set a title and labels\n",
    "plt.title(\"Iris Dataset\")\n",
    "plt.xlabel(\"sepal length\")\n",
    "plt.ylabel(\"sepal width\")"
   ]
  },
  {
   "cell_type": "code",
   "execution_count": null,
   "metadata": {},
   "outputs": [],
   "source": []
  },
  {
   "cell_type": "markdown",
   "metadata": {},
   "source": [
    "At the moment, it is hard to know which properties belong to different varieties or classes. By adding some colour or some styling to each data point we can add more meaning the last chart."
   ]
  },
  {
   "cell_type": "markdown",
   "metadata": {},
   "source": [
    "### MPL Styling: Adding different markers <a name=\"scatter-styling-markers\"/>"
   ]
  },
  {
   "cell_type": "code",
   "execution_count": null,
   "metadata": {},
   "outputs": [],
   "source": [
    "group1 = iris[iris[\"species\"] == \"setosa\"]\n",
    "group2 = iris[iris[\"species\"] == \"versicolor\"]\n",
    "group3 = iris[iris[\"species\"] == \"virginica\"]\n",
    "\n",
    "# scatter the sepal_length against the sepal_width\n",
    "# By adding a marker MPL will assign some default colours\n",
    "plt.scatter(x=group1[\"sepal_length\"], y=group1[\"sepal_width\"], marker=\"^\")\n",
    "plt.scatter(group2[\"sepal_length\"], group2[\"sepal_width\"], marker=\"x\")\n",
    "plt.scatter(group3[\"sepal_length\"], group3[\"sepal_width\"], marker=\"+\")\n",
    "\n",
    "# set a title and labels\n",
    "plt.title(\"Iris Dataset\")\n",
    "plt.xlabel(\"sepal length\")\n",
    "plt.ylabel(\"sepal width\")\n",
    "plt.show()"
   ]
  },
  {
   "cell_type": "markdown",
   "metadata": {},
   "source": [
    "### MPL Styling: Customise Colour <a name=\"scatter-styling-color\"/>"
   ]
  },
  {
   "cell_type": "markdown",
   "metadata": {},
   "source": [
    "The basic colours available are:\n",
    "\n",
    "- b: blue\n",
    "- g: green\n",
    "- r: red\n",
    "- c: cyan\n",
    "- m: magenta\n",
    "- y: yellow\n",
    "- k: black\n",
    "- w: white\n",
    "\n",
    "We can either use a single letter or write the color name. Let's use subplots and some add some styling."
   ]
  },
  {
   "cell_type": "code",
   "execution_count": null,
   "metadata": {},
   "outputs": [],
   "source": [
    "group1 = iris[iris[\"species\"] == \"setosa\"]\n",
    "group2 = iris[iris[\"species\"] == \"versicolor\"]\n",
    "group3 = iris[iris[\"species\"] == \"virginica\"]\n",
    "\n",
    "# scatter the sepal_length against the sepal_width\n",
    "# By adding a marker MPL will assign some default colours\n",
    "plt.scatter(x=group1[\"sepal_length\"], y=group1[\"sepal_width\"],color='purple')\n",
    "plt.scatter(group2[\"sepal_length\"], group2[\"sepal_width\"], c=\"blue\")\n",
    "plt.scatter(group3[\"sepal_length\"], group3[\"sepal_width\"], c=\"green\")\n",
    "\n",
    "# set a title and labels\n",
    "plt.title(\"Iris Dataset\")\n",
    "plt.xlabel(\"sepal length\")\n",
    "plt.ylabel(\"sepal width\")"
   ]
  },
  {
   "cell_type": "code",
   "execution_count": null,
   "metadata": {},
   "outputs": [],
   "source": [
    "basic_colors = {\"setosa\": \"red\", \"versicolor\": \"green\", \"virginica\": \"blue\"}"
   ]
  },
  {
   "cell_type": "code",
   "execution_count": null,
   "metadata": {},
   "outputs": [],
   "source": [
    "# Shape returns the number of rows and columns in the dataset\n",
    "rows, columns = iris.shape\n",
    "# Let's create a function that receives a color dictionary as a parameter\n",
    "# Tip: It is good practice to reuse code as much as possible. Functions in Python are perfect for that !\n",
    "def display_scatter(colors):\n",
    "    # create a figure and axis\n",
    "    fig, ax = plt.subplots()\n",
    "    \n",
    "    for species in colors.keys():\n",
    "        df_species = iris[iris.species == species]\n",
    "        ax.scatter(\n",
    "            df_species[\"sepal_length\"],\n",
    "            df_species[\"sepal_width\"],\n",
    "            color=colors[species],\n",
    "            label=species\n",
    "        )\n",
    "\n",
    "    # set a title and labels\n",
    "    ax.set_title(\"Iris Dataset\")\n",
    "    ax.set_xlabel(\"sepal length\")\n",
    "    ax.set_ylabel(\"sepal width\")\n",
    "    plt.legend()"
   ]
  },
  {
   "cell_type": "markdown",
   "metadata": {},
   "source": [
    "**Note:** Gray shades can be given as a string encoding a float in the 0-1 range. Ranging from black to white."
   ]
  },
  {
   "cell_type": "code",
   "execution_count": null,
   "metadata": {},
   "outputs": [],
   "source": [
    "gray_colors = {\"setosa\": \"0\", \"versicolor\": \"0.5\", \"virginica\": \"0.85\"}\n",
    "display_scatter(gray_colors)"
   ]
  },
  {
   "cell_type": "markdown",
   "metadata": {},
   "source": [
    "We can also specify custom colours in hexadecimal format. More information about the colour API [here](https://matplotlib.org/2.0.2/api/colors_api.html)."
   ]
  },
  {
   "cell_type": "code",
   "execution_count": null,
   "metadata": {},
   "outputs": [],
   "source": [
    "# Create custom color dictionary mapping the specie with a hex colour\n",
    "custom_colors = {\"setosa\": \"#7F58AF\", \"versicolor\": \"#64C5EB\", \"virginica\": \"#E84D8A\"}\n",
    "display_scatter(custom_colors)"
   ]
  },
  {
   "cell_type": "markdown",
   "metadata": {},
   "source": [
    "#### Scatterplot Matrices\n",
    "\n",
    "Sometimes you might want to plot a scatter matrix which allows you to plot a grid of pairwise relationships in a dataset."
   ]
  },
  {
   "cell_type": "code",
   "execution_count": null,
   "metadata": {},
   "outputs": [],
   "source": []
  },
  {
   "cell_type": "code",
   "execution_count": null,
   "metadata": {},
   "outputs": [],
   "source": [
    "from pandas.plotting import scatter_matrix\n",
    "\n",
    "fig, ax = plt.subplots(figsize=(10, 10))\n",
    "scatter_matrix(iris, alpha=1, ax=ax)\n",
    "plt.show()"
   ]
  },
  {
   "cell_type": "markdown",
   "metadata": {},
   "source": [
    "## 5. Bar Chart <a name=\"bar\"/>\n",
    "\n",
    "You may have gathered that charts in pyplot are plt.`name`, but we still need to know the arguments. What are the arguments for a bar chart?"
   ]
  },
  {
   "cell_type": "code",
   "execution_count": null,
   "metadata": {},
   "outputs": [],
   "source": [
    "help(plt.bar)"
   ]
  },
  {
   "cell_type": "code",
   "execution_count": null,
   "metadata": {},
   "outputs": [],
   "source": [
    "# count the occurrence of each species\n",
    "data = iris_unbalanced[\"species\"].value_counts()\n",
    "data"
   ]
  },
  {
   "cell_type": "code",
   "execution_count": null,
   "metadata": {},
   "outputs": [],
   "source": [
    "# create a figure and axis\n",
    "fig, ax = plt.subplots()\n",
    "# get x and y data\n",
    "species = data.index\n",
    "frequency = data.values\n",
    "# create bar chart\n",
    "ax.bar(species, frequency)\n",
    "# set title and labels\n",
    "ax.set_title(\"Frequency of Iris flowers by species\")\n",
    "ax.set_xlabel(\"Species\")\n",
    "ax.set_ylabel(\"Frequency\")"
   ]
  },
  {
   "cell_type": "code",
   "execution_count": null,
   "metadata": {},
   "outputs": [],
   "source": [
    "# Or you can use the pandas wrapper\n",
    "iris_unbalanced[\"species\"].value_counts().plot.bar()"
   ]
  },
  {
   "cell_type": "code",
   "execution_count": null,
   "metadata": {},
   "outputs": [],
   "source": [
    "# Let's create another function to display our Bar chart\n",
    "def display_bar(dataset, colors):\n",
    "    # create a figure and axis\n",
    "    fig, ax = plt.subplots()\n",
    "    # count the occurrence of each specie\n",
    "    data = dataset[\"species\"].value_counts()\n",
    "    print(data)\n",
    "\n",
    "    # For loop to set a color per data point\n",
    "    for i in range(len(data)):\n",
    "        # get x and y data\n",
    "        species = data.index[i]\n",
    "        frequency = data.loc[species]\n",
    "        ax.bar(species, frequency, color=colors[species])\n",
    "\n",
    "    # set title and labels\n",
    "    ax.set_title(\"Frequency of Iris flowers by specie\")\n",
    "    ax.set_xlabel(\"Species\")\n",
    "    ax.set_ylabel(\"Frequency\")"
   ]
  },
  {
   "cell_type": "code",
   "execution_count": null,
   "metadata": {},
   "outputs": [],
   "source": []
  },
  {
   "cell_type": "code",
   "execution_count": null,
   "metadata": {},
   "outputs": [],
   "source": [
    "display_bar(iris_unbalanced, basic_colors)\n",
    "display_bar(iris_unbalanced, gray_colors)\n",
    "display_bar(iris_unbalanced, custom_colors)"
   ]
  },
  {
   "cell_type": "markdown",
   "metadata": {},
   "source": [
    "Now let's try to create a more useful bar chart. Imagine that you are interested to see the frequency of iris flowers which have a minimum length (given in centimeters)"
   ]
  },
  {
   "cell_type": "code",
   "execution_count": null,
   "metadata": {},
   "outputs": [],
   "source": [
    "def iris_minimum_sepal_length(length_cm):\n",
    "    # use reset index to map correctly the new indices for the new dataset we are creating\n",
    "    return iris[iris[\"sepal_length\"] >= length_cm].reset_index(drop=True)\n",
    "\n",
    "iris_minimum_sepal_length(5)"
   ]
  },
  {
   "cell_type": "code",
   "execution_count": null,
   "metadata": {},
   "outputs": [],
   "source": [
    "display_bar(iris_minimum_sepal_length(5), custom_colors)"
   ]
  },
  {
   "cell_type": "code",
   "execution_count": null,
   "metadata": {},
   "outputs": [],
   "source": [
    "display_bar(iris_minimum_sepal_length(7), custom_colors)"
   ]
  },
  {
   "cell_type": "markdown",
   "metadata": {},
   "source": [
    "# 6. Histograms <a name=\"histogram\"/>"
   ]
  },
  {
   "cell_type": "markdown",
   "metadata": {},
   "source": [
    "According to [Wikipedia](https://en.wikipedia.org/wiki/Histogram): \n",
    "> A histogram is an approximate representation of the distribution... To construct a histogram, the first step is to \"bin\" (or \"bucket\") the range of values—that is, divide the entire range of values into a series of intervals—and then count how many values fall into each interval. The bins are usually specified as consecutive, non-overlapping intervals of a variable. The bins (intervals) must be adjacent, and are often (but not required to be) of equal size."
   ]
  },
  {
   "cell_type": "code",
   "execution_count": null,
   "metadata": {},
   "outputs": [],
   "source": [
    "# Fix the seed for reproducibility\n",
    "np.random.seed(2020)\n",
    "\n",
    "# Let's generate a random list of numbers with a normal distribution\n",
    "x = np.random.normal(size=1000)\n",
    "\n",
    "# Let's use the pyplot function for a histogram\n",
    "plt.hist(x, bins=10)\n",
    "plt.show()"
   ]
  },
  {
   "cell_type": "markdown",
   "metadata": {},
   "source": [
    "\n",
    "<div class=\"alert alert-success\">\n",
    "<h3>Exercise</h3>\n",
    "\n",
    "Let's practice some of the key concepts we have learned so far. Using the same data in <code>x</code> for the histogram. Please complete the code below\n",
    "    \n",
    "```python\n",
    "# 1. Create a function that receives the number of bins and allow to plot a histogram\n",
    "\n",
    "\n",
    "def plot_hist(x, num_bins):\n",
    "    # COMPLETE CODE HERE\n",
    "    print(\"Complete code\")\n",
    "\n",
    "\n",
    "# 2. Modify the last function to plot the histogram for values greater than the standard deviation of the data (`x.std()`).\n",
    "def plot_hist_gt_std(x, num_bins):\n",
    "    # COMPLETE CODE HERE\n",
    "    print(\"Complete code\")\n",
    "\n",
    "```\n",
    "\n",
    "<details>\n",
    "<summary><b>→ Hints</b></summary>\n",
    "\n",
    "* You already have x from above\n",
    "* To get rows greater than 1 std dev, look at the `iris_minimum_sepal_length` code above. `df[df<df.std()]`\n",
    "* Call the functions above with x, and the number of bins\n",
    "\n",
    "</details>\n",
    "\n",
    "\n",
    "<details>\n",
    "<summary>\n",
    "<b>→ Solution</b>\n",
    "</summary>\n",
    "\n",
    "```python\n",
    "# 1. Create a function that receives the number of bins and allows to plot a histogram\n",
    "def plot_hist(x, num_bins):\n",
    "    print(f\"Histogram with {num_bins} bins\")\n",
    "    plt.hist(x, bins=num_bins)\n",
    "    plt.show()\n",
    "\n",
    "\n",
    "# 2. Modify the last function to plot the histogram for values greater than the standard deviation of the data.\n",
    "def plot_hist_gt_std(x, num_bins):\n",
    "    print(f\"Histogram for values greater than {x.std()}\")\n",
    "    # You can use conditional selection in numpy like this:\n",
    "    above_std = x[x > x.std()]\n",
    "    plt.hist(above_std, bins=num_bins)\n",
    "    plt.show()\n",
    "\n",
    "\n",
    "\n",
    "# Let's test this new functions\n",
    "plot_hist(x, 10)\n",
    "plot_hist_gt_std(x, 10)\n",
    "\n",
    "```\n",
    "\n",
    "</details>\n",
    "\n",
    "</div>"
   ]
  },
  {
   "cell_type": "code",
   "execution_count": null,
   "metadata": {},
   "outputs": [],
   "source": []
  },
  {
   "cell_type": "markdown",
   "metadata": {},
   "source": [
    "## Line Chart <a name=\"line\"/>\n",
    "\n",
    "Suprisingly it's not plt.line, but plt.plot:"
   ]
  },
  {
   "cell_type": "code",
   "execution_count": null,
   "metadata": {},
   "outputs": [],
   "source": [
    "plt.plot(iris.index, iris['sepal_length'], label=\"sepal_length\")\n",
    "plt.plot(iris.index, iris['sepal_width'], color=\"green\", label=\"sepal_width\")\n",
    "plt.legend()"
   ]
  },
  {
   "cell_type": "markdown",
   "metadata": {},
   "source": [
    "Or using the pandas wrapper:"
   ]
  },
  {
   "cell_type": "code",
   "execution_count": null,
   "metadata": {},
   "outputs": [],
   "source": []
  },
  {
   "cell_type": "code",
   "execution_count": null,
   "metadata": {},
   "outputs": [],
   "source": [
    "iris_numeric.plot.line()"
   ]
  },
  {
   "cell_type": "markdown",
   "metadata": {},
   "source": [
    "# MPL Line Styling <a name=\"line-styling\"/>"
   ]
  },
  {
   "cell_type": "markdown",
   "metadata": {},
   "source": [
    "Now let's do some styling:\n",
    "\n",
    "More information about linestyling [here](https://matplotlib.org/3.1.0/gallery/lines_bars_and_markers/linestyles.html)"
   ]
  },
  {
   "cell_type": "code",
   "execution_count": null,
   "metadata": {},
   "outputs": [],
   "source": [
    "plt.plot(iris['sepal_length'], linestyle=\"dotted\")\n",
    "plt.plot(iris['sepal_width'], linestyle=\"--\", color=\"green\")\n",
    "plt.plot(iris['petal_length'], linestyle=\"-\", color=\"red\")\n",
    "plt.plot(iris['petal_width'], linestyle=\":\", color=\"c\", linewidth=2, alpha=0.5, marker='x')\n",
    "plt.legend()"
   ]
  },
  {
   "cell_type": "markdown",
   "metadata": {},
   "source": [
    "# Pandas plotting\n",
    "\n",
    "Pandas will handle a lot of the work for you if your dataframe is already clean. This is great if it works, so don't be afraid to try it first."
   ]
  },
  {
   "cell_type": "code",
   "execution_count": null,
   "metadata": {},
   "outputs": [],
   "source": [
    "iris.plot()"
   ]
  },
  {
   "cell_type": "code",
   "execution_count": null,
   "metadata": {},
   "outputs": [],
   "source": [
    "iris.plot.hist()"
   ]
  },
  {
   "cell_type": "code",
   "execution_count": null,
   "metadata": {},
   "outputs": [],
   "source": [
    "iris.plot.scatter('sepal_length', 'sepal_width')"
   ]
  },
  {
   "cell_type": "markdown",
   "metadata": {},
   "source": [
    "## Subplots\n",
    "\n",
    "This lets us combine multiple plots into one"
   ]
  },
  {
   "cell_type": "code",
   "execution_count": null,
   "metadata": {},
   "outputs": [],
   "source": [
    "xi = range(10)\n",
    "yi = range(10)\n",
    "\n",
    "# Start a figure, with a certain size\n",
    "plt.figure(figsize=(8, 8))\n",
    "\n",
    "# For 2 rows and 2 columns of subplots, use subplot 1\n",
    "plt.subplot(2, 2, 1)\n",
    "plt.plot(xi, yi)\n",
    "\n",
    "\n",
    "# activate the next plot\n",
    "plt.subplot(2, 2, 2)\n",
    "plt.plot(xi, yi)\n",
    "\n",
    "plt.subplot(2, 2, 3)\n",
    "plt.plot(xi, yi)\n",
    "plt.title('Plot 3')\n",
    "plt.xlabel('x')\n",
    "plt.ylabel('y')\n",
    "\n",
    "plt.subplot(2, 2, 4)\n",
    "plt.plot(xi, yi)\n",
    "\n",
    "plt.suptitle('The super title')\n",
    "plt.show()"
   ]
  },
  {
   "cell_type": "markdown",
   "metadata": {},
   "source": [
    "### MPL Styling: Adding Colormaps  and subplots<a name=\"line-styling-colourmap\"/>\n",
    "\n",
    "Sometimes you want to change to colors for a predefined color palette. MPL supports many color maps that can be specified in any chart using the parameter <code>cmap</code>\n",
    "\n",
    "We are also using subplots here\n",
    "\n",
    "Find the complete list of supported colormaps in the [official documentation](https://matplotlib.org/3.1.0/tutorials/colors/colormaps.html)."
   ]
  },
  {
   "cell_type": "code",
   "execution_count": null,
   "metadata": {},
   "outputs": [],
   "source": [
    "# Examples using some colormaps available\n",
    "colormap_list = [\"viridis\", \"magma\", \"plasma\", \"rainbow\", \"Dark2\", \"hsv\"]\n",
    "\n",
    "\n",
    "def plot_lines(ax, cmap, df):\n",
    "    df.plot(kind=\"line\", cmap=cmap, ax=ax)\n",
    "\n",
    "\n",
    "def plot_multiple_lines(df, colormap_list):\n",
    "    fig, axes = plt.subplots(nrows=3, ncols=2, figsize=(12, 12))\n",
    "    # Axes.flat is one the methods that allows iterating over the axes in a subplot\n",
    "    for idx, ax in enumerate(axes.flat):\n",
    "        cmap = colormap_list[idx]\n",
    "        plot_lines(ax, cmap, df)\n",
    "        plt.title(cmap)\n",
    "    plt.tight_layout()\n",
    "    plt.show()"
   ]
  },
  {
   "cell_type": "code",
   "execution_count": null,
   "metadata": {},
   "outputs": [],
   "source": [
    "plot_multiple_lines(iris, colormap_list)"
   ]
  },
  {
   "cell_type": "markdown",
   "metadata": {},
   "source": [
    "\n",
    "<div class=\"alert alert-success\">\n",
    "<h2>Exercise</h2>\n",
    "\n",
    "1. Try different values of colormaps for the <code>plot_multiple_lines</code>\n",
    "2. Modify the function <code>plot_multiple_lines</code> so it shows the plots in 3 columns and 2 rows.\n",
    "\n",
    "\n",
    "</div>\n",
    "\n"
   ]
  },
  {
   "cell_type": "markdown",
   "metadata": {},
   "source": [
    "# Seaborn <a name=\"seaborn\"/>\n",
    "\n",
    "From the [Seaborn documentation](https://seaborn.pydata.org/)\n",
    "\n",
    "> Seaborn is a Python data visualization library based on matplotlib. It provides a high-level interface for drawing attractive and informative statistical graphics.\n",
    "\n",
    "Given that this library is based on matplotlib, it is possible to style the plots using some of the styling tricks from matplotlib. However, it provides more advanced plots with less code.\n"
   ]
  },
  {
   "cell_type": "markdown",
   "metadata": {},
   "source": [
    "## Seaborn Basic Plots <a name=\"seaborn-basics\"/>\n",
    "\n",
    "We will start by plotting some of the charts that we have already used in this notebook. We will use some of the example code from the official documentation."
   ]
  },
  {
   "cell_type": "code",
   "execution_count": null,
   "metadata": {},
   "outputs": [],
   "source": [
    "%matplotlib inline"
   ]
  },
  {
   "cell_type": "markdown",
   "metadata": {},
   "source": [
    "### Scatter plot"
   ]
  },
  {
   "cell_type": "code",
   "execution_count": null,
   "metadata": {},
   "outputs": [],
   "source": [
    "sns.scatterplot(x='sepal_width', y='sepal_length', data=iris)"
   ]
  },
  {
   "cell_type": "markdown",
   "metadata": {},
   "source": [
    "### Line plot"
   ]
  },
  {
   "cell_type": "code",
   "execution_count": null,
   "metadata": {},
   "outputs": [],
   "source": [
    "sns.lineplot(data=iris_numeric)\n",
    "plt.show()\n",
    "\n",
    "# Notice how seaborn adds by default color and line styles"
   ]
  },
  {
   "cell_type": "markdown",
   "metadata": {},
   "source": [
    "### Scatter / Pairplot"
   ]
  },
  {
   "cell_type": "code",
   "execution_count": null,
   "metadata": {},
   "outputs": [],
   "source": [
    "import seaborn as sns\n",
    "\n",
    "sns.set(style=\"ticks\")\n",
    "# Pairplot is the equivalent to scatter plots in MPL\n",
    "sns.pairplot(iris, hue=\"species\")\n",
    "plt.show()"
   ]
  },
  {
   "cell_type": "markdown",
   "metadata": {},
   "source": [
    "# Other plots <a name=\"seaborn-others\"/>"
   ]
  },
  {
   "cell_type": "markdown",
   "metadata": {},
   "source": [
    "### Boxplot"
   ]
  },
  {
   "cell_type": "code",
   "execution_count": null,
   "metadata": {},
   "outputs": [],
   "source": [
    "# This plot shows the boxplots w.r.t species and sepal length\n",
    "df = iris[(iris[\"sepal_length\"] >= 2)]\n",
    "sns.boxplot(\"sepal_length\", \"species\", data=df)\n",
    "plt.show()"
   ]
  },
  {
   "cell_type": "markdown",
   "metadata": {},
   "source": [
    "### Multiple Linear Regression"
   ]
  },
  {
   "cell_type": "code",
   "execution_count": null,
   "metadata": {},
   "outputs": [],
   "source": [
    "# Plot sepal width as a function of sepal length\n",
    "g = sns.lmplot(x=\"sepal_length\", y=\"sepal_width\", hue=\"species\", height=5, data=iris)\n",
    "\n",
    "# Use more informative axis labels than are provided by default\n",
    "g.set_axis_labels(\"Sepal length\", \"Sepal width\")\n",
    "plt.show()"
   ]
  },
  {
   "cell_type": "markdown",
   "metadata": {},
   "source": [
    "#### Heatmaps\n",
    "\n",
    "Seaborn have interesting functions to create useful plots such as heatmap"
   ]
  },
  {
   "cell_type": "code",
   "execution_count": null,
   "metadata": {},
   "outputs": [],
   "source": [
    "# This heatmap shows the correlation between variables for the iris dataset in just one line of code!\n",
    "sns.heatmap(iris.corr(), annot=True)\n",
    "plt.show()"
   ]
  },
  {
   "cell_type": "markdown",
   "metadata": {},
   "source": [
    "Seaborn provides many more useful plots.\n",
    "\n",
    "Check some of the examples [here](https://seaborn.pydata.org/tutorial)"
   ]
  },
  {
   "cell_type": "markdown",
   "metadata": {},
   "source": [
    "## References and further reading\n",
    "The following sources have been used in the creation of this notebook:\n",
    "- [Matplotlib documentation](https://matplotlib.org/3.2.2/contents.html)\n",
    "- [Seaborn documentation](https://seaborn.pydata.org/)\n",
    "- [Introduction to Data Visualization in Python](https://github.com/TannerGilbert/Tutorials/blob/master/Introduction%20to%20Data%20Visualization%20in%C2%A0Python/Introduction%20to%20Data%20Visualization%20in%C2%A0Python.ipynb)\n",
    "\n",
    "Many more examples:\n",
    "\n",
    "- [Seaborn examples](https://seaborn.pydata.org/examples/index.html)\n",
    "- [Matplotlib examples](https://matplotlib.org/3.2.2/tutorials/introductory/sample_plots.html)\n",
    "- [3D Plotting](https://towardsdatascience.com/an-easy-introduction-to-3d-plotting-with-matplotlib-801561999725)"
   ]
  },
  {
   "cell_type": "code",
   "execution_count": null,
   "metadata": {},
   "outputs": [],
   "source": []
  },
  {
   "cell_type": "code",
   "execution_count": null,
   "metadata": {},
   "outputs": [],
   "source": []
  },
  {
   "cell_type": "code",
   "execution_count": null,
   "metadata": {},
   "outputs": [],
   "source": []
  },
  {
   "cell_type": "code",
   "execution_count": null,
   "metadata": {},
   "outputs": [],
   "source": []
  }
 ],
 "metadata": {
  "jupytext": {
   "encoding": "# -*- coding: utf-8 -*-",
   "formats": "ipynb,py"
  },
  "kernelspec": {
   "display_name": "deep_ml_curriculum",
   "language": "python",
   "name": "deep_ml_curriculum"
  }
 },
 "nbformat": 4,
 "nbformat_minor": 4
}
