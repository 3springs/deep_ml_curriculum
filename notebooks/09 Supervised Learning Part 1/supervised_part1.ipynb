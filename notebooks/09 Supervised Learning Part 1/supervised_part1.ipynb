{
 "cells": [
  {
   "cell_type": "markdown",
   "metadata": {
    "ExecuteTime": {
     "end_time": "2020-07-06T13:13:47.216208Z",
     "start_time": "2020-07-06T13:13:47.211457Z"
    }
   },
   "source": [
    "# Introduction\n",
    "\n",
    "This notebook provides examples of some machine learning methods used in supervised learning. Please refer to the table below to navigate through the notebook.\n",
    "\n",
    "## Table of Content\n",
    "0. [Supervised Learning](#supervised)\n",
    "1. [Libraries](#libraries)\n",
    "2. [Dataset](#dataset)\n",
    "1. [KNN](#knn)\n",
    "2. [SVM](#svm)\n",
    "3. [Decision Trees](#decision-trees)\n",
    "4. [Random Forest](#random-forest)\n",
    "5. [Boosted Trees](#boosted-trees)"
   ]
  },
  {
   "cell_type": "markdown",
   "metadata": {},
   "source": [
    "# 0. Supervised Learning <a name=\"supervised\"></a>\n",
    "\n",
    "Supervised learning is the machine learning task of learning a function that maps an input to an output based on example input-output pairs [1]. It infers a function from labelled training data consisting of a set of training examples [2].\n",
    "\n",
    "![ML](ml2.png)\n",
    "![ML](ml1.png)\n",
    "\n",
    "Sources:\n",
    "- [Wikipedia](https://en.wikipedia.org/wiki/Supervised_learning#:~:text=Supervised%20learning%20is%20the%20machine,a%20set%20of%20training%20examples.)\n",
    "-  1. Stuart J. Russell, Peter Norvig (2010) Artificial Intelligence: A Modern Approach, Third Edition, Prentice Hall ISBN 9780136042594.\n",
    "-  2. Mehryar Mohri, Afshin Rostamizadeh, Ameet Talwalkar (2012) Foundations of Machine Learning, The MIT Press ISBN 9780262018258."
   ]
  },
  {
   "cell_type": "markdown",
   "metadata": {},
   "source": [
    "## 1. Importing libraries <a name=\"libraries\"></a>"
   ]
  },
  {
   "cell_type": "code",
   "execution_count": 1,
   "metadata": {
    "ExecuteTime": {
     "end_time": "2020-07-17T10:05:14.031089Z",
     "start_time": "2020-07-17T10:05:12.915610Z"
    }
   },
   "outputs": [],
   "source": [
    "#Metrics\n",
    "from sklearn.metrics import accuracy_score\n",
    "from sklearn.metrics import confusion_matrix\n",
    "#Classifiers\n",
    "from sklearn import svm\n",
    "from sklearn import tree\n",
    "from sklearn.ensemble import RandomForestClassifier\n",
    "from sklearn.neighbors import KNeighborsClassifier\n",
    "# Preprocessing\n",
    "from sklearn import preprocessing\n",
    "from sklearn.model_selection import train_test_split\n",
    "from sklearn.preprocessing import StandardScaler\n",
    "# Data visualisation\n",
    "import seaborn as sns\n",
    "import pandas as pd\n",
    "from pathlib import Path\n",
    "import matplotlib.pyplot as plt\n",
    "from matplotlib.colors import ListedColormap\n",
    "\n",
    "%matplotlib inline\n",
    "# Hide all warnings\n",
    "import warnings\n",
    "warnings.filterwarnings('ignore') # warnings.filterwarnings(action='once')"
   ]
  },
  {
   "cell_type": "markdown",
   "metadata": {},
   "source": [
    "## 2. Dataset <a name=\"dataset\"></a>\n",
    "\n",
    "**Note:** download data from https://drive.google.com/drive/folders/1EgDN57LDuvlZAwr5-eHWB5CTJ7K9HpDP\n",
    "\n",
    "Credit to this repo: https://github.com/LukasMosser/geolink_dataset\n",
    "\n",
    "## Data Disclaimer\n",
    "\n",
    "All the data serving as an input to these notebooks was generously donated by GEOLINK  \n",
    "and is CC-by-SA 4.0 \n",
    "\n",
    "If you use this data please reference the dataset properly to give them credit for their contribution.\n",
    "\n",
    "\n",
    "## Data Preparation\n",
    "The geolink dataset we will use in this notebook has been preprocessed. You can find the process of preparation of this dataset in <code>notebook/00 Data Prep/00-mc-prep_geolink_norge_dataset.ipynb</code>\n",
    "\n",
    "## Load Dataset"
   ]
  },
  {
   "cell_type": "code",
   "execution_count": 2,
   "metadata": {
    "ExecuteTime": {
     "end_time": "2020-07-17T10:05:14.931507Z",
     "start_time": "2020-07-17T10:05:14.034320Z"
    }
   },
   "outputs": [
    {
     "data": {
      "text/html": [
       "<div>\n",
       "<style scoped>\n",
       "    .dataframe tbody tr th:only-of-type {\n",
       "        vertical-align: middle;\n",
       "    }\n",
       "\n",
       "    .dataframe tbody tr th {\n",
       "        vertical-align: top;\n",
       "    }\n",
       "\n",
       "    .dataframe thead th {\n",
       "        text-align: right;\n",
       "    }\n",
       "</style>\n",
       "<table border=\"1\" class=\"dataframe\">\n",
       "  <thead>\n",
       "    <tr style=\"text-align: right;\">\n",
       "      <th></th>\n",
       "      <th></th>\n",
       "      <th>LITHOLOGY_GEOLINK</th>\n",
       "      <th>CALI</th>\n",
       "      <th>RHOB</th>\n",
       "      <th>GR</th>\n",
       "      <th>DTC</th>\n",
       "      <th>RDEP</th>\n",
       "      <th>RMED</th>\n",
       "    </tr>\n",
       "    <tr>\n",
       "      <th>Well</th>\n",
       "      <th>DEPT</th>\n",
       "      <th></th>\n",
       "      <th></th>\n",
       "      <th></th>\n",
       "      <th></th>\n",
       "      <th></th>\n",
       "      <th></th>\n",
       "      <th></th>\n",
       "    </tr>\n",
       "  </thead>\n",
       "  <tbody>\n",
       "    <tr>\n",
       "      <th rowspan=\"5\" valign=\"top\">15_9-12</th>\n",
       "      <th>2215.917725</th>\n",
       "      <td>Shaly Silt</td>\n",
       "      <td>14.438001</td>\n",
       "      <td>2.363000</td>\n",
       "      <td>60.285748</td>\n",
       "      <td>134.253601</td>\n",
       "      <td>0.737006</td>\n",
       "      <td>0.785088</td>\n",
       "    </tr>\n",
       "    <tr>\n",
       "      <th>2216.070068</th>\n",
       "      <td>Shaly Silt</td>\n",
       "      <td>14.633000</td>\n",
       "      <td>2.340000</td>\n",
       "      <td>63.250000</td>\n",
       "      <td>129.101868</td>\n",
       "      <td>0.741000</td>\n",
       "      <td>0.840000</td>\n",
       "    </tr>\n",
       "    <tr>\n",
       "      <th>2216.222412</th>\n",
       "      <td>Shaly Silt</td>\n",
       "      <td>14.813001</td>\n",
       "      <td>2.314000</td>\n",
       "      <td>61.405998</td>\n",
       "      <td>122.476944</td>\n",
       "      <td>0.752000</td>\n",
       "      <td>0.858000</td>\n",
       "    </tr>\n",
       "    <tr>\n",
       "      <th>2216.375000</th>\n",
       "      <td>Shaly Silt</td>\n",
       "      <td>14.383001</td>\n",
       "      <td>2.293000</td>\n",
       "      <td>62.561596</td>\n",
       "      <td>116.908607</td>\n",
       "      <td>0.739962</td>\n",
       "      <td>0.857046</td>\n",
       "    </tr>\n",
       "    <tr>\n",
       "      <th>2216.527344</th>\n",
       "      <td>Shaly Silt</td>\n",
       "      <td>14.202999</td>\n",
       "      <td>2.275000</td>\n",
       "      <td>61.691055</td>\n",
       "      <td>115.390953</td>\n",
       "      <td>0.715966</td>\n",
       "      <td>0.886082</td>\n",
       "    </tr>\n",
       "    <tr>\n",
       "      <th>...</th>\n",
       "      <th>...</th>\n",
       "      <td>...</td>\n",
       "      <td>...</td>\n",
       "      <td>...</td>\n",
       "      <td>...</td>\n",
       "      <td>...</td>\n",
       "      <td>...</td>\n",
       "      <td>...</td>\n",
       "    </tr>\n",
       "    <tr>\n",
       "      <th rowspan=\"5\" valign=\"top\">7_3-1</th>\n",
       "      <th>4569.153320</th>\n",
       "      <td>Cross Bedded Sst</td>\n",
       "      <td>8.538000</td>\n",
       "      <td>2.643616</td>\n",
       "      <td>50.886002</td>\n",
       "      <td>63.442799</td>\n",
       "      <td>6.727000</td>\n",
       "      <td>6.835000</td>\n",
       "    </tr>\n",
       "    <tr>\n",
       "      <th>4569.305664</th>\n",
       "      <td>Cross Bedded Sst</td>\n",
       "      <td>8.540000</td>\n",
       "      <td>2.631049</td>\n",
       "      <td>51.219002</td>\n",
       "      <td>63.450794</td>\n",
       "      <td>6.639000</td>\n",
       "      <td>6.690000</td>\n",
       "    </tr>\n",
       "    <tr>\n",
       "      <th>4569.458008</th>\n",
       "      <td>Cross Bedded Sst</td>\n",
       "      <td>8.548000</td>\n",
       "      <td>2.626054</td>\n",
       "      <td>51.671001</td>\n",
       "      <td>63.590557</td>\n",
       "      <td>6.551000</td>\n",
       "      <td>6.520000</td>\n",
       "    </tr>\n",
       "    <tr>\n",
       "      <th>4569.610352</th>\n",
       "      <td>Cross Bedded Sst</td>\n",
       "      <td>8.552000</td>\n",
       "      <td>2.624065</td>\n",
       "      <td>51.820999</td>\n",
       "      <td>64.036644</td>\n",
       "      <td>6.464000</td>\n",
       "      <td>6.462185</td>\n",
       "    </tr>\n",
       "    <tr>\n",
       "      <th>4569.762695</th>\n",
       "      <td>Cross Bedded Sst</td>\n",
       "      <td>8.546000</td>\n",
       "      <td>2.636137</td>\n",
       "      <td>51.327999</td>\n",
       "      <td>64.322495</td>\n",
       "      <td>6.423000</td>\n",
       "      <td>6.439074</td>\n",
       "    </tr>\n",
       "  </tbody>\n",
       "</table>\n",
       "<p>1192269 rows × 7 columns</p>\n",
       "</div>"
      ],
      "text/plain": [
       "                    LITHOLOGY_GEOLINK       CALI      RHOB         GR  \\\n",
       "Well    DEPT                                                            \n",
       "15_9-12 2215.917725        Shaly Silt  14.438001  2.363000  60.285748   \n",
       "        2216.070068        Shaly Silt  14.633000  2.340000  63.250000   \n",
       "        2216.222412        Shaly Silt  14.813001  2.314000  61.405998   \n",
       "        2216.375000        Shaly Silt  14.383001  2.293000  62.561596   \n",
       "        2216.527344        Shaly Silt  14.202999  2.275000  61.691055   \n",
       "...                               ...        ...       ...        ...   \n",
       "7_3-1   4569.153320  Cross Bedded Sst   8.538000  2.643616  50.886002   \n",
       "        4569.305664  Cross Bedded Sst   8.540000  2.631049  51.219002   \n",
       "        4569.458008  Cross Bedded Sst   8.548000  2.626054  51.671001   \n",
       "        4569.610352  Cross Bedded Sst   8.552000  2.624065  51.820999   \n",
       "        4569.762695  Cross Bedded Sst   8.546000  2.636137  51.327999   \n",
       "\n",
       "                            DTC      RDEP      RMED  \n",
       "Well    DEPT                                         \n",
       "15_9-12 2215.917725  134.253601  0.737006  0.785088  \n",
       "        2216.070068  129.101868  0.741000  0.840000  \n",
       "        2216.222412  122.476944  0.752000  0.858000  \n",
       "        2216.375000  116.908607  0.739962  0.857046  \n",
       "        2216.527344  115.390953  0.715966  0.886082  \n",
       "...                         ...       ...       ...  \n",
       "7_3-1   4569.153320   63.442799  6.727000  6.835000  \n",
       "        4569.305664   63.450794  6.639000  6.690000  \n",
       "        4569.458008   63.590557  6.551000  6.520000  \n",
       "        4569.610352   64.036644  6.464000  6.462185  \n",
       "        4569.762695   64.322495  6.423000  6.439074  \n",
       "\n",
       "[1192269 rows x 7 columns]"
      ]
     },
     "execution_count": 2,
     "metadata": {},
     "output_type": "execute_result"
    }
   ],
   "source": [
    "interim_locations = Path(\"../../data/processed/geolink_norge_dataset/\")\n",
    "# Load processed dataset\n",
    "geolink = pd.read_parquet(interim_locations/'geolink_norge_well_logs_train.parquet').set_index(['Well', 'DEPT'])\n",
    "geolink"
   ]
  },
  {
   "cell_type": "code",
   "execution_count": 3,
   "metadata": {
    "ExecuteTime": {
     "end_time": "2020-07-17T10:05:14.952833Z",
     "start_time": "2020-07-17T10:05:14.934291Z"
    }
   },
   "outputs": [],
   "source": [
    "# we only take the data from CALI for X. \n",
    "X = geolink.iloc[:, 1:]\n",
    "# LITHOLOGY_GEOLINK will be our class y. \n",
    "y = geolink['LITHOLOGY_GEOLINK']"
   ]
  },
  {
   "cell_type": "code",
   "execution_count": 4,
   "metadata": {
    "ExecuteTime": {
     "end_time": "2020-07-17T10:05:15.258802Z",
     "start_time": "2020-07-17T10:05:14.955634Z"
    }
   },
   "outputs": [],
   "source": [
    "X_train, X_test, y_train, y_test = train_test_split(X, y, test_size=0.2, random_state=2020)"
   ]
  },
  {
   "cell_type": "markdown",
   "metadata": {},
   "source": [
    "## 3. K-Nearest Neighbors (KNN) <a name=\"knn\"></a>\n",
    "**Example of decision boundaries using KNN:**\n",
    "<br/>\n",
    "<div>\n",
    "    Original Dataset. The dataset which consists of three classes (red,green and blue points). (For KNN classification example.)\n",
    "<img src=\"https://upload.wikimedia.org/wikipedia/commons/c/cc/Data3classes.png\" width=300 height=300/>\n",
    "    Decision Boundaries using 1NN algorithm\n",
    "<img src=\"https://upload.wikimedia.org/wikipedia/commons/5/52/Map1NN.png\" width=300 height=300/>\n",
    "</div>\n",
    "\n",
    "Images sources: [Wikipedia](https://en.wikipedia.org/wiki/K-nearest_neighbors_algorithm#/media/File:Data3classes.png)\n",
    " distributed under [CC BY-SA 3.0](https://creativecommons.org/licenses/by-sa/3.0/) license.\n",
    "          \n",
    "The code presented in this section is inspired from the official documentation [here](https://scikit-learn.org/stable/auto_examples/neighbors/plot_classification.html#sphx-glr-auto-examples-neighbors-plot-classification-py).\n",
    "\n",
    "According to Wikipedia:\n",
    ">k-NN is a type of instance-based learning, or lazy learning, where the function is only approximated locally and all computation is deferred until function evaluation. Since this algorithm relies on distance for classification, normalizing the training data can improve its accuracy dramatically."
   ]
  },
  {
   "cell_type": "code",
   "execution_count": 5,
   "metadata": {
    "ExecuteTime": {
     "end_time": "2020-07-17T10:05:15.323483Z",
     "start_time": "2020-07-17T10:05:15.261648Z"
    }
   },
   "outputs": [
    {
     "name": "stdout",
     "output_type": "stream",
     "text": [
      "Classes: ['Shaly Silt', 'Silt', 'Cinerite', 'Sandy Silt', 'Calcareous Cement', 'Silty Sand', 'Sandstone', 'Marlstone', 'Argillaceous Limestone', 'Limestone', 'Silty Shale', 'Coal', 'Cross Bedded Sst', 'Chalk', 'Porous Limestone', 'Gap', 'Dolomite', 'Anhydrite', 'Conglomerate', 'Halite', 'Carnallite']\n",
      "Total Classes: 21\n"
     ]
    }
   ],
   "source": [
    "# Get types of Lithology\n",
    "classes = list(geolink['LITHOLOGY_GEOLINK'].unique())\n",
    "print(f'Classes: {classes}')\n",
    "print(f'Total Classes: {len(classes)}')"
   ]
  },
  {
   "cell_type": "code",
   "execution_count": 6,
   "metadata": {
    "ExecuteTime": {
     "end_time": "2020-07-17T10:05:15.330068Z",
     "start_time": "2020-07-17T10:05:15.325773Z"
    }
   },
   "outputs": [
    {
     "data": {
      "text/plain": [
       "array(['Cross Bedded Sst', 'Silt', 'Shaly Silt', ..., 'Porous Limestone',\n",
       "       'Shaly Silt', 'Shaly Silt'], dtype=object)"
      ]
     },
     "execution_count": 6,
     "metadata": {},
     "output_type": "execute_result"
    }
   ],
   "source": [
    "# Let's check the classes\n",
    "y_train.to_numpy()"
   ]
  },
  {
   "cell_type": "markdown",
   "metadata": {},
   "source": [
    "There a total of 21 classes. However, like in the majority of machine learning algorithms, it is recommended to encode target values.\n",
    "\n",
    "\n",
    "There are different encoder preprocessing functions available in the scikit learn library. For this example we will use the [<code>LabelEncoder</code>](https://scikit-learn.org/stable/modules/generated/sklearn.preprocessing.LabelEncoder.html):\n",
    "\n",
    "> Encode target labels with a value between 0 and n_classes-1. This transformer should be used to encode target values, i.e. y, and not the input X."
   ]
  },
  {
   "cell_type": "code",
   "execution_count": 7,
   "metadata": {
    "ExecuteTime": {
     "end_time": "2020-07-17T10:05:15.337796Z",
     "start_time": "2020-07-17T10:05:15.332636Z"
    }
   },
   "outputs": [
    {
     "data": {
      "text/plain": [
       "LabelEncoder()"
      ]
     },
     "execution_count": 7,
     "metadata": {},
     "output_type": "execute_result"
    }
   ],
   "source": [
    "# Label Encoder\n",
    "le = preprocessing.LabelEncoder()\n",
    "# This will help the LabelEncoder to map the classes to a corresponding value between 0 and n_classes-1\n",
    "le.fit(classes)"
   ]
  },
  {
   "cell_type": "markdown",
   "metadata": {},
   "source": [
    "The number of `neighbors` is a hyperparameter that must be set for this algorithm. We will arbitrarily select a value of 15 for this hyperparameter.\n",
    "\n",
    "> In machine learning, a hyperparameter is a parameter whose value is used to control the learning process. By contrast, the values of other parameters (typically node weights) are derived via training.\n",
    "\n",
    "Source: [Wikipedia](https://en.wikipedia.org/wiki/Hyperparameter_(machine_learning)#:~:text=In%20machine%20learning%2C%20a%20hyperparameter,weights%20are%20derived%20via%20training.)"
   ]
  },
  {
   "cell_type": "code",
   "execution_count": 8,
   "metadata": {
    "ExecuteTime": {
     "end_time": "2020-07-17T10:05:18.582606Z",
     "start_time": "2020-07-17T10:05:15.342154Z"
    }
   },
   "outputs": [
    {
     "name": "stdout",
     "output_type": "stream",
     "text": [
      "[ 8 18 17 ... 14 17 17]\n"
     ]
    },
    {
     "data": {
      "text/plain": [
       "KNeighborsClassifier(algorithm='auto', leaf_size=30, metric='minkowski',\n",
       "                     metric_params=None, n_jobs=None, n_neighbors=15, p=2,\n",
       "                     weights='uniform')"
      ]
     },
     "execution_count": 8,
     "metadata": {},
     "output_type": "execute_result"
    }
   ],
   "source": [
    "# Number of Neighbors around our datapoint to be classified\n",
    "n_neighbors = 15\n",
    "knn_classifier = KNeighborsClassifier(n_neighbors)\n",
    "# Now we will use the y values and transform the labels.\n",
    "transformed_y_train = le.transform(y_train.to_numpy())\n",
    "print(transformed_y_train)\n",
    "# Let's fit the data\n",
    "knn_classifier.fit(X_train, transformed_y_train)"
   ]
  },
  {
   "cell_type": "code",
   "execution_count": 9,
   "metadata": {
    "ExecuteTime": {
     "end_time": "2020-07-17T10:05:46.385001Z",
     "start_time": "2020-07-17T10:05:18.586161Z"
    }
   },
   "outputs": [
    {
     "name": "stdout",
     "output_type": "stream",
     "text": [
      "Accuracy: 0.5908225485837939\n"
     ]
    }
   ],
   "source": [
    "# Evaluation Time\n",
    "y_pred = knn_classifier.predict(X_test)\n",
    "y_true = le.transform(y_test.to_numpy())\n",
    "print(f'Accuracy: {accuracy_score(y_true, y_pred)}')"
   ]
  },
  {
   "cell_type": "markdown",
   "metadata": {},
   "source": [
    "We were able to predict the 21 different classes with 59% accuracy using new data. This is slightly better than random, however the accuracy is still very low. Let's train using the same algorithm and hyperparameters but this time we will normalise the data."
   ]
  },
  {
   "cell_type": "markdown",
   "metadata": {},
   "source": [
    "## Normalised Data\n",
    "\n",
    "So we talked about normalisation before, but let's remember what is the concept about:\n",
    "\n",
    "### Why normalise the data?\n",
    "\n",
    "Many machine learning (ML) algorithms attempt to find trends in the data by comparing the features of data points. However, machine learning algorithms usually struggle more in the training phase when the features are on different scales. Normalise the data will almost always improve the results for ML algorithms.\n",
    "\n",
    "There are different ways to normalised the data and usually, each method has pros and cons. For example, some methods are better at dealing with outliers than others.\n",
    "\n",
    "Two of the most popular methods for normalising the data are:\n",
    "\n",
    "* Standard Score:\n",
    "$\\frac {X-\\mu }{\\sigma }$\n",
    "\n",
    "* Min-Max Feature Scaling:\n",
    "$X'={\\frac {X-X_{\\min }}{X_{\\max }-X_{\\min }}}$\n",
    "\n",
    "More information about normalisation [here](https://en.wikipedia.org/wiki/Normalization_(statistics))"
   ]
  },
  {
   "cell_type": "code",
   "execution_count": 10,
   "metadata": {
    "ExecuteTime": {
     "end_time": "2020-07-17T10:05:46.550884Z",
     "start_time": "2020-07-17T10:05:46.386656Z"
    }
   },
   "outputs": [],
   "source": [
    "# Let's use Standard Score for this example\n",
    "normalized_df = (X-X.mean())/X.std()"
   ]
  },
  {
   "cell_type": "code",
   "execution_count": 11,
   "metadata": {
    "ExecuteTime": {
     "end_time": "2020-07-17T10:05:46.578553Z",
     "start_time": "2020-07-17T10:05:46.553237Z"
    }
   },
   "outputs": [
    {
     "data": {
      "text/plain": [
       "CALI       25.726528\n",
       "RHOB        7.274863\n",
       "GR       1469.987427\n",
       "DTC       382.908081\n",
       "RDEP    36832.062500\n",
       "RMED    46629.203125\n",
       "dtype: float64"
      ]
     },
     "execution_count": 11,
     "metadata": {},
     "output_type": "execute_result"
    }
   ],
   "source": [
    "# These are the original max values of the dataset\n",
    "X.max()"
   ]
  },
  {
   "cell_type": "code",
   "execution_count": 12,
   "metadata": {
    "ExecuteTime": {
     "end_time": "2020-07-17T10:05:46.606190Z",
     "start_time": "2020-07-17T10:05:46.580981Z"
    }
   },
   "outputs": [
    {
     "data": {
      "text/plain": [
       "CALI      4.108212\n",
       "RHOB     25.280707\n",
       "GR       40.737775\n",
       "DTC      10.199811\n",
       "RDEP    135.840999\n",
       "RMED    326.220495\n",
       "dtype: float64"
      ]
     },
     "execution_count": 12,
     "metadata": {},
     "output_type": "execute_result"
    }
   ],
   "source": [
    "# These are the original max values after normalising\n",
    "normalized_df.max()"
   ]
  },
  {
   "cell_type": "code",
   "execution_count": 13,
   "metadata": {
    "ExecuteTime": {
     "end_time": "2020-07-17T10:05:46.802650Z",
     "start_time": "2020-07-17T10:05:46.608390Z"
    }
   },
   "outputs": [],
   "source": [
    "# Let's used the normalized data for both for training and testing\n",
    "X_train, X_test, y_train, y_test = train_test_split(normalized_df, y.to_numpy(), test_size=0.2, random_state=2020)"
   ]
  },
  {
   "cell_type": "code",
   "execution_count": 14,
   "metadata": {
    "ExecuteTime": {
     "end_time": "2020-07-17T10:05:46.830655Z",
     "start_time": "2020-07-17T10:05:46.804588Z"
    }
   },
   "outputs": [
    {
     "data": {
      "text/plain": [
       "LabelEncoder()"
      ]
     },
     "execution_count": 14,
     "metadata": {},
     "output_type": "execute_result"
    }
   ],
   "source": [
    "# Label Encoder\n",
    "le = preprocessing.LabelEncoder()\n",
    "# This will help the LabelEncoder to map the classes to a corresponding value between 0 and n_classes-1\n",
    "le.fit(y.to_numpy())"
   ]
  },
  {
   "cell_type": "code",
   "execution_count": 15,
   "metadata": {
    "ExecuteTime": {
     "end_time": "2020-07-17T10:05:48.948529Z",
     "start_time": "2020-07-17T10:05:46.833152Z"
    }
   },
   "outputs": [
    {
     "data": {
      "text/plain": [
       "KNeighborsClassifier(algorithm='auto', leaf_size=30, metric='minkowski',\n",
       "                     metric_params=None, n_jobs=None, n_neighbors=15, p=2,\n",
       "                     weights='uniform')"
      ]
     },
     "execution_count": 15,
     "metadata": {},
     "output_type": "execute_result"
    }
   ],
   "source": [
    "# Normalized knn\n",
    "knn_classifier_norm = KNeighborsClassifier(n_neighbors)\n",
    "# Now we will use the y values and transform the labels.\n",
    "transformed_y_train = le.transform(y_train)\n",
    "# Let's fit the data\n",
    "knn_classifier_norm.fit(X_train, transformed_y_train)"
   ]
  },
  {
   "cell_type": "code",
   "execution_count": 16,
   "metadata": {
    "ExecuteTime": {
     "end_time": "2020-07-17T10:07:04.468982Z",
     "start_time": "2020-07-17T10:05:48.950099Z"
    }
   },
   "outputs": [
    {
     "name": "stdout",
     "output_type": "stream",
     "text": [
      "Accuracy: 0.6474624036501799\n"
     ]
    }
   ],
   "source": [
    "# Evaluation Time\n",
    "y_pred = knn_classifier_norm.predict(X_test)\n",
    "y_true = le.transform(y_test)\n",
    "print(f'Accuracy: {accuracy_score(y_true, y_pred)}')"
   ]
  },
  {
   "cell_type": "markdown",
   "metadata": {},
   "source": [
    "So now we got an accuracy of 64%. That's an improvement of 5% accuracy in the model just by normalising the data. Normalising will usually help in the training process. So it's a good practice to preprocess the data before the training phase."
   ]
  },
  {
   "cell_type": "markdown",
   "metadata": {},
   "source": [
    "#### So... What if we change the hyperparameters of a classifier such as the number of `neighbors`?\n",
    "\n",
    "We can see in the examples below how changing <code>n_neighbors</code> affect the performance of the final model.\n",
    "\n",
    "The accuracy for the same normalised model are:\n",
    "\n",
    "- n_neighbors = 10, accuracy: 65.26%\n",
    "- n_neighbors = 5,  accuracy: 65.5%\n",
    "- n_neighbors = 1,  accuracy: 63.85%\n",
    "\n",
    "We could  manually try different values until we find the best hyperparameters. Of course, this approach could be very time consuming, in particular, when we have a big feature space and want to optimise many hyperparameters. One way to solve this problem is automating the search of hyperparameters. This is also called Hyperparameter Optimisation. We will get deeper into this concept in the next sessions."
   ]
  },
  {
   "cell_type": "code",
   "execution_count": 17,
   "metadata": {
    "ExecuteTime": {
     "end_time": "2020-07-17T10:08:17.797854Z",
     "start_time": "2020-07-17T10:07:04.471400Z"
    }
   },
   "outputs": [
    {
     "name": "stdout",
     "output_type": "stream",
     "text": [
      "Accuracy: 0.6526541806805506\n"
     ]
    }
   ],
   "source": [
    "n_neighbors = 10\n",
    "# Normalized knn\n",
    "knn_classifier_norm = KNeighborsClassifier(n_neighbors)\n",
    "# Now we will use the y values and transform the labels.\n",
    "transformed_y_train = le.transform(y_train)\n",
    "# Let's fit the data\n",
    "knn_classifier_norm.fit(X_train, transformed_y_train)\n",
    "# Evaluation Time\n",
    "y_pred = knn_classifier_norm.predict(X_test)\n",
    "y_true = le.transform(y_test)\n",
    "print(f'Accuracy: {accuracy_score(y_true, y_pred)}')"
   ]
  },
  {
   "cell_type": "code",
   "execution_count": 18,
   "metadata": {
    "ExecuteTime": {
     "end_time": "2020-07-17T10:09:16.373069Z",
     "start_time": "2020-07-17T10:08:17.801063Z"
    }
   },
   "outputs": [
    {
     "name": "stdout",
     "output_type": "stream",
     "text": [
      "Accuracy: 0.6549858672951596\n"
     ]
    }
   ],
   "source": [
    "n_neighbors = 5\n",
    "# Normalized knn\n",
    "knn_classifier_norm = KNeighborsClassifier(n_neighbors)\n",
    "# Now we will use the y values and transform the labels.\n",
    "transformed_y_train = le.transform(y_train)\n",
    "# Let's fit the data\n",
    "knn_classifier_norm.fit(X_train, transformed_y_train)\n",
    "# Evaluation Time\n",
    "y_pred = knn_classifier_norm.predict(X_test)\n",
    "y_true = le.transform(y_test)\n",
    "print(f'Accuracy: {accuracy_score(y_true, y_pred)}')"
   ]
  },
  {
   "cell_type": "code",
   "execution_count": 19,
   "metadata": {
    "ExecuteTime": {
     "end_time": "2020-07-17T10:09:53.044414Z",
     "start_time": "2020-07-17T10:09:16.375531Z"
    }
   },
   "outputs": [
    {
     "name": "stdout",
     "output_type": "stream",
     "text": [
      "Accuracy: 0.6385088947973194\n"
     ]
    }
   ],
   "source": [
    "n_neighbors = 1\n",
    "# Normalized knn\n",
    "knn_classifier_norm = KNeighborsClassifier(n_neighbors)\n",
    "# Now we will use the y values and transform the labels.\n",
    "transformed_y_train = le.transform(y_train)\n",
    "# Let's fit the data\n",
    "knn_classifier_norm.fit(X_train, transformed_y_train)\n",
    "# Evaluation Time\n",
    "y_pred = knn_classifier_norm.predict(X_test)\n",
    "y_true = le.transform(y_test)\n",
    "print(f'Accuracy: {accuracy_score(y_true, y_pred)}')"
   ]
  },
  {
   "cell_type": "markdown",
   "metadata": {},
   "source": [
    "#### Exercise\n",
    "Let\\'s practice some of the key concepts we have learned so far. We will be using the iris dataset for this exercise. As a supervised task, we will try to determine the specie of an iris flower given the features: <code>sepal_length</code>,<code>sepal_width</code>,<code>petal_length</code>,<code>petal_width</code>\n",
    "\n",
    "1. Normalised and split the dataset provided (Use 70\\% of the data for training and 30\\% for testing)\n",
    "2. Transform the data using label encoding (This is done automatically by scikit-learn for some ML methods. However, it is good to get used to this concept.\n",
    "3. Train a KNN model using <code>n_neighbors</code>= 1,5,10,15\n",
    "4. Compare the accuracy of the different models"
   ]
  },
  {
   "cell_type": "code",
   "execution_count": 20,
   "metadata": {
    "ExecuteTime": {
     "end_time": "2020-07-17T10:09:53.064391Z",
     "start_time": "2020-07-17T10:09:53.046672Z"
    }
   },
   "outputs": [
    {
     "data": {
      "text/html": [
       "<div>\n",
       "<style scoped>\n",
       "    .dataframe tbody tr th:only-of-type {\n",
       "        vertical-align: middle;\n",
       "    }\n",
       "\n",
       "    .dataframe tbody tr th {\n",
       "        vertical-align: top;\n",
       "    }\n",
       "\n",
       "    .dataframe thead th {\n",
       "        text-align: right;\n",
       "    }\n",
       "</style>\n",
       "<table border=\"1\" class=\"dataframe\">\n",
       "  <thead>\n",
       "    <tr style=\"text-align: right;\">\n",
       "      <th></th>\n",
       "      <th>sepal_length</th>\n",
       "      <th>sepal_width</th>\n",
       "      <th>petal_length</th>\n",
       "      <th>petal_width</th>\n",
       "      <th>species</th>\n",
       "    </tr>\n",
       "  </thead>\n",
       "  <tbody>\n",
       "    <tr>\n",
       "      <th>0</th>\n",
       "      <td>5.1</td>\n",
       "      <td>3.5</td>\n",
       "      <td>1.4</td>\n",
       "      <td>0.2</td>\n",
       "      <td>setosa</td>\n",
       "    </tr>\n",
       "    <tr>\n",
       "      <th>1</th>\n",
       "      <td>4.9</td>\n",
       "      <td>3.0</td>\n",
       "      <td>1.4</td>\n",
       "      <td>0.2</td>\n",
       "      <td>setosa</td>\n",
       "    </tr>\n",
       "    <tr>\n",
       "      <th>2</th>\n",
       "      <td>4.7</td>\n",
       "      <td>3.2</td>\n",
       "      <td>1.3</td>\n",
       "      <td>0.2</td>\n",
       "      <td>setosa</td>\n",
       "    </tr>\n",
       "    <tr>\n",
       "      <th>3</th>\n",
       "      <td>4.6</td>\n",
       "      <td>3.1</td>\n",
       "      <td>1.5</td>\n",
       "      <td>0.2</td>\n",
       "      <td>setosa</td>\n",
       "    </tr>\n",
       "    <tr>\n",
       "      <th>4</th>\n",
       "      <td>5.0</td>\n",
       "      <td>3.6</td>\n",
       "      <td>1.4</td>\n",
       "      <td>0.2</td>\n",
       "      <td>setosa</td>\n",
       "    </tr>\n",
       "  </tbody>\n",
       "</table>\n",
       "</div>"
      ],
      "text/plain": [
       "   sepal_length  sepal_width  petal_length  petal_width species\n",
       "0           5.1          3.5           1.4          0.2  setosa\n",
       "1           4.9          3.0           1.4          0.2  setosa\n",
       "2           4.7          3.2           1.3          0.2  setosa\n",
       "3           4.6          3.1           1.5          0.2  setosa\n",
       "4           5.0          3.6           1.4          0.2  setosa"
      ]
     },
     "execution_count": 20,
     "metadata": {},
     "output_type": "execute_result"
    }
   ],
   "source": [
    "# Use seaborn to load the iris dataset\n",
    "df = sns.load_dataset('iris')\n",
    "df.head()"
   ]
  },
  {
   "cell_type": "code",
   "execution_count": 21,
   "metadata": {
    "ExecuteTime": {
     "end_time": "2020-07-17T10:09:53.069038Z",
     "start_time": "2020-07-17T10:09:53.066579Z"
    }
   },
   "outputs": [],
   "source": [
    "# Exercise\n",
    "\n",
    "# Write your code below:\n",
    "\n",
    "# 1. Normalise dataset and Split iris dataset here\n",
    "\n",
    "# 2. Transform the data using label encoding\n",
    "\n",
    "# 3. Train your models 1NN, 5NN, 10NN, 15NN\n",
    "\n",
    "# 4. Compare the accuracy of your models\n"
   ]
  },
  {
   "cell_type": "markdown",
   "metadata": {},
   "source": [
    "# 4. Support Vector Machines (SVM) <a name=\"svm\"></a>\n",
    "\n",
    "**A bit of history:**\n",
    "\n",
    "> The Support Vector Machine (SVM) algorithm is a popular machine learning tool that offers solutions for both classification and regression problems. Developed at AT&T Bell Laboratories by Vapnik with colleagues (Boser et al., 1992, Guyon et al., 1993, Vapnik et al., 1997), it presents one of the most robust prediction methods, based on the statistical learning framework.\n",
    "\n",
    "**How does it works?**\n",
    "> An SVM performs classification tasks by constructing hyperplanes in a multidimensional space that separates cases of different class labels. You can use an SVM when your data has exactly two classes, e.g. binary classification problems\n",
    "\n",
    "\n",
    "The graphic below shows how a support vector machine would choose a separating hyperplane for two classes of points in 2D. H1 does not separate the classes. H2 does, but only with a small margin. H3 separates them with the maximum margin.\n",
    "\n",
    "<img src=\"https://upload.wikimedia.org/wikipedia/commons/thumb/b/b5/Svm_separating_hyperplanes_%28SVG%29.svg/1024px-Svm_separating_hyperplanes_%28SVG%29.svg.png\" width=300 height=300/>\n",
    "\n",
    "[Source Image](https://en.wikipedia.org/wiki/Support_vector_machine#/media/File:Svm_separating_hyperplanes_(SVG).svg)\n",
    "\n",
    "One of the limitations of SVMs is that they inherently do binary classification. However, there are different methods to extend SVMs and use them in multiclass problems. The most common methods involve transforming the problem into a set of binary classification problems, by one of two strategies:\n",
    "\n",
    "- One vs. the rest. For 𝑘 classes, 𝑘 binary classifiers are trained. Each determines whether an example belongs to its 'own' class versus any other class. The classifier with the largest output is taken to be the class of the example.\n",
    "- One vs. one. A binary classifier is trained for each pair of classes. A voting procedure is used to combine the outputs.\n",
    "\n",
    "Sources: [Wikipedia](https://en.wikipedia.org/wiki/Support_vector_machine), [SVMs](https://nlp.stanford.edu/IR-book/html/htmledition/multiclass-svms-1.html), [Multiclass SVM](https://stats.stackexchange.com/questions/215342/can-a-linear-svm-only-have-2-classes)\n",
    "\n",
    "\n",
    "**Scikit-learn Implementation:**\n",
    "\n",
    "Multiclass and Multilabel algorithms:\n",
    "\n",
    "> **Warning:** All classifiers in scikit-learn do multiclass classification out-of-the-box. You don’t need to use the sklearn.multiclass module unless you want to experiment with different multiclass strategies.\n",
    "\n",
    "More information about Multiclass classification in scikit-learn [here](https://scikit-learn.org/stable/modules/multiclass.html)\n",
    "\n",
    "The SVC implementation is not efficient for large datasets. Instead we will use the LinearSVC implementation. Find more information in the [official documentation](https://scikit-learn.org/stable/modules/generated/sklearn.svm.SVC.html).\n",
    "\n",
    "> The implementation is based on libsvm. The fit time scales at least quadratically with the number of samples and might be impractical beyond tens of thousands of samples. For large datasets consider using sklearn.svm.LinearSVC or sklearn.linear_model.SGDClassifier instead, possibly after a sklearn.kernel_approximation.Nystroem transformer.\n",
    "\n",
    "Sometimes, we will want to train and test our algorithm in a sample fo the data instead of the completed dataset. Some ML methods do not deal well with large datasets so taking a sample from the dataset would be preferable.\n"
   ]
  },
  {
   "cell_type": "markdown",
   "metadata": {},
   "source": [
    "The example below shows how to create a SVM in the iris dataset. [Source Code](https://www.kaggle.com/moghazy/classifying-the-iris-dataset-using-svms)"
   ]
  },
  {
   "cell_type": "code",
   "execution_count": 22,
   "metadata": {
    "ExecuteTime": {
     "end_time": "2020-07-17T10:09:53.166953Z",
     "start_time": "2020-07-17T10:09:53.071455Z"
    }
   },
   "outputs": [
    {
     "name": "stdout",
     "output_type": "stream",
     "text": [
      "Accuracy: 0.8444444444444444\n"
     ]
    }
   ],
   "source": [
    "# You can also load the iris dataset from the sklearn library\n",
    "from sklearn.datasets import load_iris\n",
    "from sklearn.svm import LinearSVC\n",
    "\n",
    "X0, y0 = load_iris(return_X_y=True)\n",
    "X_train, X_test, y_train, y_test = train_test_split(X0, y0, test_size=0.3, random_state=2020)\n",
    "\n",
    "clf = LinearSVC(penalty='l2', loss='squared_hinge',\n",
    "                dual=True, tol=0.0001, C=100, multi_class='ovr',\n",
    "                fit_intercept=True, intercept_scaling=1, class_weight=None,verbose=0\n",
    "                ,random_state=2020, max_iter=20000)\n",
    "clf.fit(X_train,y_train)\n",
    "\n",
    "# Evaluation Time\n",
    "y_pred = clf.predict(X_test)\n",
    "y_true = y_test\n",
    "print(f'Accuracy: {accuracy_score(y_true, y_pred)}')"
   ]
  },
  {
   "cell_type": "markdown",
   "metadata": {},
   "source": [
    "**Sample and training of Linear Support Vector Classifier in geolink data**\n",
    "\n"
   ]
  },
  {
   "cell_type": "code",
   "execution_count": 23,
   "metadata": {
    "ExecuteTime": {
     "end_time": "2020-07-17T10:09:53.177643Z",
     "start_time": "2020-07-17T10:09:53.173861Z"
    }
   },
   "outputs": [
    {
     "name": "stdout",
     "output_type": "stream",
     "text": [
      "Total rows in Geolink dataset: 1192269\n"
     ]
    }
   ],
   "source": [
    "print('Total rows in Geolink dataset:',geolink.shape[0])"
   ]
  },
  {
   "cell_type": "markdown",
   "metadata": {},
   "source": [
    "Some algorithms will take significantly more time to train than others. In the case of SVMs the process of training can get slower as the number of data points is increased. \n",
    "\n",
    "**Note:** For the example below, we will sample the data to get only 10,000 data points from the original geolink dataset instead of 1,192,269. This reduction in datapoints may affect the accuracy of the model. But it will be done for demonstration purposes."
   ]
  },
  {
   "cell_type": "code",
   "execution_count": 24,
   "metadata": {
    "ExecuteTime": {
     "end_time": "2020-07-17T10:10:54.816248Z",
     "start_time": "2020-07-17T10:09:53.183665Z"
    }
   },
   "outputs": [
    {
     "name": "stdout",
     "output_type": "stream",
     "text": [
      "Accuracy: 0.35\n"
     ]
    }
   ],
   "source": [
    "# In our case, we will take a sample of 10,000 data points\n",
    "sample_dataset = geolink.sample(n=10000, replace=False, random_state=2020)\n",
    "\n",
    "X_sample = sample_dataset.iloc[:, 1:]\n",
    "y_sample = sample_dataset['LITHOLOGY_GEOLINK']\n",
    "#Normalise data\n",
    "scaler = StandardScaler()\n",
    "X_scaled = scaler.fit_transform(X_sample)\n",
    "\n",
    "X_train, X_test, y_train, y_test = train_test_split(X_scaled, y_sample, test_size=0.3, random_state=2020)\n",
    "\n",
    "clf = LinearSVC(penalty='l2', loss='squared_hinge',\n",
    "                dual=True, tol=0.0001, C=100, multi_class='ovr',\n",
    "                fit_intercept=True, intercept_scaling=1, class_weight=None,verbose=0\n",
    "                ,random_state=2020, max_iter=20000)\n",
    "clf.fit(X_train,y_train)\n",
    "\n",
    "# Evaluation Time\n",
    "y_pred = clf.predict(X_test)\n",
    "y_true = y_test\n",
    "print(f'Accuracy: {accuracy_score(y_true, y_pred)}')"
   ]
  },
  {
   "cell_type": "markdown",
   "metadata": {},
   "source": [
    "#### Exercise\n",
    "Let\\'s practice some of the key concepts related to SVMs. Use either the iris dataset or geolink one for this exercise.\n",
    "\n",
    "1. Modify the parameter <code>n</code> from <code>dataframe.sample</code>. Compare the accuracy achieved vs the amount of time for training.\n",
    "2. Specifies the norm used in the penalisation as 'l1'. The ‘l2’ penalty is the standard used in SVC. Compare the accuracy achieved between the 'l1' and 'l2' penalisation.\n",
    "3. Specifies the loss function as ‘hinge’ which is the standard SVM loss for SVM classification.  \n",
    "4. Modify the regularisation parameter C. The strength of the regularization is inversely proportional to C. Must be \n",
    "strictly positive.\n",
    "\n",
    "5. Modify the hyperparameter <code>multi_class</code>. \"ovr\" trains n_classes one-vs-rest classifiers, while \"crammer_singer\" optimizes a joint objective over all classes. Compare the results from the previous models when you change your multiclass strategy."
   ]
  },
  {
   "cell_type": "markdown",
   "metadata": {},
   "source": [
    "# 5. Decision Trees <a name=\"decision-trees\"></a>"
   ]
  },
  {
   "cell_type": "markdown",
   "metadata": {},
   "source": [
    "\n",
    "> A decision tree is a decision support tool that uses a tree-like model of decisions and their possible consequences, including chance event outcomes, resource costs, and utility. It is one way to display an algorithm that only contains conditional control statements. \n",
    "Decision trees are commonly used in operations research, specifically in decision analysis, to help identify a strategy most likely to reach a goal, but are also a popular tool in machine learning.\n",
    "\n",
    "Some **advantages** of using decision trees are:\n",
    "\n",
    "- Simple to understand and interpret: People can understand decision tree models after a brief explanation. Trees can also be displayed graphically in a way that is easy for non-experts to interpret.\n",
    "\n",
    "- Able to handle both numerical and categorical data. [1]\n",
    "\n",
    "- Requires little data preparation: Other techniques often require data normalization. Since trees can handle qualitative predictors, there is no need to create dummy variables. [1]\n",
    "\n",
    "- Performs well with large datasets. Large amounts of data can be analyzed using standard computing resources in a reasonable time.\n",
    "\n",
    "**Limitations:** \n",
    "- Trees can be very non-robust. A small change in the training data can result in a large change in the tree and consequently the final predictions. [1]\n",
    "- Decision-tree learners can create over-complex trees that do not generalize well from the training data.\n",
    "\n",
    "\n",
    "Source: [Wikipedia](https://en.wikipedia.org/wiki/Decision_tree)\n",
    "\n",
    "Source: [1] Gareth, James; Witten, Daniela; Hastie, Trevor; Tibshirani, Robert (2015). An Introduction to Statistical Learning. New York: Springer. pp. 315. ISBN 978-1-4614-7137-0.\n",
    "\n",
    "**Note:** Decision trees can be used for classification and regression."
   ]
  },
  {
   "cell_type": "markdown",
   "metadata": {},
   "source": [
    "In the first example, we will train a decision tree on the iris dataset.\n",
    "\n",
    "We can use the function <code>plot_tree</code> to show the flowchart of the trained model. Find more information about plotting the decision surface of a decision tree [here](https://scikit-learn.org/stable/auto_examples/tree/plot_iris_dtc.html#sphx-glr-auto-examples-tree-plot-iris-dtc-py). As can be seen in the next plot, the maximum depth of the tree is 5. The more depth and estimator the better accuracy. However, this also likely to make the model overfit."
   ]
  },
  {
   "cell_type": "code",
   "execution_count": 25,
   "metadata": {
    "ExecuteTime": {
     "end_time": "2020-07-17T10:10:55.504754Z",
     "start_time": "2020-07-17T10:10:54.818219Z"
    }
   },
   "outputs": [
    {
     "data": {
      "image/png": "[encoded data removed]",
      "text/plain": [
       "<Figure size 1080x720 with 1 Axes>"
      ]
     },
     "metadata": {
      "needs_background": "light"
     },
     "output_type": "display_data"
    }
   ],
   "source": [
    "# Split dataset geolink. test_size =0.25\n",
    "X_train, X_test, y_train, y_test = train_test_split(X, y, test_size=0.25, random_state=2020)\n",
    "\n",
    "clf = tree.DecisionTreeClassifier()\n",
    "fig, ax = plt.subplots(figsize=(15, 10))\n",
    "# X0 and y0 from iris_dataset\n",
    "tree.plot_tree(clf.fit(X0, y0), max_depth=3, fontsize=10)\n",
    "plt.show()"
   ]
  },
  {
   "cell_type": "markdown",
   "metadata": {},
   "source": [
    "Now let's train a decision tree (DT) with our geolink dataset. For the next example, we will set the hyperparater max_depth to 100. Notice how the accuracy in the model changes. "
   ]
  },
  {
   "cell_type": "code",
   "execution_count": 26,
   "metadata": {
    "ExecuteTime": {
     "end_time": "2020-07-17T10:11:11.453566Z",
     "start_time": "2020-07-17T10:10:55.506941Z"
    }
   },
   "outputs": [
    {
     "name": "stdout",
     "output_type": "stream",
     "text": [
      "Accuracy: 0.6944422078183502\n"
     ]
    }
   ],
   "source": [
    "clf = tree.DecisionTreeClassifier(random_state=2020)\n",
    "clf = clf.fit(X_train, y_train)\n",
    "\n",
    "# Evaluation Time\n",
    "y_pred = clf.predict(X_test)\n",
    "print(f'Accuracy: {accuracy_score(y_test, y_pred)}')"
   ]
  },
  {
   "cell_type": "markdown",
   "metadata": {},
   "source": [
    "We got an accuracy of 69.44% just with the default hyperparameters. Let's train the DT again with a different hyperparameter."
   ]
  },
  {
   "cell_type": "code",
   "execution_count": 27,
   "metadata": {
    "ExecuteTime": {
     "end_time": "2020-07-17T10:11:21.839959Z",
     "start_time": "2020-07-17T10:11:11.455878Z"
    }
   },
   "outputs": [
    {
     "name": "stdout",
     "output_type": "stream",
     "text": [
      "Accuracy: 0.5273763033938564\n"
     ]
    }
   ],
   "source": [
    "clf2 = tree.DecisionTreeClassifier(random_state=2020, max_depth=10)\n",
    "clf2 = clf2.fit(X_train, y_train)\n",
    "\n",
    "# Evaluation Time\n",
    "y_pred = clf2.predict(X_test)\n",
    "print(f'Accuracy: {accuracy_score(y_test, y_pred)}')"
   ]
  },
  {
   "cell_type": "markdown",
   "metadata": {},
   "source": [
    "We got now an accuracy of 53% just with the hyperparameter max_depth=10. Let's train the DT again with a different hyperparameter. In appearance, the first model would be better, however, there are other metrics besides accuracy that should be taken into account. There are also other methods to avoid overfitting. We will go deeper into this topic in the next sessions."
   ]
  },
  {
   "cell_type": "markdown",
   "metadata": {
    "ExecuteTime": {
     "end_time": "2020-07-08T03:07:47.159984Z",
     "start_time": "2020-07-08T03:07:47.154055Z"
    }
   },
   "source": [
    "#### Exercise\n",
    "The concept of decision trees is very simple and intuitive and unlike other methods, it does not need normalised data to work properly.\n",
    "We saw two examples of DT classification. In this exercise, use <code>sklearn.tree.DecisionTreeRegressor</code> to create a regression model from the iris dataset.\n",
    "\n",
    "Use the parameters <code>species</code>,<code>sepal_width</code>,<code>petal_length</code>,<code>petal_width</code> to predict <code>sepal_length</code>"
   ]
  },
  {
   "cell_type": "markdown",
   "metadata": {
    "ExecuteTime": {
     "end_time": "2020-07-07T11:28:26.325900Z",
     "start_time": "2020-07-07T11:28:26.323318Z"
    }
   },
   "source": [
    "# 6. Random Forest <a name=\"random-forest\"></a>\n",
    "\n",
    "> A random forest is a meta estimator that fits several decision tree classifiers on various sub-samples of the dataset and uses averaging to improve the predictive accuracy and control over-fitting.\n",
    "\n",
    "\n",
    "Random Forest is an ensemble method:\n",
    ">The goal of ensemble methods is to combine the predictions of several base estimators built with a given learning algorithm to improve generalizability/robustness over a single estimator.\n",
    "\n",
    "We will learn more about ensemble methods in the next session.\n",
    "\n",
    "Scikit-learn support Random Forest for classification and regression (<code>RandomForestClassifier</code> and <code>RandomForestRegressor</code>)\n",
    "\n",
    "> In random forests (see RandomForestClassifier and RandomForestRegressor classes), each tree in the ensemble is built from a sample drawn with replacement (i.e., a bootstrap sample) from the training set. Furthermore, when splitting each node during the construction of a tree, the best split is found either from all input features or a random subset of size max_features. (See the parameter tuning guidelines for more details). \n",
    "The purpose of these two sources of randomness is to decrease the variance of the forest estimator. Indeed, individual decision trees typically exhibit high variance and tend to overfit. The injected randomness in forests yields decision trees with somewhat decoupled prediction errors. By taking an average of those predictions, some errors can cancel out. Random forests achieve a reduced variance by combining diverse trees, sometimes at the cost of a slight increase in bias. In practice, the variance reduction is often significant hence yielding an overall better model.\n",
    "\n",
    "This implementation of RandomForest only accepts numerical values. You should always encode categorical values.\n",
    "\n",
    "Source: [Official Documentation Scikit-learn](https://scikit-learn.org/stable/modules/generated/sklearn.ensemble.RandomForestClassifier.html)\n",
    "\n",
    "**Note:** The next 2 pieces of code might take several minutes to complete the training."
   ]
  },
  {
   "cell_type": "code",
   "execution_count": 28,
   "metadata": {
    "ExecuteTime": {
     "end_time": "2020-07-17T10:19:15.523857Z",
     "start_time": "2020-07-17T10:11:21.842348Z"
    }
   },
   "outputs": [
    {
     "name": "stdout",
     "output_type": "stream",
     "text": [
      "Accuracy: 0.801481541124844\n"
     ]
    }
   ],
   "source": [
    "clf=RandomForestClassifier()\n",
    "clf.fit(X_train,y_train)\n",
    "y_pred=clf.predict(X_test)\n",
    "print(f'Accuracy: {accuracy_score(y_test, y_pred)}')"
   ]
  },
  {
   "cell_type": "markdown",
   "metadata": {},
   "source": [
    "Let's train again the model with different hyperparameterds."
   ]
  },
  {
   "cell_type": "code",
   "execution_count": 29,
   "metadata": {
    "ExecuteTime": {
     "end_time": "2020-07-17T10:27:14.304303Z",
     "start_time": "2020-07-17T10:19:15.526664Z"
    }
   },
   "outputs": [
    {
     "name": "stdout",
     "output_type": "stream",
     "text": [
      "Accuracy: 0.8018002603432773\n"
     ]
    }
   ],
   "source": [
    "clf=RandomForestClassifier(max_depth=100, n_estimators=100)\n",
    "clf.fit(X_train,y_train)\n",
    "y_pred=clf.predict(X_test)\n",
    "print(f'Accuracy: {accuracy_score(y_test, y_pred)}')"
   ]
  },
  {
   "cell_type": "markdown",
   "metadata": {
    "ExecuteTime": {
     "end_time": "2020-07-08T03:12:47.990781Z",
     "start_time": "2020-07-08T03:12:47.988183Z"
    }
   },
   "source": [
    "# 7. Boosted Trees <a name=\"boosted-trees\"></a>\n",
    "\n",
    "There are three commonly used boosted tree libraries:\n",
    "- CatBoost\n",
    "- Light GBM\n",
    "- XGBoost\n",
    "\n",
    "In this session, we will use XGBoost which is available in the environment provided. If you are interested in learning about the other libraries find more information [here](https://towardsdatascience.com/catboost-vs-light-gbm-vs-xgboost-5f93620723db).\n",
    "\n",
    "More information about Boosted Trees and XGBoost [here](https://xgboost.readthedocs.io/en/latest/tutorials/model.html)\n",
    "\n",
    "## What is XGBoost?\n",
    "\n",
    "XGBoost is a popular library to work with tabular data. It has shown its potential in ML competitions, in particular, Kaggle where many competitors have won using this library and fine-tune the models for optimal performance.\n",
    "\n",
    "Depending on the problem you are trying to solve you can either use <code>XGBClassifier</code> or <code>XGBRegressor</code> from the XGBoost library."
   ]
  },
  {
   "cell_type": "code",
   "execution_count": 30,
   "metadata": {
    "ExecuteTime": {
     "end_time": "2020-07-17T10:27:14.739662Z",
     "start_time": "2020-07-17T10:27:14.306286Z"
    }
   },
   "outputs": [],
   "source": [
    "from xgboost import XGBClassifier"
   ]
  },
  {
   "cell_type": "markdown",
   "metadata": {},
   "source": [
    "XGBoost API is very similar to scikit-learn providing a <code>fit</code> function for the training."
   ]
  },
  {
   "cell_type": "code",
   "execution_count": 31,
   "metadata": {
    "ExecuteTime": {
     "end_time": "2020-07-17T10:41:08.921841Z",
     "start_time": "2020-07-17T10:27:14.741464Z"
    }
   },
   "outputs": [
    {
     "data": {
      "text/plain": [
       "XGBClassifier(base_score=0.5, booster='gbtree', colsample_bylevel=1,\n",
       "              colsample_bynode=1, colsample_bytree=1, gamma=0, gpu_id=-1,\n",
       "              importance_type='gain', interaction_constraints='',\n",
       "              learning_rate=0.300000012, max_delta_step=0, max_depth=6,\n",
       "              min_child_weight=1, missing=nan, monotone_constraints='()',\n",
       "              n_estimators=100, n_jobs=0, num_parallel_tree=1,\n",
       "              objective='multi:softprob', random_state=0, reg_alpha=0,\n",
       "              reg_lambda=1, scale_pos_weight=None, subsample=1,\n",
       "              tree_method='exact', validate_parameters=1, verbosity=None)"
      ]
     },
     "execution_count": 31,
     "metadata": {},
     "output_type": "execute_result"
    }
   ],
   "source": [
    "# fit model no training data\n",
    "model = XGBClassifier()\n",
    "model.fit(X_train, y_train)"
   ]
  },
  {
   "cell_type": "code",
   "execution_count": 32,
   "metadata": {
    "ExecuteTime": {
     "end_time": "2020-07-17T10:41:19.858421Z",
     "start_time": "2020-07-17T10:41:08.924142Z"
    }
   },
   "outputs": [
    {
     "name": "stdout",
     "output_type": "stream",
     "text": [
      "Accuracy: 0.6429573117543648\n"
     ]
    }
   ],
   "source": [
    "y_pred= model.predict(X_test)\n",
    "print(f'Accuracy: {accuracy_score(y_test, y_pred)}')"
   ]
  },
  {
   "cell_type": "markdown",
   "metadata": {},
   "source": [
    "## References and further reading\n",
    "The following sources have been used in the creation of this notebook:\n",
    "- [Decision Trees](https://en.wikipedia.org/wiki/Decision_tree)\n",
    "- [SVMs](https://nlp.stanford.edu/IR-book/html/htmledition/multiclass-svms-1.html)\n",
    "- [Normalisation](https://en.wikipedia.org/wiki/Normalization_(statistics))\n",
    "- [XGBoost documentation](https://xgboost.readthedocs.io/en/latest/)\n",
    "- [Seaborn Datasets](https://seaborn.pydata.org/generated/seaborn.load_dataset.html)\n",
    "- [Scikit-learn Datasets](https://scikit-learn.org/stable/datasets/index.html)\n"
   ]
  },
  {
   "cell_type": "code",
   "execution_count": null,
   "metadata": {},
   "outputs": [],
   "source": []
  }
 ],
 "metadata": {
  "kernelspec": {
   "display_name": "Python 3",
   "language": "python",
   "name": "python3"
  },
  "language_info": {
   "codemirror_mode": {
    "name": "ipython",
    "version": 3
   },
   "file_extension": ".py",
   "mimetype": "text/x-python",
   "name": "python",
   "nbconvert_exporter": "python",
   "pygments_lexer": "ipython3",
   "version": "3.6.5"
  },
  "varInspector": {
   "cols": {
    "lenName": 16,
    "lenType": 16,
    "lenVar": 40
   },
   "kernels_config": {
    "python": {
     "delete_cmd_postfix": "",
     "delete_cmd_prefix": "del ",
     "library": "var_list.py",
     "varRefreshCmd": "print(var_dic_list())"
    },
    "r": {
     "delete_cmd_postfix": ") ",
     "delete_cmd_prefix": "rm(",
     "library": "var_list.r",
     "varRefreshCmd": "cat(var_dic_list()) "
    }
   },
   "types_to_exclude": [
    "module",
    "function",
    "builtin_function_or_method",
    "instance",
    "_Feature"
   ],
   "window_display": false
  }
 },
 "nbformat": 4,
 "nbformat_minor": 4
}
