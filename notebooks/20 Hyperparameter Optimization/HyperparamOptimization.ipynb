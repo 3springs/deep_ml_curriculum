{
 "cells": [
  {
   "cell_type": "markdown",
   "metadata": {},
   "source": [
    "# Hyperparameter Optimization\n",
    "\n",
    "Hyperparameters refer to those parameters used in training. Given that the optimization algorithms in a Neural Network such as `SGD` and `Adam` are stochastic in nature, it also means that a DNN trained with different hyperparameters might have different solutions (landing in a different local minima).\n",
    "\n",
    "Finding the best parameters possible for training our neural network is what we call `hyperparameter optimization`.\n",
    "\n",
    "One could just simply try different variations of hyperparameters manually. Fortunately, there are better ways of doing this. In this lesson, we will be using Pytorch to create our neural network and sklearn modules `sklearn.model_selection.GridSearchCV` and `sklearn.model_selection.RandomizedSearchCV` for the hyperparameter optimization."
   ]
  },
  {
   "cell_type": "markdown",
   "metadata": {},
   "source": [
    "# Import Libraries"
   ]
  },
  {
   "cell_type": "code",
   "execution_count": null,
   "metadata": {
    "ExecuteTime": {
     "end_time": "2020-09-08T02:48:28.243223Z",
     "start_time": "2020-09-08T02:41:41.278Z"
    }
   },
   "outputs": [],
   "source": [
    "import numpy as np\n",
    "import torch\n",
    "import torchvision\n",
    "from torch import nn\n",
    "from torch import optim\n",
    "import matplotlib.pyplot as plt\n",
    "from torchvision import transforms as T\n",
    "\n",
    "torch.backends.cudnn.enabled = False\n",
    "torch.manual_seed(2020)"
   ]
  },
  {
   "cell_type": "code",
   "execution_count": 2,
   "metadata": {
    "ExecuteTime": {
     "end_time": "2020-09-08T02:06:48.058477Z",
     "start_time": "2020-09-08T02:06:48.053703Z"
    }
   },
   "outputs": [
    {
     "name": "stdout",
     "output_type": "stream",
     "text": [
      "Using device: cpu\n"
     ]
    }
   ],
   "source": [
    "# setting device on GPU if available, else CPU\n",
    "device = torch.device('cuda' if torch.cuda.is_available() else 'cpu')\n",
    "print('Using device:', device)\n",
    "\n",
    "if device == 'cuda':\n",
    "    print('Name device:', torch.cuda.get_device_name(0))"
   ]
  },
  {
   "cell_type": "markdown",
   "metadata": {},
   "source": [
    "# Data Transforms"
   ]
  },
  {
   "cell_type": "markdown",
   "metadata": {},
   "source": [
    "Now we will create a pipeline of data transformations.\n",
    "\n",
    "For the train\n",
    "- We transform an Image to a Pytorch tensor\n",
    "- Normalize data using only one channel (gray scale image)"
   ]
  },
  {
   "cell_type": "code",
   "execution_count": 3,
   "metadata": {
    "ExecuteTime": {
     "end_time": "2020-09-08T02:06:48.065118Z",
     "start_time": "2020-09-08T02:06:48.061328Z"
    }
   },
   "outputs": [],
   "source": [
    "batch_size = 64"
   ]
  },
  {
   "cell_type": "code",
   "execution_count": 4,
   "metadata": {
    "ExecuteTime": {
     "end_time": "2020-09-08T02:06:48.072208Z",
     "start_time": "2020-09-08T02:06:48.067967Z"
    }
   },
   "outputs": [],
   "source": [
    "data_transforms = {\n",
    "    # For the data training dataset\n",
    "    'train': T.Compose([\n",
    "        T.ToTensor(),\n",
    "        T.Normalize((0.,), (1.,))\n",
    "    ]),\n",
    "    # For the validation dataset\n",
    "    'val': T.Compose([\n",
    "        T.ToTensor(),\n",
    "        T.Normalize((0.,), (1.,))\n",
    "    ]),\n",
    "}"
   ]
  },
  {
   "cell_type": "markdown",
   "metadata": {},
   "source": [
    "Let's create a data loader for the training and testing dataset. `MNIST` is a dataset that contains images of handwritten digits from 0 to 9. We will train a classifier using hyperparameter optimization."
   ]
  },
  {
   "cell_type": "code",
   "execution_count": 5,
   "metadata": {
    "ExecuteTime": {
     "end_time": "2020-09-08T02:06:48.124365Z",
     "start_time": "2020-09-08T02:06:48.080591Z"
    }
   },
   "outputs": [],
   "source": [
    "train_loader = torch.utils.data.DataLoader(\n",
    "  torchvision.datasets.MNIST('.', train=True, download=True, transform= data_transforms['train']),\n",
    "                                  batch_size=batch_size, shuffle=True)\n",
    "\n",
    "test_loader = torch.utils.data.DataLoader(\n",
    "  torchvision.datasets.MNIST('.', train=False, download=True,transform=data_transforms['val']),\n",
    "                                  batch_size=batch_size+64, shuffle=True)"
   ]
  },
  {
   "cell_type": "markdown",
   "metadata": {},
   "source": [
    "# GridSearchCV\n",
    "\n",
    "`GridSearch` tries all possible combinations over specified parameter values for the model. We will implement a Grid Search method from scratch that allow us to try different parameters in our model and pick the best ones for training.\n",
    "\n"
   ]
  },
  {
   "cell_type": "markdown",
   "metadata": {},
   "source": [
    "But first, let's create a CNN model. We will start by creating a function that returns a block of layers given some parameters."
   ]
  },
  {
   "cell_type": "code",
   "execution_count": 6,
   "metadata": {
    "ExecuteTime": {
     "end_time": "2020-09-08T02:06:48.139390Z",
     "start_time": "2020-09-08T02:06:48.131013Z"
    }
   },
   "outputs": [],
   "source": [
    "def create_block(input_dim, output_dim, kernel, padding, activation='relu'):\n",
    "    activations = {\n",
    "        'relu' :   nn.ReLU(inplace=True),\n",
    "        'tanh' :   nn.Tanh(),\n",
    "        'selu' :   nn.SELU(inplace=True),\n",
    "        'sigmoid': nn.Sigmoid()\n",
    "    }\n",
    "    return nn.Sequential(\n",
    "        nn.Conv2d(in_channels=input_dim, out_channels=output_dim, kernel_size=kernel, padding=padding),\n",
    "        nn.BatchNorm2d(output_dim),\n",
    "        activations[activation],\n",
    "        nn.MaxPool2d(2),\n",
    "    )"
   ]
  },
  {
   "cell_type": "markdown",
   "metadata": {},
   "source": [
    "Now let's create the architecture of our model."
   ]
  },
  {
   "cell_type": "code",
   "execution_count": 7,
   "metadata": {
    "ExecuteTime": {
     "end_time": "2020-09-08T02:06:48.152627Z",
     "start_time": "2020-09-08T02:06:48.143206Z"
    }
   },
   "outputs": [],
   "source": [
    "class MNISTCNN(nn.Module):\n",
    "    def __init__(self, activation):\n",
    "        super(MNISTCNN, self).__init__()\n",
    "        \n",
    "        self.layer1 = create_block(1,32,3,1,activation)\n",
    "        self.layer2 = create_block(32,64,3,1,activation)\n",
    "        self.layer3 = create_block(64,128,3,1,activation)\n",
    "        self.fc1 = nn.Linear(in_features=128*3*3, out_features=256)\n",
    "        self.drop = nn.Dropout2d(0.25)\n",
    "        self.fc2 = nn.Linear(in_features=256, out_features=128)\n",
    "        self.fc3 = nn.Linear(in_features=128, out_features=10)\n",
    "        \n",
    "    def forward(self, x):\n",
    "        out = self.layer1(x)\n",
    "        out = self.layer2(out)\n",
    "        out = self.layer3(out)\n",
    "        out = out.view(out.size(0), -1)\n",
    "        out = self.fc1(out)\n",
    "        out = self.drop(out)\n",
    "        out = self.fc2(out)\n",
    "        out = self.fc3(out)\n",
    "        \n",
    "        return out"
   ]
  },
  {
   "cell_type": "markdown",
   "metadata": {},
   "source": [
    "Now let's create a typical function for the training process in Pytorch:"
   ]
  },
  {
   "cell_type": "code",
   "execution_count": 8,
   "metadata": {
    "ExecuteTime": {
     "end_time": "2020-09-08T02:06:48.162097Z",
     "start_time": "2020-09-08T02:06:48.155288Z"
    }
   },
   "outputs": [],
   "source": [
    "def train(model, dataloader, criterion, optimizer, n_epochs=1, bs=64, device='cpu'):\n",
    "    # Set model in train mode\n",
    "    model.train().to(device)\n",
    "    running_loss = 0.0\n",
    "    for epoch in range(n_epochs):\n",
    "        for (x,y) in dataloader:\n",
    "            # zero the parameter gradients\n",
    "            optimizer.zero_grad()\n",
    "            # forward + backward + optimize\n",
    "            outputs = model(x)              # Get the prediction here\n",
    "            loss = criterion(outputs, y)    # Calculate loss\n",
    "            loss.backward()                 # Do backpropagation\n",
    "            optimizer.step()                # Update weights\n",
    "            # print statistics\n",
    "            running_loss += loss.item()\n",
    "        print(running_loss)\n",
    "        running_loss = 0.0\n",
    "\n",
    "    print('Finished Training')\n",
    "    return model.eval()"
   ]
  },
  {
   "cell_type": "code",
   "execution_count": 9,
   "metadata": {
    "ExecuteTime": {
     "end_time": "2020-09-08T02:06:48.172019Z",
     "start_time": "2020-09-08T02:06:48.165704Z"
    }
   },
   "outputs": [],
   "source": [
    "def evaluation(model, dataloader, device='cpu'):\n",
    "    print('Evaluation...')\n",
    "    total = 0\n",
    "    correct = 0\n",
    "    model = model.eval().to(device)\n",
    "    \n",
    "    for (x, y) in dataloader:\n",
    "        \n",
    "        y = y.to(device)\n",
    "        x = x.to(device)\n",
    "        # Make prediction\n",
    "        pred = model(x).argmax(1)\n",
    "\n",
    "        # Count correct answers\n",
    "        correct += int(sum(y == pred))\n",
    "        # Count total number of images\n",
    "        total += pred.shape[0]\n",
    "    \n",
    "    # Return accuracy metric\n",
    "    return correct/total"
   ]
  },
  {
   "cell_type": "markdown",
   "metadata": {},
   "source": [
    "Now let's create a method that allow us to try different parameters such as the number of `epochs`, the `optimizer`, and the `activation functions` used."
   ]
  },
  {
   "cell_type": "code",
   "execution_count": 20,
   "metadata": {
    "ExecuteTime": {
     "end_time": "2020-09-08T04:29:41.303731Z",
     "start_time": "2020-09-08T04:29:41.292176Z"
    }
   },
   "outputs": [],
   "source": [
    "# Get a criterion given a name\n",
    "def get_criterion(criterion_name):\n",
    "    criterions = {\n",
    "        'cross_entropy': nn.CrossEntropyLoss()\n",
    "        # You can add more criterions here if you need to\n",
    "    }\n",
    "    \n",
    "    return criterions[criterion_name]\n",
    "\n",
    "# Get an optimizer given a name, model and learning rate\n",
    "def get_optimizer(optimizer_name, model, learning_rate=1e-3):\n",
    "    optimizers = {\n",
    "        'sgd': optim.SGD(model.parameters(), lr=learning_rate,\n",
    "                      momentum=0.9),\n",
    "        'adam': optim.Adam(model.parameters(), lr=learning_rate),\n",
    "        'adagrad': optim.Adagrad(model.parameters(), lr=learning_rate),    \n",
    "    }\n",
    "    \n",
    "    return optimizers[optimizer_name]\n",
    "    \n",
    "def GridSearch(train_data, test_data, hyperparameters):\n",
    "    best_accuracy = 0\n",
    "    best_parameters = {\n",
    "      'epoch': 0,\n",
    "      'activation': None,\n",
    "      'optimizer': None,\n",
    "      'learning_rate': 0.0\n",
    "    }\n",
    "    # Try all possible combinations\n",
    "    for activation in hyperparameters['activations']:\n",
    "        # Create model with corresponding activation\n",
    "        model = MNISTCNN(activation).to(device)\n",
    "        \n",
    "        for epochs in hyperparameters['epochs']:\n",
    "            for opt in hyperparameters['optimizers']:\n",
    "                for learning_rate in hyperparameters['learning_rate']:\n",
    "                    criterion = get_criterion('cross_entropy')\n",
    "                    optimizer = get_optimizer(opt, model, learning_rate)\n",
    "                    print(f'Training NN...optimizer:{opt}, activation:{activation}, epochs:{epochs}, learning rate:{learning_rate}')\n",
    "                    # Let's train the model using our custom hyperparameters\n",
    "                    clf = train(model, train_data, criterion, optimizer, n_epochs=epochs, bs=64, device=device)           \n",
    "                    accuracy = evaluation(clf, test_data, device) \n",
    "\n",
    "                    if accuracy > best_accuracy:\n",
    "                        # Update parameters\n",
    "                        best_accuracy = accuracy\n",
    "                        best_parameters['epoch'] = epochs\n",
    "                        best_parameters['activation'] = activation\n",
    "                        best_parameters['optimizer'] = opt\n",
    "                        best_parameters['learning_rate'] = learning_rate\n",
    "\n",
    "                    print(f'Accuracy Testing: {accuracy}')\n",
    "    return best_parameters"
   ]
  },
  {
   "cell_type": "markdown",
   "metadata": {
    "ExecuteTime": {
     "end_time": "2020-09-07T08:23:37.920566Z",
     "start_time": "2020-09-07T08:22:52.484Z"
    }
   },
   "source": [
    "<div class=\"alert alert-success\" style=\"font-size:100%\">\n",
    "<b>Exercise 1</b>: <br>\n",
    "    \n",
    "**Warning:** GridSearch performs an exhaustive search with the parameters given. It might take around 12 minutes to complete the optimization in a GPU for the hyperparameters given below.\n",
    "    \n",
    "1. Pass the following hyperparameters to the function `GridSearch`.\n",
    "    \n",
    "```python\n",
    "hyperparameters = {\n",
    "    'epochs': [1],\n",
    "    'activations': ['selu','tanh','relu'],\n",
    "    'optimizers': ['adagrad','sgd','adam'],\n",
    "    'learning_rate': [1e-2, 1e-3]\n",
    "}\n",
    "```\n",
    "2. Execute the function and find the best hyperparameter for training.\n",
    "</div>"
   ]
  },
  {
   "cell_type": "markdown",
   "metadata": {
    "ExecuteTime": {
     "end_time": "2020-09-07T08:26:19.872480Z",
     "start_time": "2020-09-07T08:26:19.866773Z"
    }
   },
   "source": [
    "You can click in the button below the reveal the solution for exercise 1\n",
    "\n",
    "<details>    \n",
    "<summary>\n",
    "    <font size=\"4\" color=\"darkblue\"><b>See the solution for Exercise 1</b></font>\n",
    "</summary>\n",
    "    \n",
    "```python\n",
    "hyperparameters = {\n",
    "    'epochs': [1],\n",
    "    'activations': ['selu','tanh','relu'],\n",
    "    'optimizers': ['adagrad','sgd','adam'],\n",
    "    'learning_rate': [1e-2, 1e-3]\n",
    "}\n",
    "\n",
    "import time\n",
    "# This line of code is to measure the executation time\n",
    "start_time = time.time()\n",
    "######################################################\n",
    "# YOU CODE GOES HERE\n",
    "best_params = GridSearch(train_loader, test_loader, hyperparameters)\n",
    "print(best_params)\n",
    "######################################################\n",
    "print(f'--- {(time.time() - start_time)/60.0} minutes ---')\n",
    "```\n",
    "\n",
    "    \n",
    "You should get this as a result:\n",
    "    \n",
    "```python\n",
    "{'epoch': 1,\n",
    " 'activation': 'relu',\n",
    " 'optimizer': 'sgd',\n",
    " 'learning_rate': 0.001} \n",
    "```\n",
    "</details>"
   ]
  },
  {
   "cell_type": "markdown",
   "metadata": {},
   "source": [
    "# Randomized Grid Search\n",
    "\n",
    "As you can notice, GridSearch evaluates the model in combining every parameter. This of course, can be very inneficient. By contrast, Random Search sets up a grid of hyperparameter values and selects random combinations to train the model and evaluate. In random search you can control the number of hyperparameter combinations that attempted. It is possible that Random search does not find the best possible answer but in cases where the search space and computational time is limited it will work the best."
   ]
  },
  {
   "cell_type": "code",
   "execution_count": 19,
   "metadata": {
    "ExecuteTime": {
     "end_time": "2020-09-08T02:52:12.966272Z",
     "start_time": "2020-09-08T02:52:12.957548Z"
    }
   },
   "outputs": [],
   "source": [
    "def RandomizedGridSearch(train_data, test_data, hyperparameters, num_combinations=5):\n",
    "    best_accuracy = 0\n",
    "    best_parameters = {\n",
    "      'epoch': 0,\n",
    "      'activation': None,\n",
    "      'optimizer': None,\n",
    "      'learning_rate': 0.0\n",
    "    }\n",
    "    \n",
    "    # Try different combinations\n",
    "    for i in num_combinations:      \n",
    "        # Pick random hyperparameters\n",
    "        activation = np.random.choice(hyperparameters['activations'])\n",
    "        model      = MNISTCNN(activation).to(device)\n",
    "        epochs     = np.random.choice(hyperparameters['epochs'])\n",
    "        opt        = np.random.choice(hyperparameters['optimizers'])\n",
    "        l_rate     = np.random.choice(hyperparameters['learning_rate'])\n",
    "        \n",
    "        # Select criterion and optimizer\n",
    "        criterion  = get_criterion('cross_entropy')\n",
    "        optimizer  = get_optimizer(opt, model, l_rate)\n",
    "        \n",
    "        print(f'Training NN...optimizer:{opt}, activation:{activation}, epochs:{epochs}, learning rate:{learning_rate}')\n",
    "        # Let's train the model using our custom hyperparameters\n",
    "        clf = train(model, train_data, criterion, optimizer, n_epochs=epochs, bs=64, device=device)   \n",
    "        # Evaluate\n",
    "        accuracy = evaluation(clf, test_data, device)\n",
    "        \n",
    "        if accuracy > best_accuracy:\n",
    "            # Update parameters\n",
    "            best_accuracy = accuracy\n",
    "            best_parameters['epoch'] = epochs\n",
    "            best_parameters['activation'] = activation\n",
    "            best_parameters['optimizer'] = opt\n",
    "            best_parameters['learning_rate'] = learning_rate\n",
    "\n",
    "        print(f'Accuracy Testing: {accuracy}')\n",
    "        \n",
    "    return best_parameters"
   ]
  },
  {
   "cell_type": "markdown",
   "metadata": {},
   "source": [
    "In the next exercise we will increase the parameter space search but will limit to a number of 10 random searches."
   ]
  },
  {
   "cell_type": "markdown",
   "metadata": {},
   "source": [
    "<div class=\"alert alert-success\" style=\"font-size:100%\">\n",
    "<b>Exercise 1</b>: <br>\n",
    "    \n",
    "**Warning:** Executing `RandomizedGridSearch` might take around 5 minutes on a GPU.\n",
    "    \n",
    "1. Pass the following hyperparameters to the function `RandomizedGridSearch`.\n",
    "    \n",
    "```python\n",
    "hyperparameters = {\n",
    "    'epochs': [1],\n",
    "    'activations': ['sigmoid','selu','tanh','relu'],\n",
    "    'optimizers': ['adagrad','sgd','adam'],\n",
    "    'learning_rate': [1e-2, 1e-3, 1e-4]\n",
    "}\n",
    "```\n",
    "\n",
    "**NOTE:** If we were going to pass the same hyperparameter space to a `GridSearch` algorithm it would perform 108 combinations. This would take significantly more time.\n",
    "    \n",
    "2. Execute the function and find the best hyperparameter for training. Limit the random searches to 5.\n",
    "3. Measure the executation time of the code in minutes. **Hint:** Check solution for exercise 1.\n",
    "</div>"
   ]
  },
  {
   "cell_type": "markdown",
   "metadata": {
    "ExecuteTime": {
     "end_time": "2020-09-08T04:31:32.962899Z",
     "start_time": "2020-09-08T04:31:32.955958Z"
    }
   },
   "source": [
    "You can click in the button below the reveal the solution for exercise 2\n",
    "\n",
    "<details>    \n",
    "<summary>\n",
    "    <font size=\"4\" color=\"darkblue\"><b>See the solution for Exercise 2</b></font>\n",
    "</summary>\n",
    "    \n",
    "```python\n",
    "hyperparameters = {\n",
    "    'epochs': [1],\n",
    "    'activations': ['sigmoid','selu','tanh','relu'],\n",
    "    'optimizers': ['adagrad','sgd','adam'],\n",
    "    'learning_rate': [1e-2, 1e-3, 1e-4]\n",
    "}\n",
    "\n",
    "# This line of code is to measure the executation time\n",
    "start_time = time.time()\n",
    "######################################################\n",
    "# YOU CODE GOES HERE\n",
    "best_params = RandomizedGridSearch(train_loader, test_loader, hyperparameters, num_combinations=5)\n",
    "print(best_params)\n",
    "######################################################\n",
    "print(f'--- {(time.time() - start_time)/60.0} minutes ---')\n",
    "```\n",
    "\n",
    "    \n",
    "Given the stochastic nature of the approach you might get different results everytime you execute this.\n",
    "</details>"
   ]
  }
 ],
 "metadata": {
  "kernelspec": {
   "display_name": "Python 3",
   "language": "python",
   "name": "python3"
  },
  "language_info": {
   "codemirror_mode": {
    "name": "ipython",
    "version": 3
   },
   "file_extension": ".py",
   "mimetype": "text/x-python",
   "name": "python",
   "nbconvert_exporter": "python",
   "pygments_lexer": "ipython3",
   "version": "3.6.5"
  },
  "varInspector": {
   "cols": {
    "lenName": 16,
    "lenType": 16,
    "lenVar": 40
   },
   "kernels_config": {
    "python": {
     "delete_cmd_postfix": "",
     "delete_cmd_prefix": "del ",
     "library": "var_list.py",
     "varRefreshCmd": "print(var_dic_list())"
    },
    "r": {
     "delete_cmd_postfix": ") ",
     "delete_cmd_prefix": "rm(",
     "library": "var_list.r",
     "varRefreshCmd": "cat(var_dic_list()) "
    }
   },
   "types_to_exclude": [
    "module",
    "function",
    "builtin_function_or_method",
    "instance",
    "_Feature"
   ],
   "window_display": false
  }
 },
 "nbformat": 4,
 "nbformat_minor": 4
}
