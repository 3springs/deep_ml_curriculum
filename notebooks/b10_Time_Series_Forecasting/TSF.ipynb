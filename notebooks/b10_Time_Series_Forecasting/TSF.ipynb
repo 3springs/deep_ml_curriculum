{
 "cells": [
  {
   "cell_type": "markdown",
   "metadata": {},
   "source": [
    "# Time Series Forcasting"
   ]
  },
  {
   "cell_type": "markdown",
   "metadata": {},
   "source": [
    "\n",
    "In time series forcasting (TSF) the goal is to predict the future values using the behaviour of data in the past. We can use some of the tehniques we learned about in the last notebook. For instance, Holt-Winters methods can be used for forcasting as well as analysis."
   ]
  },
  {
   "cell_type": "code",
   "execution_count": null,
   "metadata": {},
   "outputs": [],
   "source": [
    "import pandas as pd\n",
    "import matplotlib.pyplot as plt\n",
    "import numpy as np\n",
    "import warnings\n",
    "plt.rcParams[\"figure.figsize\"] = [12,5]\n",
    "warnings.simplefilter(\"ignore\")"
   ]
  },
  {
   "cell_type": "markdown",
   "metadata": {},
   "source": [
    "We will load a subset of London Smart meters dataset. This dataset shows electricity consumption of 5,567 houses in London. We will only use the data for a single block. \n",
    "\n",
    "The data shows daily consumption of each house and various statistics regarding their daily consumption. The original data is from [UK Power Networks](https://data.london.gov.uk/dataset/smartmeter-energy-use-data-in-london-households)"
   ]
  },
  {
   "cell_type": "code",
   "execution_count": null,
   "metadata": {},
   "outputs": [],
   "source": [
    "# Load data\n",
    "df = block0 = pd.read_csv(\"../../data/processed/smartmeter/block_0.csv\", parse_dates=['day'], index_col=['day'])[['energy_sum']]\n",
    "# Get the mean over all houses, by day\n",
    "df = df.groupby('day').mean().iloc[:-1]\n",
    "# Rename energy to target\n",
    "df = df.rename(columns={'energy_sum':'target'})\n",
    "df.plot()\n",
    "df"
   ]
  },
  {
   "cell_type": "markdown",
   "metadata": {},
   "source": [
    "In forcasting we try to predict the next step, therefore it is essential that we specify the frequency of data so the model knows what we mean by next step. \n",
    "\n",
    "Pandas data frames have frequency property, which we need to set"
   ]
  },
  {
   "cell_type": "code",
   "execution_count": null,
   "metadata": {},
   "outputs": [],
   "source": [
    "df.index"
   ]
  },
  {
   "cell_type": "markdown",
   "metadata": {},
   "source": [
    "You can see at the bottom `freq` is set to `None`. We need to specify the the data is monthly and the dates are start of the month. So we use `freq = \"MS\"`."
   ]
  },
  {
   "cell_type": "code",
   "execution_count": null,
   "metadata": {},
   "outputs": [],
   "source": [
    "df.index.freq = \"1D\""
   ]
  },
  {
   "cell_type": "markdown",
   "metadata": {},
   "source": [
    "__Note:__ Most of the algorithms have ways of infering the frequency if it is not set. But it is always safer to set it ourselves rather than leave it for the algorithms to figure out."
   ]
  },
  {
   "cell_type": "markdown",
   "metadata": {},
   "source": [
    "To measure whether we are doing well in our prediction or not, commonly we split the data into two parts, one for training the model and the other for evaluating the forcasting quality. In time series we train on the past and predict on the future, so the validation set needs to be in the future.  \n",
    "\n",
    "The part that is used for taining is called training set and for time series it usually is the data from the beginning up to a certain point in time. The part that is used for evaluation is may be called validation set, test set, or evaluation set. The validation set comes right after the training set, because we use the training set to understand the behaviour of data and then we want to know what is going to happen right after that.\n",
    "\n",
    "\n",
    "Let's split our data into training and validation set. Let's split in a way so that last 30% is in validation set and the rest in training set."
   ]
  },
  {
   "cell_type": "code",
   "execution_count": null,
   "metadata": {},
   "outputs": [],
   "source": [
    "# We are forecasting, so split into past and future\n",
    "n_split = -int(len(df)*0.7)\n",
    "df_train = df[:-n_split]\n",
    "df_valid = df[-n_split:]\n",
    "\n",
    "ax = df_train['target'].plot(legend=True, label=\"Train\")\n",
    "df_valid['target'].plot(ax=ax, legend=True, label=\"Validation\")"
   ]
  },
  {
   "cell_type": "markdown",
   "metadata": {},
   "source": [
    "## Stationarity\n",
    "\n",
    "A time series is considered stationary when its properties (mean and standard deviation) does not change with time. Therefore, any time series with trend or seasonality is not stationary. An example of stationary data is white noise:"
   ]
  },
  {
   "cell_type": "code",
   "execution_count": null,
   "metadata": {},
   "outputs": [],
   "source": [
    "plt.figure(figsize=(12, 8))\n",
    "plt.plot(range(100), np.arange(100)/50, ls=':', c='b', label='line - not stationary')\n",
    "plt.plot(range(100),np.sin(np.arange(100)/5)-2, c='b', label='sin - not stationary')\n",
    "plt.plot(range(100), np.zeros(100), c='r', label='zeros - stationary')\n",
    "plt.plot(range(100), np.random.randn(100)+4, ls='--', c='r', label='random noise - stationary')\n",
    "plt.legend()\n",
    "plt.xlabel('time [days]')\n",
    "plt.title('examples of non/stationary series')"
   ]
  },
  {
   "cell_type": "code",
   "execution_count": null,
   "metadata": {},
   "outputs": [],
   "source": [
    "# Why is random noise stationary?\n",
    "# The std and mean are constant\n",
    "np.random.seed(42)\n",
    "random_noise = pd.Series(np.random.randn(200))\n",
    "plt.plot(random_noise, label='random noise')\n",
    "random_noise.rolling(30).mean().plot(label='mean')\n",
    "random_noise.rolling(30).std().plot(label='std')\n",
    "plt.legend()"
   ]
  },
  {
   "cell_type": "code",
   "execution_count": null,
   "metadata": {},
   "outputs": [],
   "source": [
    "# Sin - this is not stationary\n",
    "# The std and mean are not constant\n",
    "np.random.seed(42)\n",
    "series_sin = pd.Series(np.sin(np.arange(200)/5))\n",
    "plt.plot(series_sin, label='sin(x/5)')\n",
    "series_sin.rolling(50).mean().plot(label='mean')\n",
    "series_sin.rolling(50).std().plot(label='std')\n",
    "plt.legend()"
   ]
  },
  {
   "cell_type": "markdown",
   "metadata": {},
   "source": [
    "While it is easy to tell if a time series is not stationary when there is a clear trend, in some cases it might be pretty difficult to decide whether a time series is stationary or not. Therefore, we use statistical tests to make a decision.\n"
   ]
  },
  {
   "cell_type": "markdown",
   "metadata": {},
   "source": [
    "__Why is it important if a time series is stationary or not?__<br>\n",
    "We know that in a stationary time series the characteristics will remain constant. This makes it easier to predict their future behaviour as we expect them to behave similarly. But when the series is not stationary we don't know how it is going to behave in the future. In reality, most of the time series we are going to work with are not stationary. But using various techniques we might be able to transform them into a stationary time series. This is exactly what we just did. We use STL to remove the trend and seasonality to get a stationary time series."
   ]
  },
  {
   "cell_type": "markdown",
   "metadata": {},
   "source": [
    "#### Augmented Dickey-Fuller test\n",
    "\n",
    "[Augmented Dickey-Fuller test](https://en.wikipedia.org/wiki/Augmented_Dickey%E2%80%93Fuller_test) (ADF) is a statistical test for stationarity. We are not going to discuss the statistical details of this test, but what matters to us is the result. \n",
    "\n",
    "The null hpothesis of ADF is: `the series is stationary.`\n",
    "\n",
    "Let's test it on our data.\n"
   ]
  },
  {
   "cell_type": "code",
   "execution_count": null,
   "metadata": {},
   "outputs": [],
   "source": [
    "from statsmodels.tsa.stattools import adfuller\n",
    "\n",
    "def adf_p_value(data):\n",
    "    p = adfuller(data)[1]\n",
    "    \n",
    "    # If p-value is lower than a threshold (commonly 0.05),\n",
    "    if p<0.05:\n",
    "        # it means the null hypothesis is rejected and therefore the time series is stationary.\n",
    "        return 'stationary (p={:2.2g})'.format(p)\n",
    "    else:\n",
    "        return 'not stationary (p={:2.2g})'.format(p)"
   ]
  },
  {
   "cell_type": "code",
   "execution_count": null,
   "metadata": {},
   "outputs": [],
   "source": [
    "adf_p_value(df[\"target\"])"
   ]
  },
  {
   "cell_type": "markdown",
   "metadata": {},
   "source": [
    "The function returns many values, but the one that we are interested in is p-value, which the second value. If it is less than 0.05, it means time series is stationary. In this case it is far from 0.05 and that is what we expected as the data has clear trend.<br>\n",
    "Now let's turn it into a function that only return the p-value and run the test on white noise."
   ]
  },
  {
   "cell_type": "code",
   "execution_count": null,
   "metadata": {},
   "outputs": [],
   "source": [
    "adf_p_value(random_noise)"
   ]
  },
  {
   "cell_type": "markdown",
   "metadata": {},
   "source": [
    "The value is very small, which suggests we can reject the null hypothesis and therefore the series is stationary."
   ]
  },
  {
   "cell_type": "markdown",
   "metadata": {},
   "source": [
    "## Decomposing"
   ]
  },
  {
   "cell_type": "markdown",
   "metadata": {},
   "source": [
    "What if we remove trend and seasonality from the data using STL method?"
   ]
  },
  {
   "cell_type": "code",
   "execution_count": null,
   "metadata": {},
   "outputs": [],
   "source": [
    "from statsmodels.tsa.seasonal import seasonal_decompose"
   ]
  },
  {
   "cell_type": "code",
   "execution_count": null,
   "metadata": {},
   "outputs": [],
   "source": [
    "res = seasonal_decompose(df[:100], model=\"mul\")\n",
    "res.plot()\n",
    "''"
   ]
  },
  {
   "cell_type": "markdown",
   "metadata": {},
   "source": [
    "If we remove the seasonal and trend component what is left is the residuals.<br>\n",
    "The residuals might have `NaN` in it. If so, we need to remove them before performing the test."
   ]
  },
  {
   "cell_type": "code",
   "execution_count": null,
   "metadata": {},
   "outputs": [],
   "source": [
    "adf_p_value(res.resid.dropna())"
   ]
  },
  {
   "cell_type": "markdown",
   "metadata": {},
   "source": [
    "The residual is stationary since the p value is lower than 0.05."
   ]
  },
  {
   "cell_type": "code",
   "execution_count": null,
   "metadata": {},
   "outputs": [],
   "source": [
    "df.plot()\n",
    "df.diff().plot()\n",
    "df.diff(2).plot()"
   ]
  },
  {
   "cell_type": "markdown",
   "metadata": {},
   "source": [
    "Another technique to make a time series stationary is differencing. Differencing means that we calculate the difference between two consecutive points in time. Then we use the differences for forcasting.<br>\n",
    "Let's see how differencing will affect our data. Pandas has a builtin method for differencing (`.diff()`):"
   ]
  },
  {
   "cell_type": "code",
   "execution_count": null,
   "metadata": {},
   "outputs": [],
   "source": [
    "df.diff()"
   ]
  },
  {
   "cell_type": "markdown",
   "metadata": {},
   "source": [
    "We need to get rid of `NaN` so we can run the test."
   ]
  },
  {
   "cell_type": "code",
   "execution_count": null,
   "metadata": {},
   "outputs": [],
   "source": [
    "adf_p_value(df.diff().dropna()[\"target\"])"
   ]
  },
  {
   "cell_type": "markdown",
   "metadata": {},
   "source": [
    "As we can see p-value is below the 0.05 threshold, which means differencing helped to convert data into stationary time series. <br>\n",
    "In some cases you might need to perform differencing multiple times to reach stationary results."
   ]
  },
  {
   "cell_type": "code",
   "execution_count": null,
   "metadata": {},
   "outputs": [],
   "source": [
    "adf_p_value(df.diff(2).dropna()[\"target\"])"
   ]
  },
  {
   "cell_type": "markdown",
   "metadata": {},
   "source": [
    "## Autocorrelation"
   ]
  },
  {
   "cell_type": "markdown",
   "metadata": {},
   "source": [
    "Another characteristics of a time series is autocorrelation. Autocorrelation is simply the correlation between the points in the time series and the points before them (sometimes called lagged values).\n",
    "\n",
    "The shaded area is the confidence threshold on the correlation using Bartlett's formula $1/\\sqrt{N}$ which assumes a guassian distribution. If a correlations is below this threshold is it's likely to be a coincidence."
   ]
  },
  {
   "cell_type": "code",
   "execution_count": null,
   "metadata": {},
   "outputs": [],
   "source": [
    "from statsmodels.graphics.tsaplots import plot_acf\n",
    "df.plot()"
   ]
  },
  {
   "cell_type": "code",
   "execution_count": null,
   "metadata": {},
   "outputs": [],
   "source": [
    "plot_acf(df)\n",
    "plt.xlabel('Lag (day)')\n",
    "plt.ylabel('Correlation coeffecient')\n",
    "''"
   ]
  },
  {
   "cell_type": "markdown",
   "metadata": {},
   "source": [
    "The points closer together in time have higher correlation compared to the points further apart. This is an expected behaviour. However, how quickly does the correlation decreases is important."
   ]
  },
  {
   "cell_type": "markdown",
   "metadata": {},
   "source": [
    "## Autoregressive models (AR)\n",
    "An [autoregressive model](https://en.wikipedia.org/wiki/Autoregressive_model), is a time series model which assumes a linear relationship between each point in time and its past $p$ points.\n",
    "\n",
    "$$y_t=c+\\sum_{i=1}^{p}\\phi_iy_{t-i}$$\n",
    "For instance a first order AR (also shown as AR(1)) can be written as:<br>\n",
    "$$y_t=c+\\phi_1 y_{t-1}$$\n",
    "This model can be found in statsmodels in ar_model submodule."
   ]
  },
  {
   "cell_type": "code",
   "execution_count": null,
   "metadata": {},
   "outputs": [],
   "source": [
    "# This is to avoid some warning messages from statsmodels\n",
    "import warnings\n",
    "warnings.filterwarnings(\"ignore\", category=FutureWarning)"
   ]
  },
  {
   "cell_type": "code",
   "execution_count": null,
   "metadata": {},
   "outputs": [],
   "source": [
    "from statsmodels.tsa.ar_model import AR, ARResults"
   ]
  },
  {
   "cell_type": "markdown",
   "metadata": {},
   "source": [
    "Let's try an AR model on our data. "
   ]
  },
  {
   "cell_type": "code",
   "execution_count": null,
   "metadata": {},
   "outputs": [],
   "source": [
    "\n",
    "model = AR(df_train)\n",
    "\n",
    "# Then we train the model specifying the order of AR. Let's start by trying `1`.\n",
    "trained_model = model.fit(\n",
    "    maxlag=2,  \n",
    "    trend='nc',\n",
    ")\n",
    "\n",
    "# Now the model is trained. We can view model's values:\n",
    "print('params\\n', trained_model.params)"
   ]
  },
  {
   "cell_type": "markdown",
   "metadata": {},
   "source": [
    "More importantly, we can forecast using the trained model. "
   ]
  },
  {
   "cell_type": "code",
   "execution_count": null,
   "metadata": {},
   "outputs": [],
   "source": [
    "# specify at which time-step in the training data the model should start and at which time-step it should stop\n",
    "start = len(df_train)\n",
    "end = len(df_train) + len(df_valid) - 1\n",
    "forecast = trained_model.predict(start, end)\n",
    "\n",
    "fig = plt.figure()\n",
    "ax = fig.gca()\n",
    "df_train['target'].plot(ax=ax, legend=True, label=\"Train\")\n",
    "df_valid['target'].plot(ax=ax, legend=True, label=\"Actual\")\n",
    "forecast.plot(ax=ax, legend=True, label=\"Forecast\")"
   ]
  },
  {
   "cell_type": "markdown",
   "metadata": {},
   "source": [
    "## Metrics"
   ]
  },
  {
   "cell_type": "markdown",
   "metadata": {},
   "source": [
    "It's not very close. But how close? We need to put a value on the goodness of the result. To do this, we can use metrics. There are various metrics which can be used here, such as root of mean squared error (RMSE), mean squered error (MSE), mean absolute error (MAE), $R^2$, and many more. Sometimes for a certain application you might need to use particular metric.<br>\n",
    "\n",
    "We will use Mean Absolute Percentage Error.\n",
    "\n",
    "$$MAPE=\\frac{\\lvert y_{true}-y_{pred}\\rvert}{y_{true}}$$\n",
    "\n",
    "There is a package called Scikit Learn which is a commonly used for machine learning and data science. This package contains many useful functions and algorithms. One of them is the metrics submodule where various types of metrics are available. \n",
    "\n"
   ]
  },
  {
   "cell_type": "code",
   "execution_count": null,
   "metadata": {},
   "outputs": [],
   "source": [
    "from sklearn.metrics.regression import _check_reg_targets\n",
    "\n",
    "def mape(y_true, y_pred, epsilon=1e-3):\n",
    "    \"\"\"\n",
    "    Mean absolute percentage error\n",
    "    \n",
    "    This function already exists in newer versions of sklearn.\n",
    "    \n",
    "    https://scikit-learn.org/dev/modules/generated/sklearn.metrics.mean_absolute_percentage_error.html\n",
    "    \"\"\"\n",
    "    y_type, y_true, y_pred, multioutput = _check_reg_targets(\n",
    "        y_true, y_pred, 'uniform_average')\n",
    "    \n",
    "    # This is the important line\n",
    "    mape = np.abs(y_pred - y_true) / np.maximum(np.abs(y_true), epsilon)\n",
    "    return np.average(mape)\n",
    "\n",
    "\n"
   ]
  },
  {
   "cell_type": "markdown",
   "metadata": {},
   "source": [
    "That's not so good! Let's calculate mean absolute error:"
   ]
  },
  {
   "cell_type": "code",
   "execution_count": null,
   "metadata": {},
   "outputs": [],
   "source": [
    "mape(df_valid, forecast)"
   ]
  },
  {
   "cell_type": "markdown",
   "metadata": {},
   "source": [
    "Now let's try larger models by increasing order of AR. It looks at a longer term trend now."
   ]
  },
  {
   "cell_type": "code",
   "execution_count": null,
   "metadata": {},
   "outputs": [],
   "source": [
    "model = AR(df_train)\n",
    "model = model.fit(maxlag=7,  trend='nc')\n",
    "start = len(df_train)\n",
    "end = len(df_train) + len(df_valid) - 1\n",
    "forecast = model.predict(start, end)\n",
    "fig = plt.figure()\n",
    "ax = fig.gca()\n",
    "df_train['target'].plot(ax=ax, legend=True, label=\"Train\")\n",
    "df_valid['target'].plot(ax=ax, legend=True, label=\"Actual\")\n",
    "forecast.plot(ax=ax, legend=True, label=\"Forecast\")\n",
    "mape(df_valid, forecast)"
   ]
  },
  {
   "cell_type": "markdown",
   "metadata": {},
   "source": [
    "Note that the MAPE is lower, meaning it is a better fit"
   ]
  },
  {
   "cell_type": "markdown",
   "metadata": {},
   "source": [
    "<div class=\"alert alert-success\">\n",
    "  <h2>Exercise</h2>\n",
    "\n",
    "  Try a few other values yourself and see if you get a better/lower result  than mape=0.4\n",
    "  \n",
    "  - try trend='nc', which makes it return to the mean.\n",
    "  - try a great lag, which gives it more parameters\n",
    "    \n",
    "    \n",
    "  Does it *look* better as well? Is MAPE capturing your intuition about a good fit?\n",
    "      \n",
    "\n",
    "  <details>\n",
    "  <summary><b>→ Hints</b></summary>\n",
    "\n",
    "  * try `model.fit(maxlag=30,  trend='c')`\n",
    "      \n",
    "  </details>\n",
    "\n",
    "  <br/>\n",
    "  <br/>\n",
    "  <details>\n",
    "  <summary>\n",
    "    <b>→ Solution</b>\n",
    "  </summary>\n",
    "\n",
    "  ```python\n",
    "    model = AR(df_train)\n",
    "    model = model.fit(maxlag=30,  trend='nc')\n",
    "    start = len(df_train)\n",
    "    end = len(df_train) + len(df_valid) - 1\n",
    "    forecast = model.predict(start, end)\n",
    "    fig = plt.figure()\n",
    "    ax = fig.gca()\n",
    "    df_train['target'].plot(ax=ax, legend=True, label=\"Train\")\n",
    "    df_valid['target'].plot(ax=ax, legend=True, label=\"Actual\")\n",
    "    forecast.plot(ax=ax, legend=True, label=\"Forecast\")\n",
    "    mape(df_valid, forecast)\n",
    "  ```\n",
    "\n",
    "  </details>\n",
    "\n",
    "  </div>\n",
    "\n"
   ]
  },
  {
   "cell_type": "code",
   "execution_count": null,
   "metadata": {},
   "outputs": [],
   "source": []
  },
  {
   "cell_type": "markdown",
   "metadata": {},
   "source": [
    "# Prophet\n",
    "Prophet is a time series analysis and forecasting package developed by Facebook. Prophet allows you to train forecasting models with minimal need to adjust the models parameters. Prophet is particularly useful when you are dealing with data that has multiple levels of seasonality.\n",
    "\n",
    "Let's start by importing the library. The name of the package is `fbprophet`."
   ]
  },
  {
   "cell_type": "code",
   "execution_count": null,
   "metadata": {},
   "outputs": [],
   "source": [
    "from fbprophet import Prophet"
   ]
  },
  {
   "cell_type": "code",
   "execution_count": null,
   "metadata": {
    "lines_to_next_cell": 0
   },
   "outputs": [],
   "source": [
    "# Load data\n",
    "df = block0 = pd.read_csv(\"../../data/processed/smartmeter/block_0.csv\", parse_dates=['day'], index_col=['day'])[['energy_sum']]\n",
    "# Get the mean over all houses, by day\n",
    "df = df.groupby('day').mean()\n",
    "# Rename energy to target\n",
    "df = df.rename(columns={'energy_sum':'target'}).iloc[:-1]\n",
    "\n",
    "n_split = -int(len(df)*0.85)\n",
    "df_train = df[:-n_split]\n",
    "df_valid = df[-n_split:]\n",
    "\n",
    "ax = df_train['target'].plot(legend=True, label=\"Train\")\n",
    "df_valid['target'].plot(ax=ax, legend=True, label=\"Validation\")\n",
    "\n",
    "# df.plot()"
   ]
  },
  {
   "cell_type": "code",
   "execution_count": null,
   "metadata": {
    "lines_to_next_cell": 2
   },
   "outputs": [],
   "source": []
  },
  {
   "cell_type": "markdown",
   "metadata": {},
   "source": [
    "Prophet needs the input data to be in a very specific format. The data needs to have a column containing daily dates called `\"ds\"`, and a column containing values named `\"y\"`. So we create a new data frame and use the required column names."
   ]
  },
  {
   "cell_type": "code",
   "execution_count": null,
   "metadata": {},
   "outputs": [],
   "source": [
    "df_trainp = pd.DataFrame({\"ds\": df_train.index, \"y\": df_train[\"target\"]}).reset_index(drop=True)\n",
    "df_trainp\n",
    "\n",
    "df_validp = pd.DataFrame({\"ds\": df_valid.index, \"y\": df_valid[\"target\"]}).reset_index(drop=True)\n",
    "df_validp"
   ]
  },
  {
   "cell_type": "markdown",
   "metadata": {},
   "source": [
    "Now the data is ready. We need to create a Prophet model and train it on the data."
   ]
  },
  {
   "cell_type": "code",
   "execution_count": null,
   "metadata": {},
   "outputs": [],
   "source": []
  },
  {
   "cell_type": "code",
   "execution_count": null,
   "metadata": {},
   "outputs": [],
   "source": [
    "%%time\n",
    "model = Prophet(holidays_prior_scale=0.01)\n",
    "model.fit(df_trainp)"
   ]
  },
  {
   "cell_type": "markdown",
   "metadata": {},
   "source": [
    "And that's it! The model is trained and ready to be used.<br>\n",
    "Let's forecast the next year using the model. To forecast using Prophet we need to first create an empty dataframe for future values. This data frame contains the future dates. Then we feed this dataframe to `.predict()` and will get the forecasted values."
   ]
  },
  {
   "cell_type": "code",
   "execution_count": null,
   "metadata": {},
   "outputs": [],
   "source": []
  },
  {
   "cell_type": "code",
   "execution_count": null,
   "metadata": {},
   "outputs": [],
   "source": [
    "future = model.make_future_dataframe(periods=365)\n",
    "future.head()"
   ]
  },
  {
   "cell_type": "markdown",
   "metadata": {},
   "source": [
    "__Note:__ as you can see this data frame has only future dates."
   ]
  },
  {
   "cell_type": "code",
   "execution_count": null,
   "metadata": {},
   "outputs": [],
   "source": [
    "forecast = model.predict(future)\n",
    "forecast.head()"
   ]
  },
  {
   "cell_type": "markdown",
   "metadata": {},
   "source": [
    "The result contains various components of the time series. The forecasted values can be found on `yhat` column. It is difficult to see how model has performed, so let's plot the results. We can do that using Prophets built-in plot function."
   ]
  },
  {
   "cell_type": "code",
   "execution_count": null,
   "metadata": {},
   "outputs": [],
   "source": [
    "fig = model.plot(forecast)\n",
    "fig.gca().plot(df_validp.ds, df_validp['y'], 'k.', c='r', label='validation')\n",
    "plt.legend()\n",
    "''"
   ]
  },
  {
   "cell_type": "markdown",
   "metadata": {},
   "source": [
    "As you can see at some periods the predictions are poor and at some points they are pretty close. Let's have a closer look at the future."
   ]
  },
  {
   "cell_type": "code",
   "execution_count": null,
   "metadata": {},
   "outputs": [],
   "source": [
    "fig = model.plot(forecast)\n",
    "fig.gca().plot(df_validp.ds, df_validp['y'], 'k.', c='r', label='validation')\n",
    "plt.xlim(pd.to_datetime([\"2013-06-15\", \"2013-08-15\"]))\n",
    "plt.ylim([10, 24])"
   ]
  },
  {
   "cell_type": "markdown",
   "metadata": {},
   "source": [
    "The model has found annual and weekly seasonalities. We can have closer look at these components using `.plot_components()`"
   ]
  },
  {
   "cell_type": "code",
   "execution_count": null,
   "metadata": {},
   "outputs": [],
   "source": [
    "model.plot_components(forecast)\n",
    "1"
   ]
  },
  {
   "cell_type": "markdown",
   "metadata": {},
   "source": [
    "Now we can see which days of the week are associated with more energy consumption (it's not suprising to see Saturday and Sunday) and also how time of the year affects the energy consumption."
   ]
  },
  {
   "cell_type": "markdown",
   "metadata": {},
   "source": [
    "## Cross_validation"
   ]
  },
  {
   "cell_type": "markdown",
   "metadata": {},
   "source": [
    "We created a model and forecasted the future. But we still don't know how good the model is. \n",
    "\n",
    "So like before we need a training and a validation set. We train a model on a training set, and then measure the accuracy of its prediction on validation set using metrics.\n",
    "\n",
    "\n",
    "One issue with this approach is that even when we get a value for prediction accuracy of a model, how do we know this value is reliable. Let's say we are comparing two models and mean absolute error for model A is 0.5 and for model B is 0.45. How do we know that B is better than A and it didn't just get lucky over this data set? \n",
    "\n",
    "One way to ensure which one is better is by comparing them over multiple sections of data sets. This approach is called `cross validation`. In Prophet, we start by training the model over the data from the beginning up to a certain point (cut-off point) and then predict for a few time steps (Horizon). Then we move the cut-off point by a certain period and repeat the process. We can then calculate the metrics for each model over multiple sections of the data and have a better comparison at the end.\n",
    "\n",
    "<img src=\"https://upload.wikimedia.org/wikipedia/commons/b/b5/K-fold_cross_validation_EN.svg\"/>"
   ]
  },
  {
   "cell_type": "markdown",
   "metadata": {},
   "source": [
    "You need to specify the following inputs:\n",
    "- initial: The initial length of training set.\n",
    "- period: How much the cut-off point is moved after each training process.\n",
    "- horizon: Length of forecasting period for which the metrics are calculcated.\n"
   ]
  },
  {
   "cell_type": "code",
   "execution_count": null,
   "metadata": {
    "lines_to_next_cell": 0
   },
   "outputs": [],
   "source": [
    "from fbprophet.diagnostics import cross_validation\n",
    "\n",
    "# Cross validation\n",
    "cv = cross_validation(model, initial=\"365 days\", period=\"90 days\", horizon=\"30 days\")\n",
    "cv.head()"
   ]
  },
  {
   "cell_type": "code",
   "execution_count": null,
   "metadata": {
    "lines_to_next_cell": 2
   },
   "outputs": [],
   "source": []
  },
  {
   "cell_type": "markdown",
   "metadata": {},
   "source": [
    "The cross validation data frame shows the forecasted value (yhat) and its confidence range (yhat_upper and yhat_lower). We can use `performance_metrics` function to calculate the metrics."
   ]
  },
  {
   "cell_type": "code",
   "execution_count": null,
   "metadata": {
    "lines_to_next_cell": 0
   },
   "outputs": [],
   "source": [
    "from fbprophet.diagnostics import performance_metrics\n",
    "\n",
    "perf = performance_metrics(cv)\n",
    "perf.index = pd.Index(perf.horizon.dt.days, name='days')\n",
    "perf"
   ]
  },
  {
   "cell_type": "markdown",
   "metadata": {},
   "source": [
    "The dataframe above has multiple metrics for model's predictions.\n"
   ]
  },
  {
   "cell_type": "markdown",
   "metadata": {},
   "source": [
    "<font color = red>__Note:__ In some versions of Prophet all the result is aggregated based on how far forecasted point is from cut-off point. If this is not the case, then you will see horizon column has repeated values (for instance multiple \"10 days\" entries) and you will need to use groupby.</font>"
   ]
  },
  {
   "cell_type": "code",
   "execution_count": null,
   "metadata": {},
   "outputs": [],
   "source": [
    "# uncomment and run if performance metrics are not aggregated based on horizon days\n",
    "\n",
    "# perf = perf.groupby('horizon').mean()\n",
    "# perf"
   ]
  },
  {
   "cell_type": "markdown",
   "metadata": {},
   "source": [
    "Before running the next cell look at the performance data frame and find the first and last horizon days and enter it in the next cell as `start` and `end`."
   ]
  },
  {
   "cell_type": "code",
   "execution_count": null,
   "metadata": {},
   "outputs": [],
   "source": [
    "perf[['mape']][:-1].plot(ylim=[0, 0.3])\n",
    "plt.title(\"Mean Absolute Percent Error of forecasts\")"
   ]
  },
  {
   "cell_type": "markdown",
   "metadata": {},
   "source": [
    "This plot shows the further we are from the cut-off point the larger the error is, which is what we expect. Now, let's compare this model with another one.<br>\n"
   ]
  },
  {
   "cell_type": "markdown",
   "metadata": {},
   "source": [
    "## Holidays\n",
    "\n",
    "Prophet has the ability to include the effect of holidays on the time series as well. Let's see whether adding public holidays to the model will make it any better."
   ]
  },
  {
   "cell_type": "code",
   "execution_count": null,
   "metadata": {},
   "outputs": [],
   "source": [
    "holiday_df = pd.read_csv(\n",
    "    \"../../data/processed/smartmeter/uk_bank_holidays.csv\",\n",
    "    names=(\"ds\", \"holiday\"),\n",
    "    header=0,\n",
    ")\n",
    "holiday_df.head()"
   ]
  },
  {
   "cell_type": "code",
   "execution_count": null,
   "metadata": {},
   "outputs": [],
   "source": []
  },
  {
   "cell_type": "code",
   "execution_count": null,
   "metadata": {},
   "outputs": [],
   "source": [
    "model2 = Prophet(holidays=holiday_df)\n",
    "model2.fit(df_trainp)\n",
    "\n",
    "# Cross validation\n",
    "cv2 = cross_validation(model2, initial=\"365 days\", period=\"90 days\", horizon=\"30 days\")\n",
    "perf2 = performance_metrics(cv2)\n",
    "perf2.index = pd.Index(perf2.horizon.dt.days, name='days')\n",
    "perf2"
   ]
  },
  {
   "cell_type": "code",
   "execution_count": null,
   "metadata": {},
   "outputs": [],
   "source": [
    "# uncomment and run if performance metrics are not aggregated based on horizon days\n",
    "\n",
    "# perf2 = perf2.groupby('horizon').mean()\n",
    "# perf2"
   ]
  },
  {
   "cell_type": "markdown",
   "metadata": {},
   "source": [
    "Now let's compare the models."
   ]
  },
  {
   "cell_type": "code",
   "execution_count": null,
   "metadata": {},
   "outputs": [],
   "source": [
    "ax=plt.gca()\n",
    "perf['mape'][:-1].plot(ax=ax, label=\"+ holidays\")\n",
    "perf2['mape'][:-1].plot(ax=ax, label=\"- holidays\")\n",
    "plt.title(\"Mean Absolute Percent Error of forecasts\")\n",
    "plt.ylabel(\"mape\")\n",
    "plt.legend()"
   ]
  },
  {
   "cell_type": "markdown",
   "metadata": {},
   "source": [
    "It seems adding holidays slightly lowered the error for the first couple of weeks."
   ]
  },
  {
   "cell_type": "markdown",
   "metadata": {},
   "source": [
    "We can separately plot the models including the errors for all the horizons."
   ]
  },
  {
   "cell_type": "code",
   "execution_count": null,
   "metadata": {},
   "outputs": [],
   "source": [
    "from fbprophet.plot import plot_cross_validation_metric\n",
    "\n",
    "fig = plot_cross_validation_metric(cv, metric=\"mape\")\n",
    "plt.ylim(0, 1)\n",
    "plt.xlim(0, 27)"
   ]
  },
  {
   "cell_type": "markdown",
   "metadata": {},
   "source": [
    "## Trends"
   ]
  },
  {
   "cell_type": "markdown",
   "metadata": {},
   "source": [
    "One interesting feature of Prophet is that it can identify when the trend of the data is changing. We can add these change points to the plot as well."
   ]
  },
  {
   "cell_type": "code",
   "execution_count": null,
   "metadata": {
    "lines_to_next_cell": 0
   },
   "outputs": [],
   "source": [
    "from fbprophet.plot import add_changepoints_to_plot\n",
    "\n",
    "model = Prophet()\n",
    "model.fit(df_trainp)\n",
    "future = model.make_future_dataframe(periods=len(df_validp))\n",
    "forecast = model.predict(future)\n",
    "fig = model.plot(forecast)\n",
    "ax = fig.gca()\n",
    "a = add_changepoints_to_plot(ax, model, forecast)\n",
    "ax.plot(df_validp.ds, df_validp['y'], 'k.', c='r', label='validation')"
   ]
  },
  {
   "cell_type": "code",
   "execution_count": null,
   "metadata": {
    "lines_to_next_cell": 2
   },
   "outputs": [],
   "source": []
  },
  {
   "cell_type": "markdown",
   "metadata": {},
   "source": [
    "We can change the sensitivity of the model to the changes by setting `changepoint_prior_scale`."
   ]
  },
  {
   "cell_type": "code",
   "execution_count": null,
   "metadata": {},
   "outputs": [],
   "source": [
    "model = Prophet(\n",
    "    changepoint_range=0.90,\n",
    "    changepoint_prior_scale=0.2,\n",
    ")\n",
    "model.fit(df_trainp)\n",
    "future = model.make_future_dataframe(periods=len(df_validp))\n",
    "forecast = model.predict(future)\n",
    "fig = model.plot(forecast)\n",
    "ax = fig.gca()\n",
    "a = add_changepoints_to_plot(ax, model, forecast)\n",
    "ax.plot(df_validp.ds, df_validp['y'], 'k.', c='r', label='validation')"
   ]
  },
  {
   "cell_type": "code",
   "execution_count": null,
   "metadata": {},
   "outputs": [],
   "source": []
  },
  {
   "cell_type": "code",
   "execution_count": null,
   "metadata": {},
   "outputs": [],
   "source": []
  },
  {
   "cell_type": "markdown",
   "metadata": {},
   "source": [
    "Prophet has many other parameters you can set to improve your model, including seasonality, growth type, etc. You can find more information about Facebook Prophet [here](https://facebook.github.io/prophet/docs/diagnostics.html)."
   ]
  },
  {
   "cell_type": "markdown",
   "metadata": {},
   "source": [
    "# Exercise"
   ]
  },
  {
   "cell_type": "markdown",
   "metadata": {},
   "source": [
    "Now that we have learned about various time series forecasting techniques, try to apply some of these techniques to another block of houses from electricity usage."
   ]
  },
  {
   "cell_type": "markdown",
   "metadata": {},
   "source": [
    " <div class=\"alert alert-success\">\n",
    "  <h2>Exercise</h2>\n",
    "\n",
    "  Now that we have learned about various time series forecasting techniques, try to apply some of these techniques to another block of houses from electricity usage.\n",
    "\n",
    "  ```python\n",
    "    # Load data\n",
    "    df = block1 = pd.read_csv(\"../../data/processed/smartmeter/block_1.csv\", parse_dates=['day'], index_col=['day'])[['energy_sum']]\n",
    "    # Get the mean over all houses, by day\n",
    "    df = df.groupby('day').mean()\n",
    "    # Rename energy to target\n",
    "    df = df.rename(columns={'energy_sum':'target'}).iloc[:-1]\n",
    "\n",
    "    n_split = -int(len(df)*0.85)\n",
    "    df_train = df[:-n_split]\n",
    "    df_valid = df[-n_split:]\n",
    "\n",
    "    df_trainp = pd.DataFrame({\"ds\": df_train.index, \"y\": df_train[\"target\"]}).reset_index(drop=True)\n",
    "    df_validp = pd.DataFrame({\"ds\": df_valid.index, \"y\": df_valid[\"target\"]}).reset_index(drop=True)\n",
    "    \n",
    "    # COPY PREVIOUS CELL HERE (And change parameters)\n",
    "  ```\n",
    "      \n",
    "\n",
    "  <details>\n",
    "  <summary><b>→ Hints</b></summary>\n",
    "\n",
    "  * Copy the cell above, and enter the new dataframe\n",
    "  * Perhaps try `Prophet(    changepoint_range=0.90, changepoint_prior_scale=0.2, holidays=holiday_df,)`\n",
    "\n",
    "  </details>\n",
    "\n",
    "  <br/>\n",
    "  <br/>\n",
    "  <details>\n",
    "  <summary>\n",
    "    <b>→ Solution</b>\n",
    "  </summary>\n",
    "\n",
    "  ```python\n",
    "    # Load data\n",
    "    df = block1 = pd.read_csv(\"../../data/processed/smartmeter/block_1.csv\", parse_dates=['day'], index_col=['day'])[['energy_sum']]\n",
    "    # Get the mean over all houses, by day\n",
    "    df = df.groupby('day').mean()\n",
    "    # Rename energy to target\n",
    "    df = df.rename(columns={'energy_sum':'target'}).iloc[:-1]\n",
    "\n",
    "    n_split = -int(len(df)*0.85)\n",
    "    df_train = df[:-n_split]\n",
    "    df_valid = df[-n_split:]\n",
    "\n",
    "    df_trainp = pd.DataFrame({\"ds\": df_train.index, \"y\": df_train[\"target\"]}).reset_index(drop=True)\n",
    "    df_validp = pd.DataFrame({\"ds\": df_valid.index, \"y\": df_valid[\"target\"]}).reset_index(drop=True)\n",
    "\n",
    "    # help(Prophet)\n",
    "    model = Prophet(\n",
    "        changepoint_range=0.90,\n",
    "        changepoint_prior_scale=0.2,\n",
    "        holidays=holiday_df,\n",
    "    )\n",
    "    model.fit(df_trainp)\n",
    "    future = model.make_future_dataframe(periods=len(df_validp))\n",
    "    forecast = model.predict(future)\n",
    "    fig = model.plot(forecast)\n",
    "    ax = fig.gca()\n",
    "    a = add_changepoints_to_plot(ax, model, forecast)\n",
    "    ax.plot(df_validp.ds, df_validp['y'], 'k.', c='r', label='validation')\n",
    "  ```\n",
    "\n",
    "  </details>\n",
    "\n",
    "  </div>"
   ]
  },
  {
   "cell_type": "code",
   "execution_count": null,
   "metadata": {},
   "outputs": [],
   "source": [
    "# Load data\n",
    "df = block1 = pd.read_csv(\"../../data/processed/smartmeter/block_1.csv\", parse_dates=['day'], index_col=['day'])[['energy_sum']]\n",
    "# Get the mean over all houses, by day\n",
    "df = df.groupby('day').mean()\n",
    "# Rename energy to target\n",
    "df = df.rename(columns={'energy_sum':'target'}).iloc[:-1]\n",
    "\n",
    "n_split = -int(len(df)*0.85)\n",
    "df_train = df[:-n_split]\n",
    "df_valid = df[-n_split:]\n",
    "\n",
    "df_trainp = pd.DataFrame({\"ds\": df_train.index, \"y\": df_train[\"target\"]}).reset_index(drop=True)\n",
    "df_validp = pd.DataFrame({\"ds\": df_valid.index, \"y\": df_valid[\"target\"]}).reset_index(drop=True)\n",
    "\n",
    "# COPY PREVIOUS CELL HERE (And change parameters)"
   ]
  },
  {
   "cell_type": "markdown",
   "metadata": {},
   "source": [
    "# (Advanced) Custom Seasonality\n",
    "\n",
    "This library is made by facebook for tracking user trends. That means it is set up for growing tends to do with humans, with holidays and weekly seasonality. What if we have data that has a differen't seasonality?\n",
    "\n",
    "Here we use current speed from the [IMOS - Australian National Mooring Network (ANMN) Facility - Current velocity time-series](https://catalogue-imos.aodn.org.au/geonetwork/srv/api/records/ae86e2f5-eaaf-459e-a405-e654d85adb9c). We will use tidal periods related to the Sun and Moon instead of human calender periods related to Weeks and Holidays."
   ]
  },
  {
   "cell_type": "code",
   "execution_count": null,
   "metadata": {},
   "outputs": [],
   "source": [
    "# from https://catalogue-imos.aodn.org.au/geonetwork/srv/api/records/ae86e2f5-eaaf-459e-a405-e654d85adb9c\n",
    "import xarray as xr\n",
    "xd = xr.open_dataset(\"../../data/processed/IMOS_ANMN/IMOS_ANMN-WA_AETVZ_20111221T060300Z_WATR20_FV01_WATR20-1112-Continental-194_END-20120704T050500Z_C-20200916T043212Z.nc\")\n",
    "name='CSPD'\n",
    "df = xd.isel(HEIGHT_ABOVE_SENSOR=0)['CSPD'].isel(TIME=slice(0, -1000)).to_dataframe()[['CSPD']]\n",
    "\n",
    "# Take the log, and smooth it by resampling to 4 hours\n",
    "df['CSPD'] = np.log(df['CSPD'])\n",
    "df = df.resample('4H').mean()\n",
    "\n",
    "# Format for prophet\n",
    "df = pd.DataFrame({\"ds\": df.index, \"y\": df['CSPD']})\n",
    "\n",
    "# Split\n",
    "n_split = -int(len(df)*0.7)\n",
    "df_trainp = df[:-n_split]\n",
    "df_validp = df[-n_split:]\n",
    "\n",
    "ax = df_trainp['y'].plot(legend=True, label=\"Train\")\n",
    "df_validp['y'].plot(ax=ax, legend=True, label=\"Validation\")\n",
    "plt.ylabel('Current Speed')"
   ]
  },
  {
   "cell_type": "code",
   "execution_count": null,
   "metadata": {},
   "outputs": [],
   "source": [
    "%%time\n",
    "# First let's try it with the default calender/holiday seasonalities\n",
    "model = Prophet()\n",
    "\n",
    "model.fit(df_trainp)\n",
    "\n",
    "forecast = model.predict(df_validp)\n",
    "forecast.index = forecast.ds\n",
    "\n",
    "fig = model.plot(forecast)\n",
    "a = add_changepoints_to_plot(plt.gca(), model, forecast)\n",
    "fig.gca().plot(df_validp.index, df_validp['y'], 'k.', c='r', label='validation')\n",
    "plt.show()\n",
    "''"
   ]
  },
  {
   "cell_type": "code",
   "execution_count": null,
   "metadata": {},
   "outputs": [],
   "source": [
    "%%time\n",
    "# Cross validation\n",
    "cv = cross_validation(model, horizon=\"7 days\", period=\"4 days\", initial=\"60 days\", parallel='threads')\n",
    "perf = performance_metrics(cv)\n",
    "perf.index = pd.Index(perf.horizon.dt.days, name='days')\n",
    "print('mape', perf.mape.mean())\n",
    "# perf.mape.plot()\n",
    "# perf"
   ]
  },
  {
   "cell_type": "code",
   "execution_count": null,
   "metadata": {},
   "outputs": [],
   "source": [
    "model.plot_components(forecast)\n",
    "1"
   ]
  },
  {
   "cell_type": "markdown",
   "metadata": {},
   "source": [
    "This is tidal data, and the default (daily, weeklly, yearly) seasonalities don't capture the dominant monthly seasonality in the tides. Lets add tidal frequencies and see if it does better.\n",
    "\n",
    "Also not that we have made growth flat, since tides tend to return to the mean."
   ]
  },
  {
   "cell_type": "code",
   "execution_count": null,
   "metadata": {},
   "outputs": [],
   "source": [
    "%%time\n",
    "\n",
    "model = Prophet(\n",
    "    growth='flat', # Recent addition https://github.com/facebook/prophet/pull/1466\n",
    "    \n",
    "    # Disable default seasons\n",
    "    yearly_seasonality=False,\n",
    "    holidays=None,\n",
    "    daily_seasonality=False,\n",
    "    weekly_seasonality=False,\n",
    "    holidays_prior_scale=0.001,\n",
    ")\n",
    "\n",
    "# Add periods from the theory of tides https://en.wikipedia.org/wiki/Theory_of_tides (additive)\n",
    "# Period is in days\n",
    "# Fourier order is how many fourier functions can be used, higher is more complex and unstable\n",
    "\n",
    "\n",
    "# Short\n",
    "# model.add_seasonality(name='M4', period=6.21/24, fourier_order=1)\n",
    "# model.add_seasonality(name='M6', period=4.14/24, fourier_order=1)\n",
    "# model.add_seasonality(name='M6', period=8.17/24, fourier_order=1)\n",
    "\n",
    "# Semi-diurnal\n",
    "model.add_seasonality(name='M2', period=12.4206012/24, fourier_order=1)\n",
    "model.add_seasonality(name='S2', period=12/24, fourier_order=1)\n",
    "# model.add_seasonality(name='K2', period=12.65834751/24, fourier_order=1)\n",
    "\n",
    "# diurnal\n",
    "model.add_seasonality(name='K1', period=23.93447213/24, fourier_order=2)\n",
    "# model.add_seasonality(name='O1', period=25.81933871/24, fourier_order=2)\n",
    "\n",
    "# Monthly and higher\n",
    "model.add_seasonality(name='Mm', period=27.554631896, fourier_order=2)\n",
    "# model.add_seasonality(name='quarterly', period=91.25, fourier_order=5)\n",
    "# model.add_seasonality(name='Ssa', period=182.628180208, fourier_order=1)\n",
    "# model.add_seasonality(name='Sa', period=365.256360417, fourier_order=1)\n",
    "\n",
    "model.fit(df_trainp)\n",
    "\n",
    "forecast = model.predict(df_validp)\n",
    "forecast.index = forecast.ds\n",
    "\n",
    "fig = model.plot(forecast)\n",
    "fig.gca().plot(df_validp.index, df_validp['y'], 'k.', c='r', label='validation')\n",
    "a = add_changepoints_to_plot(plt.gca(), model, forecast)\n",
    "plt.show()\n",
    "''"
   ]
  },
  {
   "cell_type": "code",
   "execution_count": null,
   "metadata": {},
   "outputs": [],
   "source": [
    "# Cross validation\n",
    "cv = cross_validation(model, horizon=\"7 days\", period=\"4 days\", initial=\"60 days\", parallel='threads')\n",
    "perf = performance_metrics(cv)\n",
    "perf.index = pd.Index(perf.horizon.dt.days, name='days')\n",
    "print('mape', perf.mape.mean())\n",
    "# perf.mape.plot()\n",
    "# perf"
   ]
  },
  {
   "cell_type": "code",
   "execution_count": null,
   "metadata": {},
   "outputs": [],
   "source": [
    "model.plot_components(forecast)\n",
    "1"
   ]
  },
  {
   "cell_type": "markdown",
   "metadata": {},
   "source": [
    "# Further Reading\n",
    "- [Introduction to the Fundamentals of Time Series Data and Analysis](https://www.aptech.com/blog/introduction-to-the-fundamentals-of-time-series-data-and-analysis/)\n",
    "- [The Complete Guide to Time Series Analysis and Forecasting](https://towardsdatascience.com/the-complete-guide-to-time-series-analysis-and-forecasting-70d476bfe775)\n",
    "- [Generate Quick and Accurate Time Series Forecasts using Facebook’s Prophet](https://www.analyticsvidhya.com/blog/2018/05/generate-accurate-forecasts-facebook-prophet-python-r/#:~:text=Prophet%20is%20an%20open%20source,of%20custom%20seasonality%20and%20holidays!)\n",
    "- [Facebook Prophet Documentation](https://facebook.github.io/prophet/docs/quick_start.html#python-api)\n"
   ]
  },
  {
   "cell_type": "code",
   "execution_count": null,
   "metadata": {},
   "outputs": [],
   "source": []
  },
  {
   "cell_type": "code",
   "execution_count": null,
   "metadata": {},
   "outputs": [],
   "source": []
  }
 ],
 "metadata": {
  "jupytext": {
   "encoding": "# -*- coding: utf-8 -*-",
   "formats": "ipynb,py"
  },
  "kernelspec": {
   "display_name": "deep_ml_curriculum",
   "language": "python",
   "name": "deep_ml_curriculum"
  }
 },
 "nbformat": 4,
 "nbformat_minor": 4
}
