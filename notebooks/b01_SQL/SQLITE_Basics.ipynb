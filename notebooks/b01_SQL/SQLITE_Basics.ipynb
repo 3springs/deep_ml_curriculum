{
 "cells": [
  {
   "cell_type": "code",
   "execution_count": null,
   "metadata": {},
   "outputs": [],
   "source": []
  },
  {
   "cell_type": "markdown",
   "metadata": {},
   "source": [
    "# SQLite Basics\n",
    "This notebook includes basic instructions about how to access a database, and read/write data from/to it.<br>\n",
    "Here, we are using **SQLite** which is light-weight database management system. To communicate with a database in SQLite we use Structured Query Language a.k.a **SQL**. We use SQL to send a querry to the database manager. Then the database manager processes the query and sends the result back. The querry is the instructions that tells database manager what to do.\n",
    "In python we can use **sqlite3** package for this putpose."
   ]
  },
  {
   "cell_type": "code",
   "execution_count": null,
   "metadata": {},
   "outputs": [],
   "source": [
    "import sqlite3"
   ]
  },
  {
   "cell_type": "markdown",
   "metadata": {},
   "source": [
    "## Connecting to a database\n",
    "Let's start by connecting to a database. We can do that using `sqlite.connect` which returns a connection object."
   ]
  },
  {
   "cell_type": "markdown",
   "metadata": {},
   "source": [
    "create a database connection to the SQLite database specified by the db_file:"
   ]
  },
  {
   "cell_type": "code",
   "execution_count": null,
   "metadata": {},
   "outputs": [],
   "source": [
    "import logging\n",
    "from shutil import copyfile\n",
    "import datetime\n",
    "\n",
    "# Make a temporary copy of the db\n",
    "ts = datetime.datetime.isoformat(datetime.datetime.utcnow()).replace(':', '_')\n",
    "db_file = 'Sales_{}.db'.format(ts) \n",
    "copyfile(\"Sales.db\", db_file)"
   ]
  },
  {
   "cell_type": "code",
   "execution_count": null,
   "metadata": {},
   "outputs": [],
   "source": [
    "db_file = \"Sales.db\"\n",
    "conn = sqlite3.connect(db_file)"
   ]
  },
  {
   "cell_type": "markdown",
   "metadata": {},
   "source": [
    "If you didn't get any error, it means you have successfully connected to the database. <br>\n",
    "**Note:** If the file doesn't exist sqlite will create an empty database with the given name.<br><br>\n",
    "Now we can start executing a query. Let's start by the simplest query:<br>\n",
    "<code>\n",
    "    SELECT * FROM {name of table}\n",
    "</code>\n",
    "This query returns all the rows and columns of a specific table in the database. To use this query first we need to know the names of the tables in the database and in general the structure of the database. \n",
    "<img src=\"DB.png\" alt=\"Image not found\" width=\"50%\">\n",
    "Let's get a list of all the customers"
   ]
  },
  {
   "cell_type": "code",
   "execution_count": null,
   "metadata": {},
   "outputs": [],
   "source": [
    "query = \"\"\"\n",
    "SELECT * FROM Customers;\n",
    "\n",
    "\"\"\""
   ]
  },
  {
   "cell_type": "markdown",
   "metadata": {},
   "source": [
    "**Note:** It is customary to use SQL key word all in caps but that is not necessary. \"SELECT\" and \"select\" do the same job.<br>\n",
    "<br>Now that we have the query, let's send it to the database manager. To do that, we need to create a cursor object and ask the cursor to execute the query and return all the information."
   ]
  },
  {
   "cell_type": "code",
   "execution_count": null,
   "metadata": {},
   "outputs": [],
   "source": [
    "cur = conn.cursor()\n",
    "cur.execute(query)\n",
    "output = cur.fetchall()\n",
    "print(output)"
   ]
  },
  {
   "cell_type": "markdown",
   "metadata": {},
   "source": [
    "The output is a list of rows in the table. Each row is returned in form of a tuple. Let's have a look at the first row:"
   ]
  },
  {
   "cell_type": "code",
   "execution_count": null,
   "metadata": {},
   "outputs": [],
   "source": [
    "output[0]"
   ]
  },
  {
   "cell_type": "markdown",
   "metadata": {},
   "source": [
    "Let's turn it into a function to avoid writing the same lines of code over and over. This function executes a query and prints all the rows:"
   ]
  },
  {
   "cell_type": "code",
   "execution_count": null,
   "metadata": {},
   "outputs": [],
   "source": [
    "def execute_query(conn, query):\n",
    "    cur = conn.cursor()\n",
    "    cur.execute(query)\n",
    "    rows = cur.fetchall()\n",
    "    for i, row in enumerate(rows):\n",
    "        print('{}. {}'.format(i + 1, row))"
   ]
  },
  {
   "cell_type": "code",
   "execution_count": null,
   "metadata": {},
   "outputs": [],
   "source": [
    "def return_query(conn, query):\n",
    "    cur = conn.cursor()\n",
    "    cur.execute(query)\n",
    "    rows = cur.fetchall()\n",
    "    return list(rows)"
   ]
  },
  {
   "cell_type": "markdown",
   "metadata": {},
   "source": [
    "## SQL clauses\n",
    "### SELECT\n",
    "SELECT is the most common clause in SQL. Using SELECT you can specify which columns should be returned. \n"
   ]
  },
  {
   "cell_type": "markdown",
   "metadata": {},
   "source": [
    "Returns a list of first and last names of all customers"
   ]
  },
  {
   "cell_type": "code",
   "execution_count": null,
   "metadata": {},
   "outputs": [],
   "source": [
    "query = \"\"\"\n",
    "SELECT FirstName, Surname FROM Customers;\n",
    "\"\"\"\n",
    "execute_query(conn, query)"
   ]
  },
  {
   "cell_type": "markdown",
   "metadata": {},
   "source": [
    "Returns a list of first name, last name, and email for all customers"
   ]
  },
  {
   "cell_type": "code",
   "execution_count": null,
   "metadata": {},
   "outputs": [],
   "source": [
    "query = \"\"\"\n",
    "SELECT FirstName, Surname, Email FROM Customers;\n",
    "\"\"\"\n",
    "execute_query(conn, query)"
   ]
  },
  {
   "cell_type": "markdown",
   "metadata": {},
   "source": [
    "We need to specify which columns we want to be returned. If we need all the columns we use `*`."
   ]
  },
  {
   "cell_type": "markdown",
   "metadata": {},
   "source": [
    "One issue you might have is not knowing what the names of the columns are. So how do we get the name of the columns? There are a few ways to do that. Probably, the simplest one is using `.description` property of the cursor. When you execute a query you can find the names of the columns in `.description` property of the cursor. To have a full list of columns, use `SELECT *`."
   ]
  },
  {
   "cell_type": "code",
   "execution_count": null,
   "metadata": {},
   "outputs": [],
   "source": [
    "query = \"\"\"\n",
    "SELECT * from Customers\n",
    "\"\"\""
   ]
  },
  {
   "cell_type": "code",
   "execution_count": null,
   "metadata": {},
   "outputs": [],
   "source": [
    "cur = conn.cursor()\n",
    "cur.execute(query)\n",
    "cur.description"
   ]
  },
  {
   "cell_type": "markdown",
   "metadata": {},
   "source": [
    "**Note:** you don't need to use `.fetchall()` method. Just executing the query will give the names of the columns."
   ]
  },
  {
   "cell_type": "markdown",
   "metadata": {},
   "source": [
    "Another way is using the query below which will return names of all the tables, names of columns in each table, and the type of data in each column."
   ]
  },
  {
   "cell_type": "code",
   "execution_count": null,
   "metadata": {},
   "outputs": [],
   "source": [
    "query = \"SELECT * FROM sqlite_master WHERE type = 'table'\"\n",
    "cur = conn.cursor()\n",
    "cur.execute(query)\n",
    "output = cur.fetchall()\n",
    "for row in output:\n",
    "    for c in row:\n",
    "        print(c)\n",
    "    print(\"-\" * 50)"
   ]
  },
  {
   "cell_type": "markdown",
   "metadata": {},
   "source": [
    "### ORDER BY\n",
    "By default the output of a query has no specific order. `ORDER BY` clause is used to sort data in the output. You can sort the data based on one or more columns. We can also specify whether we want the sorted output to be ascending or descending. This can be achieved by adding the following code to the query:<br>\n",
    "`ORDER BY {name of column} {ASC or DESC}`<br>\n",
    "ASC: Ascending<br>\n",
    "DESC: Descending\n",
    "\n"
   ]
  },
  {
   "cell_type": "markdown",
   "metadata": {},
   "source": [
    "The query below returns a list of first name, last name, Country and email for all customers."
   ]
  },
  {
   "cell_type": "code",
   "execution_count": null,
   "metadata": {},
   "outputs": [],
   "source": [
    "query = \"\"\"\n",
    "SELECT FirstName, Surname, Country, Email FROM Customers\n",
    "ORDER BY Country ASC,Surname ASC, FirstName ASC;\n",
    "\"\"\"\n",
    "execute_query(conn, query)"
   ]
  },
  {
   "cell_type": "markdown",
   "metadata": {},
   "source": [
    "**Note:** In the query above, the output is ordered by Country and then last and first name."
   ]
  },
  {
   "cell_type": "markdown",
   "metadata": {},
   "source": [
    "### DISTINCT\n",
    "This clause is used to remove duplicates in the result. It appears immediately after `SELECT` followed by a column name or a list of columns. If only one column is specified only the values on that column is used to identify duplicates. If multiple columns are specified, the combination of them will be used to identify duplicates.\n",
    "<code>\n",
    "SELECT DISTINCT {column}\n",
    "FROM {table};\n",
    "</code>"
   ]
  },
  {
   "cell_type": "code",
   "execution_count": null,
   "metadata": {},
   "outputs": [],
   "source": [
    "query = \"\"\"\n",
    "SELECT DISTINCT City\n",
    "FROM Customers\n",
    "ORDER BY City;\n",
    "\"\"\"\n",
    "execute_query(conn, query)"
   ]
  },
  {
   "cell_type": "markdown",
   "metadata": {},
   "source": [
    "### WHERE\n",
    "We can add condition to the query sing `WHERE` clause.\n",
    "<code>\n",
    "SELECT column_list\n",
    "FROM table\n",
    "WHERE search_condition;\n",
    "</code>\n",
    "<br>\n",
    "SQLite uses the following steps:\n",
    "1. Check the table in the FROM clause.\n",
    "2. Evaluate the conditions in the WHERE clause to get the rows that met these conditions.\n",
    "3. Make the final result set based on the rows in the previous step with columns in the SELECT clause.\n",
    "\n",
    "The search condition in the WHERE has the following form:<br>\n",
    "left_expression  COMPARISON_OPERATOR  right_expression<br><br>\n",
    "e.g. \n",
    "<code> \n",
    "WHERE column_1>5\n",
    "    \n",
    "WHERE column_2 IN (1,2,3)\n",
    "\n",
    "</code>\n",
    "**List of comparison operators:**\n",
    "<table>\n",
    "<thead>\n",
    "  <tr>\n",
    "    <th>Operator</th>\n",
    "    <th>Meaning</th>\n",
    "  </tr>\n",
    "</thead>\n",
    "<tbody>\n",
    "  <tr>\n",
    "    <td>=</td>\n",
    "    <td>Equal to</td>\n",
    "  </tr>\n",
    "  <tr>\n",
    "    <td>&lt;&gt; or !=</td>\n",
    "    <td>Not equal to</td>\n",
    "  </tr>\n",
    "  <tr>\n",
    "    <td>&lt;</td>\n",
    "    <td>Less than</td>\n",
    "  </tr>\n",
    "  <tr>\n",
    "    <td>&gt;</td>\n",
    "    <td>Greater than</td>\n",
    "\n",
    "  </tr>\n",
    "  <tr>\n",
    "    <td>&lt;=</td>\n",
    "    <td>Less than or equal to</td>\n",
    "\n",
    "  </tr>\n",
    "  <tr>\n",
    "    <td>&gt;=</td>\n",
    "    <td>Greater than or equal to</td>\n",
    "\n",
    "  </tr>\n",
    "</tbody>\n",
    "</table>\n",
    "\n",
    "**List of logical operators:**\n",
    "<table>\n",
    "<thead>\n",
    "  <tr>\n",
    "    <th>Operator</th>\n",
    "    <th>Meaning</th>\n",
    "  </tr>\n",
    "</thead>\n",
    "<tbody>\n",
    "  <tr>\n",
    "    <td>ALL</td>\n",
    "    <td>returns 1 if all expressions are 1.</td>\n",
    "  </tr>\n",
    "  <tr>\n",
    "    <td>AND</td>\n",
    "    <td>returns 1 if both expressions are 1, and 0 if one of the expressions is 0.</td>\n",
    "  </tr>\n",
    "  <tr>\n",
    "    <td>ANY</td>\n",
    "    <td>returns 1 if any one of a set of comparisons is 1.</td>\n",
    "  </tr>\n",
    "  <tr>\n",
    "    <td>BETWEEN</td>\n",
    "    <td>returns 1 if a value is within a range.</td>\n",
    "  </tr>\n",
    "  <tr>\n",
    "    <td>EXISTS</td>\n",
    "    <td>returns 1 if a subquery contains any rows.</td>\n",
    "  </tr>\n",
    "  <tr>\n",
    "    <td>IN</td>\n",
    "    <td>returns 1 if a value is in a list of values.</td>\n",
    "  </tr>\n",
    "  <tr>\n",
    "    <td>LIKE</td>\n",
    "    <td>returns 1 if a value matches a pattern</td>\n",
    "  </tr>\n",
    "  <tr>\n",
    "    <td>NOT</td>\n",
    "    <td>reverses the value of other operators such as NOT EXISTS, NOT IN, NOT BETWEEN, etc.</td>\n",
    "  </tr>\n",
    "  <tr>\n",
    "    <td>OR</td>\n",
    "    <td>returns true if either expression is 1</td>\n",
    "  </tr>\n",
    "</tbody>\n",
    "</table>"
   ]
  },
  {
   "cell_type": "code",
   "execution_count": null,
   "metadata": {},
   "outputs": [],
   "source": []
  },
  {
   "cell_type": "markdown",
   "metadata": {},
   "source": [
    "Let's create a list of all the Products having StockCode, Category, Weight, and UnitPrice in the result and sorted from high to low by the price."
   ]
  },
  {
   "cell_type": "code",
   "execution_count": null,
   "metadata": {},
   "outputs": [],
   "source": [
    "query = \"\"\"\n",
    "SELECT StockCode,Category,Weight, UnitPrice FROM Products\n",
    "ORDER BY UnitPrice DESC;\n",
    "\"\"\"\n",
    "execute_query(conn, query)"
   ]
  },
  {
   "cell_type": "markdown",
   "metadata": {},
   "source": [
    "Now, let's do the same thing but this time only the products with price above $15."
   ]
  },
  {
   "cell_type": "code",
   "execution_count": null,
   "metadata": {},
   "outputs": [],
   "source": [
    "query = \"\"\"\n",
    "SELECT StockCode,Category,Weight, UnitPrice FROM Products\n",
    "WHERE UnitPrice>15\n",
    "ORDER BY UnitPrice DESC;\n",
    "\"\"\"\n",
    "execute_query(conn, query)"
   ]
  },
  {
   "cell_type": "markdown",
   "metadata": {},
   "source": [
    "The database puts `NULL` in the table where there is no data. When this data is transfered to Python `NULL` is converted to `None`.<br>\n",
    "Let's get a list of customers without a Fax number."
   ]
  },
  {
   "cell_type": "code",
   "execution_count": null,
   "metadata": {},
   "outputs": [],
   "source": [
    "query = \"\"\"\n",
    "SELECT Surname,Country,Fax FROM Customers\n",
    "WHERE Fax IS NULL;\n",
    "\"\"\"\n",
    "execute_query(conn, query)"
   ]
  },
  {
   "cell_type": "markdown",
   "metadata": {},
   "source": [
    "**Note:** `WHERE` must come before `ORDER BY`."
   ]
  },
  {
   "cell_type": "markdown",
   "metadata": {},
   "source": [
    "Only Customers from Australia:"
   ]
  },
  {
   "cell_type": "code",
   "execution_count": null,
   "metadata": {},
   "outputs": [],
   "source": [
    "query = \"\"\"\n",
    "SELECT CustomerId, FirstName, Surname FROM Customers\n",
    "WHERE Country=\"Australia\"\n",
    "ORDER BY Surname DESC;\n",
    "\"\"\"\n",
    "execute_query(conn, query)"
   ]
  },
  {
   "cell_type": "markdown",
   "metadata": {},
   "source": [
    "### LIMIT\n",
    "This clause is used to constrain the number of rows in the result."
   ]
  },
  {
   "cell_type": "markdown",
   "metadata": {},
   "source": [
    "This query shows the 10 most expensive products."
   ]
  },
  {
   "cell_type": "code",
   "execution_count": null,
   "metadata": {},
   "outputs": [],
   "source": [
    "query = \"\"\"\n",
    "SELECT StockCode,Category,Weight, UnitPrice FROM Products\n",
    "ORDER BY UnitPrice DESC\n",
    "LIMIT 10;\n",
    "\"\"\"\n",
    "execute_query(conn, query)"
   ]
  },
  {
   "cell_type": "markdown",
   "metadata": {},
   "source": [
    "You can use `OFFSET` to skip a few rows."
   ]
  },
  {
   "cell_type": "markdown",
   "metadata": {},
   "source": [
    "This query shows the next top 10 products with highest price. Since it is skipping the first 10 the result would be numbers 11-20."
   ]
  },
  {
   "cell_type": "code",
   "execution_count": null,
   "metadata": {},
   "outputs": [],
   "source": [
    "query = \"\"\"\n",
    "SELECT StockCode,Category,Weight, UnitPrice FROM Products\n",
    "ORDER BY UnitPrice DESC\n",
    "LIMIT 10 OFFSET 10;\n",
    "\"\"\"\n",
    "execute_query(conn, query)"
   ]
  },
  {
   "cell_type": "markdown",
   "metadata": {},
   "source": [
    "**Note:** `LIMIT` should always be used with `ORDER BY` so the rows are always in a specific order."
   ]
  },
  {
   "cell_type": "markdown",
   "metadata": {},
   "source": [
    " <div class=\"alert alert-success\">\n",
    "  <h2>Exercise</h2>\n",
    "\n",
    "  Make a query that:\n",
    "  - Selects all distinct surnames for customers\n",
    "  - order by City\n",
    "  - and limit to 40\n",
    "      \n",
    "\n",
    "  <details>\n",
    "  <summary><b>→ Hints</b></summary>\n",
    "\n",
    "  * Copy the code from the `DISTINCT City` example, and change City to Surname\n",
    "  * Add LIMIT 40 at the end\n",
    "\n",
    "  </details>\n",
    "\n",
    "  <br/>\n",
    "  <br/>\n",
    "  <details>\n",
    "  <summary>\n",
    "    <b>→ Solution</b>\n",
    "  </summary>\n",
    "\n",
    "  ```python\n",
    "    query = \"\"\"\n",
    "    SELECT DISTINCT Surname\n",
    "    FROM Customers\n",
    "    ORDER BY City\n",
    "    LIMIT 40\n",
    "    \"\"\"\n",
    "    execute_query(conn, query)\n",
    "  ```\n",
    "\n",
    "  </details>\n",
    "\n",
    "  </div>"
   ]
  },
  {
   "cell_type": "markdown",
   "metadata": {},
   "source": [
    "## Joins\n",
    "As you have probably noticed the data in this database is in various tables. Each table contains a specific part of data. For instance, one table has the information about invoices and another table has information about customers. These tables are linked together so we can find which invoice belongs to which customer. To do this we use various types of `JOIN`. Each join clause determines how SQLite uses data from one table to match with rows in another table.<br>\n",
    "Tables are connected using unique identifiers. For instance, __Sales__ table has a column called _CustomerId_. The same column name can be found in __Customers__ table. By looking up the customer id from invoices in the customers table we can find the information about the customer of each invoice.`JOIN` used this identifiers to connect the tables and look up information.\n",
    "\n",
    "\n"
   ]
  },
  {
   "cell_type": "markdown",
   "metadata": {},
   "source": [
    "### INNER JOIN"
   ]
  },
  {
   "cell_type": "code",
   "execution_count": null,
   "metadata": {},
   "outputs": [],
   "source": [
    "query = \"\"\"\n",
    "SELECT PurchaseDate,FirstName, Surname, ProductID, Quantity\n",
    "FROM Sales\n",
    "INNER JOIN Customers \n",
    "    ON Sales.CustomerId = Customers.CustomerId\n",
    "ORDER BY PurchaseDate\n",
    "LIMIT 20;\n",
    "\"\"\"\n",
    "\n",
    "execute_query(conn, query)"
   ]
  },
  {
   "cell_type": "markdown",
   "metadata": {},
   "source": [
    "This query shows the purchase history of customers."
   ]
  },
  {
   "cell_type": "code",
   "execution_count": null,
   "metadata": {},
   "outputs": [],
   "source": [
    "query = \"\"\"\n",
    "SELECT Surname, ProductID, Quantity, PurchaseDate\n",
    "FROM Customers\n",
    "INNER JOIN Sales ON\n",
    "    Customers.CustomerID = Sales.CustomerID\n",
    "ORDER BY Surname;\n",
    "\"\"\"\n",
    "execute_query(conn, query)"
   ]
  },
  {
   "cell_type": "markdown",
   "metadata": {},
   "source": [
    "### LEFT  JOIN\n",
    "Also called `LEFT OUTER JOIN`"
   ]
  },
  {
   "cell_type": "markdown",
   "metadata": {},
   "source": [
    "This query shows the purchase history of customers:"
   ]
  },
  {
   "cell_type": "code",
   "execution_count": null,
   "metadata": {},
   "outputs": [],
   "source": [
    "query = \"\"\"\n",
    "SELECT Surname, ProductID, Quantity, PurchaseDate\n",
    "FROM Customers\n",
    "LEFT JOIN Sales ON\n",
    "    Customers.CustomerID = Sales.CustomerID\n",
    "ORDER BY Surname;\n",
    "\"\"\"\n",
    "\n",
    "execute_query(conn, query)"
   ]
  },
  {
   "cell_type": "markdown",
   "metadata": {},
   "source": [
    "**Note:** The top two cells are both showing the purchase history of customers. But one is using `INNER JOIN` and the other is using `LEFT JOIN`. So what's the difference? If you pay close attention you will see that the two tables don't have the same number of rows. The main difference between the two is that `LEFT JOIN` conserves all the entries on the left (customers) and if it can't find any purchases for that customer it will return `NULL`. However, `INNER JOIN` tries to find a match. If a customer doesn't have any purchases in the list it will not be shown in th final result.<br>\n",
    "`INNER JOIN` and `LEFT JOIN` are the most common types of join. However, there are other types such as `CROSS JOIN`, `FULL OUTER JOIN`, `RIGHT JOIN`, etc. You can find more information about these types of join on https://www.sqlitetutorial.net/.\n"
   ]
  },
  {
   "cell_type": "markdown",
   "metadata": {},
   "source": [
    "One trick that makes writing a query faster is using aliases to tables and column. The query below is the same as the one above. The only difference is use of aliases."
   ]
  },
  {
   "cell_type": "code",
   "execution_count": null,
   "metadata": {},
   "outputs": [],
   "source": [
    "query = \"\"\"\n",
    "SELECT Surname, ProductID, Quantity, PurchaseDate\n",
    "FROM Customers as c\n",
    "LEFT JOIN Sales as s ON\n",
    "    c.CustomerID = s.CustomerID\n",
    "ORDER BY Surname;\n",
    "\"\"\"\n",
    "\n",
    "execute_query(conn, query)"
   ]
  },
  {
   "cell_type": "markdown",
   "metadata": {},
   "source": [
    "After `SELECT` we can also use math operation on the columns."
   ]
  },
  {
   "cell_type": "code",
   "execution_count": null,
   "metadata": {},
   "outputs": [],
   "source": [
    "query = \"\"\"\n",
    "SELECT InvoiceNumber, StockCode, Quantity, UnitPrice, Quantity*UnitPrice as Total,  CustomerID\n",
    "FROM Sales as s\n",
    "INNER JOIN Products as p\n",
    "    ON s.ProductId = p.ProductId\n",
    "ORDER BY InvoiceNumber DESC\n",
    "\"\"\"\n",
    "execute_query(conn, query)"
   ]
  },
  {
   "cell_type": "markdown",
   "metadata": {},
   "source": [
    "### GROUP BY\n",
    "This clause allows us to summerise the result of a query. It returns only one row for every group of rows. The rows are summerised using an aggregate function such as MIN, MAX, COUNT, AVG, or SUM.\n"
   ]
  },
  {
   "cell_type": "code",
   "execution_count": null,
   "metadata": {},
   "outputs": [],
   "source": [
    "query = \"\"\"\n",
    "SELECT InvoiceNumber, PurchaseDate, COUNT(StockCode) as ProductsCount,SUM(Quantity) as ItemsCount\n",
    "FROM Sales as s\n",
    "INNER JOIN Products as p\n",
    "    ON s.ProductID = p.ProductID\n",
    "GROUP BY InvoiceNumber\n",
    "LIMIT 20\n",
    "\"\"\"\n",
    "execute_query(conn, query)"
   ]
  },
  {
   "cell_type": "markdown",
   "metadata": {},
   "source": [
    "In the example above we first join `Sales` with `Products` to get a list of purchases with product details. Then we group them by invoice number, and aggregate the total invoice once using count (to find how many types of product was purchased) and once using sum (to find how many items were purchased). <br>"
   ]
  },
  {
   "cell_type": "markdown",
   "metadata": {},
   "source": [
    "### HAVING\n",
    "This clause adds conditions to the result of group by. It can be used as follows:\n",
    "<code> \n",
    "SELECT column_1, column_2, aggregate_function (column_3)\n",
    "FROM table\n",
    "GROUP BY\n",
    "\tcolumn_1, column_2\n",
    "HAVING search_condition;\n",
    "</code>\n",
    "\n",
    "<br> __<font color=\"red\">Note that the HAVING clause is applied after GROUP BY clause, whereas the WHERE clause is applied before the GROUP BY clause.</font>__"
   ]
  },
  {
   "cell_type": "markdown",
   "metadata": {},
   "source": [
    "Let's repeat the last example, but this time return only the invoices with more than one type of product in them."
   ]
  },
  {
   "cell_type": "code",
   "execution_count": null,
   "metadata": {},
   "outputs": [],
   "source": [
    "query = \"\"\"\n",
    "SELECT InvoiceNumber, PurchaseDate, COUNT(StockCode) as ProductsCount,SUM(Quantity) as ItemsCount\n",
    "FROM Sales as s\n",
    "INNER JOIN Products as p\n",
    "    ON s.ProductID = p.ProductID\n",
    "GROUP BY InvoiceNumber\n",
    "HAVING ProductsCount>1\n",
    "LIMIT 20\n",
    "\"\"\"\n",
    "\n",
    "execute_query(conn, query)"
   ]
  },
  {
   "cell_type": "markdown",
   "metadata": {},
   "source": [
    "### Subqueries"
   ]
  },
  {
   "cell_type": "markdown",
   "metadata": {},
   "source": [
    "Subqueries are queries within queries. We can use a query to grab data and arrange it in a table and the write another query to work on the table we just created. This table is not saved in the database but is available until the end of the query."
   ]
  },
  {
   "cell_type": "markdown",
   "metadata": {},
   "source": [
    "Let's use what we have learned so far and create a list of top 10 invoices with the higherst values."
   ]
  },
  {
   "cell_type": "code",
   "execution_count": null,
   "metadata": {},
   "outputs": [],
   "source": [
    "query = \"\"\"\n",
    "SELECT InvoiceNumber, Quantity*UnitPrice as Total,  CustomerID\n",
    "FROM Sales as s\n",
    "INNER JOIN Products as p\n",
    "    ON s.ProductId = p.ProductId\n",
    "GROUP BY InvoiceNumber\n",
    "ORDER BY Total DESC\n",
    "LIMIT 10\n",
    "\n",
    "\"\"\"\n",
    "execute_query(conn, query)"
   ]
  },
  {
   "cell_type": "markdown",
   "metadata": {},
   "source": [
    "Now If we wanted to have Customers details in the result as well, we could use this as a subquery."
   ]
  },
  {
   "cell_type": "code",
   "execution_count": null,
   "metadata": {},
   "outputs": [],
   "source": [
    "query = \"\"\"\n",
    "SELECT InvoiceNumber, FirstName, Surname, Mobile, Total\n",
    "FROM\n",
    "    (SELECT InvoiceNumber, Quantity*UnitPrice as Total,  CustomerID\n",
    "    FROM Sales as s\n",
    "    INNER JOIN Products as p\n",
    "        ON s.ProductId = p.ProductId\n",
    "    GROUP BY InvoiceNumber\n",
    "    ORDER BY Total DESC\n",
    "    LIMIT 10) as invoices\n",
    "INNER JOIN Customers as c\n",
    "    ON invoices.CustomerID = c.CustomerID\n",
    "\"\"\"\n",
    "execute_query(conn, query)"
   ]
  },
  {
   "cell_type": "markdown",
   "metadata": {},
   "source": [
    " <div class=\"alert alert-success\">\n",
    "  <h2>Exercise</h2>\n",
    "\n",
    "  Instead of doing a left join of Customers on Sales, do Sales on Customers. How are the results different?\n",
    "    \n",
    "    \n",
    "  <img src=\"left_join.svg\"/>\n",
    "      \n",
    "\n",
    "  <details>\n",
    "  <summary><b>→ Hints</b></summary>\n",
    "\n",
    "  * Copy the code from the left join example\n",
    "  * replace `FROM Customers LEFT JOIN Sales` with the opposite\n",
    "  * run it and compare the first few rows to the original query\n",
    "\n",
    "  </details>\n",
    "\n",
    "  <br/>\n",
    "  <br/>\n",
    "  <details>\n",
    "  <summary>\n",
    "    <b>→ Solution</b>\n",
    "  </summary>\n",
    "\n",
    "    There are more results. \n",
    "\n",
    "  ```python\n",
    "    # Original\n",
    "    query = \"\"\"\n",
    "    SELECT Surname, ProductID, Quantity, PurchaseDate\n",
    "    FROM Customers\n",
    "    LEFT JOIN Sales ON\n",
    "        Customers.CustomerID = Sales.CustomerID\n",
    "    ORDER BY Surname;\n",
    "    \"\"\"\n",
    "\n",
    "    print(' Customers LEFT JOIN Sales')\n",
    "    execute_query(conn, query)\n",
    "\n",
    "    # Swapped\n",
    "    query = \"\"\"\n",
    "    SELECT Surname, ProductID, Quantity, PurchaseDate\n",
    "    FROM Sales\n",
    "    LEFT JOIN Customers ON\n",
    "        Customers.CustomerID = Sales.CustomerID\n",
    "    ORDER BY Surname;\n",
    "    \"\"\"\n",
    "\n",
    "    print(' Sales LEFT JOIN Customers')\n",
    "    execute_query(conn, query)\n",
    "\n",
    "    # Note that one has extra. \n",
    "    # This is because `FROM Customers LEFT JOIN Sales` ignores the ones only in sales.\n",
    "    # While `FROM Sales LEFT JOIN Customers` ignores those only in customers. \n",
    "    # So sales has more rows, therefore less are ignored, leading to more results\n",
    "      \n",
    "    #  Customers LEFT JOIN Sales\n",
    "    # 1. ('Acosta', 65, 1, '2019-02-17')\n",
    "    # 2. ('Acosta', 138, 1, '2019-02-17')\n",
    "    # 3. ('Acosta', 196, 1, '2017-04-08')\n",
    "\n",
    "    #  Sales LEFT JOIN Customers\n",
    "    # 1. ('Acosta', 196, 1, '2017-04-08')\n",
    "    # 2. ('Acosta', 65, 1, '2019-02-17')\n",
    "    # 3. ('Acosta', 138, 1, '2019-02-17')\n",
    "    # 4. ('Adams', 43, 1, '2013-02-03')\n",
    "    # 5. ('Adams', 149, 2, '2013-02-03')\n",
    "  ```\n",
    "\n",
    "  </details>\n",
    "\n",
    "  </div>"
   ]
  },
  {
   "cell_type": "markdown",
   "metadata": {},
   "source": [
    "## CRUD\n",
    "CRUD is an acronym for four main database operations: Create, Read, Update, and Delete.<br>\n",
    "We have already used `SELECT` to read data from database. Now we can learn about other operations. Let's start by adding data to a database. But before that we need to create a new database and a new table inside it.\n"
   ]
  },
  {
   "cell_type": "code",
   "execution_count": null,
   "metadata": {},
   "outputs": [],
   "source": [
    "# Make a temporary copy of the db\n",
    "ts = datetime.datetime.isoformat(datetime.datetime.utcnow()).replace(':', '_')\n",
    "db_file = 'sampledb_{}.db'.format(ts) \n",
    "db_file"
   ]
  },
  {
   "cell_type": "code",
   "execution_count": null,
   "metadata": {},
   "outputs": [],
   "source": [
    "conn = sqlite3.connect(db_file)"
   ]
  },
  {
   "cell_type": "markdown",
   "metadata": {},
   "source": [
    "__Note:__ When no file is found by the name we have entered, it will create a new database by that name."
   ]
  },
  {
   "cell_type": "markdown",
   "metadata": {},
   "source": [
    "We can create a table using `CREATE TABLE` followed by the name of the table. Then, we define name of each column, the type of data it contains, and its default value. <br>\n",
    "We can use `NOT NULL` to specify that the data for a certain column cannot be left empty (NULL).\n"
   ]
  },
  {
   "cell_type": "code",
   "execution_count": null,
   "metadata": {},
   "outputs": [],
   "source": [
    "query = \"\"\"\n",
    "CREATE TABLE employees (\n",
    "    FirstName nvarchar(25) NOT NULL,\n",
    "    Surname nvarchar(25) NOT NULL,\n",
    "    PhoneNumber nvarchar(25) NOT NULL,\n",
    "    Email nvarchar(40) DEFAULT \"\"\n",
    "    )\n",
    "\n",
    "\"\"\"\n",
    "execute_query(conn, query)"
   ]
  },
  {
   "cell_type": "markdown",
   "metadata": {},
   "source": [
    "__Note:__ FirstName, Surname, and PhoneNumber must be entered. But if the email is not entered it will be set to default value which is an empty string."
   ]
  },
  {
   "cell_type": "markdown",
   "metadata": {},
   "source": [
    "### Data types in SQL\n",
    "We need to specify the type of data each column contains. The types of data supported by SQL are as follows:\n",
    "- __Exact numeric:__ BOOLEAN, TINYINT, SMALLINT, INT, BIGINT\n",
    "- __Approximate Numeric:__ FLOAT, DOUBLE\n",
    "- __String:__ CHARACTER, VARCHAR, NCHAR, NVARCHAR \n",
    "- __Date/Time:__ DATE, DATETIME, TIME, YEAR\n",
    "\n",
    "For details about each type visit [sqlite.org](https://www.sqlite.org/datatype3.html)"
   ]
  },
  {
   "cell_type": "markdown",
   "metadata": {},
   "source": [
    "Now let's see how the table looks like."
   ]
  },
  {
   "cell_type": "code",
   "execution_count": null,
   "metadata": {},
   "outputs": [],
   "source": [
    "query = \"\"\"\n",
    "SELECT * FROM employees\n",
    "\"\"\"\n",
    "execute_query(conn, query)"
   ]
  },
  {
   "cell_type": "markdown",
   "metadata": {},
   "source": [
    "Nothing is printed. Because the table is empty. To ensure the table has been created, let's use `.description` to get a list of columns in the table."
   ]
  },
  {
   "cell_type": "code",
   "execution_count": null,
   "metadata": {},
   "outputs": [],
   "source": [
    "cur = conn.cursor()\n",
    "cur.execute(query)\n",
    "cur.description"
   ]
  },
  {
   "cell_type": "markdown",
   "metadata": {},
   "source": [
    "If you see the name of columns, then the table has been successfully created."
   ]
  },
  {
   "cell_type": "markdown",
   "metadata": {},
   "source": [
    "To add new rows to the table, we use `INSERT INTO` followed by the name of the table and the values we want to add. The values need to be in the same order as the columns."
   ]
  },
  {
   "cell_type": "code",
   "execution_count": null,
   "metadata": {},
   "outputs": [],
   "source": [
    "query = \"\"\"\n",
    "INSERT INTO employees\n",
    "VALUES (\"Darth\",\"Vader\",\"456123789\",\"d.vader@deathstar.com\")\n",
    "\n",
    "\"\"\"\n",
    "execute_query(conn, query)"
   ]
  },
  {
   "cell_type": "code",
   "execution_count": null,
   "metadata": {},
   "outputs": [],
   "source": [
    "execute_query(conn, \"SELECT * FROM employees\")"
   ]
  },
  {
   "cell_type": "markdown",
   "metadata": {},
   "source": [
    "Now, let's add another row but this time we won't enter a value for email. Since we defined a default value for email, we expect to see it appear for the new row."
   ]
  },
  {
   "cell_type": "code",
   "execution_count": null,
   "metadata": {},
   "outputs": [],
   "source": [
    "query = \"\"\"\n",
    "INSERT INTO employees\n",
    "VALUES (\"Luke\",\"Skywalker\",\"456123789\")\n",
    "\n",
    "\"\"\"\n",
    "try:\n",
    "    execute_query(conn, query)\n",
    "except Exception as e:\n",
    "    logging.exception(e)"
   ]
  },
  {
   "cell_type": "markdown",
   "metadata": {},
   "source": [
    "There is an error: _`table employees has 4 columns but 3 values were supplied`_ <br>\n",
    "The reason is the database manager doesn't know which value you have not entered.\n",
    "The correct way to add data is not only specify the values, but also the name of the columns. This way we are clear in our instruction that which value belongs to which column."
   ]
  },
  {
   "cell_type": "code",
   "execution_count": null,
   "metadata": {},
   "outputs": [],
   "source": [
    "query = \"\"\"\n",
    "INSERT INTO employees(FirstName,Surname,PhoneNumber)\n",
    "VALUES (\"Luke\",\"Skywalker\",\"456123789\")\n",
    "\n",
    "\"\"\"\n",
    "execute_query(conn, query)"
   ]
  },
  {
   "cell_type": "code",
   "execution_count": null,
   "metadata": {},
   "outputs": [],
   "source": [
    "execute_query(conn, \"SELECT * FROM employees\")"
   ]
  },
  {
   "cell_type": "markdown",
   "metadata": {},
   "source": [
    "We can add multiple rows of data simultaneously. Each row must be separated by __`,`__"
   ]
  },
  {
   "cell_type": "code",
   "execution_count": null,
   "metadata": {},
   "outputs": [],
   "source": [
    "query = \"\"\"\n",
    "INSERT INTO employees(FirstName,Surname,PhoneNumber,Email)\n",
    "VALUES (\"Leia\",\"Organa\",\"404200501\",\"princess@aldraan.gov\"),\n",
    "     (\"Han\",\"Solo\",\"437294558\",\"m.falcon@smagglers.com\")\n",
    "\"\"\"\n",
    "execute_query(conn, query)"
   ]
  },
  {
   "cell_type": "code",
   "execution_count": null,
   "metadata": {},
   "outputs": [],
   "source": [
    "execute_query(conn, \"SELECT * FROM employees\")"
   ]
  },
  {
   "cell_type": "markdown",
   "metadata": {},
   "source": [
    "### Update\n",
    "Next operation to learn is `UPDATE`. It is used for change the values in the table.<br>\n",
    "A simple form of updating is presented below. Right after `UPDATE` we specify the name of the table. Then use `SET` to specify the new value for the column. Using `WHERE` clause we can conditions and control which rows should be updated."
   ]
  },
  {
   "cell_type": "markdown",
   "metadata": {},
   "source": [
    "The query below sets the value of Email column to NULL for the rows where email address is empty."
   ]
  },
  {
   "cell_type": "code",
   "execution_count": null,
   "metadata": {},
   "outputs": [],
   "source": [
    "query = \"\"\"\n",
    "UPDATE employees \n",
    "SET Email = NULL\n",
    "WHERE Email=\"\"\n",
    "\"\"\"\n",
    "execute_query(conn, query)"
   ]
  },
  {
   "cell_type": "code",
   "execution_count": null,
   "metadata": {},
   "outputs": [],
   "source": [
    "execute_query(conn, \"SELECT * FROM employees\")"
   ]
  },
  {
   "cell_type": "markdown",
   "metadata": {},
   "source": [
    "We can see that the empty email address is now updated to `None`.<br>\n",
    "__Note:__ `None` is Python equivalent of `NULL`.\n"
   ]
  },
  {
   "cell_type": "markdown",
   "metadata": {},
   "source": [
    "### Delete\n",
    "Finally, to delete data from table we use `DELETE`. We need to specify the name of the table and conditions of the row(s)."
   ]
  },
  {
   "cell_type": "code",
   "execution_count": null,
   "metadata": {},
   "outputs": [],
   "source": [
    "query = \"\"\"\n",
    "DELETE FROM employees\n",
    "WHERE Surname=\"Vader\"\n",
    "\"\"\"\n",
    "execute_query(conn, query)\n",
    "execute_query(conn, \"SELECT * FROM employees\")"
   ]
  },
  {
   "cell_type": "markdown",
   "metadata": {},
   "source": [
    "Adding the condition is important. If no condition is specified all the rows will be removed."
   ]
  },
  {
   "cell_type": "code",
   "execution_count": null,
   "metadata": {},
   "outputs": [],
   "source": [
    "query = \"\"\"\n",
    "DELETE FROM employees\n",
    "\"\"\"\n",
    "execute_query(conn, query)\n",
    "execute_query(conn, \"SELECT * FROM employees\")"
   ]
  },
  {
   "cell_type": "markdown",
   "metadata": {},
   "source": [
    "As you can see the query doesn't return anything, which suggests the table is empty."
   ]
  },
  {
   "cell_type": "markdown",
   "metadata": {},
   "source": [
    " <div class=\"alert alert-success\">\n",
    "  <h2>Exercise</h2>\n",
    "\n",
    "  Add Yoda to the database\n",
    "\n",
    "  <details>\n",
    "  <summary><b>→ Hints</b></summary>\n",
    "\n",
    "  * (\"Minch\",\"Yoda\",\"1337\",\"yoda@swamp.mist\")\n",
    "\n",
    "  </details>\n",
    "\n",
    "  <br/>\n",
    "  <br/>\n",
    "  <details>\n",
    "  <summary>\n",
    "    <b>→ Solution</b>\n",
    "  </summary>\n",
    "\n",
    "  ```python\n",
    "    query = \"\"\"\n",
    "    INSERT INTO employees(FirstName,Surname,PhoneNumber,Email)\n",
    "    VALUES (\"Minch\",\"Yoda\",\"1337\",\"yoda@swamp.mist\")\n",
    "    \"\"\"\n",
    "    execute_query(conn, query)\n",
    "  ```\n",
    "\n",
    "  </details>\n",
    "\n",
    "  </div>\n",
    "    \n"
   ]
  },
  {
   "cell_type": "code",
   "execution_count": null,
   "metadata": {},
   "outputs": [],
   "source": []
  },
  {
   "cell_type": "markdown",
   "metadata": {},
   "source": [
    "When your work is done on a database make sure you close the connection."
   ]
  },
  {
   "cell_type": "code",
   "execution_count": null,
   "metadata": {},
   "outputs": [],
   "source": [
    "conn.close()"
   ]
  },
  {
   "cell_type": "markdown",
   "metadata": {},
   "source": [
    " <div class=\"alert alert-success\">\n",
    "  <h2>(Advanced) Exercises</h2>\n",
    "\n",
    "    To make sure you learned writing a query try creating the following tables:\n",
    "    - How many customers are there in each country?\n",
    "    - How many products are in each category?\n",
    "    - A list of customers ordered by their total purchase (it can be across multiple invoices)\n",
    "    - A list of products orders by the number of time they have been ordered\n",
    "    - A list of total sales per country\n",
    "\n",
    "\n",
    "  </details>\n",
    "\n",
    "  </div>"
   ]
  },
  {
   "cell_type": "code",
   "execution_count": null,
   "metadata": {},
   "outputs": [],
   "source": []
  },
  {
   "cell_type": "markdown",
   "metadata": {},
   "source": [
    "## Further reading\n",
    "- [SQLITE documentation](https://www.sqlite.org)\n",
    "- [SQLITE tutorial](https://www.sqlitetutorial.net/sqlite-python)\n",
    "- [W3schools](https://www.w3schools.com/sql)"
   ]
  }
 ],
 "metadata": {
  "jupytext": {
   "encoding": "# -*- coding: utf-8 -*-",
   "formats": "ipynb,py"
  },
  "kernelspec": {
   "display_name": "deep_ml_curriculum",
   "language": "python",
   "name": "deep_ml_curriculum"
  }
 },
 "nbformat": 4,
 "nbformat_minor": 4
}
