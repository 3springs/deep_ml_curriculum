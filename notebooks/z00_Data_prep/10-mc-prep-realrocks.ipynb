{
 "cells": [
  {
   "cell_type": "markdown",
   "metadata": {},
   "source": [
    "# Real rocks data set\n",
    "\n",
    "\n",
    "The data shown here is a small subset of 90000 m (90km) of depth indexed core image sticks from the Norwegian Continental Shelf. GeoProvider sells the entire dataset to interested parties as a petrel ready product and as stand alone database. \n",
    "\n",
    "source: https://drive.google.com/drive/u/0/folders/1dUTsx1AvqGzqMTv9FFjgJspv5V-9DfOU\n",
    "\n",
    "## Data Credits\n",
    "\n",
    "These depth referenced core images have been made available  to all under the Creative Commons Attribution 4.0 https://creativecommons.org/licenses/by/4.0/legalcode\n",
    "\n",
    "This data (RealRock) has been made available by a generous sponsoring of GeoProvider http://geoprovider.no/. \n",
    "You must acknowledge Geoprovider with full website link in every publication or project using this data. For example \n",
    "`Data are © GeoProvider https://geoprovider.no/ and licensed CC-BY 4.0`\n",
    "\n",
    "The data shown here is a small subset of 90000 m (90km) of depth indexed core image sticks from the Norwegian Continental Shelf. GeoProvider sells the entire dataset to interested parties as a petrel ready product and as stand alone database. Discounts are available for Universities. In addition all public available composite logs have been depth indexed and are available as a petrel ready product.\n",
    "\n",
    "The data assembly and most of the quality control has been carried out on the freelancing platform freelancer.org and had numerous key contributors. The wages paid in this project and timeline given to the freelancers were always honours and way above minimum standards in the respective countries of the contributors.\n",
    "\n",
    "Key Contributors were\n",
    "\n",
    "- Data Nation @Fingerprint (India)\n",
    "    - Excel working file combination, crossing t and dotting I. Cross checking. Creation of core image database\n",
    "    - Creation of composite log image database\n"
   ]
  },
  {
   "cell_type": "code",
   "execution_count": null,
   "metadata": {},
   "outputs": [],
   "source": [
    "%pylab inline\n",
    "import pandas as pd\n",
    "from tqdm.auto import tqdm\n",
    "from pathlib import Path\n",
    "import lasio\n",
    "from pprint import pprint\n",
    "import PIL\n",
    "import shutil\n",
    "from IPython.display import display"
   ]
  },
  {
   "cell_type": "code",
   "execution_count": null,
   "metadata": {},
   "outputs": [],
   "source": [
    "datadir_in = Path(\"../../data/raw/real-rock-geoprovider/\")\n",
    "datadir_out = Path(\"../../data/processed/real-rock-geoprovider/\")"
   ]
  },
  {
   "cell_type": "code",
   "execution_count": null,
   "metadata": {},
   "outputs": [],
   "source": [
    "# load excel sheet\n",
    "df_csv = pd.read_csv(\n",
    "    datadir_in / \"RealPore Por Perm Lithology data 1240 Wells Norway public.csv.zip\",\n",
    "    compression=\"zip\",\n",
    ")\n",
    "\n",
    "df_csv = df_csv.drop(\n",
    "    columns=[\"Data source file name\", \"seq numb\", \"NPDID\", \"Plug or sample number\"]\n",
    ")\n",
    "\n",
    "df_csv = df_csv.dropna(\n",
    "    how=\"any\",\n",
    "    subset=[\n",
    "        \"Well Name\",\n",
    "        \"main lithology\",\n",
    "        \"grain size\",\n",
    "        \"gain density gr/cm3\",\n",
    "        \"porosity best of available\",\n",
    "        \"sorting\",\n",
    "    ],\n",
    ")\n",
    "\n",
    "num_cols = [\"Measured Depth\", \"gain density gr/cm3\", \"porosity best of available\"]\n",
    "for col in num_cols:\n",
    "    df_csv[col] = pd.to_numeric(df_csv[col], errors=\"coerce\")\n",
    "\n",
    "df_csv = df_csv.dropna(how=\"any\", subset=num_cols)\n",
    "# drop rows with junk\n",
    "\n",
    "# df_csv = df_csv.dropna(how='any', subset=['NPDID', 'Well Name'])\n",
    "df_csv[\"well_name\"] = df_csv[\"Well Name\"].str.replace(\"-\", \"_\")\n",
    "df_csv[\"md\"] = df_csv[\"Measured Depth\"].astype(int)\n",
    "df_csv = df_csv.dropna(axis=1, thresh=0.9 * len(df_csv))\n",
    "df_csv"
   ]
  },
  {
   "cell_type": "code",
   "execution_count": null,
   "metadata": {},
   "outputs": [],
   "source": [
    "df_csv.info()"
   ]
  },
  {
   "cell_type": "code",
   "execution_count": null,
   "metadata": {},
   "outputs": [],
   "source": [
    "df_depths = df_csv.groupby([\"well_name\", \"md\"]).first()\n",
    "df_depths"
   ]
  },
  {
   "cell_type": "code",
   "execution_count": null,
   "metadata": {},
   "outputs": [],
   "source": [
    "paths_images = sorted(\n",
    "    (datadir_in / 'public_core_images_crop_3570m_mid_norway'.format()).glob(\"**/*.jpg\")\n",
    ")\n",
    "len(paths_images)"
   ]
  },
  {
   "cell_type": "code",
   "execution_count": null,
   "metadata": {},
   "outputs": [],
   "source": [
    "found = 0\n",
    "norows = 0\n",
    "nowell = 0\n",
    "well_names = set(df_csv[\"well_name\"])\n",
    "\n",
    "(datadir_out / \"images\").mkdir(parents=True, exist_ok=True)\n",
    "labels = []\n",
    "for j, image_path in enumerate(tqdm(paths_images)):\n",
    "\n",
    "    fs = image_path.stem.split(\"_\")\n",
    "    well_name = \"_\".join(fs[:3])\n",
    "    depth_a = float(fs[-2].replace(\",\", \".\"))\n",
    "    depth_b = float(fs[-1].replace(\",\", \".\"))\n",
    "\n",
    "    if well_name in well_names:\n",
    "        df_well = df_csv[df_csv.well_name == well_name].set_index(\"Measured Depth\")\n",
    "        df_well = df_well.sort_index()\n",
    "        rows = df_well[depth_a:depth_b].copy()\n",
    "        if len(rows) > 0:\n",
    "            found += 1\n",
    "            if found < 5:\n",
    "                print(well_name, depth_a, depth_b)\n",
    "                display(rows)\n",
    "                display(PIL.Image.open(image_path))\n",
    "\n",
    "            # take middle row\n",
    "            label = rows.iloc[len(rows) // 2].copy()\n",
    "\n",
    "            # record label\n",
    "            label[\"image\"] = image_path.name\n",
    "            labels.append(label)\n",
    "\n",
    "            # move image\n",
    "            shutil.copy(image_path, datadir_out / \"images\" / image_path.name)\n",
    "        else:\n",
    "            norows += 1\n",
    "    else:\n",
    "        nowell += 0\n",
    "\n",
    "len(labels)"
   ]
  },
  {
   "cell_type": "code",
   "execution_count": null,
   "metadata": {},
   "outputs": [],
   "source": [
    "found, norows, nowell"
   ]
  },
  {
   "cell_type": "code",
   "execution_count": null,
   "metadata": {
    "lines_to_next_cell": 0
   },
   "outputs": [],
   "source": [
    "df_labels = pd.DataFrame(labels)\n",
    "from sklearn.model_selection import train_test_split\n",
    "\n",
    "df_train, df_test = train_test_split(df_labels, random_state=42)\n",
    "df_train.to_parquet(datadir_out / \"train.parquet\", compression=\"gzip\")\n",
    "df_test.to_parquet(datadir_out / \"df_test.parquet\", compression=\"gzip\")\n",
    "len(df_train), len(df_test)"
   ]
  },
  {
   "cell_type": "code",
   "execution_count": null,
   "metadata": {},
   "outputs": [],
   "source": []
  },
  {
   "cell_type": "code",
   "execution_count": null,
   "metadata": {},
   "outputs": [],
   "source": []
  },
  {
   "cell_type": "code",
   "execution_count": null,
   "metadata": {
    "lines_to_next_cell": 2
   },
   "outputs": [],
   "source": []
  },
  {
   "cell_type": "code",
   "execution_count": null,
   "metadata": {},
   "outputs": [],
   "source": [
    "# def get_header_len(path_log):\n",
    "#     \"\"\"Find head length in las file.\"\"\"\n",
    "#     for i, line in enumerate(path_log.open()):\n",
    "#         if line.startswith('~A'):\n",
    "#             return i\n",
    "\n",
    "\n",
    "# def read_realrocks_data(path_log: Path):\n",
    "#     \"\"\"Read las file from realrocks, with qoutes fields that have spaced in\"\"\"\n",
    "\n",
    "#     # data is invalid due to spaces, read it seperatly\n",
    "#     l = lasio.read(path_log,  ignore_data=True)\n",
    "\n",
    "#     # read data\n",
    "#     skiprows = get_header_len(path_log) + 1\n",
    "#     null = l.well['NULL'].value\n",
    "#     df_data = pd.read_table(path_log, skiprows=skiprows, header=None, quoting=0, sep='\\s+', na_values=[null])\n",
    "#     l.set_data(df_data.values, truncate=False)\n",
    "\n",
    "#     return l"
   ]
  },
  {
   "cell_type": "code",
   "execution_count": null,
   "metadata": {},
   "outputs": [],
   "source": [
    "# for j, dir_log in enumerate(sorted((datadir_in/'Finalized').glob(f'*/'))):\n",
    "#     name1 = dir_log.stem.split('_', 2)[-1]\n",
    "#     if name1 in well_names:\n",
    "#         name = name1\n",
    "#         path_log = dir_log / f'{name}_Conditioned.las'\n",
    "#         path_logim = datadir_in/f'Finalized/ENCL_1_{name}/WB_MULTIPLE_WELLS__ROCK_AND_CORE__CORE_DESC_REPORT_4_ENCL_1.TIF'\n",
    "#         paths_images = sorted((datadir_in / f'public_core_images_crop_3570m_mid_norway/{name}').glob('*.jpg'))\n",
    "\n",
    "#         # Load las\n",
    "#         l = read_realrocks_data(path_log)\n",
    "#         display(l.curves)\n",
    "#         df_l = l.df()\n",
    "\n",
    "#         for i, f in enumerate(paths_images):\n",
    "#             if i>4:\n",
    "#                 break\n",
    "#             depth_a, depth_b = f.stem.split('_')[-2:]\n",
    "#             depth_a, depth_b = int(float(depth_a.replace(',', '.'))), int(float(depth_b.replace(',', '.')))\n",
    "\n",
    "#             df_well = df_csv[df_csv['well_name']==name]\n",
    "#             df_well = df_well.set_index('Measured Depth')\n",
    "#             rows = df_well[depth_a:depth_b]\n",
    "#             if len(rows):\n",
    "#                 print(name, depth_a, depth_b)\n",
    "#                 print(rows)\n",
    "#                 display(df_l[depth_a:depth_b].iloc[0])\n",
    "#                 display(PIL.Image.open(f))\n",
    "\n",
    "\n",
    "#         if j>3:\n",
    "#             break"
   ]
  }
 ],
 "metadata": {
  "jupytext": {
   "encoding": "# -*- coding: utf-8 -*-",
   "formats": "ipynb,py"
  },
  "kernelspec": {
   "display_name": "jup3.7.3",
   "language": "python",
   "name": "jup3.7.3"
  }
 },
 "nbformat": 4,
 "nbformat_minor": 4
}
