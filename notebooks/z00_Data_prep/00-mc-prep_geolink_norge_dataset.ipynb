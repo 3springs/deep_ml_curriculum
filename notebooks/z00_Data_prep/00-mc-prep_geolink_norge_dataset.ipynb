{
 "cells": [
  {
   "cell_type": "markdown",
   "metadata": {},
   "source": [
    "Note download data from https://drive.google.com/drive/folders/1EgDN57LDuvlZAwr5-eHWB5CTJ7K9HpDP\n",
    "\n",
    "Credit to this repo: https://github.com/LukasMosser/geolink_dataset\n",
    "\n",
    "## Data Disclaimer\n",
    "\n",
    "All the data serving as an input to these notebooks was generously donated by GEOLINK  \n",
    "and is CC-by-SA 4.0 \n",
    "\n",
    "If you use their data please reference their dataset properly to give them credit for their contribution."
   ]
  },
  {
   "cell_type": "code",
   "execution_count": 20,
   "metadata": {
    "ExecuteTime": {
     "end_time": "2020-10-07T22:43:41.176900Z",
     "start_time": "2020-10-07T22:43:41.094584Z"
    }
   },
   "outputs": [],
   "source": [
    "%reload_ext autoreload\n",
    "%autoreload 2"
   ]
  },
  {
   "cell_type": "code",
   "execution_count": 21,
   "metadata": {
    "ExecuteTime": {
     "end_time": "2020-10-07T22:43:41.242864Z",
     "start_time": "2020-10-07T22:43:41.179565Z"
    }
   },
   "outputs": [],
   "source": [
    "import lasio\n",
    "import matplotlib.pyplot as plt\n",
    "%matplotlib inline\n",
    "import os\n",
    "from tqdm.auto import tqdm\n",
    "import pandas as pd\n",
    "import geopandas as gpd\n",
    "import numpy as np\n",
    "from pathlib import Path\n",
    "from sklearn import preprocessing\n",
    "from operator import itemgetter"
   ]
  },
  {
   "cell_type": "markdown",
   "metadata": {},
   "source": [
    "# in and our directories"
   ]
  },
  {
   "cell_type": "code",
   "execution_count": 22,
   "metadata": {
    "ExecuteTime": {
     "end_time": "2020-10-07T22:43:41.305205Z",
     "start_time": "2020-10-07T22:43:41.245879Z"
    }
   },
   "outputs": [],
   "source": [
    "data_locations = Path(\n",
    "    \"../../data/raw/geolink_dataset/GEOLINK North sea wells with Lithology interpretation/GEOLINK_Lithology and wells NORTH SEA\"\n",
    ")\n",
    "data_locations_wellheads = Path(\"../../data/raw/geolink_dataset/norge_well_heads\")\n",
    "interim_locations = Path(\"../../data/processed/geolink_norge_dataset/\")\n",
    "interim_locations2 = Path(\"../../data/interim/geolink_norge_dataset/\")"
   ]
  },
  {
   "cell_type": "markdown",
   "metadata": {},
   "source": [
    "# load and save as parquet"
   ]
  },
  {
   "cell_type": "code",
   "execution_count": 23,
   "metadata": {
    "ExecuteTime": {
     "end_time": "2020-10-07T22:43:41.424498Z",
     "start_time": "2020-10-07T22:43:41.308232Z"
    }
   },
   "outputs": [
    {
     "data": {
      "text/html": [
       "<div>\n",
       "<style scoped>\n",
       "    .dataframe tbody tr th:only-of-type {\n",
       "        vertical-align: middle;\n",
       "    }\n",
       "\n",
       "    .dataframe tbody tr th {\n",
       "        vertical-align: top;\n",
       "    }\n",
       "\n",
       "    .dataframe thead th {\n",
       "        text-align: right;\n",
       "    }\n",
       "</style>\n",
       "<table border=\"1\" class=\"dataframe\">\n",
       "  <thead>\n",
       "    <tr style=\"text-align: right;\">\n",
       "      <th></th>\n",
       "      <th>Lithology</th>\n",
       "      <th>Color</th>\n",
       "      <th>Lithology Attribute</th>\n",
       "      <th>Abbreviation</th>\n",
       "    </tr>\n",
       "  </thead>\n",
       "  <tbody>\n",
       "    <tr>\n",
       "      <th>0</th>\n",
       "      <td>Aeolian Sandstone</td>\n",
       "      <td>LightYellow</td>\n",
       "      <td>CrossBedded Sand</td>\n",
       "      <td>35</td>\n",
       "    </tr>\n",
       "    <tr>\n",
       "      <th>1</th>\n",
       "      <td>Anhydrite</td>\n",
       "      <td>Light Magenta</td>\n",
       "      <td>Anhydrite</td>\n",
       "      <td>22</td>\n",
       "    </tr>\n",
       "    <tr>\n",
       "      <th>2</th>\n",
       "      <td>Argillaceous Limestone</td>\n",
       "      <td>Dodger Blue</td>\n",
       "      <td>Chalk</td>\n",
       "      <td>12</td>\n",
       "    </tr>\n",
       "    <tr>\n",
       "      <th>3</th>\n",
       "      <td>Arkose</td>\n",
       "      <td>LightGoldenrod</td>\n",
       "      <td>Gravel</td>\n",
       "      <td>36</td>\n",
       "    </tr>\n",
       "    <tr>\n",
       "      <th>4</th>\n",
       "      <td>Basement</td>\n",
       "      <td>Salmon</td>\n",
       "      <td>Intrusive</td>\n",
       "      <td>23</td>\n",
       "    </tr>\n",
       "    <tr>\n",
       "      <th>5</th>\n",
       "      <td>Biogenic Ooze</td>\n",
       "      <td>DarkYellow</td>\n",
       "      <td>Sandy Shale</td>\n",
       "      <td>25</td>\n",
       "    </tr>\n",
       "    <tr>\n",
       "      <th>6</th>\n",
       "      <td>Calcareous Cement</td>\n",
       "      <td>Cyan</td>\n",
       "      <td>Sandy Limestone</td>\n",
       "      <td>16</td>\n",
       "    </tr>\n",
       "    <tr>\n",
       "      <th>7</th>\n",
       "      <td>Calcareous Debris Flow</td>\n",
       "      <td>Turquoise</td>\n",
       "      <td>Breccia</td>\n",
       "      <td>31</td>\n",
       "    </tr>\n",
       "    <tr>\n",
       "      <th>8</th>\n",
       "      <td>Calcareous Shale</td>\n",
       "      <td>DarkCyan</td>\n",
       "      <td>Calcareous Shale</td>\n",
       "      <td>14</td>\n",
       "    </tr>\n",
       "    <tr>\n",
       "      <th>9</th>\n",
       "      <td>Carnallite</td>\n",
       "      <td>Magenta</td>\n",
       "      <td>Halite</td>\n",
       "      <td>33</td>\n",
       "    </tr>\n",
       "    <tr>\n",
       "      <th>10</th>\n",
       "      <td>Chalk</td>\n",
       "      <td>SlateBlue</td>\n",
       "      <td>Chalk</td>\n",
       "      <td>9</td>\n",
       "    </tr>\n",
       "    <tr>\n",
       "      <th>11</th>\n",
       "      <td>Cinerite</td>\n",
       "      <td>Cyan</td>\n",
       "      <td>Extrusive</td>\n",
       "      <td>19</td>\n",
       "    </tr>\n",
       "    <tr>\n",
       "      <th>12</th>\n",
       "      <td>Coal</td>\n",
       "      <td>Black</td>\n",
       "      <td>Coal</td>\n",
       "      <td>18</td>\n",
       "    </tr>\n",
       "    <tr>\n",
       "      <th>13</th>\n",
       "      <td>Conglomerate</td>\n",
       "      <td>Light Yellow</td>\n",
       "      <td>Conglomerate</td>\n",
       "      <td>17</td>\n",
       "    </tr>\n",
       "    <tr>\n",
       "      <th>14</th>\n",
       "      <td>Cross Bedded Sst</td>\n",
       "      <td>Gold</td>\n",
       "      <td>CrossBedded Sand</td>\n",
       "      <td>3</td>\n",
       "    </tr>\n",
       "    <tr>\n",
       "      <th>15</th>\n",
       "      <td>Dolomite</td>\n",
       "      <td>Cyan</td>\n",
       "      <td>Dolomite2</td>\n",
       "      <td>15</td>\n",
       "    </tr>\n",
       "    <tr>\n",
       "      <th>16</th>\n",
       "      <td>Gap</td>\n",
       "      <td>White</td>\n",
       "      <td>Gypsum</td>\n",
       "      <td>26</td>\n",
       "    </tr>\n",
       "    <tr>\n",
       "      <th>17</th>\n",
       "      <td>Halite</td>\n",
       "      <td>Pink</td>\n",
       "      <td>Halite</td>\n",
       "      <td>21</td>\n",
       "    </tr>\n",
       "    <tr>\n",
       "      <th>18</th>\n",
       "      <td>Kaïnite</td>\n",
       "      <td>LavenderBlush</td>\n",
       "      <td>Halite</td>\n",
       "      <td>34</td>\n",
       "    </tr>\n",
       "    <tr>\n",
       "      <th>19</th>\n",
       "      <td>Limestone</td>\n",
       "      <td>SlateBlue</td>\n",
       "      <td>Limestone</td>\n",
       "      <td>11</td>\n",
       "    </tr>\n",
       "    <tr>\n",
       "      <th>20</th>\n",
       "      <td>Marlstone</td>\n",
       "      <td>DeepSkyBlue</td>\n",
       "      <td>Chalk</td>\n",
       "      <td>13</td>\n",
       "    </tr>\n",
       "    <tr>\n",
       "      <th>21</th>\n",
       "      <td>Metamorphic Rock</td>\n",
       "      <td>Dark Cyan</td>\n",
       "      <td>Shaly Sand</td>\n",
       "      <td>30</td>\n",
       "    </tr>\n",
       "    <tr>\n",
       "      <th>22</th>\n",
       "      <td>Plutonic Rock</td>\n",
       "      <td>Red</td>\n",
       "      <td>Intrusive</td>\n",
       "      <td>24</td>\n",
       "    </tr>\n",
       "    <tr>\n",
       "      <th>23</th>\n",
       "      <td>Polyhalite</td>\n",
       "      <td>LightPink</td>\n",
       "      <td>Halite</td>\n",
       "      <td>32</td>\n",
       "    </tr>\n",
       "    <tr>\n",
       "      <th>24</th>\n",
       "      <td>Porous Limestone</td>\n",
       "      <td>SlateBlue</td>\n",
       "      <td>Calcareous Sandstone</td>\n",
       "      <td>10</td>\n",
       "    </tr>\n",
       "    <tr>\n",
       "      <th>25</th>\n",
       "      <td>Sandstone</td>\n",
       "      <td>Yellow</td>\n",
       "      <td>Sand</td>\n",
       "      <td>1</td>\n",
       "    </tr>\n",
       "    <tr>\n",
       "      <th>26</th>\n",
       "      <td>Sandy Silt</td>\n",
       "      <td>Tan</td>\n",
       "      <td>Shaly Sandstone</td>\n",
       "      <td>4</td>\n",
       "    </tr>\n",
       "    <tr>\n",
       "      <th>27</th>\n",
       "      <td>Shale</td>\n",
       "      <td>DarkCyan</td>\n",
       "      <td>Shale</td>\n",
       "      <td>8</td>\n",
       "    </tr>\n",
       "    <tr>\n",
       "      <th>28</th>\n",
       "      <td>Shaly Silt</td>\n",
       "      <td>DarkYellow</td>\n",
       "      <td>Silt</td>\n",
       "      <td>6</td>\n",
       "    </tr>\n",
       "    <tr>\n",
       "      <th>29</th>\n",
       "      <td>Silt</td>\n",
       "      <td>LightSalmon</td>\n",
       "      <td>Silt</td>\n",
       "      <td>5</td>\n",
       "    </tr>\n",
       "    <tr>\n",
       "      <th>30</th>\n",
       "      <td>Silty Sand</td>\n",
       "      <td>LightYellow</td>\n",
       "      <td>Sand</td>\n",
       "      <td>2</td>\n",
       "    </tr>\n",
       "    <tr>\n",
       "      <th>31</th>\n",
       "      <td>Silty Shale</td>\n",
       "      <td>DarkGreen</td>\n",
       "      <td>Shale</td>\n",
       "      <td>7</td>\n",
       "    </tr>\n",
       "    <tr>\n",
       "      <th>32</th>\n",
       "      <td>Spiculite</td>\n",
       "      <td>MediumGray</td>\n",
       "      <td>Chert</td>\n",
       "      <td>29</td>\n",
       "    </tr>\n",
       "    <tr>\n",
       "      <th>33</th>\n",
       "      <td>Sylvinite</td>\n",
       "      <td>LightMagenta</td>\n",
       "      <td>Halite</td>\n",
       "      <td>27</td>\n",
       "    </tr>\n",
       "    <tr>\n",
       "      <th>34</th>\n",
       "      <td>Volcanic Rock</td>\n",
       "      <td>Orange</td>\n",
       "      <td>Extrusive</td>\n",
       "      <td>28</td>\n",
       "    </tr>\n",
       "    <tr>\n",
       "      <th>35</th>\n",
       "      <td>Volcanic Tuff</td>\n",
       "      <td>Tomato</td>\n",
       "      <td>Extrusive</td>\n",
       "      <td>20</td>\n",
       "    </tr>\n",
       "  </tbody>\n",
       "</table>\n",
       "</div>"
      ],
      "text/plain": [
       "                 Lithology           Color   Lithology Attribute  Abbreviation\n",
       "0        Aeolian Sandstone     LightYellow      CrossBedded Sand            35\n",
       "1                Anhydrite   Light Magenta             Anhydrite            22\n",
       "2   Argillaceous Limestone     Dodger Blue                 Chalk            12\n",
       "3                   Arkose  LightGoldenrod                Gravel            36\n",
       "4                 Basement          Salmon             Intrusive            23\n",
       "5            Biogenic Ooze      DarkYellow           Sandy Shale            25\n",
       "6        Calcareous Cement            Cyan       Sandy Limestone            16\n",
       "7   Calcareous Debris Flow       Turquoise               Breccia            31\n",
       "8         Calcareous Shale        DarkCyan      Calcareous Shale            14\n",
       "9               Carnallite         Magenta                Halite            33\n",
       "10                   Chalk       SlateBlue                 Chalk             9\n",
       "11                Cinerite            Cyan             Extrusive            19\n",
       "12                    Coal           Black                  Coal            18\n",
       "13            Conglomerate    Light Yellow          Conglomerate            17\n",
       "14        Cross Bedded Sst            Gold      CrossBedded Sand             3\n",
       "15                Dolomite            Cyan             Dolomite2            15\n",
       "16                     Gap           White                Gypsum            26\n",
       "17                  Halite            Pink                Halite            21\n",
       "18                 Kaïnite   LavenderBlush                Halite            34\n",
       "19               Limestone       SlateBlue             Limestone            11\n",
       "20               Marlstone     DeepSkyBlue                 Chalk            13\n",
       "21        Metamorphic Rock       Dark Cyan            Shaly Sand            30\n",
       "22           Plutonic Rock             Red             Intrusive            24\n",
       "23              Polyhalite       LightPink                Halite            32\n",
       "24        Porous Limestone       SlateBlue  Calcareous Sandstone            10\n",
       "25               Sandstone          Yellow                  Sand             1\n",
       "26              Sandy Silt             Tan       Shaly Sandstone             4\n",
       "27                   Shale        DarkCyan                 Shale             8\n",
       "28              Shaly Silt      DarkYellow                  Silt             6\n",
       "29                    Silt     LightSalmon                  Silt             5\n",
       "30              Silty Sand     LightYellow                  Sand             2\n",
       "31             Silty Shale       DarkGreen                 Shale             7\n",
       "32               Spiculite      MediumGray                 Chert            29\n",
       "33               Sylvinite    LightMagenta                Halite            27\n",
       "34           Volcanic Rock          Orange             Extrusive            28\n",
       "35           Volcanic Tuff          Tomato             Extrusive            20"
      ]
     },
     "execution_count": 23,
     "metadata": {},
     "output_type": "execute_result"
    }
   ],
   "source": [
    "df_lithology = pd.read_excel(data_locations / \"../Lithology code data.xlsx\", header=1)[\n",
    "    :-1\n",
    "]\n",
    "df_lithology[\"Abbreviation\"] = pd.to_numeric(df_lithology[\"Abbreviation\"])\n",
    "df_lithology.to_parquet(\n",
    "    interim_locations / \"geolink_norge_lithology.parquet\", compression=\"gzip\"\n",
    ")\n",
    "df_lithology"
   ]
  },
  {
   "cell_type": "code",
   "execution_count": null,
   "metadata": {},
   "outputs": [],
   "source": []
  },
  {
   "cell_type": "code",
   "execution_count": 24,
   "metadata": {
    "ExecuteTime": {
     "end_time": "2020-10-07T22:43:42.034691Z",
     "start_time": "2020-10-07T22:43:41.426830Z"
    },
    "lines_to_next_cell": 0
   },
   "outputs": [
    {
     "name": "stdout",
     "output_type": "stream",
     "text": [
      "removed {'wlbCompPreDrillDate', 'wlbPlotSymbol', 'wlbReentry', 'wlbFactMapUrl', 'wlbSubSea', 'wlbPluggedAbandonDate', 'prlNpdidProdLicenceTarget', 'wlbDiscoveryWellbore', 'wlbMultilateral', 'wlbAgeWithHc3', 'wlbFormationWithHc2', 'wlbFormationAtTd', 'wlbWdssQcDate', 'wlbKickOffPoint', 'wlbEntryPreDrillDate', 'wlbDiskosWellboreParent', 'fclNpdidFacilityDrilling', 'wlbDateUpdatedMax', 'dscNpdidDiscovery', 'wlbProductionFacility', 'wlbLicensingActivity', 'wlbFormationWithHc1', 'wlbNpdidWellboreReclass', 'wlbDiscovery', 'wlbDrillingFacilityFixedOrMoveable', 'wlbContent', 'wlbStatus', 'wlbReentryExplorationActivity', 'wlbFacilityTypeDrilling', 'wlbNpdidSiteSurvey', 'wlbDiskosWellboreType', 'wlbContentPlanned', 'fclNpdidFacilityProducing', 'wlbPressReleaseUrl', 'prlNpdidProductionLicence', 'wlbLicenceTargetName', 'wlbDrillingDays', 'wlbPluggedDate', 'wlbField', 'wlbSeismicLocation', 'wlbNamePart5', 'wlbReleasedDate', 'wlbAgeWithHc1', 'wlbAgeWithHc2', 'wlbFormationWithHc3', 'wlbNamePart6', 'wlbFinalVerticalDepth', 'fldNpdidField', 'wlbBottomHoleTemperature', 'wlbAgeAtTd', 'wlbReclassFromWellbore', 'wlbSiteSurvey', 'wlbMaxInclation', 'wlbDateReclass', 'wlbPurposePlanned'}\n"
     ]
    },
    {
     "data": {
      "text/html": [
       "<div>\n",
       "<style scoped>\n",
       "    .dataframe tbody tr th:only-of-type {\n",
       "        vertical-align: middle;\n",
       "    }\n",
       "\n",
       "    .dataframe tbody tr th {\n",
       "        vertical-align: top;\n",
       "    }\n",
       "\n",
       "    .dataframe thead th {\n",
       "        text-align: right;\n",
       "    }\n",
       "</style>\n",
       "<table border=\"1\" class=\"dataframe\">\n",
       "  <thead>\n",
       "    <tr style=\"text-align: right;\">\n",
       "      <th></th>\n",
       "      <th>wlbWellboreName</th>\n",
       "      <th>wlbWell</th>\n",
       "      <th>wlbDrillingOperator</th>\n",
       "      <th>wlbProductionLicence</th>\n",
       "      <th>wlbPurpose</th>\n",
       "      <th>wlbWellType</th>\n",
       "      <th>wlbEntryDate</th>\n",
       "      <th>wlbCompletionDate</th>\n",
       "      <th>wlbDrillPermit</th>\n",
       "      <th>wlbKellyBushElevation</th>\n",
       "      <th>...</th>\n",
       "      <th>wlbNamePart1</th>\n",
       "      <th>wlbNamePart2</th>\n",
       "      <th>wlbNamePart3</th>\n",
       "      <th>wlbNamePart4</th>\n",
       "      <th>wlbFactPageUrl</th>\n",
       "      <th>wlbNpdidWellbore</th>\n",
       "      <th>wlbDateUpdated</th>\n",
       "      <th>datesyncNPD</th>\n",
       "      <th>wlbWellboreName_geolink</th>\n",
       "      <th>geometry</th>\n",
       "    </tr>\n",
       "  </thead>\n",
       "  <tbody>\n",
       "    <tr>\n",
       "      <th>0</th>\n",
       "      <td>1/2-1</td>\n",
       "      <td>1/2-1</td>\n",
       "      <td>Phillips Petroleum Norsk AS</td>\n",
       "      <td>143</td>\n",
       "      <td>WILDCAT</td>\n",
       "      <td>EXPLORATION</td>\n",
       "      <td>1989-03-20</td>\n",
       "      <td>1989-04-06</td>\n",
       "      <td>604-L</td>\n",
       "      <td>22.0</td>\n",
       "      <td>...</td>\n",
       "      <td>1</td>\n",
       "      <td>2</td>\n",
       "      <td></td>\n",
       "      <td>1</td>\n",
       "      <td>https://factpages.npd.no/factpages/default.asp...</td>\n",
       "      <td>1382</td>\n",
       "      <td>03.10.2019</td>\n",
       "      <td>03.07.2020</td>\n",
       "      <td>1_2-1</td>\n",
       "      <td>POINT (2.47658 56.88752)</td>\n",
       "    </tr>\n",
       "    <tr>\n",
       "      <th>1</th>\n",
       "      <td>1/2-2</td>\n",
       "      <td>1/2-2</td>\n",
       "      <td>Paladin Resources Norge AS</td>\n",
       "      <td>143 CS</td>\n",
       "      <td>WILDCAT</td>\n",
       "      <td>EXPLORATION</td>\n",
       "      <td>2005-12-14</td>\n",
       "      <td>2006-02-02</td>\n",
       "      <td>1103-L</td>\n",
       "      <td>40.0</td>\n",
       "      <td>...</td>\n",
       "      <td>1</td>\n",
       "      <td>2</td>\n",
       "      <td></td>\n",
       "      <td>2</td>\n",
       "      <td>https://factpages.npd.no/factpages/default.asp...</td>\n",
       "      <td>5192</td>\n",
       "      <td>03.10.2019</td>\n",
       "      <td>03.07.2020</td>\n",
       "      <td>1_2-2</td>\n",
       "      <td>POINT (2.49657 56.99222)</td>\n",
       "    </tr>\n",
       "    <tr>\n",
       "      <th>2</th>\n",
       "      <td>1/3-1</td>\n",
       "      <td>1/3-1</td>\n",
       "      <td>A/S Norske Shell</td>\n",
       "      <td>011</td>\n",
       "      <td>WILDCAT</td>\n",
       "      <td>EXPLORATION</td>\n",
       "      <td>1968-06-07</td>\n",
       "      <td>1968-11-11</td>\n",
       "      <td>15-L</td>\n",
       "      <td>26.0</td>\n",
       "      <td>...</td>\n",
       "      <td>1</td>\n",
       "      <td>3</td>\n",
       "      <td></td>\n",
       "      <td>1</td>\n",
       "      <td>https://factpages.npd.no/factpages/default.asp...</td>\n",
       "      <td>154</td>\n",
       "      <td>03.10.2019</td>\n",
       "      <td>03.07.2020</td>\n",
       "      <td>1_3-1</td>\n",
       "      <td>POINT (2.85139 56.85583)</td>\n",
       "    </tr>\n",
       "    <tr>\n",
       "      <th>3</th>\n",
       "      <td>1/3-2</td>\n",
       "      <td>1/3-2</td>\n",
       "      <td>A/S Norske Shell</td>\n",
       "      <td>011</td>\n",
       "      <td>WILDCAT</td>\n",
       "      <td>EXPLORATION</td>\n",
       "      <td>1969-05-14</td>\n",
       "      <td>1969-07-27</td>\n",
       "      <td>26-L</td>\n",
       "      <td>26.0</td>\n",
       "      <td>...</td>\n",
       "      <td>1</td>\n",
       "      <td>3</td>\n",
       "      <td></td>\n",
       "      <td>2</td>\n",
       "      <td>https://factpages.npd.no/factpages/default.asp...</td>\n",
       "      <td>165</td>\n",
       "      <td>03.10.2019</td>\n",
       "      <td>03.07.2020</td>\n",
       "      <td>1_3-2</td>\n",
       "      <td>POINT (2.75000 56.93611)</td>\n",
       "    </tr>\n",
       "    <tr>\n",
       "      <th>4</th>\n",
       "      <td>1/3-3</td>\n",
       "      <td>1/3-3</td>\n",
       "      <td>Elf Petroleum Norge AS</td>\n",
       "      <td>065</td>\n",
       "      <td>WILDCAT</td>\n",
       "      <td>EXPLORATION</td>\n",
       "      <td>1982-08-22</td>\n",
       "      <td>1983-03-24</td>\n",
       "      <td>343-L</td>\n",
       "      <td>25.0</td>\n",
       "      <td>...</td>\n",
       "      <td>1</td>\n",
       "      <td>3</td>\n",
       "      <td></td>\n",
       "      <td>3</td>\n",
       "      <td>https://factpages.npd.no/factpages/default.asp...</td>\n",
       "      <td>87</td>\n",
       "      <td>06.03.2020</td>\n",
       "      <td>03.07.2020</td>\n",
       "      <td>1_3-3</td>\n",
       "      <td>POINT (2.98168 56.95238)</td>\n",
       "    </tr>\n",
       "    <tr>\n",
       "      <th>...</th>\n",
       "      <td>...</td>\n",
       "      <td>...</td>\n",
       "      <td>...</td>\n",
       "      <td>...</td>\n",
       "      <td>...</td>\n",
       "      <td>...</td>\n",
       "      <td>...</td>\n",
       "      <td>...</td>\n",
       "      <td>...</td>\n",
       "      <td>...</td>\n",
       "      <td>...</td>\n",
       "      <td>...</td>\n",
       "      <td>...</td>\n",
       "      <td>...</td>\n",
       "      <td>...</td>\n",
       "      <td>...</td>\n",
       "      <td>...</td>\n",
       "      <td>...</td>\n",
       "      <td>...</td>\n",
       "      <td>...</td>\n",
       "      <td>...</td>\n",
       "    </tr>\n",
       "    <tr>\n",
       "      <th>1114</th>\n",
       "      <td>8006/8-U-4</td>\n",
       "      <td>8006/8-U-4</td>\n",
       "      <td>OCEAN DRILLING PROGRAM TEXAS A &amp; M UNIVERSITY</td>\n",
       "      <td>NaN</td>\n",
       "      <td>SCIENTIFIC</td>\n",
       "      <td>OTHER</td>\n",
       "      <td>1993-08-29</td>\n",
       "      <td>1993-08-30</td>\n",
       "      <td>320-GJ</td>\n",
       "      <td>0.0</td>\n",
       "      <td>...</td>\n",
       "      <td>8006</td>\n",
       "      <td>8</td>\n",
       "      <td>U</td>\n",
       "      <td>4</td>\n",
       "      <td>https://factpages.npd.no/factpages/default.asp...</td>\n",
       "      <td>2234</td>\n",
       "      <td>03.10.2019</td>\n",
       "      <td>03.07.2020</td>\n",
       "      <td>8006_8-U-4</td>\n",
       "      <td>POINT (6.59040 80.26470)</td>\n",
       "    </tr>\n",
       "    <tr>\n",
       "      <th>1115</th>\n",
       "      <td>8008/7-U-1</td>\n",
       "      <td>8008/7-U-1</td>\n",
       "      <td>OCEAN DRILLING PROGRAM TEXAS A &amp; M UNIVERSITY</td>\n",
       "      <td>NaN</td>\n",
       "      <td>SCIENTIFIC</td>\n",
       "      <td>OTHER</td>\n",
       "      <td>1993-08-22</td>\n",
       "      <td>1993-08-24</td>\n",
       "      <td>320-GK</td>\n",
       "      <td>0.0</td>\n",
       "      <td>...</td>\n",
       "      <td>8008</td>\n",
       "      <td>7</td>\n",
       "      <td>U</td>\n",
       "      <td>1</td>\n",
       "      <td>https://factpages.npd.no/factpages/default.asp...</td>\n",
       "      <td>2235</td>\n",
       "      <td>03.10.2019</td>\n",
       "      <td>03.07.2020</td>\n",
       "      <td>8008_7-U-1</td>\n",
       "      <td>POINT (8.22730 80.47440)</td>\n",
       "    </tr>\n",
       "    <tr>\n",
       "      <th>1116</th>\n",
       "      <td>8008/7-U-2</td>\n",
       "      <td>8008/7-U-2</td>\n",
       "      <td>OCEAN DRILLING PROGRAM TEXAS A &amp; M UNIVERSITY</td>\n",
       "      <td>NaN</td>\n",
       "      <td>SCIENTIFIC</td>\n",
       "      <td>OTHER</td>\n",
       "      <td>1993-08-22</td>\n",
       "      <td>1993-08-24</td>\n",
       "      <td>320-GL</td>\n",
       "      <td>0.0</td>\n",
       "      <td>...</td>\n",
       "      <td>8008</td>\n",
       "      <td>7</td>\n",
       "      <td>U</td>\n",
       "      <td>2</td>\n",
       "      <td>https://factpages.npd.no/factpages/default.asp...</td>\n",
       "      <td>2236</td>\n",
       "      <td>03.10.2019</td>\n",
       "      <td>03.07.2020</td>\n",
       "      <td>8008_7-U-2</td>\n",
       "      <td>POINT (8.22730 80.47460)</td>\n",
       "    </tr>\n",
       "    <tr>\n",
       "      <th>1117</th>\n",
       "      <td>8008/7-U-3</td>\n",
       "      <td>8008/7-U-3</td>\n",
       "      <td>OCEAN DRILLING PROGRAM TEXAS A &amp; M UNIVERSITY</td>\n",
       "      <td>NaN</td>\n",
       "      <td>SCIENTIFIC</td>\n",
       "      <td>OTHER</td>\n",
       "      <td>1993-08-22</td>\n",
       "      <td>1993-08-24</td>\n",
       "      <td>320-GM</td>\n",
       "      <td>0.0</td>\n",
       "      <td>...</td>\n",
       "      <td>8008</td>\n",
       "      <td>7</td>\n",
       "      <td>U</td>\n",
       "      <td>3</td>\n",
       "      <td>https://factpages.npd.no/factpages/default.asp...</td>\n",
       "      <td>2237</td>\n",
       "      <td>03.10.2019</td>\n",
       "      <td>03.07.2020</td>\n",
       "      <td>8008_7-U-3</td>\n",
       "      <td>POINT (8.22730 80.47480)</td>\n",
       "    </tr>\n",
       "    <tr>\n",
       "      <th>1118</th>\n",
       "      <td>8034/5-U-1</td>\n",
       "      <td>8034/5-U-1</td>\n",
       "      <td>Oljedirektoratet</td>\n",
       "      <td>NaN</td>\n",
       "      <td>STRATIGRAPHIC</td>\n",
       "      <td>OTHER</td>\n",
       "      <td>2015-09-14</td>\n",
       "      <td>2015-09-15</td>\n",
       "      <td>772-G7</td>\n",
       "      <td>2.9</td>\n",
       "      <td>...</td>\n",
       "      <td>8034</td>\n",
       "      <td>5</td>\n",
       "      <td>U</td>\n",
       "      <td>1</td>\n",
       "      <td>https://factpages.npd.no/factpages/default.asp...</td>\n",
       "      <td>7812</td>\n",
       "      <td>03.10.2019</td>\n",
       "      <td>03.07.2020</td>\n",
       "      <td>8034_5-U-1</td>\n",
       "      <td>POINT (34.63940 80.68250)</td>\n",
       "    </tr>\n",
       "  </tbody>\n",
       "</table>\n",
       "<p>8276 rows × 40 columns</p>\n",
       "</div>"
      ],
      "text/plain": [
       "     wlbWellboreName     wlbWell  \\\n",
       "0              1/2-1       1/2-1   \n",
       "1              1/2-2       1/2-2   \n",
       "2              1/3-1       1/3-1   \n",
       "3              1/3-2       1/3-2   \n",
       "4              1/3-3       1/3-3   \n",
       "...              ...         ...   \n",
       "1114      8006/8-U-4  8006/8-U-4   \n",
       "1115      8008/7-U-1  8008/7-U-1   \n",
       "1116      8008/7-U-2  8008/7-U-2   \n",
       "1117      8008/7-U-3  8008/7-U-3   \n",
       "1118      8034/5-U-1  8034/5-U-1   \n",
       "\n",
       "                                wlbDrillingOperator wlbProductionLicence  \\\n",
       "0                       Phillips Petroleum Norsk AS                 143    \n",
       "1                        Paladin Resources Norge AS               143 CS   \n",
       "2                                  A/S Norske Shell                 011    \n",
       "3                                  A/S Norske Shell                 011    \n",
       "4                            Elf Petroleum Norge AS                 065    \n",
       "...                                             ...                  ...   \n",
       "1114  OCEAN DRILLING PROGRAM TEXAS A & M UNIVERSITY                  NaN   \n",
       "1115  OCEAN DRILLING PROGRAM TEXAS A & M UNIVERSITY                  NaN   \n",
       "1116  OCEAN DRILLING PROGRAM TEXAS A & M UNIVERSITY                  NaN   \n",
       "1117  OCEAN DRILLING PROGRAM TEXAS A & M UNIVERSITY                  NaN   \n",
       "1118                               Oljedirektoratet                  NaN   \n",
       "\n",
       "         wlbPurpose  wlbWellType wlbEntryDate wlbCompletionDate  \\\n",
       "0           WILDCAT  EXPLORATION   1989-03-20        1989-04-06   \n",
       "1           WILDCAT  EXPLORATION   2005-12-14        2006-02-02   \n",
       "2           WILDCAT  EXPLORATION   1968-06-07        1968-11-11   \n",
       "3           WILDCAT  EXPLORATION   1969-05-14        1969-07-27   \n",
       "4           WILDCAT  EXPLORATION   1982-08-22        1983-03-24   \n",
       "...             ...          ...          ...               ...   \n",
       "1114     SCIENTIFIC        OTHER   1993-08-29        1993-08-30   \n",
       "1115     SCIENTIFIC        OTHER   1993-08-22        1993-08-24   \n",
       "1116     SCIENTIFIC        OTHER   1993-08-22        1993-08-24   \n",
       "1117     SCIENTIFIC        OTHER   1993-08-22        1993-08-24   \n",
       "1118  STRATIGRAPHIC        OTHER   2015-09-14        2015-09-15   \n",
       "\n",
       "     wlbDrillPermit  wlbKellyBushElevation  ...  wlbNamePart1  wlbNamePart2  \\\n",
       "0             604-L                   22.0  ...             1             2   \n",
       "1            1103-L                   40.0  ...             1             2   \n",
       "2              15-L                   26.0  ...             1             3   \n",
       "3              26-L                   26.0  ...             1             3   \n",
       "4             343-L                   25.0  ...             1             3   \n",
       "...             ...                    ...  ...           ...           ...   \n",
       "1114         320-GJ                    0.0  ...          8006             8   \n",
       "1115         320-GK                    0.0  ...          8008             7   \n",
       "1116         320-GL                    0.0  ...          8008             7   \n",
       "1117         320-GM                    0.0  ...          8008             7   \n",
       "1118         772-G7                    2.9  ...          8034             5   \n",
       "\n",
       "     wlbNamePart3 wlbNamePart4  \\\n",
       "0                            1   \n",
       "1                            2   \n",
       "2                            1   \n",
       "3                            2   \n",
       "4                            3   \n",
       "...           ...          ...   \n",
       "1114            U            4   \n",
       "1115            U            1   \n",
       "1116            U            2   \n",
       "1117            U            3   \n",
       "1118            U            1   \n",
       "\n",
       "                                         wlbFactPageUrl  wlbNpdidWellbore  \\\n",
       "0     https://factpages.npd.no/factpages/default.asp...              1382   \n",
       "1     https://factpages.npd.no/factpages/default.asp...              5192   \n",
       "2     https://factpages.npd.no/factpages/default.asp...               154   \n",
       "3     https://factpages.npd.no/factpages/default.asp...               165   \n",
       "4     https://factpages.npd.no/factpages/default.asp...                87   \n",
       "...                                                 ...               ...   \n",
       "1114  https://factpages.npd.no/factpages/default.asp...              2234   \n",
       "1115  https://factpages.npd.no/factpages/default.asp...              2235   \n",
       "1116  https://factpages.npd.no/factpages/default.asp...              2236   \n",
       "1117  https://factpages.npd.no/factpages/default.asp...              2237   \n",
       "1118  https://factpages.npd.no/factpages/default.asp...              7812   \n",
       "\n",
       "     wlbDateUpdated  datesyncNPD  wlbWellboreName_geolink  \\\n",
       "0        03.10.2019   03.07.2020                    1_2-1   \n",
       "1        03.10.2019   03.07.2020                    1_2-2   \n",
       "2        03.10.2019   03.07.2020                    1_3-1   \n",
       "3        03.10.2019   03.07.2020                    1_3-2   \n",
       "4        06.03.2020   03.07.2020                    1_3-3   \n",
       "...             ...          ...                      ...   \n",
       "1114     03.10.2019   03.07.2020               8006_8-U-4   \n",
       "1115     03.10.2019   03.07.2020               8008_7-U-1   \n",
       "1116     03.10.2019   03.07.2020               8008_7-U-2   \n",
       "1117     03.10.2019   03.07.2020               8008_7-U-3   \n",
       "1118     03.10.2019   03.07.2020               8034_5-U-1   \n",
       "\n",
       "                       geometry  \n",
       "0      POINT (2.47658 56.88752)  \n",
       "1      POINT (2.49657 56.99222)  \n",
       "2      POINT (2.85139 56.85583)  \n",
       "3      POINT (2.75000 56.93611)  \n",
       "4      POINT (2.98168 56.95238)  \n",
       "...                         ...  \n",
       "1114   POINT (6.59040 80.26470)  \n",
       "1115   POINT (8.22730 80.47440)  \n",
       "1116   POINT (8.22730 80.47460)  \n",
       "1117   POINT (8.22730 80.47480)  \n",
       "1118  POINT (34.63940 80.68250)  \n",
       "\n",
       "[8276 rows x 40 columns]"
      ]
     },
     "execution_count": 24,
     "metadata": {},
     "output_type": "execute_result"
    }
   ],
   "source": [
    "# TODO rename well heads\n",
    "df_well_tops = pd.concat(\n",
    "    [\n",
    "        pd.read_csv(data_locations_wellheads / \"wellbore_exploration_all.csv\"),\n",
    "        pd.read_csv(data_locations_wellheads / \"wellbore_development_all.csv\"),\n",
    "        pd.read_csv(data_locations_wellheads / \"wellbore_other_all.csv\"),\n",
    "    ]\n",
    ")\n",
    "df_well_tops[\"wlbWellboreName_geolink\"] = df_well_tops[\"wlbWellboreName\"].str.replace(\n",
    "    \"/\", \"_\"\n",
    ")\n",
    "\n",
    "\n",
    "# add dates\n",
    "date_cols = [\"wlbEntryDate\", \"wlbCompletionDate\"]\n",
    "for c in date_cols:\n",
    "    df_well_tops[c] = pd.to_datetime(df_well_tops[c])  # .astype('str')\n",
    "\n",
    "df_well_tops[\"wlbNsDecDeg\"] = df_well_tops[\"wlbNsDecDeg\"].replace(0, np.nan)\n",
    "df_well_tops[\"wlbEwDesDeg\"] = df_well_tops[\"wlbEwDesDeg\"].replace(0, np.nan)\n",
    "\n",
    "a = set(df_well_tops.columns)\n",
    "df_well_tops = df_well_tops.dropna(axis=1, thresh=0.9 * len(df_well_tops))\n",
    "b = set(df_well_tops.columns)\n",
    "print(\"removed\", a - b)\n",
    "\n",
    "# make into geodataframe\n",
    "df_well_tops = gpd.GeoDataFrame(\n",
    "    df_well_tops,\n",
    "    geometry=gpd.points_from_xy(df_well_tops.wlbEwDesDeg, df_well_tops.wlbNsDecDeg),\n",
    ")\n",
    "df_well_tops"
   ]
  },
  {
   "cell_type": "code",
   "execution_count": null,
   "metadata": {
    "lines_to_next_cell": 2
   },
   "outputs": [],
   "source": []
  },
  {
   "cell_type": "markdown",
   "metadata": {},
   "source": [
    "## Las files"
   ]
  },
  {
   "cell_type": "markdown",
   "metadata": {},
   "source": [
    "We can now proceed to import these files as las files and get their dataframes and hopefully put them into a data format that is more suited for ML tasks."
   ]
  },
  {
   "cell_type": "code",
   "execution_count": 25,
   "metadata": {
    "ExecuteTime": {
     "end_time": "2020-10-07T22:48:56.482543Z",
     "start_time": "2020-10-07T22:43:42.036643Z"
    }
   },
   "outputs": [
    {
     "data": {
      "application/vnd.jupyter.widget-view+json": {
       "model_id": "d72fd1c082dd48a9b945dac8d4630175",
       "version_major": 2,
       "version_minor": 0
      },
      "text/plain": [
       "HBox(children=(FloatProgress(value=0.0, max=223.0), HTML(value='')))"
      ]
     },
     "metadata": {},
     "output_type": "display_data"
    },
    {
     "name": "stdout",
     "output_type": "stream",
     "text": [
      "\n"
     ]
    },
    {
     "ename": "FileNotFoundError",
     "evalue": "[Errno 2] No such file or directory: '../../data/interim/geolink_norge_dataset/geolink_norge_well_logs_raw.parquet'",
     "output_type": "error",
     "traceback": [
      "\u001b[0;31m---------------------------------------------------------------------------\u001b[0m",
      "\u001b[0;31mFileNotFoundError\u001b[0m                         Traceback (most recent call last)",
      "\u001b[0;32m<ipython-input-25-96f68b668cfd>\u001b[0m in \u001b[0;36m<module>\u001b[0;34m\u001b[0m\n\u001b[1;32m     23\u001b[0m \u001b[0;34m\u001b[0m\u001b[0m\n\u001b[1;32m     24\u001b[0m     df_all.to_parquet(\n\u001b[0;32m---> 25\u001b[0;31m         \u001b[0minterim_locations2\u001b[0m \u001b[0;34m/\u001b[0m \u001b[0;34m\"geolink_norge_well_logs_raw.parquet\"\u001b[0m\u001b[0;34m,\u001b[0m \u001b[0mcompression\u001b[0m\u001b[0;34m=\u001b[0m\u001b[0;34m\"gzip\"\u001b[0m\u001b[0;34m\u001b[0m\u001b[0;34m\u001b[0m\u001b[0m\n\u001b[0m\u001b[1;32m     26\u001b[0m     )\n\u001b[1;32m     27\u001b[0m \u001b[0;34m\u001b[0m\u001b[0m\n",
      "\u001b[0;32m~/anaconda/envs/deep_ml_curriculum/lib/python3.7/site-packages/pandas/util/_decorators.py\u001b[0m in \u001b[0;36mwrapper\u001b[0;34m(*args, **kwargs)\u001b[0m\n\u001b[1;32m    197\u001b[0m                 \u001b[0;32melse\u001b[0m\u001b[0;34m:\u001b[0m\u001b[0;34m\u001b[0m\u001b[0;34m\u001b[0m\u001b[0m\n\u001b[1;32m    198\u001b[0m                     \u001b[0mkwargs\u001b[0m\u001b[0;34m[\u001b[0m\u001b[0mnew_arg_name\u001b[0m\u001b[0;34m]\u001b[0m \u001b[0;34m=\u001b[0m \u001b[0mnew_arg_value\u001b[0m\u001b[0;34m\u001b[0m\u001b[0;34m\u001b[0m\u001b[0m\n\u001b[0;32m--> 199\u001b[0;31m             \u001b[0;32mreturn\u001b[0m \u001b[0mfunc\u001b[0m\u001b[0;34m(\u001b[0m\u001b[0;34m*\u001b[0m\u001b[0margs\u001b[0m\u001b[0;34m,\u001b[0m \u001b[0;34m**\u001b[0m\u001b[0mkwargs\u001b[0m\u001b[0;34m)\u001b[0m\u001b[0;34m\u001b[0m\u001b[0;34m\u001b[0m\u001b[0m\n\u001b[0m\u001b[1;32m    200\u001b[0m \u001b[0;34m\u001b[0m\u001b[0m\n\u001b[1;32m    201\u001b[0m         \u001b[0;32mreturn\u001b[0m \u001b[0mcast\u001b[0m\u001b[0;34m(\u001b[0m\u001b[0mF\u001b[0m\u001b[0;34m,\u001b[0m \u001b[0mwrapper\u001b[0m\u001b[0;34m)\u001b[0m\u001b[0;34m\u001b[0m\u001b[0;34m\u001b[0m\u001b[0m\n",
      "\u001b[0;32m~/anaconda/envs/deep_ml_curriculum/lib/python3.7/site-packages/pandas/core/frame.py\u001b[0m in \u001b[0;36mto_parquet\u001b[0;34m(self, path, engine, compression, index, partition_cols, **kwargs)\u001b[0m\n\u001b[1;32m   2370\u001b[0m             \u001b[0mindex\u001b[0m\u001b[0;34m=\u001b[0m\u001b[0mindex\u001b[0m\u001b[0;34m,\u001b[0m\u001b[0;34m\u001b[0m\u001b[0;34m\u001b[0m\u001b[0m\n\u001b[1;32m   2371\u001b[0m             \u001b[0mpartition_cols\u001b[0m\u001b[0;34m=\u001b[0m\u001b[0mpartition_cols\u001b[0m\u001b[0;34m,\u001b[0m\u001b[0;34m\u001b[0m\u001b[0;34m\u001b[0m\u001b[0m\n\u001b[0;32m-> 2372\u001b[0;31m             \u001b[0;34m**\u001b[0m\u001b[0mkwargs\u001b[0m\u001b[0;34m,\u001b[0m\u001b[0;34m\u001b[0m\u001b[0;34m\u001b[0m\u001b[0m\n\u001b[0m\u001b[1;32m   2373\u001b[0m         )\n\u001b[1;32m   2374\u001b[0m \u001b[0;34m\u001b[0m\u001b[0m\n",
      "\u001b[0;32m~/anaconda/envs/deep_ml_curriculum/lib/python3.7/site-packages/pandas/io/parquet.py\u001b[0m in \u001b[0;36mto_parquet\u001b[0;34m(df, path, engine, compression, index, partition_cols, **kwargs)\u001b[0m\n\u001b[1;32m    274\u001b[0m         \u001b[0mindex\u001b[0m\u001b[0;34m=\u001b[0m\u001b[0mindex\u001b[0m\u001b[0;34m,\u001b[0m\u001b[0;34m\u001b[0m\u001b[0;34m\u001b[0m\u001b[0m\n\u001b[1;32m    275\u001b[0m         \u001b[0mpartition_cols\u001b[0m\u001b[0;34m=\u001b[0m\u001b[0mpartition_cols\u001b[0m\u001b[0;34m,\u001b[0m\u001b[0;34m\u001b[0m\u001b[0;34m\u001b[0m\u001b[0m\n\u001b[0;32m--> 276\u001b[0;31m         \u001b[0;34m**\u001b[0m\u001b[0mkwargs\u001b[0m\u001b[0;34m,\u001b[0m\u001b[0;34m\u001b[0m\u001b[0;34m\u001b[0m\u001b[0m\n\u001b[0m\u001b[1;32m    277\u001b[0m     )\n\u001b[1;32m    278\u001b[0m \u001b[0;34m\u001b[0m\u001b[0m\n",
      "\u001b[0;32m~/anaconda/envs/deep_ml_curriculum/lib/python3.7/site-packages/pandas/io/parquet.py\u001b[0m in \u001b[0;36mwrite\u001b[0;34m(self, df, path, compression, index, partition_cols, **kwargs)\u001b[0m\n\u001b[1;32m    197\u001b[0m                 \u001b[0mwrite_index\u001b[0m\u001b[0;34m=\u001b[0m\u001b[0mindex\u001b[0m\u001b[0;34m,\u001b[0m\u001b[0;34m\u001b[0m\u001b[0;34m\u001b[0m\u001b[0m\n\u001b[1;32m    198\u001b[0m                 \u001b[0mpartition_on\u001b[0m\u001b[0;34m=\u001b[0m\u001b[0mpartition_cols\u001b[0m\u001b[0;34m,\u001b[0m\u001b[0;34m\u001b[0m\u001b[0;34m\u001b[0m\u001b[0m\n\u001b[0;32m--> 199\u001b[0;31m                 \u001b[0;34m**\u001b[0m\u001b[0mkwargs\u001b[0m\u001b[0;34m,\u001b[0m\u001b[0;34m\u001b[0m\u001b[0;34m\u001b[0m\u001b[0m\n\u001b[0m\u001b[1;32m    200\u001b[0m             )\n\u001b[1;32m    201\u001b[0m \u001b[0;34m\u001b[0m\u001b[0m\n",
      "\u001b[0;32m~/anaconda/envs/deep_ml_curriculum/lib/python3.7/site-packages/fastparquet/writer.py\u001b[0m in \u001b[0;36mwrite\u001b[0;34m(filename, data, row_group_offsets, compression, file_scheme, open_with, mkdirs, has_nulls, write_index, partition_on, fixed_text, append, object_encoding, times)\u001b[0m\n\u001b[1;32m    879\u001b[0m     \u001b[0;32mif\u001b[0m \u001b[0mfile_scheme\u001b[0m \u001b[0;34m==\u001b[0m \u001b[0;34m'simple'\u001b[0m\u001b[0;34m:\u001b[0m\u001b[0;34m\u001b[0m\u001b[0;34m\u001b[0m\u001b[0m\n\u001b[1;32m    880\u001b[0m         write_simple(filename, data, fmd, row_group_offsets,\n\u001b[0;32m--> 881\u001b[0;31m                      compression, open_with, has_nulls, append)\n\u001b[0m\u001b[1;32m    882\u001b[0m     \u001b[0;32melif\u001b[0m \u001b[0mfile_scheme\u001b[0m \u001b[0;32min\u001b[0m \u001b[0;34m[\u001b[0m\u001b[0;34m'hive'\u001b[0m\u001b[0;34m,\u001b[0m \u001b[0;34m'drill'\u001b[0m\u001b[0;34m]\u001b[0m\u001b[0;34m:\u001b[0m\u001b[0;34m\u001b[0m\u001b[0;34m\u001b[0m\u001b[0m\n\u001b[1;32m    883\u001b[0m         \u001b[0;32mif\u001b[0m \u001b[0mappend\u001b[0m\u001b[0;34m:\u001b[0m\u001b[0;34m\u001b[0m\u001b[0;34m\u001b[0m\u001b[0m\n",
      "\u001b[0;32m~/anaconda/envs/deep_ml_curriculum/lib/python3.7/site-packages/fastparquet/writer.py\u001b[0m in \u001b[0;36mwrite_simple\u001b[0;34m(fn, data, fmd, row_group_offsets, compression, open_with, has_nulls, append)\u001b[0m\n\u001b[1;32m    733\u001b[0m     \u001b[0;32melse\u001b[0m\u001b[0;34m:\u001b[0m\u001b[0;34m\u001b[0m\u001b[0;34m\u001b[0m\u001b[0m\n\u001b[1;32m    734\u001b[0m         \u001b[0mmode\u001b[0m \u001b[0;34m=\u001b[0m \u001b[0;34m'wb'\u001b[0m\u001b[0;34m\u001b[0m\u001b[0;34m\u001b[0m\u001b[0m\n\u001b[0;32m--> 735\u001b[0;31m     \u001b[0;32mwith\u001b[0m \u001b[0mopen_with\u001b[0m\u001b[0;34m(\u001b[0m\u001b[0mfn\u001b[0m\u001b[0;34m,\u001b[0m \u001b[0mmode\u001b[0m\u001b[0;34m)\u001b[0m \u001b[0;32mas\u001b[0m \u001b[0mf\u001b[0m\u001b[0;34m:\u001b[0m\u001b[0;34m\u001b[0m\u001b[0;34m\u001b[0m\u001b[0m\n\u001b[0m\u001b[1;32m    736\u001b[0m         \u001b[0;32mif\u001b[0m \u001b[0mappend\u001b[0m\u001b[0;34m:\u001b[0m\u001b[0;34m\u001b[0m\u001b[0;34m\u001b[0m\u001b[0m\n\u001b[1;32m    737\u001b[0m             \u001b[0mf\u001b[0m\u001b[0;34m.\u001b[0m\u001b[0mseek\u001b[0m\u001b[0;34m(\u001b[0m\u001b[0;34m-\u001b[0m\u001b[0;36m8\u001b[0m\u001b[0;34m,\u001b[0m \u001b[0;36m2\u001b[0m\u001b[0;34m)\u001b[0m\u001b[0;34m\u001b[0m\u001b[0;34m\u001b[0m\u001b[0m\n",
      "\u001b[0;32m~/anaconda/envs/deep_ml_curriculum/lib/python3.7/site-packages/fastparquet/util.py\u001b[0m in \u001b[0;36mdefault_open\u001b[0;34m(f, mode)\u001b[0m\n\u001b[1;32m     40\u001b[0m \u001b[0;34m\u001b[0m\u001b[0m\n\u001b[1;32m     41\u001b[0m \u001b[0;32mdef\u001b[0m \u001b[0mdefault_open\u001b[0m\u001b[0;34m(\u001b[0m\u001b[0mf\u001b[0m\u001b[0;34m,\u001b[0m \u001b[0mmode\u001b[0m\u001b[0;34m=\u001b[0m\u001b[0;34m'rb'\u001b[0m\u001b[0;34m)\u001b[0m\u001b[0;34m:\u001b[0m\u001b[0;34m\u001b[0m\u001b[0;34m\u001b[0m\u001b[0m\n\u001b[0;32m---> 42\u001b[0;31m     \u001b[0;32mreturn\u001b[0m \u001b[0mopen\u001b[0m\u001b[0;34m(\u001b[0m\u001b[0mf\u001b[0m\u001b[0;34m,\u001b[0m \u001b[0mmode\u001b[0m\u001b[0;34m)\u001b[0m\u001b[0;34m\u001b[0m\u001b[0;34m\u001b[0m\u001b[0m\n\u001b[0m\u001b[1;32m     43\u001b[0m \u001b[0;34m\u001b[0m\u001b[0m\n\u001b[1;32m     44\u001b[0m \u001b[0;34m\u001b[0m\u001b[0m\n",
      "\u001b[0;31mFileNotFoundError\u001b[0m: [Errno 2] No such file or directory: '../../data/interim/geolink_norge_dataset/geolink_norge_well_logs_raw.parquet'"
     ]
    }
   ],
   "source": [
    "if not (interim_locations2 / \"geolink_norge_well_logs_raw.parquet\").exists():\n",
    "\n",
    "    # load las files\n",
    "    well_dataframes = []\n",
    "    files = sorted(data_locations.glob(\"*.las\"))\n",
    "    for f in tqdm(files):\n",
    "        df = lasio.read(f).df()\n",
    "        df[\"Well\"] = f.stem\n",
    "        well_dataframes.append(df)\n",
    "\n",
    "    df_all = pd.concat(well_dataframes)\n",
    "\n",
    "    df_all[\"Well\"] = df_all[\"Well\"].astype(\"category\")\n",
    "\n",
    "    # Name lithology\n",
    "    litho_dict = df_lithology.set_index(\"Abbreviation\")[\"Lithology\"].to_dict()\n",
    "    df_all[\"LITHOLOGY_GEOLINK\"] = (\n",
    "        df_all[\"LITHOLOGY_GEOLINK\"].replace(litho_dict).astype(\"category\")\n",
    "    )\n",
    "\n",
    "    # unique index\n",
    "    df_all = df_all.reset_index()  # .set_index(['Well', 'DEPT'])\n",
    "\n",
    "    df_all.to_parquet(\n",
    "        interim_locations2 / \"geolink_norge_well_logs_raw.parquet\", compression=\"gzip\"\n",
    "    )\n",
    "\n",
    "df_all = pd.read_parquet(interim_locations2 / \"geolink_norge_well_logs_raw.parquet\")\n",
    "df_all"
   ]
  },
  {
   "cell_type": "markdown",
   "metadata": {},
   "source": [
    "## Clean las files"
   ]
  },
  {
   "cell_type": "code",
   "execution_count": null,
   "metadata": {},
   "outputs": [],
   "source": []
  },
  {
   "cell_type": "code",
   "execution_count": null,
   "metadata": {
    "ExecuteTime": {
     "end_time": "2020-10-07T22:48:56.488014Z",
     "start_time": "2020-10-07T22:43:41.200Z"
    }
   },
   "outputs": [],
   "source": [
    "# Clean.\n",
    "\n",
    "# must have well head\n",
    "df_all_clean2 = df_all[\n",
    "    df_all.Well.apply(lambda s: s in set(df_well_tops[\"wlbWellboreName_geolink\"]))\n",
    "]\n",
    "\n",
    "# must have lithology\n",
    "df_all_clean2 = df_all_clean2.dropna(subset=[\"LITHOLOGY_GEOLINK\"])\n",
    "print(\"nans\", df_all_clean2.isna().mean().sort_values())\n",
    "# Keep /cols logs that are present>thresh of the time\n",
    "df_all_clean1 = df_all_clean2.dropna(axis=1, thresh=0.6 * len(df_all_clean2))\n",
    "print('kept {:%} cols'.format(len(df_all_clean1.columns) / len(df_all_clean2.columns)))\n",
    "# print(\"nans\", df_all_clean1.isna().mean().sort_values())\n",
    "\n",
    "# Drop rows with any Nan's\n",
    "df_all_clean = df_all_clean1.dropna(axis=0, how='any')\n",
    "print('kept {:%} rows'.format(len(df_all_clean) / len(df_all_clean2)))\n",
    "df_all_clean"
   ]
  },
  {
   "cell_type": "code",
   "execution_count": null,
   "metadata": {
    "ExecuteTime": {
     "end_time": "2020-10-07T22:48:56.489668Z",
     "start_time": "2020-10-07T22:43:41.200Z"
    }
   },
   "outputs": [],
   "source": [
    "df_all_clean.dropna().Well.value_counts()"
   ]
  },
  {
   "cell_type": "code",
   "execution_count": null,
   "metadata": {
    "ExecuteTime": {
     "end_time": "2020-10-07T22:48:56.491216Z",
     "start_time": "2020-10-07T22:43:41.200Z"
    }
   },
   "outputs": [],
   "source": [
    "df_all_clean[df_all_clean['LITHOLOGY_GEOLINK']=='Marlstone'].Well.value_counts()"
   ]
  },
  {
   "cell_type": "code",
   "execution_count": null,
   "metadata": {
    "ExecuteTime": {
     "end_time": "2020-10-07T22:48:56.492687Z",
     "start_time": "2020-10-07T22:43:41.200Z"
    }
   },
   "outputs": [],
   "source": [
    "15_9-12"
   ]
  },
  {
   "cell_type": "code",
   "execution_count": null,
   "metadata": {
    "ExecuteTime": {
     "end_time": "2020-10-07T22:48:56.493989Z",
     "start_time": "2020-10-07T22:43:41.200Z"
    }
   },
   "outputs": [],
   "source": [
    "from deep_ml_curriculum.visualization.well_log import plot_facies, plot_well\n",
    "well_name=\"30_4-1\"\n",
    "logs = df_all_clean[df_all_clean2.Well==well_name]\n",
    "facies = logs['LITHOLOGY_GEOLINK'].astype('category').values\n",
    "plot_well(well_name, \n",
    "          logs, \n",
    "          facies)"
   ]
  },
  {
   "cell_type": "code",
   "execution_count": null,
   "metadata": {
    "ExecuteTime": {
     "end_time": "2020-10-07T22:48:56.494910Z",
     "start_time": "2020-10-07T22:43:41.200Z"
    }
   },
   "outputs": [],
   "source": [
    "from deep_ml_curriculum.visualization.well_log import plot_facies, plot_well\n",
    "well_name=\"30_6-11\"\n",
    "logs = df_all_clean[df_all_clean2.Well==well_name]\n",
    "facies = logs['LITHOLOGY_GEOLINK'].astype('category').values\n",
    "plot_well(well_name, \n",
    "          logs, \n",
    "          facies)"
   ]
  },
  {
   "cell_type": "code",
   "execution_count": null,
   "metadata": {
    "ExecuteTime": {
     "end_time": "2020-10-07T22:48:56.496826Z",
     "start_time": "2020-10-07T22:43:41.200Z"
    }
   },
   "outputs": [],
   "source": [
    "# Split by well name\n",
    "# wells_val = [\n",
    "#     \"35_11-1\",\n",
    "#     \"35_11-10\",\n",
    "#     \"35_11-11\",\n",
    "#     \"35_11-12\",\n",
    "#     \"35_11-13\",\n",
    "#     \"35_11-15 S\",\n",
    "#     \"35_11-2\",\n",
    "#     \"35_11-5\",\n",
    "#     \"35_11-6\",\n",
    "#     \"35_11-7\",\n",
    "#     \"35_12-1\",\n",
    "# ]\n",
    "\n",
    "wells_test = [\n",
    "    \"34_10-12\",\n",
    "    \"34_10-16 R\",\n",
    "    \"34_10-17\",\n",
    "    \"34_10-19\",\n",
    "    \"34_10-21\",\n",
    "    \"34_10-23\",\n",
    "    \"34_10-33\",\n",
    "    \"34_10-35\",\n",
    "    \"34_10-5\",\n",
    "    \"34_10-7\",\n",
    "    \"34_11-1\",\n",
    "    \"34_11-2 S\",\n",
    "    \"34_11-3 T2\",\n",
    "]"
   ]
  },
  {
   "cell_type": "code",
   "execution_count": null,
   "metadata": {
    "ExecuteTime": {
     "end_time": "2020-10-07T22:48:56.498278Z",
     "start_time": "2020-10-07T22:43:41.200Z"
    }
   },
   "outputs": [],
   "source": [
    "df_all_clean_test = df_all_clean[df_all_clean.Well.apply(lambda s: s in wells_test)]\n",
    "df_all_clean_train = df_all_clean[\n",
    "    df_all_clean.Well.apply(lambda s: (s not in wells_test))\n",
    "]\n",
    "# assert len(set(df_all_clean_val.Well).intersection(set(df_all_clean_train))) == 0\n",
    "assert len(set(df_all_clean_test.Well).intersection(set(df_all_clean_train))) == 0\n",
    "# assert len(set(df_all_clean_test.Well).intersection(set(df_all_clean_val))) == 0\n",
    "len(df_all_clean_train), len(df_all_clean_test)"
   ]
  },
  {
   "cell_type": "code",
   "execution_count": null,
   "metadata": {
    "ExecuteTime": {
     "end_time": "2020-10-07T22:48:56.499434Z",
     "start_time": "2020-10-07T22:43:41.200Z"
    }
   },
   "outputs": [],
   "source": [
    "df_all_clean_train.to_parquet(\n",
    "    interim_locations / \"geolink_norge_well_logs_train.parquet\", compression=\"gzip\"\n",
    ")\n",
    "df_all_clean_test.to_parquet(\n",
    "    interim_locations / \"geolink_norge_well_logs_test.parquet\", compression=\"gzip\"\n",
    ")\n",
    "# df_all_clean_val.to_parquet(\n",
    "#     interim_locations / \"geolink_norge_well_logs_val.parquet\", compression=\"gzip\"\n",
    "# )"
   ]
  },
  {
   "cell_type": "code",
   "execution_count": null,
   "metadata": {
    "ExecuteTime": {
     "end_time": "2020-10-07T22:48:56.500268Z",
     "start_time": "2020-10-07T22:43:41.200Z"
    }
   },
   "outputs": [],
   "source": [
    "df_all_clean"
   ]
  },
  {
   "cell_type": "code",
   "execution_count": null,
   "metadata": {},
   "outputs": [],
   "source": []
  },
  {
   "cell_type": "markdown",
   "metadata": {},
   "source": [
    "# Others"
   ]
  },
  {
   "cell_type": "code",
   "execution_count": null,
   "metadata": {},
   "outputs": [],
   "source": []
  },
  {
   "cell_type": "code",
   "execution_count": null,
   "metadata": {
    "ExecuteTime": {
     "end_time": "2020-10-07T22:48:56.501510Z",
     "start_time": "2020-10-07T22:43:41.200Z"
    }
   },
   "outputs": [],
   "source": [
    "df_picks = pd.read_excel(\n",
    "    data_locations / \"../NPD stratigraphic picks north sea.xlsx\", header=0\n",
    ")\n",
    "df_picks.to_parquet(\n",
    "    interim_locations / \"geolink_norge_picks.parquet\", compression=\"gzip\"\n",
    ")"
   ]
  },
  {
   "cell_type": "code",
   "execution_count": null,
   "metadata": {
    "ExecuteTime": {
     "end_time": "2020-10-07T22:48:56.502419Z",
     "start_time": "2020-10-07T22:43:41.200Z"
    }
   },
   "outputs": [],
   "source": [
    "df_picks"
   ]
  },
  {
   "cell_type": "markdown",
   "metadata": {},
   "source": [
    "## Well heads part 2"
   ]
  },
  {
   "cell_type": "code",
   "execution_count": null,
   "metadata": {
    "ExecuteTime": {
     "end_time": "2020-10-07T22:48:56.503330Z",
     "start_time": "2020-10-07T22:43:41.200Z"
    }
   },
   "outputs": [],
   "source": [
    "# only wells we use\n",
    "a = sorted(df_all.Well.unique())\n",
    "df_well_tops = df_well_tops[\n",
    "    df_well_tops[\"wlbWellboreName_geolink\"].apply(lambda s: s in a)\n",
    "]"
   ]
  },
  {
   "cell_type": "code",
   "execution_count": null,
   "metadata": {
    "ExecuteTime": {
     "end_time": "2020-10-07T22:48:56.504151Z",
     "start_time": "2020-10-07T22:43:41.200Z"
    }
   },
   "outputs": [],
   "source": [
    "df_well_tops.to_file(interim_locations / \"norge_well_tops.gpkg\", driver=\"GPKG\")"
   ]
  },
  {
   "cell_type": "markdown",
   "metadata": {},
   "source": [
    "# Example Load"
   ]
  },
  {
   "cell_type": "code",
   "execution_count": null,
   "metadata": {
    "ExecuteTime": {
     "end_time": "2020-10-07T22:48:56.504989Z",
     "start_time": "2020-10-07T22:43:41.200Z"
    }
   },
   "outputs": [],
   "source": [
    "# Test load\n",
    "df_all_clean2 = pd.read_parquet(\n",
    "    interim_locations / \"geolink_norge_well_logs_train.parquet\"\n",
    ")  # .set_index(['Well', 'DEPT'])\n",
    "\n",
    "df_well_tops = gpd.read_file(interim_locations / \"norge_well_tops.gpkg\")\n",
    "df_well_tops_minimal = df_well_tops[\n",
    "    [\n",
    "        \"wlbWellboreName_geolink\",\n",
    "        \"wlbCompletionYear\",\n",
    "        \"wlbKellyBushElevation\",\n",
    "        \"wlbCompletionDate\",\n",
    "        \"wlbTotalDepth\",\n",
    "        \"geometry\",\n",
    "    ]\n",
    "]\n",
    "df_well_tops.plot()"
   ]
  },
  {
   "cell_type": "code",
   "execution_count": null,
   "metadata": {
    "ExecuteTime": {
     "end_time": "2020-10-07T22:48:56.505907Z",
     "start_time": "2020-10-07T22:43:41.200Z"
    }
   },
   "outputs": [],
   "source": [
    "# Merge well tops and well logs, a selection\n",
    "df_all_clean3 = pd.merge(\n",
    "    left=df_all_clean2.sample(1000),\n",
    "    right=df_well_tops_minimal,\n",
    "    left_on=\"Well\",\n",
    "    right_on=\"wlbWellboreName_geolink\",\n",
    "    how=\"left\",\n",
    ").drop(columns=\"wlbWellboreName_geolink\")\n",
    "df_all_clean3 = df_all_clean3.set_index(['Well', 'DEPT'])\n",
    "df_all_clean3 = gpd.GeoDataFrame(df_all_clean3, geometry=df_all_clean3['geometry'])\n",
    "df_all_clean3.plot()\n",
    "# df_all_clean3"
   ]
  },
  {
   "cell_type": "code",
   "execution_count": null,
   "metadata": {
    "ExecuteTime": {
     "end_time": "2020-10-07T22:48:56.507108Z",
     "start_time": "2020-10-07T22:43:41.200Z"
    }
   },
   "outputs": [],
   "source": [
    "df_picks = pd.read_parquet(interim_locations / \"geolink_norge_picks.parquet\")\n",
    "df_picks"
   ]
  },
  {
   "cell_type": "code",
   "execution_count": null,
   "metadata": {
    "ExecuteTime": {
     "end_time": "2020-10-07T22:48:56.508002Z",
     "start_time": "2020-10-07T22:43:41.300Z"
    }
   },
   "outputs": [],
   "source": [
    "df_all_clean = pd.read_parquet(\n",
    "    interim_locations / \"geolink_norge_well_logs_train.parquet\"\n",
    ").set_index([\"Well\", \"DEPT\"])\n",
    "df_all_clean"
   ]
  },
  {
   "cell_type": "markdown",
   "metadata": {},
   "source": [
    "# Example plot"
   ]
  },
  {
   "cell_type": "code",
   "execution_count": null,
   "metadata": {
    "ExecuteTime": {
     "end_time": "2020-10-07T22:48:56.508947Z",
     "start_time": "2020-10-07T22:43:41.300Z"
    }
   },
   "outputs": [],
   "source": [
    "df_all_clean = pd.read_parquet(\n",
    "    interim_locations / \"geolink_norge_well_logs_train.parquet\"\n",
    ").set_index([\"Well\", \"DEPT\"])\n",
    "df_all_clean['DEPT'] = df_all_clean.index.get_level_values(1)\n",
    "df_all_clean"
   ]
  },
  {
   "cell_type": "code",
   "execution_count": null,
   "metadata": {
    "ExecuteTime": {
     "end_time": "2020-10-07T22:48:56.509908Z",
     "start_time": "2020-10-07T22:43:41.300Z"
    }
   },
   "outputs": [],
   "source": [
    "# logs"
   ]
  },
  {
   "cell_type": "code",
   "execution_count": null,
   "metadata": {
    "ExecuteTime": {
     "end_time": "2020-10-07T22:48:56.510749Z",
     "start_time": "2020-10-07T22:43:41.300Z"
    }
   },
   "outputs": [],
   "source": [
    "from deep_ml_curriculum.visualization.well_log import plot_facies, plot_well\n",
    "well_name=\"30_4-1\"\n",
    "logs = df_all_clean.xs(well_name)\n",
    "facies = logs['LITHOLOGY_GEOLINK'].astype('category').values\n",
    "plot_well(well_name, \n",
    "          logs, \n",
    "          facies)"
   ]
  },
  {
   "cell_type": "code",
   "execution_count": null,
   "metadata": {
    "ExecuteTime": {
     "end_time": "2020-10-07T22:48:56.511614Z",
     "start_time": "2020-10-07T22:43:41.300Z"
    }
   },
   "outputs": [],
   "source": [
    "plt.figure(figsize=(1,8))\n",
    "plot_facies(facies, plt.gca(), colorbar=False)"
   ]
  },
  {
   "cell_type": "markdown",
   "metadata": {},
   "source": [
    "# reindex depth and to Xarray\n",
    "\n",
    "This lets us includes location easily without using much more space"
   ]
  },
  {
   "cell_type": "code",
   "execution_count": null,
   "metadata": {
    "ExecuteTime": {
     "end_time": "2020-10-07T22:48:56.512828Z",
     "start_time": "2020-10-07T22:43:41.300Z"
    },
    "lines_to_next_cell": 0
   },
   "outputs": [],
   "source": [
    "# Load some\n",
    "df_all_clean1 = pd.read_parquet(\n",
    "    interim_locations / \"geolink_norge_well_logs_test.parquet\"\n",
    ").set_index(['Well', 'DEPT'])\n",
    "df_all_clean1['Depth'] = df_all_clean1.index.get_level_values(1)\n",
    "df_all_clean1['split'] = 'test'\n",
    "\n",
    "# Load some\n",
    "df_all_clean2 = pd.read_parquet(\n",
    "    interim_locations / \"geolink_norge_well_logs_train.parquet\"\n",
    ").set_index(['Well', 'DEPT'])\n",
    "df_all_clean2['Depth'] = df_all_clean2.index.get_level_values(1)\n",
    "df_all_clean2['split'] = 'train'\n",
    "\n",
    "# # Load some\n",
    "# df_all_clean3 = pd.read_parquet(\n",
    "#     interim_locations / \"geolink_norge_well_logs_val.parquet\"\n",
    "# ).set_index(['Well', 'DEPT'])\n",
    "# df_all_clean3['Depth'] = df_all_clean3.index.get_level_values(1)\n",
    "# df_all_clean3['split'] = 'val'\n",
    "\n",
    "df_all = pd.concat([df_all_clean1, df_all_clean2])\n",
    "df_all"
   ]
  },
  {
   "cell_type": "code",
   "execution_count": null,
   "metadata": {
    "ExecuteTime": {
     "end_time": "2020-10-07T12:04:14.165991Z",
     "start_time": "2020-10-07T12:04:14.084476Z"
    }
   },
   "outputs": [],
   "source": []
  },
  {
   "cell_type": "code",
   "execution_count": null,
   "metadata": {
    "lines_to_next_cell": 2
   },
   "outputs": [],
   "source": []
  },
  {
   "cell_type": "code",
   "execution_count": null,
   "metadata": {
    "ExecuteTime": {
     "end_time": "2020-10-07T22:48:56.513938Z",
     "start_time": "2020-10-07T22:43:41.300Z"
    }
   },
   "outputs": [],
   "source": [
    "df_well_tops = gpd.read_file(interim_locations / \"norge_well_tops.gpkg\")\n",
    "df_well_tops_minimal = df_well_tops[\n",
    "    [\n",
    "        \"wlbWellboreName_geolink\",\n",
    "        \"wlbCompletionYear\",\n",
    "        \"wlbKellyBushElevation\",\n",
    "        \"wlbCompletionDate\",\n",
    "        \"wlbTotalDepth\",\n",
    "        \"geometry\",\n",
    "    ]\n",
    "].copy()\n",
    "df_well_tops_minimal['xc'] = df_well_tops_minimal.geometry.x\n",
    "df_well_tops_minimal['yc'] = df_well_tops_minimal.geometry.y\n",
    "df_well_tops_minimal"
   ]
  },
  {
   "cell_type": "code",
   "execution_count": null,
   "metadata": {
    "ExecuteTime": {
     "end_time": "2020-10-07T22:48:56.514884Z",
     "start_time": "2020-10-07T22:43:41.300Z"
    }
   },
   "outputs": [],
   "source": [
    "nidx = np.arange(400, 5500, 0.15)"
   ]
  },
  {
   "cell_type": "code",
   "execution_count": null,
   "metadata": {
    "ExecuteTime": {
     "end_time": "2020-10-07T22:48:56.515830Z",
     "start_time": "2020-10-07T22:43:41.300Z"
    },
    "lines_to_next_cell": 0
   },
   "outputs": [],
   "source": [
    "def reindex(x):\n",
    "    \"\"\"Reindex each well to 15cm\"\"\"\n",
    "    if len(x)==0: return None\n",
    "    x = x.reset_index().set_index('DEPT')\n",
    "    x = x.reindex(nidx, method='nearest', limit=1).drop(columns=['Well']).sort_index()\n",
    "    return x\n",
    "#     return x.reset_index().set_index(['Well', 'DEPT'])\n",
    "\n",
    "df_all3 = df_all.groupby(level=0).apply(reindex).dropna()\n",
    "df_all3"
   ]
  },
  {
   "cell_type": "code",
   "execution_count": null,
   "metadata": {
    "ExecuteTime": {
     "end_time": "2020-10-07T12:03:56.578198Z",
     "start_time": "2020-10-07T12:03:33.125225Z"
    },
    "lines_to_next_cell": 2
   },
   "outputs": [],
   "source": []
  },
  {
   "cell_type": "code",
   "execution_count": null,
   "metadata": {
    "ExecuteTime": {
     "end_time": "2020-10-07T22:48:56.516875Z",
     "start_time": "2020-10-07T22:43:41.300Z"
    }
   },
   "outputs": [],
   "source": [
    "import xarray as xr\n",
    "xr_all_clean2 = df_all3.to_xarray()\n",
    "xr_all_clean2"
   ]
  },
  {
   "cell_type": "code",
   "execution_count": null,
   "metadata": {
    "ExecuteTime": {
     "end_time": "2020-10-07T22:48:56.518147Z",
     "start_time": "2020-10-07T22:43:41.300Z"
    }
   },
   "outputs": [],
   "source": [
    "xr_wells = df_well_tops_minimal.rename(columns={'wlbWellboreName_geolink':'Well'}).set_index('Well').to_xarray()\n",
    "xr_wells"
   ]
  },
  {
   "cell_type": "code",
   "execution_count": null,
   "metadata": {
    "ExecuteTime": {
     "end_time": "2020-10-07T22:48:56.519015Z",
     "start_time": "2020-10-07T22:43:41.300Z"
    },
    "lines_to_next_cell": 2
   },
   "outputs": [],
   "source": [
    "xr_all = xr.merge(\n",
    "    [xr_all_clean2, xr_wells],\n",
    "    join='left')"
   ]
  },
  {
   "cell_type": "code",
   "execution_count": null,
   "metadata": {
    "ExecuteTime": {
     "end_time": "2020-10-07T22:48:56.519841Z",
     "start_time": "2020-10-07T22:43:41.300Z"
    }
   },
   "outputs": [],
   "source": [
    "xr_all2 = xr_all.sortby(['Well', 'DEPT'])\n",
    "xr_all2"
   ]
  },
  {
   "cell_type": "code",
   "execution_count": null,
   "metadata": {},
   "outputs": [],
   "source": []
  },
  {
   "cell_type": "code",
   "execution_count": null,
   "metadata": {
    "ExecuteTime": {
     "end_time": "2020-10-07T22:48:56.520668Z",
     "start_time": "2020-10-07T22:43:41.400Z"
    }
   },
   "outputs": [],
   "source": [
    "well_name=\"30_4-1\"\n",
    "logs = xr_all2.sel(Well=well_name).to_dataframe().dropna()\n",
    "logs['DEPT'] = logs['Depth']\n",
    "facies = logs['LITHOLOGY_GEOLINK'].astype('category').values\n",
    "plot_well(well_name, logs, facies)\n",
    "logs"
   ]
  },
  {
   "cell_type": "code",
   "execution_count": null,
   "metadata": {
    "ExecuteTime": {
     "end_time": "2020-10-07T22:48:56.521489Z",
     "start_time": "2020-10-07T22:43:41.400Z"
    }
   },
   "outputs": [],
   "source": [
    "from deep_ml_curriculum.visualization.well_log import plot_facies, plot_well\n",
    "well_name=\"30_4-1\"\n",
    "logs = df_all_clean.xs(well_name)\n",
    "facies = logs['LITHOLOGY_GEOLINK'].astype('category').values\n",
    "plot_well(well_name, \n",
    "          logs, \n",
    "          facies)\n",
    "logs"
   ]
  },
  {
   "cell_type": "code",
   "execution_count": null,
   "metadata": {
    "ExecuteTime": {
     "end_time": "2020-10-07T22:48:56.522397Z",
     "start_time": "2020-10-07T22:43:41.400Z"
    },
    "lines_to_next_cell": 0
   },
   "outputs": [],
   "source": [
    "# def dset_to_nc(dset, f, engine=\"netcdf4\", compression={\"zlib\": True}):\n",
    "#     if isinstance(dset, xr.DataArray):\n",
    "#         dset = dset.to_dataset(name=\"data\")\n",
    "#     encoding = {k: {\"zlib\": True} for k in dset.data_vars}\n",
    "#     print('saving to {}'.format(f))\n",
    "#     dset.to_netcdf(f, engine=engine, encoding=encoding)\n",
    "#     print('Wrote {}.nc size={} M'.format(f.stem, f.stat().st_size / 1000000.0))"
   ]
  },
  {
   "cell_type": "code",
   "execution_count": null,
   "metadata": {},
   "outputs": [],
   "source": []
  },
  {
   "cell_type": "code",
   "execution_count": null,
   "metadata": {
    "lines_to_next_cell": 2
   },
   "outputs": [],
   "source": []
  },
  {
   "cell_type": "code",
   "execution_count": null,
   "metadata": {
    "ExecuteTime": {
     "end_time": "2020-10-07T22:48:56.529310Z",
     "start_time": "2020-10-07T22:43:41.400Z"
    },
    "lines_to_next_cell": 0
   },
   "outputs": [],
   "source": [
    "# dset_to_nc(dset=xr_all.drop(['geometry']),\n",
    "#           f=interim_locations/'geolink_norge_well_logs.h5')"
   ]
  },
  {
   "cell_type": "code",
   "execution_count": null,
   "metadata": {
    "lines_to_next_cell": 2
   },
   "outputs": [],
   "source": []
  },
  {
   "cell_type": "code",
   "execution_count": null,
   "metadata": {
    "ExecuteTime": {
     "end_time": "2020-10-07T22:48:56.530658Z",
     "start_time": "2020-10-07T22:43:41.400Z"
    },
    "lines_to_next_cell": 0
   },
   "outputs": [],
   "source": [
    "import os, shutil\n",
    "\n",
    "def get_dir_size(start_path=\".\"):\n",
    "    total_size = 0\n",
    "    for dirpath, dirnames, filenames in os.walk(start_path):\n",
    "        for f in filenames:\n",
    "            fp = os.path.join(dirpath, f)\n",
    "            total_size += os.path.getsize(fp)\n",
    "    return total_size\n",
    "\n",
    "def dset_to_zarr(dset, f):\n",
    "    if isinstance(dset, xr.DataArray):\n",
    "        dset = dset.to_dataset(name=\"data\")\n",
    "    encoding = {k: {\"zlib\": True} for k in dset.data_vars}\n",
    "    print('saving to {}'.format(f))\n",
    "    if f.exists():\n",
    "        try:\n",
    "            return xr.open_zarr(f)\n",
    "        except:\n",
    "            shutil.rmtree(f)\n",
    "    dset.to_zarr(str(f))\n",
    "    print('{}.zarr size={} M'.format(f.stem, get_dir_size(str(f)) / 1000000.0))\n",
    "    \n",
    "dset_to_zarr(dset=xr_all.drop(['geometry']),\n",
    "          f=interim_locations/'geolink_norge_well_logs.zarr')"
   ]
  },
  {
   "cell_type": "markdown",
   "metadata": {},
   "source": [
    "# Plot map"
   ]
  },
  {
   "cell_type": "code",
   "execution_count": null,
   "metadata": {
    "ExecuteTime": {
     "end_time": "2020-10-07T22:48:56.531809Z",
     "start_time": "2020-10-07T22:43:41.400Z"
    }
   },
   "outputs": [],
   "source": [
    "import matplotlib.pyplot as plt\n",
    "%matplotlib inline\n",
    "import os\n",
    "from tqdm.auto import tqdm\n",
    "import pandas as pd\n",
    "import geopandas as gpd\n",
    "import numpy as np"
   ]
  },
  {
   "cell_type": "code",
   "execution_count": null,
   "metadata": {
    "ExecuteTime": {
     "end_time": "2020-10-07T22:48:56.532812Z",
     "start_time": "2020-10-07T22:43:41.400Z"
    },
    "lines_to_next_cell": 2
   },
   "outputs": [],
   "source": [
    "# import pandas as pd\n",
    "# import xarray as xr\n",
    "# xf = xr.open_zarr(\"../../data/processed/geolink_norge_dataset/geolink_norge_well_logs.zarr\")\n",
    "# df = xf.to_dataframe().swaplevel().sample(1000)\n",
    "# df['LITHOLOGY_GEOLINK'] = df['LITHOLOGY_GEOLINK'].astype('category')\n",
    "# df['Well'] = df.index.get_level_values(0).astype('category')\n",
    "# df['DEPT'] = df.index.get_level_values(1)\n",
    "# feature_cols = ['CALI', 'DTC', 'GR', 'RDEP', 'RHOB',\n",
    "#        'RMED', 'xc', 'yc', 'DEPT']\n",
    "# df = df.dropna(how='any', subset=feature_cols+['LITHOLOGY_GEOLINK'])\n",
    "# df = df.sort_index()\n",
    "\n",
    "# import geopandas as gpd\n",
    "# gdf = gpd.GeoDataFrame(df, geometry=gpd.points_from_xy(df.xc, df.yc))\n",
    "# gdf = gdf.set_crs(epsg=4326).to_crs(epsg=3857)\n",
    "# gdf.plot()"
   ]
  },
  {
   "cell_type": "code",
   "execution_count": null,
   "metadata": {
    "ExecuteTime": {
     "end_time": "2020-10-02T07:49:19.304940Z",
     "start_time": "2020-10-02T07:49:19.301093Z"
    }
   },
   "outputs": [],
   "source": []
  },
  {
   "cell_type": "code",
   "execution_count": null,
   "metadata": {
    "ExecuteTime": {
     "end_time": "2020-10-02T07:15:37.106139Z",
     "start_time": "2020-10-02T07:15:37.092086Z"
    }
   },
   "outputs": [],
   "source": []
  },
  {
   "cell_type": "code",
   "execution_count": null,
   "metadata": {
    "ExecuteTime": {
     "end_time": "2020-10-02T07:10:47.178852Z",
     "start_time": "2020-10-02T07:09:56.415909Z"
    }
   },
   "outputs": [],
   "source": []
  },
  {
   "cell_type": "code",
   "execution_count": null,
   "metadata": {},
   "outputs": [],
   "source": []
  },
  {
   "cell_type": "code",
   "execution_count": null,
   "metadata": {
    "ExecuteTime": {
     "end_time": "2020-10-07T11:31:05.571295Z",
     "start_time": "2020-10-07T11:31:05.518981Z"
    }
   },
   "outputs": [],
   "source": []
  },
  {
   "cell_type": "code",
   "execution_count": null,
   "metadata": {
    "lines_to_next_cell": 2
   },
   "outputs": [],
   "source": []
  },
  {
   "cell_type": "markdown",
   "metadata": {
    "ExecuteTime": {
     "end_time": "2020-10-02T07:11:38.887092Z",
     "start_time": "2020-10-02T07:10:47.181441Z"
    }
   },
   "source": [
    "# Plot contextily"
   ]
  },
  {
   "cell_type": "code",
   "execution_count": null,
   "metadata": {
    "ExecuteTime": {
     "end_time": "2020-10-07T22:48:56.534133Z",
     "start_time": "2020-10-07T22:43:41.400Z"
    }
   },
   "outputs": [],
   "source": [
    "from pathlib import Path\n",
    "interim_locations = Path(\"../../data/processed/geolink_norge_dataset/\")\n",
    "df_well_tops = gpd.read_file(interim_locations / \"norge_well_tops.gpkg\").set_crs(epsg=4326).to_crs(epsg=3857)#.head(40)\n",
    "# df_well_tops.plot()"
   ]
  },
  {
   "cell_type": "code",
   "execution_count": null,
   "metadata": {
    "ExecuteTime": {
     "end_time": "2020-10-07T22:48:56.535390Z",
     "start_time": "2020-10-07T22:43:41.400Z"
    },
    "lines_to_next_cell": 0
   },
   "outputs": [],
   "source": [
    "\n",
    "\n",
    "import contextily as ctx\n",
    "ax = df_well_tops.plot(figsize=(18, 18), edgecolor='k')\n",
    "ctx.add_basemap(ax, url=ctx.providers.Esri.OceanBasemap, zoom=8)\n",
    "\n",
    "# Plot every 5th\n",
    "df_well_tops[::5].apply(lambda x: \n",
    "                   ax.annotate(\n",
    "                       s=x.wlbWellboreName, \n",
    "                       xy=x.geometry.centroid.coords[0], \n",
    "                       ha='left',\n",
    "                       c='white',\n",
    "                       \n",
    "                   ), axis=1);"
   ]
  },
  {
   "cell_type": "code",
   "execution_count": null,
   "metadata": {
    "ExecuteTime": {
     "end_time": "2020-10-07T22:48:56.536583Z",
     "start_time": "2020-10-07T22:43:41.400Z"
    }
   },
   "outputs": [],
   "source": [
    "ax = df_well_tops.plot(figsize=(18, 18), edgecolor='k')\n",
    "# ctx.add_basemap(ax, url=ctx.providers.Esri.OceanBasemap)\n",
    "ctx.add_basemap(ax,\n",
    "                crs=df_well_tops.crs.to_string(),\n",
    "                source=ctx.providers.Stamen.Watercolor\n",
    "               )\n",
    "\n",
    "# Plot every 5th\n",
    "df_well_tops[::5].apply(lambda x: \n",
    "                   ax.annotate(\n",
    "                       s=x.wlbWellboreName, \n",
    "                       xy=x.geometry.centroid.coords[0], \n",
    "                       ha='left',\n",
    "                       c='white'\n",
    "                   ), axis=1);\n"
   ]
  },
  {
   "cell_type": "code",
   "execution_count": null,
   "metadata": {
    "ExecuteTime": {
     "end_time": "2020-10-07T22:48:56.537710Z",
     "start_time": "2020-10-07T22:43:41.400Z"
    }
   },
   "outputs": [],
   "source": [
    "west, south, east, north = bbox = df_well_tops.total_bounds\n",
    "img, ext = ctx.bounds2raster(west,\n",
    "                             south,\n",
    "                             east,\n",
    "                             north,\n",
    "                             \"world_watercolor.tif\",\n",
    "                             source=ctx.providers.Stamen.Watercolor,\n",
    "                             ll=True,\n",
    "                             zoom=8\n",
    "                            )"
   ]
  },
  {
   "cell_type": "code",
   "execution_count": null,
   "metadata": {
    "lines_to_next_cell": 2
   },
   "outputs": [],
   "source": []
  },
  {
   "cell_type": "code",
   "execution_count": null,
   "metadata": {
    "ExecuteTime": {
     "end_time": "2020-10-07T22:48:56.539098Z",
     "start_time": "2020-10-07T22:43:41.400Z"
    },
    "lines_to_next_cell": 2
   },
   "outputs": [],
   "source": [
    "west, south, east, north = bbox = df_well_tops.total_bounds\n",
    "img, ext = ctx.bounds2raster(west,\n",
    "                             south,\n",
    "                             east,\n",
    "                             north,\n",
    "                             \"oceanesri.tif\",\n",
    "                             source=ctx.providers.Esri.OceanBasemap,\n",
    "                             ll=True,\n",
    "                             zoom=8\n",
    "                            )"
   ]
  },
  {
   "cell_type": "code",
   "execution_count": null,
   "metadata": {
    "ExecuteTime": {
     "end_time": "2020-10-07T22:48:56.540333Z",
     "start_time": "2020-10-07T22:43:41.400Z"
    },
    "lines_to_next_cell": 2
   },
   "outputs": [],
   "source": [
    "ctx.bounds2raster?"
   ]
  },
  {
   "cell_type": "code",
   "execution_count": null,
   "metadata": {},
   "outputs": [],
   "source": []
  },
  {
   "cell_type": "code",
   "execution_count": null,
   "metadata": {},
   "outputs": [],
   "source": []
  },
  {
   "cell_type": "code",
   "execution_count": null,
   "metadata": {},
   "outputs": [],
   "source": []
  }
 ],
 "metadata": {
  "jupytext": {
   "formats": "ipynb,py"
  },
  "kernelspec": {
   "display_name": "deep_ml_curriculum",
   "language": "python",
   "name": "deep_ml_curriculum"
  },
  "language_info": {
   "codemirror_mode": {
    "name": "ipython",
    "version": 3
   },
   "file_extension": ".py",
   "mimetype": "text/x-python",
   "name": "python",
   "nbconvert_exporter": "python",
   "pygments_lexer": "ipython3",
   "version": "3.7.9"
  },
  "toc": {
   "base_numbering": 1,
   "nav_menu": {},
   "number_sections": true,
   "sideBar": true,
   "skip_h1_title": false,
   "title_cell": "Table of Contents",
   "title_sidebar": "Contents",
   "toc_cell": false,
   "toc_position": {
    "height": "calc(100% - 180px)",
    "left": "10px",
    "top": "150px",
    "width": "349.083px"
   },
   "toc_section_display": true,
   "toc_window_display": true
  }
 },
 "nbformat": 4,
 "nbformat_minor": 4
}
