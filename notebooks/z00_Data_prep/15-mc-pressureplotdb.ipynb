{
 "cells": [
  {
   "cell_type": "markdown",
   "metadata": {},
   "source": [
    "Data from http://www.pressureplot.com/data.aspx\n",
    "    \n",
    "See the specific liscence for terms\n",
    "\n",
    "this notebook is a work in progress"
   ]
  },
  {
   "cell_type": "code",
   "execution_count": null,
   "metadata": {},
   "outputs": [],
   "source": [
    "import pandas as pd\n",
    "from pathlib import Path\n",
    "from tqdm.auto import tqdm\n",
    "import PIL\n",
    "from IPython.display import display\n",
    "%pylab inline"
   ]
  },
  {
   "cell_type": "code",
   "execution_count": null,
   "metadata": {},
   "outputs": [],
   "source": [
    "datadir_in = Path(\"../../data/raw/PHGDatabase/PHGDatabase_April2019.mdb\")\n",
    "datadir_out = Path(\"../../data/processed/PHGDatabase/PHGDatabase_April2019\")\n",
    "datadir_in.exists()\n",
    "datadir_out.mkdir(exist_ok=True, parents=True)"
   ]
  },
  {
   "cell_type": "markdown",
   "metadata": {},
   "source": [
    "# export from mdb"
   ]
  },
  {
   "cell_type": "code",
   "execution_count": null,
   "metadata": {},
   "outputs": [],
   "source": []
  },
  {
   "cell_type": "code",
   "execution_count": null,
   "metadata": {},
   "outputs": [],
   "source": [
    "cmd = 'mdb-tables {}'.format(datadir_in)\n",
    "tables = getoutput(cmd).split()\n",
    "tables\n",
    "\n",
    "for table in tables:\n",
    "    cmd = 'mdb-export {} {}'.format(datadir_in, table) % ()\n",
    "    csv = getoutput(cmd)\n",
    "    fo = '{}/{}.csv'.format(datadir_out, table)\n",
    "    print(fo)\n",
    "    open(fo, \"w\").write(csv)"
   ]
  },
  {
   "cell_type": "code",
   "execution_count": null,
   "metadata": {},
   "outputs": [],
   "source": [
    "#"
   ]
  },
  {
   "cell_type": "markdown",
   "metadata": {},
   "source": [
    "# import from csv"
   ]
  },
  {
   "cell_type": "code",
   "execution_count": null,
   "metadata": {},
   "outputs": [],
   "source": [
    "tables = {}\n",
    "fs = sorted(datadir_out.glob(\"*.csv\"))\n",
    "for f in tqdm(fs):\n",
    "    df = pd.read_csv(f)\n",
    "    df.name = f.stem\n",
    "    tables[f.stem] = df"
   ]
  },
  {
   "cell_type": "code",
   "execution_count": null,
   "metadata": {},
   "outputs": [],
   "source": [
    "# list tables\n",
    "pd.Series({k: len(v) for k, v in tables.items()}).sort_values()"
   ]
  },
  {
   "cell_type": "code",
   "execution_count": null,
   "metadata": {},
   "outputs": [],
   "source": []
  },
  {
   "cell_type": "code",
   "execution_count": null,
   "metadata": {},
   "outputs": [],
   "source": []
  },
  {
   "cell_type": "code",
   "execution_count": null,
   "metadata": {},
   "outputs": [],
   "source": [
    "df_dst = tables[\"PHG_Dst_Horner\"].copy()\n",
    "df_dst[\"WELL_NAME\"] = df_dst[\"WELL_ID\"].replace(replace_id2name)\n",
    "df_dst = df_dst.dropna()\n",
    "df_dst"
   ]
  },
  {
   "cell_type": "code",
   "execution_count": null,
   "metadata": {},
   "outputs": [],
   "source": [
    "# need gradient for each test\n",
    "for i, (n, g) in enumerate(df_dst.groupby(\"WELL_NAME\")):\n",
    "    ax = plt.gca()\n",
    "    ax2 = plt.twiny()\n",
    "    g.plot.scatter(x=\"PRESSURE\", y=\"DELTA_T\", ax=ax, c=\"blue\")\n",
    "    g.plot.scatter(x=\"TEMPERATURE\", y=\"DELTA_T\", ax=ax2, c=\"y\")\n",
    "    plt.title('{}'.format(n))\n",
    "    plt.show()\n",
    "    if i > 2:\n",
    "        break"
   ]
  },
  {
   "cell_type": "code",
   "execution_count": null,
   "metadata": {},
   "outputs": [],
   "source": [
    "# import matplotlib.cm as cm\n",
    "\n",
    "# x = np.arange(15)\n",
    "# ys = [i+x+(i*x)**2 for i in range(15)]\n",
    "\n",
    "# colors = cm.rainbow(np.linspace(0, 1, len(ys)))"
   ]
  },
  {
   "cell_type": "code",
   "execution_count": null,
   "metadata": {
    "lines_to_next_cell": 0
   },
   "outputs": [],
   "source": [
    "replace_id2name = tables[\"PHG_Well\"].set_index(\"WELL_ID\")[\"WELL_NAME\"]\n",
    "replace_lith = tables[\"PHG_LithType\"].set_index(\"LITHOLOGY_TYPE_CODE\")[\n",
    "    \"LITHOLOGY_TYPE_DESCRIPTION\"\n",
    "]\n",
    "\n",
    "# get poro perm\n",
    "df = tables[\"PHG_Porperm_View\"].copy()\n",
    "df[\"WELL_NAME\"] = df[\"WELL_ID\"].replace(replace_id2name).values\n",
    "df[\"Lithology\"] = df[\"LITHOLOGY_CODE\"].replace(replace_lith).values\n",
    "\n",
    "\n",
    "df_poroperm = df[\n",
    "    [\n",
    "        \"WELL_NAME\",\n",
    "        \"TOP_INTERVAL\",\n",
    "        \"PERMEABILITY\",\n",
    "        \"POROSITY\",\n",
    "        \"Lithology\",\n",
    "        \"GRAIN_DENSITY\",\n",
    "    ]\n",
    "].set_index([\"WELL_NAME\", \"TOP_INTERVAL\"])\n",
    "df_poroperm\n",
    "\n",
    "\n",
    "for i, (n, g) in enumerate(df_poroperm.groupby(\"WELL_NAME\")):\n",
    "    if i > 15:\n",
    "        break\n",
    "    if len(g) > 10:\n",
    "        im = plt.scatter(x=g[\"PERMEABILITY\"], y=g[\"POROSITY\"], c=g.xs(n).index)\n",
    "        plt.title('well name: {}'.format(n))\n",
    "        plt.colorbar(label=\"TOP_INTERVAL\")\n",
    "        plt.show()"
   ]
  },
  {
   "cell_type": "code",
   "execution_count": null,
   "metadata": {},
   "outputs": [],
   "source": []
  },
  {
   "cell_type": "code",
   "execution_count": null,
   "metadata": {},
   "outputs": [],
   "source": []
  },
  {
   "cell_type": "code",
   "execution_count": null,
   "metadata": {
    "lines_to_next_cell": 2
   },
   "outputs": [],
   "source": []
  }
 ],
 "metadata": {
  "jupytext": {
   "formats": "ipynb,py"
  },
  "kernelspec": {
   "display_name": "jup3.7.3",
   "language": "python",
   "name": "jup3.7.3"
  }
 },
 "nbformat": 4,
 "nbformat_minor": 4
}
