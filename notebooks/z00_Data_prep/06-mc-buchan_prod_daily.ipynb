{
 "cells": [
  {
   "cell_type": "markdown",
   "metadata": {},
   "source": [
    "From https://data-ogauthority.opendata.arcgis.com/datasets/daily-buchan-production-data\n"
   ]
  },
  {
   "cell_type": "code",
   "execution_count": null,
   "metadata": {},
   "outputs": [],
   "source": [
    "import lasio\n",
    "import matplotlib.pyplot as plt\n",
    "%matplotlib inline\n",
    "import os\n",
    "from tqdm.auto import tqdm\n",
    "import pandas as pd\n",
    "import geopandas as gpd\n",
    "import numpy as np\n",
    "from pathlib import Path"
   ]
  },
  {
   "cell_type": "code",
   "execution_count": null,
   "metadata": {},
   "outputs": [],
   "source": [
    "data_in = Path(\"../../data/raw/daily_buchan_prod_data/\")\n",
    "data_out = Path(\"../../data/processed/daily_buchan_prod_data\")"
   ]
  },
  {
   "cell_type": "markdown",
   "metadata": {},
   "source": [
    "# Load, process"
   ]
  },
  {
   "cell_type": "code",
   "execution_count": null,
   "metadata": {},
   "outputs": [],
   "source": []
  },
  {
   "cell_type": "code",
   "execution_count": null,
   "metadata": {},
   "outputs": [],
   "source": []
  },
  {
   "cell_type": "code",
   "execution_count": null,
   "metadata": {},
   "outputs": [],
   "source": [
    "df = pd.read_csv(data_in / \"Daily_Buchan_Production_Data.csv\")\n",
    "df.index = pd.to_datetime(df[\"DATE_\"])\n",
    "df = df[df[\"PRODUCED_GAS_GAS_MMCF\"] > 0]\n",
    "df = df.drop(columns=[\"DATE_\", \"OBJECTID\"])"
   ]
  },
  {
   "cell_type": "code",
   "execution_count": null,
   "metadata": {},
   "outputs": [],
   "source": [
    "gdf2 = gpd.GeoDataFrame(df, geometry=gpd.points_from_xy(df.X, df.Y), crs=\"EPSG:4230\")\n",
    "data_out.mkdir(parents=True, exist_ok=True)\n",
    "gdf2.to_file(data_out / \"Daily_Buchan_Production_Data.gpkg\", driver=\"GPKG\")\n",
    "gdf2"
   ]
  },
  {
   "cell_type": "code",
   "execution_count": null,
   "metadata": {},
   "outputs": [],
   "source": []
  },
  {
   "cell_type": "markdown",
   "metadata": {},
   "source": [
    "## Load"
   ]
  },
  {
   "cell_type": "code",
   "execution_count": null,
   "metadata": {},
   "outputs": [],
   "source": [
    "gdf = gpd.read_file(data_out / \"Daily_Buchan_Production_Data.gpkg\")\n",
    "gdf.index = pd.to_datetime(gdf[\"DATE_\"])\n",
    "gdf"
   ]
  },
  {
   "cell_type": "code",
   "execution_count": null,
   "metadata": {},
   "outputs": [],
   "source": [
    "for name, df in gdf.groupby(\"WELLID\"):\n",
    "    df[\"DAILY_WELL_DRY_OIL_BBL\"].plot(label=name)\n",
    "plt.title(\"DAILY_WELL_DRY_OIL_BBL\")\n",
    "plt.legend()\n",
    "plt.ylabel(\"DAILY_WELL_DRY_OIL_BBL\")\n",
    "plt.yscale(\"log\")"
   ]
  },
  {
   "cell_type": "code",
   "execution_count": null,
   "metadata": {
    "lines_to_next_cell": 0
   },
   "outputs": [],
   "source": [
    "# aggregate over wells and fields\n",
    "df_field = (\n",
    "    gdf.dropna()\n",
    "    .resample(\"1D\")\n",
    "    .sum()[[\"DAILY_WELL_DRY_OIL_BBL\", \"PRODUCED_GAS_GAS_MMCF\", \"PRODUCED_WATER_BBL\"]]\n",
    ")  # .dropna()\n",
    "\n",
    "df_field[\"DAILY_WELL_DRY_OIL_BBL\"].plot()\n",
    "df_field"
   ]
  },
  {
   "cell_type": "code",
   "execution_count": null,
   "metadata": {},
   "outputs": [],
   "source": []
  },
  {
   "cell_type": "code",
   "execution_count": null,
   "metadata": {},
   "outputs": [],
   "source": []
  },
  {
   "cell_type": "code",
   "execution_count": null,
   "metadata": {
    "lines_to_next_cell": 2
   },
   "outputs": [],
   "source": []
  }
 ],
 "metadata": {
  "jupytext": {
   "formats": "ipynb,py"
  },
  "kernelspec": {
   "display_name": "jup3.7.3",
   "language": "python",
   "name": "jup3.7.3"
  }
 },
 "nbformat": 4,
 "nbformat_minor": 4
}
