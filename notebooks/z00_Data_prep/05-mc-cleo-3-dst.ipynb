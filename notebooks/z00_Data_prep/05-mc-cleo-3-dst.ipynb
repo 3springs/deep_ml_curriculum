{
 "cells": [
  {
   "cell_type": "markdown",
   "metadata": {},
   "source": [
    "Data from NOPIMS, see readme in data dir"
   ]
  },
  {
   "cell_type": "code",
   "execution_count": null,
   "metadata": {},
   "outputs": [],
   "source": [
    "import lasio\n",
    "import matplotlib.pyplot as plt\n",
    "%matplotlib inline\n",
    "import os\n",
    "from tqdm.auto import tqdm\n",
    "import pandas as pd\n",
    "import geopandas as gpd\n",
    "import numpy as np\n",
    "from pathlib import Path"
   ]
  },
  {
   "cell_type": "code",
   "execution_count": null,
   "metadata": {},
   "outputs": [],
   "source": [
    "data_in = Path(\"../../data/raw/cleo3_DST/P00687700/clio_3_dst_gauge_data/\")\n",
    "data_out = Path(\"../../data/processed/cleo3_DST/P00687700/clio_3_dst_gauge_data\")"
   ]
  },
  {
   "cell_type": "code",
   "execution_count": null,
   "metadata": {},
   "outputs": [],
   "source": [
    "def read_tpr(f, header=14, widths=[10 + 12, 12, 12, 9]):\n",
    "    df = pd.read_fwf(f, header=header, widths=widths)\n",
    "    with f.open() as fi:\n",
    "        header = \"\".join([fi.readline() for i in range(header)])\n",
    "\n",
    "    return df, header\n",
    "\n",
    "\n",
    "# extra parsing for this clio3 PSIA files\n",
    "def parse_clio3_tpr(df):\n",
    "    df[\"date\"] = pd.to_datetime(df[\"Date    Hr Min Sec\"])\n",
    "    df_psia = df.set_index(\"date\")[[\"PSIA\"]]\n",
    "    return df_psia"
   ]
  },
  {
   "cell_type": "code",
   "execution_count": null,
   "metadata": {},
   "outputs": [],
   "source": [
    "f = data_in / \"Oculus Tailpipe Gauge 23403 Set Below Seal Assembly-head.TPR\"\n",
    "df, header = read_tpr(f, header=14, widths=[10 + 12, 12, 12, 9])\n",
    "df_psia = parse_clio3_tpr(df)\n",
    "df_psia.plot()\n",
    "df_psia"
   ]
  },
  {
   "cell_type": "code",
   "execution_count": null,
   "metadata": {},
   "outputs": [],
   "source": [
    "f = data_in / \"Oculus Tailpipe Gauge 23403 Set Below Seal Assembly.TPR\"\n",
    "df, header = read_tpr(f, header=14, widths=[10 + 12, 12, 12, 9])\n",
    "df_psia = parse_clio3_tpr(df)\n",
    "df_psia.plot()\n",
    "df_psia"
   ]
  },
  {
   "cell_type": "code",
   "execution_count": null,
   "metadata": {},
   "outputs": [],
   "source": []
  },
  {
   "cell_type": "markdown",
   "metadata": {},
   "source": [
    "# save as parquet"
   ]
  },
  {
   "cell_type": "code",
   "execution_count": null,
   "metadata": {},
   "outputs": [],
   "source": [
    "fo = data_out / (f.stem.replace(\" \", \"_\") + \"PSIA.parquet\")\n",
    "fo.parent.mkdir(parents=True, exist_ok=True)\n",
    "print(\"save to\", fo)\n",
    "df_psia.to_parquet(fo, compression=\"gzip\")"
   ]
  },
  {
   "cell_type": "code",
   "execution_count": null,
   "metadata": {},
   "outputs": [],
   "source": [
    "df_psia = pd.read_parquet(fo)"
   ]
  },
  {
   "cell_type": "code",
   "execution_count": null,
   "metadata": {},
   "outputs": [],
   "source": [
    "# lots of missing intervals\n",
    "df_psia_r = df_psia.resample(\"1T\").mean()\n",
    "df_psia_r.plot()"
   ]
  },
  {
   "cell_type": "code",
   "execution_count": null,
   "metadata": {},
   "outputs": [],
   "source": [
    "# show all intervals with data in\n",
    "for a in pd.date_range(\"2009\", \"2011\", freq=\"7D\"):\n",
    "    d = df_psia_r[a : a + pd.Timedelta(\"7D\")]\n",
    "    d = d.dropna().resample(\"1T\").mean()\n",
    "    if len(d.dropna()) > 10:\n",
    "        d.plot()"
   ]
  },
  {
   "cell_type": "code",
   "execution_count": null,
   "metadata": {},
   "outputs": [],
   "source": []
  },
  {
   "cell_type": "code",
   "execution_count": null,
   "metadata": {
    "lines_to_next_cell": 0
   },
   "outputs": [],
   "source": [
    "# # Work out widths\n",
    "# a='31/07/10 |09:00:03   |125.90083  |6166.8823  |128.6929'\n",
    "# widths=[len(aa)+1 for aa in a.split('|')]\n",
    "# widths"
   ]
  },
  {
   "cell_type": "code",
   "execution_count": null,
   "metadata": {},
   "outputs": [],
   "source": []
  },
  {
   "cell_type": "code",
   "execution_count": null,
   "metadata": {
    "lines_to_next_cell": 2
   },
   "outputs": [],
   "source": []
  }
 ],
 "metadata": {
  "jupytext": {
   "formats": "ipynb,py"
  },
  "kernelspec": {
   "display_name": "jup3.7.3",
   "language": "python",
   "name": "jup3.7.3"
  }
 },
 "nbformat": 4,
 "nbformat_minor": 4
}
