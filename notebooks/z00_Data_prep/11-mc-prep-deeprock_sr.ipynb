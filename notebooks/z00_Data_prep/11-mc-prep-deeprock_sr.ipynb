{
 "cells": [
  {
   "cell_type": "markdown",
   "metadata": {},
   "source": [
    "# DeepRockSR\n",
    "source https://www.digitalrocksportal.org/projects/215\n",
    "\n",
    "## Data Description \n",
    "\n",
    "A Diverse Super Resolution Dataset of Digital Rocks (DeepRockSR): Sandstone, Carbonate, and Coal.\n",
    "\n",
    "This dataset contains an organised and processed collection of greyscale digital rock images for the purpose of image super resolution training. In total, there are 12,000 2D images and 3,000 3D volumes contained in this dataset.\n",
    "\n",
    "Sandstone:\n",
    "\n",
    "Bentheimer Sandstone 1 https://www.digitalrocksportal.org/projects/211\n",
    "Bentheimer Sandstone 2 https://www.digitalrocksportal.org/projects/135\n",
    "Berea Sandstone https://www.digitalrocksportal.org/projects/135\n",
    "Leopard Sandstone https://www.digitalrocksportal.org/projects/135\n",
    "Gildehauser Sandstone https://www.digitalrocksportal.org/projects/134\n",
    "Wilcox Tight Sandstone https://www.digitalrocksportal.org/projects/6\n",
    "\n",
    "Carbonate:\n",
    "\n",
    "Estaillades Carbonate https://www.digitalrocksportal.org/projects/58\n",
    "Savonnieres Carbonate https://www.digitalrocksportal.org/projects/72\n",
    "Massangis Carbonate https://www.digitalrocksportal.org/projects/73\n",
    "\n",
    "Coal:\n",
    "\n",
    "Sheared Coal https://www.digitalrocksportal.org/projects/21\n",
    "Naturally Fractured Coal https://www.digitalrocksportal.org/projects/20\n",
    "\n",
    "\n",
    "The dataset is organised in a similar fashion to the DIV2K dataset : (https://data.vision.ee.ethz.ch/cvl/DIV2K/). To the knowledge of the authors, this dataset is the first of its kind to be used for the purpose of benchmarking Super Resolution algorithms in digital rock images. This dataset has been used thus far to test several Super Resolution Convolutional Neural Networks (SRCNN). Results are described in the Related Publications tab on this page.\n",
    "\n",
    "Please cite both this dataset (use its DOI) as well as the related journal publication.\n",
    "\n",
    "### Data overview:\n",
    "\n",
    "The dataset is divided into:\n",
    "\n",
    "• 2D and 3D folders\n",
    "• Sandstone, Carbonate, and Coal Datasets\n",
    "• Combined shuffled Datasets\n",
    "• High Resolution, 2x and 4x downsampled datasets using the Matlab imresize and imresize3 functions with default settings and randomised settings\n",
    "• 2D HR images measure 500x500, cropped samples from the centre of the original cylindrical images, saved as PNG files\n",
    "• 9600 2D images are available for training, 1200 for validation, and 1200 for testing.\n",
    "• 3D HR volumes measure 100x100x100, cropped from the centre of the original cylindrical images, saved as octave and scipy readable MAT files (each array name is 'temp')\n",
    "• 2400 3D volumes are available for training, 300 for validation, and 300 for testing.\n"
   ]
  },
  {
   "cell_type": "code",
   "execution_count": null,
   "metadata": {},
   "outputs": [],
   "source": [
    "%pylab inline\n",
    "import pandas as pd\n",
    "from tqdm.auto import tqdm\n",
    "from pathlib import Path\n",
    "import lasio\n",
    "from pprint import pprint\n",
    "import PIL\n",
    "import shutil\n",
    "from IPython.display import display"
   ]
  },
  {
   "cell_type": "code",
   "execution_count": null,
   "metadata": {},
   "outputs": [],
   "source": [
    "datadir_in = Path(\"../../data/raw/deep-rock-sr/\")\n",
    "datadir_out = Path(\"../../data/processed/deep-rock-sr/\")"
   ]
  },
  {
   "cell_type": "code",
   "execution_count": null,
   "metadata": {},
   "outputs": [],
   "source": [
    "import torchvision"
   ]
  },
  {
   "cell_type": "code",
   "execution_count": null,
   "metadata": {},
   "outputs": [],
   "source": [
    "sorted(datadir_in.glob(\"**/*train_*\"))"
   ]
  },
  {
   "cell_type": "code",
   "execution_count": null,
   "metadata": {},
   "outputs": [],
   "source": []
  },
  {
   "cell_type": "code",
   "execution_count": null,
   "metadata": {},
   "outputs": [],
   "source": [
    "# data_train = torchvision.datasets.ImageFolder(\n",
    "#     '../../data/raw/deep-rock-sr/DeepRockSR-2D/',\n",
    "#     is_valid_file=lambda f:('train_LR_default_X4' in f) and not ('shuffle' in f)\n",
    "# )\n",
    "\n",
    "# for i in np.random.choice(range(len(data_train)), 10):\n",
    "#     x, y = data_train[i]\n",
    "#     print(dict(i=i, y=y, classname=data_train.classes[y]))\n",
    "#     display(x)"
   ]
  },
  {
   "cell_type": "code",
   "execution_count": null,
   "metadata": {},
   "outputs": [],
   "source": [
    "# copy small dataset to processed folder"
   ]
  },
  {
   "cell_type": "code",
   "execution_count": null,
   "metadata": {},
   "outputs": [],
   "source": [
    "for p in tqdm(sorted(datadir_in.glob(\"**/*LR_default_X4*\"))):\n",
    "    if \"shuffle\" not in p.name:\n",
    "        print(p)\n",
    "        shutil.copytree(p, str(p).replace(\"raw\", \"processed\"))\n",
    "        pass"
   ]
  },
  {
   "cell_type": "markdown",
   "metadata": {},
   "source": [
    "# Load small 2d"
   ]
  },
  {
   "cell_type": "code",
   "execution_count": null,
   "metadata": {},
   "outputs": [],
   "source": [
    "data_train = torchvision.datasets.ImageFolder(\n",
    "    \"../../data/processed/deep-rock-sr/DeepRockSR-2D/\",\n",
    "    is_valid_file=lambda f: (\"train_LR_default_X4\" in f) and not (\"shuffle\" in f),\n",
    ")\n",
    "print(data_train)\n",
    "print(data_train.classes)\n",
    "for i in np.random.choice(range(len(data_train)), 5):\n",
    "    x, y = data_train[i]\n",
    "    print(dict(i=i, y=y, classname=data_train.classes[y]))\n",
    "    display(x)"
   ]
  },
  {
   "cell_type": "markdown",
   "metadata": {},
   "source": [
    "# Load small 3d"
   ]
  },
  {
   "cell_type": "code",
   "execution_count": null,
   "metadata": {
    "lines_to_next_cell": 0
   },
   "outputs": [],
   "source": [
    "import h5py\n",
    "\n",
    "load_mat = lambda f: np.array(h5py.File(f)[\"temp\"])\n",
    "data_train = torchvision.datasets.ImageFolder(\n",
    "    \"../../data/processed/deep-rock-sr/DeepRockSR-3D/\",\n",
    "    loader=load_mat,\n",
    "    is_valid_file=lambda f: (\"train_LR_default_X4\" in f) and not (\"shuffle\" in f),\n",
    ")\n",
    "print(data_train)\n",
    "print(data_train.classes)\n",
    "for i in np.random.choice(range(len(data_train)), 5):\n",
    "    x, y = data_train[i]\n",
    "    print(dict(i=i, y=y, classname=data_train.classes[y]))\n",
    "    plt.subplot(131)\n",
    "    plt.title(\"y-z\")\n",
    "    plt.imshow(x[15, :, :])\n",
    "    plt.subplot(132)\n",
    "    plt.title(\"x-z\")\n",
    "    plt.imshow(x[:, 15])\n",
    "    plt.subplot(133)\n",
    "    plt.title(\"x-y\")\n",
    "    plt.imshow(x[:, :, 15])\n",
    "    plt.show()"
   ]
  },
  {
   "cell_type": "code",
   "execution_count": null,
   "metadata": {},
   "outputs": [],
   "source": []
  },
  {
   "cell_type": "code",
   "execution_count": null,
   "metadata": {
    "lines_to_next_cell": 2
   },
   "outputs": [],
   "source": []
  }
 ],
 "metadata": {
  "jupytext": {
   "encoding": "# -*- coding: utf-8 -*-",
   "formats": "ipynb,py"
  },
  "kernelspec": {
   "display_name": "jup3.7.3",
   "language": "python",
   "name": "jup3.7.3"
  }
 },
 "nbformat": 4,
 "nbformat_minor": 4
}
