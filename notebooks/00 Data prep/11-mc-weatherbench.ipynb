{
 "cells": [
  {
   "cell_type": "markdown",
   "metadata": {
    "ExecuteTime": {
     "end_time": "2020-07-06T01:35:17.624198Z",
     "start_time": "2020-07-06T01:35:17.616788Z"
    }
   },
   "source": [
    "Data from https://github.com/pangeo-data/WeatherBench/blob/master/README.md\n",
    "\n",
    "see https://github.com/pangeo-data/WeatherBench/blob/master/notebooks/3-cnn-example.ipynb"
   ]
  },
  {
   "cell_type": "code",
   "execution_count": 27,
   "metadata": {
    "ExecuteTime": {
     "end_time": "2020-07-11T06:45:57.282037Z",
     "start_time": "2020-07-11T06:45:57.261804Z"
    }
   },
   "outputs": [],
   "source": [
    "import lasio\n",
    "import matplotlib.pyplot as plt\n",
    "%matplotlib inline\n",
    "import os\n",
    "from tqdm.auto import tqdm\n",
    "import pandas as pd\n",
    "import geopandas as gpd\n",
    "import numpy as np\n",
    "import torch\n",
    "from pathlib import Path\n",
    "\n",
    "import numpy as np\n",
    "import matplotlib.pyplot as plt\n",
    "import xarray as xr\n",
    "import seaborn as sns\n",
    "import pickle\n",
    "from collections import OrderedDict"
   ]
  },
  {
   "cell_type": "code",
   "execution_count": 77,
   "metadata": {
    "ExecuteTime": {
     "end_time": "2020-07-11T07:01:29.792112Z",
     "start_time": "2020-07-11T07:01:29.787367Z"
    }
   },
   "outputs": [],
   "source": [
    "data_in = Path('../../data/raw/weatherbench/')\n",
    "data_out = Path('../../data/processed/weatherbench/')"
   ]
  },
  {
   "cell_type": "markdown",
   "metadata": {},
   "source": [
    "# Load data"
   ]
  },
  {
   "cell_type": "code",
   "execution_count": 29,
   "metadata": {
    "ExecuteTime": {
     "end_time": "2020-07-11T06:45:58.444443Z",
     "start_time": "2020-07-11T06:45:58.440789Z"
    }
   },
   "outputs": [],
   "source": []
  },
  {
   "cell_type": "code",
   "execution_count": 30,
   "metadata": {
    "ExecuteTime": {
     "end_time": "2020-07-11T06:45:58.819118Z",
     "start_time": "2020-07-11T06:45:58.809032Z"
    }
   },
   "outputs": [],
   "source": [
    "def load_test_data(path, var, years=slice('2017', '2018')):\n",
    "    \"\"\"\n",
    "    Load the test dataset. If z return z500, if t return t850.\n",
    "    Args:\n",
    "        path: Path to nc files\n",
    "        var: variable. Geopotential = 'z', Temperature = 't'\n",
    "        years: slice for time window\n",
    "    Returns:\n",
    "        dataset: Concatenated dataset for 2017 and 2018\n",
    "    \"\"\"\n",
    "    ds = xr.open_mfdataset(f'{path}/*.nc', combine='by_coords')[var]\n",
    "    if var in ['z', 't']:\n",
    "        try:\n",
    "            ds = ds.sel(level=500 if var == 'z' else 850).drop('level')\n",
    "        except ValueError:\n",
    "            ds = ds.drop('level')\n",
    "    return ds.sel(time=years)"
   ]
  },
  {
   "cell_type": "code",
   "execution_count": null,
   "metadata": {
    "ExecuteTime": {
     "end_time": "2020-07-11T06:25:53.310071Z",
     "start_time": "2020-07-11T06:25:53.303706Z"
    }
   },
   "outputs": [],
   "source": []
  },
  {
   "cell_type": "markdown",
   "metadata": {},
   "source": [
    "# 3D"
   ]
  },
  {
   "cell_type": "code",
   "execution_count": 49,
   "metadata": {
    "ExecuteTime": {
     "end_time": "2020-07-11T06:49:40.908063Z",
     "start_time": "2020-07-11T06:49:40.871144Z"
    }
   },
   "outputs": [],
   "source": [
    "class WorldBench3D(torch.utils.data.Dataset):\n",
    "    def __init__(self, ds, var_dict, lead_time, batch_size=32, shuffle=True, load=True, mean=None, std=None):\n",
    "        \"\"\"\n",
    "        Data generator for WeatherBench data.\n",
    "        Template from https://stanford.edu/~shervine/blog/keras-how-to-generate-data-on-the-fly\n",
    "        Args:\n",
    "            ds: Dataset containing all variables\n",
    "            var_dict: Dictionary of the form {'var': level}. Use None for level if data is of single level\n",
    "            lead_time: Lead time in hours\n",
    "            batch_size: Batch size\n",
    "            shuffle: bool. If True, data is shuffled.\n",
    "            load: bool. If True, datadet is loaded into RAM.\n",
    "            mean: If None, compute mean from data.\n",
    "            std: If None, compute standard deviation from data.\n",
    "        \"\"\"\n",
    "        self.ds = ds\n",
    "        self.var_dict = var_dict\n",
    "        self.batch_size = batch_size\n",
    "        self.shuffle = shuffle\n",
    "        self.lead_time = lead_time\n",
    "\n",
    "        data = []\n",
    "        generic_level = xr.DataArray([1], coords={'level': [1]}, dims=['level'])\n",
    "        for var, levels in var_dict.items():\n",
    "            try:\n",
    "                data.append(ds[var].sel(level=levels))\n",
    "            except ValueError:\n",
    "                data.append(ds[var].expand_dims({'level': generic_level}, 1))\n",
    "\n",
    "        self.data = xr.concat(data, 'level').transpose('time', 'lat', 'lon', 'level')\n",
    "        self.mean = self.data.mean(('time', 'lat', 'lon')).compute() if mean is None else mean\n",
    "        self.std = self.data.std('time').mean(('lat', 'lon')).compute() if std is None else std\n",
    "        # Normalize\n",
    "        self.data = (self.data - self.mean) / self.std\n",
    "        self.n_samples = self.data.isel(time=slice(0, -lead_time)).shape[0]\n",
    "        self.init_time = self.data.isel(time=slice(None, -lead_time)).time\n",
    "        self.valid_time = self.data.isel(time=slice(lead_time, None)).time\n",
    "\n",
    "        self.on_epoch_end()\n",
    "\n",
    "        # For some weird reason calling .load() earlier messes up the mean and std computations\n",
    "        if load: print('Loading data into RAM'); self.data.load()\n",
    "\n",
    "    def __len__(self):\n",
    "        'Denotes the number of batches per epoch'\n",
    "        return int(np.ceil(self.n_samples / self.batch_size))\n",
    "\n",
    "    def __getitem__(self, i):\n",
    "        'Generate one batch of data'\n",
    "        idxs = self.idxs[i * self.batch_size:(i + 1) * self.batch_size]\n",
    "        X = self.data.isel(time=idxs).values\n",
    "        y = self.data.isel(time=idxs + self.lead_time).values\n",
    "        return X, y\n",
    "\n",
    "    def on_epoch_end(self):\n",
    "        'Updates indexes after each epoch'\n",
    "        self.idxs = np.arange(self.n_samples)\n",
    "        if self.shuffle == True:\n",
    "            np.random.shuffle(self.idxs)"
   ]
  },
  {
   "cell_type": "code",
   "execution_count": 124,
   "metadata": {
    "ExecuteTime": {
     "end_time": "2020-07-11T07:12:58.139517Z",
     "start_time": "2020-07-11T07:12:57.856991Z"
    }
   },
   "outputs": [
    {
     "data": {
      "text/plain": [
       "<xarray.Dataset>\n",
       "Dimensions:  (lat: 32, lon: 64, time: 43824)\n",
       "Coordinates:\n",
       "  * time     (time) datetime64[ns] 2014-01-01 ... 2018-12-31T23:00:00\n",
       "    level    int32 500\n",
       "  * lon      (lon) float64 0.0 5.625 11.25 16.88 ... 337.5 343.1 348.8 354.4\n",
       "  * lat      (lat) float64 -87.19 -81.56 -75.94 -70.31 ... 75.94 81.56 87.19\n",
       "Data variables:\n",
       "    z        (time, lat, lon) float32 dask.array<chunksize=(17520, 32, 64), meta=np.ndarray>\n",
       "    t        (time, lat, lon) float32 dask.array<chunksize=(8760, 32, 64), meta=np.ndarray>"
      ]
     },
     "execution_count": 124,
     "metadata": {},
     "output_type": "execute_result"
    }
   ],
   "source": [
    "DATADIR = '../../data/processed/weatherbench/5.625deg'\n",
    "\n",
    "# Load the validation subset of the data: 2017 and 2018\n",
    "z500_valid = load_test_data(f'{DATADIR}/geopotential_500', 'z')\n",
    "t850_valid = load_test_data(f'{DATADIR}/temperature_850', 't')\n",
    "valid = xr.merge([z500_valid, t850_valid])\n",
    "\n",
    "z = xr.open_mfdataset(f'{DATADIR}/geopotential_500/*.nc', combine='by_coords')\n",
    "t = xr.open_mfdataset(f'{DATADIR}/temperature_850/*.nc', combine='by_coords').drop('level')\n",
    "\n",
    "# For the data generator all variables have to be merged into a single dataset.\n",
    "datasets = [z, t]\n",
    "ds = xr.merge(datasets)\n",
    "\n",
    "# In this notebook let's only load a subset of the training data\n",
    "ds_train = ds.sel(time=slice('2015', '2016'))  \n",
    "ds_test = ds.sel(time=slice('2017', '2018'))\n",
    "ds\n"
   ]
  },
  {
   "cell_type": "code",
   "execution_count": null,
   "metadata": {
    "ExecuteTime": {
     "end_time": "2020-07-11T06:28:03.138651Z",
     "start_time": "2020-07-11T06:28:03.116470Z"
    }
   },
   "outputs": [],
   "source": []
  },
  {
   "cell_type": "code",
   "execution_count": 125,
   "metadata": {
    "ExecuteTime": {
     "end_time": "2020-07-11T07:13:21.029849Z",
     "start_time": "2020-07-11T07:13:08.378493Z"
    }
   },
   "outputs": [
    {
     "name": "stdout",
     "output_type": "stream",
     "text": [
      "Loading data into RAM\n",
      "Loading data into RAM\n",
      "<xarray.DataArray 'z' (level: 2)>\n",
      "array([54124.863,   274.798], dtype=float32)\n",
      "Coordinates:\n",
      "  * level    (level) int64 500 500 <xarray.DataArray 'z' (level: 2)>\n",
      "array([1110.2052   ,    5.6419535], dtype=float32)\n",
      "Coordinates:\n",
      "  * level    (level) int64 500 500\n",
      "Loading data into RAM\n",
      "(32, 32, 64, 2) (32, 32, 64, 2)\n"
     ]
    },
    {
     "data": {
      "text/plain": [
       "<xarray.Dataset>\n",
       "Dimensions:  (lat: 32, lon: 64, time: 43824)\n",
       "Coordinates:\n",
       "  * time     (time) datetime64[ns] 2014-01-01 ... 2018-12-31T23:00:00\n",
       "    level    int32 500\n",
       "  * lon      (lon) float64 0.0 5.625 11.25 16.88 ... 337.5 343.1 348.8 354.4\n",
       "  * lat      (lat) float64 -87.19 -81.56 -75.94 -70.31 ... 75.94 81.56 87.19\n",
       "Data variables:\n",
       "    z        (time, lat, lon) float32 dask.array<chunksize=(17520, 32, 64), meta=np.ndarray>\n",
       "    t        (time, lat, lon) float32 dask.array<chunksize=(8760, 32, 64), meta=np.ndarray>"
      ]
     },
     "execution_count": 125,
     "metadata": {},
     "output_type": "execute_result"
    }
   ],
   "source": [
    "# then we need a dictionary for all the variables and levels we want to extract from the dataset\n",
    "dic = OrderedDict({'z': None, 't': None})\n",
    "\n",
    "bs=32\n",
    "lead_time=6\n",
    "# Create a training and validation data generator. Use the train mean and std for validation as well.\n",
    "dg_train = WorldBench3D(\n",
    "    ds_train.sel(time=slice('2015', '2015')), dic, lead_time, batch_size=bs, load=True)\n",
    "dg_valid = WorldBench3D(\n",
    "    ds_train.sel(time=slice('2016', '2016')), dic, lead_time, batch_size=bs, mean=dg_train.mean, std=dg_train.std, shuffle=False)\n",
    "\n",
    "\n",
    "print(dg_train.mean, dg_train.std)\n",
    "\n",
    "# Now also a generator for testing. Impartant: Shuffle must be False!\n",
    "dg_test = WorldBench3D(ds_test, dic, lead_time, batch_size=bs, mean=dg_train.mean, std=dg_train.std, shuffle=False)\n",
    "x, y = dg_test[0]\n",
    "print(x.shape, y.shape)\n",
    "\n",
    "ds"
   ]
  },
  {
   "cell_type": "code",
   "execution_count": 126,
   "metadata": {
    "ExecuteTime": {
     "end_time": "2020-07-11T07:13:21.506102Z",
     "start_time": "2020-07-11T07:13:21.033013Z"
    }
   },
   "outputs": [
    {
     "data": {
      "text/plain": [
       "<matplotlib.collections.QuadMesh at 0x7f556755a8d0>"
      ]
     },
     "execution_count": 126,
     "metadata": {},
     "output_type": "execute_result"
    },
    {
     "data": {
      "image/png": "[encoded data removed]",
      "text/plain": [
       "<Figure size 432x288 with 2 Axes>"
      ]
     },
     "metadata": {
      "needs_background": "light"
     },
     "output_type": "display_data"
    }
   ],
   "source": [
    "ds_train.isel(time=100)['t'].plot()"
   ]
  },
  {
   "cell_type": "code",
   "execution_count": 129,
   "metadata": {
    "ExecuteTime": {
     "end_time": "2020-07-11T07:13:30.110300Z",
     "start_time": "2020-07-11T07:13:29.031322Z"
    }
   },
   "outputs": [
    {
     "data": {
      "text/plain": [
       "<matplotlib.collections.QuadMesh at 0x7f55675bdb70>"
      ]
     },
     "execution_count": 129,
     "metadata": {},
     "output_type": "execute_result"
    },
    {
     "data": {
      "image/png": "[encoded data removed]",
      "text/plain": [
       "<Figure size 432x288 with 2 Axes>"
      ]
     },
     "metadata": {
      "needs_background": "light"
     },
     "output_type": "display_data"
    }
   ],
   "source": [
    "ds_train.isel(time=4200)['z'].plot()"
   ]
  },
  {
   "cell_type": "markdown",
   "metadata": {},
   "source": [
    "# process 1d"
   ]
  },
  {
   "cell_type": "code",
   "execution_count": 79,
   "metadata": {
    "ExecuteTime": {
     "end_time": "2020-07-11T07:02:29.140486Z",
     "start_time": "2020-07-11T07:02:25.336444Z"
    }
   },
   "outputs": [
    {
     "data": {
      "text/plain": [
       "PosixPath('../../data/processed/weatherbench/perth_5.625deg_z_t.nc')"
      ]
     },
     "execution_count": 79,
     "metadata": {},
     "output_type": "execute_result"
    }
   ],
   "source": [
    "# Make smaller 1d ds\n",
    "DATADIR = data_in/'5.625deg'\n",
    "\n",
    "# Load the validation subset of the data: 2017 and 2018\n",
    "z500_valid = load_test_data(f'{DATADIR}/geopotential_500', 'z')\n",
    "t850_valid = load_test_data(f'{DATADIR}/temperature_850', 't')\n",
    "valid = xr.merge([z500_valid, t850_valid]).isel()\n",
    "\n",
    "\n",
    "z = xr.open_mfdataset(f'{DATADIR}/geopotential_500/*.nc', combine='by_coords')\n",
    "t = xr.open_mfdataset(f'{DATADIR}/temperature_850/*.nc', combine='by_coords').drop('level')\n",
    "\n",
    "# For the data generator all variables have to be merged into a single dataset.\n",
    "datasets = [z, t]\n",
    "\n",
    "# Choose grid cell Inland of Perth 31.9505° S, 115.8605° E\n",
    "# https://www.google.com/maps/@-31.9784233,118.1256945,10.25z\n",
    "ds_perth = xr.merge(datasets).sel(lat=-30.9375, lon=118.125)\n",
    "\n",
    "# In this notebook let's only load a subset of the training data\n",
    "ds_train_perth = ds_perth#.sel(time=slice('2015', '2016'))  \n",
    "ds_test_perth = ds_perth#.sel(time=slice('2017', '2018'))\n",
    "ds_perth\n",
    "\n",
    "\n",
    "data_out.mkdir(exist_ok=True)\n",
    "ds_perth.to_netcdf(data_out/'perth_5.625deg_z_t.nc')\n",
    "data_out/'perth_5.625deg_z_t.nc'"
   ]
  },
  {
   "cell_type": "code",
   "execution_count": 104,
   "metadata": {
    "ExecuteTime": {
     "end_time": "2020-07-11T07:09:30.332845Z",
     "start_time": "2020-07-11T07:09:30.328956Z"
    }
   },
   "outputs": [],
   "source": [
    "# load 1d"
   ]
  },
  {
   "cell_type": "code",
   "execution_count": null,
   "metadata": {},
   "outputs": [],
   "source": []
  },
  {
   "cell_type": "code",
   "execution_count": 95,
   "metadata": {
    "ExecuteTime": {
     "end_time": "2020-07-11T07:07:58.966279Z",
     "start_time": "2020-07-11T07:07:58.932464Z"
    }
   },
   "outputs": [],
   "source": [
    "class WorldBench1D(torch.utils.data.Dataset):\n",
    "    def __init__(self, ds, var_dict, lead_time, batch_size=32, shuffle=True, load=True, mean=None, std=None):\n",
    "        \"\"\"\n",
    "        Data generator for WeatherBench data.\n",
    "        Template from https://stanford.edu/~shervine/blog/keras-how-to-generate-data-on-the-fly\n",
    "        Args:\n",
    "            ds: Dataset containing all variables\n",
    "            var_dict: Dictionary of the form {'var': level}. Use None for level if data is of single level\n",
    "            lead_time: Lead time in hours\n",
    "            batch_size: Batch size\n",
    "            shuffle: bool. If True, data is shuffled.\n",
    "            load: bool. If True, datadet is loaded into RAM.\n",
    "            mean: If None, compute mean from data.\n",
    "            std: If None, compute standard deviation from data.\n",
    "        \"\"\"\n",
    "        self.ds = ds\n",
    "        self.var_dict = var_dict\n",
    "        self.batch_size = batch_size\n",
    "        self.shuffle = shuffle\n",
    "        self.lead_time = lead_time\n",
    "\n",
    "        data = []\n",
    "        generic_level = xr.DataArray([1], coords={'level': [1]}, dims=['level'])\n",
    "        for var, levels in var_dict.items():\n",
    "            try:\n",
    "                data.append(ds[var].sel(level=levels))\n",
    "            except ValueError:\n",
    "                data.append(ds[var].expand_dims({'level': generic_level}, 1))\n",
    "\n",
    "        self.data = xr.concat(data, 'level').transpose('time', 'level')\n",
    "        self.mean = self.data.mean(('time')).compute() if mean is None else mean\n",
    "        self.std = self.data.std('time').compute() if std is None else std\n",
    "        # Normalize\n",
    "        self.data = (self.data - self.mean) / self.std\n",
    "        self.n_samples = self.data.isel(time=slice(0, -lead_time)).shape[0]\n",
    "        self.init_time = self.data.isel(time=slice(None, -lead_time)).time\n",
    "        self.valid_time = self.data.isel(time=slice(lead_time, None)).time\n",
    "\n",
    "        self.on_epoch_end()\n",
    "\n",
    "        # For some weird reason calling .load() earlier messes up the mean and std computations\n",
    "        if load: print('Loading data into RAM'); self.data.load()\n",
    "\n",
    "    def __len__(self):\n",
    "        'Denotes the number of batches per epoch'\n",
    "        return int(np.ceil(self.n_samples / self.batch_size))\n",
    "\n",
    "    def __getitem__(self, i):\n",
    "        'Generate one batch of data'\n",
    "        idxs = self.idxs[i * self.batch_size:(i + 1) * self.batch_size]\n",
    "        X = self.data.isel(time=idxs).values\n",
    "        y = self.data.isel(time=idxs + self.lead_time).values\n",
    "        return X, y\n",
    "\n",
    "    def on_epoch_end(self):\n",
    "        'Updates indexes after each epoch'\n",
    "        self.idxs = np.arange(self.n_samples)\n",
    "        if self.shuffle == True:\n",
    "            np.random.shuffle(self.idxs)"
   ]
  },
  {
   "cell_type": "code",
   "execution_count": null,
   "metadata": {
    "ExecuteTime": {
     "end_time": "2020-07-11T07:03:58.360440Z",
     "start_time": "2020-07-11T07:03:58.316510Z"
    }
   },
   "outputs": [],
   "source": []
  },
  {
   "cell_type": "code",
   "execution_count": 105,
   "metadata": {
    "ExecuteTime": {
     "end_time": "2020-07-11T07:09:38.086219Z",
     "start_time": "2020-07-11T07:09:37.859818Z"
    }
   },
   "outputs": [
    {
     "name": "stdout",
     "output_type": "stream",
     "text": [
      "Loading data into RAM\n",
      "Loading data into RAM\n",
      "<xarray.DataArray 'z' (level: 2)>\n",
      "array([56457.01   ,   284.57483], dtype=float32)\n",
      "Coordinates:\n",
      "  * level    (level) int64 500 500 <xarray.DataArray 'z' (level: 2)>\n",
      "array([820.21606 ,   6.512574], dtype=float32)\n",
      "Coordinates:\n",
      "  * level    (level) int64 500 500\n",
      "Loading data into RAM\n",
      "(32, 2) (32, 2)\n"
     ]
    },
    {
     "data": {
      "text/plain": [
       "<xarray.Dataset>\n",
       "Dimensions:  (time: 350640)\n",
       "Coordinates:\n",
       "    level    int32 ...\n",
       "  * time     (time) datetime64[ns] 1979-01-01 ... 2018-12-31T23:00:00\n",
       "Data variables:\n",
       "    z        (time) float32 ...\n",
       "    t        (time) float32 ..."
      ]
     },
     "execution_count": 105,
     "metadata": {},
     "output_type": "execute_result"
    }
   ],
   "source": [
    "DATADIR = data_out/'5.625deg'\n",
    "\n",
    "ds_perth = xr.open_dataset('../../data/processed/weatherbench/perth_5.625deg_z_t.nc').drop(['lon', 'lat'])\n",
    "# In this notebook let's only load a subset of the training data\n",
    "ds_train_perth = ds_perth.sel(time=slice('1900', '2016'))  \n",
    "ds_test_perth = ds_perth.sel(time=slice('2017', '2018'))\n",
    "\n",
    "# then we need a dictionary for all the variables and levels we want to extract from the dataset\n",
    "dic = OrderedDict({'z': None, 't': None})\n",
    "\n",
    "bs=32\n",
    "lead_time=6\n",
    "# Create a training and validation data generator. Use the train mean and std for validation as well.\n",
    "dg_train = WorldBench1D(\n",
    "    ds_train_perth.sel(time=slice('1900', '2015')), dic, lead_time, batch_size=bs, load=True)\n",
    "dg_valid = WorldBench1D(\n",
    "    ds_train_perth.sel(time=slice('2016', '2016')), dic, lead_time, batch_size=bs, mean=dg_train.mean, std=dg_train.std, shuffle=False)\n",
    "\n",
    "\n",
    "print(dg_train.mean, dg_train.std)\n",
    "\n",
    "# Now also a generator for testing. Impartant: Shuffle must be False!\n",
    "dg_test = WorldBench1D(ds_test_perth, dic, lead_time, batch_size=bs, mean=dg_train.mean, std=dg_train.std, shuffle=False)\n",
    "x, y = dg_test[0]\n",
    "print(x.shape, y.shape)\n",
    "\n",
    "ds_perth"
   ]
  },
  {
   "cell_type": "code",
   "execution_count": 132,
   "metadata": {
    "ExecuteTime": {
     "end_time": "2020-07-11T07:14:12.144430Z",
     "start_time": "2020-07-11T07:14:11.512756Z"
    }
   },
   "outputs": [
    {
     "data": {
      "image/png": "[encoded data removed]",
      "text/plain": [
       "<Figure size 432x288 with 1 Axes>"
      ]
     },
     "metadata": {
      "needs_background": "light"
     },
     "output_type": "display_data"
    },
    {
     "data": {
      "text/plain": [
       "[<matplotlib.lines.Line2D at 0x7f556690e080>]"
      ]
     },
     "execution_count": 132,
     "metadata": {},
     "output_type": "execute_result"
    },
    {
     "data": {
      "image/png": "[encoded data removed]",
      "text/plain": [
       "<Figure size 432x288 with 1 Axes>"
      ]
     },
     "metadata": {
      "needs_background": "light"
     },
     "output_type": "display_data"
    }
   ],
   "source": [
    "ds_perth.sel(time=slice('2015','2015-03'))['z'].plot()\n",
    "plt.show()\n",
    "ds_perth.sel(time=slice('2015','2015-03'))['t'].plot()"
   ]
  },
  {
   "cell_type": "code",
   "execution_count": null,
   "metadata": {
    "ExecuteTime": {
     "end_time": "2020-07-11T07:01:38.843637Z",
     "start_time": "2020-07-11T07:01:36.948188Z"
    }
   },
   "outputs": [],
   "source": []
  },
  {
   "cell_type": "code",
   "execution_count": null,
   "metadata": {
    "ExecuteTime": {
     "end_time": "2020-07-11T07:08:55.415379Z",
     "start_time": "2020-07-11T07:08:55.283544Z"
    }
   },
   "outputs": [],
   "source": []
  },
  {
   "cell_type": "code",
   "execution_count": null,
   "metadata": {},
   "outputs": [],
   "source": []
  }
 ],
 "metadata": {
  "kernelspec": {
   "display_name": "jup3.7.3",
   "language": "python",
   "name": "jup3.7.3"
  },
  "language_info": {
   "codemirror_mode": {
    "name": "ipython",
    "version": 3
   },
   "file_extension": ".py",
   "mimetype": "text/x-python",
   "name": "python",
   "nbconvert_exporter": "python",
   "pygments_lexer": "ipython3",
   "version": "3.7.3"
  },
  "toc": {
   "base_numbering": 1,
   "nav_menu": {},
   "number_sections": true,
   "sideBar": true,
   "skip_h1_title": false,
   "title_cell": "Table of Contents",
   "title_sidebar": "Contents",
   "toc_cell": false,
   "toc_position": {
    "height": "calc(100% - 180px)",
    "left": "10px",
    "top": "150px",
    "width": "349.078px"
   },
   "toc_section_display": true,
   "toc_window_display": true
  }
 },
 "nbformat": 4,
 "nbformat_minor": 2
}
